{
 "cells": [
  {
   "cell_type": "code",
   "execution_count": 27,
   "id": "de15fa7d",
   "metadata": {},
   "outputs": [
    {
     "data": {
      "application/javascript": [
       "IPython.OutputArea.prototype._should_scroll = function(lines) {\n",
       "    return false;\n",
       "}\n"
      ],
      "text/plain": [
       "<IPython.core.display.Javascript object>"
      ]
     },
     "metadata": {},
     "output_type": "display_data"
    }
   ],
   "source": [
    "%%javascript\n",
    "IPython.OutputArea.prototype._should_scroll = function(lines) {\n",
    "    return false;\n",
    "}"
   ]
  },
  {
   "cell_type": "markdown",
   "id": "8c9580c2",
   "metadata": {},
   "source": [
    "## Import Libraries"
   ]
  },
  {
   "cell_type": "code",
   "execution_count": 28,
   "id": "1731c502",
   "metadata": {},
   "outputs": [],
   "source": [
    "import yfinance as yf\n",
    "import pandas as pd\n",
    "import numpy as np\n",
    "import sys\n",
    "import warnings\n",
    "import plotly.express as px\n",
    "import matplotlib.dates as mdates\n",
    "import matplotlib.pyplot as plt\n",
    "\n",
    "from math import ceil, floor\n",
    "from plotly.subplots import make_subplots\n",
    "from datetime import date, datetime, timedelta\n",
    "from sklearn import preprocessing\n",
    "from sklearn import linear_model\n",
    "from sklearn.model_selection import train_test_split\n",
    "from sklearn.model_selection import RepeatedKFold\n",
    "from sklearn.linear_model import ElasticNet\n",
    "from sklearn.pipeline import Pipeline\n",
    "from sklearn.model_selection import GridSearchCV\n",
    "from sklearn.ensemble import RandomForestRegressor\n",
    "from sklearn.neighbors import KNeighborsRegressor\n",
    "from plotnine import *\n",
    "from sklearn.metrics import make_scorer, mean_squared_error\n",
    "# from plotly.tools import mpl_to_plotly as ggplotly\n",
    "\n",
    "\n",
    "SEED = 3234\n",
    "CROSS_FOLDS = 10\n",
    "OPTIMIZATION_RANDOM_FOREST_ITER = 15000\n",
    "OPTIMIZATION_RANDOM_FOREST_TREES = 300\n",
    "PERFORMANCE_METRIC = \"r2\""
   ]
  },
  {
   "cell_type": "markdown",
   "id": "2a16b749",
   "metadata": {},
   "source": [
    "## Add Data Wrappers"
   ]
  },
  {
   "cell_type": "code",
   "execution_count": 29,
   "id": "eded60f9",
   "metadata": {},
   "outputs": [],
   "source": [
    "class StockDataWrapper:\n",
    "    \"\"\"\n",
    "    A wrapper class to bundle stock data (stored in a pandas DataFrame) together with information\n",
    "    about how the data was collected (such as what the time frame is between two data points)\n",
    "\n",
    "    A StockDataWrapper class at the minimum requires a pandas DataFrame (the primary object we are \n",
    "    interested in wrapping) as well as the respective stock symbol passed as a string so that we are\n",
    "    able to easily refer to the specific stock in later formatting. \n",
    "    \n",
    "        IMPORTANT: It is expected that the lag_lengthand num_days are set whenever the stock data is\n",
    "                loaded into the data_frame object\n",
    "    \n",
    "    Certain variables must be set (either from user input or a configuration file) prior to calling\n",
    "    a handful of methods. Specifically, the lag length must be set prior to calling any functions which\n",
    "    utilize prior data (e.g. MACD, simple_moving_average, exponential_moving_average, etc.)\n",
    "    \n",
    "    \n",
    "    Attributes:\n",
    "        data_frame:    A pandas DataFrame object containing stocks data such as Open, Close,\n",
    "            Volume, High, Low, etc.\n",
    "            \n",
    "        stock_symbol:   A string representing the stock's symbol (i.e. AAPL for Apple)\n",
    "        \n",
    "        granularity:    The time interval between two data points [1m, 2m, 5m, 15m, 30m, 1h]\n",
    "        \n",
    "        num_days:    The number of days of stock data that have been pulled \n",
    "        \n",
    "        lag_length:    The number of previous data points that are availible to use for computations\n",
    "            (such as moving averages)\n",
    "    \"\"\"\n",
    "    \n",
    "\n",
    "    def __init__(self, data_frame, stock_symbol):\n",
    "        \"\"\"\n",
    "        Initializes the instance based on a pandas DataFrame.\n",
    "\n",
    "        Args:\n",
    "            data_frame: a pandas DataFrame object\n",
    "            stock_symbol: a string representing the stock's symbol (i.e. AAPL for Apple)\n",
    "        Raises:\n",
    "            ValueError: if one of the arguments is not the specified data type\n",
    "        \"\"\"\n",
    "        \n",
    "        #################\n",
    "        #  ERROR HANDLING\n",
    "        #################\n",
    "        if not isinstance(data_frame, pd.DataFrame):\n",
    "            raise ValueError(\"data_frame must be a pandas DataFrame object\")\n",
    "        if not isinstance(stock_symbol, str):\n",
    "            raise ValueError(\"stock_symbol must be a string\")\n",
    "            \n",
    "        self.data_frame = data_frame\n",
    "        self.stock_symbol = stock_symbol\n",
    "        # granularity and num_days should be set \n",
    "        self.granularity = 0\n",
    "        self.num_days = 0\n",
    "        self.lag_length = 0\n",
    "\n",
    "    def __str__(self):\n",
    "        \"\"\"\n",
    "        Indicataes how to represent a StockDataWrapper object when\n",
    "        passed as a string to print\n",
    "        \n",
    "        Returns:\n",
    "            String concatenating the __str__ of the pandas DataFrame together with\n",
    "            information on the StockDataWrapper's Varaibles\n",
    "        \"\"\"\n",
    "        my_str = f'Stock Name: {self.stock_symbol}\\n'\n",
    "        \n",
    "        # Check whether several variables have been set\n",
    "        if self.granularity == 0:\n",
    "            my_str += \"Granularity: NOT SET\\n\"\n",
    "        else:\n",
    "            my_str += f\"Granularity: {self.granularity}\\n\"\n",
    "        \n",
    "        if self.num_days == 0:\n",
    "            my_str += \"Number of days of stock data: NOT SET\\n\"\n",
    "        else:\n",
    "            my_str += f\"Number of days of stock data: {self.num_days}\\n\"\n",
    "        \n",
    "        if self.lag_length == 0:\n",
    "            my_str += \"Number of lag variables: NOT SET\\n\"\n",
    "        else:\n",
    "            my_str += f\"Number of lag variables: {self.lag_length}\\n\"\n",
    "        \n",
    "        \n",
    "        # Call the underlying Pandas DataFrame object's __str__\n",
    "        my_str += \"\\n\\n\"\n",
    "        my_str += str(self.data_frame)\n",
    "\n",
    "        return my_str\n",
    "    \n",
    "    \n",
    "    \n",
    "    def add_lag_variables(self, num_lags):\n",
    "        \"\"\"\n",
    "        Adds precisely num_lags lag variables to the underlying data frame. \n",
    "        The lag variables are simply additional columns where the entries are shifted\n",
    "        up in time index.\n",
    "        \n",
    "            WARNING: A large number of lag variables can lead to fragmentation in the \n",
    "                DataFrame\n",
    "        \n",
    "        The (column) names of the lag variables that are added are of the form:\n",
    "                            Close_L#\n",
    "        where # is how far back that particular lag variable is looking.\n",
    "\n",
    "        Args:\n",
    "            num_lags: the number of lag variables we wish to add\n",
    "        Raises:\n",
    "            ValueError: if num_lags is not an integer or is larger than the number of\n",
    "                observations or is negative\n",
    "        \"\"\"\n",
    "        \n",
    "        #################\n",
    "        #  ERROR HANDLING\n",
    "        #################\n",
    "        if not isinstance(num_lags, int):\n",
    "            raise ValueError(\"Parameter length must be integer\")\n",
    "        if num_lags < 1 or num_lags >= self.data_frame.shape[0]:\n",
    "            raise ValueError(\"The number of lag variables must be between\" +\n",
    "                            \" 1 and the total number of observations\")\n",
    "\n",
    "        for i in range(1,num_lags + 1):\n",
    "            index_str = \"Close_L\" + str(i)\n",
    "            self.data_frame[index_str] = self.data_frame['Close'].shift(i)\n",
    "\n",
    "        # Backfill the entries to remove any NaN\n",
    "        self.data_frame = self.data_frame.bfill(axis=0)\n",
    "        \n",
    "    \n",
    "    def delete_lag_variables(self):\n",
    "        \"\"\"\n",
    "        Removes any possible lag variables from the Data_Frame. This method\n",
    "        implicitly assumes that all lag variables follow the naming convention\n",
    "        \n",
    "                        Close_L#\n",
    "                        \n",
    "        where # is how far back that particular lag variable is looking.\n",
    "        \"\"\"\n",
    "        existing_lag_names = list(self.data_frame.filter(regex='Close_L'))\n",
    "        \n",
    "        if (len(existing_lag_names) > 0):  \n",
    "            self.data_frame = self.data_frame[\n",
    "                self.data_frame.columns.drop(existing_lag_names)\n",
    "            ]\n",
    "            # Reset lag_length so that other methods know not to compute\n",
    "            # data from lag variables\n",
    "            self.lag_length = 0\n",
    "    \n",
    "    def add_simple_moving_average(self, length):\n",
    "        \"\"\"\n",
    "        Computes the simple moving average of the stock's closing price (i.e.\n",
    "        the mean of the first 'length number' of lag variables) and adds it to a\n",
    "        new column in our pandas DataFrame. The column that is added follows\n",
    "        the naming convention:\n",
    "        \n",
    "                            SMA_(length)\n",
    "                            \n",
    "        where length is the parameter passed.\n",
    "\n",
    "        Args:\n",
    "            length: the number of days to take the simple moving average \n",
    "                over (equivalently, the number of lag variables we are considering)\n",
    "        Raises:\n",
    "            ValueError: if length is not an integer or is larger than the number of\n",
    "                lag variables availible\n",
    "            NameError: if lag_length has not been set yet (i.e. no lag variables have\n",
    "                been added)\n",
    "        \"\"\"\n",
    "        \n",
    "        #################\n",
    "        #  ERROR HANDLING\n",
    "        #################\n",
    "        if not isinstance(length, int):\n",
    "            raise ValueError(\"Parameter length must be integer\")\n",
    "        if self.lag_length == 0:\n",
    "            raise NameError(\"Lag variables must be set prior to adding simple moving average\")\n",
    "        if length > self.lag_length:\n",
    "            raise ValueError(\"Cannot take the average of more lag varaibles than are availible\" + \n",
    "                  f\" (currently {self.lag_length})\\n\")\n",
    "\n",
    "        # Gather the column names that we wish to take the average over\n",
    "        lag_predictors = []\n",
    "        for i in range(1, length + 1):\n",
    "            lag_name = 'Close_L' + str(i)\n",
    "            lag_predictors.append(lag_name)\n",
    "\n",
    "        # Add new column to data frame\n",
    "        column_label = \"SMA_\"  + str(length)\n",
    "        self.data_frame[column_label] = (self.data_frame[lag_predictors].sum(axis = 1,\n",
    "                                                                             skipna = True) / float(length))\n",
    "\n",
    "    \n",
    "    def add_simple_moving_standard_deviation(self, length):\n",
    "        \"\"\"\n",
    "        Computes the simple moving standard deviation of the stock's closing\n",
    "        price (i.e. the standard deviation of the first 'length number' of lag variables)\n",
    "        and adds it to a new column in our pandas DataFrame. The column that is added follows\n",
    "        the naming convention:\n",
    "        \n",
    "                            SMSD_(length)\n",
    "                            \n",
    "        where length is the parameter passed.\n",
    "\n",
    "        Args:\n",
    "            length: the number of days to take the simple moving standard deviation \n",
    "                over (equivalently, the number of lag variables we are considering)\n",
    "        Raises:\n",
    "            ValueError: if length is not an integer or is larger than the number of\n",
    "                lag variables availible\n",
    "            NameError: if lag_length has not been set yet (i.e. no lag variables have\n",
    "                been added)\n",
    "        \"\"\"\n",
    "        \n",
    "        #################\n",
    "        #  ERROR HANDLING\n",
    "        #################\n",
    "        if not isinstance(length, int):\n",
    "            raise ValueError(\"Parameter length must be integer\")\n",
    "        if self.lag_length == 0:\n",
    "            raise NameError(\"Lag variables must be set prior to adding simple moving average\")\n",
    "        if length > self.lag_length:\n",
    "            raise ValueError(\"Cannot take the average of more lag varaibles than are availible\" + \n",
    "                  f\" (currently {self.lag_length})\\n\")\n",
    "        \n",
    "        # Gather the column names that we wish to take the average over\n",
    "        lag_predictors = []\n",
    "        for i in range(1, length + 1):\n",
    "            lag_name = 'Close_L' + str(i)\n",
    "            lag_predictors.append(lag_name)\n",
    "            \n",
    "        # Add new column to data frame\n",
    "        column_label = \"SMSD_\"  + str(length)\n",
    "        self.data_frame[column_label] = self.data_frame[lag_predictors].std(axis = 1, skipna = True)\n",
    "          \n",
    "        \n",
    "    def add_upper_bollinger(self, length):\n",
    "        \"\"\"\n",
    "        Computes the upper Bollinger band of the stock's closing price, which is just the\n",
    "        simple moving average + the simple moving standard deviation and adds it to a new\n",
    "        column in our pandas DataFrame. The column that is added follows the naming convention:\n",
    "        \n",
    "                            upper_boll_(length)\n",
    "                            \n",
    "        where length is the parameter passed.\n",
    "\n",
    "        Args:\n",
    "            length: the number of days to take the bollinger band over \n",
    "                (equivalently, the number of lag variables we are considering)\n",
    "        Raises:\n",
    "            ValueError: if length is not an integer or is larger than the number of\n",
    "                lag variables availible\n",
    "            NameError: if lag_length has not been set yet (i.e. no lag variables have\n",
    "                been added)\n",
    "        \"\"\"\n",
    "        \n",
    "        #################\n",
    "        #  ERROR HANDLING\n",
    "        #################\n",
    "        if not isinstance(length, int):\n",
    "            raise ValueError(\"Parameter length must be integer\")\n",
    "        if self.lag_length == 0:\n",
    "            raise NameError(\"Lag variables must be set prior to adding simple moving average\")\n",
    "        if length > self.lag_length:\n",
    "            raise ValueError(\"Cannot take the average of more lag varaibles than are availible\" + \n",
    "                  f\" (currently {self.lag_length})\\n\")\n",
    "\n",
    "        SMSD_string = \"SMSD_\" + str(length)\n",
    "        SMA_string = \"SMA_\" + str(length)\n",
    "        \n",
    "        # Ensure that both the simple moving average data and\n",
    "        # the simple moving standard deviation data are availible in \n",
    "        # DataFrame\n",
    "        if SMSD_string not in self.data_frame.columns:\n",
    "            self.add_simple_moving_standard_deviation(length)\n",
    "        if SMA_string not in self.data_frame.columns:\n",
    "            self.add_simple_moving_average(length)\n",
    "\n",
    "        # Add new column to data frame\n",
    "        upper_bollinger_str = \"upper_boll_\" + str(length)\n",
    "        self.data_frame[upper_bollinger_str] = self.data_frame[SMA_string] + self.data_frame[SMSD_string]\n",
    "        \n",
    "        \n",
    "    def add_lower_bollinger(self, length):\n",
    "        \"\"\"\n",
    "        Computes the lower Bollinger band of the stock's closing price, which is just the \n",
    "        simple moving average + the simple moving standard deviation and adds it to a new\n",
    "        column in our pandas DataFrame. The column that is added follows the naming convention:\n",
    "        \n",
    "                            lower_boll_(length)\n",
    "                            \n",
    "        where length is the parameter passed.\n",
    "\n",
    "        Args:\n",
    "            length: the number of days to take the bollinger band over \n",
    "                (equivalently, the number of lag variables we are considering)\n",
    "        Raises:\n",
    "            ValueError: if length is not an integer or is larger than the number of\n",
    "                lag variables availible\n",
    "            NameError: if lag_length has not been set yet (i.e. no lag variables have\n",
    "                been added)\n",
    "        \"\"\"\n",
    "    \n",
    "        #################\n",
    "        #  ERROR HANDLING\n",
    "        #################\n",
    "        if not isinstance(length, int):\n",
    "            raise ValueError(\"Parameter length must be integer\")\n",
    "        if self.lag_length == 0:\n",
    "            raise NameError(\"Lag variables must be set prior to adding simple moving average\")\n",
    "        if length > self.lag_length:\n",
    "            raise ValueError(\"Cannot take the average of more lag varaibles than are availible\" + \n",
    "                  f\" (currently {self.lag_length})\\n\")\n",
    "\n",
    "        SMSD_string = \"SMSD_\" + str(length)\n",
    "        SMA_string = \"SMA_\" + str(length)\n",
    "        \n",
    "        # Ensure that both the simple moving average data and\n",
    "        # the simple moving standard deviation data are availible in \n",
    "        # DataFrame\n",
    "        if SMSD_string not in self.data_frame.columns:\n",
    "            self.add_simple_moving_standard_deviation(length)\n",
    "        if SMA_string not in self.data_frame.columns:\n",
    "            self.add_simple_moving_average(length)\n",
    "\n",
    "        # Add new column to data frame\n",
    "        lower_bollinger_str = \"lower_boll_\" + str(length)\n",
    "        self.data_frame[lower_bollinger_str] = self.data_frame[SMA_string] - self.data_frame[SMSD_string]\n",
    "        \n",
    "        \n",
    "    def _exponential_moving_average_helper_(self, series, smoothing_factor):\n",
    "        \"\"\"\n",
    "        Helper function for add_exponential_moving_average() which utilizes a \n",
    "        temporary buffer in memory to compute the recursive function:\n",
    "        \n",
    "            EMA(data, n+1) = β * data[n+1] +  (1 - β) * data[n]\n",
    "            \n",
    "        where β represents the smoothing factor. The smoothing factor ultimately dictates\n",
    "        how heavily recent data points are weighted, and how quickly previous data points\n",
    "        lose weight\n",
    "\n",
    "        Args:\n",
    "            series: a pandas.core.series.Series object. Typically passed as\n",
    "                dataframe[\"column\"].iloc[a:b]. Must be treated slightly differently than\n",
    "                a standard array since integer indexing of series is depricated\n",
    "            \n",
    "            smoothing_factor: a floating point integer which dictates how heavily recent\n",
    "                data points are weighted\n",
    "        \"\"\"\n",
    "        \n",
    "        #################\n",
    "        #  ERROR HANDLING\n",
    "        #################\n",
    "        if not isinstance(series, pd.Series):\n",
    "            raise ValueError(\"Parameter series must be pandas.Series data type\")\n",
    "        if not isinstance(smoothing_factor, float):\n",
    "            raise ValueError(\"Parameter smoothing factor must be a floating point decimal\")\n",
    "        \n",
    "        N = series.shape[0]\n",
    "        # Create temporary storage to compute our outputs. When the lag_length of\n",
    "        # the exponential moving average is large, this will likely lead to memory fragmentation\n",
    "        buffer = list(range(N))\n",
    "        buffer[0] = series.iloc[0]\n",
    "\n",
    "        # Use temporary storage + iteration to compute the recursive formula\n",
    "        #\n",
    "        #       EMA(data, n+1) = β * data[n+1] +  (1 - β) * data[n]\n",
    "        #\n",
    "        for i in range(1,N):\n",
    "            buffer[i] = smoothing_factor * series.iloc[i] + (1 - smoothing_factor) * buffer[i-1]\n",
    "        \n",
    "        # return the last data point (i.e. the EMA over the desired lag_length)\n",
    "        return buffer[-1]\n",
    "\n",
    "\n",
    "\n",
    "    def add_exponential_moving_average(self, length):\n",
    "        \"\"\"\n",
    "        Computes the exponential moving standard average of the stock's closing\n",
    "        price (i.e. the weighted average of the first [length] lag variables)\n",
    "        and adds it to a new column in our pandas DataFrame. The column that is added follows\n",
    "        the naming convention:\n",
    "        \n",
    "                            SMSD_(length)\n",
    "                            \n",
    "        where length is the parameter passed.\n",
    "\n",
    "        Args:\n",
    "            length: the number of days to take the simple moving standard deviation \n",
    "                over (equivalently, the number of lag variables we are considering)\n",
    "        Raises:\n",
    "            ValueError: if length is not an integer or is larger than the number of\n",
    "                lag variables availible\n",
    "            NameError: if lag_length has not been set yet (i.e. no lag variables have\n",
    "                been added)\n",
    "        \"\"\"\n",
    "        \n",
    "        #################\n",
    "        #  ERROR HANDLING\n",
    "        #################\n",
    "        if not isinstance(length, int):\n",
    "            raise ValueError(\"Parameter lag_length must be integer\")\n",
    "        if self.lag_length == 0:\n",
    "            raise NameError(\"Lag variables must be set prior to adding exponental moving average\")\n",
    "        if length > self.lag_length:\n",
    "            raise ValueError(\"Cannot take the average of more lag varaibles than are availible\" + \n",
    "                      f\" (currently {self.lag_length})\\n\")\n",
    "\n",
    "        N = self.data_frame.shape[0]\n",
    "        smoothing_factor = float(2/(length + 1))\n",
    "\n",
    "        # Temporary output storage\n",
    "        buffer = list(range(N))\n",
    "        buffer[0] = self.data_frame[\"Close\"].iloc[0]\n",
    "        buffer[1] = self.data_frame[\"Close\"].iloc[0]\n",
    "\n",
    "\n",
    "        for i in range(2, N):\n",
    "            # If there are less that lag_period of data previous to the current date,\n",
    "            # simply take the average of all the days prior to get the closest thing\n",
    "            # to a weighted average\n",
    "            if i <= length:\n",
    "                buffer[i] = self._exponential_moving_average_helper_(\n",
    "                    self.data_frame[\"Close\"].iloc[0:i],\n",
    "                    2/(i + 1)\n",
    "                )\n",
    "            else:\n",
    "                buffer[i] = self._exponential_moving_average_helper_(\n",
    "                    self.data_frame[\"Close\"].iloc[i-length:i],\n",
    "                    smoothing_factor\n",
    "                )\n",
    "        # Add new column to data frame\n",
    "        column_label = \"EMA_\"  + str(length)\n",
    "        self.data_frame[column_label] = buffer\n",
    "\n",
    "\n",
    "    def add_MACD(self, max_lag, min_lag):\n",
    "        \"\"\"\n",
    "        Computes the moving average convergence-divergence of the stock's closing\n",
    "        price (i.e. the difference of the exponential moving average taken over min_lag\n",
    "        with the exponential moving average taken over max_lag)\n",
    "        and adds it to a new column in our pandas DataFrame. The column that is added follows\n",
    "        the naming convention:\n",
    "        \n",
    "                            MACD_(min_lag)_(max_lag)\n",
    "                            \n",
    "        where min_lag and max_lag are the first and second parameters passed, respectively.\n",
    "\n",
    "        Args:\n",
    "            length: the number of days to take the simple moving standard deviation \n",
    "                over (equivalently, the number of lag variables we are considering)\n",
    "        Raises:\n",
    "            ValueError: if length is not an integer or is larger than the number of\n",
    "                lag variables availible\n",
    "            NameError: if lag_length has not been set yet (i.e. no lag variables have\n",
    "                been added)\n",
    "        \"\"\"\n",
    "        \n",
    "        #################\n",
    "        #  ERROR HANDLING\n",
    "        #################\n",
    "        if not isinstance(max_lag, int) or not isinstance(min_lag, int):\n",
    "            raise ValueError(\"Parameters max_lag and min_lag must be integer\")\n",
    "        if self.lag_length == 0:\n",
    "            raise NameError(\"Lag variables must be set prior to adding MACD\")\n",
    "        if min_lag >= max_lag:\n",
    "            raise ValueError(\"min_lag must be strictly smaller than max_lag\")\n",
    "\n",
    "        EMA_string_min = \"EMA_\" + str(min_lag)\n",
    "        EMA_string_max = \"EMA_\" + str(max_lag)\n",
    "\n",
    "        # Ensure that both exponential moving averages are availible\n",
    "        # in the DataFrame\n",
    "        if EMA_string_min not in self.data_frame.columns:\n",
    "            self.add_exponential_moving_average(min_lag)\n",
    "        if EMA_string_max not in self.data_frame.columns:\n",
    "            self.add_exponential_moving_average(max_lag)\n",
    "            \n",
    "        \n",
    "        # Add new column to data frame\n",
    "        column_label = \"MACD_\"  + str(min_lag) + \"_\" + str(max_lag)\n",
    "        self.data_frame[column_label] = (self.data_frame[EMA_string_min] - self.data_frame[EMA_string_max])"
   ]
  },
  {
   "cell_type": "markdown",
   "id": "f3ab2562",
   "metadata": {},
   "source": [
    "## User Input Functions"
   ]
  },
  {
   "cell_type": "code",
   "execution_count": 30,
   "id": "35e55b84",
   "metadata": {},
   "outputs": [],
   "source": [
    "def create_stock_data_from_input():\n",
    "    \"\"\"\n",
    "    Helper function for creating a StockDataWrapper class from user input. Primarily \n",
    "    cleans the user input and ensures that the user input is within the range of \n",
    "    intended values. \n",
    "    \n",
    "    This function only establishes:\n",
    "    \n",
    "        - the underlying pandas.DataFrame object (which is the primary data that\n",
    "                StockDataWrapper is wrapping)\n",
    "        - the granularity parameter\n",
    "        - the num_days parameter\n",
    "        \n",
    "    This function does NOT set:\n",
    "        - any lag variable data.\n",
    "        \n",
    "        \n",
    "    Returns:\n",
    "        A StockDataWrapper object that, when a correct stock symbol is typed, will\n",
    "        contain a pandas DataFrame object as well as the number of days and granularity\n",
    "        of the stock data\n",
    "    \"\"\"\n",
    "    # Boolean flag which turns off (False) once the user\n",
    "    # correctly enters the correct field\n",
    "    prompting_user_input = True\n",
    "    while prompting_user_input:\n",
    "        num_days_to_build = input(\"How many days of intraday stock market data should \" + \n",
    "                                  \" we use to build our model? Enter a value between \" +\n",
    "                                  \" 1 and 7:\\n(Type 'Exit' to quit)\\n\")\n",
    "\n",
    "        # Parse num_days input\n",
    "        if num_days_to_build.isnumeric():\n",
    "            num_days_to_build = int(num_days_to_build)\n",
    "            if num_days_to_build > 0 and num_days_to_build < 8:\n",
    "                prompting_user_input = False\n",
    "            else:\n",
    "                print(\"The number of days must be between 1 and 7 \"+\n",
    "                      \"— please retry. \\n (Type 'Exit' to quit)\\n\")\n",
    "        elif \"exit\" in num_days_to_build.lower():\n",
    "            sys.exit(\"Exiting program\")\n",
    "        else:\n",
    "            print(\"Non-integer passed as input — please retry.\\n\")\n",
    "\n",
    "\n",
    "    # Apply num_days information to create Datetime variables\n",
    "    # which give a range of precisely (num_days) previous days from\n",
    "    # current date.\n",
    "    today = date.today()\n",
    "    num_days_prior = today - timedelta(num_days_to_build)\n",
    "\n",
    "    # list of acceptable inputs for granularity\n",
    "    granularity_options = ['1m', '2m', '5m', '15m', '30m', '60m']\n",
    "    # Reset user input boolean flag\n",
    "    prompting_user_input = True\n",
    "    while prompting_user_input:\n",
    "        granulrity_input = input(\"How often should our model look at\" + \n",
    "                                 \" stock prices? Choose from 1m, 2m, 5m,\" +\n",
    "                                 \" 15m, 30m or 60m.\\n(Type 'Exit' to quit)\\n\"\n",
    "                                ).lower()\n",
    "        \n",
    "        # parse granularity input\n",
    "        if granulrity_input in granularity_options:\n",
    "            prompting_user_input = False\n",
    "        elif \"exit\" in granulrity_input:\n",
    "            sys.exit(\"Exiting program\")\n",
    "        else:\n",
    "            print(\"Input was not among the options 1m, 2m,\" +\n",
    "                  \" 5m, 15m, 30m, or 60m — please retry.\"+\n",
    "                  \"\\n(Type 'Exit' to quit)\\n\")\n",
    "    \n",
    "\n",
    "    # utilize yfinance's error handling here — if the user inputs the \n",
    "    # wrong stock symbol, \n",
    "    stock_symbol = input(\"Please input the stock symbol you would like\" + \n",
    "                             \" to examine: (e.g. AAPL)\\n\").upper()\n",
    "    \n",
    "    # Construct pandas DataFrame object\n",
    "    df = pd.DataFrame(yf.download(stock_symbol,\n",
    "                                start=num_days_prior,\n",
    "                                end=today,\n",
    "                                interval=granulrity_input)\n",
    "                            )\n",
    "    \n",
    "    # add user input information to StockDataWrapper object\n",
    "    stock_data = StockDataWrapper(df, stock_symbol)\n",
    "    stock_data.num_days = num_days_to_build\n",
    "    stock_data.granularity = granulrity_input\n",
    "\n",
    "    return stock_data\n",
    "\n",
    "\n",
    "\n",
    "def add_lags_from_input(stock_data, threshold):\n",
    "    \"\"\"\n",
    "    Helper function which finishes loading the lag data information into an already\n",
    "    existing StockDataWrapper object. This function will only add additional columns\n",
    "    to the DataFrame object referenced by the StockDataWrapper (in place); no value\n",
    "    is returned.\n",
    "    \n",
    "    \n",
    "    Raises:\n",
    "        ValueError: if either stock_data is not a StockDataWrapper or threshold is not an\n",
    "                integer.\n",
    "        NameError: if there are no entries in the DataFrame\n",
    "    \"\"\"\n",
    "    #################\n",
    "    #  ERROR HANDLING\n",
    "    #################\n",
    "    if not isinstance(stock_data, StockDataWrapper):\n",
    "        raise ValueError(\"stock_data variable must be a StockDataWrapper class\")\n",
    "    if not isinstance(threshold, int):\n",
    "        raise ValueError(\"threshold must be a positive integer\")\n",
    "    if stock_data.data_frame.shape[0] == 0:\n",
    "        raise TypeError(\"Data has not been correctly loaded into the StockDataWrapper object\")\n",
    "    \n",
    "    # Clean up previous lag variables so that preexisting data\n",
    "    # does not affect future computations\n",
    "    stock_data.delete_lag_variables()\n",
    "    \n",
    "    # Boolean flag which turns off (False) once the user\n",
    "    # correctly enters the correct field\n",
    "    prompting_user_input = True\n",
    "    while prompting_user_input:\n",
    "        print(\"(IMPORTANT!)\\n\")\n",
    "        lag_length = input(f\"How many previous {stock_data.granularity}in intervals should ALL of\" +\n",
    "                           \" our machine learning models look at?\\n(Type 'Exit' to quit)\\n\")\n",
    "\n",
    "        # parse lag_length\n",
    "        if lag_length.isnumeric():\n",
    "            lag_length = int(lag_length)\n",
    "            \n",
    "            if lag_length <= threshold:\n",
    "                stock_data.lag_length = lag_length\n",
    "                stock_data.add_lag_variables(lag_length)\n",
    "                prompting_user_input = False\n",
    "            else:\n",
    "                print(\"\\nThe number of previous data points considered should\" +\n",
    "                      f\" not exceed 30%% \\nof the total number of data points (in this case, {threshold}) -- please\" +\n",
    "                       \" retry. \\n\")\n",
    "        elif \"exit\" in lag_length.lower():\n",
    "                sys.exit(\"Exiting program\")\n",
    "        else:\n",
    "            print(\"Non-integer passed as input — please retry.\\n\") \n",
    "            \n",
    "            \n",
    "            \n",
    "            \n",
    "            \n",
    "def get_n_estimators_from_input():\n",
    "    \"\"\"\n",
    "    Helper function which obtains ranges of values for number of trees in a grid search from user input data.\n",
    "    Specifically, the function prompts the user for an integer array of values based on \n",
    "        (1) the minimum value specified\n",
    "        (2) the maximum value specified\n",
    "        (3) the increment size\n",
    "    and passes the input to a numpy.arange. The resulting interval dictates how the number of trees will vary\n",
    "    over a grid search applying the RandomForestPredictor classifier.\n",
    "    \n",
    "    \n",
    "    \n",
    "    Returns:\n",
    "        An integer array of values representing the possible number of trees in a RandomForestPredictor\n",
    "    \"\"\"\n",
    "    \n",
    "    # Boolean flag which turns off (False) once the user\n",
    "    # correctly enters the correct field\n",
    "    prompting_user_input = True\n",
    "    \n",
    "    # Get minimum value\n",
    "    while prompting_user_input:\n",
    "        min_estimators = input(\"What's the minimum number of trees that should be in our forest?\\n(Type 'Exit' to quit)\\n\")\n",
    "        \n",
    "        if min_estimators.isnumeric():\n",
    "            min_estimators = int(min_estimators)\n",
    "            \n",
    "            if min_estimators < 1:\n",
    "                print(\"The minimum number of trees must be at least 1 — please retry\\n\")\n",
    "            else:\n",
    "                prompting_user_input = False\n",
    "            \n",
    "        elif \"exit\" in min_estimators.lower():\n",
    "                sys.exit(\"Exiting program\")\n",
    "        else:\n",
    "            print(\"\"\"Non-integer passed as input — please retry.\\n\"\"\")   \n",
    "      \n",
    "    # Get maximum value\n",
    "    prompting_user_input = True\n",
    "    while prompting_user_input:\n",
    "        max_estimators = input(\"What's the maximum number of trees that should be in our forest?\\n(Type 'Exit' to quit)\\n\")\n",
    "        \n",
    "        if max_estimators.isnumeric():\n",
    "            max_estimators = int(max_estimators)\n",
    "            \n",
    "            if max_estimators < min_estimators:\n",
    "                print(\"The maximum number of trees must be more than the minimum number\" +\n",
    "                      f\" of trees (currently {min_estimators}) — please retry.\\n\")\n",
    "            else:\n",
    "                prompting_user_input = False\n",
    "            \n",
    "        elif \"exit\" in max_estimators.lower():\n",
    "                sys.exit(\"Exiting program\")\n",
    "        else:\n",
    "            print(\"Non-integer passed as input — please retry.\\n\") \n",
    "            \n",
    "    # no need to ask for number of steps when only 1 integer is given\n",
    "    if max_estimators - min_estimators < 2:\n",
    "        return [min_estimators, max_estimators]\n",
    "    \n",
    "    # Get Step Size\n",
    "    prompting_user_input = True\n",
    "    while prompting_user_input:\n",
    "        num_steps = input(f\"How many possible number of trees should we look at between {min_estimators} trees and {max_estimators} trees?\" + \n",
    "                          \" \\n(Type 'Exit' to quit)\\n\")\n",
    "        \n",
    "        if num_steps.isnumeric():\n",
    "            num_steps = int(num_steps)\n",
    "            \n",
    "            if num_steps < 1:\n",
    "                print(\"The number of values examined must be at least 1 — please retry\\n\")\n",
    "            elif int( (max_estimators + 1 - min_estimators) / (num_steps)) < 1:\n",
    "                print(f\"Cannot subdivide the interval [{min_estimators}, {max_estimators}] into that many integers — please retry\\n\")\n",
    "            else:\n",
    "                step_size = int( (max_estimators + 1 - min_estimators) / (num_steps )) \n",
    "                prompting_user_input = False\n",
    "                return np.arange(min_estimators, max_estimators + 1, step_size)\n",
    "            \n",
    "        elif \"exit\" in num_steps.lower():\n",
    "                sys.exit(\"Exiting program\")\n",
    "        else:\n",
    "            print(\"Non-integer passed as input — please retry.\\n\") \n",
    "            \n",
    "            \n",
    "\n",
    "def get_n_features_from_input(predictors_list, granularity):\n",
    "    \"\"\"\n",
    "    Helper function which obtains ranges of values for number of features in a grid search from user input data.\n",
    "    Specifically, the function prompts the user for an integer array of values based on \n",
    "        (1) the minimum value specified\n",
    "        (2) the maximum value specified\n",
    "        (3) the increment size\n",
    "    and passes the input to a numpy.arange. The resulting interval dictates the number of previous lag intervals \n",
    "    that should be randomly chosen and applied to each tree in the forest. \n",
    "    \n",
    "    \n",
    "    Returns:\n",
    "        An integer array of values representing the possible number of maximum predictors in a RandomForestPredictor\n",
    "    \"\"\"\n",
    "    granularity_options = ['1m', '2m', '5m', '15m', '30m', '60m']\n",
    "    #################\n",
    "    #  ERROR HANDLING\n",
    "    #################\n",
    "    if not isinstance(predictors_list, pd.DataFrame):\n",
    "        raise ValueError(\"data_frame must be a pandas DataFrame object\")\n",
    "    if granularity not in granularity_options:\n",
    "        raise ValueError(\"granularity must be one of: 1m, 2m, 5m, 15m, 30m, 60m\")\n",
    "    \n",
    "    n_features = predictors_list.shape[1]\n",
    "\n",
    "    prompting_user_input = True\n",
    "    while prompting_user_input:\n",
    "        min_features = input(f\"Give a lower bound for the number of random {granularity}in intervals each tree in \" +\n",
    "                             f\"our forest can see (between 1 and {n_features})\\n(Type 'Exit' to quit)\\n\")\n",
    "        \n",
    "        if min_features.isnumeric():\n",
    "            min_features = int(min_features)\n",
    "            \n",
    "            if min_features < 1:\n",
    "                print(\"The minimum number of features must be at least 1 — please retry\\n\")\n",
    "            elif min_features > n_features:\n",
    "                print(\"The minimum number of features should not exceed the total number of \" + \n",
    "                      f\"{granularity}in intervals availible to the model \\n\" +\n",
    "                      f\" (currently {n_features}) — please retry\\n\")\n",
    "            else:\n",
    "                prompting_user_input = False\n",
    "            \n",
    "        elif \"exit\" in min_features.lower():\n",
    "                sys.exit(\"Exiting program\")\n",
    "        else:\n",
    "            print(\"\"\"Non-integer passed as input — please retry.\\n\"\"\")   \n",
    "      \n",
    "    prompting_user_input = True\n",
    "    while prompting_user_input:\n",
    "        max_features = input(f\"Give an upper bound for the number of random {granularity}in intervals each tree in \" +\n",
    "                             f\"our forest can see (between 1 and {n_features})\\n(Type 'Exit' to quit)\\n\")\n",
    "        \n",
    "        if max_features.isnumeric():\n",
    "            max_features = int(max_features)\n",
    "            \n",
    "            if max_features < min_features:\n",
    "                print(\"The upper bound should be greater than the lower bound\" +\n",
    "                      f\" (currently {min_features}) — please retry.\\n\")\n",
    "            else:\n",
    "                prompting_user_input = False\n",
    "            \n",
    "        elif \"exit\" in max_estimators.lower():\n",
    "                sys.exit(\"Exiting program\")\n",
    "        else:\n",
    "            print(\"Non-integer passed as input — please retry.\\n\") \n",
    "            \n",
    "    \n",
    "    # no need to ask for number of steps when only 1 integer is given\n",
    "    if max_features - min_features < 2:\n",
    "        return [min_features, max_features]\n",
    "    \n",
    "    prompting_user_input = True\n",
    "    while prompting_user_input:\n",
    "        num_steps = input(f\"How many choices should we consider between {min_features} \"+\n",
    "                          f\"and {max_features} potential {granularity}in intervals?\" + \n",
    "                          \" \\n(Type 'Exit' to quit)\\n\")\n",
    "        \n",
    "        if num_steps.isnumeric():\n",
    "            num_steps = int(num_steps)\n",
    "            \n",
    "            if num_steps < 1:\n",
    "                print(\"The number of values examined must be at least 1 — please retry\\n\")\n",
    "            elif int( (max_features + 1 - min_features) / (num_steps)) < 1:\n",
    "                print(f\"Cannot subdivide the interval [{min_leaf}, {max_leaf}] into that many integers — please retry\\n\")\n",
    "            else:\n",
    "                step_size = int( (max_features + 1 - min_features) / (num_steps)) \n",
    "                prompting_user_input = False\n",
    "                return np.arange(min_features, max_features + 1, step_size)\n",
    "            \n",
    "        elif \"exit\" in num_steps.lower():\n",
    "                sys.exit(\"Exiting program\")\n",
    "        else:\n",
    "            print(\"Non-integer passed as input — please retry.\\n\")\n",
    "            \n",
    "            \n",
    "def get_n_leaf_from_input():\n",
    "    \"\"\"\n",
    "    Helper function which obtains ranges of values for number of tree samples in a grid search from user input data.\n",
    "    Specifically, the function prompts the user for an integer array of values based on \n",
    "        (1) the minimum value specified\n",
    "        (2) the maximum value specified\n",
    "        (3) the increment size\n",
    "    and passes the input to a numpy.arange. The resulting interval dictates the number of observations that should\n",
    "    be present in both the left branch and right branch of a node in a decision tree before it can split.\n",
    "    \n",
    "    \n",
    "    Returns:\n",
    "        An integer array of values representing the possible number of trees in a RandomForestPredictor\n",
    "    \"\"\"\n",
    "    # Boolean flag which turns off (False) once the user\n",
    "    # correctly enters the correct field\n",
    "    prompting_user_input = True\n",
    "    \n",
    "    \n",
    "    # Get minimum value of branch sizes\n",
    "    while prompting_user_input:\n",
    "        min_leaf = input(\"Give a lower bound for the number of samples in a tree branch before it should split\" +\n",
    "                             \"\\n(Type 'Exit' to quit)\\n\")\n",
    "        \n",
    "        if min_leaf.isnumeric():\n",
    "            min_leaf = int(min_leaf)\n",
    "            \n",
    "            if min_leaf < 1:\n",
    "                print(\"The minimum number of samples must be at least 1 — please retry\\n\")\n",
    "            else:\n",
    "                prompting_user_input = False\n",
    "            \n",
    "        elif \"exit\" in min_leaf.lower():\n",
    "                sys.exit(\"Exiting program\")\n",
    "        else:\n",
    "            print(\"\"\"Non-integer passed as input — please retry.\\n\"\"\")   \n",
    "      \n",
    "    # Get maximum value of branch sizes\n",
    "    prompting_user_input = True\n",
    "    while prompting_user_input:\n",
    "        max_leaf = input(\"Give an upper bound for the number of samples in a tree branch before it should split\" +\n",
    "                             \"\\n(Type 'Exit' to quit)\\n\")\n",
    "        \n",
    "        if max_leaf.isnumeric():\n",
    "            max_leaf = int(max_leaf)\n",
    "            \n",
    "            if max_leaf < min_leaf:\n",
    "                print(\"The upper bound should be greater than the lower bound\" +\n",
    "                      f\" (currently {min_leaf}) — please retry.\\n\")\n",
    "            else:\n",
    "                prompting_user_input = False\n",
    "            \n",
    "        elif \"exit\" in max_leaf.lower():\n",
    "                sys.exit(\"Exiting program\")\n",
    "        else:\n",
    "            print(\"Non-integer passed as input — please retry.\\n\") \n",
    "            \n",
    "    \n",
    "    if max_leaf - min_leaf < 2:\n",
    "        return [min_leaf, max_leaf]\n",
    "    \n",
    "    \n",
    "    # Get Step Size\n",
    "    prompting_user_input = True\n",
    "    while prompting_user_input:\n",
    "        num_steps = input(f\"How many choices should we consider between {min_leaf} and {max_leaf}?\" + \n",
    "                          \" \\n(Type 'Exit' to quit)\\n\")\n",
    "        \n",
    "        if num_steps.isnumeric():\n",
    "            num_steps = int(num_steps)\n",
    "            \n",
    "            if num_steps < 1:\n",
    "                print(\"The number of values examined must be at least 1 — please retry\\n\")\n",
    "            elif int( (max_leaf + 1 - min_leaf) / (num_steps)) < 1:\n",
    "                print(f\"Cannot subdivide the interval [{min_leaf}, {max_leaf}] into that many integers — please retry\\n\")\n",
    "            else:\n",
    "                step_size = int( (max_leaf + 1 - min_leaf) / (num_steps)) \n",
    "                prompting_user_input = False\n",
    "                return np.arange(min_leaf, max_leaf + 1, step_size)\n",
    "            \n",
    "        elif \"exit\" in num_steps.lower():\n",
    "                sys.exit(\"Exiting program\")\n",
    "        else:\n",
    "            print(\"Non-integer passed as input — please retry.\\n\")\n",
    "            \n",
    "            \n",
    "            \n",
    "            \n",
    "def user_input_random_forest(predictors_list, granularity, verbose=False):\n",
    "    \n",
    "    ############################\n",
    "    # Step 1: Construct Pipeline\n",
    "    ############################\n",
    "    pipe_random_forest = Pipeline([\n",
    "        ('scaler', preprocessing.StandardScaler()), \n",
    "        ('classifier', RandomForestRegressor(random_state=SEED))\n",
    "    ])\n",
    "    \n",
    "    #################################\n",
    "    # Step 2: Gather user input\n",
    "    ################################# \n",
    "    complexity_check = True\n",
    "    while complexity_check:\n",
    "        n_estimators = get_n_estimators_from_input()\n",
    "        if max(n_estimators) > OPTIMIZATION_RANDOM_FOREST_TREES :\n",
    "            print(f\"Forests with over {OPTIMIZATION_RANDOM_FOREST_TREES} decision trees will take too long to prune.\\n\")\n",
    "            continue\n",
    "        print(\"---------------------------------------\\n\")\n",
    "        n_features = get_n_features_from_input(predictors, granularity)     \n",
    "        print(\"---------------------------------------\\n\")\n",
    "        n_leaf = get_n_leaf_from_input()\n",
    "        computations_necessary = CROSS_FOLDS*len(n_features)*len(n_estimators)*len(n_leaf)\n",
    "\n",
    "\n",
    "        if computations_necessary > OPTIMIZATION_RANDOM_FOREST_ITER:\n",
    "            print(f\"\\t\\t {CROSS_FOLDS} Cross-Folds\")\n",
    "            print(f\"x\\t{len(n_estimators)} forest sizes\")\n",
    "            print(f\"x {len(n_features)} tree complexity choices\")\n",
    "            print(f\"x {len(n_leaves)} branch size choices\")\n",
    "            print(\"---------------------------------------------\")\n",
    "            print(f\"{computations_necessary} computations necessary ({OPTIMIZATION_RANDOM_FOREST_ITER} max)\")\n",
    "            print(\"\\n\\n Please try a smaller batch.\")\n",
    "        else:\n",
    "            complexity_check = False\n",
    "            \n",
    "    params={'classifier__max_features': n_features,\n",
    "        'classifier__n_estimators': n_estimators,\n",
    "        'classifier__min_samples_leaf':n_leaf\n",
    "        }\n",
    "    if verbose:\n",
    "        print(f\"\\n\\nRunning {computations_necessary} models .....\\n\\n\" )\n",
    "        \n",
    "    return (pipe_random_forest, params, [n_features, n_leaf, n_estimators])\n",
    "\n",
    "\n",
    "def user_input_knn_regression():\n",
    "    \n",
    "    ############################\n",
    "    # Step 1: Construct Pipeline\n",
    "    ############################\n",
    "    pipe_knn = Pipeline([\n",
    "        ('scaler', preprocessing.StandardScaler()), \n",
    "        ('classifier', KNeighborsRegressor(algorithm='auto'))\n",
    "    c])\n",
    "    \n",
    "    #################################\n",
    "    # Step 2: Gather user input\n",
    "    ################################# \n",
    "    complexity_check = True\n",
    "    while complexity_check:\n",
    "        n_estimators = get_n_estimators_from_input()\n",
    "        if max(n_estimators) > OPTIMIZATION_RANDOM_FOREST_TREES :\n",
    "            print(f\"Forests with over {OPTIMIZATION_RANDOM_FOREST_TREES} decision trees will take too long to prune.\\n\")\n",
    "            continue\n",
    "        print(\"---------------------------------------\\n\")\n",
    "        n_features = get_n_features_from_input(predictors, granularity)     \n",
    "        print(\"---------------------------------------\\n\")\n",
    "        n_leaf = get_n_leaf_from_input()\n",
    "        computations_necessary = CROSS_FOLDS*len(n_features)*len(n_estimators)*len(n_leaf)\n",
    "\n",
    "\n",
    "        if computations_necessary > OPTIMIZATION_RANDOM_FOREST_ITER:\n",
    "            print(f\"\\t\\t {CROSS_FOLDS} Cross-Folds\")\n",
    "            print(f\"x\\t{len(n_estimators)} forest sizes\")\n",
    "            print(f\"x {len(n_features)} tree complexity choices\")\n",
    "            print(f\"x {len(n_leaves)} branch size choices\")\n",
    "            print(\"---------------------------------------------\")\n",
    "            print(f\"{computations_necessary} computations necessary ({OPTIMIZATION_RANDOM_FOREST_ITER} max)\")\n",
    "            print(\"\\n\\n Please try a smaller batch.\")\n",
    "        else:\n",
    "            complexity_check = False\n",
    "            \n",
    "    params={'classifier__max_features': n_features,\n",
    "        'classifier__n_estimators': n_estimators,\n",
    "        'classifier__min_samples_leaf':n_leaf\n",
    "        }\n",
    "    if verbose:\n",
    "        print(f\"\\n\\nRunning {computations_necessary} models .....\\n\\n\" )\n",
    "        \n",
    "    return (pipe_random_forest, params, [n_features, n_leaf, n_estimators])\n",
    "    \n",
    "    "
   ]
  },
  {
   "cell_type": "markdown",
   "id": "c8c2df05",
   "metadata": {},
   "source": [
    "# Exploratory Data Analysis"
   ]
  },
  {
   "cell_type": "code",
   "execution_count": 31,
   "id": "99c4c9c6",
   "metadata": {},
   "outputs": [
    {
     "name": "stdout",
     "output_type": "stream",
     "text": [
      "How many days of intraday stock market data should  we use to build our model? Enter a value between  1 and 7:\n",
      "(Type 'Exit' to quit)\n",
      "2\n",
      "How often should our model look at stock prices? Choose from 1m, 2m, 5m, 15m, 30m or 60m.\n",
      "(Type 'Exit' to quit)\n",
      "5m\n",
      "Please input the stock symbol you would like to examine: (e.g. AAPL)\n",
      "INTC\n"
     ]
    },
    {
     "name": "stderr",
     "output_type": "stream",
     "text": [
      "[*********************100%%**********************]  1 of 1 completed\n"
     ]
    },
    {
     "data": {
      "application/vnd.plotly.v1+json": {
       "config": {
        "plotlyServerURL": "https://plot.ly"
       },
       "data": [
        {
         "hovertemplate": "Datetime=%{x}<br>Close=%{y}<extra></extra>",
         "legendgroup": "",
         "line": {
          "color": "#636efa",
          "dash": "solid"
         },
         "marker": {
          "symbol": "circle"
         },
         "mode": "lines",
         "name": "",
         "orientation": "v",
         "showlegend": false,
         "type": "scatter",
         "x": [
          "2024-06-07T09:30:00-04:00",
          "2024-06-07T09:35:00-04:00",
          "2024-06-07T09:40:00-04:00",
          "2024-06-07T09:45:00-04:00",
          "2024-06-07T09:50:00-04:00",
          "2024-06-07T09:55:00-04:00",
          "2024-06-07T10:00:00-04:00",
          "2024-06-07T10:05:00-04:00",
          "2024-06-07T10:10:00-04:00",
          "2024-06-07T10:15:00-04:00",
          "2024-06-07T10:20:00-04:00",
          "2024-06-07T10:25:00-04:00",
          "2024-06-07T10:30:00-04:00",
          "2024-06-07T10:35:00-04:00",
          "2024-06-07T10:40:00-04:00",
          "2024-06-07T10:45:00-04:00",
          "2024-06-07T10:50:00-04:00",
          "2024-06-07T10:55:00-04:00",
          "2024-06-07T11:00:00-04:00",
          "2024-06-07T11:05:00-04:00",
          "2024-06-07T11:10:00-04:00",
          "2024-06-07T11:15:00-04:00",
          "2024-06-07T11:20:00-04:00",
          "2024-06-07T11:25:00-04:00",
          "2024-06-07T11:30:00-04:00",
          "2024-06-07T11:35:00-04:00",
          "2024-06-07T11:40:00-04:00",
          "2024-06-07T11:45:00-04:00",
          "2024-06-07T11:50:00-04:00",
          "2024-06-07T11:55:00-04:00",
          "2024-06-07T12:00:00-04:00",
          "2024-06-07T12:05:00-04:00",
          "2024-06-07T12:10:00-04:00",
          "2024-06-07T12:15:00-04:00",
          "2024-06-07T12:20:00-04:00",
          "2024-06-07T12:25:00-04:00",
          "2024-06-07T12:30:00-04:00",
          "2024-06-07T12:35:00-04:00",
          "2024-06-07T12:40:00-04:00",
          "2024-06-07T12:45:00-04:00",
          "2024-06-07T12:50:00-04:00",
          "2024-06-07T12:55:00-04:00",
          "2024-06-07T13:00:00-04:00",
          "2024-06-07T13:05:00-04:00",
          "2024-06-07T13:10:00-04:00",
          "2024-06-07T13:15:00-04:00",
          "2024-06-07T13:20:00-04:00",
          "2024-06-07T13:25:00-04:00",
          "2024-06-07T13:30:00-04:00",
          "2024-06-07T13:35:00-04:00",
          "2024-06-07T13:40:00-04:00",
          "2024-06-07T13:45:00-04:00",
          "2024-06-07T13:50:00-04:00",
          "2024-06-07T13:55:00-04:00",
          "2024-06-07T14:00:00-04:00",
          "2024-06-07T14:05:00-04:00",
          "2024-06-07T14:10:00-04:00",
          "2024-06-07T14:15:00-04:00",
          "2024-06-07T14:20:00-04:00",
          "2024-06-07T14:25:00-04:00",
          "2024-06-07T14:30:00-04:00",
          "2024-06-07T14:35:00-04:00",
          "2024-06-07T14:40:00-04:00",
          "2024-06-07T14:45:00-04:00",
          "2024-06-07T14:50:00-04:00",
          "2024-06-07T14:55:00-04:00",
          "2024-06-07T15:00:00-04:00",
          "2024-06-07T15:05:00-04:00",
          "2024-06-07T15:10:00-04:00",
          "2024-06-07T15:15:00-04:00",
          "2024-06-07T15:20:00-04:00",
          "2024-06-07T15:25:00-04:00",
          "2024-06-07T15:30:00-04:00",
          "2024-06-07T15:35:00-04:00",
          "2024-06-07T15:40:00-04:00",
          "2024-06-07T15:45:00-04:00",
          "2024-06-07T15:50:00-04:00",
          "2024-06-07T15:55:00-04:00"
         ],
         "xaxis": "x",
         "y": [
          30.22010040283203,
          30.295000076293945,
          30.319900512695312,
          30.38010025024414,
          30.440000534057617,
          30.526100158691406,
          30.55500030517578,
          30.575000762939453,
          30.52989959716797,
          30.510000228881836,
          30.575000762939453,
          30.610000610351562,
          30.595399856567383,
          30.594999313354492,
          30.668800354003906,
          30.709999084472656,
          30.625,
          30.59630012512207,
          30.625,
          30.560100555419922,
          30.575000762939453,
          30.559999465942383,
          30.610000610351562,
          30.6200008392334,
          30.60219955444336,
          30.55500030517578,
          30.565000534057617,
          30.575000762939453,
          30.610000610351562,
          30.604999542236328,
          30.575000762939453,
          30.629899978637695,
          30.614999771118164,
          30.635000228881836,
          30.635000228881836,
          30.635000228881836,
          30.590099334716797,
          30.594999313354492,
          30.605499267578125,
          30.59000015258789,
          30.594999313354492,
          30.639999389648438,
          30.575000762939453,
          30.56999969482422,
          30.575000762939453,
          30.614999771118164,
          30.625,
          30.6299991607666,
          30.625,
          30.604999542236328,
          30.58009910583496,
          30.584999084472656,
          30.56999969482422,
          30.510000228881836,
          30.4330997467041,
          30.39150047302246,
          30.325000762939453,
          30.344999313354492,
          30.390100479125977,
          30.40999984741211,
          30.40999984741211,
          30.415000915527344,
          30.43000030517578,
          30.405000686645508,
          30.440000534057617,
          30.399900436401367,
          30.3700008392334,
          30.3700008392334,
          30.390100479125977,
          30.424999237060547,
          30.475000381469727,
          30.559999465942383,
          30.577999114990234,
          30.604999542236328,
          30.635000228881836,
          30.690000534057617,
          30.720500946044922,
          30.770000457763672
         ],
         "yaxis": "y"
        }
       ],
       "layout": {
        "legend": {
         "tracegroupgap": 0
        },
        "template": {
         "data": {
          "bar": [
           {
            "error_x": {
             "color": "#2a3f5f"
            },
            "error_y": {
             "color": "#2a3f5f"
            },
            "marker": {
             "line": {
              "color": "#E5ECF6",
              "width": 0.5
             },
             "pattern": {
              "fillmode": "overlay",
              "size": 10,
              "solidity": 0.2
             }
            },
            "type": "bar"
           }
          ],
          "barpolar": [
           {
            "marker": {
             "line": {
              "color": "#E5ECF6",
              "width": 0.5
             },
             "pattern": {
              "fillmode": "overlay",
              "size": 10,
              "solidity": 0.2
             }
            },
            "type": "barpolar"
           }
          ],
          "carpet": [
           {
            "aaxis": {
             "endlinecolor": "#2a3f5f",
             "gridcolor": "white",
             "linecolor": "white",
             "minorgridcolor": "white",
             "startlinecolor": "#2a3f5f"
            },
            "baxis": {
             "endlinecolor": "#2a3f5f",
             "gridcolor": "white",
             "linecolor": "white",
             "minorgridcolor": "white",
             "startlinecolor": "#2a3f5f"
            },
            "type": "carpet"
           }
          ],
          "choropleth": [
           {
            "colorbar": {
             "outlinewidth": 0,
             "ticks": ""
            },
            "type": "choropleth"
           }
          ],
          "contour": [
           {
            "colorbar": {
             "outlinewidth": 0,
             "ticks": ""
            },
            "colorscale": [
             [
              0,
              "#0d0887"
             ],
             [
              0.1111111111111111,
              "#46039f"
             ],
             [
              0.2222222222222222,
              "#7201a8"
             ],
             [
              0.3333333333333333,
              "#9c179e"
             ],
             [
              0.4444444444444444,
              "#bd3786"
             ],
             [
              0.5555555555555556,
              "#d8576b"
             ],
             [
              0.6666666666666666,
              "#ed7953"
             ],
             [
              0.7777777777777778,
              "#fb9f3a"
             ],
             [
              0.8888888888888888,
              "#fdca26"
             ],
             [
              1,
              "#f0f921"
             ]
            ],
            "type": "contour"
           }
          ],
          "contourcarpet": [
           {
            "colorbar": {
             "outlinewidth": 0,
             "ticks": ""
            },
            "type": "contourcarpet"
           }
          ],
          "heatmap": [
           {
            "colorbar": {
             "outlinewidth": 0,
             "ticks": ""
            },
            "colorscale": [
             [
              0,
              "#0d0887"
             ],
             [
              0.1111111111111111,
              "#46039f"
             ],
             [
              0.2222222222222222,
              "#7201a8"
             ],
             [
              0.3333333333333333,
              "#9c179e"
             ],
             [
              0.4444444444444444,
              "#bd3786"
             ],
             [
              0.5555555555555556,
              "#d8576b"
             ],
             [
              0.6666666666666666,
              "#ed7953"
             ],
             [
              0.7777777777777778,
              "#fb9f3a"
             ],
             [
              0.8888888888888888,
              "#fdca26"
             ],
             [
              1,
              "#f0f921"
             ]
            ],
            "type": "heatmap"
           }
          ],
          "heatmapgl": [
           {
            "colorbar": {
             "outlinewidth": 0,
             "ticks": ""
            },
            "colorscale": [
             [
              0,
              "#0d0887"
             ],
             [
              0.1111111111111111,
              "#46039f"
             ],
             [
              0.2222222222222222,
              "#7201a8"
             ],
             [
              0.3333333333333333,
              "#9c179e"
             ],
             [
              0.4444444444444444,
              "#bd3786"
             ],
             [
              0.5555555555555556,
              "#d8576b"
             ],
             [
              0.6666666666666666,
              "#ed7953"
             ],
             [
              0.7777777777777778,
              "#fb9f3a"
             ],
             [
              0.8888888888888888,
              "#fdca26"
             ],
             [
              1,
              "#f0f921"
             ]
            ],
            "type": "heatmapgl"
           }
          ],
          "histogram": [
           {
            "marker": {
             "pattern": {
              "fillmode": "overlay",
              "size": 10,
              "solidity": 0.2
             }
            },
            "type": "histogram"
           }
          ],
          "histogram2d": [
           {
            "colorbar": {
             "outlinewidth": 0,
             "ticks": ""
            },
            "colorscale": [
             [
              0,
              "#0d0887"
             ],
             [
              0.1111111111111111,
              "#46039f"
             ],
             [
              0.2222222222222222,
              "#7201a8"
             ],
             [
              0.3333333333333333,
              "#9c179e"
             ],
             [
              0.4444444444444444,
              "#bd3786"
             ],
             [
              0.5555555555555556,
              "#d8576b"
             ],
             [
              0.6666666666666666,
              "#ed7953"
             ],
             [
              0.7777777777777778,
              "#fb9f3a"
             ],
             [
              0.8888888888888888,
              "#fdca26"
             ],
             [
              1,
              "#f0f921"
             ]
            ],
            "type": "histogram2d"
           }
          ],
          "histogram2dcontour": [
           {
            "colorbar": {
             "outlinewidth": 0,
             "ticks": ""
            },
            "colorscale": [
             [
              0,
              "#0d0887"
             ],
             [
              0.1111111111111111,
              "#46039f"
             ],
             [
              0.2222222222222222,
              "#7201a8"
             ],
             [
              0.3333333333333333,
              "#9c179e"
             ],
             [
              0.4444444444444444,
              "#bd3786"
             ],
             [
              0.5555555555555556,
              "#d8576b"
             ],
             [
              0.6666666666666666,
              "#ed7953"
             ],
             [
              0.7777777777777778,
              "#fb9f3a"
             ],
             [
              0.8888888888888888,
              "#fdca26"
             ],
             [
              1,
              "#f0f921"
             ]
            ],
            "type": "histogram2dcontour"
           }
          ],
          "mesh3d": [
           {
            "colorbar": {
             "outlinewidth": 0,
             "ticks": ""
            },
            "type": "mesh3d"
           }
          ],
          "parcoords": [
           {
            "line": {
             "colorbar": {
              "outlinewidth": 0,
              "ticks": ""
             }
            },
            "type": "parcoords"
           }
          ],
          "pie": [
           {
            "automargin": true,
            "type": "pie"
           }
          ],
          "scatter": [
           {
            "fillpattern": {
             "fillmode": "overlay",
             "size": 10,
             "solidity": 0.2
            },
            "type": "scatter"
           }
          ],
          "scatter3d": [
           {
            "line": {
             "colorbar": {
              "outlinewidth": 0,
              "ticks": ""
             }
            },
            "marker": {
             "colorbar": {
              "outlinewidth": 0,
              "ticks": ""
             }
            },
            "type": "scatter3d"
           }
          ],
          "scattercarpet": [
           {
            "marker": {
             "colorbar": {
              "outlinewidth": 0,
              "ticks": ""
             }
            },
            "type": "scattercarpet"
           }
          ],
          "scattergeo": [
           {
            "marker": {
             "colorbar": {
              "outlinewidth": 0,
              "ticks": ""
             }
            },
            "type": "scattergeo"
           }
          ],
          "scattergl": [
           {
            "marker": {
             "colorbar": {
              "outlinewidth": 0,
              "ticks": ""
             }
            },
            "type": "scattergl"
           }
          ],
          "scattermapbox": [
           {
            "marker": {
             "colorbar": {
              "outlinewidth": 0,
              "ticks": ""
             }
            },
            "type": "scattermapbox"
           }
          ],
          "scatterpolar": [
           {
            "marker": {
             "colorbar": {
              "outlinewidth": 0,
              "ticks": ""
             }
            },
            "type": "scatterpolar"
           }
          ],
          "scatterpolargl": [
           {
            "marker": {
             "colorbar": {
              "outlinewidth": 0,
              "ticks": ""
             }
            },
            "type": "scatterpolargl"
           }
          ],
          "scatterternary": [
           {
            "marker": {
             "colorbar": {
              "outlinewidth": 0,
              "ticks": ""
             }
            },
            "type": "scatterternary"
           }
          ],
          "surface": [
           {
            "colorbar": {
             "outlinewidth": 0,
             "ticks": ""
            },
            "colorscale": [
             [
              0,
              "#0d0887"
             ],
             [
              0.1111111111111111,
              "#46039f"
             ],
             [
              0.2222222222222222,
              "#7201a8"
             ],
             [
              0.3333333333333333,
              "#9c179e"
             ],
             [
              0.4444444444444444,
              "#bd3786"
             ],
             [
              0.5555555555555556,
              "#d8576b"
             ],
             [
              0.6666666666666666,
              "#ed7953"
             ],
             [
              0.7777777777777778,
              "#fb9f3a"
             ],
             [
              0.8888888888888888,
              "#fdca26"
             ],
             [
              1,
              "#f0f921"
             ]
            ],
            "type": "surface"
           }
          ],
          "table": [
           {
            "cells": {
             "fill": {
              "color": "#EBF0F8"
             },
             "line": {
              "color": "white"
             }
            },
            "header": {
             "fill": {
              "color": "#C8D4E3"
             },
             "line": {
              "color": "white"
             }
            },
            "type": "table"
           }
          ]
         },
         "layout": {
          "annotationdefaults": {
           "arrowcolor": "#2a3f5f",
           "arrowhead": 0,
           "arrowwidth": 1
          },
          "autotypenumbers": "strict",
          "coloraxis": {
           "colorbar": {
            "outlinewidth": 0,
            "ticks": ""
           }
          },
          "colorscale": {
           "diverging": [
            [
             0,
             "#8e0152"
            ],
            [
             0.1,
             "#c51b7d"
            ],
            [
             0.2,
             "#de77ae"
            ],
            [
             0.3,
             "#f1b6da"
            ],
            [
             0.4,
             "#fde0ef"
            ],
            [
             0.5,
             "#f7f7f7"
            ],
            [
             0.6,
             "#e6f5d0"
            ],
            [
             0.7,
             "#b8e186"
            ],
            [
             0.8,
             "#7fbc41"
            ],
            [
             0.9,
             "#4d9221"
            ],
            [
             1,
             "#276419"
            ]
           ],
           "sequential": [
            [
             0,
             "#0d0887"
            ],
            [
             0.1111111111111111,
             "#46039f"
            ],
            [
             0.2222222222222222,
             "#7201a8"
            ],
            [
             0.3333333333333333,
             "#9c179e"
            ],
            [
             0.4444444444444444,
             "#bd3786"
            ],
            [
             0.5555555555555556,
             "#d8576b"
            ],
            [
             0.6666666666666666,
             "#ed7953"
            ],
            [
             0.7777777777777778,
             "#fb9f3a"
            ],
            [
             0.8888888888888888,
             "#fdca26"
            ],
            [
             1,
             "#f0f921"
            ]
           ],
           "sequentialminus": [
            [
             0,
             "#0d0887"
            ],
            [
             0.1111111111111111,
             "#46039f"
            ],
            [
             0.2222222222222222,
             "#7201a8"
            ],
            [
             0.3333333333333333,
             "#9c179e"
            ],
            [
             0.4444444444444444,
             "#bd3786"
            ],
            [
             0.5555555555555556,
             "#d8576b"
            ],
            [
             0.6666666666666666,
             "#ed7953"
            ],
            [
             0.7777777777777778,
             "#fb9f3a"
            ],
            [
             0.8888888888888888,
             "#fdca26"
            ],
            [
             1,
             "#f0f921"
            ]
           ]
          },
          "colorway": [
           "#636efa",
           "#EF553B",
           "#00cc96",
           "#ab63fa",
           "#FFA15A",
           "#19d3f3",
           "#FF6692",
           "#B6E880",
           "#FF97FF",
           "#FECB52"
          ],
          "font": {
           "color": "#2a3f5f"
          },
          "geo": {
           "bgcolor": "white",
           "lakecolor": "white",
           "landcolor": "#E5ECF6",
           "showlakes": true,
           "showland": true,
           "subunitcolor": "white"
          },
          "hoverlabel": {
           "align": "left"
          },
          "hovermode": "closest",
          "mapbox": {
           "style": "light"
          },
          "paper_bgcolor": "white",
          "plot_bgcolor": "#E5ECF6",
          "polar": {
           "angularaxis": {
            "gridcolor": "white",
            "linecolor": "white",
            "ticks": ""
           },
           "bgcolor": "#E5ECF6",
           "radialaxis": {
            "gridcolor": "white",
            "linecolor": "white",
            "ticks": ""
           }
          },
          "scene": {
           "xaxis": {
            "backgroundcolor": "#E5ECF6",
            "gridcolor": "white",
            "gridwidth": 2,
            "linecolor": "white",
            "showbackground": true,
            "ticks": "",
            "zerolinecolor": "white"
           },
           "yaxis": {
            "backgroundcolor": "#E5ECF6",
            "gridcolor": "white",
            "gridwidth": 2,
            "linecolor": "white",
            "showbackground": true,
            "ticks": "",
            "zerolinecolor": "white"
           },
           "zaxis": {
            "backgroundcolor": "#E5ECF6",
            "gridcolor": "white",
            "gridwidth": 2,
            "linecolor": "white",
            "showbackground": true,
            "ticks": "",
            "zerolinecolor": "white"
           }
          },
          "shapedefaults": {
           "line": {
            "color": "#2a3f5f"
           }
          },
          "ternary": {
           "aaxis": {
            "gridcolor": "white",
            "linecolor": "white",
            "ticks": ""
           },
           "baxis": {
            "gridcolor": "white",
            "linecolor": "white",
            "ticks": ""
           },
           "bgcolor": "#E5ECF6",
           "caxis": {
            "gridcolor": "white",
            "linecolor": "white",
            "ticks": ""
           }
          },
          "title": {
           "x": 0.05
          },
          "xaxis": {
           "automargin": true,
           "gridcolor": "white",
           "linecolor": "white",
           "ticks": "",
           "title": {
            "standoff": 15
           },
           "zerolinecolor": "white",
           "zerolinewidth": 2
          },
          "yaxis": {
           "automargin": true,
           "gridcolor": "white",
           "linecolor": "white",
           "ticks": "",
           "title": {
            "standoff": 15
           },
           "zerolinecolor": "white",
           "zerolinewidth": 2
          }
         }
        },
        "title": {
         "text": "INTC Stock Prices"
        },
        "xaxis": {
         "anchor": "y",
         "domain": [
          0,
          1
         ],
         "title": {
          "text": "Datetime"
         }
        },
        "yaxis": {
         "anchor": "x",
         "domain": [
          0,
          1
         ],
         "title": {
          "text": "Close"
         }
        }
       }
      },
      "text/html": [
       "<div>                            <div id=\"8953cde9-cf0f-425f-b90a-9c53d19f83a7\" class=\"plotly-graph-div\" style=\"height:525px; width:100%;\"></div>            <script type=\"text/javascript\">                require([\"plotly\"], function(Plotly) {                    window.PLOTLYENV=window.PLOTLYENV || {};                                    if (document.getElementById(\"8953cde9-cf0f-425f-b90a-9c53d19f83a7\")) {                    Plotly.newPlot(                        \"8953cde9-cf0f-425f-b90a-9c53d19f83a7\",                        [{\"hovertemplate\":\"Datetime=%{x}<br>Close=%{y}<extra></extra>\",\"legendgroup\":\"\",\"line\":{\"color\":\"#636efa\",\"dash\":\"solid\"},\"marker\":{\"symbol\":\"circle\"},\"mode\":\"lines\",\"name\":\"\",\"orientation\":\"v\",\"showlegend\":false,\"x\":[\"2024-06-07T09:30:00-04:00\",\"2024-06-07T09:35:00-04:00\",\"2024-06-07T09:40:00-04:00\",\"2024-06-07T09:45:00-04:00\",\"2024-06-07T09:50:00-04:00\",\"2024-06-07T09:55:00-04:00\",\"2024-06-07T10:00:00-04:00\",\"2024-06-07T10:05:00-04:00\",\"2024-06-07T10:10:00-04:00\",\"2024-06-07T10:15:00-04:00\",\"2024-06-07T10:20:00-04:00\",\"2024-06-07T10:25:00-04:00\",\"2024-06-07T10:30:00-04:00\",\"2024-06-07T10:35:00-04:00\",\"2024-06-07T10:40:00-04:00\",\"2024-06-07T10:45:00-04:00\",\"2024-06-07T10:50:00-04:00\",\"2024-06-07T10:55:00-04:00\",\"2024-06-07T11:00:00-04:00\",\"2024-06-07T11:05:00-04:00\",\"2024-06-07T11:10:00-04:00\",\"2024-06-07T11:15:00-04:00\",\"2024-06-07T11:20:00-04:00\",\"2024-06-07T11:25:00-04:00\",\"2024-06-07T11:30:00-04:00\",\"2024-06-07T11:35:00-04:00\",\"2024-06-07T11:40:00-04:00\",\"2024-06-07T11:45:00-04:00\",\"2024-06-07T11:50:00-04:00\",\"2024-06-07T11:55:00-04:00\",\"2024-06-07T12:00:00-04:00\",\"2024-06-07T12:05:00-04:00\",\"2024-06-07T12:10:00-04:00\",\"2024-06-07T12:15:00-04:00\",\"2024-06-07T12:20:00-04:00\",\"2024-06-07T12:25:00-04:00\",\"2024-06-07T12:30:00-04:00\",\"2024-06-07T12:35:00-04:00\",\"2024-06-07T12:40:00-04:00\",\"2024-06-07T12:45:00-04:00\",\"2024-06-07T12:50:00-04:00\",\"2024-06-07T12:55:00-04:00\",\"2024-06-07T13:00:00-04:00\",\"2024-06-07T13:05:00-04:00\",\"2024-06-07T13:10:00-04:00\",\"2024-06-07T13:15:00-04:00\",\"2024-06-07T13:20:00-04:00\",\"2024-06-07T13:25:00-04:00\",\"2024-06-07T13:30:00-04:00\",\"2024-06-07T13:35:00-04:00\",\"2024-06-07T13:40:00-04:00\",\"2024-06-07T13:45:00-04:00\",\"2024-06-07T13:50:00-04:00\",\"2024-06-07T13:55:00-04:00\",\"2024-06-07T14:00:00-04:00\",\"2024-06-07T14:05:00-04:00\",\"2024-06-07T14:10:00-04:00\",\"2024-06-07T14:15:00-04:00\",\"2024-06-07T14:20:00-04:00\",\"2024-06-07T14:25:00-04:00\",\"2024-06-07T14:30:00-04:00\",\"2024-06-07T14:35:00-04:00\",\"2024-06-07T14:40:00-04:00\",\"2024-06-07T14:45:00-04:00\",\"2024-06-07T14:50:00-04:00\",\"2024-06-07T14:55:00-04:00\",\"2024-06-07T15:00:00-04:00\",\"2024-06-07T15:05:00-04:00\",\"2024-06-07T15:10:00-04:00\",\"2024-06-07T15:15:00-04:00\",\"2024-06-07T15:20:00-04:00\",\"2024-06-07T15:25:00-04:00\",\"2024-06-07T15:30:00-04:00\",\"2024-06-07T15:35:00-04:00\",\"2024-06-07T15:40:00-04:00\",\"2024-06-07T15:45:00-04:00\",\"2024-06-07T15:50:00-04:00\",\"2024-06-07T15:55:00-04:00\"],\"xaxis\":\"x\",\"y\":[30.22010040283203,30.295000076293945,30.319900512695312,30.38010025024414,30.440000534057617,30.526100158691406,30.55500030517578,30.575000762939453,30.52989959716797,30.510000228881836,30.575000762939453,30.610000610351562,30.595399856567383,30.594999313354492,30.668800354003906,30.709999084472656,30.625,30.59630012512207,30.625,30.560100555419922,30.575000762939453,30.559999465942383,30.610000610351562,30.6200008392334,30.60219955444336,30.55500030517578,30.565000534057617,30.575000762939453,30.610000610351562,30.604999542236328,30.575000762939453,30.629899978637695,30.614999771118164,30.635000228881836,30.635000228881836,30.635000228881836,30.590099334716797,30.594999313354492,30.605499267578125,30.59000015258789,30.594999313354492,30.639999389648438,30.575000762939453,30.56999969482422,30.575000762939453,30.614999771118164,30.625,30.6299991607666,30.625,30.604999542236328,30.58009910583496,30.584999084472656,30.56999969482422,30.510000228881836,30.4330997467041,30.39150047302246,30.325000762939453,30.344999313354492,30.390100479125977,30.40999984741211,30.40999984741211,30.415000915527344,30.43000030517578,30.405000686645508,30.440000534057617,30.399900436401367,30.3700008392334,30.3700008392334,30.390100479125977,30.424999237060547,30.475000381469727,30.559999465942383,30.577999114990234,30.604999542236328,30.635000228881836,30.690000534057617,30.720500946044922,30.770000457763672],\"yaxis\":\"y\",\"type\":\"scatter\"}],                        {\"template\":{\"data\":{\"histogram2dcontour\":[{\"type\":\"histogram2dcontour\",\"colorbar\":{\"outlinewidth\":0,\"ticks\":\"\"},\"colorscale\":[[0.0,\"#0d0887\"],[0.1111111111111111,\"#46039f\"],[0.2222222222222222,\"#7201a8\"],[0.3333333333333333,\"#9c179e\"],[0.4444444444444444,\"#bd3786\"],[0.5555555555555556,\"#d8576b\"],[0.6666666666666666,\"#ed7953\"],[0.7777777777777778,\"#fb9f3a\"],[0.8888888888888888,\"#fdca26\"],[1.0,\"#f0f921\"]]}],\"choropleth\":[{\"type\":\"choropleth\",\"colorbar\":{\"outlinewidth\":0,\"ticks\":\"\"}}],\"histogram2d\":[{\"type\":\"histogram2d\",\"colorbar\":{\"outlinewidth\":0,\"ticks\":\"\"},\"colorscale\":[[0.0,\"#0d0887\"],[0.1111111111111111,\"#46039f\"],[0.2222222222222222,\"#7201a8\"],[0.3333333333333333,\"#9c179e\"],[0.4444444444444444,\"#bd3786\"],[0.5555555555555556,\"#d8576b\"],[0.6666666666666666,\"#ed7953\"],[0.7777777777777778,\"#fb9f3a\"],[0.8888888888888888,\"#fdca26\"],[1.0,\"#f0f921\"]]}],\"heatmap\":[{\"type\":\"heatmap\",\"colorbar\":{\"outlinewidth\":0,\"ticks\":\"\"},\"colorscale\":[[0.0,\"#0d0887\"],[0.1111111111111111,\"#46039f\"],[0.2222222222222222,\"#7201a8\"],[0.3333333333333333,\"#9c179e\"],[0.4444444444444444,\"#bd3786\"],[0.5555555555555556,\"#d8576b\"],[0.6666666666666666,\"#ed7953\"],[0.7777777777777778,\"#fb9f3a\"],[0.8888888888888888,\"#fdca26\"],[1.0,\"#f0f921\"]]}],\"heatmapgl\":[{\"type\":\"heatmapgl\",\"colorbar\":{\"outlinewidth\":0,\"ticks\":\"\"},\"colorscale\":[[0.0,\"#0d0887\"],[0.1111111111111111,\"#46039f\"],[0.2222222222222222,\"#7201a8\"],[0.3333333333333333,\"#9c179e\"],[0.4444444444444444,\"#bd3786\"],[0.5555555555555556,\"#d8576b\"],[0.6666666666666666,\"#ed7953\"],[0.7777777777777778,\"#fb9f3a\"],[0.8888888888888888,\"#fdca26\"],[1.0,\"#f0f921\"]]}],\"contourcarpet\":[{\"type\":\"contourcarpet\",\"colorbar\":{\"outlinewidth\":0,\"ticks\":\"\"}}],\"contour\":[{\"type\":\"contour\",\"colorbar\":{\"outlinewidth\":0,\"ticks\":\"\"},\"colorscale\":[[0.0,\"#0d0887\"],[0.1111111111111111,\"#46039f\"],[0.2222222222222222,\"#7201a8\"],[0.3333333333333333,\"#9c179e\"],[0.4444444444444444,\"#bd3786\"],[0.5555555555555556,\"#d8576b\"],[0.6666666666666666,\"#ed7953\"],[0.7777777777777778,\"#fb9f3a\"],[0.8888888888888888,\"#fdca26\"],[1.0,\"#f0f921\"]]}],\"surface\":[{\"type\":\"surface\",\"colorbar\":{\"outlinewidth\":0,\"ticks\":\"\"},\"colorscale\":[[0.0,\"#0d0887\"],[0.1111111111111111,\"#46039f\"],[0.2222222222222222,\"#7201a8\"],[0.3333333333333333,\"#9c179e\"],[0.4444444444444444,\"#bd3786\"],[0.5555555555555556,\"#d8576b\"],[0.6666666666666666,\"#ed7953\"],[0.7777777777777778,\"#fb9f3a\"],[0.8888888888888888,\"#fdca26\"],[1.0,\"#f0f921\"]]}],\"mesh3d\":[{\"type\":\"mesh3d\",\"colorbar\":{\"outlinewidth\":0,\"ticks\":\"\"}}],\"scatter\":[{\"fillpattern\":{\"fillmode\":\"overlay\",\"size\":10,\"solidity\":0.2},\"type\":\"scatter\"}],\"parcoords\":[{\"type\":\"parcoords\",\"line\":{\"colorbar\":{\"outlinewidth\":0,\"ticks\":\"\"}}}],\"scatterpolargl\":[{\"type\":\"scatterpolargl\",\"marker\":{\"colorbar\":{\"outlinewidth\":0,\"ticks\":\"\"}}}],\"bar\":[{\"error_x\":{\"color\":\"#2a3f5f\"},\"error_y\":{\"color\":\"#2a3f5f\"},\"marker\":{\"line\":{\"color\":\"#E5ECF6\",\"width\":0.5},\"pattern\":{\"fillmode\":\"overlay\",\"size\":10,\"solidity\":0.2}},\"type\":\"bar\"}],\"scattergeo\":[{\"type\":\"scattergeo\",\"marker\":{\"colorbar\":{\"outlinewidth\":0,\"ticks\":\"\"}}}],\"scatterpolar\":[{\"type\":\"scatterpolar\",\"marker\":{\"colorbar\":{\"outlinewidth\":0,\"ticks\":\"\"}}}],\"histogram\":[{\"marker\":{\"pattern\":{\"fillmode\":\"overlay\",\"size\":10,\"solidity\":0.2}},\"type\":\"histogram\"}],\"scattergl\":[{\"type\":\"scattergl\",\"marker\":{\"colorbar\":{\"outlinewidth\":0,\"ticks\":\"\"}}}],\"scatter3d\":[{\"type\":\"scatter3d\",\"line\":{\"colorbar\":{\"outlinewidth\":0,\"ticks\":\"\"}},\"marker\":{\"colorbar\":{\"outlinewidth\":0,\"ticks\":\"\"}}}],\"scattermapbox\":[{\"type\":\"scattermapbox\",\"marker\":{\"colorbar\":{\"outlinewidth\":0,\"ticks\":\"\"}}}],\"scatterternary\":[{\"type\":\"scatterternary\",\"marker\":{\"colorbar\":{\"outlinewidth\":0,\"ticks\":\"\"}}}],\"scattercarpet\":[{\"type\":\"scattercarpet\",\"marker\":{\"colorbar\":{\"outlinewidth\":0,\"ticks\":\"\"}}}],\"carpet\":[{\"aaxis\":{\"endlinecolor\":\"#2a3f5f\",\"gridcolor\":\"white\",\"linecolor\":\"white\",\"minorgridcolor\":\"white\",\"startlinecolor\":\"#2a3f5f\"},\"baxis\":{\"endlinecolor\":\"#2a3f5f\",\"gridcolor\":\"white\",\"linecolor\":\"white\",\"minorgridcolor\":\"white\",\"startlinecolor\":\"#2a3f5f\"},\"type\":\"carpet\"}],\"table\":[{\"cells\":{\"fill\":{\"color\":\"#EBF0F8\"},\"line\":{\"color\":\"white\"}},\"header\":{\"fill\":{\"color\":\"#C8D4E3\"},\"line\":{\"color\":\"white\"}},\"type\":\"table\"}],\"barpolar\":[{\"marker\":{\"line\":{\"color\":\"#E5ECF6\",\"width\":0.5},\"pattern\":{\"fillmode\":\"overlay\",\"size\":10,\"solidity\":0.2}},\"type\":\"barpolar\"}],\"pie\":[{\"automargin\":true,\"type\":\"pie\"}]},\"layout\":{\"autotypenumbers\":\"strict\",\"colorway\":[\"#636efa\",\"#EF553B\",\"#00cc96\",\"#ab63fa\",\"#FFA15A\",\"#19d3f3\",\"#FF6692\",\"#B6E880\",\"#FF97FF\",\"#FECB52\"],\"font\":{\"color\":\"#2a3f5f\"},\"hovermode\":\"closest\",\"hoverlabel\":{\"align\":\"left\"},\"paper_bgcolor\":\"white\",\"plot_bgcolor\":\"#E5ECF6\",\"polar\":{\"bgcolor\":\"#E5ECF6\",\"angularaxis\":{\"gridcolor\":\"white\",\"linecolor\":\"white\",\"ticks\":\"\"},\"radialaxis\":{\"gridcolor\":\"white\",\"linecolor\":\"white\",\"ticks\":\"\"}},\"ternary\":{\"bgcolor\":\"#E5ECF6\",\"aaxis\":{\"gridcolor\":\"white\",\"linecolor\":\"white\",\"ticks\":\"\"},\"baxis\":{\"gridcolor\":\"white\",\"linecolor\":\"white\",\"ticks\":\"\"},\"caxis\":{\"gridcolor\":\"white\",\"linecolor\":\"white\",\"ticks\":\"\"}},\"coloraxis\":{\"colorbar\":{\"outlinewidth\":0,\"ticks\":\"\"}},\"colorscale\":{\"sequential\":[[0.0,\"#0d0887\"],[0.1111111111111111,\"#46039f\"],[0.2222222222222222,\"#7201a8\"],[0.3333333333333333,\"#9c179e\"],[0.4444444444444444,\"#bd3786\"],[0.5555555555555556,\"#d8576b\"],[0.6666666666666666,\"#ed7953\"],[0.7777777777777778,\"#fb9f3a\"],[0.8888888888888888,\"#fdca26\"],[1.0,\"#f0f921\"]],\"sequentialminus\":[[0.0,\"#0d0887\"],[0.1111111111111111,\"#46039f\"],[0.2222222222222222,\"#7201a8\"],[0.3333333333333333,\"#9c179e\"],[0.4444444444444444,\"#bd3786\"],[0.5555555555555556,\"#d8576b\"],[0.6666666666666666,\"#ed7953\"],[0.7777777777777778,\"#fb9f3a\"],[0.8888888888888888,\"#fdca26\"],[1.0,\"#f0f921\"]],\"diverging\":[[0,\"#8e0152\"],[0.1,\"#c51b7d\"],[0.2,\"#de77ae\"],[0.3,\"#f1b6da\"],[0.4,\"#fde0ef\"],[0.5,\"#f7f7f7\"],[0.6,\"#e6f5d0\"],[0.7,\"#b8e186\"],[0.8,\"#7fbc41\"],[0.9,\"#4d9221\"],[1,\"#276419\"]]},\"xaxis\":{\"gridcolor\":\"white\",\"linecolor\":\"white\",\"ticks\":\"\",\"title\":{\"standoff\":15},\"zerolinecolor\":\"white\",\"automargin\":true,\"zerolinewidth\":2},\"yaxis\":{\"gridcolor\":\"white\",\"linecolor\":\"white\",\"ticks\":\"\",\"title\":{\"standoff\":15},\"zerolinecolor\":\"white\",\"automargin\":true,\"zerolinewidth\":2},\"scene\":{\"xaxis\":{\"backgroundcolor\":\"#E5ECF6\",\"gridcolor\":\"white\",\"linecolor\":\"white\",\"showbackground\":true,\"ticks\":\"\",\"zerolinecolor\":\"white\",\"gridwidth\":2},\"yaxis\":{\"backgroundcolor\":\"#E5ECF6\",\"gridcolor\":\"white\",\"linecolor\":\"white\",\"showbackground\":true,\"ticks\":\"\",\"zerolinecolor\":\"white\",\"gridwidth\":2},\"zaxis\":{\"backgroundcolor\":\"#E5ECF6\",\"gridcolor\":\"white\",\"linecolor\":\"white\",\"showbackground\":true,\"ticks\":\"\",\"zerolinecolor\":\"white\",\"gridwidth\":2}},\"shapedefaults\":{\"line\":{\"color\":\"#2a3f5f\"}},\"annotationdefaults\":{\"arrowcolor\":\"#2a3f5f\",\"arrowhead\":0,\"arrowwidth\":1},\"geo\":{\"bgcolor\":\"white\",\"landcolor\":\"#E5ECF6\",\"subunitcolor\":\"white\",\"showland\":true,\"showlakes\":true,\"lakecolor\":\"white\"},\"title\":{\"x\":0.05},\"mapbox\":{\"style\":\"light\"}}},\"xaxis\":{\"anchor\":\"y\",\"domain\":[0.0,1.0],\"title\":{\"text\":\"Datetime\"}},\"yaxis\":{\"anchor\":\"x\",\"domain\":[0.0,1.0],\"title\":{\"text\":\"Close\"}},\"legend\":{\"tracegroupgap\":0},\"title\":{\"text\":\"INTC Stock Prices\"}},                        {\"responsive\": true}                    ).then(function(){\n",
       "                            \n",
       "var gd = document.getElementById('8953cde9-cf0f-425f-b90a-9c53d19f83a7');\n",
       "var x = new MutationObserver(function (mutations, observer) {{\n",
       "        var display = window.getComputedStyle(gd).display;\n",
       "        if (!display || display === 'none') {{\n",
       "            console.log([gd, 'removed!']);\n",
       "            Plotly.purge(gd);\n",
       "            observer.disconnect();\n",
       "        }}\n",
       "}});\n",
       "\n",
       "// Listen for the removal of the full notebook cells\n",
       "var notebookContainer = gd.closest('#notebook-container');\n",
       "if (notebookContainer) {{\n",
       "    x.observe(notebookContainer, {childList: true});\n",
       "}}\n",
       "\n",
       "// Listen for the clearing of the current output cell\n",
       "var outputEl = gd.closest('.output');\n",
       "if (outputEl) {{\n",
       "    x.observe(outputEl, {childList: true});\n",
       "}}\n",
       "\n",
       "                        })                };                });            </script>        </div>"
      ]
     },
     "metadata": {},
     "output_type": "display_data"
    },
    {
     "name": "stdout",
     "output_type": "stream",
     "text": [
      "(IMPORTANT!)\n",
      "\n",
      "How many previous 5min intervals should ALL of our machine learning models look at?\n",
      "(Type 'Exit' to quit)\n",
      "30\n",
      "\n",
      "The number of previous data points considered should not exceed 30%% \n",
      "of the total number of data points (in this case, 23) -- please retry. \n",
      "\n",
      "(IMPORTANT!)\n",
      "\n",
      "How many previous 5min intervals should ALL of our machine learning models look at?\n",
      "(Type 'Exit' to quit)\n",
      "15\n"
     ]
    },
    {
     "data": {
      "application/vnd.plotly.v1+json": {
       "config": {
        "plotlyServerURL": "https://plot.ly"
       },
       "data": [
        {
         "hovertemplate": "variable=SMA_12<br>Datetime=%{x}<br>value=%{y}<extra></extra>",
         "legendgroup": "SMA_12",
         "line": {
          "color": "#85deb1",
          "dash": "solid"
         },
         "marker": {
          "symbol": "circle"
         },
         "mode": "lines",
         "name": "SMA_12",
         "orientation": "v",
         "showlegend": true,
         "type": "scatter",
         "x": [
          "2024-06-07T09:30:00-04:00",
          "2024-06-07T09:35:00-04:00",
          "2024-06-07T09:40:00-04:00",
          "2024-06-07T09:45:00-04:00",
          "2024-06-07T09:50:00-04:00",
          "2024-06-07T09:55:00-04:00",
          "2024-06-07T10:00:00-04:00",
          "2024-06-07T10:05:00-04:00",
          "2024-06-07T10:10:00-04:00",
          "2024-06-07T10:15:00-04:00",
          "2024-06-07T10:20:00-04:00",
          "2024-06-07T10:25:00-04:00",
          "2024-06-07T10:30:00-04:00",
          "2024-06-07T10:35:00-04:00",
          "2024-06-07T10:40:00-04:00",
          "2024-06-07T10:45:00-04:00",
          "2024-06-07T10:50:00-04:00",
          "2024-06-07T10:55:00-04:00",
          "2024-06-07T11:00:00-04:00",
          "2024-06-07T11:05:00-04:00",
          "2024-06-07T11:10:00-04:00",
          "2024-06-07T11:15:00-04:00",
          "2024-06-07T11:20:00-04:00",
          "2024-06-07T11:25:00-04:00",
          "2024-06-07T11:30:00-04:00",
          "2024-06-07T11:35:00-04:00",
          "2024-06-07T11:40:00-04:00",
          "2024-06-07T11:45:00-04:00",
          "2024-06-07T11:50:00-04:00",
          "2024-06-07T11:55:00-04:00",
          "2024-06-07T12:00:00-04:00",
          "2024-06-07T12:05:00-04:00",
          "2024-06-07T12:10:00-04:00",
          "2024-06-07T12:15:00-04:00",
          "2024-06-07T12:20:00-04:00",
          "2024-06-07T12:25:00-04:00",
          "2024-06-07T12:30:00-04:00",
          "2024-06-07T12:35:00-04:00",
          "2024-06-07T12:40:00-04:00",
          "2024-06-07T12:45:00-04:00",
          "2024-06-07T12:50:00-04:00",
          "2024-06-07T12:55:00-04:00",
          "2024-06-07T13:00:00-04:00",
          "2024-06-07T13:05:00-04:00",
          "2024-06-07T13:10:00-04:00",
          "2024-06-07T13:15:00-04:00",
          "2024-06-07T13:20:00-04:00",
          "2024-06-07T13:25:00-04:00",
          "2024-06-07T13:30:00-04:00",
          "2024-06-07T13:35:00-04:00",
          "2024-06-07T13:40:00-04:00",
          "2024-06-07T13:45:00-04:00",
          "2024-06-07T13:50:00-04:00",
          "2024-06-07T13:55:00-04:00",
          "2024-06-07T14:00:00-04:00",
          "2024-06-07T14:05:00-04:00",
          "2024-06-07T14:10:00-04:00",
          "2024-06-07T14:15:00-04:00",
          "2024-06-07T14:20:00-04:00",
          "2024-06-07T14:25:00-04:00",
          "2024-06-07T14:30:00-04:00",
          "2024-06-07T14:35:00-04:00",
          "2024-06-07T14:40:00-04:00",
          "2024-06-07T14:45:00-04:00",
          "2024-06-07T14:50:00-04:00",
          "2024-06-07T14:55:00-04:00",
          "2024-06-07T15:00:00-04:00",
          "2024-06-07T15:05:00-04:00",
          "2024-06-07T15:10:00-04:00",
          "2024-06-07T15:15:00-04:00",
          "2024-06-07T15:20:00-04:00",
          "2024-06-07T15:25:00-04:00",
          "2024-06-07T15:30:00-04:00",
          "2024-06-07T15:35:00-04:00",
          "2024-06-07T15:40:00-04:00",
          "2024-06-07T15:45:00-04:00",
          "2024-06-07T15:50:00-04:00",
          "2024-06-07T15:55:00-04:00"
         ],
         "xaxis": "x",
         "y": [
          30.22010040283203,
          30.22010040283203,
          30.22634204228719,
          30.23465871810913,
          30.247992038726807,
          30.266317049662273,
          30.29181702931722,
          30.31972535451253,
          30.349300384521484,
          30.37511698404948,
          30.399275302886963,
          30.428850332895916,
          30.461342016855877,
          30.49261697133382,
          30.517616907755535,
          30.54669189453125,
          30.574183464050293,
          30.589600086212158,
          30.595450083414715,
          30.60128339131673,
          30.60004170735677,
          30.603800137837727,
          30.607966740926106,
          30.610883394877117,
          30.611716747283936,
          30.6122833887736,
          30.60895013809204,
          30.600300153096516,
          30.58905029296875,
          30.58780034383138,
          30.58852529525757,
          30.58435869216919,
          30.59017531077067,
          30.59350856145223,
          30.599758625030518,
          30.601841926574707,
          30.603091875712078,
          30.602083524068195,
          30.605416774749756,
          30.608791669209797,
          30.610041618347168,
          30.60879151026408,
          30.611708164215088,
          30.611708164215088,
          30.606716473897297,
          30.60338322321574,
          30.6017165184021,
          30.60088316599528,
          30.60046641031901,
          30.60337479909261,
          30.60420815149943,
          30.602091471354168,
          30.6016747156779,
          30.59959141413371,
          30.588758150736492,
          30.576933066050213,
          30.562058130900066,
          30.54122479756673,
          30.518724759419758,
          30.499149799346924,
          30.48081652323405,
          30.462899843851726,
          30.44706662495931,
          30.434558391571045,
          30.41955852508545,
          30.408725261688232,
          30.399550278981526,
          30.394292036692303,
          30.392500400543213,
          30.39792537689209,
          30.404592037200928,
          30.411667029062908,
          30.424166997273762,
          30.438166936238606,
          30.454000155131023,
          30.471083482106526,
          30.49483346939087,
          30.518208503723145
         ],
         "yaxis": "y"
        },
        {
         "hovertemplate": "variable=upper_boll_12<br>Datetime=%{x}<br>value=%{y}<extra></extra>",
         "legendgroup": "upper_boll_12",
         "line": {
          "color": "#b6d1c3",
          "dash": "dot"
         },
         "marker": {
          "symbol": "circle"
         },
         "mode": "lines",
         "name": "upper_boll_12",
         "orientation": "v",
         "showlegend": true,
         "type": "scatter",
         "x": [
          "2024-06-07T09:30:00-04:00",
          "2024-06-07T09:35:00-04:00",
          "2024-06-07T09:40:00-04:00",
          "2024-06-07T09:45:00-04:00",
          "2024-06-07T09:50:00-04:00",
          "2024-06-07T09:55:00-04:00",
          "2024-06-07T10:00:00-04:00",
          "2024-06-07T10:05:00-04:00",
          "2024-06-07T10:10:00-04:00",
          "2024-06-07T10:15:00-04:00",
          "2024-06-07T10:20:00-04:00",
          "2024-06-07T10:25:00-04:00",
          "2024-06-07T10:30:00-04:00",
          "2024-06-07T10:35:00-04:00",
          "2024-06-07T10:40:00-04:00",
          "2024-06-07T10:45:00-04:00",
          "2024-06-07T10:50:00-04:00",
          "2024-06-07T10:55:00-04:00",
          "2024-06-07T11:00:00-04:00",
          "2024-06-07T11:05:00-04:00",
          "2024-06-07T11:10:00-04:00",
          "2024-06-07T11:15:00-04:00",
          "2024-06-07T11:20:00-04:00",
          "2024-06-07T11:25:00-04:00",
          "2024-06-07T11:30:00-04:00",
          "2024-06-07T11:35:00-04:00",
          "2024-06-07T11:40:00-04:00",
          "2024-06-07T11:45:00-04:00",
          "2024-06-07T11:50:00-04:00",
          "2024-06-07T11:55:00-04:00",
          "2024-06-07T12:00:00-04:00",
          "2024-06-07T12:05:00-04:00",
          "2024-06-07T12:10:00-04:00",
          "2024-06-07T12:15:00-04:00",
          "2024-06-07T12:20:00-04:00",
          "2024-06-07T12:25:00-04:00",
          "2024-06-07T12:30:00-04:00",
          "2024-06-07T12:35:00-04:00",
          "2024-06-07T12:40:00-04:00",
          "2024-06-07T12:45:00-04:00",
          "2024-06-07T12:50:00-04:00",
          "2024-06-07T12:55:00-04:00",
          "2024-06-07T13:00:00-04:00",
          "2024-06-07T13:05:00-04:00",
          "2024-06-07T13:10:00-04:00",
          "2024-06-07T13:15:00-04:00",
          "2024-06-07T13:20:00-04:00",
          "2024-06-07T13:25:00-04:00",
          "2024-06-07T13:30:00-04:00",
          "2024-06-07T13:35:00-04:00",
          "2024-06-07T13:40:00-04:00",
          "2024-06-07T13:45:00-04:00",
          "2024-06-07T13:50:00-04:00",
          "2024-06-07T13:55:00-04:00",
          "2024-06-07T14:00:00-04:00",
          "2024-06-07T14:05:00-04:00",
          "2024-06-07T14:10:00-04:00",
          "2024-06-07T14:15:00-04:00",
          "2024-06-07T14:20:00-04:00",
          "2024-06-07T14:25:00-04:00",
          "2024-06-07T14:30:00-04:00",
          "2024-06-07T14:35:00-04:00",
          "2024-06-07T14:40:00-04:00",
          "2024-06-07T14:45:00-04:00",
          "2024-06-07T14:50:00-04:00",
          "2024-06-07T14:55:00-04:00",
          "2024-06-07T15:00:00-04:00",
          "2024-06-07T15:05:00-04:00",
          "2024-06-07T15:10:00-04:00",
          "2024-06-07T15:15:00-04:00",
          "2024-06-07T15:20:00-04:00",
          "2024-06-07T15:25:00-04:00",
          "2024-06-07T15:30:00-04:00",
          "2024-06-07T15:35:00-04:00",
          "2024-06-07T15:40:00-04:00",
          "2024-06-07T15:45:00-04:00",
          "2024-06-07T15:50:00-04:00",
          "2024-06-07T15:55:00-04:00"
         ],
         "xaxis": "x",
         "y": [
          30.22010040283203,
          30.22010040283203,
          30.247963715604914,
          30.26907157047689,
          30.30178850190109,
          30.34253104298942,
          30.39688955764943,
          30.44629487012499,
          30.491030755763347,
          30.519366754196337,
          30.539420621920506,
          30.56514127123864,
          30.589581067077678,
          30.600881927781078,
          30.609498280701683,
          30.624435328577878,
          30.64574493318749,
          30.6484192831973,
          30.650766246918668,
          30.655628534639437,
          30.65520599809554,
          30.655156037188362,
          30.652610239223005,
          30.654303917694435,
          30.65521468306284,
          30.65559332636225,
          30.655153781509345,
          30.643924787276152,
          30.61605481639943,
          30.613294501863717,
          30.61440391493499,
          30.60773489302958,
          30.615564050910056,
          30.61934569046686,
          30.625823350479983,
          30.62973467518454,
          30.632182702294784,
          30.63141679204429,
          30.630938381514905,
          30.630937327254596,
          30.63046281755698,
          30.62966950033636,
          30.634376254391984,
          30.634376254391984,
          30.63151001424947,
          30.629609273177532,
          30.626336977265765,
          30.62442001980227,
          30.623380283263426,
          30.62705528083186,
          30.62774260338976,
          30.626620470458445,
          30.626468877827868,
          30.625995476234973,
          30.622675671402682,
          30.633354098381343,
          30.63992671036935,
          30.64458604536087,
          30.633340995114676,
          30.614024168001663,
          30.59034035903818,
          30.56395078262782,
          30.53822976928186,
          30.51553765669692,
          30.485392585825185,
          30.455486137056006,
          30.43374686172683,
          30.42770308854823,
          30.42664319183946,
          30.424757220758575,
          30.426579470977323,
          30.44099988878441,
          30.476031615732463,
          30.50605786342749,
          30.536566449157913,
          30.56816455187251,
          30.60783430293684,
          30.646775261997398
         ],
         "yaxis": "y"
        },
        {
         "hovertemplate": "variable=lower_boll_12<br>Datetime=%{x}<br>value=%{y}<extra></extra>",
         "legendgroup": "lower_boll_12",
         "line": {
          "color": "#b6d1c3",
          "dash": "dot"
         },
         "marker": {
          "symbol": "circle"
         },
         "mode": "lines",
         "name": "lower_boll_12",
         "orientation": "v",
         "showlegend": true,
         "type": "scatter",
         "x": [
          "2024-06-07T09:30:00-04:00",
          "2024-06-07T09:35:00-04:00",
          "2024-06-07T09:40:00-04:00",
          "2024-06-07T09:45:00-04:00",
          "2024-06-07T09:50:00-04:00",
          "2024-06-07T09:55:00-04:00",
          "2024-06-07T10:00:00-04:00",
          "2024-06-07T10:05:00-04:00",
          "2024-06-07T10:10:00-04:00",
          "2024-06-07T10:15:00-04:00",
          "2024-06-07T10:20:00-04:00",
          "2024-06-07T10:25:00-04:00",
          "2024-06-07T10:30:00-04:00",
          "2024-06-07T10:35:00-04:00",
          "2024-06-07T10:40:00-04:00",
          "2024-06-07T10:45:00-04:00",
          "2024-06-07T10:50:00-04:00",
          "2024-06-07T10:55:00-04:00",
          "2024-06-07T11:00:00-04:00",
          "2024-06-07T11:05:00-04:00",
          "2024-06-07T11:10:00-04:00",
          "2024-06-07T11:15:00-04:00",
          "2024-06-07T11:20:00-04:00",
          "2024-06-07T11:25:00-04:00",
          "2024-06-07T11:30:00-04:00",
          "2024-06-07T11:35:00-04:00",
          "2024-06-07T11:40:00-04:00",
          "2024-06-07T11:45:00-04:00",
          "2024-06-07T11:50:00-04:00",
          "2024-06-07T11:55:00-04:00",
          "2024-06-07T12:00:00-04:00",
          "2024-06-07T12:05:00-04:00",
          "2024-06-07T12:10:00-04:00",
          "2024-06-07T12:15:00-04:00",
          "2024-06-07T12:20:00-04:00",
          "2024-06-07T12:25:00-04:00",
          "2024-06-07T12:30:00-04:00",
          "2024-06-07T12:35:00-04:00",
          "2024-06-07T12:40:00-04:00",
          "2024-06-07T12:45:00-04:00",
          "2024-06-07T12:50:00-04:00",
          "2024-06-07T12:55:00-04:00",
          "2024-06-07T13:00:00-04:00",
          "2024-06-07T13:05:00-04:00",
          "2024-06-07T13:10:00-04:00",
          "2024-06-07T13:15:00-04:00",
          "2024-06-07T13:20:00-04:00",
          "2024-06-07T13:25:00-04:00",
          "2024-06-07T13:30:00-04:00",
          "2024-06-07T13:35:00-04:00",
          "2024-06-07T13:40:00-04:00",
          "2024-06-07T13:45:00-04:00",
          "2024-06-07T13:50:00-04:00",
          "2024-06-07T13:55:00-04:00",
          "2024-06-07T14:00:00-04:00",
          "2024-06-07T14:05:00-04:00",
          "2024-06-07T14:10:00-04:00",
          "2024-06-07T14:15:00-04:00",
          "2024-06-07T14:20:00-04:00",
          "2024-06-07T14:25:00-04:00",
          "2024-06-07T14:30:00-04:00",
          "2024-06-07T14:35:00-04:00",
          "2024-06-07T14:40:00-04:00",
          "2024-06-07T14:45:00-04:00",
          "2024-06-07T14:50:00-04:00",
          "2024-06-07T14:55:00-04:00",
          "2024-06-07T15:00:00-04:00",
          "2024-06-07T15:05:00-04:00",
          "2024-06-07T15:10:00-04:00",
          "2024-06-07T15:15:00-04:00",
          "2024-06-07T15:20:00-04:00",
          "2024-06-07T15:25:00-04:00",
          "2024-06-07T15:30:00-04:00",
          "2024-06-07T15:35:00-04:00",
          "2024-06-07T15:40:00-04:00",
          "2024-06-07T15:45:00-04:00",
          "2024-06-07T15:50:00-04:00",
          "2024-06-07T15:55:00-04:00"
         ],
         "xaxis": "x",
         "y": [
          30.22010040283203,
          30.22010040283203,
          30.204720368969465,
          30.200245865741373,
          30.194195575552524,
          30.190103056335126,
          30.186744500985007,
          30.193155838900072,
          30.20757001327962,
          30.230867213902624,
          30.25912998385342,
          30.29255939455319,
          30.333102966634076,
          30.384352014886563,
          30.425735534809387,
          30.468948460484622,
          30.502621994913095,
          30.530780889227017,
          30.54013391991076,
          30.546938247994024,
          30.544877416618,
          30.55244423848709,
          30.563323242629206,
          30.5674628720598,
          30.56821881150503,
          30.568973451184952,
          30.562746494674737,
          30.55667551891688,
          30.56204576953807,
          30.56230618579904,
          30.562646675580147,
          30.5609824913088,
          30.564786570631288,
          30.567671432437596,
          30.573693899581052,
          30.573949177964874,
          30.57400104912937,
          30.5727502560921,
          30.579895167984606,
          30.586646011164998,
          30.589620419137354,
          30.5879135201918,
          30.58904007403819,
          30.58904007403819,
          30.581922933545123,
          30.577157173253948,
          30.577096059538434,
          30.577346312188293,
          30.577552537374597,
          30.579694317353358,
          30.580673699609104,
          30.57756247224989,
          30.57688055352793,
          30.573187352032445,
          30.554840630070302,
          30.520512033719083,
          30.484189551430784,
          30.43786354977259,
          30.40410852372484,
          30.384275430692185,
          30.37129268742992,
          30.361848905075632,
          30.35590348063676,
          30.35357912644517,
          30.353724464345714,
          30.36196438632046,
          30.36535369623622,
          30.360880984836374,
          30.358357609246966,
          30.371093533025604,
          30.382604603424532,
          30.382334169341405,
          30.37230237881506,
          30.37027600904972,
          30.371433861104133,
          30.37400241234054,
          30.381832635844898,
          30.38964174544889
         ],
         "yaxis": "y"
        },
        {
         "hovertemplate": "variable=Close<br>Datetime=%{x}<br>value=%{y}<extra></extra>",
         "legendgroup": "Close",
         "line": {
          "color": "#0059ff",
          "dash": "solid"
         },
         "marker": {
          "symbol": "circle"
         },
         "mode": "lines",
         "name": "Close",
         "orientation": "v",
         "showlegend": true,
         "type": "scatter",
         "x": [
          "2024-06-07T09:30:00-04:00",
          "2024-06-07T09:35:00-04:00",
          "2024-06-07T09:40:00-04:00",
          "2024-06-07T09:45:00-04:00",
          "2024-06-07T09:50:00-04:00",
          "2024-06-07T09:55:00-04:00",
          "2024-06-07T10:00:00-04:00",
          "2024-06-07T10:05:00-04:00",
          "2024-06-07T10:10:00-04:00",
          "2024-06-07T10:15:00-04:00",
          "2024-06-07T10:20:00-04:00",
          "2024-06-07T10:25:00-04:00",
          "2024-06-07T10:30:00-04:00",
          "2024-06-07T10:35:00-04:00",
          "2024-06-07T10:40:00-04:00",
          "2024-06-07T10:45:00-04:00",
          "2024-06-07T10:50:00-04:00",
          "2024-06-07T10:55:00-04:00",
          "2024-06-07T11:00:00-04:00",
          "2024-06-07T11:05:00-04:00",
          "2024-06-07T11:10:00-04:00",
          "2024-06-07T11:15:00-04:00",
          "2024-06-07T11:20:00-04:00",
          "2024-06-07T11:25:00-04:00",
          "2024-06-07T11:30:00-04:00",
          "2024-06-07T11:35:00-04:00",
          "2024-06-07T11:40:00-04:00",
          "2024-06-07T11:45:00-04:00",
          "2024-06-07T11:50:00-04:00",
          "2024-06-07T11:55:00-04:00",
          "2024-06-07T12:00:00-04:00",
          "2024-06-07T12:05:00-04:00",
          "2024-06-07T12:10:00-04:00",
          "2024-06-07T12:15:00-04:00",
          "2024-06-07T12:20:00-04:00",
          "2024-06-07T12:25:00-04:00",
          "2024-06-07T12:30:00-04:00",
          "2024-06-07T12:35:00-04:00",
          "2024-06-07T12:40:00-04:00",
          "2024-06-07T12:45:00-04:00",
          "2024-06-07T12:50:00-04:00",
          "2024-06-07T12:55:00-04:00",
          "2024-06-07T13:00:00-04:00",
          "2024-06-07T13:05:00-04:00",
          "2024-06-07T13:10:00-04:00",
          "2024-06-07T13:15:00-04:00",
          "2024-06-07T13:20:00-04:00",
          "2024-06-07T13:25:00-04:00",
          "2024-06-07T13:30:00-04:00",
          "2024-06-07T13:35:00-04:00",
          "2024-06-07T13:40:00-04:00",
          "2024-06-07T13:45:00-04:00",
          "2024-06-07T13:50:00-04:00",
          "2024-06-07T13:55:00-04:00",
          "2024-06-07T14:00:00-04:00",
          "2024-06-07T14:05:00-04:00",
          "2024-06-07T14:10:00-04:00",
          "2024-06-07T14:15:00-04:00",
          "2024-06-07T14:20:00-04:00",
          "2024-06-07T14:25:00-04:00",
          "2024-06-07T14:30:00-04:00",
          "2024-06-07T14:35:00-04:00",
          "2024-06-07T14:40:00-04:00",
          "2024-06-07T14:45:00-04:00",
          "2024-06-07T14:50:00-04:00",
          "2024-06-07T14:55:00-04:00",
          "2024-06-07T15:00:00-04:00",
          "2024-06-07T15:05:00-04:00",
          "2024-06-07T15:10:00-04:00",
          "2024-06-07T15:15:00-04:00",
          "2024-06-07T15:20:00-04:00",
          "2024-06-07T15:25:00-04:00",
          "2024-06-07T15:30:00-04:00",
          "2024-06-07T15:35:00-04:00",
          "2024-06-07T15:40:00-04:00",
          "2024-06-07T15:45:00-04:00",
          "2024-06-07T15:50:00-04:00",
          "2024-06-07T15:55:00-04:00"
         ],
         "xaxis": "x",
         "y": [
          30.22010040283203,
          30.295000076293945,
          30.319900512695312,
          30.38010025024414,
          30.440000534057617,
          30.526100158691406,
          30.55500030517578,
          30.575000762939453,
          30.52989959716797,
          30.510000228881836,
          30.575000762939453,
          30.610000610351562,
          30.595399856567383,
          30.594999313354492,
          30.668800354003906,
          30.709999084472656,
          30.625,
          30.59630012512207,
          30.625,
          30.560100555419922,
          30.575000762939453,
          30.559999465942383,
          30.610000610351562,
          30.6200008392334,
          30.60219955444336,
          30.55500030517578,
          30.565000534057617,
          30.575000762939453,
          30.610000610351562,
          30.604999542236328,
          30.575000762939453,
          30.629899978637695,
          30.614999771118164,
          30.635000228881836,
          30.635000228881836,
          30.635000228881836,
          30.590099334716797,
          30.594999313354492,
          30.605499267578125,
          30.59000015258789,
          30.594999313354492,
          30.639999389648438,
          30.575000762939453,
          30.56999969482422,
          30.575000762939453,
          30.614999771118164,
          30.625,
          30.6299991607666,
          30.625,
          30.604999542236328,
          30.58009910583496,
          30.584999084472656,
          30.56999969482422,
          30.510000228881836,
          30.4330997467041,
          30.39150047302246,
          30.325000762939453,
          30.344999313354492,
          30.390100479125977,
          30.40999984741211,
          30.40999984741211,
          30.415000915527344,
          30.43000030517578,
          30.405000686645508,
          30.440000534057617,
          30.399900436401367,
          30.3700008392334,
          30.3700008392334,
          30.390100479125977,
          30.424999237060547,
          30.475000381469727,
          30.559999465942383,
          30.577999114990234,
          30.604999542236328,
          30.635000228881836,
          30.690000534057617,
          30.720500946044922,
          30.770000457763672
         ],
         "yaxis": "y"
        }
       ],
       "layout": {
        "legend": {
         "title": {
          "text": "variable"
         },
         "tracegroupgap": 0
        },
        "template": {
         "data": {
          "bar": [
           {
            "error_x": {
             "color": "#2a3f5f"
            },
            "error_y": {
             "color": "#2a3f5f"
            },
            "marker": {
             "line": {
              "color": "#E5ECF6",
              "width": 0.5
             },
             "pattern": {
              "fillmode": "overlay",
              "size": 10,
              "solidity": 0.2
             }
            },
            "type": "bar"
           }
          ],
          "barpolar": [
           {
            "marker": {
             "line": {
              "color": "#E5ECF6",
              "width": 0.5
             },
             "pattern": {
              "fillmode": "overlay",
              "size": 10,
              "solidity": 0.2
             }
            },
            "type": "barpolar"
           }
          ],
          "carpet": [
           {
            "aaxis": {
             "endlinecolor": "#2a3f5f",
             "gridcolor": "white",
             "linecolor": "white",
             "minorgridcolor": "white",
             "startlinecolor": "#2a3f5f"
            },
            "baxis": {
             "endlinecolor": "#2a3f5f",
             "gridcolor": "white",
             "linecolor": "white",
             "minorgridcolor": "white",
             "startlinecolor": "#2a3f5f"
            },
            "type": "carpet"
           }
          ],
          "choropleth": [
           {
            "colorbar": {
             "outlinewidth": 0,
             "ticks": ""
            },
            "type": "choropleth"
           }
          ],
          "contour": [
           {
            "colorbar": {
             "outlinewidth": 0,
             "ticks": ""
            },
            "colorscale": [
             [
              0,
              "#0d0887"
             ],
             [
              0.1111111111111111,
              "#46039f"
             ],
             [
              0.2222222222222222,
              "#7201a8"
             ],
             [
              0.3333333333333333,
              "#9c179e"
             ],
             [
              0.4444444444444444,
              "#bd3786"
             ],
             [
              0.5555555555555556,
              "#d8576b"
             ],
             [
              0.6666666666666666,
              "#ed7953"
             ],
             [
              0.7777777777777778,
              "#fb9f3a"
             ],
             [
              0.8888888888888888,
              "#fdca26"
             ],
             [
              1,
              "#f0f921"
             ]
            ],
            "type": "contour"
           }
          ],
          "contourcarpet": [
           {
            "colorbar": {
             "outlinewidth": 0,
             "ticks": ""
            },
            "type": "contourcarpet"
           }
          ],
          "heatmap": [
           {
            "colorbar": {
             "outlinewidth": 0,
             "ticks": ""
            },
            "colorscale": [
             [
              0,
              "#0d0887"
             ],
             [
              0.1111111111111111,
              "#46039f"
             ],
             [
              0.2222222222222222,
              "#7201a8"
             ],
             [
              0.3333333333333333,
              "#9c179e"
             ],
             [
              0.4444444444444444,
              "#bd3786"
             ],
             [
              0.5555555555555556,
              "#d8576b"
             ],
             [
              0.6666666666666666,
              "#ed7953"
             ],
             [
              0.7777777777777778,
              "#fb9f3a"
             ],
             [
              0.8888888888888888,
              "#fdca26"
             ],
             [
              1,
              "#f0f921"
             ]
            ],
            "type": "heatmap"
           }
          ],
          "heatmapgl": [
           {
            "colorbar": {
             "outlinewidth": 0,
             "ticks": ""
            },
            "colorscale": [
             [
              0,
              "#0d0887"
             ],
             [
              0.1111111111111111,
              "#46039f"
             ],
             [
              0.2222222222222222,
              "#7201a8"
             ],
             [
              0.3333333333333333,
              "#9c179e"
             ],
             [
              0.4444444444444444,
              "#bd3786"
             ],
             [
              0.5555555555555556,
              "#d8576b"
             ],
             [
              0.6666666666666666,
              "#ed7953"
             ],
             [
              0.7777777777777778,
              "#fb9f3a"
             ],
             [
              0.8888888888888888,
              "#fdca26"
             ],
             [
              1,
              "#f0f921"
             ]
            ],
            "type": "heatmapgl"
           }
          ],
          "histogram": [
           {
            "marker": {
             "pattern": {
              "fillmode": "overlay",
              "size": 10,
              "solidity": 0.2
             }
            },
            "type": "histogram"
           }
          ],
          "histogram2d": [
           {
            "colorbar": {
             "outlinewidth": 0,
             "ticks": ""
            },
            "colorscale": [
             [
              0,
              "#0d0887"
             ],
             [
              0.1111111111111111,
              "#46039f"
             ],
             [
              0.2222222222222222,
              "#7201a8"
             ],
             [
              0.3333333333333333,
              "#9c179e"
             ],
             [
              0.4444444444444444,
              "#bd3786"
             ],
             [
              0.5555555555555556,
              "#d8576b"
             ],
             [
              0.6666666666666666,
              "#ed7953"
             ],
             [
              0.7777777777777778,
              "#fb9f3a"
             ],
             [
              0.8888888888888888,
              "#fdca26"
             ],
             [
              1,
              "#f0f921"
             ]
            ],
            "type": "histogram2d"
           }
          ],
          "histogram2dcontour": [
           {
            "colorbar": {
             "outlinewidth": 0,
             "ticks": ""
            },
            "colorscale": [
             [
              0,
              "#0d0887"
             ],
             [
              0.1111111111111111,
              "#46039f"
             ],
             [
              0.2222222222222222,
              "#7201a8"
             ],
             [
              0.3333333333333333,
              "#9c179e"
             ],
             [
              0.4444444444444444,
              "#bd3786"
             ],
             [
              0.5555555555555556,
              "#d8576b"
             ],
             [
              0.6666666666666666,
              "#ed7953"
             ],
             [
              0.7777777777777778,
              "#fb9f3a"
             ],
             [
              0.8888888888888888,
              "#fdca26"
             ],
             [
              1,
              "#f0f921"
             ]
            ],
            "type": "histogram2dcontour"
           }
          ],
          "mesh3d": [
           {
            "colorbar": {
             "outlinewidth": 0,
             "ticks": ""
            },
            "type": "mesh3d"
           }
          ],
          "parcoords": [
           {
            "line": {
             "colorbar": {
              "outlinewidth": 0,
              "ticks": ""
             }
            },
            "type": "parcoords"
           }
          ],
          "pie": [
           {
            "automargin": true,
            "type": "pie"
           }
          ],
          "scatter": [
           {
            "fillpattern": {
             "fillmode": "overlay",
             "size": 10,
             "solidity": 0.2
            },
            "type": "scatter"
           }
          ],
          "scatter3d": [
           {
            "line": {
             "colorbar": {
              "outlinewidth": 0,
              "ticks": ""
             }
            },
            "marker": {
             "colorbar": {
              "outlinewidth": 0,
              "ticks": ""
             }
            },
            "type": "scatter3d"
           }
          ],
          "scattercarpet": [
           {
            "marker": {
             "colorbar": {
              "outlinewidth": 0,
              "ticks": ""
             }
            },
            "type": "scattercarpet"
           }
          ],
          "scattergeo": [
           {
            "marker": {
             "colorbar": {
              "outlinewidth": 0,
              "ticks": ""
             }
            },
            "type": "scattergeo"
           }
          ],
          "scattergl": [
           {
            "marker": {
             "colorbar": {
              "outlinewidth": 0,
              "ticks": ""
             }
            },
            "type": "scattergl"
           }
          ],
          "scattermapbox": [
           {
            "marker": {
             "colorbar": {
              "outlinewidth": 0,
              "ticks": ""
             }
            },
            "type": "scattermapbox"
           }
          ],
          "scatterpolar": [
           {
            "marker": {
             "colorbar": {
              "outlinewidth": 0,
              "ticks": ""
             }
            },
            "type": "scatterpolar"
           }
          ],
          "scatterpolargl": [
           {
            "marker": {
             "colorbar": {
              "outlinewidth": 0,
              "ticks": ""
             }
            },
            "type": "scatterpolargl"
           }
          ],
          "scatterternary": [
           {
            "marker": {
             "colorbar": {
              "outlinewidth": 0,
              "ticks": ""
             }
            },
            "type": "scatterternary"
           }
          ],
          "surface": [
           {
            "colorbar": {
             "outlinewidth": 0,
             "ticks": ""
            },
            "colorscale": [
             [
              0,
              "#0d0887"
             ],
             [
              0.1111111111111111,
              "#46039f"
             ],
             [
              0.2222222222222222,
              "#7201a8"
             ],
             [
              0.3333333333333333,
              "#9c179e"
             ],
             [
              0.4444444444444444,
              "#bd3786"
             ],
             [
              0.5555555555555556,
              "#d8576b"
             ],
             [
              0.6666666666666666,
              "#ed7953"
             ],
             [
              0.7777777777777778,
              "#fb9f3a"
             ],
             [
              0.8888888888888888,
              "#fdca26"
             ],
             [
              1,
              "#f0f921"
             ]
            ],
            "type": "surface"
           }
          ],
          "table": [
           {
            "cells": {
             "fill": {
              "color": "#EBF0F8"
             },
             "line": {
              "color": "white"
             }
            },
            "header": {
             "fill": {
              "color": "#C8D4E3"
             },
             "line": {
              "color": "white"
             }
            },
            "type": "table"
           }
          ]
         },
         "layout": {
          "annotationdefaults": {
           "arrowcolor": "#2a3f5f",
           "arrowhead": 0,
           "arrowwidth": 1
          },
          "autotypenumbers": "strict",
          "coloraxis": {
           "colorbar": {
            "outlinewidth": 0,
            "ticks": ""
           }
          },
          "colorscale": {
           "diverging": [
            [
             0,
             "#8e0152"
            ],
            [
             0.1,
             "#c51b7d"
            ],
            [
             0.2,
             "#de77ae"
            ],
            [
             0.3,
             "#f1b6da"
            ],
            [
             0.4,
             "#fde0ef"
            ],
            [
             0.5,
             "#f7f7f7"
            ],
            [
             0.6,
             "#e6f5d0"
            ],
            [
             0.7,
             "#b8e186"
            ],
            [
             0.8,
             "#7fbc41"
            ],
            [
             0.9,
             "#4d9221"
            ],
            [
             1,
             "#276419"
            ]
           ],
           "sequential": [
            [
             0,
             "#0d0887"
            ],
            [
             0.1111111111111111,
             "#46039f"
            ],
            [
             0.2222222222222222,
             "#7201a8"
            ],
            [
             0.3333333333333333,
             "#9c179e"
            ],
            [
             0.4444444444444444,
             "#bd3786"
            ],
            [
             0.5555555555555556,
             "#d8576b"
            ],
            [
             0.6666666666666666,
             "#ed7953"
            ],
            [
             0.7777777777777778,
             "#fb9f3a"
            ],
            [
             0.8888888888888888,
             "#fdca26"
            ],
            [
             1,
             "#f0f921"
            ]
           ],
           "sequentialminus": [
            [
             0,
             "#0d0887"
            ],
            [
             0.1111111111111111,
             "#46039f"
            ],
            [
             0.2222222222222222,
             "#7201a8"
            ],
            [
             0.3333333333333333,
             "#9c179e"
            ],
            [
             0.4444444444444444,
             "#bd3786"
            ],
            [
             0.5555555555555556,
             "#d8576b"
            ],
            [
             0.6666666666666666,
             "#ed7953"
            ],
            [
             0.7777777777777778,
             "#fb9f3a"
            ],
            [
             0.8888888888888888,
             "#fdca26"
            ],
            [
             1,
             "#f0f921"
            ]
           ]
          },
          "colorway": [
           "#636efa",
           "#EF553B",
           "#00cc96",
           "#ab63fa",
           "#FFA15A",
           "#19d3f3",
           "#FF6692",
           "#B6E880",
           "#FF97FF",
           "#FECB52"
          ],
          "font": {
           "color": "#2a3f5f"
          },
          "geo": {
           "bgcolor": "white",
           "lakecolor": "white",
           "landcolor": "#E5ECF6",
           "showlakes": true,
           "showland": true,
           "subunitcolor": "white"
          },
          "hoverlabel": {
           "align": "left"
          },
          "hovermode": "closest",
          "mapbox": {
           "style": "light"
          },
          "paper_bgcolor": "white",
          "plot_bgcolor": "#E5ECF6",
          "polar": {
           "angularaxis": {
            "gridcolor": "white",
            "linecolor": "white",
            "ticks": ""
           },
           "bgcolor": "#E5ECF6",
           "radialaxis": {
            "gridcolor": "white",
            "linecolor": "white",
            "ticks": ""
           }
          },
          "scene": {
           "xaxis": {
            "backgroundcolor": "#E5ECF6",
            "gridcolor": "white",
            "gridwidth": 2,
            "linecolor": "white",
            "showbackground": true,
            "ticks": "",
            "zerolinecolor": "white"
           },
           "yaxis": {
            "backgroundcolor": "#E5ECF6",
            "gridcolor": "white",
            "gridwidth": 2,
            "linecolor": "white",
            "showbackground": true,
            "ticks": "",
            "zerolinecolor": "white"
           },
           "zaxis": {
            "backgroundcolor": "#E5ECF6",
            "gridcolor": "white",
            "gridwidth": 2,
            "linecolor": "white",
            "showbackground": true,
            "ticks": "",
            "zerolinecolor": "white"
           }
          },
          "shapedefaults": {
           "line": {
            "color": "#2a3f5f"
           }
          },
          "ternary": {
           "aaxis": {
            "gridcolor": "white",
            "linecolor": "white",
            "ticks": ""
           },
           "baxis": {
            "gridcolor": "white",
            "linecolor": "white",
            "ticks": ""
           },
           "bgcolor": "#E5ECF6",
           "caxis": {
            "gridcolor": "white",
            "linecolor": "white",
            "ticks": ""
           }
          },
          "title": {
           "x": 0.05
          },
          "xaxis": {
           "automargin": true,
           "gridcolor": "white",
           "linecolor": "white",
           "ticks": "",
           "title": {
            "standoff": 15
           },
           "zerolinecolor": "white",
           "zerolinewidth": 2
          },
          "yaxis": {
           "automargin": true,
           "gridcolor": "white",
           "linecolor": "white",
           "ticks": "",
           "title": {
            "standoff": 15
           },
           "zerolinecolor": "white",
           "zerolinewidth": 2
          }
         }
        },
        "title": {
         "text": "INTC Stock Prices w/ Bollinger Bands"
        },
        "xaxis": {
         "anchor": "y",
         "domain": [
          0,
          1
         ],
         "title": {
          "text": "Datetime"
         }
        },
        "yaxis": {
         "anchor": "x",
         "domain": [
          0,
          1
         ],
         "title": {
          "text": "value"
         }
        }
       }
      },
      "text/html": [
       "<div>                            <div id=\"e5570b3e-e732-4eb9-973f-b762d751fefb\" class=\"plotly-graph-div\" style=\"height:525px; width:100%;\"></div>            <script type=\"text/javascript\">                require([\"plotly\"], function(Plotly) {                    window.PLOTLYENV=window.PLOTLYENV || {};                                    if (document.getElementById(\"e5570b3e-e732-4eb9-973f-b762d751fefb\")) {                    Plotly.newPlot(                        \"e5570b3e-e732-4eb9-973f-b762d751fefb\",                        [{\"hovertemplate\":\"variable=SMA_12<br>Datetime=%{x}<br>value=%{y}<extra></extra>\",\"legendgroup\":\"SMA_12\",\"line\":{\"color\":\"#85deb1\",\"dash\":\"solid\"},\"marker\":{\"symbol\":\"circle\"},\"mode\":\"lines\",\"name\":\"SMA_12\",\"orientation\":\"v\",\"showlegend\":true,\"x\":[\"2024-06-07T09:30:00-04:00\",\"2024-06-07T09:35:00-04:00\",\"2024-06-07T09:40:00-04:00\",\"2024-06-07T09:45:00-04:00\",\"2024-06-07T09:50:00-04:00\",\"2024-06-07T09:55:00-04:00\",\"2024-06-07T10:00:00-04:00\",\"2024-06-07T10:05:00-04:00\",\"2024-06-07T10:10:00-04:00\",\"2024-06-07T10:15:00-04:00\",\"2024-06-07T10:20:00-04:00\",\"2024-06-07T10:25:00-04:00\",\"2024-06-07T10:30:00-04:00\",\"2024-06-07T10:35:00-04:00\",\"2024-06-07T10:40:00-04:00\",\"2024-06-07T10:45:00-04:00\",\"2024-06-07T10:50:00-04:00\",\"2024-06-07T10:55:00-04:00\",\"2024-06-07T11:00:00-04:00\",\"2024-06-07T11:05:00-04:00\",\"2024-06-07T11:10:00-04:00\",\"2024-06-07T11:15:00-04:00\",\"2024-06-07T11:20:00-04:00\",\"2024-06-07T11:25:00-04:00\",\"2024-06-07T11:30:00-04:00\",\"2024-06-07T11:35:00-04:00\",\"2024-06-07T11:40:00-04:00\",\"2024-06-07T11:45:00-04:00\",\"2024-06-07T11:50:00-04:00\",\"2024-06-07T11:55:00-04:00\",\"2024-06-07T12:00:00-04:00\",\"2024-06-07T12:05:00-04:00\",\"2024-06-07T12:10:00-04:00\",\"2024-06-07T12:15:00-04:00\",\"2024-06-07T12:20:00-04:00\",\"2024-06-07T12:25:00-04:00\",\"2024-06-07T12:30:00-04:00\",\"2024-06-07T12:35:00-04:00\",\"2024-06-07T12:40:00-04:00\",\"2024-06-07T12:45:00-04:00\",\"2024-06-07T12:50:00-04:00\",\"2024-06-07T12:55:00-04:00\",\"2024-06-07T13:00:00-04:00\",\"2024-06-07T13:05:00-04:00\",\"2024-06-07T13:10:00-04:00\",\"2024-06-07T13:15:00-04:00\",\"2024-06-07T13:20:00-04:00\",\"2024-06-07T13:25:00-04:00\",\"2024-06-07T13:30:00-04:00\",\"2024-06-07T13:35:00-04:00\",\"2024-06-07T13:40:00-04:00\",\"2024-06-07T13:45:00-04:00\",\"2024-06-07T13:50:00-04:00\",\"2024-06-07T13:55:00-04:00\",\"2024-06-07T14:00:00-04:00\",\"2024-06-07T14:05:00-04:00\",\"2024-06-07T14:10:00-04:00\",\"2024-06-07T14:15:00-04:00\",\"2024-06-07T14:20:00-04:00\",\"2024-06-07T14:25:00-04:00\",\"2024-06-07T14:30:00-04:00\",\"2024-06-07T14:35:00-04:00\",\"2024-06-07T14:40:00-04:00\",\"2024-06-07T14:45:00-04:00\",\"2024-06-07T14:50:00-04:00\",\"2024-06-07T14:55:00-04:00\",\"2024-06-07T15:00:00-04:00\",\"2024-06-07T15:05:00-04:00\",\"2024-06-07T15:10:00-04:00\",\"2024-06-07T15:15:00-04:00\",\"2024-06-07T15:20:00-04:00\",\"2024-06-07T15:25:00-04:00\",\"2024-06-07T15:30:00-04:00\",\"2024-06-07T15:35:00-04:00\",\"2024-06-07T15:40:00-04:00\",\"2024-06-07T15:45:00-04:00\",\"2024-06-07T15:50:00-04:00\",\"2024-06-07T15:55:00-04:00\"],\"xaxis\":\"x\",\"y\":[30.22010040283203,30.22010040283203,30.22634204228719,30.23465871810913,30.247992038726807,30.266317049662273,30.29181702931722,30.31972535451253,30.349300384521484,30.37511698404948,30.399275302886963,30.428850332895916,30.461342016855877,30.49261697133382,30.517616907755535,30.54669189453125,30.574183464050293,30.589600086212158,30.595450083414715,30.60128339131673,30.60004170735677,30.603800137837727,30.607966740926106,30.610883394877117,30.611716747283936,30.6122833887736,30.60895013809204,30.600300153096516,30.58905029296875,30.58780034383138,30.58852529525757,30.58435869216919,30.59017531077067,30.59350856145223,30.599758625030518,30.601841926574707,30.603091875712078,30.602083524068195,30.605416774749756,30.608791669209797,30.610041618347168,30.60879151026408,30.611708164215088,30.611708164215088,30.606716473897297,30.60338322321574,30.6017165184021,30.60088316599528,30.60046641031901,30.60337479909261,30.60420815149943,30.602091471354168,30.6016747156779,30.59959141413371,30.588758150736492,30.576933066050213,30.562058130900066,30.54122479756673,30.518724759419758,30.499149799346924,30.48081652323405,30.462899843851726,30.44706662495931,30.434558391571045,30.41955852508545,30.408725261688232,30.399550278981526,30.394292036692303,30.392500400543213,30.39792537689209,30.404592037200928,30.411667029062908,30.424166997273762,30.438166936238606,30.454000155131023,30.471083482106526,30.49483346939087,30.518208503723145],\"yaxis\":\"y\",\"type\":\"scatter\"},{\"hovertemplate\":\"variable=upper_boll_12<br>Datetime=%{x}<br>value=%{y}<extra></extra>\",\"legendgroup\":\"upper_boll_12\",\"line\":{\"color\":\"#b6d1c3\",\"dash\":\"dot\"},\"marker\":{\"symbol\":\"circle\"},\"mode\":\"lines\",\"name\":\"upper_boll_12\",\"orientation\":\"v\",\"showlegend\":true,\"x\":[\"2024-06-07T09:30:00-04:00\",\"2024-06-07T09:35:00-04:00\",\"2024-06-07T09:40:00-04:00\",\"2024-06-07T09:45:00-04:00\",\"2024-06-07T09:50:00-04:00\",\"2024-06-07T09:55:00-04:00\",\"2024-06-07T10:00:00-04:00\",\"2024-06-07T10:05:00-04:00\",\"2024-06-07T10:10:00-04:00\",\"2024-06-07T10:15:00-04:00\",\"2024-06-07T10:20:00-04:00\",\"2024-06-07T10:25:00-04:00\",\"2024-06-07T10:30:00-04:00\",\"2024-06-07T10:35:00-04:00\",\"2024-06-07T10:40:00-04:00\",\"2024-06-07T10:45:00-04:00\",\"2024-06-07T10:50:00-04:00\",\"2024-06-07T10:55:00-04:00\",\"2024-06-07T11:00:00-04:00\",\"2024-06-07T11:05:00-04:00\",\"2024-06-07T11:10:00-04:00\",\"2024-06-07T11:15:00-04:00\",\"2024-06-07T11:20:00-04:00\",\"2024-06-07T11:25:00-04:00\",\"2024-06-07T11:30:00-04:00\",\"2024-06-07T11:35:00-04:00\",\"2024-06-07T11:40:00-04:00\",\"2024-06-07T11:45:00-04:00\",\"2024-06-07T11:50:00-04:00\",\"2024-06-07T11:55:00-04:00\",\"2024-06-07T12:00:00-04:00\",\"2024-06-07T12:05:00-04:00\",\"2024-06-07T12:10:00-04:00\",\"2024-06-07T12:15:00-04:00\",\"2024-06-07T12:20:00-04:00\",\"2024-06-07T12:25:00-04:00\",\"2024-06-07T12:30:00-04:00\",\"2024-06-07T12:35:00-04:00\",\"2024-06-07T12:40:00-04:00\",\"2024-06-07T12:45:00-04:00\",\"2024-06-07T12:50:00-04:00\",\"2024-06-07T12:55:00-04:00\",\"2024-06-07T13:00:00-04:00\",\"2024-06-07T13:05:00-04:00\",\"2024-06-07T13:10:00-04:00\",\"2024-06-07T13:15:00-04:00\",\"2024-06-07T13:20:00-04:00\",\"2024-06-07T13:25:00-04:00\",\"2024-06-07T13:30:00-04:00\",\"2024-06-07T13:35:00-04:00\",\"2024-06-07T13:40:00-04:00\",\"2024-06-07T13:45:00-04:00\",\"2024-06-07T13:50:00-04:00\",\"2024-06-07T13:55:00-04:00\",\"2024-06-07T14:00:00-04:00\",\"2024-06-07T14:05:00-04:00\",\"2024-06-07T14:10:00-04:00\",\"2024-06-07T14:15:00-04:00\",\"2024-06-07T14:20:00-04:00\",\"2024-06-07T14:25:00-04:00\",\"2024-06-07T14:30:00-04:00\",\"2024-06-07T14:35:00-04:00\",\"2024-06-07T14:40:00-04:00\",\"2024-06-07T14:45:00-04:00\",\"2024-06-07T14:50:00-04:00\",\"2024-06-07T14:55:00-04:00\",\"2024-06-07T15:00:00-04:00\",\"2024-06-07T15:05:00-04:00\",\"2024-06-07T15:10:00-04:00\",\"2024-06-07T15:15:00-04:00\",\"2024-06-07T15:20:00-04:00\",\"2024-06-07T15:25:00-04:00\",\"2024-06-07T15:30:00-04:00\",\"2024-06-07T15:35:00-04:00\",\"2024-06-07T15:40:00-04:00\",\"2024-06-07T15:45:00-04:00\",\"2024-06-07T15:50:00-04:00\",\"2024-06-07T15:55:00-04:00\"],\"xaxis\":\"x\",\"y\":[30.22010040283203,30.22010040283203,30.247963715604914,30.26907157047689,30.30178850190109,30.34253104298942,30.39688955764943,30.44629487012499,30.491030755763347,30.519366754196337,30.539420621920506,30.56514127123864,30.589581067077678,30.600881927781078,30.609498280701683,30.624435328577878,30.64574493318749,30.6484192831973,30.650766246918668,30.655628534639437,30.65520599809554,30.655156037188362,30.652610239223005,30.654303917694435,30.65521468306284,30.65559332636225,30.655153781509345,30.643924787276152,30.61605481639943,30.613294501863717,30.61440391493499,30.60773489302958,30.615564050910056,30.61934569046686,30.625823350479983,30.62973467518454,30.632182702294784,30.63141679204429,30.630938381514905,30.630937327254596,30.63046281755698,30.62966950033636,30.634376254391984,30.634376254391984,30.63151001424947,30.629609273177532,30.626336977265765,30.62442001980227,30.623380283263426,30.62705528083186,30.62774260338976,30.626620470458445,30.626468877827868,30.625995476234973,30.622675671402682,30.633354098381343,30.63992671036935,30.64458604536087,30.633340995114676,30.614024168001663,30.59034035903818,30.56395078262782,30.53822976928186,30.51553765669692,30.485392585825185,30.455486137056006,30.43374686172683,30.42770308854823,30.42664319183946,30.424757220758575,30.426579470977323,30.44099988878441,30.476031615732463,30.50605786342749,30.536566449157913,30.56816455187251,30.60783430293684,30.646775261997398],\"yaxis\":\"y\",\"type\":\"scatter\"},{\"hovertemplate\":\"variable=lower_boll_12<br>Datetime=%{x}<br>value=%{y}<extra></extra>\",\"legendgroup\":\"lower_boll_12\",\"line\":{\"color\":\"#b6d1c3\",\"dash\":\"dot\"},\"marker\":{\"symbol\":\"circle\"},\"mode\":\"lines\",\"name\":\"lower_boll_12\",\"orientation\":\"v\",\"showlegend\":true,\"x\":[\"2024-06-07T09:30:00-04:00\",\"2024-06-07T09:35:00-04:00\",\"2024-06-07T09:40:00-04:00\",\"2024-06-07T09:45:00-04:00\",\"2024-06-07T09:50:00-04:00\",\"2024-06-07T09:55:00-04:00\",\"2024-06-07T10:00:00-04:00\",\"2024-06-07T10:05:00-04:00\",\"2024-06-07T10:10:00-04:00\",\"2024-06-07T10:15:00-04:00\",\"2024-06-07T10:20:00-04:00\",\"2024-06-07T10:25:00-04:00\",\"2024-06-07T10:30:00-04:00\",\"2024-06-07T10:35:00-04:00\",\"2024-06-07T10:40:00-04:00\",\"2024-06-07T10:45:00-04:00\",\"2024-06-07T10:50:00-04:00\",\"2024-06-07T10:55:00-04:00\",\"2024-06-07T11:00:00-04:00\",\"2024-06-07T11:05:00-04:00\",\"2024-06-07T11:10:00-04:00\",\"2024-06-07T11:15:00-04:00\",\"2024-06-07T11:20:00-04:00\",\"2024-06-07T11:25:00-04:00\",\"2024-06-07T11:30:00-04:00\",\"2024-06-07T11:35:00-04:00\",\"2024-06-07T11:40:00-04:00\",\"2024-06-07T11:45:00-04:00\",\"2024-06-07T11:50:00-04:00\",\"2024-06-07T11:55:00-04:00\",\"2024-06-07T12:00:00-04:00\",\"2024-06-07T12:05:00-04:00\",\"2024-06-07T12:10:00-04:00\",\"2024-06-07T12:15:00-04:00\",\"2024-06-07T12:20:00-04:00\",\"2024-06-07T12:25:00-04:00\",\"2024-06-07T12:30:00-04:00\",\"2024-06-07T12:35:00-04:00\",\"2024-06-07T12:40:00-04:00\",\"2024-06-07T12:45:00-04:00\",\"2024-06-07T12:50:00-04:00\",\"2024-06-07T12:55:00-04:00\",\"2024-06-07T13:00:00-04:00\",\"2024-06-07T13:05:00-04:00\",\"2024-06-07T13:10:00-04:00\",\"2024-06-07T13:15:00-04:00\",\"2024-06-07T13:20:00-04:00\",\"2024-06-07T13:25:00-04:00\",\"2024-06-07T13:30:00-04:00\",\"2024-06-07T13:35:00-04:00\",\"2024-06-07T13:40:00-04:00\",\"2024-06-07T13:45:00-04:00\",\"2024-06-07T13:50:00-04:00\",\"2024-06-07T13:55:00-04:00\",\"2024-06-07T14:00:00-04:00\",\"2024-06-07T14:05:00-04:00\",\"2024-06-07T14:10:00-04:00\",\"2024-06-07T14:15:00-04:00\",\"2024-06-07T14:20:00-04:00\",\"2024-06-07T14:25:00-04:00\",\"2024-06-07T14:30:00-04:00\",\"2024-06-07T14:35:00-04:00\",\"2024-06-07T14:40:00-04:00\",\"2024-06-07T14:45:00-04:00\",\"2024-06-07T14:50:00-04:00\",\"2024-06-07T14:55:00-04:00\",\"2024-06-07T15:00:00-04:00\",\"2024-06-07T15:05:00-04:00\",\"2024-06-07T15:10:00-04:00\",\"2024-06-07T15:15:00-04:00\",\"2024-06-07T15:20:00-04:00\",\"2024-06-07T15:25:00-04:00\",\"2024-06-07T15:30:00-04:00\",\"2024-06-07T15:35:00-04:00\",\"2024-06-07T15:40:00-04:00\",\"2024-06-07T15:45:00-04:00\",\"2024-06-07T15:50:00-04:00\",\"2024-06-07T15:55:00-04:00\"],\"xaxis\":\"x\",\"y\":[30.22010040283203,30.22010040283203,30.204720368969465,30.200245865741373,30.194195575552524,30.190103056335126,30.186744500985007,30.193155838900072,30.20757001327962,30.230867213902624,30.25912998385342,30.29255939455319,30.333102966634076,30.384352014886563,30.425735534809387,30.468948460484622,30.502621994913095,30.530780889227017,30.54013391991076,30.546938247994024,30.544877416618,30.55244423848709,30.563323242629206,30.5674628720598,30.56821881150503,30.568973451184952,30.562746494674737,30.55667551891688,30.56204576953807,30.56230618579904,30.562646675580147,30.5609824913088,30.564786570631288,30.567671432437596,30.573693899581052,30.573949177964874,30.57400104912937,30.5727502560921,30.579895167984606,30.586646011164998,30.589620419137354,30.5879135201918,30.58904007403819,30.58904007403819,30.581922933545123,30.577157173253948,30.577096059538434,30.577346312188293,30.577552537374597,30.579694317353358,30.580673699609104,30.57756247224989,30.57688055352793,30.573187352032445,30.554840630070302,30.520512033719083,30.484189551430784,30.43786354977259,30.40410852372484,30.384275430692185,30.37129268742992,30.361848905075632,30.35590348063676,30.35357912644517,30.353724464345714,30.36196438632046,30.36535369623622,30.360880984836374,30.358357609246966,30.371093533025604,30.382604603424532,30.382334169341405,30.37230237881506,30.37027600904972,30.371433861104133,30.37400241234054,30.381832635844898,30.38964174544889],\"yaxis\":\"y\",\"type\":\"scatter\"},{\"hovertemplate\":\"variable=Close<br>Datetime=%{x}<br>value=%{y}<extra></extra>\",\"legendgroup\":\"Close\",\"line\":{\"color\":\"#0059ff\",\"dash\":\"solid\"},\"marker\":{\"symbol\":\"circle\"},\"mode\":\"lines\",\"name\":\"Close\",\"orientation\":\"v\",\"showlegend\":true,\"x\":[\"2024-06-07T09:30:00-04:00\",\"2024-06-07T09:35:00-04:00\",\"2024-06-07T09:40:00-04:00\",\"2024-06-07T09:45:00-04:00\",\"2024-06-07T09:50:00-04:00\",\"2024-06-07T09:55:00-04:00\",\"2024-06-07T10:00:00-04:00\",\"2024-06-07T10:05:00-04:00\",\"2024-06-07T10:10:00-04:00\",\"2024-06-07T10:15:00-04:00\",\"2024-06-07T10:20:00-04:00\",\"2024-06-07T10:25:00-04:00\",\"2024-06-07T10:30:00-04:00\",\"2024-06-07T10:35:00-04:00\",\"2024-06-07T10:40:00-04:00\",\"2024-06-07T10:45:00-04:00\",\"2024-06-07T10:50:00-04:00\",\"2024-06-07T10:55:00-04:00\",\"2024-06-07T11:00:00-04:00\",\"2024-06-07T11:05:00-04:00\",\"2024-06-07T11:10:00-04:00\",\"2024-06-07T11:15:00-04:00\",\"2024-06-07T11:20:00-04:00\",\"2024-06-07T11:25:00-04:00\",\"2024-06-07T11:30:00-04:00\",\"2024-06-07T11:35:00-04:00\",\"2024-06-07T11:40:00-04:00\",\"2024-06-07T11:45:00-04:00\",\"2024-06-07T11:50:00-04:00\",\"2024-06-07T11:55:00-04:00\",\"2024-06-07T12:00:00-04:00\",\"2024-06-07T12:05:00-04:00\",\"2024-06-07T12:10:00-04:00\",\"2024-06-07T12:15:00-04:00\",\"2024-06-07T12:20:00-04:00\",\"2024-06-07T12:25:00-04:00\",\"2024-06-07T12:30:00-04:00\",\"2024-06-07T12:35:00-04:00\",\"2024-06-07T12:40:00-04:00\",\"2024-06-07T12:45:00-04:00\",\"2024-06-07T12:50:00-04:00\",\"2024-06-07T12:55:00-04:00\",\"2024-06-07T13:00:00-04:00\",\"2024-06-07T13:05:00-04:00\",\"2024-06-07T13:10:00-04:00\",\"2024-06-07T13:15:00-04:00\",\"2024-06-07T13:20:00-04:00\",\"2024-06-07T13:25:00-04:00\",\"2024-06-07T13:30:00-04:00\",\"2024-06-07T13:35:00-04:00\",\"2024-06-07T13:40:00-04:00\",\"2024-06-07T13:45:00-04:00\",\"2024-06-07T13:50:00-04:00\",\"2024-06-07T13:55:00-04:00\",\"2024-06-07T14:00:00-04:00\",\"2024-06-07T14:05:00-04:00\",\"2024-06-07T14:10:00-04:00\",\"2024-06-07T14:15:00-04:00\",\"2024-06-07T14:20:00-04:00\",\"2024-06-07T14:25:00-04:00\",\"2024-06-07T14:30:00-04:00\",\"2024-06-07T14:35:00-04:00\",\"2024-06-07T14:40:00-04:00\",\"2024-06-07T14:45:00-04:00\",\"2024-06-07T14:50:00-04:00\",\"2024-06-07T14:55:00-04:00\",\"2024-06-07T15:00:00-04:00\",\"2024-06-07T15:05:00-04:00\",\"2024-06-07T15:10:00-04:00\",\"2024-06-07T15:15:00-04:00\",\"2024-06-07T15:20:00-04:00\",\"2024-06-07T15:25:00-04:00\",\"2024-06-07T15:30:00-04:00\",\"2024-06-07T15:35:00-04:00\",\"2024-06-07T15:40:00-04:00\",\"2024-06-07T15:45:00-04:00\",\"2024-06-07T15:50:00-04:00\",\"2024-06-07T15:55:00-04:00\"],\"xaxis\":\"x\",\"y\":[30.22010040283203,30.295000076293945,30.319900512695312,30.38010025024414,30.440000534057617,30.526100158691406,30.55500030517578,30.575000762939453,30.52989959716797,30.510000228881836,30.575000762939453,30.610000610351562,30.595399856567383,30.594999313354492,30.668800354003906,30.709999084472656,30.625,30.59630012512207,30.625,30.560100555419922,30.575000762939453,30.559999465942383,30.610000610351562,30.6200008392334,30.60219955444336,30.55500030517578,30.565000534057617,30.575000762939453,30.610000610351562,30.604999542236328,30.575000762939453,30.629899978637695,30.614999771118164,30.635000228881836,30.635000228881836,30.635000228881836,30.590099334716797,30.594999313354492,30.605499267578125,30.59000015258789,30.594999313354492,30.639999389648438,30.575000762939453,30.56999969482422,30.575000762939453,30.614999771118164,30.625,30.6299991607666,30.625,30.604999542236328,30.58009910583496,30.584999084472656,30.56999969482422,30.510000228881836,30.4330997467041,30.39150047302246,30.325000762939453,30.344999313354492,30.390100479125977,30.40999984741211,30.40999984741211,30.415000915527344,30.43000030517578,30.405000686645508,30.440000534057617,30.399900436401367,30.3700008392334,30.3700008392334,30.390100479125977,30.424999237060547,30.475000381469727,30.559999465942383,30.577999114990234,30.604999542236328,30.635000228881836,30.690000534057617,30.720500946044922,30.770000457763672],\"yaxis\":\"y\",\"type\":\"scatter\"}],                        {\"template\":{\"data\":{\"histogram2dcontour\":[{\"type\":\"histogram2dcontour\",\"colorbar\":{\"outlinewidth\":0,\"ticks\":\"\"},\"colorscale\":[[0.0,\"#0d0887\"],[0.1111111111111111,\"#46039f\"],[0.2222222222222222,\"#7201a8\"],[0.3333333333333333,\"#9c179e\"],[0.4444444444444444,\"#bd3786\"],[0.5555555555555556,\"#d8576b\"],[0.6666666666666666,\"#ed7953\"],[0.7777777777777778,\"#fb9f3a\"],[0.8888888888888888,\"#fdca26\"],[1.0,\"#f0f921\"]]}],\"choropleth\":[{\"type\":\"choropleth\",\"colorbar\":{\"outlinewidth\":0,\"ticks\":\"\"}}],\"histogram2d\":[{\"type\":\"histogram2d\",\"colorbar\":{\"outlinewidth\":0,\"ticks\":\"\"},\"colorscale\":[[0.0,\"#0d0887\"],[0.1111111111111111,\"#46039f\"],[0.2222222222222222,\"#7201a8\"],[0.3333333333333333,\"#9c179e\"],[0.4444444444444444,\"#bd3786\"],[0.5555555555555556,\"#d8576b\"],[0.6666666666666666,\"#ed7953\"],[0.7777777777777778,\"#fb9f3a\"],[0.8888888888888888,\"#fdca26\"],[1.0,\"#f0f921\"]]}],\"heatmap\":[{\"type\":\"heatmap\",\"colorbar\":{\"outlinewidth\":0,\"ticks\":\"\"},\"colorscale\":[[0.0,\"#0d0887\"],[0.1111111111111111,\"#46039f\"],[0.2222222222222222,\"#7201a8\"],[0.3333333333333333,\"#9c179e\"],[0.4444444444444444,\"#bd3786\"],[0.5555555555555556,\"#d8576b\"],[0.6666666666666666,\"#ed7953\"],[0.7777777777777778,\"#fb9f3a\"],[0.8888888888888888,\"#fdca26\"],[1.0,\"#f0f921\"]]}],\"heatmapgl\":[{\"type\":\"heatmapgl\",\"colorbar\":{\"outlinewidth\":0,\"ticks\":\"\"},\"colorscale\":[[0.0,\"#0d0887\"],[0.1111111111111111,\"#46039f\"],[0.2222222222222222,\"#7201a8\"],[0.3333333333333333,\"#9c179e\"],[0.4444444444444444,\"#bd3786\"],[0.5555555555555556,\"#d8576b\"],[0.6666666666666666,\"#ed7953\"],[0.7777777777777778,\"#fb9f3a\"],[0.8888888888888888,\"#fdca26\"],[1.0,\"#f0f921\"]]}],\"contourcarpet\":[{\"type\":\"contourcarpet\",\"colorbar\":{\"outlinewidth\":0,\"ticks\":\"\"}}],\"contour\":[{\"type\":\"contour\",\"colorbar\":{\"outlinewidth\":0,\"ticks\":\"\"},\"colorscale\":[[0.0,\"#0d0887\"],[0.1111111111111111,\"#46039f\"],[0.2222222222222222,\"#7201a8\"],[0.3333333333333333,\"#9c179e\"],[0.4444444444444444,\"#bd3786\"],[0.5555555555555556,\"#d8576b\"],[0.6666666666666666,\"#ed7953\"],[0.7777777777777778,\"#fb9f3a\"],[0.8888888888888888,\"#fdca26\"],[1.0,\"#f0f921\"]]}],\"surface\":[{\"type\":\"surface\",\"colorbar\":{\"outlinewidth\":0,\"ticks\":\"\"},\"colorscale\":[[0.0,\"#0d0887\"],[0.1111111111111111,\"#46039f\"],[0.2222222222222222,\"#7201a8\"],[0.3333333333333333,\"#9c179e\"],[0.4444444444444444,\"#bd3786\"],[0.5555555555555556,\"#d8576b\"],[0.6666666666666666,\"#ed7953\"],[0.7777777777777778,\"#fb9f3a\"],[0.8888888888888888,\"#fdca26\"],[1.0,\"#f0f921\"]]}],\"mesh3d\":[{\"type\":\"mesh3d\",\"colorbar\":{\"outlinewidth\":0,\"ticks\":\"\"}}],\"scatter\":[{\"fillpattern\":{\"fillmode\":\"overlay\",\"size\":10,\"solidity\":0.2},\"type\":\"scatter\"}],\"parcoords\":[{\"type\":\"parcoords\",\"line\":{\"colorbar\":{\"outlinewidth\":0,\"ticks\":\"\"}}}],\"scatterpolargl\":[{\"type\":\"scatterpolargl\",\"marker\":{\"colorbar\":{\"outlinewidth\":0,\"ticks\":\"\"}}}],\"bar\":[{\"error_x\":{\"color\":\"#2a3f5f\"},\"error_y\":{\"color\":\"#2a3f5f\"},\"marker\":{\"line\":{\"color\":\"#E5ECF6\",\"width\":0.5},\"pattern\":{\"fillmode\":\"overlay\",\"size\":10,\"solidity\":0.2}},\"type\":\"bar\"}],\"scattergeo\":[{\"type\":\"scattergeo\",\"marker\":{\"colorbar\":{\"outlinewidth\":0,\"ticks\":\"\"}}}],\"scatterpolar\":[{\"type\":\"scatterpolar\",\"marker\":{\"colorbar\":{\"outlinewidth\":0,\"ticks\":\"\"}}}],\"histogram\":[{\"marker\":{\"pattern\":{\"fillmode\":\"overlay\",\"size\":10,\"solidity\":0.2}},\"type\":\"histogram\"}],\"scattergl\":[{\"type\":\"scattergl\",\"marker\":{\"colorbar\":{\"outlinewidth\":0,\"ticks\":\"\"}}}],\"scatter3d\":[{\"type\":\"scatter3d\",\"line\":{\"colorbar\":{\"outlinewidth\":0,\"ticks\":\"\"}},\"marker\":{\"colorbar\":{\"outlinewidth\":0,\"ticks\":\"\"}}}],\"scattermapbox\":[{\"type\":\"scattermapbox\",\"marker\":{\"colorbar\":{\"outlinewidth\":0,\"ticks\":\"\"}}}],\"scatterternary\":[{\"type\":\"scatterternary\",\"marker\":{\"colorbar\":{\"outlinewidth\":0,\"ticks\":\"\"}}}],\"scattercarpet\":[{\"type\":\"scattercarpet\",\"marker\":{\"colorbar\":{\"outlinewidth\":0,\"ticks\":\"\"}}}],\"carpet\":[{\"aaxis\":{\"endlinecolor\":\"#2a3f5f\",\"gridcolor\":\"white\",\"linecolor\":\"white\",\"minorgridcolor\":\"white\",\"startlinecolor\":\"#2a3f5f\"},\"baxis\":{\"endlinecolor\":\"#2a3f5f\",\"gridcolor\":\"white\",\"linecolor\":\"white\",\"minorgridcolor\":\"white\",\"startlinecolor\":\"#2a3f5f\"},\"type\":\"carpet\"}],\"table\":[{\"cells\":{\"fill\":{\"color\":\"#EBF0F8\"},\"line\":{\"color\":\"white\"}},\"header\":{\"fill\":{\"color\":\"#C8D4E3\"},\"line\":{\"color\":\"white\"}},\"type\":\"table\"}],\"barpolar\":[{\"marker\":{\"line\":{\"color\":\"#E5ECF6\",\"width\":0.5},\"pattern\":{\"fillmode\":\"overlay\",\"size\":10,\"solidity\":0.2}},\"type\":\"barpolar\"}],\"pie\":[{\"automargin\":true,\"type\":\"pie\"}]},\"layout\":{\"autotypenumbers\":\"strict\",\"colorway\":[\"#636efa\",\"#EF553B\",\"#00cc96\",\"#ab63fa\",\"#FFA15A\",\"#19d3f3\",\"#FF6692\",\"#B6E880\",\"#FF97FF\",\"#FECB52\"],\"font\":{\"color\":\"#2a3f5f\"},\"hovermode\":\"closest\",\"hoverlabel\":{\"align\":\"left\"},\"paper_bgcolor\":\"white\",\"plot_bgcolor\":\"#E5ECF6\",\"polar\":{\"bgcolor\":\"#E5ECF6\",\"angularaxis\":{\"gridcolor\":\"white\",\"linecolor\":\"white\",\"ticks\":\"\"},\"radialaxis\":{\"gridcolor\":\"white\",\"linecolor\":\"white\",\"ticks\":\"\"}},\"ternary\":{\"bgcolor\":\"#E5ECF6\",\"aaxis\":{\"gridcolor\":\"white\",\"linecolor\":\"white\",\"ticks\":\"\"},\"baxis\":{\"gridcolor\":\"white\",\"linecolor\":\"white\",\"ticks\":\"\"},\"caxis\":{\"gridcolor\":\"white\",\"linecolor\":\"white\",\"ticks\":\"\"}},\"coloraxis\":{\"colorbar\":{\"outlinewidth\":0,\"ticks\":\"\"}},\"colorscale\":{\"sequential\":[[0.0,\"#0d0887\"],[0.1111111111111111,\"#46039f\"],[0.2222222222222222,\"#7201a8\"],[0.3333333333333333,\"#9c179e\"],[0.4444444444444444,\"#bd3786\"],[0.5555555555555556,\"#d8576b\"],[0.6666666666666666,\"#ed7953\"],[0.7777777777777778,\"#fb9f3a\"],[0.8888888888888888,\"#fdca26\"],[1.0,\"#f0f921\"]],\"sequentialminus\":[[0.0,\"#0d0887\"],[0.1111111111111111,\"#46039f\"],[0.2222222222222222,\"#7201a8\"],[0.3333333333333333,\"#9c179e\"],[0.4444444444444444,\"#bd3786\"],[0.5555555555555556,\"#d8576b\"],[0.6666666666666666,\"#ed7953\"],[0.7777777777777778,\"#fb9f3a\"],[0.8888888888888888,\"#fdca26\"],[1.0,\"#f0f921\"]],\"diverging\":[[0,\"#8e0152\"],[0.1,\"#c51b7d\"],[0.2,\"#de77ae\"],[0.3,\"#f1b6da\"],[0.4,\"#fde0ef\"],[0.5,\"#f7f7f7\"],[0.6,\"#e6f5d0\"],[0.7,\"#b8e186\"],[0.8,\"#7fbc41\"],[0.9,\"#4d9221\"],[1,\"#276419\"]]},\"xaxis\":{\"gridcolor\":\"white\",\"linecolor\":\"white\",\"ticks\":\"\",\"title\":{\"standoff\":15},\"zerolinecolor\":\"white\",\"automargin\":true,\"zerolinewidth\":2},\"yaxis\":{\"gridcolor\":\"white\",\"linecolor\":\"white\",\"ticks\":\"\",\"title\":{\"standoff\":15},\"zerolinecolor\":\"white\",\"automargin\":true,\"zerolinewidth\":2},\"scene\":{\"xaxis\":{\"backgroundcolor\":\"#E5ECF6\",\"gridcolor\":\"white\",\"linecolor\":\"white\",\"showbackground\":true,\"ticks\":\"\",\"zerolinecolor\":\"white\",\"gridwidth\":2},\"yaxis\":{\"backgroundcolor\":\"#E5ECF6\",\"gridcolor\":\"white\",\"linecolor\":\"white\",\"showbackground\":true,\"ticks\":\"\",\"zerolinecolor\":\"white\",\"gridwidth\":2},\"zaxis\":{\"backgroundcolor\":\"#E5ECF6\",\"gridcolor\":\"white\",\"linecolor\":\"white\",\"showbackground\":true,\"ticks\":\"\",\"zerolinecolor\":\"white\",\"gridwidth\":2}},\"shapedefaults\":{\"line\":{\"color\":\"#2a3f5f\"}},\"annotationdefaults\":{\"arrowcolor\":\"#2a3f5f\",\"arrowhead\":0,\"arrowwidth\":1},\"geo\":{\"bgcolor\":\"white\",\"landcolor\":\"#E5ECF6\",\"subunitcolor\":\"white\",\"showland\":true,\"showlakes\":true,\"lakecolor\":\"white\"},\"title\":{\"x\":0.05},\"mapbox\":{\"style\":\"light\"}}},\"xaxis\":{\"anchor\":\"y\",\"domain\":[0.0,1.0],\"title\":{\"text\":\"Datetime\"}},\"yaxis\":{\"anchor\":\"x\",\"domain\":[0.0,1.0],\"title\":{\"text\":\"value\"}},\"legend\":{\"title\":{\"text\":\"variable\"},\"tracegroupgap\":0},\"title\":{\"text\":\"INTC Stock Prices w/ Bollinger Bands\"}},                        {\"responsive\": true}                    ).then(function(){\n",
       "                            \n",
       "var gd = document.getElementById('e5570b3e-e732-4eb9-973f-b762d751fefb');\n",
       "var x = new MutationObserver(function (mutations, observer) {{\n",
       "        var display = window.getComputedStyle(gd).display;\n",
       "        if (!display || display === 'none') {{\n",
       "            console.log([gd, 'removed!']);\n",
       "            Plotly.purge(gd);\n",
       "            observer.disconnect();\n",
       "        }}\n",
       "}});\n",
       "\n",
       "// Listen for the removal of the full notebook cells\n",
       "var notebookContainer = gd.closest('#notebook-container');\n",
       "if (notebookContainer) {{\n",
       "    x.observe(notebookContainer, {childList: true});\n",
       "}}\n",
       "\n",
       "// Listen for the clearing of the current output cell\n",
       "var outputEl = gd.closest('.output');\n",
       "if (outputEl) {{\n",
       "    x.observe(outputEl, {childList: true});\n",
       "}}\n",
       "\n",
       "                        })                };                });            </script>        </div>"
      ]
     },
     "metadata": {},
     "output_type": "display_data"
    },
    {
     "data": {
      "application/vnd.plotly.v1+json": {
       "config": {
        "plotlyServerURL": "https://plot.ly"
       },
       "data": [
        {
         "hovertemplate": "variable=EMA_12<br>Datetime=%{x}<br>value=%{y}<extra></extra>",
         "legendgroup": "EMA_12",
         "line": {
          "color": "#38b9ff",
          "dash": "solid"
         },
         "marker": {
          "symbol": "circle"
         },
         "mode": "lines",
         "name": "EMA_12",
         "orientation": "v",
         "showlegend": true,
         "type": "scatter",
         "x": [
          "2024-06-07T09:30:00-04:00",
          "2024-06-07T09:35:00-04:00",
          "2024-06-07T09:40:00-04:00",
          "2024-06-07T09:45:00-04:00",
          "2024-06-07T09:50:00-04:00",
          "2024-06-07T09:55:00-04:00",
          "2024-06-07T10:00:00-04:00",
          "2024-06-07T10:05:00-04:00",
          "2024-06-07T10:10:00-04:00",
          "2024-06-07T10:15:00-04:00",
          "2024-06-07T10:20:00-04:00",
          "2024-06-07T10:25:00-04:00",
          "2024-06-07T10:30:00-04:00",
          "2024-06-07T10:35:00-04:00",
          "2024-06-07T10:40:00-04:00",
          "2024-06-07T10:45:00-04:00",
          "2024-06-07T10:50:00-04:00",
          "2024-06-07T10:55:00-04:00",
          "2024-06-07T11:00:00-04:00",
          "2024-06-07T11:05:00-04:00",
          "2024-06-07T11:10:00-04:00",
          "2024-06-07T11:15:00-04:00",
          "2024-06-07T11:20:00-04:00",
          "2024-06-07T11:25:00-04:00",
          "2024-06-07T11:30:00-04:00",
          "2024-06-07T11:35:00-04:00",
          "2024-06-07T11:40:00-04:00",
          "2024-06-07T11:45:00-04:00",
          "2024-06-07T11:50:00-04:00",
          "2024-06-07T11:55:00-04:00",
          "2024-06-07T12:00:00-04:00",
          "2024-06-07T12:05:00-04:00",
          "2024-06-07T12:10:00-04:00",
          "2024-06-07T12:15:00-04:00",
          "2024-06-07T12:20:00-04:00",
          "2024-06-07T12:25:00-04:00",
          "2024-06-07T12:30:00-04:00",
          "2024-06-07T12:35:00-04:00",
          "2024-06-07T12:40:00-04:00",
          "2024-06-07T12:45:00-04:00",
          "2024-06-07T12:50:00-04:00",
          "2024-06-07T12:55:00-04:00",
          "2024-06-07T13:00:00-04:00",
          "2024-06-07T13:05:00-04:00",
          "2024-06-07T13:10:00-04:00",
          "2024-06-07T13:15:00-04:00",
          "2024-06-07T13:20:00-04:00",
          "2024-06-07T13:25:00-04:00",
          "2024-06-07T13:30:00-04:00",
          "2024-06-07T13:35:00-04:00",
          "2024-06-07T13:40:00-04:00",
          "2024-06-07T13:45:00-04:00",
          "2024-06-07T13:50:00-04:00",
          "2024-06-07T13:55:00-04:00",
          "2024-06-07T14:00:00-04:00",
          "2024-06-07T14:05:00-04:00",
          "2024-06-07T14:10:00-04:00",
          "2024-06-07T14:15:00-04:00",
          "2024-06-07T14:20:00-04:00",
          "2024-06-07T14:25:00-04:00",
          "2024-06-07T14:30:00-04:00",
          "2024-06-07T14:35:00-04:00",
          "2024-06-07T14:40:00-04:00",
          "2024-06-07T14:45:00-04:00",
          "2024-06-07T14:50:00-04:00",
          "2024-06-07T14:55:00-04:00",
          "2024-06-07T15:00:00-04:00",
          "2024-06-07T15:05:00-04:00",
          "2024-06-07T15:10:00-04:00",
          "2024-06-07T15:15:00-04:00",
          "2024-06-07T15:20:00-04:00",
          "2024-06-07T15:25:00-04:00",
          "2024-06-07T15:30:00-04:00",
          "2024-06-07T15:35:00-04:00",
          "2024-06-07T15:40:00-04:00",
          "2024-06-07T15:45:00-04:00",
          "2024-06-07T15:50:00-04:00",
          "2024-06-07T15:55:00-04:00"
         ],
         "xaxis": "x",
         "y": [
          30.22010040283203,
          30.22010040283203,
          30.27003351847331,
          30.28872537612915,
          30.318837921142578,
          30.351138668295782,
          30.39169216150332,
          30.421336628030986,
          30.443987667106708,
          30.449919750566416,
          30.450948241118915,
          30.46301848375994,
          30.47726518659669,
          30.505529304034088,
          30.52264819807256,
          30.553242505354625,
          30.58542792367342,
          30.603114206422156,
          30.605958954658508,
          30.611582559265848,
          30.5975867826446,
          30.59143141488356,
          30.59535179426704,
          30.602320202591507,
          30.60307346850893,
          30.602885063989223,
          30.605459736690577,
          30.604785024747706,
          30.588752810705333,
          30.588155612623204,
          30.59461307674523,
          30.582853351379843,
          30.592098464746677,
          30.593600954420577,
          30.606705606109323,
          30.612405731505575,
          30.613483840250677,
          30.60352812795304,
          30.603563109138364,
          30.605208086175725,
          30.607583148396746,
          30.60497349205363,
          30.60632102909338,
          30.60889786641833,
          30.600906361615152,
          30.599615097912164,
          30.601981970713087,
          30.605523205988,
          30.603240247256096,
          30.607247965728,
          30.608316477715025,
          30.601887495499255,
          30.599962703205176,
          30.601414860427738,
          30.578595264057455,
          30.55553765658955,
          30.530974848531237,
          30.504674696769357,
          30.481456359675242,
          30.468075033608446,
          30.4584669647913,
          30.448316272178154,
          30.43983655547347,
          30.43898335040051,
          30.431734716989244,
          30.424923999038867,
          30.410715143269687,
          30.398847667215357,
          30.3854516794879,
          30.388860835514272,
          30.400496057935577,
          30.414638857054932,
          30.437002027653,
          30.459367568964577,
          30.483793019224578,
          30.503688029060864,
          30.537066235679514,
          30.55988517373509
         ],
         "yaxis": "y"
        },
        {
         "hovertemplate": "variable=EMA_6<br>Datetime=%{x}<br>value=%{y}<extra></extra>",
         "legendgroup": "EMA_6",
         "line": {
          "color": "#44fcd1",
          "dash": "solid"
         },
         "marker": {
          "symbol": "circle"
         },
         "mode": "lines",
         "name": "EMA_6",
         "orientation": "v",
         "showlegend": true,
         "type": "scatter",
         "x": [
          "2024-06-07T09:30:00-04:00",
          "2024-06-07T09:35:00-04:00",
          "2024-06-07T09:40:00-04:00",
          "2024-06-07T09:45:00-04:00",
          "2024-06-07T09:50:00-04:00",
          "2024-06-07T09:55:00-04:00",
          "2024-06-07T10:00:00-04:00",
          "2024-06-07T10:05:00-04:00",
          "2024-06-07T10:10:00-04:00",
          "2024-06-07T10:15:00-04:00",
          "2024-06-07T10:20:00-04:00",
          "2024-06-07T10:25:00-04:00",
          "2024-06-07T10:30:00-04:00",
          "2024-06-07T10:35:00-04:00",
          "2024-06-07T10:40:00-04:00",
          "2024-06-07T10:45:00-04:00",
          "2024-06-07T10:50:00-04:00",
          "2024-06-07T10:55:00-04:00",
          "2024-06-07T11:00:00-04:00",
          "2024-06-07T11:05:00-04:00",
          "2024-06-07T11:10:00-04:00",
          "2024-06-07T11:15:00-04:00",
          "2024-06-07T11:20:00-04:00",
          "2024-06-07T11:25:00-04:00",
          "2024-06-07T11:30:00-04:00",
          "2024-06-07T11:35:00-04:00",
          "2024-06-07T11:40:00-04:00",
          "2024-06-07T11:45:00-04:00",
          "2024-06-07T11:50:00-04:00",
          "2024-06-07T11:55:00-04:00",
          "2024-06-07T12:00:00-04:00",
          "2024-06-07T12:05:00-04:00",
          "2024-06-07T12:10:00-04:00",
          "2024-06-07T12:15:00-04:00",
          "2024-06-07T12:20:00-04:00",
          "2024-06-07T12:25:00-04:00",
          "2024-06-07T12:30:00-04:00",
          "2024-06-07T12:35:00-04:00",
          "2024-06-07T12:40:00-04:00",
          "2024-06-07T12:45:00-04:00",
          "2024-06-07T12:50:00-04:00",
          "2024-06-07T12:55:00-04:00",
          "2024-06-07T13:00:00-04:00",
          "2024-06-07T13:05:00-04:00",
          "2024-06-07T13:10:00-04:00",
          "2024-06-07T13:15:00-04:00",
          "2024-06-07T13:20:00-04:00",
          "2024-06-07T13:25:00-04:00",
          "2024-06-07T13:30:00-04:00",
          "2024-06-07T13:35:00-04:00",
          "2024-06-07T13:40:00-04:00",
          "2024-06-07T13:45:00-04:00",
          "2024-06-07T13:50:00-04:00",
          "2024-06-07T13:55:00-04:00",
          "2024-06-07T14:00:00-04:00",
          "2024-06-07T14:05:00-04:00",
          "2024-06-07T14:10:00-04:00",
          "2024-06-07T14:15:00-04:00",
          "2024-06-07T14:20:00-04:00",
          "2024-06-07T14:25:00-04:00",
          "2024-06-07T14:30:00-04:00",
          "2024-06-07T14:35:00-04:00",
          "2024-06-07T14:40:00-04:00",
          "2024-06-07T14:45:00-04:00",
          "2024-06-07T14:50:00-04:00",
          "2024-06-07T14:55:00-04:00",
          "2024-06-07T15:00:00-04:00",
          "2024-06-07T15:05:00-04:00",
          "2024-06-07T15:10:00-04:00",
          "2024-06-07T15:15:00-04:00",
          "2024-06-07T15:20:00-04:00",
          "2024-06-07T15:25:00-04:00",
          "2024-06-07T15:30:00-04:00",
          "2024-06-07T15:35:00-04:00",
          "2024-06-07T15:40:00-04:00",
          "2024-06-07T15:45:00-04:00",
          "2024-06-07T15:50:00-04:00",
          "2024-06-07T15:55:00-04:00"
         ],
         "xaxis": "x",
         "y": [
          30.22010040283203,
          30.22010040283203,
          30.27003351847331,
          30.28872537612915,
          30.318837921142578,
          30.351138668295782,
          30.39169216150332,
          30.44829907987278,
          30.487806595392456,
          30.507828313051615,
          30.516404235611965,
          30.54458101828321,
          30.567110567676778,
          30.577849488613854,
          30.57675953879407,
          30.600414073324686,
          30.64035681749912,
          30.64061749589332,
          30.62601625934237,
          30.62567270326254,
          30.616739342864793,
          30.610285650423414,
          30.584629414501045,
          30.588066688361017,
          30.601002370707583,
          30.592725107938932,
          30.583925494023067,
          30.576526035720335,
          30.58273091091806,
          30.59185038709751,
          30.593243094438773,
          30.581762452862353,
          30.596844165139476,
          30.603359614617553,
          30.61704813065844,
          30.621513108179546,
          30.621382424100403,
          30.619735580342653,
          30.610689174329572,
          30.611862610797495,
          30.60561619416618,
          30.602582799648555,
          30.607309952322417,
          30.59872952303101,
          30.59191550284725,
          30.58502427777111,
          30.594252644526,
          30.609014077253825,
          30.60637732772659,
          30.61103389783342,
          30.609973989634113,
          30.60675058916975,
          30.601864007026172,
          30.59342385790992,
          30.56892459524616,
          30.52746122869439,
          30.485308263858922,
          30.440156888414222,
          30.410976936257264,
          30.39704368663031,
          30.39053227008187,
          30.390569622656926,
          30.388718145028555,
          30.403169061580535,
          30.409682282773353,
          30.42098748152676,
          30.414962611490935,
          30.402780584245786,
          30.395407016382144,
          30.390570655827744,
          30.405055733859633,
          30.419714212545273,
          30.45582473878809,
          30.490731703417275,
          30.52604909674306,
          30.56181290645194,
          30.60507861033154,
          30.649345175177437
         ],
         "yaxis": "y"
        }
       ],
       "layout": {
        "legend": {
         "title": {
          "text": "variable"
         },
         "tracegroupgap": 0
        },
        "template": {
         "data": {
          "bar": [
           {
            "error_x": {
             "color": "#2a3f5f"
            },
            "error_y": {
             "color": "#2a3f5f"
            },
            "marker": {
             "line": {
              "color": "#E5ECF6",
              "width": 0.5
             },
             "pattern": {
              "fillmode": "overlay",
              "size": 10,
              "solidity": 0.2
             }
            },
            "type": "bar"
           }
          ],
          "barpolar": [
           {
            "marker": {
             "line": {
              "color": "#E5ECF6",
              "width": 0.5
             },
             "pattern": {
              "fillmode": "overlay",
              "size": 10,
              "solidity": 0.2
             }
            },
            "type": "barpolar"
           }
          ],
          "carpet": [
           {
            "aaxis": {
             "endlinecolor": "#2a3f5f",
             "gridcolor": "white",
             "linecolor": "white",
             "minorgridcolor": "white",
             "startlinecolor": "#2a3f5f"
            },
            "baxis": {
             "endlinecolor": "#2a3f5f",
             "gridcolor": "white",
             "linecolor": "white",
             "minorgridcolor": "white",
             "startlinecolor": "#2a3f5f"
            },
            "type": "carpet"
           }
          ],
          "choropleth": [
           {
            "colorbar": {
             "outlinewidth": 0,
             "ticks": ""
            },
            "type": "choropleth"
           }
          ],
          "contour": [
           {
            "colorbar": {
             "outlinewidth": 0,
             "ticks": ""
            },
            "colorscale": [
             [
              0,
              "#0d0887"
             ],
             [
              0.1111111111111111,
              "#46039f"
             ],
             [
              0.2222222222222222,
              "#7201a8"
             ],
             [
              0.3333333333333333,
              "#9c179e"
             ],
             [
              0.4444444444444444,
              "#bd3786"
             ],
             [
              0.5555555555555556,
              "#d8576b"
             ],
             [
              0.6666666666666666,
              "#ed7953"
             ],
             [
              0.7777777777777778,
              "#fb9f3a"
             ],
             [
              0.8888888888888888,
              "#fdca26"
             ],
             [
              1,
              "#f0f921"
             ]
            ],
            "type": "contour"
           }
          ],
          "contourcarpet": [
           {
            "colorbar": {
             "outlinewidth": 0,
             "ticks": ""
            },
            "type": "contourcarpet"
           }
          ],
          "heatmap": [
           {
            "colorbar": {
             "outlinewidth": 0,
             "ticks": ""
            },
            "colorscale": [
             [
              0,
              "#0d0887"
             ],
             [
              0.1111111111111111,
              "#46039f"
             ],
             [
              0.2222222222222222,
              "#7201a8"
             ],
             [
              0.3333333333333333,
              "#9c179e"
             ],
             [
              0.4444444444444444,
              "#bd3786"
             ],
             [
              0.5555555555555556,
              "#d8576b"
             ],
             [
              0.6666666666666666,
              "#ed7953"
             ],
             [
              0.7777777777777778,
              "#fb9f3a"
             ],
             [
              0.8888888888888888,
              "#fdca26"
             ],
             [
              1,
              "#f0f921"
             ]
            ],
            "type": "heatmap"
           }
          ],
          "heatmapgl": [
           {
            "colorbar": {
             "outlinewidth": 0,
             "ticks": ""
            },
            "colorscale": [
             [
              0,
              "#0d0887"
             ],
             [
              0.1111111111111111,
              "#46039f"
             ],
             [
              0.2222222222222222,
              "#7201a8"
             ],
             [
              0.3333333333333333,
              "#9c179e"
             ],
             [
              0.4444444444444444,
              "#bd3786"
             ],
             [
              0.5555555555555556,
              "#d8576b"
             ],
             [
              0.6666666666666666,
              "#ed7953"
             ],
             [
              0.7777777777777778,
              "#fb9f3a"
             ],
             [
              0.8888888888888888,
              "#fdca26"
             ],
             [
              1,
              "#f0f921"
             ]
            ],
            "type": "heatmapgl"
           }
          ],
          "histogram": [
           {
            "marker": {
             "pattern": {
              "fillmode": "overlay",
              "size": 10,
              "solidity": 0.2
             }
            },
            "type": "histogram"
           }
          ],
          "histogram2d": [
           {
            "colorbar": {
             "outlinewidth": 0,
             "ticks": ""
            },
            "colorscale": [
             [
              0,
              "#0d0887"
             ],
             [
              0.1111111111111111,
              "#46039f"
             ],
             [
              0.2222222222222222,
              "#7201a8"
             ],
             [
              0.3333333333333333,
              "#9c179e"
             ],
             [
              0.4444444444444444,
              "#bd3786"
             ],
             [
              0.5555555555555556,
              "#d8576b"
             ],
             [
              0.6666666666666666,
              "#ed7953"
             ],
             [
              0.7777777777777778,
              "#fb9f3a"
             ],
             [
              0.8888888888888888,
              "#fdca26"
             ],
             [
              1,
              "#f0f921"
             ]
            ],
            "type": "histogram2d"
           }
          ],
          "histogram2dcontour": [
           {
            "colorbar": {
             "outlinewidth": 0,
             "ticks": ""
            },
            "colorscale": [
             [
              0,
              "#0d0887"
             ],
             [
              0.1111111111111111,
              "#46039f"
             ],
             [
              0.2222222222222222,
              "#7201a8"
             ],
             [
              0.3333333333333333,
              "#9c179e"
             ],
             [
              0.4444444444444444,
              "#bd3786"
             ],
             [
              0.5555555555555556,
              "#d8576b"
             ],
             [
              0.6666666666666666,
              "#ed7953"
             ],
             [
              0.7777777777777778,
              "#fb9f3a"
             ],
             [
              0.8888888888888888,
              "#fdca26"
             ],
             [
              1,
              "#f0f921"
             ]
            ],
            "type": "histogram2dcontour"
           }
          ],
          "mesh3d": [
           {
            "colorbar": {
             "outlinewidth": 0,
             "ticks": ""
            },
            "type": "mesh3d"
           }
          ],
          "parcoords": [
           {
            "line": {
             "colorbar": {
              "outlinewidth": 0,
              "ticks": ""
             }
            },
            "type": "parcoords"
           }
          ],
          "pie": [
           {
            "automargin": true,
            "type": "pie"
           }
          ],
          "scatter": [
           {
            "fillpattern": {
             "fillmode": "overlay",
             "size": 10,
             "solidity": 0.2
            },
            "type": "scatter"
           }
          ],
          "scatter3d": [
           {
            "line": {
             "colorbar": {
              "outlinewidth": 0,
              "ticks": ""
             }
            },
            "marker": {
             "colorbar": {
              "outlinewidth": 0,
              "ticks": ""
             }
            },
            "type": "scatter3d"
           }
          ],
          "scattercarpet": [
           {
            "marker": {
             "colorbar": {
              "outlinewidth": 0,
              "ticks": ""
             }
            },
            "type": "scattercarpet"
           }
          ],
          "scattergeo": [
           {
            "marker": {
             "colorbar": {
              "outlinewidth": 0,
              "ticks": ""
             }
            },
            "type": "scattergeo"
           }
          ],
          "scattergl": [
           {
            "marker": {
             "colorbar": {
              "outlinewidth": 0,
              "ticks": ""
             }
            },
            "type": "scattergl"
           }
          ],
          "scattermapbox": [
           {
            "marker": {
             "colorbar": {
              "outlinewidth": 0,
              "ticks": ""
             }
            },
            "type": "scattermapbox"
           }
          ],
          "scatterpolar": [
           {
            "marker": {
             "colorbar": {
              "outlinewidth": 0,
              "ticks": ""
             }
            },
            "type": "scatterpolar"
           }
          ],
          "scatterpolargl": [
           {
            "marker": {
             "colorbar": {
              "outlinewidth": 0,
              "ticks": ""
             }
            },
            "type": "scatterpolargl"
           }
          ],
          "scatterternary": [
           {
            "marker": {
             "colorbar": {
              "outlinewidth": 0,
              "ticks": ""
             }
            },
            "type": "scatterternary"
           }
          ],
          "surface": [
           {
            "colorbar": {
             "outlinewidth": 0,
             "ticks": ""
            },
            "colorscale": [
             [
              0,
              "#0d0887"
             ],
             [
              0.1111111111111111,
              "#46039f"
             ],
             [
              0.2222222222222222,
              "#7201a8"
             ],
             [
              0.3333333333333333,
              "#9c179e"
             ],
             [
              0.4444444444444444,
              "#bd3786"
             ],
             [
              0.5555555555555556,
              "#d8576b"
             ],
             [
              0.6666666666666666,
              "#ed7953"
             ],
             [
              0.7777777777777778,
              "#fb9f3a"
             ],
             [
              0.8888888888888888,
              "#fdca26"
             ],
             [
              1,
              "#f0f921"
             ]
            ],
            "type": "surface"
           }
          ],
          "table": [
           {
            "cells": {
             "fill": {
              "color": "#EBF0F8"
             },
             "line": {
              "color": "white"
             }
            },
            "header": {
             "fill": {
              "color": "#C8D4E3"
             },
             "line": {
              "color": "white"
             }
            },
            "type": "table"
           }
          ]
         },
         "layout": {
          "annotationdefaults": {
           "arrowcolor": "#2a3f5f",
           "arrowhead": 0,
           "arrowwidth": 1
          },
          "autotypenumbers": "strict",
          "coloraxis": {
           "colorbar": {
            "outlinewidth": 0,
            "ticks": ""
           }
          },
          "colorscale": {
           "diverging": [
            [
             0,
             "#8e0152"
            ],
            [
             0.1,
             "#c51b7d"
            ],
            [
             0.2,
             "#de77ae"
            ],
            [
             0.3,
             "#f1b6da"
            ],
            [
             0.4,
             "#fde0ef"
            ],
            [
             0.5,
             "#f7f7f7"
            ],
            [
             0.6,
             "#e6f5d0"
            ],
            [
             0.7,
             "#b8e186"
            ],
            [
             0.8,
             "#7fbc41"
            ],
            [
             0.9,
             "#4d9221"
            ],
            [
             1,
             "#276419"
            ]
           ],
           "sequential": [
            [
             0,
             "#0d0887"
            ],
            [
             0.1111111111111111,
             "#46039f"
            ],
            [
             0.2222222222222222,
             "#7201a8"
            ],
            [
             0.3333333333333333,
             "#9c179e"
            ],
            [
             0.4444444444444444,
             "#bd3786"
            ],
            [
             0.5555555555555556,
             "#d8576b"
            ],
            [
             0.6666666666666666,
             "#ed7953"
            ],
            [
             0.7777777777777778,
             "#fb9f3a"
            ],
            [
             0.8888888888888888,
             "#fdca26"
            ],
            [
             1,
             "#f0f921"
            ]
           ],
           "sequentialminus": [
            [
             0,
             "#0d0887"
            ],
            [
             0.1111111111111111,
             "#46039f"
            ],
            [
             0.2222222222222222,
             "#7201a8"
            ],
            [
             0.3333333333333333,
             "#9c179e"
            ],
            [
             0.4444444444444444,
             "#bd3786"
            ],
            [
             0.5555555555555556,
             "#d8576b"
            ],
            [
             0.6666666666666666,
             "#ed7953"
            ],
            [
             0.7777777777777778,
             "#fb9f3a"
            ],
            [
             0.8888888888888888,
             "#fdca26"
            ],
            [
             1,
             "#f0f921"
            ]
           ]
          },
          "colorway": [
           "#636efa",
           "#EF553B",
           "#00cc96",
           "#ab63fa",
           "#FFA15A",
           "#19d3f3",
           "#FF6692",
           "#B6E880",
           "#FF97FF",
           "#FECB52"
          ],
          "font": {
           "color": "#2a3f5f"
          },
          "geo": {
           "bgcolor": "white",
           "lakecolor": "white",
           "landcolor": "#E5ECF6",
           "showlakes": true,
           "showland": true,
           "subunitcolor": "white"
          },
          "hoverlabel": {
           "align": "left"
          },
          "hovermode": "closest",
          "mapbox": {
           "style": "light"
          },
          "paper_bgcolor": "white",
          "plot_bgcolor": "#E5ECF6",
          "polar": {
           "angularaxis": {
            "gridcolor": "white",
            "linecolor": "white",
            "ticks": ""
           },
           "bgcolor": "#E5ECF6",
           "radialaxis": {
            "gridcolor": "white",
            "linecolor": "white",
            "ticks": ""
           }
          },
          "scene": {
           "xaxis": {
            "backgroundcolor": "#E5ECF6",
            "gridcolor": "white",
            "gridwidth": 2,
            "linecolor": "white",
            "showbackground": true,
            "ticks": "",
            "zerolinecolor": "white"
           },
           "yaxis": {
            "backgroundcolor": "#E5ECF6",
            "gridcolor": "white",
            "gridwidth": 2,
            "linecolor": "white",
            "showbackground": true,
            "ticks": "",
            "zerolinecolor": "white"
           },
           "zaxis": {
            "backgroundcolor": "#E5ECF6",
            "gridcolor": "white",
            "gridwidth": 2,
            "linecolor": "white",
            "showbackground": true,
            "ticks": "",
            "zerolinecolor": "white"
           }
          },
          "shapedefaults": {
           "line": {
            "color": "#2a3f5f"
           }
          },
          "ternary": {
           "aaxis": {
            "gridcolor": "white",
            "linecolor": "white",
            "ticks": ""
           },
           "baxis": {
            "gridcolor": "white",
            "linecolor": "white",
            "ticks": ""
           },
           "bgcolor": "#E5ECF6",
           "caxis": {
            "gridcolor": "white",
            "linecolor": "white",
            "ticks": ""
           }
          },
          "title": {
           "x": 0.05
          },
          "xaxis": {
           "automargin": true,
           "gridcolor": "white",
           "linecolor": "white",
           "ticks": "",
           "title": {
            "standoff": 15
           },
           "zerolinecolor": "white",
           "zerolinewidth": 2
          },
          "yaxis": {
           "automargin": true,
           "gridcolor": "white",
           "linecolor": "white",
           "ticks": "",
           "title": {
            "standoff": 15
           },
           "zerolinecolor": "white",
           "zerolinewidth": 2
          }
         }
        },
        "title": {
         "text": "INTC Exponential Moving Averages"
        },
        "xaxis": {
         "anchor": "y",
         "domain": [
          0,
          1
         ],
         "title": {
          "text": "Datetime"
         }
        },
        "yaxis": {
         "anchor": "x",
         "domain": [
          0,
          1
         ],
         "title": {
          "text": "value"
         }
        }
       }
      },
      "text/html": [
       "<div>                            <div id=\"ccd5a9a4-7715-4fe0-8623-25b28ceeca8d\" class=\"plotly-graph-div\" style=\"height:525px; width:100%;\"></div>            <script type=\"text/javascript\">                require([\"plotly\"], function(Plotly) {                    window.PLOTLYENV=window.PLOTLYENV || {};                                    if (document.getElementById(\"ccd5a9a4-7715-4fe0-8623-25b28ceeca8d\")) {                    Plotly.newPlot(                        \"ccd5a9a4-7715-4fe0-8623-25b28ceeca8d\",                        [{\"hovertemplate\":\"variable=EMA_12<br>Datetime=%{x}<br>value=%{y}<extra></extra>\",\"legendgroup\":\"EMA_12\",\"line\":{\"color\":\"#38b9ff\",\"dash\":\"solid\"},\"marker\":{\"symbol\":\"circle\"},\"mode\":\"lines\",\"name\":\"EMA_12\",\"orientation\":\"v\",\"showlegend\":true,\"x\":[\"2024-06-07T09:30:00-04:00\",\"2024-06-07T09:35:00-04:00\",\"2024-06-07T09:40:00-04:00\",\"2024-06-07T09:45:00-04:00\",\"2024-06-07T09:50:00-04:00\",\"2024-06-07T09:55:00-04:00\",\"2024-06-07T10:00:00-04:00\",\"2024-06-07T10:05:00-04:00\",\"2024-06-07T10:10:00-04:00\",\"2024-06-07T10:15:00-04:00\",\"2024-06-07T10:20:00-04:00\",\"2024-06-07T10:25:00-04:00\",\"2024-06-07T10:30:00-04:00\",\"2024-06-07T10:35:00-04:00\",\"2024-06-07T10:40:00-04:00\",\"2024-06-07T10:45:00-04:00\",\"2024-06-07T10:50:00-04:00\",\"2024-06-07T10:55:00-04:00\",\"2024-06-07T11:00:00-04:00\",\"2024-06-07T11:05:00-04:00\",\"2024-06-07T11:10:00-04:00\",\"2024-06-07T11:15:00-04:00\",\"2024-06-07T11:20:00-04:00\",\"2024-06-07T11:25:00-04:00\",\"2024-06-07T11:30:00-04:00\",\"2024-06-07T11:35:00-04:00\",\"2024-06-07T11:40:00-04:00\",\"2024-06-07T11:45:00-04:00\",\"2024-06-07T11:50:00-04:00\",\"2024-06-07T11:55:00-04:00\",\"2024-06-07T12:00:00-04:00\",\"2024-06-07T12:05:00-04:00\",\"2024-06-07T12:10:00-04:00\",\"2024-06-07T12:15:00-04:00\",\"2024-06-07T12:20:00-04:00\",\"2024-06-07T12:25:00-04:00\",\"2024-06-07T12:30:00-04:00\",\"2024-06-07T12:35:00-04:00\",\"2024-06-07T12:40:00-04:00\",\"2024-06-07T12:45:00-04:00\",\"2024-06-07T12:50:00-04:00\",\"2024-06-07T12:55:00-04:00\",\"2024-06-07T13:00:00-04:00\",\"2024-06-07T13:05:00-04:00\",\"2024-06-07T13:10:00-04:00\",\"2024-06-07T13:15:00-04:00\",\"2024-06-07T13:20:00-04:00\",\"2024-06-07T13:25:00-04:00\",\"2024-06-07T13:30:00-04:00\",\"2024-06-07T13:35:00-04:00\",\"2024-06-07T13:40:00-04:00\",\"2024-06-07T13:45:00-04:00\",\"2024-06-07T13:50:00-04:00\",\"2024-06-07T13:55:00-04:00\",\"2024-06-07T14:00:00-04:00\",\"2024-06-07T14:05:00-04:00\",\"2024-06-07T14:10:00-04:00\",\"2024-06-07T14:15:00-04:00\",\"2024-06-07T14:20:00-04:00\",\"2024-06-07T14:25:00-04:00\",\"2024-06-07T14:30:00-04:00\",\"2024-06-07T14:35:00-04:00\",\"2024-06-07T14:40:00-04:00\",\"2024-06-07T14:45:00-04:00\",\"2024-06-07T14:50:00-04:00\",\"2024-06-07T14:55:00-04:00\",\"2024-06-07T15:00:00-04:00\",\"2024-06-07T15:05:00-04:00\",\"2024-06-07T15:10:00-04:00\",\"2024-06-07T15:15:00-04:00\",\"2024-06-07T15:20:00-04:00\",\"2024-06-07T15:25:00-04:00\",\"2024-06-07T15:30:00-04:00\",\"2024-06-07T15:35:00-04:00\",\"2024-06-07T15:40:00-04:00\",\"2024-06-07T15:45:00-04:00\",\"2024-06-07T15:50:00-04:00\",\"2024-06-07T15:55:00-04:00\"],\"xaxis\":\"x\",\"y\":[30.22010040283203,30.22010040283203,30.27003351847331,30.28872537612915,30.318837921142578,30.351138668295782,30.39169216150332,30.421336628030986,30.443987667106708,30.449919750566416,30.450948241118915,30.46301848375994,30.47726518659669,30.505529304034088,30.52264819807256,30.553242505354625,30.58542792367342,30.603114206422156,30.605958954658508,30.611582559265848,30.5975867826446,30.59143141488356,30.59535179426704,30.602320202591507,30.60307346850893,30.602885063989223,30.605459736690577,30.604785024747706,30.588752810705333,30.588155612623204,30.59461307674523,30.582853351379843,30.592098464746677,30.593600954420577,30.606705606109323,30.612405731505575,30.613483840250677,30.60352812795304,30.603563109138364,30.605208086175725,30.607583148396746,30.60497349205363,30.60632102909338,30.60889786641833,30.600906361615152,30.599615097912164,30.601981970713087,30.605523205988,30.603240247256096,30.607247965728,30.608316477715025,30.601887495499255,30.599962703205176,30.601414860427738,30.578595264057455,30.55553765658955,30.530974848531237,30.504674696769357,30.481456359675242,30.468075033608446,30.4584669647913,30.448316272178154,30.43983655547347,30.43898335040051,30.431734716989244,30.424923999038867,30.410715143269687,30.398847667215357,30.3854516794879,30.388860835514272,30.400496057935577,30.414638857054932,30.437002027653,30.459367568964577,30.483793019224578,30.503688029060864,30.537066235679514,30.55988517373509],\"yaxis\":\"y\",\"type\":\"scatter\"},{\"hovertemplate\":\"variable=EMA_6<br>Datetime=%{x}<br>value=%{y}<extra></extra>\",\"legendgroup\":\"EMA_6\",\"line\":{\"color\":\"#44fcd1\",\"dash\":\"solid\"},\"marker\":{\"symbol\":\"circle\"},\"mode\":\"lines\",\"name\":\"EMA_6\",\"orientation\":\"v\",\"showlegend\":true,\"x\":[\"2024-06-07T09:30:00-04:00\",\"2024-06-07T09:35:00-04:00\",\"2024-06-07T09:40:00-04:00\",\"2024-06-07T09:45:00-04:00\",\"2024-06-07T09:50:00-04:00\",\"2024-06-07T09:55:00-04:00\",\"2024-06-07T10:00:00-04:00\",\"2024-06-07T10:05:00-04:00\",\"2024-06-07T10:10:00-04:00\",\"2024-06-07T10:15:00-04:00\",\"2024-06-07T10:20:00-04:00\",\"2024-06-07T10:25:00-04:00\",\"2024-06-07T10:30:00-04:00\",\"2024-06-07T10:35:00-04:00\",\"2024-06-07T10:40:00-04:00\",\"2024-06-07T10:45:00-04:00\",\"2024-06-07T10:50:00-04:00\",\"2024-06-07T10:55:00-04:00\",\"2024-06-07T11:00:00-04:00\",\"2024-06-07T11:05:00-04:00\",\"2024-06-07T11:10:00-04:00\",\"2024-06-07T11:15:00-04:00\",\"2024-06-07T11:20:00-04:00\",\"2024-06-07T11:25:00-04:00\",\"2024-06-07T11:30:00-04:00\",\"2024-06-07T11:35:00-04:00\",\"2024-06-07T11:40:00-04:00\",\"2024-06-07T11:45:00-04:00\",\"2024-06-07T11:50:00-04:00\",\"2024-06-07T11:55:00-04:00\",\"2024-06-07T12:00:00-04:00\",\"2024-06-07T12:05:00-04:00\",\"2024-06-07T12:10:00-04:00\",\"2024-06-07T12:15:00-04:00\",\"2024-06-07T12:20:00-04:00\",\"2024-06-07T12:25:00-04:00\",\"2024-06-07T12:30:00-04:00\",\"2024-06-07T12:35:00-04:00\",\"2024-06-07T12:40:00-04:00\",\"2024-06-07T12:45:00-04:00\",\"2024-06-07T12:50:00-04:00\",\"2024-06-07T12:55:00-04:00\",\"2024-06-07T13:00:00-04:00\",\"2024-06-07T13:05:00-04:00\",\"2024-06-07T13:10:00-04:00\",\"2024-06-07T13:15:00-04:00\",\"2024-06-07T13:20:00-04:00\",\"2024-06-07T13:25:00-04:00\",\"2024-06-07T13:30:00-04:00\",\"2024-06-07T13:35:00-04:00\",\"2024-06-07T13:40:00-04:00\",\"2024-06-07T13:45:00-04:00\",\"2024-06-07T13:50:00-04:00\",\"2024-06-07T13:55:00-04:00\",\"2024-06-07T14:00:00-04:00\",\"2024-06-07T14:05:00-04:00\",\"2024-06-07T14:10:00-04:00\",\"2024-06-07T14:15:00-04:00\",\"2024-06-07T14:20:00-04:00\",\"2024-06-07T14:25:00-04:00\",\"2024-06-07T14:30:00-04:00\",\"2024-06-07T14:35:00-04:00\",\"2024-06-07T14:40:00-04:00\",\"2024-06-07T14:45:00-04:00\",\"2024-06-07T14:50:00-04:00\",\"2024-06-07T14:55:00-04:00\",\"2024-06-07T15:00:00-04:00\",\"2024-06-07T15:05:00-04:00\",\"2024-06-07T15:10:00-04:00\",\"2024-06-07T15:15:00-04:00\",\"2024-06-07T15:20:00-04:00\",\"2024-06-07T15:25:00-04:00\",\"2024-06-07T15:30:00-04:00\",\"2024-06-07T15:35:00-04:00\",\"2024-06-07T15:40:00-04:00\",\"2024-06-07T15:45:00-04:00\",\"2024-06-07T15:50:00-04:00\",\"2024-06-07T15:55:00-04:00\"],\"xaxis\":\"x\",\"y\":[30.22010040283203,30.22010040283203,30.27003351847331,30.28872537612915,30.318837921142578,30.351138668295782,30.39169216150332,30.44829907987278,30.487806595392456,30.507828313051615,30.516404235611965,30.54458101828321,30.567110567676778,30.577849488613854,30.57675953879407,30.600414073324686,30.64035681749912,30.64061749589332,30.62601625934237,30.62567270326254,30.616739342864793,30.610285650423414,30.584629414501045,30.588066688361017,30.601002370707583,30.592725107938932,30.583925494023067,30.576526035720335,30.58273091091806,30.59185038709751,30.593243094438773,30.581762452862353,30.596844165139476,30.603359614617553,30.61704813065844,30.621513108179546,30.621382424100403,30.619735580342653,30.610689174329572,30.611862610797495,30.60561619416618,30.602582799648555,30.607309952322417,30.59872952303101,30.59191550284725,30.58502427777111,30.594252644526,30.609014077253825,30.60637732772659,30.61103389783342,30.609973989634113,30.60675058916975,30.601864007026172,30.59342385790992,30.56892459524616,30.52746122869439,30.485308263858922,30.440156888414222,30.410976936257264,30.39704368663031,30.39053227008187,30.390569622656926,30.388718145028555,30.403169061580535,30.409682282773353,30.42098748152676,30.414962611490935,30.402780584245786,30.395407016382144,30.390570655827744,30.405055733859633,30.419714212545273,30.45582473878809,30.490731703417275,30.52604909674306,30.56181290645194,30.60507861033154,30.649345175177437],\"yaxis\":\"y\",\"type\":\"scatter\"}],                        {\"template\":{\"data\":{\"histogram2dcontour\":[{\"type\":\"histogram2dcontour\",\"colorbar\":{\"outlinewidth\":0,\"ticks\":\"\"},\"colorscale\":[[0.0,\"#0d0887\"],[0.1111111111111111,\"#46039f\"],[0.2222222222222222,\"#7201a8\"],[0.3333333333333333,\"#9c179e\"],[0.4444444444444444,\"#bd3786\"],[0.5555555555555556,\"#d8576b\"],[0.6666666666666666,\"#ed7953\"],[0.7777777777777778,\"#fb9f3a\"],[0.8888888888888888,\"#fdca26\"],[1.0,\"#f0f921\"]]}],\"choropleth\":[{\"type\":\"choropleth\",\"colorbar\":{\"outlinewidth\":0,\"ticks\":\"\"}}],\"histogram2d\":[{\"type\":\"histogram2d\",\"colorbar\":{\"outlinewidth\":0,\"ticks\":\"\"},\"colorscale\":[[0.0,\"#0d0887\"],[0.1111111111111111,\"#46039f\"],[0.2222222222222222,\"#7201a8\"],[0.3333333333333333,\"#9c179e\"],[0.4444444444444444,\"#bd3786\"],[0.5555555555555556,\"#d8576b\"],[0.6666666666666666,\"#ed7953\"],[0.7777777777777778,\"#fb9f3a\"],[0.8888888888888888,\"#fdca26\"],[1.0,\"#f0f921\"]]}],\"heatmap\":[{\"type\":\"heatmap\",\"colorbar\":{\"outlinewidth\":0,\"ticks\":\"\"},\"colorscale\":[[0.0,\"#0d0887\"],[0.1111111111111111,\"#46039f\"],[0.2222222222222222,\"#7201a8\"],[0.3333333333333333,\"#9c179e\"],[0.4444444444444444,\"#bd3786\"],[0.5555555555555556,\"#d8576b\"],[0.6666666666666666,\"#ed7953\"],[0.7777777777777778,\"#fb9f3a\"],[0.8888888888888888,\"#fdca26\"],[1.0,\"#f0f921\"]]}],\"heatmapgl\":[{\"type\":\"heatmapgl\",\"colorbar\":{\"outlinewidth\":0,\"ticks\":\"\"},\"colorscale\":[[0.0,\"#0d0887\"],[0.1111111111111111,\"#46039f\"],[0.2222222222222222,\"#7201a8\"],[0.3333333333333333,\"#9c179e\"],[0.4444444444444444,\"#bd3786\"],[0.5555555555555556,\"#d8576b\"],[0.6666666666666666,\"#ed7953\"],[0.7777777777777778,\"#fb9f3a\"],[0.8888888888888888,\"#fdca26\"],[1.0,\"#f0f921\"]]}],\"contourcarpet\":[{\"type\":\"contourcarpet\",\"colorbar\":{\"outlinewidth\":0,\"ticks\":\"\"}}],\"contour\":[{\"type\":\"contour\",\"colorbar\":{\"outlinewidth\":0,\"ticks\":\"\"},\"colorscale\":[[0.0,\"#0d0887\"],[0.1111111111111111,\"#46039f\"],[0.2222222222222222,\"#7201a8\"],[0.3333333333333333,\"#9c179e\"],[0.4444444444444444,\"#bd3786\"],[0.5555555555555556,\"#d8576b\"],[0.6666666666666666,\"#ed7953\"],[0.7777777777777778,\"#fb9f3a\"],[0.8888888888888888,\"#fdca26\"],[1.0,\"#f0f921\"]]}],\"surface\":[{\"type\":\"surface\",\"colorbar\":{\"outlinewidth\":0,\"ticks\":\"\"},\"colorscale\":[[0.0,\"#0d0887\"],[0.1111111111111111,\"#46039f\"],[0.2222222222222222,\"#7201a8\"],[0.3333333333333333,\"#9c179e\"],[0.4444444444444444,\"#bd3786\"],[0.5555555555555556,\"#d8576b\"],[0.6666666666666666,\"#ed7953\"],[0.7777777777777778,\"#fb9f3a\"],[0.8888888888888888,\"#fdca26\"],[1.0,\"#f0f921\"]]}],\"mesh3d\":[{\"type\":\"mesh3d\",\"colorbar\":{\"outlinewidth\":0,\"ticks\":\"\"}}],\"scatter\":[{\"fillpattern\":{\"fillmode\":\"overlay\",\"size\":10,\"solidity\":0.2},\"type\":\"scatter\"}],\"parcoords\":[{\"type\":\"parcoords\",\"line\":{\"colorbar\":{\"outlinewidth\":0,\"ticks\":\"\"}}}],\"scatterpolargl\":[{\"type\":\"scatterpolargl\",\"marker\":{\"colorbar\":{\"outlinewidth\":0,\"ticks\":\"\"}}}],\"bar\":[{\"error_x\":{\"color\":\"#2a3f5f\"},\"error_y\":{\"color\":\"#2a3f5f\"},\"marker\":{\"line\":{\"color\":\"#E5ECF6\",\"width\":0.5},\"pattern\":{\"fillmode\":\"overlay\",\"size\":10,\"solidity\":0.2}},\"type\":\"bar\"}],\"scattergeo\":[{\"type\":\"scattergeo\",\"marker\":{\"colorbar\":{\"outlinewidth\":0,\"ticks\":\"\"}}}],\"scatterpolar\":[{\"type\":\"scatterpolar\",\"marker\":{\"colorbar\":{\"outlinewidth\":0,\"ticks\":\"\"}}}],\"histogram\":[{\"marker\":{\"pattern\":{\"fillmode\":\"overlay\",\"size\":10,\"solidity\":0.2}},\"type\":\"histogram\"}],\"scattergl\":[{\"type\":\"scattergl\",\"marker\":{\"colorbar\":{\"outlinewidth\":0,\"ticks\":\"\"}}}],\"scatter3d\":[{\"type\":\"scatter3d\",\"line\":{\"colorbar\":{\"outlinewidth\":0,\"ticks\":\"\"}},\"marker\":{\"colorbar\":{\"outlinewidth\":0,\"ticks\":\"\"}}}],\"scattermapbox\":[{\"type\":\"scattermapbox\",\"marker\":{\"colorbar\":{\"outlinewidth\":0,\"ticks\":\"\"}}}],\"scatterternary\":[{\"type\":\"scatterternary\",\"marker\":{\"colorbar\":{\"outlinewidth\":0,\"ticks\":\"\"}}}],\"scattercarpet\":[{\"type\":\"scattercarpet\",\"marker\":{\"colorbar\":{\"outlinewidth\":0,\"ticks\":\"\"}}}],\"carpet\":[{\"aaxis\":{\"endlinecolor\":\"#2a3f5f\",\"gridcolor\":\"white\",\"linecolor\":\"white\",\"minorgridcolor\":\"white\",\"startlinecolor\":\"#2a3f5f\"},\"baxis\":{\"endlinecolor\":\"#2a3f5f\",\"gridcolor\":\"white\",\"linecolor\":\"white\",\"minorgridcolor\":\"white\",\"startlinecolor\":\"#2a3f5f\"},\"type\":\"carpet\"}],\"table\":[{\"cells\":{\"fill\":{\"color\":\"#EBF0F8\"},\"line\":{\"color\":\"white\"}},\"header\":{\"fill\":{\"color\":\"#C8D4E3\"},\"line\":{\"color\":\"white\"}},\"type\":\"table\"}],\"barpolar\":[{\"marker\":{\"line\":{\"color\":\"#E5ECF6\",\"width\":0.5},\"pattern\":{\"fillmode\":\"overlay\",\"size\":10,\"solidity\":0.2}},\"type\":\"barpolar\"}],\"pie\":[{\"automargin\":true,\"type\":\"pie\"}]},\"layout\":{\"autotypenumbers\":\"strict\",\"colorway\":[\"#636efa\",\"#EF553B\",\"#00cc96\",\"#ab63fa\",\"#FFA15A\",\"#19d3f3\",\"#FF6692\",\"#B6E880\",\"#FF97FF\",\"#FECB52\"],\"font\":{\"color\":\"#2a3f5f\"},\"hovermode\":\"closest\",\"hoverlabel\":{\"align\":\"left\"},\"paper_bgcolor\":\"white\",\"plot_bgcolor\":\"#E5ECF6\",\"polar\":{\"bgcolor\":\"#E5ECF6\",\"angularaxis\":{\"gridcolor\":\"white\",\"linecolor\":\"white\",\"ticks\":\"\"},\"radialaxis\":{\"gridcolor\":\"white\",\"linecolor\":\"white\",\"ticks\":\"\"}},\"ternary\":{\"bgcolor\":\"#E5ECF6\",\"aaxis\":{\"gridcolor\":\"white\",\"linecolor\":\"white\",\"ticks\":\"\"},\"baxis\":{\"gridcolor\":\"white\",\"linecolor\":\"white\",\"ticks\":\"\"},\"caxis\":{\"gridcolor\":\"white\",\"linecolor\":\"white\",\"ticks\":\"\"}},\"coloraxis\":{\"colorbar\":{\"outlinewidth\":0,\"ticks\":\"\"}},\"colorscale\":{\"sequential\":[[0.0,\"#0d0887\"],[0.1111111111111111,\"#46039f\"],[0.2222222222222222,\"#7201a8\"],[0.3333333333333333,\"#9c179e\"],[0.4444444444444444,\"#bd3786\"],[0.5555555555555556,\"#d8576b\"],[0.6666666666666666,\"#ed7953\"],[0.7777777777777778,\"#fb9f3a\"],[0.8888888888888888,\"#fdca26\"],[1.0,\"#f0f921\"]],\"sequentialminus\":[[0.0,\"#0d0887\"],[0.1111111111111111,\"#46039f\"],[0.2222222222222222,\"#7201a8\"],[0.3333333333333333,\"#9c179e\"],[0.4444444444444444,\"#bd3786\"],[0.5555555555555556,\"#d8576b\"],[0.6666666666666666,\"#ed7953\"],[0.7777777777777778,\"#fb9f3a\"],[0.8888888888888888,\"#fdca26\"],[1.0,\"#f0f921\"]],\"diverging\":[[0,\"#8e0152\"],[0.1,\"#c51b7d\"],[0.2,\"#de77ae\"],[0.3,\"#f1b6da\"],[0.4,\"#fde0ef\"],[0.5,\"#f7f7f7\"],[0.6,\"#e6f5d0\"],[0.7,\"#b8e186\"],[0.8,\"#7fbc41\"],[0.9,\"#4d9221\"],[1,\"#276419\"]]},\"xaxis\":{\"gridcolor\":\"white\",\"linecolor\":\"white\",\"ticks\":\"\",\"title\":{\"standoff\":15},\"zerolinecolor\":\"white\",\"automargin\":true,\"zerolinewidth\":2},\"yaxis\":{\"gridcolor\":\"white\",\"linecolor\":\"white\",\"ticks\":\"\",\"title\":{\"standoff\":15},\"zerolinecolor\":\"white\",\"automargin\":true,\"zerolinewidth\":2},\"scene\":{\"xaxis\":{\"backgroundcolor\":\"#E5ECF6\",\"gridcolor\":\"white\",\"linecolor\":\"white\",\"showbackground\":true,\"ticks\":\"\",\"zerolinecolor\":\"white\",\"gridwidth\":2},\"yaxis\":{\"backgroundcolor\":\"#E5ECF6\",\"gridcolor\":\"white\",\"linecolor\":\"white\",\"showbackground\":true,\"ticks\":\"\",\"zerolinecolor\":\"white\",\"gridwidth\":2},\"zaxis\":{\"backgroundcolor\":\"#E5ECF6\",\"gridcolor\":\"white\",\"linecolor\":\"white\",\"showbackground\":true,\"ticks\":\"\",\"zerolinecolor\":\"white\",\"gridwidth\":2}},\"shapedefaults\":{\"line\":{\"color\":\"#2a3f5f\"}},\"annotationdefaults\":{\"arrowcolor\":\"#2a3f5f\",\"arrowhead\":0,\"arrowwidth\":1},\"geo\":{\"bgcolor\":\"white\",\"landcolor\":\"#E5ECF6\",\"subunitcolor\":\"white\",\"showland\":true,\"showlakes\":true,\"lakecolor\":\"white\"},\"title\":{\"x\":0.05},\"mapbox\":{\"style\":\"light\"}}},\"xaxis\":{\"anchor\":\"y\",\"domain\":[0.0,1.0],\"title\":{\"text\":\"Datetime\"}},\"yaxis\":{\"anchor\":\"x\",\"domain\":[0.0,1.0],\"title\":{\"text\":\"value\"}},\"legend\":{\"title\":{\"text\":\"variable\"},\"tracegroupgap\":0},\"title\":{\"text\":\"INTC Exponential Moving Averages\"}},                        {\"responsive\": true}                    ).then(function(){\n",
       "                            \n",
       "var gd = document.getElementById('ccd5a9a4-7715-4fe0-8623-25b28ceeca8d');\n",
       "var x = new MutationObserver(function (mutations, observer) {{\n",
       "        var display = window.getComputedStyle(gd).display;\n",
       "        if (!display || display === 'none') {{\n",
       "            console.log([gd, 'removed!']);\n",
       "            Plotly.purge(gd);\n",
       "            observer.disconnect();\n",
       "        }}\n",
       "}});\n",
       "\n",
       "// Listen for the removal of the full notebook cells\n",
       "var notebookContainer = gd.closest('#notebook-container');\n",
       "if (notebookContainer) {{\n",
       "    x.observe(notebookContainer, {childList: true});\n",
       "}}\n",
       "\n",
       "// Listen for the clearing of the current output cell\n",
       "var outputEl = gd.closest('.output');\n",
       "if (outputEl) {{\n",
       "    x.observe(outputEl, {childList: true});\n",
       "}}\n",
       "\n",
       "                        })                };                });            </script>        </div>"
      ]
     },
     "metadata": {},
     "output_type": "display_data"
    },
    {
     "data": {
      "application/vnd.plotly.v1+json": {
       "config": {
        "plotlyServerURL": "https://plot.ly"
       },
       "data": [
        {
         "hovertemplate": "Datetime=%{x}<br>MACD_6_12=%{y}<extra></extra>",
         "legendgroup": "",
         "line": {
          "color": "#636efa",
          "dash": "solid"
         },
         "marker": {
          "symbol": "circle"
         },
         "mode": "lines",
         "name": "",
         "orientation": "v",
         "showlegend": false,
         "type": "scatter",
         "x": [
          "2024-06-07T09:30:00-04:00",
          "2024-06-07T09:35:00-04:00",
          "2024-06-07T09:40:00-04:00",
          "2024-06-07T09:45:00-04:00",
          "2024-06-07T09:50:00-04:00",
          "2024-06-07T09:55:00-04:00",
          "2024-06-07T10:00:00-04:00",
          "2024-06-07T10:05:00-04:00",
          "2024-06-07T10:10:00-04:00",
          "2024-06-07T10:15:00-04:00",
          "2024-06-07T10:20:00-04:00",
          "2024-06-07T10:25:00-04:00",
          "2024-06-07T10:30:00-04:00",
          "2024-06-07T10:35:00-04:00",
          "2024-06-07T10:40:00-04:00",
          "2024-06-07T10:45:00-04:00",
          "2024-06-07T10:50:00-04:00",
          "2024-06-07T10:55:00-04:00",
          "2024-06-07T11:00:00-04:00",
          "2024-06-07T11:05:00-04:00",
          "2024-06-07T11:10:00-04:00",
          "2024-06-07T11:15:00-04:00",
          "2024-06-07T11:20:00-04:00",
          "2024-06-07T11:25:00-04:00",
          "2024-06-07T11:30:00-04:00",
          "2024-06-07T11:35:00-04:00",
          "2024-06-07T11:40:00-04:00",
          "2024-06-07T11:45:00-04:00",
          "2024-06-07T11:50:00-04:00",
          "2024-06-07T11:55:00-04:00",
          "2024-06-07T12:00:00-04:00",
          "2024-06-07T12:05:00-04:00",
          "2024-06-07T12:10:00-04:00",
          "2024-06-07T12:15:00-04:00",
          "2024-06-07T12:20:00-04:00",
          "2024-06-07T12:25:00-04:00",
          "2024-06-07T12:30:00-04:00",
          "2024-06-07T12:35:00-04:00",
          "2024-06-07T12:40:00-04:00",
          "2024-06-07T12:45:00-04:00",
          "2024-06-07T12:50:00-04:00",
          "2024-06-07T12:55:00-04:00",
          "2024-06-07T13:00:00-04:00",
          "2024-06-07T13:05:00-04:00",
          "2024-06-07T13:10:00-04:00",
          "2024-06-07T13:15:00-04:00",
          "2024-06-07T13:20:00-04:00",
          "2024-06-07T13:25:00-04:00",
          "2024-06-07T13:30:00-04:00",
          "2024-06-07T13:35:00-04:00",
          "2024-06-07T13:40:00-04:00",
          "2024-06-07T13:45:00-04:00",
          "2024-06-07T13:50:00-04:00",
          "2024-06-07T13:55:00-04:00",
          "2024-06-07T14:00:00-04:00",
          "2024-06-07T14:05:00-04:00",
          "2024-06-07T14:10:00-04:00",
          "2024-06-07T14:15:00-04:00",
          "2024-06-07T14:20:00-04:00",
          "2024-06-07T14:25:00-04:00",
          "2024-06-07T14:30:00-04:00",
          "2024-06-07T14:35:00-04:00",
          "2024-06-07T14:40:00-04:00",
          "2024-06-07T14:45:00-04:00",
          "2024-06-07T14:50:00-04:00",
          "2024-06-07T14:55:00-04:00",
          "2024-06-07T15:00:00-04:00",
          "2024-06-07T15:05:00-04:00",
          "2024-06-07T15:10:00-04:00",
          "2024-06-07T15:15:00-04:00",
          "2024-06-07T15:20:00-04:00",
          "2024-06-07T15:25:00-04:00",
          "2024-06-07T15:30:00-04:00",
          "2024-06-07T15:35:00-04:00",
          "2024-06-07T15:40:00-04:00",
          "2024-06-07T15:45:00-04:00",
          "2024-06-07T15:50:00-04:00",
          "2024-06-07T15:55:00-04:00"
         ],
         "xaxis": "x",
         "y": [
          0,
          0,
          0,
          0,
          0,
          0,
          0,
          0.026962451841793467,
          0.043818928285748626,
          0.057908562485199155,
          0.06545599449304973,
          0.08156253452327178,
          0.08984538108008877,
          0.07232018457976608,
          0.054111340721512136,
          0.047171567970060835,
          0.05492889382569999,
          0.037503289471164436,
          0.020057304683863464,
          0.014090143996693172,
          0.019152560220192072,
          0.018854235539855324,
          -0.010722379765994106,
          -0.014253514230489372,
          -0.0020710978013482872,
          -0.010159956050291186,
          -0.02153424266751003,
          -0.02825898902737123,
          -0.006021899787274521,
          0.003694774474304552,
          -0.0013699823064570182,
          -0.001090898517489336,
          0.0047457003927995345,
          0.00975866019697591,
          0.01034252454911666,
          0.009107376673970435,
          0.007898583849726748,
          0.016207452389611632,
          0.007126065191208397,
          0.006654524621769298,
          -0.001966954230564255,
          -0.0023906924050756118,
          0.0009889232290376526,
          -0.010168343387320533,
          -0.008990858767901955,
          -0.014590820141052063,
          -0.007729326187085661,
          0.003490871265825035,
          0.0031370804704948796,
          0.0037859321054192208,
          0.0016575119190882504,
          0.004863093670493868,
          0.001901303820996958,
          -0.007991002517819368,
          -0.009670668811295968,
          -0.028076427895161515,
          -0.04566658467231477,
          -0.06451780835513432,
          -0.07047942341797864,
          -0.07103134697813474,
          -0.06793469470942881,
          -0.057746649521227766,
          -0.051118410444914275,
          -0.035814288819974394,
          -0.022052434215890315,
          -0.003936517512109106,
          0.004247468221247885,
          0.003932917030429195,
          0.009955336894243771,
          0.0017098203134722212,
          0.004559675924056705,
          0.005075355490340883,
          0.018822711135086934,
          0.03136413445269781,
          0.042256077518480595,
          0.058124877391076524,
          0.06801237465202448,
          0.08946000144234745
         ],
         "yaxis": "y"
        }
       ],
       "layout": {
        "legend": {
         "tracegroupgap": 0
        },
        "template": {
         "data": {
          "bar": [
           {
            "error_x": {
             "color": "#2a3f5f"
            },
            "error_y": {
             "color": "#2a3f5f"
            },
            "marker": {
             "line": {
              "color": "#E5ECF6",
              "width": 0.5
             },
             "pattern": {
              "fillmode": "overlay",
              "size": 10,
              "solidity": 0.2
             }
            },
            "type": "bar"
           }
          ],
          "barpolar": [
           {
            "marker": {
             "line": {
              "color": "#E5ECF6",
              "width": 0.5
             },
             "pattern": {
              "fillmode": "overlay",
              "size": 10,
              "solidity": 0.2
             }
            },
            "type": "barpolar"
           }
          ],
          "carpet": [
           {
            "aaxis": {
             "endlinecolor": "#2a3f5f",
             "gridcolor": "white",
             "linecolor": "white",
             "minorgridcolor": "white",
             "startlinecolor": "#2a3f5f"
            },
            "baxis": {
             "endlinecolor": "#2a3f5f",
             "gridcolor": "white",
             "linecolor": "white",
             "minorgridcolor": "white",
             "startlinecolor": "#2a3f5f"
            },
            "type": "carpet"
           }
          ],
          "choropleth": [
           {
            "colorbar": {
             "outlinewidth": 0,
             "ticks": ""
            },
            "type": "choropleth"
           }
          ],
          "contour": [
           {
            "colorbar": {
             "outlinewidth": 0,
             "ticks": ""
            },
            "colorscale": [
             [
              0,
              "#0d0887"
             ],
             [
              0.1111111111111111,
              "#46039f"
             ],
             [
              0.2222222222222222,
              "#7201a8"
             ],
             [
              0.3333333333333333,
              "#9c179e"
             ],
             [
              0.4444444444444444,
              "#bd3786"
             ],
             [
              0.5555555555555556,
              "#d8576b"
             ],
             [
              0.6666666666666666,
              "#ed7953"
             ],
             [
              0.7777777777777778,
              "#fb9f3a"
             ],
             [
              0.8888888888888888,
              "#fdca26"
             ],
             [
              1,
              "#f0f921"
             ]
            ],
            "type": "contour"
           }
          ],
          "contourcarpet": [
           {
            "colorbar": {
             "outlinewidth": 0,
             "ticks": ""
            },
            "type": "contourcarpet"
           }
          ],
          "heatmap": [
           {
            "colorbar": {
             "outlinewidth": 0,
             "ticks": ""
            },
            "colorscale": [
             [
              0,
              "#0d0887"
             ],
             [
              0.1111111111111111,
              "#46039f"
             ],
             [
              0.2222222222222222,
              "#7201a8"
             ],
             [
              0.3333333333333333,
              "#9c179e"
             ],
             [
              0.4444444444444444,
              "#bd3786"
             ],
             [
              0.5555555555555556,
              "#d8576b"
             ],
             [
              0.6666666666666666,
              "#ed7953"
             ],
             [
              0.7777777777777778,
              "#fb9f3a"
             ],
             [
              0.8888888888888888,
              "#fdca26"
             ],
             [
              1,
              "#f0f921"
             ]
            ],
            "type": "heatmap"
           }
          ],
          "heatmapgl": [
           {
            "colorbar": {
             "outlinewidth": 0,
             "ticks": ""
            },
            "colorscale": [
             [
              0,
              "#0d0887"
             ],
             [
              0.1111111111111111,
              "#46039f"
             ],
             [
              0.2222222222222222,
              "#7201a8"
             ],
             [
              0.3333333333333333,
              "#9c179e"
             ],
             [
              0.4444444444444444,
              "#bd3786"
             ],
             [
              0.5555555555555556,
              "#d8576b"
             ],
             [
              0.6666666666666666,
              "#ed7953"
             ],
             [
              0.7777777777777778,
              "#fb9f3a"
             ],
             [
              0.8888888888888888,
              "#fdca26"
             ],
             [
              1,
              "#f0f921"
             ]
            ],
            "type": "heatmapgl"
           }
          ],
          "histogram": [
           {
            "marker": {
             "pattern": {
              "fillmode": "overlay",
              "size": 10,
              "solidity": 0.2
             }
            },
            "type": "histogram"
           }
          ],
          "histogram2d": [
           {
            "colorbar": {
             "outlinewidth": 0,
             "ticks": ""
            },
            "colorscale": [
             [
              0,
              "#0d0887"
             ],
             [
              0.1111111111111111,
              "#46039f"
             ],
             [
              0.2222222222222222,
              "#7201a8"
             ],
             [
              0.3333333333333333,
              "#9c179e"
             ],
             [
              0.4444444444444444,
              "#bd3786"
             ],
             [
              0.5555555555555556,
              "#d8576b"
             ],
             [
              0.6666666666666666,
              "#ed7953"
             ],
             [
              0.7777777777777778,
              "#fb9f3a"
             ],
             [
              0.8888888888888888,
              "#fdca26"
             ],
             [
              1,
              "#f0f921"
             ]
            ],
            "type": "histogram2d"
           }
          ],
          "histogram2dcontour": [
           {
            "colorbar": {
             "outlinewidth": 0,
             "ticks": ""
            },
            "colorscale": [
             [
              0,
              "#0d0887"
             ],
             [
              0.1111111111111111,
              "#46039f"
             ],
             [
              0.2222222222222222,
              "#7201a8"
             ],
             [
              0.3333333333333333,
              "#9c179e"
             ],
             [
              0.4444444444444444,
              "#bd3786"
             ],
             [
              0.5555555555555556,
              "#d8576b"
             ],
             [
              0.6666666666666666,
              "#ed7953"
             ],
             [
              0.7777777777777778,
              "#fb9f3a"
             ],
             [
              0.8888888888888888,
              "#fdca26"
             ],
             [
              1,
              "#f0f921"
             ]
            ],
            "type": "histogram2dcontour"
           }
          ],
          "mesh3d": [
           {
            "colorbar": {
             "outlinewidth": 0,
             "ticks": ""
            },
            "type": "mesh3d"
           }
          ],
          "parcoords": [
           {
            "line": {
             "colorbar": {
              "outlinewidth": 0,
              "ticks": ""
             }
            },
            "type": "parcoords"
           }
          ],
          "pie": [
           {
            "automargin": true,
            "type": "pie"
           }
          ],
          "scatter": [
           {
            "fillpattern": {
             "fillmode": "overlay",
             "size": 10,
             "solidity": 0.2
            },
            "type": "scatter"
           }
          ],
          "scatter3d": [
           {
            "line": {
             "colorbar": {
              "outlinewidth": 0,
              "ticks": ""
             }
            },
            "marker": {
             "colorbar": {
              "outlinewidth": 0,
              "ticks": ""
             }
            },
            "type": "scatter3d"
           }
          ],
          "scattercarpet": [
           {
            "marker": {
             "colorbar": {
              "outlinewidth": 0,
              "ticks": ""
             }
            },
            "type": "scattercarpet"
           }
          ],
          "scattergeo": [
           {
            "marker": {
             "colorbar": {
              "outlinewidth": 0,
              "ticks": ""
             }
            },
            "type": "scattergeo"
           }
          ],
          "scattergl": [
           {
            "marker": {
             "colorbar": {
              "outlinewidth": 0,
              "ticks": ""
             }
            },
            "type": "scattergl"
           }
          ],
          "scattermapbox": [
           {
            "marker": {
             "colorbar": {
              "outlinewidth": 0,
              "ticks": ""
             }
            },
            "type": "scattermapbox"
           }
          ],
          "scatterpolar": [
           {
            "marker": {
             "colorbar": {
              "outlinewidth": 0,
              "ticks": ""
             }
            },
            "type": "scatterpolar"
           }
          ],
          "scatterpolargl": [
           {
            "marker": {
             "colorbar": {
              "outlinewidth": 0,
              "ticks": ""
             }
            },
            "type": "scatterpolargl"
           }
          ],
          "scatterternary": [
           {
            "marker": {
             "colorbar": {
              "outlinewidth": 0,
              "ticks": ""
             }
            },
            "type": "scatterternary"
           }
          ],
          "surface": [
           {
            "colorbar": {
             "outlinewidth": 0,
             "ticks": ""
            },
            "colorscale": [
             [
              0,
              "#0d0887"
             ],
             [
              0.1111111111111111,
              "#46039f"
             ],
             [
              0.2222222222222222,
              "#7201a8"
             ],
             [
              0.3333333333333333,
              "#9c179e"
             ],
             [
              0.4444444444444444,
              "#bd3786"
             ],
             [
              0.5555555555555556,
              "#d8576b"
             ],
             [
              0.6666666666666666,
              "#ed7953"
             ],
             [
              0.7777777777777778,
              "#fb9f3a"
             ],
             [
              0.8888888888888888,
              "#fdca26"
             ],
             [
              1,
              "#f0f921"
             ]
            ],
            "type": "surface"
           }
          ],
          "table": [
           {
            "cells": {
             "fill": {
              "color": "#EBF0F8"
             },
             "line": {
              "color": "white"
             }
            },
            "header": {
             "fill": {
              "color": "#C8D4E3"
             },
             "line": {
              "color": "white"
             }
            },
            "type": "table"
           }
          ]
         },
         "layout": {
          "annotationdefaults": {
           "arrowcolor": "#2a3f5f",
           "arrowhead": 0,
           "arrowwidth": 1
          },
          "autotypenumbers": "strict",
          "coloraxis": {
           "colorbar": {
            "outlinewidth": 0,
            "ticks": ""
           }
          },
          "colorscale": {
           "diverging": [
            [
             0,
             "#8e0152"
            ],
            [
             0.1,
             "#c51b7d"
            ],
            [
             0.2,
             "#de77ae"
            ],
            [
             0.3,
             "#f1b6da"
            ],
            [
             0.4,
             "#fde0ef"
            ],
            [
             0.5,
             "#f7f7f7"
            ],
            [
             0.6,
             "#e6f5d0"
            ],
            [
             0.7,
             "#b8e186"
            ],
            [
             0.8,
             "#7fbc41"
            ],
            [
             0.9,
             "#4d9221"
            ],
            [
             1,
             "#276419"
            ]
           ],
           "sequential": [
            [
             0,
             "#0d0887"
            ],
            [
             0.1111111111111111,
             "#46039f"
            ],
            [
             0.2222222222222222,
             "#7201a8"
            ],
            [
             0.3333333333333333,
             "#9c179e"
            ],
            [
             0.4444444444444444,
             "#bd3786"
            ],
            [
             0.5555555555555556,
             "#d8576b"
            ],
            [
             0.6666666666666666,
             "#ed7953"
            ],
            [
             0.7777777777777778,
             "#fb9f3a"
            ],
            [
             0.8888888888888888,
             "#fdca26"
            ],
            [
             1,
             "#f0f921"
            ]
           ],
           "sequentialminus": [
            [
             0,
             "#0d0887"
            ],
            [
             0.1111111111111111,
             "#46039f"
            ],
            [
             0.2222222222222222,
             "#7201a8"
            ],
            [
             0.3333333333333333,
             "#9c179e"
            ],
            [
             0.4444444444444444,
             "#bd3786"
            ],
            [
             0.5555555555555556,
             "#d8576b"
            ],
            [
             0.6666666666666666,
             "#ed7953"
            ],
            [
             0.7777777777777778,
             "#fb9f3a"
            ],
            [
             0.8888888888888888,
             "#fdca26"
            ],
            [
             1,
             "#f0f921"
            ]
           ]
          },
          "colorway": [
           "#636efa",
           "#EF553B",
           "#00cc96",
           "#ab63fa",
           "#FFA15A",
           "#19d3f3",
           "#FF6692",
           "#B6E880",
           "#FF97FF",
           "#FECB52"
          ],
          "font": {
           "color": "#2a3f5f"
          },
          "geo": {
           "bgcolor": "white",
           "lakecolor": "white",
           "landcolor": "#E5ECF6",
           "showlakes": true,
           "showland": true,
           "subunitcolor": "white"
          },
          "hoverlabel": {
           "align": "left"
          },
          "hovermode": "closest",
          "mapbox": {
           "style": "light"
          },
          "paper_bgcolor": "white",
          "plot_bgcolor": "#E5ECF6",
          "polar": {
           "angularaxis": {
            "gridcolor": "white",
            "linecolor": "white",
            "ticks": ""
           },
           "bgcolor": "#E5ECF6",
           "radialaxis": {
            "gridcolor": "white",
            "linecolor": "white",
            "ticks": ""
           }
          },
          "scene": {
           "xaxis": {
            "backgroundcolor": "#E5ECF6",
            "gridcolor": "white",
            "gridwidth": 2,
            "linecolor": "white",
            "showbackground": true,
            "ticks": "",
            "zerolinecolor": "white"
           },
           "yaxis": {
            "backgroundcolor": "#E5ECF6",
            "gridcolor": "white",
            "gridwidth": 2,
            "linecolor": "white",
            "showbackground": true,
            "ticks": "",
            "zerolinecolor": "white"
           },
           "zaxis": {
            "backgroundcolor": "#E5ECF6",
            "gridcolor": "white",
            "gridwidth": 2,
            "linecolor": "white",
            "showbackground": true,
            "ticks": "",
            "zerolinecolor": "white"
           }
          },
          "shapedefaults": {
           "line": {
            "color": "#2a3f5f"
           }
          },
          "ternary": {
           "aaxis": {
            "gridcolor": "white",
            "linecolor": "white",
            "ticks": ""
           },
           "baxis": {
            "gridcolor": "white",
            "linecolor": "white",
            "ticks": ""
           },
           "bgcolor": "#E5ECF6",
           "caxis": {
            "gridcolor": "white",
            "linecolor": "white",
            "ticks": ""
           }
          },
          "title": {
           "x": 0.05
          },
          "xaxis": {
           "automargin": true,
           "gridcolor": "white",
           "linecolor": "white",
           "ticks": "",
           "title": {
            "standoff": 15
           },
           "zerolinecolor": "white",
           "zerolinewidth": 2
          },
          "yaxis": {
           "automargin": true,
           "gridcolor": "white",
           "linecolor": "white",
           "ticks": "",
           "title": {
            "standoff": 15
           },
           "zerolinecolor": "white",
           "zerolinewidth": 2
          }
         }
        },
        "title": {
         "text": "INTC MACD"
        },
        "xaxis": {
         "anchor": "y",
         "domain": [
          0,
          1
         ],
         "title": {
          "text": "Datetime"
         }
        },
        "yaxis": {
         "anchor": "x",
         "domain": [
          0,
          1
         ],
         "title": {
          "text": "MACD_6_12"
         }
        }
       }
      },
      "text/html": [
       "<div>                            <div id=\"111bd5e5-5a1d-4ad5-b4af-906d769fc97f\" class=\"plotly-graph-div\" style=\"height:525px; width:100%;\"></div>            <script type=\"text/javascript\">                require([\"plotly\"], function(Plotly) {                    window.PLOTLYENV=window.PLOTLYENV || {};                                    if (document.getElementById(\"111bd5e5-5a1d-4ad5-b4af-906d769fc97f\")) {                    Plotly.newPlot(                        \"111bd5e5-5a1d-4ad5-b4af-906d769fc97f\",                        [{\"hovertemplate\":\"Datetime=%{x}<br>MACD_6_12=%{y}<extra></extra>\",\"legendgroup\":\"\",\"line\":{\"color\":\"#636efa\",\"dash\":\"solid\"},\"marker\":{\"symbol\":\"circle\"},\"mode\":\"lines\",\"name\":\"\",\"orientation\":\"v\",\"showlegend\":false,\"x\":[\"2024-06-07T09:30:00-04:00\",\"2024-06-07T09:35:00-04:00\",\"2024-06-07T09:40:00-04:00\",\"2024-06-07T09:45:00-04:00\",\"2024-06-07T09:50:00-04:00\",\"2024-06-07T09:55:00-04:00\",\"2024-06-07T10:00:00-04:00\",\"2024-06-07T10:05:00-04:00\",\"2024-06-07T10:10:00-04:00\",\"2024-06-07T10:15:00-04:00\",\"2024-06-07T10:20:00-04:00\",\"2024-06-07T10:25:00-04:00\",\"2024-06-07T10:30:00-04:00\",\"2024-06-07T10:35:00-04:00\",\"2024-06-07T10:40:00-04:00\",\"2024-06-07T10:45:00-04:00\",\"2024-06-07T10:50:00-04:00\",\"2024-06-07T10:55:00-04:00\",\"2024-06-07T11:00:00-04:00\",\"2024-06-07T11:05:00-04:00\",\"2024-06-07T11:10:00-04:00\",\"2024-06-07T11:15:00-04:00\",\"2024-06-07T11:20:00-04:00\",\"2024-06-07T11:25:00-04:00\",\"2024-06-07T11:30:00-04:00\",\"2024-06-07T11:35:00-04:00\",\"2024-06-07T11:40:00-04:00\",\"2024-06-07T11:45:00-04:00\",\"2024-06-07T11:50:00-04:00\",\"2024-06-07T11:55:00-04:00\",\"2024-06-07T12:00:00-04:00\",\"2024-06-07T12:05:00-04:00\",\"2024-06-07T12:10:00-04:00\",\"2024-06-07T12:15:00-04:00\",\"2024-06-07T12:20:00-04:00\",\"2024-06-07T12:25:00-04:00\",\"2024-06-07T12:30:00-04:00\",\"2024-06-07T12:35:00-04:00\",\"2024-06-07T12:40:00-04:00\",\"2024-06-07T12:45:00-04:00\",\"2024-06-07T12:50:00-04:00\",\"2024-06-07T12:55:00-04:00\",\"2024-06-07T13:00:00-04:00\",\"2024-06-07T13:05:00-04:00\",\"2024-06-07T13:10:00-04:00\",\"2024-06-07T13:15:00-04:00\",\"2024-06-07T13:20:00-04:00\",\"2024-06-07T13:25:00-04:00\",\"2024-06-07T13:30:00-04:00\",\"2024-06-07T13:35:00-04:00\",\"2024-06-07T13:40:00-04:00\",\"2024-06-07T13:45:00-04:00\",\"2024-06-07T13:50:00-04:00\",\"2024-06-07T13:55:00-04:00\",\"2024-06-07T14:00:00-04:00\",\"2024-06-07T14:05:00-04:00\",\"2024-06-07T14:10:00-04:00\",\"2024-06-07T14:15:00-04:00\",\"2024-06-07T14:20:00-04:00\",\"2024-06-07T14:25:00-04:00\",\"2024-06-07T14:30:00-04:00\",\"2024-06-07T14:35:00-04:00\",\"2024-06-07T14:40:00-04:00\",\"2024-06-07T14:45:00-04:00\",\"2024-06-07T14:50:00-04:00\",\"2024-06-07T14:55:00-04:00\",\"2024-06-07T15:00:00-04:00\",\"2024-06-07T15:05:00-04:00\",\"2024-06-07T15:10:00-04:00\",\"2024-06-07T15:15:00-04:00\",\"2024-06-07T15:20:00-04:00\",\"2024-06-07T15:25:00-04:00\",\"2024-06-07T15:30:00-04:00\",\"2024-06-07T15:35:00-04:00\",\"2024-06-07T15:40:00-04:00\",\"2024-06-07T15:45:00-04:00\",\"2024-06-07T15:50:00-04:00\",\"2024-06-07T15:55:00-04:00\"],\"xaxis\":\"x\",\"y\":[0.0,0.0,0.0,0.0,0.0,0.0,0.0,0.026962451841793467,0.043818928285748626,0.057908562485199155,0.06545599449304973,0.08156253452327178,0.08984538108008877,0.07232018457976608,0.054111340721512136,0.047171567970060835,0.05492889382569999,0.037503289471164436,0.020057304683863464,0.014090143996693172,0.019152560220192072,0.018854235539855324,-0.010722379765994106,-0.014253514230489372,-0.0020710978013482872,-0.010159956050291186,-0.02153424266751003,-0.02825898902737123,-0.006021899787274521,0.003694774474304552,-0.0013699823064570182,-0.001090898517489336,0.0047457003927995345,0.00975866019697591,0.01034252454911666,0.009107376673970435,0.007898583849726748,0.016207452389611632,0.007126065191208397,0.006654524621769298,-0.001966954230564255,-0.0023906924050756118,0.0009889232290376526,-0.010168343387320533,-0.008990858767901955,-0.014590820141052063,-0.007729326187085661,0.003490871265825035,0.0031370804704948796,0.0037859321054192208,0.0016575119190882504,0.004863093670493868,0.001901303820996958,-0.007991002517819368,-0.009670668811295968,-0.028076427895161515,-0.04566658467231477,-0.06451780835513432,-0.07047942341797864,-0.07103134697813474,-0.06793469470942881,-0.057746649521227766,-0.051118410444914275,-0.035814288819974394,-0.022052434215890315,-0.003936517512109106,0.004247468221247885,0.003932917030429195,0.009955336894243771,0.0017098203134722212,0.004559675924056705,0.005075355490340883,0.018822711135086934,0.03136413445269781,0.042256077518480595,0.058124877391076524,0.06801237465202448,0.08946000144234745],\"yaxis\":\"y\",\"type\":\"scatter\"}],                        {\"template\":{\"data\":{\"histogram2dcontour\":[{\"type\":\"histogram2dcontour\",\"colorbar\":{\"outlinewidth\":0,\"ticks\":\"\"},\"colorscale\":[[0.0,\"#0d0887\"],[0.1111111111111111,\"#46039f\"],[0.2222222222222222,\"#7201a8\"],[0.3333333333333333,\"#9c179e\"],[0.4444444444444444,\"#bd3786\"],[0.5555555555555556,\"#d8576b\"],[0.6666666666666666,\"#ed7953\"],[0.7777777777777778,\"#fb9f3a\"],[0.8888888888888888,\"#fdca26\"],[1.0,\"#f0f921\"]]}],\"choropleth\":[{\"type\":\"choropleth\",\"colorbar\":{\"outlinewidth\":0,\"ticks\":\"\"}}],\"histogram2d\":[{\"type\":\"histogram2d\",\"colorbar\":{\"outlinewidth\":0,\"ticks\":\"\"},\"colorscale\":[[0.0,\"#0d0887\"],[0.1111111111111111,\"#46039f\"],[0.2222222222222222,\"#7201a8\"],[0.3333333333333333,\"#9c179e\"],[0.4444444444444444,\"#bd3786\"],[0.5555555555555556,\"#d8576b\"],[0.6666666666666666,\"#ed7953\"],[0.7777777777777778,\"#fb9f3a\"],[0.8888888888888888,\"#fdca26\"],[1.0,\"#f0f921\"]]}],\"heatmap\":[{\"type\":\"heatmap\",\"colorbar\":{\"outlinewidth\":0,\"ticks\":\"\"},\"colorscale\":[[0.0,\"#0d0887\"],[0.1111111111111111,\"#46039f\"],[0.2222222222222222,\"#7201a8\"],[0.3333333333333333,\"#9c179e\"],[0.4444444444444444,\"#bd3786\"],[0.5555555555555556,\"#d8576b\"],[0.6666666666666666,\"#ed7953\"],[0.7777777777777778,\"#fb9f3a\"],[0.8888888888888888,\"#fdca26\"],[1.0,\"#f0f921\"]]}],\"heatmapgl\":[{\"type\":\"heatmapgl\",\"colorbar\":{\"outlinewidth\":0,\"ticks\":\"\"},\"colorscale\":[[0.0,\"#0d0887\"],[0.1111111111111111,\"#46039f\"],[0.2222222222222222,\"#7201a8\"],[0.3333333333333333,\"#9c179e\"],[0.4444444444444444,\"#bd3786\"],[0.5555555555555556,\"#d8576b\"],[0.6666666666666666,\"#ed7953\"],[0.7777777777777778,\"#fb9f3a\"],[0.8888888888888888,\"#fdca26\"],[1.0,\"#f0f921\"]]}],\"contourcarpet\":[{\"type\":\"contourcarpet\",\"colorbar\":{\"outlinewidth\":0,\"ticks\":\"\"}}],\"contour\":[{\"type\":\"contour\",\"colorbar\":{\"outlinewidth\":0,\"ticks\":\"\"},\"colorscale\":[[0.0,\"#0d0887\"],[0.1111111111111111,\"#46039f\"],[0.2222222222222222,\"#7201a8\"],[0.3333333333333333,\"#9c179e\"],[0.4444444444444444,\"#bd3786\"],[0.5555555555555556,\"#d8576b\"],[0.6666666666666666,\"#ed7953\"],[0.7777777777777778,\"#fb9f3a\"],[0.8888888888888888,\"#fdca26\"],[1.0,\"#f0f921\"]]}],\"surface\":[{\"type\":\"surface\",\"colorbar\":{\"outlinewidth\":0,\"ticks\":\"\"},\"colorscale\":[[0.0,\"#0d0887\"],[0.1111111111111111,\"#46039f\"],[0.2222222222222222,\"#7201a8\"],[0.3333333333333333,\"#9c179e\"],[0.4444444444444444,\"#bd3786\"],[0.5555555555555556,\"#d8576b\"],[0.6666666666666666,\"#ed7953\"],[0.7777777777777778,\"#fb9f3a\"],[0.8888888888888888,\"#fdca26\"],[1.0,\"#f0f921\"]]}],\"mesh3d\":[{\"type\":\"mesh3d\",\"colorbar\":{\"outlinewidth\":0,\"ticks\":\"\"}}],\"scatter\":[{\"fillpattern\":{\"fillmode\":\"overlay\",\"size\":10,\"solidity\":0.2},\"type\":\"scatter\"}],\"parcoords\":[{\"type\":\"parcoords\",\"line\":{\"colorbar\":{\"outlinewidth\":0,\"ticks\":\"\"}}}],\"scatterpolargl\":[{\"type\":\"scatterpolargl\",\"marker\":{\"colorbar\":{\"outlinewidth\":0,\"ticks\":\"\"}}}],\"bar\":[{\"error_x\":{\"color\":\"#2a3f5f\"},\"error_y\":{\"color\":\"#2a3f5f\"},\"marker\":{\"line\":{\"color\":\"#E5ECF6\",\"width\":0.5},\"pattern\":{\"fillmode\":\"overlay\",\"size\":10,\"solidity\":0.2}},\"type\":\"bar\"}],\"scattergeo\":[{\"type\":\"scattergeo\",\"marker\":{\"colorbar\":{\"outlinewidth\":0,\"ticks\":\"\"}}}],\"scatterpolar\":[{\"type\":\"scatterpolar\",\"marker\":{\"colorbar\":{\"outlinewidth\":0,\"ticks\":\"\"}}}],\"histogram\":[{\"marker\":{\"pattern\":{\"fillmode\":\"overlay\",\"size\":10,\"solidity\":0.2}},\"type\":\"histogram\"}],\"scattergl\":[{\"type\":\"scattergl\",\"marker\":{\"colorbar\":{\"outlinewidth\":0,\"ticks\":\"\"}}}],\"scatter3d\":[{\"type\":\"scatter3d\",\"line\":{\"colorbar\":{\"outlinewidth\":0,\"ticks\":\"\"}},\"marker\":{\"colorbar\":{\"outlinewidth\":0,\"ticks\":\"\"}}}],\"scattermapbox\":[{\"type\":\"scattermapbox\",\"marker\":{\"colorbar\":{\"outlinewidth\":0,\"ticks\":\"\"}}}],\"scatterternary\":[{\"type\":\"scatterternary\",\"marker\":{\"colorbar\":{\"outlinewidth\":0,\"ticks\":\"\"}}}],\"scattercarpet\":[{\"type\":\"scattercarpet\",\"marker\":{\"colorbar\":{\"outlinewidth\":0,\"ticks\":\"\"}}}],\"carpet\":[{\"aaxis\":{\"endlinecolor\":\"#2a3f5f\",\"gridcolor\":\"white\",\"linecolor\":\"white\",\"minorgridcolor\":\"white\",\"startlinecolor\":\"#2a3f5f\"},\"baxis\":{\"endlinecolor\":\"#2a3f5f\",\"gridcolor\":\"white\",\"linecolor\":\"white\",\"minorgridcolor\":\"white\",\"startlinecolor\":\"#2a3f5f\"},\"type\":\"carpet\"}],\"table\":[{\"cells\":{\"fill\":{\"color\":\"#EBF0F8\"},\"line\":{\"color\":\"white\"}},\"header\":{\"fill\":{\"color\":\"#C8D4E3\"},\"line\":{\"color\":\"white\"}},\"type\":\"table\"}],\"barpolar\":[{\"marker\":{\"line\":{\"color\":\"#E5ECF6\",\"width\":0.5},\"pattern\":{\"fillmode\":\"overlay\",\"size\":10,\"solidity\":0.2}},\"type\":\"barpolar\"}],\"pie\":[{\"automargin\":true,\"type\":\"pie\"}]},\"layout\":{\"autotypenumbers\":\"strict\",\"colorway\":[\"#636efa\",\"#EF553B\",\"#00cc96\",\"#ab63fa\",\"#FFA15A\",\"#19d3f3\",\"#FF6692\",\"#B6E880\",\"#FF97FF\",\"#FECB52\"],\"font\":{\"color\":\"#2a3f5f\"},\"hovermode\":\"closest\",\"hoverlabel\":{\"align\":\"left\"},\"paper_bgcolor\":\"white\",\"plot_bgcolor\":\"#E5ECF6\",\"polar\":{\"bgcolor\":\"#E5ECF6\",\"angularaxis\":{\"gridcolor\":\"white\",\"linecolor\":\"white\",\"ticks\":\"\"},\"radialaxis\":{\"gridcolor\":\"white\",\"linecolor\":\"white\",\"ticks\":\"\"}},\"ternary\":{\"bgcolor\":\"#E5ECF6\",\"aaxis\":{\"gridcolor\":\"white\",\"linecolor\":\"white\",\"ticks\":\"\"},\"baxis\":{\"gridcolor\":\"white\",\"linecolor\":\"white\",\"ticks\":\"\"},\"caxis\":{\"gridcolor\":\"white\",\"linecolor\":\"white\",\"ticks\":\"\"}},\"coloraxis\":{\"colorbar\":{\"outlinewidth\":0,\"ticks\":\"\"}},\"colorscale\":{\"sequential\":[[0.0,\"#0d0887\"],[0.1111111111111111,\"#46039f\"],[0.2222222222222222,\"#7201a8\"],[0.3333333333333333,\"#9c179e\"],[0.4444444444444444,\"#bd3786\"],[0.5555555555555556,\"#d8576b\"],[0.6666666666666666,\"#ed7953\"],[0.7777777777777778,\"#fb9f3a\"],[0.8888888888888888,\"#fdca26\"],[1.0,\"#f0f921\"]],\"sequentialminus\":[[0.0,\"#0d0887\"],[0.1111111111111111,\"#46039f\"],[0.2222222222222222,\"#7201a8\"],[0.3333333333333333,\"#9c179e\"],[0.4444444444444444,\"#bd3786\"],[0.5555555555555556,\"#d8576b\"],[0.6666666666666666,\"#ed7953\"],[0.7777777777777778,\"#fb9f3a\"],[0.8888888888888888,\"#fdca26\"],[1.0,\"#f0f921\"]],\"diverging\":[[0,\"#8e0152\"],[0.1,\"#c51b7d\"],[0.2,\"#de77ae\"],[0.3,\"#f1b6da\"],[0.4,\"#fde0ef\"],[0.5,\"#f7f7f7\"],[0.6,\"#e6f5d0\"],[0.7,\"#b8e186\"],[0.8,\"#7fbc41\"],[0.9,\"#4d9221\"],[1,\"#276419\"]]},\"xaxis\":{\"gridcolor\":\"white\",\"linecolor\":\"white\",\"ticks\":\"\",\"title\":{\"standoff\":15},\"zerolinecolor\":\"white\",\"automargin\":true,\"zerolinewidth\":2},\"yaxis\":{\"gridcolor\":\"white\",\"linecolor\":\"white\",\"ticks\":\"\",\"title\":{\"standoff\":15},\"zerolinecolor\":\"white\",\"automargin\":true,\"zerolinewidth\":2},\"scene\":{\"xaxis\":{\"backgroundcolor\":\"#E5ECF6\",\"gridcolor\":\"white\",\"linecolor\":\"white\",\"showbackground\":true,\"ticks\":\"\",\"zerolinecolor\":\"white\",\"gridwidth\":2},\"yaxis\":{\"backgroundcolor\":\"#E5ECF6\",\"gridcolor\":\"white\",\"linecolor\":\"white\",\"showbackground\":true,\"ticks\":\"\",\"zerolinecolor\":\"white\",\"gridwidth\":2},\"zaxis\":{\"backgroundcolor\":\"#E5ECF6\",\"gridcolor\":\"white\",\"linecolor\":\"white\",\"showbackground\":true,\"ticks\":\"\",\"zerolinecolor\":\"white\",\"gridwidth\":2}},\"shapedefaults\":{\"line\":{\"color\":\"#2a3f5f\"}},\"annotationdefaults\":{\"arrowcolor\":\"#2a3f5f\",\"arrowhead\":0,\"arrowwidth\":1},\"geo\":{\"bgcolor\":\"white\",\"landcolor\":\"#E5ECF6\",\"subunitcolor\":\"white\",\"showland\":true,\"showlakes\":true,\"lakecolor\":\"white\"},\"title\":{\"x\":0.05},\"mapbox\":{\"style\":\"light\"}}},\"xaxis\":{\"anchor\":\"y\",\"domain\":[0.0,1.0],\"title\":{\"text\":\"Datetime\"}},\"yaxis\":{\"anchor\":\"x\",\"domain\":[0.0,1.0],\"title\":{\"text\":\"MACD_6_12\"}},\"legend\":{\"tracegroupgap\":0},\"title\":{\"text\":\"INTC MACD\"}},                        {\"responsive\": true}                    ).then(function(){\n",
       "                            \n",
       "var gd = document.getElementById('111bd5e5-5a1d-4ad5-b4af-906d769fc97f');\n",
       "var x = new MutationObserver(function (mutations, observer) {{\n",
       "        var display = window.getComputedStyle(gd).display;\n",
       "        if (!display || display === 'none') {{\n",
       "            console.log([gd, 'removed!']);\n",
       "            Plotly.purge(gd);\n",
       "            observer.disconnect();\n",
       "        }}\n",
       "}});\n",
       "\n",
       "// Listen for the removal of the full notebook cells\n",
       "var notebookContainer = gd.closest('#notebook-container');\n",
       "if (notebookContainer) {{\n",
       "    x.observe(notebookContainer, {childList: true});\n",
       "}}\n",
       "\n",
       "// Listen for the clearing of the current output cell\n",
       "var outputEl = gd.closest('.output');\n",
       "if (outputEl) {{\n",
       "    x.observe(outputEl, {childList: true});\n",
       "}}\n",
       "\n",
       "                        })                };                });            </script>        </div>"
      ]
     },
     "metadata": {},
     "output_type": "display_data"
    }
   ],
   "source": [
    "##################################\n",
    "# STEP 1: OBTAIN DESIRED STOCK + INTERVALS\n",
    "##################################\n",
    "stonks = create_stock_data_from_input()\n",
    "\n",
    "with warnings.catch_warnings():\n",
    "    warnings.simplefilter(\"ignore\")\n",
    "    fig = px.line(stonks.data_frame, x=stonks.data_frame.index,\n",
    "                  y='Close',\n",
    "                 title=f\"{stonks.stock_symbol} Stock Prices\")\n",
    "    fig.show()\n",
    "\n",
    "    \n",
    "##################################\n",
    "# STEP 2: SET UP TIME-SERIES DATA\n",
    "##################################\n",
    "# The number of lag variables should not exceed 30% of the \n",
    "# number of observations\n",
    "threshold = int(0.3 * stonks.data_frame.shape[0])\n",
    "    \n",
    "add_lags_from_input(stonks, threshold)\n",
    "\n",
    "display_days = int(0.8 * stonks.lag_length)\n",
    "SMA_string = 'SMA_' + str(display_days)\n",
    "lower_boll_str = 'lower_boll_' + str(display_days)\n",
    "upper_boll_str = 'upper_boll_' + str(display_days)\n",
    "EMA_string = 'EMA_' + str(display_days)\n",
    "EMA_string_2 = 'EMA_' + str(int(display_days / 2))\n",
    "MACD_string = 'MACD_' + str(int(display_days / 2)) + '_' + str(display_days)\n",
    "\n",
    "stonks.add_simple_moving_average(display_days)\n",
    "stonks.add_upper_bollinger(display_days)\n",
    "stonks.add_lower_bollinger(display_days)\n",
    "stonks.add_exponential_moving_average(display_days)\n",
    "stonks.add_exponential_moving_average(int(display_days/2))\n",
    "stonks.add_MACD(display_days, int(display_days/2))\n",
    "\n",
    "\n",
    "with warnings.catch_warnings():\n",
    "    warnings.simplefilter(\"ignore\")\n",
    "    fig = px.line(stonks.data_frame, x=stonks.data_frame.index,\n",
    "                  y=[SMA_string, upper_boll_str, lower_boll_str, 'Close',], \n",
    "                  color_discrete_map={\n",
    "                      SMA_string: \"#85deb1\",\n",
    "                      upper_boll_str: \"#b6d1c3\",\n",
    "                      lower_boll_str: \"#b6d1c3\",\n",
    "                      \"Close\": \"#0059ff\",\n",
    "                  },\n",
    "                 title=f\"{stonks.stock_symbol} Stock Prices w/ Bollinger Bands\").update_traces(\n",
    "        selector={\"name\": upper_boll_str},\n",
    "        line={\"dash\": \"dot\"}\n",
    "    ).update_traces(\n",
    "        selector={\"name\": lower_boll_str}, \n",
    "        line={\"dash\": \"dot\"})\n",
    "\n",
    "    fig.show()\n",
    "\n",
    "\n",
    "with warnings.catch_warnings():\n",
    "    warnings.simplefilter(\"ignore\")\n",
    "    fig = px.line(stonks.data_frame, x=stonks.data_frame.index,\n",
    "                  y=[EMA_string, EMA_string_2], \n",
    "                  color_discrete_map={\n",
    "                      EMA_string:\"#38b9ff\",\n",
    "                      EMA_string_2:\"#44fcd1\"\n",
    "                  },\n",
    "                 title=f\"{stonks.stock_symbol} Exponential Moving Averages\")\n",
    "    fig.show()\n",
    "    \n",
    "\n",
    "with warnings.catch_warnings():\n",
    "    warnings.simplefilter(\"ignore\")\n",
    "    fig = px.line(stonks.data_frame, x=stonks.data_frame.index,\n",
    "                  y=MACD_string, \n",
    "                  color_discrete_map={\n",
    "                      MACD_string:\"#edff47\"\n",
    "                  },\n",
    "                 title=f\"{stonks.stock_symbol} MACD\")\n",
    "    fig.show()"
   ]
  },
  {
   "cell_type": "markdown",
   "id": "9e98f2d4",
   "metadata": {},
   "source": [
    "# Setting Up Models"
   ]
  },
  {
   "cell_type": "code",
   "execution_count": 33,
   "id": "f4f40bb8",
   "metadata": {},
   "outputs": [],
   "source": [
    "# Predictors\n",
    "predictors = stonks.data_frame.filter(regex='Close_L')\n",
    "# Outcome\n",
    "outcome=stonks.data_frame[\"Close\"]\n",
    "\n",
    "(X_train, X_test, Y_train, Y_test) = train_test_split(predictors, \n",
    "                                                  outcome,\n",
    "                                                  random_state=SEED,\n",
    "                                                  test_size=0.25)"
   ]
  },
  {
   "cell_type": "markdown",
   "id": "b76305e6",
   "metadata": {},
   "source": [
    "### Random Forest"
   ]
  },
  {
   "cell_type": "code",
   "execution_count": 34,
   "id": "39f39a8d",
   "metadata": {},
   "outputs": [
    {
     "name": "stdout",
     "output_type": "stream",
     "text": [
      "What's the minimum number of trees that should be in our forest?\n",
      "(Type 'Exit' to quit)\n",
      "10\n",
      "What's the maximum number of trees that should be in our forest?\n",
      "(Type 'Exit' to quit)\n",
      "20\n",
      "How many possible number of trees should we look at between 10 trees and 20 trees? \n",
      "(Type 'Exit' to quit)\n",
      "10\n",
      "---------------------------------------\n",
      "\n",
      "Give a lower bound for the number of random 5min intervals each tree in our forest can see (between 1 and 15)\n",
      "(Type 'Exit' to quit)\n",
      "1\n",
      "Give an upper bound for the number of random 5min intervals each tree in our forest can see (between 1 and 15)\n",
      "(Type 'Exit' to quit)\n",
      "15\n",
      "How many choices should we consider between 1 and 15 potential 5min intervals? \n",
      "(Type 'Exit' to quit)\n",
      "5\n",
      "---------------------------------------\n",
      "\n",
      "Give a lower bound for the number of samples in a tree branch before it should split\n",
      "(Type 'Exit' to quit)\n",
      "5\n",
      "Give an upper bound for the number of samples in a tree branch before it should split\n",
      "(Type 'Exit' to quit)\n",
      "15\n",
      "How many choices should we consider between 5 and 15? \n",
      "(Type 'Exit' to quit)\n",
      "5\n",
      "\n",
      "\n",
      "Running 3300 models .....\n",
      "\n",
      "\n"
     ]
    },
    {
     "data": {
      "application/vnd.plotly.v1+json": {
       "config": {
        "plotlyServerURL": "https://plot.ly"
       },
       "data": [
        {
         "hovertemplate": "variable=features_1_leaf_5<br>Trees=%{x}<br>value=%{y}<extra></extra>",
         "legendgroup": "features_1_leaf_5",
         "line": {
          "color": "#636efa",
          "dash": "solid"
         },
         "marker": {
          "symbol": "circle"
         },
         "mode": "lines",
         "name": "features_1_leaf_5",
         "orientation": "v",
         "showlegend": true,
         "type": "scatter",
         "x": [
          10,
          11,
          12,
          13,
          14,
          15,
          16,
          17,
          18,
          19,
          20
         ],
         "xaxis": "x",
         "y": [
          -0.19682650581752353,
          -0.15115032335823245,
          -0.16802300236132064,
          -0.10715127376676933,
          -0.08760609641376416,
          -0.004032595980494014,
          -0.045240315364296714,
          -0.014905262789814655,
          -0.031572384126442546,
          0.05314729493734358,
          0.024870115863087496
         ],
         "yaxis": "y"
        },
        {
         "hovertemplate": "variable=features_4_leaf_5<br>Trees=%{x}<br>value=%{y}<extra></extra>",
         "legendgroup": "features_4_leaf_5",
         "line": {
          "color": "#EF553B",
          "dash": "solid"
         },
         "marker": {
          "symbol": "circle"
         },
         "mode": "lines",
         "name": "features_4_leaf_5",
         "orientation": "v",
         "showlegend": true,
         "type": "scatter",
         "x": [
          10,
          11,
          12,
          13,
          14,
          15,
          16,
          17,
          18,
          19,
          20
         ],
         "xaxis": "x",
         "y": [
          0.3180579947486922,
          0.33278022911703875,
          0.31436237916883286,
          0.298176377372682,
          0.30294081337314493,
          0.2934695258146379,
          0.28985077101013124,
          0.2897817343441008,
          0.30692386377083053,
          0.3412208572220482,
          0.35278420663946697
         ],
         "yaxis": "y"
        },
        {
         "hovertemplate": "variable=features_7_leaf_5<br>Trees=%{x}<br>value=%{y}<extra></extra>",
         "legendgroup": "features_7_leaf_5",
         "line": {
          "color": "#00cc96",
          "dash": "solid"
         },
         "marker": {
          "symbol": "circle"
         },
         "mode": "lines",
         "name": "features_7_leaf_5",
         "orientation": "v",
         "showlegend": true,
         "type": "scatter",
         "x": [
          10,
          11,
          12,
          13,
          14,
          15,
          16,
          17,
          18,
          19,
          20
         ],
         "xaxis": "x",
         "y": [
          0.45251108115086225,
          0.4148093231032724,
          0.38653860294338827,
          0.3764292545762958,
          0.4003346023530945,
          0.40505412407346153,
          0.3980179156806989,
          0.375178149427744,
          0.39448025159797684,
          0.4175136885302961,
          0.423652005177804
         ],
         "yaxis": "y"
        },
        {
         "hovertemplate": "variable=features_10_leaf_5<br>Trees=%{x}<br>value=%{y}<extra></extra>",
         "legendgroup": "features_10_leaf_5",
         "line": {
          "color": "#ab63fa",
          "dash": "solid"
         },
         "marker": {
          "symbol": "circle"
         },
         "mode": "lines",
         "name": "features_10_leaf_5",
         "orientation": "v",
         "showlegend": true,
         "type": "scatter",
         "x": [
          10,
          11,
          12,
          13,
          14,
          15,
          16,
          17,
          18,
          19,
          20
         ],
         "xaxis": "x",
         "y": [
          0.4999857319777246,
          0.47049213140676854,
          0.44302702560202095,
          0.4587957287829488,
          0.47600998761151114,
          0.4883126135959869,
          0.4487732618162717,
          0.4637438747245737,
          0.46594020261018276,
          0.4727296248718945,
          0.4738028384665064
         ],
         "yaxis": "y"
        },
        {
         "hovertemplate": "variable=features_13_leaf_5<br>Trees=%{x}<br>value=%{y}<extra></extra>",
         "legendgroup": "features_13_leaf_5",
         "line": {
          "color": "#FFA15A",
          "dash": "solid"
         },
         "marker": {
          "symbol": "circle"
         },
         "mode": "lines",
         "name": "features_13_leaf_5",
         "orientation": "v",
         "showlegend": true,
         "type": "scatter",
         "x": [
          10,
          11,
          12,
          13,
          14,
          15,
          16,
          17,
          18,
          19,
          20
         ],
         "xaxis": "x",
         "y": [
          0.5233758811893302,
          0.5096171273840612,
          0.5287259838553442,
          0.5397104017160372,
          0.5358044401734219,
          0.5458941085413954,
          0.5457107235753709,
          0.5363355232850683,
          0.5278849008603528,
          0.5220652726278014,
          0.5106030705319838
         ],
         "yaxis": "y"
        },
        {
         "hovertemplate": "variable=features_1_leaf_7<br>Trees=%{x}<br>value=%{y}<extra></extra>",
         "legendgroup": "features_1_leaf_7",
         "line": {
          "color": "#636efa",
          "dash": "solid"
         },
         "marker": {
          "symbol": "circle"
         },
         "mode": "lines",
         "name": "features_1_leaf_7",
         "orientation": "v",
         "showlegend": true,
         "type": "scatter",
         "x": [
          10,
          11,
          12,
          13,
          14,
          15,
          16,
          17,
          18,
          19,
          20
         ],
         "xaxis": "x2",
         "y": [
          -0.060042751176790185,
          -0.059401131852137065,
          -0.08109241716897113,
          -0.006802108560326059,
          0.007202728763104638,
          0.04016571429104117,
          -0.009697556461908641,
          0.010381339446312875,
          -0.005562922575327001,
          0.07328210045274433,
          0.04560958407409095
         ],
         "yaxis": "y2"
        },
        {
         "hovertemplate": "variable=features_4_leaf_7<br>Trees=%{x}<br>value=%{y}<extra></extra>",
         "legendgroup": "features_4_leaf_7",
         "line": {
          "color": "#EF553B",
          "dash": "solid"
         },
         "marker": {
          "symbol": "circle"
         },
         "mode": "lines",
         "name": "features_4_leaf_7",
         "orientation": "v",
         "showlegend": true,
         "type": "scatter",
         "x": [
          10,
          11,
          12,
          13,
          14,
          15,
          16,
          17,
          18,
          19,
          20
         ],
         "xaxis": "x2",
         "y": [
          0.30466356788508253,
          0.2913040693208239,
          0.2934976934920027,
          0.3052681347582554,
          0.2944179137609998,
          0.28010963493023544,
          0.2695037836567832,
          0.2577347957217822,
          0.2669812626833262,
          0.31130346779278983,
          0.32197256308607297
         ],
         "yaxis": "y2"
        },
        {
         "hovertemplate": "variable=features_7_leaf_7<br>Trees=%{x}<br>value=%{y}<extra></extra>",
         "legendgroup": "features_7_leaf_7",
         "line": {
          "color": "#00cc96",
          "dash": "solid"
         },
         "marker": {
          "symbol": "circle"
         },
         "mode": "lines",
         "name": "features_7_leaf_7",
         "orientation": "v",
         "showlegend": true,
         "type": "scatter",
         "x": [
          10,
          11,
          12,
          13,
          14,
          15,
          16,
          17,
          18,
          19,
          20
         ],
         "xaxis": "x2",
         "y": [
          0.4560700962356757,
          0.4002166385994168,
          0.36850917757603585,
          0.3808682773419769,
          0.4161809764907695,
          0.4331625991598854,
          0.4330517005364011,
          0.42054289107615606,
          0.4244878739970246,
          0.454756073329619,
          0.4613025928484369
         ],
         "yaxis": "y2"
        },
        {
         "hovertemplate": "variable=features_10_leaf_7<br>Trees=%{x}<br>value=%{y}<extra></extra>",
         "legendgroup": "features_10_leaf_7",
         "line": {
          "color": "#ab63fa",
          "dash": "solid"
         },
         "marker": {
          "symbol": "circle"
         },
         "mode": "lines",
         "name": "features_10_leaf_7",
         "orientation": "v",
         "showlegend": true,
         "type": "scatter",
         "x": [
          10,
          11,
          12,
          13,
          14,
          15,
          16,
          17,
          18,
          19,
          20
         ],
         "xaxis": "x2",
         "y": [
          0.5036378381586658,
          0.48398908958198594,
          0.45475922063009017,
          0.4675846458575422,
          0.5007107273954137,
          0.5109996044440999,
          0.471623407264633,
          0.48242870843970503,
          0.4822451553655762,
          0.488043544548718,
          0.4813341404074626
         ],
         "yaxis": "y2"
        },
        {
         "hovertemplate": "variable=features_13_leaf_7<br>Trees=%{x}<br>value=%{y}<extra></extra>",
         "legendgroup": "features_13_leaf_7",
         "line": {
          "color": "#FFA15A",
          "dash": "solid"
         },
         "marker": {
          "symbol": "circle"
         },
         "mode": "lines",
         "name": "features_13_leaf_7",
         "orientation": "v",
         "showlegend": true,
         "type": "scatter",
         "x": [
          10,
          11,
          12,
          13,
          14,
          15,
          16,
          17,
          18,
          19,
          20
         ],
         "xaxis": "x2",
         "y": [
          0.5746007322417405,
          0.5829103454180042,
          0.5919994848695628,
          0.5934708750257235,
          0.5973875188250826,
          0.5968126353354244,
          0.5804750346419045,
          0.5922237917933793,
          0.5844163572837497,
          0.5848614447397765,
          0.5746617863427055
         ],
         "yaxis": "y2"
        },
        {
         "hovertemplate": "variable=features_1_leaf_9<br>Trees=%{x}<br>value=%{y}<extra></extra>",
         "legendgroup": "features_1_leaf_9",
         "line": {
          "color": "#636efa",
          "dash": "solid"
         },
         "marker": {
          "symbol": "circle"
         },
         "mode": "lines",
         "name": "features_1_leaf_9",
         "orientation": "v",
         "showlegend": true,
         "type": "scatter",
         "x": [
          10,
          11,
          12,
          13,
          14,
          15,
          16,
          17,
          18,
          19,
          20
         ],
         "xaxis": "x3",
         "y": [
          -0.2222252606229807,
          -0.2284574900455297,
          -0.23408246634114055,
          -0.13247537520012181,
          -0.15439136552585406,
          -0.10721238255026506,
          -0.11749056672985417,
          -0.08866373496864179,
          -0.10261821156628806,
          -0.01463285195813826,
          -0.02609329757021921
         ],
         "yaxis": "y3"
        },
        {
         "hovertemplate": "variable=features_4_leaf_9<br>Trees=%{x}<br>value=%{y}<extra></extra>",
         "legendgroup": "features_4_leaf_9",
         "line": {
          "color": "#EF553B",
          "dash": "solid"
         },
         "marker": {
          "symbol": "circle"
         },
         "mode": "lines",
         "name": "features_4_leaf_9",
         "orientation": "v",
         "showlegend": true,
         "type": "scatter",
         "x": [
          10,
          11,
          12,
          13,
          14,
          15,
          16,
          17,
          18,
          19,
          20
         ],
         "xaxis": "x3",
         "y": [
          0.250319396075074,
          0.23702905131558474,
          0.22352705401866527,
          0.23429263079502438,
          0.21095270814994477,
          0.20628221619574155,
          0.19575485891969163,
          0.1806007932146232,
          0.17120811605153344,
          0.22473800946820027,
          0.24189331015525334
         ],
         "yaxis": "y3"
        },
        {
         "hovertemplate": "variable=features_7_leaf_9<br>Trees=%{x}<br>value=%{y}<extra></extra>",
         "legendgroup": "features_7_leaf_9",
         "line": {
          "color": "#00cc96",
          "dash": "solid"
         },
         "marker": {
          "symbol": "circle"
         },
         "mode": "lines",
         "name": "features_7_leaf_9",
         "orientation": "v",
         "showlegend": true,
         "type": "scatter",
         "x": [
          10,
          11,
          12,
          13,
          14,
          15,
          16,
          17,
          18,
          19,
          20
         ],
         "xaxis": "x3",
         "y": [
          0.39658618997437206,
          0.36755273961191237,
          0.3227295285814833,
          0.33417680788636744,
          0.3785160361495442,
          0.4023611471462997,
          0.4008696953795459,
          0.3878390044128496,
          0.39067554213546085,
          0.42632805762279186,
          0.4331537533950963
         ],
         "yaxis": "y3"
        },
        {
         "hovertemplate": "variable=features_10_leaf_9<br>Trees=%{x}<br>value=%{y}<extra></extra>",
         "legendgroup": "features_10_leaf_9",
         "line": {
          "color": "#ab63fa",
          "dash": "solid"
         },
         "marker": {
          "symbol": "circle"
         },
         "mode": "lines",
         "name": "features_10_leaf_9",
         "orientation": "v",
         "showlegend": true,
         "type": "scatter",
         "x": [
          10,
          11,
          12,
          13,
          14,
          15,
          16,
          17,
          18,
          19,
          20
         ],
         "xaxis": "x3",
         "y": [
          0.46700383062419404,
          0.4427643053841299,
          0.3911168262346131,
          0.433181791846727,
          0.4643296160425444,
          0.4767243005980871,
          0.4382280542639225,
          0.4597756079997666,
          0.4496488598763442,
          0.4583382986425237,
          0.4599983039277965
         ],
         "yaxis": "y3"
        },
        {
         "hovertemplate": "variable=features_13_leaf_9<br>Trees=%{x}<br>value=%{y}<extra></extra>",
         "legendgroup": "features_13_leaf_9",
         "line": {
          "color": "#FFA15A",
          "dash": "solid"
         },
         "marker": {
          "symbol": "circle"
         },
         "mode": "lines",
         "name": "features_13_leaf_9",
         "orientation": "v",
         "showlegend": true,
         "type": "scatter",
         "x": [
          10,
          11,
          12,
          13,
          14,
          15,
          16,
          17,
          18,
          19,
          20
         ],
         "xaxis": "x3",
         "y": [
          0.5410216697003669,
          0.5235320225423234,
          0.4919386446766307,
          0.4941540950087349,
          0.5085291155132756,
          0.5204892343827212,
          0.49476147942460863,
          0.513665744856069,
          0.5092054851422346,
          0.5203927771307556,
          0.5216021980753042
         ],
         "yaxis": "y3"
        },
        {
         "hovertemplate": "variable=features_1_leaf_11<br>Trees=%{x}<br>value=%{y}<extra></extra>",
         "legendgroup": "features_1_leaf_11",
         "line": {
          "color": "#636efa",
          "dash": "solid"
         },
         "marker": {
          "symbol": "circle"
         },
         "mode": "lines",
         "name": "features_1_leaf_11",
         "orientation": "v",
         "showlegend": true,
         "type": "scatter",
         "x": [
          10,
          11,
          12,
          13,
          14,
          15,
          16,
          17,
          18,
          19,
          20
         ],
         "xaxis": "x4",
         "y": [
          -0.25762198076791876,
          -0.26551357783407337,
          -0.2518861961614527,
          -0.1411188579130327,
          -0.16529856840387688,
          -0.10955099419247145,
          -0.12416968193981641,
          -0.09478751208927656,
          -0.10889890155554109,
          -0.042740897591743855,
          -0.05465891018890108
         ],
         "yaxis": "y4"
        },
        {
         "hovertemplate": "variable=features_4_leaf_11<br>Trees=%{x}<br>value=%{y}<extra></extra>",
         "legendgroup": "features_4_leaf_11",
         "line": {
          "color": "#EF553B",
          "dash": "solid"
         },
         "marker": {
          "symbol": "circle"
         },
         "mode": "lines",
         "name": "features_4_leaf_11",
         "orientation": "v",
         "showlegend": true,
         "type": "scatter",
         "x": [
          10,
          11,
          12,
          13,
          14,
          15,
          16,
          17,
          18,
          19,
          20
         ],
         "xaxis": "x4",
         "y": [
          0.23651221071452425,
          0.22242731015766043,
          0.21366448847447908,
          0.23880491953690514,
          0.21520628052657145,
          0.215419685232572,
          0.19280638915883377,
          0.17856886687941892,
          0.16069365622757537,
          0.188347068979333,
          0.21062199765825929
         ],
         "yaxis": "y4"
        },
        {
         "hovertemplate": "variable=features_7_leaf_11<br>Trees=%{x}<br>value=%{y}<extra></extra>",
         "legendgroup": "features_7_leaf_11",
         "line": {
          "color": "#00cc96",
          "dash": "solid"
         },
         "marker": {
          "symbol": "circle"
         },
         "mode": "lines",
         "name": "features_7_leaf_11",
         "orientation": "v",
         "showlegend": true,
         "type": "scatter",
         "x": [
          10,
          11,
          12,
          13,
          14,
          15,
          16,
          17,
          18,
          19,
          20
         ],
         "xaxis": "x4",
         "y": [
          0.36804498992271295,
          0.35521345558765904,
          0.32476356922283045,
          0.3431687848059199,
          0.38319246715187444,
          0.39919074845660957,
          0.4027580616753064,
          0.3790057642851103,
          0.3721034882384685,
          0.3796529948007665,
          0.38189345678793646
         ],
         "yaxis": "y4"
        },
        {
         "hovertemplate": "variable=features_10_leaf_11<br>Trees=%{x}<br>value=%{y}<extra></extra>",
         "legendgroup": "features_10_leaf_11",
         "line": {
          "color": "#ab63fa",
          "dash": "solid"
         },
         "marker": {
          "symbol": "circle"
         },
         "mode": "lines",
         "name": "features_10_leaf_11",
         "orientation": "v",
         "showlegend": true,
         "type": "scatter",
         "x": [
          10,
          11,
          12,
          13,
          14,
          15,
          16,
          17,
          18,
          19,
          20
         ],
         "xaxis": "x4",
         "y": [
          0.4211427337422896,
          0.4043563287262109,
          0.3582617392551974,
          0.3840730244862266,
          0.41159376030654027,
          0.4154524269631512,
          0.3806995554833068,
          0.3949576351190253,
          0.3969957838051193,
          0.3907429582881855,
          0.40120027584059476
         ],
         "yaxis": "y4"
        },
        {
         "hovertemplate": "variable=features_13_leaf_11<br>Trees=%{x}<br>value=%{y}<extra></extra>",
         "legendgroup": "features_13_leaf_11",
         "line": {
          "color": "#FFA15A",
          "dash": "solid"
         },
         "marker": {
          "symbol": "circle"
         },
         "mode": "lines",
         "name": "features_13_leaf_11",
         "orientation": "v",
         "showlegend": true,
         "type": "scatter",
         "x": [
          10,
          11,
          12,
          13,
          14,
          15,
          16,
          17,
          18,
          19,
          20
         ],
         "xaxis": "x4",
         "y": [
          0.46914275244930315,
          0.45592044970325285,
          0.42247708814329776,
          0.4334050154075387,
          0.45838937983657785,
          0.46370901980892976,
          0.43421999386673066,
          0.43901673341288666,
          0.44052155546299065,
          0.44196220853754786,
          0.4513887744492967
         ],
         "yaxis": "y4"
        },
        {
         "hovertemplate": "variable=features_1_leaf_13<br>Trees=%{x}<br>value=%{y}<extra></extra>",
         "legendgroup": "features_1_leaf_13",
         "line": {
          "color": "#636efa",
          "dash": "solid"
         },
         "marker": {
          "symbol": "circle"
         },
         "mode": "lines",
         "name": "features_1_leaf_13",
         "orientation": "v",
         "showlegend": true,
         "type": "scatter",
         "x": [
          10,
          11,
          12,
          13,
          14,
          15,
          16,
          17,
          18,
          19,
          20
         ],
         "xaxis": "x5",
         "y": [
          -0.2163528908843376,
          -0.22165690178742073,
          -0.21231075551513698,
          -0.11541097053229618,
          -0.13409240429154365,
          -0.07574395293636493,
          -0.09345403659358914,
          -0.06077957487906893,
          -0.07657301362413475,
          -0.021266930198917934,
          -0.02761169633701427
         ],
         "yaxis": "y5"
        },
        {
         "hovertemplate": "variable=features_4_leaf_13<br>Trees=%{x}<br>value=%{y}<extra></extra>",
         "legendgroup": "features_4_leaf_13",
         "line": {
          "color": "#EF553B",
          "dash": "solid"
         },
         "marker": {
          "symbol": "circle"
         },
         "mode": "lines",
         "name": "features_4_leaf_13",
         "orientation": "v",
         "showlegend": true,
         "type": "scatter",
         "x": [
          10,
          11,
          12,
          13,
          14,
          15,
          16,
          17,
          18,
          19,
          20
         ],
         "xaxis": "x5",
         "y": [
          0.11622970454994044,
          0.11704241085170826,
          0.12563484696530777,
          0.14218564132528272,
          0.14045286520014527,
          0.13452584808331697,
          0.12285343719813802,
          0.11106888619016449,
          0.09800393520899284,
          0.12167488364058983,
          0.13412180755623831
         ],
         "yaxis": "y5"
        },
        {
         "hovertemplate": "variable=features_7_leaf_13<br>Trees=%{x}<br>value=%{y}<extra></extra>",
         "legendgroup": "features_7_leaf_13",
         "line": {
          "color": "#00cc96",
          "dash": "solid"
         },
         "marker": {
          "symbol": "circle"
         },
         "mode": "lines",
         "name": "features_7_leaf_13",
         "orientation": "v",
         "showlegend": true,
         "type": "scatter",
         "x": [
          10,
          11,
          12,
          13,
          14,
          15,
          16,
          17,
          18,
          19,
          20
         ],
         "xaxis": "x5",
         "y": [
          0.16581619153678578,
          0.19162676391689684,
          0.19100194615514665,
          0.19231658500224597,
          0.24641949801730142,
          0.2885890083050341,
          0.2973398575125255,
          0.27924886145617683,
          0.2713079284006326,
          0.27033100057180237,
          0.26121519229157786
         ],
         "yaxis": "y5"
        },
        {
         "hovertemplate": "variable=features_10_leaf_13<br>Trees=%{x}<br>value=%{y}<extra></extra>",
         "legendgroup": "features_10_leaf_13",
         "line": {
          "color": "#ab63fa",
          "dash": "solid"
         },
         "marker": {
          "symbol": "circle"
         },
         "mode": "lines",
         "name": "features_10_leaf_13",
         "orientation": "v",
         "showlegend": true,
         "type": "scatter",
         "x": [
          10,
          11,
          12,
          13,
          14,
          15,
          16,
          17,
          18,
          19,
          20
         ],
         "xaxis": "x5",
         "y": [
          0.13953294746380807,
          0.15125001323226023,
          0.15105917473543706,
          0.20051451634899106,
          0.24330787603634557,
          0.2765155154396814,
          0.27665615593800663,
          0.26409101684733094,
          0.26351037907374647,
          0.255510592253623,
          0.2402921785998416
         ],
         "yaxis": "y5"
        },
        {
         "hovertemplate": "variable=features_13_leaf_13<br>Trees=%{x}<br>value=%{y}<extra></extra>",
         "legendgroup": "features_13_leaf_13",
         "line": {
          "color": "#FFA15A",
          "dash": "solid"
         },
         "marker": {
          "symbol": "circle"
         },
         "mode": "lines",
         "name": "features_13_leaf_13",
         "orientation": "v",
         "showlegend": true,
         "type": "scatter",
         "x": [
          10,
          11,
          12,
          13,
          14,
          15,
          16,
          17,
          18,
          19,
          20
         ],
         "xaxis": "x5",
         "y": [
          0.1355606408667426,
          0.11483953208549362,
          0.08993314006941149,
          0.14418352370294332,
          0.18867682453119422,
          0.22678266425797172,
          0.24975957833953863,
          0.22956892758904193,
          0.25247136371399514,
          0.23645135001684675,
          0.21559059474366543
         ],
         "yaxis": "y5"
        },
        {
         "hovertemplate": "variable=features_1_leaf_15<br>Trees=%{x}<br>value=%{y}<extra></extra>",
         "legendgroup": "features_1_leaf_15",
         "line": {
          "color": "#636efa",
          "dash": "solid"
         },
         "marker": {
          "symbol": "circle"
         },
         "mode": "lines",
         "name": "features_1_leaf_15",
         "orientation": "v",
         "showlegend": true,
         "type": "scatter",
         "x": [
          10,
          11,
          12,
          13,
          14,
          15,
          16,
          17,
          18,
          19,
          20
         ],
         "xaxis": "x6",
         "y": [
          -0.26143697903046015,
          -0.2673588366196964,
          -0.2728695432669171,
          -0.18306860005559006,
          -0.19440984922065346,
          -0.13360342829781097,
          -0.14962668072685453,
          -0.12166931077138346,
          -0.13501372093901975,
          -0.07693894655961632,
          -0.08288123830950286
         ],
         "yaxis": "y6"
        },
        {
         "hovertemplate": "variable=features_4_leaf_15<br>Trees=%{x}<br>value=%{y}<extra></extra>",
         "legendgroup": "features_4_leaf_15",
         "line": {
          "color": "#EF553B",
          "dash": "solid"
         },
         "marker": {
          "symbol": "circle"
         },
         "mode": "lines",
         "name": "features_4_leaf_15",
         "orientation": "v",
         "showlegend": true,
         "type": "scatter",
         "x": [
          10,
          11,
          12,
          13,
          14,
          15,
          16,
          17,
          18,
          19,
          20
         ],
         "xaxis": "x6",
         "y": [
          0.0012758783387257998,
          0.015625591919915083,
          0.015740529979341722,
          0.045360048964601794,
          0.03435595922684738,
          0.04213439250380415,
          0.040352410979532814,
          0.03315067969020202,
          0.02485681720945545,
          0.055832345359683934,
          0.08673267233606205
         ],
         "yaxis": "y6"
        },
        {
         "hovertemplate": "variable=features_7_leaf_15<br>Trees=%{x}<br>value=%{y}<extra></extra>",
         "legendgroup": "features_7_leaf_15",
         "line": {
          "color": "#00cc96",
          "dash": "solid"
         },
         "marker": {
          "symbol": "circle"
         },
         "mode": "lines",
         "name": "features_7_leaf_15",
         "orientation": "v",
         "showlegend": true,
         "type": "scatter",
         "x": [
          10,
          11,
          12,
          13,
          14,
          15,
          16,
          17,
          18,
          19,
          20
         ],
         "xaxis": "x6",
         "y": [
          0.16008185614613926,
          0.15995593676555292,
          0.14257412549830836,
          0.1530252882764805,
          0.15827432247564596,
          0.1866761378116864,
          0.1879101569189476,
          0.1935346209948904,
          0.18223795429553696,
          0.18749825735451225,
          0.20267547551512877
         ],
         "yaxis": "y6"
        },
        {
         "hovertemplate": "variable=features_10_leaf_15<br>Trees=%{x}<br>value=%{y}<extra></extra>",
         "legendgroup": "features_10_leaf_15",
         "line": {
          "color": "#ab63fa",
          "dash": "solid"
         },
         "marker": {
          "symbol": "circle"
         },
         "mode": "lines",
         "name": "features_10_leaf_15",
         "orientation": "v",
         "showlegend": true,
         "type": "scatter",
         "x": [
          10,
          11,
          12,
          13,
          14,
          15,
          16,
          17,
          18,
          19,
          20
         ],
         "xaxis": "x6",
         "y": [
          0.15114180609382696,
          0.15716703316659736,
          0.12693912424786308,
          0.13148539980764987,
          0.1300371583696259,
          0.15318019802040084,
          0.14370595159045246,
          0.1429286536676105,
          0.14103925320937352,
          0.1373377094986333,
          0.1346228967380433
         ],
         "yaxis": "y6"
        },
        {
         "hovertemplate": "variable=features_13_leaf_15<br>Trees=%{x}<br>value=%{y}<extra></extra>",
         "legendgroup": "features_13_leaf_15",
         "line": {
          "color": "#FFA15A",
          "dash": "solid"
         },
         "marker": {
          "symbol": "circle"
         },
         "mode": "lines",
         "name": "features_13_leaf_15",
         "orientation": "v",
         "showlegend": true,
         "type": "scatter",
         "x": [
          10,
          11,
          12,
          13,
          14,
          15,
          16,
          17,
          18,
          19,
          20
         ],
         "xaxis": "x6",
         "y": [
          0.16224008985024835,
          0.16649744863996868,
          0.16823238234132382,
          0.16476670869008717,
          0.1566571515109383,
          0.17197502852035368,
          0.16452967248090306,
          0.16054888459430475,
          0.1551067771740709,
          0.14581366343576313,
          0.14052772524164486
         ],
         "yaxis": "y6"
        }
       ],
       "layout": {
        "annotations": [
         {
          "font": {
           "size": 16
          },
          "showarrow": false,
          "text": "min_samples_leaf=5",
          "x": 0.5,
          "xanchor": "center",
          "xref": "paper",
          "y": 0.9999999999999999,
          "yanchor": "bottom",
          "yref": "paper"
         },
         {
          "font": {
           "size": 16
          },
          "showarrow": false,
          "text": "min_samples_leaf=7",
          "x": 0.5,
          "xanchor": "center",
          "xref": "paper",
          "y": 0.8194444444444444,
          "yanchor": "bottom",
          "yref": "paper"
         },
         {
          "font": {
           "size": 16
          },
          "showarrow": false,
          "text": "min_samples_leaf=9",
          "x": 0.5,
          "xanchor": "center",
          "xref": "paper",
          "y": 0.638888888888889,
          "yanchor": "bottom",
          "yref": "paper"
         },
         {
          "font": {
           "size": 16
          },
          "showarrow": false,
          "text": "min_samples_leaf=11",
          "x": 0.5,
          "xanchor": "center",
          "xref": "paper",
          "y": 0.4583333333333333,
          "yanchor": "bottom",
          "yref": "paper"
         },
         {
          "font": {
           "size": 16
          },
          "showarrow": false,
          "text": "min_samples_leaf=13",
          "x": 0.5,
          "xanchor": "center",
          "xref": "paper",
          "y": 0.2777777777777778,
          "yanchor": "bottom",
          "yref": "paper"
         },
         {
          "font": {
           "size": 16
          },
          "showarrow": false,
          "text": "min_samples_leaf=15",
          "x": 0.5,
          "xanchor": "center",
          "xref": "paper",
          "y": 0.09722222222222222,
          "yanchor": "bottom",
          "yref": "paper"
         }
        ],
        "height": 1320,
        "template": {
         "data": {
          "bar": [
           {
            "error_x": {
             "color": "#2a3f5f"
            },
            "error_y": {
             "color": "#2a3f5f"
            },
            "marker": {
             "line": {
              "color": "#E5ECF6",
              "width": 0.5
             },
             "pattern": {
              "fillmode": "overlay",
              "size": 10,
              "solidity": 0.2
             }
            },
            "type": "bar"
           }
          ],
          "barpolar": [
           {
            "marker": {
             "line": {
              "color": "#E5ECF6",
              "width": 0.5
             },
             "pattern": {
              "fillmode": "overlay",
              "size": 10,
              "solidity": 0.2
             }
            },
            "type": "barpolar"
           }
          ],
          "carpet": [
           {
            "aaxis": {
             "endlinecolor": "#2a3f5f",
             "gridcolor": "white",
             "linecolor": "white",
             "minorgridcolor": "white",
             "startlinecolor": "#2a3f5f"
            },
            "baxis": {
             "endlinecolor": "#2a3f5f",
             "gridcolor": "white",
             "linecolor": "white",
             "minorgridcolor": "white",
             "startlinecolor": "#2a3f5f"
            },
            "type": "carpet"
           }
          ],
          "choropleth": [
           {
            "colorbar": {
             "outlinewidth": 0,
             "ticks": ""
            },
            "type": "choropleth"
           }
          ],
          "contour": [
           {
            "colorbar": {
             "outlinewidth": 0,
             "ticks": ""
            },
            "colorscale": [
             [
              0,
              "#0d0887"
             ],
             [
              0.1111111111111111,
              "#46039f"
             ],
             [
              0.2222222222222222,
              "#7201a8"
             ],
             [
              0.3333333333333333,
              "#9c179e"
             ],
             [
              0.4444444444444444,
              "#bd3786"
             ],
             [
              0.5555555555555556,
              "#d8576b"
             ],
             [
              0.6666666666666666,
              "#ed7953"
             ],
             [
              0.7777777777777778,
              "#fb9f3a"
             ],
             [
              0.8888888888888888,
              "#fdca26"
             ],
             [
              1,
              "#f0f921"
             ]
            ],
            "type": "contour"
           }
          ],
          "contourcarpet": [
           {
            "colorbar": {
             "outlinewidth": 0,
             "ticks": ""
            },
            "type": "contourcarpet"
           }
          ],
          "heatmap": [
           {
            "colorbar": {
             "outlinewidth": 0,
             "ticks": ""
            },
            "colorscale": [
             [
              0,
              "#0d0887"
             ],
             [
              0.1111111111111111,
              "#46039f"
             ],
             [
              0.2222222222222222,
              "#7201a8"
             ],
             [
              0.3333333333333333,
              "#9c179e"
             ],
             [
              0.4444444444444444,
              "#bd3786"
             ],
             [
              0.5555555555555556,
              "#d8576b"
             ],
             [
              0.6666666666666666,
              "#ed7953"
             ],
             [
              0.7777777777777778,
              "#fb9f3a"
             ],
             [
              0.8888888888888888,
              "#fdca26"
             ],
             [
              1,
              "#f0f921"
             ]
            ],
            "type": "heatmap"
           }
          ],
          "heatmapgl": [
           {
            "colorbar": {
             "outlinewidth": 0,
             "ticks": ""
            },
            "colorscale": [
             [
              0,
              "#0d0887"
             ],
             [
              0.1111111111111111,
              "#46039f"
             ],
             [
              0.2222222222222222,
              "#7201a8"
             ],
             [
              0.3333333333333333,
              "#9c179e"
             ],
             [
              0.4444444444444444,
              "#bd3786"
             ],
             [
              0.5555555555555556,
              "#d8576b"
             ],
             [
              0.6666666666666666,
              "#ed7953"
             ],
             [
              0.7777777777777778,
              "#fb9f3a"
             ],
             [
              0.8888888888888888,
              "#fdca26"
             ],
             [
              1,
              "#f0f921"
             ]
            ],
            "type": "heatmapgl"
           }
          ],
          "histogram": [
           {
            "marker": {
             "pattern": {
              "fillmode": "overlay",
              "size": 10,
              "solidity": 0.2
             }
            },
            "type": "histogram"
           }
          ],
          "histogram2d": [
           {
            "colorbar": {
             "outlinewidth": 0,
             "ticks": ""
            },
            "colorscale": [
             [
              0,
              "#0d0887"
             ],
             [
              0.1111111111111111,
              "#46039f"
             ],
             [
              0.2222222222222222,
              "#7201a8"
             ],
             [
              0.3333333333333333,
              "#9c179e"
             ],
             [
              0.4444444444444444,
              "#bd3786"
             ],
             [
              0.5555555555555556,
              "#d8576b"
             ],
             [
              0.6666666666666666,
              "#ed7953"
             ],
             [
              0.7777777777777778,
              "#fb9f3a"
             ],
             [
              0.8888888888888888,
              "#fdca26"
             ],
             [
              1,
              "#f0f921"
             ]
            ],
            "type": "histogram2d"
           }
          ],
          "histogram2dcontour": [
           {
            "colorbar": {
             "outlinewidth": 0,
             "ticks": ""
            },
            "colorscale": [
             [
              0,
              "#0d0887"
             ],
             [
              0.1111111111111111,
              "#46039f"
             ],
             [
              0.2222222222222222,
              "#7201a8"
             ],
             [
              0.3333333333333333,
              "#9c179e"
             ],
             [
              0.4444444444444444,
              "#bd3786"
             ],
             [
              0.5555555555555556,
              "#d8576b"
             ],
             [
              0.6666666666666666,
              "#ed7953"
             ],
             [
              0.7777777777777778,
              "#fb9f3a"
             ],
             [
              0.8888888888888888,
              "#fdca26"
             ],
             [
              1,
              "#f0f921"
             ]
            ],
            "type": "histogram2dcontour"
           }
          ],
          "mesh3d": [
           {
            "colorbar": {
             "outlinewidth": 0,
             "ticks": ""
            },
            "type": "mesh3d"
           }
          ],
          "parcoords": [
           {
            "line": {
             "colorbar": {
              "outlinewidth": 0,
              "ticks": ""
             }
            },
            "type": "parcoords"
           }
          ],
          "pie": [
           {
            "automargin": true,
            "type": "pie"
           }
          ],
          "scatter": [
           {
            "fillpattern": {
             "fillmode": "overlay",
             "size": 10,
             "solidity": 0.2
            },
            "type": "scatter"
           }
          ],
          "scatter3d": [
           {
            "line": {
             "colorbar": {
              "outlinewidth": 0,
              "ticks": ""
             }
            },
            "marker": {
             "colorbar": {
              "outlinewidth": 0,
              "ticks": ""
             }
            },
            "type": "scatter3d"
           }
          ],
          "scattercarpet": [
           {
            "marker": {
             "colorbar": {
              "outlinewidth": 0,
              "ticks": ""
             }
            },
            "type": "scattercarpet"
           }
          ],
          "scattergeo": [
           {
            "marker": {
             "colorbar": {
              "outlinewidth": 0,
              "ticks": ""
             }
            },
            "type": "scattergeo"
           }
          ],
          "scattergl": [
           {
            "marker": {
             "colorbar": {
              "outlinewidth": 0,
              "ticks": ""
             }
            },
            "type": "scattergl"
           }
          ],
          "scattermapbox": [
           {
            "marker": {
             "colorbar": {
              "outlinewidth": 0,
              "ticks": ""
             }
            },
            "type": "scattermapbox"
           }
          ],
          "scatterpolar": [
           {
            "marker": {
             "colorbar": {
              "outlinewidth": 0,
              "ticks": ""
             }
            },
            "type": "scatterpolar"
           }
          ],
          "scatterpolargl": [
           {
            "marker": {
             "colorbar": {
              "outlinewidth": 0,
              "ticks": ""
             }
            },
            "type": "scatterpolargl"
           }
          ],
          "scatterternary": [
           {
            "marker": {
             "colorbar": {
              "outlinewidth": 0,
              "ticks": ""
             }
            },
            "type": "scatterternary"
           }
          ],
          "surface": [
           {
            "colorbar": {
             "outlinewidth": 0,
             "ticks": ""
            },
            "colorscale": [
             [
              0,
              "#0d0887"
             ],
             [
              0.1111111111111111,
              "#46039f"
             ],
             [
              0.2222222222222222,
              "#7201a8"
             ],
             [
              0.3333333333333333,
              "#9c179e"
             ],
             [
              0.4444444444444444,
              "#bd3786"
             ],
             [
              0.5555555555555556,
              "#d8576b"
             ],
             [
              0.6666666666666666,
              "#ed7953"
             ],
             [
              0.7777777777777778,
              "#fb9f3a"
             ],
             [
              0.8888888888888888,
              "#fdca26"
             ],
             [
              1,
              "#f0f921"
             ]
            ],
            "type": "surface"
           }
          ],
          "table": [
           {
            "cells": {
             "fill": {
              "color": "#EBF0F8"
             },
             "line": {
              "color": "white"
             }
            },
            "header": {
             "fill": {
              "color": "#C8D4E3"
             },
             "line": {
              "color": "white"
             }
            },
            "type": "table"
           }
          ]
         },
         "layout": {
          "annotationdefaults": {
           "arrowcolor": "#2a3f5f",
           "arrowhead": 0,
           "arrowwidth": 1
          },
          "autotypenumbers": "strict",
          "coloraxis": {
           "colorbar": {
            "outlinewidth": 0,
            "ticks": ""
           }
          },
          "colorscale": {
           "diverging": [
            [
             0,
             "#8e0152"
            ],
            [
             0.1,
             "#c51b7d"
            ],
            [
             0.2,
             "#de77ae"
            ],
            [
             0.3,
             "#f1b6da"
            ],
            [
             0.4,
             "#fde0ef"
            ],
            [
             0.5,
             "#f7f7f7"
            ],
            [
             0.6,
             "#e6f5d0"
            ],
            [
             0.7,
             "#b8e186"
            ],
            [
             0.8,
             "#7fbc41"
            ],
            [
             0.9,
             "#4d9221"
            ],
            [
             1,
             "#276419"
            ]
           ],
           "sequential": [
            [
             0,
             "#0d0887"
            ],
            [
             0.1111111111111111,
             "#46039f"
            ],
            [
             0.2222222222222222,
             "#7201a8"
            ],
            [
             0.3333333333333333,
             "#9c179e"
            ],
            [
             0.4444444444444444,
             "#bd3786"
            ],
            [
             0.5555555555555556,
             "#d8576b"
            ],
            [
             0.6666666666666666,
             "#ed7953"
            ],
            [
             0.7777777777777778,
             "#fb9f3a"
            ],
            [
             0.8888888888888888,
             "#fdca26"
            ],
            [
             1,
             "#f0f921"
            ]
           ],
           "sequentialminus": [
            [
             0,
             "#0d0887"
            ],
            [
             0.1111111111111111,
             "#46039f"
            ],
            [
             0.2222222222222222,
             "#7201a8"
            ],
            [
             0.3333333333333333,
             "#9c179e"
            ],
            [
             0.4444444444444444,
             "#bd3786"
            ],
            [
             0.5555555555555556,
             "#d8576b"
            ],
            [
             0.6666666666666666,
             "#ed7953"
            ],
            [
             0.7777777777777778,
             "#fb9f3a"
            ],
            [
             0.8888888888888888,
             "#fdca26"
            ],
            [
             1,
             "#f0f921"
            ]
           ]
          },
          "colorway": [
           "#636efa",
           "#EF553B",
           "#00cc96",
           "#ab63fa",
           "#FFA15A",
           "#19d3f3",
           "#FF6692",
           "#B6E880",
           "#FF97FF",
           "#FECB52"
          ],
          "font": {
           "color": "#2a3f5f"
          },
          "geo": {
           "bgcolor": "white",
           "lakecolor": "white",
           "landcolor": "#E5ECF6",
           "showlakes": true,
           "showland": true,
           "subunitcolor": "white"
          },
          "hoverlabel": {
           "align": "left"
          },
          "hovermode": "closest",
          "mapbox": {
           "style": "light"
          },
          "paper_bgcolor": "white",
          "plot_bgcolor": "#E5ECF6",
          "polar": {
           "angularaxis": {
            "gridcolor": "white",
            "linecolor": "white",
            "ticks": ""
           },
           "bgcolor": "#E5ECF6",
           "radialaxis": {
            "gridcolor": "white",
            "linecolor": "white",
            "ticks": ""
           }
          },
          "scene": {
           "xaxis": {
            "backgroundcolor": "#E5ECF6",
            "gridcolor": "white",
            "gridwidth": 2,
            "linecolor": "white",
            "showbackground": true,
            "ticks": "",
            "zerolinecolor": "white"
           },
           "yaxis": {
            "backgroundcolor": "#E5ECF6",
            "gridcolor": "white",
            "gridwidth": 2,
            "linecolor": "white",
            "showbackground": true,
            "ticks": "",
            "zerolinecolor": "white"
           },
           "zaxis": {
            "backgroundcolor": "#E5ECF6",
            "gridcolor": "white",
            "gridwidth": 2,
            "linecolor": "white",
            "showbackground": true,
            "ticks": "",
            "zerolinecolor": "white"
           }
          },
          "shapedefaults": {
           "line": {
            "color": "#2a3f5f"
           }
          },
          "ternary": {
           "aaxis": {
            "gridcolor": "white",
            "linecolor": "white",
            "ticks": ""
           },
           "baxis": {
            "gridcolor": "white",
            "linecolor": "white",
            "ticks": ""
           },
           "bgcolor": "#E5ECF6",
           "caxis": {
            "gridcolor": "white",
            "linecolor": "white",
            "ticks": ""
           }
          },
          "title": {
           "x": 0.05
          },
          "xaxis": {
           "automargin": true,
           "gridcolor": "white",
           "linecolor": "white",
           "ticks": "",
           "title": {
            "standoff": 15
           },
           "zerolinecolor": "white",
           "zerolinewidth": 2
          },
          "yaxis": {
           "automargin": true,
           "gridcolor": "white",
           "linecolor": "white",
           "ticks": "",
           "title": {
            "standoff": 15
           },
           "zerolinecolor": "white",
           "zerolinewidth": 2
          }
         }
        },
        "title": {
         "text": "Random Forest Performance"
        },
        "xaxis": {
         "anchor": "y",
         "domain": [
          0,
          1
         ],
         "title": {
          "text": "# Trees"
         }
        },
        "xaxis2": {
         "anchor": "y2",
         "domain": [
          0,
          1
         ],
         "title": {
          "text": "# Trees"
         }
        },
        "xaxis3": {
         "anchor": "y3",
         "domain": [
          0,
          1
         ],
         "title": {
          "text": "# Trees"
         }
        },
        "xaxis4": {
         "anchor": "y4",
         "domain": [
          0,
          1
         ],
         "title": {
          "text": "# Trees"
         }
        },
        "xaxis5": {
         "anchor": "y5",
         "domain": [
          0,
          1
         ],
         "title": {
          "text": "# Trees"
         }
        },
        "xaxis6": {
         "anchor": "y6",
         "domain": [
          0,
          1
         ],
         "title": {
          "text": "# Trees"
         }
        },
        "yaxis": {
         "anchor": "x",
         "domain": [
          0.9027777777777777,
          0.9999999999999999
         ]
        },
        "yaxis2": {
         "anchor": "x2",
         "domain": [
          0.7222222222222222,
          0.8194444444444444
         ]
        },
        "yaxis3": {
         "anchor": "x3",
         "domain": [
          0.5416666666666667,
          0.638888888888889
         ]
        },
        "yaxis4": {
         "anchor": "x4",
         "domain": [
          0.3611111111111111,
          0.4583333333333333
         ]
        },
        "yaxis5": {
         "anchor": "x5",
         "domain": [
          0.18055555555555555,
          0.2777777777777778
         ]
        },
        "yaxis6": {
         "anchor": "x6",
         "domain": [
          0,
          0.09722222222222222
         ]
        }
       }
      },
      "text/html": [
       "<div>                            <div id=\"91418380-0a29-4dba-bcbe-cc42498d4021\" class=\"plotly-graph-div\" style=\"height:1320px; width:100%;\"></div>            <script type=\"text/javascript\">                require([\"plotly\"], function(Plotly) {                    window.PLOTLYENV=window.PLOTLYENV || {};                                    if (document.getElementById(\"91418380-0a29-4dba-bcbe-cc42498d4021\")) {                    Plotly.newPlot(                        \"91418380-0a29-4dba-bcbe-cc42498d4021\",                        [{\"hovertemplate\":\"variable=features_1_leaf_5<br>Trees=%{x}<br>value=%{y}<extra></extra>\",\"legendgroup\":\"features_1_leaf_5\",\"line\":{\"color\":\"#636efa\",\"dash\":\"solid\"},\"marker\":{\"symbol\":\"circle\"},\"mode\":\"lines\",\"name\":\"features_1_leaf_5\",\"orientation\":\"v\",\"showlegend\":true,\"x\":[10,11,12,13,14,15,16,17,18,19,20],\"xaxis\":\"x\",\"y\":[-0.19682650581752353,-0.15115032335823245,-0.16802300236132064,-0.10715127376676933,-0.08760609641376416,-0.004032595980494014,-0.045240315364296714,-0.014905262789814655,-0.031572384126442546,0.05314729493734358,0.024870115863087496],\"yaxis\":\"y\",\"type\":\"scatter\"},{\"hovertemplate\":\"variable=features_4_leaf_5<br>Trees=%{x}<br>value=%{y}<extra></extra>\",\"legendgroup\":\"features_4_leaf_5\",\"line\":{\"color\":\"#EF553B\",\"dash\":\"solid\"},\"marker\":{\"symbol\":\"circle\"},\"mode\":\"lines\",\"name\":\"features_4_leaf_5\",\"orientation\":\"v\",\"showlegend\":true,\"x\":[10,11,12,13,14,15,16,17,18,19,20],\"xaxis\":\"x\",\"y\":[0.3180579947486922,0.33278022911703875,0.31436237916883286,0.298176377372682,0.30294081337314493,0.2934695258146379,0.28985077101013124,0.2897817343441008,0.30692386377083053,0.3412208572220482,0.35278420663946697],\"yaxis\":\"y\",\"type\":\"scatter\"},{\"hovertemplate\":\"variable=features_7_leaf_5<br>Trees=%{x}<br>value=%{y}<extra></extra>\",\"legendgroup\":\"features_7_leaf_5\",\"line\":{\"color\":\"#00cc96\",\"dash\":\"solid\"},\"marker\":{\"symbol\":\"circle\"},\"mode\":\"lines\",\"name\":\"features_7_leaf_5\",\"orientation\":\"v\",\"showlegend\":true,\"x\":[10,11,12,13,14,15,16,17,18,19,20],\"xaxis\":\"x\",\"y\":[0.45251108115086225,0.4148093231032724,0.38653860294338827,0.3764292545762958,0.4003346023530945,0.40505412407346153,0.3980179156806989,0.375178149427744,0.39448025159797684,0.4175136885302961,0.423652005177804],\"yaxis\":\"y\",\"type\":\"scatter\"},{\"hovertemplate\":\"variable=features_10_leaf_5<br>Trees=%{x}<br>value=%{y}<extra></extra>\",\"legendgroup\":\"features_10_leaf_5\",\"line\":{\"color\":\"#ab63fa\",\"dash\":\"solid\"},\"marker\":{\"symbol\":\"circle\"},\"mode\":\"lines\",\"name\":\"features_10_leaf_5\",\"orientation\":\"v\",\"showlegend\":true,\"x\":[10,11,12,13,14,15,16,17,18,19,20],\"xaxis\":\"x\",\"y\":[0.4999857319777246,0.47049213140676854,0.44302702560202095,0.4587957287829488,0.47600998761151114,0.4883126135959869,0.4487732618162717,0.4637438747245737,0.46594020261018276,0.4727296248718945,0.4738028384665064],\"yaxis\":\"y\",\"type\":\"scatter\"},{\"hovertemplate\":\"variable=features_13_leaf_5<br>Trees=%{x}<br>value=%{y}<extra></extra>\",\"legendgroup\":\"features_13_leaf_5\",\"line\":{\"color\":\"#FFA15A\",\"dash\":\"solid\"},\"marker\":{\"symbol\":\"circle\"},\"mode\":\"lines\",\"name\":\"features_13_leaf_5\",\"orientation\":\"v\",\"showlegend\":true,\"x\":[10,11,12,13,14,15,16,17,18,19,20],\"xaxis\":\"x\",\"y\":[0.5233758811893302,0.5096171273840612,0.5287259838553442,0.5397104017160372,0.5358044401734219,0.5458941085413954,0.5457107235753709,0.5363355232850683,0.5278849008603528,0.5220652726278014,0.5106030705319838],\"yaxis\":\"y\",\"type\":\"scatter\"},{\"hovertemplate\":\"variable=features_1_leaf_7<br>Trees=%{x}<br>value=%{y}<extra></extra>\",\"legendgroup\":\"features_1_leaf_7\",\"line\":{\"color\":\"#636efa\",\"dash\":\"solid\"},\"marker\":{\"symbol\":\"circle\"},\"mode\":\"lines\",\"name\":\"features_1_leaf_7\",\"orientation\":\"v\",\"showlegend\":true,\"x\":[10,11,12,13,14,15,16,17,18,19,20],\"xaxis\":\"x2\",\"y\":[-0.060042751176790185,-0.059401131852137065,-0.08109241716897113,-0.006802108560326059,0.007202728763104638,0.04016571429104117,-0.009697556461908641,0.010381339446312875,-0.005562922575327001,0.07328210045274433,0.04560958407409095],\"yaxis\":\"y2\",\"type\":\"scatter\"},{\"hovertemplate\":\"variable=features_4_leaf_7<br>Trees=%{x}<br>value=%{y}<extra></extra>\",\"legendgroup\":\"features_4_leaf_7\",\"line\":{\"color\":\"#EF553B\",\"dash\":\"solid\"},\"marker\":{\"symbol\":\"circle\"},\"mode\":\"lines\",\"name\":\"features_4_leaf_7\",\"orientation\":\"v\",\"showlegend\":true,\"x\":[10,11,12,13,14,15,16,17,18,19,20],\"xaxis\":\"x2\",\"y\":[0.30466356788508253,0.2913040693208239,0.2934976934920027,0.3052681347582554,0.2944179137609998,0.28010963493023544,0.2695037836567832,0.2577347957217822,0.2669812626833262,0.31130346779278983,0.32197256308607297],\"yaxis\":\"y2\",\"type\":\"scatter\"},{\"hovertemplate\":\"variable=features_7_leaf_7<br>Trees=%{x}<br>value=%{y}<extra></extra>\",\"legendgroup\":\"features_7_leaf_7\",\"line\":{\"color\":\"#00cc96\",\"dash\":\"solid\"},\"marker\":{\"symbol\":\"circle\"},\"mode\":\"lines\",\"name\":\"features_7_leaf_7\",\"orientation\":\"v\",\"showlegend\":true,\"x\":[10,11,12,13,14,15,16,17,18,19,20],\"xaxis\":\"x2\",\"y\":[0.4560700962356757,0.4002166385994168,0.36850917757603585,0.3808682773419769,0.4161809764907695,0.4331625991598854,0.4330517005364011,0.42054289107615606,0.4244878739970246,0.454756073329619,0.4613025928484369],\"yaxis\":\"y2\",\"type\":\"scatter\"},{\"hovertemplate\":\"variable=features_10_leaf_7<br>Trees=%{x}<br>value=%{y}<extra></extra>\",\"legendgroup\":\"features_10_leaf_7\",\"line\":{\"color\":\"#ab63fa\",\"dash\":\"solid\"},\"marker\":{\"symbol\":\"circle\"},\"mode\":\"lines\",\"name\":\"features_10_leaf_7\",\"orientation\":\"v\",\"showlegend\":true,\"x\":[10,11,12,13,14,15,16,17,18,19,20],\"xaxis\":\"x2\",\"y\":[0.5036378381586658,0.48398908958198594,0.45475922063009017,0.4675846458575422,0.5007107273954137,0.5109996044440999,0.471623407264633,0.48242870843970503,0.4822451553655762,0.488043544548718,0.4813341404074626],\"yaxis\":\"y2\",\"type\":\"scatter\"},{\"hovertemplate\":\"variable=features_13_leaf_7<br>Trees=%{x}<br>value=%{y}<extra></extra>\",\"legendgroup\":\"features_13_leaf_7\",\"line\":{\"color\":\"#FFA15A\",\"dash\":\"solid\"},\"marker\":{\"symbol\":\"circle\"},\"mode\":\"lines\",\"name\":\"features_13_leaf_7\",\"orientation\":\"v\",\"showlegend\":true,\"x\":[10,11,12,13,14,15,16,17,18,19,20],\"xaxis\":\"x2\",\"y\":[0.5746007322417405,0.5829103454180042,0.5919994848695628,0.5934708750257235,0.5973875188250826,0.5968126353354244,0.5804750346419045,0.5922237917933793,0.5844163572837497,0.5848614447397765,0.5746617863427055],\"yaxis\":\"y2\",\"type\":\"scatter\"},{\"hovertemplate\":\"variable=features_1_leaf_9<br>Trees=%{x}<br>value=%{y}<extra></extra>\",\"legendgroup\":\"features_1_leaf_9\",\"line\":{\"color\":\"#636efa\",\"dash\":\"solid\"},\"marker\":{\"symbol\":\"circle\"},\"mode\":\"lines\",\"name\":\"features_1_leaf_9\",\"orientation\":\"v\",\"showlegend\":true,\"x\":[10,11,12,13,14,15,16,17,18,19,20],\"xaxis\":\"x3\",\"y\":[-0.2222252606229807,-0.2284574900455297,-0.23408246634114055,-0.13247537520012181,-0.15439136552585406,-0.10721238255026506,-0.11749056672985417,-0.08866373496864179,-0.10261821156628806,-0.01463285195813826,-0.02609329757021921],\"yaxis\":\"y3\",\"type\":\"scatter\"},{\"hovertemplate\":\"variable=features_4_leaf_9<br>Trees=%{x}<br>value=%{y}<extra></extra>\",\"legendgroup\":\"features_4_leaf_9\",\"line\":{\"color\":\"#EF553B\",\"dash\":\"solid\"},\"marker\":{\"symbol\":\"circle\"},\"mode\":\"lines\",\"name\":\"features_4_leaf_9\",\"orientation\":\"v\",\"showlegend\":true,\"x\":[10,11,12,13,14,15,16,17,18,19,20],\"xaxis\":\"x3\",\"y\":[0.250319396075074,0.23702905131558474,0.22352705401866527,0.23429263079502438,0.21095270814994477,0.20628221619574155,0.19575485891969163,0.1806007932146232,0.17120811605153344,0.22473800946820027,0.24189331015525334],\"yaxis\":\"y3\",\"type\":\"scatter\"},{\"hovertemplate\":\"variable=features_7_leaf_9<br>Trees=%{x}<br>value=%{y}<extra></extra>\",\"legendgroup\":\"features_7_leaf_9\",\"line\":{\"color\":\"#00cc96\",\"dash\":\"solid\"},\"marker\":{\"symbol\":\"circle\"},\"mode\":\"lines\",\"name\":\"features_7_leaf_9\",\"orientation\":\"v\",\"showlegend\":true,\"x\":[10,11,12,13,14,15,16,17,18,19,20],\"xaxis\":\"x3\",\"y\":[0.39658618997437206,0.36755273961191237,0.3227295285814833,0.33417680788636744,0.3785160361495442,0.4023611471462997,0.4008696953795459,0.3878390044128496,0.39067554213546085,0.42632805762279186,0.4331537533950963],\"yaxis\":\"y3\",\"type\":\"scatter\"},{\"hovertemplate\":\"variable=features_10_leaf_9<br>Trees=%{x}<br>value=%{y}<extra></extra>\",\"legendgroup\":\"features_10_leaf_9\",\"line\":{\"color\":\"#ab63fa\",\"dash\":\"solid\"},\"marker\":{\"symbol\":\"circle\"},\"mode\":\"lines\",\"name\":\"features_10_leaf_9\",\"orientation\":\"v\",\"showlegend\":true,\"x\":[10,11,12,13,14,15,16,17,18,19,20],\"xaxis\":\"x3\",\"y\":[0.46700383062419404,0.4427643053841299,0.3911168262346131,0.433181791846727,0.4643296160425444,0.4767243005980871,0.4382280542639225,0.4597756079997666,0.4496488598763442,0.4583382986425237,0.4599983039277965],\"yaxis\":\"y3\",\"type\":\"scatter\"},{\"hovertemplate\":\"variable=features_13_leaf_9<br>Trees=%{x}<br>value=%{y}<extra></extra>\",\"legendgroup\":\"features_13_leaf_9\",\"line\":{\"color\":\"#FFA15A\",\"dash\":\"solid\"},\"marker\":{\"symbol\":\"circle\"},\"mode\":\"lines\",\"name\":\"features_13_leaf_9\",\"orientation\":\"v\",\"showlegend\":true,\"x\":[10,11,12,13,14,15,16,17,18,19,20],\"xaxis\":\"x3\",\"y\":[0.5410216697003669,0.5235320225423234,0.4919386446766307,0.4941540950087349,0.5085291155132756,0.5204892343827212,0.49476147942460863,0.513665744856069,0.5092054851422346,0.5203927771307556,0.5216021980753042],\"yaxis\":\"y3\",\"type\":\"scatter\"},{\"hovertemplate\":\"variable=features_1_leaf_11<br>Trees=%{x}<br>value=%{y}<extra></extra>\",\"legendgroup\":\"features_1_leaf_11\",\"line\":{\"color\":\"#636efa\",\"dash\":\"solid\"},\"marker\":{\"symbol\":\"circle\"},\"mode\":\"lines\",\"name\":\"features_1_leaf_11\",\"orientation\":\"v\",\"showlegend\":true,\"x\":[10,11,12,13,14,15,16,17,18,19,20],\"xaxis\":\"x4\",\"y\":[-0.25762198076791876,-0.26551357783407337,-0.2518861961614527,-0.1411188579130327,-0.16529856840387688,-0.10955099419247145,-0.12416968193981641,-0.09478751208927656,-0.10889890155554109,-0.042740897591743855,-0.05465891018890108],\"yaxis\":\"y4\",\"type\":\"scatter\"},{\"hovertemplate\":\"variable=features_4_leaf_11<br>Trees=%{x}<br>value=%{y}<extra></extra>\",\"legendgroup\":\"features_4_leaf_11\",\"line\":{\"color\":\"#EF553B\",\"dash\":\"solid\"},\"marker\":{\"symbol\":\"circle\"},\"mode\":\"lines\",\"name\":\"features_4_leaf_11\",\"orientation\":\"v\",\"showlegend\":true,\"x\":[10,11,12,13,14,15,16,17,18,19,20],\"xaxis\":\"x4\",\"y\":[0.23651221071452425,0.22242731015766043,0.21366448847447908,0.23880491953690514,0.21520628052657145,0.215419685232572,0.19280638915883377,0.17856886687941892,0.16069365622757537,0.188347068979333,0.21062199765825929],\"yaxis\":\"y4\",\"type\":\"scatter\"},{\"hovertemplate\":\"variable=features_7_leaf_11<br>Trees=%{x}<br>value=%{y}<extra></extra>\",\"legendgroup\":\"features_7_leaf_11\",\"line\":{\"color\":\"#00cc96\",\"dash\":\"solid\"},\"marker\":{\"symbol\":\"circle\"},\"mode\":\"lines\",\"name\":\"features_7_leaf_11\",\"orientation\":\"v\",\"showlegend\":true,\"x\":[10,11,12,13,14,15,16,17,18,19,20],\"xaxis\":\"x4\",\"y\":[0.36804498992271295,0.35521345558765904,0.32476356922283045,0.3431687848059199,0.38319246715187444,0.39919074845660957,0.4027580616753064,0.3790057642851103,0.3721034882384685,0.3796529948007665,0.38189345678793646],\"yaxis\":\"y4\",\"type\":\"scatter\"},{\"hovertemplate\":\"variable=features_10_leaf_11<br>Trees=%{x}<br>value=%{y}<extra></extra>\",\"legendgroup\":\"features_10_leaf_11\",\"line\":{\"color\":\"#ab63fa\",\"dash\":\"solid\"},\"marker\":{\"symbol\":\"circle\"},\"mode\":\"lines\",\"name\":\"features_10_leaf_11\",\"orientation\":\"v\",\"showlegend\":true,\"x\":[10,11,12,13,14,15,16,17,18,19,20],\"xaxis\":\"x4\",\"y\":[0.4211427337422896,0.4043563287262109,0.3582617392551974,0.3840730244862266,0.41159376030654027,0.4154524269631512,0.3806995554833068,0.3949576351190253,0.3969957838051193,0.3907429582881855,0.40120027584059476],\"yaxis\":\"y4\",\"type\":\"scatter\"},{\"hovertemplate\":\"variable=features_13_leaf_11<br>Trees=%{x}<br>value=%{y}<extra></extra>\",\"legendgroup\":\"features_13_leaf_11\",\"line\":{\"color\":\"#FFA15A\",\"dash\":\"solid\"},\"marker\":{\"symbol\":\"circle\"},\"mode\":\"lines\",\"name\":\"features_13_leaf_11\",\"orientation\":\"v\",\"showlegend\":true,\"x\":[10,11,12,13,14,15,16,17,18,19,20],\"xaxis\":\"x4\",\"y\":[0.46914275244930315,0.45592044970325285,0.42247708814329776,0.4334050154075387,0.45838937983657785,0.46370901980892976,0.43421999386673066,0.43901673341288666,0.44052155546299065,0.44196220853754786,0.4513887744492967],\"yaxis\":\"y4\",\"type\":\"scatter\"},{\"hovertemplate\":\"variable=features_1_leaf_13<br>Trees=%{x}<br>value=%{y}<extra></extra>\",\"legendgroup\":\"features_1_leaf_13\",\"line\":{\"color\":\"#636efa\",\"dash\":\"solid\"},\"marker\":{\"symbol\":\"circle\"},\"mode\":\"lines\",\"name\":\"features_1_leaf_13\",\"orientation\":\"v\",\"showlegend\":true,\"x\":[10,11,12,13,14,15,16,17,18,19,20],\"xaxis\":\"x5\",\"y\":[-0.2163528908843376,-0.22165690178742073,-0.21231075551513698,-0.11541097053229618,-0.13409240429154365,-0.07574395293636493,-0.09345403659358914,-0.06077957487906893,-0.07657301362413475,-0.021266930198917934,-0.02761169633701427],\"yaxis\":\"y5\",\"type\":\"scatter\"},{\"hovertemplate\":\"variable=features_4_leaf_13<br>Trees=%{x}<br>value=%{y}<extra></extra>\",\"legendgroup\":\"features_4_leaf_13\",\"line\":{\"color\":\"#EF553B\",\"dash\":\"solid\"},\"marker\":{\"symbol\":\"circle\"},\"mode\":\"lines\",\"name\":\"features_4_leaf_13\",\"orientation\":\"v\",\"showlegend\":true,\"x\":[10,11,12,13,14,15,16,17,18,19,20],\"xaxis\":\"x5\",\"y\":[0.11622970454994044,0.11704241085170826,0.12563484696530777,0.14218564132528272,0.14045286520014527,0.13452584808331697,0.12285343719813802,0.11106888619016449,0.09800393520899284,0.12167488364058983,0.13412180755623831],\"yaxis\":\"y5\",\"type\":\"scatter\"},{\"hovertemplate\":\"variable=features_7_leaf_13<br>Trees=%{x}<br>value=%{y}<extra></extra>\",\"legendgroup\":\"features_7_leaf_13\",\"line\":{\"color\":\"#00cc96\",\"dash\":\"solid\"},\"marker\":{\"symbol\":\"circle\"},\"mode\":\"lines\",\"name\":\"features_7_leaf_13\",\"orientation\":\"v\",\"showlegend\":true,\"x\":[10,11,12,13,14,15,16,17,18,19,20],\"xaxis\":\"x5\",\"y\":[0.16581619153678578,0.19162676391689684,0.19100194615514665,0.19231658500224597,0.24641949801730142,0.2885890083050341,0.2973398575125255,0.27924886145617683,0.2713079284006326,0.27033100057180237,0.26121519229157786],\"yaxis\":\"y5\",\"type\":\"scatter\"},{\"hovertemplate\":\"variable=features_10_leaf_13<br>Trees=%{x}<br>value=%{y}<extra></extra>\",\"legendgroup\":\"features_10_leaf_13\",\"line\":{\"color\":\"#ab63fa\",\"dash\":\"solid\"},\"marker\":{\"symbol\":\"circle\"},\"mode\":\"lines\",\"name\":\"features_10_leaf_13\",\"orientation\":\"v\",\"showlegend\":true,\"x\":[10,11,12,13,14,15,16,17,18,19,20],\"xaxis\":\"x5\",\"y\":[0.13953294746380807,0.15125001323226023,0.15105917473543706,0.20051451634899106,0.24330787603634557,0.2765155154396814,0.27665615593800663,0.26409101684733094,0.26351037907374647,0.255510592253623,0.2402921785998416],\"yaxis\":\"y5\",\"type\":\"scatter\"},{\"hovertemplate\":\"variable=features_13_leaf_13<br>Trees=%{x}<br>value=%{y}<extra></extra>\",\"legendgroup\":\"features_13_leaf_13\",\"line\":{\"color\":\"#FFA15A\",\"dash\":\"solid\"},\"marker\":{\"symbol\":\"circle\"},\"mode\":\"lines\",\"name\":\"features_13_leaf_13\",\"orientation\":\"v\",\"showlegend\":true,\"x\":[10,11,12,13,14,15,16,17,18,19,20],\"xaxis\":\"x5\",\"y\":[0.1355606408667426,0.11483953208549362,0.08993314006941149,0.14418352370294332,0.18867682453119422,0.22678266425797172,0.24975957833953863,0.22956892758904193,0.25247136371399514,0.23645135001684675,0.21559059474366543],\"yaxis\":\"y5\",\"type\":\"scatter\"},{\"hovertemplate\":\"variable=features_1_leaf_15<br>Trees=%{x}<br>value=%{y}<extra></extra>\",\"legendgroup\":\"features_1_leaf_15\",\"line\":{\"color\":\"#636efa\",\"dash\":\"solid\"},\"marker\":{\"symbol\":\"circle\"},\"mode\":\"lines\",\"name\":\"features_1_leaf_15\",\"orientation\":\"v\",\"showlegend\":true,\"x\":[10,11,12,13,14,15,16,17,18,19,20],\"xaxis\":\"x6\",\"y\":[-0.26143697903046015,-0.2673588366196964,-0.2728695432669171,-0.18306860005559006,-0.19440984922065346,-0.13360342829781097,-0.14962668072685453,-0.12166931077138346,-0.13501372093901975,-0.07693894655961632,-0.08288123830950286],\"yaxis\":\"y6\",\"type\":\"scatter\"},{\"hovertemplate\":\"variable=features_4_leaf_15<br>Trees=%{x}<br>value=%{y}<extra></extra>\",\"legendgroup\":\"features_4_leaf_15\",\"line\":{\"color\":\"#EF553B\",\"dash\":\"solid\"},\"marker\":{\"symbol\":\"circle\"},\"mode\":\"lines\",\"name\":\"features_4_leaf_15\",\"orientation\":\"v\",\"showlegend\":true,\"x\":[10,11,12,13,14,15,16,17,18,19,20],\"xaxis\":\"x6\",\"y\":[0.0012758783387257998,0.015625591919915083,0.015740529979341722,0.045360048964601794,0.03435595922684738,0.04213439250380415,0.040352410979532814,0.03315067969020202,0.02485681720945545,0.055832345359683934,0.08673267233606205],\"yaxis\":\"y6\",\"type\":\"scatter\"},{\"hovertemplate\":\"variable=features_7_leaf_15<br>Trees=%{x}<br>value=%{y}<extra></extra>\",\"legendgroup\":\"features_7_leaf_15\",\"line\":{\"color\":\"#00cc96\",\"dash\":\"solid\"},\"marker\":{\"symbol\":\"circle\"},\"mode\":\"lines\",\"name\":\"features_7_leaf_15\",\"orientation\":\"v\",\"showlegend\":true,\"x\":[10,11,12,13,14,15,16,17,18,19,20],\"xaxis\":\"x6\",\"y\":[0.16008185614613926,0.15995593676555292,0.14257412549830836,0.1530252882764805,0.15827432247564596,0.1866761378116864,0.1879101569189476,0.1935346209948904,0.18223795429553696,0.18749825735451225,0.20267547551512877],\"yaxis\":\"y6\",\"type\":\"scatter\"},{\"hovertemplate\":\"variable=features_10_leaf_15<br>Trees=%{x}<br>value=%{y}<extra></extra>\",\"legendgroup\":\"features_10_leaf_15\",\"line\":{\"color\":\"#ab63fa\",\"dash\":\"solid\"},\"marker\":{\"symbol\":\"circle\"},\"mode\":\"lines\",\"name\":\"features_10_leaf_15\",\"orientation\":\"v\",\"showlegend\":true,\"x\":[10,11,12,13,14,15,16,17,18,19,20],\"xaxis\":\"x6\",\"y\":[0.15114180609382696,0.15716703316659736,0.12693912424786308,0.13148539980764987,0.1300371583696259,0.15318019802040084,0.14370595159045246,0.1429286536676105,0.14103925320937352,0.1373377094986333,0.1346228967380433],\"yaxis\":\"y6\",\"type\":\"scatter\"},{\"hovertemplate\":\"variable=features_13_leaf_15<br>Trees=%{x}<br>value=%{y}<extra></extra>\",\"legendgroup\":\"features_13_leaf_15\",\"line\":{\"color\":\"#FFA15A\",\"dash\":\"solid\"},\"marker\":{\"symbol\":\"circle\"},\"mode\":\"lines\",\"name\":\"features_13_leaf_15\",\"orientation\":\"v\",\"showlegend\":true,\"x\":[10,11,12,13,14,15,16,17,18,19,20],\"xaxis\":\"x6\",\"y\":[0.16224008985024835,0.16649744863996868,0.16823238234132382,0.16476670869008717,0.1566571515109383,0.17197502852035368,0.16452967248090306,0.16054888459430475,0.1551067771740709,0.14581366343576313,0.14052772524164486],\"yaxis\":\"y6\",\"type\":\"scatter\"}],                        {\"template\":{\"data\":{\"histogram2dcontour\":[{\"type\":\"histogram2dcontour\",\"colorbar\":{\"outlinewidth\":0,\"ticks\":\"\"},\"colorscale\":[[0.0,\"#0d0887\"],[0.1111111111111111,\"#46039f\"],[0.2222222222222222,\"#7201a8\"],[0.3333333333333333,\"#9c179e\"],[0.4444444444444444,\"#bd3786\"],[0.5555555555555556,\"#d8576b\"],[0.6666666666666666,\"#ed7953\"],[0.7777777777777778,\"#fb9f3a\"],[0.8888888888888888,\"#fdca26\"],[1.0,\"#f0f921\"]]}],\"choropleth\":[{\"type\":\"choropleth\",\"colorbar\":{\"outlinewidth\":0,\"ticks\":\"\"}}],\"histogram2d\":[{\"type\":\"histogram2d\",\"colorbar\":{\"outlinewidth\":0,\"ticks\":\"\"},\"colorscale\":[[0.0,\"#0d0887\"],[0.1111111111111111,\"#46039f\"],[0.2222222222222222,\"#7201a8\"],[0.3333333333333333,\"#9c179e\"],[0.4444444444444444,\"#bd3786\"],[0.5555555555555556,\"#d8576b\"],[0.6666666666666666,\"#ed7953\"],[0.7777777777777778,\"#fb9f3a\"],[0.8888888888888888,\"#fdca26\"],[1.0,\"#f0f921\"]]}],\"heatmap\":[{\"type\":\"heatmap\",\"colorbar\":{\"outlinewidth\":0,\"ticks\":\"\"},\"colorscale\":[[0.0,\"#0d0887\"],[0.1111111111111111,\"#46039f\"],[0.2222222222222222,\"#7201a8\"],[0.3333333333333333,\"#9c179e\"],[0.4444444444444444,\"#bd3786\"],[0.5555555555555556,\"#d8576b\"],[0.6666666666666666,\"#ed7953\"],[0.7777777777777778,\"#fb9f3a\"],[0.8888888888888888,\"#fdca26\"],[1.0,\"#f0f921\"]]}],\"heatmapgl\":[{\"type\":\"heatmapgl\",\"colorbar\":{\"outlinewidth\":0,\"ticks\":\"\"},\"colorscale\":[[0.0,\"#0d0887\"],[0.1111111111111111,\"#46039f\"],[0.2222222222222222,\"#7201a8\"],[0.3333333333333333,\"#9c179e\"],[0.4444444444444444,\"#bd3786\"],[0.5555555555555556,\"#d8576b\"],[0.6666666666666666,\"#ed7953\"],[0.7777777777777778,\"#fb9f3a\"],[0.8888888888888888,\"#fdca26\"],[1.0,\"#f0f921\"]]}],\"contourcarpet\":[{\"type\":\"contourcarpet\",\"colorbar\":{\"outlinewidth\":0,\"ticks\":\"\"}}],\"contour\":[{\"type\":\"contour\",\"colorbar\":{\"outlinewidth\":0,\"ticks\":\"\"},\"colorscale\":[[0.0,\"#0d0887\"],[0.1111111111111111,\"#46039f\"],[0.2222222222222222,\"#7201a8\"],[0.3333333333333333,\"#9c179e\"],[0.4444444444444444,\"#bd3786\"],[0.5555555555555556,\"#d8576b\"],[0.6666666666666666,\"#ed7953\"],[0.7777777777777778,\"#fb9f3a\"],[0.8888888888888888,\"#fdca26\"],[1.0,\"#f0f921\"]]}],\"surface\":[{\"type\":\"surface\",\"colorbar\":{\"outlinewidth\":0,\"ticks\":\"\"},\"colorscale\":[[0.0,\"#0d0887\"],[0.1111111111111111,\"#46039f\"],[0.2222222222222222,\"#7201a8\"],[0.3333333333333333,\"#9c179e\"],[0.4444444444444444,\"#bd3786\"],[0.5555555555555556,\"#d8576b\"],[0.6666666666666666,\"#ed7953\"],[0.7777777777777778,\"#fb9f3a\"],[0.8888888888888888,\"#fdca26\"],[1.0,\"#f0f921\"]]}],\"mesh3d\":[{\"type\":\"mesh3d\",\"colorbar\":{\"outlinewidth\":0,\"ticks\":\"\"}}],\"scatter\":[{\"fillpattern\":{\"fillmode\":\"overlay\",\"size\":10,\"solidity\":0.2},\"type\":\"scatter\"}],\"parcoords\":[{\"type\":\"parcoords\",\"line\":{\"colorbar\":{\"outlinewidth\":0,\"ticks\":\"\"}}}],\"scatterpolargl\":[{\"type\":\"scatterpolargl\",\"marker\":{\"colorbar\":{\"outlinewidth\":0,\"ticks\":\"\"}}}],\"bar\":[{\"error_x\":{\"color\":\"#2a3f5f\"},\"error_y\":{\"color\":\"#2a3f5f\"},\"marker\":{\"line\":{\"color\":\"#E5ECF6\",\"width\":0.5},\"pattern\":{\"fillmode\":\"overlay\",\"size\":10,\"solidity\":0.2}},\"type\":\"bar\"}],\"scattergeo\":[{\"type\":\"scattergeo\",\"marker\":{\"colorbar\":{\"outlinewidth\":0,\"ticks\":\"\"}}}],\"scatterpolar\":[{\"type\":\"scatterpolar\",\"marker\":{\"colorbar\":{\"outlinewidth\":0,\"ticks\":\"\"}}}],\"histogram\":[{\"marker\":{\"pattern\":{\"fillmode\":\"overlay\",\"size\":10,\"solidity\":0.2}},\"type\":\"histogram\"}],\"scattergl\":[{\"type\":\"scattergl\",\"marker\":{\"colorbar\":{\"outlinewidth\":0,\"ticks\":\"\"}}}],\"scatter3d\":[{\"type\":\"scatter3d\",\"line\":{\"colorbar\":{\"outlinewidth\":0,\"ticks\":\"\"}},\"marker\":{\"colorbar\":{\"outlinewidth\":0,\"ticks\":\"\"}}}],\"scattermapbox\":[{\"type\":\"scattermapbox\",\"marker\":{\"colorbar\":{\"outlinewidth\":0,\"ticks\":\"\"}}}],\"scatterternary\":[{\"type\":\"scatterternary\",\"marker\":{\"colorbar\":{\"outlinewidth\":0,\"ticks\":\"\"}}}],\"scattercarpet\":[{\"type\":\"scattercarpet\",\"marker\":{\"colorbar\":{\"outlinewidth\":0,\"ticks\":\"\"}}}],\"carpet\":[{\"aaxis\":{\"endlinecolor\":\"#2a3f5f\",\"gridcolor\":\"white\",\"linecolor\":\"white\",\"minorgridcolor\":\"white\",\"startlinecolor\":\"#2a3f5f\"},\"baxis\":{\"endlinecolor\":\"#2a3f5f\",\"gridcolor\":\"white\",\"linecolor\":\"white\",\"minorgridcolor\":\"white\",\"startlinecolor\":\"#2a3f5f\"},\"type\":\"carpet\"}],\"table\":[{\"cells\":{\"fill\":{\"color\":\"#EBF0F8\"},\"line\":{\"color\":\"white\"}},\"header\":{\"fill\":{\"color\":\"#C8D4E3\"},\"line\":{\"color\":\"white\"}},\"type\":\"table\"}],\"barpolar\":[{\"marker\":{\"line\":{\"color\":\"#E5ECF6\",\"width\":0.5},\"pattern\":{\"fillmode\":\"overlay\",\"size\":10,\"solidity\":0.2}},\"type\":\"barpolar\"}],\"pie\":[{\"automargin\":true,\"type\":\"pie\"}]},\"layout\":{\"autotypenumbers\":\"strict\",\"colorway\":[\"#636efa\",\"#EF553B\",\"#00cc96\",\"#ab63fa\",\"#FFA15A\",\"#19d3f3\",\"#FF6692\",\"#B6E880\",\"#FF97FF\",\"#FECB52\"],\"font\":{\"color\":\"#2a3f5f\"},\"hovermode\":\"closest\",\"hoverlabel\":{\"align\":\"left\"},\"paper_bgcolor\":\"white\",\"plot_bgcolor\":\"#E5ECF6\",\"polar\":{\"bgcolor\":\"#E5ECF6\",\"angularaxis\":{\"gridcolor\":\"white\",\"linecolor\":\"white\",\"ticks\":\"\"},\"radialaxis\":{\"gridcolor\":\"white\",\"linecolor\":\"white\",\"ticks\":\"\"}},\"ternary\":{\"bgcolor\":\"#E5ECF6\",\"aaxis\":{\"gridcolor\":\"white\",\"linecolor\":\"white\",\"ticks\":\"\"},\"baxis\":{\"gridcolor\":\"white\",\"linecolor\":\"white\",\"ticks\":\"\"},\"caxis\":{\"gridcolor\":\"white\",\"linecolor\":\"white\",\"ticks\":\"\"}},\"coloraxis\":{\"colorbar\":{\"outlinewidth\":0,\"ticks\":\"\"}},\"colorscale\":{\"sequential\":[[0.0,\"#0d0887\"],[0.1111111111111111,\"#46039f\"],[0.2222222222222222,\"#7201a8\"],[0.3333333333333333,\"#9c179e\"],[0.4444444444444444,\"#bd3786\"],[0.5555555555555556,\"#d8576b\"],[0.6666666666666666,\"#ed7953\"],[0.7777777777777778,\"#fb9f3a\"],[0.8888888888888888,\"#fdca26\"],[1.0,\"#f0f921\"]],\"sequentialminus\":[[0.0,\"#0d0887\"],[0.1111111111111111,\"#46039f\"],[0.2222222222222222,\"#7201a8\"],[0.3333333333333333,\"#9c179e\"],[0.4444444444444444,\"#bd3786\"],[0.5555555555555556,\"#d8576b\"],[0.6666666666666666,\"#ed7953\"],[0.7777777777777778,\"#fb9f3a\"],[0.8888888888888888,\"#fdca26\"],[1.0,\"#f0f921\"]],\"diverging\":[[0,\"#8e0152\"],[0.1,\"#c51b7d\"],[0.2,\"#de77ae\"],[0.3,\"#f1b6da\"],[0.4,\"#fde0ef\"],[0.5,\"#f7f7f7\"],[0.6,\"#e6f5d0\"],[0.7,\"#b8e186\"],[0.8,\"#7fbc41\"],[0.9,\"#4d9221\"],[1,\"#276419\"]]},\"xaxis\":{\"gridcolor\":\"white\",\"linecolor\":\"white\",\"ticks\":\"\",\"title\":{\"standoff\":15},\"zerolinecolor\":\"white\",\"automargin\":true,\"zerolinewidth\":2},\"yaxis\":{\"gridcolor\":\"white\",\"linecolor\":\"white\",\"ticks\":\"\",\"title\":{\"standoff\":15},\"zerolinecolor\":\"white\",\"automargin\":true,\"zerolinewidth\":2},\"scene\":{\"xaxis\":{\"backgroundcolor\":\"#E5ECF6\",\"gridcolor\":\"white\",\"linecolor\":\"white\",\"showbackground\":true,\"ticks\":\"\",\"zerolinecolor\":\"white\",\"gridwidth\":2},\"yaxis\":{\"backgroundcolor\":\"#E5ECF6\",\"gridcolor\":\"white\",\"linecolor\":\"white\",\"showbackground\":true,\"ticks\":\"\",\"zerolinecolor\":\"white\",\"gridwidth\":2},\"zaxis\":{\"backgroundcolor\":\"#E5ECF6\",\"gridcolor\":\"white\",\"linecolor\":\"white\",\"showbackground\":true,\"ticks\":\"\",\"zerolinecolor\":\"white\",\"gridwidth\":2}},\"shapedefaults\":{\"line\":{\"color\":\"#2a3f5f\"}},\"annotationdefaults\":{\"arrowcolor\":\"#2a3f5f\",\"arrowhead\":0,\"arrowwidth\":1},\"geo\":{\"bgcolor\":\"white\",\"landcolor\":\"#E5ECF6\",\"subunitcolor\":\"white\",\"showland\":true,\"showlakes\":true,\"lakecolor\":\"white\"},\"title\":{\"x\":0.05},\"mapbox\":{\"style\":\"light\"}}},\"xaxis\":{\"anchor\":\"y\",\"domain\":[0.0,1.0],\"title\":{\"text\":\"# Trees\"}},\"yaxis\":{\"anchor\":\"x\",\"domain\":[0.9027777777777777,0.9999999999999999]},\"xaxis2\":{\"anchor\":\"y2\",\"domain\":[0.0,1.0],\"title\":{\"text\":\"# Trees\"}},\"yaxis2\":{\"anchor\":\"x2\",\"domain\":[0.7222222222222222,0.8194444444444444]},\"xaxis3\":{\"anchor\":\"y3\",\"domain\":[0.0,1.0],\"title\":{\"text\":\"# Trees\"}},\"yaxis3\":{\"anchor\":\"x3\",\"domain\":[0.5416666666666667,0.638888888888889]},\"xaxis4\":{\"anchor\":\"y4\",\"domain\":[0.0,1.0],\"title\":{\"text\":\"# Trees\"}},\"yaxis4\":{\"anchor\":\"x4\",\"domain\":[0.3611111111111111,0.4583333333333333]},\"xaxis5\":{\"anchor\":\"y5\",\"domain\":[0.0,1.0],\"title\":{\"text\":\"# Trees\"}},\"yaxis5\":{\"anchor\":\"x5\",\"domain\":[0.18055555555555555,0.2777777777777778]},\"xaxis6\":{\"anchor\":\"y6\",\"domain\":[0.0,1.0],\"title\":{\"text\":\"# Trees\"}},\"yaxis6\":{\"anchor\":\"x6\",\"domain\":[0.0,0.09722222222222222]},\"annotations\":[{\"font\":{\"size\":16},\"showarrow\":false,\"text\":\"min_samples_leaf=5\",\"x\":0.5,\"xanchor\":\"center\",\"xref\":\"paper\",\"y\":0.9999999999999999,\"yanchor\":\"bottom\",\"yref\":\"paper\"},{\"font\":{\"size\":16},\"showarrow\":false,\"text\":\"min_samples_leaf=7\",\"x\":0.5,\"xanchor\":\"center\",\"xref\":\"paper\",\"y\":0.8194444444444444,\"yanchor\":\"bottom\",\"yref\":\"paper\"},{\"font\":{\"size\":16},\"showarrow\":false,\"text\":\"min_samples_leaf=9\",\"x\":0.5,\"xanchor\":\"center\",\"xref\":\"paper\",\"y\":0.638888888888889,\"yanchor\":\"bottom\",\"yref\":\"paper\"},{\"font\":{\"size\":16},\"showarrow\":false,\"text\":\"min_samples_leaf=11\",\"x\":0.5,\"xanchor\":\"center\",\"xref\":\"paper\",\"y\":0.4583333333333333,\"yanchor\":\"bottom\",\"yref\":\"paper\"},{\"font\":{\"size\":16},\"showarrow\":false,\"text\":\"min_samples_leaf=13\",\"x\":0.5,\"xanchor\":\"center\",\"xref\":\"paper\",\"y\":0.2777777777777778,\"yanchor\":\"bottom\",\"yref\":\"paper\"},{\"font\":{\"size\":16},\"showarrow\":false,\"text\":\"min_samples_leaf=15\",\"x\":0.5,\"xanchor\":\"center\",\"xref\":\"paper\",\"y\":0.09722222222222222,\"yanchor\":\"bottom\",\"yref\":\"paper\"}],\"title\":{\"text\":\"Random Forest Performance\"},\"height\":1320},                        {\"responsive\": true}                    ).then(function(){\n",
       "                            \n",
       "var gd = document.getElementById('91418380-0a29-4dba-bcbe-cc42498d4021');\n",
       "var x = new MutationObserver(function (mutations, observer) {{\n",
       "        var display = window.getComputedStyle(gd).display;\n",
       "        if (!display || display === 'none') {{\n",
       "            console.log([gd, 'removed!']);\n",
       "            Plotly.purge(gd);\n",
       "            observer.disconnect();\n",
       "        }}\n",
       "}});\n",
       "\n",
       "// Listen for the removal of the full notebook cells\n",
       "var notebookContainer = gd.closest('#notebook-container');\n",
       "if (notebookContainer) {{\n",
       "    x.observe(notebookContainer, {childList: true});\n",
       "}}\n",
       "\n",
       "// Listen for the clearing of the current output cell\n",
       "var outputEl = gd.closest('.output');\n",
       "if (outputEl) {{\n",
       "    x.observe(outputEl, {childList: true});\n",
       "}}\n",
       "\n",
       "                        })                };                });            </script>        </div>"
      ]
     },
     "metadata": {},
     "output_type": "display_data"
    },
    {
     "name": "stdout",
     "output_type": "stream",
     "text": [
      "\n",
      "The best performing Random Forest had 14 trees;\n",
      "in each tree, a split point is only considered if it leaves 7 samples in each of the left & right branches.\n",
      "Each decision tree only considered 13 predictors when looking for the best split.\n",
      "This gave a mean R^2 score of 0.5973875188250826 across the 10 folds of the training data.\n",
      "\n",
      "\n",
      "\n",
      "\n",
      "Training set score: 0.8187142410258441\n",
      "Test set score: 0.851314680629339\n"
     ]
    }
   ],
   "source": [
    "#################################\n",
    "# Step 3: Grid Search\n",
    "################################# \n",
    "\n",
    "(pipe_random_forest, params, dim) = user_input_random_forest(predictors,\n",
    "                                                        stonks.granularity,\n",
    "                                                       verbose=True)\n",
    "\n",
    "n_features = dim[0]\n",
    "n_leaf = dim[1]\n",
    "n_estimators = dim[2]\n",
    "\n",
    "\n",
    "with warnings.catch_warnings():\n",
    "    warnings.simplefilter(\"ignore\")\n",
    "    search = GridSearchCV(pipe_random_forest, params, cv=CROSS_FOLDS, n_jobs=-1)\n",
    "    search.fit(X_train, Y_train)\n",
    "\n",
    "\n",
    "\n",
    "#################################\n",
    "# Step 4: Plot Grid Performance\n",
    "#################################\n",
    "scores_mean = search.cv_results_['mean_test_score'].reshape(len(n_features), \n",
    "                                                            len(n_leaf),\n",
    "                                                           len(n_estimators))\n",
    "# create pandas.DataFrame to pr\n",
    "random_forest_performance = pd.DataFrame({\n",
    "    \"Trees\" : n_estimators\n",
    "})\n",
    "\n",
    "\n",
    "titles=[f'min_samples_leaf={leaf}' for leaf in n_leaf]\n",
    "subs= make_subplots(rows=len(n_leaf),\n",
    "                    cols=1, \n",
    "                    subplot_titles=titles\n",
    "                   )\n",
    "\n",
    "with warnings.catch_warnings():\n",
    "    warnings.simplefilter(\"ignore\")\n",
    "    for idx_1, val_1 in enumerate(n_leaf):\n",
    "        for idx_2, val_2 in enumerate(n_features):\n",
    "            feature_str = \"features_\" + str(val_2)  + \"_leaf_\" + str(val_1)\n",
    "            random_forest_performance[feature_str] = scores_mean[idx_2,idx_1,:]\n",
    "\n",
    "        figure_traces = []\n",
    "        fig = px.line(random_forest_performance, x=\"Trees\",\n",
    "                      y=[col for col in random_forest_performance.columns if f'leaf_{val_1}' in col],\n",
    "                     title=f\"Random Forest Performance (leaf={val_1})\").update_layout(yaxis_title=\"R^2 value\")\n",
    "        for trace in range(len(fig[\"data\"])):\n",
    "            figure_traces.append(fig[\"data\"][trace])\n",
    "        for traces in figure_traces:\n",
    "            subs.append_trace(traces, row=(idx_1 + 1), col=1)\n",
    "\n",
    "        subs.update_xaxes(title_text=\"# Trees\", row=(idx_1 + 1), col=1)\n",
    "\n",
    "\n",
    "    subs.update_layout(height=(220 * len(n_leaf)), title_text=\"Random Forest Performance\")\n",
    "    subs.show()        \n",
    "        \n",
    "    \n",
    "print(f\"\\nThe best performing Random Forest had {search.best_params_['classifier__n_estimators']} trees;\" +\n",
    "     \"\\nin each tree, a split point is only considered if it leaves \" +\n",
    "      f\"{search.best_params_['classifier__min_samples_leaf']} samples in each of the left & right branches.\" +\n",
    "     f\"\\nEach decision tree only considered {search.best_params_['classifier__max_features']}\" +\n",
    "     \" predictors when looking for the best split.\\nThis gave a mean R^2 score of \" +\n",
    "     f\"{search.best_score_} across the {CROSS_FOLDS} folds of the training data.\\n\")    \n",
    "    \n",
    "\n",
    "print(\"\\n\\n\")\n",
    "print('Training set score: ' + str(search.score(X_train, Y_train)))\n",
    "print('Test set score: ' + str(search.score(X_test, Y_test)))\n",
    "\n"
   ]
  },
  {
   "cell_type": "code",
   "execution_count": 35,
   "id": "b7ed59cd",
   "metadata": {},
   "outputs": [
    {
     "data": {
      "application/vnd.plotly.v1+json": {
       "config": {
        "plotlyServerURL": "https://plot.ly"
       },
       "data": [
        {
         "hovertemplate": "variable=alpha_0.0001<br>L1_Ratio=%{x}<br>value=%{y}<extra></extra>",
         "legendgroup": "alpha_0.0001",
         "line": {
          "color": "#636efa",
          "dash": "solid"
         },
         "marker": {
          "symbol": "circle"
         },
         "mode": "lines",
         "name": "alpha_0.0001",
         "orientation": "v",
         "showlegend": true,
         "type": "scatter",
         "x": [
          0,
          0.1,
          0.2,
          0.30000000000000004,
          0.4,
          0.5,
          0.6000000000000001,
          0.7000000000000001,
          0.8,
          0.9
         ],
         "xaxis": "x",
         "y": [
          0.41250335367311014,
          0.4170167734943755,
          0.42152704271054786,
          0.42561024207053044,
          0.4296452756600864,
          0.43351642218273734,
          0.43717145516794476,
          0.44071243192617954,
          0.4440432248180083,
          0.44668875135961184
         ],
         "yaxis": "y"
        },
        {
         "hovertemplate": "variable=alpha_0.001<br>L1_Ratio=%{x}<br>value=%{y}<extra></extra>",
         "legendgroup": "alpha_0.001",
         "line": {
          "color": "#EF553B",
          "dash": "solid"
         },
         "marker": {
          "symbol": "circle"
         },
         "mode": "lines",
         "name": "alpha_0.001",
         "orientation": "v",
         "showlegend": true,
         "type": "scatter",
         "x": [
          0,
          0.1,
          0.2,
          0.30000000000000004,
          0.4,
          0.5,
          0.6000000000000001,
          0.7000000000000001,
          0.8,
          0.9
         ],
         "xaxis": "x",
         "y": [
          0.42996792138320983,
          0.4589575794637657,
          0.4782959096096938,
          0.4939117614974046,
          0.5075543992868458,
          0.5235076593183796,
          0.535755529345421,
          0.5484234661590781,
          0.5552448355621327,
          0.5614485446850032
         ],
         "yaxis": "y"
        },
        {
         "hovertemplate": "variable=alpha_0.01<br>L1_Ratio=%{x}<br>value=%{y}<extra></extra>",
         "legendgroup": "alpha_0.01",
         "line": {
          "color": "#00cc96",
          "dash": "solid"
         },
         "marker": {
          "symbol": "circle"
         },
         "mode": "lines",
         "name": "alpha_0.01",
         "orientation": "v",
         "showlegend": true,
         "type": "scatter",
         "x": [
          0,
          0.1,
          0.2,
          0.30000000000000004,
          0.4,
          0.5,
          0.6000000000000001,
          0.7000000000000001,
          0.8,
          0.9
         ],
         "xaxis": "x",
         "y": [
          0.49555618452492195,
          0.5911023235919731,
          0.6229686187010157,
          0.6439559242109014,
          0.6567122176860305,
          0.664380274020506,
          0.671273904467799,
          0.677020360123271,
          0.6795427255777736,
          0.6810284396332944
         ],
         "yaxis": "y"
        },
        {
         "hovertemplate": "variable=alpha_0.1<br>L1_Ratio=%{x}<br>value=%{y}<extra></extra>",
         "legendgroup": "alpha_0.1",
         "line": {
          "color": "#ab63fa",
          "dash": "solid"
         },
         "marker": {
          "symbol": "circle"
         },
         "mode": "lines",
         "name": "alpha_0.1",
         "orientation": "v",
         "showlegend": true,
         "type": "scatter",
         "x": [
          0,
          0.1,
          0.2,
          0.30000000000000004,
          0.4,
          0.5,
          0.6000000000000001,
          0.7000000000000001,
          0.8,
          0.9
         ],
         "xaxis": "x",
         "y": [
          0.5735475183654757,
          0.6772637074593431,
          0.6750615637556615,
          0.6385430943649633,
          0.5782651692898766,
          0.49288351418737564,
          0.3809763121957147,
          0.24103917320388804,
          0.07147973196361138,
          -0.1293881559457851
         ],
         "yaxis": "y"
        },
        {
         "hovertemplate": "variable=alpha_1<br>L1_Ratio=%{x}<br>value=%{y}<extra></extra>",
         "legendgroup": "alpha_1",
         "line": {
          "color": "#FFA15A",
          "dash": "solid"
         },
         "marker": {
          "symbol": "circle"
         },
         "mode": "lines",
         "name": "alpha_1",
         "orientation": "v",
         "showlegend": true,
         "type": "scatter",
         "x": [
          0,
          0.1,
          0.2,
          0.30000000000000004,
          0.4,
          0.5,
          0.6000000000000001,
          0.7000000000000001,
          0.8,
          0.9
         ],
         "xaxis": "x",
         "y": [
          0.5009058179914975,
          -0.40806932173491084,
          -0.48010106086469795,
          -0.48010106086469795,
          -0.48010106086469795,
          -0.48010106086469795,
          -0.48010106086469795,
          -0.48010106086469795,
          -0.48010106086469795,
          -0.48010106086469795
         ],
         "yaxis": "y"
        },
        {
         "hovertemplate": "variable=alpha_10<br>L1_Ratio=%{x}<br>value=%{y}<extra></extra>",
         "legendgroup": "alpha_10",
         "line": {
          "color": "#19d3f3",
          "dash": "solid"
         },
         "marker": {
          "symbol": "circle"
         },
         "mode": "lines",
         "name": "alpha_10",
         "orientation": "v",
         "showlegend": true,
         "type": "scatter",
         "x": [
          0,
          0.1,
          0.2,
          0.30000000000000004,
          0.4,
          0.5,
          0.6000000000000001,
          0.7000000000000001,
          0.8,
          0.9
         ],
         "xaxis": "x",
         "y": [
          0.013594297801383881,
          -0.48010106086469795,
          -0.48010106086469795,
          -0.48010106086469795,
          -0.48010106086469795,
          -0.48010106086469795,
          -0.48010106086469795,
          -0.48010106086469795,
          -0.48010106086469795,
          -0.48010106086469795
         ],
         "yaxis": "y"
        },
        {
         "hovertemplate": "variable=alpha_100<br>L1_Ratio=%{x}<br>value=%{y}<extra></extra>",
         "legendgroup": "alpha_100",
         "line": {
          "color": "#FF6692",
          "dash": "solid"
         },
         "marker": {
          "symbol": "circle"
         },
         "mode": "lines",
         "name": "alpha_100",
         "orientation": "v",
         "showlegend": true,
         "type": "scatter",
         "x": [
          0,
          0.1,
          0.2,
          0.30000000000000004,
          0.4,
          0.5,
          0.6000000000000001,
          0.7000000000000001,
          0.8,
          0.9
         ],
         "xaxis": "x",
         "y": [
          -0.38307293209105775,
          -0.48010106086469795,
          -0.48010106086469795,
          -0.48010106086469795,
          -0.48010106086469795,
          -0.48010106086469795,
          -0.48010106086469795,
          -0.48010106086469795,
          -0.48010106086469795,
          -0.48010106086469795
         ],
         "yaxis": "y"
        }
       ],
       "layout": {
        "legend": {
         "title": {
          "text": "variable"
         },
         "tracegroupgap": 0
        },
        "template": {
         "data": {
          "bar": [
           {
            "error_x": {
             "color": "#2a3f5f"
            },
            "error_y": {
             "color": "#2a3f5f"
            },
            "marker": {
             "line": {
              "color": "#E5ECF6",
              "width": 0.5
             },
             "pattern": {
              "fillmode": "overlay",
              "size": 10,
              "solidity": 0.2
             }
            },
            "type": "bar"
           }
          ],
          "barpolar": [
           {
            "marker": {
             "line": {
              "color": "#E5ECF6",
              "width": 0.5
             },
             "pattern": {
              "fillmode": "overlay",
              "size": 10,
              "solidity": 0.2
             }
            },
            "type": "barpolar"
           }
          ],
          "carpet": [
           {
            "aaxis": {
             "endlinecolor": "#2a3f5f",
             "gridcolor": "white",
             "linecolor": "white",
             "minorgridcolor": "white",
             "startlinecolor": "#2a3f5f"
            },
            "baxis": {
             "endlinecolor": "#2a3f5f",
             "gridcolor": "white",
             "linecolor": "white",
             "minorgridcolor": "white",
             "startlinecolor": "#2a3f5f"
            },
            "type": "carpet"
           }
          ],
          "choropleth": [
           {
            "colorbar": {
             "outlinewidth": 0,
             "ticks": ""
            },
            "type": "choropleth"
           }
          ],
          "contour": [
           {
            "colorbar": {
             "outlinewidth": 0,
             "ticks": ""
            },
            "colorscale": [
             [
              0,
              "#0d0887"
             ],
             [
              0.1111111111111111,
              "#46039f"
             ],
             [
              0.2222222222222222,
              "#7201a8"
             ],
             [
              0.3333333333333333,
              "#9c179e"
             ],
             [
              0.4444444444444444,
              "#bd3786"
             ],
             [
              0.5555555555555556,
              "#d8576b"
             ],
             [
              0.6666666666666666,
              "#ed7953"
             ],
             [
              0.7777777777777778,
              "#fb9f3a"
             ],
             [
              0.8888888888888888,
              "#fdca26"
             ],
             [
              1,
              "#f0f921"
             ]
            ],
            "type": "contour"
           }
          ],
          "contourcarpet": [
           {
            "colorbar": {
             "outlinewidth": 0,
             "ticks": ""
            },
            "type": "contourcarpet"
           }
          ],
          "heatmap": [
           {
            "colorbar": {
             "outlinewidth": 0,
             "ticks": ""
            },
            "colorscale": [
             [
              0,
              "#0d0887"
             ],
             [
              0.1111111111111111,
              "#46039f"
             ],
             [
              0.2222222222222222,
              "#7201a8"
             ],
             [
              0.3333333333333333,
              "#9c179e"
             ],
             [
              0.4444444444444444,
              "#bd3786"
             ],
             [
              0.5555555555555556,
              "#d8576b"
             ],
             [
              0.6666666666666666,
              "#ed7953"
             ],
             [
              0.7777777777777778,
              "#fb9f3a"
             ],
             [
              0.8888888888888888,
              "#fdca26"
             ],
             [
              1,
              "#f0f921"
             ]
            ],
            "type": "heatmap"
           }
          ],
          "heatmapgl": [
           {
            "colorbar": {
             "outlinewidth": 0,
             "ticks": ""
            },
            "colorscale": [
             [
              0,
              "#0d0887"
             ],
             [
              0.1111111111111111,
              "#46039f"
             ],
             [
              0.2222222222222222,
              "#7201a8"
             ],
             [
              0.3333333333333333,
              "#9c179e"
             ],
             [
              0.4444444444444444,
              "#bd3786"
             ],
             [
              0.5555555555555556,
              "#d8576b"
             ],
             [
              0.6666666666666666,
              "#ed7953"
             ],
             [
              0.7777777777777778,
              "#fb9f3a"
             ],
             [
              0.8888888888888888,
              "#fdca26"
             ],
             [
              1,
              "#f0f921"
             ]
            ],
            "type": "heatmapgl"
           }
          ],
          "histogram": [
           {
            "marker": {
             "pattern": {
              "fillmode": "overlay",
              "size": 10,
              "solidity": 0.2
             }
            },
            "type": "histogram"
           }
          ],
          "histogram2d": [
           {
            "colorbar": {
             "outlinewidth": 0,
             "ticks": ""
            },
            "colorscale": [
             [
              0,
              "#0d0887"
             ],
             [
              0.1111111111111111,
              "#46039f"
             ],
             [
              0.2222222222222222,
              "#7201a8"
             ],
             [
              0.3333333333333333,
              "#9c179e"
             ],
             [
              0.4444444444444444,
              "#bd3786"
             ],
             [
              0.5555555555555556,
              "#d8576b"
             ],
             [
              0.6666666666666666,
              "#ed7953"
             ],
             [
              0.7777777777777778,
              "#fb9f3a"
             ],
             [
              0.8888888888888888,
              "#fdca26"
             ],
             [
              1,
              "#f0f921"
             ]
            ],
            "type": "histogram2d"
           }
          ],
          "histogram2dcontour": [
           {
            "colorbar": {
             "outlinewidth": 0,
             "ticks": ""
            },
            "colorscale": [
             [
              0,
              "#0d0887"
             ],
             [
              0.1111111111111111,
              "#46039f"
             ],
             [
              0.2222222222222222,
              "#7201a8"
             ],
             [
              0.3333333333333333,
              "#9c179e"
             ],
             [
              0.4444444444444444,
              "#bd3786"
             ],
             [
              0.5555555555555556,
              "#d8576b"
             ],
             [
              0.6666666666666666,
              "#ed7953"
             ],
             [
              0.7777777777777778,
              "#fb9f3a"
             ],
             [
              0.8888888888888888,
              "#fdca26"
             ],
             [
              1,
              "#f0f921"
             ]
            ],
            "type": "histogram2dcontour"
           }
          ],
          "mesh3d": [
           {
            "colorbar": {
             "outlinewidth": 0,
             "ticks": ""
            },
            "type": "mesh3d"
           }
          ],
          "parcoords": [
           {
            "line": {
             "colorbar": {
              "outlinewidth": 0,
              "ticks": ""
             }
            },
            "type": "parcoords"
           }
          ],
          "pie": [
           {
            "automargin": true,
            "type": "pie"
           }
          ],
          "scatter": [
           {
            "fillpattern": {
             "fillmode": "overlay",
             "size": 10,
             "solidity": 0.2
            },
            "type": "scatter"
           }
          ],
          "scatter3d": [
           {
            "line": {
             "colorbar": {
              "outlinewidth": 0,
              "ticks": ""
             }
            },
            "marker": {
             "colorbar": {
              "outlinewidth": 0,
              "ticks": ""
             }
            },
            "type": "scatter3d"
           }
          ],
          "scattercarpet": [
           {
            "marker": {
             "colorbar": {
              "outlinewidth": 0,
              "ticks": ""
             }
            },
            "type": "scattercarpet"
           }
          ],
          "scattergeo": [
           {
            "marker": {
             "colorbar": {
              "outlinewidth": 0,
              "ticks": ""
             }
            },
            "type": "scattergeo"
           }
          ],
          "scattergl": [
           {
            "marker": {
             "colorbar": {
              "outlinewidth": 0,
              "ticks": ""
             }
            },
            "type": "scattergl"
           }
          ],
          "scattermapbox": [
           {
            "marker": {
             "colorbar": {
              "outlinewidth": 0,
              "ticks": ""
             }
            },
            "type": "scattermapbox"
           }
          ],
          "scatterpolar": [
           {
            "marker": {
             "colorbar": {
              "outlinewidth": 0,
              "ticks": ""
             }
            },
            "type": "scatterpolar"
           }
          ],
          "scatterpolargl": [
           {
            "marker": {
             "colorbar": {
              "outlinewidth": 0,
              "ticks": ""
             }
            },
            "type": "scatterpolargl"
           }
          ],
          "scatterternary": [
           {
            "marker": {
             "colorbar": {
              "outlinewidth": 0,
              "ticks": ""
             }
            },
            "type": "scatterternary"
           }
          ],
          "surface": [
           {
            "colorbar": {
             "outlinewidth": 0,
             "ticks": ""
            },
            "colorscale": [
             [
              0,
              "#0d0887"
             ],
             [
              0.1111111111111111,
              "#46039f"
             ],
             [
              0.2222222222222222,
              "#7201a8"
             ],
             [
              0.3333333333333333,
              "#9c179e"
             ],
             [
              0.4444444444444444,
              "#bd3786"
             ],
             [
              0.5555555555555556,
              "#d8576b"
             ],
             [
              0.6666666666666666,
              "#ed7953"
             ],
             [
              0.7777777777777778,
              "#fb9f3a"
             ],
             [
              0.8888888888888888,
              "#fdca26"
             ],
             [
              1,
              "#f0f921"
             ]
            ],
            "type": "surface"
           }
          ],
          "table": [
           {
            "cells": {
             "fill": {
              "color": "#EBF0F8"
             },
             "line": {
              "color": "white"
             }
            },
            "header": {
             "fill": {
              "color": "#C8D4E3"
             },
             "line": {
              "color": "white"
             }
            },
            "type": "table"
           }
          ]
         },
         "layout": {
          "annotationdefaults": {
           "arrowcolor": "#2a3f5f",
           "arrowhead": 0,
           "arrowwidth": 1
          },
          "autotypenumbers": "strict",
          "coloraxis": {
           "colorbar": {
            "outlinewidth": 0,
            "ticks": ""
           }
          },
          "colorscale": {
           "diverging": [
            [
             0,
             "#8e0152"
            ],
            [
             0.1,
             "#c51b7d"
            ],
            [
             0.2,
             "#de77ae"
            ],
            [
             0.3,
             "#f1b6da"
            ],
            [
             0.4,
             "#fde0ef"
            ],
            [
             0.5,
             "#f7f7f7"
            ],
            [
             0.6,
             "#e6f5d0"
            ],
            [
             0.7,
             "#b8e186"
            ],
            [
             0.8,
             "#7fbc41"
            ],
            [
             0.9,
             "#4d9221"
            ],
            [
             1,
             "#276419"
            ]
           ],
           "sequential": [
            [
             0,
             "#0d0887"
            ],
            [
             0.1111111111111111,
             "#46039f"
            ],
            [
             0.2222222222222222,
             "#7201a8"
            ],
            [
             0.3333333333333333,
             "#9c179e"
            ],
            [
             0.4444444444444444,
             "#bd3786"
            ],
            [
             0.5555555555555556,
             "#d8576b"
            ],
            [
             0.6666666666666666,
             "#ed7953"
            ],
            [
             0.7777777777777778,
             "#fb9f3a"
            ],
            [
             0.8888888888888888,
             "#fdca26"
            ],
            [
             1,
             "#f0f921"
            ]
           ],
           "sequentialminus": [
            [
             0,
             "#0d0887"
            ],
            [
             0.1111111111111111,
             "#46039f"
            ],
            [
             0.2222222222222222,
             "#7201a8"
            ],
            [
             0.3333333333333333,
             "#9c179e"
            ],
            [
             0.4444444444444444,
             "#bd3786"
            ],
            [
             0.5555555555555556,
             "#d8576b"
            ],
            [
             0.6666666666666666,
             "#ed7953"
            ],
            [
             0.7777777777777778,
             "#fb9f3a"
            ],
            [
             0.8888888888888888,
             "#fdca26"
            ],
            [
             1,
             "#f0f921"
            ]
           ]
          },
          "colorway": [
           "#636efa",
           "#EF553B",
           "#00cc96",
           "#ab63fa",
           "#FFA15A",
           "#19d3f3",
           "#FF6692",
           "#B6E880",
           "#FF97FF",
           "#FECB52"
          ],
          "font": {
           "color": "#2a3f5f"
          },
          "geo": {
           "bgcolor": "white",
           "lakecolor": "white",
           "landcolor": "#E5ECF6",
           "showlakes": true,
           "showland": true,
           "subunitcolor": "white"
          },
          "hoverlabel": {
           "align": "left"
          },
          "hovermode": "closest",
          "mapbox": {
           "style": "light"
          },
          "paper_bgcolor": "white",
          "plot_bgcolor": "#E5ECF6",
          "polar": {
           "angularaxis": {
            "gridcolor": "white",
            "linecolor": "white",
            "ticks": ""
           },
           "bgcolor": "#E5ECF6",
           "radialaxis": {
            "gridcolor": "white",
            "linecolor": "white",
            "ticks": ""
           }
          },
          "scene": {
           "xaxis": {
            "backgroundcolor": "#E5ECF6",
            "gridcolor": "white",
            "gridwidth": 2,
            "linecolor": "white",
            "showbackground": true,
            "ticks": "",
            "zerolinecolor": "white"
           },
           "yaxis": {
            "backgroundcolor": "#E5ECF6",
            "gridcolor": "white",
            "gridwidth": 2,
            "linecolor": "white",
            "showbackground": true,
            "ticks": "",
            "zerolinecolor": "white"
           },
           "zaxis": {
            "backgroundcolor": "#E5ECF6",
            "gridcolor": "white",
            "gridwidth": 2,
            "linecolor": "white",
            "showbackground": true,
            "ticks": "",
            "zerolinecolor": "white"
           }
          },
          "shapedefaults": {
           "line": {
            "color": "#2a3f5f"
           }
          },
          "ternary": {
           "aaxis": {
            "gridcolor": "white",
            "linecolor": "white",
            "ticks": ""
           },
           "baxis": {
            "gridcolor": "white",
            "linecolor": "white",
            "ticks": ""
           },
           "bgcolor": "#E5ECF6",
           "caxis": {
            "gridcolor": "white",
            "linecolor": "white",
            "ticks": ""
           }
          },
          "title": {
           "x": 0.05
          },
          "xaxis": {
           "automargin": true,
           "gridcolor": "white",
           "linecolor": "white",
           "ticks": "",
           "title": {
            "standoff": 15
           },
           "zerolinecolor": "white",
           "zerolinewidth": 2
          },
          "yaxis": {
           "automargin": true,
           "gridcolor": "white",
           "linecolor": "white",
           "ticks": "",
           "title": {
            "standoff": 15
           },
           "zerolinecolor": "white",
           "zerolinewidth": 2
          }
         }
        },
        "title": {
         "text": "Elastic Net Performance"
        },
        "xaxis": {
         "anchor": "y",
         "domain": [
          0,
          1
         ],
         "title": {
          "text": "L1_Ratio"
         }
        },
        "yaxis": {
         "anchor": "x",
         "domain": [
          0,
          1
         ],
         "title": {
          "text": "R^2 value"
         }
        }
       }
      },
      "text/html": [
       "<div>                            <div id=\"3b56e3b1-32f9-4956-916b-7229788c04c3\" class=\"plotly-graph-div\" style=\"height:525px; width:100%;\"></div>            <script type=\"text/javascript\">                require([\"plotly\"], function(Plotly) {                    window.PLOTLYENV=window.PLOTLYENV || {};                                    if (document.getElementById(\"3b56e3b1-32f9-4956-916b-7229788c04c3\")) {                    Plotly.newPlot(                        \"3b56e3b1-32f9-4956-916b-7229788c04c3\",                        [{\"hovertemplate\":\"variable=alpha_0.0001<br>L1_Ratio=%{x}<br>value=%{y}<extra></extra>\",\"legendgroup\":\"alpha_0.0001\",\"line\":{\"color\":\"#636efa\",\"dash\":\"solid\"},\"marker\":{\"symbol\":\"circle\"},\"mode\":\"lines\",\"name\":\"alpha_0.0001\",\"orientation\":\"v\",\"showlegend\":true,\"x\":[0.0,0.1,0.2,0.30000000000000004,0.4,0.5,0.6000000000000001,0.7000000000000001,0.8,0.9],\"xaxis\":\"x\",\"y\":[0.41250335367311014,0.4170167734943755,0.42152704271054786,0.42561024207053044,0.4296452756600864,0.43351642218273734,0.43717145516794476,0.44071243192617954,0.4440432248180083,0.44668875135961184],\"yaxis\":\"y\",\"type\":\"scatter\"},{\"hovertemplate\":\"variable=alpha_0.001<br>L1_Ratio=%{x}<br>value=%{y}<extra></extra>\",\"legendgroup\":\"alpha_0.001\",\"line\":{\"color\":\"#EF553B\",\"dash\":\"solid\"},\"marker\":{\"symbol\":\"circle\"},\"mode\":\"lines\",\"name\":\"alpha_0.001\",\"orientation\":\"v\",\"showlegend\":true,\"x\":[0.0,0.1,0.2,0.30000000000000004,0.4,0.5,0.6000000000000001,0.7000000000000001,0.8,0.9],\"xaxis\":\"x\",\"y\":[0.42996792138320983,0.4589575794637657,0.4782959096096938,0.4939117614974046,0.5075543992868458,0.5235076593183796,0.535755529345421,0.5484234661590781,0.5552448355621327,0.5614485446850032],\"yaxis\":\"y\",\"type\":\"scatter\"},{\"hovertemplate\":\"variable=alpha_0.01<br>L1_Ratio=%{x}<br>value=%{y}<extra></extra>\",\"legendgroup\":\"alpha_0.01\",\"line\":{\"color\":\"#00cc96\",\"dash\":\"solid\"},\"marker\":{\"symbol\":\"circle\"},\"mode\":\"lines\",\"name\":\"alpha_0.01\",\"orientation\":\"v\",\"showlegend\":true,\"x\":[0.0,0.1,0.2,0.30000000000000004,0.4,0.5,0.6000000000000001,0.7000000000000001,0.8,0.9],\"xaxis\":\"x\",\"y\":[0.49555618452492195,0.5911023235919731,0.6229686187010157,0.6439559242109014,0.6567122176860305,0.664380274020506,0.671273904467799,0.677020360123271,0.6795427255777736,0.6810284396332944],\"yaxis\":\"y\",\"type\":\"scatter\"},{\"hovertemplate\":\"variable=alpha_0.1<br>L1_Ratio=%{x}<br>value=%{y}<extra></extra>\",\"legendgroup\":\"alpha_0.1\",\"line\":{\"color\":\"#ab63fa\",\"dash\":\"solid\"},\"marker\":{\"symbol\":\"circle\"},\"mode\":\"lines\",\"name\":\"alpha_0.1\",\"orientation\":\"v\",\"showlegend\":true,\"x\":[0.0,0.1,0.2,0.30000000000000004,0.4,0.5,0.6000000000000001,0.7000000000000001,0.8,0.9],\"xaxis\":\"x\",\"y\":[0.5735475183654757,0.6772637074593431,0.6750615637556615,0.6385430943649633,0.5782651692898766,0.49288351418737564,0.3809763121957147,0.24103917320388804,0.07147973196361138,-0.1293881559457851],\"yaxis\":\"y\",\"type\":\"scatter\"},{\"hovertemplate\":\"variable=alpha_1<br>L1_Ratio=%{x}<br>value=%{y}<extra></extra>\",\"legendgroup\":\"alpha_1\",\"line\":{\"color\":\"#FFA15A\",\"dash\":\"solid\"},\"marker\":{\"symbol\":\"circle\"},\"mode\":\"lines\",\"name\":\"alpha_1\",\"orientation\":\"v\",\"showlegend\":true,\"x\":[0.0,0.1,0.2,0.30000000000000004,0.4,0.5,0.6000000000000001,0.7000000000000001,0.8,0.9],\"xaxis\":\"x\",\"y\":[0.5009058179914975,-0.40806932173491084,-0.48010106086469795,-0.48010106086469795,-0.48010106086469795,-0.48010106086469795,-0.48010106086469795,-0.48010106086469795,-0.48010106086469795,-0.48010106086469795],\"yaxis\":\"y\",\"type\":\"scatter\"},{\"hovertemplate\":\"variable=alpha_10<br>L1_Ratio=%{x}<br>value=%{y}<extra></extra>\",\"legendgroup\":\"alpha_10\",\"line\":{\"color\":\"#19d3f3\",\"dash\":\"solid\"},\"marker\":{\"symbol\":\"circle\"},\"mode\":\"lines\",\"name\":\"alpha_10\",\"orientation\":\"v\",\"showlegend\":true,\"x\":[0.0,0.1,0.2,0.30000000000000004,0.4,0.5,0.6000000000000001,0.7000000000000001,0.8,0.9],\"xaxis\":\"x\",\"y\":[0.013594297801383881,-0.48010106086469795,-0.48010106086469795,-0.48010106086469795,-0.48010106086469795,-0.48010106086469795,-0.48010106086469795,-0.48010106086469795,-0.48010106086469795,-0.48010106086469795],\"yaxis\":\"y\",\"type\":\"scatter\"},{\"hovertemplate\":\"variable=alpha_100<br>L1_Ratio=%{x}<br>value=%{y}<extra></extra>\",\"legendgroup\":\"alpha_100\",\"line\":{\"color\":\"#FF6692\",\"dash\":\"solid\"},\"marker\":{\"symbol\":\"circle\"},\"mode\":\"lines\",\"name\":\"alpha_100\",\"orientation\":\"v\",\"showlegend\":true,\"x\":[0.0,0.1,0.2,0.30000000000000004,0.4,0.5,0.6000000000000001,0.7000000000000001,0.8,0.9],\"xaxis\":\"x\",\"y\":[-0.38307293209105775,-0.48010106086469795,-0.48010106086469795,-0.48010106086469795,-0.48010106086469795,-0.48010106086469795,-0.48010106086469795,-0.48010106086469795,-0.48010106086469795,-0.48010106086469795],\"yaxis\":\"y\",\"type\":\"scatter\"}],                        {\"template\":{\"data\":{\"histogram2dcontour\":[{\"type\":\"histogram2dcontour\",\"colorbar\":{\"outlinewidth\":0,\"ticks\":\"\"},\"colorscale\":[[0.0,\"#0d0887\"],[0.1111111111111111,\"#46039f\"],[0.2222222222222222,\"#7201a8\"],[0.3333333333333333,\"#9c179e\"],[0.4444444444444444,\"#bd3786\"],[0.5555555555555556,\"#d8576b\"],[0.6666666666666666,\"#ed7953\"],[0.7777777777777778,\"#fb9f3a\"],[0.8888888888888888,\"#fdca26\"],[1.0,\"#f0f921\"]]}],\"choropleth\":[{\"type\":\"choropleth\",\"colorbar\":{\"outlinewidth\":0,\"ticks\":\"\"}}],\"histogram2d\":[{\"type\":\"histogram2d\",\"colorbar\":{\"outlinewidth\":0,\"ticks\":\"\"},\"colorscale\":[[0.0,\"#0d0887\"],[0.1111111111111111,\"#46039f\"],[0.2222222222222222,\"#7201a8\"],[0.3333333333333333,\"#9c179e\"],[0.4444444444444444,\"#bd3786\"],[0.5555555555555556,\"#d8576b\"],[0.6666666666666666,\"#ed7953\"],[0.7777777777777778,\"#fb9f3a\"],[0.8888888888888888,\"#fdca26\"],[1.0,\"#f0f921\"]]}],\"heatmap\":[{\"type\":\"heatmap\",\"colorbar\":{\"outlinewidth\":0,\"ticks\":\"\"},\"colorscale\":[[0.0,\"#0d0887\"],[0.1111111111111111,\"#46039f\"],[0.2222222222222222,\"#7201a8\"],[0.3333333333333333,\"#9c179e\"],[0.4444444444444444,\"#bd3786\"],[0.5555555555555556,\"#d8576b\"],[0.6666666666666666,\"#ed7953\"],[0.7777777777777778,\"#fb9f3a\"],[0.8888888888888888,\"#fdca26\"],[1.0,\"#f0f921\"]]}],\"heatmapgl\":[{\"type\":\"heatmapgl\",\"colorbar\":{\"outlinewidth\":0,\"ticks\":\"\"},\"colorscale\":[[0.0,\"#0d0887\"],[0.1111111111111111,\"#46039f\"],[0.2222222222222222,\"#7201a8\"],[0.3333333333333333,\"#9c179e\"],[0.4444444444444444,\"#bd3786\"],[0.5555555555555556,\"#d8576b\"],[0.6666666666666666,\"#ed7953\"],[0.7777777777777778,\"#fb9f3a\"],[0.8888888888888888,\"#fdca26\"],[1.0,\"#f0f921\"]]}],\"contourcarpet\":[{\"type\":\"contourcarpet\",\"colorbar\":{\"outlinewidth\":0,\"ticks\":\"\"}}],\"contour\":[{\"type\":\"contour\",\"colorbar\":{\"outlinewidth\":0,\"ticks\":\"\"},\"colorscale\":[[0.0,\"#0d0887\"],[0.1111111111111111,\"#46039f\"],[0.2222222222222222,\"#7201a8\"],[0.3333333333333333,\"#9c179e\"],[0.4444444444444444,\"#bd3786\"],[0.5555555555555556,\"#d8576b\"],[0.6666666666666666,\"#ed7953\"],[0.7777777777777778,\"#fb9f3a\"],[0.8888888888888888,\"#fdca26\"],[1.0,\"#f0f921\"]]}],\"surface\":[{\"type\":\"surface\",\"colorbar\":{\"outlinewidth\":0,\"ticks\":\"\"},\"colorscale\":[[0.0,\"#0d0887\"],[0.1111111111111111,\"#46039f\"],[0.2222222222222222,\"#7201a8\"],[0.3333333333333333,\"#9c179e\"],[0.4444444444444444,\"#bd3786\"],[0.5555555555555556,\"#d8576b\"],[0.6666666666666666,\"#ed7953\"],[0.7777777777777778,\"#fb9f3a\"],[0.8888888888888888,\"#fdca26\"],[1.0,\"#f0f921\"]]}],\"mesh3d\":[{\"type\":\"mesh3d\",\"colorbar\":{\"outlinewidth\":0,\"ticks\":\"\"}}],\"scatter\":[{\"fillpattern\":{\"fillmode\":\"overlay\",\"size\":10,\"solidity\":0.2},\"type\":\"scatter\"}],\"parcoords\":[{\"type\":\"parcoords\",\"line\":{\"colorbar\":{\"outlinewidth\":0,\"ticks\":\"\"}}}],\"scatterpolargl\":[{\"type\":\"scatterpolargl\",\"marker\":{\"colorbar\":{\"outlinewidth\":0,\"ticks\":\"\"}}}],\"bar\":[{\"error_x\":{\"color\":\"#2a3f5f\"},\"error_y\":{\"color\":\"#2a3f5f\"},\"marker\":{\"line\":{\"color\":\"#E5ECF6\",\"width\":0.5},\"pattern\":{\"fillmode\":\"overlay\",\"size\":10,\"solidity\":0.2}},\"type\":\"bar\"}],\"scattergeo\":[{\"type\":\"scattergeo\",\"marker\":{\"colorbar\":{\"outlinewidth\":0,\"ticks\":\"\"}}}],\"scatterpolar\":[{\"type\":\"scatterpolar\",\"marker\":{\"colorbar\":{\"outlinewidth\":0,\"ticks\":\"\"}}}],\"histogram\":[{\"marker\":{\"pattern\":{\"fillmode\":\"overlay\",\"size\":10,\"solidity\":0.2}},\"type\":\"histogram\"}],\"scattergl\":[{\"type\":\"scattergl\",\"marker\":{\"colorbar\":{\"outlinewidth\":0,\"ticks\":\"\"}}}],\"scatter3d\":[{\"type\":\"scatter3d\",\"line\":{\"colorbar\":{\"outlinewidth\":0,\"ticks\":\"\"}},\"marker\":{\"colorbar\":{\"outlinewidth\":0,\"ticks\":\"\"}}}],\"scattermapbox\":[{\"type\":\"scattermapbox\",\"marker\":{\"colorbar\":{\"outlinewidth\":0,\"ticks\":\"\"}}}],\"scatterternary\":[{\"type\":\"scatterternary\",\"marker\":{\"colorbar\":{\"outlinewidth\":0,\"ticks\":\"\"}}}],\"scattercarpet\":[{\"type\":\"scattercarpet\",\"marker\":{\"colorbar\":{\"outlinewidth\":0,\"ticks\":\"\"}}}],\"carpet\":[{\"aaxis\":{\"endlinecolor\":\"#2a3f5f\",\"gridcolor\":\"white\",\"linecolor\":\"white\",\"minorgridcolor\":\"white\",\"startlinecolor\":\"#2a3f5f\"},\"baxis\":{\"endlinecolor\":\"#2a3f5f\",\"gridcolor\":\"white\",\"linecolor\":\"white\",\"minorgridcolor\":\"white\",\"startlinecolor\":\"#2a3f5f\"},\"type\":\"carpet\"}],\"table\":[{\"cells\":{\"fill\":{\"color\":\"#EBF0F8\"},\"line\":{\"color\":\"white\"}},\"header\":{\"fill\":{\"color\":\"#C8D4E3\"},\"line\":{\"color\":\"white\"}},\"type\":\"table\"}],\"barpolar\":[{\"marker\":{\"line\":{\"color\":\"#E5ECF6\",\"width\":0.5},\"pattern\":{\"fillmode\":\"overlay\",\"size\":10,\"solidity\":0.2}},\"type\":\"barpolar\"}],\"pie\":[{\"automargin\":true,\"type\":\"pie\"}]},\"layout\":{\"autotypenumbers\":\"strict\",\"colorway\":[\"#636efa\",\"#EF553B\",\"#00cc96\",\"#ab63fa\",\"#FFA15A\",\"#19d3f3\",\"#FF6692\",\"#B6E880\",\"#FF97FF\",\"#FECB52\"],\"font\":{\"color\":\"#2a3f5f\"},\"hovermode\":\"closest\",\"hoverlabel\":{\"align\":\"left\"},\"paper_bgcolor\":\"white\",\"plot_bgcolor\":\"#E5ECF6\",\"polar\":{\"bgcolor\":\"#E5ECF6\",\"angularaxis\":{\"gridcolor\":\"white\",\"linecolor\":\"white\",\"ticks\":\"\"},\"radialaxis\":{\"gridcolor\":\"white\",\"linecolor\":\"white\",\"ticks\":\"\"}},\"ternary\":{\"bgcolor\":\"#E5ECF6\",\"aaxis\":{\"gridcolor\":\"white\",\"linecolor\":\"white\",\"ticks\":\"\"},\"baxis\":{\"gridcolor\":\"white\",\"linecolor\":\"white\",\"ticks\":\"\"},\"caxis\":{\"gridcolor\":\"white\",\"linecolor\":\"white\",\"ticks\":\"\"}},\"coloraxis\":{\"colorbar\":{\"outlinewidth\":0,\"ticks\":\"\"}},\"colorscale\":{\"sequential\":[[0.0,\"#0d0887\"],[0.1111111111111111,\"#46039f\"],[0.2222222222222222,\"#7201a8\"],[0.3333333333333333,\"#9c179e\"],[0.4444444444444444,\"#bd3786\"],[0.5555555555555556,\"#d8576b\"],[0.6666666666666666,\"#ed7953\"],[0.7777777777777778,\"#fb9f3a\"],[0.8888888888888888,\"#fdca26\"],[1.0,\"#f0f921\"]],\"sequentialminus\":[[0.0,\"#0d0887\"],[0.1111111111111111,\"#46039f\"],[0.2222222222222222,\"#7201a8\"],[0.3333333333333333,\"#9c179e\"],[0.4444444444444444,\"#bd3786\"],[0.5555555555555556,\"#d8576b\"],[0.6666666666666666,\"#ed7953\"],[0.7777777777777778,\"#fb9f3a\"],[0.8888888888888888,\"#fdca26\"],[1.0,\"#f0f921\"]],\"diverging\":[[0,\"#8e0152\"],[0.1,\"#c51b7d\"],[0.2,\"#de77ae\"],[0.3,\"#f1b6da\"],[0.4,\"#fde0ef\"],[0.5,\"#f7f7f7\"],[0.6,\"#e6f5d0\"],[0.7,\"#b8e186\"],[0.8,\"#7fbc41\"],[0.9,\"#4d9221\"],[1,\"#276419\"]]},\"xaxis\":{\"gridcolor\":\"white\",\"linecolor\":\"white\",\"ticks\":\"\",\"title\":{\"standoff\":15},\"zerolinecolor\":\"white\",\"automargin\":true,\"zerolinewidth\":2},\"yaxis\":{\"gridcolor\":\"white\",\"linecolor\":\"white\",\"ticks\":\"\",\"title\":{\"standoff\":15},\"zerolinecolor\":\"white\",\"automargin\":true,\"zerolinewidth\":2},\"scene\":{\"xaxis\":{\"backgroundcolor\":\"#E5ECF6\",\"gridcolor\":\"white\",\"linecolor\":\"white\",\"showbackground\":true,\"ticks\":\"\",\"zerolinecolor\":\"white\",\"gridwidth\":2},\"yaxis\":{\"backgroundcolor\":\"#E5ECF6\",\"gridcolor\":\"white\",\"linecolor\":\"white\",\"showbackground\":true,\"ticks\":\"\",\"zerolinecolor\":\"white\",\"gridwidth\":2},\"zaxis\":{\"backgroundcolor\":\"#E5ECF6\",\"gridcolor\":\"white\",\"linecolor\":\"white\",\"showbackground\":true,\"ticks\":\"\",\"zerolinecolor\":\"white\",\"gridwidth\":2}},\"shapedefaults\":{\"line\":{\"color\":\"#2a3f5f\"}},\"annotationdefaults\":{\"arrowcolor\":\"#2a3f5f\",\"arrowhead\":0,\"arrowwidth\":1},\"geo\":{\"bgcolor\":\"white\",\"landcolor\":\"#E5ECF6\",\"subunitcolor\":\"white\",\"showland\":true,\"showlakes\":true,\"lakecolor\":\"white\"},\"title\":{\"x\":0.05},\"mapbox\":{\"style\":\"light\"}}},\"xaxis\":{\"anchor\":\"y\",\"domain\":[0.0,1.0],\"title\":{\"text\":\"L1_Ratio\"}},\"yaxis\":{\"anchor\":\"x\",\"domain\":[0.0,1.0],\"title\":{\"text\":\"R^2 value\"}},\"legend\":{\"title\":{\"text\":\"variable\"},\"tracegroupgap\":0},\"title\":{\"text\":\"Elastic Net Performance\"}},                        {\"responsive\": true}                    ).then(function(){\n",
       "                            \n",
       "var gd = document.getElementById('3b56e3b1-32f9-4956-916b-7229788c04c3');\n",
       "var x = new MutationObserver(function (mutations, observer) {{\n",
       "        var display = window.getComputedStyle(gd).display;\n",
       "        if (!display || display === 'none') {{\n",
       "            console.log([gd, 'removed!']);\n",
       "            Plotly.purge(gd);\n",
       "            observer.disconnect();\n",
       "        }}\n",
       "}});\n",
       "\n",
       "// Listen for the removal of the full notebook cells\n",
       "var notebookContainer = gd.closest('#notebook-container');\n",
       "if (notebookContainer) {{\n",
       "    x.observe(notebookContainer, {childList: true});\n",
       "}}\n",
       "\n",
       "// Listen for the clearing of the current output cell\n",
       "var outputEl = gd.closest('.output');\n",
       "if (outputEl) {{\n",
       "    x.observe(outputEl, {childList: true});\n",
       "}}\n",
       "\n",
       "                        })                };                });            </script>        </div>"
      ]
     },
     "metadata": {},
     "output_type": "display_data"
    },
    {
     "name": "stdout",
     "output_type": "stream",
     "text": [
      "The best performing Elastic Net regression model had an L1 ratio of 0.9 (i.e. 90.0% Lasso regression)\n",
      "together with penalty coefficient of 0.01\n",
      "This gave a mean R^2 score of 0.6810284396332944 across the 10 folds of the training data.\n",
      "\n",
      "\n",
      "\n",
      "\n",
      "Training set score: 0.8815396238161664\n",
      "Test set score: 0.8915102018670907\n"
     ]
    }
   ],
   "source": [
    "pipe_elastic_net = Pipeline([\n",
    "    ('scaler', preprocessing.StandardScaler()), \n",
    "    ('classifier', ElasticNet())\n",
    "])\n",
    "\n",
    "\n",
    "alphas = [0.0001, 0.001, 0.01, 0.1, 1, 10, 100]\n",
    "l1_ratios = np.arange(0.0, 1.0, 0.1)\n",
    "\n",
    "\n",
    "\n",
    "with warnings.catch_warnings():\n",
    "    warnings.simplefilter(\"ignore\")\n",
    "    search = GridSearchCV(pipe_elastic_net, {\"classifier__alpha\": alphas,\n",
    "                               \"classifier__l1_ratio\": l1_ratios},\n",
    "                        scoring=PERFORMANCE_METRIC, cv=CROSS_FOLDS)\n",
    "    search.fit(X_train, Y_train)\n",
    "    \n",
    "# predY = grid.predict(testX)\n",
    "\n",
    "\n",
    "scores_mean = search.cv_results_['mean_test_score'].reshape(len(alphas),\n",
    "                                                          len(l1_ratios))\n",
    "\n",
    "\n",
    "elastic_net_performance = pd.DataFrame({\n",
    "    \"L1_Ratio\" : l1_ratios\n",
    "})\n",
    "\n",
    "for idx, val in enumerate(alphas):\n",
    "    alpha_str = \"alpha_\" + str(val)\n",
    "    elastic_net_performance[alpha_str] = scores_mean[idx,:]\n",
    "    \n",
    "fig = px.line(elastic_net_performance, x=\"L1_Ratio\",\n",
    "                  y=[col for col in elastic_net_performance.columns if 'alpha' in col],\n",
    "                 title=\"Elastic Net Performance\").update_layout(\n",
    "    yaxis_title=\"R^2 value\"\n",
    ")\n",
    "fig.show()\n",
    "\n",
    "\n",
    "\n",
    "print(f\"The best performing Elastic Net regression model had an L1 ratio of {search.best_params_['classifier__l1_ratio']}\" + \n",
    "     f\" (i.e. {100*search.best_params_['classifier__l1_ratio']}% Lasso regression)\\n\" +\n",
    "     f\"together with penalty coefficient of {search.best_params_['classifier__alpha']}\" +\n",
    "     \"\\nThis gave a mean R^2 score of \" +\n",
    "     f\"{search.best_score_} across the {CROSS_FOLDS} folds of the training data.\\n\")\n",
    "\n",
    "print(\"\\n\\n\")\n",
    "print('Training set score: ' + str(search.score(X_train, Y_train)))\n",
    "print('Test set score: ' + str(search.score(X_test, Y_test)))"
   ]
  },
  {
   "cell_type": "code",
   "execution_count": 16,
   "id": "f2fa599c",
   "metadata": {},
   "outputs": [
    {
     "data": {
      "text/html": [
       "<style>#sk-container-id-1 {\n",
       "  /* Definition of color scheme common for light and dark mode */\n",
       "  --sklearn-color-text: black;\n",
       "  --sklearn-color-line: gray;\n",
       "  /* Definition of color scheme for unfitted estimators */\n",
       "  --sklearn-color-unfitted-level-0: #fff5e6;\n",
       "  --sklearn-color-unfitted-level-1: #f6e4d2;\n",
       "  --sklearn-color-unfitted-level-2: #ffe0b3;\n",
       "  --sklearn-color-unfitted-level-3: chocolate;\n",
       "  /* Definition of color scheme for fitted estimators */\n",
       "  --sklearn-color-fitted-level-0: #f0f8ff;\n",
       "  --sklearn-color-fitted-level-1: #d4ebff;\n",
       "  --sklearn-color-fitted-level-2: #b3dbfd;\n",
       "  --sklearn-color-fitted-level-3: cornflowerblue;\n",
       "\n",
       "  /* Specific color for light theme */\n",
       "  --sklearn-color-text-on-default-background: var(--sg-text-color, var(--theme-code-foreground, var(--jp-content-font-color1, black)));\n",
       "  --sklearn-color-background: var(--sg-background-color, var(--theme-background, var(--jp-layout-color0, white)));\n",
       "  --sklearn-color-border-box: var(--sg-text-color, var(--theme-code-foreground, var(--jp-content-font-color1, black)));\n",
       "  --sklearn-color-icon: #696969;\n",
       "\n",
       "  @media (prefers-color-scheme: dark) {\n",
       "    /* Redefinition of color scheme for dark theme */\n",
       "    --sklearn-color-text-on-default-background: var(--sg-text-color, var(--theme-code-foreground, var(--jp-content-font-color1, white)));\n",
       "    --sklearn-color-background: var(--sg-background-color, var(--theme-background, var(--jp-layout-color0, #111)));\n",
       "    --sklearn-color-border-box: var(--sg-text-color, var(--theme-code-foreground, var(--jp-content-font-color1, white)));\n",
       "    --sklearn-color-icon: #878787;\n",
       "  }\n",
       "}\n",
       "\n",
       "#sk-container-id-1 {\n",
       "  color: var(--sklearn-color-text);\n",
       "}\n",
       "\n",
       "#sk-container-id-1 pre {\n",
       "  padding: 0;\n",
       "}\n",
       "\n",
       "#sk-container-id-1 input.sk-hidden--visually {\n",
       "  border: 0;\n",
       "  clip: rect(1px 1px 1px 1px);\n",
       "  clip: rect(1px, 1px, 1px, 1px);\n",
       "  height: 1px;\n",
       "  margin: -1px;\n",
       "  overflow: hidden;\n",
       "  padding: 0;\n",
       "  position: absolute;\n",
       "  width: 1px;\n",
       "}\n",
       "\n",
       "#sk-container-id-1 div.sk-dashed-wrapped {\n",
       "  border: 1px dashed var(--sklearn-color-line);\n",
       "  margin: 0 0.4em 0.5em 0.4em;\n",
       "  box-sizing: border-box;\n",
       "  padding-bottom: 0.4em;\n",
       "  background-color: var(--sklearn-color-background);\n",
       "}\n",
       "\n",
       "#sk-container-id-1 div.sk-container {\n",
       "  /* jupyter's `normalize.less` sets `[hidden] { display: none; }`\n",
       "     but bootstrap.min.css set `[hidden] { display: none !important; }`\n",
       "     so we also need the `!important` here to be able to override the\n",
       "     default hidden behavior on the sphinx rendered scikit-learn.org.\n",
       "     See: https://github.com/scikit-learn/scikit-learn/issues/21755 */\n",
       "  display: inline-block !important;\n",
       "  position: relative;\n",
       "}\n",
       "\n",
       "#sk-container-id-1 div.sk-text-repr-fallback {\n",
       "  display: none;\n",
       "}\n",
       "\n",
       "div.sk-parallel-item,\n",
       "div.sk-serial,\n",
       "div.sk-item {\n",
       "  /* draw centered vertical line to link estimators */\n",
       "  background-image: linear-gradient(var(--sklearn-color-text-on-default-background), var(--sklearn-color-text-on-default-background));\n",
       "  background-size: 2px 100%;\n",
       "  background-repeat: no-repeat;\n",
       "  background-position: center center;\n",
       "}\n",
       "\n",
       "/* Parallel-specific style estimator block */\n",
       "\n",
       "#sk-container-id-1 div.sk-parallel-item::after {\n",
       "  content: \"\";\n",
       "  width: 100%;\n",
       "  border-bottom: 2px solid var(--sklearn-color-text-on-default-background);\n",
       "  flex-grow: 1;\n",
       "}\n",
       "\n",
       "#sk-container-id-1 div.sk-parallel {\n",
       "  display: flex;\n",
       "  align-items: stretch;\n",
       "  justify-content: center;\n",
       "  background-color: var(--sklearn-color-background);\n",
       "  position: relative;\n",
       "}\n",
       "\n",
       "#sk-container-id-1 div.sk-parallel-item {\n",
       "  display: flex;\n",
       "  flex-direction: column;\n",
       "}\n",
       "\n",
       "#sk-container-id-1 div.sk-parallel-item:first-child::after {\n",
       "  align-self: flex-end;\n",
       "  width: 50%;\n",
       "}\n",
       "\n",
       "#sk-container-id-1 div.sk-parallel-item:last-child::after {\n",
       "  align-self: flex-start;\n",
       "  width: 50%;\n",
       "}\n",
       "\n",
       "#sk-container-id-1 div.sk-parallel-item:only-child::after {\n",
       "  width: 0;\n",
       "}\n",
       "\n",
       "/* Serial-specific style estimator block */\n",
       "\n",
       "#sk-container-id-1 div.sk-serial {\n",
       "  display: flex;\n",
       "  flex-direction: column;\n",
       "  align-items: center;\n",
       "  background-color: var(--sklearn-color-background);\n",
       "  padding-right: 1em;\n",
       "  padding-left: 1em;\n",
       "}\n",
       "\n",
       "\n",
       "/* Toggleable style: style used for estimator/Pipeline/ColumnTransformer box that is\n",
       "clickable and can be expanded/collapsed.\n",
       "- Pipeline and ColumnTransformer use this feature and define the default style\n",
       "- Estimators will overwrite some part of the style using the `sk-estimator` class\n",
       "*/\n",
       "\n",
       "/* Pipeline and ColumnTransformer style (default) */\n",
       "\n",
       "#sk-container-id-1 div.sk-toggleable {\n",
       "  /* Default theme specific background. It is overwritten whether we have a\n",
       "  specific estimator or a Pipeline/ColumnTransformer */\n",
       "  background-color: var(--sklearn-color-background);\n",
       "}\n",
       "\n",
       "/* Toggleable label */\n",
       "#sk-container-id-1 label.sk-toggleable__label {\n",
       "  cursor: pointer;\n",
       "  display: block;\n",
       "  width: 100%;\n",
       "  margin-bottom: 0;\n",
       "  padding: 0.5em;\n",
       "  box-sizing: border-box;\n",
       "  text-align: center;\n",
       "}\n",
       "\n",
       "#sk-container-id-1 label.sk-toggleable__label-arrow:before {\n",
       "  /* Arrow on the left of the label */\n",
       "  content: \"▸\";\n",
       "  float: left;\n",
       "  margin-right: 0.25em;\n",
       "  color: var(--sklearn-color-icon);\n",
       "}\n",
       "\n",
       "#sk-container-id-1 label.sk-toggleable__label-arrow:hover:before {\n",
       "  color: var(--sklearn-color-text);\n",
       "}\n",
       "\n",
       "/* Toggleable content - dropdown */\n",
       "\n",
       "#sk-container-id-1 div.sk-toggleable__content {\n",
       "  max-height: 0;\n",
       "  max-width: 0;\n",
       "  overflow: hidden;\n",
       "  text-align: left;\n",
       "  /* unfitted */\n",
       "  background-color: var(--sklearn-color-unfitted-level-0);\n",
       "}\n",
       "\n",
       "#sk-container-id-1 div.sk-toggleable__content.fitted {\n",
       "  /* fitted */\n",
       "  background-color: var(--sklearn-color-fitted-level-0);\n",
       "}\n",
       "\n",
       "#sk-container-id-1 div.sk-toggleable__content pre {\n",
       "  margin: 0.2em;\n",
       "  border-radius: 0.25em;\n",
       "  color: var(--sklearn-color-text);\n",
       "  /* unfitted */\n",
       "  background-color: var(--sklearn-color-unfitted-level-0);\n",
       "}\n",
       "\n",
       "#sk-container-id-1 div.sk-toggleable__content.fitted pre {\n",
       "  /* unfitted */\n",
       "  background-color: var(--sklearn-color-fitted-level-0);\n",
       "}\n",
       "\n",
       "#sk-container-id-1 input.sk-toggleable__control:checked~div.sk-toggleable__content {\n",
       "  /* Expand drop-down */\n",
       "  max-height: 200px;\n",
       "  max-width: 100%;\n",
       "  overflow: auto;\n",
       "}\n",
       "\n",
       "#sk-container-id-1 input.sk-toggleable__control:checked~label.sk-toggleable__label-arrow:before {\n",
       "  content: \"▾\";\n",
       "}\n",
       "\n",
       "/* Pipeline/ColumnTransformer-specific style */\n",
       "\n",
       "#sk-container-id-1 div.sk-label input.sk-toggleable__control:checked~label.sk-toggleable__label {\n",
       "  color: var(--sklearn-color-text);\n",
       "  background-color: var(--sklearn-color-unfitted-level-2);\n",
       "}\n",
       "\n",
       "#sk-container-id-1 div.sk-label.fitted input.sk-toggleable__control:checked~label.sk-toggleable__label {\n",
       "  background-color: var(--sklearn-color-fitted-level-2);\n",
       "}\n",
       "\n",
       "/* Estimator-specific style */\n",
       "\n",
       "/* Colorize estimator box */\n",
       "#sk-container-id-1 div.sk-estimator input.sk-toggleable__control:checked~label.sk-toggleable__label {\n",
       "  /* unfitted */\n",
       "  background-color: var(--sklearn-color-unfitted-level-2);\n",
       "}\n",
       "\n",
       "#sk-container-id-1 div.sk-estimator.fitted input.sk-toggleable__control:checked~label.sk-toggleable__label {\n",
       "  /* fitted */\n",
       "  background-color: var(--sklearn-color-fitted-level-2);\n",
       "}\n",
       "\n",
       "#sk-container-id-1 div.sk-label label.sk-toggleable__label,\n",
       "#sk-container-id-1 div.sk-label label {\n",
       "  /* The background is the default theme color */\n",
       "  color: var(--sklearn-color-text-on-default-background);\n",
       "}\n",
       "\n",
       "/* On hover, darken the color of the background */\n",
       "#sk-container-id-1 div.sk-label:hover label.sk-toggleable__label {\n",
       "  color: var(--sklearn-color-text);\n",
       "  background-color: var(--sklearn-color-unfitted-level-2);\n",
       "}\n",
       "\n",
       "/* Label box, darken color on hover, fitted */\n",
       "#sk-container-id-1 div.sk-label.fitted:hover label.sk-toggleable__label.fitted {\n",
       "  color: var(--sklearn-color-text);\n",
       "  background-color: var(--sklearn-color-fitted-level-2);\n",
       "}\n",
       "\n",
       "/* Estimator label */\n",
       "\n",
       "#sk-container-id-1 div.sk-label label {\n",
       "  font-family: monospace;\n",
       "  font-weight: bold;\n",
       "  display: inline-block;\n",
       "  line-height: 1.2em;\n",
       "}\n",
       "\n",
       "#sk-container-id-1 div.sk-label-container {\n",
       "  text-align: center;\n",
       "}\n",
       "\n",
       "/* Estimator-specific */\n",
       "#sk-container-id-1 div.sk-estimator {\n",
       "  font-family: monospace;\n",
       "  border: 1px dotted var(--sklearn-color-border-box);\n",
       "  border-radius: 0.25em;\n",
       "  box-sizing: border-box;\n",
       "  margin-bottom: 0.5em;\n",
       "  /* unfitted */\n",
       "  background-color: var(--sklearn-color-unfitted-level-0);\n",
       "}\n",
       "\n",
       "#sk-container-id-1 div.sk-estimator.fitted {\n",
       "  /* fitted */\n",
       "  background-color: var(--sklearn-color-fitted-level-0);\n",
       "}\n",
       "\n",
       "/* on hover */\n",
       "#sk-container-id-1 div.sk-estimator:hover {\n",
       "  /* unfitted */\n",
       "  background-color: var(--sklearn-color-unfitted-level-2);\n",
       "}\n",
       "\n",
       "#sk-container-id-1 div.sk-estimator.fitted:hover {\n",
       "  /* fitted */\n",
       "  background-color: var(--sklearn-color-fitted-level-2);\n",
       "}\n",
       "\n",
       "/* Specification for estimator info (e.g. \"i\" and \"?\") */\n",
       "\n",
       "/* Common style for \"i\" and \"?\" */\n",
       "\n",
       ".sk-estimator-doc-link,\n",
       "a:link.sk-estimator-doc-link,\n",
       "a:visited.sk-estimator-doc-link {\n",
       "  float: right;\n",
       "  font-size: smaller;\n",
       "  line-height: 1em;\n",
       "  font-family: monospace;\n",
       "  background-color: var(--sklearn-color-background);\n",
       "  border-radius: 1em;\n",
       "  height: 1em;\n",
       "  width: 1em;\n",
       "  text-decoration: none !important;\n",
       "  margin-left: 1ex;\n",
       "  /* unfitted */\n",
       "  border: var(--sklearn-color-unfitted-level-1) 1pt solid;\n",
       "  color: var(--sklearn-color-unfitted-level-1);\n",
       "}\n",
       "\n",
       ".sk-estimator-doc-link.fitted,\n",
       "a:link.sk-estimator-doc-link.fitted,\n",
       "a:visited.sk-estimator-doc-link.fitted {\n",
       "  /* fitted */\n",
       "  border: var(--sklearn-color-fitted-level-1) 1pt solid;\n",
       "  color: var(--sklearn-color-fitted-level-1);\n",
       "}\n",
       "\n",
       "/* On hover */\n",
       "div.sk-estimator:hover .sk-estimator-doc-link:hover,\n",
       ".sk-estimator-doc-link:hover,\n",
       "div.sk-label-container:hover .sk-estimator-doc-link:hover,\n",
       ".sk-estimator-doc-link:hover {\n",
       "  /* unfitted */\n",
       "  background-color: var(--sklearn-color-unfitted-level-3);\n",
       "  color: var(--sklearn-color-background);\n",
       "  text-decoration: none;\n",
       "}\n",
       "\n",
       "div.sk-estimator.fitted:hover .sk-estimator-doc-link.fitted:hover,\n",
       ".sk-estimator-doc-link.fitted:hover,\n",
       "div.sk-label-container:hover .sk-estimator-doc-link.fitted:hover,\n",
       ".sk-estimator-doc-link.fitted:hover {\n",
       "  /* fitted */\n",
       "  background-color: var(--sklearn-color-fitted-level-3);\n",
       "  color: var(--sklearn-color-background);\n",
       "  text-decoration: none;\n",
       "}\n",
       "\n",
       "/* Span, style for the box shown on hovering the info icon */\n",
       ".sk-estimator-doc-link span {\n",
       "  display: none;\n",
       "  z-index: 9999;\n",
       "  position: relative;\n",
       "  font-weight: normal;\n",
       "  right: .2ex;\n",
       "  padding: .5ex;\n",
       "  margin: .5ex;\n",
       "  width: min-content;\n",
       "  min-width: 20ex;\n",
       "  max-width: 50ex;\n",
       "  color: var(--sklearn-color-text);\n",
       "  box-shadow: 2pt 2pt 4pt #999;\n",
       "  /* unfitted */\n",
       "  background: var(--sklearn-color-unfitted-level-0);\n",
       "  border: .5pt solid var(--sklearn-color-unfitted-level-3);\n",
       "}\n",
       "\n",
       ".sk-estimator-doc-link.fitted span {\n",
       "  /* fitted */\n",
       "  background: var(--sklearn-color-fitted-level-0);\n",
       "  border: var(--sklearn-color-fitted-level-3);\n",
       "}\n",
       "\n",
       ".sk-estimator-doc-link:hover span {\n",
       "  display: block;\n",
       "}\n",
       "\n",
       "/* \"?\"-specific style due to the `<a>` HTML tag */\n",
       "\n",
       "#sk-container-id-1 a.estimator_doc_link {\n",
       "  float: right;\n",
       "  font-size: 1rem;\n",
       "  line-height: 1em;\n",
       "  font-family: monospace;\n",
       "  background-color: var(--sklearn-color-background);\n",
       "  border-radius: 1rem;\n",
       "  height: 1rem;\n",
       "  width: 1rem;\n",
       "  text-decoration: none;\n",
       "  /* unfitted */\n",
       "  color: var(--sklearn-color-unfitted-level-1);\n",
       "  border: var(--sklearn-color-unfitted-level-1) 1pt solid;\n",
       "}\n",
       "\n",
       "#sk-container-id-1 a.estimator_doc_link.fitted {\n",
       "  /* fitted */\n",
       "  border: var(--sklearn-color-fitted-level-1) 1pt solid;\n",
       "  color: var(--sklearn-color-fitted-level-1);\n",
       "}\n",
       "\n",
       "/* On hover */\n",
       "#sk-container-id-1 a.estimator_doc_link:hover {\n",
       "  /* unfitted */\n",
       "  background-color: var(--sklearn-color-unfitted-level-3);\n",
       "  color: var(--sklearn-color-background);\n",
       "  text-decoration: none;\n",
       "}\n",
       "\n",
       "#sk-container-id-1 a.estimator_doc_link.fitted:hover {\n",
       "  /* fitted */\n",
       "  background-color: var(--sklearn-color-fitted-level-3);\n",
       "}\n",
       "</style><div id=\"sk-container-id-1\" class=\"sk-top-container\"><div class=\"sk-text-repr-fallback\"><pre>GridSearchCV(cv=5,\n",
       "             estimator=Pipeline(steps=[(&#x27;scaler&#x27;, StandardScaler()),\n",
       "                                       (&#x27;classifier&#x27;, KNeighborsRegressor())]),\n",
       "             n_jobs=-1,\n",
       "             param_grid={&#x27;classifier__leaf_size&#x27;: (20, 40, 1),\n",
       "                         &#x27;classifier__metric&#x27;: (&#x27;minkowski&#x27;, &#x27;chebyshev&#x27;),\n",
       "                         &#x27;classifier__n_neighbors&#x27;: (1, 10, 1),\n",
       "                         &#x27;classifier__p&#x27;: (1, 2),\n",
       "                         &#x27;classifier__weights&#x27;: (&#x27;uniform&#x27;, &#x27;distance&#x27;)},\n",
       "             scoring=&#x27;r2&#x27;)</pre><b>In a Jupyter environment, please rerun this cell to show the HTML representation or trust the notebook. <br />On GitHub, the HTML representation is unable to render, please try loading this page with nbviewer.org.</b></div><div class=\"sk-container\" hidden><div class=\"sk-item sk-dashed-wrapped\"><div class=\"sk-label-container\"><div class=\"sk-label fitted sk-toggleable\"><input class=\"sk-toggleable__control sk-hidden--visually\" id=\"sk-estimator-id-1\" type=\"checkbox\" ><label for=\"sk-estimator-id-1\" class=\"sk-toggleable__label fitted sk-toggleable__label-arrow fitted\">&nbsp;&nbsp;GridSearchCV<a class=\"sk-estimator-doc-link fitted\" rel=\"noreferrer\" target=\"_blank\" href=\"https://scikit-learn.org/1.5/modules/generated/sklearn.model_selection.GridSearchCV.html\">?<span>Documentation for GridSearchCV</span></a><span class=\"sk-estimator-doc-link fitted\">i<span>Fitted</span></span></label><div class=\"sk-toggleable__content fitted\"><pre>GridSearchCV(cv=5,\n",
       "             estimator=Pipeline(steps=[(&#x27;scaler&#x27;, StandardScaler()),\n",
       "                                       (&#x27;classifier&#x27;, KNeighborsRegressor())]),\n",
       "             n_jobs=-1,\n",
       "             param_grid={&#x27;classifier__leaf_size&#x27;: (20, 40, 1),\n",
       "                         &#x27;classifier__metric&#x27;: (&#x27;minkowski&#x27;, &#x27;chebyshev&#x27;),\n",
       "                         &#x27;classifier__n_neighbors&#x27;: (1, 10, 1),\n",
       "                         &#x27;classifier__p&#x27;: (1, 2),\n",
       "                         &#x27;classifier__weights&#x27;: (&#x27;uniform&#x27;, &#x27;distance&#x27;)},\n",
       "             scoring=&#x27;r2&#x27;)</pre></div> </div></div><div class=\"sk-parallel\"><div class=\"sk-parallel-item\"><div class=\"sk-item\"><div class=\"sk-label-container\"><div class=\"sk-label fitted sk-toggleable\"><input class=\"sk-toggleable__control sk-hidden--visually\" id=\"sk-estimator-id-2\" type=\"checkbox\" ><label for=\"sk-estimator-id-2\" class=\"sk-toggleable__label fitted sk-toggleable__label-arrow fitted\">best_estimator_: Pipeline</label><div class=\"sk-toggleable__content fitted\"><pre>Pipeline(steps=[(&#x27;scaler&#x27;, StandardScaler()),\n",
       "                (&#x27;classifier&#x27;,\n",
       "                 KNeighborsRegressor(leaf_size=20, n_neighbors=10, p=1,\n",
       "                                     weights=&#x27;distance&#x27;))])</pre></div> </div></div><div class=\"sk-serial\"><div class=\"sk-item\"><div class=\"sk-serial\"><div class=\"sk-item\"><div class=\"sk-estimator fitted sk-toggleable\"><input class=\"sk-toggleable__control sk-hidden--visually\" id=\"sk-estimator-id-3\" type=\"checkbox\" ><label for=\"sk-estimator-id-3\" class=\"sk-toggleable__label fitted sk-toggleable__label-arrow fitted\">&nbsp;StandardScaler<a class=\"sk-estimator-doc-link fitted\" rel=\"noreferrer\" target=\"_blank\" href=\"https://scikit-learn.org/1.5/modules/generated/sklearn.preprocessing.StandardScaler.html\">?<span>Documentation for StandardScaler</span></a></label><div class=\"sk-toggleable__content fitted\"><pre>StandardScaler()</pre></div> </div></div><div class=\"sk-item\"><div class=\"sk-estimator fitted sk-toggleable\"><input class=\"sk-toggleable__control sk-hidden--visually\" id=\"sk-estimator-id-4\" type=\"checkbox\" ><label for=\"sk-estimator-id-4\" class=\"sk-toggleable__label fitted sk-toggleable__label-arrow fitted\">&nbsp;KNeighborsRegressor<a class=\"sk-estimator-doc-link fitted\" rel=\"noreferrer\" target=\"_blank\" href=\"https://scikit-learn.org/1.5/modules/generated/sklearn.neighbors.KNeighborsRegressor.html\">?<span>Documentation for KNeighborsRegressor</span></a></label><div class=\"sk-toggleable__content fitted\"><pre>KNeighborsRegressor(leaf_size=20, n_neighbors=10, p=1, weights=&#x27;distance&#x27;)</pre></div> </div></div></div></div></div></div></div></div></div></div></div>"
      ],
      "text/plain": [
       "GridSearchCV(cv=5,\n",
       "             estimator=Pipeline(steps=[('scaler', StandardScaler()),\n",
       "                                       ('classifier', KNeighborsRegressor())]),\n",
       "             n_jobs=-1,\n",
       "             param_grid={'classifier__leaf_size': (20, 40, 1),\n",
       "                         'classifier__metric': ('minkowski', 'chebyshev'),\n",
       "                         'classifier__n_neighbors': (1, 10, 1),\n",
       "                         'classifier__p': (1, 2),\n",
       "                         'classifier__weights': ('uniform', 'distance')},\n",
       "             scoring='r2')"
      ]
     },
     "execution_count": 16,
     "metadata": {},
     "output_type": "execute_result"
    }
   ],
   "source": [
    "pipe_knn = Pipeline([\n",
    "    ('scaler', preprocessing.StandardScaler()), \n",
    "    ('classifier', KNeighborsRegressor(algorithm='auto'))\n",
    "])\n",
    "\n",
    "\n",
    "\n",
    "parameters_KNN = {\n",
    "    'classifier__n_neighbors': (1,10, 1),\n",
    "    'classifier__leaf_size': (20,40,1),\n",
    "    'classifier__p': (1,2),\n",
    "    'classifier__weights': ('uniform', 'distance'),\n",
    "    'classifier__metric': ('minkowski', 'chebyshev')\n",
    "}\n",
    "                   \n",
    "\n",
    "search = GridSearchCV(\n",
    "    estimator=pipe_knn,\n",
    "    param_grid=parameters_KNN,\n",
    "    scoring = PERFORMANCE_METRIC,\n",
    "    n_jobs = -1,\n",
    "    cv = CROSS_FOLDS\n",
    ")\n",
    "\n",
    "search.fit(X_train, Y_train)"
   ]
  },
  {
   "cell_type": "code",
   "execution_count": null,
   "id": "3aa8b524",
   "metadata": {},
   "outputs": [],
   "source": []
  }
 ],
 "metadata": {
  "kernelspec": {
   "display_name": "Python 3 (ipykernel)",
   "language": "python",
   "name": "python3"
  },
  "language_info": {
   "codemirror_mode": {
    "name": "ipython",
    "version": 3
   },
   "file_extension": ".py",
   "mimetype": "text/x-python",
   "name": "python",
   "nbconvert_exporter": "python",
   "pygments_lexer": "ipython3",
   "version": "3.10.7"
  }
 },
 "nbformat": 4,
 "nbformat_minor": 5
}
