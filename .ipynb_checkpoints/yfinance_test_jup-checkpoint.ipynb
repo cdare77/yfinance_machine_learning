{
 "cells": [
  {
   "cell_type": "code",
   "execution_count": 1,
   "id": "de15fa7d",
   "metadata": {},
   "outputs": [
    {
     "data": {
      "application/javascript": [
       "IPython.OutputArea.prototype._should_scroll = function(lines) {\n",
       "    return false;\n",
       "}\n"
      ],
      "text/plain": [
       "<IPython.core.display.Javascript object>"
      ]
     },
     "metadata": {},
     "output_type": "display_data"
    }
   ],
   "source": [
    "%%javascript\n",
    "IPython.OutputArea.prototype._should_scroll = function(lines) {\n",
    "    return false;\n",
    "}"
   ]
  },
  {
   "cell_type": "markdown",
   "id": "8c9580c2",
   "metadata": {},
   "source": [
    "## Import Libraries"
   ]
  },
  {
   "cell_type": "code",
   "execution_count": 33,
   "id": "1731c502",
   "metadata": {},
   "outputs": [],
   "source": [
    "import yfinance as yf\n",
    "import pandas as pd\n",
    "import numpy as np\n",
    "import sys\n",
    "import warnings\n",
    "import plotly.express as px\n",
    "import matplotlib.dates as mdates\n",
    "import matplotlib.pyplot as plt\n",
    "\n",
    "from math import ceil, floor\n",
    "from plotly.subplots import make_subplots\n",
    "from datetime import date, datetime, timedelta\n",
    "from sklearn import preprocessing\n",
    "from sklearn import linear_model\n",
    "from sklearn.model_selection import train_test_split\n",
    "from sklearn.model_selection import RepeatedKFold\n",
    "from sklearn.linear_model import ElasticNet\n",
    "from sklearn.pipeline import Pipeline\n",
    "from sklearn.model_selection import GridSearchCV\n",
    "from sklearn.ensemble import RandomForestRegressor\n",
    "from plotnine import *\n",
    "from sklearn.metrics import make_scorer, mean_squared_error\n",
    "# from plotly.tools import mpl_to_plotly as ggplotly\n",
    "\n",
    "\n",
    "SEED = 3234"
   ]
  },
  {
   "cell_type": "markdown",
   "id": "2a16b749",
   "metadata": {},
   "source": [
    "## Add Data Wrappers"
   ]
  },
  {
   "cell_type": "code",
   "execution_count": 3,
   "id": "eded60f9",
   "metadata": {},
   "outputs": [],
   "source": [
    "class StockDataWrapper:\n",
    "    \"\"\"\n",
    "    A wrapper class to bundle stock data (stored in a pandas DataFrame) together with information\n",
    "    about how the data was collected (such as what the time frame is between two data points)\n",
    "\n",
    "    A StockDataWrapper class at the minimum requires a pandas DataFrame (the primary object we are \n",
    "    interested in wrapping) as well as the respective stock symbol passed as a string so that we are\n",
    "    able to easily refer to the specific stock in later formatting. \n",
    "    \n",
    "        IMPORTANT: It is expected that the lag_lengthand num_days are set whenever the stock data is\n",
    "                loaded into the data_frame object\n",
    "    \n",
    "    Certain variables must be set (either from user input or a configuration file) prior to calling\n",
    "    a handful of methods. Specifically, the lag length must be set prior to calling any functions which\n",
    "    utilize prior data (e.g. MACD, simple_moving_average, exponential_moving_average, etc.)\n",
    "    \n",
    "    \n",
    "    Attributes:\n",
    "        data_frame:    A pandas DataFrame object containing stocks data such as Open, Close,\n",
    "            Volume, High, Low, etc.\n",
    "            \n",
    "        stock_symbol:   A string representing the stock's symbol (i.e. AAPL for Apple)\n",
    "        \n",
    "        granularity:    The time interval between two data points [1m, 2m, 5m, 15m, 30m, 1h]\n",
    "        \n",
    "        num_days:    The number of days of stock data that have been pulled \n",
    "        \n",
    "        lag_length:    The number of previous data points that are availible to use for computations\n",
    "            (such as moving averages)\n",
    "    \"\"\"\n",
    "    \n",
    "\n",
    "    def __init__(self, data_frame, stock_symbol):\n",
    "        \"\"\"\n",
    "        Initializes the instance based on a pandas DataFrame.\n",
    "\n",
    "        Args:\n",
    "            data_frame: a pandas DataFrame object\n",
    "            stock_symbol: a string representing the stock's symbol (i.e. AAPL for Apple)\n",
    "        Raises:\n",
    "            ValueError: if one of the arguments is not the specified data type\n",
    "        \"\"\"\n",
    "        \n",
    "        #################\n",
    "        #  ERROR HANDLING\n",
    "        #################\n",
    "        if not isinstance(data_frame, pd.DataFrame):\n",
    "            raise ValueError(\"data_frame must be a pandas DataFrame object\")\n",
    "        if not isinstance(stock_symbol, str):\n",
    "            raise ValueError(\"stock_symbol must be a string\")\n",
    "            \n",
    "        self.data_frame = data_frame\n",
    "        self.stock_symbol = stock_symbol\n",
    "        # granularity and num_days should be set \n",
    "        self.granularity = 0\n",
    "        self.num_days = 0\n",
    "        self.lag_length = 0\n",
    "\n",
    "    def __str__(self):\n",
    "        \"\"\"\n",
    "        Indicataes how to represent a StockDataWrapper object when\n",
    "        passed as a string to print\n",
    "        \n",
    "        Returns:\n",
    "            String concatenating the __str__ of the pandas DataFrame together with\n",
    "            information on the StockDataWrapper's Varaibles\n",
    "        \"\"\"\n",
    "        my_str = f'Stock Name: {self.stock_symbol}\\n'\n",
    "        \n",
    "        # Check whether several variables have been set\n",
    "        if self.granularity == 0:\n",
    "            my_str += \"Granularity: NOT SET\\n\"\n",
    "        else:\n",
    "            my_str += f\"Granularity: {self.granularity}\\n\"\n",
    "        \n",
    "        if self.num_days == 0:\n",
    "            my_str += \"Number of days of stock data: NOT SET\\n\"\n",
    "        else:\n",
    "            my_str += f\"Number of days of stock data: {self.num_days}\\n\"\n",
    "        \n",
    "        if self.lag_length == 0:\n",
    "            my_str += \"Number of lag variables: NOT SET\\n\"\n",
    "        else:\n",
    "            my_str += f\"Number of lag variables: {self.lag_length}\\n\"\n",
    "        \n",
    "        \n",
    "        # Call the underlying Pandas DataFrame object's __str__\n",
    "        my_str += \"\\n\\n\"\n",
    "        my_str += str(self.data_frame)\n",
    "\n",
    "        return my_str\n",
    "    \n",
    "    \n",
    "    \n",
    "    def add_lag_variables(self, num_lags):\n",
    "        \"\"\"\n",
    "        Adds precisely num_lags lag variables to the underlying data frame. \n",
    "        The lag variables are simply additional columns where the entries are shifted\n",
    "        up in time index.\n",
    "        \n",
    "            WARNING: A large number of lag variables can lead to fragmentation in the \n",
    "                DataFrame\n",
    "        \n",
    "        The (column) names of the lag variables that are added are of the form:\n",
    "                            Close_L#\n",
    "        where # is how far back that particular lag variable is looking.\n",
    "\n",
    "        Args:\n",
    "            num_lags: the number of lag variables we wish to add\n",
    "        Raises:\n",
    "            ValueError: if num_lags is not an integer or is larger than the number of\n",
    "                observations or is negative\n",
    "        \"\"\"\n",
    "        \n",
    "        #################\n",
    "        #  ERROR HANDLING\n",
    "        #################\n",
    "        if not isinstance(num_lags, int):\n",
    "            raise ValueError(\"Parameter length must be integer\")\n",
    "        if num_lags < 1 or num_lags >= self.data_frame.shape[0]:\n",
    "            raise ValueError(\"The number of lag variables must be between\" +\n",
    "                            \" 1 and the total number of observations\")\n",
    "\n",
    "        for i in range(1,num_lags + 1):\n",
    "            index_str = \"Close_L\" + str(i)\n",
    "            self.data_frame[index_str] = self.data_frame['Close'].shift(i)\n",
    "\n",
    "        # Backfill the entries to remove any NaN\n",
    "        self.data_frame = self.data_frame.bfill(axis=0)\n",
    "        \n",
    "    \n",
    "    def delete_lag_variables(self):\n",
    "        \"\"\"\n",
    "        Removes any possible lag variables from the Data_Frame. This method\n",
    "        implicitly assumes that all lag variables follow the naming convention\n",
    "        \n",
    "                        Close_L#\n",
    "                        \n",
    "        where # is how far back that particular lag variable is looking.\n",
    "        \"\"\"\n",
    "        existing_lag_names = list(self.data_frame.filter(regex='Close_L'))\n",
    "        \n",
    "        if (len(existing_lag_names) > 0):  \n",
    "            self.data_frame = self.data_frame[\n",
    "                self.data_frame.columns.drop(existing_lag_names)\n",
    "            ]\n",
    "            # Reset lag_length so that other methods know not to compute\n",
    "            # data from lag variables\n",
    "            self.lag_length = 0\n",
    "    \n",
    "    def add_simple_moving_average(self, length):\n",
    "        \"\"\"\n",
    "        Computes the simple moving average of the stock's closing price (i.e.\n",
    "        the mean of the first 'length number' of lag variables) and adds it to a\n",
    "        new column in our pandas DataFrame. The column that is added follows\n",
    "        the naming convention:\n",
    "        \n",
    "                            SMA_(length)\n",
    "                            \n",
    "        where length is the parameter passed.\n",
    "\n",
    "        Args:\n",
    "            length: the number of days to take the simple moving average \n",
    "                over (equivalently, the number of lag variables we are considering)\n",
    "        Raises:\n",
    "            ValueError: if length is not an integer or is larger than the number of\n",
    "                lag variables availible\n",
    "            NameError: if lag_length has not been set yet (i.e. no lag variables have\n",
    "                been added)\n",
    "        \"\"\"\n",
    "        \n",
    "        #################\n",
    "        #  ERROR HANDLING\n",
    "        #################\n",
    "        if not isinstance(length, int):\n",
    "            raise ValueError(\"Parameter length must be integer\")\n",
    "        if self.lag_length == 0:\n",
    "            raise NameError(\"Lag variables must be set prior to adding simple moving average\")\n",
    "        if length > self.lag_length:\n",
    "            raise ValueError(\"Cannot take the average of more lag varaibles than are availible\" + \n",
    "                  f\" (currently {self.lag_length})\\n\")\n",
    "\n",
    "        # Gather the column names that we wish to take the average over\n",
    "        lag_predictors = []\n",
    "        for i in range(1, length + 1):\n",
    "            lag_name = 'Close_L' + str(i)\n",
    "            lag_predictors.append(lag_name)\n",
    "\n",
    "        # Add new column to data frame\n",
    "        column_label = \"SMA_\"  + str(length)\n",
    "        self.data_frame[column_label] = (self.data_frame[lag_predictors].sum(axis = 1,\n",
    "                                                                             skipna = True) / float(length))\n",
    "\n",
    "    \n",
    "    def add_simple_moving_standard_deviation(self, length):\n",
    "        \"\"\"\n",
    "        Computes the simple moving standard deviation of the stock's closing\n",
    "        price (i.e. the standard deviation of the first 'length number' of lag variables)\n",
    "        and adds it to a new column in our pandas DataFrame. The column that is added follows\n",
    "        the naming convention:\n",
    "        \n",
    "                            SMSD_(length)\n",
    "                            \n",
    "        where length is the parameter passed.\n",
    "\n",
    "        Args:\n",
    "            length: the number of days to take the simple moving standard deviation \n",
    "                over (equivalently, the number of lag variables we are considering)\n",
    "        Raises:\n",
    "            ValueError: if length is not an integer or is larger than the number of\n",
    "                lag variables availible\n",
    "            NameError: if lag_length has not been set yet (i.e. no lag variables have\n",
    "                been added)\n",
    "        \"\"\"\n",
    "        \n",
    "        #################\n",
    "        #  ERROR HANDLING\n",
    "        #################\n",
    "        if not isinstance(length, int):\n",
    "            raise ValueError(\"Parameter length must be integer\")\n",
    "        if self.lag_length == 0:\n",
    "            raise NameError(\"Lag variables must be set prior to adding simple moving average\")\n",
    "        if length > self.lag_length:\n",
    "            raise ValueError(\"Cannot take the average of more lag varaibles than are availible\" + \n",
    "                  f\" (currently {self.lag_length})\\n\")\n",
    "        \n",
    "        # Gather the column names that we wish to take the average over\n",
    "        lag_predictors = []\n",
    "        for i in range(1, length + 1):\n",
    "            lag_name = 'Close_L' + str(i)\n",
    "            lag_predictors.append(lag_name)\n",
    "            \n",
    "        # Add new column to data frame\n",
    "        column_label = \"SMSD_\"  + str(length)\n",
    "        self.data_frame[column_label] = self.data_frame[lag_predictors].std(axis = 1, skipna = True)\n",
    "          \n",
    "        \n",
    "    def add_upper_bollinger(self, length):\n",
    "        \"\"\"\n",
    "        Computes the upper Bollinger band of the stock's closing price, which is just the\n",
    "        simple moving average + the simple moving standard deviation and adds it to a new\n",
    "        column in our pandas DataFrame. The column that is added follows the naming convention:\n",
    "        \n",
    "                            upper_boll_(length)\n",
    "                            \n",
    "        where length is the parameter passed.\n",
    "\n",
    "        Args:\n",
    "            length: the number of days to take the bollinger band over \n",
    "                (equivalently, the number of lag variables we are considering)\n",
    "        Raises:\n",
    "            ValueError: if length is not an integer or is larger than the number of\n",
    "                lag variables availible\n",
    "            NameError: if lag_length has not been set yet (i.e. no lag variables have\n",
    "                been added)\n",
    "        \"\"\"\n",
    "        \n",
    "        #################\n",
    "        #  ERROR HANDLING\n",
    "        #################\n",
    "        if not isinstance(length, int):\n",
    "            raise ValueError(\"Parameter length must be integer\")\n",
    "        if self.lag_length == 0:\n",
    "            raise NameError(\"Lag variables must be set prior to adding simple moving average\")\n",
    "        if length > self.lag_length:\n",
    "            raise ValueError(\"Cannot take the average of more lag varaibles than are availible\" + \n",
    "                  f\" (currently {self.lag_length})\\n\")\n",
    "\n",
    "        SMSD_string = \"SMSD_\" + str(length)\n",
    "        SMA_string = \"SMA_\" + str(length)\n",
    "        \n",
    "        # Ensure that both the simple moving average data and\n",
    "        # the simple moving standard deviation data are availible in \n",
    "        # DataFrame\n",
    "        if SMSD_string not in self.data_frame.columns:\n",
    "            self.add_simple_moving_standard_deviation(length)\n",
    "        if SMA_string not in self.data_frame.columns:\n",
    "            self.add_simple_moving_average(length)\n",
    "\n",
    "        # Add new column to data frame\n",
    "        upper_bollinger_str = \"upper_boll_\" + str(length)\n",
    "        self.data_frame[upper_bollinger_str] = self.data_frame[SMA_string] + self.data_frame[SMSD_string]\n",
    "        \n",
    "        \n",
    "    def add_lower_bollinger(self, length):\n",
    "        \"\"\"\n",
    "        Computes the lower Bollinger band of the stock's closing price, which is just the \n",
    "        simple moving average + the simple moving standard deviation and adds it to a new\n",
    "        column in our pandas DataFrame. The column that is added follows the naming convention:\n",
    "        \n",
    "                            lower_boll_(length)\n",
    "                            \n",
    "        where length is the parameter passed.\n",
    "\n",
    "        Args:\n",
    "            length: the number of days to take the bollinger band over \n",
    "                (equivalently, the number of lag variables we are considering)\n",
    "        Raises:\n",
    "            ValueError: if length is not an integer or is larger than the number of\n",
    "                lag variables availible\n",
    "            NameError: if lag_length has not been set yet (i.e. no lag variables have\n",
    "                been added)\n",
    "        \"\"\"\n",
    "    \n",
    "        #################\n",
    "        #  ERROR HANDLING\n",
    "        #################\n",
    "        if not isinstance(length, int):\n",
    "            raise ValueError(\"Parameter length must be integer\")\n",
    "        if self.lag_length == 0:\n",
    "            raise NameError(\"Lag variables must be set prior to adding simple moving average\")\n",
    "        if length > self.lag_length:\n",
    "            raise ValueError(\"Cannot take the average of more lag varaibles than are availible\" + \n",
    "                  f\" (currently {self.lag_length})\\n\")\n",
    "\n",
    "        SMSD_string = \"SMSD_\" + str(length)\n",
    "        SMA_string = \"SMA_\" + str(length)\n",
    "        \n",
    "        # Ensure that both the simple moving average data and\n",
    "        # the simple moving standard deviation data are availible in \n",
    "        # DataFrame\n",
    "        if SMSD_string not in self.data_frame.columns:\n",
    "            self.add_simple_moving_standard_deviation(length)\n",
    "        if SMA_string not in self.data_frame.columns:\n",
    "            self.add_simple_moving_average(length)\n",
    "\n",
    "        # Add new column to data frame\n",
    "        lower_bollinger_str = \"lower_boll_\" + str(length)\n",
    "        self.data_frame[lower_bollinger_str] = self.data_frame[SMA_string] - self.data_frame[SMSD_string]\n",
    "        \n",
    "        \n",
    "    def _exponential_moving_average_helper_(self, series, smoothing_factor):\n",
    "        \"\"\"\n",
    "        Helper function for add_exponential_moving_average() which utilizes a \n",
    "        temporary buffer in memory to compute the recursive function:\n",
    "        \n",
    "            EMA(data, n+1) = β * data[n+1] +  (1 - β) * data[n]\n",
    "            \n",
    "        where β represents the smoothing factor. The smoothing factor ultimately dictates\n",
    "        how heavily recent data points are weighted, and how quickly previous data points\n",
    "        lose weight\n",
    "\n",
    "        Args:\n",
    "            series: a pandas.core.series.Series object. Typically passed as\n",
    "                dataframe[\"column\"].iloc[a:b]. Must be treated slightly differently than\n",
    "                a standard array since integer indexing of series is depricated\n",
    "            \n",
    "            smoothing_factor: a floating point integer which dictates how heavily recent\n",
    "                data points are weighted\n",
    "        \"\"\"\n",
    "        \n",
    "        #################\n",
    "        #  ERROR HANDLING\n",
    "        #################\n",
    "        if not isinstance(series, pd.Series):\n",
    "            raise ValueError(\"Parameter series must be pandas.Series data type\")\n",
    "        if not isinstance(smoothing_factor, float):\n",
    "            raise ValueError(\"Parameter smoothing factor must be a floating point decimal\")\n",
    "        \n",
    "        N = series.shape[0]\n",
    "        # Create temporary storage to compute our outputs. When the lag_length of\n",
    "        # the exponential moving average is large, this will likely lead to memory fragmentation\n",
    "        buffer = list(range(N))\n",
    "        buffer[0] = series.iloc[0]\n",
    "\n",
    "        # Use temporary storage + iteration to compute the recursive formula\n",
    "        #\n",
    "        #       EMA(data, n+1) = β * data[n+1] +  (1 - β) * data[n]\n",
    "        #\n",
    "        for i in range(1,N):\n",
    "            buffer[i] = smoothing_factor * series.iloc[i] + (1 - smoothing_factor) * buffer[i-1]\n",
    "        \n",
    "        # return the last data point (i.e. the EMA over the desired lag_length)\n",
    "        return buffer[-1]\n",
    "\n",
    "\n",
    "\n",
    "    def add_exponential_moving_average(self, length):\n",
    "        \"\"\"\n",
    "        Computes the exponential moving standard average of the stock's closing\n",
    "        price (i.e. the weighted average of the first [length] lag variables)\n",
    "        and adds it to a new column in our pandas DataFrame. The column that is added follows\n",
    "        the naming convention:\n",
    "        \n",
    "                            SMSD_(length)\n",
    "                            \n",
    "        where length is the parameter passed.\n",
    "\n",
    "        Args:\n",
    "            length: the number of days to take the simple moving standard deviation \n",
    "                over (equivalently, the number of lag variables we are considering)\n",
    "        Raises:\n",
    "            ValueError: if length is not an integer or is larger than the number of\n",
    "                lag variables availible\n",
    "            NameError: if lag_length has not been set yet (i.e. no lag variables have\n",
    "                been added)\n",
    "        \"\"\"\n",
    "        \n",
    "        #################\n",
    "        #  ERROR HANDLING\n",
    "        #################\n",
    "        if not isinstance(length, int):\n",
    "            raise ValueError(\"Parameter lag_length must be integer\")\n",
    "        if self.lag_length == 0:\n",
    "            raise NameError(\"Lag variables must be set prior to adding exponental moving average\")\n",
    "        if length > self.lag_length:\n",
    "            raise ValueError(\"Cannot take the average of more lag varaibles than are availible\" + \n",
    "                      f\" (currently {self.lag_length})\\n\")\n",
    "\n",
    "        N = self.data_frame.shape[0]\n",
    "        smoothing_factor = float(2/(length + 1))\n",
    "\n",
    "        # Temporary output storage\n",
    "        buffer = list(range(N))\n",
    "        buffer[0] = self.data_frame[\"Close\"].iloc[0]\n",
    "        buffer[1] = self.data_frame[\"Close\"].iloc[0]\n",
    "\n",
    "\n",
    "        for i in range(2, N):\n",
    "            # If there are less that lag_period of data previous to the current date,\n",
    "            # simply take the average of all the days prior to get the closest thing\n",
    "            # to a weighted average\n",
    "            if i <= length:\n",
    "                buffer[i] = self._exponential_moving_average_helper_(\n",
    "                    self.data_frame[\"Close\"].iloc[0:i],\n",
    "                    2/(i + 1)\n",
    "                )\n",
    "            else:\n",
    "                buffer[i] = self._exponential_moving_average_helper_(\n",
    "                    self.data_frame[\"Close\"].iloc[i-length:i],\n",
    "                    smoothing_factor\n",
    "                )\n",
    "        # Add new column to data frame\n",
    "        column_label = \"EMA_\"  + str(length)\n",
    "        self.data_frame[column_label] = buffer\n",
    "\n",
    "\n",
    "    def add_MACD(self, max_lag, min_lag):\n",
    "        \"\"\"\n",
    "        Computes the moving average convergence-divergence of the stock's closing\n",
    "        price (i.e. the difference of the exponential moving average taken over min_lag\n",
    "        with the exponential moving average taken over max_lag)\n",
    "        and adds it to a new column in our pandas DataFrame. The column that is added follows\n",
    "        the naming convention:\n",
    "        \n",
    "                            MACD_(min_lag)_(max_lag)\n",
    "                            \n",
    "        where min_lag and max_lag are the first and second parameters passed, respectively.\n",
    "\n",
    "        Args:\n",
    "            length: the number of days to take the simple moving standard deviation \n",
    "                over (equivalently, the number of lag variables we are considering)\n",
    "        Raises:\n",
    "            ValueError: if length is not an integer or is larger than the number of\n",
    "                lag variables availible\n",
    "            NameError: if lag_length has not been set yet (i.e. no lag variables have\n",
    "                been added)\n",
    "        \"\"\"\n",
    "        \n",
    "        #################\n",
    "        #  ERROR HANDLING\n",
    "        #################\n",
    "        if not isinstance(max_lag, int) or not isinstance(min_lag, int):\n",
    "            raise ValueError(\"Parameters max_lag and min_lag must be integer\")\n",
    "        if self.lag_length == 0:\n",
    "            raise NameError(\"Lag variables must be set prior to adding MACD\")\n",
    "        if min_lag >= max_lag:\n",
    "            raise ValueError(\"min_lag must be strictly smaller than max_lag\")\n",
    "\n",
    "        EMA_string_min = \"EMA_\" + str(min_lag)\n",
    "        EMA_string_max = \"EMA_\" + str(max_lag)\n",
    "\n",
    "        # Ensure that both exponential moving averages are availible\n",
    "        # in the DataFrame\n",
    "        if EMA_string_min not in self.data_frame.columns:\n",
    "            self.add_exponential_moving_average(min_lag)\n",
    "        if EMA_string_max not in self.data_frame.columns:\n",
    "            self.add_exponential_moving_average(max_lag)\n",
    "            \n",
    "        \n",
    "        # Add new column to data frame\n",
    "        column_label = \"MACD_\"  + str(min_lag) + \"_\" + str(max_lag)\n",
    "        self.data_frame[column_label] = (self.data_frame[EMA_string_min] - self.data_frame[EMA_string_max])"
   ]
  },
  {
   "cell_type": "markdown",
   "id": "f3ab2562",
   "metadata": {},
   "source": [
    "## Import Data from User Input"
   ]
  },
  {
   "cell_type": "code",
   "execution_count": 4,
   "id": "35e55b84",
   "metadata": {},
   "outputs": [],
   "source": [
    "def create_stock_data_from_input():\n",
    "    \"\"\"\n",
    "    Helper function for creating a StockDataWrapper class from user input. Primarily \n",
    "    cleans the user input and ensures that the user input is within the range of \n",
    "    intended values. \n",
    "    \n",
    "    This function only establishes:\n",
    "    \n",
    "        - the underlying pandas.DataFrame object (which is the primary data that\n",
    "                StockDataWrapper is wrapping)\n",
    "        - the granularity parameter\n",
    "        - the num_days parameter\n",
    "        \n",
    "    This function does NOT set:\n",
    "        - any lag variable data.\n",
    "        \n",
    "        \n",
    "    Returns:\n",
    "        A StockDataWrapper object that, when a correct stock symbol is typed, will\n",
    "        contain a pandas DataFrame object as well as the number of days and granularity\n",
    "        of the stock data\n",
    "    \"\"\"\n",
    "    # Boolean flag which turns off (False) once the user\n",
    "    # correctly enters the correct field\n",
    "    prompting_user_input = True\n",
    "    while prompting_user_input:\n",
    "        num_days_to_build = input(\"How many days of intraday stock market data should \" + \n",
    "                                  \" we use to build our model? Enter a value between \" +\n",
    "                                  \" 1 and 7:\\n(Type 'Exit' to quit)\\n\")\n",
    "\n",
    "        # Parse num_days input\n",
    "        if num_days_to_build.isnumeric():\n",
    "            num_days_to_build = int(num_days_to_build)\n",
    "            if num_days_to_build > 0 and num_days_to_build < 8:\n",
    "                prompting_user_input = False\n",
    "            else:\n",
    "                print(\"The number of days must be between 1 and 7 \"+\n",
    "                      \"— please retry. \\n (Type 'Exit' to quit)\\n\")\n",
    "        elif \"exit\" in num_days_to_build.lower():\n",
    "            sys.exit(\"Exiting program\")\n",
    "        else:\n",
    "            print(\"Non-integer passed as input — please retry.\\n\")\n",
    "\n",
    "\n",
    "    # Apply num_days information to create Datetime variables\n",
    "    # which give a range of precisely (num_days) previous days from\n",
    "    # current date.\n",
    "    today = date.today()\n",
    "    num_days_prior = today - timedelta(num_days_to_build)\n",
    "\n",
    "    # list of acceptable inputs for granularity\n",
    "    granularity_options = ['1m', '2m', '5m', '15m', '30m', '1h']\n",
    "    # Reset user input boolean flag\n",
    "    prompting_user_input = True\n",
    "    while prompting_user_input:\n",
    "        granulrity_input = input(\"How often should our model look at\" + \n",
    "                                 \" stock prices? Choose from 1m, 2m, 5m,\" +\n",
    "                                 \" 15m, 30m or 1h.\\n(Type 'Exit' to quit)\\n\"\n",
    "                                ).lower()\n",
    "        \n",
    "        # parse granularity input\n",
    "        if granulrity_input in granularity_options:\n",
    "            prompting_user_input = False\n",
    "        elif \"exit\" in granulrity_input:\n",
    "            sys.exit(\"Exiting program\")\n",
    "        else:\n",
    "            print(\"Input was not among the options 1m, 2m,\" +\n",
    "                  \" 5m, 15m, 30m, or 1h — please retry.\"+\n",
    "                  \"\\n(Type 'Exit' to quit)\\n\")\n",
    "    \n",
    "\n",
    "    # utilize yfinance's error handling here — if the user inputs the \n",
    "    # wrong stock symbol, \n",
    "    stock_symbol = input(\"Please input the stock symbol you would like\" + \n",
    "                             \" to examine: (e.g. AAPL)\\n\").upper()\n",
    "    \n",
    "    # Construct pandas DataFrame object\n",
    "    df = pd.DataFrame(yf.download(stock_symbol,\n",
    "                                start=num_days_prior,\n",
    "                                end=today,\n",
    "                                interval=granulrity_input)\n",
    "                            )\n",
    "    \n",
    "    # add user input information to StockDataWrapper object\n",
    "    stock_data = StockDataWrapper(df, stock_symbol)\n",
    "    stock_data.num_days = num_days_to_build\n",
    "    stock_data.granularity = granulrity_input\n",
    "\n",
    "    return stock_data\n",
    "\n",
    "\n",
    "\n",
    "def add_lags_from_input(stock_data, threshold):\n",
    "    \"\"\"\n",
    "    Helper function which finishes loading the lag data information into an already\n",
    "    existing StockDataWrapper object. This function will only add additional columns\n",
    "    to the DataFrame object referenced by the StockDataWrapper (in place); no value\n",
    "    is returned.\n",
    "    \n",
    "    \n",
    "    Raises:\n",
    "        ValueError: if either stock_data is not a StockDataWrapper or threshold is not an\n",
    "                integer.\n",
    "        NameError: if there are no entries in the DataFrame\n",
    "    \"\"\"\n",
    "    #################\n",
    "    #  ERROR HANDLING\n",
    "    #################\n",
    "    if not isinstance(stock_data, StockDataWrapper):\n",
    "        raise ValueError(\"stock_data variable must be a StockDataWrapper class\")\n",
    "    if not isinstance(threshold, int):\n",
    "        raise ValueError(\"threshold must be a positive integer\")\n",
    "    if stock_data.data_frame.shape[0] == 0:\n",
    "        raise TypeError(\"Data has not been correctly loaded into the StockDataWrapper object\")\n",
    "    \n",
    "    # Clean up previous lag variables so that preexisting data\n",
    "    # does not affect future computations\n",
    "    stock_data.delete_lag_variables()\n",
    "    \n",
    "    # Boolean flag which turns off (False) once the user\n",
    "    # correctly enters the correct field\n",
    "    prompting_user_input = True\n",
    "    while prompting_user_input:\n",
    "        lag_length = input(\"How many previous data points should our model look at?\\n(Type 'Exit' to quit)\\n\")\n",
    "\n",
    "        # parse lag_length\n",
    "        if lag_length.isnumeric():\n",
    "            lag_length = int(lag_length)\n",
    "            \n",
    "            if lag_length <= threshold:\n",
    "                stock_data.lag_length = lag_length\n",
    "                stock_data.add_lag_variables(lag_length)\n",
    "                prompting_user_input = False\n",
    "            else:\n",
    "                print(\"\\nThe number of previous data points considered should\" +\n",
    "                      f\" not exceed 30%% \\nof the total number of data points (in this case, {threshold}) -- please\" +\n",
    "                       \" retry. \\n\")\n",
    "        elif \"exit\" in lag_length.lower():\n",
    "                sys.exit(\"Exiting program\")\n",
    "        else:\n",
    "            print(\"Non-integer passed as input — please retry.\\n\") "
   ]
  },
  {
   "cell_type": "markdown",
   "id": "c8c2df05",
   "metadata": {},
   "source": [
    "# Exploratory Data Analysis"
   ]
  },
  {
   "cell_type": "code",
   "execution_count": 6,
   "id": "99c4c9c6",
   "metadata": {},
   "outputs": [
    {
     "name": "stdout",
     "output_type": "stream",
     "text": [
      "How many days of intraday stock market data should  we use to build our model? Enter a value between  1 and 7:\n",
      "(Type 'Exit' to quit)\n",
      "1\n",
      "How often should our model look at stock prices? Choose from 1m, 2m, 5m, 15m, 30m or 1h.\n",
      "(Type 'Exit' to quit)\n",
      "1m\n",
      "Please input the stock symbol you would like to examine: (e.g. AAPL)\n",
      "aapl\n"
     ]
    },
    {
     "name": "stderr",
     "output_type": "stream",
     "text": [
      "[*********************100%%**********************]  1 of 1 completed\n"
     ]
    },
    {
     "data": {
      "application/vnd.plotly.v1+json": {
       "config": {
        "plotlyServerURL": "https://plot.ly"
       },
       "data": [
        {
         "hovertemplate": "Datetime=%{x}<br>Close=%{y}<extra></extra>",
         "legendgroup": "",
         "line": {
          "color": "#636efa",
          "dash": "solid"
         },
         "marker": {
          "symbol": "circle"
         },
         "mode": "lines",
         "name": "",
         "orientation": "v",
         "showlegend": false,
         "type": "scatter",
         "x": [
          "2024-06-07T09:30:00-04:00",
          "2024-06-07T09:31:00-04:00",
          "2024-06-07T09:32:00-04:00",
          "2024-06-07T09:33:00-04:00",
          "2024-06-07T09:34:00-04:00",
          "2024-06-07T09:35:00-04:00",
          "2024-06-07T09:36:00-04:00",
          "2024-06-07T09:37:00-04:00",
          "2024-06-07T09:38:00-04:00",
          "2024-06-07T09:39:00-04:00",
          "2024-06-07T09:40:00-04:00",
          "2024-06-07T09:41:00-04:00",
          "2024-06-07T09:42:00-04:00",
          "2024-06-07T09:43:00-04:00",
          "2024-06-07T09:44:00-04:00",
          "2024-06-07T09:45:00-04:00",
          "2024-06-07T09:46:00-04:00",
          "2024-06-07T09:47:00-04:00",
          "2024-06-07T09:48:00-04:00",
          "2024-06-07T09:49:00-04:00",
          "2024-06-07T09:50:00-04:00",
          "2024-06-07T09:51:00-04:00",
          "2024-06-07T09:52:00-04:00",
          "2024-06-07T09:53:00-04:00",
          "2024-06-07T09:54:00-04:00",
          "2024-06-07T09:55:00-04:00",
          "2024-06-07T09:56:00-04:00",
          "2024-06-07T09:57:00-04:00",
          "2024-06-07T09:58:00-04:00",
          "2024-06-07T09:59:00-04:00",
          "2024-06-07T10:00:00-04:00",
          "2024-06-07T10:01:00-04:00",
          "2024-06-07T10:02:00-04:00",
          "2024-06-07T10:03:00-04:00",
          "2024-06-07T10:04:00-04:00",
          "2024-06-07T10:05:00-04:00",
          "2024-06-07T10:06:00-04:00",
          "2024-06-07T10:07:00-04:00",
          "2024-06-07T10:08:00-04:00",
          "2024-06-07T10:09:00-04:00",
          "2024-06-07T10:10:00-04:00",
          "2024-06-07T10:11:00-04:00",
          "2024-06-07T10:12:00-04:00",
          "2024-06-07T10:13:00-04:00",
          "2024-06-07T10:14:00-04:00",
          "2024-06-07T10:15:00-04:00",
          "2024-06-07T10:16:00-04:00",
          "2024-06-07T10:17:00-04:00",
          "2024-06-07T10:18:00-04:00",
          "2024-06-07T10:19:00-04:00",
          "2024-06-07T10:20:00-04:00",
          "2024-06-07T10:21:00-04:00",
          "2024-06-07T10:22:00-04:00",
          "2024-06-07T10:23:00-04:00",
          "2024-06-07T10:24:00-04:00",
          "2024-06-07T10:25:00-04:00",
          "2024-06-07T10:26:00-04:00",
          "2024-06-07T10:27:00-04:00",
          "2024-06-07T10:28:00-04:00",
          "2024-06-07T10:29:00-04:00",
          "2024-06-07T10:30:00-04:00",
          "2024-06-07T10:31:00-04:00",
          "2024-06-07T10:32:00-04:00",
          "2024-06-07T10:33:00-04:00",
          "2024-06-07T10:34:00-04:00",
          "2024-06-07T10:35:00-04:00",
          "2024-06-07T10:36:00-04:00",
          "2024-06-07T10:37:00-04:00",
          "2024-06-07T10:38:00-04:00",
          "2024-06-07T10:39:00-04:00",
          "2024-06-07T10:40:00-04:00",
          "2024-06-07T10:41:00-04:00",
          "2024-06-07T10:42:00-04:00",
          "2024-06-07T10:43:00-04:00",
          "2024-06-07T10:44:00-04:00",
          "2024-06-07T10:45:00-04:00",
          "2024-06-07T10:46:00-04:00",
          "2024-06-07T10:47:00-04:00",
          "2024-06-07T10:48:00-04:00",
          "2024-06-07T10:49:00-04:00",
          "2024-06-07T10:50:00-04:00",
          "2024-06-07T10:51:00-04:00",
          "2024-06-07T10:52:00-04:00",
          "2024-06-07T10:53:00-04:00",
          "2024-06-07T10:54:00-04:00",
          "2024-06-07T10:55:00-04:00",
          "2024-06-07T10:56:00-04:00",
          "2024-06-07T10:57:00-04:00",
          "2024-06-07T10:58:00-04:00",
          "2024-06-07T10:59:00-04:00",
          "2024-06-07T11:00:00-04:00",
          "2024-06-07T11:01:00-04:00",
          "2024-06-07T11:02:00-04:00",
          "2024-06-07T11:03:00-04:00",
          "2024-06-07T11:04:00-04:00",
          "2024-06-07T11:05:00-04:00",
          "2024-06-07T11:06:00-04:00",
          "2024-06-07T11:07:00-04:00",
          "2024-06-07T11:08:00-04:00",
          "2024-06-07T11:09:00-04:00",
          "2024-06-07T11:10:00-04:00",
          "2024-06-07T11:11:00-04:00",
          "2024-06-07T11:12:00-04:00",
          "2024-06-07T11:13:00-04:00",
          "2024-06-07T11:14:00-04:00",
          "2024-06-07T11:15:00-04:00",
          "2024-06-07T11:16:00-04:00",
          "2024-06-07T11:17:00-04:00",
          "2024-06-07T11:18:00-04:00",
          "2024-06-07T11:19:00-04:00",
          "2024-06-07T11:20:00-04:00",
          "2024-06-07T11:21:00-04:00",
          "2024-06-07T11:22:00-04:00",
          "2024-06-07T11:23:00-04:00",
          "2024-06-07T11:24:00-04:00",
          "2024-06-07T11:25:00-04:00",
          "2024-06-07T11:26:00-04:00",
          "2024-06-07T11:27:00-04:00",
          "2024-06-07T11:28:00-04:00",
          "2024-06-07T11:29:00-04:00",
          "2024-06-07T11:30:00-04:00",
          "2024-06-07T11:31:00-04:00",
          "2024-06-07T11:32:00-04:00",
          "2024-06-07T11:33:00-04:00",
          "2024-06-07T11:34:00-04:00",
          "2024-06-07T11:35:00-04:00",
          "2024-06-07T11:36:00-04:00",
          "2024-06-07T11:37:00-04:00",
          "2024-06-07T11:38:00-04:00",
          "2024-06-07T11:39:00-04:00",
          "2024-06-07T11:40:00-04:00",
          "2024-06-07T11:41:00-04:00",
          "2024-06-07T11:42:00-04:00",
          "2024-06-07T11:43:00-04:00",
          "2024-06-07T11:44:00-04:00",
          "2024-06-07T11:45:00-04:00",
          "2024-06-07T11:46:00-04:00",
          "2024-06-07T11:47:00-04:00",
          "2024-06-07T11:48:00-04:00",
          "2024-06-07T11:49:00-04:00",
          "2024-06-07T11:50:00-04:00",
          "2024-06-07T11:51:00-04:00",
          "2024-06-07T11:52:00-04:00",
          "2024-06-07T11:53:00-04:00",
          "2024-06-07T11:54:00-04:00",
          "2024-06-07T11:55:00-04:00",
          "2024-06-07T11:56:00-04:00",
          "2024-06-07T11:57:00-04:00",
          "2024-06-07T11:58:00-04:00",
          "2024-06-07T11:59:00-04:00",
          "2024-06-07T12:00:00-04:00",
          "2024-06-07T12:01:00-04:00",
          "2024-06-07T12:02:00-04:00",
          "2024-06-07T12:03:00-04:00",
          "2024-06-07T12:04:00-04:00",
          "2024-06-07T12:05:00-04:00",
          "2024-06-07T12:06:00-04:00",
          "2024-06-07T12:07:00-04:00",
          "2024-06-07T12:08:00-04:00",
          "2024-06-07T12:09:00-04:00",
          "2024-06-07T12:10:00-04:00",
          "2024-06-07T12:11:00-04:00",
          "2024-06-07T12:12:00-04:00",
          "2024-06-07T12:13:00-04:00",
          "2024-06-07T12:14:00-04:00",
          "2024-06-07T12:15:00-04:00",
          "2024-06-07T12:16:00-04:00",
          "2024-06-07T12:17:00-04:00",
          "2024-06-07T12:18:00-04:00",
          "2024-06-07T12:19:00-04:00",
          "2024-06-07T12:20:00-04:00",
          "2024-06-07T12:21:00-04:00",
          "2024-06-07T12:22:00-04:00",
          "2024-06-07T12:23:00-04:00",
          "2024-06-07T12:24:00-04:00",
          "2024-06-07T12:25:00-04:00",
          "2024-06-07T12:26:00-04:00",
          "2024-06-07T12:27:00-04:00",
          "2024-06-07T12:28:00-04:00",
          "2024-06-07T12:29:00-04:00",
          "2024-06-07T12:30:00-04:00",
          "2024-06-07T12:31:00-04:00",
          "2024-06-07T12:32:00-04:00",
          "2024-06-07T12:33:00-04:00",
          "2024-06-07T12:34:00-04:00",
          "2024-06-07T12:35:00-04:00",
          "2024-06-07T12:36:00-04:00",
          "2024-06-07T12:37:00-04:00",
          "2024-06-07T12:38:00-04:00",
          "2024-06-07T12:39:00-04:00",
          "2024-06-07T12:40:00-04:00",
          "2024-06-07T12:41:00-04:00",
          "2024-06-07T12:42:00-04:00",
          "2024-06-07T12:43:00-04:00",
          "2024-06-07T12:44:00-04:00",
          "2024-06-07T12:45:00-04:00",
          "2024-06-07T12:46:00-04:00",
          "2024-06-07T12:47:00-04:00",
          "2024-06-07T12:48:00-04:00",
          "2024-06-07T12:49:00-04:00",
          "2024-06-07T12:50:00-04:00",
          "2024-06-07T12:51:00-04:00",
          "2024-06-07T12:52:00-04:00",
          "2024-06-07T12:53:00-04:00",
          "2024-06-07T12:54:00-04:00",
          "2024-06-07T12:55:00-04:00",
          "2024-06-07T12:56:00-04:00",
          "2024-06-07T12:57:00-04:00",
          "2024-06-07T12:58:00-04:00",
          "2024-06-07T12:59:00-04:00",
          "2024-06-07T13:00:00-04:00",
          "2024-06-07T13:01:00-04:00",
          "2024-06-07T13:02:00-04:00",
          "2024-06-07T13:03:00-04:00",
          "2024-06-07T13:04:00-04:00",
          "2024-06-07T13:05:00-04:00",
          "2024-06-07T13:06:00-04:00",
          "2024-06-07T13:07:00-04:00",
          "2024-06-07T13:08:00-04:00",
          "2024-06-07T13:09:00-04:00",
          "2024-06-07T13:10:00-04:00",
          "2024-06-07T13:11:00-04:00",
          "2024-06-07T13:12:00-04:00",
          "2024-06-07T13:13:00-04:00",
          "2024-06-07T13:14:00-04:00",
          "2024-06-07T13:15:00-04:00",
          "2024-06-07T13:16:00-04:00",
          "2024-06-07T13:17:00-04:00",
          "2024-06-07T13:18:00-04:00",
          "2024-06-07T13:19:00-04:00",
          "2024-06-07T13:20:00-04:00",
          "2024-06-07T13:21:00-04:00",
          "2024-06-07T13:22:00-04:00",
          "2024-06-07T13:23:00-04:00",
          "2024-06-07T13:24:00-04:00",
          "2024-06-07T13:25:00-04:00",
          "2024-06-07T13:26:00-04:00",
          "2024-06-07T13:27:00-04:00",
          "2024-06-07T13:28:00-04:00",
          "2024-06-07T13:29:00-04:00",
          "2024-06-07T13:30:00-04:00",
          "2024-06-07T13:31:00-04:00",
          "2024-06-07T13:32:00-04:00",
          "2024-06-07T13:33:00-04:00",
          "2024-06-07T13:34:00-04:00",
          "2024-06-07T13:35:00-04:00",
          "2024-06-07T13:36:00-04:00",
          "2024-06-07T13:37:00-04:00",
          "2024-06-07T13:38:00-04:00",
          "2024-06-07T13:39:00-04:00",
          "2024-06-07T13:40:00-04:00",
          "2024-06-07T13:41:00-04:00",
          "2024-06-07T13:42:00-04:00",
          "2024-06-07T13:43:00-04:00",
          "2024-06-07T13:44:00-04:00",
          "2024-06-07T13:45:00-04:00",
          "2024-06-07T13:46:00-04:00",
          "2024-06-07T13:47:00-04:00",
          "2024-06-07T13:48:00-04:00",
          "2024-06-07T13:49:00-04:00",
          "2024-06-07T13:50:00-04:00",
          "2024-06-07T13:51:00-04:00",
          "2024-06-07T13:52:00-04:00",
          "2024-06-07T13:53:00-04:00",
          "2024-06-07T13:54:00-04:00",
          "2024-06-07T13:55:00-04:00",
          "2024-06-07T13:56:00-04:00",
          "2024-06-07T13:57:00-04:00",
          "2024-06-07T13:58:00-04:00",
          "2024-06-07T13:59:00-04:00",
          "2024-06-07T14:00:00-04:00",
          "2024-06-07T14:01:00-04:00",
          "2024-06-07T14:02:00-04:00",
          "2024-06-07T14:03:00-04:00",
          "2024-06-07T14:04:00-04:00",
          "2024-06-07T14:05:00-04:00",
          "2024-06-07T14:06:00-04:00",
          "2024-06-07T14:07:00-04:00",
          "2024-06-07T14:08:00-04:00",
          "2024-06-07T14:09:00-04:00",
          "2024-06-07T14:10:00-04:00",
          "2024-06-07T14:11:00-04:00",
          "2024-06-07T14:12:00-04:00",
          "2024-06-07T14:13:00-04:00",
          "2024-06-07T14:14:00-04:00",
          "2024-06-07T14:15:00-04:00",
          "2024-06-07T14:16:00-04:00",
          "2024-06-07T14:17:00-04:00",
          "2024-06-07T14:18:00-04:00",
          "2024-06-07T14:19:00-04:00",
          "2024-06-07T14:20:00-04:00",
          "2024-06-07T14:21:00-04:00",
          "2024-06-07T14:22:00-04:00",
          "2024-06-07T14:23:00-04:00",
          "2024-06-07T14:24:00-04:00",
          "2024-06-07T14:25:00-04:00",
          "2024-06-07T14:26:00-04:00",
          "2024-06-07T14:27:00-04:00",
          "2024-06-07T14:28:00-04:00",
          "2024-06-07T14:29:00-04:00",
          "2024-06-07T14:30:00-04:00",
          "2024-06-07T14:31:00-04:00",
          "2024-06-07T14:32:00-04:00",
          "2024-06-07T14:33:00-04:00",
          "2024-06-07T14:34:00-04:00",
          "2024-06-07T14:35:00-04:00",
          "2024-06-07T14:36:00-04:00",
          "2024-06-07T14:37:00-04:00",
          "2024-06-07T14:38:00-04:00",
          "2024-06-07T14:39:00-04:00",
          "2024-06-07T14:40:00-04:00",
          "2024-06-07T14:41:00-04:00",
          "2024-06-07T14:42:00-04:00",
          "2024-06-07T14:43:00-04:00",
          "2024-06-07T14:44:00-04:00",
          "2024-06-07T14:45:00-04:00",
          "2024-06-07T14:46:00-04:00",
          "2024-06-07T14:47:00-04:00",
          "2024-06-07T14:48:00-04:00",
          "2024-06-07T14:49:00-04:00",
          "2024-06-07T14:50:00-04:00",
          "2024-06-07T14:51:00-04:00",
          "2024-06-07T14:52:00-04:00",
          "2024-06-07T14:53:00-04:00",
          "2024-06-07T14:54:00-04:00",
          "2024-06-07T14:55:00-04:00",
          "2024-06-07T14:56:00-04:00",
          "2024-06-07T14:57:00-04:00",
          "2024-06-07T14:58:00-04:00",
          "2024-06-07T14:59:00-04:00",
          "2024-06-07T15:00:00-04:00",
          "2024-06-07T15:01:00-04:00",
          "2024-06-07T15:02:00-04:00",
          "2024-06-07T15:03:00-04:00",
          "2024-06-07T15:04:00-04:00",
          "2024-06-07T15:05:00-04:00",
          "2024-06-07T15:06:00-04:00",
          "2024-06-07T15:07:00-04:00",
          "2024-06-07T15:08:00-04:00",
          "2024-06-07T15:09:00-04:00",
          "2024-06-07T15:10:00-04:00",
          "2024-06-07T15:11:00-04:00",
          "2024-06-07T15:12:00-04:00",
          "2024-06-07T15:13:00-04:00",
          "2024-06-07T15:14:00-04:00",
          "2024-06-07T15:15:00-04:00",
          "2024-06-07T15:16:00-04:00",
          "2024-06-07T15:17:00-04:00",
          "2024-06-07T15:18:00-04:00",
          "2024-06-07T15:19:00-04:00",
          "2024-06-07T15:20:00-04:00",
          "2024-06-07T15:21:00-04:00",
          "2024-06-07T15:22:00-04:00",
          "2024-06-07T15:23:00-04:00",
          "2024-06-07T15:24:00-04:00",
          "2024-06-07T15:25:00-04:00",
          "2024-06-07T15:26:00-04:00",
          "2024-06-07T15:27:00-04:00",
          "2024-06-07T15:28:00-04:00",
          "2024-06-07T15:29:00-04:00",
          "2024-06-07T15:30:00-04:00",
          "2024-06-07T15:31:00-04:00",
          "2024-06-07T15:32:00-04:00",
          "2024-06-07T15:33:00-04:00",
          "2024-06-07T15:34:00-04:00",
          "2024-06-07T15:35:00-04:00",
          "2024-06-07T15:36:00-04:00",
          "2024-06-07T15:37:00-04:00",
          "2024-06-07T15:38:00-04:00",
          "2024-06-07T15:39:00-04:00",
          "2024-06-07T15:40:00-04:00",
          "2024-06-07T15:41:00-04:00",
          "2024-06-07T15:42:00-04:00",
          "2024-06-07T15:43:00-04:00",
          "2024-06-07T15:44:00-04:00",
          "2024-06-07T15:45:00-04:00",
          "2024-06-07T15:46:00-04:00",
          "2024-06-07T15:47:00-04:00",
          "2024-06-07T15:48:00-04:00",
          "2024-06-07T15:49:00-04:00",
          "2024-06-07T15:50:00-04:00",
          "2024-06-07T15:51:00-04:00",
          "2024-06-07T15:52:00-04:00",
          "2024-06-07T15:53:00-04:00",
          "2024-06-07T15:54:00-04:00",
          "2024-06-07T15:55:00-04:00",
          "2024-06-07T15:56:00-04:00",
          "2024-06-07T15:57:00-04:00",
          "2024-06-07T15:58:00-04:00",
          "2024-06-07T15:59:00-04:00"
         ],
         "xaxis": "x",
         "y": [
          195.5,
          195.66000366210938,
          195.07000732421875,
          195.2480010986328,
          194.98989868164062,
          194.7899932861328,
          194.6699981689453,
          194.7550048828125,
          194.5800018310547,
          194.33999633789062,
          194.2097930908203,
          194.43899536132812,
          194.48500061035156,
          194.57000732421875,
          194.59500122070312,
          194.53909301757812,
          194.44569396972656,
          194.47000122070312,
          194.6300048828125,
          194.61000061035156,
          194.66000366210938,
          194.6999969482422,
          194.55990600585938,
          194.58999633789062,
          194.5699005126953,
          194.5399932861328,
          194.5500030517578,
          194.56309509277344,
          194.5800018310547,
          194.67999267578125,
          194.85000610351562,
          194.75999450683594,
          194.7863006591797,
          194.65989685058594,
          194.80499267578125,
          194.75,
          194.8699951171875,
          194.89520263671875,
          194.94000244140625,
          194.93800354003906,
          194.78700256347656,
          194.94000244140625,
          194.9499053955078,
          194.9949951171875,
          194.86000061035156,
          194.9550018310547,
          195.00999450683594,
          195.08999633789062,
          195.0500030517578,
          194.99920654296875,
          194.9499969482422,
          195.02499389648438,
          195.10499572753906,
          195.0800018310547,
          195.11309814453125,
          195.01499938964844,
          194.91000366210938,
          194.875,
          194.83999633789062,
          194.80999755859375,
          194.7899932861328,
          194.8350067138672,
          194.86500549316406,
          194.97000122070312,
          195.0299072265625,
          195.1999969482422,
          195.13499450683594,
          195.2001953125,
          195.16200256347656,
          195.27499389648438,
          195.4199981689453,
          195.5449981689453,
          195.7187957763672,
          195.63499450683594,
          195.60499572753906,
          195.7200927734375,
          195.7917022705078,
          195.86500549316406,
          195.9199981689453,
          195.78500366210938,
          195.8249969482422,
          195.80999755859375,
          195.73500061035156,
          195.77499389648438,
          195.84759521484375,
          195.82000732421875,
          195.72000122070312,
          195.61000061035156,
          195.5800018310547,
          195.6300048828125,
          195.38119506835938,
          195.3498992919922,
          195.36000061035156,
          195.27000427246094,
          195.22999572753906,
          195.24000549316406,
          195.1300048828125,
          194.97000122070312,
          195.14500427246094,
          195.16000366210938,
          195.05999755859375,
          195.1199951171875,
          195.16000366210938,
          195.1699981689453,
          195.27000427246094,
          195.22999572753906,
          195.1999969482422,
          195.21499633789062,
          195.2100067138672,
          195.22799682617188,
          195.09519958496094,
          195.11500549316406,
          195.13499450683594,
          195.22000122070312,
          195.27789306640625,
          195.42999267578125,
          195.50999450683594,
          195.4600067138672,
          195.42999267578125,
          195.6199951171875,
          195.69000244140625,
          195.7550048828125,
          195.82859802246094,
          195.875,
          195.88499450683594,
          195.7899932861328,
          195.7949981689453,
          195.72000122070312,
          195.77999877929688,
          195.83999633789062,
          195.9149932861328,
          195.8699951171875,
          195.77859497070312,
          195.76499938964844,
          195.76010131835938,
          195.75010681152344,
          195.8699951171875,
          195.84500122070312,
          195.92770385742188,
          195.80999755859375,
          195.80499267578125,
          195.8249969482422,
          195.78399658203125,
          195.77499389648438,
          195.82000732421875,
          195.8800048828125,
          195.91990661621094,
          195.89999389648438,
          195.88499450683594,
          195.86000061035156,
          195.90499877929688,
          195.8175048828125,
          195.83999633789062,
          195.86500549316406,
          195.875,
          195.8614044189453,
          195.97999572753906,
          196.0050048828125,
          196.1510009765625,
          196.09010314941406,
          196.0399932861328,
          196.01499938964844,
          196.0399932861328,
          195.9949951171875,
          195.8300018310547,
          195.81500244140625,
          195.72500610351562,
          195.67999267578125,
          195.64999389648438,
          195.6750030517578,
          195.64999389648438,
          195.6750030517578,
          195.7364959716797,
          195.89500427246094,
          195.9600067138672,
          195.93499755859375,
          195.8199005126953,
          195.82000732421875,
          195.83999633789062,
          195.9550018310547,
          196.11000061035156,
          196.10499572753906,
          196.09500122070312,
          196.12789916992188,
          196.0749969482422,
          196.0850067138672,
          196.04249572753906,
          195.98500061035156,
          196,
          195.91000366210938,
          195.88499450683594,
          195.7949981689453,
          195.86000061035156,
          195.8350067138672,
          195.8350067138672,
          195.8800048828125,
          195.8000030517578,
          195.7550048828125,
          195.74000549316406,
          195.83999633789062,
          195.97500610351562,
          195.9600067138672,
          196.0363006591797,
          196.00999450683594,
          196.11990356445312,
          196.26499938964844,
          196.39500427246094,
          196.38499450683594,
          196.27999877929688,
          196.32000732421875,
          196.25999450683594,
          196.24000549316406,
          196.23500061035156,
          196.27999877929688,
          196.25,
          196.21499633789062,
          196.1699981689453,
          196.1649932861328,
          196.16000366210938,
          196.08999633789062,
          196.1699981689453,
          196.19000244140625,
          196.22999572753906,
          196.2899932861328,
          196.26499938964844,
          196.3000030517578,
          196.2779998779297,
          196.21009826660156,
          196.19259643554688,
          196.23500061035156,
          196.26499938964844,
          196.30499267578125,
          196.3300018310547,
          196.4199981689453,
          196.47000122070312,
          196.4499969482422,
          196.40989685058594,
          196.4199981689453,
          196.38999938964844,
          196.36000061035156,
          196.3654022216797,
          196.4250030517578,
          196.4001007080078,
          196.389892578125,
          196.41009521484375,
          196.3800048828125,
          196.39500427246094,
          196.32000732421875,
          196.3300018310547,
          196.36000061035156,
          196.26499938964844,
          196.25,
          196.22000122070312,
          196.25,
          196.25999450683594,
          196.19000244140625,
          196.2449951171875,
          196.30999755859375,
          196.29949951171875,
          196.25999450683594,
          196.2447052001953,
          196.32679748535156,
          196.375,
          196.38999938964844,
          196.35020446777344,
          196.36099243164062,
          196.43499755859375,
          196.47500610351562,
          196.5500030517578,
          196.5050048828125,
          196.35000610351562,
          196.34970092773438,
          196.34500122070312,
          196.3699951171875,
          196.33790588378906,
          196.1999969482422,
          196.20030212402344,
          196.0800018310547,
          195.94000244140625,
          196,
          196.0500030517578,
          196.11000061035156,
          196.08999633789062,
          196.0050048828125,
          195.8800048828125,
          195.82000732421875,
          195.89999389648438,
          195.80999755859375,
          195.85000610351562,
          195.845703125,
          196.0063934326172,
          195.97999572753906,
          195.9499969482422,
          195.98500061035156,
          195.89999389648438,
          195.91000366210938,
          195.94500732421875,
          195.9886016845703,
          195.97000122070312,
          195.8699951171875,
          195.82000732421875,
          195.85000610351562,
          195.60499572753906,
          195.6999969482422,
          195.6367950439453,
          195.67999267578125,
          195.6649932861328,
          195.7050018310547,
          195.681396484375,
          195.69500732421875,
          195.71180725097656,
          195.6699981689453,
          195.66000366210938,
          195.6999969482422,
          195.7899932861328,
          195.77999877929688,
          195.7899932861328,
          195.85000610351562,
          195.81500244140625,
          195.77000427246094,
          195.74000549316406,
          195.72999572753906,
          195.71499633789062,
          195.7736053466797,
          195.81820678710938,
          195.8249969482422,
          195.8000030517578,
          195.83999633789062,
          195.85499572753906,
          195.86000061035156,
          195.88229370117188,
          195.88499450683594,
          195.9250030517578,
          195.88999938964844,
          195.91720581054688,
          195.80499267578125,
          195.8218994140625,
          195.89999389648438,
          195.9199981689453,
          195.88999938964844,
          195.92999267578125,
          195.87530517578125,
          195.89999389648438,
          195.8300018310547,
          195.9199981689453,
          195.91000366210938,
          196.0749969482422,
          196.01499938964844,
          195.91000366210938,
          196.00619506835938,
          196.02999877929688,
          196.0500030517578,
          196.03500366210938,
          196.0850067138672,
          196.0500030517578,
          196.02000427246094,
          196.13999938964844,
          196.2550048828125,
          196.38999938964844,
          196.4394989013672,
          196.3000030517578,
          196.39999389648438,
          196.45599365234375,
          196.4550018310547,
          196.49989318847656,
          196.55499267578125,
          196.47999572753906,
          196.3000030517578,
          196.5,
          196.55999755859375,
          196.63340759277344,
          196.63999938964844,
          196.77499389648438,
          196.83949279785156,
          196.80499267578125,
          196.7550048828125,
          196.65499877929688,
          196.625,
          196.61000061035156,
          196.52999877929688,
          196.5500030517578,
          196.5500030517578,
          196.5565948486328,
          196.53500366210938,
          196.57000732421875,
          196.74000549316406,
          196.72000122070312,
          196.8699951171875,
          196.85000610351562,
          196.89999389648438
         ],
         "yaxis": "y"
        }
       ],
       "layout": {
        "legend": {
         "tracegroupgap": 0
        },
        "template": {
         "data": {
          "bar": [
           {
            "error_x": {
             "color": "#2a3f5f"
            },
            "error_y": {
             "color": "#2a3f5f"
            },
            "marker": {
             "line": {
              "color": "#E5ECF6",
              "width": 0.5
             },
             "pattern": {
              "fillmode": "overlay",
              "size": 10,
              "solidity": 0.2
             }
            },
            "type": "bar"
           }
          ],
          "barpolar": [
           {
            "marker": {
             "line": {
              "color": "#E5ECF6",
              "width": 0.5
             },
             "pattern": {
              "fillmode": "overlay",
              "size": 10,
              "solidity": 0.2
             }
            },
            "type": "barpolar"
           }
          ],
          "carpet": [
           {
            "aaxis": {
             "endlinecolor": "#2a3f5f",
             "gridcolor": "white",
             "linecolor": "white",
             "minorgridcolor": "white",
             "startlinecolor": "#2a3f5f"
            },
            "baxis": {
             "endlinecolor": "#2a3f5f",
             "gridcolor": "white",
             "linecolor": "white",
             "minorgridcolor": "white",
             "startlinecolor": "#2a3f5f"
            },
            "type": "carpet"
           }
          ],
          "choropleth": [
           {
            "colorbar": {
             "outlinewidth": 0,
             "ticks": ""
            },
            "type": "choropleth"
           }
          ],
          "contour": [
           {
            "colorbar": {
             "outlinewidth": 0,
             "ticks": ""
            },
            "colorscale": [
             [
              0,
              "#0d0887"
             ],
             [
              0.1111111111111111,
              "#46039f"
             ],
             [
              0.2222222222222222,
              "#7201a8"
             ],
             [
              0.3333333333333333,
              "#9c179e"
             ],
             [
              0.4444444444444444,
              "#bd3786"
             ],
             [
              0.5555555555555556,
              "#d8576b"
             ],
             [
              0.6666666666666666,
              "#ed7953"
             ],
             [
              0.7777777777777778,
              "#fb9f3a"
             ],
             [
              0.8888888888888888,
              "#fdca26"
             ],
             [
              1,
              "#f0f921"
             ]
            ],
            "type": "contour"
           }
          ],
          "contourcarpet": [
           {
            "colorbar": {
             "outlinewidth": 0,
             "ticks": ""
            },
            "type": "contourcarpet"
           }
          ],
          "heatmap": [
           {
            "colorbar": {
             "outlinewidth": 0,
             "ticks": ""
            },
            "colorscale": [
             [
              0,
              "#0d0887"
             ],
             [
              0.1111111111111111,
              "#46039f"
             ],
             [
              0.2222222222222222,
              "#7201a8"
             ],
             [
              0.3333333333333333,
              "#9c179e"
             ],
             [
              0.4444444444444444,
              "#bd3786"
             ],
             [
              0.5555555555555556,
              "#d8576b"
             ],
             [
              0.6666666666666666,
              "#ed7953"
             ],
             [
              0.7777777777777778,
              "#fb9f3a"
             ],
             [
              0.8888888888888888,
              "#fdca26"
             ],
             [
              1,
              "#f0f921"
             ]
            ],
            "type": "heatmap"
           }
          ],
          "heatmapgl": [
           {
            "colorbar": {
             "outlinewidth": 0,
             "ticks": ""
            },
            "colorscale": [
             [
              0,
              "#0d0887"
             ],
             [
              0.1111111111111111,
              "#46039f"
             ],
             [
              0.2222222222222222,
              "#7201a8"
             ],
             [
              0.3333333333333333,
              "#9c179e"
             ],
             [
              0.4444444444444444,
              "#bd3786"
             ],
             [
              0.5555555555555556,
              "#d8576b"
             ],
             [
              0.6666666666666666,
              "#ed7953"
             ],
             [
              0.7777777777777778,
              "#fb9f3a"
             ],
             [
              0.8888888888888888,
              "#fdca26"
             ],
             [
              1,
              "#f0f921"
             ]
            ],
            "type": "heatmapgl"
           }
          ],
          "histogram": [
           {
            "marker": {
             "pattern": {
              "fillmode": "overlay",
              "size": 10,
              "solidity": 0.2
             }
            },
            "type": "histogram"
           }
          ],
          "histogram2d": [
           {
            "colorbar": {
             "outlinewidth": 0,
             "ticks": ""
            },
            "colorscale": [
             [
              0,
              "#0d0887"
             ],
             [
              0.1111111111111111,
              "#46039f"
             ],
             [
              0.2222222222222222,
              "#7201a8"
             ],
             [
              0.3333333333333333,
              "#9c179e"
             ],
             [
              0.4444444444444444,
              "#bd3786"
             ],
             [
              0.5555555555555556,
              "#d8576b"
             ],
             [
              0.6666666666666666,
              "#ed7953"
             ],
             [
              0.7777777777777778,
              "#fb9f3a"
             ],
             [
              0.8888888888888888,
              "#fdca26"
             ],
             [
              1,
              "#f0f921"
             ]
            ],
            "type": "histogram2d"
           }
          ],
          "histogram2dcontour": [
           {
            "colorbar": {
             "outlinewidth": 0,
             "ticks": ""
            },
            "colorscale": [
             [
              0,
              "#0d0887"
             ],
             [
              0.1111111111111111,
              "#46039f"
             ],
             [
              0.2222222222222222,
              "#7201a8"
             ],
             [
              0.3333333333333333,
              "#9c179e"
             ],
             [
              0.4444444444444444,
              "#bd3786"
             ],
             [
              0.5555555555555556,
              "#d8576b"
             ],
             [
              0.6666666666666666,
              "#ed7953"
             ],
             [
              0.7777777777777778,
              "#fb9f3a"
             ],
             [
              0.8888888888888888,
              "#fdca26"
             ],
             [
              1,
              "#f0f921"
             ]
            ],
            "type": "histogram2dcontour"
           }
          ],
          "mesh3d": [
           {
            "colorbar": {
             "outlinewidth": 0,
             "ticks": ""
            },
            "type": "mesh3d"
           }
          ],
          "parcoords": [
           {
            "line": {
             "colorbar": {
              "outlinewidth": 0,
              "ticks": ""
             }
            },
            "type": "parcoords"
           }
          ],
          "pie": [
           {
            "automargin": true,
            "type": "pie"
           }
          ],
          "scatter": [
           {
            "fillpattern": {
             "fillmode": "overlay",
             "size": 10,
             "solidity": 0.2
            },
            "type": "scatter"
           }
          ],
          "scatter3d": [
           {
            "line": {
             "colorbar": {
              "outlinewidth": 0,
              "ticks": ""
             }
            },
            "marker": {
             "colorbar": {
              "outlinewidth": 0,
              "ticks": ""
             }
            },
            "type": "scatter3d"
           }
          ],
          "scattercarpet": [
           {
            "marker": {
             "colorbar": {
              "outlinewidth": 0,
              "ticks": ""
             }
            },
            "type": "scattercarpet"
           }
          ],
          "scattergeo": [
           {
            "marker": {
             "colorbar": {
              "outlinewidth": 0,
              "ticks": ""
             }
            },
            "type": "scattergeo"
           }
          ],
          "scattergl": [
           {
            "marker": {
             "colorbar": {
              "outlinewidth": 0,
              "ticks": ""
             }
            },
            "type": "scattergl"
           }
          ],
          "scattermapbox": [
           {
            "marker": {
             "colorbar": {
              "outlinewidth": 0,
              "ticks": ""
             }
            },
            "type": "scattermapbox"
           }
          ],
          "scatterpolar": [
           {
            "marker": {
             "colorbar": {
              "outlinewidth": 0,
              "ticks": ""
             }
            },
            "type": "scatterpolar"
           }
          ],
          "scatterpolargl": [
           {
            "marker": {
             "colorbar": {
              "outlinewidth": 0,
              "ticks": ""
             }
            },
            "type": "scatterpolargl"
           }
          ],
          "scatterternary": [
           {
            "marker": {
             "colorbar": {
              "outlinewidth": 0,
              "ticks": ""
             }
            },
            "type": "scatterternary"
           }
          ],
          "surface": [
           {
            "colorbar": {
             "outlinewidth": 0,
             "ticks": ""
            },
            "colorscale": [
             [
              0,
              "#0d0887"
             ],
             [
              0.1111111111111111,
              "#46039f"
             ],
             [
              0.2222222222222222,
              "#7201a8"
             ],
             [
              0.3333333333333333,
              "#9c179e"
             ],
             [
              0.4444444444444444,
              "#bd3786"
             ],
             [
              0.5555555555555556,
              "#d8576b"
             ],
             [
              0.6666666666666666,
              "#ed7953"
             ],
             [
              0.7777777777777778,
              "#fb9f3a"
             ],
             [
              0.8888888888888888,
              "#fdca26"
             ],
             [
              1,
              "#f0f921"
             ]
            ],
            "type": "surface"
           }
          ],
          "table": [
           {
            "cells": {
             "fill": {
              "color": "#EBF0F8"
             },
             "line": {
              "color": "white"
             }
            },
            "header": {
             "fill": {
              "color": "#C8D4E3"
             },
             "line": {
              "color": "white"
             }
            },
            "type": "table"
           }
          ]
         },
         "layout": {
          "annotationdefaults": {
           "arrowcolor": "#2a3f5f",
           "arrowhead": 0,
           "arrowwidth": 1
          },
          "autotypenumbers": "strict",
          "coloraxis": {
           "colorbar": {
            "outlinewidth": 0,
            "ticks": ""
           }
          },
          "colorscale": {
           "diverging": [
            [
             0,
             "#8e0152"
            ],
            [
             0.1,
             "#c51b7d"
            ],
            [
             0.2,
             "#de77ae"
            ],
            [
             0.3,
             "#f1b6da"
            ],
            [
             0.4,
             "#fde0ef"
            ],
            [
             0.5,
             "#f7f7f7"
            ],
            [
             0.6,
             "#e6f5d0"
            ],
            [
             0.7,
             "#b8e186"
            ],
            [
             0.8,
             "#7fbc41"
            ],
            [
             0.9,
             "#4d9221"
            ],
            [
             1,
             "#276419"
            ]
           ],
           "sequential": [
            [
             0,
             "#0d0887"
            ],
            [
             0.1111111111111111,
             "#46039f"
            ],
            [
             0.2222222222222222,
             "#7201a8"
            ],
            [
             0.3333333333333333,
             "#9c179e"
            ],
            [
             0.4444444444444444,
             "#bd3786"
            ],
            [
             0.5555555555555556,
             "#d8576b"
            ],
            [
             0.6666666666666666,
             "#ed7953"
            ],
            [
             0.7777777777777778,
             "#fb9f3a"
            ],
            [
             0.8888888888888888,
             "#fdca26"
            ],
            [
             1,
             "#f0f921"
            ]
           ],
           "sequentialminus": [
            [
             0,
             "#0d0887"
            ],
            [
             0.1111111111111111,
             "#46039f"
            ],
            [
             0.2222222222222222,
             "#7201a8"
            ],
            [
             0.3333333333333333,
             "#9c179e"
            ],
            [
             0.4444444444444444,
             "#bd3786"
            ],
            [
             0.5555555555555556,
             "#d8576b"
            ],
            [
             0.6666666666666666,
             "#ed7953"
            ],
            [
             0.7777777777777778,
             "#fb9f3a"
            ],
            [
             0.8888888888888888,
             "#fdca26"
            ],
            [
             1,
             "#f0f921"
            ]
           ]
          },
          "colorway": [
           "#636efa",
           "#EF553B",
           "#00cc96",
           "#ab63fa",
           "#FFA15A",
           "#19d3f3",
           "#FF6692",
           "#B6E880",
           "#FF97FF",
           "#FECB52"
          ],
          "font": {
           "color": "#2a3f5f"
          },
          "geo": {
           "bgcolor": "white",
           "lakecolor": "white",
           "landcolor": "#E5ECF6",
           "showlakes": true,
           "showland": true,
           "subunitcolor": "white"
          },
          "hoverlabel": {
           "align": "left"
          },
          "hovermode": "closest",
          "mapbox": {
           "style": "light"
          },
          "paper_bgcolor": "white",
          "plot_bgcolor": "#E5ECF6",
          "polar": {
           "angularaxis": {
            "gridcolor": "white",
            "linecolor": "white",
            "ticks": ""
           },
           "bgcolor": "#E5ECF6",
           "radialaxis": {
            "gridcolor": "white",
            "linecolor": "white",
            "ticks": ""
           }
          },
          "scene": {
           "xaxis": {
            "backgroundcolor": "#E5ECF6",
            "gridcolor": "white",
            "gridwidth": 2,
            "linecolor": "white",
            "showbackground": true,
            "ticks": "",
            "zerolinecolor": "white"
           },
           "yaxis": {
            "backgroundcolor": "#E5ECF6",
            "gridcolor": "white",
            "gridwidth": 2,
            "linecolor": "white",
            "showbackground": true,
            "ticks": "",
            "zerolinecolor": "white"
           },
           "zaxis": {
            "backgroundcolor": "#E5ECF6",
            "gridcolor": "white",
            "gridwidth": 2,
            "linecolor": "white",
            "showbackground": true,
            "ticks": "",
            "zerolinecolor": "white"
           }
          },
          "shapedefaults": {
           "line": {
            "color": "#2a3f5f"
           }
          },
          "ternary": {
           "aaxis": {
            "gridcolor": "white",
            "linecolor": "white",
            "ticks": ""
           },
           "baxis": {
            "gridcolor": "white",
            "linecolor": "white",
            "ticks": ""
           },
           "bgcolor": "#E5ECF6",
           "caxis": {
            "gridcolor": "white",
            "linecolor": "white",
            "ticks": ""
           }
          },
          "title": {
           "x": 0.05
          },
          "xaxis": {
           "automargin": true,
           "gridcolor": "white",
           "linecolor": "white",
           "ticks": "",
           "title": {
            "standoff": 15
           },
           "zerolinecolor": "white",
           "zerolinewidth": 2
          },
          "yaxis": {
           "automargin": true,
           "gridcolor": "white",
           "linecolor": "white",
           "ticks": "",
           "title": {
            "standoff": 15
           },
           "zerolinecolor": "white",
           "zerolinewidth": 2
          }
         }
        },
        "title": {
         "text": "AAPL Stock Prices"
        },
        "xaxis": {
         "anchor": "y",
         "domain": [
          0,
          1
         ],
         "title": {
          "text": "Datetime"
         }
        },
        "yaxis": {
         "anchor": "x",
         "domain": [
          0,
          1
         ],
         "title": {
          "text": "Close"
         }
        }
       }
      },
      "text/html": [
       "<div>                            <div id=\"81ce94b8-da21-46ce-9d0a-8ddfb8286984\" class=\"plotly-graph-div\" style=\"height:525px; width:100%;\"></div>            <script type=\"text/javascript\">                require([\"plotly\"], function(Plotly) {                    window.PLOTLYENV=window.PLOTLYENV || {};                                    if (document.getElementById(\"81ce94b8-da21-46ce-9d0a-8ddfb8286984\")) {                    Plotly.newPlot(                        \"81ce94b8-da21-46ce-9d0a-8ddfb8286984\",                        [{\"hovertemplate\":\"Datetime=%{x}<br>Close=%{y}<extra></extra>\",\"legendgroup\":\"\",\"line\":{\"color\":\"#636efa\",\"dash\":\"solid\"},\"marker\":{\"symbol\":\"circle\"},\"mode\":\"lines\",\"name\":\"\",\"orientation\":\"v\",\"showlegend\":false,\"x\":[\"2024-06-07T09:30:00-04:00\",\"2024-06-07T09:31:00-04:00\",\"2024-06-07T09:32:00-04:00\",\"2024-06-07T09:33:00-04:00\",\"2024-06-07T09:34:00-04:00\",\"2024-06-07T09:35:00-04:00\",\"2024-06-07T09:36:00-04:00\",\"2024-06-07T09:37:00-04:00\",\"2024-06-07T09:38:00-04:00\",\"2024-06-07T09:39:00-04:00\",\"2024-06-07T09:40:00-04:00\",\"2024-06-07T09:41:00-04:00\",\"2024-06-07T09:42:00-04:00\",\"2024-06-07T09:43:00-04:00\",\"2024-06-07T09:44:00-04:00\",\"2024-06-07T09:45:00-04:00\",\"2024-06-07T09:46:00-04:00\",\"2024-06-07T09:47:00-04:00\",\"2024-06-07T09:48:00-04:00\",\"2024-06-07T09:49:00-04:00\",\"2024-06-07T09:50:00-04:00\",\"2024-06-07T09:51:00-04:00\",\"2024-06-07T09:52:00-04:00\",\"2024-06-07T09:53:00-04:00\",\"2024-06-07T09:54:00-04:00\",\"2024-06-07T09:55:00-04:00\",\"2024-06-07T09:56:00-04:00\",\"2024-06-07T09:57:00-04:00\",\"2024-06-07T09:58:00-04:00\",\"2024-06-07T09:59:00-04:00\",\"2024-06-07T10:00:00-04:00\",\"2024-06-07T10:01:00-04:00\",\"2024-06-07T10:02:00-04:00\",\"2024-06-07T10:03:00-04:00\",\"2024-06-07T10:04:00-04:00\",\"2024-06-07T10:05:00-04:00\",\"2024-06-07T10:06:00-04:00\",\"2024-06-07T10:07:00-04:00\",\"2024-06-07T10:08:00-04:00\",\"2024-06-07T10:09:00-04:00\",\"2024-06-07T10:10:00-04:00\",\"2024-06-07T10:11:00-04:00\",\"2024-06-07T10:12:00-04:00\",\"2024-06-07T10:13:00-04:00\",\"2024-06-07T10:14:00-04:00\",\"2024-06-07T10:15:00-04:00\",\"2024-06-07T10:16:00-04:00\",\"2024-06-07T10:17:00-04:00\",\"2024-06-07T10:18:00-04:00\",\"2024-06-07T10:19:00-04:00\",\"2024-06-07T10:20:00-04:00\",\"2024-06-07T10:21:00-04:00\",\"2024-06-07T10:22:00-04:00\",\"2024-06-07T10:23:00-04:00\",\"2024-06-07T10:24:00-04:00\",\"2024-06-07T10:25:00-04:00\",\"2024-06-07T10:26:00-04:00\",\"2024-06-07T10:27:00-04:00\",\"2024-06-07T10:28:00-04:00\",\"2024-06-07T10:29:00-04:00\",\"2024-06-07T10:30:00-04:00\",\"2024-06-07T10:31:00-04:00\",\"2024-06-07T10:32:00-04:00\",\"2024-06-07T10:33:00-04:00\",\"2024-06-07T10:34:00-04:00\",\"2024-06-07T10:35:00-04:00\",\"2024-06-07T10:36:00-04:00\",\"2024-06-07T10:37:00-04:00\",\"2024-06-07T10:38:00-04:00\",\"2024-06-07T10:39:00-04:00\",\"2024-06-07T10:40:00-04:00\",\"2024-06-07T10:41:00-04:00\",\"2024-06-07T10:42:00-04:00\",\"2024-06-07T10:43:00-04:00\",\"2024-06-07T10:44:00-04:00\",\"2024-06-07T10:45:00-04:00\",\"2024-06-07T10:46:00-04:00\",\"2024-06-07T10:47:00-04:00\",\"2024-06-07T10:48:00-04:00\",\"2024-06-07T10:49:00-04:00\",\"2024-06-07T10:50:00-04:00\",\"2024-06-07T10:51:00-04:00\",\"2024-06-07T10:52:00-04:00\",\"2024-06-07T10:53:00-04:00\",\"2024-06-07T10:54:00-04:00\",\"2024-06-07T10:55:00-04:00\",\"2024-06-07T10:56:00-04:00\",\"2024-06-07T10:57:00-04:00\",\"2024-06-07T10:58:00-04:00\",\"2024-06-07T10:59:00-04:00\",\"2024-06-07T11:00:00-04:00\",\"2024-06-07T11:01:00-04:00\",\"2024-06-07T11:02:00-04:00\",\"2024-06-07T11:03:00-04:00\",\"2024-06-07T11:04:00-04:00\",\"2024-06-07T11:05:00-04:00\",\"2024-06-07T11:06:00-04:00\",\"2024-06-07T11:07:00-04:00\",\"2024-06-07T11:08:00-04:00\",\"2024-06-07T11:09:00-04:00\",\"2024-06-07T11:10:00-04:00\",\"2024-06-07T11:11:00-04:00\",\"2024-06-07T11:12:00-04:00\",\"2024-06-07T11:13:00-04:00\",\"2024-06-07T11:14:00-04:00\",\"2024-06-07T11:15:00-04:00\",\"2024-06-07T11:16:00-04:00\",\"2024-06-07T11:17:00-04:00\",\"2024-06-07T11:18:00-04:00\",\"2024-06-07T11:19:00-04:00\",\"2024-06-07T11:20:00-04:00\",\"2024-06-07T11:21:00-04:00\",\"2024-06-07T11:22:00-04:00\",\"2024-06-07T11:23:00-04:00\",\"2024-06-07T11:24:00-04:00\",\"2024-06-07T11:25:00-04:00\",\"2024-06-07T11:26:00-04:00\",\"2024-06-07T11:27:00-04:00\",\"2024-06-07T11:28:00-04:00\",\"2024-06-07T11:29:00-04:00\",\"2024-06-07T11:30:00-04:00\",\"2024-06-07T11:31:00-04:00\",\"2024-06-07T11:32:00-04:00\",\"2024-06-07T11:33:00-04:00\",\"2024-06-07T11:34:00-04:00\",\"2024-06-07T11:35:00-04:00\",\"2024-06-07T11:36:00-04:00\",\"2024-06-07T11:37:00-04:00\",\"2024-06-07T11:38:00-04:00\",\"2024-06-07T11:39:00-04:00\",\"2024-06-07T11:40:00-04:00\",\"2024-06-07T11:41:00-04:00\",\"2024-06-07T11:42:00-04:00\",\"2024-06-07T11:43:00-04:00\",\"2024-06-07T11:44:00-04:00\",\"2024-06-07T11:45:00-04:00\",\"2024-06-07T11:46:00-04:00\",\"2024-06-07T11:47:00-04:00\",\"2024-06-07T11:48:00-04:00\",\"2024-06-07T11:49:00-04:00\",\"2024-06-07T11:50:00-04:00\",\"2024-06-07T11:51:00-04:00\",\"2024-06-07T11:52:00-04:00\",\"2024-06-07T11:53:00-04:00\",\"2024-06-07T11:54:00-04:00\",\"2024-06-07T11:55:00-04:00\",\"2024-06-07T11:56:00-04:00\",\"2024-06-07T11:57:00-04:00\",\"2024-06-07T11:58:00-04:00\",\"2024-06-07T11:59:00-04:00\",\"2024-06-07T12:00:00-04:00\",\"2024-06-07T12:01:00-04:00\",\"2024-06-07T12:02:00-04:00\",\"2024-06-07T12:03:00-04:00\",\"2024-06-07T12:04:00-04:00\",\"2024-06-07T12:05:00-04:00\",\"2024-06-07T12:06:00-04:00\",\"2024-06-07T12:07:00-04:00\",\"2024-06-07T12:08:00-04:00\",\"2024-06-07T12:09:00-04:00\",\"2024-06-07T12:10:00-04:00\",\"2024-06-07T12:11:00-04:00\",\"2024-06-07T12:12:00-04:00\",\"2024-06-07T12:13:00-04:00\",\"2024-06-07T12:14:00-04:00\",\"2024-06-07T12:15:00-04:00\",\"2024-06-07T12:16:00-04:00\",\"2024-06-07T12:17:00-04:00\",\"2024-06-07T12:18:00-04:00\",\"2024-06-07T12:19:00-04:00\",\"2024-06-07T12:20:00-04:00\",\"2024-06-07T12:21:00-04:00\",\"2024-06-07T12:22:00-04:00\",\"2024-06-07T12:23:00-04:00\",\"2024-06-07T12:24:00-04:00\",\"2024-06-07T12:25:00-04:00\",\"2024-06-07T12:26:00-04:00\",\"2024-06-07T12:27:00-04:00\",\"2024-06-07T12:28:00-04:00\",\"2024-06-07T12:29:00-04:00\",\"2024-06-07T12:30:00-04:00\",\"2024-06-07T12:31:00-04:00\",\"2024-06-07T12:32:00-04:00\",\"2024-06-07T12:33:00-04:00\",\"2024-06-07T12:34:00-04:00\",\"2024-06-07T12:35:00-04:00\",\"2024-06-07T12:36:00-04:00\",\"2024-06-07T12:37:00-04:00\",\"2024-06-07T12:38:00-04:00\",\"2024-06-07T12:39:00-04:00\",\"2024-06-07T12:40:00-04:00\",\"2024-06-07T12:41:00-04:00\",\"2024-06-07T12:42:00-04:00\",\"2024-06-07T12:43:00-04:00\",\"2024-06-07T12:44:00-04:00\",\"2024-06-07T12:45:00-04:00\",\"2024-06-07T12:46:00-04:00\",\"2024-06-07T12:47:00-04:00\",\"2024-06-07T12:48:00-04:00\",\"2024-06-07T12:49:00-04:00\",\"2024-06-07T12:50:00-04:00\",\"2024-06-07T12:51:00-04:00\",\"2024-06-07T12:52:00-04:00\",\"2024-06-07T12:53:00-04:00\",\"2024-06-07T12:54:00-04:00\",\"2024-06-07T12:55:00-04:00\",\"2024-06-07T12:56:00-04:00\",\"2024-06-07T12:57:00-04:00\",\"2024-06-07T12:58:00-04:00\",\"2024-06-07T12:59:00-04:00\",\"2024-06-07T13:00:00-04:00\",\"2024-06-07T13:01:00-04:00\",\"2024-06-07T13:02:00-04:00\",\"2024-06-07T13:03:00-04:00\",\"2024-06-07T13:04:00-04:00\",\"2024-06-07T13:05:00-04:00\",\"2024-06-07T13:06:00-04:00\",\"2024-06-07T13:07:00-04:00\",\"2024-06-07T13:08:00-04:00\",\"2024-06-07T13:09:00-04:00\",\"2024-06-07T13:10:00-04:00\",\"2024-06-07T13:11:00-04:00\",\"2024-06-07T13:12:00-04:00\",\"2024-06-07T13:13:00-04:00\",\"2024-06-07T13:14:00-04:00\",\"2024-06-07T13:15:00-04:00\",\"2024-06-07T13:16:00-04:00\",\"2024-06-07T13:17:00-04:00\",\"2024-06-07T13:18:00-04:00\",\"2024-06-07T13:19:00-04:00\",\"2024-06-07T13:20:00-04:00\",\"2024-06-07T13:21:00-04:00\",\"2024-06-07T13:22:00-04:00\",\"2024-06-07T13:23:00-04:00\",\"2024-06-07T13:24:00-04:00\",\"2024-06-07T13:25:00-04:00\",\"2024-06-07T13:26:00-04:00\",\"2024-06-07T13:27:00-04:00\",\"2024-06-07T13:28:00-04:00\",\"2024-06-07T13:29:00-04:00\",\"2024-06-07T13:30:00-04:00\",\"2024-06-07T13:31:00-04:00\",\"2024-06-07T13:32:00-04:00\",\"2024-06-07T13:33:00-04:00\",\"2024-06-07T13:34:00-04:00\",\"2024-06-07T13:35:00-04:00\",\"2024-06-07T13:36:00-04:00\",\"2024-06-07T13:37:00-04:00\",\"2024-06-07T13:38:00-04:00\",\"2024-06-07T13:39:00-04:00\",\"2024-06-07T13:40:00-04:00\",\"2024-06-07T13:41:00-04:00\",\"2024-06-07T13:42:00-04:00\",\"2024-06-07T13:43:00-04:00\",\"2024-06-07T13:44:00-04:00\",\"2024-06-07T13:45:00-04:00\",\"2024-06-07T13:46:00-04:00\",\"2024-06-07T13:47:00-04:00\",\"2024-06-07T13:48:00-04:00\",\"2024-06-07T13:49:00-04:00\",\"2024-06-07T13:50:00-04:00\",\"2024-06-07T13:51:00-04:00\",\"2024-06-07T13:52:00-04:00\",\"2024-06-07T13:53:00-04:00\",\"2024-06-07T13:54:00-04:00\",\"2024-06-07T13:55:00-04:00\",\"2024-06-07T13:56:00-04:00\",\"2024-06-07T13:57:00-04:00\",\"2024-06-07T13:58:00-04:00\",\"2024-06-07T13:59:00-04:00\",\"2024-06-07T14:00:00-04:00\",\"2024-06-07T14:01:00-04:00\",\"2024-06-07T14:02:00-04:00\",\"2024-06-07T14:03:00-04:00\",\"2024-06-07T14:04:00-04:00\",\"2024-06-07T14:05:00-04:00\",\"2024-06-07T14:06:00-04:00\",\"2024-06-07T14:07:00-04:00\",\"2024-06-07T14:08:00-04:00\",\"2024-06-07T14:09:00-04:00\",\"2024-06-07T14:10:00-04:00\",\"2024-06-07T14:11:00-04:00\",\"2024-06-07T14:12:00-04:00\",\"2024-06-07T14:13:00-04:00\",\"2024-06-07T14:14:00-04:00\",\"2024-06-07T14:15:00-04:00\",\"2024-06-07T14:16:00-04:00\",\"2024-06-07T14:17:00-04:00\",\"2024-06-07T14:18:00-04:00\",\"2024-06-07T14:19:00-04:00\",\"2024-06-07T14:20:00-04:00\",\"2024-06-07T14:21:00-04:00\",\"2024-06-07T14:22:00-04:00\",\"2024-06-07T14:23:00-04:00\",\"2024-06-07T14:24:00-04:00\",\"2024-06-07T14:25:00-04:00\",\"2024-06-07T14:26:00-04:00\",\"2024-06-07T14:27:00-04:00\",\"2024-06-07T14:28:00-04:00\",\"2024-06-07T14:29:00-04:00\",\"2024-06-07T14:30:00-04:00\",\"2024-06-07T14:31:00-04:00\",\"2024-06-07T14:32:00-04:00\",\"2024-06-07T14:33:00-04:00\",\"2024-06-07T14:34:00-04:00\",\"2024-06-07T14:35:00-04:00\",\"2024-06-07T14:36:00-04:00\",\"2024-06-07T14:37:00-04:00\",\"2024-06-07T14:38:00-04:00\",\"2024-06-07T14:39:00-04:00\",\"2024-06-07T14:40:00-04:00\",\"2024-06-07T14:41:00-04:00\",\"2024-06-07T14:42:00-04:00\",\"2024-06-07T14:43:00-04:00\",\"2024-06-07T14:44:00-04:00\",\"2024-06-07T14:45:00-04:00\",\"2024-06-07T14:46:00-04:00\",\"2024-06-07T14:47:00-04:00\",\"2024-06-07T14:48:00-04:00\",\"2024-06-07T14:49:00-04:00\",\"2024-06-07T14:50:00-04:00\",\"2024-06-07T14:51:00-04:00\",\"2024-06-07T14:52:00-04:00\",\"2024-06-07T14:53:00-04:00\",\"2024-06-07T14:54:00-04:00\",\"2024-06-07T14:55:00-04:00\",\"2024-06-07T14:56:00-04:00\",\"2024-06-07T14:57:00-04:00\",\"2024-06-07T14:58:00-04:00\",\"2024-06-07T14:59:00-04:00\",\"2024-06-07T15:00:00-04:00\",\"2024-06-07T15:01:00-04:00\",\"2024-06-07T15:02:00-04:00\",\"2024-06-07T15:03:00-04:00\",\"2024-06-07T15:04:00-04:00\",\"2024-06-07T15:05:00-04:00\",\"2024-06-07T15:06:00-04:00\",\"2024-06-07T15:07:00-04:00\",\"2024-06-07T15:08:00-04:00\",\"2024-06-07T15:09:00-04:00\",\"2024-06-07T15:10:00-04:00\",\"2024-06-07T15:11:00-04:00\",\"2024-06-07T15:12:00-04:00\",\"2024-06-07T15:13:00-04:00\",\"2024-06-07T15:14:00-04:00\",\"2024-06-07T15:15:00-04:00\",\"2024-06-07T15:16:00-04:00\",\"2024-06-07T15:17:00-04:00\",\"2024-06-07T15:18:00-04:00\",\"2024-06-07T15:19:00-04:00\",\"2024-06-07T15:20:00-04:00\",\"2024-06-07T15:21:00-04:00\",\"2024-06-07T15:22:00-04:00\",\"2024-06-07T15:23:00-04:00\",\"2024-06-07T15:24:00-04:00\",\"2024-06-07T15:25:00-04:00\",\"2024-06-07T15:26:00-04:00\",\"2024-06-07T15:27:00-04:00\",\"2024-06-07T15:28:00-04:00\",\"2024-06-07T15:29:00-04:00\",\"2024-06-07T15:30:00-04:00\",\"2024-06-07T15:31:00-04:00\",\"2024-06-07T15:32:00-04:00\",\"2024-06-07T15:33:00-04:00\",\"2024-06-07T15:34:00-04:00\",\"2024-06-07T15:35:00-04:00\",\"2024-06-07T15:36:00-04:00\",\"2024-06-07T15:37:00-04:00\",\"2024-06-07T15:38:00-04:00\",\"2024-06-07T15:39:00-04:00\",\"2024-06-07T15:40:00-04:00\",\"2024-06-07T15:41:00-04:00\",\"2024-06-07T15:42:00-04:00\",\"2024-06-07T15:43:00-04:00\",\"2024-06-07T15:44:00-04:00\",\"2024-06-07T15:45:00-04:00\",\"2024-06-07T15:46:00-04:00\",\"2024-06-07T15:47:00-04:00\",\"2024-06-07T15:48:00-04:00\",\"2024-06-07T15:49:00-04:00\",\"2024-06-07T15:50:00-04:00\",\"2024-06-07T15:51:00-04:00\",\"2024-06-07T15:52:00-04:00\",\"2024-06-07T15:53:00-04:00\",\"2024-06-07T15:54:00-04:00\",\"2024-06-07T15:55:00-04:00\",\"2024-06-07T15:56:00-04:00\",\"2024-06-07T15:57:00-04:00\",\"2024-06-07T15:58:00-04:00\",\"2024-06-07T15:59:00-04:00\"],\"xaxis\":\"x\",\"y\":[195.5,195.66000366210938,195.07000732421875,195.2480010986328,194.98989868164062,194.7899932861328,194.6699981689453,194.7550048828125,194.5800018310547,194.33999633789062,194.2097930908203,194.43899536132812,194.48500061035156,194.57000732421875,194.59500122070312,194.53909301757812,194.44569396972656,194.47000122070312,194.6300048828125,194.61000061035156,194.66000366210938,194.6999969482422,194.55990600585938,194.58999633789062,194.5699005126953,194.5399932861328,194.5500030517578,194.56309509277344,194.5800018310547,194.67999267578125,194.85000610351562,194.75999450683594,194.7863006591797,194.65989685058594,194.80499267578125,194.75,194.8699951171875,194.89520263671875,194.94000244140625,194.93800354003906,194.78700256347656,194.94000244140625,194.9499053955078,194.9949951171875,194.86000061035156,194.9550018310547,195.00999450683594,195.08999633789062,195.0500030517578,194.99920654296875,194.9499969482422,195.02499389648438,195.10499572753906,195.0800018310547,195.11309814453125,195.01499938964844,194.91000366210938,194.875,194.83999633789062,194.80999755859375,194.7899932861328,194.8350067138672,194.86500549316406,194.97000122070312,195.0299072265625,195.1999969482422,195.13499450683594,195.2001953125,195.16200256347656,195.27499389648438,195.4199981689453,195.5449981689453,195.7187957763672,195.63499450683594,195.60499572753906,195.7200927734375,195.7917022705078,195.86500549316406,195.9199981689453,195.78500366210938,195.8249969482422,195.80999755859375,195.73500061035156,195.77499389648438,195.84759521484375,195.82000732421875,195.72000122070312,195.61000061035156,195.5800018310547,195.6300048828125,195.38119506835938,195.3498992919922,195.36000061035156,195.27000427246094,195.22999572753906,195.24000549316406,195.1300048828125,194.97000122070312,195.14500427246094,195.16000366210938,195.05999755859375,195.1199951171875,195.16000366210938,195.1699981689453,195.27000427246094,195.22999572753906,195.1999969482422,195.21499633789062,195.2100067138672,195.22799682617188,195.09519958496094,195.11500549316406,195.13499450683594,195.22000122070312,195.27789306640625,195.42999267578125,195.50999450683594,195.4600067138672,195.42999267578125,195.6199951171875,195.69000244140625,195.7550048828125,195.82859802246094,195.875,195.88499450683594,195.7899932861328,195.7949981689453,195.72000122070312,195.77999877929688,195.83999633789062,195.9149932861328,195.8699951171875,195.77859497070312,195.76499938964844,195.76010131835938,195.75010681152344,195.8699951171875,195.84500122070312,195.92770385742188,195.80999755859375,195.80499267578125,195.8249969482422,195.78399658203125,195.77499389648438,195.82000732421875,195.8800048828125,195.91990661621094,195.89999389648438,195.88499450683594,195.86000061035156,195.90499877929688,195.8175048828125,195.83999633789062,195.86500549316406,195.875,195.8614044189453,195.97999572753906,196.0050048828125,196.1510009765625,196.09010314941406,196.0399932861328,196.01499938964844,196.0399932861328,195.9949951171875,195.8300018310547,195.81500244140625,195.72500610351562,195.67999267578125,195.64999389648438,195.6750030517578,195.64999389648438,195.6750030517578,195.7364959716797,195.89500427246094,195.9600067138672,195.93499755859375,195.8199005126953,195.82000732421875,195.83999633789062,195.9550018310547,196.11000061035156,196.10499572753906,196.09500122070312,196.12789916992188,196.0749969482422,196.0850067138672,196.04249572753906,195.98500061035156,196.0,195.91000366210938,195.88499450683594,195.7949981689453,195.86000061035156,195.8350067138672,195.8350067138672,195.8800048828125,195.8000030517578,195.7550048828125,195.74000549316406,195.83999633789062,195.97500610351562,195.9600067138672,196.0363006591797,196.00999450683594,196.11990356445312,196.26499938964844,196.39500427246094,196.38499450683594,196.27999877929688,196.32000732421875,196.25999450683594,196.24000549316406,196.23500061035156,196.27999877929688,196.25,196.21499633789062,196.1699981689453,196.1649932861328,196.16000366210938,196.08999633789062,196.1699981689453,196.19000244140625,196.22999572753906,196.2899932861328,196.26499938964844,196.3000030517578,196.2779998779297,196.21009826660156,196.19259643554688,196.23500061035156,196.26499938964844,196.30499267578125,196.3300018310547,196.4199981689453,196.47000122070312,196.4499969482422,196.40989685058594,196.4199981689453,196.38999938964844,196.36000061035156,196.3654022216797,196.4250030517578,196.4001007080078,196.389892578125,196.41009521484375,196.3800048828125,196.39500427246094,196.32000732421875,196.3300018310547,196.36000061035156,196.26499938964844,196.25,196.22000122070312,196.25,196.25999450683594,196.19000244140625,196.2449951171875,196.30999755859375,196.29949951171875,196.25999450683594,196.2447052001953,196.32679748535156,196.375,196.38999938964844,196.35020446777344,196.36099243164062,196.43499755859375,196.47500610351562,196.5500030517578,196.5050048828125,196.35000610351562,196.34970092773438,196.34500122070312,196.3699951171875,196.33790588378906,196.1999969482422,196.20030212402344,196.0800018310547,195.94000244140625,196.0,196.0500030517578,196.11000061035156,196.08999633789062,196.0050048828125,195.8800048828125,195.82000732421875,195.89999389648438,195.80999755859375,195.85000610351562,195.845703125,196.0063934326172,195.97999572753906,195.9499969482422,195.98500061035156,195.89999389648438,195.91000366210938,195.94500732421875,195.9886016845703,195.97000122070312,195.8699951171875,195.82000732421875,195.85000610351562,195.60499572753906,195.6999969482422,195.6367950439453,195.67999267578125,195.6649932861328,195.7050018310547,195.681396484375,195.69500732421875,195.71180725097656,195.6699981689453,195.66000366210938,195.6999969482422,195.7899932861328,195.77999877929688,195.7899932861328,195.85000610351562,195.81500244140625,195.77000427246094,195.74000549316406,195.72999572753906,195.71499633789062,195.7736053466797,195.81820678710938,195.8249969482422,195.8000030517578,195.83999633789062,195.85499572753906,195.86000061035156,195.88229370117188,195.88499450683594,195.9250030517578,195.88999938964844,195.91720581054688,195.80499267578125,195.8218994140625,195.89999389648438,195.9199981689453,195.88999938964844,195.92999267578125,195.87530517578125,195.89999389648438,195.8300018310547,195.9199981689453,195.91000366210938,196.0749969482422,196.01499938964844,195.91000366210938,196.00619506835938,196.02999877929688,196.0500030517578,196.03500366210938,196.0850067138672,196.0500030517578,196.02000427246094,196.13999938964844,196.2550048828125,196.38999938964844,196.4394989013672,196.3000030517578,196.39999389648438,196.45599365234375,196.4550018310547,196.49989318847656,196.55499267578125,196.47999572753906,196.3000030517578,196.5,196.55999755859375,196.63340759277344,196.63999938964844,196.77499389648438,196.83949279785156,196.80499267578125,196.7550048828125,196.65499877929688,196.625,196.61000061035156,196.52999877929688,196.5500030517578,196.5500030517578,196.5565948486328,196.53500366210938,196.57000732421875,196.74000549316406,196.72000122070312,196.8699951171875,196.85000610351562,196.89999389648438],\"yaxis\":\"y\",\"type\":\"scatter\"}],                        {\"template\":{\"data\":{\"histogram2dcontour\":[{\"type\":\"histogram2dcontour\",\"colorbar\":{\"outlinewidth\":0,\"ticks\":\"\"},\"colorscale\":[[0.0,\"#0d0887\"],[0.1111111111111111,\"#46039f\"],[0.2222222222222222,\"#7201a8\"],[0.3333333333333333,\"#9c179e\"],[0.4444444444444444,\"#bd3786\"],[0.5555555555555556,\"#d8576b\"],[0.6666666666666666,\"#ed7953\"],[0.7777777777777778,\"#fb9f3a\"],[0.8888888888888888,\"#fdca26\"],[1.0,\"#f0f921\"]]}],\"choropleth\":[{\"type\":\"choropleth\",\"colorbar\":{\"outlinewidth\":0,\"ticks\":\"\"}}],\"histogram2d\":[{\"type\":\"histogram2d\",\"colorbar\":{\"outlinewidth\":0,\"ticks\":\"\"},\"colorscale\":[[0.0,\"#0d0887\"],[0.1111111111111111,\"#46039f\"],[0.2222222222222222,\"#7201a8\"],[0.3333333333333333,\"#9c179e\"],[0.4444444444444444,\"#bd3786\"],[0.5555555555555556,\"#d8576b\"],[0.6666666666666666,\"#ed7953\"],[0.7777777777777778,\"#fb9f3a\"],[0.8888888888888888,\"#fdca26\"],[1.0,\"#f0f921\"]]}],\"heatmap\":[{\"type\":\"heatmap\",\"colorbar\":{\"outlinewidth\":0,\"ticks\":\"\"},\"colorscale\":[[0.0,\"#0d0887\"],[0.1111111111111111,\"#46039f\"],[0.2222222222222222,\"#7201a8\"],[0.3333333333333333,\"#9c179e\"],[0.4444444444444444,\"#bd3786\"],[0.5555555555555556,\"#d8576b\"],[0.6666666666666666,\"#ed7953\"],[0.7777777777777778,\"#fb9f3a\"],[0.8888888888888888,\"#fdca26\"],[1.0,\"#f0f921\"]]}],\"heatmapgl\":[{\"type\":\"heatmapgl\",\"colorbar\":{\"outlinewidth\":0,\"ticks\":\"\"},\"colorscale\":[[0.0,\"#0d0887\"],[0.1111111111111111,\"#46039f\"],[0.2222222222222222,\"#7201a8\"],[0.3333333333333333,\"#9c179e\"],[0.4444444444444444,\"#bd3786\"],[0.5555555555555556,\"#d8576b\"],[0.6666666666666666,\"#ed7953\"],[0.7777777777777778,\"#fb9f3a\"],[0.8888888888888888,\"#fdca26\"],[1.0,\"#f0f921\"]]}],\"contourcarpet\":[{\"type\":\"contourcarpet\",\"colorbar\":{\"outlinewidth\":0,\"ticks\":\"\"}}],\"contour\":[{\"type\":\"contour\",\"colorbar\":{\"outlinewidth\":0,\"ticks\":\"\"},\"colorscale\":[[0.0,\"#0d0887\"],[0.1111111111111111,\"#46039f\"],[0.2222222222222222,\"#7201a8\"],[0.3333333333333333,\"#9c179e\"],[0.4444444444444444,\"#bd3786\"],[0.5555555555555556,\"#d8576b\"],[0.6666666666666666,\"#ed7953\"],[0.7777777777777778,\"#fb9f3a\"],[0.8888888888888888,\"#fdca26\"],[1.0,\"#f0f921\"]]}],\"surface\":[{\"type\":\"surface\",\"colorbar\":{\"outlinewidth\":0,\"ticks\":\"\"},\"colorscale\":[[0.0,\"#0d0887\"],[0.1111111111111111,\"#46039f\"],[0.2222222222222222,\"#7201a8\"],[0.3333333333333333,\"#9c179e\"],[0.4444444444444444,\"#bd3786\"],[0.5555555555555556,\"#d8576b\"],[0.6666666666666666,\"#ed7953\"],[0.7777777777777778,\"#fb9f3a\"],[0.8888888888888888,\"#fdca26\"],[1.0,\"#f0f921\"]]}],\"mesh3d\":[{\"type\":\"mesh3d\",\"colorbar\":{\"outlinewidth\":0,\"ticks\":\"\"}}],\"scatter\":[{\"fillpattern\":{\"fillmode\":\"overlay\",\"size\":10,\"solidity\":0.2},\"type\":\"scatter\"}],\"parcoords\":[{\"type\":\"parcoords\",\"line\":{\"colorbar\":{\"outlinewidth\":0,\"ticks\":\"\"}}}],\"scatterpolargl\":[{\"type\":\"scatterpolargl\",\"marker\":{\"colorbar\":{\"outlinewidth\":0,\"ticks\":\"\"}}}],\"bar\":[{\"error_x\":{\"color\":\"#2a3f5f\"},\"error_y\":{\"color\":\"#2a3f5f\"},\"marker\":{\"line\":{\"color\":\"#E5ECF6\",\"width\":0.5},\"pattern\":{\"fillmode\":\"overlay\",\"size\":10,\"solidity\":0.2}},\"type\":\"bar\"}],\"scattergeo\":[{\"type\":\"scattergeo\",\"marker\":{\"colorbar\":{\"outlinewidth\":0,\"ticks\":\"\"}}}],\"scatterpolar\":[{\"type\":\"scatterpolar\",\"marker\":{\"colorbar\":{\"outlinewidth\":0,\"ticks\":\"\"}}}],\"histogram\":[{\"marker\":{\"pattern\":{\"fillmode\":\"overlay\",\"size\":10,\"solidity\":0.2}},\"type\":\"histogram\"}],\"scattergl\":[{\"type\":\"scattergl\",\"marker\":{\"colorbar\":{\"outlinewidth\":0,\"ticks\":\"\"}}}],\"scatter3d\":[{\"type\":\"scatter3d\",\"line\":{\"colorbar\":{\"outlinewidth\":0,\"ticks\":\"\"}},\"marker\":{\"colorbar\":{\"outlinewidth\":0,\"ticks\":\"\"}}}],\"scattermapbox\":[{\"type\":\"scattermapbox\",\"marker\":{\"colorbar\":{\"outlinewidth\":0,\"ticks\":\"\"}}}],\"scatterternary\":[{\"type\":\"scatterternary\",\"marker\":{\"colorbar\":{\"outlinewidth\":0,\"ticks\":\"\"}}}],\"scattercarpet\":[{\"type\":\"scattercarpet\",\"marker\":{\"colorbar\":{\"outlinewidth\":0,\"ticks\":\"\"}}}],\"carpet\":[{\"aaxis\":{\"endlinecolor\":\"#2a3f5f\",\"gridcolor\":\"white\",\"linecolor\":\"white\",\"minorgridcolor\":\"white\",\"startlinecolor\":\"#2a3f5f\"},\"baxis\":{\"endlinecolor\":\"#2a3f5f\",\"gridcolor\":\"white\",\"linecolor\":\"white\",\"minorgridcolor\":\"white\",\"startlinecolor\":\"#2a3f5f\"},\"type\":\"carpet\"}],\"table\":[{\"cells\":{\"fill\":{\"color\":\"#EBF0F8\"},\"line\":{\"color\":\"white\"}},\"header\":{\"fill\":{\"color\":\"#C8D4E3\"},\"line\":{\"color\":\"white\"}},\"type\":\"table\"}],\"barpolar\":[{\"marker\":{\"line\":{\"color\":\"#E5ECF6\",\"width\":0.5},\"pattern\":{\"fillmode\":\"overlay\",\"size\":10,\"solidity\":0.2}},\"type\":\"barpolar\"}],\"pie\":[{\"automargin\":true,\"type\":\"pie\"}]},\"layout\":{\"autotypenumbers\":\"strict\",\"colorway\":[\"#636efa\",\"#EF553B\",\"#00cc96\",\"#ab63fa\",\"#FFA15A\",\"#19d3f3\",\"#FF6692\",\"#B6E880\",\"#FF97FF\",\"#FECB52\"],\"font\":{\"color\":\"#2a3f5f\"},\"hovermode\":\"closest\",\"hoverlabel\":{\"align\":\"left\"},\"paper_bgcolor\":\"white\",\"plot_bgcolor\":\"#E5ECF6\",\"polar\":{\"bgcolor\":\"#E5ECF6\",\"angularaxis\":{\"gridcolor\":\"white\",\"linecolor\":\"white\",\"ticks\":\"\"},\"radialaxis\":{\"gridcolor\":\"white\",\"linecolor\":\"white\",\"ticks\":\"\"}},\"ternary\":{\"bgcolor\":\"#E5ECF6\",\"aaxis\":{\"gridcolor\":\"white\",\"linecolor\":\"white\",\"ticks\":\"\"},\"baxis\":{\"gridcolor\":\"white\",\"linecolor\":\"white\",\"ticks\":\"\"},\"caxis\":{\"gridcolor\":\"white\",\"linecolor\":\"white\",\"ticks\":\"\"}},\"coloraxis\":{\"colorbar\":{\"outlinewidth\":0,\"ticks\":\"\"}},\"colorscale\":{\"sequential\":[[0.0,\"#0d0887\"],[0.1111111111111111,\"#46039f\"],[0.2222222222222222,\"#7201a8\"],[0.3333333333333333,\"#9c179e\"],[0.4444444444444444,\"#bd3786\"],[0.5555555555555556,\"#d8576b\"],[0.6666666666666666,\"#ed7953\"],[0.7777777777777778,\"#fb9f3a\"],[0.8888888888888888,\"#fdca26\"],[1.0,\"#f0f921\"]],\"sequentialminus\":[[0.0,\"#0d0887\"],[0.1111111111111111,\"#46039f\"],[0.2222222222222222,\"#7201a8\"],[0.3333333333333333,\"#9c179e\"],[0.4444444444444444,\"#bd3786\"],[0.5555555555555556,\"#d8576b\"],[0.6666666666666666,\"#ed7953\"],[0.7777777777777778,\"#fb9f3a\"],[0.8888888888888888,\"#fdca26\"],[1.0,\"#f0f921\"]],\"diverging\":[[0,\"#8e0152\"],[0.1,\"#c51b7d\"],[0.2,\"#de77ae\"],[0.3,\"#f1b6da\"],[0.4,\"#fde0ef\"],[0.5,\"#f7f7f7\"],[0.6,\"#e6f5d0\"],[0.7,\"#b8e186\"],[0.8,\"#7fbc41\"],[0.9,\"#4d9221\"],[1,\"#276419\"]]},\"xaxis\":{\"gridcolor\":\"white\",\"linecolor\":\"white\",\"ticks\":\"\",\"title\":{\"standoff\":15},\"zerolinecolor\":\"white\",\"automargin\":true,\"zerolinewidth\":2},\"yaxis\":{\"gridcolor\":\"white\",\"linecolor\":\"white\",\"ticks\":\"\",\"title\":{\"standoff\":15},\"zerolinecolor\":\"white\",\"automargin\":true,\"zerolinewidth\":2},\"scene\":{\"xaxis\":{\"backgroundcolor\":\"#E5ECF6\",\"gridcolor\":\"white\",\"linecolor\":\"white\",\"showbackground\":true,\"ticks\":\"\",\"zerolinecolor\":\"white\",\"gridwidth\":2},\"yaxis\":{\"backgroundcolor\":\"#E5ECF6\",\"gridcolor\":\"white\",\"linecolor\":\"white\",\"showbackground\":true,\"ticks\":\"\",\"zerolinecolor\":\"white\",\"gridwidth\":2},\"zaxis\":{\"backgroundcolor\":\"#E5ECF6\",\"gridcolor\":\"white\",\"linecolor\":\"white\",\"showbackground\":true,\"ticks\":\"\",\"zerolinecolor\":\"white\",\"gridwidth\":2}},\"shapedefaults\":{\"line\":{\"color\":\"#2a3f5f\"}},\"annotationdefaults\":{\"arrowcolor\":\"#2a3f5f\",\"arrowhead\":0,\"arrowwidth\":1},\"geo\":{\"bgcolor\":\"white\",\"landcolor\":\"#E5ECF6\",\"subunitcolor\":\"white\",\"showland\":true,\"showlakes\":true,\"lakecolor\":\"white\"},\"title\":{\"x\":0.05},\"mapbox\":{\"style\":\"light\"}}},\"xaxis\":{\"anchor\":\"y\",\"domain\":[0.0,1.0],\"title\":{\"text\":\"Datetime\"}},\"yaxis\":{\"anchor\":\"x\",\"domain\":[0.0,1.0],\"title\":{\"text\":\"Close\"}},\"legend\":{\"tracegroupgap\":0},\"title\":{\"text\":\"AAPL Stock Prices\"}},                        {\"responsive\": true}                    ).then(function(){\n",
       "                            \n",
       "var gd = document.getElementById('81ce94b8-da21-46ce-9d0a-8ddfb8286984');\n",
       "var x = new MutationObserver(function (mutations, observer) {{\n",
       "        var display = window.getComputedStyle(gd).display;\n",
       "        if (!display || display === 'none') {{\n",
       "            console.log([gd, 'removed!']);\n",
       "            Plotly.purge(gd);\n",
       "            observer.disconnect();\n",
       "        }}\n",
       "}});\n",
       "\n",
       "// Listen for the removal of the full notebook cells\n",
       "var notebookContainer = gd.closest('#notebook-container');\n",
       "if (notebookContainer) {{\n",
       "    x.observe(notebookContainer, {childList: true});\n",
       "}}\n",
       "\n",
       "// Listen for the clearing of the current output cell\n",
       "var outputEl = gd.closest('.output');\n",
       "if (outputEl) {{\n",
       "    x.observe(outputEl, {childList: true});\n",
       "}}\n",
       "\n",
       "                        })                };                });            </script>        </div>"
      ]
     },
     "metadata": {},
     "output_type": "display_data"
    },
    {
     "name": "stdout",
     "output_type": "stream",
     "text": [
      "How many previous data points should our model look at?\n",
      "(Type 'Exit' to quit)\n",
      "30\n"
     ]
    },
    {
     "data": {
      "application/vnd.plotly.v1+json": {
       "config": {
        "plotlyServerURL": "https://plot.ly"
       },
       "data": [
        {
         "hovertemplate": "variable=SMA_24<br>Datetime=%{x}<br>value=%{y}<extra></extra>",
         "legendgroup": "SMA_24",
         "line": {
          "color": "#85deb1",
          "dash": "solid"
         },
         "marker": {
          "symbol": "circle"
         },
         "mode": "lines",
         "name": "SMA_24",
         "showlegend": true,
         "type": "scattergl",
         "x": [
          "2024-06-07T09:30:00-04:00",
          "2024-06-07T09:31:00-04:00",
          "2024-06-07T09:32:00-04:00",
          "2024-06-07T09:33:00-04:00",
          "2024-06-07T09:34:00-04:00",
          "2024-06-07T09:35:00-04:00",
          "2024-06-07T09:36:00-04:00",
          "2024-06-07T09:37:00-04:00",
          "2024-06-07T09:38:00-04:00",
          "2024-06-07T09:39:00-04:00",
          "2024-06-07T09:40:00-04:00",
          "2024-06-07T09:41:00-04:00",
          "2024-06-07T09:42:00-04:00",
          "2024-06-07T09:43:00-04:00",
          "2024-06-07T09:44:00-04:00",
          "2024-06-07T09:45:00-04:00",
          "2024-06-07T09:46:00-04:00",
          "2024-06-07T09:47:00-04:00",
          "2024-06-07T09:48:00-04:00",
          "2024-06-07T09:49:00-04:00",
          "2024-06-07T09:50:00-04:00",
          "2024-06-07T09:51:00-04:00",
          "2024-06-07T09:52:00-04:00",
          "2024-06-07T09:53:00-04:00",
          "2024-06-07T09:54:00-04:00",
          "2024-06-07T09:55:00-04:00",
          "2024-06-07T09:56:00-04:00",
          "2024-06-07T09:57:00-04:00",
          "2024-06-07T09:58:00-04:00",
          "2024-06-07T09:59:00-04:00",
          "2024-06-07T10:00:00-04:00",
          "2024-06-07T10:01:00-04:00",
          "2024-06-07T10:02:00-04:00",
          "2024-06-07T10:03:00-04:00",
          "2024-06-07T10:04:00-04:00",
          "2024-06-07T10:05:00-04:00",
          "2024-06-07T10:06:00-04:00",
          "2024-06-07T10:07:00-04:00",
          "2024-06-07T10:08:00-04:00",
          "2024-06-07T10:09:00-04:00",
          "2024-06-07T10:10:00-04:00",
          "2024-06-07T10:11:00-04:00",
          "2024-06-07T10:12:00-04:00",
          "2024-06-07T10:13:00-04:00",
          "2024-06-07T10:14:00-04:00",
          "2024-06-07T10:15:00-04:00",
          "2024-06-07T10:16:00-04:00",
          "2024-06-07T10:17:00-04:00",
          "2024-06-07T10:18:00-04:00",
          "2024-06-07T10:19:00-04:00",
          "2024-06-07T10:20:00-04:00",
          "2024-06-07T10:21:00-04:00",
          "2024-06-07T10:22:00-04:00",
          "2024-06-07T10:23:00-04:00",
          "2024-06-07T10:24:00-04:00",
          "2024-06-07T10:25:00-04:00",
          "2024-06-07T10:26:00-04:00",
          "2024-06-07T10:27:00-04:00",
          "2024-06-07T10:28:00-04:00",
          "2024-06-07T10:29:00-04:00",
          "2024-06-07T10:30:00-04:00",
          "2024-06-07T10:31:00-04:00",
          "2024-06-07T10:32:00-04:00",
          "2024-06-07T10:33:00-04:00",
          "2024-06-07T10:34:00-04:00",
          "2024-06-07T10:35:00-04:00",
          "2024-06-07T10:36:00-04:00",
          "2024-06-07T10:37:00-04:00",
          "2024-06-07T10:38:00-04:00",
          "2024-06-07T10:39:00-04:00",
          "2024-06-07T10:40:00-04:00",
          "2024-06-07T10:41:00-04:00",
          "2024-06-07T10:42:00-04:00",
          "2024-06-07T10:43:00-04:00",
          "2024-06-07T10:44:00-04:00",
          "2024-06-07T10:45:00-04:00",
          "2024-06-07T10:46:00-04:00",
          "2024-06-07T10:47:00-04:00",
          "2024-06-07T10:48:00-04:00",
          "2024-06-07T10:49:00-04:00",
          "2024-06-07T10:50:00-04:00",
          "2024-06-07T10:51:00-04:00",
          "2024-06-07T10:52:00-04:00",
          "2024-06-07T10:53:00-04:00",
          "2024-06-07T10:54:00-04:00",
          "2024-06-07T10:55:00-04:00",
          "2024-06-07T10:56:00-04:00",
          "2024-06-07T10:57:00-04:00",
          "2024-06-07T10:58:00-04:00",
          "2024-06-07T10:59:00-04:00",
          "2024-06-07T11:00:00-04:00",
          "2024-06-07T11:01:00-04:00",
          "2024-06-07T11:02:00-04:00",
          "2024-06-07T11:03:00-04:00",
          "2024-06-07T11:04:00-04:00",
          "2024-06-07T11:05:00-04:00",
          "2024-06-07T11:06:00-04:00",
          "2024-06-07T11:07:00-04:00",
          "2024-06-07T11:08:00-04:00",
          "2024-06-07T11:09:00-04:00",
          "2024-06-07T11:10:00-04:00",
          "2024-06-07T11:11:00-04:00",
          "2024-06-07T11:12:00-04:00",
          "2024-06-07T11:13:00-04:00",
          "2024-06-07T11:14:00-04:00",
          "2024-06-07T11:15:00-04:00",
          "2024-06-07T11:16:00-04:00",
          "2024-06-07T11:17:00-04:00",
          "2024-06-07T11:18:00-04:00",
          "2024-06-07T11:19:00-04:00",
          "2024-06-07T11:20:00-04:00",
          "2024-06-07T11:21:00-04:00",
          "2024-06-07T11:22:00-04:00",
          "2024-06-07T11:23:00-04:00",
          "2024-06-07T11:24:00-04:00",
          "2024-06-07T11:25:00-04:00",
          "2024-06-07T11:26:00-04:00",
          "2024-06-07T11:27:00-04:00",
          "2024-06-07T11:28:00-04:00",
          "2024-06-07T11:29:00-04:00",
          "2024-06-07T11:30:00-04:00",
          "2024-06-07T11:31:00-04:00",
          "2024-06-07T11:32:00-04:00",
          "2024-06-07T11:33:00-04:00",
          "2024-06-07T11:34:00-04:00",
          "2024-06-07T11:35:00-04:00",
          "2024-06-07T11:36:00-04:00",
          "2024-06-07T11:37:00-04:00",
          "2024-06-07T11:38:00-04:00",
          "2024-06-07T11:39:00-04:00",
          "2024-06-07T11:40:00-04:00",
          "2024-06-07T11:41:00-04:00",
          "2024-06-07T11:42:00-04:00",
          "2024-06-07T11:43:00-04:00",
          "2024-06-07T11:44:00-04:00",
          "2024-06-07T11:45:00-04:00",
          "2024-06-07T11:46:00-04:00",
          "2024-06-07T11:47:00-04:00",
          "2024-06-07T11:48:00-04:00",
          "2024-06-07T11:49:00-04:00",
          "2024-06-07T11:50:00-04:00",
          "2024-06-07T11:51:00-04:00",
          "2024-06-07T11:52:00-04:00",
          "2024-06-07T11:53:00-04:00",
          "2024-06-07T11:54:00-04:00",
          "2024-06-07T11:55:00-04:00",
          "2024-06-07T11:56:00-04:00",
          "2024-06-07T11:57:00-04:00",
          "2024-06-07T11:58:00-04:00",
          "2024-06-07T11:59:00-04:00",
          "2024-06-07T12:00:00-04:00",
          "2024-06-07T12:01:00-04:00",
          "2024-06-07T12:02:00-04:00",
          "2024-06-07T12:03:00-04:00",
          "2024-06-07T12:04:00-04:00",
          "2024-06-07T12:05:00-04:00",
          "2024-06-07T12:06:00-04:00",
          "2024-06-07T12:07:00-04:00",
          "2024-06-07T12:08:00-04:00",
          "2024-06-07T12:09:00-04:00",
          "2024-06-07T12:10:00-04:00",
          "2024-06-07T12:11:00-04:00",
          "2024-06-07T12:12:00-04:00",
          "2024-06-07T12:13:00-04:00",
          "2024-06-07T12:14:00-04:00",
          "2024-06-07T12:15:00-04:00",
          "2024-06-07T12:16:00-04:00",
          "2024-06-07T12:17:00-04:00",
          "2024-06-07T12:18:00-04:00",
          "2024-06-07T12:19:00-04:00",
          "2024-06-07T12:20:00-04:00",
          "2024-06-07T12:21:00-04:00",
          "2024-06-07T12:22:00-04:00",
          "2024-06-07T12:23:00-04:00",
          "2024-06-07T12:24:00-04:00",
          "2024-06-07T12:25:00-04:00",
          "2024-06-07T12:26:00-04:00",
          "2024-06-07T12:27:00-04:00",
          "2024-06-07T12:28:00-04:00",
          "2024-06-07T12:29:00-04:00",
          "2024-06-07T12:30:00-04:00",
          "2024-06-07T12:31:00-04:00",
          "2024-06-07T12:32:00-04:00",
          "2024-06-07T12:33:00-04:00",
          "2024-06-07T12:34:00-04:00",
          "2024-06-07T12:35:00-04:00",
          "2024-06-07T12:36:00-04:00",
          "2024-06-07T12:37:00-04:00",
          "2024-06-07T12:38:00-04:00",
          "2024-06-07T12:39:00-04:00",
          "2024-06-07T12:40:00-04:00",
          "2024-06-07T12:41:00-04:00",
          "2024-06-07T12:42:00-04:00",
          "2024-06-07T12:43:00-04:00",
          "2024-06-07T12:44:00-04:00",
          "2024-06-07T12:45:00-04:00",
          "2024-06-07T12:46:00-04:00",
          "2024-06-07T12:47:00-04:00",
          "2024-06-07T12:48:00-04:00",
          "2024-06-07T12:49:00-04:00",
          "2024-06-07T12:50:00-04:00",
          "2024-06-07T12:51:00-04:00",
          "2024-06-07T12:52:00-04:00",
          "2024-06-07T12:53:00-04:00",
          "2024-06-07T12:54:00-04:00",
          "2024-06-07T12:55:00-04:00",
          "2024-06-07T12:56:00-04:00",
          "2024-06-07T12:57:00-04:00",
          "2024-06-07T12:58:00-04:00",
          "2024-06-07T12:59:00-04:00",
          "2024-06-07T13:00:00-04:00",
          "2024-06-07T13:01:00-04:00",
          "2024-06-07T13:02:00-04:00",
          "2024-06-07T13:03:00-04:00",
          "2024-06-07T13:04:00-04:00",
          "2024-06-07T13:05:00-04:00",
          "2024-06-07T13:06:00-04:00",
          "2024-06-07T13:07:00-04:00",
          "2024-06-07T13:08:00-04:00",
          "2024-06-07T13:09:00-04:00",
          "2024-06-07T13:10:00-04:00",
          "2024-06-07T13:11:00-04:00",
          "2024-06-07T13:12:00-04:00",
          "2024-06-07T13:13:00-04:00",
          "2024-06-07T13:14:00-04:00",
          "2024-06-07T13:15:00-04:00",
          "2024-06-07T13:16:00-04:00",
          "2024-06-07T13:17:00-04:00",
          "2024-06-07T13:18:00-04:00",
          "2024-06-07T13:19:00-04:00",
          "2024-06-07T13:20:00-04:00",
          "2024-06-07T13:21:00-04:00",
          "2024-06-07T13:22:00-04:00",
          "2024-06-07T13:23:00-04:00",
          "2024-06-07T13:24:00-04:00",
          "2024-06-07T13:25:00-04:00",
          "2024-06-07T13:26:00-04:00",
          "2024-06-07T13:27:00-04:00",
          "2024-06-07T13:28:00-04:00",
          "2024-06-07T13:29:00-04:00",
          "2024-06-07T13:30:00-04:00",
          "2024-06-07T13:31:00-04:00",
          "2024-06-07T13:32:00-04:00",
          "2024-06-07T13:33:00-04:00",
          "2024-06-07T13:34:00-04:00",
          "2024-06-07T13:35:00-04:00",
          "2024-06-07T13:36:00-04:00",
          "2024-06-07T13:37:00-04:00",
          "2024-06-07T13:38:00-04:00",
          "2024-06-07T13:39:00-04:00",
          "2024-06-07T13:40:00-04:00",
          "2024-06-07T13:41:00-04:00",
          "2024-06-07T13:42:00-04:00",
          "2024-06-07T13:43:00-04:00",
          "2024-06-07T13:44:00-04:00",
          "2024-06-07T13:45:00-04:00",
          "2024-06-07T13:46:00-04:00",
          "2024-06-07T13:47:00-04:00",
          "2024-06-07T13:48:00-04:00",
          "2024-06-07T13:49:00-04:00",
          "2024-06-07T13:50:00-04:00",
          "2024-06-07T13:51:00-04:00",
          "2024-06-07T13:52:00-04:00",
          "2024-06-07T13:53:00-04:00",
          "2024-06-07T13:54:00-04:00",
          "2024-06-07T13:55:00-04:00",
          "2024-06-07T13:56:00-04:00",
          "2024-06-07T13:57:00-04:00",
          "2024-06-07T13:58:00-04:00",
          "2024-06-07T13:59:00-04:00",
          "2024-06-07T14:00:00-04:00",
          "2024-06-07T14:01:00-04:00",
          "2024-06-07T14:02:00-04:00",
          "2024-06-07T14:03:00-04:00",
          "2024-06-07T14:04:00-04:00",
          "2024-06-07T14:05:00-04:00",
          "2024-06-07T14:06:00-04:00",
          "2024-06-07T14:07:00-04:00",
          "2024-06-07T14:08:00-04:00",
          "2024-06-07T14:09:00-04:00",
          "2024-06-07T14:10:00-04:00",
          "2024-06-07T14:11:00-04:00",
          "2024-06-07T14:12:00-04:00",
          "2024-06-07T14:13:00-04:00",
          "2024-06-07T14:14:00-04:00",
          "2024-06-07T14:15:00-04:00",
          "2024-06-07T14:16:00-04:00",
          "2024-06-07T14:17:00-04:00",
          "2024-06-07T14:18:00-04:00",
          "2024-06-07T14:19:00-04:00",
          "2024-06-07T14:20:00-04:00",
          "2024-06-07T14:21:00-04:00",
          "2024-06-07T14:22:00-04:00",
          "2024-06-07T14:23:00-04:00",
          "2024-06-07T14:24:00-04:00",
          "2024-06-07T14:25:00-04:00",
          "2024-06-07T14:26:00-04:00",
          "2024-06-07T14:27:00-04:00",
          "2024-06-07T14:28:00-04:00",
          "2024-06-07T14:29:00-04:00",
          "2024-06-07T14:30:00-04:00",
          "2024-06-07T14:31:00-04:00",
          "2024-06-07T14:32:00-04:00",
          "2024-06-07T14:33:00-04:00",
          "2024-06-07T14:34:00-04:00",
          "2024-06-07T14:35:00-04:00",
          "2024-06-07T14:36:00-04:00",
          "2024-06-07T14:37:00-04:00",
          "2024-06-07T14:38:00-04:00",
          "2024-06-07T14:39:00-04:00",
          "2024-06-07T14:40:00-04:00",
          "2024-06-07T14:41:00-04:00",
          "2024-06-07T14:42:00-04:00",
          "2024-06-07T14:43:00-04:00",
          "2024-06-07T14:44:00-04:00",
          "2024-06-07T14:45:00-04:00",
          "2024-06-07T14:46:00-04:00",
          "2024-06-07T14:47:00-04:00",
          "2024-06-07T14:48:00-04:00",
          "2024-06-07T14:49:00-04:00",
          "2024-06-07T14:50:00-04:00",
          "2024-06-07T14:51:00-04:00",
          "2024-06-07T14:52:00-04:00",
          "2024-06-07T14:53:00-04:00",
          "2024-06-07T14:54:00-04:00",
          "2024-06-07T14:55:00-04:00",
          "2024-06-07T14:56:00-04:00",
          "2024-06-07T14:57:00-04:00",
          "2024-06-07T14:58:00-04:00",
          "2024-06-07T14:59:00-04:00",
          "2024-06-07T15:00:00-04:00",
          "2024-06-07T15:01:00-04:00",
          "2024-06-07T15:02:00-04:00",
          "2024-06-07T15:03:00-04:00",
          "2024-06-07T15:04:00-04:00",
          "2024-06-07T15:05:00-04:00",
          "2024-06-07T15:06:00-04:00",
          "2024-06-07T15:07:00-04:00",
          "2024-06-07T15:08:00-04:00",
          "2024-06-07T15:09:00-04:00",
          "2024-06-07T15:10:00-04:00",
          "2024-06-07T15:11:00-04:00",
          "2024-06-07T15:12:00-04:00",
          "2024-06-07T15:13:00-04:00",
          "2024-06-07T15:14:00-04:00",
          "2024-06-07T15:15:00-04:00",
          "2024-06-07T15:16:00-04:00",
          "2024-06-07T15:17:00-04:00",
          "2024-06-07T15:18:00-04:00",
          "2024-06-07T15:19:00-04:00",
          "2024-06-07T15:20:00-04:00",
          "2024-06-07T15:21:00-04:00",
          "2024-06-07T15:22:00-04:00",
          "2024-06-07T15:23:00-04:00",
          "2024-06-07T15:24:00-04:00",
          "2024-06-07T15:25:00-04:00",
          "2024-06-07T15:26:00-04:00",
          "2024-06-07T15:27:00-04:00",
          "2024-06-07T15:28:00-04:00",
          "2024-06-07T15:29:00-04:00",
          "2024-06-07T15:30:00-04:00",
          "2024-06-07T15:31:00-04:00",
          "2024-06-07T15:32:00-04:00",
          "2024-06-07T15:33:00-04:00",
          "2024-06-07T15:34:00-04:00",
          "2024-06-07T15:35:00-04:00",
          "2024-06-07T15:36:00-04:00",
          "2024-06-07T15:37:00-04:00",
          "2024-06-07T15:38:00-04:00",
          "2024-06-07T15:39:00-04:00",
          "2024-06-07T15:40:00-04:00",
          "2024-06-07T15:41:00-04:00",
          "2024-06-07T15:42:00-04:00",
          "2024-06-07T15:43:00-04:00",
          "2024-06-07T15:44:00-04:00",
          "2024-06-07T15:45:00-04:00",
          "2024-06-07T15:46:00-04:00",
          "2024-06-07T15:47:00-04:00",
          "2024-06-07T15:48:00-04:00",
          "2024-06-07T15:49:00-04:00",
          "2024-06-07T15:50:00-04:00",
          "2024-06-07T15:51:00-04:00",
          "2024-06-07T15:52:00-04:00",
          "2024-06-07T15:53:00-04:00",
          "2024-06-07T15:54:00-04:00",
          "2024-06-07T15:55:00-04:00",
          "2024-06-07T15:56:00-04:00",
          "2024-06-07T15:57:00-04:00",
          "2024-06-07T15:58:00-04:00",
          "2024-06-07T15:59:00-04:00"
         ],
         "xaxis": "x",
         "y": [
          195.5,
          195.5,
          195.50666681925455,
          195.48875045776367,
          195.47825050354004,
          195.45699628194174,
          195.42741266886392,
          195.39282925923666,
          195.3617877960205,
          195.3234545389811,
          195.2751210530599,
          195.22136243184408,
          195.17715390523276,
          195.1348622639974,
          195.0961125691732,
          195.05840428670248,
          195.01836649576822,
          194.97443707784018,
          194.93152046203613,
          194.89527066548666,
          194.85818735758463,
          194.82318751017252,
          194.78985404968262,
          194.75068346659342,
          194.71276664733887,
          194.67401250203451,
          194.6273454030355,
          194.6056785583496,
          194.57714080810547,
          194.5600617726644,
          194.55547841389975,
          194.56297874450684,
          194.5631866455078,
          194.57178243001303,
          194.585111618042,
          194.6099116007487,
          194.62287012736002,
          194.63891156514487,
          194.65246136983237,
          194.66683642069498,
          194.6834576924642,
          194.69767888387045,
          194.7172622680664,
          194.73059145609537,
          194.74663289388022,
          194.75496610005698,
          194.76559130350748,
          194.7843449910482,
          194.8051783243815,
          194.82518259684244,
          194.84431648254395,
          194.86098289489746,
          194.8802286783854,
          194.90210342407227,
          194.91877047220865,
          194.92973264058432,
          194.94035784403482,
          194.94551213582358,
          194.95447476704916,
          194.95593325297037,
          194.95843315124512,
          194.95509974161783,
          194.95259157816568,
          194.94946670532227,
          194.9507999420166,
          194.96092096964517,
          194.97175407409668,
          194.979466120402,
          194.98801612854004,
          195.00059954325357,
          195.01393254597983,
          195.03101603190103,
          195.04997444152832,
          195.0778408050537,
          195.10433197021484,
          195.1316235860189,
          195.16058603922525,
          195.18919881184897,
          195.22190729777017,
          195.25552813212076,
          195.2876116434733,
          195.32573636372885,
          195.3646945953369,
          195.4019864400228,
          195.44219462076822,
          195.48626136779785,
          195.52730305989584,
          195.56292788187662,
          195.58959452311197,
          195.61251513163248,
          195.63043212890625,
          195.64069048563638,
          195.64692815144858,
          195.65517807006836,
          195.65497016906738,
          195.64705340067545,
          195.6343453725179,
          195.60981241861978,
          195.58210436503092,
          195.56293805440268,
          195.53960100809732,
          195.50911331176758,
          195.47807121276855,
          195.44640477498373,
          195.4207795461019,
          195.39765485127768,
          195.37348810831705,
          195.3511962890625,
          195.32786305745444,
          195.30129686991373,
          195.27662976582846,
          195.2505963643392,
          195.2299715677897,
          195.21142959594727,
          195.19434611002603,
          195.19004185994467,
          195.1933790842692,
          195.19962882995605,
          195.207545598348,
          195.21587880452475,
          195.23171170552573,
          195.2550449371338,
          195.28775342305502,
          195.31623649597168,
          195.34602801005045,
          195.3804028828939,
          195.4083194732666,
          195.4347775777181,
          195.45769437154135,
          195.47894414265951,
          195.50436083475748,
          195.53415234883627,
          195.5614439646403,
          195.58513514200845,
          195.60751024881998,
          195.63521448771158,
          195.66167704264322,
          195.69230206807455,
          195.7183437347412,
          195.74541918436685,
          195.76125272115073,
          195.77354431152344,
          195.78875223795572,
          195.80350240071616,
          195.80996068318686,
          195.81537755330405,
          195.82058588663736,
          195.82439041137695,
          195.82543182373047,
          195.82543182373047,
          195.8283487955729,
          195.83293215433756,
          195.83699480692545,
          195.8394947052002,
          195.84053675333658,
          195.8388703664144,
          195.8385124206543,
          195.8469041188558,
          195.85690434773764,
          195.8731918334961,
          195.88735834757486,
          195.89444160461426,
          195.90152486165366,
          195.90620358784994,
          195.913911819458,
          195.9149538675944,
          195.91453742980957,
          195.91207949320474,
          195.9081211090088,
          195.90103721618652,
          195.89249547322592,
          195.88124910990396,
          195.8718744913737,
          195.86568705240884,
          195.86714553833008,
          195.86943753560385,
          195.87433306376138,
          195.87349573771158,
          195.87162081400552,
          195.87016232808432,
          195.87406222025552,
          195.8794790903727,
          195.88364537556967,
          195.88131205240884,
          195.88288688659668,
          195.8843453725179,
          195.88726234436035,
          195.8873666127523,
          195.88695017496744,
          195.89403343200684,
          195.8979918162028,
          195.90465799967447,
          195.909449895223,
          195.91820017496744,
          195.92486699422201,
          195.93257586161295,
          195.94111760457358,
          195.94376373291016,
          195.93793042500815,
          195.92876370747885,
          195.92480532328287,
          195.93126805623373,
          195.93710136413574,
          195.9452807108561,
          195.94757207234701,
          195.94798469543457,
          195.95465151468912,
          195.9671516418457,
          195.97786394755045,
          195.98640569051108,
          195.99619738260904,
          196.00525983174643,
          196.01588503519693,
          196.02567672729492,
          196.04109319051108,
          196.05630175272623,
          196.07380167643228,
          196.0867182413737,
          196.10046768188477,
          196.11400922139487,
          196.12275886535645,
          196.1381753285726,
          196.15630022684732,
          196.17671648661295,
          196.1954663594564,
          196.20754941304526,
          196.22171592712402,
          196.23178672790527,
          196.24012438456217,
          196.24315325419107,
          196.2419033050537,
          196.23648643493652,
          196.23315302530924,
          196.23523648579916,
          196.2394027709961,
          196.24815305074057,
          196.25690269470215,
          196.26419003804526,
          196.27002334594727,
          196.27585665384927,
          196.28189849853516,
          196.29004033406576,
          196.30087407430014,
          196.31087811787924,
          196.32337379455566,
          196.33337783813477,
          196.3412946065267,
          196.3481699625651,
          196.34942054748535,
          196.35212898254395,
          196.3546288808187,
          196.35408719380698,
          196.3557497660319,
          196.35689163208008,
          196.35751660664877,
          196.3573080698649,
          196.35251681009927,
          196.34897486368814,
          196.3443915049235,
          196.33728726704916,
          196.32937049865723,
          196.32248751322427,
          196.31860415140787,
          196.3179791768392,
          196.31922912597656,
          196.31859588623047,
          196.31592877705893,
          196.3173828125,
          196.32092920939127,
          196.32675870259604,
          196.33196703592935,
          196.3300921122233,
          196.33132934570312,
          196.33195432027182,
          196.33237075805664,
          196.33540852864584,
          196.33332506815592,
          196.33250427246094,
          196.32542101542154,
          196.3120880126953,
          196.30417124430338,
          196.2960465749105,
          196.28771336873373,
          196.27898406982422,
          196.26835950215658,
          196.25316365559897,
          196.2320473988851,
          196.21225547790527,
          196.18808873494467,
          196.16724713643393,
          196.14577674865723,
          196.1279182434082,
          196.10729281107584,
          196.0822925567627,
          196.0606257120768,
          196.04187520345053,
          196.02355448404947,
          196.00688807169595,
          195.99099667867026,
          195.97566731770834,
          195.9619172414144,
          195.94607162475586,
          195.93648846944174,
          195.92252985636392,
          195.91002972920737,
          195.89281272888184,
          195.87489573160806,
          195.85718727111816,
          195.84468714396158,
          195.8364117940267,
          195.83120346069336,
          195.82336235046387,
          195.81752904256186,
          195.80961227416992,
          195.80354118347168,
          195.7945245107015,
          195.78619130452475,
          195.77952448527017,
          195.773899714152,
          195.77035840352377,
          195.76452509562174,
          195.75598335266113,
          195.7452081044515,
          195.73458290100098,
          195.73056666056314,
          195.7304916381836,
          195.7294495900472,
          195.737574895223,
          195.743408203125,
          195.75249989827475,
          195.76000022888184,
          195.7690544128418,
          195.77655410766602,
          195.78670438130698,
          195.79482905069986,
          195.8033873240153,
          195.80901209513345,
          195.81575775146484,
          195.8240909576416,
          195.8295078277588,
          195.83409118652344,
          195.83992449442545,
          195.84097862243652,
          195.8445199330648,
          195.8470198313395,
          195.85451952616373,
          195.86201985677084,
          195.87701988220215,
          195.88707796732584,
          195.89090283711752,
          195.89845275878906,
          195.90803591410318,
          195.91678619384766,
          195.92428652445474,
          195.9336617787679,
          195.94064966837564,
          195.9462750752767,
          195.95523325602213,
          195.9704418182373,
          195.99014155069986,
          196.01657931009927,
          196.03650029500326,
          196.05733362833658,
          196.07966677347818,
          196.10320854187012,
          196.12695439656576,
          196.15527470906576,
          196.17944145202637,
          196.19902483622232,
          196.22319157918295,
          196.25027465820312,
          196.27354176839194,
          196.2995834350586,
          196.33562469482422,
          196.37034543355307,
          196.40263684590658,
          196.43201192220053,
          196.45784505208334,
          196.48034477233887,
          196.50367800394693,
          196.5249277750651,
          196.54201126098633,
          196.55430285135904,
          196.56124432881674,
          196.56522369384766,
          196.57647387186685,
          196.59064102172852,
          196.6016413370768,
          196.61893272399902,
          196.63352076212564
         ],
         "yaxis": "y"
        },
        {
         "hovertemplate": "variable=upper_boll_24<br>Datetime=%{x}<br>value=%{y}<extra></extra>",
         "legendgroup": "upper_boll_24",
         "line": {
          "color": "#b6d1c3",
          "dash": "dot"
         },
         "marker": {
          "symbol": "circle"
         },
         "mode": "lines",
         "name": "upper_boll_24",
         "showlegend": true,
         "type": "scattergl",
         "x": [
          "2024-06-07T09:30:00-04:00",
          "2024-06-07T09:31:00-04:00",
          "2024-06-07T09:32:00-04:00",
          "2024-06-07T09:33:00-04:00",
          "2024-06-07T09:34:00-04:00",
          "2024-06-07T09:35:00-04:00",
          "2024-06-07T09:36:00-04:00",
          "2024-06-07T09:37:00-04:00",
          "2024-06-07T09:38:00-04:00",
          "2024-06-07T09:39:00-04:00",
          "2024-06-07T09:40:00-04:00",
          "2024-06-07T09:41:00-04:00",
          "2024-06-07T09:42:00-04:00",
          "2024-06-07T09:43:00-04:00",
          "2024-06-07T09:44:00-04:00",
          "2024-06-07T09:45:00-04:00",
          "2024-06-07T09:46:00-04:00",
          "2024-06-07T09:47:00-04:00",
          "2024-06-07T09:48:00-04:00",
          "2024-06-07T09:49:00-04:00",
          "2024-06-07T09:50:00-04:00",
          "2024-06-07T09:51:00-04:00",
          "2024-06-07T09:52:00-04:00",
          "2024-06-07T09:53:00-04:00",
          "2024-06-07T09:54:00-04:00",
          "2024-06-07T09:55:00-04:00",
          "2024-06-07T09:56:00-04:00",
          "2024-06-07T09:57:00-04:00",
          "2024-06-07T09:58:00-04:00",
          "2024-06-07T09:59:00-04:00",
          "2024-06-07T10:00:00-04:00",
          "2024-06-07T10:01:00-04:00",
          "2024-06-07T10:02:00-04:00",
          "2024-06-07T10:03:00-04:00",
          "2024-06-07T10:04:00-04:00",
          "2024-06-07T10:05:00-04:00",
          "2024-06-07T10:06:00-04:00",
          "2024-06-07T10:07:00-04:00",
          "2024-06-07T10:08:00-04:00",
          "2024-06-07T10:09:00-04:00",
          "2024-06-07T10:10:00-04:00",
          "2024-06-07T10:11:00-04:00",
          "2024-06-07T10:12:00-04:00",
          "2024-06-07T10:13:00-04:00",
          "2024-06-07T10:14:00-04:00",
          "2024-06-07T10:15:00-04:00",
          "2024-06-07T10:16:00-04:00",
          "2024-06-07T10:17:00-04:00",
          "2024-06-07T10:18:00-04:00",
          "2024-06-07T10:19:00-04:00",
          "2024-06-07T10:20:00-04:00",
          "2024-06-07T10:21:00-04:00",
          "2024-06-07T10:22:00-04:00",
          "2024-06-07T10:23:00-04:00",
          "2024-06-07T10:24:00-04:00",
          "2024-06-07T10:25:00-04:00",
          "2024-06-07T10:26:00-04:00",
          "2024-06-07T10:27:00-04:00",
          "2024-06-07T10:28:00-04:00",
          "2024-06-07T10:29:00-04:00",
          "2024-06-07T10:30:00-04:00",
          "2024-06-07T10:31:00-04:00",
          "2024-06-07T10:32:00-04:00",
          "2024-06-07T10:33:00-04:00",
          "2024-06-07T10:34:00-04:00",
          "2024-06-07T10:35:00-04:00",
          "2024-06-07T10:36:00-04:00",
          "2024-06-07T10:37:00-04:00",
          "2024-06-07T10:38:00-04:00",
          "2024-06-07T10:39:00-04:00",
          "2024-06-07T10:40:00-04:00",
          "2024-06-07T10:41:00-04:00",
          "2024-06-07T10:42:00-04:00",
          "2024-06-07T10:43:00-04:00",
          "2024-06-07T10:44:00-04:00",
          "2024-06-07T10:45:00-04:00",
          "2024-06-07T10:46:00-04:00",
          "2024-06-07T10:47:00-04:00",
          "2024-06-07T10:48:00-04:00",
          "2024-06-07T10:49:00-04:00",
          "2024-06-07T10:50:00-04:00",
          "2024-06-07T10:51:00-04:00",
          "2024-06-07T10:52:00-04:00",
          "2024-06-07T10:53:00-04:00",
          "2024-06-07T10:54:00-04:00",
          "2024-06-07T10:55:00-04:00",
          "2024-06-07T10:56:00-04:00",
          "2024-06-07T10:57:00-04:00",
          "2024-06-07T10:58:00-04:00",
          "2024-06-07T10:59:00-04:00",
          "2024-06-07T11:00:00-04:00",
          "2024-06-07T11:01:00-04:00",
          "2024-06-07T11:02:00-04:00",
          "2024-06-07T11:03:00-04:00",
          "2024-06-07T11:04:00-04:00",
          "2024-06-07T11:05:00-04:00",
          "2024-06-07T11:06:00-04:00",
          "2024-06-07T11:07:00-04:00",
          "2024-06-07T11:08:00-04:00",
          "2024-06-07T11:09:00-04:00",
          "2024-06-07T11:10:00-04:00",
          "2024-06-07T11:11:00-04:00",
          "2024-06-07T11:12:00-04:00",
          "2024-06-07T11:13:00-04:00",
          "2024-06-07T11:14:00-04:00",
          "2024-06-07T11:15:00-04:00",
          "2024-06-07T11:16:00-04:00",
          "2024-06-07T11:17:00-04:00",
          "2024-06-07T11:18:00-04:00",
          "2024-06-07T11:19:00-04:00",
          "2024-06-07T11:20:00-04:00",
          "2024-06-07T11:21:00-04:00",
          "2024-06-07T11:22:00-04:00",
          "2024-06-07T11:23:00-04:00",
          "2024-06-07T11:24:00-04:00",
          "2024-06-07T11:25:00-04:00",
          "2024-06-07T11:26:00-04:00",
          "2024-06-07T11:27:00-04:00",
          "2024-06-07T11:28:00-04:00",
          "2024-06-07T11:29:00-04:00",
          "2024-06-07T11:30:00-04:00",
          "2024-06-07T11:31:00-04:00",
          "2024-06-07T11:32:00-04:00",
          "2024-06-07T11:33:00-04:00",
          "2024-06-07T11:34:00-04:00",
          "2024-06-07T11:35:00-04:00",
          "2024-06-07T11:36:00-04:00",
          "2024-06-07T11:37:00-04:00",
          "2024-06-07T11:38:00-04:00",
          "2024-06-07T11:39:00-04:00",
          "2024-06-07T11:40:00-04:00",
          "2024-06-07T11:41:00-04:00",
          "2024-06-07T11:42:00-04:00",
          "2024-06-07T11:43:00-04:00",
          "2024-06-07T11:44:00-04:00",
          "2024-06-07T11:45:00-04:00",
          "2024-06-07T11:46:00-04:00",
          "2024-06-07T11:47:00-04:00",
          "2024-06-07T11:48:00-04:00",
          "2024-06-07T11:49:00-04:00",
          "2024-06-07T11:50:00-04:00",
          "2024-06-07T11:51:00-04:00",
          "2024-06-07T11:52:00-04:00",
          "2024-06-07T11:53:00-04:00",
          "2024-06-07T11:54:00-04:00",
          "2024-06-07T11:55:00-04:00",
          "2024-06-07T11:56:00-04:00",
          "2024-06-07T11:57:00-04:00",
          "2024-06-07T11:58:00-04:00",
          "2024-06-07T11:59:00-04:00",
          "2024-06-07T12:00:00-04:00",
          "2024-06-07T12:01:00-04:00",
          "2024-06-07T12:02:00-04:00",
          "2024-06-07T12:03:00-04:00",
          "2024-06-07T12:04:00-04:00",
          "2024-06-07T12:05:00-04:00",
          "2024-06-07T12:06:00-04:00",
          "2024-06-07T12:07:00-04:00",
          "2024-06-07T12:08:00-04:00",
          "2024-06-07T12:09:00-04:00",
          "2024-06-07T12:10:00-04:00",
          "2024-06-07T12:11:00-04:00",
          "2024-06-07T12:12:00-04:00",
          "2024-06-07T12:13:00-04:00",
          "2024-06-07T12:14:00-04:00",
          "2024-06-07T12:15:00-04:00",
          "2024-06-07T12:16:00-04:00",
          "2024-06-07T12:17:00-04:00",
          "2024-06-07T12:18:00-04:00",
          "2024-06-07T12:19:00-04:00",
          "2024-06-07T12:20:00-04:00",
          "2024-06-07T12:21:00-04:00",
          "2024-06-07T12:22:00-04:00",
          "2024-06-07T12:23:00-04:00",
          "2024-06-07T12:24:00-04:00",
          "2024-06-07T12:25:00-04:00",
          "2024-06-07T12:26:00-04:00",
          "2024-06-07T12:27:00-04:00",
          "2024-06-07T12:28:00-04:00",
          "2024-06-07T12:29:00-04:00",
          "2024-06-07T12:30:00-04:00",
          "2024-06-07T12:31:00-04:00",
          "2024-06-07T12:32:00-04:00",
          "2024-06-07T12:33:00-04:00",
          "2024-06-07T12:34:00-04:00",
          "2024-06-07T12:35:00-04:00",
          "2024-06-07T12:36:00-04:00",
          "2024-06-07T12:37:00-04:00",
          "2024-06-07T12:38:00-04:00",
          "2024-06-07T12:39:00-04:00",
          "2024-06-07T12:40:00-04:00",
          "2024-06-07T12:41:00-04:00",
          "2024-06-07T12:42:00-04:00",
          "2024-06-07T12:43:00-04:00",
          "2024-06-07T12:44:00-04:00",
          "2024-06-07T12:45:00-04:00",
          "2024-06-07T12:46:00-04:00",
          "2024-06-07T12:47:00-04:00",
          "2024-06-07T12:48:00-04:00",
          "2024-06-07T12:49:00-04:00",
          "2024-06-07T12:50:00-04:00",
          "2024-06-07T12:51:00-04:00",
          "2024-06-07T12:52:00-04:00",
          "2024-06-07T12:53:00-04:00",
          "2024-06-07T12:54:00-04:00",
          "2024-06-07T12:55:00-04:00",
          "2024-06-07T12:56:00-04:00",
          "2024-06-07T12:57:00-04:00",
          "2024-06-07T12:58:00-04:00",
          "2024-06-07T12:59:00-04:00",
          "2024-06-07T13:00:00-04:00",
          "2024-06-07T13:01:00-04:00",
          "2024-06-07T13:02:00-04:00",
          "2024-06-07T13:03:00-04:00",
          "2024-06-07T13:04:00-04:00",
          "2024-06-07T13:05:00-04:00",
          "2024-06-07T13:06:00-04:00",
          "2024-06-07T13:07:00-04:00",
          "2024-06-07T13:08:00-04:00",
          "2024-06-07T13:09:00-04:00",
          "2024-06-07T13:10:00-04:00",
          "2024-06-07T13:11:00-04:00",
          "2024-06-07T13:12:00-04:00",
          "2024-06-07T13:13:00-04:00",
          "2024-06-07T13:14:00-04:00",
          "2024-06-07T13:15:00-04:00",
          "2024-06-07T13:16:00-04:00",
          "2024-06-07T13:17:00-04:00",
          "2024-06-07T13:18:00-04:00",
          "2024-06-07T13:19:00-04:00",
          "2024-06-07T13:20:00-04:00",
          "2024-06-07T13:21:00-04:00",
          "2024-06-07T13:22:00-04:00",
          "2024-06-07T13:23:00-04:00",
          "2024-06-07T13:24:00-04:00",
          "2024-06-07T13:25:00-04:00",
          "2024-06-07T13:26:00-04:00",
          "2024-06-07T13:27:00-04:00",
          "2024-06-07T13:28:00-04:00",
          "2024-06-07T13:29:00-04:00",
          "2024-06-07T13:30:00-04:00",
          "2024-06-07T13:31:00-04:00",
          "2024-06-07T13:32:00-04:00",
          "2024-06-07T13:33:00-04:00",
          "2024-06-07T13:34:00-04:00",
          "2024-06-07T13:35:00-04:00",
          "2024-06-07T13:36:00-04:00",
          "2024-06-07T13:37:00-04:00",
          "2024-06-07T13:38:00-04:00",
          "2024-06-07T13:39:00-04:00",
          "2024-06-07T13:40:00-04:00",
          "2024-06-07T13:41:00-04:00",
          "2024-06-07T13:42:00-04:00",
          "2024-06-07T13:43:00-04:00",
          "2024-06-07T13:44:00-04:00",
          "2024-06-07T13:45:00-04:00",
          "2024-06-07T13:46:00-04:00",
          "2024-06-07T13:47:00-04:00",
          "2024-06-07T13:48:00-04:00",
          "2024-06-07T13:49:00-04:00",
          "2024-06-07T13:50:00-04:00",
          "2024-06-07T13:51:00-04:00",
          "2024-06-07T13:52:00-04:00",
          "2024-06-07T13:53:00-04:00",
          "2024-06-07T13:54:00-04:00",
          "2024-06-07T13:55:00-04:00",
          "2024-06-07T13:56:00-04:00",
          "2024-06-07T13:57:00-04:00",
          "2024-06-07T13:58:00-04:00",
          "2024-06-07T13:59:00-04:00",
          "2024-06-07T14:00:00-04:00",
          "2024-06-07T14:01:00-04:00",
          "2024-06-07T14:02:00-04:00",
          "2024-06-07T14:03:00-04:00",
          "2024-06-07T14:04:00-04:00",
          "2024-06-07T14:05:00-04:00",
          "2024-06-07T14:06:00-04:00",
          "2024-06-07T14:07:00-04:00",
          "2024-06-07T14:08:00-04:00",
          "2024-06-07T14:09:00-04:00",
          "2024-06-07T14:10:00-04:00",
          "2024-06-07T14:11:00-04:00",
          "2024-06-07T14:12:00-04:00",
          "2024-06-07T14:13:00-04:00",
          "2024-06-07T14:14:00-04:00",
          "2024-06-07T14:15:00-04:00",
          "2024-06-07T14:16:00-04:00",
          "2024-06-07T14:17:00-04:00",
          "2024-06-07T14:18:00-04:00",
          "2024-06-07T14:19:00-04:00",
          "2024-06-07T14:20:00-04:00",
          "2024-06-07T14:21:00-04:00",
          "2024-06-07T14:22:00-04:00",
          "2024-06-07T14:23:00-04:00",
          "2024-06-07T14:24:00-04:00",
          "2024-06-07T14:25:00-04:00",
          "2024-06-07T14:26:00-04:00",
          "2024-06-07T14:27:00-04:00",
          "2024-06-07T14:28:00-04:00",
          "2024-06-07T14:29:00-04:00",
          "2024-06-07T14:30:00-04:00",
          "2024-06-07T14:31:00-04:00",
          "2024-06-07T14:32:00-04:00",
          "2024-06-07T14:33:00-04:00",
          "2024-06-07T14:34:00-04:00",
          "2024-06-07T14:35:00-04:00",
          "2024-06-07T14:36:00-04:00",
          "2024-06-07T14:37:00-04:00",
          "2024-06-07T14:38:00-04:00",
          "2024-06-07T14:39:00-04:00",
          "2024-06-07T14:40:00-04:00",
          "2024-06-07T14:41:00-04:00",
          "2024-06-07T14:42:00-04:00",
          "2024-06-07T14:43:00-04:00",
          "2024-06-07T14:44:00-04:00",
          "2024-06-07T14:45:00-04:00",
          "2024-06-07T14:46:00-04:00",
          "2024-06-07T14:47:00-04:00",
          "2024-06-07T14:48:00-04:00",
          "2024-06-07T14:49:00-04:00",
          "2024-06-07T14:50:00-04:00",
          "2024-06-07T14:51:00-04:00",
          "2024-06-07T14:52:00-04:00",
          "2024-06-07T14:53:00-04:00",
          "2024-06-07T14:54:00-04:00",
          "2024-06-07T14:55:00-04:00",
          "2024-06-07T14:56:00-04:00",
          "2024-06-07T14:57:00-04:00",
          "2024-06-07T14:58:00-04:00",
          "2024-06-07T14:59:00-04:00",
          "2024-06-07T15:00:00-04:00",
          "2024-06-07T15:01:00-04:00",
          "2024-06-07T15:02:00-04:00",
          "2024-06-07T15:03:00-04:00",
          "2024-06-07T15:04:00-04:00",
          "2024-06-07T15:05:00-04:00",
          "2024-06-07T15:06:00-04:00",
          "2024-06-07T15:07:00-04:00",
          "2024-06-07T15:08:00-04:00",
          "2024-06-07T15:09:00-04:00",
          "2024-06-07T15:10:00-04:00",
          "2024-06-07T15:11:00-04:00",
          "2024-06-07T15:12:00-04:00",
          "2024-06-07T15:13:00-04:00",
          "2024-06-07T15:14:00-04:00",
          "2024-06-07T15:15:00-04:00",
          "2024-06-07T15:16:00-04:00",
          "2024-06-07T15:17:00-04:00",
          "2024-06-07T15:18:00-04:00",
          "2024-06-07T15:19:00-04:00",
          "2024-06-07T15:20:00-04:00",
          "2024-06-07T15:21:00-04:00",
          "2024-06-07T15:22:00-04:00",
          "2024-06-07T15:23:00-04:00",
          "2024-06-07T15:24:00-04:00",
          "2024-06-07T15:25:00-04:00",
          "2024-06-07T15:26:00-04:00",
          "2024-06-07T15:27:00-04:00",
          "2024-06-07T15:28:00-04:00",
          "2024-06-07T15:29:00-04:00",
          "2024-06-07T15:30:00-04:00",
          "2024-06-07T15:31:00-04:00",
          "2024-06-07T15:32:00-04:00",
          "2024-06-07T15:33:00-04:00",
          "2024-06-07T15:34:00-04:00",
          "2024-06-07T15:35:00-04:00",
          "2024-06-07T15:36:00-04:00",
          "2024-06-07T15:37:00-04:00",
          "2024-06-07T15:38:00-04:00",
          "2024-06-07T15:39:00-04:00",
          "2024-06-07T15:40:00-04:00",
          "2024-06-07T15:41:00-04:00",
          "2024-06-07T15:42:00-04:00",
          "2024-06-07T15:43:00-04:00",
          "2024-06-07T15:44:00-04:00",
          "2024-06-07T15:45:00-04:00",
          "2024-06-07T15:46:00-04:00",
          "2024-06-07T15:47:00-04:00",
          "2024-06-07T15:48:00-04:00",
          "2024-06-07T15:49:00-04:00",
          "2024-06-07T15:50:00-04:00",
          "2024-06-07T15:51:00-04:00",
          "2024-06-07T15:52:00-04:00",
          "2024-06-07T15:53:00-04:00",
          "2024-06-07T15:54:00-04:00",
          "2024-06-07T15:55:00-04:00",
          "2024-06-07T15:56:00-04:00",
          "2024-06-07T15:57:00-04:00",
          "2024-06-07T15:58:00-04:00",
          "2024-06-07T15:59:00-04:00"
         ],
         "xaxis": "x",
         "y": [
          195.5,
          195.5,
          195.5393274300166,
          195.58372359362238,
          195.58511192235042,
          195.60292926238915,
          195.62652560521758,
          195.64404894687112,
          195.64338025920608,
          195.6451747393058,
          195.651635047294,
          195.65251546139424,
          195.6322263499821,
          195.60552377728067,
          195.5736383748198,
          195.53837585123722,
          195.49997507718155,
          195.45828240572862,
          195.41239285843736,
          195.36406586183338,
          195.3120290674756,
          195.25734418451648,
          195.1998249027943,
          195.13389047793336,
          195.06213475725082,
          194.9813124492145,
          194.85245212851942,
          194.81043135540693,
          194.7295040341567,
          194.6845735481616,
          194.67298584934196,
          194.69317351606924,
          194.6937049670496,
          194.7100212835298,
          194.71521273236814,
          194.7206458384311,
          194.73089787719834,
          194.75393458181247,
          194.77771376828852,
          194.8044000890131,
          194.82879528667823,
          194.83522974597903,
          194.85444587814249,
          194.87431368902352,
          194.89761246692464,
          194.90647476296036,
          194.92194170857135,
          194.94193982044075,
          194.9688941008855,
          194.98823034557262,
          194.99918106986362,
          195.00385581371182,
          195.01190091523657,
          195.02504990439996,
          195.0373328642276,
          195.05370013018745,
          195.05999724620585,
          195.0608118679917,
          195.05387090672758,
          195.0532762128312,
          195.05090611477073,
          195.05222421353312,
          195.05207861926112,
          195.0505316695674,
          195.05191815149627,
          195.0569604676515,
          195.07930500240653,
          195.09190708239402,
          195.1091545817819,
          195.12353416045744,
          195.148508178038,
          195.18904922975096,
          195.2395375727966,
          195.31144873680404,
          195.36330699411894,
          195.40758312724023,
          195.46031988479555,
          195.51503536293941,
          195.57459954835227,
          195.63485102565187,
          195.67810522989788,
          195.72237834768336,
          195.76105804530573,
          195.78882611953875,
          195.81471345866782,
          195.84037351717245,
          195.85902597839288,
          195.86501897242815,
          195.86405405548228,
          195.85982926470922,
          195.86161139667178,
          195.85367585972352,
          195.8483290514051,
          195.83915284832224,
          195.8393955220524,
          195.8455454965352,
          195.84877854361207,
          195.84667223139715,
          195.85242283202138,
          195.84749521073377,
          195.83352213943627,
          195.8135099319354,
          195.7825840091891,
          195.74235910508625,
          195.71273978428368,
          195.6779532477359,
          195.6414199387646,
          195.6098376725834,
          195.57143010590661,
          195.51912240537908,
          195.46464136886425,
          195.41650431391517,
          195.3791853911027,
          195.34170317767092,
          195.28948940021758,
          195.27846391439763,
          195.28929101834686,
          195.31057818158365,
          195.3299249413426,
          195.34639221559053,
          195.38613740451922,
          195.4338218673392,
          195.48315058087897,
          195.53796937910647,
          195.59250871528755,
          195.64230439736988,
          195.67688031611013,
          195.7090300974827,
          195.73183907392254,
          195.75763577541238,
          195.7871471866225,
          195.821111487699,
          195.84787639998189,
          195.8646671510119,
          195.87857619575726,
          195.88476768987107,
          195.88607409571458,
          195.89029585092567,
          195.89099672602921,
          195.89546978809335,
          195.8958227106049,
          195.89719623957257,
          195.89310452344236,
          195.87468763543367,
          195.86991920202436,
          195.86962829452418,
          195.87478883775944,
          195.88226062040454,
          195.88446557703935,
          195.88446557703935,
          195.88728484579084,
          195.89341870253617,
          195.89264776857505,
          195.89380751634727,
          195.89509894815632,
          195.89164101750788,
          195.89109156001084,
          195.90525923358464,
          195.92090492639602,
          195.957881787613,
          195.97873643575397,
          195.99086475873315,
          196.0003717907915,
          196.00892508711652,
          196.01603952703312,
          196.01604423280972,
          196.01603424980107,
          196.01751299143413,
          196.0204809535471,
          196.02404837848712,
          196.02386421589443,
          196.02142730055834,
          196.01813589289776,
          196.0144882806952,
          196.01606010952548,
          196.0193798275268,
          196.02442402434852,
          196.02384242163902,
          196.0223580517601,
          196.02103472993124,
          196.02590497332528,
          196.03746008738162,
          196.04632916237594,
          196.04035538033418,
          196.04425763248994,
          196.04734773421796,
          196.05330254385137,
          196.0535076479465,
          196.0528220142662,
          196.06099382186844,
          196.06412113336089,
          196.0667039152896,
          196.06617644857076,
          196.06538300818437,
          196.06395621844652,
          196.06044248601788,
          196.05734750720893,
          196.05577911085607,
          196.05607311537017,
          196.05347157805903,
          196.05080773049247,
          196.0556228511377,
          196.05927460993806,
          196.0672412209788,
          196.0702377164845,
          196.0712357317322,
          196.09045315223187,
          196.1279418622476,
          196.1573110685814,
          196.17530740827993,
          196.1961969033731,
          196.2122538355891,
          196.2282685599161,
          196.24266337920577,
          196.2626007912721,
          196.2791521844099,
          196.29167556449474,
          196.30051685455956,
          196.30789054757037,
          196.31381692114175,
          196.3163758029273,
          196.31930333355044,
          196.31815782917622,
          196.312599632151,
          196.3126230849856,
          196.3155790336142,
          196.31746762132033,
          196.31956804128367,
          196.31438539899517,
          196.31368654673304,
          196.31229829568127,
          196.29916739437928,
          196.28938876371572,
          196.29414596958193,
          196.30740268198267,
          196.33084307681858,
          196.3492402030476,
          196.36149188502156,
          196.37237940279397,
          196.38097401925307,
          196.38753164669657,
          196.39419376731786,
          196.4049776721266,
          196.4123591868667,
          196.4143994686902,
          196.41989626240604,
          196.4226629155934,
          196.42664489204932,
          196.42716380057954,
          196.42791082274687,
          196.42960170780208,
          196.42968212965164,
          196.42842254747046,
          196.42706162084747,
          196.42661233546562,
          196.42670207250174,
          196.4292604430649,
          196.42870630436835,
          196.42301667754896,
          196.41165717516887,
          196.40129340653968,
          196.39427328003612,
          196.38734178466405,
          196.38610491373927,
          196.38842616093393,
          196.3874205453254,
          196.38161956589255,
          196.38536399707192,
          196.3948206523568,
          196.41255102003987,
          196.42464996978177,
          196.42189536353175,
          196.42319084699358,
          196.42385741154746,
          196.42442897310488,
          196.426342978798,
          196.42683772880122,
          196.42713463973794,
          196.43209182856577,
          196.44424563083712,
          196.44903992012448,
          196.44958666660182,
          196.44582267731482,
          196.44211792055822,
          196.4408206965025,
          196.44299237886563,
          196.44059357471866,
          196.42902298213662,
          196.4162123904671,
          196.40264898269805,
          196.3861851441925,
          196.36173695111222,
          196.3307672148935,
          196.2868480596805,
          196.24500494051594,
          196.21825482229394,
          196.1890711409489,
          196.15815486076792,
          196.12099743894976,
          196.08263330494032,
          196.05960015706657,
          196.03373450742828,
          196.02140202200306,
          196.03108479601786,
          196.02627632223516,
          196.0177049743999,
          195.99810870151674,
          195.97867043205162,
          195.96573293632505,
          195.9616543189895,
          195.95971432085761,
          195.95322744530745,
          195.95111161443933,
          195.946768843128,
          195.9422467891611,
          195.9263323315048,
          195.91194654405015,
          195.90036325619013,
          195.8876947442548,
          195.88134661566258,
          195.8714597530358,
          195.85582709691056,
          195.83195093025583,
          195.807033975053,
          195.79765835495607,
          195.7974798979873,
          195.7946690541155,
          195.79862969540906,
          195.8073369095658,
          195.816122366436,
          195.82529181940015,
          195.83565207159663,
          195.84571057471882,
          195.85908911183768,
          195.86741689682765,
          195.87784550878914,
          195.87784177992535,
          195.87684698180772,
          195.88227436788358,
          195.89036883642424,
          195.8952031100599,
          195.90328445875576,
          195.9047228948644,
          195.90911354615466,
          195.9097379396093,
          195.9145904206784,
          195.91687855999848,
          195.93872087452485,
          195.95082921724304,
          195.95307662575135,
          195.96322292792354,
          195.9745964281002,
          195.98767637630698,
          195.9978279361379,
          196.01278210909493,
          196.02239829990552,
          196.02867005790347,
          196.0464320588526,
          196.07906010875848,
          196.1277030841277,
          196.17621204562775,
          196.20055284436114,
          196.23451953300258,
          196.2719278903154,
          196.3055622232467,
          196.34118745558408,
          196.3794877248232,
          196.40618615134645,
          196.41428256703858,
          196.43831933683077,
          196.46517470158508,
          196.49862751309675,
          196.52955825520186,
          196.5696351908085,
          196.61493270392245,
          196.65145878220758,
          196.6790013908836,
          196.69367646858362,
          196.70453036737388,
          196.70951787951626,
          196.70313460272362,
          196.70024624098198,
          196.70025494527448,
          196.70294203562204,
          196.70467698941076,
          196.70397994943664,
          196.716565396895,
          196.72682117127977,
          196.7514246577301,
          196.77149707117243
         ],
         "yaxis": "y"
        },
        {
         "hovertemplate": "variable=lower_boll_24<br>Datetime=%{x}<br>value=%{y}<extra></extra>",
         "legendgroup": "lower_boll_24",
         "line": {
          "color": "#b6d1c3",
          "dash": "dot"
         },
         "marker": {
          "symbol": "circle"
         },
         "mode": "lines",
         "name": "lower_boll_24",
         "showlegend": true,
         "type": "scattergl",
         "x": [
          "2024-06-07T09:30:00-04:00",
          "2024-06-07T09:31:00-04:00",
          "2024-06-07T09:32:00-04:00",
          "2024-06-07T09:33:00-04:00",
          "2024-06-07T09:34:00-04:00",
          "2024-06-07T09:35:00-04:00",
          "2024-06-07T09:36:00-04:00",
          "2024-06-07T09:37:00-04:00",
          "2024-06-07T09:38:00-04:00",
          "2024-06-07T09:39:00-04:00",
          "2024-06-07T09:40:00-04:00",
          "2024-06-07T09:41:00-04:00",
          "2024-06-07T09:42:00-04:00",
          "2024-06-07T09:43:00-04:00",
          "2024-06-07T09:44:00-04:00",
          "2024-06-07T09:45:00-04:00",
          "2024-06-07T09:46:00-04:00",
          "2024-06-07T09:47:00-04:00",
          "2024-06-07T09:48:00-04:00",
          "2024-06-07T09:49:00-04:00",
          "2024-06-07T09:50:00-04:00",
          "2024-06-07T09:51:00-04:00",
          "2024-06-07T09:52:00-04:00",
          "2024-06-07T09:53:00-04:00",
          "2024-06-07T09:54:00-04:00",
          "2024-06-07T09:55:00-04:00",
          "2024-06-07T09:56:00-04:00",
          "2024-06-07T09:57:00-04:00",
          "2024-06-07T09:58:00-04:00",
          "2024-06-07T09:59:00-04:00",
          "2024-06-07T10:00:00-04:00",
          "2024-06-07T10:01:00-04:00",
          "2024-06-07T10:02:00-04:00",
          "2024-06-07T10:03:00-04:00",
          "2024-06-07T10:04:00-04:00",
          "2024-06-07T10:05:00-04:00",
          "2024-06-07T10:06:00-04:00",
          "2024-06-07T10:07:00-04:00",
          "2024-06-07T10:08:00-04:00",
          "2024-06-07T10:09:00-04:00",
          "2024-06-07T10:10:00-04:00",
          "2024-06-07T10:11:00-04:00",
          "2024-06-07T10:12:00-04:00",
          "2024-06-07T10:13:00-04:00",
          "2024-06-07T10:14:00-04:00",
          "2024-06-07T10:15:00-04:00",
          "2024-06-07T10:16:00-04:00",
          "2024-06-07T10:17:00-04:00",
          "2024-06-07T10:18:00-04:00",
          "2024-06-07T10:19:00-04:00",
          "2024-06-07T10:20:00-04:00",
          "2024-06-07T10:21:00-04:00",
          "2024-06-07T10:22:00-04:00",
          "2024-06-07T10:23:00-04:00",
          "2024-06-07T10:24:00-04:00",
          "2024-06-07T10:25:00-04:00",
          "2024-06-07T10:26:00-04:00",
          "2024-06-07T10:27:00-04:00",
          "2024-06-07T10:28:00-04:00",
          "2024-06-07T10:29:00-04:00",
          "2024-06-07T10:30:00-04:00",
          "2024-06-07T10:31:00-04:00",
          "2024-06-07T10:32:00-04:00",
          "2024-06-07T10:33:00-04:00",
          "2024-06-07T10:34:00-04:00",
          "2024-06-07T10:35:00-04:00",
          "2024-06-07T10:36:00-04:00",
          "2024-06-07T10:37:00-04:00",
          "2024-06-07T10:38:00-04:00",
          "2024-06-07T10:39:00-04:00",
          "2024-06-07T10:40:00-04:00",
          "2024-06-07T10:41:00-04:00",
          "2024-06-07T10:42:00-04:00",
          "2024-06-07T10:43:00-04:00",
          "2024-06-07T10:44:00-04:00",
          "2024-06-07T10:45:00-04:00",
          "2024-06-07T10:46:00-04:00",
          "2024-06-07T10:47:00-04:00",
          "2024-06-07T10:48:00-04:00",
          "2024-06-07T10:49:00-04:00",
          "2024-06-07T10:50:00-04:00",
          "2024-06-07T10:51:00-04:00",
          "2024-06-07T10:52:00-04:00",
          "2024-06-07T10:53:00-04:00",
          "2024-06-07T10:54:00-04:00",
          "2024-06-07T10:55:00-04:00",
          "2024-06-07T10:56:00-04:00",
          "2024-06-07T10:57:00-04:00",
          "2024-06-07T10:58:00-04:00",
          "2024-06-07T10:59:00-04:00",
          "2024-06-07T11:00:00-04:00",
          "2024-06-07T11:01:00-04:00",
          "2024-06-07T11:02:00-04:00",
          "2024-06-07T11:03:00-04:00",
          "2024-06-07T11:04:00-04:00",
          "2024-06-07T11:05:00-04:00",
          "2024-06-07T11:06:00-04:00",
          "2024-06-07T11:07:00-04:00",
          "2024-06-07T11:08:00-04:00",
          "2024-06-07T11:09:00-04:00",
          "2024-06-07T11:10:00-04:00",
          "2024-06-07T11:11:00-04:00",
          "2024-06-07T11:12:00-04:00",
          "2024-06-07T11:13:00-04:00",
          "2024-06-07T11:14:00-04:00",
          "2024-06-07T11:15:00-04:00",
          "2024-06-07T11:16:00-04:00",
          "2024-06-07T11:17:00-04:00",
          "2024-06-07T11:18:00-04:00",
          "2024-06-07T11:19:00-04:00",
          "2024-06-07T11:20:00-04:00",
          "2024-06-07T11:21:00-04:00",
          "2024-06-07T11:22:00-04:00",
          "2024-06-07T11:23:00-04:00",
          "2024-06-07T11:24:00-04:00",
          "2024-06-07T11:25:00-04:00",
          "2024-06-07T11:26:00-04:00",
          "2024-06-07T11:27:00-04:00",
          "2024-06-07T11:28:00-04:00",
          "2024-06-07T11:29:00-04:00",
          "2024-06-07T11:30:00-04:00",
          "2024-06-07T11:31:00-04:00",
          "2024-06-07T11:32:00-04:00",
          "2024-06-07T11:33:00-04:00",
          "2024-06-07T11:34:00-04:00",
          "2024-06-07T11:35:00-04:00",
          "2024-06-07T11:36:00-04:00",
          "2024-06-07T11:37:00-04:00",
          "2024-06-07T11:38:00-04:00",
          "2024-06-07T11:39:00-04:00",
          "2024-06-07T11:40:00-04:00",
          "2024-06-07T11:41:00-04:00",
          "2024-06-07T11:42:00-04:00",
          "2024-06-07T11:43:00-04:00",
          "2024-06-07T11:44:00-04:00",
          "2024-06-07T11:45:00-04:00",
          "2024-06-07T11:46:00-04:00",
          "2024-06-07T11:47:00-04:00",
          "2024-06-07T11:48:00-04:00",
          "2024-06-07T11:49:00-04:00",
          "2024-06-07T11:50:00-04:00",
          "2024-06-07T11:51:00-04:00",
          "2024-06-07T11:52:00-04:00",
          "2024-06-07T11:53:00-04:00",
          "2024-06-07T11:54:00-04:00",
          "2024-06-07T11:55:00-04:00",
          "2024-06-07T11:56:00-04:00",
          "2024-06-07T11:57:00-04:00",
          "2024-06-07T11:58:00-04:00",
          "2024-06-07T11:59:00-04:00",
          "2024-06-07T12:00:00-04:00",
          "2024-06-07T12:01:00-04:00",
          "2024-06-07T12:02:00-04:00",
          "2024-06-07T12:03:00-04:00",
          "2024-06-07T12:04:00-04:00",
          "2024-06-07T12:05:00-04:00",
          "2024-06-07T12:06:00-04:00",
          "2024-06-07T12:07:00-04:00",
          "2024-06-07T12:08:00-04:00",
          "2024-06-07T12:09:00-04:00",
          "2024-06-07T12:10:00-04:00",
          "2024-06-07T12:11:00-04:00",
          "2024-06-07T12:12:00-04:00",
          "2024-06-07T12:13:00-04:00",
          "2024-06-07T12:14:00-04:00",
          "2024-06-07T12:15:00-04:00",
          "2024-06-07T12:16:00-04:00",
          "2024-06-07T12:17:00-04:00",
          "2024-06-07T12:18:00-04:00",
          "2024-06-07T12:19:00-04:00",
          "2024-06-07T12:20:00-04:00",
          "2024-06-07T12:21:00-04:00",
          "2024-06-07T12:22:00-04:00",
          "2024-06-07T12:23:00-04:00",
          "2024-06-07T12:24:00-04:00",
          "2024-06-07T12:25:00-04:00",
          "2024-06-07T12:26:00-04:00",
          "2024-06-07T12:27:00-04:00",
          "2024-06-07T12:28:00-04:00",
          "2024-06-07T12:29:00-04:00",
          "2024-06-07T12:30:00-04:00",
          "2024-06-07T12:31:00-04:00",
          "2024-06-07T12:32:00-04:00",
          "2024-06-07T12:33:00-04:00",
          "2024-06-07T12:34:00-04:00",
          "2024-06-07T12:35:00-04:00",
          "2024-06-07T12:36:00-04:00",
          "2024-06-07T12:37:00-04:00",
          "2024-06-07T12:38:00-04:00",
          "2024-06-07T12:39:00-04:00",
          "2024-06-07T12:40:00-04:00",
          "2024-06-07T12:41:00-04:00",
          "2024-06-07T12:42:00-04:00",
          "2024-06-07T12:43:00-04:00",
          "2024-06-07T12:44:00-04:00",
          "2024-06-07T12:45:00-04:00",
          "2024-06-07T12:46:00-04:00",
          "2024-06-07T12:47:00-04:00",
          "2024-06-07T12:48:00-04:00",
          "2024-06-07T12:49:00-04:00",
          "2024-06-07T12:50:00-04:00",
          "2024-06-07T12:51:00-04:00",
          "2024-06-07T12:52:00-04:00",
          "2024-06-07T12:53:00-04:00",
          "2024-06-07T12:54:00-04:00",
          "2024-06-07T12:55:00-04:00",
          "2024-06-07T12:56:00-04:00",
          "2024-06-07T12:57:00-04:00",
          "2024-06-07T12:58:00-04:00",
          "2024-06-07T12:59:00-04:00",
          "2024-06-07T13:00:00-04:00",
          "2024-06-07T13:01:00-04:00",
          "2024-06-07T13:02:00-04:00",
          "2024-06-07T13:03:00-04:00",
          "2024-06-07T13:04:00-04:00",
          "2024-06-07T13:05:00-04:00",
          "2024-06-07T13:06:00-04:00",
          "2024-06-07T13:07:00-04:00",
          "2024-06-07T13:08:00-04:00",
          "2024-06-07T13:09:00-04:00",
          "2024-06-07T13:10:00-04:00",
          "2024-06-07T13:11:00-04:00",
          "2024-06-07T13:12:00-04:00",
          "2024-06-07T13:13:00-04:00",
          "2024-06-07T13:14:00-04:00",
          "2024-06-07T13:15:00-04:00",
          "2024-06-07T13:16:00-04:00",
          "2024-06-07T13:17:00-04:00",
          "2024-06-07T13:18:00-04:00",
          "2024-06-07T13:19:00-04:00",
          "2024-06-07T13:20:00-04:00",
          "2024-06-07T13:21:00-04:00",
          "2024-06-07T13:22:00-04:00",
          "2024-06-07T13:23:00-04:00",
          "2024-06-07T13:24:00-04:00",
          "2024-06-07T13:25:00-04:00",
          "2024-06-07T13:26:00-04:00",
          "2024-06-07T13:27:00-04:00",
          "2024-06-07T13:28:00-04:00",
          "2024-06-07T13:29:00-04:00",
          "2024-06-07T13:30:00-04:00",
          "2024-06-07T13:31:00-04:00",
          "2024-06-07T13:32:00-04:00",
          "2024-06-07T13:33:00-04:00",
          "2024-06-07T13:34:00-04:00",
          "2024-06-07T13:35:00-04:00",
          "2024-06-07T13:36:00-04:00",
          "2024-06-07T13:37:00-04:00",
          "2024-06-07T13:38:00-04:00",
          "2024-06-07T13:39:00-04:00",
          "2024-06-07T13:40:00-04:00",
          "2024-06-07T13:41:00-04:00",
          "2024-06-07T13:42:00-04:00",
          "2024-06-07T13:43:00-04:00",
          "2024-06-07T13:44:00-04:00",
          "2024-06-07T13:45:00-04:00",
          "2024-06-07T13:46:00-04:00",
          "2024-06-07T13:47:00-04:00",
          "2024-06-07T13:48:00-04:00",
          "2024-06-07T13:49:00-04:00",
          "2024-06-07T13:50:00-04:00",
          "2024-06-07T13:51:00-04:00",
          "2024-06-07T13:52:00-04:00",
          "2024-06-07T13:53:00-04:00",
          "2024-06-07T13:54:00-04:00",
          "2024-06-07T13:55:00-04:00",
          "2024-06-07T13:56:00-04:00",
          "2024-06-07T13:57:00-04:00",
          "2024-06-07T13:58:00-04:00",
          "2024-06-07T13:59:00-04:00",
          "2024-06-07T14:00:00-04:00",
          "2024-06-07T14:01:00-04:00",
          "2024-06-07T14:02:00-04:00",
          "2024-06-07T14:03:00-04:00",
          "2024-06-07T14:04:00-04:00",
          "2024-06-07T14:05:00-04:00",
          "2024-06-07T14:06:00-04:00",
          "2024-06-07T14:07:00-04:00",
          "2024-06-07T14:08:00-04:00",
          "2024-06-07T14:09:00-04:00",
          "2024-06-07T14:10:00-04:00",
          "2024-06-07T14:11:00-04:00",
          "2024-06-07T14:12:00-04:00",
          "2024-06-07T14:13:00-04:00",
          "2024-06-07T14:14:00-04:00",
          "2024-06-07T14:15:00-04:00",
          "2024-06-07T14:16:00-04:00",
          "2024-06-07T14:17:00-04:00",
          "2024-06-07T14:18:00-04:00",
          "2024-06-07T14:19:00-04:00",
          "2024-06-07T14:20:00-04:00",
          "2024-06-07T14:21:00-04:00",
          "2024-06-07T14:22:00-04:00",
          "2024-06-07T14:23:00-04:00",
          "2024-06-07T14:24:00-04:00",
          "2024-06-07T14:25:00-04:00",
          "2024-06-07T14:26:00-04:00",
          "2024-06-07T14:27:00-04:00",
          "2024-06-07T14:28:00-04:00",
          "2024-06-07T14:29:00-04:00",
          "2024-06-07T14:30:00-04:00",
          "2024-06-07T14:31:00-04:00",
          "2024-06-07T14:32:00-04:00",
          "2024-06-07T14:33:00-04:00",
          "2024-06-07T14:34:00-04:00",
          "2024-06-07T14:35:00-04:00",
          "2024-06-07T14:36:00-04:00",
          "2024-06-07T14:37:00-04:00",
          "2024-06-07T14:38:00-04:00",
          "2024-06-07T14:39:00-04:00",
          "2024-06-07T14:40:00-04:00",
          "2024-06-07T14:41:00-04:00",
          "2024-06-07T14:42:00-04:00",
          "2024-06-07T14:43:00-04:00",
          "2024-06-07T14:44:00-04:00",
          "2024-06-07T14:45:00-04:00",
          "2024-06-07T14:46:00-04:00",
          "2024-06-07T14:47:00-04:00",
          "2024-06-07T14:48:00-04:00",
          "2024-06-07T14:49:00-04:00",
          "2024-06-07T14:50:00-04:00",
          "2024-06-07T14:51:00-04:00",
          "2024-06-07T14:52:00-04:00",
          "2024-06-07T14:53:00-04:00",
          "2024-06-07T14:54:00-04:00",
          "2024-06-07T14:55:00-04:00",
          "2024-06-07T14:56:00-04:00",
          "2024-06-07T14:57:00-04:00",
          "2024-06-07T14:58:00-04:00",
          "2024-06-07T14:59:00-04:00",
          "2024-06-07T15:00:00-04:00",
          "2024-06-07T15:01:00-04:00",
          "2024-06-07T15:02:00-04:00",
          "2024-06-07T15:03:00-04:00",
          "2024-06-07T15:04:00-04:00",
          "2024-06-07T15:05:00-04:00",
          "2024-06-07T15:06:00-04:00",
          "2024-06-07T15:07:00-04:00",
          "2024-06-07T15:08:00-04:00",
          "2024-06-07T15:09:00-04:00",
          "2024-06-07T15:10:00-04:00",
          "2024-06-07T15:11:00-04:00",
          "2024-06-07T15:12:00-04:00",
          "2024-06-07T15:13:00-04:00",
          "2024-06-07T15:14:00-04:00",
          "2024-06-07T15:15:00-04:00",
          "2024-06-07T15:16:00-04:00",
          "2024-06-07T15:17:00-04:00",
          "2024-06-07T15:18:00-04:00",
          "2024-06-07T15:19:00-04:00",
          "2024-06-07T15:20:00-04:00",
          "2024-06-07T15:21:00-04:00",
          "2024-06-07T15:22:00-04:00",
          "2024-06-07T15:23:00-04:00",
          "2024-06-07T15:24:00-04:00",
          "2024-06-07T15:25:00-04:00",
          "2024-06-07T15:26:00-04:00",
          "2024-06-07T15:27:00-04:00",
          "2024-06-07T15:28:00-04:00",
          "2024-06-07T15:29:00-04:00",
          "2024-06-07T15:30:00-04:00",
          "2024-06-07T15:31:00-04:00",
          "2024-06-07T15:32:00-04:00",
          "2024-06-07T15:33:00-04:00",
          "2024-06-07T15:34:00-04:00",
          "2024-06-07T15:35:00-04:00",
          "2024-06-07T15:36:00-04:00",
          "2024-06-07T15:37:00-04:00",
          "2024-06-07T15:38:00-04:00",
          "2024-06-07T15:39:00-04:00",
          "2024-06-07T15:40:00-04:00",
          "2024-06-07T15:41:00-04:00",
          "2024-06-07T15:42:00-04:00",
          "2024-06-07T15:43:00-04:00",
          "2024-06-07T15:44:00-04:00",
          "2024-06-07T15:45:00-04:00",
          "2024-06-07T15:46:00-04:00",
          "2024-06-07T15:47:00-04:00",
          "2024-06-07T15:48:00-04:00",
          "2024-06-07T15:49:00-04:00",
          "2024-06-07T15:50:00-04:00",
          "2024-06-07T15:51:00-04:00",
          "2024-06-07T15:52:00-04:00",
          "2024-06-07T15:53:00-04:00",
          "2024-06-07T15:54:00-04:00",
          "2024-06-07T15:55:00-04:00",
          "2024-06-07T15:56:00-04:00",
          "2024-06-07T15:57:00-04:00",
          "2024-06-07T15:58:00-04:00",
          "2024-06-07T15:59:00-04:00"
         ],
         "xaxis": "x",
         "y": [
          195.5,
          195.5,
          195.47400620849248,
          195.39377732190496,
          195.37138908472966,
          195.31106330149433,
          195.22829973251027,
          195.1416095716022,
          195.08019533283493,
          195.00173433865643,
          194.8986070588258,
          194.79020940229393,
          194.72208146048342,
          194.66420075071414,
          194.61858676352657,
          194.57843272216775,
          194.5367579143549,
          194.49059174995173,
          194.4506480656349,
          194.42647546913994,
          194.40434564769365,
          194.38903083582855,
          194.37988319657094,
          194.36747645525347,
          194.36339853742692,
          194.36671255485453,
          194.40223867755157,
          194.40092576129229,
          194.42477758205425,
          194.4355499971672,
          194.43797097845754,
          194.43278397294443,
          194.43266832396603,
          194.43354357649625,
          194.45501050371584,
          194.49917736306628,
          194.5148423775217,
          194.52388854847726,
          194.5272089713762,
          194.52927275237687,
          194.53812009825018,
          194.56012802176187,
          194.58007865799033,
          194.5868692231672,
          194.5956533208358,
          194.6034574371536,
          194.6092408984436,
          194.62675016165562,
          194.6414625478775,
          194.66213484811226,
          194.68945189522427,
          194.7181099760831,
          194.74855644153425,
          194.77915694374457,
          194.8002080801897,
          194.8057651509812,
          194.8207184418638,
          194.83021240365545,
          194.85507862737074,
          194.85859029310953,
          194.8659601877195,
          194.85797526970254,
          194.85310453707024,
          194.84840174107714,
          194.84968173253694,
          194.86488147163885,
          194.86420314578683,
          194.86702515841,
          194.86687767529818,
          194.8776649260497,
          194.87935691392164,
          194.8729828340511,
          194.86041131026005,
          194.84423287330338,
          194.84535694631074,
          194.85566404479755,
          194.86085219365495,
          194.86336226075852,
          194.86921504718808,
          194.87620523858965,
          194.89711805704871,
          194.92909437977434,
          194.9683311453681,
          195.01514676050684,
          195.06967578286861,
          195.13214921842325,
          195.1955801413988,
          195.2608367913251,
          195.31513499074165,
          195.36520099855574,
          195.39925286114072,
          195.42770511154924,
          195.44552725149205,
          195.47120329181448,
          195.47054481608237,
          195.44856130481568,
          195.41991220142376,
          195.3729526058424,
          195.31178589804045,
          195.2783808980716,
          195.24567987675837,
          195.20471669159974,
          195.17355841634802,
          195.15045044488122,
          195.1288193079201,
          195.11735645481946,
          195.10555627786948,
          195.0925549055416,
          195.08429600900226,
          195.08347133444838,
          195.08861816279267,
          195.08468841476324,
          195.0807577444767,
          195.0811560142236,
          195.0992028198345,
          195.1016198054917,
          195.09746715019153,
          195.08867947832846,
          195.08516625535339,
          195.08536539345897,
          195.07728600653223,
          195.0762680069284,
          195.09235626523107,
          195.0945036128369,
          195.09954730481334,
          195.1185013684179,
          195.13975863042307,
          195.16052505795352,
          195.18354966916016,
          195.20025250990665,
          195.22157448289246,
          195.24719320997355,
          195.2750115292987,
          195.305603133005,
          195.3364443018827,
          195.3856612855521,
          195.43727998957186,
          195.49430828522344,
          195.5456907434532,
          195.59536858064035,
          195.62668273169655,
          195.6498923834743,
          195.68439995246908,
          195.73231716599864,
          195.75000216434935,
          195.76112681208392,
          195.76638293551528,
          195.76652020234937,
          195.7663980704216,
          195.7663980704216,
          195.76941274535497,
          195.77244560613894,
          195.78134184527585,
          195.78518189405312,
          195.78597455851684,
          195.78609971532092,
          195.78593328129776,
          195.78854900412696,
          195.79290376907926,
          195.7885018793792,
          195.79598025939575,
          195.79801845049536,
          195.80267793251582,
          195.80348208858337,
          195.8117841118829,
          195.81386350237906,
          195.81304060981807,
          195.80664599497536,
          195.79576126447049,
          195.77802605388592,
          195.7611267305574,
          195.74107091924958,
          195.72561308984962,
          195.7168858241225,
          195.71823096713467,
          195.7194952436809,
          195.72424210317425,
          195.72314905378414,
          195.72088357625094,
          195.7192899262374,
          195.72221946718577,
          195.7214980933638,
          195.7209615887634,
          195.7222687244835,
          195.72151614070341,
          195.72134301081786,
          195.72122214486933,
          195.72122557755807,
          195.72107833566866,
          195.72707304214524,
          195.7318624990447,
          195.74261208405935,
          195.75272334187522,
          195.7710173417505,
          195.7857777699975,
          195.80470923720802,
          195.82488770193822,
          195.83174835496425,
          195.81978773464613,
          195.80405583689867,
          195.79880291607327,
          195.80691326132975,
          195.81492811833343,
          195.82332020073343,
          195.82490642820952,
          195.82473365913694,
          195.81884987714636,
          195.8063614214438,
          195.79841682651949,
          195.79750397274222,
          195.79619786184497,
          195.79826582790375,
          195.80350151047776,
          195.80869007538408,
          195.81958558975006,
          195.83345132104256,
          195.85592778836983,
          195.87291962818782,
          195.89304481619916,
          195.91420152164798,
          195.9291419277856,
          195.95704732359476,
          195.99444262451843,
          196.0408333410749,
          196.07830963392718,
          196.09951979247631,
          196.1259642329277,
          196.14400541452687,
          196.16586337012916,
          196.1726199616491,
          196.17150831442615,
          196.17380547549377,
          196.17691728690275,
          196.1763270020164,
          196.17140286000952,
          196.16546302466256,
          196.1645651863567,
          196.16688819106895,
          196.16766728910056,
          196.17073928844547,
          196.17626535037374,
          196.18588690081367,
          196.1967704764737,
          196.2093970488918,
          196.23234812042114,
          196.2468594138635,
          196.25992629746,
          196.26969503308086,
          196.27167729439117,
          196.27634714234102,
          196.2796560538353,
          196.2784922579623,
          196.28307698459332,
          196.2867216433127,
          196.28842087783192,
          196.28791406722806,
          196.27577317713366,
          196.26924342300794,
          196.26576633229803,
          196.26291735892946,
          196.25744759077477,
          196.25070174641243,
          196.2498665181517,
          196.24985343993913,
          196.2500320910192,
          196.24977122713554,
          196.2502379882253,
          196.24940162792808,
          196.24703776642573,
          196.2409663851522,
          196.23928410207694,
          196.23828886091485,
          196.23946784441267,
          196.24005122899618,
          196.2403125430084,
          196.24447407849368,
          196.2398124075106,
          196.23787390518393,
          196.2187502022773,
          196.1799303945535,
          196.15930256848227,
          196.14250648321917,
          196.12960406015264,
          196.11585021909022,
          196.09589830781067,
          196.0633349323323,
          196.02350122305154,
          195.99548797367393,
          195.95996507942223,
          195.9318452901698,
          195.90536835312196,
          195.89409953570419,
          195.88381840725816,
          195.8777370538449,
          195.8762464836377,
          195.86549558460712,
          195.85803782715004,
          195.85562128262399,
          195.86099591839076,
          195.86870133047637,
          195.86423432576223,
          195.85840874208344,
          195.85157491688042,
          195.81397491670998,
          195.79378313617957,
          195.76792048336378,
          195.75168276169939,
          195.7357041101847,
          195.7236413515981,
          195.7111692690639,
          195.7026926005291,
          195.6934972556203,
          195.6839464706844,
          195.67245570521183,
          195.66483557778227,
          195.66271668989822,
          195.66043606499935,
          195.6586857143502,
          195.66010468404923,
          195.65937019138497,
          195.65759043820768,
          195.6561396084117,
          195.65846527864718,
          195.66213182694895,
          195.6634749661702,
          195.6635033783799,
          195.66423012597892,
          195.67652009503692,
          195.6794794966842,
          195.6888774301135,
          195.69470863836352,
          195.70245675408697,
          195.7073976406132,
          195.71431965077628,
          195.72224120457207,
          195.72892913924144,
          195.74018241034156,
          195.75466852112197,
          195.76590754739962,
          195.76864681909333,
          195.77297926298698,
          195.77656453009513,
          195.77723435000865,
          195.77992631997492,
          195.78430172306972,
          195.79444863164906,
          195.8071611535432,
          195.81531888987945,
          195.82332671740863,
          195.8287290484837,
          195.8336825896546,
          195.84147540010616,
          195.84589601138833,
          195.8507451127716,
          195.8545414484409,
          195.85890103684577,
          195.86388009264994,
          195.86403445319166,
          195.86182352771613,
          195.85258001727203,
          195.8569465745708,
          195.8724477456454,
          195.88014772367058,
          195.88740565664096,
          195.90085486049352,
          195.91272133754745,
          195.93106169330832,
          195.9526967527063,
          195.98376710540606,
          196.00806382153513,
          196.03537461482117,
          196.04845602368712,
          196.06960861491532,
          196.10161419883994,
          196.1257581631837,
          196.1538149096056,
          196.18502245351746,
          196.22201363558307,
          196.25615917730386,
          196.2978381283776,
          196.34672094740657,
          196.38377628099067,
          196.4083507574436,
          196.41954662201144,
          196.42577039828456,
          196.44896779429706,
          196.46471664656204,
          196.47646150287386,
          196.48644079026795,
          196.49554445307885
         ],
         "yaxis": "y"
        },
        {
         "hovertemplate": "variable=Close<br>Datetime=%{x}<br>value=%{y}<extra></extra>",
         "legendgroup": "Close",
         "line": {
          "color": "#0059ff",
          "dash": "solid"
         },
         "marker": {
          "symbol": "circle"
         },
         "mode": "lines",
         "name": "Close",
         "showlegend": true,
         "type": "scattergl",
         "x": [
          "2024-06-07T09:30:00-04:00",
          "2024-06-07T09:31:00-04:00",
          "2024-06-07T09:32:00-04:00",
          "2024-06-07T09:33:00-04:00",
          "2024-06-07T09:34:00-04:00",
          "2024-06-07T09:35:00-04:00",
          "2024-06-07T09:36:00-04:00",
          "2024-06-07T09:37:00-04:00",
          "2024-06-07T09:38:00-04:00",
          "2024-06-07T09:39:00-04:00",
          "2024-06-07T09:40:00-04:00",
          "2024-06-07T09:41:00-04:00",
          "2024-06-07T09:42:00-04:00",
          "2024-06-07T09:43:00-04:00",
          "2024-06-07T09:44:00-04:00",
          "2024-06-07T09:45:00-04:00",
          "2024-06-07T09:46:00-04:00",
          "2024-06-07T09:47:00-04:00",
          "2024-06-07T09:48:00-04:00",
          "2024-06-07T09:49:00-04:00",
          "2024-06-07T09:50:00-04:00",
          "2024-06-07T09:51:00-04:00",
          "2024-06-07T09:52:00-04:00",
          "2024-06-07T09:53:00-04:00",
          "2024-06-07T09:54:00-04:00",
          "2024-06-07T09:55:00-04:00",
          "2024-06-07T09:56:00-04:00",
          "2024-06-07T09:57:00-04:00",
          "2024-06-07T09:58:00-04:00",
          "2024-06-07T09:59:00-04:00",
          "2024-06-07T10:00:00-04:00",
          "2024-06-07T10:01:00-04:00",
          "2024-06-07T10:02:00-04:00",
          "2024-06-07T10:03:00-04:00",
          "2024-06-07T10:04:00-04:00",
          "2024-06-07T10:05:00-04:00",
          "2024-06-07T10:06:00-04:00",
          "2024-06-07T10:07:00-04:00",
          "2024-06-07T10:08:00-04:00",
          "2024-06-07T10:09:00-04:00",
          "2024-06-07T10:10:00-04:00",
          "2024-06-07T10:11:00-04:00",
          "2024-06-07T10:12:00-04:00",
          "2024-06-07T10:13:00-04:00",
          "2024-06-07T10:14:00-04:00",
          "2024-06-07T10:15:00-04:00",
          "2024-06-07T10:16:00-04:00",
          "2024-06-07T10:17:00-04:00",
          "2024-06-07T10:18:00-04:00",
          "2024-06-07T10:19:00-04:00",
          "2024-06-07T10:20:00-04:00",
          "2024-06-07T10:21:00-04:00",
          "2024-06-07T10:22:00-04:00",
          "2024-06-07T10:23:00-04:00",
          "2024-06-07T10:24:00-04:00",
          "2024-06-07T10:25:00-04:00",
          "2024-06-07T10:26:00-04:00",
          "2024-06-07T10:27:00-04:00",
          "2024-06-07T10:28:00-04:00",
          "2024-06-07T10:29:00-04:00",
          "2024-06-07T10:30:00-04:00",
          "2024-06-07T10:31:00-04:00",
          "2024-06-07T10:32:00-04:00",
          "2024-06-07T10:33:00-04:00",
          "2024-06-07T10:34:00-04:00",
          "2024-06-07T10:35:00-04:00",
          "2024-06-07T10:36:00-04:00",
          "2024-06-07T10:37:00-04:00",
          "2024-06-07T10:38:00-04:00",
          "2024-06-07T10:39:00-04:00",
          "2024-06-07T10:40:00-04:00",
          "2024-06-07T10:41:00-04:00",
          "2024-06-07T10:42:00-04:00",
          "2024-06-07T10:43:00-04:00",
          "2024-06-07T10:44:00-04:00",
          "2024-06-07T10:45:00-04:00",
          "2024-06-07T10:46:00-04:00",
          "2024-06-07T10:47:00-04:00",
          "2024-06-07T10:48:00-04:00",
          "2024-06-07T10:49:00-04:00",
          "2024-06-07T10:50:00-04:00",
          "2024-06-07T10:51:00-04:00",
          "2024-06-07T10:52:00-04:00",
          "2024-06-07T10:53:00-04:00",
          "2024-06-07T10:54:00-04:00",
          "2024-06-07T10:55:00-04:00",
          "2024-06-07T10:56:00-04:00",
          "2024-06-07T10:57:00-04:00",
          "2024-06-07T10:58:00-04:00",
          "2024-06-07T10:59:00-04:00",
          "2024-06-07T11:00:00-04:00",
          "2024-06-07T11:01:00-04:00",
          "2024-06-07T11:02:00-04:00",
          "2024-06-07T11:03:00-04:00",
          "2024-06-07T11:04:00-04:00",
          "2024-06-07T11:05:00-04:00",
          "2024-06-07T11:06:00-04:00",
          "2024-06-07T11:07:00-04:00",
          "2024-06-07T11:08:00-04:00",
          "2024-06-07T11:09:00-04:00",
          "2024-06-07T11:10:00-04:00",
          "2024-06-07T11:11:00-04:00",
          "2024-06-07T11:12:00-04:00",
          "2024-06-07T11:13:00-04:00",
          "2024-06-07T11:14:00-04:00",
          "2024-06-07T11:15:00-04:00",
          "2024-06-07T11:16:00-04:00",
          "2024-06-07T11:17:00-04:00",
          "2024-06-07T11:18:00-04:00",
          "2024-06-07T11:19:00-04:00",
          "2024-06-07T11:20:00-04:00",
          "2024-06-07T11:21:00-04:00",
          "2024-06-07T11:22:00-04:00",
          "2024-06-07T11:23:00-04:00",
          "2024-06-07T11:24:00-04:00",
          "2024-06-07T11:25:00-04:00",
          "2024-06-07T11:26:00-04:00",
          "2024-06-07T11:27:00-04:00",
          "2024-06-07T11:28:00-04:00",
          "2024-06-07T11:29:00-04:00",
          "2024-06-07T11:30:00-04:00",
          "2024-06-07T11:31:00-04:00",
          "2024-06-07T11:32:00-04:00",
          "2024-06-07T11:33:00-04:00",
          "2024-06-07T11:34:00-04:00",
          "2024-06-07T11:35:00-04:00",
          "2024-06-07T11:36:00-04:00",
          "2024-06-07T11:37:00-04:00",
          "2024-06-07T11:38:00-04:00",
          "2024-06-07T11:39:00-04:00",
          "2024-06-07T11:40:00-04:00",
          "2024-06-07T11:41:00-04:00",
          "2024-06-07T11:42:00-04:00",
          "2024-06-07T11:43:00-04:00",
          "2024-06-07T11:44:00-04:00",
          "2024-06-07T11:45:00-04:00",
          "2024-06-07T11:46:00-04:00",
          "2024-06-07T11:47:00-04:00",
          "2024-06-07T11:48:00-04:00",
          "2024-06-07T11:49:00-04:00",
          "2024-06-07T11:50:00-04:00",
          "2024-06-07T11:51:00-04:00",
          "2024-06-07T11:52:00-04:00",
          "2024-06-07T11:53:00-04:00",
          "2024-06-07T11:54:00-04:00",
          "2024-06-07T11:55:00-04:00",
          "2024-06-07T11:56:00-04:00",
          "2024-06-07T11:57:00-04:00",
          "2024-06-07T11:58:00-04:00",
          "2024-06-07T11:59:00-04:00",
          "2024-06-07T12:00:00-04:00",
          "2024-06-07T12:01:00-04:00",
          "2024-06-07T12:02:00-04:00",
          "2024-06-07T12:03:00-04:00",
          "2024-06-07T12:04:00-04:00",
          "2024-06-07T12:05:00-04:00",
          "2024-06-07T12:06:00-04:00",
          "2024-06-07T12:07:00-04:00",
          "2024-06-07T12:08:00-04:00",
          "2024-06-07T12:09:00-04:00",
          "2024-06-07T12:10:00-04:00",
          "2024-06-07T12:11:00-04:00",
          "2024-06-07T12:12:00-04:00",
          "2024-06-07T12:13:00-04:00",
          "2024-06-07T12:14:00-04:00",
          "2024-06-07T12:15:00-04:00",
          "2024-06-07T12:16:00-04:00",
          "2024-06-07T12:17:00-04:00",
          "2024-06-07T12:18:00-04:00",
          "2024-06-07T12:19:00-04:00",
          "2024-06-07T12:20:00-04:00",
          "2024-06-07T12:21:00-04:00",
          "2024-06-07T12:22:00-04:00",
          "2024-06-07T12:23:00-04:00",
          "2024-06-07T12:24:00-04:00",
          "2024-06-07T12:25:00-04:00",
          "2024-06-07T12:26:00-04:00",
          "2024-06-07T12:27:00-04:00",
          "2024-06-07T12:28:00-04:00",
          "2024-06-07T12:29:00-04:00",
          "2024-06-07T12:30:00-04:00",
          "2024-06-07T12:31:00-04:00",
          "2024-06-07T12:32:00-04:00",
          "2024-06-07T12:33:00-04:00",
          "2024-06-07T12:34:00-04:00",
          "2024-06-07T12:35:00-04:00",
          "2024-06-07T12:36:00-04:00",
          "2024-06-07T12:37:00-04:00",
          "2024-06-07T12:38:00-04:00",
          "2024-06-07T12:39:00-04:00",
          "2024-06-07T12:40:00-04:00",
          "2024-06-07T12:41:00-04:00",
          "2024-06-07T12:42:00-04:00",
          "2024-06-07T12:43:00-04:00",
          "2024-06-07T12:44:00-04:00",
          "2024-06-07T12:45:00-04:00",
          "2024-06-07T12:46:00-04:00",
          "2024-06-07T12:47:00-04:00",
          "2024-06-07T12:48:00-04:00",
          "2024-06-07T12:49:00-04:00",
          "2024-06-07T12:50:00-04:00",
          "2024-06-07T12:51:00-04:00",
          "2024-06-07T12:52:00-04:00",
          "2024-06-07T12:53:00-04:00",
          "2024-06-07T12:54:00-04:00",
          "2024-06-07T12:55:00-04:00",
          "2024-06-07T12:56:00-04:00",
          "2024-06-07T12:57:00-04:00",
          "2024-06-07T12:58:00-04:00",
          "2024-06-07T12:59:00-04:00",
          "2024-06-07T13:00:00-04:00",
          "2024-06-07T13:01:00-04:00",
          "2024-06-07T13:02:00-04:00",
          "2024-06-07T13:03:00-04:00",
          "2024-06-07T13:04:00-04:00",
          "2024-06-07T13:05:00-04:00",
          "2024-06-07T13:06:00-04:00",
          "2024-06-07T13:07:00-04:00",
          "2024-06-07T13:08:00-04:00",
          "2024-06-07T13:09:00-04:00",
          "2024-06-07T13:10:00-04:00",
          "2024-06-07T13:11:00-04:00",
          "2024-06-07T13:12:00-04:00",
          "2024-06-07T13:13:00-04:00",
          "2024-06-07T13:14:00-04:00",
          "2024-06-07T13:15:00-04:00",
          "2024-06-07T13:16:00-04:00",
          "2024-06-07T13:17:00-04:00",
          "2024-06-07T13:18:00-04:00",
          "2024-06-07T13:19:00-04:00",
          "2024-06-07T13:20:00-04:00",
          "2024-06-07T13:21:00-04:00",
          "2024-06-07T13:22:00-04:00",
          "2024-06-07T13:23:00-04:00",
          "2024-06-07T13:24:00-04:00",
          "2024-06-07T13:25:00-04:00",
          "2024-06-07T13:26:00-04:00",
          "2024-06-07T13:27:00-04:00",
          "2024-06-07T13:28:00-04:00",
          "2024-06-07T13:29:00-04:00",
          "2024-06-07T13:30:00-04:00",
          "2024-06-07T13:31:00-04:00",
          "2024-06-07T13:32:00-04:00",
          "2024-06-07T13:33:00-04:00",
          "2024-06-07T13:34:00-04:00",
          "2024-06-07T13:35:00-04:00",
          "2024-06-07T13:36:00-04:00",
          "2024-06-07T13:37:00-04:00",
          "2024-06-07T13:38:00-04:00",
          "2024-06-07T13:39:00-04:00",
          "2024-06-07T13:40:00-04:00",
          "2024-06-07T13:41:00-04:00",
          "2024-06-07T13:42:00-04:00",
          "2024-06-07T13:43:00-04:00",
          "2024-06-07T13:44:00-04:00",
          "2024-06-07T13:45:00-04:00",
          "2024-06-07T13:46:00-04:00",
          "2024-06-07T13:47:00-04:00",
          "2024-06-07T13:48:00-04:00",
          "2024-06-07T13:49:00-04:00",
          "2024-06-07T13:50:00-04:00",
          "2024-06-07T13:51:00-04:00",
          "2024-06-07T13:52:00-04:00",
          "2024-06-07T13:53:00-04:00",
          "2024-06-07T13:54:00-04:00",
          "2024-06-07T13:55:00-04:00",
          "2024-06-07T13:56:00-04:00",
          "2024-06-07T13:57:00-04:00",
          "2024-06-07T13:58:00-04:00",
          "2024-06-07T13:59:00-04:00",
          "2024-06-07T14:00:00-04:00",
          "2024-06-07T14:01:00-04:00",
          "2024-06-07T14:02:00-04:00",
          "2024-06-07T14:03:00-04:00",
          "2024-06-07T14:04:00-04:00",
          "2024-06-07T14:05:00-04:00",
          "2024-06-07T14:06:00-04:00",
          "2024-06-07T14:07:00-04:00",
          "2024-06-07T14:08:00-04:00",
          "2024-06-07T14:09:00-04:00",
          "2024-06-07T14:10:00-04:00",
          "2024-06-07T14:11:00-04:00",
          "2024-06-07T14:12:00-04:00",
          "2024-06-07T14:13:00-04:00",
          "2024-06-07T14:14:00-04:00",
          "2024-06-07T14:15:00-04:00",
          "2024-06-07T14:16:00-04:00",
          "2024-06-07T14:17:00-04:00",
          "2024-06-07T14:18:00-04:00",
          "2024-06-07T14:19:00-04:00",
          "2024-06-07T14:20:00-04:00",
          "2024-06-07T14:21:00-04:00",
          "2024-06-07T14:22:00-04:00",
          "2024-06-07T14:23:00-04:00",
          "2024-06-07T14:24:00-04:00",
          "2024-06-07T14:25:00-04:00",
          "2024-06-07T14:26:00-04:00",
          "2024-06-07T14:27:00-04:00",
          "2024-06-07T14:28:00-04:00",
          "2024-06-07T14:29:00-04:00",
          "2024-06-07T14:30:00-04:00",
          "2024-06-07T14:31:00-04:00",
          "2024-06-07T14:32:00-04:00",
          "2024-06-07T14:33:00-04:00",
          "2024-06-07T14:34:00-04:00",
          "2024-06-07T14:35:00-04:00",
          "2024-06-07T14:36:00-04:00",
          "2024-06-07T14:37:00-04:00",
          "2024-06-07T14:38:00-04:00",
          "2024-06-07T14:39:00-04:00",
          "2024-06-07T14:40:00-04:00",
          "2024-06-07T14:41:00-04:00",
          "2024-06-07T14:42:00-04:00",
          "2024-06-07T14:43:00-04:00",
          "2024-06-07T14:44:00-04:00",
          "2024-06-07T14:45:00-04:00",
          "2024-06-07T14:46:00-04:00",
          "2024-06-07T14:47:00-04:00",
          "2024-06-07T14:48:00-04:00",
          "2024-06-07T14:49:00-04:00",
          "2024-06-07T14:50:00-04:00",
          "2024-06-07T14:51:00-04:00",
          "2024-06-07T14:52:00-04:00",
          "2024-06-07T14:53:00-04:00",
          "2024-06-07T14:54:00-04:00",
          "2024-06-07T14:55:00-04:00",
          "2024-06-07T14:56:00-04:00",
          "2024-06-07T14:57:00-04:00",
          "2024-06-07T14:58:00-04:00",
          "2024-06-07T14:59:00-04:00",
          "2024-06-07T15:00:00-04:00",
          "2024-06-07T15:01:00-04:00",
          "2024-06-07T15:02:00-04:00",
          "2024-06-07T15:03:00-04:00",
          "2024-06-07T15:04:00-04:00",
          "2024-06-07T15:05:00-04:00",
          "2024-06-07T15:06:00-04:00",
          "2024-06-07T15:07:00-04:00",
          "2024-06-07T15:08:00-04:00",
          "2024-06-07T15:09:00-04:00",
          "2024-06-07T15:10:00-04:00",
          "2024-06-07T15:11:00-04:00",
          "2024-06-07T15:12:00-04:00",
          "2024-06-07T15:13:00-04:00",
          "2024-06-07T15:14:00-04:00",
          "2024-06-07T15:15:00-04:00",
          "2024-06-07T15:16:00-04:00",
          "2024-06-07T15:17:00-04:00",
          "2024-06-07T15:18:00-04:00",
          "2024-06-07T15:19:00-04:00",
          "2024-06-07T15:20:00-04:00",
          "2024-06-07T15:21:00-04:00",
          "2024-06-07T15:22:00-04:00",
          "2024-06-07T15:23:00-04:00",
          "2024-06-07T15:24:00-04:00",
          "2024-06-07T15:25:00-04:00",
          "2024-06-07T15:26:00-04:00",
          "2024-06-07T15:27:00-04:00",
          "2024-06-07T15:28:00-04:00",
          "2024-06-07T15:29:00-04:00",
          "2024-06-07T15:30:00-04:00",
          "2024-06-07T15:31:00-04:00",
          "2024-06-07T15:32:00-04:00",
          "2024-06-07T15:33:00-04:00",
          "2024-06-07T15:34:00-04:00",
          "2024-06-07T15:35:00-04:00",
          "2024-06-07T15:36:00-04:00",
          "2024-06-07T15:37:00-04:00",
          "2024-06-07T15:38:00-04:00",
          "2024-06-07T15:39:00-04:00",
          "2024-06-07T15:40:00-04:00",
          "2024-06-07T15:41:00-04:00",
          "2024-06-07T15:42:00-04:00",
          "2024-06-07T15:43:00-04:00",
          "2024-06-07T15:44:00-04:00",
          "2024-06-07T15:45:00-04:00",
          "2024-06-07T15:46:00-04:00",
          "2024-06-07T15:47:00-04:00",
          "2024-06-07T15:48:00-04:00",
          "2024-06-07T15:49:00-04:00",
          "2024-06-07T15:50:00-04:00",
          "2024-06-07T15:51:00-04:00",
          "2024-06-07T15:52:00-04:00",
          "2024-06-07T15:53:00-04:00",
          "2024-06-07T15:54:00-04:00",
          "2024-06-07T15:55:00-04:00",
          "2024-06-07T15:56:00-04:00",
          "2024-06-07T15:57:00-04:00",
          "2024-06-07T15:58:00-04:00",
          "2024-06-07T15:59:00-04:00"
         ],
         "xaxis": "x",
         "y": [
          195.5,
          195.66000366210938,
          195.07000732421875,
          195.2480010986328,
          194.98989868164062,
          194.7899932861328,
          194.6699981689453,
          194.7550048828125,
          194.5800018310547,
          194.33999633789062,
          194.2097930908203,
          194.43899536132812,
          194.48500061035156,
          194.57000732421875,
          194.59500122070312,
          194.53909301757812,
          194.44569396972656,
          194.47000122070312,
          194.6300048828125,
          194.61000061035156,
          194.66000366210938,
          194.6999969482422,
          194.55990600585938,
          194.58999633789062,
          194.5699005126953,
          194.5399932861328,
          194.5500030517578,
          194.56309509277344,
          194.5800018310547,
          194.67999267578125,
          194.85000610351562,
          194.75999450683594,
          194.7863006591797,
          194.65989685058594,
          194.80499267578125,
          194.75,
          194.8699951171875,
          194.89520263671875,
          194.94000244140625,
          194.93800354003906,
          194.78700256347656,
          194.94000244140625,
          194.9499053955078,
          194.9949951171875,
          194.86000061035156,
          194.9550018310547,
          195.00999450683594,
          195.08999633789062,
          195.0500030517578,
          194.99920654296875,
          194.9499969482422,
          195.02499389648438,
          195.10499572753906,
          195.0800018310547,
          195.11309814453125,
          195.01499938964844,
          194.91000366210938,
          194.875,
          194.83999633789062,
          194.80999755859375,
          194.7899932861328,
          194.8350067138672,
          194.86500549316406,
          194.97000122070312,
          195.0299072265625,
          195.1999969482422,
          195.13499450683594,
          195.2001953125,
          195.16200256347656,
          195.27499389648438,
          195.4199981689453,
          195.5449981689453,
          195.7187957763672,
          195.63499450683594,
          195.60499572753906,
          195.7200927734375,
          195.7917022705078,
          195.86500549316406,
          195.9199981689453,
          195.78500366210938,
          195.8249969482422,
          195.80999755859375,
          195.73500061035156,
          195.77499389648438,
          195.84759521484375,
          195.82000732421875,
          195.72000122070312,
          195.61000061035156,
          195.5800018310547,
          195.6300048828125,
          195.38119506835938,
          195.3498992919922,
          195.36000061035156,
          195.27000427246094,
          195.22999572753906,
          195.24000549316406,
          195.1300048828125,
          194.97000122070312,
          195.14500427246094,
          195.16000366210938,
          195.05999755859375,
          195.1199951171875,
          195.16000366210938,
          195.1699981689453,
          195.27000427246094,
          195.22999572753906,
          195.1999969482422,
          195.21499633789062,
          195.2100067138672,
          195.22799682617188,
          195.09519958496094,
          195.11500549316406,
          195.13499450683594,
          195.22000122070312,
          195.27789306640625,
          195.42999267578125,
          195.50999450683594,
          195.4600067138672,
          195.42999267578125,
          195.6199951171875,
          195.69000244140625,
          195.7550048828125,
          195.82859802246094,
          195.875,
          195.88499450683594,
          195.7899932861328,
          195.7949981689453,
          195.72000122070312,
          195.77999877929688,
          195.83999633789062,
          195.9149932861328,
          195.8699951171875,
          195.77859497070312,
          195.76499938964844,
          195.76010131835938,
          195.75010681152344,
          195.8699951171875,
          195.84500122070312,
          195.92770385742188,
          195.80999755859375,
          195.80499267578125,
          195.8249969482422,
          195.78399658203125,
          195.77499389648438,
          195.82000732421875,
          195.8800048828125,
          195.91990661621094,
          195.89999389648438,
          195.88499450683594,
          195.86000061035156,
          195.90499877929688,
          195.8175048828125,
          195.83999633789062,
          195.86500549316406,
          195.875,
          195.8614044189453,
          195.97999572753906,
          196.0050048828125,
          196.1510009765625,
          196.09010314941406,
          196.0399932861328,
          196.01499938964844,
          196.0399932861328,
          195.9949951171875,
          195.8300018310547,
          195.81500244140625,
          195.72500610351562,
          195.67999267578125,
          195.64999389648438,
          195.6750030517578,
          195.64999389648438,
          195.6750030517578,
          195.7364959716797,
          195.89500427246094,
          195.9600067138672,
          195.93499755859375,
          195.8199005126953,
          195.82000732421875,
          195.83999633789062,
          195.9550018310547,
          196.11000061035156,
          196.10499572753906,
          196.09500122070312,
          196.12789916992188,
          196.0749969482422,
          196.0850067138672,
          196.04249572753906,
          195.98500061035156,
          196,
          195.91000366210938,
          195.88499450683594,
          195.7949981689453,
          195.86000061035156,
          195.8350067138672,
          195.8350067138672,
          195.8800048828125,
          195.8000030517578,
          195.7550048828125,
          195.74000549316406,
          195.83999633789062,
          195.97500610351562,
          195.9600067138672,
          196.0363006591797,
          196.00999450683594,
          196.11990356445312,
          196.26499938964844,
          196.39500427246094,
          196.38499450683594,
          196.27999877929688,
          196.32000732421875,
          196.25999450683594,
          196.24000549316406,
          196.23500061035156,
          196.27999877929688,
          196.25,
          196.21499633789062,
          196.1699981689453,
          196.1649932861328,
          196.16000366210938,
          196.08999633789062,
          196.1699981689453,
          196.19000244140625,
          196.22999572753906,
          196.2899932861328,
          196.26499938964844,
          196.3000030517578,
          196.2779998779297,
          196.21009826660156,
          196.19259643554688,
          196.23500061035156,
          196.26499938964844,
          196.30499267578125,
          196.3300018310547,
          196.4199981689453,
          196.47000122070312,
          196.4499969482422,
          196.40989685058594,
          196.4199981689453,
          196.38999938964844,
          196.36000061035156,
          196.3654022216797,
          196.4250030517578,
          196.4001007080078,
          196.389892578125,
          196.41009521484375,
          196.3800048828125,
          196.39500427246094,
          196.32000732421875,
          196.3300018310547,
          196.36000061035156,
          196.26499938964844,
          196.25,
          196.22000122070312,
          196.25,
          196.25999450683594,
          196.19000244140625,
          196.2449951171875,
          196.30999755859375,
          196.29949951171875,
          196.25999450683594,
          196.2447052001953,
          196.32679748535156,
          196.375,
          196.38999938964844,
          196.35020446777344,
          196.36099243164062,
          196.43499755859375,
          196.47500610351562,
          196.5500030517578,
          196.5050048828125,
          196.35000610351562,
          196.34970092773438,
          196.34500122070312,
          196.3699951171875,
          196.33790588378906,
          196.1999969482422,
          196.20030212402344,
          196.0800018310547,
          195.94000244140625,
          196,
          196.0500030517578,
          196.11000061035156,
          196.08999633789062,
          196.0050048828125,
          195.8800048828125,
          195.82000732421875,
          195.89999389648438,
          195.80999755859375,
          195.85000610351562,
          195.845703125,
          196.0063934326172,
          195.97999572753906,
          195.9499969482422,
          195.98500061035156,
          195.89999389648438,
          195.91000366210938,
          195.94500732421875,
          195.9886016845703,
          195.97000122070312,
          195.8699951171875,
          195.82000732421875,
          195.85000610351562,
          195.60499572753906,
          195.6999969482422,
          195.6367950439453,
          195.67999267578125,
          195.6649932861328,
          195.7050018310547,
          195.681396484375,
          195.69500732421875,
          195.71180725097656,
          195.6699981689453,
          195.66000366210938,
          195.6999969482422,
          195.7899932861328,
          195.77999877929688,
          195.7899932861328,
          195.85000610351562,
          195.81500244140625,
          195.77000427246094,
          195.74000549316406,
          195.72999572753906,
          195.71499633789062,
          195.7736053466797,
          195.81820678710938,
          195.8249969482422,
          195.8000030517578,
          195.83999633789062,
          195.85499572753906,
          195.86000061035156,
          195.88229370117188,
          195.88499450683594,
          195.9250030517578,
          195.88999938964844,
          195.91720581054688,
          195.80499267578125,
          195.8218994140625,
          195.89999389648438,
          195.9199981689453,
          195.88999938964844,
          195.92999267578125,
          195.87530517578125,
          195.89999389648438,
          195.8300018310547,
          195.9199981689453,
          195.91000366210938,
          196.0749969482422,
          196.01499938964844,
          195.91000366210938,
          196.00619506835938,
          196.02999877929688,
          196.0500030517578,
          196.03500366210938,
          196.0850067138672,
          196.0500030517578,
          196.02000427246094,
          196.13999938964844,
          196.2550048828125,
          196.38999938964844,
          196.4394989013672,
          196.3000030517578,
          196.39999389648438,
          196.45599365234375,
          196.4550018310547,
          196.49989318847656,
          196.55499267578125,
          196.47999572753906,
          196.3000030517578,
          196.5,
          196.55999755859375,
          196.63340759277344,
          196.63999938964844,
          196.77499389648438,
          196.83949279785156,
          196.80499267578125,
          196.7550048828125,
          196.65499877929688,
          196.625,
          196.61000061035156,
          196.52999877929688,
          196.5500030517578,
          196.5500030517578,
          196.5565948486328,
          196.53500366210938,
          196.57000732421875,
          196.74000549316406,
          196.72000122070312,
          196.8699951171875,
          196.85000610351562,
          196.89999389648438
         ],
         "yaxis": "y"
        }
       ],
       "layout": {
        "legend": {
         "title": {
          "text": "variable"
         },
         "tracegroupgap": 0
        },
        "template": {
         "data": {
          "bar": [
           {
            "error_x": {
             "color": "#2a3f5f"
            },
            "error_y": {
             "color": "#2a3f5f"
            },
            "marker": {
             "line": {
              "color": "#E5ECF6",
              "width": 0.5
             },
             "pattern": {
              "fillmode": "overlay",
              "size": 10,
              "solidity": 0.2
             }
            },
            "type": "bar"
           }
          ],
          "barpolar": [
           {
            "marker": {
             "line": {
              "color": "#E5ECF6",
              "width": 0.5
             },
             "pattern": {
              "fillmode": "overlay",
              "size": 10,
              "solidity": 0.2
             }
            },
            "type": "barpolar"
           }
          ],
          "carpet": [
           {
            "aaxis": {
             "endlinecolor": "#2a3f5f",
             "gridcolor": "white",
             "linecolor": "white",
             "minorgridcolor": "white",
             "startlinecolor": "#2a3f5f"
            },
            "baxis": {
             "endlinecolor": "#2a3f5f",
             "gridcolor": "white",
             "linecolor": "white",
             "minorgridcolor": "white",
             "startlinecolor": "#2a3f5f"
            },
            "type": "carpet"
           }
          ],
          "choropleth": [
           {
            "colorbar": {
             "outlinewidth": 0,
             "ticks": ""
            },
            "type": "choropleth"
           }
          ],
          "contour": [
           {
            "colorbar": {
             "outlinewidth": 0,
             "ticks": ""
            },
            "colorscale": [
             [
              0,
              "#0d0887"
             ],
             [
              0.1111111111111111,
              "#46039f"
             ],
             [
              0.2222222222222222,
              "#7201a8"
             ],
             [
              0.3333333333333333,
              "#9c179e"
             ],
             [
              0.4444444444444444,
              "#bd3786"
             ],
             [
              0.5555555555555556,
              "#d8576b"
             ],
             [
              0.6666666666666666,
              "#ed7953"
             ],
             [
              0.7777777777777778,
              "#fb9f3a"
             ],
             [
              0.8888888888888888,
              "#fdca26"
             ],
             [
              1,
              "#f0f921"
             ]
            ],
            "type": "contour"
           }
          ],
          "contourcarpet": [
           {
            "colorbar": {
             "outlinewidth": 0,
             "ticks": ""
            },
            "type": "contourcarpet"
           }
          ],
          "heatmap": [
           {
            "colorbar": {
             "outlinewidth": 0,
             "ticks": ""
            },
            "colorscale": [
             [
              0,
              "#0d0887"
             ],
             [
              0.1111111111111111,
              "#46039f"
             ],
             [
              0.2222222222222222,
              "#7201a8"
             ],
             [
              0.3333333333333333,
              "#9c179e"
             ],
             [
              0.4444444444444444,
              "#bd3786"
             ],
             [
              0.5555555555555556,
              "#d8576b"
             ],
             [
              0.6666666666666666,
              "#ed7953"
             ],
             [
              0.7777777777777778,
              "#fb9f3a"
             ],
             [
              0.8888888888888888,
              "#fdca26"
             ],
             [
              1,
              "#f0f921"
             ]
            ],
            "type": "heatmap"
           }
          ],
          "heatmapgl": [
           {
            "colorbar": {
             "outlinewidth": 0,
             "ticks": ""
            },
            "colorscale": [
             [
              0,
              "#0d0887"
             ],
             [
              0.1111111111111111,
              "#46039f"
             ],
             [
              0.2222222222222222,
              "#7201a8"
             ],
             [
              0.3333333333333333,
              "#9c179e"
             ],
             [
              0.4444444444444444,
              "#bd3786"
             ],
             [
              0.5555555555555556,
              "#d8576b"
             ],
             [
              0.6666666666666666,
              "#ed7953"
             ],
             [
              0.7777777777777778,
              "#fb9f3a"
             ],
             [
              0.8888888888888888,
              "#fdca26"
             ],
             [
              1,
              "#f0f921"
             ]
            ],
            "type": "heatmapgl"
           }
          ],
          "histogram": [
           {
            "marker": {
             "pattern": {
              "fillmode": "overlay",
              "size": 10,
              "solidity": 0.2
             }
            },
            "type": "histogram"
           }
          ],
          "histogram2d": [
           {
            "colorbar": {
             "outlinewidth": 0,
             "ticks": ""
            },
            "colorscale": [
             [
              0,
              "#0d0887"
             ],
             [
              0.1111111111111111,
              "#46039f"
             ],
             [
              0.2222222222222222,
              "#7201a8"
             ],
             [
              0.3333333333333333,
              "#9c179e"
             ],
             [
              0.4444444444444444,
              "#bd3786"
             ],
             [
              0.5555555555555556,
              "#d8576b"
             ],
             [
              0.6666666666666666,
              "#ed7953"
             ],
             [
              0.7777777777777778,
              "#fb9f3a"
             ],
             [
              0.8888888888888888,
              "#fdca26"
             ],
             [
              1,
              "#f0f921"
             ]
            ],
            "type": "histogram2d"
           }
          ],
          "histogram2dcontour": [
           {
            "colorbar": {
             "outlinewidth": 0,
             "ticks": ""
            },
            "colorscale": [
             [
              0,
              "#0d0887"
             ],
             [
              0.1111111111111111,
              "#46039f"
             ],
             [
              0.2222222222222222,
              "#7201a8"
             ],
             [
              0.3333333333333333,
              "#9c179e"
             ],
             [
              0.4444444444444444,
              "#bd3786"
             ],
             [
              0.5555555555555556,
              "#d8576b"
             ],
             [
              0.6666666666666666,
              "#ed7953"
             ],
             [
              0.7777777777777778,
              "#fb9f3a"
             ],
             [
              0.8888888888888888,
              "#fdca26"
             ],
             [
              1,
              "#f0f921"
             ]
            ],
            "type": "histogram2dcontour"
           }
          ],
          "mesh3d": [
           {
            "colorbar": {
             "outlinewidth": 0,
             "ticks": ""
            },
            "type": "mesh3d"
           }
          ],
          "parcoords": [
           {
            "line": {
             "colorbar": {
              "outlinewidth": 0,
              "ticks": ""
             }
            },
            "type": "parcoords"
           }
          ],
          "pie": [
           {
            "automargin": true,
            "type": "pie"
           }
          ],
          "scatter": [
           {
            "fillpattern": {
             "fillmode": "overlay",
             "size": 10,
             "solidity": 0.2
            },
            "type": "scatter"
           }
          ],
          "scatter3d": [
           {
            "line": {
             "colorbar": {
              "outlinewidth": 0,
              "ticks": ""
             }
            },
            "marker": {
             "colorbar": {
              "outlinewidth": 0,
              "ticks": ""
             }
            },
            "type": "scatter3d"
           }
          ],
          "scattercarpet": [
           {
            "marker": {
             "colorbar": {
              "outlinewidth": 0,
              "ticks": ""
             }
            },
            "type": "scattercarpet"
           }
          ],
          "scattergeo": [
           {
            "marker": {
             "colorbar": {
              "outlinewidth": 0,
              "ticks": ""
             }
            },
            "type": "scattergeo"
           }
          ],
          "scattergl": [
           {
            "marker": {
             "colorbar": {
              "outlinewidth": 0,
              "ticks": ""
             }
            },
            "type": "scattergl"
           }
          ],
          "scattermapbox": [
           {
            "marker": {
             "colorbar": {
              "outlinewidth": 0,
              "ticks": ""
             }
            },
            "type": "scattermapbox"
           }
          ],
          "scatterpolar": [
           {
            "marker": {
             "colorbar": {
              "outlinewidth": 0,
              "ticks": ""
             }
            },
            "type": "scatterpolar"
           }
          ],
          "scatterpolargl": [
           {
            "marker": {
             "colorbar": {
              "outlinewidth": 0,
              "ticks": ""
             }
            },
            "type": "scatterpolargl"
           }
          ],
          "scatterternary": [
           {
            "marker": {
             "colorbar": {
              "outlinewidth": 0,
              "ticks": ""
             }
            },
            "type": "scatterternary"
           }
          ],
          "surface": [
           {
            "colorbar": {
             "outlinewidth": 0,
             "ticks": ""
            },
            "colorscale": [
             [
              0,
              "#0d0887"
             ],
             [
              0.1111111111111111,
              "#46039f"
             ],
             [
              0.2222222222222222,
              "#7201a8"
             ],
             [
              0.3333333333333333,
              "#9c179e"
             ],
             [
              0.4444444444444444,
              "#bd3786"
             ],
             [
              0.5555555555555556,
              "#d8576b"
             ],
             [
              0.6666666666666666,
              "#ed7953"
             ],
             [
              0.7777777777777778,
              "#fb9f3a"
             ],
             [
              0.8888888888888888,
              "#fdca26"
             ],
             [
              1,
              "#f0f921"
             ]
            ],
            "type": "surface"
           }
          ],
          "table": [
           {
            "cells": {
             "fill": {
              "color": "#EBF0F8"
             },
             "line": {
              "color": "white"
             }
            },
            "header": {
             "fill": {
              "color": "#C8D4E3"
             },
             "line": {
              "color": "white"
             }
            },
            "type": "table"
           }
          ]
         },
         "layout": {
          "annotationdefaults": {
           "arrowcolor": "#2a3f5f",
           "arrowhead": 0,
           "arrowwidth": 1
          },
          "autotypenumbers": "strict",
          "coloraxis": {
           "colorbar": {
            "outlinewidth": 0,
            "ticks": ""
           }
          },
          "colorscale": {
           "diverging": [
            [
             0,
             "#8e0152"
            ],
            [
             0.1,
             "#c51b7d"
            ],
            [
             0.2,
             "#de77ae"
            ],
            [
             0.3,
             "#f1b6da"
            ],
            [
             0.4,
             "#fde0ef"
            ],
            [
             0.5,
             "#f7f7f7"
            ],
            [
             0.6,
             "#e6f5d0"
            ],
            [
             0.7,
             "#b8e186"
            ],
            [
             0.8,
             "#7fbc41"
            ],
            [
             0.9,
             "#4d9221"
            ],
            [
             1,
             "#276419"
            ]
           ],
           "sequential": [
            [
             0,
             "#0d0887"
            ],
            [
             0.1111111111111111,
             "#46039f"
            ],
            [
             0.2222222222222222,
             "#7201a8"
            ],
            [
             0.3333333333333333,
             "#9c179e"
            ],
            [
             0.4444444444444444,
             "#bd3786"
            ],
            [
             0.5555555555555556,
             "#d8576b"
            ],
            [
             0.6666666666666666,
             "#ed7953"
            ],
            [
             0.7777777777777778,
             "#fb9f3a"
            ],
            [
             0.8888888888888888,
             "#fdca26"
            ],
            [
             1,
             "#f0f921"
            ]
           ],
           "sequentialminus": [
            [
             0,
             "#0d0887"
            ],
            [
             0.1111111111111111,
             "#46039f"
            ],
            [
             0.2222222222222222,
             "#7201a8"
            ],
            [
             0.3333333333333333,
             "#9c179e"
            ],
            [
             0.4444444444444444,
             "#bd3786"
            ],
            [
             0.5555555555555556,
             "#d8576b"
            ],
            [
             0.6666666666666666,
             "#ed7953"
            ],
            [
             0.7777777777777778,
             "#fb9f3a"
            ],
            [
             0.8888888888888888,
             "#fdca26"
            ],
            [
             1,
             "#f0f921"
            ]
           ]
          },
          "colorway": [
           "#636efa",
           "#EF553B",
           "#00cc96",
           "#ab63fa",
           "#FFA15A",
           "#19d3f3",
           "#FF6692",
           "#B6E880",
           "#FF97FF",
           "#FECB52"
          ],
          "font": {
           "color": "#2a3f5f"
          },
          "geo": {
           "bgcolor": "white",
           "lakecolor": "white",
           "landcolor": "#E5ECF6",
           "showlakes": true,
           "showland": true,
           "subunitcolor": "white"
          },
          "hoverlabel": {
           "align": "left"
          },
          "hovermode": "closest",
          "mapbox": {
           "style": "light"
          },
          "paper_bgcolor": "white",
          "plot_bgcolor": "#E5ECF6",
          "polar": {
           "angularaxis": {
            "gridcolor": "white",
            "linecolor": "white",
            "ticks": ""
           },
           "bgcolor": "#E5ECF6",
           "radialaxis": {
            "gridcolor": "white",
            "linecolor": "white",
            "ticks": ""
           }
          },
          "scene": {
           "xaxis": {
            "backgroundcolor": "#E5ECF6",
            "gridcolor": "white",
            "gridwidth": 2,
            "linecolor": "white",
            "showbackground": true,
            "ticks": "",
            "zerolinecolor": "white"
           },
           "yaxis": {
            "backgroundcolor": "#E5ECF6",
            "gridcolor": "white",
            "gridwidth": 2,
            "linecolor": "white",
            "showbackground": true,
            "ticks": "",
            "zerolinecolor": "white"
           },
           "zaxis": {
            "backgroundcolor": "#E5ECF6",
            "gridcolor": "white",
            "gridwidth": 2,
            "linecolor": "white",
            "showbackground": true,
            "ticks": "",
            "zerolinecolor": "white"
           }
          },
          "shapedefaults": {
           "line": {
            "color": "#2a3f5f"
           }
          },
          "ternary": {
           "aaxis": {
            "gridcolor": "white",
            "linecolor": "white",
            "ticks": ""
           },
           "baxis": {
            "gridcolor": "white",
            "linecolor": "white",
            "ticks": ""
           },
           "bgcolor": "#E5ECF6",
           "caxis": {
            "gridcolor": "white",
            "linecolor": "white",
            "ticks": ""
           }
          },
          "title": {
           "x": 0.05
          },
          "xaxis": {
           "automargin": true,
           "gridcolor": "white",
           "linecolor": "white",
           "ticks": "",
           "title": {
            "standoff": 15
           },
           "zerolinecolor": "white",
           "zerolinewidth": 2
          },
          "yaxis": {
           "automargin": true,
           "gridcolor": "white",
           "linecolor": "white",
           "ticks": "",
           "title": {
            "standoff": 15
           },
           "zerolinecolor": "white",
           "zerolinewidth": 2
          }
         }
        },
        "title": {
         "text": "AAPL Stock Prices w/ Bollinger Bands"
        },
        "xaxis": {
         "anchor": "y",
         "domain": [
          0,
          1
         ],
         "title": {
          "text": "Datetime"
         }
        },
        "yaxis": {
         "anchor": "x",
         "domain": [
          0,
          1
         ],
         "title": {
          "text": "value"
         }
        }
       }
      },
      "text/html": [
       "<div>                            <div id=\"ece10597-32a5-4abe-a1b1-d633c43f1b24\" class=\"plotly-graph-div\" style=\"height:525px; width:100%;\"></div>            <script type=\"text/javascript\">                require([\"plotly\"], function(Plotly) {                    window.PLOTLYENV=window.PLOTLYENV || {};                                    if (document.getElementById(\"ece10597-32a5-4abe-a1b1-d633c43f1b24\")) {                    Plotly.newPlot(                        \"ece10597-32a5-4abe-a1b1-d633c43f1b24\",                        [{\"hovertemplate\":\"variable=SMA_24<br>Datetime=%{x}<br>value=%{y}<extra></extra>\",\"legendgroup\":\"SMA_24\",\"line\":{\"color\":\"#85deb1\",\"dash\":\"solid\"},\"marker\":{\"symbol\":\"circle\"},\"mode\":\"lines\",\"name\":\"SMA_24\",\"showlegend\":true,\"x\":[\"2024-06-07T09:30:00-04:00\",\"2024-06-07T09:31:00-04:00\",\"2024-06-07T09:32:00-04:00\",\"2024-06-07T09:33:00-04:00\",\"2024-06-07T09:34:00-04:00\",\"2024-06-07T09:35:00-04:00\",\"2024-06-07T09:36:00-04:00\",\"2024-06-07T09:37:00-04:00\",\"2024-06-07T09:38:00-04:00\",\"2024-06-07T09:39:00-04:00\",\"2024-06-07T09:40:00-04:00\",\"2024-06-07T09:41:00-04:00\",\"2024-06-07T09:42:00-04:00\",\"2024-06-07T09:43:00-04:00\",\"2024-06-07T09:44:00-04:00\",\"2024-06-07T09:45:00-04:00\",\"2024-06-07T09:46:00-04:00\",\"2024-06-07T09:47:00-04:00\",\"2024-06-07T09:48:00-04:00\",\"2024-06-07T09:49:00-04:00\",\"2024-06-07T09:50:00-04:00\",\"2024-06-07T09:51:00-04:00\",\"2024-06-07T09:52:00-04:00\",\"2024-06-07T09:53:00-04:00\",\"2024-06-07T09:54:00-04:00\",\"2024-06-07T09:55:00-04:00\",\"2024-06-07T09:56:00-04:00\",\"2024-06-07T09:57:00-04:00\",\"2024-06-07T09:58:00-04:00\",\"2024-06-07T09:59:00-04:00\",\"2024-06-07T10:00:00-04:00\",\"2024-06-07T10:01:00-04:00\",\"2024-06-07T10:02:00-04:00\",\"2024-06-07T10:03:00-04:00\",\"2024-06-07T10:04:00-04:00\",\"2024-06-07T10:05:00-04:00\",\"2024-06-07T10:06:00-04:00\",\"2024-06-07T10:07:00-04:00\",\"2024-06-07T10:08:00-04:00\",\"2024-06-07T10:09:00-04:00\",\"2024-06-07T10:10:00-04:00\",\"2024-06-07T10:11:00-04:00\",\"2024-06-07T10:12:00-04:00\",\"2024-06-07T10:13:00-04:00\",\"2024-06-07T10:14:00-04:00\",\"2024-06-07T10:15:00-04:00\",\"2024-06-07T10:16:00-04:00\",\"2024-06-07T10:17:00-04:00\",\"2024-06-07T10:18:00-04:00\",\"2024-06-07T10:19:00-04:00\",\"2024-06-07T10:20:00-04:00\",\"2024-06-07T10:21:00-04:00\",\"2024-06-07T10:22:00-04:00\",\"2024-06-07T10:23:00-04:00\",\"2024-06-07T10:24:00-04:00\",\"2024-06-07T10:25:00-04:00\",\"2024-06-07T10:26:00-04:00\",\"2024-06-07T10:27:00-04:00\",\"2024-06-07T10:28:00-04:00\",\"2024-06-07T10:29:00-04:00\",\"2024-06-07T10:30:00-04:00\",\"2024-06-07T10:31:00-04:00\",\"2024-06-07T10:32:00-04:00\",\"2024-06-07T10:33:00-04:00\",\"2024-06-07T10:34:00-04:00\",\"2024-06-07T10:35:00-04:00\",\"2024-06-07T10:36:00-04:00\",\"2024-06-07T10:37:00-04:00\",\"2024-06-07T10:38:00-04:00\",\"2024-06-07T10:39:00-04:00\",\"2024-06-07T10:40:00-04:00\",\"2024-06-07T10:41:00-04:00\",\"2024-06-07T10:42:00-04:00\",\"2024-06-07T10:43:00-04:00\",\"2024-06-07T10:44:00-04:00\",\"2024-06-07T10:45:00-04:00\",\"2024-06-07T10:46:00-04:00\",\"2024-06-07T10:47:00-04:00\",\"2024-06-07T10:48:00-04:00\",\"2024-06-07T10:49:00-04:00\",\"2024-06-07T10:50:00-04:00\",\"2024-06-07T10:51:00-04:00\",\"2024-06-07T10:52:00-04:00\",\"2024-06-07T10:53:00-04:00\",\"2024-06-07T10:54:00-04:00\",\"2024-06-07T10:55:00-04:00\",\"2024-06-07T10:56:00-04:00\",\"2024-06-07T10:57:00-04:00\",\"2024-06-07T10:58:00-04:00\",\"2024-06-07T10:59:00-04:00\",\"2024-06-07T11:00:00-04:00\",\"2024-06-07T11:01:00-04:00\",\"2024-06-07T11:02:00-04:00\",\"2024-06-07T11:03:00-04:00\",\"2024-06-07T11:04:00-04:00\",\"2024-06-07T11:05:00-04:00\",\"2024-06-07T11:06:00-04:00\",\"2024-06-07T11:07:00-04:00\",\"2024-06-07T11:08:00-04:00\",\"2024-06-07T11:09:00-04:00\",\"2024-06-07T11:10:00-04:00\",\"2024-06-07T11:11:00-04:00\",\"2024-06-07T11:12:00-04:00\",\"2024-06-07T11:13:00-04:00\",\"2024-06-07T11:14:00-04:00\",\"2024-06-07T11:15:00-04:00\",\"2024-06-07T11:16:00-04:00\",\"2024-06-07T11:17:00-04:00\",\"2024-06-07T11:18:00-04:00\",\"2024-06-07T11:19:00-04:00\",\"2024-06-07T11:20:00-04:00\",\"2024-06-07T11:21:00-04:00\",\"2024-06-07T11:22:00-04:00\",\"2024-06-07T11:23:00-04:00\",\"2024-06-07T11:24:00-04:00\",\"2024-06-07T11:25:00-04:00\",\"2024-06-07T11:26:00-04:00\",\"2024-06-07T11:27:00-04:00\",\"2024-06-07T11:28:00-04:00\",\"2024-06-07T11:29:00-04:00\",\"2024-06-07T11:30:00-04:00\",\"2024-06-07T11:31:00-04:00\",\"2024-06-07T11:32:00-04:00\",\"2024-06-07T11:33:00-04:00\",\"2024-06-07T11:34:00-04:00\",\"2024-06-07T11:35:00-04:00\",\"2024-06-07T11:36:00-04:00\",\"2024-06-07T11:37:00-04:00\",\"2024-06-07T11:38:00-04:00\",\"2024-06-07T11:39:00-04:00\",\"2024-06-07T11:40:00-04:00\",\"2024-06-07T11:41:00-04:00\",\"2024-06-07T11:42:00-04:00\",\"2024-06-07T11:43:00-04:00\",\"2024-06-07T11:44:00-04:00\",\"2024-06-07T11:45:00-04:00\",\"2024-06-07T11:46:00-04:00\",\"2024-06-07T11:47:00-04:00\",\"2024-06-07T11:48:00-04:00\",\"2024-06-07T11:49:00-04:00\",\"2024-06-07T11:50:00-04:00\",\"2024-06-07T11:51:00-04:00\",\"2024-06-07T11:52:00-04:00\",\"2024-06-07T11:53:00-04:00\",\"2024-06-07T11:54:00-04:00\",\"2024-06-07T11:55:00-04:00\",\"2024-06-07T11:56:00-04:00\",\"2024-06-07T11:57:00-04:00\",\"2024-06-07T11:58:00-04:00\",\"2024-06-07T11:59:00-04:00\",\"2024-06-07T12:00:00-04:00\",\"2024-06-07T12:01:00-04:00\",\"2024-06-07T12:02:00-04:00\",\"2024-06-07T12:03:00-04:00\",\"2024-06-07T12:04:00-04:00\",\"2024-06-07T12:05:00-04:00\",\"2024-06-07T12:06:00-04:00\",\"2024-06-07T12:07:00-04:00\",\"2024-06-07T12:08:00-04:00\",\"2024-06-07T12:09:00-04:00\",\"2024-06-07T12:10:00-04:00\",\"2024-06-07T12:11:00-04:00\",\"2024-06-07T12:12:00-04:00\",\"2024-06-07T12:13:00-04:00\",\"2024-06-07T12:14:00-04:00\",\"2024-06-07T12:15:00-04:00\",\"2024-06-07T12:16:00-04:00\",\"2024-06-07T12:17:00-04:00\",\"2024-06-07T12:18:00-04:00\",\"2024-06-07T12:19:00-04:00\",\"2024-06-07T12:20:00-04:00\",\"2024-06-07T12:21:00-04:00\",\"2024-06-07T12:22:00-04:00\",\"2024-06-07T12:23:00-04:00\",\"2024-06-07T12:24:00-04:00\",\"2024-06-07T12:25:00-04:00\",\"2024-06-07T12:26:00-04:00\",\"2024-06-07T12:27:00-04:00\",\"2024-06-07T12:28:00-04:00\",\"2024-06-07T12:29:00-04:00\",\"2024-06-07T12:30:00-04:00\",\"2024-06-07T12:31:00-04:00\",\"2024-06-07T12:32:00-04:00\",\"2024-06-07T12:33:00-04:00\",\"2024-06-07T12:34:00-04:00\",\"2024-06-07T12:35:00-04:00\",\"2024-06-07T12:36:00-04:00\",\"2024-06-07T12:37:00-04:00\",\"2024-06-07T12:38:00-04:00\",\"2024-06-07T12:39:00-04:00\",\"2024-06-07T12:40:00-04:00\",\"2024-06-07T12:41:00-04:00\",\"2024-06-07T12:42:00-04:00\",\"2024-06-07T12:43:00-04:00\",\"2024-06-07T12:44:00-04:00\",\"2024-06-07T12:45:00-04:00\",\"2024-06-07T12:46:00-04:00\",\"2024-06-07T12:47:00-04:00\",\"2024-06-07T12:48:00-04:00\",\"2024-06-07T12:49:00-04:00\",\"2024-06-07T12:50:00-04:00\",\"2024-06-07T12:51:00-04:00\",\"2024-06-07T12:52:00-04:00\",\"2024-06-07T12:53:00-04:00\",\"2024-06-07T12:54:00-04:00\",\"2024-06-07T12:55:00-04:00\",\"2024-06-07T12:56:00-04:00\",\"2024-06-07T12:57:00-04:00\",\"2024-06-07T12:58:00-04:00\",\"2024-06-07T12:59:00-04:00\",\"2024-06-07T13:00:00-04:00\",\"2024-06-07T13:01:00-04:00\",\"2024-06-07T13:02:00-04:00\",\"2024-06-07T13:03:00-04:00\",\"2024-06-07T13:04:00-04:00\",\"2024-06-07T13:05:00-04:00\",\"2024-06-07T13:06:00-04:00\",\"2024-06-07T13:07:00-04:00\",\"2024-06-07T13:08:00-04:00\",\"2024-06-07T13:09:00-04:00\",\"2024-06-07T13:10:00-04:00\",\"2024-06-07T13:11:00-04:00\",\"2024-06-07T13:12:00-04:00\",\"2024-06-07T13:13:00-04:00\",\"2024-06-07T13:14:00-04:00\",\"2024-06-07T13:15:00-04:00\",\"2024-06-07T13:16:00-04:00\",\"2024-06-07T13:17:00-04:00\",\"2024-06-07T13:18:00-04:00\",\"2024-06-07T13:19:00-04:00\",\"2024-06-07T13:20:00-04:00\",\"2024-06-07T13:21:00-04:00\",\"2024-06-07T13:22:00-04:00\",\"2024-06-07T13:23:00-04:00\",\"2024-06-07T13:24:00-04:00\",\"2024-06-07T13:25:00-04:00\",\"2024-06-07T13:26:00-04:00\",\"2024-06-07T13:27:00-04:00\",\"2024-06-07T13:28:00-04:00\",\"2024-06-07T13:29:00-04:00\",\"2024-06-07T13:30:00-04:00\",\"2024-06-07T13:31:00-04:00\",\"2024-06-07T13:32:00-04:00\",\"2024-06-07T13:33:00-04:00\",\"2024-06-07T13:34:00-04:00\",\"2024-06-07T13:35:00-04:00\",\"2024-06-07T13:36:00-04:00\",\"2024-06-07T13:37:00-04:00\",\"2024-06-07T13:38:00-04:00\",\"2024-06-07T13:39:00-04:00\",\"2024-06-07T13:40:00-04:00\",\"2024-06-07T13:41:00-04:00\",\"2024-06-07T13:42:00-04:00\",\"2024-06-07T13:43:00-04:00\",\"2024-06-07T13:44:00-04:00\",\"2024-06-07T13:45:00-04:00\",\"2024-06-07T13:46:00-04:00\",\"2024-06-07T13:47:00-04:00\",\"2024-06-07T13:48:00-04:00\",\"2024-06-07T13:49:00-04:00\",\"2024-06-07T13:50:00-04:00\",\"2024-06-07T13:51:00-04:00\",\"2024-06-07T13:52:00-04:00\",\"2024-06-07T13:53:00-04:00\",\"2024-06-07T13:54:00-04:00\",\"2024-06-07T13:55:00-04:00\",\"2024-06-07T13:56:00-04:00\",\"2024-06-07T13:57:00-04:00\",\"2024-06-07T13:58:00-04:00\",\"2024-06-07T13:59:00-04:00\",\"2024-06-07T14:00:00-04:00\",\"2024-06-07T14:01:00-04:00\",\"2024-06-07T14:02:00-04:00\",\"2024-06-07T14:03:00-04:00\",\"2024-06-07T14:04:00-04:00\",\"2024-06-07T14:05:00-04:00\",\"2024-06-07T14:06:00-04:00\",\"2024-06-07T14:07:00-04:00\",\"2024-06-07T14:08:00-04:00\",\"2024-06-07T14:09:00-04:00\",\"2024-06-07T14:10:00-04:00\",\"2024-06-07T14:11:00-04:00\",\"2024-06-07T14:12:00-04:00\",\"2024-06-07T14:13:00-04:00\",\"2024-06-07T14:14:00-04:00\",\"2024-06-07T14:15:00-04:00\",\"2024-06-07T14:16:00-04:00\",\"2024-06-07T14:17:00-04:00\",\"2024-06-07T14:18:00-04:00\",\"2024-06-07T14:19:00-04:00\",\"2024-06-07T14:20:00-04:00\",\"2024-06-07T14:21:00-04:00\",\"2024-06-07T14:22:00-04:00\",\"2024-06-07T14:23:00-04:00\",\"2024-06-07T14:24:00-04:00\",\"2024-06-07T14:25:00-04:00\",\"2024-06-07T14:26:00-04:00\",\"2024-06-07T14:27:00-04:00\",\"2024-06-07T14:28:00-04:00\",\"2024-06-07T14:29:00-04:00\",\"2024-06-07T14:30:00-04:00\",\"2024-06-07T14:31:00-04:00\",\"2024-06-07T14:32:00-04:00\",\"2024-06-07T14:33:00-04:00\",\"2024-06-07T14:34:00-04:00\",\"2024-06-07T14:35:00-04:00\",\"2024-06-07T14:36:00-04:00\",\"2024-06-07T14:37:00-04:00\",\"2024-06-07T14:38:00-04:00\",\"2024-06-07T14:39:00-04:00\",\"2024-06-07T14:40:00-04:00\",\"2024-06-07T14:41:00-04:00\",\"2024-06-07T14:42:00-04:00\",\"2024-06-07T14:43:00-04:00\",\"2024-06-07T14:44:00-04:00\",\"2024-06-07T14:45:00-04:00\",\"2024-06-07T14:46:00-04:00\",\"2024-06-07T14:47:00-04:00\",\"2024-06-07T14:48:00-04:00\",\"2024-06-07T14:49:00-04:00\",\"2024-06-07T14:50:00-04:00\",\"2024-06-07T14:51:00-04:00\",\"2024-06-07T14:52:00-04:00\",\"2024-06-07T14:53:00-04:00\",\"2024-06-07T14:54:00-04:00\",\"2024-06-07T14:55:00-04:00\",\"2024-06-07T14:56:00-04:00\",\"2024-06-07T14:57:00-04:00\",\"2024-06-07T14:58:00-04:00\",\"2024-06-07T14:59:00-04:00\",\"2024-06-07T15:00:00-04:00\",\"2024-06-07T15:01:00-04:00\",\"2024-06-07T15:02:00-04:00\",\"2024-06-07T15:03:00-04:00\",\"2024-06-07T15:04:00-04:00\",\"2024-06-07T15:05:00-04:00\",\"2024-06-07T15:06:00-04:00\",\"2024-06-07T15:07:00-04:00\",\"2024-06-07T15:08:00-04:00\",\"2024-06-07T15:09:00-04:00\",\"2024-06-07T15:10:00-04:00\",\"2024-06-07T15:11:00-04:00\",\"2024-06-07T15:12:00-04:00\",\"2024-06-07T15:13:00-04:00\",\"2024-06-07T15:14:00-04:00\",\"2024-06-07T15:15:00-04:00\",\"2024-06-07T15:16:00-04:00\",\"2024-06-07T15:17:00-04:00\",\"2024-06-07T15:18:00-04:00\",\"2024-06-07T15:19:00-04:00\",\"2024-06-07T15:20:00-04:00\",\"2024-06-07T15:21:00-04:00\",\"2024-06-07T15:22:00-04:00\",\"2024-06-07T15:23:00-04:00\",\"2024-06-07T15:24:00-04:00\",\"2024-06-07T15:25:00-04:00\",\"2024-06-07T15:26:00-04:00\",\"2024-06-07T15:27:00-04:00\",\"2024-06-07T15:28:00-04:00\",\"2024-06-07T15:29:00-04:00\",\"2024-06-07T15:30:00-04:00\",\"2024-06-07T15:31:00-04:00\",\"2024-06-07T15:32:00-04:00\",\"2024-06-07T15:33:00-04:00\",\"2024-06-07T15:34:00-04:00\",\"2024-06-07T15:35:00-04:00\",\"2024-06-07T15:36:00-04:00\",\"2024-06-07T15:37:00-04:00\",\"2024-06-07T15:38:00-04:00\",\"2024-06-07T15:39:00-04:00\",\"2024-06-07T15:40:00-04:00\",\"2024-06-07T15:41:00-04:00\",\"2024-06-07T15:42:00-04:00\",\"2024-06-07T15:43:00-04:00\",\"2024-06-07T15:44:00-04:00\",\"2024-06-07T15:45:00-04:00\",\"2024-06-07T15:46:00-04:00\",\"2024-06-07T15:47:00-04:00\",\"2024-06-07T15:48:00-04:00\",\"2024-06-07T15:49:00-04:00\",\"2024-06-07T15:50:00-04:00\",\"2024-06-07T15:51:00-04:00\",\"2024-06-07T15:52:00-04:00\",\"2024-06-07T15:53:00-04:00\",\"2024-06-07T15:54:00-04:00\",\"2024-06-07T15:55:00-04:00\",\"2024-06-07T15:56:00-04:00\",\"2024-06-07T15:57:00-04:00\",\"2024-06-07T15:58:00-04:00\",\"2024-06-07T15:59:00-04:00\"],\"xaxis\":\"x\",\"y\":[195.5,195.5,195.50666681925455,195.48875045776367,195.47825050354004,195.45699628194174,195.42741266886392,195.39282925923666,195.3617877960205,195.3234545389811,195.2751210530599,195.22136243184408,195.17715390523276,195.1348622639974,195.0961125691732,195.05840428670248,195.01836649576822,194.97443707784018,194.93152046203613,194.89527066548666,194.85818735758463,194.82318751017252,194.78985404968262,194.75068346659342,194.71276664733887,194.67401250203451,194.6273454030355,194.6056785583496,194.57714080810547,194.5600617726644,194.55547841389975,194.56297874450684,194.5631866455078,194.57178243001303,194.585111618042,194.6099116007487,194.62287012736002,194.63891156514487,194.65246136983237,194.66683642069498,194.6834576924642,194.69767888387045,194.7172622680664,194.73059145609537,194.74663289388022,194.75496610005698,194.76559130350748,194.7843449910482,194.8051783243815,194.82518259684244,194.84431648254395,194.86098289489746,194.8802286783854,194.90210342407227,194.91877047220865,194.92973264058432,194.94035784403482,194.94551213582358,194.95447476704916,194.95593325297037,194.95843315124512,194.95509974161783,194.95259157816568,194.94946670532227,194.9507999420166,194.96092096964517,194.97175407409668,194.979466120402,194.98801612854004,195.00059954325357,195.01393254597983,195.03101603190103,195.04997444152832,195.0778408050537,195.10433197021484,195.1316235860189,195.16058603922525,195.18919881184897,195.22190729777017,195.25552813212076,195.2876116434733,195.32573636372885,195.3646945953369,195.4019864400228,195.44219462076822,195.48626136779785,195.52730305989584,195.56292788187662,195.58959452311197,195.61251513163248,195.63043212890625,195.64069048563638,195.64692815144858,195.65517807006836,195.65497016906738,195.64705340067545,195.6343453725179,195.60981241861978,195.58210436503092,195.56293805440268,195.53960100809732,195.50911331176758,195.47807121276855,195.44640477498373,195.4207795461019,195.39765485127768,195.37348810831705,195.3511962890625,195.32786305745444,195.30129686991373,195.27662976582846,195.2505963643392,195.2299715677897,195.21142959594727,195.19434611002603,195.19004185994467,195.1933790842692,195.19962882995605,195.207545598348,195.21587880452475,195.23171170552573,195.2550449371338,195.28775342305502,195.31623649597168,195.34602801005045,195.3804028828939,195.4083194732666,195.4347775777181,195.45769437154135,195.47894414265951,195.50436083475748,195.53415234883627,195.5614439646403,195.58513514200845,195.60751024881998,195.63521448771158,195.66167704264322,195.69230206807455,195.7183437347412,195.74541918436685,195.76125272115073,195.77354431152344,195.78875223795572,195.80350240071616,195.80996068318686,195.81537755330405,195.82058588663736,195.82439041137695,195.82543182373047,195.82543182373047,195.8283487955729,195.83293215433756,195.83699480692545,195.8394947052002,195.84053675333658,195.8388703664144,195.8385124206543,195.8469041188558,195.85690434773764,195.8731918334961,195.88735834757486,195.89444160461426,195.90152486165366,195.90620358784994,195.913911819458,195.9149538675944,195.91453742980957,195.91207949320474,195.9081211090088,195.90103721618652,195.89249547322592,195.88124910990396,195.8718744913737,195.86568705240884,195.86714553833008,195.86943753560385,195.87433306376138,195.87349573771158,195.87162081400552,195.87016232808432,195.87406222025552,195.8794790903727,195.88364537556967,195.88131205240884,195.88288688659668,195.8843453725179,195.88726234436035,195.8873666127523,195.88695017496744,195.89403343200684,195.8979918162028,195.90465799967447,195.909449895223,195.91820017496744,195.92486699422201,195.93257586161295,195.94111760457358,195.94376373291016,195.93793042500815,195.92876370747885,195.92480532328287,195.93126805623373,195.93710136413574,195.9452807108561,195.94757207234701,195.94798469543457,195.95465151468912,195.9671516418457,195.97786394755045,195.98640569051108,195.99619738260904,196.00525983174643,196.01588503519693,196.02567672729492,196.04109319051108,196.05630175272623,196.07380167643228,196.0867182413737,196.10046768188477,196.11400922139487,196.12275886535645,196.1381753285726,196.15630022684732,196.17671648661295,196.1954663594564,196.20754941304526,196.22171592712402,196.23178672790527,196.24012438456217,196.24315325419107,196.2419033050537,196.23648643493652,196.23315302530924,196.23523648579916,196.2394027709961,196.24815305074057,196.25690269470215,196.26419003804526,196.27002334594727,196.27585665384927,196.28189849853516,196.29004033406576,196.30087407430014,196.31087811787924,196.32337379455566,196.33337783813477,196.3412946065267,196.3481699625651,196.34942054748535,196.35212898254395,196.3546288808187,196.35408719380698,196.3557497660319,196.35689163208008,196.35751660664877,196.3573080698649,196.35251681009927,196.34897486368814,196.3443915049235,196.33728726704916,196.32937049865723,196.32248751322427,196.31860415140787,196.3179791768392,196.31922912597656,196.31859588623047,196.31592877705893,196.3173828125,196.32092920939127,196.32675870259604,196.33196703592935,196.3300921122233,196.33132934570312,196.33195432027182,196.33237075805664,196.33540852864584,196.33332506815592,196.33250427246094,196.32542101542154,196.3120880126953,196.30417124430338,196.2960465749105,196.28771336873373,196.27898406982422,196.26835950215658,196.25316365559897,196.2320473988851,196.21225547790527,196.18808873494467,196.16724713643393,196.14577674865723,196.1279182434082,196.10729281107584,196.0822925567627,196.0606257120768,196.04187520345053,196.02355448404947,196.00688807169595,195.99099667867026,195.97566731770834,195.9619172414144,195.94607162475586,195.93648846944174,195.92252985636392,195.91002972920737,195.89281272888184,195.87489573160806,195.85718727111816,195.84468714396158,195.8364117940267,195.83120346069336,195.82336235046387,195.81752904256186,195.80961227416992,195.80354118347168,195.7945245107015,195.78619130452475,195.77952448527017,195.773899714152,195.77035840352377,195.76452509562174,195.75598335266113,195.7452081044515,195.73458290100098,195.73056666056314,195.7304916381836,195.7294495900472,195.737574895223,195.743408203125,195.75249989827475,195.76000022888184,195.7690544128418,195.77655410766602,195.78670438130698,195.79482905069986,195.8033873240153,195.80901209513345,195.81575775146484,195.8240909576416,195.8295078277588,195.83409118652344,195.83992449442545,195.84097862243652,195.8445199330648,195.8470198313395,195.85451952616373,195.86201985677084,195.87701988220215,195.88707796732584,195.89090283711752,195.89845275878906,195.90803591410318,195.91678619384766,195.92428652445474,195.9336617787679,195.94064966837564,195.9462750752767,195.95523325602213,195.9704418182373,195.99014155069986,196.01657931009927,196.03650029500326,196.05733362833658,196.07966677347818,196.10320854187012,196.12695439656576,196.15527470906576,196.17944145202637,196.19902483622232,196.22319157918295,196.25027465820312,196.27354176839194,196.2995834350586,196.33562469482422,196.37034543355307,196.40263684590658,196.43201192220053,196.45784505208334,196.48034477233887,196.50367800394693,196.5249277750651,196.54201126098633,196.55430285135904,196.56124432881674,196.56522369384766,196.57647387186685,196.59064102172852,196.6016413370768,196.61893272399902,196.63352076212564],\"yaxis\":\"y\",\"type\":\"scattergl\"},{\"hovertemplate\":\"variable=upper_boll_24<br>Datetime=%{x}<br>value=%{y}<extra></extra>\",\"legendgroup\":\"upper_boll_24\",\"line\":{\"color\":\"#b6d1c3\",\"dash\":\"dot\"},\"marker\":{\"symbol\":\"circle\"},\"mode\":\"lines\",\"name\":\"upper_boll_24\",\"showlegend\":true,\"x\":[\"2024-06-07T09:30:00-04:00\",\"2024-06-07T09:31:00-04:00\",\"2024-06-07T09:32:00-04:00\",\"2024-06-07T09:33:00-04:00\",\"2024-06-07T09:34:00-04:00\",\"2024-06-07T09:35:00-04:00\",\"2024-06-07T09:36:00-04:00\",\"2024-06-07T09:37:00-04:00\",\"2024-06-07T09:38:00-04:00\",\"2024-06-07T09:39:00-04:00\",\"2024-06-07T09:40:00-04:00\",\"2024-06-07T09:41:00-04:00\",\"2024-06-07T09:42:00-04:00\",\"2024-06-07T09:43:00-04:00\",\"2024-06-07T09:44:00-04:00\",\"2024-06-07T09:45:00-04:00\",\"2024-06-07T09:46:00-04:00\",\"2024-06-07T09:47:00-04:00\",\"2024-06-07T09:48:00-04:00\",\"2024-06-07T09:49:00-04:00\",\"2024-06-07T09:50:00-04:00\",\"2024-06-07T09:51:00-04:00\",\"2024-06-07T09:52:00-04:00\",\"2024-06-07T09:53:00-04:00\",\"2024-06-07T09:54:00-04:00\",\"2024-06-07T09:55:00-04:00\",\"2024-06-07T09:56:00-04:00\",\"2024-06-07T09:57:00-04:00\",\"2024-06-07T09:58:00-04:00\",\"2024-06-07T09:59:00-04:00\",\"2024-06-07T10:00:00-04:00\",\"2024-06-07T10:01:00-04:00\",\"2024-06-07T10:02:00-04:00\",\"2024-06-07T10:03:00-04:00\",\"2024-06-07T10:04:00-04:00\",\"2024-06-07T10:05:00-04:00\",\"2024-06-07T10:06:00-04:00\",\"2024-06-07T10:07:00-04:00\",\"2024-06-07T10:08:00-04:00\",\"2024-06-07T10:09:00-04:00\",\"2024-06-07T10:10:00-04:00\",\"2024-06-07T10:11:00-04:00\",\"2024-06-07T10:12:00-04:00\",\"2024-06-07T10:13:00-04:00\",\"2024-06-07T10:14:00-04:00\",\"2024-06-07T10:15:00-04:00\",\"2024-06-07T10:16:00-04:00\",\"2024-06-07T10:17:00-04:00\",\"2024-06-07T10:18:00-04:00\",\"2024-06-07T10:19:00-04:00\",\"2024-06-07T10:20:00-04:00\",\"2024-06-07T10:21:00-04:00\",\"2024-06-07T10:22:00-04:00\",\"2024-06-07T10:23:00-04:00\",\"2024-06-07T10:24:00-04:00\",\"2024-06-07T10:25:00-04:00\",\"2024-06-07T10:26:00-04:00\",\"2024-06-07T10:27:00-04:00\",\"2024-06-07T10:28:00-04:00\",\"2024-06-07T10:29:00-04:00\",\"2024-06-07T10:30:00-04:00\",\"2024-06-07T10:31:00-04:00\",\"2024-06-07T10:32:00-04:00\",\"2024-06-07T10:33:00-04:00\",\"2024-06-07T10:34:00-04:00\",\"2024-06-07T10:35:00-04:00\",\"2024-06-07T10:36:00-04:00\",\"2024-06-07T10:37:00-04:00\",\"2024-06-07T10:38:00-04:00\",\"2024-06-07T10:39:00-04:00\",\"2024-06-07T10:40:00-04:00\",\"2024-06-07T10:41:00-04:00\",\"2024-06-07T10:42:00-04:00\",\"2024-06-07T10:43:00-04:00\",\"2024-06-07T10:44:00-04:00\",\"2024-06-07T10:45:00-04:00\",\"2024-06-07T10:46:00-04:00\",\"2024-06-07T10:47:00-04:00\",\"2024-06-07T10:48:00-04:00\",\"2024-06-07T10:49:00-04:00\",\"2024-06-07T10:50:00-04:00\",\"2024-06-07T10:51:00-04:00\",\"2024-06-07T10:52:00-04:00\",\"2024-06-07T10:53:00-04:00\",\"2024-06-07T10:54:00-04:00\",\"2024-06-07T10:55:00-04:00\",\"2024-06-07T10:56:00-04:00\",\"2024-06-07T10:57:00-04:00\",\"2024-06-07T10:58:00-04:00\",\"2024-06-07T10:59:00-04:00\",\"2024-06-07T11:00:00-04:00\",\"2024-06-07T11:01:00-04:00\",\"2024-06-07T11:02:00-04:00\",\"2024-06-07T11:03:00-04:00\",\"2024-06-07T11:04:00-04:00\",\"2024-06-07T11:05:00-04:00\",\"2024-06-07T11:06:00-04:00\",\"2024-06-07T11:07:00-04:00\",\"2024-06-07T11:08:00-04:00\",\"2024-06-07T11:09:00-04:00\",\"2024-06-07T11:10:00-04:00\",\"2024-06-07T11:11:00-04:00\",\"2024-06-07T11:12:00-04:00\",\"2024-06-07T11:13:00-04:00\",\"2024-06-07T11:14:00-04:00\",\"2024-06-07T11:15:00-04:00\",\"2024-06-07T11:16:00-04:00\",\"2024-06-07T11:17:00-04:00\",\"2024-06-07T11:18:00-04:00\",\"2024-06-07T11:19:00-04:00\",\"2024-06-07T11:20:00-04:00\",\"2024-06-07T11:21:00-04:00\",\"2024-06-07T11:22:00-04:00\",\"2024-06-07T11:23:00-04:00\",\"2024-06-07T11:24:00-04:00\",\"2024-06-07T11:25:00-04:00\",\"2024-06-07T11:26:00-04:00\",\"2024-06-07T11:27:00-04:00\",\"2024-06-07T11:28:00-04:00\",\"2024-06-07T11:29:00-04:00\",\"2024-06-07T11:30:00-04:00\",\"2024-06-07T11:31:00-04:00\",\"2024-06-07T11:32:00-04:00\",\"2024-06-07T11:33:00-04:00\",\"2024-06-07T11:34:00-04:00\",\"2024-06-07T11:35:00-04:00\",\"2024-06-07T11:36:00-04:00\",\"2024-06-07T11:37:00-04:00\",\"2024-06-07T11:38:00-04:00\",\"2024-06-07T11:39:00-04:00\",\"2024-06-07T11:40:00-04:00\",\"2024-06-07T11:41:00-04:00\",\"2024-06-07T11:42:00-04:00\",\"2024-06-07T11:43:00-04:00\",\"2024-06-07T11:44:00-04:00\",\"2024-06-07T11:45:00-04:00\",\"2024-06-07T11:46:00-04:00\",\"2024-06-07T11:47:00-04:00\",\"2024-06-07T11:48:00-04:00\",\"2024-06-07T11:49:00-04:00\",\"2024-06-07T11:50:00-04:00\",\"2024-06-07T11:51:00-04:00\",\"2024-06-07T11:52:00-04:00\",\"2024-06-07T11:53:00-04:00\",\"2024-06-07T11:54:00-04:00\",\"2024-06-07T11:55:00-04:00\",\"2024-06-07T11:56:00-04:00\",\"2024-06-07T11:57:00-04:00\",\"2024-06-07T11:58:00-04:00\",\"2024-06-07T11:59:00-04:00\",\"2024-06-07T12:00:00-04:00\",\"2024-06-07T12:01:00-04:00\",\"2024-06-07T12:02:00-04:00\",\"2024-06-07T12:03:00-04:00\",\"2024-06-07T12:04:00-04:00\",\"2024-06-07T12:05:00-04:00\",\"2024-06-07T12:06:00-04:00\",\"2024-06-07T12:07:00-04:00\",\"2024-06-07T12:08:00-04:00\",\"2024-06-07T12:09:00-04:00\",\"2024-06-07T12:10:00-04:00\",\"2024-06-07T12:11:00-04:00\",\"2024-06-07T12:12:00-04:00\",\"2024-06-07T12:13:00-04:00\",\"2024-06-07T12:14:00-04:00\",\"2024-06-07T12:15:00-04:00\",\"2024-06-07T12:16:00-04:00\",\"2024-06-07T12:17:00-04:00\",\"2024-06-07T12:18:00-04:00\",\"2024-06-07T12:19:00-04:00\",\"2024-06-07T12:20:00-04:00\",\"2024-06-07T12:21:00-04:00\",\"2024-06-07T12:22:00-04:00\",\"2024-06-07T12:23:00-04:00\",\"2024-06-07T12:24:00-04:00\",\"2024-06-07T12:25:00-04:00\",\"2024-06-07T12:26:00-04:00\",\"2024-06-07T12:27:00-04:00\",\"2024-06-07T12:28:00-04:00\",\"2024-06-07T12:29:00-04:00\",\"2024-06-07T12:30:00-04:00\",\"2024-06-07T12:31:00-04:00\",\"2024-06-07T12:32:00-04:00\",\"2024-06-07T12:33:00-04:00\",\"2024-06-07T12:34:00-04:00\",\"2024-06-07T12:35:00-04:00\",\"2024-06-07T12:36:00-04:00\",\"2024-06-07T12:37:00-04:00\",\"2024-06-07T12:38:00-04:00\",\"2024-06-07T12:39:00-04:00\",\"2024-06-07T12:40:00-04:00\",\"2024-06-07T12:41:00-04:00\",\"2024-06-07T12:42:00-04:00\",\"2024-06-07T12:43:00-04:00\",\"2024-06-07T12:44:00-04:00\",\"2024-06-07T12:45:00-04:00\",\"2024-06-07T12:46:00-04:00\",\"2024-06-07T12:47:00-04:00\",\"2024-06-07T12:48:00-04:00\",\"2024-06-07T12:49:00-04:00\",\"2024-06-07T12:50:00-04:00\",\"2024-06-07T12:51:00-04:00\",\"2024-06-07T12:52:00-04:00\",\"2024-06-07T12:53:00-04:00\",\"2024-06-07T12:54:00-04:00\",\"2024-06-07T12:55:00-04:00\",\"2024-06-07T12:56:00-04:00\",\"2024-06-07T12:57:00-04:00\",\"2024-06-07T12:58:00-04:00\",\"2024-06-07T12:59:00-04:00\",\"2024-06-07T13:00:00-04:00\",\"2024-06-07T13:01:00-04:00\",\"2024-06-07T13:02:00-04:00\",\"2024-06-07T13:03:00-04:00\",\"2024-06-07T13:04:00-04:00\",\"2024-06-07T13:05:00-04:00\",\"2024-06-07T13:06:00-04:00\",\"2024-06-07T13:07:00-04:00\",\"2024-06-07T13:08:00-04:00\",\"2024-06-07T13:09:00-04:00\",\"2024-06-07T13:10:00-04:00\",\"2024-06-07T13:11:00-04:00\",\"2024-06-07T13:12:00-04:00\",\"2024-06-07T13:13:00-04:00\",\"2024-06-07T13:14:00-04:00\",\"2024-06-07T13:15:00-04:00\",\"2024-06-07T13:16:00-04:00\",\"2024-06-07T13:17:00-04:00\",\"2024-06-07T13:18:00-04:00\",\"2024-06-07T13:19:00-04:00\",\"2024-06-07T13:20:00-04:00\",\"2024-06-07T13:21:00-04:00\",\"2024-06-07T13:22:00-04:00\",\"2024-06-07T13:23:00-04:00\",\"2024-06-07T13:24:00-04:00\",\"2024-06-07T13:25:00-04:00\",\"2024-06-07T13:26:00-04:00\",\"2024-06-07T13:27:00-04:00\",\"2024-06-07T13:28:00-04:00\",\"2024-06-07T13:29:00-04:00\",\"2024-06-07T13:30:00-04:00\",\"2024-06-07T13:31:00-04:00\",\"2024-06-07T13:32:00-04:00\",\"2024-06-07T13:33:00-04:00\",\"2024-06-07T13:34:00-04:00\",\"2024-06-07T13:35:00-04:00\",\"2024-06-07T13:36:00-04:00\",\"2024-06-07T13:37:00-04:00\",\"2024-06-07T13:38:00-04:00\",\"2024-06-07T13:39:00-04:00\",\"2024-06-07T13:40:00-04:00\",\"2024-06-07T13:41:00-04:00\",\"2024-06-07T13:42:00-04:00\",\"2024-06-07T13:43:00-04:00\",\"2024-06-07T13:44:00-04:00\",\"2024-06-07T13:45:00-04:00\",\"2024-06-07T13:46:00-04:00\",\"2024-06-07T13:47:00-04:00\",\"2024-06-07T13:48:00-04:00\",\"2024-06-07T13:49:00-04:00\",\"2024-06-07T13:50:00-04:00\",\"2024-06-07T13:51:00-04:00\",\"2024-06-07T13:52:00-04:00\",\"2024-06-07T13:53:00-04:00\",\"2024-06-07T13:54:00-04:00\",\"2024-06-07T13:55:00-04:00\",\"2024-06-07T13:56:00-04:00\",\"2024-06-07T13:57:00-04:00\",\"2024-06-07T13:58:00-04:00\",\"2024-06-07T13:59:00-04:00\",\"2024-06-07T14:00:00-04:00\",\"2024-06-07T14:01:00-04:00\",\"2024-06-07T14:02:00-04:00\",\"2024-06-07T14:03:00-04:00\",\"2024-06-07T14:04:00-04:00\",\"2024-06-07T14:05:00-04:00\",\"2024-06-07T14:06:00-04:00\",\"2024-06-07T14:07:00-04:00\",\"2024-06-07T14:08:00-04:00\",\"2024-06-07T14:09:00-04:00\",\"2024-06-07T14:10:00-04:00\",\"2024-06-07T14:11:00-04:00\",\"2024-06-07T14:12:00-04:00\",\"2024-06-07T14:13:00-04:00\",\"2024-06-07T14:14:00-04:00\",\"2024-06-07T14:15:00-04:00\",\"2024-06-07T14:16:00-04:00\",\"2024-06-07T14:17:00-04:00\",\"2024-06-07T14:18:00-04:00\",\"2024-06-07T14:19:00-04:00\",\"2024-06-07T14:20:00-04:00\",\"2024-06-07T14:21:00-04:00\",\"2024-06-07T14:22:00-04:00\",\"2024-06-07T14:23:00-04:00\",\"2024-06-07T14:24:00-04:00\",\"2024-06-07T14:25:00-04:00\",\"2024-06-07T14:26:00-04:00\",\"2024-06-07T14:27:00-04:00\",\"2024-06-07T14:28:00-04:00\",\"2024-06-07T14:29:00-04:00\",\"2024-06-07T14:30:00-04:00\",\"2024-06-07T14:31:00-04:00\",\"2024-06-07T14:32:00-04:00\",\"2024-06-07T14:33:00-04:00\",\"2024-06-07T14:34:00-04:00\",\"2024-06-07T14:35:00-04:00\",\"2024-06-07T14:36:00-04:00\",\"2024-06-07T14:37:00-04:00\",\"2024-06-07T14:38:00-04:00\",\"2024-06-07T14:39:00-04:00\",\"2024-06-07T14:40:00-04:00\",\"2024-06-07T14:41:00-04:00\",\"2024-06-07T14:42:00-04:00\",\"2024-06-07T14:43:00-04:00\",\"2024-06-07T14:44:00-04:00\",\"2024-06-07T14:45:00-04:00\",\"2024-06-07T14:46:00-04:00\",\"2024-06-07T14:47:00-04:00\",\"2024-06-07T14:48:00-04:00\",\"2024-06-07T14:49:00-04:00\",\"2024-06-07T14:50:00-04:00\",\"2024-06-07T14:51:00-04:00\",\"2024-06-07T14:52:00-04:00\",\"2024-06-07T14:53:00-04:00\",\"2024-06-07T14:54:00-04:00\",\"2024-06-07T14:55:00-04:00\",\"2024-06-07T14:56:00-04:00\",\"2024-06-07T14:57:00-04:00\",\"2024-06-07T14:58:00-04:00\",\"2024-06-07T14:59:00-04:00\",\"2024-06-07T15:00:00-04:00\",\"2024-06-07T15:01:00-04:00\",\"2024-06-07T15:02:00-04:00\",\"2024-06-07T15:03:00-04:00\",\"2024-06-07T15:04:00-04:00\",\"2024-06-07T15:05:00-04:00\",\"2024-06-07T15:06:00-04:00\",\"2024-06-07T15:07:00-04:00\",\"2024-06-07T15:08:00-04:00\",\"2024-06-07T15:09:00-04:00\",\"2024-06-07T15:10:00-04:00\",\"2024-06-07T15:11:00-04:00\",\"2024-06-07T15:12:00-04:00\",\"2024-06-07T15:13:00-04:00\",\"2024-06-07T15:14:00-04:00\",\"2024-06-07T15:15:00-04:00\",\"2024-06-07T15:16:00-04:00\",\"2024-06-07T15:17:00-04:00\",\"2024-06-07T15:18:00-04:00\",\"2024-06-07T15:19:00-04:00\",\"2024-06-07T15:20:00-04:00\",\"2024-06-07T15:21:00-04:00\",\"2024-06-07T15:22:00-04:00\",\"2024-06-07T15:23:00-04:00\",\"2024-06-07T15:24:00-04:00\",\"2024-06-07T15:25:00-04:00\",\"2024-06-07T15:26:00-04:00\",\"2024-06-07T15:27:00-04:00\",\"2024-06-07T15:28:00-04:00\",\"2024-06-07T15:29:00-04:00\",\"2024-06-07T15:30:00-04:00\",\"2024-06-07T15:31:00-04:00\",\"2024-06-07T15:32:00-04:00\",\"2024-06-07T15:33:00-04:00\",\"2024-06-07T15:34:00-04:00\",\"2024-06-07T15:35:00-04:00\",\"2024-06-07T15:36:00-04:00\",\"2024-06-07T15:37:00-04:00\",\"2024-06-07T15:38:00-04:00\",\"2024-06-07T15:39:00-04:00\",\"2024-06-07T15:40:00-04:00\",\"2024-06-07T15:41:00-04:00\",\"2024-06-07T15:42:00-04:00\",\"2024-06-07T15:43:00-04:00\",\"2024-06-07T15:44:00-04:00\",\"2024-06-07T15:45:00-04:00\",\"2024-06-07T15:46:00-04:00\",\"2024-06-07T15:47:00-04:00\",\"2024-06-07T15:48:00-04:00\",\"2024-06-07T15:49:00-04:00\",\"2024-06-07T15:50:00-04:00\",\"2024-06-07T15:51:00-04:00\",\"2024-06-07T15:52:00-04:00\",\"2024-06-07T15:53:00-04:00\",\"2024-06-07T15:54:00-04:00\",\"2024-06-07T15:55:00-04:00\",\"2024-06-07T15:56:00-04:00\",\"2024-06-07T15:57:00-04:00\",\"2024-06-07T15:58:00-04:00\",\"2024-06-07T15:59:00-04:00\"],\"xaxis\":\"x\",\"y\":[195.5,195.5,195.5393274300166,195.58372359362238,195.58511192235042,195.60292926238915,195.62652560521758,195.64404894687112,195.64338025920608,195.6451747393058,195.651635047294,195.65251546139424,195.6322263499821,195.60552377728067,195.5736383748198,195.53837585123722,195.49997507718155,195.45828240572862,195.41239285843736,195.36406586183338,195.3120290674756,195.25734418451648,195.1998249027943,195.13389047793336,195.06213475725082,194.9813124492145,194.85245212851942,194.81043135540693,194.7295040341567,194.6845735481616,194.67298584934196,194.69317351606924,194.6937049670496,194.7100212835298,194.71521273236814,194.7206458384311,194.73089787719834,194.75393458181247,194.77771376828852,194.8044000890131,194.82879528667823,194.83522974597903,194.85444587814249,194.87431368902352,194.89761246692464,194.90647476296036,194.92194170857135,194.94193982044075,194.9688941008855,194.98823034557262,194.99918106986362,195.00385581371182,195.01190091523657,195.02504990439996,195.0373328642276,195.05370013018745,195.05999724620585,195.0608118679917,195.05387090672758,195.0532762128312,195.05090611477073,195.05222421353312,195.05207861926112,195.0505316695674,195.05191815149627,195.0569604676515,195.07930500240653,195.09190708239402,195.1091545817819,195.12353416045744,195.148508178038,195.18904922975096,195.2395375727966,195.31144873680404,195.36330699411894,195.40758312724023,195.46031988479555,195.51503536293941,195.57459954835227,195.63485102565187,195.67810522989788,195.72237834768336,195.76105804530573,195.78882611953875,195.81471345866782,195.84037351717245,195.85902597839288,195.86501897242815,195.86405405548228,195.85982926470922,195.86161139667178,195.85367585972352,195.8483290514051,195.83915284832224,195.8393955220524,195.8455454965352,195.84877854361207,195.84667223139715,195.85242283202138,195.84749521073377,195.83352213943627,195.8135099319354,195.7825840091891,195.74235910508625,195.71273978428368,195.6779532477359,195.6414199387646,195.6098376725834,195.57143010590661,195.51912240537908,195.46464136886425,195.41650431391517,195.3791853911027,195.34170317767092,195.28948940021758,195.27846391439763,195.28929101834686,195.31057818158365,195.3299249413426,195.34639221559053,195.38613740451922,195.4338218673392,195.48315058087897,195.53796937910647,195.59250871528755,195.64230439736988,195.67688031611013,195.7090300974827,195.73183907392254,195.75763577541238,195.7871471866225,195.821111487699,195.84787639998189,195.8646671510119,195.87857619575726,195.88476768987107,195.88607409571458,195.89029585092567,195.89099672602921,195.89546978809335,195.8958227106049,195.89719623957257,195.89310452344236,195.87468763543367,195.86991920202436,195.86962829452418,195.87478883775944,195.88226062040454,195.88446557703935,195.88446557703935,195.88728484579084,195.89341870253617,195.89264776857505,195.89380751634727,195.89509894815632,195.89164101750788,195.89109156001084,195.90525923358464,195.92090492639602,195.957881787613,195.97873643575397,195.99086475873315,196.0003717907915,196.00892508711652,196.01603952703312,196.01604423280972,196.01603424980107,196.01751299143413,196.0204809535471,196.02404837848712,196.02386421589443,196.02142730055834,196.01813589289776,196.0144882806952,196.01606010952548,196.0193798275268,196.02442402434852,196.02384242163902,196.0223580517601,196.02103472993124,196.02590497332528,196.03746008738162,196.04632916237594,196.04035538033418,196.04425763248994,196.04734773421796,196.05330254385137,196.0535076479465,196.0528220142662,196.06099382186844,196.06412113336089,196.0667039152896,196.06617644857076,196.06538300818437,196.06395621844652,196.06044248601788,196.05734750720893,196.05577911085607,196.05607311537017,196.05347157805903,196.05080773049247,196.0556228511377,196.05927460993806,196.0672412209788,196.0702377164845,196.0712357317322,196.09045315223187,196.1279418622476,196.1573110685814,196.17530740827993,196.1961969033731,196.2122538355891,196.2282685599161,196.24266337920577,196.2626007912721,196.2791521844099,196.29167556449474,196.30051685455956,196.30789054757037,196.31381692114175,196.3163758029273,196.31930333355044,196.31815782917622,196.312599632151,196.3126230849856,196.3155790336142,196.31746762132033,196.31956804128367,196.31438539899517,196.31368654673304,196.31229829568127,196.29916739437928,196.28938876371572,196.29414596958193,196.30740268198267,196.33084307681858,196.3492402030476,196.36149188502156,196.37237940279397,196.38097401925307,196.38753164669657,196.39419376731786,196.4049776721266,196.4123591868667,196.4143994686902,196.41989626240604,196.4226629155934,196.42664489204932,196.42716380057954,196.42791082274687,196.42960170780208,196.42968212965164,196.42842254747046,196.42706162084747,196.42661233546562,196.42670207250174,196.4292604430649,196.42870630436835,196.42301667754896,196.41165717516887,196.40129340653968,196.39427328003612,196.38734178466405,196.38610491373927,196.38842616093393,196.3874205453254,196.38161956589255,196.38536399707192,196.3948206523568,196.41255102003987,196.42464996978177,196.42189536353175,196.42319084699358,196.42385741154746,196.42442897310488,196.426342978798,196.42683772880122,196.42713463973794,196.43209182856577,196.44424563083712,196.44903992012448,196.44958666660182,196.44582267731482,196.44211792055822,196.4408206965025,196.44299237886563,196.44059357471866,196.42902298213662,196.4162123904671,196.40264898269805,196.3861851441925,196.36173695111222,196.3307672148935,196.2868480596805,196.24500494051594,196.21825482229394,196.1890711409489,196.15815486076792,196.12099743894976,196.08263330494032,196.05960015706657,196.03373450742828,196.02140202200306,196.03108479601786,196.02627632223516,196.0177049743999,195.99810870151674,195.97867043205162,195.96573293632505,195.9616543189895,195.95971432085761,195.95322744530745,195.95111161443933,195.946768843128,195.9422467891611,195.9263323315048,195.91194654405015,195.90036325619013,195.8876947442548,195.88134661566258,195.8714597530358,195.85582709691056,195.83195093025583,195.807033975053,195.79765835495607,195.7974798979873,195.7946690541155,195.79862969540906,195.8073369095658,195.816122366436,195.82529181940015,195.83565207159663,195.84571057471882,195.85908911183768,195.86741689682765,195.87784550878914,195.87784177992535,195.87684698180772,195.88227436788358,195.89036883642424,195.8952031100599,195.90328445875576,195.9047228948644,195.90911354615466,195.9097379396093,195.9145904206784,195.91687855999848,195.93872087452485,195.95082921724304,195.95307662575135,195.96322292792354,195.9745964281002,195.98767637630698,195.9978279361379,196.01278210909493,196.02239829990552,196.02867005790347,196.0464320588526,196.07906010875848,196.1277030841277,196.17621204562775,196.20055284436114,196.23451953300258,196.2719278903154,196.3055622232467,196.34118745558408,196.3794877248232,196.40618615134645,196.41428256703858,196.43831933683077,196.46517470158508,196.49862751309675,196.52955825520186,196.5696351908085,196.61493270392245,196.65145878220758,196.6790013908836,196.69367646858362,196.70453036737388,196.70951787951626,196.70313460272362,196.70024624098198,196.70025494527448,196.70294203562204,196.70467698941076,196.70397994943664,196.716565396895,196.72682117127977,196.7514246577301,196.77149707117243],\"yaxis\":\"y\",\"type\":\"scattergl\"},{\"hovertemplate\":\"variable=lower_boll_24<br>Datetime=%{x}<br>value=%{y}<extra></extra>\",\"legendgroup\":\"lower_boll_24\",\"line\":{\"color\":\"#b6d1c3\",\"dash\":\"dot\"},\"marker\":{\"symbol\":\"circle\"},\"mode\":\"lines\",\"name\":\"lower_boll_24\",\"showlegend\":true,\"x\":[\"2024-06-07T09:30:00-04:00\",\"2024-06-07T09:31:00-04:00\",\"2024-06-07T09:32:00-04:00\",\"2024-06-07T09:33:00-04:00\",\"2024-06-07T09:34:00-04:00\",\"2024-06-07T09:35:00-04:00\",\"2024-06-07T09:36:00-04:00\",\"2024-06-07T09:37:00-04:00\",\"2024-06-07T09:38:00-04:00\",\"2024-06-07T09:39:00-04:00\",\"2024-06-07T09:40:00-04:00\",\"2024-06-07T09:41:00-04:00\",\"2024-06-07T09:42:00-04:00\",\"2024-06-07T09:43:00-04:00\",\"2024-06-07T09:44:00-04:00\",\"2024-06-07T09:45:00-04:00\",\"2024-06-07T09:46:00-04:00\",\"2024-06-07T09:47:00-04:00\",\"2024-06-07T09:48:00-04:00\",\"2024-06-07T09:49:00-04:00\",\"2024-06-07T09:50:00-04:00\",\"2024-06-07T09:51:00-04:00\",\"2024-06-07T09:52:00-04:00\",\"2024-06-07T09:53:00-04:00\",\"2024-06-07T09:54:00-04:00\",\"2024-06-07T09:55:00-04:00\",\"2024-06-07T09:56:00-04:00\",\"2024-06-07T09:57:00-04:00\",\"2024-06-07T09:58:00-04:00\",\"2024-06-07T09:59:00-04:00\",\"2024-06-07T10:00:00-04:00\",\"2024-06-07T10:01:00-04:00\",\"2024-06-07T10:02:00-04:00\",\"2024-06-07T10:03:00-04:00\",\"2024-06-07T10:04:00-04:00\",\"2024-06-07T10:05:00-04:00\",\"2024-06-07T10:06:00-04:00\",\"2024-06-07T10:07:00-04:00\",\"2024-06-07T10:08:00-04:00\",\"2024-06-07T10:09:00-04:00\",\"2024-06-07T10:10:00-04:00\",\"2024-06-07T10:11:00-04:00\",\"2024-06-07T10:12:00-04:00\",\"2024-06-07T10:13:00-04:00\",\"2024-06-07T10:14:00-04:00\",\"2024-06-07T10:15:00-04:00\",\"2024-06-07T10:16:00-04:00\",\"2024-06-07T10:17:00-04:00\",\"2024-06-07T10:18:00-04:00\",\"2024-06-07T10:19:00-04:00\",\"2024-06-07T10:20:00-04:00\",\"2024-06-07T10:21:00-04:00\",\"2024-06-07T10:22:00-04:00\",\"2024-06-07T10:23:00-04:00\",\"2024-06-07T10:24:00-04:00\",\"2024-06-07T10:25:00-04:00\",\"2024-06-07T10:26:00-04:00\",\"2024-06-07T10:27:00-04:00\",\"2024-06-07T10:28:00-04:00\",\"2024-06-07T10:29:00-04:00\",\"2024-06-07T10:30:00-04:00\",\"2024-06-07T10:31:00-04:00\",\"2024-06-07T10:32:00-04:00\",\"2024-06-07T10:33:00-04:00\",\"2024-06-07T10:34:00-04:00\",\"2024-06-07T10:35:00-04:00\",\"2024-06-07T10:36:00-04:00\",\"2024-06-07T10:37:00-04:00\",\"2024-06-07T10:38:00-04:00\",\"2024-06-07T10:39:00-04:00\",\"2024-06-07T10:40:00-04:00\",\"2024-06-07T10:41:00-04:00\",\"2024-06-07T10:42:00-04:00\",\"2024-06-07T10:43:00-04:00\",\"2024-06-07T10:44:00-04:00\",\"2024-06-07T10:45:00-04:00\",\"2024-06-07T10:46:00-04:00\",\"2024-06-07T10:47:00-04:00\",\"2024-06-07T10:48:00-04:00\",\"2024-06-07T10:49:00-04:00\",\"2024-06-07T10:50:00-04:00\",\"2024-06-07T10:51:00-04:00\",\"2024-06-07T10:52:00-04:00\",\"2024-06-07T10:53:00-04:00\",\"2024-06-07T10:54:00-04:00\",\"2024-06-07T10:55:00-04:00\",\"2024-06-07T10:56:00-04:00\",\"2024-06-07T10:57:00-04:00\",\"2024-06-07T10:58:00-04:00\",\"2024-06-07T10:59:00-04:00\",\"2024-06-07T11:00:00-04:00\",\"2024-06-07T11:01:00-04:00\",\"2024-06-07T11:02:00-04:00\",\"2024-06-07T11:03:00-04:00\",\"2024-06-07T11:04:00-04:00\",\"2024-06-07T11:05:00-04:00\",\"2024-06-07T11:06:00-04:00\",\"2024-06-07T11:07:00-04:00\",\"2024-06-07T11:08:00-04:00\",\"2024-06-07T11:09:00-04:00\",\"2024-06-07T11:10:00-04:00\",\"2024-06-07T11:11:00-04:00\",\"2024-06-07T11:12:00-04:00\",\"2024-06-07T11:13:00-04:00\",\"2024-06-07T11:14:00-04:00\",\"2024-06-07T11:15:00-04:00\",\"2024-06-07T11:16:00-04:00\",\"2024-06-07T11:17:00-04:00\",\"2024-06-07T11:18:00-04:00\",\"2024-06-07T11:19:00-04:00\",\"2024-06-07T11:20:00-04:00\",\"2024-06-07T11:21:00-04:00\",\"2024-06-07T11:22:00-04:00\",\"2024-06-07T11:23:00-04:00\",\"2024-06-07T11:24:00-04:00\",\"2024-06-07T11:25:00-04:00\",\"2024-06-07T11:26:00-04:00\",\"2024-06-07T11:27:00-04:00\",\"2024-06-07T11:28:00-04:00\",\"2024-06-07T11:29:00-04:00\",\"2024-06-07T11:30:00-04:00\",\"2024-06-07T11:31:00-04:00\",\"2024-06-07T11:32:00-04:00\",\"2024-06-07T11:33:00-04:00\",\"2024-06-07T11:34:00-04:00\",\"2024-06-07T11:35:00-04:00\",\"2024-06-07T11:36:00-04:00\",\"2024-06-07T11:37:00-04:00\",\"2024-06-07T11:38:00-04:00\",\"2024-06-07T11:39:00-04:00\",\"2024-06-07T11:40:00-04:00\",\"2024-06-07T11:41:00-04:00\",\"2024-06-07T11:42:00-04:00\",\"2024-06-07T11:43:00-04:00\",\"2024-06-07T11:44:00-04:00\",\"2024-06-07T11:45:00-04:00\",\"2024-06-07T11:46:00-04:00\",\"2024-06-07T11:47:00-04:00\",\"2024-06-07T11:48:00-04:00\",\"2024-06-07T11:49:00-04:00\",\"2024-06-07T11:50:00-04:00\",\"2024-06-07T11:51:00-04:00\",\"2024-06-07T11:52:00-04:00\",\"2024-06-07T11:53:00-04:00\",\"2024-06-07T11:54:00-04:00\",\"2024-06-07T11:55:00-04:00\",\"2024-06-07T11:56:00-04:00\",\"2024-06-07T11:57:00-04:00\",\"2024-06-07T11:58:00-04:00\",\"2024-06-07T11:59:00-04:00\",\"2024-06-07T12:00:00-04:00\",\"2024-06-07T12:01:00-04:00\",\"2024-06-07T12:02:00-04:00\",\"2024-06-07T12:03:00-04:00\",\"2024-06-07T12:04:00-04:00\",\"2024-06-07T12:05:00-04:00\",\"2024-06-07T12:06:00-04:00\",\"2024-06-07T12:07:00-04:00\",\"2024-06-07T12:08:00-04:00\",\"2024-06-07T12:09:00-04:00\",\"2024-06-07T12:10:00-04:00\",\"2024-06-07T12:11:00-04:00\",\"2024-06-07T12:12:00-04:00\",\"2024-06-07T12:13:00-04:00\",\"2024-06-07T12:14:00-04:00\",\"2024-06-07T12:15:00-04:00\",\"2024-06-07T12:16:00-04:00\",\"2024-06-07T12:17:00-04:00\",\"2024-06-07T12:18:00-04:00\",\"2024-06-07T12:19:00-04:00\",\"2024-06-07T12:20:00-04:00\",\"2024-06-07T12:21:00-04:00\",\"2024-06-07T12:22:00-04:00\",\"2024-06-07T12:23:00-04:00\",\"2024-06-07T12:24:00-04:00\",\"2024-06-07T12:25:00-04:00\",\"2024-06-07T12:26:00-04:00\",\"2024-06-07T12:27:00-04:00\",\"2024-06-07T12:28:00-04:00\",\"2024-06-07T12:29:00-04:00\",\"2024-06-07T12:30:00-04:00\",\"2024-06-07T12:31:00-04:00\",\"2024-06-07T12:32:00-04:00\",\"2024-06-07T12:33:00-04:00\",\"2024-06-07T12:34:00-04:00\",\"2024-06-07T12:35:00-04:00\",\"2024-06-07T12:36:00-04:00\",\"2024-06-07T12:37:00-04:00\",\"2024-06-07T12:38:00-04:00\",\"2024-06-07T12:39:00-04:00\",\"2024-06-07T12:40:00-04:00\",\"2024-06-07T12:41:00-04:00\",\"2024-06-07T12:42:00-04:00\",\"2024-06-07T12:43:00-04:00\",\"2024-06-07T12:44:00-04:00\",\"2024-06-07T12:45:00-04:00\",\"2024-06-07T12:46:00-04:00\",\"2024-06-07T12:47:00-04:00\",\"2024-06-07T12:48:00-04:00\",\"2024-06-07T12:49:00-04:00\",\"2024-06-07T12:50:00-04:00\",\"2024-06-07T12:51:00-04:00\",\"2024-06-07T12:52:00-04:00\",\"2024-06-07T12:53:00-04:00\",\"2024-06-07T12:54:00-04:00\",\"2024-06-07T12:55:00-04:00\",\"2024-06-07T12:56:00-04:00\",\"2024-06-07T12:57:00-04:00\",\"2024-06-07T12:58:00-04:00\",\"2024-06-07T12:59:00-04:00\",\"2024-06-07T13:00:00-04:00\",\"2024-06-07T13:01:00-04:00\",\"2024-06-07T13:02:00-04:00\",\"2024-06-07T13:03:00-04:00\",\"2024-06-07T13:04:00-04:00\",\"2024-06-07T13:05:00-04:00\",\"2024-06-07T13:06:00-04:00\",\"2024-06-07T13:07:00-04:00\",\"2024-06-07T13:08:00-04:00\",\"2024-06-07T13:09:00-04:00\",\"2024-06-07T13:10:00-04:00\",\"2024-06-07T13:11:00-04:00\",\"2024-06-07T13:12:00-04:00\",\"2024-06-07T13:13:00-04:00\",\"2024-06-07T13:14:00-04:00\",\"2024-06-07T13:15:00-04:00\",\"2024-06-07T13:16:00-04:00\",\"2024-06-07T13:17:00-04:00\",\"2024-06-07T13:18:00-04:00\",\"2024-06-07T13:19:00-04:00\",\"2024-06-07T13:20:00-04:00\",\"2024-06-07T13:21:00-04:00\",\"2024-06-07T13:22:00-04:00\",\"2024-06-07T13:23:00-04:00\",\"2024-06-07T13:24:00-04:00\",\"2024-06-07T13:25:00-04:00\",\"2024-06-07T13:26:00-04:00\",\"2024-06-07T13:27:00-04:00\",\"2024-06-07T13:28:00-04:00\",\"2024-06-07T13:29:00-04:00\",\"2024-06-07T13:30:00-04:00\",\"2024-06-07T13:31:00-04:00\",\"2024-06-07T13:32:00-04:00\",\"2024-06-07T13:33:00-04:00\",\"2024-06-07T13:34:00-04:00\",\"2024-06-07T13:35:00-04:00\",\"2024-06-07T13:36:00-04:00\",\"2024-06-07T13:37:00-04:00\",\"2024-06-07T13:38:00-04:00\",\"2024-06-07T13:39:00-04:00\",\"2024-06-07T13:40:00-04:00\",\"2024-06-07T13:41:00-04:00\",\"2024-06-07T13:42:00-04:00\",\"2024-06-07T13:43:00-04:00\",\"2024-06-07T13:44:00-04:00\",\"2024-06-07T13:45:00-04:00\",\"2024-06-07T13:46:00-04:00\",\"2024-06-07T13:47:00-04:00\",\"2024-06-07T13:48:00-04:00\",\"2024-06-07T13:49:00-04:00\",\"2024-06-07T13:50:00-04:00\",\"2024-06-07T13:51:00-04:00\",\"2024-06-07T13:52:00-04:00\",\"2024-06-07T13:53:00-04:00\",\"2024-06-07T13:54:00-04:00\",\"2024-06-07T13:55:00-04:00\",\"2024-06-07T13:56:00-04:00\",\"2024-06-07T13:57:00-04:00\",\"2024-06-07T13:58:00-04:00\",\"2024-06-07T13:59:00-04:00\",\"2024-06-07T14:00:00-04:00\",\"2024-06-07T14:01:00-04:00\",\"2024-06-07T14:02:00-04:00\",\"2024-06-07T14:03:00-04:00\",\"2024-06-07T14:04:00-04:00\",\"2024-06-07T14:05:00-04:00\",\"2024-06-07T14:06:00-04:00\",\"2024-06-07T14:07:00-04:00\",\"2024-06-07T14:08:00-04:00\",\"2024-06-07T14:09:00-04:00\",\"2024-06-07T14:10:00-04:00\",\"2024-06-07T14:11:00-04:00\",\"2024-06-07T14:12:00-04:00\",\"2024-06-07T14:13:00-04:00\",\"2024-06-07T14:14:00-04:00\",\"2024-06-07T14:15:00-04:00\",\"2024-06-07T14:16:00-04:00\",\"2024-06-07T14:17:00-04:00\",\"2024-06-07T14:18:00-04:00\",\"2024-06-07T14:19:00-04:00\",\"2024-06-07T14:20:00-04:00\",\"2024-06-07T14:21:00-04:00\",\"2024-06-07T14:22:00-04:00\",\"2024-06-07T14:23:00-04:00\",\"2024-06-07T14:24:00-04:00\",\"2024-06-07T14:25:00-04:00\",\"2024-06-07T14:26:00-04:00\",\"2024-06-07T14:27:00-04:00\",\"2024-06-07T14:28:00-04:00\",\"2024-06-07T14:29:00-04:00\",\"2024-06-07T14:30:00-04:00\",\"2024-06-07T14:31:00-04:00\",\"2024-06-07T14:32:00-04:00\",\"2024-06-07T14:33:00-04:00\",\"2024-06-07T14:34:00-04:00\",\"2024-06-07T14:35:00-04:00\",\"2024-06-07T14:36:00-04:00\",\"2024-06-07T14:37:00-04:00\",\"2024-06-07T14:38:00-04:00\",\"2024-06-07T14:39:00-04:00\",\"2024-06-07T14:40:00-04:00\",\"2024-06-07T14:41:00-04:00\",\"2024-06-07T14:42:00-04:00\",\"2024-06-07T14:43:00-04:00\",\"2024-06-07T14:44:00-04:00\",\"2024-06-07T14:45:00-04:00\",\"2024-06-07T14:46:00-04:00\",\"2024-06-07T14:47:00-04:00\",\"2024-06-07T14:48:00-04:00\",\"2024-06-07T14:49:00-04:00\",\"2024-06-07T14:50:00-04:00\",\"2024-06-07T14:51:00-04:00\",\"2024-06-07T14:52:00-04:00\",\"2024-06-07T14:53:00-04:00\",\"2024-06-07T14:54:00-04:00\",\"2024-06-07T14:55:00-04:00\",\"2024-06-07T14:56:00-04:00\",\"2024-06-07T14:57:00-04:00\",\"2024-06-07T14:58:00-04:00\",\"2024-06-07T14:59:00-04:00\",\"2024-06-07T15:00:00-04:00\",\"2024-06-07T15:01:00-04:00\",\"2024-06-07T15:02:00-04:00\",\"2024-06-07T15:03:00-04:00\",\"2024-06-07T15:04:00-04:00\",\"2024-06-07T15:05:00-04:00\",\"2024-06-07T15:06:00-04:00\",\"2024-06-07T15:07:00-04:00\",\"2024-06-07T15:08:00-04:00\",\"2024-06-07T15:09:00-04:00\",\"2024-06-07T15:10:00-04:00\",\"2024-06-07T15:11:00-04:00\",\"2024-06-07T15:12:00-04:00\",\"2024-06-07T15:13:00-04:00\",\"2024-06-07T15:14:00-04:00\",\"2024-06-07T15:15:00-04:00\",\"2024-06-07T15:16:00-04:00\",\"2024-06-07T15:17:00-04:00\",\"2024-06-07T15:18:00-04:00\",\"2024-06-07T15:19:00-04:00\",\"2024-06-07T15:20:00-04:00\",\"2024-06-07T15:21:00-04:00\",\"2024-06-07T15:22:00-04:00\",\"2024-06-07T15:23:00-04:00\",\"2024-06-07T15:24:00-04:00\",\"2024-06-07T15:25:00-04:00\",\"2024-06-07T15:26:00-04:00\",\"2024-06-07T15:27:00-04:00\",\"2024-06-07T15:28:00-04:00\",\"2024-06-07T15:29:00-04:00\",\"2024-06-07T15:30:00-04:00\",\"2024-06-07T15:31:00-04:00\",\"2024-06-07T15:32:00-04:00\",\"2024-06-07T15:33:00-04:00\",\"2024-06-07T15:34:00-04:00\",\"2024-06-07T15:35:00-04:00\",\"2024-06-07T15:36:00-04:00\",\"2024-06-07T15:37:00-04:00\",\"2024-06-07T15:38:00-04:00\",\"2024-06-07T15:39:00-04:00\",\"2024-06-07T15:40:00-04:00\",\"2024-06-07T15:41:00-04:00\",\"2024-06-07T15:42:00-04:00\",\"2024-06-07T15:43:00-04:00\",\"2024-06-07T15:44:00-04:00\",\"2024-06-07T15:45:00-04:00\",\"2024-06-07T15:46:00-04:00\",\"2024-06-07T15:47:00-04:00\",\"2024-06-07T15:48:00-04:00\",\"2024-06-07T15:49:00-04:00\",\"2024-06-07T15:50:00-04:00\",\"2024-06-07T15:51:00-04:00\",\"2024-06-07T15:52:00-04:00\",\"2024-06-07T15:53:00-04:00\",\"2024-06-07T15:54:00-04:00\",\"2024-06-07T15:55:00-04:00\",\"2024-06-07T15:56:00-04:00\",\"2024-06-07T15:57:00-04:00\",\"2024-06-07T15:58:00-04:00\",\"2024-06-07T15:59:00-04:00\"],\"xaxis\":\"x\",\"y\":[195.5,195.5,195.47400620849248,195.39377732190496,195.37138908472966,195.31106330149433,195.22829973251027,195.1416095716022,195.08019533283493,195.00173433865643,194.8986070588258,194.79020940229393,194.72208146048342,194.66420075071414,194.61858676352657,194.57843272216775,194.5367579143549,194.49059174995173,194.4506480656349,194.42647546913994,194.40434564769365,194.38903083582855,194.37988319657094,194.36747645525347,194.36339853742692,194.36671255485453,194.40223867755157,194.40092576129229,194.42477758205425,194.4355499971672,194.43797097845754,194.43278397294443,194.43266832396603,194.43354357649625,194.45501050371584,194.49917736306628,194.5148423775217,194.52388854847726,194.5272089713762,194.52927275237687,194.53812009825018,194.56012802176187,194.58007865799033,194.5868692231672,194.5956533208358,194.6034574371536,194.6092408984436,194.62675016165562,194.6414625478775,194.66213484811226,194.68945189522427,194.7181099760831,194.74855644153425,194.77915694374457,194.8002080801897,194.8057651509812,194.8207184418638,194.83021240365545,194.85507862737074,194.85859029310953,194.8659601877195,194.85797526970254,194.85310453707024,194.84840174107714,194.84968173253694,194.86488147163885,194.86420314578683,194.86702515841,194.86687767529818,194.8776649260497,194.87935691392164,194.8729828340511,194.86041131026005,194.84423287330338,194.84535694631074,194.85566404479755,194.86085219365495,194.86336226075852,194.86921504718808,194.87620523858965,194.89711805704871,194.92909437977434,194.9683311453681,195.01514676050684,195.06967578286861,195.13214921842325,195.1955801413988,195.2608367913251,195.31513499074165,195.36520099855574,195.39925286114072,195.42770511154924,195.44552725149205,195.47120329181448,195.47054481608237,195.44856130481568,195.41991220142376,195.3729526058424,195.31178589804045,195.2783808980716,195.24567987675837,195.20471669159974,195.17355841634802,195.15045044488122,195.1288193079201,195.11735645481946,195.10555627786948,195.0925549055416,195.08429600900226,195.08347133444838,195.08861816279267,195.08468841476324,195.0807577444767,195.0811560142236,195.0992028198345,195.1016198054917,195.09746715019153,195.08867947832846,195.08516625535339,195.08536539345897,195.07728600653223,195.0762680069284,195.09235626523107,195.0945036128369,195.09954730481334,195.1185013684179,195.13975863042307,195.16052505795352,195.18354966916016,195.20025250990665,195.22157448289246,195.24719320997355,195.2750115292987,195.305603133005,195.3364443018827,195.3856612855521,195.43727998957186,195.49430828522344,195.5456907434532,195.59536858064035,195.62668273169655,195.6498923834743,195.68439995246908,195.73231716599864,195.75000216434935,195.76112681208392,195.76638293551528,195.76652020234937,195.7663980704216,195.7663980704216,195.76941274535497,195.77244560613894,195.78134184527585,195.78518189405312,195.78597455851684,195.78609971532092,195.78593328129776,195.78854900412696,195.79290376907926,195.7885018793792,195.79598025939575,195.79801845049536,195.80267793251582,195.80348208858337,195.8117841118829,195.81386350237906,195.81304060981807,195.80664599497536,195.79576126447049,195.77802605388592,195.7611267305574,195.74107091924958,195.72561308984962,195.7168858241225,195.71823096713467,195.7194952436809,195.72424210317425,195.72314905378414,195.72088357625094,195.7192899262374,195.72221946718577,195.7214980933638,195.7209615887634,195.7222687244835,195.72151614070341,195.72134301081786,195.72122214486933,195.72122557755807,195.72107833566866,195.72707304214524,195.7318624990447,195.74261208405935,195.75272334187522,195.7710173417505,195.7857777699975,195.80470923720802,195.82488770193822,195.83174835496425,195.81978773464613,195.80405583689867,195.79880291607327,195.80691326132975,195.81492811833343,195.82332020073343,195.82490642820952,195.82473365913694,195.81884987714636,195.8063614214438,195.79841682651949,195.79750397274222,195.79619786184497,195.79826582790375,195.80350151047776,195.80869007538408,195.81958558975006,195.83345132104256,195.85592778836983,195.87291962818782,195.89304481619916,195.91420152164798,195.9291419277856,195.95704732359476,195.99444262451843,196.0408333410749,196.07830963392718,196.09951979247631,196.1259642329277,196.14400541452687,196.16586337012916,196.1726199616491,196.17150831442615,196.17380547549377,196.17691728690275,196.1763270020164,196.17140286000952,196.16546302466256,196.1645651863567,196.16688819106895,196.16766728910056,196.17073928844547,196.17626535037374,196.18588690081367,196.1967704764737,196.2093970488918,196.23234812042114,196.2468594138635,196.25992629746,196.26969503308086,196.27167729439117,196.27634714234102,196.2796560538353,196.2784922579623,196.28307698459332,196.2867216433127,196.28842087783192,196.28791406722806,196.27577317713366,196.26924342300794,196.26576633229803,196.26291735892946,196.25744759077477,196.25070174641243,196.2498665181517,196.24985343993913,196.2500320910192,196.24977122713554,196.2502379882253,196.24940162792808,196.24703776642573,196.2409663851522,196.23928410207694,196.23828886091485,196.23946784441267,196.24005122899618,196.2403125430084,196.24447407849368,196.2398124075106,196.23787390518393,196.2187502022773,196.1799303945535,196.15930256848227,196.14250648321917,196.12960406015264,196.11585021909022,196.09589830781067,196.0633349323323,196.02350122305154,195.99548797367393,195.95996507942223,195.9318452901698,195.90536835312196,195.89409953570419,195.88381840725816,195.8777370538449,195.8762464836377,195.86549558460712,195.85803782715004,195.85562128262399,195.86099591839076,195.86870133047637,195.86423432576223,195.85840874208344,195.85157491688042,195.81397491670998,195.79378313617957,195.76792048336378,195.75168276169939,195.7357041101847,195.7236413515981,195.7111692690639,195.7026926005291,195.6934972556203,195.6839464706844,195.67245570521183,195.66483557778227,195.66271668989822,195.66043606499935,195.6586857143502,195.66010468404923,195.65937019138497,195.65759043820768,195.6561396084117,195.65846527864718,195.66213182694895,195.6634749661702,195.6635033783799,195.66423012597892,195.67652009503692,195.6794794966842,195.6888774301135,195.69470863836352,195.70245675408697,195.7073976406132,195.71431965077628,195.72224120457207,195.72892913924144,195.74018241034156,195.75466852112197,195.76590754739962,195.76864681909333,195.77297926298698,195.77656453009513,195.77723435000865,195.77992631997492,195.78430172306972,195.79444863164906,195.8071611535432,195.81531888987945,195.82332671740863,195.8287290484837,195.8336825896546,195.84147540010616,195.84589601138833,195.8507451127716,195.8545414484409,195.85890103684577,195.86388009264994,195.86403445319166,195.86182352771613,195.85258001727203,195.8569465745708,195.8724477456454,195.88014772367058,195.88740565664096,195.90085486049352,195.91272133754745,195.93106169330832,195.9526967527063,195.98376710540606,196.00806382153513,196.03537461482117,196.04845602368712,196.06960861491532,196.10161419883994,196.1257581631837,196.1538149096056,196.18502245351746,196.22201363558307,196.25615917730386,196.2978381283776,196.34672094740657,196.38377628099067,196.4083507574436,196.41954662201144,196.42577039828456,196.44896779429706,196.46471664656204,196.47646150287386,196.48644079026795,196.49554445307885],\"yaxis\":\"y\",\"type\":\"scattergl\"},{\"hovertemplate\":\"variable=Close<br>Datetime=%{x}<br>value=%{y}<extra></extra>\",\"legendgroup\":\"Close\",\"line\":{\"color\":\"#0059ff\",\"dash\":\"solid\"},\"marker\":{\"symbol\":\"circle\"},\"mode\":\"lines\",\"name\":\"Close\",\"showlegend\":true,\"x\":[\"2024-06-07T09:30:00-04:00\",\"2024-06-07T09:31:00-04:00\",\"2024-06-07T09:32:00-04:00\",\"2024-06-07T09:33:00-04:00\",\"2024-06-07T09:34:00-04:00\",\"2024-06-07T09:35:00-04:00\",\"2024-06-07T09:36:00-04:00\",\"2024-06-07T09:37:00-04:00\",\"2024-06-07T09:38:00-04:00\",\"2024-06-07T09:39:00-04:00\",\"2024-06-07T09:40:00-04:00\",\"2024-06-07T09:41:00-04:00\",\"2024-06-07T09:42:00-04:00\",\"2024-06-07T09:43:00-04:00\",\"2024-06-07T09:44:00-04:00\",\"2024-06-07T09:45:00-04:00\",\"2024-06-07T09:46:00-04:00\",\"2024-06-07T09:47:00-04:00\",\"2024-06-07T09:48:00-04:00\",\"2024-06-07T09:49:00-04:00\",\"2024-06-07T09:50:00-04:00\",\"2024-06-07T09:51:00-04:00\",\"2024-06-07T09:52:00-04:00\",\"2024-06-07T09:53:00-04:00\",\"2024-06-07T09:54:00-04:00\",\"2024-06-07T09:55:00-04:00\",\"2024-06-07T09:56:00-04:00\",\"2024-06-07T09:57:00-04:00\",\"2024-06-07T09:58:00-04:00\",\"2024-06-07T09:59:00-04:00\",\"2024-06-07T10:00:00-04:00\",\"2024-06-07T10:01:00-04:00\",\"2024-06-07T10:02:00-04:00\",\"2024-06-07T10:03:00-04:00\",\"2024-06-07T10:04:00-04:00\",\"2024-06-07T10:05:00-04:00\",\"2024-06-07T10:06:00-04:00\",\"2024-06-07T10:07:00-04:00\",\"2024-06-07T10:08:00-04:00\",\"2024-06-07T10:09:00-04:00\",\"2024-06-07T10:10:00-04:00\",\"2024-06-07T10:11:00-04:00\",\"2024-06-07T10:12:00-04:00\",\"2024-06-07T10:13:00-04:00\",\"2024-06-07T10:14:00-04:00\",\"2024-06-07T10:15:00-04:00\",\"2024-06-07T10:16:00-04:00\",\"2024-06-07T10:17:00-04:00\",\"2024-06-07T10:18:00-04:00\",\"2024-06-07T10:19:00-04:00\",\"2024-06-07T10:20:00-04:00\",\"2024-06-07T10:21:00-04:00\",\"2024-06-07T10:22:00-04:00\",\"2024-06-07T10:23:00-04:00\",\"2024-06-07T10:24:00-04:00\",\"2024-06-07T10:25:00-04:00\",\"2024-06-07T10:26:00-04:00\",\"2024-06-07T10:27:00-04:00\",\"2024-06-07T10:28:00-04:00\",\"2024-06-07T10:29:00-04:00\",\"2024-06-07T10:30:00-04:00\",\"2024-06-07T10:31:00-04:00\",\"2024-06-07T10:32:00-04:00\",\"2024-06-07T10:33:00-04:00\",\"2024-06-07T10:34:00-04:00\",\"2024-06-07T10:35:00-04:00\",\"2024-06-07T10:36:00-04:00\",\"2024-06-07T10:37:00-04:00\",\"2024-06-07T10:38:00-04:00\",\"2024-06-07T10:39:00-04:00\",\"2024-06-07T10:40:00-04:00\",\"2024-06-07T10:41:00-04:00\",\"2024-06-07T10:42:00-04:00\",\"2024-06-07T10:43:00-04:00\",\"2024-06-07T10:44:00-04:00\",\"2024-06-07T10:45:00-04:00\",\"2024-06-07T10:46:00-04:00\",\"2024-06-07T10:47:00-04:00\",\"2024-06-07T10:48:00-04:00\",\"2024-06-07T10:49:00-04:00\",\"2024-06-07T10:50:00-04:00\",\"2024-06-07T10:51:00-04:00\",\"2024-06-07T10:52:00-04:00\",\"2024-06-07T10:53:00-04:00\",\"2024-06-07T10:54:00-04:00\",\"2024-06-07T10:55:00-04:00\",\"2024-06-07T10:56:00-04:00\",\"2024-06-07T10:57:00-04:00\",\"2024-06-07T10:58:00-04:00\",\"2024-06-07T10:59:00-04:00\",\"2024-06-07T11:00:00-04:00\",\"2024-06-07T11:01:00-04:00\",\"2024-06-07T11:02:00-04:00\",\"2024-06-07T11:03:00-04:00\",\"2024-06-07T11:04:00-04:00\",\"2024-06-07T11:05:00-04:00\",\"2024-06-07T11:06:00-04:00\",\"2024-06-07T11:07:00-04:00\",\"2024-06-07T11:08:00-04:00\",\"2024-06-07T11:09:00-04:00\",\"2024-06-07T11:10:00-04:00\",\"2024-06-07T11:11:00-04:00\",\"2024-06-07T11:12:00-04:00\",\"2024-06-07T11:13:00-04:00\",\"2024-06-07T11:14:00-04:00\",\"2024-06-07T11:15:00-04:00\",\"2024-06-07T11:16:00-04:00\",\"2024-06-07T11:17:00-04:00\",\"2024-06-07T11:18:00-04:00\",\"2024-06-07T11:19:00-04:00\",\"2024-06-07T11:20:00-04:00\",\"2024-06-07T11:21:00-04:00\",\"2024-06-07T11:22:00-04:00\",\"2024-06-07T11:23:00-04:00\",\"2024-06-07T11:24:00-04:00\",\"2024-06-07T11:25:00-04:00\",\"2024-06-07T11:26:00-04:00\",\"2024-06-07T11:27:00-04:00\",\"2024-06-07T11:28:00-04:00\",\"2024-06-07T11:29:00-04:00\",\"2024-06-07T11:30:00-04:00\",\"2024-06-07T11:31:00-04:00\",\"2024-06-07T11:32:00-04:00\",\"2024-06-07T11:33:00-04:00\",\"2024-06-07T11:34:00-04:00\",\"2024-06-07T11:35:00-04:00\",\"2024-06-07T11:36:00-04:00\",\"2024-06-07T11:37:00-04:00\",\"2024-06-07T11:38:00-04:00\",\"2024-06-07T11:39:00-04:00\",\"2024-06-07T11:40:00-04:00\",\"2024-06-07T11:41:00-04:00\",\"2024-06-07T11:42:00-04:00\",\"2024-06-07T11:43:00-04:00\",\"2024-06-07T11:44:00-04:00\",\"2024-06-07T11:45:00-04:00\",\"2024-06-07T11:46:00-04:00\",\"2024-06-07T11:47:00-04:00\",\"2024-06-07T11:48:00-04:00\",\"2024-06-07T11:49:00-04:00\",\"2024-06-07T11:50:00-04:00\",\"2024-06-07T11:51:00-04:00\",\"2024-06-07T11:52:00-04:00\",\"2024-06-07T11:53:00-04:00\",\"2024-06-07T11:54:00-04:00\",\"2024-06-07T11:55:00-04:00\",\"2024-06-07T11:56:00-04:00\",\"2024-06-07T11:57:00-04:00\",\"2024-06-07T11:58:00-04:00\",\"2024-06-07T11:59:00-04:00\",\"2024-06-07T12:00:00-04:00\",\"2024-06-07T12:01:00-04:00\",\"2024-06-07T12:02:00-04:00\",\"2024-06-07T12:03:00-04:00\",\"2024-06-07T12:04:00-04:00\",\"2024-06-07T12:05:00-04:00\",\"2024-06-07T12:06:00-04:00\",\"2024-06-07T12:07:00-04:00\",\"2024-06-07T12:08:00-04:00\",\"2024-06-07T12:09:00-04:00\",\"2024-06-07T12:10:00-04:00\",\"2024-06-07T12:11:00-04:00\",\"2024-06-07T12:12:00-04:00\",\"2024-06-07T12:13:00-04:00\",\"2024-06-07T12:14:00-04:00\",\"2024-06-07T12:15:00-04:00\",\"2024-06-07T12:16:00-04:00\",\"2024-06-07T12:17:00-04:00\",\"2024-06-07T12:18:00-04:00\",\"2024-06-07T12:19:00-04:00\",\"2024-06-07T12:20:00-04:00\",\"2024-06-07T12:21:00-04:00\",\"2024-06-07T12:22:00-04:00\",\"2024-06-07T12:23:00-04:00\",\"2024-06-07T12:24:00-04:00\",\"2024-06-07T12:25:00-04:00\",\"2024-06-07T12:26:00-04:00\",\"2024-06-07T12:27:00-04:00\",\"2024-06-07T12:28:00-04:00\",\"2024-06-07T12:29:00-04:00\",\"2024-06-07T12:30:00-04:00\",\"2024-06-07T12:31:00-04:00\",\"2024-06-07T12:32:00-04:00\",\"2024-06-07T12:33:00-04:00\",\"2024-06-07T12:34:00-04:00\",\"2024-06-07T12:35:00-04:00\",\"2024-06-07T12:36:00-04:00\",\"2024-06-07T12:37:00-04:00\",\"2024-06-07T12:38:00-04:00\",\"2024-06-07T12:39:00-04:00\",\"2024-06-07T12:40:00-04:00\",\"2024-06-07T12:41:00-04:00\",\"2024-06-07T12:42:00-04:00\",\"2024-06-07T12:43:00-04:00\",\"2024-06-07T12:44:00-04:00\",\"2024-06-07T12:45:00-04:00\",\"2024-06-07T12:46:00-04:00\",\"2024-06-07T12:47:00-04:00\",\"2024-06-07T12:48:00-04:00\",\"2024-06-07T12:49:00-04:00\",\"2024-06-07T12:50:00-04:00\",\"2024-06-07T12:51:00-04:00\",\"2024-06-07T12:52:00-04:00\",\"2024-06-07T12:53:00-04:00\",\"2024-06-07T12:54:00-04:00\",\"2024-06-07T12:55:00-04:00\",\"2024-06-07T12:56:00-04:00\",\"2024-06-07T12:57:00-04:00\",\"2024-06-07T12:58:00-04:00\",\"2024-06-07T12:59:00-04:00\",\"2024-06-07T13:00:00-04:00\",\"2024-06-07T13:01:00-04:00\",\"2024-06-07T13:02:00-04:00\",\"2024-06-07T13:03:00-04:00\",\"2024-06-07T13:04:00-04:00\",\"2024-06-07T13:05:00-04:00\",\"2024-06-07T13:06:00-04:00\",\"2024-06-07T13:07:00-04:00\",\"2024-06-07T13:08:00-04:00\",\"2024-06-07T13:09:00-04:00\",\"2024-06-07T13:10:00-04:00\",\"2024-06-07T13:11:00-04:00\",\"2024-06-07T13:12:00-04:00\",\"2024-06-07T13:13:00-04:00\",\"2024-06-07T13:14:00-04:00\",\"2024-06-07T13:15:00-04:00\",\"2024-06-07T13:16:00-04:00\",\"2024-06-07T13:17:00-04:00\",\"2024-06-07T13:18:00-04:00\",\"2024-06-07T13:19:00-04:00\",\"2024-06-07T13:20:00-04:00\",\"2024-06-07T13:21:00-04:00\",\"2024-06-07T13:22:00-04:00\",\"2024-06-07T13:23:00-04:00\",\"2024-06-07T13:24:00-04:00\",\"2024-06-07T13:25:00-04:00\",\"2024-06-07T13:26:00-04:00\",\"2024-06-07T13:27:00-04:00\",\"2024-06-07T13:28:00-04:00\",\"2024-06-07T13:29:00-04:00\",\"2024-06-07T13:30:00-04:00\",\"2024-06-07T13:31:00-04:00\",\"2024-06-07T13:32:00-04:00\",\"2024-06-07T13:33:00-04:00\",\"2024-06-07T13:34:00-04:00\",\"2024-06-07T13:35:00-04:00\",\"2024-06-07T13:36:00-04:00\",\"2024-06-07T13:37:00-04:00\",\"2024-06-07T13:38:00-04:00\",\"2024-06-07T13:39:00-04:00\",\"2024-06-07T13:40:00-04:00\",\"2024-06-07T13:41:00-04:00\",\"2024-06-07T13:42:00-04:00\",\"2024-06-07T13:43:00-04:00\",\"2024-06-07T13:44:00-04:00\",\"2024-06-07T13:45:00-04:00\",\"2024-06-07T13:46:00-04:00\",\"2024-06-07T13:47:00-04:00\",\"2024-06-07T13:48:00-04:00\",\"2024-06-07T13:49:00-04:00\",\"2024-06-07T13:50:00-04:00\",\"2024-06-07T13:51:00-04:00\",\"2024-06-07T13:52:00-04:00\",\"2024-06-07T13:53:00-04:00\",\"2024-06-07T13:54:00-04:00\",\"2024-06-07T13:55:00-04:00\",\"2024-06-07T13:56:00-04:00\",\"2024-06-07T13:57:00-04:00\",\"2024-06-07T13:58:00-04:00\",\"2024-06-07T13:59:00-04:00\",\"2024-06-07T14:00:00-04:00\",\"2024-06-07T14:01:00-04:00\",\"2024-06-07T14:02:00-04:00\",\"2024-06-07T14:03:00-04:00\",\"2024-06-07T14:04:00-04:00\",\"2024-06-07T14:05:00-04:00\",\"2024-06-07T14:06:00-04:00\",\"2024-06-07T14:07:00-04:00\",\"2024-06-07T14:08:00-04:00\",\"2024-06-07T14:09:00-04:00\",\"2024-06-07T14:10:00-04:00\",\"2024-06-07T14:11:00-04:00\",\"2024-06-07T14:12:00-04:00\",\"2024-06-07T14:13:00-04:00\",\"2024-06-07T14:14:00-04:00\",\"2024-06-07T14:15:00-04:00\",\"2024-06-07T14:16:00-04:00\",\"2024-06-07T14:17:00-04:00\",\"2024-06-07T14:18:00-04:00\",\"2024-06-07T14:19:00-04:00\",\"2024-06-07T14:20:00-04:00\",\"2024-06-07T14:21:00-04:00\",\"2024-06-07T14:22:00-04:00\",\"2024-06-07T14:23:00-04:00\",\"2024-06-07T14:24:00-04:00\",\"2024-06-07T14:25:00-04:00\",\"2024-06-07T14:26:00-04:00\",\"2024-06-07T14:27:00-04:00\",\"2024-06-07T14:28:00-04:00\",\"2024-06-07T14:29:00-04:00\",\"2024-06-07T14:30:00-04:00\",\"2024-06-07T14:31:00-04:00\",\"2024-06-07T14:32:00-04:00\",\"2024-06-07T14:33:00-04:00\",\"2024-06-07T14:34:00-04:00\",\"2024-06-07T14:35:00-04:00\",\"2024-06-07T14:36:00-04:00\",\"2024-06-07T14:37:00-04:00\",\"2024-06-07T14:38:00-04:00\",\"2024-06-07T14:39:00-04:00\",\"2024-06-07T14:40:00-04:00\",\"2024-06-07T14:41:00-04:00\",\"2024-06-07T14:42:00-04:00\",\"2024-06-07T14:43:00-04:00\",\"2024-06-07T14:44:00-04:00\",\"2024-06-07T14:45:00-04:00\",\"2024-06-07T14:46:00-04:00\",\"2024-06-07T14:47:00-04:00\",\"2024-06-07T14:48:00-04:00\",\"2024-06-07T14:49:00-04:00\",\"2024-06-07T14:50:00-04:00\",\"2024-06-07T14:51:00-04:00\",\"2024-06-07T14:52:00-04:00\",\"2024-06-07T14:53:00-04:00\",\"2024-06-07T14:54:00-04:00\",\"2024-06-07T14:55:00-04:00\",\"2024-06-07T14:56:00-04:00\",\"2024-06-07T14:57:00-04:00\",\"2024-06-07T14:58:00-04:00\",\"2024-06-07T14:59:00-04:00\",\"2024-06-07T15:00:00-04:00\",\"2024-06-07T15:01:00-04:00\",\"2024-06-07T15:02:00-04:00\",\"2024-06-07T15:03:00-04:00\",\"2024-06-07T15:04:00-04:00\",\"2024-06-07T15:05:00-04:00\",\"2024-06-07T15:06:00-04:00\",\"2024-06-07T15:07:00-04:00\",\"2024-06-07T15:08:00-04:00\",\"2024-06-07T15:09:00-04:00\",\"2024-06-07T15:10:00-04:00\",\"2024-06-07T15:11:00-04:00\",\"2024-06-07T15:12:00-04:00\",\"2024-06-07T15:13:00-04:00\",\"2024-06-07T15:14:00-04:00\",\"2024-06-07T15:15:00-04:00\",\"2024-06-07T15:16:00-04:00\",\"2024-06-07T15:17:00-04:00\",\"2024-06-07T15:18:00-04:00\",\"2024-06-07T15:19:00-04:00\",\"2024-06-07T15:20:00-04:00\",\"2024-06-07T15:21:00-04:00\",\"2024-06-07T15:22:00-04:00\",\"2024-06-07T15:23:00-04:00\",\"2024-06-07T15:24:00-04:00\",\"2024-06-07T15:25:00-04:00\",\"2024-06-07T15:26:00-04:00\",\"2024-06-07T15:27:00-04:00\",\"2024-06-07T15:28:00-04:00\",\"2024-06-07T15:29:00-04:00\",\"2024-06-07T15:30:00-04:00\",\"2024-06-07T15:31:00-04:00\",\"2024-06-07T15:32:00-04:00\",\"2024-06-07T15:33:00-04:00\",\"2024-06-07T15:34:00-04:00\",\"2024-06-07T15:35:00-04:00\",\"2024-06-07T15:36:00-04:00\",\"2024-06-07T15:37:00-04:00\",\"2024-06-07T15:38:00-04:00\",\"2024-06-07T15:39:00-04:00\",\"2024-06-07T15:40:00-04:00\",\"2024-06-07T15:41:00-04:00\",\"2024-06-07T15:42:00-04:00\",\"2024-06-07T15:43:00-04:00\",\"2024-06-07T15:44:00-04:00\",\"2024-06-07T15:45:00-04:00\",\"2024-06-07T15:46:00-04:00\",\"2024-06-07T15:47:00-04:00\",\"2024-06-07T15:48:00-04:00\",\"2024-06-07T15:49:00-04:00\",\"2024-06-07T15:50:00-04:00\",\"2024-06-07T15:51:00-04:00\",\"2024-06-07T15:52:00-04:00\",\"2024-06-07T15:53:00-04:00\",\"2024-06-07T15:54:00-04:00\",\"2024-06-07T15:55:00-04:00\",\"2024-06-07T15:56:00-04:00\",\"2024-06-07T15:57:00-04:00\",\"2024-06-07T15:58:00-04:00\",\"2024-06-07T15:59:00-04:00\"],\"xaxis\":\"x\",\"y\":[195.5,195.66000366210938,195.07000732421875,195.2480010986328,194.98989868164062,194.7899932861328,194.6699981689453,194.7550048828125,194.5800018310547,194.33999633789062,194.2097930908203,194.43899536132812,194.48500061035156,194.57000732421875,194.59500122070312,194.53909301757812,194.44569396972656,194.47000122070312,194.6300048828125,194.61000061035156,194.66000366210938,194.6999969482422,194.55990600585938,194.58999633789062,194.5699005126953,194.5399932861328,194.5500030517578,194.56309509277344,194.5800018310547,194.67999267578125,194.85000610351562,194.75999450683594,194.7863006591797,194.65989685058594,194.80499267578125,194.75,194.8699951171875,194.89520263671875,194.94000244140625,194.93800354003906,194.78700256347656,194.94000244140625,194.9499053955078,194.9949951171875,194.86000061035156,194.9550018310547,195.00999450683594,195.08999633789062,195.0500030517578,194.99920654296875,194.9499969482422,195.02499389648438,195.10499572753906,195.0800018310547,195.11309814453125,195.01499938964844,194.91000366210938,194.875,194.83999633789062,194.80999755859375,194.7899932861328,194.8350067138672,194.86500549316406,194.97000122070312,195.0299072265625,195.1999969482422,195.13499450683594,195.2001953125,195.16200256347656,195.27499389648438,195.4199981689453,195.5449981689453,195.7187957763672,195.63499450683594,195.60499572753906,195.7200927734375,195.7917022705078,195.86500549316406,195.9199981689453,195.78500366210938,195.8249969482422,195.80999755859375,195.73500061035156,195.77499389648438,195.84759521484375,195.82000732421875,195.72000122070312,195.61000061035156,195.5800018310547,195.6300048828125,195.38119506835938,195.3498992919922,195.36000061035156,195.27000427246094,195.22999572753906,195.24000549316406,195.1300048828125,194.97000122070312,195.14500427246094,195.16000366210938,195.05999755859375,195.1199951171875,195.16000366210938,195.1699981689453,195.27000427246094,195.22999572753906,195.1999969482422,195.21499633789062,195.2100067138672,195.22799682617188,195.09519958496094,195.11500549316406,195.13499450683594,195.22000122070312,195.27789306640625,195.42999267578125,195.50999450683594,195.4600067138672,195.42999267578125,195.6199951171875,195.69000244140625,195.7550048828125,195.82859802246094,195.875,195.88499450683594,195.7899932861328,195.7949981689453,195.72000122070312,195.77999877929688,195.83999633789062,195.9149932861328,195.8699951171875,195.77859497070312,195.76499938964844,195.76010131835938,195.75010681152344,195.8699951171875,195.84500122070312,195.92770385742188,195.80999755859375,195.80499267578125,195.8249969482422,195.78399658203125,195.77499389648438,195.82000732421875,195.8800048828125,195.91990661621094,195.89999389648438,195.88499450683594,195.86000061035156,195.90499877929688,195.8175048828125,195.83999633789062,195.86500549316406,195.875,195.8614044189453,195.97999572753906,196.0050048828125,196.1510009765625,196.09010314941406,196.0399932861328,196.01499938964844,196.0399932861328,195.9949951171875,195.8300018310547,195.81500244140625,195.72500610351562,195.67999267578125,195.64999389648438,195.6750030517578,195.64999389648438,195.6750030517578,195.7364959716797,195.89500427246094,195.9600067138672,195.93499755859375,195.8199005126953,195.82000732421875,195.83999633789062,195.9550018310547,196.11000061035156,196.10499572753906,196.09500122070312,196.12789916992188,196.0749969482422,196.0850067138672,196.04249572753906,195.98500061035156,196.0,195.91000366210938,195.88499450683594,195.7949981689453,195.86000061035156,195.8350067138672,195.8350067138672,195.8800048828125,195.8000030517578,195.7550048828125,195.74000549316406,195.83999633789062,195.97500610351562,195.9600067138672,196.0363006591797,196.00999450683594,196.11990356445312,196.26499938964844,196.39500427246094,196.38499450683594,196.27999877929688,196.32000732421875,196.25999450683594,196.24000549316406,196.23500061035156,196.27999877929688,196.25,196.21499633789062,196.1699981689453,196.1649932861328,196.16000366210938,196.08999633789062,196.1699981689453,196.19000244140625,196.22999572753906,196.2899932861328,196.26499938964844,196.3000030517578,196.2779998779297,196.21009826660156,196.19259643554688,196.23500061035156,196.26499938964844,196.30499267578125,196.3300018310547,196.4199981689453,196.47000122070312,196.4499969482422,196.40989685058594,196.4199981689453,196.38999938964844,196.36000061035156,196.3654022216797,196.4250030517578,196.4001007080078,196.389892578125,196.41009521484375,196.3800048828125,196.39500427246094,196.32000732421875,196.3300018310547,196.36000061035156,196.26499938964844,196.25,196.22000122070312,196.25,196.25999450683594,196.19000244140625,196.2449951171875,196.30999755859375,196.29949951171875,196.25999450683594,196.2447052001953,196.32679748535156,196.375,196.38999938964844,196.35020446777344,196.36099243164062,196.43499755859375,196.47500610351562,196.5500030517578,196.5050048828125,196.35000610351562,196.34970092773438,196.34500122070312,196.3699951171875,196.33790588378906,196.1999969482422,196.20030212402344,196.0800018310547,195.94000244140625,196.0,196.0500030517578,196.11000061035156,196.08999633789062,196.0050048828125,195.8800048828125,195.82000732421875,195.89999389648438,195.80999755859375,195.85000610351562,195.845703125,196.0063934326172,195.97999572753906,195.9499969482422,195.98500061035156,195.89999389648438,195.91000366210938,195.94500732421875,195.9886016845703,195.97000122070312,195.8699951171875,195.82000732421875,195.85000610351562,195.60499572753906,195.6999969482422,195.6367950439453,195.67999267578125,195.6649932861328,195.7050018310547,195.681396484375,195.69500732421875,195.71180725097656,195.6699981689453,195.66000366210938,195.6999969482422,195.7899932861328,195.77999877929688,195.7899932861328,195.85000610351562,195.81500244140625,195.77000427246094,195.74000549316406,195.72999572753906,195.71499633789062,195.7736053466797,195.81820678710938,195.8249969482422,195.8000030517578,195.83999633789062,195.85499572753906,195.86000061035156,195.88229370117188,195.88499450683594,195.9250030517578,195.88999938964844,195.91720581054688,195.80499267578125,195.8218994140625,195.89999389648438,195.9199981689453,195.88999938964844,195.92999267578125,195.87530517578125,195.89999389648438,195.8300018310547,195.9199981689453,195.91000366210938,196.0749969482422,196.01499938964844,195.91000366210938,196.00619506835938,196.02999877929688,196.0500030517578,196.03500366210938,196.0850067138672,196.0500030517578,196.02000427246094,196.13999938964844,196.2550048828125,196.38999938964844,196.4394989013672,196.3000030517578,196.39999389648438,196.45599365234375,196.4550018310547,196.49989318847656,196.55499267578125,196.47999572753906,196.3000030517578,196.5,196.55999755859375,196.63340759277344,196.63999938964844,196.77499389648438,196.83949279785156,196.80499267578125,196.7550048828125,196.65499877929688,196.625,196.61000061035156,196.52999877929688,196.5500030517578,196.5500030517578,196.5565948486328,196.53500366210938,196.57000732421875,196.74000549316406,196.72000122070312,196.8699951171875,196.85000610351562,196.89999389648438],\"yaxis\":\"y\",\"type\":\"scattergl\"}],                        {\"template\":{\"data\":{\"histogram2dcontour\":[{\"type\":\"histogram2dcontour\",\"colorbar\":{\"outlinewidth\":0,\"ticks\":\"\"},\"colorscale\":[[0.0,\"#0d0887\"],[0.1111111111111111,\"#46039f\"],[0.2222222222222222,\"#7201a8\"],[0.3333333333333333,\"#9c179e\"],[0.4444444444444444,\"#bd3786\"],[0.5555555555555556,\"#d8576b\"],[0.6666666666666666,\"#ed7953\"],[0.7777777777777778,\"#fb9f3a\"],[0.8888888888888888,\"#fdca26\"],[1.0,\"#f0f921\"]]}],\"choropleth\":[{\"type\":\"choropleth\",\"colorbar\":{\"outlinewidth\":0,\"ticks\":\"\"}}],\"histogram2d\":[{\"type\":\"histogram2d\",\"colorbar\":{\"outlinewidth\":0,\"ticks\":\"\"},\"colorscale\":[[0.0,\"#0d0887\"],[0.1111111111111111,\"#46039f\"],[0.2222222222222222,\"#7201a8\"],[0.3333333333333333,\"#9c179e\"],[0.4444444444444444,\"#bd3786\"],[0.5555555555555556,\"#d8576b\"],[0.6666666666666666,\"#ed7953\"],[0.7777777777777778,\"#fb9f3a\"],[0.8888888888888888,\"#fdca26\"],[1.0,\"#f0f921\"]]}],\"heatmap\":[{\"type\":\"heatmap\",\"colorbar\":{\"outlinewidth\":0,\"ticks\":\"\"},\"colorscale\":[[0.0,\"#0d0887\"],[0.1111111111111111,\"#46039f\"],[0.2222222222222222,\"#7201a8\"],[0.3333333333333333,\"#9c179e\"],[0.4444444444444444,\"#bd3786\"],[0.5555555555555556,\"#d8576b\"],[0.6666666666666666,\"#ed7953\"],[0.7777777777777778,\"#fb9f3a\"],[0.8888888888888888,\"#fdca26\"],[1.0,\"#f0f921\"]]}],\"heatmapgl\":[{\"type\":\"heatmapgl\",\"colorbar\":{\"outlinewidth\":0,\"ticks\":\"\"},\"colorscale\":[[0.0,\"#0d0887\"],[0.1111111111111111,\"#46039f\"],[0.2222222222222222,\"#7201a8\"],[0.3333333333333333,\"#9c179e\"],[0.4444444444444444,\"#bd3786\"],[0.5555555555555556,\"#d8576b\"],[0.6666666666666666,\"#ed7953\"],[0.7777777777777778,\"#fb9f3a\"],[0.8888888888888888,\"#fdca26\"],[1.0,\"#f0f921\"]]}],\"contourcarpet\":[{\"type\":\"contourcarpet\",\"colorbar\":{\"outlinewidth\":0,\"ticks\":\"\"}}],\"contour\":[{\"type\":\"contour\",\"colorbar\":{\"outlinewidth\":0,\"ticks\":\"\"},\"colorscale\":[[0.0,\"#0d0887\"],[0.1111111111111111,\"#46039f\"],[0.2222222222222222,\"#7201a8\"],[0.3333333333333333,\"#9c179e\"],[0.4444444444444444,\"#bd3786\"],[0.5555555555555556,\"#d8576b\"],[0.6666666666666666,\"#ed7953\"],[0.7777777777777778,\"#fb9f3a\"],[0.8888888888888888,\"#fdca26\"],[1.0,\"#f0f921\"]]}],\"surface\":[{\"type\":\"surface\",\"colorbar\":{\"outlinewidth\":0,\"ticks\":\"\"},\"colorscale\":[[0.0,\"#0d0887\"],[0.1111111111111111,\"#46039f\"],[0.2222222222222222,\"#7201a8\"],[0.3333333333333333,\"#9c179e\"],[0.4444444444444444,\"#bd3786\"],[0.5555555555555556,\"#d8576b\"],[0.6666666666666666,\"#ed7953\"],[0.7777777777777778,\"#fb9f3a\"],[0.8888888888888888,\"#fdca26\"],[1.0,\"#f0f921\"]]}],\"mesh3d\":[{\"type\":\"mesh3d\",\"colorbar\":{\"outlinewidth\":0,\"ticks\":\"\"}}],\"scatter\":[{\"fillpattern\":{\"fillmode\":\"overlay\",\"size\":10,\"solidity\":0.2},\"type\":\"scatter\"}],\"parcoords\":[{\"type\":\"parcoords\",\"line\":{\"colorbar\":{\"outlinewidth\":0,\"ticks\":\"\"}}}],\"scatterpolargl\":[{\"type\":\"scatterpolargl\",\"marker\":{\"colorbar\":{\"outlinewidth\":0,\"ticks\":\"\"}}}],\"bar\":[{\"error_x\":{\"color\":\"#2a3f5f\"},\"error_y\":{\"color\":\"#2a3f5f\"},\"marker\":{\"line\":{\"color\":\"#E5ECF6\",\"width\":0.5},\"pattern\":{\"fillmode\":\"overlay\",\"size\":10,\"solidity\":0.2}},\"type\":\"bar\"}],\"scattergeo\":[{\"type\":\"scattergeo\",\"marker\":{\"colorbar\":{\"outlinewidth\":0,\"ticks\":\"\"}}}],\"scatterpolar\":[{\"type\":\"scatterpolar\",\"marker\":{\"colorbar\":{\"outlinewidth\":0,\"ticks\":\"\"}}}],\"histogram\":[{\"marker\":{\"pattern\":{\"fillmode\":\"overlay\",\"size\":10,\"solidity\":0.2}},\"type\":\"histogram\"}],\"scattergl\":[{\"type\":\"scattergl\",\"marker\":{\"colorbar\":{\"outlinewidth\":0,\"ticks\":\"\"}}}],\"scatter3d\":[{\"type\":\"scatter3d\",\"line\":{\"colorbar\":{\"outlinewidth\":0,\"ticks\":\"\"}},\"marker\":{\"colorbar\":{\"outlinewidth\":0,\"ticks\":\"\"}}}],\"scattermapbox\":[{\"type\":\"scattermapbox\",\"marker\":{\"colorbar\":{\"outlinewidth\":0,\"ticks\":\"\"}}}],\"scatterternary\":[{\"type\":\"scatterternary\",\"marker\":{\"colorbar\":{\"outlinewidth\":0,\"ticks\":\"\"}}}],\"scattercarpet\":[{\"type\":\"scattercarpet\",\"marker\":{\"colorbar\":{\"outlinewidth\":0,\"ticks\":\"\"}}}],\"carpet\":[{\"aaxis\":{\"endlinecolor\":\"#2a3f5f\",\"gridcolor\":\"white\",\"linecolor\":\"white\",\"minorgridcolor\":\"white\",\"startlinecolor\":\"#2a3f5f\"},\"baxis\":{\"endlinecolor\":\"#2a3f5f\",\"gridcolor\":\"white\",\"linecolor\":\"white\",\"minorgridcolor\":\"white\",\"startlinecolor\":\"#2a3f5f\"},\"type\":\"carpet\"}],\"table\":[{\"cells\":{\"fill\":{\"color\":\"#EBF0F8\"},\"line\":{\"color\":\"white\"}},\"header\":{\"fill\":{\"color\":\"#C8D4E3\"},\"line\":{\"color\":\"white\"}},\"type\":\"table\"}],\"barpolar\":[{\"marker\":{\"line\":{\"color\":\"#E5ECF6\",\"width\":0.5},\"pattern\":{\"fillmode\":\"overlay\",\"size\":10,\"solidity\":0.2}},\"type\":\"barpolar\"}],\"pie\":[{\"automargin\":true,\"type\":\"pie\"}]},\"layout\":{\"autotypenumbers\":\"strict\",\"colorway\":[\"#636efa\",\"#EF553B\",\"#00cc96\",\"#ab63fa\",\"#FFA15A\",\"#19d3f3\",\"#FF6692\",\"#B6E880\",\"#FF97FF\",\"#FECB52\"],\"font\":{\"color\":\"#2a3f5f\"},\"hovermode\":\"closest\",\"hoverlabel\":{\"align\":\"left\"},\"paper_bgcolor\":\"white\",\"plot_bgcolor\":\"#E5ECF6\",\"polar\":{\"bgcolor\":\"#E5ECF6\",\"angularaxis\":{\"gridcolor\":\"white\",\"linecolor\":\"white\",\"ticks\":\"\"},\"radialaxis\":{\"gridcolor\":\"white\",\"linecolor\":\"white\",\"ticks\":\"\"}},\"ternary\":{\"bgcolor\":\"#E5ECF6\",\"aaxis\":{\"gridcolor\":\"white\",\"linecolor\":\"white\",\"ticks\":\"\"},\"baxis\":{\"gridcolor\":\"white\",\"linecolor\":\"white\",\"ticks\":\"\"},\"caxis\":{\"gridcolor\":\"white\",\"linecolor\":\"white\",\"ticks\":\"\"}},\"coloraxis\":{\"colorbar\":{\"outlinewidth\":0,\"ticks\":\"\"}},\"colorscale\":{\"sequential\":[[0.0,\"#0d0887\"],[0.1111111111111111,\"#46039f\"],[0.2222222222222222,\"#7201a8\"],[0.3333333333333333,\"#9c179e\"],[0.4444444444444444,\"#bd3786\"],[0.5555555555555556,\"#d8576b\"],[0.6666666666666666,\"#ed7953\"],[0.7777777777777778,\"#fb9f3a\"],[0.8888888888888888,\"#fdca26\"],[1.0,\"#f0f921\"]],\"sequentialminus\":[[0.0,\"#0d0887\"],[0.1111111111111111,\"#46039f\"],[0.2222222222222222,\"#7201a8\"],[0.3333333333333333,\"#9c179e\"],[0.4444444444444444,\"#bd3786\"],[0.5555555555555556,\"#d8576b\"],[0.6666666666666666,\"#ed7953\"],[0.7777777777777778,\"#fb9f3a\"],[0.8888888888888888,\"#fdca26\"],[1.0,\"#f0f921\"]],\"diverging\":[[0,\"#8e0152\"],[0.1,\"#c51b7d\"],[0.2,\"#de77ae\"],[0.3,\"#f1b6da\"],[0.4,\"#fde0ef\"],[0.5,\"#f7f7f7\"],[0.6,\"#e6f5d0\"],[0.7,\"#b8e186\"],[0.8,\"#7fbc41\"],[0.9,\"#4d9221\"],[1,\"#276419\"]]},\"xaxis\":{\"gridcolor\":\"white\",\"linecolor\":\"white\",\"ticks\":\"\",\"title\":{\"standoff\":15},\"zerolinecolor\":\"white\",\"automargin\":true,\"zerolinewidth\":2},\"yaxis\":{\"gridcolor\":\"white\",\"linecolor\":\"white\",\"ticks\":\"\",\"title\":{\"standoff\":15},\"zerolinecolor\":\"white\",\"automargin\":true,\"zerolinewidth\":2},\"scene\":{\"xaxis\":{\"backgroundcolor\":\"#E5ECF6\",\"gridcolor\":\"white\",\"linecolor\":\"white\",\"showbackground\":true,\"ticks\":\"\",\"zerolinecolor\":\"white\",\"gridwidth\":2},\"yaxis\":{\"backgroundcolor\":\"#E5ECF6\",\"gridcolor\":\"white\",\"linecolor\":\"white\",\"showbackground\":true,\"ticks\":\"\",\"zerolinecolor\":\"white\",\"gridwidth\":2},\"zaxis\":{\"backgroundcolor\":\"#E5ECF6\",\"gridcolor\":\"white\",\"linecolor\":\"white\",\"showbackground\":true,\"ticks\":\"\",\"zerolinecolor\":\"white\",\"gridwidth\":2}},\"shapedefaults\":{\"line\":{\"color\":\"#2a3f5f\"}},\"annotationdefaults\":{\"arrowcolor\":\"#2a3f5f\",\"arrowhead\":0,\"arrowwidth\":1},\"geo\":{\"bgcolor\":\"white\",\"landcolor\":\"#E5ECF6\",\"subunitcolor\":\"white\",\"showland\":true,\"showlakes\":true,\"lakecolor\":\"white\"},\"title\":{\"x\":0.05},\"mapbox\":{\"style\":\"light\"}}},\"xaxis\":{\"anchor\":\"y\",\"domain\":[0.0,1.0],\"title\":{\"text\":\"Datetime\"}},\"yaxis\":{\"anchor\":\"x\",\"domain\":[0.0,1.0],\"title\":{\"text\":\"value\"}},\"legend\":{\"title\":{\"text\":\"variable\"},\"tracegroupgap\":0},\"title\":{\"text\":\"AAPL Stock Prices w/ Bollinger Bands\"}},                        {\"responsive\": true}                    ).then(function(){\n",
       "                            \n",
       "var gd = document.getElementById('ece10597-32a5-4abe-a1b1-d633c43f1b24');\n",
       "var x = new MutationObserver(function (mutations, observer) {{\n",
       "        var display = window.getComputedStyle(gd).display;\n",
       "        if (!display || display === 'none') {{\n",
       "            console.log([gd, 'removed!']);\n",
       "            Plotly.purge(gd);\n",
       "            observer.disconnect();\n",
       "        }}\n",
       "}});\n",
       "\n",
       "// Listen for the removal of the full notebook cells\n",
       "var notebookContainer = gd.closest('#notebook-container');\n",
       "if (notebookContainer) {{\n",
       "    x.observe(notebookContainer, {childList: true});\n",
       "}}\n",
       "\n",
       "// Listen for the clearing of the current output cell\n",
       "var outputEl = gd.closest('.output');\n",
       "if (outputEl) {{\n",
       "    x.observe(outputEl, {childList: true});\n",
       "}}\n",
       "\n",
       "                        })                };                });            </script>        </div>"
      ]
     },
     "metadata": {},
     "output_type": "display_data"
    },
    {
     "data": {
      "application/vnd.plotly.v1+json": {
       "config": {
        "plotlyServerURL": "https://plot.ly"
       },
       "data": [
        {
         "hovertemplate": "variable=EMA_24<br>Datetime=%{x}<br>value=%{y}<extra></extra>",
         "legendgroup": "EMA_24",
         "line": {
          "color": "#38b9ff",
          "dash": "solid"
         },
         "marker": {
          "symbol": "circle"
         },
         "mode": "lines",
         "name": "EMA_24",
         "orientation": "v",
         "showlegend": true,
         "type": "scatter",
         "x": [
          "2024-06-07T09:30:00-04:00",
          "2024-06-07T09:31:00-04:00",
          "2024-06-07T09:32:00-04:00",
          "2024-06-07T09:33:00-04:00",
          "2024-06-07T09:34:00-04:00",
          "2024-06-07T09:35:00-04:00",
          "2024-06-07T09:36:00-04:00",
          "2024-06-07T09:37:00-04:00",
          "2024-06-07T09:38:00-04:00",
          "2024-06-07T09:39:00-04:00",
          "2024-06-07T09:40:00-04:00",
          "2024-06-07T09:41:00-04:00",
          "2024-06-07T09:42:00-04:00",
          "2024-06-07T09:43:00-04:00",
          "2024-06-07T09:44:00-04:00",
          "2024-06-07T09:45:00-04:00",
          "2024-06-07T09:46:00-04:00",
          "2024-06-07T09:47:00-04:00",
          "2024-06-07T09:48:00-04:00",
          "2024-06-07T09:49:00-04:00",
          "2024-06-07T09:50:00-04:00",
          "2024-06-07T09:51:00-04:00",
          "2024-06-07T09:52:00-04:00",
          "2024-06-07T09:53:00-04:00",
          "2024-06-07T09:54:00-04:00",
          "2024-06-07T09:55:00-04:00",
          "2024-06-07T09:56:00-04:00",
          "2024-06-07T09:57:00-04:00",
          "2024-06-07T09:58:00-04:00",
          "2024-06-07T09:59:00-04:00",
          "2024-06-07T10:00:00-04:00",
          "2024-06-07T10:01:00-04:00",
          "2024-06-07T10:02:00-04:00",
          "2024-06-07T10:03:00-04:00",
          "2024-06-07T10:04:00-04:00",
          "2024-06-07T10:05:00-04:00",
          "2024-06-07T10:06:00-04:00",
          "2024-06-07T10:07:00-04:00",
          "2024-06-07T10:08:00-04:00",
          "2024-06-07T10:09:00-04:00",
          "2024-06-07T10:10:00-04:00",
          "2024-06-07T10:11:00-04:00",
          "2024-06-07T10:12:00-04:00",
          "2024-06-07T10:13:00-04:00",
          "2024-06-07T10:14:00-04:00",
          "2024-06-07T10:15:00-04:00",
          "2024-06-07T10:16:00-04:00",
          "2024-06-07T10:17:00-04:00",
          "2024-06-07T10:18:00-04:00",
          "2024-06-07T10:19:00-04:00",
          "2024-06-07T10:20:00-04:00",
          "2024-06-07T10:21:00-04:00",
          "2024-06-07T10:22:00-04:00",
          "2024-06-07T10:23:00-04:00",
          "2024-06-07T10:24:00-04:00",
          "2024-06-07T10:25:00-04:00",
          "2024-06-07T10:26:00-04:00",
          "2024-06-07T10:27:00-04:00",
          "2024-06-07T10:28:00-04:00",
          "2024-06-07T10:29:00-04:00",
          "2024-06-07T10:30:00-04:00",
          "2024-06-07T10:31:00-04:00",
          "2024-06-07T10:32:00-04:00",
          "2024-06-07T10:33:00-04:00",
          "2024-06-07T10:34:00-04:00",
          "2024-06-07T10:35:00-04:00",
          "2024-06-07T10:36:00-04:00",
          "2024-06-07T10:37:00-04:00",
          "2024-06-07T10:38:00-04:00",
          "2024-06-07T10:39:00-04:00",
          "2024-06-07T10:40:00-04:00",
          "2024-06-07T10:41:00-04:00",
          "2024-06-07T10:42:00-04:00",
          "2024-06-07T10:43:00-04:00",
          "2024-06-07T10:44:00-04:00",
          "2024-06-07T10:45:00-04:00",
          "2024-06-07T10:46:00-04:00",
          "2024-06-07T10:47:00-04:00",
          "2024-06-07T10:48:00-04:00",
          "2024-06-07T10:49:00-04:00",
          "2024-06-07T10:50:00-04:00",
          "2024-06-07T10:51:00-04:00",
          "2024-06-07T10:52:00-04:00",
          "2024-06-07T10:53:00-04:00",
          "2024-06-07T10:54:00-04:00",
          "2024-06-07T10:55:00-04:00",
          "2024-06-07T10:56:00-04:00",
          "2024-06-07T10:57:00-04:00",
          "2024-06-07T10:58:00-04:00",
          "2024-06-07T10:59:00-04:00",
          "2024-06-07T11:00:00-04:00",
          "2024-06-07T11:01:00-04:00",
          "2024-06-07T11:02:00-04:00",
          "2024-06-07T11:03:00-04:00",
          "2024-06-07T11:04:00-04:00",
          "2024-06-07T11:05:00-04:00",
          "2024-06-07T11:06:00-04:00",
          "2024-06-07T11:07:00-04:00",
          "2024-06-07T11:08:00-04:00",
          "2024-06-07T11:09:00-04:00",
          "2024-06-07T11:10:00-04:00",
          "2024-06-07T11:11:00-04:00",
          "2024-06-07T11:12:00-04:00",
          "2024-06-07T11:13:00-04:00",
          "2024-06-07T11:14:00-04:00",
          "2024-06-07T11:15:00-04:00",
          "2024-06-07T11:16:00-04:00",
          "2024-06-07T11:17:00-04:00",
          "2024-06-07T11:18:00-04:00",
          "2024-06-07T11:19:00-04:00",
          "2024-06-07T11:20:00-04:00",
          "2024-06-07T11:21:00-04:00",
          "2024-06-07T11:22:00-04:00",
          "2024-06-07T11:23:00-04:00",
          "2024-06-07T11:24:00-04:00",
          "2024-06-07T11:25:00-04:00",
          "2024-06-07T11:26:00-04:00",
          "2024-06-07T11:27:00-04:00",
          "2024-06-07T11:28:00-04:00",
          "2024-06-07T11:29:00-04:00",
          "2024-06-07T11:30:00-04:00",
          "2024-06-07T11:31:00-04:00",
          "2024-06-07T11:32:00-04:00",
          "2024-06-07T11:33:00-04:00",
          "2024-06-07T11:34:00-04:00",
          "2024-06-07T11:35:00-04:00",
          "2024-06-07T11:36:00-04:00",
          "2024-06-07T11:37:00-04:00",
          "2024-06-07T11:38:00-04:00",
          "2024-06-07T11:39:00-04:00",
          "2024-06-07T11:40:00-04:00",
          "2024-06-07T11:41:00-04:00",
          "2024-06-07T11:42:00-04:00",
          "2024-06-07T11:43:00-04:00",
          "2024-06-07T11:44:00-04:00",
          "2024-06-07T11:45:00-04:00",
          "2024-06-07T11:46:00-04:00",
          "2024-06-07T11:47:00-04:00",
          "2024-06-07T11:48:00-04:00",
          "2024-06-07T11:49:00-04:00",
          "2024-06-07T11:50:00-04:00",
          "2024-06-07T11:51:00-04:00",
          "2024-06-07T11:52:00-04:00",
          "2024-06-07T11:53:00-04:00",
          "2024-06-07T11:54:00-04:00",
          "2024-06-07T11:55:00-04:00",
          "2024-06-07T11:56:00-04:00",
          "2024-06-07T11:57:00-04:00",
          "2024-06-07T11:58:00-04:00",
          "2024-06-07T11:59:00-04:00",
          "2024-06-07T12:00:00-04:00",
          "2024-06-07T12:01:00-04:00",
          "2024-06-07T12:02:00-04:00",
          "2024-06-07T12:03:00-04:00",
          "2024-06-07T12:04:00-04:00",
          "2024-06-07T12:05:00-04:00",
          "2024-06-07T12:06:00-04:00",
          "2024-06-07T12:07:00-04:00",
          "2024-06-07T12:08:00-04:00",
          "2024-06-07T12:09:00-04:00",
          "2024-06-07T12:10:00-04:00",
          "2024-06-07T12:11:00-04:00",
          "2024-06-07T12:12:00-04:00",
          "2024-06-07T12:13:00-04:00",
          "2024-06-07T12:14:00-04:00",
          "2024-06-07T12:15:00-04:00",
          "2024-06-07T12:16:00-04:00",
          "2024-06-07T12:17:00-04:00",
          "2024-06-07T12:18:00-04:00",
          "2024-06-07T12:19:00-04:00",
          "2024-06-07T12:20:00-04:00",
          "2024-06-07T12:21:00-04:00",
          "2024-06-07T12:22:00-04:00",
          "2024-06-07T12:23:00-04:00",
          "2024-06-07T12:24:00-04:00",
          "2024-06-07T12:25:00-04:00",
          "2024-06-07T12:26:00-04:00",
          "2024-06-07T12:27:00-04:00",
          "2024-06-07T12:28:00-04:00",
          "2024-06-07T12:29:00-04:00",
          "2024-06-07T12:30:00-04:00",
          "2024-06-07T12:31:00-04:00",
          "2024-06-07T12:32:00-04:00",
          "2024-06-07T12:33:00-04:00",
          "2024-06-07T12:34:00-04:00",
          "2024-06-07T12:35:00-04:00",
          "2024-06-07T12:36:00-04:00",
          "2024-06-07T12:37:00-04:00",
          "2024-06-07T12:38:00-04:00",
          "2024-06-07T12:39:00-04:00",
          "2024-06-07T12:40:00-04:00",
          "2024-06-07T12:41:00-04:00",
          "2024-06-07T12:42:00-04:00",
          "2024-06-07T12:43:00-04:00",
          "2024-06-07T12:44:00-04:00",
          "2024-06-07T12:45:00-04:00",
          "2024-06-07T12:46:00-04:00",
          "2024-06-07T12:47:00-04:00",
          "2024-06-07T12:48:00-04:00",
          "2024-06-07T12:49:00-04:00",
          "2024-06-07T12:50:00-04:00",
          "2024-06-07T12:51:00-04:00",
          "2024-06-07T12:52:00-04:00",
          "2024-06-07T12:53:00-04:00",
          "2024-06-07T12:54:00-04:00",
          "2024-06-07T12:55:00-04:00",
          "2024-06-07T12:56:00-04:00",
          "2024-06-07T12:57:00-04:00",
          "2024-06-07T12:58:00-04:00",
          "2024-06-07T12:59:00-04:00",
          "2024-06-07T13:00:00-04:00",
          "2024-06-07T13:01:00-04:00",
          "2024-06-07T13:02:00-04:00",
          "2024-06-07T13:03:00-04:00",
          "2024-06-07T13:04:00-04:00",
          "2024-06-07T13:05:00-04:00",
          "2024-06-07T13:06:00-04:00",
          "2024-06-07T13:07:00-04:00",
          "2024-06-07T13:08:00-04:00",
          "2024-06-07T13:09:00-04:00",
          "2024-06-07T13:10:00-04:00",
          "2024-06-07T13:11:00-04:00",
          "2024-06-07T13:12:00-04:00",
          "2024-06-07T13:13:00-04:00",
          "2024-06-07T13:14:00-04:00",
          "2024-06-07T13:15:00-04:00",
          "2024-06-07T13:16:00-04:00",
          "2024-06-07T13:17:00-04:00",
          "2024-06-07T13:18:00-04:00",
          "2024-06-07T13:19:00-04:00",
          "2024-06-07T13:20:00-04:00",
          "2024-06-07T13:21:00-04:00",
          "2024-06-07T13:22:00-04:00",
          "2024-06-07T13:23:00-04:00",
          "2024-06-07T13:24:00-04:00",
          "2024-06-07T13:25:00-04:00",
          "2024-06-07T13:26:00-04:00",
          "2024-06-07T13:27:00-04:00",
          "2024-06-07T13:28:00-04:00",
          "2024-06-07T13:29:00-04:00",
          "2024-06-07T13:30:00-04:00",
          "2024-06-07T13:31:00-04:00",
          "2024-06-07T13:32:00-04:00",
          "2024-06-07T13:33:00-04:00",
          "2024-06-07T13:34:00-04:00",
          "2024-06-07T13:35:00-04:00",
          "2024-06-07T13:36:00-04:00",
          "2024-06-07T13:37:00-04:00",
          "2024-06-07T13:38:00-04:00",
          "2024-06-07T13:39:00-04:00",
          "2024-06-07T13:40:00-04:00",
          "2024-06-07T13:41:00-04:00",
          "2024-06-07T13:42:00-04:00",
          "2024-06-07T13:43:00-04:00",
          "2024-06-07T13:44:00-04:00",
          "2024-06-07T13:45:00-04:00",
          "2024-06-07T13:46:00-04:00",
          "2024-06-07T13:47:00-04:00",
          "2024-06-07T13:48:00-04:00",
          "2024-06-07T13:49:00-04:00",
          "2024-06-07T13:50:00-04:00",
          "2024-06-07T13:51:00-04:00",
          "2024-06-07T13:52:00-04:00",
          "2024-06-07T13:53:00-04:00",
          "2024-06-07T13:54:00-04:00",
          "2024-06-07T13:55:00-04:00",
          "2024-06-07T13:56:00-04:00",
          "2024-06-07T13:57:00-04:00",
          "2024-06-07T13:58:00-04:00",
          "2024-06-07T13:59:00-04:00",
          "2024-06-07T14:00:00-04:00",
          "2024-06-07T14:01:00-04:00",
          "2024-06-07T14:02:00-04:00",
          "2024-06-07T14:03:00-04:00",
          "2024-06-07T14:04:00-04:00",
          "2024-06-07T14:05:00-04:00",
          "2024-06-07T14:06:00-04:00",
          "2024-06-07T14:07:00-04:00",
          "2024-06-07T14:08:00-04:00",
          "2024-06-07T14:09:00-04:00",
          "2024-06-07T14:10:00-04:00",
          "2024-06-07T14:11:00-04:00",
          "2024-06-07T14:12:00-04:00",
          "2024-06-07T14:13:00-04:00",
          "2024-06-07T14:14:00-04:00",
          "2024-06-07T14:15:00-04:00",
          "2024-06-07T14:16:00-04:00",
          "2024-06-07T14:17:00-04:00",
          "2024-06-07T14:18:00-04:00",
          "2024-06-07T14:19:00-04:00",
          "2024-06-07T14:20:00-04:00",
          "2024-06-07T14:21:00-04:00",
          "2024-06-07T14:22:00-04:00",
          "2024-06-07T14:23:00-04:00",
          "2024-06-07T14:24:00-04:00",
          "2024-06-07T14:25:00-04:00",
          "2024-06-07T14:26:00-04:00",
          "2024-06-07T14:27:00-04:00",
          "2024-06-07T14:28:00-04:00",
          "2024-06-07T14:29:00-04:00",
          "2024-06-07T14:30:00-04:00",
          "2024-06-07T14:31:00-04:00",
          "2024-06-07T14:32:00-04:00",
          "2024-06-07T14:33:00-04:00",
          "2024-06-07T14:34:00-04:00",
          "2024-06-07T14:35:00-04:00",
          "2024-06-07T14:36:00-04:00",
          "2024-06-07T14:37:00-04:00",
          "2024-06-07T14:38:00-04:00",
          "2024-06-07T14:39:00-04:00",
          "2024-06-07T14:40:00-04:00",
          "2024-06-07T14:41:00-04:00",
          "2024-06-07T14:42:00-04:00",
          "2024-06-07T14:43:00-04:00",
          "2024-06-07T14:44:00-04:00",
          "2024-06-07T14:45:00-04:00",
          "2024-06-07T14:46:00-04:00",
          "2024-06-07T14:47:00-04:00",
          "2024-06-07T14:48:00-04:00",
          "2024-06-07T14:49:00-04:00",
          "2024-06-07T14:50:00-04:00",
          "2024-06-07T14:51:00-04:00",
          "2024-06-07T14:52:00-04:00",
          "2024-06-07T14:53:00-04:00",
          "2024-06-07T14:54:00-04:00",
          "2024-06-07T14:55:00-04:00",
          "2024-06-07T14:56:00-04:00",
          "2024-06-07T14:57:00-04:00",
          "2024-06-07T14:58:00-04:00",
          "2024-06-07T14:59:00-04:00",
          "2024-06-07T15:00:00-04:00",
          "2024-06-07T15:01:00-04:00",
          "2024-06-07T15:02:00-04:00",
          "2024-06-07T15:03:00-04:00",
          "2024-06-07T15:04:00-04:00",
          "2024-06-07T15:05:00-04:00",
          "2024-06-07T15:06:00-04:00",
          "2024-06-07T15:07:00-04:00",
          "2024-06-07T15:08:00-04:00",
          "2024-06-07T15:09:00-04:00",
          "2024-06-07T15:10:00-04:00",
          "2024-06-07T15:11:00-04:00",
          "2024-06-07T15:12:00-04:00",
          "2024-06-07T15:13:00-04:00",
          "2024-06-07T15:14:00-04:00",
          "2024-06-07T15:15:00-04:00",
          "2024-06-07T15:16:00-04:00",
          "2024-06-07T15:17:00-04:00",
          "2024-06-07T15:18:00-04:00",
          "2024-06-07T15:19:00-04:00",
          "2024-06-07T15:20:00-04:00",
          "2024-06-07T15:21:00-04:00",
          "2024-06-07T15:22:00-04:00",
          "2024-06-07T15:23:00-04:00",
          "2024-06-07T15:24:00-04:00",
          "2024-06-07T15:25:00-04:00",
          "2024-06-07T15:26:00-04:00",
          "2024-06-07T15:27:00-04:00",
          "2024-06-07T15:28:00-04:00",
          "2024-06-07T15:29:00-04:00",
          "2024-06-07T15:30:00-04:00",
          "2024-06-07T15:31:00-04:00",
          "2024-06-07T15:32:00-04:00",
          "2024-06-07T15:33:00-04:00",
          "2024-06-07T15:34:00-04:00",
          "2024-06-07T15:35:00-04:00",
          "2024-06-07T15:36:00-04:00",
          "2024-06-07T15:37:00-04:00",
          "2024-06-07T15:38:00-04:00",
          "2024-06-07T15:39:00-04:00",
          "2024-06-07T15:40:00-04:00",
          "2024-06-07T15:41:00-04:00",
          "2024-06-07T15:42:00-04:00",
          "2024-06-07T15:43:00-04:00",
          "2024-06-07T15:44:00-04:00",
          "2024-06-07T15:45:00-04:00",
          "2024-06-07T15:46:00-04:00",
          "2024-06-07T15:47:00-04:00",
          "2024-06-07T15:48:00-04:00",
          "2024-06-07T15:49:00-04:00",
          "2024-06-07T15:50:00-04:00",
          "2024-06-07T15:51:00-04:00",
          "2024-06-07T15:52:00-04:00",
          "2024-06-07T15:53:00-04:00",
          "2024-06-07T15:54:00-04:00",
          "2024-06-07T15:55:00-04:00",
          "2024-06-07T15:56:00-04:00",
          "2024-06-07T15:57:00-04:00",
          "2024-06-07T15:58:00-04:00",
          "2024-06-07T15:59:00-04:00"
         ],
         "xaxis": "x",
         "y": [
          195.5,
          195.5,
          195.60666910807294,
          195.32500457763672,
          195.31904272460937,
          195.22606668354558,
          195.12343192269333,
          195.03654158860445,
          195.0023878434825,
          194.943720765586,
          194.85995521382546,
          194.77955744377755,
          194.7564204646028,
          194.74445013126763,
          194.74552702798553,
          194.74842027264623,
          194.74331235391358,
          194.72836705468308,
          194.71858434947086,
          194.72628716882576,
          194.7302809341145,
          194.73783845425106,
          194.74737686048206,
          194.74353020501292,
          194.74258820827933,
          194.75040225928916,
          194.65381467863477,
          194.66957069284362,
          194.62616272852148,
          194.59544693070217,
          194.58598982164676,
          194.6186022104392,
          194.60625693141168,
          194.58821682964836,
          194.57635054223508,
          194.6256251486852,
          194.64179406068607,
          194.67154123144914,
          194.69281278312144,
          194.70503036468853,
          194.7110426687448,
          194.7204052798145,
          194.75960211939838,
          194.7721222324897,
          194.79671140442838,
          194.80718077623564,
          194.80006916699412,
          194.82093076231487,
          194.8397394833956,
          194.85251775266707,
          194.86560596172058,
          194.87412700405935,
          194.8884817842017,
          194.91931951933304,
          194.95515627675667,
          194.95562398702103,
          194.963930047356,
          194.94252885011795,
          194.95674038865025,
          194.93996703317333,
          194.94579024386863,
          194.93673400375908,
          194.9346517942187,
          194.92880988150074,
          194.91169309216227,
          194.94183252802256,
          194.9638243488402,
          194.983613125696,
          194.98269133589588,
          195.0098783635133,
          195.03852143756717,
          195.0798541094057,
          195.1116593988354,
          195.15336370948623,
          195.1852420905003,
          195.228960361877,
          195.2790654881301,
          195.31669779146958,
          195.3650363200196,
          195.3961724182737,
          195.4130857452015,
          195.44130689636467,
          195.46607040426292,
          195.4835296285846,
          195.50414262101918,
          195.5377036794346,
          195.56434316318277,
          195.59098898036345,
          195.60060791912537,
          195.62195191787225,
          195.61380921782194,
          195.6040138377077,
          195.57852183275338,
          195.5763141420747,
          195.57141082307936,
          195.56099493701257,
          195.55880949399918,
          195.51317698910603,
          195.46566773546837,
          195.45557331280412,
          195.44160781034793,
          195.42098801521405,
          195.40434241478812,
          195.36654694982943,
          195.35622928269214,
          195.347303685791,
          195.32778106871723,
          195.32296457441268,
          195.32414125807642,
          195.31128120286368,
          195.29109977040272,
          195.2605580300737,
          195.24485863495553,
          195.2428288458688,
          195.20736888028608,
          195.20878029679767,
          195.22784276891366,
          195.23824933145116,
          195.25058162404963,
          195.26628761401759,
          195.27971448877744,
          195.29090845833122,
          195.35169283502896,
          195.39187284610628,
          195.4170043360921,
          195.46255393408245,
          195.49415738024126,
          195.5195756865056,
          195.54912841156707,
          195.56218974299065,
          195.58035907841727,
          195.6091574111172,
          195.6293499373495,
          195.6437214177203,
          195.63547231396097,
          195.64811996871296,
          195.65898100247392,
          195.68735321789396,
          195.70779079518664,
          195.7459444482555,
          195.76188323041083,
          195.75857470753903,
          195.75983123196852,
          195.7874487187955,
          195.7959158231708,
          195.8066300805002,
          195.82244828025688,
          195.8365175002233,
          195.84294665509222,
          195.8334683538207,
          195.83626748725786,
          195.83162801020745,
          195.8386085443467,
          195.8468299521611,
          195.8584219758549,
          195.85366542953838,
          195.8419292073527,
          195.85113669772682,
          195.8627840382483,
          195.88449035014537,
          195.91714570411935,
          195.92359487142974,
          195.94208685727,
          195.9340080021161,
          195.93821041840715,
          195.9322578804164,
          195.9173350743146,
          195.90073178646887,
          195.8891575085233,
          195.87813480389104,
          195.86727812308592,
          195.84720361192834,
          195.83139997103203,
          195.8204290118331,
          195.8324778209315,
          195.8308528323274,
          195.8422247732221,
          195.8438195342921,
          195.84326560065426,
          195.84116622839238,
          195.86630408042515,
          195.88918050473137,
          195.92618126611592,
          195.93145478113385,
          195.94039655244484,
          195.94778594485786,
          195.96214224562934,
          195.96248773593402,
          195.94198520897757,
          195.94459879617668,
          195.929665608955,
          195.92000706987602,
          195.9059511656361,
          195.90565582312541,
          195.8966231924727,
          195.8950745760963,
          195.90218152577435,
          195.91543417369968,
          195.91138676767423,
          195.89429556380136,
          195.87439297135217,
          195.88245646055452,
          195.8913625671556,
          195.9185038929259,
          195.94677565578056,
          195.95994933555968,
          195.98300229671875,
          196.02040955259537,
          196.04242510212,
          196.06278410212352,
          196.07761538543903,
          196.08443360727728,
          196.09890695423096,
          196.09762887022427,
          196.10883776103807,
          196.10796516365875,
          196.12531459484282,
          196.12551064152024,
          196.12866925308924,
          196.13725879405902,
          196.12266326423733,
          196.1203672683658,
          196.12391048612633,
          196.14591392510368,
          196.1756907013918,
          196.18080780036962,
          196.20065672710692,
          196.203288151048,
          196.21869030981807,
          196.2362166464181,
          196.25369323802386,
          196.25324462432445,
          196.243191295862,
          196.25554443667224,
          196.26058828826197,
          196.27463923652115,
          196.28799130054418,
          196.30382653279565,
          196.3090650715222,
          196.3108080718922,
          196.30866068672083,
          196.31252345660286,
          196.32084733396186,
          196.31772411372535,
          196.3343121242056,
          196.34307892045405,
          196.35143923277622,
          196.36303482028185,
          196.35621398134606,
          196.3588487544029,
          196.35596654524778,
          196.3395103299025,
          196.32998363097025,
          196.32691717397174,
          196.3248189922194,
          196.3250392687222,
          196.31761702444902,
          196.3239728483644,
          196.32961416634555,
          196.32450084497802,
          196.31391966396396,
          196.30974798865975,
          196.30705675622968,
          196.3084370235659,
          196.31569219496166,
          196.326509931923,
          196.32590226861757,
          196.3332499713891,
          196.34732142555387,
          196.3594683875168,
          196.3731389032232,
          196.361150298833,
          196.36158539231315,
          196.3643138507498,
          196.35192622265384,
          196.34877699946196,
          196.33281940319898,
          196.3262732130304,
          196.30792254564034,
          196.26902750980273,
          196.25493914043471,
          196.2473311905861,
          196.23492563317558,
          196.21799105938172,
          196.19888537860834,
          196.18447205687445,
          196.16183082538848,
          196.14291146715888,
          196.11089893373745,
          196.09148580887663,
          196.08182710159394,
          196.0812007060706,
          196.08324228820163,
          196.06649987275676,
          196.03902741802256,
          196.02786348307296,
          196.01779939770773,
          196.01535467107936,
          196.0088766553917,
          195.98712428755906,
          195.9777952071558,
          195.94891015463264,
          195.92207291288418,
          195.90481712238744,
          195.89519084961861,
          195.88262956949563,
          195.8637144690011,
          195.83632775079005,
          195.80892435563484,
          195.79061174160324,
          195.79377585887937,
          195.77505279375083,
          195.7720567217612,
          195.76251080649533,
          195.77923158425122,
          195.77652411630913,
          195.77274689718269,
          195.77885835337884,
          195.77305908714683,
          195.77776766131694,
          195.7818783352886,
          195.78442153132488,
          195.77755308286655,
          195.7590298609428,
          195.7534386213003,
          195.76267526673044,
          195.73454084835194,
          195.7526199540354,
          195.75106652153465,
          195.76522025222678,
          195.77077508479405,
          195.78510487209908,
          195.78990510580786,
          195.80255283538597,
          195.8118195498461,
          195.81459875867097,
          195.81247922887178,
          195.81863907902053,
          195.83731304091393,
          195.8425768079884,
          195.84772165768925,
          195.8624157861288,
          195.85871519222096,
          195.85593470031384,
          195.84980487860767,
          195.85406723600533,
          195.85651455401094,
          195.88191582769971,
          195.8985916717093,
          195.90042251523104,
          195.90550568023056,
          195.9208713634894,
          195.93322949463357,
          195.94204798094628,
          195.95649822777617,
          195.9643437047493,
          195.974204848161,
          195.98273666639992,
          196.0081958488558,
          196.02357132073337,
          196.05913095593252,
          196.08895742426108,
          196.11654449103634,
          196.1396452317755,
          196.1702799950513,
          196.1892564723357,
          196.2218527546356,
          196.23304276496896,
          196.25056516440836,
          196.2691689080877,
          196.31473875703804,
          196.332121879566,
          196.34255890779357,
          196.39015672388322,
          196.42932136146806,
          196.46207921561052,
          196.483485672904,
          196.50396606257826,
          196.5089170324919,
          196.51294852655525,
          196.53053331543626,
          196.54763717275043,
          196.5660748078154,
          196.57200768441993,
          196.5501905127997,
          196.56529247737757,
          196.5868394857042,
          196.59735835151793,
          196.62523764239032,
          196.65066738932586
         ],
         "yaxis": "y"
        },
        {
         "hovertemplate": "variable=EMA_12<br>Datetime=%{x}<br>value=%{y}<extra></extra>",
         "legendgroup": "EMA_12",
         "line": {
          "color": "#44fcd1",
          "dash": "solid"
         },
         "marker": {
          "symbol": "circle"
         },
         "mode": "lines",
         "name": "EMA_12",
         "orientation": "v",
         "showlegend": true,
         "type": "scatter",
         "x": [
          "2024-06-07T09:30:00-04:00",
          "2024-06-07T09:31:00-04:00",
          "2024-06-07T09:32:00-04:00",
          "2024-06-07T09:33:00-04:00",
          "2024-06-07T09:34:00-04:00",
          "2024-06-07T09:35:00-04:00",
          "2024-06-07T09:36:00-04:00",
          "2024-06-07T09:37:00-04:00",
          "2024-06-07T09:38:00-04:00",
          "2024-06-07T09:39:00-04:00",
          "2024-06-07T09:40:00-04:00",
          "2024-06-07T09:41:00-04:00",
          "2024-06-07T09:42:00-04:00",
          "2024-06-07T09:43:00-04:00",
          "2024-06-07T09:44:00-04:00",
          "2024-06-07T09:45:00-04:00",
          "2024-06-07T09:46:00-04:00",
          "2024-06-07T09:47:00-04:00",
          "2024-06-07T09:48:00-04:00",
          "2024-06-07T09:49:00-04:00",
          "2024-06-07T09:50:00-04:00",
          "2024-06-07T09:51:00-04:00",
          "2024-06-07T09:52:00-04:00",
          "2024-06-07T09:53:00-04:00",
          "2024-06-07T09:54:00-04:00",
          "2024-06-07T09:55:00-04:00",
          "2024-06-07T09:56:00-04:00",
          "2024-06-07T09:57:00-04:00",
          "2024-06-07T09:58:00-04:00",
          "2024-06-07T09:59:00-04:00",
          "2024-06-07T10:00:00-04:00",
          "2024-06-07T10:01:00-04:00",
          "2024-06-07T10:02:00-04:00",
          "2024-06-07T10:03:00-04:00",
          "2024-06-07T10:04:00-04:00",
          "2024-06-07T10:05:00-04:00",
          "2024-06-07T10:06:00-04:00",
          "2024-06-07T10:07:00-04:00",
          "2024-06-07T10:08:00-04:00",
          "2024-06-07T10:09:00-04:00",
          "2024-06-07T10:10:00-04:00",
          "2024-06-07T10:11:00-04:00",
          "2024-06-07T10:12:00-04:00",
          "2024-06-07T10:13:00-04:00",
          "2024-06-07T10:14:00-04:00",
          "2024-06-07T10:15:00-04:00",
          "2024-06-07T10:16:00-04:00",
          "2024-06-07T10:17:00-04:00",
          "2024-06-07T10:18:00-04:00",
          "2024-06-07T10:19:00-04:00",
          "2024-06-07T10:20:00-04:00",
          "2024-06-07T10:21:00-04:00",
          "2024-06-07T10:22:00-04:00",
          "2024-06-07T10:23:00-04:00",
          "2024-06-07T10:24:00-04:00",
          "2024-06-07T10:25:00-04:00",
          "2024-06-07T10:26:00-04:00",
          "2024-06-07T10:27:00-04:00",
          "2024-06-07T10:28:00-04:00",
          "2024-06-07T10:29:00-04:00",
          "2024-06-07T10:30:00-04:00",
          "2024-06-07T10:31:00-04:00",
          "2024-06-07T10:32:00-04:00",
          "2024-06-07T10:33:00-04:00",
          "2024-06-07T10:34:00-04:00",
          "2024-06-07T10:35:00-04:00",
          "2024-06-07T10:36:00-04:00",
          "2024-06-07T10:37:00-04:00",
          "2024-06-07T10:38:00-04:00",
          "2024-06-07T10:39:00-04:00",
          "2024-06-07T10:40:00-04:00",
          "2024-06-07T10:41:00-04:00",
          "2024-06-07T10:42:00-04:00",
          "2024-06-07T10:43:00-04:00",
          "2024-06-07T10:44:00-04:00",
          "2024-06-07T10:45:00-04:00",
          "2024-06-07T10:46:00-04:00",
          "2024-06-07T10:47:00-04:00",
          "2024-06-07T10:48:00-04:00",
          "2024-06-07T10:49:00-04:00",
          "2024-06-07T10:50:00-04:00",
          "2024-06-07T10:51:00-04:00",
          "2024-06-07T10:52:00-04:00",
          "2024-06-07T10:53:00-04:00",
          "2024-06-07T10:54:00-04:00",
          "2024-06-07T10:55:00-04:00",
          "2024-06-07T10:56:00-04:00",
          "2024-06-07T10:57:00-04:00",
          "2024-06-07T10:58:00-04:00",
          "2024-06-07T10:59:00-04:00",
          "2024-06-07T11:00:00-04:00",
          "2024-06-07T11:01:00-04:00",
          "2024-06-07T11:02:00-04:00",
          "2024-06-07T11:03:00-04:00",
          "2024-06-07T11:04:00-04:00",
          "2024-06-07T11:05:00-04:00",
          "2024-06-07T11:06:00-04:00",
          "2024-06-07T11:07:00-04:00",
          "2024-06-07T11:08:00-04:00",
          "2024-06-07T11:09:00-04:00",
          "2024-06-07T11:10:00-04:00",
          "2024-06-07T11:11:00-04:00",
          "2024-06-07T11:12:00-04:00",
          "2024-06-07T11:13:00-04:00",
          "2024-06-07T11:14:00-04:00",
          "2024-06-07T11:15:00-04:00",
          "2024-06-07T11:16:00-04:00",
          "2024-06-07T11:17:00-04:00",
          "2024-06-07T11:18:00-04:00",
          "2024-06-07T11:19:00-04:00",
          "2024-06-07T11:20:00-04:00",
          "2024-06-07T11:21:00-04:00",
          "2024-06-07T11:22:00-04:00",
          "2024-06-07T11:23:00-04:00",
          "2024-06-07T11:24:00-04:00",
          "2024-06-07T11:25:00-04:00",
          "2024-06-07T11:26:00-04:00",
          "2024-06-07T11:27:00-04:00",
          "2024-06-07T11:28:00-04:00",
          "2024-06-07T11:29:00-04:00",
          "2024-06-07T11:30:00-04:00",
          "2024-06-07T11:31:00-04:00",
          "2024-06-07T11:32:00-04:00",
          "2024-06-07T11:33:00-04:00",
          "2024-06-07T11:34:00-04:00",
          "2024-06-07T11:35:00-04:00",
          "2024-06-07T11:36:00-04:00",
          "2024-06-07T11:37:00-04:00",
          "2024-06-07T11:38:00-04:00",
          "2024-06-07T11:39:00-04:00",
          "2024-06-07T11:40:00-04:00",
          "2024-06-07T11:41:00-04:00",
          "2024-06-07T11:42:00-04:00",
          "2024-06-07T11:43:00-04:00",
          "2024-06-07T11:44:00-04:00",
          "2024-06-07T11:45:00-04:00",
          "2024-06-07T11:46:00-04:00",
          "2024-06-07T11:47:00-04:00",
          "2024-06-07T11:48:00-04:00",
          "2024-06-07T11:49:00-04:00",
          "2024-06-07T11:50:00-04:00",
          "2024-06-07T11:51:00-04:00",
          "2024-06-07T11:52:00-04:00",
          "2024-06-07T11:53:00-04:00",
          "2024-06-07T11:54:00-04:00",
          "2024-06-07T11:55:00-04:00",
          "2024-06-07T11:56:00-04:00",
          "2024-06-07T11:57:00-04:00",
          "2024-06-07T11:58:00-04:00",
          "2024-06-07T11:59:00-04:00",
          "2024-06-07T12:00:00-04:00",
          "2024-06-07T12:01:00-04:00",
          "2024-06-07T12:02:00-04:00",
          "2024-06-07T12:03:00-04:00",
          "2024-06-07T12:04:00-04:00",
          "2024-06-07T12:05:00-04:00",
          "2024-06-07T12:06:00-04:00",
          "2024-06-07T12:07:00-04:00",
          "2024-06-07T12:08:00-04:00",
          "2024-06-07T12:09:00-04:00",
          "2024-06-07T12:10:00-04:00",
          "2024-06-07T12:11:00-04:00",
          "2024-06-07T12:12:00-04:00",
          "2024-06-07T12:13:00-04:00",
          "2024-06-07T12:14:00-04:00",
          "2024-06-07T12:15:00-04:00",
          "2024-06-07T12:16:00-04:00",
          "2024-06-07T12:17:00-04:00",
          "2024-06-07T12:18:00-04:00",
          "2024-06-07T12:19:00-04:00",
          "2024-06-07T12:20:00-04:00",
          "2024-06-07T12:21:00-04:00",
          "2024-06-07T12:22:00-04:00",
          "2024-06-07T12:23:00-04:00",
          "2024-06-07T12:24:00-04:00",
          "2024-06-07T12:25:00-04:00",
          "2024-06-07T12:26:00-04:00",
          "2024-06-07T12:27:00-04:00",
          "2024-06-07T12:28:00-04:00",
          "2024-06-07T12:29:00-04:00",
          "2024-06-07T12:30:00-04:00",
          "2024-06-07T12:31:00-04:00",
          "2024-06-07T12:32:00-04:00",
          "2024-06-07T12:33:00-04:00",
          "2024-06-07T12:34:00-04:00",
          "2024-06-07T12:35:00-04:00",
          "2024-06-07T12:36:00-04:00",
          "2024-06-07T12:37:00-04:00",
          "2024-06-07T12:38:00-04:00",
          "2024-06-07T12:39:00-04:00",
          "2024-06-07T12:40:00-04:00",
          "2024-06-07T12:41:00-04:00",
          "2024-06-07T12:42:00-04:00",
          "2024-06-07T12:43:00-04:00",
          "2024-06-07T12:44:00-04:00",
          "2024-06-07T12:45:00-04:00",
          "2024-06-07T12:46:00-04:00",
          "2024-06-07T12:47:00-04:00",
          "2024-06-07T12:48:00-04:00",
          "2024-06-07T12:49:00-04:00",
          "2024-06-07T12:50:00-04:00",
          "2024-06-07T12:51:00-04:00",
          "2024-06-07T12:52:00-04:00",
          "2024-06-07T12:53:00-04:00",
          "2024-06-07T12:54:00-04:00",
          "2024-06-07T12:55:00-04:00",
          "2024-06-07T12:56:00-04:00",
          "2024-06-07T12:57:00-04:00",
          "2024-06-07T12:58:00-04:00",
          "2024-06-07T12:59:00-04:00",
          "2024-06-07T13:00:00-04:00",
          "2024-06-07T13:01:00-04:00",
          "2024-06-07T13:02:00-04:00",
          "2024-06-07T13:03:00-04:00",
          "2024-06-07T13:04:00-04:00",
          "2024-06-07T13:05:00-04:00",
          "2024-06-07T13:06:00-04:00",
          "2024-06-07T13:07:00-04:00",
          "2024-06-07T13:08:00-04:00",
          "2024-06-07T13:09:00-04:00",
          "2024-06-07T13:10:00-04:00",
          "2024-06-07T13:11:00-04:00",
          "2024-06-07T13:12:00-04:00",
          "2024-06-07T13:13:00-04:00",
          "2024-06-07T13:14:00-04:00",
          "2024-06-07T13:15:00-04:00",
          "2024-06-07T13:16:00-04:00",
          "2024-06-07T13:17:00-04:00",
          "2024-06-07T13:18:00-04:00",
          "2024-06-07T13:19:00-04:00",
          "2024-06-07T13:20:00-04:00",
          "2024-06-07T13:21:00-04:00",
          "2024-06-07T13:22:00-04:00",
          "2024-06-07T13:23:00-04:00",
          "2024-06-07T13:24:00-04:00",
          "2024-06-07T13:25:00-04:00",
          "2024-06-07T13:26:00-04:00",
          "2024-06-07T13:27:00-04:00",
          "2024-06-07T13:28:00-04:00",
          "2024-06-07T13:29:00-04:00",
          "2024-06-07T13:30:00-04:00",
          "2024-06-07T13:31:00-04:00",
          "2024-06-07T13:32:00-04:00",
          "2024-06-07T13:33:00-04:00",
          "2024-06-07T13:34:00-04:00",
          "2024-06-07T13:35:00-04:00",
          "2024-06-07T13:36:00-04:00",
          "2024-06-07T13:37:00-04:00",
          "2024-06-07T13:38:00-04:00",
          "2024-06-07T13:39:00-04:00",
          "2024-06-07T13:40:00-04:00",
          "2024-06-07T13:41:00-04:00",
          "2024-06-07T13:42:00-04:00",
          "2024-06-07T13:43:00-04:00",
          "2024-06-07T13:44:00-04:00",
          "2024-06-07T13:45:00-04:00",
          "2024-06-07T13:46:00-04:00",
          "2024-06-07T13:47:00-04:00",
          "2024-06-07T13:48:00-04:00",
          "2024-06-07T13:49:00-04:00",
          "2024-06-07T13:50:00-04:00",
          "2024-06-07T13:51:00-04:00",
          "2024-06-07T13:52:00-04:00",
          "2024-06-07T13:53:00-04:00",
          "2024-06-07T13:54:00-04:00",
          "2024-06-07T13:55:00-04:00",
          "2024-06-07T13:56:00-04:00",
          "2024-06-07T13:57:00-04:00",
          "2024-06-07T13:58:00-04:00",
          "2024-06-07T13:59:00-04:00",
          "2024-06-07T14:00:00-04:00",
          "2024-06-07T14:01:00-04:00",
          "2024-06-07T14:02:00-04:00",
          "2024-06-07T14:03:00-04:00",
          "2024-06-07T14:04:00-04:00",
          "2024-06-07T14:05:00-04:00",
          "2024-06-07T14:06:00-04:00",
          "2024-06-07T14:07:00-04:00",
          "2024-06-07T14:08:00-04:00",
          "2024-06-07T14:09:00-04:00",
          "2024-06-07T14:10:00-04:00",
          "2024-06-07T14:11:00-04:00",
          "2024-06-07T14:12:00-04:00",
          "2024-06-07T14:13:00-04:00",
          "2024-06-07T14:14:00-04:00",
          "2024-06-07T14:15:00-04:00",
          "2024-06-07T14:16:00-04:00",
          "2024-06-07T14:17:00-04:00",
          "2024-06-07T14:18:00-04:00",
          "2024-06-07T14:19:00-04:00",
          "2024-06-07T14:20:00-04:00",
          "2024-06-07T14:21:00-04:00",
          "2024-06-07T14:22:00-04:00",
          "2024-06-07T14:23:00-04:00",
          "2024-06-07T14:24:00-04:00",
          "2024-06-07T14:25:00-04:00",
          "2024-06-07T14:26:00-04:00",
          "2024-06-07T14:27:00-04:00",
          "2024-06-07T14:28:00-04:00",
          "2024-06-07T14:29:00-04:00",
          "2024-06-07T14:30:00-04:00",
          "2024-06-07T14:31:00-04:00",
          "2024-06-07T14:32:00-04:00",
          "2024-06-07T14:33:00-04:00",
          "2024-06-07T14:34:00-04:00",
          "2024-06-07T14:35:00-04:00",
          "2024-06-07T14:36:00-04:00",
          "2024-06-07T14:37:00-04:00",
          "2024-06-07T14:38:00-04:00",
          "2024-06-07T14:39:00-04:00",
          "2024-06-07T14:40:00-04:00",
          "2024-06-07T14:41:00-04:00",
          "2024-06-07T14:42:00-04:00",
          "2024-06-07T14:43:00-04:00",
          "2024-06-07T14:44:00-04:00",
          "2024-06-07T14:45:00-04:00",
          "2024-06-07T14:46:00-04:00",
          "2024-06-07T14:47:00-04:00",
          "2024-06-07T14:48:00-04:00",
          "2024-06-07T14:49:00-04:00",
          "2024-06-07T14:50:00-04:00",
          "2024-06-07T14:51:00-04:00",
          "2024-06-07T14:52:00-04:00",
          "2024-06-07T14:53:00-04:00",
          "2024-06-07T14:54:00-04:00",
          "2024-06-07T14:55:00-04:00",
          "2024-06-07T14:56:00-04:00",
          "2024-06-07T14:57:00-04:00",
          "2024-06-07T14:58:00-04:00",
          "2024-06-07T14:59:00-04:00",
          "2024-06-07T15:00:00-04:00",
          "2024-06-07T15:01:00-04:00",
          "2024-06-07T15:02:00-04:00",
          "2024-06-07T15:03:00-04:00",
          "2024-06-07T15:04:00-04:00",
          "2024-06-07T15:05:00-04:00",
          "2024-06-07T15:06:00-04:00",
          "2024-06-07T15:07:00-04:00",
          "2024-06-07T15:08:00-04:00",
          "2024-06-07T15:09:00-04:00",
          "2024-06-07T15:10:00-04:00",
          "2024-06-07T15:11:00-04:00",
          "2024-06-07T15:12:00-04:00",
          "2024-06-07T15:13:00-04:00",
          "2024-06-07T15:14:00-04:00",
          "2024-06-07T15:15:00-04:00",
          "2024-06-07T15:16:00-04:00",
          "2024-06-07T15:17:00-04:00",
          "2024-06-07T15:18:00-04:00",
          "2024-06-07T15:19:00-04:00",
          "2024-06-07T15:20:00-04:00",
          "2024-06-07T15:21:00-04:00",
          "2024-06-07T15:22:00-04:00",
          "2024-06-07T15:23:00-04:00",
          "2024-06-07T15:24:00-04:00",
          "2024-06-07T15:25:00-04:00",
          "2024-06-07T15:26:00-04:00",
          "2024-06-07T15:27:00-04:00",
          "2024-06-07T15:28:00-04:00",
          "2024-06-07T15:29:00-04:00",
          "2024-06-07T15:30:00-04:00",
          "2024-06-07T15:31:00-04:00",
          "2024-06-07T15:32:00-04:00",
          "2024-06-07T15:33:00-04:00",
          "2024-06-07T15:34:00-04:00",
          "2024-06-07T15:35:00-04:00",
          "2024-06-07T15:36:00-04:00",
          "2024-06-07T15:37:00-04:00",
          "2024-06-07T15:38:00-04:00",
          "2024-06-07T15:39:00-04:00",
          "2024-06-07T15:40:00-04:00",
          "2024-06-07T15:41:00-04:00",
          "2024-06-07T15:42:00-04:00",
          "2024-06-07T15:43:00-04:00",
          "2024-06-07T15:44:00-04:00",
          "2024-06-07T15:45:00-04:00",
          "2024-06-07T15:46:00-04:00",
          "2024-06-07T15:47:00-04:00",
          "2024-06-07T15:48:00-04:00",
          "2024-06-07T15:49:00-04:00",
          "2024-06-07T15:50:00-04:00",
          "2024-06-07T15:51:00-04:00",
          "2024-06-07T15:52:00-04:00",
          "2024-06-07T15:53:00-04:00",
          "2024-06-07T15:54:00-04:00",
          "2024-06-07T15:55:00-04:00",
          "2024-06-07T15:56:00-04:00",
          "2024-06-07T15:57:00-04:00",
          "2024-06-07T15:58:00-04:00",
          "2024-06-07T15:59:00-04:00"
         ],
         "xaxis": "x",
         "y": [
          195.5,
          195.5,
          195.60666910807294,
          195.32500457763672,
          195.31904272460937,
          195.22606668354558,
          195.12343192269333,
          195.03654158860445,
          195.0023878434825,
          194.943720765586,
          194.85995521382546,
          194.77955744377755,
          194.7564204646028,
          194.73621726807949,
          194.631169535912,
          194.6495822881263,
          194.59781559002502,
          194.54748349424517,
          194.51939889410855,
          194.54786624771822,
          194.53385114500514,
          194.52092866836352,
          194.53093827179146,
          194.5662701266133,
          194.5761175681567,
          194.58661214574093,
          194.5828068804939,
          194.57022887955927,
          194.55654981534715,
          194.56343218841792,
          194.60291827521996,
          194.6382370603805,
          194.66370476469498,
          194.68795306983426,
          194.66476541831946,
          194.69039223798075,
          194.69685560317566,
          194.71946372174114,
          194.74784886907113,
          194.7791745541229,
          194.80588724831546,
          194.81645143566234,
          194.85836137801027,
          194.86031982976485,
          194.88458274254828,
          194.8637733264647,
          194.8973539866988,
          194.90727536789854,
          194.9515505367197,
          194.97009272113624,
          194.9806066433676,
          194.97562819236109,
          194.96288194181355,
          195.00535584255582,
          195.01817384364554,
          195.03885150897486,
          195.0169971704994,
          195.01333401410758,
          194.99945978768167,
          194.9857038013176,
          194.9532846733723,
          194.92132024734747,
          194.9014123373882,
          194.90591394090623,
          194.9265503744788,
          194.9390845616451,
          194.98368325269905,
          194.99374726252626,
          195.01136478191796,
          195.02982456705462,
          195.06282766724834,
          195.11373591261156,
          195.17738922516259,
          195.2667461900922,
          195.32744083987376,
          195.38428531088803,
          195.44401778976842,
          195.52042008256439,
          195.56467690188637,
          195.62812475414003,
          195.6471151184296,
          195.6897023414154,
          195.72774247074003,
          195.74569755355407,
          195.77361653618715,
          195.7737092061843,
          195.77679093098396,
          195.7835584955708,
          195.76650362362793,
          195.74768553897684,
          195.73698875223445,
          195.66406648075153,
          195.62112046539173,
          195.57892764870584,
          195.5212983189618,
          195.48186993396152,
          195.45443996699385,
          195.40081057947836,
          195.3210606376395,
          195.27915712834104,
          195.25678476325368,
          195.23324559816578,
          195.1823058823446,
          195.17465899362844,
          195.175302667703,
          195.1777489575874,
          195.18039746842547,
          195.1847611641923,
          195.17459481472105,
          195.1584890950743,
          195.19275682759212,
          195.1797685523286,
          195.1563334258145,
          195.16113264038285,
          195.1755787988174,
          195.1926657910748,
          195.2426491984415,
          195.27838979211688,
          195.30228979441134,
          195.3239569228403,
          195.36882912031672,
          195.42066380475384,
          195.45421210033766,
          195.51447794022874,
          195.57263554391182,
          195.63214181663233,
          195.66422512781276,
          195.70483302563048,
          195.71794344616856,
          195.72075668649518,
          195.73505813018375,
          195.7883352285892,
          195.81032880473362,
          195.81420299719153,
          195.81654676425018,
          195.81411354702414,
          195.80561269265237,
          195.8027202976819,
          195.8098992506596,
          195.8179203798398,
          195.82478360944393,
          195.82982097559938,
          195.83918147401994,
          195.82462989675176,
          195.80468129760658,
          195.80520772020054,
          195.8160551687177,
          195.8306859787806,
          195.85749859739082,
          195.85836187030503,
          195.86975465518535,
          195.85932089891855,
          195.85221347008167,
          195.85302863816798,
          195.84934817164105,
          195.8520818769013,
          195.85957976349852,
          195.8861874216083,
          195.90984209647368,
          195.94426106860243,
          195.9646777805091,
          195.97289791437387,
          195.98543665830144,
          195.98204389568434,
          195.9870661605057,
          195.96627133998803,
          195.94434553744992,
          195.9087695814983,
          195.88954828118474,
          195.85606268293637,
          195.84787413373175,
          195.8092276221414,
          195.78182751044056,
          195.77148656055388,
          195.79385615246306,
          195.8133561834091,
          195.8098443968836,
          195.8093709603288,
          195.79888413623348,
          195.79914544097488,
          195.81908228455077,
          195.86720787253336,
          195.90042169698256,
          195.93372593079891,
          195.9718822984855,
          196.0090983583993,
          196.0295328877031,
          196.02815824828005,
          196.0060141685841,
          196.00510330019935,
          195.99316525805762,
          195.992015714269,
          195.98258483122166,
          195.9630515247287,
          195.94200598735247,
          195.9299761633809,
          195.91516194445927,
          195.8987935829156,
          195.87094569287345,
          195.84305601937876,
          195.84460583044495,
          195.85254422314668,
          195.86570799155197,
          195.8798298295702,
          195.90861148530445,
          195.9377510920192,
          195.98809698396215,
          196.05675969915495,
          196.09648050980977,
          196.11865249584548,
          196.14760963045399,
          196.17836913491178,
          196.20603848869635,
          196.2084736684251,
          196.22975490343222,
          196.2293258958781,
          196.24192693030488,
          196.2504064727006,
          196.25477862399995,
          196.23884946945253,
          196.201805268608,
          196.20230132242978,
          196.1923250062329,
          196.19542783040785,
          196.20930216646804,
          196.22393256391956,
          196.23159465330446,
          196.23401866045137,
          196.22427700597373,
          196.2187288764721,
          196.22056008003042,
          196.21796638053465,
          196.24213189340716,
          196.25834507223786,
          196.28860217771916,
          196.32459184797403,
          196.34051807332258,
          196.35590698954314,
          196.36280317696367,
          196.35784034878586,
          196.355815067629,
          196.36300217765032,
          196.37658183625706,
          196.38558752251427,
          196.38961876123682,
          196.40489217263928,
          196.40779914829497,
          196.40313597897403,
          196.3849451685495,
          196.37785307142224,
          196.37106547635963,
          196.35070655427538,
          196.33594087615614,
          196.32613268893357,
          196.3110654334049,
          196.3018332554326,
          196.28734996286477,
          196.2767804373242,
          196.28391129496845,
          196.27620682568528,
          196.27505895849066,
          196.27443021211238,
          196.26968933232712,
          196.28387044221245,
          196.29615690999697,
          196.3085129814759,
          196.317933078745,
          196.32651453783598,
          196.35676732368498,
          196.39525221800494,
          196.4107230770008,
          196.3960603810409,
          196.38686857214734,
          196.39148589320854,
          196.39467286347534,
          196.3879600132802,
          196.35368194153014,
          196.3315382669011,
          196.30280940433613,
          196.25238240227065,
          196.2236569968584,
          196.19087941141916,
          196.15755701040626,
          196.14712195130127,
          196.1246247008158,
          196.09035774966182,
          196.0444427139393,
          196.0036424416876,
          195.97389203069883,
          195.93862729743796,
          195.9054722936632,
          195.92908074791353,
          195.94364961117722,
          195.95270824975228,
          195.9549815783442,
          195.93507294280025,
          195.91437768443558,
          195.91100781152946,
          195.9337201270498,
          195.92717864599504,
          195.9237706337945,
          195.90722740393664,
          195.92007032742572,
          195.86804134141707,
          195.83814729526148,
          195.8118852840083,
          195.7801430658566,
          195.76377610630954,
          195.75944916829653,
          195.7533135533221,
          195.7418377409854,
          195.72374608664913,
          195.7087434422324,
          195.70528607711134,
          195.67146761319162,
          195.70249971546616,
          195.70590887356732,
          195.72466398494987,
          195.74192685651107,
          195.75855870795715,
          195.7571397452009,
          195.75633718955442,
          195.75454773420617,
          195.74283090425953,
          195.74621909815733,
          195.76268152552237,
          195.78439170140376,
          195.78544711190682,
          195.79518563622503,
          195.8124713693897,
          195.81506830212683,
          195.81934907732537,
          195.82540731158292,
          195.83938134196865,
          195.84514820262424,
          195.86412906547224,
          195.86103931091793,
          195.85593247441466,
          195.85934428773268,
          195.87406305236857,
          195.8785353278606,
          195.88712603851513,
          195.88831049228725,
          195.8904717580484,
          195.8865581461269,
          195.886987506842,
          195.89419336458866,
          195.9068933420977,
          195.92580250731086,
          195.9338918335119,
          195.94771013498874,
          195.95632886383058,
          195.97612767565337,
          195.9778186996201,
          195.9976349208636,
          195.99626309550004,
          196.01203877203395,
          196.0303786851924,
          196.08716240599557,
          196.12567058599248,
          196.1598081462151,
          196.1943343035822,
          196.22918078095213,
          196.26676979574347,
          196.29370803911164,
          196.3321646207968,
          196.3617306018451,
          196.37588417397703,
          196.38037440553495,
          196.41427045339037,
          196.4548747896931,
          196.48900933360366,
          196.49344742640318,
          196.55023179143012,
          196.60227707562404,
          196.63333048519954,
          196.65809682885867,
          196.6650425237603,
          196.6487794790139,
          196.61856712367836,
          196.63188232696905,
          196.6273676405785,
          196.62535428328673,
          196.61566387364783,
          196.6214393919902,
          196.62221525629562,
          196.63568940367225,
          196.64192671844543,
          196.66354258545545,
          196.6881882179514
         ],
         "yaxis": "y"
        }
       ],
       "layout": {
        "legend": {
         "title": {
          "text": "variable"
         },
         "tracegroupgap": 0
        },
        "template": {
         "data": {
          "bar": [
           {
            "error_x": {
             "color": "#2a3f5f"
            },
            "error_y": {
             "color": "#2a3f5f"
            },
            "marker": {
             "line": {
              "color": "#E5ECF6",
              "width": 0.5
             },
             "pattern": {
              "fillmode": "overlay",
              "size": 10,
              "solidity": 0.2
             }
            },
            "type": "bar"
           }
          ],
          "barpolar": [
           {
            "marker": {
             "line": {
              "color": "#E5ECF6",
              "width": 0.5
             },
             "pattern": {
              "fillmode": "overlay",
              "size": 10,
              "solidity": 0.2
             }
            },
            "type": "barpolar"
           }
          ],
          "carpet": [
           {
            "aaxis": {
             "endlinecolor": "#2a3f5f",
             "gridcolor": "white",
             "linecolor": "white",
             "minorgridcolor": "white",
             "startlinecolor": "#2a3f5f"
            },
            "baxis": {
             "endlinecolor": "#2a3f5f",
             "gridcolor": "white",
             "linecolor": "white",
             "minorgridcolor": "white",
             "startlinecolor": "#2a3f5f"
            },
            "type": "carpet"
           }
          ],
          "choropleth": [
           {
            "colorbar": {
             "outlinewidth": 0,
             "ticks": ""
            },
            "type": "choropleth"
           }
          ],
          "contour": [
           {
            "colorbar": {
             "outlinewidth": 0,
             "ticks": ""
            },
            "colorscale": [
             [
              0,
              "#0d0887"
             ],
             [
              0.1111111111111111,
              "#46039f"
             ],
             [
              0.2222222222222222,
              "#7201a8"
             ],
             [
              0.3333333333333333,
              "#9c179e"
             ],
             [
              0.4444444444444444,
              "#bd3786"
             ],
             [
              0.5555555555555556,
              "#d8576b"
             ],
             [
              0.6666666666666666,
              "#ed7953"
             ],
             [
              0.7777777777777778,
              "#fb9f3a"
             ],
             [
              0.8888888888888888,
              "#fdca26"
             ],
             [
              1,
              "#f0f921"
             ]
            ],
            "type": "contour"
           }
          ],
          "contourcarpet": [
           {
            "colorbar": {
             "outlinewidth": 0,
             "ticks": ""
            },
            "type": "contourcarpet"
           }
          ],
          "heatmap": [
           {
            "colorbar": {
             "outlinewidth": 0,
             "ticks": ""
            },
            "colorscale": [
             [
              0,
              "#0d0887"
             ],
             [
              0.1111111111111111,
              "#46039f"
             ],
             [
              0.2222222222222222,
              "#7201a8"
             ],
             [
              0.3333333333333333,
              "#9c179e"
             ],
             [
              0.4444444444444444,
              "#bd3786"
             ],
             [
              0.5555555555555556,
              "#d8576b"
             ],
             [
              0.6666666666666666,
              "#ed7953"
             ],
             [
              0.7777777777777778,
              "#fb9f3a"
             ],
             [
              0.8888888888888888,
              "#fdca26"
             ],
             [
              1,
              "#f0f921"
             ]
            ],
            "type": "heatmap"
           }
          ],
          "heatmapgl": [
           {
            "colorbar": {
             "outlinewidth": 0,
             "ticks": ""
            },
            "colorscale": [
             [
              0,
              "#0d0887"
             ],
             [
              0.1111111111111111,
              "#46039f"
             ],
             [
              0.2222222222222222,
              "#7201a8"
             ],
             [
              0.3333333333333333,
              "#9c179e"
             ],
             [
              0.4444444444444444,
              "#bd3786"
             ],
             [
              0.5555555555555556,
              "#d8576b"
             ],
             [
              0.6666666666666666,
              "#ed7953"
             ],
             [
              0.7777777777777778,
              "#fb9f3a"
             ],
             [
              0.8888888888888888,
              "#fdca26"
             ],
             [
              1,
              "#f0f921"
             ]
            ],
            "type": "heatmapgl"
           }
          ],
          "histogram": [
           {
            "marker": {
             "pattern": {
              "fillmode": "overlay",
              "size": 10,
              "solidity": 0.2
             }
            },
            "type": "histogram"
           }
          ],
          "histogram2d": [
           {
            "colorbar": {
             "outlinewidth": 0,
             "ticks": ""
            },
            "colorscale": [
             [
              0,
              "#0d0887"
             ],
             [
              0.1111111111111111,
              "#46039f"
             ],
             [
              0.2222222222222222,
              "#7201a8"
             ],
             [
              0.3333333333333333,
              "#9c179e"
             ],
             [
              0.4444444444444444,
              "#bd3786"
             ],
             [
              0.5555555555555556,
              "#d8576b"
             ],
             [
              0.6666666666666666,
              "#ed7953"
             ],
             [
              0.7777777777777778,
              "#fb9f3a"
             ],
             [
              0.8888888888888888,
              "#fdca26"
             ],
             [
              1,
              "#f0f921"
             ]
            ],
            "type": "histogram2d"
           }
          ],
          "histogram2dcontour": [
           {
            "colorbar": {
             "outlinewidth": 0,
             "ticks": ""
            },
            "colorscale": [
             [
              0,
              "#0d0887"
             ],
             [
              0.1111111111111111,
              "#46039f"
             ],
             [
              0.2222222222222222,
              "#7201a8"
             ],
             [
              0.3333333333333333,
              "#9c179e"
             ],
             [
              0.4444444444444444,
              "#bd3786"
             ],
             [
              0.5555555555555556,
              "#d8576b"
             ],
             [
              0.6666666666666666,
              "#ed7953"
             ],
             [
              0.7777777777777778,
              "#fb9f3a"
             ],
             [
              0.8888888888888888,
              "#fdca26"
             ],
             [
              1,
              "#f0f921"
             ]
            ],
            "type": "histogram2dcontour"
           }
          ],
          "mesh3d": [
           {
            "colorbar": {
             "outlinewidth": 0,
             "ticks": ""
            },
            "type": "mesh3d"
           }
          ],
          "parcoords": [
           {
            "line": {
             "colorbar": {
              "outlinewidth": 0,
              "ticks": ""
             }
            },
            "type": "parcoords"
           }
          ],
          "pie": [
           {
            "automargin": true,
            "type": "pie"
           }
          ],
          "scatter": [
           {
            "fillpattern": {
             "fillmode": "overlay",
             "size": 10,
             "solidity": 0.2
            },
            "type": "scatter"
           }
          ],
          "scatter3d": [
           {
            "line": {
             "colorbar": {
              "outlinewidth": 0,
              "ticks": ""
             }
            },
            "marker": {
             "colorbar": {
              "outlinewidth": 0,
              "ticks": ""
             }
            },
            "type": "scatter3d"
           }
          ],
          "scattercarpet": [
           {
            "marker": {
             "colorbar": {
              "outlinewidth": 0,
              "ticks": ""
             }
            },
            "type": "scattercarpet"
           }
          ],
          "scattergeo": [
           {
            "marker": {
             "colorbar": {
              "outlinewidth": 0,
              "ticks": ""
             }
            },
            "type": "scattergeo"
           }
          ],
          "scattergl": [
           {
            "marker": {
             "colorbar": {
              "outlinewidth": 0,
              "ticks": ""
             }
            },
            "type": "scattergl"
           }
          ],
          "scattermapbox": [
           {
            "marker": {
             "colorbar": {
              "outlinewidth": 0,
              "ticks": ""
             }
            },
            "type": "scattermapbox"
           }
          ],
          "scatterpolar": [
           {
            "marker": {
             "colorbar": {
              "outlinewidth": 0,
              "ticks": ""
             }
            },
            "type": "scatterpolar"
           }
          ],
          "scatterpolargl": [
           {
            "marker": {
             "colorbar": {
              "outlinewidth": 0,
              "ticks": ""
             }
            },
            "type": "scatterpolargl"
           }
          ],
          "scatterternary": [
           {
            "marker": {
             "colorbar": {
              "outlinewidth": 0,
              "ticks": ""
             }
            },
            "type": "scatterternary"
           }
          ],
          "surface": [
           {
            "colorbar": {
             "outlinewidth": 0,
             "ticks": ""
            },
            "colorscale": [
             [
              0,
              "#0d0887"
             ],
             [
              0.1111111111111111,
              "#46039f"
             ],
             [
              0.2222222222222222,
              "#7201a8"
             ],
             [
              0.3333333333333333,
              "#9c179e"
             ],
             [
              0.4444444444444444,
              "#bd3786"
             ],
             [
              0.5555555555555556,
              "#d8576b"
             ],
             [
              0.6666666666666666,
              "#ed7953"
             ],
             [
              0.7777777777777778,
              "#fb9f3a"
             ],
             [
              0.8888888888888888,
              "#fdca26"
             ],
             [
              1,
              "#f0f921"
             ]
            ],
            "type": "surface"
           }
          ],
          "table": [
           {
            "cells": {
             "fill": {
              "color": "#EBF0F8"
             },
             "line": {
              "color": "white"
             }
            },
            "header": {
             "fill": {
              "color": "#C8D4E3"
             },
             "line": {
              "color": "white"
             }
            },
            "type": "table"
           }
          ]
         },
         "layout": {
          "annotationdefaults": {
           "arrowcolor": "#2a3f5f",
           "arrowhead": 0,
           "arrowwidth": 1
          },
          "autotypenumbers": "strict",
          "coloraxis": {
           "colorbar": {
            "outlinewidth": 0,
            "ticks": ""
           }
          },
          "colorscale": {
           "diverging": [
            [
             0,
             "#8e0152"
            ],
            [
             0.1,
             "#c51b7d"
            ],
            [
             0.2,
             "#de77ae"
            ],
            [
             0.3,
             "#f1b6da"
            ],
            [
             0.4,
             "#fde0ef"
            ],
            [
             0.5,
             "#f7f7f7"
            ],
            [
             0.6,
             "#e6f5d0"
            ],
            [
             0.7,
             "#b8e186"
            ],
            [
             0.8,
             "#7fbc41"
            ],
            [
             0.9,
             "#4d9221"
            ],
            [
             1,
             "#276419"
            ]
           ],
           "sequential": [
            [
             0,
             "#0d0887"
            ],
            [
             0.1111111111111111,
             "#46039f"
            ],
            [
             0.2222222222222222,
             "#7201a8"
            ],
            [
             0.3333333333333333,
             "#9c179e"
            ],
            [
             0.4444444444444444,
             "#bd3786"
            ],
            [
             0.5555555555555556,
             "#d8576b"
            ],
            [
             0.6666666666666666,
             "#ed7953"
            ],
            [
             0.7777777777777778,
             "#fb9f3a"
            ],
            [
             0.8888888888888888,
             "#fdca26"
            ],
            [
             1,
             "#f0f921"
            ]
           ],
           "sequentialminus": [
            [
             0,
             "#0d0887"
            ],
            [
             0.1111111111111111,
             "#46039f"
            ],
            [
             0.2222222222222222,
             "#7201a8"
            ],
            [
             0.3333333333333333,
             "#9c179e"
            ],
            [
             0.4444444444444444,
             "#bd3786"
            ],
            [
             0.5555555555555556,
             "#d8576b"
            ],
            [
             0.6666666666666666,
             "#ed7953"
            ],
            [
             0.7777777777777778,
             "#fb9f3a"
            ],
            [
             0.8888888888888888,
             "#fdca26"
            ],
            [
             1,
             "#f0f921"
            ]
           ]
          },
          "colorway": [
           "#636efa",
           "#EF553B",
           "#00cc96",
           "#ab63fa",
           "#FFA15A",
           "#19d3f3",
           "#FF6692",
           "#B6E880",
           "#FF97FF",
           "#FECB52"
          ],
          "font": {
           "color": "#2a3f5f"
          },
          "geo": {
           "bgcolor": "white",
           "lakecolor": "white",
           "landcolor": "#E5ECF6",
           "showlakes": true,
           "showland": true,
           "subunitcolor": "white"
          },
          "hoverlabel": {
           "align": "left"
          },
          "hovermode": "closest",
          "mapbox": {
           "style": "light"
          },
          "paper_bgcolor": "white",
          "plot_bgcolor": "#E5ECF6",
          "polar": {
           "angularaxis": {
            "gridcolor": "white",
            "linecolor": "white",
            "ticks": ""
           },
           "bgcolor": "#E5ECF6",
           "radialaxis": {
            "gridcolor": "white",
            "linecolor": "white",
            "ticks": ""
           }
          },
          "scene": {
           "xaxis": {
            "backgroundcolor": "#E5ECF6",
            "gridcolor": "white",
            "gridwidth": 2,
            "linecolor": "white",
            "showbackground": true,
            "ticks": "",
            "zerolinecolor": "white"
           },
           "yaxis": {
            "backgroundcolor": "#E5ECF6",
            "gridcolor": "white",
            "gridwidth": 2,
            "linecolor": "white",
            "showbackground": true,
            "ticks": "",
            "zerolinecolor": "white"
           },
           "zaxis": {
            "backgroundcolor": "#E5ECF6",
            "gridcolor": "white",
            "gridwidth": 2,
            "linecolor": "white",
            "showbackground": true,
            "ticks": "",
            "zerolinecolor": "white"
           }
          },
          "shapedefaults": {
           "line": {
            "color": "#2a3f5f"
           }
          },
          "ternary": {
           "aaxis": {
            "gridcolor": "white",
            "linecolor": "white",
            "ticks": ""
           },
           "baxis": {
            "gridcolor": "white",
            "linecolor": "white",
            "ticks": ""
           },
           "bgcolor": "#E5ECF6",
           "caxis": {
            "gridcolor": "white",
            "linecolor": "white",
            "ticks": ""
           }
          },
          "title": {
           "x": 0.05
          },
          "xaxis": {
           "automargin": true,
           "gridcolor": "white",
           "linecolor": "white",
           "ticks": "",
           "title": {
            "standoff": 15
           },
           "zerolinecolor": "white",
           "zerolinewidth": 2
          },
          "yaxis": {
           "automargin": true,
           "gridcolor": "white",
           "linecolor": "white",
           "ticks": "",
           "title": {
            "standoff": 15
           },
           "zerolinecolor": "white",
           "zerolinewidth": 2
          }
         }
        },
        "title": {
         "text": "AAPL Exponential Moving Averages"
        },
        "xaxis": {
         "anchor": "y",
         "domain": [
          0,
          1
         ],
         "title": {
          "text": "Datetime"
         }
        },
        "yaxis": {
         "anchor": "x",
         "domain": [
          0,
          1
         ],
         "title": {
          "text": "value"
         }
        }
       }
      },
      "text/html": [
       "<div>                            <div id=\"93efe18f-9d0b-40a6-9723-858b7f4cb26a\" class=\"plotly-graph-div\" style=\"height:525px; width:100%;\"></div>            <script type=\"text/javascript\">                require([\"plotly\"], function(Plotly) {                    window.PLOTLYENV=window.PLOTLYENV || {};                                    if (document.getElementById(\"93efe18f-9d0b-40a6-9723-858b7f4cb26a\")) {                    Plotly.newPlot(                        \"93efe18f-9d0b-40a6-9723-858b7f4cb26a\",                        [{\"hovertemplate\":\"variable=EMA_24<br>Datetime=%{x}<br>value=%{y}<extra></extra>\",\"legendgroup\":\"EMA_24\",\"line\":{\"color\":\"#38b9ff\",\"dash\":\"solid\"},\"marker\":{\"symbol\":\"circle\"},\"mode\":\"lines\",\"name\":\"EMA_24\",\"orientation\":\"v\",\"showlegend\":true,\"x\":[\"2024-06-07T09:30:00-04:00\",\"2024-06-07T09:31:00-04:00\",\"2024-06-07T09:32:00-04:00\",\"2024-06-07T09:33:00-04:00\",\"2024-06-07T09:34:00-04:00\",\"2024-06-07T09:35:00-04:00\",\"2024-06-07T09:36:00-04:00\",\"2024-06-07T09:37:00-04:00\",\"2024-06-07T09:38:00-04:00\",\"2024-06-07T09:39:00-04:00\",\"2024-06-07T09:40:00-04:00\",\"2024-06-07T09:41:00-04:00\",\"2024-06-07T09:42:00-04:00\",\"2024-06-07T09:43:00-04:00\",\"2024-06-07T09:44:00-04:00\",\"2024-06-07T09:45:00-04:00\",\"2024-06-07T09:46:00-04:00\",\"2024-06-07T09:47:00-04:00\",\"2024-06-07T09:48:00-04:00\",\"2024-06-07T09:49:00-04:00\",\"2024-06-07T09:50:00-04:00\",\"2024-06-07T09:51:00-04:00\",\"2024-06-07T09:52:00-04:00\",\"2024-06-07T09:53:00-04:00\",\"2024-06-07T09:54:00-04:00\",\"2024-06-07T09:55:00-04:00\",\"2024-06-07T09:56:00-04:00\",\"2024-06-07T09:57:00-04:00\",\"2024-06-07T09:58:00-04:00\",\"2024-06-07T09:59:00-04:00\",\"2024-06-07T10:00:00-04:00\",\"2024-06-07T10:01:00-04:00\",\"2024-06-07T10:02:00-04:00\",\"2024-06-07T10:03:00-04:00\",\"2024-06-07T10:04:00-04:00\",\"2024-06-07T10:05:00-04:00\",\"2024-06-07T10:06:00-04:00\",\"2024-06-07T10:07:00-04:00\",\"2024-06-07T10:08:00-04:00\",\"2024-06-07T10:09:00-04:00\",\"2024-06-07T10:10:00-04:00\",\"2024-06-07T10:11:00-04:00\",\"2024-06-07T10:12:00-04:00\",\"2024-06-07T10:13:00-04:00\",\"2024-06-07T10:14:00-04:00\",\"2024-06-07T10:15:00-04:00\",\"2024-06-07T10:16:00-04:00\",\"2024-06-07T10:17:00-04:00\",\"2024-06-07T10:18:00-04:00\",\"2024-06-07T10:19:00-04:00\",\"2024-06-07T10:20:00-04:00\",\"2024-06-07T10:21:00-04:00\",\"2024-06-07T10:22:00-04:00\",\"2024-06-07T10:23:00-04:00\",\"2024-06-07T10:24:00-04:00\",\"2024-06-07T10:25:00-04:00\",\"2024-06-07T10:26:00-04:00\",\"2024-06-07T10:27:00-04:00\",\"2024-06-07T10:28:00-04:00\",\"2024-06-07T10:29:00-04:00\",\"2024-06-07T10:30:00-04:00\",\"2024-06-07T10:31:00-04:00\",\"2024-06-07T10:32:00-04:00\",\"2024-06-07T10:33:00-04:00\",\"2024-06-07T10:34:00-04:00\",\"2024-06-07T10:35:00-04:00\",\"2024-06-07T10:36:00-04:00\",\"2024-06-07T10:37:00-04:00\",\"2024-06-07T10:38:00-04:00\",\"2024-06-07T10:39:00-04:00\",\"2024-06-07T10:40:00-04:00\",\"2024-06-07T10:41:00-04:00\",\"2024-06-07T10:42:00-04:00\",\"2024-06-07T10:43:00-04:00\",\"2024-06-07T10:44:00-04:00\",\"2024-06-07T10:45:00-04:00\",\"2024-06-07T10:46:00-04:00\",\"2024-06-07T10:47:00-04:00\",\"2024-06-07T10:48:00-04:00\",\"2024-06-07T10:49:00-04:00\",\"2024-06-07T10:50:00-04:00\",\"2024-06-07T10:51:00-04:00\",\"2024-06-07T10:52:00-04:00\",\"2024-06-07T10:53:00-04:00\",\"2024-06-07T10:54:00-04:00\",\"2024-06-07T10:55:00-04:00\",\"2024-06-07T10:56:00-04:00\",\"2024-06-07T10:57:00-04:00\",\"2024-06-07T10:58:00-04:00\",\"2024-06-07T10:59:00-04:00\",\"2024-06-07T11:00:00-04:00\",\"2024-06-07T11:01:00-04:00\",\"2024-06-07T11:02:00-04:00\",\"2024-06-07T11:03:00-04:00\",\"2024-06-07T11:04:00-04:00\",\"2024-06-07T11:05:00-04:00\",\"2024-06-07T11:06:00-04:00\",\"2024-06-07T11:07:00-04:00\",\"2024-06-07T11:08:00-04:00\",\"2024-06-07T11:09:00-04:00\",\"2024-06-07T11:10:00-04:00\",\"2024-06-07T11:11:00-04:00\",\"2024-06-07T11:12:00-04:00\",\"2024-06-07T11:13:00-04:00\",\"2024-06-07T11:14:00-04:00\",\"2024-06-07T11:15:00-04:00\",\"2024-06-07T11:16:00-04:00\",\"2024-06-07T11:17:00-04:00\",\"2024-06-07T11:18:00-04:00\",\"2024-06-07T11:19:00-04:00\",\"2024-06-07T11:20:00-04:00\",\"2024-06-07T11:21:00-04:00\",\"2024-06-07T11:22:00-04:00\",\"2024-06-07T11:23:00-04:00\",\"2024-06-07T11:24:00-04:00\",\"2024-06-07T11:25:00-04:00\",\"2024-06-07T11:26:00-04:00\",\"2024-06-07T11:27:00-04:00\",\"2024-06-07T11:28:00-04:00\",\"2024-06-07T11:29:00-04:00\",\"2024-06-07T11:30:00-04:00\",\"2024-06-07T11:31:00-04:00\",\"2024-06-07T11:32:00-04:00\",\"2024-06-07T11:33:00-04:00\",\"2024-06-07T11:34:00-04:00\",\"2024-06-07T11:35:00-04:00\",\"2024-06-07T11:36:00-04:00\",\"2024-06-07T11:37:00-04:00\",\"2024-06-07T11:38:00-04:00\",\"2024-06-07T11:39:00-04:00\",\"2024-06-07T11:40:00-04:00\",\"2024-06-07T11:41:00-04:00\",\"2024-06-07T11:42:00-04:00\",\"2024-06-07T11:43:00-04:00\",\"2024-06-07T11:44:00-04:00\",\"2024-06-07T11:45:00-04:00\",\"2024-06-07T11:46:00-04:00\",\"2024-06-07T11:47:00-04:00\",\"2024-06-07T11:48:00-04:00\",\"2024-06-07T11:49:00-04:00\",\"2024-06-07T11:50:00-04:00\",\"2024-06-07T11:51:00-04:00\",\"2024-06-07T11:52:00-04:00\",\"2024-06-07T11:53:00-04:00\",\"2024-06-07T11:54:00-04:00\",\"2024-06-07T11:55:00-04:00\",\"2024-06-07T11:56:00-04:00\",\"2024-06-07T11:57:00-04:00\",\"2024-06-07T11:58:00-04:00\",\"2024-06-07T11:59:00-04:00\",\"2024-06-07T12:00:00-04:00\",\"2024-06-07T12:01:00-04:00\",\"2024-06-07T12:02:00-04:00\",\"2024-06-07T12:03:00-04:00\",\"2024-06-07T12:04:00-04:00\",\"2024-06-07T12:05:00-04:00\",\"2024-06-07T12:06:00-04:00\",\"2024-06-07T12:07:00-04:00\",\"2024-06-07T12:08:00-04:00\",\"2024-06-07T12:09:00-04:00\",\"2024-06-07T12:10:00-04:00\",\"2024-06-07T12:11:00-04:00\",\"2024-06-07T12:12:00-04:00\",\"2024-06-07T12:13:00-04:00\",\"2024-06-07T12:14:00-04:00\",\"2024-06-07T12:15:00-04:00\",\"2024-06-07T12:16:00-04:00\",\"2024-06-07T12:17:00-04:00\",\"2024-06-07T12:18:00-04:00\",\"2024-06-07T12:19:00-04:00\",\"2024-06-07T12:20:00-04:00\",\"2024-06-07T12:21:00-04:00\",\"2024-06-07T12:22:00-04:00\",\"2024-06-07T12:23:00-04:00\",\"2024-06-07T12:24:00-04:00\",\"2024-06-07T12:25:00-04:00\",\"2024-06-07T12:26:00-04:00\",\"2024-06-07T12:27:00-04:00\",\"2024-06-07T12:28:00-04:00\",\"2024-06-07T12:29:00-04:00\",\"2024-06-07T12:30:00-04:00\",\"2024-06-07T12:31:00-04:00\",\"2024-06-07T12:32:00-04:00\",\"2024-06-07T12:33:00-04:00\",\"2024-06-07T12:34:00-04:00\",\"2024-06-07T12:35:00-04:00\",\"2024-06-07T12:36:00-04:00\",\"2024-06-07T12:37:00-04:00\",\"2024-06-07T12:38:00-04:00\",\"2024-06-07T12:39:00-04:00\",\"2024-06-07T12:40:00-04:00\",\"2024-06-07T12:41:00-04:00\",\"2024-06-07T12:42:00-04:00\",\"2024-06-07T12:43:00-04:00\",\"2024-06-07T12:44:00-04:00\",\"2024-06-07T12:45:00-04:00\",\"2024-06-07T12:46:00-04:00\",\"2024-06-07T12:47:00-04:00\",\"2024-06-07T12:48:00-04:00\",\"2024-06-07T12:49:00-04:00\",\"2024-06-07T12:50:00-04:00\",\"2024-06-07T12:51:00-04:00\",\"2024-06-07T12:52:00-04:00\",\"2024-06-07T12:53:00-04:00\",\"2024-06-07T12:54:00-04:00\",\"2024-06-07T12:55:00-04:00\",\"2024-06-07T12:56:00-04:00\",\"2024-06-07T12:57:00-04:00\",\"2024-06-07T12:58:00-04:00\",\"2024-06-07T12:59:00-04:00\",\"2024-06-07T13:00:00-04:00\",\"2024-06-07T13:01:00-04:00\",\"2024-06-07T13:02:00-04:00\",\"2024-06-07T13:03:00-04:00\",\"2024-06-07T13:04:00-04:00\",\"2024-06-07T13:05:00-04:00\",\"2024-06-07T13:06:00-04:00\",\"2024-06-07T13:07:00-04:00\",\"2024-06-07T13:08:00-04:00\",\"2024-06-07T13:09:00-04:00\",\"2024-06-07T13:10:00-04:00\",\"2024-06-07T13:11:00-04:00\",\"2024-06-07T13:12:00-04:00\",\"2024-06-07T13:13:00-04:00\",\"2024-06-07T13:14:00-04:00\",\"2024-06-07T13:15:00-04:00\",\"2024-06-07T13:16:00-04:00\",\"2024-06-07T13:17:00-04:00\",\"2024-06-07T13:18:00-04:00\",\"2024-06-07T13:19:00-04:00\",\"2024-06-07T13:20:00-04:00\",\"2024-06-07T13:21:00-04:00\",\"2024-06-07T13:22:00-04:00\",\"2024-06-07T13:23:00-04:00\",\"2024-06-07T13:24:00-04:00\",\"2024-06-07T13:25:00-04:00\",\"2024-06-07T13:26:00-04:00\",\"2024-06-07T13:27:00-04:00\",\"2024-06-07T13:28:00-04:00\",\"2024-06-07T13:29:00-04:00\",\"2024-06-07T13:30:00-04:00\",\"2024-06-07T13:31:00-04:00\",\"2024-06-07T13:32:00-04:00\",\"2024-06-07T13:33:00-04:00\",\"2024-06-07T13:34:00-04:00\",\"2024-06-07T13:35:00-04:00\",\"2024-06-07T13:36:00-04:00\",\"2024-06-07T13:37:00-04:00\",\"2024-06-07T13:38:00-04:00\",\"2024-06-07T13:39:00-04:00\",\"2024-06-07T13:40:00-04:00\",\"2024-06-07T13:41:00-04:00\",\"2024-06-07T13:42:00-04:00\",\"2024-06-07T13:43:00-04:00\",\"2024-06-07T13:44:00-04:00\",\"2024-06-07T13:45:00-04:00\",\"2024-06-07T13:46:00-04:00\",\"2024-06-07T13:47:00-04:00\",\"2024-06-07T13:48:00-04:00\",\"2024-06-07T13:49:00-04:00\",\"2024-06-07T13:50:00-04:00\",\"2024-06-07T13:51:00-04:00\",\"2024-06-07T13:52:00-04:00\",\"2024-06-07T13:53:00-04:00\",\"2024-06-07T13:54:00-04:00\",\"2024-06-07T13:55:00-04:00\",\"2024-06-07T13:56:00-04:00\",\"2024-06-07T13:57:00-04:00\",\"2024-06-07T13:58:00-04:00\",\"2024-06-07T13:59:00-04:00\",\"2024-06-07T14:00:00-04:00\",\"2024-06-07T14:01:00-04:00\",\"2024-06-07T14:02:00-04:00\",\"2024-06-07T14:03:00-04:00\",\"2024-06-07T14:04:00-04:00\",\"2024-06-07T14:05:00-04:00\",\"2024-06-07T14:06:00-04:00\",\"2024-06-07T14:07:00-04:00\",\"2024-06-07T14:08:00-04:00\",\"2024-06-07T14:09:00-04:00\",\"2024-06-07T14:10:00-04:00\",\"2024-06-07T14:11:00-04:00\",\"2024-06-07T14:12:00-04:00\",\"2024-06-07T14:13:00-04:00\",\"2024-06-07T14:14:00-04:00\",\"2024-06-07T14:15:00-04:00\",\"2024-06-07T14:16:00-04:00\",\"2024-06-07T14:17:00-04:00\",\"2024-06-07T14:18:00-04:00\",\"2024-06-07T14:19:00-04:00\",\"2024-06-07T14:20:00-04:00\",\"2024-06-07T14:21:00-04:00\",\"2024-06-07T14:22:00-04:00\",\"2024-06-07T14:23:00-04:00\",\"2024-06-07T14:24:00-04:00\",\"2024-06-07T14:25:00-04:00\",\"2024-06-07T14:26:00-04:00\",\"2024-06-07T14:27:00-04:00\",\"2024-06-07T14:28:00-04:00\",\"2024-06-07T14:29:00-04:00\",\"2024-06-07T14:30:00-04:00\",\"2024-06-07T14:31:00-04:00\",\"2024-06-07T14:32:00-04:00\",\"2024-06-07T14:33:00-04:00\",\"2024-06-07T14:34:00-04:00\",\"2024-06-07T14:35:00-04:00\",\"2024-06-07T14:36:00-04:00\",\"2024-06-07T14:37:00-04:00\",\"2024-06-07T14:38:00-04:00\",\"2024-06-07T14:39:00-04:00\",\"2024-06-07T14:40:00-04:00\",\"2024-06-07T14:41:00-04:00\",\"2024-06-07T14:42:00-04:00\",\"2024-06-07T14:43:00-04:00\",\"2024-06-07T14:44:00-04:00\",\"2024-06-07T14:45:00-04:00\",\"2024-06-07T14:46:00-04:00\",\"2024-06-07T14:47:00-04:00\",\"2024-06-07T14:48:00-04:00\",\"2024-06-07T14:49:00-04:00\",\"2024-06-07T14:50:00-04:00\",\"2024-06-07T14:51:00-04:00\",\"2024-06-07T14:52:00-04:00\",\"2024-06-07T14:53:00-04:00\",\"2024-06-07T14:54:00-04:00\",\"2024-06-07T14:55:00-04:00\",\"2024-06-07T14:56:00-04:00\",\"2024-06-07T14:57:00-04:00\",\"2024-06-07T14:58:00-04:00\",\"2024-06-07T14:59:00-04:00\",\"2024-06-07T15:00:00-04:00\",\"2024-06-07T15:01:00-04:00\",\"2024-06-07T15:02:00-04:00\",\"2024-06-07T15:03:00-04:00\",\"2024-06-07T15:04:00-04:00\",\"2024-06-07T15:05:00-04:00\",\"2024-06-07T15:06:00-04:00\",\"2024-06-07T15:07:00-04:00\",\"2024-06-07T15:08:00-04:00\",\"2024-06-07T15:09:00-04:00\",\"2024-06-07T15:10:00-04:00\",\"2024-06-07T15:11:00-04:00\",\"2024-06-07T15:12:00-04:00\",\"2024-06-07T15:13:00-04:00\",\"2024-06-07T15:14:00-04:00\",\"2024-06-07T15:15:00-04:00\",\"2024-06-07T15:16:00-04:00\",\"2024-06-07T15:17:00-04:00\",\"2024-06-07T15:18:00-04:00\",\"2024-06-07T15:19:00-04:00\",\"2024-06-07T15:20:00-04:00\",\"2024-06-07T15:21:00-04:00\",\"2024-06-07T15:22:00-04:00\",\"2024-06-07T15:23:00-04:00\",\"2024-06-07T15:24:00-04:00\",\"2024-06-07T15:25:00-04:00\",\"2024-06-07T15:26:00-04:00\",\"2024-06-07T15:27:00-04:00\",\"2024-06-07T15:28:00-04:00\",\"2024-06-07T15:29:00-04:00\",\"2024-06-07T15:30:00-04:00\",\"2024-06-07T15:31:00-04:00\",\"2024-06-07T15:32:00-04:00\",\"2024-06-07T15:33:00-04:00\",\"2024-06-07T15:34:00-04:00\",\"2024-06-07T15:35:00-04:00\",\"2024-06-07T15:36:00-04:00\",\"2024-06-07T15:37:00-04:00\",\"2024-06-07T15:38:00-04:00\",\"2024-06-07T15:39:00-04:00\",\"2024-06-07T15:40:00-04:00\",\"2024-06-07T15:41:00-04:00\",\"2024-06-07T15:42:00-04:00\",\"2024-06-07T15:43:00-04:00\",\"2024-06-07T15:44:00-04:00\",\"2024-06-07T15:45:00-04:00\",\"2024-06-07T15:46:00-04:00\",\"2024-06-07T15:47:00-04:00\",\"2024-06-07T15:48:00-04:00\",\"2024-06-07T15:49:00-04:00\",\"2024-06-07T15:50:00-04:00\",\"2024-06-07T15:51:00-04:00\",\"2024-06-07T15:52:00-04:00\",\"2024-06-07T15:53:00-04:00\",\"2024-06-07T15:54:00-04:00\",\"2024-06-07T15:55:00-04:00\",\"2024-06-07T15:56:00-04:00\",\"2024-06-07T15:57:00-04:00\",\"2024-06-07T15:58:00-04:00\",\"2024-06-07T15:59:00-04:00\"],\"xaxis\":\"x\",\"y\":[195.5,195.5,195.60666910807294,195.32500457763672,195.31904272460937,195.22606668354558,195.12343192269333,195.03654158860445,195.0023878434825,194.943720765586,194.85995521382546,194.77955744377755,194.7564204646028,194.74445013126763,194.74552702798553,194.74842027264623,194.74331235391358,194.72836705468308,194.71858434947086,194.72628716882576,194.7302809341145,194.73783845425106,194.74737686048206,194.74353020501292,194.74258820827933,194.75040225928916,194.65381467863477,194.66957069284362,194.62616272852148,194.59544693070217,194.58598982164676,194.6186022104392,194.60625693141168,194.58821682964836,194.57635054223508,194.6256251486852,194.64179406068607,194.67154123144914,194.69281278312144,194.70503036468853,194.7110426687448,194.7204052798145,194.75960211939838,194.7721222324897,194.79671140442838,194.80718077623564,194.80006916699412,194.82093076231487,194.8397394833956,194.85251775266707,194.86560596172058,194.87412700405935,194.8884817842017,194.91931951933304,194.95515627675667,194.95562398702103,194.963930047356,194.94252885011795,194.95674038865025,194.93996703317333,194.94579024386863,194.93673400375908,194.9346517942187,194.92880988150074,194.91169309216227,194.94183252802256,194.9638243488402,194.983613125696,194.98269133589588,195.0098783635133,195.03852143756717,195.0798541094057,195.1116593988354,195.15336370948623,195.1852420905003,195.228960361877,195.2790654881301,195.31669779146958,195.3650363200196,195.3961724182737,195.4130857452015,195.44130689636467,195.46607040426292,195.4835296285846,195.50414262101918,195.5377036794346,195.56434316318277,195.59098898036345,195.60060791912537,195.62195191787225,195.61380921782194,195.6040138377077,195.57852183275338,195.5763141420747,195.57141082307936,195.56099493701257,195.55880949399918,195.51317698910603,195.46566773546837,195.45557331280412,195.44160781034793,195.42098801521405,195.40434241478812,195.36654694982943,195.35622928269214,195.347303685791,195.32778106871723,195.32296457441268,195.32414125807642,195.31128120286368,195.29109977040272,195.2605580300737,195.24485863495553,195.2428288458688,195.20736888028608,195.20878029679767,195.22784276891366,195.23824933145116,195.25058162404963,195.26628761401759,195.27971448877744,195.29090845833122,195.35169283502896,195.39187284610628,195.4170043360921,195.46255393408245,195.49415738024126,195.5195756865056,195.54912841156707,195.56218974299065,195.58035907841727,195.6091574111172,195.6293499373495,195.6437214177203,195.63547231396097,195.64811996871296,195.65898100247392,195.68735321789396,195.70779079518664,195.7459444482555,195.76188323041083,195.75857470753903,195.75983123196852,195.7874487187955,195.7959158231708,195.8066300805002,195.82244828025688,195.8365175002233,195.84294665509222,195.8334683538207,195.83626748725786,195.83162801020745,195.8386085443467,195.8468299521611,195.8584219758549,195.85366542953838,195.8419292073527,195.85113669772682,195.8627840382483,195.88449035014537,195.91714570411935,195.92359487142974,195.94208685727,195.9340080021161,195.93821041840715,195.9322578804164,195.9173350743146,195.90073178646887,195.8891575085233,195.87813480389104,195.86727812308592,195.84720361192834,195.83139997103203,195.8204290118331,195.8324778209315,195.8308528323274,195.8422247732221,195.8438195342921,195.84326560065426,195.84116622839238,195.86630408042515,195.88918050473137,195.92618126611592,195.93145478113385,195.94039655244484,195.94778594485786,195.96214224562934,195.96248773593402,195.94198520897757,195.94459879617668,195.929665608955,195.92000706987602,195.9059511656361,195.90565582312541,195.8966231924727,195.8950745760963,195.90218152577435,195.91543417369968,195.91138676767423,195.89429556380136,195.87439297135217,195.88245646055452,195.8913625671556,195.9185038929259,195.94677565578056,195.95994933555968,195.98300229671875,196.02040955259537,196.04242510212,196.06278410212352,196.07761538543903,196.08443360727728,196.09890695423096,196.09762887022427,196.10883776103807,196.10796516365875,196.12531459484282,196.12551064152024,196.12866925308924,196.13725879405902,196.12266326423733,196.1203672683658,196.12391048612633,196.14591392510368,196.1756907013918,196.18080780036962,196.20065672710692,196.203288151048,196.21869030981807,196.2362166464181,196.25369323802386,196.25324462432445,196.243191295862,196.25554443667224,196.26058828826197,196.27463923652115,196.28799130054418,196.30382653279565,196.3090650715222,196.3108080718922,196.30866068672083,196.31252345660286,196.32084733396186,196.31772411372535,196.3343121242056,196.34307892045405,196.35143923277622,196.36303482028185,196.35621398134606,196.3588487544029,196.35596654524778,196.3395103299025,196.32998363097025,196.32691717397174,196.3248189922194,196.3250392687222,196.31761702444902,196.3239728483644,196.32961416634555,196.32450084497802,196.31391966396396,196.30974798865975,196.30705675622968,196.3084370235659,196.31569219496166,196.326509931923,196.32590226861757,196.3332499713891,196.34732142555387,196.3594683875168,196.3731389032232,196.361150298833,196.36158539231315,196.3643138507498,196.35192622265384,196.34877699946196,196.33281940319898,196.3262732130304,196.30792254564034,196.26902750980273,196.25493914043471,196.2473311905861,196.23492563317558,196.21799105938172,196.19888537860834,196.18447205687445,196.16183082538848,196.14291146715888,196.11089893373745,196.09148580887663,196.08182710159394,196.0812007060706,196.08324228820163,196.06649987275676,196.03902741802256,196.02786348307296,196.01779939770773,196.01535467107936,196.0088766553917,195.98712428755906,195.9777952071558,195.94891015463264,195.92207291288418,195.90481712238744,195.89519084961861,195.88262956949563,195.8637144690011,195.83632775079005,195.80892435563484,195.79061174160324,195.79377585887937,195.77505279375083,195.7720567217612,195.76251080649533,195.77923158425122,195.77652411630913,195.77274689718269,195.77885835337884,195.77305908714683,195.77776766131694,195.7818783352886,195.78442153132488,195.77755308286655,195.7590298609428,195.7534386213003,195.76267526673044,195.73454084835194,195.7526199540354,195.75106652153465,195.76522025222678,195.77077508479405,195.78510487209908,195.78990510580786,195.80255283538597,195.8118195498461,195.81459875867097,195.81247922887178,195.81863907902053,195.83731304091393,195.8425768079884,195.84772165768925,195.8624157861288,195.85871519222096,195.85593470031384,195.84980487860767,195.85406723600533,195.85651455401094,195.88191582769971,195.8985916717093,195.90042251523104,195.90550568023056,195.9208713634894,195.93322949463357,195.94204798094628,195.95649822777617,195.9643437047493,195.974204848161,195.98273666639992,196.0081958488558,196.02357132073337,196.05913095593252,196.08895742426108,196.11654449103634,196.1396452317755,196.1702799950513,196.1892564723357,196.2218527546356,196.23304276496896,196.25056516440836,196.2691689080877,196.31473875703804,196.332121879566,196.34255890779357,196.39015672388322,196.42932136146806,196.46207921561052,196.483485672904,196.50396606257826,196.5089170324919,196.51294852655525,196.53053331543626,196.54763717275043,196.5660748078154,196.57200768441993,196.5501905127997,196.56529247737757,196.5868394857042,196.59735835151793,196.62523764239032,196.65066738932586],\"yaxis\":\"y\",\"type\":\"scatter\"},{\"hovertemplate\":\"variable=EMA_12<br>Datetime=%{x}<br>value=%{y}<extra></extra>\",\"legendgroup\":\"EMA_12\",\"line\":{\"color\":\"#44fcd1\",\"dash\":\"solid\"},\"marker\":{\"symbol\":\"circle\"},\"mode\":\"lines\",\"name\":\"EMA_12\",\"orientation\":\"v\",\"showlegend\":true,\"x\":[\"2024-06-07T09:30:00-04:00\",\"2024-06-07T09:31:00-04:00\",\"2024-06-07T09:32:00-04:00\",\"2024-06-07T09:33:00-04:00\",\"2024-06-07T09:34:00-04:00\",\"2024-06-07T09:35:00-04:00\",\"2024-06-07T09:36:00-04:00\",\"2024-06-07T09:37:00-04:00\",\"2024-06-07T09:38:00-04:00\",\"2024-06-07T09:39:00-04:00\",\"2024-06-07T09:40:00-04:00\",\"2024-06-07T09:41:00-04:00\",\"2024-06-07T09:42:00-04:00\",\"2024-06-07T09:43:00-04:00\",\"2024-06-07T09:44:00-04:00\",\"2024-06-07T09:45:00-04:00\",\"2024-06-07T09:46:00-04:00\",\"2024-06-07T09:47:00-04:00\",\"2024-06-07T09:48:00-04:00\",\"2024-06-07T09:49:00-04:00\",\"2024-06-07T09:50:00-04:00\",\"2024-06-07T09:51:00-04:00\",\"2024-06-07T09:52:00-04:00\",\"2024-06-07T09:53:00-04:00\",\"2024-06-07T09:54:00-04:00\",\"2024-06-07T09:55:00-04:00\",\"2024-06-07T09:56:00-04:00\",\"2024-06-07T09:57:00-04:00\",\"2024-06-07T09:58:00-04:00\",\"2024-06-07T09:59:00-04:00\",\"2024-06-07T10:00:00-04:00\",\"2024-06-07T10:01:00-04:00\",\"2024-06-07T10:02:00-04:00\",\"2024-06-07T10:03:00-04:00\",\"2024-06-07T10:04:00-04:00\",\"2024-06-07T10:05:00-04:00\",\"2024-06-07T10:06:00-04:00\",\"2024-06-07T10:07:00-04:00\",\"2024-06-07T10:08:00-04:00\",\"2024-06-07T10:09:00-04:00\",\"2024-06-07T10:10:00-04:00\",\"2024-06-07T10:11:00-04:00\",\"2024-06-07T10:12:00-04:00\",\"2024-06-07T10:13:00-04:00\",\"2024-06-07T10:14:00-04:00\",\"2024-06-07T10:15:00-04:00\",\"2024-06-07T10:16:00-04:00\",\"2024-06-07T10:17:00-04:00\",\"2024-06-07T10:18:00-04:00\",\"2024-06-07T10:19:00-04:00\",\"2024-06-07T10:20:00-04:00\",\"2024-06-07T10:21:00-04:00\",\"2024-06-07T10:22:00-04:00\",\"2024-06-07T10:23:00-04:00\",\"2024-06-07T10:24:00-04:00\",\"2024-06-07T10:25:00-04:00\",\"2024-06-07T10:26:00-04:00\",\"2024-06-07T10:27:00-04:00\",\"2024-06-07T10:28:00-04:00\",\"2024-06-07T10:29:00-04:00\",\"2024-06-07T10:30:00-04:00\",\"2024-06-07T10:31:00-04:00\",\"2024-06-07T10:32:00-04:00\",\"2024-06-07T10:33:00-04:00\",\"2024-06-07T10:34:00-04:00\",\"2024-06-07T10:35:00-04:00\",\"2024-06-07T10:36:00-04:00\",\"2024-06-07T10:37:00-04:00\",\"2024-06-07T10:38:00-04:00\",\"2024-06-07T10:39:00-04:00\",\"2024-06-07T10:40:00-04:00\",\"2024-06-07T10:41:00-04:00\",\"2024-06-07T10:42:00-04:00\",\"2024-06-07T10:43:00-04:00\",\"2024-06-07T10:44:00-04:00\",\"2024-06-07T10:45:00-04:00\",\"2024-06-07T10:46:00-04:00\",\"2024-06-07T10:47:00-04:00\",\"2024-06-07T10:48:00-04:00\",\"2024-06-07T10:49:00-04:00\",\"2024-06-07T10:50:00-04:00\",\"2024-06-07T10:51:00-04:00\",\"2024-06-07T10:52:00-04:00\",\"2024-06-07T10:53:00-04:00\",\"2024-06-07T10:54:00-04:00\",\"2024-06-07T10:55:00-04:00\",\"2024-06-07T10:56:00-04:00\",\"2024-06-07T10:57:00-04:00\",\"2024-06-07T10:58:00-04:00\",\"2024-06-07T10:59:00-04:00\",\"2024-06-07T11:00:00-04:00\",\"2024-06-07T11:01:00-04:00\",\"2024-06-07T11:02:00-04:00\",\"2024-06-07T11:03:00-04:00\",\"2024-06-07T11:04:00-04:00\",\"2024-06-07T11:05:00-04:00\",\"2024-06-07T11:06:00-04:00\",\"2024-06-07T11:07:00-04:00\",\"2024-06-07T11:08:00-04:00\",\"2024-06-07T11:09:00-04:00\",\"2024-06-07T11:10:00-04:00\",\"2024-06-07T11:11:00-04:00\",\"2024-06-07T11:12:00-04:00\",\"2024-06-07T11:13:00-04:00\",\"2024-06-07T11:14:00-04:00\",\"2024-06-07T11:15:00-04:00\",\"2024-06-07T11:16:00-04:00\",\"2024-06-07T11:17:00-04:00\",\"2024-06-07T11:18:00-04:00\",\"2024-06-07T11:19:00-04:00\",\"2024-06-07T11:20:00-04:00\",\"2024-06-07T11:21:00-04:00\",\"2024-06-07T11:22:00-04:00\",\"2024-06-07T11:23:00-04:00\",\"2024-06-07T11:24:00-04:00\",\"2024-06-07T11:25:00-04:00\",\"2024-06-07T11:26:00-04:00\",\"2024-06-07T11:27:00-04:00\",\"2024-06-07T11:28:00-04:00\",\"2024-06-07T11:29:00-04:00\",\"2024-06-07T11:30:00-04:00\",\"2024-06-07T11:31:00-04:00\",\"2024-06-07T11:32:00-04:00\",\"2024-06-07T11:33:00-04:00\",\"2024-06-07T11:34:00-04:00\",\"2024-06-07T11:35:00-04:00\",\"2024-06-07T11:36:00-04:00\",\"2024-06-07T11:37:00-04:00\",\"2024-06-07T11:38:00-04:00\",\"2024-06-07T11:39:00-04:00\",\"2024-06-07T11:40:00-04:00\",\"2024-06-07T11:41:00-04:00\",\"2024-06-07T11:42:00-04:00\",\"2024-06-07T11:43:00-04:00\",\"2024-06-07T11:44:00-04:00\",\"2024-06-07T11:45:00-04:00\",\"2024-06-07T11:46:00-04:00\",\"2024-06-07T11:47:00-04:00\",\"2024-06-07T11:48:00-04:00\",\"2024-06-07T11:49:00-04:00\",\"2024-06-07T11:50:00-04:00\",\"2024-06-07T11:51:00-04:00\",\"2024-06-07T11:52:00-04:00\",\"2024-06-07T11:53:00-04:00\",\"2024-06-07T11:54:00-04:00\",\"2024-06-07T11:55:00-04:00\",\"2024-06-07T11:56:00-04:00\",\"2024-06-07T11:57:00-04:00\",\"2024-06-07T11:58:00-04:00\",\"2024-06-07T11:59:00-04:00\",\"2024-06-07T12:00:00-04:00\",\"2024-06-07T12:01:00-04:00\",\"2024-06-07T12:02:00-04:00\",\"2024-06-07T12:03:00-04:00\",\"2024-06-07T12:04:00-04:00\",\"2024-06-07T12:05:00-04:00\",\"2024-06-07T12:06:00-04:00\",\"2024-06-07T12:07:00-04:00\",\"2024-06-07T12:08:00-04:00\",\"2024-06-07T12:09:00-04:00\",\"2024-06-07T12:10:00-04:00\",\"2024-06-07T12:11:00-04:00\",\"2024-06-07T12:12:00-04:00\",\"2024-06-07T12:13:00-04:00\",\"2024-06-07T12:14:00-04:00\",\"2024-06-07T12:15:00-04:00\",\"2024-06-07T12:16:00-04:00\",\"2024-06-07T12:17:00-04:00\",\"2024-06-07T12:18:00-04:00\",\"2024-06-07T12:19:00-04:00\",\"2024-06-07T12:20:00-04:00\",\"2024-06-07T12:21:00-04:00\",\"2024-06-07T12:22:00-04:00\",\"2024-06-07T12:23:00-04:00\",\"2024-06-07T12:24:00-04:00\",\"2024-06-07T12:25:00-04:00\",\"2024-06-07T12:26:00-04:00\",\"2024-06-07T12:27:00-04:00\",\"2024-06-07T12:28:00-04:00\",\"2024-06-07T12:29:00-04:00\",\"2024-06-07T12:30:00-04:00\",\"2024-06-07T12:31:00-04:00\",\"2024-06-07T12:32:00-04:00\",\"2024-06-07T12:33:00-04:00\",\"2024-06-07T12:34:00-04:00\",\"2024-06-07T12:35:00-04:00\",\"2024-06-07T12:36:00-04:00\",\"2024-06-07T12:37:00-04:00\",\"2024-06-07T12:38:00-04:00\",\"2024-06-07T12:39:00-04:00\",\"2024-06-07T12:40:00-04:00\",\"2024-06-07T12:41:00-04:00\",\"2024-06-07T12:42:00-04:00\",\"2024-06-07T12:43:00-04:00\",\"2024-06-07T12:44:00-04:00\",\"2024-06-07T12:45:00-04:00\",\"2024-06-07T12:46:00-04:00\",\"2024-06-07T12:47:00-04:00\",\"2024-06-07T12:48:00-04:00\",\"2024-06-07T12:49:00-04:00\",\"2024-06-07T12:50:00-04:00\",\"2024-06-07T12:51:00-04:00\",\"2024-06-07T12:52:00-04:00\",\"2024-06-07T12:53:00-04:00\",\"2024-06-07T12:54:00-04:00\",\"2024-06-07T12:55:00-04:00\",\"2024-06-07T12:56:00-04:00\",\"2024-06-07T12:57:00-04:00\",\"2024-06-07T12:58:00-04:00\",\"2024-06-07T12:59:00-04:00\",\"2024-06-07T13:00:00-04:00\",\"2024-06-07T13:01:00-04:00\",\"2024-06-07T13:02:00-04:00\",\"2024-06-07T13:03:00-04:00\",\"2024-06-07T13:04:00-04:00\",\"2024-06-07T13:05:00-04:00\",\"2024-06-07T13:06:00-04:00\",\"2024-06-07T13:07:00-04:00\",\"2024-06-07T13:08:00-04:00\",\"2024-06-07T13:09:00-04:00\",\"2024-06-07T13:10:00-04:00\",\"2024-06-07T13:11:00-04:00\",\"2024-06-07T13:12:00-04:00\",\"2024-06-07T13:13:00-04:00\",\"2024-06-07T13:14:00-04:00\",\"2024-06-07T13:15:00-04:00\",\"2024-06-07T13:16:00-04:00\",\"2024-06-07T13:17:00-04:00\",\"2024-06-07T13:18:00-04:00\",\"2024-06-07T13:19:00-04:00\",\"2024-06-07T13:20:00-04:00\",\"2024-06-07T13:21:00-04:00\",\"2024-06-07T13:22:00-04:00\",\"2024-06-07T13:23:00-04:00\",\"2024-06-07T13:24:00-04:00\",\"2024-06-07T13:25:00-04:00\",\"2024-06-07T13:26:00-04:00\",\"2024-06-07T13:27:00-04:00\",\"2024-06-07T13:28:00-04:00\",\"2024-06-07T13:29:00-04:00\",\"2024-06-07T13:30:00-04:00\",\"2024-06-07T13:31:00-04:00\",\"2024-06-07T13:32:00-04:00\",\"2024-06-07T13:33:00-04:00\",\"2024-06-07T13:34:00-04:00\",\"2024-06-07T13:35:00-04:00\",\"2024-06-07T13:36:00-04:00\",\"2024-06-07T13:37:00-04:00\",\"2024-06-07T13:38:00-04:00\",\"2024-06-07T13:39:00-04:00\",\"2024-06-07T13:40:00-04:00\",\"2024-06-07T13:41:00-04:00\",\"2024-06-07T13:42:00-04:00\",\"2024-06-07T13:43:00-04:00\",\"2024-06-07T13:44:00-04:00\",\"2024-06-07T13:45:00-04:00\",\"2024-06-07T13:46:00-04:00\",\"2024-06-07T13:47:00-04:00\",\"2024-06-07T13:48:00-04:00\",\"2024-06-07T13:49:00-04:00\",\"2024-06-07T13:50:00-04:00\",\"2024-06-07T13:51:00-04:00\",\"2024-06-07T13:52:00-04:00\",\"2024-06-07T13:53:00-04:00\",\"2024-06-07T13:54:00-04:00\",\"2024-06-07T13:55:00-04:00\",\"2024-06-07T13:56:00-04:00\",\"2024-06-07T13:57:00-04:00\",\"2024-06-07T13:58:00-04:00\",\"2024-06-07T13:59:00-04:00\",\"2024-06-07T14:00:00-04:00\",\"2024-06-07T14:01:00-04:00\",\"2024-06-07T14:02:00-04:00\",\"2024-06-07T14:03:00-04:00\",\"2024-06-07T14:04:00-04:00\",\"2024-06-07T14:05:00-04:00\",\"2024-06-07T14:06:00-04:00\",\"2024-06-07T14:07:00-04:00\",\"2024-06-07T14:08:00-04:00\",\"2024-06-07T14:09:00-04:00\",\"2024-06-07T14:10:00-04:00\",\"2024-06-07T14:11:00-04:00\",\"2024-06-07T14:12:00-04:00\",\"2024-06-07T14:13:00-04:00\",\"2024-06-07T14:14:00-04:00\",\"2024-06-07T14:15:00-04:00\",\"2024-06-07T14:16:00-04:00\",\"2024-06-07T14:17:00-04:00\",\"2024-06-07T14:18:00-04:00\",\"2024-06-07T14:19:00-04:00\",\"2024-06-07T14:20:00-04:00\",\"2024-06-07T14:21:00-04:00\",\"2024-06-07T14:22:00-04:00\",\"2024-06-07T14:23:00-04:00\",\"2024-06-07T14:24:00-04:00\",\"2024-06-07T14:25:00-04:00\",\"2024-06-07T14:26:00-04:00\",\"2024-06-07T14:27:00-04:00\",\"2024-06-07T14:28:00-04:00\",\"2024-06-07T14:29:00-04:00\",\"2024-06-07T14:30:00-04:00\",\"2024-06-07T14:31:00-04:00\",\"2024-06-07T14:32:00-04:00\",\"2024-06-07T14:33:00-04:00\",\"2024-06-07T14:34:00-04:00\",\"2024-06-07T14:35:00-04:00\",\"2024-06-07T14:36:00-04:00\",\"2024-06-07T14:37:00-04:00\",\"2024-06-07T14:38:00-04:00\",\"2024-06-07T14:39:00-04:00\",\"2024-06-07T14:40:00-04:00\",\"2024-06-07T14:41:00-04:00\",\"2024-06-07T14:42:00-04:00\",\"2024-06-07T14:43:00-04:00\",\"2024-06-07T14:44:00-04:00\",\"2024-06-07T14:45:00-04:00\",\"2024-06-07T14:46:00-04:00\",\"2024-06-07T14:47:00-04:00\",\"2024-06-07T14:48:00-04:00\",\"2024-06-07T14:49:00-04:00\",\"2024-06-07T14:50:00-04:00\",\"2024-06-07T14:51:00-04:00\",\"2024-06-07T14:52:00-04:00\",\"2024-06-07T14:53:00-04:00\",\"2024-06-07T14:54:00-04:00\",\"2024-06-07T14:55:00-04:00\",\"2024-06-07T14:56:00-04:00\",\"2024-06-07T14:57:00-04:00\",\"2024-06-07T14:58:00-04:00\",\"2024-06-07T14:59:00-04:00\",\"2024-06-07T15:00:00-04:00\",\"2024-06-07T15:01:00-04:00\",\"2024-06-07T15:02:00-04:00\",\"2024-06-07T15:03:00-04:00\",\"2024-06-07T15:04:00-04:00\",\"2024-06-07T15:05:00-04:00\",\"2024-06-07T15:06:00-04:00\",\"2024-06-07T15:07:00-04:00\",\"2024-06-07T15:08:00-04:00\",\"2024-06-07T15:09:00-04:00\",\"2024-06-07T15:10:00-04:00\",\"2024-06-07T15:11:00-04:00\",\"2024-06-07T15:12:00-04:00\",\"2024-06-07T15:13:00-04:00\",\"2024-06-07T15:14:00-04:00\",\"2024-06-07T15:15:00-04:00\",\"2024-06-07T15:16:00-04:00\",\"2024-06-07T15:17:00-04:00\",\"2024-06-07T15:18:00-04:00\",\"2024-06-07T15:19:00-04:00\",\"2024-06-07T15:20:00-04:00\",\"2024-06-07T15:21:00-04:00\",\"2024-06-07T15:22:00-04:00\",\"2024-06-07T15:23:00-04:00\",\"2024-06-07T15:24:00-04:00\",\"2024-06-07T15:25:00-04:00\",\"2024-06-07T15:26:00-04:00\",\"2024-06-07T15:27:00-04:00\",\"2024-06-07T15:28:00-04:00\",\"2024-06-07T15:29:00-04:00\",\"2024-06-07T15:30:00-04:00\",\"2024-06-07T15:31:00-04:00\",\"2024-06-07T15:32:00-04:00\",\"2024-06-07T15:33:00-04:00\",\"2024-06-07T15:34:00-04:00\",\"2024-06-07T15:35:00-04:00\",\"2024-06-07T15:36:00-04:00\",\"2024-06-07T15:37:00-04:00\",\"2024-06-07T15:38:00-04:00\",\"2024-06-07T15:39:00-04:00\",\"2024-06-07T15:40:00-04:00\",\"2024-06-07T15:41:00-04:00\",\"2024-06-07T15:42:00-04:00\",\"2024-06-07T15:43:00-04:00\",\"2024-06-07T15:44:00-04:00\",\"2024-06-07T15:45:00-04:00\",\"2024-06-07T15:46:00-04:00\",\"2024-06-07T15:47:00-04:00\",\"2024-06-07T15:48:00-04:00\",\"2024-06-07T15:49:00-04:00\",\"2024-06-07T15:50:00-04:00\",\"2024-06-07T15:51:00-04:00\",\"2024-06-07T15:52:00-04:00\",\"2024-06-07T15:53:00-04:00\",\"2024-06-07T15:54:00-04:00\",\"2024-06-07T15:55:00-04:00\",\"2024-06-07T15:56:00-04:00\",\"2024-06-07T15:57:00-04:00\",\"2024-06-07T15:58:00-04:00\",\"2024-06-07T15:59:00-04:00\"],\"xaxis\":\"x\",\"y\":[195.5,195.5,195.60666910807294,195.32500457763672,195.31904272460937,195.22606668354558,195.12343192269333,195.03654158860445,195.0023878434825,194.943720765586,194.85995521382546,194.77955744377755,194.7564204646028,194.73621726807949,194.631169535912,194.6495822881263,194.59781559002502,194.54748349424517,194.51939889410855,194.54786624771822,194.53385114500514,194.52092866836352,194.53093827179146,194.5662701266133,194.5761175681567,194.58661214574093,194.5828068804939,194.57022887955927,194.55654981534715,194.56343218841792,194.60291827521996,194.6382370603805,194.66370476469498,194.68795306983426,194.66476541831946,194.69039223798075,194.69685560317566,194.71946372174114,194.74784886907113,194.7791745541229,194.80588724831546,194.81645143566234,194.85836137801027,194.86031982976485,194.88458274254828,194.8637733264647,194.8973539866988,194.90727536789854,194.9515505367197,194.97009272113624,194.9806066433676,194.97562819236109,194.96288194181355,195.00535584255582,195.01817384364554,195.03885150897486,195.0169971704994,195.01333401410758,194.99945978768167,194.9857038013176,194.9532846733723,194.92132024734747,194.9014123373882,194.90591394090623,194.9265503744788,194.9390845616451,194.98368325269905,194.99374726252626,195.01136478191796,195.02982456705462,195.06282766724834,195.11373591261156,195.17738922516259,195.2667461900922,195.32744083987376,195.38428531088803,195.44401778976842,195.52042008256439,195.56467690188637,195.62812475414003,195.6471151184296,195.6897023414154,195.72774247074003,195.74569755355407,195.77361653618715,195.7737092061843,195.77679093098396,195.7835584955708,195.76650362362793,195.74768553897684,195.73698875223445,195.66406648075153,195.62112046539173,195.57892764870584,195.5212983189618,195.48186993396152,195.45443996699385,195.40081057947836,195.3210606376395,195.27915712834104,195.25678476325368,195.23324559816578,195.1823058823446,195.17465899362844,195.175302667703,195.1777489575874,195.18039746842547,195.1847611641923,195.17459481472105,195.1584890950743,195.19275682759212,195.1797685523286,195.1563334258145,195.16113264038285,195.1755787988174,195.1926657910748,195.2426491984415,195.27838979211688,195.30228979441134,195.3239569228403,195.36882912031672,195.42066380475384,195.45421210033766,195.51447794022874,195.57263554391182,195.63214181663233,195.66422512781276,195.70483302563048,195.71794344616856,195.72075668649518,195.73505813018375,195.7883352285892,195.81032880473362,195.81420299719153,195.81654676425018,195.81411354702414,195.80561269265237,195.8027202976819,195.8098992506596,195.8179203798398,195.82478360944393,195.82982097559938,195.83918147401994,195.82462989675176,195.80468129760658,195.80520772020054,195.8160551687177,195.8306859787806,195.85749859739082,195.85836187030503,195.86975465518535,195.85932089891855,195.85221347008167,195.85302863816798,195.84934817164105,195.8520818769013,195.85957976349852,195.8861874216083,195.90984209647368,195.94426106860243,195.9646777805091,195.97289791437387,195.98543665830144,195.98204389568434,195.9870661605057,195.96627133998803,195.94434553744992,195.9087695814983,195.88954828118474,195.85606268293637,195.84787413373175,195.8092276221414,195.78182751044056,195.77148656055388,195.79385615246306,195.8133561834091,195.8098443968836,195.8093709603288,195.79888413623348,195.79914544097488,195.81908228455077,195.86720787253336,195.90042169698256,195.93372593079891,195.9718822984855,196.0090983583993,196.0295328877031,196.02815824828005,196.0060141685841,196.00510330019935,195.99316525805762,195.992015714269,195.98258483122166,195.9630515247287,195.94200598735247,195.9299761633809,195.91516194445927,195.8987935829156,195.87094569287345,195.84305601937876,195.84460583044495,195.85254422314668,195.86570799155197,195.8798298295702,195.90861148530445,195.9377510920192,195.98809698396215,196.05675969915495,196.09648050980977,196.11865249584548,196.14760963045399,196.17836913491178,196.20603848869635,196.2084736684251,196.22975490343222,196.2293258958781,196.24192693030488,196.2504064727006,196.25477862399995,196.23884946945253,196.201805268608,196.20230132242978,196.1923250062329,196.19542783040785,196.20930216646804,196.22393256391956,196.23159465330446,196.23401866045137,196.22427700597373,196.2187288764721,196.22056008003042,196.21796638053465,196.24213189340716,196.25834507223786,196.28860217771916,196.32459184797403,196.34051807332258,196.35590698954314,196.36280317696367,196.35784034878586,196.355815067629,196.36300217765032,196.37658183625706,196.38558752251427,196.38961876123682,196.40489217263928,196.40779914829497,196.40313597897403,196.3849451685495,196.37785307142224,196.37106547635963,196.35070655427538,196.33594087615614,196.32613268893357,196.3110654334049,196.3018332554326,196.28734996286477,196.2767804373242,196.28391129496845,196.27620682568528,196.27505895849066,196.27443021211238,196.26968933232712,196.28387044221245,196.29615690999697,196.3085129814759,196.317933078745,196.32651453783598,196.35676732368498,196.39525221800494,196.4107230770008,196.3960603810409,196.38686857214734,196.39148589320854,196.39467286347534,196.3879600132802,196.35368194153014,196.3315382669011,196.30280940433613,196.25238240227065,196.2236569968584,196.19087941141916,196.15755701040626,196.14712195130127,196.1246247008158,196.09035774966182,196.0444427139393,196.0036424416876,195.97389203069883,195.93862729743796,195.9054722936632,195.92908074791353,195.94364961117722,195.95270824975228,195.9549815783442,195.93507294280025,195.91437768443558,195.91100781152946,195.9337201270498,195.92717864599504,195.9237706337945,195.90722740393664,195.92007032742572,195.86804134141707,195.83814729526148,195.8118852840083,195.7801430658566,195.76377610630954,195.75944916829653,195.7533135533221,195.7418377409854,195.72374608664913,195.7087434422324,195.70528607711134,195.67146761319162,195.70249971546616,195.70590887356732,195.72466398494987,195.74192685651107,195.75855870795715,195.7571397452009,195.75633718955442,195.75454773420617,195.74283090425953,195.74621909815733,195.76268152552237,195.78439170140376,195.78544711190682,195.79518563622503,195.8124713693897,195.81506830212683,195.81934907732537,195.82540731158292,195.83938134196865,195.84514820262424,195.86412906547224,195.86103931091793,195.85593247441466,195.85934428773268,195.87406305236857,195.8785353278606,195.88712603851513,195.88831049228725,195.8904717580484,195.8865581461269,195.886987506842,195.89419336458866,195.9068933420977,195.92580250731086,195.9338918335119,195.94771013498874,195.95632886383058,195.97612767565337,195.9778186996201,195.9976349208636,195.99626309550004,196.01203877203395,196.0303786851924,196.08716240599557,196.12567058599248,196.1598081462151,196.1943343035822,196.22918078095213,196.26676979574347,196.29370803911164,196.3321646207968,196.3617306018451,196.37588417397703,196.38037440553495,196.41427045339037,196.4548747896931,196.48900933360366,196.49344742640318,196.55023179143012,196.60227707562404,196.63333048519954,196.65809682885867,196.6650425237603,196.6487794790139,196.61856712367836,196.63188232696905,196.6273676405785,196.62535428328673,196.61566387364783,196.6214393919902,196.62221525629562,196.63568940367225,196.64192671844543,196.66354258545545,196.6881882179514],\"yaxis\":\"y\",\"type\":\"scatter\"}],                        {\"template\":{\"data\":{\"histogram2dcontour\":[{\"type\":\"histogram2dcontour\",\"colorbar\":{\"outlinewidth\":0,\"ticks\":\"\"},\"colorscale\":[[0.0,\"#0d0887\"],[0.1111111111111111,\"#46039f\"],[0.2222222222222222,\"#7201a8\"],[0.3333333333333333,\"#9c179e\"],[0.4444444444444444,\"#bd3786\"],[0.5555555555555556,\"#d8576b\"],[0.6666666666666666,\"#ed7953\"],[0.7777777777777778,\"#fb9f3a\"],[0.8888888888888888,\"#fdca26\"],[1.0,\"#f0f921\"]]}],\"choropleth\":[{\"type\":\"choropleth\",\"colorbar\":{\"outlinewidth\":0,\"ticks\":\"\"}}],\"histogram2d\":[{\"type\":\"histogram2d\",\"colorbar\":{\"outlinewidth\":0,\"ticks\":\"\"},\"colorscale\":[[0.0,\"#0d0887\"],[0.1111111111111111,\"#46039f\"],[0.2222222222222222,\"#7201a8\"],[0.3333333333333333,\"#9c179e\"],[0.4444444444444444,\"#bd3786\"],[0.5555555555555556,\"#d8576b\"],[0.6666666666666666,\"#ed7953\"],[0.7777777777777778,\"#fb9f3a\"],[0.8888888888888888,\"#fdca26\"],[1.0,\"#f0f921\"]]}],\"heatmap\":[{\"type\":\"heatmap\",\"colorbar\":{\"outlinewidth\":0,\"ticks\":\"\"},\"colorscale\":[[0.0,\"#0d0887\"],[0.1111111111111111,\"#46039f\"],[0.2222222222222222,\"#7201a8\"],[0.3333333333333333,\"#9c179e\"],[0.4444444444444444,\"#bd3786\"],[0.5555555555555556,\"#d8576b\"],[0.6666666666666666,\"#ed7953\"],[0.7777777777777778,\"#fb9f3a\"],[0.8888888888888888,\"#fdca26\"],[1.0,\"#f0f921\"]]}],\"heatmapgl\":[{\"type\":\"heatmapgl\",\"colorbar\":{\"outlinewidth\":0,\"ticks\":\"\"},\"colorscale\":[[0.0,\"#0d0887\"],[0.1111111111111111,\"#46039f\"],[0.2222222222222222,\"#7201a8\"],[0.3333333333333333,\"#9c179e\"],[0.4444444444444444,\"#bd3786\"],[0.5555555555555556,\"#d8576b\"],[0.6666666666666666,\"#ed7953\"],[0.7777777777777778,\"#fb9f3a\"],[0.8888888888888888,\"#fdca26\"],[1.0,\"#f0f921\"]]}],\"contourcarpet\":[{\"type\":\"contourcarpet\",\"colorbar\":{\"outlinewidth\":0,\"ticks\":\"\"}}],\"contour\":[{\"type\":\"contour\",\"colorbar\":{\"outlinewidth\":0,\"ticks\":\"\"},\"colorscale\":[[0.0,\"#0d0887\"],[0.1111111111111111,\"#46039f\"],[0.2222222222222222,\"#7201a8\"],[0.3333333333333333,\"#9c179e\"],[0.4444444444444444,\"#bd3786\"],[0.5555555555555556,\"#d8576b\"],[0.6666666666666666,\"#ed7953\"],[0.7777777777777778,\"#fb9f3a\"],[0.8888888888888888,\"#fdca26\"],[1.0,\"#f0f921\"]]}],\"surface\":[{\"type\":\"surface\",\"colorbar\":{\"outlinewidth\":0,\"ticks\":\"\"},\"colorscale\":[[0.0,\"#0d0887\"],[0.1111111111111111,\"#46039f\"],[0.2222222222222222,\"#7201a8\"],[0.3333333333333333,\"#9c179e\"],[0.4444444444444444,\"#bd3786\"],[0.5555555555555556,\"#d8576b\"],[0.6666666666666666,\"#ed7953\"],[0.7777777777777778,\"#fb9f3a\"],[0.8888888888888888,\"#fdca26\"],[1.0,\"#f0f921\"]]}],\"mesh3d\":[{\"type\":\"mesh3d\",\"colorbar\":{\"outlinewidth\":0,\"ticks\":\"\"}}],\"scatter\":[{\"fillpattern\":{\"fillmode\":\"overlay\",\"size\":10,\"solidity\":0.2},\"type\":\"scatter\"}],\"parcoords\":[{\"type\":\"parcoords\",\"line\":{\"colorbar\":{\"outlinewidth\":0,\"ticks\":\"\"}}}],\"scatterpolargl\":[{\"type\":\"scatterpolargl\",\"marker\":{\"colorbar\":{\"outlinewidth\":0,\"ticks\":\"\"}}}],\"bar\":[{\"error_x\":{\"color\":\"#2a3f5f\"},\"error_y\":{\"color\":\"#2a3f5f\"},\"marker\":{\"line\":{\"color\":\"#E5ECF6\",\"width\":0.5},\"pattern\":{\"fillmode\":\"overlay\",\"size\":10,\"solidity\":0.2}},\"type\":\"bar\"}],\"scattergeo\":[{\"type\":\"scattergeo\",\"marker\":{\"colorbar\":{\"outlinewidth\":0,\"ticks\":\"\"}}}],\"scatterpolar\":[{\"type\":\"scatterpolar\",\"marker\":{\"colorbar\":{\"outlinewidth\":0,\"ticks\":\"\"}}}],\"histogram\":[{\"marker\":{\"pattern\":{\"fillmode\":\"overlay\",\"size\":10,\"solidity\":0.2}},\"type\":\"histogram\"}],\"scattergl\":[{\"type\":\"scattergl\",\"marker\":{\"colorbar\":{\"outlinewidth\":0,\"ticks\":\"\"}}}],\"scatter3d\":[{\"type\":\"scatter3d\",\"line\":{\"colorbar\":{\"outlinewidth\":0,\"ticks\":\"\"}},\"marker\":{\"colorbar\":{\"outlinewidth\":0,\"ticks\":\"\"}}}],\"scattermapbox\":[{\"type\":\"scattermapbox\",\"marker\":{\"colorbar\":{\"outlinewidth\":0,\"ticks\":\"\"}}}],\"scatterternary\":[{\"type\":\"scatterternary\",\"marker\":{\"colorbar\":{\"outlinewidth\":0,\"ticks\":\"\"}}}],\"scattercarpet\":[{\"type\":\"scattercarpet\",\"marker\":{\"colorbar\":{\"outlinewidth\":0,\"ticks\":\"\"}}}],\"carpet\":[{\"aaxis\":{\"endlinecolor\":\"#2a3f5f\",\"gridcolor\":\"white\",\"linecolor\":\"white\",\"minorgridcolor\":\"white\",\"startlinecolor\":\"#2a3f5f\"},\"baxis\":{\"endlinecolor\":\"#2a3f5f\",\"gridcolor\":\"white\",\"linecolor\":\"white\",\"minorgridcolor\":\"white\",\"startlinecolor\":\"#2a3f5f\"},\"type\":\"carpet\"}],\"table\":[{\"cells\":{\"fill\":{\"color\":\"#EBF0F8\"},\"line\":{\"color\":\"white\"}},\"header\":{\"fill\":{\"color\":\"#C8D4E3\"},\"line\":{\"color\":\"white\"}},\"type\":\"table\"}],\"barpolar\":[{\"marker\":{\"line\":{\"color\":\"#E5ECF6\",\"width\":0.5},\"pattern\":{\"fillmode\":\"overlay\",\"size\":10,\"solidity\":0.2}},\"type\":\"barpolar\"}],\"pie\":[{\"automargin\":true,\"type\":\"pie\"}]},\"layout\":{\"autotypenumbers\":\"strict\",\"colorway\":[\"#636efa\",\"#EF553B\",\"#00cc96\",\"#ab63fa\",\"#FFA15A\",\"#19d3f3\",\"#FF6692\",\"#B6E880\",\"#FF97FF\",\"#FECB52\"],\"font\":{\"color\":\"#2a3f5f\"},\"hovermode\":\"closest\",\"hoverlabel\":{\"align\":\"left\"},\"paper_bgcolor\":\"white\",\"plot_bgcolor\":\"#E5ECF6\",\"polar\":{\"bgcolor\":\"#E5ECF6\",\"angularaxis\":{\"gridcolor\":\"white\",\"linecolor\":\"white\",\"ticks\":\"\"},\"radialaxis\":{\"gridcolor\":\"white\",\"linecolor\":\"white\",\"ticks\":\"\"}},\"ternary\":{\"bgcolor\":\"#E5ECF6\",\"aaxis\":{\"gridcolor\":\"white\",\"linecolor\":\"white\",\"ticks\":\"\"},\"baxis\":{\"gridcolor\":\"white\",\"linecolor\":\"white\",\"ticks\":\"\"},\"caxis\":{\"gridcolor\":\"white\",\"linecolor\":\"white\",\"ticks\":\"\"}},\"coloraxis\":{\"colorbar\":{\"outlinewidth\":0,\"ticks\":\"\"}},\"colorscale\":{\"sequential\":[[0.0,\"#0d0887\"],[0.1111111111111111,\"#46039f\"],[0.2222222222222222,\"#7201a8\"],[0.3333333333333333,\"#9c179e\"],[0.4444444444444444,\"#bd3786\"],[0.5555555555555556,\"#d8576b\"],[0.6666666666666666,\"#ed7953\"],[0.7777777777777778,\"#fb9f3a\"],[0.8888888888888888,\"#fdca26\"],[1.0,\"#f0f921\"]],\"sequentialminus\":[[0.0,\"#0d0887\"],[0.1111111111111111,\"#46039f\"],[0.2222222222222222,\"#7201a8\"],[0.3333333333333333,\"#9c179e\"],[0.4444444444444444,\"#bd3786\"],[0.5555555555555556,\"#d8576b\"],[0.6666666666666666,\"#ed7953\"],[0.7777777777777778,\"#fb9f3a\"],[0.8888888888888888,\"#fdca26\"],[1.0,\"#f0f921\"]],\"diverging\":[[0,\"#8e0152\"],[0.1,\"#c51b7d\"],[0.2,\"#de77ae\"],[0.3,\"#f1b6da\"],[0.4,\"#fde0ef\"],[0.5,\"#f7f7f7\"],[0.6,\"#e6f5d0\"],[0.7,\"#b8e186\"],[0.8,\"#7fbc41\"],[0.9,\"#4d9221\"],[1,\"#276419\"]]},\"xaxis\":{\"gridcolor\":\"white\",\"linecolor\":\"white\",\"ticks\":\"\",\"title\":{\"standoff\":15},\"zerolinecolor\":\"white\",\"automargin\":true,\"zerolinewidth\":2},\"yaxis\":{\"gridcolor\":\"white\",\"linecolor\":\"white\",\"ticks\":\"\",\"title\":{\"standoff\":15},\"zerolinecolor\":\"white\",\"automargin\":true,\"zerolinewidth\":2},\"scene\":{\"xaxis\":{\"backgroundcolor\":\"#E5ECF6\",\"gridcolor\":\"white\",\"linecolor\":\"white\",\"showbackground\":true,\"ticks\":\"\",\"zerolinecolor\":\"white\",\"gridwidth\":2},\"yaxis\":{\"backgroundcolor\":\"#E5ECF6\",\"gridcolor\":\"white\",\"linecolor\":\"white\",\"showbackground\":true,\"ticks\":\"\",\"zerolinecolor\":\"white\",\"gridwidth\":2},\"zaxis\":{\"backgroundcolor\":\"#E5ECF6\",\"gridcolor\":\"white\",\"linecolor\":\"white\",\"showbackground\":true,\"ticks\":\"\",\"zerolinecolor\":\"white\",\"gridwidth\":2}},\"shapedefaults\":{\"line\":{\"color\":\"#2a3f5f\"}},\"annotationdefaults\":{\"arrowcolor\":\"#2a3f5f\",\"arrowhead\":0,\"arrowwidth\":1},\"geo\":{\"bgcolor\":\"white\",\"landcolor\":\"#E5ECF6\",\"subunitcolor\":\"white\",\"showland\":true,\"showlakes\":true,\"lakecolor\":\"white\"},\"title\":{\"x\":0.05},\"mapbox\":{\"style\":\"light\"}}},\"xaxis\":{\"anchor\":\"y\",\"domain\":[0.0,1.0],\"title\":{\"text\":\"Datetime\"}},\"yaxis\":{\"anchor\":\"x\",\"domain\":[0.0,1.0],\"title\":{\"text\":\"value\"}},\"legend\":{\"title\":{\"text\":\"variable\"},\"tracegroupgap\":0},\"title\":{\"text\":\"AAPL Exponential Moving Averages\"}},                        {\"responsive\": true}                    ).then(function(){\n",
       "                            \n",
       "var gd = document.getElementById('93efe18f-9d0b-40a6-9723-858b7f4cb26a');\n",
       "var x = new MutationObserver(function (mutations, observer) {{\n",
       "        var display = window.getComputedStyle(gd).display;\n",
       "        if (!display || display === 'none') {{\n",
       "            console.log([gd, 'removed!']);\n",
       "            Plotly.purge(gd);\n",
       "            observer.disconnect();\n",
       "        }}\n",
       "}});\n",
       "\n",
       "// Listen for the removal of the full notebook cells\n",
       "var notebookContainer = gd.closest('#notebook-container');\n",
       "if (notebookContainer) {{\n",
       "    x.observe(notebookContainer, {childList: true});\n",
       "}}\n",
       "\n",
       "// Listen for the clearing of the current output cell\n",
       "var outputEl = gd.closest('.output');\n",
       "if (outputEl) {{\n",
       "    x.observe(outputEl, {childList: true});\n",
       "}}\n",
       "\n",
       "                        })                };                });            </script>        </div>"
      ]
     },
     "metadata": {},
     "output_type": "display_data"
    },
    {
     "data": {
      "application/vnd.plotly.v1+json": {
       "config": {
        "plotlyServerURL": "https://plot.ly"
       },
       "data": [
        {
         "hovertemplate": "Datetime=%{x}<br>MACD_12_24=%{y}<extra></extra>",
         "legendgroup": "",
         "line": {
          "color": "#636efa",
          "dash": "solid"
         },
         "marker": {
          "symbol": "circle"
         },
         "mode": "lines",
         "name": "",
         "orientation": "v",
         "showlegend": false,
         "type": "scatter",
         "x": [
          "2024-06-07T09:30:00-04:00",
          "2024-06-07T09:31:00-04:00",
          "2024-06-07T09:32:00-04:00",
          "2024-06-07T09:33:00-04:00",
          "2024-06-07T09:34:00-04:00",
          "2024-06-07T09:35:00-04:00",
          "2024-06-07T09:36:00-04:00",
          "2024-06-07T09:37:00-04:00",
          "2024-06-07T09:38:00-04:00",
          "2024-06-07T09:39:00-04:00",
          "2024-06-07T09:40:00-04:00",
          "2024-06-07T09:41:00-04:00",
          "2024-06-07T09:42:00-04:00",
          "2024-06-07T09:43:00-04:00",
          "2024-06-07T09:44:00-04:00",
          "2024-06-07T09:45:00-04:00",
          "2024-06-07T09:46:00-04:00",
          "2024-06-07T09:47:00-04:00",
          "2024-06-07T09:48:00-04:00",
          "2024-06-07T09:49:00-04:00",
          "2024-06-07T09:50:00-04:00",
          "2024-06-07T09:51:00-04:00",
          "2024-06-07T09:52:00-04:00",
          "2024-06-07T09:53:00-04:00",
          "2024-06-07T09:54:00-04:00",
          "2024-06-07T09:55:00-04:00",
          "2024-06-07T09:56:00-04:00",
          "2024-06-07T09:57:00-04:00",
          "2024-06-07T09:58:00-04:00",
          "2024-06-07T09:59:00-04:00",
          "2024-06-07T10:00:00-04:00",
          "2024-06-07T10:01:00-04:00",
          "2024-06-07T10:02:00-04:00",
          "2024-06-07T10:03:00-04:00",
          "2024-06-07T10:04:00-04:00",
          "2024-06-07T10:05:00-04:00",
          "2024-06-07T10:06:00-04:00",
          "2024-06-07T10:07:00-04:00",
          "2024-06-07T10:08:00-04:00",
          "2024-06-07T10:09:00-04:00",
          "2024-06-07T10:10:00-04:00",
          "2024-06-07T10:11:00-04:00",
          "2024-06-07T10:12:00-04:00",
          "2024-06-07T10:13:00-04:00",
          "2024-06-07T10:14:00-04:00",
          "2024-06-07T10:15:00-04:00",
          "2024-06-07T10:16:00-04:00",
          "2024-06-07T10:17:00-04:00",
          "2024-06-07T10:18:00-04:00",
          "2024-06-07T10:19:00-04:00",
          "2024-06-07T10:20:00-04:00",
          "2024-06-07T10:21:00-04:00",
          "2024-06-07T10:22:00-04:00",
          "2024-06-07T10:23:00-04:00",
          "2024-06-07T10:24:00-04:00",
          "2024-06-07T10:25:00-04:00",
          "2024-06-07T10:26:00-04:00",
          "2024-06-07T10:27:00-04:00",
          "2024-06-07T10:28:00-04:00",
          "2024-06-07T10:29:00-04:00",
          "2024-06-07T10:30:00-04:00",
          "2024-06-07T10:31:00-04:00",
          "2024-06-07T10:32:00-04:00",
          "2024-06-07T10:33:00-04:00",
          "2024-06-07T10:34:00-04:00",
          "2024-06-07T10:35:00-04:00",
          "2024-06-07T10:36:00-04:00",
          "2024-06-07T10:37:00-04:00",
          "2024-06-07T10:38:00-04:00",
          "2024-06-07T10:39:00-04:00",
          "2024-06-07T10:40:00-04:00",
          "2024-06-07T10:41:00-04:00",
          "2024-06-07T10:42:00-04:00",
          "2024-06-07T10:43:00-04:00",
          "2024-06-07T10:44:00-04:00",
          "2024-06-07T10:45:00-04:00",
          "2024-06-07T10:46:00-04:00",
          "2024-06-07T10:47:00-04:00",
          "2024-06-07T10:48:00-04:00",
          "2024-06-07T10:49:00-04:00",
          "2024-06-07T10:50:00-04:00",
          "2024-06-07T10:51:00-04:00",
          "2024-06-07T10:52:00-04:00",
          "2024-06-07T10:53:00-04:00",
          "2024-06-07T10:54:00-04:00",
          "2024-06-07T10:55:00-04:00",
          "2024-06-07T10:56:00-04:00",
          "2024-06-07T10:57:00-04:00",
          "2024-06-07T10:58:00-04:00",
          "2024-06-07T10:59:00-04:00",
          "2024-06-07T11:00:00-04:00",
          "2024-06-07T11:01:00-04:00",
          "2024-06-07T11:02:00-04:00",
          "2024-06-07T11:03:00-04:00",
          "2024-06-07T11:04:00-04:00",
          "2024-06-07T11:05:00-04:00",
          "2024-06-07T11:06:00-04:00",
          "2024-06-07T11:07:00-04:00",
          "2024-06-07T11:08:00-04:00",
          "2024-06-07T11:09:00-04:00",
          "2024-06-07T11:10:00-04:00",
          "2024-06-07T11:11:00-04:00",
          "2024-06-07T11:12:00-04:00",
          "2024-06-07T11:13:00-04:00",
          "2024-06-07T11:14:00-04:00",
          "2024-06-07T11:15:00-04:00",
          "2024-06-07T11:16:00-04:00",
          "2024-06-07T11:17:00-04:00",
          "2024-06-07T11:18:00-04:00",
          "2024-06-07T11:19:00-04:00",
          "2024-06-07T11:20:00-04:00",
          "2024-06-07T11:21:00-04:00",
          "2024-06-07T11:22:00-04:00",
          "2024-06-07T11:23:00-04:00",
          "2024-06-07T11:24:00-04:00",
          "2024-06-07T11:25:00-04:00",
          "2024-06-07T11:26:00-04:00",
          "2024-06-07T11:27:00-04:00",
          "2024-06-07T11:28:00-04:00",
          "2024-06-07T11:29:00-04:00",
          "2024-06-07T11:30:00-04:00",
          "2024-06-07T11:31:00-04:00",
          "2024-06-07T11:32:00-04:00",
          "2024-06-07T11:33:00-04:00",
          "2024-06-07T11:34:00-04:00",
          "2024-06-07T11:35:00-04:00",
          "2024-06-07T11:36:00-04:00",
          "2024-06-07T11:37:00-04:00",
          "2024-06-07T11:38:00-04:00",
          "2024-06-07T11:39:00-04:00",
          "2024-06-07T11:40:00-04:00",
          "2024-06-07T11:41:00-04:00",
          "2024-06-07T11:42:00-04:00",
          "2024-06-07T11:43:00-04:00",
          "2024-06-07T11:44:00-04:00",
          "2024-06-07T11:45:00-04:00",
          "2024-06-07T11:46:00-04:00",
          "2024-06-07T11:47:00-04:00",
          "2024-06-07T11:48:00-04:00",
          "2024-06-07T11:49:00-04:00",
          "2024-06-07T11:50:00-04:00",
          "2024-06-07T11:51:00-04:00",
          "2024-06-07T11:52:00-04:00",
          "2024-06-07T11:53:00-04:00",
          "2024-06-07T11:54:00-04:00",
          "2024-06-07T11:55:00-04:00",
          "2024-06-07T11:56:00-04:00",
          "2024-06-07T11:57:00-04:00",
          "2024-06-07T11:58:00-04:00",
          "2024-06-07T11:59:00-04:00",
          "2024-06-07T12:00:00-04:00",
          "2024-06-07T12:01:00-04:00",
          "2024-06-07T12:02:00-04:00",
          "2024-06-07T12:03:00-04:00",
          "2024-06-07T12:04:00-04:00",
          "2024-06-07T12:05:00-04:00",
          "2024-06-07T12:06:00-04:00",
          "2024-06-07T12:07:00-04:00",
          "2024-06-07T12:08:00-04:00",
          "2024-06-07T12:09:00-04:00",
          "2024-06-07T12:10:00-04:00",
          "2024-06-07T12:11:00-04:00",
          "2024-06-07T12:12:00-04:00",
          "2024-06-07T12:13:00-04:00",
          "2024-06-07T12:14:00-04:00",
          "2024-06-07T12:15:00-04:00",
          "2024-06-07T12:16:00-04:00",
          "2024-06-07T12:17:00-04:00",
          "2024-06-07T12:18:00-04:00",
          "2024-06-07T12:19:00-04:00",
          "2024-06-07T12:20:00-04:00",
          "2024-06-07T12:21:00-04:00",
          "2024-06-07T12:22:00-04:00",
          "2024-06-07T12:23:00-04:00",
          "2024-06-07T12:24:00-04:00",
          "2024-06-07T12:25:00-04:00",
          "2024-06-07T12:26:00-04:00",
          "2024-06-07T12:27:00-04:00",
          "2024-06-07T12:28:00-04:00",
          "2024-06-07T12:29:00-04:00",
          "2024-06-07T12:30:00-04:00",
          "2024-06-07T12:31:00-04:00",
          "2024-06-07T12:32:00-04:00",
          "2024-06-07T12:33:00-04:00",
          "2024-06-07T12:34:00-04:00",
          "2024-06-07T12:35:00-04:00",
          "2024-06-07T12:36:00-04:00",
          "2024-06-07T12:37:00-04:00",
          "2024-06-07T12:38:00-04:00",
          "2024-06-07T12:39:00-04:00",
          "2024-06-07T12:40:00-04:00",
          "2024-06-07T12:41:00-04:00",
          "2024-06-07T12:42:00-04:00",
          "2024-06-07T12:43:00-04:00",
          "2024-06-07T12:44:00-04:00",
          "2024-06-07T12:45:00-04:00",
          "2024-06-07T12:46:00-04:00",
          "2024-06-07T12:47:00-04:00",
          "2024-06-07T12:48:00-04:00",
          "2024-06-07T12:49:00-04:00",
          "2024-06-07T12:50:00-04:00",
          "2024-06-07T12:51:00-04:00",
          "2024-06-07T12:52:00-04:00",
          "2024-06-07T12:53:00-04:00",
          "2024-06-07T12:54:00-04:00",
          "2024-06-07T12:55:00-04:00",
          "2024-06-07T12:56:00-04:00",
          "2024-06-07T12:57:00-04:00",
          "2024-06-07T12:58:00-04:00",
          "2024-06-07T12:59:00-04:00",
          "2024-06-07T13:00:00-04:00",
          "2024-06-07T13:01:00-04:00",
          "2024-06-07T13:02:00-04:00",
          "2024-06-07T13:03:00-04:00",
          "2024-06-07T13:04:00-04:00",
          "2024-06-07T13:05:00-04:00",
          "2024-06-07T13:06:00-04:00",
          "2024-06-07T13:07:00-04:00",
          "2024-06-07T13:08:00-04:00",
          "2024-06-07T13:09:00-04:00",
          "2024-06-07T13:10:00-04:00",
          "2024-06-07T13:11:00-04:00",
          "2024-06-07T13:12:00-04:00",
          "2024-06-07T13:13:00-04:00",
          "2024-06-07T13:14:00-04:00",
          "2024-06-07T13:15:00-04:00",
          "2024-06-07T13:16:00-04:00",
          "2024-06-07T13:17:00-04:00",
          "2024-06-07T13:18:00-04:00",
          "2024-06-07T13:19:00-04:00",
          "2024-06-07T13:20:00-04:00",
          "2024-06-07T13:21:00-04:00",
          "2024-06-07T13:22:00-04:00",
          "2024-06-07T13:23:00-04:00",
          "2024-06-07T13:24:00-04:00",
          "2024-06-07T13:25:00-04:00",
          "2024-06-07T13:26:00-04:00",
          "2024-06-07T13:27:00-04:00",
          "2024-06-07T13:28:00-04:00",
          "2024-06-07T13:29:00-04:00",
          "2024-06-07T13:30:00-04:00",
          "2024-06-07T13:31:00-04:00",
          "2024-06-07T13:32:00-04:00",
          "2024-06-07T13:33:00-04:00",
          "2024-06-07T13:34:00-04:00",
          "2024-06-07T13:35:00-04:00",
          "2024-06-07T13:36:00-04:00",
          "2024-06-07T13:37:00-04:00",
          "2024-06-07T13:38:00-04:00",
          "2024-06-07T13:39:00-04:00",
          "2024-06-07T13:40:00-04:00",
          "2024-06-07T13:41:00-04:00",
          "2024-06-07T13:42:00-04:00",
          "2024-06-07T13:43:00-04:00",
          "2024-06-07T13:44:00-04:00",
          "2024-06-07T13:45:00-04:00",
          "2024-06-07T13:46:00-04:00",
          "2024-06-07T13:47:00-04:00",
          "2024-06-07T13:48:00-04:00",
          "2024-06-07T13:49:00-04:00",
          "2024-06-07T13:50:00-04:00",
          "2024-06-07T13:51:00-04:00",
          "2024-06-07T13:52:00-04:00",
          "2024-06-07T13:53:00-04:00",
          "2024-06-07T13:54:00-04:00",
          "2024-06-07T13:55:00-04:00",
          "2024-06-07T13:56:00-04:00",
          "2024-06-07T13:57:00-04:00",
          "2024-06-07T13:58:00-04:00",
          "2024-06-07T13:59:00-04:00",
          "2024-06-07T14:00:00-04:00",
          "2024-06-07T14:01:00-04:00",
          "2024-06-07T14:02:00-04:00",
          "2024-06-07T14:03:00-04:00",
          "2024-06-07T14:04:00-04:00",
          "2024-06-07T14:05:00-04:00",
          "2024-06-07T14:06:00-04:00",
          "2024-06-07T14:07:00-04:00",
          "2024-06-07T14:08:00-04:00",
          "2024-06-07T14:09:00-04:00",
          "2024-06-07T14:10:00-04:00",
          "2024-06-07T14:11:00-04:00",
          "2024-06-07T14:12:00-04:00",
          "2024-06-07T14:13:00-04:00",
          "2024-06-07T14:14:00-04:00",
          "2024-06-07T14:15:00-04:00",
          "2024-06-07T14:16:00-04:00",
          "2024-06-07T14:17:00-04:00",
          "2024-06-07T14:18:00-04:00",
          "2024-06-07T14:19:00-04:00",
          "2024-06-07T14:20:00-04:00",
          "2024-06-07T14:21:00-04:00",
          "2024-06-07T14:22:00-04:00",
          "2024-06-07T14:23:00-04:00",
          "2024-06-07T14:24:00-04:00",
          "2024-06-07T14:25:00-04:00",
          "2024-06-07T14:26:00-04:00",
          "2024-06-07T14:27:00-04:00",
          "2024-06-07T14:28:00-04:00",
          "2024-06-07T14:29:00-04:00",
          "2024-06-07T14:30:00-04:00",
          "2024-06-07T14:31:00-04:00",
          "2024-06-07T14:32:00-04:00",
          "2024-06-07T14:33:00-04:00",
          "2024-06-07T14:34:00-04:00",
          "2024-06-07T14:35:00-04:00",
          "2024-06-07T14:36:00-04:00",
          "2024-06-07T14:37:00-04:00",
          "2024-06-07T14:38:00-04:00",
          "2024-06-07T14:39:00-04:00",
          "2024-06-07T14:40:00-04:00",
          "2024-06-07T14:41:00-04:00",
          "2024-06-07T14:42:00-04:00",
          "2024-06-07T14:43:00-04:00",
          "2024-06-07T14:44:00-04:00",
          "2024-06-07T14:45:00-04:00",
          "2024-06-07T14:46:00-04:00",
          "2024-06-07T14:47:00-04:00",
          "2024-06-07T14:48:00-04:00",
          "2024-06-07T14:49:00-04:00",
          "2024-06-07T14:50:00-04:00",
          "2024-06-07T14:51:00-04:00",
          "2024-06-07T14:52:00-04:00",
          "2024-06-07T14:53:00-04:00",
          "2024-06-07T14:54:00-04:00",
          "2024-06-07T14:55:00-04:00",
          "2024-06-07T14:56:00-04:00",
          "2024-06-07T14:57:00-04:00",
          "2024-06-07T14:58:00-04:00",
          "2024-06-07T14:59:00-04:00",
          "2024-06-07T15:00:00-04:00",
          "2024-06-07T15:01:00-04:00",
          "2024-06-07T15:02:00-04:00",
          "2024-06-07T15:03:00-04:00",
          "2024-06-07T15:04:00-04:00",
          "2024-06-07T15:05:00-04:00",
          "2024-06-07T15:06:00-04:00",
          "2024-06-07T15:07:00-04:00",
          "2024-06-07T15:08:00-04:00",
          "2024-06-07T15:09:00-04:00",
          "2024-06-07T15:10:00-04:00",
          "2024-06-07T15:11:00-04:00",
          "2024-06-07T15:12:00-04:00",
          "2024-06-07T15:13:00-04:00",
          "2024-06-07T15:14:00-04:00",
          "2024-06-07T15:15:00-04:00",
          "2024-06-07T15:16:00-04:00",
          "2024-06-07T15:17:00-04:00",
          "2024-06-07T15:18:00-04:00",
          "2024-06-07T15:19:00-04:00",
          "2024-06-07T15:20:00-04:00",
          "2024-06-07T15:21:00-04:00",
          "2024-06-07T15:22:00-04:00",
          "2024-06-07T15:23:00-04:00",
          "2024-06-07T15:24:00-04:00",
          "2024-06-07T15:25:00-04:00",
          "2024-06-07T15:26:00-04:00",
          "2024-06-07T15:27:00-04:00",
          "2024-06-07T15:28:00-04:00",
          "2024-06-07T15:29:00-04:00",
          "2024-06-07T15:30:00-04:00",
          "2024-06-07T15:31:00-04:00",
          "2024-06-07T15:32:00-04:00",
          "2024-06-07T15:33:00-04:00",
          "2024-06-07T15:34:00-04:00",
          "2024-06-07T15:35:00-04:00",
          "2024-06-07T15:36:00-04:00",
          "2024-06-07T15:37:00-04:00",
          "2024-06-07T15:38:00-04:00",
          "2024-06-07T15:39:00-04:00",
          "2024-06-07T15:40:00-04:00",
          "2024-06-07T15:41:00-04:00",
          "2024-06-07T15:42:00-04:00",
          "2024-06-07T15:43:00-04:00",
          "2024-06-07T15:44:00-04:00",
          "2024-06-07T15:45:00-04:00",
          "2024-06-07T15:46:00-04:00",
          "2024-06-07T15:47:00-04:00",
          "2024-06-07T15:48:00-04:00",
          "2024-06-07T15:49:00-04:00",
          "2024-06-07T15:50:00-04:00",
          "2024-06-07T15:51:00-04:00",
          "2024-06-07T15:52:00-04:00",
          "2024-06-07T15:53:00-04:00",
          "2024-06-07T15:54:00-04:00",
          "2024-06-07T15:55:00-04:00",
          "2024-06-07T15:56:00-04:00",
          "2024-06-07T15:57:00-04:00",
          "2024-06-07T15:58:00-04:00",
          "2024-06-07T15:59:00-04:00"
         ],
         "xaxis": "x",
         "y": [
          0,
          0,
          0,
          0,
          0,
          0,
          0,
          0,
          0,
          0,
          0,
          0,
          0,
          -0.008232863188140982,
          -0.11435749207353751,
          -0.09883798451991765,
          -0.14549676388855914,
          -0.18088356043790554,
          -0.19918545536231136,
          -0.17842092110754493,
          -0.19642978910934517,
          -0.2169097858875375,
          -0.2164385886906075,
          -0.17726007839962676,
          -0.16647064012263968,
          -0.16379011354823092,
          -0.07100779814086877,
          -0.09934181328435443,
          -0.06961291317432483,
          -0.03201474228424672,
          0.016928453573200386,
          0.019634849941297716,
          0.05744783328330527,
          0.09973624018590499,
          0.0884148760843857,
          0.0647670892955432,
          0.055061542489596604,
          0.047922490291995246,
          0.05503608594969478,
          0.07414418943437795,
          0.09484457957066184,
          0.09604615584783005,
          0.09875925861189216,
          0.08819759727515475,
          0.08787133811989634,
          0.056592550229055405,
          0.09728481970466873,
          0.08634460558366186,
          0.11181105332411789,
          0.11757496846917093,
          0.11500068164701815,
          0.10150118830173938,
          0.07440015761184782,
          0.08603632322277122,
          0.06301756688887394,
          0.08322752195383032,
          0.05306712314339279,
          0.07080516398963255,
          0.04271939903142652,
          0.045736768144280404,
          0.007494429503680067,
          -0.015413756411618351,
          -0.03323945683050056,
          -0.022895940594509057,
          0.014857282316540932,
          -0.0027479663774556684,
          0.019858903858846588,
          0.010134136830259877,
          0.02867344602208277,
          0.01994620354130916,
          0.02430622968117291,
          0.03388180320587253,
          0.06572982632718549,
          0.11338248060596356,
          0.14219874937344912,
          0.15532494901103178,
          0.16495230163832275,
          0.203722291094806,
          0.1996405818667597,
          0.2319523358663389,
          0.23402937322811113,
          0.24839544505073263,
          0.2616720664771037,
          0.26216792496947505,
          0.26947391516796415,
          0.23600552674969322,
          0.21244776780119423,
          0.19256951520733878,
          0.1658957045025602,
          0.12573362110458675,
          0.12317953441251461,
          0.06005264304383218,
          0.04259863263834518,
          0.0026135066311496757,
          -0.05011250411754986,
          -0.07912500305104686,
          -0.10436952700533197,
          -0.11236640962766842,
          -0.14460709782886738,
          -0.17641618446307916,
          -0.18482304709425534,
          -0.18774241704826977,
          -0.22203653244352495,
          -0.1918879562009863,
          -0.18092661498914708,
          -0.16955472820359319,
          -0.14738360029176079,
          -0.13820341022037042,
          -0.14954644335537637,
          -0.152792107789395,
          -0.09834294281060352,
          -0.0807894777450997,
          -0.08852520914103934,
          -0.08169620548594025,
          -0.031790081468670905,
          -0.01611450572286799,
          0.014806429527851606,
          0.040140460665725186,
          0.05170817036170661,
          0.057669308822710263,
          0.08911463153927457,
          0.12975534642262687,
          0.10251926530870037,
          0.12260509412246279,
          0.15563120781970952,
          0.16958788254987667,
          0.170067747571494,
          0.18525733912488818,
          0.1688150346014936,
          0.15856694350452472,
          0.15469905176647103,
          0.17917781747200934,
          0.18097886738411262,
          0.1704815794712431,
          0.1810744502892021,
          0.16599357831117345,
          0.14663169017845235,
          0.11536707978794425,
          0.10210845547297254,
          0.07197593158429072,
          0.06290037903309553,
          0.0712462680603494,
          0.07935024205141872,
          0.037181177956256306,
          0.008765474435790566,
          -0.0014223602996707996,
          -0.006393111539182428,
          -0.00583152144270116,
          0.014551942298595577,
          0.024893516484326028,
          0.033487167927489736,
          0.027692888711101205,
          0.013604925734966855,
          0.006198686006882781,
          -0.009073804213841186,
          -0.0015835526370722164,
          0.017650556145810015,
          0.03505072388148278,
          0.04705805822538878,
          0.0597707184570595,
          0.047532076389757094,
          0.0493030429441319,
          0.04334980103143948,
          0.04803589356825455,
          0.04885574209853871,
          0.03401345957163926,
          0.02701046313532629,
          0.008037795029423478,
          0.00039077266143294764,
          -0.022072120954675256,
          -0.0194039893541742,
          -0.037975989786929176,
          -0.04957246059146314,
          -0.048942451279231136,
          -0.038621668468437065,
          -0.017496648918296387,
          -0.032380376338522865,
          -0.03444857396328871,
          -0.0443814644207805,
          -0.04202078741749915,
          -0.04722179587437836,
          -0.021972632198014708,
          -0.025759569133356308,
          0.0022711496650629215,
          0.03148574604065857,
          0.061312413541458,
          0.0673906420737751,
          0.06567051234603127,
          0.06402895960653154,
          0.060504504022674155,
          0.06349964910262429,
          0.07200864439298016,
          0.07663366558554685,
          0.057395701603297766,
          0.04538279487977093,
          0.034901587284593916,
          0.012980418684918504,
          -0.016640590784078313,
          -0.04044107480078196,
          -0.05123954442260015,
          -0.029787140907217236,
          -0.029912237407842213,
          -0.025654575603624608,
          -0.03867406335569967,
          -0.038164170476107984,
          -0.02219824354048683,
          0.005094687243399676,
          0.03635014655958457,
          0.05405540768975925,
          0.055868393721965504,
          0.06999424501495355,
          0.09393552763449975,
          0.10713153446539536,
          0.11084479820084425,
          0.12091714239414841,
          0.12136073221935817,
          0.11661233546206518,
          0.12489583118036762,
          0.1261093709107115,
          0.10159067539350985,
          0.07914200437068075,
          0.08193405406396437,
          0.06841452010655757,
          0.04951390530416688,
          0.033611465076234026,
          0.043124763549940326,
          0.03093792619753799,
          0.0307305094033552,
          0.00558669615566032,
          -0.017487769945972786,
          -0.03313315799343286,
          -0.035278243789804264,
          -0.001059402454842484,
          0.0028006355656202686,
          0.02801388945718486,
          0.049952611452880546,
          0.052526772778406894,
          0.052080456747489734,
          0.053738105441453854,
          0.04703227689364553,
          0.04715438090818225,
          0.050478721047454655,
          0.05573450229519494,
          0.06786340878892361,
          0.055306637031208083,
          0.061813252185231704,
          0.05635991551875463,
          0.040101158692181116,
          0.028731187203447917,
          0.01900431701932348,
          0.015098931111850789,
          0.011196224372866936,
          0.005957245185896909,
          -0.0007844850381673041,
          -0.013753558814499911,
          -0.023206013289609473,
          -0.030267061584254407,
          -0.04719241104021421,
          -0.04570287137710238,
          -0.04829401929274013,
          -0.03886070547329723,
          -0.035317776547373114,
          -0.03736742390256609,
          -0.024566581353440142,
          -0.01953528496468948,
          -0.017996950447098925,
          -0.00796918987256845,
          -0.0067354335531319975,
          0.009445898131104968,
          0.03578383048812839,
          0.0375841737775886,
          0.03491008220791514,
          0.02528317983419015,
          0.027172042458744272,
          0.042746640821491155,
          0.03918301381824563,
          0.020862538331158476,
          0.005265053870715519,
          -0.005113141304207147,
          -0.016645107532070824,
          -0.03128214357630554,
          -0.05645177916693456,
          -0.07736862276931333,
          -0.07086910808044422,
          -0.07426067779255163,
          -0.09411430721263514,
          -0.1173881114491735,
          -0.13926902547129316,
          -0.13700690303861052,
          -0.1528585114386658,
          -0.17635480793074976,
          -0.1521199581570727,
          -0.13959267702441025,
          -0.11379162300448797,
          -0.08404583967836743,
          -0.09279054027271627,
          -0.1034217132721551,
          -0.10434685954990641,
          -0.07515652834189268,
          -0.059945641564013386,
          -0.054024573361289185,
          -0.041682750695997584,
          -0.0020025854584559966,
          -0.03677578097037326,
          -0.05704355435713637,
          -0.07074428548733636,
          -0.08357140314450362,
          -0.07255164448051232,
          -0.04947518733831657,
          -0.03729818828114162,
          -0.05193811789396818,
          -0.05130670710170193,
          -0.06331327952881338,
          -0.05722472938398937,
          -0.10776397105959745,
          -0.07402440084297268,
          -0.06683802361536095,
          -0.0541943684289663,
          -0.031132230635762426,
          -0.019208953359793668,
          -0.024738590087707735,
          -0.028084341770465926,
          -0.023005348660376512,
          -0.01619895668326876,
          -0.00721952314296459,
          6.258791927393759e-06,
          0.04985085305182224,
          0.03282715787142365,
          0.04411911469037477,
          0.04725111716291508,
          0.04429321733277902,
          0.034244205226286795,
          0.03550220577506025,
          0.036828506582679665,
          0.033328652778152446,
          0.04953030680127313,
          0.048560082046151365,
          0.0372933953941299,
          0.02203124681875579,
          0.031486244380175776,
          0.030813670171340846,
          0.024710252386341836,
          0.02959530006629052,
          0.0345370577345534,
          0.0367532675192308,
          0.03292027083665516,
          0.037678810577716604,
          0.024977514397988898,
          0.027210835601550798,
          0.03346931828085076,
          0.04220445475817769,
          0.035457500341181,
          0.042898181019808135,
          0.03577071867380255,
          0.04113669308742374,
          0.031919390750744014,
          0.03783392387293816,
          0.047642018792487306,
          0.07896655713977907,
          0.10209926525911328,
          0.10067719028259603,
          0.10537687932111339,
          0.11263628991579822,
          0.12712456396798189,
          0.12342804406034702,
          0.142908148461089,
          0.13987784720950458,
          0.14284140900807074,
          0.1298092411265941,
          0.14510154530267982,
          0.14013603265505026,
          0.15688745403767257,
          0.15088851860960517,
          0.1600750675468987,
          0.17295571415598943,
          0.17125126958902115,
          0.1746111559546648,
          0.16107646118203434,
          0.13986244652201663,
          0.10561859712311161,
          0.10134901153278975,
          0.07973046782808524,
          0.05927947547132817,
          0.04365618922790304,
          0.07124887919050593,
          0.0569227789180502,
          0.048849917968055934,
          0.044568366927506986,
          0.03830494306512833,
          0.03752082862553152
         ],
         "yaxis": "y"
        }
       ],
       "layout": {
        "legend": {
         "tracegroupgap": 0
        },
        "template": {
         "data": {
          "bar": [
           {
            "error_x": {
             "color": "#2a3f5f"
            },
            "error_y": {
             "color": "#2a3f5f"
            },
            "marker": {
             "line": {
              "color": "#E5ECF6",
              "width": 0.5
             },
             "pattern": {
              "fillmode": "overlay",
              "size": 10,
              "solidity": 0.2
             }
            },
            "type": "bar"
           }
          ],
          "barpolar": [
           {
            "marker": {
             "line": {
              "color": "#E5ECF6",
              "width": 0.5
             },
             "pattern": {
              "fillmode": "overlay",
              "size": 10,
              "solidity": 0.2
             }
            },
            "type": "barpolar"
           }
          ],
          "carpet": [
           {
            "aaxis": {
             "endlinecolor": "#2a3f5f",
             "gridcolor": "white",
             "linecolor": "white",
             "minorgridcolor": "white",
             "startlinecolor": "#2a3f5f"
            },
            "baxis": {
             "endlinecolor": "#2a3f5f",
             "gridcolor": "white",
             "linecolor": "white",
             "minorgridcolor": "white",
             "startlinecolor": "#2a3f5f"
            },
            "type": "carpet"
           }
          ],
          "choropleth": [
           {
            "colorbar": {
             "outlinewidth": 0,
             "ticks": ""
            },
            "type": "choropleth"
           }
          ],
          "contour": [
           {
            "colorbar": {
             "outlinewidth": 0,
             "ticks": ""
            },
            "colorscale": [
             [
              0,
              "#0d0887"
             ],
             [
              0.1111111111111111,
              "#46039f"
             ],
             [
              0.2222222222222222,
              "#7201a8"
             ],
             [
              0.3333333333333333,
              "#9c179e"
             ],
             [
              0.4444444444444444,
              "#bd3786"
             ],
             [
              0.5555555555555556,
              "#d8576b"
             ],
             [
              0.6666666666666666,
              "#ed7953"
             ],
             [
              0.7777777777777778,
              "#fb9f3a"
             ],
             [
              0.8888888888888888,
              "#fdca26"
             ],
             [
              1,
              "#f0f921"
             ]
            ],
            "type": "contour"
           }
          ],
          "contourcarpet": [
           {
            "colorbar": {
             "outlinewidth": 0,
             "ticks": ""
            },
            "type": "contourcarpet"
           }
          ],
          "heatmap": [
           {
            "colorbar": {
             "outlinewidth": 0,
             "ticks": ""
            },
            "colorscale": [
             [
              0,
              "#0d0887"
             ],
             [
              0.1111111111111111,
              "#46039f"
             ],
             [
              0.2222222222222222,
              "#7201a8"
             ],
             [
              0.3333333333333333,
              "#9c179e"
             ],
             [
              0.4444444444444444,
              "#bd3786"
             ],
             [
              0.5555555555555556,
              "#d8576b"
             ],
             [
              0.6666666666666666,
              "#ed7953"
             ],
             [
              0.7777777777777778,
              "#fb9f3a"
             ],
             [
              0.8888888888888888,
              "#fdca26"
             ],
             [
              1,
              "#f0f921"
             ]
            ],
            "type": "heatmap"
           }
          ],
          "heatmapgl": [
           {
            "colorbar": {
             "outlinewidth": 0,
             "ticks": ""
            },
            "colorscale": [
             [
              0,
              "#0d0887"
             ],
             [
              0.1111111111111111,
              "#46039f"
             ],
             [
              0.2222222222222222,
              "#7201a8"
             ],
             [
              0.3333333333333333,
              "#9c179e"
             ],
             [
              0.4444444444444444,
              "#bd3786"
             ],
             [
              0.5555555555555556,
              "#d8576b"
             ],
             [
              0.6666666666666666,
              "#ed7953"
             ],
             [
              0.7777777777777778,
              "#fb9f3a"
             ],
             [
              0.8888888888888888,
              "#fdca26"
             ],
             [
              1,
              "#f0f921"
             ]
            ],
            "type": "heatmapgl"
           }
          ],
          "histogram": [
           {
            "marker": {
             "pattern": {
              "fillmode": "overlay",
              "size": 10,
              "solidity": 0.2
             }
            },
            "type": "histogram"
           }
          ],
          "histogram2d": [
           {
            "colorbar": {
             "outlinewidth": 0,
             "ticks": ""
            },
            "colorscale": [
             [
              0,
              "#0d0887"
             ],
             [
              0.1111111111111111,
              "#46039f"
             ],
             [
              0.2222222222222222,
              "#7201a8"
             ],
             [
              0.3333333333333333,
              "#9c179e"
             ],
             [
              0.4444444444444444,
              "#bd3786"
             ],
             [
              0.5555555555555556,
              "#d8576b"
             ],
             [
              0.6666666666666666,
              "#ed7953"
             ],
             [
              0.7777777777777778,
              "#fb9f3a"
             ],
             [
              0.8888888888888888,
              "#fdca26"
             ],
             [
              1,
              "#f0f921"
             ]
            ],
            "type": "histogram2d"
           }
          ],
          "histogram2dcontour": [
           {
            "colorbar": {
             "outlinewidth": 0,
             "ticks": ""
            },
            "colorscale": [
             [
              0,
              "#0d0887"
             ],
             [
              0.1111111111111111,
              "#46039f"
             ],
             [
              0.2222222222222222,
              "#7201a8"
             ],
             [
              0.3333333333333333,
              "#9c179e"
             ],
             [
              0.4444444444444444,
              "#bd3786"
             ],
             [
              0.5555555555555556,
              "#d8576b"
             ],
             [
              0.6666666666666666,
              "#ed7953"
             ],
             [
              0.7777777777777778,
              "#fb9f3a"
             ],
             [
              0.8888888888888888,
              "#fdca26"
             ],
             [
              1,
              "#f0f921"
             ]
            ],
            "type": "histogram2dcontour"
           }
          ],
          "mesh3d": [
           {
            "colorbar": {
             "outlinewidth": 0,
             "ticks": ""
            },
            "type": "mesh3d"
           }
          ],
          "parcoords": [
           {
            "line": {
             "colorbar": {
              "outlinewidth": 0,
              "ticks": ""
             }
            },
            "type": "parcoords"
           }
          ],
          "pie": [
           {
            "automargin": true,
            "type": "pie"
           }
          ],
          "scatter": [
           {
            "fillpattern": {
             "fillmode": "overlay",
             "size": 10,
             "solidity": 0.2
            },
            "type": "scatter"
           }
          ],
          "scatter3d": [
           {
            "line": {
             "colorbar": {
              "outlinewidth": 0,
              "ticks": ""
             }
            },
            "marker": {
             "colorbar": {
              "outlinewidth": 0,
              "ticks": ""
             }
            },
            "type": "scatter3d"
           }
          ],
          "scattercarpet": [
           {
            "marker": {
             "colorbar": {
              "outlinewidth": 0,
              "ticks": ""
             }
            },
            "type": "scattercarpet"
           }
          ],
          "scattergeo": [
           {
            "marker": {
             "colorbar": {
              "outlinewidth": 0,
              "ticks": ""
             }
            },
            "type": "scattergeo"
           }
          ],
          "scattergl": [
           {
            "marker": {
             "colorbar": {
              "outlinewidth": 0,
              "ticks": ""
             }
            },
            "type": "scattergl"
           }
          ],
          "scattermapbox": [
           {
            "marker": {
             "colorbar": {
              "outlinewidth": 0,
              "ticks": ""
             }
            },
            "type": "scattermapbox"
           }
          ],
          "scatterpolar": [
           {
            "marker": {
             "colorbar": {
              "outlinewidth": 0,
              "ticks": ""
             }
            },
            "type": "scatterpolar"
           }
          ],
          "scatterpolargl": [
           {
            "marker": {
             "colorbar": {
              "outlinewidth": 0,
              "ticks": ""
             }
            },
            "type": "scatterpolargl"
           }
          ],
          "scatterternary": [
           {
            "marker": {
             "colorbar": {
              "outlinewidth": 0,
              "ticks": ""
             }
            },
            "type": "scatterternary"
           }
          ],
          "surface": [
           {
            "colorbar": {
             "outlinewidth": 0,
             "ticks": ""
            },
            "colorscale": [
             [
              0,
              "#0d0887"
             ],
             [
              0.1111111111111111,
              "#46039f"
             ],
             [
              0.2222222222222222,
              "#7201a8"
             ],
             [
              0.3333333333333333,
              "#9c179e"
             ],
             [
              0.4444444444444444,
              "#bd3786"
             ],
             [
              0.5555555555555556,
              "#d8576b"
             ],
             [
              0.6666666666666666,
              "#ed7953"
             ],
             [
              0.7777777777777778,
              "#fb9f3a"
             ],
             [
              0.8888888888888888,
              "#fdca26"
             ],
             [
              1,
              "#f0f921"
             ]
            ],
            "type": "surface"
           }
          ],
          "table": [
           {
            "cells": {
             "fill": {
              "color": "#EBF0F8"
             },
             "line": {
              "color": "white"
             }
            },
            "header": {
             "fill": {
              "color": "#C8D4E3"
             },
             "line": {
              "color": "white"
             }
            },
            "type": "table"
           }
          ]
         },
         "layout": {
          "annotationdefaults": {
           "arrowcolor": "#2a3f5f",
           "arrowhead": 0,
           "arrowwidth": 1
          },
          "autotypenumbers": "strict",
          "coloraxis": {
           "colorbar": {
            "outlinewidth": 0,
            "ticks": ""
           }
          },
          "colorscale": {
           "diverging": [
            [
             0,
             "#8e0152"
            ],
            [
             0.1,
             "#c51b7d"
            ],
            [
             0.2,
             "#de77ae"
            ],
            [
             0.3,
             "#f1b6da"
            ],
            [
             0.4,
             "#fde0ef"
            ],
            [
             0.5,
             "#f7f7f7"
            ],
            [
             0.6,
             "#e6f5d0"
            ],
            [
             0.7,
             "#b8e186"
            ],
            [
             0.8,
             "#7fbc41"
            ],
            [
             0.9,
             "#4d9221"
            ],
            [
             1,
             "#276419"
            ]
           ],
           "sequential": [
            [
             0,
             "#0d0887"
            ],
            [
             0.1111111111111111,
             "#46039f"
            ],
            [
             0.2222222222222222,
             "#7201a8"
            ],
            [
             0.3333333333333333,
             "#9c179e"
            ],
            [
             0.4444444444444444,
             "#bd3786"
            ],
            [
             0.5555555555555556,
             "#d8576b"
            ],
            [
             0.6666666666666666,
             "#ed7953"
            ],
            [
             0.7777777777777778,
             "#fb9f3a"
            ],
            [
             0.8888888888888888,
             "#fdca26"
            ],
            [
             1,
             "#f0f921"
            ]
           ],
           "sequentialminus": [
            [
             0,
             "#0d0887"
            ],
            [
             0.1111111111111111,
             "#46039f"
            ],
            [
             0.2222222222222222,
             "#7201a8"
            ],
            [
             0.3333333333333333,
             "#9c179e"
            ],
            [
             0.4444444444444444,
             "#bd3786"
            ],
            [
             0.5555555555555556,
             "#d8576b"
            ],
            [
             0.6666666666666666,
             "#ed7953"
            ],
            [
             0.7777777777777778,
             "#fb9f3a"
            ],
            [
             0.8888888888888888,
             "#fdca26"
            ],
            [
             1,
             "#f0f921"
            ]
           ]
          },
          "colorway": [
           "#636efa",
           "#EF553B",
           "#00cc96",
           "#ab63fa",
           "#FFA15A",
           "#19d3f3",
           "#FF6692",
           "#B6E880",
           "#FF97FF",
           "#FECB52"
          ],
          "font": {
           "color": "#2a3f5f"
          },
          "geo": {
           "bgcolor": "white",
           "lakecolor": "white",
           "landcolor": "#E5ECF6",
           "showlakes": true,
           "showland": true,
           "subunitcolor": "white"
          },
          "hoverlabel": {
           "align": "left"
          },
          "hovermode": "closest",
          "mapbox": {
           "style": "light"
          },
          "paper_bgcolor": "white",
          "plot_bgcolor": "#E5ECF6",
          "polar": {
           "angularaxis": {
            "gridcolor": "white",
            "linecolor": "white",
            "ticks": ""
           },
           "bgcolor": "#E5ECF6",
           "radialaxis": {
            "gridcolor": "white",
            "linecolor": "white",
            "ticks": ""
           }
          },
          "scene": {
           "xaxis": {
            "backgroundcolor": "#E5ECF6",
            "gridcolor": "white",
            "gridwidth": 2,
            "linecolor": "white",
            "showbackground": true,
            "ticks": "",
            "zerolinecolor": "white"
           },
           "yaxis": {
            "backgroundcolor": "#E5ECF6",
            "gridcolor": "white",
            "gridwidth": 2,
            "linecolor": "white",
            "showbackground": true,
            "ticks": "",
            "zerolinecolor": "white"
           },
           "zaxis": {
            "backgroundcolor": "#E5ECF6",
            "gridcolor": "white",
            "gridwidth": 2,
            "linecolor": "white",
            "showbackground": true,
            "ticks": "",
            "zerolinecolor": "white"
           }
          },
          "shapedefaults": {
           "line": {
            "color": "#2a3f5f"
           }
          },
          "ternary": {
           "aaxis": {
            "gridcolor": "white",
            "linecolor": "white",
            "ticks": ""
           },
           "baxis": {
            "gridcolor": "white",
            "linecolor": "white",
            "ticks": ""
           },
           "bgcolor": "#E5ECF6",
           "caxis": {
            "gridcolor": "white",
            "linecolor": "white",
            "ticks": ""
           }
          },
          "title": {
           "x": 0.05
          },
          "xaxis": {
           "automargin": true,
           "gridcolor": "white",
           "linecolor": "white",
           "ticks": "",
           "title": {
            "standoff": 15
           },
           "zerolinecolor": "white",
           "zerolinewidth": 2
          },
          "yaxis": {
           "automargin": true,
           "gridcolor": "white",
           "linecolor": "white",
           "ticks": "",
           "title": {
            "standoff": 15
           },
           "zerolinecolor": "white",
           "zerolinewidth": 2
          }
         }
        },
        "title": {
         "text": "AAPL MACD"
        },
        "xaxis": {
         "anchor": "y",
         "domain": [
          0,
          1
         ],
         "title": {
          "text": "Datetime"
         }
        },
        "yaxis": {
         "anchor": "x",
         "domain": [
          0,
          1
         ],
         "title": {
          "text": "MACD_12_24"
         }
        }
       }
      },
      "text/html": [
       "<div>                            <div id=\"2e5263a6-fca6-4eba-8387-59200a1e1b3f\" class=\"plotly-graph-div\" style=\"height:525px; width:100%;\"></div>            <script type=\"text/javascript\">                require([\"plotly\"], function(Plotly) {                    window.PLOTLYENV=window.PLOTLYENV || {};                                    if (document.getElementById(\"2e5263a6-fca6-4eba-8387-59200a1e1b3f\")) {                    Plotly.newPlot(                        \"2e5263a6-fca6-4eba-8387-59200a1e1b3f\",                        [{\"hovertemplate\":\"Datetime=%{x}<br>MACD_12_24=%{y}<extra></extra>\",\"legendgroup\":\"\",\"line\":{\"color\":\"#636efa\",\"dash\":\"solid\"},\"marker\":{\"symbol\":\"circle\"},\"mode\":\"lines\",\"name\":\"\",\"orientation\":\"v\",\"showlegend\":false,\"x\":[\"2024-06-07T09:30:00-04:00\",\"2024-06-07T09:31:00-04:00\",\"2024-06-07T09:32:00-04:00\",\"2024-06-07T09:33:00-04:00\",\"2024-06-07T09:34:00-04:00\",\"2024-06-07T09:35:00-04:00\",\"2024-06-07T09:36:00-04:00\",\"2024-06-07T09:37:00-04:00\",\"2024-06-07T09:38:00-04:00\",\"2024-06-07T09:39:00-04:00\",\"2024-06-07T09:40:00-04:00\",\"2024-06-07T09:41:00-04:00\",\"2024-06-07T09:42:00-04:00\",\"2024-06-07T09:43:00-04:00\",\"2024-06-07T09:44:00-04:00\",\"2024-06-07T09:45:00-04:00\",\"2024-06-07T09:46:00-04:00\",\"2024-06-07T09:47:00-04:00\",\"2024-06-07T09:48:00-04:00\",\"2024-06-07T09:49:00-04:00\",\"2024-06-07T09:50:00-04:00\",\"2024-06-07T09:51:00-04:00\",\"2024-06-07T09:52:00-04:00\",\"2024-06-07T09:53:00-04:00\",\"2024-06-07T09:54:00-04:00\",\"2024-06-07T09:55:00-04:00\",\"2024-06-07T09:56:00-04:00\",\"2024-06-07T09:57:00-04:00\",\"2024-06-07T09:58:00-04:00\",\"2024-06-07T09:59:00-04:00\",\"2024-06-07T10:00:00-04:00\",\"2024-06-07T10:01:00-04:00\",\"2024-06-07T10:02:00-04:00\",\"2024-06-07T10:03:00-04:00\",\"2024-06-07T10:04:00-04:00\",\"2024-06-07T10:05:00-04:00\",\"2024-06-07T10:06:00-04:00\",\"2024-06-07T10:07:00-04:00\",\"2024-06-07T10:08:00-04:00\",\"2024-06-07T10:09:00-04:00\",\"2024-06-07T10:10:00-04:00\",\"2024-06-07T10:11:00-04:00\",\"2024-06-07T10:12:00-04:00\",\"2024-06-07T10:13:00-04:00\",\"2024-06-07T10:14:00-04:00\",\"2024-06-07T10:15:00-04:00\",\"2024-06-07T10:16:00-04:00\",\"2024-06-07T10:17:00-04:00\",\"2024-06-07T10:18:00-04:00\",\"2024-06-07T10:19:00-04:00\",\"2024-06-07T10:20:00-04:00\",\"2024-06-07T10:21:00-04:00\",\"2024-06-07T10:22:00-04:00\",\"2024-06-07T10:23:00-04:00\",\"2024-06-07T10:24:00-04:00\",\"2024-06-07T10:25:00-04:00\",\"2024-06-07T10:26:00-04:00\",\"2024-06-07T10:27:00-04:00\",\"2024-06-07T10:28:00-04:00\",\"2024-06-07T10:29:00-04:00\",\"2024-06-07T10:30:00-04:00\",\"2024-06-07T10:31:00-04:00\",\"2024-06-07T10:32:00-04:00\",\"2024-06-07T10:33:00-04:00\",\"2024-06-07T10:34:00-04:00\",\"2024-06-07T10:35:00-04:00\",\"2024-06-07T10:36:00-04:00\",\"2024-06-07T10:37:00-04:00\",\"2024-06-07T10:38:00-04:00\",\"2024-06-07T10:39:00-04:00\",\"2024-06-07T10:40:00-04:00\",\"2024-06-07T10:41:00-04:00\",\"2024-06-07T10:42:00-04:00\",\"2024-06-07T10:43:00-04:00\",\"2024-06-07T10:44:00-04:00\",\"2024-06-07T10:45:00-04:00\",\"2024-06-07T10:46:00-04:00\",\"2024-06-07T10:47:00-04:00\",\"2024-06-07T10:48:00-04:00\",\"2024-06-07T10:49:00-04:00\",\"2024-06-07T10:50:00-04:00\",\"2024-06-07T10:51:00-04:00\",\"2024-06-07T10:52:00-04:00\",\"2024-06-07T10:53:00-04:00\",\"2024-06-07T10:54:00-04:00\",\"2024-06-07T10:55:00-04:00\",\"2024-06-07T10:56:00-04:00\",\"2024-06-07T10:57:00-04:00\",\"2024-06-07T10:58:00-04:00\",\"2024-06-07T10:59:00-04:00\",\"2024-06-07T11:00:00-04:00\",\"2024-06-07T11:01:00-04:00\",\"2024-06-07T11:02:00-04:00\",\"2024-06-07T11:03:00-04:00\",\"2024-06-07T11:04:00-04:00\",\"2024-06-07T11:05:00-04:00\",\"2024-06-07T11:06:00-04:00\",\"2024-06-07T11:07:00-04:00\",\"2024-06-07T11:08:00-04:00\",\"2024-06-07T11:09:00-04:00\",\"2024-06-07T11:10:00-04:00\",\"2024-06-07T11:11:00-04:00\",\"2024-06-07T11:12:00-04:00\",\"2024-06-07T11:13:00-04:00\",\"2024-06-07T11:14:00-04:00\",\"2024-06-07T11:15:00-04:00\",\"2024-06-07T11:16:00-04:00\",\"2024-06-07T11:17:00-04:00\",\"2024-06-07T11:18:00-04:00\",\"2024-06-07T11:19:00-04:00\",\"2024-06-07T11:20:00-04:00\",\"2024-06-07T11:21:00-04:00\",\"2024-06-07T11:22:00-04:00\",\"2024-06-07T11:23:00-04:00\",\"2024-06-07T11:24:00-04:00\",\"2024-06-07T11:25:00-04:00\",\"2024-06-07T11:26:00-04:00\",\"2024-06-07T11:27:00-04:00\",\"2024-06-07T11:28:00-04:00\",\"2024-06-07T11:29:00-04:00\",\"2024-06-07T11:30:00-04:00\",\"2024-06-07T11:31:00-04:00\",\"2024-06-07T11:32:00-04:00\",\"2024-06-07T11:33:00-04:00\",\"2024-06-07T11:34:00-04:00\",\"2024-06-07T11:35:00-04:00\",\"2024-06-07T11:36:00-04:00\",\"2024-06-07T11:37:00-04:00\",\"2024-06-07T11:38:00-04:00\",\"2024-06-07T11:39:00-04:00\",\"2024-06-07T11:40:00-04:00\",\"2024-06-07T11:41:00-04:00\",\"2024-06-07T11:42:00-04:00\",\"2024-06-07T11:43:00-04:00\",\"2024-06-07T11:44:00-04:00\",\"2024-06-07T11:45:00-04:00\",\"2024-06-07T11:46:00-04:00\",\"2024-06-07T11:47:00-04:00\",\"2024-06-07T11:48:00-04:00\",\"2024-06-07T11:49:00-04:00\",\"2024-06-07T11:50:00-04:00\",\"2024-06-07T11:51:00-04:00\",\"2024-06-07T11:52:00-04:00\",\"2024-06-07T11:53:00-04:00\",\"2024-06-07T11:54:00-04:00\",\"2024-06-07T11:55:00-04:00\",\"2024-06-07T11:56:00-04:00\",\"2024-06-07T11:57:00-04:00\",\"2024-06-07T11:58:00-04:00\",\"2024-06-07T11:59:00-04:00\",\"2024-06-07T12:00:00-04:00\",\"2024-06-07T12:01:00-04:00\",\"2024-06-07T12:02:00-04:00\",\"2024-06-07T12:03:00-04:00\",\"2024-06-07T12:04:00-04:00\",\"2024-06-07T12:05:00-04:00\",\"2024-06-07T12:06:00-04:00\",\"2024-06-07T12:07:00-04:00\",\"2024-06-07T12:08:00-04:00\",\"2024-06-07T12:09:00-04:00\",\"2024-06-07T12:10:00-04:00\",\"2024-06-07T12:11:00-04:00\",\"2024-06-07T12:12:00-04:00\",\"2024-06-07T12:13:00-04:00\",\"2024-06-07T12:14:00-04:00\",\"2024-06-07T12:15:00-04:00\",\"2024-06-07T12:16:00-04:00\",\"2024-06-07T12:17:00-04:00\",\"2024-06-07T12:18:00-04:00\",\"2024-06-07T12:19:00-04:00\",\"2024-06-07T12:20:00-04:00\",\"2024-06-07T12:21:00-04:00\",\"2024-06-07T12:22:00-04:00\",\"2024-06-07T12:23:00-04:00\",\"2024-06-07T12:24:00-04:00\",\"2024-06-07T12:25:00-04:00\",\"2024-06-07T12:26:00-04:00\",\"2024-06-07T12:27:00-04:00\",\"2024-06-07T12:28:00-04:00\",\"2024-06-07T12:29:00-04:00\",\"2024-06-07T12:30:00-04:00\",\"2024-06-07T12:31:00-04:00\",\"2024-06-07T12:32:00-04:00\",\"2024-06-07T12:33:00-04:00\",\"2024-06-07T12:34:00-04:00\",\"2024-06-07T12:35:00-04:00\",\"2024-06-07T12:36:00-04:00\",\"2024-06-07T12:37:00-04:00\",\"2024-06-07T12:38:00-04:00\",\"2024-06-07T12:39:00-04:00\",\"2024-06-07T12:40:00-04:00\",\"2024-06-07T12:41:00-04:00\",\"2024-06-07T12:42:00-04:00\",\"2024-06-07T12:43:00-04:00\",\"2024-06-07T12:44:00-04:00\",\"2024-06-07T12:45:00-04:00\",\"2024-06-07T12:46:00-04:00\",\"2024-06-07T12:47:00-04:00\",\"2024-06-07T12:48:00-04:00\",\"2024-06-07T12:49:00-04:00\",\"2024-06-07T12:50:00-04:00\",\"2024-06-07T12:51:00-04:00\",\"2024-06-07T12:52:00-04:00\",\"2024-06-07T12:53:00-04:00\",\"2024-06-07T12:54:00-04:00\",\"2024-06-07T12:55:00-04:00\",\"2024-06-07T12:56:00-04:00\",\"2024-06-07T12:57:00-04:00\",\"2024-06-07T12:58:00-04:00\",\"2024-06-07T12:59:00-04:00\",\"2024-06-07T13:00:00-04:00\",\"2024-06-07T13:01:00-04:00\",\"2024-06-07T13:02:00-04:00\",\"2024-06-07T13:03:00-04:00\",\"2024-06-07T13:04:00-04:00\",\"2024-06-07T13:05:00-04:00\",\"2024-06-07T13:06:00-04:00\",\"2024-06-07T13:07:00-04:00\",\"2024-06-07T13:08:00-04:00\",\"2024-06-07T13:09:00-04:00\",\"2024-06-07T13:10:00-04:00\",\"2024-06-07T13:11:00-04:00\",\"2024-06-07T13:12:00-04:00\",\"2024-06-07T13:13:00-04:00\",\"2024-06-07T13:14:00-04:00\",\"2024-06-07T13:15:00-04:00\",\"2024-06-07T13:16:00-04:00\",\"2024-06-07T13:17:00-04:00\",\"2024-06-07T13:18:00-04:00\",\"2024-06-07T13:19:00-04:00\",\"2024-06-07T13:20:00-04:00\",\"2024-06-07T13:21:00-04:00\",\"2024-06-07T13:22:00-04:00\",\"2024-06-07T13:23:00-04:00\",\"2024-06-07T13:24:00-04:00\",\"2024-06-07T13:25:00-04:00\",\"2024-06-07T13:26:00-04:00\",\"2024-06-07T13:27:00-04:00\",\"2024-06-07T13:28:00-04:00\",\"2024-06-07T13:29:00-04:00\",\"2024-06-07T13:30:00-04:00\",\"2024-06-07T13:31:00-04:00\",\"2024-06-07T13:32:00-04:00\",\"2024-06-07T13:33:00-04:00\",\"2024-06-07T13:34:00-04:00\",\"2024-06-07T13:35:00-04:00\",\"2024-06-07T13:36:00-04:00\",\"2024-06-07T13:37:00-04:00\",\"2024-06-07T13:38:00-04:00\",\"2024-06-07T13:39:00-04:00\",\"2024-06-07T13:40:00-04:00\",\"2024-06-07T13:41:00-04:00\",\"2024-06-07T13:42:00-04:00\",\"2024-06-07T13:43:00-04:00\",\"2024-06-07T13:44:00-04:00\",\"2024-06-07T13:45:00-04:00\",\"2024-06-07T13:46:00-04:00\",\"2024-06-07T13:47:00-04:00\",\"2024-06-07T13:48:00-04:00\",\"2024-06-07T13:49:00-04:00\",\"2024-06-07T13:50:00-04:00\",\"2024-06-07T13:51:00-04:00\",\"2024-06-07T13:52:00-04:00\",\"2024-06-07T13:53:00-04:00\",\"2024-06-07T13:54:00-04:00\",\"2024-06-07T13:55:00-04:00\",\"2024-06-07T13:56:00-04:00\",\"2024-06-07T13:57:00-04:00\",\"2024-06-07T13:58:00-04:00\",\"2024-06-07T13:59:00-04:00\",\"2024-06-07T14:00:00-04:00\",\"2024-06-07T14:01:00-04:00\",\"2024-06-07T14:02:00-04:00\",\"2024-06-07T14:03:00-04:00\",\"2024-06-07T14:04:00-04:00\",\"2024-06-07T14:05:00-04:00\",\"2024-06-07T14:06:00-04:00\",\"2024-06-07T14:07:00-04:00\",\"2024-06-07T14:08:00-04:00\",\"2024-06-07T14:09:00-04:00\",\"2024-06-07T14:10:00-04:00\",\"2024-06-07T14:11:00-04:00\",\"2024-06-07T14:12:00-04:00\",\"2024-06-07T14:13:00-04:00\",\"2024-06-07T14:14:00-04:00\",\"2024-06-07T14:15:00-04:00\",\"2024-06-07T14:16:00-04:00\",\"2024-06-07T14:17:00-04:00\",\"2024-06-07T14:18:00-04:00\",\"2024-06-07T14:19:00-04:00\",\"2024-06-07T14:20:00-04:00\",\"2024-06-07T14:21:00-04:00\",\"2024-06-07T14:22:00-04:00\",\"2024-06-07T14:23:00-04:00\",\"2024-06-07T14:24:00-04:00\",\"2024-06-07T14:25:00-04:00\",\"2024-06-07T14:26:00-04:00\",\"2024-06-07T14:27:00-04:00\",\"2024-06-07T14:28:00-04:00\",\"2024-06-07T14:29:00-04:00\",\"2024-06-07T14:30:00-04:00\",\"2024-06-07T14:31:00-04:00\",\"2024-06-07T14:32:00-04:00\",\"2024-06-07T14:33:00-04:00\",\"2024-06-07T14:34:00-04:00\",\"2024-06-07T14:35:00-04:00\",\"2024-06-07T14:36:00-04:00\",\"2024-06-07T14:37:00-04:00\",\"2024-06-07T14:38:00-04:00\",\"2024-06-07T14:39:00-04:00\",\"2024-06-07T14:40:00-04:00\",\"2024-06-07T14:41:00-04:00\",\"2024-06-07T14:42:00-04:00\",\"2024-06-07T14:43:00-04:00\",\"2024-06-07T14:44:00-04:00\",\"2024-06-07T14:45:00-04:00\",\"2024-06-07T14:46:00-04:00\",\"2024-06-07T14:47:00-04:00\",\"2024-06-07T14:48:00-04:00\",\"2024-06-07T14:49:00-04:00\",\"2024-06-07T14:50:00-04:00\",\"2024-06-07T14:51:00-04:00\",\"2024-06-07T14:52:00-04:00\",\"2024-06-07T14:53:00-04:00\",\"2024-06-07T14:54:00-04:00\",\"2024-06-07T14:55:00-04:00\",\"2024-06-07T14:56:00-04:00\",\"2024-06-07T14:57:00-04:00\",\"2024-06-07T14:58:00-04:00\",\"2024-06-07T14:59:00-04:00\",\"2024-06-07T15:00:00-04:00\",\"2024-06-07T15:01:00-04:00\",\"2024-06-07T15:02:00-04:00\",\"2024-06-07T15:03:00-04:00\",\"2024-06-07T15:04:00-04:00\",\"2024-06-07T15:05:00-04:00\",\"2024-06-07T15:06:00-04:00\",\"2024-06-07T15:07:00-04:00\",\"2024-06-07T15:08:00-04:00\",\"2024-06-07T15:09:00-04:00\",\"2024-06-07T15:10:00-04:00\",\"2024-06-07T15:11:00-04:00\",\"2024-06-07T15:12:00-04:00\",\"2024-06-07T15:13:00-04:00\",\"2024-06-07T15:14:00-04:00\",\"2024-06-07T15:15:00-04:00\",\"2024-06-07T15:16:00-04:00\",\"2024-06-07T15:17:00-04:00\",\"2024-06-07T15:18:00-04:00\",\"2024-06-07T15:19:00-04:00\",\"2024-06-07T15:20:00-04:00\",\"2024-06-07T15:21:00-04:00\",\"2024-06-07T15:22:00-04:00\",\"2024-06-07T15:23:00-04:00\",\"2024-06-07T15:24:00-04:00\",\"2024-06-07T15:25:00-04:00\",\"2024-06-07T15:26:00-04:00\",\"2024-06-07T15:27:00-04:00\",\"2024-06-07T15:28:00-04:00\",\"2024-06-07T15:29:00-04:00\",\"2024-06-07T15:30:00-04:00\",\"2024-06-07T15:31:00-04:00\",\"2024-06-07T15:32:00-04:00\",\"2024-06-07T15:33:00-04:00\",\"2024-06-07T15:34:00-04:00\",\"2024-06-07T15:35:00-04:00\",\"2024-06-07T15:36:00-04:00\",\"2024-06-07T15:37:00-04:00\",\"2024-06-07T15:38:00-04:00\",\"2024-06-07T15:39:00-04:00\",\"2024-06-07T15:40:00-04:00\",\"2024-06-07T15:41:00-04:00\",\"2024-06-07T15:42:00-04:00\",\"2024-06-07T15:43:00-04:00\",\"2024-06-07T15:44:00-04:00\",\"2024-06-07T15:45:00-04:00\",\"2024-06-07T15:46:00-04:00\",\"2024-06-07T15:47:00-04:00\",\"2024-06-07T15:48:00-04:00\",\"2024-06-07T15:49:00-04:00\",\"2024-06-07T15:50:00-04:00\",\"2024-06-07T15:51:00-04:00\",\"2024-06-07T15:52:00-04:00\",\"2024-06-07T15:53:00-04:00\",\"2024-06-07T15:54:00-04:00\",\"2024-06-07T15:55:00-04:00\",\"2024-06-07T15:56:00-04:00\",\"2024-06-07T15:57:00-04:00\",\"2024-06-07T15:58:00-04:00\",\"2024-06-07T15:59:00-04:00\"],\"xaxis\":\"x\",\"y\":[0.0,0.0,0.0,0.0,0.0,0.0,0.0,0.0,0.0,0.0,0.0,0.0,0.0,-0.008232863188140982,-0.11435749207353751,-0.09883798451991765,-0.14549676388855914,-0.18088356043790554,-0.19918545536231136,-0.17842092110754493,-0.19642978910934517,-0.2169097858875375,-0.2164385886906075,-0.17726007839962676,-0.16647064012263968,-0.16379011354823092,-0.07100779814086877,-0.09934181328435443,-0.06961291317432483,-0.03201474228424672,0.016928453573200386,0.019634849941297716,0.05744783328330527,0.09973624018590499,0.0884148760843857,0.0647670892955432,0.055061542489596604,0.047922490291995246,0.05503608594969478,0.07414418943437795,0.09484457957066184,0.09604615584783005,0.09875925861189216,0.08819759727515475,0.08787133811989634,0.056592550229055405,0.09728481970466873,0.08634460558366186,0.11181105332411789,0.11757496846917093,0.11500068164701815,0.10150118830173938,0.07440015761184782,0.08603632322277122,0.06301756688887394,0.08322752195383032,0.05306712314339279,0.07080516398963255,0.04271939903142652,0.045736768144280404,0.007494429503680067,-0.015413756411618351,-0.03323945683050056,-0.022895940594509057,0.014857282316540932,-0.0027479663774556684,0.019858903858846588,0.010134136830259877,0.02867344602208277,0.01994620354130916,0.02430622968117291,0.03388180320587253,0.06572982632718549,0.11338248060596356,0.14219874937344912,0.15532494901103178,0.16495230163832275,0.203722291094806,0.1996405818667597,0.2319523358663389,0.23402937322811113,0.24839544505073263,0.2616720664771037,0.26216792496947505,0.26947391516796415,0.23600552674969322,0.21244776780119423,0.19256951520733878,0.1658957045025602,0.12573362110458675,0.12317953441251461,0.06005264304383218,0.04259863263834518,0.0026135066311496757,-0.05011250411754986,-0.07912500305104686,-0.10436952700533197,-0.11236640962766842,-0.14460709782886738,-0.17641618446307916,-0.18482304709425534,-0.18774241704826977,-0.22203653244352495,-0.1918879562009863,-0.18092661498914708,-0.16955472820359319,-0.14738360029176079,-0.13820341022037042,-0.14954644335537637,-0.152792107789395,-0.09834294281060352,-0.0807894777450997,-0.08852520914103934,-0.08169620548594025,-0.031790081468670905,-0.01611450572286799,0.014806429527851606,0.040140460665725186,0.05170817036170661,0.057669308822710263,0.08911463153927457,0.12975534642262687,0.10251926530870037,0.12260509412246279,0.15563120781970952,0.16958788254987667,0.170067747571494,0.18525733912488818,0.1688150346014936,0.15856694350452472,0.15469905176647103,0.17917781747200934,0.18097886738411262,0.1704815794712431,0.1810744502892021,0.16599357831117345,0.14663169017845235,0.11536707978794425,0.10210845547297254,0.07197593158429072,0.06290037903309553,0.0712462680603494,0.07935024205141872,0.037181177956256306,0.008765474435790566,-0.0014223602996707996,-0.006393111539182428,-0.00583152144270116,0.014551942298595577,0.024893516484326028,0.033487167927489736,0.027692888711101205,0.013604925734966855,0.006198686006882781,-0.009073804213841186,-0.0015835526370722164,0.017650556145810015,0.03505072388148278,0.04705805822538878,0.0597707184570595,0.047532076389757094,0.0493030429441319,0.04334980103143948,0.04803589356825455,0.04885574209853871,0.03401345957163926,0.02701046313532629,0.008037795029423478,0.00039077266143294764,-0.022072120954675256,-0.0194039893541742,-0.037975989786929176,-0.04957246059146314,-0.048942451279231136,-0.038621668468437065,-0.017496648918296387,-0.032380376338522865,-0.03444857396328871,-0.0443814644207805,-0.04202078741749915,-0.04722179587437836,-0.021972632198014708,-0.025759569133356308,0.0022711496650629215,0.03148574604065857,0.061312413541458,0.0673906420737751,0.06567051234603127,0.06402895960653154,0.060504504022674155,0.06349964910262429,0.07200864439298016,0.07663366558554685,0.057395701603297766,0.04538279487977093,0.034901587284593916,0.012980418684918504,-0.016640590784078313,-0.04044107480078196,-0.05123954442260015,-0.029787140907217236,-0.029912237407842213,-0.025654575603624608,-0.03867406335569967,-0.038164170476107984,-0.02219824354048683,0.005094687243399676,0.03635014655958457,0.05405540768975925,0.055868393721965504,0.06999424501495355,0.09393552763449975,0.10713153446539536,0.11084479820084425,0.12091714239414841,0.12136073221935817,0.11661233546206518,0.12489583118036762,0.1261093709107115,0.10159067539350985,0.07914200437068075,0.08193405406396437,0.06841452010655757,0.04951390530416688,0.033611465076234026,0.043124763549940326,0.03093792619753799,0.0307305094033552,0.00558669615566032,-0.017487769945972786,-0.03313315799343286,-0.035278243789804264,-0.001059402454842484,0.0028006355656202686,0.02801388945718486,0.049952611452880546,0.052526772778406894,0.052080456747489734,0.053738105441453854,0.04703227689364553,0.04715438090818225,0.050478721047454655,0.05573450229519494,0.06786340878892361,0.055306637031208083,0.061813252185231704,0.05635991551875463,0.040101158692181116,0.028731187203447917,0.01900431701932348,0.015098931111850789,0.011196224372866936,0.005957245185896909,-0.0007844850381673041,-0.013753558814499911,-0.023206013289609473,-0.030267061584254407,-0.04719241104021421,-0.04570287137710238,-0.04829401929274013,-0.03886070547329723,-0.035317776547373114,-0.03736742390256609,-0.024566581353440142,-0.01953528496468948,-0.017996950447098925,-0.00796918987256845,-0.0067354335531319975,0.009445898131104968,0.03578383048812839,0.0375841737775886,0.03491008220791514,0.02528317983419015,0.027172042458744272,0.042746640821491155,0.03918301381824563,0.020862538331158476,0.005265053870715519,-0.005113141304207147,-0.016645107532070824,-0.03128214357630554,-0.05645177916693456,-0.07736862276931333,-0.07086910808044422,-0.07426067779255163,-0.09411430721263514,-0.1173881114491735,-0.13926902547129316,-0.13700690303861052,-0.1528585114386658,-0.17635480793074976,-0.1521199581570727,-0.13959267702441025,-0.11379162300448797,-0.08404583967836743,-0.09279054027271627,-0.1034217132721551,-0.10434685954990641,-0.07515652834189268,-0.059945641564013386,-0.054024573361289185,-0.041682750695997584,-0.0020025854584559966,-0.03677578097037326,-0.05704355435713637,-0.07074428548733636,-0.08357140314450362,-0.07255164448051232,-0.04947518733831657,-0.03729818828114162,-0.05193811789396818,-0.05130670710170193,-0.06331327952881338,-0.05722472938398937,-0.10776397105959745,-0.07402440084297268,-0.06683802361536095,-0.0541943684289663,-0.031132230635762426,-0.019208953359793668,-0.024738590087707735,-0.028084341770465926,-0.023005348660376512,-0.01619895668326876,-0.00721952314296459,6.258791927393759e-06,0.04985085305182224,0.03282715787142365,0.04411911469037477,0.04725111716291508,0.04429321733277902,0.034244205226286795,0.03550220577506025,0.036828506582679665,0.033328652778152446,0.04953030680127313,0.048560082046151365,0.0372933953941299,0.02203124681875579,0.031486244380175776,0.030813670171340846,0.024710252386341836,0.02959530006629052,0.0345370577345534,0.0367532675192308,0.03292027083665516,0.037678810577716604,0.024977514397988898,0.027210835601550798,0.03346931828085076,0.04220445475817769,0.035457500341181,0.042898181019808135,0.03577071867380255,0.04113669308742374,0.031919390750744014,0.03783392387293816,0.047642018792487306,0.07896655713977907,0.10209926525911328,0.10067719028259603,0.10537687932111339,0.11263628991579822,0.12712456396798189,0.12342804406034702,0.142908148461089,0.13987784720950458,0.14284140900807074,0.1298092411265941,0.14510154530267982,0.14013603265505026,0.15688745403767257,0.15088851860960517,0.1600750675468987,0.17295571415598943,0.17125126958902115,0.1746111559546648,0.16107646118203434,0.13986244652201663,0.10561859712311161,0.10134901153278975,0.07973046782808524,0.05927947547132817,0.04365618922790304,0.07124887919050593,0.0569227789180502,0.048849917968055934,0.044568366927506986,0.03830494306512833,0.03752082862553152],\"yaxis\":\"y\",\"type\":\"scatter\"}],                        {\"template\":{\"data\":{\"histogram2dcontour\":[{\"type\":\"histogram2dcontour\",\"colorbar\":{\"outlinewidth\":0,\"ticks\":\"\"},\"colorscale\":[[0.0,\"#0d0887\"],[0.1111111111111111,\"#46039f\"],[0.2222222222222222,\"#7201a8\"],[0.3333333333333333,\"#9c179e\"],[0.4444444444444444,\"#bd3786\"],[0.5555555555555556,\"#d8576b\"],[0.6666666666666666,\"#ed7953\"],[0.7777777777777778,\"#fb9f3a\"],[0.8888888888888888,\"#fdca26\"],[1.0,\"#f0f921\"]]}],\"choropleth\":[{\"type\":\"choropleth\",\"colorbar\":{\"outlinewidth\":0,\"ticks\":\"\"}}],\"histogram2d\":[{\"type\":\"histogram2d\",\"colorbar\":{\"outlinewidth\":0,\"ticks\":\"\"},\"colorscale\":[[0.0,\"#0d0887\"],[0.1111111111111111,\"#46039f\"],[0.2222222222222222,\"#7201a8\"],[0.3333333333333333,\"#9c179e\"],[0.4444444444444444,\"#bd3786\"],[0.5555555555555556,\"#d8576b\"],[0.6666666666666666,\"#ed7953\"],[0.7777777777777778,\"#fb9f3a\"],[0.8888888888888888,\"#fdca26\"],[1.0,\"#f0f921\"]]}],\"heatmap\":[{\"type\":\"heatmap\",\"colorbar\":{\"outlinewidth\":0,\"ticks\":\"\"},\"colorscale\":[[0.0,\"#0d0887\"],[0.1111111111111111,\"#46039f\"],[0.2222222222222222,\"#7201a8\"],[0.3333333333333333,\"#9c179e\"],[0.4444444444444444,\"#bd3786\"],[0.5555555555555556,\"#d8576b\"],[0.6666666666666666,\"#ed7953\"],[0.7777777777777778,\"#fb9f3a\"],[0.8888888888888888,\"#fdca26\"],[1.0,\"#f0f921\"]]}],\"heatmapgl\":[{\"type\":\"heatmapgl\",\"colorbar\":{\"outlinewidth\":0,\"ticks\":\"\"},\"colorscale\":[[0.0,\"#0d0887\"],[0.1111111111111111,\"#46039f\"],[0.2222222222222222,\"#7201a8\"],[0.3333333333333333,\"#9c179e\"],[0.4444444444444444,\"#bd3786\"],[0.5555555555555556,\"#d8576b\"],[0.6666666666666666,\"#ed7953\"],[0.7777777777777778,\"#fb9f3a\"],[0.8888888888888888,\"#fdca26\"],[1.0,\"#f0f921\"]]}],\"contourcarpet\":[{\"type\":\"contourcarpet\",\"colorbar\":{\"outlinewidth\":0,\"ticks\":\"\"}}],\"contour\":[{\"type\":\"contour\",\"colorbar\":{\"outlinewidth\":0,\"ticks\":\"\"},\"colorscale\":[[0.0,\"#0d0887\"],[0.1111111111111111,\"#46039f\"],[0.2222222222222222,\"#7201a8\"],[0.3333333333333333,\"#9c179e\"],[0.4444444444444444,\"#bd3786\"],[0.5555555555555556,\"#d8576b\"],[0.6666666666666666,\"#ed7953\"],[0.7777777777777778,\"#fb9f3a\"],[0.8888888888888888,\"#fdca26\"],[1.0,\"#f0f921\"]]}],\"surface\":[{\"type\":\"surface\",\"colorbar\":{\"outlinewidth\":0,\"ticks\":\"\"},\"colorscale\":[[0.0,\"#0d0887\"],[0.1111111111111111,\"#46039f\"],[0.2222222222222222,\"#7201a8\"],[0.3333333333333333,\"#9c179e\"],[0.4444444444444444,\"#bd3786\"],[0.5555555555555556,\"#d8576b\"],[0.6666666666666666,\"#ed7953\"],[0.7777777777777778,\"#fb9f3a\"],[0.8888888888888888,\"#fdca26\"],[1.0,\"#f0f921\"]]}],\"mesh3d\":[{\"type\":\"mesh3d\",\"colorbar\":{\"outlinewidth\":0,\"ticks\":\"\"}}],\"scatter\":[{\"fillpattern\":{\"fillmode\":\"overlay\",\"size\":10,\"solidity\":0.2},\"type\":\"scatter\"}],\"parcoords\":[{\"type\":\"parcoords\",\"line\":{\"colorbar\":{\"outlinewidth\":0,\"ticks\":\"\"}}}],\"scatterpolargl\":[{\"type\":\"scatterpolargl\",\"marker\":{\"colorbar\":{\"outlinewidth\":0,\"ticks\":\"\"}}}],\"bar\":[{\"error_x\":{\"color\":\"#2a3f5f\"},\"error_y\":{\"color\":\"#2a3f5f\"},\"marker\":{\"line\":{\"color\":\"#E5ECF6\",\"width\":0.5},\"pattern\":{\"fillmode\":\"overlay\",\"size\":10,\"solidity\":0.2}},\"type\":\"bar\"}],\"scattergeo\":[{\"type\":\"scattergeo\",\"marker\":{\"colorbar\":{\"outlinewidth\":0,\"ticks\":\"\"}}}],\"scatterpolar\":[{\"type\":\"scatterpolar\",\"marker\":{\"colorbar\":{\"outlinewidth\":0,\"ticks\":\"\"}}}],\"histogram\":[{\"marker\":{\"pattern\":{\"fillmode\":\"overlay\",\"size\":10,\"solidity\":0.2}},\"type\":\"histogram\"}],\"scattergl\":[{\"type\":\"scattergl\",\"marker\":{\"colorbar\":{\"outlinewidth\":0,\"ticks\":\"\"}}}],\"scatter3d\":[{\"type\":\"scatter3d\",\"line\":{\"colorbar\":{\"outlinewidth\":0,\"ticks\":\"\"}},\"marker\":{\"colorbar\":{\"outlinewidth\":0,\"ticks\":\"\"}}}],\"scattermapbox\":[{\"type\":\"scattermapbox\",\"marker\":{\"colorbar\":{\"outlinewidth\":0,\"ticks\":\"\"}}}],\"scatterternary\":[{\"type\":\"scatterternary\",\"marker\":{\"colorbar\":{\"outlinewidth\":0,\"ticks\":\"\"}}}],\"scattercarpet\":[{\"type\":\"scattercarpet\",\"marker\":{\"colorbar\":{\"outlinewidth\":0,\"ticks\":\"\"}}}],\"carpet\":[{\"aaxis\":{\"endlinecolor\":\"#2a3f5f\",\"gridcolor\":\"white\",\"linecolor\":\"white\",\"minorgridcolor\":\"white\",\"startlinecolor\":\"#2a3f5f\"},\"baxis\":{\"endlinecolor\":\"#2a3f5f\",\"gridcolor\":\"white\",\"linecolor\":\"white\",\"minorgridcolor\":\"white\",\"startlinecolor\":\"#2a3f5f\"},\"type\":\"carpet\"}],\"table\":[{\"cells\":{\"fill\":{\"color\":\"#EBF0F8\"},\"line\":{\"color\":\"white\"}},\"header\":{\"fill\":{\"color\":\"#C8D4E3\"},\"line\":{\"color\":\"white\"}},\"type\":\"table\"}],\"barpolar\":[{\"marker\":{\"line\":{\"color\":\"#E5ECF6\",\"width\":0.5},\"pattern\":{\"fillmode\":\"overlay\",\"size\":10,\"solidity\":0.2}},\"type\":\"barpolar\"}],\"pie\":[{\"automargin\":true,\"type\":\"pie\"}]},\"layout\":{\"autotypenumbers\":\"strict\",\"colorway\":[\"#636efa\",\"#EF553B\",\"#00cc96\",\"#ab63fa\",\"#FFA15A\",\"#19d3f3\",\"#FF6692\",\"#B6E880\",\"#FF97FF\",\"#FECB52\"],\"font\":{\"color\":\"#2a3f5f\"},\"hovermode\":\"closest\",\"hoverlabel\":{\"align\":\"left\"},\"paper_bgcolor\":\"white\",\"plot_bgcolor\":\"#E5ECF6\",\"polar\":{\"bgcolor\":\"#E5ECF6\",\"angularaxis\":{\"gridcolor\":\"white\",\"linecolor\":\"white\",\"ticks\":\"\"},\"radialaxis\":{\"gridcolor\":\"white\",\"linecolor\":\"white\",\"ticks\":\"\"}},\"ternary\":{\"bgcolor\":\"#E5ECF6\",\"aaxis\":{\"gridcolor\":\"white\",\"linecolor\":\"white\",\"ticks\":\"\"},\"baxis\":{\"gridcolor\":\"white\",\"linecolor\":\"white\",\"ticks\":\"\"},\"caxis\":{\"gridcolor\":\"white\",\"linecolor\":\"white\",\"ticks\":\"\"}},\"coloraxis\":{\"colorbar\":{\"outlinewidth\":0,\"ticks\":\"\"}},\"colorscale\":{\"sequential\":[[0.0,\"#0d0887\"],[0.1111111111111111,\"#46039f\"],[0.2222222222222222,\"#7201a8\"],[0.3333333333333333,\"#9c179e\"],[0.4444444444444444,\"#bd3786\"],[0.5555555555555556,\"#d8576b\"],[0.6666666666666666,\"#ed7953\"],[0.7777777777777778,\"#fb9f3a\"],[0.8888888888888888,\"#fdca26\"],[1.0,\"#f0f921\"]],\"sequentialminus\":[[0.0,\"#0d0887\"],[0.1111111111111111,\"#46039f\"],[0.2222222222222222,\"#7201a8\"],[0.3333333333333333,\"#9c179e\"],[0.4444444444444444,\"#bd3786\"],[0.5555555555555556,\"#d8576b\"],[0.6666666666666666,\"#ed7953\"],[0.7777777777777778,\"#fb9f3a\"],[0.8888888888888888,\"#fdca26\"],[1.0,\"#f0f921\"]],\"diverging\":[[0,\"#8e0152\"],[0.1,\"#c51b7d\"],[0.2,\"#de77ae\"],[0.3,\"#f1b6da\"],[0.4,\"#fde0ef\"],[0.5,\"#f7f7f7\"],[0.6,\"#e6f5d0\"],[0.7,\"#b8e186\"],[0.8,\"#7fbc41\"],[0.9,\"#4d9221\"],[1,\"#276419\"]]},\"xaxis\":{\"gridcolor\":\"white\",\"linecolor\":\"white\",\"ticks\":\"\",\"title\":{\"standoff\":15},\"zerolinecolor\":\"white\",\"automargin\":true,\"zerolinewidth\":2},\"yaxis\":{\"gridcolor\":\"white\",\"linecolor\":\"white\",\"ticks\":\"\",\"title\":{\"standoff\":15},\"zerolinecolor\":\"white\",\"automargin\":true,\"zerolinewidth\":2},\"scene\":{\"xaxis\":{\"backgroundcolor\":\"#E5ECF6\",\"gridcolor\":\"white\",\"linecolor\":\"white\",\"showbackground\":true,\"ticks\":\"\",\"zerolinecolor\":\"white\",\"gridwidth\":2},\"yaxis\":{\"backgroundcolor\":\"#E5ECF6\",\"gridcolor\":\"white\",\"linecolor\":\"white\",\"showbackground\":true,\"ticks\":\"\",\"zerolinecolor\":\"white\",\"gridwidth\":2},\"zaxis\":{\"backgroundcolor\":\"#E5ECF6\",\"gridcolor\":\"white\",\"linecolor\":\"white\",\"showbackground\":true,\"ticks\":\"\",\"zerolinecolor\":\"white\",\"gridwidth\":2}},\"shapedefaults\":{\"line\":{\"color\":\"#2a3f5f\"}},\"annotationdefaults\":{\"arrowcolor\":\"#2a3f5f\",\"arrowhead\":0,\"arrowwidth\":1},\"geo\":{\"bgcolor\":\"white\",\"landcolor\":\"#E5ECF6\",\"subunitcolor\":\"white\",\"showland\":true,\"showlakes\":true,\"lakecolor\":\"white\"},\"title\":{\"x\":0.05},\"mapbox\":{\"style\":\"light\"}}},\"xaxis\":{\"anchor\":\"y\",\"domain\":[0.0,1.0],\"title\":{\"text\":\"Datetime\"}},\"yaxis\":{\"anchor\":\"x\",\"domain\":[0.0,1.0],\"title\":{\"text\":\"MACD_12_24\"}},\"legend\":{\"tracegroupgap\":0},\"title\":{\"text\":\"AAPL MACD\"}},                        {\"responsive\": true}                    ).then(function(){\n",
       "                            \n",
       "var gd = document.getElementById('2e5263a6-fca6-4eba-8387-59200a1e1b3f');\n",
       "var x = new MutationObserver(function (mutations, observer) {{\n",
       "        var display = window.getComputedStyle(gd).display;\n",
       "        if (!display || display === 'none') {{\n",
       "            console.log([gd, 'removed!']);\n",
       "            Plotly.purge(gd);\n",
       "            observer.disconnect();\n",
       "        }}\n",
       "}});\n",
       "\n",
       "// Listen for the removal of the full notebook cells\n",
       "var notebookContainer = gd.closest('#notebook-container');\n",
       "if (notebookContainer) {{\n",
       "    x.observe(notebookContainer, {childList: true});\n",
       "}}\n",
       "\n",
       "// Listen for the clearing of the current output cell\n",
       "var outputEl = gd.closest('.output');\n",
       "if (outputEl) {{\n",
       "    x.observe(outputEl, {childList: true});\n",
       "}}\n",
       "\n",
       "                        })                };                });            </script>        </div>"
      ]
     },
     "metadata": {},
     "output_type": "display_data"
    }
   ],
   "source": [
    "stonks = create_stock_data_from_input()\n",
    "\n",
    "with warnings.catch_warnings():\n",
    "    warnings.simplefilter(\"ignore\")\n",
    "    fig = px.line(stonks.data_frame, x=stonks.data_frame.index,\n",
    "                  y='Close',\n",
    "                 title=f\"{stonks.stock_symbol} Stock Prices\")\n",
    "    fig.show()\n",
    "\n",
    "# The number of lag variables should not exceed 30% of the \n",
    "# number of observations\n",
    "threshold = int(0.3 * stonks.data_frame.shape[0])\n",
    "    \n",
    "add_lags_from_input(stonks, threshold)\n",
    "\n",
    "display_days = int(0.8 * stonks.lag_length)\n",
    "SMA_string = 'SMA_' + str(display_days)\n",
    "lower_boll_str = 'lower_boll_' + str(display_days)\n",
    "upper_boll_str = 'upper_boll_' + str(display_days)\n",
    "EMA_string = 'EMA_' + str(display_days)\n",
    "EMA_string_2 = 'EMA_' + str(int(display_days / 2))\n",
    "MACD_string = 'MACD_' + str(int(display_days / 2)) + '_' + str(display_days)\n",
    "\n",
    "\n",
    "stonks.add_simple_moving_average(display_days)\n",
    "stonks.add_upper_bollinger(display_days)\n",
    "stonks.add_lower_bollinger(display_days)\n",
    "stonks.add_exponential_moving_average(display_days)\n",
    "stonks.add_exponential_moving_average(int(display_days/2))\n",
    "stonks.add_MACD(display_days, int(display_days/2))\n",
    "\n",
    "\n",
    "with warnings.catch_warnings():\n",
    "    warnings.simplefilter(\"ignore\")\n",
    "    fig = px.line(stonks.data_frame, x=stonks.data_frame.index,\n",
    "                  y=[SMA_string, upper_boll_str, lower_boll_str, 'Close',], \n",
    "                  color_discrete_map={\n",
    "                      SMA_string: \"#85deb1\",\n",
    "                      upper_boll_str: \"#b6d1c3\",\n",
    "                      lower_boll_str: \"#b6d1c3\",\n",
    "                      \"Close\": \"#0059ff\",\n",
    "                  },\n",
    "                 title=f\"{stonks.stock_symbol} Stock Prices w/ Bollinger Bands\").update_traces(\n",
    "        selector={\"name\": upper_boll_str},\n",
    "        line={\"dash\": \"dot\"}\n",
    "    ).update_traces(\n",
    "        selector={\"name\": lower_boll_str}, \n",
    "        line={\"dash\": \"dot\"})\n",
    "\n",
    "    fig.show()\n",
    "\n",
    "\n",
    "with warnings.catch_warnings():\n",
    "    warnings.simplefilter(\"ignore\")\n",
    "    fig = px.line(stonks.data_frame, x=stonks.data_frame.index,\n",
    "                  y=[EMA_string, EMA_string_2], \n",
    "                  color_discrete_map={\n",
    "                      EMA_string:\"#38b9ff\",\n",
    "                      EMA_string_2:\"#44fcd1\"\n",
    "                  },\n",
    "                 title=f\"{stonks.stock_symbol} Exponential Moving Averages\")\n",
    "    fig.show()\n",
    "    \n",
    "\n",
    "with warnings.catch_warnings():\n",
    "    warnings.simplefilter(\"ignore\")\n",
    "    fig = px.line(stonks.data_frame, x=stonks.data_frame.index,\n",
    "                  y=MACD_string, \n",
    "                  color_discrete_map={\n",
    "                      MACD_string:\"#edff47\"\n",
    "                  },\n",
    "                 title=f\"{stonks.stock_symbol} MACD\")\n",
    "    fig.show()\n"
   ]
  },
  {
   "cell_type": "markdown",
   "id": "9e98f2d4",
   "metadata": {},
   "source": [
    "# Setting Up Models"
   ]
  },
  {
   "cell_type": "code",
   "execution_count": 75,
   "id": "39f39a8d",
   "metadata": {},
   "outputs": [
    {
     "name": "stdout",
     "output_type": "stream",
     "text": [
      "What's the minimum number of trees that should be in our forest?\n",
      "(Type 'Exit' to quit)\n",
      "1\n",
      "What's the maximum number of trees that should be in our forest?\n",
      "(Type 'Exit' to quit)\n",
      "50\n",
      "How many values should we look at between 1 and 50? \n",
      "(Type 'Exit' to quit)\n",
      "20\n",
      "Give a lower bound for the number of predictors each tree in our forest should consider (between 1 and 30)\n",
      "(Type 'Exit' to quit)\n",
      "1\n",
      "Give an upper bound for the number of predictors each tree in our forest should consider (between 1 and 30)\n",
      "(Type 'Exit' to quit)\n",
      "10\n",
      "How many values should we look at between 1 and 10? \n",
      "(Type 'Exit' to quit)\n",
      "10\n",
      "Give a lower bound for the number of samples in each tree\n",
      "(Type 'Exit' to quit)\n",
      "1\n",
      "Give an upper bound for the number of samples in each tree\n",
      "(Type 'Exit' to quit)\n",
      "10\n",
      "How many values should we look at between 1 and 10? \n",
      "(Type 'Exit' to quit)\n",
      "10\n",
      "\n",
      "\n",
      "Running 25000 models .....\n",
      "\n",
      "\n"
     ]
    },
    {
     "name": "stderr",
     "output_type": "stream",
     "text": [
      "/var/folders/r1/m30jbh6n07v2t1rhr6pn5_rh0000gn/T/ipykernel_985/403890608.py:263: PerformanceWarning:\n",
      "\n",
      "DataFrame is highly fragmented.  This is usually the result of calling `frame.insert` many times, which has poor performance.  Consider joining all columns at once using pd.concat(axis=1) instead. To get a de-fragmented frame, use `newframe = frame.copy()`\n",
      "\n"
     ]
    },
    {
     "data": {
      "application/vnd.plotly.v1+json": {
       "config": {
        "plotlyServerURL": "https://plot.ly"
       },
       "data": [
        {
         "hovertemplate": "variable=features_1_leaf_1<br>Trees=%{x}<br>value=%{y}<extra></extra>",
         "legendgroup": "features_1_leaf_1",
         "line": {
          "color": "#636efa",
          "dash": "solid"
         },
         "marker": {
          "symbol": "circle"
         },
         "mode": "lines",
         "name": "features_1_leaf_1",
         "orientation": "v",
         "showlegend": true,
         "type": "scatter",
         "x": [
          1,
          3,
          5,
          7,
          9,
          11,
          13,
          15,
          17,
          19,
          21,
          23,
          25,
          27,
          29,
          31,
          33,
          35,
          37,
          39,
          41,
          43,
          45,
          47,
          49
         ],
         "xaxis": "x",
         "y": [
          0.7588305970934017,
          0.8748371535149999,
          0.9020614586154588,
          0.9186162285271043,
          0.9270763050380408,
          0.9307031388957834,
          0.9341576761524648,
          0.9380544087316718,
          0.9400445289488338,
          0.940132903632416,
          0.9405612775984895,
          0.9400067253544216,
          0.9406799231937818,
          0.9424499458512491,
          0.9418410007728777,
          0.9416084986200834,
          0.9420803173460207,
          0.9427432955022208,
          0.9432324767855569,
          0.9432228012591819,
          0.9432967683489102,
          0.9429031724679293,
          0.9432484525320686,
          0.9427571294533227,
          0.9425871417855634
         ],
         "yaxis": "y"
        },
        {
         "hovertemplate": "variable=features_2_leaf_1<br>Trees=%{x}<br>value=%{y}<extra></extra>",
         "legendgroup": "features_2_leaf_1",
         "line": {
          "color": "#EF553B",
          "dash": "solid"
         },
         "marker": {
          "symbol": "circle"
         },
         "mode": "lines",
         "name": "features_2_leaf_1",
         "orientation": "v",
         "showlegend": true,
         "type": "scatter",
         "x": [
          1,
          3,
          5,
          7,
          9,
          11,
          13,
          15,
          17,
          19,
          21,
          23,
          25,
          27,
          29,
          31,
          33,
          35,
          37,
          39,
          41,
          43,
          45,
          47,
          49
         ],
         "xaxis": "x",
         "y": [
          0.8517166475301,
          0.9239434246408402,
          0.9401518914264008,
          0.9423494469972074,
          0.9445323148153065,
          0.9456426815736382,
          0.9435780185781741,
          0.9460233270363247,
          0.9475460809617984,
          0.9486522197539153,
          0.9469681831846672,
          0.9469177842944468,
          0.946840849081035,
          0.9474768564280712,
          0.9471839311104008,
          0.947815376244978,
          0.9488042395949108,
          0.950114124868446,
          0.9506998852126867,
          0.9515708175782057,
          0.951549326727074,
          0.9519335974648545,
          0.9515359444565341,
          0.9517151404047294,
          0.9517349883138486
         ],
         "yaxis": "y"
        },
        {
         "hovertemplate": "variable=features_3_leaf_1<br>Trees=%{x}<br>value=%{y}<extra></extra>",
         "legendgroup": "features_3_leaf_1",
         "line": {
          "color": "#00cc96",
          "dash": "solid"
         },
         "marker": {
          "symbol": "circle"
         },
         "mode": "lines",
         "name": "features_3_leaf_1",
         "orientation": "v",
         "showlegend": true,
         "type": "scatter",
         "x": [
          1,
          3,
          5,
          7,
          9,
          11,
          13,
          15,
          17,
          19,
          21,
          23,
          25,
          27,
          29,
          31,
          33,
          35,
          37,
          39,
          41,
          43,
          45,
          47,
          49
         ],
         "xaxis": "x",
         "y": [
          0.8181736616186914,
          0.9012663614720143,
          0.9289069729854189,
          0.9338318146262841,
          0.9394608031005939,
          0.9407483743843249,
          0.9444819678526635,
          0.9472153644892314,
          0.9482273588331503,
          0.9490656884544704,
          0.949201947215079,
          0.9504792984320878,
          0.9508407853040965,
          0.952116427159653,
          0.9527005569185872,
          0.9527477834776044,
          0.9524622484643622,
          0.9531917861587751,
          0.9534108293663728,
          0.9539938984774355,
          0.9537067486385057,
          0.953872122472325,
          0.9536795514640373,
          0.9539198256554556,
          0.9546636774247096
         ],
         "yaxis": "y"
        },
        {
         "hovertemplate": "variable=features_4_leaf_1<br>Trees=%{x}<br>value=%{y}<extra></extra>",
         "legendgroup": "features_4_leaf_1",
         "line": {
          "color": "#ab63fa",
          "dash": "solid"
         },
         "marker": {
          "symbol": "circle"
         },
         "mode": "lines",
         "name": "features_4_leaf_1",
         "orientation": "v",
         "showlegend": true,
         "type": "scatter",
         "x": [
          1,
          3,
          5,
          7,
          9,
          11,
          13,
          15,
          17,
          19,
          21,
          23,
          25,
          27,
          29,
          31,
          33,
          35,
          37,
          39,
          41,
          43,
          45,
          47,
          49
         ],
         "xaxis": "x",
         "y": [
          0.8599125780485499,
          0.9074431706573645,
          0.9342128038930484,
          0.9416083560259002,
          0.947963417419583,
          0.9476895006047922,
          0.9519854544976365,
          0.9531373555748317,
          0.9553403715632198,
          0.9551273163731363,
          0.9561783184134068,
          0.9583605693093464,
          0.9600704311364952,
          0.9602010639991627,
          0.9604499193558139,
          0.9601889881172199,
          0.9598073837755242,
          0.9606417581519274,
          0.960500168143214,
          0.9605212259772223,
          0.959309756483905,
          0.9590829561667722,
          0.9588928696543455,
          0.9593758641241855,
          0.9592525751699978
         ],
         "yaxis": "y"
        },
        {
         "hovertemplate": "variable=features_5_leaf_1<br>Trees=%{x}<br>value=%{y}<extra></extra>",
         "legendgroup": "features_5_leaf_1",
         "line": {
          "color": "#FFA15A",
          "dash": "solid"
         },
         "marker": {
          "symbol": "circle"
         },
         "mode": "lines",
         "name": "features_5_leaf_1",
         "orientation": "v",
         "showlegend": true,
         "type": "scatter",
         "x": [
          1,
          3,
          5,
          7,
          9,
          11,
          13,
          15,
          17,
          19,
          21,
          23,
          25,
          27,
          29,
          31,
          33,
          35,
          37,
          39,
          41,
          43,
          45,
          47,
          49
         ],
         "xaxis": "x",
         "y": [
          0.866436126079876,
          0.9173067962358689,
          0.9395312041780001,
          0.9450393815958531,
          0.9484056907348755,
          0.9488112128582502,
          0.9507014338835184,
          0.9532965485534873,
          0.9545990293933974,
          0.9546941623198875,
          0.9564206507233332,
          0.9570089236036348,
          0.9575807526785607,
          0.9580231942103079,
          0.9578646460301684,
          0.9573301901600774,
          0.9573042645561,
          0.9587958701805002,
          0.9592423505662323,
          0.9597640073705639,
          0.9587495263168618,
          0.9591824046246508,
          0.959186807173222,
          0.9591721821769733,
          0.9596090544686355
         ],
         "yaxis": "y"
        },
        {
         "hovertemplate": "variable=features_6_leaf_1<br>Trees=%{x}<br>value=%{y}<extra></extra>",
         "legendgroup": "features_6_leaf_1",
         "line": {
          "color": "#19d3f3",
          "dash": "solid"
         },
         "marker": {
          "symbol": "circle"
         },
         "mode": "lines",
         "name": "features_6_leaf_1",
         "orientation": "v",
         "showlegend": true,
         "type": "scatter",
         "x": [
          1,
          3,
          5,
          7,
          9,
          11,
          13,
          15,
          17,
          19,
          21,
          23,
          25,
          27,
          29,
          31,
          33,
          35,
          37,
          39,
          41,
          43,
          45,
          47,
          49
         ],
         "xaxis": "x",
         "y": [
          0.8819519258559358,
          0.928810928509195,
          0.9407223779456488,
          0.9498534022496475,
          0.9522156539714228,
          0.9549981202121245,
          0.95816523152819,
          0.958783263179409,
          0.9594465579147438,
          0.9588474104756189,
          0.9608061985401936,
          0.9609040548003323,
          0.9616340076343004,
          0.9617542568211521,
          0.962189198755661,
          0.9621342314063112,
          0.9613333328350396,
          0.9620248915728389,
          0.9622014336428324,
          0.9625971275348595,
          0.9629204729404695,
          0.9631470329729513,
          0.9629560342319679,
          0.9630357094917901,
          0.9631958151830299
         ],
         "yaxis": "y"
        },
        {
         "hovertemplate": "variable=features_7_leaf_1<br>Trees=%{x}<br>value=%{y}<extra></extra>",
         "legendgroup": "features_7_leaf_1",
         "line": {
          "color": "#FF6692",
          "dash": "solid"
         },
         "marker": {
          "symbol": "circle"
         },
         "mode": "lines",
         "name": "features_7_leaf_1",
         "orientation": "v",
         "showlegend": true,
         "type": "scatter",
         "x": [
          1,
          3,
          5,
          7,
          9,
          11,
          13,
          15,
          17,
          19,
          21,
          23,
          25,
          27,
          29,
          31,
          33,
          35,
          37,
          39,
          41,
          43,
          45,
          47,
          49
         ],
         "xaxis": "x",
         "y": [
          0.8927578849700867,
          0.9227237870660392,
          0.9462505920049551,
          0.9545284378229324,
          0.9567315332179904,
          0.9599280301568939,
          0.9604786935269276,
          0.9610457068517851,
          0.9612852990141694,
          0.9614540672971007,
          0.9621324273447825,
          0.9626271548391234,
          0.9633496354222861,
          0.9635572365446317,
          0.9638445207950366,
          0.9632456613184817,
          0.9633096042349074,
          0.9639428618799666,
          0.9641928839238361,
          0.9643819161472909,
          0.9635104049665781,
          0.964024692051853,
          0.964234310742669,
          0.9641850503824596,
          0.9644932534823927
         ],
         "yaxis": "y"
        },
        {
         "hovertemplate": "variable=features_8_leaf_1<br>Trees=%{x}<br>value=%{y}<extra></extra>",
         "legendgroup": "features_8_leaf_1",
         "line": {
          "color": "#B6E880",
          "dash": "solid"
         },
         "marker": {
          "symbol": "circle"
         },
         "mode": "lines",
         "name": "features_8_leaf_1",
         "orientation": "v",
         "showlegend": true,
         "type": "scatter",
         "x": [
          1,
          3,
          5,
          7,
          9,
          11,
          13,
          15,
          17,
          19,
          21,
          23,
          25,
          27,
          29,
          31,
          33,
          35,
          37,
          39,
          41,
          43,
          45,
          47,
          49
         ],
         "xaxis": "x",
         "y": [
          0.8747303751921024,
          0.9346688084271554,
          0.9486900662605237,
          0.9549790703749345,
          0.9571847277388642,
          0.9585097848573454,
          0.9609104503410203,
          0.9624513933800799,
          0.9624264372985178,
          0.9625102887868564,
          0.9633369685267918,
          0.9627654879382599,
          0.9633957896220038,
          0.9632127421176104,
          0.9639276196775068,
          0.9640015213189257,
          0.9635385770865149,
          0.9640958602652461,
          0.964067121256727,
          0.9637645856568268,
          0.9641461144524046,
          0.9642542325333695,
          0.9646802995600512,
          0.9641181163980355,
          0.964440500926473
         ],
         "yaxis": "y"
        },
        {
         "hovertemplate": "variable=features_9_leaf_1<br>Trees=%{x}<br>value=%{y}<extra></extra>",
         "legendgroup": "features_9_leaf_1",
         "line": {
          "color": "#FF97FF",
          "dash": "solid"
         },
         "marker": {
          "symbol": "circle"
         },
         "mode": "lines",
         "name": "features_9_leaf_1",
         "orientation": "v",
         "showlegend": true,
         "type": "scatter",
         "x": [
          1,
          3,
          5,
          7,
          9,
          11,
          13,
          15,
          17,
          19,
          21,
          23,
          25,
          27,
          29,
          31,
          33,
          35,
          37,
          39,
          41,
          43,
          45,
          47,
          49
         ],
         "xaxis": "x",
         "y": [
          0.9098054300729588,
          0.9430342479426279,
          0.9533642887273714,
          0.9598234799734598,
          0.9601820686637907,
          0.9615344479500394,
          0.9629597000386504,
          0.9629981084806097,
          0.9639220923245893,
          0.9636287443551718,
          0.9640174754466043,
          0.9643674077838759,
          0.9651485268815053,
          0.9654497210843582,
          0.965607960653508,
          0.9654480092608322,
          0.9658626121431467,
          0.9662662231421617,
          0.9665780016890899,
          0.9664017979082112,
          0.966323523267025,
          0.9664352508575739,
          0.9661777351366532,
          0.965805220911285,
          0.9662029848781689
         ],
         "yaxis": "y"
        },
        {
         "hovertemplate": "variable=features_10_leaf_1<br>Trees=%{x}<br>value=%{y}<extra></extra>",
         "legendgroup": "features_10_leaf_1",
         "line": {
          "color": "#FECB52",
          "dash": "solid"
         },
         "marker": {
          "symbol": "circle"
         },
         "mode": "lines",
         "name": "features_10_leaf_1",
         "orientation": "v",
         "showlegend": true,
         "type": "scatter",
         "x": [
          1,
          3,
          5,
          7,
          9,
          11,
          13,
          15,
          17,
          19,
          21,
          23,
          25,
          27,
          29,
          31,
          33,
          35,
          37,
          39,
          41,
          43,
          45,
          47,
          49
         ],
         "xaxis": "x",
         "y": [
          0.8747554282172955,
          0.9372888376670693,
          0.9483365834589532,
          0.955704991518326,
          0.9583992017203251,
          0.9606717683252743,
          0.9635563226238724,
          0.9638481029918825,
          0.9631789025100984,
          0.9631112818465055,
          0.963989447395709,
          0.9642753136926008,
          0.964905905837792,
          0.9650819161306279,
          0.9653841565719526,
          0.9657135186108613,
          0.9661448734328385,
          0.9666255859946762,
          0.9667635584141119,
          0.9662412782369708,
          0.9660649135745695,
          0.9665441558844504,
          0.9666266152292803,
          0.9662865782835489,
          0.9669103049463874
         ],
         "yaxis": "y"
        },
        {
         "hovertemplate": "variable=features_1_leaf_2<br>Trees=%{x}<br>value=%{y}<extra></extra>",
         "legendgroup": "features_1_leaf_2",
         "line": {
          "color": "#636efa",
          "dash": "solid"
         },
         "marker": {
          "symbol": "circle"
         },
         "mode": "lines",
         "name": "features_1_leaf_2",
         "orientation": "v",
         "showlegend": true,
         "type": "scatter",
         "x": [
          1,
          3,
          5,
          7,
          9,
          11,
          13,
          15,
          17,
          19,
          21,
          23,
          25,
          27,
          29,
          31,
          33,
          35,
          37,
          39,
          41,
          43,
          45,
          47,
          49
         ],
         "xaxis": "x2",
         "y": [
          0.8209555193550306,
          0.8991991511538165,
          0.9172990672065211,
          0.9228137900661382,
          0.9212515310765413,
          0.9226522993109281,
          0.9254841596139795,
          0.925689225046008,
          0.9265775764208317,
          0.927650422404888,
          0.9296062590678933,
          0.9304408888082418,
          0.9300249282380832,
          0.9314601956743347,
          0.931692140367583,
          0.9311163521277477,
          0.9309137214052161,
          0.9311419879536459,
          0.9321298655735996,
          0.9313718395432152,
          0.9307941264696978,
          0.9301818101307926,
          0.9301347171638088,
          0.9296655602574365,
          0.929363941654987
         ],
         "yaxis": "y2"
        },
        {
         "hovertemplate": "variable=features_2_leaf_2<br>Trees=%{x}<br>value=%{y}<extra></extra>",
         "legendgroup": "features_2_leaf_2",
         "line": {
          "color": "#EF553B",
          "dash": "solid"
         },
         "marker": {
          "symbol": "circle"
         },
         "mode": "lines",
         "name": "features_2_leaf_2",
         "orientation": "v",
         "showlegend": true,
         "type": "scatter",
         "x": [
          1,
          3,
          5,
          7,
          9,
          11,
          13,
          15,
          17,
          19,
          21,
          23,
          25,
          27,
          29,
          31,
          33,
          35,
          37,
          39,
          41,
          43,
          45,
          47,
          49
         ],
         "xaxis": "x2",
         "y": [
          0.8200528009280831,
          0.9142121711366853,
          0.9355157582173128,
          0.939336191806379,
          0.9432881068072279,
          0.9400930006949952,
          0.9403331783896164,
          0.9421929755075895,
          0.943364919357991,
          0.9436658243032345,
          0.9429489588467204,
          0.9438643419830269,
          0.9438292878432865,
          0.9448042425956007,
          0.9449683534137149,
          0.945048503720544,
          0.9453724505830585,
          0.9473194639979774,
          0.9480573711277438,
          0.9472580502449806,
          0.9472657012489331,
          0.9480227453979617,
          0.948008796082406,
          0.9478747649422928,
          0.9477927383170272
         ],
         "yaxis": "y2"
        },
        {
         "hovertemplate": "variable=features_3_leaf_2<br>Trees=%{x}<br>value=%{y}<extra></extra>",
         "legendgroup": "features_3_leaf_2",
         "line": {
          "color": "#00cc96",
          "dash": "solid"
         },
         "marker": {
          "symbol": "circle"
         },
         "mode": "lines",
         "name": "features_3_leaf_2",
         "orientation": "v",
         "showlegend": true,
         "type": "scatter",
         "x": [
          1,
          3,
          5,
          7,
          9,
          11,
          13,
          15,
          17,
          19,
          21,
          23,
          25,
          27,
          29,
          31,
          33,
          35,
          37,
          39,
          41,
          43,
          45,
          47,
          49
         ],
         "xaxis": "x2",
         "y": [
          0.8499874154178478,
          0.9044630479665194,
          0.9255594688631975,
          0.9347476856197107,
          0.9374425391185983,
          0.9410989889547012,
          0.9428690670417696,
          0.9454906411927132,
          0.9462029901961675,
          0.9481705586899135,
          0.9487903386856041,
          0.9489330053155518,
          0.9496353437301359,
          0.950115510902808,
          0.9502376332703099,
          0.9508456504289023,
          0.9506292641464735,
          0.9521693504454157,
          0.9517185254894287,
          0.9523246901154605,
          0.951560669798065,
          0.951055023950585,
          0.9509869292311578,
          0.9509164263716012,
          0.9510666827721568
         ],
         "yaxis": "y2"
        },
        {
         "hovertemplate": "variable=features_4_leaf_2<br>Trees=%{x}<br>value=%{y}<extra></extra>",
         "legendgroup": "features_4_leaf_2",
         "line": {
          "color": "#ab63fa",
          "dash": "solid"
         },
         "marker": {
          "symbol": "circle"
         },
         "mode": "lines",
         "name": "features_4_leaf_2",
         "orientation": "v",
         "showlegend": true,
         "type": "scatter",
         "x": [
          1,
          3,
          5,
          7,
          9,
          11,
          13,
          15,
          17,
          19,
          21,
          23,
          25,
          27,
          29,
          31,
          33,
          35,
          37,
          39,
          41,
          43,
          45,
          47,
          49
         ],
         "xaxis": "x2",
         "y": [
          0.8594488107942793,
          0.9053506467672909,
          0.9304709990697987,
          0.9361299339876268,
          0.9401254984637373,
          0.9417450583143567,
          0.947270250756999,
          0.9500968788479403,
          0.9502801277766698,
          0.9506661894351167,
          0.9523034030722947,
          0.9540946600954496,
          0.956173124001246,
          0.9569262440280001,
          0.9572137571078022,
          0.956555592864819,
          0.9568246077848126,
          0.9574370886122591,
          0.9579320974300819,
          0.95843498034128,
          0.9577643019302196,
          0.9573933222606626,
          0.957557226541754,
          0.957061025230246,
          0.9572206141535047
         ],
         "yaxis": "y2"
        },
        {
         "hovertemplate": "variable=features_5_leaf_2<br>Trees=%{x}<br>value=%{y}<extra></extra>",
         "legendgroup": "features_5_leaf_2",
         "line": {
          "color": "#FFA15A",
          "dash": "solid"
         },
         "marker": {
          "symbol": "circle"
         },
         "mode": "lines",
         "name": "features_5_leaf_2",
         "orientation": "v",
         "showlegend": true,
         "type": "scatter",
         "x": [
          1,
          3,
          5,
          7,
          9,
          11,
          13,
          15,
          17,
          19,
          21,
          23,
          25,
          27,
          29,
          31,
          33,
          35,
          37,
          39,
          41,
          43,
          45,
          47,
          49
         ],
         "xaxis": "x2",
         "y": [
          0.8855430298269964,
          0.9149655850159899,
          0.93620190206028,
          0.9439635731789447,
          0.9477317965044249,
          0.9493657844518459,
          0.9539157448490485,
          0.9551965372421733,
          0.9557406736562861,
          0.9559361707761551,
          0.9563225040168695,
          0.9567336896191675,
          0.9566131788402658,
          0.957374950826396,
          0.9573821427096505,
          0.9577423444915771,
          0.9583791605318168,
          0.9596033811409381,
          0.9594995647656788,
          0.9598917191758869,
          0.959164542244322,
          0.9596327548093262,
          0.9601901998935147,
          0.9605947165768111,
          0.9611742397330472
         ],
         "yaxis": "y2"
        },
        {
         "hovertemplate": "variable=features_6_leaf_2<br>Trees=%{x}<br>value=%{y}<extra></extra>",
         "legendgroup": "features_6_leaf_2",
         "line": {
          "color": "#19d3f3",
          "dash": "solid"
         },
         "marker": {
          "symbol": "circle"
         },
         "mode": "lines",
         "name": "features_6_leaf_2",
         "orientation": "v",
         "showlegend": true,
         "type": "scatter",
         "x": [
          1,
          3,
          5,
          7,
          9,
          11,
          13,
          15,
          17,
          19,
          21,
          23,
          25,
          27,
          29,
          31,
          33,
          35,
          37,
          39,
          41,
          43,
          45,
          47,
          49
         ],
         "xaxis": "x2",
         "y": [
          0.9059914368026355,
          0.9388925225507794,
          0.9478713395517113,
          0.9539652629413871,
          0.9539084284706509,
          0.9561868733066958,
          0.958296029568044,
          0.9596038883397945,
          0.9594637958211601,
          0.9604290781960536,
          0.960714495986781,
          0.9610326507161202,
          0.9609403987836718,
          0.9609894717877976,
          0.9613168082563897,
          0.9619846228080551,
          0.9615888519676072,
          0.962028732590456,
          0.9621152727907349,
          0.9622229063620908,
          0.9627020508981602,
          0.9627414156684091,
          0.9626478433656871,
          0.9627235781957392,
          0.9628662019495815
         ],
         "yaxis": "y2"
        },
        {
         "hovertemplate": "variable=features_7_leaf_2<br>Trees=%{x}<br>value=%{y}<extra></extra>",
         "legendgroup": "features_7_leaf_2",
         "line": {
          "color": "#FF6692",
          "dash": "solid"
         },
         "marker": {
          "symbol": "circle"
         },
         "mode": "lines",
         "name": "features_7_leaf_2",
         "orientation": "v",
         "showlegend": true,
         "type": "scatter",
         "x": [
          1,
          3,
          5,
          7,
          9,
          11,
          13,
          15,
          17,
          19,
          21,
          23,
          25,
          27,
          29,
          31,
          33,
          35,
          37,
          39,
          41,
          43,
          45,
          47,
          49
         ],
         "xaxis": "x2",
         "y": [
          0.9078387693500201,
          0.9446114537415757,
          0.9547977929811882,
          0.9592503272213909,
          0.9611041114042989,
          0.9622402291128568,
          0.9634682765453769,
          0.9640460222153218,
          0.9648424381530747,
          0.9647751888425171,
          0.9648493623651971,
          0.9650224926787436,
          0.9649584011335512,
          0.9650369459250043,
          0.9647377113493454,
          0.9643819580764955,
          0.9638613938207199,
          0.9641233189271764,
          0.9639619980585387,
          0.9640264305109632,
          0.9633439627705869,
          0.9637675655661558,
          0.9641611908481339,
          0.9643845679664667,
          0.9646391368385345
         ],
         "yaxis": "y2"
        },
        {
         "hovertemplate": "variable=features_8_leaf_2<br>Trees=%{x}<br>value=%{y}<extra></extra>",
         "legendgroup": "features_8_leaf_2",
         "line": {
          "color": "#B6E880",
          "dash": "solid"
         },
         "marker": {
          "symbol": "circle"
         },
         "mode": "lines",
         "name": "features_8_leaf_2",
         "orientation": "v",
         "showlegend": true,
         "type": "scatter",
         "x": [
          1,
          3,
          5,
          7,
          9,
          11,
          13,
          15,
          17,
          19,
          21,
          23,
          25,
          27,
          29,
          31,
          33,
          35,
          37,
          39,
          41,
          43,
          45,
          47,
          49
         ],
         "xaxis": "x2",
         "y": [
          0.9057912450267299,
          0.9490974462807639,
          0.9554302195057497,
          0.9611580850480882,
          0.9613793832173572,
          0.9627065361886313,
          0.9629169158275115,
          0.9638163424852465,
          0.9636003475742942,
          0.9635204089400196,
          0.9640732572513118,
          0.9642678794794353,
          0.9646102478643606,
          0.9638713597542369,
          0.9642737003676629,
          0.9645317153532659,
          0.9645090529363239,
          0.9645268958390941,
          0.9636044856739222,
          0.9631763171074749,
          0.9635381849813125,
          0.963758285380219,
          0.9638550593298166,
          0.963890400886499,
          0.9641178274710596
         ],
         "yaxis": "y2"
        },
        {
         "hovertemplate": "variable=features_9_leaf_2<br>Trees=%{x}<br>value=%{y}<extra></extra>",
         "legendgroup": "features_9_leaf_2",
         "line": {
          "color": "#FF97FF",
          "dash": "solid"
         },
         "marker": {
          "symbol": "circle"
         },
         "mode": "lines",
         "name": "features_9_leaf_2",
         "orientation": "v",
         "showlegend": true,
         "type": "scatter",
         "x": [
          1,
          3,
          5,
          7,
          9,
          11,
          13,
          15,
          17,
          19,
          21,
          23,
          25,
          27,
          29,
          31,
          33,
          35,
          37,
          39,
          41,
          43,
          45,
          47,
          49
         ],
         "xaxis": "x2",
         "y": [
          0.9146236845811011,
          0.9456823510911825,
          0.95315429786584,
          0.9575172105257451,
          0.9597217004415792,
          0.9613200005365485,
          0.9637017375832901,
          0.9632826164499606,
          0.9636570388522475,
          0.9636131576186349,
          0.9639779843741361,
          0.9640335822047843,
          0.964752587060208,
          0.9652979219771016,
          0.9655878947403419,
          0.9652950963057298,
          0.9655410431070159,
          0.9659409545115707,
          0.9656616823871198,
          0.9653604683742418,
          0.9653916456937942,
          0.965626192940969,
          0.9655129024202026,
          0.9654338928844032,
          0.965827701758575
         ],
         "yaxis": "y2"
        },
        {
         "hovertemplate": "variable=features_10_leaf_2<br>Trees=%{x}<br>value=%{y}<extra></extra>",
         "legendgroup": "features_10_leaf_2",
         "line": {
          "color": "#FECB52",
          "dash": "solid"
         },
         "marker": {
          "symbol": "circle"
         },
         "mode": "lines",
         "name": "features_10_leaf_2",
         "orientation": "v",
         "showlegend": true,
         "type": "scatter",
         "x": [
          1,
          3,
          5,
          7,
          9,
          11,
          13,
          15,
          17,
          19,
          21,
          23,
          25,
          27,
          29,
          31,
          33,
          35,
          37,
          39,
          41,
          43,
          45,
          47,
          49
         ],
         "xaxis": "x2",
         "y": [
          0.9031739217246784,
          0.9427407097807547,
          0.9525269529612945,
          0.957062775586498,
          0.9594291226831431,
          0.9610654705985345,
          0.9625034020400511,
          0.9638921395228961,
          0.96420549182204,
          0.9636673773497908,
          0.9640759060068852,
          0.9644559928565775,
          0.9652322555084304,
          0.9649887899830274,
          0.9655026680259333,
          0.9652332966936623,
          0.9654051025244874,
          0.9655556876121514,
          0.9652838446593544,
          0.9653074689186525,
          0.9653276109996216,
          0.9653700567898399,
          0.9657467623442573,
          0.9652827044837015,
          0.9655138886758461
         ],
         "yaxis": "y2"
        },
        {
         "hovertemplate": "variable=features_1_leaf_3<br>Trees=%{x}<br>value=%{y}<extra></extra>",
         "legendgroup": "features_1_leaf_3",
         "line": {
          "color": "#636efa",
          "dash": "solid"
         },
         "marker": {
          "symbol": "circle"
         },
         "mode": "lines",
         "name": "features_1_leaf_3",
         "orientation": "v",
         "showlegend": true,
         "type": "scatter",
         "x": [
          1,
          3,
          5,
          7,
          9,
          11,
          13,
          15,
          17,
          19,
          21,
          23,
          25,
          27,
          29,
          31,
          33,
          35,
          37,
          39,
          41,
          43,
          45,
          47,
          49
         ],
         "xaxis": "x3",
         "y": [
          0.7767752708919531,
          0.8899696661997029,
          0.9101259724341952,
          0.9210633426112965,
          0.9191527559015101,
          0.9212881497776688,
          0.9225115442705686,
          0.920610971433623,
          0.9242788994219687,
          0.9257288454621071,
          0.9258199378780633,
          0.9237817723800659,
          0.9239609311379757,
          0.9251993872061502,
          0.9233469163408836,
          0.925549232836099,
          0.9249476370925175,
          0.925909204876547,
          0.9268109446110356,
          0.9254684687217198,
          0.9251757225463175,
          0.9241377889033926,
          0.924613709528759,
          0.9238565564827003,
          0.9235990554791949
         ],
         "yaxis": "y3"
        },
        {
         "hovertemplate": "variable=features_2_leaf_3<br>Trees=%{x}<br>value=%{y}<extra></extra>",
         "legendgroup": "features_2_leaf_3",
         "line": {
          "color": "#EF553B",
          "dash": "solid"
         },
         "marker": {
          "symbol": "circle"
         },
         "mode": "lines",
         "name": "features_2_leaf_3",
         "orientation": "v",
         "showlegend": true,
         "type": "scatter",
         "x": [
          1,
          3,
          5,
          7,
          9,
          11,
          13,
          15,
          17,
          19,
          21,
          23,
          25,
          27,
          29,
          31,
          33,
          35,
          37,
          39,
          41,
          43,
          45,
          47,
          49
         ],
         "xaxis": "x3",
         "y": [
          0.8600538202320452,
          0.9165178613006939,
          0.9307799182404327,
          0.9382694139015942,
          0.937982950558791,
          0.9367347740476131,
          0.935781973278574,
          0.9377420600463002,
          0.9400614514743675,
          0.9412077171890983,
          0.9406154496103346,
          0.9396195974586478,
          0.9393109272164926,
          0.939487810917386,
          0.9402956312662104,
          0.9406285524101048,
          0.9402628028972172,
          0.9420226388600407,
          0.9420575457404963,
          0.9417328428531146,
          0.9420194539632621,
          0.9420856407192831,
          0.9423864835032406,
          0.9418108743480428,
          0.9420843139275501
         ],
         "yaxis": "y3"
        },
        {
         "hovertemplate": "variable=features_3_leaf_3<br>Trees=%{x}<br>value=%{y}<extra></extra>",
         "legendgroup": "features_3_leaf_3",
         "line": {
          "color": "#00cc96",
          "dash": "solid"
         },
         "marker": {
          "symbol": "circle"
         },
         "mode": "lines",
         "name": "features_3_leaf_3",
         "orientation": "v",
         "showlegend": true,
         "type": "scatter",
         "x": [
          1,
          3,
          5,
          7,
          9,
          11,
          13,
          15,
          17,
          19,
          21,
          23,
          25,
          27,
          29,
          31,
          33,
          35,
          37,
          39,
          41,
          43,
          45,
          47,
          49
         ],
         "xaxis": "x3",
         "y": [
          0.8483766102636079,
          0.9157560448589598,
          0.9328479608390727,
          0.9360367541404356,
          0.9349877618390302,
          0.937307396787135,
          0.9420145815689469,
          0.9432954613560242,
          0.9454122142488443,
          0.9463854722443727,
          0.9457670933594244,
          0.9466492701311136,
          0.9469850914783731,
          0.9471556684639306,
          0.9470023282396086,
          0.9477041960286263,
          0.9474301819059082,
          0.9490361811113136,
          0.949131087401546,
          0.9497791684453588,
          0.9496387235268937,
          0.9494707124891217,
          0.9490950159460259,
          0.9493748841642159,
          0.9495535784279348
         ],
         "yaxis": "y3"
        },
        {
         "hovertemplate": "variable=features_4_leaf_3<br>Trees=%{x}<br>value=%{y}<extra></extra>",
         "legendgroup": "features_4_leaf_3",
         "line": {
          "color": "#ab63fa",
          "dash": "solid"
         },
         "marker": {
          "symbol": "circle"
         },
         "mode": "lines",
         "name": "features_4_leaf_3",
         "orientation": "v",
         "showlegend": true,
         "type": "scatter",
         "x": [
          1,
          3,
          5,
          7,
          9,
          11,
          13,
          15,
          17,
          19,
          21,
          23,
          25,
          27,
          29,
          31,
          33,
          35,
          37,
          39,
          41,
          43,
          45,
          47,
          49
         ],
         "xaxis": "x3",
         "y": [
          0.8554860210849707,
          0.9164599704147373,
          0.9379551665358432,
          0.9408383333884831,
          0.9430353732914447,
          0.9461838858546943,
          0.9495250975821309,
          0.9517507450937751,
          0.9521074134169858,
          0.9516579092718974,
          0.9521837254956271,
          0.9543844833630473,
          0.9553993914767165,
          0.9550489079904253,
          0.9541164193939018,
          0.9545134684683345,
          0.954290552075863,
          0.9549748032715936,
          0.9543493210141231,
          0.954143583118013,
          0.9534775657006858,
          0.9530980184208492,
          0.9531604732628223,
          0.9530959252802569,
          0.9530949194280313
         ],
         "yaxis": "y3"
        },
        {
         "hovertemplate": "variable=features_5_leaf_3<br>Trees=%{x}<br>value=%{y}<extra></extra>",
         "legendgroup": "features_5_leaf_3",
         "line": {
          "color": "#FFA15A",
          "dash": "solid"
         },
         "marker": {
          "symbol": "circle"
         },
         "mode": "lines",
         "name": "features_5_leaf_3",
         "orientation": "v",
         "showlegend": true,
         "type": "scatter",
         "x": [
          1,
          3,
          5,
          7,
          9,
          11,
          13,
          15,
          17,
          19,
          21,
          23,
          25,
          27,
          29,
          31,
          33,
          35,
          37,
          39,
          41,
          43,
          45,
          47,
          49
         ],
         "xaxis": "x3",
         "y": [
          0.88759688183299,
          0.9122523329768157,
          0.9303857184264214,
          0.9384446488310603,
          0.9420008422545927,
          0.9440795137029081,
          0.9496821081458064,
          0.9516735243882106,
          0.952035599336655,
          0.9523879497850395,
          0.953691715249702,
          0.9541308061649764,
          0.9550713749065645,
          0.955339879833352,
          0.9559351859173468,
          0.9556796851581447,
          0.9553709296369112,
          0.956218469318606,
          0.9564714597802595,
          0.9564094212227126,
          0.9561885857372084,
          0.9564497646633093,
          0.9566078130395228,
          0.956814408244486,
          0.9573870576837102
         ],
         "yaxis": "y3"
        },
        {
         "hovertemplate": "variable=features_6_leaf_3<br>Trees=%{x}<br>value=%{y}<extra></extra>",
         "legendgroup": "features_6_leaf_3",
         "line": {
          "color": "#19d3f3",
          "dash": "solid"
         },
         "marker": {
          "symbol": "circle"
         },
         "mode": "lines",
         "name": "features_6_leaf_3",
         "orientation": "v",
         "showlegend": true,
         "type": "scatter",
         "x": [
          1,
          3,
          5,
          7,
          9,
          11,
          13,
          15,
          17,
          19,
          21,
          23,
          25,
          27,
          29,
          31,
          33,
          35,
          37,
          39,
          41,
          43,
          45,
          47,
          49
         ],
         "xaxis": "x3",
         "y": [
          0.8831379317459982,
          0.9400432262751834,
          0.9510171652015655,
          0.9533312292386388,
          0.9556909127611475,
          0.9561573636469511,
          0.9581218675766259,
          0.9578365391791058,
          0.9591131848426402,
          0.9600696965465054,
          0.9611636469530446,
          0.9611997050587664,
          0.9616526678932271,
          0.9618942272198773,
          0.9614791314301294,
          0.9619089023737561,
          0.9614927835047007,
          0.9616052084805238,
          0.9614428773227279,
          0.9612064876381943,
          0.9613914763414062,
          0.961129497039734,
          0.9614365049985152,
          0.9611886878224105,
          0.9611749591066155
         ],
         "yaxis": "y3"
        },
        {
         "hovertemplate": "variable=features_7_leaf_3<br>Trees=%{x}<br>value=%{y}<extra></extra>",
         "legendgroup": "features_7_leaf_3",
         "line": {
          "color": "#FF6692",
          "dash": "solid"
         },
         "marker": {
          "symbol": "circle"
         },
         "mode": "lines",
         "name": "features_7_leaf_3",
         "orientation": "v",
         "showlegend": true,
         "type": "scatter",
         "x": [
          1,
          3,
          5,
          7,
          9,
          11,
          13,
          15,
          17,
          19,
          21,
          23,
          25,
          27,
          29,
          31,
          33,
          35,
          37,
          39,
          41,
          43,
          45,
          47,
          49
         ],
         "xaxis": "x3",
         "y": [
          0.9214180340957157,
          0.9471142332440172,
          0.9524150608800277,
          0.9580504870890938,
          0.9593870524002671,
          0.9612751310978197,
          0.9621350889271227,
          0.96272905717469,
          0.9627286803462365,
          0.961918418737944,
          0.9620299233891222,
          0.9620821553430824,
          0.9624158065376976,
          0.9620057107439843,
          0.9613971180359181,
          0.9608401287142702,
          0.9606894100055383,
          0.9607850585825215,
          0.9606734615326225,
          0.9606089919595776,
          0.9605443162498892,
          0.9610461663541299,
          0.961411906425419,
          0.9613753142420848,
          0.9619449107592166
         ],
         "yaxis": "y3"
        },
        {
         "hovertemplate": "variable=features_8_leaf_3<br>Trees=%{x}<br>value=%{y}<extra></extra>",
         "legendgroup": "features_8_leaf_3",
         "line": {
          "color": "#B6E880",
          "dash": "solid"
         },
         "marker": {
          "symbol": "circle"
         },
         "mode": "lines",
         "name": "features_8_leaf_3",
         "orientation": "v",
         "showlegend": true,
         "type": "scatter",
         "x": [
          1,
          3,
          5,
          7,
          9,
          11,
          13,
          15,
          17,
          19,
          21,
          23,
          25,
          27,
          29,
          31,
          33,
          35,
          37,
          39,
          41,
          43,
          45,
          47,
          49
         ],
         "xaxis": "x3",
         "y": [
          0.8967328447450613,
          0.9455385979309808,
          0.9546657708951131,
          0.9570976817875737,
          0.9573860261419556,
          0.9597188826141316,
          0.9610437896753379,
          0.9622993826836559,
          0.9619196942375074,
          0.961997938382747,
          0.9628815281840352,
          0.9629094155821247,
          0.9631833146351108,
          0.9629562479597222,
          0.9635512644330431,
          0.9637101167450275,
          0.9637991213082554,
          0.9639637128880315,
          0.9634657417732452,
          0.9635644083842136,
          0.9637561260536757,
          0.9638828017908775,
          0.9640385579016092,
          0.9641387124915548,
          0.9641888750468389
         ],
         "yaxis": "y3"
        },
        {
         "hovertemplate": "variable=features_9_leaf_3<br>Trees=%{x}<br>value=%{y}<extra></extra>",
         "legendgroup": "features_9_leaf_3",
         "line": {
          "color": "#FF97FF",
          "dash": "solid"
         },
         "marker": {
          "symbol": "circle"
         },
         "mode": "lines",
         "name": "features_9_leaf_3",
         "orientation": "v",
         "showlegend": true,
         "type": "scatter",
         "x": [
          1,
          3,
          5,
          7,
          9,
          11,
          13,
          15,
          17,
          19,
          21,
          23,
          25,
          27,
          29,
          31,
          33,
          35,
          37,
          39,
          41,
          43,
          45,
          47,
          49
         ],
         "xaxis": "x3",
         "y": [
          0.9162035300164133,
          0.9446750835485129,
          0.9526329587213281,
          0.9573783272126825,
          0.9581249830743502,
          0.9611354615344279,
          0.9631370907679587,
          0.963479311114701,
          0.9633504105644054,
          0.96387848099209,
          0.9644573392838266,
          0.963572283884298,
          0.964626645565895,
          0.9651100728018001,
          0.9650410871851867,
          0.9647939776392083,
          0.9648130930346417,
          0.9652044437882774,
          0.9649989637623632,
          0.9646191842189324,
          0.9644246066424487,
          0.9646903778820335,
          0.9647069215914694,
          0.964657105328474,
          0.9648985568191668
         ],
         "yaxis": "y3"
        },
        {
         "hovertemplate": "variable=features_10_leaf_3<br>Trees=%{x}<br>value=%{y}<extra></extra>",
         "legendgroup": "features_10_leaf_3",
         "line": {
          "color": "#FECB52",
          "dash": "solid"
         },
         "marker": {
          "symbol": "circle"
         },
         "mode": "lines",
         "name": "features_10_leaf_3",
         "orientation": "v",
         "showlegend": true,
         "type": "scatter",
         "x": [
          1,
          3,
          5,
          7,
          9,
          11,
          13,
          15,
          17,
          19,
          21,
          23,
          25,
          27,
          29,
          31,
          33,
          35,
          37,
          39,
          41,
          43,
          45,
          47,
          49
         ],
         "xaxis": "x3",
         "y": [
          0.9007721561585988,
          0.9420378601791635,
          0.9552713756314695,
          0.9606518230662168,
          0.9604069173491604,
          0.9620150159872608,
          0.9644333426710767,
          0.9659145773435865,
          0.9655027339989155,
          0.965100417631184,
          0.9656126473669902,
          0.9648586187771006,
          0.9651429573733857,
          0.9650889579041417,
          0.9658120922052402,
          0.9654503237638623,
          0.9651298740599537,
          0.9651846862138795,
          0.9653248684659292,
          0.9651361025436909,
          0.964974611572222,
          0.9651917578503226,
          0.965287545773221,
          0.9650371674868582,
          0.9652487950736406
         ],
         "yaxis": "y3"
        },
        {
         "hovertemplate": "variable=features_1_leaf_4<br>Trees=%{x}<br>value=%{y}<extra></extra>",
         "legendgroup": "features_1_leaf_4",
         "line": {
          "color": "#636efa",
          "dash": "solid"
         },
         "marker": {
          "symbol": "circle"
         },
         "mode": "lines",
         "name": "features_1_leaf_4",
         "orientation": "v",
         "showlegend": true,
         "type": "scatter",
         "x": [
          1,
          3,
          5,
          7,
          9,
          11,
          13,
          15,
          17,
          19,
          21,
          23,
          25,
          27,
          29,
          31,
          33,
          35,
          37,
          39,
          41,
          43,
          45,
          47,
          49
         ],
         "xaxis": "x4",
         "y": [
          0.7082037372776289,
          0.8609011192890117,
          0.8949349443642456,
          0.905687274370741,
          0.9010008337999036,
          0.9080983963535276,
          0.9065598627384137,
          0.9049157062093384,
          0.9083795610881609,
          0.9121335627819972,
          0.9154712809246515,
          0.9126699914448926,
          0.9137520916833128,
          0.9146560975721799,
          0.9146006700268371,
          0.916862561878462,
          0.9176606999606381,
          0.9185688877935003,
          0.91919145164892,
          0.9179968589684574,
          0.917288747521394,
          0.9159391637288733,
          0.9160512815019057,
          0.9150352225159679,
          0.9143401823637143
         ],
         "yaxis": "y4"
        },
        {
         "hovertemplate": "variable=features_2_leaf_4<br>Trees=%{x}<br>value=%{y}<extra></extra>",
         "legendgroup": "features_2_leaf_4",
         "line": {
          "color": "#EF553B",
          "dash": "solid"
         },
         "marker": {
          "symbol": "circle"
         },
         "mode": "lines",
         "name": "features_2_leaf_4",
         "orientation": "v",
         "showlegend": true,
         "type": "scatter",
         "x": [
          1,
          3,
          5,
          7,
          9,
          11,
          13,
          15,
          17,
          19,
          21,
          23,
          25,
          27,
          29,
          31,
          33,
          35,
          37,
          39,
          41,
          43,
          45,
          47,
          49
         ],
         "xaxis": "x4",
         "y": [
          0.8555162919090294,
          0.9040516593452719,
          0.9210354599672419,
          0.9282703865400949,
          0.9330398491441546,
          0.9309107989717729,
          0.9325553120577655,
          0.9349642820614994,
          0.936736357160593,
          0.9370818041127542,
          0.9367328932010434,
          0.9358550656503407,
          0.9354521064249333,
          0.9356868539374126,
          0.9357205994975815,
          0.9359645175391622,
          0.9354194019136797,
          0.9372623390803764,
          0.9380839407289201,
          0.93788208299391,
          0.9371969963792761,
          0.9368565473322246,
          0.9367520710872087,
          0.9366279942682667,
          0.9364182065105456
         ],
         "yaxis": "y4"
        },
        {
         "hovertemplate": "variable=features_3_leaf_4<br>Trees=%{x}<br>value=%{y}<extra></extra>",
         "legendgroup": "features_3_leaf_4",
         "line": {
          "color": "#00cc96",
          "dash": "solid"
         },
         "marker": {
          "symbol": "circle"
         },
         "mode": "lines",
         "name": "features_3_leaf_4",
         "orientation": "v",
         "showlegend": true,
         "type": "scatter",
         "x": [
          1,
          3,
          5,
          7,
          9,
          11,
          13,
          15,
          17,
          19,
          21,
          23,
          25,
          27,
          29,
          31,
          33,
          35,
          37,
          39,
          41,
          43,
          45,
          47,
          49
         ],
         "xaxis": "x4",
         "y": [
          0.8323975815060397,
          0.906108244407207,
          0.9311176704663143,
          0.9347902494042668,
          0.9339884574952053,
          0.9349992887848477,
          0.9377556253904572,
          0.9407251560880603,
          0.9402345601084147,
          0.9423347267543074,
          0.9421438236952122,
          0.9422146090259336,
          0.9425568955533452,
          0.9421763773194887,
          0.9419431483252868,
          0.9427292907351644,
          0.941619200011093,
          0.9431246026127612,
          0.9430387977055721,
          0.9432781549825631,
          0.9429130381837055,
          0.9426449265457741,
          0.9424333452151374,
          0.9427074107479889,
          0.9429385430879158
         ],
         "yaxis": "y4"
        },
        {
         "hovertemplate": "variable=features_4_leaf_4<br>Trees=%{x}<br>value=%{y}<extra></extra>",
         "legendgroup": "features_4_leaf_4",
         "line": {
          "color": "#ab63fa",
          "dash": "solid"
         },
         "marker": {
          "symbol": "circle"
         },
         "mode": "lines",
         "name": "features_4_leaf_4",
         "orientation": "v",
         "showlegend": true,
         "type": "scatter",
         "x": [
          1,
          3,
          5,
          7,
          9,
          11,
          13,
          15,
          17,
          19,
          21,
          23,
          25,
          27,
          29,
          31,
          33,
          35,
          37,
          39,
          41,
          43,
          45,
          47,
          49
         ],
         "xaxis": "x4",
         "y": [
          0.8449356489674814,
          0.9020007686200934,
          0.9337148314855799,
          0.9366273973010392,
          0.9388882856341395,
          0.9395188687727101,
          0.945131973061979,
          0.9489133731053514,
          0.9497230026780951,
          0.9497509146868882,
          0.9507966636265804,
          0.9519055922489429,
          0.9527486161646074,
          0.9522598639709882,
          0.9517417970176331,
          0.9517707615246191,
          0.9512628261452717,
          0.9519749392013175,
          0.9515552733314901,
          0.9519798420861552,
          0.9513306065909424,
          0.9505840803523717,
          0.9504661236762277,
          0.9506521616097501,
          0.9513711523656656
         ],
         "yaxis": "y4"
        },
        {
         "hovertemplate": "variable=features_5_leaf_4<br>Trees=%{x}<br>value=%{y}<extra></extra>",
         "legendgroup": "features_5_leaf_4",
         "line": {
          "color": "#FFA15A",
          "dash": "solid"
         },
         "marker": {
          "symbol": "circle"
         },
         "mode": "lines",
         "name": "features_5_leaf_4",
         "orientation": "v",
         "showlegend": true,
         "type": "scatter",
         "x": [
          1,
          3,
          5,
          7,
          9,
          11,
          13,
          15,
          17,
          19,
          21,
          23,
          25,
          27,
          29,
          31,
          33,
          35,
          37,
          39,
          41,
          43,
          45,
          47,
          49
         ],
         "xaxis": "x4",
         "y": [
          0.8839259824244857,
          0.9125484796046852,
          0.9330555741222233,
          0.9421320634858642,
          0.9438049923966974,
          0.9458633277818598,
          0.9489556784856068,
          0.9515013906212817,
          0.9501830569531824,
          0.9502619008465436,
          0.9501063644368173,
          0.950806607401385,
          0.9524489996264978,
          0.9523737189270058,
          0.9534918752344957,
          0.9530239647776814,
          0.9532806343506965,
          0.954287218942599,
          0.954744290309766,
          0.954973089045934,
          0.9543938840314545,
          0.9548794042539634,
          0.9549653403934288,
          0.9544395034471256,
          0.9550899508339121
         ],
         "yaxis": "y4"
        },
        {
         "hovertemplate": "variable=features_6_leaf_4<br>Trees=%{x}<br>value=%{y}<extra></extra>",
         "legendgroup": "features_6_leaf_4",
         "line": {
          "color": "#19d3f3",
          "dash": "solid"
         },
         "marker": {
          "symbol": "circle"
         },
         "mode": "lines",
         "name": "features_6_leaf_4",
         "orientation": "v",
         "showlegend": true,
         "type": "scatter",
         "x": [
          1,
          3,
          5,
          7,
          9,
          11,
          13,
          15,
          17,
          19,
          21,
          23,
          25,
          27,
          29,
          31,
          33,
          35,
          37,
          39,
          41,
          43,
          45,
          47,
          49
         ],
         "xaxis": "x4",
         "y": [
          0.9150919926577596,
          0.9392347675716717,
          0.9476045606819609,
          0.9512352921077308,
          0.9539656485576453,
          0.9568797867660367,
          0.9588008850356475,
          0.9581681759121959,
          0.9588122341254103,
          0.9587167358888479,
          0.9597237302189624,
          0.9604448236025682,
          0.9605607268735896,
          0.9607693769979591,
          0.960341623493159,
          0.9607380757391137,
          0.9599195022236673,
          0.9597872161667533,
          0.9596295478032484,
          0.959588584996059,
          0.9593863983682402,
          0.9592610523090899,
          0.9595491291841137,
          0.9591605287079904,
          0.9592167914926426
         ],
         "yaxis": "y4"
        },
        {
         "hovertemplate": "variable=features_7_leaf_4<br>Trees=%{x}<br>value=%{y}<extra></extra>",
         "legendgroup": "features_7_leaf_4",
         "line": {
          "color": "#FF6692",
          "dash": "solid"
         },
         "marker": {
          "symbol": "circle"
         },
         "mode": "lines",
         "name": "features_7_leaf_4",
         "orientation": "v",
         "showlegend": true,
         "type": "scatter",
         "x": [
          1,
          3,
          5,
          7,
          9,
          11,
          13,
          15,
          17,
          19,
          21,
          23,
          25,
          27,
          29,
          31,
          33,
          35,
          37,
          39,
          41,
          43,
          45,
          47,
          49
         ],
         "xaxis": "x4",
         "y": [
          0.9267860893936859,
          0.9419997088142473,
          0.9482311601589508,
          0.9528383003292842,
          0.9537016149261687,
          0.9560303988591177,
          0.9567909994747588,
          0.9573096201924262,
          0.9574652623587067,
          0.9579901049764361,
          0.9582923755787048,
          0.9579574436825272,
          0.9588752658243138,
          0.9585037535153408,
          0.9587316859315367,
          0.958573292719349,
          0.9582026698013337,
          0.9587263271707908,
          0.9586206823533594,
          0.9580806434206617,
          0.9581882271741573,
          0.9587036654394272,
          0.9591086613667704,
          0.9589973228092372,
          0.9594214515234922
         ],
         "yaxis": "y4"
        },
        {
         "hovertemplate": "variable=features_8_leaf_4<br>Trees=%{x}<br>value=%{y}<extra></extra>",
         "legendgroup": "features_8_leaf_4",
         "line": {
          "color": "#B6E880",
          "dash": "solid"
         },
         "marker": {
          "symbol": "circle"
         },
         "mode": "lines",
         "name": "features_8_leaf_4",
         "orientation": "v",
         "showlegend": true,
         "type": "scatter",
         "x": [
          1,
          3,
          5,
          7,
          9,
          11,
          13,
          15,
          17,
          19,
          21,
          23,
          25,
          27,
          29,
          31,
          33,
          35,
          37,
          39,
          41,
          43,
          45,
          47,
          49
         ],
         "xaxis": "x4",
         "y": [
          0.9021464694092032,
          0.9445261463508483,
          0.9518874595345463,
          0.9567984162780983,
          0.9567462693543088,
          0.9586163699372054,
          0.9596392335226994,
          0.9603393479652119,
          0.9601968163967805,
          0.9609241065768674,
          0.9613481541902871,
          0.9606861558425834,
          0.9609369733096227,
          0.9606570246552248,
          0.9608950650552425,
          0.9614546643877782,
          0.9609338968457479,
          0.9611743039171456,
          0.9604385242452234,
          0.960252509625122,
          0.9604335321235231,
          0.9607995722285192,
          0.9611482916870623,
          0.9608768678743289,
          0.9614057326898511
         ],
         "yaxis": "y4"
        },
        {
         "hovertemplate": "variable=features_9_leaf_4<br>Trees=%{x}<br>value=%{y}<extra></extra>",
         "legendgroup": "features_9_leaf_4",
         "line": {
          "color": "#FF97FF",
          "dash": "solid"
         },
         "marker": {
          "symbol": "circle"
         },
         "mode": "lines",
         "name": "features_9_leaf_4",
         "orientation": "v",
         "showlegend": true,
         "type": "scatter",
         "x": [
          1,
          3,
          5,
          7,
          9,
          11,
          13,
          15,
          17,
          19,
          21,
          23,
          25,
          27,
          29,
          31,
          33,
          35,
          37,
          39,
          41,
          43,
          45,
          47,
          49
         ],
         "xaxis": "x4",
         "y": [
          0.92822789970711,
          0.9518423439026462,
          0.9561645151924341,
          0.9585731231810015,
          0.9599849582488418,
          0.9614165804487207,
          0.9633514692358597,
          0.9634035614856034,
          0.9634439621120962,
          0.963537802769963,
          0.9641080077055388,
          0.9630691482058611,
          0.9635042068575054,
          0.964195682260845,
          0.963794469000552,
          0.9635484380307962,
          0.9636698788172351,
          0.9641403091189902,
          0.9640157501329958,
          0.9633717132496177,
          0.9632919406385911,
          0.9633623097159567,
          0.9632555356251313,
          0.9629308392736773,
          0.9632626164855538
         ],
         "yaxis": "y4"
        },
        {
         "hovertemplate": "variable=features_10_leaf_4<br>Trees=%{x}<br>value=%{y}<extra></extra>",
         "legendgroup": "features_10_leaf_4",
         "line": {
          "color": "#FECB52",
          "dash": "solid"
         },
         "marker": {
          "symbol": "circle"
         },
         "mode": "lines",
         "name": "features_10_leaf_4",
         "orientation": "v",
         "showlegend": true,
         "type": "scatter",
         "x": [
          1,
          3,
          5,
          7,
          9,
          11,
          13,
          15,
          17,
          19,
          21,
          23,
          25,
          27,
          29,
          31,
          33,
          35,
          37,
          39,
          41,
          43,
          45,
          47,
          49
         ],
         "xaxis": "x4",
         "y": [
          0.9165494755276086,
          0.9396657695997451,
          0.9511608078041581,
          0.9557624309352695,
          0.9560559399750292,
          0.958636530153399,
          0.9609387799312978,
          0.9619194766516415,
          0.9621236745593091,
          0.9619029407529253,
          0.9623911907153312,
          0.9620100982323893,
          0.9626163284287657,
          0.9624328076558534,
          0.9630967676235173,
          0.9630464065409093,
          0.9626592967189074,
          0.9625519403256615,
          0.9624497948841618,
          0.962394088707452,
          0.9621410446268474,
          0.962433993632661,
          0.9627446945700397,
          0.9627268387373196,
          0.9632205718981682
         ],
         "yaxis": "y4"
        },
        {
         "hovertemplate": "variable=features_1_leaf_5<br>Trees=%{x}<br>value=%{y}<extra></extra>",
         "legendgroup": "features_1_leaf_5",
         "line": {
          "color": "#636efa",
          "dash": "solid"
         },
         "marker": {
          "symbol": "circle"
         },
         "mode": "lines",
         "name": "features_1_leaf_5",
         "orientation": "v",
         "showlegend": true,
         "type": "scatter",
         "x": [
          1,
          3,
          5,
          7,
          9,
          11,
          13,
          15,
          17,
          19,
          21,
          23,
          25,
          27,
          29,
          31,
          33,
          35,
          37,
          39,
          41,
          43,
          45,
          47,
          49
         ],
         "xaxis": "x5",
         "y": [
          0.7441773373462317,
          0.856650382464656,
          0.8825750452027006,
          0.896286613156175,
          0.8915174587227103,
          0.894752563451784,
          0.8977131128085565,
          0.8973866474074814,
          0.8966387499109321,
          0.9013452712461817,
          0.9069586729906256,
          0.9059659062303995,
          0.9063270558690061,
          0.907489138910673,
          0.9065272482771929,
          0.9091076069600044,
          0.9094665982823382,
          0.9104242219928492,
          0.9107169608136327,
          0.9106871559881228,
          0.9102772104611626,
          0.9079606869892805,
          0.90842401032766,
          0.9081749615891186,
          0.907619237079413
         ],
         "yaxis": "y5"
        },
        {
         "hovertemplate": "variable=features_2_leaf_5<br>Trees=%{x}<br>value=%{y}<extra></extra>",
         "legendgroup": "features_2_leaf_5",
         "line": {
          "color": "#EF553B",
          "dash": "solid"
         },
         "marker": {
          "symbol": "circle"
         },
         "mode": "lines",
         "name": "features_2_leaf_5",
         "orientation": "v",
         "showlegend": true,
         "type": "scatter",
         "x": [
          1,
          3,
          5,
          7,
          9,
          11,
          13,
          15,
          17,
          19,
          21,
          23,
          25,
          27,
          29,
          31,
          33,
          35,
          37,
          39,
          41,
          43,
          45,
          47,
          49
         ],
         "xaxis": "x5",
         "y": [
          0.8174542571883311,
          0.904411021615388,
          0.9223603733576275,
          0.924864139500713,
          0.9257749444268196,
          0.923581081885362,
          0.9259252415715006,
          0.9287911723988843,
          0.9314340385095774,
          0.932371325942866,
          0.9334175333229942,
          0.9333179031991776,
          0.9326945033543096,
          0.9328136239950802,
          0.9322926052072595,
          0.9327952928782812,
          0.9326917366273364,
          0.9349442487958635,
          0.9353362709215197,
          0.9349278806702637,
          0.9340847493052415,
          0.9340360719448124,
          0.9338499435516272,
          0.933400568690874,
          0.9332358677062972
         ],
         "yaxis": "y5"
        },
        {
         "hovertemplate": "variable=features_3_leaf_5<br>Trees=%{x}<br>value=%{y}<extra></extra>",
         "legendgroup": "features_3_leaf_5",
         "line": {
          "color": "#00cc96",
          "dash": "solid"
         },
         "marker": {
          "symbol": "circle"
         },
         "mode": "lines",
         "name": "features_3_leaf_5",
         "orientation": "v",
         "showlegend": true,
         "type": "scatter",
         "x": [
          1,
          3,
          5,
          7,
          9,
          11,
          13,
          15,
          17,
          19,
          21,
          23,
          25,
          27,
          29,
          31,
          33,
          35,
          37,
          39,
          41,
          43,
          45,
          47,
          49
         ],
         "xaxis": "x5",
         "y": [
          0.8054709464990466,
          0.9007787139469429,
          0.9188141835210931,
          0.9254290462064707,
          0.9243205246301983,
          0.9261905163707272,
          0.929427790425299,
          0.9326636149489171,
          0.9327835191414671,
          0.9356722714488168,
          0.9352134346406892,
          0.9357803111547591,
          0.9367123869341845,
          0.9372957920667678,
          0.9372036332816958,
          0.9378817232555001,
          0.9372609507222099,
          0.9387750784380982,
          0.9381053516478394,
          0.9383108790901368,
          0.9387453966239929,
          0.9380637101749189,
          0.9378955281762856,
          0.9373446547372153,
          0.9377474223240784
         ],
         "yaxis": "y5"
        },
        {
         "hovertemplate": "variable=features_4_leaf_5<br>Trees=%{x}<br>value=%{y}<extra></extra>",
         "legendgroup": "features_4_leaf_5",
         "line": {
          "color": "#ab63fa",
          "dash": "solid"
         },
         "marker": {
          "symbol": "circle"
         },
         "mode": "lines",
         "name": "features_4_leaf_5",
         "orientation": "v",
         "showlegend": true,
         "type": "scatter",
         "x": [
          1,
          3,
          5,
          7,
          9,
          11,
          13,
          15,
          17,
          19,
          21,
          23,
          25,
          27,
          29,
          31,
          33,
          35,
          37,
          39,
          41,
          43,
          45,
          47,
          49
         ],
         "xaxis": "x5",
         "y": [
          0.845975385072663,
          0.9015504631997168,
          0.9234787735145845,
          0.9285685939758522,
          0.93120214219671,
          0.9342857183844465,
          0.9407530486416971,
          0.943493818860708,
          0.9439752931481392,
          0.943348073195101,
          0.94541755746595,
          0.9475429650913163,
          0.9498158937154695,
          0.9491169804795575,
          0.9487164319269418,
          0.9487107258917022,
          0.9489326322342624,
          0.9491140723136656,
          0.9486938054648645,
          0.9488534435768632,
          0.9477805387987528,
          0.947729032391082,
          0.9475784896587538,
          0.9471752463183168,
          0.947906156476345
         ],
         "yaxis": "y5"
        },
        {
         "hovertemplate": "variable=features_5_leaf_5<br>Trees=%{x}<br>value=%{y}<extra></extra>",
         "legendgroup": "features_5_leaf_5",
         "line": {
          "color": "#FFA15A",
          "dash": "solid"
         },
         "marker": {
          "symbol": "circle"
         },
         "mode": "lines",
         "name": "features_5_leaf_5",
         "orientation": "v",
         "showlegend": true,
         "type": "scatter",
         "x": [
          1,
          3,
          5,
          7,
          9,
          11,
          13,
          15,
          17,
          19,
          21,
          23,
          25,
          27,
          29,
          31,
          33,
          35,
          37,
          39,
          41,
          43,
          45,
          47,
          49
         ],
         "xaxis": "x5",
         "y": [
          0.854017252843834,
          0.8936968577388511,
          0.9245615394115132,
          0.9380999483289431,
          0.9414093168273479,
          0.9437767907170521,
          0.9464496608815214,
          0.948598575463025,
          0.9485392583271548,
          0.9482996353034119,
          0.9484302769911732,
          0.9489750019865589,
          0.9497474834413013,
          0.9503827193637733,
          0.9512165023782504,
          0.9508918398200384,
          0.9510110077649097,
          0.9515445234991322,
          0.9520048517768929,
          0.9524240714824771,
          0.9520222426048324,
          0.9522211860821967,
          0.9523997190382879,
          0.952142535991338,
          0.9527345161574923
         ],
         "yaxis": "y5"
        },
        {
         "hovertemplate": "variable=features_6_leaf_5<br>Trees=%{x}<br>value=%{y}<extra></extra>",
         "legendgroup": "features_6_leaf_5",
         "line": {
          "color": "#19d3f3",
          "dash": "solid"
         },
         "marker": {
          "symbol": "circle"
         },
         "mode": "lines",
         "name": "features_6_leaf_5",
         "orientation": "v",
         "showlegend": true,
         "type": "scatter",
         "x": [
          1,
          3,
          5,
          7,
          9,
          11,
          13,
          15,
          17,
          19,
          21,
          23,
          25,
          27,
          29,
          31,
          33,
          35,
          37,
          39,
          41,
          43,
          45,
          47,
          49
         ],
         "xaxis": "x5",
         "y": [
          0.912663856101204,
          0.941148173199182,
          0.947591270920322,
          0.9511809281766304,
          0.9516156989221031,
          0.9545196562594708,
          0.9557699356171696,
          0.9559386441350508,
          0.9559921682687895,
          0.9552193419290008,
          0.9560505536486378,
          0.9563027556830219,
          0.9566842996189594,
          0.9561360663186749,
          0.9551228772500628,
          0.9558381803777241,
          0.9555772985952954,
          0.9559505283167973,
          0.9557493819165556,
          0.9556428444114516,
          0.9557438939047754,
          0.9553743387571929,
          0.9557668724193089,
          0.9554188874186288,
          0.9557001263187175
         ],
         "yaxis": "y5"
        },
        {
         "hovertemplate": "variable=features_7_leaf_5<br>Trees=%{x}<br>value=%{y}<extra></extra>",
         "legendgroup": "features_7_leaf_5",
         "line": {
          "color": "#FF6692",
          "dash": "solid"
         },
         "marker": {
          "symbol": "circle"
         },
         "mode": "lines",
         "name": "features_7_leaf_5",
         "orientation": "v",
         "showlegend": true,
         "type": "scatter",
         "x": [
          1,
          3,
          5,
          7,
          9,
          11,
          13,
          15,
          17,
          19,
          21,
          23,
          25,
          27,
          29,
          31,
          33,
          35,
          37,
          39,
          41,
          43,
          45,
          47,
          49
         ],
         "xaxis": "x5",
         "y": [
          0.911817866476663,
          0.9267677894511026,
          0.9430992485480891,
          0.9500699424628086,
          0.9526499129999282,
          0.9557465656220181,
          0.9576669232980635,
          0.9581716929374726,
          0.9583236887723778,
          0.958941387815827,
          0.9589489434001747,
          0.957333310512993,
          0.9576509509162964,
          0.957270174007291,
          0.9570439863270043,
          0.9563928295984783,
          0.9561036726794004,
          0.9563077388049852,
          0.9565925155700968,
          0.9568627120325702,
          0.957070494687577,
          0.9577735851688356,
          0.9581054826718238,
          0.9575564129617945,
          0.9578823552949822
         ],
         "yaxis": "y5"
        },
        {
         "hovertemplate": "variable=features_8_leaf_5<br>Trees=%{x}<br>value=%{y}<extra></extra>",
         "legendgroup": "features_8_leaf_5",
         "line": {
          "color": "#B6E880",
          "dash": "solid"
         },
         "marker": {
          "symbol": "circle"
         },
         "mode": "lines",
         "name": "features_8_leaf_5",
         "orientation": "v",
         "showlegend": true,
         "type": "scatter",
         "x": [
          1,
          3,
          5,
          7,
          9,
          11,
          13,
          15,
          17,
          19,
          21,
          23,
          25,
          27,
          29,
          31,
          33,
          35,
          37,
          39,
          41,
          43,
          45,
          47,
          49
         ],
         "xaxis": "x5",
         "y": [
          0.8940350934191607,
          0.9418736193988708,
          0.9479690585429719,
          0.9533622878233302,
          0.954392544962791,
          0.95799331247577,
          0.9591243334004356,
          0.9602931124551389,
          0.9600172967202643,
          0.9596217664659041,
          0.9603457050029537,
          0.9602036371225777,
          0.9611033365720287,
          0.9602644979252523,
          0.9601307284205614,
          0.9602831622111963,
          0.9597922665987737,
          0.9599931251929206,
          0.9590887607377901,
          0.9589373977047139,
          0.9592253003131862,
          0.9593154577321942,
          0.9595298074445697,
          0.9592641456188377,
          0.9597196969986778
         ],
         "yaxis": "y5"
        },
        {
         "hovertemplate": "variable=features_9_leaf_5<br>Trees=%{x}<br>value=%{y}<extra></extra>",
         "legendgroup": "features_9_leaf_5",
         "line": {
          "color": "#FF97FF",
          "dash": "solid"
         },
         "marker": {
          "symbol": "circle"
         },
         "mode": "lines",
         "name": "features_9_leaf_5",
         "orientation": "v",
         "showlegend": true,
         "type": "scatter",
         "x": [
          1,
          3,
          5,
          7,
          9,
          11,
          13,
          15,
          17,
          19,
          21,
          23,
          25,
          27,
          29,
          31,
          33,
          35,
          37,
          39,
          41,
          43,
          45,
          47,
          49
         ],
         "xaxis": "x5",
         "y": [
          0.9121330791887159,
          0.9490005162462675,
          0.9512865862493092,
          0.9573043812077223,
          0.9586164148307565,
          0.9592898759657358,
          0.960808755848231,
          0.960564361039878,
          0.9599291406353494,
          0.9595889598388345,
          0.9600674372597359,
          0.9595227562917342,
          0.9603350882103576,
          0.9612323522877728,
          0.9612094288914921,
          0.9606961774995643,
          0.961053636897752,
          0.9614563801608347,
          0.961279972726136,
          0.9609173182115779,
          0.9605572495576306,
          0.960741045446724,
          0.9606546403188899,
          0.9602629863138127,
          0.9605421093531108
         ],
         "yaxis": "y5"
        },
        {
         "hovertemplate": "variable=features_10_leaf_5<br>Trees=%{x}<br>value=%{y}<extra></extra>",
         "legendgroup": "features_10_leaf_5",
         "line": {
          "color": "#FECB52",
          "dash": "solid"
         },
         "marker": {
          "symbol": "circle"
         },
         "mode": "lines",
         "name": "features_10_leaf_5",
         "orientation": "v",
         "showlegend": true,
         "type": "scatter",
         "x": [
          1,
          3,
          5,
          7,
          9,
          11,
          13,
          15,
          17,
          19,
          21,
          23,
          25,
          27,
          29,
          31,
          33,
          35,
          37,
          39,
          41,
          43,
          45,
          47,
          49
         ],
         "xaxis": "x5",
         "y": [
          0.9172487199597826,
          0.9451423272650128,
          0.9500852418401424,
          0.9522654678279023,
          0.9550622206060746,
          0.9578894305907835,
          0.9594484068078895,
          0.9598114846445303,
          0.9596987682934021,
          0.9590745795083226,
          0.9597434631641075,
          0.9597228210093507,
          0.9601328089345758,
          0.9599273845515264,
          0.9604703228662862,
          0.9600530056825308,
          0.9597363762037062,
          0.959757505458138,
          0.9597686195181077,
          0.9594693068941048,
          0.9596513978282817,
          0.9597347966468532,
          0.9601295310877076,
          0.9598433938608351,
          0.9602555870353028
         ],
         "yaxis": "y5"
        },
        {
         "hovertemplate": "variable=features_1_leaf_6<br>Trees=%{x}<br>value=%{y}<extra></extra>",
         "legendgroup": "features_1_leaf_6",
         "line": {
          "color": "#636efa",
          "dash": "solid"
         },
         "marker": {
          "symbol": "circle"
         },
         "mode": "lines",
         "name": "features_1_leaf_6",
         "orientation": "v",
         "showlegend": true,
         "type": "scatter",
         "x": [
          1,
          3,
          5,
          7,
          9,
          11,
          13,
          15,
          17,
          19,
          21,
          23,
          25,
          27,
          29,
          31,
          33,
          35,
          37,
          39,
          41,
          43,
          45,
          47,
          49
         ],
         "xaxis": "x6",
         "y": [
          0.7137626554434312,
          0.8390812267878823,
          0.8655040928469214,
          0.8840045165909889,
          0.8784335037462887,
          0.8860227222976883,
          0.8895142749171905,
          0.890957484522564,
          0.8908861045062919,
          0.8931965429162514,
          0.8965192504077253,
          0.8959791961371627,
          0.8950488488788165,
          0.8967001888133483,
          0.8961453408974341,
          0.8991601267564754,
          0.899324118106744,
          0.899938976224373,
          0.900449256491575,
          0.8997195987169114,
          0.899412319336372,
          0.8967851037877235,
          0.8966741666288307,
          0.8964759023130006,
          0.897009654317898
         ],
         "yaxis": "y6"
        },
        {
         "hovertemplate": "variable=features_2_leaf_6<br>Trees=%{x}<br>value=%{y}<extra></extra>",
         "legendgroup": "features_2_leaf_6",
         "line": {
          "color": "#EF553B",
          "dash": "solid"
         },
         "marker": {
          "symbol": "circle"
         },
         "mode": "lines",
         "name": "features_2_leaf_6",
         "orientation": "v",
         "showlegend": true,
         "type": "scatter",
         "x": [
          1,
          3,
          5,
          7,
          9,
          11,
          13,
          15,
          17,
          19,
          21,
          23,
          25,
          27,
          29,
          31,
          33,
          35,
          37,
          39,
          41,
          43,
          45,
          47,
          49
         ],
         "xaxis": "x6",
         "y": [
          0.8404192679557569,
          0.8987459573884349,
          0.9139881753956507,
          0.9175039011183014,
          0.9190157920595248,
          0.9169280164374264,
          0.9208014702452578,
          0.9243215080076359,
          0.9262932470199964,
          0.9285521183549854,
          0.9290300851479107,
          0.9282543367442273,
          0.9278478784195748,
          0.9269505612960633,
          0.9262205964711363,
          0.926193775825172,
          0.926633577361993,
          0.928768991829954,
          0.929182026766715,
          0.9286449674938192,
          0.9276135402812992,
          0.927250888036489,
          0.9271867459429473,
          0.9272888293930786,
          0.9273271168474198
         ],
         "yaxis": "y6"
        },
        {
         "hovertemplate": "variable=features_3_leaf_6<br>Trees=%{x}<br>value=%{y}<extra></extra>",
         "legendgroup": "features_3_leaf_6",
         "line": {
          "color": "#00cc96",
          "dash": "solid"
         },
         "marker": {
          "symbol": "circle"
         },
         "mode": "lines",
         "name": "features_3_leaf_6",
         "orientation": "v",
         "showlegend": true,
         "type": "scatter",
         "x": [
          1,
          3,
          5,
          7,
          9,
          11,
          13,
          15,
          17,
          19,
          21,
          23,
          25,
          27,
          29,
          31,
          33,
          35,
          37,
          39,
          41,
          43,
          45,
          47,
          49
         ],
         "xaxis": "x6",
         "y": [
          0.8255209732666449,
          0.884716699589782,
          0.9092485099020642,
          0.9203029665721395,
          0.9230365330561392,
          0.9277996253220533,
          0.931975449909291,
          0.9324242476427977,
          0.9313829130614988,
          0.9349938045013643,
          0.9353304422604447,
          0.9359691741585818,
          0.9360280552380387,
          0.9356755343680903,
          0.9356566488036286,
          0.9366227620572308,
          0.9356127137230157,
          0.9363628717613404,
          0.9360770910227767,
          0.936399623463716,
          0.9366061015309011,
          0.9359337607015463,
          0.9360741222117429,
          0.9357374241706834,
          0.9362273691353369
         ],
         "yaxis": "y6"
        },
        {
         "hovertemplate": "variable=features_4_leaf_6<br>Trees=%{x}<br>value=%{y}<extra></extra>",
         "legendgroup": "features_4_leaf_6",
         "line": {
          "color": "#ab63fa",
          "dash": "solid"
         },
         "marker": {
          "symbol": "circle"
         },
         "mode": "lines",
         "name": "features_4_leaf_6",
         "orientation": "v",
         "showlegend": true,
         "type": "scatter",
         "x": [
          1,
          3,
          5,
          7,
          9,
          11,
          13,
          15,
          17,
          19,
          21,
          23,
          25,
          27,
          29,
          31,
          33,
          35,
          37,
          39,
          41,
          43,
          45,
          47,
          49
         ],
         "xaxis": "x6",
         "y": [
          0.8506842616894676,
          0.8976035733887162,
          0.919850686692436,
          0.9267237093755833,
          0.9286146846019097,
          0.9304280986928551,
          0.9360478523459254,
          0.9392504273735183,
          0.9398863542910719,
          0.9397540937946859,
          0.9407195679092657,
          0.9430628315295195,
          0.9442281081770755,
          0.9439169105920989,
          0.9439061171165595,
          0.9446538401734449,
          0.9457296845938685,
          0.9461048899658591,
          0.9454645302581289,
          0.9458371735053988,
          0.9447561831736568,
          0.9443716351143285,
          0.9443630591587733,
          0.9440289325570841,
          0.9442539135745569
         ],
         "yaxis": "y6"
        },
        {
         "hovertemplate": "variable=features_5_leaf_6<br>Trees=%{x}<br>value=%{y}<extra></extra>",
         "legendgroup": "features_5_leaf_6",
         "line": {
          "color": "#FFA15A",
          "dash": "solid"
         },
         "marker": {
          "symbol": "circle"
         },
         "mode": "lines",
         "name": "features_5_leaf_6",
         "orientation": "v",
         "showlegend": true,
         "type": "scatter",
         "x": [
          1,
          3,
          5,
          7,
          9,
          11,
          13,
          15,
          17,
          19,
          21,
          23,
          25,
          27,
          29,
          31,
          33,
          35,
          37,
          39,
          41,
          43,
          45,
          47,
          49
         ],
         "xaxis": "x6",
         "y": [
          0.8527415335656257,
          0.9029924659712718,
          0.929437942955593,
          0.9387932791769842,
          0.9416080371652849,
          0.9422224282232984,
          0.9437563087508867,
          0.946426000631502,
          0.9463990697427832,
          0.9471189991337671,
          0.9479407517934171,
          0.9473280781898934,
          0.9486509018819815,
          0.9483647308723784,
          0.9494748073182796,
          0.9480442657861617,
          0.9476022749123357,
          0.9483185433473686,
          0.9487985890573187,
          0.9493500569424068,
          0.94900489639491,
          0.9491347568452732,
          0.9492853040144681,
          0.9492376735865544,
          0.9497429090133004
         ],
         "yaxis": "y6"
        },
        {
         "hovertemplate": "variable=features_6_leaf_6<br>Trees=%{x}<br>value=%{y}<extra></extra>",
         "legendgroup": "features_6_leaf_6",
         "line": {
          "color": "#19d3f3",
          "dash": "solid"
         },
         "marker": {
          "symbol": "circle"
         },
         "mode": "lines",
         "name": "features_6_leaf_6",
         "orientation": "v",
         "showlegend": true,
         "type": "scatter",
         "x": [
          1,
          3,
          5,
          7,
          9,
          11,
          13,
          15,
          17,
          19,
          21,
          23,
          25,
          27,
          29,
          31,
          33,
          35,
          37,
          39,
          41,
          43,
          45,
          47,
          49
         ],
         "xaxis": "x6",
         "y": [
          0.9021248428500641,
          0.9397850741739088,
          0.9471803830168399,
          0.9502990771241986,
          0.9502399960967433,
          0.951015265050857,
          0.9526999546637022,
          0.9542670099218785,
          0.9539647314238863,
          0.9534576354098763,
          0.9545757475575499,
          0.9553470931604862,
          0.9561682980277688,
          0.9557732360971615,
          0.955355769150781,
          0.9557014127028255,
          0.9550666863593931,
          0.955488301538313,
          0.955188106789187,
          0.9547010749221532,
          0.9547719675512975,
          0.9543505904222769,
          0.9547743787753324,
          0.9544813767880251,
          0.9545343216179563
         ],
         "yaxis": "y6"
        },
        {
         "hovertemplate": "variable=features_7_leaf_6<br>Trees=%{x}<br>value=%{y}<extra></extra>",
         "legendgroup": "features_7_leaf_6",
         "line": {
          "color": "#FF6692",
          "dash": "solid"
         },
         "marker": {
          "symbol": "circle"
         },
         "mode": "lines",
         "name": "features_7_leaf_6",
         "orientation": "v",
         "showlegend": true,
         "type": "scatter",
         "x": [
          1,
          3,
          5,
          7,
          9,
          11,
          13,
          15,
          17,
          19,
          21,
          23,
          25,
          27,
          29,
          31,
          33,
          35,
          37,
          39,
          41,
          43,
          45,
          47,
          49
         ],
         "xaxis": "x6",
         "y": [
          0.9177410405761395,
          0.9290629390547085,
          0.9433348198417957,
          0.9504914642404184,
          0.9521131710995716,
          0.9540070312098674,
          0.9545569909631884,
          0.956395095424084,
          0.956550004281113,
          0.9567741218611419,
          0.956523681987336,
          0.955606395569428,
          0.9555807119883848,
          0.9558330951528087,
          0.9558146698396508,
          0.9555008200956241,
          0.9549372293158731,
          0.9549723725778405,
          0.9549104531872373,
          0.954645788936477,
          0.9545598144328915,
          0.9548778565328698,
          0.9554109530331221,
          0.9552881490925225,
          0.9554718622941104
         ],
         "yaxis": "y6"
        },
        {
         "hovertemplate": "variable=features_8_leaf_6<br>Trees=%{x}<br>value=%{y}<extra></extra>",
         "legendgroup": "features_8_leaf_6",
         "line": {
          "color": "#B6E880",
          "dash": "solid"
         },
         "marker": {
          "symbol": "circle"
         },
         "mode": "lines",
         "name": "features_8_leaf_6",
         "orientation": "v",
         "showlegend": true,
         "type": "scatter",
         "x": [
          1,
          3,
          5,
          7,
          9,
          11,
          13,
          15,
          17,
          19,
          21,
          23,
          25,
          27,
          29,
          31,
          33,
          35,
          37,
          39,
          41,
          43,
          45,
          47,
          49
         ],
         "xaxis": "x6",
         "y": [
          0.8965712218592474,
          0.9416279554911389,
          0.9489758251990145,
          0.9533450301937283,
          0.9549696864481534,
          0.9579170803991832,
          0.9591171888805355,
          0.9592317232636216,
          0.9589297807429211,
          0.9592823520342082,
          0.9599249242370185,
          0.9601006736450071,
          0.960376495180044,
          0.9591244224431849,
          0.9587565893482622,
          0.9591053393522287,
          0.9584786969603499,
          0.9586422856974245,
          0.9577315423872447,
          0.9576013802204958,
          0.9579566704389526,
          0.958285150408446,
          0.9583587925840389,
          0.9582990954224908,
          0.9587073284030788
         ],
         "yaxis": "y6"
        },
        {
         "hovertemplate": "variable=features_9_leaf_6<br>Trees=%{x}<br>value=%{y}<extra></extra>",
         "legendgroup": "features_9_leaf_6",
         "line": {
          "color": "#FF97FF",
          "dash": "solid"
         },
         "marker": {
          "symbol": "circle"
         },
         "mode": "lines",
         "name": "features_9_leaf_6",
         "orientation": "v",
         "showlegend": true,
         "type": "scatter",
         "x": [
          1,
          3,
          5,
          7,
          9,
          11,
          13,
          15,
          17,
          19,
          21,
          23,
          25,
          27,
          29,
          31,
          33,
          35,
          37,
          39,
          41,
          43,
          45,
          47,
          49
         ],
         "xaxis": "x6",
         "y": [
          0.9179977118882409,
          0.947157370397569,
          0.9496976398791552,
          0.9530117115184208,
          0.9546951437466997,
          0.9562184230497748,
          0.957887702733497,
          0.9579974290273101,
          0.9577118836415888,
          0.957063577051471,
          0.958136849109412,
          0.9581526647909906,
          0.9590480758609822,
          0.9600192444191057,
          0.9601644075219966,
          0.9596937822673889,
          0.9595263227624203,
          0.9599764381343823,
          0.9596200744993034,
          0.9592601794391635,
          0.9590247393399096,
          0.959469155059551,
          0.9594218688192514,
          0.9592932056240535,
          0.9596806342465731
         ],
         "yaxis": "y6"
        },
        {
         "hovertemplate": "variable=features_10_leaf_6<br>Trees=%{x}<br>value=%{y}<extra></extra>",
         "legendgroup": "features_10_leaf_6",
         "line": {
          "color": "#FECB52",
          "dash": "solid"
         },
         "marker": {
          "symbol": "circle"
         },
         "mode": "lines",
         "name": "features_10_leaf_6",
         "orientation": "v",
         "showlegend": true,
         "type": "scatter",
         "x": [
          1,
          3,
          5,
          7,
          9,
          11,
          13,
          15,
          17,
          19,
          21,
          23,
          25,
          27,
          29,
          31,
          33,
          35,
          37,
          39,
          41,
          43,
          45,
          47,
          49
         ],
         "xaxis": "x6",
         "y": [
          0.9168207315731116,
          0.9418608490250732,
          0.9472990974612413,
          0.9505550018732238,
          0.9517213533281597,
          0.9549650496957952,
          0.956357750047952,
          0.9589317862755322,
          0.958632919961668,
          0.9578005414526258,
          0.9583073433923103,
          0.9580154203107825,
          0.958631822983342,
          0.9580224682805116,
          0.9585215643874989,
          0.9583451409314707,
          0.9580839611830443,
          0.9584099378239204,
          0.9586066220886229,
          0.9586875835761448,
          0.9584164515785272,
          0.9586469711085609,
          0.9589130612261016,
          0.958649090877566,
          0.9588788209820749
         ],
         "yaxis": "y6"
        },
        {
         "hovertemplate": "variable=features_1_leaf_7<br>Trees=%{x}<br>value=%{y}<extra></extra>",
         "legendgroup": "features_1_leaf_7",
         "line": {
          "color": "#636efa",
          "dash": "solid"
         },
         "marker": {
          "symbol": "circle"
         },
         "mode": "lines",
         "name": "features_1_leaf_7",
         "orientation": "v",
         "showlegend": true,
         "type": "scatter",
         "x": [
          1,
          3,
          5,
          7,
          9,
          11,
          13,
          15,
          17,
          19,
          21,
          23,
          25,
          27,
          29,
          31,
          33,
          35,
          37,
          39,
          41,
          43,
          45,
          47,
          49
         ],
         "xaxis": "x7",
         "y": [
          0.7260570405293162,
          0.8175677055005645,
          0.8477835629827764,
          0.8719261161792027,
          0.8735027538001978,
          0.8796853480036015,
          0.8813528621638611,
          0.8838030736710774,
          0.8844060020912842,
          0.8884526786137947,
          0.8923762741417182,
          0.8920931003632482,
          0.89179051207995,
          0.89296112093859,
          0.8916954853197823,
          0.8940963057824323,
          0.8935861373735051,
          0.8955366669230704,
          0.8961041400354477,
          0.8959305288730619,
          0.8949621903565091,
          0.8919850468429237,
          0.8922158544498011,
          0.8918398304541416,
          0.8919362978143391
         ],
         "yaxis": "y7"
        },
        {
         "hovertemplate": "variable=features_2_leaf_7<br>Trees=%{x}<br>value=%{y}<extra></extra>",
         "legendgroup": "features_2_leaf_7",
         "line": {
          "color": "#EF553B",
          "dash": "solid"
         },
         "marker": {
          "symbol": "circle"
         },
         "mode": "lines",
         "name": "features_2_leaf_7",
         "orientation": "v",
         "showlegend": true,
         "type": "scatter",
         "x": [
          1,
          3,
          5,
          7,
          9,
          11,
          13,
          15,
          17,
          19,
          21,
          23,
          25,
          27,
          29,
          31,
          33,
          35,
          37,
          39,
          41,
          43,
          45,
          47,
          49
         ],
         "xaxis": "x7",
         "y": [
          0.8421790420880203,
          0.8884552785523654,
          0.9062765023910085,
          0.9084932791864047,
          0.9106662304289935,
          0.9087169249925898,
          0.9132394054379652,
          0.9170201264170663,
          0.9196503795245728,
          0.9232799214539591,
          0.9228402815523662,
          0.9231884227660785,
          0.9225913037208631,
          0.921628859845079,
          0.9209468247648115,
          0.9211507182377112,
          0.9209857574543389,
          0.9224435016494377,
          0.923159253558288,
          0.9232908363315777,
          0.9219821741327902,
          0.9213363887345135,
          0.9214591190858178,
          0.9219720364350991,
          0.9220483633743465
         ],
         "yaxis": "y7"
        },
        {
         "hovertemplate": "variable=features_3_leaf_7<br>Trees=%{x}<br>value=%{y}<extra></extra>",
         "legendgroup": "features_3_leaf_7",
         "line": {
          "color": "#00cc96",
          "dash": "solid"
         },
         "marker": {
          "symbol": "circle"
         },
         "mode": "lines",
         "name": "features_3_leaf_7",
         "orientation": "v",
         "showlegend": true,
         "type": "scatter",
         "x": [
          1,
          3,
          5,
          7,
          9,
          11,
          13,
          15,
          17,
          19,
          21,
          23,
          25,
          27,
          29,
          31,
          33,
          35,
          37,
          39,
          41,
          43,
          45,
          47,
          49
         ],
         "xaxis": "x7",
         "y": [
          0.7888349948778406,
          0.8843041538730425,
          0.9110987261423208,
          0.9177571044335642,
          0.9219443546588361,
          0.9285828526246569,
          0.932576437727022,
          0.9331950344682782,
          0.9331369442845899,
          0.9365540779507434,
          0.9365611114522286,
          0.9366463462590563,
          0.9359964246594579,
          0.9354506820555806,
          0.9354394648630537,
          0.9368727889611886,
          0.935949702627234,
          0.9365975759961456,
          0.9361470264954722,
          0.9362993415709863,
          0.935588426473206,
          0.9353892042754947,
          0.9352608254963952,
          0.9347138770443285,
          0.9351188884338114
         ],
         "yaxis": "y7"
        },
        {
         "hovertemplate": "variable=features_4_leaf_7<br>Trees=%{x}<br>value=%{y}<extra></extra>",
         "legendgroup": "features_4_leaf_7",
         "line": {
          "color": "#ab63fa",
          "dash": "solid"
         },
         "marker": {
          "symbol": "circle"
         },
         "mode": "lines",
         "name": "features_4_leaf_7",
         "orientation": "v",
         "showlegend": true,
         "type": "scatter",
         "x": [
          1,
          3,
          5,
          7,
          9,
          11,
          13,
          15,
          17,
          19,
          21,
          23,
          25,
          27,
          29,
          31,
          33,
          35,
          37,
          39,
          41,
          43,
          45,
          47,
          49
         ],
         "xaxis": "x7",
         "y": [
          0.8520769238972494,
          0.8988351499063427,
          0.9168984352017866,
          0.9231901341316264,
          0.925449626053747,
          0.9263089839679264,
          0.9309154321094013,
          0.935052264258035,
          0.9361819739427466,
          0.9357895920065982,
          0.9373775363073156,
          0.9395960418968319,
          0.9410016148742424,
          0.9408083202397688,
          0.9406404059110554,
          0.9414718682751649,
          0.9414786616251355,
          0.9421983355643491,
          0.9416455912374356,
          0.9418306244430401,
          0.9409773411461769,
          0.9405777646742898,
          0.9403329815142081,
          0.9398167079586977,
          0.9400713169069286
         ],
         "yaxis": "y7"
        },
        {
         "hovertemplate": "variable=features_5_leaf_7<br>Trees=%{x}<br>value=%{y}<extra></extra>",
         "legendgroup": "features_5_leaf_7",
         "line": {
          "color": "#FFA15A",
          "dash": "solid"
         },
         "marker": {
          "symbol": "circle"
         },
         "mode": "lines",
         "name": "features_5_leaf_7",
         "orientation": "v",
         "showlegend": true,
         "type": "scatter",
         "x": [
          1,
          3,
          5,
          7,
          9,
          11,
          13,
          15,
          17,
          19,
          21,
          23,
          25,
          27,
          29,
          31,
          33,
          35,
          37,
          39,
          41,
          43,
          45,
          47,
          49
         ],
         "xaxis": "x7",
         "y": [
          0.855643427134986,
          0.8965803602499844,
          0.921779830626553,
          0.9341562279330471,
          0.9364875705322391,
          0.9380724568887701,
          0.9393891918336967,
          0.9438160139926575,
          0.9435195081404302,
          0.9426139960678255,
          0.9443670699409461,
          0.9448242083081178,
          0.9455498281725674,
          0.945780214036466,
          0.9460024891579131,
          0.9455067651267524,
          0.9455401502642058,
          0.9457785200502293,
          0.9463525270485293,
          0.9468550636782792,
          0.9460722336195536,
          0.9464382204992182,
          0.9468670719979869,
          0.9466307468865185,
          0.9470692944669418
         ],
         "yaxis": "y7"
        },
        {
         "hovertemplate": "variable=features_6_leaf_7<br>Trees=%{x}<br>value=%{y}<extra></extra>",
         "legendgroup": "features_6_leaf_7",
         "line": {
          "color": "#19d3f3",
          "dash": "solid"
         },
         "marker": {
          "symbol": "circle"
         },
         "mode": "lines",
         "name": "features_6_leaf_7",
         "orientation": "v",
         "showlegend": true,
         "type": "scatter",
         "x": [
          1,
          3,
          5,
          7,
          9,
          11,
          13,
          15,
          17,
          19,
          21,
          23,
          25,
          27,
          29,
          31,
          33,
          35,
          37,
          39,
          41,
          43,
          45,
          47,
          49
         ],
         "xaxis": "x7",
         "y": [
          0.8979631565903027,
          0.9358561446689009,
          0.9430636451452038,
          0.9466508366711421,
          0.9457081373962224,
          0.9467990954076386,
          0.9479190824501524,
          0.9484650388056769,
          0.9495553168354999,
          0.9496544190505742,
          0.9502216952593496,
          0.9507526363508214,
          0.9520043874392474,
          0.9515863738478163,
          0.9507811547926994,
          0.951127232408574,
          0.9504199580521971,
          0.9509300240086972,
          0.9507755731683407,
          0.9508083348254068,
          0.9510306642662837,
          0.9503441134115349,
          0.9509872317640499,
          0.9506678017754737,
          0.9508064319911046
         ],
         "yaxis": "y7"
        },
        {
         "hovertemplate": "variable=features_7_leaf_7<br>Trees=%{x}<br>value=%{y}<extra></extra>",
         "legendgroup": "features_7_leaf_7",
         "line": {
          "color": "#FF6692",
          "dash": "solid"
         },
         "marker": {
          "symbol": "circle"
         },
         "mode": "lines",
         "name": "features_7_leaf_7",
         "orientation": "v",
         "showlegend": true,
         "type": "scatter",
         "x": [
          1,
          3,
          5,
          7,
          9,
          11,
          13,
          15,
          17,
          19,
          21,
          23,
          25,
          27,
          29,
          31,
          33,
          35,
          37,
          39,
          41,
          43,
          45,
          47,
          49
         ],
         "xaxis": "x7",
         "y": [
          0.9215845771060828,
          0.9316810301594316,
          0.9454778947909125,
          0.952421516611083,
          0.9536208506784101,
          0.9556468842851313,
          0.955599208444705,
          0.9559289500688648,
          0.9558802762879994,
          0.9556195831196186,
          0.9553596298111078,
          0.95462462016544,
          0.9549363334761367,
          0.9541698374112988,
          0.9537645359277859,
          0.9535155452337436,
          0.9529501156898798,
          0.9530479342712546,
          0.9532017848507619,
          0.9529109965777529,
          0.9526247971942464,
          0.9529802566634407,
          0.9535893491759427,
          0.953426391463865,
          0.9535978829760511
         ],
         "yaxis": "y7"
        },
        {
         "hovertemplate": "variable=features_8_leaf_7<br>Trees=%{x}<br>value=%{y}<extra></extra>",
         "legendgroup": "features_8_leaf_7",
         "line": {
          "color": "#B6E880",
          "dash": "solid"
         },
         "marker": {
          "symbol": "circle"
         },
         "mode": "lines",
         "name": "features_8_leaf_7",
         "orientation": "v",
         "showlegend": true,
         "type": "scatter",
         "x": [
          1,
          3,
          5,
          7,
          9,
          11,
          13,
          15,
          17,
          19,
          21,
          23,
          25,
          27,
          29,
          31,
          33,
          35,
          37,
          39,
          41,
          43,
          45,
          47,
          49
         ],
         "xaxis": "x7",
         "y": [
          0.8859453453341877,
          0.9395858353693842,
          0.9470065618088114,
          0.9518817927576884,
          0.9513271088032391,
          0.9546765969460422,
          0.9565784523228531,
          0.9575751396602097,
          0.9571494868830126,
          0.9571523150772183,
          0.9576589440374306,
          0.9575685598735507,
          0.9582841884455139,
          0.9574431095998757,
          0.9576219835217218,
          0.9578905907743481,
          0.9571751534701789,
          0.9574577655402343,
          0.9571530410909086,
          0.9567123491339187,
          0.9570295457029128,
          0.957194161977872,
          0.9573047066927073,
          0.9569704248260639,
          0.9574343901460024
         ],
         "yaxis": "y7"
        },
        {
         "hovertemplate": "variable=features_9_leaf_7<br>Trees=%{x}<br>value=%{y}<extra></extra>",
         "legendgroup": "features_9_leaf_7",
         "line": {
          "color": "#FF97FF",
          "dash": "solid"
         },
         "marker": {
          "symbol": "circle"
         },
         "mode": "lines",
         "name": "features_9_leaf_7",
         "orientation": "v",
         "showlegend": true,
         "type": "scatter",
         "x": [
          1,
          3,
          5,
          7,
          9,
          11,
          13,
          15,
          17,
          19,
          21,
          23,
          25,
          27,
          29,
          31,
          33,
          35,
          37,
          39,
          41,
          43,
          45,
          47,
          49
         ],
         "xaxis": "x7",
         "y": [
          0.9280343947450715,
          0.946991031073533,
          0.9517628814698817,
          0.9553581099323181,
          0.9566447359801474,
          0.9577759325444705,
          0.9590586090590631,
          0.9593241932578837,
          0.9588715992149277,
          0.9588077949976302,
          0.9589982567100984,
          0.958495013767801,
          0.9590607354458871,
          0.9596494486850558,
          0.9593632056850911,
          0.958729864007308,
          0.9585399728484658,
          0.9590469109661927,
          0.9587811061052982,
          0.9580867807844718,
          0.9576507118936355,
          0.9578534559748254,
          0.9576238415582642,
          0.9575981511024478,
          0.9580116820289051
         ],
         "yaxis": "y7"
        },
        {
         "hovertemplate": "variable=features_10_leaf_7<br>Trees=%{x}<br>value=%{y}<extra></extra>",
         "legendgroup": "features_10_leaf_7",
         "line": {
          "color": "#FECB52",
          "dash": "solid"
         },
         "marker": {
          "symbol": "circle"
         },
         "mode": "lines",
         "name": "features_10_leaf_7",
         "orientation": "v",
         "showlegend": true,
         "type": "scatter",
         "x": [
          1,
          3,
          5,
          7,
          9,
          11,
          13,
          15,
          17,
          19,
          21,
          23,
          25,
          27,
          29,
          31,
          33,
          35,
          37,
          39,
          41,
          43,
          45,
          47,
          49
         ],
         "xaxis": "x7",
         "y": [
          0.9143545156359648,
          0.9400303733110779,
          0.9463213287717313,
          0.947928906426853,
          0.9503674711403377,
          0.9540139094319224,
          0.9564734030792762,
          0.9572744662682062,
          0.9572251103942699,
          0.957394686396557,
          0.9582214823130002,
          0.9576713754445556,
          0.9585828591932067,
          0.9578780221063121,
          0.9582894160752751,
          0.9577675505647036,
          0.957590111727766,
          0.9576121498090486,
          0.9576934717725969,
          0.95753845450455,
          0.9571247773454779,
          0.9572174461698685,
          0.9575202408224701,
          0.9571731839937551,
          0.9575907344221767
         ],
         "yaxis": "y7"
        },
        {
         "hovertemplate": "variable=features_1_leaf_8<br>Trees=%{x}<br>value=%{y}<extra></extra>",
         "legendgroup": "features_1_leaf_8",
         "line": {
          "color": "#636efa",
          "dash": "solid"
         },
         "marker": {
          "symbol": "circle"
         },
         "mode": "lines",
         "name": "features_1_leaf_8",
         "orientation": "v",
         "showlegend": true,
         "type": "scatter",
         "x": [
          1,
          3,
          5,
          7,
          9,
          11,
          13,
          15,
          17,
          19,
          21,
          23,
          25,
          27,
          29,
          31,
          33,
          35,
          37,
          39,
          41,
          43,
          45,
          47,
          49
         ],
         "xaxis": "x8",
         "y": [
          0.7235920882215321,
          0.8093057118025575,
          0.8460173014986271,
          0.8661771038048514,
          0.8693330052476881,
          0.8742510785639255,
          0.8745523596611567,
          0.8760177817179639,
          0.8779427368459312,
          0.8834461660049229,
          0.8876087943625628,
          0.8869621413944829,
          0.8860249906833302,
          0.8868409282082244,
          0.8852053257654022,
          0.8869862491651542,
          0.8854486321424562,
          0.8874095999431143,
          0.8882193009553406,
          0.8888961652120033,
          0.8877891456858503,
          0.8847236036230891,
          0.8844195202440245,
          0.8839405677931312,
          0.8837691364721758
         ],
         "yaxis": "y8"
        },
        {
         "hovertemplate": "variable=features_2_leaf_8<br>Trees=%{x}<br>value=%{y}<extra></extra>",
         "legendgroup": "features_2_leaf_8",
         "line": {
          "color": "#EF553B",
          "dash": "solid"
         },
         "marker": {
          "symbol": "circle"
         },
         "mode": "lines",
         "name": "features_2_leaf_8",
         "orientation": "v",
         "showlegend": true,
         "type": "scatter",
         "x": [
          1,
          3,
          5,
          7,
          9,
          11,
          13,
          15,
          17,
          19,
          21,
          23,
          25,
          27,
          29,
          31,
          33,
          35,
          37,
          39,
          41,
          43,
          45,
          47,
          49
         ],
         "xaxis": "x8",
         "y": [
          0.8331525501515044,
          0.884543467371452,
          0.9016326344691862,
          0.9040502432981073,
          0.904657700229363,
          0.9028321583973655,
          0.9061538526382001,
          0.9104825101469199,
          0.913632781883409,
          0.9179072404394464,
          0.917846569574764,
          0.9183719617615147,
          0.9173809286155574,
          0.9162619381435613,
          0.9152779530712605,
          0.9159691232578933,
          0.9165581347038805,
          0.9185596608656812,
          0.9195054217257368,
          0.9194850981960435,
          0.9179237668328739,
          0.9166049898346925,
          0.9168562350623285,
          0.9170226013673695,
          0.9162100364194622
         ],
         "yaxis": "y8"
        },
        {
         "hovertemplate": "variable=features_3_leaf_8<br>Trees=%{x}<br>value=%{y}<extra></extra>",
         "legendgroup": "features_3_leaf_8",
         "line": {
          "color": "#00cc96",
          "dash": "solid"
         },
         "marker": {
          "symbol": "circle"
         },
         "mode": "lines",
         "name": "features_3_leaf_8",
         "orientation": "v",
         "showlegend": true,
         "type": "scatter",
         "x": [
          1,
          3,
          5,
          7,
          9,
          11,
          13,
          15,
          17,
          19,
          21,
          23,
          25,
          27,
          29,
          31,
          33,
          35,
          37,
          39,
          41,
          43,
          45,
          47,
          49
         ],
         "xaxis": "x8",
         "y": [
          0.805577622682056,
          0.8948511933507058,
          0.9107425627205196,
          0.9175127520281963,
          0.9204176312132926,
          0.9272209708809817,
          0.9307427722701014,
          0.9312251711839397,
          0.9312531032464035,
          0.9342548829551214,
          0.9344142454049198,
          0.9345117354148249,
          0.9343020313141371,
          0.9338791423109389,
          0.9340289233561097,
          0.9350871267304898,
          0.9341708529112157,
          0.9343103754293338,
          0.9337619884643933,
          0.9338362672326099,
          0.9327388115205618,
          0.9318215234306548,
          0.9313918101141679,
          0.9312002442027355,
          0.9315122830517757
         ],
         "yaxis": "y8"
        },
        {
         "hovertemplate": "variable=features_4_leaf_8<br>Trees=%{x}<br>value=%{y}<extra></extra>",
         "legendgroup": "features_4_leaf_8",
         "line": {
          "color": "#ab63fa",
          "dash": "solid"
         },
         "marker": {
          "symbol": "circle"
         },
         "mode": "lines",
         "name": "features_4_leaf_8",
         "orientation": "v",
         "showlegend": true,
         "type": "scatter",
         "x": [
          1,
          3,
          5,
          7,
          9,
          11,
          13,
          15,
          17,
          19,
          21,
          23,
          25,
          27,
          29,
          31,
          33,
          35,
          37,
          39,
          41,
          43,
          45,
          47,
          49
         ],
         "xaxis": "x8",
         "y": [
          0.8276292356036296,
          0.8965395246697003,
          0.9124658339163598,
          0.9164468326227293,
          0.9193559251875548,
          0.9199415968424602,
          0.9258582684913019,
          0.9319314588188463,
          0.9340720630198254,
          0.9354026772881225,
          0.9365629907630314,
          0.9380161458777604,
          0.9391160298369228,
          0.9388520386919763,
          0.9383750635887445,
          0.9392613836788156,
          0.9394022520600345,
          0.9397774369607029,
          0.9387605586431702,
          0.938444959886619,
          0.9375358555044183,
          0.9371758241028452,
          0.9366458507081452,
          0.9363380343555547,
          0.9369219356065137
         ],
         "yaxis": "y8"
        },
        {
         "hovertemplate": "variable=features_5_leaf_8<br>Trees=%{x}<br>value=%{y}<extra></extra>",
         "legendgroup": "features_5_leaf_8",
         "line": {
          "color": "#FFA15A",
          "dash": "solid"
         },
         "marker": {
          "symbol": "circle"
         },
         "mode": "lines",
         "name": "features_5_leaf_8",
         "orientation": "v",
         "showlegend": true,
         "type": "scatter",
         "x": [
          1,
          3,
          5,
          7,
          9,
          11,
          13,
          15,
          17,
          19,
          21,
          23,
          25,
          27,
          29,
          31,
          33,
          35,
          37,
          39,
          41,
          43,
          45,
          47,
          49
         ],
         "xaxis": "x8",
         "y": [
          0.8457512790633152,
          0.8927264246587482,
          0.917170122866547,
          0.9294796779417437,
          0.9306347685373151,
          0.9328915733843735,
          0.9368988005598305,
          0.9413308193760527,
          0.941740885430716,
          0.9403949022337104,
          0.9423725866297128,
          0.9425247516514048,
          0.9434866952425309,
          0.9441262214742222,
          0.9441404006462987,
          0.944159219083704,
          0.9442985597805726,
          0.944883455794599,
          0.9453366496675141,
          0.9460732065735591,
          0.9453907017556855,
          0.9459461631375383,
          0.9462323032119657,
          0.9456869801864697,
          0.9460715918090296
         ],
         "yaxis": "y8"
        },
        {
         "hovertemplate": "variable=features_6_leaf_8<br>Trees=%{x}<br>value=%{y}<extra></extra>",
         "legendgroup": "features_6_leaf_8",
         "line": {
          "color": "#19d3f3",
          "dash": "solid"
         },
         "marker": {
          "symbol": "circle"
         },
         "mode": "lines",
         "name": "features_6_leaf_8",
         "orientation": "v",
         "showlegend": true,
         "type": "scatter",
         "x": [
          1,
          3,
          5,
          7,
          9,
          11,
          13,
          15,
          17,
          19,
          21,
          23,
          25,
          27,
          29,
          31,
          33,
          35,
          37,
          39,
          41,
          43,
          45,
          47,
          49
         ],
         "xaxis": "x8",
         "y": [
          0.8976123587528952,
          0.9312770994375452,
          0.94207833247024,
          0.9456738194179058,
          0.944670235403591,
          0.9444981532173109,
          0.9464493750011236,
          0.9467934049826964,
          0.9476530605542587,
          0.9487302399279536,
          0.9494284380015818,
          0.9500981159531026,
          0.9512104070711975,
          0.9506477748610079,
          0.9490905636468667,
          0.9496951490690329,
          0.9490296561029545,
          0.9494167669675037,
          0.9493274929014778,
          0.9491681224026189,
          0.9495788063602472,
          0.9488517990796993,
          0.9492495953034545,
          0.9487603806913232,
          0.9492017641352302
         ],
         "yaxis": "y8"
        },
        {
         "hovertemplate": "variable=features_7_leaf_8<br>Trees=%{x}<br>value=%{y}<extra></extra>",
         "legendgroup": "features_7_leaf_8",
         "line": {
          "color": "#FF6692",
          "dash": "solid"
         },
         "marker": {
          "symbol": "circle"
         },
         "mode": "lines",
         "name": "features_7_leaf_8",
         "orientation": "v",
         "showlegend": true,
         "type": "scatter",
         "x": [
          1,
          3,
          5,
          7,
          9,
          11,
          13,
          15,
          17,
          19,
          21,
          23,
          25,
          27,
          29,
          31,
          33,
          35,
          37,
          39,
          41,
          43,
          45,
          47,
          49
         ],
         "xaxis": "x8",
         "y": [
          0.911474928258287,
          0.9274400268465367,
          0.9426543054428501,
          0.9507886123290266,
          0.9503033967941731,
          0.9524326087744717,
          0.9526074738779654,
          0.9523535279981186,
          0.9521545075763772,
          0.9530343101843043,
          0.9531791852420856,
          0.9521787336735503,
          0.9522497966793118,
          0.9517559687014485,
          0.9516211746776128,
          0.9513654196738311,
          0.950549681800261,
          0.9508220934629152,
          0.9509279235636654,
          0.9511556270306958,
          0.9510820635662185,
          0.9515452649075989,
          0.9523005195479793,
          0.9519709526214157,
          0.9521886767515747
         ],
         "yaxis": "y8"
        },
        {
         "hovertemplate": "variable=features_8_leaf_8<br>Trees=%{x}<br>value=%{y}<extra></extra>",
         "legendgroup": "features_8_leaf_8",
         "line": {
          "color": "#B6E880",
          "dash": "solid"
         },
         "marker": {
          "symbol": "circle"
         },
         "mode": "lines",
         "name": "features_8_leaf_8",
         "orientation": "v",
         "showlegend": true,
         "type": "scatter",
         "x": [
          1,
          3,
          5,
          7,
          9,
          11,
          13,
          15,
          17,
          19,
          21,
          23,
          25,
          27,
          29,
          31,
          33,
          35,
          37,
          39,
          41,
          43,
          45,
          47,
          49
         ],
         "xaxis": "x8",
         "y": [
          0.8748639644072883,
          0.9332309757128229,
          0.9421979935808729,
          0.9498597221750507,
          0.9489844440647073,
          0.9521530852885203,
          0.952807636443046,
          0.9542818980669768,
          0.9540977657707431,
          0.9544801657000483,
          0.9553052561202822,
          0.9551425053981781,
          0.9556141840756316,
          0.9547674016498802,
          0.9553945243535162,
          0.9557648032907995,
          0.9552080202593443,
          0.9555545394706041,
          0.9550325571766105,
          0.9548225821973609,
          0.9551848774882614,
          0.9552223949257685,
          0.9553720205314129,
          0.9550106431685466,
          0.9553851290818054
         ],
         "yaxis": "y8"
        },
        {
         "hovertemplate": "variable=features_9_leaf_8<br>Trees=%{x}<br>value=%{y}<extra></extra>",
         "legendgroup": "features_9_leaf_8",
         "line": {
          "color": "#FF97FF",
          "dash": "solid"
         },
         "marker": {
          "symbol": "circle"
         },
         "mode": "lines",
         "name": "features_9_leaf_8",
         "orientation": "v",
         "showlegend": true,
         "type": "scatter",
         "x": [
          1,
          3,
          5,
          7,
          9,
          11,
          13,
          15,
          17,
          19,
          21,
          23,
          25,
          27,
          29,
          31,
          33,
          35,
          37,
          39,
          41,
          43,
          45,
          47,
          49
         ],
         "xaxis": "x8",
         "y": [
          0.9206827280853327,
          0.9416388623008887,
          0.948882884986134,
          0.9520989346715932,
          0.9538913110466101,
          0.9541086086378234,
          0.9556570120487382,
          0.9563033463974581,
          0.9560950156972282,
          0.9551907268506934,
          0.9560782341269671,
          0.9554343365614395,
          0.9565966228151834,
          0.957168055313973,
          0.9569959875441494,
          0.9563054929347518,
          0.9561113642499117,
          0.9567174894410405,
          0.9564884540613457,
          0.9557528541926888,
          0.9551878957410903,
          0.955372457024569,
          0.9550849416211691,
          0.9548367901680258,
          0.9554946825980515
         ],
         "yaxis": "y8"
        },
        {
         "hovertemplate": "variable=features_10_leaf_8<br>Trees=%{x}<br>value=%{y}<extra></extra>",
         "legendgroup": "features_10_leaf_8",
         "line": {
          "color": "#FECB52",
          "dash": "solid"
         },
         "marker": {
          "symbol": "circle"
         },
         "mode": "lines",
         "name": "features_10_leaf_8",
         "orientation": "v",
         "showlegend": true,
         "type": "scatter",
         "x": [
          1,
          3,
          5,
          7,
          9,
          11,
          13,
          15,
          17,
          19,
          21,
          23,
          25,
          27,
          29,
          31,
          33,
          35,
          37,
          39,
          41,
          43,
          45,
          47,
          49
         ],
         "xaxis": "x8",
         "y": [
          0.9116279049151629,
          0.9293445595338028,
          0.9396879020367684,
          0.9460651481552105,
          0.9479058596066336,
          0.9507935995971513,
          0.9541773629526864,
          0.9559449374242579,
          0.9554538964500591,
          0.9554741743688961,
          0.9562784303372661,
          0.9555914036325317,
          0.9563244463848253,
          0.9554040566527681,
          0.9557770713608763,
          0.9549824007632541,
          0.9544259855201785,
          0.9544451145698218,
          0.9544772734987295,
          0.9543200418044373,
          0.9540401671026417,
          0.9541747626550009,
          0.9548848497109965,
          0.9543980607341295,
          0.95502373011049
         ],
         "yaxis": "y8"
        },
        {
         "hovertemplate": "variable=features_1_leaf_9<br>Trees=%{x}<br>value=%{y}<extra></extra>",
         "legendgroup": "features_1_leaf_9",
         "line": {
          "color": "#636efa",
          "dash": "solid"
         },
         "marker": {
          "symbol": "circle"
         },
         "mode": "lines",
         "name": "features_1_leaf_9",
         "orientation": "v",
         "showlegend": true,
         "type": "scatter",
         "x": [
          1,
          3,
          5,
          7,
          9,
          11,
          13,
          15,
          17,
          19,
          21,
          23,
          25,
          27,
          29,
          31,
          33,
          35,
          37,
          39,
          41,
          43,
          45,
          47,
          49
         ],
         "xaxis": "x9",
         "y": [
          0.6789235644158765,
          0.8080357534365395,
          0.8465510054211016,
          0.8609832558767719,
          0.8631506951993879,
          0.8666369396820727,
          0.865193652451345,
          0.8653767309659596,
          0.8685219088382656,
          0.8763407873809914,
          0.8804006945105349,
          0.8792554155315646,
          0.8788810032234311,
          0.8800953987999348,
          0.877314779674055,
          0.8795966838490392,
          0.8778593994985796,
          0.8796112181726494,
          0.8800684619197614,
          0.8798115838407256,
          0.8790295868553162,
          0.8763213674335895,
          0.876292400745378,
          0.8758282457332047,
          0.8758086511255204
         ],
         "yaxis": "y9"
        },
        {
         "hovertemplate": "variable=features_2_leaf_9<br>Trees=%{x}<br>value=%{y}<extra></extra>",
         "legendgroup": "features_2_leaf_9",
         "line": {
          "color": "#EF553B",
          "dash": "solid"
         },
         "marker": {
          "symbol": "circle"
         },
         "mode": "lines",
         "name": "features_2_leaf_9",
         "orientation": "v",
         "showlegend": true,
         "type": "scatter",
         "x": [
          1,
          3,
          5,
          7,
          9,
          11,
          13,
          15,
          17,
          19,
          21,
          23,
          25,
          27,
          29,
          31,
          33,
          35,
          37,
          39,
          41,
          43,
          45,
          47,
          49
         ],
         "xaxis": "x9",
         "y": [
          0.817927686209255,
          0.8778298866607676,
          0.897041897014681,
          0.8999363765238304,
          0.9008801541548379,
          0.8971467864109611,
          0.9004600039071228,
          0.9044760441565032,
          0.9080400884411943,
          0.9126313304247411,
          0.9129776940014145,
          0.9142617803784322,
          0.9135685234013053,
          0.9130745939878502,
          0.9118173765552919,
          0.9121590466142726,
          0.9124934189775967,
          0.9147953951521883,
          0.9153702291225164,
          0.915815642691008,
          0.9145128196949674,
          0.9141408290740738,
          0.9145644924687311,
          0.9144338424779852,
          0.9140445855704984
         ],
         "yaxis": "y9"
        },
        {
         "hovertemplate": "variable=features_3_leaf_9<br>Trees=%{x}<br>value=%{y}<extra></extra>",
         "legendgroup": "features_3_leaf_9",
         "line": {
          "color": "#00cc96",
          "dash": "solid"
         },
         "marker": {
          "symbol": "circle"
         },
         "mode": "lines",
         "name": "features_3_leaf_9",
         "orientation": "v",
         "showlegend": true,
         "type": "scatter",
         "x": [
          1,
          3,
          5,
          7,
          9,
          11,
          13,
          15,
          17,
          19,
          21,
          23,
          25,
          27,
          29,
          31,
          33,
          35,
          37,
          39,
          41,
          43,
          45,
          47,
          49
         ],
         "xaxis": "x9",
         "y": [
          0.8204120170249146,
          0.892685671530705,
          0.9080371221736577,
          0.9149005998968859,
          0.915316350224502,
          0.9215475537338707,
          0.9259458449925297,
          0.9248884122505912,
          0.924935689883832,
          0.9287629999758762,
          0.9283687605493691,
          0.928733325217616,
          0.9287711831544779,
          0.9280090131656283,
          0.9283512883574246,
          0.9294805519417844,
          0.9291177380972575,
          0.9293164085667073,
          0.9297243437628302,
          0.9297925241845416,
          0.9290331928750399,
          0.9280339788830811,
          0.9274944293944355,
          0.9277774510641251,
          0.9281968278449668
         ],
         "yaxis": "y9"
        },
        {
         "hovertemplate": "variable=features_4_leaf_9<br>Trees=%{x}<br>value=%{y}<extra></extra>",
         "legendgroup": "features_4_leaf_9",
         "line": {
          "color": "#ab63fa",
          "dash": "solid"
         },
         "marker": {
          "symbol": "circle"
         },
         "mode": "lines",
         "name": "features_4_leaf_9",
         "orientation": "v",
         "showlegend": true,
         "type": "scatter",
         "x": [
          1,
          3,
          5,
          7,
          9,
          11,
          13,
          15,
          17,
          19,
          21,
          23,
          25,
          27,
          29,
          31,
          33,
          35,
          37,
          39,
          41,
          43,
          45,
          47,
          49
         ],
         "xaxis": "x9",
         "y": [
          0.8251641673170115,
          0.8865070416469061,
          0.9087507269627046,
          0.9158962142239806,
          0.9178244247964276,
          0.9183548614083165,
          0.924714310137713,
          0.9304838499098622,
          0.9319475800643516,
          0.931827756486598,
          0.933347722666866,
          0.9355983789312404,
          0.936982107558374,
          0.9362253117619386,
          0.9353003893258304,
          0.9359397728136022,
          0.9364434477301767,
          0.9370887279004494,
          0.9357943771202717,
          0.9353430324183893,
          0.9345665459354094,
          0.9343529265672942,
          0.933633862900636,
          0.9335904805612705,
          0.9343637569232923
         ],
         "yaxis": "y9"
        },
        {
         "hovertemplate": "variable=features_5_leaf_9<br>Trees=%{x}<br>value=%{y}<extra></extra>",
         "legendgroup": "features_5_leaf_9",
         "line": {
          "color": "#FFA15A",
          "dash": "solid"
         },
         "marker": {
          "symbol": "circle"
         },
         "mode": "lines",
         "name": "features_5_leaf_9",
         "orientation": "v",
         "showlegend": true,
         "type": "scatter",
         "x": [
          1,
          3,
          5,
          7,
          9,
          11,
          13,
          15,
          17,
          19,
          21,
          23,
          25,
          27,
          29,
          31,
          33,
          35,
          37,
          39,
          41,
          43,
          45,
          47,
          49
         ],
         "xaxis": "x9",
         "y": [
          0.8478068936237557,
          0.8935316865082633,
          0.9178945467810168,
          0.9289620935701656,
          0.9298858470755345,
          0.9313222952064366,
          0.9356123046854308,
          0.9389784295181727,
          0.9377260682918701,
          0.9375215451126337,
          0.9382965343038517,
          0.9381613332231865,
          0.9394291859507403,
          0.9388587522297953,
          0.9390206890564003,
          0.9384940979911383,
          0.9381425344998604,
          0.9391079292494503,
          0.9397360107581241,
          0.9408435566119253,
          0.9402734885611451,
          0.9408085843588434,
          0.9412836919471855,
          0.9403994958929351,
          0.9406055478600427
         ],
         "yaxis": "y9"
        },
        {
         "hovertemplate": "variable=features_6_leaf_9<br>Trees=%{x}<br>value=%{y}<extra></extra>",
         "legendgroup": "features_6_leaf_9",
         "line": {
          "color": "#19d3f3",
          "dash": "solid"
         },
         "marker": {
          "symbol": "circle"
         },
         "mode": "lines",
         "name": "features_6_leaf_9",
         "orientation": "v",
         "showlegend": true,
         "type": "scatter",
         "x": [
          1,
          3,
          5,
          7,
          9,
          11,
          13,
          15,
          17,
          19,
          21,
          23,
          25,
          27,
          29,
          31,
          33,
          35,
          37,
          39,
          41,
          43,
          45,
          47,
          49
         ],
         "xaxis": "x9",
         "y": [
          0.9025257208510888,
          0.9259965017533258,
          0.9362923470212392,
          0.9394589823182296,
          0.9409406374035335,
          0.9416480634629784,
          0.9426014491632259,
          0.9428096662164828,
          0.9432764900783344,
          0.9448716565496668,
          0.9464848073372781,
          0.9471103204445999,
          0.9482365143567518,
          0.9473073031553281,
          0.9456965164277449,
          0.9466409101219178,
          0.9458563772652564,
          0.9463113153568944,
          0.9460295990759068,
          0.9456345313695437,
          0.9455982942524542,
          0.9450358552448546,
          0.9457552298163068,
          0.945270082258588,
          0.9457729978607994
         ],
         "yaxis": "y9"
        },
        {
         "hovertemplate": "variable=features_7_leaf_9<br>Trees=%{x}<br>value=%{y}<extra></extra>",
         "legendgroup": "features_7_leaf_9",
         "line": {
          "color": "#FF6692",
          "dash": "solid"
         },
         "marker": {
          "symbol": "circle"
         },
         "mode": "lines",
         "name": "features_7_leaf_9",
         "orientation": "v",
         "showlegend": true,
         "type": "scatter",
         "x": [
          1,
          3,
          5,
          7,
          9,
          11,
          13,
          15,
          17,
          19,
          21,
          23,
          25,
          27,
          29,
          31,
          33,
          35,
          37,
          39,
          41,
          43,
          45,
          47,
          49
         ],
         "xaxis": "x9",
         "y": [
          0.9020758737263982,
          0.9273168876228357,
          0.9427850381139329,
          0.9511689523241629,
          0.9509483165550627,
          0.9532537043505167,
          0.9531173525464969,
          0.9524484825059341,
          0.9515862876324933,
          0.9522506626154424,
          0.9521901491702855,
          0.9508556523849846,
          0.9508164728582116,
          0.9504823049289914,
          0.9503229545679733,
          0.9502194128798281,
          0.9492322026092715,
          0.9492046477951905,
          0.9491870614354134,
          0.9490283436034399,
          0.9485625329656155,
          0.9491201665659169,
          0.9500166766462066,
          0.9497661131156836,
          0.9498055103484517
         ],
         "yaxis": "y9"
        },
        {
         "hovertemplate": "variable=features_8_leaf_9<br>Trees=%{x}<br>value=%{y}<extra></extra>",
         "legendgroup": "features_8_leaf_9",
         "line": {
          "color": "#B6E880",
          "dash": "solid"
         },
         "marker": {
          "symbol": "circle"
         },
         "mode": "lines",
         "name": "features_8_leaf_9",
         "orientation": "v",
         "showlegend": true,
         "type": "scatter",
         "x": [
          1,
          3,
          5,
          7,
          9,
          11,
          13,
          15,
          17,
          19,
          21,
          23,
          25,
          27,
          29,
          31,
          33,
          35,
          37,
          39,
          41,
          43,
          45,
          47,
          49
         ],
         "xaxis": "x9",
         "y": [
          0.8623275406448826,
          0.9340285007131021,
          0.940522840558692,
          0.948329132225758,
          0.9476897460982915,
          0.9489841184803998,
          0.9501645415736784,
          0.9514467569259374,
          0.9514552660674805,
          0.9515364178221626,
          0.9528015604844742,
          0.9525891427704396,
          0.9530869962911032,
          0.9520080495031035,
          0.952629176804279,
          0.9530536864198135,
          0.9524536183852795,
          0.9527525736737822,
          0.9520071454780077,
          0.9518646326357836,
          0.9524252991838076,
          0.9524760263682938,
          0.9526797237655658,
          0.9524052734199424,
          0.9528038537135481
         ],
         "yaxis": "y9"
        },
        {
         "hovertemplate": "variable=features_9_leaf_9<br>Trees=%{x}<br>value=%{y}<extra></extra>",
         "legendgroup": "features_9_leaf_9",
         "line": {
          "color": "#FF97FF",
          "dash": "solid"
         },
         "marker": {
          "symbol": "circle"
         },
         "mode": "lines",
         "name": "features_9_leaf_9",
         "orientation": "v",
         "showlegend": true,
         "type": "scatter",
         "x": [
          1,
          3,
          5,
          7,
          9,
          11,
          13,
          15,
          17,
          19,
          21,
          23,
          25,
          27,
          29,
          31,
          33,
          35,
          37,
          39,
          41,
          43,
          45,
          47,
          49
         ],
         "xaxis": "x9",
         "y": [
          0.923367102956832,
          0.9428510197564766,
          0.9492517743171573,
          0.9504879483605858,
          0.9518754202110206,
          0.9522300690325292,
          0.9531786817339325,
          0.9534658754353107,
          0.9532700604284811,
          0.9527041263167912,
          0.9537850373262241,
          0.95311058332878,
          0.9543502109255438,
          0.9546993163431085,
          0.9545934889979708,
          0.9534923883065319,
          0.9533755284824208,
          0.9541975412271151,
          0.9539818552380807,
          0.9532352200383267,
          0.9528266928409614,
          0.9528689994268612,
          0.9530342197340934,
          0.952775677902479,
          0.9533959375948567
         ],
         "yaxis": "y9"
        },
        {
         "hovertemplate": "variable=features_10_leaf_9<br>Trees=%{x}<br>value=%{y}<extra></extra>",
         "legendgroup": "features_10_leaf_9",
         "line": {
          "color": "#FECB52",
          "dash": "solid"
         },
         "marker": {
          "symbol": "circle"
         },
         "mode": "lines",
         "name": "features_10_leaf_9",
         "orientation": "v",
         "showlegend": true,
         "type": "scatter",
         "x": [
          1,
          3,
          5,
          7,
          9,
          11,
          13,
          15,
          17,
          19,
          21,
          23,
          25,
          27,
          29,
          31,
          33,
          35,
          37,
          39,
          41,
          43,
          45,
          47,
          49
         ],
         "xaxis": "x9",
         "y": [
          0.9154976239714381,
          0.9353855545964906,
          0.944227085190034,
          0.9479132768948906,
          0.9481823573455038,
          0.9512095412027156,
          0.954234189063804,
          0.9549405101967701,
          0.9539976165204456,
          0.9535897459718738,
          0.9542623314919076,
          0.9538181935633295,
          0.9548324296994843,
          0.9533651123704031,
          0.9538760626424031,
          0.9532600796723804,
          0.9531990954090948,
          0.9531440984542146,
          0.9532215168114517,
          0.9530041160955653,
          0.9526546135433069,
          0.9527529982007408,
          0.9535044217436545,
          0.9531943548185264,
          0.9535931594563307
         ],
         "yaxis": "y9"
        },
        {
         "hovertemplate": "variable=features_1_leaf_10<br>Trees=%{x}<br>value=%{y}<extra></extra>",
         "legendgroup": "features_1_leaf_10",
         "line": {
          "color": "#636efa",
          "dash": "solid"
         },
         "marker": {
          "symbol": "circle"
         },
         "mode": "lines",
         "name": "features_1_leaf_10",
         "orientation": "v",
         "showlegend": true,
         "type": "scatter",
         "x": [
          1,
          3,
          5,
          7,
          9,
          11,
          13,
          15,
          17,
          19,
          21,
          23,
          25,
          27,
          29,
          31,
          33,
          35,
          37,
          39,
          41,
          43,
          45,
          47,
          49
         ],
         "xaxis": "x10",
         "y": [
          0.6816733286542839,
          0.8075270676982946,
          0.843249650949196,
          0.854539490871715,
          0.8583785187542272,
          0.8596911346879029,
          0.8589433547995574,
          0.8597579347028104,
          0.8607988749038121,
          0.8684749356746542,
          0.8737710457785424,
          0.8729829604426639,
          0.8714469952512344,
          0.8717279712879626,
          0.8679945677845382,
          0.8697270443509912,
          0.8677802742368137,
          0.8694918303905098,
          0.8694276056843154,
          0.8691505608689178,
          0.8687883678241469,
          0.865970623269454,
          0.8661521694481913,
          0.8658259497789841,
          0.8663181482186897
         ],
         "yaxis": "y10"
        },
        {
         "hovertemplate": "variable=features_2_leaf_10<br>Trees=%{x}<br>value=%{y}<extra></extra>",
         "legendgroup": "features_2_leaf_10",
         "line": {
          "color": "#EF553B",
          "dash": "solid"
         },
         "marker": {
          "symbol": "circle"
         },
         "mode": "lines",
         "name": "features_2_leaf_10",
         "orientation": "v",
         "showlegend": true,
         "type": "scatter",
         "x": [
          1,
          3,
          5,
          7,
          9,
          11,
          13,
          15,
          17,
          19,
          21,
          23,
          25,
          27,
          29,
          31,
          33,
          35,
          37,
          39,
          41,
          43,
          45,
          47,
          49
         ],
         "xaxis": "x10",
         "y": [
          0.8024642667906443,
          0.8759030858528666,
          0.8932989952535456,
          0.8947112641313432,
          0.8956726164793716,
          0.8897848551836708,
          0.8938213368252377,
          0.898534892532938,
          0.9021290982696867,
          0.9074497503081481,
          0.9076600608658655,
          0.9093245552500019,
          0.9092811992143182,
          0.9095906115784331,
          0.9069224511988503,
          0.9068859008782368,
          0.9079854344754267,
          0.9101826839587732,
          0.9102674469380186,
          0.91039481092067,
          0.909100679430769,
          0.9088136027082347,
          0.909174535606506,
          0.9090866256392334,
          0.9086390760114249
         ],
         "yaxis": "y10"
        },
        {
         "hovertemplate": "variable=features_3_leaf_10<br>Trees=%{x}<br>value=%{y}<extra></extra>",
         "legendgroup": "features_3_leaf_10",
         "line": {
          "color": "#00cc96",
          "dash": "solid"
         },
         "marker": {
          "symbol": "circle"
         },
         "mode": "lines",
         "name": "features_3_leaf_10",
         "orientation": "v",
         "showlegend": true,
         "type": "scatter",
         "x": [
          1,
          3,
          5,
          7,
          9,
          11,
          13,
          15,
          17,
          19,
          21,
          23,
          25,
          27,
          29,
          31,
          33,
          35,
          37,
          39,
          41,
          43,
          45,
          47,
          49
         ],
         "xaxis": "x10",
         "y": [
          0.8140108247627044,
          0.8890083365885426,
          0.9042456796610974,
          0.909372170221804,
          0.9078306357333078,
          0.9146087812248332,
          0.9194751838591786,
          0.9181590835351535,
          0.9177648321587913,
          0.922439382035978,
          0.9222124249890282,
          0.9232660903967849,
          0.9234105022571015,
          0.9219644454908579,
          0.9224603921858957,
          0.9240819843038597,
          0.9237773644601281,
          0.9241880019759969,
          0.9246824717116716,
          0.9246715861091263,
          0.9236484724908808,
          0.9225254493426321,
          0.9225161097751814,
          0.9231629684940408,
          0.9237675572421006
         ],
         "yaxis": "y10"
        },
        {
         "hovertemplate": "variable=features_4_leaf_10<br>Trees=%{x}<br>value=%{y}<extra></extra>",
         "legendgroup": "features_4_leaf_10",
         "line": {
          "color": "#ab63fa",
          "dash": "solid"
         },
         "marker": {
          "symbol": "circle"
         },
         "mode": "lines",
         "name": "features_4_leaf_10",
         "orientation": "v",
         "showlegend": true,
         "type": "scatter",
         "x": [
          1,
          3,
          5,
          7,
          9,
          11,
          13,
          15,
          17,
          19,
          21,
          23,
          25,
          27,
          29,
          31,
          33,
          35,
          37,
          39,
          41,
          43,
          45,
          47,
          49
         ],
         "xaxis": "x10",
         "y": [
          0.8226379084977617,
          0.8799103612623925,
          0.9063667608851077,
          0.912612860700442,
          0.9147605783370356,
          0.9171421907036835,
          0.9224219185272696,
          0.9277290787459957,
          0.9290713633388641,
          0.9284466687976274,
          0.9296223023572671,
          0.9312618330147091,
          0.9329949819213013,
          0.9314304544215931,
          0.9307318985144557,
          0.9313811164629341,
          0.9325690691739028,
          0.9332627323769351,
          0.9319373681466188,
          0.931492106511621,
          0.9304532716481992,
          0.9302914775127604,
          0.9298983054297467,
          0.9293451124509622,
          0.9301489337534363
         ],
         "yaxis": "y10"
        },
        {
         "hovertemplate": "variable=features_5_leaf_10<br>Trees=%{x}<br>value=%{y}<extra></extra>",
         "legendgroup": "features_5_leaf_10",
         "line": {
          "color": "#FFA15A",
          "dash": "solid"
         },
         "marker": {
          "symbol": "circle"
         },
         "mode": "lines",
         "name": "features_5_leaf_10",
         "orientation": "v",
         "showlegend": true,
         "type": "scatter",
         "x": [
          1,
          3,
          5,
          7,
          9,
          11,
          13,
          15,
          17,
          19,
          21,
          23,
          25,
          27,
          29,
          31,
          33,
          35,
          37,
          39,
          41,
          43,
          45,
          47,
          49
         ],
         "xaxis": "x10",
         "y": [
          0.8434705162717648,
          0.8884894608094525,
          0.9160890113388709,
          0.9264270601458836,
          0.9284929301039693,
          0.9298797827890961,
          0.9340586648007294,
          0.9375705980223825,
          0.9369169441599323,
          0.9366082316359018,
          0.9371936718995941,
          0.9374465993706274,
          0.9385070064006559,
          0.9375984277531746,
          0.9382488035763034,
          0.9378375856355834,
          0.9373956894748817,
          0.9379360036002862,
          0.9383204591752854,
          0.9396435138811998,
          0.9385269751182458,
          0.9393366750273093,
          0.939952292860258,
          0.9391338223910672,
          0.9393650479344012
         ],
         "yaxis": "y10"
        },
        {
         "hovertemplate": "variable=features_6_leaf_10<br>Trees=%{x}<br>value=%{y}<extra></extra>",
         "legendgroup": "features_6_leaf_10",
         "line": {
          "color": "#19d3f3",
          "dash": "solid"
         },
         "marker": {
          "symbol": "circle"
         },
         "mode": "lines",
         "name": "features_6_leaf_10",
         "orientation": "v",
         "showlegend": true,
         "type": "scatter",
         "x": [
          1,
          3,
          5,
          7,
          9,
          11,
          13,
          15,
          17,
          19,
          21,
          23,
          25,
          27,
          29,
          31,
          33,
          35,
          37,
          39,
          41,
          43,
          45,
          47,
          49
         ],
         "xaxis": "x10",
         "y": [
          0.8882432788105682,
          0.9213937987845429,
          0.9312021328904884,
          0.9352517884939534,
          0.937189056155962,
          0.9382542740053671,
          0.9394901732776691,
          0.9404188592477581,
          0.9401370944792881,
          0.9412071584886927,
          0.9428287073384588,
          0.943277609076994,
          0.9441653326232144,
          0.9432735326424524,
          0.9414726234772232,
          0.9423307190911789,
          0.9419295715465633,
          0.9423846043114159,
          0.9421489584044862,
          0.9417602308479246,
          0.9415977429569997,
          0.9410399912474302,
          0.9417271175735934,
          0.9415504648920864,
          0.9418409738425544
         ],
         "yaxis": "y10"
        },
        {
         "hovertemplate": "variable=features_7_leaf_10<br>Trees=%{x}<br>value=%{y}<extra></extra>",
         "legendgroup": "features_7_leaf_10",
         "line": {
          "color": "#FF6692",
          "dash": "solid"
         },
         "marker": {
          "symbol": "circle"
         },
         "mode": "lines",
         "name": "features_7_leaf_10",
         "orientation": "v",
         "showlegend": true,
         "type": "scatter",
         "x": [
          1,
          3,
          5,
          7,
          9,
          11,
          13,
          15,
          17,
          19,
          21,
          23,
          25,
          27,
          29,
          31,
          33,
          35,
          37,
          39,
          41,
          43,
          45,
          47,
          49
         ],
         "xaxis": "x10",
         "y": [
          0.8948203768977703,
          0.9185215541941227,
          0.9353864876101747,
          0.9457696015166597,
          0.9469011429885803,
          0.9517273662537432,
          0.9517953665386649,
          0.9518882987937479,
          0.9516626851711788,
          0.9524038743053609,
          0.9524734514078439,
          0.950971810553322,
          0.9512498895108958,
          0.9503242707854638,
          0.9500356872801554,
          0.9497175377721959,
          0.9486828194509076,
          0.948717821605503,
          0.94846359982967,
          0.9481462625320509,
          0.9475476174795435,
          0.9480660776939354,
          0.9487481147941814,
          0.9484892623704205,
          0.94827817093788
         ],
         "yaxis": "y10"
        },
        {
         "hovertemplate": "variable=features_8_leaf_10<br>Trees=%{x}<br>value=%{y}<extra></extra>",
         "legendgroup": "features_8_leaf_10",
         "line": {
          "color": "#B6E880",
          "dash": "solid"
         },
         "marker": {
          "symbol": "circle"
         },
         "mode": "lines",
         "name": "features_8_leaf_10",
         "orientation": "v",
         "showlegend": true,
         "type": "scatter",
         "x": [
          1,
          3,
          5,
          7,
          9,
          11,
          13,
          15,
          17,
          19,
          21,
          23,
          25,
          27,
          29,
          31,
          33,
          35,
          37,
          39,
          41,
          43,
          45,
          47,
          49
         ],
         "xaxis": "x10",
         "y": [
          0.8594806730719625,
          0.9342765703072452,
          0.941227755251953,
          0.948671018419924,
          0.948021109405321,
          0.9494708279506687,
          0.9504900794036988,
          0.9517003475358745,
          0.95144197469881,
          0.9513435926611932,
          0.9520413646832269,
          0.9511940645211971,
          0.9516240932731593,
          0.9505405663344885,
          0.9511650522342808,
          0.9517099463018,
          0.9510028009674232,
          0.9513213018183262,
          0.9502842185327458,
          0.9497770159351573,
          0.9504828870453149,
          0.9505717387094801,
          0.9507503461550322,
          0.9502572194447734,
          0.9506236374853998
         ],
         "yaxis": "y10"
        },
        {
         "hovertemplate": "variable=features_9_leaf_10<br>Trees=%{x}<br>value=%{y}<extra></extra>",
         "legendgroup": "features_9_leaf_10",
         "line": {
          "color": "#FF97FF",
          "dash": "solid"
         },
         "marker": {
          "symbol": "circle"
         },
         "mode": "lines",
         "name": "features_9_leaf_10",
         "orientation": "v",
         "showlegend": true,
         "type": "scatter",
         "x": [
          1,
          3,
          5,
          7,
          9,
          11,
          13,
          15,
          17,
          19,
          21,
          23,
          25,
          27,
          29,
          31,
          33,
          35,
          37,
          39,
          41,
          43,
          45,
          47,
          49
         ],
         "xaxis": "x10",
         "y": [
          0.9116312382362353,
          0.9401402300470874,
          0.9450575273867553,
          0.9479946258363231,
          0.9494178797669519,
          0.9500198584766325,
          0.9512825082735068,
          0.9514941081033141,
          0.9509545444636194,
          0.9504045047295617,
          0.9517573395419794,
          0.9506482289368485,
          0.9519202258130504,
          0.9519621937676487,
          0.9515124560060844,
          0.9502956779218359,
          0.9504876308544501,
          0.9516269201635167,
          0.9517092287317366,
          0.9506197887548055,
          0.9500328362978101,
          0.9501875865130172,
          0.9505010841175796,
          0.9502269746784696,
          0.9509985015536742
         ],
         "yaxis": "y10"
        },
        {
         "hovertemplate": "variable=features_10_leaf_10<br>Trees=%{x}<br>value=%{y}<extra></extra>",
         "legendgroup": "features_10_leaf_10",
         "line": {
          "color": "#FECB52",
          "dash": "solid"
         },
         "marker": {
          "symbol": "circle"
         },
         "mode": "lines",
         "name": "features_10_leaf_10",
         "orientation": "v",
         "showlegend": true,
         "type": "scatter",
         "x": [
          1,
          3,
          5,
          7,
          9,
          11,
          13,
          15,
          17,
          19,
          21,
          23,
          25,
          27,
          29,
          31,
          33,
          35,
          37,
          39,
          41,
          43,
          45,
          47,
          49
         ],
         "xaxis": "x10",
         "y": [
          0.8981880385348926,
          0.9333860141999516,
          0.9419026212098818,
          0.946743214589717,
          0.9469171557023198,
          0.9500948310005214,
          0.9521838182095863,
          0.9529471816060269,
          0.952391498299963,
          0.9524814569364548,
          0.9537408175833084,
          0.9531164023449579,
          0.9538111190790012,
          0.9521346016522978,
          0.9527851386815673,
          0.9522166487960912,
          0.951859771964292,
          0.9518700157661591,
          0.9520841784103743,
          0.9514891141868326,
          0.9513764612191938,
          0.9515608890010178,
          0.9523040911229833,
          0.9517745984867292,
          0.9522295806854497
         ],
         "yaxis": "y10"
        }
       ],
       "layout": {
        "annotations": [
         {
          "font": {
           "size": 16
          },
          "showarrow": false,
          "text": "min_samples_leaf=1",
          "x": 0.5,
          "xanchor": "center",
          "xref": "paper",
          "y": 1,
          "yanchor": "bottom",
          "yref": "paper"
         },
         {
          "font": {
           "size": 16
          },
          "showarrow": false,
          "text": "min_samples_leaf=2",
          "x": 0.5,
          "xanchor": "center",
          "xref": "paper",
          "y": 0.8950000000000001,
          "yanchor": "bottom",
          "yref": "paper"
         },
         {
          "font": {
           "size": 16
          },
          "showarrow": false,
          "text": "min_samples_leaf=3",
          "x": 0.5,
          "xanchor": "center",
          "xref": "paper",
          "y": 0.7900000000000001,
          "yanchor": "bottom",
          "yref": "paper"
         },
         {
          "font": {
           "size": 16
          },
          "showarrow": false,
          "text": "min_samples_leaf=4",
          "x": 0.5,
          "xanchor": "center",
          "xref": "paper",
          "y": 0.6850000000000002,
          "yanchor": "bottom",
          "yref": "paper"
         },
         {
          "font": {
           "size": 16
          },
          "showarrow": false,
          "text": "min_samples_leaf=5",
          "x": 0.5,
          "xanchor": "center",
          "xref": "paper",
          "y": 0.5800000000000001,
          "yanchor": "bottom",
          "yref": "paper"
         },
         {
          "font": {
           "size": 16
          },
          "showarrow": false,
          "text": "min_samples_leaf=6",
          "x": 0.5,
          "xanchor": "center",
          "xref": "paper",
          "y": 0.47500000000000003,
          "yanchor": "bottom",
          "yref": "paper"
         },
         {
          "font": {
           "size": 16
          },
          "showarrow": false,
          "text": "min_samples_leaf=7",
          "x": 0.5,
          "xanchor": "center",
          "xref": "paper",
          "y": 0.37000000000000005,
          "yanchor": "bottom",
          "yref": "paper"
         },
         {
          "font": {
           "size": 16
          },
          "showarrow": false,
          "text": "min_samples_leaf=8",
          "x": 0.5,
          "xanchor": "center",
          "xref": "paper",
          "y": 0.265,
          "yanchor": "bottom",
          "yref": "paper"
         },
         {
          "font": {
           "size": 16
          },
          "showarrow": false,
          "text": "min_samples_leaf=9",
          "x": 0.5,
          "xanchor": "center",
          "xref": "paper",
          "y": 0.16000000000000003,
          "yanchor": "bottom",
          "yref": "paper"
         },
         {
          "font": {
           "size": 16
          },
          "showarrow": false,
          "text": "min_samples_leaf=10",
          "x": 0.5,
          "xanchor": "center",
          "xref": "paper",
          "y": 0.05500000000000001,
          "yanchor": "bottom",
          "yref": "paper"
         }
        ],
        "height": 2500,
        "template": {
         "data": {
          "bar": [
           {
            "error_x": {
             "color": "#2a3f5f"
            },
            "error_y": {
             "color": "#2a3f5f"
            },
            "marker": {
             "line": {
              "color": "#E5ECF6",
              "width": 0.5
             },
             "pattern": {
              "fillmode": "overlay",
              "size": 10,
              "solidity": 0.2
             }
            },
            "type": "bar"
           }
          ],
          "barpolar": [
           {
            "marker": {
             "line": {
              "color": "#E5ECF6",
              "width": 0.5
             },
             "pattern": {
              "fillmode": "overlay",
              "size": 10,
              "solidity": 0.2
             }
            },
            "type": "barpolar"
           }
          ],
          "carpet": [
           {
            "aaxis": {
             "endlinecolor": "#2a3f5f",
             "gridcolor": "white",
             "linecolor": "white",
             "minorgridcolor": "white",
             "startlinecolor": "#2a3f5f"
            },
            "baxis": {
             "endlinecolor": "#2a3f5f",
             "gridcolor": "white",
             "linecolor": "white",
             "minorgridcolor": "white",
             "startlinecolor": "#2a3f5f"
            },
            "type": "carpet"
           }
          ],
          "choropleth": [
           {
            "colorbar": {
             "outlinewidth": 0,
             "ticks": ""
            },
            "type": "choropleth"
           }
          ],
          "contour": [
           {
            "colorbar": {
             "outlinewidth": 0,
             "ticks": ""
            },
            "colorscale": [
             [
              0,
              "#0d0887"
             ],
             [
              0.1111111111111111,
              "#46039f"
             ],
             [
              0.2222222222222222,
              "#7201a8"
             ],
             [
              0.3333333333333333,
              "#9c179e"
             ],
             [
              0.4444444444444444,
              "#bd3786"
             ],
             [
              0.5555555555555556,
              "#d8576b"
             ],
             [
              0.6666666666666666,
              "#ed7953"
             ],
             [
              0.7777777777777778,
              "#fb9f3a"
             ],
             [
              0.8888888888888888,
              "#fdca26"
             ],
             [
              1,
              "#f0f921"
             ]
            ],
            "type": "contour"
           }
          ],
          "contourcarpet": [
           {
            "colorbar": {
             "outlinewidth": 0,
             "ticks": ""
            },
            "type": "contourcarpet"
           }
          ],
          "heatmap": [
           {
            "colorbar": {
             "outlinewidth": 0,
             "ticks": ""
            },
            "colorscale": [
             [
              0,
              "#0d0887"
             ],
             [
              0.1111111111111111,
              "#46039f"
             ],
             [
              0.2222222222222222,
              "#7201a8"
             ],
             [
              0.3333333333333333,
              "#9c179e"
             ],
             [
              0.4444444444444444,
              "#bd3786"
             ],
             [
              0.5555555555555556,
              "#d8576b"
             ],
             [
              0.6666666666666666,
              "#ed7953"
             ],
             [
              0.7777777777777778,
              "#fb9f3a"
             ],
             [
              0.8888888888888888,
              "#fdca26"
             ],
             [
              1,
              "#f0f921"
             ]
            ],
            "type": "heatmap"
           }
          ],
          "heatmapgl": [
           {
            "colorbar": {
             "outlinewidth": 0,
             "ticks": ""
            },
            "colorscale": [
             [
              0,
              "#0d0887"
             ],
             [
              0.1111111111111111,
              "#46039f"
             ],
             [
              0.2222222222222222,
              "#7201a8"
             ],
             [
              0.3333333333333333,
              "#9c179e"
             ],
             [
              0.4444444444444444,
              "#bd3786"
             ],
             [
              0.5555555555555556,
              "#d8576b"
             ],
             [
              0.6666666666666666,
              "#ed7953"
             ],
             [
              0.7777777777777778,
              "#fb9f3a"
             ],
             [
              0.8888888888888888,
              "#fdca26"
             ],
             [
              1,
              "#f0f921"
             ]
            ],
            "type": "heatmapgl"
           }
          ],
          "histogram": [
           {
            "marker": {
             "pattern": {
              "fillmode": "overlay",
              "size": 10,
              "solidity": 0.2
             }
            },
            "type": "histogram"
           }
          ],
          "histogram2d": [
           {
            "colorbar": {
             "outlinewidth": 0,
             "ticks": ""
            },
            "colorscale": [
             [
              0,
              "#0d0887"
             ],
             [
              0.1111111111111111,
              "#46039f"
             ],
             [
              0.2222222222222222,
              "#7201a8"
             ],
             [
              0.3333333333333333,
              "#9c179e"
             ],
             [
              0.4444444444444444,
              "#bd3786"
             ],
             [
              0.5555555555555556,
              "#d8576b"
             ],
             [
              0.6666666666666666,
              "#ed7953"
             ],
             [
              0.7777777777777778,
              "#fb9f3a"
             ],
             [
              0.8888888888888888,
              "#fdca26"
             ],
             [
              1,
              "#f0f921"
             ]
            ],
            "type": "histogram2d"
           }
          ],
          "histogram2dcontour": [
           {
            "colorbar": {
             "outlinewidth": 0,
             "ticks": ""
            },
            "colorscale": [
             [
              0,
              "#0d0887"
             ],
             [
              0.1111111111111111,
              "#46039f"
             ],
             [
              0.2222222222222222,
              "#7201a8"
             ],
             [
              0.3333333333333333,
              "#9c179e"
             ],
             [
              0.4444444444444444,
              "#bd3786"
             ],
             [
              0.5555555555555556,
              "#d8576b"
             ],
             [
              0.6666666666666666,
              "#ed7953"
             ],
             [
              0.7777777777777778,
              "#fb9f3a"
             ],
             [
              0.8888888888888888,
              "#fdca26"
             ],
             [
              1,
              "#f0f921"
             ]
            ],
            "type": "histogram2dcontour"
           }
          ],
          "mesh3d": [
           {
            "colorbar": {
             "outlinewidth": 0,
             "ticks": ""
            },
            "type": "mesh3d"
           }
          ],
          "parcoords": [
           {
            "line": {
             "colorbar": {
              "outlinewidth": 0,
              "ticks": ""
             }
            },
            "type": "parcoords"
           }
          ],
          "pie": [
           {
            "automargin": true,
            "type": "pie"
           }
          ],
          "scatter": [
           {
            "fillpattern": {
             "fillmode": "overlay",
             "size": 10,
             "solidity": 0.2
            },
            "type": "scatter"
           }
          ],
          "scatter3d": [
           {
            "line": {
             "colorbar": {
              "outlinewidth": 0,
              "ticks": ""
             }
            },
            "marker": {
             "colorbar": {
              "outlinewidth": 0,
              "ticks": ""
             }
            },
            "type": "scatter3d"
           }
          ],
          "scattercarpet": [
           {
            "marker": {
             "colorbar": {
              "outlinewidth": 0,
              "ticks": ""
             }
            },
            "type": "scattercarpet"
           }
          ],
          "scattergeo": [
           {
            "marker": {
             "colorbar": {
              "outlinewidth": 0,
              "ticks": ""
             }
            },
            "type": "scattergeo"
           }
          ],
          "scattergl": [
           {
            "marker": {
             "colorbar": {
              "outlinewidth": 0,
              "ticks": ""
             }
            },
            "type": "scattergl"
           }
          ],
          "scattermapbox": [
           {
            "marker": {
             "colorbar": {
              "outlinewidth": 0,
              "ticks": ""
             }
            },
            "type": "scattermapbox"
           }
          ],
          "scatterpolar": [
           {
            "marker": {
             "colorbar": {
              "outlinewidth": 0,
              "ticks": ""
             }
            },
            "type": "scatterpolar"
           }
          ],
          "scatterpolargl": [
           {
            "marker": {
             "colorbar": {
              "outlinewidth": 0,
              "ticks": ""
             }
            },
            "type": "scatterpolargl"
           }
          ],
          "scatterternary": [
           {
            "marker": {
             "colorbar": {
              "outlinewidth": 0,
              "ticks": ""
             }
            },
            "type": "scatterternary"
           }
          ],
          "surface": [
           {
            "colorbar": {
             "outlinewidth": 0,
             "ticks": ""
            },
            "colorscale": [
             [
              0,
              "#0d0887"
             ],
             [
              0.1111111111111111,
              "#46039f"
             ],
             [
              0.2222222222222222,
              "#7201a8"
             ],
             [
              0.3333333333333333,
              "#9c179e"
             ],
             [
              0.4444444444444444,
              "#bd3786"
             ],
             [
              0.5555555555555556,
              "#d8576b"
             ],
             [
              0.6666666666666666,
              "#ed7953"
             ],
             [
              0.7777777777777778,
              "#fb9f3a"
             ],
             [
              0.8888888888888888,
              "#fdca26"
             ],
             [
              1,
              "#f0f921"
             ]
            ],
            "type": "surface"
           }
          ],
          "table": [
           {
            "cells": {
             "fill": {
              "color": "#EBF0F8"
             },
             "line": {
              "color": "white"
             }
            },
            "header": {
             "fill": {
              "color": "#C8D4E3"
             },
             "line": {
              "color": "white"
             }
            },
            "type": "table"
           }
          ]
         },
         "layout": {
          "annotationdefaults": {
           "arrowcolor": "#2a3f5f",
           "arrowhead": 0,
           "arrowwidth": 1
          },
          "autotypenumbers": "strict",
          "coloraxis": {
           "colorbar": {
            "outlinewidth": 0,
            "ticks": ""
           }
          },
          "colorscale": {
           "diverging": [
            [
             0,
             "#8e0152"
            ],
            [
             0.1,
             "#c51b7d"
            ],
            [
             0.2,
             "#de77ae"
            ],
            [
             0.3,
             "#f1b6da"
            ],
            [
             0.4,
             "#fde0ef"
            ],
            [
             0.5,
             "#f7f7f7"
            ],
            [
             0.6,
             "#e6f5d0"
            ],
            [
             0.7,
             "#b8e186"
            ],
            [
             0.8,
             "#7fbc41"
            ],
            [
             0.9,
             "#4d9221"
            ],
            [
             1,
             "#276419"
            ]
           ],
           "sequential": [
            [
             0,
             "#0d0887"
            ],
            [
             0.1111111111111111,
             "#46039f"
            ],
            [
             0.2222222222222222,
             "#7201a8"
            ],
            [
             0.3333333333333333,
             "#9c179e"
            ],
            [
             0.4444444444444444,
             "#bd3786"
            ],
            [
             0.5555555555555556,
             "#d8576b"
            ],
            [
             0.6666666666666666,
             "#ed7953"
            ],
            [
             0.7777777777777778,
             "#fb9f3a"
            ],
            [
             0.8888888888888888,
             "#fdca26"
            ],
            [
             1,
             "#f0f921"
            ]
           ],
           "sequentialminus": [
            [
             0,
             "#0d0887"
            ],
            [
             0.1111111111111111,
             "#46039f"
            ],
            [
             0.2222222222222222,
             "#7201a8"
            ],
            [
             0.3333333333333333,
             "#9c179e"
            ],
            [
             0.4444444444444444,
             "#bd3786"
            ],
            [
             0.5555555555555556,
             "#d8576b"
            ],
            [
             0.6666666666666666,
             "#ed7953"
            ],
            [
             0.7777777777777778,
             "#fb9f3a"
            ],
            [
             0.8888888888888888,
             "#fdca26"
            ],
            [
             1,
             "#f0f921"
            ]
           ]
          },
          "colorway": [
           "#636efa",
           "#EF553B",
           "#00cc96",
           "#ab63fa",
           "#FFA15A",
           "#19d3f3",
           "#FF6692",
           "#B6E880",
           "#FF97FF",
           "#FECB52"
          ],
          "font": {
           "color": "#2a3f5f"
          },
          "geo": {
           "bgcolor": "white",
           "lakecolor": "white",
           "landcolor": "#E5ECF6",
           "showlakes": true,
           "showland": true,
           "subunitcolor": "white"
          },
          "hoverlabel": {
           "align": "left"
          },
          "hovermode": "closest",
          "mapbox": {
           "style": "light"
          },
          "paper_bgcolor": "white",
          "plot_bgcolor": "#E5ECF6",
          "polar": {
           "angularaxis": {
            "gridcolor": "white",
            "linecolor": "white",
            "ticks": ""
           },
           "bgcolor": "#E5ECF6",
           "radialaxis": {
            "gridcolor": "white",
            "linecolor": "white",
            "ticks": ""
           }
          },
          "scene": {
           "xaxis": {
            "backgroundcolor": "#E5ECF6",
            "gridcolor": "white",
            "gridwidth": 2,
            "linecolor": "white",
            "showbackground": true,
            "ticks": "",
            "zerolinecolor": "white"
           },
           "yaxis": {
            "backgroundcolor": "#E5ECF6",
            "gridcolor": "white",
            "gridwidth": 2,
            "linecolor": "white",
            "showbackground": true,
            "ticks": "",
            "zerolinecolor": "white"
           },
           "zaxis": {
            "backgroundcolor": "#E5ECF6",
            "gridcolor": "white",
            "gridwidth": 2,
            "linecolor": "white",
            "showbackground": true,
            "ticks": "",
            "zerolinecolor": "white"
           }
          },
          "shapedefaults": {
           "line": {
            "color": "#2a3f5f"
           }
          },
          "ternary": {
           "aaxis": {
            "gridcolor": "white",
            "linecolor": "white",
            "ticks": ""
           },
           "baxis": {
            "gridcolor": "white",
            "linecolor": "white",
            "ticks": ""
           },
           "bgcolor": "#E5ECF6",
           "caxis": {
            "gridcolor": "white",
            "linecolor": "white",
            "ticks": ""
           }
          },
          "title": {
           "x": 0.05
          },
          "xaxis": {
           "automargin": true,
           "gridcolor": "white",
           "linecolor": "white",
           "ticks": "",
           "title": {
            "standoff": 15
           },
           "zerolinecolor": "white",
           "zerolinewidth": 2
          },
          "yaxis": {
           "automargin": true,
           "gridcolor": "white",
           "linecolor": "white",
           "ticks": "",
           "title": {
            "standoff": 15
           },
           "zerolinecolor": "white",
           "zerolinewidth": 2
          }
         }
        },
        "title": {
         "text": "Random Forest Performance"
        },
        "xaxis": {
         "anchor": "y",
         "domain": [
          0,
          1
         ],
         "title": {
          "text": "# Trees"
         }
        },
        "xaxis10": {
         "anchor": "y10",
         "domain": [
          0,
          1
         ],
         "title": {
          "text": "# Trees"
         }
        },
        "xaxis2": {
         "anchor": "y2",
         "domain": [
          0,
          1
         ],
         "title": {
          "text": "# Trees"
         }
        },
        "xaxis3": {
         "anchor": "y3",
         "domain": [
          0,
          1
         ],
         "title": {
          "text": "# Trees"
         }
        },
        "xaxis4": {
         "anchor": "y4",
         "domain": [
          0,
          1
         ],
         "title": {
          "text": "# Trees"
         }
        },
        "xaxis5": {
         "anchor": "y5",
         "domain": [
          0,
          1
         ],
         "title": {
          "text": "# Trees"
         }
        },
        "xaxis6": {
         "anchor": "y6",
         "domain": [
          0,
          1
         ],
         "title": {
          "text": "# Trees"
         }
        },
        "xaxis7": {
         "anchor": "y7",
         "domain": [
          0,
          1
         ],
         "title": {
          "text": "# Trees"
         }
        },
        "xaxis8": {
         "anchor": "y8",
         "domain": [
          0,
          1
         ],
         "title": {
          "text": "# Trees"
         }
        },
        "xaxis9": {
         "anchor": "y9",
         "domain": [
          0,
          1
         ],
         "title": {
          "text": "# Trees"
         }
        },
        "yaxis": {
         "anchor": "x",
         "domain": [
          0.9450000000000001,
          1
         ]
        },
        "yaxis10": {
         "anchor": "x10",
         "domain": [
          0,
          0.05500000000000001
         ]
        },
        "yaxis2": {
         "anchor": "x2",
         "domain": [
          0.8400000000000001,
          0.8950000000000001
         ]
        },
        "yaxis3": {
         "anchor": "x3",
         "domain": [
          0.7350000000000001,
          0.7900000000000001
         ]
        },
        "yaxis4": {
         "anchor": "x4",
         "domain": [
          0.6300000000000001,
          0.6850000000000002
         ]
        },
        "yaxis5": {
         "anchor": "x5",
         "domain": [
          0.525,
          0.5800000000000001
         ]
        },
        "yaxis6": {
         "anchor": "x6",
         "domain": [
          0.42000000000000004,
          0.47500000000000003
         ]
        },
        "yaxis7": {
         "anchor": "x7",
         "domain": [
          0.31500000000000006,
          0.37000000000000005
         ]
        },
        "yaxis8": {
         "anchor": "x8",
         "domain": [
          0.21000000000000002,
          0.265
         ]
        },
        "yaxis9": {
         "anchor": "x9",
         "domain": [
          0.10500000000000001,
          0.16000000000000003
         ]
        }
       }
      },
      "text/html": [
       "<div>                            <div id=\"8d6352dd-8c5e-4280-b7d3-dbf633a9a4bd\" class=\"plotly-graph-div\" style=\"height:2500px; width:100%;\"></div>            <script type=\"text/javascript\">                require([\"plotly\"], function(Plotly) {                    window.PLOTLYENV=window.PLOTLYENV || {};                                    if (document.getElementById(\"8d6352dd-8c5e-4280-b7d3-dbf633a9a4bd\")) {                    Plotly.newPlot(                        \"8d6352dd-8c5e-4280-b7d3-dbf633a9a4bd\",                        [{\"hovertemplate\":\"variable=features_1_leaf_1<br>Trees=%{x}<br>value=%{y}<extra></extra>\",\"legendgroup\":\"features_1_leaf_1\",\"line\":{\"color\":\"#636efa\",\"dash\":\"solid\"},\"marker\":{\"symbol\":\"circle\"},\"mode\":\"lines\",\"name\":\"features_1_leaf_1\",\"orientation\":\"v\",\"showlegend\":true,\"x\":[1,3,5,7,9,11,13,15,17,19,21,23,25,27,29,31,33,35,37,39,41,43,45,47,49],\"xaxis\":\"x\",\"y\":[0.7588305970934017,0.8748371535149999,0.9020614586154588,0.9186162285271043,0.9270763050380408,0.9307031388957834,0.9341576761524648,0.9380544087316718,0.9400445289488338,0.940132903632416,0.9405612775984895,0.9400067253544216,0.9406799231937818,0.9424499458512491,0.9418410007728777,0.9416084986200834,0.9420803173460207,0.9427432955022208,0.9432324767855569,0.9432228012591819,0.9432967683489102,0.9429031724679293,0.9432484525320686,0.9427571294533227,0.9425871417855634],\"yaxis\":\"y\",\"type\":\"scatter\"},{\"hovertemplate\":\"variable=features_2_leaf_1<br>Trees=%{x}<br>value=%{y}<extra></extra>\",\"legendgroup\":\"features_2_leaf_1\",\"line\":{\"color\":\"#EF553B\",\"dash\":\"solid\"},\"marker\":{\"symbol\":\"circle\"},\"mode\":\"lines\",\"name\":\"features_2_leaf_1\",\"orientation\":\"v\",\"showlegend\":true,\"x\":[1,3,5,7,9,11,13,15,17,19,21,23,25,27,29,31,33,35,37,39,41,43,45,47,49],\"xaxis\":\"x\",\"y\":[0.8517166475301,0.9239434246408402,0.9401518914264008,0.9423494469972074,0.9445323148153065,0.9456426815736382,0.9435780185781741,0.9460233270363247,0.9475460809617984,0.9486522197539153,0.9469681831846672,0.9469177842944468,0.946840849081035,0.9474768564280712,0.9471839311104008,0.947815376244978,0.9488042395949108,0.950114124868446,0.9506998852126867,0.9515708175782057,0.951549326727074,0.9519335974648545,0.9515359444565341,0.9517151404047294,0.9517349883138486],\"yaxis\":\"y\",\"type\":\"scatter\"},{\"hovertemplate\":\"variable=features_3_leaf_1<br>Trees=%{x}<br>value=%{y}<extra></extra>\",\"legendgroup\":\"features_3_leaf_1\",\"line\":{\"color\":\"#00cc96\",\"dash\":\"solid\"},\"marker\":{\"symbol\":\"circle\"},\"mode\":\"lines\",\"name\":\"features_3_leaf_1\",\"orientation\":\"v\",\"showlegend\":true,\"x\":[1,3,5,7,9,11,13,15,17,19,21,23,25,27,29,31,33,35,37,39,41,43,45,47,49],\"xaxis\":\"x\",\"y\":[0.8181736616186914,0.9012663614720143,0.9289069729854189,0.9338318146262841,0.9394608031005939,0.9407483743843249,0.9444819678526635,0.9472153644892314,0.9482273588331503,0.9490656884544704,0.949201947215079,0.9504792984320878,0.9508407853040965,0.952116427159653,0.9527005569185872,0.9527477834776044,0.9524622484643622,0.9531917861587751,0.9534108293663728,0.9539938984774355,0.9537067486385057,0.953872122472325,0.9536795514640373,0.9539198256554556,0.9546636774247096],\"yaxis\":\"y\",\"type\":\"scatter\"},{\"hovertemplate\":\"variable=features_4_leaf_1<br>Trees=%{x}<br>value=%{y}<extra></extra>\",\"legendgroup\":\"features_4_leaf_1\",\"line\":{\"color\":\"#ab63fa\",\"dash\":\"solid\"},\"marker\":{\"symbol\":\"circle\"},\"mode\":\"lines\",\"name\":\"features_4_leaf_1\",\"orientation\":\"v\",\"showlegend\":true,\"x\":[1,3,5,7,9,11,13,15,17,19,21,23,25,27,29,31,33,35,37,39,41,43,45,47,49],\"xaxis\":\"x\",\"y\":[0.8599125780485499,0.9074431706573645,0.9342128038930484,0.9416083560259002,0.947963417419583,0.9476895006047922,0.9519854544976365,0.9531373555748317,0.9553403715632198,0.9551273163731363,0.9561783184134068,0.9583605693093464,0.9600704311364952,0.9602010639991627,0.9604499193558139,0.9601889881172199,0.9598073837755242,0.9606417581519274,0.960500168143214,0.9605212259772223,0.959309756483905,0.9590829561667722,0.9588928696543455,0.9593758641241855,0.9592525751699978],\"yaxis\":\"y\",\"type\":\"scatter\"},{\"hovertemplate\":\"variable=features_5_leaf_1<br>Trees=%{x}<br>value=%{y}<extra></extra>\",\"legendgroup\":\"features_5_leaf_1\",\"line\":{\"color\":\"#FFA15A\",\"dash\":\"solid\"},\"marker\":{\"symbol\":\"circle\"},\"mode\":\"lines\",\"name\":\"features_5_leaf_1\",\"orientation\":\"v\",\"showlegend\":true,\"x\":[1,3,5,7,9,11,13,15,17,19,21,23,25,27,29,31,33,35,37,39,41,43,45,47,49],\"xaxis\":\"x\",\"y\":[0.866436126079876,0.9173067962358689,0.9395312041780001,0.9450393815958531,0.9484056907348755,0.9488112128582502,0.9507014338835184,0.9532965485534873,0.9545990293933974,0.9546941623198875,0.9564206507233332,0.9570089236036348,0.9575807526785607,0.9580231942103079,0.9578646460301684,0.9573301901600774,0.9573042645561,0.9587958701805002,0.9592423505662323,0.9597640073705639,0.9587495263168618,0.9591824046246508,0.959186807173222,0.9591721821769733,0.9596090544686355],\"yaxis\":\"y\",\"type\":\"scatter\"},{\"hovertemplate\":\"variable=features_6_leaf_1<br>Trees=%{x}<br>value=%{y}<extra></extra>\",\"legendgroup\":\"features_6_leaf_1\",\"line\":{\"color\":\"#19d3f3\",\"dash\":\"solid\"},\"marker\":{\"symbol\":\"circle\"},\"mode\":\"lines\",\"name\":\"features_6_leaf_1\",\"orientation\":\"v\",\"showlegend\":true,\"x\":[1,3,5,7,9,11,13,15,17,19,21,23,25,27,29,31,33,35,37,39,41,43,45,47,49],\"xaxis\":\"x\",\"y\":[0.8819519258559358,0.928810928509195,0.9407223779456488,0.9498534022496475,0.9522156539714228,0.9549981202121245,0.95816523152819,0.958783263179409,0.9594465579147438,0.9588474104756189,0.9608061985401936,0.9609040548003323,0.9616340076343004,0.9617542568211521,0.962189198755661,0.9621342314063112,0.9613333328350396,0.9620248915728389,0.9622014336428324,0.9625971275348595,0.9629204729404695,0.9631470329729513,0.9629560342319679,0.9630357094917901,0.9631958151830299],\"yaxis\":\"y\",\"type\":\"scatter\"},{\"hovertemplate\":\"variable=features_7_leaf_1<br>Trees=%{x}<br>value=%{y}<extra></extra>\",\"legendgroup\":\"features_7_leaf_1\",\"line\":{\"color\":\"#FF6692\",\"dash\":\"solid\"},\"marker\":{\"symbol\":\"circle\"},\"mode\":\"lines\",\"name\":\"features_7_leaf_1\",\"orientation\":\"v\",\"showlegend\":true,\"x\":[1,3,5,7,9,11,13,15,17,19,21,23,25,27,29,31,33,35,37,39,41,43,45,47,49],\"xaxis\":\"x\",\"y\":[0.8927578849700867,0.9227237870660392,0.9462505920049551,0.9545284378229324,0.9567315332179904,0.9599280301568939,0.9604786935269276,0.9610457068517851,0.9612852990141694,0.9614540672971007,0.9621324273447825,0.9626271548391234,0.9633496354222861,0.9635572365446317,0.9638445207950366,0.9632456613184817,0.9633096042349074,0.9639428618799666,0.9641928839238361,0.9643819161472909,0.9635104049665781,0.964024692051853,0.964234310742669,0.9641850503824596,0.9644932534823927],\"yaxis\":\"y\",\"type\":\"scatter\"},{\"hovertemplate\":\"variable=features_8_leaf_1<br>Trees=%{x}<br>value=%{y}<extra></extra>\",\"legendgroup\":\"features_8_leaf_1\",\"line\":{\"color\":\"#B6E880\",\"dash\":\"solid\"},\"marker\":{\"symbol\":\"circle\"},\"mode\":\"lines\",\"name\":\"features_8_leaf_1\",\"orientation\":\"v\",\"showlegend\":true,\"x\":[1,3,5,7,9,11,13,15,17,19,21,23,25,27,29,31,33,35,37,39,41,43,45,47,49],\"xaxis\":\"x\",\"y\":[0.8747303751921024,0.9346688084271554,0.9486900662605237,0.9549790703749345,0.9571847277388642,0.9585097848573454,0.9609104503410203,0.9624513933800799,0.9624264372985178,0.9625102887868564,0.9633369685267918,0.9627654879382599,0.9633957896220038,0.9632127421176104,0.9639276196775068,0.9640015213189257,0.9635385770865149,0.9640958602652461,0.964067121256727,0.9637645856568268,0.9641461144524046,0.9642542325333695,0.9646802995600512,0.9641181163980355,0.964440500926473],\"yaxis\":\"y\",\"type\":\"scatter\"},{\"hovertemplate\":\"variable=features_9_leaf_1<br>Trees=%{x}<br>value=%{y}<extra></extra>\",\"legendgroup\":\"features_9_leaf_1\",\"line\":{\"color\":\"#FF97FF\",\"dash\":\"solid\"},\"marker\":{\"symbol\":\"circle\"},\"mode\":\"lines\",\"name\":\"features_9_leaf_1\",\"orientation\":\"v\",\"showlegend\":true,\"x\":[1,3,5,7,9,11,13,15,17,19,21,23,25,27,29,31,33,35,37,39,41,43,45,47,49],\"xaxis\":\"x\",\"y\":[0.9098054300729588,0.9430342479426279,0.9533642887273714,0.9598234799734598,0.9601820686637907,0.9615344479500394,0.9629597000386504,0.9629981084806097,0.9639220923245893,0.9636287443551718,0.9640174754466043,0.9643674077838759,0.9651485268815053,0.9654497210843582,0.965607960653508,0.9654480092608322,0.9658626121431467,0.9662662231421617,0.9665780016890899,0.9664017979082112,0.966323523267025,0.9664352508575739,0.9661777351366532,0.965805220911285,0.9662029848781689],\"yaxis\":\"y\",\"type\":\"scatter\"},{\"hovertemplate\":\"variable=features_10_leaf_1<br>Trees=%{x}<br>value=%{y}<extra></extra>\",\"legendgroup\":\"features_10_leaf_1\",\"line\":{\"color\":\"#FECB52\",\"dash\":\"solid\"},\"marker\":{\"symbol\":\"circle\"},\"mode\":\"lines\",\"name\":\"features_10_leaf_1\",\"orientation\":\"v\",\"showlegend\":true,\"x\":[1,3,5,7,9,11,13,15,17,19,21,23,25,27,29,31,33,35,37,39,41,43,45,47,49],\"xaxis\":\"x\",\"y\":[0.8747554282172955,0.9372888376670693,0.9483365834589532,0.955704991518326,0.9583992017203251,0.9606717683252743,0.9635563226238724,0.9638481029918825,0.9631789025100984,0.9631112818465055,0.963989447395709,0.9642753136926008,0.964905905837792,0.9650819161306279,0.9653841565719526,0.9657135186108613,0.9661448734328385,0.9666255859946762,0.9667635584141119,0.9662412782369708,0.9660649135745695,0.9665441558844504,0.9666266152292803,0.9662865782835489,0.9669103049463874],\"yaxis\":\"y\",\"type\":\"scatter\"},{\"hovertemplate\":\"variable=features_1_leaf_2<br>Trees=%{x}<br>value=%{y}<extra></extra>\",\"legendgroup\":\"features_1_leaf_2\",\"line\":{\"color\":\"#636efa\",\"dash\":\"solid\"},\"marker\":{\"symbol\":\"circle\"},\"mode\":\"lines\",\"name\":\"features_1_leaf_2\",\"orientation\":\"v\",\"showlegend\":true,\"x\":[1,3,5,7,9,11,13,15,17,19,21,23,25,27,29,31,33,35,37,39,41,43,45,47,49],\"xaxis\":\"x2\",\"y\":[0.8209555193550306,0.8991991511538165,0.9172990672065211,0.9228137900661382,0.9212515310765413,0.9226522993109281,0.9254841596139795,0.925689225046008,0.9265775764208317,0.927650422404888,0.9296062590678933,0.9304408888082418,0.9300249282380832,0.9314601956743347,0.931692140367583,0.9311163521277477,0.9309137214052161,0.9311419879536459,0.9321298655735996,0.9313718395432152,0.9307941264696978,0.9301818101307926,0.9301347171638088,0.9296655602574365,0.929363941654987],\"yaxis\":\"y2\",\"type\":\"scatter\"},{\"hovertemplate\":\"variable=features_2_leaf_2<br>Trees=%{x}<br>value=%{y}<extra></extra>\",\"legendgroup\":\"features_2_leaf_2\",\"line\":{\"color\":\"#EF553B\",\"dash\":\"solid\"},\"marker\":{\"symbol\":\"circle\"},\"mode\":\"lines\",\"name\":\"features_2_leaf_2\",\"orientation\":\"v\",\"showlegend\":true,\"x\":[1,3,5,7,9,11,13,15,17,19,21,23,25,27,29,31,33,35,37,39,41,43,45,47,49],\"xaxis\":\"x2\",\"y\":[0.8200528009280831,0.9142121711366853,0.9355157582173128,0.939336191806379,0.9432881068072279,0.9400930006949952,0.9403331783896164,0.9421929755075895,0.943364919357991,0.9436658243032345,0.9429489588467204,0.9438643419830269,0.9438292878432865,0.9448042425956007,0.9449683534137149,0.945048503720544,0.9453724505830585,0.9473194639979774,0.9480573711277438,0.9472580502449806,0.9472657012489331,0.9480227453979617,0.948008796082406,0.9478747649422928,0.9477927383170272],\"yaxis\":\"y2\",\"type\":\"scatter\"},{\"hovertemplate\":\"variable=features_3_leaf_2<br>Trees=%{x}<br>value=%{y}<extra></extra>\",\"legendgroup\":\"features_3_leaf_2\",\"line\":{\"color\":\"#00cc96\",\"dash\":\"solid\"},\"marker\":{\"symbol\":\"circle\"},\"mode\":\"lines\",\"name\":\"features_3_leaf_2\",\"orientation\":\"v\",\"showlegend\":true,\"x\":[1,3,5,7,9,11,13,15,17,19,21,23,25,27,29,31,33,35,37,39,41,43,45,47,49],\"xaxis\":\"x2\",\"y\":[0.8499874154178478,0.9044630479665194,0.9255594688631975,0.9347476856197107,0.9374425391185983,0.9410989889547012,0.9428690670417696,0.9454906411927132,0.9462029901961675,0.9481705586899135,0.9487903386856041,0.9489330053155518,0.9496353437301359,0.950115510902808,0.9502376332703099,0.9508456504289023,0.9506292641464735,0.9521693504454157,0.9517185254894287,0.9523246901154605,0.951560669798065,0.951055023950585,0.9509869292311578,0.9509164263716012,0.9510666827721568],\"yaxis\":\"y2\",\"type\":\"scatter\"},{\"hovertemplate\":\"variable=features_4_leaf_2<br>Trees=%{x}<br>value=%{y}<extra></extra>\",\"legendgroup\":\"features_4_leaf_2\",\"line\":{\"color\":\"#ab63fa\",\"dash\":\"solid\"},\"marker\":{\"symbol\":\"circle\"},\"mode\":\"lines\",\"name\":\"features_4_leaf_2\",\"orientation\":\"v\",\"showlegend\":true,\"x\":[1,3,5,7,9,11,13,15,17,19,21,23,25,27,29,31,33,35,37,39,41,43,45,47,49],\"xaxis\":\"x2\",\"y\":[0.8594488107942793,0.9053506467672909,0.9304709990697987,0.9361299339876268,0.9401254984637373,0.9417450583143567,0.947270250756999,0.9500968788479403,0.9502801277766698,0.9506661894351167,0.9523034030722947,0.9540946600954496,0.956173124001246,0.9569262440280001,0.9572137571078022,0.956555592864819,0.9568246077848126,0.9574370886122591,0.9579320974300819,0.95843498034128,0.9577643019302196,0.9573933222606626,0.957557226541754,0.957061025230246,0.9572206141535047],\"yaxis\":\"y2\",\"type\":\"scatter\"},{\"hovertemplate\":\"variable=features_5_leaf_2<br>Trees=%{x}<br>value=%{y}<extra></extra>\",\"legendgroup\":\"features_5_leaf_2\",\"line\":{\"color\":\"#FFA15A\",\"dash\":\"solid\"},\"marker\":{\"symbol\":\"circle\"},\"mode\":\"lines\",\"name\":\"features_5_leaf_2\",\"orientation\":\"v\",\"showlegend\":true,\"x\":[1,3,5,7,9,11,13,15,17,19,21,23,25,27,29,31,33,35,37,39,41,43,45,47,49],\"xaxis\":\"x2\",\"y\":[0.8855430298269964,0.9149655850159899,0.93620190206028,0.9439635731789447,0.9477317965044249,0.9493657844518459,0.9539157448490485,0.9551965372421733,0.9557406736562861,0.9559361707761551,0.9563225040168695,0.9567336896191675,0.9566131788402658,0.957374950826396,0.9573821427096505,0.9577423444915771,0.9583791605318168,0.9596033811409381,0.9594995647656788,0.9598917191758869,0.959164542244322,0.9596327548093262,0.9601901998935147,0.9605947165768111,0.9611742397330472],\"yaxis\":\"y2\",\"type\":\"scatter\"},{\"hovertemplate\":\"variable=features_6_leaf_2<br>Trees=%{x}<br>value=%{y}<extra></extra>\",\"legendgroup\":\"features_6_leaf_2\",\"line\":{\"color\":\"#19d3f3\",\"dash\":\"solid\"},\"marker\":{\"symbol\":\"circle\"},\"mode\":\"lines\",\"name\":\"features_6_leaf_2\",\"orientation\":\"v\",\"showlegend\":true,\"x\":[1,3,5,7,9,11,13,15,17,19,21,23,25,27,29,31,33,35,37,39,41,43,45,47,49],\"xaxis\":\"x2\",\"y\":[0.9059914368026355,0.9388925225507794,0.9478713395517113,0.9539652629413871,0.9539084284706509,0.9561868733066958,0.958296029568044,0.9596038883397945,0.9594637958211601,0.9604290781960536,0.960714495986781,0.9610326507161202,0.9609403987836718,0.9609894717877976,0.9613168082563897,0.9619846228080551,0.9615888519676072,0.962028732590456,0.9621152727907349,0.9622229063620908,0.9627020508981602,0.9627414156684091,0.9626478433656871,0.9627235781957392,0.9628662019495815],\"yaxis\":\"y2\",\"type\":\"scatter\"},{\"hovertemplate\":\"variable=features_7_leaf_2<br>Trees=%{x}<br>value=%{y}<extra></extra>\",\"legendgroup\":\"features_7_leaf_2\",\"line\":{\"color\":\"#FF6692\",\"dash\":\"solid\"},\"marker\":{\"symbol\":\"circle\"},\"mode\":\"lines\",\"name\":\"features_7_leaf_2\",\"orientation\":\"v\",\"showlegend\":true,\"x\":[1,3,5,7,9,11,13,15,17,19,21,23,25,27,29,31,33,35,37,39,41,43,45,47,49],\"xaxis\":\"x2\",\"y\":[0.9078387693500201,0.9446114537415757,0.9547977929811882,0.9592503272213909,0.9611041114042989,0.9622402291128568,0.9634682765453769,0.9640460222153218,0.9648424381530747,0.9647751888425171,0.9648493623651971,0.9650224926787436,0.9649584011335512,0.9650369459250043,0.9647377113493454,0.9643819580764955,0.9638613938207199,0.9641233189271764,0.9639619980585387,0.9640264305109632,0.9633439627705869,0.9637675655661558,0.9641611908481339,0.9643845679664667,0.9646391368385345],\"yaxis\":\"y2\",\"type\":\"scatter\"},{\"hovertemplate\":\"variable=features_8_leaf_2<br>Trees=%{x}<br>value=%{y}<extra></extra>\",\"legendgroup\":\"features_8_leaf_2\",\"line\":{\"color\":\"#B6E880\",\"dash\":\"solid\"},\"marker\":{\"symbol\":\"circle\"},\"mode\":\"lines\",\"name\":\"features_8_leaf_2\",\"orientation\":\"v\",\"showlegend\":true,\"x\":[1,3,5,7,9,11,13,15,17,19,21,23,25,27,29,31,33,35,37,39,41,43,45,47,49],\"xaxis\":\"x2\",\"y\":[0.9057912450267299,0.9490974462807639,0.9554302195057497,0.9611580850480882,0.9613793832173572,0.9627065361886313,0.9629169158275115,0.9638163424852465,0.9636003475742942,0.9635204089400196,0.9640732572513118,0.9642678794794353,0.9646102478643606,0.9638713597542369,0.9642737003676629,0.9645317153532659,0.9645090529363239,0.9645268958390941,0.9636044856739222,0.9631763171074749,0.9635381849813125,0.963758285380219,0.9638550593298166,0.963890400886499,0.9641178274710596],\"yaxis\":\"y2\",\"type\":\"scatter\"},{\"hovertemplate\":\"variable=features_9_leaf_2<br>Trees=%{x}<br>value=%{y}<extra></extra>\",\"legendgroup\":\"features_9_leaf_2\",\"line\":{\"color\":\"#FF97FF\",\"dash\":\"solid\"},\"marker\":{\"symbol\":\"circle\"},\"mode\":\"lines\",\"name\":\"features_9_leaf_2\",\"orientation\":\"v\",\"showlegend\":true,\"x\":[1,3,5,7,9,11,13,15,17,19,21,23,25,27,29,31,33,35,37,39,41,43,45,47,49],\"xaxis\":\"x2\",\"y\":[0.9146236845811011,0.9456823510911825,0.95315429786584,0.9575172105257451,0.9597217004415792,0.9613200005365485,0.9637017375832901,0.9632826164499606,0.9636570388522475,0.9636131576186349,0.9639779843741361,0.9640335822047843,0.964752587060208,0.9652979219771016,0.9655878947403419,0.9652950963057298,0.9655410431070159,0.9659409545115707,0.9656616823871198,0.9653604683742418,0.9653916456937942,0.965626192940969,0.9655129024202026,0.9654338928844032,0.965827701758575],\"yaxis\":\"y2\",\"type\":\"scatter\"},{\"hovertemplate\":\"variable=features_10_leaf_2<br>Trees=%{x}<br>value=%{y}<extra></extra>\",\"legendgroup\":\"features_10_leaf_2\",\"line\":{\"color\":\"#FECB52\",\"dash\":\"solid\"},\"marker\":{\"symbol\":\"circle\"},\"mode\":\"lines\",\"name\":\"features_10_leaf_2\",\"orientation\":\"v\",\"showlegend\":true,\"x\":[1,3,5,7,9,11,13,15,17,19,21,23,25,27,29,31,33,35,37,39,41,43,45,47,49],\"xaxis\":\"x2\",\"y\":[0.9031739217246784,0.9427407097807547,0.9525269529612945,0.957062775586498,0.9594291226831431,0.9610654705985345,0.9625034020400511,0.9638921395228961,0.96420549182204,0.9636673773497908,0.9640759060068852,0.9644559928565775,0.9652322555084304,0.9649887899830274,0.9655026680259333,0.9652332966936623,0.9654051025244874,0.9655556876121514,0.9652838446593544,0.9653074689186525,0.9653276109996216,0.9653700567898399,0.9657467623442573,0.9652827044837015,0.9655138886758461],\"yaxis\":\"y2\",\"type\":\"scatter\"},{\"hovertemplate\":\"variable=features_1_leaf_3<br>Trees=%{x}<br>value=%{y}<extra></extra>\",\"legendgroup\":\"features_1_leaf_3\",\"line\":{\"color\":\"#636efa\",\"dash\":\"solid\"},\"marker\":{\"symbol\":\"circle\"},\"mode\":\"lines\",\"name\":\"features_1_leaf_3\",\"orientation\":\"v\",\"showlegend\":true,\"x\":[1,3,5,7,9,11,13,15,17,19,21,23,25,27,29,31,33,35,37,39,41,43,45,47,49],\"xaxis\":\"x3\",\"y\":[0.7767752708919531,0.8899696661997029,0.9101259724341952,0.9210633426112965,0.9191527559015101,0.9212881497776688,0.9225115442705686,0.920610971433623,0.9242788994219687,0.9257288454621071,0.9258199378780633,0.9237817723800659,0.9239609311379757,0.9251993872061502,0.9233469163408836,0.925549232836099,0.9249476370925175,0.925909204876547,0.9268109446110356,0.9254684687217198,0.9251757225463175,0.9241377889033926,0.924613709528759,0.9238565564827003,0.9235990554791949],\"yaxis\":\"y3\",\"type\":\"scatter\"},{\"hovertemplate\":\"variable=features_2_leaf_3<br>Trees=%{x}<br>value=%{y}<extra></extra>\",\"legendgroup\":\"features_2_leaf_3\",\"line\":{\"color\":\"#EF553B\",\"dash\":\"solid\"},\"marker\":{\"symbol\":\"circle\"},\"mode\":\"lines\",\"name\":\"features_2_leaf_3\",\"orientation\":\"v\",\"showlegend\":true,\"x\":[1,3,5,7,9,11,13,15,17,19,21,23,25,27,29,31,33,35,37,39,41,43,45,47,49],\"xaxis\":\"x3\",\"y\":[0.8600538202320452,0.9165178613006939,0.9307799182404327,0.9382694139015942,0.937982950558791,0.9367347740476131,0.935781973278574,0.9377420600463002,0.9400614514743675,0.9412077171890983,0.9406154496103346,0.9396195974586478,0.9393109272164926,0.939487810917386,0.9402956312662104,0.9406285524101048,0.9402628028972172,0.9420226388600407,0.9420575457404963,0.9417328428531146,0.9420194539632621,0.9420856407192831,0.9423864835032406,0.9418108743480428,0.9420843139275501],\"yaxis\":\"y3\",\"type\":\"scatter\"},{\"hovertemplate\":\"variable=features_3_leaf_3<br>Trees=%{x}<br>value=%{y}<extra></extra>\",\"legendgroup\":\"features_3_leaf_3\",\"line\":{\"color\":\"#00cc96\",\"dash\":\"solid\"},\"marker\":{\"symbol\":\"circle\"},\"mode\":\"lines\",\"name\":\"features_3_leaf_3\",\"orientation\":\"v\",\"showlegend\":true,\"x\":[1,3,5,7,9,11,13,15,17,19,21,23,25,27,29,31,33,35,37,39,41,43,45,47,49],\"xaxis\":\"x3\",\"y\":[0.8483766102636079,0.9157560448589598,0.9328479608390727,0.9360367541404356,0.9349877618390302,0.937307396787135,0.9420145815689469,0.9432954613560242,0.9454122142488443,0.9463854722443727,0.9457670933594244,0.9466492701311136,0.9469850914783731,0.9471556684639306,0.9470023282396086,0.9477041960286263,0.9474301819059082,0.9490361811113136,0.949131087401546,0.9497791684453588,0.9496387235268937,0.9494707124891217,0.9490950159460259,0.9493748841642159,0.9495535784279348],\"yaxis\":\"y3\",\"type\":\"scatter\"},{\"hovertemplate\":\"variable=features_4_leaf_3<br>Trees=%{x}<br>value=%{y}<extra></extra>\",\"legendgroup\":\"features_4_leaf_3\",\"line\":{\"color\":\"#ab63fa\",\"dash\":\"solid\"},\"marker\":{\"symbol\":\"circle\"},\"mode\":\"lines\",\"name\":\"features_4_leaf_3\",\"orientation\":\"v\",\"showlegend\":true,\"x\":[1,3,5,7,9,11,13,15,17,19,21,23,25,27,29,31,33,35,37,39,41,43,45,47,49],\"xaxis\":\"x3\",\"y\":[0.8554860210849707,0.9164599704147373,0.9379551665358432,0.9408383333884831,0.9430353732914447,0.9461838858546943,0.9495250975821309,0.9517507450937751,0.9521074134169858,0.9516579092718974,0.9521837254956271,0.9543844833630473,0.9553993914767165,0.9550489079904253,0.9541164193939018,0.9545134684683345,0.954290552075863,0.9549748032715936,0.9543493210141231,0.954143583118013,0.9534775657006858,0.9530980184208492,0.9531604732628223,0.9530959252802569,0.9530949194280313],\"yaxis\":\"y3\",\"type\":\"scatter\"},{\"hovertemplate\":\"variable=features_5_leaf_3<br>Trees=%{x}<br>value=%{y}<extra></extra>\",\"legendgroup\":\"features_5_leaf_3\",\"line\":{\"color\":\"#FFA15A\",\"dash\":\"solid\"},\"marker\":{\"symbol\":\"circle\"},\"mode\":\"lines\",\"name\":\"features_5_leaf_3\",\"orientation\":\"v\",\"showlegend\":true,\"x\":[1,3,5,7,9,11,13,15,17,19,21,23,25,27,29,31,33,35,37,39,41,43,45,47,49],\"xaxis\":\"x3\",\"y\":[0.88759688183299,0.9122523329768157,0.9303857184264214,0.9384446488310603,0.9420008422545927,0.9440795137029081,0.9496821081458064,0.9516735243882106,0.952035599336655,0.9523879497850395,0.953691715249702,0.9541308061649764,0.9550713749065645,0.955339879833352,0.9559351859173468,0.9556796851581447,0.9553709296369112,0.956218469318606,0.9564714597802595,0.9564094212227126,0.9561885857372084,0.9564497646633093,0.9566078130395228,0.956814408244486,0.9573870576837102],\"yaxis\":\"y3\",\"type\":\"scatter\"},{\"hovertemplate\":\"variable=features_6_leaf_3<br>Trees=%{x}<br>value=%{y}<extra></extra>\",\"legendgroup\":\"features_6_leaf_3\",\"line\":{\"color\":\"#19d3f3\",\"dash\":\"solid\"},\"marker\":{\"symbol\":\"circle\"},\"mode\":\"lines\",\"name\":\"features_6_leaf_3\",\"orientation\":\"v\",\"showlegend\":true,\"x\":[1,3,5,7,9,11,13,15,17,19,21,23,25,27,29,31,33,35,37,39,41,43,45,47,49],\"xaxis\":\"x3\",\"y\":[0.8831379317459982,0.9400432262751834,0.9510171652015655,0.9533312292386388,0.9556909127611475,0.9561573636469511,0.9581218675766259,0.9578365391791058,0.9591131848426402,0.9600696965465054,0.9611636469530446,0.9611997050587664,0.9616526678932271,0.9618942272198773,0.9614791314301294,0.9619089023737561,0.9614927835047007,0.9616052084805238,0.9614428773227279,0.9612064876381943,0.9613914763414062,0.961129497039734,0.9614365049985152,0.9611886878224105,0.9611749591066155],\"yaxis\":\"y3\",\"type\":\"scatter\"},{\"hovertemplate\":\"variable=features_7_leaf_3<br>Trees=%{x}<br>value=%{y}<extra></extra>\",\"legendgroup\":\"features_7_leaf_3\",\"line\":{\"color\":\"#FF6692\",\"dash\":\"solid\"},\"marker\":{\"symbol\":\"circle\"},\"mode\":\"lines\",\"name\":\"features_7_leaf_3\",\"orientation\":\"v\",\"showlegend\":true,\"x\":[1,3,5,7,9,11,13,15,17,19,21,23,25,27,29,31,33,35,37,39,41,43,45,47,49],\"xaxis\":\"x3\",\"y\":[0.9214180340957157,0.9471142332440172,0.9524150608800277,0.9580504870890938,0.9593870524002671,0.9612751310978197,0.9621350889271227,0.96272905717469,0.9627286803462365,0.961918418737944,0.9620299233891222,0.9620821553430824,0.9624158065376976,0.9620057107439843,0.9613971180359181,0.9608401287142702,0.9606894100055383,0.9607850585825215,0.9606734615326225,0.9606089919595776,0.9605443162498892,0.9610461663541299,0.961411906425419,0.9613753142420848,0.9619449107592166],\"yaxis\":\"y3\",\"type\":\"scatter\"},{\"hovertemplate\":\"variable=features_8_leaf_3<br>Trees=%{x}<br>value=%{y}<extra></extra>\",\"legendgroup\":\"features_8_leaf_3\",\"line\":{\"color\":\"#B6E880\",\"dash\":\"solid\"},\"marker\":{\"symbol\":\"circle\"},\"mode\":\"lines\",\"name\":\"features_8_leaf_3\",\"orientation\":\"v\",\"showlegend\":true,\"x\":[1,3,5,7,9,11,13,15,17,19,21,23,25,27,29,31,33,35,37,39,41,43,45,47,49],\"xaxis\":\"x3\",\"y\":[0.8967328447450613,0.9455385979309808,0.9546657708951131,0.9570976817875737,0.9573860261419556,0.9597188826141316,0.9610437896753379,0.9622993826836559,0.9619196942375074,0.961997938382747,0.9628815281840352,0.9629094155821247,0.9631833146351108,0.9629562479597222,0.9635512644330431,0.9637101167450275,0.9637991213082554,0.9639637128880315,0.9634657417732452,0.9635644083842136,0.9637561260536757,0.9638828017908775,0.9640385579016092,0.9641387124915548,0.9641888750468389],\"yaxis\":\"y3\",\"type\":\"scatter\"},{\"hovertemplate\":\"variable=features_9_leaf_3<br>Trees=%{x}<br>value=%{y}<extra></extra>\",\"legendgroup\":\"features_9_leaf_3\",\"line\":{\"color\":\"#FF97FF\",\"dash\":\"solid\"},\"marker\":{\"symbol\":\"circle\"},\"mode\":\"lines\",\"name\":\"features_9_leaf_3\",\"orientation\":\"v\",\"showlegend\":true,\"x\":[1,3,5,7,9,11,13,15,17,19,21,23,25,27,29,31,33,35,37,39,41,43,45,47,49],\"xaxis\":\"x3\",\"y\":[0.9162035300164133,0.9446750835485129,0.9526329587213281,0.9573783272126825,0.9581249830743502,0.9611354615344279,0.9631370907679587,0.963479311114701,0.9633504105644054,0.96387848099209,0.9644573392838266,0.963572283884298,0.964626645565895,0.9651100728018001,0.9650410871851867,0.9647939776392083,0.9648130930346417,0.9652044437882774,0.9649989637623632,0.9646191842189324,0.9644246066424487,0.9646903778820335,0.9647069215914694,0.964657105328474,0.9648985568191668],\"yaxis\":\"y3\",\"type\":\"scatter\"},{\"hovertemplate\":\"variable=features_10_leaf_3<br>Trees=%{x}<br>value=%{y}<extra></extra>\",\"legendgroup\":\"features_10_leaf_3\",\"line\":{\"color\":\"#FECB52\",\"dash\":\"solid\"},\"marker\":{\"symbol\":\"circle\"},\"mode\":\"lines\",\"name\":\"features_10_leaf_3\",\"orientation\":\"v\",\"showlegend\":true,\"x\":[1,3,5,7,9,11,13,15,17,19,21,23,25,27,29,31,33,35,37,39,41,43,45,47,49],\"xaxis\":\"x3\",\"y\":[0.9007721561585988,0.9420378601791635,0.9552713756314695,0.9606518230662168,0.9604069173491604,0.9620150159872608,0.9644333426710767,0.9659145773435865,0.9655027339989155,0.965100417631184,0.9656126473669902,0.9648586187771006,0.9651429573733857,0.9650889579041417,0.9658120922052402,0.9654503237638623,0.9651298740599537,0.9651846862138795,0.9653248684659292,0.9651361025436909,0.964974611572222,0.9651917578503226,0.965287545773221,0.9650371674868582,0.9652487950736406],\"yaxis\":\"y3\",\"type\":\"scatter\"},{\"hovertemplate\":\"variable=features_1_leaf_4<br>Trees=%{x}<br>value=%{y}<extra></extra>\",\"legendgroup\":\"features_1_leaf_4\",\"line\":{\"color\":\"#636efa\",\"dash\":\"solid\"},\"marker\":{\"symbol\":\"circle\"},\"mode\":\"lines\",\"name\":\"features_1_leaf_4\",\"orientation\":\"v\",\"showlegend\":true,\"x\":[1,3,5,7,9,11,13,15,17,19,21,23,25,27,29,31,33,35,37,39,41,43,45,47,49],\"xaxis\":\"x4\",\"y\":[0.7082037372776289,0.8609011192890117,0.8949349443642456,0.905687274370741,0.9010008337999036,0.9080983963535276,0.9065598627384137,0.9049157062093384,0.9083795610881609,0.9121335627819972,0.9154712809246515,0.9126699914448926,0.9137520916833128,0.9146560975721799,0.9146006700268371,0.916862561878462,0.9176606999606381,0.9185688877935003,0.91919145164892,0.9179968589684574,0.917288747521394,0.9159391637288733,0.9160512815019057,0.9150352225159679,0.9143401823637143],\"yaxis\":\"y4\",\"type\":\"scatter\"},{\"hovertemplate\":\"variable=features_2_leaf_4<br>Trees=%{x}<br>value=%{y}<extra></extra>\",\"legendgroup\":\"features_2_leaf_4\",\"line\":{\"color\":\"#EF553B\",\"dash\":\"solid\"},\"marker\":{\"symbol\":\"circle\"},\"mode\":\"lines\",\"name\":\"features_2_leaf_4\",\"orientation\":\"v\",\"showlegend\":true,\"x\":[1,3,5,7,9,11,13,15,17,19,21,23,25,27,29,31,33,35,37,39,41,43,45,47,49],\"xaxis\":\"x4\",\"y\":[0.8555162919090294,0.9040516593452719,0.9210354599672419,0.9282703865400949,0.9330398491441546,0.9309107989717729,0.9325553120577655,0.9349642820614994,0.936736357160593,0.9370818041127542,0.9367328932010434,0.9358550656503407,0.9354521064249333,0.9356868539374126,0.9357205994975815,0.9359645175391622,0.9354194019136797,0.9372623390803764,0.9380839407289201,0.93788208299391,0.9371969963792761,0.9368565473322246,0.9367520710872087,0.9366279942682667,0.9364182065105456],\"yaxis\":\"y4\",\"type\":\"scatter\"},{\"hovertemplate\":\"variable=features_3_leaf_4<br>Trees=%{x}<br>value=%{y}<extra></extra>\",\"legendgroup\":\"features_3_leaf_4\",\"line\":{\"color\":\"#00cc96\",\"dash\":\"solid\"},\"marker\":{\"symbol\":\"circle\"},\"mode\":\"lines\",\"name\":\"features_3_leaf_4\",\"orientation\":\"v\",\"showlegend\":true,\"x\":[1,3,5,7,9,11,13,15,17,19,21,23,25,27,29,31,33,35,37,39,41,43,45,47,49],\"xaxis\":\"x4\",\"y\":[0.8323975815060397,0.906108244407207,0.9311176704663143,0.9347902494042668,0.9339884574952053,0.9349992887848477,0.9377556253904572,0.9407251560880603,0.9402345601084147,0.9423347267543074,0.9421438236952122,0.9422146090259336,0.9425568955533452,0.9421763773194887,0.9419431483252868,0.9427292907351644,0.941619200011093,0.9431246026127612,0.9430387977055721,0.9432781549825631,0.9429130381837055,0.9426449265457741,0.9424333452151374,0.9427074107479889,0.9429385430879158],\"yaxis\":\"y4\",\"type\":\"scatter\"},{\"hovertemplate\":\"variable=features_4_leaf_4<br>Trees=%{x}<br>value=%{y}<extra></extra>\",\"legendgroup\":\"features_4_leaf_4\",\"line\":{\"color\":\"#ab63fa\",\"dash\":\"solid\"},\"marker\":{\"symbol\":\"circle\"},\"mode\":\"lines\",\"name\":\"features_4_leaf_4\",\"orientation\":\"v\",\"showlegend\":true,\"x\":[1,3,5,7,9,11,13,15,17,19,21,23,25,27,29,31,33,35,37,39,41,43,45,47,49],\"xaxis\":\"x4\",\"y\":[0.8449356489674814,0.9020007686200934,0.9337148314855799,0.9366273973010392,0.9388882856341395,0.9395188687727101,0.945131973061979,0.9489133731053514,0.9497230026780951,0.9497509146868882,0.9507966636265804,0.9519055922489429,0.9527486161646074,0.9522598639709882,0.9517417970176331,0.9517707615246191,0.9512628261452717,0.9519749392013175,0.9515552733314901,0.9519798420861552,0.9513306065909424,0.9505840803523717,0.9504661236762277,0.9506521616097501,0.9513711523656656],\"yaxis\":\"y4\",\"type\":\"scatter\"},{\"hovertemplate\":\"variable=features_5_leaf_4<br>Trees=%{x}<br>value=%{y}<extra></extra>\",\"legendgroup\":\"features_5_leaf_4\",\"line\":{\"color\":\"#FFA15A\",\"dash\":\"solid\"},\"marker\":{\"symbol\":\"circle\"},\"mode\":\"lines\",\"name\":\"features_5_leaf_4\",\"orientation\":\"v\",\"showlegend\":true,\"x\":[1,3,5,7,9,11,13,15,17,19,21,23,25,27,29,31,33,35,37,39,41,43,45,47,49],\"xaxis\":\"x4\",\"y\":[0.8839259824244857,0.9125484796046852,0.9330555741222233,0.9421320634858642,0.9438049923966974,0.9458633277818598,0.9489556784856068,0.9515013906212817,0.9501830569531824,0.9502619008465436,0.9501063644368173,0.950806607401385,0.9524489996264978,0.9523737189270058,0.9534918752344957,0.9530239647776814,0.9532806343506965,0.954287218942599,0.954744290309766,0.954973089045934,0.9543938840314545,0.9548794042539634,0.9549653403934288,0.9544395034471256,0.9550899508339121],\"yaxis\":\"y4\",\"type\":\"scatter\"},{\"hovertemplate\":\"variable=features_6_leaf_4<br>Trees=%{x}<br>value=%{y}<extra></extra>\",\"legendgroup\":\"features_6_leaf_4\",\"line\":{\"color\":\"#19d3f3\",\"dash\":\"solid\"},\"marker\":{\"symbol\":\"circle\"},\"mode\":\"lines\",\"name\":\"features_6_leaf_4\",\"orientation\":\"v\",\"showlegend\":true,\"x\":[1,3,5,7,9,11,13,15,17,19,21,23,25,27,29,31,33,35,37,39,41,43,45,47,49],\"xaxis\":\"x4\",\"y\":[0.9150919926577596,0.9392347675716717,0.9476045606819609,0.9512352921077308,0.9539656485576453,0.9568797867660367,0.9588008850356475,0.9581681759121959,0.9588122341254103,0.9587167358888479,0.9597237302189624,0.9604448236025682,0.9605607268735896,0.9607693769979591,0.960341623493159,0.9607380757391137,0.9599195022236673,0.9597872161667533,0.9596295478032484,0.959588584996059,0.9593863983682402,0.9592610523090899,0.9595491291841137,0.9591605287079904,0.9592167914926426],\"yaxis\":\"y4\",\"type\":\"scatter\"},{\"hovertemplate\":\"variable=features_7_leaf_4<br>Trees=%{x}<br>value=%{y}<extra></extra>\",\"legendgroup\":\"features_7_leaf_4\",\"line\":{\"color\":\"#FF6692\",\"dash\":\"solid\"},\"marker\":{\"symbol\":\"circle\"},\"mode\":\"lines\",\"name\":\"features_7_leaf_4\",\"orientation\":\"v\",\"showlegend\":true,\"x\":[1,3,5,7,9,11,13,15,17,19,21,23,25,27,29,31,33,35,37,39,41,43,45,47,49],\"xaxis\":\"x4\",\"y\":[0.9267860893936859,0.9419997088142473,0.9482311601589508,0.9528383003292842,0.9537016149261687,0.9560303988591177,0.9567909994747588,0.9573096201924262,0.9574652623587067,0.9579901049764361,0.9582923755787048,0.9579574436825272,0.9588752658243138,0.9585037535153408,0.9587316859315367,0.958573292719349,0.9582026698013337,0.9587263271707908,0.9586206823533594,0.9580806434206617,0.9581882271741573,0.9587036654394272,0.9591086613667704,0.9589973228092372,0.9594214515234922],\"yaxis\":\"y4\",\"type\":\"scatter\"},{\"hovertemplate\":\"variable=features_8_leaf_4<br>Trees=%{x}<br>value=%{y}<extra></extra>\",\"legendgroup\":\"features_8_leaf_4\",\"line\":{\"color\":\"#B6E880\",\"dash\":\"solid\"},\"marker\":{\"symbol\":\"circle\"},\"mode\":\"lines\",\"name\":\"features_8_leaf_4\",\"orientation\":\"v\",\"showlegend\":true,\"x\":[1,3,5,7,9,11,13,15,17,19,21,23,25,27,29,31,33,35,37,39,41,43,45,47,49],\"xaxis\":\"x4\",\"y\":[0.9021464694092032,0.9445261463508483,0.9518874595345463,0.9567984162780983,0.9567462693543088,0.9586163699372054,0.9596392335226994,0.9603393479652119,0.9601968163967805,0.9609241065768674,0.9613481541902871,0.9606861558425834,0.9609369733096227,0.9606570246552248,0.9608950650552425,0.9614546643877782,0.9609338968457479,0.9611743039171456,0.9604385242452234,0.960252509625122,0.9604335321235231,0.9607995722285192,0.9611482916870623,0.9608768678743289,0.9614057326898511],\"yaxis\":\"y4\",\"type\":\"scatter\"},{\"hovertemplate\":\"variable=features_9_leaf_4<br>Trees=%{x}<br>value=%{y}<extra></extra>\",\"legendgroup\":\"features_9_leaf_4\",\"line\":{\"color\":\"#FF97FF\",\"dash\":\"solid\"},\"marker\":{\"symbol\":\"circle\"},\"mode\":\"lines\",\"name\":\"features_9_leaf_4\",\"orientation\":\"v\",\"showlegend\":true,\"x\":[1,3,5,7,9,11,13,15,17,19,21,23,25,27,29,31,33,35,37,39,41,43,45,47,49],\"xaxis\":\"x4\",\"y\":[0.92822789970711,0.9518423439026462,0.9561645151924341,0.9585731231810015,0.9599849582488418,0.9614165804487207,0.9633514692358597,0.9634035614856034,0.9634439621120962,0.963537802769963,0.9641080077055388,0.9630691482058611,0.9635042068575054,0.964195682260845,0.963794469000552,0.9635484380307962,0.9636698788172351,0.9641403091189902,0.9640157501329958,0.9633717132496177,0.9632919406385911,0.9633623097159567,0.9632555356251313,0.9629308392736773,0.9632626164855538],\"yaxis\":\"y4\",\"type\":\"scatter\"},{\"hovertemplate\":\"variable=features_10_leaf_4<br>Trees=%{x}<br>value=%{y}<extra></extra>\",\"legendgroup\":\"features_10_leaf_4\",\"line\":{\"color\":\"#FECB52\",\"dash\":\"solid\"},\"marker\":{\"symbol\":\"circle\"},\"mode\":\"lines\",\"name\":\"features_10_leaf_4\",\"orientation\":\"v\",\"showlegend\":true,\"x\":[1,3,5,7,9,11,13,15,17,19,21,23,25,27,29,31,33,35,37,39,41,43,45,47,49],\"xaxis\":\"x4\",\"y\":[0.9165494755276086,0.9396657695997451,0.9511608078041581,0.9557624309352695,0.9560559399750292,0.958636530153399,0.9609387799312978,0.9619194766516415,0.9621236745593091,0.9619029407529253,0.9623911907153312,0.9620100982323893,0.9626163284287657,0.9624328076558534,0.9630967676235173,0.9630464065409093,0.9626592967189074,0.9625519403256615,0.9624497948841618,0.962394088707452,0.9621410446268474,0.962433993632661,0.9627446945700397,0.9627268387373196,0.9632205718981682],\"yaxis\":\"y4\",\"type\":\"scatter\"},{\"hovertemplate\":\"variable=features_1_leaf_5<br>Trees=%{x}<br>value=%{y}<extra></extra>\",\"legendgroup\":\"features_1_leaf_5\",\"line\":{\"color\":\"#636efa\",\"dash\":\"solid\"},\"marker\":{\"symbol\":\"circle\"},\"mode\":\"lines\",\"name\":\"features_1_leaf_5\",\"orientation\":\"v\",\"showlegend\":true,\"x\":[1,3,5,7,9,11,13,15,17,19,21,23,25,27,29,31,33,35,37,39,41,43,45,47,49],\"xaxis\":\"x5\",\"y\":[0.7441773373462317,0.856650382464656,0.8825750452027006,0.896286613156175,0.8915174587227103,0.894752563451784,0.8977131128085565,0.8973866474074814,0.8966387499109321,0.9013452712461817,0.9069586729906256,0.9059659062303995,0.9063270558690061,0.907489138910673,0.9065272482771929,0.9091076069600044,0.9094665982823382,0.9104242219928492,0.9107169608136327,0.9106871559881228,0.9102772104611626,0.9079606869892805,0.90842401032766,0.9081749615891186,0.907619237079413],\"yaxis\":\"y5\",\"type\":\"scatter\"},{\"hovertemplate\":\"variable=features_2_leaf_5<br>Trees=%{x}<br>value=%{y}<extra></extra>\",\"legendgroup\":\"features_2_leaf_5\",\"line\":{\"color\":\"#EF553B\",\"dash\":\"solid\"},\"marker\":{\"symbol\":\"circle\"},\"mode\":\"lines\",\"name\":\"features_2_leaf_5\",\"orientation\":\"v\",\"showlegend\":true,\"x\":[1,3,5,7,9,11,13,15,17,19,21,23,25,27,29,31,33,35,37,39,41,43,45,47,49],\"xaxis\":\"x5\",\"y\":[0.8174542571883311,0.904411021615388,0.9223603733576275,0.924864139500713,0.9257749444268196,0.923581081885362,0.9259252415715006,0.9287911723988843,0.9314340385095774,0.932371325942866,0.9334175333229942,0.9333179031991776,0.9326945033543096,0.9328136239950802,0.9322926052072595,0.9327952928782812,0.9326917366273364,0.9349442487958635,0.9353362709215197,0.9349278806702637,0.9340847493052415,0.9340360719448124,0.9338499435516272,0.933400568690874,0.9332358677062972],\"yaxis\":\"y5\",\"type\":\"scatter\"},{\"hovertemplate\":\"variable=features_3_leaf_5<br>Trees=%{x}<br>value=%{y}<extra></extra>\",\"legendgroup\":\"features_3_leaf_5\",\"line\":{\"color\":\"#00cc96\",\"dash\":\"solid\"},\"marker\":{\"symbol\":\"circle\"},\"mode\":\"lines\",\"name\":\"features_3_leaf_5\",\"orientation\":\"v\",\"showlegend\":true,\"x\":[1,3,5,7,9,11,13,15,17,19,21,23,25,27,29,31,33,35,37,39,41,43,45,47,49],\"xaxis\":\"x5\",\"y\":[0.8054709464990466,0.9007787139469429,0.9188141835210931,0.9254290462064707,0.9243205246301983,0.9261905163707272,0.929427790425299,0.9326636149489171,0.9327835191414671,0.9356722714488168,0.9352134346406892,0.9357803111547591,0.9367123869341845,0.9372957920667678,0.9372036332816958,0.9378817232555001,0.9372609507222099,0.9387750784380982,0.9381053516478394,0.9383108790901368,0.9387453966239929,0.9380637101749189,0.9378955281762856,0.9373446547372153,0.9377474223240784],\"yaxis\":\"y5\",\"type\":\"scatter\"},{\"hovertemplate\":\"variable=features_4_leaf_5<br>Trees=%{x}<br>value=%{y}<extra></extra>\",\"legendgroup\":\"features_4_leaf_5\",\"line\":{\"color\":\"#ab63fa\",\"dash\":\"solid\"},\"marker\":{\"symbol\":\"circle\"},\"mode\":\"lines\",\"name\":\"features_4_leaf_5\",\"orientation\":\"v\",\"showlegend\":true,\"x\":[1,3,5,7,9,11,13,15,17,19,21,23,25,27,29,31,33,35,37,39,41,43,45,47,49],\"xaxis\":\"x5\",\"y\":[0.845975385072663,0.9015504631997168,0.9234787735145845,0.9285685939758522,0.93120214219671,0.9342857183844465,0.9407530486416971,0.943493818860708,0.9439752931481392,0.943348073195101,0.94541755746595,0.9475429650913163,0.9498158937154695,0.9491169804795575,0.9487164319269418,0.9487107258917022,0.9489326322342624,0.9491140723136656,0.9486938054648645,0.9488534435768632,0.9477805387987528,0.947729032391082,0.9475784896587538,0.9471752463183168,0.947906156476345],\"yaxis\":\"y5\",\"type\":\"scatter\"},{\"hovertemplate\":\"variable=features_5_leaf_5<br>Trees=%{x}<br>value=%{y}<extra></extra>\",\"legendgroup\":\"features_5_leaf_5\",\"line\":{\"color\":\"#FFA15A\",\"dash\":\"solid\"},\"marker\":{\"symbol\":\"circle\"},\"mode\":\"lines\",\"name\":\"features_5_leaf_5\",\"orientation\":\"v\",\"showlegend\":true,\"x\":[1,3,5,7,9,11,13,15,17,19,21,23,25,27,29,31,33,35,37,39,41,43,45,47,49],\"xaxis\":\"x5\",\"y\":[0.854017252843834,0.8936968577388511,0.9245615394115132,0.9380999483289431,0.9414093168273479,0.9437767907170521,0.9464496608815214,0.948598575463025,0.9485392583271548,0.9482996353034119,0.9484302769911732,0.9489750019865589,0.9497474834413013,0.9503827193637733,0.9512165023782504,0.9508918398200384,0.9510110077649097,0.9515445234991322,0.9520048517768929,0.9524240714824771,0.9520222426048324,0.9522211860821967,0.9523997190382879,0.952142535991338,0.9527345161574923],\"yaxis\":\"y5\",\"type\":\"scatter\"},{\"hovertemplate\":\"variable=features_6_leaf_5<br>Trees=%{x}<br>value=%{y}<extra></extra>\",\"legendgroup\":\"features_6_leaf_5\",\"line\":{\"color\":\"#19d3f3\",\"dash\":\"solid\"},\"marker\":{\"symbol\":\"circle\"},\"mode\":\"lines\",\"name\":\"features_6_leaf_5\",\"orientation\":\"v\",\"showlegend\":true,\"x\":[1,3,5,7,9,11,13,15,17,19,21,23,25,27,29,31,33,35,37,39,41,43,45,47,49],\"xaxis\":\"x5\",\"y\":[0.912663856101204,0.941148173199182,0.947591270920322,0.9511809281766304,0.9516156989221031,0.9545196562594708,0.9557699356171696,0.9559386441350508,0.9559921682687895,0.9552193419290008,0.9560505536486378,0.9563027556830219,0.9566842996189594,0.9561360663186749,0.9551228772500628,0.9558381803777241,0.9555772985952954,0.9559505283167973,0.9557493819165556,0.9556428444114516,0.9557438939047754,0.9553743387571929,0.9557668724193089,0.9554188874186288,0.9557001263187175],\"yaxis\":\"y5\",\"type\":\"scatter\"},{\"hovertemplate\":\"variable=features_7_leaf_5<br>Trees=%{x}<br>value=%{y}<extra></extra>\",\"legendgroup\":\"features_7_leaf_5\",\"line\":{\"color\":\"#FF6692\",\"dash\":\"solid\"},\"marker\":{\"symbol\":\"circle\"},\"mode\":\"lines\",\"name\":\"features_7_leaf_5\",\"orientation\":\"v\",\"showlegend\":true,\"x\":[1,3,5,7,9,11,13,15,17,19,21,23,25,27,29,31,33,35,37,39,41,43,45,47,49],\"xaxis\":\"x5\",\"y\":[0.911817866476663,0.9267677894511026,0.9430992485480891,0.9500699424628086,0.9526499129999282,0.9557465656220181,0.9576669232980635,0.9581716929374726,0.9583236887723778,0.958941387815827,0.9589489434001747,0.957333310512993,0.9576509509162964,0.957270174007291,0.9570439863270043,0.9563928295984783,0.9561036726794004,0.9563077388049852,0.9565925155700968,0.9568627120325702,0.957070494687577,0.9577735851688356,0.9581054826718238,0.9575564129617945,0.9578823552949822],\"yaxis\":\"y5\",\"type\":\"scatter\"},{\"hovertemplate\":\"variable=features_8_leaf_5<br>Trees=%{x}<br>value=%{y}<extra></extra>\",\"legendgroup\":\"features_8_leaf_5\",\"line\":{\"color\":\"#B6E880\",\"dash\":\"solid\"},\"marker\":{\"symbol\":\"circle\"},\"mode\":\"lines\",\"name\":\"features_8_leaf_5\",\"orientation\":\"v\",\"showlegend\":true,\"x\":[1,3,5,7,9,11,13,15,17,19,21,23,25,27,29,31,33,35,37,39,41,43,45,47,49],\"xaxis\":\"x5\",\"y\":[0.8940350934191607,0.9418736193988708,0.9479690585429719,0.9533622878233302,0.954392544962791,0.95799331247577,0.9591243334004356,0.9602931124551389,0.9600172967202643,0.9596217664659041,0.9603457050029537,0.9602036371225777,0.9611033365720287,0.9602644979252523,0.9601307284205614,0.9602831622111963,0.9597922665987737,0.9599931251929206,0.9590887607377901,0.9589373977047139,0.9592253003131862,0.9593154577321942,0.9595298074445697,0.9592641456188377,0.9597196969986778],\"yaxis\":\"y5\",\"type\":\"scatter\"},{\"hovertemplate\":\"variable=features_9_leaf_5<br>Trees=%{x}<br>value=%{y}<extra></extra>\",\"legendgroup\":\"features_9_leaf_5\",\"line\":{\"color\":\"#FF97FF\",\"dash\":\"solid\"},\"marker\":{\"symbol\":\"circle\"},\"mode\":\"lines\",\"name\":\"features_9_leaf_5\",\"orientation\":\"v\",\"showlegend\":true,\"x\":[1,3,5,7,9,11,13,15,17,19,21,23,25,27,29,31,33,35,37,39,41,43,45,47,49],\"xaxis\":\"x5\",\"y\":[0.9121330791887159,0.9490005162462675,0.9512865862493092,0.9573043812077223,0.9586164148307565,0.9592898759657358,0.960808755848231,0.960564361039878,0.9599291406353494,0.9595889598388345,0.9600674372597359,0.9595227562917342,0.9603350882103576,0.9612323522877728,0.9612094288914921,0.9606961774995643,0.961053636897752,0.9614563801608347,0.961279972726136,0.9609173182115779,0.9605572495576306,0.960741045446724,0.9606546403188899,0.9602629863138127,0.9605421093531108],\"yaxis\":\"y5\",\"type\":\"scatter\"},{\"hovertemplate\":\"variable=features_10_leaf_5<br>Trees=%{x}<br>value=%{y}<extra></extra>\",\"legendgroup\":\"features_10_leaf_5\",\"line\":{\"color\":\"#FECB52\",\"dash\":\"solid\"},\"marker\":{\"symbol\":\"circle\"},\"mode\":\"lines\",\"name\":\"features_10_leaf_5\",\"orientation\":\"v\",\"showlegend\":true,\"x\":[1,3,5,7,9,11,13,15,17,19,21,23,25,27,29,31,33,35,37,39,41,43,45,47,49],\"xaxis\":\"x5\",\"y\":[0.9172487199597826,0.9451423272650128,0.9500852418401424,0.9522654678279023,0.9550622206060746,0.9578894305907835,0.9594484068078895,0.9598114846445303,0.9596987682934021,0.9590745795083226,0.9597434631641075,0.9597228210093507,0.9601328089345758,0.9599273845515264,0.9604703228662862,0.9600530056825308,0.9597363762037062,0.959757505458138,0.9597686195181077,0.9594693068941048,0.9596513978282817,0.9597347966468532,0.9601295310877076,0.9598433938608351,0.9602555870353028],\"yaxis\":\"y5\",\"type\":\"scatter\"},{\"hovertemplate\":\"variable=features_1_leaf_6<br>Trees=%{x}<br>value=%{y}<extra></extra>\",\"legendgroup\":\"features_1_leaf_6\",\"line\":{\"color\":\"#636efa\",\"dash\":\"solid\"},\"marker\":{\"symbol\":\"circle\"},\"mode\":\"lines\",\"name\":\"features_1_leaf_6\",\"orientation\":\"v\",\"showlegend\":true,\"x\":[1,3,5,7,9,11,13,15,17,19,21,23,25,27,29,31,33,35,37,39,41,43,45,47,49],\"xaxis\":\"x6\",\"y\":[0.7137626554434312,0.8390812267878823,0.8655040928469214,0.8840045165909889,0.8784335037462887,0.8860227222976883,0.8895142749171905,0.890957484522564,0.8908861045062919,0.8931965429162514,0.8965192504077253,0.8959791961371627,0.8950488488788165,0.8967001888133483,0.8961453408974341,0.8991601267564754,0.899324118106744,0.899938976224373,0.900449256491575,0.8997195987169114,0.899412319336372,0.8967851037877235,0.8966741666288307,0.8964759023130006,0.897009654317898],\"yaxis\":\"y6\",\"type\":\"scatter\"},{\"hovertemplate\":\"variable=features_2_leaf_6<br>Trees=%{x}<br>value=%{y}<extra></extra>\",\"legendgroup\":\"features_2_leaf_6\",\"line\":{\"color\":\"#EF553B\",\"dash\":\"solid\"},\"marker\":{\"symbol\":\"circle\"},\"mode\":\"lines\",\"name\":\"features_2_leaf_6\",\"orientation\":\"v\",\"showlegend\":true,\"x\":[1,3,5,7,9,11,13,15,17,19,21,23,25,27,29,31,33,35,37,39,41,43,45,47,49],\"xaxis\":\"x6\",\"y\":[0.8404192679557569,0.8987459573884349,0.9139881753956507,0.9175039011183014,0.9190157920595248,0.9169280164374264,0.9208014702452578,0.9243215080076359,0.9262932470199964,0.9285521183549854,0.9290300851479107,0.9282543367442273,0.9278478784195748,0.9269505612960633,0.9262205964711363,0.926193775825172,0.926633577361993,0.928768991829954,0.929182026766715,0.9286449674938192,0.9276135402812992,0.927250888036489,0.9271867459429473,0.9272888293930786,0.9273271168474198],\"yaxis\":\"y6\",\"type\":\"scatter\"},{\"hovertemplate\":\"variable=features_3_leaf_6<br>Trees=%{x}<br>value=%{y}<extra></extra>\",\"legendgroup\":\"features_3_leaf_6\",\"line\":{\"color\":\"#00cc96\",\"dash\":\"solid\"},\"marker\":{\"symbol\":\"circle\"},\"mode\":\"lines\",\"name\":\"features_3_leaf_6\",\"orientation\":\"v\",\"showlegend\":true,\"x\":[1,3,5,7,9,11,13,15,17,19,21,23,25,27,29,31,33,35,37,39,41,43,45,47,49],\"xaxis\":\"x6\",\"y\":[0.8255209732666449,0.884716699589782,0.9092485099020642,0.9203029665721395,0.9230365330561392,0.9277996253220533,0.931975449909291,0.9324242476427977,0.9313829130614988,0.9349938045013643,0.9353304422604447,0.9359691741585818,0.9360280552380387,0.9356755343680903,0.9356566488036286,0.9366227620572308,0.9356127137230157,0.9363628717613404,0.9360770910227767,0.936399623463716,0.9366061015309011,0.9359337607015463,0.9360741222117429,0.9357374241706834,0.9362273691353369],\"yaxis\":\"y6\",\"type\":\"scatter\"},{\"hovertemplate\":\"variable=features_4_leaf_6<br>Trees=%{x}<br>value=%{y}<extra></extra>\",\"legendgroup\":\"features_4_leaf_6\",\"line\":{\"color\":\"#ab63fa\",\"dash\":\"solid\"},\"marker\":{\"symbol\":\"circle\"},\"mode\":\"lines\",\"name\":\"features_4_leaf_6\",\"orientation\":\"v\",\"showlegend\":true,\"x\":[1,3,5,7,9,11,13,15,17,19,21,23,25,27,29,31,33,35,37,39,41,43,45,47,49],\"xaxis\":\"x6\",\"y\":[0.8506842616894676,0.8976035733887162,0.919850686692436,0.9267237093755833,0.9286146846019097,0.9304280986928551,0.9360478523459254,0.9392504273735183,0.9398863542910719,0.9397540937946859,0.9407195679092657,0.9430628315295195,0.9442281081770755,0.9439169105920989,0.9439061171165595,0.9446538401734449,0.9457296845938685,0.9461048899658591,0.9454645302581289,0.9458371735053988,0.9447561831736568,0.9443716351143285,0.9443630591587733,0.9440289325570841,0.9442539135745569],\"yaxis\":\"y6\",\"type\":\"scatter\"},{\"hovertemplate\":\"variable=features_5_leaf_6<br>Trees=%{x}<br>value=%{y}<extra></extra>\",\"legendgroup\":\"features_5_leaf_6\",\"line\":{\"color\":\"#FFA15A\",\"dash\":\"solid\"},\"marker\":{\"symbol\":\"circle\"},\"mode\":\"lines\",\"name\":\"features_5_leaf_6\",\"orientation\":\"v\",\"showlegend\":true,\"x\":[1,3,5,7,9,11,13,15,17,19,21,23,25,27,29,31,33,35,37,39,41,43,45,47,49],\"xaxis\":\"x6\",\"y\":[0.8527415335656257,0.9029924659712718,0.929437942955593,0.9387932791769842,0.9416080371652849,0.9422224282232984,0.9437563087508867,0.946426000631502,0.9463990697427832,0.9471189991337671,0.9479407517934171,0.9473280781898934,0.9486509018819815,0.9483647308723784,0.9494748073182796,0.9480442657861617,0.9476022749123357,0.9483185433473686,0.9487985890573187,0.9493500569424068,0.94900489639491,0.9491347568452732,0.9492853040144681,0.9492376735865544,0.9497429090133004],\"yaxis\":\"y6\",\"type\":\"scatter\"},{\"hovertemplate\":\"variable=features_6_leaf_6<br>Trees=%{x}<br>value=%{y}<extra></extra>\",\"legendgroup\":\"features_6_leaf_6\",\"line\":{\"color\":\"#19d3f3\",\"dash\":\"solid\"},\"marker\":{\"symbol\":\"circle\"},\"mode\":\"lines\",\"name\":\"features_6_leaf_6\",\"orientation\":\"v\",\"showlegend\":true,\"x\":[1,3,5,7,9,11,13,15,17,19,21,23,25,27,29,31,33,35,37,39,41,43,45,47,49],\"xaxis\":\"x6\",\"y\":[0.9021248428500641,0.9397850741739088,0.9471803830168399,0.9502990771241986,0.9502399960967433,0.951015265050857,0.9526999546637022,0.9542670099218785,0.9539647314238863,0.9534576354098763,0.9545757475575499,0.9553470931604862,0.9561682980277688,0.9557732360971615,0.955355769150781,0.9557014127028255,0.9550666863593931,0.955488301538313,0.955188106789187,0.9547010749221532,0.9547719675512975,0.9543505904222769,0.9547743787753324,0.9544813767880251,0.9545343216179563],\"yaxis\":\"y6\",\"type\":\"scatter\"},{\"hovertemplate\":\"variable=features_7_leaf_6<br>Trees=%{x}<br>value=%{y}<extra></extra>\",\"legendgroup\":\"features_7_leaf_6\",\"line\":{\"color\":\"#FF6692\",\"dash\":\"solid\"},\"marker\":{\"symbol\":\"circle\"},\"mode\":\"lines\",\"name\":\"features_7_leaf_6\",\"orientation\":\"v\",\"showlegend\":true,\"x\":[1,3,5,7,9,11,13,15,17,19,21,23,25,27,29,31,33,35,37,39,41,43,45,47,49],\"xaxis\":\"x6\",\"y\":[0.9177410405761395,0.9290629390547085,0.9433348198417957,0.9504914642404184,0.9521131710995716,0.9540070312098674,0.9545569909631884,0.956395095424084,0.956550004281113,0.9567741218611419,0.956523681987336,0.955606395569428,0.9555807119883848,0.9558330951528087,0.9558146698396508,0.9555008200956241,0.9549372293158731,0.9549723725778405,0.9549104531872373,0.954645788936477,0.9545598144328915,0.9548778565328698,0.9554109530331221,0.9552881490925225,0.9554718622941104],\"yaxis\":\"y6\",\"type\":\"scatter\"},{\"hovertemplate\":\"variable=features_8_leaf_6<br>Trees=%{x}<br>value=%{y}<extra></extra>\",\"legendgroup\":\"features_8_leaf_6\",\"line\":{\"color\":\"#B6E880\",\"dash\":\"solid\"},\"marker\":{\"symbol\":\"circle\"},\"mode\":\"lines\",\"name\":\"features_8_leaf_6\",\"orientation\":\"v\",\"showlegend\":true,\"x\":[1,3,5,7,9,11,13,15,17,19,21,23,25,27,29,31,33,35,37,39,41,43,45,47,49],\"xaxis\":\"x6\",\"y\":[0.8965712218592474,0.9416279554911389,0.9489758251990145,0.9533450301937283,0.9549696864481534,0.9579170803991832,0.9591171888805355,0.9592317232636216,0.9589297807429211,0.9592823520342082,0.9599249242370185,0.9601006736450071,0.960376495180044,0.9591244224431849,0.9587565893482622,0.9591053393522287,0.9584786969603499,0.9586422856974245,0.9577315423872447,0.9576013802204958,0.9579566704389526,0.958285150408446,0.9583587925840389,0.9582990954224908,0.9587073284030788],\"yaxis\":\"y6\",\"type\":\"scatter\"},{\"hovertemplate\":\"variable=features_9_leaf_6<br>Trees=%{x}<br>value=%{y}<extra></extra>\",\"legendgroup\":\"features_9_leaf_6\",\"line\":{\"color\":\"#FF97FF\",\"dash\":\"solid\"},\"marker\":{\"symbol\":\"circle\"},\"mode\":\"lines\",\"name\":\"features_9_leaf_6\",\"orientation\":\"v\",\"showlegend\":true,\"x\":[1,3,5,7,9,11,13,15,17,19,21,23,25,27,29,31,33,35,37,39,41,43,45,47,49],\"xaxis\":\"x6\",\"y\":[0.9179977118882409,0.947157370397569,0.9496976398791552,0.9530117115184208,0.9546951437466997,0.9562184230497748,0.957887702733497,0.9579974290273101,0.9577118836415888,0.957063577051471,0.958136849109412,0.9581526647909906,0.9590480758609822,0.9600192444191057,0.9601644075219966,0.9596937822673889,0.9595263227624203,0.9599764381343823,0.9596200744993034,0.9592601794391635,0.9590247393399096,0.959469155059551,0.9594218688192514,0.9592932056240535,0.9596806342465731],\"yaxis\":\"y6\",\"type\":\"scatter\"},{\"hovertemplate\":\"variable=features_10_leaf_6<br>Trees=%{x}<br>value=%{y}<extra></extra>\",\"legendgroup\":\"features_10_leaf_6\",\"line\":{\"color\":\"#FECB52\",\"dash\":\"solid\"},\"marker\":{\"symbol\":\"circle\"},\"mode\":\"lines\",\"name\":\"features_10_leaf_6\",\"orientation\":\"v\",\"showlegend\":true,\"x\":[1,3,5,7,9,11,13,15,17,19,21,23,25,27,29,31,33,35,37,39,41,43,45,47,49],\"xaxis\":\"x6\",\"y\":[0.9168207315731116,0.9418608490250732,0.9472990974612413,0.9505550018732238,0.9517213533281597,0.9549650496957952,0.956357750047952,0.9589317862755322,0.958632919961668,0.9578005414526258,0.9583073433923103,0.9580154203107825,0.958631822983342,0.9580224682805116,0.9585215643874989,0.9583451409314707,0.9580839611830443,0.9584099378239204,0.9586066220886229,0.9586875835761448,0.9584164515785272,0.9586469711085609,0.9589130612261016,0.958649090877566,0.9588788209820749],\"yaxis\":\"y6\",\"type\":\"scatter\"},{\"hovertemplate\":\"variable=features_1_leaf_7<br>Trees=%{x}<br>value=%{y}<extra></extra>\",\"legendgroup\":\"features_1_leaf_7\",\"line\":{\"color\":\"#636efa\",\"dash\":\"solid\"},\"marker\":{\"symbol\":\"circle\"},\"mode\":\"lines\",\"name\":\"features_1_leaf_7\",\"orientation\":\"v\",\"showlegend\":true,\"x\":[1,3,5,7,9,11,13,15,17,19,21,23,25,27,29,31,33,35,37,39,41,43,45,47,49],\"xaxis\":\"x7\",\"y\":[0.7260570405293162,0.8175677055005645,0.8477835629827764,0.8719261161792027,0.8735027538001978,0.8796853480036015,0.8813528621638611,0.8838030736710774,0.8844060020912842,0.8884526786137947,0.8923762741417182,0.8920931003632482,0.89179051207995,0.89296112093859,0.8916954853197823,0.8940963057824323,0.8935861373735051,0.8955366669230704,0.8961041400354477,0.8959305288730619,0.8949621903565091,0.8919850468429237,0.8922158544498011,0.8918398304541416,0.8919362978143391],\"yaxis\":\"y7\",\"type\":\"scatter\"},{\"hovertemplate\":\"variable=features_2_leaf_7<br>Trees=%{x}<br>value=%{y}<extra></extra>\",\"legendgroup\":\"features_2_leaf_7\",\"line\":{\"color\":\"#EF553B\",\"dash\":\"solid\"},\"marker\":{\"symbol\":\"circle\"},\"mode\":\"lines\",\"name\":\"features_2_leaf_7\",\"orientation\":\"v\",\"showlegend\":true,\"x\":[1,3,5,7,9,11,13,15,17,19,21,23,25,27,29,31,33,35,37,39,41,43,45,47,49],\"xaxis\":\"x7\",\"y\":[0.8421790420880203,0.8884552785523654,0.9062765023910085,0.9084932791864047,0.9106662304289935,0.9087169249925898,0.9132394054379652,0.9170201264170663,0.9196503795245728,0.9232799214539591,0.9228402815523662,0.9231884227660785,0.9225913037208631,0.921628859845079,0.9209468247648115,0.9211507182377112,0.9209857574543389,0.9224435016494377,0.923159253558288,0.9232908363315777,0.9219821741327902,0.9213363887345135,0.9214591190858178,0.9219720364350991,0.9220483633743465],\"yaxis\":\"y7\",\"type\":\"scatter\"},{\"hovertemplate\":\"variable=features_3_leaf_7<br>Trees=%{x}<br>value=%{y}<extra></extra>\",\"legendgroup\":\"features_3_leaf_7\",\"line\":{\"color\":\"#00cc96\",\"dash\":\"solid\"},\"marker\":{\"symbol\":\"circle\"},\"mode\":\"lines\",\"name\":\"features_3_leaf_7\",\"orientation\":\"v\",\"showlegend\":true,\"x\":[1,3,5,7,9,11,13,15,17,19,21,23,25,27,29,31,33,35,37,39,41,43,45,47,49],\"xaxis\":\"x7\",\"y\":[0.7888349948778406,0.8843041538730425,0.9110987261423208,0.9177571044335642,0.9219443546588361,0.9285828526246569,0.932576437727022,0.9331950344682782,0.9331369442845899,0.9365540779507434,0.9365611114522286,0.9366463462590563,0.9359964246594579,0.9354506820555806,0.9354394648630537,0.9368727889611886,0.935949702627234,0.9365975759961456,0.9361470264954722,0.9362993415709863,0.935588426473206,0.9353892042754947,0.9352608254963952,0.9347138770443285,0.9351188884338114],\"yaxis\":\"y7\",\"type\":\"scatter\"},{\"hovertemplate\":\"variable=features_4_leaf_7<br>Trees=%{x}<br>value=%{y}<extra></extra>\",\"legendgroup\":\"features_4_leaf_7\",\"line\":{\"color\":\"#ab63fa\",\"dash\":\"solid\"},\"marker\":{\"symbol\":\"circle\"},\"mode\":\"lines\",\"name\":\"features_4_leaf_7\",\"orientation\":\"v\",\"showlegend\":true,\"x\":[1,3,5,7,9,11,13,15,17,19,21,23,25,27,29,31,33,35,37,39,41,43,45,47,49],\"xaxis\":\"x7\",\"y\":[0.8520769238972494,0.8988351499063427,0.9168984352017866,0.9231901341316264,0.925449626053747,0.9263089839679264,0.9309154321094013,0.935052264258035,0.9361819739427466,0.9357895920065982,0.9373775363073156,0.9395960418968319,0.9410016148742424,0.9408083202397688,0.9406404059110554,0.9414718682751649,0.9414786616251355,0.9421983355643491,0.9416455912374356,0.9418306244430401,0.9409773411461769,0.9405777646742898,0.9403329815142081,0.9398167079586977,0.9400713169069286],\"yaxis\":\"y7\",\"type\":\"scatter\"},{\"hovertemplate\":\"variable=features_5_leaf_7<br>Trees=%{x}<br>value=%{y}<extra></extra>\",\"legendgroup\":\"features_5_leaf_7\",\"line\":{\"color\":\"#FFA15A\",\"dash\":\"solid\"},\"marker\":{\"symbol\":\"circle\"},\"mode\":\"lines\",\"name\":\"features_5_leaf_7\",\"orientation\":\"v\",\"showlegend\":true,\"x\":[1,3,5,7,9,11,13,15,17,19,21,23,25,27,29,31,33,35,37,39,41,43,45,47,49],\"xaxis\":\"x7\",\"y\":[0.855643427134986,0.8965803602499844,0.921779830626553,0.9341562279330471,0.9364875705322391,0.9380724568887701,0.9393891918336967,0.9438160139926575,0.9435195081404302,0.9426139960678255,0.9443670699409461,0.9448242083081178,0.9455498281725674,0.945780214036466,0.9460024891579131,0.9455067651267524,0.9455401502642058,0.9457785200502293,0.9463525270485293,0.9468550636782792,0.9460722336195536,0.9464382204992182,0.9468670719979869,0.9466307468865185,0.9470692944669418],\"yaxis\":\"y7\",\"type\":\"scatter\"},{\"hovertemplate\":\"variable=features_6_leaf_7<br>Trees=%{x}<br>value=%{y}<extra></extra>\",\"legendgroup\":\"features_6_leaf_7\",\"line\":{\"color\":\"#19d3f3\",\"dash\":\"solid\"},\"marker\":{\"symbol\":\"circle\"},\"mode\":\"lines\",\"name\":\"features_6_leaf_7\",\"orientation\":\"v\",\"showlegend\":true,\"x\":[1,3,5,7,9,11,13,15,17,19,21,23,25,27,29,31,33,35,37,39,41,43,45,47,49],\"xaxis\":\"x7\",\"y\":[0.8979631565903027,0.9358561446689009,0.9430636451452038,0.9466508366711421,0.9457081373962224,0.9467990954076386,0.9479190824501524,0.9484650388056769,0.9495553168354999,0.9496544190505742,0.9502216952593496,0.9507526363508214,0.9520043874392474,0.9515863738478163,0.9507811547926994,0.951127232408574,0.9504199580521971,0.9509300240086972,0.9507755731683407,0.9508083348254068,0.9510306642662837,0.9503441134115349,0.9509872317640499,0.9506678017754737,0.9508064319911046],\"yaxis\":\"y7\",\"type\":\"scatter\"},{\"hovertemplate\":\"variable=features_7_leaf_7<br>Trees=%{x}<br>value=%{y}<extra></extra>\",\"legendgroup\":\"features_7_leaf_7\",\"line\":{\"color\":\"#FF6692\",\"dash\":\"solid\"},\"marker\":{\"symbol\":\"circle\"},\"mode\":\"lines\",\"name\":\"features_7_leaf_7\",\"orientation\":\"v\",\"showlegend\":true,\"x\":[1,3,5,7,9,11,13,15,17,19,21,23,25,27,29,31,33,35,37,39,41,43,45,47,49],\"xaxis\":\"x7\",\"y\":[0.9215845771060828,0.9316810301594316,0.9454778947909125,0.952421516611083,0.9536208506784101,0.9556468842851313,0.955599208444705,0.9559289500688648,0.9558802762879994,0.9556195831196186,0.9553596298111078,0.95462462016544,0.9549363334761367,0.9541698374112988,0.9537645359277859,0.9535155452337436,0.9529501156898798,0.9530479342712546,0.9532017848507619,0.9529109965777529,0.9526247971942464,0.9529802566634407,0.9535893491759427,0.953426391463865,0.9535978829760511],\"yaxis\":\"y7\",\"type\":\"scatter\"},{\"hovertemplate\":\"variable=features_8_leaf_7<br>Trees=%{x}<br>value=%{y}<extra></extra>\",\"legendgroup\":\"features_8_leaf_7\",\"line\":{\"color\":\"#B6E880\",\"dash\":\"solid\"},\"marker\":{\"symbol\":\"circle\"},\"mode\":\"lines\",\"name\":\"features_8_leaf_7\",\"orientation\":\"v\",\"showlegend\":true,\"x\":[1,3,5,7,9,11,13,15,17,19,21,23,25,27,29,31,33,35,37,39,41,43,45,47,49],\"xaxis\":\"x7\",\"y\":[0.8859453453341877,0.9395858353693842,0.9470065618088114,0.9518817927576884,0.9513271088032391,0.9546765969460422,0.9565784523228531,0.9575751396602097,0.9571494868830126,0.9571523150772183,0.9576589440374306,0.9575685598735507,0.9582841884455139,0.9574431095998757,0.9576219835217218,0.9578905907743481,0.9571751534701789,0.9574577655402343,0.9571530410909086,0.9567123491339187,0.9570295457029128,0.957194161977872,0.9573047066927073,0.9569704248260639,0.9574343901460024],\"yaxis\":\"y7\",\"type\":\"scatter\"},{\"hovertemplate\":\"variable=features_9_leaf_7<br>Trees=%{x}<br>value=%{y}<extra></extra>\",\"legendgroup\":\"features_9_leaf_7\",\"line\":{\"color\":\"#FF97FF\",\"dash\":\"solid\"},\"marker\":{\"symbol\":\"circle\"},\"mode\":\"lines\",\"name\":\"features_9_leaf_7\",\"orientation\":\"v\",\"showlegend\":true,\"x\":[1,3,5,7,9,11,13,15,17,19,21,23,25,27,29,31,33,35,37,39,41,43,45,47,49],\"xaxis\":\"x7\",\"y\":[0.9280343947450715,0.946991031073533,0.9517628814698817,0.9553581099323181,0.9566447359801474,0.9577759325444705,0.9590586090590631,0.9593241932578837,0.9588715992149277,0.9588077949976302,0.9589982567100984,0.958495013767801,0.9590607354458871,0.9596494486850558,0.9593632056850911,0.958729864007308,0.9585399728484658,0.9590469109661927,0.9587811061052982,0.9580867807844718,0.9576507118936355,0.9578534559748254,0.9576238415582642,0.9575981511024478,0.9580116820289051],\"yaxis\":\"y7\",\"type\":\"scatter\"},{\"hovertemplate\":\"variable=features_10_leaf_7<br>Trees=%{x}<br>value=%{y}<extra></extra>\",\"legendgroup\":\"features_10_leaf_7\",\"line\":{\"color\":\"#FECB52\",\"dash\":\"solid\"},\"marker\":{\"symbol\":\"circle\"},\"mode\":\"lines\",\"name\":\"features_10_leaf_7\",\"orientation\":\"v\",\"showlegend\":true,\"x\":[1,3,5,7,9,11,13,15,17,19,21,23,25,27,29,31,33,35,37,39,41,43,45,47,49],\"xaxis\":\"x7\",\"y\":[0.9143545156359648,0.9400303733110779,0.9463213287717313,0.947928906426853,0.9503674711403377,0.9540139094319224,0.9564734030792762,0.9572744662682062,0.9572251103942699,0.957394686396557,0.9582214823130002,0.9576713754445556,0.9585828591932067,0.9578780221063121,0.9582894160752751,0.9577675505647036,0.957590111727766,0.9576121498090486,0.9576934717725969,0.95753845450455,0.9571247773454779,0.9572174461698685,0.9575202408224701,0.9571731839937551,0.9575907344221767],\"yaxis\":\"y7\",\"type\":\"scatter\"},{\"hovertemplate\":\"variable=features_1_leaf_8<br>Trees=%{x}<br>value=%{y}<extra></extra>\",\"legendgroup\":\"features_1_leaf_8\",\"line\":{\"color\":\"#636efa\",\"dash\":\"solid\"},\"marker\":{\"symbol\":\"circle\"},\"mode\":\"lines\",\"name\":\"features_1_leaf_8\",\"orientation\":\"v\",\"showlegend\":true,\"x\":[1,3,5,7,9,11,13,15,17,19,21,23,25,27,29,31,33,35,37,39,41,43,45,47,49],\"xaxis\":\"x8\",\"y\":[0.7235920882215321,0.8093057118025575,0.8460173014986271,0.8661771038048514,0.8693330052476881,0.8742510785639255,0.8745523596611567,0.8760177817179639,0.8779427368459312,0.8834461660049229,0.8876087943625628,0.8869621413944829,0.8860249906833302,0.8868409282082244,0.8852053257654022,0.8869862491651542,0.8854486321424562,0.8874095999431143,0.8882193009553406,0.8888961652120033,0.8877891456858503,0.8847236036230891,0.8844195202440245,0.8839405677931312,0.8837691364721758],\"yaxis\":\"y8\",\"type\":\"scatter\"},{\"hovertemplate\":\"variable=features_2_leaf_8<br>Trees=%{x}<br>value=%{y}<extra></extra>\",\"legendgroup\":\"features_2_leaf_8\",\"line\":{\"color\":\"#EF553B\",\"dash\":\"solid\"},\"marker\":{\"symbol\":\"circle\"},\"mode\":\"lines\",\"name\":\"features_2_leaf_8\",\"orientation\":\"v\",\"showlegend\":true,\"x\":[1,3,5,7,9,11,13,15,17,19,21,23,25,27,29,31,33,35,37,39,41,43,45,47,49],\"xaxis\":\"x8\",\"y\":[0.8331525501515044,0.884543467371452,0.9016326344691862,0.9040502432981073,0.904657700229363,0.9028321583973655,0.9061538526382001,0.9104825101469199,0.913632781883409,0.9179072404394464,0.917846569574764,0.9183719617615147,0.9173809286155574,0.9162619381435613,0.9152779530712605,0.9159691232578933,0.9165581347038805,0.9185596608656812,0.9195054217257368,0.9194850981960435,0.9179237668328739,0.9166049898346925,0.9168562350623285,0.9170226013673695,0.9162100364194622],\"yaxis\":\"y8\",\"type\":\"scatter\"},{\"hovertemplate\":\"variable=features_3_leaf_8<br>Trees=%{x}<br>value=%{y}<extra></extra>\",\"legendgroup\":\"features_3_leaf_8\",\"line\":{\"color\":\"#00cc96\",\"dash\":\"solid\"},\"marker\":{\"symbol\":\"circle\"},\"mode\":\"lines\",\"name\":\"features_3_leaf_8\",\"orientation\":\"v\",\"showlegend\":true,\"x\":[1,3,5,7,9,11,13,15,17,19,21,23,25,27,29,31,33,35,37,39,41,43,45,47,49],\"xaxis\":\"x8\",\"y\":[0.805577622682056,0.8948511933507058,0.9107425627205196,0.9175127520281963,0.9204176312132926,0.9272209708809817,0.9307427722701014,0.9312251711839397,0.9312531032464035,0.9342548829551214,0.9344142454049198,0.9345117354148249,0.9343020313141371,0.9338791423109389,0.9340289233561097,0.9350871267304898,0.9341708529112157,0.9343103754293338,0.9337619884643933,0.9338362672326099,0.9327388115205618,0.9318215234306548,0.9313918101141679,0.9312002442027355,0.9315122830517757],\"yaxis\":\"y8\",\"type\":\"scatter\"},{\"hovertemplate\":\"variable=features_4_leaf_8<br>Trees=%{x}<br>value=%{y}<extra></extra>\",\"legendgroup\":\"features_4_leaf_8\",\"line\":{\"color\":\"#ab63fa\",\"dash\":\"solid\"},\"marker\":{\"symbol\":\"circle\"},\"mode\":\"lines\",\"name\":\"features_4_leaf_8\",\"orientation\":\"v\",\"showlegend\":true,\"x\":[1,3,5,7,9,11,13,15,17,19,21,23,25,27,29,31,33,35,37,39,41,43,45,47,49],\"xaxis\":\"x8\",\"y\":[0.8276292356036296,0.8965395246697003,0.9124658339163598,0.9164468326227293,0.9193559251875548,0.9199415968424602,0.9258582684913019,0.9319314588188463,0.9340720630198254,0.9354026772881225,0.9365629907630314,0.9380161458777604,0.9391160298369228,0.9388520386919763,0.9383750635887445,0.9392613836788156,0.9394022520600345,0.9397774369607029,0.9387605586431702,0.938444959886619,0.9375358555044183,0.9371758241028452,0.9366458507081452,0.9363380343555547,0.9369219356065137],\"yaxis\":\"y8\",\"type\":\"scatter\"},{\"hovertemplate\":\"variable=features_5_leaf_8<br>Trees=%{x}<br>value=%{y}<extra></extra>\",\"legendgroup\":\"features_5_leaf_8\",\"line\":{\"color\":\"#FFA15A\",\"dash\":\"solid\"},\"marker\":{\"symbol\":\"circle\"},\"mode\":\"lines\",\"name\":\"features_5_leaf_8\",\"orientation\":\"v\",\"showlegend\":true,\"x\":[1,3,5,7,9,11,13,15,17,19,21,23,25,27,29,31,33,35,37,39,41,43,45,47,49],\"xaxis\":\"x8\",\"y\":[0.8457512790633152,0.8927264246587482,0.917170122866547,0.9294796779417437,0.9306347685373151,0.9328915733843735,0.9368988005598305,0.9413308193760527,0.941740885430716,0.9403949022337104,0.9423725866297128,0.9425247516514048,0.9434866952425309,0.9441262214742222,0.9441404006462987,0.944159219083704,0.9442985597805726,0.944883455794599,0.9453366496675141,0.9460732065735591,0.9453907017556855,0.9459461631375383,0.9462323032119657,0.9456869801864697,0.9460715918090296],\"yaxis\":\"y8\",\"type\":\"scatter\"},{\"hovertemplate\":\"variable=features_6_leaf_8<br>Trees=%{x}<br>value=%{y}<extra></extra>\",\"legendgroup\":\"features_6_leaf_8\",\"line\":{\"color\":\"#19d3f3\",\"dash\":\"solid\"},\"marker\":{\"symbol\":\"circle\"},\"mode\":\"lines\",\"name\":\"features_6_leaf_8\",\"orientation\":\"v\",\"showlegend\":true,\"x\":[1,3,5,7,9,11,13,15,17,19,21,23,25,27,29,31,33,35,37,39,41,43,45,47,49],\"xaxis\":\"x8\",\"y\":[0.8976123587528952,0.9312770994375452,0.94207833247024,0.9456738194179058,0.944670235403591,0.9444981532173109,0.9464493750011236,0.9467934049826964,0.9476530605542587,0.9487302399279536,0.9494284380015818,0.9500981159531026,0.9512104070711975,0.9506477748610079,0.9490905636468667,0.9496951490690329,0.9490296561029545,0.9494167669675037,0.9493274929014778,0.9491681224026189,0.9495788063602472,0.9488517990796993,0.9492495953034545,0.9487603806913232,0.9492017641352302],\"yaxis\":\"y8\",\"type\":\"scatter\"},{\"hovertemplate\":\"variable=features_7_leaf_8<br>Trees=%{x}<br>value=%{y}<extra></extra>\",\"legendgroup\":\"features_7_leaf_8\",\"line\":{\"color\":\"#FF6692\",\"dash\":\"solid\"},\"marker\":{\"symbol\":\"circle\"},\"mode\":\"lines\",\"name\":\"features_7_leaf_8\",\"orientation\":\"v\",\"showlegend\":true,\"x\":[1,3,5,7,9,11,13,15,17,19,21,23,25,27,29,31,33,35,37,39,41,43,45,47,49],\"xaxis\":\"x8\",\"y\":[0.911474928258287,0.9274400268465367,0.9426543054428501,0.9507886123290266,0.9503033967941731,0.9524326087744717,0.9526074738779654,0.9523535279981186,0.9521545075763772,0.9530343101843043,0.9531791852420856,0.9521787336735503,0.9522497966793118,0.9517559687014485,0.9516211746776128,0.9513654196738311,0.950549681800261,0.9508220934629152,0.9509279235636654,0.9511556270306958,0.9510820635662185,0.9515452649075989,0.9523005195479793,0.9519709526214157,0.9521886767515747],\"yaxis\":\"y8\",\"type\":\"scatter\"},{\"hovertemplate\":\"variable=features_8_leaf_8<br>Trees=%{x}<br>value=%{y}<extra></extra>\",\"legendgroup\":\"features_8_leaf_8\",\"line\":{\"color\":\"#B6E880\",\"dash\":\"solid\"},\"marker\":{\"symbol\":\"circle\"},\"mode\":\"lines\",\"name\":\"features_8_leaf_8\",\"orientation\":\"v\",\"showlegend\":true,\"x\":[1,3,5,7,9,11,13,15,17,19,21,23,25,27,29,31,33,35,37,39,41,43,45,47,49],\"xaxis\":\"x8\",\"y\":[0.8748639644072883,0.9332309757128229,0.9421979935808729,0.9498597221750507,0.9489844440647073,0.9521530852885203,0.952807636443046,0.9542818980669768,0.9540977657707431,0.9544801657000483,0.9553052561202822,0.9551425053981781,0.9556141840756316,0.9547674016498802,0.9553945243535162,0.9557648032907995,0.9552080202593443,0.9555545394706041,0.9550325571766105,0.9548225821973609,0.9551848774882614,0.9552223949257685,0.9553720205314129,0.9550106431685466,0.9553851290818054],\"yaxis\":\"y8\",\"type\":\"scatter\"},{\"hovertemplate\":\"variable=features_9_leaf_8<br>Trees=%{x}<br>value=%{y}<extra></extra>\",\"legendgroup\":\"features_9_leaf_8\",\"line\":{\"color\":\"#FF97FF\",\"dash\":\"solid\"},\"marker\":{\"symbol\":\"circle\"},\"mode\":\"lines\",\"name\":\"features_9_leaf_8\",\"orientation\":\"v\",\"showlegend\":true,\"x\":[1,3,5,7,9,11,13,15,17,19,21,23,25,27,29,31,33,35,37,39,41,43,45,47,49],\"xaxis\":\"x8\",\"y\":[0.9206827280853327,0.9416388623008887,0.948882884986134,0.9520989346715932,0.9538913110466101,0.9541086086378234,0.9556570120487382,0.9563033463974581,0.9560950156972282,0.9551907268506934,0.9560782341269671,0.9554343365614395,0.9565966228151834,0.957168055313973,0.9569959875441494,0.9563054929347518,0.9561113642499117,0.9567174894410405,0.9564884540613457,0.9557528541926888,0.9551878957410903,0.955372457024569,0.9550849416211691,0.9548367901680258,0.9554946825980515],\"yaxis\":\"y8\",\"type\":\"scatter\"},{\"hovertemplate\":\"variable=features_10_leaf_8<br>Trees=%{x}<br>value=%{y}<extra></extra>\",\"legendgroup\":\"features_10_leaf_8\",\"line\":{\"color\":\"#FECB52\",\"dash\":\"solid\"},\"marker\":{\"symbol\":\"circle\"},\"mode\":\"lines\",\"name\":\"features_10_leaf_8\",\"orientation\":\"v\",\"showlegend\":true,\"x\":[1,3,5,7,9,11,13,15,17,19,21,23,25,27,29,31,33,35,37,39,41,43,45,47,49],\"xaxis\":\"x8\",\"y\":[0.9116279049151629,0.9293445595338028,0.9396879020367684,0.9460651481552105,0.9479058596066336,0.9507935995971513,0.9541773629526864,0.9559449374242579,0.9554538964500591,0.9554741743688961,0.9562784303372661,0.9555914036325317,0.9563244463848253,0.9554040566527681,0.9557770713608763,0.9549824007632541,0.9544259855201785,0.9544451145698218,0.9544772734987295,0.9543200418044373,0.9540401671026417,0.9541747626550009,0.9548848497109965,0.9543980607341295,0.95502373011049],\"yaxis\":\"y8\",\"type\":\"scatter\"},{\"hovertemplate\":\"variable=features_1_leaf_9<br>Trees=%{x}<br>value=%{y}<extra></extra>\",\"legendgroup\":\"features_1_leaf_9\",\"line\":{\"color\":\"#636efa\",\"dash\":\"solid\"},\"marker\":{\"symbol\":\"circle\"},\"mode\":\"lines\",\"name\":\"features_1_leaf_9\",\"orientation\":\"v\",\"showlegend\":true,\"x\":[1,3,5,7,9,11,13,15,17,19,21,23,25,27,29,31,33,35,37,39,41,43,45,47,49],\"xaxis\":\"x9\",\"y\":[0.6789235644158765,0.8080357534365395,0.8465510054211016,0.8609832558767719,0.8631506951993879,0.8666369396820727,0.865193652451345,0.8653767309659596,0.8685219088382656,0.8763407873809914,0.8804006945105349,0.8792554155315646,0.8788810032234311,0.8800953987999348,0.877314779674055,0.8795966838490392,0.8778593994985796,0.8796112181726494,0.8800684619197614,0.8798115838407256,0.8790295868553162,0.8763213674335895,0.876292400745378,0.8758282457332047,0.8758086511255204],\"yaxis\":\"y9\",\"type\":\"scatter\"},{\"hovertemplate\":\"variable=features_2_leaf_9<br>Trees=%{x}<br>value=%{y}<extra></extra>\",\"legendgroup\":\"features_2_leaf_9\",\"line\":{\"color\":\"#EF553B\",\"dash\":\"solid\"},\"marker\":{\"symbol\":\"circle\"},\"mode\":\"lines\",\"name\":\"features_2_leaf_9\",\"orientation\":\"v\",\"showlegend\":true,\"x\":[1,3,5,7,9,11,13,15,17,19,21,23,25,27,29,31,33,35,37,39,41,43,45,47,49],\"xaxis\":\"x9\",\"y\":[0.817927686209255,0.8778298866607676,0.897041897014681,0.8999363765238304,0.9008801541548379,0.8971467864109611,0.9004600039071228,0.9044760441565032,0.9080400884411943,0.9126313304247411,0.9129776940014145,0.9142617803784322,0.9135685234013053,0.9130745939878502,0.9118173765552919,0.9121590466142726,0.9124934189775967,0.9147953951521883,0.9153702291225164,0.915815642691008,0.9145128196949674,0.9141408290740738,0.9145644924687311,0.9144338424779852,0.9140445855704984],\"yaxis\":\"y9\",\"type\":\"scatter\"},{\"hovertemplate\":\"variable=features_3_leaf_9<br>Trees=%{x}<br>value=%{y}<extra></extra>\",\"legendgroup\":\"features_3_leaf_9\",\"line\":{\"color\":\"#00cc96\",\"dash\":\"solid\"},\"marker\":{\"symbol\":\"circle\"},\"mode\":\"lines\",\"name\":\"features_3_leaf_9\",\"orientation\":\"v\",\"showlegend\":true,\"x\":[1,3,5,7,9,11,13,15,17,19,21,23,25,27,29,31,33,35,37,39,41,43,45,47,49],\"xaxis\":\"x9\",\"y\":[0.8204120170249146,0.892685671530705,0.9080371221736577,0.9149005998968859,0.915316350224502,0.9215475537338707,0.9259458449925297,0.9248884122505912,0.924935689883832,0.9287629999758762,0.9283687605493691,0.928733325217616,0.9287711831544779,0.9280090131656283,0.9283512883574246,0.9294805519417844,0.9291177380972575,0.9293164085667073,0.9297243437628302,0.9297925241845416,0.9290331928750399,0.9280339788830811,0.9274944293944355,0.9277774510641251,0.9281968278449668],\"yaxis\":\"y9\",\"type\":\"scatter\"},{\"hovertemplate\":\"variable=features_4_leaf_9<br>Trees=%{x}<br>value=%{y}<extra></extra>\",\"legendgroup\":\"features_4_leaf_9\",\"line\":{\"color\":\"#ab63fa\",\"dash\":\"solid\"},\"marker\":{\"symbol\":\"circle\"},\"mode\":\"lines\",\"name\":\"features_4_leaf_9\",\"orientation\":\"v\",\"showlegend\":true,\"x\":[1,3,5,7,9,11,13,15,17,19,21,23,25,27,29,31,33,35,37,39,41,43,45,47,49],\"xaxis\":\"x9\",\"y\":[0.8251641673170115,0.8865070416469061,0.9087507269627046,0.9158962142239806,0.9178244247964276,0.9183548614083165,0.924714310137713,0.9304838499098622,0.9319475800643516,0.931827756486598,0.933347722666866,0.9355983789312404,0.936982107558374,0.9362253117619386,0.9353003893258304,0.9359397728136022,0.9364434477301767,0.9370887279004494,0.9357943771202717,0.9353430324183893,0.9345665459354094,0.9343529265672942,0.933633862900636,0.9335904805612705,0.9343637569232923],\"yaxis\":\"y9\",\"type\":\"scatter\"},{\"hovertemplate\":\"variable=features_5_leaf_9<br>Trees=%{x}<br>value=%{y}<extra></extra>\",\"legendgroup\":\"features_5_leaf_9\",\"line\":{\"color\":\"#FFA15A\",\"dash\":\"solid\"},\"marker\":{\"symbol\":\"circle\"},\"mode\":\"lines\",\"name\":\"features_5_leaf_9\",\"orientation\":\"v\",\"showlegend\":true,\"x\":[1,3,5,7,9,11,13,15,17,19,21,23,25,27,29,31,33,35,37,39,41,43,45,47,49],\"xaxis\":\"x9\",\"y\":[0.8478068936237557,0.8935316865082633,0.9178945467810168,0.9289620935701656,0.9298858470755345,0.9313222952064366,0.9356123046854308,0.9389784295181727,0.9377260682918701,0.9375215451126337,0.9382965343038517,0.9381613332231865,0.9394291859507403,0.9388587522297953,0.9390206890564003,0.9384940979911383,0.9381425344998604,0.9391079292494503,0.9397360107581241,0.9408435566119253,0.9402734885611451,0.9408085843588434,0.9412836919471855,0.9403994958929351,0.9406055478600427],\"yaxis\":\"y9\",\"type\":\"scatter\"},{\"hovertemplate\":\"variable=features_6_leaf_9<br>Trees=%{x}<br>value=%{y}<extra></extra>\",\"legendgroup\":\"features_6_leaf_9\",\"line\":{\"color\":\"#19d3f3\",\"dash\":\"solid\"},\"marker\":{\"symbol\":\"circle\"},\"mode\":\"lines\",\"name\":\"features_6_leaf_9\",\"orientation\":\"v\",\"showlegend\":true,\"x\":[1,3,5,7,9,11,13,15,17,19,21,23,25,27,29,31,33,35,37,39,41,43,45,47,49],\"xaxis\":\"x9\",\"y\":[0.9025257208510888,0.9259965017533258,0.9362923470212392,0.9394589823182296,0.9409406374035335,0.9416480634629784,0.9426014491632259,0.9428096662164828,0.9432764900783344,0.9448716565496668,0.9464848073372781,0.9471103204445999,0.9482365143567518,0.9473073031553281,0.9456965164277449,0.9466409101219178,0.9458563772652564,0.9463113153568944,0.9460295990759068,0.9456345313695437,0.9455982942524542,0.9450358552448546,0.9457552298163068,0.945270082258588,0.9457729978607994],\"yaxis\":\"y9\",\"type\":\"scatter\"},{\"hovertemplate\":\"variable=features_7_leaf_9<br>Trees=%{x}<br>value=%{y}<extra></extra>\",\"legendgroup\":\"features_7_leaf_9\",\"line\":{\"color\":\"#FF6692\",\"dash\":\"solid\"},\"marker\":{\"symbol\":\"circle\"},\"mode\":\"lines\",\"name\":\"features_7_leaf_9\",\"orientation\":\"v\",\"showlegend\":true,\"x\":[1,3,5,7,9,11,13,15,17,19,21,23,25,27,29,31,33,35,37,39,41,43,45,47,49],\"xaxis\":\"x9\",\"y\":[0.9020758737263982,0.9273168876228357,0.9427850381139329,0.9511689523241629,0.9509483165550627,0.9532537043505167,0.9531173525464969,0.9524484825059341,0.9515862876324933,0.9522506626154424,0.9521901491702855,0.9508556523849846,0.9508164728582116,0.9504823049289914,0.9503229545679733,0.9502194128798281,0.9492322026092715,0.9492046477951905,0.9491870614354134,0.9490283436034399,0.9485625329656155,0.9491201665659169,0.9500166766462066,0.9497661131156836,0.9498055103484517],\"yaxis\":\"y9\",\"type\":\"scatter\"},{\"hovertemplate\":\"variable=features_8_leaf_9<br>Trees=%{x}<br>value=%{y}<extra></extra>\",\"legendgroup\":\"features_8_leaf_9\",\"line\":{\"color\":\"#B6E880\",\"dash\":\"solid\"},\"marker\":{\"symbol\":\"circle\"},\"mode\":\"lines\",\"name\":\"features_8_leaf_9\",\"orientation\":\"v\",\"showlegend\":true,\"x\":[1,3,5,7,9,11,13,15,17,19,21,23,25,27,29,31,33,35,37,39,41,43,45,47,49],\"xaxis\":\"x9\",\"y\":[0.8623275406448826,0.9340285007131021,0.940522840558692,0.948329132225758,0.9476897460982915,0.9489841184803998,0.9501645415736784,0.9514467569259374,0.9514552660674805,0.9515364178221626,0.9528015604844742,0.9525891427704396,0.9530869962911032,0.9520080495031035,0.952629176804279,0.9530536864198135,0.9524536183852795,0.9527525736737822,0.9520071454780077,0.9518646326357836,0.9524252991838076,0.9524760263682938,0.9526797237655658,0.9524052734199424,0.9528038537135481],\"yaxis\":\"y9\",\"type\":\"scatter\"},{\"hovertemplate\":\"variable=features_9_leaf_9<br>Trees=%{x}<br>value=%{y}<extra></extra>\",\"legendgroup\":\"features_9_leaf_9\",\"line\":{\"color\":\"#FF97FF\",\"dash\":\"solid\"},\"marker\":{\"symbol\":\"circle\"},\"mode\":\"lines\",\"name\":\"features_9_leaf_9\",\"orientation\":\"v\",\"showlegend\":true,\"x\":[1,3,5,7,9,11,13,15,17,19,21,23,25,27,29,31,33,35,37,39,41,43,45,47,49],\"xaxis\":\"x9\",\"y\":[0.923367102956832,0.9428510197564766,0.9492517743171573,0.9504879483605858,0.9518754202110206,0.9522300690325292,0.9531786817339325,0.9534658754353107,0.9532700604284811,0.9527041263167912,0.9537850373262241,0.95311058332878,0.9543502109255438,0.9546993163431085,0.9545934889979708,0.9534923883065319,0.9533755284824208,0.9541975412271151,0.9539818552380807,0.9532352200383267,0.9528266928409614,0.9528689994268612,0.9530342197340934,0.952775677902479,0.9533959375948567],\"yaxis\":\"y9\",\"type\":\"scatter\"},{\"hovertemplate\":\"variable=features_10_leaf_9<br>Trees=%{x}<br>value=%{y}<extra></extra>\",\"legendgroup\":\"features_10_leaf_9\",\"line\":{\"color\":\"#FECB52\",\"dash\":\"solid\"},\"marker\":{\"symbol\":\"circle\"},\"mode\":\"lines\",\"name\":\"features_10_leaf_9\",\"orientation\":\"v\",\"showlegend\":true,\"x\":[1,3,5,7,9,11,13,15,17,19,21,23,25,27,29,31,33,35,37,39,41,43,45,47,49],\"xaxis\":\"x9\",\"y\":[0.9154976239714381,0.9353855545964906,0.944227085190034,0.9479132768948906,0.9481823573455038,0.9512095412027156,0.954234189063804,0.9549405101967701,0.9539976165204456,0.9535897459718738,0.9542623314919076,0.9538181935633295,0.9548324296994843,0.9533651123704031,0.9538760626424031,0.9532600796723804,0.9531990954090948,0.9531440984542146,0.9532215168114517,0.9530041160955653,0.9526546135433069,0.9527529982007408,0.9535044217436545,0.9531943548185264,0.9535931594563307],\"yaxis\":\"y9\",\"type\":\"scatter\"},{\"hovertemplate\":\"variable=features_1_leaf_10<br>Trees=%{x}<br>value=%{y}<extra></extra>\",\"legendgroup\":\"features_1_leaf_10\",\"line\":{\"color\":\"#636efa\",\"dash\":\"solid\"},\"marker\":{\"symbol\":\"circle\"},\"mode\":\"lines\",\"name\":\"features_1_leaf_10\",\"orientation\":\"v\",\"showlegend\":true,\"x\":[1,3,5,7,9,11,13,15,17,19,21,23,25,27,29,31,33,35,37,39,41,43,45,47,49],\"xaxis\":\"x10\",\"y\":[0.6816733286542839,0.8075270676982946,0.843249650949196,0.854539490871715,0.8583785187542272,0.8596911346879029,0.8589433547995574,0.8597579347028104,0.8607988749038121,0.8684749356746542,0.8737710457785424,0.8729829604426639,0.8714469952512344,0.8717279712879626,0.8679945677845382,0.8697270443509912,0.8677802742368137,0.8694918303905098,0.8694276056843154,0.8691505608689178,0.8687883678241469,0.865970623269454,0.8661521694481913,0.8658259497789841,0.8663181482186897],\"yaxis\":\"y10\",\"type\":\"scatter\"},{\"hovertemplate\":\"variable=features_2_leaf_10<br>Trees=%{x}<br>value=%{y}<extra></extra>\",\"legendgroup\":\"features_2_leaf_10\",\"line\":{\"color\":\"#EF553B\",\"dash\":\"solid\"},\"marker\":{\"symbol\":\"circle\"},\"mode\":\"lines\",\"name\":\"features_2_leaf_10\",\"orientation\":\"v\",\"showlegend\":true,\"x\":[1,3,5,7,9,11,13,15,17,19,21,23,25,27,29,31,33,35,37,39,41,43,45,47,49],\"xaxis\":\"x10\",\"y\":[0.8024642667906443,0.8759030858528666,0.8932989952535456,0.8947112641313432,0.8956726164793716,0.8897848551836708,0.8938213368252377,0.898534892532938,0.9021290982696867,0.9074497503081481,0.9076600608658655,0.9093245552500019,0.9092811992143182,0.9095906115784331,0.9069224511988503,0.9068859008782368,0.9079854344754267,0.9101826839587732,0.9102674469380186,0.91039481092067,0.909100679430769,0.9088136027082347,0.909174535606506,0.9090866256392334,0.9086390760114249],\"yaxis\":\"y10\",\"type\":\"scatter\"},{\"hovertemplate\":\"variable=features_3_leaf_10<br>Trees=%{x}<br>value=%{y}<extra></extra>\",\"legendgroup\":\"features_3_leaf_10\",\"line\":{\"color\":\"#00cc96\",\"dash\":\"solid\"},\"marker\":{\"symbol\":\"circle\"},\"mode\":\"lines\",\"name\":\"features_3_leaf_10\",\"orientation\":\"v\",\"showlegend\":true,\"x\":[1,3,5,7,9,11,13,15,17,19,21,23,25,27,29,31,33,35,37,39,41,43,45,47,49],\"xaxis\":\"x10\",\"y\":[0.8140108247627044,0.8890083365885426,0.9042456796610974,0.909372170221804,0.9078306357333078,0.9146087812248332,0.9194751838591786,0.9181590835351535,0.9177648321587913,0.922439382035978,0.9222124249890282,0.9232660903967849,0.9234105022571015,0.9219644454908579,0.9224603921858957,0.9240819843038597,0.9237773644601281,0.9241880019759969,0.9246824717116716,0.9246715861091263,0.9236484724908808,0.9225254493426321,0.9225161097751814,0.9231629684940408,0.9237675572421006],\"yaxis\":\"y10\",\"type\":\"scatter\"},{\"hovertemplate\":\"variable=features_4_leaf_10<br>Trees=%{x}<br>value=%{y}<extra></extra>\",\"legendgroup\":\"features_4_leaf_10\",\"line\":{\"color\":\"#ab63fa\",\"dash\":\"solid\"},\"marker\":{\"symbol\":\"circle\"},\"mode\":\"lines\",\"name\":\"features_4_leaf_10\",\"orientation\":\"v\",\"showlegend\":true,\"x\":[1,3,5,7,9,11,13,15,17,19,21,23,25,27,29,31,33,35,37,39,41,43,45,47,49],\"xaxis\":\"x10\",\"y\":[0.8226379084977617,0.8799103612623925,0.9063667608851077,0.912612860700442,0.9147605783370356,0.9171421907036835,0.9224219185272696,0.9277290787459957,0.9290713633388641,0.9284466687976274,0.9296223023572671,0.9312618330147091,0.9329949819213013,0.9314304544215931,0.9307318985144557,0.9313811164629341,0.9325690691739028,0.9332627323769351,0.9319373681466188,0.931492106511621,0.9304532716481992,0.9302914775127604,0.9298983054297467,0.9293451124509622,0.9301489337534363],\"yaxis\":\"y10\",\"type\":\"scatter\"},{\"hovertemplate\":\"variable=features_5_leaf_10<br>Trees=%{x}<br>value=%{y}<extra></extra>\",\"legendgroup\":\"features_5_leaf_10\",\"line\":{\"color\":\"#FFA15A\",\"dash\":\"solid\"},\"marker\":{\"symbol\":\"circle\"},\"mode\":\"lines\",\"name\":\"features_5_leaf_10\",\"orientation\":\"v\",\"showlegend\":true,\"x\":[1,3,5,7,9,11,13,15,17,19,21,23,25,27,29,31,33,35,37,39,41,43,45,47,49],\"xaxis\":\"x10\",\"y\":[0.8434705162717648,0.8884894608094525,0.9160890113388709,0.9264270601458836,0.9284929301039693,0.9298797827890961,0.9340586648007294,0.9375705980223825,0.9369169441599323,0.9366082316359018,0.9371936718995941,0.9374465993706274,0.9385070064006559,0.9375984277531746,0.9382488035763034,0.9378375856355834,0.9373956894748817,0.9379360036002862,0.9383204591752854,0.9396435138811998,0.9385269751182458,0.9393366750273093,0.939952292860258,0.9391338223910672,0.9393650479344012],\"yaxis\":\"y10\",\"type\":\"scatter\"},{\"hovertemplate\":\"variable=features_6_leaf_10<br>Trees=%{x}<br>value=%{y}<extra></extra>\",\"legendgroup\":\"features_6_leaf_10\",\"line\":{\"color\":\"#19d3f3\",\"dash\":\"solid\"},\"marker\":{\"symbol\":\"circle\"},\"mode\":\"lines\",\"name\":\"features_6_leaf_10\",\"orientation\":\"v\",\"showlegend\":true,\"x\":[1,3,5,7,9,11,13,15,17,19,21,23,25,27,29,31,33,35,37,39,41,43,45,47,49],\"xaxis\":\"x10\",\"y\":[0.8882432788105682,0.9213937987845429,0.9312021328904884,0.9352517884939534,0.937189056155962,0.9382542740053671,0.9394901732776691,0.9404188592477581,0.9401370944792881,0.9412071584886927,0.9428287073384588,0.943277609076994,0.9441653326232144,0.9432735326424524,0.9414726234772232,0.9423307190911789,0.9419295715465633,0.9423846043114159,0.9421489584044862,0.9417602308479246,0.9415977429569997,0.9410399912474302,0.9417271175735934,0.9415504648920864,0.9418409738425544],\"yaxis\":\"y10\",\"type\":\"scatter\"},{\"hovertemplate\":\"variable=features_7_leaf_10<br>Trees=%{x}<br>value=%{y}<extra></extra>\",\"legendgroup\":\"features_7_leaf_10\",\"line\":{\"color\":\"#FF6692\",\"dash\":\"solid\"},\"marker\":{\"symbol\":\"circle\"},\"mode\":\"lines\",\"name\":\"features_7_leaf_10\",\"orientation\":\"v\",\"showlegend\":true,\"x\":[1,3,5,7,9,11,13,15,17,19,21,23,25,27,29,31,33,35,37,39,41,43,45,47,49],\"xaxis\":\"x10\",\"y\":[0.8948203768977703,0.9185215541941227,0.9353864876101747,0.9457696015166597,0.9469011429885803,0.9517273662537432,0.9517953665386649,0.9518882987937479,0.9516626851711788,0.9524038743053609,0.9524734514078439,0.950971810553322,0.9512498895108958,0.9503242707854638,0.9500356872801554,0.9497175377721959,0.9486828194509076,0.948717821605503,0.94846359982967,0.9481462625320509,0.9475476174795435,0.9480660776939354,0.9487481147941814,0.9484892623704205,0.94827817093788],\"yaxis\":\"y10\",\"type\":\"scatter\"},{\"hovertemplate\":\"variable=features_8_leaf_10<br>Trees=%{x}<br>value=%{y}<extra></extra>\",\"legendgroup\":\"features_8_leaf_10\",\"line\":{\"color\":\"#B6E880\",\"dash\":\"solid\"},\"marker\":{\"symbol\":\"circle\"},\"mode\":\"lines\",\"name\":\"features_8_leaf_10\",\"orientation\":\"v\",\"showlegend\":true,\"x\":[1,3,5,7,9,11,13,15,17,19,21,23,25,27,29,31,33,35,37,39,41,43,45,47,49],\"xaxis\":\"x10\",\"y\":[0.8594806730719625,0.9342765703072452,0.941227755251953,0.948671018419924,0.948021109405321,0.9494708279506687,0.9504900794036988,0.9517003475358745,0.95144197469881,0.9513435926611932,0.9520413646832269,0.9511940645211971,0.9516240932731593,0.9505405663344885,0.9511650522342808,0.9517099463018,0.9510028009674232,0.9513213018183262,0.9502842185327458,0.9497770159351573,0.9504828870453149,0.9505717387094801,0.9507503461550322,0.9502572194447734,0.9506236374853998],\"yaxis\":\"y10\",\"type\":\"scatter\"},{\"hovertemplate\":\"variable=features_9_leaf_10<br>Trees=%{x}<br>value=%{y}<extra></extra>\",\"legendgroup\":\"features_9_leaf_10\",\"line\":{\"color\":\"#FF97FF\",\"dash\":\"solid\"},\"marker\":{\"symbol\":\"circle\"},\"mode\":\"lines\",\"name\":\"features_9_leaf_10\",\"orientation\":\"v\",\"showlegend\":true,\"x\":[1,3,5,7,9,11,13,15,17,19,21,23,25,27,29,31,33,35,37,39,41,43,45,47,49],\"xaxis\":\"x10\",\"y\":[0.9116312382362353,0.9401402300470874,0.9450575273867553,0.9479946258363231,0.9494178797669519,0.9500198584766325,0.9512825082735068,0.9514941081033141,0.9509545444636194,0.9504045047295617,0.9517573395419794,0.9506482289368485,0.9519202258130504,0.9519621937676487,0.9515124560060844,0.9502956779218359,0.9504876308544501,0.9516269201635167,0.9517092287317366,0.9506197887548055,0.9500328362978101,0.9501875865130172,0.9505010841175796,0.9502269746784696,0.9509985015536742],\"yaxis\":\"y10\",\"type\":\"scatter\"},{\"hovertemplate\":\"variable=features_10_leaf_10<br>Trees=%{x}<br>value=%{y}<extra></extra>\",\"legendgroup\":\"features_10_leaf_10\",\"line\":{\"color\":\"#FECB52\",\"dash\":\"solid\"},\"marker\":{\"symbol\":\"circle\"},\"mode\":\"lines\",\"name\":\"features_10_leaf_10\",\"orientation\":\"v\",\"showlegend\":true,\"x\":[1,3,5,7,9,11,13,15,17,19,21,23,25,27,29,31,33,35,37,39,41,43,45,47,49],\"xaxis\":\"x10\",\"y\":[0.8981880385348926,0.9333860141999516,0.9419026212098818,0.946743214589717,0.9469171557023198,0.9500948310005214,0.9521838182095863,0.9529471816060269,0.952391498299963,0.9524814569364548,0.9537408175833084,0.9531164023449579,0.9538111190790012,0.9521346016522978,0.9527851386815673,0.9522166487960912,0.951859771964292,0.9518700157661591,0.9520841784103743,0.9514891141868326,0.9513764612191938,0.9515608890010178,0.9523040911229833,0.9517745984867292,0.9522295806854497],\"yaxis\":\"y10\",\"type\":\"scatter\"}],                        {\"template\":{\"data\":{\"histogram2dcontour\":[{\"type\":\"histogram2dcontour\",\"colorbar\":{\"outlinewidth\":0,\"ticks\":\"\"},\"colorscale\":[[0.0,\"#0d0887\"],[0.1111111111111111,\"#46039f\"],[0.2222222222222222,\"#7201a8\"],[0.3333333333333333,\"#9c179e\"],[0.4444444444444444,\"#bd3786\"],[0.5555555555555556,\"#d8576b\"],[0.6666666666666666,\"#ed7953\"],[0.7777777777777778,\"#fb9f3a\"],[0.8888888888888888,\"#fdca26\"],[1.0,\"#f0f921\"]]}],\"choropleth\":[{\"type\":\"choropleth\",\"colorbar\":{\"outlinewidth\":0,\"ticks\":\"\"}}],\"histogram2d\":[{\"type\":\"histogram2d\",\"colorbar\":{\"outlinewidth\":0,\"ticks\":\"\"},\"colorscale\":[[0.0,\"#0d0887\"],[0.1111111111111111,\"#46039f\"],[0.2222222222222222,\"#7201a8\"],[0.3333333333333333,\"#9c179e\"],[0.4444444444444444,\"#bd3786\"],[0.5555555555555556,\"#d8576b\"],[0.6666666666666666,\"#ed7953\"],[0.7777777777777778,\"#fb9f3a\"],[0.8888888888888888,\"#fdca26\"],[1.0,\"#f0f921\"]]}],\"heatmap\":[{\"type\":\"heatmap\",\"colorbar\":{\"outlinewidth\":0,\"ticks\":\"\"},\"colorscale\":[[0.0,\"#0d0887\"],[0.1111111111111111,\"#46039f\"],[0.2222222222222222,\"#7201a8\"],[0.3333333333333333,\"#9c179e\"],[0.4444444444444444,\"#bd3786\"],[0.5555555555555556,\"#d8576b\"],[0.6666666666666666,\"#ed7953\"],[0.7777777777777778,\"#fb9f3a\"],[0.8888888888888888,\"#fdca26\"],[1.0,\"#f0f921\"]]}],\"heatmapgl\":[{\"type\":\"heatmapgl\",\"colorbar\":{\"outlinewidth\":0,\"ticks\":\"\"},\"colorscale\":[[0.0,\"#0d0887\"],[0.1111111111111111,\"#46039f\"],[0.2222222222222222,\"#7201a8\"],[0.3333333333333333,\"#9c179e\"],[0.4444444444444444,\"#bd3786\"],[0.5555555555555556,\"#d8576b\"],[0.6666666666666666,\"#ed7953\"],[0.7777777777777778,\"#fb9f3a\"],[0.8888888888888888,\"#fdca26\"],[1.0,\"#f0f921\"]]}],\"contourcarpet\":[{\"type\":\"contourcarpet\",\"colorbar\":{\"outlinewidth\":0,\"ticks\":\"\"}}],\"contour\":[{\"type\":\"contour\",\"colorbar\":{\"outlinewidth\":0,\"ticks\":\"\"},\"colorscale\":[[0.0,\"#0d0887\"],[0.1111111111111111,\"#46039f\"],[0.2222222222222222,\"#7201a8\"],[0.3333333333333333,\"#9c179e\"],[0.4444444444444444,\"#bd3786\"],[0.5555555555555556,\"#d8576b\"],[0.6666666666666666,\"#ed7953\"],[0.7777777777777778,\"#fb9f3a\"],[0.8888888888888888,\"#fdca26\"],[1.0,\"#f0f921\"]]}],\"surface\":[{\"type\":\"surface\",\"colorbar\":{\"outlinewidth\":0,\"ticks\":\"\"},\"colorscale\":[[0.0,\"#0d0887\"],[0.1111111111111111,\"#46039f\"],[0.2222222222222222,\"#7201a8\"],[0.3333333333333333,\"#9c179e\"],[0.4444444444444444,\"#bd3786\"],[0.5555555555555556,\"#d8576b\"],[0.6666666666666666,\"#ed7953\"],[0.7777777777777778,\"#fb9f3a\"],[0.8888888888888888,\"#fdca26\"],[1.0,\"#f0f921\"]]}],\"mesh3d\":[{\"type\":\"mesh3d\",\"colorbar\":{\"outlinewidth\":0,\"ticks\":\"\"}}],\"scatter\":[{\"fillpattern\":{\"fillmode\":\"overlay\",\"size\":10,\"solidity\":0.2},\"type\":\"scatter\"}],\"parcoords\":[{\"type\":\"parcoords\",\"line\":{\"colorbar\":{\"outlinewidth\":0,\"ticks\":\"\"}}}],\"scatterpolargl\":[{\"type\":\"scatterpolargl\",\"marker\":{\"colorbar\":{\"outlinewidth\":0,\"ticks\":\"\"}}}],\"bar\":[{\"error_x\":{\"color\":\"#2a3f5f\"},\"error_y\":{\"color\":\"#2a3f5f\"},\"marker\":{\"line\":{\"color\":\"#E5ECF6\",\"width\":0.5},\"pattern\":{\"fillmode\":\"overlay\",\"size\":10,\"solidity\":0.2}},\"type\":\"bar\"}],\"scattergeo\":[{\"type\":\"scattergeo\",\"marker\":{\"colorbar\":{\"outlinewidth\":0,\"ticks\":\"\"}}}],\"scatterpolar\":[{\"type\":\"scatterpolar\",\"marker\":{\"colorbar\":{\"outlinewidth\":0,\"ticks\":\"\"}}}],\"histogram\":[{\"marker\":{\"pattern\":{\"fillmode\":\"overlay\",\"size\":10,\"solidity\":0.2}},\"type\":\"histogram\"}],\"scattergl\":[{\"type\":\"scattergl\",\"marker\":{\"colorbar\":{\"outlinewidth\":0,\"ticks\":\"\"}}}],\"scatter3d\":[{\"type\":\"scatter3d\",\"line\":{\"colorbar\":{\"outlinewidth\":0,\"ticks\":\"\"}},\"marker\":{\"colorbar\":{\"outlinewidth\":0,\"ticks\":\"\"}}}],\"scattermapbox\":[{\"type\":\"scattermapbox\",\"marker\":{\"colorbar\":{\"outlinewidth\":0,\"ticks\":\"\"}}}],\"scatterternary\":[{\"type\":\"scatterternary\",\"marker\":{\"colorbar\":{\"outlinewidth\":0,\"ticks\":\"\"}}}],\"scattercarpet\":[{\"type\":\"scattercarpet\",\"marker\":{\"colorbar\":{\"outlinewidth\":0,\"ticks\":\"\"}}}],\"carpet\":[{\"aaxis\":{\"endlinecolor\":\"#2a3f5f\",\"gridcolor\":\"white\",\"linecolor\":\"white\",\"minorgridcolor\":\"white\",\"startlinecolor\":\"#2a3f5f\"},\"baxis\":{\"endlinecolor\":\"#2a3f5f\",\"gridcolor\":\"white\",\"linecolor\":\"white\",\"minorgridcolor\":\"white\",\"startlinecolor\":\"#2a3f5f\"},\"type\":\"carpet\"}],\"table\":[{\"cells\":{\"fill\":{\"color\":\"#EBF0F8\"},\"line\":{\"color\":\"white\"}},\"header\":{\"fill\":{\"color\":\"#C8D4E3\"},\"line\":{\"color\":\"white\"}},\"type\":\"table\"}],\"barpolar\":[{\"marker\":{\"line\":{\"color\":\"#E5ECF6\",\"width\":0.5},\"pattern\":{\"fillmode\":\"overlay\",\"size\":10,\"solidity\":0.2}},\"type\":\"barpolar\"}],\"pie\":[{\"automargin\":true,\"type\":\"pie\"}]},\"layout\":{\"autotypenumbers\":\"strict\",\"colorway\":[\"#636efa\",\"#EF553B\",\"#00cc96\",\"#ab63fa\",\"#FFA15A\",\"#19d3f3\",\"#FF6692\",\"#B6E880\",\"#FF97FF\",\"#FECB52\"],\"font\":{\"color\":\"#2a3f5f\"},\"hovermode\":\"closest\",\"hoverlabel\":{\"align\":\"left\"},\"paper_bgcolor\":\"white\",\"plot_bgcolor\":\"#E5ECF6\",\"polar\":{\"bgcolor\":\"#E5ECF6\",\"angularaxis\":{\"gridcolor\":\"white\",\"linecolor\":\"white\",\"ticks\":\"\"},\"radialaxis\":{\"gridcolor\":\"white\",\"linecolor\":\"white\",\"ticks\":\"\"}},\"ternary\":{\"bgcolor\":\"#E5ECF6\",\"aaxis\":{\"gridcolor\":\"white\",\"linecolor\":\"white\",\"ticks\":\"\"},\"baxis\":{\"gridcolor\":\"white\",\"linecolor\":\"white\",\"ticks\":\"\"},\"caxis\":{\"gridcolor\":\"white\",\"linecolor\":\"white\",\"ticks\":\"\"}},\"coloraxis\":{\"colorbar\":{\"outlinewidth\":0,\"ticks\":\"\"}},\"colorscale\":{\"sequential\":[[0.0,\"#0d0887\"],[0.1111111111111111,\"#46039f\"],[0.2222222222222222,\"#7201a8\"],[0.3333333333333333,\"#9c179e\"],[0.4444444444444444,\"#bd3786\"],[0.5555555555555556,\"#d8576b\"],[0.6666666666666666,\"#ed7953\"],[0.7777777777777778,\"#fb9f3a\"],[0.8888888888888888,\"#fdca26\"],[1.0,\"#f0f921\"]],\"sequentialminus\":[[0.0,\"#0d0887\"],[0.1111111111111111,\"#46039f\"],[0.2222222222222222,\"#7201a8\"],[0.3333333333333333,\"#9c179e\"],[0.4444444444444444,\"#bd3786\"],[0.5555555555555556,\"#d8576b\"],[0.6666666666666666,\"#ed7953\"],[0.7777777777777778,\"#fb9f3a\"],[0.8888888888888888,\"#fdca26\"],[1.0,\"#f0f921\"]],\"diverging\":[[0,\"#8e0152\"],[0.1,\"#c51b7d\"],[0.2,\"#de77ae\"],[0.3,\"#f1b6da\"],[0.4,\"#fde0ef\"],[0.5,\"#f7f7f7\"],[0.6,\"#e6f5d0\"],[0.7,\"#b8e186\"],[0.8,\"#7fbc41\"],[0.9,\"#4d9221\"],[1,\"#276419\"]]},\"xaxis\":{\"gridcolor\":\"white\",\"linecolor\":\"white\",\"ticks\":\"\",\"title\":{\"standoff\":15},\"zerolinecolor\":\"white\",\"automargin\":true,\"zerolinewidth\":2},\"yaxis\":{\"gridcolor\":\"white\",\"linecolor\":\"white\",\"ticks\":\"\",\"title\":{\"standoff\":15},\"zerolinecolor\":\"white\",\"automargin\":true,\"zerolinewidth\":2},\"scene\":{\"xaxis\":{\"backgroundcolor\":\"#E5ECF6\",\"gridcolor\":\"white\",\"linecolor\":\"white\",\"showbackground\":true,\"ticks\":\"\",\"zerolinecolor\":\"white\",\"gridwidth\":2},\"yaxis\":{\"backgroundcolor\":\"#E5ECF6\",\"gridcolor\":\"white\",\"linecolor\":\"white\",\"showbackground\":true,\"ticks\":\"\",\"zerolinecolor\":\"white\",\"gridwidth\":2},\"zaxis\":{\"backgroundcolor\":\"#E5ECF6\",\"gridcolor\":\"white\",\"linecolor\":\"white\",\"showbackground\":true,\"ticks\":\"\",\"zerolinecolor\":\"white\",\"gridwidth\":2}},\"shapedefaults\":{\"line\":{\"color\":\"#2a3f5f\"}},\"annotationdefaults\":{\"arrowcolor\":\"#2a3f5f\",\"arrowhead\":0,\"arrowwidth\":1},\"geo\":{\"bgcolor\":\"white\",\"landcolor\":\"#E5ECF6\",\"subunitcolor\":\"white\",\"showland\":true,\"showlakes\":true,\"lakecolor\":\"white\"},\"title\":{\"x\":0.05},\"mapbox\":{\"style\":\"light\"}}},\"xaxis\":{\"anchor\":\"y\",\"domain\":[0.0,1.0],\"title\":{\"text\":\"# Trees\"}},\"yaxis\":{\"anchor\":\"x\",\"domain\":[0.9450000000000001,1.0]},\"xaxis2\":{\"anchor\":\"y2\",\"domain\":[0.0,1.0],\"title\":{\"text\":\"# Trees\"}},\"yaxis2\":{\"anchor\":\"x2\",\"domain\":[0.8400000000000001,0.8950000000000001]},\"xaxis3\":{\"anchor\":\"y3\",\"domain\":[0.0,1.0],\"title\":{\"text\":\"# Trees\"}},\"yaxis3\":{\"anchor\":\"x3\",\"domain\":[0.7350000000000001,0.7900000000000001]},\"xaxis4\":{\"anchor\":\"y4\",\"domain\":[0.0,1.0],\"title\":{\"text\":\"# Trees\"}},\"yaxis4\":{\"anchor\":\"x4\",\"domain\":[0.6300000000000001,0.6850000000000002]},\"xaxis5\":{\"anchor\":\"y5\",\"domain\":[0.0,1.0],\"title\":{\"text\":\"# Trees\"}},\"yaxis5\":{\"anchor\":\"x5\",\"domain\":[0.525,0.5800000000000001]},\"xaxis6\":{\"anchor\":\"y6\",\"domain\":[0.0,1.0],\"title\":{\"text\":\"# Trees\"}},\"yaxis6\":{\"anchor\":\"x6\",\"domain\":[0.42000000000000004,0.47500000000000003]},\"xaxis7\":{\"anchor\":\"y7\",\"domain\":[0.0,1.0],\"title\":{\"text\":\"# Trees\"}},\"yaxis7\":{\"anchor\":\"x7\",\"domain\":[0.31500000000000006,0.37000000000000005]},\"xaxis8\":{\"anchor\":\"y8\",\"domain\":[0.0,1.0],\"title\":{\"text\":\"# Trees\"}},\"yaxis8\":{\"anchor\":\"x8\",\"domain\":[0.21000000000000002,0.265]},\"xaxis9\":{\"anchor\":\"y9\",\"domain\":[0.0,1.0],\"title\":{\"text\":\"# Trees\"}},\"yaxis9\":{\"anchor\":\"x9\",\"domain\":[0.10500000000000001,0.16000000000000003]},\"xaxis10\":{\"anchor\":\"y10\",\"domain\":[0.0,1.0],\"title\":{\"text\":\"# Trees\"}},\"yaxis10\":{\"anchor\":\"x10\",\"domain\":[0.0,0.05500000000000001]},\"annotations\":[{\"font\":{\"size\":16},\"showarrow\":false,\"text\":\"min_samples_leaf=1\",\"x\":0.5,\"xanchor\":\"center\",\"xref\":\"paper\",\"y\":1.0,\"yanchor\":\"bottom\",\"yref\":\"paper\"},{\"font\":{\"size\":16},\"showarrow\":false,\"text\":\"min_samples_leaf=2\",\"x\":0.5,\"xanchor\":\"center\",\"xref\":\"paper\",\"y\":0.8950000000000001,\"yanchor\":\"bottom\",\"yref\":\"paper\"},{\"font\":{\"size\":16},\"showarrow\":false,\"text\":\"min_samples_leaf=3\",\"x\":0.5,\"xanchor\":\"center\",\"xref\":\"paper\",\"y\":0.7900000000000001,\"yanchor\":\"bottom\",\"yref\":\"paper\"},{\"font\":{\"size\":16},\"showarrow\":false,\"text\":\"min_samples_leaf=4\",\"x\":0.5,\"xanchor\":\"center\",\"xref\":\"paper\",\"y\":0.6850000000000002,\"yanchor\":\"bottom\",\"yref\":\"paper\"},{\"font\":{\"size\":16},\"showarrow\":false,\"text\":\"min_samples_leaf=5\",\"x\":0.5,\"xanchor\":\"center\",\"xref\":\"paper\",\"y\":0.5800000000000001,\"yanchor\":\"bottom\",\"yref\":\"paper\"},{\"font\":{\"size\":16},\"showarrow\":false,\"text\":\"min_samples_leaf=6\",\"x\":0.5,\"xanchor\":\"center\",\"xref\":\"paper\",\"y\":0.47500000000000003,\"yanchor\":\"bottom\",\"yref\":\"paper\"},{\"font\":{\"size\":16},\"showarrow\":false,\"text\":\"min_samples_leaf=7\",\"x\":0.5,\"xanchor\":\"center\",\"xref\":\"paper\",\"y\":0.37000000000000005,\"yanchor\":\"bottom\",\"yref\":\"paper\"},{\"font\":{\"size\":16},\"showarrow\":false,\"text\":\"min_samples_leaf=8\",\"x\":0.5,\"xanchor\":\"center\",\"xref\":\"paper\",\"y\":0.265,\"yanchor\":\"bottom\",\"yref\":\"paper\"},{\"font\":{\"size\":16},\"showarrow\":false,\"text\":\"min_samples_leaf=9\",\"x\":0.5,\"xanchor\":\"center\",\"xref\":\"paper\",\"y\":0.16000000000000003,\"yanchor\":\"bottom\",\"yref\":\"paper\"},{\"font\":{\"size\":16},\"showarrow\":false,\"text\":\"min_samples_leaf=10\",\"x\":0.5,\"xanchor\":\"center\",\"xref\":\"paper\",\"y\":0.05500000000000001,\"yanchor\":\"bottom\",\"yref\":\"paper\"}],\"title\":{\"text\":\"Random Forest Performance\"},\"height\":2500},                        {\"responsive\": true}                    ).then(function(){\n",
       "                            \n",
       "var gd = document.getElementById('8d6352dd-8c5e-4280-b7d3-dbf633a9a4bd');\n",
       "var x = new MutationObserver(function (mutations, observer) {{\n",
       "        var display = window.getComputedStyle(gd).display;\n",
       "        if (!display || display === 'none') {{\n",
       "            console.log([gd, 'removed!']);\n",
       "            Plotly.purge(gd);\n",
       "            observer.disconnect();\n",
       "        }}\n",
       "}});\n",
       "\n",
       "// Listen for the removal of the full notebook cells\n",
       "var notebookContainer = gd.closest('#notebook-container');\n",
       "if (notebookContainer) {{\n",
       "    x.observe(notebookContainer, {childList: true});\n",
       "}}\n",
       "\n",
       "// Listen for the clearing of the current output cell\n",
       "var outputEl = gd.closest('.output');\n",
       "if (outputEl) {{\n",
       "    x.observe(outputEl, {childList: true});\n",
       "}}\n",
       "\n",
       "                        })                };                });            </script>        </div>"
      ]
     },
     "metadata": {},
     "output_type": "display_data"
    },
    {
     "name": "stdout",
     "output_type": "stream",
     "text": [
      "\n",
      "The best performing Random Forest had 49 trees;\n",
      "in each tree, a split point is only considered if it leaves 1 samples in each of the left & right branches.\n",
      "Each decision tree only considered 10 predictors when looking for the best split.\n",
      "This gave a mean R^2 score of 0.9669103049463874 across the 10 folds of the training data.\n",
      "\n",
      "\n",
      "\n",
      "\n",
      "Training set score: 0.9950976127488887\n",
      "Test set score: 0.9799975390043276\n"
     ]
    }
   ],
   "source": [
    "# Predictors\n",
    "predictors = stonks.data_frame.filter(regex='Close_L')\n",
    "# Outcome\n",
    "outcome=stonks.data_frame[\"Close\"]\n",
    "\n",
    "(X_train, X_test, Y_train, Y_test) = train_test_split(predictors, \n",
    "                                                  outcome,\n",
    "                                                  random_state=43,\n",
    "                                                  test_size=0.25)\n",
    "\n",
    "\n",
    "pipe_random_forest = Pipeline([\n",
    "    ('scaler', preprocessing.StandardScaler()), \n",
    "    ('classifier', RandomForestRegressor(random_state=SEED))\n",
    "])\n",
    "\n",
    "\n",
    "def get_n_estimators_from_input():\n",
    "\n",
    "    prompting_user_input = True\n",
    "    while prompting_user_input:\n",
    "        min_estimators = input(\"What's the minimum number of trees that should be in our forest?\\n(Type 'Exit' to quit)\\n\")\n",
    "        \n",
    "        if min_estimators.isnumeric():\n",
    "            min_estimators = int(min_estimators)\n",
    "            \n",
    "            if min_estimators < 1:\n",
    "                print(\"The minimum number of trees must be at least 1 — please retry\\n\")\n",
    "            else:\n",
    "                prompting_user_input = False\n",
    "            \n",
    "        elif \"exit\" in min_estimators.lower():\n",
    "                sys.exit(\"Exiting program\")\n",
    "        else:\n",
    "            print(\"\"\"Non-integer passed as input — please retry.\\n\"\"\")   \n",
    "      \n",
    "    prompting_user_input = True\n",
    "    while prompting_user_input:\n",
    "        max_estimators = input(\"What's the maximum number of trees that should be in our forest?\\n(Type 'Exit' to quit)\\n\")\n",
    "        \n",
    "        if max_estimators.isnumeric():\n",
    "            max_estimators = int(max_estimators)\n",
    "            \n",
    "            if max_estimators < min_estimators:\n",
    "                print(\"The maximum number of trees must be more than the minimum number\" +\n",
    "                      f\" of trees (currently {min_estimators}) — please retry.\\n\")\n",
    "            else:\n",
    "                prompting_user_input = False\n",
    "            \n",
    "        elif \"exit\" in max_estimators.lower():\n",
    "                sys.exit(\"Exiting program\")\n",
    "        else:\n",
    "            print(\"Non-integer passed as input — please retry.\\n\") \n",
    "            \n",
    "    \n",
    "    if max_estimators - min_estimators < 2:\n",
    "        return [min_estimators, max_estimators]\n",
    "    \n",
    "    prompting_user_input = True\n",
    "    while prompting_user_input:\n",
    "        num_steps = input(f\"How many values should we look at between {min_estimators} and {max_estimators}?\" + \n",
    "                          \" \\n(Type 'Exit' to quit)\\n\")\n",
    "        \n",
    "        if num_steps.isnumeric():\n",
    "            num_steps = int(num_steps)\n",
    "            \n",
    "            if num_steps < 1:\n",
    "                print(\"The number of values examined must be at least 1 — please retry\\n\")\n",
    "            else:\n",
    "                step_size = int( (max_estimators + 1 - min_estimators) / (num_steps )) \n",
    "                prompting_user_input = False\n",
    "                return np.arange(min_estimators, max_estimators + 1, step_size)\n",
    "            \n",
    "        elif \"exit\" in num_steps.lower():\n",
    "                sys.exit(\"Exiting program\")\n",
    "        else:\n",
    "            print(\"Non-integer passed as input — please retry.\\n\") \n",
    "            \n",
    "            \n",
    "\n",
    "\n",
    "\n",
    "def get_n_features_from_input(predictors_list):\n",
    "    \n",
    "    if not isinstance(predictors_list, pd.DataFrame):\n",
    "        raise ValueError(\"data_frame must be a pandas DataFrame object\")\n",
    "    \n",
    "    n_features = predictors_list.shape[1]\n",
    "\n",
    "    prompting_user_input = True\n",
    "    while prompting_user_input:\n",
    "        min_features = input(\"Give a lower bound for the number of predictors each tree in \" +\n",
    "                             f\"our forest should consider (between 1 and {n_features})\\n(Type 'Exit' to quit)\\n\")\n",
    "        \n",
    "        if min_features.isnumeric():\n",
    "            min_features = int(min_features)\n",
    "            \n",
    "            if min_features < 1:\n",
    "                print(\"The minimum number of features must be at least 1 — please retry\\n\")\n",
    "            elif min_features > n_features:\n",
    "                print(\"The minimum number of features should not exceed the total number of variables\" +\n",
    "                      f\" (currently {n_features}) — please retry\\n\")\n",
    "            else:\n",
    "                prompting_user_input = False\n",
    "            \n",
    "        elif \"exit\" in min_features.lower():\n",
    "                sys.exit(\"Exiting program\")\n",
    "        else:\n",
    "            print(\"\"\"Non-integer passed as input — please retry.\\n\"\"\")   \n",
    "      \n",
    "    prompting_user_input = True\n",
    "    while prompting_user_input:\n",
    "        max_features = input(\"Give an upper bound for the number of predictors each tree in \" +\n",
    "                             f\"our forest should consider (between {min_features} and {n_features})\\n(Type 'Exit' to quit)\\n\")\n",
    "        \n",
    "        if max_features.isnumeric():\n",
    "            max_features = int(max_features)\n",
    "            \n",
    "            if max_features < min_features:\n",
    "                print(\"The upper bound should be greater than the lower bound\" +\n",
    "                      f\" (currently {min_features}) — please retry.\\n\")\n",
    "            else:\n",
    "                prompting_user_input = False\n",
    "            \n",
    "        elif \"exit\" in max_estimators.lower():\n",
    "                sys.exit(\"Exiting program\")\n",
    "        else:\n",
    "            print(\"Non-integer passed as input — please retry.\\n\") \n",
    "            \n",
    "    \n",
    "    if max_features - min_features < 2:\n",
    "        return [min_features, max_features]\n",
    "    \n",
    "    prompting_user_input = True\n",
    "    while prompting_user_input:\n",
    "        num_steps = input(f\"How many values should we look at between {min_features} and {max_features}?\" + \n",
    "                          \" \\n(Type 'Exit' to quit)\\n\")\n",
    "        \n",
    "        if num_steps.isnumeric():\n",
    "            num_steps = int(num_steps)\n",
    "            \n",
    "            if num_steps < 1:\n",
    "                print(\"The number of values examined must be at least 1 — please retry\\n\")\n",
    "            else:\n",
    "                step_size = int( (max_features + 1 - min_features) / (num_steps )) \n",
    "                prompting_user_input = False\n",
    "                return np.arange(min_features, max_features + 1, step_size)\n",
    "            \n",
    "        elif \"exit\" in num_steps.lower():\n",
    "                sys.exit(\"Exiting program\")\n",
    "        else:\n",
    "            print(\"Non-integer passed as input — please retry.\\n\")\n",
    "            \n",
    "            \n",
    "def get_n_leaf_from_input():\n",
    "    \n",
    "\n",
    "    prompting_user_input = True\n",
    "    while prompting_user_input:\n",
    "        min_leaf = input(\"Give a lower bound for the number of samples in each tree\" +\n",
    "                             \"\\n(Type 'Exit' to quit)\\n\")\n",
    "        \n",
    "        if min_leaf.isnumeric():\n",
    "            min_leaf = int(min_leaf)\n",
    "            \n",
    "            if min_leaf < 1:\n",
    "                print(\"The minimum number of samples must be at least 1 — please retry\\n\")\n",
    "            else:\n",
    "                prompting_user_input = False\n",
    "            \n",
    "        elif \"exit\" in min_leaf.lower():\n",
    "                sys.exit(\"Exiting program\")\n",
    "        else:\n",
    "            print(\"\"\"Non-integer passed as input — please retry.\\n\"\"\")   \n",
    "      \n",
    "    prompting_user_input = True\n",
    "    while prompting_user_input:\n",
    "        max_leaf = input(\"Give an upper bound for the number of samples in each tree\" +\n",
    "                             \"\\n(Type 'Exit' to quit)\\n\")\n",
    "        \n",
    "        if max_leaf.isnumeric():\n",
    "            max_leaf = int(max_leaf)\n",
    "            \n",
    "            if max_leaf < min_leaf:\n",
    "                print(\"The upper bound should be greater than the lower bound\" +\n",
    "                      f\" (currently {min_leaf}) — please retry.\\n\")\n",
    "            else:\n",
    "                prompting_user_input = False\n",
    "            \n",
    "        elif \"exit\" in max_leaf.lower():\n",
    "                sys.exit(\"Exiting program\")\n",
    "        else:\n",
    "            print(\"Non-integer passed as input — please retry.\\n\") \n",
    "            \n",
    "    \n",
    "    if max_leaf - min_leaf < 2:\n",
    "        return [min_leaf, max_leaf]\n",
    "    \n",
    "    prompting_user_input = True\n",
    "    while prompting_user_input:\n",
    "        num_steps = input(f\"How many values should we look at between {min_leaf} and {max_leaf}?\" + \n",
    "                          \" \\n(Type 'Exit' to quit)\\n\")\n",
    "        \n",
    "        if num_steps.isnumeric():\n",
    "            num_steps = int(num_steps)\n",
    "            \n",
    "            if num_steps < 1:\n",
    "                print(\"The number of values examined must be at least 1 — please retry\\n\")\n",
    "            elif int( (max_leaf + 1 - min_leaf) / (num_steps)) < 1:\n",
    "                print(f\"Cannot subdivide the interval [{min_leaf}, {max_leaf}] into that many integers — please retry\\n\")\n",
    "            else:\n",
    "                step_size = int( (max_leaf + 1 - min_leaf) / (num_steps)) \n",
    "                prompting_user_input = False\n",
    "                return np.arange(min_leaf, max_leaf + 1, step_size)\n",
    "            \n",
    "        elif \"exit\" in num_steps.lower():\n",
    "                sys.exit(\"Exiting program\")\n",
    "        else:\n",
    "            print(\"Non-integer passed as input — please retry.\\n\")\n",
    "            \n",
    "            \n",
    "        \n",
    "n_estimators = get_n_estimators_from_input()\n",
    "n_features = get_n_features_from_input(predictors)\n",
    "n_leaf = get_n_leaf_from_input()\n",
    "\n",
    "\n",
    "\n",
    "\n",
    "\n",
    "params={'classifier__max_features': n_features,\n",
    "        'classifier__n_estimators': n_estimators,\n",
    "        'classifier__min_samples_leaf':n_leaf\n",
    "        }\n",
    "\n",
    "\n",
    "cross_folds = 10\n",
    "print(f\"\\n\\nRunning {cross_folds*len(n_features)*len(n_estimators)*len(n_leaf)} models .....\\n\\n\" )\n",
    "search = GridSearchCV(pipe_random_forest, params, cv=cross_folds, n_jobs=5)\n",
    "search.fit(X_train, Y_train)\n",
    "\n",
    "\n",
    "\n",
    "\n",
    "scores_mean = search.cv_results_['mean_test_score'].reshape(len(n_features), \n",
    "                                                            len(n_leaf),\n",
    "                                                            len(n_estimators))\n",
    "random_forest_performance = pd.DataFrame({\n",
    "    \"Trees\" : n_estimators\n",
    "})\n",
    "\n",
    "\n",
    "titles=[f'min_samples_leaf={leaf}' for leaf in n_leaf]\n",
    "subs= make_subplots(rows=len(n_leaf),\n",
    "                    cols=1, \n",
    "                    subplot_titles=titles\n",
    "                   )\n",
    "\n",
    "\n",
    "for idx_1, val_1 in enumerate(n_leaf):\n",
    "    for idx_2, val_2 in enumerate(n_features):\n",
    "        feature_str = \"features_\" + str(val_2)  + \"_leaf_\" + str(val_1)\n",
    "        random_forest_performance[feature_str] = scores_mean[idx_2,idx_1,:]\n",
    "        \n",
    "    figure_traces = []\n",
    "    fig = px.line(random_forest_performance, x=\"Trees\",\n",
    "                  y=[col for col in random_forest_performance.columns if f'leaf_{val_1}' in col],\n",
    "                 title=f\"Random Forest Performance (leaf={val_1})\").update_layout(yaxis_title=\"R^2 value\")\n",
    "    for trace in range(len(fig[\"data\"])):\n",
    "        figure_traces.append(fig[\"data\"][trace])\n",
    "    for traces in figure_traces:\n",
    "        subs.append_trace(traces, row=(idx_1 + 1), col=1)\n",
    "        \n",
    "    subs.update_xaxes(title_text=\"# Trees\", row=(idx_1 + 1), col=1)\n",
    "\n",
    "    \n",
    "subs.update_layout(height=(250 * len(n_leaf)), title_text=\"Random Forest Performance\")\n",
    "subs.show()        \n",
    "        \n",
    "    \n",
    "print(f\"\\nThe best performing Random Forest had {search.best_params_['classifier__n_estimators']} trees;\" +\n",
    "     \"\\nin each tree, a split point is only considered if it leaves \" +\n",
    "      f\"{search.best_params_['classifier__min_samples_leaf']} samples in each of the left & right branches.\" +\n",
    "     f\"\\nEach decision tree only considered {search.best_params_['classifier__max_features']}\" +\n",
    "     \" predictors when looking for the best split.\\nThis gave a mean R^2 score of \" +\n",
    "     f\"{search.best_score_} across the {cross_folds} folds of the training data.\\n\")    \n",
    "    \n",
    "\n",
    "print(\"\\n\\n\")\n",
    "print('Training set score: ' + str(search.score(X_train, Y_train)))\n",
    "print('Test set score: ' + str(search.score(X_test, Y_test)))\n",
    "\n"
   ]
  },
  {
   "cell_type": "code",
   "execution_count": 81,
   "id": "b7ed59cd",
   "metadata": {},
   "outputs": [
    {
     "data": {
      "application/vnd.plotly.v1+json": {
       "config": {
        "plotlyServerURL": "https://plot.ly"
       },
       "data": [
        {
         "hovertemplate": "variable=alpha_0.0001<br>L1_Ratio=%{x}<br>value=%{y}<extra></extra>",
         "legendgroup": "alpha_0.0001",
         "line": {
          "color": "#636efa",
          "dash": "solid"
         },
         "marker": {
          "symbol": "circle"
         },
         "mode": "lines",
         "name": "alpha_0.0001",
         "orientation": "v",
         "showlegend": true,
         "type": "scatter",
         "x": [
          0,
          0.1,
          0.2,
          0.30000000000000004,
          0.4,
          0.5,
          0.6000000000000001,
          0.7000000000000001,
          0.8,
          0.9
         ],
         "xaxis": "x",
         "y": [
          0.9705969624198483,
          0.9707417981475555,
          0.9708779827978384,
          0.9710157459083885,
          0.97114437839152,
          0.9712644681088639,
          0.9713867249817474,
          0.9715064740476047,
          0.971624300632163,
          0.9717322446984584
         ],
         "yaxis": "y"
        },
        {
         "hovertemplate": "variable=alpha_0.001<br>L1_Ratio=%{x}<br>value=%{y}<extra></extra>",
         "legendgroup": "alpha_0.001",
         "line": {
          "color": "#EF553B",
          "dash": "solid"
         },
         "marker": {
          "symbol": "circle"
         },
         "mode": "lines",
         "name": "alpha_0.001",
         "orientation": "v",
         "showlegend": true,
         "type": "scatter",
         "x": [
          0,
          0.1,
          0.2,
          0.30000000000000004,
          0.4,
          0.5,
          0.6000000000000001,
          0.7000000000000001,
          0.8,
          0.9
         ],
         "xaxis": "x",
         "y": [
          0.9713244052108007,
          0.9721918905763062,
          0.9728651168683122,
          0.9733938696377157,
          0.9737684026471323,
          0.9741240101696047,
          0.9743480513551098,
          0.9745416040130982,
          0.9746602525331985,
          0.9747464902726639
         ],
         "yaxis": "y"
        },
        {
         "hovertemplate": "variable=alpha_0.01<br>L1_Ratio=%{x}<br>value=%{y}<extra></extra>",
         "legendgroup": "alpha_0.01",
         "line": {
          "color": "#00cc96",
          "dash": "solid"
         },
         "marker": {
          "symbol": "circle"
         },
         "mode": "lines",
         "name": "alpha_0.01",
         "orientation": "v",
         "showlegend": true,
         "type": "scatter",
         "x": [
          0,
          0.1,
          0.2,
          0.30000000000000004,
          0.4,
          0.5,
          0.6000000000000001,
          0.7000000000000001,
          0.8,
          0.9
         ],
         "xaxis": "x",
         "y": [
          0.9717368965772988,
          0.9732044084037277,
          0.9735954553643665,
          0.9738707868103379,
          0.9740544530756404,
          0.9742282747039059,
          0.9743634242700135,
          0.9744690718006274,
          0.974570451095464,
          0.9747326977348628
         ],
         "yaxis": "y"
        },
        {
         "hovertemplate": "variable=alpha_0.1<br>L1_Ratio=%{x}<br>value=%{y}<extra></extra>",
         "legendgroup": "alpha_0.1",
         "line": {
          "color": "#ab63fa",
          "dash": "solid"
         },
         "marker": {
          "symbol": "circle"
         },
         "mode": "lines",
         "name": "alpha_0.1",
         "orientation": "v",
         "showlegend": true,
         "type": "scatter",
         "x": [
          0,
          0.1,
          0.2,
          0.30000000000000004,
          0.4,
          0.5,
          0.6000000000000001,
          0.7000000000000001,
          0.8,
          0.9
         ],
         "xaxis": "x",
         "y": [
          0.9586365007069719,
          0.9592417433841585,
          0.9593280720492434,
          0.9586436881899296,
          0.9573824732675348,
          0.955580774319527,
          0.9532997016475754,
          0.9507085612729023,
          0.9479229022656908,
          0.944921660923511
         ],
         "yaxis": "y"
        },
        {
         "hovertemplate": "variable=alpha_1<br>L1_Ratio=%{x}<br>value=%{y}<extra></extra>",
         "legendgroup": "alpha_1",
         "line": {
          "color": "#FFA15A",
          "dash": "solid"
         },
         "marker": {
          "symbol": "circle"
         },
         "mode": "lines",
         "name": "alpha_1",
         "orientation": "v",
         "showlegend": true,
         "type": "scatter",
         "x": [
          0,
          0.1,
          0.2,
          0.30000000000000004,
          0.4,
          0.5,
          0.6000000000000001,
          0.7000000000000001,
          0.8,
          0.9
         ],
         "xaxis": "x",
         "y": [
          0.8980417559140476,
          0.851230720442292,
          0.7422822853590321,
          0.5759631524329789,
          0.3557583746798279,
          0.09171457543716977,
          -0.03131840220919857,
          -0.03131840220919857,
          -0.03131840220919857,
          -0.03131840220919857
         ],
         "yaxis": "y"
        },
        {
         "hovertemplate": "variable=alpha_10<br>L1_Ratio=%{x}<br>value=%{y}<extra></extra>",
         "legendgroup": "alpha_10",
         "line": {
          "color": "#19d3f3",
          "dash": "solid"
         },
         "marker": {
          "symbol": "circle"
         },
         "mode": "lines",
         "name": "alpha_10",
         "orientation": "v",
         "showlegend": true,
         "type": "scatter",
         "x": [
          0,
          0.1,
          0.2,
          0.30000000000000004,
          0.4,
          0.5,
          0.6000000000000001,
          0.7000000000000001,
          0.8,
          0.9
         ],
         "xaxis": "x",
         "y": [
          0.7201734128966402,
          -0.03131840220919857,
          -0.03131840220919857,
          -0.03131840220919857,
          -0.03131840220919857,
          -0.03131840220919857,
          -0.03131840220919857,
          -0.03131840220919857,
          -0.03131840220919857,
          -0.03131840220919857
         ],
         "yaxis": "y"
        },
        {
         "hovertemplate": "variable=alpha_100<br>L1_Ratio=%{x}<br>value=%{y}<extra></extra>",
         "legendgroup": "alpha_100",
         "line": {
          "color": "#FF6692",
          "dash": "solid"
         },
         "marker": {
          "symbol": "circle"
         },
         "mode": "lines",
         "name": "alpha_100",
         "orientation": "v",
         "showlegend": true,
         "type": "scatter",
         "x": [
          0,
          0.1,
          0.2,
          0.30000000000000004,
          0.4,
          0.5,
          0.6000000000000001,
          0.7000000000000001,
          0.8,
          0.9
         ],
         "xaxis": "x",
         "y": [
          0.25457380963608917,
          -0.03131840220919857,
          -0.03131840220919857,
          -0.03131840220919857,
          -0.03131840220919857,
          -0.03131840220919857,
          -0.03131840220919857,
          -0.03131840220919857,
          -0.03131840220919857,
          -0.03131840220919857
         ],
         "yaxis": "y"
        }
       ],
       "layout": {
        "legend": {
         "title": {
          "text": "variable"
         },
         "tracegroupgap": 0
        },
        "template": {
         "data": {
          "bar": [
           {
            "error_x": {
             "color": "#2a3f5f"
            },
            "error_y": {
             "color": "#2a3f5f"
            },
            "marker": {
             "line": {
              "color": "#E5ECF6",
              "width": 0.5
             },
             "pattern": {
              "fillmode": "overlay",
              "size": 10,
              "solidity": 0.2
             }
            },
            "type": "bar"
           }
          ],
          "barpolar": [
           {
            "marker": {
             "line": {
              "color": "#E5ECF6",
              "width": 0.5
             },
             "pattern": {
              "fillmode": "overlay",
              "size": 10,
              "solidity": 0.2
             }
            },
            "type": "barpolar"
           }
          ],
          "carpet": [
           {
            "aaxis": {
             "endlinecolor": "#2a3f5f",
             "gridcolor": "white",
             "linecolor": "white",
             "minorgridcolor": "white",
             "startlinecolor": "#2a3f5f"
            },
            "baxis": {
             "endlinecolor": "#2a3f5f",
             "gridcolor": "white",
             "linecolor": "white",
             "minorgridcolor": "white",
             "startlinecolor": "#2a3f5f"
            },
            "type": "carpet"
           }
          ],
          "choropleth": [
           {
            "colorbar": {
             "outlinewidth": 0,
             "ticks": ""
            },
            "type": "choropleth"
           }
          ],
          "contour": [
           {
            "colorbar": {
             "outlinewidth": 0,
             "ticks": ""
            },
            "colorscale": [
             [
              0,
              "#0d0887"
             ],
             [
              0.1111111111111111,
              "#46039f"
             ],
             [
              0.2222222222222222,
              "#7201a8"
             ],
             [
              0.3333333333333333,
              "#9c179e"
             ],
             [
              0.4444444444444444,
              "#bd3786"
             ],
             [
              0.5555555555555556,
              "#d8576b"
             ],
             [
              0.6666666666666666,
              "#ed7953"
             ],
             [
              0.7777777777777778,
              "#fb9f3a"
             ],
             [
              0.8888888888888888,
              "#fdca26"
             ],
             [
              1,
              "#f0f921"
             ]
            ],
            "type": "contour"
           }
          ],
          "contourcarpet": [
           {
            "colorbar": {
             "outlinewidth": 0,
             "ticks": ""
            },
            "type": "contourcarpet"
           }
          ],
          "heatmap": [
           {
            "colorbar": {
             "outlinewidth": 0,
             "ticks": ""
            },
            "colorscale": [
             [
              0,
              "#0d0887"
             ],
             [
              0.1111111111111111,
              "#46039f"
             ],
             [
              0.2222222222222222,
              "#7201a8"
             ],
             [
              0.3333333333333333,
              "#9c179e"
             ],
             [
              0.4444444444444444,
              "#bd3786"
             ],
             [
              0.5555555555555556,
              "#d8576b"
             ],
             [
              0.6666666666666666,
              "#ed7953"
             ],
             [
              0.7777777777777778,
              "#fb9f3a"
             ],
             [
              0.8888888888888888,
              "#fdca26"
             ],
             [
              1,
              "#f0f921"
             ]
            ],
            "type": "heatmap"
           }
          ],
          "heatmapgl": [
           {
            "colorbar": {
             "outlinewidth": 0,
             "ticks": ""
            },
            "colorscale": [
             [
              0,
              "#0d0887"
             ],
             [
              0.1111111111111111,
              "#46039f"
             ],
             [
              0.2222222222222222,
              "#7201a8"
             ],
             [
              0.3333333333333333,
              "#9c179e"
             ],
             [
              0.4444444444444444,
              "#bd3786"
             ],
             [
              0.5555555555555556,
              "#d8576b"
             ],
             [
              0.6666666666666666,
              "#ed7953"
             ],
             [
              0.7777777777777778,
              "#fb9f3a"
             ],
             [
              0.8888888888888888,
              "#fdca26"
             ],
             [
              1,
              "#f0f921"
             ]
            ],
            "type": "heatmapgl"
           }
          ],
          "histogram": [
           {
            "marker": {
             "pattern": {
              "fillmode": "overlay",
              "size": 10,
              "solidity": 0.2
             }
            },
            "type": "histogram"
           }
          ],
          "histogram2d": [
           {
            "colorbar": {
             "outlinewidth": 0,
             "ticks": ""
            },
            "colorscale": [
             [
              0,
              "#0d0887"
             ],
             [
              0.1111111111111111,
              "#46039f"
             ],
             [
              0.2222222222222222,
              "#7201a8"
             ],
             [
              0.3333333333333333,
              "#9c179e"
             ],
             [
              0.4444444444444444,
              "#bd3786"
             ],
             [
              0.5555555555555556,
              "#d8576b"
             ],
             [
              0.6666666666666666,
              "#ed7953"
             ],
             [
              0.7777777777777778,
              "#fb9f3a"
             ],
             [
              0.8888888888888888,
              "#fdca26"
             ],
             [
              1,
              "#f0f921"
             ]
            ],
            "type": "histogram2d"
           }
          ],
          "histogram2dcontour": [
           {
            "colorbar": {
             "outlinewidth": 0,
             "ticks": ""
            },
            "colorscale": [
             [
              0,
              "#0d0887"
             ],
             [
              0.1111111111111111,
              "#46039f"
             ],
             [
              0.2222222222222222,
              "#7201a8"
             ],
             [
              0.3333333333333333,
              "#9c179e"
             ],
             [
              0.4444444444444444,
              "#bd3786"
             ],
             [
              0.5555555555555556,
              "#d8576b"
             ],
             [
              0.6666666666666666,
              "#ed7953"
             ],
             [
              0.7777777777777778,
              "#fb9f3a"
             ],
             [
              0.8888888888888888,
              "#fdca26"
             ],
             [
              1,
              "#f0f921"
             ]
            ],
            "type": "histogram2dcontour"
           }
          ],
          "mesh3d": [
           {
            "colorbar": {
             "outlinewidth": 0,
             "ticks": ""
            },
            "type": "mesh3d"
           }
          ],
          "parcoords": [
           {
            "line": {
             "colorbar": {
              "outlinewidth": 0,
              "ticks": ""
             }
            },
            "type": "parcoords"
           }
          ],
          "pie": [
           {
            "automargin": true,
            "type": "pie"
           }
          ],
          "scatter": [
           {
            "fillpattern": {
             "fillmode": "overlay",
             "size": 10,
             "solidity": 0.2
            },
            "type": "scatter"
           }
          ],
          "scatter3d": [
           {
            "line": {
             "colorbar": {
              "outlinewidth": 0,
              "ticks": ""
             }
            },
            "marker": {
             "colorbar": {
              "outlinewidth": 0,
              "ticks": ""
             }
            },
            "type": "scatter3d"
           }
          ],
          "scattercarpet": [
           {
            "marker": {
             "colorbar": {
              "outlinewidth": 0,
              "ticks": ""
             }
            },
            "type": "scattercarpet"
           }
          ],
          "scattergeo": [
           {
            "marker": {
             "colorbar": {
              "outlinewidth": 0,
              "ticks": ""
             }
            },
            "type": "scattergeo"
           }
          ],
          "scattergl": [
           {
            "marker": {
             "colorbar": {
              "outlinewidth": 0,
              "ticks": ""
             }
            },
            "type": "scattergl"
           }
          ],
          "scattermapbox": [
           {
            "marker": {
             "colorbar": {
              "outlinewidth": 0,
              "ticks": ""
             }
            },
            "type": "scattermapbox"
           }
          ],
          "scatterpolar": [
           {
            "marker": {
             "colorbar": {
              "outlinewidth": 0,
              "ticks": ""
             }
            },
            "type": "scatterpolar"
           }
          ],
          "scatterpolargl": [
           {
            "marker": {
             "colorbar": {
              "outlinewidth": 0,
              "ticks": ""
             }
            },
            "type": "scatterpolargl"
           }
          ],
          "scatterternary": [
           {
            "marker": {
             "colorbar": {
              "outlinewidth": 0,
              "ticks": ""
             }
            },
            "type": "scatterternary"
           }
          ],
          "surface": [
           {
            "colorbar": {
             "outlinewidth": 0,
             "ticks": ""
            },
            "colorscale": [
             [
              0,
              "#0d0887"
             ],
             [
              0.1111111111111111,
              "#46039f"
             ],
             [
              0.2222222222222222,
              "#7201a8"
             ],
             [
              0.3333333333333333,
              "#9c179e"
             ],
             [
              0.4444444444444444,
              "#bd3786"
             ],
             [
              0.5555555555555556,
              "#d8576b"
             ],
             [
              0.6666666666666666,
              "#ed7953"
             ],
             [
              0.7777777777777778,
              "#fb9f3a"
             ],
             [
              0.8888888888888888,
              "#fdca26"
             ],
             [
              1,
              "#f0f921"
             ]
            ],
            "type": "surface"
           }
          ],
          "table": [
           {
            "cells": {
             "fill": {
              "color": "#EBF0F8"
             },
             "line": {
              "color": "white"
             }
            },
            "header": {
             "fill": {
              "color": "#C8D4E3"
             },
             "line": {
              "color": "white"
             }
            },
            "type": "table"
           }
          ]
         },
         "layout": {
          "annotationdefaults": {
           "arrowcolor": "#2a3f5f",
           "arrowhead": 0,
           "arrowwidth": 1
          },
          "autotypenumbers": "strict",
          "coloraxis": {
           "colorbar": {
            "outlinewidth": 0,
            "ticks": ""
           }
          },
          "colorscale": {
           "diverging": [
            [
             0,
             "#8e0152"
            ],
            [
             0.1,
             "#c51b7d"
            ],
            [
             0.2,
             "#de77ae"
            ],
            [
             0.3,
             "#f1b6da"
            ],
            [
             0.4,
             "#fde0ef"
            ],
            [
             0.5,
             "#f7f7f7"
            ],
            [
             0.6,
             "#e6f5d0"
            ],
            [
             0.7,
             "#b8e186"
            ],
            [
             0.8,
             "#7fbc41"
            ],
            [
             0.9,
             "#4d9221"
            ],
            [
             1,
             "#276419"
            ]
           ],
           "sequential": [
            [
             0,
             "#0d0887"
            ],
            [
             0.1111111111111111,
             "#46039f"
            ],
            [
             0.2222222222222222,
             "#7201a8"
            ],
            [
             0.3333333333333333,
             "#9c179e"
            ],
            [
             0.4444444444444444,
             "#bd3786"
            ],
            [
             0.5555555555555556,
             "#d8576b"
            ],
            [
             0.6666666666666666,
             "#ed7953"
            ],
            [
             0.7777777777777778,
             "#fb9f3a"
            ],
            [
             0.8888888888888888,
             "#fdca26"
            ],
            [
             1,
             "#f0f921"
            ]
           ],
           "sequentialminus": [
            [
             0,
             "#0d0887"
            ],
            [
             0.1111111111111111,
             "#46039f"
            ],
            [
             0.2222222222222222,
             "#7201a8"
            ],
            [
             0.3333333333333333,
             "#9c179e"
            ],
            [
             0.4444444444444444,
             "#bd3786"
            ],
            [
             0.5555555555555556,
             "#d8576b"
            ],
            [
             0.6666666666666666,
             "#ed7953"
            ],
            [
             0.7777777777777778,
             "#fb9f3a"
            ],
            [
             0.8888888888888888,
             "#fdca26"
            ],
            [
             1,
             "#f0f921"
            ]
           ]
          },
          "colorway": [
           "#636efa",
           "#EF553B",
           "#00cc96",
           "#ab63fa",
           "#FFA15A",
           "#19d3f3",
           "#FF6692",
           "#B6E880",
           "#FF97FF",
           "#FECB52"
          ],
          "font": {
           "color": "#2a3f5f"
          },
          "geo": {
           "bgcolor": "white",
           "lakecolor": "white",
           "landcolor": "#E5ECF6",
           "showlakes": true,
           "showland": true,
           "subunitcolor": "white"
          },
          "hoverlabel": {
           "align": "left"
          },
          "hovermode": "closest",
          "mapbox": {
           "style": "light"
          },
          "paper_bgcolor": "white",
          "plot_bgcolor": "#E5ECF6",
          "polar": {
           "angularaxis": {
            "gridcolor": "white",
            "linecolor": "white",
            "ticks": ""
           },
           "bgcolor": "#E5ECF6",
           "radialaxis": {
            "gridcolor": "white",
            "linecolor": "white",
            "ticks": ""
           }
          },
          "scene": {
           "xaxis": {
            "backgroundcolor": "#E5ECF6",
            "gridcolor": "white",
            "gridwidth": 2,
            "linecolor": "white",
            "showbackground": true,
            "ticks": "",
            "zerolinecolor": "white"
           },
           "yaxis": {
            "backgroundcolor": "#E5ECF6",
            "gridcolor": "white",
            "gridwidth": 2,
            "linecolor": "white",
            "showbackground": true,
            "ticks": "",
            "zerolinecolor": "white"
           },
           "zaxis": {
            "backgroundcolor": "#E5ECF6",
            "gridcolor": "white",
            "gridwidth": 2,
            "linecolor": "white",
            "showbackground": true,
            "ticks": "",
            "zerolinecolor": "white"
           }
          },
          "shapedefaults": {
           "line": {
            "color": "#2a3f5f"
           }
          },
          "ternary": {
           "aaxis": {
            "gridcolor": "white",
            "linecolor": "white",
            "ticks": ""
           },
           "baxis": {
            "gridcolor": "white",
            "linecolor": "white",
            "ticks": ""
           },
           "bgcolor": "#E5ECF6",
           "caxis": {
            "gridcolor": "white",
            "linecolor": "white",
            "ticks": ""
           }
          },
          "title": {
           "x": 0.05
          },
          "xaxis": {
           "automargin": true,
           "gridcolor": "white",
           "linecolor": "white",
           "ticks": "",
           "title": {
            "standoff": 15
           },
           "zerolinecolor": "white",
           "zerolinewidth": 2
          },
          "yaxis": {
           "automargin": true,
           "gridcolor": "white",
           "linecolor": "white",
           "ticks": "",
           "title": {
            "standoff": 15
           },
           "zerolinecolor": "white",
           "zerolinewidth": 2
          }
         }
        },
        "title": {
         "text": "Elastic Net Performance"
        },
        "xaxis": {
         "anchor": "y",
         "domain": [
          0,
          1
         ],
         "title": {
          "text": "L1_Ratio"
         }
        },
        "yaxis": {
         "anchor": "x",
         "domain": [
          0,
          1
         ],
         "title": {
          "text": "R^2 value"
         }
        }
       }
      },
      "text/html": [
       "<div>                            <div id=\"6ad2409b-a04d-48e9-bf89-6e518755add9\" class=\"plotly-graph-div\" style=\"height:525px; width:100%;\"></div>            <script type=\"text/javascript\">                require([\"plotly\"], function(Plotly) {                    window.PLOTLYENV=window.PLOTLYENV || {};                                    if (document.getElementById(\"6ad2409b-a04d-48e9-bf89-6e518755add9\")) {                    Plotly.newPlot(                        \"6ad2409b-a04d-48e9-bf89-6e518755add9\",                        [{\"hovertemplate\":\"variable=alpha_0.0001<br>L1_Ratio=%{x}<br>value=%{y}<extra></extra>\",\"legendgroup\":\"alpha_0.0001\",\"line\":{\"color\":\"#636efa\",\"dash\":\"solid\"},\"marker\":{\"symbol\":\"circle\"},\"mode\":\"lines\",\"name\":\"alpha_0.0001\",\"orientation\":\"v\",\"showlegend\":true,\"x\":[0.0,0.1,0.2,0.30000000000000004,0.4,0.5,0.6000000000000001,0.7000000000000001,0.8,0.9],\"xaxis\":\"x\",\"y\":[0.9705969624198483,0.9707417981475555,0.9708779827978384,0.9710157459083885,0.97114437839152,0.9712644681088639,0.9713867249817474,0.9715064740476047,0.971624300632163,0.9717322446984584],\"yaxis\":\"y\",\"type\":\"scatter\"},{\"hovertemplate\":\"variable=alpha_0.001<br>L1_Ratio=%{x}<br>value=%{y}<extra></extra>\",\"legendgroup\":\"alpha_0.001\",\"line\":{\"color\":\"#EF553B\",\"dash\":\"solid\"},\"marker\":{\"symbol\":\"circle\"},\"mode\":\"lines\",\"name\":\"alpha_0.001\",\"orientation\":\"v\",\"showlegend\":true,\"x\":[0.0,0.1,0.2,0.30000000000000004,0.4,0.5,0.6000000000000001,0.7000000000000001,0.8,0.9],\"xaxis\":\"x\",\"y\":[0.9713244052108007,0.9721918905763062,0.9728651168683122,0.9733938696377157,0.9737684026471323,0.9741240101696047,0.9743480513551098,0.9745416040130982,0.9746602525331985,0.9747464902726639],\"yaxis\":\"y\",\"type\":\"scatter\"},{\"hovertemplate\":\"variable=alpha_0.01<br>L1_Ratio=%{x}<br>value=%{y}<extra></extra>\",\"legendgroup\":\"alpha_0.01\",\"line\":{\"color\":\"#00cc96\",\"dash\":\"solid\"},\"marker\":{\"symbol\":\"circle\"},\"mode\":\"lines\",\"name\":\"alpha_0.01\",\"orientation\":\"v\",\"showlegend\":true,\"x\":[0.0,0.1,0.2,0.30000000000000004,0.4,0.5,0.6000000000000001,0.7000000000000001,0.8,0.9],\"xaxis\":\"x\",\"y\":[0.9717368965772988,0.9732044084037277,0.9735954553643665,0.9738707868103379,0.9740544530756404,0.9742282747039059,0.9743634242700135,0.9744690718006274,0.974570451095464,0.9747326977348628],\"yaxis\":\"y\",\"type\":\"scatter\"},{\"hovertemplate\":\"variable=alpha_0.1<br>L1_Ratio=%{x}<br>value=%{y}<extra></extra>\",\"legendgroup\":\"alpha_0.1\",\"line\":{\"color\":\"#ab63fa\",\"dash\":\"solid\"},\"marker\":{\"symbol\":\"circle\"},\"mode\":\"lines\",\"name\":\"alpha_0.1\",\"orientation\":\"v\",\"showlegend\":true,\"x\":[0.0,0.1,0.2,0.30000000000000004,0.4,0.5,0.6000000000000001,0.7000000000000001,0.8,0.9],\"xaxis\":\"x\",\"y\":[0.9586365007069719,0.9592417433841585,0.9593280720492434,0.9586436881899296,0.9573824732675348,0.955580774319527,0.9532997016475754,0.9507085612729023,0.9479229022656908,0.944921660923511],\"yaxis\":\"y\",\"type\":\"scatter\"},{\"hovertemplate\":\"variable=alpha_1<br>L1_Ratio=%{x}<br>value=%{y}<extra></extra>\",\"legendgroup\":\"alpha_1\",\"line\":{\"color\":\"#FFA15A\",\"dash\":\"solid\"},\"marker\":{\"symbol\":\"circle\"},\"mode\":\"lines\",\"name\":\"alpha_1\",\"orientation\":\"v\",\"showlegend\":true,\"x\":[0.0,0.1,0.2,0.30000000000000004,0.4,0.5,0.6000000000000001,0.7000000000000001,0.8,0.9],\"xaxis\":\"x\",\"y\":[0.8980417559140476,0.851230720442292,0.7422822853590321,0.5759631524329789,0.3557583746798279,0.09171457543716977,-0.03131840220919857,-0.03131840220919857,-0.03131840220919857,-0.03131840220919857],\"yaxis\":\"y\",\"type\":\"scatter\"},{\"hovertemplate\":\"variable=alpha_10<br>L1_Ratio=%{x}<br>value=%{y}<extra></extra>\",\"legendgroup\":\"alpha_10\",\"line\":{\"color\":\"#19d3f3\",\"dash\":\"solid\"},\"marker\":{\"symbol\":\"circle\"},\"mode\":\"lines\",\"name\":\"alpha_10\",\"orientation\":\"v\",\"showlegend\":true,\"x\":[0.0,0.1,0.2,0.30000000000000004,0.4,0.5,0.6000000000000001,0.7000000000000001,0.8,0.9],\"xaxis\":\"x\",\"y\":[0.7201734128966402,-0.03131840220919857,-0.03131840220919857,-0.03131840220919857,-0.03131840220919857,-0.03131840220919857,-0.03131840220919857,-0.03131840220919857,-0.03131840220919857,-0.03131840220919857],\"yaxis\":\"y\",\"type\":\"scatter\"},{\"hovertemplate\":\"variable=alpha_100<br>L1_Ratio=%{x}<br>value=%{y}<extra></extra>\",\"legendgroup\":\"alpha_100\",\"line\":{\"color\":\"#FF6692\",\"dash\":\"solid\"},\"marker\":{\"symbol\":\"circle\"},\"mode\":\"lines\",\"name\":\"alpha_100\",\"orientation\":\"v\",\"showlegend\":true,\"x\":[0.0,0.1,0.2,0.30000000000000004,0.4,0.5,0.6000000000000001,0.7000000000000001,0.8,0.9],\"xaxis\":\"x\",\"y\":[0.25457380963608917,-0.03131840220919857,-0.03131840220919857,-0.03131840220919857,-0.03131840220919857,-0.03131840220919857,-0.03131840220919857,-0.03131840220919857,-0.03131840220919857,-0.03131840220919857],\"yaxis\":\"y\",\"type\":\"scatter\"}],                        {\"template\":{\"data\":{\"histogram2dcontour\":[{\"type\":\"histogram2dcontour\",\"colorbar\":{\"outlinewidth\":0,\"ticks\":\"\"},\"colorscale\":[[0.0,\"#0d0887\"],[0.1111111111111111,\"#46039f\"],[0.2222222222222222,\"#7201a8\"],[0.3333333333333333,\"#9c179e\"],[0.4444444444444444,\"#bd3786\"],[0.5555555555555556,\"#d8576b\"],[0.6666666666666666,\"#ed7953\"],[0.7777777777777778,\"#fb9f3a\"],[0.8888888888888888,\"#fdca26\"],[1.0,\"#f0f921\"]]}],\"choropleth\":[{\"type\":\"choropleth\",\"colorbar\":{\"outlinewidth\":0,\"ticks\":\"\"}}],\"histogram2d\":[{\"type\":\"histogram2d\",\"colorbar\":{\"outlinewidth\":0,\"ticks\":\"\"},\"colorscale\":[[0.0,\"#0d0887\"],[0.1111111111111111,\"#46039f\"],[0.2222222222222222,\"#7201a8\"],[0.3333333333333333,\"#9c179e\"],[0.4444444444444444,\"#bd3786\"],[0.5555555555555556,\"#d8576b\"],[0.6666666666666666,\"#ed7953\"],[0.7777777777777778,\"#fb9f3a\"],[0.8888888888888888,\"#fdca26\"],[1.0,\"#f0f921\"]]}],\"heatmap\":[{\"type\":\"heatmap\",\"colorbar\":{\"outlinewidth\":0,\"ticks\":\"\"},\"colorscale\":[[0.0,\"#0d0887\"],[0.1111111111111111,\"#46039f\"],[0.2222222222222222,\"#7201a8\"],[0.3333333333333333,\"#9c179e\"],[0.4444444444444444,\"#bd3786\"],[0.5555555555555556,\"#d8576b\"],[0.6666666666666666,\"#ed7953\"],[0.7777777777777778,\"#fb9f3a\"],[0.8888888888888888,\"#fdca26\"],[1.0,\"#f0f921\"]]}],\"heatmapgl\":[{\"type\":\"heatmapgl\",\"colorbar\":{\"outlinewidth\":0,\"ticks\":\"\"},\"colorscale\":[[0.0,\"#0d0887\"],[0.1111111111111111,\"#46039f\"],[0.2222222222222222,\"#7201a8\"],[0.3333333333333333,\"#9c179e\"],[0.4444444444444444,\"#bd3786\"],[0.5555555555555556,\"#d8576b\"],[0.6666666666666666,\"#ed7953\"],[0.7777777777777778,\"#fb9f3a\"],[0.8888888888888888,\"#fdca26\"],[1.0,\"#f0f921\"]]}],\"contourcarpet\":[{\"type\":\"contourcarpet\",\"colorbar\":{\"outlinewidth\":0,\"ticks\":\"\"}}],\"contour\":[{\"type\":\"contour\",\"colorbar\":{\"outlinewidth\":0,\"ticks\":\"\"},\"colorscale\":[[0.0,\"#0d0887\"],[0.1111111111111111,\"#46039f\"],[0.2222222222222222,\"#7201a8\"],[0.3333333333333333,\"#9c179e\"],[0.4444444444444444,\"#bd3786\"],[0.5555555555555556,\"#d8576b\"],[0.6666666666666666,\"#ed7953\"],[0.7777777777777778,\"#fb9f3a\"],[0.8888888888888888,\"#fdca26\"],[1.0,\"#f0f921\"]]}],\"surface\":[{\"type\":\"surface\",\"colorbar\":{\"outlinewidth\":0,\"ticks\":\"\"},\"colorscale\":[[0.0,\"#0d0887\"],[0.1111111111111111,\"#46039f\"],[0.2222222222222222,\"#7201a8\"],[0.3333333333333333,\"#9c179e\"],[0.4444444444444444,\"#bd3786\"],[0.5555555555555556,\"#d8576b\"],[0.6666666666666666,\"#ed7953\"],[0.7777777777777778,\"#fb9f3a\"],[0.8888888888888888,\"#fdca26\"],[1.0,\"#f0f921\"]]}],\"mesh3d\":[{\"type\":\"mesh3d\",\"colorbar\":{\"outlinewidth\":0,\"ticks\":\"\"}}],\"scatter\":[{\"fillpattern\":{\"fillmode\":\"overlay\",\"size\":10,\"solidity\":0.2},\"type\":\"scatter\"}],\"parcoords\":[{\"type\":\"parcoords\",\"line\":{\"colorbar\":{\"outlinewidth\":0,\"ticks\":\"\"}}}],\"scatterpolargl\":[{\"type\":\"scatterpolargl\",\"marker\":{\"colorbar\":{\"outlinewidth\":0,\"ticks\":\"\"}}}],\"bar\":[{\"error_x\":{\"color\":\"#2a3f5f\"},\"error_y\":{\"color\":\"#2a3f5f\"},\"marker\":{\"line\":{\"color\":\"#E5ECF6\",\"width\":0.5},\"pattern\":{\"fillmode\":\"overlay\",\"size\":10,\"solidity\":0.2}},\"type\":\"bar\"}],\"scattergeo\":[{\"type\":\"scattergeo\",\"marker\":{\"colorbar\":{\"outlinewidth\":0,\"ticks\":\"\"}}}],\"scatterpolar\":[{\"type\":\"scatterpolar\",\"marker\":{\"colorbar\":{\"outlinewidth\":0,\"ticks\":\"\"}}}],\"histogram\":[{\"marker\":{\"pattern\":{\"fillmode\":\"overlay\",\"size\":10,\"solidity\":0.2}},\"type\":\"histogram\"}],\"scattergl\":[{\"type\":\"scattergl\",\"marker\":{\"colorbar\":{\"outlinewidth\":0,\"ticks\":\"\"}}}],\"scatter3d\":[{\"type\":\"scatter3d\",\"line\":{\"colorbar\":{\"outlinewidth\":0,\"ticks\":\"\"}},\"marker\":{\"colorbar\":{\"outlinewidth\":0,\"ticks\":\"\"}}}],\"scattermapbox\":[{\"type\":\"scattermapbox\",\"marker\":{\"colorbar\":{\"outlinewidth\":0,\"ticks\":\"\"}}}],\"scatterternary\":[{\"type\":\"scatterternary\",\"marker\":{\"colorbar\":{\"outlinewidth\":0,\"ticks\":\"\"}}}],\"scattercarpet\":[{\"type\":\"scattercarpet\",\"marker\":{\"colorbar\":{\"outlinewidth\":0,\"ticks\":\"\"}}}],\"carpet\":[{\"aaxis\":{\"endlinecolor\":\"#2a3f5f\",\"gridcolor\":\"white\",\"linecolor\":\"white\",\"minorgridcolor\":\"white\",\"startlinecolor\":\"#2a3f5f\"},\"baxis\":{\"endlinecolor\":\"#2a3f5f\",\"gridcolor\":\"white\",\"linecolor\":\"white\",\"minorgridcolor\":\"white\",\"startlinecolor\":\"#2a3f5f\"},\"type\":\"carpet\"}],\"table\":[{\"cells\":{\"fill\":{\"color\":\"#EBF0F8\"},\"line\":{\"color\":\"white\"}},\"header\":{\"fill\":{\"color\":\"#C8D4E3\"},\"line\":{\"color\":\"white\"}},\"type\":\"table\"}],\"barpolar\":[{\"marker\":{\"line\":{\"color\":\"#E5ECF6\",\"width\":0.5},\"pattern\":{\"fillmode\":\"overlay\",\"size\":10,\"solidity\":0.2}},\"type\":\"barpolar\"}],\"pie\":[{\"automargin\":true,\"type\":\"pie\"}]},\"layout\":{\"autotypenumbers\":\"strict\",\"colorway\":[\"#636efa\",\"#EF553B\",\"#00cc96\",\"#ab63fa\",\"#FFA15A\",\"#19d3f3\",\"#FF6692\",\"#B6E880\",\"#FF97FF\",\"#FECB52\"],\"font\":{\"color\":\"#2a3f5f\"},\"hovermode\":\"closest\",\"hoverlabel\":{\"align\":\"left\"},\"paper_bgcolor\":\"white\",\"plot_bgcolor\":\"#E5ECF6\",\"polar\":{\"bgcolor\":\"#E5ECF6\",\"angularaxis\":{\"gridcolor\":\"white\",\"linecolor\":\"white\",\"ticks\":\"\"},\"radialaxis\":{\"gridcolor\":\"white\",\"linecolor\":\"white\",\"ticks\":\"\"}},\"ternary\":{\"bgcolor\":\"#E5ECF6\",\"aaxis\":{\"gridcolor\":\"white\",\"linecolor\":\"white\",\"ticks\":\"\"},\"baxis\":{\"gridcolor\":\"white\",\"linecolor\":\"white\",\"ticks\":\"\"},\"caxis\":{\"gridcolor\":\"white\",\"linecolor\":\"white\",\"ticks\":\"\"}},\"coloraxis\":{\"colorbar\":{\"outlinewidth\":0,\"ticks\":\"\"}},\"colorscale\":{\"sequential\":[[0.0,\"#0d0887\"],[0.1111111111111111,\"#46039f\"],[0.2222222222222222,\"#7201a8\"],[0.3333333333333333,\"#9c179e\"],[0.4444444444444444,\"#bd3786\"],[0.5555555555555556,\"#d8576b\"],[0.6666666666666666,\"#ed7953\"],[0.7777777777777778,\"#fb9f3a\"],[0.8888888888888888,\"#fdca26\"],[1.0,\"#f0f921\"]],\"sequentialminus\":[[0.0,\"#0d0887\"],[0.1111111111111111,\"#46039f\"],[0.2222222222222222,\"#7201a8\"],[0.3333333333333333,\"#9c179e\"],[0.4444444444444444,\"#bd3786\"],[0.5555555555555556,\"#d8576b\"],[0.6666666666666666,\"#ed7953\"],[0.7777777777777778,\"#fb9f3a\"],[0.8888888888888888,\"#fdca26\"],[1.0,\"#f0f921\"]],\"diverging\":[[0,\"#8e0152\"],[0.1,\"#c51b7d\"],[0.2,\"#de77ae\"],[0.3,\"#f1b6da\"],[0.4,\"#fde0ef\"],[0.5,\"#f7f7f7\"],[0.6,\"#e6f5d0\"],[0.7,\"#b8e186\"],[0.8,\"#7fbc41\"],[0.9,\"#4d9221\"],[1,\"#276419\"]]},\"xaxis\":{\"gridcolor\":\"white\",\"linecolor\":\"white\",\"ticks\":\"\",\"title\":{\"standoff\":15},\"zerolinecolor\":\"white\",\"automargin\":true,\"zerolinewidth\":2},\"yaxis\":{\"gridcolor\":\"white\",\"linecolor\":\"white\",\"ticks\":\"\",\"title\":{\"standoff\":15},\"zerolinecolor\":\"white\",\"automargin\":true,\"zerolinewidth\":2},\"scene\":{\"xaxis\":{\"backgroundcolor\":\"#E5ECF6\",\"gridcolor\":\"white\",\"linecolor\":\"white\",\"showbackground\":true,\"ticks\":\"\",\"zerolinecolor\":\"white\",\"gridwidth\":2},\"yaxis\":{\"backgroundcolor\":\"#E5ECF6\",\"gridcolor\":\"white\",\"linecolor\":\"white\",\"showbackground\":true,\"ticks\":\"\",\"zerolinecolor\":\"white\",\"gridwidth\":2},\"zaxis\":{\"backgroundcolor\":\"#E5ECF6\",\"gridcolor\":\"white\",\"linecolor\":\"white\",\"showbackground\":true,\"ticks\":\"\",\"zerolinecolor\":\"white\",\"gridwidth\":2}},\"shapedefaults\":{\"line\":{\"color\":\"#2a3f5f\"}},\"annotationdefaults\":{\"arrowcolor\":\"#2a3f5f\",\"arrowhead\":0,\"arrowwidth\":1},\"geo\":{\"bgcolor\":\"white\",\"landcolor\":\"#E5ECF6\",\"subunitcolor\":\"white\",\"showland\":true,\"showlakes\":true,\"lakecolor\":\"white\"},\"title\":{\"x\":0.05},\"mapbox\":{\"style\":\"light\"}}},\"xaxis\":{\"anchor\":\"y\",\"domain\":[0.0,1.0],\"title\":{\"text\":\"L1_Ratio\"}},\"yaxis\":{\"anchor\":\"x\",\"domain\":[0.0,1.0],\"title\":{\"text\":\"R^2 value\"}},\"legend\":{\"title\":{\"text\":\"variable\"},\"tracegroupgap\":0},\"title\":{\"text\":\"Elastic Net Performance\"}},                        {\"responsive\": true}                    ).then(function(){\n",
       "                            \n",
       "var gd = document.getElementById('6ad2409b-a04d-48e9-bf89-6e518755add9');\n",
       "var x = new MutationObserver(function (mutations, observer) {{\n",
       "        var display = window.getComputedStyle(gd).display;\n",
       "        if (!display || display === 'none') {{\n",
       "            console.log([gd, 'removed!']);\n",
       "            Plotly.purge(gd);\n",
       "            observer.disconnect();\n",
       "        }}\n",
       "}});\n",
       "\n",
       "// Listen for the removal of the full notebook cells\n",
       "var notebookContainer = gd.closest('#notebook-container');\n",
       "if (notebookContainer) {{\n",
       "    x.observe(notebookContainer, {childList: true});\n",
       "}}\n",
       "\n",
       "// Listen for the clearing of the current output cell\n",
       "var outputEl = gd.closest('.output');\n",
       "if (outputEl) {{\n",
       "    x.observe(outputEl, {childList: true});\n",
       "}}\n",
       "\n",
       "                        })                };                });            </script>        </div>"
      ]
     },
     "metadata": {},
     "output_type": "display_data"
    },
    {
     "name": "stdout",
     "output_type": "stream",
     "text": [
      "The best performing Elastic Net regression model had an L1 ratio of 0.9 (i.e. 90.0% Lasso regression)\n",
      "together with penalty coefficient of 0.001\n",
      "This gave a mean R^2 score of 0.9747464902726639 across the 10 folds of the training data.\n",
      "\n"
     ]
    }
   ],
   "source": [
    "pipe_elastic_net = Pipeline([\n",
    "    ('scaler', preprocessing.StandardScaler()), \n",
    "    ('classifier', ElasticNet())\n",
    "])\n",
    "\n",
    "\n",
    "alphas = [0.0001, 0.001, 0.01, 0.1, 1, 10, 100]\n",
    "l1_ratios = np.arange(0.0, 1.0, 0.1)\n",
    "\n",
    "\n",
    "\n",
    "with warnings.catch_warnings():\n",
    "    warnings.simplefilter(\"ignore\")\n",
    "    search = GridSearchCV(pipe_elastic_net, {\"classifier__alpha\": alphas,\n",
    "                               \"classifier__l1_ratio\": l1_ratios},\n",
    "                        scoring='r2', cv=cross_folds)\n",
    "    search.fit(X_train, Y_train)\n",
    "    \n",
    "# predY = grid.predict(testX)\n",
    "\n",
    "\n",
    "scores_mean = search.cv_results_['mean_test_score'].reshape(len(alphas),\n",
    "                                                          len(l1_ratios))\n",
    "\n",
    "\n",
    "elastic_net_performance = pd.DataFrame({\n",
    "    \"L1_Ratio\" : l1_ratios\n",
    "})\n",
    "\n",
    "for idx, val in enumerate(alphas):\n",
    "    alpha_str = \"alpha_\" + str(val)\n",
    "    elastic_net_performance[alpha_str] = scores_mean[idx,:]\n",
    "    \n",
    "fig = px.line(elastic_net_performance, x=\"L1_Ratio\",\n",
    "                  y=[col for col in elastic_net_performance.columns if 'alpha' in col],\n",
    "                 title=\"Elastic Net Performance\").update_layout(\n",
    "    yaxis_title=\"R^2 value\"\n",
    ")\n",
    "fig.show()\n",
    "\n",
    "\n",
    "\n",
    "print(f\"The best performing Elastic Net regression model had an L1 ratio of {search.best_params_['classifier__l1_ratio']}\" + \n",
    "     f\" (i.e. {100*search.best_params_['classifier__l1_ratio']}% Lasso regression)\\n\" +\n",
    "     f\"together with penalty coefficient of {search.best_params_['classifier__alpha']}\" +\n",
    "     \"\\nThis gave a mean R^2 score of \" +\n",
    "     f\"{search.best_score_} across the {cross_folds} folds of the training data.\\n\")\n",
    "\n"
   ]
  },
  {
   "cell_type": "code",
   "execution_count": null,
   "id": "f2fa599c",
   "metadata": {},
   "outputs": [],
   "source": []
  }
 ],
 "metadata": {
  "kernelspec": {
   "display_name": "Python 3 (ipykernel)",
   "language": "python",
   "name": "python3"
  },
  "language_info": {
   "codemirror_mode": {
    "name": "ipython",
    "version": 3
   },
   "file_extension": ".py",
   "mimetype": "text/x-python",
   "name": "python",
   "nbconvert_exporter": "python",
   "pygments_lexer": "ipython3",
   "version": "3.10.7"
  }
 },
 "nbformat": 4,
 "nbformat_minor": 5
}
