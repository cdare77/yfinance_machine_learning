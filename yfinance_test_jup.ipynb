{
 "cells": [
  {
   "cell_type": "code",
   "execution_count": 18,
   "id": "de15fa7d",
   "metadata": {},
   "outputs": [
    {
     "data": {
      "application/javascript": [
       "IPython.OutputArea.prototype._should_scroll = function(lines) {\n",
       "    return false;\n",
       "}\n"
      ],
      "text/plain": [
       "<IPython.core.display.Javascript object>"
      ]
     },
     "metadata": {},
     "output_type": "display_data"
    }
   ],
   "source": [
    "%%javascript\n",
    "IPython.OutputArea.prototype._should_scroll = function(lines) {\n",
    "    return false;\n",
    "}"
   ]
  },
  {
   "cell_type": "markdown",
   "id": "8c9580c2",
   "metadata": {},
   "source": [
    "## Import Libraries"
   ]
  },
  {
   "cell_type": "code",
   "execution_count": 42,
   "id": "1731c502",
   "metadata": {},
   "outputs": [],
   "source": [
    "import yfinance as yf\n",
    "import pandas as pd\n",
    "import numpy as np\n",
    "import sys\n",
    "import warnings\n",
    "import plotly.express as px\n",
    "\n",
    "import matplotlib.dates as mdates\n",
    "import matplotlib.pyplot as plt\n",
    "from datetime import date, datetime, timedelta\n",
    "from sklearn import preprocessing\n",
    "from sklearn import linear_model\n",
    "from sklearn.model_selection import train_test_split\n",
    "from sklearn.model_selection import RepeatedKFold\n",
    "from sklearn.linear_model import ElasticNet\n",
    "from sklearn.model_selection import GridSearchCV\n",
    "from plotnine import *\n",
    "from sklearn.metrics import make_scorer, mean_squared_error\n",
    "# from plotly.tools import mpl_to_plotly as ggplotly\n"
   ]
  },
  {
   "cell_type": "markdown",
   "id": "2a16b749",
   "metadata": {},
   "source": [
    "## Add Data Wrappers"
   ]
  },
  {
   "cell_type": "code",
   "execution_count": 86,
   "id": "eded60f9",
   "metadata": {},
   "outputs": [],
   "source": [
    "class StockDataWrapper:\n",
    "    \"\"\"A wrapper class to bundle stock data (stored in a pandas DataFrame) together with information\n",
    "    about how the data was collected (such as what the time frame is between two data points)\n",
    "\n",
    "    A StockDataWrapper class at the minimum requires a pandas DataFrame (the primary object we are \n",
    "    interested in wrapping) as well as the respective stock symbol passed as a string so that we are\n",
    "    able to easily refer to the specific stock in later formatting. \n",
    "    \n",
    "    Certain variables must be set (from either user input or a config file) prior to calling a handful \n",
    "    of methods. Specifically, \n",
    "    \n",
    "    \n",
    "\n",
    "    Attributes:\n",
    "        data_frame:    A pandas DataFrame object containing stocks data such as Open, Close,\n",
    "            Volume, High, Low, etc.\n",
    "            \n",
    "        stock_symbol:   A string representing the stock's symbol (i.e. AAPL for Apple)\n",
    "        \n",
    "        granularity:    The time interval between two data points [1m, 2m, 5m, 15m, 30m, 1h]\n",
    "        \n",
    "        num_days:    The number of days of stock data that we are looking at  \n",
    "        \n",
    "        lag_length:    The number of previous days\n",
    "    \"\"\"\n",
    "    \n",
    "\n",
    "    def __init__(self, data_frame, stock_symbol):\n",
    "        \"\"\"Initializes the instance based on a pandas DataFrame.\n",
    "\n",
    "        Args:\n",
    "            data_frame: a pandas DataFrame object\n",
    "            stock_symbol: a string representing the stock's symbol (i.e. AAPL for Apple)\n",
    "        Raises:\n",
    "            ValueError: if one of the arguments is not the specified data type\n",
    "        \"\"\"\n",
    "        \n",
    "        if not isinstance(data_frame, pd.DataFrame):\n",
    "            raise ValueError(\"data_frame must be a pandas DataFrame object\")\n",
    "        if not isinstance(stock_symbol, str):\n",
    "            raise ValueError(\"stock_symbol must be a string\")\n",
    "            \n",
    "        self.data_frame = data_frame\n",
    "        self.stock_symbol = stock_symbol\n",
    "        self.granularity = 0\n",
    "        self.num_days = 0\n",
    "        self.lag_length = 0\n",
    "\n",
    "    def __str__(self):\n",
    "        \"\"\"Indicataes how to represent a StockDataWrapper object when\n",
    "        passed as a string to print\n",
    "        \"\"\"\n",
    "        my_str = f'Stock Name: {self.stock_symbol}\\n'\n",
    "        \n",
    "        # Check whether several variables have been set\n",
    "        if self.granularity == 0:\n",
    "            my_str += \"Granularity of data not set\\n\"\n",
    "        else:\n",
    "            my_str += f\"Granularity: {self.granularity}\\n\"\n",
    "        \n",
    "        if self.num_days == 0:\n",
    "            my_str += \"Number of days of stock data not set\\n\"\n",
    "        else:\n",
    "            my_str += f\"Number of days of stock data: {self.num_days}\\n\"\n",
    "        \n",
    "        if self.lag_length == 0:\n",
    "            my_str += \"Number of lag variables not set\\n\"\n",
    "        else:\n",
    "            my_str += f\"Number of lag variables: {self.lag_length}\\n\"\n",
    "\n",
    "        my_str += \"\\n\\n\"\n",
    "        # Call the underlying Pandas DataFrame object's __str__\n",
    "        my_str += str(self.data_frame)\n",
    "\n",
    "        return my_str\n",
    "    \n",
    "    \n",
    "    \n",
    "    def add_lag_variables(self, num_lags):\n",
    "\n",
    "        for i in range(1,num_lags + 1):\n",
    "            index_str = \"Close_L\" + str(i)\n",
    "            self.data_frame[index_str] = self.data_frame['Close'].shift(i)\n",
    "\n",
    "        # Backfill the entries to remove any NaN\n",
    "        self.data_frame = self.data_frame.bfill(axis=0)\n",
    "        \n",
    "        \n",
    "    \n",
    "    def clean_lag_variables(self):\n",
    "        existing_lag_names = list(self.data_frame.filter(regex='Close_L'))\n",
    "        \n",
    "        if (len(existing_lag_names) > 0):  \n",
    "            self.data_frame = self.data_frame[\n",
    "                self.data_frame.columns.drop(existing_lag_names)\n",
    "            ]\n",
    "    \n",
    "    def compute_maximal_lag_variables(self, ratio):\n",
    "        \"\"\"Once the stock data has been set\n",
    "\n",
    "        Args:\n",
    "            ratio: a pandas DataFrame object\n",
    "        Returns:\n",
    "            \n",
    "        Raises:\n",
    "            ValueError: if one of the arguments is not the specified data type\n",
    "        \"\"\"\n",
    "        if self.granularity == 0 or self.num_days == 0:\n",
    "            raise NameError(\"Both the granularity and number of days of stock data\" +\n",
    "                  \" must be set prior to computing the maximum number of lag variables\\n\")\n",
    "        if not isinstance(ratio, float):\n",
    "            raise ValueError(\"Ratio must be a decimal between 0 and 1\")\n",
    "        if ratio <= 0 or ratio >= 1:\n",
    "            raise ValueError(\"Ratio must be a decimal between 0 and 1\")\n",
    "        \n",
    "        if self.granularity == '1m':\n",
    "            data_entries = 389 * self.num_days\n",
    "        elif self.granularity == '2m':\n",
    "            data_entries = 195 * self.num_days\n",
    "        elif self.granularity == '5m':\n",
    "            data_entries = 78 * self.num_days\n",
    "        elif self.granularity == '15m':\n",
    "            data_entries = 26 * self.num_days\n",
    "        elif self.granularity == '30m':\n",
    "            data_entries = 13 * self.num_days\n",
    "        elif self.granularity == '1h':\n",
    "            data_entries = 7 * self.num_days\n",
    "        else:\n",
    "            raise NameError(\"Granularity is not set properly: must be set to \" +\n",
    "                  \"one of: 1m, 2m, 5m, 15m, 30m, 1h\\n\")\n",
    "        \n",
    "        return int(0.3 * data_entries)\n",
    "    \n",
    "\n",
    "    \n",
    "    def add_simple_moving_standard_deviation(self, length):\n",
    "    \n",
    "        if not isinstance(length, int):\n",
    "            raise ValueError(\"Parameter length must be integer\")\n",
    "        if self.lag_length == 0:\n",
    "            raise NameError(\"Lag variables must be set prior to adding simple moving average\")\n",
    "        if length > self.lag_length:\n",
    "            raise ValueError(\"Cannot take the average of more lag varaibles than are availible\" + \n",
    "                  f\" (currently {self.lag_length})\\n\")\n",
    "        \n",
    "        lag_predictors = []\n",
    "        column_label = \"SMSD_\"  + str(length)\n",
    "        \n",
    "        for i in range(1, length + 1):\n",
    "            lag_name = 'Close_L' + str(i)\n",
    "            lag_predictors.append(lag_name)\n",
    "\n",
    "        self.data_frame[column_label] = self.data_frame[lag_predictors].std(axis = 1, skipna = True)\n",
    "    \n",
    "    \n",
    "    def add_simple_moving_average(self, length):\n",
    "    \n",
    "        if not isinstance(length, int):\n",
    "            raise ValueError(\"Parameter length must be integer\")\n",
    "        if self.lag_length == 0:\n",
    "            raise NameError(\"Lag variables must be set prior to adding simple moving average\")\n",
    "        if length > self.lag_length:\n",
    "            raise ValueError(\"Cannot take the average of more lag varaibles than are availible\" + \n",
    "                  f\" (currently {self.lag_length})\\n\")\n",
    "\n",
    "        \n",
    "        lag_predictors = []\n",
    "        column_label = \"SMA_\"  + str(length)\n",
    "        \n",
    "        for i in range(1, length + 1):\n",
    "            lag_name = 'Close_L' + str(i)\n",
    "            lag_predictors.append(lag_name)\n",
    "\n",
    "        self.data_frame[column_label] = (self.data_frame[lag_predictors].sum(axis = 1,\n",
    "                                                                             skipna = True) / float(length))\n",
    "        \n",
    "        \n",
    "    def add_upper_bollinger(self, length):\n",
    "    \n",
    "        if not isinstance(length, int):\n",
    "            raise ValueError(\"Parameter length must be integer\")\n",
    "        if self.lag_length == 0:\n",
    "            raise NameError(\"Lag variables must be set prior to adding simple moving average\")\n",
    "        if length > self.lag_length:\n",
    "            raise ValueError(\"Cannot take the average of more lag varaibles than are availible\" + \n",
    "                  f\" (currently {self.lag_length})\\n\")\n",
    "\n",
    "        SMSD_string = \"SMSD_\" + str(length)\n",
    "        SMA_string = \"SMA_\" + str(length)\n",
    "        \n",
    "        if SMSD_string not in self.data_frame.columns:\n",
    "            self.add_simple_moving_standard_deviation(length)\n",
    "\n",
    "        if SMA_string not in self.data_frame.columns:\n",
    "            self.add_simple_moving_average(length)\n",
    "\n",
    "\n",
    "        upper_bollinger_str = \"upper_boll_\" + str(length)\n",
    "        self.data_frame[upper_bollinger_str] = self.data_frame[SMA_string] + self.data_frame[SMSD_string]\n",
    "        \n",
    "        \n",
    "    def add_lower_bollinger(self, length):\n",
    "    \n",
    "        if not isinstance(length, int):\n",
    "            raise ValueError(\"Parameter length must be integer\")\n",
    "        if self.lag_length == 0:\n",
    "            raise NameError(\"Lag variables must be set prior to adding simple moving average\")\n",
    "        if length > self.lag_length:\n",
    "            raise ValueError(\"Cannot take the average of more lag varaibles than are availible\" + \n",
    "                  f\" (currently {self.lag_length})\\n\")\n",
    "\n",
    "        SMSD_string = \"SMSD_\" + str(length)\n",
    "        SMA_string = \"SMA_\" + str(length)\n",
    "        \n",
    "        if SMSD_string not in self.data_frame.columns:\n",
    "            self.add_simple_moving_standard_deviation(length)\n",
    "\n",
    "        if SMA_string not in self.data_frame.columns:\n",
    "            self.add_simple_moving_average(length)\n",
    "\n",
    "\n",
    "        lower_bollinger_str = \"lower_boll_\" + str(length)\n",
    "        self.data_frame[lower_bollinger_str] = self.data_frame[SMA_string] - self.data_frame[SMSD_string]\n",
    "        \n",
    "        \n",
    "    def _exponential_moving_average_helper_(self, input_vec, smoothing_factor):\n",
    "        \n",
    "        vec_len = input_vec.shape[0]\n",
    "        output_vec = list(range(vec_len))\n",
    "        output_vec[0] = input_vec.iloc[0]\n",
    "\n",
    "        for i in range(1,vec_len):\n",
    "            output_vec[i] = smoothing_factor * input_vec.iloc[i] + (1 - smoothing_factor) * output_vec[i-1]\n",
    "\n",
    "        return(output_vec[-1])\n",
    "\n",
    "\n",
    "\n",
    "    def add_exponential_moving_average(self, lag_length):\n",
    "        if not isinstance(lag_length, int):\n",
    "            raise ValueError(\"Parameter lag_length must be integer\")\n",
    "        if self.lag_length == 0:\n",
    "            raise NameError(\"Lag variables must be set prior to adding exponental moving average\")\n",
    "        if lag_length > self.lag_length:\n",
    "            raise ValueError(\"Cannot take the average of more lag varaibles than are availible\" + \n",
    "                      f\" (currently {self.lag_length})\\n\")\n",
    "\n",
    "        column_label = \"EMA_\"  + str(lag_length)\n",
    "        length = self.data_frame.shape[0]\n",
    "        smoothing_factor = float(2/(lag_length + 1))\n",
    "\n",
    "\n",
    "        buffer = list(range(length))\n",
    "        buffer[0] = self.data_frame[\"Close\"].iloc[0]\n",
    "        buffer[1] = self.data_frame[\"Close\"].iloc[0]\n",
    "\n",
    "\n",
    "        for i in range(2, length):\n",
    "            # If there are less that lag_period of data previous to the current date,\n",
    "            # simply take the average of all the days prior to get the closest thing\n",
    "            # to a running average\n",
    "\n",
    "\n",
    "            if i <= lag_length:\n",
    "                buffer[i] = self._exponential_moving_average_helper_(\n",
    "                    self.data_frame[\"Close\"].iloc[0:i],\n",
    "                    2/(i + 1)\n",
    "                )\n",
    "            else:\n",
    "                buffer[i] = self._exponential_moving_average_helper_(\n",
    "                    self.data_frame[\"Close\"].iloc[i-lag_length:i],\n",
    "                    smoothing_factor\n",
    "                )\n",
    "\n",
    "\n",
    "        self.data_frame[column_label] = buffer\n",
    "\n",
    "\n",
    "    def add_MACD(self, max_lag, min_lag):\n",
    "        \n",
    "        if not isinstance(max_lag, int) or not isinstance(min_lag, int):\n",
    "            raise ValueError(\"Parameters max_lag and min_lag must be integer\")\n",
    "        if min_lag >= max_lag:\n",
    "            raise ValueError(\"min_lag must be strictly smaller than max_lag\")\n",
    "\n",
    "        EMA_string_min = \"EMA_\" + str(min_lag)\n",
    "        EMA_string_max = \"EMA_\" + str(max_lag)\n",
    "        column_label = \"MACD_\"  + str(min_lag) + \"_\" + str(max_lag)\n",
    "\n",
    "        if EMA_string_min not in self.data_frame.columns:\n",
    "            self.add_exponential_moving_average(min_lag)\n",
    "\n",
    "        if EMA_string_max not in self.data_frame.columns:\n",
    "            self.add_exponential_moving_average(max_lag)\n",
    "\n",
    "        self.data_frame[column_label] = (self.data_frame[EMA_string_min] - self.data_frame[EMA_string_max])\n"
   ]
  },
  {
   "cell_type": "markdown",
   "id": "f3ab2562",
   "metadata": {},
   "source": [
    "## Import Data from User Input"
   ]
  },
  {
   "cell_type": "code",
   "execution_count": 82,
   "id": "35e55b84",
   "metadata": {},
   "outputs": [],
   "source": [
    "def create_stock_data_from_input():\n",
    "\n",
    "    user_code = 0\n",
    "\n",
    "    while user_code == 0:\n",
    "        num_days_to_build = input(\"How many days of intraday stock market data should \" + \n",
    "                                  \" we use to build our model? Enter a value between \" +\n",
    "                                  \" 1 and 7:\\n(Type 'Exit' to quit)\\n\")\n",
    "\n",
    "        if num_days_to_build.isnumeric():\n",
    "            num_days_to_build = int(num_days_to_build)\n",
    "            if num_days_to_build > 0 and num_days_to_build < 8:\n",
    "                user_code = 1\n",
    "            else:\n",
    "                print(\"The number of days must be between 1 and 7 \"+\n",
    "                      \"— please retry. \\n (Type 'Exit' to quit)\\n\")\n",
    "        elif \"exit\" in num_days_to_build.lower():\n",
    "            sys.exit(\"Exiting program\")\n",
    "        else:\n",
    "            print(\"Non-integer passed as input — please retry. \\n(Type 'Exit' to quit)\\n\")\n",
    "\n",
    "\n",
    "    today = date.today()\n",
    "    num_days_prior = today - timedelta(num_days_to_build)\n",
    "\n",
    "    granularity_options = ['1m', '2m', '5m', '15m', '30m', '1h']\n",
    "    user_code = 0\n",
    "\n",
    "    while user_code == 0:\n",
    "        granulrity_input = input(\"How often should our model look at\" + \n",
    "                                 \" stock prices? Choose from 1m, 2m, 5m,\" +\n",
    "                                 \" 15m, 30m or 1h.\\n(Type 'Exit' to quit)\\n\"\n",
    "                                ).lower()\n",
    "        \n",
    "        if granulrity_input in granularity_options:\n",
    "            user_code = 1\n",
    "        elif \"exit\" in granulrity_input:\n",
    "            sys.exit(\"Exiting program\")\n",
    "        else:\n",
    "            print(\"Input was not among the options 1m, 2m,\" +\n",
    "                  \" 5m, 15m, 30m, or 1h — please retry.\"+\n",
    "                  \"\\n(Type 'Exit' to quit)\\n\")\n",
    "            \n",
    "    \n",
    "    stock_symbol = input(\"Please input the stock symbol you would like to examine: (e.g. AAPL)\\n\").upper()\n",
    "        \n",
    "\n",
    "\n",
    "    df = pd.DataFrame(yf.download(stock_symbol,\n",
    "                                start=num_days_prior,\n",
    "                                end=today,\n",
    "                                interval=granulrity_input)\n",
    "                            )\n",
    "    \n",
    "    stock_data = StockDataWrapper(df, stock_symbol)\n",
    "    stock_data.num_days = num_days_to_build\n",
    "    stock_data.granularity = granulrity_input\n",
    "\n",
    "    return stock_data\n",
    "\n",
    "\n",
    "\n",
    "def add_lags_from_input(stock_data):\n",
    "\n",
    "    user_code = 0\n",
    "    max_lag_len = stock_data.compute_maximal_lag_variables(0.3)\n",
    "    if max_lag_len == -1:\n",
    "        print(\"Cannot set lag variables without knowing granularity of number of days of data\")\n",
    "        return\n",
    "\n",
    "    # Clean up previous entries\n",
    "    stock_data.clean_lag_variables()\n",
    "\n",
    "    while user_code == 0:\n",
    "        lag_length = input(\"How many previous data points should our model look at?\\n (Type 'Exit' to quit)\\n\")\n",
    "\n",
    "        if lag_length.isnumeric():\n",
    "            lag_length = int(lag_length)\n",
    "            if lag_length <= max_lag_len:\n",
    "                stock_data.lag_length = lag_length\n",
    "                stock_data.add_lag_variables(lag_length)\n",
    "                user_code = 1\n",
    "            else:\n",
    "                print(\"The number of previous data points considered should\" +\n",
    "                      f\" not exceed 30%% \\nof the total number of data points (in this case, {max_lag_len}) -- please\" +\n",
    "                       \" retry. \\n\\n(Type 'Exit' to quit)\")\n",
    "        elif \"exit\" in num_days_to_build.lower():\n",
    "                sys.exit(\"Exiting program\")\n",
    "        else:\n",
    "            print(\"\"\"Non-integer passed as input — please retry.\n",
    "                  \\n\n",
    "                  (Type 'Exit' to quit)\\n\"\"\")"
   ]
  },
  {
   "cell_type": "markdown",
   "id": "c8c2df05",
   "metadata": {},
   "source": [
    "# Exploratory Data Analysis"
   ]
  },
  {
   "cell_type": "code",
   "execution_count": 85,
   "id": "99c4c9c6",
   "metadata": {},
   "outputs": [
    {
     "name": "stdout",
     "output_type": "stream",
     "text": [
      "How many days of intraday stock market data should  we use to build our model? Enter a value between  1 and 7:\n",
      "(Type 'Exit' to quit)\n",
      "1\n",
      "How often should our model look at stock prices? Choose from 1m, 2m, 5m, 15m, 30m or 1h.\n",
      "(Type 'Exit' to quit)\n",
      "1m\n",
      "Please input the stock symbol you would like to examine: (e.g. AAPL)\n",
      "aapl\n"
     ]
    },
    {
     "name": "stderr",
     "output_type": "stream",
     "text": [
      "[*********************100%%**********************]  1 of 1 completed\n"
     ]
    },
    {
     "data": {
      "application/vnd.plotly.v1+json": {
       "config": {
        "plotlyServerURL": "https://plot.ly"
       },
       "data": [
        {
         "hovertemplate": "Datetime=%{x}<br>Close=%{y}<extra></extra>",
         "legendgroup": "",
         "line": {
          "color": "#636efa",
          "dash": "solid"
         },
         "marker": {
          "symbol": "circle"
         },
         "mode": "lines",
         "name": "",
         "orientation": "v",
         "showlegend": false,
         "type": "scatter",
         "x": [
          "2024-06-06T09:30:00-04:00",
          "2024-06-06T09:31:00-04:00",
          "2024-06-06T09:32:00-04:00",
          "2024-06-06T09:33:00-04:00",
          "2024-06-06T09:34:00-04:00",
          "2024-06-06T09:35:00-04:00",
          "2024-06-06T09:36:00-04:00",
          "2024-06-06T09:37:00-04:00",
          "2024-06-06T09:38:00-04:00",
          "2024-06-06T09:39:00-04:00",
          "2024-06-06T09:40:00-04:00",
          "2024-06-06T09:41:00-04:00",
          "2024-06-06T09:42:00-04:00",
          "2024-06-06T09:43:00-04:00",
          "2024-06-06T09:44:00-04:00",
          "2024-06-06T09:45:00-04:00",
          "2024-06-06T09:46:00-04:00",
          "2024-06-06T09:47:00-04:00",
          "2024-06-06T09:48:00-04:00",
          "2024-06-06T09:49:00-04:00",
          "2024-06-06T09:50:00-04:00",
          "2024-06-06T09:51:00-04:00",
          "2024-06-06T09:52:00-04:00",
          "2024-06-06T09:53:00-04:00",
          "2024-06-06T09:54:00-04:00",
          "2024-06-06T09:55:00-04:00",
          "2024-06-06T09:56:00-04:00",
          "2024-06-06T09:57:00-04:00",
          "2024-06-06T09:58:00-04:00",
          "2024-06-06T09:59:00-04:00",
          "2024-06-06T10:00:00-04:00",
          "2024-06-06T10:01:00-04:00",
          "2024-06-06T10:02:00-04:00",
          "2024-06-06T10:03:00-04:00",
          "2024-06-06T10:04:00-04:00",
          "2024-06-06T10:05:00-04:00",
          "2024-06-06T10:06:00-04:00",
          "2024-06-06T10:07:00-04:00",
          "2024-06-06T10:08:00-04:00",
          "2024-06-06T10:09:00-04:00",
          "2024-06-06T10:10:00-04:00",
          "2024-06-06T10:11:00-04:00",
          "2024-06-06T10:12:00-04:00",
          "2024-06-06T10:13:00-04:00",
          "2024-06-06T10:14:00-04:00",
          "2024-06-06T10:15:00-04:00",
          "2024-06-06T10:16:00-04:00",
          "2024-06-06T10:17:00-04:00",
          "2024-06-06T10:18:00-04:00",
          "2024-06-06T10:19:00-04:00",
          "2024-06-06T10:20:00-04:00",
          "2024-06-06T10:21:00-04:00",
          "2024-06-06T10:22:00-04:00",
          "2024-06-06T10:23:00-04:00",
          "2024-06-06T10:24:00-04:00",
          "2024-06-06T10:25:00-04:00",
          "2024-06-06T10:26:00-04:00",
          "2024-06-06T10:27:00-04:00",
          "2024-06-06T10:28:00-04:00",
          "2024-06-06T10:29:00-04:00",
          "2024-06-06T10:30:00-04:00",
          "2024-06-06T10:31:00-04:00",
          "2024-06-06T10:32:00-04:00",
          "2024-06-06T10:33:00-04:00",
          "2024-06-06T10:34:00-04:00",
          "2024-06-06T10:35:00-04:00",
          "2024-06-06T10:36:00-04:00",
          "2024-06-06T10:37:00-04:00",
          "2024-06-06T10:38:00-04:00",
          "2024-06-06T10:39:00-04:00",
          "2024-06-06T10:40:00-04:00",
          "2024-06-06T10:41:00-04:00",
          "2024-06-06T10:42:00-04:00",
          "2024-06-06T10:43:00-04:00",
          "2024-06-06T10:44:00-04:00",
          "2024-06-06T10:45:00-04:00",
          "2024-06-06T10:46:00-04:00",
          "2024-06-06T10:47:00-04:00",
          "2024-06-06T10:48:00-04:00",
          "2024-06-06T10:49:00-04:00",
          "2024-06-06T10:50:00-04:00",
          "2024-06-06T10:51:00-04:00",
          "2024-06-06T10:52:00-04:00",
          "2024-06-06T10:53:00-04:00",
          "2024-06-06T10:54:00-04:00",
          "2024-06-06T10:55:00-04:00",
          "2024-06-06T10:56:00-04:00",
          "2024-06-06T10:57:00-04:00",
          "2024-06-06T10:58:00-04:00",
          "2024-06-06T10:59:00-04:00",
          "2024-06-06T11:00:00-04:00",
          "2024-06-06T11:01:00-04:00",
          "2024-06-06T11:02:00-04:00",
          "2024-06-06T11:03:00-04:00",
          "2024-06-06T11:04:00-04:00",
          "2024-06-06T11:05:00-04:00",
          "2024-06-06T11:06:00-04:00",
          "2024-06-06T11:07:00-04:00",
          "2024-06-06T11:08:00-04:00",
          "2024-06-06T11:09:00-04:00",
          "2024-06-06T11:10:00-04:00",
          "2024-06-06T11:11:00-04:00",
          "2024-06-06T11:12:00-04:00",
          "2024-06-06T11:13:00-04:00",
          "2024-06-06T11:14:00-04:00",
          "2024-06-06T11:15:00-04:00",
          "2024-06-06T11:16:00-04:00",
          "2024-06-06T11:17:00-04:00",
          "2024-06-06T11:18:00-04:00",
          "2024-06-06T11:19:00-04:00",
          "2024-06-06T11:20:00-04:00",
          "2024-06-06T11:21:00-04:00",
          "2024-06-06T11:22:00-04:00",
          "2024-06-06T11:23:00-04:00",
          "2024-06-06T11:24:00-04:00",
          "2024-06-06T11:25:00-04:00",
          "2024-06-06T11:26:00-04:00",
          "2024-06-06T11:27:00-04:00",
          "2024-06-06T11:28:00-04:00",
          "2024-06-06T11:29:00-04:00",
          "2024-06-06T11:30:00-04:00",
          "2024-06-06T11:31:00-04:00",
          "2024-06-06T11:32:00-04:00",
          "2024-06-06T11:33:00-04:00",
          "2024-06-06T11:34:00-04:00",
          "2024-06-06T11:35:00-04:00",
          "2024-06-06T11:36:00-04:00",
          "2024-06-06T11:37:00-04:00",
          "2024-06-06T11:38:00-04:00",
          "2024-06-06T11:39:00-04:00",
          "2024-06-06T11:40:00-04:00",
          "2024-06-06T11:41:00-04:00",
          "2024-06-06T11:42:00-04:00",
          "2024-06-06T11:43:00-04:00",
          "2024-06-06T11:44:00-04:00",
          "2024-06-06T11:45:00-04:00",
          "2024-06-06T11:46:00-04:00",
          "2024-06-06T11:47:00-04:00",
          "2024-06-06T11:48:00-04:00",
          "2024-06-06T11:49:00-04:00",
          "2024-06-06T11:50:00-04:00",
          "2024-06-06T11:51:00-04:00",
          "2024-06-06T11:52:00-04:00",
          "2024-06-06T11:53:00-04:00",
          "2024-06-06T11:54:00-04:00",
          "2024-06-06T11:55:00-04:00",
          "2024-06-06T11:56:00-04:00",
          "2024-06-06T11:57:00-04:00",
          "2024-06-06T11:58:00-04:00",
          "2024-06-06T11:59:00-04:00",
          "2024-06-06T12:00:00-04:00",
          "2024-06-06T12:01:00-04:00",
          "2024-06-06T12:02:00-04:00",
          "2024-06-06T12:03:00-04:00",
          "2024-06-06T12:04:00-04:00",
          "2024-06-06T12:05:00-04:00",
          "2024-06-06T12:06:00-04:00",
          "2024-06-06T12:07:00-04:00",
          "2024-06-06T12:08:00-04:00",
          "2024-06-06T12:09:00-04:00",
          "2024-06-06T12:10:00-04:00",
          "2024-06-06T12:11:00-04:00",
          "2024-06-06T12:12:00-04:00",
          "2024-06-06T12:13:00-04:00",
          "2024-06-06T12:14:00-04:00",
          "2024-06-06T12:15:00-04:00",
          "2024-06-06T12:16:00-04:00",
          "2024-06-06T12:17:00-04:00",
          "2024-06-06T12:18:00-04:00",
          "2024-06-06T12:19:00-04:00",
          "2024-06-06T12:20:00-04:00",
          "2024-06-06T12:21:00-04:00",
          "2024-06-06T12:22:00-04:00",
          "2024-06-06T12:23:00-04:00",
          "2024-06-06T12:24:00-04:00",
          "2024-06-06T12:25:00-04:00",
          "2024-06-06T12:26:00-04:00",
          "2024-06-06T12:27:00-04:00",
          "2024-06-06T12:28:00-04:00",
          "2024-06-06T12:29:00-04:00",
          "2024-06-06T12:30:00-04:00",
          "2024-06-06T12:31:00-04:00",
          "2024-06-06T12:32:00-04:00",
          "2024-06-06T12:33:00-04:00",
          "2024-06-06T12:34:00-04:00",
          "2024-06-06T12:35:00-04:00",
          "2024-06-06T12:36:00-04:00",
          "2024-06-06T12:37:00-04:00",
          "2024-06-06T12:38:00-04:00",
          "2024-06-06T12:39:00-04:00",
          "2024-06-06T12:40:00-04:00",
          "2024-06-06T12:41:00-04:00",
          "2024-06-06T12:42:00-04:00",
          "2024-06-06T12:43:00-04:00",
          "2024-06-06T12:44:00-04:00",
          "2024-06-06T12:45:00-04:00",
          "2024-06-06T12:46:00-04:00",
          "2024-06-06T12:47:00-04:00",
          "2024-06-06T12:48:00-04:00",
          "2024-06-06T12:49:00-04:00",
          "2024-06-06T12:50:00-04:00",
          "2024-06-06T12:51:00-04:00",
          "2024-06-06T12:52:00-04:00",
          "2024-06-06T12:53:00-04:00",
          "2024-06-06T12:54:00-04:00",
          "2024-06-06T12:55:00-04:00",
          "2024-06-06T12:56:00-04:00",
          "2024-06-06T12:57:00-04:00",
          "2024-06-06T12:58:00-04:00",
          "2024-06-06T12:59:00-04:00",
          "2024-06-06T13:00:00-04:00",
          "2024-06-06T13:01:00-04:00",
          "2024-06-06T13:02:00-04:00",
          "2024-06-06T13:03:00-04:00",
          "2024-06-06T13:04:00-04:00",
          "2024-06-06T13:05:00-04:00",
          "2024-06-06T13:06:00-04:00",
          "2024-06-06T13:07:00-04:00",
          "2024-06-06T13:08:00-04:00",
          "2024-06-06T13:09:00-04:00",
          "2024-06-06T13:10:00-04:00",
          "2024-06-06T13:11:00-04:00",
          "2024-06-06T13:12:00-04:00",
          "2024-06-06T13:13:00-04:00",
          "2024-06-06T13:14:00-04:00",
          "2024-06-06T13:15:00-04:00",
          "2024-06-06T13:16:00-04:00",
          "2024-06-06T13:17:00-04:00",
          "2024-06-06T13:18:00-04:00",
          "2024-06-06T13:19:00-04:00",
          "2024-06-06T13:20:00-04:00",
          "2024-06-06T13:21:00-04:00",
          "2024-06-06T13:22:00-04:00",
          "2024-06-06T13:23:00-04:00",
          "2024-06-06T13:24:00-04:00",
          "2024-06-06T13:25:00-04:00",
          "2024-06-06T13:26:00-04:00",
          "2024-06-06T13:27:00-04:00",
          "2024-06-06T13:28:00-04:00",
          "2024-06-06T13:29:00-04:00",
          "2024-06-06T13:30:00-04:00",
          "2024-06-06T13:31:00-04:00",
          "2024-06-06T13:32:00-04:00",
          "2024-06-06T13:33:00-04:00",
          "2024-06-06T13:34:00-04:00",
          "2024-06-06T13:35:00-04:00",
          "2024-06-06T13:36:00-04:00",
          "2024-06-06T13:37:00-04:00",
          "2024-06-06T13:38:00-04:00",
          "2024-06-06T13:39:00-04:00",
          "2024-06-06T13:40:00-04:00",
          "2024-06-06T13:41:00-04:00",
          "2024-06-06T13:42:00-04:00",
          "2024-06-06T13:43:00-04:00",
          "2024-06-06T13:44:00-04:00",
          "2024-06-06T13:45:00-04:00",
          "2024-06-06T13:46:00-04:00",
          "2024-06-06T13:47:00-04:00",
          "2024-06-06T13:48:00-04:00",
          "2024-06-06T13:49:00-04:00",
          "2024-06-06T13:50:00-04:00",
          "2024-06-06T13:51:00-04:00",
          "2024-06-06T13:52:00-04:00",
          "2024-06-06T13:53:00-04:00",
          "2024-06-06T13:54:00-04:00",
          "2024-06-06T13:55:00-04:00",
          "2024-06-06T13:56:00-04:00",
          "2024-06-06T13:57:00-04:00",
          "2024-06-06T13:58:00-04:00",
          "2024-06-06T13:59:00-04:00",
          "2024-06-06T14:00:00-04:00",
          "2024-06-06T14:01:00-04:00",
          "2024-06-06T14:02:00-04:00",
          "2024-06-06T14:03:00-04:00",
          "2024-06-06T14:04:00-04:00",
          "2024-06-06T14:05:00-04:00",
          "2024-06-06T14:06:00-04:00",
          "2024-06-06T14:07:00-04:00",
          "2024-06-06T14:08:00-04:00",
          "2024-06-06T14:09:00-04:00",
          "2024-06-06T14:10:00-04:00",
          "2024-06-06T14:11:00-04:00",
          "2024-06-06T14:12:00-04:00",
          "2024-06-06T14:13:00-04:00",
          "2024-06-06T14:14:00-04:00",
          "2024-06-06T14:15:00-04:00",
          "2024-06-06T14:16:00-04:00",
          "2024-06-06T14:17:00-04:00",
          "2024-06-06T14:18:00-04:00",
          "2024-06-06T14:19:00-04:00",
          "2024-06-06T14:20:00-04:00",
          "2024-06-06T14:21:00-04:00",
          "2024-06-06T14:22:00-04:00",
          "2024-06-06T14:23:00-04:00",
          "2024-06-06T14:24:00-04:00",
          "2024-06-06T14:25:00-04:00",
          "2024-06-06T14:26:00-04:00",
          "2024-06-06T14:27:00-04:00",
          "2024-06-06T14:28:00-04:00",
          "2024-06-06T14:29:00-04:00",
          "2024-06-06T14:30:00-04:00",
          "2024-06-06T14:31:00-04:00",
          "2024-06-06T14:32:00-04:00",
          "2024-06-06T14:33:00-04:00",
          "2024-06-06T14:34:00-04:00",
          "2024-06-06T14:35:00-04:00",
          "2024-06-06T14:36:00-04:00",
          "2024-06-06T14:37:00-04:00",
          "2024-06-06T14:38:00-04:00",
          "2024-06-06T14:39:00-04:00",
          "2024-06-06T14:40:00-04:00",
          "2024-06-06T14:41:00-04:00",
          "2024-06-06T14:42:00-04:00",
          "2024-06-06T14:43:00-04:00",
          "2024-06-06T14:44:00-04:00",
          "2024-06-06T14:45:00-04:00",
          "2024-06-06T14:46:00-04:00",
          "2024-06-06T14:47:00-04:00",
          "2024-06-06T14:48:00-04:00",
          "2024-06-06T14:49:00-04:00",
          "2024-06-06T14:50:00-04:00",
          "2024-06-06T14:51:00-04:00",
          "2024-06-06T14:52:00-04:00",
          "2024-06-06T14:53:00-04:00",
          "2024-06-06T14:54:00-04:00",
          "2024-06-06T14:55:00-04:00",
          "2024-06-06T14:56:00-04:00",
          "2024-06-06T14:57:00-04:00",
          "2024-06-06T14:58:00-04:00",
          "2024-06-06T14:59:00-04:00",
          "2024-06-06T15:00:00-04:00",
          "2024-06-06T15:01:00-04:00",
          "2024-06-06T15:02:00-04:00",
          "2024-06-06T15:03:00-04:00",
          "2024-06-06T15:04:00-04:00",
          "2024-06-06T15:05:00-04:00",
          "2024-06-06T15:06:00-04:00",
          "2024-06-06T15:07:00-04:00",
          "2024-06-06T15:08:00-04:00",
          "2024-06-06T15:09:00-04:00",
          "2024-06-06T15:10:00-04:00",
          "2024-06-06T15:11:00-04:00",
          "2024-06-06T15:12:00-04:00",
          "2024-06-06T15:13:00-04:00",
          "2024-06-06T15:14:00-04:00",
          "2024-06-06T15:15:00-04:00",
          "2024-06-06T15:16:00-04:00",
          "2024-06-06T15:17:00-04:00",
          "2024-06-06T15:18:00-04:00",
          "2024-06-06T15:19:00-04:00",
          "2024-06-06T15:20:00-04:00",
          "2024-06-06T15:21:00-04:00",
          "2024-06-06T15:22:00-04:00",
          "2024-06-06T15:23:00-04:00",
          "2024-06-06T15:24:00-04:00",
          "2024-06-06T15:25:00-04:00",
          "2024-06-06T15:26:00-04:00",
          "2024-06-06T15:27:00-04:00",
          "2024-06-06T15:28:00-04:00",
          "2024-06-06T15:29:00-04:00",
          "2024-06-06T15:30:00-04:00",
          "2024-06-06T15:31:00-04:00",
          "2024-06-06T15:32:00-04:00",
          "2024-06-06T15:33:00-04:00",
          "2024-06-06T15:34:00-04:00",
          "2024-06-06T15:35:00-04:00",
          "2024-06-06T15:36:00-04:00",
          "2024-06-06T15:37:00-04:00",
          "2024-06-06T15:38:00-04:00",
          "2024-06-06T15:39:00-04:00",
          "2024-06-06T15:40:00-04:00",
          "2024-06-06T15:41:00-04:00",
          "2024-06-06T15:42:00-04:00",
          "2024-06-06T15:43:00-04:00",
          "2024-06-06T15:44:00-04:00",
          "2024-06-06T15:45:00-04:00",
          "2024-06-06T15:46:00-04:00",
          "2024-06-06T15:47:00-04:00",
          "2024-06-06T15:48:00-04:00",
          "2024-06-06T15:49:00-04:00",
          "2024-06-06T15:50:00-04:00",
          "2024-06-06T15:51:00-04:00",
          "2024-06-06T15:52:00-04:00",
          "2024-06-06T15:53:00-04:00",
          "2024-06-06T15:54:00-04:00",
          "2024-06-06T15:55:00-04:00",
          "2024-06-06T15:56:00-04:00",
          "2024-06-06T15:57:00-04:00",
          "2024-06-06T15:58:00-04:00",
          "2024-06-06T15:59:00-04:00"
         ],
         "xaxis": "x",
         "y": [
          196.1300048828125,
          196.25999450683594,
          196.1082000732422,
          195.89999389648438,
          195.77000427246094,
          195.48680114746094,
          195.5760955810547,
          195.52999877929688,
          195.52999877929688,
          195.52000427246094,
          195.21499633789062,
          195.47999572753906,
          195.5500030517578,
          195.63360595703125,
          195.69000244140625,
          195.59219360351562,
          195.57000732421875,
          195.54049682617188,
          195.8000030517578,
          195.74000549316406,
          195.7799072265625,
          195.66409301757812,
          195.63999938964844,
          195.64999389648438,
          195.7050018310547,
          195.74000549316406,
          195.82000732421875,
          195.89999389648438,
          195.97000122070312,
          196.110107421875,
          196.2050018310547,
          196.14500427246094,
          195.93499755859375,
          196.08999633789062,
          196.02499389648438,
          195.83999633789062,
          195.75999450683594,
          195.75999450683594,
          195.66000366210938,
          195.7100067138672,
          195.83999633789062,
          195.9600067138672,
          195.97000122070312,
          196.05999755859375,
          196.1699981689453,
          196.26499938964844,
          196.3350067138672,
          196.35890197753906,
          196.2899932861328,
          196.25999450683594,
          196.27999877929688,
          196.25999450683594,
          196.47000122070312,
          196.44000244140625,
          196.210205078125,
          196.0500030517578,
          195.85000610351562,
          195.89999389648438,
          196.00999450683594,
          195.9199981689453,
          195.89999389648438,
          195.9149932861328,
          195.7899932861328,
          195.6999969482422,
          195.60499572753906,
          195.73500061035156,
          195.7899932861328,
          195.8300018310547,
          195.75,
          195.72000122070312,
          195.8000030517578,
          195.86000061035156,
          195.7899932861328,
          195.80999755859375,
          195.76499938964844,
          195.74000549316406,
          195.72999572753906,
          195.65789794921875,
          195.5299072265625,
          195.54510498046875,
          195.4600067138672,
          195.5800018310547,
          195.63999938964844,
          195.625,
          195.72979736328125,
          195.83999633789062,
          195.92999267578125,
          195.8300018310547,
          195.74000549316406,
          195.75,
          195.63999938964844,
          195.6999969482422,
          195.72000122070312,
          195.74000549316406,
          195.6876983642578,
          195.67230224609375,
          195.72500610351562,
          195.6999969482422,
          195.65499877929688,
          195.71499633789062,
          195.69500732421875,
          195.66000366210938,
          195.6199951171875,
          195.7449951171875,
          195.8000030517578,
          195.83999633789062,
          195.84500122070312,
          195.72999572753906,
          195.6649932861328,
          195.63009643554688,
          195.7050018310547,
          195.78500366210938,
          195.72000122070312,
          195.7541046142578,
          195.74000549316406,
          195.8249969482422,
          195.81500244140625,
          195.7899932861328,
          195.81500244140625,
          195.8350067138672,
          195.72500610351562,
          195.75,
          195.69000244140625,
          195.75160217285156,
          195.77000427246094,
          195.72999572753906,
          195.67799377441406,
          195.72999572753906,
          195.68499755859375,
          195.72000122070312,
          195.66000366210938,
          195.6300048828125,
          195.61000061035156,
          195.60130310058594,
          195.61000061035156,
          195.60499572753906,
          195.6300048828125,
          195.63999938964844,
          195.65499877929688,
          195.58810424804688,
          195.51499938964844,
          195.47999572753906,
          195.41000366210938,
          195.42999267578125,
          195.4199981689453,
          195.4499969482422,
          195.49000549316406,
          195.5699005126953,
          195.49000549316406,
          195.52999877929688,
          195.45419311523438,
          195.47000122070312,
          195.48789978027344,
          195.47999572753906,
          195.49000549316406,
          195.52000427246094,
          195.51539611816406,
          195.56500244140625,
          195.56849670410156,
          195.5601043701172,
          195.59860229492188,
          195.6750030517578,
          195.69000244140625,
          195.64100646972656,
          195.58999633789062,
          195.5399932861328,
          195.67999267578125,
          195.6750030517578,
          195.69500732421875,
          195.78500366210938,
          195.75999450683594,
          195.72000122070312,
          195.7440948486328,
          195.72000122070312,
          195.6750030517578,
          195.69500732421875,
          195.68499755859375,
          195.62989807128906,
          195.68499755859375,
          195.6699981689453,
          195.6699981689453,
          195.6999969482422,
          195.64999389648438,
          195.6300048828125,
          195.66000366210938,
          195.6999969482422,
          195.66000366210938,
          195.69500732421875,
          195.67999267578125,
          195.64999389648438,
          195.62969970703125,
          195.7050018310547,
          195.66969299316406,
          195.66000366210938,
          195.63999938964844,
          195.67999267578125,
          195.64999389648438,
          195.64999389648438,
          195.67999267578125,
          195.66000366210938,
          195.6649932861328,
          195.69500732421875,
          195.7100067138672,
          195.7100067138672,
          195.69500732421875,
          195.75,
          195.72000122070312,
          195.7449951171875,
          195.84500122070312,
          195.97000122070312,
          195.93099975585938,
          195.90989685058594,
          195.9499969482422,
          195.9499969482422,
          195.9550018310547,
          196,
          195.9949951171875,
          196.06979370117188,
          196.05999755859375,
          196.0500030517578,
          195.9550018310547,
          195.90499877929688,
          195.83999633789062,
          195.86500549316406,
          195.8350067138672,
          195.76499938964844,
          195.7799072265625,
          195.75,
          195.7550048828125,
          195.66000366210938,
          195.5399932861328,
          195.53500366210938,
          195.5399932861328,
          195.4976043701172,
          195.52499389648438,
          195.59849548339844,
          195.61000061035156,
          195.61000061035156,
          195.6199951171875,
          195.6479949951172,
          195.6300048828125,
          195.6898956298828,
          195.71499633789062,
          195.65499877929688,
          195.6199951171875,
          195.5800018310547,
          195.59500122070312,
          195.60000610351562,
          195.5749969482422,
          195.58999633789062,
          195.6466064453125,
          195.67999267578125,
          195.68499755859375,
          195.625,
          195.6298065185547,
          195.6199951171875,
          195.61000061035156,
          195.5749969482422,
          195.61000061035156,
          195.61500549316406,
          195.58999633789062,
          195.5850067138672,
          195.5749969482422,
          195.53500366210938,
          195.6280975341797,
          195.53500366210938,
          195.48500061035156,
          195.48500061035156,
          195.47830200195312,
          195.47500610351562,
          195.5449981689453,
          195.51499938964844,
          195.52000427246094,
          195.47000122070312,
          195.45249938964844,
          195.47999572753906,
          195.3583984375,
          195.2384033203125,
          195.14999389648438,
          194.99000549316406,
          195.10000610351562,
          195.06849670410156,
          195.0800018310547,
          195.23500061035156,
          195.3040008544922,
          195.28500366210938,
          195.30999755859375,
          195.3300018310547,
          195.38499450683594,
          195.41000366210938,
          195.35000610351562,
          195.4149932861328,
          195.52999877929688,
          195.5399932861328,
          195.5299072265625,
          195.49000549316406,
          195.49000549316406,
          195.50900268554688,
          195.52499389648438,
          195.54449462890625,
          195.4600067138672,
          195.3800048828125,
          195.44000244140625,
          195.4365997314453,
          195.4550018310547,
          195.35000610351562,
          195.3699951171875,
          195.35830688476562,
          195.30499267578125,
          195.2449951171875,
          195.22999572753906,
          195.26010131835938,
          195.25999450683594,
          195.25010681152344,
          195.24000549316406,
          195.25999450683594,
          195.27499389648438,
          195.25999450683594,
          195.27499389648438,
          195.27000427246094,
          195.30499267578125,
          195.27999877929688,
          195.35499572753906,
          195.3957977294922,
          195.3632049560547,
          195.38499450683594,
          195.35000610351562,
          195.2899932861328,
          195.27499389648438,
          195.24000549316406,
          195.22999572753906,
          195.25,
          195.22999572753906,
          195.23500061035156,
          195.21499633789062,
          195.23500061035156,
          195.27999877929688,
          195.3459014892578,
          195.29629516601562,
          195.27000427246094,
          195.2501983642578,
          195.19000244140625,
          195.1199951171875,
          195.0800018310547,
          195.05999755859375,
          195.1649932861328,
          195.2050018310547,
          195.22000122070312,
          195.30999755859375,
          195.35000610351562,
          195.2949981689453,
          195.2100067138672,
          195.24000549316406,
          195.2812957763672,
          195.25250244140625,
          195.28500366210938,
          195.23500061035156,
          195.23500061035156,
          195.28500366210938,
          195.39300537109375,
          195.44000244140625,
          195.3800048828125,
          195.39500427246094,
          195.35499572753906,
          195.2550048828125,
          195.16000366210938,
          195.13499450683594,
          195.13999938964844,
          195.2100067138672,
          195.1300048828125,
          195.05999755859375,
          195.0449981689453,
          195.01499938964844,
          194.99000549316406,
          194.9949951171875,
          195.02780151367188,
          195,
          195.07000732421875,
          195.10000610351562,
          195.0850067138672,
          194.85499572753906,
          194.55999755859375,
          194.40499877929688,
          194.45989990234375,
          194.30999755859375,
          194.32000732421875,
          194.1750030517578,
          194.41000366210938,
          194.34500122070312,
          194.47999572753906
         ],
         "yaxis": "y"
        }
       ],
       "layout": {
        "legend": {
         "tracegroupgap": 0
        },
        "template": {
         "data": {
          "bar": [
           {
            "error_x": {
             "color": "#2a3f5f"
            },
            "error_y": {
             "color": "#2a3f5f"
            },
            "marker": {
             "line": {
              "color": "#E5ECF6",
              "width": 0.5
             },
             "pattern": {
              "fillmode": "overlay",
              "size": 10,
              "solidity": 0.2
             }
            },
            "type": "bar"
           }
          ],
          "barpolar": [
           {
            "marker": {
             "line": {
              "color": "#E5ECF6",
              "width": 0.5
             },
             "pattern": {
              "fillmode": "overlay",
              "size": 10,
              "solidity": 0.2
             }
            },
            "type": "barpolar"
           }
          ],
          "carpet": [
           {
            "aaxis": {
             "endlinecolor": "#2a3f5f",
             "gridcolor": "white",
             "linecolor": "white",
             "minorgridcolor": "white",
             "startlinecolor": "#2a3f5f"
            },
            "baxis": {
             "endlinecolor": "#2a3f5f",
             "gridcolor": "white",
             "linecolor": "white",
             "minorgridcolor": "white",
             "startlinecolor": "#2a3f5f"
            },
            "type": "carpet"
           }
          ],
          "choropleth": [
           {
            "colorbar": {
             "outlinewidth": 0,
             "ticks": ""
            },
            "type": "choropleth"
           }
          ],
          "contour": [
           {
            "colorbar": {
             "outlinewidth": 0,
             "ticks": ""
            },
            "colorscale": [
             [
              0,
              "#0d0887"
             ],
             [
              0.1111111111111111,
              "#46039f"
             ],
             [
              0.2222222222222222,
              "#7201a8"
             ],
             [
              0.3333333333333333,
              "#9c179e"
             ],
             [
              0.4444444444444444,
              "#bd3786"
             ],
             [
              0.5555555555555556,
              "#d8576b"
             ],
             [
              0.6666666666666666,
              "#ed7953"
             ],
             [
              0.7777777777777778,
              "#fb9f3a"
             ],
             [
              0.8888888888888888,
              "#fdca26"
             ],
             [
              1,
              "#f0f921"
             ]
            ],
            "type": "contour"
           }
          ],
          "contourcarpet": [
           {
            "colorbar": {
             "outlinewidth": 0,
             "ticks": ""
            },
            "type": "contourcarpet"
           }
          ],
          "heatmap": [
           {
            "colorbar": {
             "outlinewidth": 0,
             "ticks": ""
            },
            "colorscale": [
             [
              0,
              "#0d0887"
             ],
             [
              0.1111111111111111,
              "#46039f"
             ],
             [
              0.2222222222222222,
              "#7201a8"
             ],
             [
              0.3333333333333333,
              "#9c179e"
             ],
             [
              0.4444444444444444,
              "#bd3786"
             ],
             [
              0.5555555555555556,
              "#d8576b"
             ],
             [
              0.6666666666666666,
              "#ed7953"
             ],
             [
              0.7777777777777778,
              "#fb9f3a"
             ],
             [
              0.8888888888888888,
              "#fdca26"
             ],
             [
              1,
              "#f0f921"
             ]
            ],
            "type": "heatmap"
           }
          ],
          "heatmapgl": [
           {
            "colorbar": {
             "outlinewidth": 0,
             "ticks": ""
            },
            "colorscale": [
             [
              0,
              "#0d0887"
             ],
             [
              0.1111111111111111,
              "#46039f"
             ],
             [
              0.2222222222222222,
              "#7201a8"
             ],
             [
              0.3333333333333333,
              "#9c179e"
             ],
             [
              0.4444444444444444,
              "#bd3786"
             ],
             [
              0.5555555555555556,
              "#d8576b"
             ],
             [
              0.6666666666666666,
              "#ed7953"
             ],
             [
              0.7777777777777778,
              "#fb9f3a"
             ],
             [
              0.8888888888888888,
              "#fdca26"
             ],
             [
              1,
              "#f0f921"
             ]
            ],
            "type": "heatmapgl"
           }
          ],
          "histogram": [
           {
            "marker": {
             "pattern": {
              "fillmode": "overlay",
              "size": 10,
              "solidity": 0.2
             }
            },
            "type": "histogram"
           }
          ],
          "histogram2d": [
           {
            "colorbar": {
             "outlinewidth": 0,
             "ticks": ""
            },
            "colorscale": [
             [
              0,
              "#0d0887"
             ],
             [
              0.1111111111111111,
              "#46039f"
             ],
             [
              0.2222222222222222,
              "#7201a8"
             ],
             [
              0.3333333333333333,
              "#9c179e"
             ],
             [
              0.4444444444444444,
              "#bd3786"
             ],
             [
              0.5555555555555556,
              "#d8576b"
             ],
             [
              0.6666666666666666,
              "#ed7953"
             ],
             [
              0.7777777777777778,
              "#fb9f3a"
             ],
             [
              0.8888888888888888,
              "#fdca26"
             ],
             [
              1,
              "#f0f921"
             ]
            ],
            "type": "histogram2d"
           }
          ],
          "histogram2dcontour": [
           {
            "colorbar": {
             "outlinewidth": 0,
             "ticks": ""
            },
            "colorscale": [
             [
              0,
              "#0d0887"
             ],
             [
              0.1111111111111111,
              "#46039f"
             ],
             [
              0.2222222222222222,
              "#7201a8"
             ],
             [
              0.3333333333333333,
              "#9c179e"
             ],
             [
              0.4444444444444444,
              "#bd3786"
             ],
             [
              0.5555555555555556,
              "#d8576b"
             ],
             [
              0.6666666666666666,
              "#ed7953"
             ],
             [
              0.7777777777777778,
              "#fb9f3a"
             ],
             [
              0.8888888888888888,
              "#fdca26"
             ],
             [
              1,
              "#f0f921"
             ]
            ],
            "type": "histogram2dcontour"
           }
          ],
          "mesh3d": [
           {
            "colorbar": {
             "outlinewidth": 0,
             "ticks": ""
            },
            "type": "mesh3d"
           }
          ],
          "parcoords": [
           {
            "line": {
             "colorbar": {
              "outlinewidth": 0,
              "ticks": ""
             }
            },
            "type": "parcoords"
           }
          ],
          "pie": [
           {
            "automargin": true,
            "type": "pie"
           }
          ],
          "scatter": [
           {
            "fillpattern": {
             "fillmode": "overlay",
             "size": 10,
             "solidity": 0.2
            },
            "type": "scatter"
           }
          ],
          "scatter3d": [
           {
            "line": {
             "colorbar": {
              "outlinewidth": 0,
              "ticks": ""
             }
            },
            "marker": {
             "colorbar": {
              "outlinewidth": 0,
              "ticks": ""
             }
            },
            "type": "scatter3d"
           }
          ],
          "scattercarpet": [
           {
            "marker": {
             "colorbar": {
              "outlinewidth": 0,
              "ticks": ""
             }
            },
            "type": "scattercarpet"
           }
          ],
          "scattergeo": [
           {
            "marker": {
             "colorbar": {
              "outlinewidth": 0,
              "ticks": ""
             }
            },
            "type": "scattergeo"
           }
          ],
          "scattergl": [
           {
            "marker": {
             "colorbar": {
              "outlinewidth": 0,
              "ticks": ""
             }
            },
            "type": "scattergl"
           }
          ],
          "scattermapbox": [
           {
            "marker": {
             "colorbar": {
              "outlinewidth": 0,
              "ticks": ""
             }
            },
            "type": "scattermapbox"
           }
          ],
          "scatterpolar": [
           {
            "marker": {
             "colorbar": {
              "outlinewidth": 0,
              "ticks": ""
             }
            },
            "type": "scatterpolar"
           }
          ],
          "scatterpolargl": [
           {
            "marker": {
             "colorbar": {
              "outlinewidth": 0,
              "ticks": ""
             }
            },
            "type": "scatterpolargl"
           }
          ],
          "scatterternary": [
           {
            "marker": {
             "colorbar": {
              "outlinewidth": 0,
              "ticks": ""
             }
            },
            "type": "scatterternary"
           }
          ],
          "surface": [
           {
            "colorbar": {
             "outlinewidth": 0,
             "ticks": ""
            },
            "colorscale": [
             [
              0,
              "#0d0887"
             ],
             [
              0.1111111111111111,
              "#46039f"
             ],
             [
              0.2222222222222222,
              "#7201a8"
             ],
             [
              0.3333333333333333,
              "#9c179e"
             ],
             [
              0.4444444444444444,
              "#bd3786"
             ],
             [
              0.5555555555555556,
              "#d8576b"
             ],
             [
              0.6666666666666666,
              "#ed7953"
             ],
             [
              0.7777777777777778,
              "#fb9f3a"
             ],
             [
              0.8888888888888888,
              "#fdca26"
             ],
             [
              1,
              "#f0f921"
             ]
            ],
            "type": "surface"
           }
          ],
          "table": [
           {
            "cells": {
             "fill": {
              "color": "#EBF0F8"
             },
             "line": {
              "color": "white"
             }
            },
            "header": {
             "fill": {
              "color": "#C8D4E3"
             },
             "line": {
              "color": "white"
             }
            },
            "type": "table"
           }
          ]
         },
         "layout": {
          "annotationdefaults": {
           "arrowcolor": "#2a3f5f",
           "arrowhead": 0,
           "arrowwidth": 1
          },
          "autotypenumbers": "strict",
          "coloraxis": {
           "colorbar": {
            "outlinewidth": 0,
            "ticks": ""
           }
          },
          "colorscale": {
           "diverging": [
            [
             0,
             "#8e0152"
            ],
            [
             0.1,
             "#c51b7d"
            ],
            [
             0.2,
             "#de77ae"
            ],
            [
             0.3,
             "#f1b6da"
            ],
            [
             0.4,
             "#fde0ef"
            ],
            [
             0.5,
             "#f7f7f7"
            ],
            [
             0.6,
             "#e6f5d0"
            ],
            [
             0.7,
             "#b8e186"
            ],
            [
             0.8,
             "#7fbc41"
            ],
            [
             0.9,
             "#4d9221"
            ],
            [
             1,
             "#276419"
            ]
           ],
           "sequential": [
            [
             0,
             "#0d0887"
            ],
            [
             0.1111111111111111,
             "#46039f"
            ],
            [
             0.2222222222222222,
             "#7201a8"
            ],
            [
             0.3333333333333333,
             "#9c179e"
            ],
            [
             0.4444444444444444,
             "#bd3786"
            ],
            [
             0.5555555555555556,
             "#d8576b"
            ],
            [
             0.6666666666666666,
             "#ed7953"
            ],
            [
             0.7777777777777778,
             "#fb9f3a"
            ],
            [
             0.8888888888888888,
             "#fdca26"
            ],
            [
             1,
             "#f0f921"
            ]
           ],
           "sequentialminus": [
            [
             0,
             "#0d0887"
            ],
            [
             0.1111111111111111,
             "#46039f"
            ],
            [
             0.2222222222222222,
             "#7201a8"
            ],
            [
             0.3333333333333333,
             "#9c179e"
            ],
            [
             0.4444444444444444,
             "#bd3786"
            ],
            [
             0.5555555555555556,
             "#d8576b"
            ],
            [
             0.6666666666666666,
             "#ed7953"
            ],
            [
             0.7777777777777778,
             "#fb9f3a"
            ],
            [
             0.8888888888888888,
             "#fdca26"
            ],
            [
             1,
             "#f0f921"
            ]
           ]
          },
          "colorway": [
           "#636efa",
           "#EF553B",
           "#00cc96",
           "#ab63fa",
           "#FFA15A",
           "#19d3f3",
           "#FF6692",
           "#B6E880",
           "#FF97FF",
           "#FECB52"
          ],
          "font": {
           "color": "#2a3f5f"
          },
          "geo": {
           "bgcolor": "white",
           "lakecolor": "white",
           "landcolor": "#E5ECF6",
           "showlakes": true,
           "showland": true,
           "subunitcolor": "white"
          },
          "hoverlabel": {
           "align": "left"
          },
          "hovermode": "closest",
          "mapbox": {
           "style": "light"
          },
          "paper_bgcolor": "white",
          "plot_bgcolor": "#E5ECF6",
          "polar": {
           "angularaxis": {
            "gridcolor": "white",
            "linecolor": "white",
            "ticks": ""
           },
           "bgcolor": "#E5ECF6",
           "radialaxis": {
            "gridcolor": "white",
            "linecolor": "white",
            "ticks": ""
           }
          },
          "scene": {
           "xaxis": {
            "backgroundcolor": "#E5ECF6",
            "gridcolor": "white",
            "gridwidth": 2,
            "linecolor": "white",
            "showbackground": true,
            "ticks": "",
            "zerolinecolor": "white"
           },
           "yaxis": {
            "backgroundcolor": "#E5ECF6",
            "gridcolor": "white",
            "gridwidth": 2,
            "linecolor": "white",
            "showbackground": true,
            "ticks": "",
            "zerolinecolor": "white"
           },
           "zaxis": {
            "backgroundcolor": "#E5ECF6",
            "gridcolor": "white",
            "gridwidth": 2,
            "linecolor": "white",
            "showbackground": true,
            "ticks": "",
            "zerolinecolor": "white"
           }
          },
          "shapedefaults": {
           "line": {
            "color": "#2a3f5f"
           }
          },
          "ternary": {
           "aaxis": {
            "gridcolor": "white",
            "linecolor": "white",
            "ticks": ""
           },
           "baxis": {
            "gridcolor": "white",
            "linecolor": "white",
            "ticks": ""
           },
           "bgcolor": "#E5ECF6",
           "caxis": {
            "gridcolor": "white",
            "linecolor": "white",
            "ticks": ""
           }
          },
          "title": {
           "x": 0.05
          },
          "xaxis": {
           "automargin": true,
           "gridcolor": "white",
           "linecolor": "white",
           "ticks": "",
           "title": {
            "standoff": 15
           },
           "zerolinecolor": "white",
           "zerolinewidth": 2
          },
          "yaxis": {
           "automargin": true,
           "gridcolor": "white",
           "linecolor": "white",
           "ticks": "",
           "title": {
            "standoff": 15
           },
           "zerolinecolor": "white",
           "zerolinewidth": 2
          }
         }
        },
        "title": {
         "text": "AAPL Stock Prices"
        },
        "xaxis": {
         "anchor": "y",
         "domain": [
          0,
          1
         ],
         "title": {
          "text": "Datetime"
         }
        },
        "yaxis": {
         "anchor": "x",
         "domain": [
          0,
          1
         ],
         "title": {
          "text": "Close"
         }
        }
       }
      },
      "text/html": [
       "<div>                            <div id=\"700f3364-7ea2-45a1-9f35-71c6b4c5c3a0\" class=\"plotly-graph-div\" style=\"height:525px; width:100%;\"></div>            <script type=\"text/javascript\">                require([\"plotly\"], function(Plotly) {                    window.PLOTLYENV=window.PLOTLYENV || {};                                    if (document.getElementById(\"700f3364-7ea2-45a1-9f35-71c6b4c5c3a0\")) {                    Plotly.newPlot(                        \"700f3364-7ea2-45a1-9f35-71c6b4c5c3a0\",                        [{\"hovertemplate\":\"Datetime=%{x}<br>Close=%{y}<extra></extra>\",\"legendgroup\":\"\",\"line\":{\"color\":\"#636efa\",\"dash\":\"solid\"},\"marker\":{\"symbol\":\"circle\"},\"mode\":\"lines\",\"name\":\"\",\"orientation\":\"v\",\"showlegend\":false,\"x\":[\"2024-06-06T09:30:00-04:00\",\"2024-06-06T09:31:00-04:00\",\"2024-06-06T09:32:00-04:00\",\"2024-06-06T09:33:00-04:00\",\"2024-06-06T09:34:00-04:00\",\"2024-06-06T09:35:00-04:00\",\"2024-06-06T09:36:00-04:00\",\"2024-06-06T09:37:00-04:00\",\"2024-06-06T09:38:00-04:00\",\"2024-06-06T09:39:00-04:00\",\"2024-06-06T09:40:00-04:00\",\"2024-06-06T09:41:00-04:00\",\"2024-06-06T09:42:00-04:00\",\"2024-06-06T09:43:00-04:00\",\"2024-06-06T09:44:00-04:00\",\"2024-06-06T09:45:00-04:00\",\"2024-06-06T09:46:00-04:00\",\"2024-06-06T09:47:00-04:00\",\"2024-06-06T09:48:00-04:00\",\"2024-06-06T09:49:00-04:00\",\"2024-06-06T09:50:00-04:00\",\"2024-06-06T09:51:00-04:00\",\"2024-06-06T09:52:00-04:00\",\"2024-06-06T09:53:00-04:00\",\"2024-06-06T09:54:00-04:00\",\"2024-06-06T09:55:00-04:00\",\"2024-06-06T09:56:00-04:00\",\"2024-06-06T09:57:00-04:00\",\"2024-06-06T09:58:00-04:00\",\"2024-06-06T09:59:00-04:00\",\"2024-06-06T10:00:00-04:00\",\"2024-06-06T10:01:00-04:00\",\"2024-06-06T10:02:00-04:00\",\"2024-06-06T10:03:00-04:00\",\"2024-06-06T10:04:00-04:00\",\"2024-06-06T10:05:00-04:00\",\"2024-06-06T10:06:00-04:00\",\"2024-06-06T10:07:00-04:00\",\"2024-06-06T10:08:00-04:00\",\"2024-06-06T10:09:00-04:00\",\"2024-06-06T10:10:00-04:00\",\"2024-06-06T10:11:00-04:00\",\"2024-06-06T10:12:00-04:00\",\"2024-06-06T10:13:00-04:00\",\"2024-06-06T10:14:00-04:00\",\"2024-06-06T10:15:00-04:00\",\"2024-06-06T10:16:00-04:00\",\"2024-06-06T10:17:00-04:00\",\"2024-06-06T10:18:00-04:00\",\"2024-06-06T10:19:00-04:00\",\"2024-06-06T10:20:00-04:00\",\"2024-06-06T10:21:00-04:00\",\"2024-06-06T10:22:00-04:00\",\"2024-06-06T10:23:00-04:00\",\"2024-06-06T10:24:00-04:00\",\"2024-06-06T10:25:00-04:00\",\"2024-06-06T10:26:00-04:00\",\"2024-06-06T10:27:00-04:00\",\"2024-06-06T10:28:00-04:00\",\"2024-06-06T10:29:00-04:00\",\"2024-06-06T10:30:00-04:00\",\"2024-06-06T10:31:00-04:00\",\"2024-06-06T10:32:00-04:00\",\"2024-06-06T10:33:00-04:00\",\"2024-06-06T10:34:00-04:00\",\"2024-06-06T10:35:00-04:00\",\"2024-06-06T10:36:00-04:00\",\"2024-06-06T10:37:00-04:00\",\"2024-06-06T10:38:00-04:00\",\"2024-06-06T10:39:00-04:00\",\"2024-06-06T10:40:00-04:00\",\"2024-06-06T10:41:00-04:00\",\"2024-06-06T10:42:00-04:00\",\"2024-06-06T10:43:00-04:00\",\"2024-06-06T10:44:00-04:00\",\"2024-06-06T10:45:00-04:00\",\"2024-06-06T10:46:00-04:00\",\"2024-06-06T10:47:00-04:00\",\"2024-06-06T10:48:00-04:00\",\"2024-06-06T10:49:00-04:00\",\"2024-06-06T10:50:00-04:00\",\"2024-06-06T10:51:00-04:00\",\"2024-06-06T10:52:00-04:00\",\"2024-06-06T10:53:00-04:00\",\"2024-06-06T10:54:00-04:00\",\"2024-06-06T10:55:00-04:00\",\"2024-06-06T10:56:00-04:00\",\"2024-06-06T10:57:00-04:00\",\"2024-06-06T10:58:00-04:00\",\"2024-06-06T10:59:00-04:00\",\"2024-06-06T11:00:00-04:00\",\"2024-06-06T11:01:00-04:00\",\"2024-06-06T11:02:00-04:00\",\"2024-06-06T11:03:00-04:00\",\"2024-06-06T11:04:00-04:00\",\"2024-06-06T11:05:00-04:00\",\"2024-06-06T11:06:00-04:00\",\"2024-06-06T11:07:00-04:00\",\"2024-06-06T11:08:00-04:00\",\"2024-06-06T11:09:00-04:00\",\"2024-06-06T11:10:00-04:00\",\"2024-06-06T11:11:00-04:00\",\"2024-06-06T11:12:00-04:00\",\"2024-06-06T11:13:00-04:00\",\"2024-06-06T11:14:00-04:00\",\"2024-06-06T11:15:00-04:00\",\"2024-06-06T11:16:00-04:00\",\"2024-06-06T11:17:00-04:00\",\"2024-06-06T11:18:00-04:00\",\"2024-06-06T11:19:00-04:00\",\"2024-06-06T11:20:00-04:00\",\"2024-06-06T11:21:00-04:00\",\"2024-06-06T11:22:00-04:00\",\"2024-06-06T11:23:00-04:00\",\"2024-06-06T11:24:00-04:00\",\"2024-06-06T11:25:00-04:00\",\"2024-06-06T11:26:00-04:00\",\"2024-06-06T11:27:00-04:00\",\"2024-06-06T11:28:00-04:00\",\"2024-06-06T11:29:00-04:00\",\"2024-06-06T11:30:00-04:00\",\"2024-06-06T11:31:00-04:00\",\"2024-06-06T11:32:00-04:00\",\"2024-06-06T11:33:00-04:00\",\"2024-06-06T11:34:00-04:00\",\"2024-06-06T11:35:00-04:00\",\"2024-06-06T11:36:00-04:00\",\"2024-06-06T11:37:00-04:00\",\"2024-06-06T11:38:00-04:00\",\"2024-06-06T11:39:00-04:00\",\"2024-06-06T11:40:00-04:00\",\"2024-06-06T11:41:00-04:00\",\"2024-06-06T11:42:00-04:00\",\"2024-06-06T11:43:00-04:00\",\"2024-06-06T11:44:00-04:00\",\"2024-06-06T11:45:00-04:00\",\"2024-06-06T11:46:00-04:00\",\"2024-06-06T11:47:00-04:00\",\"2024-06-06T11:48:00-04:00\",\"2024-06-06T11:49:00-04:00\",\"2024-06-06T11:50:00-04:00\",\"2024-06-06T11:51:00-04:00\",\"2024-06-06T11:52:00-04:00\",\"2024-06-06T11:53:00-04:00\",\"2024-06-06T11:54:00-04:00\",\"2024-06-06T11:55:00-04:00\",\"2024-06-06T11:56:00-04:00\",\"2024-06-06T11:57:00-04:00\",\"2024-06-06T11:58:00-04:00\",\"2024-06-06T11:59:00-04:00\",\"2024-06-06T12:00:00-04:00\",\"2024-06-06T12:01:00-04:00\",\"2024-06-06T12:02:00-04:00\",\"2024-06-06T12:03:00-04:00\",\"2024-06-06T12:04:00-04:00\",\"2024-06-06T12:05:00-04:00\",\"2024-06-06T12:06:00-04:00\",\"2024-06-06T12:07:00-04:00\",\"2024-06-06T12:08:00-04:00\",\"2024-06-06T12:09:00-04:00\",\"2024-06-06T12:10:00-04:00\",\"2024-06-06T12:11:00-04:00\",\"2024-06-06T12:12:00-04:00\",\"2024-06-06T12:13:00-04:00\",\"2024-06-06T12:14:00-04:00\",\"2024-06-06T12:15:00-04:00\",\"2024-06-06T12:16:00-04:00\",\"2024-06-06T12:17:00-04:00\",\"2024-06-06T12:18:00-04:00\",\"2024-06-06T12:19:00-04:00\",\"2024-06-06T12:20:00-04:00\",\"2024-06-06T12:21:00-04:00\",\"2024-06-06T12:22:00-04:00\",\"2024-06-06T12:23:00-04:00\",\"2024-06-06T12:24:00-04:00\",\"2024-06-06T12:25:00-04:00\",\"2024-06-06T12:26:00-04:00\",\"2024-06-06T12:27:00-04:00\",\"2024-06-06T12:28:00-04:00\",\"2024-06-06T12:29:00-04:00\",\"2024-06-06T12:30:00-04:00\",\"2024-06-06T12:31:00-04:00\",\"2024-06-06T12:32:00-04:00\",\"2024-06-06T12:33:00-04:00\",\"2024-06-06T12:34:00-04:00\",\"2024-06-06T12:35:00-04:00\",\"2024-06-06T12:36:00-04:00\",\"2024-06-06T12:37:00-04:00\",\"2024-06-06T12:38:00-04:00\",\"2024-06-06T12:39:00-04:00\",\"2024-06-06T12:40:00-04:00\",\"2024-06-06T12:41:00-04:00\",\"2024-06-06T12:42:00-04:00\",\"2024-06-06T12:43:00-04:00\",\"2024-06-06T12:44:00-04:00\",\"2024-06-06T12:45:00-04:00\",\"2024-06-06T12:46:00-04:00\",\"2024-06-06T12:47:00-04:00\",\"2024-06-06T12:48:00-04:00\",\"2024-06-06T12:49:00-04:00\",\"2024-06-06T12:50:00-04:00\",\"2024-06-06T12:51:00-04:00\",\"2024-06-06T12:52:00-04:00\",\"2024-06-06T12:53:00-04:00\",\"2024-06-06T12:54:00-04:00\",\"2024-06-06T12:55:00-04:00\",\"2024-06-06T12:56:00-04:00\",\"2024-06-06T12:57:00-04:00\",\"2024-06-06T12:58:00-04:00\",\"2024-06-06T12:59:00-04:00\",\"2024-06-06T13:00:00-04:00\",\"2024-06-06T13:01:00-04:00\",\"2024-06-06T13:02:00-04:00\",\"2024-06-06T13:03:00-04:00\",\"2024-06-06T13:04:00-04:00\",\"2024-06-06T13:05:00-04:00\",\"2024-06-06T13:06:00-04:00\",\"2024-06-06T13:07:00-04:00\",\"2024-06-06T13:08:00-04:00\",\"2024-06-06T13:09:00-04:00\",\"2024-06-06T13:10:00-04:00\",\"2024-06-06T13:11:00-04:00\",\"2024-06-06T13:12:00-04:00\",\"2024-06-06T13:13:00-04:00\",\"2024-06-06T13:14:00-04:00\",\"2024-06-06T13:15:00-04:00\",\"2024-06-06T13:16:00-04:00\",\"2024-06-06T13:17:00-04:00\",\"2024-06-06T13:18:00-04:00\",\"2024-06-06T13:19:00-04:00\",\"2024-06-06T13:20:00-04:00\",\"2024-06-06T13:21:00-04:00\",\"2024-06-06T13:22:00-04:00\",\"2024-06-06T13:23:00-04:00\",\"2024-06-06T13:24:00-04:00\",\"2024-06-06T13:25:00-04:00\",\"2024-06-06T13:26:00-04:00\",\"2024-06-06T13:27:00-04:00\",\"2024-06-06T13:28:00-04:00\",\"2024-06-06T13:29:00-04:00\",\"2024-06-06T13:30:00-04:00\",\"2024-06-06T13:31:00-04:00\",\"2024-06-06T13:32:00-04:00\",\"2024-06-06T13:33:00-04:00\",\"2024-06-06T13:34:00-04:00\",\"2024-06-06T13:35:00-04:00\",\"2024-06-06T13:36:00-04:00\",\"2024-06-06T13:37:00-04:00\",\"2024-06-06T13:38:00-04:00\",\"2024-06-06T13:39:00-04:00\",\"2024-06-06T13:40:00-04:00\",\"2024-06-06T13:41:00-04:00\",\"2024-06-06T13:42:00-04:00\",\"2024-06-06T13:43:00-04:00\",\"2024-06-06T13:44:00-04:00\",\"2024-06-06T13:45:00-04:00\",\"2024-06-06T13:46:00-04:00\",\"2024-06-06T13:47:00-04:00\",\"2024-06-06T13:48:00-04:00\",\"2024-06-06T13:49:00-04:00\",\"2024-06-06T13:50:00-04:00\",\"2024-06-06T13:51:00-04:00\",\"2024-06-06T13:52:00-04:00\",\"2024-06-06T13:53:00-04:00\",\"2024-06-06T13:54:00-04:00\",\"2024-06-06T13:55:00-04:00\",\"2024-06-06T13:56:00-04:00\",\"2024-06-06T13:57:00-04:00\",\"2024-06-06T13:58:00-04:00\",\"2024-06-06T13:59:00-04:00\",\"2024-06-06T14:00:00-04:00\",\"2024-06-06T14:01:00-04:00\",\"2024-06-06T14:02:00-04:00\",\"2024-06-06T14:03:00-04:00\",\"2024-06-06T14:04:00-04:00\",\"2024-06-06T14:05:00-04:00\",\"2024-06-06T14:06:00-04:00\",\"2024-06-06T14:07:00-04:00\",\"2024-06-06T14:08:00-04:00\",\"2024-06-06T14:09:00-04:00\",\"2024-06-06T14:10:00-04:00\",\"2024-06-06T14:11:00-04:00\",\"2024-06-06T14:12:00-04:00\",\"2024-06-06T14:13:00-04:00\",\"2024-06-06T14:14:00-04:00\",\"2024-06-06T14:15:00-04:00\",\"2024-06-06T14:16:00-04:00\",\"2024-06-06T14:17:00-04:00\",\"2024-06-06T14:18:00-04:00\",\"2024-06-06T14:19:00-04:00\",\"2024-06-06T14:20:00-04:00\",\"2024-06-06T14:21:00-04:00\",\"2024-06-06T14:22:00-04:00\",\"2024-06-06T14:23:00-04:00\",\"2024-06-06T14:24:00-04:00\",\"2024-06-06T14:25:00-04:00\",\"2024-06-06T14:26:00-04:00\",\"2024-06-06T14:27:00-04:00\",\"2024-06-06T14:28:00-04:00\",\"2024-06-06T14:29:00-04:00\",\"2024-06-06T14:30:00-04:00\",\"2024-06-06T14:31:00-04:00\",\"2024-06-06T14:32:00-04:00\",\"2024-06-06T14:33:00-04:00\",\"2024-06-06T14:34:00-04:00\",\"2024-06-06T14:35:00-04:00\",\"2024-06-06T14:36:00-04:00\",\"2024-06-06T14:37:00-04:00\",\"2024-06-06T14:38:00-04:00\",\"2024-06-06T14:39:00-04:00\",\"2024-06-06T14:40:00-04:00\",\"2024-06-06T14:41:00-04:00\",\"2024-06-06T14:42:00-04:00\",\"2024-06-06T14:43:00-04:00\",\"2024-06-06T14:44:00-04:00\",\"2024-06-06T14:45:00-04:00\",\"2024-06-06T14:46:00-04:00\",\"2024-06-06T14:47:00-04:00\",\"2024-06-06T14:48:00-04:00\",\"2024-06-06T14:49:00-04:00\",\"2024-06-06T14:50:00-04:00\",\"2024-06-06T14:51:00-04:00\",\"2024-06-06T14:52:00-04:00\",\"2024-06-06T14:53:00-04:00\",\"2024-06-06T14:54:00-04:00\",\"2024-06-06T14:55:00-04:00\",\"2024-06-06T14:56:00-04:00\",\"2024-06-06T14:57:00-04:00\",\"2024-06-06T14:58:00-04:00\",\"2024-06-06T14:59:00-04:00\",\"2024-06-06T15:00:00-04:00\",\"2024-06-06T15:01:00-04:00\",\"2024-06-06T15:02:00-04:00\",\"2024-06-06T15:03:00-04:00\",\"2024-06-06T15:04:00-04:00\",\"2024-06-06T15:05:00-04:00\",\"2024-06-06T15:06:00-04:00\",\"2024-06-06T15:07:00-04:00\",\"2024-06-06T15:08:00-04:00\",\"2024-06-06T15:09:00-04:00\",\"2024-06-06T15:10:00-04:00\",\"2024-06-06T15:11:00-04:00\",\"2024-06-06T15:12:00-04:00\",\"2024-06-06T15:13:00-04:00\",\"2024-06-06T15:14:00-04:00\",\"2024-06-06T15:15:00-04:00\",\"2024-06-06T15:16:00-04:00\",\"2024-06-06T15:17:00-04:00\",\"2024-06-06T15:18:00-04:00\",\"2024-06-06T15:19:00-04:00\",\"2024-06-06T15:20:00-04:00\",\"2024-06-06T15:21:00-04:00\",\"2024-06-06T15:22:00-04:00\",\"2024-06-06T15:23:00-04:00\",\"2024-06-06T15:24:00-04:00\",\"2024-06-06T15:25:00-04:00\",\"2024-06-06T15:26:00-04:00\",\"2024-06-06T15:27:00-04:00\",\"2024-06-06T15:28:00-04:00\",\"2024-06-06T15:29:00-04:00\",\"2024-06-06T15:30:00-04:00\",\"2024-06-06T15:31:00-04:00\",\"2024-06-06T15:32:00-04:00\",\"2024-06-06T15:33:00-04:00\",\"2024-06-06T15:34:00-04:00\",\"2024-06-06T15:35:00-04:00\",\"2024-06-06T15:36:00-04:00\",\"2024-06-06T15:37:00-04:00\",\"2024-06-06T15:38:00-04:00\",\"2024-06-06T15:39:00-04:00\",\"2024-06-06T15:40:00-04:00\",\"2024-06-06T15:41:00-04:00\",\"2024-06-06T15:42:00-04:00\",\"2024-06-06T15:43:00-04:00\",\"2024-06-06T15:44:00-04:00\",\"2024-06-06T15:45:00-04:00\",\"2024-06-06T15:46:00-04:00\",\"2024-06-06T15:47:00-04:00\",\"2024-06-06T15:48:00-04:00\",\"2024-06-06T15:49:00-04:00\",\"2024-06-06T15:50:00-04:00\",\"2024-06-06T15:51:00-04:00\",\"2024-06-06T15:52:00-04:00\",\"2024-06-06T15:53:00-04:00\",\"2024-06-06T15:54:00-04:00\",\"2024-06-06T15:55:00-04:00\",\"2024-06-06T15:56:00-04:00\",\"2024-06-06T15:57:00-04:00\",\"2024-06-06T15:58:00-04:00\",\"2024-06-06T15:59:00-04:00\"],\"xaxis\":\"x\",\"y\":[196.1300048828125,196.25999450683594,196.1082000732422,195.89999389648438,195.77000427246094,195.48680114746094,195.5760955810547,195.52999877929688,195.52999877929688,195.52000427246094,195.21499633789062,195.47999572753906,195.5500030517578,195.63360595703125,195.69000244140625,195.59219360351562,195.57000732421875,195.54049682617188,195.8000030517578,195.74000549316406,195.7799072265625,195.66409301757812,195.63999938964844,195.64999389648438,195.7050018310547,195.74000549316406,195.82000732421875,195.89999389648438,195.97000122070312,196.110107421875,196.2050018310547,196.14500427246094,195.93499755859375,196.08999633789062,196.02499389648438,195.83999633789062,195.75999450683594,195.75999450683594,195.66000366210938,195.7100067138672,195.83999633789062,195.9600067138672,195.97000122070312,196.05999755859375,196.1699981689453,196.26499938964844,196.3350067138672,196.35890197753906,196.2899932861328,196.25999450683594,196.27999877929688,196.25999450683594,196.47000122070312,196.44000244140625,196.210205078125,196.0500030517578,195.85000610351562,195.89999389648438,196.00999450683594,195.9199981689453,195.89999389648438,195.9149932861328,195.7899932861328,195.6999969482422,195.60499572753906,195.73500061035156,195.7899932861328,195.8300018310547,195.75,195.72000122070312,195.8000030517578,195.86000061035156,195.7899932861328,195.80999755859375,195.76499938964844,195.74000549316406,195.72999572753906,195.65789794921875,195.5299072265625,195.54510498046875,195.4600067138672,195.5800018310547,195.63999938964844,195.625,195.72979736328125,195.83999633789062,195.92999267578125,195.8300018310547,195.74000549316406,195.75,195.63999938964844,195.6999969482422,195.72000122070312,195.74000549316406,195.6876983642578,195.67230224609375,195.72500610351562,195.6999969482422,195.65499877929688,195.71499633789062,195.69500732421875,195.66000366210938,195.6199951171875,195.7449951171875,195.8000030517578,195.83999633789062,195.84500122070312,195.72999572753906,195.6649932861328,195.63009643554688,195.7050018310547,195.78500366210938,195.72000122070312,195.7541046142578,195.74000549316406,195.8249969482422,195.81500244140625,195.7899932861328,195.81500244140625,195.8350067138672,195.72500610351562,195.75,195.69000244140625,195.75160217285156,195.77000427246094,195.72999572753906,195.67799377441406,195.72999572753906,195.68499755859375,195.72000122070312,195.66000366210938,195.6300048828125,195.61000061035156,195.60130310058594,195.61000061035156,195.60499572753906,195.6300048828125,195.63999938964844,195.65499877929688,195.58810424804688,195.51499938964844,195.47999572753906,195.41000366210938,195.42999267578125,195.4199981689453,195.4499969482422,195.49000549316406,195.5699005126953,195.49000549316406,195.52999877929688,195.45419311523438,195.47000122070312,195.48789978027344,195.47999572753906,195.49000549316406,195.52000427246094,195.51539611816406,195.56500244140625,195.56849670410156,195.5601043701172,195.59860229492188,195.6750030517578,195.69000244140625,195.64100646972656,195.58999633789062,195.5399932861328,195.67999267578125,195.6750030517578,195.69500732421875,195.78500366210938,195.75999450683594,195.72000122070312,195.7440948486328,195.72000122070312,195.6750030517578,195.69500732421875,195.68499755859375,195.62989807128906,195.68499755859375,195.6699981689453,195.6699981689453,195.6999969482422,195.64999389648438,195.6300048828125,195.66000366210938,195.6999969482422,195.66000366210938,195.69500732421875,195.67999267578125,195.64999389648438,195.62969970703125,195.7050018310547,195.66969299316406,195.66000366210938,195.63999938964844,195.67999267578125,195.64999389648438,195.64999389648438,195.67999267578125,195.66000366210938,195.6649932861328,195.69500732421875,195.7100067138672,195.7100067138672,195.69500732421875,195.75,195.72000122070312,195.7449951171875,195.84500122070312,195.97000122070312,195.93099975585938,195.90989685058594,195.9499969482422,195.9499969482422,195.9550018310547,196.0,195.9949951171875,196.06979370117188,196.05999755859375,196.0500030517578,195.9550018310547,195.90499877929688,195.83999633789062,195.86500549316406,195.8350067138672,195.76499938964844,195.7799072265625,195.75,195.7550048828125,195.66000366210938,195.5399932861328,195.53500366210938,195.5399932861328,195.4976043701172,195.52499389648438,195.59849548339844,195.61000061035156,195.61000061035156,195.6199951171875,195.6479949951172,195.6300048828125,195.6898956298828,195.71499633789062,195.65499877929688,195.6199951171875,195.5800018310547,195.59500122070312,195.60000610351562,195.5749969482422,195.58999633789062,195.6466064453125,195.67999267578125,195.68499755859375,195.625,195.6298065185547,195.6199951171875,195.61000061035156,195.5749969482422,195.61000061035156,195.61500549316406,195.58999633789062,195.5850067138672,195.5749969482422,195.53500366210938,195.6280975341797,195.53500366210938,195.48500061035156,195.48500061035156,195.47830200195312,195.47500610351562,195.5449981689453,195.51499938964844,195.52000427246094,195.47000122070312,195.45249938964844,195.47999572753906,195.3583984375,195.2384033203125,195.14999389648438,194.99000549316406,195.10000610351562,195.06849670410156,195.0800018310547,195.23500061035156,195.3040008544922,195.28500366210938,195.30999755859375,195.3300018310547,195.38499450683594,195.41000366210938,195.35000610351562,195.4149932861328,195.52999877929688,195.5399932861328,195.5299072265625,195.49000549316406,195.49000549316406,195.50900268554688,195.52499389648438,195.54449462890625,195.4600067138672,195.3800048828125,195.44000244140625,195.4365997314453,195.4550018310547,195.35000610351562,195.3699951171875,195.35830688476562,195.30499267578125,195.2449951171875,195.22999572753906,195.26010131835938,195.25999450683594,195.25010681152344,195.24000549316406,195.25999450683594,195.27499389648438,195.25999450683594,195.27499389648438,195.27000427246094,195.30499267578125,195.27999877929688,195.35499572753906,195.3957977294922,195.3632049560547,195.38499450683594,195.35000610351562,195.2899932861328,195.27499389648438,195.24000549316406,195.22999572753906,195.25,195.22999572753906,195.23500061035156,195.21499633789062,195.23500061035156,195.27999877929688,195.3459014892578,195.29629516601562,195.27000427246094,195.2501983642578,195.19000244140625,195.1199951171875,195.0800018310547,195.05999755859375,195.1649932861328,195.2050018310547,195.22000122070312,195.30999755859375,195.35000610351562,195.2949981689453,195.2100067138672,195.24000549316406,195.2812957763672,195.25250244140625,195.28500366210938,195.23500061035156,195.23500061035156,195.28500366210938,195.39300537109375,195.44000244140625,195.3800048828125,195.39500427246094,195.35499572753906,195.2550048828125,195.16000366210938,195.13499450683594,195.13999938964844,195.2100067138672,195.1300048828125,195.05999755859375,195.0449981689453,195.01499938964844,194.99000549316406,194.9949951171875,195.02780151367188,195.0,195.07000732421875,195.10000610351562,195.0850067138672,194.85499572753906,194.55999755859375,194.40499877929688,194.45989990234375,194.30999755859375,194.32000732421875,194.1750030517578,194.41000366210938,194.34500122070312,194.47999572753906],\"yaxis\":\"y\",\"type\":\"scatter\"}],                        {\"template\":{\"data\":{\"histogram2dcontour\":[{\"type\":\"histogram2dcontour\",\"colorbar\":{\"outlinewidth\":0,\"ticks\":\"\"},\"colorscale\":[[0.0,\"#0d0887\"],[0.1111111111111111,\"#46039f\"],[0.2222222222222222,\"#7201a8\"],[0.3333333333333333,\"#9c179e\"],[0.4444444444444444,\"#bd3786\"],[0.5555555555555556,\"#d8576b\"],[0.6666666666666666,\"#ed7953\"],[0.7777777777777778,\"#fb9f3a\"],[0.8888888888888888,\"#fdca26\"],[1.0,\"#f0f921\"]]}],\"choropleth\":[{\"type\":\"choropleth\",\"colorbar\":{\"outlinewidth\":0,\"ticks\":\"\"}}],\"histogram2d\":[{\"type\":\"histogram2d\",\"colorbar\":{\"outlinewidth\":0,\"ticks\":\"\"},\"colorscale\":[[0.0,\"#0d0887\"],[0.1111111111111111,\"#46039f\"],[0.2222222222222222,\"#7201a8\"],[0.3333333333333333,\"#9c179e\"],[0.4444444444444444,\"#bd3786\"],[0.5555555555555556,\"#d8576b\"],[0.6666666666666666,\"#ed7953\"],[0.7777777777777778,\"#fb9f3a\"],[0.8888888888888888,\"#fdca26\"],[1.0,\"#f0f921\"]]}],\"heatmap\":[{\"type\":\"heatmap\",\"colorbar\":{\"outlinewidth\":0,\"ticks\":\"\"},\"colorscale\":[[0.0,\"#0d0887\"],[0.1111111111111111,\"#46039f\"],[0.2222222222222222,\"#7201a8\"],[0.3333333333333333,\"#9c179e\"],[0.4444444444444444,\"#bd3786\"],[0.5555555555555556,\"#d8576b\"],[0.6666666666666666,\"#ed7953\"],[0.7777777777777778,\"#fb9f3a\"],[0.8888888888888888,\"#fdca26\"],[1.0,\"#f0f921\"]]}],\"heatmapgl\":[{\"type\":\"heatmapgl\",\"colorbar\":{\"outlinewidth\":0,\"ticks\":\"\"},\"colorscale\":[[0.0,\"#0d0887\"],[0.1111111111111111,\"#46039f\"],[0.2222222222222222,\"#7201a8\"],[0.3333333333333333,\"#9c179e\"],[0.4444444444444444,\"#bd3786\"],[0.5555555555555556,\"#d8576b\"],[0.6666666666666666,\"#ed7953\"],[0.7777777777777778,\"#fb9f3a\"],[0.8888888888888888,\"#fdca26\"],[1.0,\"#f0f921\"]]}],\"contourcarpet\":[{\"type\":\"contourcarpet\",\"colorbar\":{\"outlinewidth\":0,\"ticks\":\"\"}}],\"contour\":[{\"type\":\"contour\",\"colorbar\":{\"outlinewidth\":0,\"ticks\":\"\"},\"colorscale\":[[0.0,\"#0d0887\"],[0.1111111111111111,\"#46039f\"],[0.2222222222222222,\"#7201a8\"],[0.3333333333333333,\"#9c179e\"],[0.4444444444444444,\"#bd3786\"],[0.5555555555555556,\"#d8576b\"],[0.6666666666666666,\"#ed7953\"],[0.7777777777777778,\"#fb9f3a\"],[0.8888888888888888,\"#fdca26\"],[1.0,\"#f0f921\"]]}],\"surface\":[{\"type\":\"surface\",\"colorbar\":{\"outlinewidth\":0,\"ticks\":\"\"},\"colorscale\":[[0.0,\"#0d0887\"],[0.1111111111111111,\"#46039f\"],[0.2222222222222222,\"#7201a8\"],[0.3333333333333333,\"#9c179e\"],[0.4444444444444444,\"#bd3786\"],[0.5555555555555556,\"#d8576b\"],[0.6666666666666666,\"#ed7953\"],[0.7777777777777778,\"#fb9f3a\"],[0.8888888888888888,\"#fdca26\"],[1.0,\"#f0f921\"]]}],\"mesh3d\":[{\"type\":\"mesh3d\",\"colorbar\":{\"outlinewidth\":0,\"ticks\":\"\"}}],\"scatter\":[{\"fillpattern\":{\"fillmode\":\"overlay\",\"size\":10,\"solidity\":0.2},\"type\":\"scatter\"}],\"parcoords\":[{\"type\":\"parcoords\",\"line\":{\"colorbar\":{\"outlinewidth\":0,\"ticks\":\"\"}}}],\"scatterpolargl\":[{\"type\":\"scatterpolargl\",\"marker\":{\"colorbar\":{\"outlinewidth\":0,\"ticks\":\"\"}}}],\"bar\":[{\"error_x\":{\"color\":\"#2a3f5f\"},\"error_y\":{\"color\":\"#2a3f5f\"},\"marker\":{\"line\":{\"color\":\"#E5ECF6\",\"width\":0.5},\"pattern\":{\"fillmode\":\"overlay\",\"size\":10,\"solidity\":0.2}},\"type\":\"bar\"}],\"scattergeo\":[{\"type\":\"scattergeo\",\"marker\":{\"colorbar\":{\"outlinewidth\":0,\"ticks\":\"\"}}}],\"scatterpolar\":[{\"type\":\"scatterpolar\",\"marker\":{\"colorbar\":{\"outlinewidth\":0,\"ticks\":\"\"}}}],\"histogram\":[{\"marker\":{\"pattern\":{\"fillmode\":\"overlay\",\"size\":10,\"solidity\":0.2}},\"type\":\"histogram\"}],\"scattergl\":[{\"type\":\"scattergl\",\"marker\":{\"colorbar\":{\"outlinewidth\":0,\"ticks\":\"\"}}}],\"scatter3d\":[{\"type\":\"scatter3d\",\"line\":{\"colorbar\":{\"outlinewidth\":0,\"ticks\":\"\"}},\"marker\":{\"colorbar\":{\"outlinewidth\":0,\"ticks\":\"\"}}}],\"scattermapbox\":[{\"type\":\"scattermapbox\",\"marker\":{\"colorbar\":{\"outlinewidth\":0,\"ticks\":\"\"}}}],\"scatterternary\":[{\"type\":\"scatterternary\",\"marker\":{\"colorbar\":{\"outlinewidth\":0,\"ticks\":\"\"}}}],\"scattercarpet\":[{\"type\":\"scattercarpet\",\"marker\":{\"colorbar\":{\"outlinewidth\":0,\"ticks\":\"\"}}}],\"carpet\":[{\"aaxis\":{\"endlinecolor\":\"#2a3f5f\",\"gridcolor\":\"white\",\"linecolor\":\"white\",\"minorgridcolor\":\"white\",\"startlinecolor\":\"#2a3f5f\"},\"baxis\":{\"endlinecolor\":\"#2a3f5f\",\"gridcolor\":\"white\",\"linecolor\":\"white\",\"minorgridcolor\":\"white\",\"startlinecolor\":\"#2a3f5f\"},\"type\":\"carpet\"}],\"table\":[{\"cells\":{\"fill\":{\"color\":\"#EBF0F8\"},\"line\":{\"color\":\"white\"}},\"header\":{\"fill\":{\"color\":\"#C8D4E3\"},\"line\":{\"color\":\"white\"}},\"type\":\"table\"}],\"barpolar\":[{\"marker\":{\"line\":{\"color\":\"#E5ECF6\",\"width\":0.5},\"pattern\":{\"fillmode\":\"overlay\",\"size\":10,\"solidity\":0.2}},\"type\":\"barpolar\"}],\"pie\":[{\"automargin\":true,\"type\":\"pie\"}]},\"layout\":{\"autotypenumbers\":\"strict\",\"colorway\":[\"#636efa\",\"#EF553B\",\"#00cc96\",\"#ab63fa\",\"#FFA15A\",\"#19d3f3\",\"#FF6692\",\"#B6E880\",\"#FF97FF\",\"#FECB52\"],\"font\":{\"color\":\"#2a3f5f\"},\"hovermode\":\"closest\",\"hoverlabel\":{\"align\":\"left\"},\"paper_bgcolor\":\"white\",\"plot_bgcolor\":\"#E5ECF6\",\"polar\":{\"bgcolor\":\"#E5ECF6\",\"angularaxis\":{\"gridcolor\":\"white\",\"linecolor\":\"white\",\"ticks\":\"\"},\"radialaxis\":{\"gridcolor\":\"white\",\"linecolor\":\"white\",\"ticks\":\"\"}},\"ternary\":{\"bgcolor\":\"#E5ECF6\",\"aaxis\":{\"gridcolor\":\"white\",\"linecolor\":\"white\",\"ticks\":\"\"},\"baxis\":{\"gridcolor\":\"white\",\"linecolor\":\"white\",\"ticks\":\"\"},\"caxis\":{\"gridcolor\":\"white\",\"linecolor\":\"white\",\"ticks\":\"\"}},\"coloraxis\":{\"colorbar\":{\"outlinewidth\":0,\"ticks\":\"\"}},\"colorscale\":{\"sequential\":[[0.0,\"#0d0887\"],[0.1111111111111111,\"#46039f\"],[0.2222222222222222,\"#7201a8\"],[0.3333333333333333,\"#9c179e\"],[0.4444444444444444,\"#bd3786\"],[0.5555555555555556,\"#d8576b\"],[0.6666666666666666,\"#ed7953\"],[0.7777777777777778,\"#fb9f3a\"],[0.8888888888888888,\"#fdca26\"],[1.0,\"#f0f921\"]],\"sequentialminus\":[[0.0,\"#0d0887\"],[0.1111111111111111,\"#46039f\"],[0.2222222222222222,\"#7201a8\"],[0.3333333333333333,\"#9c179e\"],[0.4444444444444444,\"#bd3786\"],[0.5555555555555556,\"#d8576b\"],[0.6666666666666666,\"#ed7953\"],[0.7777777777777778,\"#fb9f3a\"],[0.8888888888888888,\"#fdca26\"],[1.0,\"#f0f921\"]],\"diverging\":[[0,\"#8e0152\"],[0.1,\"#c51b7d\"],[0.2,\"#de77ae\"],[0.3,\"#f1b6da\"],[0.4,\"#fde0ef\"],[0.5,\"#f7f7f7\"],[0.6,\"#e6f5d0\"],[0.7,\"#b8e186\"],[0.8,\"#7fbc41\"],[0.9,\"#4d9221\"],[1,\"#276419\"]]},\"xaxis\":{\"gridcolor\":\"white\",\"linecolor\":\"white\",\"ticks\":\"\",\"title\":{\"standoff\":15},\"zerolinecolor\":\"white\",\"automargin\":true,\"zerolinewidth\":2},\"yaxis\":{\"gridcolor\":\"white\",\"linecolor\":\"white\",\"ticks\":\"\",\"title\":{\"standoff\":15},\"zerolinecolor\":\"white\",\"automargin\":true,\"zerolinewidth\":2},\"scene\":{\"xaxis\":{\"backgroundcolor\":\"#E5ECF6\",\"gridcolor\":\"white\",\"linecolor\":\"white\",\"showbackground\":true,\"ticks\":\"\",\"zerolinecolor\":\"white\",\"gridwidth\":2},\"yaxis\":{\"backgroundcolor\":\"#E5ECF6\",\"gridcolor\":\"white\",\"linecolor\":\"white\",\"showbackground\":true,\"ticks\":\"\",\"zerolinecolor\":\"white\",\"gridwidth\":2},\"zaxis\":{\"backgroundcolor\":\"#E5ECF6\",\"gridcolor\":\"white\",\"linecolor\":\"white\",\"showbackground\":true,\"ticks\":\"\",\"zerolinecolor\":\"white\",\"gridwidth\":2}},\"shapedefaults\":{\"line\":{\"color\":\"#2a3f5f\"}},\"annotationdefaults\":{\"arrowcolor\":\"#2a3f5f\",\"arrowhead\":0,\"arrowwidth\":1},\"geo\":{\"bgcolor\":\"white\",\"landcolor\":\"#E5ECF6\",\"subunitcolor\":\"white\",\"showland\":true,\"showlakes\":true,\"lakecolor\":\"white\"},\"title\":{\"x\":0.05},\"mapbox\":{\"style\":\"light\"}}},\"xaxis\":{\"anchor\":\"y\",\"domain\":[0.0,1.0],\"title\":{\"text\":\"Datetime\"}},\"yaxis\":{\"anchor\":\"x\",\"domain\":[0.0,1.0],\"title\":{\"text\":\"Close\"}},\"legend\":{\"tracegroupgap\":0},\"title\":{\"text\":\"AAPL Stock Prices\"}},                        {\"responsive\": true}                    ).then(function(){\n",
       "                            \n",
       "var gd = document.getElementById('700f3364-7ea2-45a1-9f35-71c6b4c5c3a0');\n",
       "var x = new MutationObserver(function (mutations, observer) {{\n",
       "        var display = window.getComputedStyle(gd).display;\n",
       "        if (!display || display === 'none') {{\n",
       "            console.log([gd, 'removed!']);\n",
       "            Plotly.purge(gd);\n",
       "            observer.disconnect();\n",
       "        }}\n",
       "}});\n",
       "\n",
       "// Listen for the removal of the full notebook cells\n",
       "var notebookContainer = gd.closest('#notebook-container');\n",
       "if (notebookContainer) {{\n",
       "    x.observe(notebookContainer, {childList: true});\n",
       "}}\n",
       "\n",
       "// Listen for the clearing of the current output cell\n",
       "var outputEl = gd.closest('.output');\n",
       "if (outputEl) {{\n",
       "    x.observe(outputEl, {childList: true});\n",
       "}}\n",
       "\n",
       "                        })                };                });            </script>        </div>"
      ]
     },
     "metadata": {},
     "output_type": "display_data"
    },
    {
     "name": "stdout",
     "output_type": "stream",
     "text": [
      "How many previous data points should our model look at?\n",
      " (Type 'Exit' to quit)20\n"
     ]
    },
    {
     "data": {
      "application/vnd.plotly.v1+json": {
       "config": {
        "plotlyServerURL": "https://plot.ly"
       },
       "data": [
        {
         "hovertemplate": "variable=SMA_16<br>Datetime=%{x}<br>value=%{y}<extra></extra>",
         "legendgroup": "SMA_16",
         "line": {
          "color": "#85deb1",
          "dash": "solid"
         },
         "marker": {
          "symbol": "circle"
         },
         "mode": "lines",
         "name": "SMA_16",
         "showlegend": true,
         "type": "scattergl",
         "x": [
          "2024-06-06T09:30:00-04:00",
          "2024-06-06T09:31:00-04:00",
          "2024-06-06T09:32:00-04:00",
          "2024-06-06T09:33:00-04:00",
          "2024-06-06T09:34:00-04:00",
          "2024-06-06T09:35:00-04:00",
          "2024-06-06T09:36:00-04:00",
          "2024-06-06T09:37:00-04:00",
          "2024-06-06T09:38:00-04:00",
          "2024-06-06T09:39:00-04:00",
          "2024-06-06T09:40:00-04:00",
          "2024-06-06T09:41:00-04:00",
          "2024-06-06T09:42:00-04:00",
          "2024-06-06T09:43:00-04:00",
          "2024-06-06T09:44:00-04:00",
          "2024-06-06T09:45:00-04:00",
          "2024-06-06T09:46:00-04:00",
          "2024-06-06T09:47:00-04:00",
          "2024-06-06T09:48:00-04:00",
          "2024-06-06T09:49:00-04:00",
          "2024-06-06T09:50:00-04:00",
          "2024-06-06T09:51:00-04:00",
          "2024-06-06T09:52:00-04:00",
          "2024-06-06T09:53:00-04:00",
          "2024-06-06T09:54:00-04:00",
          "2024-06-06T09:55:00-04:00",
          "2024-06-06T09:56:00-04:00",
          "2024-06-06T09:57:00-04:00",
          "2024-06-06T09:58:00-04:00",
          "2024-06-06T09:59:00-04:00",
          "2024-06-06T10:00:00-04:00",
          "2024-06-06T10:01:00-04:00",
          "2024-06-06T10:02:00-04:00",
          "2024-06-06T10:03:00-04:00",
          "2024-06-06T10:04:00-04:00",
          "2024-06-06T10:05:00-04:00",
          "2024-06-06T10:06:00-04:00",
          "2024-06-06T10:07:00-04:00",
          "2024-06-06T10:08:00-04:00",
          "2024-06-06T10:09:00-04:00",
          "2024-06-06T10:10:00-04:00",
          "2024-06-06T10:11:00-04:00",
          "2024-06-06T10:12:00-04:00",
          "2024-06-06T10:13:00-04:00",
          "2024-06-06T10:14:00-04:00",
          "2024-06-06T10:15:00-04:00",
          "2024-06-06T10:16:00-04:00",
          "2024-06-06T10:17:00-04:00",
          "2024-06-06T10:18:00-04:00",
          "2024-06-06T10:19:00-04:00",
          "2024-06-06T10:20:00-04:00",
          "2024-06-06T10:21:00-04:00",
          "2024-06-06T10:22:00-04:00",
          "2024-06-06T10:23:00-04:00",
          "2024-06-06T10:24:00-04:00",
          "2024-06-06T10:25:00-04:00",
          "2024-06-06T10:26:00-04:00",
          "2024-06-06T10:27:00-04:00",
          "2024-06-06T10:28:00-04:00",
          "2024-06-06T10:29:00-04:00",
          "2024-06-06T10:30:00-04:00",
          "2024-06-06T10:31:00-04:00",
          "2024-06-06T10:32:00-04:00",
          "2024-06-06T10:33:00-04:00",
          "2024-06-06T10:34:00-04:00",
          "2024-06-06T10:35:00-04:00",
          "2024-06-06T10:36:00-04:00",
          "2024-06-06T10:37:00-04:00",
          "2024-06-06T10:38:00-04:00",
          "2024-06-06T10:39:00-04:00",
          "2024-06-06T10:40:00-04:00",
          "2024-06-06T10:41:00-04:00",
          "2024-06-06T10:42:00-04:00",
          "2024-06-06T10:43:00-04:00",
          "2024-06-06T10:44:00-04:00",
          "2024-06-06T10:45:00-04:00",
          "2024-06-06T10:46:00-04:00",
          "2024-06-06T10:47:00-04:00",
          "2024-06-06T10:48:00-04:00",
          "2024-06-06T10:49:00-04:00",
          "2024-06-06T10:50:00-04:00",
          "2024-06-06T10:51:00-04:00",
          "2024-06-06T10:52:00-04:00",
          "2024-06-06T10:53:00-04:00",
          "2024-06-06T10:54:00-04:00",
          "2024-06-06T10:55:00-04:00",
          "2024-06-06T10:56:00-04:00",
          "2024-06-06T10:57:00-04:00",
          "2024-06-06T10:58:00-04:00",
          "2024-06-06T10:59:00-04:00",
          "2024-06-06T11:00:00-04:00",
          "2024-06-06T11:01:00-04:00",
          "2024-06-06T11:02:00-04:00",
          "2024-06-06T11:03:00-04:00",
          "2024-06-06T11:04:00-04:00",
          "2024-06-06T11:05:00-04:00",
          "2024-06-06T11:06:00-04:00",
          "2024-06-06T11:07:00-04:00",
          "2024-06-06T11:08:00-04:00",
          "2024-06-06T11:09:00-04:00",
          "2024-06-06T11:10:00-04:00",
          "2024-06-06T11:11:00-04:00",
          "2024-06-06T11:12:00-04:00",
          "2024-06-06T11:13:00-04:00",
          "2024-06-06T11:14:00-04:00",
          "2024-06-06T11:15:00-04:00",
          "2024-06-06T11:16:00-04:00",
          "2024-06-06T11:17:00-04:00",
          "2024-06-06T11:18:00-04:00",
          "2024-06-06T11:19:00-04:00",
          "2024-06-06T11:20:00-04:00",
          "2024-06-06T11:21:00-04:00",
          "2024-06-06T11:22:00-04:00",
          "2024-06-06T11:23:00-04:00",
          "2024-06-06T11:24:00-04:00",
          "2024-06-06T11:25:00-04:00",
          "2024-06-06T11:26:00-04:00",
          "2024-06-06T11:27:00-04:00",
          "2024-06-06T11:28:00-04:00",
          "2024-06-06T11:29:00-04:00",
          "2024-06-06T11:30:00-04:00",
          "2024-06-06T11:31:00-04:00",
          "2024-06-06T11:32:00-04:00",
          "2024-06-06T11:33:00-04:00",
          "2024-06-06T11:34:00-04:00",
          "2024-06-06T11:35:00-04:00",
          "2024-06-06T11:36:00-04:00",
          "2024-06-06T11:37:00-04:00",
          "2024-06-06T11:38:00-04:00",
          "2024-06-06T11:39:00-04:00",
          "2024-06-06T11:40:00-04:00",
          "2024-06-06T11:41:00-04:00",
          "2024-06-06T11:42:00-04:00",
          "2024-06-06T11:43:00-04:00",
          "2024-06-06T11:44:00-04:00",
          "2024-06-06T11:45:00-04:00",
          "2024-06-06T11:46:00-04:00",
          "2024-06-06T11:47:00-04:00",
          "2024-06-06T11:48:00-04:00",
          "2024-06-06T11:49:00-04:00",
          "2024-06-06T11:50:00-04:00",
          "2024-06-06T11:51:00-04:00",
          "2024-06-06T11:52:00-04:00",
          "2024-06-06T11:53:00-04:00",
          "2024-06-06T11:54:00-04:00",
          "2024-06-06T11:55:00-04:00",
          "2024-06-06T11:56:00-04:00",
          "2024-06-06T11:57:00-04:00",
          "2024-06-06T11:58:00-04:00",
          "2024-06-06T11:59:00-04:00",
          "2024-06-06T12:00:00-04:00",
          "2024-06-06T12:01:00-04:00",
          "2024-06-06T12:02:00-04:00",
          "2024-06-06T12:03:00-04:00",
          "2024-06-06T12:04:00-04:00",
          "2024-06-06T12:05:00-04:00",
          "2024-06-06T12:06:00-04:00",
          "2024-06-06T12:07:00-04:00",
          "2024-06-06T12:08:00-04:00",
          "2024-06-06T12:09:00-04:00",
          "2024-06-06T12:10:00-04:00",
          "2024-06-06T12:11:00-04:00",
          "2024-06-06T12:12:00-04:00",
          "2024-06-06T12:13:00-04:00",
          "2024-06-06T12:14:00-04:00",
          "2024-06-06T12:15:00-04:00",
          "2024-06-06T12:16:00-04:00",
          "2024-06-06T12:17:00-04:00",
          "2024-06-06T12:18:00-04:00",
          "2024-06-06T12:19:00-04:00",
          "2024-06-06T12:20:00-04:00",
          "2024-06-06T12:21:00-04:00",
          "2024-06-06T12:22:00-04:00",
          "2024-06-06T12:23:00-04:00",
          "2024-06-06T12:24:00-04:00",
          "2024-06-06T12:25:00-04:00",
          "2024-06-06T12:26:00-04:00",
          "2024-06-06T12:27:00-04:00",
          "2024-06-06T12:28:00-04:00",
          "2024-06-06T12:29:00-04:00",
          "2024-06-06T12:30:00-04:00",
          "2024-06-06T12:31:00-04:00",
          "2024-06-06T12:32:00-04:00",
          "2024-06-06T12:33:00-04:00",
          "2024-06-06T12:34:00-04:00",
          "2024-06-06T12:35:00-04:00",
          "2024-06-06T12:36:00-04:00",
          "2024-06-06T12:37:00-04:00",
          "2024-06-06T12:38:00-04:00",
          "2024-06-06T12:39:00-04:00",
          "2024-06-06T12:40:00-04:00",
          "2024-06-06T12:41:00-04:00",
          "2024-06-06T12:42:00-04:00",
          "2024-06-06T12:43:00-04:00",
          "2024-06-06T12:44:00-04:00",
          "2024-06-06T12:45:00-04:00",
          "2024-06-06T12:46:00-04:00",
          "2024-06-06T12:47:00-04:00",
          "2024-06-06T12:48:00-04:00",
          "2024-06-06T12:49:00-04:00",
          "2024-06-06T12:50:00-04:00",
          "2024-06-06T12:51:00-04:00",
          "2024-06-06T12:52:00-04:00",
          "2024-06-06T12:53:00-04:00",
          "2024-06-06T12:54:00-04:00",
          "2024-06-06T12:55:00-04:00",
          "2024-06-06T12:56:00-04:00",
          "2024-06-06T12:57:00-04:00",
          "2024-06-06T12:58:00-04:00",
          "2024-06-06T12:59:00-04:00",
          "2024-06-06T13:00:00-04:00",
          "2024-06-06T13:01:00-04:00",
          "2024-06-06T13:02:00-04:00",
          "2024-06-06T13:03:00-04:00",
          "2024-06-06T13:04:00-04:00",
          "2024-06-06T13:05:00-04:00",
          "2024-06-06T13:06:00-04:00",
          "2024-06-06T13:07:00-04:00",
          "2024-06-06T13:08:00-04:00",
          "2024-06-06T13:09:00-04:00",
          "2024-06-06T13:10:00-04:00",
          "2024-06-06T13:11:00-04:00",
          "2024-06-06T13:12:00-04:00",
          "2024-06-06T13:13:00-04:00",
          "2024-06-06T13:14:00-04:00",
          "2024-06-06T13:15:00-04:00",
          "2024-06-06T13:16:00-04:00",
          "2024-06-06T13:17:00-04:00",
          "2024-06-06T13:18:00-04:00",
          "2024-06-06T13:19:00-04:00",
          "2024-06-06T13:20:00-04:00",
          "2024-06-06T13:21:00-04:00",
          "2024-06-06T13:22:00-04:00",
          "2024-06-06T13:23:00-04:00",
          "2024-06-06T13:24:00-04:00",
          "2024-06-06T13:25:00-04:00",
          "2024-06-06T13:26:00-04:00",
          "2024-06-06T13:27:00-04:00",
          "2024-06-06T13:28:00-04:00",
          "2024-06-06T13:29:00-04:00",
          "2024-06-06T13:30:00-04:00",
          "2024-06-06T13:31:00-04:00",
          "2024-06-06T13:32:00-04:00",
          "2024-06-06T13:33:00-04:00",
          "2024-06-06T13:34:00-04:00",
          "2024-06-06T13:35:00-04:00",
          "2024-06-06T13:36:00-04:00",
          "2024-06-06T13:37:00-04:00",
          "2024-06-06T13:38:00-04:00",
          "2024-06-06T13:39:00-04:00",
          "2024-06-06T13:40:00-04:00",
          "2024-06-06T13:41:00-04:00",
          "2024-06-06T13:42:00-04:00",
          "2024-06-06T13:43:00-04:00",
          "2024-06-06T13:44:00-04:00",
          "2024-06-06T13:45:00-04:00",
          "2024-06-06T13:46:00-04:00",
          "2024-06-06T13:47:00-04:00",
          "2024-06-06T13:48:00-04:00",
          "2024-06-06T13:49:00-04:00",
          "2024-06-06T13:50:00-04:00",
          "2024-06-06T13:51:00-04:00",
          "2024-06-06T13:52:00-04:00",
          "2024-06-06T13:53:00-04:00",
          "2024-06-06T13:54:00-04:00",
          "2024-06-06T13:55:00-04:00",
          "2024-06-06T13:56:00-04:00",
          "2024-06-06T13:57:00-04:00",
          "2024-06-06T13:58:00-04:00",
          "2024-06-06T13:59:00-04:00",
          "2024-06-06T14:00:00-04:00",
          "2024-06-06T14:01:00-04:00",
          "2024-06-06T14:02:00-04:00",
          "2024-06-06T14:03:00-04:00",
          "2024-06-06T14:04:00-04:00",
          "2024-06-06T14:05:00-04:00",
          "2024-06-06T14:06:00-04:00",
          "2024-06-06T14:07:00-04:00",
          "2024-06-06T14:08:00-04:00",
          "2024-06-06T14:09:00-04:00",
          "2024-06-06T14:10:00-04:00",
          "2024-06-06T14:11:00-04:00",
          "2024-06-06T14:12:00-04:00",
          "2024-06-06T14:13:00-04:00",
          "2024-06-06T14:14:00-04:00",
          "2024-06-06T14:15:00-04:00",
          "2024-06-06T14:16:00-04:00",
          "2024-06-06T14:17:00-04:00",
          "2024-06-06T14:18:00-04:00",
          "2024-06-06T14:19:00-04:00",
          "2024-06-06T14:20:00-04:00",
          "2024-06-06T14:21:00-04:00",
          "2024-06-06T14:22:00-04:00",
          "2024-06-06T14:23:00-04:00",
          "2024-06-06T14:24:00-04:00",
          "2024-06-06T14:25:00-04:00",
          "2024-06-06T14:26:00-04:00",
          "2024-06-06T14:27:00-04:00",
          "2024-06-06T14:28:00-04:00",
          "2024-06-06T14:29:00-04:00",
          "2024-06-06T14:30:00-04:00",
          "2024-06-06T14:31:00-04:00",
          "2024-06-06T14:32:00-04:00",
          "2024-06-06T14:33:00-04:00",
          "2024-06-06T14:34:00-04:00",
          "2024-06-06T14:35:00-04:00",
          "2024-06-06T14:36:00-04:00",
          "2024-06-06T14:37:00-04:00",
          "2024-06-06T14:38:00-04:00",
          "2024-06-06T14:39:00-04:00",
          "2024-06-06T14:40:00-04:00",
          "2024-06-06T14:41:00-04:00",
          "2024-06-06T14:42:00-04:00",
          "2024-06-06T14:43:00-04:00",
          "2024-06-06T14:44:00-04:00",
          "2024-06-06T14:45:00-04:00",
          "2024-06-06T14:46:00-04:00",
          "2024-06-06T14:47:00-04:00",
          "2024-06-06T14:48:00-04:00",
          "2024-06-06T14:49:00-04:00",
          "2024-06-06T14:50:00-04:00",
          "2024-06-06T14:51:00-04:00",
          "2024-06-06T14:52:00-04:00",
          "2024-06-06T14:53:00-04:00",
          "2024-06-06T14:54:00-04:00",
          "2024-06-06T14:55:00-04:00",
          "2024-06-06T14:56:00-04:00",
          "2024-06-06T14:57:00-04:00",
          "2024-06-06T14:58:00-04:00",
          "2024-06-06T14:59:00-04:00",
          "2024-06-06T15:00:00-04:00",
          "2024-06-06T15:01:00-04:00",
          "2024-06-06T15:02:00-04:00",
          "2024-06-06T15:03:00-04:00",
          "2024-06-06T15:04:00-04:00",
          "2024-06-06T15:05:00-04:00",
          "2024-06-06T15:06:00-04:00",
          "2024-06-06T15:07:00-04:00",
          "2024-06-06T15:08:00-04:00",
          "2024-06-06T15:09:00-04:00",
          "2024-06-06T15:10:00-04:00",
          "2024-06-06T15:11:00-04:00",
          "2024-06-06T15:12:00-04:00",
          "2024-06-06T15:13:00-04:00",
          "2024-06-06T15:14:00-04:00",
          "2024-06-06T15:15:00-04:00",
          "2024-06-06T15:16:00-04:00",
          "2024-06-06T15:17:00-04:00",
          "2024-06-06T15:18:00-04:00",
          "2024-06-06T15:19:00-04:00",
          "2024-06-06T15:20:00-04:00",
          "2024-06-06T15:21:00-04:00",
          "2024-06-06T15:22:00-04:00",
          "2024-06-06T15:23:00-04:00",
          "2024-06-06T15:24:00-04:00",
          "2024-06-06T15:25:00-04:00",
          "2024-06-06T15:26:00-04:00",
          "2024-06-06T15:27:00-04:00",
          "2024-06-06T15:28:00-04:00",
          "2024-06-06T15:29:00-04:00",
          "2024-06-06T15:30:00-04:00",
          "2024-06-06T15:31:00-04:00",
          "2024-06-06T15:32:00-04:00",
          "2024-06-06T15:33:00-04:00",
          "2024-06-06T15:34:00-04:00",
          "2024-06-06T15:35:00-04:00",
          "2024-06-06T15:36:00-04:00",
          "2024-06-06T15:37:00-04:00",
          "2024-06-06T15:38:00-04:00",
          "2024-06-06T15:39:00-04:00",
          "2024-06-06T15:40:00-04:00",
          "2024-06-06T15:41:00-04:00",
          "2024-06-06T15:42:00-04:00",
          "2024-06-06T15:43:00-04:00",
          "2024-06-06T15:44:00-04:00",
          "2024-06-06T15:45:00-04:00",
          "2024-06-06T15:46:00-04:00",
          "2024-06-06T15:47:00-04:00",
          "2024-06-06T15:48:00-04:00",
          "2024-06-06T15:49:00-04:00",
          "2024-06-06T15:50:00-04:00",
          "2024-06-06T15:51:00-04:00",
          "2024-06-06T15:52:00-04:00",
          "2024-06-06T15:53:00-04:00",
          "2024-06-06T15:54:00-04:00",
          "2024-06-06T15:55:00-04:00",
          "2024-06-06T15:56:00-04:00",
          "2024-06-06T15:57:00-04:00",
          "2024-06-06T15:58:00-04:00",
          "2024-06-06T15:59:00-04:00"
         ],
         "xaxis": "x",
         "y": [
          196.1300048828125,
          196.1300048828125,
          196.13812923431396,
          196.13676643371582,
          196.1223907470703,
          196.09989070892334,
          196.05969047546387,
          196.025071144104,
          195.98757076263428,
          195.95007038116455,
          195.91194534301758,
          195.85475730895996,
          195.81413173675537,
          195.77788162231445,
          195.74685668945312,
          195.71935653686523,
          195.68574333190918,
          195.65074348449707,
          195.60577487945557,
          195.5865125656128,
          195.57651329040527,
          195.57713222503662,
          195.58821296691895,
          195.59220695495605,
          195.59970664978027,
          195.61064434051514,
          195.62439441680908,
          195.6622076034546,
          195.68845748901367,
          195.71470737457275,
          195.7444887161255,
          195.77667617797852,
          195.8112268447876,
          195.83403873443604,
          195.86838245391846,
          195.88244438171387,
          195.88869380950928,
          195.88744926452637,
          195.89344310760498,
          195.8946933746338,
          195.89844417572021,
          195.90688133239746,
          195.9206314086914,
          195.93000602722168,
          195.94000625610352,
          195.95250606536865,
          195.9621868133545,
          195.97031211853027,
          195.98368072509766,
          196.00586795806885,
          196.01649284362793,
          196.0324306488037,
          196.0586805343628,
          196.1030559539795,
          196.14555644989014,
          196.1799440383911,
          196.20119380950928,
          196.20181941986084,
          196.1980686187744,
          196.20056819915771,
          196.1918182373047,
          196.17494297027588,
          196.15306758880615,
          196.11900424957275,
          196.0778226852417,
          196.0350103378296,
          196.00219821929932,
          195.97157287597656,
          195.94469833374023,
          195.8996982574463,
          195.85469818115234,
          195.8290605545044,
          195.8171854019165,
          195.81343460083008,
          195.8078098297119,
          195.7924976348877,
          195.78124809265137,
          195.77062320709229,
          195.75455474853516,
          195.738299369812,
          195.72861862182617,
          195.71955680847168,
          195.70986938476562,
          195.70049476623535,
          195.68768215179443,
          195.6864194869995,
          195.69391918182373,
          195.7020435333252,
          195.70016860961914,
          195.6970443725586,
          195.69329452514648,
          195.68548202514648,
          195.68298149108887,
          195.68235683441162,
          195.6874885559082,
          195.69735050201416,
          195.70530033111572,
          195.72186279296875,
          195.72936248779297,
          195.730299949646,
          195.73592472076416,
          195.73375034332275,
          195.72250080108643,
          195.70312595367432,
          195.69781303405762,
          195.70156288146973,
          195.7071876525879,
          195.7200002670288,
          195.72187519073486,
          195.71843719482422,
          195.71156787872314,
          195.71264934539795,
          195.71969318389893,
          195.71938037872314,
          195.72276210784912,
          195.72807502746582,
          195.7349500656128,
          195.742449760437,
          195.75057411193848,
          195.76276206970215,
          195.76838779449463,
          195.7637004852295,
          195.75807571411133,
          195.74838829040527,
          195.7497386932373,
          195.7563018798828,
          195.76254558563232,
          195.76085758209229,
          195.75741958618164,
          195.7552318572998,
          195.75310039520264,
          195.74810028076172,
          195.73591327667236,
          195.72310066223145,
          195.71130752563477,
          195.69849491119385,
          195.68411922454834,
          195.6781816482544,
          195.67130661010742,
          195.6691188812256,
          195.6589002609253,
          195.6429624557495,
          195.6273374557495,
          195.61058807373047,
          195.5918378829956,
          195.57527542114258,
          195.55840015411377,
          195.5477752685547,
          195.54401874542236,
          195.53651905059814,
          195.53206253051758,
          195.52232456207275,
          195.5138874053955,
          195.50500583648682,
          195.49500560760498,
          195.48469352722168,
          195.48043727874756,
          195.48046207427979,
          195.48577499389648,
          195.495680809021,
          195.503812789917,
          195.51497554779053,
          195.52903842926025,
          195.5415382385254,
          195.54598236083984,
          195.55223178863525,
          195.5528564453125,
          195.56696891784668,
          195.5797815322876,
          195.59272575378418,
          195.61178874969482,
          195.62866306304932,
          195.64116287231445,
          195.65545654296875,
          195.6651439666748,
          195.67180061340332,
          195.68023204803467,
          195.68563175201416,
          195.68281269073486,
          195.68249988555908,
          195.68431186676025,
          195.68931198120117,
          195.699312210083,
          195.69743728637695,
          195.69462490081787,
          195.69243717193604,
          195.68712425231934,
          195.68087482452393,
          195.67931270599365,
          195.67530632019043,
          195.67093086242676,
          195.66809940338135,
          195.6687240600586,
          195.66776752471924,
          195.6696491241455,
          195.66683673858643,
          195.66746139526367,
          195.66621112823486,
          195.6630859375,
          195.66496086120605,
          195.6668357849121,
          195.66714763641357,
          195.6668357849121,
          195.66996097564697,
          195.6708984375,
          195.67183685302734,
          195.67808723449707,
          195.68373107910156,
          195.68623065948486,
          195.69718742370605,
          195.71656227111816,
          195.73474979400635,
          195.74911880493164,
          195.7678689956665,
          195.78661918640137,
          195.80380725860596,
          195.82505702972412,
          195.84568214416504,
          195.8691062927246,
          195.89098072052002,
          195.91223049163818,
          195.92848014831543,
          195.93816757202148,
          195.9456672668457,
          195.95316791534424,
          195.952543258667,
          195.93973064422607,
          195.93028736114502,
          195.9202938079834,
          195.90810680389404,
          195.88998222351074,
          195.86404418945312,
          195.83498191833496,
          195.80654430389404,
          195.77078247070312,
          195.7373447418213,
          195.70912551879883,
          195.68756294250488,
          195.6691255569458,
          195.65537548065186,
          195.64181232452393,
          195.628999710083,
          195.62430572509766,
          195.62024879455566,
          195.61431121826172,
          195.60587310791016,
          195.60087299346924,
          195.60431098937988,
          195.60837364196777,
          195.6105613708496,
          195.61633586883545,
          195.6239366531372,
          195.62903022766113,
          195.63371753692627,
          195.6346549987793,
          195.63526821136475,
          195.63351821899414,
          195.63226795196533,
          195.6250867843628,
          195.6185245513916,
          195.6160249710083,
          195.61415004730225,
          195.61446285247803,
          195.61321258544922,
          195.60914993286133,
          195.61246871948242,
          195.6090316772461,
          195.59893131256104,
          195.58674430847168,
          195.57382583618164,
          195.56445121765137,
          195.55915069580078,
          195.5525884628296,
          195.54696369171143,
          195.54040145874023,
          195.5305576324463,
          195.52211952209473,
          195.5076446533203,
          195.48598194122314,
          195.45941925048828,
          195.4253568649292,
          195.3923511505127,
          195.3631944656372,
          195.33788204193115,
          195.32225704193115,
          195.31136322021484,
          195.29948806762695,
          195.28480052947998,
          195.27323818206787,
          195.2648000717163,
          195.2610502243042,
          195.2546443939209,
          195.250581741333,
          195.2613067626953,
          195.28015613555908,
          195.30390071868896,
          195.33515071868896,
          195.359525680542,
          195.38705730438232,
          195.41486930847168,
          195.43421268463135,
          195.44396305084229,
          195.44990062713623,
          195.458025932312,
          195.46468830108643,
          195.4690637588501,
          195.465313911438,
          195.46656322479248,
          195.46302032470703,
          195.4489574432373,
          195.43052005767822,
          195.41177558898926,
          195.39740657806396,
          195.38303089141846,
          195.366849899292,
          195.34903812408447,
          195.33125686645508,
          195.31969356536865,
          195.31219291687012,
          195.3018798828125,
          195.29146766662598,
          195.2820920944214,
          195.27771663665771,
          195.2767791748047,
          195.2791223526001,
          195.2827606201172,
          195.29151058197021,
          195.29901123046875,
          195.3008794784546,
          195.30181694030762,
          195.30118560791016,
          195.3005599975586,
          195.29993534088135,
          195.29712295532227,
          195.295560836792,
          195.29181098937988,
          195.28962326049805,
          195.28806114196777,
          195.29218006134033,
          195.28851127624512,
          195.28064918518066,
          195.27358627319336,
          195.261399269104,
          195.2470235824585,
          195.2338991165161,
          195.22046184539795,
          195.2157735824585,
          195.21421146392822,
          195.21233654022217,
          195.2173366546631,
          195.22452449798584,
          195.22952461242676,
          195.22796249389648,
          195.22546291351318,
          195.22142505645752,
          195.21868801116943,
          195.21962547302246,
          195.21867561340332,
          195.2214879989624,
          195.23180103302002,
          195.25136375427246,
          195.27511405944824,
          195.28855228424072,
          195.3004274368286,
          195.30886459350586,
          195.30542755126953,
          195.29355239868164,
          195.2835521697998,
          195.27917671203613,
          195.27730178833008,
          195.2678461074829,
          195.25581455230713,
          195.24081420898438,
          195.22706413269043,
          195.2117519378662,
          195.1936264038086,
          195.17080116271973,
          195.14330101013184,
          195.12392616271973,
          195.10548877716064,
          195.08861446380615,
          195.06361389160156,
          195.02611351013184,
          194.98048877716064,
          194.9379825592041,
          194.8817319869995,
          194.8311071395874,
          194.77579498291016,
          194.7361078262329,
          194.69423294067383
         ],
         "yaxis": "y"
        },
        {
         "hovertemplate": "variable=upper_boll_16<br>Datetime=%{x}<br>value=%{y}<extra></extra>",
         "legendgroup": "upper_boll_16",
         "line": {
          "color": "#b6d1c3",
          "dash": "dot"
         },
         "marker": {
          "symbol": "circle"
         },
         "mode": "lines",
         "name": "upper_boll_16",
         "showlegend": true,
         "type": "scattergl",
         "x": [
          "2024-06-06T09:30:00-04:00",
          "2024-06-06T09:31:00-04:00",
          "2024-06-06T09:32:00-04:00",
          "2024-06-06T09:33:00-04:00",
          "2024-06-06T09:34:00-04:00",
          "2024-06-06T09:35:00-04:00",
          "2024-06-06T09:36:00-04:00",
          "2024-06-06T09:37:00-04:00",
          "2024-06-06T09:38:00-04:00",
          "2024-06-06T09:39:00-04:00",
          "2024-06-06T09:40:00-04:00",
          "2024-06-06T09:41:00-04:00",
          "2024-06-06T09:42:00-04:00",
          "2024-06-06T09:43:00-04:00",
          "2024-06-06T09:44:00-04:00",
          "2024-06-06T09:45:00-04:00",
          "2024-06-06T09:46:00-04:00",
          "2024-06-06T09:47:00-04:00",
          "2024-06-06T09:48:00-04:00",
          "2024-06-06T09:49:00-04:00",
          "2024-06-06T09:50:00-04:00",
          "2024-06-06T09:51:00-04:00",
          "2024-06-06T09:52:00-04:00",
          "2024-06-06T09:53:00-04:00",
          "2024-06-06T09:54:00-04:00",
          "2024-06-06T09:55:00-04:00",
          "2024-06-06T09:56:00-04:00",
          "2024-06-06T09:57:00-04:00",
          "2024-06-06T09:58:00-04:00",
          "2024-06-06T09:59:00-04:00",
          "2024-06-06T10:00:00-04:00",
          "2024-06-06T10:01:00-04:00",
          "2024-06-06T10:02:00-04:00",
          "2024-06-06T10:03:00-04:00",
          "2024-06-06T10:04:00-04:00",
          "2024-06-06T10:05:00-04:00",
          "2024-06-06T10:06:00-04:00",
          "2024-06-06T10:07:00-04:00",
          "2024-06-06T10:08:00-04:00",
          "2024-06-06T10:09:00-04:00",
          "2024-06-06T10:10:00-04:00",
          "2024-06-06T10:11:00-04:00",
          "2024-06-06T10:12:00-04:00",
          "2024-06-06T10:13:00-04:00",
          "2024-06-06T10:14:00-04:00",
          "2024-06-06T10:15:00-04:00",
          "2024-06-06T10:16:00-04:00",
          "2024-06-06T10:17:00-04:00",
          "2024-06-06T10:18:00-04:00",
          "2024-06-06T10:19:00-04:00",
          "2024-06-06T10:20:00-04:00",
          "2024-06-06T10:21:00-04:00",
          "2024-06-06T10:22:00-04:00",
          "2024-06-06T10:23:00-04:00",
          "2024-06-06T10:24:00-04:00",
          "2024-06-06T10:25:00-04:00",
          "2024-06-06T10:26:00-04:00",
          "2024-06-06T10:27:00-04:00",
          "2024-06-06T10:28:00-04:00",
          "2024-06-06T10:29:00-04:00",
          "2024-06-06T10:30:00-04:00",
          "2024-06-06T10:31:00-04:00",
          "2024-06-06T10:32:00-04:00",
          "2024-06-06T10:33:00-04:00",
          "2024-06-06T10:34:00-04:00",
          "2024-06-06T10:35:00-04:00",
          "2024-06-06T10:36:00-04:00",
          "2024-06-06T10:37:00-04:00",
          "2024-06-06T10:38:00-04:00",
          "2024-06-06T10:39:00-04:00",
          "2024-06-06T10:40:00-04:00",
          "2024-06-06T10:41:00-04:00",
          "2024-06-06T10:42:00-04:00",
          "2024-06-06T10:43:00-04:00",
          "2024-06-06T10:44:00-04:00",
          "2024-06-06T10:45:00-04:00",
          "2024-06-06T10:46:00-04:00",
          "2024-06-06T10:47:00-04:00",
          "2024-06-06T10:48:00-04:00",
          "2024-06-06T10:49:00-04:00",
          "2024-06-06T10:50:00-04:00",
          "2024-06-06T10:51:00-04:00",
          "2024-06-06T10:52:00-04:00",
          "2024-06-06T10:53:00-04:00",
          "2024-06-06T10:54:00-04:00",
          "2024-06-06T10:55:00-04:00",
          "2024-06-06T10:56:00-04:00",
          "2024-06-06T10:57:00-04:00",
          "2024-06-06T10:58:00-04:00",
          "2024-06-06T10:59:00-04:00",
          "2024-06-06T11:00:00-04:00",
          "2024-06-06T11:01:00-04:00",
          "2024-06-06T11:02:00-04:00",
          "2024-06-06T11:03:00-04:00",
          "2024-06-06T11:04:00-04:00",
          "2024-06-06T11:05:00-04:00",
          "2024-06-06T11:06:00-04:00",
          "2024-06-06T11:07:00-04:00",
          "2024-06-06T11:08:00-04:00",
          "2024-06-06T11:09:00-04:00",
          "2024-06-06T11:10:00-04:00",
          "2024-06-06T11:11:00-04:00",
          "2024-06-06T11:12:00-04:00",
          "2024-06-06T11:13:00-04:00",
          "2024-06-06T11:14:00-04:00",
          "2024-06-06T11:15:00-04:00",
          "2024-06-06T11:16:00-04:00",
          "2024-06-06T11:17:00-04:00",
          "2024-06-06T11:18:00-04:00",
          "2024-06-06T11:19:00-04:00",
          "2024-06-06T11:20:00-04:00",
          "2024-06-06T11:21:00-04:00",
          "2024-06-06T11:22:00-04:00",
          "2024-06-06T11:23:00-04:00",
          "2024-06-06T11:24:00-04:00",
          "2024-06-06T11:25:00-04:00",
          "2024-06-06T11:26:00-04:00",
          "2024-06-06T11:27:00-04:00",
          "2024-06-06T11:28:00-04:00",
          "2024-06-06T11:29:00-04:00",
          "2024-06-06T11:30:00-04:00",
          "2024-06-06T11:31:00-04:00",
          "2024-06-06T11:32:00-04:00",
          "2024-06-06T11:33:00-04:00",
          "2024-06-06T11:34:00-04:00",
          "2024-06-06T11:35:00-04:00",
          "2024-06-06T11:36:00-04:00",
          "2024-06-06T11:37:00-04:00",
          "2024-06-06T11:38:00-04:00",
          "2024-06-06T11:39:00-04:00",
          "2024-06-06T11:40:00-04:00",
          "2024-06-06T11:41:00-04:00",
          "2024-06-06T11:42:00-04:00",
          "2024-06-06T11:43:00-04:00",
          "2024-06-06T11:44:00-04:00",
          "2024-06-06T11:45:00-04:00",
          "2024-06-06T11:46:00-04:00",
          "2024-06-06T11:47:00-04:00",
          "2024-06-06T11:48:00-04:00",
          "2024-06-06T11:49:00-04:00",
          "2024-06-06T11:50:00-04:00",
          "2024-06-06T11:51:00-04:00",
          "2024-06-06T11:52:00-04:00",
          "2024-06-06T11:53:00-04:00",
          "2024-06-06T11:54:00-04:00",
          "2024-06-06T11:55:00-04:00",
          "2024-06-06T11:56:00-04:00",
          "2024-06-06T11:57:00-04:00",
          "2024-06-06T11:58:00-04:00",
          "2024-06-06T11:59:00-04:00",
          "2024-06-06T12:00:00-04:00",
          "2024-06-06T12:01:00-04:00",
          "2024-06-06T12:02:00-04:00",
          "2024-06-06T12:03:00-04:00",
          "2024-06-06T12:04:00-04:00",
          "2024-06-06T12:05:00-04:00",
          "2024-06-06T12:06:00-04:00",
          "2024-06-06T12:07:00-04:00",
          "2024-06-06T12:08:00-04:00",
          "2024-06-06T12:09:00-04:00",
          "2024-06-06T12:10:00-04:00",
          "2024-06-06T12:11:00-04:00",
          "2024-06-06T12:12:00-04:00",
          "2024-06-06T12:13:00-04:00",
          "2024-06-06T12:14:00-04:00",
          "2024-06-06T12:15:00-04:00",
          "2024-06-06T12:16:00-04:00",
          "2024-06-06T12:17:00-04:00",
          "2024-06-06T12:18:00-04:00",
          "2024-06-06T12:19:00-04:00",
          "2024-06-06T12:20:00-04:00",
          "2024-06-06T12:21:00-04:00",
          "2024-06-06T12:22:00-04:00",
          "2024-06-06T12:23:00-04:00",
          "2024-06-06T12:24:00-04:00",
          "2024-06-06T12:25:00-04:00",
          "2024-06-06T12:26:00-04:00",
          "2024-06-06T12:27:00-04:00",
          "2024-06-06T12:28:00-04:00",
          "2024-06-06T12:29:00-04:00",
          "2024-06-06T12:30:00-04:00",
          "2024-06-06T12:31:00-04:00",
          "2024-06-06T12:32:00-04:00",
          "2024-06-06T12:33:00-04:00",
          "2024-06-06T12:34:00-04:00",
          "2024-06-06T12:35:00-04:00",
          "2024-06-06T12:36:00-04:00",
          "2024-06-06T12:37:00-04:00",
          "2024-06-06T12:38:00-04:00",
          "2024-06-06T12:39:00-04:00",
          "2024-06-06T12:40:00-04:00",
          "2024-06-06T12:41:00-04:00",
          "2024-06-06T12:42:00-04:00",
          "2024-06-06T12:43:00-04:00",
          "2024-06-06T12:44:00-04:00",
          "2024-06-06T12:45:00-04:00",
          "2024-06-06T12:46:00-04:00",
          "2024-06-06T12:47:00-04:00",
          "2024-06-06T12:48:00-04:00",
          "2024-06-06T12:49:00-04:00",
          "2024-06-06T12:50:00-04:00",
          "2024-06-06T12:51:00-04:00",
          "2024-06-06T12:52:00-04:00",
          "2024-06-06T12:53:00-04:00",
          "2024-06-06T12:54:00-04:00",
          "2024-06-06T12:55:00-04:00",
          "2024-06-06T12:56:00-04:00",
          "2024-06-06T12:57:00-04:00",
          "2024-06-06T12:58:00-04:00",
          "2024-06-06T12:59:00-04:00",
          "2024-06-06T13:00:00-04:00",
          "2024-06-06T13:01:00-04:00",
          "2024-06-06T13:02:00-04:00",
          "2024-06-06T13:03:00-04:00",
          "2024-06-06T13:04:00-04:00",
          "2024-06-06T13:05:00-04:00",
          "2024-06-06T13:06:00-04:00",
          "2024-06-06T13:07:00-04:00",
          "2024-06-06T13:08:00-04:00",
          "2024-06-06T13:09:00-04:00",
          "2024-06-06T13:10:00-04:00",
          "2024-06-06T13:11:00-04:00",
          "2024-06-06T13:12:00-04:00",
          "2024-06-06T13:13:00-04:00",
          "2024-06-06T13:14:00-04:00",
          "2024-06-06T13:15:00-04:00",
          "2024-06-06T13:16:00-04:00",
          "2024-06-06T13:17:00-04:00",
          "2024-06-06T13:18:00-04:00",
          "2024-06-06T13:19:00-04:00",
          "2024-06-06T13:20:00-04:00",
          "2024-06-06T13:21:00-04:00",
          "2024-06-06T13:22:00-04:00",
          "2024-06-06T13:23:00-04:00",
          "2024-06-06T13:24:00-04:00",
          "2024-06-06T13:25:00-04:00",
          "2024-06-06T13:26:00-04:00",
          "2024-06-06T13:27:00-04:00",
          "2024-06-06T13:28:00-04:00",
          "2024-06-06T13:29:00-04:00",
          "2024-06-06T13:30:00-04:00",
          "2024-06-06T13:31:00-04:00",
          "2024-06-06T13:32:00-04:00",
          "2024-06-06T13:33:00-04:00",
          "2024-06-06T13:34:00-04:00",
          "2024-06-06T13:35:00-04:00",
          "2024-06-06T13:36:00-04:00",
          "2024-06-06T13:37:00-04:00",
          "2024-06-06T13:38:00-04:00",
          "2024-06-06T13:39:00-04:00",
          "2024-06-06T13:40:00-04:00",
          "2024-06-06T13:41:00-04:00",
          "2024-06-06T13:42:00-04:00",
          "2024-06-06T13:43:00-04:00",
          "2024-06-06T13:44:00-04:00",
          "2024-06-06T13:45:00-04:00",
          "2024-06-06T13:46:00-04:00",
          "2024-06-06T13:47:00-04:00",
          "2024-06-06T13:48:00-04:00",
          "2024-06-06T13:49:00-04:00",
          "2024-06-06T13:50:00-04:00",
          "2024-06-06T13:51:00-04:00",
          "2024-06-06T13:52:00-04:00",
          "2024-06-06T13:53:00-04:00",
          "2024-06-06T13:54:00-04:00",
          "2024-06-06T13:55:00-04:00",
          "2024-06-06T13:56:00-04:00",
          "2024-06-06T13:57:00-04:00",
          "2024-06-06T13:58:00-04:00",
          "2024-06-06T13:59:00-04:00",
          "2024-06-06T14:00:00-04:00",
          "2024-06-06T14:01:00-04:00",
          "2024-06-06T14:02:00-04:00",
          "2024-06-06T14:03:00-04:00",
          "2024-06-06T14:04:00-04:00",
          "2024-06-06T14:05:00-04:00",
          "2024-06-06T14:06:00-04:00",
          "2024-06-06T14:07:00-04:00",
          "2024-06-06T14:08:00-04:00",
          "2024-06-06T14:09:00-04:00",
          "2024-06-06T14:10:00-04:00",
          "2024-06-06T14:11:00-04:00",
          "2024-06-06T14:12:00-04:00",
          "2024-06-06T14:13:00-04:00",
          "2024-06-06T14:14:00-04:00",
          "2024-06-06T14:15:00-04:00",
          "2024-06-06T14:16:00-04:00",
          "2024-06-06T14:17:00-04:00",
          "2024-06-06T14:18:00-04:00",
          "2024-06-06T14:19:00-04:00",
          "2024-06-06T14:20:00-04:00",
          "2024-06-06T14:21:00-04:00",
          "2024-06-06T14:22:00-04:00",
          "2024-06-06T14:23:00-04:00",
          "2024-06-06T14:24:00-04:00",
          "2024-06-06T14:25:00-04:00",
          "2024-06-06T14:26:00-04:00",
          "2024-06-06T14:27:00-04:00",
          "2024-06-06T14:28:00-04:00",
          "2024-06-06T14:29:00-04:00",
          "2024-06-06T14:30:00-04:00",
          "2024-06-06T14:31:00-04:00",
          "2024-06-06T14:32:00-04:00",
          "2024-06-06T14:33:00-04:00",
          "2024-06-06T14:34:00-04:00",
          "2024-06-06T14:35:00-04:00",
          "2024-06-06T14:36:00-04:00",
          "2024-06-06T14:37:00-04:00",
          "2024-06-06T14:38:00-04:00",
          "2024-06-06T14:39:00-04:00",
          "2024-06-06T14:40:00-04:00",
          "2024-06-06T14:41:00-04:00",
          "2024-06-06T14:42:00-04:00",
          "2024-06-06T14:43:00-04:00",
          "2024-06-06T14:44:00-04:00",
          "2024-06-06T14:45:00-04:00",
          "2024-06-06T14:46:00-04:00",
          "2024-06-06T14:47:00-04:00",
          "2024-06-06T14:48:00-04:00",
          "2024-06-06T14:49:00-04:00",
          "2024-06-06T14:50:00-04:00",
          "2024-06-06T14:51:00-04:00",
          "2024-06-06T14:52:00-04:00",
          "2024-06-06T14:53:00-04:00",
          "2024-06-06T14:54:00-04:00",
          "2024-06-06T14:55:00-04:00",
          "2024-06-06T14:56:00-04:00",
          "2024-06-06T14:57:00-04:00",
          "2024-06-06T14:58:00-04:00",
          "2024-06-06T14:59:00-04:00",
          "2024-06-06T15:00:00-04:00",
          "2024-06-06T15:01:00-04:00",
          "2024-06-06T15:02:00-04:00",
          "2024-06-06T15:03:00-04:00",
          "2024-06-06T15:04:00-04:00",
          "2024-06-06T15:05:00-04:00",
          "2024-06-06T15:06:00-04:00",
          "2024-06-06T15:07:00-04:00",
          "2024-06-06T15:08:00-04:00",
          "2024-06-06T15:09:00-04:00",
          "2024-06-06T15:10:00-04:00",
          "2024-06-06T15:11:00-04:00",
          "2024-06-06T15:12:00-04:00",
          "2024-06-06T15:13:00-04:00",
          "2024-06-06T15:14:00-04:00",
          "2024-06-06T15:15:00-04:00",
          "2024-06-06T15:16:00-04:00",
          "2024-06-06T15:17:00-04:00",
          "2024-06-06T15:18:00-04:00",
          "2024-06-06T15:19:00-04:00",
          "2024-06-06T15:20:00-04:00",
          "2024-06-06T15:21:00-04:00",
          "2024-06-06T15:22:00-04:00",
          "2024-06-06T15:23:00-04:00",
          "2024-06-06T15:24:00-04:00",
          "2024-06-06T15:25:00-04:00",
          "2024-06-06T15:26:00-04:00",
          "2024-06-06T15:27:00-04:00",
          "2024-06-06T15:28:00-04:00",
          "2024-06-06T15:29:00-04:00",
          "2024-06-06T15:30:00-04:00",
          "2024-06-06T15:31:00-04:00",
          "2024-06-06T15:32:00-04:00",
          "2024-06-06T15:33:00-04:00",
          "2024-06-06T15:34:00-04:00",
          "2024-06-06T15:35:00-04:00",
          "2024-06-06T15:36:00-04:00",
          "2024-06-06T15:37:00-04:00",
          "2024-06-06T15:38:00-04:00",
          "2024-06-06T15:39:00-04:00",
          "2024-06-06T15:40:00-04:00",
          "2024-06-06T15:41:00-04:00",
          "2024-06-06T15:42:00-04:00",
          "2024-06-06T15:43:00-04:00",
          "2024-06-06T15:44:00-04:00",
          "2024-06-06T15:45:00-04:00",
          "2024-06-06T15:46:00-04:00",
          "2024-06-06T15:47:00-04:00",
          "2024-06-06T15:48:00-04:00",
          "2024-06-06T15:49:00-04:00",
          "2024-06-06T15:50:00-04:00",
          "2024-06-06T15:51:00-04:00",
          "2024-06-06T15:52:00-04:00",
          "2024-06-06T15:53:00-04:00",
          "2024-06-06T15:54:00-04:00",
          "2024-06-06T15:55:00-04:00",
          "2024-06-06T15:56:00-04:00",
          "2024-06-06T15:57:00-04:00",
          "2024-06-06T15:58:00-04:00",
          "2024-06-06T15:59:00-04:00"
         ],
         "xaxis": "x",
         "y": [
          196.1300048828125,
          196.1300048828125,
          196.17062664031982,
          196.17007434563303,
          196.1903859453793,
          196.21105677984275,
          196.2484554857168,
          196.2478157471503,
          196.24000061716873,
          196.22361460738554,
          196.2008191092103,
          196.18516929471284,
          196.14838306206448,
          196.1070039108487,
          196.06374217306035,
          196.0194205165966,
          195.96622347568808,
          195.90588571079144,
          195.80327189124688,
          195.74238280326978,
          195.7151068762927,
          195.71666643460176,
          195.7271337800938,
          195.73167371479252,
          195.7388311032317,
          195.75079853226046,
          195.76584914791061,
          195.7615124685384,
          195.79181386053088,
          195.83283454637953,
          195.89612058071657,
          195.96595734222382,
          196.01452337283538,
          196.02876048297097,
          196.05621641890886,
          196.07321677181085,
          196.07609706210263,
          196.07568739276513,
          196.0755210721462,
          196.0749748255989,
          196.0738536500651,
          196.07548036256108,
          196.08359034451038,
          196.0910940482639,
          196.10404634365196,
          196.12631322157117,
          196.14917136409775,
          196.1708825632291,
          196.2029298626733,
          196.23747592084953,
          196.2559826115037,
          196.28084282320341,
          196.30759264300704,
          196.35837576461694,
          196.3965231395775,
          196.39508151777179,
          196.38065239380833,
          196.37994740405642,
          196.38215987276632,
          196.3816024526439,
          196.38318794260059,
          196.379794851382,
          196.36618282531379,
          196.34430814615595,
          196.31619342534577,
          196.2934069013593,
          196.26343802726362,
          196.2267257393148,
          196.18989814645514,
          196.10486622612524,
          196.0051133254528,
          195.94609631300185,
          195.91895177602424,
          195.91501643649383,
          195.90673610961952,
          195.8757637984816,
          195.85804783811275,
          195.84142482734464,
          195.81932417534,
          195.82311642843894,
          195.82600668679734,
          195.83439652335218,
          195.82974652842083,
          195.81955043518897,
          195.80283843838492,
          195.80095600891724,
          195.81456671594051,
          195.8341440602025,
          195.83007238949014,
          195.8252336106498,
          195.8188089614977,
          195.81012292997926,
          195.80685458718904,
          195.80600203593002,
          195.81175327753658,
          195.81432282255363,
          195.8153534626344,
          195.81037105731994,
          195.80976122276147,
          195.80966807307252,
          195.8103690613052,
          195.8088904079723,
          195.79406241377225,
          195.75363294851942,
          195.7373674292444,
          195.7476829184032,
          195.76388411085716,
          195.7832821934444,
          195.78496907010464,
          195.78311871534967,
          195.77955777241309,
          195.7803713412329,
          195.7887860870315,
          195.78845895290638,
          195.79215222186835,
          195.79514645737802,
          195.80610491968503,
          195.81541469831424,
          195.82093753932347,
          195.82547228866582,
          195.83339334142457,
          195.8289777041781,
          195.82013867518853,
          195.8080280729762,
          195.8091785341093,
          195.81139944378307,
          195.80702522959334,
          195.8080936673786,
          195.80478273650607,
          195.80517666524625,
          195.80381823861072,
          195.80388558440703,
          195.7949821957361,
          195.7859811584822,
          195.7783617951428,
          195.76398179130237,
          195.74250188818846,
          195.73695838930027,
          195.7274993321463,
          195.72521651211275,
          195.71385073380492,
          195.700461706921,
          195.6929979828996,
          195.69419382267694,
          195.68037420864195,
          195.66980631001655,
          195.649407142412,
          195.63601072042667,
          195.62976428292194,
          195.62135157430498,
          195.61511918902747,
          195.6047657253024,
          195.59418369902838,
          195.57923179484146,
          195.5600412728543,
          195.53379907914365,
          195.52241628109715,
          195.52246296369918,
          195.53279012836563,
          195.54236265908662,
          195.54961331789528,
          195.56075164810738,
          195.58657341564032,
          195.6105986175501,
          195.61915500878857,
          195.62457010536718,
          195.62503294754507,
          195.64062772153738,
          195.65327816295724,
          195.6671928389728,
          195.69410058434437,
          195.71201231919883,
          195.7220918453196,
          195.73280909131802,
          195.74008117733692,
          195.74217168520244,
          195.74411026102152,
          195.74568682455288,
          195.7444380622732,
          195.74409902615815,
          195.7450291727968,
          195.74481472193438,
          195.73797859170338,
          195.7377933204093,
          195.73809628926998,
          195.73676047627194,
          195.7240974776641,
          195.71281837655104,
          195.70979293672596,
          195.70044935806197,
          195.69376264710357,
          195.6930987457154,
          195.69455171524442,
          195.6932331738766,
          195.69316794597285,
          195.69107720725268,
          195.69191658656467,
          195.69103653636728,
          195.68648075349577,
          195.6884384421022,
          195.68846040058656,
          195.68870302386702,
          195.68791507936467,
          195.69352059074012,
          195.6957823173787,
          195.69736142346048,
          195.70947708629114,
          195.71393662345963,
          195.71978310071742,
          195.74876279281253,
          195.8009972010096,
          195.831967023278,
          195.8543621733186,
          195.8807239661331,
          195.90343659464915,
          195.92407119836113,
          195.94822047157567,
          195.96788163329595,
          195.9963160313466,
          196.01909673927767,
          196.0364661226844,
          196.03861220294667,
          196.03787738911046,
          196.0314078919747,
          196.0241649464565,
          196.02459160769772,
          196.0254066937451,
          196.02485524463415,
          196.02505897102446,
          196.0202667711876,
          196.0173248720603,
          196.0169586433685,
          196.00370502282198,
          195.98458684422192,
          195.94988547469808,
          195.9086233918527,
          195.8616221514115,
          195.82678933267002,
          195.79668166043072,
          195.77488847459102,
          195.74745850065256,
          195.721233273079,
          195.7108949147346,
          195.7003383017559,
          195.68735141111603,
          195.6686539004847,
          195.66222476959229,
          195.66352789484768,
          195.66467673394317,
          195.66466751627212,
          195.661827438693,
          195.66283039304204,
          195.66966744999968,
          195.6762925213634,
          195.6768362592201,
          195.67729317231496,
          195.6755608615937,
          195.67471751470683,
          195.66685071822067,
          195.65279626078865,
          195.64888862774433,
          195.64762220615086,
          195.6476164836792,
          195.64750664784188,
          195.64857867273383,
          195.6510569203061,
          195.65195995360887,
          195.6505595465444,
          195.64091380133968,
          195.62764705332768,
          195.62171741488643,
          195.61383087955082,
          195.60575933531948,
          195.59838774003958,
          195.594632349841,
          195.58560134866752,
          195.5735866625365,
          195.57013624229063,
          195.5745165362851,
          195.57809266451443,
          195.59014420717668,
          195.5664473550497,
          195.55037931073983,
          195.53463608877323,
          195.5164591342681,
          195.50106495860558,
          195.48414283889696,
          195.45759027211798,
          195.43546375831116,
          195.41650456720427,
          195.40801176092668,
          195.39477985448804,
          195.38455528871177,
          195.41049181439496,
          195.44453365302306,
          195.4755033680552,
          195.49054094007107,
          195.50589794667758,
          195.51535130770327,
          195.51790897329985,
          195.53003227338465,
          195.53337222293288,
          195.5307991165347,
          195.52996908577376,
          195.5284566197659,
          195.52930349644222,
          195.53108829264852,
          195.53015507321254,
          195.5310977267866,
          195.52504527861663,
          195.51797080235448,
          195.50818617177717,
          195.49840383148106,
          195.48631290997088,
          195.469357901043,
          195.44688909460803,
          195.41622310956197,
          195.39832289691208,
          195.39040840707335,
          195.3726431960136,
          195.3527014734176,
          195.32551003824156,
          195.31718183054656,
          195.314021804047,
          195.32250898852004,
          195.33066665410075,
          195.34456738577126,
          195.35126883567128,
          195.35217883255945,
          195.3524520908572,
          195.35256596560794,
          195.35278888341767,
          195.35273834518435,
          195.3524795451839,
          195.35236864215094,
          195.35194947345636,
          195.35122675971968,
          195.34956574072734,
          195.35529439735717,
          195.34939754047824,
          195.33446998915596,
          195.32309305770258,
          195.305340077017,
          195.29722273000175,
          195.29771821528692,
          195.2965132172218,
          195.29284510650945,
          195.2912287845264,
          195.288787601531,
          195.29754358741857,
          195.31130383761334,
          195.31800645272773,
          195.3165617637685,
          195.3130546755792,
          195.30446550489114,
          195.29979540870312,
          195.3014490615331,
          195.3002083274871,
          195.30274132895386,
          195.30971690653794,
          195.3279073758585,
          195.3471428460929,
          195.3586989484635,
          195.37156268693172,
          195.3777963033906,
          195.3756577831697,
          195.3713936192637,
          195.37089336889755,
          195.37202764217258,
          195.37129231524435,
          195.36876295618336,
          195.3693670697728,
          195.36555500474577,
          195.3640160690382,
          195.36090954823683,
          195.350699854869,
          195.32344259242154,
          195.28332354769478,
          195.24973865575078,
          195.20847148888504,
          195.1672238360728,
          195.1490862987481,
          195.17475647184412,
          195.19215573699407,
          195.1813895177905,
          195.15963439224544,
          195.13346844286488,
          195.11249130118804,
          195.07636243380864,
          195.03907355561964
         ],
         "yaxis": "y"
        },
        {
         "hovertemplate": "variable=lower_boll_16<br>Datetime=%{x}<br>value=%{y}<extra></extra>",
         "legendgroup": "lower_boll_16",
         "line": {
          "color": "#b6d1c3",
          "dash": "dot"
         },
         "marker": {
          "symbol": "circle"
         },
         "mode": "lines",
         "name": "lower_boll_16",
         "showlegend": true,
         "type": "scattergl",
         "x": [
          "2024-06-06T09:30:00-04:00",
          "2024-06-06T09:31:00-04:00",
          "2024-06-06T09:32:00-04:00",
          "2024-06-06T09:33:00-04:00",
          "2024-06-06T09:34:00-04:00",
          "2024-06-06T09:35:00-04:00",
          "2024-06-06T09:36:00-04:00",
          "2024-06-06T09:37:00-04:00",
          "2024-06-06T09:38:00-04:00",
          "2024-06-06T09:39:00-04:00",
          "2024-06-06T09:40:00-04:00",
          "2024-06-06T09:41:00-04:00",
          "2024-06-06T09:42:00-04:00",
          "2024-06-06T09:43:00-04:00",
          "2024-06-06T09:44:00-04:00",
          "2024-06-06T09:45:00-04:00",
          "2024-06-06T09:46:00-04:00",
          "2024-06-06T09:47:00-04:00",
          "2024-06-06T09:48:00-04:00",
          "2024-06-06T09:49:00-04:00",
          "2024-06-06T09:50:00-04:00",
          "2024-06-06T09:51:00-04:00",
          "2024-06-06T09:52:00-04:00",
          "2024-06-06T09:53:00-04:00",
          "2024-06-06T09:54:00-04:00",
          "2024-06-06T09:55:00-04:00",
          "2024-06-06T09:56:00-04:00",
          "2024-06-06T09:57:00-04:00",
          "2024-06-06T09:58:00-04:00",
          "2024-06-06T09:59:00-04:00",
          "2024-06-06T10:00:00-04:00",
          "2024-06-06T10:01:00-04:00",
          "2024-06-06T10:02:00-04:00",
          "2024-06-06T10:03:00-04:00",
          "2024-06-06T10:04:00-04:00",
          "2024-06-06T10:05:00-04:00",
          "2024-06-06T10:06:00-04:00",
          "2024-06-06T10:07:00-04:00",
          "2024-06-06T10:08:00-04:00",
          "2024-06-06T10:09:00-04:00",
          "2024-06-06T10:10:00-04:00",
          "2024-06-06T10:11:00-04:00",
          "2024-06-06T10:12:00-04:00",
          "2024-06-06T10:13:00-04:00",
          "2024-06-06T10:14:00-04:00",
          "2024-06-06T10:15:00-04:00",
          "2024-06-06T10:16:00-04:00",
          "2024-06-06T10:17:00-04:00",
          "2024-06-06T10:18:00-04:00",
          "2024-06-06T10:19:00-04:00",
          "2024-06-06T10:20:00-04:00",
          "2024-06-06T10:21:00-04:00",
          "2024-06-06T10:22:00-04:00",
          "2024-06-06T10:23:00-04:00",
          "2024-06-06T10:24:00-04:00",
          "2024-06-06T10:25:00-04:00",
          "2024-06-06T10:26:00-04:00",
          "2024-06-06T10:27:00-04:00",
          "2024-06-06T10:28:00-04:00",
          "2024-06-06T10:29:00-04:00",
          "2024-06-06T10:30:00-04:00",
          "2024-06-06T10:31:00-04:00",
          "2024-06-06T10:32:00-04:00",
          "2024-06-06T10:33:00-04:00",
          "2024-06-06T10:34:00-04:00",
          "2024-06-06T10:35:00-04:00",
          "2024-06-06T10:36:00-04:00",
          "2024-06-06T10:37:00-04:00",
          "2024-06-06T10:38:00-04:00",
          "2024-06-06T10:39:00-04:00",
          "2024-06-06T10:40:00-04:00",
          "2024-06-06T10:41:00-04:00",
          "2024-06-06T10:42:00-04:00",
          "2024-06-06T10:43:00-04:00",
          "2024-06-06T10:44:00-04:00",
          "2024-06-06T10:45:00-04:00",
          "2024-06-06T10:46:00-04:00",
          "2024-06-06T10:47:00-04:00",
          "2024-06-06T10:48:00-04:00",
          "2024-06-06T10:49:00-04:00",
          "2024-06-06T10:50:00-04:00",
          "2024-06-06T10:51:00-04:00",
          "2024-06-06T10:52:00-04:00",
          "2024-06-06T10:53:00-04:00",
          "2024-06-06T10:54:00-04:00",
          "2024-06-06T10:55:00-04:00",
          "2024-06-06T10:56:00-04:00",
          "2024-06-06T10:57:00-04:00",
          "2024-06-06T10:58:00-04:00",
          "2024-06-06T10:59:00-04:00",
          "2024-06-06T11:00:00-04:00",
          "2024-06-06T11:01:00-04:00",
          "2024-06-06T11:02:00-04:00",
          "2024-06-06T11:03:00-04:00",
          "2024-06-06T11:04:00-04:00",
          "2024-06-06T11:05:00-04:00",
          "2024-06-06T11:06:00-04:00",
          "2024-06-06T11:07:00-04:00",
          "2024-06-06T11:08:00-04:00",
          "2024-06-06T11:09:00-04:00",
          "2024-06-06T11:10:00-04:00",
          "2024-06-06T11:11:00-04:00",
          "2024-06-06T11:12:00-04:00",
          "2024-06-06T11:13:00-04:00",
          "2024-06-06T11:14:00-04:00",
          "2024-06-06T11:15:00-04:00",
          "2024-06-06T11:16:00-04:00",
          "2024-06-06T11:17:00-04:00",
          "2024-06-06T11:18:00-04:00",
          "2024-06-06T11:19:00-04:00",
          "2024-06-06T11:20:00-04:00",
          "2024-06-06T11:21:00-04:00",
          "2024-06-06T11:22:00-04:00",
          "2024-06-06T11:23:00-04:00",
          "2024-06-06T11:24:00-04:00",
          "2024-06-06T11:25:00-04:00",
          "2024-06-06T11:26:00-04:00",
          "2024-06-06T11:27:00-04:00",
          "2024-06-06T11:28:00-04:00",
          "2024-06-06T11:29:00-04:00",
          "2024-06-06T11:30:00-04:00",
          "2024-06-06T11:31:00-04:00",
          "2024-06-06T11:32:00-04:00",
          "2024-06-06T11:33:00-04:00",
          "2024-06-06T11:34:00-04:00",
          "2024-06-06T11:35:00-04:00",
          "2024-06-06T11:36:00-04:00",
          "2024-06-06T11:37:00-04:00",
          "2024-06-06T11:38:00-04:00",
          "2024-06-06T11:39:00-04:00",
          "2024-06-06T11:40:00-04:00",
          "2024-06-06T11:41:00-04:00",
          "2024-06-06T11:42:00-04:00",
          "2024-06-06T11:43:00-04:00",
          "2024-06-06T11:44:00-04:00",
          "2024-06-06T11:45:00-04:00",
          "2024-06-06T11:46:00-04:00",
          "2024-06-06T11:47:00-04:00",
          "2024-06-06T11:48:00-04:00",
          "2024-06-06T11:49:00-04:00",
          "2024-06-06T11:50:00-04:00",
          "2024-06-06T11:51:00-04:00",
          "2024-06-06T11:52:00-04:00",
          "2024-06-06T11:53:00-04:00",
          "2024-06-06T11:54:00-04:00",
          "2024-06-06T11:55:00-04:00",
          "2024-06-06T11:56:00-04:00",
          "2024-06-06T11:57:00-04:00",
          "2024-06-06T11:58:00-04:00",
          "2024-06-06T11:59:00-04:00",
          "2024-06-06T12:00:00-04:00",
          "2024-06-06T12:01:00-04:00",
          "2024-06-06T12:02:00-04:00",
          "2024-06-06T12:03:00-04:00",
          "2024-06-06T12:04:00-04:00",
          "2024-06-06T12:05:00-04:00",
          "2024-06-06T12:06:00-04:00",
          "2024-06-06T12:07:00-04:00",
          "2024-06-06T12:08:00-04:00",
          "2024-06-06T12:09:00-04:00",
          "2024-06-06T12:10:00-04:00",
          "2024-06-06T12:11:00-04:00",
          "2024-06-06T12:12:00-04:00",
          "2024-06-06T12:13:00-04:00",
          "2024-06-06T12:14:00-04:00",
          "2024-06-06T12:15:00-04:00",
          "2024-06-06T12:16:00-04:00",
          "2024-06-06T12:17:00-04:00",
          "2024-06-06T12:18:00-04:00",
          "2024-06-06T12:19:00-04:00",
          "2024-06-06T12:20:00-04:00",
          "2024-06-06T12:21:00-04:00",
          "2024-06-06T12:22:00-04:00",
          "2024-06-06T12:23:00-04:00",
          "2024-06-06T12:24:00-04:00",
          "2024-06-06T12:25:00-04:00",
          "2024-06-06T12:26:00-04:00",
          "2024-06-06T12:27:00-04:00",
          "2024-06-06T12:28:00-04:00",
          "2024-06-06T12:29:00-04:00",
          "2024-06-06T12:30:00-04:00",
          "2024-06-06T12:31:00-04:00",
          "2024-06-06T12:32:00-04:00",
          "2024-06-06T12:33:00-04:00",
          "2024-06-06T12:34:00-04:00",
          "2024-06-06T12:35:00-04:00",
          "2024-06-06T12:36:00-04:00",
          "2024-06-06T12:37:00-04:00",
          "2024-06-06T12:38:00-04:00",
          "2024-06-06T12:39:00-04:00",
          "2024-06-06T12:40:00-04:00",
          "2024-06-06T12:41:00-04:00",
          "2024-06-06T12:42:00-04:00",
          "2024-06-06T12:43:00-04:00",
          "2024-06-06T12:44:00-04:00",
          "2024-06-06T12:45:00-04:00",
          "2024-06-06T12:46:00-04:00",
          "2024-06-06T12:47:00-04:00",
          "2024-06-06T12:48:00-04:00",
          "2024-06-06T12:49:00-04:00",
          "2024-06-06T12:50:00-04:00",
          "2024-06-06T12:51:00-04:00",
          "2024-06-06T12:52:00-04:00",
          "2024-06-06T12:53:00-04:00",
          "2024-06-06T12:54:00-04:00",
          "2024-06-06T12:55:00-04:00",
          "2024-06-06T12:56:00-04:00",
          "2024-06-06T12:57:00-04:00",
          "2024-06-06T12:58:00-04:00",
          "2024-06-06T12:59:00-04:00",
          "2024-06-06T13:00:00-04:00",
          "2024-06-06T13:01:00-04:00",
          "2024-06-06T13:02:00-04:00",
          "2024-06-06T13:03:00-04:00",
          "2024-06-06T13:04:00-04:00",
          "2024-06-06T13:05:00-04:00",
          "2024-06-06T13:06:00-04:00",
          "2024-06-06T13:07:00-04:00",
          "2024-06-06T13:08:00-04:00",
          "2024-06-06T13:09:00-04:00",
          "2024-06-06T13:10:00-04:00",
          "2024-06-06T13:11:00-04:00",
          "2024-06-06T13:12:00-04:00",
          "2024-06-06T13:13:00-04:00",
          "2024-06-06T13:14:00-04:00",
          "2024-06-06T13:15:00-04:00",
          "2024-06-06T13:16:00-04:00",
          "2024-06-06T13:17:00-04:00",
          "2024-06-06T13:18:00-04:00",
          "2024-06-06T13:19:00-04:00",
          "2024-06-06T13:20:00-04:00",
          "2024-06-06T13:21:00-04:00",
          "2024-06-06T13:22:00-04:00",
          "2024-06-06T13:23:00-04:00",
          "2024-06-06T13:24:00-04:00",
          "2024-06-06T13:25:00-04:00",
          "2024-06-06T13:26:00-04:00",
          "2024-06-06T13:27:00-04:00",
          "2024-06-06T13:28:00-04:00",
          "2024-06-06T13:29:00-04:00",
          "2024-06-06T13:30:00-04:00",
          "2024-06-06T13:31:00-04:00",
          "2024-06-06T13:32:00-04:00",
          "2024-06-06T13:33:00-04:00",
          "2024-06-06T13:34:00-04:00",
          "2024-06-06T13:35:00-04:00",
          "2024-06-06T13:36:00-04:00",
          "2024-06-06T13:37:00-04:00",
          "2024-06-06T13:38:00-04:00",
          "2024-06-06T13:39:00-04:00",
          "2024-06-06T13:40:00-04:00",
          "2024-06-06T13:41:00-04:00",
          "2024-06-06T13:42:00-04:00",
          "2024-06-06T13:43:00-04:00",
          "2024-06-06T13:44:00-04:00",
          "2024-06-06T13:45:00-04:00",
          "2024-06-06T13:46:00-04:00",
          "2024-06-06T13:47:00-04:00",
          "2024-06-06T13:48:00-04:00",
          "2024-06-06T13:49:00-04:00",
          "2024-06-06T13:50:00-04:00",
          "2024-06-06T13:51:00-04:00",
          "2024-06-06T13:52:00-04:00",
          "2024-06-06T13:53:00-04:00",
          "2024-06-06T13:54:00-04:00",
          "2024-06-06T13:55:00-04:00",
          "2024-06-06T13:56:00-04:00",
          "2024-06-06T13:57:00-04:00",
          "2024-06-06T13:58:00-04:00",
          "2024-06-06T13:59:00-04:00",
          "2024-06-06T14:00:00-04:00",
          "2024-06-06T14:01:00-04:00",
          "2024-06-06T14:02:00-04:00",
          "2024-06-06T14:03:00-04:00",
          "2024-06-06T14:04:00-04:00",
          "2024-06-06T14:05:00-04:00",
          "2024-06-06T14:06:00-04:00",
          "2024-06-06T14:07:00-04:00",
          "2024-06-06T14:08:00-04:00",
          "2024-06-06T14:09:00-04:00",
          "2024-06-06T14:10:00-04:00",
          "2024-06-06T14:11:00-04:00",
          "2024-06-06T14:12:00-04:00",
          "2024-06-06T14:13:00-04:00",
          "2024-06-06T14:14:00-04:00",
          "2024-06-06T14:15:00-04:00",
          "2024-06-06T14:16:00-04:00",
          "2024-06-06T14:17:00-04:00",
          "2024-06-06T14:18:00-04:00",
          "2024-06-06T14:19:00-04:00",
          "2024-06-06T14:20:00-04:00",
          "2024-06-06T14:21:00-04:00",
          "2024-06-06T14:22:00-04:00",
          "2024-06-06T14:23:00-04:00",
          "2024-06-06T14:24:00-04:00",
          "2024-06-06T14:25:00-04:00",
          "2024-06-06T14:26:00-04:00",
          "2024-06-06T14:27:00-04:00",
          "2024-06-06T14:28:00-04:00",
          "2024-06-06T14:29:00-04:00",
          "2024-06-06T14:30:00-04:00",
          "2024-06-06T14:31:00-04:00",
          "2024-06-06T14:32:00-04:00",
          "2024-06-06T14:33:00-04:00",
          "2024-06-06T14:34:00-04:00",
          "2024-06-06T14:35:00-04:00",
          "2024-06-06T14:36:00-04:00",
          "2024-06-06T14:37:00-04:00",
          "2024-06-06T14:38:00-04:00",
          "2024-06-06T14:39:00-04:00",
          "2024-06-06T14:40:00-04:00",
          "2024-06-06T14:41:00-04:00",
          "2024-06-06T14:42:00-04:00",
          "2024-06-06T14:43:00-04:00",
          "2024-06-06T14:44:00-04:00",
          "2024-06-06T14:45:00-04:00",
          "2024-06-06T14:46:00-04:00",
          "2024-06-06T14:47:00-04:00",
          "2024-06-06T14:48:00-04:00",
          "2024-06-06T14:49:00-04:00",
          "2024-06-06T14:50:00-04:00",
          "2024-06-06T14:51:00-04:00",
          "2024-06-06T14:52:00-04:00",
          "2024-06-06T14:53:00-04:00",
          "2024-06-06T14:54:00-04:00",
          "2024-06-06T14:55:00-04:00",
          "2024-06-06T14:56:00-04:00",
          "2024-06-06T14:57:00-04:00",
          "2024-06-06T14:58:00-04:00",
          "2024-06-06T14:59:00-04:00",
          "2024-06-06T15:00:00-04:00",
          "2024-06-06T15:01:00-04:00",
          "2024-06-06T15:02:00-04:00",
          "2024-06-06T15:03:00-04:00",
          "2024-06-06T15:04:00-04:00",
          "2024-06-06T15:05:00-04:00",
          "2024-06-06T15:06:00-04:00",
          "2024-06-06T15:07:00-04:00",
          "2024-06-06T15:08:00-04:00",
          "2024-06-06T15:09:00-04:00",
          "2024-06-06T15:10:00-04:00",
          "2024-06-06T15:11:00-04:00",
          "2024-06-06T15:12:00-04:00",
          "2024-06-06T15:13:00-04:00",
          "2024-06-06T15:14:00-04:00",
          "2024-06-06T15:15:00-04:00",
          "2024-06-06T15:16:00-04:00",
          "2024-06-06T15:17:00-04:00",
          "2024-06-06T15:18:00-04:00",
          "2024-06-06T15:19:00-04:00",
          "2024-06-06T15:20:00-04:00",
          "2024-06-06T15:21:00-04:00",
          "2024-06-06T15:22:00-04:00",
          "2024-06-06T15:23:00-04:00",
          "2024-06-06T15:24:00-04:00",
          "2024-06-06T15:25:00-04:00",
          "2024-06-06T15:26:00-04:00",
          "2024-06-06T15:27:00-04:00",
          "2024-06-06T15:28:00-04:00",
          "2024-06-06T15:29:00-04:00",
          "2024-06-06T15:30:00-04:00",
          "2024-06-06T15:31:00-04:00",
          "2024-06-06T15:32:00-04:00",
          "2024-06-06T15:33:00-04:00",
          "2024-06-06T15:34:00-04:00",
          "2024-06-06T15:35:00-04:00",
          "2024-06-06T15:36:00-04:00",
          "2024-06-06T15:37:00-04:00",
          "2024-06-06T15:38:00-04:00",
          "2024-06-06T15:39:00-04:00",
          "2024-06-06T15:40:00-04:00",
          "2024-06-06T15:41:00-04:00",
          "2024-06-06T15:42:00-04:00",
          "2024-06-06T15:43:00-04:00",
          "2024-06-06T15:44:00-04:00",
          "2024-06-06T15:45:00-04:00",
          "2024-06-06T15:46:00-04:00",
          "2024-06-06T15:47:00-04:00",
          "2024-06-06T15:48:00-04:00",
          "2024-06-06T15:49:00-04:00",
          "2024-06-06T15:50:00-04:00",
          "2024-06-06T15:51:00-04:00",
          "2024-06-06T15:52:00-04:00",
          "2024-06-06T15:53:00-04:00",
          "2024-06-06T15:54:00-04:00",
          "2024-06-06T15:55:00-04:00",
          "2024-06-06T15:56:00-04:00",
          "2024-06-06T15:57:00-04:00",
          "2024-06-06T15:58:00-04:00",
          "2024-06-06T15:59:00-04:00"
         ],
         "xaxis": "x",
         "y": [
          196.1300048828125,
          196.1300048828125,
          196.1056318283081,
          196.10345852179861,
          196.05439554876133,
          195.98872463800393,
          195.87092546521095,
          195.8023265410577,
          195.73514090809982,
          195.67652615494356,
          195.62307157682486,
          195.5243453232071,
          195.47988041144626,
          195.4487593337802,
          195.4299712058459,
          195.41929255713387,
          195.40526318813028,
          195.3956012582027,
          195.40827786766425,
          195.4306423279558,
          195.43791970451784,
          195.43759801547148,
          195.4492921537441,
          195.4527401951196,
          195.46058219632886,
          195.4704901487698,
          195.48293968570755,
          195.56290273837078,
          195.58510111749646,
          195.59658020276598,
          195.5928568515344,
          195.58739501373321,
          195.6079303167398,
          195.6393169859011,
          195.68054848892805,
          195.6916719916169,
          195.70129055691592,
          195.6992111362876,
          195.71136514306377,
          195.71441192366868,
          195.72303470137533,
          195.73828230223384,
          195.75767247287243,
          195.76891800617946,
          195.77596616855507,
          195.77869890916614,
          195.77520226261123,
          195.76974167383145,
          195.764431587522,
          195.77425999528816,
          195.77700307575216,
          195.784018474404,
          195.80976842571854,
          195.84773614334205,
          195.89458976020276,
          195.96480655901044,
          196.02173522521022,
          196.02369143566526,
          196.0139773647825,
          196.01953394567153,
          196.0004485320088,
          195.97009108916976,
          195.93995235229852,
          195.89370035298955,
          195.83945194513763,
          195.77661377429988,
          195.74095841133501,
          195.71642001263834,
          195.69949852102533,
          195.69453028876734,
          195.70428303685188,
          195.71202479600694,
          195.71541902780876,
          195.71185276516633,
          195.7088835498043,
          195.7092314712938,
          195.70444834718998,
          195.69982158683993,
          195.6897853217303,
          195.6534823111851,
          195.631230556855,
          195.60471709359118,
          195.58999224111042,
          195.58143909728173,
          195.57252586520394,
          195.57188296508178,
          195.57327164770695,
          195.5699430064479,
          195.57026482974814,
          195.56885513446738,
          195.56778008879527,
          195.5608411203137,
          195.5591083949887,
          195.55871163289322,
          195.56322383427982,
          195.58037818147469,
          195.59524719959705,
          195.63335452861756,
          195.64896375282447,
          195.65093182621948,
          195.6614803802231,
          195.6586102786732,
          195.6509391884006,
          195.6526189588292,
          195.65825863887085,
          195.65544284453625,
          195.65049119431862,
          195.65671834061322,
          195.6587813113651,
          195.65375567429876,
          195.6435779850332,
          195.644927349563,
          195.65060028076635,
          195.6503018045399,
          195.6533719938299,
          195.66100359755362,
          195.66379521154056,
          195.66948482255978,
          195.6802106845535,
          195.70005185073848,
          195.7033822475647,
          195.69842326628088,
          195.69601275303413,
          195.68874850783433,
          195.69029885236532,
          195.70120431598255,
          195.7180659416713,
          195.71362149680596,
          195.7100564358572,
          195.70528704935336,
          195.70238255179456,
          195.6923149771164,
          195.67684435760862,
          195.6602201659807,
          195.64425325612672,
          195.63300803108532,
          195.62573656090822,
          195.61940490720852,
          195.61511388806855,
          195.61302125033842,
          195.60394978804567,
          195.58546320457802,
          195.5616769285994,
          195.526982324784,
          195.50330155734926,
          195.4807445322686,
          195.46739316581554,
          195.4595398166827,
          195.4582732079228,
          195.4516865268913,
          195.4490058720077,
          195.4398833988431,
          195.43359111176264,
          195.43077987813217,
          195.42996994235565,
          195.4355879752997,
          195.43845827639797,
          195.4384611848604,
          195.43875985942734,
          195.44899895895537,
          195.4580122619387,
          195.46919944747367,
          195.4715034428802,
          195.47247785950069,
          195.47280971289112,
          195.47989347190332,
          195.48067994307993,
          195.49331011415597,
          195.50628490161796,
          195.51825866859556,
          195.52947691504528,
          195.5453138068998,
          195.5602338993093,
          195.57810399461948,
          195.5902067560127,
          195.6014295416042,
          195.61635383504782,
          195.62557667947544,
          195.62118731919654,
          195.62090074496,
          195.62359456072372,
          195.63380924046797,
          195.66064582846263,
          195.6570812523446,
          195.65115351236577,
          195.64811386760013,
          195.65015102697458,
          195.6489312724968,
          195.64883247526134,
          195.65016328231889,
          195.64809907774995,
          195.6431000610473,
          195.64289640487277,
          195.64230187556188,
          195.64613030231817,
          195.64259626992018,
          195.64300620396267,
          195.64138572010245,
          195.63969112150423,
          195.6414832803099,
          195.64521116923765,
          195.64559224896013,
          195.64575649045955,
          195.64640136055382,
          195.6460145576213,
          195.6463122825942,
          195.646697382703,
          195.6535255347435,
          195.6526782182523,
          195.64561205459958,
          195.63212734122672,
          195.6375325647347,
          195.64387543654468,
          195.6550140251999,
          195.66980177815358,
          195.68354331885078,
          195.70189358787258,
          195.72348265503413,
          195.74189655410262,
          195.76286470176237,
          195.78799486059197,
          195.8183480936842,
          195.8384577549325,
          195.8599266417167,
          195.88217088423198,
          195.88049490963627,
          195.85405459470704,
          195.83571947765589,
          195.81552864494233,
          195.79594683660048,
          195.76263957496118,
          195.71112973553775,
          195.66625881384795,
          195.62850176356616,
          195.59167946670817,
          195.56606609178988,
          195.55662888618616,
          195.54833655233975,
          195.54156945346088,
          195.5358624867127,
          195.5361661483953,
          195.536766147087,
          195.5377165354607,
          195.54015928735544,
          195.5412710254074,
          195.5430923153356,
          195.5395212173462,
          195.5450940839121,
          195.55207054999238,
          195.5564552254271,
          195.5708442989779,
          195.58504291323237,
          195.5883930053226,
          195.59114255248915,
          195.5924737383385,
          195.59324325041453,
          195.59147557639457,
          195.58981838922384,
          195.5833228505049,
          195.58425284199456,
          195.58316131427227,
          195.58067788845364,
          195.58130922127685,
          195.57891852305656,
          195.56972119298882,
          195.57388051865874,
          195.56610340088332,
          195.54730307857767,
          195.53257481560368,
          195.5200046190356,
          195.5071850204163,
          195.50447051205074,
          195.4994175903397,
          195.49553964338327,
          195.48617056763948,
          195.47551391622505,
          195.47065238165294,
          195.44515306435,
          195.3974473461612,
          195.34074583646213,
          195.26056952268172,
          195.2182549459757,
          195.1760096205346,
          195.14112799508908,
          195.1280549495942,
          195.1216614818241,
          195.11483329635695,
          195.11201078684198,
          195.11101260582458,
          195.11309557622835,
          195.11408868768171,
          195.11450893335376,
          195.11660819395425,
          195.11212171099567,
          195.1157786180951,
          195.13229806932273,
          195.17976049730686,
          195.2131534144064,
          195.25876330106138,
          195.3118296436435,
          195.33839309587805,
          195.3545538787517,
          195.36900213773777,
          195.38608277885027,
          195.40091998240695,
          195.40882402125797,
          195.39953953022746,
          195.40297137637242,
          195.39494292262745,
          195.37286960785798,
          195.34306931300196,
          195.31536500620135,
          195.29640932464687,
          195.27974887286604,
          195.264341897541,
          195.25118715356092,
          195.2462906233482,
          195.24106423382523,
          195.23397742666688,
          195.2311165696114,
          195.23023385983436,
          195.2386741506012,
          195.23825144276887,
          195.23953654556237,
          195.23573571668015,
          195.23485458613362,
          195.23845377816917,
          195.24675362526622,
          195.24958012434973,
          195.25118178975802,
          195.24980525021238,
          195.2483311116995,
          195.24713233657835,
          195.24176636546062,
          195.23875303143305,
          195.2316725053034,
          195.2280197612764,
          195.2265565432082,
          195.2290657253235,
          195.227625012012,
          195.22682838120537,
          195.22407948868414,
          195.217458461191,
          195.19682443491524,
          195.1700800177453,
          195.1444104735741,
          195.13870205840755,
          195.13719414333005,
          195.13588547891334,
          195.1371297219076,
          195.13774515835834,
          195.1410427721258,
          195.13936322402446,
          195.13787115144717,
          195.1383846080239,
          195.13758061363575,
          195.13780188451182,
          195.13714289931954,
          195.14023466897095,
          195.1538851595021,
          195.17482013268642,
          195.20308527280358,
          195.21840562001793,
          195.2292921867255,
          195.23993288362112,
          195.23519731936938,
          195.21571117809958,
          195.19621097070205,
          195.18632578189968,
          195.1833112614158,
          195.16692925878246,
          195.14226203484145,
          195.11607341322298,
          195.09011219634266,
          195.0625943274956,
          195.0365529527482,
          195.0181597330179,
          195.0032784725689,
          194.99811366968868,
          195.00250606543625,
          195.0100050915395,
          194.97814148445502,
          194.87747054841955,
          194.76882181732722,
          194.6945756006177,
          194.6038295817536,
          194.52874583630992,
          194.43909866463227,
          194.39585321865718,
          194.34939232572802
         ],
         "yaxis": "y"
        },
        {
         "hovertemplate": "variable=Close<br>Datetime=%{x}<br>value=%{y}<extra></extra>",
         "legendgroup": "Close",
         "line": {
          "color": "#0059ff",
          "dash": "solid"
         },
         "marker": {
          "symbol": "circle"
         },
         "mode": "lines",
         "name": "Close",
         "showlegend": true,
         "type": "scattergl",
         "x": [
          "2024-06-06T09:30:00-04:00",
          "2024-06-06T09:31:00-04:00",
          "2024-06-06T09:32:00-04:00",
          "2024-06-06T09:33:00-04:00",
          "2024-06-06T09:34:00-04:00",
          "2024-06-06T09:35:00-04:00",
          "2024-06-06T09:36:00-04:00",
          "2024-06-06T09:37:00-04:00",
          "2024-06-06T09:38:00-04:00",
          "2024-06-06T09:39:00-04:00",
          "2024-06-06T09:40:00-04:00",
          "2024-06-06T09:41:00-04:00",
          "2024-06-06T09:42:00-04:00",
          "2024-06-06T09:43:00-04:00",
          "2024-06-06T09:44:00-04:00",
          "2024-06-06T09:45:00-04:00",
          "2024-06-06T09:46:00-04:00",
          "2024-06-06T09:47:00-04:00",
          "2024-06-06T09:48:00-04:00",
          "2024-06-06T09:49:00-04:00",
          "2024-06-06T09:50:00-04:00",
          "2024-06-06T09:51:00-04:00",
          "2024-06-06T09:52:00-04:00",
          "2024-06-06T09:53:00-04:00",
          "2024-06-06T09:54:00-04:00",
          "2024-06-06T09:55:00-04:00",
          "2024-06-06T09:56:00-04:00",
          "2024-06-06T09:57:00-04:00",
          "2024-06-06T09:58:00-04:00",
          "2024-06-06T09:59:00-04:00",
          "2024-06-06T10:00:00-04:00",
          "2024-06-06T10:01:00-04:00",
          "2024-06-06T10:02:00-04:00",
          "2024-06-06T10:03:00-04:00",
          "2024-06-06T10:04:00-04:00",
          "2024-06-06T10:05:00-04:00",
          "2024-06-06T10:06:00-04:00",
          "2024-06-06T10:07:00-04:00",
          "2024-06-06T10:08:00-04:00",
          "2024-06-06T10:09:00-04:00",
          "2024-06-06T10:10:00-04:00",
          "2024-06-06T10:11:00-04:00",
          "2024-06-06T10:12:00-04:00",
          "2024-06-06T10:13:00-04:00",
          "2024-06-06T10:14:00-04:00",
          "2024-06-06T10:15:00-04:00",
          "2024-06-06T10:16:00-04:00",
          "2024-06-06T10:17:00-04:00",
          "2024-06-06T10:18:00-04:00",
          "2024-06-06T10:19:00-04:00",
          "2024-06-06T10:20:00-04:00",
          "2024-06-06T10:21:00-04:00",
          "2024-06-06T10:22:00-04:00",
          "2024-06-06T10:23:00-04:00",
          "2024-06-06T10:24:00-04:00",
          "2024-06-06T10:25:00-04:00",
          "2024-06-06T10:26:00-04:00",
          "2024-06-06T10:27:00-04:00",
          "2024-06-06T10:28:00-04:00",
          "2024-06-06T10:29:00-04:00",
          "2024-06-06T10:30:00-04:00",
          "2024-06-06T10:31:00-04:00",
          "2024-06-06T10:32:00-04:00",
          "2024-06-06T10:33:00-04:00",
          "2024-06-06T10:34:00-04:00",
          "2024-06-06T10:35:00-04:00",
          "2024-06-06T10:36:00-04:00",
          "2024-06-06T10:37:00-04:00",
          "2024-06-06T10:38:00-04:00",
          "2024-06-06T10:39:00-04:00",
          "2024-06-06T10:40:00-04:00",
          "2024-06-06T10:41:00-04:00",
          "2024-06-06T10:42:00-04:00",
          "2024-06-06T10:43:00-04:00",
          "2024-06-06T10:44:00-04:00",
          "2024-06-06T10:45:00-04:00",
          "2024-06-06T10:46:00-04:00",
          "2024-06-06T10:47:00-04:00",
          "2024-06-06T10:48:00-04:00",
          "2024-06-06T10:49:00-04:00",
          "2024-06-06T10:50:00-04:00",
          "2024-06-06T10:51:00-04:00",
          "2024-06-06T10:52:00-04:00",
          "2024-06-06T10:53:00-04:00",
          "2024-06-06T10:54:00-04:00",
          "2024-06-06T10:55:00-04:00",
          "2024-06-06T10:56:00-04:00",
          "2024-06-06T10:57:00-04:00",
          "2024-06-06T10:58:00-04:00",
          "2024-06-06T10:59:00-04:00",
          "2024-06-06T11:00:00-04:00",
          "2024-06-06T11:01:00-04:00",
          "2024-06-06T11:02:00-04:00",
          "2024-06-06T11:03:00-04:00",
          "2024-06-06T11:04:00-04:00",
          "2024-06-06T11:05:00-04:00",
          "2024-06-06T11:06:00-04:00",
          "2024-06-06T11:07:00-04:00",
          "2024-06-06T11:08:00-04:00",
          "2024-06-06T11:09:00-04:00",
          "2024-06-06T11:10:00-04:00",
          "2024-06-06T11:11:00-04:00",
          "2024-06-06T11:12:00-04:00",
          "2024-06-06T11:13:00-04:00",
          "2024-06-06T11:14:00-04:00",
          "2024-06-06T11:15:00-04:00",
          "2024-06-06T11:16:00-04:00",
          "2024-06-06T11:17:00-04:00",
          "2024-06-06T11:18:00-04:00",
          "2024-06-06T11:19:00-04:00",
          "2024-06-06T11:20:00-04:00",
          "2024-06-06T11:21:00-04:00",
          "2024-06-06T11:22:00-04:00",
          "2024-06-06T11:23:00-04:00",
          "2024-06-06T11:24:00-04:00",
          "2024-06-06T11:25:00-04:00",
          "2024-06-06T11:26:00-04:00",
          "2024-06-06T11:27:00-04:00",
          "2024-06-06T11:28:00-04:00",
          "2024-06-06T11:29:00-04:00",
          "2024-06-06T11:30:00-04:00",
          "2024-06-06T11:31:00-04:00",
          "2024-06-06T11:32:00-04:00",
          "2024-06-06T11:33:00-04:00",
          "2024-06-06T11:34:00-04:00",
          "2024-06-06T11:35:00-04:00",
          "2024-06-06T11:36:00-04:00",
          "2024-06-06T11:37:00-04:00",
          "2024-06-06T11:38:00-04:00",
          "2024-06-06T11:39:00-04:00",
          "2024-06-06T11:40:00-04:00",
          "2024-06-06T11:41:00-04:00",
          "2024-06-06T11:42:00-04:00",
          "2024-06-06T11:43:00-04:00",
          "2024-06-06T11:44:00-04:00",
          "2024-06-06T11:45:00-04:00",
          "2024-06-06T11:46:00-04:00",
          "2024-06-06T11:47:00-04:00",
          "2024-06-06T11:48:00-04:00",
          "2024-06-06T11:49:00-04:00",
          "2024-06-06T11:50:00-04:00",
          "2024-06-06T11:51:00-04:00",
          "2024-06-06T11:52:00-04:00",
          "2024-06-06T11:53:00-04:00",
          "2024-06-06T11:54:00-04:00",
          "2024-06-06T11:55:00-04:00",
          "2024-06-06T11:56:00-04:00",
          "2024-06-06T11:57:00-04:00",
          "2024-06-06T11:58:00-04:00",
          "2024-06-06T11:59:00-04:00",
          "2024-06-06T12:00:00-04:00",
          "2024-06-06T12:01:00-04:00",
          "2024-06-06T12:02:00-04:00",
          "2024-06-06T12:03:00-04:00",
          "2024-06-06T12:04:00-04:00",
          "2024-06-06T12:05:00-04:00",
          "2024-06-06T12:06:00-04:00",
          "2024-06-06T12:07:00-04:00",
          "2024-06-06T12:08:00-04:00",
          "2024-06-06T12:09:00-04:00",
          "2024-06-06T12:10:00-04:00",
          "2024-06-06T12:11:00-04:00",
          "2024-06-06T12:12:00-04:00",
          "2024-06-06T12:13:00-04:00",
          "2024-06-06T12:14:00-04:00",
          "2024-06-06T12:15:00-04:00",
          "2024-06-06T12:16:00-04:00",
          "2024-06-06T12:17:00-04:00",
          "2024-06-06T12:18:00-04:00",
          "2024-06-06T12:19:00-04:00",
          "2024-06-06T12:20:00-04:00",
          "2024-06-06T12:21:00-04:00",
          "2024-06-06T12:22:00-04:00",
          "2024-06-06T12:23:00-04:00",
          "2024-06-06T12:24:00-04:00",
          "2024-06-06T12:25:00-04:00",
          "2024-06-06T12:26:00-04:00",
          "2024-06-06T12:27:00-04:00",
          "2024-06-06T12:28:00-04:00",
          "2024-06-06T12:29:00-04:00",
          "2024-06-06T12:30:00-04:00",
          "2024-06-06T12:31:00-04:00",
          "2024-06-06T12:32:00-04:00",
          "2024-06-06T12:33:00-04:00",
          "2024-06-06T12:34:00-04:00",
          "2024-06-06T12:35:00-04:00",
          "2024-06-06T12:36:00-04:00",
          "2024-06-06T12:37:00-04:00",
          "2024-06-06T12:38:00-04:00",
          "2024-06-06T12:39:00-04:00",
          "2024-06-06T12:40:00-04:00",
          "2024-06-06T12:41:00-04:00",
          "2024-06-06T12:42:00-04:00",
          "2024-06-06T12:43:00-04:00",
          "2024-06-06T12:44:00-04:00",
          "2024-06-06T12:45:00-04:00",
          "2024-06-06T12:46:00-04:00",
          "2024-06-06T12:47:00-04:00",
          "2024-06-06T12:48:00-04:00",
          "2024-06-06T12:49:00-04:00",
          "2024-06-06T12:50:00-04:00",
          "2024-06-06T12:51:00-04:00",
          "2024-06-06T12:52:00-04:00",
          "2024-06-06T12:53:00-04:00",
          "2024-06-06T12:54:00-04:00",
          "2024-06-06T12:55:00-04:00",
          "2024-06-06T12:56:00-04:00",
          "2024-06-06T12:57:00-04:00",
          "2024-06-06T12:58:00-04:00",
          "2024-06-06T12:59:00-04:00",
          "2024-06-06T13:00:00-04:00",
          "2024-06-06T13:01:00-04:00",
          "2024-06-06T13:02:00-04:00",
          "2024-06-06T13:03:00-04:00",
          "2024-06-06T13:04:00-04:00",
          "2024-06-06T13:05:00-04:00",
          "2024-06-06T13:06:00-04:00",
          "2024-06-06T13:07:00-04:00",
          "2024-06-06T13:08:00-04:00",
          "2024-06-06T13:09:00-04:00",
          "2024-06-06T13:10:00-04:00",
          "2024-06-06T13:11:00-04:00",
          "2024-06-06T13:12:00-04:00",
          "2024-06-06T13:13:00-04:00",
          "2024-06-06T13:14:00-04:00",
          "2024-06-06T13:15:00-04:00",
          "2024-06-06T13:16:00-04:00",
          "2024-06-06T13:17:00-04:00",
          "2024-06-06T13:18:00-04:00",
          "2024-06-06T13:19:00-04:00",
          "2024-06-06T13:20:00-04:00",
          "2024-06-06T13:21:00-04:00",
          "2024-06-06T13:22:00-04:00",
          "2024-06-06T13:23:00-04:00",
          "2024-06-06T13:24:00-04:00",
          "2024-06-06T13:25:00-04:00",
          "2024-06-06T13:26:00-04:00",
          "2024-06-06T13:27:00-04:00",
          "2024-06-06T13:28:00-04:00",
          "2024-06-06T13:29:00-04:00",
          "2024-06-06T13:30:00-04:00",
          "2024-06-06T13:31:00-04:00",
          "2024-06-06T13:32:00-04:00",
          "2024-06-06T13:33:00-04:00",
          "2024-06-06T13:34:00-04:00",
          "2024-06-06T13:35:00-04:00",
          "2024-06-06T13:36:00-04:00",
          "2024-06-06T13:37:00-04:00",
          "2024-06-06T13:38:00-04:00",
          "2024-06-06T13:39:00-04:00",
          "2024-06-06T13:40:00-04:00",
          "2024-06-06T13:41:00-04:00",
          "2024-06-06T13:42:00-04:00",
          "2024-06-06T13:43:00-04:00",
          "2024-06-06T13:44:00-04:00",
          "2024-06-06T13:45:00-04:00",
          "2024-06-06T13:46:00-04:00",
          "2024-06-06T13:47:00-04:00",
          "2024-06-06T13:48:00-04:00",
          "2024-06-06T13:49:00-04:00",
          "2024-06-06T13:50:00-04:00",
          "2024-06-06T13:51:00-04:00",
          "2024-06-06T13:52:00-04:00",
          "2024-06-06T13:53:00-04:00",
          "2024-06-06T13:54:00-04:00",
          "2024-06-06T13:55:00-04:00",
          "2024-06-06T13:56:00-04:00",
          "2024-06-06T13:57:00-04:00",
          "2024-06-06T13:58:00-04:00",
          "2024-06-06T13:59:00-04:00",
          "2024-06-06T14:00:00-04:00",
          "2024-06-06T14:01:00-04:00",
          "2024-06-06T14:02:00-04:00",
          "2024-06-06T14:03:00-04:00",
          "2024-06-06T14:04:00-04:00",
          "2024-06-06T14:05:00-04:00",
          "2024-06-06T14:06:00-04:00",
          "2024-06-06T14:07:00-04:00",
          "2024-06-06T14:08:00-04:00",
          "2024-06-06T14:09:00-04:00",
          "2024-06-06T14:10:00-04:00",
          "2024-06-06T14:11:00-04:00",
          "2024-06-06T14:12:00-04:00",
          "2024-06-06T14:13:00-04:00",
          "2024-06-06T14:14:00-04:00",
          "2024-06-06T14:15:00-04:00",
          "2024-06-06T14:16:00-04:00",
          "2024-06-06T14:17:00-04:00",
          "2024-06-06T14:18:00-04:00",
          "2024-06-06T14:19:00-04:00",
          "2024-06-06T14:20:00-04:00",
          "2024-06-06T14:21:00-04:00",
          "2024-06-06T14:22:00-04:00",
          "2024-06-06T14:23:00-04:00",
          "2024-06-06T14:24:00-04:00",
          "2024-06-06T14:25:00-04:00",
          "2024-06-06T14:26:00-04:00",
          "2024-06-06T14:27:00-04:00",
          "2024-06-06T14:28:00-04:00",
          "2024-06-06T14:29:00-04:00",
          "2024-06-06T14:30:00-04:00",
          "2024-06-06T14:31:00-04:00",
          "2024-06-06T14:32:00-04:00",
          "2024-06-06T14:33:00-04:00",
          "2024-06-06T14:34:00-04:00",
          "2024-06-06T14:35:00-04:00",
          "2024-06-06T14:36:00-04:00",
          "2024-06-06T14:37:00-04:00",
          "2024-06-06T14:38:00-04:00",
          "2024-06-06T14:39:00-04:00",
          "2024-06-06T14:40:00-04:00",
          "2024-06-06T14:41:00-04:00",
          "2024-06-06T14:42:00-04:00",
          "2024-06-06T14:43:00-04:00",
          "2024-06-06T14:44:00-04:00",
          "2024-06-06T14:45:00-04:00",
          "2024-06-06T14:46:00-04:00",
          "2024-06-06T14:47:00-04:00",
          "2024-06-06T14:48:00-04:00",
          "2024-06-06T14:49:00-04:00",
          "2024-06-06T14:50:00-04:00",
          "2024-06-06T14:51:00-04:00",
          "2024-06-06T14:52:00-04:00",
          "2024-06-06T14:53:00-04:00",
          "2024-06-06T14:54:00-04:00",
          "2024-06-06T14:55:00-04:00",
          "2024-06-06T14:56:00-04:00",
          "2024-06-06T14:57:00-04:00",
          "2024-06-06T14:58:00-04:00",
          "2024-06-06T14:59:00-04:00",
          "2024-06-06T15:00:00-04:00",
          "2024-06-06T15:01:00-04:00",
          "2024-06-06T15:02:00-04:00",
          "2024-06-06T15:03:00-04:00",
          "2024-06-06T15:04:00-04:00",
          "2024-06-06T15:05:00-04:00",
          "2024-06-06T15:06:00-04:00",
          "2024-06-06T15:07:00-04:00",
          "2024-06-06T15:08:00-04:00",
          "2024-06-06T15:09:00-04:00",
          "2024-06-06T15:10:00-04:00",
          "2024-06-06T15:11:00-04:00",
          "2024-06-06T15:12:00-04:00",
          "2024-06-06T15:13:00-04:00",
          "2024-06-06T15:14:00-04:00",
          "2024-06-06T15:15:00-04:00",
          "2024-06-06T15:16:00-04:00",
          "2024-06-06T15:17:00-04:00",
          "2024-06-06T15:18:00-04:00",
          "2024-06-06T15:19:00-04:00",
          "2024-06-06T15:20:00-04:00",
          "2024-06-06T15:21:00-04:00",
          "2024-06-06T15:22:00-04:00",
          "2024-06-06T15:23:00-04:00",
          "2024-06-06T15:24:00-04:00",
          "2024-06-06T15:25:00-04:00",
          "2024-06-06T15:26:00-04:00",
          "2024-06-06T15:27:00-04:00",
          "2024-06-06T15:28:00-04:00",
          "2024-06-06T15:29:00-04:00",
          "2024-06-06T15:30:00-04:00",
          "2024-06-06T15:31:00-04:00",
          "2024-06-06T15:32:00-04:00",
          "2024-06-06T15:33:00-04:00",
          "2024-06-06T15:34:00-04:00",
          "2024-06-06T15:35:00-04:00",
          "2024-06-06T15:36:00-04:00",
          "2024-06-06T15:37:00-04:00",
          "2024-06-06T15:38:00-04:00",
          "2024-06-06T15:39:00-04:00",
          "2024-06-06T15:40:00-04:00",
          "2024-06-06T15:41:00-04:00",
          "2024-06-06T15:42:00-04:00",
          "2024-06-06T15:43:00-04:00",
          "2024-06-06T15:44:00-04:00",
          "2024-06-06T15:45:00-04:00",
          "2024-06-06T15:46:00-04:00",
          "2024-06-06T15:47:00-04:00",
          "2024-06-06T15:48:00-04:00",
          "2024-06-06T15:49:00-04:00",
          "2024-06-06T15:50:00-04:00",
          "2024-06-06T15:51:00-04:00",
          "2024-06-06T15:52:00-04:00",
          "2024-06-06T15:53:00-04:00",
          "2024-06-06T15:54:00-04:00",
          "2024-06-06T15:55:00-04:00",
          "2024-06-06T15:56:00-04:00",
          "2024-06-06T15:57:00-04:00",
          "2024-06-06T15:58:00-04:00",
          "2024-06-06T15:59:00-04:00"
         ],
         "xaxis": "x",
         "y": [
          196.1300048828125,
          196.25999450683594,
          196.1082000732422,
          195.89999389648438,
          195.77000427246094,
          195.48680114746094,
          195.5760955810547,
          195.52999877929688,
          195.52999877929688,
          195.52000427246094,
          195.21499633789062,
          195.47999572753906,
          195.5500030517578,
          195.63360595703125,
          195.69000244140625,
          195.59219360351562,
          195.57000732421875,
          195.54049682617188,
          195.8000030517578,
          195.74000549316406,
          195.7799072265625,
          195.66409301757812,
          195.63999938964844,
          195.64999389648438,
          195.7050018310547,
          195.74000549316406,
          195.82000732421875,
          195.89999389648438,
          195.97000122070312,
          196.110107421875,
          196.2050018310547,
          196.14500427246094,
          195.93499755859375,
          196.08999633789062,
          196.02499389648438,
          195.83999633789062,
          195.75999450683594,
          195.75999450683594,
          195.66000366210938,
          195.7100067138672,
          195.83999633789062,
          195.9600067138672,
          195.97000122070312,
          196.05999755859375,
          196.1699981689453,
          196.26499938964844,
          196.3350067138672,
          196.35890197753906,
          196.2899932861328,
          196.25999450683594,
          196.27999877929688,
          196.25999450683594,
          196.47000122070312,
          196.44000244140625,
          196.210205078125,
          196.0500030517578,
          195.85000610351562,
          195.89999389648438,
          196.00999450683594,
          195.9199981689453,
          195.89999389648438,
          195.9149932861328,
          195.7899932861328,
          195.6999969482422,
          195.60499572753906,
          195.73500061035156,
          195.7899932861328,
          195.8300018310547,
          195.75,
          195.72000122070312,
          195.8000030517578,
          195.86000061035156,
          195.7899932861328,
          195.80999755859375,
          195.76499938964844,
          195.74000549316406,
          195.72999572753906,
          195.65789794921875,
          195.5299072265625,
          195.54510498046875,
          195.4600067138672,
          195.5800018310547,
          195.63999938964844,
          195.625,
          195.72979736328125,
          195.83999633789062,
          195.92999267578125,
          195.8300018310547,
          195.74000549316406,
          195.75,
          195.63999938964844,
          195.6999969482422,
          195.72000122070312,
          195.74000549316406,
          195.6876983642578,
          195.67230224609375,
          195.72500610351562,
          195.6999969482422,
          195.65499877929688,
          195.71499633789062,
          195.69500732421875,
          195.66000366210938,
          195.6199951171875,
          195.7449951171875,
          195.8000030517578,
          195.83999633789062,
          195.84500122070312,
          195.72999572753906,
          195.6649932861328,
          195.63009643554688,
          195.7050018310547,
          195.78500366210938,
          195.72000122070312,
          195.7541046142578,
          195.74000549316406,
          195.8249969482422,
          195.81500244140625,
          195.7899932861328,
          195.81500244140625,
          195.8350067138672,
          195.72500610351562,
          195.75,
          195.69000244140625,
          195.75160217285156,
          195.77000427246094,
          195.72999572753906,
          195.67799377441406,
          195.72999572753906,
          195.68499755859375,
          195.72000122070312,
          195.66000366210938,
          195.6300048828125,
          195.61000061035156,
          195.60130310058594,
          195.61000061035156,
          195.60499572753906,
          195.6300048828125,
          195.63999938964844,
          195.65499877929688,
          195.58810424804688,
          195.51499938964844,
          195.47999572753906,
          195.41000366210938,
          195.42999267578125,
          195.4199981689453,
          195.4499969482422,
          195.49000549316406,
          195.5699005126953,
          195.49000549316406,
          195.52999877929688,
          195.45419311523438,
          195.47000122070312,
          195.48789978027344,
          195.47999572753906,
          195.49000549316406,
          195.52000427246094,
          195.51539611816406,
          195.56500244140625,
          195.56849670410156,
          195.5601043701172,
          195.59860229492188,
          195.6750030517578,
          195.69000244140625,
          195.64100646972656,
          195.58999633789062,
          195.5399932861328,
          195.67999267578125,
          195.6750030517578,
          195.69500732421875,
          195.78500366210938,
          195.75999450683594,
          195.72000122070312,
          195.7440948486328,
          195.72000122070312,
          195.6750030517578,
          195.69500732421875,
          195.68499755859375,
          195.62989807128906,
          195.68499755859375,
          195.6699981689453,
          195.6699981689453,
          195.6999969482422,
          195.64999389648438,
          195.6300048828125,
          195.66000366210938,
          195.6999969482422,
          195.66000366210938,
          195.69500732421875,
          195.67999267578125,
          195.64999389648438,
          195.62969970703125,
          195.7050018310547,
          195.66969299316406,
          195.66000366210938,
          195.63999938964844,
          195.67999267578125,
          195.64999389648438,
          195.64999389648438,
          195.67999267578125,
          195.66000366210938,
          195.6649932861328,
          195.69500732421875,
          195.7100067138672,
          195.7100067138672,
          195.69500732421875,
          195.75,
          195.72000122070312,
          195.7449951171875,
          195.84500122070312,
          195.97000122070312,
          195.93099975585938,
          195.90989685058594,
          195.9499969482422,
          195.9499969482422,
          195.9550018310547,
          196,
          195.9949951171875,
          196.06979370117188,
          196.05999755859375,
          196.0500030517578,
          195.9550018310547,
          195.90499877929688,
          195.83999633789062,
          195.86500549316406,
          195.8350067138672,
          195.76499938964844,
          195.7799072265625,
          195.75,
          195.7550048828125,
          195.66000366210938,
          195.5399932861328,
          195.53500366210938,
          195.5399932861328,
          195.4976043701172,
          195.52499389648438,
          195.59849548339844,
          195.61000061035156,
          195.61000061035156,
          195.6199951171875,
          195.6479949951172,
          195.6300048828125,
          195.6898956298828,
          195.71499633789062,
          195.65499877929688,
          195.6199951171875,
          195.5800018310547,
          195.59500122070312,
          195.60000610351562,
          195.5749969482422,
          195.58999633789062,
          195.6466064453125,
          195.67999267578125,
          195.68499755859375,
          195.625,
          195.6298065185547,
          195.6199951171875,
          195.61000061035156,
          195.5749969482422,
          195.61000061035156,
          195.61500549316406,
          195.58999633789062,
          195.5850067138672,
          195.5749969482422,
          195.53500366210938,
          195.6280975341797,
          195.53500366210938,
          195.48500061035156,
          195.48500061035156,
          195.47830200195312,
          195.47500610351562,
          195.5449981689453,
          195.51499938964844,
          195.52000427246094,
          195.47000122070312,
          195.45249938964844,
          195.47999572753906,
          195.3583984375,
          195.2384033203125,
          195.14999389648438,
          194.99000549316406,
          195.10000610351562,
          195.06849670410156,
          195.0800018310547,
          195.23500061035156,
          195.3040008544922,
          195.28500366210938,
          195.30999755859375,
          195.3300018310547,
          195.38499450683594,
          195.41000366210938,
          195.35000610351562,
          195.4149932861328,
          195.52999877929688,
          195.5399932861328,
          195.5299072265625,
          195.49000549316406,
          195.49000549316406,
          195.50900268554688,
          195.52499389648438,
          195.54449462890625,
          195.4600067138672,
          195.3800048828125,
          195.44000244140625,
          195.4365997314453,
          195.4550018310547,
          195.35000610351562,
          195.3699951171875,
          195.35830688476562,
          195.30499267578125,
          195.2449951171875,
          195.22999572753906,
          195.26010131835938,
          195.25999450683594,
          195.25010681152344,
          195.24000549316406,
          195.25999450683594,
          195.27499389648438,
          195.25999450683594,
          195.27499389648438,
          195.27000427246094,
          195.30499267578125,
          195.27999877929688,
          195.35499572753906,
          195.3957977294922,
          195.3632049560547,
          195.38499450683594,
          195.35000610351562,
          195.2899932861328,
          195.27499389648438,
          195.24000549316406,
          195.22999572753906,
          195.25,
          195.22999572753906,
          195.23500061035156,
          195.21499633789062,
          195.23500061035156,
          195.27999877929688,
          195.3459014892578,
          195.29629516601562,
          195.27000427246094,
          195.2501983642578,
          195.19000244140625,
          195.1199951171875,
          195.0800018310547,
          195.05999755859375,
          195.1649932861328,
          195.2050018310547,
          195.22000122070312,
          195.30999755859375,
          195.35000610351562,
          195.2949981689453,
          195.2100067138672,
          195.24000549316406,
          195.2812957763672,
          195.25250244140625,
          195.28500366210938,
          195.23500061035156,
          195.23500061035156,
          195.28500366210938,
          195.39300537109375,
          195.44000244140625,
          195.3800048828125,
          195.39500427246094,
          195.35499572753906,
          195.2550048828125,
          195.16000366210938,
          195.13499450683594,
          195.13999938964844,
          195.2100067138672,
          195.1300048828125,
          195.05999755859375,
          195.0449981689453,
          195.01499938964844,
          194.99000549316406,
          194.9949951171875,
          195.02780151367188,
          195,
          195.07000732421875,
          195.10000610351562,
          195.0850067138672,
          194.85499572753906,
          194.55999755859375,
          194.40499877929688,
          194.45989990234375,
          194.30999755859375,
          194.32000732421875,
          194.1750030517578,
          194.41000366210938,
          194.34500122070312,
          194.47999572753906
         ],
         "yaxis": "y"
        }
       ],
       "layout": {
        "legend": {
         "title": {
          "text": "variable"
         },
         "tracegroupgap": 0
        },
        "template": {
         "data": {
          "bar": [
           {
            "error_x": {
             "color": "#2a3f5f"
            },
            "error_y": {
             "color": "#2a3f5f"
            },
            "marker": {
             "line": {
              "color": "#E5ECF6",
              "width": 0.5
             },
             "pattern": {
              "fillmode": "overlay",
              "size": 10,
              "solidity": 0.2
             }
            },
            "type": "bar"
           }
          ],
          "barpolar": [
           {
            "marker": {
             "line": {
              "color": "#E5ECF6",
              "width": 0.5
             },
             "pattern": {
              "fillmode": "overlay",
              "size": 10,
              "solidity": 0.2
             }
            },
            "type": "barpolar"
           }
          ],
          "carpet": [
           {
            "aaxis": {
             "endlinecolor": "#2a3f5f",
             "gridcolor": "white",
             "linecolor": "white",
             "minorgridcolor": "white",
             "startlinecolor": "#2a3f5f"
            },
            "baxis": {
             "endlinecolor": "#2a3f5f",
             "gridcolor": "white",
             "linecolor": "white",
             "minorgridcolor": "white",
             "startlinecolor": "#2a3f5f"
            },
            "type": "carpet"
           }
          ],
          "choropleth": [
           {
            "colorbar": {
             "outlinewidth": 0,
             "ticks": ""
            },
            "type": "choropleth"
           }
          ],
          "contour": [
           {
            "colorbar": {
             "outlinewidth": 0,
             "ticks": ""
            },
            "colorscale": [
             [
              0,
              "#0d0887"
             ],
             [
              0.1111111111111111,
              "#46039f"
             ],
             [
              0.2222222222222222,
              "#7201a8"
             ],
             [
              0.3333333333333333,
              "#9c179e"
             ],
             [
              0.4444444444444444,
              "#bd3786"
             ],
             [
              0.5555555555555556,
              "#d8576b"
             ],
             [
              0.6666666666666666,
              "#ed7953"
             ],
             [
              0.7777777777777778,
              "#fb9f3a"
             ],
             [
              0.8888888888888888,
              "#fdca26"
             ],
             [
              1,
              "#f0f921"
             ]
            ],
            "type": "contour"
           }
          ],
          "contourcarpet": [
           {
            "colorbar": {
             "outlinewidth": 0,
             "ticks": ""
            },
            "type": "contourcarpet"
           }
          ],
          "heatmap": [
           {
            "colorbar": {
             "outlinewidth": 0,
             "ticks": ""
            },
            "colorscale": [
             [
              0,
              "#0d0887"
             ],
             [
              0.1111111111111111,
              "#46039f"
             ],
             [
              0.2222222222222222,
              "#7201a8"
             ],
             [
              0.3333333333333333,
              "#9c179e"
             ],
             [
              0.4444444444444444,
              "#bd3786"
             ],
             [
              0.5555555555555556,
              "#d8576b"
             ],
             [
              0.6666666666666666,
              "#ed7953"
             ],
             [
              0.7777777777777778,
              "#fb9f3a"
             ],
             [
              0.8888888888888888,
              "#fdca26"
             ],
             [
              1,
              "#f0f921"
             ]
            ],
            "type": "heatmap"
           }
          ],
          "heatmapgl": [
           {
            "colorbar": {
             "outlinewidth": 0,
             "ticks": ""
            },
            "colorscale": [
             [
              0,
              "#0d0887"
             ],
             [
              0.1111111111111111,
              "#46039f"
             ],
             [
              0.2222222222222222,
              "#7201a8"
             ],
             [
              0.3333333333333333,
              "#9c179e"
             ],
             [
              0.4444444444444444,
              "#bd3786"
             ],
             [
              0.5555555555555556,
              "#d8576b"
             ],
             [
              0.6666666666666666,
              "#ed7953"
             ],
             [
              0.7777777777777778,
              "#fb9f3a"
             ],
             [
              0.8888888888888888,
              "#fdca26"
             ],
             [
              1,
              "#f0f921"
             ]
            ],
            "type": "heatmapgl"
           }
          ],
          "histogram": [
           {
            "marker": {
             "pattern": {
              "fillmode": "overlay",
              "size": 10,
              "solidity": 0.2
             }
            },
            "type": "histogram"
           }
          ],
          "histogram2d": [
           {
            "colorbar": {
             "outlinewidth": 0,
             "ticks": ""
            },
            "colorscale": [
             [
              0,
              "#0d0887"
             ],
             [
              0.1111111111111111,
              "#46039f"
             ],
             [
              0.2222222222222222,
              "#7201a8"
             ],
             [
              0.3333333333333333,
              "#9c179e"
             ],
             [
              0.4444444444444444,
              "#bd3786"
             ],
             [
              0.5555555555555556,
              "#d8576b"
             ],
             [
              0.6666666666666666,
              "#ed7953"
             ],
             [
              0.7777777777777778,
              "#fb9f3a"
             ],
             [
              0.8888888888888888,
              "#fdca26"
             ],
             [
              1,
              "#f0f921"
             ]
            ],
            "type": "histogram2d"
           }
          ],
          "histogram2dcontour": [
           {
            "colorbar": {
             "outlinewidth": 0,
             "ticks": ""
            },
            "colorscale": [
             [
              0,
              "#0d0887"
             ],
             [
              0.1111111111111111,
              "#46039f"
             ],
             [
              0.2222222222222222,
              "#7201a8"
             ],
             [
              0.3333333333333333,
              "#9c179e"
             ],
             [
              0.4444444444444444,
              "#bd3786"
             ],
             [
              0.5555555555555556,
              "#d8576b"
             ],
             [
              0.6666666666666666,
              "#ed7953"
             ],
             [
              0.7777777777777778,
              "#fb9f3a"
             ],
             [
              0.8888888888888888,
              "#fdca26"
             ],
             [
              1,
              "#f0f921"
             ]
            ],
            "type": "histogram2dcontour"
           }
          ],
          "mesh3d": [
           {
            "colorbar": {
             "outlinewidth": 0,
             "ticks": ""
            },
            "type": "mesh3d"
           }
          ],
          "parcoords": [
           {
            "line": {
             "colorbar": {
              "outlinewidth": 0,
              "ticks": ""
             }
            },
            "type": "parcoords"
           }
          ],
          "pie": [
           {
            "automargin": true,
            "type": "pie"
           }
          ],
          "scatter": [
           {
            "fillpattern": {
             "fillmode": "overlay",
             "size": 10,
             "solidity": 0.2
            },
            "type": "scatter"
           }
          ],
          "scatter3d": [
           {
            "line": {
             "colorbar": {
              "outlinewidth": 0,
              "ticks": ""
             }
            },
            "marker": {
             "colorbar": {
              "outlinewidth": 0,
              "ticks": ""
             }
            },
            "type": "scatter3d"
           }
          ],
          "scattercarpet": [
           {
            "marker": {
             "colorbar": {
              "outlinewidth": 0,
              "ticks": ""
             }
            },
            "type": "scattercarpet"
           }
          ],
          "scattergeo": [
           {
            "marker": {
             "colorbar": {
              "outlinewidth": 0,
              "ticks": ""
             }
            },
            "type": "scattergeo"
           }
          ],
          "scattergl": [
           {
            "marker": {
             "colorbar": {
              "outlinewidth": 0,
              "ticks": ""
             }
            },
            "type": "scattergl"
           }
          ],
          "scattermapbox": [
           {
            "marker": {
             "colorbar": {
              "outlinewidth": 0,
              "ticks": ""
             }
            },
            "type": "scattermapbox"
           }
          ],
          "scatterpolar": [
           {
            "marker": {
             "colorbar": {
              "outlinewidth": 0,
              "ticks": ""
             }
            },
            "type": "scatterpolar"
           }
          ],
          "scatterpolargl": [
           {
            "marker": {
             "colorbar": {
              "outlinewidth": 0,
              "ticks": ""
             }
            },
            "type": "scatterpolargl"
           }
          ],
          "scatterternary": [
           {
            "marker": {
             "colorbar": {
              "outlinewidth": 0,
              "ticks": ""
             }
            },
            "type": "scatterternary"
           }
          ],
          "surface": [
           {
            "colorbar": {
             "outlinewidth": 0,
             "ticks": ""
            },
            "colorscale": [
             [
              0,
              "#0d0887"
             ],
             [
              0.1111111111111111,
              "#46039f"
             ],
             [
              0.2222222222222222,
              "#7201a8"
             ],
             [
              0.3333333333333333,
              "#9c179e"
             ],
             [
              0.4444444444444444,
              "#bd3786"
             ],
             [
              0.5555555555555556,
              "#d8576b"
             ],
             [
              0.6666666666666666,
              "#ed7953"
             ],
             [
              0.7777777777777778,
              "#fb9f3a"
             ],
             [
              0.8888888888888888,
              "#fdca26"
             ],
             [
              1,
              "#f0f921"
             ]
            ],
            "type": "surface"
           }
          ],
          "table": [
           {
            "cells": {
             "fill": {
              "color": "#EBF0F8"
             },
             "line": {
              "color": "white"
             }
            },
            "header": {
             "fill": {
              "color": "#C8D4E3"
             },
             "line": {
              "color": "white"
             }
            },
            "type": "table"
           }
          ]
         },
         "layout": {
          "annotationdefaults": {
           "arrowcolor": "#2a3f5f",
           "arrowhead": 0,
           "arrowwidth": 1
          },
          "autotypenumbers": "strict",
          "coloraxis": {
           "colorbar": {
            "outlinewidth": 0,
            "ticks": ""
           }
          },
          "colorscale": {
           "diverging": [
            [
             0,
             "#8e0152"
            ],
            [
             0.1,
             "#c51b7d"
            ],
            [
             0.2,
             "#de77ae"
            ],
            [
             0.3,
             "#f1b6da"
            ],
            [
             0.4,
             "#fde0ef"
            ],
            [
             0.5,
             "#f7f7f7"
            ],
            [
             0.6,
             "#e6f5d0"
            ],
            [
             0.7,
             "#b8e186"
            ],
            [
             0.8,
             "#7fbc41"
            ],
            [
             0.9,
             "#4d9221"
            ],
            [
             1,
             "#276419"
            ]
           ],
           "sequential": [
            [
             0,
             "#0d0887"
            ],
            [
             0.1111111111111111,
             "#46039f"
            ],
            [
             0.2222222222222222,
             "#7201a8"
            ],
            [
             0.3333333333333333,
             "#9c179e"
            ],
            [
             0.4444444444444444,
             "#bd3786"
            ],
            [
             0.5555555555555556,
             "#d8576b"
            ],
            [
             0.6666666666666666,
             "#ed7953"
            ],
            [
             0.7777777777777778,
             "#fb9f3a"
            ],
            [
             0.8888888888888888,
             "#fdca26"
            ],
            [
             1,
             "#f0f921"
            ]
           ],
           "sequentialminus": [
            [
             0,
             "#0d0887"
            ],
            [
             0.1111111111111111,
             "#46039f"
            ],
            [
             0.2222222222222222,
             "#7201a8"
            ],
            [
             0.3333333333333333,
             "#9c179e"
            ],
            [
             0.4444444444444444,
             "#bd3786"
            ],
            [
             0.5555555555555556,
             "#d8576b"
            ],
            [
             0.6666666666666666,
             "#ed7953"
            ],
            [
             0.7777777777777778,
             "#fb9f3a"
            ],
            [
             0.8888888888888888,
             "#fdca26"
            ],
            [
             1,
             "#f0f921"
            ]
           ]
          },
          "colorway": [
           "#636efa",
           "#EF553B",
           "#00cc96",
           "#ab63fa",
           "#FFA15A",
           "#19d3f3",
           "#FF6692",
           "#B6E880",
           "#FF97FF",
           "#FECB52"
          ],
          "font": {
           "color": "#2a3f5f"
          },
          "geo": {
           "bgcolor": "white",
           "lakecolor": "white",
           "landcolor": "#E5ECF6",
           "showlakes": true,
           "showland": true,
           "subunitcolor": "white"
          },
          "hoverlabel": {
           "align": "left"
          },
          "hovermode": "closest",
          "mapbox": {
           "style": "light"
          },
          "paper_bgcolor": "white",
          "plot_bgcolor": "#E5ECF6",
          "polar": {
           "angularaxis": {
            "gridcolor": "white",
            "linecolor": "white",
            "ticks": ""
           },
           "bgcolor": "#E5ECF6",
           "radialaxis": {
            "gridcolor": "white",
            "linecolor": "white",
            "ticks": ""
           }
          },
          "scene": {
           "xaxis": {
            "backgroundcolor": "#E5ECF6",
            "gridcolor": "white",
            "gridwidth": 2,
            "linecolor": "white",
            "showbackground": true,
            "ticks": "",
            "zerolinecolor": "white"
           },
           "yaxis": {
            "backgroundcolor": "#E5ECF6",
            "gridcolor": "white",
            "gridwidth": 2,
            "linecolor": "white",
            "showbackground": true,
            "ticks": "",
            "zerolinecolor": "white"
           },
           "zaxis": {
            "backgroundcolor": "#E5ECF6",
            "gridcolor": "white",
            "gridwidth": 2,
            "linecolor": "white",
            "showbackground": true,
            "ticks": "",
            "zerolinecolor": "white"
           }
          },
          "shapedefaults": {
           "line": {
            "color": "#2a3f5f"
           }
          },
          "ternary": {
           "aaxis": {
            "gridcolor": "white",
            "linecolor": "white",
            "ticks": ""
           },
           "baxis": {
            "gridcolor": "white",
            "linecolor": "white",
            "ticks": ""
           },
           "bgcolor": "#E5ECF6",
           "caxis": {
            "gridcolor": "white",
            "linecolor": "white",
            "ticks": ""
           }
          },
          "title": {
           "x": 0.05
          },
          "xaxis": {
           "automargin": true,
           "gridcolor": "white",
           "linecolor": "white",
           "ticks": "",
           "title": {
            "standoff": 15
           },
           "zerolinecolor": "white",
           "zerolinewidth": 2
          },
          "yaxis": {
           "automargin": true,
           "gridcolor": "white",
           "linecolor": "white",
           "ticks": "",
           "title": {
            "standoff": 15
           },
           "zerolinecolor": "white",
           "zerolinewidth": 2
          }
         }
        },
        "title": {
         "text": "AAPL Stock Prices w/ Bollinger Bands"
        },
        "xaxis": {
         "anchor": "y",
         "domain": [
          0,
          1
         ],
         "title": {
          "text": "Datetime"
         }
        },
        "yaxis": {
         "anchor": "x",
         "domain": [
          0,
          1
         ],
         "title": {
          "text": "value"
         }
        }
       }
      },
      "text/html": [
       "<div>                            <div id=\"f9d9cfa9-6033-4201-88a5-615e26c01910\" class=\"plotly-graph-div\" style=\"height:525px; width:100%;\"></div>            <script type=\"text/javascript\">                require([\"plotly\"], function(Plotly) {                    window.PLOTLYENV=window.PLOTLYENV || {};                                    if (document.getElementById(\"f9d9cfa9-6033-4201-88a5-615e26c01910\")) {                    Plotly.newPlot(                        \"f9d9cfa9-6033-4201-88a5-615e26c01910\",                        [{\"hovertemplate\":\"variable=SMA_16<br>Datetime=%{x}<br>value=%{y}<extra></extra>\",\"legendgroup\":\"SMA_16\",\"line\":{\"color\":\"#85deb1\",\"dash\":\"solid\"},\"marker\":{\"symbol\":\"circle\"},\"mode\":\"lines\",\"name\":\"SMA_16\",\"showlegend\":true,\"x\":[\"2024-06-06T09:30:00-04:00\",\"2024-06-06T09:31:00-04:00\",\"2024-06-06T09:32:00-04:00\",\"2024-06-06T09:33:00-04:00\",\"2024-06-06T09:34:00-04:00\",\"2024-06-06T09:35:00-04:00\",\"2024-06-06T09:36:00-04:00\",\"2024-06-06T09:37:00-04:00\",\"2024-06-06T09:38:00-04:00\",\"2024-06-06T09:39:00-04:00\",\"2024-06-06T09:40:00-04:00\",\"2024-06-06T09:41:00-04:00\",\"2024-06-06T09:42:00-04:00\",\"2024-06-06T09:43:00-04:00\",\"2024-06-06T09:44:00-04:00\",\"2024-06-06T09:45:00-04:00\",\"2024-06-06T09:46:00-04:00\",\"2024-06-06T09:47:00-04:00\",\"2024-06-06T09:48:00-04:00\",\"2024-06-06T09:49:00-04:00\",\"2024-06-06T09:50:00-04:00\",\"2024-06-06T09:51:00-04:00\",\"2024-06-06T09:52:00-04:00\",\"2024-06-06T09:53:00-04:00\",\"2024-06-06T09:54:00-04:00\",\"2024-06-06T09:55:00-04:00\",\"2024-06-06T09:56:00-04:00\",\"2024-06-06T09:57:00-04:00\",\"2024-06-06T09:58:00-04:00\",\"2024-06-06T09:59:00-04:00\",\"2024-06-06T10:00:00-04:00\",\"2024-06-06T10:01:00-04:00\",\"2024-06-06T10:02:00-04:00\",\"2024-06-06T10:03:00-04:00\",\"2024-06-06T10:04:00-04:00\",\"2024-06-06T10:05:00-04:00\",\"2024-06-06T10:06:00-04:00\",\"2024-06-06T10:07:00-04:00\",\"2024-06-06T10:08:00-04:00\",\"2024-06-06T10:09:00-04:00\",\"2024-06-06T10:10:00-04:00\",\"2024-06-06T10:11:00-04:00\",\"2024-06-06T10:12:00-04:00\",\"2024-06-06T10:13:00-04:00\",\"2024-06-06T10:14:00-04:00\",\"2024-06-06T10:15:00-04:00\",\"2024-06-06T10:16:00-04:00\",\"2024-06-06T10:17:00-04:00\",\"2024-06-06T10:18:00-04:00\",\"2024-06-06T10:19:00-04:00\",\"2024-06-06T10:20:00-04:00\",\"2024-06-06T10:21:00-04:00\",\"2024-06-06T10:22:00-04:00\",\"2024-06-06T10:23:00-04:00\",\"2024-06-06T10:24:00-04:00\",\"2024-06-06T10:25:00-04:00\",\"2024-06-06T10:26:00-04:00\",\"2024-06-06T10:27:00-04:00\",\"2024-06-06T10:28:00-04:00\",\"2024-06-06T10:29:00-04:00\",\"2024-06-06T10:30:00-04:00\",\"2024-06-06T10:31:00-04:00\",\"2024-06-06T10:32:00-04:00\",\"2024-06-06T10:33:00-04:00\",\"2024-06-06T10:34:00-04:00\",\"2024-06-06T10:35:00-04:00\",\"2024-06-06T10:36:00-04:00\",\"2024-06-06T10:37:00-04:00\",\"2024-06-06T10:38:00-04:00\",\"2024-06-06T10:39:00-04:00\",\"2024-06-06T10:40:00-04:00\",\"2024-06-06T10:41:00-04:00\",\"2024-06-06T10:42:00-04:00\",\"2024-06-06T10:43:00-04:00\",\"2024-06-06T10:44:00-04:00\",\"2024-06-06T10:45:00-04:00\",\"2024-06-06T10:46:00-04:00\",\"2024-06-06T10:47:00-04:00\",\"2024-06-06T10:48:00-04:00\",\"2024-06-06T10:49:00-04:00\",\"2024-06-06T10:50:00-04:00\",\"2024-06-06T10:51:00-04:00\",\"2024-06-06T10:52:00-04:00\",\"2024-06-06T10:53:00-04:00\",\"2024-06-06T10:54:00-04:00\",\"2024-06-06T10:55:00-04:00\",\"2024-06-06T10:56:00-04:00\",\"2024-06-06T10:57:00-04:00\",\"2024-06-06T10:58:00-04:00\",\"2024-06-06T10:59:00-04:00\",\"2024-06-06T11:00:00-04:00\",\"2024-06-06T11:01:00-04:00\",\"2024-06-06T11:02:00-04:00\",\"2024-06-06T11:03:00-04:00\",\"2024-06-06T11:04:00-04:00\",\"2024-06-06T11:05:00-04:00\",\"2024-06-06T11:06:00-04:00\",\"2024-06-06T11:07:00-04:00\",\"2024-06-06T11:08:00-04:00\",\"2024-06-06T11:09:00-04:00\",\"2024-06-06T11:10:00-04:00\",\"2024-06-06T11:11:00-04:00\",\"2024-06-06T11:12:00-04:00\",\"2024-06-06T11:13:00-04:00\",\"2024-06-06T11:14:00-04:00\",\"2024-06-06T11:15:00-04:00\",\"2024-06-06T11:16:00-04:00\",\"2024-06-06T11:17:00-04:00\",\"2024-06-06T11:18:00-04:00\",\"2024-06-06T11:19:00-04:00\",\"2024-06-06T11:20:00-04:00\",\"2024-06-06T11:21:00-04:00\",\"2024-06-06T11:22:00-04:00\",\"2024-06-06T11:23:00-04:00\",\"2024-06-06T11:24:00-04:00\",\"2024-06-06T11:25:00-04:00\",\"2024-06-06T11:26:00-04:00\",\"2024-06-06T11:27:00-04:00\",\"2024-06-06T11:28:00-04:00\",\"2024-06-06T11:29:00-04:00\",\"2024-06-06T11:30:00-04:00\",\"2024-06-06T11:31:00-04:00\",\"2024-06-06T11:32:00-04:00\",\"2024-06-06T11:33:00-04:00\",\"2024-06-06T11:34:00-04:00\",\"2024-06-06T11:35:00-04:00\",\"2024-06-06T11:36:00-04:00\",\"2024-06-06T11:37:00-04:00\",\"2024-06-06T11:38:00-04:00\",\"2024-06-06T11:39:00-04:00\",\"2024-06-06T11:40:00-04:00\",\"2024-06-06T11:41:00-04:00\",\"2024-06-06T11:42:00-04:00\",\"2024-06-06T11:43:00-04:00\",\"2024-06-06T11:44:00-04:00\",\"2024-06-06T11:45:00-04:00\",\"2024-06-06T11:46:00-04:00\",\"2024-06-06T11:47:00-04:00\",\"2024-06-06T11:48:00-04:00\",\"2024-06-06T11:49:00-04:00\",\"2024-06-06T11:50:00-04:00\",\"2024-06-06T11:51:00-04:00\",\"2024-06-06T11:52:00-04:00\",\"2024-06-06T11:53:00-04:00\",\"2024-06-06T11:54:00-04:00\",\"2024-06-06T11:55:00-04:00\",\"2024-06-06T11:56:00-04:00\",\"2024-06-06T11:57:00-04:00\",\"2024-06-06T11:58:00-04:00\",\"2024-06-06T11:59:00-04:00\",\"2024-06-06T12:00:00-04:00\",\"2024-06-06T12:01:00-04:00\",\"2024-06-06T12:02:00-04:00\",\"2024-06-06T12:03:00-04:00\",\"2024-06-06T12:04:00-04:00\",\"2024-06-06T12:05:00-04:00\",\"2024-06-06T12:06:00-04:00\",\"2024-06-06T12:07:00-04:00\",\"2024-06-06T12:08:00-04:00\",\"2024-06-06T12:09:00-04:00\",\"2024-06-06T12:10:00-04:00\",\"2024-06-06T12:11:00-04:00\",\"2024-06-06T12:12:00-04:00\",\"2024-06-06T12:13:00-04:00\",\"2024-06-06T12:14:00-04:00\",\"2024-06-06T12:15:00-04:00\",\"2024-06-06T12:16:00-04:00\",\"2024-06-06T12:17:00-04:00\",\"2024-06-06T12:18:00-04:00\",\"2024-06-06T12:19:00-04:00\",\"2024-06-06T12:20:00-04:00\",\"2024-06-06T12:21:00-04:00\",\"2024-06-06T12:22:00-04:00\",\"2024-06-06T12:23:00-04:00\",\"2024-06-06T12:24:00-04:00\",\"2024-06-06T12:25:00-04:00\",\"2024-06-06T12:26:00-04:00\",\"2024-06-06T12:27:00-04:00\",\"2024-06-06T12:28:00-04:00\",\"2024-06-06T12:29:00-04:00\",\"2024-06-06T12:30:00-04:00\",\"2024-06-06T12:31:00-04:00\",\"2024-06-06T12:32:00-04:00\",\"2024-06-06T12:33:00-04:00\",\"2024-06-06T12:34:00-04:00\",\"2024-06-06T12:35:00-04:00\",\"2024-06-06T12:36:00-04:00\",\"2024-06-06T12:37:00-04:00\",\"2024-06-06T12:38:00-04:00\",\"2024-06-06T12:39:00-04:00\",\"2024-06-06T12:40:00-04:00\",\"2024-06-06T12:41:00-04:00\",\"2024-06-06T12:42:00-04:00\",\"2024-06-06T12:43:00-04:00\",\"2024-06-06T12:44:00-04:00\",\"2024-06-06T12:45:00-04:00\",\"2024-06-06T12:46:00-04:00\",\"2024-06-06T12:47:00-04:00\",\"2024-06-06T12:48:00-04:00\",\"2024-06-06T12:49:00-04:00\",\"2024-06-06T12:50:00-04:00\",\"2024-06-06T12:51:00-04:00\",\"2024-06-06T12:52:00-04:00\",\"2024-06-06T12:53:00-04:00\",\"2024-06-06T12:54:00-04:00\",\"2024-06-06T12:55:00-04:00\",\"2024-06-06T12:56:00-04:00\",\"2024-06-06T12:57:00-04:00\",\"2024-06-06T12:58:00-04:00\",\"2024-06-06T12:59:00-04:00\",\"2024-06-06T13:00:00-04:00\",\"2024-06-06T13:01:00-04:00\",\"2024-06-06T13:02:00-04:00\",\"2024-06-06T13:03:00-04:00\",\"2024-06-06T13:04:00-04:00\",\"2024-06-06T13:05:00-04:00\",\"2024-06-06T13:06:00-04:00\",\"2024-06-06T13:07:00-04:00\",\"2024-06-06T13:08:00-04:00\",\"2024-06-06T13:09:00-04:00\",\"2024-06-06T13:10:00-04:00\",\"2024-06-06T13:11:00-04:00\",\"2024-06-06T13:12:00-04:00\",\"2024-06-06T13:13:00-04:00\",\"2024-06-06T13:14:00-04:00\",\"2024-06-06T13:15:00-04:00\",\"2024-06-06T13:16:00-04:00\",\"2024-06-06T13:17:00-04:00\",\"2024-06-06T13:18:00-04:00\",\"2024-06-06T13:19:00-04:00\",\"2024-06-06T13:20:00-04:00\",\"2024-06-06T13:21:00-04:00\",\"2024-06-06T13:22:00-04:00\",\"2024-06-06T13:23:00-04:00\",\"2024-06-06T13:24:00-04:00\",\"2024-06-06T13:25:00-04:00\",\"2024-06-06T13:26:00-04:00\",\"2024-06-06T13:27:00-04:00\",\"2024-06-06T13:28:00-04:00\",\"2024-06-06T13:29:00-04:00\",\"2024-06-06T13:30:00-04:00\",\"2024-06-06T13:31:00-04:00\",\"2024-06-06T13:32:00-04:00\",\"2024-06-06T13:33:00-04:00\",\"2024-06-06T13:34:00-04:00\",\"2024-06-06T13:35:00-04:00\",\"2024-06-06T13:36:00-04:00\",\"2024-06-06T13:37:00-04:00\",\"2024-06-06T13:38:00-04:00\",\"2024-06-06T13:39:00-04:00\",\"2024-06-06T13:40:00-04:00\",\"2024-06-06T13:41:00-04:00\",\"2024-06-06T13:42:00-04:00\",\"2024-06-06T13:43:00-04:00\",\"2024-06-06T13:44:00-04:00\",\"2024-06-06T13:45:00-04:00\",\"2024-06-06T13:46:00-04:00\",\"2024-06-06T13:47:00-04:00\",\"2024-06-06T13:48:00-04:00\",\"2024-06-06T13:49:00-04:00\",\"2024-06-06T13:50:00-04:00\",\"2024-06-06T13:51:00-04:00\",\"2024-06-06T13:52:00-04:00\",\"2024-06-06T13:53:00-04:00\",\"2024-06-06T13:54:00-04:00\",\"2024-06-06T13:55:00-04:00\",\"2024-06-06T13:56:00-04:00\",\"2024-06-06T13:57:00-04:00\",\"2024-06-06T13:58:00-04:00\",\"2024-06-06T13:59:00-04:00\",\"2024-06-06T14:00:00-04:00\",\"2024-06-06T14:01:00-04:00\",\"2024-06-06T14:02:00-04:00\",\"2024-06-06T14:03:00-04:00\",\"2024-06-06T14:04:00-04:00\",\"2024-06-06T14:05:00-04:00\",\"2024-06-06T14:06:00-04:00\",\"2024-06-06T14:07:00-04:00\",\"2024-06-06T14:08:00-04:00\",\"2024-06-06T14:09:00-04:00\",\"2024-06-06T14:10:00-04:00\",\"2024-06-06T14:11:00-04:00\",\"2024-06-06T14:12:00-04:00\",\"2024-06-06T14:13:00-04:00\",\"2024-06-06T14:14:00-04:00\",\"2024-06-06T14:15:00-04:00\",\"2024-06-06T14:16:00-04:00\",\"2024-06-06T14:17:00-04:00\",\"2024-06-06T14:18:00-04:00\",\"2024-06-06T14:19:00-04:00\",\"2024-06-06T14:20:00-04:00\",\"2024-06-06T14:21:00-04:00\",\"2024-06-06T14:22:00-04:00\",\"2024-06-06T14:23:00-04:00\",\"2024-06-06T14:24:00-04:00\",\"2024-06-06T14:25:00-04:00\",\"2024-06-06T14:26:00-04:00\",\"2024-06-06T14:27:00-04:00\",\"2024-06-06T14:28:00-04:00\",\"2024-06-06T14:29:00-04:00\",\"2024-06-06T14:30:00-04:00\",\"2024-06-06T14:31:00-04:00\",\"2024-06-06T14:32:00-04:00\",\"2024-06-06T14:33:00-04:00\",\"2024-06-06T14:34:00-04:00\",\"2024-06-06T14:35:00-04:00\",\"2024-06-06T14:36:00-04:00\",\"2024-06-06T14:37:00-04:00\",\"2024-06-06T14:38:00-04:00\",\"2024-06-06T14:39:00-04:00\",\"2024-06-06T14:40:00-04:00\",\"2024-06-06T14:41:00-04:00\",\"2024-06-06T14:42:00-04:00\",\"2024-06-06T14:43:00-04:00\",\"2024-06-06T14:44:00-04:00\",\"2024-06-06T14:45:00-04:00\",\"2024-06-06T14:46:00-04:00\",\"2024-06-06T14:47:00-04:00\",\"2024-06-06T14:48:00-04:00\",\"2024-06-06T14:49:00-04:00\",\"2024-06-06T14:50:00-04:00\",\"2024-06-06T14:51:00-04:00\",\"2024-06-06T14:52:00-04:00\",\"2024-06-06T14:53:00-04:00\",\"2024-06-06T14:54:00-04:00\",\"2024-06-06T14:55:00-04:00\",\"2024-06-06T14:56:00-04:00\",\"2024-06-06T14:57:00-04:00\",\"2024-06-06T14:58:00-04:00\",\"2024-06-06T14:59:00-04:00\",\"2024-06-06T15:00:00-04:00\",\"2024-06-06T15:01:00-04:00\",\"2024-06-06T15:02:00-04:00\",\"2024-06-06T15:03:00-04:00\",\"2024-06-06T15:04:00-04:00\",\"2024-06-06T15:05:00-04:00\",\"2024-06-06T15:06:00-04:00\",\"2024-06-06T15:07:00-04:00\",\"2024-06-06T15:08:00-04:00\",\"2024-06-06T15:09:00-04:00\",\"2024-06-06T15:10:00-04:00\",\"2024-06-06T15:11:00-04:00\",\"2024-06-06T15:12:00-04:00\",\"2024-06-06T15:13:00-04:00\",\"2024-06-06T15:14:00-04:00\",\"2024-06-06T15:15:00-04:00\",\"2024-06-06T15:16:00-04:00\",\"2024-06-06T15:17:00-04:00\",\"2024-06-06T15:18:00-04:00\",\"2024-06-06T15:19:00-04:00\",\"2024-06-06T15:20:00-04:00\",\"2024-06-06T15:21:00-04:00\",\"2024-06-06T15:22:00-04:00\",\"2024-06-06T15:23:00-04:00\",\"2024-06-06T15:24:00-04:00\",\"2024-06-06T15:25:00-04:00\",\"2024-06-06T15:26:00-04:00\",\"2024-06-06T15:27:00-04:00\",\"2024-06-06T15:28:00-04:00\",\"2024-06-06T15:29:00-04:00\",\"2024-06-06T15:30:00-04:00\",\"2024-06-06T15:31:00-04:00\",\"2024-06-06T15:32:00-04:00\",\"2024-06-06T15:33:00-04:00\",\"2024-06-06T15:34:00-04:00\",\"2024-06-06T15:35:00-04:00\",\"2024-06-06T15:36:00-04:00\",\"2024-06-06T15:37:00-04:00\",\"2024-06-06T15:38:00-04:00\",\"2024-06-06T15:39:00-04:00\",\"2024-06-06T15:40:00-04:00\",\"2024-06-06T15:41:00-04:00\",\"2024-06-06T15:42:00-04:00\",\"2024-06-06T15:43:00-04:00\",\"2024-06-06T15:44:00-04:00\",\"2024-06-06T15:45:00-04:00\",\"2024-06-06T15:46:00-04:00\",\"2024-06-06T15:47:00-04:00\",\"2024-06-06T15:48:00-04:00\",\"2024-06-06T15:49:00-04:00\",\"2024-06-06T15:50:00-04:00\",\"2024-06-06T15:51:00-04:00\",\"2024-06-06T15:52:00-04:00\",\"2024-06-06T15:53:00-04:00\",\"2024-06-06T15:54:00-04:00\",\"2024-06-06T15:55:00-04:00\",\"2024-06-06T15:56:00-04:00\",\"2024-06-06T15:57:00-04:00\",\"2024-06-06T15:58:00-04:00\",\"2024-06-06T15:59:00-04:00\"],\"xaxis\":\"x\",\"y\":[196.1300048828125,196.1300048828125,196.13812923431396,196.13676643371582,196.1223907470703,196.09989070892334,196.05969047546387,196.025071144104,195.98757076263428,195.95007038116455,195.91194534301758,195.85475730895996,195.81413173675537,195.77788162231445,195.74685668945312,195.71935653686523,195.68574333190918,195.65074348449707,195.60577487945557,195.5865125656128,195.57651329040527,195.57713222503662,195.58821296691895,195.59220695495605,195.59970664978027,195.61064434051514,195.62439441680908,195.6622076034546,195.68845748901367,195.71470737457275,195.7444887161255,195.77667617797852,195.8112268447876,195.83403873443604,195.86838245391846,195.88244438171387,195.88869380950928,195.88744926452637,195.89344310760498,195.8946933746338,195.89844417572021,195.90688133239746,195.9206314086914,195.93000602722168,195.94000625610352,195.95250606536865,195.9621868133545,195.97031211853027,195.98368072509766,196.00586795806885,196.01649284362793,196.0324306488037,196.0586805343628,196.1030559539795,196.14555644989014,196.1799440383911,196.20119380950928,196.20181941986084,196.1980686187744,196.20056819915771,196.1918182373047,196.17494297027588,196.15306758880615,196.11900424957275,196.0778226852417,196.0350103378296,196.00219821929932,195.97157287597656,195.94469833374023,195.8996982574463,195.85469818115234,195.8290605545044,195.8171854019165,195.81343460083008,195.8078098297119,195.7924976348877,195.78124809265137,195.77062320709229,195.75455474853516,195.738299369812,195.72861862182617,195.71955680847168,195.70986938476562,195.70049476623535,195.68768215179443,195.6864194869995,195.69391918182373,195.7020435333252,195.70016860961914,195.6970443725586,195.69329452514648,195.68548202514648,195.68298149108887,195.68235683441162,195.6874885559082,195.69735050201416,195.70530033111572,195.72186279296875,195.72936248779297,195.730299949646,195.73592472076416,195.73375034332275,195.72250080108643,195.70312595367432,195.69781303405762,195.70156288146973,195.7071876525879,195.7200002670288,195.72187519073486,195.71843719482422,195.71156787872314,195.71264934539795,195.71969318389893,195.71938037872314,195.72276210784912,195.72807502746582,195.7349500656128,195.742449760437,195.75057411193848,195.76276206970215,195.76838779449463,195.7637004852295,195.75807571411133,195.74838829040527,195.7497386932373,195.7563018798828,195.76254558563232,195.76085758209229,195.75741958618164,195.7552318572998,195.75310039520264,195.74810028076172,195.73591327667236,195.72310066223145,195.71130752563477,195.69849491119385,195.68411922454834,195.6781816482544,195.67130661010742,195.6691188812256,195.6589002609253,195.6429624557495,195.6273374557495,195.61058807373047,195.5918378829956,195.57527542114258,195.55840015411377,195.5477752685547,195.54401874542236,195.53651905059814,195.53206253051758,195.52232456207275,195.5138874053955,195.50500583648682,195.49500560760498,195.48469352722168,195.48043727874756,195.48046207427979,195.48577499389648,195.495680809021,195.503812789917,195.51497554779053,195.52903842926025,195.5415382385254,195.54598236083984,195.55223178863525,195.5528564453125,195.56696891784668,195.5797815322876,195.59272575378418,195.61178874969482,195.62866306304932,195.64116287231445,195.65545654296875,195.6651439666748,195.67180061340332,195.68023204803467,195.68563175201416,195.68281269073486,195.68249988555908,195.68431186676025,195.68931198120117,195.699312210083,195.69743728637695,195.69462490081787,195.69243717193604,195.68712425231934,195.68087482452393,195.67931270599365,195.67530632019043,195.67093086242676,195.66809940338135,195.6687240600586,195.66776752471924,195.6696491241455,195.66683673858643,195.66746139526367,195.66621112823486,195.6630859375,195.66496086120605,195.6668357849121,195.66714763641357,195.6668357849121,195.66996097564697,195.6708984375,195.67183685302734,195.67808723449707,195.68373107910156,195.68623065948486,195.69718742370605,195.71656227111816,195.73474979400635,195.74911880493164,195.7678689956665,195.78661918640137,195.80380725860596,195.82505702972412,195.84568214416504,195.8691062927246,195.89098072052002,195.91223049163818,195.92848014831543,195.93816757202148,195.9456672668457,195.95316791534424,195.952543258667,195.93973064422607,195.93028736114502,195.9202938079834,195.90810680389404,195.88998222351074,195.86404418945312,195.83498191833496,195.80654430389404,195.77078247070312,195.7373447418213,195.70912551879883,195.68756294250488,195.6691255569458,195.65537548065186,195.64181232452393,195.628999710083,195.62430572509766,195.62024879455566,195.61431121826172,195.60587310791016,195.60087299346924,195.60431098937988,195.60837364196777,195.6105613708496,195.61633586883545,195.6239366531372,195.62903022766113,195.63371753692627,195.6346549987793,195.63526821136475,195.63351821899414,195.63226795196533,195.6250867843628,195.6185245513916,195.6160249710083,195.61415004730225,195.61446285247803,195.61321258544922,195.60914993286133,195.61246871948242,195.6090316772461,195.59893131256104,195.58674430847168,195.57382583618164,195.56445121765137,195.55915069580078,195.5525884628296,195.54696369171143,195.54040145874023,195.5305576324463,195.52211952209473,195.5076446533203,195.48598194122314,195.45941925048828,195.4253568649292,195.3923511505127,195.3631944656372,195.33788204193115,195.32225704193115,195.31136322021484,195.29948806762695,195.28480052947998,195.27323818206787,195.2648000717163,195.2610502243042,195.2546443939209,195.250581741333,195.2613067626953,195.28015613555908,195.30390071868896,195.33515071868896,195.359525680542,195.38705730438232,195.41486930847168,195.43421268463135,195.44396305084229,195.44990062713623,195.458025932312,195.46468830108643,195.4690637588501,195.465313911438,195.46656322479248,195.46302032470703,195.4489574432373,195.43052005767822,195.41177558898926,195.39740657806396,195.38303089141846,195.366849899292,195.34903812408447,195.33125686645508,195.31969356536865,195.31219291687012,195.3018798828125,195.29146766662598,195.2820920944214,195.27771663665771,195.2767791748047,195.2791223526001,195.2827606201172,195.29151058197021,195.29901123046875,195.3008794784546,195.30181694030762,195.30118560791016,195.3005599975586,195.29993534088135,195.29712295532227,195.295560836792,195.29181098937988,195.28962326049805,195.28806114196777,195.29218006134033,195.28851127624512,195.28064918518066,195.27358627319336,195.261399269104,195.2470235824585,195.2338991165161,195.22046184539795,195.2157735824585,195.21421146392822,195.21233654022217,195.2173366546631,195.22452449798584,195.22952461242676,195.22796249389648,195.22546291351318,195.22142505645752,195.21868801116943,195.21962547302246,195.21867561340332,195.2214879989624,195.23180103302002,195.25136375427246,195.27511405944824,195.28855228424072,195.3004274368286,195.30886459350586,195.30542755126953,195.29355239868164,195.2835521697998,195.27917671203613,195.27730178833008,195.2678461074829,195.25581455230713,195.24081420898438,195.22706413269043,195.2117519378662,195.1936264038086,195.17080116271973,195.14330101013184,195.12392616271973,195.10548877716064,195.08861446380615,195.06361389160156,195.02611351013184,194.98048877716064,194.9379825592041,194.8817319869995,194.8311071395874,194.77579498291016,194.7361078262329,194.69423294067383],\"yaxis\":\"y\",\"type\":\"scattergl\"},{\"hovertemplate\":\"variable=upper_boll_16<br>Datetime=%{x}<br>value=%{y}<extra></extra>\",\"legendgroup\":\"upper_boll_16\",\"line\":{\"color\":\"#b6d1c3\",\"dash\":\"dot\"},\"marker\":{\"symbol\":\"circle\"},\"mode\":\"lines\",\"name\":\"upper_boll_16\",\"showlegend\":true,\"x\":[\"2024-06-06T09:30:00-04:00\",\"2024-06-06T09:31:00-04:00\",\"2024-06-06T09:32:00-04:00\",\"2024-06-06T09:33:00-04:00\",\"2024-06-06T09:34:00-04:00\",\"2024-06-06T09:35:00-04:00\",\"2024-06-06T09:36:00-04:00\",\"2024-06-06T09:37:00-04:00\",\"2024-06-06T09:38:00-04:00\",\"2024-06-06T09:39:00-04:00\",\"2024-06-06T09:40:00-04:00\",\"2024-06-06T09:41:00-04:00\",\"2024-06-06T09:42:00-04:00\",\"2024-06-06T09:43:00-04:00\",\"2024-06-06T09:44:00-04:00\",\"2024-06-06T09:45:00-04:00\",\"2024-06-06T09:46:00-04:00\",\"2024-06-06T09:47:00-04:00\",\"2024-06-06T09:48:00-04:00\",\"2024-06-06T09:49:00-04:00\",\"2024-06-06T09:50:00-04:00\",\"2024-06-06T09:51:00-04:00\",\"2024-06-06T09:52:00-04:00\",\"2024-06-06T09:53:00-04:00\",\"2024-06-06T09:54:00-04:00\",\"2024-06-06T09:55:00-04:00\",\"2024-06-06T09:56:00-04:00\",\"2024-06-06T09:57:00-04:00\",\"2024-06-06T09:58:00-04:00\",\"2024-06-06T09:59:00-04:00\",\"2024-06-06T10:00:00-04:00\",\"2024-06-06T10:01:00-04:00\",\"2024-06-06T10:02:00-04:00\",\"2024-06-06T10:03:00-04:00\",\"2024-06-06T10:04:00-04:00\",\"2024-06-06T10:05:00-04:00\",\"2024-06-06T10:06:00-04:00\",\"2024-06-06T10:07:00-04:00\",\"2024-06-06T10:08:00-04:00\",\"2024-06-06T10:09:00-04:00\",\"2024-06-06T10:10:00-04:00\",\"2024-06-06T10:11:00-04:00\",\"2024-06-06T10:12:00-04:00\",\"2024-06-06T10:13:00-04:00\",\"2024-06-06T10:14:00-04:00\",\"2024-06-06T10:15:00-04:00\",\"2024-06-06T10:16:00-04:00\",\"2024-06-06T10:17:00-04:00\",\"2024-06-06T10:18:00-04:00\",\"2024-06-06T10:19:00-04:00\",\"2024-06-06T10:20:00-04:00\",\"2024-06-06T10:21:00-04:00\",\"2024-06-06T10:22:00-04:00\",\"2024-06-06T10:23:00-04:00\",\"2024-06-06T10:24:00-04:00\",\"2024-06-06T10:25:00-04:00\",\"2024-06-06T10:26:00-04:00\",\"2024-06-06T10:27:00-04:00\",\"2024-06-06T10:28:00-04:00\",\"2024-06-06T10:29:00-04:00\",\"2024-06-06T10:30:00-04:00\",\"2024-06-06T10:31:00-04:00\",\"2024-06-06T10:32:00-04:00\",\"2024-06-06T10:33:00-04:00\",\"2024-06-06T10:34:00-04:00\",\"2024-06-06T10:35:00-04:00\",\"2024-06-06T10:36:00-04:00\",\"2024-06-06T10:37:00-04:00\",\"2024-06-06T10:38:00-04:00\",\"2024-06-06T10:39:00-04:00\",\"2024-06-06T10:40:00-04:00\",\"2024-06-06T10:41:00-04:00\",\"2024-06-06T10:42:00-04:00\",\"2024-06-06T10:43:00-04:00\",\"2024-06-06T10:44:00-04:00\",\"2024-06-06T10:45:00-04:00\",\"2024-06-06T10:46:00-04:00\",\"2024-06-06T10:47:00-04:00\",\"2024-06-06T10:48:00-04:00\",\"2024-06-06T10:49:00-04:00\",\"2024-06-06T10:50:00-04:00\",\"2024-06-06T10:51:00-04:00\",\"2024-06-06T10:52:00-04:00\",\"2024-06-06T10:53:00-04:00\",\"2024-06-06T10:54:00-04:00\",\"2024-06-06T10:55:00-04:00\",\"2024-06-06T10:56:00-04:00\",\"2024-06-06T10:57:00-04:00\",\"2024-06-06T10:58:00-04:00\",\"2024-06-06T10:59:00-04:00\",\"2024-06-06T11:00:00-04:00\",\"2024-06-06T11:01:00-04:00\",\"2024-06-06T11:02:00-04:00\",\"2024-06-06T11:03:00-04:00\",\"2024-06-06T11:04:00-04:00\",\"2024-06-06T11:05:00-04:00\",\"2024-06-06T11:06:00-04:00\",\"2024-06-06T11:07:00-04:00\",\"2024-06-06T11:08:00-04:00\",\"2024-06-06T11:09:00-04:00\",\"2024-06-06T11:10:00-04:00\",\"2024-06-06T11:11:00-04:00\",\"2024-06-06T11:12:00-04:00\",\"2024-06-06T11:13:00-04:00\",\"2024-06-06T11:14:00-04:00\",\"2024-06-06T11:15:00-04:00\",\"2024-06-06T11:16:00-04:00\",\"2024-06-06T11:17:00-04:00\",\"2024-06-06T11:18:00-04:00\",\"2024-06-06T11:19:00-04:00\",\"2024-06-06T11:20:00-04:00\",\"2024-06-06T11:21:00-04:00\",\"2024-06-06T11:22:00-04:00\",\"2024-06-06T11:23:00-04:00\",\"2024-06-06T11:24:00-04:00\",\"2024-06-06T11:25:00-04:00\",\"2024-06-06T11:26:00-04:00\",\"2024-06-06T11:27:00-04:00\",\"2024-06-06T11:28:00-04:00\",\"2024-06-06T11:29:00-04:00\",\"2024-06-06T11:30:00-04:00\",\"2024-06-06T11:31:00-04:00\",\"2024-06-06T11:32:00-04:00\",\"2024-06-06T11:33:00-04:00\",\"2024-06-06T11:34:00-04:00\",\"2024-06-06T11:35:00-04:00\",\"2024-06-06T11:36:00-04:00\",\"2024-06-06T11:37:00-04:00\",\"2024-06-06T11:38:00-04:00\",\"2024-06-06T11:39:00-04:00\",\"2024-06-06T11:40:00-04:00\",\"2024-06-06T11:41:00-04:00\",\"2024-06-06T11:42:00-04:00\",\"2024-06-06T11:43:00-04:00\",\"2024-06-06T11:44:00-04:00\",\"2024-06-06T11:45:00-04:00\",\"2024-06-06T11:46:00-04:00\",\"2024-06-06T11:47:00-04:00\",\"2024-06-06T11:48:00-04:00\",\"2024-06-06T11:49:00-04:00\",\"2024-06-06T11:50:00-04:00\",\"2024-06-06T11:51:00-04:00\",\"2024-06-06T11:52:00-04:00\",\"2024-06-06T11:53:00-04:00\",\"2024-06-06T11:54:00-04:00\",\"2024-06-06T11:55:00-04:00\",\"2024-06-06T11:56:00-04:00\",\"2024-06-06T11:57:00-04:00\",\"2024-06-06T11:58:00-04:00\",\"2024-06-06T11:59:00-04:00\",\"2024-06-06T12:00:00-04:00\",\"2024-06-06T12:01:00-04:00\",\"2024-06-06T12:02:00-04:00\",\"2024-06-06T12:03:00-04:00\",\"2024-06-06T12:04:00-04:00\",\"2024-06-06T12:05:00-04:00\",\"2024-06-06T12:06:00-04:00\",\"2024-06-06T12:07:00-04:00\",\"2024-06-06T12:08:00-04:00\",\"2024-06-06T12:09:00-04:00\",\"2024-06-06T12:10:00-04:00\",\"2024-06-06T12:11:00-04:00\",\"2024-06-06T12:12:00-04:00\",\"2024-06-06T12:13:00-04:00\",\"2024-06-06T12:14:00-04:00\",\"2024-06-06T12:15:00-04:00\",\"2024-06-06T12:16:00-04:00\",\"2024-06-06T12:17:00-04:00\",\"2024-06-06T12:18:00-04:00\",\"2024-06-06T12:19:00-04:00\",\"2024-06-06T12:20:00-04:00\",\"2024-06-06T12:21:00-04:00\",\"2024-06-06T12:22:00-04:00\",\"2024-06-06T12:23:00-04:00\",\"2024-06-06T12:24:00-04:00\",\"2024-06-06T12:25:00-04:00\",\"2024-06-06T12:26:00-04:00\",\"2024-06-06T12:27:00-04:00\",\"2024-06-06T12:28:00-04:00\",\"2024-06-06T12:29:00-04:00\",\"2024-06-06T12:30:00-04:00\",\"2024-06-06T12:31:00-04:00\",\"2024-06-06T12:32:00-04:00\",\"2024-06-06T12:33:00-04:00\",\"2024-06-06T12:34:00-04:00\",\"2024-06-06T12:35:00-04:00\",\"2024-06-06T12:36:00-04:00\",\"2024-06-06T12:37:00-04:00\",\"2024-06-06T12:38:00-04:00\",\"2024-06-06T12:39:00-04:00\",\"2024-06-06T12:40:00-04:00\",\"2024-06-06T12:41:00-04:00\",\"2024-06-06T12:42:00-04:00\",\"2024-06-06T12:43:00-04:00\",\"2024-06-06T12:44:00-04:00\",\"2024-06-06T12:45:00-04:00\",\"2024-06-06T12:46:00-04:00\",\"2024-06-06T12:47:00-04:00\",\"2024-06-06T12:48:00-04:00\",\"2024-06-06T12:49:00-04:00\",\"2024-06-06T12:50:00-04:00\",\"2024-06-06T12:51:00-04:00\",\"2024-06-06T12:52:00-04:00\",\"2024-06-06T12:53:00-04:00\",\"2024-06-06T12:54:00-04:00\",\"2024-06-06T12:55:00-04:00\",\"2024-06-06T12:56:00-04:00\",\"2024-06-06T12:57:00-04:00\",\"2024-06-06T12:58:00-04:00\",\"2024-06-06T12:59:00-04:00\",\"2024-06-06T13:00:00-04:00\",\"2024-06-06T13:01:00-04:00\",\"2024-06-06T13:02:00-04:00\",\"2024-06-06T13:03:00-04:00\",\"2024-06-06T13:04:00-04:00\",\"2024-06-06T13:05:00-04:00\",\"2024-06-06T13:06:00-04:00\",\"2024-06-06T13:07:00-04:00\",\"2024-06-06T13:08:00-04:00\",\"2024-06-06T13:09:00-04:00\",\"2024-06-06T13:10:00-04:00\",\"2024-06-06T13:11:00-04:00\",\"2024-06-06T13:12:00-04:00\",\"2024-06-06T13:13:00-04:00\",\"2024-06-06T13:14:00-04:00\",\"2024-06-06T13:15:00-04:00\",\"2024-06-06T13:16:00-04:00\",\"2024-06-06T13:17:00-04:00\",\"2024-06-06T13:18:00-04:00\",\"2024-06-06T13:19:00-04:00\",\"2024-06-06T13:20:00-04:00\",\"2024-06-06T13:21:00-04:00\",\"2024-06-06T13:22:00-04:00\",\"2024-06-06T13:23:00-04:00\",\"2024-06-06T13:24:00-04:00\",\"2024-06-06T13:25:00-04:00\",\"2024-06-06T13:26:00-04:00\",\"2024-06-06T13:27:00-04:00\",\"2024-06-06T13:28:00-04:00\",\"2024-06-06T13:29:00-04:00\",\"2024-06-06T13:30:00-04:00\",\"2024-06-06T13:31:00-04:00\",\"2024-06-06T13:32:00-04:00\",\"2024-06-06T13:33:00-04:00\",\"2024-06-06T13:34:00-04:00\",\"2024-06-06T13:35:00-04:00\",\"2024-06-06T13:36:00-04:00\",\"2024-06-06T13:37:00-04:00\",\"2024-06-06T13:38:00-04:00\",\"2024-06-06T13:39:00-04:00\",\"2024-06-06T13:40:00-04:00\",\"2024-06-06T13:41:00-04:00\",\"2024-06-06T13:42:00-04:00\",\"2024-06-06T13:43:00-04:00\",\"2024-06-06T13:44:00-04:00\",\"2024-06-06T13:45:00-04:00\",\"2024-06-06T13:46:00-04:00\",\"2024-06-06T13:47:00-04:00\",\"2024-06-06T13:48:00-04:00\",\"2024-06-06T13:49:00-04:00\",\"2024-06-06T13:50:00-04:00\",\"2024-06-06T13:51:00-04:00\",\"2024-06-06T13:52:00-04:00\",\"2024-06-06T13:53:00-04:00\",\"2024-06-06T13:54:00-04:00\",\"2024-06-06T13:55:00-04:00\",\"2024-06-06T13:56:00-04:00\",\"2024-06-06T13:57:00-04:00\",\"2024-06-06T13:58:00-04:00\",\"2024-06-06T13:59:00-04:00\",\"2024-06-06T14:00:00-04:00\",\"2024-06-06T14:01:00-04:00\",\"2024-06-06T14:02:00-04:00\",\"2024-06-06T14:03:00-04:00\",\"2024-06-06T14:04:00-04:00\",\"2024-06-06T14:05:00-04:00\",\"2024-06-06T14:06:00-04:00\",\"2024-06-06T14:07:00-04:00\",\"2024-06-06T14:08:00-04:00\",\"2024-06-06T14:09:00-04:00\",\"2024-06-06T14:10:00-04:00\",\"2024-06-06T14:11:00-04:00\",\"2024-06-06T14:12:00-04:00\",\"2024-06-06T14:13:00-04:00\",\"2024-06-06T14:14:00-04:00\",\"2024-06-06T14:15:00-04:00\",\"2024-06-06T14:16:00-04:00\",\"2024-06-06T14:17:00-04:00\",\"2024-06-06T14:18:00-04:00\",\"2024-06-06T14:19:00-04:00\",\"2024-06-06T14:20:00-04:00\",\"2024-06-06T14:21:00-04:00\",\"2024-06-06T14:22:00-04:00\",\"2024-06-06T14:23:00-04:00\",\"2024-06-06T14:24:00-04:00\",\"2024-06-06T14:25:00-04:00\",\"2024-06-06T14:26:00-04:00\",\"2024-06-06T14:27:00-04:00\",\"2024-06-06T14:28:00-04:00\",\"2024-06-06T14:29:00-04:00\",\"2024-06-06T14:30:00-04:00\",\"2024-06-06T14:31:00-04:00\",\"2024-06-06T14:32:00-04:00\",\"2024-06-06T14:33:00-04:00\",\"2024-06-06T14:34:00-04:00\",\"2024-06-06T14:35:00-04:00\",\"2024-06-06T14:36:00-04:00\",\"2024-06-06T14:37:00-04:00\",\"2024-06-06T14:38:00-04:00\",\"2024-06-06T14:39:00-04:00\",\"2024-06-06T14:40:00-04:00\",\"2024-06-06T14:41:00-04:00\",\"2024-06-06T14:42:00-04:00\",\"2024-06-06T14:43:00-04:00\",\"2024-06-06T14:44:00-04:00\",\"2024-06-06T14:45:00-04:00\",\"2024-06-06T14:46:00-04:00\",\"2024-06-06T14:47:00-04:00\",\"2024-06-06T14:48:00-04:00\",\"2024-06-06T14:49:00-04:00\",\"2024-06-06T14:50:00-04:00\",\"2024-06-06T14:51:00-04:00\",\"2024-06-06T14:52:00-04:00\",\"2024-06-06T14:53:00-04:00\",\"2024-06-06T14:54:00-04:00\",\"2024-06-06T14:55:00-04:00\",\"2024-06-06T14:56:00-04:00\",\"2024-06-06T14:57:00-04:00\",\"2024-06-06T14:58:00-04:00\",\"2024-06-06T14:59:00-04:00\",\"2024-06-06T15:00:00-04:00\",\"2024-06-06T15:01:00-04:00\",\"2024-06-06T15:02:00-04:00\",\"2024-06-06T15:03:00-04:00\",\"2024-06-06T15:04:00-04:00\",\"2024-06-06T15:05:00-04:00\",\"2024-06-06T15:06:00-04:00\",\"2024-06-06T15:07:00-04:00\",\"2024-06-06T15:08:00-04:00\",\"2024-06-06T15:09:00-04:00\",\"2024-06-06T15:10:00-04:00\",\"2024-06-06T15:11:00-04:00\",\"2024-06-06T15:12:00-04:00\",\"2024-06-06T15:13:00-04:00\",\"2024-06-06T15:14:00-04:00\",\"2024-06-06T15:15:00-04:00\",\"2024-06-06T15:16:00-04:00\",\"2024-06-06T15:17:00-04:00\",\"2024-06-06T15:18:00-04:00\",\"2024-06-06T15:19:00-04:00\",\"2024-06-06T15:20:00-04:00\",\"2024-06-06T15:21:00-04:00\",\"2024-06-06T15:22:00-04:00\",\"2024-06-06T15:23:00-04:00\",\"2024-06-06T15:24:00-04:00\",\"2024-06-06T15:25:00-04:00\",\"2024-06-06T15:26:00-04:00\",\"2024-06-06T15:27:00-04:00\",\"2024-06-06T15:28:00-04:00\",\"2024-06-06T15:29:00-04:00\",\"2024-06-06T15:30:00-04:00\",\"2024-06-06T15:31:00-04:00\",\"2024-06-06T15:32:00-04:00\",\"2024-06-06T15:33:00-04:00\",\"2024-06-06T15:34:00-04:00\",\"2024-06-06T15:35:00-04:00\",\"2024-06-06T15:36:00-04:00\",\"2024-06-06T15:37:00-04:00\",\"2024-06-06T15:38:00-04:00\",\"2024-06-06T15:39:00-04:00\",\"2024-06-06T15:40:00-04:00\",\"2024-06-06T15:41:00-04:00\",\"2024-06-06T15:42:00-04:00\",\"2024-06-06T15:43:00-04:00\",\"2024-06-06T15:44:00-04:00\",\"2024-06-06T15:45:00-04:00\",\"2024-06-06T15:46:00-04:00\",\"2024-06-06T15:47:00-04:00\",\"2024-06-06T15:48:00-04:00\",\"2024-06-06T15:49:00-04:00\",\"2024-06-06T15:50:00-04:00\",\"2024-06-06T15:51:00-04:00\",\"2024-06-06T15:52:00-04:00\",\"2024-06-06T15:53:00-04:00\",\"2024-06-06T15:54:00-04:00\",\"2024-06-06T15:55:00-04:00\",\"2024-06-06T15:56:00-04:00\",\"2024-06-06T15:57:00-04:00\",\"2024-06-06T15:58:00-04:00\",\"2024-06-06T15:59:00-04:00\"],\"xaxis\":\"x\",\"y\":[196.1300048828125,196.1300048828125,196.17062664031982,196.17007434563303,196.1903859453793,196.21105677984275,196.2484554857168,196.2478157471503,196.24000061716873,196.22361460738554,196.2008191092103,196.18516929471284,196.14838306206448,196.1070039108487,196.06374217306035,196.0194205165966,195.96622347568808,195.90588571079144,195.80327189124688,195.74238280326978,195.7151068762927,195.71666643460176,195.7271337800938,195.73167371479252,195.7388311032317,195.75079853226046,195.76584914791061,195.7615124685384,195.79181386053088,195.83283454637953,195.89612058071657,195.96595734222382,196.01452337283538,196.02876048297097,196.05621641890886,196.07321677181085,196.07609706210263,196.07568739276513,196.0755210721462,196.0749748255989,196.0738536500651,196.07548036256108,196.08359034451038,196.0910940482639,196.10404634365196,196.12631322157117,196.14917136409775,196.1708825632291,196.2029298626733,196.23747592084953,196.2559826115037,196.28084282320341,196.30759264300704,196.35837576461694,196.3965231395775,196.39508151777179,196.38065239380833,196.37994740405642,196.38215987276632,196.3816024526439,196.38318794260059,196.379794851382,196.36618282531379,196.34430814615595,196.31619342534577,196.2934069013593,196.26343802726362,196.2267257393148,196.18989814645514,196.10486622612524,196.0051133254528,195.94609631300185,195.91895177602424,195.91501643649383,195.90673610961952,195.8757637984816,195.85804783811275,195.84142482734464,195.81932417534,195.82311642843894,195.82600668679734,195.83439652335218,195.82974652842083,195.81955043518897,195.80283843838492,195.80095600891724,195.81456671594051,195.8341440602025,195.83007238949014,195.8252336106498,195.8188089614977,195.81012292997926,195.80685458718904,195.80600203593002,195.81175327753658,195.81432282255363,195.8153534626344,195.81037105731994,195.80976122276147,195.80966807307252,195.8103690613052,195.8088904079723,195.79406241377225,195.75363294851942,195.7373674292444,195.7476829184032,195.76388411085716,195.7832821934444,195.78496907010464,195.78311871534967,195.77955777241309,195.7803713412329,195.7887860870315,195.78845895290638,195.79215222186835,195.79514645737802,195.80610491968503,195.81541469831424,195.82093753932347,195.82547228866582,195.83339334142457,195.8289777041781,195.82013867518853,195.8080280729762,195.8091785341093,195.81139944378307,195.80702522959334,195.8080936673786,195.80478273650607,195.80517666524625,195.80381823861072,195.80388558440703,195.7949821957361,195.7859811584822,195.7783617951428,195.76398179130237,195.74250188818846,195.73695838930027,195.7274993321463,195.72521651211275,195.71385073380492,195.700461706921,195.6929979828996,195.69419382267694,195.68037420864195,195.66980631001655,195.649407142412,195.63601072042667,195.62976428292194,195.62135157430498,195.61511918902747,195.6047657253024,195.59418369902838,195.57923179484146,195.5600412728543,195.53379907914365,195.52241628109715,195.52246296369918,195.53279012836563,195.54236265908662,195.54961331789528,195.56075164810738,195.58657341564032,195.6105986175501,195.61915500878857,195.62457010536718,195.62503294754507,195.64062772153738,195.65327816295724,195.6671928389728,195.69410058434437,195.71201231919883,195.7220918453196,195.73280909131802,195.74008117733692,195.74217168520244,195.74411026102152,195.74568682455288,195.7444380622732,195.74409902615815,195.7450291727968,195.74481472193438,195.73797859170338,195.7377933204093,195.73809628926998,195.73676047627194,195.7240974776641,195.71281837655104,195.70979293672596,195.70044935806197,195.69376264710357,195.6930987457154,195.69455171524442,195.6932331738766,195.69316794597285,195.69107720725268,195.69191658656467,195.69103653636728,195.68648075349577,195.6884384421022,195.68846040058656,195.68870302386702,195.68791507936467,195.69352059074012,195.6957823173787,195.69736142346048,195.70947708629114,195.71393662345963,195.71978310071742,195.74876279281253,195.8009972010096,195.831967023278,195.8543621733186,195.8807239661331,195.90343659464915,195.92407119836113,195.94822047157567,195.96788163329595,195.9963160313466,196.01909673927767,196.0364661226844,196.03861220294667,196.03787738911046,196.0314078919747,196.0241649464565,196.02459160769772,196.0254066937451,196.02485524463415,196.02505897102446,196.0202667711876,196.0173248720603,196.0169586433685,196.00370502282198,195.98458684422192,195.94988547469808,195.9086233918527,195.8616221514115,195.82678933267002,195.79668166043072,195.77488847459102,195.74745850065256,195.721233273079,195.7108949147346,195.7003383017559,195.68735141111603,195.6686539004847,195.66222476959229,195.66352789484768,195.66467673394317,195.66466751627212,195.661827438693,195.66283039304204,195.66966744999968,195.6762925213634,195.6768362592201,195.67729317231496,195.6755608615937,195.67471751470683,195.66685071822067,195.65279626078865,195.64888862774433,195.64762220615086,195.6476164836792,195.64750664784188,195.64857867273383,195.6510569203061,195.65195995360887,195.6505595465444,195.64091380133968,195.62764705332768,195.62171741488643,195.61383087955082,195.60575933531948,195.59838774003958,195.594632349841,195.58560134866752,195.5735866625365,195.57013624229063,195.5745165362851,195.57809266451443,195.59014420717668,195.5664473550497,195.55037931073983,195.53463608877323,195.5164591342681,195.50106495860558,195.48414283889696,195.45759027211798,195.43546375831116,195.41650456720427,195.40801176092668,195.39477985448804,195.38455528871177,195.41049181439496,195.44453365302306,195.4755033680552,195.49054094007107,195.50589794667758,195.51535130770327,195.51790897329985,195.53003227338465,195.53337222293288,195.5307991165347,195.52996908577376,195.5284566197659,195.52930349644222,195.53108829264852,195.53015507321254,195.5310977267866,195.52504527861663,195.51797080235448,195.50818617177717,195.49840383148106,195.48631290997088,195.469357901043,195.44688909460803,195.41622310956197,195.39832289691208,195.39040840707335,195.3726431960136,195.3527014734176,195.32551003824156,195.31718183054656,195.314021804047,195.32250898852004,195.33066665410075,195.34456738577126,195.35126883567128,195.35217883255945,195.3524520908572,195.35256596560794,195.35278888341767,195.35273834518435,195.3524795451839,195.35236864215094,195.35194947345636,195.35122675971968,195.34956574072734,195.35529439735717,195.34939754047824,195.33446998915596,195.32309305770258,195.305340077017,195.29722273000175,195.29771821528692,195.2965132172218,195.29284510650945,195.2912287845264,195.288787601531,195.29754358741857,195.31130383761334,195.31800645272773,195.3165617637685,195.3130546755792,195.30446550489114,195.29979540870312,195.3014490615331,195.3002083274871,195.30274132895386,195.30971690653794,195.3279073758585,195.3471428460929,195.3586989484635,195.37156268693172,195.3777963033906,195.3756577831697,195.3713936192637,195.37089336889755,195.37202764217258,195.37129231524435,195.36876295618336,195.3693670697728,195.36555500474577,195.3640160690382,195.36090954823683,195.350699854869,195.32344259242154,195.28332354769478,195.24973865575078,195.20847148888504,195.1672238360728,195.1490862987481,195.17475647184412,195.19215573699407,195.1813895177905,195.15963439224544,195.13346844286488,195.11249130118804,195.07636243380864,195.03907355561964],\"yaxis\":\"y\",\"type\":\"scattergl\"},{\"hovertemplate\":\"variable=lower_boll_16<br>Datetime=%{x}<br>value=%{y}<extra></extra>\",\"legendgroup\":\"lower_boll_16\",\"line\":{\"color\":\"#b6d1c3\",\"dash\":\"dot\"},\"marker\":{\"symbol\":\"circle\"},\"mode\":\"lines\",\"name\":\"lower_boll_16\",\"showlegend\":true,\"x\":[\"2024-06-06T09:30:00-04:00\",\"2024-06-06T09:31:00-04:00\",\"2024-06-06T09:32:00-04:00\",\"2024-06-06T09:33:00-04:00\",\"2024-06-06T09:34:00-04:00\",\"2024-06-06T09:35:00-04:00\",\"2024-06-06T09:36:00-04:00\",\"2024-06-06T09:37:00-04:00\",\"2024-06-06T09:38:00-04:00\",\"2024-06-06T09:39:00-04:00\",\"2024-06-06T09:40:00-04:00\",\"2024-06-06T09:41:00-04:00\",\"2024-06-06T09:42:00-04:00\",\"2024-06-06T09:43:00-04:00\",\"2024-06-06T09:44:00-04:00\",\"2024-06-06T09:45:00-04:00\",\"2024-06-06T09:46:00-04:00\",\"2024-06-06T09:47:00-04:00\",\"2024-06-06T09:48:00-04:00\",\"2024-06-06T09:49:00-04:00\",\"2024-06-06T09:50:00-04:00\",\"2024-06-06T09:51:00-04:00\",\"2024-06-06T09:52:00-04:00\",\"2024-06-06T09:53:00-04:00\",\"2024-06-06T09:54:00-04:00\",\"2024-06-06T09:55:00-04:00\",\"2024-06-06T09:56:00-04:00\",\"2024-06-06T09:57:00-04:00\",\"2024-06-06T09:58:00-04:00\",\"2024-06-06T09:59:00-04:00\",\"2024-06-06T10:00:00-04:00\",\"2024-06-06T10:01:00-04:00\",\"2024-06-06T10:02:00-04:00\",\"2024-06-06T10:03:00-04:00\",\"2024-06-06T10:04:00-04:00\",\"2024-06-06T10:05:00-04:00\",\"2024-06-06T10:06:00-04:00\",\"2024-06-06T10:07:00-04:00\",\"2024-06-06T10:08:00-04:00\",\"2024-06-06T10:09:00-04:00\",\"2024-06-06T10:10:00-04:00\",\"2024-06-06T10:11:00-04:00\",\"2024-06-06T10:12:00-04:00\",\"2024-06-06T10:13:00-04:00\",\"2024-06-06T10:14:00-04:00\",\"2024-06-06T10:15:00-04:00\",\"2024-06-06T10:16:00-04:00\",\"2024-06-06T10:17:00-04:00\",\"2024-06-06T10:18:00-04:00\",\"2024-06-06T10:19:00-04:00\",\"2024-06-06T10:20:00-04:00\",\"2024-06-06T10:21:00-04:00\",\"2024-06-06T10:22:00-04:00\",\"2024-06-06T10:23:00-04:00\",\"2024-06-06T10:24:00-04:00\",\"2024-06-06T10:25:00-04:00\",\"2024-06-06T10:26:00-04:00\",\"2024-06-06T10:27:00-04:00\",\"2024-06-06T10:28:00-04:00\",\"2024-06-06T10:29:00-04:00\",\"2024-06-06T10:30:00-04:00\",\"2024-06-06T10:31:00-04:00\",\"2024-06-06T10:32:00-04:00\",\"2024-06-06T10:33:00-04:00\",\"2024-06-06T10:34:00-04:00\",\"2024-06-06T10:35:00-04:00\",\"2024-06-06T10:36:00-04:00\",\"2024-06-06T10:37:00-04:00\",\"2024-06-06T10:38:00-04:00\",\"2024-06-06T10:39:00-04:00\",\"2024-06-06T10:40:00-04:00\",\"2024-06-06T10:41:00-04:00\",\"2024-06-06T10:42:00-04:00\",\"2024-06-06T10:43:00-04:00\",\"2024-06-06T10:44:00-04:00\",\"2024-06-06T10:45:00-04:00\",\"2024-06-06T10:46:00-04:00\",\"2024-06-06T10:47:00-04:00\",\"2024-06-06T10:48:00-04:00\",\"2024-06-06T10:49:00-04:00\",\"2024-06-06T10:50:00-04:00\",\"2024-06-06T10:51:00-04:00\",\"2024-06-06T10:52:00-04:00\",\"2024-06-06T10:53:00-04:00\",\"2024-06-06T10:54:00-04:00\",\"2024-06-06T10:55:00-04:00\",\"2024-06-06T10:56:00-04:00\",\"2024-06-06T10:57:00-04:00\",\"2024-06-06T10:58:00-04:00\",\"2024-06-06T10:59:00-04:00\",\"2024-06-06T11:00:00-04:00\",\"2024-06-06T11:01:00-04:00\",\"2024-06-06T11:02:00-04:00\",\"2024-06-06T11:03:00-04:00\",\"2024-06-06T11:04:00-04:00\",\"2024-06-06T11:05:00-04:00\",\"2024-06-06T11:06:00-04:00\",\"2024-06-06T11:07:00-04:00\",\"2024-06-06T11:08:00-04:00\",\"2024-06-06T11:09:00-04:00\",\"2024-06-06T11:10:00-04:00\",\"2024-06-06T11:11:00-04:00\",\"2024-06-06T11:12:00-04:00\",\"2024-06-06T11:13:00-04:00\",\"2024-06-06T11:14:00-04:00\",\"2024-06-06T11:15:00-04:00\",\"2024-06-06T11:16:00-04:00\",\"2024-06-06T11:17:00-04:00\",\"2024-06-06T11:18:00-04:00\",\"2024-06-06T11:19:00-04:00\",\"2024-06-06T11:20:00-04:00\",\"2024-06-06T11:21:00-04:00\",\"2024-06-06T11:22:00-04:00\",\"2024-06-06T11:23:00-04:00\",\"2024-06-06T11:24:00-04:00\",\"2024-06-06T11:25:00-04:00\",\"2024-06-06T11:26:00-04:00\",\"2024-06-06T11:27:00-04:00\",\"2024-06-06T11:28:00-04:00\",\"2024-06-06T11:29:00-04:00\",\"2024-06-06T11:30:00-04:00\",\"2024-06-06T11:31:00-04:00\",\"2024-06-06T11:32:00-04:00\",\"2024-06-06T11:33:00-04:00\",\"2024-06-06T11:34:00-04:00\",\"2024-06-06T11:35:00-04:00\",\"2024-06-06T11:36:00-04:00\",\"2024-06-06T11:37:00-04:00\",\"2024-06-06T11:38:00-04:00\",\"2024-06-06T11:39:00-04:00\",\"2024-06-06T11:40:00-04:00\",\"2024-06-06T11:41:00-04:00\",\"2024-06-06T11:42:00-04:00\",\"2024-06-06T11:43:00-04:00\",\"2024-06-06T11:44:00-04:00\",\"2024-06-06T11:45:00-04:00\",\"2024-06-06T11:46:00-04:00\",\"2024-06-06T11:47:00-04:00\",\"2024-06-06T11:48:00-04:00\",\"2024-06-06T11:49:00-04:00\",\"2024-06-06T11:50:00-04:00\",\"2024-06-06T11:51:00-04:00\",\"2024-06-06T11:52:00-04:00\",\"2024-06-06T11:53:00-04:00\",\"2024-06-06T11:54:00-04:00\",\"2024-06-06T11:55:00-04:00\",\"2024-06-06T11:56:00-04:00\",\"2024-06-06T11:57:00-04:00\",\"2024-06-06T11:58:00-04:00\",\"2024-06-06T11:59:00-04:00\",\"2024-06-06T12:00:00-04:00\",\"2024-06-06T12:01:00-04:00\",\"2024-06-06T12:02:00-04:00\",\"2024-06-06T12:03:00-04:00\",\"2024-06-06T12:04:00-04:00\",\"2024-06-06T12:05:00-04:00\",\"2024-06-06T12:06:00-04:00\",\"2024-06-06T12:07:00-04:00\",\"2024-06-06T12:08:00-04:00\",\"2024-06-06T12:09:00-04:00\",\"2024-06-06T12:10:00-04:00\",\"2024-06-06T12:11:00-04:00\",\"2024-06-06T12:12:00-04:00\",\"2024-06-06T12:13:00-04:00\",\"2024-06-06T12:14:00-04:00\",\"2024-06-06T12:15:00-04:00\",\"2024-06-06T12:16:00-04:00\",\"2024-06-06T12:17:00-04:00\",\"2024-06-06T12:18:00-04:00\",\"2024-06-06T12:19:00-04:00\",\"2024-06-06T12:20:00-04:00\",\"2024-06-06T12:21:00-04:00\",\"2024-06-06T12:22:00-04:00\",\"2024-06-06T12:23:00-04:00\",\"2024-06-06T12:24:00-04:00\",\"2024-06-06T12:25:00-04:00\",\"2024-06-06T12:26:00-04:00\",\"2024-06-06T12:27:00-04:00\",\"2024-06-06T12:28:00-04:00\",\"2024-06-06T12:29:00-04:00\",\"2024-06-06T12:30:00-04:00\",\"2024-06-06T12:31:00-04:00\",\"2024-06-06T12:32:00-04:00\",\"2024-06-06T12:33:00-04:00\",\"2024-06-06T12:34:00-04:00\",\"2024-06-06T12:35:00-04:00\",\"2024-06-06T12:36:00-04:00\",\"2024-06-06T12:37:00-04:00\",\"2024-06-06T12:38:00-04:00\",\"2024-06-06T12:39:00-04:00\",\"2024-06-06T12:40:00-04:00\",\"2024-06-06T12:41:00-04:00\",\"2024-06-06T12:42:00-04:00\",\"2024-06-06T12:43:00-04:00\",\"2024-06-06T12:44:00-04:00\",\"2024-06-06T12:45:00-04:00\",\"2024-06-06T12:46:00-04:00\",\"2024-06-06T12:47:00-04:00\",\"2024-06-06T12:48:00-04:00\",\"2024-06-06T12:49:00-04:00\",\"2024-06-06T12:50:00-04:00\",\"2024-06-06T12:51:00-04:00\",\"2024-06-06T12:52:00-04:00\",\"2024-06-06T12:53:00-04:00\",\"2024-06-06T12:54:00-04:00\",\"2024-06-06T12:55:00-04:00\",\"2024-06-06T12:56:00-04:00\",\"2024-06-06T12:57:00-04:00\",\"2024-06-06T12:58:00-04:00\",\"2024-06-06T12:59:00-04:00\",\"2024-06-06T13:00:00-04:00\",\"2024-06-06T13:01:00-04:00\",\"2024-06-06T13:02:00-04:00\",\"2024-06-06T13:03:00-04:00\",\"2024-06-06T13:04:00-04:00\",\"2024-06-06T13:05:00-04:00\",\"2024-06-06T13:06:00-04:00\",\"2024-06-06T13:07:00-04:00\",\"2024-06-06T13:08:00-04:00\",\"2024-06-06T13:09:00-04:00\",\"2024-06-06T13:10:00-04:00\",\"2024-06-06T13:11:00-04:00\",\"2024-06-06T13:12:00-04:00\",\"2024-06-06T13:13:00-04:00\",\"2024-06-06T13:14:00-04:00\",\"2024-06-06T13:15:00-04:00\",\"2024-06-06T13:16:00-04:00\",\"2024-06-06T13:17:00-04:00\",\"2024-06-06T13:18:00-04:00\",\"2024-06-06T13:19:00-04:00\",\"2024-06-06T13:20:00-04:00\",\"2024-06-06T13:21:00-04:00\",\"2024-06-06T13:22:00-04:00\",\"2024-06-06T13:23:00-04:00\",\"2024-06-06T13:24:00-04:00\",\"2024-06-06T13:25:00-04:00\",\"2024-06-06T13:26:00-04:00\",\"2024-06-06T13:27:00-04:00\",\"2024-06-06T13:28:00-04:00\",\"2024-06-06T13:29:00-04:00\",\"2024-06-06T13:30:00-04:00\",\"2024-06-06T13:31:00-04:00\",\"2024-06-06T13:32:00-04:00\",\"2024-06-06T13:33:00-04:00\",\"2024-06-06T13:34:00-04:00\",\"2024-06-06T13:35:00-04:00\",\"2024-06-06T13:36:00-04:00\",\"2024-06-06T13:37:00-04:00\",\"2024-06-06T13:38:00-04:00\",\"2024-06-06T13:39:00-04:00\",\"2024-06-06T13:40:00-04:00\",\"2024-06-06T13:41:00-04:00\",\"2024-06-06T13:42:00-04:00\",\"2024-06-06T13:43:00-04:00\",\"2024-06-06T13:44:00-04:00\",\"2024-06-06T13:45:00-04:00\",\"2024-06-06T13:46:00-04:00\",\"2024-06-06T13:47:00-04:00\",\"2024-06-06T13:48:00-04:00\",\"2024-06-06T13:49:00-04:00\",\"2024-06-06T13:50:00-04:00\",\"2024-06-06T13:51:00-04:00\",\"2024-06-06T13:52:00-04:00\",\"2024-06-06T13:53:00-04:00\",\"2024-06-06T13:54:00-04:00\",\"2024-06-06T13:55:00-04:00\",\"2024-06-06T13:56:00-04:00\",\"2024-06-06T13:57:00-04:00\",\"2024-06-06T13:58:00-04:00\",\"2024-06-06T13:59:00-04:00\",\"2024-06-06T14:00:00-04:00\",\"2024-06-06T14:01:00-04:00\",\"2024-06-06T14:02:00-04:00\",\"2024-06-06T14:03:00-04:00\",\"2024-06-06T14:04:00-04:00\",\"2024-06-06T14:05:00-04:00\",\"2024-06-06T14:06:00-04:00\",\"2024-06-06T14:07:00-04:00\",\"2024-06-06T14:08:00-04:00\",\"2024-06-06T14:09:00-04:00\",\"2024-06-06T14:10:00-04:00\",\"2024-06-06T14:11:00-04:00\",\"2024-06-06T14:12:00-04:00\",\"2024-06-06T14:13:00-04:00\",\"2024-06-06T14:14:00-04:00\",\"2024-06-06T14:15:00-04:00\",\"2024-06-06T14:16:00-04:00\",\"2024-06-06T14:17:00-04:00\",\"2024-06-06T14:18:00-04:00\",\"2024-06-06T14:19:00-04:00\",\"2024-06-06T14:20:00-04:00\",\"2024-06-06T14:21:00-04:00\",\"2024-06-06T14:22:00-04:00\",\"2024-06-06T14:23:00-04:00\",\"2024-06-06T14:24:00-04:00\",\"2024-06-06T14:25:00-04:00\",\"2024-06-06T14:26:00-04:00\",\"2024-06-06T14:27:00-04:00\",\"2024-06-06T14:28:00-04:00\",\"2024-06-06T14:29:00-04:00\",\"2024-06-06T14:30:00-04:00\",\"2024-06-06T14:31:00-04:00\",\"2024-06-06T14:32:00-04:00\",\"2024-06-06T14:33:00-04:00\",\"2024-06-06T14:34:00-04:00\",\"2024-06-06T14:35:00-04:00\",\"2024-06-06T14:36:00-04:00\",\"2024-06-06T14:37:00-04:00\",\"2024-06-06T14:38:00-04:00\",\"2024-06-06T14:39:00-04:00\",\"2024-06-06T14:40:00-04:00\",\"2024-06-06T14:41:00-04:00\",\"2024-06-06T14:42:00-04:00\",\"2024-06-06T14:43:00-04:00\",\"2024-06-06T14:44:00-04:00\",\"2024-06-06T14:45:00-04:00\",\"2024-06-06T14:46:00-04:00\",\"2024-06-06T14:47:00-04:00\",\"2024-06-06T14:48:00-04:00\",\"2024-06-06T14:49:00-04:00\",\"2024-06-06T14:50:00-04:00\",\"2024-06-06T14:51:00-04:00\",\"2024-06-06T14:52:00-04:00\",\"2024-06-06T14:53:00-04:00\",\"2024-06-06T14:54:00-04:00\",\"2024-06-06T14:55:00-04:00\",\"2024-06-06T14:56:00-04:00\",\"2024-06-06T14:57:00-04:00\",\"2024-06-06T14:58:00-04:00\",\"2024-06-06T14:59:00-04:00\",\"2024-06-06T15:00:00-04:00\",\"2024-06-06T15:01:00-04:00\",\"2024-06-06T15:02:00-04:00\",\"2024-06-06T15:03:00-04:00\",\"2024-06-06T15:04:00-04:00\",\"2024-06-06T15:05:00-04:00\",\"2024-06-06T15:06:00-04:00\",\"2024-06-06T15:07:00-04:00\",\"2024-06-06T15:08:00-04:00\",\"2024-06-06T15:09:00-04:00\",\"2024-06-06T15:10:00-04:00\",\"2024-06-06T15:11:00-04:00\",\"2024-06-06T15:12:00-04:00\",\"2024-06-06T15:13:00-04:00\",\"2024-06-06T15:14:00-04:00\",\"2024-06-06T15:15:00-04:00\",\"2024-06-06T15:16:00-04:00\",\"2024-06-06T15:17:00-04:00\",\"2024-06-06T15:18:00-04:00\",\"2024-06-06T15:19:00-04:00\",\"2024-06-06T15:20:00-04:00\",\"2024-06-06T15:21:00-04:00\",\"2024-06-06T15:22:00-04:00\",\"2024-06-06T15:23:00-04:00\",\"2024-06-06T15:24:00-04:00\",\"2024-06-06T15:25:00-04:00\",\"2024-06-06T15:26:00-04:00\",\"2024-06-06T15:27:00-04:00\",\"2024-06-06T15:28:00-04:00\",\"2024-06-06T15:29:00-04:00\",\"2024-06-06T15:30:00-04:00\",\"2024-06-06T15:31:00-04:00\",\"2024-06-06T15:32:00-04:00\",\"2024-06-06T15:33:00-04:00\",\"2024-06-06T15:34:00-04:00\",\"2024-06-06T15:35:00-04:00\",\"2024-06-06T15:36:00-04:00\",\"2024-06-06T15:37:00-04:00\",\"2024-06-06T15:38:00-04:00\",\"2024-06-06T15:39:00-04:00\",\"2024-06-06T15:40:00-04:00\",\"2024-06-06T15:41:00-04:00\",\"2024-06-06T15:42:00-04:00\",\"2024-06-06T15:43:00-04:00\",\"2024-06-06T15:44:00-04:00\",\"2024-06-06T15:45:00-04:00\",\"2024-06-06T15:46:00-04:00\",\"2024-06-06T15:47:00-04:00\",\"2024-06-06T15:48:00-04:00\",\"2024-06-06T15:49:00-04:00\",\"2024-06-06T15:50:00-04:00\",\"2024-06-06T15:51:00-04:00\",\"2024-06-06T15:52:00-04:00\",\"2024-06-06T15:53:00-04:00\",\"2024-06-06T15:54:00-04:00\",\"2024-06-06T15:55:00-04:00\",\"2024-06-06T15:56:00-04:00\",\"2024-06-06T15:57:00-04:00\",\"2024-06-06T15:58:00-04:00\",\"2024-06-06T15:59:00-04:00\"],\"xaxis\":\"x\",\"y\":[196.1300048828125,196.1300048828125,196.1056318283081,196.10345852179861,196.05439554876133,195.98872463800393,195.87092546521095,195.8023265410577,195.73514090809982,195.67652615494356,195.62307157682486,195.5243453232071,195.47988041144626,195.4487593337802,195.4299712058459,195.41929255713387,195.40526318813028,195.3956012582027,195.40827786766425,195.4306423279558,195.43791970451784,195.43759801547148,195.4492921537441,195.4527401951196,195.46058219632886,195.4704901487698,195.48293968570755,195.56290273837078,195.58510111749646,195.59658020276598,195.5928568515344,195.58739501373321,195.6079303167398,195.6393169859011,195.68054848892805,195.6916719916169,195.70129055691592,195.6992111362876,195.71136514306377,195.71441192366868,195.72303470137533,195.73828230223384,195.75767247287243,195.76891800617946,195.77596616855507,195.77869890916614,195.77520226261123,195.76974167383145,195.764431587522,195.77425999528816,195.77700307575216,195.784018474404,195.80976842571854,195.84773614334205,195.89458976020276,195.96480655901044,196.02173522521022,196.02369143566526,196.0139773647825,196.01953394567153,196.0004485320088,195.97009108916976,195.93995235229852,195.89370035298955,195.83945194513763,195.77661377429988,195.74095841133501,195.71642001263834,195.69949852102533,195.69453028876734,195.70428303685188,195.71202479600694,195.71541902780876,195.71185276516633,195.7088835498043,195.7092314712938,195.70444834718998,195.69982158683993,195.6897853217303,195.6534823111851,195.631230556855,195.60471709359118,195.58999224111042,195.58143909728173,195.57252586520394,195.57188296508178,195.57327164770695,195.5699430064479,195.57026482974814,195.56885513446738,195.56778008879527,195.5608411203137,195.5591083949887,195.55871163289322,195.56322383427982,195.58037818147469,195.59524719959705,195.63335452861756,195.64896375282447,195.65093182621948,195.6614803802231,195.6586102786732,195.6509391884006,195.6526189588292,195.65825863887085,195.65544284453625,195.65049119431862,195.65671834061322,195.6587813113651,195.65375567429876,195.6435779850332,195.644927349563,195.65060028076635,195.6503018045399,195.6533719938299,195.66100359755362,195.66379521154056,195.66948482255978,195.6802106845535,195.70005185073848,195.7033822475647,195.69842326628088,195.69601275303413,195.68874850783433,195.69029885236532,195.70120431598255,195.7180659416713,195.71362149680596,195.7100564358572,195.70528704935336,195.70238255179456,195.6923149771164,195.67684435760862,195.6602201659807,195.64425325612672,195.63300803108532,195.62573656090822,195.61940490720852,195.61511388806855,195.61302125033842,195.60394978804567,195.58546320457802,195.5616769285994,195.526982324784,195.50330155734926,195.4807445322686,195.46739316581554,195.4595398166827,195.4582732079228,195.4516865268913,195.4490058720077,195.4398833988431,195.43359111176264,195.43077987813217,195.42996994235565,195.4355879752997,195.43845827639797,195.4384611848604,195.43875985942734,195.44899895895537,195.4580122619387,195.46919944747367,195.4715034428802,195.47247785950069,195.47280971289112,195.47989347190332,195.48067994307993,195.49331011415597,195.50628490161796,195.51825866859556,195.52947691504528,195.5453138068998,195.5602338993093,195.57810399461948,195.5902067560127,195.6014295416042,195.61635383504782,195.62557667947544,195.62118731919654,195.62090074496,195.62359456072372,195.63380924046797,195.66064582846263,195.6570812523446,195.65115351236577,195.64811386760013,195.65015102697458,195.6489312724968,195.64883247526134,195.65016328231889,195.64809907774995,195.6431000610473,195.64289640487277,195.64230187556188,195.64613030231817,195.64259626992018,195.64300620396267,195.64138572010245,195.63969112150423,195.6414832803099,195.64521116923765,195.64559224896013,195.64575649045955,195.64640136055382,195.6460145576213,195.6463122825942,195.646697382703,195.6535255347435,195.6526782182523,195.64561205459958,195.63212734122672,195.6375325647347,195.64387543654468,195.6550140251999,195.66980177815358,195.68354331885078,195.70189358787258,195.72348265503413,195.74189655410262,195.76286470176237,195.78799486059197,195.8183480936842,195.8384577549325,195.8599266417167,195.88217088423198,195.88049490963627,195.85405459470704,195.83571947765589,195.81552864494233,195.79594683660048,195.76263957496118,195.71112973553775,195.66625881384795,195.62850176356616,195.59167946670817,195.56606609178988,195.55662888618616,195.54833655233975,195.54156945346088,195.5358624867127,195.5361661483953,195.536766147087,195.5377165354607,195.54015928735544,195.5412710254074,195.5430923153356,195.5395212173462,195.5450940839121,195.55207054999238,195.5564552254271,195.5708442989779,195.58504291323237,195.5883930053226,195.59114255248915,195.5924737383385,195.59324325041453,195.59147557639457,195.58981838922384,195.5833228505049,195.58425284199456,195.58316131427227,195.58067788845364,195.58130922127685,195.57891852305656,195.56972119298882,195.57388051865874,195.56610340088332,195.54730307857767,195.53257481560368,195.5200046190356,195.5071850204163,195.50447051205074,195.4994175903397,195.49553964338327,195.48617056763948,195.47551391622505,195.47065238165294,195.44515306435,195.3974473461612,195.34074583646213,195.26056952268172,195.2182549459757,195.1760096205346,195.14112799508908,195.1280549495942,195.1216614818241,195.11483329635695,195.11201078684198,195.11101260582458,195.11309557622835,195.11408868768171,195.11450893335376,195.11660819395425,195.11212171099567,195.1157786180951,195.13229806932273,195.17976049730686,195.2131534144064,195.25876330106138,195.3118296436435,195.33839309587805,195.3545538787517,195.36900213773777,195.38608277885027,195.40091998240695,195.40882402125797,195.39953953022746,195.40297137637242,195.39494292262745,195.37286960785798,195.34306931300196,195.31536500620135,195.29640932464687,195.27974887286604,195.264341897541,195.25118715356092,195.2462906233482,195.24106423382523,195.23397742666688,195.2311165696114,195.23023385983436,195.2386741506012,195.23825144276887,195.23953654556237,195.23573571668015,195.23485458613362,195.23845377816917,195.24675362526622,195.24958012434973,195.25118178975802,195.24980525021238,195.2483311116995,195.24713233657835,195.24176636546062,195.23875303143305,195.2316725053034,195.2280197612764,195.2265565432082,195.2290657253235,195.227625012012,195.22682838120537,195.22407948868414,195.217458461191,195.19682443491524,195.1700800177453,195.1444104735741,195.13870205840755,195.13719414333005,195.13588547891334,195.1371297219076,195.13774515835834,195.1410427721258,195.13936322402446,195.13787115144717,195.1383846080239,195.13758061363575,195.13780188451182,195.13714289931954,195.14023466897095,195.1538851595021,195.17482013268642,195.20308527280358,195.21840562001793,195.2292921867255,195.23993288362112,195.23519731936938,195.21571117809958,195.19621097070205,195.18632578189968,195.1833112614158,195.16692925878246,195.14226203484145,195.11607341322298,195.09011219634266,195.0625943274956,195.0365529527482,195.0181597330179,195.0032784725689,194.99811366968868,195.00250606543625,195.0100050915395,194.97814148445502,194.87747054841955,194.76882181732722,194.6945756006177,194.6038295817536,194.52874583630992,194.43909866463227,194.39585321865718,194.34939232572802],\"yaxis\":\"y\",\"type\":\"scattergl\"},{\"hovertemplate\":\"variable=Close<br>Datetime=%{x}<br>value=%{y}<extra></extra>\",\"legendgroup\":\"Close\",\"line\":{\"color\":\"#0059ff\",\"dash\":\"solid\"},\"marker\":{\"symbol\":\"circle\"},\"mode\":\"lines\",\"name\":\"Close\",\"showlegend\":true,\"x\":[\"2024-06-06T09:30:00-04:00\",\"2024-06-06T09:31:00-04:00\",\"2024-06-06T09:32:00-04:00\",\"2024-06-06T09:33:00-04:00\",\"2024-06-06T09:34:00-04:00\",\"2024-06-06T09:35:00-04:00\",\"2024-06-06T09:36:00-04:00\",\"2024-06-06T09:37:00-04:00\",\"2024-06-06T09:38:00-04:00\",\"2024-06-06T09:39:00-04:00\",\"2024-06-06T09:40:00-04:00\",\"2024-06-06T09:41:00-04:00\",\"2024-06-06T09:42:00-04:00\",\"2024-06-06T09:43:00-04:00\",\"2024-06-06T09:44:00-04:00\",\"2024-06-06T09:45:00-04:00\",\"2024-06-06T09:46:00-04:00\",\"2024-06-06T09:47:00-04:00\",\"2024-06-06T09:48:00-04:00\",\"2024-06-06T09:49:00-04:00\",\"2024-06-06T09:50:00-04:00\",\"2024-06-06T09:51:00-04:00\",\"2024-06-06T09:52:00-04:00\",\"2024-06-06T09:53:00-04:00\",\"2024-06-06T09:54:00-04:00\",\"2024-06-06T09:55:00-04:00\",\"2024-06-06T09:56:00-04:00\",\"2024-06-06T09:57:00-04:00\",\"2024-06-06T09:58:00-04:00\",\"2024-06-06T09:59:00-04:00\",\"2024-06-06T10:00:00-04:00\",\"2024-06-06T10:01:00-04:00\",\"2024-06-06T10:02:00-04:00\",\"2024-06-06T10:03:00-04:00\",\"2024-06-06T10:04:00-04:00\",\"2024-06-06T10:05:00-04:00\",\"2024-06-06T10:06:00-04:00\",\"2024-06-06T10:07:00-04:00\",\"2024-06-06T10:08:00-04:00\",\"2024-06-06T10:09:00-04:00\",\"2024-06-06T10:10:00-04:00\",\"2024-06-06T10:11:00-04:00\",\"2024-06-06T10:12:00-04:00\",\"2024-06-06T10:13:00-04:00\",\"2024-06-06T10:14:00-04:00\",\"2024-06-06T10:15:00-04:00\",\"2024-06-06T10:16:00-04:00\",\"2024-06-06T10:17:00-04:00\",\"2024-06-06T10:18:00-04:00\",\"2024-06-06T10:19:00-04:00\",\"2024-06-06T10:20:00-04:00\",\"2024-06-06T10:21:00-04:00\",\"2024-06-06T10:22:00-04:00\",\"2024-06-06T10:23:00-04:00\",\"2024-06-06T10:24:00-04:00\",\"2024-06-06T10:25:00-04:00\",\"2024-06-06T10:26:00-04:00\",\"2024-06-06T10:27:00-04:00\",\"2024-06-06T10:28:00-04:00\",\"2024-06-06T10:29:00-04:00\",\"2024-06-06T10:30:00-04:00\",\"2024-06-06T10:31:00-04:00\",\"2024-06-06T10:32:00-04:00\",\"2024-06-06T10:33:00-04:00\",\"2024-06-06T10:34:00-04:00\",\"2024-06-06T10:35:00-04:00\",\"2024-06-06T10:36:00-04:00\",\"2024-06-06T10:37:00-04:00\",\"2024-06-06T10:38:00-04:00\",\"2024-06-06T10:39:00-04:00\",\"2024-06-06T10:40:00-04:00\",\"2024-06-06T10:41:00-04:00\",\"2024-06-06T10:42:00-04:00\",\"2024-06-06T10:43:00-04:00\",\"2024-06-06T10:44:00-04:00\",\"2024-06-06T10:45:00-04:00\",\"2024-06-06T10:46:00-04:00\",\"2024-06-06T10:47:00-04:00\",\"2024-06-06T10:48:00-04:00\",\"2024-06-06T10:49:00-04:00\",\"2024-06-06T10:50:00-04:00\",\"2024-06-06T10:51:00-04:00\",\"2024-06-06T10:52:00-04:00\",\"2024-06-06T10:53:00-04:00\",\"2024-06-06T10:54:00-04:00\",\"2024-06-06T10:55:00-04:00\",\"2024-06-06T10:56:00-04:00\",\"2024-06-06T10:57:00-04:00\",\"2024-06-06T10:58:00-04:00\",\"2024-06-06T10:59:00-04:00\",\"2024-06-06T11:00:00-04:00\",\"2024-06-06T11:01:00-04:00\",\"2024-06-06T11:02:00-04:00\",\"2024-06-06T11:03:00-04:00\",\"2024-06-06T11:04:00-04:00\",\"2024-06-06T11:05:00-04:00\",\"2024-06-06T11:06:00-04:00\",\"2024-06-06T11:07:00-04:00\",\"2024-06-06T11:08:00-04:00\",\"2024-06-06T11:09:00-04:00\",\"2024-06-06T11:10:00-04:00\",\"2024-06-06T11:11:00-04:00\",\"2024-06-06T11:12:00-04:00\",\"2024-06-06T11:13:00-04:00\",\"2024-06-06T11:14:00-04:00\",\"2024-06-06T11:15:00-04:00\",\"2024-06-06T11:16:00-04:00\",\"2024-06-06T11:17:00-04:00\",\"2024-06-06T11:18:00-04:00\",\"2024-06-06T11:19:00-04:00\",\"2024-06-06T11:20:00-04:00\",\"2024-06-06T11:21:00-04:00\",\"2024-06-06T11:22:00-04:00\",\"2024-06-06T11:23:00-04:00\",\"2024-06-06T11:24:00-04:00\",\"2024-06-06T11:25:00-04:00\",\"2024-06-06T11:26:00-04:00\",\"2024-06-06T11:27:00-04:00\",\"2024-06-06T11:28:00-04:00\",\"2024-06-06T11:29:00-04:00\",\"2024-06-06T11:30:00-04:00\",\"2024-06-06T11:31:00-04:00\",\"2024-06-06T11:32:00-04:00\",\"2024-06-06T11:33:00-04:00\",\"2024-06-06T11:34:00-04:00\",\"2024-06-06T11:35:00-04:00\",\"2024-06-06T11:36:00-04:00\",\"2024-06-06T11:37:00-04:00\",\"2024-06-06T11:38:00-04:00\",\"2024-06-06T11:39:00-04:00\",\"2024-06-06T11:40:00-04:00\",\"2024-06-06T11:41:00-04:00\",\"2024-06-06T11:42:00-04:00\",\"2024-06-06T11:43:00-04:00\",\"2024-06-06T11:44:00-04:00\",\"2024-06-06T11:45:00-04:00\",\"2024-06-06T11:46:00-04:00\",\"2024-06-06T11:47:00-04:00\",\"2024-06-06T11:48:00-04:00\",\"2024-06-06T11:49:00-04:00\",\"2024-06-06T11:50:00-04:00\",\"2024-06-06T11:51:00-04:00\",\"2024-06-06T11:52:00-04:00\",\"2024-06-06T11:53:00-04:00\",\"2024-06-06T11:54:00-04:00\",\"2024-06-06T11:55:00-04:00\",\"2024-06-06T11:56:00-04:00\",\"2024-06-06T11:57:00-04:00\",\"2024-06-06T11:58:00-04:00\",\"2024-06-06T11:59:00-04:00\",\"2024-06-06T12:00:00-04:00\",\"2024-06-06T12:01:00-04:00\",\"2024-06-06T12:02:00-04:00\",\"2024-06-06T12:03:00-04:00\",\"2024-06-06T12:04:00-04:00\",\"2024-06-06T12:05:00-04:00\",\"2024-06-06T12:06:00-04:00\",\"2024-06-06T12:07:00-04:00\",\"2024-06-06T12:08:00-04:00\",\"2024-06-06T12:09:00-04:00\",\"2024-06-06T12:10:00-04:00\",\"2024-06-06T12:11:00-04:00\",\"2024-06-06T12:12:00-04:00\",\"2024-06-06T12:13:00-04:00\",\"2024-06-06T12:14:00-04:00\",\"2024-06-06T12:15:00-04:00\",\"2024-06-06T12:16:00-04:00\",\"2024-06-06T12:17:00-04:00\",\"2024-06-06T12:18:00-04:00\",\"2024-06-06T12:19:00-04:00\",\"2024-06-06T12:20:00-04:00\",\"2024-06-06T12:21:00-04:00\",\"2024-06-06T12:22:00-04:00\",\"2024-06-06T12:23:00-04:00\",\"2024-06-06T12:24:00-04:00\",\"2024-06-06T12:25:00-04:00\",\"2024-06-06T12:26:00-04:00\",\"2024-06-06T12:27:00-04:00\",\"2024-06-06T12:28:00-04:00\",\"2024-06-06T12:29:00-04:00\",\"2024-06-06T12:30:00-04:00\",\"2024-06-06T12:31:00-04:00\",\"2024-06-06T12:32:00-04:00\",\"2024-06-06T12:33:00-04:00\",\"2024-06-06T12:34:00-04:00\",\"2024-06-06T12:35:00-04:00\",\"2024-06-06T12:36:00-04:00\",\"2024-06-06T12:37:00-04:00\",\"2024-06-06T12:38:00-04:00\",\"2024-06-06T12:39:00-04:00\",\"2024-06-06T12:40:00-04:00\",\"2024-06-06T12:41:00-04:00\",\"2024-06-06T12:42:00-04:00\",\"2024-06-06T12:43:00-04:00\",\"2024-06-06T12:44:00-04:00\",\"2024-06-06T12:45:00-04:00\",\"2024-06-06T12:46:00-04:00\",\"2024-06-06T12:47:00-04:00\",\"2024-06-06T12:48:00-04:00\",\"2024-06-06T12:49:00-04:00\",\"2024-06-06T12:50:00-04:00\",\"2024-06-06T12:51:00-04:00\",\"2024-06-06T12:52:00-04:00\",\"2024-06-06T12:53:00-04:00\",\"2024-06-06T12:54:00-04:00\",\"2024-06-06T12:55:00-04:00\",\"2024-06-06T12:56:00-04:00\",\"2024-06-06T12:57:00-04:00\",\"2024-06-06T12:58:00-04:00\",\"2024-06-06T12:59:00-04:00\",\"2024-06-06T13:00:00-04:00\",\"2024-06-06T13:01:00-04:00\",\"2024-06-06T13:02:00-04:00\",\"2024-06-06T13:03:00-04:00\",\"2024-06-06T13:04:00-04:00\",\"2024-06-06T13:05:00-04:00\",\"2024-06-06T13:06:00-04:00\",\"2024-06-06T13:07:00-04:00\",\"2024-06-06T13:08:00-04:00\",\"2024-06-06T13:09:00-04:00\",\"2024-06-06T13:10:00-04:00\",\"2024-06-06T13:11:00-04:00\",\"2024-06-06T13:12:00-04:00\",\"2024-06-06T13:13:00-04:00\",\"2024-06-06T13:14:00-04:00\",\"2024-06-06T13:15:00-04:00\",\"2024-06-06T13:16:00-04:00\",\"2024-06-06T13:17:00-04:00\",\"2024-06-06T13:18:00-04:00\",\"2024-06-06T13:19:00-04:00\",\"2024-06-06T13:20:00-04:00\",\"2024-06-06T13:21:00-04:00\",\"2024-06-06T13:22:00-04:00\",\"2024-06-06T13:23:00-04:00\",\"2024-06-06T13:24:00-04:00\",\"2024-06-06T13:25:00-04:00\",\"2024-06-06T13:26:00-04:00\",\"2024-06-06T13:27:00-04:00\",\"2024-06-06T13:28:00-04:00\",\"2024-06-06T13:29:00-04:00\",\"2024-06-06T13:30:00-04:00\",\"2024-06-06T13:31:00-04:00\",\"2024-06-06T13:32:00-04:00\",\"2024-06-06T13:33:00-04:00\",\"2024-06-06T13:34:00-04:00\",\"2024-06-06T13:35:00-04:00\",\"2024-06-06T13:36:00-04:00\",\"2024-06-06T13:37:00-04:00\",\"2024-06-06T13:38:00-04:00\",\"2024-06-06T13:39:00-04:00\",\"2024-06-06T13:40:00-04:00\",\"2024-06-06T13:41:00-04:00\",\"2024-06-06T13:42:00-04:00\",\"2024-06-06T13:43:00-04:00\",\"2024-06-06T13:44:00-04:00\",\"2024-06-06T13:45:00-04:00\",\"2024-06-06T13:46:00-04:00\",\"2024-06-06T13:47:00-04:00\",\"2024-06-06T13:48:00-04:00\",\"2024-06-06T13:49:00-04:00\",\"2024-06-06T13:50:00-04:00\",\"2024-06-06T13:51:00-04:00\",\"2024-06-06T13:52:00-04:00\",\"2024-06-06T13:53:00-04:00\",\"2024-06-06T13:54:00-04:00\",\"2024-06-06T13:55:00-04:00\",\"2024-06-06T13:56:00-04:00\",\"2024-06-06T13:57:00-04:00\",\"2024-06-06T13:58:00-04:00\",\"2024-06-06T13:59:00-04:00\",\"2024-06-06T14:00:00-04:00\",\"2024-06-06T14:01:00-04:00\",\"2024-06-06T14:02:00-04:00\",\"2024-06-06T14:03:00-04:00\",\"2024-06-06T14:04:00-04:00\",\"2024-06-06T14:05:00-04:00\",\"2024-06-06T14:06:00-04:00\",\"2024-06-06T14:07:00-04:00\",\"2024-06-06T14:08:00-04:00\",\"2024-06-06T14:09:00-04:00\",\"2024-06-06T14:10:00-04:00\",\"2024-06-06T14:11:00-04:00\",\"2024-06-06T14:12:00-04:00\",\"2024-06-06T14:13:00-04:00\",\"2024-06-06T14:14:00-04:00\",\"2024-06-06T14:15:00-04:00\",\"2024-06-06T14:16:00-04:00\",\"2024-06-06T14:17:00-04:00\",\"2024-06-06T14:18:00-04:00\",\"2024-06-06T14:19:00-04:00\",\"2024-06-06T14:20:00-04:00\",\"2024-06-06T14:21:00-04:00\",\"2024-06-06T14:22:00-04:00\",\"2024-06-06T14:23:00-04:00\",\"2024-06-06T14:24:00-04:00\",\"2024-06-06T14:25:00-04:00\",\"2024-06-06T14:26:00-04:00\",\"2024-06-06T14:27:00-04:00\",\"2024-06-06T14:28:00-04:00\",\"2024-06-06T14:29:00-04:00\",\"2024-06-06T14:30:00-04:00\",\"2024-06-06T14:31:00-04:00\",\"2024-06-06T14:32:00-04:00\",\"2024-06-06T14:33:00-04:00\",\"2024-06-06T14:34:00-04:00\",\"2024-06-06T14:35:00-04:00\",\"2024-06-06T14:36:00-04:00\",\"2024-06-06T14:37:00-04:00\",\"2024-06-06T14:38:00-04:00\",\"2024-06-06T14:39:00-04:00\",\"2024-06-06T14:40:00-04:00\",\"2024-06-06T14:41:00-04:00\",\"2024-06-06T14:42:00-04:00\",\"2024-06-06T14:43:00-04:00\",\"2024-06-06T14:44:00-04:00\",\"2024-06-06T14:45:00-04:00\",\"2024-06-06T14:46:00-04:00\",\"2024-06-06T14:47:00-04:00\",\"2024-06-06T14:48:00-04:00\",\"2024-06-06T14:49:00-04:00\",\"2024-06-06T14:50:00-04:00\",\"2024-06-06T14:51:00-04:00\",\"2024-06-06T14:52:00-04:00\",\"2024-06-06T14:53:00-04:00\",\"2024-06-06T14:54:00-04:00\",\"2024-06-06T14:55:00-04:00\",\"2024-06-06T14:56:00-04:00\",\"2024-06-06T14:57:00-04:00\",\"2024-06-06T14:58:00-04:00\",\"2024-06-06T14:59:00-04:00\",\"2024-06-06T15:00:00-04:00\",\"2024-06-06T15:01:00-04:00\",\"2024-06-06T15:02:00-04:00\",\"2024-06-06T15:03:00-04:00\",\"2024-06-06T15:04:00-04:00\",\"2024-06-06T15:05:00-04:00\",\"2024-06-06T15:06:00-04:00\",\"2024-06-06T15:07:00-04:00\",\"2024-06-06T15:08:00-04:00\",\"2024-06-06T15:09:00-04:00\",\"2024-06-06T15:10:00-04:00\",\"2024-06-06T15:11:00-04:00\",\"2024-06-06T15:12:00-04:00\",\"2024-06-06T15:13:00-04:00\",\"2024-06-06T15:14:00-04:00\",\"2024-06-06T15:15:00-04:00\",\"2024-06-06T15:16:00-04:00\",\"2024-06-06T15:17:00-04:00\",\"2024-06-06T15:18:00-04:00\",\"2024-06-06T15:19:00-04:00\",\"2024-06-06T15:20:00-04:00\",\"2024-06-06T15:21:00-04:00\",\"2024-06-06T15:22:00-04:00\",\"2024-06-06T15:23:00-04:00\",\"2024-06-06T15:24:00-04:00\",\"2024-06-06T15:25:00-04:00\",\"2024-06-06T15:26:00-04:00\",\"2024-06-06T15:27:00-04:00\",\"2024-06-06T15:28:00-04:00\",\"2024-06-06T15:29:00-04:00\",\"2024-06-06T15:30:00-04:00\",\"2024-06-06T15:31:00-04:00\",\"2024-06-06T15:32:00-04:00\",\"2024-06-06T15:33:00-04:00\",\"2024-06-06T15:34:00-04:00\",\"2024-06-06T15:35:00-04:00\",\"2024-06-06T15:36:00-04:00\",\"2024-06-06T15:37:00-04:00\",\"2024-06-06T15:38:00-04:00\",\"2024-06-06T15:39:00-04:00\",\"2024-06-06T15:40:00-04:00\",\"2024-06-06T15:41:00-04:00\",\"2024-06-06T15:42:00-04:00\",\"2024-06-06T15:43:00-04:00\",\"2024-06-06T15:44:00-04:00\",\"2024-06-06T15:45:00-04:00\",\"2024-06-06T15:46:00-04:00\",\"2024-06-06T15:47:00-04:00\",\"2024-06-06T15:48:00-04:00\",\"2024-06-06T15:49:00-04:00\",\"2024-06-06T15:50:00-04:00\",\"2024-06-06T15:51:00-04:00\",\"2024-06-06T15:52:00-04:00\",\"2024-06-06T15:53:00-04:00\",\"2024-06-06T15:54:00-04:00\",\"2024-06-06T15:55:00-04:00\",\"2024-06-06T15:56:00-04:00\",\"2024-06-06T15:57:00-04:00\",\"2024-06-06T15:58:00-04:00\",\"2024-06-06T15:59:00-04:00\"],\"xaxis\":\"x\",\"y\":[196.1300048828125,196.25999450683594,196.1082000732422,195.89999389648438,195.77000427246094,195.48680114746094,195.5760955810547,195.52999877929688,195.52999877929688,195.52000427246094,195.21499633789062,195.47999572753906,195.5500030517578,195.63360595703125,195.69000244140625,195.59219360351562,195.57000732421875,195.54049682617188,195.8000030517578,195.74000549316406,195.7799072265625,195.66409301757812,195.63999938964844,195.64999389648438,195.7050018310547,195.74000549316406,195.82000732421875,195.89999389648438,195.97000122070312,196.110107421875,196.2050018310547,196.14500427246094,195.93499755859375,196.08999633789062,196.02499389648438,195.83999633789062,195.75999450683594,195.75999450683594,195.66000366210938,195.7100067138672,195.83999633789062,195.9600067138672,195.97000122070312,196.05999755859375,196.1699981689453,196.26499938964844,196.3350067138672,196.35890197753906,196.2899932861328,196.25999450683594,196.27999877929688,196.25999450683594,196.47000122070312,196.44000244140625,196.210205078125,196.0500030517578,195.85000610351562,195.89999389648438,196.00999450683594,195.9199981689453,195.89999389648438,195.9149932861328,195.7899932861328,195.6999969482422,195.60499572753906,195.73500061035156,195.7899932861328,195.8300018310547,195.75,195.72000122070312,195.8000030517578,195.86000061035156,195.7899932861328,195.80999755859375,195.76499938964844,195.74000549316406,195.72999572753906,195.65789794921875,195.5299072265625,195.54510498046875,195.4600067138672,195.5800018310547,195.63999938964844,195.625,195.72979736328125,195.83999633789062,195.92999267578125,195.8300018310547,195.74000549316406,195.75,195.63999938964844,195.6999969482422,195.72000122070312,195.74000549316406,195.6876983642578,195.67230224609375,195.72500610351562,195.6999969482422,195.65499877929688,195.71499633789062,195.69500732421875,195.66000366210938,195.6199951171875,195.7449951171875,195.8000030517578,195.83999633789062,195.84500122070312,195.72999572753906,195.6649932861328,195.63009643554688,195.7050018310547,195.78500366210938,195.72000122070312,195.7541046142578,195.74000549316406,195.8249969482422,195.81500244140625,195.7899932861328,195.81500244140625,195.8350067138672,195.72500610351562,195.75,195.69000244140625,195.75160217285156,195.77000427246094,195.72999572753906,195.67799377441406,195.72999572753906,195.68499755859375,195.72000122070312,195.66000366210938,195.6300048828125,195.61000061035156,195.60130310058594,195.61000061035156,195.60499572753906,195.6300048828125,195.63999938964844,195.65499877929688,195.58810424804688,195.51499938964844,195.47999572753906,195.41000366210938,195.42999267578125,195.4199981689453,195.4499969482422,195.49000549316406,195.5699005126953,195.49000549316406,195.52999877929688,195.45419311523438,195.47000122070312,195.48789978027344,195.47999572753906,195.49000549316406,195.52000427246094,195.51539611816406,195.56500244140625,195.56849670410156,195.5601043701172,195.59860229492188,195.6750030517578,195.69000244140625,195.64100646972656,195.58999633789062,195.5399932861328,195.67999267578125,195.6750030517578,195.69500732421875,195.78500366210938,195.75999450683594,195.72000122070312,195.7440948486328,195.72000122070312,195.6750030517578,195.69500732421875,195.68499755859375,195.62989807128906,195.68499755859375,195.6699981689453,195.6699981689453,195.6999969482422,195.64999389648438,195.6300048828125,195.66000366210938,195.6999969482422,195.66000366210938,195.69500732421875,195.67999267578125,195.64999389648438,195.62969970703125,195.7050018310547,195.66969299316406,195.66000366210938,195.63999938964844,195.67999267578125,195.64999389648438,195.64999389648438,195.67999267578125,195.66000366210938,195.6649932861328,195.69500732421875,195.7100067138672,195.7100067138672,195.69500732421875,195.75,195.72000122070312,195.7449951171875,195.84500122070312,195.97000122070312,195.93099975585938,195.90989685058594,195.9499969482422,195.9499969482422,195.9550018310547,196.0,195.9949951171875,196.06979370117188,196.05999755859375,196.0500030517578,195.9550018310547,195.90499877929688,195.83999633789062,195.86500549316406,195.8350067138672,195.76499938964844,195.7799072265625,195.75,195.7550048828125,195.66000366210938,195.5399932861328,195.53500366210938,195.5399932861328,195.4976043701172,195.52499389648438,195.59849548339844,195.61000061035156,195.61000061035156,195.6199951171875,195.6479949951172,195.6300048828125,195.6898956298828,195.71499633789062,195.65499877929688,195.6199951171875,195.5800018310547,195.59500122070312,195.60000610351562,195.5749969482422,195.58999633789062,195.6466064453125,195.67999267578125,195.68499755859375,195.625,195.6298065185547,195.6199951171875,195.61000061035156,195.5749969482422,195.61000061035156,195.61500549316406,195.58999633789062,195.5850067138672,195.5749969482422,195.53500366210938,195.6280975341797,195.53500366210938,195.48500061035156,195.48500061035156,195.47830200195312,195.47500610351562,195.5449981689453,195.51499938964844,195.52000427246094,195.47000122070312,195.45249938964844,195.47999572753906,195.3583984375,195.2384033203125,195.14999389648438,194.99000549316406,195.10000610351562,195.06849670410156,195.0800018310547,195.23500061035156,195.3040008544922,195.28500366210938,195.30999755859375,195.3300018310547,195.38499450683594,195.41000366210938,195.35000610351562,195.4149932861328,195.52999877929688,195.5399932861328,195.5299072265625,195.49000549316406,195.49000549316406,195.50900268554688,195.52499389648438,195.54449462890625,195.4600067138672,195.3800048828125,195.44000244140625,195.4365997314453,195.4550018310547,195.35000610351562,195.3699951171875,195.35830688476562,195.30499267578125,195.2449951171875,195.22999572753906,195.26010131835938,195.25999450683594,195.25010681152344,195.24000549316406,195.25999450683594,195.27499389648438,195.25999450683594,195.27499389648438,195.27000427246094,195.30499267578125,195.27999877929688,195.35499572753906,195.3957977294922,195.3632049560547,195.38499450683594,195.35000610351562,195.2899932861328,195.27499389648438,195.24000549316406,195.22999572753906,195.25,195.22999572753906,195.23500061035156,195.21499633789062,195.23500061035156,195.27999877929688,195.3459014892578,195.29629516601562,195.27000427246094,195.2501983642578,195.19000244140625,195.1199951171875,195.0800018310547,195.05999755859375,195.1649932861328,195.2050018310547,195.22000122070312,195.30999755859375,195.35000610351562,195.2949981689453,195.2100067138672,195.24000549316406,195.2812957763672,195.25250244140625,195.28500366210938,195.23500061035156,195.23500061035156,195.28500366210938,195.39300537109375,195.44000244140625,195.3800048828125,195.39500427246094,195.35499572753906,195.2550048828125,195.16000366210938,195.13499450683594,195.13999938964844,195.2100067138672,195.1300048828125,195.05999755859375,195.0449981689453,195.01499938964844,194.99000549316406,194.9949951171875,195.02780151367188,195.0,195.07000732421875,195.10000610351562,195.0850067138672,194.85499572753906,194.55999755859375,194.40499877929688,194.45989990234375,194.30999755859375,194.32000732421875,194.1750030517578,194.41000366210938,194.34500122070312,194.47999572753906],\"yaxis\":\"y\",\"type\":\"scattergl\"}],                        {\"template\":{\"data\":{\"histogram2dcontour\":[{\"type\":\"histogram2dcontour\",\"colorbar\":{\"outlinewidth\":0,\"ticks\":\"\"},\"colorscale\":[[0.0,\"#0d0887\"],[0.1111111111111111,\"#46039f\"],[0.2222222222222222,\"#7201a8\"],[0.3333333333333333,\"#9c179e\"],[0.4444444444444444,\"#bd3786\"],[0.5555555555555556,\"#d8576b\"],[0.6666666666666666,\"#ed7953\"],[0.7777777777777778,\"#fb9f3a\"],[0.8888888888888888,\"#fdca26\"],[1.0,\"#f0f921\"]]}],\"choropleth\":[{\"type\":\"choropleth\",\"colorbar\":{\"outlinewidth\":0,\"ticks\":\"\"}}],\"histogram2d\":[{\"type\":\"histogram2d\",\"colorbar\":{\"outlinewidth\":0,\"ticks\":\"\"},\"colorscale\":[[0.0,\"#0d0887\"],[0.1111111111111111,\"#46039f\"],[0.2222222222222222,\"#7201a8\"],[0.3333333333333333,\"#9c179e\"],[0.4444444444444444,\"#bd3786\"],[0.5555555555555556,\"#d8576b\"],[0.6666666666666666,\"#ed7953\"],[0.7777777777777778,\"#fb9f3a\"],[0.8888888888888888,\"#fdca26\"],[1.0,\"#f0f921\"]]}],\"heatmap\":[{\"type\":\"heatmap\",\"colorbar\":{\"outlinewidth\":0,\"ticks\":\"\"},\"colorscale\":[[0.0,\"#0d0887\"],[0.1111111111111111,\"#46039f\"],[0.2222222222222222,\"#7201a8\"],[0.3333333333333333,\"#9c179e\"],[0.4444444444444444,\"#bd3786\"],[0.5555555555555556,\"#d8576b\"],[0.6666666666666666,\"#ed7953\"],[0.7777777777777778,\"#fb9f3a\"],[0.8888888888888888,\"#fdca26\"],[1.0,\"#f0f921\"]]}],\"heatmapgl\":[{\"type\":\"heatmapgl\",\"colorbar\":{\"outlinewidth\":0,\"ticks\":\"\"},\"colorscale\":[[0.0,\"#0d0887\"],[0.1111111111111111,\"#46039f\"],[0.2222222222222222,\"#7201a8\"],[0.3333333333333333,\"#9c179e\"],[0.4444444444444444,\"#bd3786\"],[0.5555555555555556,\"#d8576b\"],[0.6666666666666666,\"#ed7953\"],[0.7777777777777778,\"#fb9f3a\"],[0.8888888888888888,\"#fdca26\"],[1.0,\"#f0f921\"]]}],\"contourcarpet\":[{\"type\":\"contourcarpet\",\"colorbar\":{\"outlinewidth\":0,\"ticks\":\"\"}}],\"contour\":[{\"type\":\"contour\",\"colorbar\":{\"outlinewidth\":0,\"ticks\":\"\"},\"colorscale\":[[0.0,\"#0d0887\"],[0.1111111111111111,\"#46039f\"],[0.2222222222222222,\"#7201a8\"],[0.3333333333333333,\"#9c179e\"],[0.4444444444444444,\"#bd3786\"],[0.5555555555555556,\"#d8576b\"],[0.6666666666666666,\"#ed7953\"],[0.7777777777777778,\"#fb9f3a\"],[0.8888888888888888,\"#fdca26\"],[1.0,\"#f0f921\"]]}],\"surface\":[{\"type\":\"surface\",\"colorbar\":{\"outlinewidth\":0,\"ticks\":\"\"},\"colorscale\":[[0.0,\"#0d0887\"],[0.1111111111111111,\"#46039f\"],[0.2222222222222222,\"#7201a8\"],[0.3333333333333333,\"#9c179e\"],[0.4444444444444444,\"#bd3786\"],[0.5555555555555556,\"#d8576b\"],[0.6666666666666666,\"#ed7953\"],[0.7777777777777778,\"#fb9f3a\"],[0.8888888888888888,\"#fdca26\"],[1.0,\"#f0f921\"]]}],\"mesh3d\":[{\"type\":\"mesh3d\",\"colorbar\":{\"outlinewidth\":0,\"ticks\":\"\"}}],\"scatter\":[{\"fillpattern\":{\"fillmode\":\"overlay\",\"size\":10,\"solidity\":0.2},\"type\":\"scatter\"}],\"parcoords\":[{\"type\":\"parcoords\",\"line\":{\"colorbar\":{\"outlinewidth\":0,\"ticks\":\"\"}}}],\"scatterpolargl\":[{\"type\":\"scatterpolargl\",\"marker\":{\"colorbar\":{\"outlinewidth\":0,\"ticks\":\"\"}}}],\"bar\":[{\"error_x\":{\"color\":\"#2a3f5f\"},\"error_y\":{\"color\":\"#2a3f5f\"},\"marker\":{\"line\":{\"color\":\"#E5ECF6\",\"width\":0.5},\"pattern\":{\"fillmode\":\"overlay\",\"size\":10,\"solidity\":0.2}},\"type\":\"bar\"}],\"scattergeo\":[{\"type\":\"scattergeo\",\"marker\":{\"colorbar\":{\"outlinewidth\":0,\"ticks\":\"\"}}}],\"scatterpolar\":[{\"type\":\"scatterpolar\",\"marker\":{\"colorbar\":{\"outlinewidth\":0,\"ticks\":\"\"}}}],\"histogram\":[{\"marker\":{\"pattern\":{\"fillmode\":\"overlay\",\"size\":10,\"solidity\":0.2}},\"type\":\"histogram\"}],\"scattergl\":[{\"type\":\"scattergl\",\"marker\":{\"colorbar\":{\"outlinewidth\":0,\"ticks\":\"\"}}}],\"scatter3d\":[{\"type\":\"scatter3d\",\"line\":{\"colorbar\":{\"outlinewidth\":0,\"ticks\":\"\"}},\"marker\":{\"colorbar\":{\"outlinewidth\":0,\"ticks\":\"\"}}}],\"scattermapbox\":[{\"type\":\"scattermapbox\",\"marker\":{\"colorbar\":{\"outlinewidth\":0,\"ticks\":\"\"}}}],\"scatterternary\":[{\"type\":\"scatterternary\",\"marker\":{\"colorbar\":{\"outlinewidth\":0,\"ticks\":\"\"}}}],\"scattercarpet\":[{\"type\":\"scattercarpet\",\"marker\":{\"colorbar\":{\"outlinewidth\":0,\"ticks\":\"\"}}}],\"carpet\":[{\"aaxis\":{\"endlinecolor\":\"#2a3f5f\",\"gridcolor\":\"white\",\"linecolor\":\"white\",\"minorgridcolor\":\"white\",\"startlinecolor\":\"#2a3f5f\"},\"baxis\":{\"endlinecolor\":\"#2a3f5f\",\"gridcolor\":\"white\",\"linecolor\":\"white\",\"minorgridcolor\":\"white\",\"startlinecolor\":\"#2a3f5f\"},\"type\":\"carpet\"}],\"table\":[{\"cells\":{\"fill\":{\"color\":\"#EBF0F8\"},\"line\":{\"color\":\"white\"}},\"header\":{\"fill\":{\"color\":\"#C8D4E3\"},\"line\":{\"color\":\"white\"}},\"type\":\"table\"}],\"barpolar\":[{\"marker\":{\"line\":{\"color\":\"#E5ECF6\",\"width\":0.5},\"pattern\":{\"fillmode\":\"overlay\",\"size\":10,\"solidity\":0.2}},\"type\":\"barpolar\"}],\"pie\":[{\"automargin\":true,\"type\":\"pie\"}]},\"layout\":{\"autotypenumbers\":\"strict\",\"colorway\":[\"#636efa\",\"#EF553B\",\"#00cc96\",\"#ab63fa\",\"#FFA15A\",\"#19d3f3\",\"#FF6692\",\"#B6E880\",\"#FF97FF\",\"#FECB52\"],\"font\":{\"color\":\"#2a3f5f\"},\"hovermode\":\"closest\",\"hoverlabel\":{\"align\":\"left\"},\"paper_bgcolor\":\"white\",\"plot_bgcolor\":\"#E5ECF6\",\"polar\":{\"bgcolor\":\"#E5ECF6\",\"angularaxis\":{\"gridcolor\":\"white\",\"linecolor\":\"white\",\"ticks\":\"\"},\"radialaxis\":{\"gridcolor\":\"white\",\"linecolor\":\"white\",\"ticks\":\"\"}},\"ternary\":{\"bgcolor\":\"#E5ECF6\",\"aaxis\":{\"gridcolor\":\"white\",\"linecolor\":\"white\",\"ticks\":\"\"},\"baxis\":{\"gridcolor\":\"white\",\"linecolor\":\"white\",\"ticks\":\"\"},\"caxis\":{\"gridcolor\":\"white\",\"linecolor\":\"white\",\"ticks\":\"\"}},\"coloraxis\":{\"colorbar\":{\"outlinewidth\":0,\"ticks\":\"\"}},\"colorscale\":{\"sequential\":[[0.0,\"#0d0887\"],[0.1111111111111111,\"#46039f\"],[0.2222222222222222,\"#7201a8\"],[0.3333333333333333,\"#9c179e\"],[0.4444444444444444,\"#bd3786\"],[0.5555555555555556,\"#d8576b\"],[0.6666666666666666,\"#ed7953\"],[0.7777777777777778,\"#fb9f3a\"],[0.8888888888888888,\"#fdca26\"],[1.0,\"#f0f921\"]],\"sequentialminus\":[[0.0,\"#0d0887\"],[0.1111111111111111,\"#46039f\"],[0.2222222222222222,\"#7201a8\"],[0.3333333333333333,\"#9c179e\"],[0.4444444444444444,\"#bd3786\"],[0.5555555555555556,\"#d8576b\"],[0.6666666666666666,\"#ed7953\"],[0.7777777777777778,\"#fb9f3a\"],[0.8888888888888888,\"#fdca26\"],[1.0,\"#f0f921\"]],\"diverging\":[[0,\"#8e0152\"],[0.1,\"#c51b7d\"],[0.2,\"#de77ae\"],[0.3,\"#f1b6da\"],[0.4,\"#fde0ef\"],[0.5,\"#f7f7f7\"],[0.6,\"#e6f5d0\"],[0.7,\"#b8e186\"],[0.8,\"#7fbc41\"],[0.9,\"#4d9221\"],[1,\"#276419\"]]},\"xaxis\":{\"gridcolor\":\"white\",\"linecolor\":\"white\",\"ticks\":\"\",\"title\":{\"standoff\":15},\"zerolinecolor\":\"white\",\"automargin\":true,\"zerolinewidth\":2},\"yaxis\":{\"gridcolor\":\"white\",\"linecolor\":\"white\",\"ticks\":\"\",\"title\":{\"standoff\":15},\"zerolinecolor\":\"white\",\"automargin\":true,\"zerolinewidth\":2},\"scene\":{\"xaxis\":{\"backgroundcolor\":\"#E5ECF6\",\"gridcolor\":\"white\",\"linecolor\":\"white\",\"showbackground\":true,\"ticks\":\"\",\"zerolinecolor\":\"white\",\"gridwidth\":2},\"yaxis\":{\"backgroundcolor\":\"#E5ECF6\",\"gridcolor\":\"white\",\"linecolor\":\"white\",\"showbackground\":true,\"ticks\":\"\",\"zerolinecolor\":\"white\",\"gridwidth\":2},\"zaxis\":{\"backgroundcolor\":\"#E5ECF6\",\"gridcolor\":\"white\",\"linecolor\":\"white\",\"showbackground\":true,\"ticks\":\"\",\"zerolinecolor\":\"white\",\"gridwidth\":2}},\"shapedefaults\":{\"line\":{\"color\":\"#2a3f5f\"}},\"annotationdefaults\":{\"arrowcolor\":\"#2a3f5f\",\"arrowhead\":0,\"arrowwidth\":1},\"geo\":{\"bgcolor\":\"white\",\"landcolor\":\"#E5ECF6\",\"subunitcolor\":\"white\",\"showland\":true,\"showlakes\":true,\"lakecolor\":\"white\"},\"title\":{\"x\":0.05},\"mapbox\":{\"style\":\"light\"}}},\"xaxis\":{\"anchor\":\"y\",\"domain\":[0.0,1.0],\"title\":{\"text\":\"Datetime\"}},\"yaxis\":{\"anchor\":\"x\",\"domain\":[0.0,1.0],\"title\":{\"text\":\"value\"}},\"legend\":{\"title\":{\"text\":\"variable\"},\"tracegroupgap\":0},\"title\":{\"text\":\"AAPL Stock Prices w/ Bollinger Bands\"}},                        {\"responsive\": true}                    ).then(function(){\n",
       "                            \n",
       "var gd = document.getElementById('f9d9cfa9-6033-4201-88a5-615e26c01910');\n",
       "var x = new MutationObserver(function (mutations, observer) {{\n",
       "        var display = window.getComputedStyle(gd).display;\n",
       "        if (!display || display === 'none') {{\n",
       "            console.log([gd, 'removed!']);\n",
       "            Plotly.purge(gd);\n",
       "            observer.disconnect();\n",
       "        }}\n",
       "}});\n",
       "\n",
       "// Listen for the removal of the full notebook cells\n",
       "var notebookContainer = gd.closest('#notebook-container');\n",
       "if (notebookContainer) {{\n",
       "    x.observe(notebookContainer, {childList: true});\n",
       "}}\n",
       "\n",
       "// Listen for the clearing of the current output cell\n",
       "var outputEl = gd.closest('.output');\n",
       "if (outputEl) {{\n",
       "    x.observe(outputEl, {childList: true});\n",
       "}}\n",
       "\n",
       "                        })                };                });            </script>        </div>"
      ]
     },
     "metadata": {},
     "output_type": "display_data"
    },
    {
     "data": {
      "application/vnd.plotly.v1+json": {
       "config": {
        "plotlyServerURL": "https://plot.ly"
       },
       "data": [
        {
         "hovertemplate": "variable=EMA_16<br>Datetime=%{x}<br>value=%{y}<extra></extra>",
         "legendgroup": "EMA_16",
         "line": {
          "color": "#38b9ff",
          "dash": "solid"
         },
         "marker": {
          "symbol": "circle"
         },
         "mode": "lines",
         "name": "EMA_16",
         "orientation": "v",
         "showlegend": true,
         "type": "scatter",
         "x": [
          "2024-06-06T09:30:00-04:00",
          "2024-06-06T09:31:00-04:00",
          "2024-06-06T09:32:00-04:00",
          "2024-06-06T09:33:00-04:00",
          "2024-06-06T09:34:00-04:00",
          "2024-06-06T09:35:00-04:00",
          "2024-06-06T09:36:00-04:00",
          "2024-06-06T09:37:00-04:00",
          "2024-06-06T09:38:00-04:00",
          "2024-06-06T09:39:00-04:00",
          "2024-06-06T09:40:00-04:00",
          "2024-06-06T09:41:00-04:00",
          "2024-06-06T09:42:00-04:00",
          "2024-06-06T09:43:00-04:00",
          "2024-06-06T09:44:00-04:00",
          "2024-06-06T09:45:00-04:00",
          "2024-06-06T09:46:00-04:00",
          "2024-06-06T09:47:00-04:00",
          "2024-06-06T09:48:00-04:00",
          "2024-06-06T09:49:00-04:00",
          "2024-06-06T09:50:00-04:00",
          "2024-06-06T09:51:00-04:00",
          "2024-06-06T09:52:00-04:00",
          "2024-06-06T09:53:00-04:00",
          "2024-06-06T09:54:00-04:00",
          "2024-06-06T09:55:00-04:00",
          "2024-06-06T09:56:00-04:00",
          "2024-06-06T09:57:00-04:00",
          "2024-06-06T09:58:00-04:00",
          "2024-06-06T09:59:00-04:00",
          "2024-06-06T10:00:00-04:00",
          "2024-06-06T10:01:00-04:00",
          "2024-06-06T10:02:00-04:00",
          "2024-06-06T10:03:00-04:00",
          "2024-06-06T10:04:00-04:00",
          "2024-06-06T10:05:00-04:00",
          "2024-06-06T10:06:00-04:00",
          "2024-06-06T10:07:00-04:00",
          "2024-06-06T10:08:00-04:00",
          "2024-06-06T10:09:00-04:00",
          "2024-06-06T10:10:00-04:00",
          "2024-06-06T10:11:00-04:00",
          "2024-06-06T10:12:00-04:00",
          "2024-06-06T10:13:00-04:00",
          "2024-06-06T10:14:00-04:00",
          "2024-06-06T10:15:00-04:00",
          "2024-06-06T10:16:00-04:00",
          "2024-06-06T10:17:00-04:00",
          "2024-06-06T10:18:00-04:00",
          "2024-06-06T10:19:00-04:00",
          "2024-06-06T10:20:00-04:00",
          "2024-06-06T10:21:00-04:00",
          "2024-06-06T10:22:00-04:00",
          "2024-06-06T10:23:00-04:00",
          "2024-06-06T10:24:00-04:00",
          "2024-06-06T10:25:00-04:00",
          "2024-06-06T10:26:00-04:00",
          "2024-06-06T10:27:00-04:00",
          "2024-06-06T10:28:00-04:00",
          "2024-06-06T10:29:00-04:00",
          "2024-06-06T10:30:00-04:00",
          "2024-06-06T10:31:00-04:00",
          "2024-06-06T10:32:00-04:00",
          "2024-06-06T10:33:00-04:00",
          "2024-06-06T10:34:00-04:00",
          "2024-06-06T10:35:00-04:00",
          "2024-06-06T10:36:00-04:00",
          "2024-06-06T10:37:00-04:00",
          "2024-06-06T10:38:00-04:00",
          "2024-06-06T10:39:00-04:00",
          "2024-06-06T10:40:00-04:00",
          "2024-06-06T10:41:00-04:00",
          "2024-06-06T10:42:00-04:00",
          "2024-06-06T10:43:00-04:00",
          "2024-06-06T10:44:00-04:00",
          "2024-06-06T10:45:00-04:00",
          "2024-06-06T10:46:00-04:00",
          "2024-06-06T10:47:00-04:00",
          "2024-06-06T10:48:00-04:00",
          "2024-06-06T10:49:00-04:00",
          "2024-06-06T10:50:00-04:00",
          "2024-06-06T10:51:00-04:00",
          "2024-06-06T10:52:00-04:00",
          "2024-06-06T10:53:00-04:00",
          "2024-06-06T10:54:00-04:00",
          "2024-06-06T10:55:00-04:00",
          "2024-06-06T10:56:00-04:00",
          "2024-06-06T10:57:00-04:00",
          "2024-06-06T10:58:00-04:00",
          "2024-06-06T10:59:00-04:00",
          "2024-06-06T11:00:00-04:00",
          "2024-06-06T11:01:00-04:00",
          "2024-06-06T11:02:00-04:00",
          "2024-06-06T11:03:00-04:00",
          "2024-06-06T11:04:00-04:00",
          "2024-06-06T11:05:00-04:00",
          "2024-06-06T11:06:00-04:00",
          "2024-06-06T11:07:00-04:00",
          "2024-06-06T11:08:00-04:00",
          "2024-06-06T11:09:00-04:00",
          "2024-06-06T11:10:00-04:00",
          "2024-06-06T11:11:00-04:00",
          "2024-06-06T11:12:00-04:00",
          "2024-06-06T11:13:00-04:00",
          "2024-06-06T11:14:00-04:00",
          "2024-06-06T11:15:00-04:00",
          "2024-06-06T11:16:00-04:00",
          "2024-06-06T11:17:00-04:00",
          "2024-06-06T11:18:00-04:00",
          "2024-06-06T11:19:00-04:00",
          "2024-06-06T11:20:00-04:00",
          "2024-06-06T11:21:00-04:00",
          "2024-06-06T11:22:00-04:00",
          "2024-06-06T11:23:00-04:00",
          "2024-06-06T11:24:00-04:00",
          "2024-06-06T11:25:00-04:00",
          "2024-06-06T11:26:00-04:00",
          "2024-06-06T11:27:00-04:00",
          "2024-06-06T11:28:00-04:00",
          "2024-06-06T11:29:00-04:00",
          "2024-06-06T11:30:00-04:00",
          "2024-06-06T11:31:00-04:00",
          "2024-06-06T11:32:00-04:00",
          "2024-06-06T11:33:00-04:00",
          "2024-06-06T11:34:00-04:00",
          "2024-06-06T11:35:00-04:00",
          "2024-06-06T11:36:00-04:00",
          "2024-06-06T11:37:00-04:00",
          "2024-06-06T11:38:00-04:00",
          "2024-06-06T11:39:00-04:00",
          "2024-06-06T11:40:00-04:00",
          "2024-06-06T11:41:00-04:00",
          "2024-06-06T11:42:00-04:00",
          "2024-06-06T11:43:00-04:00",
          "2024-06-06T11:44:00-04:00",
          "2024-06-06T11:45:00-04:00",
          "2024-06-06T11:46:00-04:00",
          "2024-06-06T11:47:00-04:00",
          "2024-06-06T11:48:00-04:00",
          "2024-06-06T11:49:00-04:00",
          "2024-06-06T11:50:00-04:00",
          "2024-06-06T11:51:00-04:00",
          "2024-06-06T11:52:00-04:00",
          "2024-06-06T11:53:00-04:00",
          "2024-06-06T11:54:00-04:00",
          "2024-06-06T11:55:00-04:00",
          "2024-06-06T11:56:00-04:00",
          "2024-06-06T11:57:00-04:00",
          "2024-06-06T11:58:00-04:00",
          "2024-06-06T11:59:00-04:00",
          "2024-06-06T12:00:00-04:00",
          "2024-06-06T12:01:00-04:00",
          "2024-06-06T12:02:00-04:00",
          "2024-06-06T12:03:00-04:00",
          "2024-06-06T12:04:00-04:00",
          "2024-06-06T12:05:00-04:00",
          "2024-06-06T12:06:00-04:00",
          "2024-06-06T12:07:00-04:00",
          "2024-06-06T12:08:00-04:00",
          "2024-06-06T12:09:00-04:00",
          "2024-06-06T12:10:00-04:00",
          "2024-06-06T12:11:00-04:00",
          "2024-06-06T12:12:00-04:00",
          "2024-06-06T12:13:00-04:00",
          "2024-06-06T12:14:00-04:00",
          "2024-06-06T12:15:00-04:00",
          "2024-06-06T12:16:00-04:00",
          "2024-06-06T12:17:00-04:00",
          "2024-06-06T12:18:00-04:00",
          "2024-06-06T12:19:00-04:00",
          "2024-06-06T12:20:00-04:00",
          "2024-06-06T12:21:00-04:00",
          "2024-06-06T12:22:00-04:00",
          "2024-06-06T12:23:00-04:00",
          "2024-06-06T12:24:00-04:00",
          "2024-06-06T12:25:00-04:00",
          "2024-06-06T12:26:00-04:00",
          "2024-06-06T12:27:00-04:00",
          "2024-06-06T12:28:00-04:00",
          "2024-06-06T12:29:00-04:00",
          "2024-06-06T12:30:00-04:00",
          "2024-06-06T12:31:00-04:00",
          "2024-06-06T12:32:00-04:00",
          "2024-06-06T12:33:00-04:00",
          "2024-06-06T12:34:00-04:00",
          "2024-06-06T12:35:00-04:00",
          "2024-06-06T12:36:00-04:00",
          "2024-06-06T12:37:00-04:00",
          "2024-06-06T12:38:00-04:00",
          "2024-06-06T12:39:00-04:00",
          "2024-06-06T12:40:00-04:00",
          "2024-06-06T12:41:00-04:00",
          "2024-06-06T12:42:00-04:00",
          "2024-06-06T12:43:00-04:00",
          "2024-06-06T12:44:00-04:00",
          "2024-06-06T12:45:00-04:00",
          "2024-06-06T12:46:00-04:00",
          "2024-06-06T12:47:00-04:00",
          "2024-06-06T12:48:00-04:00",
          "2024-06-06T12:49:00-04:00",
          "2024-06-06T12:50:00-04:00",
          "2024-06-06T12:51:00-04:00",
          "2024-06-06T12:52:00-04:00",
          "2024-06-06T12:53:00-04:00",
          "2024-06-06T12:54:00-04:00",
          "2024-06-06T12:55:00-04:00",
          "2024-06-06T12:56:00-04:00",
          "2024-06-06T12:57:00-04:00",
          "2024-06-06T12:58:00-04:00",
          "2024-06-06T12:59:00-04:00",
          "2024-06-06T13:00:00-04:00",
          "2024-06-06T13:01:00-04:00",
          "2024-06-06T13:02:00-04:00",
          "2024-06-06T13:03:00-04:00",
          "2024-06-06T13:04:00-04:00",
          "2024-06-06T13:05:00-04:00",
          "2024-06-06T13:06:00-04:00",
          "2024-06-06T13:07:00-04:00",
          "2024-06-06T13:08:00-04:00",
          "2024-06-06T13:09:00-04:00",
          "2024-06-06T13:10:00-04:00",
          "2024-06-06T13:11:00-04:00",
          "2024-06-06T13:12:00-04:00",
          "2024-06-06T13:13:00-04:00",
          "2024-06-06T13:14:00-04:00",
          "2024-06-06T13:15:00-04:00",
          "2024-06-06T13:16:00-04:00",
          "2024-06-06T13:17:00-04:00",
          "2024-06-06T13:18:00-04:00",
          "2024-06-06T13:19:00-04:00",
          "2024-06-06T13:20:00-04:00",
          "2024-06-06T13:21:00-04:00",
          "2024-06-06T13:22:00-04:00",
          "2024-06-06T13:23:00-04:00",
          "2024-06-06T13:24:00-04:00",
          "2024-06-06T13:25:00-04:00",
          "2024-06-06T13:26:00-04:00",
          "2024-06-06T13:27:00-04:00",
          "2024-06-06T13:28:00-04:00",
          "2024-06-06T13:29:00-04:00",
          "2024-06-06T13:30:00-04:00",
          "2024-06-06T13:31:00-04:00",
          "2024-06-06T13:32:00-04:00",
          "2024-06-06T13:33:00-04:00",
          "2024-06-06T13:34:00-04:00",
          "2024-06-06T13:35:00-04:00",
          "2024-06-06T13:36:00-04:00",
          "2024-06-06T13:37:00-04:00",
          "2024-06-06T13:38:00-04:00",
          "2024-06-06T13:39:00-04:00",
          "2024-06-06T13:40:00-04:00",
          "2024-06-06T13:41:00-04:00",
          "2024-06-06T13:42:00-04:00",
          "2024-06-06T13:43:00-04:00",
          "2024-06-06T13:44:00-04:00",
          "2024-06-06T13:45:00-04:00",
          "2024-06-06T13:46:00-04:00",
          "2024-06-06T13:47:00-04:00",
          "2024-06-06T13:48:00-04:00",
          "2024-06-06T13:49:00-04:00",
          "2024-06-06T13:50:00-04:00",
          "2024-06-06T13:51:00-04:00",
          "2024-06-06T13:52:00-04:00",
          "2024-06-06T13:53:00-04:00",
          "2024-06-06T13:54:00-04:00",
          "2024-06-06T13:55:00-04:00",
          "2024-06-06T13:56:00-04:00",
          "2024-06-06T13:57:00-04:00",
          "2024-06-06T13:58:00-04:00",
          "2024-06-06T13:59:00-04:00",
          "2024-06-06T14:00:00-04:00",
          "2024-06-06T14:01:00-04:00",
          "2024-06-06T14:02:00-04:00",
          "2024-06-06T14:03:00-04:00",
          "2024-06-06T14:04:00-04:00",
          "2024-06-06T14:05:00-04:00",
          "2024-06-06T14:06:00-04:00",
          "2024-06-06T14:07:00-04:00",
          "2024-06-06T14:08:00-04:00",
          "2024-06-06T14:09:00-04:00",
          "2024-06-06T14:10:00-04:00",
          "2024-06-06T14:11:00-04:00",
          "2024-06-06T14:12:00-04:00",
          "2024-06-06T14:13:00-04:00",
          "2024-06-06T14:14:00-04:00",
          "2024-06-06T14:15:00-04:00",
          "2024-06-06T14:16:00-04:00",
          "2024-06-06T14:17:00-04:00",
          "2024-06-06T14:18:00-04:00",
          "2024-06-06T14:19:00-04:00",
          "2024-06-06T14:20:00-04:00",
          "2024-06-06T14:21:00-04:00",
          "2024-06-06T14:22:00-04:00",
          "2024-06-06T14:23:00-04:00",
          "2024-06-06T14:24:00-04:00",
          "2024-06-06T14:25:00-04:00",
          "2024-06-06T14:26:00-04:00",
          "2024-06-06T14:27:00-04:00",
          "2024-06-06T14:28:00-04:00",
          "2024-06-06T14:29:00-04:00",
          "2024-06-06T14:30:00-04:00",
          "2024-06-06T14:31:00-04:00",
          "2024-06-06T14:32:00-04:00",
          "2024-06-06T14:33:00-04:00",
          "2024-06-06T14:34:00-04:00",
          "2024-06-06T14:35:00-04:00",
          "2024-06-06T14:36:00-04:00",
          "2024-06-06T14:37:00-04:00",
          "2024-06-06T14:38:00-04:00",
          "2024-06-06T14:39:00-04:00",
          "2024-06-06T14:40:00-04:00",
          "2024-06-06T14:41:00-04:00",
          "2024-06-06T14:42:00-04:00",
          "2024-06-06T14:43:00-04:00",
          "2024-06-06T14:44:00-04:00",
          "2024-06-06T14:45:00-04:00",
          "2024-06-06T14:46:00-04:00",
          "2024-06-06T14:47:00-04:00",
          "2024-06-06T14:48:00-04:00",
          "2024-06-06T14:49:00-04:00",
          "2024-06-06T14:50:00-04:00",
          "2024-06-06T14:51:00-04:00",
          "2024-06-06T14:52:00-04:00",
          "2024-06-06T14:53:00-04:00",
          "2024-06-06T14:54:00-04:00",
          "2024-06-06T14:55:00-04:00",
          "2024-06-06T14:56:00-04:00",
          "2024-06-06T14:57:00-04:00",
          "2024-06-06T14:58:00-04:00",
          "2024-06-06T14:59:00-04:00",
          "2024-06-06T15:00:00-04:00",
          "2024-06-06T15:01:00-04:00",
          "2024-06-06T15:02:00-04:00",
          "2024-06-06T15:03:00-04:00",
          "2024-06-06T15:04:00-04:00",
          "2024-06-06T15:05:00-04:00",
          "2024-06-06T15:06:00-04:00",
          "2024-06-06T15:07:00-04:00",
          "2024-06-06T15:08:00-04:00",
          "2024-06-06T15:09:00-04:00",
          "2024-06-06T15:10:00-04:00",
          "2024-06-06T15:11:00-04:00",
          "2024-06-06T15:12:00-04:00",
          "2024-06-06T15:13:00-04:00",
          "2024-06-06T15:14:00-04:00",
          "2024-06-06T15:15:00-04:00",
          "2024-06-06T15:16:00-04:00",
          "2024-06-06T15:17:00-04:00",
          "2024-06-06T15:18:00-04:00",
          "2024-06-06T15:19:00-04:00",
          "2024-06-06T15:20:00-04:00",
          "2024-06-06T15:21:00-04:00",
          "2024-06-06T15:22:00-04:00",
          "2024-06-06T15:23:00-04:00",
          "2024-06-06T15:24:00-04:00",
          "2024-06-06T15:25:00-04:00",
          "2024-06-06T15:26:00-04:00",
          "2024-06-06T15:27:00-04:00",
          "2024-06-06T15:28:00-04:00",
          "2024-06-06T15:29:00-04:00",
          "2024-06-06T15:30:00-04:00",
          "2024-06-06T15:31:00-04:00",
          "2024-06-06T15:32:00-04:00",
          "2024-06-06T15:33:00-04:00",
          "2024-06-06T15:34:00-04:00",
          "2024-06-06T15:35:00-04:00",
          "2024-06-06T15:36:00-04:00",
          "2024-06-06T15:37:00-04:00",
          "2024-06-06T15:38:00-04:00",
          "2024-06-06T15:39:00-04:00",
          "2024-06-06T15:40:00-04:00",
          "2024-06-06T15:41:00-04:00",
          "2024-06-06T15:42:00-04:00",
          "2024-06-06T15:43:00-04:00",
          "2024-06-06T15:44:00-04:00",
          "2024-06-06T15:45:00-04:00",
          "2024-06-06T15:46:00-04:00",
          "2024-06-06T15:47:00-04:00",
          "2024-06-06T15:48:00-04:00",
          "2024-06-06T15:49:00-04:00",
          "2024-06-06T15:50:00-04:00",
          "2024-06-06T15:51:00-04:00",
          "2024-06-06T15:52:00-04:00",
          "2024-06-06T15:53:00-04:00",
          "2024-06-06T15:54:00-04:00",
          "2024-06-06T15:55:00-04:00",
          "2024-06-06T15:56:00-04:00",
          "2024-06-06T15:57:00-04:00",
          "2024-06-06T15:58:00-04:00",
          "2024-06-06T15:59:00-04:00"
         ],
         "xaxis": "x",
         "y": [
          196.1300048828125,
          196.1300048828125,
          196.21666463216147,
          196.1515998840332,
          196.05148583984376,
          195.96849926607112,
          195.84663100681516,
          195.8020297922194,
          195.76313641566108,
          195.73698194242195,
          195.71647229135343,
          195.6504238436351,
          195.64369120757755,
          195.64765335585201,
          195.66089600392672,
          195.6773979661601,
          195.6782605697211,
          195.68307121559548,
          195.64580816893022,
          195.63584455730506,
          195.63055246323736,
          195.60989615172753,
          195.62832543768266,
          195.6234765831782,
          195.62659626709655,
          195.63447136777322,
          195.60571641982446,
          195.66669738925367,
          195.70359379939944,
          195.74622077644773,
          195.79664350734762,
          195.8314831835804,
          195.8653732585664,
          195.86958095247695,
          195.9305409681771,
          195.93355445814103,
          195.9279336553921,
          195.89254321936332,
          195.87369703553514,
          195.84990572197992,
          195.84087212256725,
          195.845493970194,
          195.86976490323968,
          195.89235419706205,
          195.92152670771384,
          195.96967052681697,
          196.01722418159733,
          196.04651174261565,
          196.05491630791994,
          196.1034945426194,
          196.1131321123729,
          196.1077920557123,
          196.11489938087803,
          196.15667606791627,
          196.176511570253,
          196.18722504828594,
          196.18862760580433,
          196.1649890801723,
          196.13516225952733,
          196.13258457043673,
          196.12242256073444,
          196.10907798295423,
          196.09569425144684,
          196.0629548739471,
          196.01095247545655,
          195.95914354843006,
          195.93547401731504,
          195.91565841086995,
          195.9339283932255,
          195.90824044910403,
          195.85507603955045,
          195.82697239770718,
          195.80386198573086,
          195.8089778502746,
          195.82394597113822,
          195.80486315032522,
          195.79453261141205,
          195.7889646916509,
          195.75667226490293,
          195.71784609622514,
          195.68470011165164,
          195.67581397575026,
          195.67196500648214,
          195.6736047982901,
          195.6570877411719,
          195.66159250473686,
          195.69338003654497,
          195.72931543688026,
          195.73171113278212,
          195.7353871661918,
          195.7310323586739,
          195.7169488594815,
          195.71360337399517,
          195.70462412492805,
          195.69151013368608,
          195.6931131207355,
          195.67917800747878,
          195.7007667866864,
          195.70877483670643,
          195.70042358690486,
          195.71628383618307,
          195.72865564800694,
          195.73272687265677,
          195.70596730099837,
          195.69841087991222,
          195.71171198344777,
          195.71195610526198,
          195.7357070910332,
          195.73773539222216,
          195.73187772369408,
          195.71284290852253,
          195.70984222260938,
          195.72579884228014,
          195.72174097135365,
          195.71947449431764,
          195.72998852519535,
          195.73846782009343,
          195.7427470120709,
          195.74290494464273,
          195.76825981307675,
          195.78353749706443,
          195.78204984370728,
          195.77895484535318,
          195.75296612998068,
          195.74403147369358,
          195.74237663364414,
          195.75103097250104,
          195.7532372065161,
          195.7417287241292,
          195.73965782999636,
          195.7354421533965,
          195.73803939415373,
          195.72398036832465,
          195.70719518723394,
          195.69811309248686,
          195.69044714442396,
          195.66554588137612,
          195.66473832555803,
          195.6537292432611,
          195.66219348495525,
          195.6559610651837,
          195.6339768860382,
          195.60884210303254,
          195.59246869787088,
          195.56727990730616,
          195.55467752508775,
          195.53426354385718,
          195.5250074047395,
          195.527588720546,
          195.521993152946,
          195.52410900277758,
          195.5152080327493,
          195.51326538207306,
          195.51163027694443,
          195.50993322006184,
          195.49855919188144,
          195.49121426745631,
          195.48933430995083,
          195.48878874049615,
          195.50086431461597,
          195.50648464959178,
          195.52137132925498,
          195.54484610216136,
          195.57270774641344,
          195.5699584624623,
          195.57771425251423,
          195.56304405523557,
          195.57893653375544,
          195.59265446900778,
          195.60362907274597,
          195.62631840271743,
          195.64609431282634,
          195.65416722306986,
          195.67144292825577,
          195.67762733278778,
          195.6761857757895,
          195.683596620967,
          195.6940742007846,
          195.68854872271493,
          195.68151734093678,
          195.67327667013515,
          195.6661414281825,
          195.68902189534586,
          195.68375685424343,
          195.68013331920457,
          195.68991305312525,
          195.68772359592748,
          195.67906403430027,
          195.68419193311559,
          195.68044568519252,
          195.67078915737858,
          195.66865533070245,
          195.67158024657988,
          195.663920751327,
          195.6708973827406,
          195.66523766991756,
          195.66697355296031,
          195.66902525594048,
          195.66003673654473,
          195.65968632746518,
          195.6637729705771,
          195.6693149300558,
          195.66693917172046,
          195.67673082250295,
          195.6786189187703,
          195.6764976568458,
          195.68240563131397,
          195.69699310927496,
          195.69787432982156,
          195.71387548587302,
          195.74130769895885,
          195.7690228044781,
          195.7815469120429,
          195.80136456336047,
          195.82290003591206,
          195.83574325693914,
          195.8557410914768,
          195.87617528732454,
          195.9009785790599,
          195.9196866942992,
          195.9329933756586,
          195.94300565346012,
          195.9344849468754,
          195.9267423780666,
          195.93297828699752,
          195.9383250295616,
          195.91266926336164,
          195.89420167772127,
          195.882649585087,
          195.86763256129,
          195.8438812034684,
          195.81420364821844,
          195.7806810195353,
          195.762461313967,
          195.72997936589516,
          195.70451434499907,
          195.67921803738506,
          195.6643252747449,
          195.64915994701497,
          195.64910458836442,
          195.64492473835804,
          195.63371969899873,
          195.64234092884095,
          195.64685167241404,
          195.64848572707052,
          195.63231039024683,
          195.60995714394,
          195.60752411173453,
          195.607313152004,
          195.59778948467374,
          195.60056975006887,
          195.61590725834267,
          195.6249997097858,
          195.6320582802338,
          195.63257697764232,
          195.63603053423972,
          195.63171566461347,
          195.6372451539117,
          195.63330999141255,
          195.62246909203904,
          195.616866140465,
          195.60830659427822,
          195.60759008668907,
          195.60443117130677,
          195.59288743124847,
          195.59905445111136,
          195.59916043685888,
          195.59023642521862,
          195.5785313126104,
          195.55864100975495,
          195.54945040481525,
          195.54760224507183,
          195.54241753170362,
          195.53505579655695,
          195.5321271981629,
          195.5234347921844,
          195.51494851619105,
          195.4958573480498,
          195.46421749591673,
          195.4218516206878,
          195.3836122356386,
          195.3376807666117,
          195.29926251744487,
          195.27346714257544,
          195.26803747342245,
          195.27182357088597,
          195.2828218724205,
          195.28196970234595,
          195.28829611251135,
          195.29292285826628,
          195.30433462992403,
          195.31341926834162,
          195.30895564902548,
          195.31876348467762,
          195.33285679686546,
          195.33444356891903,
          195.3675931269504,
          195.3777413649251,
          195.39473686380154,
          195.43098334020334,
          195.45365143353234,
          195.45183482543223,
          195.4467579820781,
          195.44866343889325,
          195.4546672269484,
          195.45808238993715,
          195.4372689134624,
          195.43812648026807,
          195.44425966629353,
          195.42922439778695,
          195.40618892344173,
          195.38007427723142,
          195.36595981148176,
          195.3560575931924,
          195.34575132865837,
          195.33594289935237,
          195.31560340605435,
          195.30002697113855,
          195.3034158887046,
          195.29961281868498,
          195.29861342134686,
          195.2851913381833,
          195.28727861553938,
          195.2936676279998,
          195.29848644991353,
          195.29800177256374,
          195.30621155707772,
          195.31542758396733,
          195.31242089594951,
          195.3066830539078,
          195.297475133994,
          195.29223454693027,
          195.28929043151527,
          195.2802899291765,
          195.2769864288328,
          195.26901996513263,
          195.26974050954848,
          195.26757362668246,
          195.28691194339925,
          195.29352340735207,
          195.2863569969197,
          195.28504424773695,
          195.26914003730792,
          195.24349289719936,
          195.22223399931136,
          195.19842453777798,
          195.19314030636153,
          195.19723600616084,
          195.1972140403892,
          195.21115826108357,
          195.22479307506367,
          195.23575272417926,
          195.23879774622617,
          195.2478355453258,
          195.245076058564,
          195.24240094065146,
          195.2447395749223,
          195.23546841943644,
          195.22596362083718,
          195.2275111151029,
          195.24428080126648,
          195.2814794602623,
          195.29847113905657,
          195.31185263309277,
          195.32907622013602,
          195.3257623977687,
          195.29883626261994,
          195.26808840456022,
          195.2570684183126,
          195.25710521202512,
          195.23826563635924,
          195.22168001669925,
          195.19414438103317,
          195.17306849969378,
          195.15828121132654,
          195.1536494211196,
          195.14518756604946,
          195.12000805667728,
          195.1161502723767,
          195.10885050578113,
          195.09254834159975,
          195.05177747487284,
          194.99054521633434,
          194.92233297170603,
          194.87737884342917,
          194.79982925848208,
          194.7339298569207,
          194.66614910738346,
          194.63196503949152,
          194.59483085209175
         ],
         "yaxis": "y"
        },
        {
         "hovertemplate": "variable=EMA_8<br>Datetime=%{x}<br>value=%{y}<extra></extra>",
         "legendgroup": "EMA_8",
         "line": {
          "color": "#44fcd1",
          "dash": "solid"
         },
         "marker": {
          "symbol": "circle"
         },
         "mode": "lines",
         "name": "EMA_8",
         "orientation": "v",
         "showlegend": true,
         "type": "scatter",
         "x": [
          "2024-06-06T09:30:00-04:00",
          "2024-06-06T09:31:00-04:00",
          "2024-06-06T09:32:00-04:00",
          "2024-06-06T09:33:00-04:00",
          "2024-06-06T09:34:00-04:00",
          "2024-06-06T09:35:00-04:00",
          "2024-06-06T09:36:00-04:00",
          "2024-06-06T09:37:00-04:00",
          "2024-06-06T09:38:00-04:00",
          "2024-06-06T09:39:00-04:00",
          "2024-06-06T09:40:00-04:00",
          "2024-06-06T09:41:00-04:00",
          "2024-06-06T09:42:00-04:00",
          "2024-06-06T09:43:00-04:00",
          "2024-06-06T09:44:00-04:00",
          "2024-06-06T09:45:00-04:00",
          "2024-06-06T09:46:00-04:00",
          "2024-06-06T09:47:00-04:00",
          "2024-06-06T09:48:00-04:00",
          "2024-06-06T09:49:00-04:00",
          "2024-06-06T09:50:00-04:00",
          "2024-06-06T09:51:00-04:00",
          "2024-06-06T09:52:00-04:00",
          "2024-06-06T09:53:00-04:00",
          "2024-06-06T09:54:00-04:00",
          "2024-06-06T09:55:00-04:00",
          "2024-06-06T09:56:00-04:00",
          "2024-06-06T09:57:00-04:00",
          "2024-06-06T09:58:00-04:00",
          "2024-06-06T09:59:00-04:00",
          "2024-06-06T10:00:00-04:00",
          "2024-06-06T10:01:00-04:00",
          "2024-06-06T10:02:00-04:00",
          "2024-06-06T10:03:00-04:00",
          "2024-06-06T10:04:00-04:00",
          "2024-06-06T10:05:00-04:00",
          "2024-06-06T10:06:00-04:00",
          "2024-06-06T10:07:00-04:00",
          "2024-06-06T10:08:00-04:00",
          "2024-06-06T10:09:00-04:00",
          "2024-06-06T10:10:00-04:00",
          "2024-06-06T10:11:00-04:00",
          "2024-06-06T10:12:00-04:00",
          "2024-06-06T10:13:00-04:00",
          "2024-06-06T10:14:00-04:00",
          "2024-06-06T10:15:00-04:00",
          "2024-06-06T10:16:00-04:00",
          "2024-06-06T10:17:00-04:00",
          "2024-06-06T10:18:00-04:00",
          "2024-06-06T10:19:00-04:00",
          "2024-06-06T10:20:00-04:00",
          "2024-06-06T10:21:00-04:00",
          "2024-06-06T10:22:00-04:00",
          "2024-06-06T10:23:00-04:00",
          "2024-06-06T10:24:00-04:00",
          "2024-06-06T10:25:00-04:00",
          "2024-06-06T10:26:00-04:00",
          "2024-06-06T10:27:00-04:00",
          "2024-06-06T10:28:00-04:00",
          "2024-06-06T10:29:00-04:00",
          "2024-06-06T10:30:00-04:00",
          "2024-06-06T10:31:00-04:00",
          "2024-06-06T10:32:00-04:00",
          "2024-06-06T10:33:00-04:00",
          "2024-06-06T10:34:00-04:00",
          "2024-06-06T10:35:00-04:00",
          "2024-06-06T10:36:00-04:00",
          "2024-06-06T10:37:00-04:00",
          "2024-06-06T10:38:00-04:00",
          "2024-06-06T10:39:00-04:00",
          "2024-06-06T10:40:00-04:00",
          "2024-06-06T10:41:00-04:00",
          "2024-06-06T10:42:00-04:00",
          "2024-06-06T10:43:00-04:00",
          "2024-06-06T10:44:00-04:00",
          "2024-06-06T10:45:00-04:00",
          "2024-06-06T10:46:00-04:00",
          "2024-06-06T10:47:00-04:00",
          "2024-06-06T10:48:00-04:00",
          "2024-06-06T10:49:00-04:00",
          "2024-06-06T10:50:00-04:00",
          "2024-06-06T10:51:00-04:00",
          "2024-06-06T10:52:00-04:00",
          "2024-06-06T10:53:00-04:00",
          "2024-06-06T10:54:00-04:00",
          "2024-06-06T10:55:00-04:00",
          "2024-06-06T10:56:00-04:00",
          "2024-06-06T10:57:00-04:00",
          "2024-06-06T10:58:00-04:00",
          "2024-06-06T10:59:00-04:00",
          "2024-06-06T11:00:00-04:00",
          "2024-06-06T11:01:00-04:00",
          "2024-06-06T11:02:00-04:00",
          "2024-06-06T11:03:00-04:00",
          "2024-06-06T11:04:00-04:00",
          "2024-06-06T11:05:00-04:00",
          "2024-06-06T11:06:00-04:00",
          "2024-06-06T11:07:00-04:00",
          "2024-06-06T11:08:00-04:00",
          "2024-06-06T11:09:00-04:00",
          "2024-06-06T11:10:00-04:00",
          "2024-06-06T11:11:00-04:00",
          "2024-06-06T11:12:00-04:00",
          "2024-06-06T11:13:00-04:00",
          "2024-06-06T11:14:00-04:00",
          "2024-06-06T11:15:00-04:00",
          "2024-06-06T11:16:00-04:00",
          "2024-06-06T11:17:00-04:00",
          "2024-06-06T11:18:00-04:00",
          "2024-06-06T11:19:00-04:00",
          "2024-06-06T11:20:00-04:00",
          "2024-06-06T11:21:00-04:00",
          "2024-06-06T11:22:00-04:00",
          "2024-06-06T11:23:00-04:00",
          "2024-06-06T11:24:00-04:00",
          "2024-06-06T11:25:00-04:00",
          "2024-06-06T11:26:00-04:00",
          "2024-06-06T11:27:00-04:00",
          "2024-06-06T11:28:00-04:00",
          "2024-06-06T11:29:00-04:00",
          "2024-06-06T11:30:00-04:00",
          "2024-06-06T11:31:00-04:00",
          "2024-06-06T11:32:00-04:00",
          "2024-06-06T11:33:00-04:00",
          "2024-06-06T11:34:00-04:00",
          "2024-06-06T11:35:00-04:00",
          "2024-06-06T11:36:00-04:00",
          "2024-06-06T11:37:00-04:00",
          "2024-06-06T11:38:00-04:00",
          "2024-06-06T11:39:00-04:00",
          "2024-06-06T11:40:00-04:00",
          "2024-06-06T11:41:00-04:00",
          "2024-06-06T11:42:00-04:00",
          "2024-06-06T11:43:00-04:00",
          "2024-06-06T11:44:00-04:00",
          "2024-06-06T11:45:00-04:00",
          "2024-06-06T11:46:00-04:00",
          "2024-06-06T11:47:00-04:00",
          "2024-06-06T11:48:00-04:00",
          "2024-06-06T11:49:00-04:00",
          "2024-06-06T11:50:00-04:00",
          "2024-06-06T11:51:00-04:00",
          "2024-06-06T11:52:00-04:00",
          "2024-06-06T11:53:00-04:00",
          "2024-06-06T11:54:00-04:00",
          "2024-06-06T11:55:00-04:00",
          "2024-06-06T11:56:00-04:00",
          "2024-06-06T11:57:00-04:00",
          "2024-06-06T11:58:00-04:00",
          "2024-06-06T11:59:00-04:00",
          "2024-06-06T12:00:00-04:00",
          "2024-06-06T12:01:00-04:00",
          "2024-06-06T12:02:00-04:00",
          "2024-06-06T12:03:00-04:00",
          "2024-06-06T12:04:00-04:00",
          "2024-06-06T12:05:00-04:00",
          "2024-06-06T12:06:00-04:00",
          "2024-06-06T12:07:00-04:00",
          "2024-06-06T12:08:00-04:00",
          "2024-06-06T12:09:00-04:00",
          "2024-06-06T12:10:00-04:00",
          "2024-06-06T12:11:00-04:00",
          "2024-06-06T12:12:00-04:00",
          "2024-06-06T12:13:00-04:00",
          "2024-06-06T12:14:00-04:00",
          "2024-06-06T12:15:00-04:00",
          "2024-06-06T12:16:00-04:00",
          "2024-06-06T12:17:00-04:00",
          "2024-06-06T12:18:00-04:00",
          "2024-06-06T12:19:00-04:00",
          "2024-06-06T12:20:00-04:00",
          "2024-06-06T12:21:00-04:00",
          "2024-06-06T12:22:00-04:00",
          "2024-06-06T12:23:00-04:00",
          "2024-06-06T12:24:00-04:00",
          "2024-06-06T12:25:00-04:00",
          "2024-06-06T12:26:00-04:00",
          "2024-06-06T12:27:00-04:00",
          "2024-06-06T12:28:00-04:00",
          "2024-06-06T12:29:00-04:00",
          "2024-06-06T12:30:00-04:00",
          "2024-06-06T12:31:00-04:00",
          "2024-06-06T12:32:00-04:00",
          "2024-06-06T12:33:00-04:00",
          "2024-06-06T12:34:00-04:00",
          "2024-06-06T12:35:00-04:00",
          "2024-06-06T12:36:00-04:00",
          "2024-06-06T12:37:00-04:00",
          "2024-06-06T12:38:00-04:00",
          "2024-06-06T12:39:00-04:00",
          "2024-06-06T12:40:00-04:00",
          "2024-06-06T12:41:00-04:00",
          "2024-06-06T12:42:00-04:00",
          "2024-06-06T12:43:00-04:00",
          "2024-06-06T12:44:00-04:00",
          "2024-06-06T12:45:00-04:00",
          "2024-06-06T12:46:00-04:00",
          "2024-06-06T12:47:00-04:00",
          "2024-06-06T12:48:00-04:00",
          "2024-06-06T12:49:00-04:00",
          "2024-06-06T12:50:00-04:00",
          "2024-06-06T12:51:00-04:00",
          "2024-06-06T12:52:00-04:00",
          "2024-06-06T12:53:00-04:00",
          "2024-06-06T12:54:00-04:00",
          "2024-06-06T12:55:00-04:00",
          "2024-06-06T12:56:00-04:00",
          "2024-06-06T12:57:00-04:00",
          "2024-06-06T12:58:00-04:00",
          "2024-06-06T12:59:00-04:00",
          "2024-06-06T13:00:00-04:00",
          "2024-06-06T13:01:00-04:00",
          "2024-06-06T13:02:00-04:00",
          "2024-06-06T13:03:00-04:00",
          "2024-06-06T13:04:00-04:00",
          "2024-06-06T13:05:00-04:00",
          "2024-06-06T13:06:00-04:00",
          "2024-06-06T13:07:00-04:00",
          "2024-06-06T13:08:00-04:00",
          "2024-06-06T13:09:00-04:00",
          "2024-06-06T13:10:00-04:00",
          "2024-06-06T13:11:00-04:00",
          "2024-06-06T13:12:00-04:00",
          "2024-06-06T13:13:00-04:00",
          "2024-06-06T13:14:00-04:00",
          "2024-06-06T13:15:00-04:00",
          "2024-06-06T13:16:00-04:00",
          "2024-06-06T13:17:00-04:00",
          "2024-06-06T13:18:00-04:00",
          "2024-06-06T13:19:00-04:00",
          "2024-06-06T13:20:00-04:00",
          "2024-06-06T13:21:00-04:00",
          "2024-06-06T13:22:00-04:00",
          "2024-06-06T13:23:00-04:00",
          "2024-06-06T13:24:00-04:00",
          "2024-06-06T13:25:00-04:00",
          "2024-06-06T13:26:00-04:00",
          "2024-06-06T13:27:00-04:00",
          "2024-06-06T13:28:00-04:00",
          "2024-06-06T13:29:00-04:00",
          "2024-06-06T13:30:00-04:00",
          "2024-06-06T13:31:00-04:00",
          "2024-06-06T13:32:00-04:00",
          "2024-06-06T13:33:00-04:00",
          "2024-06-06T13:34:00-04:00",
          "2024-06-06T13:35:00-04:00",
          "2024-06-06T13:36:00-04:00",
          "2024-06-06T13:37:00-04:00",
          "2024-06-06T13:38:00-04:00",
          "2024-06-06T13:39:00-04:00",
          "2024-06-06T13:40:00-04:00",
          "2024-06-06T13:41:00-04:00",
          "2024-06-06T13:42:00-04:00",
          "2024-06-06T13:43:00-04:00",
          "2024-06-06T13:44:00-04:00",
          "2024-06-06T13:45:00-04:00",
          "2024-06-06T13:46:00-04:00",
          "2024-06-06T13:47:00-04:00",
          "2024-06-06T13:48:00-04:00",
          "2024-06-06T13:49:00-04:00",
          "2024-06-06T13:50:00-04:00",
          "2024-06-06T13:51:00-04:00",
          "2024-06-06T13:52:00-04:00",
          "2024-06-06T13:53:00-04:00",
          "2024-06-06T13:54:00-04:00",
          "2024-06-06T13:55:00-04:00",
          "2024-06-06T13:56:00-04:00",
          "2024-06-06T13:57:00-04:00",
          "2024-06-06T13:58:00-04:00",
          "2024-06-06T13:59:00-04:00",
          "2024-06-06T14:00:00-04:00",
          "2024-06-06T14:01:00-04:00",
          "2024-06-06T14:02:00-04:00",
          "2024-06-06T14:03:00-04:00",
          "2024-06-06T14:04:00-04:00",
          "2024-06-06T14:05:00-04:00",
          "2024-06-06T14:06:00-04:00",
          "2024-06-06T14:07:00-04:00",
          "2024-06-06T14:08:00-04:00",
          "2024-06-06T14:09:00-04:00",
          "2024-06-06T14:10:00-04:00",
          "2024-06-06T14:11:00-04:00",
          "2024-06-06T14:12:00-04:00",
          "2024-06-06T14:13:00-04:00",
          "2024-06-06T14:14:00-04:00",
          "2024-06-06T14:15:00-04:00",
          "2024-06-06T14:16:00-04:00",
          "2024-06-06T14:17:00-04:00",
          "2024-06-06T14:18:00-04:00",
          "2024-06-06T14:19:00-04:00",
          "2024-06-06T14:20:00-04:00",
          "2024-06-06T14:21:00-04:00",
          "2024-06-06T14:22:00-04:00",
          "2024-06-06T14:23:00-04:00",
          "2024-06-06T14:24:00-04:00",
          "2024-06-06T14:25:00-04:00",
          "2024-06-06T14:26:00-04:00",
          "2024-06-06T14:27:00-04:00",
          "2024-06-06T14:28:00-04:00",
          "2024-06-06T14:29:00-04:00",
          "2024-06-06T14:30:00-04:00",
          "2024-06-06T14:31:00-04:00",
          "2024-06-06T14:32:00-04:00",
          "2024-06-06T14:33:00-04:00",
          "2024-06-06T14:34:00-04:00",
          "2024-06-06T14:35:00-04:00",
          "2024-06-06T14:36:00-04:00",
          "2024-06-06T14:37:00-04:00",
          "2024-06-06T14:38:00-04:00",
          "2024-06-06T14:39:00-04:00",
          "2024-06-06T14:40:00-04:00",
          "2024-06-06T14:41:00-04:00",
          "2024-06-06T14:42:00-04:00",
          "2024-06-06T14:43:00-04:00",
          "2024-06-06T14:44:00-04:00",
          "2024-06-06T14:45:00-04:00",
          "2024-06-06T14:46:00-04:00",
          "2024-06-06T14:47:00-04:00",
          "2024-06-06T14:48:00-04:00",
          "2024-06-06T14:49:00-04:00",
          "2024-06-06T14:50:00-04:00",
          "2024-06-06T14:51:00-04:00",
          "2024-06-06T14:52:00-04:00",
          "2024-06-06T14:53:00-04:00",
          "2024-06-06T14:54:00-04:00",
          "2024-06-06T14:55:00-04:00",
          "2024-06-06T14:56:00-04:00",
          "2024-06-06T14:57:00-04:00",
          "2024-06-06T14:58:00-04:00",
          "2024-06-06T14:59:00-04:00",
          "2024-06-06T15:00:00-04:00",
          "2024-06-06T15:01:00-04:00",
          "2024-06-06T15:02:00-04:00",
          "2024-06-06T15:03:00-04:00",
          "2024-06-06T15:04:00-04:00",
          "2024-06-06T15:05:00-04:00",
          "2024-06-06T15:06:00-04:00",
          "2024-06-06T15:07:00-04:00",
          "2024-06-06T15:08:00-04:00",
          "2024-06-06T15:09:00-04:00",
          "2024-06-06T15:10:00-04:00",
          "2024-06-06T15:11:00-04:00",
          "2024-06-06T15:12:00-04:00",
          "2024-06-06T15:13:00-04:00",
          "2024-06-06T15:14:00-04:00",
          "2024-06-06T15:15:00-04:00",
          "2024-06-06T15:16:00-04:00",
          "2024-06-06T15:17:00-04:00",
          "2024-06-06T15:18:00-04:00",
          "2024-06-06T15:19:00-04:00",
          "2024-06-06T15:20:00-04:00",
          "2024-06-06T15:21:00-04:00",
          "2024-06-06T15:22:00-04:00",
          "2024-06-06T15:23:00-04:00",
          "2024-06-06T15:24:00-04:00",
          "2024-06-06T15:25:00-04:00",
          "2024-06-06T15:26:00-04:00",
          "2024-06-06T15:27:00-04:00",
          "2024-06-06T15:28:00-04:00",
          "2024-06-06T15:29:00-04:00",
          "2024-06-06T15:30:00-04:00",
          "2024-06-06T15:31:00-04:00",
          "2024-06-06T15:32:00-04:00",
          "2024-06-06T15:33:00-04:00",
          "2024-06-06T15:34:00-04:00",
          "2024-06-06T15:35:00-04:00",
          "2024-06-06T15:36:00-04:00",
          "2024-06-06T15:37:00-04:00",
          "2024-06-06T15:38:00-04:00",
          "2024-06-06T15:39:00-04:00",
          "2024-06-06T15:40:00-04:00",
          "2024-06-06T15:41:00-04:00",
          "2024-06-06T15:42:00-04:00",
          "2024-06-06T15:43:00-04:00",
          "2024-06-06T15:44:00-04:00",
          "2024-06-06T15:45:00-04:00",
          "2024-06-06T15:46:00-04:00",
          "2024-06-06T15:47:00-04:00",
          "2024-06-06T15:48:00-04:00",
          "2024-06-06T15:49:00-04:00",
          "2024-06-06T15:50:00-04:00",
          "2024-06-06T15:51:00-04:00",
          "2024-06-06T15:52:00-04:00",
          "2024-06-06T15:53:00-04:00",
          "2024-06-06T15:54:00-04:00",
          "2024-06-06T15:55:00-04:00",
          "2024-06-06T15:56:00-04:00",
          "2024-06-06T15:57:00-04:00",
          "2024-06-06T15:58:00-04:00",
          "2024-06-06T15:59:00-04:00"
         ],
         "xaxis": "x",
         "y": [
          196.1300048828125,
          196.1300048828125,
          196.21666463216147,
          196.1515998840332,
          196.05148583984376,
          195.96849926607112,
          195.84663100681516,
          195.8020297922194,
          195.76313641566108,
          195.72873621453158,
          195.66202308395322,
          195.53480091264876,
          195.50521382011743,
          195.477240524654,
          195.5239466761293,
          195.5546746906118,
          195.56301222681265,
          195.56322823223354,
          195.51733025855845,
          195.61563505535068,
          195.65264828545986,
          195.69212412038948,
          195.69344758281895,
          195.668471683062,
          195.6613943299262,
          195.66713285071805,
          195.71807974928203,
          195.73269547057137,
          195.77521652397235,
          195.8029922159817,
          195.86801342974732,
          195.94423820181825,
          195.99621952649318,
          195.9873023222575,
          196.02083703032935,
          196.03247255062126,
          195.99907541394288,
          195.9647092942622,
          195.93192534355737,
          195.86346345231675,
          195.8012379332163,
          195.8306082913902,
          195.85065839340592,
          195.85240421687737,
          195.88782225488322,
          195.95052801356368,
          196.00701980453496,
          196.08660217463606,
          196.1645214044548,
          196.20847579011672,
          196.22126285450145,
          196.24636755861198,
          196.26412701049674,
          196.3225993634256,
          196.35806429134973,
          196.3284067333089,
          196.2573110219813,
          196.1627813924184,
          196.10706313588977,
          196.0828133646433,
          196.074756231711,
          196.0319027317568,
          195.97514847681376,
          195.91254868259867,
          195.83853144630626,
          195.7933289667116,
          195.79509835091102,
          195.7819116156932,
          195.78991936542792,
          195.7830571080625,
          195.7523047347513,
          195.75085208437454,
          195.76238478393086,
          195.78593021260076,
          195.79864311056875,
          195.79652465772216,
          195.77325102766704,
          195.7596213132903,
          195.74772993698326,
          195.70735974114191,
          195.66192777261944,
          195.6197353910201,
          195.60487957283868,
          195.60933680317515,
          195.61147700945992,
          195.6281151135384,
          195.658059359688,
          195.72052426308449,
          195.73345628304457,
          195.7509813649088,
          195.75879813473676,
          195.7303897008763,
          195.7376701800862,
          195.7485015507043,
          195.7586658142958,
          195.72950453279535,
          195.70474063715008,
          195.71058253478952,
          195.6934989410552,
          195.69297820047214,
          195.70055008468856,
          195.70199732492978,
          195.68566044844715,
          195.6690063101455,
          195.6929507928583,
          195.7133909668744,
          195.7354993555778,
          195.76786795430223,
          195.75677498257176,
          195.73169137251,
          195.70375679027137,
          195.72077341989902,
          195.7424134493667,
          195.74278884023687,
          195.74597370874633,
          195.72924594538827,
          195.7418188430433,
          195.75340849154176,
          195.77156974883542,
          195.7919352740045,
          195.7928016021059,
          195.7823030496395,
          195.77323644506717,
          195.76612202412701,
          195.76155692984094,
          195.7600849002394,
          195.7567476342675,
          195.7419257413124,
          195.72454338597225,
          195.7191025977316,
          195.71126744080647,
          195.7081249033011,
          195.69322930114078,
          195.66937610694077,
          195.64728468981193,
          195.6459634212041,
          195.6308333510894,
          195.63533692454766,
          195.62833817698458,
          195.63024532981677,
          195.61820168018895,
          195.5941030705466,
          195.56991065051164,
          195.53370551213962,
          195.51400743202154,
          195.49445494534064,
          195.48658410315954,
          195.47838592109622,
          195.48893232133264,
          195.4844831264421,
          195.48522440437722,
          195.48100548368416,
          195.4772216312413,
          195.4836119787078,
          195.48816629691711,
          195.4992745187433,
          195.4931816191315,
          195.5034740606008,
          195.5069951675402,
          195.52277919131905,
          195.53347064399276,
          195.5468858363722,
          195.57669683280088,
          195.6058932823948,
          195.61307909058908,
          195.61459285050242,
          195.59848311990282,
          195.6154724562705,
          195.6338571053811,
          195.65767760407823,
          195.6879809963704,
          195.69742247623924,
          195.6956087169669,
          195.6996870226432,
          195.7229499555064,
          195.71162687939776,
          195.71061260970362,
          195.71697265250185,
          195.69427352871526,
          195.68685631589284,
          195.68633667078183,
          195.67947928282967,
          195.67801262584337,
          195.67446520633143,
          195.66324463031762,
          195.65514551214198,
          195.67249140096027,
          195.66770763515262,
          195.67377423272285,
          195.67917353441746,
          195.66599278018282,
          195.65525073147717,
          195.67032395684268,
          195.67553962882062,
          195.66673130564493,
          195.6654785573877,
          195.6666931608496,
          195.6589647877535,
          195.6542534659936,
          195.67005772306746,
          195.66309494075114,
          195.66221920363915,
          195.66682648786673,
          195.68177797977341,
          195.68403360633485,
          195.68647221030903,
          195.70460692236645,
          195.7053509562137,
          195.7148289783724,
          195.74777561224565,
          195.79916779352143,
          195.82846378515208,
          195.84455130918545,
          195.87534827227873,
          195.88791944147786,
          195.90617381256064,
          195.940416856935,
          195.96928531311133,
          195.98639744867063,
          195.99992693536242,
          196.01642515151661,
          196.0027755247473,
          195.98171761115202,
          195.95625013306082,
          195.93530329435674,
          195.9230321641393,
          195.8866018740069,
          195.86155349168328,
          195.82404129842618,
          195.80200348248476,
          195.76174286386663,
          195.71581439677624,
          195.6716168080575,
          195.63299178147912,
          195.60490214208664,
          195.58313958942404,
          195.5872222623676,
          195.5795615890366,
          195.57025407070643,
          195.58063942798213,
          195.59627554039886,
          195.59809424182504,
          195.6221625455517,
          195.65263558259355,
          195.6547014997748,
          195.64698897031096,
          195.63344140003446,
          195.62864887128637,
          195.61987458257695,
          195.61792232170603,
          195.61507802508368,
          195.61404948977128,
          195.62401585358705,
          195.6322114574598,
          195.63261762408732,
          195.63266318602933,
          195.62649884276962,
          195.62484128162862,
          195.62134596780555,
          195.6232958489312,
          195.62212379970998,
          195.6069495128313,
          195.60271702247587,
          195.595243066727,
          195.58051807169818,
          195.58640360806316,
          195.579669075371,
          195.55930189076037,
          195.53944127826352,
          195.52518656380778,
          195.5126948462888,
          195.51451747630594,
          195.527091665173,
          195.5130495920016,
          195.49678689701915,
          195.48694522871455,
          195.48450381995383,
          195.45603901612756,
          195.41704883975683,
          195.35368587134798,
          195.2735382615897,
          195.228279169546,
          195.19042811624288,
          195.16957124118582,
          195.16782683676547,
          195.18201802775596,
          195.19306396684672,
          195.1976236214908,
          195.24177224256215,
          195.26937968525243,
          195.30217022024559,
          195.3335577958852,
          195.3608950587427,
          195.39592956631284,
          195.43129089967192,
          195.45588460377098,
          195.4708316224946,
          195.4784416994938,
          195.47719817880898,
          195.49652250893132,
          195.5225844732655,
          195.51001676517964,
          195.479774514387,
          195.46559265052645,
          195.45914977961954,
          195.46077211026926,
          195.4382989791727,
          195.42573187406978,
          195.39943395269177,
          195.36773318655833,
          195.3484929109503,
          195.32170451386256,
          195.3104793172546,
          195.28519948138694,
          195.28007803164485,
          195.26960773931842,
          195.2603316462294,
          195.255555073145,
          195.2545329012355,
          195.26311151868785,
          195.26462893758872,
          195.27227450067755,
          195.27263824220825,
          195.29361682695378,
          195.31833240691424,
          195.3262953717713,
          195.34134833673758,
          195.3426040763015,
          195.3355984236657,
          195.3187835775597,
          195.3113209002314,
          195.29871282868623,
          195.28352294344683,
          195.2745460551827,
          195.26107254448522,
          195.24279649309398,
          195.23905536197708,
          195.24346826509088,
          195.2648906996739,
          195.27454843476212,
          195.27085965612736,
          195.26693850999453,
          195.24716264107371,
          195.22158215611125,
          195.19614599984337,
          195.1747164572888,
          195.16591249207443,
          195.1710781450795,
          195.17929753974073,
          195.20028057258767,
          195.22417755775433,
          195.2345595852236,
          195.2264244267988,
          195.24350343065453,
          195.2572596592819,
          195.2582112124837,
          195.27621736655652,
          195.27241601698003,
          195.25673483986384,
          195.251634776045,
          195.287067889293,
          195.3265829248162,
          195.33459847823912,
          195.3523745395558,
          195.3462606355248,
          195.3259815793665,
          195.29579398800328,
          195.27452431900053,
          195.25092372057858,
          195.23379620150172,
          195.21274017674492,
          195.17343944313114,
          195.13150620070897,
          195.0928932698125,
          195.0666801025957,
          195.0514203578987,
          195.05554708088786,
          195.03248946942614,
          195.0314514154516,
          195.0446770778472,
          195.04962179372563,
          195.00302438339622,
          194.90524218649352,
          194.79847040541196,
          194.71950934738396,
          194.63788208269236,
          194.57126067293538,
          194.4811947110551,
          194.4345714914987,
          194.37516094089236
         ],
         "yaxis": "y"
        }
       ],
       "layout": {
        "legend": {
         "title": {
          "text": "variable"
         },
         "tracegroupgap": 0
        },
        "template": {
         "data": {
          "bar": [
           {
            "error_x": {
             "color": "#2a3f5f"
            },
            "error_y": {
             "color": "#2a3f5f"
            },
            "marker": {
             "line": {
              "color": "#E5ECF6",
              "width": 0.5
             },
             "pattern": {
              "fillmode": "overlay",
              "size": 10,
              "solidity": 0.2
             }
            },
            "type": "bar"
           }
          ],
          "barpolar": [
           {
            "marker": {
             "line": {
              "color": "#E5ECF6",
              "width": 0.5
             },
             "pattern": {
              "fillmode": "overlay",
              "size": 10,
              "solidity": 0.2
             }
            },
            "type": "barpolar"
           }
          ],
          "carpet": [
           {
            "aaxis": {
             "endlinecolor": "#2a3f5f",
             "gridcolor": "white",
             "linecolor": "white",
             "minorgridcolor": "white",
             "startlinecolor": "#2a3f5f"
            },
            "baxis": {
             "endlinecolor": "#2a3f5f",
             "gridcolor": "white",
             "linecolor": "white",
             "minorgridcolor": "white",
             "startlinecolor": "#2a3f5f"
            },
            "type": "carpet"
           }
          ],
          "choropleth": [
           {
            "colorbar": {
             "outlinewidth": 0,
             "ticks": ""
            },
            "type": "choropleth"
           }
          ],
          "contour": [
           {
            "colorbar": {
             "outlinewidth": 0,
             "ticks": ""
            },
            "colorscale": [
             [
              0,
              "#0d0887"
             ],
             [
              0.1111111111111111,
              "#46039f"
             ],
             [
              0.2222222222222222,
              "#7201a8"
             ],
             [
              0.3333333333333333,
              "#9c179e"
             ],
             [
              0.4444444444444444,
              "#bd3786"
             ],
             [
              0.5555555555555556,
              "#d8576b"
             ],
             [
              0.6666666666666666,
              "#ed7953"
             ],
             [
              0.7777777777777778,
              "#fb9f3a"
             ],
             [
              0.8888888888888888,
              "#fdca26"
             ],
             [
              1,
              "#f0f921"
             ]
            ],
            "type": "contour"
           }
          ],
          "contourcarpet": [
           {
            "colorbar": {
             "outlinewidth": 0,
             "ticks": ""
            },
            "type": "contourcarpet"
           }
          ],
          "heatmap": [
           {
            "colorbar": {
             "outlinewidth": 0,
             "ticks": ""
            },
            "colorscale": [
             [
              0,
              "#0d0887"
             ],
             [
              0.1111111111111111,
              "#46039f"
             ],
             [
              0.2222222222222222,
              "#7201a8"
             ],
             [
              0.3333333333333333,
              "#9c179e"
             ],
             [
              0.4444444444444444,
              "#bd3786"
             ],
             [
              0.5555555555555556,
              "#d8576b"
             ],
             [
              0.6666666666666666,
              "#ed7953"
             ],
             [
              0.7777777777777778,
              "#fb9f3a"
             ],
             [
              0.8888888888888888,
              "#fdca26"
             ],
             [
              1,
              "#f0f921"
             ]
            ],
            "type": "heatmap"
           }
          ],
          "heatmapgl": [
           {
            "colorbar": {
             "outlinewidth": 0,
             "ticks": ""
            },
            "colorscale": [
             [
              0,
              "#0d0887"
             ],
             [
              0.1111111111111111,
              "#46039f"
             ],
             [
              0.2222222222222222,
              "#7201a8"
             ],
             [
              0.3333333333333333,
              "#9c179e"
             ],
             [
              0.4444444444444444,
              "#bd3786"
             ],
             [
              0.5555555555555556,
              "#d8576b"
             ],
             [
              0.6666666666666666,
              "#ed7953"
             ],
             [
              0.7777777777777778,
              "#fb9f3a"
             ],
             [
              0.8888888888888888,
              "#fdca26"
             ],
             [
              1,
              "#f0f921"
             ]
            ],
            "type": "heatmapgl"
           }
          ],
          "histogram": [
           {
            "marker": {
             "pattern": {
              "fillmode": "overlay",
              "size": 10,
              "solidity": 0.2
             }
            },
            "type": "histogram"
           }
          ],
          "histogram2d": [
           {
            "colorbar": {
             "outlinewidth": 0,
             "ticks": ""
            },
            "colorscale": [
             [
              0,
              "#0d0887"
             ],
             [
              0.1111111111111111,
              "#46039f"
             ],
             [
              0.2222222222222222,
              "#7201a8"
             ],
             [
              0.3333333333333333,
              "#9c179e"
             ],
             [
              0.4444444444444444,
              "#bd3786"
             ],
             [
              0.5555555555555556,
              "#d8576b"
             ],
             [
              0.6666666666666666,
              "#ed7953"
             ],
             [
              0.7777777777777778,
              "#fb9f3a"
             ],
             [
              0.8888888888888888,
              "#fdca26"
             ],
             [
              1,
              "#f0f921"
             ]
            ],
            "type": "histogram2d"
           }
          ],
          "histogram2dcontour": [
           {
            "colorbar": {
             "outlinewidth": 0,
             "ticks": ""
            },
            "colorscale": [
             [
              0,
              "#0d0887"
             ],
             [
              0.1111111111111111,
              "#46039f"
             ],
             [
              0.2222222222222222,
              "#7201a8"
             ],
             [
              0.3333333333333333,
              "#9c179e"
             ],
             [
              0.4444444444444444,
              "#bd3786"
             ],
             [
              0.5555555555555556,
              "#d8576b"
             ],
             [
              0.6666666666666666,
              "#ed7953"
             ],
             [
              0.7777777777777778,
              "#fb9f3a"
             ],
             [
              0.8888888888888888,
              "#fdca26"
             ],
             [
              1,
              "#f0f921"
             ]
            ],
            "type": "histogram2dcontour"
           }
          ],
          "mesh3d": [
           {
            "colorbar": {
             "outlinewidth": 0,
             "ticks": ""
            },
            "type": "mesh3d"
           }
          ],
          "parcoords": [
           {
            "line": {
             "colorbar": {
              "outlinewidth": 0,
              "ticks": ""
             }
            },
            "type": "parcoords"
           }
          ],
          "pie": [
           {
            "automargin": true,
            "type": "pie"
           }
          ],
          "scatter": [
           {
            "fillpattern": {
             "fillmode": "overlay",
             "size": 10,
             "solidity": 0.2
            },
            "type": "scatter"
           }
          ],
          "scatter3d": [
           {
            "line": {
             "colorbar": {
              "outlinewidth": 0,
              "ticks": ""
             }
            },
            "marker": {
             "colorbar": {
              "outlinewidth": 0,
              "ticks": ""
             }
            },
            "type": "scatter3d"
           }
          ],
          "scattercarpet": [
           {
            "marker": {
             "colorbar": {
              "outlinewidth": 0,
              "ticks": ""
             }
            },
            "type": "scattercarpet"
           }
          ],
          "scattergeo": [
           {
            "marker": {
             "colorbar": {
              "outlinewidth": 0,
              "ticks": ""
             }
            },
            "type": "scattergeo"
           }
          ],
          "scattergl": [
           {
            "marker": {
             "colorbar": {
              "outlinewidth": 0,
              "ticks": ""
             }
            },
            "type": "scattergl"
           }
          ],
          "scattermapbox": [
           {
            "marker": {
             "colorbar": {
              "outlinewidth": 0,
              "ticks": ""
             }
            },
            "type": "scattermapbox"
           }
          ],
          "scatterpolar": [
           {
            "marker": {
             "colorbar": {
              "outlinewidth": 0,
              "ticks": ""
             }
            },
            "type": "scatterpolar"
           }
          ],
          "scatterpolargl": [
           {
            "marker": {
             "colorbar": {
              "outlinewidth": 0,
              "ticks": ""
             }
            },
            "type": "scatterpolargl"
           }
          ],
          "scatterternary": [
           {
            "marker": {
             "colorbar": {
              "outlinewidth": 0,
              "ticks": ""
             }
            },
            "type": "scatterternary"
           }
          ],
          "surface": [
           {
            "colorbar": {
             "outlinewidth": 0,
             "ticks": ""
            },
            "colorscale": [
             [
              0,
              "#0d0887"
             ],
             [
              0.1111111111111111,
              "#46039f"
             ],
             [
              0.2222222222222222,
              "#7201a8"
             ],
             [
              0.3333333333333333,
              "#9c179e"
             ],
             [
              0.4444444444444444,
              "#bd3786"
             ],
             [
              0.5555555555555556,
              "#d8576b"
             ],
             [
              0.6666666666666666,
              "#ed7953"
             ],
             [
              0.7777777777777778,
              "#fb9f3a"
             ],
             [
              0.8888888888888888,
              "#fdca26"
             ],
             [
              1,
              "#f0f921"
             ]
            ],
            "type": "surface"
           }
          ],
          "table": [
           {
            "cells": {
             "fill": {
              "color": "#EBF0F8"
             },
             "line": {
              "color": "white"
             }
            },
            "header": {
             "fill": {
              "color": "#C8D4E3"
             },
             "line": {
              "color": "white"
             }
            },
            "type": "table"
           }
          ]
         },
         "layout": {
          "annotationdefaults": {
           "arrowcolor": "#2a3f5f",
           "arrowhead": 0,
           "arrowwidth": 1
          },
          "autotypenumbers": "strict",
          "coloraxis": {
           "colorbar": {
            "outlinewidth": 0,
            "ticks": ""
           }
          },
          "colorscale": {
           "diverging": [
            [
             0,
             "#8e0152"
            ],
            [
             0.1,
             "#c51b7d"
            ],
            [
             0.2,
             "#de77ae"
            ],
            [
             0.3,
             "#f1b6da"
            ],
            [
             0.4,
             "#fde0ef"
            ],
            [
             0.5,
             "#f7f7f7"
            ],
            [
             0.6,
             "#e6f5d0"
            ],
            [
             0.7,
             "#b8e186"
            ],
            [
             0.8,
             "#7fbc41"
            ],
            [
             0.9,
             "#4d9221"
            ],
            [
             1,
             "#276419"
            ]
           ],
           "sequential": [
            [
             0,
             "#0d0887"
            ],
            [
             0.1111111111111111,
             "#46039f"
            ],
            [
             0.2222222222222222,
             "#7201a8"
            ],
            [
             0.3333333333333333,
             "#9c179e"
            ],
            [
             0.4444444444444444,
             "#bd3786"
            ],
            [
             0.5555555555555556,
             "#d8576b"
            ],
            [
             0.6666666666666666,
             "#ed7953"
            ],
            [
             0.7777777777777778,
             "#fb9f3a"
            ],
            [
             0.8888888888888888,
             "#fdca26"
            ],
            [
             1,
             "#f0f921"
            ]
           ],
           "sequentialminus": [
            [
             0,
             "#0d0887"
            ],
            [
             0.1111111111111111,
             "#46039f"
            ],
            [
             0.2222222222222222,
             "#7201a8"
            ],
            [
             0.3333333333333333,
             "#9c179e"
            ],
            [
             0.4444444444444444,
             "#bd3786"
            ],
            [
             0.5555555555555556,
             "#d8576b"
            ],
            [
             0.6666666666666666,
             "#ed7953"
            ],
            [
             0.7777777777777778,
             "#fb9f3a"
            ],
            [
             0.8888888888888888,
             "#fdca26"
            ],
            [
             1,
             "#f0f921"
            ]
           ]
          },
          "colorway": [
           "#636efa",
           "#EF553B",
           "#00cc96",
           "#ab63fa",
           "#FFA15A",
           "#19d3f3",
           "#FF6692",
           "#B6E880",
           "#FF97FF",
           "#FECB52"
          ],
          "font": {
           "color": "#2a3f5f"
          },
          "geo": {
           "bgcolor": "white",
           "lakecolor": "white",
           "landcolor": "#E5ECF6",
           "showlakes": true,
           "showland": true,
           "subunitcolor": "white"
          },
          "hoverlabel": {
           "align": "left"
          },
          "hovermode": "closest",
          "mapbox": {
           "style": "light"
          },
          "paper_bgcolor": "white",
          "plot_bgcolor": "#E5ECF6",
          "polar": {
           "angularaxis": {
            "gridcolor": "white",
            "linecolor": "white",
            "ticks": ""
           },
           "bgcolor": "#E5ECF6",
           "radialaxis": {
            "gridcolor": "white",
            "linecolor": "white",
            "ticks": ""
           }
          },
          "scene": {
           "xaxis": {
            "backgroundcolor": "#E5ECF6",
            "gridcolor": "white",
            "gridwidth": 2,
            "linecolor": "white",
            "showbackground": true,
            "ticks": "",
            "zerolinecolor": "white"
           },
           "yaxis": {
            "backgroundcolor": "#E5ECF6",
            "gridcolor": "white",
            "gridwidth": 2,
            "linecolor": "white",
            "showbackground": true,
            "ticks": "",
            "zerolinecolor": "white"
           },
           "zaxis": {
            "backgroundcolor": "#E5ECF6",
            "gridcolor": "white",
            "gridwidth": 2,
            "linecolor": "white",
            "showbackground": true,
            "ticks": "",
            "zerolinecolor": "white"
           }
          },
          "shapedefaults": {
           "line": {
            "color": "#2a3f5f"
           }
          },
          "ternary": {
           "aaxis": {
            "gridcolor": "white",
            "linecolor": "white",
            "ticks": ""
           },
           "baxis": {
            "gridcolor": "white",
            "linecolor": "white",
            "ticks": ""
           },
           "bgcolor": "#E5ECF6",
           "caxis": {
            "gridcolor": "white",
            "linecolor": "white",
            "ticks": ""
           }
          },
          "title": {
           "x": 0.05
          },
          "xaxis": {
           "automargin": true,
           "gridcolor": "white",
           "linecolor": "white",
           "ticks": "",
           "title": {
            "standoff": 15
           },
           "zerolinecolor": "white",
           "zerolinewidth": 2
          },
          "yaxis": {
           "automargin": true,
           "gridcolor": "white",
           "linecolor": "white",
           "ticks": "",
           "title": {
            "standoff": 15
           },
           "zerolinecolor": "white",
           "zerolinewidth": 2
          }
         }
        },
        "title": {
         "text": "AAPL Exponential Moving Averages"
        },
        "xaxis": {
         "anchor": "y",
         "domain": [
          0,
          1
         ],
         "title": {
          "text": "Datetime"
         }
        },
        "yaxis": {
         "anchor": "x",
         "domain": [
          0,
          1
         ],
         "title": {
          "text": "value"
         }
        }
       }
      },
      "text/html": [
       "<div>                            <div id=\"1fbc0c71-3869-4a4c-9a1b-e378ea88c948\" class=\"plotly-graph-div\" style=\"height:525px; width:100%;\"></div>            <script type=\"text/javascript\">                require([\"plotly\"], function(Plotly) {                    window.PLOTLYENV=window.PLOTLYENV || {};                                    if (document.getElementById(\"1fbc0c71-3869-4a4c-9a1b-e378ea88c948\")) {                    Plotly.newPlot(                        \"1fbc0c71-3869-4a4c-9a1b-e378ea88c948\",                        [{\"hovertemplate\":\"variable=EMA_16<br>Datetime=%{x}<br>value=%{y}<extra></extra>\",\"legendgroup\":\"EMA_16\",\"line\":{\"color\":\"#38b9ff\",\"dash\":\"solid\"},\"marker\":{\"symbol\":\"circle\"},\"mode\":\"lines\",\"name\":\"EMA_16\",\"orientation\":\"v\",\"showlegend\":true,\"x\":[\"2024-06-06T09:30:00-04:00\",\"2024-06-06T09:31:00-04:00\",\"2024-06-06T09:32:00-04:00\",\"2024-06-06T09:33:00-04:00\",\"2024-06-06T09:34:00-04:00\",\"2024-06-06T09:35:00-04:00\",\"2024-06-06T09:36:00-04:00\",\"2024-06-06T09:37:00-04:00\",\"2024-06-06T09:38:00-04:00\",\"2024-06-06T09:39:00-04:00\",\"2024-06-06T09:40:00-04:00\",\"2024-06-06T09:41:00-04:00\",\"2024-06-06T09:42:00-04:00\",\"2024-06-06T09:43:00-04:00\",\"2024-06-06T09:44:00-04:00\",\"2024-06-06T09:45:00-04:00\",\"2024-06-06T09:46:00-04:00\",\"2024-06-06T09:47:00-04:00\",\"2024-06-06T09:48:00-04:00\",\"2024-06-06T09:49:00-04:00\",\"2024-06-06T09:50:00-04:00\",\"2024-06-06T09:51:00-04:00\",\"2024-06-06T09:52:00-04:00\",\"2024-06-06T09:53:00-04:00\",\"2024-06-06T09:54:00-04:00\",\"2024-06-06T09:55:00-04:00\",\"2024-06-06T09:56:00-04:00\",\"2024-06-06T09:57:00-04:00\",\"2024-06-06T09:58:00-04:00\",\"2024-06-06T09:59:00-04:00\",\"2024-06-06T10:00:00-04:00\",\"2024-06-06T10:01:00-04:00\",\"2024-06-06T10:02:00-04:00\",\"2024-06-06T10:03:00-04:00\",\"2024-06-06T10:04:00-04:00\",\"2024-06-06T10:05:00-04:00\",\"2024-06-06T10:06:00-04:00\",\"2024-06-06T10:07:00-04:00\",\"2024-06-06T10:08:00-04:00\",\"2024-06-06T10:09:00-04:00\",\"2024-06-06T10:10:00-04:00\",\"2024-06-06T10:11:00-04:00\",\"2024-06-06T10:12:00-04:00\",\"2024-06-06T10:13:00-04:00\",\"2024-06-06T10:14:00-04:00\",\"2024-06-06T10:15:00-04:00\",\"2024-06-06T10:16:00-04:00\",\"2024-06-06T10:17:00-04:00\",\"2024-06-06T10:18:00-04:00\",\"2024-06-06T10:19:00-04:00\",\"2024-06-06T10:20:00-04:00\",\"2024-06-06T10:21:00-04:00\",\"2024-06-06T10:22:00-04:00\",\"2024-06-06T10:23:00-04:00\",\"2024-06-06T10:24:00-04:00\",\"2024-06-06T10:25:00-04:00\",\"2024-06-06T10:26:00-04:00\",\"2024-06-06T10:27:00-04:00\",\"2024-06-06T10:28:00-04:00\",\"2024-06-06T10:29:00-04:00\",\"2024-06-06T10:30:00-04:00\",\"2024-06-06T10:31:00-04:00\",\"2024-06-06T10:32:00-04:00\",\"2024-06-06T10:33:00-04:00\",\"2024-06-06T10:34:00-04:00\",\"2024-06-06T10:35:00-04:00\",\"2024-06-06T10:36:00-04:00\",\"2024-06-06T10:37:00-04:00\",\"2024-06-06T10:38:00-04:00\",\"2024-06-06T10:39:00-04:00\",\"2024-06-06T10:40:00-04:00\",\"2024-06-06T10:41:00-04:00\",\"2024-06-06T10:42:00-04:00\",\"2024-06-06T10:43:00-04:00\",\"2024-06-06T10:44:00-04:00\",\"2024-06-06T10:45:00-04:00\",\"2024-06-06T10:46:00-04:00\",\"2024-06-06T10:47:00-04:00\",\"2024-06-06T10:48:00-04:00\",\"2024-06-06T10:49:00-04:00\",\"2024-06-06T10:50:00-04:00\",\"2024-06-06T10:51:00-04:00\",\"2024-06-06T10:52:00-04:00\",\"2024-06-06T10:53:00-04:00\",\"2024-06-06T10:54:00-04:00\",\"2024-06-06T10:55:00-04:00\",\"2024-06-06T10:56:00-04:00\",\"2024-06-06T10:57:00-04:00\",\"2024-06-06T10:58:00-04:00\",\"2024-06-06T10:59:00-04:00\",\"2024-06-06T11:00:00-04:00\",\"2024-06-06T11:01:00-04:00\",\"2024-06-06T11:02:00-04:00\",\"2024-06-06T11:03:00-04:00\",\"2024-06-06T11:04:00-04:00\",\"2024-06-06T11:05:00-04:00\",\"2024-06-06T11:06:00-04:00\",\"2024-06-06T11:07:00-04:00\",\"2024-06-06T11:08:00-04:00\",\"2024-06-06T11:09:00-04:00\",\"2024-06-06T11:10:00-04:00\",\"2024-06-06T11:11:00-04:00\",\"2024-06-06T11:12:00-04:00\",\"2024-06-06T11:13:00-04:00\",\"2024-06-06T11:14:00-04:00\",\"2024-06-06T11:15:00-04:00\",\"2024-06-06T11:16:00-04:00\",\"2024-06-06T11:17:00-04:00\",\"2024-06-06T11:18:00-04:00\",\"2024-06-06T11:19:00-04:00\",\"2024-06-06T11:20:00-04:00\",\"2024-06-06T11:21:00-04:00\",\"2024-06-06T11:22:00-04:00\",\"2024-06-06T11:23:00-04:00\",\"2024-06-06T11:24:00-04:00\",\"2024-06-06T11:25:00-04:00\",\"2024-06-06T11:26:00-04:00\",\"2024-06-06T11:27:00-04:00\",\"2024-06-06T11:28:00-04:00\",\"2024-06-06T11:29:00-04:00\",\"2024-06-06T11:30:00-04:00\",\"2024-06-06T11:31:00-04:00\",\"2024-06-06T11:32:00-04:00\",\"2024-06-06T11:33:00-04:00\",\"2024-06-06T11:34:00-04:00\",\"2024-06-06T11:35:00-04:00\",\"2024-06-06T11:36:00-04:00\",\"2024-06-06T11:37:00-04:00\",\"2024-06-06T11:38:00-04:00\",\"2024-06-06T11:39:00-04:00\",\"2024-06-06T11:40:00-04:00\",\"2024-06-06T11:41:00-04:00\",\"2024-06-06T11:42:00-04:00\",\"2024-06-06T11:43:00-04:00\",\"2024-06-06T11:44:00-04:00\",\"2024-06-06T11:45:00-04:00\",\"2024-06-06T11:46:00-04:00\",\"2024-06-06T11:47:00-04:00\",\"2024-06-06T11:48:00-04:00\",\"2024-06-06T11:49:00-04:00\",\"2024-06-06T11:50:00-04:00\",\"2024-06-06T11:51:00-04:00\",\"2024-06-06T11:52:00-04:00\",\"2024-06-06T11:53:00-04:00\",\"2024-06-06T11:54:00-04:00\",\"2024-06-06T11:55:00-04:00\",\"2024-06-06T11:56:00-04:00\",\"2024-06-06T11:57:00-04:00\",\"2024-06-06T11:58:00-04:00\",\"2024-06-06T11:59:00-04:00\",\"2024-06-06T12:00:00-04:00\",\"2024-06-06T12:01:00-04:00\",\"2024-06-06T12:02:00-04:00\",\"2024-06-06T12:03:00-04:00\",\"2024-06-06T12:04:00-04:00\",\"2024-06-06T12:05:00-04:00\",\"2024-06-06T12:06:00-04:00\",\"2024-06-06T12:07:00-04:00\",\"2024-06-06T12:08:00-04:00\",\"2024-06-06T12:09:00-04:00\",\"2024-06-06T12:10:00-04:00\",\"2024-06-06T12:11:00-04:00\",\"2024-06-06T12:12:00-04:00\",\"2024-06-06T12:13:00-04:00\",\"2024-06-06T12:14:00-04:00\",\"2024-06-06T12:15:00-04:00\",\"2024-06-06T12:16:00-04:00\",\"2024-06-06T12:17:00-04:00\",\"2024-06-06T12:18:00-04:00\",\"2024-06-06T12:19:00-04:00\",\"2024-06-06T12:20:00-04:00\",\"2024-06-06T12:21:00-04:00\",\"2024-06-06T12:22:00-04:00\",\"2024-06-06T12:23:00-04:00\",\"2024-06-06T12:24:00-04:00\",\"2024-06-06T12:25:00-04:00\",\"2024-06-06T12:26:00-04:00\",\"2024-06-06T12:27:00-04:00\",\"2024-06-06T12:28:00-04:00\",\"2024-06-06T12:29:00-04:00\",\"2024-06-06T12:30:00-04:00\",\"2024-06-06T12:31:00-04:00\",\"2024-06-06T12:32:00-04:00\",\"2024-06-06T12:33:00-04:00\",\"2024-06-06T12:34:00-04:00\",\"2024-06-06T12:35:00-04:00\",\"2024-06-06T12:36:00-04:00\",\"2024-06-06T12:37:00-04:00\",\"2024-06-06T12:38:00-04:00\",\"2024-06-06T12:39:00-04:00\",\"2024-06-06T12:40:00-04:00\",\"2024-06-06T12:41:00-04:00\",\"2024-06-06T12:42:00-04:00\",\"2024-06-06T12:43:00-04:00\",\"2024-06-06T12:44:00-04:00\",\"2024-06-06T12:45:00-04:00\",\"2024-06-06T12:46:00-04:00\",\"2024-06-06T12:47:00-04:00\",\"2024-06-06T12:48:00-04:00\",\"2024-06-06T12:49:00-04:00\",\"2024-06-06T12:50:00-04:00\",\"2024-06-06T12:51:00-04:00\",\"2024-06-06T12:52:00-04:00\",\"2024-06-06T12:53:00-04:00\",\"2024-06-06T12:54:00-04:00\",\"2024-06-06T12:55:00-04:00\",\"2024-06-06T12:56:00-04:00\",\"2024-06-06T12:57:00-04:00\",\"2024-06-06T12:58:00-04:00\",\"2024-06-06T12:59:00-04:00\",\"2024-06-06T13:00:00-04:00\",\"2024-06-06T13:01:00-04:00\",\"2024-06-06T13:02:00-04:00\",\"2024-06-06T13:03:00-04:00\",\"2024-06-06T13:04:00-04:00\",\"2024-06-06T13:05:00-04:00\",\"2024-06-06T13:06:00-04:00\",\"2024-06-06T13:07:00-04:00\",\"2024-06-06T13:08:00-04:00\",\"2024-06-06T13:09:00-04:00\",\"2024-06-06T13:10:00-04:00\",\"2024-06-06T13:11:00-04:00\",\"2024-06-06T13:12:00-04:00\",\"2024-06-06T13:13:00-04:00\",\"2024-06-06T13:14:00-04:00\",\"2024-06-06T13:15:00-04:00\",\"2024-06-06T13:16:00-04:00\",\"2024-06-06T13:17:00-04:00\",\"2024-06-06T13:18:00-04:00\",\"2024-06-06T13:19:00-04:00\",\"2024-06-06T13:20:00-04:00\",\"2024-06-06T13:21:00-04:00\",\"2024-06-06T13:22:00-04:00\",\"2024-06-06T13:23:00-04:00\",\"2024-06-06T13:24:00-04:00\",\"2024-06-06T13:25:00-04:00\",\"2024-06-06T13:26:00-04:00\",\"2024-06-06T13:27:00-04:00\",\"2024-06-06T13:28:00-04:00\",\"2024-06-06T13:29:00-04:00\",\"2024-06-06T13:30:00-04:00\",\"2024-06-06T13:31:00-04:00\",\"2024-06-06T13:32:00-04:00\",\"2024-06-06T13:33:00-04:00\",\"2024-06-06T13:34:00-04:00\",\"2024-06-06T13:35:00-04:00\",\"2024-06-06T13:36:00-04:00\",\"2024-06-06T13:37:00-04:00\",\"2024-06-06T13:38:00-04:00\",\"2024-06-06T13:39:00-04:00\",\"2024-06-06T13:40:00-04:00\",\"2024-06-06T13:41:00-04:00\",\"2024-06-06T13:42:00-04:00\",\"2024-06-06T13:43:00-04:00\",\"2024-06-06T13:44:00-04:00\",\"2024-06-06T13:45:00-04:00\",\"2024-06-06T13:46:00-04:00\",\"2024-06-06T13:47:00-04:00\",\"2024-06-06T13:48:00-04:00\",\"2024-06-06T13:49:00-04:00\",\"2024-06-06T13:50:00-04:00\",\"2024-06-06T13:51:00-04:00\",\"2024-06-06T13:52:00-04:00\",\"2024-06-06T13:53:00-04:00\",\"2024-06-06T13:54:00-04:00\",\"2024-06-06T13:55:00-04:00\",\"2024-06-06T13:56:00-04:00\",\"2024-06-06T13:57:00-04:00\",\"2024-06-06T13:58:00-04:00\",\"2024-06-06T13:59:00-04:00\",\"2024-06-06T14:00:00-04:00\",\"2024-06-06T14:01:00-04:00\",\"2024-06-06T14:02:00-04:00\",\"2024-06-06T14:03:00-04:00\",\"2024-06-06T14:04:00-04:00\",\"2024-06-06T14:05:00-04:00\",\"2024-06-06T14:06:00-04:00\",\"2024-06-06T14:07:00-04:00\",\"2024-06-06T14:08:00-04:00\",\"2024-06-06T14:09:00-04:00\",\"2024-06-06T14:10:00-04:00\",\"2024-06-06T14:11:00-04:00\",\"2024-06-06T14:12:00-04:00\",\"2024-06-06T14:13:00-04:00\",\"2024-06-06T14:14:00-04:00\",\"2024-06-06T14:15:00-04:00\",\"2024-06-06T14:16:00-04:00\",\"2024-06-06T14:17:00-04:00\",\"2024-06-06T14:18:00-04:00\",\"2024-06-06T14:19:00-04:00\",\"2024-06-06T14:20:00-04:00\",\"2024-06-06T14:21:00-04:00\",\"2024-06-06T14:22:00-04:00\",\"2024-06-06T14:23:00-04:00\",\"2024-06-06T14:24:00-04:00\",\"2024-06-06T14:25:00-04:00\",\"2024-06-06T14:26:00-04:00\",\"2024-06-06T14:27:00-04:00\",\"2024-06-06T14:28:00-04:00\",\"2024-06-06T14:29:00-04:00\",\"2024-06-06T14:30:00-04:00\",\"2024-06-06T14:31:00-04:00\",\"2024-06-06T14:32:00-04:00\",\"2024-06-06T14:33:00-04:00\",\"2024-06-06T14:34:00-04:00\",\"2024-06-06T14:35:00-04:00\",\"2024-06-06T14:36:00-04:00\",\"2024-06-06T14:37:00-04:00\",\"2024-06-06T14:38:00-04:00\",\"2024-06-06T14:39:00-04:00\",\"2024-06-06T14:40:00-04:00\",\"2024-06-06T14:41:00-04:00\",\"2024-06-06T14:42:00-04:00\",\"2024-06-06T14:43:00-04:00\",\"2024-06-06T14:44:00-04:00\",\"2024-06-06T14:45:00-04:00\",\"2024-06-06T14:46:00-04:00\",\"2024-06-06T14:47:00-04:00\",\"2024-06-06T14:48:00-04:00\",\"2024-06-06T14:49:00-04:00\",\"2024-06-06T14:50:00-04:00\",\"2024-06-06T14:51:00-04:00\",\"2024-06-06T14:52:00-04:00\",\"2024-06-06T14:53:00-04:00\",\"2024-06-06T14:54:00-04:00\",\"2024-06-06T14:55:00-04:00\",\"2024-06-06T14:56:00-04:00\",\"2024-06-06T14:57:00-04:00\",\"2024-06-06T14:58:00-04:00\",\"2024-06-06T14:59:00-04:00\",\"2024-06-06T15:00:00-04:00\",\"2024-06-06T15:01:00-04:00\",\"2024-06-06T15:02:00-04:00\",\"2024-06-06T15:03:00-04:00\",\"2024-06-06T15:04:00-04:00\",\"2024-06-06T15:05:00-04:00\",\"2024-06-06T15:06:00-04:00\",\"2024-06-06T15:07:00-04:00\",\"2024-06-06T15:08:00-04:00\",\"2024-06-06T15:09:00-04:00\",\"2024-06-06T15:10:00-04:00\",\"2024-06-06T15:11:00-04:00\",\"2024-06-06T15:12:00-04:00\",\"2024-06-06T15:13:00-04:00\",\"2024-06-06T15:14:00-04:00\",\"2024-06-06T15:15:00-04:00\",\"2024-06-06T15:16:00-04:00\",\"2024-06-06T15:17:00-04:00\",\"2024-06-06T15:18:00-04:00\",\"2024-06-06T15:19:00-04:00\",\"2024-06-06T15:20:00-04:00\",\"2024-06-06T15:21:00-04:00\",\"2024-06-06T15:22:00-04:00\",\"2024-06-06T15:23:00-04:00\",\"2024-06-06T15:24:00-04:00\",\"2024-06-06T15:25:00-04:00\",\"2024-06-06T15:26:00-04:00\",\"2024-06-06T15:27:00-04:00\",\"2024-06-06T15:28:00-04:00\",\"2024-06-06T15:29:00-04:00\",\"2024-06-06T15:30:00-04:00\",\"2024-06-06T15:31:00-04:00\",\"2024-06-06T15:32:00-04:00\",\"2024-06-06T15:33:00-04:00\",\"2024-06-06T15:34:00-04:00\",\"2024-06-06T15:35:00-04:00\",\"2024-06-06T15:36:00-04:00\",\"2024-06-06T15:37:00-04:00\",\"2024-06-06T15:38:00-04:00\",\"2024-06-06T15:39:00-04:00\",\"2024-06-06T15:40:00-04:00\",\"2024-06-06T15:41:00-04:00\",\"2024-06-06T15:42:00-04:00\",\"2024-06-06T15:43:00-04:00\",\"2024-06-06T15:44:00-04:00\",\"2024-06-06T15:45:00-04:00\",\"2024-06-06T15:46:00-04:00\",\"2024-06-06T15:47:00-04:00\",\"2024-06-06T15:48:00-04:00\",\"2024-06-06T15:49:00-04:00\",\"2024-06-06T15:50:00-04:00\",\"2024-06-06T15:51:00-04:00\",\"2024-06-06T15:52:00-04:00\",\"2024-06-06T15:53:00-04:00\",\"2024-06-06T15:54:00-04:00\",\"2024-06-06T15:55:00-04:00\",\"2024-06-06T15:56:00-04:00\",\"2024-06-06T15:57:00-04:00\",\"2024-06-06T15:58:00-04:00\",\"2024-06-06T15:59:00-04:00\"],\"xaxis\":\"x\",\"y\":[196.1300048828125,196.1300048828125,196.21666463216147,196.1515998840332,196.05148583984376,195.96849926607112,195.84663100681516,195.8020297922194,195.76313641566108,195.73698194242195,195.71647229135343,195.6504238436351,195.64369120757755,195.64765335585201,195.66089600392672,195.6773979661601,195.6782605697211,195.68307121559548,195.64580816893022,195.63584455730506,195.63055246323736,195.60989615172753,195.62832543768266,195.6234765831782,195.62659626709655,195.63447136777322,195.60571641982446,195.66669738925367,195.70359379939944,195.74622077644773,195.79664350734762,195.8314831835804,195.8653732585664,195.86958095247695,195.9305409681771,195.93355445814103,195.9279336553921,195.89254321936332,195.87369703553514,195.84990572197992,195.84087212256725,195.845493970194,195.86976490323968,195.89235419706205,195.92152670771384,195.96967052681697,196.01722418159733,196.04651174261565,196.05491630791994,196.1034945426194,196.1131321123729,196.1077920557123,196.11489938087803,196.15667606791627,196.176511570253,196.18722504828594,196.18862760580433,196.1649890801723,196.13516225952733,196.13258457043673,196.12242256073444,196.10907798295423,196.09569425144684,196.0629548739471,196.01095247545655,195.95914354843006,195.93547401731504,195.91565841086995,195.9339283932255,195.90824044910403,195.85507603955045,195.82697239770718,195.80386198573086,195.8089778502746,195.82394597113822,195.80486315032522,195.79453261141205,195.7889646916509,195.75667226490293,195.71784609622514,195.68470011165164,195.67581397575026,195.67196500648214,195.6736047982901,195.6570877411719,195.66159250473686,195.69338003654497,195.72931543688026,195.73171113278212,195.7353871661918,195.7310323586739,195.7169488594815,195.71360337399517,195.70462412492805,195.69151013368608,195.6931131207355,195.67917800747878,195.7007667866864,195.70877483670643,195.70042358690486,195.71628383618307,195.72865564800694,195.73272687265677,195.70596730099837,195.69841087991222,195.71171198344777,195.71195610526198,195.7357070910332,195.73773539222216,195.73187772369408,195.71284290852253,195.70984222260938,195.72579884228014,195.72174097135365,195.71947449431764,195.72998852519535,195.73846782009343,195.7427470120709,195.74290494464273,195.76825981307675,195.78353749706443,195.78204984370728,195.77895484535318,195.75296612998068,195.74403147369358,195.74237663364414,195.75103097250104,195.7532372065161,195.7417287241292,195.73965782999636,195.7354421533965,195.73803939415373,195.72398036832465,195.70719518723394,195.69811309248686,195.69044714442396,195.66554588137612,195.66473832555803,195.6537292432611,195.66219348495525,195.6559610651837,195.6339768860382,195.60884210303254,195.59246869787088,195.56727990730616,195.55467752508775,195.53426354385718,195.5250074047395,195.527588720546,195.521993152946,195.52410900277758,195.5152080327493,195.51326538207306,195.51163027694443,195.50993322006184,195.49855919188144,195.49121426745631,195.48933430995083,195.48878874049615,195.50086431461597,195.50648464959178,195.52137132925498,195.54484610216136,195.57270774641344,195.5699584624623,195.57771425251423,195.56304405523557,195.57893653375544,195.59265446900778,195.60362907274597,195.62631840271743,195.64609431282634,195.65416722306986,195.67144292825577,195.67762733278778,195.6761857757895,195.683596620967,195.6940742007846,195.68854872271493,195.68151734093678,195.67327667013515,195.6661414281825,195.68902189534586,195.68375685424343,195.68013331920457,195.68991305312525,195.68772359592748,195.67906403430027,195.68419193311559,195.68044568519252,195.67078915737858,195.66865533070245,195.67158024657988,195.663920751327,195.6708973827406,195.66523766991756,195.66697355296031,195.66902525594048,195.66003673654473,195.65968632746518,195.6637729705771,195.6693149300558,195.66693917172046,195.67673082250295,195.6786189187703,195.6764976568458,195.68240563131397,195.69699310927496,195.69787432982156,195.71387548587302,195.74130769895885,195.7690228044781,195.7815469120429,195.80136456336047,195.82290003591206,195.83574325693914,195.8557410914768,195.87617528732454,195.9009785790599,195.9196866942992,195.9329933756586,195.94300565346012,195.9344849468754,195.9267423780666,195.93297828699752,195.9383250295616,195.91266926336164,195.89420167772127,195.882649585087,195.86763256129,195.8438812034684,195.81420364821844,195.7806810195353,195.762461313967,195.72997936589516,195.70451434499907,195.67921803738506,195.6643252747449,195.64915994701497,195.64910458836442,195.64492473835804,195.63371969899873,195.64234092884095,195.64685167241404,195.64848572707052,195.63231039024683,195.60995714394,195.60752411173453,195.607313152004,195.59778948467374,195.60056975006887,195.61590725834267,195.6249997097858,195.6320582802338,195.63257697764232,195.63603053423972,195.63171566461347,195.6372451539117,195.63330999141255,195.62246909203904,195.616866140465,195.60830659427822,195.60759008668907,195.60443117130677,195.59288743124847,195.59905445111136,195.59916043685888,195.59023642521862,195.5785313126104,195.55864100975495,195.54945040481525,195.54760224507183,195.54241753170362,195.53505579655695,195.5321271981629,195.5234347921844,195.51494851619105,195.4958573480498,195.46421749591673,195.4218516206878,195.3836122356386,195.3376807666117,195.29926251744487,195.27346714257544,195.26803747342245,195.27182357088597,195.2828218724205,195.28196970234595,195.28829611251135,195.29292285826628,195.30433462992403,195.31341926834162,195.30895564902548,195.31876348467762,195.33285679686546,195.33444356891903,195.3675931269504,195.3777413649251,195.39473686380154,195.43098334020334,195.45365143353234,195.45183482543223,195.4467579820781,195.44866343889325,195.4546672269484,195.45808238993715,195.4372689134624,195.43812648026807,195.44425966629353,195.42922439778695,195.40618892344173,195.38007427723142,195.36595981148176,195.3560575931924,195.34575132865837,195.33594289935237,195.31560340605435,195.30002697113855,195.3034158887046,195.29961281868498,195.29861342134686,195.2851913381833,195.28727861553938,195.2936676279998,195.29848644991353,195.29800177256374,195.30621155707772,195.31542758396733,195.31242089594951,195.3066830539078,195.297475133994,195.29223454693027,195.28929043151527,195.2802899291765,195.2769864288328,195.26901996513263,195.26974050954848,195.26757362668246,195.28691194339925,195.29352340735207,195.2863569969197,195.28504424773695,195.26914003730792,195.24349289719936,195.22223399931136,195.19842453777798,195.19314030636153,195.19723600616084,195.1972140403892,195.21115826108357,195.22479307506367,195.23575272417926,195.23879774622617,195.2478355453258,195.245076058564,195.24240094065146,195.2447395749223,195.23546841943644,195.22596362083718,195.2275111151029,195.24428080126648,195.2814794602623,195.29847113905657,195.31185263309277,195.32907622013602,195.3257623977687,195.29883626261994,195.26808840456022,195.2570684183126,195.25710521202512,195.23826563635924,195.22168001669925,195.19414438103317,195.17306849969378,195.15828121132654,195.1536494211196,195.14518756604946,195.12000805667728,195.1161502723767,195.10885050578113,195.09254834159975,195.05177747487284,194.99054521633434,194.92233297170603,194.87737884342917,194.79982925848208,194.7339298569207,194.66614910738346,194.63196503949152,194.59483085209175],\"yaxis\":\"y\",\"type\":\"scatter\"},{\"hovertemplate\":\"variable=EMA_8<br>Datetime=%{x}<br>value=%{y}<extra></extra>\",\"legendgroup\":\"EMA_8\",\"line\":{\"color\":\"#44fcd1\",\"dash\":\"solid\"},\"marker\":{\"symbol\":\"circle\"},\"mode\":\"lines\",\"name\":\"EMA_8\",\"orientation\":\"v\",\"showlegend\":true,\"x\":[\"2024-06-06T09:30:00-04:00\",\"2024-06-06T09:31:00-04:00\",\"2024-06-06T09:32:00-04:00\",\"2024-06-06T09:33:00-04:00\",\"2024-06-06T09:34:00-04:00\",\"2024-06-06T09:35:00-04:00\",\"2024-06-06T09:36:00-04:00\",\"2024-06-06T09:37:00-04:00\",\"2024-06-06T09:38:00-04:00\",\"2024-06-06T09:39:00-04:00\",\"2024-06-06T09:40:00-04:00\",\"2024-06-06T09:41:00-04:00\",\"2024-06-06T09:42:00-04:00\",\"2024-06-06T09:43:00-04:00\",\"2024-06-06T09:44:00-04:00\",\"2024-06-06T09:45:00-04:00\",\"2024-06-06T09:46:00-04:00\",\"2024-06-06T09:47:00-04:00\",\"2024-06-06T09:48:00-04:00\",\"2024-06-06T09:49:00-04:00\",\"2024-06-06T09:50:00-04:00\",\"2024-06-06T09:51:00-04:00\",\"2024-06-06T09:52:00-04:00\",\"2024-06-06T09:53:00-04:00\",\"2024-06-06T09:54:00-04:00\",\"2024-06-06T09:55:00-04:00\",\"2024-06-06T09:56:00-04:00\",\"2024-06-06T09:57:00-04:00\",\"2024-06-06T09:58:00-04:00\",\"2024-06-06T09:59:00-04:00\",\"2024-06-06T10:00:00-04:00\",\"2024-06-06T10:01:00-04:00\",\"2024-06-06T10:02:00-04:00\",\"2024-06-06T10:03:00-04:00\",\"2024-06-06T10:04:00-04:00\",\"2024-06-06T10:05:00-04:00\",\"2024-06-06T10:06:00-04:00\",\"2024-06-06T10:07:00-04:00\",\"2024-06-06T10:08:00-04:00\",\"2024-06-06T10:09:00-04:00\",\"2024-06-06T10:10:00-04:00\",\"2024-06-06T10:11:00-04:00\",\"2024-06-06T10:12:00-04:00\",\"2024-06-06T10:13:00-04:00\",\"2024-06-06T10:14:00-04:00\",\"2024-06-06T10:15:00-04:00\",\"2024-06-06T10:16:00-04:00\",\"2024-06-06T10:17:00-04:00\",\"2024-06-06T10:18:00-04:00\",\"2024-06-06T10:19:00-04:00\",\"2024-06-06T10:20:00-04:00\",\"2024-06-06T10:21:00-04:00\",\"2024-06-06T10:22:00-04:00\",\"2024-06-06T10:23:00-04:00\",\"2024-06-06T10:24:00-04:00\",\"2024-06-06T10:25:00-04:00\",\"2024-06-06T10:26:00-04:00\",\"2024-06-06T10:27:00-04:00\",\"2024-06-06T10:28:00-04:00\",\"2024-06-06T10:29:00-04:00\",\"2024-06-06T10:30:00-04:00\",\"2024-06-06T10:31:00-04:00\",\"2024-06-06T10:32:00-04:00\",\"2024-06-06T10:33:00-04:00\",\"2024-06-06T10:34:00-04:00\",\"2024-06-06T10:35:00-04:00\",\"2024-06-06T10:36:00-04:00\",\"2024-06-06T10:37:00-04:00\",\"2024-06-06T10:38:00-04:00\",\"2024-06-06T10:39:00-04:00\",\"2024-06-06T10:40:00-04:00\",\"2024-06-06T10:41:00-04:00\",\"2024-06-06T10:42:00-04:00\",\"2024-06-06T10:43:00-04:00\",\"2024-06-06T10:44:00-04:00\",\"2024-06-06T10:45:00-04:00\",\"2024-06-06T10:46:00-04:00\",\"2024-06-06T10:47:00-04:00\",\"2024-06-06T10:48:00-04:00\",\"2024-06-06T10:49:00-04:00\",\"2024-06-06T10:50:00-04:00\",\"2024-06-06T10:51:00-04:00\",\"2024-06-06T10:52:00-04:00\",\"2024-06-06T10:53:00-04:00\",\"2024-06-06T10:54:00-04:00\",\"2024-06-06T10:55:00-04:00\",\"2024-06-06T10:56:00-04:00\",\"2024-06-06T10:57:00-04:00\",\"2024-06-06T10:58:00-04:00\",\"2024-06-06T10:59:00-04:00\",\"2024-06-06T11:00:00-04:00\",\"2024-06-06T11:01:00-04:00\",\"2024-06-06T11:02:00-04:00\",\"2024-06-06T11:03:00-04:00\",\"2024-06-06T11:04:00-04:00\",\"2024-06-06T11:05:00-04:00\",\"2024-06-06T11:06:00-04:00\",\"2024-06-06T11:07:00-04:00\",\"2024-06-06T11:08:00-04:00\",\"2024-06-06T11:09:00-04:00\",\"2024-06-06T11:10:00-04:00\",\"2024-06-06T11:11:00-04:00\",\"2024-06-06T11:12:00-04:00\",\"2024-06-06T11:13:00-04:00\",\"2024-06-06T11:14:00-04:00\",\"2024-06-06T11:15:00-04:00\",\"2024-06-06T11:16:00-04:00\",\"2024-06-06T11:17:00-04:00\",\"2024-06-06T11:18:00-04:00\",\"2024-06-06T11:19:00-04:00\",\"2024-06-06T11:20:00-04:00\",\"2024-06-06T11:21:00-04:00\",\"2024-06-06T11:22:00-04:00\",\"2024-06-06T11:23:00-04:00\",\"2024-06-06T11:24:00-04:00\",\"2024-06-06T11:25:00-04:00\",\"2024-06-06T11:26:00-04:00\",\"2024-06-06T11:27:00-04:00\",\"2024-06-06T11:28:00-04:00\",\"2024-06-06T11:29:00-04:00\",\"2024-06-06T11:30:00-04:00\",\"2024-06-06T11:31:00-04:00\",\"2024-06-06T11:32:00-04:00\",\"2024-06-06T11:33:00-04:00\",\"2024-06-06T11:34:00-04:00\",\"2024-06-06T11:35:00-04:00\",\"2024-06-06T11:36:00-04:00\",\"2024-06-06T11:37:00-04:00\",\"2024-06-06T11:38:00-04:00\",\"2024-06-06T11:39:00-04:00\",\"2024-06-06T11:40:00-04:00\",\"2024-06-06T11:41:00-04:00\",\"2024-06-06T11:42:00-04:00\",\"2024-06-06T11:43:00-04:00\",\"2024-06-06T11:44:00-04:00\",\"2024-06-06T11:45:00-04:00\",\"2024-06-06T11:46:00-04:00\",\"2024-06-06T11:47:00-04:00\",\"2024-06-06T11:48:00-04:00\",\"2024-06-06T11:49:00-04:00\",\"2024-06-06T11:50:00-04:00\",\"2024-06-06T11:51:00-04:00\",\"2024-06-06T11:52:00-04:00\",\"2024-06-06T11:53:00-04:00\",\"2024-06-06T11:54:00-04:00\",\"2024-06-06T11:55:00-04:00\",\"2024-06-06T11:56:00-04:00\",\"2024-06-06T11:57:00-04:00\",\"2024-06-06T11:58:00-04:00\",\"2024-06-06T11:59:00-04:00\",\"2024-06-06T12:00:00-04:00\",\"2024-06-06T12:01:00-04:00\",\"2024-06-06T12:02:00-04:00\",\"2024-06-06T12:03:00-04:00\",\"2024-06-06T12:04:00-04:00\",\"2024-06-06T12:05:00-04:00\",\"2024-06-06T12:06:00-04:00\",\"2024-06-06T12:07:00-04:00\",\"2024-06-06T12:08:00-04:00\",\"2024-06-06T12:09:00-04:00\",\"2024-06-06T12:10:00-04:00\",\"2024-06-06T12:11:00-04:00\",\"2024-06-06T12:12:00-04:00\",\"2024-06-06T12:13:00-04:00\",\"2024-06-06T12:14:00-04:00\",\"2024-06-06T12:15:00-04:00\",\"2024-06-06T12:16:00-04:00\",\"2024-06-06T12:17:00-04:00\",\"2024-06-06T12:18:00-04:00\",\"2024-06-06T12:19:00-04:00\",\"2024-06-06T12:20:00-04:00\",\"2024-06-06T12:21:00-04:00\",\"2024-06-06T12:22:00-04:00\",\"2024-06-06T12:23:00-04:00\",\"2024-06-06T12:24:00-04:00\",\"2024-06-06T12:25:00-04:00\",\"2024-06-06T12:26:00-04:00\",\"2024-06-06T12:27:00-04:00\",\"2024-06-06T12:28:00-04:00\",\"2024-06-06T12:29:00-04:00\",\"2024-06-06T12:30:00-04:00\",\"2024-06-06T12:31:00-04:00\",\"2024-06-06T12:32:00-04:00\",\"2024-06-06T12:33:00-04:00\",\"2024-06-06T12:34:00-04:00\",\"2024-06-06T12:35:00-04:00\",\"2024-06-06T12:36:00-04:00\",\"2024-06-06T12:37:00-04:00\",\"2024-06-06T12:38:00-04:00\",\"2024-06-06T12:39:00-04:00\",\"2024-06-06T12:40:00-04:00\",\"2024-06-06T12:41:00-04:00\",\"2024-06-06T12:42:00-04:00\",\"2024-06-06T12:43:00-04:00\",\"2024-06-06T12:44:00-04:00\",\"2024-06-06T12:45:00-04:00\",\"2024-06-06T12:46:00-04:00\",\"2024-06-06T12:47:00-04:00\",\"2024-06-06T12:48:00-04:00\",\"2024-06-06T12:49:00-04:00\",\"2024-06-06T12:50:00-04:00\",\"2024-06-06T12:51:00-04:00\",\"2024-06-06T12:52:00-04:00\",\"2024-06-06T12:53:00-04:00\",\"2024-06-06T12:54:00-04:00\",\"2024-06-06T12:55:00-04:00\",\"2024-06-06T12:56:00-04:00\",\"2024-06-06T12:57:00-04:00\",\"2024-06-06T12:58:00-04:00\",\"2024-06-06T12:59:00-04:00\",\"2024-06-06T13:00:00-04:00\",\"2024-06-06T13:01:00-04:00\",\"2024-06-06T13:02:00-04:00\",\"2024-06-06T13:03:00-04:00\",\"2024-06-06T13:04:00-04:00\",\"2024-06-06T13:05:00-04:00\",\"2024-06-06T13:06:00-04:00\",\"2024-06-06T13:07:00-04:00\",\"2024-06-06T13:08:00-04:00\",\"2024-06-06T13:09:00-04:00\",\"2024-06-06T13:10:00-04:00\",\"2024-06-06T13:11:00-04:00\",\"2024-06-06T13:12:00-04:00\",\"2024-06-06T13:13:00-04:00\",\"2024-06-06T13:14:00-04:00\",\"2024-06-06T13:15:00-04:00\",\"2024-06-06T13:16:00-04:00\",\"2024-06-06T13:17:00-04:00\",\"2024-06-06T13:18:00-04:00\",\"2024-06-06T13:19:00-04:00\",\"2024-06-06T13:20:00-04:00\",\"2024-06-06T13:21:00-04:00\",\"2024-06-06T13:22:00-04:00\",\"2024-06-06T13:23:00-04:00\",\"2024-06-06T13:24:00-04:00\",\"2024-06-06T13:25:00-04:00\",\"2024-06-06T13:26:00-04:00\",\"2024-06-06T13:27:00-04:00\",\"2024-06-06T13:28:00-04:00\",\"2024-06-06T13:29:00-04:00\",\"2024-06-06T13:30:00-04:00\",\"2024-06-06T13:31:00-04:00\",\"2024-06-06T13:32:00-04:00\",\"2024-06-06T13:33:00-04:00\",\"2024-06-06T13:34:00-04:00\",\"2024-06-06T13:35:00-04:00\",\"2024-06-06T13:36:00-04:00\",\"2024-06-06T13:37:00-04:00\",\"2024-06-06T13:38:00-04:00\",\"2024-06-06T13:39:00-04:00\",\"2024-06-06T13:40:00-04:00\",\"2024-06-06T13:41:00-04:00\",\"2024-06-06T13:42:00-04:00\",\"2024-06-06T13:43:00-04:00\",\"2024-06-06T13:44:00-04:00\",\"2024-06-06T13:45:00-04:00\",\"2024-06-06T13:46:00-04:00\",\"2024-06-06T13:47:00-04:00\",\"2024-06-06T13:48:00-04:00\",\"2024-06-06T13:49:00-04:00\",\"2024-06-06T13:50:00-04:00\",\"2024-06-06T13:51:00-04:00\",\"2024-06-06T13:52:00-04:00\",\"2024-06-06T13:53:00-04:00\",\"2024-06-06T13:54:00-04:00\",\"2024-06-06T13:55:00-04:00\",\"2024-06-06T13:56:00-04:00\",\"2024-06-06T13:57:00-04:00\",\"2024-06-06T13:58:00-04:00\",\"2024-06-06T13:59:00-04:00\",\"2024-06-06T14:00:00-04:00\",\"2024-06-06T14:01:00-04:00\",\"2024-06-06T14:02:00-04:00\",\"2024-06-06T14:03:00-04:00\",\"2024-06-06T14:04:00-04:00\",\"2024-06-06T14:05:00-04:00\",\"2024-06-06T14:06:00-04:00\",\"2024-06-06T14:07:00-04:00\",\"2024-06-06T14:08:00-04:00\",\"2024-06-06T14:09:00-04:00\",\"2024-06-06T14:10:00-04:00\",\"2024-06-06T14:11:00-04:00\",\"2024-06-06T14:12:00-04:00\",\"2024-06-06T14:13:00-04:00\",\"2024-06-06T14:14:00-04:00\",\"2024-06-06T14:15:00-04:00\",\"2024-06-06T14:16:00-04:00\",\"2024-06-06T14:17:00-04:00\",\"2024-06-06T14:18:00-04:00\",\"2024-06-06T14:19:00-04:00\",\"2024-06-06T14:20:00-04:00\",\"2024-06-06T14:21:00-04:00\",\"2024-06-06T14:22:00-04:00\",\"2024-06-06T14:23:00-04:00\",\"2024-06-06T14:24:00-04:00\",\"2024-06-06T14:25:00-04:00\",\"2024-06-06T14:26:00-04:00\",\"2024-06-06T14:27:00-04:00\",\"2024-06-06T14:28:00-04:00\",\"2024-06-06T14:29:00-04:00\",\"2024-06-06T14:30:00-04:00\",\"2024-06-06T14:31:00-04:00\",\"2024-06-06T14:32:00-04:00\",\"2024-06-06T14:33:00-04:00\",\"2024-06-06T14:34:00-04:00\",\"2024-06-06T14:35:00-04:00\",\"2024-06-06T14:36:00-04:00\",\"2024-06-06T14:37:00-04:00\",\"2024-06-06T14:38:00-04:00\",\"2024-06-06T14:39:00-04:00\",\"2024-06-06T14:40:00-04:00\",\"2024-06-06T14:41:00-04:00\",\"2024-06-06T14:42:00-04:00\",\"2024-06-06T14:43:00-04:00\",\"2024-06-06T14:44:00-04:00\",\"2024-06-06T14:45:00-04:00\",\"2024-06-06T14:46:00-04:00\",\"2024-06-06T14:47:00-04:00\",\"2024-06-06T14:48:00-04:00\",\"2024-06-06T14:49:00-04:00\",\"2024-06-06T14:50:00-04:00\",\"2024-06-06T14:51:00-04:00\",\"2024-06-06T14:52:00-04:00\",\"2024-06-06T14:53:00-04:00\",\"2024-06-06T14:54:00-04:00\",\"2024-06-06T14:55:00-04:00\",\"2024-06-06T14:56:00-04:00\",\"2024-06-06T14:57:00-04:00\",\"2024-06-06T14:58:00-04:00\",\"2024-06-06T14:59:00-04:00\",\"2024-06-06T15:00:00-04:00\",\"2024-06-06T15:01:00-04:00\",\"2024-06-06T15:02:00-04:00\",\"2024-06-06T15:03:00-04:00\",\"2024-06-06T15:04:00-04:00\",\"2024-06-06T15:05:00-04:00\",\"2024-06-06T15:06:00-04:00\",\"2024-06-06T15:07:00-04:00\",\"2024-06-06T15:08:00-04:00\",\"2024-06-06T15:09:00-04:00\",\"2024-06-06T15:10:00-04:00\",\"2024-06-06T15:11:00-04:00\",\"2024-06-06T15:12:00-04:00\",\"2024-06-06T15:13:00-04:00\",\"2024-06-06T15:14:00-04:00\",\"2024-06-06T15:15:00-04:00\",\"2024-06-06T15:16:00-04:00\",\"2024-06-06T15:17:00-04:00\",\"2024-06-06T15:18:00-04:00\",\"2024-06-06T15:19:00-04:00\",\"2024-06-06T15:20:00-04:00\",\"2024-06-06T15:21:00-04:00\",\"2024-06-06T15:22:00-04:00\",\"2024-06-06T15:23:00-04:00\",\"2024-06-06T15:24:00-04:00\",\"2024-06-06T15:25:00-04:00\",\"2024-06-06T15:26:00-04:00\",\"2024-06-06T15:27:00-04:00\",\"2024-06-06T15:28:00-04:00\",\"2024-06-06T15:29:00-04:00\",\"2024-06-06T15:30:00-04:00\",\"2024-06-06T15:31:00-04:00\",\"2024-06-06T15:32:00-04:00\",\"2024-06-06T15:33:00-04:00\",\"2024-06-06T15:34:00-04:00\",\"2024-06-06T15:35:00-04:00\",\"2024-06-06T15:36:00-04:00\",\"2024-06-06T15:37:00-04:00\",\"2024-06-06T15:38:00-04:00\",\"2024-06-06T15:39:00-04:00\",\"2024-06-06T15:40:00-04:00\",\"2024-06-06T15:41:00-04:00\",\"2024-06-06T15:42:00-04:00\",\"2024-06-06T15:43:00-04:00\",\"2024-06-06T15:44:00-04:00\",\"2024-06-06T15:45:00-04:00\",\"2024-06-06T15:46:00-04:00\",\"2024-06-06T15:47:00-04:00\",\"2024-06-06T15:48:00-04:00\",\"2024-06-06T15:49:00-04:00\",\"2024-06-06T15:50:00-04:00\",\"2024-06-06T15:51:00-04:00\",\"2024-06-06T15:52:00-04:00\",\"2024-06-06T15:53:00-04:00\",\"2024-06-06T15:54:00-04:00\",\"2024-06-06T15:55:00-04:00\",\"2024-06-06T15:56:00-04:00\",\"2024-06-06T15:57:00-04:00\",\"2024-06-06T15:58:00-04:00\",\"2024-06-06T15:59:00-04:00\"],\"xaxis\":\"x\",\"y\":[196.1300048828125,196.1300048828125,196.21666463216147,196.1515998840332,196.05148583984376,195.96849926607112,195.84663100681516,195.8020297922194,195.76313641566108,195.72873621453158,195.66202308395322,195.53480091264876,195.50521382011743,195.477240524654,195.5239466761293,195.5546746906118,195.56301222681265,195.56322823223354,195.51733025855845,195.61563505535068,195.65264828545986,195.69212412038948,195.69344758281895,195.668471683062,195.6613943299262,195.66713285071805,195.71807974928203,195.73269547057137,195.77521652397235,195.8029922159817,195.86801342974732,195.94423820181825,195.99621952649318,195.9873023222575,196.02083703032935,196.03247255062126,195.99907541394288,195.9647092942622,195.93192534355737,195.86346345231675,195.8012379332163,195.8306082913902,195.85065839340592,195.85240421687737,195.88782225488322,195.95052801356368,196.00701980453496,196.08660217463606,196.1645214044548,196.20847579011672,196.22126285450145,196.24636755861198,196.26412701049674,196.3225993634256,196.35806429134973,196.3284067333089,196.2573110219813,196.1627813924184,196.10706313588977,196.0828133646433,196.074756231711,196.0319027317568,195.97514847681376,195.91254868259867,195.83853144630626,195.7933289667116,195.79509835091102,195.7819116156932,195.78991936542792,195.7830571080625,195.7523047347513,195.75085208437454,195.76238478393086,195.78593021260076,195.79864311056875,195.79652465772216,195.77325102766704,195.7596213132903,195.74772993698326,195.70735974114191,195.66192777261944,195.6197353910201,195.60487957283868,195.60933680317515,195.61147700945992,195.6281151135384,195.658059359688,195.72052426308449,195.73345628304457,195.7509813649088,195.75879813473676,195.7303897008763,195.7376701800862,195.7485015507043,195.7586658142958,195.72950453279535,195.70474063715008,195.71058253478952,195.6934989410552,195.69297820047214,195.70055008468856,195.70199732492978,195.68566044844715,195.6690063101455,195.6929507928583,195.7133909668744,195.7354993555778,195.76786795430223,195.75677498257176,195.73169137251,195.70375679027137,195.72077341989902,195.7424134493667,195.74278884023687,195.74597370874633,195.72924594538827,195.7418188430433,195.75340849154176,195.77156974883542,195.7919352740045,195.7928016021059,195.7823030496395,195.77323644506717,195.76612202412701,195.76155692984094,195.7600849002394,195.7567476342675,195.7419257413124,195.72454338597225,195.7191025977316,195.71126744080647,195.7081249033011,195.69322930114078,195.66937610694077,195.64728468981193,195.6459634212041,195.6308333510894,195.63533692454766,195.62833817698458,195.63024532981677,195.61820168018895,195.5941030705466,195.56991065051164,195.53370551213962,195.51400743202154,195.49445494534064,195.48658410315954,195.47838592109622,195.48893232133264,195.4844831264421,195.48522440437722,195.48100548368416,195.4772216312413,195.4836119787078,195.48816629691711,195.4992745187433,195.4931816191315,195.5034740606008,195.5069951675402,195.52277919131905,195.53347064399276,195.5468858363722,195.57669683280088,195.6058932823948,195.61307909058908,195.61459285050242,195.59848311990282,195.6154724562705,195.6338571053811,195.65767760407823,195.6879809963704,195.69742247623924,195.6956087169669,195.6996870226432,195.7229499555064,195.71162687939776,195.71061260970362,195.71697265250185,195.69427352871526,195.68685631589284,195.68633667078183,195.67947928282967,195.67801262584337,195.67446520633143,195.66324463031762,195.65514551214198,195.67249140096027,195.66770763515262,195.67377423272285,195.67917353441746,195.66599278018282,195.65525073147717,195.67032395684268,195.67553962882062,195.66673130564493,195.6654785573877,195.6666931608496,195.6589647877535,195.6542534659936,195.67005772306746,195.66309494075114,195.66221920363915,195.66682648786673,195.68177797977341,195.68403360633485,195.68647221030903,195.70460692236645,195.7053509562137,195.7148289783724,195.74777561224565,195.79916779352143,195.82846378515208,195.84455130918545,195.87534827227873,195.88791944147786,195.90617381256064,195.940416856935,195.96928531311133,195.98639744867063,195.99992693536242,196.01642515151661,196.0027755247473,195.98171761115202,195.95625013306082,195.93530329435674,195.9230321641393,195.8866018740069,195.86155349168328,195.82404129842618,195.80200348248476,195.76174286386663,195.71581439677624,195.6716168080575,195.63299178147912,195.60490214208664,195.58313958942404,195.5872222623676,195.5795615890366,195.57025407070643,195.58063942798213,195.59627554039886,195.59809424182504,195.6221625455517,195.65263558259355,195.6547014997748,195.64698897031096,195.63344140003446,195.62864887128637,195.61987458257695,195.61792232170603,195.61507802508368,195.61404948977128,195.62401585358705,195.6322114574598,195.63261762408732,195.63266318602933,195.62649884276962,195.62484128162862,195.62134596780555,195.6232958489312,195.62212379970998,195.6069495128313,195.60271702247587,195.595243066727,195.58051807169818,195.58640360806316,195.579669075371,195.55930189076037,195.53944127826352,195.52518656380778,195.5126948462888,195.51451747630594,195.527091665173,195.5130495920016,195.49678689701915,195.48694522871455,195.48450381995383,195.45603901612756,195.41704883975683,195.35368587134798,195.2735382615897,195.228279169546,195.19042811624288,195.16957124118582,195.16782683676547,195.18201802775596,195.19306396684672,195.1976236214908,195.24177224256215,195.26937968525243,195.30217022024559,195.3335577958852,195.3608950587427,195.39592956631284,195.43129089967192,195.45588460377098,195.4708316224946,195.4784416994938,195.47719817880898,195.49652250893132,195.5225844732655,195.51001676517964,195.479774514387,195.46559265052645,195.45914977961954,195.46077211026926,195.4382989791727,195.42573187406978,195.39943395269177,195.36773318655833,195.3484929109503,195.32170451386256,195.3104793172546,195.28519948138694,195.28007803164485,195.26960773931842,195.2603316462294,195.255555073145,195.2545329012355,195.26311151868785,195.26462893758872,195.27227450067755,195.27263824220825,195.29361682695378,195.31833240691424,195.3262953717713,195.34134833673758,195.3426040763015,195.3355984236657,195.3187835775597,195.3113209002314,195.29871282868623,195.28352294344683,195.2745460551827,195.26107254448522,195.24279649309398,195.23905536197708,195.24346826509088,195.2648906996739,195.27454843476212,195.27085965612736,195.26693850999453,195.24716264107371,195.22158215611125,195.19614599984337,195.1747164572888,195.16591249207443,195.1710781450795,195.17929753974073,195.20028057258767,195.22417755775433,195.2345595852236,195.2264244267988,195.24350343065453,195.2572596592819,195.2582112124837,195.27621736655652,195.27241601698003,195.25673483986384,195.251634776045,195.287067889293,195.3265829248162,195.33459847823912,195.3523745395558,195.3462606355248,195.3259815793665,195.29579398800328,195.27452431900053,195.25092372057858,195.23379620150172,195.21274017674492,195.17343944313114,195.13150620070897,195.0928932698125,195.0666801025957,195.0514203578987,195.05554708088786,195.03248946942614,195.0314514154516,195.0446770778472,195.04962179372563,195.00302438339622,194.90524218649352,194.79847040541196,194.71950934738396,194.63788208269236,194.57126067293538,194.4811947110551,194.4345714914987,194.37516094089236],\"yaxis\":\"y\",\"type\":\"scatter\"}],                        {\"template\":{\"data\":{\"histogram2dcontour\":[{\"type\":\"histogram2dcontour\",\"colorbar\":{\"outlinewidth\":0,\"ticks\":\"\"},\"colorscale\":[[0.0,\"#0d0887\"],[0.1111111111111111,\"#46039f\"],[0.2222222222222222,\"#7201a8\"],[0.3333333333333333,\"#9c179e\"],[0.4444444444444444,\"#bd3786\"],[0.5555555555555556,\"#d8576b\"],[0.6666666666666666,\"#ed7953\"],[0.7777777777777778,\"#fb9f3a\"],[0.8888888888888888,\"#fdca26\"],[1.0,\"#f0f921\"]]}],\"choropleth\":[{\"type\":\"choropleth\",\"colorbar\":{\"outlinewidth\":0,\"ticks\":\"\"}}],\"histogram2d\":[{\"type\":\"histogram2d\",\"colorbar\":{\"outlinewidth\":0,\"ticks\":\"\"},\"colorscale\":[[0.0,\"#0d0887\"],[0.1111111111111111,\"#46039f\"],[0.2222222222222222,\"#7201a8\"],[0.3333333333333333,\"#9c179e\"],[0.4444444444444444,\"#bd3786\"],[0.5555555555555556,\"#d8576b\"],[0.6666666666666666,\"#ed7953\"],[0.7777777777777778,\"#fb9f3a\"],[0.8888888888888888,\"#fdca26\"],[1.0,\"#f0f921\"]]}],\"heatmap\":[{\"type\":\"heatmap\",\"colorbar\":{\"outlinewidth\":0,\"ticks\":\"\"},\"colorscale\":[[0.0,\"#0d0887\"],[0.1111111111111111,\"#46039f\"],[0.2222222222222222,\"#7201a8\"],[0.3333333333333333,\"#9c179e\"],[0.4444444444444444,\"#bd3786\"],[0.5555555555555556,\"#d8576b\"],[0.6666666666666666,\"#ed7953\"],[0.7777777777777778,\"#fb9f3a\"],[0.8888888888888888,\"#fdca26\"],[1.0,\"#f0f921\"]]}],\"heatmapgl\":[{\"type\":\"heatmapgl\",\"colorbar\":{\"outlinewidth\":0,\"ticks\":\"\"},\"colorscale\":[[0.0,\"#0d0887\"],[0.1111111111111111,\"#46039f\"],[0.2222222222222222,\"#7201a8\"],[0.3333333333333333,\"#9c179e\"],[0.4444444444444444,\"#bd3786\"],[0.5555555555555556,\"#d8576b\"],[0.6666666666666666,\"#ed7953\"],[0.7777777777777778,\"#fb9f3a\"],[0.8888888888888888,\"#fdca26\"],[1.0,\"#f0f921\"]]}],\"contourcarpet\":[{\"type\":\"contourcarpet\",\"colorbar\":{\"outlinewidth\":0,\"ticks\":\"\"}}],\"contour\":[{\"type\":\"contour\",\"colorbar\":{\"outlinewidth\":0,\"ticks\":\"\"},\"colorscale\":[[0.0,\"#0d0887\"],[0.1111111111111111,\"#46039f\"],[0.2222222222222222,\"#7201a8\"],[0.3333333333333333,\"#9c179e\"],[0.4444444444444444,\"#bd3786\"],[0.5555555555555556,\"#d8576b\"],[0.6666666666666666,\"#ed7953\"],[0.7777777777777778,\"#fb9f3a\"],[0.8888888888888888,\"#fdca26\"],[1.0,\"#f0f921\"]]}],\"surface\":[{\"type\":\"surface\",\"colorbar\":{\"outlinewidth\":0,\"ticks\":\"\"},\"colorscale\":[[0.0,\"#0d0887\"],[0.1111111111111111,\"#46039f\"],[0.2222222222222222,\"#7201a8\"],[0.3333333333333333,\"#9c179e\"],[0.4444444444444444,\"#bd3786\"],[0.5555555555555556,\"#d8576b\"],[0.6666666666666666,\"#ed7953\"],[0.7777777777777778,\"#fb9f3a\"],[0.8888888888888888,\"#fdca26\"],[1.0,\"#f0f921\"]]}],\"mesh3d\":[{\"type\":\"mesh3d\",\"colorbar\":{\"outlinewidth\":0,\"ticks\":\"\"}}],\"scatter\":[{\"fillpattern\":{\"fillmode\":\"overlay\",\"size\":10,\"solidity\":0.2},\"type\":\"scatter\"}],\"parcoords\":[{\"type\":\"parcoords\",\"line\":{\"colorbar\":{\"outlinewidth\":0,\"ticks\":\"\"}}}],\"scatterpolargl\":[{\"type\":\"scatterpolargl\",\"marker\":{\"colorbar\":{\"outlinewidth\":0,\"ticks\":\"\"}}}],\"bar\":[{\"error_x\":{\"color\":\"#2a3f5f\"},\"error_y\":{\"color\":\"#2a3f5f\"},\"marker\":{\"line\":{\"color\":\"#E5ECF6\",\"width\":0.5},\"pattern\":{\"fillmode\":\"overlay\",\"size\":10,\"solidity\":0.2}},\"type\":\"bar\"}],\"scattergeo\":[{\"type\":\"scattergeo\",\"marker\":{\"colorbar\":{\"outlinewidth\":0,\"ticks\":\"\"}}}],\"scatterpolar\":[{\"type\":\"scatterpolar\",\"marker\":{\"colorbar\":{\"outlinewidth\":0,\"ticks\":\"\"}}}],\"histogram\":[{\"marker\":{\"pattern\":{\"fillmode\":\"overlay\",\"size\":10,\"solidity\":0.2}},\"type\":\"histogram\"}],\"scattergl\":[{\"type\":\"scattergl\",\"marker\":{\"colorbar\":{\"outlinewidth\":0,\"ticks\":\"\"}}}],\"scatter3d\":[{\"type\":\"scatter3d\",\"line\":{\"colorbar\":{\"outlinewidth\":0,\"ticks\":\"\"}},\"marker\":{\"colorbar\":{\"outlinewidth\":0,\"ticks\":\"\"}}}],\"scattermapbox\":[{\"type\":\"scattermapbox\",\"marker\":{\"colorbar\":{\"outlinewidth\":0,\"ticks\":\"\"}}}],\"scatterternary\":[{\"type\":\"scatterternary\",\"marker\":{\"colorbar\":{\"outlinewidth\":0,\"ticks\":\"\"}}}],\"scattercarpet\":[{\"type\":\"scattercarpet\",\"marker\":{\"colorbar\":{\"outlinewidth\":0,\"ticks\":\"\"}}}],\"carpet\":[{\"aaxis\":{\"endlinecolor\":\"#2a3f5f\",\"gridcolor\":\"white\",\"linecolor\":\"white\",\"minorgridcolor\":\"white\",\"startlinecolor\":\"#2a3f5f\"},\"baxis\":{\"endlinecolor\":\"#2a3f5f\",\"gridcolor\":\"white\",\"linecolor\":\"white\",\"minorgridcolor\":\"white\",\"startlinecolor\":\"#2a3f5f\"},\"type\":\"carpet\"}],\"table\":[{\"cells\":{\"fill\":{\"color\":\"#EBF0F8\"},\"line\":{\"color\":\"white\"}},\"header\":{\"fill\":{\"color\":\"#C8D4E3\"},\"line\":{\"color\":\"white\"}},\"type\":\"table\"}],\"barpolar\":[{\"marker\":{\"line\":{\"color\":\"#E5ECF6\",\"width\":0.5},\"pattern\":{\"fillmode\":\"overlay\",\"size\":10,\"solidity\":0.2}},\"type\":\"barpolar\"}],\"pie\":[{\"automargin\":true,\"type\":\"pie\"}]},\"layout\":{\"autotypenumbers\":\"strict\",\"colorway\":[\"#636efa\",\"#EF553B\",\"#00cc96\",\"#ab63fa\",\"#FFA15A\",\"#19d3f3\",\"#FF6692\",\"#B6E880\",\"#FF97FF\",\"#FECB52\"],\"font\":{\"color\":\"#2a3f5f\"},\"hovermode\":\"closest\",\"hoverlabel\":{\"align\":\"left\"},\"paper_bgcolor\":\"white\",\"plot_bgcolor\":\"#E5ECF6\",\"polar\":{\"bgcolor\":\"#E5ECF6\",\"angularaxis\":{\"gridcolor\":\"white\",\"linecolor\":\"white\",\"ticks\":\"\"},\"radialaxis\":{\"gridcolor\":\"white\",\"linecolor\":\"white\",\"ticks\":\"\"}},\"ternary\":{\"bgcolor\":\"#E5ECF6\",\"aaxis\":{\"gridcolor\":\"white\",\"linecolor\":\"white\",\"ticks\":\"\"},\"baxis\":{\"gridcolor\":\"white\",\"linecolor\":\"white\",\"ticks\":\"\"},\"caxis\":{\"gridcolor\":\"white\",\"linecolor\":\"white\",\"ticks\":\"\"}},\"coloraxis\":{\"colorbar\":{\"outlinewidth\":0,\"ticks\":\"\"}},\"colorscale\":{\"sequential\":[[0.0,\"#0d0887\"],[0.1111111111111111,\"#46039f\"],[0.2222222222222222,\"#7201a8\"],[0.3333333333333333,\"#9c179e\"],[0.4444444444444444,\"#bd3786\"],[0.5555555555555556,\"#d8576b\"],[0.6666666666666666,\"#ed7953\"],[0.7777777777777778,\"#fb9f3a\"],[0.8888888888888888,\"#fdca26\"],[1.0,\"#f0f921\"]],\"sequentialminus\":[[0.0,\"#0d0887\"],[0.1111111111111111,\"#46039f\"],[0.2222222222222222,\"#7201a8\"],[0.3333333333333333,\"#9c179e\"],[0.4444444444444444,\"#bd3786\"],[0.5555555555555556,\"#d8576b\"],[0.6666666666666666,\"#ed7953\"],[0.7777777777777778,\"#fb9f3a\"],[0.8888888888888888,\"#fdca26\"],[1.0,\"#f0f921\"]],\"diverging\":[[0,\"#8e0152\"],[0.1,\"#c51b7d\"],[0.2,\"#de77ae\"],[0.3,\"#f1b6da\"],[0.4,\"#fde0ef\"],[0.5,\"#f7f7f7\"],[0.6,\"#e6f5d0\"],[0.7,\"#b8e186\"],[0.8,\"#7fbc41\"],[0.9,\"#4d9221\"],[1,\"#276419\"]]},\"xaxis\":{\"gridcolor\":\"white\",\"linecolor\":\"white\",\"ticks\":\"\",\"title\":{\"standoff\":15},\"zerolinecolor\":\"white\",\"automargin\":true,\"zerolinewidth\":2},\"yaxis\":{\"gridcolor\":\"white\",\"linecolor\":\"white\",\"ticks\":\"\",\"title\":{\"standoff\":15},\"zerolinecolor\":\"white\",\"automargin\":true,\"zerolinewidth\":2},\"scene\":{\"xaxis\":{\"backgroundcolor\":\"#E5ECF6\",\"gridcolor\":\"white\",\"linecolor\":\"white\",\"showbackground\":true,\"ticks\":\"\",\"zerolinecolor\":\"white\",\"gridwidth\":2},\"yaxis\":{\"backgroundcolor\":\"#E5ECF6\",\"gridcolor\":\"white\",\"linecolor\":\"white\",\"showbackground\":true,\"ticks\":\"\",\"zerolinecolor\":\"white\",\"gridwidth\":2},\"zaxis\":{\"backgroundcolor\":\"#E5ECF6\",\"gridcolor\":\"white\",\"linecolor\":\"white\",\"showbackground\":true,\"ticks\":\"\",\"zerolinecolor\":\"white\",\"gridwidth\":2}},\"shapedefaults\":{\"line\":{\"color\":\"#2a3f5f\"}},\"annotationdefaults\":{\"arrowcolor\":\"#2a3f5f\",\"arrowhead\":0,\"arrowwidth\":1},\"geo\":{\"bgcolor\":\"white\",\"landcolor\":\"#E5ECF6\",\"subunitcolor\":\"white\",\"showland\":true,\"showlakes\":true,\"lakecolor\":\"white\"},\"title\":{\"x\":0.05},\"mapbox\":{\"style\":\"light\"}}},\"xaxis\":{\"anchor\":\"y\",\"domain\":[0.0,1.0],\"title\":{\"text\":\"Datetime\"}},\"yaxis\":{\"anchor\":\"x\",\"domain\":[0.0,1.0],\"title\":{\"text\":\"value\"}},\"legend\":{\"title\":{\"text\":\"variable\"},\"tracegroupgap\":0},\"title\":{\"text\":\"AAPL Exponential Moving Averages\"}},                        {\"responsive\": true}                    ).then(function(){\n",
       "                            \n",
       "var gd = document.getElementById('1fbc0c71-3869-4a4c-9a1b-e378ea88c948');\n",
       "var x = new MutationObserver(function (mutations, observer) {{\n",
       "        var display = window.getComputedStyle(gd).display;\n",
       "        if (!display || display === 'none') {{\n",
       "            console.log([gd, 'removed!']);\n",
       "            Plotly.purge(gd);\n",
       "            observer.disconnect();\n",
       "        }}\n",
       "}});\n",
       "\n",
       "// Listen for the removal of the full notebook cells\n",
       "var notebookContainer = gd.closest('#notebook-container');\n",
       "if (notebookContainer) {{\n",
       "    x.observe(notebookContainer, {childList: true});\n",
       "}}\n",
       "\n",
       "// Listen for the clearing of the current output cell\n",
       "var outputEl = gd.closest('.output');\n",
       "if (outputEl) {{\n",
       "    x.observe(outputEl, {childList: true});\n",
       "}}\n",
       "\n",
       "                        })                };                });            </script>        </div>"
      ]
     },
     "metadata": {},
     "output_type": "display_data"
    },
    {
     "data": {
      "application/vnd.plotly.v1+json": {
       "config": {
        "plotlyServerURL": "https://plot.ly"
       },
       "data": [
        {
         "hovertemplate": "Datetime=%{x}<br>MACD_8_16=%{y}<extra></extra>",
         "legendgroup": "",
         "line": {
          "color": "#636efa",
          "dash": "solid"
         },
         "marker": {
          "symbol": "circle"
         },
         "mode": "lines",
         "name": "",
         "orientation": "v",
         "showlegend": false,
         "type": "scatter",
         "x": [
          "2024-06-06T09:30:00-04:00",
          "2024-06-06T09:31:00-04:00",
          "2024-06-06T09:32:00-04:00",
          "2024-06-06T09:33:00-04:00",
          "2024-06-06T09:34:00-04:00",
          "2024-06-06T09:35:00-04:00",
          "2024-06-06T09:36:00-04:00",
          "2024-06-06T09:37:00-04:00",
          "2024-06-06T09:38:00-04:00",
          "2024-06-06T09:39:00-04:00",
          "2024-06-06T09:40:00-04:00",
          "2024-06-06T09:41:00-04:00",
          "2024-06-06T09:42:00-04:00",
          "2024-06-06T09:43:00-04:00",
          "2024-06-06T09:44:00-04:00",
          "2024-06-06T09:45:00-04:00",
          "2024-06-06T09:46:00-04:00",
          "2024-06-06T09:47:00-04:00",
          "2024-06-06T09:48:00-04:00",
          "2024-06-06T09:49:00-04:00",
          "2024-06-06T09:50:00-04:00",
          "2024-06-06T09:51:00-04:00",
          "2024-06-06T09:52:00-04:00",
          "2024-06-06T09:53:00-04:00",
          "2024-06-06T09:54:00-04:00",
          "2024-06-06T09:55:00-04:00",
          "2024-06-06T09:56:00-04:00",
          "2024-06-06T09:57:00-04:00",
          "2024-06-06T09:58:00-04:00",
          "2024-06-06T09:59:00-04:00",
          "2024-06-06T10:00:00-04:00",
          "2024-06-06T10:01:00-04:00",
          "2024-06-06T10:02:00-04:00",
          "2024-06-06T10:03:00-04:00",
          "2024-06-06T10:04:00-04:00",
          "2024-06-06T10:05:00-04:00",
          "2024-06-06T10:06:00-04:00",
          "2024-06-06T10:07:00-04:00",
          "2024-06-06T10:08:00-04:00",
          "2024-06-06T10:09:00-04:00",
          "2024-06-06T10:10:00-04:00",
          "2024-06-06T10:11:00-04:00",
          "2024-06-06T10:12:00-04:00",
          "2024-06-06T10:13:00-04:00",
          "2024-06-06T10:14:00-04:00",
          "2024-06-06T10:15:00-04:00",
          "2024-06-06T10:16:00-04:00",
          "2024-06-06T10:17:00-04:00",
          "2024-06-06T10:18:00-04:00",
          "2024-06-06T10:19:00-04:00",
          "2024-06-06T10:20:00-04:00",
          "2024-06-06T10:21:00-04:00",
          "2024-06-06T10:22:00-04:00",
          "2024-06-06T10:23:00-04:00",
          "2024-06-06T10:24:00-04:00",
          "2024-06-06T10:25:00-04:00",
          "2024-06-06T10:26:00-04:00",
          "2024-06-06T10:27:00-04:00",
          "2024-06-06T10:28:00-04:00",
          "2024-06-06T10:29:00-04:00",
          "2024-06-06T10:30:00-04:00",
          "2024-06-06T10:31:00-04:00",
          "2024-06-06T10:32:00-04:00",
          "2024-06-06T10:33:00-04:00",
          "2024-06-06T10:34:00-04:00",
          "2024-06-06T10:35:00-04:00",
          "2024-06-06T10:36:00-04:00",
          "2024-06-06T10:37:00-04:00",
          "2024-06-06T10:38:00-04:00",
          "2024-06-06T10:39:00-04:00",
          "2024-06-06T10:40:00-04:00",
          "2024-06-06T10:41:00-04:00",
          "2024-06-06T10:42:00-04:00",
          "2024-06-06T10:43:00-04:00",
          "2024-06-06T10:44:00-04:00",
          "2024-06-06T10:45:00-04:00",
          "2024-06-06T10:46:00-04:00",
          "2024-06-06T10:47:00-04:00",
          "2024-06-06T10:48:00-04:00",
          "2024-06-06T10:49:00-04:00",
          "2024-06-06T10:50:00-04:00",
          "2024-06-06T10:51:00-04:00",
          "2024-06-06T10:52:00-04:00",
          "2024-06-06T10:53:00-04:00",
          "2024-06-06T10:54:00-04:00",
          "2024-06-06T10:55:00-04:00",
          "2024-06-06T10:56:00-04:00",
          "2024-06-06T10:57:00-04:00",
          "2024-06-06T10:58:00-04:00",
          "2024-06-06T10:59:00-04:00",
          "2024-06-06T11:00:00-04:00",
          "2024-06-06T11:01:00-04:00",
          "2024-06-06T11:02:00-04:00",
          "2024-06-06T11:03:00-04:00",
          "2024-06-06T11:04:00-04:00",
          "2024-06-06T11:05:00-04:00",
          "2024-06-06T11:06:00-04:00",
          "2024-06-06T11:07:00-04:00",
          "2024-06-06T11:08:00-04:00",
          "2024-06-06T11:09:00-04:00",
          "2024-06-06T11:10:00-04:00",
          "2024-06-06T11:11:00-04:00",
          "2024-06-06T11:12:00-04:00",
          "2024-06-06T11:13:00-04:00",
          "2024-06-06T11:14:00-04:00",
          "2024-06-06T11:15:00-04:00",
          "2024-06-06T11:16:00-04:00",
          "2024-06-06T11:17:00-04:00",
          "2024-06-06T11:18:00-04:00",
          "2024-06-06T11:19:00-04:00",
          "2024-06-06T11:20:00-04:00",
          "2024-06-06T11:21:00-04:00",
          "2024-06-06T11:22:00-04:00",
          "2024-06-06T11:23:00-04:00",
          "2024-06-06T11:24:00-04:00",
          "2024-06-06T11:25:00-04:00",
          "2024-06-06T11:26:00-04:00",
          "2024-06-06T11:27:00-04:00",
          "2024-06-06T11:28:00-04:00",
          "2024-06-06T11:29:00-04:00",
          "2024-06-06T11:30:00-04:00",
          "2024-06-06T11:31:00-04:00",
          "2024-06-06T11:32:00-04:00",
          "2024-06-06T11:33:00-04:00",
          "2024-06-06T11:34:00-04:00",
          "2024-06-06T11:35:00-04:00",
          "2024-06-06T11:36:00-04:00",
          "2024-06-06T11:37:00-04:00",
          "2024-06-06T11:38:00-04:00",
          "2024-06-06T11:39:00-04:00",
          "2024-06-06T11:40:00-04:00",
          "2024-06-06T11:41:00-04:00",
          "2024-06-06T11:42:00-04:00",
          "2024-06-06T11:43:00-04:00",
          "2024-06-06T11:44:00-04:00",
          "2024-06-06T11:45:00-04:00",
          "2024-06-06T11:46:00-04:00",
          "2024-06-06T11:47:00-04:00",
          "2024-06-06T11:48:00-04:00",
          "2024-06-06T11:49:00-04:00",
          "2024-06-06T11:50:00-04:00",
          "2024-06-06T11:51:00-04:00",
          "2024-06-06T11:52:00-04:00",
          "2024-06-06T11:53:00-04:00",
          "2024-06-06T11:54:00-04:00",
          "2024-06-06T11:55:00-04:00",
          "2024-06-06T11:56:00-04:00",
          "2024-06-06T11:57:00-04:00",
          "2024-06-06T11:58:00-04:00",
          "2024-06-06T11:59:00-04:00",
          "2024-06-06T12:00:00-04:00",
          "2024-06-06T12:01:00-04:00",
          "2024-06-06T12:02:00-04:00",
          "2024-06-06T12:03:00-04:00",
          "2024-06-06T12:04:00-04:00",
          "2024-06-06T12:05:00-04:00",
          "2024-06-06T12:06:00-04:00",
          "2024-06-06T12:07:00-04:00",
          "2024-06-06T12:08:00-04:00",
          "2024-06-06T12:09:00-04:00",
          "2024-06-06T12:10:00-04:00",
          "2024-06-06T12:11:00-04:00",
          "2024-06-06T12:12:00-04:00",
          "2024-06-06T12:13:00-04:00",
          "2024-06-06T12:14:00-04:00",
          "2024-06-06T12:15:00-04:00",
          "2024-06-06T12:16:00-04:00",
          "2024-06-06T12:17:00-04:00",
          "2024-06-06T12:18:00-04:00",
          "2024-06-06T12:19:00-04:00",
          "2024-06-06T12:20:00-04:00",
          "2024-06-06T12:21:00-04:00",
          "2024-06-06T12:22:00-04:00",
          "2024-06-06T12:23:00-04:00",
          "2024-06-06T12:24:00-04:00",
          "2024-06-06T12:25:00-04:00",
          "2024-06-06T12:26:00-04:00",
          "2024-06-06T12:27:00-04:00",
          "2024-06-06T12:28:00-04:00",
          "2024-06-06T12:29:00-04:00",
          "2024-06-06T12:30:00-04:00",
          "2024-06-06T12:31:00-04:00",
          "2024-06-06T12:32:00-04:00",
          "2024-06-06T12:33:00-04:00",
          "2024-06-06T12:34:00-04:00",
          "2024-06-06T12:35:00-04:00",
          "2024-06-06T12:36:00-04:00",
          "2024-06-06T12:37:00-04:00",
          "2024-06-06T12:38:00-04:00",
          "2024-06-06T12:39:00-04:00",
          "2024-06-06T12:40:00-04:00",
          "2024-06-06T12:41:00-04:00",
          "2024-06-06T12:42:00-04:00",
          "2024-06-06T12:43:00-04:00",
          "2024-06-06T12:44:00-04:00",
          "2024-06-06T12:45:00-04:00",
          "2024-06-06T12:46:00-04:00",
          "2024-06-06T12:47:00-04:00",
          "2024-06-06T12:48:00-04:00",
          "2024-06-06T12:49:00-04:00",
          "2024-06-06T12:50:00-04:00",
          "2024-06-06T12:51:00-04:00",
          "2024-06-06T12:52:00-04:00",
          "2024-06-06T12:53:00-04:00",
          "2024-06-06T12:54:00-04:00",
          "2024-06-06T12:55:00-04:00",
          "2024-06-06T12:56:00-04:00",
          "2024-06-06T12:57:00-04:00",
          "2024-06-06T12:58:00-04:00",
          "2024-06-06T12:59:00-04:00",
          "2024-06-06T13:00:00-04:00",
          "2024-06-06T13:01:00-04:00",
          "2024-06-06T13:02:00-04:00",
          "2024-06-06T13:03:00-04:00",
          "2024-06-06T13:04:00-04:00",
          "2024-06-06T13:05:00-04:00",
          "2024-06-06T13:06:00-04:00",
          "2024-06-06T13:07:00-04:00",
          "2024-06-06T13:08:00-04:00",
          "2024-06-06T13:09:00-04:00",
          "2024-06-06T13:10:00-04:00",
          "2024-06-06T13:11:00-04:00",
          "2024-06-06T13:12:00-04:00",
          "2024-06-06T13:13:00-04:00",
          "2024-06-06T13:14:00-04:00",
          "2024-06-06T13:15:00-04:00",
          "2024-06-06T13:16:00-04:00",
          "2024-06-06T13:17:00-04:00",
          "2024-06-06T13:18:00-04:00",
          "2024-06-06T13:19:00-04:00",
          "2024-06-06T13:20:00-04:00",
          "2024-06-06T13:21:00-04:00",
          "2024-06-06T13:22:00-04:00",
          "2024-06-06T13:23:00-04:00",
          "2024-06-06T13:24:00-04:00",
          "2024-06-06T13:25:00-04:00",
          "2024-06-06T13:26:00-04:00",
          "2024-06-06T13:27:00-04:00",
          "2024-06-06T13:28:00-04:00",
          "2024-06-06T13:29:00-04:00",
          "2024-06-06T13:30:00-04:00",
          "2024-06-06T13:31:00-04:00",
          "2024-06-06T13:32:00-04:00",
          "2024-06-06T13:33:00-04:00",
          "2024-06-06T13:34:00-04:00",
          "2024-06-06T13:35:00-04:00",
          "2024-06-06T13:36:00-04:00",
          "2024-06-06T13:37:00-04:00",
          "2024-06-06T13:38:00-04:00",
          "2024-06-06T13:39:00-04:00",
          "2024-06-06T13:40:00-04:00",
          "2024-06-06T13:41:00-04:00",
          "2024-06-06T13:42:00-04:00",
          "2024-06-06T13:43:00-04:00",
          "2024-06-06T13:44:00-04:00",
          "2024-06-06T13:45:00-04:00",
          "2024-06-06T13:46:00-04:00",
          "2024-06-06T13:47:00-04:00",
          "2024-06-06T13:48:00-04:00",
          "2024-06-06T13:49:00-04:00",
          "2024-06-06T13:50:00-04:00",
          "2024-06-06T13:51:00-04:00",
          "2024-06-06T13:52:00-04:00",
          "2024-06-06T13:53:00-04:00",
          "2024-06-06T13:54:00-04:00",
          "2024-06-06T13:55:00-04:00",
          "2024-06-06T13:56:00-04:00",
          "2024-06-06T13:57:00-04:00",
          "2024-06-06T13:58:00-04:00",
          "2024-06-06T13:59:00-04:00",
          "2024-06-06T14:00:00-04:00",
          "2024-06-06T14:01:00-04:00",
          "2024-06-06T14:02:00-04:00",
          "2024-06-06T14:03:00-04:00",
          "2024-06-06T14:04:00-04:00",
          "2024-06-06T14:05:00-04:00",
          "2024-06-06T14:06:00-04:00",
          "2024-06-06T14:07:00-04:00",
          "2024-06-06T14:08:00-04:00",
          "2024-06-06T14:09:00-04:00",
          "2024-06-06T14:10:00-04:00",
          "2024-06-06T14:11:00-04:00",
          "2024-06-06T14:12:00-04:00",
          "2024-06-06T14:13:00-04:00",
          "2024-06-06T14:14:00-04:00",
          "2024-06-06T14:15:00-04:00",
          "2024-06-06T14:16:00-04:00",
          "2024-06-06T14:17:00-04:00",
          "2024-06-06T14:18:00-04:00",
          "2024-06-06T14:19:00-04:00",
          "2024-06-06T14:20:00-04:00",
          "2024-06-06T14:21:00-04:00",
          "2024-06-06T14:22:00-04:00",
          "2024-06-06T14:23:00-04:00",
          "2024-06-06T14:24:00-04:00",
          "2024-06-06T14:25:00-04:00",
          "2024-06-06T14:26:00-04:00",
          "2024-06-06T14:27:00-04:00",
          "2024-06-06T14:28:00-04:00",
          "2024-06-06T14:29:00-04:00",
          "2024-06-06T14:30:00-04:00",
          "2024-06-06T14:31:00-04:00",
          "2024-06-06T14:32:00-04:00",
          "2024-06-06T14:33:00-04:00",
          "2024-06-06T14:34:00-04:00",
          "2024-06-06T14:35:00-04:00",
          "2024-06-06T14:36:00-04:00",
          "2024-06-06T14:37:00-04:00",
          "2024-06-06T14:38:00-04:00",
          "2024-06-06T14:39:00-04:00",
          "2024-06-06T14:40:00-04:00",
          "2024-06-06T14:41:00-04:00",
          "2024-06-06T14:42:00-04:00",
          "2024-06-06T14:43:00-04:00",
          "2024-06-06T14:44:00-04:00",
          "2024-06-06T14:45:00-04:00",
          "2024-06-06T14:46:00-04:00",
          "2024-06-06T14:47:00-04:00",
          "2024-06-06T14:48:00-04:00",
          "2024-06-06T14:49:00-04:00",
          "2024-06-06T14:50:00-04:00",
          "2024-06-06T14:51:00-04:00",
          "2024-06-06T14:52:00-04:00",
          "2024-06-06T14:53:00-04:00",
          "2024-06-06T14:54:00-04:00",
          "2024-06-06T14:55:00-04:00",
          "2024-06-06T14:56:00-04:00",
          "2024-06-06T14:57:00-04:00",
          "2024-06-06T14:58:00-04:00",
          "2024-06-06T14:59:00-04:00",
          "2024-06-06T15:00:00-04:00",
          "2024-06-06T15:01:00-04:00",
          "2024-06-06T15:02:00-04:00",
          "2024-06-06T15:03:00-04:00",
          "2024-06-06T15:04:00-04:00",
          "2024-06-06T15:05:00-04:00",
          "2024-06-06T15:06:00-04:00",
          "2024-06-06T15:07:00-04:00",
          "2024-06-06T15:08:00-04:00",
          "2024-06-06T15:09:00-04:00",
          "2024-06-06T15:10:00-04:00",
          "2024-06-06T15:11:00-04:00",
          "2024-06-06T15:12:00-04:00",
          "2024-06-06T15:13:00-04:00",
          "2024-06-06T15:14:00-04:00",
          "2024-06-06T15:15:00-04:00",
          "2024-06-06T15:16:00-04:00",
          "2024-06-06T15:17:00-04:00",
          "2024-06-06T15:18:00-04:00",
          "2024-06-06T15:19:00-04:00",
          "2024-06-06T15:20:00-04:00",
          "2024-06-06T15:21:00-04:00",
          "2024-06-06T15:22:00-04:00",
          "2024-06-06T15:23:00-04:00",
          "2024-06-06T15:24:00-04:00",
          "2024-06-06T15:25:00-04:00",
          "2024-06-06T15:26:00-04:00",
          "2024-06-06T15:27:00-04:00",
          "2024-06-06T15:28:00-04:00",
          "2024-06-06T15:29:00-04:00",
          "2024-06-06T15:30:00-04:00",
          "2024-06-06T15:31:00-04:00",
          "2024-06-06T15:32:00-04:00",
          "2024-06-06T15:33:00-04:00",
          "2024-06-06T15:34:00-04:00",
          "2024-06-06T15:35:00-04:00",
          "2024-06-06T15:36:00-04:00",
          "2024-06-06T15:37:00-04:00",
          "2024-06-06T15:38:00-04:00",
          "2024-06-06T15:39:00-04:00",
          "2024-06-06T15:40:00-04:00",
          "2024-06-06T15:41:00-04:00",
          "2024-06-06T15:42:00-04:00",
          "2024-06-06T15:43:00-04:00",
          "2024-06-06T15:44:00-04:00",
          "2024-06-06T15:45:00-04:00",
          "2024-06-06T15:46:00-04:00",
          "2024-06-06T15:47:00-04:00",
          "2024-06-06T15:48:00-04:00",
          "2024-06-06T15:49:00-04:00",
          "2024-06-06T15:50:00-04:00",
          "2024-06-06T15:51:00-04:00",
          "2024-06-06T15:52:00-04:00",
          "2024-06-06T15:53:00-04:00",
          "2024-06-06T15:54:00-04:00",
          "2024-06-06T15:55:00-04:00",
          "2024-06-06T15:56:00-04:00",
          "2024-06-06T15:57:00-04:00",
          "2024-06-06T15:58:00-04:00",
          "2024-06-06T15:59:00-04:00"
         ],
         "xaxis": "x",
         "y": [
          0,
          0,
          0,
          0,
          0,
          0,
          0,
          0,
          0,
          -0.008245727890368926,
          -0.05444920740021075,
          -0.11562293098634768,
          -0.13847738746011373,
          -0.1704128311980071,
          -0.1369493277974243,
          -0.12272327554831008,
          -0.1152483429084441,
          -0.11984298336193433,
          -0.12847791037177103,
          -0.020209501954383313,
          0.02209582222249651,
          0.08222796866195381,
          0.06512214513628578,
          0.04499509988380623,
          0.034798062829651144,
          0.03266148294483173,
          0.11236332945756544,
          0.06599808131770146,
          0.07162272457290442,
          0.0567714395339749,
          0.07136992239969686,
          0.11275501823786271,
          0.13084626792678478,
          0.11772136978055414,
          0.09029606215224817,
          0.09891809248023264,
          0.0711417585507661,
          0.07216607489888816,
          0.058228308022222564,
          0.013557730336827944,
          -0.039634189350948645,
          -0.014885678803807423,
          -0.01910650983376172,
          -0.039949980184672995,
          -0.0337044528306194,
          -0.019142513253285642,
          -0.01020437706236521,
          0.0400904320204063,
          0.10960509653486383,
          0.10498124749733506,
          0.10813074212853735,
          0.1385755028996698,
          0.14922762961870717,
          0.16592329550934437,
          0.18155272109672183,
          0.14118168502295703,
          0.06868341617698093,
          -0.0022076877538950157,
          -0.028099123637559842,
          -0.04977120579343364,
          -0.04766632902342849,
          -0.0771752511974455,
          -0.12054577463308647,
          -0.1504061913484236,
          -0.17242102915028568,
          -0.16581458171845043,
          -0.14037566640402588,
          -0.13374679517676213,
          -0.14400902779757985,
          -0.12518334104152018,
          -0.10277130479914831,
          -0.07612031333263758,
          -0.04147720180000647,
          -0.02304763767384088,
          -0.025302860569468066,
          -0.008338492603058967,
          -0.021281583745007993,
          -0.02934337836060763,
          -0.008942327919669424,
          -0.010486355083230592,
          -0.022772339032201216,
          -0.05607858473015881,
          -0.06708543364345587,
          -0.06426799511496029,
          -0.045610731711974495,
          -0.03347739119845983,
          -0.03532067685696916,
          -0.008791173795771101,
          0.001745150262451034,
          0.015594198716996743,
          0.027765776062864234,
          0.01344084139478241,
          0.02406680609104228,
          0.04387742577625886,
          0.06715568060971577,
          0.03639141205985652,
          0.025562629671298964,
          0.009815748103136457,
          -0.015275895651228666,
          -0.0074453864327210795,
          -0.015733751494508397,
          -0.02665832307715732,
          -0.04706642420961771,
          -0.03696099085286164,
          -0.005460087053904772,
          0.001678983426643299,
          0.023543250315810837,
          0.03216086326904133,
          0.019039590349592572,
          -0.00018635118408383278,
          -0.009086118251161679,
          0.01093119728963643,
          0.01661460708655227,
          0.021047868883215415,
          0.026499214428696405,
          -0.0007425798070812561,
          0.0033510229498574517,
          0.010661479470854829,
          0.028664804192686688,
          0.023675460927734093,
          0.009264105041467019,
          0.0002532059322106761,
          -0.005718400286014003,
          0.013155894146336777,
          0.01752545614735368,
          0.017708266595263922,
          0.005716661766456355,
          -0.011311465203704074,
          -0.017185338156934904,
          -0.020555232264769074,
          -0.024174712590024683,
          -0.02991449085263298,
          -0.030751067183871328,
          -0.03781908029316128,
          -0.050828402674937934,
          -0.044483723219855165,
          -0.034712530286725496,
          -0.02940140101037514,
          -0.02539106627651222,
          -0.031948155138479706,
          -0.037759384994757283,
          -0.03987381549160318,
          -0.0389314525208988,
          -0.05876318573126582,
          -0.053272475284614984,
          -0.0602225797471192,
          -0.0476794406976353,
          -0.04662148364329255,
          -0.03865639921335173,
          -0.037510026503923655,
          -0.03888459840035807,
          -0.03420254906515652,
          -0.03604375083176592,
          -0.028018298236617056,
          -0.021766923144724615,
          0.0007153268618651509,
          0.0019673516751765874,
          0.014139750649974303,
          0.018206427044049178,
          0.02191487670307879,
          0.026985994400973823,
          0.025514507117236462,
          0.03185073063951904,
          0.03318553598134599,
          0.04312062812678619,
          0.03687859798819204,
          0.035439064667258435,
          0.036535922515071206,
          0.04120263637332755,
          0.05404853133225629,
          0.06166259365298288,
          0.05132816341290436,
          0.04144149389702534,
          0.028244094387417817,
          0.04532262271862919,
          0.0354411036082638,
          0.02701598873662192,
          0.022898451717253465,
          0.005724806000330318,
          0.005338974956060838,
          0.013060000646675007,
          0.013337854647176073,
          -0.01100926950249459,
          -0.00929164791199355,
          -0.01688868888695083,
          -0.03476754098326751,
          -0.015232194967211399,
          -0.01135639914764397,
          -0.010417700392736151,
          -0.0012721507750654837,
          -0.00479637719575976,
          -0.013404599225282254,
          -0.0012562897371992676,
          0.011618877493617674,
          -0.004166077095675291,
          0.00024088747014161527,
          -0.00028039211071018144,
          -0.010060468186992466,
          -0.0057832705511202676,
          0.010371395602277289,
          -0.0006780298259627671,
          -0.007095726416650905,
          -0.00011268385372886769,
          0.005047157270468006,
          0.005414687564552878,
          0.009974553463223401,
          0.022201291052482475,
          0.008357846938736202,
          0.016954648550836282,
          0.03390012637262885,
          0.05786009456258512,
          0.05944098067396908,
          0.06300439714254935,
          0.07398370891826289,
          0.06501940556580621,
          0.07043055562149902,
          0.08467576545820066,
          0.0931100257867854,
          0.0854188696107201,
          0.08024024106322258,
          0.08343177585800277,
          0.05976987128718747,
          0.04723266427663475,
          0.029507754994227753,
          0.0023250073592180343,
          -0.015292865422310342,
          -0.02606738935472208,
          -0.03264818603798858,
          -0.058608286660813746,
          -0.06562907880524449,
          -0.08213833960178363,
          -0.09838925144219957,
          -0.10906421147780065,
          -0.12946953248788873,
          -0.1250772238085176,
          -0.12137475557503308,
          -0.09199577501746603,
          -0.08476368570831028,
          -0.07890587630853929,
          -0.06846516038228856,
          -0.04864919795917899,
          -0.03562545717369403,
          -0.020178383289248814,
          0.005783910179502527,
          0.006215772704280198,
          0.014678580064128255,
          0.023484256094462808,
          0.02112475955183868,
          0.012561430572958443,
          0.020132837032292628,
          0.014508275014804894,
          -0.0018577685713978553,
          -0.0009838561987578487,
          0.00015317722599661465,
          4.064644500090253e-05,
          -0.0033673482103893093,
          -0.0052168218438453096,
          -0.01240387228307327,
          -0.011964023606992669,
          0.0008267568921667134,
          0.005257659244989554,
          -0.001357081446911934,
          -0.004873064213199996,
          -0.0091881045797777,
          -0.012369359550291392,
          -0.012650843048191973,
          -0.01949136148789421,
          -0.030934534458253893,
          -0.039090034346884295,
          -0.03345444594717151,
          -0.03675555852643697,
          -0.03308476876588884,
          -0.01532586653061685,
          -0.02200620455533908,
          -0.035340301143747865,
          -0.03648956346984278,
          -0.030444696237225344,
          -0.03981833192224826,
          -0.04716865615989718,
          -0.06816574933981201,
          -0.11007397404890185,
          -0.1094015970656983,
          -0.10883440120198884,
          -0.10389590138962035,
          -0.10021063665698193,
          -0.08980554313001221,
          -0.0897579055737765,
          -0.08434608085514128,
          -0.04652386994919766,
          -0.023543173013848673,
          -0.00216440967844278,
          0.02013852754359391,
          0.051939409717221,
          0.07716608163522665,
          0.09843410280646481,
          0.12144103485195501,
          0.10323849554418985,
          0.10070033456869965,
          0.08246131500743559,
          0.06553916872798027,
          0.06893303973316733,
          0.05818193974741348,
          0.03301653230889201,
          0.016929211633197383,
          0.004482552671134954,
          0.0026897203321141205,
          0.0010300657103243793,
          -0.012394606198284919,
          -0.04482571360176735,
          -0.06149121122862766,
          -0.057696012491419424,
          -0.058369763368858685,
          -0.05548049422716872,
          -0.07085811180544965,
          -0.0656732970135181,
          -0.06633516003395812,
          -0.055271759824961464,
          -0.044471897993560106,
          -0.04888298746908504,
          -0.036501299997127035,
          -0.033984483758132455,
          -0.012916837505741796,
          -0.014640373331133105,
          -5.080104602939173e-05,
          0.019845957000711678,
          0.028293599207557918,
          0.03513677965986517,
          0.027176492334177738,
          0.023177527716171653,
          0.012100523651923822,
          0.013845766237409407,
          0.0064782817559603245,
          -0.005767488068443072,
          -0.005743873993793613,
          -0.015913884347583007,
          -0.026223472038651607,
          -0.03068514757140406,
          -0.024105361591580277,
          -0.02202124372533376,
          -0.018974972589944628,
          -0.015497340792336445,
          -0.01810573774241675,
          -0.021977396234206026,
          -0.021910741088106533,
          -0.026087999467989675,
          -0.023708080489171834,
          -0.027227814287101637,
          -0.026157861081344436,
          -0.01791650064848227,
          -0.010877688495895654,
          -0.0006155173093418398,
          -0.0011931389556707472,
          -0.012373319427382512,
          -0.004332114671285581,
          0.012183600717918353,
          0.015810271832236822,
          0.0314777916342166,
          0.03694759754358756,
          0.030771219026661356,
          0.02412366094208096,
          0.04278708802652886,
          0.045103464553903905,
          0.03612733918254207,
          0.040521906463027335,
          0.017184415388783236,
          0.0002191815977994338,
          -0.003042274616660734,
          0.006435914440316992,
          -0.006144697734015381,
          -0.023309010523405505,
          -0.025525459614328838,
          -0.0482405735681084,
          -0.06263818032419977,
          -0.08017522988129144,
          -0.09160110873082772,
          -0.10222906322090353,
          -0.0896404851615955,
          -0.08751858725113948,
          -0.08469885692508683,
          -0.06417342793392322,
          -0.042926547874117205,
          -0.04875309147661255,
          -0.08530302984081573,
          -0.12386256629406489,
          -0.15786949604520828,
          -0.16194717578972018,
          -0.16266918398531516,
          -0.18495439632835087,
          -0.19739354799281728,
          -0.2196699111993894
         ],
         "yaxis": "y"
        }
       ],
       "layout": {
        "legend": {
         "tracegroupgap": 0
        },
        "template": {
         "data": {
          "bar": [
           {
            "error_x": {
             "color": "#2a3f5f"
            },
            "error_y": {
             "color": "#2a3f5f"
            },
            "marker": {
             "line": {
              "color": "#E5ECF6",
              "width": 0.5
             },
             "pattern": {
              "fillmode": "overlay",
              "size": 10,
              "solidity": 0.2
             }
            },
            "type": "bar"
           }
          ],
          "barpolar": [
           {
            "marker": {
             "line": {
              "color": "#E5ECF6",
              "width": 0.5
             },
             "pattern": {
              "fillmode": "overlay",
              "size": 10,
              "solidity": 0.2
             }
            },
            "type": "barpolar"
           }
          ],
          "carpet": [
           {
            "aaxis": {
             "endlinecolor": "#2a3f5f",
             "gridcolor": "white",
             "linecolor": "white",
             "minorgridcolor": "white",
             "startlinecolor": "#2a3f5f"
            },
            "baxis": {
             "endlinecolor": "#2a3f5f",
             "gridcolor": "white",
             "linecolor": "white",
             "minorgridcolor": "white",
             "startlinecolor": "#2a3f5f"
            },
            "type": "carpet"
           }
          ],
          "choropleth": [
           {
            "colorbar": {
             "outlinewidth": 0,
             "ticks": ""
            },
            "type": "choropleth"
           }
          ],
          "contour": [
           {
            "colorbar": {
             "outlinewidth": 0,
             "ticks": ""
            },
            "colorscale": [
             [
              0,
              "#0d0887"
             ],
             [
              0.1111111111111111,
              "#46039f"
             ],
             [
              0.2222222222222222,
              "#7201a8"
             ],
             [
              0.3333333333333333,
              "#9c179e"
             ],
             [
              0.4444444444444444,
              "#bd3786"
             ],
             [
              0.5555555555555556,
              "#d8576b"
             ],
             [
              0.6666666666666666,
              "#ed7953"
             ],
             [
              0.7777777777777778,
              "#fb9f3a"
             ],
             [
              0.8888888888888888,
              "#fdca26"
             ],
             [
              1,
              "#f0f921"
             ]
            ],
            "type": "contour"
           }
          ],
          "contourcarpet": [
           {
            "colorbar": {
             "outlinewidth": 0,
             "ticks": ""
            },
            "type": "contourcarpet"
           }
          ],
          "heatmap": [
           {
            "colorbar": {
             "outlinewidth": 0,
             "ticks": ""
            },
            "colorscale": [
             [
              0,
              "#0d0887"
             ],
             [
              0.1111111111111111,
              "#46039f"
             ],
             [
              0.2222222222222222,
              "#7201a8"
             ],
             [
              0.3333333333333333,
              "#9c179e"
             ],
             [
              0.4444444444444444,
              "#bd3786"
             ],
             [
              0.5555555555555556,
              "#d8576b"
             ],
             [
              0.6666666666666666,
              "#ed7953"
             ],
             [
              0.7777777777777778,
              "#fb9f3a"
             ],
             [
              0.8888888888888888,
              "#fdca26"
             ],
             [
              1,
              "#f0f921"
             ]
            ],
            "type": "heatmap"
           }
          ],
          "heatmapgl": [
           {
            "colorbar": {
             "outlinewidth": 0,
             "ticks": ""
            },
            "colorscale": [
             [
              0,
              "#0d0887"
             ],
             [
              0.1111111111111111,
              "#46039f"
             ],
             [
              0.2222222222222222,
              "#7201a8"
             ],
             [
              0.3333333333333333,
              "#9c179e"
             ],
             [
              0.4444444444444444,
              "#bd3786"
             ],
             [
              0.5555555555555556,
              "#d8576b"
             ],
             [
              0.6666666666666666,
              "#ed7953"
             ],
             [
              0.7777777777777778,
              "#fb9f3a"
             ],
             [
              0.8888888888888888,
              "#fdca26"
             ],
             [
              1,
              "#f0f921"
             ]
            ],
            "type": "heatmapgl"
           }
          ],
          "histogram": [
           {
            "marker": {
             "pattern": {
              "fillmode": "overlay",
              "size": 10,
              "solidity": 0.2
             }
            },
            "type": "histogram"
           }
          ],
          "histogram2d": [
           {
            "colorbar": {
             "outlinewidth": 0,
             "ticks": ""
            },
            "colorscale": [
             [
              0,
              "#0d0887"
             ],
             [
              0.1111111111111111,
              "#46039f"
             ],
             [
              0.2222222222222222,
              "#7201a8"
             ],
             [
              0.3333333333333333,
              "#9c179e"
             ],
             [
              0.4444444444444444,
              "#bd3786"
             ],
             [
              0.5555555555555556,
              "#d8576b"
             ],
             [
              0.6666666666666666,
              "#ed7953"
             ],
             [
              0.7777777777777778,
              "#fb9f3a"
             ],
             [
              0.8888888888888888,
              "#fdca26"
             ],
             [
              1,
              "#f0f921"
             ]
            ],
            "type": "histogram2d"
           }
          ],
          "histogram2dcontour": [
           {
            "colorbar": {
             "outlinewidth": 0,
             "ticks": ""
            },
            "colorscale": [
             [
              0,
              "#0d0887"
             ],
             [
              0.1111111111111111,
              "#46039f"
             ],
             [
              0.2222222222222222,
              "#7201a8"
             ],
             [
              0.3333333333333333,
              "#9c179e"
             ],
             [
              0.4444444444444444,
              "#bd3786"
             ],
             [
              0.5555555555555556,
              "#d8576b"
             ],
             [
              0.6666666666666666,
              "#ed7953"
             ],
             [
              0.7777777777777778,
              "#fb9f3a"
             ],
             [
              0.8888888888888888,
              "#fdca26"
             ],
             [
              1,
              "#f0f921"
             ]
            ],
            "type": "histogram2dcontour"
           }
          ],
          "mesh3d": [
           {
            "colorbar": {
             "outlinewidth": 0,
             "ticks": ""
            },
            "type": "mesh3d"
           }
          ],
          "parcoords": [
           {
            "line": {
             "colorbar": {
              "outlinewidth": 0,
              "ticks": ""
             }
            },
            "type": "parcoords"
           }
          ],
          "pie": [
           {
            "automargin": true,
            "type": "pie"
           }
          ],
          "scatter": [
           {
            "fillpattern": {
             "fillmode": "overlay",
             "size": 10,
             "solidity": 0.2
            },
            "type": "scatter"
           }
          ],
          "scatter3d": [
           {
            "line": {
             "colorbar": {
              "outlinewidth": 0,
              "ticks": ""
             }
            },
            "marker": {
             "colorbar": {
              "outlinewidth": 0,
              "ticks": ""
             }
            },
            "type": "scatter3d"
           }
          ],
          "scattercarpet": [
           {
            "marker": {
             "colorbar": {
              "outlinewidth": 0,
              "ticks": ""
             }
            },
            "type": "scattercarpet"
           }
          ],
          "scattergeo": [
           {
            "marker": {
             "colorbar": {
              "outlinewidth": 0,
              "ticks": ""
             }
            },
            "type": "scattergeo"
           }
          ],
          "scattergl": [
           {
            "marker": {
             "colorbar": {
              "outlinewidth": 0,
              "ticks": ""
             }
            },
            "type": "scattergl"
           }
          ],
          "scattermapbox": [
           {
            "marker": {
             "colorbar": {
              "outlinewidth": 0,
              "ticks": ""
             }
            },
            "type": "scattermapbox"
           }
          ],
          "scatterpolar": [
           {
            "marker": {
             "colorbar": {
              "outlinewidth": 0,
              "ticks": ""
             }
            },
            "type": "scatterpolar"
           }
          ],
          "scatterpolargl": [
           {
            "marker": {
             "colorbar": {
              "outlinewidth": 0,
              "ticks": ""
             }
            },
            "type": "scatterpolargl"
           }
          ],
          "scatterternary": [
           {
            "marker": {
             "colorbar": {
              "outlinewidth": 0,
              "ticks": ""
             }
            },
            "type": "scatterternary"
           }
          ],
          "surface": [
           {
            "colorbar": {
             "outlinewidth": 0,
             "ticks": ""
            },
            "colorscale": [
             [
              0,
              "#0d0887"
             ],
             [
              0.1111111111111111,
              "#46039f"
             ],
             [
              0.2222222222222222,
              "#7201a8"
             ],
             [
              0.3333333333333333,
              "#9c179e"
             ],
             [
              0.4444444444444444,
              "#bd3786"
             ],
             [
              0.5555555555555556,
              "#d8576b"
             ],
             [
              0.6666666666666666,
              "#ed7953"
             ],
             [
              0.7777777777777778,
              "#fb9f3a"
             ],
             [
              0.8888888888888888,
              "#fdca26"
             ],
             [
              1,
              "#f0f921"
             ]
            ],
            "type": "surface"
           }
          ],
          "table": [
           {
            "cells": {
             "fill": {
              "color": "#EBF0F8"
             },
             "line": {
              "color": "white"
             }
            },
            "header": {
             "fill": {
              "color": "#C8D4E3"
             },
             "line": {
              "color": "white"
             }
            },
            "type": "table"
           }
          ]
         },
         "layout": {
          "annotationdefaults": {
           "arrowcolor": "#2a3f5f",
           "arrowhead": 0,
           "arrowwidth": 1
          },
          "autotypenumbers": "strict",
          "coloraxis": {
           "colorbar": {
            "outlinewidth": 0,
            "ticks": ""
           }
          },
          "colorscale": {
           "diverging": [
            [
             0,
             "#8e0152"
            ],
            [
             0.1,
             "#c51b7d"
            ],
            [
             0.2,
             "#de77ae"
            ],
            [
             0.3,
             "#f1b6da"
            ],
            [
             0.4,
             "#fde0ef"
            ],
            [
             0.5,
             "#f7f7f7"
            ],
            [
             0.6,
             "#e6f5d0"
            ],
            [
             0.7,
             "#b8e186"
            ],
            [
             0.8,
             "#7fbc41"
            ],
            [
             0.9,
             "#4d9221"
            ],
            [
             1,
             "#276419"
            ]
           ],
           "sequential": [
            [
             0,
             "#0d0887"
            ],
            [
             0.1111111111111111,
             "#46039f"
            ],
            [
             0.2222222222222222,
             "#7201a8"
            ],
            [
             0.3333333333333333,
             "#9c179e"
            ],
            [
             0.4444444444444444,
             "#bd3786"
            ],
            [
             0.5555555555555556,
             "#d8576b"
            ],
            [
             0.6666666666666666,
             "#ed7953"
            ],
            [
             0.7777777777777778,
             "#fb9f3a"
            ],
            [
             0.8888888888888888,
             "#fdca26"
            ],
            [
             1,
             "#f0f921"
            ]
           ],
           "sequentialminus": [
            [
             0,
             "#0d0887"
            ],
            [
             0.1111111111111111,
             "#46039f"
            ],
            [
             0.2222222222222222,
             "#7201a8"
            ],
            [
             0.3333333333333333,
             "#9c179e"
            ],
            [
             0.4444444444444444,
             "#bd3786"
            ],
            [
             0.5555555555555556,
             "#d8576b"
            ],
            [
             0.6666666666666666,
             "#ed7953"
            ],
            [
             0.7777777777777778,
             "#fb9f3a"
            ],
            [
             0.8888888888888888,
             "#fdca26"
            ],
            [
             1,
             "#f0f921"
            ]
           ]
          },
          "colorway": [
           "#636efa",
           "#EF553B",
           "#00cc96",
           "#ab63fa",
           "#FFA15A",
           "#19d3f3",
           "#FF6692",
           "#B6E880",
           "#FF97FF",
           "#FECB52"
          ],
          "font": {
           "color": "#2a3f5f"
          },
          "geo": {
           "bgcolor": "white",
           "lakecolor": "white",
           "landcolor": "#E5ECF6",
           "showlakes": true,
           "showland": true,
           "subunitcolor": "white"
          },
          "hoverlabel": {
           "align": "left"
          },
          "hovermode": "closest",
          "mapbox": {
           "style": "light"
          },
          "paper_bgcolor": "white",
          "plot_bgcolor": "#E5ECF6",
          "polar": {
           "angularaxis": {
            "gridcolor": "white",
            "linecolor": "white",
            "ticks": ""
           },
           "bgcolor": "#E5ECF6",
           "radialaxis": {
            "gridcolor": "white",
            "linecolor": "white",
            "ticks": ""
           }
          },
          "scene": {
           "xaxis": {
            "backgroundcolor": "#E5ECF6",
            "gridcolor": "white",
            "gridwidth": 2,
            "linecolor": "white",
            "showbackground": true,
            "ticks": "",
            "zerolinecolor": "white"
           },
           "yaxis": {
            "backgroundcolor": "#E5ECF6",
            "gridcolor": "white",
            "gridwidth": 2,
            "linecolor": "white",
            "showbackground": true,
            "ticks": "",
            "zerolinecolor": "white"
           },
           "zaxis": {
            "backgroundcolor": "#E5ECF6",
            "gridcolor": "white",
            "gridwidth": 2,
            "linecolor": "white",
            "showbackground": true,
            "ticks": "",
            "zerolinecolor": "white"
           }
          },
          "shapedefaults": {
           "line": {
            "color": "#2a3f5f"
           }
          },
          "ternary": {
           "aaxis": {
            "gridcolor": "white",
            "linecolor": "white",
            "ticks": ""
           },
           "baxis": {
            "gridcolor": "white",
            "linecolor": "white",
            "ticks": ""
           },
           "bgcolor": "#E5ECF6",
           "caxis": {
            "gridcolor": "white",
            "linecolor": "white",
            "ticks": ""
           }
          },
          "title": {
           "x": 0.05
          },
          "xaxis": {
           "automargin": true,
           "gridcolor": "white",
           "linecolor": "white",
           "ticks": "",
           "title": {
            "standoff": 15
           },
           "zerolinecolor": "white",
           "zerolinewidth": 2
          },
          "yaxis": {
           "automargin": true,
           "gridcolor": "white",
           "linecolor": "white",
           "ticks": "",
           "title": {
            "standoff": 15
           },
           "zerolinecolor": "white",
           "zerolinewidth": 2
          }
         }
        },
        "title": {
         "text": "AAPL MACD"
        },
        "xaxis": {
         "anchor": "y",
         "domain": [
          0,
          1
         ],
         "title": {
          "text": "Datetime"
         }
        },
        "yaxis": {
         "anchor": "x",
         "domain": [
          0,
          1
         ],
         "title": {
          "text": "MACD_8_16"
         }
        }
       }
      },
      "text/html": [
       "<div>                            <div id=\"e99c2cee-107d-4f3b-9047-67ec3f66f7d6\" class=\"plotly-graph-div\" style=\"height:525px; width:100%;\"></div>            <script type=\"text/javascript\">                require([\"plotly\"], function(Plotly) {                    window.PLOTLYENV=window.PLOTLYENV || {};                                    if (document.getElementById(\"e99c2cee-107d-4f3b-9047-67ec3f66f7d6\")) {                    Plotly.newPlot(                        \"e99c2cee-107d-4f3b-9047-67ec3f66f7d6\",                        [{\"hovertemplate\":\"Datetime=%{x}<br>MACD_8_16=%{y}<extra></extra>\",\"legendgroup\":\"\",\"line\":{\"color\":\"#636efa\",\"dash\":\"solid\"},\"marker\":{\"symbol\":\"circle\"},\"mode\":\"lines\",\"name\":\"\",\"orientation\":\"v\",\"showlegend\":false,\"x\":[\"2024-06-06T09:30:00-04:00\",\"2024-06-06T09:31:00-04:00\",\"2024-06-06T09:32:00-04:00\",\"2024-06-06T09:33:00-04:00\",\"2024-06-06T09:34:00-04:00\",\"2024-06-06T09:35:00-04:00\",\"2024-06-06T09:36:00-04:00\",\"2024-06-06T09:37:00-04:00\",\"2024-06-06T09:38:00-04:00\",\"2024-06-06T09:39:00-04:00\",\"2024-06-06T09:40:00-04:00\",\"2024-06-06T09:41:00-04:00\",\"2024-06-06T09:42:00-04:00\",\"2024-06-06T09:43:00-04:00\",\"2024-06-06T09:44:00-04:00\",\"2024-06-06T09:45:00-04:00\",\"2024-06-06T09:46:00-04:00\",\"2024-06-06T09:47:00-04:00\",\"2024-06-06T09:48:00-04:00\",\"2024-06-06T09:49:00-04:00\",\"2024-06-06T09:50:00-04:00\",\"2024-06-06T09:51:00-04:00\",\"2024-06-06T09:52:00-04:00\",\"2024-06-06T09:53:00-04:00\",\"2024-06-06T09:54:00-04:00\",\"2024-06-06T09:55:00-04:00\",\"2024-06-06T09:56:00-04:00\",\"2024-06-06T09:57:00-04:00\",\"2024-06-06T09:58:00-04:00\",\"2024-06-06T09:59:00-04:00\",\"2024-06-06T10:00:00-04:00\",\"2024-06-06T10:01:00-04:00\",\"2024-06-06T10:02:00-04:00\",\"2024-06-06T10:03:00-04:00\",\"2024-06-06T10:04:00-04:00\",\"2024-06-06T10:05:00-04:00\",\"2024-06-06T10:06:00-04:00\",\"2024-06-06T10:07:00-04:00\",\"2024-06-06T10:08:00-04:00\",\"2024-06-06T10:09:00-04:00\",\"2024-06-06T10:10:00-04:00\",\"2024-06-06T10:11:00-04:00\",\"2024-06-06T10:12:00-04:00\",\"2024-06-06T10:13:00-04:00\",\"2024-06-06T10:14:00-04:00\",\"2024-06-06T10:15:00-04:00\",\"2024-06-06T10:16:00-04:00\",\"2024-06-06T10:17:00-04:00\",\"2024-06-06T10:18:00-04:00\",\"2024-06-06T10:19:00-04:00\",\"2024-06-06T10:20:00-04:00\",\"2024-06-06T10:21:00-04:00\",\"2024-06-06T10:22:00-04:00\",\"2024-06-06T10:23:00-04:00\",\"2024-06-06T10:24:00-04:00\",\"2024-06-06T10:25:00-04:00\",\"2024-06-06T10:26:00-04:00\",\"2024-06-06T10:27:00-04:00\",\"2024-06-06T10:28:00-04:00\",\"2024-06-06T10:29:00-04:00\",\"2024-06-06T10:30:00-04:00\",\"2024-06-06T10:31:00-04:00\",\"2024-06-06T10:32:00-04:00\",\"2024-06-06T10:33:00-04:00\",\"2024-06-06T10:34:00-04:00\",\"2024-06-06T10:35:00-04:00\",\"2024-06-06T10:36:00-04:00\",\"2024-06-06T10:37:00-04:00\",\"2024-06-06T10:38:00-04:00\",\"2024-06-06T10:39:00-04:00\",\"2024-06-06T10:40:00-04:00\",\"2024-06-06T10:41:00-04:00\",\"2024-06-06T10:42:00-04:00\",\"2024-06-06T10:43:00-04:00\",\"2024-06-06T10:44:00-04:00\",\"2024-06-06T10:45:00-04:00\",\"2024-06-06T10:46:00-04:00\",\"2024-06-06T10:47:00-04:00\",\"2024-06-06T10:48:00-04:00\",\"2024-06-06T10:49:00-04:00\",\"2024-06-06T10:50:00-04:00\",\"2024-06-06T10:51:00-04:00\",\"2024-06-06T10:52:00-04:00\",\"2024-06-06T10:53:00-04:00\",\"2024-06-06T10:54:00-04:00\",\"2024-06-06T10:55:00-04:00\",\"2024-06-06T10:56:00-04:00\",\"2024-06-06T10:57:00-04:00\",\"2024-06-06T10:58:00-04:00\",\"2024-06-06T10:59:00-04:00\",\"2024-06-06T11:00:00-04:00\",\"2024-06-06T11:01:00-04:00\",\"2024-06-06T11:02:00-04:00\",\"2024-06-06T11:03:00-04:00\",\"2024-06-06T11:04:00-04:00\",\"2024-06-06T11:05:00-04:00\",\"2024-06-06T11:06:00-04:00\",\"2024-06-06T11:07:00-04:00\",\"2024-06-06T11:08:00-04:00\",\"2024-06-06T11:09:00-04:00\",\"2024-06-06T11:10:00-04:00\",\"2024-06-06T11:11:00-04:00\",\"2024-06-06T11:12:00-04:00\",\"2024-06-06T11:13:00-04:00\",\"2024-06-06T11:14:00-04:00\",\"2024-06-06T11:15:00-04:00\",\"2024-06-06T11:16:00-04:00\",\"2024-06-06T11:17:00-04:00\",\"2024-06-06T11:18:00-04:00\",\"2024-06-06T11:19:00-04:00\",\"2024-06-06T11:20:00-04:00\",\"2024-06-06T11:21:00-04:00\",\"2024-06-06T11:22:00-04:00\",\"2024-06-06T11:23:00-04:00\",\"2024-06-06T11:24:00-04:00\",\"2024-06-06T11:25:00-04:00\",\"2024-06-06T11:26:00-04:00\",\"2024-06-06T11:27:00-04:00\",\"2024-06-06T11:28:00-04:00\",\"2024-06-06T11:29:00-04:00\",\"2024-06-06T11:30:00-04:00\",\"2024-06-06T11:31:00-04:00\",\"2024-06-06T11:32:00-04:00\",\"2024-06-06T11:33:00-04:00\",\"2024-06-06T11:34:00-04:00\",\"2024-06-06T11:35:00-04:00\",\"2024-06-06T11:36:00-04:00\",\"2024-06-06T11:37:00-04:00\",\"2024-06-06T11:38:00-04:00\",\"2024-06-06T11:39:00-04:00\",\"2024-06-06T11:40:00-04:00\",\"2024-06-06T11:41:00-04:00\",\"2024-06-06T11:42:00-04:00\",\"2024-06-06T11:43:00-04:00\",\"2024-06-06T11:44:00-04:00\",\"2024-06-06T11:45:00-04:00\",\"2024-06-06T11:46:00-04:00\",\"2024-06-06T11:47:00-04:00\",\"2024-06-06T11:48:00-04:00\",\"2024-06-06T11:49:00-04:00\",\"2024-06-06T11:50:00-04:00\",\"2024-06-06T11:51:00-04:00\",\"2024-06-06T11:52:00-04:00\",\"2024-06-06T11:53:00-04:00\",\"2024-06-06T11:54:00-04:00\",\"2024-06-06T11:55:00-04:00\",\"2024-06-06T11:56:00-04:00\",\"2024-06-06T11:57:00-04:00\",\"2024-06-06T11:58:00-04:00\",\"2024-06-06T11:59:00-04:00\",\"2024-06-06T12:00:00-04:00\",\"2024-06-06T12:01:00-04:00\",\"2024-06-06T12:02:00-04:00\",\"2024-06-06T12:03:00-04:00\",\"2024-06-06T12:04:00-04:00\",\"2024-06-06T12:05:00-04:00\",\"2024-06-06T12:06:00-04:00\",\"2024-06-06T12:07:00-04:00\",\"2024-06-06T12:08:00-04:00\",\"2024-06-06T12:09:00-04:00\",\"2024-06-06T12:10:00-04:00\",\"2024-06-06T12:11:00-04:00\",\"2024-06-06T12:12:00-04:00\",\"2024-06-06T12:13:00-04:00\",\"2024-06-06T12:14:00-04:00\",\"2024-06-06T12:15:00-04:00\",\"2024-06-06T12:16:00-04:00\",\"2024-06-06T12:17:00-04:00\",\"2024-06-06T12:18:00-04:00\",\"2024-06-06T12:19:00-04:00\",\"2024-06-06T12:20:00-04:00\",\"2024-06-06T12:21:00-04:00\",\"2024-06-06T12:22:00-04:00\",\"2024-06-06T12:23:00-04:00\",\"2024-06-06T12:24:00-04:00\",\"2024-06-06T12:25:00-04:00\",\"2024-06-06T12:26:00-04:00\",\"2024-06-06T12:27:00-04:00\",\"2024-06-06T12:28:00-04:00\",\"2024-06-06T12:29:00-04:00\",\"2024-06-06T12:30:00-04:00\",\"2024-06-06T12:31:00-04:00\",\"2024-06-06T12:32:00-04:00\",\"2024-06-06T12:33:00-04:00\",\"2024-06-06T12:34:00-04:00\",\"2024-06-06T12:35:00-04:00\",\"2024-06-06T12:36:00-04:00\",\"2024-06-06T12:37:00-04:00\",\"2024-06-06T12:38:00-04:00\",\"2024-06-06T12:39:00-04:00\",\"2024-06-06T12:40:00-04:00\",\"2024-06-06T12:41:00-04:00\",\"2024-06-06T12:42:00-04:00\",\"2024-06-06T12:43:00-04:00\",\"2024-06-06T12:44:00-04:00\",\"2024-06-06T12:45:00-04:00\",\"2024-06-06T12:46:00-04:00\",\"2024-06-06T12:47:00-04:00\",\"2024-06-06T12:48:00-04:00\",\"2024-06-06T12:49:00-04:00\",\"2024-06-06T12:50:00-04:00\",\"2024-06-06T12:51:00-04:00\",\"2024-06-06T12:52:00-04:00\",\"2024-06-06T12:53:00-04:00\",\"2024-06-06T12:54:00-04:00\",\"2024-06-06T12:55:00-04:00\",\"2024-06-06T12:56:00-04:00\",\"2024-06-06T12:57:00-04:00\",\"2024-06-06T12:58:00-04:00\",\"2024-06-06T12:59:00-04:00\",\"2024-06-06T13:00:00-04:00\",\"2024-06-06T13:01:00-04:00\",\"2024-06-06T13:02:00-04:00\",\"2024-06-06T13:03:00-04:00\",\"2024-06-06T13:04:00-04:00\",\"2024-06-06T13:05:00-04:00\",\"2024-06-06T13:06:00-04:00\",\"2024-06-06T13:07:00-04:00\",\"2024-06-06T13:08:00-04:00\",\"2024-06-06T13:09:00-04:00\",\"2024-06-06T13:10:00-04:00\",\"2024-06-06T13:11:00-04:00\",\"2024-06-06T13:12:00-04:00\",\"2024-06-06T13:13:00-04:00\",\"2024-06-06T13:14:00-04:00\",\"2024-06-06T13:15:00-04:00\",\"2024-06-06T13:16:00-04:00\",\"2024-06-06T13:17:00-04:00\",\"2024-06-06T13:18:00-04:00\",\"2024-06-06T13:19:00-04:00\",\"2024-06-06T13:20:00-04:00\",\"2024-06-06T13:21:00-04:00\",\"2024-06-06T13:22:00-04:00\",\"2024-06-06T13:23:00-04:00\",\"2024-06-06T13:24:00-04:00\",\"2024-06-06T13:25:00-04:00\",\"2024-06-06T13:26:00-04:00\",\"2024-06-06T13:27:00-04:00\",\"2024-06-06T13:28:00-04:00\",\"2024-06-06T13:29:00-04:00\",\"2024-06-06T13:30:00-04:00\",\"2024-06-06T13:31:00-04:00\",\"2024-06-06T13:32:00-04:00\",\"2024-06-06T13:33:00-04:00\",\"2024-06-06T13:34:00-04:00\",\"2024-06-06T13:35:00-04:00\",\"2024-06-06T13:36:00-04:00\",\"2024-06-06T13:37:00-04:00\",\"2024-06-06T13:38:00-04:00\",\"2024-06-06T13:39:00-04:00\",\"2024-06-06T13:40:00-04:00\",\"2024-06-06T13:41:00-04:00\",\"2024-06-06T13:42:00-04:00\",\"2024-06-06T13:43:00-04:00\",\"2024-06-06T13:44:00-04:00\",\"2024-06-06T13:45:00-04:00\",\"2024-06-06T13:46:00-04:00\",\"2024-06-06T13:47:00-04:00\",\"2024-06-06T13:48:00-04:00\",\"2024-06-06T13:49:00-04:00\",\"2024-06-06T13:50:00-04:00\",\"2024-06-06T13:51:00-04:00\",\"2024-06-06T13:52:00-04:00\",\"2024-06-06T13:53:00-04:00\",\"2024-06-06T13:54:00-04:00\",\"2024-06-06T13:55:00-04:00\",\"2024-06-06T13:56:00-04:00\",\"2024-06-06T13:57:00-04:00\",\"2024-06-06T13:58:00-04:00\",\"2024-06-06T13:59:00-04:00\",\"2024-06-06T14:00:00-04:00\",\"2024-06-06T14:01:00-04:00\",\"2024-06-06T14:02:00-04:00\",\"2024-06-06T14:03:00-04:00\",\"2024-06-06T14:04:00-04:00\",\"2024-06-06T14:05:00-04:00\",\"2024-06-06T14:06:00-04:00\",\"2024-06-06T14:07:00-04:00\",\"2024-06-06T14:08:00-04:00\",\"2024-06-06T14:09:00-04:00\",\"2024-06-06T14:10:00-04:00\",\"2024-06-06T14:11:00-04:00\",\"2024-06-06T14:12:00-04:00\",\"2024-06-06T14:13:00-04:00\",\"2024-06-06T14:14:00-04:00\",\"2024-06-06T14:15:00-04:00\",\"2024-06-06T14:16:00-04:00\",\"2024-06-06T14:17:00-04:00\",\"2024-06-06T14:18:00-04:00\",\"2024-06-06T14:19:00-04:00\",\"2024-06-06T14:20:00-04:00\",\"2024-06-06T14:21:00-04:00\",\"2024-06-06T14:22:00-04:00\",\"2024-06-06T14:23:00-04:00\",\"2024-06-06T14:24:00-04:00\",\"2024-06-06T14:25:00-04:00\",\"2024-06-06T14:26:00-04:00\",\"2024-06-06T14:27:00-04:00\",\"2024-06-06T14:28:00-04:00\",\"2024-06-06T14:29:00-04:00\",\"2024-06-06T14:30:00-04:00\",\"2024-06-06T14:31:00-04:00\",\"2024-06-06T14:32:00-04:00\",\"2024-06-06T14:33:00-04:00\",\"2024-06-06T14:34:00-04:00\",\"2024-06-06T14:35:00-04:00\",\"2024-06-06T14:36:00-04:00\",\"2024-06-06T14:37:00-04:00\",\"2024-06-06T14:38:00-04:00\",\"2024-06-06T14:39:00-04:00\",\"2024-06-06T14:40:00-04:00\",\"2024-06-06T14:41:00-04:00\",\"2024-06-06T14:42:00-04:00\",\"2024-06-06T14:43:00-04:00\",\"2024-06-06T14:44:00-04:00\",\"2024-06-06T14:45:00-04:00\",\"2024-06-06T14:46:00-04:00\",\"2024-06-06T14:47:00-04:00\",\"2024-06-06T14:48:00-04:00\",\"2024-06-06T14:49:00-04:00\",\"2024-06-06T14:50:00-04:00\",\"2024-06-06T14:51:00-04:00\",\"2024-06-06T14:52:00-04:00\",\"2024-06-06T14:53:00-04:00\",\"2024-06-06T14:54:00-04:00\",\"2024-06-06T14:55:00-04:00\",\"2024-06-06T14:56:00-04:00\",\"2024-06-06T14:57:00-04:00\",\"2024-06-06T14:58:00-04:00\",\"2024-06-06T14:59:00-04:00\",\"2024-06-06T15:00:00-04:00\",\"2024-06-06T15:01:00-04:00\",\"2024-06-06T15:02:00-04:00\",\"2024-06-06T15:03:00-04:00\",\"2024-06-06T15:04:00-04:00\",\"2024-06-06T15:05:00-04:00\",\"2024-06-06T15:06:00-04:00\",\"2024-06-06T15:07:00-04:00\",\"2024-06-06T15:08:00-04:00\",\"2024-06-06T15:09:00-04:00\",\"2024-06-06T15:10:00-04:00\",\"2024-06-06T15:11:00-04:00\",\"2024-06-06T15:12:00-04:00\",\"2024-06-06T15:13:00-04:00\",\"2024-06-06T15:14:00-04:00\",\"2024-06-06T15:15:00-04:00\",\"2024-06-06T15:16:00-04:00\",\"2024-06-06T15:17:00-04:00\",\"2024-06-06T15:18:00-04:00\",\"2024-06-06T15:19:00-04:00\",\"2024-06-06T15:20:00-04:00\",\"2024-06-06T15:21:00-04:00\",\"2024-06-06T15:22:00-04:00\",\"2024-06-06T15:23:00-04:00\",\"2024-06-06T15:24:00-04:00\",\"2024-06-06T15:25:00-04:00\",\"2024-06-06T15:26:00-04:00\",\"2024-06-06T15:27:00-04:00\",\"2024-06-06T15:28:00-04:00\",\"2024-06-06T15:29:00-04:00\",\"2024-06-06T15:30:00-04:00\",\"2024-06-06T15:31:00-04:00\",\"2024-06-06T15:32:00-04:00\",\"2024-06-06T15:33:00-04:00\",\"2024-06-06T15:34:00-04:00\",\"2024-06-06T15:35:00-04:00\",\"2024-06-06T15:36:00-04:00\",\"2024-06-06T15:37:00-04:00\",\"2024-06-06T15:38:00-04:00\",\"2024-06-06T15:39:00-04:00\",\"2024-06-06T15:40:00-04:00\",\"2024-06-06T15:41:00-04:00\",\"2024-06-06T15:42:00-04:00\",\"2024-06-06T15:43:00-04:00\",\"2024-06-06T15:44:00-04:00\",\"2024-06-06T15:45:00-04:00\",\"2024-06-06T15:46:00-04:00\",\"2024-06-06T15:47:00-04:00\",\"2024-06-06T15:48:00-04:00\",\"2024-06-06T15:49:00-04:00\",\"2024-06-06T15:50:00-04:00\",\"2024-06-06T15:51:00-04:00\",\"2024-06-06T15:52:00-04:00\",\"2024-06-06T15:53:00-04:00\",\"2024-06-06T15:54:00-04:00\",\"2024-06-06T15:55:00-04:00\",\"2024-06-06T15:56:00-04:00\",\"2024-06-06T15:57:00-04:00\",\"2024-06-06T15:58:00-04:00\",\"2024-06-06T15:59:00-04:00\"],\"xaxis\":\"x\",\"y\":[0.0,0.0,0.0,0.0,0.0,0.0,0.0,0.0,0.0,-0.008245727890368926,-0.05444920740021075,-0.11562293098634768,-0.13847738746011373,-0.1704128311980071,-0.1369493277974243,-0.12272327554831008,-0.1152483429084441,-0.11984298336193433,-0.12847791037177103,-0.020209501954383313,0.02209582222249651,0.08222796866195381,0.06512214513628578,0.04499509988380623,0.034798062829651144,0.03266148294483173,0.11236332945756544,0.06599808131770146,0.07162272457290442,0.0567714395339749,0.07136992239969686,0.11275501823786271,0.13084626792678478,0.11772136978055414,0.09029606215224817,0.09891809248023264,0.0711417585507661,0.07216607489888816,0.058228308022222564,0.013557730336827944,-0.039634189350948645,-0.014885678803807423,-0.01910650983376172,-0.039949980184672995,-0.0337044528306194,-0.019142513253285642,-0.01020437706236521,0.0400904320204063,0.10960509653486383,0.10498124749733506,0.10813074212853735,0.1385755028996698,0.14922762961870717,0.16592329550934437,0.18155272109672183,0.14118168502295703,0.06868341617698093,-0.0022076877538950157,-0.028099123637559842,-0.04977120579343364,-0.04766632902342849,-0.0771752511974455,-0.12054577463308647,-0.1504061913484236,-0.17242102915028568,-0.16581458171845043,-0.14037566640402588,-0.13374679517676213,-0.14400902779757985,-0.12518334104152018,-0.10277130479914831,-0.07612031333263758,-0.04147720180000647,-0.02304763767384088,-0.025302860569468066,-0.008338492603058967,-0.021281583745007993,-0.02934337836060763,-0.008942327919669424,-0.010486355083230592,-0.022772339032201216,-0.05607858473015881,-0.06708543364345587,-0.06426799511496029,-0.045610731711974495,-0.03347739119845983,-0.03532067685696916,-0.008791173795771101,0.001745150262451034,0.015594198716996743,0.027765776062864234,0.01344084139478241,0.02406680609104228,0.04387742577625886,0.06715568060971577,0.03639141205985652,0.025562629671298964,0.009815748103136457,-0.015275895651228666,-0.0074453864327210795,-0.015733751494508397,-0.02665832307715732,-0.04706642420961771,-0.03696099085286164,-0.005460087053904772,0.001678983426643299,0.023543250315810837,0.03216086326904133,0.019039590349592572,-0.00018635118408383278,-0.009086118251161679,0.01093119728963643,0.01661460708655227,0.021047868883215415,0.026499214428696405,-0.0007425798070812561,0.0033510229498574517,0.010661479470854829,0.028664804192686688,0.023675460927734093,0.009264105041467019,0.0002532059322106761,-0.005718400286014003,0.013155894146336777,0.01752545614735368,0.017708266595263922,0.005716661766456355,-0.011311465203704074,-0.017185338156934904,-0.020555232264769074,-0.024174712590024683,-0.02991449085263298,-0.030751067183871328,-0.03781908029316128,-0.050828402674937934,-0.044483723219855165,-0.034712530286725496,-0.02940140101037514,-0.02539106627651222,-0.031948155138479706,-0.037759384994757283,-0.03987381549160318,-0.0389314525208988,-0.05876318573126582,-0.053272475284614984,-0.0602225797471192,-0.0476794406976353,-0.04662148364329255,-0.03865639921335173,-0.037510026503923655,-0.03888459840035807,-0.03420254906515652,-0.03604375083176592,-0.028018298236617056,-0.021766923144724615,0.0007153268618651509,0.0019673516751765874,0.014139750649974303,0.018206427044049178,0.02191487670307879,0.026985994400973823,0.025514507117236462,0.03185073063951904,0.03318553598134599,0.04312062812678619,0.03687859798819204,0.035439064667258435,0.036535922515071206,0.04120263637332755,0.05404853133225629,0.06166259365298288,0.05132816341290436,0.04144149389702534,0.028244094387417817,0.04532262271862919,0.0354411036082638,0.02701598873662192,0.022898451717253465,0.005724806000330318,0.005338974956060838,0.013060000646675007,0.013337854647176073,-0.01100926950249459,-0.00929164791199355,-0.01688868888695083,-0.03476754098326751,-0.015232194967211399,-0.01135639914764397,-0.010417700392736151,-0.0012721507750654837,-0.00479637719575976,-0.013404599225282254,-0.0012562897371992676,0.011618877493617674,-0.004166077095675291,0.00024088747014161527,-0.00028039211071018144,-0.010060468186992466,-0.0057832705511202676,0.010371395602277289,-0.0006780298259627671,-0.007095726416650905,-0.00011268385372886769,0.005047157270468006,0.005414687564552878,0.009974553463223401,0.022201291052482475,0.008357846938736202,0.016954648550836282,0.03390012637262885,0.05786009456258512,0.05944098067396908,0.06300439714254935,0.07398370891826289,0.06501940556580621,0.07043055562149902,0.08467576545820066,0.0931100257867854,0.0854188696107201,0.08024024106322258,0.08343177585800277,0.05976987128718747,0.04723266427663475,0.029507754994227753,0.0023250073592180343,-0.015292865422310342,-0.02606738935472208,-0.03264818603798858,-0.058608286660813746,-0.06562907880524449,-0.08213833960178363,-0.09838925144219957,-0.10906421147780065,-0.12946953248788873,-0.1250772238085176,-0.12137475557503308,-0.09199577501746603,-0.08476368570831028,-0.07890587630853929,-0.06846516038228856,-0.04864919795917899,-0.03562545717369403,-0.020178383289248814,0.005783910179502527,0.006215772704280198,0.014678580064128255,0.023484256094462808,0.02112475955183868,0.012561430572958443,0.020132837032292628,0.014508275014804894,-0.0018577685713978553,-0.0009838561987578487,0.00015317722599661465,4.064644500090253e-05,-0.0033673482103893093,-0.0052168218438453096,-0.01240387228307327,-0.011964023606992669,0.0008267568921667134,0.005257659244989554,-0.001357081446911934,-0.004873064213199996,-0.0091881045797777,-0.012369359550291392,-0.012650843048191973,-0.01949136148789421,-0.030934534458253893,-0.039090034346884295,-0.03345444594717151,-0.03675555852643697,-0.03308476876588884,-0.01532586653061685,-0.02200620455533908,-0.035340301143747865,-0.03648956346984278,-0.030444696237225344,-0.03981833192224826,-0.04716865615989718,-0.06816574933981201,-0.11007397404890185,-0.1094015970656983,-0.10883440120198884,-0.10389590138962035,-0.10021063665698193,-0.08980554313001221,-0.0897579055737765,-0.08434608085514128,-0.04652386994919766,-0.023543173013848673,-0.00216440967844278,0.02013852754359391,0.051939409717221,0.07716608163522665,0.09843410280646481,0.12144103485195501,0.10323849554418985,0.10070033456869965,0.08246131500743559,0.06553916872798027,0.06893303973316733,0.05818193974741348,0.03301653230889201,0.016929211633197383,0.004482552671134954,0.0026897203321141205,0.0010300657103243793,-0.012394606198284919,-0.04482571360176735,-0.06149121122862766,-0.057696012491419424,-0.058369763368858685,-0.05548049422716872,-0.07085811180544965,-0.0656732970135181,-0.06633516003395812,-0.055271759824961464,-0.044471897993560106,-0.04888298746908504,-0.036501299997127035,-0.033984483758132455,-0.012916837505741796,-0.014640373331133105,-5.080104602939173e-05,0.019845957000711678,0.028293599207557918,0.03513677965986517,0.027176492334177738,0.023177527716171653,0.012100523651923822,0.013845766237409407,0.0064782817559603245,-0.005767488068443072,-0.005743873993793613,-0.015913884347583007,-0.026223472038651607,-0.03068514757140406,-0.024105361591580277,-0.02202124372533376,-0.018974972589944628,-0.015497340792336445,-0.01810573774241675,-0.021977396234206026,-0.021910741088106533,-0.026087999467989675,-0.023708080489171834,-0.027227814287101637,-0.026157861081344436,-0.01791650064848227,-0.010877688495895654,-0.0006155173093418398,-0.0011931389556707472,-0.012373319427382512,-0.004332114671285581,0.012183600717918353,0.015810271832236822,0.0314777916342166,0.03694759754358756,0.030771219026661356,0.02412366094208096,0.04278708802652886,0.045103464553903905,0.03612733918254207,0.040521906463027335,0.017184415388783236,0.0002191815977994338,-0.003042274616660734,0.006435914440316992,-0.006144697734015381,-0.023309010523405505,-0.025525459614328838,-0.0482405735681084,-0.06263818032419977,-0.08017522988129144,-0.09160110873082772,-0.10222906322090353,-0.0896404851615955,-0.08751858725113948,-0.08469885692508683,-0.06417342793392322,-0.042926547874117205,-0.04875309147661255,-0.08530302984081573,-0.12386256629406489,-0.15786949604520828,-0.16194717578972018,-0.16266918398531516,-0.18495439632835087,-0.19739354799281728,-0.2196699111993894],\"yaxis\":\"y\",\"type\":\"scatter\"}],                        {\"template\":{\"data\":{\"histogram2dcontour\":[{\"type\":\"histogram2dcontour\",\"colorbar\":{\"outlinewidth\":0,\"ticks\":\"\"},\"colorscale\":[[0.0,\"#0d0887\"],[0.1111111111111111,\"#46039f\"],[0.2222222222222222,\"#7201a8\"],[0.3333333333333333,\"#9c179e\"],[0.4444444444444444,\"#bd3786\"],[0.5555555555555556,\"#d8576b\"],[0.6666666666666666,\"#ed7953\"],[0.7777777777777778,\"#fb9f3a\"],[0.8888888888888888,\"#fdca26\"],[1.0,\"#f0f921\"]]}],\"choropleth\":[{\"type\":\"choropleth\",\"colorbar\":{\"outlinewidth\":0,\"ticks\":\"\"}}],\"histogram2d\":[{\"type\":\"histogram2d\",\"colorbar\":{\"outlinewidth\":0,\"ticks\":\"\"},\"colorscale\":[[0.0,\"#0d0887\"],[0.1111111111111111,\"#46039f\"],[0.2222222222222222,\"#7201a8\"],[0.3333333333333333,\"#9c179e\"],[0.4444444444444444,\"#bd3786\"],[0.5555555555555556,\"#d8576b\"],[0.6666666666666666,\"#ed7953\"],[0.7777777777777778,\"#fb9f3a\"],[0.8888888888888888,\"#fdca26\"],[1.0,\"#f0f921\"]]}],\"heatmap\":[{\"type\":\"heatmap\",\"colorbar\":{\"outlinewidth\":0,\"ticks\":\"\"},\"colorscale\":[[0.0,\"#0d0887\"],[0.1111111111111111,\"#46039f\"],[0.2222222222222222,\"#7201a8\"],[0.3333333333333333,\"#9c179e\"],[0.4444444444444444,\"#bd3786\"],[0.5555555555555556,\"#d8576b\"],[0.6666666666666666,\"#ed7953\"],[0.7777777777777778,\"#fb9f3a\"],[0.8888888888888888,\"#fdca26\"],[1.0,\"#f0f921\"]]}],\"heatmapgl\":[{\"type\":\"heatmapgl\",\"colorbar\":{\"outlinewidth\":0,\"ticks\":\"\"},\"colorscale\":[[0.0,\"#0d0887\"],[0.1111111111111111,\"#46039f\"],[0.2222222222222222,\"#7201a8\"],[0.3333333333333333,\"#9c179e\"],[0.4444444444444444,\"#bd3786\"],[0.5555555555555556,\"#d8576b\"],[0.6666666666666666,\"#ed7953\"],[0.7777777777777778,\"#fb9f3a\"],[0.8888888888888888,\"#fdca26\"],[1.0,\"#f0f921\"]]}],\"contourcarpet\":[{\"type\":\"contourcarpet\",\"colorbar\":{\"outlinewidth\":0,\"ticks\":\"\"}}],\"contour\":[{\"type\":\"contour\",\"colorbar\":{\"outlinewidth\":0,\"ticks\":\"\"},\"colorscale\":[[0.0,\"#0d0887\"],[0.1111111111111111,\"#46039f\"],[0.2222222222222222,\"#7201a8\"],[0.3333333333333333,\"#9c179e\"],[0.4444444444444444,\"#bd3786\"],[0.5555555555555556,\"#d8576b\"],[0.6666666666666666,\"#ed7953\"],[0.7777777777777778,\"#fb9f3a\"],[0.8888888888888888,\"#fdca26\"],[1.0,\"#f0f921\"]]}],\"surface\":[{\"type\":\"surface\",\"colorbar\":{\"outlinewidth\":0,\"ticks\":\"\"},\"colorscale\":[[0.0,\"#0d0887\"],[0.1111111111111111,\"#46039f\"],[0.2222222222222222,\"#7201a8\"],[0.3333333333333333,\"#9c179e\"],[0.4444444444444444,\"#bd3786\"],[0.5555555555555556,\"#d8576b\"],[0.6666666666666666,\"#ed7953\"],[0.7777777777777778,\"#fb9f3a\"],[0.8888888888888888,\"#fdca26\"],[1.0,\"#f0f921\"]]}],\"mesh3d\":[{\"type\":\"mesh3d\",\"colorbar\":{\"outlinewidth\":0,\"ticks\":\"\"}}],\"scatter\":[{\"fillpattern\":{\"fillmode\":\"overlay\",\"size\":10,\"solidity\":0.2},\"type\":\"scatter\"}],\"parcoords\":[{\"type\":\"parcoords\",\"line\":{\"colorbar\":{\"outlinewidth\":0,\"ticks\":\"\"}}}],\"scatterpolargl\":[{\"type\":\"scatterpolargl\",\"marker\":{\"colorbar\":{\"outlinewidth\":0,\"ticks\":\"\"}}}],\"bar\":[{\"error_x\":{\"color\":\"#2a3f5f\"},\"error_y\":{\"color\":\"#2a3f5f\"},\"marker\":{\"line\":{\"color\":\"#E5ECF6\",\"width\":0.5},\"pattern\":{\"fillmode\":\"overlay\",\"size\":10,\"solidity\":0.2}},\"type\":\"bar\"}],\"scattergeo\":[{\"type\":\"scattergeo\",\"marker\":{\"colorbar\":{\"outlinewidth\":0,\"ticks\":\"\"}}}],\"scatterpolar\":[{\"type\":\"scatterpolar\",\"marker\":{\"colorbar\":{\"outlinewidth\":0,\"ticks\":\"\"}}}],\"histogram\":[{\"marker\":{\"pattern\":{\"fillmode\":\"overlay\",\"size\":10,\"solidity\":0.2}},\"type\":\"histogram\"}],\"scattergl\":[{\"type\":\"scattergl\",\"marker\":{\"colorbar\":{\"outlinewidth\":0,\"ticks\":\"\"}}}],\"scatter3d\":[{\"type\":\"scatter3d\",\"line\":{\"colorbar\":{\"outlinewidth\":0,\"ticks\":\"\"}},\"marker\":{\"colorbar\":{\"outlinewidth\":0,\"ticks\":\"\"}}}],\"scattermapbox\":[{\"type\":\"scattermapbox\",\"marker\":{\"colorbar\":{\"outlinewidth\":0,\"ticks\":\"\"}}}],\"scatterternary\":[{\"type\":\"scatterternary\",\"marker\":{\"colorbar\":{\"outlinewidth\":0,\"ticks\":\"\"}}}],\"scattercarpet\":[{\"type\":\"scattercarpet\",\"marker\":{\"colorbar\":{\"outlinewidth\":0,\"ticks\":\"\"}}}],\"carpet\":[{\"aaxis\":{\"endlinecolor\":\"#2a3f5f\",\"gridcolor\":\"white\",\"linecolor\":\"white\",\"minorgridcolor\":\"white\",\"startlinecolor\":\"#2a3f5f\"},\"baxis\":{\"endlinecolor\":\"#2a3f5f\",\"gridcolor\":\"white\",\"linecolor\":\"white\",\"minorgridcolor\":\"white\",\"startlinecolor\":\"#2a3f5f\"},\"type\":\"carpet\"}],\"table\":[{\"cells\":{\"fill\":{\"color\":\"#EBF0F8\"},\"line\":{\"color\":\"white\"}},\"header\":{\"fill\":{\"color\":\"#C8D4E3\"},\"line\":{\"color\":\"white\"}},\"type\":\"table\"}],\"barpolar\":[{\"marker\":{\"line\":{\"color\":\"#E5ECF6\",\"width\":0.5},\"pattern\":{\"fillmode\":\"overlay\",\"size\":10,\"solidity\":0.2}},\"type\":\"barpolar\"}],\"pie\":[{\"automargin\":true,\"type\":\"pie\"}]},\"layout\":{\"autotypenumbers\":\"strict\",\"colorway\":[\"#636efa\",\"#EF553B\",\"#00cc96\",\"#ab63fa\",\"#FFA15A\",\"#19d3f3\",\"#FF6692\",\"#B6E880\",\"#FF97FF\",\"#FECB52\"],\"font\":{\"color\":\"#2a3f5f\"},\"hovermode\":\"closest\",\"hoverlabel\":{\"align\":\"left\"},\"paper_bgcolor\":\"white\",\"plot_bgcolor\":\"#E5ECF6\",\"polar\":{\"bgcolor\":\"#E5ECF6\",\"angularaxis\":{\"gridcolor\":\"white\",\"linecolor\":\"white\",\"ticks\":\"\"},\"radialaxis\":{\"gridcolor\":\"white\",\"linecolor\":\"white\",\"ticks\":\"\"}},\"ternary\":{\"bgcolor\":\"#E5ECF6\",\"aaxis\":{\"gridcolor\":\"white\",\"linecolor\":\"white\",\"ticks\":\"\"},\"baxis\":{\"gridcolor\":\"white\",\"linecolor\":\"white\",\"ticks\":\"\"},\"caxis\":{\"gridcolor\":\"white\",\"linecolor\":\"white\",\"ticks\":\"\"}},\"coloraxis\":{\"colorbar\":{\"outlinewidth\":0,\"ticks\":\"\"}},\"colorscale\":{\"sequential\":[[0.0,\"#0d0887\"],[0.1111111111111111,\"#46039f\"],[0.2222222222222222,\"#7201a8\"],[0.3333333333333333,\"#9c179e\"],[0.4444444444444444,\"#bd3786\"],[0.5555555555555556,\"#d8576b\"],[0.6666666666666666,\"#ed7953\"],[0.7777777777777778,\"#fb9f3a\"],[0.8888888888888888,\"#fdca26\"],[1.0,\"#f0f921\"]],\"sequentialminus\":[[0.0,\"#0d0887\"],[0.1111111111111111,\"#46039f\"],[0.2222222222222222,\"#7201a8\"],[0.3333333333333333,\"#9c179e\"],[0.4444444444444444,\"#bd3786\"],[0.5555555555555556,\"#d8576b\"],[0.6666666666666666,\"#ed7953\"],[0.7777777777777778,\"#fb9f3a\"],[0.8888888888888888,\"#fdca26\"],[1.0,\"#f0f921\"]],\"diverging\":[[0,\"#8e0152\"],[0.1,\"#c51b7d\"],[0.2,\"#de77ae\"],[0.3,\"#f1b6da\"],[0.4,\"#fde0ef\"],[0.5,\"#f7f7f7\"],[0.6,\"#e6f5d0\"],[0.7,\"#b8e186\"],[0.8,\"#7fbc41\"],[0.9,\"#4d9221\"],[1,\"#276419\"]]},\"xaxis\":{\"gridcolor\":\"white\",\"linecolor\":\"white\",\"ticks\":\"\",\"title\":{\"standoff\":15},\"zerolinecolor\":\"white\",\"automargin\":true,\"zerolinewidth\":2},\"yaxis\":{\"gridcolor\":\"white\",\"linecolor\":\"white\",\"ticks\":\"\",\"title\":{\"standoff\":15},\"zerolinecolor\":\"white\",\"automargin\":true,\"zerolinewidth\":2},\"scene\":{\"xaxis\":{\"backgroundcolor\":\"#E5ECF6\",\"gridcolor\":\"white\",\"linecolor\":\"white\",\"showbackground\":true,\"ticks\":\"\",\"zerolinecolor\":\"white\",\"gridwidth\":2},\"yaxis\":{\"backgroundcolor\":\"#E5ECF6\",\"gridcolor\":\"white\",\"linecolor\":\"white\",\"showbackground\":true,\"ticks\":\"\",\"zerolinecolor\":\"white\",\"gridwidth\":2},\"zaxis\":{\"backgroundcolor\":\"#E5ECF6\",\"gridcolor\":\"white\",\"linecolor\":\"white\",\"showbackground\":true,\"ticks\":\"\",\"zerolinecolor\":\"white\",\"gridwidth\":2}},\"shapedefaults\":{\"line\":{\"color\":\"#2a3f5f\"}},\"annotationdefaults\":{\"arrowcolor\":\"#2a3f5f\",\"arrowhead\":0,\"arrowwidth\":1},\"geo\":{\"bgcolor\":\"white\",\"landcolor\":\"#E5ECF6\",\"subunitcolor\":\"white\",\"showland\":true,\"showlakes\":true,\"lakecolor\":\"white\"},\"title\":{\"x\":0.05},\"mapbox\":{\"style\":\"light\"}}},\"xaxis\":{\"anchor\":\"y\",\"domain\":[0.0,1.0],\"title\":{\"text\":\"Datetime\"}},\"yaxis\":{\"anchor\":\"x\",\"domain\":[0.0,1.0],\"title\":{\"text\":\"MACD_8_16\"}},\"legend\":{\"tracegroupgap\":0},\"title\":{\"text\":\"AAPL MACD\"}},                        {\"responsive\": true}                    ).then(function(){\n",
       "                            \n",
       "var gd = document.getElementById('e99c2cee-107d-4f3b-9047-67ec3f66f7d6');\n",
       "var x = new MutationObserver(function (mutations, observer) {{\n",
       "        var display = window.getComputedStyle(gd).display;\n",
       "        if (!display || display === 'none') {{\n",
       "            console.log([gd, 'removed!']);\n",
       "            Plotly.purge(gd);\n",
       "            observer.disconnect();\n",
       "        }}\n",
       "}});\n",
       "\n",
       "// Listen for the removal of the full notebook cells\n",
       "var notebookContainer = gd.closest('#notebook-container');\n",
       "if (notebookContainer) {{\n",
       "    x.observe(notebookContainer, {childList: true});\n",
       "}}\n",
       "\n",
       "// Listen for the clearing of the current output cell\n",
       "var outputEl = gd.closest('.output');\n",
       "if (outputEl) {{\n",
       "    x.observe(outputEl, {childList: true});\n",
       "}}\n",
       "\n",
       "                        })                };                });            </script>        </div>"
      ]
     },
     "metadata": {},
     "output_type": "display_data"
    }
   ],
   "source": [
    "stonks = create_stock_data_from_input()\n",
    "\n",
    "\n",
    "with warnings.catch_warnings():\n",
    "    warnings.simplefilter(\"ignore\")\n",
    "    fig = px.line(stonks.data_frame, x=stonks.data_frame.index,\n",
    "                  y='Close',\n",
    "                 title=f\"{stonks.stock_symbol} Stock Prices\")\n",
    "    fig.show()\n",
    "\n",
    "add_lags_from_input(stonks)\n",
    "\n",
    "display_days = int(0.8 * stonks.lag_length)\n",
    "SMA_string = 'SMA_' + str(display_days)\n",
    "lower_boll_str = 'lower_boll_' + str(display_days)\n",
    "upper_boll_str = 'upper_boll_' + str(display_days)\n",
    "EMA_string = 'EMA_' + str(display_days)\n",
    "EMA_string_2 = 'EMA_' + str(int(display_days / 2))\n",
    "MACD_string = 'MACD_' + str(int(display_days / 2)) + '_' + str(display_days)\n",
    "\n",
    "\n",
    "stonks.add_simple_moving_average(display_days)\n",
    "stonks.add_upper_bollinger(display_days)\n",
    "stonks.add_lower_bollinger(display_days)\n",
    "stonks.add_exponential_moving_average(display_days)\n",
    "stonks.add_exponential_moving_average(int(display_days/2))\n",
    "stonks.add_MACD(display_days, int(display_days/2))\n",
    "\n",
    "\n",
    "with warnings.catch_warnings():\n",
    "    warnings.simplefilter(\"ignore\")\n",
    "    fig = px.line(stonks.data_frame, x=stonks.data_frame.index,\n",
    "                  y=[SMA_string, upper_boll_str, lower_boll_str, 'Close',], \n",
    "                  color_discrete_map={\n",
    "                      SMA_string: \"#85deb1\",\n",
    "                      upper_boll_str: \"#b6d1c3\",\n",
    "                      lower_boll_str: \"#b6d1c3\",\n",
    "                      \"Close\": \"#0059ff\",\n",
    "                  },\n",
    "                 title=f\"{stonks.stock_symbol} Stock Prices w/ Bollinger Bands\").update_traces(\n",
    "        selector={\"name\": upper_boll_str},\n",
    "        line={\"dash\": \"dot\"}\n",
    "    ).update_traces(\n",
    "        selector={\"name\": lower_boll_str}, \n",
    "        line={\"dash\": \"dot\"})\n",
    "\n",
    "    fig.show()\n",
    "\n",
    "\n",
    "with warnings.catch_warnings():\n",
    "    warnings.simplefilter(\"ignore\")\n",
    "    fig = px.line(stonks.data_frame, x=stonks.data_frame.index,\n",
    "                  y=[EMA_string, EMA_string_2], \n",
    "                  color_discrete_map={\n",
    "                      EMA_string:\"#38b9ff\",\n",
    "                      EMA_string_2:\"#44fcd1\"\n",
    "                  },\n",
    "                 title=f\"{stonks.stock_symbol} Exponential Moving Averages\")\n",
    "    fig.show()\n",
    "    \n",
    "\n",
    "with warnings.catch_warnings():\n",
    "    warnings.simplefilter(\"ignore\")\n",
    "    fig = px.line(stonks.data_frame, x=stonks.data_frame.index,\n",
    "                  y=MACD_string, \n",
    "                  color_discrete_map={\n",
    "                      MACD_string:\"#edff47\"\n",
    "                  },\n",
    "                 title=f\"{stonks.stock_symbol} MACD\")\n",
    "    fig.show()\n"
   ]
  },
  {
   "cell_type": "markdown",
   "id": "9e98f2d4",
   "metadata": {},
   "source": [
    "# Setting Up Models"
   ]
  },
  {
   "cell_type": "code",
   "execution_count": 49,
   "id": "39f39a8d",
   "metadata": {},
   "outputs": [],
   "source": [
    "# Predictors\n",
    "predictors = stonks.data_frame.filter(regex='Close_L')\n",
    "# Outcome\n",
    "outcome=stonks.data_frame[\"Close\"]\n",
    "\n",
    "(trainX, testX, trainY, testY) = train_test_split(predictors, \n",
    "                                                  outcome,\n",
    "                                                  random_state=43,\n",
    "                                                  test_size=0.25)\n",
    "scaler = preprocessing.StandardScaler()\n",
    "trainX = scaler.fit_transform(trainX)\n",
    "testX = scaler.transform(testX)"
   ]
  },
  {
   "cell_type": "code",
   "execution_count": 53,
   "id": "b7ed59cd",
   "metadata": {},
   "outputs": [
    {
     "data": {
      "application/vnd.plotly.v1+json": {
       "config": {
        "plotlyServerURL": "https://plot.ly"
       },
       "data": [
        {
         "hovertemplate": "variable=alpha_0.0001<br>L1_Ratio=%{x}<br>value=%{y}<extra></extra>",
         "legendgroup": "alpha_0.0001",
         "line": {
          "color": "#636efa",
          "dash": "solid"
         },
         "marker": {
          "symbol": "circle"
         },
         "mode": "lines",
         "name": "alpha_0.0001",
         "orientation": "v",
         "showlegend": true,
         "type": "scatter",
         "x": [
          0,
          0.1,
          0.2,
          0.30000000000000004,
          0.4,
          0.5,
          0.6000000000000001,
          0.7000000000000001,
          0.8,
          0.9
         ],
         "xaxis": "x",
         "y": [
          0.9342883355689173,
          0.9343726481743534,
          0.9344569584451206,
          0.9345313879965277,
          0.9346026988670031,
          0.9346755822950353,
          0.9347445591086947,
          0.9348163264083693,
          0.934896863144752,
          0.9349786253954073
         ],
         "yaxis": "y"
        },
        {
         "hovertemplate": "variable=alpha_0.001<br>L1_Ratio=%{x}<br>value=%{y}<extra></extra>",
         "legendgroup": "alpha_0.001",
         "line": {
          "color": "#EF553B",
          "dash": "solid"
         },
         "marker": {
          "symbol": "circle"
         },
         "mode": "lines",
         "name": "alpha_0.001",
         "orientation": "v",
         "showlegend": true,
         "type": "scatter",
         "x": [
          0,
          0.1,
          0.2,
          0.30000000000000004,
          0.4,
          0.5,
          0.6000000000000001,
          0.7000000000000001,
          0.8,
          0.9
         ],
         "xaxis": "x",
         "y": [
          0.9350866935959286,
          0.9357661985972154,
          0.936818286064254,
          0.9379873091264382,
          0.9390253158708465,
          0.9398432596458856,
          0.9403965421534825,
          0.940916210179946,
          0.9414056925587632,
          0.9417533100842326
         ],
         "yaxis": "y"
        },
        {
         "hovertemplate": "variable=alpha_0.01<br>L1_Ratio=%{x}<br>value=%{y}<extra></extra>",
         "legendgroup": "alpha_0.01",
         "line": {
          "color": "#00cc96",
          "dash": "solid"
         },
         "marker": {
          "symbol": "circle"
         },
         "mode": "lines",
         "name": "alpha_0.01",
         "orientation": "v",
         "showlegend": true,
         "type": "scatter",
         "x": [
          0,
          0.1,
          0.2,
          0.30000000000000004,
          0.4,
          0.5,
          0.6000000000000001,
          0.7000000000000001,
          0.8,
          0.9
         ],
         "xaxis": "x",
         "y": [
          0.9377760156817321,
          0.9408270595559427,
          0.941726464550827,
          0.9418517835366641,
          0.941902665795108,
          0.9420908865651662,
          0.9423097462588196,
          0.9425190623934764,
          0.9427048521934459,
          0.9427745833645936
         ],
         "yaxis": "y"
        },
        {
         "hovertemplate": "variable=alpha_0.1<br>L1_Ratio=%{x}<br>value=%{y}<extra></extra>",
         "legendgroup": "alpha_0.1",
         "line": {
          "color": "#ab63fa",
          "dash": "solid"
         },
         "marker": {
          "symbol": "circle"
         },
         "mode": "lines",
         "name": "alpha_0.1",
         "orientation": "v",
         "showlegend": true,
         "type": "scatter",
         "x": [
          0,
          0.1,
          0.2,
          0.30000000000000004,
          0.4,
          0.5,
          0.6000000000000001,
          0.7000000000000001,
          0.8,
          0.9
         ],
         "xaxis": "x",
         "y": [
          0.9217631118371094,
          0.9238510091757768,
          0.9226701210808337,
          0.9197215850047454,
          0.9151227205771922,
          0.9090026707534131,
          0.9006118773245386,
          0.8906105263532528,
          0.8791645600879594,
          0.8675387094594568
         ],
         "yaxis": "y"
        },
        {
         "hovertemplate": "variable=alpha_1<br>L1_Ratio=%{x}<br>value=%{y}<extra></extra>",
         "legendgroup": "alpha_1",
         "line": {
          "color": "#FFA15A",
          "dash": "solid"
         },
         "marker": {
          "symbol": "circle"
         },
         "mode": "lines",
         "name": "alpha_1",
         "orientation": "v",
         "showlegend": true,
         "type": "scatter",
         "x": [
          0,
          0.1,
          0.2,
          0.30000000000000004,
          0.4,
          0.5,
          0.6000000000000001,
          0.7000000000000001,
          0.8,
          0.9
         ],
         "xaxis": "x",
         "y": [
          0.8328465553640136,
          0.715295058243749,
          0.4428433211902603,
          0.07670168091640076,
          -0.02312048279034602,
          -0.02312048279034602,
          -0.02312048279034602,
          -0.02312048279034602,
          -0.02312048279034602,
          -0.02312048279034602
         ],
         "yaxis": "y"
        },
        {
         "hovertemplate": "variable=alpha_10<br>L1_Ratio=%{x}<br>value=%{y}<extra></extra>",
         "legendgroup": "alpha_10",
         "line": {
          "color": "#19d3f3",
          "dash": "solid"
         },
         "marker": {
          "symbol": "circle"
         },
         "mode": "lines",
         "name": "alpha_10",
         "orientation": "v",
         "showlegend": true,
         "type": "scatter",
         "x": [
          0,
          0.1,
          0.2,
          0.30000000000000004,
          0.4,
          0.5,
          0.6000000000000001,
          0.7000000000000001,
          0.8,
          0.9
         ],
         "xaxis": "x",
         "y": [
          0.598105770112834,
          -0.02312048279034602,
          -0.02312048279034602,
          -0.02312048279034602,
          -0.02312048279034602,
          -0.02312048279034602,
          -0.02312048279034602,
          -0.02312048279034602,
          -0.02312048279034602,
          -0.02312048279034602
         ],
         "yaxis": "y"
        },
        {
         "hovertemplate": "variable=alpha_100<br>L1_Ratio=%{x}<br>value=%{y}<extra></extra>",
         "legendgroup": "alpha_100",
         "line": {
          "color": "#FF6692",
          "dash": "solid"
         },
         "marker": {
          "symbol": "circle"
         },
         "mode": "lines",
         "name": "alpha_100",
         "orientation": "v",
         "showlegend": true,
         "type": "scatter",
         "x": [
          0,
          0.1,
          0.2,
          0.30000000000000004,
          0.4,
          0.5,
          0.6000000000000001,
          0.7000000000000001,
          0.8,
          0.9
         ],
         "xaxis": "x",
         "y": [
          0.1588203187221387,
          -0.02312048279034602,
          -0.02312048279034602,
          -0.02312048279034602,
          -0.02312048279034602,
          -0.02312048279034602,
          -0.02312048279034602,
          -0.02312048279034602,
          -0.02312048279034602,
          -0.02312048279034602
         ],
         "yaxis": "y"
        }
       ],
       "layout": {
        "legend": {
         "title": {
          "text": "variable"
         },
         "tracegroupgap": 0
        },
        "template": {
         "data": {
          "bar": [
           {
            "error_x": {
             "color": "#2a3f5f"
            },
            "error_y": {
             "color": "#2a3f5f"
            },
            "marker": {
             "line": {
              "color": "#E5ECF6",
              "width": 0.5
             },
             "pattern": {
              "fillmode": "overlay",
              "size": 10,
              "solidity": 0.2
             }
            },
            "type": "bar"
           }
          ],
          "barpolar": [
           {
            "marker": {
             "line": {
              "color": "#E5ECF6",
              "width": 0.5
             },
             "pattern": {
              "fillmode": "overlay",
              "size": 10,
              "solidity": 0.2
             }
            },
            "type": "barpolar"
           }
          ],
          "carpet": [
           {
            "aaxis": {
             "endlinecolor": "#2a3f5f",
             "gridcolor": "white",
             "linecolor": "white",
             "minorgridcolor": "white",
             "startlinecolor": "#2a3f5f"
            },
            "baxis": {
             "endlinecolor": "#2a3f5f",
             "gridcolor": "white",
             "linecolor": "white",
             "minorgridcolor": "white",
             "startlinecolor": "#2a3f5f"
            },
            "type": "carpet"
           }
          ],
          "choropleth": [
           {
            "colorbar": {
             "outlinewidth": 0,
             "ticks": ""
            },
            "type": "choropleth"
           }
          ],
          "contour": [
           {
            "colorbar": {
             "outlinewidth": 0,
             "ticks": ""
            },
            "colorscale": [
             [
              0,
              "#0d0887"
             ],
             [
              0.1111111111111111,
              "#46039f"
             ],
             [
              0.2222222222222222,
              "#7201a8"
             ],
             [
              0.3333333333333333,
              "#9c179e"
             ],
             [
              0.4444444444444444,
              "#bd3786"
             ],
             [
              0.5555555555555556,
              "#d8576b"
             ],
             [
              0.6666666666666666,
              "#ed7953"
             ],
             [
              0.7777777777777778,
              "#fb9f3a"
             ],
             [
              0.8888888888888888,
              "#fdca26"
             ],
             [
              1,
              "#f0f921"
             ]
            ],
            "type": "contour"
           }
          ],
          "contourcarpet": [
           {
            "colorbar": {
             "outlinewidth": 0,
             "ticks": ""
            },
            "type": "contourcarpet"
           }
          ],
          "heatmap": [
           {
            "colorbar": {
             "outlinewidth": 0,
             "ticks": ""
            },
            "colorscale": [
             [
              0,
              "#0d0887"
             ],
             [
              0.1111111111111111,
              "#46039f"
             ],
             [
              0.2222222222222222,
              "#7201a8"
             ],
             [
              0.3333333333333333,
              "#9c179e"
             ],
             [
              0.4444444444444444,
              "#bd3786"
             ],
             [
              0.5555555555555556,
              "#d8576b"
             ],
             [
              0.6666666666666666,
              "#ed7953"
             ],
             [
              0.7777777777777778,
              "#fb9f3a"
             ],
             [
              0.8888888888888888,
              "#fdca26"
             ],
             [
              1,
              "#f0f921"
             ]
            ],
            "type": "heatmap"
           }
          ],
          "heatmapgl": [
           {
            "colorbar": {
             "outlinewidth": 0,
             "ticks": ""
            },
            "colorscale": [
             [
              0,
              "#0d0887"
             ],
             [
              0.1111111111111111,
              "#46039f"
             ],
             [
              0.2222222222222222,
              "#7201a8"
             ],
             [
              0.3333333333333333,
              "#9c179e"
             ],
             [
              0.4444444444444444,
              "#bd3786"
             ],
             [
              0.5555555555555556,
              "#d8576b"
             ],
             [
              0.6666666666666666,
              "#ed7953"
             ],
             [
              0.7777777777777778,
              "#fb9f3a"
             ],
             [
              0.8888888888888888,
              "#fdca26"
             ],
             [
              1,
              "#f0f921"
             ]
            ],
            "type": "heatmapgl"
           }
          ],
          "histogram": [
           {
            "marker": {
             "pattern": {
              "fillmode": "overlay",
              "size": 10,
              "solidity": 0.2
             }
            },
            "type": "histogram"
           }
          ],
          "histogram2d": [
           {
            "colorbar": {
             "outlinewidth": 0,
             "ticks": ""
            },
            "colorscale": [
             [
              0,
              "#0d0887"
             ],
             [
              0.1111111111111111,
              "#46039f"
             ],
             [
              0.2222222222222222,
              "#7201a8"
             ],
             [
              0.3333333333333333,
              "#9c179e"
             ],
             [
              0.4444444444444444,
              "#bd3786"
             ],
             [
              0.5555555555555556,
              "#d8576b"
             ],
             [
              0.6666666666666666,
              "#ed7953"
             ],
             [
              0.7777777777777778,
              "#fb9f3a"
             ],
             [
              0.8888888888888888,
              "#fdca26"
             ],
             [
              1,
              "#f0f921"
             ]
            ],
            "type": "histogram2d"
           }
          ],
          "histogram2dcontour": [
           {
            "colorbar": {
             "outlinewidth": 0,
             "ticks": ""
            },
            "colorscale": [
             [
              0,
              "#0d0887"
             ],
             [
              0.1111111111111111,
              "#46039f"
             ],
             [
              0.2222222222222222,
              "#7201a8"
             ],
             [
              0.3333333333333333,
              "#9c179e"
             ],
             [
              0.4444444444444444,
              "#bd3786"
             ],
             [
              0.5555555555555556,
              "#d8576b"
             ],
             [
              0.6666666666666666,
              "#ed7953"
             ],
             [
              0.7777777777777778,
              "#fb9f3a"
             ],
             [
              0.8888888888888888,
              "#fdca26"
             ],
             [
              1,
              "#f0f921"
             ]
            ],
            "type": "histogram2dcontour"
           }
          ],
          "mesh3d": [
           {
            "colorbar": {
             "outlinewidth": 0,
             "ticks": ""
            },
            "type": "mesh3d"
           }
          ],
          "parcoords": [
           {
            "line": {
             "colorbar": {
              "outlinewidth": 0,
              "ticks": ""
             }
            },
            "type": "parcoords"
           }
          ],
          "pie": [
           {
            "automargin": true,
            "type": "pie"
           }
          ],
          "scatter": [
           {
            "fillpattern": {
             "fillmode": "overlay",
             "size": 10,
             "solidity": 0.2
            },
            "type": "scatter"
           }
          ],
          "scatter3d": [
           {
            "line": {
             "colorbar": {
              "outlinewidth": 0,
              "ticks": ""
             }
            },
            "marker": {
             "colorbar": {
              "outlinewidth": 0,
              "ticks": ""
             }
            },
            "type": "scatter3d"
           }
          ],
          "scattercarpet": [
           {
            "marker": {
             "colorbar": {
              "outlinewidth": 0,
              "ticks": ""
             }
            },
            "type": "scattercarpet"
           }
          ],
          "scattergeo": [
           {
            "marker": {
             "colorbar": {
              "outlinewidth": 0,
              "ticks": ""
             }
            },
            "type": "scattergeo"
           }
          ],
          "scattergl": [
           {
            "marker": {
             "colorbar": {
              "outlinewidth": 0,
              "ticks": ""
             }
            },
            "type": "scattergl"
           }
          ],
          "scattermapbox": [
           {
            "marker": {
             "colorbar": {
              "outlinewidth": 0,
              "ticks": ""
             }
            },
            "type": "scattermapbox"
           }
          ],
          "scatterpolar": [
           {
            "marker": {
             "colorbar": {
              "outlinewidth": 0,
              "ticks": ""
             }
            },
            "type": "scatterpolar"
           }
          ],
          "scatterpolargl": [
           {
            "marker": {
             "colorbar": {
              "outlinewidth": 0,
              "ticks": ""
             }
            },
            "type": "scatterpolargl"
           }
          ],
          "scatterternary": [
           {
            "marker": {
             "colorbar": {
              "outlinewidth": 0,
              "ticks": ""
             }
            },
            "type": "scatterternary"
           }
          ],
          "surface": [
           {
            "colorbar": {
             "outlinewidth": 0,
             "ticks": ""
            },
            "colorscale": [
             [
              0,
              "#0d0887"
             ],
             [
              0.1111111111111111,
              "#46039f"
             ],
             [
              0.2222222222222222,
              "#7201a8"
             ],
             [
              0.3333333333333333,
              "#9c179e"
             ],
             [
              0.4444444444444444,
              "#bd3786"
             ],
             [
              0.5555555555555556,
              "#d8576b"
             ],
             [
              0.6666666666666666,
              "#ed7953"
             ],
             [
              0.7777777777777778,
              "#fb9f3a"
             ],
             [
              0.8888888888888888,
              "#fdca26"
             ],
             [
              1,
              "#f0f921"
             ]
            ],
            "type": "surface"
           }
          ],
          "table": [
           {
            "cells": {
             "fill": {
              "color": "#EBF0F8"
             },
             "line": {
              "color": "white"
             }
            },
            "header": {
             "fill": {
              "color": "#C8D4E3"
             },
             "line": {
              "color": "white"
             }
            },
            "type": "table"
           }
          ]
         },
         "layout": {
          "annotationdefaults": {
           "arrowcolor": "#2a3f5f",
           "arrowhead": 0,
           "arrowwidth": 1
          },
          "autotypenumbers": "strict",
          "coloraxis": {
           "colorbar": {
            "outlinewidth": 0,
            "ticks": ""
           }
          },
          "colorscale": {
           "diverging": [
            [
             0,
             "#8e0152"
            ],
            [
             0.1,
             "#c51b7d"
            ],
            [
             0.2,
             "#de77ae"
            ],
            [
             0.3,
             "#f1b6da"
            ],
            [
             0.4,
             "#fde0ef"
            ],
            [
             0.5,
             "#f7f7f7"
            ],
            [
             0.6,
             "#e6f5d0"
            ],
            [
             0.7,
             "#b8e186"
            ],
            [
             0.8,
             "#7fbc41"
            ],
            [
             0.9,
             "#4d9221"
            ],
            [
             1,
             "#276419"
            ]
           ],
           "sequential": [
            [
             0,
             "#0d0887"
            ],
            [
             0.1111111111111111,
             "#46039f"
            ],
            [
             0.2222222222222222,
             "#7201a8"
            ],
            [
             0.3333333333333333,
             "#9c179e"
            ],
            [
             0.4444444444444444,
             "#bd3786"
            ],
            [
             0.5555555555555556,
             "#d8576b"
            ],
            [
             0.6666666666666666,
             "#ed7953"
            ],
            [
             0.7777777777777778,
             "#fb9f3a"
            ],
            [
             0.8888888888888888,
             "#fdca26"
            ],
            [
             1,
             "#f0f921"
            ]
           ],
           "sequentialminus": [
            [
             0,
             "#0d0887"
            ],
            [
             0.1111111111111111,
             "#46039f"
            ],
            [
             0.2222222222222222,
             "#7201a8"
            ],
            [
             0.3333333333333333,
             "#9c179e"
            ],
            [
             0.4444444444444444,
             "#bd3786"
            ],
            [
             0.5555555555555556,
             "#d8576b"
            ],
            [
             0.6666666666666666,
             "#ed7953"
            ],
            [
             0.7777777777777778,
             "#fb9f3a"
            ],
            [
             0.8888888888888888,
             "#fdca26"
            ],
            [
             1,
             "#f0f921"
            ]
           ]
          },
          "colorway": [
           "#636efa",
           "#EF553B",
           "#00cc96",
           "#ab63fa",
           "#FFA15A",
           "#19d3f3",
           "#FF6692",
           "#B6E880",
           "#FF97FF",
           "#FECB52"
          ],
          "font": {
           "color": "#2a3f5f"
          },
          "geo": {
           "bgcolor": "white",
           "lakecolor": "white",
           "landcolor": "#E5ECF6",
           "showlakes": true,
           "showland": true,
           "subunitcolor": "white"
          },
          "hoverlabel": {
           "align": "left"
          },
          "hovermode": "closest",
          "mapbox": {
           "style": "light"
          },
          "paper_bgcolor": "white",
          "plot_bgcolor": "#E5ECF6",
          "polar": {
           "angularaxis": {
            "gridcolor": "white",
            "linecolor": "white",
            "ticks": ""
           },
           "bgcolor": "#E5ECF6",
           "radialaxis": {
            "gridcolor": "white",
            "linecolor": "white",
            "ticks": ""
           }
          },
          "scene": {
           "xaxis": {
            "backgroundcolor": "#E5ECF6",
            "gridcolor": "white",
            "gridwidth": 2,
            "linecolor": "white",
            "showbackground": true,
            "ticks": "",
            "zerolinecolor": "white"
           },
           "yaxis": {
            "backgroundcolor": "#E5ECF6",
            "gridcolor": "white",
            "gridwidth": 2,
            "linecolor": "white",
            "showbackground": true,
            "ticks": "",
            "zerolinecolor": "white"
           },
           "zaxis": {
            "backgroundcolor": "#E5ECF6",
            "gridcolor": "white",
            "gridwidth": 2,
            "linecolor": "white",
            "showbackground": true,
            "ticks": "",
            "zerolinecolor": "white"
           }
          },
          "shapedefaults": {
           "line": {
            "color": "#2a3f5f"
           }
          },
          "ternary": {
           "aaxis": {
            "gridcolor": "white",
            "linecolor": "white",
            "ticks": ""
           },
           "baxis": {
            "gridcolor": "white",
            "linecolor": "white",
            "ticks": ""
           },
           "bgcolor": "#E5ECF6",
           "caxis": {
            "gridcolor": "white",
            "linecolor": "white",
            "ticks": ""
           }
          },
          "title": {
           "x": 0.05
          },
          "xaxis": {
           "automargin": true,
           "gridcolor": "white",
           "linecolor": "white",
           "ticks": "",
           "title": {
            "standoff": 15
           },
           "zerolinecolor": "white",
           "zerolinewidth": 2
          },
          "yaxis": {
           "automargin": true,
           "gridcolor": "white",
           "linecolor": "white",
           "ticks": "",
           "title": {
            "standoff": 15
           },
           "zerolinecolor": "white",
           "zerolinewidth": 2
          }
         }
        },
        "title": {
         "text": "Elastic Net Performance"
        },
        "xaxis": {
         "anchor": "y",
         "domain": [
          0,
          1
         ],
         "title": {
          "text": "L1_Ratio"
         }
        },
        "yaxis": {
         "anchor": "x",
         "domain": [
          0,
          1
         ],
         "title": {
          "text": "R^2 value"
         }
        }
       }
      },
      "text/html": [
       "<div>                            <div id=\"f27e9561-8284-4e0d-afbb-b0410a568bf6\" class=\"plotly-graph-div\" style=\"height:525px; width:100%;\"></div>            <script type=\"text/javascript\">                require([\"plotly\"], function(Plotly) {                    window.PLOTLYENV=window.PLOTLYENV || {};                                    if (document.getElementById(\"f27e9561-8284-4e0d-afbb-b0410a568bf6\")) {                    Plotly.newPlot(                        \"f27e9561-8284-4e0d-afbb-b0410a568bf6\",                        [{\"hovertemplate\":\"variable=alpha_0.0001<br>L1_Ratio=%{x}<br>value=%{y}<extra></extra>\",\"legendgroup\":\"alpha_0.0001\",\"line\":{\"color\":\"#636efa\",\"dash\":\"solid\"},\"marker\":{\"symbol\":\"circle\"},\"mode\":\"lines\",\"name\":\"alpha_0.0001\",\"orientation\":\"v\",\"showlegend\":true,\"x\":[0.0,0.1,0.2,0.30000000000000004,0.4,0.5,0.6000000000000001,0.7000000000000001,0.8,0.9],\"xaxis\":\"x\",\"y\":[0.9342883355689173,0.9343726481743534,0.9344569584451206,0.9345313879965277,0.9346026988670031,0.9346755822950353,0.9347445591086947,0.9348163264083693,0.934896863144752,0.9349786253954073],\"yaxis\":\"y\",\"type\":\"scatter\"},{\"hovertemplate\":\"variable=alpha_0.001<br>L1_Ratio=%{x}<br>value=%{y}<extra></extra>\",\"legendgroup\":\"alpha_0.001\",\"line\":{\"color\":\"#EF553B\",\"dash\":\"solid\"},\"marker\":{\"symbol\":\"circle\"},\"mode\":\"lines\",\"name\":\"alpha_0.001\",\"orientation\":\"v\",\"showlegend\":true,\"x\":[0.0,0.1,0.2,0.30000000000000004,0.4,0.5,0.6000000000000001,0.7000000000000001,0.8,0.9],\"xaxis\":\"x\",\"y\":[0.9350866935959286,0.9357661985972154,0.936818286064254,0.9379873091264382,0.9390253158708465,0.9398432596458856,0.9403965421534825,0.940916210179946,0.9414056925587632,0.9417533100842326],\"yaxis\":\"y\",\"type\":\"scatter\"},{\"hovertemplate\":\"variable=alpha_0.01<br>L1_Ratio=%{x}<br>value=%{y}<extra></extra>\",\"legendgroup\":\"alpha_0.01\",\"line\":{\"color\":\"#00cc96\",\"dash\":\"solid\"},\"marker\":{\"symbol\":\"circle\"},\"mode\":\"lines\",\"name\":\"alpha_0.01\",\"orientation\":\"v\",\"showlegend\":true,\"x\":[0.0,0.1,0.2,0.30000000000000004,0.4,0.5,0.6000000000000001,0.7000000000000001,0.8,0.9],\"xaxis\":\"x\",\"y\":[0.9377760156817321,0.9408270595559427,0.941726464550827,0.9418517835366641,0.941902665795108,0.9420908865651662,0.9423097462588196,0.9425190623934764,0.9427048521934459,0.9427745833645936],\"yaxis\":\"y\",\"type\":\"scatter\"},{\"hovertemplate\":\"variable=alpha_0.1<br>L1_Ratio=%{x}<br>value=%{y}<extra></extra>\",\"legendgroup\":\"alpha_0.1\",\"line\":{\"color\":\"#ab63fa\",\"dash\":\"solid\"},\"marker\":{\"symbol\":\"circle\"},\"mode\":\"lines\",\"name\":\"alpha_0.1\",\"orientation\":\"v\",\"showlegend\":true,\"x\":[0.0,0.1,0.2,0.30000000000000004,0.4,0.5,0.6000000000000001,0.7000000000000001,0.8,0.9],\"xaxis\":\"x\",\"y\":[0.9217631118371094,0.9238510091757768,0.9226701210808337,0.9197215850047454,0.9151227205771922,0.9090026707534131,0.9006118773245386,0.8906105263532528,0.8791645600879594,0.8675387094594568],\"yaxis\":\"y\",\"type\":\"scatter\"},{\"hovertemplate\":\"variable=alpha_1<br>L1_Ratio=%{x}<br>value=%{y}<extra></extra>\",\"legendgroup\":\"alpha_1\",\"line\":{\"color\":\"#FFA15A\",\"dash\":\"solid\"},\"marker\":{\"symbol\":\"circle\"},\"mode\":\"lines\",\"name\":\"alpha_1\",\"orientation\":\"v\",\"showlegend\":true,\"x\":[0.0,0.1,0.2,0.30000000000000004,0.4,0.5,0.6000000000000001,0.7000000000000001,0.8,0.9],\"xaxis\":\"x\",\"y\":[0.8328465553640136,0.715295058243749,0.4428433211902603,0.07670168091640076,-0.02312048279034602,-0.02312048279034602,-0.02312048279034602,-0.02312048279034602,-0.02312048279034602,-0.02312048279034602],\"yaxis\":\"y\",\"type\":\"scatter\"},{\"hovertemplate\":\"variable=alpha_10<br>L1_Ratio=%{x}<br>value=%{y}<extra></extra>\",\"legendgroup\":\"alpha_10\",\"line\":{\"color\":\"#19d3f3\",\"dash\":\"solid\"},\"marker\":{\"symbol\":\"circle\"},\"mode\":\"lines\",\"name\":\"alpha_10\",\"orientation\":\"v\",\"showlegend\":true,\"x\":[0.0,0.1,0.2,0.30000000000000004,0.4,0.5,0.6000000000000001,0.7000000000000001,0.8,0.9],\"xaxis\":\"x\",\"y\":[0.598105770112834,-0.02312048279034602,-0.02312048279034602,-0.02312048279034602,-0.02312048279034602,-0.02312048279034602,-0.02312048279034602,-0.02312048279034602,-0.02312048279034602,-0.02312048279034602],\"yaxis\":\"y\",\"type\":\"scatter\"},{\"hovertemplate\":\"variable=alpha_100<br>L1_Ratio=%{x}<br>value=%{y}<extra></extra>\",\"legendgroup\":\"alpha_100\",\"line\":{\"color\":\"#FF6692\",\"dash\":\"solid\"},\"marker\":{\"symbol\":\"circle\"},\"mode\":\"lines\",\"name\":\"alpha_100\",\"orientation\":\"v\",\"showlegend\":true,\"x\":[0.0,0.1,0.2,0.30000000000000004,0.4,0.5,0.6000000000000001,0.7000000000000001,0.8,0.9],\"xaxis\":\"x\",\"y\":[0.1588203187221387,-0.02312048279034602,-0.02312048279034602,-0.02312048279034602,-0.02312048279034602,-0.02312048279034602,-0.02312048279034602,-0.02312048279034602,-0.02312048279034602,-0.02312048279034602],\"yaxis\":\"y\",\"type\":\"scatter\"}],                        {\"template\":{\"data\":{\"histogram2dcontour\":[{\"type\":\"histogram2dcontour\",\"colorbar\":{\"outlinewidth\":0,\"ticks\":\"\"},\"colorscale\":[[0.0,\"#0d0887\"],[0.1111111111111111,\"#46039f\"],[0.2222222222222222,\"#7201a8\"],[0.3333333333333333,\"#9c179e\"],[0.4444444444444444,\"#bd3786\"],[0.5555555555555556,\"#d8576b\"],[0.6666666666666666,\"#ed7953\"],[0.7777777777777778,\"#fb9f3a\"],[0.8888888888888888,\"#fdca26\"],[1.0,\"#f0f921\"]]}],\"choropleth\":[{\"type\":\"choropleth\",\"colorbar\":{\"outlinewidth\":0,\"ticks\":\"\"}}],\"histogram2d\":[{\"type\":\"histogram2d\",\"colorbar\":{\"outlinewidth\":0,\"ticks\":\"\"},\"colorscale\":[[0.0,\"#0d0887\"],[0.1111111111111111,\"#46039f\"],[0.2222222222222222,\"#7201a8\"],[0.3333333333333333,\"#9c179e\"],[0.4444444444444444,\"#bd3786\"],[0.5555555555555556,\"#d8576b\"],[0.6666666666666666,\"#ed7953\"],[0.7777777777777778,\"#fb9f3a\"],[0.8888888888888888,\"#fdca26\"],[1.0,\"#f0f921\"]]}],\"heatmap\":[{\"type\":\"heatmap\",\"colorbar\":{\"outlinewidth\":0,\"ticks\":\"\"},\"colorscale\":[[0.0,\"#0d0887\"],[0.1111111111111111,\"#46039f\"],[0.2222222222222222,\"#7201a8\"],[0.3333333333333333,\"#9c179e\"],[0.4444444444444444,\"#bd3786\"],[0.5555555555555556,\"#d8576b\"],[0.6666666666666666,\"#ed7953\"],[0.7777777777777778,\"#fb9f3a\"],[0.8888888888888888,\"#fdca26\"],[1.0,\"#f0f921\"]]}],\"heatmapgl\":[{\"type\":\"heatmapgl\",\"colorbar\":{\"outlinewidth\":0,\"ticks\":\"\"},\"colorscale\":[[0.0,\"#0d0887\"],[0.1111111111111111,\"#46039f\"],[0.2222222222222222,\"#7201a8\"],[0.3333333333333333,\"#9c179e\"],[0.4444444444444444,\"#bd3786\"],[0.5555555555555556,\"#d8576b\"],[0.6666666666666666,\"#ed7953\"],[0.7777777777777778,\"#fb9f3a\"],[0.8888888888888888,\"#fdca26\"],[1.0,\"#f0f921\"]]}],\"contourcarpet\":[{\"type\":\"contourcarpet\",\"colorbar\":{\"outlinewidth\":0,\"ticks\":\"\"}}],\"contour\":[{\"type\":\"contour\",\"colorbar\":{\"outlinewidth\":0,\"ticks\":\"\"},\"colorscale\":[[0.0,\"#0d0887\"],[0.1111111111111111,\"#46039f\"],[0.2222222222222222,\"#7201a8\"],[0.3333333333333333,\"#9c179e\"],[0.4444444444444444,\"#bd3786\"],[0.5555555555555556,\"#d8576b\"],[0.6666666666666666,\"#ed7953\"],[0.7777777777777778,\"#fb9f3a\"],[0.8888888888888888,\"#fdca26\"],[1.0,\"#f0f921\"]]}],\"surface\":[{\"type\":\"surface\",\"colorbar\":{\"outlinewidth\":0,\"ticks\":\"\"},\"colorscale\":[[0.0,\"#0d0887\"],[0.1111111111111111,\"#46039f\"],[0.2222222222222222,\"#7201a8\"],[0.3333333333333333,\"#9c179e\"],[0.4444444444444444,\"#bd3786\"],[0.5555555555555556,\"#d8576b\"],[0.6666666666666666,\"#ed7953\"],[0.7777777777777778,\"#fb9f3a\"],[0.8888888888888888,\"#fdca26\"],[1.0,\"#f0f921\"]]}],\"mesh3d\":[{\"type\":\"mesh3d\",\"colorbar\":{\"outlinewidth\":0,\"ticks\":\"\"}}],\"scatter\":[{\"fillpattern\":{\"fillmode\":\"overlay\",\"size\":10,\"solidity\":0.2},\"type\":\"scatter\"}],\"parcoords\":[{\"type\":\"parcoords\",\"line\":{\"colorbar\":{\"outlinewidth\":0,\"ticks\":\"\"}}}],\"scatterpolargl\":[{\"type\":\"scatterpolargl\",\"marker\":{\"colorbar\":{\"outlinewidth\":0,\"ticks\":\"\"}}}],\"bar\":[{\"error_x\":{\"color\":\"#2a3f5f\"},\"error_y\":{\"color\":\"#2a3f5f\"},\"marker\":{\"line\":{\"color\":\"#E5ECF6\",\"width\":0.5},\"pattern\":{\"fillmode\":\"overlay\",\"size\":10,\"solidity\":0.2}},\"type\":\"bar\"}],\"scattergeo\":[{\"type\":\"scattergeo\",\"marker\":{\"colorbar\":{\"outlinewidth\":0,\"ticks\":\"\"}}}],\"scatterpolar\":[{\"type\":\"scatterpolar\",\"marker\":{\"colorbar\":{\"outlinewidth\":0,\"ticks\":\"\"}}}],\"histogram\":[{\"marker\":{\"pattern\":{\"fillmode\":\"overlay\",\"size\":10,\"solidity\":0.2}},\"type\":\"histogram\"}],\"scattergl\":[{\"type\":\"scattergl\",\"marker\":{\"colorbar\":{\"outlinewidth\":0,\"ticks\":\"\"}}}],\"scatter3d\":[{\"type\":\"scatter3d\",\"line\":{\"colorbar\":{\"outlinewidth\":0,\"ticks\":\"\"}},\"marker\":{\"colorbar\":{\"outlinewidth\":0,\"ticks\":\"\"}}}],\"scattermapbox\":[{\"type\":\"scattermapbox\",\"marker\":{\"colorbar\":{\"outlinewidth\":0,\"ticks\":\"\"}}}],\"scatterternary\":[{\"type\":\"scatterternary\",\"marker\":{\"colorbar\":{\"outlinewidth\":0,\"ticks\":\"\"}}}],\"scattercarpet\":[{\"type\":\"scattercarpet\",\"marker\":{\"colorbar\":{\"outlinewidth\":0,\"ticks\":\"\"}}}],\"carpet\":[{\"aaxis\":{\"endlinecolor\":\"#2a3f5f\",\"gridcolor\":\"white\",\"linecolor\":\"white\",\"minorgridcolor\":\"white\",\"startlinecolor\":\"#2a3f5f\"},\"baxis\":{\"endlinecolor\":\"#2a3f5f\",\"gridcolor\":\"white\",\"linecolor\":\"white\",\"minorgridcolor\":\"white\",\"startlinecolor\":\"#2a3f5f\"},\"type\":\"carpet\"}],\"table\":[{\"cells\":{\"fill\":{\"color\":\"#EBF0F8\"},\"line\":{\"color\":\"white\"}},\"header\":{\"fill\":{\"color\":\"#C8D4E3\"},\"line\":{\"color\":\"white\"}},\"type\":\"table\"}],\"barpolar\":[{\"marker\":{\"line\":{\"color\":\"#E5ECF6\",\"width\":0.5},\"pattern\":{\"fillmode\":\"overlay\",\"size\":10,\"solidity\":0.2}},\"type\":\"barpolar\"}],\"pie\":[{\"automargin\":true,\"type\":\"pie\"}]},\"layout\":{\"autotypenumbers\":\"strict\",\"colorway\":[\"#636efa\",\"#EF553B\",\"#00cc96\",\"#ab63fa\",\"#FFA15A\",\"#19d3f3\",\"#FF6692\",\"#B6E880\",\"#FF97FF\",\"#FECB52\"],\"font\":{\"color\":\"#2a3f5f\"},\"hovermode\":\"closest\",\"hoverlabel\":{\"align\":\"left\"},\"paper_bgcolor\":\"white\",\"plot_bgcolor\":\"#E5ECF6\",\"polar\":{\"bgcolor\":\"#E5ECF6\",\"angularaxis\":{\"gridcolor\":\"white\",\"linecolor\":\"white\",\"ticks\":\"\"},\"radialaxis\":{\"gridcolor\":\"white\",\"linecolor\":\"white\",\"ticks\":\"\"}},\"ternary\":{\"bgcolor\":\"#E5ECF6\",\"aaxis\":{\"gridcolor\":\"white\",\"linecolor\":\"white\",\"ticks\":\"\"},\"baxis\":{\"gridcolor\":\"white\",\"linecolor\":\"white\",\"ticks\":\"\"},\"caxis\":{\"gridcolor\":\"white\",\"linecolor\":\"white\",\"ticks\":\"\"}},\"coloraxis\":{\"colorbar\":{\"outlinewidth\":0,\"ticks\":\"\"}},\"colorscale\":{\"sequential\":[[0.0,\"#0d0887\"],[0.1111111111111111,\"#46039f\"],[0.2222222222222222,\"#7201a8\"],[0.3333333333333333,\"#9c179e\"],[0.4444444444444444,\"#bd3786\"],[0.5555555555555556,\"#d8576b\"],[0.6666666666666666,\"#ed7953\"],[0.7777777777777778,\"#fb9f3a\"],[0.8888888888888888,\"#fdca26\"],[1.0,\"#f0f921\"]],\"sequentialminus\":[[0.0,\"#0d0887\"],[0.1111111111111111,\"#46039f\"],[0.2222222222222222,\"#7201a8\"],[0.3333333333333333,\"#9c179e\"],[0.4444444444444444,\"#bd3786\"],[0.5555555555555556,\"#d8576b\"],[0.6666666666666666,\"#ed7953\"],[0.7777777777777778,\"#fb9f3a\"],[0.8888888888888888,\"#fdca26\"],[1.0,\"#f0f921\"]],\"diverging\":[[0,\"#8e0152\"],[0.1,\"#c51b7d\"],[0.2,\"#de77ae\"],[0.3,\"#f1b6da\"],[0.4,\"#fde0ef\"],[0.5,\"#f7f7f7\"],[0.6,\"#e6f5d0\"],[0.7,\"#b8e186\"],[0.8,\"#7fbc41\"],[0.9,\"#4d9221\"],[1,\"#276419\"]]},\"xaxis\":{\"gridcolor\":\"white\",\"linecolor\":\"white\",\"ticks\":\"\",\"title\":{\"standoff\":15},\"zerolinecolor\":\"white\",\"automargin\":true,\"zerolinewidth\":2},\"yaxis\":{\"gridcolor\":\"white\",\"linecolor\":\"white\",\"ticks\":\"\",\"title\":{\"standoff\":15},\"zerolinecolor\":\"white\",\"automargin\":true,\"zerolinewidth\":2},\"scene\":{\"xaxis\":{\"backgroundcolor\":\"#E5ECF6\",\"gridcolor\":\"white\",\"linecolor\":\"white\",\"showbackground\":true,\"ticks\":\"\",\"zerolinecolor\":\"white\",\"gridwidth\":2},\"yaxis\":{\"backgroundcolor\":\"#E5ECF6\",\"gridcolor\":\"white\",\"linecolor\":\"white\",\"showbackground\":true,\"ticks\":\"\",\"zerolinecolor\":\"white\",\"gridwidth\":2},\"zaxis\":{\"backgroundcolor\":\"#E5ECF6\",\"gridcolor\":\"white\",\"linecolor\":\"white\",\"showbackground\":true,\"ticks\":\"\",\"zerolinecolor\":\"white\",\"gridwidth\":2}},\"shapedefaults\":{\"line\":{\"color\":\"#2a3f5f\"}},\"annotationdefaults\":{\"arrowcolor\":\"#2a3f5f\",\"arrowhead\":0,\"arrowwidth\":1},\"geo\":{\"bgcolor\":\"white\",\"landcolor\":\"#E5ECF6\",\"subunitcolor\":\"white\",\"showland\":true,\"showlakes\":true,\"lakecolor\":\"white\"},\"title\":{\"x\":0.05},\"mapbox\":{\"style\":\"light\"}}},\"xaxis\":{\"anchor\":\"y\",\"domain\":[0.0,1.0],\"title\":{\"text\":\"L1_Ratio\"}},\"yaxis\":{\"anchor\":\"x\",\"domain\":[0.0,1.0],\"title\":{\"text\":\"R^2 value\"}},\"legend\":{\"title\":{\"text\":\"variable\"},\"tracegroupgap\":0},\"title\":{\"text\":\"Elastic Net Performance\"}},                        {\"responsive\": true}                    ).then(function(){\n",
       "                            \n",
       "var gd = document.getElementById('f27e9561-8284-4e0d-afbb-b0410a568bf6');\n",
       "var x = new MutationObserver(function (mutations, observer) {{\n",
       "        var display = window.getComputedStyle(gd).display;\n",
       "        if (!display || display === 'none') {{\n",
       "            console.log([gd, 'removed!']);\n",
       "            Plotly.purge(gd);\n",
       "            observer.disconnect();\n",
       "        }}\n",
       "}});\n",
       "\n",
       "// Listen for the removal of the full notebook cells\n",
       "var notebookContainer = gd.closest('#notebook-container');\n",
       "if (notebookContainer) {{\n",
       "    x.observe(notebookContainer, {childList: true});\n",
       "}}\n",
       "\n",
       "// Listen for the clearing of the current output cell\n",
       "var outputEl = gd.closest('.output');\n",
       "if (outputEl) {{\n",
       "    x.observe(outputEl, {childList: true});\n",
       "}}\n",
       "\n",
       "                        })                };                });            </script>        </div>"
      ]
     },
     "metadata": {},
     "output_type": "display_data"
    }
   ],
   "source": [
    "alphas = [0.0001, 0.001, 0.01, 0.1, 1, 10, 100]\n",
    "l1_ratios = np.arange(0.0, 1.0, 0.1)\n",
    "\n",
    "eNet = ElasticNet()\n",
    "\n",
    "with warnings.catch_warnings():\n",
    "    warnings.simplefilter(\"ignore\")\n",
    "    grid = GridSearchCV(eNet, {\"alpha\": alphas,\n",
    "                               \"l1_ratio\": l1_ratios},\n",
    "                        scoring='r2', cv=10)\n",
    "    grid.fit(trainX, trainY)\n",
    "    \n",
    "# predY = grid.predict(testX)\n",
    "\n",
    "\n",
    "scores_mean = grid.cv_results_['mean_test_score'].reshape(len(alphas),\n",
    "                                                          len(l1_ratios))\n",
    "\n",
    "\n",
    "elastic_net_performance = pd.DataFrame({\n",
    "    \"L1_Ratio\" : l1_ratios\n",
    "})\n",
    "\n",
    "for idx, val in enumerate(alphas):\n",
    "    alpha_str = \"alpha_\" + str(val)\n",
    "    elastic_net_performance[alpha_str] = scores_mean[idx,:]\n",
    "    \n",
    "fig = px.line(elastic_net_performance, x=\"L1_Ratio\",\n",
    "                  y=[col for col in elastic_net_performance.columns if 'alpha' in col],\n",
    "                 title=\"Elastic Net Performance\").update_layout(\n",
    "    yaxis_title=\"R^2 value\"\n",
    ")\n",
    "fig.show()\n"
   ]
  },
  {
   "cell_type": "code",
   "execution_count": 69,
   "id": "11a0b79c",
   "metadata": {},
   "outputs": [
    {
     "name": "stdout",
     "output_type": "stream",
     "text": [
      "Datetime\n",
      "2024-06-06 09:30:00-04:00    196.130005\n",
      "2024-06-06 09:31:00-04:00    196.259995\n",
      "2024-06-06 09:32:00-04:00    196.108200\n",
      "2024-06-06 09:33:00-04:00    195.899994\n",
      "2024-06-06 09:34:00-04:00    195.770004\n",
      "                                ...    \n",
      "2024-06-06 15:55:00-04:00    194.320007\n",
      "2024-06-06 15:56:00-04:00    194.175003\n",
      "2024-06-06 15:57:00-04:00    194.410004\n",
      "2024-06-06 15:58:00-04:00    194.345001\n",
      "2024-06-06 15:59:00-04:00    194.479996\n",
      "Name: Close, Length: 390, dtype: float64\n",
      "Datetime\n",
      "2024-06-06 09:30:00-04:00    196.130005\n",
      "2024-06-06 09:31:00-04:00    196.259995\n",
      "2024-06-06 09:32:00-04:00    196.108200\n",
      "2024-06-06 09:33:00-04:00    195.899994\n",
      "2024-06-06 09:34:00-04:00    195.770004\n",
      "2024-06-06 09:35:00-04:00    195.486801\n",
      "2024-06-06 09:36:00-04:00    195.576096\n",
      "2024-06-06 09:37:00-04:00    195.529999\n",
      "2024-06-06 09:38:00-04:00    195.529999\n",
      "2024-06-06 09:39:00-04:00    195.520004\n",
      "Name: Close, dtype: float64\n"
     ]
    }
   ],
   "source": []
  },
  {
   "cell_type": "code",
   "execution_count": null,
   "id": "f7ce7582",
   "metadata": {},
   "outputs": [],
   "source": []
  }
 ],
 "metadata": {
  "kernelspec": {
   "display_name": "Python 3 (ipykernel)",
   "language": "python",
   "name": "python3"
  },
  "language_info": {
   "codemirror_mode": {
    "name": "ipython",
    "version": 3
   },
   "file_extension": ".py",
   "mimetype": "text/x-python",
   "name": "python",
   "nbconvert_exporter": "python",
   "pygments_lexer": "ipython3",
   "version": "3.10.7"
  }
 },
 "nbformat": 4,
 "nbformat_minor": 5
}
