{
 "cells": [
  {
   "cell_type": "code",
   "execution_count": 1,
   "id": "de15fa7d",
   "metadata": {},
   "outputs": [
    {
     "data": {
      "application/javascript": [
       "IPython.OutputArea.prototype._should_scroll = function(lines) {\n",
       "    return false;\n",
       "}\n"
      ],
      "text/plain": [
       "<IPython.core.display.Javascript object>"
      ]
     },
     "metadata": {},
     "output_type": "display_data"
    }
   ],
   "source": [
    "%%javascript\n",
    "IPython.OutputArea.prototype._should_scroll = function(lines) {\n",
    "    return false;\n",
    "}"
   ]
  },
  {
   "cell_type": "markdown",
   "id": "8c9580c2",
   "metadata": {},
   "source": [
    "## Import Libraries"
   ]
  },
  {
   "cell_type": "code",
   "execution_count": 6,
   "id": "1731c502",
   "metadata": {},
   "outputs": [],
   "source": [
    "import yfinance as yf\n",
    "import pandas as pd\n",
    "import numpy as np\n",
    "import sys\n",
    "import warnings\n",
    "import plotly.express as px\n",
    "\n",
    "import matplotlib.dates as mdates\n",
    "import matplotlib.pyplot as plt\n",
    "from datetime import date, datetime, timedelta\n",
    "from sklearn import preprocessing\n",
    "from sklearn import linear_model\n",
    "from sklearn.model_selection import train_test_split\n",
    "from sklearn.model_selection import RepeatedKFold\n",
    "from sklearn.linear_model import ElasticNet\n",
    "from sklearn.model_selection import GridSearchCV\n",
    "from plotnine import *\n",
    "from sklearn.metrics import make_scorer, mean_squared_error\n",
    "# from plotly.tools import mpl_to_plotly as ggplotly\n"
   ]
  },
  {
   "cell_type": "markdown",
   "id": "2a16b749",
   "metadata": {},
   "source": [
    "## Add Data Wrappers"
   ]
  },
  {
   "cell_type": "code",
   "execution_count": 7,
   "id": "eded60f9",
   "metadata": {},
   "outputs": [],
   "source": [
    "class StockDataWrapper:\n",
    "    \"\"\"\n",
    "    A wrapper class to bundle stock data (stored in a pandas DataFrame) together with information\n",
    "    about how the data was collected (such as what the time frame is between two data points)\n",
    "\n",
    "    A StockDataWrapper class at the minimum requires a pandas DataFrame (the primary object we are \n",
    "    interested in wrapping) as well as the respective stock symbol passed as a string so that we are\n",
    "    able to easily refer to the specific stock in later formatting. \n",
    "    \n",
    "        IMPORTANT: It is expected that the lag_lengthand num_days are set whenever the stock data is\n",
    "                loaded into the data_frame object\n",
    "    \n",
    "    Certain variables must be set (either from user input or a configuration file) prior to calling\n",
    "    a handful of methods. Specifically, the lag length must be set prior to calling any functions which\n",
    "    utilize prior data (e.g. MACD, simple_moving_average, exponential_moving_average, etc.)\n",
    "    \n",
    "    \n",
    "    Attributes:\n",
    "        data_frame:    A pandas DataFrame object containing stocks data such as Open, Close,\n",
    "            Volume, High, Low, etc.\n",
    "            \n",
    "        stock_symbol:   A string representing the stock's symbol (i.e. AAPL for Apple)\n",
    "        \n",
    "        granularity:    The time interval between two data points [1m, 2m, 5m, 15m, 30m, 1h]\n",
    "        \n",
    "        num_days:    The number of days of stock data that have been pulled \n",
    "        \n",
    "        lag_length:    The number of previous data points that are availible to use for computations\n",
    "            (such as moving averages)\n",
    "    \"\"\"\n",
    "    \n",
    "\n",
    "    def __init__(self, data_frame, stock_symbol):\n",
    "        \"\"\"\n",
    "        Initializes the instance based on a pandas DataFrame.\n",
    "\n",
    "        Args:\n",
    "            data_frame: a pandas DataFrame object\n",
    "            stock_symbol: a string representing the stock's symbol (i.e. AAPL for Apple)\n",
    "        Raises:\n",
    "            ValueError: if one of the arguments is not the specified data type\n",
    "        \"\"\"\n",
    "        \n",
    "        #################\n",
    "        #  ERROR HANDLING\n",
    "        #################\n",
    "        if not isinstance(data_frame, pd.DataFrame):\n",
    "            raise ValueError(\"data_frame must be a pandas DataFrame object\")\n",
    "        if not isinstance(stock_symbol, str):\n",
    "            raise ValueError(\"stock_symbol must be a string\")\n",
    "            \n",
    "        self.data_frame = data_frame\n",
    "        self.stock_symbol = stock_symbol\n",
    "        # granularity and num_days should be set \n",
    "        self.granularity = 0\n",
    "        self.num_days = 0\n",
    "        self.lag_length = 0\n",
    "\n",
    "    def __str__(self):\n",
    "        \"\"\"\n",
    "        Indicataes how to represent a StockDataWrapper object when\n",
    "        passed as a string to print\n",
    "        \n",
    "        Returns:\n",
    "            String concatenating the __str__ of the pandas DataFrame together with\n",
    "            information on the StockDataWrapper's Varaibles\n",
    "        \"\"\"\n",
    "        my_str = f'Stock Name: {self.stock_symbol}\\n'\n",
    "        \n",
    "        # Check whether several variables have been set\n",
    "        if self.granularity == 0:\n",
    "            my_str += \"Granularity: NOT SET\\n\"\n",
    "        else:\n",
    "            my_str += f\"Granularity: {self.granularity}\\n\"\n",
    "        \n",
    "        if self.num_days == 0:\n",
    "            my_str += \"Number of days of stock data: NOT SET\\n\"\n",
    "        else:\n",
    "            my_str += f\"Number of days of stock data: {self.num_days}\\n\"\n",
    "        \n",
    "        if self.lag_length == 0:\n",
    "            my_str += \"Number of lag variables: NOT SET\\n\"\n",
    "        else:\n",
    "            my_str += f\"Number of lag variables: {self.lag_length}\\n\"\n",
    "        \n",
    "        \n",
    "        # Call the underlying Pandas DataFrame object's __str__\n",
    "        my_str += \"\\n\\n\"\n",
    "        my_str += str(self.data_frame)\n",
    "\n",
    "        return my_str\n",
    "    \n",
    "    \n",
    "    \n",
    "    def add_lag_variables(self, num_lags):\n",
    "        \"\"\"\n",
    "        Adds precisely num_lags lag variables to the underlying data frame. \n",
    "        The lag variables are simply additional columns where the entries are shifted\n",
    "        up in time index.\n",
    "        \n",
    "            WARNING: A large number of lag variables can lead to fragmentation in the \n",
    "                DataFrame\n",
    "        \n",
    "        The (column) names of the lag variables that are added are of the form:\n",
    "                            Close_L#\n",
    "        where # is how far back that particular lag variable is looking.\n",
    "\n",
    "        Args:\n",
    "            num_lags: the number of lag variables we wish to add\n",
    "        Raises:\n",
    "            ValueError: if num_lags is not an integer or is larger than the number of\n",
    "                observations or is negative\n",
    "        \"\"\"\n",
    "        \n",
    "        #################\n",
    "        #  ERROR HANDLING\n",
    "        #################\n",
    "        if not isinstance(num_lags, int):\n",
    "            raise ValueError(\"Parameter length must be integer\")\n",
    "        if num_lags < 1 or num_lags >= self.data_frame.shape[0]:\n",
    "            raise ValueError(\"The number of lag variables must be between\" +\n",
    "                            \" 1 and the total number of observations\")\n",
    "\n",
    "        for i in range(1,num_lags + 1):\n",
    "            index_str = \"Close_L\" + str(i)\n",
    "            self.data_frame[index_str] = self.data_frame['Close'].shift(i)\n",
    "\n",
    "        # Backfill the entries to remove any NaN\n",
    "        self.data_frame = self.data_frame.bfill(axis=0)\n",
    "        \n",
    "    \n",
    "    def delete_lag_variables(self):\n",
    "        \"\"\"\n",
    "        Removes any possible lag variables from the Data_Frame. This method\n",
    "        implicitly assumes that all lag variables follow the naming convention\n",
    "        \n",
    "                        Close_L#\n",
    "                        \n",
    "        where # is how far back that particular lag variable is looking.\n",
    "        \"\"\"\n",
    "        existing_lag_names = list(self.data_frame.filter(regex='Close_L'))\n",
    "        \n",
    "        if (len(existing_lag_names) > 0):  \n",
    "            self.data_frame = self.data_frame[\n",
    "                self.data_frame.columns.drop(existing_lag_names)\n",
    "            ]\n",
    "            # Reset lag_length so that other methods know not to compute\n",
    "            # data from lag variables\n",
    "            self.lag_length = 0\n",
    "    \n",
    "    def add_simple_moving_average(self, length):\n",
    "        \"\"\"\n",
    "        Computes the simple moving average of the stock's closing price (i.e.\n",
    "        the mean of the first 'length number' of lag variables) and adds it to a\n",
    "        new column in our pandas DataFrame. The column that is added follows\n",
    "        the naming convention:\n",
    "        \n",
    "                            SMA_(length)\n",
    "                            \n",
    "        where length is the parameter passed.\n",
    "\n",
    "        Args:\n",
    "            length: the number of days to take the simple moving average \n",
    "                over (equivalently, the number of lag variables we are considering)\n",
    "        Raises:\n",
    "            ValueError: if length is not an integer or is larger than the number of\n",
    "                lag variables availible\n",
    "            NameError: if lag_length has not been set yet (i.e. no lag variables have\n",
    "                been added)\n",
    "        \"\"\"\n",
    "        \n",
    "        #################\n",
    "        #  ERROR HANDLING\n",
    "        #################\n",
    "        if not isinstance(length, int):\n",
    "            raise ValueError(\"Parameter length must be integer\")\n",
    "        if self.lag_length == 0:\n",
    "            raise NameError(\"Lag variables must be set prior to adding simple moving average\")\n",
    "        if length > self.lag_length:\n",
    "            raise ValueError(\"Cannot take the average of more lag varaibles than are availible\" + \n",
    "                  f\" (currently {self.lag_length})\\n\")\n",
    "\n",
    "        # Gather the column names that we wish to take the average over\n",
    "        lag_predictors = []\n",
    "        for i in range(1, length + 1):\n",
    "            lag_name = 'Close_L' + str(i)\n",
    "            lag_predictors.append(lag_name)\n",
    "\n",
    "        # Add new column to data frame\n",
    "        column_label = \"SMA_\"  + str(length)\n",
    "        self.data_frame[column_label] = (self.data_frame[lag_predictors].sum(axis = 1,\n",
    "                                                                             skipna = True) / float(length))\n",
    "\n",
    "    \n",
    "    def add_simple_moving_standard_deviation(self, length):\n",
    "        \"\"\"\n",
    "        Computes the simple moving standard deviation of the stock's closing\n",
    "        price (i.e. the standard deviation of the first 'length number' of lag variables)\n",
    "        and adds it to a new column in our pandas DataFrame. The column that is added follows\n",
    "        the naming convention:\n",
    "        \n",
    "                            SMSD_(length)\n",
    "                            \n",
    "        where length is the parameter passed.\n",
    "\n",
    "        Args:\n",
    "            length: the number of days to take the simple moving standard deviation \n",
    "                over (equivalently, the number of lag variables we are considering)\n",
    "        Raises:\n",
    "            ValueError: if length is not an integer or is larger than the number of\n",
    "                lag variables availible\n",
    "            NameError: if lag_length has not been set yet (i.e. no lag variables have\n",
    "                been added)\n",
    "        \"\"\"\n",
    "        \n",
    "        #################\n",
    "        #  ERROR HANDLING\n",
    "        #################\n",
    "        if not isinstance(length, int):\n",
    "            raise ValueError(\"Parameter length must be integer\")\n",
    "        if self.lag_length == 0:\n",
    "            raise NameError(\"Lag variables must be set prior to adding simple moving average\")\n",
    "        if length > self.lag_length:\n",
    "            raise ValueError(\"Cannot take the average of more lag varaibles than are availible\" + \n",
    "                  f\" (currently {self.lag_length})\\n\")\n",
    "        \n",
    "        # Gather the column names that we wish to take the average over\n",
    "        lag_predictors = []\n",
    "        for i in range(1, length + 1):\n",
    "            lag_name = 'Close_L' + str(i)\n",
    "            lag_predictors.append(lag_name)\n",
    "            \n",
    "        # Add new column to data frame\n",
    "        column_label = \"SMSD_\"  + str(length)\n",
    "        self.data_frame[column_label] = self.data_frame[lag_predictors].std(axis = 1, skipna = True)\n",
    "          \n",
    "        \n",
    "    def add_upper_bollinger(self, length):\n",
    "        \"\"\"\n",
    "        Computes the upper Bollinger band of the stock's closing price, which is just the\n",
    "        simple moving average + the simple moving standard deviation and adds it to a new\n",
    "        column in our pandas DataFrame. The column that is added follows the naming convention:\n",
    "        \n",
    "                            upper_boll_(length)\n",
    "                            \n",
    "        where length is the parameter passed.\n",
    "\n",
    "        Args:\n",
    "            length: the number of days to take the bollinger band over \n",
    "                (equivalently, the number of lag variables we are considering)\n",
    "        Raises:\n",
    "            ValueError: if length is not an integer or is larger than the number of\n",
    "                lag variables availible\n",
    "            NameError: if lag_length has not been set yet (i.e. no lag variables have\n",
    "                been added)\n",
    "        \"\"\"\n",
    "        \n",
    "        #################\n",
    "        #  ERROR HANDLING\n",
    "        #################\n",
    "        if not isinstance(length, int):\n",
    "            raise ValueError(\"Parameter length must be integer\")\n",
    "        if self.lag_length == 0:\n",
    "            raise NameError(\"Lag variables must be set prior to adding simple moving average\")\n",
    "        if length > self.lag_length:\n",
    "            raise ValueError(\"Cannot take the average of more lag varaibles than are availible\" + \n",
    "                  f\" (currently {self.lag_length})\\n\")\n",
    "\n",
    "        SMSD_string = \"SMSD_\" + str(length)\n",
    "        SMA_string = \"SMA_\" + str(length)\n",
    "        \n",
    "        # Ensure that both the simple moving average data and\n",
    "        # the simple moving standard deviation data are availible in \n",
    "        # DataFrame\n",
    "        if SMSD_string not in self.data_frame.columns:\n",
    "            self.add_simple_moving_standard_deviation(length)\n",
    "        if SMA_string not in self.data_frame.columns:\n",
    "            self.add_simple_moving_average(length)\n",
    "\n",
    "        # Add new column to data frame\n",
    "        upper_bollinger_str = \"upper_boll_\" + str(length)\n",
    "        self.data_frame[upper_bollinger_str] = self.data_frame[SMA_string] + self.data_frame[SMSD_string]\n",
    "        \n",
    "        \n",
    "    def add_lower_bollinger(self, length):\n",
    "        \"\"\"\n",
    "        Computes the lower Bollinger band of the stock's closing price, which is just the \n",
    "        simple moving average + the simple moving standard deviation and adds it to a new\n",
    "        column in our pandas DataFrame. The column that is added follows the naming convention:\n",
    "        \n",
    "                            lower_boll_(length)\n",
    "                            \n",
    "        where length is the parameter passed.\n",
    "\n",
    "        Args:\n",
    "            length: the number of days to take the bollinger band over \n",
    "                (equivalently, the number of lag variables we are considering)\n",
    "        Raises:\n",
    "            ValueError: if length is not an integer or is larger than the number of\n",
    "                lag variables availible\n",
    "            NameError: if lag_length has not been set yet (i.e. no lag variables have\n",
    "                been added)\n",
    "        \"\"\"\n",
    "    \n",
    "        #################\n",
    "        #  ERROR HANDLING\n",
    "        #################\n",
    "        if not isinstance(length, int):\n",
    "            raise ValueError(\"Parameter length must be integer\")\n",
    "        if self.lag_length == 0:\n",
    "            raise NameError(\"Lag variables must be set prior to adding simple moving average\")\n",
    "        if length > self.lag_length:\n",
    "            raise ValueError(\"Cannot take the average of more lag varaibles than are availible\" + \n",
    "                  f\" (currently {self.lag_length})\\n\")\n",
    "\n",
    "        SMSD_string = \"SMSD_\" + str(length)\n",
    "        SMA_string = \"SMA_\" + str(length)\n",
    "        \n",
    "        # Ensure that both the simple moving average data and\n",
    "        # the simple moving standard deviation data are availible in \n",
    "        # DataFrame\n",
    "        if SMSD_string not in self.data_frame.columns:\n",
    "            self.add_simple_moving_standard_deviation(length)\n",
    "        if SMA_string not in self.data_frame.columns:\n",
    "            self.add_simple_moving_average(length)\n",
    "\n",
    "        # Add new column to data frame\n",
    "        lower_bollinger_str = \"lower_boll_\" + str(length)\n",
    "        self.data_frame[lower_bollinger_str] = self.data_frame[SMA_string] - self.data_frame[SMSD_string]\n",
    "        \n",
    "        \n",
    "    def _exponential_moving_average_helper_(self, input_vec, smoothing_factor):\n",
    "        \"\"\"\n",
    "        Helper function \n",
    "\n",
    "        Args:\n",
    "            input_vec: \n",
    "            \n",
    "            smoothing_factor: \n",
    "\n",
    "        \"\"\"\n",
    "        \n",
    "        vec_len = input_vec.shape[0]\n",
    "        output_vec = list(range(vec_len))\n",
    "        output_vec[0] = input_vec.iloc[0]\n",
    "\n",
    "        for i in range(1,vec_len):\n",
    "            output_vec[i] = smoothing_factor * input_vec.iloc[i] + (1 - smoothing_factor) * output_vec[i-1]\n",
    "\n",
    "        return(output_vec[-1])\n",
    "\n",
    "\n",
    "\n",
    "    def add_exponential_moving_average(self, lag_length):\n",
    "        if not isinstance(lag_length, int):\n",
    "            raise ValueError(\"Parameter lag_length must be integer\")\n",
    "        if self.lag_length == 0:\n",
    "            raise NameError(\"Lag variables must be set prior to adding exponental moving average\")\n",
    "        if lag_length > self.lag_length:\n",
    "            raise ValueError(\"Cannot take the average of more lag varaibles than are availible\" + \n",
    "                      f\" (currently {self.lag_length})\\n\")\n",
    "\n",
    "        column_label = \"EMA_\"  + str(lag_length)\n",
    "        length = self.data_frame.shape[0]\n",
    "        smoothing_factor = float(2/(lag_length + 1))\n",
    "\n",
    "\n",
    "        buffer = list(range(length))\n",
    "        buffer[0] = self.data_frame[\"Close\"].iloc[0]\n",
    "        buffer[1] = self.data_frame[\"Close\"].iloc[0]\n",
    "\n",
    "\n",
    "        for i in range(2, length):\n",
    "            # If there are less that lag_period of data previous to the current date,\n",
    "            # simply take the average of all the days prior to get the closest thing\n",
    "            # to a running average\n",
    "\n",
    "\n",
    "            if i <= lag_length:\n",
    "                buffer[i] = self._exponential_moving_average_helper_(\n",
    "                    self.data_frame[\"Close\"].iloc[0:i],\n",
    "                    2/(i + 1)\n",
    "                )\n",
    "            else:\n",
    "                buffer[i] = self._exponential_moving_average_helper_(\n",
    "                    self.data_frame[\"Close\"].iloc[i-lag_length:i],\n",
    "                    smoothing_factor\n",
    "                )\n",
    "\n",
    "\n",
    "        self.data_frame[column_label] = buffer\n",
    "\n",
    "\n",
    "    def add_MACD(self, max_lag, min_lag):\n",
    "        \n",
    "        if not isinstance(max_lag, int) or not isinstance(min_lag, int):\n",
    "            raise ValueError(\"Parameters max_lag and min_lag must be integer\")\n",
    "        if min_lag >= max_lag:\n",
    "            raise ValueError(\"min_lag must be strictly smaller than max_lag\")\n",
    "\n",
    "        EMA_string_min = \"EMA_\" + str(min_lag)\n",
    "        EMA_string_max = \"EMA_\" + str(max_lag)\n",
    "        column_label = \"MACD_\"  + str(min_lag) + \"_\" + str(max_lag)\n",
    "\n",
    "        if EMA_string_min not in self.data_frame.columns:\n",
    "            self.add_exponential_moving_average(min_lag)\n",
    "\n",
    "        if EMA_string_max not in self.data_frame.columns:\n",
    "            self.add_exponential_moving_average(max_lag)\n",
    "\n",
    "        self.data_frame[column_label] = (self.data_frame[EMA_string_min] - self.data_frame[EMA_string_max])\n"
   ]
  },
  {
   "cell_type": "markdown",
   "id": "f3ab2562",
   "metadata": {},
   "source": [
    "## Import Data from User Input"
   ]
  },
  {
   "cell_type": "code",
   "execution_count": 8,
   "id": "35e55b84",
   "metadata": {},
   "outputs": [],
   "source": [
    "def create_stock_data_from_input():\n",
    "\n",
    "    prompting_user_input = True\n",
    "\n",
    "    while prompting_user_input:\n",
    "        num_days_to_build = input(\"How many days of intraday stock market data should \" + \n",
    "                                  \" we use to build our model? Enter a value between \" +\n",
    "                                  \" 1 and 7:\\n(Type 'Exit' to quit)\\n\")\n",
    "\n",
    "        if num_days_to_build.isnumeric():\n",
    "            num_days_to_build = int(num_days_to_build)\n",
    "            if num_days_to_build > 0 and num_days_to_build < 8:\n",
    "                prompting_user_input = False\n",
    "            else:\n",
    "                print(\"The number of days must be between 1 and 7 \"+\n",
    "                      \"— please retry. \\n (Type 'Exit' to quit)\\n\")\n",
    "        elif \"exit\" in num_days_to_build.lower():\n",
    "            sys.exit(\"Exiting program\")\n",
    "        else:\n",
    "            print(\"Non-integer passed as input — please retry. \\n(Type 'Exit' to quit)\\n\")\n",
    "\n",
    "\n",
    "    today = date.today()\n",
    "    num_days_prior = today - timedelta(num_days_to_build)\n",
    "\n",
    "    \n",
    "    granularity_options = ['1m', '2m', '5m', '15m', '30m', '1h']\n",
    "    prompting_user_input = True\n",
    "\n",
    "    while prompting_user_input:\n",
    "        granulrity_input = input(\"How often should our model look at\" + \n",
    "                                 \" stock prices? Choose from 1m, 2m, 5m,\" +\n",
    "                                 \" 15m, 30m or 1h.\\n(Type 'Exit' to quit)\\n\"\n",
    "                                ).lower()\n",
    "        \n",
    "        if granulrity_input in granularity_options:\n",
    "            prompting_user_input = False\n",
    "        elif \"exit\" in granulrity_input:\n",
    "            sys.exit(\"Exiting program\")\n",
    "        else:\n",
    "            print(\"Input was not among the options 1m, 2m,\" +\n",
    "                  \" 5m, 15m, 30m, or 1h — please retry.\"+\n",
    "                  \"\\n(Type 'Exit' to quit)\\n\")\n",
    "            \n",
    "    \n",
    "    stock_symbol = input(\"Please input the stock symbol you would like to examine: (e.g. AAPL)\\n\").upper()\n",
    "\n",
    "    df = pd.DataFrame(yf.download(stock_symbol,\n",
    "                                start=num_days_prior,\n",
    "                                end=today,\n",
    "                                interval=granulrity_input)\n",
    "                            )\n",
    "    \n",
    "    stock_data = StockDataWrapper(df, stock_symbol)\n",
    "    stock_data.num_days = num_days_to_build\n",
    "    stock_data.granularity = granulrity_input\n",
    "\n",
    "    return stock_data\n",
    "\n",
    "\n",
    "\n",
    "def add_lags_from_input(stock_data, threshold):\n",
    "\n",
    "\n",
    "    # Clean up previous entries\n",
    "    stock_data.delete_lag_variables()\n",
    "    prompting_user_input = True\n",
    "\n",
    "    while prompting_user_input:\n",
    "        lag_length = input(\"How many previous data points should our model look at?\\n(Type 'Exit' to quit)\\n\")\n",
    "\n",
    "        if lag_length.isnumeric():\n",
    "            lag_length = int(lag_length)\n",
    "            \n",
    "            if lag_length <= threshold:\n",
    "                stock_data.lag_length = lag_length\n",
    "                stock_data.add_lag_variables(lag_length)\n",
    "                prompting_user_input = False\n",
    "            else:\n",
    "                print(\"\\nThe number of previous data points considered should\" +\n",
    "                      f\" not exceed 30%% \\nof the total number of data points (in this case, {threshold}) -- please\" +\n",
    "                       \" retry. \\n\")\n",
    "        elif \"exit\" in num_days_to_build.lower():\n",
    "                sys.exit(\"Exiting program\")\n",
    "        else:\n",
    "            print(\"\"\"Non-integer passed as input — please retry.\n",
    "                  \\n\n",
    "                  (Type 'Exit' to quit)\\n\"\"\")"
   ]
  },
  {
   "cell_type": "markdown",
   "id": "c8c2df05",
   "metadata": {},
   "source": [
    "# Exploratory Data Analysis"
   ]
  },
  {
   "cell_type": "code",
   "execution_count": 10,
   "id": "99c4c9c6",
   "metadata": {},
   "outputs": [
    {
     "name": "stdout",
     "output_type": "stream",
     "text": [
      "How many days of intraday stock market data should  we use to build our model? Enter a value between  1 and 7:\n",
      "(Type 'Exit' to quit)\n",
      "1\n",
      "How often should our model look at stock prices? Choose from 1m, 2m, 5m, 15m, 30m or 1h.\n",
      "(Type 'Exit' to quit)\n",
      "1m\n",
      "Please input the stock symbol you would like to examine: (e.g. AAPL)\n",
      "INTC\n"
     ]
    },
    {
     "name": "stderr",
     "output_type": "stream",
     "text": [
      "[*********************100%%**********************]  1 of 1 completed\n"
     ]
    },
    {
     "data": {
      "application/vnd.plotly.v1+json": {
       "config": {
        "plotlyServerURL": "https://plot.ly"
       },
       "data": [
        {
         "hovertemplate": "Datetime=%{x}<br>Close=%{y}<extra></extra>",
         "legendgroup": "",
         "line": {
          "color": "#636efa",
          "dash": "solid"
         },
         "marker": {
          "symbol": "circle"
         },
         "mode": "lines",
         "name": "",
         "orientation": "v",
         "showlegend": false,
         "type": "scatter",
         "x": [
          "2024-06-06T09:30:00-04:00",
          "2024-06-06T09:31:00-04:00",
          "2024-06-06T09:32:00-04:00",
          "2024-06-06T09:33:00-04:00",
          "2024-06-06T09:34:00-04:00",
          "2024-06-06T09:35:00-04:00",
          "2024-06-06T09:36:00-04:00",
          "2024-06-06T09:37:00-04:00",
          "2024-06-06T09:38:00-04:00",
          "2024-06-06T09:39:00-04:00",
          "2024-06-06T09:40:00-04:00",
          "2024-06-06T09:41:00-04:00",
          "2024-06-06T09:42:00-04:00",
          "2024-06-06T09:43:00-04:00",
          "2024-06-06T09:44:00-04:00",
          "2024-06-06T09:45:00-04:00",
          "2024-06-06T09:46:00-04:00",
          "2024-06-06T09:47:00-04:00",
          "2024-06-06T09:48:00-04:00",
          "2024-06-06T09:49:00-04:00",
          "2024-06-06T09:50:00-04:00",
          "2024-06-06T09:51:00-04:00",
          "2024-06-06T09:52:00-04:00",
          "2024-06-06T09:53:00-04:00",
          "2024-06-06T09:54:00-04:00",
          "2024-06-06T09:55:00-04:00",
          "2024-06-06T09:56:00-04:00",
          "2024-06-06T09:57:00-04:00",
          "2024-06-06T09:58:00-04:00",
          "2024-06-06T09:59:00-04:00",
          "2024-06-06T10:00:00-04:00",
          "2024-06-06T10:01:00-04:00",
          "2024-06-06T10:02:00-04:00",
          "2024-06-06T10:03:00-04:00",
          "2024-06-06T10:04:00-04:00",
          "2024-06-06T10:05:00-04:00",
          "2024-06-06T10:06:00-04:00",
          "2024-06-06T10:07:00-04:00",
          "2024-06-06T10:08:00-04:00",
          "2024-06-06T10:09:00-04:00",
          "2024-06-06T10:10:00-04:00",
          "2024-06-06T10:11:00-04:00",
          "2024-06-06T10:12:00-04:00",
          "2024-06-06T10:13:00-04:00",
          "2024-06-06T10:14:00-04:00",
          "2024-06-06T10:15:00-04:00",
          "2024-06-06T10:16:00-04:00",
          "2024-06-06T10:17:00-04:00",
          "2024-06-06T10:18:00-04:00",
          "2024-06-06T10:19:00-04:00",
          "2024-06-06T10:20:00-04:00",
          "2024-06-06T10:21:00-04:00",
          "2024-06-06T10:22:00-04:00",
          "2024-06-06T10:23:00-04:00",
          "2024-06-06T10:24:00-04:00",
          "2024-06-06T10:25:00-04:00",
          "2024-06-06T10:26:00-04:00",
          "2024-06-06T10:27:00-04:00",
          "2024-06-06T10:28:00-04:00",
          "2024-06-06T10:29:00-04:00",
          "2024-06-06T10:30:00-04:00",
          "2024-06-06T10:31:00-04:00",
          "2024-06-06T10:32:00-04:00",
          "2024-06-06T10:33:00-04:00",
          "2024-06-06T10:34:00-04:00",
          "2024-06-06T10:35:00-04:00",
          "2024-06-06T10:36:00-04:00",
          "2024-06-06T10:37:00-04:00",
          "2024-06-06T10:38:00-04:00",
          "2024-06-06T10:39:00-04:00",
          "2024-06-06T10:40:00-04:00",
          "2024-06-06T10:41:00-04:00",
          "2024-06-06T10:42:00-04:00",
          "2024-06-06T10:43:00-04:00",
          "2024-06-06T10:44:00-04:00",
          "2024-06-06T10:45:00-04:00",
          "2024-06-06T10:46:00-04:00",
          "2024-06-06T10:47:00-04:00",
          "2024-06-06T10:48:00-04:00",
          "2024-06-06T10:49:00-04:00",
          "2024-06-06T10:50:00-04:00",
          "2024-06-06T10:51:00-04:00",
          "2024-06-06T10:52:00-04:00",
          "2024-06-06T10:53:00-04:00",
          "2024-06-06T10:54:00-04:00",
          "2024-06-06T10:55:00-04:00",
          "2024-06-06T10:56:00-04:00",
          "2024-06-06T10:57:00-04:00",
          "2024-06-06T10:58:00-04:00",
          "2024-06-06T10:59:00-04:00",
          "2024-06-06T11:00:00-04:00",
          "2024-06-06T11:01:00-04:00",
          "2024-06-06T11:02:00-04:00",
          "2024-06-06T11:03:00-04:00",
          "2024-06-06T11:04:00-04:00",
          "2024-06-06T11:05:00-04:00",
          "2024-06-06T11:06:00-04:00",
          "2024-06-06T11:07:00-04:00",
          "2024-06-06T11:08:00-04:00",
          "2024-06-06T11:09:00-04:00",
          "2024-06-06T11:10:00-04:00",
          "2024-06-06T11:11:00-04:00",
          "2024-06-06T11:12:00-04:00",
          "2024-06-06T11:13:00-04:00",
          "2024-06-06T11:14:00-04:00",
          "2024-06-06T11:15:00-04:00",
          "2024-06-06T11:16:00-04:00",
          "2024-06-06T11:17:00-04:00",
          "2024-06-06T11:18:00-04:00",
          "2024-06-06T11:19:00-04:00",
          "2024-06-06T11:20:00-04:00",
          "2024-06-06T11:21:00-04:00",
          "2024-06-06T11:22:00-04:00",
          "2024-06-06T11:23:00-04:00",
          "2024-06-06T11:24:00-04:00",
          "2024-06-06T11:25:00-04:00",
          "2024-06-06T11:26:00-04:00",
          "2024-06-06T11:27:00-04:00",
          "2024-06-06T11:28:00-04:00",
          "2024-06-06T11:29:00-04:00",
          "2024-06-06T11:30:00-04:00",
          "2024-06-06T11:31:00-04:00",
          "2024-06-06T11:32:00-04:00",
          "2024-06-06T11:33:00-04:00",
          "2024-06-06T11:34:00-04:00",
          "2024-06-06T11:35:00-04:00",
          "2024-06-06T11:36:00-04:00",
          "2024-06-06T11:37:00-04:00",
          "2024-06-06T11:38:00-04:00",
          "2024-06-06T11:39:00-04:00",
          "2024-06-06T11:40:00-04:00",
          "2024-06-06T11:41:00-04:00",
          "2024-06-06T11:42:00-04:00",
          "2024-06-06T11:43:00-04:00",
          "2024-06-06T11:44:00-04:00",
          "2024-06-06T11:45:00-04:00",
          "2024-06-06T11:46:00-04:00",
          "2024-06-06T11:47:00-04:00",
          "2024-06-06T11:48:00-04:00",
          "2024-06-06T11:49:00-04:00",
          "2024-06-06T11:50:00-04:00",
          "2024-06-06T11:51:00-04:00",
          "2024-06-06T11:52:00-04:00",
          "2024-06-06T11:53:00-04:00",
          "2024-06-06T11:54:00-04:00",
          "2024-06-06T11:55:00-04:00",
          "2024-06-06T11:56:00-04:00",
          "2024-06-06T11:57:00-04:00",
          "2024-06-06T11:58:00-04:00",
          "2024-06-06T11:59:00-04:00",
          "2024-06-06T12:00:00-04:00",
          "2024-06-06T12:01:00-04:00",
          "2024-06-06T12:02:00-04:00",
          "2024-06-06T12:03:00-04:00",
          "2024-06-06T12:04:00-04:00",
          "2024-06-06T12:05:00-04:00",
          "2024-06-06T12:06:00-04:00",
          "2024-06-06T12:07:00-04:00",
          "2024-06-06T12:08:00-04:00",
          "2024-06-06T12:09:00-04:00",
          "2024-06-06T12:10:00-04:00",
          "2024-06-06T12:11:00-04:00",
          "2024-06-06T12:12:00-04:00",
          "2024-06-06T12:13:00-04:00",
          "2024-06-06T12:14:00-04:00",
          "2024-06-06T12:15:00-04:00",
          "2024-06-06T12:16:00-04:00",
          "2024-06-06T12:17:00-04:00",
          "2024-06-06T12:18:00-04:00",
          "2024-06-06T12:19:00-04:00",
          "2024-06-06T12:20:00-04:00",
          "2024-06-06T12:21:00-04:00",
          "2024-06-06T12:22:00-04:00",
          "2024-06-06T12:23:00-04:00",
          "2024-06-06T12:24:00-04:00",
          "2024-06-06T12:25:00-04:00",
          "2024-06-06T12:26:00-04:00",
          "2024-06-06T12:27:00-04:00",
          "2024-06-06T12:28:00-04:00",
          "2024-06-06T12:29:00-04:00",
          "2024-06-06T12:30:00-04:00",
          "2024-06-06T12:31:00-04:00",
          "2024-06-06T12:32:00-04:00",
          "2024-06-06T12:33:00-04:00",
          "2024-06-06T12:34:00-04:00",
          "2024-06-06T12:35:00-04:00",
          "2024-06-06T12:36:00-04:00",
          "2024-06-06T12:37:00-04:00",
          "2024-06-06T12:38:00-04:00",
          "2024-06-06T12:39:00-04:00",
          "2024-06-06T12:40:00-04:00",
          "2024-06-06T12:41:00-04:00",
          "2024-06-06T12:42:00-04:00",
          "2024-06-06T12:43:00-04:00",
          "2024-06-06T12:44:00-04:00",
          "2024-06-06T12:45:00-04:00",
          "2024-06-06T12:46:00-04:00",
          "2024-06-06T12:47:00-04:00",
          "2024-06-06T12:48:00-04:00",
          "2024-06-06T12:49:00-04:00",
          "2024-06-06T12:50:00-04:00",
          "2024-06-06T12:51:00-04:00",
          "2024-06-06T12:52:00-04:00",
          "2024-06-06T12:53:00-04:00",
          "2024-06-06T12:54:00-04:00",
          "2024-06-06T12:55:00-04:00",
          "2024-06-06T12:56:00-04:00",
          "2024-06-06T12:57:00-04:00",
          "2024-06-06T12:58:00-04:00",
          "2024-06-06T12:59:00-04:00",
          "2024-06-06T13:00:00-04:00",
          "2024-06-06T13:01:00-04:00",
          "2024-06-06T13:02:00-04:00",
          "2024-06-06T13:03:00-04:00",
          "2024-06-06T13:04:00-04:00",
          "2024-06-06T13:05:00-04:00",
          "2024-06-06T13:06:00-04:00",
          "2024-06-06T13:07:00-04:00",
          "2024-06-06T13:08:00-04:00",
          "2024-06-06T13:09:00-04:00",
          "2024-06-06T13:10:00-04:00",
          "2024-06-06T13:11:00-04:00",
          "2024-06-06T13:12:00-04:00",
          "2024-06-06T13:13:00-04:00",
          "2024-06-06T13:14:00-04:00",
          "2024-06-06T13:15:00-04:00",
          "2024-06-06T13:16:00-04:00",
          "2024-06-06T13:17:00-04:00",
          "2024-06-06T13:18:00-04:00",
          "2024-06-06T13:19:00-04:00",
          "2024-06-06T13:20:00-04:00",
          "2024-06-06T13:21:00-04:00",
          "2024-06-06T13:22:00-04:00",
          "2024-06-06T13:23:00-04:00",
          "2024-06-06T13:24:00-04:00",
          "2024-06-06T13:25:00-04:00",
          "2024-06-06T13:26:00-04:00",
          "2024-06-06T13:27:00-04:00",
          "2024-06-06T13:28:00-04:00",
          "2024-06-06T13:29:00-04:00",
          "2024-06-06T13:30:00-04:00",
          "2024-06-06T13:31:00-04:00",
          "2024-06-06T13:32:00-04:00",
          "2024-06-06T13:33:00-04:00",
          "2024-06-06T13:34:00-04:00",
          "2024-06-06T13:35:00-04:00",
          "2024-06-06T13:36:00-04:00",
          "2024-06-06T13:37:00-04:00",
          "2024-06-06T13:38:00-04:00",
          "2024-06-06T13:39:00-04:00",
          "2024-06-06T13:40:00-04:00",
          "2024-06-06T13:41:00-04:00",
          "2024-06-06T13:42:00-04:00",
          "2024-06-06T13:43:00-04:00",
          "2024-06-06T13:44:00-04:00",
          "2024-06-06T13:45:00-04:00",
          "2024-06-06T13:46:00-04:00",
          "2024-06-06T13:47:00-04:00",
          "2024-06-06T13:48:00-04:00",
          "2024-06-06T13:49:00-04:00",
          "2024-06-06T13:50:00-04:00",
          "2024-06-06T13:51:00-04:00",
          "2024-06-06T13:52:00-04:00",
          "2024-06-06T13:53:00-04:00",
          "2024-06-06T13:54:00-04:00",
          "2024-06-06T13:55:00-04:00",
          "2024-06-06T13:56:00-04:00",
          "2024-06-06T13:57:00-04:00",
          "2024-06-06T13:58:00-04:00",
          "2024-06-06T13:59:00-04:00",
          "2024-06-06T14:00:00-04:00",
          "2024-06-06T14:01:00-04:00",
          "2024-06-06T14:02:00-04:00",
          "2024-06-06T14:03:00-04:00",
          "2024-06-06T14:04:00-04:00",
          "2024-06-06T14:05:00-04:00",
          "2024-06-06T14:06:00-04:00",
          "2024-06-06T14:07:00-04:00",
          "2024-06-06T14:08:00-04:00",
          "2024-06-06T14:09:00-04:00",
          "2024-06-06T14:10:00-04:00",
          "2024-06-06T14:11:00-04:00",
          "2024-06-06T14:12:00-04:00",
          "2024-06-06T14:13:00-04:00",
          "2024-06-06T14:14:00-04:00",
          "2024-06-06T14:15:00-04:00",
          "2024-06-06T14:16:00-04:00",
          "2024-06-06T14:17:00-04:00",
          "2024-06-06T14:18:00-04:00",
          "2024-06-06T14:19:00-04:00",
          "2024-06-06T14:20:00-04:00",
          "2024-06-06T14:21:00-04:00",
          "2024-06-06T14:22:00-04:00",
          "2024-06-06T14:23:00-04:00",
          "2024-06-06T14:24:00-04:00",
          "2024-06-06T14:25:00-04:00",
          "2024-06-06T14:26:00-04:00",
          "2024-06-06T14:27:00-04:00",
          "2024-06-06T14:28:00-04:00",
          "2024-06-06T14:29:00-04:00",
          "2024-06-06T14:30:00-04:00",
          "2024-06-06T14:31:00-04:00",
          "2024-06-06T14:32:00-04:00",
          "2024-06-06T14:33:00-04:00",
          "2024-06-06T14:34:00-04:00",
          "2024-06-06T14:35:00-04:00",
          "2024-06-06T14:36:00-04:00",
          "2024-06-06T14:37:00-04:00",
          "2024-06-06T14:38:00-04:00",
          "2024-06-06T14:39:00-04:00",
          "2024-06-06T14:40:00-04:00",
          "2024-06-06T14:41:00-04:00",
          "2024-06-06T14:42:00-04:00",
          "2024-06-06T14:43:00-04:00",
          "2024-06-06T14:44:00-04:00",
          "2024-06-06T14:45:00-04:00",
          "2024-06-06T14:46:00-04:00",
          "2024-06-06T14:47:00-04:00",
          "2024-06-06T14:48:00-04:00",
          "2024-06-06T14:49:00-04:00",
          "2024-06-06T14:50:00-04:00",
          "2024-06-06T14:51:00-04:00",
          "2024-06-06T14:52:00-04:00",
          "2024-06-06T14:53:00-04:00",
          "2024-06-06T14:54:00-04:00",
          "2024-06-06T14:55:00-04:00",
          "2024-06-06T14:56:00-04:00",
          "2024-06-06T14:57:00-04:00",
          "2024-06-06T14:58:00-04:00",
          "2024-06-06T14:59:00-04:00",
          "2024-06-06T15:00:00-04:00",
          "2024-06-06T15:01:00-04:00",
          "2024-06-06T15:02:00-04:00",
          "2024-06-06T15:03:00-04:00",
          "2024-06-06T15:04:00-04:00",
          "2024-06-06T15:05:00-04:00",
          "2024-06-06T15:06:00-04:00",
          "2024-06-06T15:07:00-04:00",
          "2024-06-06T15:08:00-04:00",
          "2024-06-06T15:09:00-04:00",
          "2024-06-06T15:10:00-04:00",
          "2024-06-06T15:11:00-04:00",
          "2024-06-06T15:12:00-04:00",
          "2024-06-06T15:13:00-04:00",
          "2024-06-06T15:14:00-04:00",
          "2024-06-06T15:15:00-04:00",
          "2024-06-06T15:16:00-04:00",
          "2024-06-06T15:17:00-04:00",
          "2024-06-06T15:18:00-04:00",
          "2024-06-06T15:19:00-04:00",
          "2024-06-06T15:20:00-04:00",
          "2024-06-06T15:21:00-04:00",
          "2024-06-06T15:22:00-04:00",
          "2024-06-06T15:23:00-04:00",
          "2024-06-06T15:24:00-04:00",
          "2024-06-06T15:25:00-04:00",
          "2024-06-06T15:26:00-04:00",
          "2024-06-06T15:27:00-04:00",
          "2024-06-06T15:28:00-04:00",
          "2024-06-06T15:29:00-04:00",
          "2024-06-06T15:30:00-04:00",
          "2024-06-06T15:31:00-04:00",
          "2024-06-06T15:32:00-04:00",
          "2024-06-06T15:33:00-04:00",
          "2024-06-06T15:34:00-04:00",
          "2024-06-06T15:35:00-04:00",
          "2024-06-06T15:36:00-04:00",
          "2024-06-06T15:37:00-04:00",
          "2024-06-06T15:38:00-04:00",
          "2024-06-06T15:39:00-04:00",
          "2024-06-06T15:40:00-04:00",
          "2024-06-06T15:41:00-04:00",
          "2024-06-06T15:42:00-04:00",
          "2024-06-06T15:43:00-04:00",
          "2024-06-06T15:44:00-04:00",
          "2024-06-06T15:45:00-04:00",
          "2024-06-06T15:46:00-04:00",
          "2024-06-06T15:47:00-04:00",
          "2024-06-06T15:48:00-04:00",
          "2024-06-06T15:49:00-04:00",
          "2024-06-06T15:50:00-04:00",
          "2024-06-06T15:51:00-04:00",
          "2024-06-06T15:52:00-04:00",
          "2024-06-06T15:53:00-04:00",
          "2024-06-06T15:54:00-04:00",
          "2024-06-06T15:55:00-04:00",
          "2024-06-06T15:56:00-04:00",
          "2024-06-06T15:57:00-04:00",
          "2024-06-06T15:58:00-04:00",
          "2024-06-06T15:59:00-04:00"
         ],
         "xaxis": "x",
         "y": [
          30.43000030517578,
          30.424999237060547,
          30.469999313354492,
          30.477399826049805,
          30.360000610351562,
          30.19499969482422,
          30.206199645996094,
          30.260000228881836,
          30.264999389648438,
          30.260099411010742,
          30.226200103759766,
          30.225000381469727,
          30.239200592041016,
          30.2450008392334,
          30.255199432373047,
          30.2549991607666,
          30.319900512695312,
          30.30500030517578,
          30.34000015258789,
          30.325000762939453,
          30.2549991607666,
          30.258399963378906,
          30.2549991607666,
          30.260000228881836,
          30.28499984741211,
          30.329999923706055,
          30.313899993896484,
          30.33530044555664,
          30.325000762939453,
          30.315000534057617,
          30.299999237060547,
          30.2549991607666,
          30.280000686645508,
          30.300100326538086,
          30.309999465942383,
          30.30500030517578,
          30.290000915527344,
          30.28499984741211,
          30.295000076293945,
          30.289899826049805,
          30.280000686645508,
          30.260000228881836,
          30.264999389648438,
          30.280000686645508,
          30.295000076293945,
          30.27669906616211,
          30.2450008392334,
          30.235000610351562,
          30.235000610351562,
          30.2549991607666,
          30.260000228881836,
          30.28190040588379,
          30.315000534057617,
          30.331600189208984,
          30.330900192260742,
          30.299999237060547,
          30.28969955444336,
          30.299999237060547,
          30.309999465942383,
          30.34000015258789,
          30.334999084472656,
          30.356000900268555,
          30.350000381469727,
          30.35689926147461,
          30.3700008392334,
          30.355199813842773,
          30.36669921875,
          30.364999771118164,
          30.354999542236328,
          30.350000381469727,
          30.360000610351562,
          30.34760093688965,
          30.371999740600586,
          30.399999618530273,
          30.400299072265625,
          30.39550018310547,
          30.40999984741211,
          30.392000198364258,
          30.40999984741211,
          30.415000915527344,
          30.409000396728516,
          30.3799991607666,
          30.375,
          30.385000228881836,
          30.399999618530273,
          30.385000228881836,
          30.364999771118164,
          30.375,
          30.34000015258789,
          30.309999465942383,
          30.29990005493164,
          30.295000076293945,
          30.28499984741211,
          30.280000686645508,
          30.25,
          30.2549991607666,
          30.281099319458008,
          30.28499984741211,
          30.309999465942383,
          30.325000762939453,
          30.321399688720703,
          30.3218994140625,
          30.315000534057617,
          30.31999969482422,
          30.315000534057617,
          30.325000762939453,
          30.34000015258789,
          30.334999084472656,
          30.34000015258789,
          30.34000015258789,
          30.364999771118164,
          30.364999771118164,
          30.354999542236328,
          30.352500915527344,
          30.364999771118164,
          30.3700008392334,
          30.3700008392334,
          30.396699905395508,
          30.399999618530273,
          30.395000457763672,
          30.388500213623047,
          30.40999984741211,
          30.396699905395508,
          30.385000228881836,
          30.360000610351562,
          30.377599716186523,
          30.41010093688965,
          30.41990089416504,
          30.415000915527344,
          30.415000915527344,
          30.422199249267578,
          30.454999923706055,
          30.440000534057617,
          30.44499969482422,
          30.44499969482422,
          30.454999923706055,
          30.434999465942383,
          30.44499969482422,
          30.434999465942383,
          30.42340087890625,
          30.434999465942383,
          30.449800491333008,
          30.479999542236328,
          30.469999313354492,
          30.469999313354492,
          30.454999923706055,
          30.44499969482422,
          30.46500015258789,
          30.459999084472656,
          30.454999923706055,
          30.450199127197266,
          30.43829917907715,
          30.44499969482422,
          30.4414005279541,
          30.430099487304688,
          30.42009925842285,
          30.400100708007812,
          30.385000228881836,
          30.385000228881836,
          30.395000457763672,
          30.399999618530273,
          30.389999389648438,
          30.405000686645508,
          30.405000686645508,
          30.391700744628906,
          30.405000686645508,
          30.385000228881836,
          30.399999618530273,
          30.409900665283203,
          30.385000228881836,
          30.3700008392334,
          30.375,
          30.375,
          30.375,
          30.38990020751953,
          30.385000228881836,
          30.3966007232666,
          30.3799991607666,
          30.370100021362305,
          30.371599197387695,
          30.3799991607666,
          30.399900436401367,
          30.385000228881836,
          30.3843994140625,
          30.37190055847168,
          30.375,
          30.360000610351562,
          30.36009979248047,
          30.362300872802734,
          30.364999771118164,
          30.375,
          30.372299194335938,
          30.375,
          30.375,
          30.3700008392334,
          30.399999618530273,
          30.395999908447266,
          30.395000457763672,
          30.389999389648438,
          30.389999389648438,
          30.395000457763672,
          30.409900665283203,
          30.422100067138672,
          30.44499969482422,
          30.454999923706055,
          30.46310043334961,
          30.459999084472656,
          30.46500015258789,
          30.489999771118164,
          30.47010040283203,
          30.4950008392334,
          30.5049991607666,
          30.4950008392334,
          30.485000610351562,
          30.5,
          30.497699737548828,
          30.4950008392334,
          30.500099182128906,
          30.5,
          30.489999771118164,
          30.492000579833984,
          30.479999542236328,
          30.475000381469727,
          30.469999313354492,
          30.46500015258789,
          30.46030044555664,
          30.459999084472656,
          30.454999923706055,
          30.44499969482422,
          30.450000762939453,
          30.439899444580078,
          30.43000030517578,
          30.440200805664062,
          30.454999923706055,
          30.454999923706055,
          30.462799072265625,
          30.475000381469727,
          30.475000381469727,
          30.4689998626709,
          30.46500015258789,
          30.459999084472656,
          30.452800750732422,
          30.454999923706055,
          30.44499969482422,
          30.44499969482422,
          30.440000534057617,
          30.44499969482422,
          30.454999923706055,
          30.46500015258789,
          30.4950008392334,
          30.485000610351562,
          30.4950008392334,
          30.510000228881836,
          30.5049991607666,
          30.5,
          30.512399673461914,
          30.510000228881836,
          30.4950008392334,
          30.485000610351562,
          30.475000381469727,
          30.485000610351562,
          30.475000381469727,
          30.46500015258789,
          30.469999313354492,
          30.489900588989258,
          30.485000610351562,
          30.469999313354492,
          30.47760009765625,
          30.46500015258789,
          30.434999465942383,
          30.44499969482422,
          30.43000030517578,
          30.412399291992188,
          30.40999984741211,
          30.390100479125977,
          30.36050033569336,
          30.360000610351562,
          30.364999771118164,
          30.363399505615234,
          30.364999771118164,
          30.3700008392334,
          30.38990020751953,
          30.385000228881836,
          30.399900436401367,
          30.392499923706055,
          30.395000457763672,
          30.389999389648438,
          30.39459991455078,
          30.439699172973633,
          30.422100067138672,
          30.41670036315918,
          30.415000915527344,
          30.42009925842285,
          30.40999984741211,
          30.41189956665039,
          30.415000915527344,
          30.415000915527344,
          30.415000915527344,
          30.415000915527344,
          30.440000534057617,
          30.424999237060547,
          30.43000030517578,
          30.43000030517578,
          30.43000030517578,
          30.434999465942383,
          30.454999923706055,
          30.453800201416016,
          30.459999084472656,
          30.43160057067871,
          30.434999465942383,
          30.43000030517578,
          30.43000030517578,
          30.424999237060547,
          30.424999237060547,
          30.424999237060547,
          30.4325008392334,
          30.44219970703125,
          30.44499969482422,
          30.44499969482422,
          30.44219970703125,
          30.468599319458008,
          30.453100204467773,
          30.489999771118164,
          30.47010040283203,
          30.475000381469727,
          30.46980094909668,
          30.465700149536133,
          30.46500015258789,
          30.459999084472656,
          30.458900451660156,
          30.434999465942383,
          30.434999465942383,
          30.434999465942383,
          30.431499481201172,
          30.434999465942383,
          30.454999923706055,
          30.44499969482422,
          30.454999923706055,
          30.462299346923828,
          30.46500015258789,
          30.479999542236328,
          30.485000610351562,
          30.462200164794922,
          30.466999053955078,
          30.45989990234375,
          30.469999313354492,
          30.47260093688965,
          30.485000610351562,
          30.485000610351562,
          30.50510025024414,
          30.50200080871582,
          30.493000030517578,
          30.48189926147461,
          30.485000610351562,
          30.469999313354492,
          30.475000381469727,
          30.469999313354492,
          30.485000610351562,
          30.5049991607666,
          30.50749969482422,
          30.479999542236328,
          30.459999084472656,
          30.459999084472656,
          30.475000381469727,
          30.485000610351562,
          30.5049991607666,
          30.50029945373535,
          30.5,
          30.5,
          30.49449920654297,
          30.485000610351562,
          30.479999542236328,
          30.485000610351562,
          30.489999771118164,
          30.4950008392334,
          30.48310089111328,
          30.4950008392334,
          30.490100860595703,
          30.524999618530273,
          30.53499984741211,
          30.55500030517578,
          30.522899627685547,
          30.540000915527344,
          30.540000915527344,
          30.454999923706055,
          30.440000534057617,
          30.415000915527344,
          30.40999984741211,
          30.395000457763672,
          30.420000076293945
         ],
         "yaxis": "y"
        }
       ],
       "layout": {
        "legend": {
         "tracegroupgap": 0
        },
        "template": {
         "data": {
          "bar": [
           {
            "error_x": {
             "color": "#2a3f5f"
            },
            "error_y": {
             "color": "#2a3f5f"
            },
            "marker": {
             "line": {
              "color": "#E5ECF6",
              "width": 0.5
             },
             "pattern": {
              "fillmode": "overlay",
              "size": 10,
              "solidity": 0.2
             }
            },
            "type": "bar"
           }
          ],
          "barpolar": [
           {
            "marker": {
             "line": {
              "color": "#E5ECF6",
              "width": 0.5
             },
             "pattern": {
              "fillmode": "overlay",
              "size": 10,
              "solidity": 0.2
             }
            },
            "type": "barpolar"
           }
          ],
          "carpet": [
           {
            "aaxis": {
             "endlinecolor": "#2a3f5f",
             "gridcolor": "white",
             "linecolor": "white",
             "minorgridcolor": "white",
             "startlinecolor": "#2a3f5f"
            },
            "baxis": {
             "endlinecolor": "#2a3f5f",
             "gridcolor": "white",
             "linecolor": "white",
             "minorgridcolor": "white",
             "startlinecolor": "#2a3f5f"
            },
            "type": "carpet"
           }
          ],
          "choropleth": [
           {
            "colorbar": {
             "outlinewidth": 0,
             "ticks": ""
            },
            "type": "choropleth"
           }
          ],
          "contour": [
           {
            "colorbar": {
             "outlinewidth": 0,
             "ticks": ""
            },
            "colorscale": [
             [
              0,
              "#0d0887"
             ],
             [
              0.1111111111111111,
              "#46039f"
             ],
             [
              0.2222222222222222,
              "#7201a8"
             ],
             [
              0.3333333333333333,
              "#9c179e"
             ],
             [
              0.4444444444444444,
              "#bd3786"
             ],
             [
              0.5555555555555556,
              "#d8576b"
             ],
             [
              0.6666666666666666,
              "#ed7953"
             ],
             [
              0.7777777777777778,
              "#fb9f3a"
             ],
             [
              0.8888888888888888,
              "#fdca26"
             ],
             [
              1,
              "#f0f921"
             ]
            ],
            "type": "contour"
           }
          ],
          "contourcarpet": [
           {
            "colorbar": {
             "outlinewidth": 0,
             "ticks": ""
            },
            "type": "contourcarpet"
           }
          ],
          "heatmap": [
           {
            "colorbar": {
             "outlinewidth": 0,
             "ticks": ""
            },
            "colorscale": [
             [
              0,
              "#0d0887"
             ],
             [
              0.1111111111111111,
              "#46039f"
             ],
             [
              0.2222222222222222,
              "#7201a8"
             ],
             [
              0.3333333333333333,
              "#9c179e"
             ],
             [
              0.4444444444444444,
              "#bd3786"
             ],
             [
              0.5555555555555556,
              "#d8576b"
             ],
             [
              0.6666666666666666,
              "#ed7953"
             ],
             [
              0.7777777777777778,
              "#fb9f3a"
             ],
             [
              0.8888888888888888,
              "#fdca26"
             ],
             [
              1,
              "#f0f921"
             ]
            ],
            "type": "heatmap"
           }
          ],
          "heatmapgl": [
           {
            "colorbar": {
             "outlinewidth": 0,
             "ticks": ""
            },
            "colorscale": [
             [
              0,
              "#0d0887"
             ],
             [
              0.1111111111111111,
              "#46039f"
             ],
             [
              0.2222222222222222,
              "#7201a8"
             ],
             [
              0.3333333333333333,
              "#9c179e"
             ],
             [
              0.4444444444444444,
              "#bd3786"
             ],
             [
              0.5555555555555556,
              "#d8576b"
             ],
             [
              0.6666666666666666,
              "#ed7953"
             ],
             [
              0.7777777777777778,
              "#fb9f3a"
             ],
             [
              0.8888888888888888,
              "#fdca26"
             ],
             [
              1,
              "#f0f921"
             ]
            ],
            "type": "heatmapgl"
           }
          ],
          "histogram": [
           {
            "marker": {
             "pattern": {
              "fillmode": "overlay",
              "size": 10,
              "solidity": 0.2
             }
            },
            "type": "histogram"
           }
          ],
          "histogram2d": [
           {
            "colorbar": {
             "outlinewidth": 0,
             "ticks": ""
            },
            "colorscale": [
             [
              0,
              "#0d0887"
             ],
             [
              0.1111111111111111,
              "#46039f"
             ],
             [
              0.2222222222222222,
              "#7201a8"
             ],
             [
              0.3333333333333333,
              "#9c179e"
             ],
             [
              0.4444444444444444,
              "#bd3786"
             ],
             [
              0.5555555555555556,
              "#d8576b"
             ],
             [
              0.6666666666666666,
              "#ed7953"
             ],
             [
              0.7777777777777778,
              "#fb9f3a"
             ],
             [
              0.8888888888888888,
              "#fdca26"
             ],
             [
              1,
              "#f0f921"
             ]
            ],
            "type": "histogram2d"
           }
          ],
          "histogram2dcontour": [
           {
            "colorbar": {
             "outlinewidth": 0,
             "ticks": ""
            },
            "colorscale": [
             [
              0,
              "#0d0887"
             ],
             [
              0.1111111111111111,
              "#46039f"
             ],
             [
              0.2222222222222222,
              "#7201a8"
             ],
             [
              0.3333333333333333,
              "#9c179e"
             ],
             [
              0.4444444444444444,
              "#bd3786"
             ],
             [
              0.5555555555555556,
              "#d8576b"
             ],
             [
              0.6666666666666666,
              "#ed7953"
             ],
             [
              0.7777777777777778,
              "#fb9f3a"
             ],
             [
              0.8888888888888888,
              "#fdca26"
             ],
             [
              1,
              "#f0f921"
             ]
            ],
            "type": "histogram2dcontour"
           }
          ],
          "mesh3d": [
           {
            "colorbar": {
             "outlinewidth": 0,
             "ticks": ""
            },
            "type": "mesh3d"
           }
          ],
          "parcoords": [
           {
            "line": {
             "colorbar": {
              "outlinewidth": 0,
              "ticks": ""
             }
            },
            "type": "parcoords"
           }
          ],
          "pie": [
           {
            "automargin": true,
            "type": "pie"
           }
          ],
          "scatter": [
           {
            "fillpattern": {
             "fillmode": "overlay",
             "size": 10,
             "solidity": 0.2
            },
            "type": "scatter"
           }
          ],
          "scatter3d": [
           {
            "line": {
             "colorbar": {
              "outlinewidth": 0,
              "ticks": ""
             }
            },
            "marker": {
             "colorbar": {
              "outlinewidth": 0,
              "ticks": ""
             }
            },
            "type": "scatter3d"
           }
          ],
          "scattercarpet": [
           {
            "marker": {
             "colorbar": {
              "outlinewidth": 0,
              "ticks": ""
             }
            },
            "type": "scattercarpet"
           }
          ],
          "scattergeo": [
           {
            "marker": {
             "colorbar": {
              "outlinewidth": 0,
              "ticks": ""
             }
            },
            "type": "scattergeo"
           }
          ],
          "scattergl": [
           {
            "marker": {
             "colorbar": {
              "outlinewidth": 0,
              "ticks": ""
             }
            },
            "type": "scattergl"
           }
          ],
          "scattermapbox": [
           {
            "marker": {
             "colorbar": {
              "outlinewidth": 0,
              "ticks": ""
             }
            },
            "type": "scattermapbox"
           }
          ],
          "scatterpolar": [
           {
            "marker": {
             "colorbar": {
              "outlinewidth": 0,
              "ticks": ""
             }
            },
            "type": "scatterpolar"
           }
          ],
          "scatterpolargl": [
           {
            "marker": {
             "colorbar": {
              "outlinewidth": 0,
              "ticks": ""
             }
            },
            "type": "scatterpolargl"
           }
          ],
          "scatterternary": [
           {
            "marker": {
             "colorbar": {
              "outlinewidth": 0,
              "ticks": ""
             }
            },
            "type": "scatterternary"
           }
          ],
          "surface": [
           {
            "colorbar": {
             "outlinewidth": 0,
             "ticks": ""
            },
            "colorscale": [
             [
              0,
              "#0d0887"
             ],
             [
              0.1111111111111111,
              "#46039f"
             ],
             [
              0.2222222222222222,
              "#7201a8"
             ],
             [
              0.3333333333333333,
              "#9c179e"
             ],
             [
              0.4444444444444444,
              "#bd3786"
             ],
             [
              0.5555555555555556,
              "#d8576b"
             ],
             [
              0.6666666666666666,
              "#ed7953"
             ],
             [
              0.7777777777777778,
              "#fb9f3a"
             ],
             [
              0.8888888888888888,
              "#fdca26"
             ],
             [
              1,
              "#f0f921"
             ]
            ],
            "type": "surface"
           }
          ],
          "table": [
           {
            "cells": {
             "fill": {
              "color": "#EBF0F8"
             },
             "line": {
              "color": "white"
             }
            },
            "header": {
             "fill": {
              "color": "#C8D4E3"
             },
             "line": {
              "color": "white"
             }
            },
            "type": "table"
           }
          ]
         },
         "layout": {
          "annotationdefaults": {
           "arrowcolor": "#2a3f5f",
           "arrowhead": 0,
           "arrowwidth": 1
          },
          "autotypenumbers": "strict",
          "coloraxis": {
           "colorbar": {
            "outlinewidth": 0,
            "ticks": ""
           }
          },
          "colorscale": {
           "diverging": [
            [
             0,
             "#8e0152"
            ],
            [
             0.1,
             "#c51b7d"
            ],
            [
             0.2,
             "#de77ae"
            ],
            [
             0.3,
             "#f1b6da"
            ],
            [
             0.4,
             "#fde0ef"
            ],
            [
             0.5,
             "#f7f7f7"
            ],
            [
             0.6,
             "#e6f5d0"
            ],
            [
             0.7,
             "#b8e186"
            ],
            [
             0.8,
             "#7fbc41"
            ],
            [
             0.9,
             "#4d9221"
            ],
            [
             1,
             "#276419"
            ]
           ],
           "sequential": [
            [
             0,
             "#0d0887"
            ],
            [
             0.1111111111111111,
             "#46039f"
            ],
            [
             0.2222222222222222,
             "#7201a8"
            ],
            [
             0.3333333333333333,
             "#9c179e"
            ],
            [
             0.4444444444444444,
             "#bd3786"
            ],
            [
             0.5555555555555556,
             "#d8576b"
            ],
            [
             0.6666666666666666,
             "#ed7953"
            ],
            [
             0.7777777777777778,
             "#fb9f3a"
            ],
            [
             0.8888888888888888,
             "#fdca26"
            ],
            [
             1,
             "#f0f921"
            ]
           ],
           "sequentialminus": [
            [
             0,
             "#0d0887"
            ],
            [
             0.1111111111111111,
             "#46039f"
            ],
            [
             0.2222222222222222,
             "#7201a8"
            ],
            [
             0.3333333333333333,
             "#9c179e"
            ],
            [
             0.4444444444444444,
             "#bd3786"
            ],
            [
             0.5555555555555556,
             "#d8576b"
            ],
            [
             0.6666666666666666,
             "#ed7953"
            ],
            [
             0.7777777777777778,
             "#fb9f3a"
            ],
            [
             0.8888888888888888,
             "#fdca26"
            ],
            [
             1,
             "#f0f921"
            ]
           ]
          },
          "colorway": [
           "#636efa",
           "#EF553B",
           "#00cc96",
           "#ab63fa",
           "#FFA15A",
           "#19d3f3",
           "#FF6692",
           "#B6E880",
           "#FF97FF",
           "#FECB52"
          ],
          "font": {
           "color": "#2a3f5f"
          },
          "geo": {
           "bgcolor": "white",
           "lakecolor": "white",
           "landcolor": "#E5ECF6",
           "showlakes": true,
           "showland": true,
           "subunitcolor": "white"
          },
          "hoverlabel": {
           "align": "left"
          },
          "hovermode": "closest",
          "mapbox": {
           "style": "light"
          },
          "paper_bgcolor": "white",
          "plot_bgcolor": "#E5ECF6",
          "polar": {
           "angularaxis": {
            "gridcolor": "white",
            "linecolor": "white",
            "ticks": ""
           },
           "bgcolor": "#E5ECF6",
           "radialaxis": {
            "gridcolor": "white",
            "linecolor": "white",
            "ticks": ""
           }
          },
          "scene": {
           "xaxis": {
            "backgroundcolor": "#E5ECF6",
            "gridcolor": "white",
            "gridwidth": 2,
            "linecolor": "white",
            "showbackground": true,
            "ticks": "",
            "zerolinecolor": "white"
           },
           "yaxis": {
            "backgroundcolor": "#E5ECF6",
            "gridcolor": "white",
            "gridwidth": 2,
            "linecolor": "white",
            "showbackground": true,
            "ticks": "",
            "zerolinecolor": "white"
           },
           "zaxis": {
            "backgroundcolor": "#E5ECF6",
            "gridcolor": "white",
            "gridwidth": 2,
            "linecolor": "white",
            "showbackground": true,
            "ticks": "",
            "zerolinecolor": "white"
           }
          },
          "shapedefaults": {
           "line": {
            "color": "#2a3f5f"
           }
          },
          "ternary": {
           "aaxis": {
            "gridcolor": "white",
            "linecolor": "white",
            "ticks": ""
           },
           "baxis": {
            "gridcolor": "white",
            "linecolor": "white",
            "ticks": ""
           },
           "bgcolor": "#E5ECF6",
           "caxis": {
            "gridcolor": "white",
            "linecolor": "white",
            "ticks": ""
           }
          },
          "title": {
           "x": 0.05
          },
          "xaxis": {
           "automargin": true,
           "gridcolor": "white",
           "linecolor": "white",
           "ticks": "",
           "title": {
            "standoff": 15
           },
           "zerolinecolor": "white",
           "zerolinewidth": 2
          },
          "yaxis": {
           "automargin": true,
           "gridcolor": "white",
           "linecolor": "white",
           "ticks": "",
           "title": {
            "standoff": 15
           },
           "zerolinecolor": "white",
           "zerolinewidth": 2
          }
         }
        },
        "title": {
         "text": "INTC Stock Prices"
        },
        "xaxis": {
         "anchor": "y",
         "domain": [
          0,
          1
         ],
         "title": {
          "text": "Datetime"
         }
        },
        "yaxis": {
         "anchor": "x",
         "domain": [
          0,
          1
         ],
         "title": {
          "text": "Close"
         }
        }
       }
      },
      "text/html": [
       "<div>                            <div id=\"def87af1-4b2c-4437-b0b9-1916a04aa5f3\" class=\"plotly-graph-div\" style=\"height:525px; width:100%;\"></div>            <script type=\"text/javascript\">                require([\"plotly\"], function(Plotly) {                    window.PLOTLYENV=window.PLOTLYENV || {};                                    if (document.getElementById(\"def87af1-4b2c-4437-b0b9-1916a04aa5f3\")) {                    Plotly.newPlot(                        \"def87af1-4b2c-4437-b0b9-1916a04aa5f3\",                        [{\"hovertemplate\":\"Datetime=%{x}<br>Close=%{y}<extra></extra>\",\"legendgroup\":\"\",\"line\":{\"color\":\"#636efa\",\"dash\":\"solid\"},\"marker\":{\"symbol\":\"circle\"},\"mode\":\"lines\",\"name\":\"\",\"orientation\":\"v\",\"showlegend\":false,\"x\":[\"2024-06-06T09:30:00-04:00\",\"2024-06-06T09:31:00-04:00\",\"2024-06-06T09:32:00-04:00\",\"2024-06-06T09:33:00-04:00\",\"2024-06-06T09:34:00-04:00\",\"2024-06-06T09:35:00-04:00\",\"2024-06-06T09:36:00-04:00\",\"2024-06-06T09:37:00-04:00\",\"2024-06-06T09:38:00-04:00\",\"2024-06-06T09:39:00-04:00\",\"2024-06-06T09:40:00-04:00\",\"2024-06-06T09:41:00-04:00\",\"2024-06-06T09:42:00-04:00\",\"2024-06-06T09:43:00-04:00\",\"2024-06-06T09:44:00-04:00\",\"2024-06-06T09:45:00-04:00\",\"2024-06-06T09:46:00-04:00\",\"2024-06-06T09:47:00-04:00\",\"2024-06-06T09:48:00-04:00\",\"2024-06-06T09:49:00-04:00\",\"2024-06-06T09:50:00-04:00\",\"2024-06-06T09:51:00-04:00\",\"2024-06-06T09:52:00-04:00\",\"2024-06-06T09:53:00-04:00\",\"2024-06-06T09:54:00-04:00\",\"2024-06-06T09:55:00-04:00\",\"2024-06-06T09:56:00-04:00\",\"2024-06-06T09:57:00-04:00\",\"2024-06-06T09:58:00-04:00\",\"2024-06-06T09:59:00-04:00\",\"2024-06-06T10:00:00-04:00\",\"2024-06-06T10:01:00-04:00\",\"2024-06-06T10:02:00-04:00\",\"2024-06-06T10:03:00-04:00\",\"2024-06-06T10:04:00-04:00\",\"2024-06-06T10:05:00-04:00\",\"2024-06-06T10:06:00-04:00\",\"2024-06-06T10:07:00-04:00\",\"2024-06-06T10:08:00-04:00\",\"2024-06-06T10:09:00-04:00\",\"2024-06-06T10:10:00-04:00\",\"2024-06-06T10:11:00-04:00\",\"2024-06-06T10:12:00-04:00\",\"2024-06-06T10:13:00-04:00\",\"2024-06-06T10:14:00-04:00\",\"2024-06-06T10:15:00-04:00\",\"2024-06-06T10:16:00-04:00\",\"2024-06-06T10:17:00-04:00\",\"2024-06-06T10:18:00-04:00\",\"2024-06-06T10:19:00-04:00\",\"2024-06-06T10:20:00-04:00\",\"2024-06-06T10:21:00-04:00\",\"2024-06-06T10:22:00-04:00\",\"2024-06-06T10:23:00-04:00\",\"2024-06-06T10:24:00-04:00\",\"2024-06-06T10:25:00-04:00\",\"2024-06-06T10:26:00-04:00\",\"2024-06-06T10:27:00-04:00\",\"2024-06-06T10:28:00-04:00\",\"2024-06-06T10:29:00-04:00\",\"2024-06-06T10:30:00-04:00\",\"2024-06-06T10:31:00-04:00\",\"2024-06-06T10:32:00-04:00\",\"2024-06-06T10:33:00-04:00\",\"2024-06-06T10:34:00-04:00\",\"2024-06-06T10:35:00-04:00\",\"2024-06-06T10:36:00-04:00\",\"2024-06-06T10:37:00-04:00\",\"2024-06-06T10:38:00-04:00\",\"2024-06-06T10:39:00-04:00\",\"2024-06-06T10:40:00-04:00\",\"2024-06-06T10:41:00-04:00\",\"2024-06-06T10:42:00-04:00\",\"2024-06-06T10:43:00-04:00\",\"2024-06-06T10:44:00-04:00\",\"2024-06-06T10:45:00-04:00\",\"2024-06-06T10:46:00-04:00\",\"2024-06-06T10:47:00-04:00\",\"2024-06-06T10:48:00-04:00\",\"2024-06-06T10:49:00-04:00\",\"2024-06-06T10:50:00-04:00\",\"2024-06-06T10:51:00-04:00\",\"2024-06-06T10:52:00-04:00\",\"2024-06-06T10:53:00-04:00\",\"2024-06-06T10:54:00-04:00\",\"2024-06-06T10:55:00-04:00\",\"2024-06-06T10:56:00-04:00\",\"2024-06-06T10:57:00-04:00\",\"2024-06-06T10:58:00-04:00\",\"2024-06-06T10:59:00-04:00\",\"2024-06-06T11:00:00-04:00\",\"2024-06-06T11:01:00-04:00\",\"2024-06-06T11:02:00-04:00\",\"2024-06-06T11:03:00-04:00\",\"2024-06-06T11:04:00-04:00\",\"2024-06-06T11:05:00-04:00\",\"2024-06-06T11:06:00-04:00\",\"2024-06-06T11:07:00-04:00\",\"2024-06-06T11:08:00-04:00\",\"2024-06-06T11:09:00-04:00\",\"2024-06-06T11:10:00-04:00\",\"2024-06-06T11:11:00-04:00\",\"2024-06-06T11:12:00-04:00\",\"2024-06-06T11:13:00-04:00\",\"2024-06-06T11:14:00-04:00\",\"2024-06-06T11:15:00-04:00\",\"2024-06-06T11:16:00-04:00\",\"2024-06-06T11:17:00-04:00\",\"2024-06-06T11:18:00-04:00\",\"2024-06-06T11:19:00-04:00\",\"2024-06-06T11:20:00-04:00\",\"2024-06-06T11:21:00-04:00\",\"2024-06-06T11:22:00-04:00\",\"2024-06-06T11:23:00-04:00\",\"2024-06-06T11:24:00-04:00\",\"2024-06-06T11:25:00-04:00\",\"2024-06-06T11:26:00-04:00\",\"2024-06-06T11:27:00-04:00\",\"2024-06-06T11:28:00-04:00\",\"2024-06-06T11:29:00-04:00\",\"2024-06-06T11:30:00-04:00\",\"2024-06-06T11:31:00-04:00\",\"2024-06-06T11:32:00-04:00\",\"2024-06-06T11:33:00-04:00\",\"2024-06-06T11:34:00-04:00\",\"2024-06-06T11:35:00-04:00\",\"2024-06-06T11:36:00-04:00\",\"2024-06-06T11:37:00-04:00\",\"2024-06-06T11:38:00-04:00\",\"2024-06-06T11:39:00-04:00\",\"2024-06-06T11:40:00-04:00\",\"2024-06-06T11:41:00-04:00\",\"2024-06-06T11:42:00-04:00\",\"2024-06-06T11:43:00-04:00\",\"2024-06-06T11:44:00-04:00\",\"2024-06-06T11:45:00-04:00\",\"2024-06-06T11:46:00-04:00\",\"2024-06-06T11:47:00-04:00\",\"2024-06-06T11:48:00-04:00\",\"2024-06-06T11:49:00-04:00\",\"2024-06-06T11:50:00-04:00\",\"2024-06-06T11:51:00-04:00\",\"2024-06-06T11:52:00-04:00\",\"2024-06-06T11:53:00-04:00\",\"2024-06-06T11:54:00-04:00\",\"2024-06-06T11:55:00-04:00\",\"2024-06-06T11:56:00-04:00\",\"2024-06-06T11:57:00-04:00\",\"2024-06-06T11:58:00-04:00\",\"2024-06-06T11:59:00-04:00\",\"2024-06-06T12:00:00-04:00\",\"2024-06-06T12:01:00-04:00\",\"2024-06-06T12:02:00-04:00\",\"2024-06-06T12:03:00-04:00\",\"2024-06-06T12:04:00-04:00\",\"2024-06-06T12:05:00-04:00\",\"2024-06-06T12:06:00-04:00\",\"2024-06-06T12:07:00-04:00\",\"2024-06-06T12:08:00-04:00\",\"2024-06-06T12:09:00-04:00\",\"2024-06-06T12:10:00-04:00\",\"2024-06-06T12:11:00-04:00\",\"2024-06-06T12:12:00-04:00\",\"2024-06-06T12:13:00-04:00\",\"2024-06-06T12:14:00-04:00\",\"2024-06-06T12:15:00-04:00\",\"2024-06-06T12:16:00-04:00\",\"2024-06-06T12:17:00-04:00\",\"2024-06-06T12:18:00-04:00\",\"2024-06-06T12:19:00-04:00\",\"2024-06-06T12:20:00-04:00\",\"2024-06-06T12:21:00-04:00\",\"2024-06-06T12:22:00-04:00\",\"2024-06-06T12:23:00-04:00\",\"2024-06-06T12:24:00-04:00\",\"2024-06-06T12:25:00-04:00\",\"2024-06-06T12:26:00-04:00\",\"2024-06-06T12:27:00-04:00\",\"2024-06-06T12:28:00-04:00\",\"2024-06-06T12:29:00-04:00\",\"2024-06-06T12:30:00-04:00\",\"2024-06-06T12:31:00-04:00\",\"2024-06-06T12:32:00-04:00\",\"2024-06-06T12:33:00-04:00\",\"2024-06-06T12:34:00-04:00\",\"2024-06-06T12:35:00-04:00\",\"2024-06-06T12:36:00-04:00\",\"2024-06-06T12:37:00-04:00\",\"2024-06-06T12:38:00-04:00\",\"2024-06-06T12:39:00-04:00\",\"2024-06-06T12:40:00-04:00\",\"2024-06-06T12:41:00-04:00\",\"2024-06-06T12:42:00-04:00\",\"2024-06-06T12:43:00-04:00\",\"2024-06-06T12:44:00-04:00\",\"2024-06-06T12:45:00-04:00\",\"2024-06-06T12:46:00-04:00\",\"2024-06-06T12:47:00-04:00\",\"2024-06-06T12:48:00-04:00\",\"2024-06-06T12:49:00-04:00\",\"2024-06-06T12:50:00-04:00\",\"2024-06-06T12:51:00-04:00\",\"2024-06-06T12:52:00-04:00\",\"2024-06-06T12:53:00-04:00\",\"2024-06-06T12:54:00-04:00\",\"2024-06-06T12:55:00-04:00\",\"2024-06-06T12:56:00-04:00\",\"2024-06-06T12:57:00-04:00\",\"2024-06-06T12:58:00-04:00\",\"2024-06-06T12:59:00-04:00\",\"2024-06-06T13:00:00-04:00\",\"2024-06-06T13:01:00-04:00\",\"2024-06-06T13:02:00-04:00\",\"2024-06-06T13:03:00-04:00\",\"2024-06-06T13:04:00-04:00\",\"2024-06-06T13:05:00-04:00\",\"2024-06-06T13:06:00-04:00\",\"2024-06-06T13:07:00-04:00\",\"2024-06-06T13:08:00-04:00\",\"2024-06-06T13:09:00-04:00\",\"2024-06-06T13:10:00-04:00\",\"2024-06-06T13:11:00-04:00\",\"2024-06-06T13:12:00-04:00\",\"2024-06-06T13:13:00-04:00\",\"2024-06-06T13:14:00-04:00\",\"2024-06-06T13:15:00-04:00\",\"2024-06-06T13:16:00-04:00\",\"2024-06-06T13:17:00-04:00\",\"2024-06-06T13:18:00-04:00\",\"2024-06-06T13:19:00-04:00\",\"2024-06-06T13:20:00-04:00\",\"2024-06-06T13:21:00-04:00\",\"2024-06-06T13:22:00-04:00\",\"2024-06-06T13:23:00-04:00\",\"2024-06-06T13:24:00-04:00\",\"2024-06-06T13:25:00-04:00\",\"2024-06-06T13:26:00-04:00\",\"2024-06-06T13:27:00-04:00\",\"2024-06-06T13:28:00-04:00\",\"2024-06-06T13:29:00-04:00\",\"2024-06-06T13:30:00-04:00\",\"2024-06-06T13:31:00-04:00\",\"2024-06-06T13:32:00-04:00\",\"2024-06-06T13:33:00-04:00\",\"2024-06-06T13:34:00-04:00\",\"2024-06-06T13:35:00-04:00\",\"2024-06-06T13:36:00-04:00\",\"2024-06-06T13:37:00-04:00\",\"2024-06-06T13:38:00-04:00\",\"2024-06-06T13:39:00-04:00\",\"2024-06-06T13:40:00-04:00\",\"2024-06-06T13:41:00-04:00\",\"2024-06-06T13:42:00-04:00\",\"2024-06-06T13:43:00-04:00\",\"2024-06-06T13:44:00-04:00\",\"2024-06-06T13:45:00-04:00\",\"2024-06-06T13:46:00-04:00\",\"2024-06-06T13:47:00-04:00\",\"2024-06-06T13:48:00-04:00\",\"2024-06-06T13:49:00-04:00\",\"2024-06-06T13:50:00-04:00\",\"2024-06-06T13:51:00-04:00\",\"2024-06-06T13:52:00-04:00\",\"2024-06-06T13:53:00-04:00\",\"2024-06-06T13:54:00-04:00\",\"2024-06-06T13:55:00-04:00\",\"2024-06-06T13:56:00-04:00\",\"2024-06-06T13:57:00-04:00\",\"2024-06-06T13:58:00-04:00\",\"2024-06-06T13:59:00-04:00\",\"2024-06-06T14:00:00-04:00\",\"2024-06-06T14:01:00-04:00\",\"2024-06-06T14:02:00-04:00\",\"2024-06-06T14:03:00-04:00\",\"2024-06-06T14:04:00-04:00\",\"2024-06-06T14:05:00-04:00\",\"2024-06-06T14:06:00-04:00\",\"2024-06-06T14:07:00-04:00\",\"2024-06-06T14:08:00-04:00\",\"2024-06-06T14:09:00-04:00\",\"2024-06-06T14:10:00-04:00\",\"2024-06-06T14:11:00-04:00\",\"2024-06-06T14:12:00-04:00\",\"2024-06-06T14:13:00-04:00\",\"2024-06-06T14:14:00-04:00\",\"2024-06-06T14:15:00-04:00\",\"2024-06-06T14:16:00-04:00\",\"2024-06-06T14:17:00-04:00\",\"2024-06-06T14:18:00-04:00\",\"2024-06-06T14:19:00-04:00\",\"2024-06-06T14:20:00-04:00\",\"2024-06-06T14:21:00-04:00\",\"2024-06-06T14:22:00-04:00\",\"2024-06-06T14:23:00-04:00\",\"2024-06-06T14:24:00-04:00\",\"2024-06-06T14:25:00-04:00\",\"2024-06-06T14:26:00-04:00\",\"2024-06-06T14:27:00-04:00\",\"2024-06-06T14:28:00-04:00\",\"2024-06-06T14:29:00-04:00\",\"2024-06-06T14:30:00-04:00\",\"2024-06-06T14:31:00-04:00\",\"2024-06-06T14:32:00-04:00\",\"2024-06-06T14:33:00-04:00\",\"2024-06-06T14:34:00-04:00\",\"2024-06-06T14:35:00-04:00\",\"2024-06-06T14:36:00-04:00\",\"2024-06-06T14:37:00-04:00\",\"2024-06-06T14:38:00-04:00\",\"2024-06-06T14:39:00-04:00\",\"2024-06-06T14:40:00-04:00\",\"2024-06-06T14:41:00-04:00\",\"2024-06-06T14:42:00-04:00\",\"2024-06-06T14:43:00-04:00\",\"2024-06-06T14:44:00-04:00\",\"2024-06-06T14:45:00-04:00\",\"2024-06-06T14:46:00-04:00\",\"2024-06-06T14:47:00-04:00\",\"2024-06-06T14:48:00-04:00\",\"2024-06-06T14:49:00-04:00\",\"2024-06-06T14:50:00-04:00\",\"2024-06-06T14:51:00-04:00\",\"2024-06-06T14:52:00-04:00\",\"2024-06-06T14:53:00-04:00\",\"2024-06-06T14:54:00-04:00\",\"2024-06-06T14:55:00-04:00\",\"2024-06-06T14:56:00-04:00\",\"2024-06-06T14:57:00-04:00\",\"2024-06-06T14:58:00-04:00\",\"2024-06-06T14:59:00-04:00\",\"2024-06-06T15:00:00-04:00\",\"2024-06-06T15:01:00-04:00\",\"2024-06-06T15:02:00-04:00\",\"2024-06-06T15:03:00-04:00\",\"2024-06-06T15:04:00-04:00\",\"2024-06-06T15:05:00-04:00\",\"2024-06-06T15:06:00-04:00\",\"2024-06-06T15:07:00-04:00\",\"2024-06-06T15:08:00-04:00\",\"2024-06-06T15:09:00-04:00\",\"2024-06-06T15:10:00-04:00\",\"2024-06-06T15:11:00-04:00\",\"2024-06-06T15:12:00-04:00\",\"2024-06-06T15:13:00-04:00\",\"2024-06-06T15:14:00-04:00\",\"2024-06-06T15:15:00-04:00\",\"2024-06-06T15:16:00-04:00\",\"2024-06-06T15:17:00-04:00\",\"2024-06-06T15:18:00-04:00\",\"2024-06-06T15:19:00-04:00\",\"2024-06-06T15:20:00-04:00\",\"2024-06-06T15:21:00-04:00\",\"2024-06-06T15:22:00-04:00\",\"2024-06-06T15:23:00-04:00\",\"2024-06-06T15:24:00-04:00\",\"2024-06-06T15:25:00-04:00\",\"2024-06-06T15:26:00-04:00\",\"2024-06-06T15:27:00-04:00\",\"2024-06-06T15:28:00-04:00\",\"2024-06-06T15:29:00-04:00\",\"2024-06-06T15:30:00-04:00\",\"2024-06-06T15:31:00-04:00\",\"2024-06-06T15:32:00-04:00\",\"2024-06-06T15:33:00-04:00\",\"2024-06-06T15:34:00-04:00\",\"2024-06-06T15:35:00-04:00\",\"2024-06-06T15:36:00-04:00\",\"2024-06-06T15:37:00-04:00\",\"2024-06-06T15:38:00-04:00\",\"2024-06-06T15:39:00-04:00\",\"2024-06-06T15:40:00-04:00\",\"2024-06-06T15:41:00-04:00\",\"2024-06-06T15:42:00-04:00\",\"2024-06-06T15:43:00-04:00\",\"2024-06-06T15:44:00-04:00\",\"2024-06-06T15:45:00-04:00\",\"2024-06-06T15:46:00-04:00\",\"2024-06-06T15:47:00-04:00\",\"2024-06-06T15:48:00-04:00\",\"2024-06-06T15:49:00-04:00\",\"2024-06-06T15:50:00-04:00\",\"2024-06-06T15:51:00-04:00\",\"2024-06-06T15:52:00-04:00\",\"2024-06-06T15:53:00-04:00\",\"2024-06-06T15:54:00-04:00\",\"2024-06-06T15:55:00-04:00\",\"2024-06-06T15:56:00-04:00\",\"2024-06-06T15:57:00-04:00\",\"2024-06-06T15:58:00-04:00\",\"2024-06-06T15:59:00-04:00\"],\"xaxis\":\"x\",\"y\":[30.43000030517578,30.424999237060547,30.469999313354492,30.477399826049805,30.360000610351562,30.19499969482422,30.206199645996094,30.260000228881836,30.264999389648438,30.260099411010742,30.226200103759766,30.225000381469727,30.239200592041016,30.2450008392334,30.255199432373047,30.2549991607666,30.319900512695312,30.30500030517578,30.34000015258789,30.325000762939453,30.2549991607666,30.258399963378906,30.2549991607666,30.260000228881836,30.28499984741211,30.329999923706055,30.313899993896484,30.33530044555664,30.325000762939453,30.315000534057617,30.299999237060547,30.2549991607666,30.280000686645508,30.300100326538086,30.309999465942383,30.30500030517578,30.290000915527344,30.28499984741211,30.295000076293945,30.289899826049805,30.280000686645508,30.260000228881836,30.264999389648438,30.280000686645508,30.295000076293945,30.27669906616211,30.2450008392334,30.235000610351562,30.235000610351562,30.2549991607666,30.260000228881836,30.28190040588379,30.315000534057617,30.331600189208984,30.330900192260742,30.299999237060547,30.28969955444336,30.299999237060547,30.309999465942383,30.34000015258789,30.334999084472656,30.356000900268555,30.350000381469727,30.35689926147461,30.3700008392334,30.355199813842773,30.36669921875,30.364999771118164,30.354999542236328,30.350000381469727,30.360000610351562,30.34760093688965,30.371999740600586,30.399999618530273,30.400299072265625,30.39550018310547,30.40999984741211,30.392000198364258,30.40999984741211,30.415000915527344,30.409000396728516,30.3799991607666,30.375,30.385000228881836,30.399999618530273,30.385000228881836,30.364999771118164,30.375,30.34000015258789,30.309999465942383,30.29990005493164,30.295000076293945,30.28499984741211,30.280000686645508,30.25,30.2549991607666,30.281099319458008,30.28499984741211,30.309999465942383,30.325000762939453,30.321399688720703,30.3218994140625,30.315000534057617,30.31999969482422,30.315000534057617,30.325000762939453,30.34000015258789,30.334999084472656,30.34000015258789,30.34000015258789,30.364999771118164,30.364999771118164,30.354999542236328,30.352500915527344,30.364999771118164,30.3700008392334,30.3700008392334,30.396699905395508,30.399999618530273,30.395000457763672,30.388500213623047,30.40999984741211,30.396699905395508,30.385000228881836,30.360000610351562,30.377599716186523,30.41010093688965,30.41990089416504,30.415000915527344,30.415000915527344,30.422199249267578,30.454999923706055,30.440000534057617,30.44499969482422,30.44499969482422,30.454999923706055,30.434999465942383,30.44499969482422,30.434999465942383,30.42340087890625,30.434999465942383,30.449800491333008,30.479999542236328,30.469999313354492,30.469999313354492,30.454999923706055,30.44499969482422,30.46500015258789,30.459999084472656,30.454999923706055,30.450199127197266,30.43829917907715,30.44499969482422,30.4414005279541,30.430099487304688,30.42009925842285,30.400100708007812,30.385000228881836,30.385000228881836,30.395000457763672,30.399999618530273,30.389999389648438,30.405000686645508,30.405000686645508,30.391700744628906,30.405000686645508,30.385000228881836,30.399999618530273,30.409900665283203,30.385000228881836,30.3700008392334,30.375,30.375,30.375,30.38990020751953,30.385000228881836,30.3966007232666,30.3799991607666,30.370100021362305,30.371599197387695,30.3799991607666,30.399900436401367,30.385000228881836,30.3843994140625,30.37190055847168,30.375,30.360000610351562,30.36009979248047,30.362300872802734,30.364999771118164,30.375,30.372299194335938,30.375,30.375,30.3700008392334,30.399999618530273,30.395999908447266,30.395000457763672,30.389999389648438,30.389999389648438,30.395000457763672,30.409900665283203,30.422100067138672,30.44499969482422,30.454999923706055,30.46310043334961,30.459999084472656,30.46500015258789,30.489999771118164,30.47010040283203,30.4950008392334,30.5049991607666,30.4950008392334,30.485000610351562,30.5,30.497699737548828,30.4950008392334,30.500099182128906,30.5,30.489999771118164,30.492000579833984,30.479999542236328,30.475000381469727,30.469999313354492,30.46500015258789,30.46030044555664,30.459999084472656,30.454999923706055,30.44499969482422,30.450000762939453,30.439899444580078,30.43000030517578,30.440200805664062,30.454999923706055,30.454999923706055,30.462799072265625,30.475000381469727,30.475000381469727,30.4689998626709,30.46500015258789,30.459999084472656,30.452800750732422,30.454999923706055,30.44499969482422,30.44499969482422,30.440000534057617,30.44499969482422,30.454999923706055,30.46500015258789,30.4950008392334,30.485000610351562,30.4950008392334,30.510000228881836,30.5049991607666,30.5,30.512399673461914,30.510000228881836,30.4950008392334,30.485000610351562,30.475000381469727,30.485000610351562,30.475000381469727,30.46500015258789,30.469999313354492,30.489900588989258,30.485000610351562,30.469999313354492,30.47760009765625,30.46500015258789,30.434999465942383,30.44499969482422,30.43000030517578,30.412399291992188,30.40999984741211,30.390100479125977,30.36050033569336,30.360000610351562,30.364999771118164,30.363399505615234,30.364999771118164,30.3700008392334,30.38990020751953,30.385000228881836,30.399900436401367,30.392499923706055,30.395000457763672,30.389999389648438,30.39459991455078,30.439699172973633,30.422100067138672,30.41670036315918,30.415000915527344,30.42009925842285,30.40999984741211,30.41189956665039,30.415000915527344,30.415000915527344,30.415000915527344,30.415000915527344,30.440000534057617,30.424999237060547,30.43000030517578,30.43000030517578,30.43000030517578,30.434999465942383,30.454999923706055,30.453800201416016,30.459999084472656,30.43160057067871,30.434999465942383,30.43000030517578,30.43000030517578,30.424999237060547,30.424999237060547,30.424999237060547,30.4325008392334,30.44219970703125,30.44499969482422,30.44499969482422,30.44219970703125,30.468599319458008,30.453100204467773,30.489999771118164,30.47010040283203,30.475000381469727,30.46980094909668,30.465700149536133,30.46500015258789,30.459999084472656,30.458900451660156,30.434999465942383,30.434999465942383,30.434999465942383,30.431499481201172,30.434999465942383,30.454999923706055,30.44499969482422,30.454999923706055,30.462299346923828,30.46500015258789,30.479999542236328,30.485000610351562,30.462200164794922,30.466999053955078,30.45989990234375,30.469999313354492,30.47260093688965,30.485000610351562,30.485000610351562,30.50510025024414,30.50200080871582,30.493000030517578,30.48189926147461,30.485000610351562,30.469999313354492,30.475000381469727,30.469999313354492,30.485000610351562,30.5049991607666,30.50749969482422,30.479999542236328,30.459999084472656,30.459999084472656,30.475000381469727,30.485000610351562,30.5049991607666,30.50029945373535,30.5,30.5,30.49449920654297,30.485000610351562,30.479999542236328,30.485000610351562,30.489999771118164,30.4950008392334,30.48310089111328,30.4950008392334,30.490100860595703,30.524999618530273,30.53499984741211,30.55500030517578,30.522899627685547,30.540000915527344,30.540000915527344,30.454999923706055,30.440000534057617,30.415000915527344,30.40999984741211,30.395000457763672,30.420000076293945],\"yaxis\":\"y\",\"type\":\"scatter\"}],                        {\"template\":{\"data\":{\"histogram2dcontour\":[{\"type\":\"histogram2dcontour\",\"colorbar\":{\"outlinewidth\":0,\"ticks\":\"\"},\"colorscale\":[[0.0,\"#0d0887\"],[0.1111111111111111,\"#46039f\"],[0.2222222222222222,\"#7201a8\"],[0.3333333333333333,\"#9c179e\"],[0.4444444444444444,\"#bd3786\"],[0.5555555555555556,\"#d8576b\"],[0.6666666666666666,\"#ed7953\"],[0.7777777777777778,\"#fb9f3a\"],[0.8888888888888888,\"#fdca26\"],[1.0,\"#f0f921\"]]}],\"choropleth\":[{\"type\":\"choropleth\",\"colorbar\":{\"outlinewidth\":0,\"ticks\":\"\"}}],\"histogram2d\":[{\"type\":\"histogram2d\",\"colorbar\":{\"outlinewidth\":0,\"ticks\":\"\"},\"colorscale\":[[0.0,\"#0d0887\"],[0.1111111111111111,\"#46039f\"],[0.2222222222222222,\"#7201a8\"],[0.3333333333333333,\"#9c179e\"],[0.4444444444444444,\"#bd3786\"],[0.5555555555555556,\"#d8576b\"],[0.6666666666666666,\"#ed7953\"],[0.7777777777777778,\"#fb9f3a\"],[0.8888888888888888,\"#fdca26\"],[1.0,\"#f0f921\"]]}],\"heatmap\":[{\"type\":\"heatmap\",\"colorbar\":{\"outlinewidth\":0,\"ticks\":\"\"},\"colorscale\":[[0.0,\"#0d0887\"],[0.1111111111111111,\"#46039f\"],[0.2222222222222222,\"#7201a8\"],[0.3333333333333333,\"#9c179e\"],[0.4444444444444444,\"#bd3786\"],[0.5555555555555556,\"#d8576b\"],[0.6666666666666666,\"#ed7953\"],[0.7777777777777778,\"#fb9f3a\"],[0.8888888888888888,\"#fdca26\"],[1.0,\"#f0f921\"]]}],\"heatmapgl\":[{\"type\":\"heatmapgl\",\"colorbar\":{\"outlinewidth\":0,\"ticks\":\"\"},\"colorscale\":[[0.0,\"#0d0887\"],[0.1111111111111111,\"#46039f\"],[0.2222222222222222,\"#7201a8\"],[0.3333333333333333,\"#9c179e\"],[0.4444444444444444,\"#bd3786\"],[0.5555555555555556,\"#d8576b\"],[0.6666666666666666,\"#ed7953\"],[0.7777777777777778,\"#fb9f3a\"],[0.8888888888888888,\"#fdca26\"],[1.0,\"#f0f921\"]]}],\"contourcarpet\":[{\"type\":\"contourcarpet\",\"colorbar\":{\"outlinewidth\":0,\"ticks\":\"\"}}],\"contour\":[{\"type\":\"contour\",\"colorbar\":{\"outlinewidth\":0,\"ticks\":\"\"},\"colorscale\":[[0.0,\"#0d0887\"],[0.1111111111111111,\"#46039f\"],[0.2222222222222222,\"#7201a8\"],[0.3333333333333333,\"#9c179e\"],[0.4444444444444444,\"#bd3786\"],[0.5555555555555556,\"#d8576b\"],[0.6666666666666666,\"#ed7953\"],[0.7777777777777778,\"#fb9f3a\"],[0.8888888888888888,\"#fdca26\"],[1.0,\"#f0f921\"]]}],\"surface\":[{\"type\":\"surface\",\"colorbar\":{\"outlinewidth\":0,\"ticks\":\"\"},\"colorscale\":[[0.0,\"#0d0887\"],[0.1111111111111111,\"#46039f\"],[0.2222222222222222,\"#7201a8\"],[0.3333333333333333,\"#9c179e\"],[0.4444444444444444,\"#bd3786\"],[0.5555555555555556,\"#d8576b\"],[0.6666666666666666,\"#ed7953\"],[0.7777777777777778,\"#fb9f3a\"],[0.8888888888888888,\"#fdca26\"],[1.0,\"#f0f921\"]]}],\"mesh3d\":[{\"type\":\"mesh3d\",\"colorbar\":{\"outlinewidth\":0,\"ticks\":\"\"}}],\"scatter\":[{\"fillpattern\":{\"fillmode\":\"overlay\",\"size\":10,\"solidity\":0.2},\"type\":\"scatter\"}],\"parcoords\":[{\"type\":\"parcoords\",\"line\":{\"colorbar\":{\"outlinewidth\":0,\"ticks\":\"\"}}}],\"scatterpolargl\":[{\"type\":\"scatterpolargl\",\"marker\":{\"colorbar\":{\"outlinewidth\":0,\"ticks\":\"\"}}}],\"bar\":[{\"error_x\":{\"color\":\"#2a3f5f\"},\"error_y\":{\"color\":\"#2a3f5f\"},\"marker\":{\"line\":{\"color\":\"#E5ECF6\",\"width\":0.5},\"pattern\":{\"fillmode\":\"overlay\",\"size\":10,\"solidity\":0.2}},\"type\":\"bar\"}],\"scattergeo\":[{\"type\":\"scattergeo\",\"marker\":{\"colorbar\":{\"outlinewidth\":0,\"ticks\":\"\"}}}],\"scatterpolar\":[{\"type\":\"scatterpolar\",\"marker\":{\"colorbar\":{\"outlinewidth\":0,\"ticks\":\"\"}}}],\"histogram\":[{\"marker\":{\"pattern\":{\"fillmode\":\"overlay\",\"size\":10,\"solidity\":0.2}},\"type\":\"histogram\"}],\"scattergl\":[{\"type\":\"scattergl\",\"marker\":{\"colorbar\":{\"outlinewidth\":0,\"ticks\":\"\"}}}],\"scatter3d\":[{\"type\":\"scatter3d\",\"line\":{\"colorbar\":{\"outlinewidth\":0,\"ticks\":\"\"}},\"marker\":{\"colorbar\":{\"outlinewidth\":0,\"ticks\":\"\"}}}],\"scattermapbox\":[{\"type\":\"scattermapbox\",\"marker\":{\"colorbar\":{\"outlinewidth\":0,\"ticks\":\"\"}}}],\"scatterternary\":[{\"type\":\"scatterternary\",\"marker\":{\"colorbar\":{\"outlinewidth\":0,\"ticks\":\"\"}}}],\"scattercarpet\":[{\"type\":\"scattercarpet\",\"marker\":{\"colorbar\":{\"outlinewidth\":0,\"ticks\":\"\"}}}],\"carpet\":[{\"aaxis\":{\"endlinecolor\":\"#2a3f5f\",\"gridcolor\":\"white\",\"linecolor\":\"white\",\"minorgridcolor\":\"white\",\"startlinecolor\":\"#2a3f5f\"},\"baxis\":{\"endlinecolor\":\"#2a3f5f\",\"gridcolor\":\"white\",\"linecolor\":\"white\",\"minorgridcolor\":\"white\",\"startlinecolor\":\"#2a3f5f\"},\"type\":\"carpet\"}],\"table\":[{\"cells\":{\"fill\":{\"color\":\"#EBF0F8\"},\"line\":{\"color\":\"white\"}},\"header\":{\"fill\":{\"color\":\"#C8D4E3\"},\"line\":{\"color\":\"white\"}},\"type\":\"table\"}],\"barpolar\":[{\"marker\":{\"line\":{\"color\":\"#E5ECF6\",\"width\":0.5},\"pattern\":{\"fillmode\":\"overlay\",\"size\":10,\"solidity\":0.2}},\"type\":\"barpolar\"}],\"pie\":[{\"automargin\":true,\"type\":\"pie\"}]},\"layout\":{\"autotypenumbers\":\"strict\",\"colorway\":[\"#636efa\",\"#EF553B\",\"#00cc96\",\"#ab63fa\",\"#FFA15A\",\"#19d3f3\",\"#FF6692\",\"#B6E880\",\"#FF97FF\",\"#FECB52\"],\"font\":{\"color\":\"#2a3f5f\"},\"hovermode\":\"closest\",\"hoverlabel\":{\"align\":\"left\"},\"paper_bgcolor\":\"white\",\"plot_bgcolor\":\"#E5ECF6\",\"polar\":{\"bgcolor\":\"#E5ECF6\",\"angularaxis\":{\"gridcolor\":\"white\",\"linecolor\":\"white\",\"ticks\":\"\"},\"radialaxis\":{\"gridcolor\":\"white\",\"linecolor\":\"white\",\"ticks\":\"\"}},\"ternary\":{\"bgcolor\":\"#E5ECF6\",\"aaxis\":{\"gridcolor\":\"white\",\"linecolor\":\"white\",\"ticks\":\"\"},\"baxis\":{\"gridcolor\":\"white\",\"linecolor\":\"white\",\"ticks\":\"\"},\"caxis\":{\"gridcolor\":\"white\",\"linecolor\":\"white\",\"ticks\":\"\"}},\"coloraxis\":{\"colorbar\":{\"outlinewidth\":0,\"ticks\":\"\"}},\"colorscale\":{\"sequential\":[[0.0,\"#0d0887\"],[0.1111111111111111,\"#46039f\"],[0.2222222222222222,\"#7201a8\"],[0.3333333333333333,\"#9c179e\"],[0.4444444444444444,\"#bd3786\"],[0.5555555555555556,\"#d8576b\"],[0.6666666666666666,\"#ed7953\"],[0.7777777777777778,\"#fb9f3a\"],[0.8888888888888888,\"#fdca26\"],[1.0,\"#f0f921\"]],\"sequentialminus\":[[0.0,\"#0d0887\"],[0.1111111111111111,\"#46039f\"],[0.2222222222222222,\"#7201a8\"],[0.3333333333333333,\"#9c179e\"],[0.4444444444444444,\"#bd3786\"],[0.5555555555555556,\"#d8576b\"],[0.6666666666666666,\"#ed7953\"],[0.7777777777777778,\"#fb9f3a\"],[0.8888888888888888,\"#fdca26\"],[1.0,\"#f0f921\"]],\"diverging\":[[0,\"#8e0152\"],[0.1,\"#c51b7d\"],[0.2,\"#de77ae\"],[0.3,\"#f1b6da\"],[0.4,\"#fde0ef\"],[0.5,\"#f7f7f7\"],[0.6,\"#e6f5d0\"],[0.7,\"#b8e186\"],[0.8,\"#7fbc41\"],[0.9,\"#4d9221\"],[1,\"#276419\"]]},\"xaxis\":{\"gridcolor\":\"white\",\"linecolor\":\"white\",\"ticks\":\"\",\"title\":{\"standoff\":15},\"zerolinecolor\":\"white\",\"automargin\":true,\"zerolinewidth\":2},\"yaxis\":{\"gridcolor\":\"white\",\"linecolor\":\"white\",\"ticks\":\"\",\"title\":{\"standoff\":15},\"zerolinecolor\":\"white\",\"automargin\":true,\"zerolinewidth\":2},\"scene\":{\"xaxis\":{\"backgroundcolor\":\"#E5ECF6\",\"gridcolor\":\"white\",\"linecolor\":\"white\",\"showbackground\":true,\"ticks\":\"\",\"zerolinecolor\":\"white\",\"gridwidth\":2},\"yaxis\":{\"backgroundcolor\":\"#E5ECF6\",\"gridcolor\":\"white\",\"linecolor\":\"white\",\"showbackground\":true,\"ticks\":\"\",\"zerolinecolor\":\"white\",\"gridwidth\":2},\"zaxis\":{\"backgroundcolor\":\"#E5ECF6\",\"gridcolor\":\"white\",\"linecolor\":\"white\",\"showbackground\":true,\"ticks\":\"\",\"zerolinecolor\":\"white\",\"gridwidth\":2}},\"shapedefaults\":{\"line\":{\"color\":\"#2a3f5f\"}},\"annotationdefaults\":{\"arrowcolor\":\"#2a3f5f\",\"arrowhead\":0,\"arrowwidth\":1},\"geo\":{\"bgcolor\":\"white\",\"landcolor\":\"#E5ECF6\",\"subunitcolor\":\"white\",\"showland\":true,\"showlakes\":true,\"lakecolor\":\"white\"},\"title\":{\"x\":0.05},\"mapbox\":{\"style\":\"light\"}}},\"xaxis\":{\"anchor\":\"y\",\"domain\":[0.0,1.0],\"title\":{\"text\":\"Datetime\"}},\"yaxis\":{\"anchor\":\"x\",\"domain\":[0.0,1.0],\"title\":{\"text\":\"Close\"}},\"legend\":{\"tracegroupgap\":0},\"title\":{\"text\":\"INTC Stock Prices\"}},                        {\"responsive\": true}                    ).then(function(){\n",
       "                            \n",
       "var gd = document.getElementById('def87af1-4b2c-4437-b0b9-1916a04aa5f3');\n",
       "var x = new MutationObserver(function (mutations, observer) {{\n",
       "        var display = window.getComputedStyle(gd).display;\n",
       "        if (!display || display === 'none') {{\n",
       "            console.log([gd, 'removed!']);\n",
       "            Plotly.purge(gd);\n",
       "            observer.disconnect();\n",
       "        }}\n",
       "}});\n",
       "\n",
       "// Listen for the removal of the full notebook cells\n",
       "var notebookContainer = gd.closest('#notebook-container');\n",
       "if (notebookContainer) {{\n",
       "    x.observe(notebookContainer, {childList: true});\n",
       "}}\n",
       "\n",
       "// Listen for the clearing of the current output cell\n",
       "var outputEl = gd.closest('.output');\n",
       "if (outputEl) {{\n",
       "    x.observe(outputEl, {childList: true});\n",
       "}}\n",
       "\n",
       "                        })                };                });            </script>        </div>"
      ]
     },
     "metadata": {},
     "output_type": "display_data"
    },
    {
     "name": "stdout",
     "output_type": "stream",
     "text": [
      "How many previous data points should our model look at?\n",
      "(Type 'Exit' to quit)\n",
      "30\n"
     ]
    },
    {
     "data": {
      "application/vnd.plotly.v1+json": {
       "config": {
        "plotlyServerURL": "https://plot.ly"
       },
       "data": [
        {
         "hovertemplate": "variable=SMA_24<br>Datetime=%{x}<br>value=%{y}<extra></extra>",
         "legendgroup": "SMA_24",
         "line": {
          "color": "#85deb1",
          "dash": "solid"
         },
         "marker": {
          "symbol": "circle"
         },
         "mode": "lines",
         "name": "SMA_24",
         "showlegend": true,
         "type": "scattergl",
         "x": [
          "2024-06-06T09:30:00-04:00",
          "2024-06-06T09:31:00-04:00",
          "2024-06-06T09:32:00-04:00",
          "2024-06-06T09:33:00-04:00",
          "2024-06-06T09:34:00-04:00",
          "2024-06-06T09:35:00-04:00",
          "2024-06-06T09:36:00-04:00",
          "2024-06-06T09:37:00-04:00",
          "2024-06-06T09:38:00-04:00",
          "2024-06-06T09:39:00-04:00",
          "2024-06-06T09:40:00-04:00",
          "2024-06-06T09:41:00-04:00",
          "2024-06-06T09:42:00-04:00",
          "2024-06-06T09:43:00-04:00",
          "2024-06-06T09:44:00-04:00",
          "2024-06-06T09:45:00-04:00",
          "2024-06-06T09:46:00-04:00",
          "2024-06-06T09:47:00-04:00",
          "2024-06-06T09:48:00-04:00",
          "2024-06-06T09:49:00-04:00",
          "2024-06-06T09:50:00-04:00",
          "2024-06-06T09:51:00-04:00",
          "2024-06-06T09:52:00-04:00",
          "2024-06-06T09:53:00-04:00",
          "2024-06-06T09:54:00-04:00",
          "2024-06-06T09:55:00-04:00",
          "2024-06-06T09:56:00-04:00",
          "2024-06-06T09:57:00-04:00",
          "2024-06-06T09:58:00-04:00",
          "2024-06-06T09:59:00-04:00",
          "2024-06-06T10:00:00-04:00",
          "2024-06-06T10:01:00-04:00",
          "2024-06-06T10:02:00-04:00",
          "2024-06-06T10:03:00-04:00",
          "2024-06-06T10:04:00-04:00",
          "2024-06-06T10:05:00-04:00",
          "2024-06-06T10:06:00-04:00",
          "2024-06-06T10:07:00-04:00",
          "2024-06-06T10:08:00-04:00",
          "2024-06-06T10:09:00-04:00",
          "2024-06-06T10:10:00-04:00",
          "2024-06-06T10:11:00-04:00",
          "2024-06-06T10:12:00-04:00",
          "2024-06-06T10:13:00-04:00",
          "2024-06-06T10:14:00-04:00",
          "2024-06-06T10:15:00-04:00",
          "2024-06-06T10:16:00-04:00",
          "2024-06-06T10:17:00-04:00",
          "2024-06-06T10:18:00-04:00",
          "2024-06-06T10:19:00-04:00",
          "2024-06-06T10:20:00-04:00",
          "2024-06-06T10:21:00-04:00",
          "2024-06-06T10:22:00-04:00",
          "2024-06-06T10:23:00-04:00",
          "2024-06-06T10:24:00-04:00",
          "2024-06-06T10:25:00-04:00",
          "2024-06-06T10:26:00-04:00",
          "2024-06-06T10:27:00-04:00",
          "2024-06-06T10:28:00-04:00",
          "2024-06-06T10:29:00-04:00",
          "2024-06-06T10:30:00-04:00",
          "2024-06-06T10:31:00-04:00",
          "2024-06-06T10:32:00-04:00",
          "2024-06-06T10:33:00-04:00",
          "2024-06-06T10:34:00-04:00",
          "2024-06-06T10:35:00-04:00",
          "2024-06-06T10:36:00-04:00",
          "2024-06-06T10:37:00-04:00",
          "2024-06-06T10:38:00-04:00",
          "2024-06-06T10:39:00-04:00",
          "2024-06-06T10:40:00-04:00",
          "2024-06-06T10:41:00-04:00",
          "2024-06-06T10:42:00-04:00",
          "2024-06-06T10:43:00-04:00",
          "2024-06-06T10:44:00-04:00",
          "2024-06-06T10:45:00-04:00",
          "2024-06-06T10:46:00-04:00",
          "2024-06-06T10:47:00-04:00",
          "2024-06-06T10:48:00-04:00",
          "2024-06-06T10:49:00-04:00",
          "2024-06-06T10:50:00-04:00",
          "2024-06-06T10:51:00-04:00",
          "2024-06-06T10:52:00-04:00",
          "2024-06-06T10:53:00-04:00",
          "2024-06-06T10:54:00-04:00",
          "2024-06-06T10:55:00-04:00",
          "2024-06-06T10:56:00-04:00",
          "2024-06-06T10:57:00-04:00",
          "2024-06-06T10:58:00-04:00",
          "2024-06-06T10:59:00-04:00",
          "2024-06-06T11:00:00-04:00",
          "2024-06-06T11:01:00-04:00",
          "2024-06-06T11:02:00-04:00",
          "2024-06-06T11:03:00-04:00",
          "2024-06-06T11:04:00-04:00",
          "2024-06-06T11:05:00-04:00",
          "2024-06-06T11:06:00-04:00",
          "2024-06-06T11:07:00-04:00",
          "2024-06-06T11:08:00-04:00",
          "2024-06-06T11:09:00-04:00",
          "2024-06-06T11:10:00-04:00",
          "2024-06-06T11:11:00-04:00",
          "2024-06-06T11:12:00-04:00",
          "2024-06-06T11:13:00-04:00",
          "2024-06-06T11:14:00-04:00",
          "2024-06-06T11:15:00-04:00",
          "2024-06-06T11:16:00-04:00",
          "2024-06-06T11:17:00-04:00",
          "2024-06-06T11:18:00-04:00",
          "2024-06-06T11:19:00-04:00",
          "2024-06-06T11:20:00-04:00",
          "2024-06-06T11:21:00-04:00",
          "2024-06-06T11:22:00-04:00",
          "2024-06-06T11:23:00-04:00",
          "2024-06-06T11:24:00-04:00",
          "2024-06-06T11:25:00-04:00",
          "2024-06-06T11:26:00-04:00",
          "2024-06-06T11:27:00-04:00",
          "2024-06-06T11:28:00-04:00",
          "2024-06-06T11:29:00-04:00",
          "2024-06-06T11:30:00-04:00",
          "2024-06-06T11:31:00-04:00",
          "2024-06-06T11:32:00-04:00",
          "2024-06-06T11:33:00-04:00",
          "2024-06-06T11:34:00-04:00",
          "2024-06-06T11:35:00-04:00",
          "2024-06-06T11:36:00-04:00",
          "2024-06-06T11:37:00-04:00",
          "2024-06-06T11:38:00-04:00",
          "2024-06-06T11:39:00-04:00",
          "2024-06-06T11:40:00-04:00",
          "2024-06-06T11:41:00-04:00",
          "2024-06-06T11:42:00-04:00",
          "2024-06-06T11:43:00-04:00",
          "2024-06-06T11:44:00-04:00",
          "2024-06-06T11:45:00-04:00",
          "2024-06-06T11:46:00-04:00",
          "2024-06-06T11:47:00-04:00",
          "2024-06-06T11:48:00-04:00",
          "2024-06-06T11:49:00-04:00",
          "2024-06-06T11:50:00-04:00",
          "2024-06-06T11:51:00-04:00",
          "2024-06-06T11:52:00-04:00",
          "2024-06-06T11:53:00-04:00",
          "2024-06-06T11:54:00-04:00",
          "2024-06-06T11:55:00-04:00",
          "2024-06-06T11:56:00-04:00",
          "2024-06-06T11:57:00-04:00",
          "2024-06-06T11:58:00-04:00",
          "2024-06-06T11:59:00-04:00",
          "2024-06-06T12:00:00-04:00",
          "2024-06-06T12:01:00-04:00",
          "2024-06-06T12:02:00-04:00",
          "2024-06-06T12:03:00-04:00",
          "2024-06-06T12:04:00-04:00",
          "2024-06-06T12:05:00-04:00",
          "2024-06-06T12:06:00-04:00",
          "2024-06-06T12:07:00-04:00",
          "2024-06-06T12:08:00-04:00",
          "2024-06-06T12:09:00-04:00",
          "2024-06-06T12:10:00-04:00",
          "2024-06-06T12:11:00-04:00",
          "2024-06-06T12:12:00-04:00",
          "2024-06-06T12:13:00-04:00",
          "2024-06-06T12:14:00-04:00",
          "2024-06-06T12:15:00-04:00",
          "2024-06-06T12:16:00-04:00",
          "2024-06-06T12:17:00-04:00",
          "2024-06-06T12:18:00-04:00",
          "2024-06-06T12:19:00-04:00",
          "2024-06-06T12:20:00-04:00",
          "2024-06-06T12:21:00-04:00",
          "2024-06-06T12:22:00-04:00",
          "2024-06-06T12:23:00-04:00",
          "2024-06-06T12:24:00-04:00",
          "2024-06-06T12:25:00-04:00",
          "2024-06-06T12:26:00-04:00",
          "2024-06-06T12:27:00-04:00",
          "2024-06-06T12:28:00-04:00",
          "2024-06-06T12:29:00-04:00",
          "2024-06-06T12:30:00-04:00",
          "2024-06-06T12:31:00-04:00",
          "2024-06-06T12:32:00-04:00",
          "2024-06-06T12:33:00-04:00",
          "2024-06-06T12:34:00-04:00",
          "2024-06-06T12:35:00-04:00",
          "2024-06-06T12:36:00-04:00",
          "2024-06-06T12:37:00-04:00",
          "2024-06-06T12:38:00-04:00",
          "2024-06-06T12:39:00-04:00",
          "2024-06-06T12:40:00-04:00",
          "2024-06-06T12:41:00-04:00",
          "2024-06-06T12:42:00-04:00",
          "2024-06-06T12:43:00-04:00",
          "2024-06-06T12:44:00-04:00",
          "2024-06-06T12:45:00-04:00",
          "2024-06-06T12:46:00-04:00",
          "2024-06-06T12:47:00-04:00",
          "2024-06-06T12:48:00-04:00",
          "2024-06-06T12:49:00-04:00",
          "2024-06-06T12:50:00-04:00",
          "2024-06-06T12:51:00-04:00",
          "2024-06-06T12:52:00-04:00",
          "2024-06-06T12:53:00-04:00",
          "2024-06-06T12:54:00-04:00",
          "2024-06-06T12:55:00-04:00",
          "2024-06-06T12:56:00-04:00",
          "2024-06-06T12:57:00-04:00",
          "2024-06-06T12:58:00-04:00",
          "2024-06-06T12:59:00-04:00",
          "2024-06-06T13:00:00-04:00",
          "2024-06-06T13:01:00-04:00",
          "2024-06-06T13:02:00-04:00",
          "2024-06-06T13:03:00-04:00",
          "2024-06-06T13:04:00-04:00",
          "2024-06-06T13:05:00-04:00",
          "2024-06-06T13:06:00-04:00",
          "2024-06-06T13:07:00-04:00",
          "2024-06-06T13:08:00-04:00",
          "2024-06-06T13:09:00-04:00",
          "2024-06-06T13:10:00-04:00",
          "2024-06-06T13:11:00-04:00",
          "2024-06-06T13:12:00-04:00",
          "2024-06-06T13:13:00-04:00",
          "2024-06-06T13:14:00-04:00",
          "2024-06-06T13:15:00-04:00",
          "2024-06-06T13:16:00-04:00",
          "2024-06-06T13:17:00-04:00",
          "2024-06-06T13:18:00-04:00",
          "2024-06-06T13:19:00-04:00",
          "2024-06-06T13:20:00-04:00",
          "2024-06-06T13:21:00-04:00",
          "2024-06-06T13:22:00-04:00",
          "2024-06-06T13:23:00-04:00",
          "2024-06-06T13:24:00-04:00",
          "2024-06-06T13:25:00-04:00",
          "2024-06-06T13:26:00-04:00",
          "2024-06-06T13:27:00-04:00",
          "2024-06-06T13:28:00-04:00",
          "2024-06-06T13:29:00-04:00",
          "2024-06-06T13:30:00-04:00",
          "2024-06-06T13:31:00-04:00",
          "2024-06-06T13:32:00-04:00",
          "2024-06-06T13:33:00-04:00",
          "2024-06-06T13:34:00-04:00",
          "2024-06-06T13:35:00-04:00",
          "2024-06-06T13:36:00-04:00",
          "2024-06-06T13:37:00-04:00",
          "2024-06-06T13:38:00-04:00",
          "2024-06-06T13:39:00-04:00",
          "2024-06-06T13:40:00-04:00",
          "2024-06-06T13:41:00-04:00",
          "2024-06-06T13:42:00-04:00",
          "2024-06-06T13:43:00-04:00",
          "2024-06-06T13:44:00-04:00",
          "2024-06-06T13:45:00-04:00",
          "2024-06-06T13:46:00-04:00",
          "2024-06-06T13:47:00-04:00",
          "2024-06-06T13:48:00-04:00",
          "2024-06-06T13:49:00-04:00",
          "2024-06-06T13:50:00-04:00",
          "2024-06-06T13:51:00-04:00",
          "2024-06-06T13:52:00-04:00",
          "2024-06-06T13:53:00-04:00",
          "2024-06-06T13:54:00-04:00",
          "2024-06-06T13:55:00-04:00",
          "2024-06-06T13:56:00-04:00",
          "2024-06-06T13:57:00-04:00",
          "2024-06-06T13:58:00-04:00",
          "2024-06-06T13:59:00-04:00",
          "2024-06-06T14:00:00-04:00",
          "2024-06-06T14:01:00-04:00",
          "2024-06-06T14:02:00-04:00",
          "2024-06-06T14:03:00-04:00",
          "2024-06-06T14:04:00-04:00",
          "2024-06-06T14:05:00-04:00",
          "2024-06-06T14:06:00-04:00",
          "2024-06-06T14:07:00-04:00",
          "2024-06-06T14:08:00-04:00",
          "2024-06-06T14:09:00-04:00",
          "2024-06-06T14:10:00-04:00",
          "2024-06-06T14:11:00-04:00",
          "2024-06-06T14:12:00-04:00",
          "2024-06-06T14:13:00-04:00",
          "2024-06-06T14:14:00-04:00",
          "2024-06-06T14:15:00-04:00",
          "2024-06-06T14:16:00-04:00",
          "2024-06-06T14:17:00-04:00",
          "2024-06-06T14:18:00-04:00",
          "2024-06-06T14:19:00-04:00",
          "2024-06-06T14:20:00-04:00",
          "2024-06-06T14:21:00-04:00",
          "2024-06-06T14:22:00-04:00",
          "2024-06-06T14:23:00-04:00",
          "2024-06-06T14:24:00-04:00",
          "2024-06-06T14:25:00-04:00",
          "2024-06-06T14:26:00-04:00",
          "2024-06-06T14:27:00-04:00",
          "2024-06-06T14:28:00-04:00",
          "2024-06-06T14:29:00-04:00",
          "2024-06-06T14:30:00-04:00",
          "2024-06-06T14:31:00-04:00",
          "2024-06-06T14:32:00-04:00",
          "2024-06-06T14:33:00-04:00",
          "2024-06-06T14:34:00-04:00",
          "2024-06-06T14:35:00-04:00",
          "2024-06-06T14:36:00-04:00",
          "2024-06-06T14:37:00-04:00",
          "2024-06-06T14:38:00-04:00",
          "2024-06-06T14:39:00-04:00",
          "2024-06-06T14:40:00-04:00",
          "2024-06-06T14:41:00-04:00",
          "2024-06-06T14:42:00-04:00",
          "2024-06-06T14:43:00-04:00",
          "2024-06-06T14:44:00-04:00",
          "2024-06-06T14:45:00-04:00",
          "2024-06-06T14:46:00-04:00",
          "2024-06-06T14:47:00-04:00",
          "2024-06-06T14:48:00-04:00",
          "2024-06-06T14:49:00-04:00",
          "2024-06-06T14:50:00-04:00",
          "2024-06-06T14:51:00-04:00",
          "2024-06-06T14:52:00-04:00",
          "2024-06-06T14:53:00-04:00",
          "2024-06-06T14:54:00-04:00",
          "2024-06-06T14:55:00-04:00",
          "2024-06-06T14:56:00-04:00",
          "2024-06-06T14:57:00-04:00",
          "2024-06-06T14:58:00-04:00",
          "2024-06-06T14:59:00-04:00",
          "2024-06-06T15:00:00-04:00",
          "2024-06-06T15:01:00-04:00",
          "2024-06-06T15:02:00-04:00",
          "2024-06-06T15:03:00-04:00",
          "2024-06-06T15:04:00-04:00",
          "2024-06-06T15:05:00-04:00",
          "2024-06-06T15:06:00-04:00",
          "2024-06-06T15:07:00-04:00",
          "2024-06-06T15:08:00-04:00",
          "2024-06-06T15:09:00-04:00",
          "2024-06-06T15:10:00-04:00",
          "2024-06-06T15:11:00-04:00",
          "2024-06-06T15:12:00-04:00",
          "2024-06-06T15:13:00-04:00",
          "2024-06-06T15:14:00-04:00",
          "2024-06-06T15:15:00-04:00",
          "2024-06-06T15:16:00-04:00",
          "2024-06-06T15:17:00-04:00",
          "2024-06-06T15:18:00-04:00",
          "2024-06-06T15:19:00-04:00",
          "2024-06-06T15:20:00-04:00",
          "2024-06-06T15:21:00-04:00",
          "2024-06-06T15:22:00-04:00",
          "2024-06-06T15:23:00-04:00",
          "2024-06-06T15:24:00-04:00",
          "2024-06-06T15:25:00-04:00",
          "2024-06-06T15:26:00-04:00",
          "2024-06-06T15:27:00-04:00",
          "2024-06-06T15:28:00-04:00",
          "2024-06-06T15:29:00-04:00",
          "2024-06-06T15:30:00-04:00",
          "2024-06-06T15:31:00-04:00",
          "2024-06-06T15:32:00-04:00",
          "2024-06-06T15:33:00-04:00",
          "2024-06-06T15:34:00-04:00",
          "2024-06-06T15:35:00-04:00",
          "2024-06-06T15:36:00-04:00",
          "2024-06-06T15:37:00-04:00",
          "2024-06-06T15:38:00-04:00",
          "2024-06-06T15:39:00-04:00",
          "2024-06-06T15:40:00-04:00",
          "2024-06-06T15:41:00-04:00",
          "2024-06-06T15:42:00-04:00",
          "2024-06-06T15:43:00-04:00",
          "2024-06-06T15:44:00-04:00",
          "2024-06-06T15:45:00-04:00",
          "2024-06-06T15:46:00-04:00",
          "2024-06-06T15:47:00-04:00",
          "2024-06-06T15:48:00-04:00",
          "2024-06-06T15:49:00-04:00",
          "2024-06-06T15:50:00-04:00",
          "2024-06-06T15:51:00-04:00",
          "2024-06-06T15:52:00-04:00",
          "2024-06-06T15:53:00-04:00",
          "2024-06-06T15:54:00-04:00",
          "2024-06-06T15:55:00-04:00",
          "2024-06-06T15:56:00-04:00",
          "2024-06-06T15:57:00-04:00",
          "2024-06-06T15:58:00-04:00",
          "2024-06-06T15:59:00-04:00"
         ],
         "xaxis": "x",
         "y": [
          30.43000030517578,
          30.43000030517578,
          30.429791927337646,
          30.431458552678425,
          30.433433532714844,
          30.430516878763836,
          30.42072518666585,
          30.41140015920003,
          30.404316822687786,
          30.397441784540813,
          30.390362580617268,
          30.38187090555827,
          30.373329242070515,
          30.365379254023235,
          30.357670942942303,
          30.350387573242188,
          30.343095858891804,
          30.338508367538452,
          30.33330003420512,
          30.32955002784729,
          30.325175046920776,
          30.317883332570393,
          30.310733318328857,
          30.303441603978474,
          30.29635826746623,
          30.290316581726074,
          30.28635827700297,
          30.27985413869222,
          30.273933331171673,
          30.272475004196167,
          30.277475039164226,
          30.281383355458576,
          30.28117497762044,
          30.281800031661987,
          30.283466736475628,
          30.28695837656657,
          30.29029170672099,
          30.292408386866253,
          30.29407501220703,
          30.295733372370403,
          30.297187566757202,
          30.295525074005127,
          30.293650070826214,
          30.290525039037068,
          30.288650035858154,
          30.290316740671795,
          30.29107920328776,
          30.29066260655721,
          30.289620955785114,
          30.287537654240925,
          30.284412622451782,
          30.282166798909504,
          30.27994179725647,
          30.27952512105306,
          30.280216773351032,
          30.281504313151043,
          30.283379316329956,
          30.283783435821533,
          30.283779223759968,
          30.283779223759968,
          30.285237550735474,
          30.28711247444153,
          30.29007085164388,
          30.292362531026203,
          30.295154174168903,
          30.298904180526733,
          30.302870829900105,
          30.30710832277934,
          30.31064995129903,
          30.31314992904663,
          30.31620415051778,
          30.320995807647705,
          30.325687487920124,
          30.331395785013836,
          30.337437470753986,
          30.343283255894978,
          30.34801657994588,
          30.351974884668987,
          30.35449155171712,
          30.357787370681763,
          30.362579107284546,
          30.367549975713093,
          30.370883305867512,
          30.373591661453247,
          30.37546666463216,
          30.378175020217896,
          30.379383325576782,
          30.380008300145466,
          30.380762497584026,
          30.379512468973797,
          30.37762912114461,
          30.37484582265218,
          30.371929168701172,
          30.369012514750164,
          30.366095860799152,
          30.361512502034504,
          30.357654094696045,
          30.353866577148438,
          30.349074920018513,
          30.34531243642171,
          30.342374960581463,
          30.338683287302654,
          30.33576242129008,
          30.331804116566975,
          30.327845732371014,
          30.32392907142639,
          30.321637471516926,
          30.320179144541424,
          30.318095763524372,
          30.315595785776775,
          30.31372078259786,
          30.31372078259786,
          30.31330410639445,
          30.313929080963135,
          30.315699974695843,
          30.31841246287028,
          30.321537494659424,
          30.325079202651978,
          30.329941670099895,
          30.336191654205322,
          30.3420250415802,
          30.346500078837078,
          30.35170841217041,
          30.355320930480957,
          30.357820908228557,
          30.359429279963177,
          30.36175012588501,
          30.365712642669678,
          30.369875192642212,
          30.37404187520345,
          30.37779188156128,
          30.38121684392293,
          30.38621687889099,
          30.39038356145223,
          30.394758542378742,
          30.39809187253316,
          30.40184187889099,
          30.40517520904541,
          30.409029324849445,
          30.411945978800457,
          30.41417098045349,
          30.416879256566364,
          30.419091780980427,
          30.422425111134846,
          30.42555006345113,
          30.428945859273274,
          30.43082086245219,
          30.432833353678387,
          30.436166683832806,
          30.440333286921184,
          30.44355829556783,
          30.445229053497314,
          30.445995648701984,
          30.447245597839355,
          30.44834558169047,
          30.44867475827535,
          30.44722056388855,
          30.445558071136475,
          30.443058093388874,
          30.440558115641277,
          30.438058137893677,
          30.43659981091817,
          30.434308131535847,
          30.43305818239848,
          30.432291507720947,
          30.430487394332886,
          30.42862073580424,
          30.424662431081135,
          30.421745777130127,
          30.419241666793823,
          30.416325012842815,
          30.41320006052653,
          30.4094500541687,
          30.405908425649006,
          30.402575095494587,
          30.400062640508015,
          30.397841850916546,
          30.395825227101643,
          30.393266836802166,
          30.390766859054565,
          30.3887460231781,
          30.387908458709717,
          30.388529300689697,
          30.388529300689697,
          30.38808759053548,
          30.386916796366375,
          30.386291821797688,
          30.384416818618774,
          30.382545948028564,
          30.38132095336914,
          30.3796542485555,
          30.379237572352093,
          30.378083388010662,
          30.37662919362386,
          30.376212517420452,
          30.376212517420452,
          30.377254168192547,
          30.37812916437785,
          30.378962516784668,
          30.37896664937337,
          30.379174947738647,
          30.379108270009358,
          30.380354166030884,
          30.3825208346049,
          30.385579188664753,
          30.3887042204539,
          30.391337553660076,
          30.39446250597636,
          30.397820870081585,
          30.40274167060852,
          30.40670418739319,
          30.41232919692993,
          30.41836667060852,
          30.423895835876465,
          30.428895870844524,
          30.434104204177856,
          30.439329226811726,
          30.444329261779785,
          30.449541727701824,
          30.454958359400432,
          30.45870836575826,
          30.462708393732708,
          30.4662500222524,
          30.469791730244953,
          30.473125060399372,
          30.476041714350384,
          30.47814170519511,
          30.47972083091736,
          30.48013750712077,
          30.47972083091736,
          30.479175011316936,
          30.47833752632141,
          30.476879199345905,
          30.474804242451984,
          30.474175055821735,
          30.4725083510081,
          30.470750013987224,
          30.469916661580402,
          30.469499985376995,
          30.46820831298828,
          30.466845830281574,
          30.46538742383321,
          30.463416655858357,
          30.461541652679443,
          30.45966664950053,
          30.45770827929179,
          30.456041653951008,
          30.45479162534078,
          30.454166650772095,
          30.454166650772095,
          30.455612500508625,
          30.456654230753582,
          30.45832093556722,
          30.461029291152954,
          30.46332089106242,
          30.465825080871582,
          30.469258387883503,
          30.472166697184246,
          30.473833401997883,
          30.475083430608112,
          30.47559181849162,
          30.476008494695026,
          30.476008494695026,
          30.475841840108234,
          30.47605013847351,
          30.477296034495037,
          30.4786376953125,
          30.479262669881184,
          30.480621019999187,
          30.481454372406006,
          30.48124599456787,
          30.48124599456787,
          30.480204343795776,
          30.478012641270954,
          30.4744709332784,
          30.470516761144,
          30.464912573496502,
          30.45866258939107,
          30.452829281489056,
          30.447137594223022,
          30.440995931625366,
          30.435162623723347,
          30.43078343073527,
          30.42661674817403,
          30.423487583796184,
          30.419633388519287,
          30.416300058364868,
          30.413175026575725,
          30.410033384958904,
          30.407941659291584,
          30.405320803324383,
          30.40310001373291,
          30.40049171447754,
          30.39862084388733,
          30.397579193115234,
          30.39620002110799,
          30.395575046539307,
          30.39568344751994,
          30.395891825358074,
          30.396929343541462,
          30.40024185180664,
          30.402950127919514,
          30.40565848350525,
          30.40843351682027,
          30.411141872406006,
          30.41385014851888,
          30.416562636693318,
          30.419429302215576,
          30.42193341255188,
          30.42356260617574,
          30.42522923151652,
          30.42689593633016,
          30.4283709526062,
          30.42775845527649,
          30.427879254023235,
          30.42822504043579,
          30.428954203923542,
          30.429875055948894,
          30.431333382924397,
          30.43271255493164,
          30.43384583791097,
          30.436079104741413,
          30.437666575113933,
          30.440791527430218,
          30.44204568862915,
          30.4441290696462,
          30.44578742980957,
          30.447274923324585,
          30.44873325030009,
          30.449774901072185,
          30.44993742307027,
          30.449154059092205,
          30.44811240832011,
          30.448254028956097,
          30.448108196258545,
          30.44831649462382,
          30.449358145395916,
          30.450191497802734,
          30.451441526412964,
          30.45299569765727,
          30.454349835713703,
          30.455924828847248,
          30.45759153366089,
          30.458308219909668,
          30.459341526031494,
          30.4589790503184,
          30.459683179855347,
          30.458958228429157,
          30.459579070409138,
          30.45999574661255,
          30.461466550827026,
          30.462979078292847,
          30.46414573987325,
          30.465058247248333,
          30.466145753860474,
          30.46760408083598,
          30.469270785649616,
          30.470729112625122,
          30.47295832633972,
          30.47587498029073,
          30.478062470753986,
          30.479520797729492,
          30.47972909609477,
          30.47963325182597,
          30.480049928029377,
          30.480258305867512,
          30.481091578801472,
          30.482679049173992,
          30.48405408859253,
          30.485724925994873,
          30.486745754877727,
          30.48726240793864,
          30.487054030100506,
          30.487054030100506,
          30.486424843470257,
          30.486133178075153,
          30.485720713933308,
          30.486266613006592,
          30.48647912343343,
          30.488770802815754,
          30.491270780563354,
          30.494812488555908,
          30.496391614278156,
          30.49785002072652,
          30.499204238255818,
          30.498162587483723,
          30.497329314549763,
          30.495454390843708,
          30.492746035257976,
          30.488996028900146
         ],
         "yaxis": "y"
        },
        {
         "hovertemplate": "variable=upper_boll_24<br>Datetime=%{x}<br>value=%{y}<extra></extra>",
         "legendgroup": "upper_boll_24",
         "line": {
          "color": "#b6d1c3",
          "dash": "dot"
         },
         "marker": {
          "symbol": "circle"
         },
         "mode": "lines",
         "name": "upper_boll_24",
         "showlegend": true,
         "type": "scattergl",
         "x": [
          "2024-06-06T09:30:00-04:00",
          "2024-06-06T09:31:00-04:00",
          "2024-06-06T09:32:00-04:00",
          "2024-06-06T09:33:00-04:00",
          "2024-06-06T09:34:00-04:00",
          "2024-06-06T09:35:00-04:00",
          "2024-06-06T09:36:00-04:00",
          "2024-06-06T09:37:00-04:00",
          "2024-06-06T09:38:00-04:00",
          "2024-06-06T09:39:00-04:00",
          "2024-06-06T09:40:00-04:00",
          "2024-06-06T09:41:00-04:00",
          "2024-06-06T09:42:00-04:00",
          "2024-06-06T09:43:00-04:00",
          "2024-06-06T09:44:00-04:00",
          "2024-06-06T09:45:00-04:00",
          "2024-06-06T09:46:00-04:00",
          "2024-06-06T09:47:00-04:00",
          "2024-06-06T09:48:00-04:00",
          "2024-06-06T09:49:00-04:00",
          "2024-06-06T09:50:00-04:00",
          "2024-06-06T09:51:00-04:00",
          "2024-06-06T09:52:00-04:00",
          "2024-06-06T09:53:00-04:00",
          "2024-06-06T09:54:00-04:00",
          "2024-06-06T09:55:00-04:00",
          "2024-06-06T09:56:00-04:00",
          "2024-06-06T09:57:00-04:00",
          "2024-06-06T09:58:00-04:00",
          "2024-06-06T09:59:00-04:00",
          "2024-06-06T10:00:00-04:00",
          "2024-06-06T10:01:00-04:00",
          "2024-06-06T10:02:00-04:00",
          "2024-06-06T10:03:00-04:00",
          "2024-06-06T10:04:00-04:00",
          "2024-06-06T10:05:00-04:00",
          "2024-06-06T10:06:00-04:00",
          "2024-06-06T10:07:00-04:00",
          "2024-06-06T10:08:00-04:00",
          "2024-06-06T10:09:00-04:00",
          "2024-06-06T10:10:00-04:00",
          "2024-06-06T10:11:00-04:00",
          "2024-06-06T10:12:00-04:00",
          "2024-06-06T10:13:00-04:00",
          "2024-06-06T10:14:00-04:00",
          "2024-06-06T10:15:00-04:00",
          "2024-06-06T10:16:00-04:00",
          "2024-06-06T10:17:00-04:00",
          "2024-06-06T10:18:00-04:00",
          "2024-06-06T10:19:00-04:00",
          "2024-06-06T10:20:00-04:00",
          "2024-06-06T10:21:00-04:00",
          "2024-06-06T10:22:00-04:00",
          "2024-06-06T10:23:00-04:00",
          "2024-06-06T10:24:00-04:00",
          "2024-06-06T10:25:00-04:00",
          "2024-06-06T10:26:00-04:00",
          "2024-06-06T10:27:00-04:00",
          "2024-06-06T10:28:00-04:00",
          "2024-06-06T10:29:00-04:00",
          "2024-06-06T10:30:00-04:00",
          "2024-06-06T10:31:00-04:00",
          "2024-06-06T10:32:00-04:00",
          "2024-06-06T10:33:00-04:00",
          "2024-06-06T10:34:00-04:00",
          "2024-06-06T10:35:00-04:00",
          "2024-06-06T10:36:00-04:00",
          "2024-06-06T10:37:00-04:00",
          "2024-06-06T10:38:00-04:00",
          "2024-06-06T10:39:00-04:00",
          "2024-06-06T10:40:00-04:00",
          "2024-06-06T10:41:00-04:00",
          "2024-06-06T10:42:00-04:00",
          "2024-06-06T10:43:00-04:00",
          "2024-06-06T10:44:00-04:00",
          "2024-06-06T10:45:00-04:00",
          "2024-06-06T10:46:00-04:00",
          "2024-06-06T10:47:00-04:00",
          "2024-06-06T10:48:00-04:00",
          "2024-06-06T10:49:00-04:00",
          "2024-06-06T10:50:00-04:00",
          "2024-06-06T10:51:00-04:00",
          "2024-06-06T10:52:00-04:00",
          "2024-06-06T10:53:00-04:00",
          "2024-06-06T10:54:00-04:00",
          "2024-06-06T10:55:00-04:00",
          "2024-06-06T10:56:00-04:00",
          "2024-06-06T10:57:00-04:00",
          "2024-06-06T10:58:00-04:00",
          "2024-06-06T10:59:00-04:00",
          "2024-06-06T11:00:00-04:00",
          "2024-06-06T11:01:00-04:00",
          "2024-06-06T11:02:00-04:00",
          "2024-06-06T11:03:00-04:00",
          "2024-06-06T11:04:00-04:00",
          "2024-06-06T11:05:00-04:00",
          "2024-06-06T11:06:00-04:00",
          "2024-06-06T11:07:00-04:00",
          "2024-06-06T11:08:00-04:00",
          "2024-06-06T11:09:00-04:00",
          "2024-06-06T11:10:00-04:00",
          "2024-06-06T11:11:00-04:00",
          "2024-06-06T11:12:00-04:00",
          "2024-06-06T11:13:00-04:00",
          "2024-06-06T11:14:00-04:00",
          "2024-06-06T11:15:00-04:00",
          "2024-06-06T11:16:00-04:00",
          "2024-06-06T11:17:00-04:00",
          "2024-06-06T11:18:00-04:00",
          "2024-06-06T11:19:00-04:00",
          "2024-06-06T11:20:00-04:00",
          "2024-06-06T11:21:00-04:00",
          "2024-06-06T11:22:00-04:00",
          "2024-06-06T11:23:00-04:00",
          "2024-06-06T11:24:00-04:00",
          "2024-06-06T11:25:00-04:00",
          "2024-06-06T11:26:00-04:00",
          "2024-06-06T11:27:00-04:00",
          "2024-06-06T11:28:00-04:00",
          "2024-06-06T11:29:00-04:00",
          "2024-06-06T11:30:00-04:00",
          "2024-06-06T11:31:00-04:00",
          "2024-06-06T11:32:00-04:00",
          "2024-06-06T11:33:00-04:00",
          "2024-06-06T11:34:00-04:00",
          "2024-06-06T11:35:00-04:00",
          "2024-06-06T11:36:00-04:00",
          "2024-06-06T11:37:00-04:00",
          "2024-06-06T11:38:00-04:00",
          "2024-06-06T11:39:00-04:00",
          "2024-06-06T11:40:00-04:00",
          "2024-06-06T11:41:00-04:00",
          "2024-06-06T11:42:00-04:00",
          "2024-06-06T11:43:00-04:00",
          "2024-06-06T11:44:00-04:00",
          "2024-06-06T11:45:00-04:00",
          "2024-06-06T11:46:00-04:00",
          "2024-06-06T11:47:00-04:00",
          "2024-06-06T11:48:00-04:00",
          "2024-06-06T11:49:00-04:00",
          "2024-06-06T11:50:00-04:00",
          "2024-06-06T11:51:00-04:00",
          "2024-06-06T11:52:00-04:00",
          "2024-06-06T11:53:00-04:00",
          "2024-06-06T11:54:00-04:00",
          "2024-06-06T11:55:00-04:00",
          "2024-06-06T11:56:00-04:00",
          "2024-06-06T11:57:00-04:00",
          "2024-06-06T11:58:00-04:00",
          "2024-06-06T11:59:00-04:00",
          "2024-06-06T12:00:00-04:00",
          "2024-06-06T12:01:00-04:00",
          "2024-06-06T12:02:00-04:00",
          "2024-06-06T12:03:00-04:00",
          "2024-06-06T12:04:00-04:00",
          "2024-06-06T12:05:00-04:00",
          "2024-06-06T12:06:00-04:00",
          "2024-06-06T12:07:00-04:00",
          "2024-06-06T12:08:00-04:00",
          "2024-06-06T12:09:00-04:00",
          "2024-06-06T12:10:00-04:00",
          "2024-06-06T12:11:00-04:00",
          "2024-06-06T12:12:00-04:00",
          "2024-06-06T12:13:00-04:00",
          "2024-06-06T12:14:00-04:00",
          "2024-06-06T12:15:00-04:00",
          "2024-06-06T12:16:00-04:00",
          "2024-06-06T12:17:00-04:00",
          "2024-06-06T12:18:00-04:00",
          "2024-06-06T12:19:00-04:00",
          "2024-06-06T12:20:00-04:00",
          "2024-06-06T12:21:00-04:00",
          "2024-06-06T12:22:00-04:00",
          "2024-06-06T12:23:00-04:00",
          "2024-06-06T12:24:00-04:00",
          "2024-06-06T12:25:00-04:00",
          "2024-06-06T12:26:00-04:00",
          "2024-06-06T12:27:00-04:00",
          "2024-06-06T12:28:00-04:00",
          "2024-06-06T12:29:00-04:00",
          "2024-06-06T12:30:00-04:00",
          "2024-06-06T12:31:00-04:00",
          "2024-06-06T12:32:00-04:00",
          "2024-06-06T12:33:00-04:00",
          "2024-06-06T12:34:00-04:00",
          "2024-06-06T12:35:00-04:00",
          "2024-06-06T12:36:00-04:00",
          "2024-06-06T12:37:00-04:00",
          "2024-06-06T12:38:00-04:00",
          "2024-06-06T12:39:00-04:00",
          "2024-06-06T12:40:00-04:00",
          "2024-06-06T12:41:00-04:00",
          "2024-06-06T12:42:00-04:00",
          "2024-06-06T12:43:00-04:00",
          "2024-06-06T12:44:00-04:00",
          "2024-06-06T12:45:00-04:00",
          "2024-06-06T12:46:00-04:00",
          "2024-06-06T12:47:00-04:00",
          "2024-06-06T12:48:00-04:00",
          "2024-06-06T12:49:00-04:00",
          "2024-06-06T12:50:00-04:00",
          "2024-06-06T12:51:00-04:00",
          "2024-06-06T12:52:00-04:00",
          "2024-06-06T12:53:00-04:00",
          "2024-06-06T12:54:00-04:00",
          "2024-06-06T12:55:00-04:00",
          "2024-06-06T12:56:00-04:00",
          "2024-06-06T12:57:00-04:00",
          "2024-06-06T12:58:00-04:00",
          "2024-06-06T12:59:00-04:00",
          "2024-06-06T13:00:00-04:00",
          "2024-06-06T13:01:00-04:00",
          "2024-06-06T13:02:00-04:00",
          "2024-06-06T13:03:00-04:00",
          "2024-06-06T13:04:00-04:00",
          "2024-06-06T13:05:00-04:00",
          "2024-06-06T13:06:00-04:00",
          "2024-06-06T13:07:00-04:00",
          "2024-06-06T13:08:00-04:00",
          "2024-06-06T13:09:00-04:00",
          "2024-06-06T13:10:00-04:00",
          "2024-06-06T13:11:00-04:00",
          "2024-06-06T13:12:00-04:00",
          "2024-06-06T13:13:00-04:00",
          "2024-06-06T13:14:00-04:00",
          "2024-06-06T13:15:00-04:00",
          "2024-06-06T13:16:00-04:00",
          "2024-06-06T13:17:00-04:00",
          "2024-06-06T13:18:00-04:00",
          "2024-06-06T13:19:00-04:00",
          "2024-06-06T13:20:00-04:00",
          "2024-06-06T13:21:00-04:00",
          "2024-06-06T13:22:00-04:00",
          "2024-06-06T13:23:00-04:00",
          "2024-06-06T13:24:00-04:00",
          "2024-06-06T13:25:00-04:00",
          "2024-06-06T13:26:00-04:00",
          "2024-06-06T13:27:00-04:00",
          "2024-06-06T13:28:00-04:00",
          "2024-06-06T13:29:00-04:00",
          "2024-06-06T13:30:00-04:00",
          "2024-06-06T13:31:00-04:00",
          "2024-06-06T13:32:00-04:00",
          "2024-06-06T13:33:00-04:00",
          "2024-06-06T13:34:00-04:00",
          "2024-06-06T13:35:00-04:00",
          "2024-06-06T13:36:00-04:00",
          "2024-06-06T13:37:00-04:00",
          "2024-06-06T13:38:00-04:00",
          "2024-06-06T13:39:00-04:00",
          "2024-06-06T13:40:00-04:00",
          "2024-06-06T13:41:00-04:00",
          "2024-06-06T13:42:00-04:00",
          "2024-06-06T13:43:00-04:00",
          "2024-06-06T13:44:00-04:00",
          "2024-06-06T13:45:00-04:00",
          "2024-06-06T13:46:00-04:00",
          "2024-06-06T13:47:00-04:00",
          "2024-06-06T13:48:00-04:00",
          "2024-06-06T13:49:00-04:00",
          "2024-06-06T13:50:00-04:00",
          "2024-06-06T13:51:00-04:00",
          "2024-06-06T13:52:00-04:00",
          "2024-06-06T13:53:00-04:00",
          "2024-06-06T13:54:00-04:00",
          "2024-06-06T13:55:00-04:00",
          "2024-06-06T13:56:00-04:00",
          "2024-06-06T13:57:00-04:00",
          "2024-06-06T13:58:00-04:00",
          "2024-06-06T13:59:00-04:00",
          "2024-06-06T14:00:00-04:00",
          "2024-06-06T14:01:00-04:00",
          "2024-06-06T14:02:00-04:00",
          "2024-06-06T14:03:00-04:00",
          "2024-06-06T14:04:00-04:00",
          "2024-06-06T14:05:00-04:00",
          "2024-06-06T14:06:00-04:00",
          "2024-06-06T14:07:00-04:00",
          "2024-06-06T14:08:00-04:00",
          "2024-06-06T14:09:00-04:00",
          "2024-06-06T14:10:00-04:00",
          "2024-06-06T14:11:00-04:00",
          "2024-06-06T14:12:00-04:00",
          "2024-06-06T14:13:00-04:00",
          "2024-06-06T14:14:00-04:00",
          "2024-06-06T14:15:00-04:00",
          "2024-06-06T14:16:00-04:00",
          "2024-06-06T14:17:00-04:00",
          "2024-06-06T14:18:00-04:00",
          "2024-06-06T14:19:00-04:00",
          "2024-06-06T14:20:00-04:00",
          "2024-06-06T14:21:00-04:00",
          "2024-06-06T14:22:00-04:00",
          "2024-06-06T14:23:00-04:00",
          "2024-06-06T14:24:00-04:00",
          "2024-06-06T14:25:00-04:00",
          "2024-06-06T14:26:00-04:00",
          "2024-06-06T14:27:00-04:00",
          "2024-06-06T14:28:00-04:00",
          "2024-06-06T14:29:00-04:00",
          "2024-06-06T14:30:00-04:00",
          "2024-06-06T14:31:00-04:00",
          "2024-06-06T14:32:00-04:00",
          "2024-06-06T14:33:00-04:00",
          "2024-06-06T14:34:00-04:00",
          "2024-06-06T14:35:00-04:00",
          "2024-06-06T14:36:00-04:00",
          "2024-06-06T14:37:00-04:00",
          "2024-06-06T14:38:00-04:00",
          "2024-06-06T14:39:00-04:00",
          "2024-06-06T14:40:00-04:00",
          "2024-06-06T14:41:00-04:00",
          "2024-06-06T14:42:00-04:00",
          "2024-06-06T14:43:00-04:00",
          "2024-06-06T14:44:00-04:00",
          "2024-06-06T14:45:00-04:00",
          "2024-06-06T14:46:00-04:00",
          "2024-06-06T14:47:00-04:00",
          "2024-06-06T14:48:00-04:00",
          "2024-06-06T14:49:00-04:00",
          "2024-06-06T14:50:00-04:00",
          "2024-06-06T14:51:00-04:00",
          "2024-06-06T14:52:00-04:00",
          "2024-06-06T14:53:00-04:00",
          "2024-06-06T14:54:00-04:00",
          "2024-06-06T14:55:00-04:00",
          "2024-06-06T14:56:00-04:00",
          "2024-06-06T14:57:00-04:00",
          "2024-06-06T14:58:00-04:00",
          "2024-06-06T14:59:00-04:00",
          "2024-06-06T15:00:00-04:00",
          "2024-06-06T15:01:00-04:00",
          "2024-06-06T15:02:00-04:00",
          "2024-06-06T15:03:00-04:00",
          "2024-06-06T15:04:00-04:00",
          "2024-06-06T15:05:00-04:00",
          "2024-06-06T15:06:00-04:00",
          "2024-06-06T15:07:00-04:00",
          "2024-06-06T15:08:00-04:00",
          "2024-06-06T15:09:00-04:00",
          "2024-06-06T15:10:00-04:00",
          "2024-06-06T15:11:00-04:00",
          "2024-06-06T15:12:00-04:00",
          "2024-06-06T15:13:00-04:00",
          "2024-06-06T15:14:00-04:00",
          "2024-06-06T15:15:00-04:00",
          "2024-06-06T15:16:00-04:00",
          "2024-06-06T15:17:00-04:00",
          "2024-06-06T15:18:00-04:00",
          "2024-06-06T15:19:00-04:00",
          "2024-06-06T15:20:00-04:00",
          "2024-06-06T15:21:00-04:00",
          "2024-06-06T15:22:00-04:00",
          "2024-06-06T15:23:00-04:00",
          "2024-06-06T15:24:00-04:00",
          "2024-06-06T15:25:00-04:00",
          "2024-06-06T15:26:00-04:00",
          "2024-06-06T15:27:00-04:00",
          "2024-06-06T15:28:00-04:00",
          "2024-06-06T15:29:00-04:00",
          "2024-06-06T15:30:00-04:00",
          "2024-06-06T15:31:00-04:00",
          "2024-06-06T15:32:00-04:00",
          "2024-06-06T15:33:00-04:00",
          "2024-06-06T15:34:00-04:00",
          "2024-06-06T15:35:00-04:00",
          "2024-06-06T15:36:00-04:00",
          "2024-06-06T15:37:00-04:00",
          "2024-06-06T15:38:00-04:00",
          "2024-06-06T15:39:00-04:00",
          "2024-06-06T15:40:00-04:00",
          "2024-06-06T15:41:00-04:00",
          "2024-06-06T15:42:00-04:00",
          "2024-06-06T15:43:00-04:00",
          "2024-06-06T15:44:00-04:00",
          "2024-06-06T15:45:00-04:00",
          "2024-06-06T15:46:00-04:00",
          "2024-06-06T15:47:00-04:00",
          "2024-06-06T15:48:00-04:00",
          "2024-06-06T15:49:00-04:00",
          "2024-06-06T15:50:00-04:00",
          "2024-06-06T15:51:00-04:00",
          "2024-06-06T15:52:00-04:00",
          "2024-06-06T15:53:00-04:00",
          "2024-06-06T15:54:00-04:00",
          "2024-06-06T15:55:00-04:00",
          "2024-06-06T15:56:00-04:00",
          "2024-06-06T15:57:00-04:00",
          "2024-06-06T15:58:00-04:00",
          "2024-06-06T15:59:00-04:00"
         ],
         "xaxis": "x",
         "y": [
          30.43000030517578,
          30.43000030517578,
          30.430812766091915,
          30.439730810345335,
          30.44592484566951,
          30.450038548811804,
          30.472616470300505,
          30.479217193990696,
          30.4786697590942,
          30.47677804709494,
          30.474124065492003,
          30.47156004273341,
          30.467866129829154,
          30.462918134188477,
          30.45717126222766,
          30.45075709612121,
          30.443786441677755,
          30.437562197672253,
          30.430604840601454,
          30.424675946922136,
          30.41786356167231,
          30.408834097920977,
          30.399198017819472,
          30.388806216873572,
          30.377724208041972,
          30.36654916258395,
          30.35759629219327,
          30.339832716376268,
          30.318630153465914,
          30.314746796134187,
          30.31720499160914,
          30.31831181104665,
          30.318243184233303,
          30.318709761347836,
          30.320256894353456,
          30.322012857630547,
          30.322917939601087,
          30.323170510089003,
          30.323196822875918,
          30.323653583170945,
          30.32377080751599,
          30.32187271445363,
          30.320880502128485,
          30.316478650354117,
          30.313611205526335,
          30.314247484676592,
          30.314227552560155,
          30.314566163324006,
          30.315390651625574,
          30.31561490803194,
          30.31172161890803,
          30.309159857707446,
          30.304451290996358,
          30.303309559972266,
          30.305284434749826,
          30.30836190278065,
          30.309874399218952,
          30.31029870407893,
          30.31029179520701,
          30.31029179520701,
          30.313847746203926,
          30.317469515033917,
          30.323515648558374,
          30.327973936355477,
          30.33311287398273,
          30.339644471687322,
          30.344287481640244,
          30.34966859354005,
          30.35437698182014,
          30.35765161140729,
          30.36061067463944,
          30.3635510324983,
          30.36438147067963,
          30.36602100966506,
          30.37077946462266,
          30.37470170408271,
          30.37832283058842,
          30.38393995594125,
          30.38715285962093,
          30.39192228477794,
          30.396318703337908,
          30.398780371973444,
          30.398669742753828,
          30.398168108616016,
          30.399066066821657,
          30.400630412955156,
          30.401368972161553,
          30.401325402974607,
          30.401539824221988,
          30.401812100198637,
          30.403666816333633,
          30.4052985937001,
          30.40644682182662,
          30.407725338397196,
          30.408740592306607,
          30.410308486561917,
          30.411042894730084,
          30.409375652162026,
          30.40538626333795,
          30.401066350863477,
          30.3972194602293,
          30.391730392755687,
          30.38766372584234,
          30.381367413304666,
          30.374162953558166,
          30.36694186451186,
          30.36296520079522,
          30.360136815163944,
          30.355764711274414,
          30.349383746606293,
          30.344614447307926,
          30.344614447307926,
          30.343392274849737,
          30.344742903040576,
          30.34748415623471,
          30.35153912149167,
          30.35587499964893,
          30.359864960065792,
          30.366274151338168,
          30.371046060530002,
          30.374321665654993,
          30.377398249114936,
          30.382323078865113,
          30.385915275745027,
          30.388281054673474,
          30.38888524063026,
          30.39030094657821,
          30.394091963814084,
          30.39858265587652,
          30.401675469368158,
          30.40457463741546,
          30.408211641305616,
          30.415310724163593,
          30.419730376760135,
          30.424094290878998,
          30.42842724720258,
          30.43344494833707,
          30.435827464002728,
          30.438565451839413,
          30.440380867110864,
          30.44123731676519,
          30.442549643087265,
          30.445231369694415,
          30.451010585413016,
          30.455090603075657,
          30.458725550494556,
          30.460771965962618,
          30.462004642801087,
          30.464182365369407,
          30.463554587201862,
          30.4627056135701,
          30.463032285396434,
          30.46304081885376,
          30.462967628184263,
          30.462565282713193,
          30.462343647614837,
          30.46199875793803,
          30.46315859516674,
          30.464568300678646,
          30.465105138741748,
          30.464081315633475,
          30.46375779247615,
          30.463003522228032,
          30.462368914010035,
          30.46210220707729,
          30.461416310392615,
          30.459684975788917,
          30.45493771284626,
          30.450811136999103,
          30.44650184446229,
          30.443336569014104,
          30.441074530428015,
          30.436078882617597,
          30.431137584237344,
          30.42627469155362,
          30.42159071691337,
          30.417956752708026,
          30.413253451263497,
          30.408014506635332,
          30.404007797664974,
          30.400978224816594,
          30.40001694980518,
          30.400862107514147,
          30.400862107514147,
          30.400368282976164,
          30.39935093544661,
          30.398939408188074,
          30.397498408809074,
          30.39576576585728,
          30.395009413286473,
          30.392756823819237,
          30.392321744125695,
          30.390459038727258,
          30.386990116451226,
          30.386422133061487,
          30.386422133061487,
          30.38855201118432,
          30.390041334913118,
          30.391336888967253,
          30.391344849132068,
          30.391700282121757,
          30.391540721313927,
          30.394287451482537,
          30.398658885927595,
          30.40595594995628,
          30.413467102205466,
          30.4203402685119,
          30.426621417150972,
          30.432954221761477,
          30.44210290168936,
          30.447895581258337,
          30.456008118520142,
          30.464459909660892,
          30.470920896659347,
          30.47576582714586,
          30.48166479487292,
          30.48669254827173,
          30.490934266021593,
          30.495038153706613,
          30.498258824631282,
          30.50092588367827,
          30.50324037164663,
          30.50424254578167,
          30.504155698695637,
          30.50299932797378,
          30.500963547414155,
          30.49904787096892,
          30.497390752335008,
          30.497054953648185,
          30.497390752335008,
          30.497568175920726,
          30.498051917909248,
          30.498794725516778,
          30.49775646225723,
          30.49746629785554,
          30.495675407542212,
          30.492924032363124,
          30.491507821970206,
          30.490882882443984,
          30.48858115062735,
          30.486230049951956,
          30.483856351882338,
          30.480491470667257,
          30.476798524178903,
          30.474012010091847,
          30.470580134158066,
          30.468484125699792,
          30.46674395305593,
          30.46567304322236,
          30.46567304322236,
          30.46979265887505,
          30.472037935479854,
          30.475571264445062,
          30.480987342606735,
          30.485037579181622,
          30.488179366682484,
          30.492191466287608,
          30.49567326996424,
          30.497487509446895,
          30.498490407738714,
          30.498852430602277,
          30.4993474884251,
          30.4993474884251,
          30.499247241338008,
          30.499376971472252,
          30.50052662774928,
          30.501315333139274,
          30.50146219404325,
          30.501596537824714,
          30.501321134321294,
          30.50158702696433,
          30.50158702696433,
          30.502494572059945,
          30.504121710601783,
          30.50374832706296,
          30.50436235752891,
          30.50507389969444,
          30.502960772157127,
          30.499891937713496,
          30.496453644121377,
          30.49100457279822,
          30.484936864910733,
          30.479679836448593,
          30.474949685215158,
          30.470975550116478,
          30.46564252120095,
          30.461002912025325,
          30.45693702324801,
          30.452216598930708,
          30.44713073416184,
          30.441086069363525,
          30.436232400902682,
          30.429740615154657,
          30.424843611806285,
          30.42277029620763,
          30.419518540405182,
          30.418137006697116,
          30.418335824489063,
          30.41870406210739,
          30.420031141257166,
          30.42359141664995,
          30.425171530142354,
          30.42699698151073,
          30.428318521074438,
          30.42919625836127,
          30.430265498614933,
          30.434182768022858,
          30.437286235805054,
          30.441098653691487,
          30.441754183202384,
          30.44249922559679,
          30.44246452743198,
          30.44234165424027,
          30.441531756186365,
          30.44161342835573,
          30.441768674885733,
          30.442223218917572,
          30.443269112880277,
          30.444369965348606,
          30.445348513224875,
          30.4460360533794,
          30.449513008905665,
          30.450747844910218,
          30.456843636434463,
          30.459173150812582,
          30.46211252573116,
          30.464240339960853,
          30.46583845390603,
          30.4672554314264,
          30.468193817116173,
          30.468421540412077,
          30.467864360076824,
          30.46688846894238,
          30.46691258280412,
          30.466888132993475,
          30.46691368973805,
          30.46758118966641,
          30.467695282640182,
          30.468119768377132,
          30.468818758988128,
          30.469727052579813,
          30.47192659465115,
          30.474465326695462,
          30.474988109176497,
          30.475745994310902,
          30.47526575207801,
          30.47606966587529,
          30.47429651341519,
          30.47567100143686,
          30.476624854954142,
          30.480401775086772,
          30.48363851078344,
          30.485695667663407,
          30.486886823078425,
          30.488301909083557,
          30.488749855803295,
          30.489280872245825,
          30.48936083893903,
          30.4898076514454,
          30.491906565285895,
          30.494692434981484,
          30.49458637208745,
          30.494472005835743,
          30.494501345255067,
          30.494627387830754,
          30.494870716157283,
          30.49653287646532,
          30.498052020847062,
          30.499439464795973,
          30.50053997717744,
          30.501271376862608,
          30.50148030585602,
          30.50134298853985,
          30.50134298853985,
          30.500208135142746,
          30.49964390704158,
          30.499163626074804,
          30.49981321290881,
          30.500044990639868,
          30.503978001707864,
          30.508860868419177,
          30.51610178540324,
          30.51831752985897,
          30.521471848617868,
          30.524289618821495,
          30.524564592941594,
          30.525259524753384,
          30.527243282696823,
          30.52883188806514,
          30.53023080049929
         ],
         "yaxis": "y"
        },
        {
         "hovertemplate": "variable=lower_boll_24<br>Datetime=%{x}<br>value=%{y}<extra></extra>",
         "legendgroup": "lower_boll_24",
         "line": {
          "color": "#b6d1c3",
          "dash": "dot"
         },
         "marker": {
          "symbol": "circle"
         },
         "mode": "lines",
         "name": "lower_boll_24",
         "showlegend": true,
         "type": "scattergl",
         "x": [
          "2024-06-06T09:30:00-04:00",
          "2024-06-06T09:31:00-04:00",
          "2024-06-06T09:32:00-04:00",
          "2024-06-06T09:33:00-04:00",
          "2024-06-06T09:34:00-04:00",
          "2024-06-06T09:35:00-04:00",
          "2024-06-06T09:36:00-04:00",
          "2024-06-06T09:37:00-04:00",
          "2024-06-06T09:38:00-04:00",
          "2024-06-06T09:39:00-04:00",
          "2024-06-06T09:40:00-04:00",
          "2024-06-06T09:41:00-04:00",
          "2024-06-06T09:42:00-04:00",
          "2024-06-06T09:43:00-04:00",
          "2024-06-06T09:44:00-04:00",
          "2024-06-06T09:45:00-04:00",
          "2024-06-06T09:46:00-04:00",
          "2024-06-06T09:47:00-04:00",
          "2024-06-06T09:48:00-04:00",
          "2024-06-06T09:49:00-04:00",
          "2024-06-06T09:50:00-04:00",
          "2024-06-06T09:51:00-04:00",
          "2024-06-06T09:52:00-04:00",
          "2024-06-06T09:53:00-04:00",
          "2024-06-06T09:54:00-04:00",
          "2024-06-06T09:55:00-04:00",
          "2024-06-06T09:56:00-04:00",
          "2024-06-06T09:57:00-04:00",
          "2024-06-06T09:58:00-04:00",
          "2024-06-06T09:59:00-04:00",
          "2024-06-06T10:00:00-04:00",
          "2024-06-06T10:01:00-04:00",
          "2024-06-06T10:02:00-04:00",
          "2024-06-06T10:03:00-04:00",
          "2024-06-06T10:04:00-04:00",
          "2024-06-06T10:05:00-04:00",
          "2024-06-06T10:06:00-04:00",
          "2024-06-06T10:07:00-04:00",
          "2024-06-06T10:08:00-04:00",
          "2024-06-06T10:09:00-04:00",
          "2024-06-06T10:10:00-04:00",
          "2024-06-06T10:11:00-04:00",
          "2024-06-06T10:12:00-04:00",
          "2024-06-06T10:13:00-04:00",
          "2024-06-06T10:14:00-04:00",
          "2024-06-06T10:15:00-04:00",
          "2024-06-06T10:16:00-04:00",
          "2024-06-06T10:17:00-04:00",
          "2024-06-06T10:18:00-04:00",
          "2024-06-06T10:19:00-04:00",
          "2024-06-06T10:20:00-04:00",
          "2024-06-06T10:21:00-04:00",
          "2024-06-06T10:22:00-04:00",
          "2024-06-06T10:23:00-04:00",
          "2024-06-06T10:24:00-04:00",
          "2024-06-06T10:25:00-04:00",
          "2024-06-06T10:26:00-04:00",
          "2024-06-06T10:27:00-04:00",
          "2024-06-06T10:28:00-04:00",
          "2024-06-06T10:29:00-04:00",
          "2024-06-06T10:30:00-04:00",
          "2024-06-06T10:31:00-04:00",
          "2024-06-06T10:32:00-04:00",
          "2024-06-06T10:33:00-04:00",
          "2024-06-06T10:34:00-04:00",
          "2024-06-06T10:35:00-04:00",
          "2024-06-06T10:36:00-04:00",
          "2024-06-06T10:37:00-04:00",
          "2024-06-06T10:38:00-04:00",
          "2024-06-06T10:39:00-04:00",
          "2024-06-06T10:40:00-04:00",
          "2024-06-06T10:41:00-04:00",
          "2024-06-06T10:42:00-04:00",
          "2024-06-06T10:43:00-04:00",
          "2024-06-06T10:44:00-04:00",
          "2024-06-06T10:45:00-04:00",
          "2024-06-06T10:46:00-04:00",
          "2024-06-06T10:47:00-04:00",
          "2024-06-06T10:48:00-04:00",
          "2024-06-06T10:49:00-04:00",
          "2024-06-06T10:50:00-04:00",
          "2024-06-06T10:51:00-04:00",
          "2024-06-06T10:52:00-04:00",
          "2024-06-06T10:53:00-04:00",
          "2024-06-06T10:54:00-04:00",
          "2024-06-06T10:55:00-04:00",
          "2024-06-06T10:56:00-04:00",
          "2024-06-06T10:57:00-04:00",
          "2024-06-06T10:58:00-04:00",
          "2024-06-06T10:59:00-04:00",
          "2024-06-06T11:00:00-04:00",
          "2024-06-06T11:01:00-04:00",
          "2024-06-06T11:02:00-04:00",
          "2024-06-06T11:03:00-04:00",
          "2024-06-06T11:04:00-04:00",
          "2024-06-06T11:05:00-04:00",
          "2024-06-06T11:06:00-04:00",
          "2024-06-06T11:07:00-04:00",
          "2024-06-06T11:08:00-04:00",
          "2024-06-06T11:09:00-04:00",
          "2024-06-06T11:10:00-04:00",
          "2024-06-06T11:11:00-04:00",
          "2024-06-06T11:12:00-04:00",
          "2024-06-06T11:13:00-04:00",
          "2024-06-06T11:14:00-04:00",
          "2024-06-06T11:15:00-04:00",
          "2024-06-06T11:16:00-04:00",
          "2024-06-06T11:17:00-04:00",
          "2024-06-06T11:18:00-04:00",
          "2024-06-06T11:19:00-04:00",
          "2024-06-06T11:20:00-04:00",
          "2024-06-06T11:21:00-04:00",
          "2024-06-06T11:22:00-04:00",
          "2024-06-06T11:23:00-04:00",
          "2024-06-06T11:24:00-04:00",
          "2024-06-06T11:25:00-04:00",
          "2024-06-06T11:26:00-04:00",
          "2024-06-06T11:27:00-04:00",
          "2024-06-06T11:28:00-04:00",
          "2024-06-06T11:29:00-04:00",
          "2024-06-06T11:30:00-04:00",
          "2024-06-06T11:31:00-04:00",
          "2024-06-06T11:32:00-04:00",
          "2024-06-06T11:33:00-04:00",
          "2024-06-06T11:34:00-04:00",
          "2024-06-06T11:35:00-04:00",
          "2024-06-06T11:36:00-04:00",
          "2024-06-06T11:37:00-04:00",
          "2024-06-06T11:38:00-04:00",
          "2024-06-06T11:39:00-04:00",
          "2024-06-06T11:40:00-04:00",
          "2024-06-06T11:41:00-04:00",
          "2024-06-06T11:42:00-04:00",
          "2024-06-06T11:43:00-04:00",
          "2024-06-06T11:44:00-04:00",
          "2024-06-06T11:45:00-04:00",
          "2024-06-06T11:46:00-04:00",
          "2024-06-06T11:47:00-04:00",
          "2024-06-06T11:48:00-04:00",
          "2024-06-06T11:49:00-04:00",
          "2024-06-06T11:50:00-04:00",
          "2024-06-06T11:51:00-04:00",
          "2024-06-06T11:52:00-04:00",
          "2024-06-06T11:53:00-04:00",
          "2024-06-06T11:54:00-04:00",
          "2024-06-06T11:55:00-04:00",
          "2024-06-06T11:56:00-04:00",
          "2024-06-06T11:57:00-04:00",
          "2024-06-06T11:58:00-04:00",
          "2024-06-06T11:59:00-04:00",
          "2024-06-06T12:00:00-04:00",
          "2024-06-06T12:01:00-04:00",
          "2024-06-06T12:02:00-04:00",
          "2024-06-06T12:03:00-04:00",
          "2024-06-06T12:04:00-04:00",
          "2024-06-06T12:05:00-04:00",
          "2024-06-06T12:06:00-04:00",
          "2024-06-06T12:07:00-04:00",
          "2024-06-06T12:08:00-04:00",
          "2024-06-06T12:09:00-04:00",
          "2024-06-06T12:10:00-04:00",
          "2024-06-06T12:11:00-04:00",
          "2024-06-06T12:12:00-04:00",
          "2024-06-06T12:13:00-04:00",
          "2024-06-06T12:14:00-04:00",
          "2024-06-06T12:15:00-04:00",
          "2024-06-06T12:16:00-04:00",
          "2024-06-06T12:17:00-04:00",
          "2024-06-06T12:18:00-04:00",
          "2024-06-06T12:19:00-04:00",
          "2024-06-06T12:20:00-04:00",
          "2024-06-06T12:21:00-04:00",
          "2024-06-06T12:22:00-04:00",
          "2024-06-06T12:23:00-04:00",
          "2024-06-06T12:24:00-04:00",
          "2024-06-06T12:25:00-04:00",
          "2024-06-06T12:26:00-04:00",
          "2024-06-06T12:27:00-04:00",
          "2024-06-06T12:28:00-04:00",
          "2024-06-06T12:29:00-04:00",
          "2024-06-06T12:30:00-04:00",
          "2024-06-06T12:31:00-04:00",
          "2024-06-06T12:32:00-04:00",
          "2024-06-06T12:33:00-04:00",
          "2024-06-06T12:34:00-04:00",
          "2024-06-06T12:35:00-04:00",
          "2024-06-06T12:36:00-04:00",
          "2024-06-06T12:37:00-04:00",
          "2024-06-06T12:38:00-04:00",
          "2024-06-06T12:39:00-04:00",
          "2024-06-06T12:40:00-04:00",
          "2024-06-06T12:41:00-04:00",
          "2024-06-06T12:42:00-04:00",
          "2024-06-06T12:43:00-04:00",
          "2024-06-06T12:44:00-04:00",
          "2024-06-06T12:45:00-04:00",
          "2024-06-06T12:46:00-04:00",
          "2024-06-06T12:47:00-04:00",
          "2024-06-06T12:48:00-04:00",
          "2024-06-06T12:49:00-04:00",
          "2024-06-06T12:50:00-04:00",
          "2024-06-06T12:51:00-04:00",
          "2024-06-06T12:52:00-04:00",
          "2024-06-06T12:53:00-04:00",
          "2024-06-06T12:54:00-04:00",
          "2024-06-06T12:55:00-04:00",
          "2024-06-06T12:56:00-04:00",
          "2024-06-06T12:57:00-04:00",
          "2024-06-06T12:58:00-04:00",
          "2024-06-06T12:59:00-04:00",
          "2024-06-06T13:00:00-04:00",
          "2024-06-06T13:01:00-04:00",
          "2024-06-06T13:02:00-04:00",
          "2024-06-06T13:03:00-04:00",
          "2024-06-06T13:04:00-04:00",
          "2024-06-06T13:05:00-04:00",
          "2024-06-06T13:06:00-04:00",
          "2024-06-06T13:07:00-04:00",
          "2024-06-06T13:08:00-04:00",
          "2024-06-06T13:09:00-04:00",
          "2024-06-06T13:10:00-04:00",
          "2024-06-06T13:11:00-04:00",
          "2024-06-06T13:12:00-04:00",
          "2024-06-06T13:13:00-04:00",
          "2024-06-06T13:14:00-04:00",
          "2024-06-06T13:15:00-04:00",
          "2024-06-06T13:16:00-04:00",
          "2024-06-06T13:17:00-04:00",
          "2024-06-06T13:18:00-04:00",
          "2024-06-06T13:19:00-04:00",
          "2024-06-06T13:20:00-04:00",
          "2024-06-06T13:21:00-04:00",
          "2024-06-06T13:22:00-04:00",
          "2024-06-06T13:23:00-04:00",
          "2024-06-06T13:24:00-04:00",
          "2024-06-06T13:25:00-04:00",
          "2024-06-06T13:26:00-04:00",
          "2024-06-06T13:27:00-04:00",
          "2024-06-06T13:28:00-04:00",
          "2024-06-06T13:29:00-04:00",
          "2024-06-06T13:30:00-04:00",
          "2024-06-06T13:31:00-04:00",
          "2024-06-06T13:32:00-04:00",
          "2024-06-06T13:33:00-04:00",
          "2024-06-06T13:34:00-04:00",
          "2024-06-06T13:35:00-04:00",
          "2024-06-06T13:36:00-04:00",
          "2024-06-06T13:37:00-04:00",
          "2024-06-06T13:38:00-04:00",
          "2024-06-06T13:39:00-04:00",
          "2024-06-06T13:40:00-04:00",
          "2024-06-06T13:41:00-04:00",
          "2024-06-06T13:42:00-04:00",
          "2024-06-06T13:43:00-04:00",
          "2024-06-06T13:44:00-04:00",
          "2024-06-06T13:45:00-04:00",
          "2024-06-06T13:46:00-04:00",
          "2024-06-06T13:47:00-04:00",
          "2024-06-06T13:48:00-04:00",
          "2024-06-06T13:49:00-04:00",
          "2024-06-06T13:50:00-04:00",
          "2024-06-06T13:51:00-04:00",
          "2024-06-06T13:52:00-04:00",
          "2024-06-06T13:53:00-04:00",
          "2024-06-06T13:54:00-04:00",
          "2024-06-06T13:55:00-04:00",
          "2024-06-06T13:56:00-04:00",
          "2024-06-06T13:57:00-04:00",
          "2024-06-06T13:58:00-04:00",
          "2024-06-06T13:59:00-04:00",
          "2024-06-06T14:00:00-04:00",
          "2024-06-06T14:01:00-04:00",
          "2024-06-06T14:02:00-04:00",
          "2024-06-06T14:03:00-04:00",
          "2024-06-06T14:04:00-04:00",
          "2024-06-06T14:05:00-04:00",
          "2024-06-06T14:06:00-04:00",
          "2024-06-06T14:07:00-04:00",
          "2024-06-06T14:08:00-04:00",
          "2024-06-06T14:09:00-04:00",
          "2024-06-06T14:10:00-04:00",
          "2024-06-06T14:11:00-04:00",
          "2024-06-06T14:12:00-04:00",
          "2024-06-06T14:13:00-04:00",
          "2024-06-06T14:14:00-04:00",
          "2024-06-06T14:15:00-04:00",
          "2024-06-06T14:16:00-04:00",
          "2024-06-06T14:17:00-04:00",
          "2024-06-06T14:18:00-04:00",
          "2024-06-06T14:19:00-04:00",
          "2024-06-06T14:20:00-04:00",
          "2024-06-06T14:21:00-04:00",
          "2024-06-06T14:22:00-04:00",
          "2024-06-06T14:23:00-04:00",
          "2024-06-06T14:24:00-04:00",
          "2024-06-06T14:25:00-04:00",
          "2024-06-06T14:26:00-04:00",
          "2024-06-06T14:27:00-04:00",
          "2024-06-06T14:28:00-04:00",
          "2024-06-06T14:29:00-04:00",
          "2024-06-06T14:30:00-04:00",
          "2024-06-06T14:31:00-04:00",
          "2024-06-06T14:32:00-04:00",
          "2024-06-06T14:33:00-04:00",
          "2024-06-06T14:34:00-04:00",
          "2024-06-06T14:35:00-04:00",
          "2024-06-06T14:36:00-04:00",
          "2024-06-06T14:37:00-04:00",
          "2024-06-06T14:38:00-04:00",
          "2024-06-06T14:39:00-04:00",
          "2024-06-06T14:40:00-04:00",
          "2024-06-06T14:41:00-04:00",
          "2024-06-06T14:42:00-04:00",
          "2024-06-06T14:43:00-04:00",
          "2024-06-06T14:44:00-04:00",
          "2024-06-06T14:45:00-04:00",
          "2024-06-06T14:46:00-04:00",
          "2024-06-06T14:47:00-04:00",
          "2024-06-06T14:48:00-04:00",
          "2024-06-06T14:49:00-04:00",
          "2024-06-06T14:50:00-04:00",
          "2024-06-06T14:51:00-04:00",
          "2024-06-06T14:52:00-04:00",
          "2024-06-06T14:53:00-04:00",
          "2024-06-06T14:54:00-04:00",
          "2024-06-06T14:55:00-04:00",
          "2024-06-06T14:56:00-04:00",
          "2024-06-06T14:57:00-04:00",
          "2024-06-06T14:58:00-04:00",
          "2024-06-06T14:59:00-04:00",
          "2024-06-06T15:00:00-04:00",
          "2024-06-06T15:01:00-04:00",
          "2024-06-06T15:02:00-04:00",
          "2024-06-06T15:03:00-04:00",
          "2024-06-06T15:04:00-04:00",
          "2024-06-06T15:05:00-04:00",
          "2024-06-06T15:06:00-04:00",
          "2024-06-06T15:07:00-04:00",
          "2024-06-06T15:08:00-04:00",
          "2024-06-06T15:09:00-04:00",
          "2024-06-06T15:10:00-04:00",
          "2024-06-06T15:11:00-04:00",
          "2024-06-06T15:12:00-04:00",
          "2024-06-06T15:13:00-04:00",
          "2024-06-06T15:14:00-04:00",
          "2024-06-06T15:15:00-04:00",
          "2024-06-06T15:16:00-04:00",
          "2024-06-06T15:17:00-04:00",
          "2024-06-06T15:18:00-04:00",
          "2024-06-06T15:19:00-04:00",
          "2024-06-06T15:20:00-04:00",
          "2024-06-06T15:21:00-04:00",
          "2024-06-06T15:22:00-04:00",
          "2024-06-06T15:23:00-04:00",
          "2024-06-06T15:24:00-04:00",
          "2024-06-06T15:25:00-04:00",
          "2024-06-06T15:26:00-04:00",
          "2024-06-06T15:27:00-04:00",
          "2024-06-06T15:28:00-04:00",
          "2024-06-06T15:29:00-04:00",
          "2024-06-06T15:30:00-04:00",
          "2024-06-06T15:31:00-04:00",
          "2024-06-06T15:32:00-04:00",
          "2024-06-06T15:33:00-04:00",
          "2024-06-06T15:34:00-04:00",
          "2024-06-06T15:35:00-04:00",
          "2024-06-06T15:36:00-04:00",
          "2024-06-06T15:37:00-04:00",
          "2024-06-06T15:38:00-04:00",
          "2024-06-06T15:39:00-04:00",
          "2024-06-06T15:40:00-04:00",
          "2024-06-06T15:41:00-04:00",
          "2024-06-06T15:42:00-04:00",
          "2024-06-06T15:43:00-04:00",
          "2024-06-06T15:44:00-04:00",
          "2024-06-06T15:45:00-04:00",
          "2024-06-06T15:46:00-04:00",
          "2024-06-06T15:47:00-04:00",
          "2024-06-06T15:48:00-04:00",
          "2024-06-06T15:49:00-04:00",
          "2024-06-06T15:50:00-04:00",
          "2024-06-06T15:51:00-04:00",
          "2024-06-06T15:52:00-04:00",
          "2024-06-06T15:53:00-04:00",
          "2024-06-06T15:54:00-04:00",
          "2024-06-06T15:55:00-04:00",
          "2024-06-06T15:56:00-04:00",
          "2024-06-06T15:57:00-04:00",
          "2024-06-06T15:58:00-04:00",
          "2024-06-06T15:59:00-04:00"
         ],
         "xaxis": "x",
         "y": [
          30.43000030517578,
          30.43000030517578,
          30.428771088583378,
          30.423186295011515,
          30.420942219760178,
          30.410995208715867,
          30.3688339030312,
          30.343583124409367,
          30.329963886281373,
          30.318105521986688,
          30.306601095742533,
          30.292181768383127,
          30.278792354311875,
          30.267840373857993,
          30.258170623656945,
          30.250018050363163,
          30.242405276105853,
          30.23945453740465,
          30.235995227808786,
          30.234424108772444,
          30.232486532169244,
          30.22693256721981,
          30.222268618838243,
          30.218076991083375,
          30.214992326890485,
          30.214084000868198,
          30.21512026181267,
          30.21987556100817,
          30.22923650887743,
          30.230203212258147,
          30.23774508671931,
          30.2444548998705,
          30.24410677100758,
          30.244890301976138,
          30.2466765785978,
          30.251903895502593,
          30.25766547384089,
          30.261646263643502,
          30.264953201538145,
          30.267813161569862,
          30.270604325998413,
          30.269177433556624,
          30.266419639523942,
          30.264571427720018,
          30.263688866189973,
          30.266385996666997,
          30.26793085401537,
          30.266759049790412,
          30.263851259944655,
          30.25946040044991,
          30.257103625995533,
          30.255173740111562,
          30.25543230351658,
          30.25574068213385,
          30.25514911195224,
          30.254646723521436,
          30.25688423344096,
          30.257268167564135,
          30.257266652312925,
          30.257266652312925,
          30.25662735526702,
          30.25675543384914,
          30.256626054729384,
          30.25675112569693,
          30.257195474355076,
          30.258163889366145,
          30.261454178159966,
          30.26454805201863,
          30.266922920777922,
          30.26864824668597,
          30.271797626396122,
          30.27844058279711,
          30.28699350516062,
          30.29677056036261,
          30.304095476885312,
          30.311864807707245,
          30.317710329303342,
          30.320009813396723,
          30.321830243813313,
          30.323652456585585,
          30.328839511231184,
          30.33631957945274,
          30.343096868981196,
          30.34901521429048,
          30.351867262442664,
          30.355719627480635,
          30.35739767899201,
          30.358691197316325,
          30.359985170946064,
          30.357212837748957,
          30.35159142595559,
          30.34439305160426,
          30.337411515575724,
          30.330299691103132,
          30.323451129291698,
          30.31271651750709,
          30.304265294662006,
          30.29835750213485,
          30.292763576699077,
          30.289558521979945,
          30.287530460933624,
          30.285636181849622,
          30.28386111673782,
          30.282240819829283,
          30.28152851118386,
          30.280916278340925,
          30.280309742238632,
          30.280221473918903,
          30.28042681577433,
          30.281807824947258,
          30.28282711788779,
          30.28282711788779,
          30.283215937939165,
          30.283115258885694,
          30.283915793156975,
          30.285285804248893,
          30.28719998966992,
          30.290293445238163,
          30.293609188861623,
          30.301337247880642,
          30.309728417505408,
          30.31560190855922,
          30.321093745475707,
          30.324726585216887,
          30.32736076178364,
          30.329973319296094,
          30.33319930519181,
          30.33733332152527,
          30.341167729407903,
          30.34640828103874,
          30.351009125707098,
          30.354222046540247,
          30.35712303361839,
          30.361036746144322,
          30.365422793878487,
          30.36775649786374,
          30.370238809444913,
          30.374522954088093,
          30.379493197859478,
          30.38351109049005,
          30.387104644141793,
          30.391208870045464,
          30.39295219226644,
          30.393839636856676,
          30.396009523826603,
          30.39916616805199,
          30.400869758941763,
          30.403662064555686,
          30.408151002296204,
          30.417111986640506,
          30.424410977565557,
          30.427425821598195,
          30.42895047855021,
          30.431523567494448,
          30.43412588066775,
          30.43500586893586,
          30.43244236983907,
          30.42795754710621,
          30.421547886099102,
          30.416011092540806,
          30.41203496015388,
          30.40944182936019,
          30.40561274084366,
          30.403747450786923,
          30.402480808364604,
          30.399558478273157,
          30.397556495819565,
          30.39438714931601,
          30.39268041726115,
          30.391981489125357,
          30.389313456671527,
          30.385325590625047,
          30.382821225719805,
          30.380679267060668,
          30.378875499435555,
          30.378534564102658,
          30.377726949125066,
          30.37839700293979,
          30.378519166969,
          30.377525920444157,
          30.376513821539607,
          30.375799967614252,
          30.376196493865248,
          30.376196493865248,
          30.375806898094798,
          30.37448265728614,
          30.3736442354073,
          30.371335228428475,
          30.36932613019985,
          30.367632493451808,
          30.366551673291763,
          30.36615340057849,
          30.365707737294066,
          30.366268270796493,
          30.366002901779417,
          30.366002901779417,
          30.365956325200774,
          30.36621699384258,
          30.366588144602083,
          30.366588449614675,
          30.366649613355538,
          30.36667581870479,
          30.36642088057923,
          30.366382783282205,
          30.365202427373227,
          30.363941338702332,
          30.362334838808252,
          30.362303594801748,
          30.362687518401692,
          30.36338043952768,
          30.36551279352804,
          30.36865027533972,
          30.37227343155615,
          30.376870775093582,
          30.38202591454319,
          30.386543613482793,
          30.39196590535172,
          30.397724257537977,
          30.404045301697035,
          30.411657894169583,
          30.416490847838247,
          30.422176415818786,
          30.42825749872313,
          30.43542776179427,
          30.443250792824966,
          30.451119881286612,
          30.4572355394213,
          30.46205090949971,
          30.463220060593354,
          30.46205090949971,
          30.460781846713147,
          30.458623134733575,
          30.454963673175033,
          30.45185202264674,
          30.450883813787932,
          30.449341294473985,
          30.448575995611325,
          30.4483255011906,
          30.448117088310006,
          30.447835475349212,
          30.447461610611192,
          30.446918495784082,
          30.446341841049456,
          30.446284781179983,
          30.445321288909213,
          30.444836424425514,
          30.443599182202224,
          30.44283929762563,
          30.44266025832183,
          30.44266025832183,
          30.4414323421422,
          30.44127052602731,
          30.441070606689376,
          30.441071239699173,
          30.441604202943218,
          30.44347079506068,
          30.4463253094794,
          30.448660124404253,
          30.45017929454887,
          30.45167645347751,
          30.45233120638096,
          30.45266950096495,
          30.45266950096495,
          30.45243643887846,
          30.45272330547477,
          30.454065441240793,
          30.455960057485726,
          30.45706314571912,
          30.45964550217366,
          30.461587610490717,
          30.460904962171412,
          30.460904962171412,
          30.457914115531608,
          30.451903571940125,
          30.44519353949384,
          30.436671164759094,
          30.424751247298563,
          30.414364406625015,
          30.405766625264615,
          30.397821544324668,
          30.39098729045251,
          30.38538838253596,
          30.38188702502195,
          30.378283811132903,
          30.37599961747589,
          30.373624255837623,
          30.37159720470441,
          30.36941302990344,
          30.3678501709871,
          30.36875258442133,
          30.36955553728524,
          30.369967626563138,
          30.37124281380042,
          30.372398075968373,
          30.372388090022838,
          30.3728815018108,
          30.373013086381498,
          30.373031070550816,
          30.373079588608757,
          30.37382754582576,
          30.376892286963333,
          30.380728725696674,
          30.38431998549977,
          30.388548512566103,
          30.393087486450742,
          30.397434798422825,
          30.398942505363777,
          30.4015723686261,
          30.402768171412273,
          30.405371029149094,
          30.407959237436252,
          30.411327345228337,
          30.414400250972133,
          30.413985154366614,
          30.41414507969074,
          30.41468140598585,
          30.415685188929512,
          30.416480999017512,
          30.418296800500187,
          30.420076596638406,
          30.421655622442536,
          30.42264520057716,
          30.42458530531765,
          30.424739418425972,
          30.42491822644572,
          30.426145613561236,
          30.427334519658288,
          30.42871139274314,
          30.430211069173783,
          30.431355985028198,
          30.431453305728464,
          30.430443758107586,
          30.42933634769784,
          30.429595475108073,
          30.429328259523615,
          30.429719299509593,
          30.43113510112542,
          30.432687712965286,
          30.434763284448795,
          30.43717263632641,
          30.438972618847593,
          30.439923063043345,
          30.440717740626315,
          30.44162833064284,
          30.442937057752086,
          30.442692348558793,
          30.443296693835403,
          30.443619943443124,
          30.443487139381414,
          30.443366638270955,
          30.44253132656728,
          30.442319645802254,
          30.44259581208309,
          30.44322967141824,
          30.44398959863739,
          30.446458305868664,
          30.449260699053408,
          30.452097386311213,
          30.456109001234044,
          30.459843395295565,
          30.46143250652649,
          30.464455223371534,
          30.464986186353794,
          30.464765158396872,
          30.465472468228,
          30.46564589557774,
          30.465650281137624,
          30.467306077500922,
          30.468668712389086,
          30.470909874812307,
          30.472220132892847,
          30.47304451002126,
          30.47276507166116,
          30.47276507166116,
          30.472641551797768,
          30.472622449108727,
          30.47227780179181,
          30.472720013104375,
          30.47291325622699,
          30.473563603923644,
          30.473680692707532,
          30.473523191708576,
          30.474465698697344,
          30.474228192835174,
          30.47411885769014,
          30.47176058202585,
          30.46939910434614,
          30.463665498990594,
          30.45666018245081,
          30.447761257301003
         ],
         "yaxis": "y"
        },
        {
         "hovertemplate": "variable=Close<br>Datetime=%{x}<br>value=%{y}<extra></extra>",
         "legendgroup": "Close",
         "line": {
          "color": "#0059ff",
          "dash": "solid"
         },
         "marker": {
          "symbol": "circle"
         },
         "mode": "lines",
         "name": "Close",
         "showlegend": true,
         "type": "scattergl",
         "x": [
          "2024-06-06T09:30:00-04:00",
          "2024-06-06T09:31:00-04:00",
          "2024-06-06T09:32:00-04:00",
          "2024-06-06T09:33:00-04:00",
          "2024-06-06T09:34:00-04:00",
          "2024-06-06T09:35:00-04:00",
          "2024-06-06T09:36:00-04:00",
          "2024-06-06T09:37:00-04:00",
          "2024-06-06T09:38:00-04:00",
          "2024-06-06T09:39:00-04:00",
          "2024-06-06T09:40:00-04:00",
          "2024-06-06T09:41:00-04:00",
          "2024-06-06T09:42:00-04:00",
          "2024-06-06T09:43:00-04:00",
          "2024-06-06T09:44:00-04:00",
          "2024-06-06T09:45:00-04:00",
          "2024-06-06T09:46:00-04:00",
          "2024-06-06T09:47:00-04:00",
          "2024-06-06T09:48:00-04:00",
          "2024-06-06T09:49:00-04:00",
          "2024-06-06T09:50:00-04:00",
          "2024-06-06T09:51:00-04:00",
          "2024-06-06T09:52:00-04:00",
          "2024-06-06T09:53:00-04:00",
          "2024-06-06T09:54:00-04:00",
          "2024-06-06T09:55:00-04:00",
          "2024-06-06T09:56:00-04:00",
          "2024-06-06T09:57:00-04:00",
          "2024-06-06T09:58:00-04:00",
          "2024-06-06T09:59:00-04:00",
          "2024-06-06T10:00:00-04:00",
          "2024-06-06T10:01:00-04:00",
          "2024-06-06T10:02:00-04:00",
          "2024-06-06T10:03:00-04:00",
          "2024-06-06T10:04:00-04:00",
          "2024-06-06T10:05:00-04:00",
          "2024-06-06T10:06:00-04:00",
          "2024-06-06T10:07:00-04:00",
          "2024-06-06T10:08:00-04:00",
          "2024-06-06T10:09:00-04:00",
          "2024-06-06T10:10:00-04:00",
          "2024-06-06T10:11:00-04:00",
          "2024-06-06T10:12:00-04:00",
          "2024-06-06T10:13:00-04:00",
          "2024-06-06T10:14:00-04:00",
          "2024-06-06T10:15:00-04:00",
          "2024-06-06T10:16:00-04:00",
          "2024-06-06T10:17:00-04:00",
          "2024-06-06T10:18:00-04:00",
          "2024-06-06T10:19:00-04:00",
          "2024-06-06T10:20:00-04:00",
          "2024-06-06T10:21:00-04:00",
          "2024-06-06T10:22:00-04:00",
          "2024-06-06T10:23:00-04:00",
          "2024-06-06T10:24:00-04:00",
          "2024-06-06T10:25:00-04:00",
          "2024-06-06T10:26:00-04:00",
          "2024-06-06T10:27:00-04:00",
          "2024-06-06T10:28:00-04:00",
          "2024-06-06T10:29:00-04:00",
          "2024-06-06T10:30:00-04:00",
          "2024-06-06T10:31:00-04:00",
          "2024-06-06T10:32:00-04:00",
          "2024-06-06T10:33:00-04:00",
          "2024-06-06T10:34:00-04:00",
          "2024-06-06T10:35:00-04:00",
          "2024-06-06T10:36:00-04:00",
          "2024-06-06T10:37:00-04:00",
          "2024-06-06T10:38:00-04:00",
          "2024-06-06T10:39:00-04:00",
          "2024-06-06T10:40:00-04:00",
          "2024-06-06T10:41:00-04:00",
          "2024-06-06T10:42:00-04:00",
          "2024-06-06T10:43:00-04:00",
          "2024-06-06T10:44:00-04:00",
          "2024-06-06T10:45:00-04:00",
          "2024-06-06T10:46:00-04:00",
          "2024-06-06T10:47:00-04:00",
          "2024-06-06T10:48:00-04:00",
          "2024-06-06T10:49:00-04:00",
          "2024-06-06T10:50:00-04:00",
          "2024-06-06T10:51:00-04:00",
          "2024-06-06T10:52:00-04:00",
          "2024-06-06T10:53:00-04:00",
          "2024-06-06T10:54:00-04:00",
          "2024-06-06T10:55:00-04:00",
          "2024-06-06T10:56:00-04:00",
          "2024-06-06T10:57:00-04:00",
          "2024-06-06T10:58:00-04:00",
          "2024-06-06T10:59:00-04:00",
          "2024-06-06T11:00:00-04:00",
          "2024-06-06T11:01:00-04:00",
          "2024-06-06T11:02:00-04:00",
          "2024-06-06T11:03:00-04:00",
          "2024-06-06T11:04:00-04:00",
          "2024-06-06T11:05:00-04:00",
          "2024-06-06T11:06:00-04:00",
          "2024-06-06T11:07:00-04:00",
          "2024-06-06T11:08:00-04:00",
          "2024-06-06T11:09:00-04:00",
          "2024-06-06T11:10:00-04:00",
          "2024-06-06T11:11:00-04:00",
          "2024-06-06T11:12:00-04:00",
          "2024-06-06T11:13:00-04:00",
          "2024-06-06T11:14:00-04:00",
          "2024-06-06T11:15:00-04:00",
          "2024-06-06T11:16:00-04:00",
          "2024-06-06T11:17:00-04:00",
          "2024-06-06T11:18:00-04:00",
          "2024-06-06T11:19:00-04:00",
          "2024-06-06T11:20:00-04:00",
          "2024-06-06T11:21:00-04:00",
          "2024-06-06T11:22:00-04:00",
          "2024-06-06T11:23:00-04:00",
          "2024-06-06T11:24:00-04:00",
          "2024-06-06T11:25:00-04:00",
          "2024-06-06T11:26:00-04:00",
          "2024-06-06T11:27:00-04:00",
          "2024-06-06T11:28:00-04:00",
          "2024-06-06T11:29:00-04:00",
          "2024-06-06T11:30:00-04:00",
          "2024-06-06T11:31:00-04:00",
          "2024-06-06T11:32:00-04:00",
          "2024-06-06T11:33:00-04:00",
          "2024-06-06T11:34:00-04:00",
          "2024-06-06T11:35:00-04:00",
          "2024-06-06T11:36:00-04:00",
          "2024-06-06T11:37:00-04:00",
          "2024-06-06T11:38:00-04:00",
          "2024-06-06T11:39:00-04:00",
          "2024-06-06T11:40:00-04:00",
          "2024-06-06T11:41:00-04:00",
          "2024-06-06T11:42:00-04:00",
          "2024-06-06T11:43:00-04:00",
          "2024-06-06T11:44:00-04:00",
          "2024-06-06T11:45:00-04:00",
          "2024-06-06T11:46:00-04:00",
          "2024-06-06T11:47:00-04:00",
          "2024-06-06T11:48:00-04:00",
          "2024-06-06T11:49:00-04:00",
          "2024-06-06T11:50:00-04:00",
          "2024-06-06T11:51:00-04:00",
          "2024-06-06T11:52:00-04:00",
          "2024-06-06T11:53:00-04:00",
          "2024-06-06T11:54:00-04:00",
          "2024-06-06T11:55:00-04:00",
          "2024-06-06T11:56:00-04:00",
          "2024-06-06T11:57:00-04:00",
          "2024-06-06T11:58:00-04:00",
          "2024-06-06T11:59:00-04:00",
          "2024-06-06T12:00:00-04:00",
          "2024-06-06T12:01:00-04:00",
          "2024-06-06T12:02:00-04:00",
          "2024-06-06T12:03:00-04:00",
          "2024-06-06T12:04:00-04:00",
          "2024-06-06T12:05:00-04:00",
          "2024-06-06T12:06:00-04:00",
          "2024-06-06T12:07:00-04:00",
          "2024-06-06T12:08:00-04:00",
          "2024-06-06T12:09:00-04:00",
          "2024-06-06T12:10:00-04:00",
          "2024-06-06T12:11:00-04:00",
          "2024-06-06T12:12:00-04:00",
          "2024-06-06T12:13:00-04:00",
          "2024-06-06T12:14:00-04:00",
          "2024-06-06T12:15:00-04:00",
          "2024-06-06T12:16:00-04:00",
          "2024-06-06T12:17:00-04:00",
          "2024-06-06T12:18:00-04:00",
          "2024-06-06T12:19:00-04:00",
          "2024-06-06T12:20:00-04:00",
          "2024-06-06T12:21:00-04:00",
          "2024-06-06T12:22:00-04:00",
          "2024-06-06T12:23:00-04:00",
          "2024-06-06T12:24:00-04:00",
          "2024-06-06T12:25:00-04:00",
          "2024-06-06T12:26:00-04:00",
          "2024-06-06T12:27:00-04:00",
          "2024-06-06T12:28:00-04:00",
          "2024-06-06T12:29:00-04:00",
          "2024-06-06T12:30:00-04:00",
          "2024-06-06T12:31:00-04:00",
          "2024-06-06T12:32:00-04:00",
          "2024-06-06T12:33:00-04:00",
          "2024-06-06T12:34:00-04:00",
          "2024-06-06T12:35:00-04:00",
          "2024-06-06T12:36:00-04:00",
          "2024-06-06T12:37:00-04:00",
          "2024-06-06T12:38:00-04:00",
          "2024-06-06T12:39:00-04:00",
          "2024-06-06T12:40:00-04:00",
          "2024-06-06T12:41:00-04:00",
          "2024-06-06T12:42:00-04:00",
          "2024-06-06T12:43:00-04:00",
          "2024-06-06T12:44:00-04:00",
          "2024-06-06T12:45:00-04:00",
          "2024-06-06T12:46:00-04:00",
          "2024-06-06T12:47:00-04:00",
          "2024-06-06T12:48:00-04:00",
          "2024-06-06T12:49:00-04:00",
          "2024-06-06T12:50:00-04:00",
          "2024-06-06T12:51:00-04:00",
          "2024-06-06T12:52:00-04:00",
          "2024-06-06T12:53:00-04:00",
          "2024-06-06T12:54:00-04:00",
          "2024-06-06T12:55:00-04:00",
          "2024-06-06T12:56:00-04:00",
          "2024-06-06T12:57:00-04:00",
          "2024-06-06T12:58:00-04:00",
          "2024-06-06T12:59:00-04:00",
          "2024-06-06T13:00:00-04:00",
          "2024-06-06T13:01:00-04:00",
          "2024-06-06T13:02:00-04:00",
          "2024-06-06T13:03:00-04:00",
          "2024-06-06T13:04:00-04:00",
          "2024-06-06T13:05:00-04:00",
          "2024-06-06T13:06:00-04:00",
          "2024-06-06T13:07:00-04:00",
          "2024-06-06T13:08:00-04:00",
          "2024-06-06T13:09:00-04:00",
          "2024-06-06T13:10:00-04:00",
          "2024-06-06T13:11:00-04:00",
          "2024-06-06T13:12:00-04:00",
          "2024-06-06T13:13:00-04:00",
          "2024-06-06T13:14:00-04:00",
          "2024-06-06T13:15:00-04:00",
          "2024-06-06T13:16:00-04:00",
          "2024-06-06T13:17:00-04:00",
          "2024-06-06T13:18:00-04:00",
          "2024-06-06T13:19:00-04:00",
          "2024-06-06T13:20:00-04:00",
          "2024-06-06T13:21:00-04:00",
          "2024-06-06T13:22:00-04:00",
          "2024-06-06T13:23:00-04:00",
          "2024-06-06T13:24:00-04:00",
          "2024-06-06T13:25:00-04:00",
          "2024-06-06T13:26:00-04:00",
          "2024-06-06T13:27:00-04:00",
          "2024-06-06T13:28:00-04:00",
          "2024-06-06T13:29:00-04:00",
          "2024-06-06T13:30:00-04:00",
          "2024-06-06T13:31:00-04:00",
          "2024-06-06T13:32:00-04:00",
          "2024-06-06T13:33:00-04:00",
          "2024-06-06T13:34:00-04:00",
          "2024-06-06T13:35:00-04:00",
          "2024-06-06T13:36:00-04:00",
          "2024-06-06T13:37:00-04:00",
          "2024-06-06T13:38:00-04:00",
          "2024-06-06T13:39:00-04:00",
          "2024-06-06T13:40:00-04:00",
          "2024-06-06T13:41:00-04:00",
          "2024-06-06T13:42:00-04:00",
          "2024-06-06T13:43:00-04:00",
          "2024-06-06T13:44:00-04:00",
          "2024-06-06T13:45:00-04:00",
          "2024-06-06T13:46:00-04:00",
          "2024-06-06T13:47:00-04:00",
          "2024-06-06T13:48:00-04:00",
          "2024-06-06T13:49:00-04:00",
          "2024-06-06T13:50:00-04:00",
          "2024-06-06T13:51:00-04:00",
          "2024-06-06T13:52:00-04:00",
          "2024-06-06T13:53:00-04:00",
          "2024-06-06T13:54:00-04:00",
          "2024-06-06T13:55:00-04:00",
          "2024-06-06T13:56:00-04:00",
          "2024-06-06T13:57:00-04:00",
          "2024-06-06T13:58:00-04:00",
          "2024-06-06T13:59:00-04:00",
          "2024-06-06T14:00:00-04:00",
          "2024-06-06T14:01:00-04:00",
          "2024-06-06T14:02:00-04:00",
          "2024-06-06T14:03:00-04:00",
          "2024-06-06T14:04:00-04:00",
          "2024-06-06T14:05:00-04:00",
          "2024-06-06T14:06:00-04:00",
          "2024-06-06T14:07:00-04:00",
          "2024-06-06T14:08:00-04:00",
          "2024-06-06T14:09:00-04:00",
          "2024-06-06T14:10:00-04:00",
          "2024-06-06T14:11:00-04:00",
          "2024-06-06T14:12:00-04:00",
          "2024-06-06T14:13:00-04:00",
          "2024-06-06T14:14:00-04:00",
          "2024-06-06T14:15:00-04:00",
          "2024-06-06T14:16:00-04:00",
          "2024-06-06T14:17:00-04:00",
          "2024-06-06T14:18:00-04:00",
          "2024-06-06T14:19:00-04:00",
          "2024-06-06T14:20:00-04:00",
          "2024-06-06T14:21:00-04:00",
          "2024-06-06T14:22:00-04:00",
          "2024-06-06T14:23:00-04:00",
          "2024-06-06T14:24:00-04:00",
          "2024-06-06T14:25:00-04:00",
          "2024-06-06T14:26:00-04:00",
          "2024-06-06T14:27:00-04:00",
          "2024-06-06T14:28:00-04:00",
          "2024-06-06T14:29:00-04:00",
          "2024-06-06T14:30:00-04:00",
          "2024-06-06T14:31:00-04:00",
          "2024-06-06T14:32:00-04:00",
          "2024-06-06T14:33:00-04:00",
          "2024-06-06T14:34:00-04:00",
          "2024-06-06T14:35:00-04:00",
          "2024-06-06T14:36:00-04:00",
          "2024-06-06T14:37:00-04:00",
          "2024-06-06T14:38:00-04:00",
          "2024-06-06T14:39:00-04:00",
          "2024-06-06T14:40:00-04:00",
          "2024-06-06T14:41:00-04:00",
          "2024-06-06T14:42:00-04:00",
          "2024-06-06T14:43:00-04:00",
          "2024-06-06T14:44:00-04:00",
          "2024-06-06T14:45:00-04:00",
          "2024-06-06T14:46:00-04:00",
          "2024-06-06T14:47:00-04:00",
          "2024-06-06T14:48:00-04:00",
          "2024-06-06T14:49:00-04:00",
          "2024-06-06T14:50:00-04:00",
          "2024-06-06T14:51:00-04:00",
          "2024-06-06T14:52:00-04:00",
          "2024-06-06T14:53:00-04:00",
          "2024-06-06T14:54:00-04:00",
          "2024-06-06T14:55:00-04:00",
          "2024-06-06T14:56:00-04:00",
          "2024-06-06T14:57:00-04:00",
          "2024-06-06T14:58:00-04:00",
          "2024-06-06T14:59:00-04:00",
          "2024-06-06T15:00:00-04:00",
          "2024-06-06T15:01:00-04:00",
          "2024-06-06T15:02:00-04:00",
          "2024-06-06T15:03:00-04:00",
          "2024-06-06T15:04:00-04:00",
          "2024-06-06T15:05:00-04:00",
          "2024-06-06T15:06:00-04:00",
          "2024-06-06T15:07:00-04:00",
          "2024-06-06T15:08:00-04:00",
          "2024-06-06T15:09:00-04:00",
          "2024-06-06T15:10:00-04:00",
          "2024-06-06T15:11:00-04:00",
          "2024-06-06T15:12:00-04:00",
          "2024-06-06T15:13:00-04:00",
          "2024-06-06T15:14:00-04:00",
          "2024-06-06T15:15:00-04:00",
          "2024-06-06T15:16:00-04:00",
          "2024-06-06T15:17:00-04:00",
          "2024-06-06T15:18:00-04:00",
          "2024-06-06T15:19:00-04:00",
          "2024-06-06T15:20:00-04:00",
          "2024-06-06T15:21:00-04:00",
          "2024-06-06T15:22:00-04:00",
          "2024-06-06T15:23:00-04:00",
          "2024-06-06T15:24:00-04:00",
          "2024-06-06T15:25:00-04:00",
          "2024-06-06T15:26:00-04:00",
          "2024-06-06T15:27:00-04:00",
          "2024-06-06T15:28:00-04:00",
          "2024-06-06T15:29:00-04:00",
          "2024-06-06T15:30:00-04:00",
          "2024-06-06T15:31:00-04:00",
          "2024-06-06T15:32:00-04:00",
          "2024-06-06T15:33:00-04:00",
          "2024-06-06T15:34:00-04:00",
          "2024-06-06T15:35:00-04:00",
          "2024-06-06T15:36:00-04:00",
          "2024-06-06T15:37:00-04:00",
          "2024-06-06T15:38:00-04:00",
          "2024-06-06T15:39:00-04:00",
          "2024-06-06T15:40:00-04:00",
          "2024-06-06T15:41:00-04:00",
          "2024-06-06T15:42:00-04:00",
          "2024-06-06T15:43:00-04:00",
          "2024-06-06T15:44:00-04:00",
          "2024-06-06T15:45:00-04:00",
          "2024-06-06T15:46:00-04:00",
          "2024-06-06T15:47:00-04:00",
          "2024-06-06T15:48:00-04:00",
          "2024-06-06T15:49:00-04:00",
          "2024-06-06T15:50:00-04:00",
          "2024-06-06T15:51:00-04:00",
          "2024-06-06T15:52:00-04:00",
          "2024-06-06T15:53:00-04:00",
          "2024-06-06T15:54:00-04:00",
          "2024-06-06T15:55:00-04:00",
          "2024-06-06T15:56:00-04:00",
          "2024-06-06T15:57:00-04:00",
          "2024-06-06T15:58:00-04:00",
          "2024-06-06T15:59:00-04:00"
         ],
         "xaxis": "x",
         "y": [
          30.43000030517578,
          30.424999237060547,
          30.469999313354492,
          30.477399826049805,
          30.360000610351562,
          30.19499969482422,
          30.206199645996094,
          30.260000228881836,
          30.264999389648438,
          30.260099411010742,
          30.226200103759766,
          30.225000381469727,
          30.239200592041016,
          30.2450008392334,
          30.255199432373047,
          30.2549991607666,
          30.319900512695312,
          30.30500030517578,
          30.34000015258789,
          30.325000762939453,
          30.2549991607666,
          30.258399963378906,
          30.2549991607666,
          30.260000228881836,
          30.28499984741211,
          30.329999923706055,
          30.313899993896484,
          30.33530044555664,
          30.325000762939453,
          30.315000534057617,
          30.299999237060547,
          30.2549991607666,
          30.280000686645508,
          30.300100326538086,
          30.309999465942383,
          30.30500030517578,
          30.290000915527344,
          30.28499984741211,
          30.295000076293945,
          30.289899826049805,
          30.280000686645508,
          30.260000228881836,
          30.264999389648438,
          30.280000686645508,
          30.295000076293945,
          30.27669906616211,
          30.2450008392334,
          30.235000610351562,
          30.235000610351562,
          30.2549991607666,
          30.260000228881836,
          30.28190040588379,
          30.315000534057617,
          30.331600189208984,
          30.330900192260742,
          30.299999237060547,
          30.28969955444336,
          30.299999237060547,
          30.309999465942383,
          30.34000015258789,
          30.334999084472656,
          30.356000900268555,
          30.350000381469727,
          30.35689926147461,
          30.3700008392334,
          30.355199813842773,
          30.36669921875,
          30.364999771118164,
          30.354999542236328,
          30.350000381469727,
          30.360000610351562,
          30.34760093688965,
          30.371999740600586,
          30.399999618530273,
          30.400299072265625,
          30.39550018310547,
          30.40999984741211,
          30.392000198364258,
          30.40999984741211,
          30.415000915527344,
          30.409000396728516,
          30.3799991607666,
          30.375,
          30.385000228881836,
          30.399999618530273,
          30.385000228881836,
          30.364999771118164,
          30.375,
          30.34000015258789,
          30.309999465942383,
          30.29990005493164,
          30.295000076293945,
          30.28499984741211,
          30.280000686645508,
          30.25,
          30.2549991607666,
          30.281099319458008,
          30.28499984741211,
          30.309999465942383,
          30.325000762939453,
          30.321399688720703,
          30.3218994140625,
          30.315000534057617,
          30.31999969482422,
          30.315000534057617,
          30.325000762939453,
          30.34000015258789,
          30.334999084472656,
          30.34000015258789,
          30.34000015258789,
          30.364999771118164,
          30.364999771118164,
          30.354999542236328,
          30.352500915527344,
          30.364999771118164,
          30.3700008392334,
          30.3700008392334,
          30.396699905395508,
          30.399999618530273,
          30.395000457763672,
          30.388500213623047,
          30.40999984741211,
          30.396699905395508,
          30.385000228881836,
          30.360000610351562,
          30.377599716186523,
          30.41010093688965,
          30.41990089416504,
          30.415000915527344,
          30.415000915527344,
          30.422199249267578,
          30.454999923706055,
          30.440000534057617,
          30.44499969482422,
          30.44499969482422,
          30.454999923706055,
          30.434999465942383,
          30.44499969482422,
          30.434999465942383,
          30.42340087890625,
          30.434999465942383,
          30.449800491333008,
          30.479999542236328,
          30.469999313354492,
          30.469999313354492,
          30.454999923706055,
          30.44499969482422,
          30.46500015258789,
          30.459999084472656,
          30.454999923706055,
          30.450199127197266,
          30.43829917907715,
          30.44499969482422,
          30.4414005279541,
          30.430099487304688,
          30.42009925842285,
          30.400100708007812,
          30.385000228881836,
          30.385000228881836,
          30.395000457763672,
          30.399999618530273,
          30.389999389648438,
          30.405000686645508,
          30.405000686645508,
          30.391700744628906,
          30.405000686645508,
          30.385000228881836,
          30.399999618530273,
          30.409900665283203,
          30.385000228881836,
          30.3700008392334,
          30.375,
          30.375,
          30.375,
          30.38990020751953,
          30.385000228881836,
          30.3966007232666,
          30.3799991607666,
          30.370100021362305,
          30.371599197387695,
          30.3799991607666,
          30.399900436401367,
          30.385000228881836,
          30.3843994140625,
          30.37190055847168,
          30.375,
          30.360000610351562,
          30.36009979248047,
          30.362300872802734,
          30.364999771118164,
          30.375,
          30.372299194335938,
          30.375,
          30.375,
          30.3700008392334,
          30.399999618530273,
          30.395999908447266,
          30.395000457763672,
          30.389999389648438,
          30.389999389648438,
          30.395000457763672,
          30.409900665283203,
          30.422100067138672,
          30.44499969482422,
          30.454999923706055,
          30.46310043334961,
          30.459999084472656,
          30.46500015258789,
          30.489999771118164,
          30.47010040283203,
          30.4950008392334,
          30.5049991607666,
          30.4950008392334,
          30.485000610351562,
          30.5,
          30.497699737548828,
          30.4950008392334,
          30.500099182128906,
          30.5,
          30.489999771118164,
          30.492000579833984,
          30.479999542236328,
          30.475000381469727,
          30.469999313354492,
          30.46500015258789,
          30.46030044555664,
          30.459999084472656,
          30.454999923706055,
          30.44499969482422,
          30.450000762939453,
          30.439899444580078,
          30.43000030517578,
          30.440200805664062,
          30.454999923706055,
          30.454999923706055,
          30.462799072265625,
          30.475000381469727,
          30.475000381469727,
          30.4689998626709,
          30.46500015258789,
          30.459999084472656,
          30.452800750732422,
          30.454999923706055,
          30.44499969482422,
          30.44499969482422,
          30.440000534057617,
          30.44499969482422,
          30.454999923706055,
          30.46500015258789,
          30.4950008392334,
          30.485000610351562,
          30.4950008392334,
          30.510000228881836,
          30.5049991607666,
          30.5,
          30.512399673461914,
          30.510000228881836,
          30.4950008392334,
          30.485000610351562,
          30.475000381469727,
          30.485000610351562,
          30.475000381469727,
          30.46500015258789,
          30.469999313354492,
          30.489900588989258,
          30.485000610351562,
          30.469999313354492,
          30.47760009765625,
          30.46500015258789,
          30.434999465942383,
          30.44499969482422,
          30.43000030517578,
          30.412399291992188,
          30.40999984741211,
          30.390100479125977,
          30.36050033569336,
          30.360000610351562,
          30.364999771118164,
          30.363399505615234,
          30.364999771118164,
          30.3700008392334,
          30.38990020751953,
          30.385000228881836,
          30.399900436401367,
          30.392499923706055,
          30.395000457763672,
          30.389999389648438,
          30.39459991455078,
          30.439699172973633,
          30.422100067138672,
          30.41670036315918,
          30.415000915527344,
          30.42009925842285,
          30.40999984741211,
          30.41189956665039,
          30.415000915527344,
          30.415000915527344,
          30.415000915527344,
          30.415000915527344,
          30.440000534057617,
          30.424999237060547,
          30.43000030517578,
          30.43000030517578,
          30.43000030517578,
          30.434999465942383,
          30.454999923706055,
          30.453800201416016,
          30.459999084472656,
          30.43160057067871,
          30.434999465942383,
          30.43000030517578,
          30.43000030517578,
          30.424999237060547,
          30.424999237060547,
          30.424999237060547,
          30.4325008392334,
          30.44219970703125,
          30.44499969482422,
          30.44499969482422,
          30.44219970703125,
          30.468599319458008,
          30.453100204467773,
          30.489999771118164,
          30.47010040283203,
          30.475000381469727,
          30.46980094909668,
          30.465700149536133,
          30.46500015258789,
          30.459999084472656,
          30.458900451660156,
          30.434999465942383,
          30.434999465942383,
          30.434999465942383,
          30.431499481201172,
          30.434999465942383,
          30.454999923706055,
          30.44499969482422,
          30.454999923706055,
          30.462299346923828,
          30.46500015258789,
          30.479999542236328,
          30.485000610351562,
          30.462200164794922,
          30.466999053955078,
          30.45989990234375,
          30.469999313354492,
          30.47260093688965,
          30.485000610351562,
          30.485000610351562,
          30.50510025024414,
          30.50200080871582,
          30.493000030517578,
          30.48189926147461,
          30.485000610351562,
          30.469999313354492,
          30.475000381469727,
          30.469999313354492,
          30.485000610351562,
          30.5049991607666,
          30.50749969482422,
          30.479999542236328,
          30.459999084472656,
          30.459999084472656,
          30.475000381469727,
          30.485000610351562,
          30.5049991607666,
          30.50029945373535,
          30.5,
          30.5,
          30.49449920654297,
          30.485000610351562,
          30.479999542236328,
          30.485000610351562,
          30.489999771118164,
          30.4950008392334,
          30.48310089111328,
          30.4950008392334,
          30.490100860595703,
          30.524999618530273,
          30.53499984741211,
          30.55500030517578,
          30.522899627685547,
          30.540000915527344,
          30.540000915527344,
          30.454999923706055,
          30.440000534057617,
          30.415000915527344,
          30.40999984741211,
          30.395000457763672,
          30.420000076293945
         ],
         "yaxis": "y"
        }
       ],
       "layout": {
        "legend": {
         "title": {
          "text": "variable"
         },
         "tracegroupgap": 0
        },
        "template": {
         "data": {
          "bar": [
           {
            "error_x": {
             "color": "#2a3f5f"
            },
            "error_y": {
             "color": "#2a3f5f"
            },
            "marker": {
             "line": {
              "color": "#E5ECF6",
              "width": 0.5
             },
             "pattern": {
              "fillmode": "overlay",
              "size": 10,
              "solidity": 0.2
             }
            },
            "type": "bar"
           }
          ],
          "barpolar": [
           {
            "marker": {
             "line": {
              "color": "#E5ECF6",
              "width": 0.5
             },
             "pattern": {
              "fillmode": "overlay",
              "size": 10,
              "solidity": 0.2
             }
            },
            "type": "barpolar"
           }
          ],
          "carpet": [
           {
            "aaxis": {
             "endlinecolor": "#2a3f5f",
             "gridcolor": "white",
             "linecolor": "white",
             "minorgridcolor": "white",
             "startlinecolor": "#2a3f5f"
            },
            "baxis": {
             "endlinecolor": "#2a3f5f",
             "gridcolor": "white",
             "linecolor": "white",
             "minorgridcolor": "white",
             "startlinecolor": "#2a3f5f"
            },
            "type": "carpet"
           }
          ],
          "choropleth": [
           {
            "colorbar": {
             "outlinewidth": 0,
             "ticks": ""
            },
            "type": "choropleth"
           }
          ],
          "contour": [
           {
            "colorbar": {
             "outlinewidth": 0,
             "ticks": ""
            },
            "colorscale": [
             [
              0,
              "#0d0887"
             ],
             [
              0.1111111111111111,
              "#46039f"
             ],
             [
              0.2222222222222222,
              "#7201a8"
             ],
             [
              0.3333333333333333,
              "#9c179e"
             ],
             [
              0.4444444444444444,
              "#bd3786"
             ],
             [
              0.5555555555555556,
              "#d8576b"
             ],
             [
              0.6666666666666666,
              "#ed7953"
             ],
             [
              0.7777777777777778,
              "#fb9f3a"
             ],
             [
              0.8888888888888888,
              "#fdca26"
             ],
             [
              1,
              "#f0f921"
             ]
            ],
            "type": "contour"
           }
          ],
          "contourcarpet": [
           {
            "colorbar": {
             "outlinewidth": 0,
             "ticks": ""
            },
            "type": "contourcarpet"
           }
          ],
          "heatmap": [
           {
            "colorbar": {
             "outlinewidth": 0,
             "ticks": ""
            },
            "colorscale": [
             [
              0,
              "#0d0887"
             ],
             [
              0.1111111111111111,
              "#46039f"
             ],
             [
              0.2222222222222222,
              "#7201a8"
             ],
             [
              0.3333333333333333,
              "#9c179e"
             ],
             [
              0.4444444444444444,
              "#bd3786"
             ],
             [
              0.5555555555555556,
              "#d8576b"
             ],
             [
              0.6666666666666666,
              "#ed7953"
             ],
             [
              0.7777777777777778,
              "#fb9f3a"
             ],
             [
              0.8888888888888888,
              "#fdca26"
             ],
             [
              1,
              "#f0f921"
             ]
            ],
            "type": "heatmap"
           }
          ],
          "heatmapgl": [
           {
            "colorbar": {
             "outlinewidth": 0,
             "ticks": ""
            },
            "colorscale": [
             [
              0,
              "#0d0887"
             ],
             [
              0.1111111111111111,
              "#46039f"
             ],
             [
              0.2222222222222222,
              "#7201a8"
             ],
             [
              0.3333333333333333,
              "#9c179e"
             ],
             [
              0.4444444444444444,
              "#bd3786"
             ],
             [
              0.5555555555555556,
              "#d8576b"
             ],
             [
              0.6666666666666666,
              "#ed7953"
             ],
             [
              0.7777777777777778,
              "#fb9f3a"
             ],
             [
              0.8888888888888888,
              "#fdca26"
             ],
             [
              1,
              "#f0f921"
             ]
            ],
            "type": "heatmapgl"
           }
          ],
          "histogram": [
           {
            "marker": {
             "pattern": {
              "fillmode": "overlay",
              "size": 10,
              "solidity": 0.2
             }
            },
            "type": "histogram"
           }
          ],
          "histogram2d": [
           {
            "colorbar": {
             "outlinewidth": 0,
             "ticks": ""
            },
            "colorscale": [
             [
              0,
              "#0d0887"
             ],
             [
              0.1111111111111111,
              "#46039f"
             ],
             [
              0.2222222222222222,
              "#7201a8"
             ],
             [
              0.3333333333333333,
              "#9c179e"
             ],
             [
              0.4444444444444444,
              "#bd3786"
             ],
             [
              0.5555555555555556,
              "#d8576b"
             ],
             [
              0.6666666666666666,
              "#ed7953"
             ],
             [
              0.7777777777777778,
              "#fb9f3a"
             ],
             [
              0.8888888888888888,
              "#fdca26"
             ],
             [
              1,
              "#f0f921"
             ]
            ],
            "type": "histogram2d"
           }
          ],
          "histogram2dcontour": [
           {
            "colorbar": {
             "outlinewidth": 0,
             "ticks": ""
            },
            "colorscale": [
             [
              0,
              "#0d0887"
             ],
             [
              0.1111111111111111,
              "#46039f"
             ],
             [
              0.2222222222222222,
              "#7201a8"
             ],
             [
              0.3333333333333333,
              "#9c179e"
             ],
             [
              0.4444444444444444,
              "#bd3786"
             ],
             [
              0.5555555555555556,
              "#d8576b"
             ],
             [
              0.6666666666666666,
              "#ed7953"
             ],
             [
              0.7777777777777778,
              "#fb9f3a"
             ],
             [
              0.8888888888888888,
              "#fdca26"
             ],
             [
              1,
              "#f0f921"
             ]
            ],
            "type": "histogram2dcontour"
           }
          ],
          "mesh3d": [
           {
            "colorbar": {
             "outlinewidth": 0,
             "ticks": ""
            },
            "type": "mesh3d"
           }
          ],
          "parcoords": [
           {
            "line": {
             "colorbar": {
              "outlinewidth": 0,
              "ticks": ""
             }
            },
            "type": "parcoords"
           }
          ],
          "pie": [
           {
            "automargin": true,
            "type": "pie"
           }
          ],
          "scatter": [
           {
            "fillpattern": {
             "fillmode": "overlay",
             "size": 10,
             "solidity": 0.2
            },
            "type": "scatter"
           }
          ],
          "scatter3d": [
           {
            "line": {
             "colorbar": {
              "outlinewidth": 0,
              "ticks": ""
             }
            },
            "marker": {
             "colorbar": {
              "outlinewidth": 0,
              "ticks": ""
             }
            },
            "type": "scatter3d"
           }
          ],
          "scattercarpet": [
           {
            "marker": {
             "colorbar": {
              "outlinewidth": 0,
              "ticks": ""
             }
            },
            "type": "scattercarpet"
           }
          ],
          "scattergeo": [
           {
            "marker": {
             "colorbar": {
              "outlinewidth": 0,
              "ticks": ""
             }
            },
            "type": "scattergeo"
           }
          ],
          "scattergl": [
           {
            "marker": {
             "colorbar": {
              "outlinewidth": 0,
              "ticks": ""
             }
            },
            "type": "scattergl"
           }
          ],
          "scattermapbox": [
           {
            "marker": {
             "colorbar": {
              "outlinewidth": 0,
              "ticks": ""
             }
            },
            "type": "scattermapbox"
           }
          ],
          "scatterpolar": [
           {
            "marker": {
             "colorbar": {
              "outlinewidth": 0,
              "ticks": ""
             }
            },
            "type": "scatterpolar"
           }
          ],
          "scatterpolargl": [
           {
            "marker": {
             "colorbar": {
              "outlinewidth": 0,
              "ticks": ""
             }
            },
            "type": "scatterpolargl"
           }
          ],
          "scatterternary": [
           {
            "marker": {
             "colorbar": {
              "outlinewidth": 0,
              "ticks": ""
             }
            },
            "type": "scatterternary"
           }
          ],
          "surface": [
           {
            "colorbar": {
             "outlinewidth": 0,
             "ticks": ""
            },
            "colorscale": [
             [
              0,
              "#0d0887"
             ],
             [
              0.1111111111111111,
              "#46039f"
             ],
             [
              0.2222222222222222,
              "#7201a8"
             ],
             [
              0.3333333333333333,
              "#9c179e"
             ],
             [
              0.4444444444444444,
              "#bd3786"
             ],
             [
              0.5555555555555556,
              "#d8576b"
             ],
             [
              0.6666666666666666,
              "#ed7953"
             ],
             [
              0.7777777777777778,
              "#fb9f3a"
             ],
             [
              0.8888888888888888,
              "#fdca26"
             ],
             [
              1,
              "#f0f921"
             ]
            ],
            "type": "surface"
           }
          ],
          "table": [
           {
            "cells": {
             "fill": {
              "color": "#EBF0F8"
             },
             "line": {
              "color": "white"
             }
            },
            "header": {
             "fill": {
              "color": "#C8D4E3"
             },
             "line": {
              "color": "white"
             }
            },
            "type": "table"
           }
          ]
         },
         "layout": {
          "annotationdefaults": {
           "arrowcolor": "#2a3f5f",
           "arrowhead": 0,
           "arrowwidth": 1
          },
          "autotypenumbers": "strict",
          "coloraxis": {
           "colorbar": {
            "outlinewidth": 0,
            "ticks": ""
           }
          },
          "colorscale": {
           "diverging": [
            [
             0,
             "#8e0152"
            ],
            [
             0.1,
             "#c51b7d"
            ],
            [
             0.2,
             "#de77ae"
            ],
            [
             0.3,
             "#f1b6da"
            ],
            [
             0.4,
             "#fde0ef"
            ],
            [
             0.5,
             "#f7f7f7"
            ],
            [
             0.6,
             "#e6f5d0"
            ],
            [
             0.7,
             "#b8e186"
            ],
            [
             0.8,
             "#7fbc41"
            ],
            [
             0.9,
             "#4d9221"
            ],
            [
             1,
             "#276419"
            ]
           ],
           "sequential": [
            [
             0,
             "#0d0887"
            ],
            [
             0.1111111111111111,
             "#46039f"
            ],
            [
             0.2222222222222222,
             "#7201a8"
            ],
            [
             0.3333333333333333,
             "#9c179e"
            ],
            [
             0.4444444444444444,
             "#bd3786"
            ],
            [
             0.5555555555555556,
             "#d8576b"
            ],
            [
             0.6666666666666666,
             "#ed7953"
            ],
            [
             0.7777777777777778,
             "#fb9f3a"
            ],
            [
             0.8888888888888888,
             "#fdca26"
            ],
            [
             1,
             "#f0f921"
            ]
           ],
           "sequentialminus": [
            [
             0,
             "#0d0887"
            ],
            [
             0.1111111111111111,
             "#46039f"
            ],
            [
             0.2222222222222222,
             "#7201a8"
            ],
            [
             0.3333333333333333,
             "#9c179e"
            ],
            [
             0.4444444444444444,
             "#bd3786"
            ],
            [
             0.5555555555555556,
             "#d8576b"
            ],
            [
             0.6666666666666666,
             "#ed7953"
            ],
            [
             0.7777777777777778,
             "#fb9f3a"
            ],
            [
             0.8888888888888888,
             "#fdca26"
            ],
            [
             1,
             "#f0f921"
            ]
           ]
          },
          "colorway": [
           "#636efa",
           "#EF553B",
           "#00cc96",
           "#ab63fa",
           "#FFA15A",
           "#19d3f3",
           "#FF6692",
           "#B6E880",
           "#FF97FF",
           "#FECB52"
          ],
          "font": {
           "color": "#2a3f5f"
          },
          "geo": {
           "bgcolor": "white",
           "lakecolor": "white",
           "landcolor": "#E5ECF6",
           "showlakes": true,
           "showland": true,
           "subunitcolor": "white"
          },
          "hoverlabel": {
           "align": "left"
          },
          "hovermode": "closest",
          "mapbox": {
           "style": "light"
          },
          "paper_bgcolor": "white",
          "plot_bgcolor": "#E5ECF6",
          "polar": {
           "angularaxis": {
            "gridcolor": "white",
            "linecolor": "white",
            "ticks": ""
           },
           "bgcolor": "#E5ECF6",
           "radialaxis": {
            "gridcolor": "white",
            "linecolor": "white",
            "ticks": ""
           }
          },
          "scene": {
           "xaxis": {
            "backgroundcolor": "#E5ECF6",
            "gridcolor": "white",
            "gridwidth": 2,
            "linecolor": "white",
            "showbackground": true,
            "ticks": "",
            "zerolinecolor": "white"
           },
           "yaxis": {
            "backgroundcolor": "#E5ECF6",
            "gridcolor": "white",
            "gridwidth": 2,
            "linecolor": "white",
            "showbackground": true,
            "ticks": "",
            "zerolinecolor": "white"
           },
           "zaxis": {
            "backgroundcolor": "#E5ECF6",
            "gridcolor": "white",
            "gridwidth": 2,
            "linecolor": "white",
            "showbackground": true,
            "ticks": "",
            "zerolinecolor": "white"
           }
          },
          "shapedefaults": {
           "line": {
            "color": "#2a3f5f"
           }
          },
          "ternary": {
           "aaxis": {
            "gridcolor": "white",
            "linecolor": "white",
            "ticks": ""
           },
           "baxis": {
            "gridcolor": "white",
            "linecolor": "white",
            "ticks": ""
           },
           "bgcolor": "#E5ECF6",
           "caxis": {
            "gridcolor": "white",
            "linecolor": "white",
            "ticks": ""
           }
          },
          "title": {
           "x": 0.05
          },
          "xaxis": {
           "automargin": true,
           "gridcolor": "white",
           "linecolor": "white",
           "ticks": "",
           "title": {
            "standoff": 15
           },
           "zerolinecolor": "white",
           "zerolinewidth": 2
          },
          "yaxis": {
           "automargin": true,
           "gridcolor": "white",
           "linecolor": "white",
           "ticks": "",
           "title": {
            "standoff": 15
           },
           "zerolinecolor": "white",
           "zerolinewidth": 2
          }
         }
        },
        "title": {
         "text": "INTC Stock Prices w/ Bollinger Bands"
        },
        "xaxis": {
         "anchor": "y",
         "domain": [
          0,
          1
         ],
         "title": {
          "text": "Datetime"
         }
        },
        "yaxis": {
         "anchor": "x",
         "domain": [
          0,
          1
         ],
         "title": {
          "text": "value"
         }
        }
       }
      },
      "text/html": [
       "<div>                            <div id=\"98f4e375-9513-4375-8435-482a676d0dbb\" class=\"plotly-graph-div\" style=\"height:525px; width:100%;\"></div>            <script type=\"text/javascript\">                require([\"plotly\"], function(Plotly) {                    window.PLOTLYENV=window.PLOTLYENV || {};                                    if (document.getElementById(\"98f4e375-9513-4375-8435-482a676d0dbb\")) {                    Plotly.newPlot(                        \"98f4e375-9513-4375-8435-482a676d0dbb\",                        [{\"hovertemplate\":\"variable=SMA_24<br>Datetime=%{x}<br>value=%{y}<extra></extra>\",\"legendgroup\":\"SMA_24\",\"line\":{\"color\":\"#85deb1\",\"dash\":\"solid\"},\"marker\":{\"symbol\":\"circle\"},\"mode\":\"lines\",\"name\":\"SMA_24\",\"showlegend\":true,\"x\":[\"2024-06-06T09:30:00-04:00\",\"2024-06-06T09:31:00-04:00\",\"2024-06-06T09:32:00-04:00\",\"2024-06-06T09:33:00-04:00\",\"2024-06-06T09:34:00-04:00\",\"2024-06-06T09:35:00-04:00\",\"2024-06-06T09:36:00-04:00\",\"2024-06-06T09:37:00-04:00\",\"2024-06-06T09:38:00-04:00\",\"2024-06-06T09:39:00-04:00\",\"2024-06-06T09:40:00-04:00\",\"2024-06-06T09:41:00-04:00\",\"2024-06-06T09:42:00-04:00\",\"2024-06-06T09:43:00-04:00\",\"2024-06-06T09:44:00-04:00\",\"2024-06-06T09:45:00-04:00\",\"2024-06-06T09:46:00-04:00\",\"2024-06-06T09:47:00-04:00\",\"2024-06-06T09:48:00-04:00\",\"2024-06-06T09:49:00-04:00\",\"2024-06-06T09:50:00-04:00\",\"2024-06-06T09:51:00-04:00\",\"2024-06-06T09:52:00-04:00\",\"2024-06-06T09:53:00-04:00\",\"2024-06-06T09:54:00-04:00\",\"2024-06-06T09:55:00-04:00\",\"2024-06-06T09:56:00-04:00\",\"2024-06-06T09:57:00-04:00\",\"2024-06-06T09:58:00-04:00\",\"2024-06-06T09:59:00-04:00\",\"2024-06-06T10:00:00-04:00\",\"2024-06-06T10:01:00-04:00\",\"2024-06-06T10:02:00-04:00\",\"2024-06-06T10:03:00-04:00\",\"2024-06-06T10:04:00-04:00\",\"2024-06-06T10:05:00-04:00\",\"2024-06-06T10:06:00-04:00\",\"2024-06-06T10:07:00-04:00\",\"2024-06-06T10:08:00-04:00\",\"2024-06-06T10:09:00-04:00\",\"2024-06-06T10:10:00-04:00\",\"2024-06-06T10:11:00-04:00\",\"2024-06-06T10:12:00-04:00\",\"2024-06-06T10:13:00-04:00\",\"2024-06-06T10:14:00-04:00\",\"2024-06-06T10:15:00-04:00\",\"2024-06-06T10:16:00-04:00\",\"2024-06-06T10:17:00-04:00\",\"2024-06-06T10:18:00-04:00\",\"2024-06-06T10:19:00-04:00\",\"2024-06-06T10:20:00-04:00\",\"2024-06-06T10:21:00-04:00\",\"2024-06-06T10:22:00-04:00\",\"2024-06-06T10:23:00-04:00\",\"2024-06-06T10:24:00-04:00\",\"2024-06-06T10:25:00-04:00\",\"2024-06-06T10:26:00-04:00\",\"2024-06-06T10:27:00-04:00\",\"2024-06-06T10:28:00-04:00\",\"2024-06-06T10:29:00-04:00\",\"2024-06-06T10:30:00-04:00\",\"2024-06-06T10:31:00-04:00\",\"2024-06-06T10:32:00-04:00\",\"2024-06-06T10:33:00-04:00\",\"2024-06-06T10:34:00-04:00\",\"2024-06-06T10:35:00-04:00\",\"2024-06-06T10:36:00-04:00\",\"2024-06-06T10:37:00-04:00\",\"2024-06-06T10:38:00-04:00\",\"2024-06-06T10:39:00-04:00\",\"2024-06-06T10:40:00-04:00\",\"2024-06-06T10:41:00-04:00\",\"2024-06-06T10:42:00-04:00\",\"2024-06-06T10:43:00-04:00\",\"2024-06-06T10:44:00-04:00\",\"2024-06-06T10:45:00-04:00\",\"2024-06-06T10:46:00-04:00\",\"2024-06-06T10:47:00-04:00\",\"2024-06-06T10:48:00-04:00\",\"2024-06-06T10:49:00-04:00\",\"2024-06-06T10:50:00-04:00\",\"2024-06-06T10:51:00-04:00\",\"2024-06-06T10:52:00-04:00\",\"2024-06-06T10:53:00-04:00\",\"2024-06-06T10:54:00-04:00\",\"2024-06-06T10:55:00-04:00\",\"2024-06-06T10:56:00-04:00\",\"2024-06-06T10:57:00-04:00\",\"2024-06-06T10:58:00-04:00\",\"2024-06-06T10:59:00-04:00\",\"2024-06-06T11:00:00-04:00\",\"2024-06-06T11:01:00-04:00\",\"2024-06-06T11:02:00-04:00\",\"2024-06-06T11:03:00-04:00\",\"2024-06-06T11:04:00-04:00\",\"2024-06-06T11:05:00-04:00\",\"2024-06-06T11:06:00-04:00\",\"2024-06-06T11:07:00-04:00\",\"2024-06-06T11:08:00-04:00\",\"2024-06-06T11:09:00-04:00\",\"2024-06-06T11:10:00-04:00\",\"2024-06-06T11:11:00-04:00\",\"2024-06-06T11:12:00-04:00\",\"2024-06-06T11:13:00-04:00\",\"2024-06-06T11:14:00-04:00\",\"2024-06-06T11:15:00-04:00\",\"2024-06-06T11:16:00-04:00\",\"2024-06-06T11:17:00-04:00\",\"2024-06-06T11:18:00-04:00\",\"2024-06-06T11:19:00-04:00\",\"2024-06-06T11:20:00-04:00\",\"2024-06-06T11:21:00-04:00\",\"2024-06-06T11:22:00-04:00\",\"2024-06-06T11:23:00-04:00\",\"2024-06-06T11:24:00-04:00\",\"2024-06-06T11:25:00-04:00\",\"2024-06-06T11:26:00-04:00\",\"2024-06-06T11:27:00-04:00\",\"2024-06-06T11:28:00-04:00\",\"2024-06-06T11:29:00-04:00\",\"2024-06-06T11:30:00-04:00\",\"2024-06-06T11:31:00-04:00\",\"2024-06-06T11:32:00-04:00\",\"2024-06-06T11:33:00-04:00\",\"2024-06-06T11:34:00-04:00\",\"2024-06-06T11:35:00-04:00\",\"2024-06-06T11:36:00-04:00\",\"2024-06-06T11:37:00-04:00\",\"2024-06-06T11:38:00-04:00\",\"2024-06-06T11:39:00-04:00\",\"2024-06-06T11:40:00-04:00\",\"2024-06-06T11:41:00-04:00\",\"2024-06-06T11:42:00-04:00\",\"2024-06-06T11:43:00-04:00\",\"2024-06-06T11:44:00-04:00\",\"2024-06-06T11:45:00-04:00\",\"2024-06-06T11:46:00-04:00\",\"2024-06-06T11:47:00-04:00\",\"2024-06-06T11:48:00-04:00\",\"2024-06-06T11:49:00-04:00\",\"2024-06-06T11:50:00-04:00\",\"2024-06-06T11:51:00-04:00\",\"2024-06-06T11:52:00-04:00\",\"2024-06-06T11:53:00-04:00\",\"2024-06-06T11:54:00-04:00\",\"2024-06-06T11:55:00-04:00\",\"2024-06-06T11:56:00-04:00\",\"2024-06-06T11:57:00-04:00\",\"2024-06-06T11:58:00-04:00\",\"2024-06-06T11:59:00-04:00\",\"2024-06-06T12:00:00-04:00\",\"2024-06-06T12:01:00-04:00\",\"2024-06-06T12:02:00-04:00\",\"2024-06-06T12:03:00-04:00\",\"2024-06-06T12:04:00-04:00\",\"2024-06-06T12:05:00-04:00\",\"2024-06-06T12:06:00-04:00\",\"2024-06-06T12:07:00-04:00\",\"2024-06-06T12:08:00-04:00\",\"2024-06-06T12:09:00-04:00\",\"2024-06-06T12:10:00-04:00\",\"2024-06-06T12:11:00-04:00\",\"2024-06-06T12:12:00-04:00\",\"2024-06-06T12:13:00-04:00\",\"2024-06-06T12:14:00-04:00\",\"2024-06-06T12:15:00-04:00\",\"2024-06-06T12:16:00-04:00\",\"2024-06-06T12:17:00-04:00\",\"2024-06-06T12:18:00-04:00\",\"2024-06-06T12:19:00-04:00\",\"2024-06-06T12:20:00-04:00\",\"2024-06-06T12:21:00-04:00\",\"2024-06-06T12:22:00-04:00\",\"2024-06-06T12:23:00-04:00\",\"2024-06-06T12:24:00-04:00\",\"2024-06-06T12:25:00-04:00\",\"2024-06-06T12:26:00-04:00\",\"2024-06-06T12:27:00-04:00\",\"2024-06-06T12:28:00-04:00\",\"2024-06-06T12:29:00-04:00\",\"2024-06-06T12:30:00-04:00\",\"2024-06-06T12:31:00-04:00\",\"2024-06-06T12:32:00-04:00\",\"2024-06-06T12:33:00-04:00\",\"2024-06-06T12:34:00-04:00\",\"2024-06-06T12:35:00-04:00\",\"2024-06-06T12:36:00-04:00\",\"2024-06-06T12:37:00-04:00\",\"2024-06-06T12:38:00-04:00\",\"2024-06-06T12:39:00-04:00\",\"2024-06-06T12:40:00-04:00\",\"2024-06-06T12:41:00-04:00\",\"2024-06-06T12:42:00-04:00\",\"2024-06-06T12:43:00-04:00\",\"2024-06-06T12:44:00-04:00\",\"2024-06-06T12:45:00-04:00\",\"2024-06-06T12:46:00-04:00\",\"2024-06-06T12:47:00-04:00\",\"2024-06-06T12:48:00-04:00\",\"2024-06-06T12:49:00-04:00\",\"2024-06-06T12:50:00-04:00\",\"2024-06-06T12:51:00-04:00\",\"2024-06-06T12:52:00-04:00\",\"2024-06-06T12:53:00-04:00\",\"2024-06-06T12:54:00-04:00\",\"2024-06-06T12:55:00-04:00\",\"2024-06-06T12:56:00-04:00\",\"2024-06-06T12:57:00-04:00\",\"2024-06-06T12:58:00-04:00\",\"2024-06-06T12:59:00-04:00\",\"2024-06-06T13:00:00-04:00\",\"2024-06-06T13:01:00-04:00\",\"2024-06-06T13:02:00-04:00\",\"2024-06-06T13:03:00-04:00\",\"2024-06-06T13:04:00-04:00\",\"2024-06-06T13:05:00-04:00\",\"2024-06-06T13:06:00-04:00\",\"2024-06-06T13:07:00-04:00\",\"2024-06-06T13:08:00-04:00\",\"2024-06-06T13:09:00-04:00\",\"2024-06-06T13:10:00-04:00\",\"2024-06-06T13:11:00-04:00\",\"2024-06-06T13:12:00-04:00\",\"2024-06-06T13:13:00-04:00\",\"2024-06-06T13:14:00-04:00\",\"2024-06-06T13:15:00-04:00\",\"2024-06-06T13:16:00-04:00\",\"2024-06-06T13:17:00-04:00\",\"2024-06-06T13:18:00-04:00\",\"2024-06-06T13:19:00-04:00\",\"2024-06-06T13:20:00-04:00\",\"2024-06-06T13:21:00-04:00\",\"2024-06-06T13:22:00-04:00\",\"2024-06-06T13:23:00-04:00\",\"2024-06-06T13:24:00-04:00\",\"2024-06-06T13:25:00-04:00\",\"2024-06-06T13:26:00-04:00\",\"2024-06-06T13:27:00-04:00\",\"2024-06-06T13:28:00-04:00\",\"2024-06-06T13:29:00-04:00\",\"2024-06-06T13:30:00-04:00\",\"2024-06-06T13:31:00-04:00\",\"2024-06-06T13:32:00-04:00\",\"2024-06-06T13:33:00-04:00\",\"2024-06-06T13:34:00-04:00\",\"2024-06-06T13:35:00-04:00\",\"2024-06-06T13:36:00-04:00\",\"2024-06-06T13:37:00-04:00\",\"2024-06-06T13:38:00-04:00\",\"2024-06-06T13:39:00-04:00\",\"2024-06-06T13:40:00-04:00\",\"2024-06-06T13:41:00-04:00\",\"2024-06-06T13:42:00-04:00\",\"2024-06-06T13:43:00-04:00\",\"2024-06-06T13:44:00-04:00\",\"2024-06-06T13:45:00-04:00\",\"2024-06-06T13:46:00-04:00\",\"2024-06-06T13:47:00-04:00\",\"2024-06-06T13:48:00-04:00\",\"2024-06-06T13:49:00-04:00\",\"2024-06-06T13:50:00-04:00\",\"2024-06-06T13:51:00-04:00\",\"2024-06-06T13:52:00-04:00\",\"2024-06-06T13:53:00-04:00\",\"2024-06-06T13:54:00-04:00\",\"2024-06-06T13:55:00-04:00\",\"2024-06-06T13:56:00-04:00\",\"2024-06-06T13:57:00-04:00\",\"2024-06-06T13:58:00-04:00\",\"2024-06-06T13:59:00-04:00\",\"2024-06-06T14:00:00-04:00\",\"2024-06-06T14:01:00-04:00\",\"2024-06-06T14:02:00-04:00\",\"2024-06-06T14:03:00-04:00\",\"2024-06-06T14:04:00-04:00\",\"2024-06-06T14:05:00-04:00\",\"2024-06-06T14:06:00-04:00\",\"2024-06-06T14:07:00-04:00\",\"2024-06-06T14:08:00-04:00\",\"2024-06-06T14:09:00-04:00\",\"2024-06-06T14:10:00-04:00\",\"2024-06-06T14:11:00-04:00\",\"2024-06-06T14:12:00-04:00\",\"2024-06-06T14:13:00-04:00\",\"2024-06-06T14:14:00-04:00\",\"2024-06-06T14:15:00-04:00\",\"2024-06-06T14:16:00-04:00\",\"2024-06-06T14:17:00-04:00\",\"2024-06-06T14:18:00-04:00\",\"2024-06-06T14:19:00-04:00\",\"2024-06-06T14:20:00-04:00\",\"2024-06-06T14:21:00-04:00\",\"2024-06-06T14:22:00-04:00\",\"2024-06-06T14:23:00-04:00\",\"2024-06-06T14:24:00-04:00\",\"2024-06-06T14:25:00-04:00\",\"2024-06-06T14:26:00-04:00\",\"2024-06-06T14:27:00-04:00\",\"2024-06-06T14:28:00-04:00\",\"2024-06-06T14:29:00-04:00\",\"2024-06-06T14:30:00-04:00\",\"2024-06-06T14:31:00-04:00\",\"2024-06-06T14:32:00-04:00\",\"2024-06-06T14:33:00-04:00\",\"2024-06-06T14:34:00-04:00\",\"2024-06-06T14:35:00-04:00\",\"2024-06-06T14:36:00-04:00\",\"2024-06-06T14:37:00-04:00\",\"2024-06-06T14:38:00-04:00\",\"2024-06-06T14:39:00-04:00\",\"2024-06-06T14:40:00-04:00\",\"2024-06-06T14:41:00-04:00\",\"2024-06-06T14:42:00-04:00\",\"2024-06-06T14:43:00-04:00\",\"2024-06-06T14:44:00-04:00\",\"2024-06-06T14:45:00-04:00\",\"2024-06-06T14:46:00-04:00\",\"2024-06-06T14:47:00-04:00\",\"2024-06-06T14:48:00-04:00\",\"2024-06-06T14:49:00-04:00\",\"2024-06-06T14:50:00-04:00\",\"2024-06-06T14:51:00-04:00\",\"2024-06-06T14:52:00-04:00\",\"2024-06-06T14:53:00-04:00\",\"2024-06-06T14:54:00-04:00\",\"2024-06-06T14:55:00-04:00\",\"2024-06-06T14:56:00-04:00\",\"2024-06-06T14:57:00-04:00\",\"2024-06-06T14:58:00-04:00\",\"2024-06-06T14:59:00-04:00\",\"2024-06-06T15:00:00-04:00\",\"2024-06-06T15:01:00-04:00\",\"2024-06-06T15:02:00-04:00\",\"2024-06-06T15:03:00-04:00\",\"2024-06-06T15:04:00-04:00\",\"2024-06-06T15:05:00-04:00\",\"2024-06-06T15:06:00-04:00\",\"2024-06-06T15:07:00-04:00\",\"2024-06-06T15:08:00-04:00\",\"2024-06-06T15:09:00-04:00\",\"2024-06-06T15:10:00-04:00\",\"2024-06-06T15:11:00-04:00\",\"2024-06-06T15:12:00-04:00\",\"2024-06-06T15:13:00-04:00\",\"2024-06-06T15:14:00-04:00\",\"2024-06-06T15:15:00-04:00\",\"2024-06-06T15:16:00-04:00\",\"2024-06-06T15:17:00-04:00\",\"2024-06-06T15:18:00-04:00\",\"2024-06-06T15:19:00-04:00\",\"2024-06-06T15:20:00-04:00\",\"2024-06-06T15:21:00-04:00\",\"2024-06-06T15:22:00-04:00\",\"2024-06-06T15:23:00-04:00\",\"2024-06-06T15:24:00-04:00\",\"2024-06-06T15:25:00-04:00\",\"2024-06-06T15:26:00-04:00\",\"2024-06-06T15:27:00-04:00\",\"2024-06-06T15:28:00-04:00\",\"2024-06-06T15:29:00-04:00\",\"2024-06-06T15:30:00-04:00\",\"2024-06-06T15:31:00-04:00\",\"2024-06-06T15:32:00-04:00\",\"2024-06-06T15:33:00-04:00\",\"2024-06-06T15:34:00-04:00\",\"2024-06-06T15:35:00-04:00\",\"2024-06-06T15:36:00-04:00\",\"2024-06-06T15:37:00-04:00\",\"2024-06-06T15:38:00-04:00\",\"2024-06-06T15:39:00-04:00\",\"2024-06-06T15:40:00-04:00\",\"2024-06-06T15:41:00-04:00\",\"2024-06-06T15:42:00-04:00\",\"2024-06-06T15:43:00-04:00\",\"2024-06-06T15:44:00-04:00\",\"2024-06-06T15:45:00-04:00\",\"2024-06-06T15:46:00-04:00\",\"2024-06-06T15:47:00-04:00\",\"2024-06-06T15:48:00-04:00\",\"2024-06-06T15:49:00-04:00\",\"2024-06-06T15:50:00-04:00\",\"2024-06-06T15:51:00-04:00\",\"2024-06-06T15:52:00-04:00\",\"2024-06-06T15:53:00-04:00\",\"2024-06-06T15:54:00-04:00\",\"2024-06-06T15:55:00-04:00\",\"2024-06-06T15:56:00-04:00\",\"2024-06-06T15:57:00-04:00\",\"2024-06-06T15:58:00-04:00\",\"2024-06-06T15:59:00-04:00\"],\"xaxis\":\"x\",\"y\":[30.43000030517578,30.43000030517578,30.429791927337646,30.431458552678425,30.433433532714844,30.430516878763836,30.42072518666585,30.41140015920003,30.404316822687786,30.397441784540813,30.390362580617268,30.38187090555827,30.373329242070515,30.365379254023235,30.357670942942303,30.350387573242188,30.343095858891804,30.338508367538452,30.33330003420512,30.32955002784729,30.325175046920776,30.317883332570393,30.310733318328857,30.303441603978474,30.29635826746623,30.290316581726074,30.28635827700297,30.27985413869222,30.273933331171673,30.272475004196167,30.277475039164226,30.281383355458576,30.28117497762044,30.281800031661987,30.283466736475628,30.28695837656657,30.29029170672099,30.292408386866253,30.29407501220703,30.295733372370403,30.297187566757202,30.295525074005127,30.293650070826214,30.290525039037068,30.288650035858154,30.290316740671795,30.29107920328776,30.29066260655721,30.289620955785114,30.287537654240925,30.284412622451782,30.282166798909504,30.27994179725647,30.27952512105306,30.280216773351032,30.281504313151043,30.283379316329956,30.283783435821533,30.283779223759968,30.283779223759968,30.285237550735474,30.28711247444153,30.29007085164388,30.292362531026203,30.295154174168903,30.298904180526733,30.302870829900105,30.30710832277934,30.31064995129903,30.31314992904663,30.31620415051778,30.320995807647705,30.325687487920124,30.331395785013836,30.337437470753986,30.343283255894978,30.34801657994588,30.351974884668987,30.35449155171712,30.357787370681763,30.362579107284546,30.367549975713093,30.370883305867512,30.373591661453247,30.37546666463216,30.378175020217896,30.379383325576782,30.380008300145466,30.380762497584026,30.379512468973797,30.37762912114461,30.37484582265218,30.371929168701172,30.369012514750164,30.366095860799152,30.361512502034504,30.357654094696045,30.353866577148438,30.349074920018513,30.34531243642171,30.342374960581463,30.338683287302654,30.33576242129008,30.331804116566975,30.327845732371014,30.32392907142639,30.321637471516926,30.320179144541424,30.318095763524372,30.315595785776775,30.31372078259786,30.31372078259786,30.31330410639445,30.313929080963135,30.315699974695843,30.31841246287028,30.321537494659424,30.325079202651978,30.329941670099895,30.336191654205322,30.3420250415802,30.346500078837078,30.35170841217041,30.355320930480957,30.357820908228557,30.359429279963177,30.36175012588501,30.365712642669678,30.369875192642212,30.37404187520345,30.37779188156128,30.38121684392293,30.38621687889099,30.39038356145223,30.394758542378742,30.39809187253316,30.40184187889099,30.40517520904541,30.409029324849445,30.411945978800457,30.41417098045349,30.416879256566364,30.419091780980427,30.422425111134846,30.42555006345113,30.428945859273274,30.43082086245219,30.432833353678387,30.436166683832806,30.440333286921184,30.44355829556783,30.445229053497314,30.445995648701984,30.447245597839355,30.44834558169047,30.44867475827535,30.44722056388855,30.445558071136475,30.443058093388874,30.440558115641277,30.438058137893677,30.43659981091817,30.434308131535847,30.43305818239848,30.432291507720947,30.430487394332886,30.42862073580424,30.424662431081135,30.421745777130127,30.419241666793823,30.416325012842815,30.41320006052653,30.4094500541687,30.405908425649006,30.402575095494587,30.400062640508015,30.397841850916546,30.395825227101643,30.393266836802166,30.390766859054565,30.3887460231781,30.387908458709717,30.388529300689697,30.388529300689697,30.38808759053548,30.386916796366375,30.386291821797688,30.384416818618774,30.382545948028564,30.38132095336914,30.3796542485555,30.379237572352093,30.378083388010662,30.37662919362386,30.376212517420452,30.376212517420452,30.377254168192547,30.37812916437785,30.378962516784668,30.37896664937337,30.379174947738647,30.379108270009358,30.380354166030884,30.3825208346049,30.385579188664753,30.3887042204539,30.391337553660076,30.39446250597636,30.397820870081585,30.40274167060852,30.40670418739319,30.41232919692993,30.41836667060852,30.423895835876465,30.428895870844524,30.434104204177856,30.439329226811726,30.444329261779785,30.449541727701824,30.454958359400432,30.45870836575826,30.462708393732708,30.4662500222524,30.469791730244953,30.473125060399372,30.476041714350384,30.47814170519511,30.47972083091736,30.48013750712077,30.47972083091736,30.479175011316936,30.47833752632141,30.476879199345905,30.474804242451984,30.474175055821735,30.4725083510081,30.470750013987224,30.469916661580402,30.469499985376995,30.46820831298828,30.466845830281574,30.46538742383321,30.463416655858357,30.461541652679443,30.45966664950053,30.45770827929179,30.456041653951008,30.45479162534078,30.454166650772095,30.454166650772095,30.455612500508625,30.456654230753582,30.45832093556722,30.461029291152954,30.46332089106242,30.465825080871582,30.469258387883503,30.472166697184246,30.473833401997883,30.475083430608112,30.47559181849162,30.476008494695026,30.476008494695026,30.475841840108234,30.47605013847351,30.477296034495037,30.4786376953125,30.479262669881184,30.480621019999187,30.481454372406006,30.48124599456787,30.48124599456787,30.480204343795776,30.478012641270954,30.4744709332784,30.470516761144,30.464912573496502,30.45866258939107,30.452829281489056,30.447137594223022,30.440995931625366,30.435162623723347,30.43078343073527,30.42661674817403,30.423487583796184,30.419633388519287,30.416300058364868,30.413175026575725,30.410033384958904,30.407941659291584,30.405320803324383,30.40310001373291,30.40049171447754,30.39862084388733,30.397579193115234,30.39620002110799,30.395575046539307,30.39568344751994,30.395891825358074,30.396929343541462,30.40024185180664,30.402950127919514,30.40565848350525,30.40843351682027,30.411141872406006,30.41385014851888,30.416562636693318,30.419429302215576,30.42193341255188,30.42356260617574,30.42522923151652,30.42689593633016,30.4283709526062,30.42775845527649,30.427879254023235,30.42822504043579,30.428954203923542,30.429875055948894,30.431333382924397,30.43271255493164,30.43384583791097,30.436079104741413,30.437666575113933,30.440791527430218,30.44204568862915,30.4441290696462,30.44578742980957,30.447274923324585,30.44873325030009,30.449774901072185,30.44993742307027,30.449154059092205,30.44811240832011,30.448254028956097,30.448108196258545,30.44831649462382,30.449358145395916,30.450191497802734,30.451441526412964,30.45299569765727,30.454349835713703,30.455924828847248,30.45759153366089,30.458308219909668,30.459341526031494,30.4589790503184,30.459683179855347,30.458958228429157,30.459579070409138,30.45999574661255,30.461466550827026,30.462979078292847,30.46414573987325,30.465058247248333,30.466145753860474,30.46760408083598,30.469270785649616,30.470729112625122,30.47295832633972,30.47587498029073,30.478062470753986,30.479520797729492,30.47972909609477,30.47963325182597,30.480049928029377,30.480258305867512,30.481091578801472,30.482679049173992,30.48405408859253,30.485724925994873,30.486745754877727,30.48726240793864,30.487054030100506,30.487054030100506,30.486424843470257,30.486133178075153,30.485720713933308,30.486266613006592,30.48647912343343,30.488770802815754,30.491270780563354,30.494812488555908,30.496391614278156,30.49785002072652,30.499204238255818,30.498162587483723,30.497329314549763,30.495454390843708,30.492746035257976,30.488996028900146],\"yaxis\":\"y\",\"type\":\"scattergl\"},{\"hovertemplate\":\"variable=upper_boll_24<br>Datetime=%{x}<br>value=%{y}<extra></extra>\",\"legendgroup\":\"upper_boll_24\",\"line\":{\"color\":\"#b6d1c3\",\"dash\":\"dot\"},\"marker\":{\"symbol\":\"circle\"},\"mode\":\"lines\",\"name\":\"upper_boll_24\",\"showlegend\":true,\"x\":[\"2024-06-06T09:30:00-04:00\",\"2024-06-06T09:31:00-04:00\",\"2024-06-06T09:32:00-04:00\",\"2024-06-06T09:33:00-04:00\",\"2024-06-06T09:34:00-04:00\",\"2024-06-06T09:35:00-04:00\",\"2024-06-06T09:36:00-04:00\",\"2024-06-06T09:37:00-04:00\",\"2024-06-06T09:38:00-04:00\",\"2024-06-06T09:39:00-04:00\",\"2024-06-06T09:40:00-04:00\",\"2024-06-06T09:41:00-04:00\",\"2024-06-06T09:42:00-04:00\",\"2024-06-06T09:43:00-04:00\",\"2024-06-06T09:44:00-04:00\",\"2024-06-06T09:45:00-04:00\",\"2024-06-06T09:46:00-04:00\",\"2024-06-06T09:47:00-04:00\",\"2024-06-06T09:48:00-04:00\",\"2024-06-06T09:49:00-04:00\",\"2024-06-06T09:50:00-04:00\",\"2024-06-06T09:51:00-04:00\",\"2024-06-06T09:52:00-04:00\",\"2024-06-06T09:53:00-04:00\",\"2024-06-06T09:54:00-04:00\",\"2024-06-06T09:55:00-04:00\",\"2024-06-06T09:56:00-04:00\",\"2024-06-06T09:57:00-04:00\",\"2024-06-06T09:58:00-04:00\",\"2024-06-06T09:59:00-04:00\",\"2024-06-06T10:00:00-04:00\",\"2024-06-06T10:01:00-04:00\",\"2024-06-06T10:02:00-04:00\",\"2024-06-06T10:03:00-04:00\",\"2024-06-06T10:04:00-04:00\",\"2024-06-06T10:05:00-04:00\",\"2024-06-06T10:06:00-04:00\",\"2024-06-06T10:07:00-04:00\",\"2024-06-06T10:08:00-04:00\",\"2024-06-06T10:09:00-04:00\",\"2024-06-06T10:10:00-04:00\",\"2024-06-06T10:11:00-04:00\",\"2024-06-06T10:12:00-04:00\",\"2024-06-06T10:13:00-04:00\",\"2024-06-06T10:14:00-04:00\",\"2024-06-06T10:15:00-04:00\",\"2024-06-06T10:16:00-04:00\",\"2024-06-06T10:17:00-04:00\",\"2024-06-06T10:18:00-04:00\",\"2024-06-06T10:19:00-04:00\",\"2024-06-06T10:20:00-04:00\",\"2024-06-06T10:21:00-04:00\",\"2024-06-06T10:22:00-04:00\",\"2024-06-06T10:23:00-04:00\",\"2024-06-06T10:24:00-04:00\",\"2024-06-06T10:25:00-04:00\",\"2024-06-06T10:26:00-04:00\",\"2024-06-06T10:27:00-04:00\",\"2024-06-06T10:28:00-04:00\",\"2024-06-06T10:29:00-04:00\",\"2024-06-06T10:30:00-04:00\",\"2024-06-06T10:31:00-04:00\",\"2024-06-06T10:32:00-04:00\",\"2024-06-06T10:33:00-04:00\",\"2024-06-06T10:34:00-04:00\",\"2024-06-06T10:35:00-04:00\",\"2024-06-06T10:36:00-04:00\",\"2024-06-06T10:37:00-04:00\",\"2024-06-06T10:38:00-04:00\",\"2024-06-06T10:39:00-04:00\",\"2024-06-06T10:40:00-04:00\",\"2024-06-06T10:41:00-04:00\",\"2024-06-06T10:42:00-04:00\",\"2024-06-06T10:43:00-04:00\",\"2024-06-06T10:44:00-04:00\",\"2024-06-06T10:45:00-04:00\",\"2024-06-06T10:46:00-04:00\",\"2024-06-06T10:47:00-04:00\",\"2024-06-06T10:48:00-04:00\",\"2024-06-06T10:49:00-04:00\",\"2024-06-06T10:50:00-04:00\",\"2024-06-06T10:51:00-04:00\",\"2024-06-06T10:52:00-04:00\",\"2024-06-06T10:53:00-04:00\",\"2024-06-06T10:54:00-04:00\",\"2024-06-06T10:55:00-04:00\",\"2024-06-06T10:56:00-04:00\",\"2024-06-06T10:57:00-04:00\",\"2024-06-06T10:58:00-04:00\",\"2024-06-06T10:59:00-04:00\",\"2024-06-06T11:00:00-04:00\",\"2024-06-06T11:01:00-04:00\",\"2024-06-06T11:02:00-04:00\",\"2024-06-06T11:03:00-04:00\",\"2024-06-06T11:04:00-04:00\",\"2024-06-06T11:05:00-04:00\",\"2024-06-06T11:06:00-04:00\",\"2024-06-06T11:07:00-04:00\",\"2024-06-06T11:08:00-04:00\",\"2024-06-06T11:09:00-04:00\",\"2024-06-06T11:10:00-04:00\",\"2024-06-06T11:11:00-04:00\",\"2024-06-06T11:12:00-04:00\",\"2024-06-06T11:13:00-04:00\",\"2024-06-06T11:14:00-04:00\",\"2024-06-06T11:15:00-04:00\",\"2024-06-06T11:16:00-04:00\",\"2024-06-06T11:17:00-04:00\",\"2024-06-06T11:18:00-04:00\",\"2024-06-06T11:19:00-04:00\",\"2024-06-06T11:20:00-04:00\",\"2024-06-06T11:21:00-04:00\",\"2024-06-06T11:22:00-04:00\",\"2024-06-06T11:23:00-04:00\",\"2024-06-06T11:24:00-04:00\",\"2024-06-06T11:25:00-04:00\",\"2024-06-06T11:26:00-04:00\",\"2024-06-06T11:27:00-04:00\",\"2024-06-06T11:28:00-04:00\",\"2024-06-06T11:29:00-04:00\",\"2024-06-06T11:30:00-04:00\",\"2024-06-06T11:31:00-04:00\",\"2024-06-06T11:32:00-04:00\",\"2024-06-06T11:33:00-04:00\",\"2024-06-06T11:34:00-04:00\",\"2024-06-06T11:35:00-04:00\",\"2024-06-06T11:36:00-04:00\",\"2024-06-06T11:37:00-04:00\",\"2024-06-06T11:38:00-04:00\",\"2024-06-06T11:39:00-04:00\",\"2024-06-06T11:40:00-04:00\",\"2024-06-06T11:41:00-04:00\",\"2024-06-06T11:42:00-04:00\",\"2024-06-06T11:43:00-04:00\",\"2024-06-06T11:44:00-04:00\",\"2024-06-06T11:45:00-04:00\",\"2024-06-06T11:46:00-04:00\",\"2024-06-06T11:47:00-04:00\",\"2024-06-06T11:48:00-04:00\",\"2024-06-06T11:49:00-04:00\",\"2024-06-06T11:50:00-04:00\",\"2024-06-06T11:51:00-04:00\",\"2024-06-06T11:52:00-04:00\",\"2024-06-06T11:53:00-04:00\",\"2024-06-06T11:54:00-04:00\",\"2024-06-06T11:55:00-04:00\",\"2024-06-06T11:56:00-04:00\",\"2024-06-06T11:57:00-04:00\",\"2024-06-06T11:58:00-04:00\",\"2024-06-06T11:59:00-04:00\",\"2024-06-06T12:00:00-04:00\",\"2024-06-06T12:01:00-04:00\",\"2024-06-06T12:02:00-04:00\",\"2024-06-06T12:03:00-04:00\",\"2024-06-06T12:04:00-04:00\",\"2024-06-06T12:05:00-04:00\",\"2024-06-06T12:06:00-04:00\",\"2024-06-06T12:07:00-04:00\",\"2024-06-06T12:08:00-04:00\",\"2024-06-06T12:09:00-04:00\",\"2024-06-06T12:10:00-04:00\",\"2024-06-06T12:11:00-04:00\",\"2024-06-06T12:12:00-04:00\",\"2024-06-06T12:13:00-04:00\",\"2024-06-06T12:14:00-04:00\",\"2024-06-06T12:15:00-04:00\",\"2024-06-06T12:16:00-04:00\",\"2024-06-06T12:17:00-04:00\",\"2024-06-06T12:18:00-04:00\",\"2024-06-06T12:19:00-04:00\",\"2024-06-06T12:20:00-04:00\",\"2024-06-06T12:21:00-04:00\",\"2024-06-06T12:22:00-04:00\",\"2024-06-06T12:23:00-04:00\",\"2024-06-06T12:24:00-04:00\",\"2024-06-06T12:25:00-04:00\",\"2024-06-06T12:26:00-04:00\",\"2024-06-06T12:27:00-04:00\",\"2024-06-06T12:28:00-04:00\",\"2024-06-06T12:29:00-04:00\",\"2024-06-06T12:30:00-04:00\",\"2024-06-06T12:31:00-04:00\",\"2024-06-06T12:32:00-04:00\",\"2024-06-06T12:33:00-04:00\",\"2024-06-06T12:34:00-04:00\",\"2024-06-06T12:35:00-04:00\",\"2024-06-06T12:36:00-04:00\",\"2024-06-06T12:37:00-04:00\",\"2024-06-06T12:38:00-04:00\",\"2024-06-06T12:39:00-04:00\",\"2024-06-06T12:40:00-04:00\",\"2024-06-06T12:41:00-04:00\",\"2024-06-06T12:42:00-04:00\",\"2024-06-06T12:43:00-04:00\",\"2024-06-06T12:44:00-04:00\",\"2024-06-06T12:45:00-04:00\",\"2024-06-06T12:46:00-04:00\",\"2024-06-06T12:47:00-04:00\",\"2024-06-06T12:48:00-04:00\",\"2024-06-06T12:49:00-04:00\",\"2024-06-06T12:50:00-04:00\",\"2024-06-06T12:51:00-04:00\",\"2024-06-06T12:52:00-04:00\",\"2024-06-06T12:53:00-04:00\",\"2024-06-06T12:54:00-04:00\",\"2024-06-06T12:55:00-04:00\",\"2024-06-06T12:56:00-04:00\",\"2024-06-06T12:57:00-04:00\",\"2024-06-06T12:58:00-04:00\",\"2024-06-06T12:59:00-04:00\",\"2024-06-06T13:00:00-04:00\",\"2024-06-06T13:01:00-04:00\",\"2024-06-06T13:02:00-04:00\",\"2024-06-06T13:03:00-04:00\",\"2024-06-06T13:04:00-04:00\",\"2024-06-06T13:05:00-04:00\",\"2024-06-06T13:06:00-04:00\",\"2024-06-06T13:07:00-04:00\",\"2024-06-06T13:08:00-04:00\",\"2024-06-06T13:09:00-04:00\",\"2024-06-06T13:10:00-04:00\",\"2024-06-06T13:11:00-04:00\",\"2024-06-06T13:12:00-04:00\",\"2024-06-06T13:13:00-04:00\",\"2024-06-06T13:14:00-04:00\",\"2024-06-06T13:15:00-04:00\",\"2024-06-06T13:16:00-04:00\",\"2024-06-06T13:17:00-04:00\",\"2024-06-06T13:18:00-04:00\",\"2024-06-06T13:19:00-04:00\",\"2024-06-06T13:20:00-04:00\",\"2024-06-06T13:21:00-04:00\",\"2024-06-06T13:22:00-04:00\",\"2024-06-06T13:23:00-04:00\",\"2024-06-06T13:24:00-04:00\",\"2024-06-06T13:25:00-04:00\",\"2024-06-06T13:26:00-04:00\",\"2024-06-06T13:27:00-04:00\",\"2024-06-06T13:28:00-04:00\",\"2024-06-06T13:29:00-04:00\",\"2024-06-06T13:30:00-04:00\",\"2024-06-06T13:31:00-04:00\",\"2024-06-06T13:32:00-04:00\",\"2024-06-06T13:33:00-04:00\",\"2024-06-06T13:34:00-04:00\",\"2024-06-06T13:35:00-04:00\",\"2024-06-06T13:36:00-04:00\",\"2024-06-06T13:37:00-04:00\",\"2024-06-06T13:38:00-04:00\",\"2024-06-06T13:39:00-04:00\",\"2024-06-06T13:40:00-04:00\",\"2024-06-06T13:41:00-04:00\",\"2024-06-06T13:42:00-04:00\",\"2024-06-06T13:43:00-04:00\",\"2024-06-06T13:44:00-04:00\",\"2024-06-06T13:45:00-04:00\",\"2024-06-06T13:46:00-04:00\",\"2024-06-06T13:47:00-04:00\",\"2024-06-06T13:48:00-04:00\",\"2024-06-06T13:49:00-04:00\",\"2024-06-06T13:50:00-04:00\",\"2024-06-06T13:51:00-04:00\",\"2024-06-06T13:52:00-04:00\",\"2024-06-06T13:53:00-04:00\",\"2024-06-06T13:54:00-04:00\",\"2024-06-06T13:55:00-04:00\",\"2024-06-06T13:56:00-04:00\",\"2024-06-06T13:57:00-04:00\",\"2024-06-06T13:58:00-04:00\",\"2024-06-06T13:59:00-04:00\",\"2024-06-06T14:00:00-04:00\",\"2024-06-06T14:01:00-04:00\",\"2024-06-06T14:02:00-04:00\",\"2024-06-06T14:03:00-04:00\",\"2024-06-06T14:04:00-04:00\",\"2024-06-06T14:05:00-04:00\",\"2024-06-06T14:06:00-04:00\",\"2024-06-06T14:07:00-04:00\",\"2024-06-06T14:08:00-04:00\",\"2024-06-06T14:09:00-04:00\",\"2024-06-06T14:10:00-04:00\",\"2024-06-06T14:11:00-04:00\",\"2024-06-06T14:12:00-04:00\",\"2024-06-06T14:13:00-04:00\",\"2024-06-06T14:14:00-04:00\",\"2024-06-06T14:15:00-04:00\",\"2024-06-06T14:16:00-04:00\",\"2024-06-06T14:17:00-04:00\",\"2024-06-06T14:18:00-04:00\",\"2024-06-06T14:19:00-04:00\",\"2024-06-06T14:20:00-04:00\",\"2024-06-06T14:21:00-04:00\",\"2024-06-06T14:22:00-04:00\",\"2024-06-06T14:23:00-04:00\",\"2024-06-06T14:24:00-04:00\",\"2024-06-06T14:25:00-04:00\",\"2024-06-06T14:26:00-04:00\",\"2024-06-06T14:27:00-04:00\",\"2024-06-06T14:28:00-04:00\",\"2024-06-06T14:29:00-04:00\",\"2024-06-06T14:30:00-04:00\",\"2024-06-06T14:31:00-04:00\",\"2024-06-06T14:32:00-04:00\",\"2024-06-06T14:33:00-04:00\",\"2024-06-06T14:34:00-04:00\",\"2024-06-06T14:35:00-04:00\",\"2024-06-06T14:36:00-04:00\",\"2024-06-06T14:37:00-04:00\",\"2024-06-06T14:38:00-04:00\",\"2024-06-06T14:39:00-04:00\",\"2024-06-06T14:40:00-04:00\",\"2024-06-06T14:41:00-04:00\",\"2024-06-06T14:42:00-04:00\",\"2024-06-06T14:43:00-04:00\",\"2024-06-06T14:44:00-04:00\",\"2024-06-06T14:45:00-04:00\",\"2024-06-06T14:46:00-04:00\",\"2024-06-06T14:47:00-04:00\",\"2024-06-06T14:48:00-04:00\",\"2024-06-06T14:49:00-04:00\",\"2024-06-06T14:50:00-04:00\",\"2024-06-06T14:51:00-04:00\",\"2024-06-06T14:52:00-04:00\",\"2024-06-06T14:53:00-04:00\",\"2024-06-06T14:54:00-04:00\",\"2024-06-06T14:55:00-04:00\",\"2024-06-06T14:56:00-04:00\",\"2024-06-06T14:57:00-04:00\",\"2024-06-06T14:58:00-04:00\",\"2024-06-06T14:59:00-04:00\",\"2024-06-06T15:00:00-04:00\",\"2024-06-06T15:01:00-04:00\",\"2024-06-06T15:02:00-04:00\",\"2024-06-06T15:03:00-04:00\",\"2024-06-06T15:04:00-04:00\",\"2024-06-06T15:05:00-04:00\",\"2024-06-06T15:06:00-04:00\",\"2024-06-06T15:07:00-04:00\",\"2024-06-06T15:08:00-04:00\",\"2024-06-06T15:09:00-04:00\",\"2024-06-06T15:10:00-04:00\",\"2024-06-06T15:11:00-04:00\",\"2024-06-06T15:12:00-04:00\",\"2024-06-06T15:13:00-04:00\",\"2024-06-06T15:14:00-04:00\",\"2024-06-06T15:15:00-04:00\",\"2024-06-06T15:16:00-04:00\",\"2024-06-06T15:17:00-04:00\",\"2024-06-06T15:18:00-04:00\",\"2024-06-06T15:19:00-04:00\",\"2024-06-06T15:20:00-04:00\",\"2024-06-06T15:21:00-04:00\",\"2024-06-06T15:22:00-04:00\",\"2024-06-06T15:23:00-04:00\",\"2024-06-06T15:24:00-04:00\",\"2024-06-06T15:25:00-04:00\",\"2024-06-06T15:26:00-04:00\",\"2024-06-06T15:27:00-04:00\",\"2024-06-06T15:28:00-04:00\",\"2024-06-06T15:29:00-04:00\",\"2024-06-06T15:30:00-04:00\",\"2024-06-06T15:31:00-04:00\",\"2024-06-06T15:32:00-04:00\",\"2024-06-06T15:33:00-04:00\",\"2024-06-06T15:34:00-04:00\",\"2024-06-06T15:35:00-04:00\",\"2024-06-06T15:36:00-04:00\",\"2024-06-06T15:37:00-04:00\",\"2024-06-06T15:38:00-04:00\",\"2024-06-06T15:39:00-04:00\",\"2024-06-06T15:40:00-04:00\",\"2024-06-06T15:41:00-04:00\",\"2024-06-06T15:42:00-04:00\",\"2024-06-06T15:43:00-04:00\",\"2024-06-06T15:44:00-04:00\",\"2024-06-06T15:45:00-04:00\",\"2024-06-06T15:46:00-04:00\",\"2024-06-06T15:47:00-04:00\",\"2024-06-06T15:48:00-04:00\",\"2024-06-06T15:49:00-04:00\",\"2024-06-06T15:50:00-04:00\",\"2024-06-06T15:51:00-04:00\",\"2024-06-06T15:52:00-04:00\",\"2024-06-06T15:53:00-04:00\",\"2024-06-06T15:54:00-04:00\",\"2024-06-06T15:55:00-04:00\",\"2024-06-06T15:56:00-04:00\",\"2024-06-06T15:57:00-04:00\",\"2024-06-06T15:58:00-04:00\",\"2024-06-06T15:59:00-04:00\"],\"xaxis\":\"x\",\"y\":[30.43000030517578,30.43000030517578,30.430812766091915,30.439730810345335,30.44592484566951,30.450038548811804,30.472616470300505,30.479217193990696,30.4786697590942,30.47677804709494,30.474124065492003,30.47156004273341,30.467866129829154,30.462918134188477,30.45717126222766,30.45075709612121,30.443786441677755,30.437562197672253,30.430604840601454,30.424675946922136,30.41786356167231,30.408834097920977,30.399198017819472,30.388806216873572,30.377724208041972,30.36654916258395,30.35759629219327,30.339832716376268,30.318630153465914,30.314746796134187,30.31720499160914,30.31831181104665,30.318243184233303,30.318709761347836,30.320256894353456,30.322012857630547,30.322917939601087,30.323170510089003,30.323196822875918,30.323653583170945,30.32377080751599,30.32187271445363,30.320880502128485,30.316478650354117,30.313611205526335,30.314247484676592,30.314227552560155,30.314566163324006,30.315390651625574,30.31561490803194,30.31172161890803,30.309159857707446,30.304451290996358,30.303309559972266,30.305284434749826,30.30836190278065,30.309874399218952,30.31029870407893,30.31029179520701,30.31029179520701,30.313847746203926,30.317469515033917,30.323515648558374,30.327973936355477,30.33311287398273,30.339644471687322,30.344287481640244,30.34966859354005,30.35437698182014,30.35765161140729,30.36061067463944,30.3635510324983,30.36438147067963,30.36602100966506,30.37077946462266,30.37470170408271,30.37832283058842,30.38393995594125,30.38715285962093,30.39192228477794,30.396318703337908,30.398780371973444,30.398669742753828,30.398168108616016,30.399066066821657,30.400630412955156,30.401368972161553,30.401325402974607,30.401539824221988,30.401812100198637,30.403666816333633,30.4052985937001,30.40644682182662,30.407725338397196,30.408740592306607,30.410308486561917,30.411042894730084,30.409375652162026,30.40538626333795,30.401066350863477,30.3972194602293,30.391730392755687,30.38766372584234,30.381367413304666,30.374162953558166,30.36694186451186,30.36296520079522,30.360136815163944,30.355764711274414,30.349383746606293,30.344614447307926,30.344614447307926,30.343392274849737,30.344742903040576,30.34748415623471,30.35153912149167,30.35587499964893,30.359864960065792,30.366274151338168,30.371046060530002,30.374321665654993,30.377398249114936,30.382323078865113,30.385915275745027,30.388281054673474,30.38888524063026,30.39030094657821,30.394091963814084,30.39858265587652,30.401675469368158,30.40457463741546,30.408211641305616,30.415310724163593,30.419730376760135,30.424094290878998,30.42842724720258,30.43344494833707,30.435827464002728,30.438565451839413,30.440380867110864,30.44123731676519,30.442549643087265,30.445231369694415,30.451010585413016,30.455090603075657,30.458725550494556,30.460771965962618,30.462004642801087,30.464182365369407,30.463554587201862,30.4627056135701,30.463032285396434,30.46304081885376,30.462967628184263,30.462565282713193,30.462343647614837,30.46199875793803,30.46315859516674,30.464568300678646,30.465105138741748,30.464081315633475,30.46375779247615,30.463003522228032,30.462368914010035,30.46210220707729,30.461416310392615,30.459684975788917,30.45493771284626,30.450811136999103,30.44650184446229,30.443336569014104,30.441074530428015,30.436078882617597,30.431137584237344,30.42627469155362,30.42159071691337,30.417956752708026,30.413253451263497,30.408014506635332,30.404007797664974,30.400978224816594,30.40001694980518,30.400862107514147,30.400862107514147,30.400368282976164,30.39935093544661,30.398939408188074,30.397498408809074,30.39576576585728,30.395009413286473,30.392756823819237,30.392321744125695,30.390459038727258,30.386990116451226,30.386422133061487,30.386422133061487,30.38855201118432,30.390041334913118,30.391336888967253,30.391344849132068,30.391700282121757,30.391540721313927,30.394287451482537,30.398658885927595,30.40595594995628,30.413467102205466,30.4203402685119,30.426621417150972,30.432954221761477,30.44210290168936,30.447895581258337,30.456008118520142,30.464459909660892,30.470920896659347,30.47576582714586,30.48166479487292,30.48669254827173,30.490934266021593,30.495038153706613,30.498258824631282,30.50092588367827,30.50324037164663,30.50424254578167,30.504155698695637,30.50299932797378,30.500963547414155,30.49904787096892,30.497390752335008,30.497054953648185,30.497390752335008,30.497568175920726,30.498051917909248,30.498794725516778,30.49775646225723,30.49746629785554,30.495675407542212,30.492924032363124,30.491507821970206,30.490882882443984,30.48858115062735,30.486230049951956,30.483856351882338,30.480491470667257,30.476798524178903,30.474012010091847,30.470580134158066,30.468484125699792,30.46674395305593,30.46567304322236,30.46567304322236,30.46979265887505,30.472037935479854,30.475571264445062,30.480987342606735,30.485037579181622,30.488179366682484,30.492191466287608,30.49567326996424,30.497487509446895,30.498490407738714,30.498852430602277,30.4993474884251,30.4993474884251,30.499247241338008,30.499376971472252,30.50052662774928,30.501315333139274,30.50146219404325,30.501596537824714,30.501321134321294,30.50158702696433,30.50158702696433,30.502494572059945,30.504121710601783,30.50374832706296,30.50436235752891,30.50507389969444,30.502960772157127,30.499891937713496,30.496453644121377,30.49100457279822,30.484936864910733,30.479679836448593,30.474949685215158,30.470975550116478,30.46564252120095,30.461002912025325,30.45693702324801,30.452216598930708,30.44713073416184,30.441086069363525,30.436232400902682,30.429740615154657,30.424843611806285,30.42277029620763,30.419518540405182,30.418137006697116,30.418335824489063,30.41870406210739,30.420031141257166,30.42359141664995,30.425171530142354,30.42699698151073,30.428318521074438,30.42919625836127,30.430265498614933,30.434182768022858,30.437286235805054,30.441098653691487,30.441754183202384,30.44249922559679,30.44246452743198,30.44234165424027,30.441531756186365,30.44161342835573,30.441768674885733,30.442223218917572,30.443269112880277,30.444369965348606,30.445348513224875,30.4460360533794,30.449513008905665,30.450747844910218,30.456843636434463,30.459173150812582,30.46211252573116,30.464240339960853,30.46583845390603,30.4672554314264,30.468193817116173,30.468421540412077,30.467864360076824,30.46688846894238,30.46691258280412,30.466888132993475,30.46691368973805,30.46758118966641,30.467695282640182,30.468119768377132,30.468818758988128,30.469727052579813,30.47192659465115,30.474465326695462,30.474988109176497,30.475745994310902,30.47526575207801,30.47606966587529,30.47429651341519,30.47567100143686,30.476624854954142,30.480401775086772,30.48363851078344,30.485695667663407,30.486886823078425,30.488301909083557,30.488749855803295,30.489280872245825,30.48936083893903,30.4898076514454,30.491906565285895,30.494692434981484,30.49458637208745,30.494472005835743,30.494501345255067,30.494627387830754,30.494870716157283,30.49653287646532,30.498052020847062,30.499439464795973,30.50053997717744,30.501271376862608,30.50148030585602,30.50134298853985,30.50134298853985,30.500208135142746,30.49964390704158,30.499163626074804,30.49981321290881,30.500044990639868,30.503978001707864,30.508860868419177,30.51610178540324,30.51831752985897,30.521471848617868,30.524289618821495,30.524564592941594,30.525259524753384,30.527243282696823,30.52883188806514,30.53023080049929],\"yaxis\":\"y\",\"type\":\"scattergl\"},{\"hovertemplate\":\"variable=lower_boll_24<br>Datetime=%{x}<br>value=%{y}<extra></extra>\",\"legendgroup\":\"lower_boll_24\",\"line\":{\"color\":\"#b6d1c3\",\"dash\":\"dot\"},\"marker\":{\"symbol\":\"circle\"},\"mode\":\"lines\",\"name\":\"lower_boll_24\",\"showlegend\":true,\"x\":[\"2024-06-06T09:30:00-04:00\",\"2024-06-06T09:31:00-04:00\",\"2024-06-06T09:32:00-04:00\",\"2024-06-06T09:33:00-04:00\",\"2024-06-06T09:34:00-04:00\",\"2024-06-06T09:35:00-04:00\",\"2024-06-06T09:36:00-04:00\",\"2024-06-06T09:37:00-04:00\",\"2024-06-06T09:38:00-04:00\",\"2024-06-06T09:39:00-04:00\",\"2024-06-06T09:40:00-04:00\",\"2024-06-06T09:41:00-04:00\",\"2024-06-06T09:42:00-04:00\",\"2024-06-06T09:43:00-04:00\",\"2024-06-06T09:44:00-04:00\",\"2024-06-06T09:45:00-04:00\",\"2024-06-06T09:46:00-04:00\",\"2024-06-06T09:47:00-04:00\",\"2024-06-06T09:48:00-04:00\",\"2024-06-06T09:49:00-04:00\",\"2024-06-06T09:50:00-04:00\",\"2024-06-06T09:51:00-04:00\",\"2024-06-06T09:52:00-04:00\",\"2024-06-06T09:53:00-04:00\",\"2024-06-06T09:54:00-04:00\",\"2024-06-06T09:55:00-04:00\",\"2024-06-06T09:56:00-04:00\",\"2024-06-06T09:57:00-04:00\",\"2024-06-06T09:58:00-04:00\",\"2024-06-06T09:59:00-04:00\",\"2024-06-06T10:00:00-04:00\",\"2024-06-06T10:01:00-04:00\",\"2024-06-06T10:02:00-04:00\",\"2024-06-06T10:03:00-04:00\",\"2024-06-06T10:04:00-04:00\",\"2024-06-06T10:05:00-04:00\",\"2024-06-06T10:06:00-04:00\",\"2024-06-06T10:07:00-04:00\",\"2024-06-06T10:08:00-04:00\",\"2024-06-06T10:09:00-04:00\",\"2024-06-06T10:10:00-04:00\",\"2024-06-06T10:11:00-04:00\",\"2024-06-06T10:12:00-04:00\",\"2024-06-06T10:13:00-04:00\",\"2024-06-06T10:14:00-04:00\",\"2024-06-06T10:15:00-04:00\",\"2024-06-06T10:16:00-04:00\",\"2024-06-06T10:17:00-04:00\",\"2024-06-06T10:18:00-04:00\",\"2024-06-06T10:19:00-04:00\",\"2024-06-06T10:20:00-04:00\",\"2024-06-06T10:21:00-04:00\",\"2024-06-06T10:22:00-04:00\",\"2024-06-06T10:23:00-04:00\",\"2024-06-06T10:24:00-04:00\",\"2024-06-06T10:25:00-04:00\",\"2024-06-06T10:26:00-04:00\",\"2024-06-06T10:27:00-04:00\",\"2024-06-06T10:28:00-04:00\",\"2024-06-06T10:29:00-04:00\",\"2024-06-06T10:30:00-04:00\",\"2024-06-06T10:31:00-04:00\",\"2024-06-06T10:32:00-04:00\",\"2024-06-06T10:33:00-04:00\",\"2024-06-06T10:34:00-04:00\",\"2024-06-06T10:35:00-04:00\",\"2024-06-06T10:36:00-04:00\",\"2024-06-06T10:37:00-04:00\",\"2024-06-06T10:38:00-04:00\",\"2024-06-06T10:39:00-04:00\",\"2024-06-06T10:40:00-04:00\",\"2024-06-06T10:41:00-04:00\",\"2024-06-06T10:42:00-04:00\",\"2024-06-06T10:43:00-04:00\",\"2024-06-06T10:44:00-04:00\",\"2024-06-06T10:45:00-04:00\",\"2024-06-06T10:46:00-04:00\",\"2024-06-06T10:47:00-04:00\",\"2024-06-06T10:48:00-04:00\",\"2024-06-06T10:49:00-04:00\",\"2024-06-06T10:50:00-04:00\",\"2024-06-06T10:51:00-04:00\",\"2024-06-06T10:52:00-04:00\",\"2024-06-06T10:53:00-04:00\",\"2024-06-06T10:54:00-04:00\",\"2024-06-06T10:55:00-04:00\",\"2024-06-06T10:56:00-04:00\",\"2024-06-06T10:57:00-04:00\",\"2024-06-06T10:58:00-04:00\",\"2024-06-06T10:59:00-04:00\",\"2024-06-06T11:00:00-04:00\",\"2024-06-06T11:01:00-04:00\",\"2024-06-06T11:02:00-04:00\",\"2024-06-06T11:03:00-04:00\",\"2024-06-06T11:04:00-04:00\",\"2024-06-06T11:05:00-04:00\",\"2024-06-06T11:06:00-04:00\",\"2024-06-06T11:07:00-04:00\",\"2024-06-06T11:08:00-04:00\",\"2024-06-06T11:09:00-04:00\",\"2024-06-06T11:10:00-04:00\",\"2024-06-06T11:11:00-04:00\",\"2024-06-06T11:12:00-04:00\",\"2024-06-06T11:13:00-04:00\",\"2024-06-06T11:14:00-04:00\",\"2024-06-06T11:15:00-04:00\",\"2024-06-06T11:16:00-04:00\",\"2024-06-06T11:17:00-04:00\",\"2024-06-06T11:18:00-04:00\",\"2024-06-06T11:19:00-04:00\",\"2024-06-06T11:20:00-04:00\",\"2024-06-06T11:21:00-04:00\",\"2024-06-06T11:22:00-04:00\",\"2024-06-06T11:23:00-04:00\",\"2024-06-06T11:24:00-04:00\",\"2024-06-06T11:25:00-04:00\",\"2024-06-06T11:26:00-04:00\",\"2024-06-06T11:27:00-04:00\",\"2024-06-06T11:28:00-04:00\",\"2024-06-06T11:29:00-04:00\",\"2024-06-06T11:30:00-04:00\",\"2024-06-06T11:31:00-04:00\",\"2024-06-06T11:32:00-04:00\",\"2024-06-06T11:33:00-04:00\",\"2024-06-06T11:34:00-04:00\",\"2024-06-06T11:35:00-04:00\",\"2024-06-06T11:36:00-04:00\",\"2024-06-06T11:37:00-04:00\",\"2024-06-06T11:38:00-04:00\",\"2024-06-06T11:39:00-04:00\",\"2024-06-06T11:40:00-04:00\",\"2024-06-06T11:41:00-04:00\",\"2024-06-06T11:42:00-04:00\",\"2024-06-06T11:43:00-04:00\",\"2024-06-06T11:44:00-04:00\",\"2024-06-06T11:45:00-04:00\",\"2024-06-06T11:46:00-04:00\",\"2024-06-06T11:47:00-04:00\",\"2024-06-06T11:48:00-04:00\",\"2024-06-06T11:49:00-04:00\",\"2024-06-06T11:50:00-04:00\",\"2024-06-06T11:51:00-04:00\",\"2024-06-06T11:52:00-04:00\",\"2024-06-06T11:53:00-04:00\",\"2024-06-06T11:54:00-04:00\",\"2024-06-06T11:55:00-04:00\",\"2024-06-06T11:56:00-04:00\",\"2024-06-06T11:57:00-04:00\",\"2024-06-06T11:58:00-04:00\",\"2024-06-06T11:59:00-04:00\",\"2024-06-06T12:00:00-04:00\",\"2024-06-06T12:01:00-04:00\",\"2024-06-06T12:02:00-04:00\",\"2024-06-06T12:03:00-04:00\",\"2024-06-06T12:04:00-04:00\",\"2024-06-06T12:05:00-04:00\",\"2024-06-06T12:06:00-04:00\",\"2024-06-06T12:07:00-04:00\",\"2024-06-06T12:08:00-04:00\",\"2024-06-06T12:09:00-04:00\",\"2024-06-06T12:10:00-04:00\",\"2024-06-06T12:11:00-04:00\",\"2024-06-06T12:12:00-04:00\",\"2024-06-06T12:13:00-04:00\",\"2024-06-06T12:14:00-04:00\",\"2024-06-06T12:15:00-04:00\",\"2024-06-06T12:16:00-04:00\",\"2024-06-06T12:17:00-04:00\",\"2024-06-06T12:18:00-04:00\",\"2024-06-06T12:19:00-04:00\",\"2024-06-06T12:20:00-04:00\",\"2024-06-06T12:21:00-04:00\",\"2024-06-06T12:22:00-04:00\",\"2024-06-06T12:23:00-04:00\",\"2024-06-06T12:24:00-04:00\",\"2024-06-06T12:25:00-04:00\",\"2024-06-06T12:26:00-04:00\",\"2024-06-06T12:27:00-04:00\",\"2024-06-06T12:28:00-04:00\",\"2024-06-06T12:29:00-04:00\",\"2024-06-06T12:30:00-04:00\",\"2024-06-06T12:31:00-04:00\",\"2024-06-06T12:32:00-04:00\",\"2024-06-06T12:33:00-04:00\",\"2024-06-06T12:34:00-04:00\",\"2024-06-06T12:35:00-04:00\",\"2024-06-06T12:36:00-04:00\",\"2024-06-06T12:37:00-04:00\",\"2024-06-06T12:38:00-04:00\",\"2024-06-06T12:39:00-04:00\",\"2024-06-06T12:40:00-04:00\",\"2024-06-06T12:41:00-04:00\",\"2024-06-06T12:42:00-04:00\",\"2024-06-06T12:43:00-04:00\",\"2024-06-06T12:44:00-04:00\",\"2024-06-06T12:45:00-04:00\",\"2024-06-06T12:46:00-04:00\",\"2024-06-06T12:47:00-04:00\",\"2024-06-06T12:48:00-04:00\",\"2024-06-06T12:49:00-04:00\",\"2024-06-06T12:50:00-04:00\",\"2024-06-06T12:51:00-04:00\",\"2024-06-06T12:52:00-04:00\",\"2024-06-06T12:53:00-04:00\",\"2024-06-06T12:54:00-04:00\",\"2024-06-06T12:55:00-04:00\",\"2024-06-06T12:56:00-04:00\",\"2024-06-06T12:57:00-04:00\",\"2024-06-06T12:58:00-04:00\",\"2024-06-06T12:59:00-04:00\",\"2024-06-06T13:00:00-04:00\",\"2024-06-06T13:01:00-04:00\",\"2024-06-06T13:02:00-04:00\",\"2024-06-06T13:03:00-04:00\",\"2024-06-06T13:04:00-04:00\",\"2024-06-06T13:05:00-04:00\",\"2024-06-06T13:06:00-04:00\",\"2024-06-06T13:07:00-04:00\",\"2024-06-06T13:08:00-04:00\",\"2024-06-06T13:09:00-04:00\",\"2024-06-06T13:10:00-04:00\",\"2024-06-06T13:11:00-04:00\",\"2024-06-06T13:12:00-04:00\",\"2024-06-06T13:13:00-04:00\",\"2024-06-06T13:14:00-04:00\",\"2024-06-06T13:15:00-04:00\",\"2024-06-06T13:16:00-04:00\",\"2024-06-06T13:17:00-04:00\",\"2024-06-06T13:18:00-04:00\",\"2024-06-06T13:19:00-04:00\",\"2024-06-06T13:20:00-04:00\",\"2024-06-06T13:21:00-04:00\",\"2024-06-06T13:22:00-04:00\",\"2024-06-06T13:23:00-04:00\",\"2024-06-06T13:24:00-04:00\",\"2024-06-06T13:25:00-04:00\",\"2024-06-06T13:26:00-04:00\",\"2024-06-06T13:27:00-04:00\",\"2024-06-06T13:28:00-04:00\",\"2024-06-06T13:29:00-04:00\",\"2024-06-06T13:30:00-04:00\",\"2024-06-06T13:31:00-04:00\",\"2024-06-06T13:32:00-04:00\",\"2024-06-06T13:33:00-04:00\",\"2024-06-06T13:34:00-04:00\",\"2024-06-06T13:35:00-04:00\",\"2024-06-06T13:36:00-04:00\",\"2024-06-06T13:37:00-04:00\",\"2024-06-06T13:38:00-04:00\",\"2024-06-06T13:39:00-04:00\",\"2024-06-06T13:40:00-04:00\",\"2024-06-06T13:41:00-04:00\",\"2024-06-06T13:42:00-04:00\",\"2024-06-06T13:43:00-04:00\",\"2024-06-06T13:44:00-04:00\",\"2024-06-06T13:45:00-04:00\",\"2024-06-06T13:46:00-04:00\",\"2024-06-06T13:47:00-04:00\",\"2024-06-06T13:48:00-04:00\",\"2024-06-06T13:49:00-04:00\",\"2024-06-06T13:50:00-04:00\",\"2024-06-06T13:51:00-04:00\",\"2024-06-06T13:52:00-04:00\",\"2024-06-06T13:53:00-04:00\",\"2024-06-06T13:54:00-04:00\",\"2024-06-06T13:55:00-04:00\",\"2024-06-06T13:56:00-04:00\",\"2024-06-06T13:57:00-04:00\",\"2024-06-06T13:58:00-04:00\",\"2024-06-06T13:59:00-04:00\",\"2024-06-06T14:00:00-04:00\",\"2024-06-06T14:01:00-04:00\",\"2024-06-06T14:02:00-04:00\",\"2024-06-06T14:03:00-04:00\",\"2024-06-06T14:04:00-04:00\",\"2024-06-06T14:05:00-04:00\",\"2024-06-06T14:06:00-04:00\",\"2024-06-06T14:07:00-04:00\",\"2024-06-06T14:08:00-04:00\",\"2024-06-06T14:09:00-04:00\",\"2024-06-06T14:10:00-04:00\",\"2024-06-06T14:11:00-04:00\",\"2024-06-06T14:12:00-04:00\",\"2024-06-06T14:13:00-04:00\",\"2024-06-06T14:14:00-04:00\",\"2024-06-06T14:15:00-04:00\",\"2024-06-06T14:16:00-04:00\",\"2024-06-06T14:17:00-04:00\",\"2024-06-06T14:18:00-04:00\",\"2024-06-06T14:19:00-04:00\",\"2024-06-06T14:20:00-04:00\",\"2024-06-06T14:21:00-04:00\",\"2024-06-06T14:22:00-04:00\",\"2024-06-06T14:23:00-04:00\",\"2024-06-06T14:24:00-04:00\",\"2024-06-06T14:25:00-04:00\",\"2024-06-06T14:26:00-04:00\",\"2024-06-06T14:27:00-04:00\",\"2024-06-06T14:28:00-04:00\",\"2024-06-06T14:29:00-04:00\",\"2024-06-06T14:30:00-04:00\",\"2024-06-06T14:31:00-04:00\",\"2024-06-06T14:32:00-04:00\",\"2024-06-06T14:33:00-04:00\",\"2024-06-06T14:34:00-04:00\",\"2024-06-06T14:35:00-04:00\",\"2024-06-06T14:36:00-04:00\",\"2024-06-06T14:37:00-04:00\",\"2024-06-06T14:38:00-04:00\",\"2024-06-06T14:39:00-04:00\",\"2024-06-06T14:40:00-04:00\",\"2024-06-06T14:41:00-04:00\",\"2024-06-06T14:42:00-04:00\",\"2024-06-06T14:43:00-04:00\",\"2024-06-06T14:44:00-04:00\",\"2024-06-06T14:45:00-04:00\",\"2024-06-06T14:46:00-04:00\",\"2024-06-06T14:47:00-04:00\",\"2024-06-06T14:48:00-04:00\",\"2024-06-06T14:49:00-04:00\",\"2024-06-06T14:50:00-04:00\",\"2024-06-06T14:51:00-04:00\",\"2024-06-06T14:52:00-04:00\",\"2024-06-06T14:53:00-04:00\",\"2024-06-06T14:54:00-04:00\",\"2024-06-06T14:55:00-04:00\",\"2024-06-06T14:56:00-04:00\",\"2024-06-06T14:57:00-04:00\",\"2024-06-06T14:58:00-04:00\",\"2024-06-06T14:59:00-04:00\",\"2024-06-06T15:00:00-04:00\",\"2024-06-06T15:01:00-04:00\",\"2024-06-06T15:02:00-04:00\",\"2024-06-06T15:03:00-04:00\",\"2024-06-06T15:04:00-04:00\",\"2024-06-06T15:05:00-04:00\",\"2024-06-06T15:06:00-04:00\",\"2024-06-06T15:07:00-04:00\",\"2024-06-06T15:08:00-04:00\",\"2024-06-06T15:09:00-04:00\",\"2024-06-06T15:10:00-04:00\",\"2024-06-06T15:11:00-04:00\",\"2024-06-06T15:12:00-04:00\",\"2024-06-06T15:13:00-04:00\",\"2024-06-06T15:14:00-04:00\",\"2024-06-06T15:15:00-04:00\",\"2024-06-06T15:16:00-04:00\",\"2024-06-06T15:17:00-04:00\",\"2024-06-06T15:18:00-04:00\",\"2024-06-06T15:19:00-04:00\",\"2024-06-06T15:20:00-04:00\",\"2024-06-06T15:21:00-04:00\",\"2024-06-06T15:22:00-04:00\",\"2024-06-06T15:23:00-04:00\",\"2024-06-06T15:24:00-04:00\",\"2024-06-06T15:25:00-04:00\",\"2024-06-06T15:26:00-04:00\",\"2024-06-06T15:27:00-04:00\",\"2024-06-06T15:28:00-04:00\",\"2024-06-06T15:29:00-04:00\",\"2024-06-06T15:30:00-04:00\",\"2024-06-06T15:31:00-04:00\",\"2024-06-06T15:32:00-04:00\",\"2024-06-06T15:33:00-04:00\",\"2024-06-06T15:34:00-04:00\",\"2024-06-06T15:35:00-04:00\",\"2024-06-06T15:36:00-04:00\",\"2024-06-06T15:37:00-04:00\",\"2024-06-06T15:38:00-04:00\",\"2024-06-06T15:39:00-04:00\",\"2024-06-06T15:40:00-04:00\",\"2024-06-06T15:41:00-04:00\",\"2024-06-06T15:42:00-04:00\",\"2024-06-06T15:43:00-04:00\",\"2024-06-06T15:44:00-04:00\",\"2024-06-06T15:45:00-04:00\",\"2024-06-06T15:46:00-04:00\",\"2024-06-06T15:47:00-04:00\",\"2024-06-06T15:48:00-04:00\",\"2024-06-06T15:49:00-04:00\",\"2024-06-06T15:50:00-04:00\",\"2024-06-06T15:51:00-04:00\",\"2024-06-06T15:52:00-04:00\",\"2024-06-06T15:53:00-04:00\",\"2024-06-06T15:54:00-04:00\",\"2024-06-06T15:55:00-04:00\",\"2024-06-06T15:56:00-04:00\",\"2024-06-06T15:57:00-04:00\",\"2024-06-06T15:58:00-04:00\",\"2024-06-06T15:59:00-04:00\"],\"xaxis\":\"x\",\"y\":[30.43000030517578,30.43000030517578,30.428771088583378,30.423186295011515,30.420942219760178,30.410995208715867,30.3688339030312,30.343583124409367,30.329963886281373,30.318105521986688,30.306601095742533,30.292181768383127,30.278792354311875,30.267840373857993,30.258170623656945,30.250018050363163,30.242405276105853,30.23945453740465,30.235995227808786,30.234424108772444,30.232486532169244,30.22693256721981,30.222268618838243,30.218076991083375,30.214992326890485,30.214084000868198,30.21512026181267,30.21987556100817,30.22923650887743,30.230203212258147,30.23774508671931,30.2444548998705,30.24410677100758,30.244890301976138,30.2466765785978,30.251903895502593,30.25766547384089,30.261646263643502,30.264953201538145,30.267813161569862,30.270604325998413,30.269177433556624,30.266419639523942,30.264571427720018,30.263688866189973,30.266385996666997,30.26793085401537,30.266759049790412,30.263851259944655,30.25946040044991,30.257103625995533,30.255173740111562,30.25543230351658,30.25574068213385,30.25514911195224,30.254646723521436,30.25688423344096,30.257268167564135,30.257266652312925,30.257266652312925,30.25662735526702,30.25675543384914,30.256626054729384,30.25675112569693,30.257195474355076,30.258163889366145,30.261454178159966,30.26454805201863,30.266922920777922,30.26864824668597,30.271797626396122,30.27844058279711,30.28699350516062,30.29677056036261,30.304095476885312,30.311864807707245,30.317710329303342,30.320009813396723,30.321830243813313,30.323652456585585,30.328839511231184,30.33631957945274,30.343096868981196,30.34901521429048,30.351867262442664,30.355719627480635,30.35739767899201,30.358691197316325,30.359985170946064,30.357212837748957,30.35159142595559,30.34439305160426,30.337411515575724,30.330299691103132,30.323451129291698,30.31271651750709,30.304265294662006,30.29835750213485,30.292763576699077,30.289558521979945,30.287530460933624,30.285636181849622,30.28386111673782,30.282240819829283,30.28152851118386,30.280916278340925,30.280309742238632,30.280221473918903,30.28042681577433,30.281807824947258,30.28282711788779,30.28282711788779,30.283215937939165,30.283115258885694,30.283915793156975,30.285285804248893,30.28719998966992,30.290293445238163,30.293609188861623,30.301337247880642,30.309728417505408,30.31560190855922,30.321093745475707,30.324726585216887,30.32736076178364,30.329973319296094,30.33319930519181,30.33733332152527,30.341167729407903,30.34640828103874,30.351009125707098,30.354222046540247,30.35712303361839,30.361036746144322,30.365422793878487,30.36775649786374,30.370238809444913,30.374522954088093,30.379493197859478,30.38351109049005,30.387104644141793,30.391208870045464,30.39295219226644,30.393839636856676,30.396009523826603,30.39916616805199,30.400869758941763,30.403662064555686,30.408151002296204,30.417111986640506,30.424410977565557,30.427425821598195,30.42895047855021,30.431523567494448,30.43412588066775,30.43500586893586,30.43244236983907,30.42795754710621,30.421547886099102,30.416011092540806,30.41203496015388,30.40944182936019,30.40561274084366,30.403747450786923,30.402480808364604,30.399558478273157,30.397556495819565,30.39438714931601,30.39268041726115,30.391981489125357,30.389313456671527,30.385325590625047,30.382821225719805,30.380679267060668,30.378875499435555,30.378534564102658,30.377726949125066,30.37839700293979,30.378519166969,30.377525920444157,30.376513821539607,30.375799967614252,30.376196493865248,30.376196493865248,30.375806898094798,30.37448265728614,30.3736442354073,30.371335228428475,30.36932613019985,30.367632493451808,30.366551673291763,30.36615340057849,30.365707737294066,30.366268270796493,30.366002901779417,30.366002901779417,30.365956325200774,30.36621699384258,30.366588144602083,30.366588449614675,30.366649613355538,30.36667581870479,30.36642088057923,30.366382783282205,30.365202427373227,30.363941338702332,30.362334838808252,30.362303594801748,30.362687518401692,30.36338043952768,30.36551279352804,30.36865027533972,30.37227343155615,30.376870775093582,30.38202591454319,30.386543613482793,30.39196590535172,30.397724257537977,30.404045301697035,30.411657894169583,30.416490847838247,30.422176415818786,30.42825749872313,30.43542776179427,30.443250792824966,30.451119881286612,30.4572355394213,30.46205090949971,30.463220060593354,30.46205090949971,30.460781846713147,30.458623134733575,30.454963673175033,30.45185202264674,30.450883813787932,30.449341294473985,30.448575995611325,30.4483255011906,30.448117088310006,30.447835475349212,30.447461610611192,30.446918495784082,30.446341841049456,30.446284781179983,30.445321288909213,30.444836424425514,30.443599182202224,30.44283929762563,30.44266025832183,30.44266025832183,30.4414323421422,30.44127052602731,30.441070606689376,30.441071239699173,30.441604202943218,30.44347079506068,30.4463253094794,30.448660124404253,30.45017929454887,30.45167645347751,30.45233120638096,30.45266950096495,30.45266950096495,30.45243643887846,30.45272330547477,30.454065441240793,30.455960057485726,30.45706314571912,30.45964550217366,30.461587610490717,30.460904962171412,30.460904962171412,30.457914115531608,30.451903571940125,30.44519353949384,30.436671164759094,30.424751247298563,30.414364406625015,30.405766625264615,30.397821544324668,30.39098729045251,30.38538838253596,30.38188702502195,30.378283811132903,30.37599961747589,30.373624255837623,30.37159720470441,30.36941302990344,30.3678501709871,30.36875258442133,30.36955553728524,30.369967626563138,30.37124281380042,30.372398075968373,30.372388090022838,30.3728815018108,30.373013086381498,30.373031070550816,30.373079588608757,30.37382754582576,30.376892286963333,30.380728725696674,30.38431998549977,30.388548512566103,30.393087486450742,30.397434798422825,30.398942505363777,30.4015723686261,30.402768171412273,30.405371029149094,30.407959237436252,30.411327345228337,30.414400250972133,30.413985154366614,30.41414507969074,30.41468140598585,30.415685188929512,30.416480999017512,30.418296800500187,30.420076596638406,30.421655622442536,30.42264520057716,30.42458530531765,30.424739418425972,30.42491822644572,30.426145613561236,30.427334519658288,30.42871139274314,30.430211069173783,30.431355985028198,30.431453305728464,30.430443758107586,30.42933634769784,30.429595475108073,30.429328259523615,30.429719299509593,30.43113510112542,30.432687712965286,30.434763284448795,30.43717263632641,30.438972618847593,30.439923063043345,30.440717740626315,30.44162833064284,30.442937057752086,30.442692348558793,30.443296693835403,30.443619943443124,30.443487139381414,30.443366638270955,30.44253132656728,30.442319645802254,30.44259581208309,30.44322967141824,30.44398959863739,30.446458305868664,30.449260699053408,30.452097386311213,30.456109001234044,30.459843395295565,30.46143250652649,30.464455223371534,30.464986186353794,30.464765158396872,30.465472468228,30.46564589557774,30.465650281137624,30.467306077500922,30.468668712389086,30.470909874812307,30.472220132892847,30.47304451002126,30.47276507166116,30.47276507166116,30.472641551797768,30.472622449108727,30.47227780179181,30.472720013104375,30.47291325622699,30.473563603923644,30.473680692707532,30.473523191708576,30.474465698697344,30.474228192835174,30.47411885769014,30.47176058202585,30.46939910434614,30.463665498990594,30.45666018245081,30.447761257301003],\"yaxis\":\"y\",\"type\":\"scattergl\"},{\"hovertemplate\":\"variable=Close<br>Datetime=%{x}<br>value=%{y}<extra></extra>\",\"legendgroup\":\"Close\",\"line\":{\"color\":\"#0059ff\",\"dash\":\"solid\"},\"marker\":{\"symbol\":\"circle\"},\"mode\":\"lines\",\"name\":\"Close\",\"showlegend\":true,\"x\":[\"2024-06-06T09:30:00-04:00\",\"2024-06-06T09:31:00-04:00\",\"2024-06-06T09:32:00-04:00\",\"2024-06-06T09:33:00-04:00\",\"2024-06-06T09:34:00-04:00\",\"2024-06-06T09:35:00-04:00\",\"2024-06-06T09:36:00-04:00\",\"2024-06-06T09:37:00-04:00\",\"2024-06-06T09:38:00-04:00\",\"2024-06-06T09:39:00-04:00\",\"2024-06-06T09:40:00-04:00\",\"2024-06-06T09:41:00-04:00\",\"2024-06-06T09:42:00-04:00\",\"2024-06-06T09:43:00-04:00\",\"2024-06-06T09:44:00-04:00\",\"2024-06-06T09:45:00-04:00\",\"2024-06-06T09:46:00-04:00\",\"2024-06-06T09:47:00-04:00\",\"2024-06-06T09:48:00-04:00\",\"2024-06-06T09:49:00-04:00\",\"2024-06-06T09:50:00-04:00\",\"2024-06-06T09:51:00-04:00\",\"2024-06-06T09:52:00-04:00\",\"2024-06-06T09:53:00-04:00\",\"2024-06-06T09:54:00-04:00\",\"2024-06-06T09:55:00-04:00\",\"2024-06-06T09:56:00-04:00\",\"2024-06-06T09:57:00-04:00\",\"2024-06-06T09:58:00-04:00\",\"2024-06-06T09:59:00-04:00\",\"2024-06-06T10:00:00-04:00\",\"2024-06-06T10:01:00-04:00\",\"2024-06-06T10:02:00-04:00\",\"2024-06-06T10:03:00-04:00\",\"2024-06-06T10:04:00-04:00\",\"2024-06-06T10:05:00-04:00\",\"2024-06-06T10:06:00-04:00\",\"2024-06-06T10:07:00-04:00\",\"2024-06-06T10:08:00-04:00\",\"2024-06-06T10:09:00-04:00\",\"2024-06-06T10:10:00-04:00\",\"2024-06-06T10:11:00-04:00\",\"2024-06-06T10:12:00-04:00\",\"2024-06-06T10:13:00-04:00\",\"2024-06-06T10:14:00-04:00\",\"2024-06-06T10:15:00-04:00\",\"2024-06-06T10:16:00-04:00\",\"2024-06-06T10:17:00-04:00\",\"2024-06-06T10:18:00-04:00\",\"2024-06-06T10:19:00-04:00\",\"2024-06-06T10:20:00-04:00\",\"2024-06-06T10:21:00-04:00\",\"2024-06-06T10:22:00-04:00\",\"2024-06-06T10:23:00-04:00\",\"2024-06-06T10:24:00-04:00\",\"2024-06-06T10:25:00-04:00\",\"2024-06-06T10:26:00-04:00\",\"2024-06-06T10:27:00-04:00\",\"2024-06-06T10:28:00-04:00\",\"2024-06-06T10:29:00-04:00\",\"2024-06-06T10:30:00-04:00\",\"2024-06-06T10:31:00-04:00\",\"2024-06-06T10:32:00-04:00\",\"2024-06-06T10:33:00-04:00\",\"2024-06-06T10:34:00-04:00\",\"2024-06-06T10:35:00-04:00\",\"2024-06-06T10:36:00-04:00\",\"2024-06-06T10:37:00-04:00\",\"2024-06-06T10:38:00-04:00\",\"2024-06-06T10:39:00-04:00\",\"2024-06-06T10:40:00-04:00\",\"2024-06-06T10:41:00-04:00\",\"2024-06-06T10:42:00-04:00\",\"2024-06-06T10:43:00-04:00\",\"2024-06-06T10:44:00-04:00\",\"2024-06-06T10:45:00-04:00\",\"2024-06-06T10:46:00-04:00\",\"2024-06-06T10:47:00-04:00\",\"2024-06-06T10:48:00-04:00\",\"2024-06-06T10:49:00-04:00\",\"2024-06-06T10:50:00-04:00\",\"2024-06-06T10:51:00-04:00\",\"2024-06-06T10:52:00-04:00\",\"2024-06-06T10:53:00-04:00\",\"2024-06-06T10:54:00-04:00\",\"2024-06-06T10:55:00-04:00\",\"2024-06-06T10:56:00-04:00\",\"2024-06-06T10:57:00-04:00\",\"2024-06-06T10:58:00-04:00\",\"2024-06-06T10:59:00-04:00\",\"2024-06-06T11:00:00-04:00\",\"2024-06-06T11:01:00-04:00\",\"2024-06-06T11:02:00-04:00\",\"2024-06-06T11:03:00-04:00\",\"2024-06-06T11:04:00-04:00\",\"2024-06-06T11:05:00-04:00\",\"2024-06-06T11:06:00-04:00\",\"2024-06-06T11:07:00-04:00\",\"2024-06-06T11:08:00-04:00\",\"2024-06-06T11:09:00-04:00\",\"2024-06-06T11:10:00-04:00\",\"2024-06-06T11:11:00-04:00\",\"2024-06-06T11:12:00-04:00\",\"2024-06-06T11:13:00-04:00\",\"2024-06-06T11:14:00-04:00\",\"2024-06-06T11:15:00-04:00\",\"2024-06-06T11:16:00-04:00\",\"2024-06-06T11:17:00-04:00\",\"2024-06-06T11:18:00-04:00\",\"2024-06-06T11:19:00-04:00\",\"2024-06-06T11:20:00-04:00\",\"2024-06-06T11:21:00-04:00\",\"2024-06-06T11:22:00-04:00\",\"2024-06-06T11:23:00-04:00\",\"2024-06-06T11:24:00-04:00\",\"2024-06-06T11:25:00-04:00\",\"2024-06-06T11:26:00-04:00\",\"2024-06-06T11:27:00-04:00\",\"2024-06-06T11:28:00-04:00\",\"2024-06-06T11:29:00-04:00\",\"2024-06-06T11:30:00-04:00\",\"2024-06-06T11:31:00-04:00\",\"2024-06-06T11:32:00-04:00\",\"2024-06-06T11:33:00-04:00\",\"2024-06-06T11:34:00-04:00\",\"2024-06-06T11:35:00-04:00\",\"2024-06-06T11:36:00-04:00\",\"2024-06-06T11:37:00-04:00\",\"2024-06-06T11:38:00-04:00\",\"2024-06-06T11:39:00-04:00\",\"2024-06-06T11:40:00-04:00\",\"2024-06-06T11:41:00-04:00\",\"2024-06-06T11:42:00-04:00\",\"2024-06-06T11:43:00-04:00\",\"2024-06-06T11:44:00-04:00\",\"2024-06-06T11:45:00-04:00\",\"2024-06-06T11:46:00-04:00\",\"2024-06-06T11:47:00-04:00\",\"2024-06-06T11:48:00-04:00\",\"2024-06-06T11:49:00-04:00\",\"2024-06-06T11:50:00-04:00\",\"2024-06-06T11:51:00-04:00\",\"2024-06-06T11:52:00-04:00\",\"2024-06-06T11:53:00-04:00\",\"2024-06-06T11:54:00-04:00\",\"2024-06-06T11:55:00-04:00\",\"2024-06-06T11:56:00-04:00\",\"2024-06-06T11:57:00-04:00\",\"2024-06-06T11:58:00-04:00\",\"2024-06-06T11:59:00-04:00\",\"2024-06-06T12:00:00-04:00\",\"2024-06-06T12:01:00-04:00\",\"2024-06-06T12:02:00-04:00\",\"2024-06-06T12:03:00-04:00\",\"2024-06-06T12:04:00-04:00\",\"2024-06-06T12:05:00-04:00\",\"2024-06-06T12:06:00-04:00\",\"2024-06-06T12:07:00-04:00\",\"2024-06-06T12:08:00-04:00\",\"2024-06-06T12:09:00-04:00\",\"2024-06-06T12:10:00-04:00\",\"2024-06-06T12:11:00-04:00\",\"2024-06-06T12:12:00-04:00\",\"2024-06-06T12:13:00-04:00\",\"2024-06-06T12:14:00-04:00\",\"2024-06-06T12:15:00-04:00\",\"2024-06-06T12:16:00-04:00\",\"2024-06-06T12:17:00-04:00\",\"2024-06-06T12:18:00-04:00\",\"2024-06-06T12:19:00-04:00\",\"2024-06-06T12:20:00-04:00\",\"2024-06-06T12:21:00-04:00\",\"2024-06-06T12:22:00-04:00\",\"2024-06-06T12:23:00-04:00\",\"2024-06-06T12:24:00-04:00\",\"2024-06-06T12:25:00-04:00\",\"2024-06-06T12:26:00-04:00\",\"2024-06-06T12:27:00-04:00\",\"2024-06-06T12:28:00-04:00\",\"2024-06-06T12:29:00-04:00\",\"2024-06-06T12:30:00-04:00\",\"2024-06-06T12:31:00-04:00\",\"2024-06-06T12:32:00-04:00\",\"2024-06-06T12:33:00-04:00\",\"2024-06-06T12:34:00-04:00\",\"2024-06-06T12:35:00-04:00\",\"2024-06-06T12:36:00-04:00\",\"2024-06-06T12:37:00-04:00\",\"2024-06-06T12:38:00-04:00\",\"2024-06-06T12:39:00-04:00\",\"2024-06-06T12:40:00-04:00\",\"2024-06-06T12:41:00-04:00\",\"2024-06-06T12:42:00-04:00\",\"2024-06-06T12:43:00-04:00\",\"2024-06-06T12:44:00-04:00\",\"2024-06-06T12:45:00-04:00\",\"2024-06-06T12:46:00-04:00\",\"2024-06-06T12:47:00-04:00\",\"2024-06-06T12:48:00-04:00\",\"2024-06-06T12:49:00-04:00\",\"2024-06-06T12:50:00-04:00\",\"2024-06-06T12:51:00-04:00\",\"2024-06-06T12:52:00-04:00\",\"2024-06-06T12:53:00-04:00\",\"2024-06-06T12:54:00-04:00\",\"2024-06-06T12:55:00-04:00\",\"2024-06-06T12:56:00-04:00\",\"2024-06-06T12:57:00-04:00\",\"2024-06-06T12:58:00-04:00\",\"2024-06-06T12:59:00-04:00\",\"2024-06-06T13:00:00-04:00\",\"2024-06-06T13:01:00-04:00\",\"2024-06-06T13:02:00-04:00\",\"2024-06-06T13:03:00-04:00\",\"2024-06-06T13:04:00-04:00\",\"2024-06-06T13:05:00-04:00\",\"2024-06-06T13:06:00-04:00\",\"2024-06-06T13:07:00-04:00\",\"2024-06-06T13:08:00-04:00\",\"2024-06-06T13:09:00-04:00\",\"2024-06-06T13:10:00-04:00\",\"2024-06-06T13:11:00-04:00\",\"2024-06-06T13:12:00-04:00\",\"2024-06-06T13:13:00-04:00\",\"2024-06-06T13:14:00-04:00\",\"2024-06-06T13:15:00-04:00\",\"2024-06-06T13:16:00-04:00\",\"2024-06-06T13:17:00-04:00\",\"2024-06-06T13:18:00-04:00\",\"2024-06-06T13:19:00-04:00\",\"2024-06-06T13:20:00-04:00\",\"2024-06-06T13:21:00-04:00\",\"2024-06-06T13:22:00-04:00\",\"2024-06-06T13:23:00-04:00\",\"2024-06-06T13:24:00-04:00\",\"2024-06-06T13:25:00-04:00\",\"2024-06-06T13:26:00-04:00\",\"2024-06-06T13:27:00-04:00\",\"2024-06-06T13:28:00-04:00\",\"2024-06-06T13:29:00-04:00\",\"2024-06-06T13:30:00-04:00\",\"2024-06-06T13:31:00-04:00\",\"2024-06-06T13:32:00-04:00\",\"2024-06-06T13:33:00-04:00\",\"2024-06-06T13:34:00-04:00\",\"2024-06-06T13:35:00-04:00\",\"2024-06-06T13:36:00-04:00\",\"2024-06-06T13:37:00-04:00\",\"2024-06-06T13:38:00-04:00\",\"2024-06-06T13:39:00-04:00\",\"2024-06-06T13:40:00-04:00\",\"2024-06-06T13:41:00-04:00\",\"2024-06-06T13:42:00-04:00\",\"2024-06-06T13:43:00-04:00\",\"2024-06-06T13:44:00-04:00\",\"2024-06-06T13:45:00-04:00\",\"2024-06-06T13:46:00-04:00\",\"2024-06-06T13:47:00-04:00\",\"2024-06-06T13:48:00-04:00\",\"2024-06-06T13:49:00-04:00\",\"2024-06-06T13:50:00-04:00\",\"2024-06-06T13:51:00-04:00\",\"2024-06-06T13:52:00-04:00\",\"2024-06-06T13:53:00-04:00\",\"2024-06-06T13:54:00-04:00\",\"2024-06-06T13:55:00-04:00\",\"2024-06-06T13:56:00-04:00\",\"2024-06-06T13:57:00-04:00\",\"2024-06-06T13:58:00-04:00\",\"2024-06-06T13:59:00-04:00\",\"2024-06-06T14:00:00-04:00\",\"2024-06-06T14:01:00-04:00\",\"2024-06-06T14:02:00-04:00\",\"2024-06-06T14:03:00-04:00\",\"2024-06-06T14:04:00-04:00\",\"2024-06-06T14:05:00-04:00\",\"2024-06-06T14:06:00-04:00\",\"2024-06-06T14:07:00-04:00\",\"2024-06-06T14:08:00-04:00\",\"2024-06-06T14:09:00-04:00\",\"2024-06-06T14:10:00-04:00\",\"2024-06-06T14:11:00-04:00\",\"2024-06-06T14:12:00-04:00\",\"2024-06-06T14:13:00-04:00\",\"2024-06-06T14:14:00-04:00\",\"2024-06-06T14:15:00-04:00\",\"2024-06-06T14:16:00-04:00\",\"2024-06-06T14:17:00-04:00\",\"2024-06-06T14:18:00-04:00\",\"2024-06-06T14:19:00-04:00\",\"2024-06-06T14:20:00-04:00\",\"2024-06-06T14:21:00-04:00\",\"2024-06-06T14:22:00-04:00\",\"2024-06-06T14:23:00-04:00\",\"2024-06-06T14:24:00-04:00\",\"2024-06-06T14:25:00-04:00\",\"2024-06-06T14:26:00-04:00\",\"2024-06-06T14:27:00-04:00\",\"2024-06-06T14:28:00-04:00\",\"2024-06-06T14:29:00-04:00\",\"2024-06-06T14:30:00-04:00\",\"2024-06-06T14:31:00-04:00\",\"2024-06-06T14:32:00-04:00\",\"2024-06-06T14:33:00-04:00\",\"2024-06-06T14:34:00-04:00\",\"2024-06-06T14:35:00-04:00\",\"2024-06-06T14:36:00-04:00\",\"2024-06-06T14:37:00-04:00\",\"2024-06-06T14:38:00-04:00\",\"2024-06-06T14:39:00-04:00\",\"2024-06-06T14:40:00-04:00\",\"2024-06-06T14:41:00-04:00\",\"2024-06-06T14:42:00-04:00\",\"2024-06-06T14:43:00-04:00\",\"2024-06-06T14:44:00-04:00\",\"2024-06-06T14:45:00-04:00\",\"2024-06-06T14:46:00-04:00\",\"2024-06-06T14:47:00-04:00\",\"2024-06-06T14:48:00-04:00\",\"2024-06-06T14:49:00-04:00\",\"2024-06-06T14:50:00-04:00\",\"2024-06-06T14:51:00-04:00\",\"2024-06-06T14:52:00-04:00\",\"2024-06-06T14:53:00-04:00\",\"2024-06-06T14:54:00-04:00\",\"2024-06-06T14:55:00-04:00\",\"2024-06-06T14:56:00-04:00\",\"2024-06-06T14:57:00-04:00\",\"2024-06-06T14:58:00-04:00\",\"2024-06-06T14:59:00-04:00\",\"2024-06-06T15:00:00-04:00\",\"2024-06-06T15:01:00-04:00\",\"2024-06-06T15:02:00-04:00\",\"2024-06-06T15:03:00-04:00\",\"2024-06-06T15:04:00-04:00\",\"2024-06-06T15:05:00-04:00\",\"2024-06-06T15:06:00-04:00\",\"2024-06-06T15:07:00-04:00\",\"2024-06-06T15:08:00-04:00\",\"2024-06-06T15:09:00-04:00\",\"2024-06-06T15:10:00-04:00\",\"2024-06-06T15:11:00-04:00\",\"2024-06-06T15:12:00-04:00\",\"2024-06-06T15:13:00-04:00\",\"2024-06-06T15:14:00-04:00\",\"2024-06-06T15:15:00-04:00\",\"2024-06-06T15:16:00-04:00\",\"2024-06-06T15:17:00-04:00\",\"2024-06-06T15:18:00-04:00\",\"2024-06-06T15:19:00-04:00\",\"2024-06-06T15:20:00-04:00\",\"2024-06-06T15:21:00-04:00\",\"2024-06-06T15:22:00-04:00\",\"2024-06-06T15:23:00-04:00\",\"2024-06-06T15:24:00-04:00\",\"2024-06-06T15:25:00-04:00\",\"2024-06-06T15:26:00-04:00\",\"2024-06-06T15:27:00-04:00\",\"2024-06-06T15:28:00-04:00\",\"2024-06-06T15:29:00-04:00\",\"2024-06-06T15:30:00-04:00\",\"2024-06-06T15:31:00-04:00\",\"2024-06-06T15:32:00-04:00\",\"2024-06-06T15:33:00-04:00\",\"2024-06-06T15:34:00-04:00\",\"2024-06-06T15:35:00-04:00\",\"2024-06-06T15:36:00-04:00\",\"2024-06-06T15:37:00-04:00\",\"2024-06-06T15:38:00-04:00\",\"2024-06-06T15:39:00-04:00\",\"2024-06-06T15:40:00-04:00\",\"2024-06-06T15:41:00-04:00\",\"2024-06-06T15:42:00-04:00\",\"2024-06-06T15:43:00-04:00\",\"2024-06-06T15:44:00-04:00\",\"2024-06-06T15:45:00-04:00\",\"2024-06-06T15:46:00-04:00\",\"2024-06-06T15:47:00-04:00\",\"2024-06-06T15:48:00-04:00\",\"2024-06-06T15:49:00-04:00\",\"2024-06-06T15:50:00-04:00\",\"2024-06-06T15:51:00-04:00\",\"2024-06-06T15:52:00-04:00\",\"2024-06-06T15:53:00-04:00\",\"2024-06-06T15:54:00-04:00\",\"2024-06-06T15:55:00-04:00\",\"2024-06-06T15:56:00-04:00\",\"2024-06-06T15:57:00-04:00\",\"2024-06-06T15:58:00-04:00\",\"2024-06-06T15:59:00-04:00\"],\"xaxis\":\"x\",\"y\":[30.43000030517578,30.424999237060547,30.469999313354492,30.477399826049805,30.360000610351562,30.19499969482422,30.206199645996094,30.260000228881836,30.264999389648438,30.260099411010742,30.226200103759766,30.225000381469727,30.239200592041016,30.2450008392334,30.255199432373047,30.2549991607666,30.319900512695312,30.30500030517578,30.34000015258789,30.325000762939453,30.2549991607666,30.258399963378906,30.2549991607666,30.260000228881836,30.28499984741211,30.329999923706055,30.313899993896484,30.33530044555664,30.325000762939453,30.315000534057617,30.299999237060547,30.2549991607666,30.280000686645508,30.300100326538086,30.309999465942383,30.30500030517578,30.290000915527344,30.28499984741211,30.295000076293945,30.289899826049805,30.280000686645508,30.260000228881836,30.264999389648438,30.280000686645508,30.295000076293945,30.27669906616211,30.2450008392334,30.235000610351562,30.235000610351562,30.2549991607666,30.260000228881836,30.28190040588379,30.315000534057617,30.331600189208984,30.330900192260742,30.299999237060547,30.28969955444336,30.299999237060547,30.309999465942383,30.34000015258789,30.334999084472656,30.356000900268555,30.350000381469727,30.35689926147461,30.3700008392334,30.355199813842773,30.36669921875,30.364999771118164,30.354999542236328,30.350000381469727,30.360000610351562,30.34760093688965,30.371999740600586,30.399999618530273,30.400299072265625,30.39550018310547,30.40999984741211,30.392000198364258,30.40999984741211,30.415000915527344,30.409000396728516,30.3799991607666,30.375,30.385000228881836,30.399999618530273,30.385000228881836,30.364999771118164,30.375,30.34000015258789,30.309999465942383,30.29990005493164,30.295000076293945,30.28499984741211,30.280000686645508,30.25,30.2549991607666,30.281099319458008,30.28499984741211,30.309999465942383,30.325000762939453,30.321399688720703,30.3218994140625,30.315000534057617,30.31999969482422,30.315000534057617,30.325000762939453,30.34000015258789,30.334999084472656,30.34000015258789,30.34000015258789,30.364999771118164,30.364999771118164,30.354999542236328,30.352500915527344,30.364999771118164,30.3700008392334,30.3700008392334,30.396699905395508,30.399999618530273,30.395000457763672,30.388500213623047,30.40999984741211,30.396699905395508,30.385000228881836,30.360000610351562,30.377599716186523,30.41010093688965,30.41990089416504,30.415000915527344,30.415000915527344,30.422199249267578,30.454999923706055,30.440000534057617,30.44499969482422,30.44499969482422,30.454999923706055,30.434999465942383,30.44499969482422,30.434999465942383,30.42340087890625,30.434999465942383,30.449800491333008,30.479999542236328,30.469999313354492,30.469999313354492,30.454999923706055,30.44499969482422,30.46500015258789,30.459999084472656,30.454999923706055,30.450199127197266,30.43829917907715,30.44499969482422,30.4414005279541,30.430099487304688,30.42009925842285,30.400100708007812,30.385000228881836,30.385000228881836,30.395000457763672,30.399999618530273,30.389999389648438,30.405000686645508,30.405000686645508,30.391700744628906,30.405000686645508,30.385000228881836,30.399999618530273,30.409900665283203,30.385000228881836,30.3700008392334,30.375,30.375,30.375,30.38990020751953,30.385000228881836,30.3966007232666,30.3799991607666,30.370100021362305,30.371599197387695,30.3799991607666,30.399900436401367,30.385000228881836,30.3843994140625,30.37190055847168,30.375,30.360000610351562,30.36009979248047,30.362300872802734,30.364999771118164,30.375,30.372299194335938,30.375,30.375,30.3700008392334,30.399999618530273,30.395999908447266,30.395000457763672,30.389999389648438,30.389999389648438,30.395000457763672,30.409900665283203,30.422100067138672,30.44499969482422,30.454999923706055,30.46310043334961,30.459999084472656,30.46500015258789,30.489999771118164,30.47010040283203,30.4950008392334,30.5049991607666,30.4950008392334,30.485000610351562,30.5,30.497699737548828,30.4950008392334,30.500099182128906,30.5,30.489999771118164,30.492000579833984,30.479999542236328,30.475000381469727,30.469999313354492,30.46500015258789,30.46030044555664,30.459999084472656,30.454999923706055,30.44499969482422,30.450000762939453,30.439899444580078,30.43000030517578,30.440200805664062,30.454999923706055,30.454999923706055,30.462799072265625,30.475000381469727,30.475000381469727,30.4689998626709,30.46500015258789,30.459999084472656,30.452800750732422,30.454999923706055,30.44499969482422,30.44499969482422,30.440000534057617,30.44499969482422,30.454999923706055,30.46500015258789,30.4950008392334,30.485000610351562,30.4950008392334,30.510000228881836,30.5049991607666,30.5,30.512399673461914,30.510000228881836,30.4950008392334,30.485000610351562,30.475000381469727,30.485000610351562,30.475000381469727,30.46500015258789,30.469999313354492,30.489900588989258,30.485000610351562,30.469999313354492,30.47760009765625,30.46500015258789,30.434999465942383,30.44499969482422,30.43000030517578,30.412399291992188,30.40999984741211,30.390100479125977,30.36050033569336,30.360000610351562,30.364999771118164,30.363399505615234,30.364999771118164,30.3700008392334,30.38990020751953,30.385000228881836,30.399900436401367,30.392499923706055,30.395000457763672,30.389999389648438,30.39459991455078,30.439699172973633,30.422100067138672,30.41670036315918,30.415000915527344,30.42009925842285,30.40999984741211,30.41189956665039,30.415000915527344,30.415000915527344,30.415000915527344,30.415000915527344,30.440000534057617,30.424999237060547,30.43000030517578,30.43000030517578,30.43000030517578,30.434999465942383,30.454999923706055,30.453800201416016,30.459999084472656,30.43160057067871,30.434999465942383,30.43000030517578,30.43000030517578,30.424999237060547,30.424999237060547,30.424999237060547,30.4325008392334,30.44219970703125,30.44499969482422,30.44499969482422,30.44219970703125,30.468599319458008,30.453100204467773,30.489999771118164,30.47010040283203,30.475000381469727,30.46980094909668,30.465700149536133,30.46500015258789,30.459999084472656,30.458900451660156,30.434999465942383,30.434999465942383,30.434999465942383,30.431499481201172,30.434999465942383,30.454999923706055,30.44499969482422,30.454999923706055,30.462299346923828,30.46500015258789,30.479999542236328,30.485000610351562,30.462200164794922,30.466999053955078,30.45989990234375,30.469999313354492,30.47260093688965,30.485000610351562,30.485000610351562,30.50510025024414,30.50200080871582,30.493000030517578,30.48189926147461,30.485000610351562,30.469999313354492,30.475000381469727,30.469999313354492,30.485000610351562,30.5049991607666,30.50749969482422,30.479999542236328,30.459999084472656,30.459999084472656,30.475000381469727,30.485000610351562,30.5049991607666,30.50029945373535,30.5,30.5,30.49449920654297,30.485000610351562,30.479999542236328,30.485000610351562,30.489999771118164,30.4950008392334,30.48310089111328,30.4950008392334,30.490100860595703,30.524999618530273,30.53499984741211,30.55500030517578,30.522899627685547,30.540000915527344,30.540000915527344,30.454999923706055,30.440000534057617,30.415000915527344,30.40999984741211,30.395000457763672,30.420000076293945],\"yaxis\":\"y\",\"type\":\"scattergl\"}],                        {\"template\":{\"data\":{\"histogram2dcontour\":[{\"type\":\"histogram2dcontour\",\"colorbar\":{\"outlinewidth\":0,\"ticks\":\"\"},\"colorscale\":[[0.0,\"#0d0887\"],[0.1111111111111111,\"#46039f\"],[0.2222222222222222,\"#7201a8\"],[0.3333333333333333,\"#9c179e\"],[0.4444444444444444,\"#bd3786\"],[0.5555555555555556,\"#d8576b\"],[0.6666666666666666,\"#ed7953\"],[0.7777777777777778,\"#fb9f3a\"],[0.8888888888888888,\"#fdca26\"],[1.0,\"#f0f921\"]]}],\"choropleth\":[{\"type\":\"choropleth\",\"colorbar\":{\"outlinewidth\":0,\"ticks\":\"\"}}],\"histogram2d\":[{\"type\":\"histogram2d\",\"colorbar\":{\"outlinewidth\":0,\"ticks\":\"\"},\"colorscale\":[[0.0,\"#0d0887\"],[0.1111111111111111,\"#46039f\"],[0.2222222222222222,\"#7201a8\"],[0.3333333333333333,\"#9c179e\"],[0.4444444444444444,\"#bd3786\"],[0.5555555555555556,\"#d8576b\"],[0.6666666666666666,\"#ed7953\"],[0.7777777777777778,\"#fb9f3a\"],[0.8888888888888888,\"#fdca26\"],[1.0,\"#f0f921\"]]}],\"heatmap\":[{\"type\":\"heatmap\",\"colorbar\":{\"outlinewidth\":0,\"ticks\":\"\"},\"colorscale\":[[0.0,\"#0d0887\"],[0.1111111111111111,\"#46039f\"],[0.2222222222222222,\"#7201a8\"],[0.3333333333333333,\"#9c179e\"],[0.4444444444444444,\"#bd3786\"],[0.5555555555555556,\"#d8576b\"],[0.6666666666666666,\"#ed7953\"],[0.7777777777777778,\"#fb9f3a\"],[0.8888888888888888,\"#fdca26\"],[1.0,\"#f0f921\"]]}],\"heatmapgl\":[{\"type\":\"heatmapgl\",\"colorbar\":{\"outlinewidth\":0,\"ticks\":\"\"},\"colorscale\":[[0.0,\"#0d0887\"],[0.1111111111111111,\"#46039f\"],[0.2222222222222222,\"#7201a8\"],[0.3333333333333333,\"#9c179e\"],[0.4444444444444444,\"#bd3786\"],[0.5555555555555556,\"#d8576b\"],[0.6666666666666666,\"#ed7953\"],[0.7777777777777778,\"#fb9f3a\"],[0.8888888888888888,\"#fdca26\"],[1.0,\"#f0f921\"]]}],\"contourcarpet\":[{\"type\":\"contourcarpet\",\"colorbar\":{\"outlinewidth\":0,\"ticks\":\"\"}}],\"contour\":[{\"type\":\"contour\",\"colorbar\":{\"outlinewidth\":0,\"ticks\":\"\"},\"colorscale\":[[0.0,\"#0d0887\"],[0.1111111111111111,\"#46039f\"],[0.2222222222222222,\"#7201a8\"],[0.3333333333333333,\"#9c179e\"],[0.4444444444444444,\"#bd3786\"],[0.5555555555555556,\"#d8576b\"],[0.6666666666666666,\"#ed7953\"],[0.7777777777777778,\"#fb9f3a\"],[0.8888888888888888,\"#fdca26\"],[1.0,\"#f0f921\"]]}],\"surface\":[{\"type\":\"surface\",\"colorbar\":{\"outlinewidth\":0,\"ticks\":\"\"},\"colorscale\":[[0.0,\"#0d0887\"],[0.1111111111111111,\"#46039f\"],[0.2222222222222222,\"#7201a8\"],[0.3333333333333333,\"#9c179e\"],[0.4444444444444444,\"#bd3786\"],[0.5555555555555556,\"#d8576b\"],[0.6666666666666666,\"#ed7953\"],[0.7777777777777778,\"#fb9f3a\"],[0.8888888888888888,\"#fdca26\"],[1.0,\"#f0f921\"]]}],\"mesh3d\":[{\"type\":\"mesh3d\",\"colorbar\":{\"outlinewidth\":0,\"ticks\":\"\"}}],\"scatter\":[{\"fillpattern\":{\"fillmode\":\"overlay\",\"size\":10,\"solidity\":0.2},\"type\":\"scatter\"}],\"parcoords\":[{\"type\":\"parcoords\",\"line\":{\"colorbar\":{\"outlinewidth\":0,\"ticks\":\"\"}}}],\"scatterpolargl\":[{\"type\":\"scatterpolargl\",\"marker\":{\"colorbar\":{\"outlinewidth\":0,\"ticks\":\"\"}}}],\"bar\":[{\"error_x\":{\"color\":\"#2a3f5f\"},\"error_y\":{\"color\":\"#2a3f5f\"},\"marker\":{\"line\":{\"color\":\"#E5ECF6\",\"width\":0.5},\"pattern\":{\"fillmode\":\"overlay\",\"size\":10,\"solidity\":0.2}},\"type\":\"bar\"}],\"scattergeo\":[{\"type\":\"scattergeo\",\"marker\":{\"colorbar\":{\"outlinewidth\":0,\"ticks\":\"\"}}}],\"scatterpolar\":[{\"type\":\"scatterpolar\",\"marker\":{\"colorbar\":{\"outlinewidth\":0,\"ticks\":\"\"}}}],\"histogram\":[{\"marker\":{\"pattern\":{\"fillmode\":\"overlay\",\"size\":10,\"solidity\":0.2}},\"type\":\"histogram\"}],\"scattergl\":[{\"type\":\"scattergl\",\"marker\":{\"colorbar\":{\"outlinewidth\":0,\"ticks\":\"\"}}}],\"scatter3d\":[{\"type\":\"scatter3d\",\"line\":{\"colorbar\":{\"outlinewidth\":0,\"ticks\":\"\"}},\"marker\":{\"colorbar\":{\"outlinewidth\":0,\"ticks\":\"\"}}}],\"scattermapbox\":[{\"type\":\"scattermapbox\",\"marker\":{\"colorbar\":{\"outlinewidth\":0,\"ticks\":\"\"}}}],\"scatterternary\":[{\"type\":\"scatterternary\",\"marker\":{\"colorbar\":{\"outlinewidth\":0,\"ticks\":\"\"}}}],\"scattercarpet\":[{\"type\":\"scattercarpet\",\"marker\":{\"colorbar\":{\"outlinewidth\":0,\"ticks\":\"\"}}}],\"carpet\":[{\"aaxis\":{\"endlinecolor\":\"#2a3f5f\",\"gridcolor\":\"white\",\"linecolor\":\"white\",\"minorgridcolor\":\"white\",\"startlinecolor\":\"#2a3f5f\"},\"baxis\":{\"endlinecolor\":\"#2a3f5f\",\"gridcolor\":\"white\",\"linecolor\":\"white\",\"minorgridcolor\":\"white\",\"startlinecolor\":\"#2a3f5f\"},\"type\":\"carpet\"}],\"table\":[{\"cells\":{\"fill\":{\"color\":\"#EBF0F8\"},\"line\":{\"color\":\"white\"}},\"header\":{\"fill\":{\"color\":\"#C8D4E3\"},\"line\":{\"color\":\"white\"}},\"type\":\"table\"}],\"barpolar\":[{\"marker\":{\"line\":{\"color\":\"#E5ECF6\",\"width\":0.5},\"pattern\":{\"fillmode\":\"overlay\",\"size\":10,\"solidity\":0.2}},\"type\":\"barpolar\"}],\"pie\":[{\"automargin\":true,\"type\":\"pie\"}]},\"layout\":{\"autotypenumbers\":\"strict\",\"colorway\":[\"#636efa\",\"#EF553B\",\"#00cc96\",\"#ab63fa\",\"#FFA15A\",\"#19d3f3\",\"#FF6692\",\"#B6E880\",\"#FF97FF\",\"#FECB52\"],\"font\":{\"color\":\"#2a3f5f\"},\"hovermode\":\"closest\",\"hoverlabel\":{\"align\":\"left\"},\"paper_bgcolor\":\"white\",\"plot_bgcolor\":\"#E5ECF6\",\"polar\":{\"bgcolor\":\"#E5ECF6\",\"angularaxis\":{\"gridcolor\":\"white\",\"linecolor\":\"white\",\"ticks\":\"\"},\"radialaxis\":{\"gridcolor\":\"white\",\"linecolor\":\"white\",\"ticks\":\"\"}},\"ternary\":{\"bgcolor\":\"#E5ECF6\",\"aaxis\":{\"gridcolor\":\"white\",\"linecolor\":\"white\",\"ticks\":\"\"},\"baxis\":{\"gridcolor\":\"white\",\"linecolor\":\"white\",\"ticks\":\"\"},\"caxis\":{\"gridcolor\":\"white\",\"linecolor\":\"white\",\"ticks\":\"\"}},\"coloraxis\":{\"colorbar\":{\"outlinewidth\":0,\"ticks\":\"\"}},\"colorscale\":{\"sequential\":[[0.0,\"#0d0887\"],[0.1111111111111111,\"#46039f\"],[0.2222222222222222,\"#7201a8\"],[0.3333333333333333,\"#9c179e\"],[0.4444444444444444,\"#bd3786\"],[0.5555555555555556,\"#d8576b\"],[0.6666666666666666,\"#ed7953\"],[0.7777777777777778,\"#fb9f3a\"],[0.8888888888888888,\"#fdca26\"],[1.0,\"#f0f921\"]],\"sequentialminus\":[[0.0,\"#0d0887\"],[0.1111111111111111,\"#46039f\"],[0.2222222222222222,\"#7201a8\"],[0.3333333333333333,\"#9c179e\"],[0.4444444444444444,\"#bd3786\"],[0.5555555555555556,\"#d8576b\"],[0.6666666666666666,\"#ed7953\"],[0.7777777777777778,\"#fb9f3a\"],[0.8888888888888888,\"#fdca26\"],[1.0,\"#f0f921\"]],\"diverging\":[[0,\"#8e0152\"],[0.1,\"#c51b7d\"],[0.2,\"#de77ae\"],[0.3,\"#f1b6da\"],[0.4,\"#fde0ef\"],[0.5,\"#f7f7f7\"],[0.6,\"#e6f5d0\"],[0.7,\"#b8e186\"],[0.8,\"#7fbc41\"],[0.9,\"#4d9221\"],[1,\"#276419\"]]},\"xaxis\":{\"gridcolor\":\"white\",\"linecolor\":\"white\",\"ticks\":\"\",\"title\":{\"standoff\":15},\"zerolinecolor\":\"white\",\"automargin\":true,\"zerolinewidth\":2},\"yaxis\":{\"gridcolor\":\"white\",\"linecolor\":\"white\",\"ticks\":\"\",\"title\":{\"standoff\":15},\"zerolinecolor\":\"white\",\"automargin\":true,\"zerolinewidth\":2},\"scene\":{\"xaxis\":{\"backgroundcolor\":\"#E5ECF6\",\"gridcolor\":\"white\",\"linecolor\":\"white\",\"showbackground\":true,\"ticks\":\"\",\"zerolinecolor\":\"white\",\"gridwidth\":2},\"yaxis\":{\"backgroundcolor\":\"#E5ECF6\",\"gridcolor\":\"white\",\"linecolor\":\"white\",\"showbackground\":true,\"ticks\":\"\",\"zerolinecolor\":\"white\",\"gridwidth\":2},\"zaxis\":{\"backgroundcolor\":\"#E5ECF6\",\"gridcolor\":\"white\",\"linecolor\":\"white\",\"showbackground\":true,\"ticks\":\"\",\"zerolinecolor\":\"white\",\"gridwidth\":2}},\"shapedefaults\":{\"line\":{\"color\":\"#2a3f5f\"}},\"annotationdefaults\":{\"arrowcolor\":\"#2a3f5f\",\"arrowhead\":0,\"arrowwidth\":1},\"geo\":{\"bgcolor\":\"white\",\"landcolor\":\"#E5ECF6\",\"subunitcolor\":\"white\",\"showland\":true,\"showlakes\":true,\"lakecolor\":\"white\"},\"title\":{\"x\":0.05},\"mapbox\":{\"style\":\"light\"}}},\"xaxis\":{\"anchor\":\"y\",\"domain\":[0.0,1.0],\"title\":{\"text\":\"Datetime\"}},\"yaxis\":{\"anchor\":\"x\",\"domain\":[0.0,1.0],\"title\":{\"text\":\"value\"}},\"legend\":{\"title\":{\"text\":\"variable\"},\"tracegroupgap\":0},\"title\":{\"text\":\"INTC Stock Prices w/ Bollinger Bands\"}},                        {\"responsive\": true}                    ).then(function(){\n",
       "                            \n",
       "var gd = document.getElementById('98f4e375-9513-4375-8435-482a676d0dbb');\n",
       "var x = new MutationObserver(function (mutations, observer) {{\n",
       "        var display = window.getComputedStyle(gd).display;\n",
       "        if (!display || display === 'none') {{\n",
       "            console.log([gd, 'removed!']);\n",
       "            Plotly.purge(gd);\n",
       "            observer.disconnect();\n",
       "        }}\n",
       "}});\n",
       "\n",
       "// Listen for the removal of the full notebook cells\n",
       "var notebookContainer = gd.closest('#notebook-container');\n",
       "if (notebookContainer) {{\n",
       "    x.observe(notebookContainer, {childList: true});\n",
       "}}\n",
       "\n",
       "// Listen for the clearing of the current output cell\n",
       "var outputEl = gd.closest('.output');\n",
       "if (outputEl) {{\n",
       "    x.observe(outputEl, {childList: true});\n",
       "}}\n",
       "\n",
       "                        })                };                });            </script>        </div>"
      ]
     },
     "metadata": {},
     "output_type": "display_data"
    },
    {
     "data": {
      "application/vnd.plotly.v1+json": {
       "config": {
        "plotlyServerURL": "https://plot.ly"
       },
       "data": [
        {
         "hovertemplate": "variable=EMA_24<br>Datetime=%{x}<br>value=%{y}<extra></extra>",
         "legendgroup": "EMA_24",
         "line": {
          "color": "#38b9ff",
          "dash": "solid"
         },
         "marker": {
          "symbol": "circle"
         },
         "mode": "lines",
         "name": "EMA_24",
         "orientation": "v",
         "showlegend": true,
         "type": "scatter",
         "x": [
          "2024-06-06T09:30:00-04:00",
          "2024-06-06T09:31:00-04:00",
          "2024-06-06T09:32:00-04:00",
          "2024-06-06T09:33:00-04:00",
          "2024-06-06T09:34:00-04:00",
          "2024-06-06T09:35:00-04:00",
          "2024-06-06T09:36:00-04:00",
          "2024-06-06T09:37:00-04:00",
          "2024-06-06T09:38:00-04:00",
          "2024-06-06T09:39:00-04:00",
          "2024-06-06T09:40:00-04:00",
          "2024-06-06T09:41:00-04:00",
          "2024-06-06T09:42:00-04:00",
          "2024-06-06T09:43:00-04:00",
          "2024-06-06T09:44:00-04:00",
          "2024-06-06T09:45:00-04:00",
          "2024-06-06T09:46:00-04:00",
          "2024-06-06T09:47:00-04:00",
          "2024-06-06T09:48:00-04:00",
          "2024-06-06T09:49:00-04:00",
          "2024-06-06T09:50:00-04:00",
          "2024-06-06T09:51:00-04:00",
          "2024-06-06T09:52:00-04:00",
          "2024-06-06T09:53:00-04:00",
          "2024-06-06T09:54:00-04:00",
          "2024-06-06T09:55:00-04:00",
          "2024-06-06T09:56:00-04:00",
          "2024-06-06T09:57:00-04:00",
          "2024-06-06T09:58:00-04:00",
          "2024-06-06T09:59:00-04:00",
          "2024-06-06T10:00:00-04:00",
          "2024-06-06T10:01:00-04:00",
          "2024-06-06T10:02:00-04:00",
          "2024-06-06T10:03:00-04:00",
          "2024-06-06T10:04:00-04:00",
          "2024-06-06T10:05:00-04:00",
          "2024-06-06T10:06:00-04:00",
          "2024-06-06T10:07:00-04:00",
          "2024-06-06T10:08:00-04:00",
          "2024-06-06T10:09:00-04:00",
          "2024-06-06T10:10:00-04:00",
          "2024-06-06T10:11:00-04:00",
          "2024-06-06T10:12:00-04:00",
          "2024-06-06T10:13:00-04:00",
          "2024-06-06T10:14:00-04:00",
          "2024-06-06T10:15:00-04:00",
          "2024-06-06T10:16:00-04:00",
          "2024-06-06T10:17:00-04:00",
          "2024-06-06T10:18:00-04:00",
          "2024-06-06T10:19:00-04:00",
          "2024-06-06T10:20:00-04:00",
          "2024-06-06T10:21:00-04:00",
          "2024-06-06T10:22:00-04:00",
          "2024-06-06T10:23:00-04:00",
          "2024-06-06T10:24:00-04:00",
          "2024-06-06T10:25:00-04:00",
          "2024-06-06T10:26:00-04:00",
          "2024-06-06T10:27:00-04:00",
          "2024-06-06T10:28:00-04:00",
          "2024-06-06T10:29:00-04:00",
          "2024-06-06T10:30:00-04:00",
          "2024-06-06T10:31:00-04:00",
          "2024-06-06T10:32:00-04:00",
          "2024-06-06T10:33:00-04:00",
          "2024-06-06T10:34:00-04:00",
          "2024-06-06T10:35:00-04:00",
          "2024-06-06T10:36:00-04:00",
          "2024-06-06T10:37:00-04:00",
          "2024-06-06T10:38:00-04:00",
          "2024-06-06T10:39:00-04:00",
          "2024-06-06T10:40:00-04:00",
          "2024-06-06T10:41:00-04:00",
          "2024-06-06T10:42:00-04:00",
          "2024-06-06T10:43:00-04:00",
          "2024-06-06T10:44:00-04:00",
          "2024-06-06T10:45:00-04:00",
          "2024-06-06T10:46:00-04:00",
          "2024-06-06T10:47:00-04:00",
          "2024-06-06T10:48:00-04:00",
          "2024-06-06T10:49:00-04:00",
          "2024-06-06T10:50:00-04:00",
          "2024-06-06T10:51:00-04:00",
          "2024-06-06T10:52:00-04:00",
          "2024-06-06T10:53:00-04:00",
          "2024-06-06T10:54:00-04:00",
          "2024-06-06T10:55:00-04:00",
          "2024-06-06T10:56:00-04:00",
          "2024-06-06T10:57:00-04:00",
          "2024-06-06T10:58:00-04:00",
          "2024-06-06T10:59:00-04:00",
          "2024-06-06T11:00:00-04:00",
          "2024-06-06T11:01:00-04:00",
          "2024-06-06T11:02:00-04:00",
          "2024-06-06T11:03:00-04:00",
          "2024-06-06T11:04:00-04:00",
          "2024-06-06T11:05:00-04:00",
          "2024-06-06T11:06:00-04:00",
          "2024-06-06T11:07:00-04:00",
          "2024-06-06T11:08:00-04:00",
          "2024-06-06T11:09:00-04:00",
          "2024-06-06T11:10:00-04:00",
          "2024-06-06T11:11:00-04:00",
          "2024-06-06T11:12:00-04:00",
          "2024-06-06T11:13:00-04:00",
          "2024-06-06T11:14:00-04:00",
          "2024-06-06T11:15:00-04:00",
          "2024-06-06T11:16:00-04:00",
          "2024-06-06T11:17:00-04:00",
          "2024-06-06T11:18:00-04:00",
          "2024-06-06T11:19:00-04:00",
          "2024-06-06T11:20:00-04:00",
          "2024-06-06T11:21:00-04:00",
          "2024-06-06T11:22:00-04:00",
          "2024-06-06T11:23:00-04:00",
          "2024-06-06T11:24:00-04:00",
          "2024-06-06T11:25:00-04:00",
          "2024-06-06T11:26:00-04:00",
          "2024-06-06T11:27:00-04:00",
          "2024-06-06T11:28:00-04:00",
          "2024-06-06T11:29:00-04:00",
          "2024-06-06T11:30:00-04:00",
          "2024-06-06T11:31:00-04:00",
          "2024-06-06T11:32:00-04:00",
          "2024-06-06T11:33:00-04:00",
          "2024-06-06T11:34:00-04:00",
          "2024-06-06T11:35:00-04:00",
          "2024-06-06T11:36:00-04:00",
          "2024-06-06T11:37:00-04:00",
          "2024-06-06T11:38:00-04:00",
          "2024-06-06T11:39:00-04:00",
          "2024-06-06T11:40:00-04:00",
          "2024-06-06T11:41:00-04:00",
          "2024-06-06T11:42:00-04:00",
          "2024-06-06T11:43:00-04:00",
          "2024-06-06T11:44:00-04:00",
          "2024-06-06T11:45:00-04:00",
          "2024-06-06T11:46:00-04:00",
          "2024-06-06T11:47:00-04:00",
          "2024-06-06T11:48:00-04:00",
          "2024-06-06T11:49:00-04:00",
          "2024-06-06T11:50:00-04:00",
          "2024-06-06T11:51:00-04:00",
          "2024-06-06T11:52:00-04:00",
          "2024-06-06T11:53:00-04:00",
          "2024-06-06T11:54:00-04:00",
          "2024-06-06T11:55:00-04:00",
          "2024-06-06T11:56:00-04:00",
          "2024-06-06T11:57:00-04:00",
          "2024-06-06T11:58:00-04:00",
          "2024-06-06T11:59:00-04:00",
          "2024-06-06T12:00:00-04:00",
          "2024-06-06T12:01:00-04:00",
          "2024-06-06T12:02:00-04:00",
          "2024-06-06T12:03:00-04:00",
          "2024-06-06T12:04:00-04:00",
          "2024-06-06T12:05:00-04:00",
          "2024-06-06T12:06:00-04:00",
          "2024-06-06T12:07:00-04:00",
          "2024-06-06T12:08:00-04:00",
          "2024-06-06T12:09:00-04:00",
          "2024-06-06T12:10:00-04:00",
          "2024-06-06T12:11:00-04:00",
          "2024-06-06T12:12:00-04:00",
          "2024-06-06T12:13:00-04:00",
          "2024-06-06T12:14:00-04:00",
          "2024-06-06T12:15:00-04:00",
          "2024-06-06T12:16:00-04:00",
          "2024-06-06T12:17:00-04:00",
          "2024-06-06T12:18:00-04:00",
          "2024-06-06T12:19:00-04:00",
          "2024-06-06T12:20:00-04:00",
          "2024-06-06T12:21:00-04:00",
          "2024-06-06T12:22:00-04:00",
          "2024-06-06T12:23:00-04:00",
          "2024-06-06T12:24:00-04:00",
          "2024-06-06T12:25:00-04:00",
          "2024-06-06T12:26:00-04:00",
          "2024-06-06T12:27:00-04:00",
          "2024-06-06T12:28:00-04:00",
          "2024-06-06T12:29:00-04:00",
          "2024-06-06T12:30:00-04:00",
          "2024-06-06T12:31:00-04:00",
          "2024-06-06T12:32:00-04:00",
          "2024-06-06T12:33:00-04:00",
          "2024-06-06T12:34:00-04:00",
          "2024-06-06T12:35:00-04:00",
          "2024-06-06T12:36:00-04:00",
          "2024-06-06T12:37:00-04:00",
          "2024-06-06T12:38:00-04:00",
          "2024-06-06T12:39:00-04:00",
          "2024-06-06T12:40:00-04:00",
          "2024-06-06T12:41:00-04:00",
          "2024-06-06T12:42:00-04:00",
          "2024-06-06T12:43:00-04:00",
          "2024-06-06T12:44:00-04:00",
          "2024-06-06T12:45:00-04:00",
          "2024-06-06T12:46:00-04:00",
          "2024-06-06T12:47:00-04:00",
          "2024-06-06T12:48:00-04:00",
          "2024-06-06T12:49:00-04:00",
          "2024-06-06T12:50:00-04:00",
          "2024-06-06T12:51:00-04:00",
          "2024-06-06T12:52:00-04:00",
          "2024-06-06T12:53:00-04:00",
          "2024-06-06T12:54:00-04:00",
          "2024-06-06T12:55:00-04:00",
          "2024-06-06T12:56:00-04:00",
          "2024-06-06T12:57:00-04:00",
          "2024-06-06T12:58:00-04:00",
          "2024-06-06T12:59:00-04:00",
          "2024-06-06T13:00:00-04:00",
          "2024-06-06T13:01:00-04:00",
          "2024-06-06T13:02:00-04:00",
          "2024-06-06T13:03:00-04:00",
          "2024-06-06T13:04:00-04:00",
          "2024-06-06T13:05:00-04:00",
          "2024-06-06T13:06:00-04:00",
          "2024-06-06T13:07:00-04:00",
          "2024-06-06T13:08:00-04:00",
          "2024-06-06T13:09:00-04:00",
          "2024-06-06T13:10:00-04:00",
          "2024-06-06T13:11:00-04:00",
          "2024-06-06T13:12:00-04:00",
          "2024-06-06T13:13:00-04:00",
          "2024-06-06T13:14:00-04:00",
          "2024-06-06T13:15:00-04:00",
          "2024-06-06T13:16:00-04:00",
          "2024-06-06T13:17:00-04:00",
          "2024-06-06T13:18:00-04:00",
          "2024-06-06T13:19:00-04:00",
          "2024-06-06T13:20:00-04:00",
          "2024-06-06T13:21:00-04:00",
          "2024-06-06T13:22:00-04:00",
          "2024-06-06T13:23:00-04:00",
          "2024-06-06T13:24:00-04:00",
          "2024-06-06T13:25:00-04:00",
          "2024-06-06T13:26:00-04:00",
          "2024-06-06T13:27:00-04:00",
          "2024-06-06T13:28:00-04:00",
          "2024-06-06T13:29:00-04:00",
          "2024-06-06T13:30:00-04:00",
          "2024-06-06T13:31:00-04:00",
          "2024-06-06T13:32:00-04:00",
          "2024-06-06T13:33:00-04:00",
          "2024-06-06T13:34:00-04:00",
          "2024-06-06T13:35:00-04:00",
          "2024-06-06T13:36:00-04:00",
          "2024-06-06T13:37:00-04:00",
          "2024-06-06T13:38:00-04:00",
          "2024-06-06T13:39:00-04:00",
          "2024-06-06T13:40:00-04:00",
          "2024-06-06T13:41:00-04:00",
          "2024-06-06T13:42:00-04:00",
          "2024-06-06T13:43:00-04:00",
          "2024-06-06T13:44:00-04:00",
          "2024-06-06T13:45:00-04:00",
          "2024-06-06T13:46:00-04:00",
          "2024-06-06T13:47:00-04:00",
          "2024-06-06T13:48:00-04:00",
          "2024-06-06T13:49:00-04:00",
          "2024-06-06T13:50:00-04:00",
          "2024-06-06T13:51:00-04:00",
          "2024-06-06T13:52:00-04:00",
          "2024-06-06T13:53:00-04:00",
          "2024-06-06T13:54:00-04:00",
          "2024-06-06T13:55:00-04:00",
          "2024-06-06T13:56:00-04:00",
          "2024-06-06T13:57:00-04:00",
          "2024-06-06T13:58:00-04:00",
          "2024-06-06T13:59:00-04:00",
          "2024-06-06T14:00:00-04:00",
          "2024-06-06T14:01:00-04:00",
          "2024-06-06T14:02:00-04:00",
          "2024-06-06T14:03:00-04:00",
          "2024-06-06T14:04:00-04:00",
          "2024-06-06T14:05:00-04:00",
          "2024-06-06T14:06:00-04:00",
          "2024-06-06T14:07:00-04:00",
          "2024-06-06T14:08:00-04:00",
          "2024-06-06T14:09:00-04:00",
          "2024-06-06T14:10:00-04:00",
          "2024-06-06T14:11:00-04:00",
          "2024-06-06T14:12:00-04:00",
          "2024-06-06T14:13:00-04:00",
          "2024-06-06T14:14:00-04:00",
          "2024-06-06T14:15:00-04:00",
          "2024-06-06T14:16:00-04:00",
          "2024-06-06T14:17:00-04:00",
          "2024-06-06T14:18:00-04:00",
          "2024-06-06T14:19:00-04:00",
          "2024-06-06T14:20:00-04:00",
          "2024-06-06T14:21:00-04:00",
          "2024-06-06T14:22:00-04:00",
          "2024-06-06T14:23:00-04:00",
          "2024-06-06T14:24:00-04:00",
          "2024-06-06T14:25:00-04:00",
          "2024-06-06T14:26:00-04:00",
          "2024-06-06T14:27:00-04:00",
          "2024-06-06T14:28:00-04:00",
          "2024-06-06T14:29:00-04:00",
          "2024-06-06T14:30:00-04:00",
          "2024-06-06T14:31:00-04:00",
          "2024-06-06T14:32:00-04:00",
          "2024-06-06T14:33:00-04:00",
          "2024-06-06T14:34:00-04:00",
          "2024-06-06T14:35:00-04:00",
          "2024-06-06T14:36:00-04:00",
          "2024-06-06T14:37:00-04:00",
          "2024-06-06T14:38:00-04:00",
          "2024-06-06T14:39:00-04:00",
          "2024-06-06T14:40:00-04:00",
          "2024-06-06T14:41:00-04:00",
          "2024-06-06T14:42:00-04:00",
          "2024-06-06T14:43:00-04:00",
          "2024-06-06T14:44:00-04:00",
          "2024-06-06T14:45:00-04:00",
          "2024-06-06T14:46:00-04:00",
          "2024-06-06T14:47:00-04:00",
          "2024-06-06T14:48:00-04:00",
          "2024-06-06T14:49:00-04:00",
          "2024-06-06T14:50:00-04:00",
          "2024-06-06T14:51:00-04:00",
          "2024-06-06T14:52:00-04:00",
          "2024-06-06T14:53:00-04:00",
          "2024-06-06T14:54:00-04:00",
          "2024-06-06T14:55:00-04:00",
          "2024-06-06T14:56:00-04:00",
          "2024-06-06T14:57:00-04:00",
          "2024-06-06T14:58:00-04:00",
          "2024-06-06T14:59:00-04:00",
          "2024-06-06T15:00:00-04:00",
          "2024-06-06T15:01:00-04:00",
          "2024-06-06T15:02:00-04:00",
          "2024-06-06T15:03:00-04:00",
          "2024-06-06T15:04:00-04:00",
          "2024-06-06T15:05:00-04:00",
          "2024-06-06T15:06:00-04:00",
          "2024-06-06T15:07:00-04:00",
          "2024-06-06T15:08:00-04:00",
          "2024-06-06T15:09:00-04:00",
          "2024-06-06T15:10:00-04:00",
          "2024-06-06T15:11:00-04:00",
          "2024-06-06T15:12:00-04:00",
          "2024-06-06T15:13:00-04:00",
          "2024-06-06T15:14:00-04:00",
          "2024-06-06T15:15:00-04:00",
          "2024-06-06T15:16:00-04:00",
          "2024-06-06T15:17:00-04:00",
          "2024-06-06T15:18:00-04:00",
          "2024-06-06T15:19:00-04:00",
          "2024-06-06T15:20:00-04:00",
          "2024-06-06T15:21:00-04:00",
          "2024-06-06T15:22:00-04:00",
          "2024-06-06T15:23:00-04:00",
          "2024-06-06T15:24:00-04:00",
          "2024-06-06T15:25:00-04:00",
          "2024-06-06T15:26:00-04:00",
          "2024-06-06T15:27:00-04:00",
          "2024-06-06T15:28:00-04:00",
          "2024-06-06T15:29:00-04:00",
          "2024-06-06T15:30:00-04:00",
          "2024-06-06T15:31:00-04:00",
          "2024-06-06T15:32:00-04:00",
          "2024-06-06T15:33:00-04:00",
          "2024-06-06T15:34:00-04:00",
          "2024-06-06T15:35:00-04:00",
          "2024-06-06T15:36:00-04:00",
          "2024-06-06T15:37:00-04:00",
          "2024-06-06T15:38:00-04:00",
          "2024-06-06T15:39:00-04:00",
          "2024-06-06T15:40:00-04:00",
          "2024-06-06T15:41:00-04:00",
          "2024-06-06T15:42:00-04:00",
          "2024-06-06T15:43:00-04:00",
          "2024-06-06T15:44:00-04:00",
          "2024-06-06T15:45:00-04:00",
          "2024-06-06T15:46:00-04:00",
          "2024-06-06T15:47:00-04:00",
          "2024-06-06T15:48:00-04:00",
          "2024-06-06T15:49:00-04:00",
          "2024-06-06T15:50:00-04:00",
          "2024-06-06T15:51:00-04:00",
          "2024-06-06T15:52:00-04:00",
          "2024-06-06T15:53:00-04:00",
          "2024-06-06T15:54:00-04:00",
          "2024-06-06T15:55:00-04:00",
          "2024-06-06T15:56:00-04:00",
          "2024-06-06T15:57:00-04:00",
          "2024-06-06T15:58:00-04:00",
          "2024-06-06T15:59:00-04:00"
         ],
         "xaxis": "x",
         "y": [
          30.43000030517578,
          30.43000030517578,
          30.426666259765625,
          30.448749542236328,
          30.457839721679687,
          30.422632146764688,
          30.35927405249266,
          30.32801027689129,
          30.320769212189177,
          30.316348902988288,
          30.311959665449713,
          30.30290045092163,
          30.29602251628775,
          30.292785984305127,
          30.29091402545089,
          30.29057633107626,
          30.290138983050042,
          30.29688980357769,
          30.300595341482197,
          30.307031834593793,
          30.310817631932334,
          30.307566069496673,
          30.305171791097372,
          30.302879786136433,
          30.301335278299554,
          30.29935240657921,
          30.307887254030174,
          30.309368663962225,
          30.295573348086016,
          30.27562295303376,
          30.2802871529284,
          30.289136805659123,
          30.287081573484407,
          30.285852730419222,
          30.282410078142036,
          30.28445505241937,
          30.28801823683569,
          30.28896092026728,
          30.290022665702132,
          30.290393786119584,
          30.299127541428263,
          30.29558320426154,
          30.297467795645947,
          30.29284272708343,
          30.282352647186173,
          30.283824157157657,
          30.282794434235154,
          30.280446983884367,
          30.28019068675049,
          30.282658526719388,
          30.278269411912362,
          30.279700759778578,
          30.278484435072457,
          30.280053906325236,
          30.28214975504056,
          30.279966743937365,
          30.284949013968635,
          30.28804609783729,
          30.290340500509902,
          30.29123743832782,
          30.29311085938591,
          30.2957858801435,
          30.301954898419538,
          30.3051090925156,
          30.307914154497563,
          30.31017745594437,
          30.31445502399292,
          30.320662413488865,
          30.326236998181933,
          30.32606409727932,
          30.32369407894402,
          30.325246784790593,
          30.32703511695852,
          30.333335662349285,
          30.339344816093117,
          30.34718159125397,
          30.355521506681878,
          30.362123691629503,
          30.364419187579987,
          30.363888493350277,
          30.366585190729896,
          30.37137070360433,
          30.373412796843347,
          30.377595223093966,
          30.377511586307648,
          30.382149624366996,
          30.381566531162033,
          30.381173771110202,
          30.382450922001773,
          30.377054078963173,
          30.373244183062745,
          30.36714692390716,
          30.360023359432073,
          30.353345699053797,
          30.348829914727165,
          30.339247351389567,
          30.335805691598797,
          30.335214165359353,
          30.331237499652083,
          30.32888974996852,
          30.33053867493051,
          30.32737438916793,
          30.32936955802529,
          30.328896073357225,
          30.327373221508438,
          30.322463060831076,
          30.321990297583064,
          30.32478290264949,
          30.32762779327805,
          30.326589985940135,
          30.324959165939887,
          30.32951423102018,
          30.32762184481324,
          30.325756610608998,
          30.326530931037816,
          30.328946066126182,
          30.330878631308725,
          30.33333262852602,
          30.33434656067749,
          30.340274584722387,
          30.348180836762527,
          30.351933654712635,
          30.35995836287734,
          30.364925540194175,
          30.366044727216426,
          30.365628750025643,
          30.36565384656684,
          30.369885393209348,
          30.373210853869125,
          30.37790587546781,
          30.382901074755285,
          30.385368891466925,
          30.391615411295408,
          30.395486221116386,
          30.402826711761758,
          30.406200550406755,
          30.40875268360467,
          30.410514665399674,
          30.414963045211678,
          30.41724199611949,
          30.417734706742433,
          30.422725029132273,
          30.425337116619914,
          30.42903433125255,
          30.43143283609615,
          30.437424444084087,
          30.43703261527623,
          30.43608843606894,
          30.43502196064171,
          30.439399152554188,
          30.445040682869102,
          30.446778102651503,
          30.44543741664748,
          30.44540239890162,
          30.446055309706008,
          30.449212792265186,
          30.444856113475083,
          30.441951460454387,
          30.437395361928584,
          30.434555567950873,
          30.428687525803834,
          30.427744309887988,
          30.42337289960279,
          30.42033524212636,
          30.420676358127743,
          30.420359090533328,
          30.42321268281762,
          30.418803869836733,
          30.41729952973222,
          30.414680024493574,
          30.41095382417861,
          30.410381218715056,
          30.4068746839685,
          30.40364892983434,
          30.40070805062814,
          30.398234805178426,
          30.398081805229147,
          30.39747678843205,
          30.394550919674803,
          30.39124303114378,
          30.386968148943893,
          30.384369368675713,
          30.385611854093767,
          30.38691474074285,
          30.387389294025102,
          30.384798378514798,
          30.386042362149002,
          30.38395902200521,
          30.380252416465613,
          30.380614160150195,
          30.376661375695576,
          30.37855606172264,
          30.379393921699126,
          30.375676402513065,
          30.3735946942293,
          30.373982965246316,
          30.376064297509036,
          30.377659146384097,
          30.381060640078566,
          30.381113367926083,
          30.38339238793639,
          30.38207685800071,
          30.38296461104856,
          30.386298104010976,
          30.392129726335583,
          30.399849568158672,
          30.402895448589845,
          30.407382522170792,
          30.410302355146115,
          30.417097126505574,
          30.419309792528974,
          30.425378483563946,
          30.432045676636328,
          30.437446922865995,
          30.442603034530872,
          30.446829700713828,
          30.451264394715206,
          30.45476331027666,
          30.45771440060816,
          30.465152440724946,
          30.466599552056522,
          30.468496529961918,
          30.468740733694517,
          30.469241505516536,
          30.46997816739292,
          30.47159411499262,
          30.472339719167273,
          30.47444800737557,
          30.474243977348035,
          30.47299945007718,
          30.4707403191918,
          30.46894908647221,
          30.46921259671725,
          30.464201685232204,
          30.466831549760247,
          30.46723657850928,
          30.465530019176423,
          30.464935831493857,
          30.46776859157464,
          30.46755614706756,
          30.466986834287294,
          30.46711700101742,
          30.465958293696005,
          30.463729807430784,
          30.462501864888527,
          30.459479408151072,
          30.45724531880692,
          30.455589631638958,
          30.45486667558764,
          30.455042054059486,
          30.458198019312235,
          30.45966644717869,
          30.461141381877034,
          30.465726126886768,
          30.467502487799848,
          30.468764137241113,
          30.473633869234703,
          30.478543701659294,
          30.47986027266522,
          30.48132577745,
          30.482469101333777,
          30.4826716220552,
          30.481246781242206,
          30.479406375849987,
          30.477977773601,
          30.477958538351878,
          30.478819185175354,
          30.476761778763656,
          30.47682884427506,
          30.47520676952341,
          30.47266596465361,
          30.471804479733297,
          30.469811962434726,
          30.46927439879742,
          30.463180618020566,
          30.458686023575027,
          30.45285876462721,
          30.444754075035814,
          30.43769795130572,
          30.433430245809905,
          30.42763145434117,
          30.42099340904984,
          30.417154136261384,
          30.41323000700499,
          30.41351545802273,
          30.410482398611368,
          30.40789202667752,
          30.40713639513188,
          30.408823702718845,
          30.410631368221157,
          30.40952101021918,
          30.411122821627018,
          30.40972982654972,
          30.406503931101476,
          30.40813542107236,
          30.406408956635893,
          30.40471703350854,
          30.405215390576643,
          30.40330826437192,
          30.40024237132604,
          30.40335547218617,
          30.405762752792803,
          30.40748543537696,
          30.409502946567354,
          30.411818772505384,
          30.416363196181127,
          30.418791762265048,
          30.423606626181225,
          30.4255176321018,
          30.42634228581263,
          30.426358822973665,
          30.42727203393939,
          30.43358674901773,
          30.430520726055157,
          30.429349082659115,
          30.428771366106126,
          30.42975891067161,
          30.429388950415742,
          30.430894611303412,
          30.43244225389943,
          30.433222850149978,
          30.43605296769462,
          30.437416746636472,
          30.44500280134376,
          30.44498275554744,
          30.448060202870575,
          30.449799462568667,
          30.451071517526064,
          30.452861587747694,
          30.456136220817754,
          30.45619518253846,
          30.45533748137415,
          30.44987156958066,
          30.4491412590998,
          30.447054137451232,
          30.446089763730527,
          30.44612653927922,
          30.44603639172282,
          30.44675347428148,
          30.44901119996689,
          30.451601395281426,
          30.45425174539101,
          30.456711654587853,
          30.456772237051233,
          30.461159044328877,
          30.45896316472896,
          30.464834087368775,
          30.46276546712966,
          30.46520665070548,
          30.466087315630592,
          30.468654010168517,
          30.471227129464012,
          30.472292924298948,
          30.47291291965759,
          30.470649033779768,
          30.47059705614575,
          30.47094932217167,
          30.470400198524818,
          30.472041354412436,
          30.477381612252838,
          30.478439242192515,
          30.479915882862052,
          30.479309264602364,
          30.47812954124656,
          30.47990680454713,
          30.480990346260832,
          30.479828919736043,
          30.482115269442783,
          30.482586394705795,
          30.48534470709398,
          30.48642875080585,
          30.487990669728937,
          30.487351379529528,
          30.48988035862597,
          30.489470933543654,
          30.4886966136496,
          30.486748369732585,
          30.48782780320701,
          30.485981793882726,
          30.489779257103876,
          30.492720867079186,
          30.499731076042295,
          30.504287935673155,
          30.50748299268617,
          30.50636699514004,
          30.49955399609326,
          30.49478971913041,
          30.49043446875755,
          30.485351515715944,
          30.480826806579163
         ],
         "yaxis": "y"
        },
        {
         "hovertemplate": "variable=EMA_12<br>Datetime=%{x}<br>value=%{y}<extra></extra>",
         "legendgroup": "EMA_12",
         "line": {
          "color": "#44fcd1",
          "dash": "solid"
         },
         "marker": {
          "symbol": "circle"
         },
         "mode": "lines",
         "name": "EMA_12",
         "orientation": "v",
         "showlegend": true,
         "type": "scatter",
         "x": [
          "2024-06-06T09:30:00-04:00",
          "2024-06-06T09:31:00-04:00",
          "2024-06-06T09:32:00-04:00",
          "2024-06-06T09:33:00-04:00",
          "2024-06-06T09:34:00-04:00",
          "2024-06-06T09:35:00-04:00",
          "2024-06-06T09:36:00-04:00",
          "2024-06-06T09:37:00-04:00",
          "2024-06-06T09:38:00-04:00",
          "2024-06-06T09:39:00-04:00",
          "2024-06-06T09:40:00-04:00",
          "2024-06-06T09:41:00-04:00",
          "2024-06-06T09:42:00-04:00",
          "2024-06-06T09:43:00-04:00",
          "2024-06-06T09:44:00-04:00",
          "2024-06-06T09:45:00-04:00",
          "2024-06-06T09:46:00-04:00",
          "2024-06-06T09:47:00-04:00",
          "2024-06-06T09:48:00-04:00",
          "2024-06-06T09:49:00-04:00",
          "2024-06-06T09:50:00-04:00",
          "2024-06-06T09:51:00-04:00",
          "2024-06-06T09:52:00-04:00",
          "2024-06-06T09:53:00-04:00",
          "2024-06-06T09:54:00-04:00",
          "2024-06-06T09:55:00-04:00",
          "2024-06-06T09:56:00-04:00",
          "2024-06-06T09:57:00-04:00",
          "2024-06-06T09:58:00-04:00",
          "2024-06-06T09:59:00-04:00",
          "2024-06-06T10:00:00-04:00",
          "2024-06-06T10:01:00-04:00",
          "2024-06-06T10:02:00-04:00",
          "2024-06-06T10:03:00-04:00",
          "2024-06-06T10:04:00-04:00",
          "2024-06-06T10:05:00-04:00",
          "2024-06-06T10:06:00-04:00",
          "2024-06-06T10:07:00-04:00",
          "2024-06-06T10:08:00-04:00",
          "2024-06-06T10:09:00-04:00",
          "2024-06-06T10:10:00-04:00",
          "2024-06-06T10:11:00-04:00",
          "2024-06-06T10:12:00-04:00",
          "2024-06-06T10:13:00-04:00",
          "2024-06-06T10:14:00-04:00",
          "2024-06-06T10:15:00-04:00",
          "2024-06-06T10:16:00-04:00",
          "2024-06-06T10:17:00-04:00",
          "2024-06-06T10:18:00-04:00",
          "2024-06-06T10:19:00-04:00",
          "2024-06-06T10:20:00-04:00",
          "2024-06-06T10:21:00-04:00",
          "2024-06-06T10:22:00-04:00",
          "2024-06-06T10:23:00-04:00",
          "2024-06-06T10:24:00-04:00",
          "2024-06-06T10:25:00-04:00",
          "2024-06-06T10:26:00-04:00",
          "2024-06-06T10:27:00-04:00",
          "2024-06-06T10:28:00-04:00",
          "2024-06-06T10:29:00-04:00",
          "2024-06-06T10:30:00-04:00",
          "2024-06-06T10:31:00-04:00",
          "2024-06-06T10:32:00-04:00",
          "2024-06-06T10:33:00-04:00",
          "2024-06-06T10:34:00-04:00",
          "2024-06-06T10:35:00-04:00",
          "2024-06-06T10:36:00-04:00",
          "2024-06-06T10:37:00-04:00",
          "2024-06-06T10:38:00-04:00",
          "2024-06-06T10:39:00-04:00",
          "2024-06-06T10:40:00-04:00",
          "2024-06-06T10:41:00-04:00",
          "2024-06-06T10:42:00-04:00",
          "2024-06-06T10:43:00-04:00",
          "2024-06-06T10:44:00-04:00",
          "2024-06-06T10:45:00-04:00",
          "2024-06-06T10:46:00-04:00",
          "2024-06-06T10:47:00-04:00",
          "2024-06-06T10:48:00-04:00",
          "2024-06-06T10:49:00-04:00",
          "2024-06-06T10:50:00-04:00",
          "2024-06-06T10:51:00-04:00",
          "2024-06-06T10:52:00-04:00",
          "2024-06-06T10:53:00-04:00",
          "2024-06-06T10:54:00-04:00",
          "2024-06-06T10:55:00-04:00",
          "2024-06-06T10:56:00-04:00",
          "2024-06-06T10:57:00-04:00",
          "2024-06-06T10:58:00-04:00",
          "2024-06-06T10:59:00-04:00",
          "2024-06-06T11:00:00-04:00",
          "2024-06-06T11:01:00-04:00",
          "2024-06-06T11:02:00-04:00",
          "2024-06-06T11:03:00-04:00",
          "2024-06-06T11:04:00-04:00",
          "2024-06-06T11:05:00-04:00",
          "2024-06-06T11:06:00-04:00",
          "2024-06-06T11:07:00-04:00",
          "2024-06-06T11:08:00-04:00",
          "2024-06-06T11:09:00-04:00",
          "2024-06-06T11:10:00-04:00",
          "2024-06-06T11:11:00-04:00",
          "2024-06-06T11:12:00-04:00",
          "2024-06-06T11:13:00-04:00",
          "2024-06-06T11:14:00-04:00",
          "2024-06-06T11:15:00-04:00",
          "2024-06-06T11:16:00-04:00",
          "2024-06-06T11:17:00-04:00",
          "2024-06-06T11:18:00-04:00",
          "2024-06-06T11:19:00-04:00",
          "2024-06-06T11:20:00-04:00",
          "2024-06-06T11:21:00-04:00",
          "2024-06-06T11:22:00-04:00",
          "2024-06-06T11:23:00-04:00",
          "2024-06-06T11:24:00-04:00",
          "2024-06-06T11:25:00-04:00",
          "2024-06-06T11:26:00-04:00",
          "2024-06-06T11:27:00-04:00",
          "2024-06-06T11:28:00-04:00",
          "2024-06-06T11:29:00-04:00",
          "2024-06-06T11:30:00-04:00",
          "2024-06-06T11:31:00-04:00",
          "2024-06-06T11:32:00-04:00",
          "2024-06-06T11:33:00-04:00",
          "2024-06-06T11:34:00-04:00",
          "2024-06-06T11:35:00-04:00",
          "2024-06-06T11:36:00-04:00",
          "2024-06-06T11:37:00-04:00",
          "2024-06-06T11:38:00-04:00",
          "2024-06-06T11:39:00-04:00",
          "2024-06-06T11:40:00-04:00",
          "2024-06-06T11:41:00-04:00",
          "2024-06-06T11:42:00-04:00",
          "2024-06-06T11:43:00-04:00",
          "2024-06-06T11:44:00-04:00",
          "2024-06-06T11:45:00-04:00",
          "2024-06-06T11:46:00-04:00",
          "2024-06-06T11:47:00-04:00",
          "2024-06-06T11:48:00-04:00",
          "2024-06-06T11:49:00-04:00",
          "2024-06-06T11:50:00-04:00",
          "2024-06-06T11:51:00-04:00",
          "2024-06-06T11:52:00-04:00",
          "2024-06-06T11:53:00-04:00",
          "2024-06-06T11:54:00-04:00",
          "2024-06-06T11:55:00-04:00",
          "2024-06-06T11:56:00-04:00",
          "2024-06-06T11:57:00-04:00",
          "2024-06-06T11:58:00-04:00",
          "2024-06-06T11:59:00-04:00",
          "2024-06-06T12:00:00-04:00",
          "2024-06-06T12:01:00-04:00",
          "2024-06-06T12:02:00-04:00",
          "2024-06-06T12:03:00-04:00",
          "2024-06-06T12:04:00-04:00",
          "2024-06-06T12:05:00-04:00",
          "2024-06-06T12:06:00-04:00",
          "2024-06-06T12:07:00-04:00",
          "2024-06-06T12:08:00-04:00",
          "2024-06-06T12:09:00-04:00",
          "2024-06-06T12:10:00-04:00",
          "2024-06-06T12:11:00-04:00",
          "2024-06-06T12:12:00-04:00",
          "2024-06-06T12:13:00-04:00",
          "2024-06-06T12:14:00-04:00",
          "2024-06-06T12:15:00-04:00",
          "2024-06-06T12:16:00-04:00",
          "2024-06-06T12:17:00-04:00",
          "2024-06-06T12:18:00-04:00",
          "2024-06-06T12:19:00-04:00",
          "2024-06-06T12:20:00-04:00",
          "2024-06-06T12:21:00-04:00",
          "2024-06-06T12:22:00-04:00",
          "2024-06-06T12:23:00-04:00",
          "2024-06-06T12:24:00-04:00",
          "2024-06-06T12:25:00-04:00",
          "2024-06-06T12:26:00-04:00",
          "2024-06-06T12:27:00-04:00",
          "2024-06-06T12:28:00-04:00",
          "2024-06-06T12:29:00-04:00",
          "2024-06-06T12:30:00-04:00",
          "2024-06-06T12:31:00-04:00",
          "2024-06-06T12:32:00-04:00",
          "2024-06-06T12:33:00-04:00",
          "2024-06-06T12:34:00-04:00",
          "2024-06-06T12:35:00-04:00",
          "2024-06-06T12:36:00-04:00",
          "2024-06-06T12:37:00-04:00",
          "2024-06-06T12:38:00-04:00",
          "2024-06-06T12:39:00-04:00",
          "2024-06-06T12:40:00-04:00",
          "2024-06-06T12:41:00-04:00",
          "2024-06-06T12:42:00-04:00",
          "2024-06-06T12:43:00-04:00",
          "2024-06-06T12:44:00-04:00",
          "2024-06-06T12:45:00-04:00",
          "2024-06-06T12:46:00-04:00",
          "2024-06-06T12:47:00-04:00",
          "2024-06-06T12:48:00-04:00",
          "2024-06-06T12:49:00-04:00",
          "2024-06-06T12:50:00-04:00",
          "2024-06-06T12:51:00-04:00",
          "2024-06-06T12:52:00-04:00",
          "2024-06-06T12:53:00-04:00",
          "2024-06-06T12:54:00-04:00",
          "2024-06-06T12:55:00-04:00",
          "2024-06-06T12:56:00-04:00",
          "2024-06-06T12:57:00-04:00",
          "2024-06-06T12:58:00-04:00",
          "2024-06-06T12:59:00-04:00",
          "2024-06-06T13:00:00-04:00",
          "2024-06-06T13:01:00-04:00",
          "2024-06-06T13:02:00-04:00",
          "2024-06-06T13:03:00-04:00",
          "2024-06-06T13:04:00-04:00",
          "2024-06-06T13:05:00-04:00",
          "2024-06-06T13:06:00-04:00",
          "2024-06-06T13:07:00-04:00",
          "2024-06-06T13:08:00-04:00",
          "2024-06-06T13:09:00-04:00",
          "2024-06-06T13:10:00-04:00",
          "2024-06-06T13:11:00-04:00",
          "2024-06-06T13:12:00-04:00",
          "2024-06-06T13:13:00-04:00",
          "2024-06-06T13:14:00-04:00",
          "2024-06-06T13:15:00-04:00",
          "2024-06-06T13:16:00-04:00",
          "2024-06-06T13:17:00-04:00",
          "2024-06-06T13:18:00-04:00",
          "2024-06-06T13:19:00-04:00",
          "2024-06-06T13:20:00-04:00",
          "2024-06-06T13:21:00-04:00",
          "2024-06-06T13:22:00-04:00",
          "2024-06-06T13:23:00-04:00",
          "2024-06-06T13:24:00-04:00",
          "2024-06-06T13:25:00-04:00",
          "2024-06-06T13:26:00-04:00",
          "2024-06-06T13:27:00-04:00",
          "2024-06-06T13:28:00-04:00",
          "2024-06-06T13:29:00-04:00",
          "2024-06-06T13:30:00-04:00",
          "2024-06-06T13:31:00-04:00",
          "2024-06-06T13:32:00-04:00",
          "2024-06-06T13:33:00-04:00",
          "2024-06-06T13:34:00-04:00",
          "2024-06-06T13:35:00-04:00",
          "2024-06-06T13:36:00-04:00",
          "2024-06-06T13:37:00-04:00",
          "2024-06-06T13:38:00-04:00",
          "2024-06-06T13:39:00-04:00",
          "2024-06-06T13:40:00-04:00",
          "2024-06-06T13:41:00-04:00",
          "2024-06-06T13:42:00-04:00",
          "2024-06-06T13:43:00-04:00",
          "2024-06-06T13:44:00-04:00",
          "2024-06-06T13:45:00-04:00",
          "2024-06-06T13:46:00-04:00",
          "2024-06-06T13:47:00-04:00",
          "2024-06-06T13:48:00-04:00",
          "2024-06-06T13:49:00-04:00",
          "2024-06-06T13:50:00-04:00",
          "2024-06-06T13:51:00-04:00",
          "2024-06-06T13:52:00-04:00",
          "2024-06-06T13:53:00-04:00",
          "2024-06-06T13:54:00-04:00",
          "2024-06-06T13:55:00-04:00",
          "2024-06-06T13:56:00-04:00",
          "2024-06-06T13:57:00-04:00",
          "2024-06-06T13:58:00-04:00",
          "2024-06-06T13:59:00-04:00",
          "2024-06-06T14:00:00-04:00",
          "2024-06-06T14:01:00-04:00",
          "2024-06-06T14:02:00-04:00",
          "2024-06-06T14:03:00-04:00",
          "2024-06-06T14:04:00-04:00",
          "2024-06-06T14:05:00-04:00",
          "2024-06-06T14:06:00-04:00",
          "2024-06-06T14:07:00-04:00",
          "2024-06-06T14:08:00-04:00",
          "2024-06-06T14:09:00-04:00",
          "2024-06-06T14:10:00-04:00",
          "2024-06-06T14:11:00-04:00",
          "2024-06-06T14:12:00-04:00",
          "2024-06-06T14:13:00-04:00",
          "2024-06-06T14:14:00-04:00",
          "2024-06-06T14:15:00-04:00",
          "2024-06-06T14:16:00-04:00",
          "2024-06-06T14:17:00-04:00",
          "2024-06-06T14:18:00-04:00",
          "2024-06-06T14:19:00-04:00",
          "2024-06-06T14:20:00-04:00",
          "2024-06-06T14:21:00-04:00",
          "2024-06-06T14:22:00-04:00",
          "2024-06-06T14:23:00-04:00",
          "2024-06-06T14:24:00-04:00",
          "2024-06-06T14:25:00-04:00",
          "2024-06-06T14:26:00-04:00",
          "2024-06-06T14:27:00-04:00",
          "2024-06-06T14:28:00-04:00",
          "2024-06-06T14:29:00-04:00",
          "2024-06-06T14:30:00-04:00",
          "2024-06-06T14:31:00-04:00",
          "2024-06-06T14:32:00-04:00",
          "2024-06-06T14:33:00-04:00",
          "2024-06-06T14:34:00-04:00",
          "2024-06-06T14:35:00-04:00",
          "2024-06-06T14:36:00-04:00",
          "2024-06-06T14:37:00-04:00",
          "2024-06-06T14:38:00-04:00",
          "2024-06-06T14:39:00-04:00",
          "2024-06-06T14:40:00-04:00",
          "2024-06-06T14:41:00-04:00",
          "2024-06-06T14:42:00-04:00",
          "2024-06-06T14:43:00-04:00",
          "2024-06-06T14:44:00-04:00",
          "2024-06-06T14:45:00-04:00",
          "2024-06-06T14:46:00-04:00",
          "2024-06-06T14:47:00-04:00",
          "2024-06-06T14:48:00-04:00",
          "2024-06-06T14:49:00-04:00",
          "2024-06-06T14:50:00-04:00",
          "2024-06-06T14:51:00-04:00",
          "2024-06-06T14:52:00-04:00",
          "2024-06-06T14:53:00-04:00",
          "2024-06-06T14:54:00-04:00",
          "2024-06-06T14:55:00-04:00",
          "2024-06-06T14:56:00-04:00",
          "2024-06-06T14:57:00-04:00",
          "2024-06-06T14:58:00-04:00",
          "2024-06-06T14:59:00-04:00",
          "2024-06-06T15:00:00-04:00",
          "2024-06-06T15:01:00-04:00",
          "2024-06-06T15:02:00-04:00",
          "2024-06-06T15:03:00-04:00",
          "2024-06-06T15:04:00-04:00",
          "2024-06-06T15:05:00-04:00",
          "2024-06-06T15:06:00-04:00",
          "2024-06-06T15:07:00-04:00",
          "2024-06-06T15:08:00-04:00",
          "2024-06-06T15:09:00-04:00",
          "2024-06-06T15:10:00-04:00",
          "2024-06-06T15:11:00-04:00",
          "2024-06-06T15:12:00-04:00",
          "2024-06-06T15:13:00-04:00",
          "2024-06-06T15:14:00-04:00",
          "2024-06-06T15:15:00-04:00",
          "2024-06-06T15:16:00-04:00",
          "2024-06-06T15:17:00-04:00",
          "2024-06-06T15:18:00-04:00",
          "2024-06-06T15:19:00-04:00",
          "2024-06-06T15:20:00-04:00",
          "2024-06-06T15:21:00-04:00",
          "2024-06-06T15:22:00-04:00",
          "2024-06-06T15:23:00-04:00",
          "2024-06-06T15:24:00-04:00",
          "2024-06-06T15:25:00-04:00",
          "2024-06-06T15:26:00-04:00",
          "2024-06-06T15:27:00-04:00",
          "2024-06-06T15:28:00-04:00",
          "2024-06-06T15:29:00-04:00",
          "2024-06-06T15:30:00-04:00",
          "2024-06-06T15:31:00-04:00",
          "2024-06-06T15:32:00-04:00",
          "2024-06-06T15:33:00-04:00",
          "2024-06-06T15:34:00-04:00",
          "2024-06-06T15:35:00-04:00",
          "2024-06-06T15:36:00-04:00",
          "2024-06-06T15:37:00-04:00",
          "2024-06-06T15:38:00-04:00",
          "2024-06-06T15:39:00-04:00",
          "2024-06-06T15:40:00-04:00",
          "2024-06-06T15:41:00-04:00",
          "2024-06-06T15:42:00-04:00",
          "2024-06-06T15:43:00-04:00",
          "2024-06-06T15:44:00-04:00",
          "2024-06-06T15:45:00-04:00",
          "2024-06-06T15:46:00-04:00",
          "2024-06-06T15:47:00-04:00",
          "2024-06-06T15:48:00-04:00",
          "2024-06-06T15:49:00-04:00",
          "2024-06-06T15:50:00-04:00",
          "2024-06-06T15:51:00-04:00",
          "2024-06-06T15:52:00-04:00",
          "2024-06-06T15:53:00-04:00",
          "2024-06-06T15:54:00-04:00",
          "2024-06-06T15:55:00-04:00",
          "2024-06-06T15:56:00-04:00",
          "2024-06-06T15:57:00-04:00",
          "2024-06-06T15:58:00-04:00",
          "2024-06-06T15:59:00-04:00"
         ],
         "xaxis": "x",
         "y": [
          30.43000030517578,
          30.43000030517578,
          30.426666259765625,
          30.448749542236328,
          30.457839721679687,
          30.422632146764688,
          30.35927405249266,
          30.32801027689129,
          30.320769212189177,
          30.316348902988288,
          30.311959665449713,
          30.30290045092163,
          30.29602251628775,
          30.286607000067015,
          30.28626790306609,
          30.282485043408307,
          30.262441883293278,
          30.249054800448643,
          30.259170519355564,
          30.278853193201456,
          30.28662624410194,
          30.281100474769815,
          30.27304159517869,
          30.270104224366875,
          30.270462639348565,
          30.273480470087605,
          30.28354959831913,
          30.28819191184545,
          30.30418208182289,
          30.305377785129053,
          30.31157295235259,
          30.30777184947409,
          30.290223228731115,
          30.289108643796528,
          30.2903415580628,
          30.294039533303966,
          30.29909344370292,
          30.303756444033997,
          30.29870203140121,
          30.30101530263505,
          30.29791778412177,
          30.29381420107879,
          30.286591263280616,
          30.277207585748343,
          30.281005188316254,
          30.28586582160481,
          30.28578904052725,
          30.278840507848944,
          30.270075376938856,
          30.264005577281118,
          30.263967081248595,
          30.262669753964513,
          30.26429482680771,
          30.269401491829814,
          30.27964394698278,
          30.289550311408803,
          30.29317836972725,
          30.290177882816298,
          30.287418869345352,
          30.289545700775186,
          30.297307924130983,
          30.3058005202656,
          30.314197337371905,
          30.322655617576405,
          30.33238270823756,
          30.340406212174685,
          30.342587856006624,
          30.342134703916972,
          30.344264961370833,
          30.34730388054261,
          30.349065833347264,
          30.354789426257053,
          30.353009823094688,
          30.35876045238599,
          30.364296624193354,
          30.37076479370298,
          30.37633511989812,
          30.379520498617985,
          30.382989509289068,
          30.386916017466625,
          30.389889664506256,
          30.392156352368897,
          30.391633121707486,
          30.387403850055172,
          30.39032076568274,
          30.395581615416145,
          30.393994048479787,
          30.38888694373818,
          30.38870370536523,
          30.378786162150796,
          30.370628282444336,
          30.36042069839439,
          30.349547672010246,
          30.335710551502704,
          30.326466378276194,
          30.31604942658803,
          30.30867760929523,
          30.302414264179003,
          30.297040910121602,
          30.300381640602197,
          30.299454453573397,
          30.298789324071542,
          30.300984255440184,
          30.302480541793106,
          30.30382868959741,
          30.304874010112044,
          30.303929114099432,
          30.310151929423057,
          30.317490457552903,
          30.32147891819136,
          30.32769597667103,
          30.3354558102,
          30.339515943007868,
          30.341965351982118,
          30.34265687656749,
          30.346767669746843,
          30.349668578727062,
          30.35414372531313,
          30.362711361236304,
          30.367774334483375,
          30.37263665055542,
          30.375077198719673,
          30.383817551706414,
          30.385799452273968,
          30.384329388320843,
          30.380249915476174,
          30.38152588294303,
          30.3865957268099,
          30.39171959871069,
          30.398897906019453,
          30.40181978842777,
          30.40428166530849,
          30.4112088422157,
          30.418534496640447,
          30.420814462753448,
          30.422959232722473,
          30.42452093199359,
          30.42850374687862,
          30.43541974540923,
          30.436675215436928,
          30.433972945613217,
          30.434130871817704,
          30.437511252541324,
          30.448466411563835,
          30.449758634390367,
          30.45354600978717,
          30.453769688851615,
          30.45376756550942,
          30.452801442812838,
          30.455255878807133,
          30.453869394591102,
          30.451742320621676,
          30.45123656244674,
          30.45227085447941,
          30.45466653724363,
          30.449539884591,
          30.445010557488207,
          30.43608081858073,
          30.426875159811193,
          30.42312707576148,
          30.41812622204059,
          30.414664089021294,
          30.410222816266735,
          30.407816398643728,
          30.408285822360458,
          30.405249436925736,
          30.40368883195456,
          30.39946655574289,
          30.39685460932044,
          30.396827546040434,
          30.395007958785268,
          30.392507816131612,
          30.39048773074446,
          30.386757896429444,
          30.38696977751586,
          30.38742061290104,
          30.385256643290504,
          30.3887934892021,
          30.384746302580297,
          30.38451355984187,
          30.383860480773752,
          30.379912154321943,
          30.38096674334674,
          30.38226070436985,
          30.382589736630255,
          30.38094524768278,
          30.382037764904897,
          30.377987369231555,
          30.37679810872837,
          30.37233140863698,
          30.36986997541277,
          30.370861160320445,
          30.37221393495758,
          30.37532341278173,
          30.37326648625738,
          30.37268314472002,
          30.37520198871788,
          30.37881918690546,
          30.379288081896227,
          30.380949335979903,
          30.38263815410522,
          30.38490360900304,
          30.39009641647739,
          30.394656236079086,
          30.40276520253992,
          30.410801313488555,
          30.418173907141774,
          30.428649612398292,
          30.43370321198028,
          30.442229587507885,
          30.445843723528824,
          30.453406356714147,
          30.462017392904993,
          30.469098939974977,
          30.47318870255235,
          30.48039827068889,
          30.484407141329356,
          30.487128140957353,
          30.488705910589466,
          30.491117144527706,
          30.494312878729524,
          30.49127654493919,
          30.49289589866639,
          30.491489591748476,
          30.486836545498598,
          30.48212999392724,
          30.480792133165334,
          30.477283339837577,
          30.473491559943902,
          30.469794981449606,
          30.466736356480098,
          30.461260494294997,
          30.456720758505853,
          30.4525625967159,
          30.452264145312064,
          30.452011352574516,
          30.45299757697082,
          30.45574953771417,
          30.45867061036566,
          30.459586301317994,
          30.45907209500519,
          30.459888390490647,
          30.457437260348193,
          30.455728796489623,
          30.455452250073318,
          30.455837717844528,
          30.453401228031154,
          30.453159288792712,
          30.455086072079254,
          30.45661131523443,
          30.461709080557895,
          30.46475360161744,
          30.46873334106789,
          30.474112423010297,
          30.479160474060983,
          30.48101944846651,
          30.48584717538888,
          30.488889604985467,
          30.49050321965671,
          30.49100377088717,
          30.489888817484967,
          30.493178105142807,
          30.489034425761854,
          30.48668395178172,
          30.486137615626493,
          30.486042852884143,
          30.485209083092197,
          30.484539448368324,
          30.483148632608096,
          30.478336027463715,
          30.47032175764457,
          30.465078949164035,
          30.461029341212477,
          30.452200688670413,
          30.444361145045583,
          30.436686775075657,
          30.427646636834467,
          30.416579491633495,
          30.406623361786345,
          30.400997420925204,
          30.393762013002764,
          30.386065128282958,
          30.388002246981372,
          30.38551986674787,
          30.385361272405824,
          30.386136303109026,
          30.384819423711022,
          30.381628978224956,
          30.383557190105208,
          30.392867843025755,
          30.39714954040047,
          30.400372927159847,
          30.40329706862993,
          30.408562616404474,
          30.408123664663584,
          30.410711743373334,
          30.41037471094819,
          30.411423275590217,
          30.41130000001316,
          30.412489097150026,
          30.422796837308006,
          30.420764935300106,
          30.421458380445955,
          30.422543594255323,
          30.424377565921056,
          30.42465123729437,
          30.42957617253081,
          30.433720721368967,
          30.43776354646184,
          30.43681539634136,
          30.436536022433824,
          30.438898165274335,
          30.435508475491304,
          30.434565351300115,
          30.433093641417102,
          30.431848348439168,
          30.43262215642522,
          30.436789838765574,
          30.437891281872332,
          30.439819920323366,
          30.436360546638547,
          30.441778214755054,
          30.442846634539304,
          30.450100963243745,
          30.452504118382244,
          30.455965081934163,
          30.458093676882243,
          30.460274426026228,
          30.46230797177145,
          30.462329937885784,
          30.4618023246203,
          30.457301628355705,
          30.457426754021704,
          30.451888553929123,
          30.45372242437862,
          30.448161373735868,
          30.449873522550263,
          30.448423300012205,
          30.448882679538755,
          30.45085248732715,
          30.45235536949218,
          30.456460324991262,
          30.4576314944742,
          30.458334366831235,
          30.45966739561952,
          30.45923169145364,
          30.4613597231003,
          30.465783353622705,
          30.467392748149745,
          30.471448756535114,
          30.47760919696002,
          30.48172557157634,
          30.48548063501626,
          30.48560333619262,
          30.48243921657889,
          30.48117183199957,
          30.479266068626277,
          30.479200881060585,
          30.4804436054836,
          30.48589171307061,
          30.48921601795578,
          30.490505672214006,
          30.485394832793812,
          30.480275321652915,
          30.47796843479763,
          30.47946808312329,
          30.48137515299285,
          30.484960265597547,
          30.486600389169,
          30.490682655987786,
          30.493963773693714,
          30.492921666347847,
          30.48722916858987,
          30.48419210045994,
          30.48508558825351,
          30.488631799710596,
          30.489127997203795,
          30.492725467444245,
          30.4916885956726,
          30.496773029735635,
          30.502654078608938,
          30.50996634572811,
          30.51067654862525,
          30.514514307965875,
          30.519109006235027,
          30.509919495248283,
          30.499836413709417,
          30.485181785538582,
          30.475218346585024,
          30.462217068716598
         ],
         "yaxis": "y"
        }
       ],
       "layout": {
        "legend": {
         "title": {
          "text": "variable"
         },
         "tracegroupgap": 0
        },
        "template": {
         "data": {
          "bar": [
           {
            "error_x": {
             "color": "#2a3f5f"
            },
            "error_y": {
             "color": "#2a3f5f"
            },
            "marker": {
             "line": {
              "color": "#E5ECF6",
              "width": 0.5
             },
             "pattern": {
              "fillmode": "overlay",
              "size": 10,
              "solidity": 0.2
             }
            },
            "type": "bar"
           }
          ],
          "barpolar": [
           {
            "marker": {
             "line": {
              "color": "#E5ECF6",
              "width": 0.5
             },
             "pattern": {
              "fillmode": "overlay",
              "size": 10,
              "solidity": 0.2
             }
            },
            "type": "barpolar"
           }
          ],
          "carpet": [
           {
            "aaxis": {
             "endlinecolor": "#2a3f5f",
             "gridcolor": "white",
             "linecolor": "white",
             "minorgridcolor": "white",
             "startlinecolor": "#2a3f5f"
            },
            "baxis": {
             "endlinecolor": "#2a3f5f",
             "gridcolor": "white",
             "linecolor": "white",
             "minorgridcolor": "white",
             "startlinecolor": "#2a3f5f"
            },
            "type": "carpet"
           }
          ],
          "choropleth": [
           {
            "colorbar": {
             "outlinewidth": 0,
             "ticks": ""
            },
            "type": "choropleth"
           }
          ],
          "contour": [
           {
            "colorbar": {
             "outlinewidth": 0,
             "ticks": ""
            },
            "colorscale": [
             [
              0,
              "#0d0887"
             ],
             [
              0.1111111111111111,
              "#46039f"
             ],
             [
              0.2222222222222222,
              "#7201a8"
             ],
             [
              0.3333333333333333,
              "#9c179e"
             ],
             [
              0.4444444444444444,
              "#bd3786"
             ],
             [
              0.5555555555555556,
              "#d8576b"
             ],
             [
              0.6666666666666666,
              "#ed7953"
             ],
             [
              0.7777777777777778,
              "#fb9f3a"
             ],
             [
              0.8888888888888888,
              "#fdca26"
             ],
             [
              1,
              "#f0f921"
             ]
            ],
            "type": "contour"
           }
          ],
          "contourcarpet": [
           {
            "colorbar": {
             "outlinewidth": 0,
             "ticks": ""
            },
            "type": "contourcarpet"
           }
          ],
          "heatmap": [
           {
            "colorbar": {
             "outlinewidth": 0,
             "ticks": ""
            },
            "colorscale": [
             [
              0,
              "#0d0887"
             ],
             [
              0.1111111111111111,
              "#46039f"
             ],
             [
              0.2222222222222222,
              "#7201a8"
             ],
             [
              0.3333333333333333,
              "#9c179e"
             ],
             [
              0.4444444444444444,
              "#bd3786"
             ],
             [
              0.5555555555555556,
              "#d8576b"
             ],
             [
              0.6666666666666666,
              "#ed7953"
             ],
             [
              0.7777777777777778,
              "#fb9f3a"
             ],
             [
              0.8888888888888888,
              "#fdca26"
             ],
             [
              1,
              "#f0f921"
             ]
            ],
            "type": "heatmap"
           }
          ],
          "heatmapgl": [
           {
            "colorbar": {
             "outlinewidth": 0,
             "ticks": ""
            },
            "colorscale": [
             [
              0,
              "#0d0887"
             ],
             [
              0.1111111111111111,
              "#46039f"
             ],
             [
              0.2222222222222222,
              "#7201a8"
             ],
             [
              0.3333333333333333,
              "#9c179e"
             ],
             [
              0.4444444444444444,
              "#bd3786"
             ],
             [
              0.5555555555555556,
              "#d8576b"
             ],
             [
              0.6666666666666666,
              "#ed7953"
             ],
             [
              0.7777777777777778,
              "#fb9f3a"
             ],
             [
              0.8888888888888888,
              "#fdca26"
             ],
             [
              1,
              "#f0f921"
             ]
            ],
            "type": "heatmapgl"
           }
          ],
          "histogram": [
           {
            "marker": {
             "pattern": {
              "fillmode": "overlay",
              "size": 10,
              "solidity": 0.2
             }
            },
            "type": "histogram"
           }
          ],
          "histogram2d": [
           {
            "colorbar": {
             "outlinewidth": 0,
             "ticks": ""
            },
            "colorscale": [
             [
              0,
              "#0d0887"
             ],
             [
              0.1111111111111111,
              "#46039f"
             ],
             [
              0.2222222222222222,
              "#7201a8"
             ],
             [
              0.3333333333333333,
              "#9c179e"
             ],
             [
              0.4444444444444444,
              "#bd3786"
             ],
             [
              0.5555555555555556,
              "#d8576b"
             ],
             [
              0.6666666666666666,
              "#ed7953"
             ],
             [
              0.7777777777777778,
              "#fb9f3a"
             ],
             [
              0.8888888888888888,
              "#fdca26"
             ],
             [
              1,
              "#f0f921"
             ]
            ],
            "type": "histogram2d"
           }
          ],
          "histogram2dcontour": [
           {
            "colorbar": {
             "outlinewidth": 0,
             "ticks": ""
            },
            "colorscale": [
             [
              0,
              "#0d0887"
             ],
             [
              0.1111111111111111,
              "#46039f"
             ],
             [
              0.2222222222222222,
              "#7201a8"
             ],
             [
              0.3333333333333333,
              "#9c179e"
             ],
             [
              0.4444444444444444,
              "#bd3786"
             ],
             [
              0.5555555555555556,
              "#d8576b"
             ],
             [
              0.6666666666666666,
              "#ed7953"
             ],
             [
              0.7777777777777778,
              "#fb9f3a"
             ],
             [
              0.8888888888888888,
              "#fdca26"
             ],
             [
              1,
              "#f0f921"
             ]
            ],
            "type": "histogram2dcontour"
           }
          ],
          "mesh3d": [
           {
            "colorbar": {
             "outlinewidth": 0,
             "ticks": ""
            },
            "type": "mesh3d"
           }
          ],
          "parcoords": [
           {
            "line": {
             "colorbar": {
              "outlinewidth": 0,
              "ticks": ""
             }
            },
            "type": "parcoords"
           }
          ],
          "pie": [
           {
            "automargin": true,
            "type": "pie"
           }
          ],
          "scatter": [
           {
            "fillpattern": {
             "fillmode": "overlay",
             "size": 10,
             "solidity": 0.2
            },
            "type": "scatter"
           }
          ],
          "scatter3d": [
           {
            "line": {
             "colorbar": {
              "outlinewidth": 0,
              "ticks": ""
             }
            },
            "marker": {
             "colorbar": {
              "outlinewidth": 0,
              "ticks": ""
             }
            },
            "type": "scatter3d"
           }
          ],
          "scattercarpet": [
           {
            "marker": {
             "colorbar": {
              "outlinewidth": 0,
              "ticks": ""
             }
            },
            "type": "scattercarpet"
           }
          ],
          "scattergeo": [
           {
            "marker": {
             "colorbar": {
              "outlinewidth": 0,
              "ticks": ""
             }
            },
            "type": "scattergeo"
           }
          ],
          "scattergl": [
           {
            "marker": {
             "colorbar": {
              "outlinewidth": 0,
              "ticks": ""
             }
            },
            "type": "scattergl"
           }
          ],
          "scattermapbox": [
           {
            "marker": {
             "colorbar": {
              "outlinewidth": 0,
              "ticks": ""
             }
            },
            "type": "scattermapbox"
           }
          ],
          "scatterpolar": [
           {
            "marker": {
             "colorbar": {
              "outlinewidth": 0,
              "ticks": ""
             }
            },
            "type": "scatterpolar"
           }
          ],
          "scatterpolargl": [
           {
            "marker": {
             "colorbar": {
              "outlinewidth": 0,
              "ticks": ""
             }
            },
            "type": "scatterpolargl"
           }
          ],
          "scatterternary": [
           {
            "marker": {
             "colorbar": {
              "outlinewidth": 0,
              "ticks": ""
             }
            },
            "type": "scatterternary"
           }
          ],
          "surface": [
           {
            "colorbar": {
             "outlinewidth": 0,
             "ticks": ""
            },
            "colorscale": [
             [
              0,
              "#0d0887"
             ],
             [
              0.1111111111111111,
              "#46039f"
             ],
             [
              0.2222222222222222,
              "#7201a8"
             ],
             [
              0.3333333333333333,
              "#9c179e"
             ],
             [
              0.4444444444444444,
              "#bd3786"
             ],
             [
              0.5555555555555556,
              "#d8576b"
             ],
             [
              0.6666666666666666,
              "#ed7953"
             ],
             [
              0.7777777777777778,
              "#fb9f3a"
             ],
             [
              0.8888888888888888,
              "#fdca26"
             ],
             [
              1,
              "#f0f921"
             ]
            ],
            "type": "surface"
           }
          ],
          "table": [
           {
            "cells": {
             "fill": {
              "color": "#EBF0F8"
             },
             "line": {
              "color": "white"
             }
            },
            "header": {
             "fill": {
              "color": "#C8D4E3"
             },
             "line": {
              "color": "white"
             }
            },
            "type": "table"
           }
          ]
         },
         "layout": {
          "annotationdefaults": {
           "arrowcolor": "#2a3f5f",
           "arrowhead": 0,
           "arrowwidth": 1
          },
          "autotypenumbers": "strict",
          "coloraxis": {
           "colorbar": {
            "outlinewidth": 0,
            "ticks": ""
           }
          },
          "colorscale": {
           "diverging": [
            [
             0,
             "#8e0152"
            ],
            [
             0.1,
             "#c51b7d"
            ],
            [
             0.2,
             "#de77ae"
            ],
            [
             0.3,
             "#f1b6da"
            ],
            [
             0.4,
             "#fde0ef"
            ],
            [
             0.5,
             "#f7f7f7"
            ],
            [
             0.6,
             "#e6f5d0"
            ],
            [
             0.7,
             "#b8e186"
            ],
            [
             0.8,
             "#7fbc41"
            ],
            [
             0.9,
             "#4d9221"
            ],
            [
             1,
             "#276419"
            ]
           ],
           "sequential": [
            [
             0,
             "#0d0887"
            ],
            [
             0.1111111111111111,
             "#46039f"
            ],
            [
             0.2222222222222222,
             "#7201a8"
            ],
            [
             0.3333333333333333,
             "#9c179e"
            ],
            [
             0.4444444444444444,
             "#bd3786"
            ],
            [
             0.5555555555555556,
             "#d8576b"
            ],
            [
             0.6666666666666666,
             "#ed7953"
            ],
            [
             0.7777777777777778,
             "#fb9f3a"
            ],
            [
             0.8888888888888888,
             "#fdca26"
            ],
            [
             1,
             "#f0f921"
            ]
           ],
           "sequentialminus": [
            [
             0,
             "#0d0887"
            ],
            [
             0.1111111111111111,
             "#46039f"
            ],
            [
             0.2222222222222222,
             "#7201a8"
            ],
            [
             0.3333333333333333,
             "#9c179e"
            ],
            [
             0.4444444444444444,
             "#bd3786"
            ],
            [
             0.5555555555555556,
             "#d8576b"
            ],
            [
             0.6666666666666666,
             "#ed7953"
            ],
            [
             0.7777777777777778,
             "#fb9f3a"
            ],
            [
             0.8888888888888888,
             "#fdca26"
            ],
            [
             1,
             "#f0f921"
            ]
           ]
          },
          "colorway": [
           "#636efa",
           "#EF553B",
           "#00cc96",
           "#ab63fa",
           "#FFA15A",
           "#19d3f3",
           "#FF6692",
           "#B6E880",
           "#FF97FF",
           "#FECB52"
          ],
          "font": {
           "color": "#2a3f5f"
          },
          "geo": {
           "bgcolor": "white",
           "lakecolor": "white",
           "landcolor": "#E5ECF6",
           "showlakes": true,
           "showland": true,
           "subunitcolor": "white"
          },
          "hoverlabel": {
           "align": "left"
          },
          "hovermode": "closest",
          "mapbox": {
           "style": "light"
          },
          "paper_bgcolor": "white",
          "plot_bgcolor": "#E5ECF6",
          "polar": {
           "angularaxis": {
            "gridcolor": "white",
            "linecolor": "white",
            "ticks": ""
           },
           "bgcolor": "#E5ECF6",
           "radialaxis": {
            "gridcolor": "white",
            "linecolor": "white",
            "ticks": ""
           }
          },
          "scene": {
           "xaxis": {
            "backgroundcolor": "#E5ECF6",
            "gridcolor": "white",
            "gridwidth": 2,
            "linecolor": "white",
            "showbackground": true,
            "ticks": "",
            "zerolinecolor": "white"
           },
           "yaxis": {
            "backgroundcolor": "#E5ECF6",
            "gridcolor": "white",
            "gridwidth": 2,
            "linecolor": "white",
            "showbackground": true,
            "ticks": "",
            "zerolinecolor": "white"
           },
           "zaxis": {
            "backgroundcolor": "#E5ECF6",
            "gridcolor": "white",
            "gridwidth": 2,
            "linecolor": "white",
            "showbackground": true,
            "ticks": "",
            "zerolinecolor": "white"
           }
          },
          "shapedefaults": {
           "line": {
            "color": "#2a3f5f"
           }
          },
          "ternary": {
           "aaxis": {
            "gridcolor": "white",
            "linecolor": "white",
            "ticks": ""
           },
           "baxis": {
            "gridcolor": "white",
            "linecolor": "white",
            "ticks": ""
           },
           "bgcolor": "#E5ECF6",
           "caxis": {
            "gridcolor": "white",
            "linecolor": "white",
            "ticks": ""
           }
          },
          "title": {
           "x": 0.05
          },
          "xaxis": {
           "automargin": true,
           "gridcolor": "white",
           "linecolor": "white",
           "ticks": "",
           "title": {
            "standoff": 15
           },
           "zerolinecolor": "white",
           "zerolinewidth": 2
          },
          "yaxis": {
           "automargin": true,
           "gridcolor": "white",
           "linecolor": "white",
           "ticks": "",
           "title": {
            "standoff": 15
           },
           "zerolinecolor": "white",
           "zerolinewidth": 2
          }
         }
        },
        "title": {
         "text": "INTC Exponential Moving Averages"
        },
        "xaxis": {
         "anchor": "y",
         "domain": [
          0,
          1
         ],
         "title": {
          "text": "Datetime"
         }
        },
        "yaxis": {
         "anchor": "x",
         "domain": [
          0,
          1
         ],
         "title": {
          "text": "value"
         }
        }
       }
      },
      "text/html": [
       "<div>                            <div id=\"45aa968a-8465-49cd-88cd-49cc05b826c5\" class=\"plotly-graph-div\" style=\"height:525px; width:100%;\"></div>            <script type=\"text/javascript\">                require([\"plotly\"], function(Plotly) {                    window.PLOTLYENV=window.PLOTLYENV || {};                                    if (document.getElementById(\"45aa968a-8465-49cd-88cd-49cc05b826c5\")) {                    Plotly.newPlot(                        \"45aa968a-8465-49cd-88cd-49cc05b826c5\",                        [{\"hovertemplate\":\"variable=EMA_24<br>Datetime=%{x}<br>value=%{y}<extra></extra>\",\"legendgroup\":\"EMA_24\",\"line\":{\"color\":\"#38b9ff\",\"dash\":\"solid\"},\"marker\":{\"symbol\":\"circle\"},\"mode\":\"lines\",\"name\":\"EMA_24\",\"orientation\":\"v\",\"showlegend\":true,\"x\":[\"2024-06-06T09:30:00-04:00\",\"2024-06-06T09:31:00-04:00\",\"2024-06-06T09:32:00-04:00\",\"2024-06-06T09:33:00-04:00\",\"2024-06-06T09:34:00-04:00\",\"2024-06-06T09:35:00-04:00\",\"2024-06-06T09:36:00-04:00\",\"2024-06-06T09:37:00-04:00\",\"2024-06-06T09:38:00-04:00\",\"2024-06-06T09:39:00-04:00\",\"2024-06-06T09:40:00-04:00\",\"2024-06-06T09:41:00-04:00\",\"2024-06-06T09:42:00-04:00\",\"2024-06-06T09:43:00-04:00\",\"2024-06-06T09:44:00-04:00\",\"2024-06-06T09:45:00-04:00\",\"2024-06-06T09:46:00-04:00\",\"2024-06-06T09:47:00-04:00\",\"2024-06-06T09:48:00-04:00\",\"2024-06-06T09:49:00-04:00\",\"2024-06-06T09:50:00-04:00\",\"2024-06-06T09:51:00-04:00\",\"2024-06-06T09:52:00-04:00\",\"2024-06-06T09:53:00-04:00\",\"2024-06-06T09:54:00-04:00\",\"2024-06-06T09:55:00-04:00\",\"2024-06-06T09:56:00-04:00\",\"2024-06-06T09:57:00-04:00\",\"2024-06-06T09:58:00-04:00\",\"2024-06-06T09:59:00-04:00\",\"2024-06-06T10:00:00-04:00\",\"2024-06-06T10:01:00-04:00\",\"2024-06-06T10:02:00-04:00\",\"2024-06-06T10:03:00-04:00\",\"2024-06-06T10:04:00-04:00\",\"2024-06-06T10:05:00-04:00\",\"2024-06-06T10:06:00-04:00\",\"2024-06-06T10:07:00-04:00\",\"2024-06-06T10:08:00-04:00\",\"2024-06-06T10:09:00-04:00\",\"2024-06-06T10:10:00-04:00\",\"2024-06-06T10:11:00-04:00\",\"2024-06-06T10:12:00-04:00\",\"2024-06-06T10:13:00-04:00\",\"2024-06-06T10:14:00-04:00\",\"2024-06-06T10:15:00-04:00\",\"2024-06-06T10:16:00-04:00\",\"2024-06-06T10:17:00-04:00\",\"2024-06-06T10:18:00-04:00\",\"2024-06-06T10:19:00-04:00\",\"2024-06-06T10:20:00-04:00\",\"2024-06-06T10:21:00-04:00\",\"2024-06-06T10:22:00-04:00\",\"2024-06-06T10:23:00-04:00\",\"2024-06-06T10:24:00-04:00\",\"2024-06-06T10:25:00-04:00\",\"2024-06-06T10:26:00-04:00\",\"2024-06-06T10:27:00-04:00\",\"2024-06-06T10:28:00-04:00\",\"2024-06-06T10:29:00-04:00\",\"2024-06-06T10:30:00-04:00\",\"2024-06-06T10:31:00-04:00\",\"2024-06-06T10:32:00-04:00\",\"2024-06-06T10:33:00-04:00\",\"2024-06-06T10:34:00-04:00\",\"2024-06-06T10:35:00-04:00\",\"2024-06-06T10:36:00-04:00\",\"2024-06-06T10:37:00-04:00\",\"2024-06-06T10:38:00-04:00\",\"2024-06-06T10:39:00-04:00\",\"2024-06-06T10:40:00-04:00\",\"2024-06-06T10:41:00-04:00\",\"2024-06-06T10:42:00-04:00\",\"2024-06-06T10:43:00-04:00\",\"2024-06-06T10:44:00-04:00\",\"2024-06-06T10:45:00-04:00\",\"2024-06-06T10:46:00-04:00\",\"2024-06-06T10:47:00-04:00\",\"2024-06-06T10:48:00-04:00\",\"2024-06-06T10:49:00-04:00\",\"2024-06-06T10:50:00-04:00\",\"2024-06-06T10:51:00-04:00\",\"2024-06-06T10:52:00-04:00\",\"2024-06-06T10:53:00-04:00\",\"2024-06-06T10:54:00-04:00\",\"2024-06-06T10:55:00-04:00\",\"2024-06-06T10:56:00-04:00\",\"2024-06-06T10:57:00-04:00\",\"2024-06-06T10:58:00-04:00\",\"2024-06-06T10:59:00-04:00\",\"2024-06-06T11:00:00-04:00\",\"2024-06-06T11:01:00-04:00\",\"2024-06-06T11:02:00-04:00\",\"2024-06-06T11:03:00-04:00\",\"2024-06-06T11:04:00-04:00\",\"2024-06-06T11:05:00-04:00\",\"2024-06-06T11:06:00-04:00\",\"2024-06-06T11:07:00-04:00\",\"2024-06-06T11:08:00-04:00\",\"2024-06-06T11:09:00-04:00\",\"2024-06-06T11:10:00-04:00\",\"2024-06-06T11:11:00-04:00\",\"2024-06-06T11:12:00-04:00\",\"2024-06-06T11:13:00-04:00\",\"2024-06-06T11:14:00-04:00\",\"2024-06-06T11:15:00-04:00\",\"2024-06-06T11:16:00-04:00\",\"2024-06-06T11:17:00-04:00\",\"2024-06-06T11:18:00-04:00\",\"2024-06-06T11:19:00-04:00\",\"2024-06-06T11:20:00-04:00\",\"2024-06-06T11:21:00-04:00\",\"2024-06-06T11:22:00-04:00\",\"2024-06-06T11:23:00-04:00\",\"2024-06-06T11:24:00-04:00\",\"2024-06-06T11:25:00-04:00\",\"2024-06-06T11:26:00-04:00\",\"2024-06-06T11:27:00-04:00\",\"2024-06-06T11:28:00-04:00\",\"2024-06-06T11:29:00-04:00\",\"2024-06-06T11:30:00-04:00\",\"2024-06-06T11:31:00-04:00\",\"2024-06-06T11:32:00-04:00\",\"2024-06-06T11:33:00-04:00\",\"2024-06-06T11:34:00-04:00\",\"2024-06-06T11:35:00-04:00\",\"2024-06-06T11:36:00-04:00\",\"2024-06-06T11:37:00-04:00\",\"2024-06-06T11:38:00-04:00\",\"2024-06-06T11:39:00-04:00\",\"2024-06-06T11:40:00-04:00\",\"2024-06-06T11:41:00-04:00\",\"2024-06-06T11:42:00-04:00\",\"2024-06-06T11:43:00-04:00\",\"2024-06-06T11:44:00-04:00\",\"2024-06-06T11:45:00-04:00\",\"2024-06-06T11:46:00-04:00\",\"2024-06-06T11:47:00-04:00\",\"2024-06-06T11:48:00-04:00\",\"2024-06-06T11:49:00-04:00\",\"2024-06-06T11:50:00-04:00\",\"2024-06-06T11:51:00-04:00\",\"2024-06-06T11:52:00-04:00\",\"2024-06-06T11:53:00-04:00\",\"2024-06-06T11:54:00-04:00\",\"2024-06-06T11:55:00-04:00\",\"2024-06-06T11:56:00-04:00\",\"2024-06-06T11:57:00-04:00\",\"2024-06-06T11:58:00-04:00\",\"2024-06-06T11:59:00-04:00\",\"2024-06-06T12:00:00-04:00\",\"2024-06-06T12:01:00-04:00\",\"2024-06-06T12:02:00-04:00\",\"2024-06-06T12:03:00-04:00\",\"2024-06-06T12:04:00-04:00\",\"2024-06-06T12:05:00-04:00\",\"2024-06-06T12:06:00-04:00\",\"2024-06-06T12:07:00-04:00\",\"2024-06-06T12:08:00-04:00\",\"2024-06-06T12:09:00-04:00\",\"2024-06-06T12:10:00-04:00\",\"2024-06-06T12:11:00-04:00\",\"2024-06-06T12:12:00-04:00\",\"2024-06-06T12:13:00-04:00\",\"2024-06-06T12:14:00-04:00\",\"2024-06-06T12:15:00-04:00\",\"2024-06-06T12:16:00-04:00\",\"2024-06-06T12:17:00-04:00\",\"2024-06-06T12:18:00-04:00\",\"2024-06-06T12:19:00-04:00\",\"2024-06-06T12:20:00-04:00\",\"2024-06-06T12:21:00-04:00\",\"2024-06-06T12:22:00-04:00\",\"2024-06-06T12:23:00-04:00\",\"2024-06-06T12:24:00-04:00\",\"2024-06-06T12:25:00-04:00\",\"2024-06-06T12:26:00-04:00\",\"2024-06-06T12:27:00-04:00\",\"2024-06-06T12:28:00-04:00\",\"2024-06-06T12:29:00-04:00\",\"2024-06-06T12:30:00-04:00\",\"2024-06-06T12:31:00-04:00\",\"2024-06-06T12:32:00-04:00\",\"2024-06-06T12:33:00-04:00\",\"2024-06-06T12:34:00-04:00\",\"2024-06-06T12:35:00-04:00\",\"2024-06-06T12:36:00-04:00\",\"2024-06-06T12:37:00-04:00\",\"2024-06-06T12:38:00-04:00\",\"2024-06-06T12:39:00-04:00\",\"2024-06-06T12:40:00-04:00\",\"2024-06-06T12:41:00-04:00\",\"2024-06-06T12:42:00-04:00\",\"2024-06-06T12:43:00-04:00\",\"2024-06-06T12:44:00-04:00\",\"2024-06-06T12:45:00-04:00\",\"2024-06-06T12:46:00-04:00\",\"2024-06-06T12:47:00-04:00\",\"2024-06-06T12:48:00-04:00\",\"2024-06-06T12:49:00-04:00\",\"2024-06-06T12:50:00-04:00\",\"2024-06-06T12:51:00-04:00\",\"2024-06-06T12:52:00-04:00\",\"2024-06-06T12:53:00-04:00\",\"2024-06-06T12:54:00-04:00\",\"2024-06-06T12:55:00-04:00\",\"2024-06-06T12:56:00-04:00\",\"2024-06-06T12:57:00-04:00\",\"2024-06-06T12:58:00-04:00\",\"2024-06-06T12:59:00-04:00\",\"2024-06-06T13:00:00-04:00\",\"2024-06-06T13:01:00-04:00\",\"2024-06-06T13:02:00-04:00\",\"2024-06-06T13:03:00-04:00\",\"2024-06-06T13:04:00-04:00\",\"2024-06-06T13:05:00-04:00\",\"2024-06-06T13:06:00-04:00\",\"2024-06-06T13:07:00-04:00\",\"2024-06-06T13:08:00-04:00\",\"2024-06-06T13:09:00-04:00\",\"2024-06-06T13:10:00-04:00\",\"2024-06-06T13:11:00-04:00\",\"2024-06-06T13:12:00-04:00\",\"2024-06-06T13:13:00-04:00\",\"2024-06-06T13:14:00-04:00\",\"2024-06-06T13:15:00-04:00\",\"2024-06-06T13:16:00-04:00\",\"2024-06-06T13:17:00-04:00\",\"2024-06-06T13:18:00-04:00\",\"2024-06-06T13:19:00-04:00\",\"2024-06-06T13:20:00-04:00\",\"2024-06-06T13:21:00-04:00\",\"2024-06-06T13:22:00-04:00\",\"2024-06-06T13:23:00-04:00\",\"2024-06-06T13:24:00-04:00\",\"2024-06-06T13:25:00-04:00\",\"2024-06-06T13:26:00-04:00\",\"2024-06-06T13:27:00-04:00\",\"2024-06-06T13:28:00-04:00\",\"2024-06-06T13:29:00-04:00\",\"2024-06-06T13:30:00-04:00\",\"2024-06-06T13:31:00-04:00\",\"2024-06-06T13:32:00-04:00\",\"2024-06-06T13:33:00-04:00\",\"2024-06-06T13:34:00-04:00\",\"2024-06-06T13:35:00-04:00\",\"2024-06-06T13:36:00-04:00\",\"2024-06-06T13:37:00-04:00\",\"2024-06-06T13:38:00-04:00\",\"2024-06-06T13:39:00-04:00\",\"2024-06-06T13:40:00-04:00\",\"2024-06-06T13:41:00-04:00\",\"2024-06-06T13:42:00-04:00\",\"2024-06-06T13:43:00-04:00\",\"2024-06-06T13:44:00-04:00\",\"2024-06-06T13:45:00-04:00\",\"2024-06-06T13:46:00-04:00\",\"2024-06-06T13:47:00-04:00\",\"2024-06-06T13:48:00-04:00\",\"2024-06-06T13:49:00-04:00\",\"2024-06-06T13:50:00-04:00\",\"2024-06-06T13:51:00-04:00\",\"2024-06-06T13:52:00-04:00\",\"2024-06-06T13:53:00-04:00\",\"2024-06-06T13:54:00-04:00\",\"2024-06-06T13:55:00-04:00\",\"2024-06-06T13:56:00-04:00\",\"2024-06-06T13:57:00-04:00\",\"2024-06-06T13:58:00-04:00\",\"2024-06-06T13:59:00-04:00\",\"2024-06-06T14:00:00-04:00\",\"2024-06-06T14:01:00-04:00\",\"2024-06-06T14:02:00-04:00\",\"2024-06-06T14:03:00-04:00\",\"2024-06-06T14:04:00-04:00\",\"2024-06-06T14:05:00-04:00\",\"2024-06-06T14:06:00-04:00\",\"2024-06-06T14:07:00-04:00\",\"2024-06-06T14:08:00-04:00\",\"2024-06-06T14:09:00-04:00\",\"2024-06-06T14:10:00-04:00\",\"2024-06-06T14:11:00-04:00\",\"2024-06-06T14:12:00-04:00\",\"2024-06-06T14:13:00-04:00\",\"2024-06-06T14:14:00-04:00\",\"2024-06-06T14:15:00-04:00\",\"2024-06-06T14:16:00-04:00\",\"2024-06-06T14:17:00-04:00\",\"2024-06-06T14:18:00-04:00\",\"2024-06-06T14:19:00-04:00\",\"2024-06-06T14:20:00-04:00\",\"2024-06-06T14:21:00-04:00\",\"2024-06-06T14:22:00-04:00\",\"2024-06-06T14:23:00-04:00\",\"2024-06-06T14:24:00-04:00\",\"2024-06-06T14:25:00-04:00\",\"2024-06-06T14:26:00-04:00\",\"2024-06-06T14:27:00-04:00\",\"2024-06-06T14:28:00-04:00\",\"2024-06-06T14:29:00-04:00\",\"2024-06-06T14:30:00-04:00\",\"2024-06-06T14:31:00-04:00\",\"2024-06-06T14:32:00-04:00\",\"2024-06-06T14:33:00-04:00\",\"2024-06-06T14:34:00-04:00\",\"2024-06-06T14:35:00-04:00\",\"2024-06-06T14:36:00-04:00\",\"2024-06-06T14:37:00-04:00\",\"2024-06-06T14:38:00-04:00\",\"2024-06-06T14:39:00-04:00\",\"2024-06-06T14:40:00-04:00\",\"2024-06-06T14:41:00-04:00\",\"2024-06-06T14:42:00-04:00\",\"2024-06-06T14:43:00-04:00\",\"2024-06-06T14:44:00-04:00\",\"2024-06-06T14:45:00-04:00\",\"2024-06-06T14:46:00-04:00\",\"2024-06-06T14:47:00-04:00\",\"2024-06-06T14:48:00-04:00\",\"2024-06-06T14:49:00-04:00\",\"2024-06-06T14:50:00-04:00\",\"2024-06-06T14:51:00-04:00\",\"2024-06-06T14:52:00-04:00\",\"2024-06-06T14:53:00-04:00\",\"2024-06-06T14:54:00-04:00\",\"2024-06-06T14:55:00-04:00\",\"2024-06-06T14:56:00-04:00\",\"2024-06-06T14:57:00-04:00\",\"2024-06-06T14:58:00-04:00\",\"2024-06-06T14:59:00-04:00\",\"2024-06-06T15:00:00-04:00\",\"2024-06-06T15:01:00-04:00\",\"2024-06-06T15:02:00-04:00\",\"2024-06-06T15:03:00-04:00\",\"2024-06-06T15:04:00-04:00\",\"2024-06-06T15:05:00-04:00\",\"2024-06-06T15:06:00-04:00\",\"2024-06-06T15:07:00-04:00\",\"2024-06-06T15:08:00-04:00\",\"2024-06-06T15:09:00-04:00\",\"2024-06-06T15:10:00-04:00\",\"2024-06-06T15:11:00-04:00\",\"2024-06-06T15:12:00-04:00\",\"2024-06-06T15:13:00-04:00\",\"2024-06-06T15:14:00-04:00\",\"2024-06-06T15:15:00-04:00\",\"2024-06-06T15:16:00-04:00\",\"2024-06-06T15:17:00-04:00\",\"2024-06-06T15:18:00-04:00\",\"2024-06-06T15:19:00-04:00\",\"2024-06-06T15:20:00-04:00\",\"2024-06-06T15:21:00-04:00\",\"2024-06-06T15:22:00-04:00\",\"2024-06-06T15:23:00-04:00\",\"2024-06-06T15:24:00-04:00\",\"2024-06-06T15:25:00-04:00\",\"2024-06-06T15:26:00-04:00\",\"2024-06-06T15:27:00-04:00\",\"2024-06-06T15:28:00-04:00\",\"2024-06-06T15:29:00-04:00\",\"2024-06-06T15:30:00-04:00\",\"2024-06-06T15:31:00-04:00\",\"2024-06-06T15:32:00-04:00\",\"2024-06-06T15:33:00-04:00\",\"2024-06-06T15:34:00-04:00\",\"2024-06-06T15:35:00-04:00\",\"2024-06-06T15:36:00-04:00\",\"2024-06-06T15:37:00-04:00\",\"2024-06-06T15:38:00-04:00\",\"2024-06-06T15:39:00-04:00\",\"2024-06-06T15:40:00-04:00\",\"2024-06-06T15:41:00-04:00\",\"2024-06-06T15:42:00-04:00\",\"2024-06-06T15:43:00-04:00\",\"2024-06-06T15:44:00-04:00\",\"2024-06-06T15:45:00-04:00\",\"2024-06-06T15:46:00-04:00\",\"2024-06-06T15:47:00-04:00\",\"2024-06-06T15:48:00-04:00\",\"2024-06-06T15:49:00-04:00\",\"2024-06-06T15:50:00-04:00\",\"2024-06-06T15:51:00-04:00\",\"2024-06-06T15:52:00-04:00\",\"2024-06-06T15:53:00-04:00\",\"2024-06-06T15:54:00-04:00\",\"2024-06-06T15:55:00-04:00\",\"2024-06-06T15:56:00-04:00\",\"2024-06-06T15:57:00-04:00\",\"2024-06-06T15:58:00-04:00\",\"2024-06-06T15:59:00-04:00\"],\"xaxis\":\"x\",\"y\":[30.43000030517578,30.43000030517578,30.426666259765625,30.448749542236328,30.457839721679687,30.422632146764688,30.35927405249266,30.32801027689129,30.320769212189177,30.316348902988288,30.311959665449713,30.30290045092163,30.29602251628775,30.292785984305127,30.29091402545089,30.29057633107626,30.290138983050042,30.29688980357769,30.300595341482197,30.307031834593793,30.310817631932334,30.307566069496673,30.305171791097372,30.302879786136433,30.301335278299554,30.29935240657921,30.307887254030174,30.309368663962225,30.295573348086016,30.27562295303376,30.2802871529284,30.289136805659123,30.287081573484407,30.285852730419222,30.282410078142036,30.28445505241937,30.28801823683569,30.28896092026728,30.290022665702132,30.290393786119584,30.299127541428263,30.29558320426154,30.297467795645947,30.29284272708343,30.282352647186173,30.283824157157657,30.282794434235154,30.280446983884367,30.28019068675049,30.282658526719388,30.278269411912362,30.279700759778578,30.278484435072457,30.280053906325236,30.28214975504056,30.279966743937365,30.284949013968635,30.28804609783729,30.290340500509902,30.29123743832782,30.29311085938591,30.2957858801435,30.301954898419538,30.3051090925156,30.307914154497563,30.31017745594437,30.31445502399292,30.320662413488865,30.326236998181933,30.32606409727932,30.32369407894402,30.325246784790593,30.32703511695852,30.333335662349285,30.339344816093117,30.34718159125397,30.355521506681878,30.362123691629503,30.364419187579987,30.363888493350277,30.366585190729896,30.37137070360433,30.373412796843347,30.377595223093966,30.377511586307648,30.382149624366996,30.381566531162033,30.381173771110202,30.382450922001773,30.377054078963173,30.373244183062745,30.36714692390716,30.360023359432073,30.353345699053797,30.348829914727165,30.339247351389567,30.335805691598797,30.335214165359353,30.331237499652083,30.32888974996852,30.33053867493051,30.32737438916793,30.32936955802529,30.328896073357225,30.327373221508438,30.322463060831076,30.321990297583064,30.32478290264949,30.32762779327805,30.326589985940135,30.324959165939887,30.32951423102018,30.32762184481324,30.325756610608998,30.326530931037816,30.328946066126182,30.330878631308725,30.33333262852602,30.33434656067749,30.340274584722387,30.348180836762527,30.351933654712635,30.35995836287734,30.364925540194175,30.366044727216426,30.365628750025643,30.36565384656684,30.369885393209348,30.373210853869125,30.37790587546781,30.382901074755285,30.385368891466925,30.391615411295408,30.395486221116386,30.402826711761758,30.406200550406755,30.40875268360467,30.410514665399674,30.414963045211678,30.41724199611949,30.417734706742433,30.422725029132273,30.425337116619914,30.42903433125255,30.43143283609615,30.437424444084087,30.43703261527623,30.43608843606894,30.43502196064171,30.439399152554188,30.445040682869102,30.446778102651503,30.44543741664748,30.44540239890162,30.446055309706008,30.449212792265186,30.444856113475083,30.441951460454387,30.437395361928584,30.434555567950873,30.428687525803834,30.427744309887988,30.42337289960279,30.42033524212636,30.420676358127743,30.420359090533328,30.42321268281762,30.418803869836733,30.41729952973222,30.414680024493574,30.41095382417861,30.410381218715056,30.4068746839685,30.40364892983434,30.40070805062814,30.398234805178426,30.398081805229147,30.39747678843205,30.394550919674803,30.39124303114378,30.386968148943893,30.384369368675713,30.385611854093767,30.38691474074285,30.387389294025102,30.384798378514798,30.386042362149002,30.38395902200521,30.380252416465613,30.380614160150195,30.376661375695576,30.37855606172264,30.379393921699126,30.375676402513065,30.3735946942293,30.373982965246316,30.376064297509036,30.377659146384097,30.381060640078566,30.381113367926083,30.38339238793639,30.38207685800071,30.38296461104856,30.386298104010976,30.392129726335583,30.399849568158672,30.402895448589845,30.407382522170792,30.410302355146115,30.417097126505574,30.419309792528974,30.425378483563946,30.432045676636328,30.437446922865995,30.442603034530872,30.446829700713828,30.451264394715206,30.45476331027666,30.45771440060816,30.465152440724946,30.466599552056522,30.468496529961918,30.468740733694517,30.469241505516536,30.46997816739292,30.47159411499262,30.472339719167273,30.47444800737557,30.474243977348035,30.47299945007718,30.4707403191918,30.46894908647221,30.46921259671725,30.464201685232204,30.466831549760247,30.46723657850928,30.465530019176423,30.464935831493857,30.46776859157464,30.46755614706756,30.466986834287294,30.46711700101742,30.465958293696005,30.463729807430784,30.462501864888527,30.459479408151072,30.45724531880692,30.455589631638958,30.45486667558764,30.455042054059486,30.458198019312235,30.45966644717869,30.461141381877034,30.465726126886768,30.467502487799848,30.468764137241113,30.473633869234703,30.478543701659294,30.47986027266522,30.48132577745,30.482469101333777,30.4826716220552,30.481246781242206,30.479406375849987,30.477977773601,30.477958538351878,30.478819185175354,30.476761778763656,30.47682884427506,30.47520676952341,30.47266596465361,30.471804479733297,30.469811962434726,30.46927439879742,30.463180618020566,30.458686023575027,30.45285876462721,30.444754075035814,30.43769795130572,30.433430245809905,30.42763145434117,30.42099340904984,30.417154136261384,30.41323000700499,30.41351545802273,30.410482398611368,30.40789202667752,30.40713639513188,30.408823702718845,30.410631368221157,30.40952101021918,30.411122821627018,30.40972982654972,30.406503931101476,30.40813542107236,30.406408956635893,30.40471703350854,30.405215390576643,30.40330826437192,30.40024237132604,30.40335547218617,30.405762752792803,30.40748543537696,30.409502946567354,30.411818772505384,30.416363196181127,30.418791762265048,30.423606626181225,30.4255176321018,30.42634228581263,30.426358822973665,30.42727203393939,30.43358674901773,30.430520726055157,30.429349082659115,30.428771366106126,30.42975891067161,30.429388950415742,30.430894611303412,30.43244225389943,30.433222850149978,30.43605296769462,30.437416746636472,30.44500280134376,30.44498275554744,30.448060202870575,30.449799462568667,30.451071517526064,30.452861587747694,30.456136220817754,30.45619518253846,30.45533748137415,30.44987156958066,30.4491412590998,30.447054137451232,30.446089763730527,30.44612653927922,30.44603639172282,30.44675347428148,30.44901119996689,30.451601395281426,30.45425174539101,30.456711654587853,30.456772237051233,30.461159044328877,30.45896316472896,30.464834087368775,30.46276546712966,30.46520665070548,30.466087315630592,30.468654010168517,30.471227129464012,30.472292924298948,30.47291291965759,30.470649033779768,30.47059705614575,30.47094932217167,30.470400198524818,30.472041354412436,30.477381612252838,30.478439242192515,30.479915882862052,30.479309264602364,30.47812954124656,30.47990680454713,30.480990346260832,30.479828919736043,30.482115269442783,30.482586394705795,30.48534470709398,30.48642875080585,30.487990669728937,30.487351379529528,30.48988035862597,30.489470933543654,30.4886966136496,30.486748369732585,30.48782780320701,30.485981793882726,30.489779257103876,30.492720867079186,30.499731076042295,30.504287935673155,30.50748299268617,30.50636699514004,30.49955399609326,30.49478971913041,30.49043446875755,30.485351515715944,30.480826806579163],\"yaxis\":\"y\",\"type\":\"scatter\"},{\"hovertemplate\":\"variable=EMA_12<br>Datetime=%{x}<br>value=%{y}<extra></extra>\",\"legendgroup\":\"EMA_12\",\"line\":{\"color\":\"#44fcd1\",\"dash\":\"solid\"},\"marker\":{\"symbol\":\"circle\"},\"mode\":\"lines\",\"name\":\"EMA_12\",\"orientation\":\"v\",\"showlegend\":true,\"x\":[\"2024-06-06T09:30:00-04:00\",\"2024-06-06T09:31:00-04:00\",\"2024-06-06T09:32:00-04:00\",\"2024-06-06T09:33:00-04:00\",\"2024-06-06T09:34:00-04:00\",\"2024-06-06T09:35:00-04:00\",\"2024-06-06T09:36:00-04:00\",\"2024-06-06T09:37:00-04:00\",\"2024-06-06T09:38:00-04:00\",\"2024-06-06T09:39:00-04:00\",\"2024-06-06T09:40:00-04:00\",\"2024-06-06T09:41:00-04:00\",\"2024-06-06T09:42:00-04:00\",\"2024-06-06T09:43:00-04:00\",\"2024-06-06T09:44:00-04:00\",\"2024-06-06T09:45:00-04:00\",\"2024-06-06T09:46:00-04:00\",\"2024-06-06T09:47:00-04:00\",\"2024-06-06T09:48:00-04:00\",\"2024-06-06T09:49:00-04:00\",\"2024-06-06T09:50:00-04:00\",\"2024-06-06T09:51:00-04:00\",\"2024-06-06T09:52:00-04:00\",\"2024-06-06T09:53:00-04:00\",\"2024-06-06T09:54:00-04:00\",\"2024-06-06T09:55:00-04:00\",\"2024-06-06T09:56:00-04:00\",\"2024-06-06T09:57:00-04:00\",\"2024-06-06T09:58:00-04:00\",\"2024-06-06T09:59:00-04:00\",\"2024-06-06T10:00:00-04:00\",\"2024-06-06T10:01:00-04:00\",\"2024-06-06T10:02:00-04:00\",\"2024-06-06T10:03:00-04:00\",\"2024-06-06T10:04:00-04:00\",\"2024-06-06T10:05:00-04:00\",\"2024-06-06T10:06:00-04:00\",\"2024-06-06T10:07:00-04:00\",\"2024-06-06T10:08:00-04:00\",\"2024-06-06T10:09:00-04:00\",\"2024-06-06T10:10:00-04:00\",\"2024-06-06T10:11:00-04:00\",\"2024-06-06T10:12:00-04:00\",\"2024-06-06T10:13:00-04:00\",\"2024-06-06T10:14:00-04:00\",\"2024-06-06T10:15:00-04:00\",\"2024-06-06T10:16:00-04:00\",\"2024-06-06T10:17:00-04:00\",\"2024-06-06T10:18:00-04:00\",\"2024-06-06T10:19:00-04:00\",\"2024-06-06T10:20:00-04:00\",\"2024-06-06T10:21:00-04:00\",\"2024-06-06T10:22:00-04:00\",\"2024-06-06T10:23:00-04:00\",\"2024-06-06T10:24:00-04:00\",\"2024-06-06T10:25:00-04:00\",\"2024-06-06T10:26:00-04:00\",\"2024-06-06T10:27:00-04:00\",\"2024-06-06T10:28:00-04:00\",\"2024-06-06T10:29:00-04:00\",\"2024-06-06T10:30:00-04:00\",\"2024-06-06T10:31:00-04:00\",\"2024-06-06T10:32:00-04:00\",\"2024-06-06T10:33:00-04:00\",\"2024-06-06T10:34:00-04:00\",\"2024-06-06T10:35:00-04:00\",\"2024-06-06T10:36:00-04:00\",\"2024-06-06T10:37:00-04:00\",\"2024-06-06T10:38:00-04:00\",\"2024-06-06T10:39:00-04:00\",\"2024-06-06T10:40:00-04:00\",\"2024-06-06T10:41:00-04:00\",\"2024-06-06T10:42:00-04:00\",\"2024-06-06T10:43:00-04:00\",\"2024-06-06T10:44:00-04:00\",\"2024-06-06T10:45:00-04:00\",\"2024-06-06T10:46:00-04:00\",\"2024-06-06T10:47:00-04:00\",\"2024-06-06T10:48:00-04:00\",\"2024-06-06T10:49:00-04:00\",\"2024-06-06T10:50:00-04:00\",\"2024-06-06T10:51:00-04:00\",\"2024-06-06T10:52:00-04:00\",\"2024-06-06T10:53:00-04:00\",\"2024-06-06T10:54:00-04:00\",\"2024-06-06T10:55:00-04:00\",\"2024-06-06T10:56:00-04:00\",\"2024-06-06T10:57:00-04:00\",\"2024-06-06T10:58:00-04:00\",\"2024-06-06T10:59:00-04:00\",\"2024-06-06T11:00:00-04:00\",\"2024-06-06T11:01:00-04:00\",\"2024-06-06T11:02:00-04:00\",\"2024-06-06T11:03:00-04:00\",\"2024-06-06T11:04:00-04:00\",\"2024-06-06T11:05:00-04:00\",\"2024-06-06T11:06:00-04:00\",\"2024-06-06T11:07:00-04:00\",\"2024-06-06T11:08:00-04:00\",\"2024-06-06T11:09:00-04:00\",\"2024-06-06T11:10:00-04:00\",\"2024-06-06T11:11:00-04:00\",\"2024-06-06T11:12:00-04:00\",\"2024-06-06T11:13:00-04:00\",\"2024-06-06T11:14:00-04:00\",\"2024-06-06T11:15:00-04:00\",\"2024-06-06T11:16:00-04:00\",\"2024-06-06T11:17:00-04:00\",\"2024-06-06T11:18:00-04:00\",\"2024-06-06T11:19:00-04:00\",\"2024-06-06T11:20:00-04:00\",\"2024-06-06T11:21:00-04:00\",\"2024-06-06T11:22:00-04:00\",\"2024-06-06T11:23:00-04:00\",\"2024-06-06T11:24:00-04:00\",\"2024-06-06T11:25:00-04:00\",\"2024-06-06T11:26:00-04:00\",\"2024-06-06T11:27:00-04:00\",\"2024-06-06T11:28:00-04:00\",\"2024-06-06T11:29:00-04:00\",\"2024-06-06T11:30:00-04:00\",\"2024-06-06T11:31:00-04:00\",\"2024-06-06T11:32:00-04:00\",\"2024-06-06T11:33:00-04:00\",\"2024-06-06T11:34:00-04:00\",\"2024-06-06T11:35:00-04:00\",\"2024-06-06T11:36:00-04:00\",\"2024-06-06T11:37:00-04:00\",\"2024-06-06T11:38:00-04:00\",\"2024-06-06T11:39:00-04:00\",\"2024-06-06T11:40:00-04:00\",\"2024-06-06T11:41:00-04:00\",\"2024-06-06T11:42:00-04:00\",\"2024-06-06T11:43:00-04:00\",\"2024-06-06T11:44:00-04:00\",\"2024-06-06T11:45:00-04:00\",\"2024-06-06T11:46:00-04:00\",\"2024-06-06T11:47:00-04:00\",\"2024-06-06T11:48:00-04:00\",\"2024-06-06T11:49:00-04:00\",\"2024-06-06T11:50:00-04:00\",\"2024-06-06T11:51:00-04:00\",\"2024-06-06T11:52:00-04:00\",\"2024-06-06T11:53:00-04:00\",\"2024-06-06T11:54:00-04:00\",\"2024-06-06T11:55:00-04:00\",\"2024-06-06T11:56:00-04:00\",\"2024-06-06T11:57:00-04:00\",\"2024-06-06T11:58:00-04:00\",\"2024-06-06T11:59:00-04:00\",\"2024-06-06T12:00:00-04:00\",\"2024-06-06T12:01:00-04:00\",\"2024-06-06T12:02:00-04:00\",\"2024-06-06T12:03:00-04:00\",\"2024-06-06T12:04:00-04:00\",\"2024-06-06T12:05:00-04:00\",\"2024-06-06T12:06:00-04:00\",\"2024-06-06T12:07:00-04:00\",\"2024-06-06T12:08:00-04:00\",\"2024-06-06T12:09:00-04:00\",\"2024-06-06T12:10:00-04:00\",\"2024-06-06T12:11:00-04:00\",\"2024-06-06T12:12:00-04:00\",\"2024-06-06T12:13:00-04:00\",\"2024-06-06T12:14:00-04:00\",\"2024-06-06T12:15:00-04:00\",\"2024-06-06T12:16:00-04:00\",\"2024-06-06T12:17:00-04:00\",\"2024-06-06T12:18:00-04:00\",\"2024-06-06T12:19:00-04:00\",\"2024-06-06T12:20:00-04:00\",\"2024-06-06T12:21:00-04:00\",\"2024-06-06T12:22:00-04:00\",\"2024-06-06T12:23:00-04:00\",\"2024-06-06T12:24:00-04:00\",\"2024-06-06T12:25:00-04:00\",\"2024-06-06T12:26:00-04:00\",\"2024-06-06T12:27:00-04:00\",\"2024-06-06T12:28:00-04:00\",\"2024-06-06T12:29:00-04:00\",\"2024-06-06T12:30:00-04:00\",\"2024-06-06T12:31:00-04:00\",\"2024-06-06T12:32:00-04:00\",\"2024-06-06T12:33:00-04:00\",\"2024-06-06T12:34:00-04:00\",\"2024-06-06T12:35:00-04:00\",\"2024-06-06T12:36:00-04:00\",\"2024-06-06T12:37:00-04:00\",\"2024-06-06T12:38:00-04:00\",\"2024-06-06T12:39:00-04:00\",\"2024-06-06T12:40:00-04:00\",\"2024-06-06T12:41:00-04:00\",\"2024-06-06T12:42:00-04:00\",\"2024-06-06T12:43:00-04:00\",\"2024-06-06T12:44:00-04:00\",\"2024-06-06T12:45:00-04:00\",\"2024-06-06T12:46:00-04:00\",\"2024-06-06T12:47:00-04:00\",\"2024-06-06T12:48:00-04:00\",\"2024-06-06T12:49:00-04:00\",\"2024-06-06T12:50:00-04:00\",\"2024-06-06T12:51:00-04:00\",\"2024-06-06T12:52:00-04:00\",\"2024-06-06T12:53:00-04:00\",\"2024-06-06T12:54:00-04:00\",\"2024-06-06T12:55:00-04:00\",\"2024-06-06T12:56:00-04:00\",\"2024-06-06T12:57:00-04:00\",\"2024-06-06T12:58:00-04:00\",\"2024-06-06T12:59:00-04:00\",\"2024-06-06T13:00:00-04:00\",\"2024-06-06T13:01:00-04:00\",\"2024-06-06T13:02:00-04:00\",\"2024-06-06T13:03:00-04:00\",\"2024-06-06T13:04:00-04:00\",\"2024-06-06T13:05:00-04:00\",\"2024-06-06T13:06:00-04:00\",\"2024-06-06T13:07:00-04:00\",\"2024-06-06T13:08:00-04:00\",\"2024-06-06T13:09:00-04:00\",\"2024-06-06T13:10:00-04:00\",\"2024-06-06T13:11:00-04:00\",\"2024-06-06T13:12:00-04:00\",\"2024-06-06T13:13:00-04:00\",\"2024-06-06T13:14:00-04:00\",\"2024-06-06T13:15:00-04:00\",\"2024-06-06T13:16:00-04:00\",\"2024-06-06T13:17:00-04:00\",\"2024-06-06T13:18:00-04:00\",\"2024-06-06T13:19:00-04:00\",\"2024-06-06T13:20:00-04:00\",\"2024-06-06T13:21:00-04:00\",\"2024-06-06T13:22:00-04:00\",\"2024-06-06T13:23:00-04:00\",\"2024-06-06T13:24:00-04:00\",\"2024-06-06T13:25:00-04:00\",\"2024-06-06T13:26:00-04:00\",\"2024-06-06T13:27:00-04:00\",\"2024-06-06T13:28:00-04:00\",\"2024-06-06T13:29:00-04:00\",\"2024-06-06T13:30:00-04:00\",\"2024-06-06T13:31:00-04:00\",\"2024-06-06T13:32:00-04:00\",\"2024-06-06T13:33:00-04:00\",\"2024-06-06T13:34:00-04:00\",\"2024-06-06T13:35:00-04:00\",\"2024-06-06T13:36:00-04:00\",\"2024-06-06T13:37:00-04:00\",\"2024-06-06T13:38:00-04:00\",\"2024-06-06T13:39:00-04:00\",\"2024-06-06T13:40:00-04:00\",\"2024-06-06T13:41:00-04:00\",\"2024-06-06T13:42:00-04:00\",\"2024-06-06T13:43:00-04:00\",\"2024-06-06T13:44:00-04:00\",\"2024-06-06T13:45:00-04:00\",\"2024-06-06T13:46:00-04:00\",\"2024-06-06T13:47:00-04:00\",\"2024-06-06T13:48:00-04:00\",\"2024-06-06T13:49:00-04:00\",\"2024-06-06T13:50:00-04:00\",\"2024-06-06T13:51:00-04:00\",\"2024-06-06T13:52:00-04:00\",\"2024-06-06T13:53:00-04:00\",\"2024-06-06T13:54:00-04:00\",\"2024-06-06T13:55:00-04:00\",\"2024-06-06T13:56:00-04:00\",\"2024-06-06T13:57:00-04:00\",\"2024-06-06T13:58:00-04:00\",\"2024-06-06T13:59:00-04:00\",\"2024-06-06T14:00:00-04:00\",\"2024-06-06T14:01:00-04:00\",\"2024-06-06T14:02:00-04:00\",\"2024-06-06T14:03:00-04:00\",\"2024-06-06T14:04:00-04:00\",\"2024-06-06T14:05:00-04:00\",\"2024-06-06T14:06:00-04:00\",\"2024-06-06T14:07:00-04:00\",\"2024-06-06T14:08:00-04:00\",\"2024-06-06T14:09:00-04:00\",\"2024-06-06T14:10:00-04:00\",\"2024-06-06T14:11:00-04:00\",\"2024-06-06T14:12:00-04:00\",\"2024-06-06T14:13:00-04:00\",\"2024-06-06T14:14:00-04:00\",\"2024-06-06T14:15:00-04:00\",\"2024-06-06T14:16:00-04:00\",\"2024-06-06T14:17:00-04:00\",\"2024-06-06T14:18:00-04:00\",\"2024-06-06T14:19:00-04:00\",\"2024-06-06T14:20:00-04:00\",\"2024-06-06T14:21:00-04:00\",\"2024-06-06T14:22:00-04:00\",\"2024-06-06T14:23:00-04:00\",\"2024-06-06T14:24:00-04:00\",\"2024-06-06T14:25:00-04:00\",\"2024-06-06T14:26:00-04:00\",\"2024-06-06T14:27:00-04:00\",\"2024-06-06T14:28:00-04:00\",\"2024-06-06T14:29:00-04:00\",\"2024-06-06T14:30:00-04:00\",\"2024-06-06T14:31:00-04:00\",\"2024-06-06T14:32:00-04:00\",\"2024-06-06T14:33:00-04:00\",\"2024-06-06T14:34:00-04:00\",\"2024-06-06T14:35:00-04:00\",\"2024-06-06T14:36:00-04:00\",\"2024-06-06T14:37:00-04:00\",\"2024-06-06T14:38:00-04:00\",\"2024-06-06T14:39:00-04:00\",\"2024-06-06T14:40:00-04:00\",\"2024-06-06T14:41:00-04:00\",\"2024-06-06T14:42:00-04:00\",\"2024-06-06T14:43:00-04:00\",\"2024-06-06T14:44:00-04:00\",\"2024-06-06T14:45:00-04:00\",\"2024-06-06T14:46:00-04:00\",\"2024-06-06T14:47:00-04:00\",\"2024-06-06T14:48:00-04:00\",\"2024-06-06T14:49:00-04:00\",\"2024-06-06T14:50:00-04:00\",\"2024-06-06T14:51:00-04:00\",\"2024-06-06T14:52:00-04:00\",\"2024-06-06T14:53:00-04:00\",\"2024-06-06T14:54:00-04:00\",\"2024-06-06T14:55:00-04:00\",\"2024-06-06T14:56:00-04:00\",\"2024-06-06T14:57:00-04:00\",\"2024-06-06T14:58:00-04:00\",\"2024-06-06T14:59:00-04:00\",\"2024-06-06T15:00:00-04:00\",\"2024-06-06T15:01:00-04:00\",\"2024-06-06T15:02:00-04:00\",\"2024-06-06T15:03:00-04:00\",\"2024-06-06T15:04:00-04:00\",\"2024-06-06T15:05:00-04:00\",\"2024-06-06T15:06:00-04:00\",\"2024-06-06T15:07:00-04:00\",\"2024-06-06T15:08:00-04:00\",\"2024-06-06T15:09:00-04:00\",\"2024-06-06T15:10:00-04:00\",\"2024-06-06T15:11:00-04:00\",\"2024-06-06T15:12:00-04:00\",\"2024-06-06T15:13:00-04:00\",\"2024-06-06T15:14:00-04:00\",\"2024-06-06T15:15:00-04:00\",\"2024-06-06T15:16:00-04:00\",\"2024-06-06T15:17:00-04:00\",\"2024-06-06T15:18:00-04:00\",\"2024-06-06T15:19:00-04:00\",\"2024-06-06T15:20:00-04:00\",\"2024-06-06T15:21:00-04:00\",\"2024-06-06T15:22:00-04:00\",\"2024-06-06T15:23:00-04:00\",\"2024-06-06T15:24:00-04:00\",\"2024-06-06T15:25:00-04:00\",\"2024-06-06T15:26:00-04:00\",\"2024-06-06T15:27:00-04:00\",\"2024-06-06T15:28:00-04:00\",\"2024-06-06T15:29:00-04:00\",\"2024-06-06T15:30:00-04:00\",\"2024-06-06T15:31:00-04:00\",\"2024-06-06T15:32:00-04:00\",\"2024-06-06T15:33:00-04:00\",\"2024-06-06T15:34:00-04:00\",\"2024-06-06T15:35:00-04:00\",\"2024-06-06T15:36:00-04:00\",\"2024-06-06T15:37:00-04:00\",\"2024-06-06T15:38:00-04:00\",\"2024-06-06T15:39:00-04:00\",\"2024-06-06T15:40:00-04:00\",\"2024-06-06T15:41:00-04:00\",\"2024-06-06T15:42:00-04:00\",\"2024-06-06T15:43:00-04:00\",\"2024-06-06T15:44:00-04:00\",\"2024-06-06T15:45:00-04:00\",\"2024-06-06T15:46:00-04:00\",\"2024-06-06T15:47:00-04:00\",\"2024-06-06T15:48:00-04:00\",\"2024-06-06T15:49:00-04:00\",\"2024-06-06T15:50:00-04:00\",\"2024-06-06T15:51:00-04:00\",\"2024-06-06T15:52:00-04:00\",\"2024-06-06T15:53:00-04:00\",\"2024-06-06T15:54:00-04:00\",\"2024-06-06T15:55:00-04:00\",\"2024-06-06T15:56:00-04:00\",\"2024-06-06T15:57:00-04:00\",\"2024-06-06T15:58:00-04:00\",\"2024-06-06T15:59:00-04:00\"],\"xaxis\":\"x\",\"y\":[30.43000030517578,30.43000030517578,30.426666259765625,30.448749542236328,30.457839721679687,30.422632146764688,30.35927405249266,30.32801027689129,30.320769212189177,30.316348902988288,30.311959665449713,30.30290045092163,30.29602251628775,30.286607000067015,30.28626790306609,30.282485043408307,30.262441883293278,30.249054800448643,30.259170519355564,30.278853193201456,30.28662624410194,30.281100474769815,30.27304159517869,30.270104224366875,30.270462639348565,30.273480470087605,30.28354959831913,30.28819191184545,30.30418208182289,30.305377785129053,30.31157295235259,30.30777184947409,30.290223228731115,30.289108643796528,30.2903415580628,30.294039533303966,30.29909344370292,30.303756444033997,30.29870203140121,30.30101530263505,30.29791778412177,30.29381420107879,30.286591263280616,30.277207585748343,30.281005188316254,30.28586582160481,30.28578904052725,30.278840507848944,30.270075376938856,30.264005577281118,30.263967081248595,30.262669753964513,30.26429482680771,30.269401491829814,30.27964394698278,30.289550311408803,30.29317836972725,30.290177882816298,30.287418869345352,30.289545700775186,30.297307924130983,30.3058005202656,30.314197337371905,30.322655617576405,30.33238270823756,30.340406212174685,30.342587856006624,30.342134703916972,30.344264961370833,30.34730388054261,30.349065833347264,30.354789426257053,30.353009823094688,30.35876045238599,30.364296624193354,30.37076479370298,30.37633511989812,30.379520498617985,30.382989509289068,30.386916017466625,30.389889664506256,30.392156352368897,30.391633121707486,30.387403850055172,30.39032076568274,30.395581615416145,30.393994048479787,30.38888694373818,30.38870370536523,30.378786162150796,30.370628282444336,30.36042069839439,30.349547672010246,30.335710551502704,30.326466378276194,30.31604942658803,30.30867760929523,30.302414264179003,30.297040910121602,30.300381640602197,30.299454453573397,30.298789324071542,30.300984255440184,30.302480541793106,30.30382868959741,30.304874010112044,30.303929114099432,30.310151929423057,30.317490457552903,30.32147891819136,30.32769597667103,30.3354558102,30.339515943007868,30.341965351982118,30.34265687656749,30.346767669746843,30.349668578727062,30.35414372531313,30.362711361236304,30.367774334483375,30.37263665055542,30.375077198719673,30.383817551706414,30.385799452273968,30.384329388320843,30.380249915476174,30.38152588294303,30.3865957268099,30.39171959871069,30.398897906019453,30.40181978842777,30.40428166530849,30.4112088422157,30.418534496640447,30.420814462753448,30.422959232722473,30.42452093199359,30.42850374687862,30.43541974540923,30.436675215436928,30.433972945613217,30.434130871817704,30.437511252541324,30.448466411563835,30.449758634390367,30.45354600978717,30.453769688851615,30.45376756550942,30.452801442812838,30.455255878807133,30.453869394591102,30.451742320621676,30.45123656244674,30.45227085447941,30.45466653724363,30.449539884591,30.445010557488207,30.43608081858073,30.426875159811193,30.42312707576148,30.41812622204059,30.414664089021294,30.410222816266735,30.407816398643728,30.408285822360458,30.405249436925736,30.40368883195456,30.39946655574289,30.39685460932044,30.396827546040434,30.395007958785268,30.392507816131612,30.39048773074446,30.386757896429444,30.38696977751586,30.38742061290104,30.385256643290504,30.3887934892021,30.384746302580297,30.38451355984187,30.383860480773752,30.379912154321943,30.38096674334674,30.38226070436985,30.382589736630255,30.38094524768278,30.382037764904897,30.377987369231555,30.37679810872837,30.37233140863698,30.36986997541277,30.370861160320445,30.37221393495758,30.37532341278173,30.37326648625738,30.37268314472002,30.37520198871788,30.37881918690546,30.379288081896227,30.380949335979903,30.38263815410522,30.38490360900304,30.39009641647739,30.394656236079086,30.40276520253992,30.410801313488555,30.418173907141774,30.428649612398292,30.43370321198028,30.442229587507885,30.445843723528824,30.453406356714147,30.462017392904993,30.469098939974977,30.47318870255235,30.48039827068889,30.484407141329356,30.487128140957353,30.488705910589466,30.491117144527706,30.494312878729524,30.49127654493919,30.49289589866639,30.491489591748476,30.486836545498598,30.48212999392724,30.480792133165334,30.477283339837577,30.473491559943902,30.469794981449606,30.466736356480098,30.461260494294997,30.456720758505853,30.4525625967159,30.452264145312064,30.452011352574516,30.45299757697082,30.45574953771417,30.45867061036566,30.459586301317994,30.45907209500519,30.459888390490647,30.457437260348193,30.455728796489623,30.455452250073318,30.455837717844528,30.453401228031154,30.453159288792712,30.455086072079254,30.45661131523443,30.461709080557895,30.46475360161744,30.46873334106789,30.474112423010297,30.479160474060983,30.48101944846651,30.48584717538888,30.488889604985467,30.49050321965671,30.49100377088717,30.489888817484967,30.493178105142807,30.489034425761854,30.48668395178172,30.486137615626493,30.486042852884143,30.485209083092197,30.484539448368324,30.483148632608096,30.478336027463715,30.47032175764457,30.465078949164035,30.461029341212477,30.452200688670413,30.444361145045583,30.436686775075657,30.427646636834467,30.416579491633495,30.406623361786345,30.400997420925204,30.393762013002764,30.386065128282958,30.388002246981372,30.38551986674787,30.385361272405824,30.386136303109026,30.384819423711022,30.381628978224956,30.383557190105208,30.392867843025755,30.39714954040047,30.400372927159847,30.40329706862993,30.408562616404474,30.408123664663584,30.410711743373334,30.41037471094819,30.411423275590217,30.41130000001316,30.412489097150026,30.422796837308006,30.420764935300106,30.421458380445955,30.422543594255323,30.424377565921056,30.42465123729437,30.42957617253081,30.433720721368967,30.43776354646184,30.43681539634136,30.436536022433824,30.438898165274335,30.435508475491304,30.434565351300115,30.433093641417102,30.431848348439168,30.43262215642522,30.436789838765574,30.437891281872332,30.439819920323366,30.436360546638547,30.441778214755054,30.442846634539304,30.450100963243745,30.452504118382244,30.455965081934163,30.458093676882243,30.460274426026228,30.46230797177145,30.462329937885784,30.4618023246203,30.457301628355705,30.457426754021704,30.451888553929123,30.45372242437862,30.448161373735868,30.449873522550263,30.448423300012205,30.448882679538755,30.45085248732715,30.45235536949218,30.456460324991262,30.4576314944742,30.458334366831235,30.45966739561952,30.45923169145364,30.4613597231003,30.465783353622705,30.467392748149745,30.471448756535114,30.47760919696002,30.48172557157634,30.48548063501626,30.48560333619262,30.48243921657889,30.48117183199957,30.479266068626277,30.479200881060585,30.4804436054836,30.48589171307061,30.48921601795578,30.490505672214006,30.485394832793812,30.480275321652915,30.47796843479763,30.47946808312329,30.48137515299285,30.484960265597547,30.486600389169,30.490682655987786,30.493963773693714,30.492921666347847,30.48722916858987,30.48419210045994,30.48508558825351,30.488631799710596,30.489127997203795,30.492725467444245,30.4916885956726,30.496773029735635,30.502654078608938,30.50996634572811,30.51067654862525,30.514514307965875,30.519109006235027,30.509919495248283,30.499836413709417,30.485181785538582,30.475218346585024,30.462217068716598],\"yaxis\":\"y\",\"type\":\"scatter\"}],                        {\"template\":{\"data\":{\"histogram2dcontour\":[{\"type\":\"histogram2dcontour\",\"colorbar\":{\"outlinewidth\":0,\"ticks\":\"\"},\"colorscale\":[[0.0,\"#0d0887\"],[0.1111111111111111,\"#46039f\"],[0.2222222222222222,\"#7201a8\"],[0.3333333333333333,\"#9c179e\"],[0.4444444444444444,\"#bd3786\"],[0.5555555555555556,\"#d8576b\"],[0.6666666666666666,\"#ed7953\"],[0.7777777777777778,\"#fb9f3a\"],[0.8888888888888888,\"#fdca26\"],[1.0,\"#f0f921\"]]}],\"choropleth\":[{\"type\":\"choropleth\",\"colorbar\":{\"outlinewidth\":0,\"ticks\":\"\"}}],\"histogram2d\":[{\"type\":\"histogram2d\",\"colorbar\":{\"outlinewidth\":0,\"ticks\":\"\"},\"colorscale\":[[0.0,\"#0d0887\"],[0.1111111111111111,\"#46039f\"],[0.2222222222222222,\"#7201a8\"],[0.3333333333333333,\"#9c179e\"],[0.4444444444444444,\"#bd3786\"],[0.5555555555555556,\"#d8576b\"],[0.6666666666666666,\"#ed7953\"],[0.7777777777777778,\"#fb9f3a\"],[0.8888888888888888,\"#fdca26\"],[1.0,\"#f0f921\"]]}],\"heatmap\":[{\"type\":\"heatmap\",\"colorbar\":{\"outlinewidth\":0,\"ticks\":\"\"},\"colorscale\":[[0.0,\"#0d0887\"],[0.1111111111111111,\"#46039f\"],[0.2222222222222222,\"#7201a8\"],[0.3333333333333333,\"#9c179e\"],[0.4444444444444444,\"#bd3786\"],[0.5555555555555556,\"#d8576b\"],[0.6666666666666666,\"#ed7953\"],[0.7777777777777778,\"#fb9f3a\"],[0.8888888888888888,\"#fdca26\"],[1.0,\"#f0f921\"]]}],\"heatmapgl\":[{\"type\":\"heatmapgl\",\"colorbar\":{\"outlinewidth\":0,\"ticks\":\"\"},\"colorscale\":[[0.0,\"#0d0887\"],[0.1111111111111111,\"#46039f\"],[0.2222222222222222,\"#7201a8\"],[0.3333333333333333,\"#9c179e\"],[0.4444444444444444,\"#bd3786\"],[0.5555555555555556,\"#d8576b\"],[0.6666666666666666,\"#ed7953\"],[0.7777777777777778,\"#fb9f3a\"],[0.8888888888888888,\"#fdca26\"],[1.0,\"#f0f921\"]]}],\"contourcarpet\":[{\"type\":\"contourcarpet\",\"colorbar\":{\"outlinewidth\":0,\"ticks\":\"\"}}],\"contour\":[{\"type\":\"contour\",\"colorbar\":{\"outlinewidth\":0,\"ticks\":\"\"},\"colorscale\":[[0.0,\"#0d0887\"],[0.1111111111111111,\"#46039f\"],[0.2222222222222222,\"#7201a8\"],[0.3333333333333333,\"#9c179e\"],[0.4444444444444444,\"#bd3786\"],[0.5555555555555556,\"#d8576b\"],[0.6666666666666666,\"#ed7953\"],[0.7777777777777778,\"#fb9f3a\"],[0.8888888888888888,\"#fdca26\"],[1.0,\"#f0f921\"]]}],\"surface\":[{\"type\":\"surface\",\"colorbar\":{\"outlinewidth\":0,\"ticks\":\"\"},\"colorscale\":[[0.0,\"#0d0887\"],[0.1111111111111111,\"#46039f\"],[0.2222222222222222,\"#7201a8\"],[0.3333333333333333,\"#9c179e\"],[0.4444444444444444,\"#bd3786\"],[0.5555555555555556,\"#d8576b\"],[0.6666666666666666,\"#ed7953\"],[0.7777777777777778,\"#fb9f3a\"],[0.8888888888888888,\"#fdca26\"],[1.0,\"#f0f921\"]]}],\"mesh3d\":[{\"type\":\"mesh3d\",\"colorbar\":{\"outlinewidth\":0,\"ticks\":\"\"}}],\"scatter\":[{\"fillpattern\":{\"fillmode\":\"overlay\",\"size\":10,\"solidity\":0.2},\"type\":\"scatter\"}],\"parcoords\":[{\"type\":\"parcoords\",\"line\":{\"colorbar\":{\"outlinewidth\":0,\"ticks\":\"\"}}}],\"scatterpolargl\":[{\"type\":\"scatterpolargl\",\"marker\":{\"colorbar\":{\"outlinewidth\":0,\"ticks\":\"\"}}}],\"bar\":[{\"error_x\":{\"color\":\"#2a3f5f\"},\"error_y\":{\"color\":\"#2a3f5f\"},\"marker\":{\"line\":{\"color\":\"#E5ECF6\",\"width\":0.5},\"pattern\":{\"fillmode\":\"overlay\",\"size\":10,\"solidity\":0.2}},\"type\":\"bar\"}],\"scattergeo\":[{\"type\":\"scattergeo\",\"marker\":{\"colorbar\":{\"outlinewidth\":0,\"ticks\":\"\"}}}],\"scatterpolar\":[{\"type\":\"scatterpolar\",\"marker\":{\"colorbar\":{\"outlinewidth\":0,\"ticks\":\"\"}}}],\"histogram\":[{\"marker\":{\"pattern\":{\"fillmode\":\"overlay\",\"size\":10,\"solidity\":0.2}},\"type\":\"histogram\"}],\"scattergl\":[{\"type\":\"scattergl\",\"marker\":{\"colorbar\":{\"outlinewidth\":0,\"ticks\":\"\"}}}],\"scatter3d\":[{\"type\":\"scatter3d\",\"line\":{\"colorbar\":{\"outlinewidth\":0,\"ticks\":\"\"}},\"marker\":{\"colorbar\":{\"outlinewidth\":0,\"ticks\":\"\"}}}],\"scattermapbox\":[{\"type\":\"scattermapbox\",\"marker\":{\"colorbar\":{\"outlinewidth\":0,\"ticks\":\"\"}}}],\"scatterternary\":[{\"type\":\"scatterternary\",\"marker\":{\"colorbar\":{\"outlinewidth\":0,\"ticks\":\"\"}}}],\"scattercarpet\":[{\"type\":\"scattercarpet\",\"marker\":{\"colorbar\":{\"outlinewidth\":0,\"ticks\":\"\"}}}],\"carpet\":[{\"aaxis\":{\"endlinecolor\":\"#2a3f5f\",\"gridcolor\":\"white\",\"linecolor\":\"white\",\"minorgridcolor\":\"white\",\"startlinecolor\":\"#2a3f5f\"},\"baxis\":{\"endlinecolor\":\"#2a3f5f\",\"gridcolor\":\"white\",\"linecolor\":\"white\",\"minorgridcolor\":\"white\",\"startlinecolor\":\"#2a3f5f\"},\"type\":\"carpet\"}],\"table\":[{\"cells\":{\"fill\":{\"color\":\"#EBF0F8\"},\"line\":{\"color\":\"white\"}},\"header\":{\"fill\":{\"color\":\"#C8D4E3\"},\"line\":{\"color\":\"white\"}},\"type\":\"table\"}],\"barpolar\":[{\"marker\":{\"line\":{\"color\":\"#E5ECF6\",\"width\":0.5},\"pattern\":{\"fillmode\":\"overlay\",\"size\":10,\"solidity\":0.2}},\"type\":\"barpolar\"}],\"pie\":[{\"automargin\":true,\"type\":\"pie\"}]},\"layout\":{\"autotypenumbers\":\"strict\",\"colorway\":[\"#636efa\",\"#EF553B\",\"#00cc96\",\"#ab63fa\",\"#FFA15A\",\"#19d3f3\",\"#FF6692\",\"#B6E880\",\"#FF97FF\",\"#FECB52\"],\"font\":{\"color\":\"#2a3f5f\"},\"hovermode\":\"closest\",\"hoverlabel\":{\"align\":\"left\"},\"paper_bgcolor\":\"white\",\"plot_bgcolor\":\"#E5ECF6\",\"polar\":{\"bgcolor\":\"#E5ECF6\",\"angularaxis\":{\"gridcolor\":\"white\",\"linecolor\":\"white\",\"ticks\":\"\"},\"radialaxis\":{\"gridcolor\":\"white\",\"linecolor\":\"white\",\"ticks\":\"\"}},\"ternary\":{\"bgcolor\":\"#E5ECF6\",\"aaxis\":{\"gridcolor\":\"white\",\"linecolor\":\"white\",\"ticks\":\"\"},\"baxis\":{\"gridcolor\":\"white\",\"linecolor\":\"white\",\"ticks\":\"\"},\"caxis\":{\"gridcolor\":\"white\",\"linecolor\":\"white\",\"ticks\":\"\"}},\"coloraxis\":{\"colorbar\":{\"outlinewidth\":0,\"ticks\":\"\"}},\"colorscale\":{\"sequential\":[[0.0,\"#0d0887\"],[0.1111111111111111,\"#46039f\"],[0.2222222222222222,\"#7201a8\"],[0.3333333333333333,\"#9c179e\"],[0.4444444444444444,\"#bd3786\"],[0.5555555555555556,\"#d8576b\"],[0.6666666666666666,\"#ed7953\"],[0.7777777777777778,\"#fb9f3a\"],[0.8888888888888888,\"#fdca26\"],[1.0,\"#f0f921\"]],\"sequentialminus\":[[0.0,\"#0d0887\"],[0.1111111111111111,\"#46039f\"],[0.2222222222222222,\"#7201a8\"],[0.3333333333333333,\"#9c179e\"],[0.4444444444444444,\"#bd3786\"],[0.5555555555555556,\"#d8576b\"],[0.6666666666666666,\"#ed7953\"],[0.7777777777777778,\"#fb9f3a\"],[0.8888888888888888,\"#fdca26\"],[1.0,\"#f0f921\"]],\"diverging\":[[0,\"#8e0152\"],[0.1,\"#c51b7d\"],[0.2,\"#de77ae\"],[0.3,\"#f1b6da\"],[0.4,\"#fde0ef\"],[0.5,\"#f7f7f7\"],[0.6,\"#e6f5d0\"],[0.7,\"#b8e186\"],[0.8,\"#7fbc41\"],[0.9,\"#4d9221\"],[1,\"#276419\"]]},\"xaxis\":{\"gridcolor\":\"white\",\"linecolor\":\"white\",\"ticks\":\"\",\"title\":{\"standoff\":15},\"zerolinecolor\":\"white\",\"automargin\":true,\"zerolinewidth\":2},\"yaxis\":{\"gridcolor\":\"white\",\"linecolor\":\"white\",\"ticks\":\"\",\"title\":{\"standoff\":15},\"zerolinecolor\":\"white\",\"automargin\":true,\"zerolinewidth\":2},\"scene\":{\"xaxis\":{\"backgroundcolor\":\"#E5ECF6\",\"gridcolor\":\"white\",\"linecolor\":\"white\",\"showbackground\":true,\"ticks\":\"\",\"zerolinecolor\":\"white\",\"gridwidth\":2},\"yaxis\":{\"backgroundcolor\":\"#E5ECF6\",\"gridcolor\":\"white\",\"linecolor\":\"white\",\"showbackground\":true,\"ticks\":\"\",\"zerolinecolor\":\"white\",\"gridwidth\":2},\"zaxis\":{\"backgroundcolor\":\"#E5ECF6\",\"gridcolor\":\"white\",\"linecolor\":\"white\",\"showbackground\":true,\"ticks\":\"\",\"zerolinecolor\":\"white\",\"gridwidth\":2}},\"shapedefaults\":{\"line\":{\"color\":\"#2a3f5f\"}},\"annotationdefaults\":{\"arrowcolor\":\"#2a3f5f\",\"arrowhead\":0,\"arrowwidth\":1},\"geo\":{\"bgcolor\":\"white\",\"landcolor\":\"#E5ECF6\",\"subunitcolor\":\"white\",\"showland\":true,\"showlakes\":true,\"lakecolor\":\"white\"},\"title\":{\"x\":0.05},\"mapbox\":{\"style\":\"light\"}}},\"xaxis\":{\"anchor\":\"y\",\"domain\":[0.0,1.0],\"title\":{\"text\":\"Datetime\"}},\"yaxis\":{\"anchor\":\"x\",\"domain\":[0.0,1.0],\"title\":{\"text\":\"value\"}},\"legend\":{\"title\":{\"text\":\"variable\"},\"tracegroupgap\":0},\"title\":{\"text\":\"INTC Exponential Moving Averages\"}},                        {\"responsive\": true}                    ).then(function(){\n",
       "                            \n",
       "var gd = document.getElementById('45aa968a-8465-49cd-88cd-49cc05b826c5');\n",
       "var x = new MutationObserver(function (mutations, observer) {{\n",
       "        var display = window.getComputedStyle(gd).display;\n",
       "        if (!display || display === 'none') {{\n",
       "            console.log([gd, 'removed!']);\n",
       "            Plotly.purge(gd);\n",
       "            observer.disconnect();\n",
       "        }}\n",
       "}});\n",
       "\n",
       "// Listen for the removal of the full notebook cells\n",
       "var notebookContainer = gd.closest('#notebook-container');\n",
       "if (notebookContainer) {{\n",
       "    x.observe(notebookContainer, {childList: true});\n",
       "}}\n",
       "\n",
       "// Listen for the clearing of the current output cell\n",
       "var outputEl = gd.closest('.output');\n",
       "if (outputEl) {{\n",
       "    x.observe(outputEl, {childList: true});\n",
       "}}\n",
       "\n",
       "                        })                };                });            </script>        </div>"
      ]
     },
     "metadata": {},
     "output_type": "display_data"
    },
    {
     "data": {
      "application/vnd.plotly.v1+json": {
       "config": {
        "plotlyServerURL": "https://plot.ly"
       },
       "data": [
        {
         "hovertemplate": "Datetime=%{x}<br>MACD_12_24=%{y}<extra></extra>",
         "legendgroup": "",
         "line": {
          "color": "#636efa",
          "dash": "solid"
         },
         "marker": {
          "symbol": "circle"
         },
         "mode": "lines",
         "name": "",
         "orientation": "v",
         "showlegend": false,
         "type": "scatter",
         "x": [
          "2024-06-06T09:30:00-04:00",
          "2024-06-06T09:31:00-04:00",
          "2024-06-06T09:32:00-04:00",
          "2024-06-06T09:33:00-04:00",
          "2024-06-06T09:34:00-04:00",
          "2024-06-06T09:35:00-04:00",
          "2024-06-06T09:36:00-04:00",
          "2024-06-06T09:37:00-04:00",
          "2024-06-06T09:38:00-04:00",
          "2024-06-06T09:39:00-04:00",
          "2024-06-06T09:40:00-04:00",
          "2024-06-06T09:41:00-04:00",
          "2024-06-06T09:42:00-04:00",
          "2024-06-06T09:43:00-04:00",
          "2024-06-06T09:44:00-04:00",
          "2024-06-06T09:45:00-04:00",
          "2024-06-06T09:46:00-04:00",
          "2024-06-06T09:47:00-04:00",
          "2024-06-06T09:48:00-04:00",
          "2024-06-06T09:49:00-04:00",
          "2024-06-06T09:50:00-04:00",
          "2024-06-06T09:51:00-04:00",
          "2024-06-06T09:52:00-04:00",
          "2024-06-06T09:53:00-04:00",
          "2024-06-06T09:54:00-04:00",
          "2024-06-06T09:55:00-04:00",
          "2024-06-06T09:56:00-04:00",
          "2024-06-06T09:57:00-04:00",
          "2024-06-06T09:58:00-04:00",
          "2024-06-06T09:59:00-04:00",
          "2024-06-06T10:00:00-04:00",
          "2024-06-06T10:01:00-04:00",
          "2024-06-06T10:02:00-04:00",
          "2024-06-06T10:03:00-04:00",
          "2024-06-06T10:04:00-04:00",
          "2024-06-06T10:05:00-04:00",
          "2024-06-06T10:06:00-04:00",
          "2024-06-06T10:07:00-04:00",
          "2024-06-06T10:08:00-04:00",
          "2024-06-06T10:09:00-04:00",
          "2024-06-06T10:10:00-04:00",
          "2024-06-06T10:11:00-04:00",
          "2024-06-06T10:12:00-04:00",
          "2024-06-06T10:13:00-04:00",
          "2024-06-06T10:14:00-04:00",
          "2024-06-06T10:15:00-04:00",
          "2024-06-06T10:16:00-04:00",
          "2024-06-06T10:17:00-04:00",
          "2024-06-06T10:18:00-04:00",
          "2024-06-06T10:19:00-04:00",
          "2024-06-06T10:20:00-04:00",
          "2024-06-06T10:21:00-04:00",
          "2024-06-06T10:22:00-04:00",
          "2024-06-06T10:23:00-04:00",
          "2024-06-06T10:24:00-04:00",
          "2024-06-06T10:25:00-04:00",
          "2024-06-06T10:26:00-04:00",
          "2024-06-06T10:27:00-04:00",
          "2024-06-06T10:28:00-04:00",
          "2024-06-06T10:29:00-04:00",
          "2024-06-06T10:30:00-04:00",
          "2024-06-06T10:31:00-04:00",
          "2024-06-06T10:32:00-04:00",
          "2024-06-06T10:33:00-04:00",
          "2024-06-06T10:34:00-04:00",
          "2024-06-06T10:35:00-04:00",
          "2024-06-06T10:36:00-04:00",
          "2024-06-06T10:37:00-04:00",
          "2024-06-06T10:38:00-04:00",
          "2024-06-06T10:39:00-04:00",
          "2024-06-06T10:40:00-04:00",
          "2024-06-06T10:41:00-04:00",
          "2024-06-06T10:42:00-04:00",
          "2024-06-06T10:43:00-04:00",
          "2024-06-06T10:44:00-04:00",
          "2024-06-06T10:45:00-04:00",
          "2024-06-06T10:46:00-04:00",
          "2024-06-06T10:47:00-04:00",
          "2024-06-06T10:48:00-04:00",
          "2024-06-06T10:49:00-04:00",
          "2024-06-06T10:50:00-04:00",
          "2024-06-06T10:51:00-04:00",
          "2024-06-06T10:52:00-04:00",
          "2024-06-06T10:53:00-04:00",
          "2024-06-06T10:54:00-04:00",
          "2024-06-06T10:55:00-04:00",
          "2024-06-06T10:56:00-04:00",
          "2024-06-06T10:57:00-04:00",
          "2024-06-06T10:58:00-04:00",
          "2024-06-06T10:59:00-04:00",
          "2024-06-06T11:00:00-04:00",
          "2024-06-06T11:01:00-04:00",
          "2024-06-06T11:02:00-04:00",
          "2024-06-06T11:03:00-04:00",
          "2024-06-06T11:04:00-04:00",
          "2024-06-06T11:05:00-04:00",
          "2024-06-06T11:06:00-04:00",
          "2024-06-06T11:07:00-04:00",
          "2024-06-06T11:08:00-04:00",
          "2024-06-06T11:09:00-04:00",
          "2024-06-06T11:10:00-04:00",
          "2024-06-06T11:11:00-04:00",
          "2024-06-06T11:12:00-04:00",
          "2024-06-06T11:13:00-04:00",
          "2024-06-06T11:14:00-04:00",
          "2024-06-06T11:15:00-04:00",
          "2024-06-06T11:16:00-04:00",
          "2024-06-06T11:17:00-04:00",
          "2024-06-06T11:18:00-04:00",
          "2024-06-06T11:19:00-04:00",
          "2024-06-06T11:20:00-04:00",
          "2024-06-06T11:21:00-04:00",
          "2024-06-06T11:22:00-04:00",
          "2024-06-06T11:23:00-04:00",
          "2024-06-06T11:24:00-04:00",
          "2024-06-06T11:25:00-04:00",
          "2024-06-06T11:26:00-04:00",
          "2024-06-06T11:27:00-04:00",
          "2024-06-06T11:28:00-04:00",
          "2024-06-06T11:29:00-04:00",
          "2024-06-06T11:30:00-04:00",
          "2024-06-06T11:31:00-04:00",
          "2024-06-06T11:32:00-04:00",
          "2024-06-06T11:33:00-04:00",
          "2024-06-06T11:34:00-04:00",
          "2024-06-06T11:35:00-04:00",
          "2024-06-06T11:36:00-04:00",
          "2024-06-06T11:37:00-04:00",
          "2024-06-06T11:38:00-04:00",
          "2024-06-06T11:39:00-04:00",
          "2024-06-06T11:40:00-04:00",
          "2024-06-06T11:41:00-04:00",
          "2024-06-06T11:42:00-04:00",
          "2024-06-06T11:43:00-04:00",
          "2024-06-06T11:44:00-04:00",
          "2024-06-06T11:45:00-04:00",
          "2024-06-06T11:46:00-04:00",
          "2024-06-06T11:47:00-04:00",
          "2024-06-06T11:48:00-04:00",
          "2024-06-06T11:49:00-04:00",
          "2024-06-06T11:50:00-04:00",
          "2024-06-06T11:51:00-04:00",
          "2024-06-06T11:52:00-04:00",
          "2024-06-06T11:53:00-04:00",
          "2024-06-06T11:54:00-04:00",
          "2024-06-06T11:55:00-04:00",
          "2024-06-06T11:56:00-04:00",
          "2024-06-06T11:57:00-04:00",
          "2024-06-06T11:58:00-04:00",
          "2024-06-06T11:59:00-04:00",
          "2024-06-06T12:00:00-04:00",
          "2024-06-06T12:01:00-04:00",
          "2024-06-06T12:02:00-04:00",
          "2024-06-06T12:03:00-04:00",
          "2024-06-06T12:04:00-04:00",
          "2024-06-06T12:05:00-04:00",
          "2024-06-06T12:06:00-04:00",
          "2024-06-06T12:07:00-04:00",
          "2024-06-06T12:08:00-04:00",
          "2024-06-06T12:09:00-04:00",
          "2024-06-06T12:10:00-04:00",
          "2024-06-06T12:11:00-04:00",
          "2024-06-06T12:12:00-04:00",
          "2024-06-06T12:13:00-04:00",
          "2024-06-06T12:14:00-04:00",
          "2024-06-06T12:15:00-04:00",
          "2024-06-06T12:16:00-04:00",
          "2024-06-06T12:17:00-04:00",
          "2024-06-06T12:18:00-04:00",
          "2024-06-06T12:19:00-04:00",
          "2024-06-06T12:20:00-04:00",
          "2024-06-06T12:21:00-04:00",
          "2024-06-06T12:22:00-04:00",
          "2024-06-06T12:23:00-04:00",
          "2024-06-06T12:24:00-04:00",
          "2024-06-06T12:25:00-04:00",
          "2024-06-06T12:26:00-04:00",
          "2024-06-06T12:27:00-04:00",
          "2024-06-06T12:28:00-04:00",
          "2024-06-06T12:29:00-04:00",
          "2024-06-06T12:30:00-04:00",
          "2024-06-06T12:31:00-04:00",
          "2024-06-06T12:32:00-04:00",
          "2024-06-06T12:33:00-04:00",
          "2024-06-06T12:34:00-04:00",
          "2024-06-06T12:35:00-04:00",
          "2024-06-06T12:36:00-04:00",
          "2024-06-06T12:37:00-04:00",
          "2024-06-06T12:38:00-04:00",
          "2024-06-06T12:39:00-04:00",
          "2024-06-06T12:40:00-04:00",
          "2024-06-06T12:41:00-04:00",
          "2024-06-06T12:42:00-04:00",
          "2024-06-06T12:43:00-04:00",
          "2024-06-06T12:44:00-04:00",
          "2024-06-06T12:45:00-04:00",
          "2024-06-06T12:46:00-04:00",
          "2024-06-06T12:47:00-04:00",
          "2024-06-06T12:48:00-04:00",
          "2024-06-06T12:49:00-04:00",
          "2024-06-06T12:50:00-04:00",
          "2024-06-06T12:51:00-04:00",
          "2024-06-06T12:52:00-04:00",
          "2024-06-06T12:53:00-04:00",
          "2024-06-06T12:54:00-04:00",
          "2024-06-06T12:55:00-04:00",
          "2024-06-06T12:56:00-04:00",
          "2024-06-06T12:57:00-04:00",
          "2024-06-06T12:58:00-04:00",
          "2024-06-06T12:59:00-04:00",
          "2024-06-06T13:00:00-04:00",
          "2024-06-06T13:01:00-04:00",
          "2024-06-06T13:02:00-04:00",
          "2024-06-06T13:03:00-04:00",
          "2024-06-06T13:04:00-04:00",
          "2024-06-06T13:05:00-04:00",
          "2024-06-06T13:06:00-04:00",
          "2024-06-06T13:07:00-04:00",
          "2024-06-06T13:08:00-04:00",
          "2024-06-06T13:09:00-04:00",
          "2024-06-06T13:10:00-04:00",
          "2024-06-06T13:11:00-04:00",
          "2024-06-06T13:12:00-04:00",
          "2024-06-06T13:13:00-04:00",
          "2024-06-06T13:14:00-04:00",
          "2024-06-06T13:15:00-04:00",
          "2024-06-06T13:16:00-04:00",
          "2024-06-06T13:17:00-04:00",
          "2024-06-06T13:18:00-04:00",
          "2024-06-06T13:19:00-04:00",
          "2024-06-06T13:20:00-04:00",
          "2024-06-06T13:21:00-04:00",
          "2024-06-06T13:22:00-04:00",
          "2024-06-06T13:23:00-04:00",
          "2024-06-06T13:24:00-04:00",
          "2024-06-06T13:25:00-04:00",
          "2024-06-06T13:26:00-04:00",
          "2024-06-06T13:27:00-04:00",
          "2024-06-06T13:28:00-04:00",
          "2024-06-06T13:29:00-04:00",
          "2024-06-06T13:30:00-04:00",
          "2024-06-06T13:31:00-04:00",
          "2024-06-06T13:32:00-04:00",
          "2024-06-06T13:33:00-04:00",
          "2024-06-06T13:34:00-04:00",
          "2024-06-06T13:35:00-04:00",
          "2024-06-06T13:36:00-04:00",
          "2024-06-06T13:37:00-04:00",
          "2024-06-06T13:38:00-04:00",
          "2024-06-06T13:39:00-04:00",
          "2024-06-06T13:40:00-04:00",
          "2024-06-06T13:41:00-04:00",
          "2024-06-06T13:42:00-04:00",
          "2024-06-06T13:43:00-04:00",
          "2024-06-06T13:44:00-04:00",
          "2024-06-06T13:45:00-04:00",
          "2024-06-06T13:46:00-04:00",
          "2024-06-06T13:47:00-04:00",
          "2024-06-06T13:48:00-04:00",
          "2024-06-06T13:49:00-04:00",
          "2024-06-06T13:50:00-04:00",
          "2024-06-06T13:51:00-04:00",
          "2024-06-06T13:52:00-04:00",
          "2024-06-06T13:53:00-04:00",
          "2024-06-06T13:54:00-04:00",
          "2024-06-06T13:55:00-04:00",
          "2024-06-06T13:56:00-04:00",
          "2024-06-06T13:57:00-04:00",
          "2024-06-06T13:58:00-04:00",
          "2024-06-06T13:59:00-04:00",
          "2024-06-06T14:00:00-04:00",
          "2024-06-06T14:01:00-04:00",
          "2024-06-06T14:02:00-04:00",
          "2024-06-06T14:03:00-04:00",
          "2024-06-06T14:04:00-04:00",
          "2024-06-06T14:05:00-04:00",
          "2024-06-06T14:06:00-04:00",
          "2024-06-06T14:07:00-04:00",
          "2024-06-06T14:08:00-04:00",
          "2024-06-06T14:09:00-04:00",
          "2024-06-06T14:10:00-04:00",
          "2024-06-06T14:11:00-04:00",
          "2024-06-06T14:12:00-04:00",
          "2024-06-06T14:13:00-04:00",
          "2024-06-06T14:14:00-04:00",
          "2024-06-06T14:15:00-04:00",
          "2024-06-06T14:16:00-04:00",
          "2024-06-06T14:17:00-04:00",
          "2024-06-06T14:18:00-04:00",
          "2024-06-06T14:19:00-04:00",
          "2024-06-06T14:20:00-04:00",
          "2024-06-06T14:21:00-04:00",
          "2024-06-06T14:22:00-04:00",
          "2024-06-06T14:23:00-04:00",
          "2024-06-06T14:24:00-04:00",
          "2024-06-06T14:25:00-04:00",
          "2024-06-06T14:26:00-04:00",
          "2024-06-06T14:27:00-04:00",
          "2024-06-06T14:28:00-04:00",
          "2024-06-06T14:29:00-04:00",
          "2024-06-06T14:30:00-04:00",
          "2024-06-06T14:31:00-04:00",
          "2024-06-06T14:32:00-04:00",
          "2024-06-06T14:33:00-04:00",
          "2024-06-06T14:34:00-04:00",
          "2024-06-06T14:35:00-04:00",
          "2024-06-06T14:36:00-04:00",
          "2024-06-06T14:37:00-04:00",
          "2024-06-06T14:38:00-04:00",
          "2024-06-06T14:39:00-04:00",
          "2024-06-06T14:40:00-04:00",
          "2024-06-06T14:41:00-04:00",
          "2024-06-06T14:42:00-04:00",
          "2024-06-06T14:43:00-04:00",
          "2024-06-06T14:44:00-04:00",
          "2024-06-06T14:45:00-04:00",
          "2024-06-06T14:46:00-04:00",
          "2024-06-06T14:47:00-04:00",
          "2024-06-06T14:48:00-04:00",
          "2024-06-06T14:49:00-04:00",
          "2024-06-06T14:50:00-04:00",
          "2024-06-06T14:51:00-04:00",
          "2024-06-06T14:52:00-04:00",
          "2024-06-06T14:53:00-04:00",
          "2024-06-06T14:54:00-04:00",
          "2024-06-06T14:55:00-04:00",
          "2024-06-06T14:56:00-04:00",
          "2024-06-06T14:57:00-04:00",
          "2024-06-06T14:58:00-04:00",
          "2024-06-06T14:59:00-04:00",
          "2024-06-06T15:00:00-04:00",
          "2024-06-06T15:01:00-04:00",
          "2024-06-06T15:02:00-04:00",
          "2024-06-06T15:03:00-04:00",
          "2024-06-06T15:04:00-04:00",
          "2024-06-06T15:05:00-04:00",
          "2024-06-06T15:06:00-04:00",
          "2024-06-06T15:07:00-04:00",
          "2024-06-06T15:08:00-04:00",
          "2024-06-06T15:09:00-04:00",
          "2024-06-06T15:10:00-04:00",
          "2024-06-06T15:11:00-04:00",
          "2024-06-06T15:12:00-04:00",
          "2024-06-06T15:13:00-04:00",
          "2024-06-06T15:14:00-04:00",
          "2024-06-06T15:15:00-04:00",
          "2024-06-06T15:16:00-04:00",
          "2024-06-06T15:17:00-04:00",
          "2024-06-06T15:18:00-04:00",
          "2024-06-06T15:19:00-04:00",
          "2024-06-06T15:20:00-04:00",
          "2024-06-06T15:21:00-04:00",
          "2024-06-06T15:22:00-04:00",
          "2024-06-06T15:23:00-04:00",
          "2024-06-06T15:24:00-04:00",
          "2024-06-06T15:25:00-04:00",
          "2024-06-06T15:26:00-04:00",
          "2024-06-06T15:27:00-04:00",
          "2024-06-06T15:28:00-04:00",
          "2024-06-06T15:29:00-04:00",
          "2024-06-06T15:30:00-04:00",
          "2024-06-06T15:31:00-04:00",
          "2024-06-06T15:32:00-04:00",
          "2024-06-06T15:33:00-04:00",
          "2024-06-06T15:34:00-04:00",
          "2024-06-06T15:35:00-04:00",
          "2024-06-06T15:36:00-04:00",
          "2024-06-06T15:37:00-04:00",
          "2024-06-06T15:38:00-04:00",
          "2024-06-06T15:39:00-04:00",
          "2024-06-06T15:40:00-04:00",
          "2024-06-06T15:41:00-04:00",
          "2024-06-06T15:42:00-04:00",
          "2024-06-06T15:43:00-04:00",
          "2024-06-06T15:44:00-04:00",
          "2024-06-06T15:45:00-04:00",
          "2024-06-06T15:46:00-04:00",
          "2024-06-06T15:47:00-04:00",
          "2024-06-06T15:48:00-04:00",
          "2024-06-06T15:49:00-04:00",
          "2024-06-06T15:50:00-04:00",
          "2024-06-06T15:51:00-04:00",
          "2024-06-06T15:52:00-04:00",
          "2024-06-06T15:53:00-04:00",
          "2024-06-06T15:54:00-04:00",
          "2024-06-06T15:55:00-04:00",
          "2024-06-06T15:56:00-04:00",
          "2024-06-06T15:57:00-04:00",
          "2024-06-06T15:58:00-04:00",
          "2024-06-06T15:59:00-04:00"
         ],
         "xaxis": "x",
         "y": [
          0,
          0,
          0,
          0,
          0,
          0,
          0,
          0,
          0,
          0,
          0,
          0,
          0,
          -0.0061789842381116955,
          -0.004646122384798446,
          -0.008091287667951974,
          -0.027697099756764487,
          -0.047835003129048204,
          -0.04142482212663268,
          -0.028178641392337056,
          -0.024191387830395428,
          -0.026465594726857944,
          -0.0321301959186826,
          -0.03277556176955798,
          -0.030872638950988573,
          -0.025871936491604686,
          -0.024337655711043737,
          -0.0211767521167765,
          0.008608733736874541,
          0.029754832095292727,
          0.03128579942419307,
          0.01863504381496739,
          0.003141655246707842,
          0.003255913377305575,
          0.007931479920763707,
          0.009584480884594626,
          0.01107520686722907,
          0.014795523766718333,
          0.008679365699077124,
          0.010621516515467277,
          -0.0012097573064941969,
          -0.0017690031827513053,
          -0.01087653236533015,
          -0.01563514133508548,
          -0.0013474588699189383,
          0.002041664447151703,
          0.0029946062920949146,
          -0.0016064760354232988,
          -0.010115309811634887,
          -0.018652949438269673,
          -0.014302330663767293,
          -0.017031005814065026,
          -0.014189608264747022,
          -0.010652414495421425,
          -0.0025058080577800013,
          0.00958356747143796,
          0.008229355758615498,
          0.002131784979006568,
          -0.0029216311645505755,
          -0.001691737552633299,
          0.004197064745074641,
          0.010014640122097518,
          0.012242438952366541,
          0.017546525060804896,
          0.02446855373999668,
          0.030228756230314957,
          0.028132832013703535,
          0.0214722904281075,
          0.01802796318889932,
          0.021239783263290235,
          0.02537175440324546,
          0.029542641466459685,
          0.025974706136167924,
          0.025424790036705502,
          0.024951808100237116,
          0.023583202449007246,
          0.020813613216240867,
          0.017396806988482894,
          0.018570321709081128,
          0.023027524116347564,
          0.023304473776359913,
          0.02078564876456568,
          0.018220324864138604,
          0.009808626961206102,
          0.012809179375093294,
          0.013431991049149161,
          0.012427517317753711,
          0.007713172627976661,
          0.006252783363457581,
          0.001732083187622635,
          -0.002615900618408773,
          -0.0067262255127715775,
          -0.010475687421827473,
          -0.01763514755109341,
          -0.02236353645097111,
          -0.023197924801536374,
          -0.027128082303566003,
          -0.03279990118035059,
          -0.03419658953048099,
          -0.02850810936632442,
          -0.031084221357112085,
          -0.028585065096386586,
          -0.028385302585107297,
          -0.02641553156411902,
          -0.023544531911028344,
          -0.017589050719031718,
          -0.018061183483631282,
          -0.014630973226431365,
          -0.010137335725147523,
          -0.0051110677487749,
          0.00273681073114318,
          0.005941579179818746,
          0.01189409819462739,
          0.016208741373120006,
          0.016125945529672947,
          0.017821603620660653,
          0.018789947418337505,
          0.020811096787110017,
          0.028364800558815517,
          0.027499749760988124,
          0.024455813792894077,
          0.023143544007037775,
          0.023859188829074895,
          0.020873912079792944,
          0.018284661104416955,
          0.014621165450531493,
          0.015872036376190835,
          0.016710333600553184,
          0.01850874484156506,
          0.02099203055164267,
          0.01891871367248399,
          0.018912773841563535,
          0.019593430920291866,
          0.023048275524061523,
          0.01798775099168992,
          0.016758682315717977,
          0.01576824838891966,
          0.017989081478944513,
          0.020456700197552635,
          0.019433219317438244,
          0.016238238870784016,
          0.011405842685430656,
          0.012174135921409146,
          0.019432080311286626,
          0.01832579829421732,
          0.01612156570308443,
          0.016737073575384898,
          0.01767912944048078,
          0.01777948217112879,
          0.015856726252945208,
          0.008828711721999838,
          0.0049642179701727684,
          0.0057991457992621065,
          0.006868455577787813,
          0.008611227537620891,
          0.0003270923258149594,
          0.00015444401312336709,
          -0.005870641873656268,
          -0.010520202117390909,
          -0.011428492189391903,
          -0.010561303763243046,
          -0.013080220866694248,
          -0.013150083336054053,
          -0.012518843482631326,
          -0.01239053576728466,
          -0.015109653607591866,
          -0.019523850863059522,
          -0.01933731409384265,
          -0.020444920411780032,
          -0.017852478453139753,
          -0.015945865393341307,
          -0.01787340258344372,
          -0.016386953224039047,
          -0.01689103340489595,
          -0.013738273112281263,
          -0.01081419227738678,
          -0.012825161938643248,
          -0.008683299229950592,
          -0.009804617094506085,
          -0.006729471301909484,
          -0.003107668170141409,
          -0.0044572143537706665,
          -0.004645110747027559,
          -0.0046540363730009915,
          -0.004799557394846943,
          -0.00385313083201666,
          -0.004004597244104957,
          -0.005971652773656189,
          -0.0034543077372433117,
          -0.008282751513213782,
          -0.006791400282807558,
          -0.007694901402196308,
          -0.00717998674154785,
          -0.0003529897313363506,
          -0.0003282079719220121,
          -0.0012998205262952922,
          -0.0008623087911558969,
          0.0011600405213627596,
          -0.0017725581823384573,
          -0.00016403194618064276,
          -0.0007542338311701258,
          0.002826751002331207,
          0.007131805428830518,
          0.008358132068110535,
          0.0106354762043388,
          0.010951745329883522,
          0.01527845855192922,
          0.021267090227500063,
          0.02340085683416504,
          0.025132461002311146,
          0.02653393099985024,
          0.028027873150200833,
          0.02997171626866546,
          0.03165201710898202,
          0.030585668021476664,
          0.03356856997506341,
          0.03314274661414984,
          0.032364830680691625,
          0.0309915099813054,
          0.02596470380276017,
          0.02771332667300186,
          0.02278001497727189,
          0.024155164971872978,
          0.02224808623194008,
          0.016858378105677474,
          0.010535878934621934,
          0.008452413998060848,
          0.002835332462005624,
          -0.000752417404132899,
          -0.00320446862757251,
          -0.004003962711703224,
          -0.007688592177213849,
          -0.0124918382113961,
          -0.011639088516304241,
          -0.014567404448182941,
          -0.015225225934763387,
          -0.0125324422056039,
          -0.00918629377968827,
          -0.009097981208977757,
          -0.007969845749567384,
          -0.007914739282103511,
          -0.007228610526773593,
          -0.008521033347811624,
          -0.008001010941161013,
          -0.007049614815208827,
          -0.003641690306544376,
          -0.0038440907757646414,
          -0.002430342846245992,
          0.00021939649161595298,
          0.0015692611749429375,
          0.003511061245660585,
          0.005087154438747632,
          0.007591959190854425,
          0.008386296123529036,
          0.011657986261134567,
          0.01225531122539536,
          0.012213306154176706,
          0.010345903326172134,
          0.0106429469914886,
          0.009677993437168908,
          0.007419716151190414,
          0.01050648308760671,
          0.007787644519648751,
          0.0072775759317345035,
          0.008159842025492026,
          0.008084314532265324,
          0.006389897916843523,
          0.007777669604667636,
          0.006319788333033927,
          0.0031292579403050524,
          -0.00234420700904181,
          -0.006725530569262617,
          -0.008782621222248821,
          -0.017073710127007757,
          -0.018819472974982432,
          -0.021999248499369628,
          -0.025212127792741512,
          -0.028174583402318376,
          -0.03107458951937403,
          -0.032432824884701006,
          -0.03386944133840686,
          -0.034928280766880704,
          -0.029151889280012,
          -0.027710140257120486,
          -0.028154185616905636,
          -0.02434609550234157,
          -0.023072602966497158,
          -0.025507416906922487,
          -0.025266512613637104,
          -0.017763525195402252,
          -0.012371469818710068,
          -0.010749894467171117,
          -0.00643275791979292,
          0.002058685302998242,
          -1.1756408774488136e-05,
          0.004302786737440556,
          0.005657677439650399,
          0.006207885013573389,
          0.007991735641240894,
          0.012246725823985116,
          0.019441365121835474,
          0.015002182507302564,
          0.013972945068996268,
          0.013040647687969198,
          0.012558793415671232,
          0.008288041113242883,
          0.010784410265760158,
          0.010114095187741867,
          0.012245914360040189,
          0.010473110528728569,
          0.010177199460159159,
          0.011626131334946166,
          0.0019217264735722495,
          0.004044625244958411,
          0.003744558757986738,
          0.0030769823330416557,
          0.002863245753612631,
          0.007400888349831547,
          0.006996670568920393,
          0.00737766642393467,
          0.003137696488568764,
          0.005725247060432537,
          0.005429887902831609,
          0.005098161899983467,
          0.007521362834804535,
          0.007904879063588055,
          0.00829421431357602,
          0.009202908500164142,
          0.009446384023757304,
          0.006193717068029514,
          0.005607142081842653,
          0.0019641469815532275,
          0.007555184441041973,
          0.0027472948293230104,
          0.006668286927386191,
          0.0020716100053412845,
          0.0037469832710428363,
          0.0023869082893845928,
          0.002129205257276112,
          0.0018412873602606794,
          0.0007539742107560699,
          0.0022085796002535574,
          0.0009198398863468071,
          0.0015621297800016976,
          -0.0014916487093579178,
          0.000268526724678253,
          -0.0034743642684738063,
          0.0030178864930441307,
          0.002186097444266011,
          0.0053614409045223965,
          0.008955186791503422,
          0.010498442112329087,
          0.013187710717311063,
          0.012690416535033222,
          0.01179018279912114,
          0.01057477585382216,
          0.008316746454607227,
          0.008800682535767379,
          0.008402251071164102,
          0.008510100817773036,
          0.010776775763265078,
          0.010589789351953982,
          0.006085568191448232,
          0.0021457804063551578,
          -0.0019383697494994578,
          -0.0015222631375415574,
          0.001546233256807028,
          0.002844996154763635,
          0.004013994463203829,
          0.00533794889380701,
          0.007535022887864784,
          0.004930996618909944,
          -0.00012221093965791852,
          -0.005688258166031801,
          -0.0043853452901423395,
          -6.481393900514831e-05,
          0.002379627471210455,
          0.004897664237233812,
          0.0057068017898735945,
          0.006993772631759043,
          0.009933211529752128,
          0.010235269685814785,
          0.006388612952093808,
          0.007031315279704131,
          0.012742011094985628,
          0.010365499155025049,
          0.005046694579007749,
          -0.005252683218966325,
          -0.01013316913092055,
          -0.018609737862565368
         ],
         "yaxis": "y"
        }
       ],
       "layout": {
        "legend": {
         "tracegroupgap": 0
        },
        "template": {
         "data": {
          "bar": [
           {
            "error_x": {
             "color": "#2a3f5f"
            },
            "error_y": {
             "color": "#2a3f5f"
            },
            "marker": {
             "line": {
              "color": "#E5ECF6",
              "width": 0.5
             },
             "pattern": {
              "fillmode": "overlay",
              "size": 10,
              "solidity": 0.2
             }
            },
            "type": "bar"
           }
          ],
          "barpolar": [
           {
            "marker": {
             "line": {
              "color": "#E5ECF6",
              "width": 0.5
             },
             "pattern": {
              "fillmode": "overlay",
              "size": 10,
              "solidity": 0.2
             }
            },
            "type": "barpolar"
           }
          ],
          "carpet": [
           {
            "aaxis": {
             "endlinecolor": "#2a3f5f",
             "gridcolor": "white",
             "linecolor": "white",
             "minorgridcolor": "white",
             "startlinecolor": "#2a3f5f"
            },
            "baxis": {
             "endlinecolor": "#2a3f5f",
             "gridcolor": "white",
             "linecolor": "white",
             "minorgridcolor": "white",
             "startlinecolor": "#2a3f5f"
            },
            "type": "carpet"
           }
          ],
          "choropleth": [
           {
            "colorbar": {
             "outlinewidth": 0,
             "ticks": ""
            },
            "type": "choropleth"
           }
          ],
          "contour": [
           {
            "colorbar": {
             "outlinewidth": 0,
             "ticks": ""
            },
            "colorscale": [
             [
              0,
              "#0d0887"
             ],
             [
              0.1111111111111111,
              "#46039f"
             ],
             [
              0.2222222222222222,
              "#7201a8"
             ],
             [
              0.3333333333333333,
              "#9c179e"
             ],
             [
              0.4444444444444444,
              "#bd3786"
             ],
             [
              0.5555555555555556,
              "#d8576b"
             ],
             [
              0.6666666666666666,
              "#ed7953"
             ],
             [
              0.7777777777777778,
              "#fb9f3a"
             ],
             [
              0.8888888888888888,
              "#fdca26"
             ],
             [
              1,
              "#f0f921"
             ]
            ],
            "type": "contour"
           }
          ],
          "contourcarpet": [
           {
            "colorbar": {
             "outlinewidth": 0,
             "ticks": ""
            },
            "type": "contourcarpet"
           }
          ],
          "heatmap": [
           {
            "colorbar": {
             "outlinewidth": 0,
             "ticks": ""
            },
            "colorscale": [
             [
              0,
              "#0d0887"
             ],
             [
              0.1111111111111111,
              "#46039f"
             ],
             [
              0.2222222222222222,
              "#7201a8"
             ],
             [
              0.3333333333333333,
              "#9c179e"
             ],
             [
              0.4444444444444444,
              "#bd3786"
             ],
             [
              0.5555555555555556,
              "#d8576b"
             ],
             [
              0.6666666666666666,
              "#ed7953"
             ],
             [
              0.7777777777777778,
              "#fb9f3a"
             ],
             [
              0.8888888888888888,
              "#fdca26"
             ],
             [
              1,
              "#f0f921"
             ]
            ],
            "type": "heatmap"
           }
          ],
          "heatmapgl": [
           {
            "colorbar": {
             "outlinewidth": 0,
             "ticks": ""
            },
            "colorscale": [
             [
              0,
              "#0d0887"
             ],
             [
              0.1111111111111111,
              "#46039f"
             ],
             [
              0.2222222222222222,
              "#7201a8"
             ],
             [
              0.3333333333333333,
              "#9c179e"
             ],
             [
              0.4444444444444444,
              "#bd3786"
             ],
             [
              0.5555555555555556,
              "#d8576b"
             ],
             [
              0.6666666666666666,
              "#ed7953"
             ],
             [
              0.7777777777777778,
              "#fb9f3a"
             ],
             [
              0.8888888888888888,
              "#fdca26"
             ],
             [
              1,
              "#f0f921"
             ]
            ],
            "type": "heatmapgl"
           }
          ],
          "histogram": [
           {
            "marker": {
             "pattern": {
              "fillmode": "overlay",
              "size": 10,
              "solidity": 0.2
             }
            },
            "type": "histogram"
           }
          ],
          "histogram2d": [
           {
            "colorbar": {
             "outlinewidth": 0,
             "ticks": ""
            },
            "colorscale": [
             [
              0,
              "#0d0887"
             ],
             [
              0.1111111111111111,
              "#46039f"
             ],
             [
              0.2222222222222222,
              "#7201a8"
             ],
             [
              0.3333333333333333,
              "#9c179e"
             ],
             [
              0.4444444444444444,
              "#bd3786"
             ],
             [
              0.5555555555555556,
              "#d8576b"
             ],
             [
              0.6666666666666666,
              "#ed7953"
             ],
             [
              0.7777777777777778,
              "#fb9f3a"
             ],
             [
              0.8888888888888888,
              "#fdca26"
             ],
             [
              1,
              "#f0f921"
             ]
            ],
            "type": "histogram2d"
           }
          ],
          "histogram2dcontour": [
           {
            "colorbar": {
             "outlinewidth": 0,
             "ticks": ""
            },
            "colorscale": [
             [
              0,
              "#0d0887"
             ],
             [
              0.1111111111111111,
              "#46039f"
             ],
             [
              0.2222222222222222,
              "#7201a8"
             ],
             [
              0.3333333333333333,
              "#9c179e"
             ],
             [
              0.4444444444444444,
              "#bd3786"
             ],
             [
              0.5555555555555556,
              "#d8576b"
             ],
             [
              0.6666666666666666,
              "#ed7953"
             ],
             [
              0.7777777777777778,
              "#fb9f3a"
             ],
             [
              0.8888888888888888,
              "#fdca26"
             ],
             [
              1,
              "#f0f921"
             ]
            ],
            "type": "histogram2dcontour"
           }
          ],
          "mesh3d": [
           {
            "colorbar": {
             "outlinewidth": 0,
             "ticks": ""
            },
            "type": "mesh3d"
           }
          ],
          "parcoords": [
           {
            "line": {
             "colorbar": {
              "outlinewidth": 0,
              "ticks": ""
             }
            },
            "type": "parcoords"
           }
          ],
          "pie": [
           {
            "automargin": true,
            "type": "pie"
           }
          ],
          "scatter": [
           {
            "fillpattern": {
             "fillmode": "overlay",
             "size": 10,
             "solidity": 0.2
            },
            "type": "scatter"
           }
          ],
          "scatter3d": [
           {
            "line": {
             "colorbar": {
              "outlinewidth": 0,
              "ticks": ""
             }
            },
            "marker": {
             "colorbar": {
              "outlinewidth": 0,
              "ticks": ""
             }
            },
            "type": "scatter3d"
           }
          ],
          "scattercarpet": [
           {
            "marker": {
             "colorbar": {
              "outlinewidth": 0,
              "ticks": ""
             }
            },
            "type": "scattercarpet"
           }
          ],
          "scattergeo": [
           {
            "marker": {
             "colorbar": {
              "outlinewidth": 0,
              "ticks": ""
             }
            },
            "type": "scattergeo"
           }
          ],
          "scattergl": [
           {
            "marker": {
             "colorbar": {
              "outlinewidth": 0,
              "ticks": ""
             }
            },
            "type": "scattergl"
           }
          ],
          "scattermapbox": [
           {
            "marker": {
             "colorbar": {
              "outlinewidth": 0,
              "ticks": ""
             }
            },
            "type": "scattermapbox"
           }
          ],
          "scatterpolar": [
           {
            "marker": {
             "colorbar": {
              "outlinewidth": 0,
              "ticks": ""
             }
            },
            "type": "scatterpolar"
           }
          ],
          "scatterpolargl": [
           {
            "marker": {
             "colorbar": {
              "outlinewidth": 0,
              "ticks": ""
             }
            },
            "type": "scatterpolargl"
           }
          ],
          "scatterternary": [
           {
            "marker": {
             "colorbar": {
              "outlinewidth": 0,
              "ticks": ""
             }
            },
            "type": "scatterternary"
           }
          ],
          "surface": [
           {
            "colorbar": {
             "outlinewidth": 0,
             "ticks": ""
            },
            "colorscale": [
             [
              0,
              "#0d0887"
             ],
             [
              0.1111111111111111,
              "#46039f"
             ],
             [
              0.2222222222222222,
              "#7201a8"
             ],
             [
              0.3333333333333333,
              "#9c179e"
             ],
             [
              0.4444444444444444,
              "#bd3786"
             ],
             [
              0.5555555555555556,
              "#d8576b"
             ],
             [
              0.6666666666666666,
              "#ed7953"
             ],
             [
              0.7777777777777778,
              "#fb9f3a"
             ],
             [
              0.8888888888888888,
              "#fdca26"
             ],
             [
              1,
              "#f0f921"
             ]
            ],
            "type": "surface"
           }
          ],
          "table": [
           {
            "cells": {
             "fill": {
              "color": "#EBF0F8"
             },
             "line": {
              "color": "white"
             }
            },
            "header": {
             "fill": {
              "color": "#C8D4E3"
             },
             "line": {
              "color": "white"
             }
            },
            "type": "table"
           }
          ]
         },
         "layout": {
          "annotationdefaults": {
           "arrowcolor": "#2a3f5f",
           "arrowhead": 0,
           "arrowwidth": 1
          },
          "autotypenumbers": "strict",
          "coloraxis": {
           "colorbar": {
            "outlinewidth": 0,
            "ticks": ""
           }
          },
          "colorscale": {
           "diverging": [
            [
             0,
             "#8e0152"
            ],
            [
             0.1,
             "#c51b7d"
            ],
            [
             0.2,
             "#de77ae"
            ],
            [
             0.3,
             "#f1b6da"
            ],
            [
             0.4,
             "#fde0ef"
            ],
            [
             0.5,
             "#f7f7f7"
            ],
            [
             0.6,
             "#e6f5d0"
            ],
            [
             0.7,
             "#b8e186"
            ],
            [
             0.8,
             "#7fbc41"
            ],
            [
             0.9,
             "#4d9221"
            ],
            [
             1,
             "#276419"
            ]
           ],
           "sequential": [
            [
             0,
             "#0d0887"
            ],
            [
             0.1111111111111111,
             "#46039f"
            ],
            [
             0.2222222222222222,
             "#7201a8"
            ],
            [
             0.3333333333333333,
             "#9c179e"
            ],
            [
             0.4444444444444444,
             "#bd3786"
            ],
            [
             0.5555555555555556,
             "#d8576b"
            ],
            [
             0.6666666666666666,
             "#ed7953"
            ],
            [
             0.7777777777777778,
             "#fb9f3a"
            ],
            [
             0.8888888888888888,
             "#fdca26"
            ],
            [
             1,
             "#f0f921"
            ]
           ],
           "sequentialminus": [
            [
             0,
             "#0d0887"
            ],
            [
             0.1111111111111111,
             "#46039f"
            ],
            [
             0.2222222222222222,
             "#7201a8"
            ],
            [
             0.3333333333333333,
             "#9c179e"
            ],
            [
             0.4444444444444444,
             "#bd3786"
            ],
            [
             0.5555555555555556,
             "#d8576b"
            ],
            [
             0.6666666666666666,
             "#ed7953"
            ],
            [
             0.7777777777777778,
             "#fb9f3a"
            ],
            [
             0.8888888888888888,
             "#fdca26"
            ],
            [
             1,
             "#f0f921"
            ]
           ]
          },
          "colorway": [
           "#636efa",
           "#EF553B",
           "#00cc96",
           "#ab63fa",
           "#FFA15A",
           "#19d3f3",
           "#FF6692",
           "#B6E880",
           "#FF97FF",
           "#FECB52"
          ],
          "font": {
           "color": "#2a3f5f"
          },
          "geo": {
           "bgcolor": "white",
           "lakecolor": "white",
           "landcolor": "#E5ECF6",
           "showlakes": true,
           "showland": true,
           "subunitcolor": "white"
          },
          "hoverlabel": {
           "align": "left"
          },
          "hovermode": "closest",
          "mapbox": {
           "style": "light"
          },
          "paper_bgcolor": "white",
          "plot_bgcolor": "#E5ECF6",
          "polar": {
           "angularaxis": {
            "gridcolor": "white",
            "linecolor": "white",
            "ticks": ""
           },
           "bgcolor": "#E5ECF6",
           "radialaxis": {
            "gridcolor": "white",
            "linecolor": "white",
            "ticks": ""
           }
          },
          "scene": {
           "xaxis": {
            "backgroundcolor": "#E5ECF6",
            "gridcolor": "white",
            "gridwidth": 2,
            "linecolor": "white",
            "showbackground": true,
            "ticks": "",
            "zerolinecolor": "white"
           },
           "yaxis": {
            "backgroundcolor": "#E5ECF6",
            "gridcolor": "white",
            "gridwidth": 2,
            "linecolor": "white",
            "showbackground": true,
            "ticks": "",
            "zerolinecolor": "white"
           },
           "zaxis": {
            "backgroundcolor": "#E5ECF6",
            "gridcolor": "white",
            "gridwidth": 2,
            "linecolor": "white",
            "showbackground": true,
            "ticks": "",
            "zerolinecolor": "white"
           }
          },
          "shapedefaults": {
           "line": {
            "color": "#2a3f5f"
           }
          },
          "ternary": {
           "aaxis": {
            "gridcolor": "white",
            "linecolor": "white",
            "ticks": ""
           },
           "baxis": {
            "gridcolor": "white",
            "linecolor": "white",
            "ticks": ""
           },
           "bgcolor": "#E5ECF6",
           "caxis": {
            "gridcolor": "white",
            "linecolor": "white",
            "ticks": ""
           }
          },
          "title": {
           "x": 0.05
          },
          "xaxis": {
           "automargin": true,
           "gridcolor": "white",
           "linecolor": "white",
           "ticks": "",
           "title": {
            "standoff": 15
           },
           "zerolinecolor": "white",
           "zerolinewidth": 2
          },
          "yaxis": {
           "automargin": true,
           "gridcolor": "white",
           "linecolor": "white",
           "ticks": "",
           "title": {
            "standoff": 15
           },
           "zerolinecolor": "white",
           "zerolinewidth": 2
          }
         }
        },
        "title": {
         "text": "INTC MACD"
        },
        "xaxis": {
         "anchor": "y",
         "domain": [
          0,
          1
         ],
         "title": {
          "text": "Datetime"
         }
        },
        "yaxis": {
         "anchor": "x",
         "domain": [
          0,
          1
         ],
         "title": {
          "text": "MACD_12_24"
         }
        }
       }
      },
      "text/html": [
       "<div>                            <div id=\"245494b4-9b39-4e4f-bb23-c376fa5353ba\" class=\"plotly-graph-div\" style=\"height:525px; width:100%;\"></div>            <script type=\"text/javascript\">                require([\"plotly\"], function(Plotly) {                    window.PLOTLYENV=window.PLOTLYENV || {};                                    if (document.getElementById(\"245494b4-9b39-4e4f-bb23-c376fa5353ba\")) {                    Plotly.newPlot(                        \"245494b4-9b39-4e4f-bb23-c376fa5353ba\",                        [{\"hovertemplate\":\"Datetime=%{x}<br>MACD_12_24=%{y}<extra></extra>\",\"legendgroup\":\"\",\"line\":{\"color\":\"#636efa\",\"dash\":\"solid\"},\"marker\":{\"symbol\":\"circle\"},\"mode\":\"lines\",\"name\":\"\",\"orientation\":\"v\",\"showlegend\":false,\"x\":[\"2024-06-06T09:30:00-04:00\",\"2024-06-06T09:31:00-04:00\",\"2024-06-06T09:32:00-04:00\",\"2024-06-06T09:33:00-04:00\",\"2024-06-06T09:34:00-04:00\",\"2024-06-06T09:35:00-04:00\",\"2024-06-06T09:36:00-04:00\",\"2024-06-06T09:37:00-04:00\",\"2024-06-06T09:38:00-04:00\",\"2024-06-06T09:39:00-04:00\",\"2024-06-06T09:40:00-04:00\",\"2024-06-06T09:41:00-04:00\",\"2024-06-06T09:42:00-04:00\",\"2024-06-06T09:43:00-04:00\",\"2024-06-06T09:44:00-04:00\",\"2024-06-06T09:45:00-04:00\",\"2024-06-06T09:46:00-04:00\",\"2024-06-06T09:47:00-04:00\",\"2024-06-06T09:48:00-04:00\",\"2024-06-06T09:49:00-04:00\",\"2024-06-06T09:50:00-04:00\",\"2024-06-06T09:51:00-04:00\",\"2024-06-06T09:52:00-04:00\",\"2024-06-06T09:53:00-04:00\",\"2024-06-06T09:54:00-04:00\",\"2024-06-06T09:55:00-04:00\",\"2024-06-06T09:56:00-04:00\",\"2024-06-06T09:57:00-04:00\",\"2024-06-06T09:58:00-04:00\",\"2024-06-06T09:59:00-04:00\",\"2024-06-06T10:00:00-04:00\",\"2024-06-06T10:01:00-04:00\",\"2024-06-06T10:02:00-04:00\",\"2024-06-06T10:03:00-04:00\",\"2024-06-06T10:04:00-04:00\",\"2024-06-06T10:05:00-04:00\",\"2024-06-06T10:06:00-04:00\",\"2024-06-06T10:07:00-04:00\",\"2024-06-06T10:08:00-04:00\",\"2024-06-06T10:09:00-04:00\",\"2024-06-06T10:10:00-04:00\",\"2024-06-06T10:11:00-04:00\",\"2024-06-06T10:12:00-04:00\",\"2024-06-06T10:13:00-04:00\",\"2024-06-06T10:14:00-04:00\",\"2024-06-06T10:15:00-04:00\",\"2024-06-06T10:16:00-04:00\",\"2024-06-06T10:17:00-04:00\",\"2024-06-06T10:18:00-04:00\",\"2024-06-06T10:19:00-04:00\",\"2024-06-06T10:20:00-04:00\",\"2024-06-06T10:21:00-04:00\",\"2024-06-06T10:22:00-04:00\",\"2024-06-06T10:23:00-04:00\",\"2024-06-06T10:24:00-04:00\",\"2024-06-06T10:25:00-04:00\",\"2024-06-06T10:26:00-04:00\",\"2024-06-06T10:27:00-04:00\",\"2024-06-06T10:28:00-04:00\",\"2024-06-06T10:29:00-04:00\",\"2024-06-06T10:30:00-04:00\",\"2024-06-06T10:31:00-04:00\",\"2024-06-06T10:32:00-04:00\",\"2024-06-06T10:33:00-04:00\",\"2024-06-06T10:34:00-04:00\",\"2024-06-06T10:35:00-04:00\",\"2024-06-06T10:36:00-04:00\",\"2024-06-06T10:37:00-04:00\",\"2024-06-06T10:38:00-04:00\",\"2024-06-06T10:39:00-04:00\",\"2024-06-06T10:40:00-04:00\",\"2024-06-06T10:41:00-04:00\",\"2024-06-06T10:42:00-04:00\",\"2024-06-06T10:43:00-04:00\",\"2024-06-06T10:44:00-04:00\",\"2024-06-06T10:45:00-04:00\",\"2024-06-06T10:46:00-04:00\",\"2024-06-06T10:47:00-04:00\",\"2024-06-06T10:48:00-04:00\",\"2024-06-06T10:49:00-04:00\",\"2024-06-06T10:50:00-04:00\",\"2024-06-06T10:51:00-04:00\",\"2024-06-06T10:52:00-04:00\",\"2024-06-06T10:53:00-04:00\",\"2024-06-06T10:54:00-04:00\",\"2024-06-06T10:55:00-04:00\",\"2024-06-06T10:56:00-04:00\",\"2024-06-06T10:57:00-04:00\",\"2024-06-06T10:58:00-04:00\",\"2024-06-06T10:59:00-04:00\",\"2024-06-06T11:00:00-04:00\",\"2024-06-06T11:01:00-04:00\",\"2024-06-06T11:02:00-04:00\",\"2024-06-06T11:03:00-04:00\",\"2024-06-06T11:04:00-04:00\",\"2024-06-06T11:05:00-04:00\",\"2024-06-06T11:06:00-04:00\",\"2024-06-06T11:07:00-04:00\",\"2024-06-06T11:08:00-04:00\",\"2024-06-06T11:09:00-04:00\",\"2024-06-06T11:10:00-04:00\",\"2024-06-06T11:11:00-04:00\",\"2024-06-06T11:12:00-04:00\",\"2024-06-06T11:13:00-04:00\",\"2024-06-06T11:14:00-04:00\",\"2024-06-06T11:15:00-04:00\",\"2024-06-06T11:16:00-04:00\",\"2024-06-06T11:17:00-04:00\",\"2024-06-06T11:18:00-04:00\",\"2024-06-06T11:19:00-04:00\",\"2024-06-06T11:20:00-04:00\",\"2024-06-06T11:21:00-04:00\",\"2024-06-06T11:22:00-04:00\",\"2024-06-06T11:23:00-04:00\",\"2024-06-06T11:24:00-04:00\",\"2024-06-06T11:25:00-04:00\",\"2024-06-06T11:26:00-04:00\",\"2024-06-06T11:27:00-04:00\",\"2024-06-06T11:28:00-04:00\",\"2024-06-06T11:29:00-04:00\",\"2024-06-06T11:30:00-04:00\",\"2024-06-06T11:31:00-04:00\",\"2024-06-06T11:32:00-04:00\",\"2024-06-06T11:33:00-04:00\",\"2024-06-06T11:34:00-04:00\",\"2024-06-06T11:35:00-04:00\",\"2024-06-06T11:36:00-04:00\",\"2024-06-06T11:37:00-04:00\",\"2024-06-06T11:38:00-04:00\",\"2024-06-06T11:39:00-04:00\",\"2024-06-06T11:40:00-04:00\",\"2024-06-06T11:41:00-04:00\",\"2024-06-06T11:42:00-04:00\",\"2024-06-06T11:43:00-04:00\",\"2024-06-06T11:44:00-04:00\",\"2024-06-06T11:45:00-04:00\",\"2024-06-06T11:46:00-04:00\",\"2024-06-06T11:47:00-04:00\",\"2024-06-06T11:48:00-04:00\",\"2024-06-06T11:49:00-04:00\",\"2024-06-06T11:50:00-04:00\",\"2024-06-06T11:51:00-04:00\",\"2024-06-06T11:52:00-04:00\",\"2024-06-06T11:53:00-04:00\",\"2024-06-06T11:54:00-04:00\",\"2024-06-06T11:55:00-04:00\",\"2024-06-06T11:56:00-04:00\",\"2024-06-06T11:57:00-04:00\",\"2024-06-06T11:58:00-04:00\",\"2024-06-06T11:59:00-04:00\",\"2024-06-06T12:00:00-04:00\",\"2024-06-06T12:01:00-04:00\",\"2024-06-06T12:02:00-04:00\",\"2024-06-06T12:03:00-04:00\",\"2024-06-06T12:04:00-04:00\",\"2024-06-06T12:05:00-04:00\",\"2024-06-06T12:06:00-04:00\",\"2024-06-06T12:07:00-04:00\",\"2024-06-06T12:08:00-04:00\",\"2024-06-06T12:09:00-04:00\",\"2024-06-06T12:10:00-04:00\",\"2024-06-06T12:11:00-04:00\",\"2024-06-06T12:12:00-04:00\",\"2024-06-06T12:13:00-04:00\",\"2024-06-06T12:14:00-04:00\",\"2024-06-06T12:15:00-04:00\",\"2024-06-06T12:16:00-04:00\",\"2024-06-06T12:17:00-04:00\",\"2024-06-06T12:18:00-04:00\",\"2024-06-06T12:19:00-04:00\",\"2024-06-06T12:20:00-04:00\",\"2024-06-06T12:21:00-04:00\",\"2024-06-06T12:22:00-04:00\",\"2024-06-06T12:23:00-04:00\",\"2024-06-06T12:24:00-04:00\",\"2024-06-06T12:25:00-04:00\",\"2024-06-06T12:26:00-04:00\",\"2024-06-06T12:27:00-04:00\",\"2024-06-06T12:28:00-04:00\",\"2024-06-06T12:29:00-04:00\",\"2024-06-06T12:30:00-04:00\",\"2024-06-06T12:31:00-04:00\",\"2024-06-06T12:32:00-04:00\",\"2024-06-06T12:33:00-04:00\",\"2024-06-06T12:34:00-04:00\",\"2024-06-06T12:35:00-04:00\",\"2024-06-06T12:36:00-04:00\",\"2024-06-06T12:37:00-04:00\",\"2024-06-06T12:38:00-04:00\",\"2024-06-06T12:39:00-04:00\",\"2024-06-06T12:40:00-04:00\",\"2024-06-06T12:41:00-04:00\",\"2024-06-06T12:42:00-04:00\",\"2024-06-06T12:43:00-04:00\",\"2024-06-06T12:44:00-04:00\",\"2024-06-06T12:45:00-04:00\",\"2024-06-06T12:46:00-04:00\",\"2024-06-06T12:47:00-04:00\",\"2024-06-06T12:48:00-04:00\",\"2024-06-06T12:49:00-04:00\",\"2024-06-06T12:50:00-04:00\",\"2024-06-06T12:51:00-04:00\",\"2024-06-06T12:52:00-04:00\",\"2024-06-06T12:53:00-04:00\",\"2024-06-06T12:54:00-04:00\",\"2024-06-06T12:55:00-04:00\",\"2024-06-06T12:56:00-04:00\",\"2024-06-06T12:57:00-04:00\",\"2024-06-06T12:58:00-04:00\",\"2024-06-06T12:59:00-04:00\",\"2024-06-06T13:00:00-04:00\",\"2024-06-06T13:01:00-04:00\",\"2024-06-06T13:02:00-04:00\",\"2024-06-06T13:03:00-04:00\",\"2024-06-06T13:04:00-04:00\",\"2024-06-06T13:05:00-04:00\",\"2024-06-06T13:06:00-04:00\",\"2024-06-06T13:07:00-04:00\",\"2024-06-06T13:08:00-04:00\",\"2024-06-06T13:09:00-04:00\",\"2024-06-06T13:10:00-04:00\",\"2024-06-06T13:11:00-04:00\",\"2024-06-06T13:12:00-04:00\",\"2024-06-06T13:13:00-04:00\",\"2024-06-06T13:14:00-04:00\",\"2024-06-06T13:15:00-04:00\",\"2024-06-06T13:16:00-04:00\",\"2024-06-06T13:17:00-04:00\",\"2024-06-06T13:18:00-04:00\",\"2024-06-06T13:19:00-04:00\",\"2024-06-06T13:20:00-04:00\",\"2024-06-06T13:21:00-04:00\",\"2024-06-06T13:22:00-04:00\",\"2024-06-06T13:23:00-04:00\",\"2024-06-06T13:24:00-04:00\",\"2024-06-06T13:25:00-04:00\",\"2024-06-06T13:26:00-04:00\",\"2024-06-06T13:27:00-04:00\",\"2024-06-06T13:28:00-04:00\",\"2024-06-06T13:29:00-04:00\",\"2024-06-06T13:30:00-04:00\",\"2024-06-06T13:31:00-04:00\",\"2024-06-06T13:32:00-04:00\",\"2024-06-06T13:33:00-04:00\",\"2024-06-06T13:34:00-04:00\",\"2024-06-06T13:35:00-04:00\",\"2024-06-06T13:36:00-04:00\",\"2024-06-06T13:37:00-04:00\",\"2024-06-06T13:38:00-04:00\",\"2024-06-06T13:39:00-04:00\",\"2024-06-06T13:40:00-04:00\",\"2024-06-06T13:41:00-04:00\",\"2024-06-06T13:42:00-04:00\",\"2024-06-06T13:43:00-04:00\",\"2024-06-06T13:44:00-04:00\",\"2024-06-06T13:45:00-04:00\",\"2024-06-06T13:46:00-04:00\",\"2024-06-06T13:47:00-04:00\",\"2024-06-06T13:48:00-04:00\",\"2024-06-06T13:49:00-04:00\",\"2024-06-06T13:50:00-04:00\",\"2024-06-06T13:51:00-04:00\",\"2024-06-06T13:52:00-04:00\",\"2024-06-06T13:53:00-04:00\",\"2024-06-06T13:54:00-04:00\",\"2024-06-06T13:55:00-04:00\",\"2024-06-06T13:56:00-04:00\",\"2024-06-06T13:57:00-04:00\",\"2024-06-06T13:58:00-04:00\",\"2024-06-06T13:59:00-04:00\",\"2024-06-06T14:00:00-04:00\",\"2024-06-06T14:01:00-04:00\",\"2024-06-06T14:02:00-04:00\",\"2024-06-06T14:03:00-04:00\",\"2024-06-06T14:04:00-04:00\",\"2024-06-06T14:05:00-04:00\",\"2024-06-06T14:06:00-04:00\",\"2024-06-06T14:07:00-04:00\",\"2024-06-06T14:08:00-04:00\",\"2024-06-06T14:09:00-04:00\",\"2024-06-06T14:10:00-04:00\",\"2024-06-06T14:11:00-04:00\",\"2024-06-06T14:12:00-04:00\",\"2024-06-06T14:13:00-04:00\",\"2024-06-06T14:14:00-04:00\",\"2024-06-06T14:15:00-04:00\",\"2024-06-06T14:16:00-04:00\",\"2024-06-06T14:17:00-04:00\",\"2024-06-06T14:18:00-04:00\",\"2024-06-06T14:19:00-04:00\",\"2024-06-06T14:20:00-04:00\",\"2024-06-06T14:21:00-04:00\",\"2024-06-06T14:22:00-04:00\",\"2024-06-06T14:23:00-04:00\",\"2024-06-06T14:24:00-04:00\",\"2024-06-06T14:25:00-04:00\",\"2024-06-06T14:26:00-04:00\",\"2024-06-06T14:27:00-04:00\",\"2024-06-06T14:28:00-04:00\",\"2024-06-06T14:29:00-04:00\",\"2024-06-06T14:30:00-04:00\",\"2024-06-06T14:31:00-04:00\",\"2024-06-06T14:32:00-04:00\",\"2024-06-06T14:33:00-04:00\",\"2024-06-06T14:34:00-04:00\",\"2024-06-06T14:35:00-04:00\",\"2024-06-06T14:36:00-04:00\",\"2024-06-06T14:37:00-04:00\",\"2024-06-06T14:38:00-04:00\",\"2024-06-06T14:39:00-04:00\",\"2024-06-06T14:40:00-04:00\",\"2024-06-06T14:41:00-04:00\",\"2024-06-06T14:42:00-04:00\",\"2024-06-06T14:43:00-04:00\",\"2024-06-06T14:44:00-04:00\",\"2024-06-06T14:45:00-04:00\",\"2024-06-06T14:46:00-04:00\",\"2024-06-06T14:47:00-04:00\",\"2024-06-06T14:48:00-04:00\",\"2024-06-06T14:49:00-04:00\",\"2024-06-06T14:50:00-04:00\",\"2024-06-06T14:51:00-04:00\",\"2024-06-06T14:52:00-04:00\",\"2024-06-06T14:53:00-04:00\",\"2024-06-06T14:54:00-04:00\",\"2024-06-06T14:55:00-04:00\",\"2024-06-06T14:56:00-04:00\",\"2024-06-06T14:57:00-04:00\",\"2024-06-06T14:58:00-04:00\",\"2024-06-06T14:59:00-04:00\",\"2024-06-06T15:00:00-04:00\",\"2024-06-06T15:01:00-04:00\",\"2024-06-06T15:02:00-04:00\",\"2024-06-06T15:03:00-04:00\",\"2024-06-06T15:04:00-04:00\",\"2024-06-06T15:05:00-04:00\",\"2024-06-06T15:06:00-04:00\",\"2024-06-06T15:07:00-04:00\",\"2024-06-06T15:08:00-04:00\",\"2024-06-06T15:09:00-04:00\",\"2024-06-06T15:10:00-04:00\",\"2024-06-06T15:11:00-04:00\",\"2024-06-06T15:12:00-04:00\",\"2024-06-06T15:13:00-04:00\",\"2024-06-06T15:14:00-04:00\",\"2024-06-06T15:15:00-04:00\",\"2024-06-06T15:16:00-04:00\",\"2024-06-06T15:17:00-04:00\",\"2024-06-06T15:18:00-04:00\",\"2024-06-06T15:19:00-04:00\",\"2024-06-06T15:20:00-04:00\",\"2024-06-06T15:21:00-04:00\",\"2024-06-06T15:22:00-04:00\",\"2024-06-06T15:23:00-04:00\",\"2024-06-06T15:24:00-04:00\",\"2024-06-06T15:25:00-04:00\",\"2024-06-06T15:26:00-04:00\",\"2024-06-06T15:27:00-04:00\",\"2024-06-06T15:28:00-04:00\",\"2024-06-06T15:29:00-04:00\",\"2024-06-06T15:30:00-04:00\",\"2024-06-06T15:31:00-04:00\",\"2024-06-06T15:32:00-04:00\",\"2024-06-06T15:33:00-04:00\",\"2024-06-06T15:34:00-04:00\",\"2024-06-06T15:35:00-04:00\",\"2024-06-06T15:36:00-04:00\",\"2024-06-06T15:37:00-04:00\",\"2024-06-06T15:38:00-04:00\",\"2024-06-06T15:39:00-04:00\",\"2024-06-06T15:40:00-04:00\",\"2024-06-06T15:41:00-04:00\",\"2024-06-06T15:42:00-04:00\",\"2024-06-06T15:43:00-04:00\",\"2024-06-06T15:44:00-04:00\",\"2024-06-06T15:45:00-04:00\",\"2024-06-06T15:46:00-04:00\",\"2024-06-06T15:47:00-04:00\",\"2024-06-06T15:48:00-04:00\",\"2024-06-06T15:49:00-04:00\",\"2024-06-06T15:50:00-04:00\",\"2024-06-06T15:51:00-04:00\",\"2024-06-06T15:52:00-04:00\",\"2024-06-06T15:53:00-04:00\",\"2024-06-06T15:54:00-04:00\",\"2024-06-06T15:55:00-04:00\",\"2024-06-06T15:56:00-04:00\",\"2024-06-06T15:57:00-04:00\",\"2024-06-06T15:58:00-04:00\",\"2024-06-06T15:59:00-04:00\"],\"xaxis\":\"x\",\"y\":[0.0,0.0,0.0,0.0,0.0,0.0,0.0,0.0,0.0,0.0,0.0,0.0,0.0,-0.0061789842381116955,-0.004646122384798446,-0.008091287667951974,-0.027697099756764487,-0.047835003129048204,-0.04142482212663268,-0.028178641392337056,-0.024191387830395428,-0.026465594726857944,-0.0321301959186826,-0.03277556176955798,-0.030872638950988573,-0.025871936491604686,-0.024337655711043737,-0.0211767521167765,0.008608733736874541,0.029754832095292727,0.03128579942419307,0.01863504381496739,0.003141655246707842,0.003255913377305575,0.007931479920763707,0.009584480884594626,0.01107520686722907,0.014795523766718333,0.008679365699077124,0.010621516515467277,-0.0012097573064941969,-0.0017690031827513053,-0.01087653236533015,-0.01563514133508548,-0.0013474588699189383,0.002041664447151703,0.0029946062920949146,-0.0016064760354232988,-0.010115309811634887,-0.018652949438269673,-0.014302330663767293,-0.017031005814065026,-0.014189608264747022,-0.010652414495421425,-0.0025058080577800013,0.00958356747143796,0.008229355758615498,0.002131784979006568,-0.0029216311645505755,-0.001691737552633299,0.004197064745074641,0.010014640122097518,0.012242438952366541,0.017546525060804896,0.02446855373999668,0.030228756230314957,0.028132832013703535,0.0214722904281075,0.01802796318889932,0.021239783263290235,0.02537175440324546,0.029542641466459685,0.025974706136167924,0.025424790036705502,0.024951808100237116,0.023583202449007246,0.020813613216240867,0.017396806988482894,0.018570321709081128,0.023027524116347564,0.023304473776359913,0.02078564876456568,0.018220324864138604,0.009808626961206102,0.012809179375093294,0.013431991049149161,0.012427517317753711,0.007713172627976661,0.006252783363457581,0.001732083187622635,-0.002615900618408773,-0.0067262255127715775,-0.010475687421827473,-0.01763514755109341,-0.02236353645097111,-0.023197924801536374,-0.027128082303566003,-0.03279990118035059,-0.03419658953048099,-0.02850810936632442,-0.031084221357112085,-0.028585065096386586,-0.028385302585107297,-0.02641553156411902,-0.023544531911028344,-0.017589050719031718,-0.018061183483631282,-0.014630973226431365,-0.010137335725147523,-0.0051110677487749,0.00273681073114318,0.005941579179818746,0.01189409819462739,0.016208741373120006,0.016125945529672947,0.017821603620660653,0.018789947418337505,0.020811096787110017,0.028364800558815517,0.027499749760988124,0.024455813792894077,0.023143544007037775,0.023859188829074895,0.020873912079792944,0.018284661104416955,0.014621165450531493,0.015872036376190835,0.016710333600553184,0.01850874484156506,0.02099203055164267,0.01891871367248399,0.018912773841563535,0.019593430920291866,0.023048275524061523,0.01798775099168992,0.016758682315717977,0.01576824838891966,0.017989081478944513,0.020456700197552635,0.019433219317438244,0.016238238870784016,0.011405842685430656,0.012174135921409146,0.019432080311286626,0.01832579829421732,0.01612156570308443,0.016737073575384898,0.01767912944048078,0.01777948217112879,0.015856726252945208,0.008828711721999838,0.0049642179701727684,0.0057991457992621065,0.006868455577787813,0.008611227537620891,0.0003270923258149594,0.00015444401312336709,-0.005870641873656268,-0.010520202117390909,-0.011428492189391903,-0.010561303763243046,-0.013080220866694248,-0.013150083336054053,-0.012518843482631326,-0.01239053576728466,-0.015109653607591866,-0.019523850863059522,-0.01933731409384265,-0.020444920411780032,-0.017852478453139753,-0.015945865393341307,-0.01787340258344372,-0.016386953224039047,-0.01689103340489595,-0.013738273112281263,-0.01081419227738678,-0.012825161938643248,-0.008683299229950592,-0.009804617094506085,-0.006729471301909484,-0.003107668170141409,-0.0044572143537706665,-0.004645110747027559,-0.0046540363730009915,-0.004799557394846943,-0.00385313083201666,-0.004004597244104957,-0.005971652773656189,-0.0034543077372433117,-0.008282751513213782,-0.006791400282807558,-0.007694901402196308,-0.00717998674154785,-0.0003529897313363506,-0.0003282079719220121,-0.0012998205262952922,-0.0008623087911558969,0.0011600405213627596,-0.0017725581823384573,-0.00016403194618064276,-0.0007542338311701258,0.002826751002331207,0.007131805428830518,0.008358132068110535,0.0106354762043388,0.010951745329883522,0.01527845855192922,0.021267090227500063,0.02340085683416504,0.025132461002311146,0.02653393099985024,0.028027873150200833,0.02997171626866546,0.03165201710898202,0.030585668021476664,0.03356856997506341,0.03314274661414984,0.032364830680691625,0.0309915099813054,0.02596470380276017,0.02771332667300186,0.02278001497727189,0.024155164971872978,0.02224808623194008,0.016858378105677474,0.010535878934621934,0.008452413998060848,0.002835332462005624,-0.000752417404132899,-0.00320446862757251,-0.004003962711703224,-0.007688592177213849,-0.0124918382113961,-0.011639088516304241,-0.014567404448182941,-0.015225225934763387,-0.0125324422056039,-0.00918629377968827,-0.009097981208977757,-0.007969845749567384,-0.007914739282103511,-0.007228610526773593,-0.008521033347811624,-0.008001010941161013,-0.007049614815208827,-0.003641690306544376,-0.0038440907757646414,-0.002430342846245992,0.00021939649161595298,0.0015692611749429375,0.003511061245660585,0.005087154438747632,0.007591959190854425,0.008386296123529036,0.011657986261134567,0.01225531122539536,0.012213306154176706,0.010345903326172134,0.0106429469914886,0.009677993437168908,0.007419716151190414,0.01050648308760671,0.007787644519648751,0.0072775759317345035,0.008159842025492026,0.008084314532265324,0.006389897916843523,0.007777669604667636,0.006319788333033927,0.0031292579403050524,-0.00234420700904181,-0.006725530569262617,-0.008782621222248821,-0.017073710127007757,-0.018819472974982432,-0.021999248499369628,-0.025212127792741512,-0.028174583402318376,-0.03107458951937403,-0.032432824884701006,-0.03386944133840686,-0.034928280766880704,-0.029151889280012,-0.027710140257120486,-0.028154185616905636,-0.02434609550234157,-0.023072602966497158,-0.025507416906922487,-0.025266512613637104,-0.017763525195402252,-0.012371469818710068,-0.010749894467171117,-0.00643275791979292,0.002058685302998242,-1.1756408774488136e-05,0.004302786737440556,0.005657677439650399,0.006207885013573389,0.007991735641240894,0.012246725823985116,0.019441365121835474,0.015002182507302564,0.013972945068996268,0.013040647687969198,0.012558793415671232,0.008288041113242883,0.010784410265760158,0.010114095187741867,0.012245914360040189,0.010473110528728569,0.010177199460159159,0.011626131334946166,0.0019217264735722495,0.004044625244958411,0.003744558757986738,0.0030769823330416557,0.002863245753612631,0.007400888349831547,0.006996670568920393,0.00737766642393467,0.003137696488568764,0.005725247060432537,0.005429887902831609,0.005098161899983467,0.007521362834804535,0.007904879063588055,0.00829421431357602,0.009202908500164142,0.009446384023757304,0.006193717068029514,0.005607142081842653,0.0019641469815532275,0.007555184441041973,0.0027472948293230104,0.006668286927386191,0.0020716100053412845,0.0037469832710428363,0.0023869082893845928,0.002129205257276112,0.0018412873602606794,0.0007539742107560699,0.0022085796002535574,0.0009198398863468071,0.0015621297800016976,-0.0014916487093579178,0.000268526724678253,-0.0034743642684738063,0.0030178864930441307,0.002186097444266011,0.0053614409045223965,0.008955186791503422,0.010498442112329087,0.013187710717311063,0.012690416535033222,0.01179018279912114,0.01057477585382216,0.008316746454607227,0.008800682535767379,0.008402251071164102,0.008510100817773036,0.010776775763265078,0.010589789351953982,0.006085568191448232,0.0021457804063551578,-0.0019383697494994578,-0.0015222631375415574,0.001546233256807028,0.002844996154763635,0.004013994463203829,0.00533794889380701,0.007535022887864784,0.004930996618909944,-0.00012221093965791852,-0.005688258166031801,-0.0043853452901423395,-6.481393900514831e-05,0.002379627471210455,0.004897664237233812,0.0057068017898735945,0.006993772631759043,0.009933211529752128,0.010235269685814785,0.006388612952093808,0.007031315279704131,0.012742011094985628,0.010365499155025049,0.005046694579007749,-0.005252683218966325,-0.01013316913092055,-0.018609737862565368],\"yaxis\":\"y\",\"type\":\"scatter\"}],                        {\"template\":{\"data\":{\"histogram2dcontour\":[{\"type\":\"histogram2dcontour\",\"colorbar\":{\"outlinewidth\":0,\"ticks\":\"\"},\"colorscale\":[[0.0,\"#0d0887\"],[0.1111111111111111,\"#46039f\"],[0.2222222222222222,\"#7201a8\"],[0.3333333333333333,\"#9c179e\"],[0.4444444444444444,\"#bd3786\"],[0.5555555555555556,\"#d8576b\"],[0.6666666666666666,\"#ed7953\"],[0.7777777777777778,\"#fb9f3a\"],[0.8888888888888888,\"#fdca26\"],[1.0,\"#f0f921\"]]}],\"choropleth\":[{\"type\":\"choropleth\",\"colorbar\":{\"outlinewidth\":0,\"ticks\":\"\"}}],\"histogram2d\":[{\"type\":\"histogram2d\",\"colorbar\":{\"outlinewidth\":0,\"ticks\":\"\"},\"colorscale\":[[0.0,\"#0d0887\"],[0.1111111111111111,\"#46039f\"],[0.2222222222222222,\"#7201a8\"],[0.3333333333333333,\"#9c179e\"],[0.4444444444444444,\"#bd3786\"],[0.5555555555555556,\"#d8576b\"],[0.6666666666666666,\"#ed7953\"],[0.7777777777777778,\"#fb9f3a\"],[0.8888888888888888,\"#fdca26\"],[1.0,\"#f0f921\"]]}],\"heatmap\":[{\"type\":\"heatmap\",\"colorbar\":{\"outlinewidth\":0,\"ticks\":\"\"},\"colorscale\":[[0.0,\"#0d0887\"],[0.1111111111111111,\"#46039f\"],[0.2222222222222222,\"#7201a8\"],[0.3333333333333333,\"#9c179e\"],[0.4444444444444444,\"#bd3786\"],[0.5555555555555556,\"#d8576b\"],[0.6666666666666666,\"#ed7953\"],[0.7777777777777778,\"#fb9f3a\"],[0.8888888888888888,\"#fdca26\"],[1.0,\"#f0f921\"]]}],\"heatmapgl\":[{\"type\":\"heatmapgl\",\"colorbar\":{\"outlinewidth\":0,\"ticks\":\"\"},\"colorscale\":[[0.0,\"#0d0887\"],[0.1111111111111111,\"#46039f\"],[0.2222222222222222,\"#7201a8\"],[0.3333333333333333,\"#9c179e\"],[0.4444444444444444,\"#bd3786\"],[0.5555555555555556,\"#d8576b\"],[0.6666666666666666,\"#ed7953\"],[0.7777777777777778,\"#fb9f3a\"],[0.8888888888888888,\"#fdca26\"],[1.0,\"#f0f921\"]]}],\"contourcarpet\":[{\"type\":\"contourcarpet\",\"colorbar\":{\"outlinewidth\":0,\"ticks\":\"\"}}],\"contour\":[{\"type\":\"contour\",\"colorbar\":{\"outlinewidth\":0,\"ticks\":\"\"},\"colorscale\":[[0.0,\"#0d0887\"],[0.1111111111111111,\"#46039f\"],[0.2222222222222222,\"#7201a8\"],[0.3333333333333333,\"#9c179e\"],[0.4444444444444444,\"#bd3786\"],[0.5555555555555556,\"#d8576b\"],[0.6666666666666666,\"#ed7953\"],[0.7777777777777778,\"#fb9f3a\"],[0.8888888888888888,\"#fdca26\"],[1.0,\"#f0f921\"]]}],\"surface\":[{\"type\":\"surface\",\"colorbar\":{\"outlinewidth\":0,\"ticks\":\"\"},\"colorscale\":[[0.0,\"#0d0887\"],[0.1111111111111111,\"#46039f\"],[0.2222222222222222,\"#7201a8\"],[0.3333333333333333,\"#9c179e\"],[0.4444444444444444,\"#bd3786\"],[0.5555555555555556,\"#d8576b\"],[0.6666666666666666,\"#ed7953\"],[0.7777777777777778,\"#fb9f3a\"],[0.8888888888888888,\"#fdca26\"],[1.0,\"#f0f921\"]]}],\"mesh3d\":[{\"type\":\"mesh3d\",\"colorbar\":{\"outlinewidth\":0,\"ticks\":\"\"}}],\"scatter\":[{\"fillpattern\":{\"fillmode\":\"overlay\",\"size\":10,\"solidity\":0.2},\"type\":\"scatter\"}],\"parcoords\":[{\"type\":\"parcoords\",\"line\":{\"colorbar\":{\"outlinewidth\":0,\"ticks\":\"\"}}}],\"scatterpolargl\":[{\"type\":\"scatterpolargl\",\"marker\":{\"colorbar\":{\"outlinewidth\":0,\"ticks\":\"\"}}}],\"bar\":[{\"error_x\":{\"color\":\"#2a3f5f\"},\"error_y\":{\"color\":\"#2a3f5f\"},\"marker\":{\"line\":{\"color\":\"#E5ECF6\",\"width\":0.5},\"pattern\":{\"fillmode\":\"overlay\",\"size\":10,\"solidity\":0.2}},\"type\":\"bar\"}],\"scattergeo\":[{\"type\":\"scattergeo\",\"marker\":{\"colorbar\":{\"outlinewidth\":0,\"ticks\":\"\"}}}],\"scatterpolar\":[{\"type\":\"scatterpolar\",\"marker\":{\"colorbar\":{\"outlinewidth\":0,\"ticks\":\"\"}}}],\"histogram\":[{\"marker\":{\"pattern\":{\"fillmode\":\"overlay\",\"size\":10,\"solidity\":0.2}},\"type\":\"histogram\"}],\"scattergl\":[{\"type\":\"scattergl\",\"marker\":{\"colorbar\":{\"outlinewidth\":0,\"ticks\":\"\"}}}],\"scatter3d\":[{\"type\":\"scatter3d\",\"line\":{\"colorbar\":{\"outlinewidth\":0,\"ticks\":\"\"}},\"marker\":{\"colorbar\":{\"outlinewidth\":0,\"ticks\":\"\"}}}],\"scattermapbox\":[{\"type\":\"scattermapbox\",\"marker\":{\"colorbar\":{\"outlinewidth\":0,\"ticks\":\"\"}}}],\"scatterternary\":[{\"type\":\"scatterternary\",\"marker\":{\"colorbar\":{\"outlinewidth\":0,\"ticks\":\"\"}}}],\"scattercarpet\":[{\"type\":\"scattercarpet\",\"marker\":{\"colorbar\":{\"outlinewidth\":0,\"ticks\":\"\"}}}],\"carpet\":[{\"aaxis\":{\"endlinecolor\":\"#2a3f5f\",\"gridcolor\":\"white\",\"linecolor\":\"white\",\"minorgridcolor\":\"white\",\"startlinecolor\":\"#2a3f5f\"},\"baxis\":{\"endlinecolor\":\"#2a3f5f\",\"gridcolor\":\"white\",\"linecolor\":\"white\",\"minorgridcolor\":\"white\",\"startlinecolor\":\"#2a3f5f\"},\"type\":\"carpet\"}],\"table\":[{\"cells\":{\"fill\":{\"color\":\"#EBF0F8\"},\"line\":{\"color\":\"white\"}},\"header\":{\"fill\":{\"color\":\"#C8D4E3\"},\"line\":{\"color\":\"white\"}},\"type\":\"table\"}],\"barpolar\":[{\"marker\":{\"line\":{\"color\":\"#E5ECF6\",\"width\":0.5},\"pattern\":{\"fillmode\":\"overlay\",\"size\":10,\"solidity\":0.2}},\"type\":\"barpolar\"}],\"pie\":[{\"automargin\":true,\"type\":\"pie\"}]},\"layout\":{\"autotypenumbers\":\"strict\",\"colorway\":[\"#636efa\",\"#EF553B\",\"#00cc96\",\"#ab63fa\",\"#FFA15A\",\"#19d3f3\",\"#FF6692\",\"#B6E880\",\"#FF97FF\",\"#FECB52\"],\"font\":{\"color\":\"#2a3f5f\"},\"hovermode\":\"closest\",\"hoverlabel\":{\"align\":\"left\"},\"paper_bgcolor\":\"white\",\"plot_bgcolor\":\"#E5ECF6\",\"polar\":{\"bgcolor\":\"#E5ECF6\",\"angularaxis\":{\"gridcolor\":\"white\",\"linecolor\":\"white\",\"ticks\":\"\"},\"radialaxis\":{\"gridcolor\":\"white\",\"linecolor\":\"white\",\"ticks\":\"\"}},\"ternary\":{\"bgcolor\":\"#E5ECF6\",\"aaxis\":{\"gridcolor\":\"white\",\"linecolor\":\"white\",\"ticks\":\"\"},\"baxis\":{\"gridcolor\":\"white\",\"linecolor\":\"white\",\"ticks\":\"\"},\"caxis\":{\"gridcolor\":\"white\",\"linecolor\":\"white\",\"ticks\":\"\"}},\"coloraxis\":{\"colorbar\":{\"outlinewidth\":0,\"ticks\":\"\"}},\"colorscale\":{\"sequential\":[[0.0,\"#0d0887\"],[0.1111111111111111,\"#46039f\"],[0.2222222222222222,\"#7201a8\"],[0.3333333333333333,\"#9c179e\"],[0.4444444444444444,\"#bd3786\"],[0.5555555555555556,\"#d8576b\"],[0.6666666666666666,\"#ed7953\"],[0.7777777777777778,\"#fb9f3a\"],[0.8888888888888888,\"#fdca26\"],[1.0,\"#f0f921\"]],\"sequentialminus\":[[0.0,\"#0d0887\"],[0.1111111111111111,\"#46039f\"],[0.2222222222222222,\"#7201a8\"],[0.3333333333333333,\"#9c179e\"],[0.4444444444444444,\"#bd3786\"],[0.5555555555555556,\"#d8576b\"],[0.6666666666666666,\"#ed7953\"],[0.7777777777777778,\"#fb9f3a\"],[0.8888888888888888,\"#fdca26\"],[1.0,\"#f0f921\"]],\"diverging\":[[0,\"#8e0152\"],[0.1,\"#c51b7d\"],[0.2,\"#de77ae\"],[0.3,\"#f1b6da\"],[0.4,\"#fde0ef\"],[0.5,\"#f7f7f7\"],[0.6,\"#e6f5d0\"],[0.7,\"#b8e186\"],[0.8,\"#7fbc41\"],[0.9,\"#4d9221\"],[1,\"#276419\"]]},\"xaxis\":{\"gridcolor\":\"white\",\"linecolor\":\"white\",\"ticks\":\"\",\"title\":{\"standoff\":15},\"zerolinecolor\":\"white\",\"automargin\":true,\"zerolinewidth\":2},\"yaxis\":{\"gridcolor\":\"white\",\"linecolor\":\"white\",\"ticks\":\"\",\"title\":{\"standoff\":15},\"zerolinecolor\":\"white\",\"automargin\":true,\"zerolinewidth\":2},\"scene\":{\"xaxis\":{\"backgroundcolor\":\"#E5ECF6\",\"gridcolor\":\"white\",\"linecolor\":\"white\",\"showbackground\":true,\"ticks\":\"\",\"zerolinecolor\":\"white\",\"gridwidth\":2},\"yaxis\":{\"backgroundcolor\":\"#E5ECF6\",\"gridcolor\":\"white\",\"linecolor\":\"white\",\"showbackground\":true,\"ticks\":\"\",\"zerolinecolor\":\"white\",\"gridwidth\":2},\"zaxis\":{\"backgroundcolor\":\"#E5ECF6\",\"gridcolor\":\"white\",\"linecolor\":\"white\",\"showbackground\":true,\"ticks\":\"\",\"zerolinecolor\":\"white\",\"gridwidth\":2}},\"shapedefaults\":{\"line\":{\"color\":\"#2a3f5f\"}},\"annotationdefaults\":{\"arrowcolor\":\"#2a3f5f\",\"arrowhead\":0,\"arrowwidth\":1},\"geo\":{\"bgcolor\":\"white\",\"landcolor\":\"#E5ECF6\",\"subunitcolor\":\"white\",\"showland\":true,\"showlakes\":true,\"lakecolor\":\"white\"},\"title\":{\"x\":0.05},\"mapbox\":{\"style\":\"light\"}}},\"xaxis\":{\"anchor\":\"y\",\"domain\":[0.0,1.0],\"title\":{\"text\":\"Datetime\"}},\"yaxis\":{\"anchor\":\"x\",\"domain\":[0.0,1.0],\"title\":{\"text\":\"MACD_12_24\"}},\"legend\":{\"tracegroupgap\":0},\"title\":{\"text\":\"INTC MACD\"}},                        {\"responsive\": true}                    ).then(function(){\n",
       "                            \n",
       "var gd = document.getElementById('245494b4-9b39-4e4f-bb23-c376fa5353ba');\n",
       "var x = new MutationObserver(function (mutations, observer) {{\n",
       "        var display = window.getComputedStyle(gd).display;\n",
       "        if (!display || display === 'none') {{\n",
       "            console.log([gd, 'removed!']);\n",
       "            Plotly.purge(gd);\n",
       "            observer.disconnect();\n",
       "        }}\n",
       "}});\n",
       "\n",
       "// Listen for the removal of the full notebook cells\n",
       "var notebookContainer = gd.closest('#notebook-container');\n",
       "if (notebookContainer) {{\n",
       "    x.observe(notebookContainer, {childList: true});\n",
       "}}\n",
       "\n",
       "// Listen for the clearing of the current output cell\n",
       "var outputEl = gd.closest('.output');\n",
       "if (outputEl) {{\n",
       "    x.observe(outputEl, {childList: true});\n",
       "}}\n",
       "\n",
       "                        })                };                });            </script>        </div>"
      ]
     },
     "metadata": {},
     "output_type": "display_data"
    }
   ],
   "source": [
    "stonks = create_stock_data_from_input()\n",
    "\n",
    "with warnings.catch_warnings():\n",
    "    warnings.simplefilter(\"ignore\")\n",
    "    fig = px.line(stonks.data_frame, x=stonks.data_frame.index,\n",
    "                  y='Close',\n",
    "                 title=f\"{stonks.stock_symbol} Stock Prices\")\n",
    "    fig.show()\n",
    "\n",
    "# The number of lag variables should not exceed 30% of the \n",
    "# number of observations\n",
    "threshold = int(0.3 * stonks.data_frame.shape[0])\n",
    "    \n",
    "add_lags_from_input(stonks, threshold)\n",
    "\n",
    "display_days = int(0.8 * stonks.lag_length)\n",
    "SMA_string = 'SMA_' + str(display_days)\n",
    "lower_boll_str = 'lower_boll_' + str(display_days)\n",
    "upper_boll_str = 'upper_boll_' + str(display_days)\n",
    "EMA_string = 'EMA_' + str(display_days)\n",
    "EMA_string_2 = 'EMA_' + str(int(display_days / 2))\n",
    "MACD_string = 'MACD_' + str(int(display_days / 2)) + '_' + str(display_days)\n",
    "\n",
    "\n",
    "stonks.add_simple_moving_average(display_days)\n",
    "stonks.add_upper_bollinger(display_days)\n",
    "stonks.add_lower_bollinger(display_days)\n",
    "stonks.add_exponential_moving_average(display_days)\n",
    "stonks.add_exponential_moving_average(int(display_days/2))\n",
    "stonks.add_MACD(display_days, int(display_days/2))\n",
    "\n",
    "\n",
    "with warnings.catch_warnings():\n",
    "    warnings.simplefilter(\"ignore\")\n",
    "    fig = px.line(stonks.data_frame, x=stonks.data_frame.index,\n",
    "                  y=[SMA_string, upper_boll_str, lower_boll_str, 'Close',], \n",
    "                  color_discrete_map={\n",
    "                      SMA_string: \"#85deb1\",\n",
    "                      upper_boll_str: \"#b6d1c3\",\n",
    "                      lower_boll_str: \"#b6d1c3\",\n",
    "                      \"Close\": \"#0059ff\",\n",
    "                  },\n",
    "                 title=f\"{stonks.stock_symbol} Stock Prices w/ Bollinger Bands\").update_traces(\n",
    "        selector={\"name\": upper_boll_str},\n",
    "        line={\"dash\": \"dot\"}\n",
    "    ).update_traces(\n",
    "        selector={\"name\": lower_boll_str}, \n",
    "        line={\"dash\": \"dot\"})\n",
    "\n",
    "    fig.show()\n",
    "\n",
    "\n",
    "with warnings.catch_warnings():\n",
    "    warnings.simplefilter(\"ignore\")\n",
    "    fig = px.line(stonks.data_frame, x=stonks.data_frame.index,\n",
    "                  y=[EMA_string, EMA_string_2], \n",
    "                  color_discrete_map={\n",
    "                      EMA_string:\"#38b9ff\",\n",
    "                      EMA_string_2:\"#44fcd1\"\n",
    "                  },\n",
    "                 title=f\"{stonks.stock_symbol} Exponential Moving Averages\")\n",
    "    fig.show()\n",
    "    \n",
    "\n",
    "with warnings.catch_warnings():\n",
    "    warnings.simplefilter(\"ignore\")\n",
    "    fig = px.line(stonks.data_frame, x=stonks.data_frame.index,\n",
    "                  y=MACD_string, \n",
    "                  color_discrete_map={\n",
    "                      MACD_string:\"#edff47\"\n",
    "                  },\n",
    "                 title=f\"{stonks.stock_symbol} MACD\")\n",
    "    fig.show()\n"
   ]
  },
  {
   "cell_type": "markdown",
   "id": "9e98f2d4",
   "metadata": {},
   "source": [
    "# Setting Up Models"
   ]
  },
  {
   "cell_type": "code",
   "execution_count": 11,
   "id": "39f39a8d",
   "metadata": {},
   "outputs": [],
   "source": [
    "# Predictors\n",
    "predictors = stonks.data_frame.filter(regex='Close_L')\n",
    "# Outcome\n",
    "outcome=stonks.data_frame[\"Close\"]\n",
    "\n",
    "(trainX, testX, trainY, testY) = train_test_split(predictors, \n",
    "                                                  outcome,\n",
    "                                                  random_state=43,\n",
    "                                                  test_size=0.25)\n",
    "scaler = preprocessing.StandardScaler()\n",
    "trainX = scaler.fit_transform(trainX)\n",
    "testX = scaler.transform(testX)"
   ]
  },
  {
   "cell_type": "code",
   "execution_count": 13,
   "id": "b7ed59cd",
   "metadata": {},
   "outputs": [
    {
     "data": {
      "application/vnd.plotly.v1+json": {
       "config": {
        "plotlyServerURL": "https://plot.ly"
       },
       "data": [
        {
         "hovertemplate": "variable=alpha_0.0001<br>L1_Ratio=%{x}<br>value=%{y}<extra></extra>",
         "legendgroup": "alpha_0.0001",
         "line": {
          "color": "#636efa",
          "dash": "solid"
         },
         "marker": {
          "symbol": "circle"
         },
         "mode": "lines",
         "name": "alpha_0.0001",
         "orientation": "v",
         "showlegend": true,
         "type": "scatter",
         "x": [
          0,
          0.1,
          0.2,
          0.30000000000000004,
          0.4,
          0.5,
          0.6000000000000001,
          0.7000000000000001,
          0.8,
          0.9
         ],
         "xaxis": "x",
         "y": [
          0.9078424072602875,
          0.9090230315159309,
          0.9101513513877573,
          0.911186120168438,
          0.912147614482131,
          0.9128789846348397,
          0.913393761446424,
          0.9138444958196693,
          0.9141910226707661,
          0.9145678397210476
         ],
         "yaxis": "y"
        },
        {
         "hovertemplate": "variable=alpha_0.001<br>L1_Ratio=%{x}<br>value=%{y}<extra></extra>",
         "legendgroup": "alpha_0.001",
         "line": {
          "color": "#EF553B",
          "dash": "solid"
         },
         "marker": {
          "symbol": "circle"
         },
         "mode": "lines",
         "name": "alpha_0.001",
         "orientation": "v",
         "showlegend": true,
         "type": "scatter",
         "x": [
          0,
          0.1,
          0.2,
          0.30000000000000004,
          0.4,
          0.5,
          0.6000000000000001,
          0.7000000000000001,
          0.8,
          0.9
         ],
         "xaxis": "x",
         "y": [
          0.9090772103837335,
          0.9153098455200706,
          0.9184582959554554,
          0.9199954605073202,
          0.9212386134491843,
          0.9221389561884438,
          0.9225249252412221,
          0.9228545089803412,
          0.9229677164778431,
          0.9230017060372042
         ],
         "yaxis": "y"
        },
        {
         "hovertemplate": "variable=alpha_0.01<br>L1_Ratio=%{x}<br>value=%{y}<extra></extra>",
         "legendgroup": "alpha_0.01",
         "line": {
          "color": "#00cc96",
          "dash": "solid"
         },
         "marker": {
          "symbol": "circle"
         },
         "mode": "lines",
         "name": "alpha_0.01",
         "orientation": "v",
         "showlegend": true,
         "type": "scatter",
         "x": [
          0,
          0.1,
          0.2,
          0.30000000000000004,
          0.4,
          0.5,
          0.6000000000000001,
          0.7000000000000001,
          0.8,
          0.9
         ],
         "xaxis": "x",
         "y": [
          0.9121496787065423,
          0.9212185731878237,
          0.9215302822699117,
          0.9213044532609667,
          0.9204333050122656,
          0.9190256621331085,
          0.9171099690719082,
          0.9148126918130404,
          0.9121638797086259,
          0.9091614375035307
         ],
         "yaxis": "y"
        },
        {
         "hovertemplate": "variable=alpha_0.1<br>L1_Ratio=%{x}<br>value=%{y}<extra></extra>",
         "legendgroup": "alpha_0.1",
         "line": {
          "color": "#ab63fa",
          "dash": "solid"
         },
         "marker": {
          "symbol": "circle"
         },
         "mode": "lines",
         "name": "alpha_0.1",
         "orientation": "v",
         "showlegend": true,
         "type": "scatter",
         "x": [
          0,
          0.1,
          0.2,
          0.30000000000000004,
          0.4,
          0.5,
          0.6000000000000001,
          0.7000000000000001,
          0.8,
          0.9
         ],
         "xaxis": "x",
         "y": [
          0.8937443662283275,
          0.8766048894736569,
          0.8154487848616971,
          0.71622350708509,
          0.5862927126395936,
          0.4180368868955785,
          0.21137392284347944,
          -0.028032114474706236,
          -0.04777476194192023,
          -0.04777476194192023
         ],
         "yaxis": "y"
        },
        {
         "hovertemplate": "variable=alpha_1<br>L1_Ratio=%{x}<br>value=%{y}<extra></extra>",
         "legendgroup": "alpha_1",
         "line": {
          "color": "#FFA15A",
          "dash": "solid"
         },
         "marker": {
          "symbol": "circle"
         },
         "mode": "lines",
         "name": "alpha_1",
         "orientation": "v",
         "showlegend": true,
         "type": "scatter",
         "x": [
          0,
          0.1,
          0.2,
          0.30000000000000004,
          0.4,
          0.5,
          0.6000000000000001,
          0.7000000000000001,
          0.8,
          0.9
         ],
         "xaxis": "x",
         "y": [
          0.8033924958202256,
          -0.04777476194192023,
          -0.04777476194192023,
          -0.04777476194192023,
          -0.04777476194192023,
          -0.04777476194192023,
          -0.04777476194192023,
          -0.04777476194192023,
          -0.04777476194192023,
          -0.04777476194192023
         ],
         "yaxis": "y"
        },
        {
         "hovertemplate": "variable=alpha_10<br>L1_Ratio=%{x}<br>value=%{y}<extra></extra>",
         "legendgroup": "alpha_10",
         "line": {
          "color": "#19d3f3",
          "dash": "solid"
         },
         "marker": {
          "symbol": "circle"
         },
         "mode": "lines",
         "name": "alpha_10",
         "orientation": "v",
         "showlegend": true,
         "type": "scatter",
         "x": [
          0,
          0.1,
          0.2,
          0.30000000000000004,
          0.4,
          0.5,
          0.6000000000000001,
          0.7000000000000001,
          0.8,
          0.9
         ],
         "xaxis": "x",
         "y": [
          0.5623589890353994,
          -0.04777476194192023,
          -0.04777476194192023,
          -0.04777476194192023,
          -0.04777476194192023,
          -0.04777476194192023,
          -0.04777476194192023,
          -0.04777476194192023,
          -0.04777476194192023,
          -0.04777476194192023
         ],
         "yaxis": "y"
        },
        {
         "hovertemplate": "variable=alpha_100<br>L1_Ratio=%{x}<br>value=%{y}<extra></extra>",
         "legendgroup": "alpha_100",
         "line": {
          "color": "#FF6692",
          "dash": "solid"
         },
         "marker": {
          "symbol": "circle"
         },
         "mode": "lines",
         "name": "alpha_100",
         "orientation": "v",
         "showlegend": true,
         "type": "scatter",
         "x": [
          0,
          0.1,
          0.2,
          0.30000000000000004,
          0.4,
          0.5,
          0.6000000000000001,
          0.7000000000000001,
          0.8,
          0.9
         ],
         "xaxis": "x",
         "y": [
          0.14894910189810057,
          -0.04777476194192023,
          -0.04777476194192023,
          -0.04777476194192023,
          -0.04777476194192023,
          -0.04777476194192023,
          -0.04777476194192023,
          -0.04777476194192023,
          -0.04777476194192023,
          -0.04777476194192023
         ],
         "yaxis": "y"
        }
       ],
       "layout": {
        "legend": {
         "title": {
          "text": "variable"
         },
         "tracegroupgap": 0
        },
        "template": {
         "data": {
          "bar": [
           {
            "error_x": {
             "color": "#2a3f5f"
            },
            "error_y": {
             "color": "#2a3f5f"
            },
            "marker": {
             "line": {
              "color": "#E5ECF6",
              "width": 0.5
             },
             "pattern": {
              "fillmode": "overlay",
              "size": 10,
              "solidity": 0.2
             }
            },
            "type": "bar"
           }
          ],
          "barpolar": [
           {
            "marker": {
             "line": {
              "color": "#E5ECF6",
              "width": 0.5
             },
             "pattern": {
              "fillmode": "overlay",
              "size": 10,
              "solidity": 0.2
             }
            },
            "type": "barpolar"
           }
          ],
          "carpet": [
           {
            "aaxis": {
             "endlinecolor": "#2a3f5f",
             "gridcolor": "white",
             "linecolor": "white",
             "minorgridcolor": "white",
             "startlinecolor": "#2a3f5f"
            },
            "baxis": {
             "endlinecolor": "#2a3f5f",
             "gridcolor": "white",
             "linecolor": "white",
             "minorgridcolor": "white",
             "startlinecolor": "#2a3f5f"
            },
            "type": "carpet"
           }
          ],
          "choropleth": [
           {
            "colorbar": {
             "outlinewidth": 0,
             "ticks": ""
            },
            "type": "choropleth"
           }
          ],
          "contour": [
           {
            "colorbar": {
             "outlinewidth": 0,
             "ticks": ""
            },
            "colorscale": [
             [
              0,
              "#0d0887"
             ],
             [
              0.1111111111111111,
              "#46039f"
             ],
             [
              0.2222222222222222,
              "#7201a8"
             ],
             [
              0.3333333333333333,
              "#9c179e"
             ],
             [
              0.4444444444444444,
              "#bd3786"
             ],
             [
              0.5555555555555556,
              "#d8576b"
             ],
             [
              0.6666666666666666,
              "#ed7953"
             ],
             [
              0.7777777777777778,
              "#fb9f3a"
             ],
             [
              0.8888888888888888,
              "#fdca26"
             ],
             [
              1,
              "#f0f921"
             ]
            ],
            "type": "contour"
           }
          ],
          "contourcarpet": [
           {
            "colorbar": {
             "outlinewidth": 0,
             "ticks": ""
            },
            "type": "contourcarpet"
           }
          ],
          "heatmap": [
           {
            "colorbar": {
             "outlinewidth": 0,
             "ticks": ""
            },
            "colorscale": [
             [
              0,
              "#0d0887"
             ],
             [
              0.1111111111111111,
              "#46039f"
             ],
             [
              0.2222222222222222,
              "#7201a8"
             ],
             [
              0.3333333333333333,
              "#9c179e"
             ],
             [
              0.4444444444444444,
              "#bd3786"
             ],
             [
              0.5555555555555556,
              "#d8576b"
             ],
             [
              0.6666666666666666,
              "#ed7953"
             ],
             [
              0.7777777777777778,
              "#fb9f3a"
             ],
             [
              0.8888888888888888,
              "#fdca26"
             ],
             [
              1,
              "#f0f921"
             ]
            ],
            "type": "heatmap"
           }
          ],
          "heatmapgl": [
           {
            "colorbar": {
             "outlinewidth": 0,
             "ticks": ""
            },
            "colorscale": [
             [
              0,
              "#0d0887"
             ],
             [
              0.1111111111111111,
              "#46039f"
             ],
             [
              0.2222222222222222,
              "#7201a8"
             ],
             [
              0.3333333333333333,
              "#9c179e"
             ],
             [
              0.4444444444444444,
              "#bd3786"
             ],
             [
              0.5555555555555556,
              "#d8576b"
             ],
             [
              0.6666666666666666,
              "#ed7953"
             ],
             [
              0.7777777777777778,
              "#fb9f3a"
             ],
             [
              0.8888888888888888,
              "#fdca26"
             ],
             [
              1,
              "#f0f921"
             ]
            ],
            "type": "heatmapgl"
           }
          ],
          "histogram": [
           {
            "marker": {
             "pattern": {
              "fillmode": "overlay",
              "size": 10,
              "solidity": 0.2
             }
            },
            "type": "histogram"
           }
          ],
          "histogram2d": [
           {
            "colorbar": {
             "outlinewidth": 0,
             "ticks": ""
            },
            "colorscale": [
             [
              0,
              "#0d0887"
             ],
             [
              0.1111111111111111,
              "#46039f"
             ],
             [
              0.2222222222222222,
              "#7201a8"
             ],
             [
              0.3333333333333333,
              "#9c179e"
             ],
             [
              0.4444444444444444,
              "#bd3786"
             ],
             [
              0.5555555555555556,
              "#d8576b"
             ],
             [
              0.6666666666666666,
              "#ed7953"
             ],
             [
              0.7777777777777778,
              "#fb9f3a"
             ],
             [
              0.8888888888888888,
              "#fdca26"
             ],
             [
              1,
              "#f0f921"
             ]
            ],
            "type": "histogram2d"
           }
          ],
          "histogram2dcontour": [
           {
            "colorbar": {
             "outlinewidth": 0,
             "ticks": ""
            },
            "colorscale": [
             [
              0,
              "#0d0887"
             ],
             [
              0.1111111111111111,
              "#46039f"
             ],
             [
              0.2222222222222222,
              "#7201a8"
             ],
             [
              0.3333333333333333,
              "#9c179e"
             ],
             [
              0.4444444444444444,
              "#bd3786"
             ],
             [
              0.5555555555555556,
              "#d8576b"
             ],
             [
              0.6666666666666666,
              "#ed7953"
             ],
             [
              0.7777777777777778,
              "#fb9f3a"
             ],
             [
              0.8888888888888888,
              "#fdca26"
             ],
             [
              1,
              "#f0f921"
             ]
            ],
            "type": "histogram2dcontour"
           }
          ],
          "mesh3d": [
           {
            "colorbar": {
             "outlinewidth": 0,
             "ticks": ""
            },
            "type": "mesh3d"
           }
          ],
          "parcoords": [
           {
            "line": {
             "colorbar": {
              "outlinewidth": 0,
              "ticks": ""
             }
            },
            "type": "parcoords"
           }
          ],
          "pie": [
           {
            "automargin": true,
            "type": "pie"
           }
          ],
          "scatter": [
           {
            "fillpattern": {
             "fillmode": "overlay",
             "size": 10,
             "solidity": 0.2
            },
            "type": "scatter"
           }
          ],
          "scatter3d": [
           {
            "line": {
             "colorbar": {
              "outlinewidth": 0,
              "ticks": ""
             }
            },
            "marker": {
             "colorbar": {
              "outlinewidth": 0,
              "ticks": ""
             }
            },
            "type": "scatter3d"
           }
          ],
          "scattercarpet": [
           {
            "marker": {
             "colorbar": {
              "outlinewidth": 0,
              "ticks": ""
             }
            },
            "type": "scattercarpet"
           }
          ],
          "scattergeo": [
           {
            "marker": {
             "colorbar": {
              "outlinewidth": 0,
              "ticks": ""
             }
            },
            "type": "scattergeo"
           }
          ],
          "scattergl": [
           {
            "marker": {
             "colorbar": {
              "outlinewidth": 0,
              "ticks": ""
             }
            },
            "type": "scattergl"
           }
          ],
          "scattermapbox": [
           {
            "marker": {
             "colorbar": {
              "outlinewidth": 0,
              "ticks": ""
             }
            },
            "type": "scattermapbox"
           }
          ],
          "scatterpolar": [
           {
            "marker": {
             "colorbar": {
              "outlinewidth": 0,
              "ticks": ""
             }
            },
            "type": "scatterpolar"
           }
          ],
          "scatterpolargl": [
           {
            "marker": {
             "colorbar": {
              "outlinewidth": 0,
              "ticks": ""
             }
            },
            "type": "scatterpolargl"
           }
          ],
          "scatterternary": [
           {
            "marker": {
             "colorbar": {
              "outlinewidth": 0,
              "ticks": ""
             }
            },
            "type": "scatterternary"
           }
          ],
          "surface": [
           {
            "colorbar": {
             "outlinewidth": 0,
             "ticks": ""
            },
            "colorscale": [
             [
              0,
              "#0d0887"
             ],
             [
              0.1111111111111111,
              "#46039f"
             ],
             [
              0.2222222222222222,
              "#7201a8"
             ],
             [
              0.3333333333333333,
              "#9c179e"
             ],
             [
              0.4444444444444444,
              "#bd3786"
             ],
             [
              0.5555555555555556,
              "#d8576b"
             ],
             [
              0.6666666666666666,
              "#ed7953"
             ],
             [
              0.7777777777777778,
              "#fb9f3a"
             ],
             [
              0.8888888888888888,
              "#fdca26"
             ],
             [
              1,
              "#f0f921"
             ]
            ],
            "type": "surface"
           }
          ],
          "table": [
           {
            "cells": {
             "fill": {
              "color": "#EBF0F8"
             },
             "line": {
              "color": "white"
             }
            },
            "header": {
             "fill": {
              "color": "#C8D4E3"
             },
             "line": {
              "color": "white"
             }
            },
            "type": "table"
           }
          ]
         },
         "layout": {
          "annotationdefaults": {
           "arrowcolor": "#2a3f5f",
           "arrowhead": 0,
           "arrowwidth": 1
          },
          "autotypenumbers": "strict",
          "coloraxis": {
           "colorbar": {
            "outlinewidth": 0,
            "ticks": ""
           }
          },
          "colorscale": {
           "diverging": [
            [
             0,
             "#8e0152"
            ],
            [
             0.1,
             "#c51b7d"
            ],
            [
             0.2,
             "#de77ae"
            ],
            [
             0.3,
             "#f1b6da"
            ],
            [
             0.4,
             "#fde0ef"
            ],
            [
             0.5,
             "#f7f7f7"
            ],
            [
             0.6,
             "#e6f5d0"
            ],
            [
             0.7,
             "#b8e186"
            ],
            [
             0.8,
             "#7fbc41"
            ],
            [
             0.9,
             "#4d9221"
            ],
            [
             1,
             "#276419"
            ]
           ],
           "sequential": [
            [
             0,
             "#0d0887"
            ],
            [
             0.1111111111111111,
             "#46039f"
            ],
            [
             0.2222222222222222,
             "#7201a8"
            ],
            [
             0.3333333333333333,
             "#9c179e"
            ],
            [
             0.4444444444444444,
             "#bd3786"
            ],
            [
             0.5555555555555556,
             "#d8576b"
            ],
            [
             0.6666666666666666,
             "#ed7953"
            ],
            [
             0.7777777777777778,
             "#fb9f3a"
            ],
            [
             0.8888888888888888,
             "#fdca26"
            ],
            [
             1,
             "#f0f921"
            ]
           ],
           "sequentialminus": [
            [
             0,
             "#0d0887"
            ],
            [
             0.1111111111111111,
             "#46039f"
            ],
            [
             0.2222222222222222,
             "#7201a8"
            ],
            [
             0.3333333333333333,
             "#9c179e"
            ],
            [
             0.4444444444444444,
             "#bd3786"
            ],
            [
             0.5555555555555556,
             "#d8576b"
            ],
            [
             0.6666666666666666,
             "#ed7953"
            ],
            [
             0.7777777777777778,
             "#fb9f3a"
            ],
            [
             0.8888888888888888,
             "#fdca26"
            ],
            [
             1,
             "#f0f921"
            ]
           ]
          },
          "colorway": [
           "#636efa",
           "#EF553B",
           "#00cc96",
           "#ab63fa",
           "#FFA15A",
           "#19d3f3",
           "#FF6692",
           "#B6E880",
           "#FF97FF",
           "#FECB52"
          ],
          "font": {
           "color": "#2a3f5f"
          },
          "geo": {
           "bgcolor": "white",
           "lakecolor": "white",
           "landcolor": "#E5ECF6",
           "showlakes": true,
           "showland": true,
           "subunitcolor": "white"
          },
          "hoverlabel": {
           "align": "left"
          },
          "hovermode": "closest",
          "mapbox": {
           "style": "light"
          },
          "paper_bgcolor": "white",
          "plot_bgcolor": "#E5ECF6",
          "polar": {
           "angularaxis": {
            "gridcolor": "white",
            "linecolor": "white",
            "ticks": ""
           },
           "bgcolor": "#E5ECF6",
           "radialaxis": {
            "gridcolor": "white",
            "linecolor": "white",
            "ticks": ""
           }
          },
          "scene": {
           "xaxis": {
            "backgroundcolor": "#E5ECF6",
            "gridcolor": "white",
            "gridwidth": 2,
            "linecolor": "white",
            "showbackground": true,
            "ticks": "",
            "zerolinecolor": "white"
           },
           "yaxis": {
            "backgroundcolor": "#E5ECF6",
            "gridcolor": "white",
            "gridwidth": 2,
            "linecolor": "white",
            "showbackground": true,
            "ticks": "",
            "zerolinecolor": "white"
           },
           "zaxis": {
            "backgroundcolor": "#E5ECF6",
            "gridcolor": "white",
            "gridwidth": 2,
            "linecolor": "white",
            "showbackground": true,
            "ticks": "",
            "zerolinecolor": "white"
           }
          },
          "shapedefaults": {
           "line": {
            "color": "#2a3f5f"
           }
          },
          "ternary": {
           "aaxis": {
            "gridcolor": "white",
            "linecolor": "white",
            "ticks": ""
           },
           "baxis": {
            "gridcolor": "white",
            "linecolor": "white",
            "ticks": ""
           },
           "bgcolor": "#E5ECF6",
           "caxis": {
            "gridcolor": "white",
            "linecolor": "white",
            "ticks": ""
           }
          },
          "title": {
           "x": 0.05
          },
          "xaxis": {
           "automargin": true,
           "gridcolor": "white",
           "linecolor": "white",
           "ticks": "",
           "title": {
            "standoff": 15
           },
           "zerolinecolor": "white",
           "zerolinewidth": 2
          },
          "yaxis": {
           "automargin": true,
           "gridcolor": "white",
           "linecolor": "white",
           "ticks": "",
           "title": {
            "standoff": 15
           },
           "zerolinecolor": "white",
           "zerolinewidth": 2
          }
         }
        },
        "title": {
         "text": "Elastic Net Performance"
        },
        "xaxis": {
         "anchor": "y",
         "domain": [
          0,
          1
         ],
         "title": {
          "text": "L1_Ratio"
         }
        },
        "yaxis": {
         "anchor": "x",
         "domain": [
          0,
          1
         ],
         "title": {
          "text": "R^2 value"
         }
        }
       }
      },
      "text/html": [
       "<div>                            <div id=\"bbf2f1c3-6e22-4b94-bb60-6c5e2d8c8bd0\" class=\"plotly-graph-div\" style=\"height:525px; width:100%;\"></div>            <script type=\"text/javascript\">                require([\"plotly\"], function(Plotly) {                    window.PLOTLYENV=window.PLOTLYENV || {};                                    if (document.getElementById(\"bbf2f1c3-6e22-4b94-bb60-6c5e2d8c8bd0\")) {                    Plotly.newPlot(                        \"bbf2f1c3-6e22-4b94-bb60-6c5e2d8c8bd0\",                        [{\"hovertemplate\":\"variable=alpha_0.0001<br>L1_Ratio=%{x}<br>value=%{y}<extra></extra>\",\"legendgroup\":\"alpha_0.0001\",\"line\":{\"color\":\"#636efa\",\"dash\":\"solid\"},\"marker\":{\"symbol\":\"circle\"},\"mode\":\"lines\",\"name\":\"alpha_0.0001\",\"orientation\":\"v\",\"showlegend\":true,\"x\":[0.0,0.1,0.2,0.30000000000000004,0.4,0.5,0.6000000000000001,0.7000000000000001,0.8,0.9],\"xaxis\":\"x\",\"y\":[0.9078424072602875,0.9090230315159309,0.9101513513877573,0.911186120168438,0.912147614482131,0.9128789846348397,0.913393761446424,0.9138444958196693,0.9141910226707661,0.9145678397210476],\"yaxis\":\"y\",\"type\":\"scatter\"},{\"hovertemplate\":\"variable=alpha_0.001<br>L1_Ratio=%{x}<br>value=%{y}<extra></extra>\",\"legendgroup\":\"alpha_0.001\",\"line\":{\"color\":\"#EF553B\",\"dash\":\"solid\"},\"marker\":{\"symbol\":\"circle\"},\"mode\":\"lines\",\"name\":\"alpha_0.001\",\"orientation\":\"v\",\"showlegend\":true,\"x\":[0.0,0.1,0.2,0.30000000000000004,0.4,0.5,0.6000000000000001,0.7000000000000001,0.8,0.9],\"xaxis\":\"x\",\"y\":[0.9090772103837335,0.9153098455200706,0.9184582959554554,0.9199954605073202,0.9212386134491843,0.9221389561884438,0.9225249252412221,0.9228545089803412,0.9229677164778431,0.9230017060372042],\"yaxis\":\"y\",\"type\":\"scatter\"},{\"hovertemplate\":\"variable=alpha_0.01<br>L1_Ratio=%{x}<br>value=%{y}<extra></extra>\",\"legendgroup\":\"alpha_0.01\",\"line\":{\"color\":\"#00cc96\",\"dash\":\"solid\"},\"marker\":{\"symbol\":\"circle\"},\"mode\":\"lines\",\"name\":\"alpha_0.01\",\"orientation\":\"v\",\"showlegend\":true,\"x\":[0.0,0.1,0.2,0.30000000000000004,0.4,0.5,0.6000000000000001,0.7000000000000001,0.8,0.9],\"xaxis\":\"x\",\"y\":[0.9121496787065423,0.9212185731878237,0.9215302822699117,0.9213044532609667,0.9204333050122656,0.9190256621331085,0.9171099690719082,0.9148126918130404,0.9121638797086259,0.9091614375035307],\"yaxis\":\"y\",\"type\":\"scatter\"},{\"hovertemplate\":\"variable=alpha_0.1<br>L1_Ratio=%{x}<br>value=%{y}<extra></extra>\",\"legendgroup\":\"alpha_0.1\",\"line\":{\"color\":\"#ab63fa\",\"dash\":\"solid\"},\"marker\":{\"symbol\":\"circle\"},\"mode\":\"lines\",\"name\":\"alpha_0.1\",\"orientation\":\"v\",\"showlegend\":true,\"x\":[0.0,0.1,0.2,0.30000000000000004,0.4,0.5,0.6000000000000001,0.7000000000000001,0.8,0.9],\"xaxis\":\"x\",\"y\":[0.8937443662283275,0.8766048894736569,0.8154487848616971,0.71622350708509,0.5862927126395936,0.4180368868955785,0.21137392284347944,-0.028032114474706236,-0.04777476194192023,-0.04777476194192023],\"yaxis\":\"y\",\"type\":\"scatter\"},{\"hovertemplate\":\"variable=alpha_1<br>L1_Ratio=%{x}<br>value=%{y}<extra></extra>\",\"legendgroup\":\"alpha_1\",\"line\":{\"color\":\"#FFA15A\",\"dash\":\"solid\"},\"marker\":{\"symbol\":\"circle\"},\"mode\":\"lines\",\"name\":\"alpha_1\",\"orientation\":\"v\",\"showlegend\":true,\"x\":[0.0,0.1,0.2,0.30000000000000004,0.4,0.5,0.6000000000000001,0.7000000000000001,0.8,0.9],\"xaxis\":\"x\",\"y\":[0.8033924958202256,-0.04777476194192023,-0.04777476194192023,-0.04777476194192023,-0.04777476194192023,-0.04777476194192023,-0.04777476194192023,-0.04777476194192023,-0.04777476194192023,-0.04777476194192023],\"yaxis\":\"y\",\"type\":\"scatter\"},{\"hovertemplate\":\"variable=alpha_10<br>L1_Ratio=%{x}<br>value=%{y}<extra></extra>\",\"legendgroup\":\"alpha_10\",\"line\":{\"color\":\"#19d3f3\",\"dash\":\"solid\"},\"marker\":{\"symbol\":\"circle\"},\"mode\":\"lines\",\"name\":\"alpha_10\",\"orientation\":\"v\",\"showlegend\":true,\"x\":[0.0,0.1,0.2,0.30000000000000004,0.4,0.5,0.6000000000000001,0.7000000000000001,0.8,0.9],\"xaxis\":\"x\",\"y\":[0.5623589890353994,-0.04777476194192023,-0.04777476194192023,-0.04777476194192023,-0.04777476194192023,-0.04777476194192023,-0.04777476194192023,-0.04777476194192023,-0.04777476194192023,-0.04777476194192023],\"yaxis\":\"y\",\"type\":\"scatter\"},{\"hovertemplate\":\"variable=alpha_100<br>L1_Ratio=%{x}<br>value=%{y}<extra></extra>\",\"legendgroup\":\"alpha_100\",\"line\":{\"color\":\"#FF6692\",\"dash\":\"solid\"},\"marker\":{\"symbol\":\"circle\"},\"mode\":\"lines\",\"name\":\"alpha_100\",\"orientation\":\"v\",\"showlegend\":true,\"x\":[0.0,0.1,0.2,0.30000000000000004,0.4,0.5,0.6000000000000001,0.7000000000000001,0.8,0.9],\"xaxis\":\"x\",\"y\":[0.14894910189810057,-0.04777476194192023,-0.04777476194192023,-0.04777476194192023,-0.04777476194192023,-0.04777476194192023,-0.04777476194192023,-0.04777476194192023,-0.04777476194192023,-0.04777476194192023],\"yaxis\":\"y\",\"type\":\"scatter\"}],                        {\"template\":{\"data\":{\"histogram2dcontour\":[{\"type\":\"histogram2dcontour\",\"colorbar\":{\"outlinewidth\":0,\"ticks\":\"\"},\"colorscale\":[[0.0,\"#0d0887\"],[0.1111111111111111,\"#46039f\"],[0.2222222222222222,\"#7201a8\"],[0.3333333333333333,\"#9c179e\"],[0.4444444444444444,\"#bd3786\"],[0.5555555555555556,\"#d8576b\"],[0.6666666666666666,\"#ed7953\"],[0.7777777777777778,\"#fb9f3a\"],[0.8888888888888888,\"#fdca26\"],[1.0,\"#f0f921\"]]}],\"choropleth\":[{\"type\":\"choropleth\",\"colorbar\":{\"outlinewidth\":0,\"ticks\":\"\"}}],\"histogram2d\":[{\"type\":\"histogram2d\",\"colorbar\":{\"outlinewidth\":0,\"ticks\":\"\"},\"colorscale\":[[0.0,\"#0d0887\"],[0.1111111111111111,\"#46039f\"],[0.2222222222222222,\"#7201a8\"],[0.3333333333333333,\"#9c179e\"],[0.4444444444444444,\"#bd3786\"],[0.5555555555555556,\"#d8576b\"],[0.6666666666666666,\"#ed7953\"],[0.7777777777777778,\"#fb9f3a\"],[0.8888888888888888,\"#fdca26\"],[1.0,\"#f0f921\"]]}],\"heatmap\":[{\"type\":\"heatmap\",\"colorbar\":{\"outlinewidth\":0,\"ticks\":\"\"},\"colorscale\":[[0.0,\"#0d0887\"],[0.1111111111111111,\"#46039f\"],[0.2222222222222222,\"#7201a8\"],[0.3333333333333333,\"#9c179e\"],[0.4444444444444444,\"#bd3786\"],[0.5555555555555556,\"#d8576b\"],[0.6666666666666666,\"#ed7953\"],[0.7777777777777778,\"#fb9f3a\"],[0.8888888888888888,\"#fdca26\"],[1.0,\"#f0f921\"]]}],\"heatmapgl\":[{\"type\":\"heatmapgl\",\"colorbar\":{\"outlinewidth\":0,\"ticks\":\"\"},\"colorscale\":[[0.0,\"#0d0887\"],[0.1111111111111111,\"#46039f\"],[0.2222222222222222,\"#7201a8\"],[0.3333333333333333,\"#9c179e\"],[0.4444444444444444,\"#bd3786\"],[0.5555555555555556,\"#d8576b\"],[0.6666666666666666,\"#ed7953\"],[0.7777777777777778,\"#fb9f3a\"],[0.8888888888888888,\"#fdca26\"],[1.0,\"#f0f921\"]]}],\"contourcarpet\":[{\"type\":\"contourcarpet\",\"colorbar\":{\"outlinewidth\":0,\"ticks\":\"\"}}],\"contour\":[{\"type\":\"contour\",\"colorbar\":{\"outlinewidth\":0,\"ticks\":\"\"},\"colorscale\":[[0.0,\"#0d0887\"],[0.1111111111111111,\"#46039f\"],[0.2222222222222222,\"#7201a8\"],[0.3333333333333333,\"#9c179e\"],[0.4444444444444444,\"#bd3786\"],[0.5555555555555556,\"#d8576b\"],[0.6666666666666666,\"#ed7953\"],[0.7777777777777778,\"#fb9f3a\"],[0.8888888888888888,\"#fdca26\"],[1.0,\"#f0f921\"]]}],\"surface\":[{\"type\":\"surface\",\"colorbar\":{\"outlinewidth\":0,\"ticks\":\"\"},\"colorscale\":[[0.0,\"#0d0887\"],[0.1111111111111111,\"#46039f\"],[0.2222222222222222,\"#7201a8\"],[0.3333333333333333,\"#9c179e\"],[0.4444444444444444,\"#bd3786\"],[0.5555555555555556,\"#d8576b\"],[0.6666666666666666,\"#ed7953\"],[0.7777777777777778,\"#fb9f3a\"],[0.8888888888888888,\"#fdca26\"],[1.0,\"#f0f921\"]]}],\"mesh3d\":[{\"type\":\"mesh3d\",\"colorbar\":{\"outlinewidth\":0,\"ticks\":\"\"}}],\"scatter\":[{\"fillpattern\":{\"fillmode\":\"overlay\",\"size\":10,\"solidity\":0.2},\"type\":\"scatter\"}],\"parcoords\":[{\"type\":\"parcoords\",\"line\":{\"colorbar\":{\"outlinewidth\":0,\"ticks\":\"\"}}}],\"scatterpolargl\":[{\"type\":\"scatterpolargl\",\"marker\":{\"colorbar\":{\"outlinewidth\":0,\"ticks\":\"\"}}}],\"bar\":[{\"error_x\":{\"color\":\"#2a3f5f\"},\"error_y\":{\"color\":\"#2a3f5f\"},\"marker\":{\"line\":{\"color\":\"#E5ECF6\",\"width\":0.5},\"pattern\":{\"fillmode\":\"overlay\",\"size\":10,\"solidity\":0.2}},\"type\":\"bar\"}],\"scattergeo\":[{\"type\":\"scattergeo\",\"marker\":{\"colorbar\":{\"outlinewidth\":0,\"ticks\":\"\"}}}],\"scatterpolar\":[{\"type\":\"scatterpolar\",\"marker\":{\"colorbar\":{\"outlinewidth\":0,\"ticks\":\"\"}}}],\"histogram\":[{\"marker\":{\"pattern\":{\"fillmode\":\"overlay\",\"size\":10,\"solidity\":0.2}},\"type\":\"histogram\"}],\"scattergl\":[{\"type\":\"scattergl\",\"marker\":{\"colorbar\":{\"outlinewidth\":0,\"ticks\":\"\"}}}],\"scatter3d\":[{\"type\":\"scatter3d\",\"line\":{\"colorbar\":{\"outlinewidth\":0,\"ticks\":\"\"}},\"marker\":{\"colorbar\":{\"outlinewidth\":0,\"ticks\":\"\"}}}],\"scattermapbox\":[{\"type\":\"scattermapbox\",\"marker\":{\"colorbar\":{\"outlinewidth\":0,\"ticks\":\"\"}}}],\"scatterternary\":[{\"type\":\"scatterternary\",\"marker\":{\"colorbar\":{\"outlinewidth\":0,\"ticks\":\"\"}}}],\"scattercarpet\":[{\"type\":\"scattercarpet\",\"marker\":{\"colorbar\":{\"outlinewidth\":0,\"ticks\":\"\"}}}],\"carpet\":[{\"aaxis\":{\"endlinecolor\":\"#2a3f5f\",\"gridcolor\":\"white\",\"linecolor\":\"white\",\"minorgridcolor\":\"white\",\"startlinecolor\":\"#2a3f5f\"},\"baxis\":{\"endlinecolor\":\"#2a3f5f\",\"gridcolor\":\"white\",\"linecolor\":\"white\",\"minorgridcolor\":\"white\",\"startlinecolor\":\"#2a3f5f\"},\"type\":\"carpet\"}],\"table\":[{\"cells\":{\"fill\":{\"color\":\"#EBF0F8\"},\"line\":{\"color\":\"white\"}},\"header\":{\"fill\":{\"color\":\"#C8D4E3\"},\"line\":{\"color\":\"white\"}},\"type\":\"table\"}],\"barpolar\":[{\"marker\":{\"line\":{\"color\":\"#E5ECF6\",\"width\":0.5},\"pattern\":{\"fillmode\":\"overlay\",\"size\":10,\"solidity\":0.2}},\"type\":\"barpolar\"}],\"pie\":[{\"automargin\":true,\"type\":\"pie\"}]},\"layout\":{\"autotypenumbers\":\"strict\",\"colorway\":[\"#636efa\",\"#EF553B\",\"#00cc96\",\"#ab63fa\",\"#FFA15A\",\"#19d3f3\",\"#FF6692\",\"#B6E880\",\"#FF97FF\",\"#FECB52\"],\"font\":{\"color\":\"#2a3f5f\"},\"hovermode\":\"closest\",\"hoverlabel\":{\"align\":\"left\"},\"paper_bgcolor\":\"white\",\"plot_bgcolor\":\"#E5ECF6\",\"polar\":{\"bgcolor\":\"#E5ECF6\",\"angularaxis\":{\"gridcolor\":\"white\",\"linecolor\":\"white\",\"ticks\":\"\"},\"radialaxis\":{\"gridcolor\":\"white\",\"linecolor\":\"white\",\"ticks\":\"\"}},\"ternary\":{\"bgcolor\":\"#E5ECF6\",\"aaxis\":{\"gridcolor\":\"white\",\"linecolor\":\"white\",\"ticks\":\"\"},\"baxis\":{\"gridcolor\":\"white\",\"linecolor\":\"white\",\"ticks\":\"\"},\"caxis\":{\"gridcolor\":\"white\",\"linecolor\":\"white\",\"ticks\":\"\"}},\"coloraxis\":{\"colorbar\":{\"outlinewidth\":0,\"ticks\":\"\"}},\"colorscale\":{\"sequential\":[[0.0,\"#0d0887\"],[0.1111111111111111,\"#46039f\"],[0.2222222222222222,\"#7201a8\"],[0.3333333333333333,\"#9c179e\"],[0.4444444444444444,\"#bd3786\"],[0.5555555555555556,\"#d8576b\"],[0.6666666666666666,\"#ed7953\"],[0.7777777777777778,\"#fb9f3a\"],[0.8888888888888888,\"#fdca26\"],[1.0,\"#f0f921\"]],\"sequentialminus\":[[0.0,\"#0d0887\"],[0.1111111111111111,\"#46039f\"],[0.2222222222222222,\"#7201a8\"],[0.3333333333333333,\"#9c179e\"],[0.4444444444444444,\"#bd3786\"],[0.5555555555555556,\"#d8576b\"],[0.6666666666666666,\"#ed7953\"],[0.7777777777777778,\"#fb9f3a\"],[0.8888888888888888,\"#fdca26\"],[1.0,\"#f0f921\"]],\"diverging\":[[0,\"#8e0152\"],[0.1,\"#c51b7d\"],[0.2,\"#de77ae\"],[0.3,\"#f1b6da\"],[0.4,\"#fde0ef\"],[0.5,\"#f7f7f7\"],[0.6,\"#e6f5d0\"],[0.7,\"#b8e186\"],[0.8,\"#7fbc41\"],[0.9,\"#4d9221\"],[1,\"#276419\"]]},\"xaxis\":{\"gridcolor\":\"white\",\"linecolor\":\"white\",\"ticks\":\"\",\"title\":{\"standoff\":15},\"zerolinecolor\":\"white\",\"automargin\":true,\"zerolinewidth\":2},\"yaxis\":{\"gridcolor\":\"white\",\"linecolor\":\"white\",\"ticks\":\"\",\"title\":{\"standoff\":15},\"zerolinecolor\":\"white\",\"automargin\":true,\"zerolinewidth\":2},\"scene\":{\"xaxis\":{\"backgroundcolor\":\"#E5ECF6\",\"gridcolor\":\"white\",\"linecolor\":\"white\",\"showbackground\":true,\"ticks\":\"\",\"zerolinecolor\":\"white\",\"gridwidth\":2},\"yaxis\":{\"backgroundcolor\":\"#E5ECF6\",\"gridcolor\":\"white\",\"linecolor\":\"white\",\"showbackground\":true,\"ticks\":\"\",\"zerolinecolor\":\"white\",\"gridwidth\":2},\"zaxis\":{\"backgroundcolor\":\"#E5ECF6\",\"gridcolor\":\"white\",\"linecolor\":\"white\",\"showbackground\":true,\"ticks\":\"\",\"zerolinecolor\":\"white\",\"gridwidth\":2}},\"shapedefaults\":{\"line\":{\"color\":\"#2a3f5f\"}},\"annotationdefaults\":{\"arrowcolor\":\"#2a3f5f\",\"arrowhead\":0,\"arrowwidth\":1},\"geo\":{\"bgcolor\":\"white\",\"landcolor\":\"#E5ECF6\",\"subunitcolor\":\"white\",\"showland\":true,\"showlakes\":true,\"lakecolor\":\"white\"},\"title\":{\"x\":0.05},\"mapbox\":{\"style\":\"light\"}}},\"xaxis\":{\"anchor\":\"y\",\"domain\":[0.0,1.0],\"title\":{\"text\":\"L1_Ratio\"}},\"yaxis\":{\"anchor\":\"x\",\"domain\":[0.0,1.0],\"title\":{\"text\":\"R^2 value\"}},\"legend\":{\"title\":{\"text\":\"variable\"},\"tracegroupgap\":0},\"title\":{\"text\":\"Elastic Net Performance\"}},                        {\"responsive\": true}                    ).then(function(){\n",
       "                            \n",
       "var gd = document.getElementById('bbf2f1c3-6e22-4b94-bb60-6c5e2d8c8bd0');\n",
       "var x = new MutationObserver(function (mutations, observer) {{\n",
       "        var display = window.getComputedStyle(gd).display;\n",
       "        if (!display || display === 'none') {{\n",
       "            console.log([gd, 'removed!']);\n",
       "            Plotly.purge(gd);\n",
       "            observer.disconnect();\n",
       "        }}\n",
       "}});\n",
       "\n",
       "// Listen for the removal of the full notebook cells\n",
       "var notebookContainer = gd.closest('#notebook-container');\n",
       "if (notebookContainer) {{\n",
       "    x.observe(notebookContainer, {childList: true});\n",
       "}}\n",
       "\n",
       "// Listen for the clearing of the current output cell\n",
       "var outputEl = gd.closest('.output');\n",
       "if (outputEl) {{\n",
       "    x.observe(outputEl, {childList: true});\n",
       "}}\n",
       "\n",
       "                        })                };                });            </script>        </div>"
      ]
     },
     "metadata": {},
     "output_type": "display_data"
    }
   ],
   "source": [
    "alphas = [0.0001, 0.001, 0.01, 0.1, 1, 10, 100]\n",
    "l1_ratios = np.arange(0.0, 1.0, 0.1)\n",
    "\n",
    "eNet = ElasticNet()\n",
    "\n",
    "with warnings.catch_warnings():\n",
    "    warnings.simplefilter(\"ignore\")\n",
    "    grid = GridSearchCV(eNet, {\"alpha\": alphas,\n",
    "                               \"l1_ratio\": l1_ratios},\n",
    "                        scoring='r2', cv=10)\n",
    "    grid.fit(trainX, trainY)\n",
    "    \n",
    "# predY = grid.predict(testX)\n",
    "\n",
    "\n",
    "scores_mean = grid.cv_results_['mean_test_score'].reshape(len(alphas),\n",
    "                                                          len(l1_ratios))\n",
    "\n",
    "\n",
    "elastic_net_performance = pd.DataFrame({\n",
    "    \"L1_Ratio\" : l1_ratios\n",
    "})\n",
    "\n",
    "for idx, val in enumerate(alphas):\n",
    "    alpha_str = \"alpha_\" + str(val)\n",
    "    elastic_net_performance[alpha_str] = scores_mean[idx,:]\n",
    "    \n",
    "fig = px.line(elastic_net_performance, x=\"L1_Ratio\",\n",
    "                  y=[col for col in elastic_net_performance.columns if 'alpha' in col],\n",
    "                 title=\"Elastic Net Performance\").update_layout(\n",
    "    yaxis_title=\"R^2 value\"\n",
    ")\n",
    "fig.show()\n"
   ]
  },
  {
   "cell_type": "code",
   "execution_count": null,
   "id": "f7ce7582",
   "metadata": {},
   "outputs": [],
   "source": []
  }
 ],
 "metadata": {
  "kernelspec": {
   "display_name": "Python 3 (ipykernel)",
   "language": "python",
   "name": "python3"
  },
  "language_info": {
   "codemirror_mode": {
    "name": "ipython",
    "version": 3
   },
   "file_extension": ".py",
   "mimetype": "text/x-python",
   "name": "python",
   "nbconvert_exporter": "python",
   "pygments_lexer": "ipython3",
   "version": "3.10.7"
  }
 },
 "nbformat": 4,
 "nbformat_minor": 5
}
