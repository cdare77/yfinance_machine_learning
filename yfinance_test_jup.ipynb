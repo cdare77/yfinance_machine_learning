{
 "cells": [
  {
   "cell_type": "code",
   "execution_count": 1,
   "id": "de15fa7d",
   "metadata": {},
   "outputs": [
    {
     "data": {
      "application/javascript": [
       "IPython.OutputArea.prototype._should_scroll = function(lines) {\n",
       "    return false;\n",
       "}\n"
      ],
      "text/plain": [
       "<IPython.core.display.Javascript object>"
      ]
     },
     "metadata": {},
     "output_type": "display_data"
    }
   ],
   "source": [
    "%%javascript\n",
    "IPython.OutputArea.prototype._should_scroll = function(lines) {\n",
    "    return false;\n",
    "}"
   ]
  },
  {
   "cell_type": "markdown",
   "id": "8c9580c2",
   "metadata": {},
   "source": [
    "## Import Libraries"
   ]
  },
  {
   "cell_type": "code",
   "execution_count": 2,
   "id": "1731c502",
   "metadata": {},
   "outputs": [],
   "source": [
    "import yfinance as yf\n",
    "import pandas as pd\n",
    "import numpy as np\n",
    "import sys\n",
    "import warnings\n",
    "import plotly.express as px\n",
    "\n",
    "import matplotlib.dates as mdates\n",
    "import matplotlib.pyplot as plt\n",
    "from datetime import date, datetime, timedelta\n",
    "from sklearn import preprocessing\n",
    "from sklearn import linear_model\n",
    "from sklearn.model_selection import train_test_split\n",
    "from sklearn.model_selection import RepeatedKFold\n",
    "from sklearn.linear_model import ElasticNet\n",
    "from sklearn.model_selection import GridSearchCV\n",
    "from plotnine import *\n",
    "from sklearn.metrics import make_scorer, mean_squared_error\n",
    "# from plotly.tools import mpl_to_plotly as ggplotly\n"
   ]
  },
  {
   "cell_type": "markdown",
   "id": "2a16b749",
   "metadata": {},
   "source": [
    "## Add Data Wrappers"
   ]
  },
  {
   "cell_type": "code",
   "execution_count": 3,
   "id": "eded60f9",
   "metadata": {},
   "outputs": [],
   "source": [
    "class StockDataWrapper:\n",
    "    \"\"\"\n",
    "    A wrapper class to bundle stock data (stored in a pandas DataFrame) together with information\n",
    "    about how the data was collected (such as what the time frame is between two data points)\n",
    "\n",
    "    A StockDataWrapper class at the minimum requires a pandas DataFrame (the primary object we are \n",
    "    interested in wrapping) as well as the respective stock symbol passed as a string so that we are\n",
    "    able to easily refer to the specific stock in later formatting. \n",
    "    \n",
    "        IMPORTANT: It is expected that the lag_lengthand num_days are set whenever the stock data is\n",
    "                loaded into the data_frame object\n",
    "    \n",
    "    Certain variables must be set (either from user input or a configuration file) prior to calling\n",
    "    a handful of methods. Specifically, the lag length must be set prior to calling any functions which\n",
    "    utilize prior data (e.g. MACD, simple_moving_average, exponential_moving_average, etc.)\n",
    "    \n",
    "    \n",
    "    Attributes:\n",
    "        data_frame:    A pandas DataFrame object containing stocks data such as Open, Close,\n",
    "            Volume, High, Low, etc.\n",
    "            \n",
    "        stock_symbol:   A string representing the stock's symbol (i.e. AAPL for Apple)\n",
    "        \n",
    "        granularity:    The time interval between two data points [1m, 2m, 5m, 15m, 30m, 1h]\n",
    "        \n",
    "        num_days:    The number of days of stock data that have been pulled \n",
    "        \n",
    "        lag_length:    The number of previous data points that are availible to use for computations\n",
    "            (such as moving averages)\n",
    "    \"\"\"\n",
    "    \n",
    "\n",
    "    def __init__(self, data_frame, stock_symbol):\n",
    "        \"\"\"\n",
    "        Initializes the instance based on a pandas DataFrame.\n",
    "\n",
    "        Args:\n",
    "            data_frame: a pandas DataFrame object\n",
    "            stock_symbol: a string representing the stock's symbol (i.e. AAPL for Apple)\n",
    "        Raises:\n",
    "            ValueError: if one of the arguments is not the specified data type\n",
    "        \"\"\"\n",
    "        \n",
    "        #################\n",
    "        #  ERROR HANDLING\n",
    "        #################\n",
    "        if not isinstance(data_frame, pd.DataFrame):\n",
    "            raise ValueError(\"data_frame must be a pandas DataFrame object\")\n",
    "        if not isinstance(stock_symbol, str):\n",
    "            raise ValueError(\"stock_symbol must be a string\")\n",
    "            \n",
    "        self.data_frame = data_frame\n",
    "        self.stock_symbol = stock_symbol\n",
    "        # granularity and num_days should be set \n",
    "        self.granularity = 0\n",
    "        self.num_days = 0\n",
    "        self.lag_length = 0\n",
    "\n",
    "    def __str__(self):\n",
    "        \"\"\"\n",
    "        Indicataes how to represent a StockDataWrapper object when\n",
    "        passed as a string to print\n",
    "        \n",
    "        Returns:\n",
    "            String concatenating the __str__ of the pandas DataFrame together with\n",
    "            information on the StockDataWrapper's Varaibles\n",
    "        \"\"\"\n",
    "        my_str = f'Stock Name: {self.stock_symbol}\\n'\n",
    "        \n",
    "        # Check whether several variables have been set\n",
    "        if self.granularity == 0:\n",
    "            my_str += \"Granularity: NOT SET\\n\"\n",
    "        else:\n",
    "            my_str += f\"Granularity: {self.granularity}\\n\"\n",
    "        \n",
    "        if self.num_days == 0:\n",
    "            my_str += \"Number of days of stock data: NOT SET\\n\"\n",
    "        else:\n",
    "            my_str += f\"Number of days of stock data: {self.num_days}\\n\"\n",
    "        \n",
    "        if self.lag_length == 0:\n",
    "            my_str += \"Number of lag variables: NOT SET\\n\"\n",
    "        else:\n",
    "            my_str += f\"Number of lag variables: {self.lag_length}\\n\"\n",
    "        \n",
    "        \n",
    "        # Call the underlying Pandas DataFrame object's __str__\n",
    "        my_str += \"\\n\\n\"\n",
    "        my_str += str(self.data_frame)\n",
    "\n",
    "        return my_str\n",
    "    \n",
    "    \n",
    "    \n",
    "    def add_lag_variables(self, num_lags):\n",
    "        \"\"\"\n",
    "        Adds precisely num_lags lag variables to the underlying data frame. \n",
    "        The lag variables are simply additional columns where the entries are shifted\n",
    "        up in time index.\n",
    "        \n",
    "            WARNING: A large number of lag variables can lead to fragmentation in the \n",
    "                DataFrame\n",
    "        \n",
    "        The (column) names of the lag variables that are added are of the form:\n",
    "                            Close_L#\n",
    "        where # is how far back that particular lag variable is looking.\n",
    "\n",
    "        Args:\n",
    "            num_lags: the number of lag variables we wish to add\n",
    "        Raises:\n",
    "            ValueError: if num_lags is not an integer or is larger than the number of\n",
    "                observations or is negative\n",
    "        \"\"\"\n",
    "        \n",
    "        #################\n",
    "        #  ERROR HANDLING\n",
    "        #################\n",
    "        if not isinstance(num_lags, int):\n",
    "            raise ValueError(\"Parameter length must be integer\")\n",
    "        if num_lags < 1 or num_lags >= self.data_frame.shape[0]:\n",
    "            raise ValueError(\"The number of lag variables must be between\" +\n",
    "                            \" 1 and the total number of observations\")\n",
    "\n",
    "        for i in range(1,num_lags + 1):\n",
    "            index_str = \"Close_L\" + str(i)\n",
    "            self.data_frame[index_str] = self.data_frame['Close'].shift(i)\n",
    "\n",
    "        # Backfill the entries to remove any NaN\n",
    "        self.data_frame = self.data_frame.bfill(axis=0)\n",
    "        \n",
    "    \n",
    "    def delete_lag_variables(self):\n",
    "        \"\"\"\n",
    "        Removes any possible lag variables from the Data_Frame. This method\n",
    "        implicitly assumes that all lag variables follow the naming convention\n",
    "        \n",
    "                        Close_L#\n",
    "                        \n",
    "        where # is how far back that particular lag variable is looking.\n",
    "        \"\"\"\n",
    "        existing_lag_names = list(self.data_frame.filter(regex='Close_L'))\n",
    "        \n",
    "        if (len(existing_lag_names) > 0):  \n",
    "            self.data_frame = self.data_frame[\n",
    "                self.data_frame.columns.drop(existing_lag_names)\n",
    "            ]\n",
    "            # Reset lag_length so that other methods know not to compute\n",
    "            # data from lag variables\n",
    "            self.lag_length = 0\n",
    "    \n",
    "    def add_simple_moving_average(self, length):\n",
    "        \"\"\"\n",
    "        Computes the simple moving average of the stock's closing price (i.e.\n",
    "        the mean of the first 'length number' of lag variables) and adds it to a\n",
    "        new column in our pandas DataFrame. The column that is added follows\n",
    "        the naming convention:\n",
    "        \n",
    "                            SMA_(length)\n",
    "                            \n",
    "        where length is the parameter passed.\n",
    "\n",
    "        Args:\n",
    "            length: the number of days to take the simple moving average \n",
    "                over (equivalently, the number of lag variables we are considering)\n",
    "        Raises:\n",
    "            ValueError: if length is not an integer or is larger than the number of\n",
    "                lag variables availible\n",
    "            NameError: if lag_length has not been set yet (i.e. no lag variables have\n",
    "                been added)\n",
    "        \"\"\"\n",
    "        \n",
    "        #################\n",
    "        #  ERROR HANDLING\n",
    "        #################\n",
    "        if not isinstance(length, int):\n",
    "            raise ValueError(\"Parameter length must be integer\")\n",
    "        if self.lag_length == 0:\n",
    "            raise NameError(\"Lag variables must be set prior to adding simple moving average\")\n",
    "        if length > self.lag_length:\n",
    "            raise ValueError(\"Cannot take the average of more lag varaibles than are availible\" + \n",
    "                  f\" (currently {self.lag_length})\\n\")\n",
    "\n",
    "        # Gather the column names that we wish to take the average over\n",
    "        lag_predictors = []\n",
    "        for i in range(1, length + 1):\n",
    "            lag_name = 'Close_L' + str(i)\n",
    "            lag_predictors.append(lag_name)\n",
    "\n",
    "        # Add new column to data frame\n",
    "        column_label = \"SMA_\"  + str(length)\n",
    "        self.data_frame[column_label] = (self.data_frame[lag_predictors].sum(axis = 1,\n",
    "                                                                             skipna = True) / float(length))\n",
    "\n",
    "    \n",
    "    def add_simple_moving_standard_deviation(self, length):\n",
    "        \"\"\"\n",
    "        Computes the simple moving standard deviation of the stock's closing\n",
    "        price (i.e. the standard deviation of the first 'length number' of lag variables)\n",
    "        and adds it to a new column in our pandas DataFrame. The column that is added follows\n",
    "        the naming convention:\n",
    "        \n",
    "                            SMSD_(length)\n",
    "                            \n",
    "        where length is the parameter passed.\n",
    "\n",
    "        Args:\n",
    "            length: the number of days to take the simple moving standard deviation \n",
    "                over (equivalently, the number of lag variables we are considering)\n",
    "        Raises:\n",
    "            ValueError: if length is not an integer or is larger than the number of\n",
    "                lag variables availible\n",
    "            NameError: if lag_length has not been set yet (i.e. no lag variables have\n",
    "                been added)\n",
    "        \"\"\"\n",
    "        \n",
    "        #################\n",
    "        #  ERROR HANDLING\n",
    "        #################\n",
    "        if not isinstance(length, int):\n",
    "            raise ValueError(\"Parameter length must be integer\")\n",
    "        if self.lag_length == 0:\n",
    "            raise NameError(\"Lag variables must be set prior to adding simple moving average\")\n",
    "        if length > self.lag_length:\n",
    "            raise ValueError(\"Cannot take the average of more lag varaibles than are availible\" + \n",
    "                  f\" (currently {self.lag_length})\\n\")\n",
    "        \n",
    "        # Gather the column names that we wish to take the average over\n",
    "        lag_predictors = []\n",
    "        for i in range(1, length + 1):\n",
    "            lag_name = 'Close_L' + str(i)\n",
    "            lag_predictors.append(lag_name)\n",
    "            \n",
    "        # Add new column to data frame\n",
    "        column_label = \"SMSD_\"  + str(length)\n",
    "        self.data_frame[column_label] = self.data_frame[lag_predictors].std(axis = 1, skipna = True)\n",
    "          \n",
    "        \n",
    "    def add_upper_bollinger(self, length):\n",
    "        \"\"\"\n",
    "        Computes the upper Bollinger band of the stock's closing price, which is just the\n",
    "        simple moving average + the simple moving standard deviation and adds it to a new\n",
    "        column in our pandas DataFrame. The column that is added follows the naming convention:\n",
    "        \n",
    "                            upper_boll_(length)\n",
    "                            \n",
    "        where length is the parameter passed.\n",
    "\n",
    "        Args:\n",
    "            length: the number of days to take the bollinger band over \n",
    "                (equivalently, the number of lag variables we are considering)\n",
    "        Raises:\n",
    "            ValueError: if length is not an integer or is larger than the number of\n",
    "                lag variables availible\n",
    "            NameError: if lag_length has not been set yet (i.e. no lag variables have\n",
    "                been added)\n",
    "        \"\"\"\n",
    "        \n",
    "        #################\n",
    "        #  ERROR HANDLING\n",
    "        #################\n",
    "        if not isinstance(length, int):\n",
    "            raise ValueError(\"Parameter length must be integer\")\n",
    "        if self.lag_length == 0:\n",
    "            raise NameError(\"Lag variables must be set prior to adding simple moving average\")\n",
    "        if length > self.lag_length:\n",
    "            raise ValueError(\"Cannot take the average of more lag varaibles than are availible\" + \n",
    "                  f\" (currently {self.lag_length})\\n\")\n",
    "\n",
    "        SMSD_string = \"SMSD_\" + str(length)\n",
    "        SMA_string = \"SMA_\" + str(length)\n",
    "        \n",
    "        # Ensure that both the simple moving average data and\n",
    "        # the simple moving standard deviation data are availible in \n",
    "        # DataFrame\n",
    "        if SMSD_string not in self.data_frame.columns:\n",
    "            self.add_simple_moving_standard_deviation(length)\n",
    "        if SMA_string not in self.data_frame.columns:\n",
    "            self.add_simple_moving_average(length)\n",
    "\n",
    "        # Add new column to data frame\n",
    "        upper_bollinger_str = \"upper_boll_\" + str(length)\n",
    "        self.data_frame[upper_bollinger_str] = self.data_frame[SMA_string] + self.data_frame[SMSD_string]\n",
    "        \n",
    "        \n",
    "    def add_lower_bollinger(self, length):\n",
    "        \"\"\"\n",
    "        Computes the lower Bollinger band of the stock's closing price, which is just the \n",
    "        simple moving average + the simple moving standard deviation and adds it to a new\n",
    "        column in our pandas DataFrame. The column that is added follows the naming convention:\n",
    "        \n",
    "                            lower_boll_(length)\n",
    "                            \n",
    "        where length is the parameter passed.\n",
    "\n",
    "        Args:\n",
    "            length: the number of days to take the bollinger band over \n",
    "                (equivalently, the number of lag variables we are considering)\n",
    "        Raises:\n",
    "            ValueError: if length is not an integer or is larger than the number of\n",
    "                lag variables availible\n",
    "            NameError: if lag_length has not been set yet (i.e. no lag variables have\n",
    "                been added)\n",
    "        \"\"\"\n",
    "    \n",
    "        #################\n",
    "        #  ERROR HANDLING\n",
    "        #################\n",
    "        if not isinstance(length, int):\n",
    "            raise ValueError(\"Parameter length must be integer\")\n",
    "        if self.lag_length == 0:\n",
    "            raise NameError(\"Lag variables must be set prior to adding simple moving average\")\n",
    "        if length > self.lag_length:\n",
    "            raise ValueError(\"Cannot take the average of more lag varaibles than are availible\" + \n",
    "                  f\" (currently {self.lag_length})\\n\")\n",
    "\n",
    "        SMSD_string = \"SMSD_\" + str(length)\n",
    "        SMA_string = \"SMA_\" + str(length)\n",
    "        \n",
    "        # Ensure that both the simple moving average data and\n",
    "        # the simple moving standard deviation data are availible in \n",
    "        # DataFrame\n",
    "        if SMSD_string not in self.data_frame.columns:\n",
    "            self.add_simple_moving_standard_deviation(length)\n",
    "        if SMA_string not in self.data_frame.columns:\n",
    "            self.add_simple_moving_average(length)\n",
    "\n",
    "        # Add new column to data frame\n",
    "        lower_bollinger_str = \"lower_boll_\" + str(length)\n",
    "        self.data_frame[lower_bollinger_str] = self.data_frame[SMA_string] - self.data_frame[SMSD_string]\n",
    "        \n",
    "        \n",
    "    def _exponential_moving_average_helper_(self, series, smoothing_factor):\n",
    "        \"\"\"\n",
    "        Helper function for add_exponential_moving_average() which utilizes a \n",
    "        temporary buffer in memory to compute the recursive function:\n",
    "        \n",
    "            EMA(data, n+1) = β * data[n+1] +  (1 - β) * data[n]\n",
    "            \n",
    "        where β represents the smoothing factor. The smoothing factor ultimately dictates\n",
    "        how heavily recent data points are weighted, and how quickly previous data points\n",
    "        lose weight\n",
    "\n",
    "        Args:\n",
    "            series: a pandas.core.series.Series object. Typically passed as\n",
    "                dataframe[\"column\"].iloc[a:b]. Must be treated slightly differently than\n",
    "                a standard array since integer indexing of series is depricated\n",
    "            \n",
    "            smoothing_factor: a floating point integer which dictates how heavily recent\n",
    "                data points are weighted\n",
    "        \"\"\"\n",
    "        \n",
    "        #################\n",
    "        #  ERROR HANDLING\n",
    "        #################\n",
    "        if not isinstance(series, pd.Series):\n",
    "            raise ValueError(\"Parameter series must be pandas.Series data type\")\n",
    "        if not isinstance(smoothing_factor, float):\n",
    "            raise ValueError(\"Parameter smoothing factor must be a floating point decimal\")\n",
    "        \n",
    "        N = series.shape[0]\n",
    "        # Create temporary storage to compute our outputs. When the lag_length of\n",
    "        # the exponential moving average is large, this will likely lead to memory fragmentation\n",
    "        buffer = list(range(N))\n",
    "        buffer[0] = series.iloc[0]\n",
    "\n",
    "        # Use temporary storage + iteration to compute the recursive formula\n",
    "        #\n",
    "        #       EMA(data, n+1) = β * data[n+1] +  (1 - β) * data[n]\n",
    "        #\n",
    "        for i in range(1,N):\n",
    "            buffer[i] = smoothing_factor * series.iloc[i] + (1 - smoothing_factor) * buffer[i-1]\n",
    "        \n",
    "        # return the last data point (i.e. the EMA over the desired lag_length)\n",
    "        return buffer[-1]\n",
    "\n",
    "\n",
    "\n",
    "    def add_exponential_moving_average(self, length):\n",
    "        \"\"\"\n",
    "        Computes the exponential moving standard average of the stock's closing\n",
    "        price (i.e. the weighted average of the first [length] lag variables)\n",
    "        and adds it to a new column in our pandas DataFrame. The column that is added follows\n",
    "        the naming convention:\n",
    "        \n",
    "                            SMSD_(length)\n",
    "                            \n",
    "        where length is the parameter passed.\n",
    "\n",
    "        Args:\n",
    "            length: the number of days to take the simple moving standard deviation \n",
    "                over (equivalently, the number of lag variables we are considering)\n",
    "        Raises:\n",
    "            ValueError: if length is not an integer or is larger than the number of\n",
    "                lag variables availible\n",
    "            NameError: if lag_length has not been set yet (i.e. no lag variables have\n",
    "                been added)\n",
    "        \"\"\"\n",
    "        \n",
    "        #################\n",
    "        #  ERROR HANDLING\n",
    "        #################\n",
    "        if not isinstance(length, int):\n",
    "            raise ValueError(\"Parameter lag_length must be integer\")\n",
    "        if self.lag_length == 0:\n",
    "            raise NameError(\"Lag variables must be set prior to adding exponental moving average\")\n",
    "        if length > self.lag_length:\n",
    "            raise ValueError(\"Cannot take the average of more lag varaibles than are availible\" + \n",
    "                      f\" (currently {self.lag_length})\\n\")\n",
    "\n",
    "        N = self.data_frame.shape[0]\n",
    "        smoothing_factor = float(2/(length + 1))\n",
    "\n",
    "        # Temporary output storage\n",
    "        buffer = list(range(N))\n",
    "        buffer[0] = self.data_frame[\"Close\"].iloc[0]\n",
    "        buffer[1] = self.data_frame[\"Close\"].iloc[0]\n",
    "\n",
    "\n",
    "        for i in range(2, N):\n",
    "            # If there are less that lag_period of data previous to the current date,\n",
    "            # simply take the average of all the days prior to get the closest thing\n",
    "            # to a weighted average\n",
    "            if i <= length:\n",
    "                buffer[i] = self._exponential_moving_average_helper_(\n",
    "                    self.data_frame[\"Close\"].iloc[0:i],\n",
    "                    2/(i + 1)\n",
    "                )\n",
    "            else:\n",
    "                buffer[i] = self._exponential_moving_average_helper_(\n",
    "                    self.data_frame[\"Close\"].iloc[i-length:i],\n",
    "                    smoothing_factor\n",
    "                )\n",
    "        # Add new column to data frame\n",
    "        column_label = \"EMA_\"  + str(length)\n",
    "        self.data_frame[column_label] = buffer\n",
    "\n",
    "\n",
    "    def add_MACD(self, max_lag, min_lag):\n",
    "        \"\"\"\n",
    "        Computes the moving average convergence-divergence of the stock's closing\n",
    "        price (i.e. the difference of the exponential moving average taken over min_lag\n",
    "        with the exponential moving average taken over max_lag)\n",
    "        and adds it to a new column in our pandas DataFrame. The column that is added follows\n",
    "        the naming convention:\n",
    "        \n",
    "                            MACD_(min_lag)_(max_lag)\n",
    "                            \n",
    "        where min_lag and max_lag are the first and second parameters passed, respectively.\n",
    "\n",
    "        Args:\n",
    "            length: the number of days to take the simple moving standard deviation \n",
    "                over (equivalently, the number of lag variables we are considering)\n",
    "        Raises:\n",
    "            ValueError: if length is not an integer or is larger than the number of\n",
    "                lag variables availible\n",
    "            NameError: if lag_length has not been set yet (i.e. no lag variables have\n",
    "                been added)\n",
    "        \"\"\"\n",
    "        \n",
    "        #################\n",
    "        #  ERROR HANDLING\n",
    "        #################\n",
    "        if not isinstance(max_lag, int) or not isinstance(min_lag, int):\n",
    "            raise ValueError(\"Parameters max_lag and min_lag must be integer\")\n",
    "        if self.lag_length == 0:\n",
    "            raise NameError(\"Lag variables must be set prior to adding MACD\")\n",
    "        if min_lag >= max_lag:\n",
    "            raise ValueError(\"min_lag must be strictly smaller than max_lag\")\n",
    "\n",
    "        EMA_string_min = \"EMA_\" + str(min_lag)\n",
    "        EMA_string_max = \"EMA_\" + str(max_lag)\n",
    "\n",
    "        # Ensure that both exponential moving averages are availible\n",
    "        # in the DataFrame\n",
    "        if EMA_string_min not in self.data_frame.columns:\n",
    "            self.add_exponential_moving_average(min_lag)\n",
    "        if EMA_string_max not in self.data_frame.columns:\n",
    "            self.add_exponential_moving_average(max_lag)\n",
    "            \n",
    "        \n",
    "        # Add new column to data frame\n",
    "        column_label = \"MACD_\"  + str(min_lag) + \"_\" + str(max_lag)\n",
    "        self.data_frame[column_label] = (self.data_frame[EMA_string_min] - self.data_frame[EMA_string_max])"
   ]
  },
  {
   "cell_type": "markdown",
   "id": "f3ab2562",
   "metadata": {},
   "source": [
    "## Import Data from User Input"
   ]
  },
  {
   "cell_type": "code",
   "execution_count": 12,
   "id": "35e55b84",
   "metadata": {},
   "outputs": [],
   "source": [
    "def create_stock_data_from_input():\n",
    "    \"\"\"\n",
    "    Helper function for creating a StockDataWrapper class from user input. Primarily \n",
    "    cleans the user input and ensures that the user input is within the range of \n",
    "    intended values. \n",
    "    \n",
    "    This function only establishes:\n",
    "    \n",
    "        - the underlying pandas.DataFrame object (which is the primary data that\n",
    "                StockDataWrapper is wrapping)\n",
    "        - the granularity parameter\n",
    "        - the num_days parameter\n",
    "        \n",
    "    This function does NOT set:\n",
    "        - any lag variable data.\n",
    "        \n",
    "        \n",
    "    Returns:\n",
    "        A StockDataWrapper object that, when a correct stock symbol is typed, will\n",
    "        contain a pandas DataFrame object as well as the number of days and granularity\n",
    "        of the stock data\n",
    "    \"\"\"\n",
    "    # Boolean flag which turns off (False) once the user\n",
    "    # correctly enters the correct field\n",
    "    prompting_user_input = True\n",
    "    while prompting_user_input:\n",
    "        num_days_to_build = input(\"How many days of intraday stock market data should \" + \n",
    "                                  \" we use to build our model? Enter a value between \" +\n",
    "                                  \" 1 and 7:\\n(Type 'Exit' to quit)\\n\")\n",
    "\n",
    "        # Parse num_days input\n",
    "        if num_days_to_build.isnumeric():\n",
    "            num_days_to_build = int(num_days_to_build)\n",
    "            if num_days_to_build > 0 and num_days_to_build < 8:\n",
    "                prompting_user_input = False\n",
    "            else:\n",
    "                print(\"The number of days must be between 1 and 7 \"+\n",
    "                      \"— please retry. \\n (Type 'Exit' to quit)\\n\")\n",
    "        elif \"exit\" in num_days_to_build.lower():\n",
    "            sys.exit(\"Exiting program\")\n",
    "        else:\n",
    "            print(\"Non-integer passed as input — please retry. \\n(Type 'Exit' to quit)\\n\")\n",
    "\n",
    "\n",
    "    # Apply num_days information to create Datetime variables\n",
    "    # which give a range of precisely (num_days) previous days from\n",
    "    # current date.\n",
    "    today = date.today()\n",
    "    num_days_prior = today - timedelta(num_days_to_build)\n",
    "\n",
    "    # list of acceptable inputs for granularity\n",
    "    granularity_options = ['1m', '2m', '5m', '15m', '30m', '1h']\n",
    "    # Reset user input boolean flag\n",
    "    prompting_user_input = True\n",
    "    while prompting_user_input:\n",
    "        granulrity_input = input(\"How often should our model look at\" + \n",
    "                                 \" stock prices? Choose from 1m, 2m, 5m,\" +\n",
    "                                 \" 15m, 30m or 1h.\\n(Type 'Exit' to quit)\\n\"\n",
    "                                ).lower()\n",
    "        \n",
    "        # parse granularity input\n",
    "        if granulrity_input in granularity_options:\n",
    "            prompting_user_input = False\n",
    "        elif \"exit\" in granulrity_input:\n",
    "            sys.exit(\"Exiting program\")\n",
    "        else:\n",
    "            print(\"Input was not among the options 1m, 2m,\" +\n",
    "                  \" 5m, 15m, 30m, or 1h — please retry.\"+\n",
    "                  \"\\n(Type 'Exit' to quit)\\n\")\n",
    "    \n",
    "\n",
    "    # utilize yfinance's error handling here — if the user inputs the \n",
    "    # wrong stock symbol, \n",
    "    stock_symbol = input(\"Please input the stock symbol you would like\" + \n",
    "                             \" to examine: (e.g. AAPL)\\n\").upper()\n",
    "    \n",
    "    # Construct pandas DataFrame object\n",
    "    df = pd.DataFrame(yf.download(stock_symbol,\n",
    "                                start=num_days_prior,\n",
    "                                end=today,\n",
    "                                interval=granulrity_input)\n",
    "                            )\n",
    "    \n",
    "    # add user input information to StockDataWrapper object\n",
    "    stock_data = StockDataWrapper(df, stock_symbol)\n",
    "    stock_data.num_days = num_days_to_build\n",
    "    stock_data.granularity = granulrity_input\n",
    "\n",
    "    return stock_data\n",
    "\n",
    "\n",
    "\n",
    "def add_lags_from_input(stock_data, threshold):\n",
    "    \"\"\"\n",
    "    Helper function which finishes loading the lag data information into an already\n",
    "    existing StockDataWrapper object. This function will only add additional columns\n",
    "    to the DataFrame object referenced by the StockDataWrapper (in place); no value\n",
    "    is returned.\n",
    "    \n",
    "    \n",
    "    Raises:\n",
    "        ValueError: if either stock_data is not a StockDataWrapper or threshold is not an\n",
    "                integer.\n",
    "        NameError: if there are no entries in the DataFrame\n",
    "    \"\"\"\n",
    "    #################\n",
    "    #  ERROR HANDLING\n",
    "    #################\n",
    "    if not isinstance(stock_data, StockDataWrapper):\n",
    "        raise ValueError(\"stock_data variable must be a StockDataWrapper class\")\n",
    "    if not isinstance(threshold, int):\n",
    "        raise ValueError(\"threshold must be a positive integer\")\n",
    "    if stock_data.data_frame.shape[0] == 0:\n",
    "        raise TypeError(\"Data has not been correctly loaded into the StockDataWrapper object\")\n",
    "    \n",
    "    # Clean up previous lag variables so that preexisting data\n",
    "    # does not affect future computations\n",
    "    stock_data.delete_lag_variables()\n",
    "    \n",
    "    # Boolean flag which turns off (False) once the user\n",
    "    # correctly enters the correct field\n",
    "    prompting_user_input = True\n",
    "    while prompting_user_input:\n",
    "        lag_length = input(\"How many previous data points should our model look at?\\n(Type 'Exit' to quit)\\n\")\n",
    "\n",
    "        # parse lag_length\n",
    "        if lag_length.isnumeric():\n",
    "            lag_length = int(lag_length)\n",
    "            \n",
    "            if lag_length <= threshold:\n",
    "                stock_data.lag_length = lag_length\n",
    "                stock_data.add_lag_variables(lag_length)\n",
    "                prompting_user_input = False\n",
    "            else:\n",
    "                print(\"\\nThe number of previous data points considered should\" +\n",
    "                      f\" not exceed 30%% \\nof the total number of data points (in this case, {threshold}) -- please\" +\n",
    "                       \" retry. \\n\")\n",
    "        elif \"exit\" in lag_length.lower():\n",
    "                sys.exit(\"Exiting program\")\n",
    "        else:\n",
    "            print(\"\"\"Non-integer passed as input — please retry.\n",
    "                  \\n\n",
    "                  (Type 'Exit' to quit)\\n\"\"\")"
   ]
  },
  {
   "cell_type": "markdown",
   "id": "c8c2df05",
   "metadata": {},
   "source": [
    "# Exploratory Data Analysis"
   ]
  },
  {
   "cell_type": "code",
   "execution_count": 14,
   "id": "99c4c9c6",
   "metadata": {},
   "outputs": [
    {
     "name": "stdout",
     "output_type": "stream",
     "text": [
      "How many days of intraday stock market data should  we use to build our model? Enter a value between  1 and 7:\n",
      "(Type 'Exit' to quit)\n",
      "1\n",
      "How often should our model look at stock prices? Choose from 1m, 2m, 5m, 15m, 30m or 1h.\n",
      "(Type 'Exit' to quit)\n",
      "1m\n",
      "Please input the stock symbol you would like to examine: (e.g. AAPL)\n",
      "aapl\n"
     ]
    },
    {
     "name": "stderr",
     "output_type": "stream",
     "text": [
      "[*********************100%%**********************]  1 of 1 completed\n"
     ]
    },
    {
     "data": {
      "application/vnd.plotly.v1+json": {
       "config": {
        "plotlyServerURL": "https://plot.ly"
       },
       "data": [
        {
         "hovertemplate": "Datetime=%{x}<br>Close=%{y}<extra></extra>",
         "legendgroup": "",
         "line": {
          "color": "#636efa",
          "dash": "solid"
         },
         "marker": {
          "symbol": "circle"
         },
         "mode": "lines",
         "name": "",
         "orientation": "v",
         "showlegend": false,
         "type": "scatter",
         "x": [
          "2024-06-06T09:30:00-04:00",
          "2024-06-06T09:31:00-04:00",
          "2024-06-06T09:32:00-04:00",
          "2024-06-06T09:33:00-04:00",
          "2024-06-06T09:34:00-04:00",
          "2024-06-06T09:35:00-04:00",
          "2024-06-06T09:36:00-04:00",
          "2024-06-06T09:37:00-04:00",
          "2024-06-06T09:38:00-04:00",
          "2024-06-06T09:39:00-04:00",
          "2024-06-06T09:40:00-04:00",
          "2024-06-06T09:41:00-04:00",
          "2024-06-06T09:42:00-04:00",
          "2024-06-06T09:43:00-04:00",
          "2024-06-06T09:44:00-04:00",
          "2024-06-06T09:45:00-04:00",
          "2024-06-06T09:46:00-04:00",
          "2024-06-06T09:47:00-04:00",
          "2024-06-06T09:48:00-04:00",
          "2024-06-06T09:49:00-04:00",
          "2024-06-06T09:50:00-04:00",
          "2024-06-06T09:51:00-04:00",
          "2024-06-06T09:52:00-04:00",
          "2024-06-06T09:53:00-04:00",
          "2024-06-06T09:54:00-04:00",
          "2024-06-06T09:55:00-04:00",
          "2024-06-06T09:56:00-04:00",
          "2024-06-06T09:57:00-04:00",
          "2024-06-06T09:58:00-04:00",
          "2024-06-06T09:59:00-04:00",
          "2024-06-06T10:00:00-04:00",
          "2024-06-06T10:01:00-04:00",
          "2024-06-06T10:02:00-04:00",
          "2024-06-06T10:03:00-04:00",
          "2024-06-06T10:04:00-04:00",
          "2024-06-06T10:05:00-04:00",
          "2024-06-06T10:06:00-04:00",
          "2024-06-06T10:07:00-04:00",
          "2024-06-06T10:08:00-04:00",
          "2024-06-06T10:09:00-04:00",
          "2024-06-06T10:10:00-04:00",
          "2024-06-06T10:11:00-04:00",
          "2024-06-06T10:12:00-04:00",
          "2024-06-06T10:13:00-04:00",
          "2024-06-06T10:14:00-04:00",
          "2024-06-06T10:15:00-04:00",
          "2024-06-06T10:16:00-04:00",
          "2024-06-06T10:17:00-04:00",
          "2024-06-06T10:18:00-04:00",
          "2024-06-06T10:19:00-04:00",
          "2024-06-06T10:20:00-04:00",
          "2024-06-06T10:21:00-04:00",
          "2024-06-06T10:22:00-04:00",
          "2024-06-06T10:23:00-04:00",
          "2024-06-06T10:24:00-04:00",
          "2024-06-06T10:25:00-04:00",
          "2024-06-06T10:26:00-04:00",
          "2024-06-06T10:27:00-04:00",
          "2024-06-06T10:28:00-04:00",
          "2024-06-06T10:29:00-04:00",
          "2024-06-06T10:30:00-04:00",
          "2024-06-06T10:31:00-04:00",
          "2024-06-06T10:32:00-04:00",
          "2024-06-06T10:33:00-04:00",
          "2024-06-06T10:34:00-04:00",
          "2024-06-06T10:35:00-04:00",
          "2024-06-06T10:36:00-04:00",
          "2024-06-06T10:37:00-04:00",
          "2024-06-06T10:38:00-04:00",
          "2024-06-06T10:39:00-04:00",
          "2024-06-06T10:40:00-04:00",
          "2024-06-06T10:41:00-04:00",
          "2024-06-06T10:42:00-04:00",
          "2024-06-06T10:43:00-04:00",
          "2024-06-06T10:44:00-04:00",
          "2024-06-06T10:45:00-04:00",
          "2024-06-06T10:46:00-04:00",
          "2024-06-06T10:47:00-04:00",
          "2024-06-06T10:48:00-04:00",
          "2024-06-06T10:49:00-04:00",
          "2024-06-06T10:50:00-04:00",
          "2024-06-06T10:51:00-04:00",
          "2024-06-06T10:52:00-04:00",
          "2024-06-06T10:53:00-04:00",
          "2024-06-06T10:54:00-04:00",
          "2024-06-06T10:55:00-04:00",
          "2024-06-06T10:56:00-04:00",
          "2024-06-06T10:57:00-04:00",
          "2024-06-06T10:58:00-04:00",
          "2024-06-06T10:59:00-04:00",
          "2024-06-06T11:00:00-04:00",
          "2024-06-06T11:01:00-04:00",
          "2024-06-06T11:02:00-04:00",
          "2024-06-06T11:03:00-04:00",
          "2024-06-06T11:04:00-04:00",
          "2024-06-06T11:05:00-04:00",
          "2024-06-06T11:06:00-04:00",
          "2024-06-06T11:07:00-04:00",
          "2024-06-06T11:08:00-04:00",
          "2024-06-06T11:09:00-04:00",
          "2024-06-06T11:10:00-04:00",
          "2024-06-06T11:11:00-04:00",
          "2024-06-06T11:12:00-04:00",
          "2024-06-06T11:13:00-04:00",
          "2024-06-06T11:14:00-04:00",
          "2024-06-06T11:15:00-04:00",
          "2024-06-06T11:16:00-04:00",
          "2024-06-06T11:17:00-04:00",
          "2024-06-06T11:18:00-04:00",
          "2024-06-06T11:19:00-04:00",
          "2024-06-06T11:20:00-04:00",
          "2024-06-06T11:21:00-04:00",
          "2024-06-06T11:22:00-04:00",
          "2024-06-06T11:23:00-04:00",
          "2024-06-06T11:24:00-04:00",
          "2024-06-06T11:25:00-04:00",
          "2024-06-06T11:26:00-04:00",
          "2024-06-06T11:27:00-04:00",
          "2024-06-06T11:28:00-04:00",
          "2024-06-06T11:29:00-04:00",
          "2024-06-06T11:30:00-04:00",
          "2024-06-06T11:31:00-04:00",
          "2024-06-06T11:32:00-04:00",
          "2024-06-06T11:33:00-04:00",
          "2024-06-06T11:34:00-04:00",
          "2024-06-06T11:35:00-04:00",
          "2024-06-06T11:36:00-04:00",
          "2024-06-06T11:37:00-04:00",
          "2024-06-06T11:38:00-04:00",
          "2024-06-06T11:39:00-04:00",
          "2024-06-06T11:40:00-04:00",
          "2024-06-06T11:41:00-04:00",
          "2024-06-06T11:42:00-04:00",
          "2024-06-06T11:43:00-04:00",
          "2024-06-06T11:44:00-04:00",
          "2024-06-06T11:45:00-04:00",
          "2024-06-06T11:46:00-04:00",
          "2024-06-06T11:47:00-04:00",
          "2024-06-06T11:48:00-04:00",
          "2024-06-06T11:49:00-04:00",
          "2024-06-06T11:50:00-04:00",
          "2024-06-06T11:51:00-04:00",
          "2024-06-06T11:52:00-04:00",
          "2024-06-06T11:53:00-04:00",
          "2024-06-06T11:54:00-04:00",
          "2024-06-06T11:55:00-04:00",
          "2024-06-06T11:56:00-04:00",
          "2024-06-06T11:57:00-04:00",
          "2024-06-06T11:58:00-04:00",
          "2024-06-06T11:59:00-04:00",
          "2024-06-06T12:00:00-04:00",
          "2024-06-06T12:01:00-04:00",
          "2024-06-06T12:02:00-04:00",
          "2024-06-06T12:03:00-04:00",
          "2024-06-06T12:04:00-04:00",
          "2024-06-06T12:05:00-04:00",
          "2024-06-06T12:06:00-04:00",
          "2024-06-06T12:07:00-04:00",
          "2024-06-06T12:08:00-04:00",
          "2024-06-06T12:09:00-04:00",
          "2024-06-06T12:10:00-04:00",
          "2024-06-06T12:11:00-04:00",
          "2024-06-06T12:12:00-04:00",
          "2024-06-06T12:13:00-04:00",
          "2024-06-06T12:14:00-04:00",
          "2024-06-06T12:15:00-04:00",
          "2024-06-06T12:16:00-04:00",
          "2024-06-06T12:17:00-04:00",
          "2024-06-06T12:18:00-04:00",
          "2024-06-06T12:19:00-04:00",
          "2024-06-06T12:20:00-04:00",
          "2024-06-06T12:21:00-04:00",
          "2024-06-06T12:22:00-04:00",
          "2024-06-06T12:23:00-04:00",
          "2024-06-06T12:24:00-04:00",
          "2024-06-06T12:25:00-04:00",
          "2024-06-06T12:26:00-04:00",
          "2024-06-06T12:27:00-04:00",
          "2024-06-06T12:28:00-04:00",
          "2024-06-06T12:29:00-04:00",
          "2024-06-06T12:30:00-04:00",
          "2024-06-06T12:31:00-04:00",
          "2024-06-06T12:32:00-04:00",
          "2024-06-06T12:33:00-04:00",
          "2024-06-06T12:34:00-04:00",
          "2024-06-06T12:35:00-04:00",
          "2024-06-06T12:36:00-04:00",
          "2024-06-06T12:37:00-04:00",
          "2024-06-06T12:38:00-04:00",
          "2024-06-06T12:39:00-04:00",
          "2024-06-06T12:40:00-04:00",
          "2024-06-06T12:41:00-04:00",
          "2024-06-06T12:42:00-04:00",
          "2024-06-06T12:43:00-04:00",
          "2024-06-06T12:44:00-04:00",
          "2024-06-06T12:45:00-04:00",
          "2024-06-06T12:46:00-04:00",
          "2024-06-06T12:47:00-04:00",
          "2024-06-06T12:48:00-04:00",
          "2024-06-06T12:49:00-04:00",
          "2024-06-06T12:50:00-04:00",
          "2024-06-06T12:51:00-04:00",
          "2024-06-06T12:52:00-04:00",
          "2024-06-06T12:53:00-04:00",
          "2024-06-06T12:54:00-04:00",
          "2024-06-06T12:55:00-04:00",
          "2024-06-06T12:56:00-04:00",
          "2024-06-06T12:57:00-04:00",
          "2024-06-06T12:58:00-04:00",
          "2024-06-06T12:59:00-04:00",
          "2024-06-06T13:00:00-04:00",
          "2024-06-06T13:01:00-04:00",
          "2024-06-06T13:02:00-04:00",
          "2024-06-06T13:03:00-04:00",
          "2024-06-06T13:04:00-04:00",
          "2024-06-06T13:05:00-04:00",
          "2024-06-06T13:06:00-04:00",
          "2024-06-06T13:07:00-04:00",
          "2024-06-06T13:08:00-04:00",
          "2024-06-06T13:09:00-04:00",
          "2024-06-06T13:10:00-04:00",
          "2024-06-06T13:11:00-04:00",
          "2024-06-06T13:12:00-04:00",
          "2024-06-06T13:13:00-04:00",
          "2024-06-06T13:14:00-04:00",
          "2024-06-06T13:15:00-04:00",
          "2024-06-06T13:16:00-04:00",
          "2024-06-06T13:17:00-04:00",
          "2024-06-06T13:18:00-04:00",
          "2024-06-06T13:19:00-04:00",
          "2024-06-06T13:20:00-04:00",
          "2024-06-06T13:21:00-04:00",
          "2024-06-06T13:22:00-04:00",
          "2024-06-06T13:23:00-04:00",
          "2024-06-06T13:24:00-04:00",
          "2024-06-06T13:25:00-04:00",
          "2024-06-06T13:26:00-04:00",
          "2024-06-06T13:27:00-04:00",
          "2024-06-06T13:28:00-04:00",
          "2024-06-06T13:29:00-04:00",
          "2024-06-06T13:30:00-04:00",
          "2024-06-06T13:31:00-04:00",
          "2024-06-06T13:32:00-04:00",
          "2024-06-06T13:33:00-04:00",
          "2024-06-06T13:34:00-04:00",
          "2024-06-06T13:35:00-04:00",
          "2024-06-06T13:36:00-04:00",
          "2024-06-06T13:37:00-04:00",
          "2024-06-06T13:38:00-04:00",
          "2024-06-06T13:39:00-04:00",
          "2024-06-06T13:40:00-04:00",
          "2024-06-06T13:41:00-04:00",
          "2024-06-06T13:42:00-04:00",
          "2024-06-06T13:43:00-04:00",
          "2024-06-06T13:44:00-04:00",
          "2024-06-06T13:45:00-04:00",
          "2024-06-06T13:46:00-04:00",
          "2024-06-06T13:47:00-04:00",
          "2024-06-06T13:48:00-04:00",
          "2024-06-06T13:49:00-04:00",
          "2024-06-06T13:50:00-04:00",
          "2024-06-06T13:51:00-04:00",
          "2024-06-06T13:52:00-04:00",
          "2024-06-06T13:53:00-04:00",
          "2024-06-06T13:54:00-04:00",
          "2024-06-06T13:55:00-04:00",
          "2024-06-06T13:56:00-04:00",
          "2024-06-06T13:57:00-04:00",
          "2024-06-06T13:58:00-04:00",
          "2024-06-06T13:59:00-04:00",
          "2024-06-06T14:00:00-04:00",
          "2024-06-06T14:01:00-04:00",
          "2024-06-06T14:02:00-04:00",
          "2024-06-06T14:03:00-04:00",
          "2024-06-06T14:04:00-04:00",
          "2024-06-06T14:05:00-04:00",
          "2024-06-06T14:06:00-04:00",
          "2024-06-06T14:07:00-04:00",
          "2024-06-06T14:08:00-04:00",
          "2024-06-06T14:09:00-04:00",
          "2024-06-06T14:10:00-04:00",
          "2024-06-06T14:11:00-04:00",
          "2024-06-06T14:12:00-04:00",
          "2024-06-06T14:13:00-04:00",
          "2024-06-06T14:14:00-04:00",
          "2024-06-06T14:15:00-04:00",
          "2024-06-06T14:16:00-04:00",
          "2024-06-06T14:17:00-04:00",
          "2024-06-06T14:18:00-04:00",
          "2024-06-06T14:19:00-04:00",
          "2024-06-06T14:20:00-04:00",
          "2024-06-06T14:21:00-04:00",
          "2024-06-06T14:22:00-04:00",
          "2024-06-06T14:23:00-04:00",
          "2024-06-06T14:24:00-04:00",
          "2024-06-06T14:25:00-04:00",
          "2024-06-06T14:26:00-04:00",
          "2024-06-06T14:27:00-04:00",
          "2024-06-06T14:28:00-04:00",
          "2024-06-06T14:29:00-04:00",
          "2024-06-06T14:30:00-04:00",
          "2024-06-06T14:31:00-04:00",
          "2024-06-06T14:32:00-04:00",
          "2024-06-06T14:33:00-04:00",
          "2024-06-06T14:34:00-04:00",
          "2024-06-06T14:35:00-04:00",
          "2024-06-06T14:36:00-04:00",
          "2024-06-06T14:37:00-04:00",
          "2024-06-06T14:38:00-04:00",
          "2024-06-06T14:39:00-04:00",
          "2024-06-06T14:40:00-04:00",
          "2024-06-06T14:41:00-04:00",
          "2024-06-06T14:42:00-04:00",
          "2024-06-06T14:43:00-04:00",
          "2024-06-06T14:44:00-04:00",
          "2024-06-06T14:45:00-04:00",
          "2024-06-06T14:46:00-04:00",
          "2024-06-06T14:47:00-04:00",
          "2024-06-06T14:48:00-04:00",
          "2024-06-06T14:49:00-04:00",
          "2024-06-06T14:50:00-04:00",
          "2024-06-06T14:51:00-04:00",
          "2024-06-06T14:52:00-04:00",
          "2024-06-06T14:53:00-04:00",
          "2024-06-06T14:54:00-04:00",
          "2024-06-06T14:55:00-04:00",
          "2024-06-06T14:56:00-04:00",
          "2024-06-06T14:57:00-04:00",
          "2024-06-06T14:58:00-04:00",
          "2024-06-06T14:59:00-04:00",
          "2024-06-06T15:00:00-04:00",
          "2024-06-06T15:01:00-04:00",
          "2024-06-06T15:02:00-04:00",
          "2024-06-06T15:03:00-04:00",
          "2024-06-06T15:04:00-04:00",
          "2024-06-06T15:05:00-04:00",
          "2024-06-06T15:06:00-04:00",
          "2024-06-06T15:07:00-04:00",
          "2024-06-06T15:08:00-04:00",
          "2024-06-06T15:09:00-04:00",
          "2024-06-06T15:10:00-04:00",
          "2024-06-06T15:11:00-04:00",
          "2024-06-06T15:12:00-04:00",
          "2024-06-06T15:13:00-04:00",
          "2024-06-06T15:14:00-04:00",
          "2024-06-06T15:15:00-04:00",
          "2024-06-06T15:16:00-04:00",
          "2024-06-06T15:17:00-04:00",
          "2024-06-06T15:18:00-04:00",
          "2024-06-06T15:19:00-04:00",
          "2024-06-06T15:20:00-04:00",
          "2024-06-06T15:21:00-04:00",
          "2024-06-06T15:22:00-04:00",
          "2024-06-06T15:23:00-04:00",
          "2024-06-06T15:24:00-04:00",
          "2024-06-06T15:25:00-04:00",
          "2024-06-06T15:26:00-04:00",
          "2024-06-06T15:27:00-04:00",
          "2024-06-06T15:28:00-04:00",
          "2024-06-06T15:29:00-04:00",
          "2024-06-06T15:30:00-04:00",
          "2024-06-06T15:31:00-04:00",
          "2024-06-06T15:32:00-04:00",
          "2024-06-06T15:33:00-04:00",
          "2024-06-06T15:34:00-04:00",
          "2024-06-06T15:35:00-04:00",
          "2024-06-06T15:36:00-04:00",
          "2024-06-06T15:37:00-04:00",
          "2024-06-06T15:38:00-04:00",
          "2024-06-06T15:39:00-04:00",
          "2024-06-06T15:40:00-04:00",
          "2024-06-06T15:41:00-04:00",
          "2024-06-06T15:42:00-04:00",
          "2024-06-06T15:43:00-04:00",
          "2024-06-06T15:44:00-04:00",
          "2024-06-06T15:45:00-04:00",
          "2024-06-06T15:46:00-04:00",
          "2024-06-06T15:47:00-04:00",
          "2024-06-06T15:48:00-04:00",
          "2024-06-06T15:49:00-04:00",
          "2024-06-06T15:50:00-04:00",
          "2024-06-06T15:51:00-04:00",
          "2024-06-06T15:52:00-04:00",
          "2024-06-06T15:53:00-04:00",
          "2024-06-06T15:54:00-04:00",
          "2024-06-06T15:55:00-04:00",
          "2024-06-06T15:56:00-04:00",
          "2024-06-06T15:57:00-04:00",
          "2024-06-06T15:58:00-04:00",
          "2024-06-06T15:59:00-04:00"
         ],
         "xaxis": "x",
         "y": [
          196.1300048828125,
          196.25999450683594,
          196.1082000732422,
          195.89999389648438,
          195.77000427246094,
          195.48680114746094,
          195.5760955810547,
          195.52999877929688,
          195.52999877929688,
          195.52000427246094,
          195.21499633789062,
          195.47999572753906,
          195.5500030517578,
          195.63360595703125,
          195.69000244140625,
          195.59219360351562,
          195.57000732421875,
          195.54049682617188,
          195.8000030517578,
          195.74000549316406,
          195.7799072265625,
          195.66409301757812,
          195.63999938964844,
          195.64999389648438,
          195.7050018310547,
          195.74000549316406,
          195.82000732421875,
          195.89999389648438,
          195.97000122070312,
          196.110107421875,
          196.2050018310547,
          196.14500427246094,
          195.93499755859375,
          196.08999633789062,
          196.02499389648438,
          195.83999633789062,
          195.75999450683594,
          195.75999450683594,
          195.66000366210938,
          195.7100067138672,
          195.83999633789062,
          195.9600067138672,
          195.97000122070312,
          196.05999755859375,
          196.1699981689453,
          196.26499938964844,
          196.3350067138672,
          196.35890197753906,
          196.2899932861328,
          196.25999450683594,
          196.27999877929688,
          196.25999450683594,
          196.47000122070312,
          196.44000244140625,
          196.210205078125,
          196.0500030517578,
          195.85000610351562,
          195.89999389648438,
          196.00999450683594,
          195.9199981689453,
          195.89999389648438,
          195.9149932861328,
          195.7899932861328,
          195.6999969482422,
          195.60499572753906,
          195.73500061035156,
          195.7899932861328,
          195.8300018310547,
          195.75,
          195.72000122070312,
          195.8000030517578,
          195.86000061035156,
          195.7899932861328,
          195.80999755859375,
          195.76499938964844,
          195.74000549316406,
          195.72999572753906,
          195.65789794921875,
          195.5299072265625,
          195.54510498046875,
          195.4600067138672,
          195.5800018310547,
          195.63999938964844,
          195.625,
          195.72979736328125,
          195.83999633789062,
          195.92999267578125,
          195.8300018310547,
          195.74000549316406,
          195.75,
          195.63999938964844,
          195.6999969482422,
          195.72000122070312,
          195.74000549316406,
          195.6876983642578,
          195.67230224609375,
          195.72500610351562,
          195.6999969482422,
          195.65499877929688,
          195.71499633789062,
          195.69500732421875,
          195.66000366210938,
          195.6199951171875,
          195.7449951171875,
          195.8000030517578,
          195.83999633789062,
          195.84500122070312,
          195.72999572753906,
          195.6649932861328,
          195.63009643554688,
          195.7050018310547,
          195.78500366210938,
          195.72000122070312,
          195.7541046142578,
          195.74000549316406,
          195.8249969482422,
          195.81500244140625,
          195.7899932861328,
          195.81500244140625,
          195.8350067138672,
          195.72500610351562,
          195.75,
          195.69000244140625,
          195.75160217285156,
          195.77000427246094,
          195.72999572753906,
          195.67799377441406,
          195.72999572753906,
          195.68499755859375,
          195.72000122070312,
          195.66000366210938,
          195.6300048828125,
          195.61000061035156,
          195.60130310058594,
          195.61000061035156,
          195.60499572753906,
          195.6300048828125,
          195.63999938964844,
          195.65499877929688,
          195.58810424804688,
          195.51499938964844,
          195.47999572753906,
          195.41000366210938,
          195.42999267578125,
          195.4199981689453,
          195.4499969482422,
          195.49000549316406,
          195.5699005126953,
          195.49000549316406,
          195.52999877929688,
          195.45419311523438,
          195.47000122070312,
          195.48789978027344,
          195.47999572753906,
          195.49000549316406,
          195.52000427246094,
          195.51539611816406,
          195.56500244140625,
          195.56849670410156,
          195.5601043701172,
          195.59860229492188,
          195.6750030517578,
          195.69000244140625,
          195.64100646972656,
          195.58999633789062,
          195.5399932861328,
          195.67999267578125,
          195.6750030517578,
          195.69500732421875,
          195.78500366210938,
          195.75999450683594,
          195.72000122070312,
          195.7440948486328,
          195.72000122070312,
          195.6750030517578,
          195.69500732421875,
          195.68499755859375,
          195.62989807128906,
          195.68499755859375,
          195.6699981689453,
          195.6699981689453,
          195.6999969482422,
          195.64999389648438,
          195.6300048828125,
          195.66000366210938,
          195.6999969482422,
          195.66000366210938,
          195.69500732421875,
          195.67999267578125,
          195.64999389648438,
          195.62969970703125,
          195.7050018310547,
          195.66969299316406,
          195.66000366210938,
          195.63999938964844,
          195.67999267578125,
          195.64999389648438,
          195.64999389648438,
          195.67999267578125,
          195.66000366210938,
          195.6649932861328,
          195.69500732421875,
          195.7100067138672,
          195.7100067138672,
          195.69500732421875,
          195.75,
          195.72000122070312,
          195.7449951171875,
          195.84500122070312,
          195.97000122070312,
          195.93099975585938,
          195.90989685058594,
          195.9499969482422,
          195.9499969482422,
          195.9550018310547,
          196,
          195.9949951171875,
          196.06979370117188,
          196.05999755859375,
          196.0500030517578,
          195.9550018310547,
          195.90499877929688,
          195.83999633789062,
          195.86500549316406,
          195.8350067138672,
          195.76499938964844,
          195.7799072265625,
          195.75,
          195.7550048828125,
          195.66000366210938,
          195.5399932861328,
          195.53500366210938,
          195.5399932861328,
          195.4976043701172,
          195.52499389648438,
          195.59849548339844,
          195.61000061035156,
          195.61000061035156,
          195.6199951171875,
          195.6479949951172,
          195.6300048828125,
          195.6898956298828,
          195.71499633789062,
          195.65499877929688,
          195.6199951171875,
          195.5800018310547,
          195.59500122070312,
          195.60000610351562,
          195.5749969482422,
          195.58999633789062,
          195.6466064453125,
          195.67999267578125,
          195.68499755859375,
          195.625,
          195.6298065185547,
          195.6199951171875,
          195.61000061035156,
          195.5749969482422,
          195.61000061035156,
          195.61500549316406,
          195.58999633789062,
          195.5850067138672,
          195.5749969482422,
          195.53500366210938,
          195.6280975341797,
          195.53500366210938,
          195.48500061035156,
          195.48500061035156,
          195.47830200195312,
          195.47500610351562,
          195.5449981689453,
          195.51499938964844,
          195.52000427246094,
          195.47000122070312,
          195.45249938964844,
          195.47999572753906,
          195.3583984375,
          195.2384033203125,
          195.14999389648438,
          194.99000549316406,
          195.10000610351562,
          195.06849670410156,
          195.0800018310547,
          195.23500061035156,
          195.3040008544922,
          195.28500366210938,
          195.30999755859375,
          195.3300018310547,
          195.38499450683594,
          195.41000366210938,
          195.35000610351562,
          195.4149932861328,
          195.52999877929688,
          195.5399932861328,
          195.5299072265625,
          195.49000549316406,
          195.49000549316406,
          195.50900268554688,
          195.52499389648438,
          195.54449462890625,
          195.4600067138672,
          195.3800048828125,
          195.44000244140625,
          195.4365997314453,
          195.4550018310547,
          195.35000610351562,
          195.3699951171875,
          195.35830688476562,
          195.30499267578125,
          195.2449951171875,
          195.22999572753906,
          195.26010131835938,
          195.25999450683594,
          195.25010681152344,
          195.24000549316406,
          195.25999450683594,
          195.27499389648438,
          195.25999450683594,
          195.27499389648438,
          195.27000427246094,
          195.30499267578125,
          195.27999877929688,
          195.35499572753906,
          195.3957977294922,
          195.3632049560547,
          195.38499450683594,
          195.35000610351562,
          195.2899932861328,
          195.27499389648438,
          195.24000549316406,
          195.22999572753906,
          195.25,
          195.22999572753906,
          195.23500061035156,
          195.21499633789062,
          195.23500061035156,
          195.27999877929688,
          195.3459014892578,
          195.29629516601562,
          195.27000427246094,
          195.2501983642578,
          195.19000244140625,
          195.1199951171875,
          195.0800018310547,
          195.05999755859375,
          195.1649932861328,
          195.2050018310547,
          195.22000122070312,
          195.30999755859375,
          195.35000610351562,
          195.2949981689453,
          195.2100067138672,
          195.24000549316406,
          195.2812957763672,
          195.25250244140625,
          195.28500366210938,
          195.23500061035156,
          195.23500061035156,
          195.28500366210938,
          195.39300537109375,
          195.44000244140625,
          195.3800048828125,
          195.39500427246094,
          195.35499572753906,
          195.2550048828125,
          195.16000366210938,
          195.13499450683594,
          195.13999938964844,
          195.2100067138672,
          195.1300048828125,
          195.05999755859375,
          195.0449981689453,
          195.01499938964844,
          194.99000549316406,
          194.9949951171875,
          195.02780151367188,
          195,
          195.07000732421875,
          195.10000610351562,
          195.0850067138672,
          194.85499572753906,
          194.55999755859375,
          194.40499877929688,
          194.45989990234375,
          194.30999755859375,
          194.32000732421875,
          194.1750030517578,
          194.41000366210938,
          194.34500122070312,
          194.47999572753906
         ],
         "yaxis": "y"
        }
       ],
       "layout": {
        "legend": {
         "tracegroupgap": 0
        },
        "template": {
         "data": {
          "bar": [
           {
            "error_x": {
             "color": "#2a3f5f"
            },
            "error_y": {
             "color": "#2a3f5f"
            },
            "marker": {
             "line": {
              "color": "#E5ECF6",
              "width": 0.5
             },
             "pattern": {
              "fillmode": "overlay",
              "size": 10,
              "solidity": 0.2
             }
            },
            "type": "bar"
           }
          ],
          "barpolar": [
           {
            "marker": {
             "line": {
              "color": "#E5ECF6",
              "width": 0.5
             },
             "pattern": {
              "fillmode": "overlay",
              "size": 10,
              "solidity": 0.2
             }
            },
            "type": "barpolar"
           }
          ],
          "carpet": [
           {
            "aaxis": {
             "endlinecolor": "#2a3f5f",
             "gridcolor": "white",
             "linecolor": "white",
             "minorgridcolor": "white",
             "startlinecolor": "#2a3f5f"
            },
            "baxis": {
             "endlinecolor": "#2a3f5f",
             "gridcolor": "white",
             "linecolor": "white",
             "minorgridcolor": "white",
             "startlinecolor": "#2a3f5f"
            },
            "type": "carpet"
           }
          ],
          "choropleth": [
           {
            "colorbar": {
             "outlinewidth": 0,
             "ticks": ""
            },
            "type": "choropleth"
           }
          ],
          "contour": [
           {
            "colorbar": {
             "outlinewidth": 0,
             "ticks": ""
            },
            "colorscale": [
             [
              0,
              "#0d0887"
             ],
             [
              0.1111111111111111,
              "#46039f"
             ],
             [
              0.2222222222222222,
              "#7201a8"
             ],
             [
              0.3333333333333333,
              "#9c179e"
             ],
             [
              0.4444444444444444,
              "#bd3786"
             ],
             [
              0.5555555555555556,
              "#d8576b"
             ],
             [
              0.6666666666666666,
              "#ed7953"
             ],
             [
              0.7777777777777778,
              "#fb9f3a"
             ],
             [
              0.8888888888888888,
              "#fdca26"
             ],
             [
              1,
              "#f0f921"
             ]
            ],
            "type": "contour"
           }
          ],
          "contourcarpet": [
           {
            "colorbar": {
             "outlinewidth": 0,
             "ticks": ""
            },
            "type": "contourcarpet"
           }
          ],
          "heatmap": [
           {
            "colorbar": {
             "outlinewidth": 0,
             "ticks": ""
            },
            "colorscale": [
             [
              0,
              "#0d0887"
             ],
             [
              0.1111111111111111,
              "#46039f"
             ],
             [
              0.2222222222222222,
              "#7201a8"
             ],
             [
              0.3333333333333333,
              "#9c179e"
             ],
             [
              0.4444444444444444,
              "#bd3786"
             ],
             [
              0.5555555555555556,
              "#d8576b"
             ],
             [
              0.6666666666666666,
              "#ed7953"
             ],
             [
              0.7777777777777778,
              "#fb9f3a"
             ],
             [
              0.8888888888888888,
              "#fdca26"
             ],
             [
              1,
              "#f0f921"
             ]
            ],
            "type": "heatmap"
           }
          ],
          "heatmapgl": [
           {
            "colorbar": {
             "outlinewidth": 0,
             "ticks": ""
            },
            "colorscale": [
             [
              0,
              "#0d0887"
             ],
             [
              0.1111111111111111,
              "#46039f"
             ],
             [
              0.2222222222222222,
              "#7201a8"
             ],
             [
              0.3333333333333333,
              "#9c179e"
             ],
             [
              0.4444444444444444,
              "#bd3786"
             ],
             [
              0.5555555555555556,
              "#d8576b"
             ],
             [
              0.6666666666666666,
              "#ed7953"
             ],
             [
              0.7777777777777778,
              "#fb9f3a"
             ],
             [
              0.8888888888888888,
              "#fdca26"
             ],
             [
              1,
              "#f0f921"
             ]
            ],
            "type": "heatmapgl"
           }
          ],
          "histogram": [
           {
            "marker": {
             "pattern": {
              "fillmode": "overlay",
              "size": 10,
              "solidity": 0.2
             }
            },
            "type": "histogram"
           }
          ],
          "histogram2d": [
           {
            "colorbar": {
             "outlinewidth": 0,
             "ticks": ""
            },
            "colorscale": [
             [
              0,
              "#0d0887"
             ],
             [
              0.1111111111111111,
              "#46039f"
             ],
             [
              0.2222222222222222,
              "#7201a8"
             ],
             [
              0.3333333333333333,
              "#9c179e"
             ],
             [
              0.4444444444444444,
              "#bd3786"
             ],
             [
              0.5555555555555556,
              "#d8576b"
             ],
             [
              0.6666666666666666,
              "#ed7953"
             ],
             [
              0.7777777777777778,
              "#fb9f3a"
             ],
             [
              0.8888888888888888,
              "#fdca26"
             ],
             [
              1,
              "#f0f921"
             ]
            ],
            "type": "histogram2d"
           }
          ],
          "histogram2dcontour": [
           {
            "colorbar": {
             "outlinewidth": 0,
             "ticks": ""
            },
            "colorscale": [
             [
              0,
              "#0d0887"
             ],
             [
              0.1111111111111111,
              "#46039f"
             ],
             [
              0.2222222222222222,
              "#7201a8"
             ],
             [
              0.3333333333333333,
              "#9c179e"
             ],
             [
              0.4444444444444444,
              "#bd3786"
             ],
             [
              0.5555555555555556,
              "#d8576b"
             ],
             [
              0.6666666666666666,
              "#ed7953"
             ],
             [
              0.7777777777777778,
              "#fb9f3a"
             ],
             [
              0.8888888888888888,
              "#fdca26"
             ],
             [
              1,
              "#f0f921"
             ]
            ],
            "type": "histogram2dcontour"
           }
          ],
          "mesh3d": [
           {
            "colorbar": {
             "outlinewidth": 0,
             "ticks": ""
            },
            "type": "mesh3d"
           }
          ],
          "parcoords": [
           {
            "line": {
             "colorbar": {
              "outlinewidth": 0,
              "ticks": ""
             }
            },
            "type": "parcoords"
           }
          ],
          "pie": [
           {
            "automargin": true,
            "type": "pie"
           }
          ],
          "scatter": [
           {
            "fillpattern": {
             "fillmode": "overlay",
             "size": 10,
             "solidity": 0.2
            },
            "type": "scatter"
           }
          ],
          "scatter3d": [
           {
            "line": {
             "colorbar": {
              "outlinewidth": 0,
              "ticks": ""
             }
            },
            "marker": {
             "colorbar": {
              "outlinewidth": 0,
              "ticks": ""
             }
            },
            "type": "scatter3d"
           }
          ],
          "scattercarpet": [
           {
            "marker": {
             "colorbar": {
              "outlinewidth": 0,
              "ticks": ""
             }
            },
            "type": "scattercarpet"
           }
          ],
          "scattergeo": [
           {
            "marker": {
             "colorbar": {
              "outlinewidth": 0,
              "ticks": ""
             }
            },
            "type": "scattergeo"
           }
          ],
          "scattergl": [
           {
            "marker": {
             "colorbar": {
              "outlinewidth": 0,
              "ticks": ""
             }
            },
            "type": "scattergl"
           }
          ],
          "scattermapbox": [
           {
            "marker": {
             "colorbar": {
              "outlinewidth": 0,
              "ticks": ""
             }
            },
            "type": "scattermapbox"
           }
          ],
          "scatterpolar": [
           {
            "marker": {
             "colorbar": {
              "outlinewidth": 0,
              "ticks": ""
             }
            },
            "type": "scatterpolar"
           }
          ],
          "scatterpolargl": [
           {
            "marker": {
             "colorbar": {
              "outlinewidth": 0,
              "ticks": ""
             }
            },
            "type": "scatterpolargl"
           }
          ],
          "scatterternary": [
           {
            "marker": {
             "colorbar": {
              "outlinewidth": 0,
              "ticks": ""
             }
            },
            "type": "scatterternary"
           }
          ],
          "surface": [
           {
            "colorbar": {
             "outlinewidth": 0,
             "ticks": ""
            },
            "colorscale": [
             [
              0,
              "#0d0887"
             ],
             [
              0.1111111111111111,
              "#46039f"
             ],
             [
              0.2222222222222222,
              "#7201a8"
             ],
             [
              0.3333333333333333,
              "#9c179e"
             ],
             [
              0.4444444444444444,
              "#bd3786"
             ],
             [
              0.5555555555555556,
              "#d8576b"
             ],
             [
              0.6666666666666666,
              "#ed7953"
             ],
             [
              0.7777777777777778,
              "#fb9f3a"
             ],
             [
              0.8888888888888888,
              "#fdca26"
             ],
             [
              1,
              "#f0f921"
             ]
            ],
            "type": "surface"
           }
          ],
          "table": [
           {
            "cells": {
             "fill": {
              "color": "#EBF0F8"
             },
             "line": {
              "color": "white"
             }
            },
            "header": {
             "fill": {
              "color": "#C8D4E3"
             },
             "line": {
              "color": "white"
             }
            },
            "type": "table"
           }
          ]
         },
         "layout": {
          "annotationdefaults": {
           "arrowcolor": "#2a3f5f",
           "arrowhead": 0,
           "arrowwidth": 1
          },
          "autotypenumbers": "strict",
          "coloraxis": {
           "colorbar": {
            "outlinewidth": 0,
            "ticks": ""
           }
          },
          "colorscale": {
           "diverging": [
            [
             0,
             "#8e0152"
            ],
            [
             0.1,
             "#c51b7d"
            ],
            [
             0.2,
             "#de77ae"
            ],
            [
             0.3,
             "#f1b6da"
            ],
            [
             0.4,
             "#fde0ef"
            ],
            [
             0.5,
             "#f7f7f7"
            ],
            [
             0.6,
             "#e6f5d0"
            ],
            [
             0.7,
             "#b8e186"
            ],
            [
             0.8,
             "#7fbc41"
            ],
            [
             0.9,
             "#4d9221"
            ],
            [
             1,
             "#276419"
            ]
           ],
           "sequential": [
            [
             0,
             "#0d0887"
            ],
            [
             0.1111111111111111,
             "#46039f"
            ],
            [
             0.2222222222222222,
             "#7201a8"
            ],
            [
             0.3333333333333333,
             "#9c179e"
            ],
            [
             0.4444444444444444,
             "#bd3786"
            ],
            [
             0.5555555555555556,
             "#d8576b"
            ],
            [
             0.6666666666666666,
             "#ed7953"
            ],
            [
             0.7777777777777778,
             "#fb9f3a"
            ],
            [
             0.8888888888888888,
             "#fdca26"
            ],
            [
             1,
             "#f0f921"
            ]
           ],
           "sequentialminus": [
            [
             0,
             "#0d0887"
            ],
            [
             0.1111111111111111,
             "#46039f"
            ],
            [
             0.2222222222222222,
             "#7201a8"
            ],
            [
             0.3333333333333333,
             "#9c179e"
            ],
            [
             0.4444444444444444,
             "#bd3786"
            ],
            [
             0.5555555555555556,
             "#d8576b"
            ],
            [
             0.6666666666666666,
             "#ed7953"
            ],
            [
             0.7777777777777778,
             "#fb9f3a"
            ],
            [
             0.8888888888888888,
             "#fdca26"
            ],
            [
             1,
             "#f0f921"
            ]
           ]
          },
          "colorway": [
           "#636efa",
           "#EF553B",
           "#00cc96",
           "#ab63fa",
           "#FFA15A",
           "#19d3f3",
           "#FF6692",
           "#B6E880",
           "#FF97FF",
           "#FECB52"
          ],
          "font": {
           "color": "#2a3f5f"
          },
          "geo": {
           "bgcolor": "white",
           "lakecolor": "white",
           "landcolor": "#E5ECF6",
           "showlakes": true,
           "showland": true,
           "subunitcolor": "white"
          },
          "hoverlabel": {
           "align": "left"
          },
          "hovermode": "closest",
          "mapbox": {
           "style": "light"
          },
          "paper_bgcolor": "white",
          "plot_bgcolor": "#E5ECF6",
          "polar": {
           "angularaxis": {
            "gridcolor": "white",
            "linecolor": "white",
            "ticks": ""
           },
           "bgcolor": "#E5ECF6",
           "radialaxis": {
            "gridcolor": "white",
            "linecolor": "white",
            "ticks": ""
           }
          },
          "scene": {
           "xaxis": {
            "backgroundcolor": "#E5ECF6",
            "gridcolor": "white",
            "gridwidth": 2,
            "linecolor": "white",
            "showbackground": true,
            "ticks": "",
            "zerolinecolor": "white"
           },
           "yaxis": {
            "backgroundcolor": "#E5ECF6",
            "gridcolor": "white",
            "gridwidth": 2,
            "linecolor": "white",
            "showbackground": true,
            "ticks": "",
            "zerolinecolor": "white"
           },
           "zaxis": {
            "backgroundcolor": "#E5ECF6",
            "gridcolor": "white",
            "gridwidth": 2,
            "linecolor": "white",
            "showbackground": true,
            "ticks": "",
            "zerolinecolor": "white"
           }
          },
          "shapedefaults": {
           "line": {
            "color": "#2a3f5f"
           }
          },
          "ternary": {
           "aaxis": {
            "gridcolor": "white",
            "linecolor": "white",
            "ticks": ""
           },
           "baxis": {
            "gridcolor": "white",
            "linecolor": "white",
            "ticks": ""
           },
           "bgcolor": "#E5ECF6",
           "caxis": {
            "gridcolor": "white",
            "linecolor": "white",
            "ticks": ""
           }
          },
          "title": {
           "x": 0.05
          },
          "xaxis": {
           "automargin": true,
           "gridcolor": "white",
           "linecolor": "white",
           "ticks": "",
           "title": {
            "standoff": 15
           },
           "zerolinecolor": "white",
           "zerolinewidth": 2
          },
          "yaxis": {
           "automargin": true,
           "gridcolor": "white",
           "linecolor": "white",
           "ticks": "",
           "title": {
            "standoff": 15
           },
           "zerolinecolor": "white",
           "zerolinewidth": 2
          }
         }
        },
        "title": {
         "text": "AAPL Stock Prices"
        },
        "xaxis": {
         "anchor": "y",
         "domain": [
          0,
          1
         ],
         "title": {
          "text": "Datetime"
         }
        },
        "yaxis": {
         "anchor": "x",
         "domain": [
          0,
          1
         ],
         "title": {
          "text": "Close"
         }
        }
       }
      },
      "text/html": [
       "<div>                            <div id=\"031c73f7-18b6-4dcf-9c47-a894528fb1f8\" class=\"plotly-graph-div\" style=\"height:525px; width:100%;\"></div>            <script type=\"text/javascript\">                require([\"plotly\"], function(Plotly) {                    window.PLOTLYENV=window.PLOTLYENV || {};                                    if (document.getElementById(\"031c73f7-18b6-4dcf-9c47-a894528fb1f8\")) {                    Plotly.newPlot(                        \"031c73f7-18b6-4dcf-9c47-a894528fb1f8\",                        [{\"hovertemplate\":\"Datetime=%{x}<br>Close=%{y}<extra></extra>\",\"legendgroup\":\"\",\"line\":{\"color\":\"#636efa\",\"dash\":\"solid\"},\"marker\":{\"symbol\":\"circle\"},\"mode\":\"lines\",\"name\":\"\",\"orientation\":\"v\",\"showlegend\":false,\"x\":[\"2024-06-06T09:30:00-04:00\",\"2024-06-06T09:31:00-04:00\",\"2024-06-06T09:32:00-04:00\",\"2024-06-06T09:33:00-04:00\",\"2024-06-06T09:34:00-04:00\",\"2024-06-06T09:35:00-04:00\",\"2024-06-06T09:36:00-04:00\",\"2024-06-06T09:37:00-04:00\",\"2024-06-06T09:38:00-04:00\",\"2024-06-06T09:39:00-04:00\",\"2024-06-06T09:40:00-04:00\",\"2024-06-06T09:41:00-04:00\",\"2024-06-06T09:42:00-04:00\",\"2024-06-06T09:43:00-04:00\",\"2024-06-06T09:44:00-04:00\",\"2024-06-06T09:45:00-04:00\",\"2024-06-06T09:46:00-04:00\",\"2024-06-06T09:47:00-04:00\",\"2024-06-06T09:48:00-04:00\",\"2024-06-06T09:49:00-04:00\",\"2024-06-06T09:50:00-04:00\",\"2024-06-06T09:51:00-04:00\",\"2024-06-06T09:52:00-04:00\",\"2024-06-06T09:53:00-04:00\",\"2024-06-06T09:54:00-04:00\",\"2024-06-06T09:55:00-04:00\",\"2024-06-06T09:56:00-04:00\",\"2024-06-06T09:57:00-04:00\",\"2024-06-06T09:58:00-04:00\",\"2024-06-06T09:59:00-04:00\",\"2024-06-06T10:00:00-04:00\",\"2024-06-06T10:01:00-04:00\",\"2024-06-06T10:02:00-04:00\",\"2024-06-06T10:03:00-04:00\",\"2024-06-06T10:04:00-04:00\",\"2024-06-06T10:05:00-04:00\",\"2024-06-06T10:06:00-04:00\",\"2024-06-06T10:07:00-04:00\",\"2024-06-06T10:08:00-04:00\",\"2024-06-06T10:09:00-04:00\",\"2024-06-06T10:10:00-04:00\",\"2024-06-06T10:11:00-04:00\",\"2024-06-06T10:12:00-04:00\",\"2024-06-06T10:13:00-04:00\",\"2024-06-06T10:14:00-04:00\",\"2024-06-06T10:15:00-04:00\",\"2024-06-06T10:16:00-04:00\",\"2024-06-06T10:17:00-04:00\",\"2024-06-06T10:18:00-04:00\",\"2024-06-06T10:19:00-04:00\",\"2024-06-06T10:20:00-04:00\",\"2024-06-06T10:21:00-04:00\",\"2024-06-06T10:22:00-04:00\",\"2024-06-06T10:23:00-04:00\",\"2024-06-06T10:24:00-04:00\",\"2024-06-06T10:25:00-04:00\",\"2024-06-06T10:26:00-04:00\",\"2024-06-06T10:27:00-04:00\",\"2024-06-06T10:28:00-04:00\",\"2024-06-06T10:29:00-04:00\",\"2024-06-06T10:30:00-04:00\",\"2024-06-06T10:31:00-04:00\",\"2024-06-06T10:32:00-04:00\",\"2024-06-06T10:33:00-04:00\",\"2024-06-06T10:34:00-04:00\",\"2024-06-06T10:35:00-04:00\",\"2024-06-06T10:36:00-04:00\",\"2024-06-06T10:37:00-04:00\",\"2024-06-06T10:38:00-04:00\",\"2024-06-06T10:39:00-04:00\",\"2024-06-06T10:40:00-04:00\",\"2024-06-06T10:41:00-04:00\",\"2024-06-06T10:42:00-04:00\",\"2024-06-06T10:43:00-04:00\",\"2024-06-06T10:44:00-04:00\",\"2024-06-06T10:45:00-04:00\",\"2024-06-06T10:46:00-04:00\",\"2024-06-06T10:47:00-04:00\",\"2024-06-06T10:48:00-04:00\",\"2024-06-06T10:49:00-04:00\",\"2024-06-06T10:50:00-04:00\",\"2024-06-06T10:51:00-04:00\",\"2024-06-06T10:52:00-04:00\",\"2024-06-06T10:53:00-04:00\",\"2024-06-06T10:54:00-04:00\",\"2024-06-06T10:55:00-04:00\",\"2024-06-06T10:56:00-04:00\",\"2024-06-06T10:57:00-04:00\",\"2024-06-06T10:58:00-04:00\",\"2024-06-06T10:59:00-04:00\",\"2024-06-06T11:00:00-04:00\",\"2024-06-06T11:01:00-04:00\",\"2024-06-06T11:02:00-04:00\",\"2024-06-06T11:03:00-04:00\",\"2024-06-06T11:04:00-04:00\",\"2024-06-06T11:05:00-04:00\",\"2024-06-06T11:06:00-04:00\",\"2024-06-06T11:07:00-04:00\",\"2024-06-06T11:08:00-04:00\",\"2024-06-06T11:09:00-04:00\",\"2024-06-06T11:10:00-04:00\",\"2024-06-06T11:11:00-04:00\",\"2024-06-06T11:12:00-04:00\",\"2024-06-06T11:13:00-04:00\",\"2024-06-06T11:14:00-04:00\",\"2024-06-06T11:15:00-04:00\",\"2024-06-06T11:16:00-04:00\",\"2024-06-06T11:17:00-04:00\",\"2024-06-06T11:18:00-04:00\",\"2024-06-06T11:19:00-04:00\",\"2024-06-06T11:20:00-04:00\",\"2024-06-06T11:21:00-04:00\",\"2024-06-06T11:22:00-04:00\",\"2024-06-06T11:23:00-04:00\",\"2024-06-06T11:24:00-04:00\",\"2024-06-06T11:25:00-04:00\",\"2024-06-06T11:26:00-04:00\",\"2024-06-06T11:27:00-04:00\",\"2024-06-06T11:28:00-04:00\",\"2024-06-06T11:29:00-04:00\",\"2024-06-06T11:30:00-04:00\",\"2024-06-06T11:31:00-04:00\",\"2024-06-06T11:32:00-04:00\",\"2024-06-06T11:33:00-04:00\",\"2024-06-06T11:34:00-04:00\",\"2024-06-06T11:35:00-04:00\",\"2024-06-06T11:36:00-04:00\",\"2024-06-06T11:37:00-04:00\",\"2024-06-06T11:38:00-04:00\",\"2024-06-06T11:39:00-04:00\",\"2024-06-06T11:40:00-04:00\",\"2024-06-06T11:41:00-04:00\",\"2024-06-06T11:42:00-04:00\",\"2024-06-06T11:43:00-04:00\",\"2024-06-06T11:44:00-04:00\",\"2024-06-06T11:45:00-04:00\",\"2024-06-06T11:46:00-04:00\",\"2024-06-06T11:47:00-04:00\",\"2024-06-06T11:48:00-04:00\",\"2024-06-06T11:49:00-04:00\",\"2024-06-06T11:50:00-04:00\",\"2024-06-06T11:51:00-04:00\",\"2024-06-06T11:52:00-04:00\",\"2024-06-06T11:53:00-04:00\",\"2024-06-06T11:54:00-04:00\",\"2024-06-06T11:55:00-04:00\",\"2024-06-06T11:56:00-04:00\",\"2024-06-06T11:57:00-04:00\",\"2024-06-06T11:58:00-04:00\",\"2024-06-06T11:59:00-04:00\",\"2024-06-06T12:00:00-04:00\",\"2024-06-06T12:01:00-04:00\",\"2024-06-06T12:02:00-04:00\",\"2024-06-06T12:03:00-04:00\",\"2024-06-06T12:04:00-04:00\",\"2024-06-06T12:05:00-04:00\",\"2024-06-06T12:06:00-04:00\",\"2024-06-06T12:07:00-04:00\",\"2024-06-06T12:08:00-04:00\",\"2024-06-06T12:09:00-04:00\",\"2024-06-06T12:10:00-04:00\",\"2024-06-06T12:11:00-04:00\",\"2024-06-06T12:12:00-04:00\",\"2024-06-06T12:13:00-04:00\",\"2024-06-06T12:14:00-04:00\",\"2024-06-06T12:15:00-04:00\",\"2024-06-06T12:16:00-04:00\",\"2024-06-06T12:17:00-04:00\",\"2024-06-06T12:18:00-04:00\",\"2024-06-06T12:19:00-04:00\",\"2024-06-06T12:20:00-04:00\",\"2024-06-06T12:21:00-04:00\",\"2024-06-06T12:22:00-04:00\",\"2024-06-06T12:23:00-04:00\",\"2024-06-06T12:24:00-04:00\",\"2024-06-06T12:25:00-04:00\",\"2024-06-06T12:26:00-04:00\",\"2024-06-06T12:27:00-04:00\",\"2024-06-06T12:28:00-04:00\",\"2024-06-06T12:29:00-04:00\",\"2024-06-06T12:30:00-04:00\",\"2024-06-06T12:31:00-04:00\",\"2024-06-06T12:32:00-04:00\",\"2024-06-06T12:33:00-04:00\",\"2024-06-06T12:34:00-04:00\",\"2024-06-06T12:35:00-04:00\",\"2024-06-06T12:36:00-04:00\",\"2024-06-06T12:37:00-04:00\",\"2024-06-06T12:38:00-04:00\",\"2024-06-06T12:39:00-04:00\",\"2024-06-06T12:40:00-04:00\",\"2024-06-06T12:41:00-04:00\",\"2024-06-06T12:42:00-04:00\",\"2024-06-06T12:43:00-04:00\",\"2024-06-06T12:44:00-04:00\",\"2024-06-06T12:45:00-04:00\",\"2024-06-06T12:46:00-04:00\",\"2024-06-06T12:47:00-04:00\",\"2024-06-06T12:48:00-04:00\",\"2024-06-06T12:49:00-04:00\",\"2024-06-06T12:50:00-04:00\",\"2024-06-06T12:51:00-04:00\",\"2024-06-06T12:52:00-04:00\",\"2024-06-06T12:53:00-04:00\",\"2024-06-06T12:54:00-04:00\",\"2024-06-06T12:55:00-04:00\",\"2024-06-06T12:56:00-04:00\",\"2024-06-06T12:57:00-04:00\",\"2024-06-06T12:58:00-04:00\",\"2024-06-06T12:59:00-04:00\",\"2024-06-06T13:00:00-04:00\",\"2024-06-06T13:01:00-04:00\",\"2024-06-06T13:02:00-04:00\",\"2024-06-06T13:03:00-04:00\",\"2024-06-06T13:04:00-04:00\",\"2024-06-06T13:05:00-04:00\",\"2024-06-06T13:06:00-04:00\",\"2024-06-06T13:07:00-04:00\",\"2024-06-06T13:08:00-04:00\",\"2024-06-06T13:09:00-04:00\",\"2024-06-06T13:10:00-04:00\",\"2024-06-06T13:11:00-04:00\",\"2024-06-06T13:12:00-04:00\",\"2024-06-06T13:13:00-04:00\",\"2024-06-06T13:14:00-04:00\",\"2024-06-06T13:15:00-04:00\",\"2024-06-06T13:16:00-04:00\",\"2024-06-06T13:17:00-04:00\",\"2024-06-06T13:18:00-04:00\",\"2024-06-06T13:19:00-04:00\",\"2024-06-06T13:20:00-04:00\",\"2024-06-06T13:21:00-04:00\",\"2024-06-06T13:22:00-04:00\",\"2024-06-06T13:23:00-04:00\",\"2024-06-06T13:24:00-04:00\",\"2024-06-06T13:25:00-04:00\",\"2024-06-06T13:26:00-04:00\",\"2024-06-06T13:27:00-04:00\",\"2024-06-06T13:28:00-04:00\",\"2024-06-06T13:29:00-04:00\",\"2024-06-06T13:30:00-04:00\",\"2024-06-06T13:31:00-04:00\",\"2024-06-06T13:32:00-04:00\",\"2024-06-06T13:33:00-04:00\",\"2024-06-06T13:34:00-04:00\",\"2024-06-06T13:35:00-04:00\",\"2024-06-06T13:36:00-04:00\",\"2024-06-06T13:37:00-04:00\",\"2024-06-06T13:38:00-04:00\",\"2024-06-06T13:39:00-04:00\",\"2024-06-06T13:40:00-04:00\",\"2024-06-06T13:41:00-04:00\",\"2024-06-06T13:42:00-04:00\",\"2024-06-06T13:43:00-04:00\",\"2024-06-06T13:44:00-04:00\",\"2024-06-06T13:45:00-04:00\",\"2024-06-06T13:46:00-04:00\",\"2024-06-06T13:47:00-04:00\",\"2024-06-06T13:48:00-04:00\",\"2024-06-06T13:49:00-04:00\",\"2024-06-06T13:50:00-04:00\",\"2024-06-06T13:51:00-04:00\",\"2024-06-06T13:52:00-04:00\",\"2024-06-06T13:53:00-04:00\",\"2024-06-06T13:54:00-04:00\",\"2024-06-06T13:55:00-04:00\",\"2024-06-06T13:56:00-04:00\",\"2024-06-06T13:57:00-04:00\",\"2024-06-06T13:58:00-04:00\",\"2024-06-06T13:59:00-04:00\",\"2024-06-06T14:00:00-04:00\",\"2024-06-06T14:01:00-04:00\",\"2024-06-06T14:02:00-04:00\",\"2024-06-06T14:03:00-04:00\",\"2024-06-06T14:04:00-04:00\",\"2024-06-06T14:05:00-04:00\",\"2024-06-06T14:06:00-04:00\",\"2024-06-06T14:07:00-04:00\",\"2024-06-06T14:08:00-04:00\",\"2024-06-06T14:09:00-04:00\",\"2024-06-06T14:10:00-04:00\",\"2024-06-06T14:11:00-04:00\",\"2024-06-06T14:12:00-04:00\",\"2024-06-06T14:13:00-04:00\",\"2024-06-06T14:14:00-04:00\",\"2024-06-06T14:15:00-04:00\",\"2024-06-06T14:16:00-04:00\",\"2024-06-06T14:17:00-04:00\",\"2024-06-06T14:18:00-04:00\",\"2024-06-06T14:19:00-04:00\",\"2024-06-06T14:20:00-04:00\",\"2024-06-06T14:21:00-04:00\",\"2024-06-06T14:22:00-04:00\",\"2024-06-06T14:23:00-04:00\",\"2024-06-06T14:24:00-04:00\",\"2024-06-06T14:25:00-04:00\",\"2024-06-06T14:26:00-04:00\",\"2024-06-06T14:27:00-04:00\",\"2024-06-06T14:28:00-04:00\",\"2024-06-06T14:29:00-04:00\",\"2024-06-06T14:30:00-04:00\",\"2024-06-06T14:31:00-04:00\",\"2024-06-06T14:32:00-04:00\",\"2024-06-06T14:33:00-04:00\",\"2024-06-06T14:34:00-04:00\",\"2024-06-06T14:35:00-04:00\",\"2024-06-06T14:36:00-04:00\",\"2024-06-06T14:37:00-04:00\",\"2024-06-06T14:38:00-04:00\",\"2024-06-06T14:39:00-04:00\",\"2024-06-06T14:40:00-04:00\",\"2024-06-06T14:41:00-04:00\",\"2024-06-06T14:42:00-04:00\",\"2024-06-06T14:43:00-04:00\",\"2024-06-06T14:44:00-04:00\",\"2024-06-06T14:45:00-04:00\",\"2024-06-06T14:46:00-04:00\",\"2024-06-06T14:47:00-04:00\",\"2024-06-06T14:48:00-04:00\",\"2024-06-06T14:49:00-04:00\",\"2024-06-06T14:50:00-04:00\",\"2024-06-06T14:51:00-04:00\",\"2024-06-06T14:52:00-04:00\",\"2024-06-06T14:53:00-04:00\",\"2024-06-06T14:54:00-04:00\",\"2024-06-06T14:55:00-04:00\",\"2024-06-06T14:56:00-04:00\",\"2024-06-06T14:57:00-04:00\",\"2024-06-06T14:58:00-04:00\",\"2024-06-06T14:59:00-04:00\",\"2024-06-06T15:00:00-04:00\",\"2024-06-06T15:01:00-04:00\",\"2024-06-06T15:02:00-04:00\",\"2024-06-06T15:03:00-04:00\",\"2024-06-06T15:04:00-04:00\",\"2024-06-06T15:05:00-04:00\",\"2024-06-06T15:06:00-04:00\",\"2024-06-06T15:07:00-04:00\",\"2024-06-06T15:08:00-04:00\",\"2024-06-06T15:09:00-04:00\",\"2024-06-06T15:10:00-04:00\",\"2024-06-06T15:11:00-04:00\",\"2024-06-06T15:12:00-04:00\",\"2024-06-06T15:13:00-04:00\",\"2024-06-06T15:14:00-04:00\",\"2024-06-06T15:15:00-04:00\",\"2024-06-06T15:16:00-04:00\",\"2024-06-06T15:17:00-04:00\",\"2024-06-06T15:18:00-04:00\",\"2024-06-06T15:19:00-04:00\",\"2024-06-06T15:20:00-04:00\",\"2024-06-06T15:21:00-04:00\",\"2024-06-06T15:22:00-04:00\",\"2024-06-06T15:23:00-04:00\",\"2024-06-06T15:24:00-04:00\",\"2024-06-06T15:25:00-04:00\",\"2024-06-06T15:26:00-04:00\",\"2024-06-06T15:27:00-04:00\",\"2024-06-06T15:28:00-04:00\",\"2024-06-06T15:29:00-04:00\",\"2024-06-06T15:30:00-04:00\",\"2024-06-06T15:31:00-04:00\",\"2024-06-06T15:32:00-04:00\",\"2024-06-06T15:33:00-04:00\",\"2024-06-06T15:34:00-04:00\",\"2024-06-06T15:35:00-04:00\",\"2024-06-06T15:36:00-04:00\",\"2024-06-06T15:37:00-04:00\",\"2024-06-06T15:38:00-04:00\",\"2024-06-06T15:39:00-04:00\",\"2024-06-06T15:40:00-04:00\",\"2024-06-06T15:41:00-04:00\",\"2024-06-06T15:42:00-04:00\",\"2024-06-06T15:43:00-04:00\",\"2024-06-06T15:44:00-04:00\",\"2024-06-06T15:45:00-04:00\",\"2024-06-06T15:46:00-04:00\",\"2024-06-06T15:47:00-04:00\",\"2024-06-06T15:48:00-04:00\",\"2024-06-06T15:49:00-04:00\",\"2024-06-06T15:50:00-04:00\",\"2024-06-06T15:51:00-04:00\",\"2024-06-06T15:52:00-04:00\",\"2024-06-06T15:53:00-04:00\",\"2024-06-06T15:54:00-04:00\",\"2024-06-06T15:55:00-04:00\",\"2024-06-06T15:56:00-04:00\",\"2024-06-06T15:57:00-04:00\",\"2024-06-06T15:58:00-04:00\",\"2024-06-06T15:59:00-04:00\"],\"xaxis\":\"x\",\"y\":[196.1300048828125,196.25999450683594,196.1082000732422,195.89999389648438,195.77000427246094,195.48680114746094,195.5760955810547,195.52999877929688,195.52999877929688,195.52000427246094,195.21499633789062,195.47999572753906,195.5500030517578,195.63360595703125,195.69000244140625,195.59219360351562,195.57000732421875,195.54049682617188,195.8000030517578,195.74000549316406,195.7799072265625,195.66409301757812,195.63999938964844,195.64999389648438,195.7050018310547,195.74000549316406,195.82000732421875,195.89999389648438,195.97000122070312,196.110107421875,196.2050018310547,196.14500427246094,195.93499755859375,196.08999633789062,196.02499389648438,195.83999633789062,195.75999450683594,195.75999450683594,195.66000366210938,195.7100067138672,195.83999633789062,195.9600067138672,195.97000122070312,196.05999755859375,196.1699981689453,196.26499938964844,196.3350067138672,196.35890197753906,196.2899932861328,196.25999450683594,196.27999877929688,196.25999450683594,196.47000122070312,196.44000244140625,196.210205078125,196.0500030517578,195.85000610351562,195.89999389648438,196.00999450683594,195.9199981689453,195.89999389648438,195.9149932861328,195.7899932861328,195.6999969482422,195.60499572753906,195.73500061035156,195.7899932861328,195.8300018310547,195.75,195.72000122070312,195.8000030517578,195.86000061035156,195.7899932861328,195.80999755859375,195.76499938964844,195.74000549316406,195.72999572753906,195.65789794921875,195.5299072265625,195.54510498046875,195.4600067138672,195.5800018310547,195.63999938964844,195.625,195.72979736328125,195.83999633789062,195.92999267578125,195.8300018310547,195.74000549316406,195.75,195.63999938964844,195.6999969482422,195.72000122070312,195.74000549316406,195.6876983642578,195.67230224609375,195.72500610351562,195.6999969482422,195.65499877929688,195.71499633789062,195.69500732421875,195.66000366210938,195.6199951171875,195.7449951171875,195.8000030517578,195.83999633789062,195.84500122070312,195.72999572753906,195.6649932861328,195.63009643554688,195.7050018310547,195.78500366210938,195.72000122070312,195.7541046142578,195.74000549316406,195.8249969482422,195.81500244140625,195.7899932861328,195.81500244140625,195.8350067138672,195.72500610351562,195.75,195.69000244140625,195.75160217285156,195.77000427246094,195.72999572753906,195.67799377441406,195.72999572753906,195.68499755859375,195.72000122070312,195.66000366210938,195.6300048828125,195.61000061035156,195.60130310058594,195.61000061035156,195.60499572753906,195.6300048828125,195.63999938964844,195.65499877929688,195.58810424804688,195.51499938964844,195.47999572753906,195.41000366210938,195.42999267578125,195.4199981689453,195.4499969482422,195.49000549316406,195.5699005126953,195.49000549316406,195.52999877929688,195.45419311523438,195.47000122070312,195.48789978027344,195.47999572753906,195.49000549316406,195.52000427246094,195.51539611816406,195.56500244140625,195.56849670410156,195.5601043701172,195.59860229492188,195.6750030517578,195.69000244140625,195.64100646972656,195.58999633789062,195.5399932861328,195.67999267578125,195.6750030517578,195.69500732421875,195.78500366210938,195.75999450683594,195.72000122070312,195.7440948486328,195.72000122070312,195.6750030517578,195.69500732421875,195.68499755859375,195.62989807128906,195.68499755859375,195.6699981689453,195.6699981689453,195.6999969482422,195.64999389648438,195.6300048828125,195.66000366210938,195.6999969482422,195.66000366210938,195.69500732421875,195.67999267578125,195.64999389648438,195.62969970703125,195.7050018310547,195.66969299316406,195.66000366210938,195.63999938964844,195.67999267578125,195.64999389648438,195.64999389648438,195.67999267578125,195.66000366210938,195.6649932861328,195.69500732421875,195.7100067138672,195.7100067138672,195.69500732421875,195.75,195.72000122070312,195.7449951171875,195.84500122070312,195.97000122070312,195.93099975585938,195.90989685058594,195.9499969482422,195.9499969482422,195.9550018310547,196.0,195.9949951171875,196.06979370117188,196.05999755859375,196.0500030517578,195.9550018310547,195.90499877929688,195.83999633789062,195.86500549316406,195.8350067138672,195.76499938964844,195.7799072265625,195.75,195.7550048828125,195.66000366210938,195.5399932861328,195.53500366210938,195.5399932861328,195.4976043701172,195.52499389648438,195.59849548339844,195.61000061035156,195.61000061035156,195.6199951171875,195.6479949951172,195.6300048828125,195.6898956298828,195.71499633789062,195.65499877929688,195.6199951171875,195.5800018310547,195.59500122070312,195.60000610351562,195.5749969482422,195.58999633789062,195.6466064453125,195.67999267578125,195.68499755859375,195.625,195.6298065185547,195.6199951171875,195.61000061035156,195.5749969482422,195.61000061035156,195.61500549316406,195.58999633789062,195.5850067138672,195.5749969482422,195.53500366210938,195.6280975341797,195.53500366210938,195.48500061035156,195.48500061035156,195.47830200195312,195.47500610351562,195.5449981689453,195.51499938964844,195.52000427246094,195.47000122070312,195.45249938964844,195.47999572753906,195.3583984375,195.2384033203125,195.14999389648438,194.99000549316406,195.10000610351562,195.06849670410156,195.0800018310547,195.23500061035156,195.3040008544922,195.28500366210938,195.30999755859375,195.3300018310547,195.38499450683594,195.41000366210938,195.35000610351562,195.4149932861328,195.52999877929688,195.5399932861328,195.5299072265625,195.49000549316406,195.49000549316406,195.50900268554688,195.52499389648438,195.54449462890625,195.4600067138672,195.3800048828125,195.44000244140625,195.4365997314453,195.4550018310547,195.35000610351562,195.3699951171875,195.35830688476562,195.30499267578125,195.2449951171875,195.22999572753906,195.26010131835938,195.25999450683594,195.25010681152344,195.24000549316406,195.25999450683594,195.27499389648438,195.25999450683594,195.27499389648438,195.27000427246094,195.30499267578125,195.27999877929688,195.35499572753906,195.3957977294922,195.3632049560547,195.38499450683594,195.35000610351562,195.2899932861328,195.27499389648438,195.24000549316406,195.22999572753906,195.25,195.22999572753906,195.23500061035156,195.21499633789062,195.23500061035156,195.27999877929688,195.3459014892578,195.29629516601562,195.27000427246094,195.2501983642578,195.19000244140625,195.1199951171875,195.0800018310547,195.05999755859375,195.1649932861328,195.2050018310547,195.22000122070312,195.30999755859375,195.35000610351562,195.2949981689453,195.2100067138672,195.24000549316406,195.2812957763672,195.25250244140625,195.28500366210938,195.23500061035156,195.23500061035156,195.28500366210938,195.39300537109375,195.44000244140625,195.3800048828125,195.39500427246094,195.35499572753906,195.2550048828125,195.16000366210938,195.13499450683594,195.13999938964844,195.2100067138672,195.1300048828125,195.05999755859375,195.0449981689453,195.01499938964844,194.99000549316406,194.9949951171875,195.02780151367188,195.0,195.07000732421875,195.10000610351562,195.0850067138672,194.85499572753906,194.55999755859375,194.40499877929688,194.45989990234375,194.30999755859375,194.32000732421875,194.1750030517578,194.41000366210938,194.34500122070312,194.47999572753906],\"yaxis\":\"y\",\"type\":\"scatter\"}],                        {\"template\":{\"data\":{\"histogram2dcontour\":[{\"type\":\"histogram2dcontour\",\"colorbar\":{\"outlinewidth\":0,\"ticks\":\"\"},\"colorscale\":[[0.0,\"#0d0887\"],[0.1111111111111111,\"#46039f\"],[0.2222222222222222,\"#7201a8\"],[0.3333333333333333,\"#9c179e\"],[0.4444444444444444,\"#bd3786\"],[0.5555555555555556,\"#d8576b\"],[0.6666666666666666,\"#ed7953\"],[0.7777777777777778,\"#fb9f3a\"],[0.8888888888888888,\"#fdca26\"],[1.0,\"#f0f921\"]]}],\"choropleth\":[{\"type\":\"choropleth\",\"colorbar\":{\"outlinewidth\":0,\"ticks\":\"\"}}],\"histogram2d\":[{\"type\":\"histogram2d\",\"colorbar\":{\"outlinewidth\":0,\"ticks\":\"\"},\"colorscale\":[[0.0,\"#0d0887\"],[0.1111111111111111,\"#46039f\"],[0.2222222222222222,\"#7201a8\"],[0.3333333333333333,\"#9c179e\"],[0.4444444444444444,\"#bd3786\"],[0.5555555555555556,\"#d8576b\"],[0.6666666666666666,\"#ed7953\"],[0.7777777777777778,\"#fb9f3a\"],[0.8888888888888888,\"#fdca26\"],[1.0,\"#f0f921\"]]}],\"heatmap\":[{\"type\":\"heatmap\",\"colorbar\":{\"outlinewidth\":0,\"ticks\":\"\"},\"colorscale\":[[0.0,\"#0d0887\"],[0.1111111111111111,\"#46039f\"],[0.2222222222222222,\"#7201a8\"],[0.3333333333333333,\"#9c179e\"],[0.4444444444444444,\"#bd3786\"],[0.5555555555555556,\"#d8576b\"],[0.6666666666666666,\"#ed7953\"],[0.7777777777777778,\"#fb9f3a\"],[0.8888888888888888,\"#fdca26\"],[1.0,\"#f0f921\"]]}],\"heatmapgl\":[{\"type\":\"heatmapgl\",\"colorbar\":{\"outlinewidth\":0,\"ticks\":\"\"},\"colorscale\":[[0.0,\"#0d0887\"],[0.1111111111111111,\"#46039f\"],[0.2222222222222222,\"#7201a8\"],[0.3333333333333333,\"#9c179e\"],[0.4444444444444444,\"#bd3786\"],[0.5555555555555556,\"#d8576b\"],[0.6666666666666666,\"#ed7953\"],[0.7777777777777778,\"#fb9f3a\"],[0.8888888888888888,\"#fdca26\"],[1.0,\"#f0f921\"]]}],\"contourcarpet\":[{\"type\":\"contourcarpet\",\"colorbar\":{\"outlinewidth\":0,\"ticks\":\"\"}}],\"contour\":[{\"type\":\"contour\",\"colorbar\":{\"outlinewidth\":0,\"ticks\":\"\"},\"colorscale\":[[0.0,\"#0d0887\"],[0.1111111111111111,\"#46039f\"],[0.2222222222222222,\"#7201a8\"],[0.3333333333333333,\"#9c179e\"],[0.4444444444444444,\"#bd3786\"],[0.5555555555555556,\"#d8576b\"],[0.6666666666666666,\"#ed7953\"],[0.7777777777777778,\"#fb9f3a\"],[0.8888888888888888,\"#fdca26\"],[1.0,\"#f0f921\"]]}],\"surface\":[{\"type\":\"surface\",\"colorbar\":{\"outlinewidth\":0,\"ticks\":\"\"},\"colorscale\":[[0.0,\"#0d0887\"],[0.1111111111111111,\"#46039f\"],[0.2222222222222222,\"#7201a8\"],[0.3333333333333333,\"#9c179e\"],[0.4444444444444444,\"#bd3786\"],[0.5555555555555556,\"#d8576b\"],[0.6666666666666666,\"#ed7953\"],[0.7777777777777778,\"#fb9f3a\"],[0.8888888888888888,\"#fdca26\"],[1.0,\"#f0f921\"]]}],\"mesh3d\":[{\"type\":\"mesh3d\",\"colorbar\":{\"outlinewidth\":0,\"ticks\":\"\"}}],\"scatter\":[{\"fillpattern\":{\"fillmode\":\"overlay\",\"size\":10,\"solidity\":0.2},\"type\":\"scatter\"}],\"parcoords\":[{\"type\":\"parcoords\",\"line\":{\"colorbar\":{\"outlinewidth\":0,\"ticks\":\"\"}}}],\"scatterpolargl\":[{\"type\":\"scatterpolargl\",\"marker\":{\"colorbar\":{\"outlinewidth\":0,\"ticks\":\"\"}}}],\"bar\":[{\"error_x\":{\"color\":\"#2a3f5f\"},\"error_y\":{\"color\":\"#2a3f5f\"},\"marker\":{\"line\":{\"color\":\"#E5ECF6\",\"width\":0.5},\"pattern\":{\"fillmode\":\"overlay\",\"size\":10,\"solidity\":0.2}},\"type\":\"bar\"}],\"scattergeo\":[{\"type\":\"scattergeo\",\"marker\":{\"colorbar\":{\"outlinewidth\":0,\"ticks\":\"\"}}}],\"scatterpolar\":[{\"type\":\"scatterpolar\",\"marker\":{\"colorbar\":{\"outlinewidth\":0,\"ticks\":\"\"}}}],\"histogram\":[{\"marker\":{\"pattern\":{\"fillmode\":\"overlay\",\"size\":10,\"solidity\":0.2}},\"type\":\"histogram\"}],\"scattergl\":[{\"type\":\"scattergl\",\"marker\":{\"colorbar\":{\"outlinewidth\":0,\"ticks\":\"\"}}}],\"scatter3d\":[{\"type\":\"scatter3d\",\"line\":{\"colorbar\":{\"outlinewidth\":0,\"ticks\":\"\"}},\"marker\":{\"colorbar\":{\"outlinewidth\":0,\"ticks\":\"\"}}}],\"scattermapbox\":[{\"type\":\"scattermapbox\",\"marker\":{\"colorbar\":{\"outlinewidth\":0,\"ticks\":\"\"}}}],\"scatterternary\":[{\"type\":\"scatterternary\",\"marker\":{\"colorbar\":{\"outlinewidth\":0,\"ticks\":\"\"}}}],\"scattercarpet\":[{\"type\":\"scattercarpet\",\"marker\":{\"colorbar\":{\"outlinewidth\":0,\"ticks\":\"\"}}}],\"carpet\":[{\"aaxis\":{\"endlinecolor\":\"#2a3f5f\",\"gridcolor\":\"white\",\"linecolor\":\"white\",\"minorgridcolor\":\"white\",\"startlinecolor\":\"#2a3f5f\"},\"baxis\":{\"endlinecolor\":\"#2a3f5f\",\"gridcolor\":\"white\",\"linecolor\":\"white\",\"minorgridcolor\":\"white\",\"startlinecolor\":\"#2a3f5f\"},\"type\":\"carpet\"}],\"table\":[{\"cells\":{\"fill\":{\"color\":\"#EBF0F8\"},\"line\":{\"color\":\"white\"}},\"header\":{\"fill\":{\"color\":\"#C8D4E3\"},\"line\":{\"color\":\"white\"}},\"type\":\"table\"}],\"barpolar\":[{\"marker\":{\"line\":{\"color\":\"#E5ECF6\",\"width\":0.5},\"pattern\":{\"fillmode\":\"overlay\",\"size\":10,\"solidity\":0.2}},\"type\":\"barpolar\"}],\"pie\":[{\"automargin\":true,\"type\":\"pie\"}]},\"layout\":{\"autotypenumbers\":\"strict\",\"colorway\":[\"#636efa\",\"#EF553B\",\"#00cc96\",\"#ab63fa\",\"#FFA15A\",\"#19d3f3\",\"#FF6692\",\"#B6E880\",\"#FF97FF\",\"#FECB52\"],\"font\":{\"color\":\"#2a3f5f\"},\"hovermode\":\"closest\",\"hoverlabel\":{\"align\":\"left\"},\"paper_bgcolor\":\"white\",\"plot_bgcolor\":\"#E5ECF6\",\"polar\":{\"bgcolor\":\"#E5ECF6\",\"angularaxis\":{\"gridcolor\":\"white\",\"linecolor\":\"white\",\"ticks\":\"\"},\"radialaxis\":{\"gridcolor\":\"white\",\"linecolor\":\"white\",\"ticks\":\"\"}},\"ternary\":{\"bgcolor\":\"#E5ECF6\",\"aaxis\":{\"gridcolor\":\"white\",\"linecolor\":\"white\",\"ticks\":\"\"},\"baxis\":{\"gridcolor\":\"white\",\"linecolor\":\"white\",\"ticks\":\"\"},\"caxis\":{\"gridcolor\":\"white\",\"linecolor\":\"white\",\"ticks\":\"\"}},\"coloraxis\":{\"colorbar\":{\"outlinewidth\":0,\"ticks\":\"\"}},\"colorscale\":{\"sequential\":[[0.0,\"#0d0887\"],[0.1111111111111111,\"#46039f\"],[0.2222222222222222,\"#7201a8\"],[0.3333333333333333,\"#9c179e\"],[0.4444444444444444,\"#bd3786\"],[0.5555555555555556,\"#d8576b\"],[0.6666666666666666,\"#ed7953\"],[0.7777777777777778,\"#fb9f3a\"],[0.8888888888888888,\"#fdca26\"],[1.0,\"#f0f921\"]],\"sequentialminus\":[[0.0,\"#0d0887\"],[0.1111111111111111,\"#46039f\"],[0.2222222222222222,\"#7201a8\"],[0.3333333333333333,\"#9c179e\"],[0.4444444444444444,\"#bd3786\"],[0.5555555555555556,\"#d8576b\"],[0.6666666666666666,\"#ed7953\"],[0.7777777777777778,\"#fb9f3a\"],[0.8888888888888888,\"#fdca26\"],[1.0,\"#f0f921\"]],\"diverging\":[[0,\"#8e0152\"],[0.1,\"#c51b7d\"],[0.2,\"#de77ae\"],[0.3,\"#f1b6da\"],[0.4,\"#fde0ef\"],[0.5,\"#f7f7f7\"],[0.6,\"#e6f5d0\"],[0.7,\"#b8e186\"],[0.8,\"#7fbc41\"],[0.9,\"#4d9221\"],[1,\"#276419\"]]},\"xaxis\":{\"gridcolor\":\"white\",\"linecolor\":\"white\",\"ticks\":\"\",\"title\":{\"standoff\":15},\"zerolinecolor\":\"white\",\"automargin\":true,\"zerolinewidth\":2},\"yaxis\":{\"gridcolor\":\"white\",\"linecolor\":\"white\",\"ticks\":\"\",\"title\":{\"standoff\":15},\"zerolinecolor\":\"white\",\"automargin\":true,\"zerolinewidth\":2},\"scene\":{\"xaxis\":{\"backgroundcolor\":\"#E5ECF6\",\"gridcolor\":\"white\",\"linecolor\":\"white\",\"showbackground\":true,\"ticks\":\"\",\"zerolinecolor\":\"white\",\"gridwidth\":2},\"yaxis\":{\"backgroundcolor\":\"#E5ECF6\",\"gridcolor\":\"white\",\"linecolor\":\"white\",\"showbackground\":true,\"ticks\":\"\",\"zerolinecolor\":\"white\",\"gridwidth\":2},\"zaxis\":{\"backgroundcolor\":\"#E5ECF6\",\"gridcolor\":\"white\",\"linecolor\":\"white\",\"showbackground\":true,\"ticks\":\"\",\"zerolinecolor\":\"white\",\"gridwidth\":2}},\"shapedefaults\":{\"line\":{\"color\":\"#2a3f5f\"}},\"annotationdefaults\":{\"arrowcolor\":\"#2a3f5f\",\"arrowhead\":0,\"arrowwidth\":1},\"geo\":{\"bgcolor\":\"white\",\"landcolor\":\"#E5ECF6\",\"subunitcolor\":\"white\",\"showland\":true,\"showlakes\":true,\"lakecolor\":\"white\"},\"title\":{\"x\":0.05},\"mapbox\":{\"style\":\"light\"}}},\"xaxis\":{\"anchor\":\"y\",\"domain\":[0.0,1.0],\"title\":{\"text\":\"Datetime\"}},\"yaxis\":{\"anchor\":\"x\",\"domain\":[0.0,1.0],\"title\":{\"text\":\"Close\"}},\"legend\":{\"tracegroupgap\":0},\"title\":{\"text\":\"AAPL Stock Prices\"}},                        {\"responsive\": true}                    ).then(function(){\n",
       "                            \n",
       "var gd = document.getElementById('031c73f7-18b6-4dcf-9c47-a894528fb1f8');\n",
       "var x = new MutationObserver(function (mutations, observer) {{\n",
       "        var display = window.getComputedStyle(gd).display;\n",
       "        if (!display || display === 'none') {{\n",
       "            console.log([gd, 'removed!']);\n",
       "            Plotly.purge(gd);\n",
       "            observer.disconnect();\n",
       "        }}\n",
       "}});\n",
       "\n",
       "// Listen for the removal of the full notebook cells\n",
       "var notebookContainer = gd.closest('#notebook-container');\n",
       "if (notebookContainer) {{\n",
       "    x.observe(notebookContainer, {childList: true});\n",
       "}}\n",
       "\n",
       "// Listen for the clearing of the current output cell\n",
       "var outputEl = gd.closest('.output');\n",
       "if (outputEl) {{\n",
       "    x.observe(outputEl, {childList: true});\n",
       "}}\n",
       "\n",
       "                        })                };                });            </script>        </div>"
      ]
     },
     "metadata": {},
     "output_type": "display_data"
    },
    {
     "name": "stdout",
     "output_type": "stream",
     "text": [
      "How many previous data points should our model look at?\n",
      "(Type 'Exit' to quit)\n",
      "30\n"
     ]
    },
    {
     "data": {
      "application/vnd.plotly.v1+json": {
       "config": {
        "plotlyServerURL": "https://plot.ly"
       },
       "data": [
        {
         "hovertemplate": "variable=SMA_24<br>Datetime=%{x}<br>value=%{y}<extra></extra>",
         "legendgroup": "SMA_24",
         "line": {
          "color": "#85deb1",
          "dash": "solid"
         },
         "marker": {
          "symbol": "circle"
         },
         "mode": "lines",
         "name": "SMA_24",
         "showlegend": true,
         "type": "scattergl",
         "x": [
          "2024-06-06T09:30:00-04:00",
          "2024-06-06T09:31:00-04:00",
          "2024-06-06T09:32:00-04:00",
          "2024-06-06T09:33:00-04:00",
          "2024-06-06T09:34:00-04:00",
          "2024-06-06T09:35:00-04:00",
          "2024-06-06T09:36:00-04:00",
          "2024-06-06T09:37:00-04:00",
          "2024-06-06T09:38:00-04:00",
          "2024-06-06T09:39:00-04:00",
          "2024-06-06T09:40:00-04:00",
          "2024-06-06T09:41:00-04:00",
          "2024-06-06T09:42:00-04:00",
          "2024-06-06T09:43:00-04:00",
          "2024-06-06T09:44:00-04:00",
          "2024-06-06T09:45:00-04:00",
          "2024-06-06T09:46:00-04:00",
          "2024-06-06T09:47:00-04:00",
          "2024-06-06T09:48:00-04:00",
          "2024-06-06T09:49:00-04:00",
          "2024-06-06T09:50:00-04:00",
          "2024-06-06T09:51:00-04:00",
          "2024-06-06T09:52:00-04:00",
          "2024-06-06T09:53:00-04:00",
          "2024-06-06T09:54:00-04:00",
          "2024-06-06T09:55:00-04:00",
          "2024-06-06T09:56:00-04:00",
          "2024-06-06T09:57:00-04:00",
          "2024-06-06T09:58:00-04:00",
          "2024-06-06T09:59:00-04:00",
          "2024-06-06T10:00:00-04:00",
          "2024-06-06T10:01:00-04:00",
          "2024-06-06T10:02:00-04:00",
          "2024-06-06T10:03:00-04:00",
          "2024-06-06T10:04:00-04:00",
          "2024-06-06T10:05:00-04:00",
          "2024-06-06T10:06:00-04:00",
          "2024-06-06T10:07:00-04:00",
          "2024-06-06T10:08:00-04:00",
          "2024-06-06T10:09:00-04:00",
          "2024-06-06T10:10:00-04:00",
          "2024-06-06T10:11:00-04:00",
          "2024-06-06T10:12:00-04:00",
          "2024-06-06T10:13:00-04:00",
          "2024-06-06T10:14:00-04:00",
          "2024-06-06T10:15:00-04:00",
          "2024-06-06T10:16:00-04:00",
          "2024-06-06T10:17:00-04:00",
          "2024-06-06T10:18:00-04:00",
          "2024-06-06T10:19:00-04:00",
          "2024-06-06T10:20:00-04:00",
          "2024-06-06T10:21:00-04:00",
          "2024-06-06T10:22:00-04:00",
          "2024-06-06T10:23:00-04:00",
          "2024-06-06T10:24:00-04:00",
          "2024-06-06T10:25:00-04:00",
          "2024-06-06T10:26:00-04:00",
          "2024-06-06T10:27:00-04:00",
          "2024-06-06T10:28:00-04:00",
          "2024-06-06T10:29:00-04:00",
          "2024-06-06T10:30:00-04:00",
          "2024-06-06T10:31:00-04:00",
          "2024-06-06T10:32:00-04:00",
          "2024-06-06T10:33:00-04:00",
          "2024-06-06T10:34:00-04:00",
          "2024-06-06T10:35:00-04:00",
          "2024-06-06T10:36:00-04:00",
          "2024-06-06T10:37:00-04:00",
          "2024-06-06T10:38:00-04:00",
          "2024-06-06T10:39:00-04:00",
          "2024-06-06T10:40:00-04:00",
          "2024-06-06T10:41:00-04:00",
          "2024-06-06T10:42:00-04:00",
          "2024-06-06T10:43:00-04:00",
          "2024-06-06T10:44:00-04:00",
          "2024-06-06T10:45:00-04:00",
          "2024-06-06T10:46:00-04:00",
          "2024-06-06T10:47:00-04:00",
          "2024-06-06T10:48:00-04:00",
          "2024-06-06T10:49:00-04:00",
          "2024-06-06T10:50:00-04:00",
          "2024-06-06T10:51:00-04:00",
          "2024-06-06T10:52:00-04:00",
          "2024-06-06T10:53:00-04:00",
          "2024-06-06T10:54:00-04:00",
          "2024-06-06T10:55:00-04:00",
          "2024-06-06T10:56:00-04:00",
          "2024-06-06T10:57:00-04:00",
          "2024-06-06T10:58:00-04:00",
          "2024-06-06T10:59:00-04:00",
          "2024-06-06T11:00:00-04:00",
          "2024-06-06T11:01:00-04:00",
          "2024-06-06T11:02:00-04:00",
          "2024-06-06T11:03:00-04:00",
          "2024-06-06T11:04:00-04:00",
          "2024-06-06T11:05:00-04:00",
          "2024-06-06T11:06:00-04:00",
          "2024-06-06T11:07:00-04:00",
          "2024-06-06T11:08:00-04:00",
          "2024-06-06T11:09:00-04:00",
          "2024-06-06T11:10:00-04:00",
          "2024-06-06T11:11:00-04:00",
          "2024-06-06T11:12:00-04:00",
          "2024-06-06T11:13:00-04:00",
          "2024-06-06T11:14:00-04:00",
          "2024-06-06T11:15:00-04:00",
          "2024-06-06T11:16:00-04:00",
          "2024-06-06T11:17:00-04:00",
          "2024-06-06T11:18:00-04:00",
          "2024-06-06T11:19:00-04:00",
          "2024-06-06T11:20:00-04:00",
          "2024-06-06T11:21:00-04:00",
          "2024-06-06T11:22:00-04:00",
          "2024-06-06T11:23:00-04:00",
          "2024-06-06T11:24:00-04:00",
          "2024-06-06T11:25:00-04:00",
          "2024-06-06T11:26:00-04:00",
          "2024-06-06T11:27:00-04:00",
          "2024-06-06T11:28:00-04:00",
          "2024-06-06T11:29:00-04:00",
          "2024-06-06T11:30:00-04:00",
          "2024-06-06T11:31:00-04:00",
          "2024-06-06T11:32:00-04:00",
          "2024-06-06T11:33:00-04:00",
          "2024-06-06T11:34:00-04:00",
          "2024-06-06T11:35:00-04:00",
          "2024-06-06T11:36:00-04:00",
          "2024-06-06T11:37:00-04:00",
          "2024-06-06T11:38:00-04:00",
          "2024-06-06T11:39:00-04:00",
          "2024-06-06T11:40:00-04:00",
          "2024-06-06T11:41:00-04:00",
          "2024-06-06T11:42:00-04:00",
          "2024-06-06T11:43:00-04:00",
          "2024-06-06T11:44:00-04:00",
          "2024-06-06T11:45:00-04:00",
          "2024-06-06T11:46:00-04:00",
          "2024-06-06T11:47:00-04:00",
          "2024-06-06T11:48:00-04:00",
          "2024-06-06T11:49:00-04:00",
          "2024-06-06T11:50:00-04:00",
          "2024-06-06T11:51:00-04:00",
          "2024-06-06T11:52:00-04:00",
          "2024-06-06T11:53:00-04:00",
          "2024-06-06T11:54:00-04:00",
          "2024-06-06T11:55:00-04:00",
          "2024-06-06T11:56:00-04:00",
          "2024-06-06T11:57:00-04:00",
          "2024-06-06T11:58:00-04:00",
          "2024-06-06T11:59:00-04:00",
          "2024-06-06T12:00:00-04:00",
          "2024-06-06T12:01:00-04:00",
          "2024-06-06T12:02:00-04:00",
          "2024-06-06T12:03:00-04:00",
          "2024-06-06T12:04:00-04:00",
          "2024-06-06T12:05:00-04:00",
          "2024-06-06T12:06:00-04:00",
          "2024-06-06T12:07:00-04:00",
          "2024-06-06T12:08:00-04:00",
          "2024-06-06T12:09:00-04:00",
          "2024-06-06T12:10:00-04:00",
          "2024-06-06T12:11:00-04:00",
          "2024-06-06T12:12:00-04:00",
          "2024-06-06T12:13:00-04:00",
          "2024-06-06T12:14:00-04:00",
          "2024-06-06T12:15:00-04:00",
          "2024-06-06T12:16:00-04:00",
          "2024-06-06T12:17:00-04:00",
          "2024-06-06T12:18:00-04:00",
          "2024-06-06T12:19:00-04:00",
          "2024-06-06T12:20:00-04:00",
          "2024-06-06T12:21:00-04:00",
          "2024-06-06T12:22:00-04:00",
          "2024-06-06T12:23:00-04:00",
          "2024-06-06T12:24:00-04:00",
          "2024-06-06T12:25:00-04:00",
          "2024-06-06T12:26:00-04:00",
          "2024-06-06T12:27:00-04:00",
          "2024-06-06T12:28:00-04:00",
          "2024-06-06T12:29:00-04:00",
          "2024-06-06T12:30:00-04:00",
          "2024-06-06T12:31:00-04:00",
          "2024-06-06T12:32:00-04:00",
          "2024-06-06T12:33:00-04:00",
          "2024-06-06T12:34:00-04:00",
          "2024-06-06T12:35:00-04:00",
          "2024-06-06T12:36:00-04:00",
          "2024-06-06T12:37:00-04:00",
          "2024-06-06T12:38:00-04:00",
          "2024-06-06T12:39:00-04:00",
          "2024-06-06T12:40:00-04:00",
          "2024-06-06T12:41:00-04:00",
          "2024-06-06T12:42:00-04:00",
          "2024-06-06T12:43:00-04:00",
          "2024-06-06T12:44:00-04:00",
          "2024-06-06T12:45:00-04:00",
          "2024-06-06T12:46:00-04:00",
          "2024-06-06T12:47:00-04:00",
          "2024-06-06T12:48:00-04:00",
          "2024-06-06T12:49:00-04:00",
          "2024-06-06T12:50:00-04:00",
          "2024-06-06T12:51:00-04:00",
          "2024-06-06T12:52:00-04:00",
          "2024-06-06T12:53:00-04:00",
          "2024-06-06T12:54:00-04:00",
          "2024-06-06T12:55:00-04:00",
          "2024-06-06T12:56:00-04:00",
          "2024-06-06T12:57:00-04:00",
          "2024-06-06T12:58:00-04:00",
          "2024-06-06T12:59:00-04:00",
          "2024-06-06T13:00:00-04:00",
          "2024-06-06T13:01:00-04:00",
          "2024-06-06T13:02:00-04:00",
          "2024-06-06T13:03:00-04:00",
          "2024-06-06T13:04:00-04:00",
          "2024-06-06T13:05:00-04:00",
          "2024-06-06T13:06:00-04:00",
          "2024-06-06T13:07:00-04:00",
          "2024-06-06T13:08:00-04:00",
          "2024-06-06T13:09:00-04:00",
          "2024-06-06T13:10:00-04:00",
          "2024-06-06T13:11:00-04:00",
          "2024-06-06T13:12:00-04:00",
          "2024-06-06T13:13:00-04:00",
          "2024-06-06T13:14:00-04:00",
          "2024-06-06T13:15:00-04:00",
          "2024-06-06T13:16:00-04:00",
          "2024-06-06T13:17:00-04:00",
          "2024-06-06T13:18:00-04:00",
          "2024-06-06T13:19:00-04:00",
          "2024-06-06T13:20:00-04:00",
          "2024-06-06T13:21:00-04:00",
          "2024-06-06T13:22:00-04:00",
          "2024-06-06T13:23:00-04:00",
          "2024-06-06T13:24:00-04:00",
          "2024-06-06T13:25:00-04:00",
          "2024-06-06T13:26:00-04:00",
          "2024-06-06T13:27:00-04:00",
          "2024-06-06T13:28:00-04:00",
          "2024-06-06T13:29:00-04:00",
          "2024-06-06T13:30:00-04:00",
          "2024-06-06T13:31:00-04:00",
          "2024-06-06T13:32:00-04:00",
          "2024-06-06T13:33:00-04:00",
          "2024-06-06T13:34:00-04:00",
          "2024-06-06T13:35:00-04:00",
          "2024-06-06T13:36:00-04:00",
          "2024-06-06T13:37:00-04:00",
          "2024-06-06T13:38:00-04:00",
          "2024-06-06T13:39:00-04:00",
          "2024-06-06T13:40:00-04:00",
          "2024-06-06T13:41:00-04:00",
          "2024-06-06T13:42:00-04:00",
          "2024-06-06T13:43:00-04:00",
          "2024-06-06T13:44:00-04:00",
          "2024-06-06T13:45:00-04:00",
          "2024-06-06T13:46:00-04:00",
          "2024-06-06T13:47:00-04:00",
          "2024-06-06T13:48:00-04:00",
          "2024-06-06T13:49:00-04:00",
          "2024-06-06T13:50:00-04:00",
          "2024-06-06T13:51:00-04:00",
          "2024-06-06T13:52:00-04:00",
          "2024-06-06T13:53:00-04:00",
          "2024-06-06T13:54:00-04:00",
          "2024-06-06T13:55:00-04:00",
          "2024-06-06T13:56:00-04:00",
          "2024-06-06T13:57:00-04:00",
          "2024-06-06T13:58:00-04:00",
          "2024-06-06T13:59:00-04:00",
          "2024-06-06T14:00:00-04:00",
          "2024-06-06T14:01:00-04:00",
          "2024-06-06T14:02:00-04:00",
          "2024-06-06T14:03:00-04:00",
          "2024-06-06T14:04:00-04:00",
          "2024-06-06T14:05:00-04:00",
          "2024-06-06T14:06:00-04:00",
          "2024-06-06T14:07:00-04:00",
          "2024-06-06T14:08:00-04:00",
          "2024-06-06T14:09:00-04:00",
          "2024-06-06T14:10:00-04:00",
          "2024-06-06T14:11:00-04:00",
          "2024-06-06T14:12:00-04:00",
          "2024-06-06T14:13:00-04:00",
          "2024-06-06T14:14:00-04:00",
          "2024-06-06T14:15:00-04:00",
          "2024-06-06T14:16:00-04:00",
          "2024-06-06T14:17:00-04:00",
          "2024-06-06T14:18:00-04:00",
          "2024-06-06T14:19:00-04:00",
          "2024-06-06T14:20:00-04:00",
          "2024-06-06T14:21:00-04:00",
          "2024-06-06T14:22:00-04:00",
          "2024-06-06T14:23:00-04:00",
          "2024-06-06T14:24:00-04:00",
          "2024-06-06T14:25:00-04:00",
          "2024-06-06T14:26:00-04:00",
          "2024-06-06T14:27:00-04:00",
          "2024-06-06T14:28:00-04:00",
          "2024-06-06T14:29:00-04:00",
          "2024-06-06T14:30:00-04:00",
          "2024-06-06T14:31:00-04:00",
          "2024-06-06T14:32:00-04:00",
          "2024-06-06T14:33:00-04:00",
          "2024-06-06T14:34:00-04:00",
          "2024-06-06T14:35:00-04:00",
          "2024-06-06T14:36:00-04:00",
          "2024-06-06T14:37:00-04:00",
          "2024-06-06T14:38:00-04:00",
          "2024-06-06T14:39:00-04:00",
          "2024-06-06T14:40:00-04:00",
          "2024-06-06T14:41:00-04:00",
          "2024-06-06T14:42:00-04:00",
          "2024-06-06T14:43:00-04:00",
          "2024-06-06T14:44:00-04:00",
          "2024-06-06T14:45:00-04:00",
          "2024-06-06T14:46:00-04:00",
          "2024-06-06T14:47:00-04:00",
          "2024-06-06T14:48:00-04:00",
          "2024-06-06T14:49:00-04:00",
          "2024-06-06T14:50:00-04:00",
          "2024-06-06T14:51:00-04:00",
          "2024-06-06T14:52:00-04:00",
          "2024-06-06T14:53:00-04:00",
          "2024-06-06T14:54:00-04:00",
          "2024-06-06T14:55:00-04:00",
          "2024-06-06T14:56:00-04:00",
          "2024-06-06T14:57:00-04:00",
          "2024-06-06T14:58:00-04:00",
          "2024-06-06T14:59:00-04:00",
          "2024-06-06T15:00:00-04:00",
          "2024-06-06T15:01:00-04:00",
          "2024-06-06T15:02:00-04:00",
          "2024-06-06T15:03:00-04:00",
          "2024-06-06T15:04:00-04:00",
          "2024-06-06T15:05:00-04:00",
          "2024-06-06T15:06:00-04:00",
          "2024-06-06T15:07:00-04:00",
          "2024-06-06T15:08:00-04:00",
          "2024-06-06T15:09:00-04:00",
          "2024-06-06T15:10:00-04:00",
          "2024-06-06T15:11:00-04:00",
          "2024-06-06T15:12:00-04:00",
          "2024-06-06T15:13:00-04:00",
          "2024-06-06T15:14:00-04:00",
          "2024-06-06T15:15:00-04:00",
          "2024-06-06T15:16:00-04:00",
          "2024-06-06T15:17:00-04:00",
          "2024-06-06T15:18:00-04:00",
          "2024-06-06T15:19:00-04:00",
          "2024-06-06T15:20:00-04:00",
          "2024-06-06T15:21:00-04:00",
          "2024-06-06T15:22:00-04:00",
          "2024-06-06T15:23:00-04:00",
          "2024-06-06T15:24:00-04:00",
          "2024-06-06T15:25:00-04:00",
          "2024-06-06T15:26:00-04:00",
          "2024-06-06T15:27:00-04:00",
          "2024-06-06T15:28:00-04:00",
          "2024-06-06T15:29:00-04:00",
          "2024-06-06T15:30:00-04:00",
          "2024-06-06T15:31:00-04:00",
          "2024-06-06T15:32:00-04:00",
          "2024-06-06T15:33:00-04:00",
          "2024-06-06T15:34:00-04:00",
          "2024-06-06T15:35:00-04:00",
          "2024-06-06T15:36:00-04:00",
          "2024-06-06T15:37:00-04:00",
          "2024-06-06T15:38:00-04:00",
          "2024-06-06T15:39:00-04:00",
          "2024-06-06T15:40:00-04:00",
          "2024-06-06T15:41:00-04:00",
          "2024-06-06T15:42:00-04:00",
          "2024-06-06T15:43:00-04:00",
          "2024-06-06T15:44:00-04:00",
          "2024-06-06T15:45:00-04:00",
          "2024-06-06T15:46:00-04:00",
          "2024-06-06T15:47:00-04:00",
          "2024-06-06T15:48:00-04:00",
          "2024-06-06T15:49:00-04:00",
          "2024-06-06T15:50:00-04:00",
          "2024-06-06T15:51:00-04:00",
          "2024-06-06T15:52:00-04:00",
          "2024-06-06T15:53:00-04:00",
          "2024-06-06T15:54:00-04:00",
          "2024-06-06T15:55:00-04:00",
          "2024-06-06T15:56:00-04:00",
          "2024-06-06T15:57:00-04:00",
          "2024-06-06T15:58:00-04:00",
          "2024-06-06T15:59:00-04:00"
         ],
         "xaxis": "x",
         "y": [
          196.1300048828125,
          196.1300048828125,
          196.13542111714682,
          196.1345125834147,
          196.12492879231772,
          196.10992876688638,
          196.08312861124674,
          196.06004905700684,
          196.0350488026937,
          196.01004854838052,
          195.98463185628256,
          195.94650650024414,
          195.91942278544107,
          195.89525604248047,
          195.87457275390625,
          195.85623931884766,
          195.8338305155436,
          195.81049728393555,
          195.7859344482422,
          195.77218437194824,
          195.75593439737955,
          195.7413469950358,
          195.72193400065103,
          195.70151710510254,
          195.68151664733887,
          195.66380818684897,
          195.64214197794595,
          195.63013394673666,
          195.63013394673666,
          195.63846715291342,
          195.66443824768066,
          195.690642674764,
          195.71626790364584,
          195.7331428527832,
          195.75689252217612,
          195.79064242045084,
          195.80564244588217,
          195.81439208984375,
          195.81965827941895,
          195.81840833028158,
          195.82331720987955,
          195.83456675211588,
          195.85204633076987,
          195.85912958780924,
          195.8724625905355,
          195.88871637980142,
          195.91375414530435,
          195.94271278381348,
          195.97225062052408,
          195.9966252644857,
          196.01829147338867,
          196.03745778401694,
          196.05245780944824,
          196.07329114278158,
          196.08703676859537,
          196.08725357055664,
          196.0832951863607,
          196.07975387573242,
          196.07183710734049,
          196.07121213277182,
          196.07454554239908,
          196.08037885030112,
          196.08683713277182,
          196.0922533671061,
          196.09183629353842,
          196.08204460144043,
          196.0726693471273,
          196.06516901652017,
          196.05558586120605,
          196.0380859375,
          196.0153776804606,
          195.99308586120605,
          195.9722983042399,
          195.95146497090658,
          195.93271509806314,
          195.91125679016113,
          195.88959058125815,
          195.85875701904297,
          195.8261693318685,
          195.79782358805338,
          195.77678616841635,
          195.76053619384766,
          195.74720319112143,
          195.73178672790527,
          195.71949513753256,
          195.71240361531576,
          195.70927874247232,
          195.71511205037436,
          195.72052892049155,
          195.72615432739258,
          195.72677930196127,
          195.7205295562744,
          195.71511268615723,
          195.71386273701987,
          195.7146962483724,
          195.71001688639322,
          195.70219612121582,
          195.6994883219401,
          195.69490496317545,
          195.6903216044108,
          195.6892795562744,
          195.68782170613608,
          195.6879094441732,
          195.69166310628256,
          195.69999186197916,
          195.71415837605795,
          195.72499148050943,
          195.73353322347006,
          195.73790804545084,
          195.73520787556967,
          195.72646204630533,
          195.71708742777506,
          195.715212504069,
          195.71437899271646,
          195.71455001831055,
          195.71871693929037,
          195.7239252726237,
          195.72788365681967,
          195.7299664815267,
          195.73527081807455,
          195.74205017089844,
          195.74205017089844,
          195.74413363138834,
          195.74559211730957,
          195.74711736043295,
          195.75024223327637,
          195.75315856933594,
          195.7555751800537,
          195.75495020548502,
          195.75015830993652,
          195.74515851338705,
          195.73745028177896,
          195.73328399658203,
          195.73099263509116,
          195.72979291280112,
          195.72583452860513,
          195.71833419799805,
          195.71458435058594,
          195.7098299662272,
          195.70628801981607,
          195.69641749064127,
          195.6839173634847,
          195.6710007985433,
          195.65412584940592,
          195.6372502644857,
          195.62454160054526,
          195.61204147338867,
          195.6037082672119,
          195.5961373647054,
          195.58447074890137,
          195.5761375427246,
          195.5668125152588,
          195.55597941080728,
          195.5477670033773,
          195.53776677449545,
          195.53068351745605,
          195.5261001586914,
          195.52215830485025,
          195.52064577738443,
          195.51891644795737,
          195.51704597473145,
          195.51573753356934,
          195.51719601949057,
          195.51865450541177,
          195.52085876464844,
          195.52398363749185,
          195.5264835357666,
          195.53773307800293,
          195.5479418436686,
          195.55940055847168,
          195.57335917154947,
          195.5846087137858,
          195.5908629099528,
          195.60144996643066,
          195.6093667348226,
          195.6185671488444,
          195.62794240315756,
          195.63615481058756,
          195.64240074157715,
          195.65052541097006,
          195.6567751566569,
          195.6632169087728,
          195.66884167989096,
          195.67223739624023,
          195.67514991760254,
          195.677708307902,
          195.67874972025552,
          195.67749977111816,
          195.67974980672201,
          195.68349965413412,
          195.68808301289877,
          195.68598747253418,
          195.68723742167154,
          195.6861826578776,
          195.68097432454428,
          195.67597452799478,
          195.6743075052897,
          195.67038663228354,
          195.66746966044107,
          195.66767756144205,
          195.66621907552084,
          195.6653855641683,
          195.66809844970703,
          195.66914049784342,
          195.6708075205485,
          195.6718495686849,
          195.6739330291748,
          195.67685000101724,
          195.68164126078287,
          195.68934949239096,
          195.70059967041016,
          195.7118911743164,
          195.7208449045817,
          195.73209508260092,
          195.74459520975748,
          195.75814946492514,
          195.77044105529785,
          195.78399531046549,
          195.80106989542642,
          195.81856981913248,
          195.8339869181315,
          195.84669558207193,
          195.85732078552246,
          195.863987604777,
          195.87252934773764,
          195.8796132405599,
          195.88252957661948,
          195.88544209798178,
          195.88710848490396,
          195.8896083831787,
          195.8858585357666,
          195.87835820515951,
          195.8696085611979,
          195.85689989725748,
          195.83721669514975,
          195.82029978434244,
          195.8073247273763,
          195.79315821329752,
          195.77899169921875,
          195.76503308614096,
          195.7503662109375,
          195.73515828450522,
          195.7193291982015,
          195.70495414733887,
          195.68849563598633,
          195.67453702290854,
          195.66099548339844,
          195.65078735351562,
          195.63974571228027,
          195.6289119720459,
          195.62162017822266,
          195.6160659790039,
          195.61314900716147,
          195.610232035319,
          195.6087735493978,
          195.61251576741537,
          195.6160570780436,
          195.61897404988608,
          195.62219874064127,
          195.6257406870524,
          195.62642860412598,
          195.62559509277344,
          195.62455368041992,
          195.62267875671387,
          195.61797078450522,
          195.6178913116455,
          195.61143747965494,
          195.60185432434082,
          195.59477106730142,
          195.5888671875,
          195.5844923655192,
          195.5824089050293,
          195.57886695861816,
          195.5765755971273,
          195.5715758005778,
          195.5634880065918,
          195.55515480041504,
          195.5415465037028,
          195.52543830871582,
          195.50544611612955,
          195.4791965484619,
          195.45794677734375,
          195.43684260050455,
          195.41475931803384,
          195.39892578125,
          195.38700930277506,
          195.3745091756185,
          195.36346753438315,
          195.35492579142252,
          195.34479649861655,
          195.3395881652832,
          195.33396339416504,
          195.3310464223226,
          195.3332004547119,
          195.33590825398764,
          195.33527946472168,
          195.33423805236816,
          195.3329881032308,
          195.33461316426596,
          195.33763376871744,
          195.34032122294107,
          195.34455490112305,
          195.3504549662272,
          195.36253865559897,
          195.3811467488607,
          195.39593823750815,
          195.40766779581705,
          195.41975084940592,
          195.42488861083984,
          195.4249299367269,
          195.42326291402182,
          195.41992950439453,
          195.41701698303223,
          195.41180864969888,
          195.40514628092447,
          195.40056292215982,
          195.39410463968912,
          195.38347943623862,
          195.37181282043457,
          195.3611914316813,
          195.352024714152,
          195.34431584676108,
          195.33477401733398,
          195.3276907602946,
          195.32149505615234,
          195.3174616495768,
          195.3176695505778,
          195.31391970316568,
          195.30781110127768,
          195.30031077067056,
          195.29572741190592,
          195.2898941040039,
          195.28538131713867,
          195.28225644429526,
          195.2818400065104,
          195.28121503194174,
          195.28016916910806,
          195.2810026804606,
          195.2849941253662,
          195.2873395284017,
          195.2877566019694,
          195.2867234547933,
          195.28380711873373,
          195.27734883626303,
          195.2694320678711,
          195.25922393798828,
          195.2544320424398,
          195.24818229675293,
          195.24085744222006,
          195.23864046732584,
          195.2371826171875,
          195.23489061991373,
          195.23155784606934,
          195.230099995931,
          195.2318204243978,
          195.23275820414224,
          195.23421669006348,
          195.23442522684732,
          195.23442522684732,
          195.2373421986898,
          195.24392573038736,
          195.25059254964194,
          195.25201352437338,
          195.2561264038086,
          195.25966771443686,
          195.2598679860433,
          195.25861803690592,
          195.2592430114746,
          195.26174290974936,
          195.26799329121908,
          195.26653544108072,
          195.26049359639487,
          195.25320180257162,
          195.24091021219888,
          195.22591018676758,
          195.213410059611,
          195.20581817626953,
          195.1958179473877,
          195.1870142618815,
          195.18066024780273,
          195.17232704162598,
          195.15649350484213,
          195.12836837768555,
          195.09170150756836,
          195.0528221130371,
          195.00573857625326,
          194.96157201131186,
          194.91073862711588,
          194.871363957723,
          194.83344713846842
         ],
         "yaxis": "y"
        },
        {
         "hovertemplate": "variable=upper_boll_24<br>Datetime=%{x}<br>value=%{y}<extra></extra>",
         "legendgroup": "upper_boll_24",
         "line": {
          "color": "#b6d1c3",
          "dash": "dot"
         },
         "marker": {
          "symbol": "circle"
         },
         "mode": "lines",
         "name": "upper_boll_24",
         "showlegend": true,
         "type": "scattergl",
         "x": [
          "2024-06-06T09:30:00-04:00",
          "2024-06-06T09:31:00-04:00",
          "2024-06-06T09:32:00-04:00",
          "2024-06-06T09:33:00-04:00",
          "2024-06-06T09:34:00-04:00",
          "2024-06-06T09:35:00-04:00",
          "2024-06-06T09:36:00-04:00",
          "2024-06-06T09:37:00-04:00",
          "2024-06-06T09:38:00-04:00",
          "2024-06-06T09:39:00-04:00",
          "2024-06-06T09:40:00-04:00",
          "2024-06-06T09:41:00-04:00",
          "2024-06-06T09:42:00-04:00",
          "2024-06-06T09:43:00-04:00",
          "2024-06-06T09:44:00-04:00",
          "2024-06-06T09:45:00-04:00",
          "2024-06-06T09:46:00-04:00",
          "2024-06-06T09:47:00-04:00",
          "2024-06-06T09:48:00-04:00",
          "2024-06-06T09:49:00-04:00",
          "2024-06-06T09:50:00-04:00",
          "2024-06-06T09:51:00-04:00",
          "2024-06-06T09:52:00-04:00",
          "2024-06-06T09:53:00-04:00",
          "2024-06-06T09:54:00-04:00",
          "2024-06-06T09:55:00-04:00",
          "2024-06-06T09:56:00-04:00",
          "2024-06-06T09:57:00-04:00",
          "2024-06-06T09:58:00-04:00",
          "2024-06-06T09:59:00-04:00",
          "2024-06-06T10:00:00-04:00",
          "2024-06-06T10:01:00-04:00",
          "2024-06-06T10:02:00-04:00",
          "2024-06-06T10:03:00-04:00",
          "2024-06-06T10:04:00-04:00",
          "2024-06-06T10:05:00-04:00",
          "2024-06-06T10:06:00-04:00",
          "2024-06-06T10:07:00-04:00",
          "2024-06-06T10:08:00-04:00",
          "2024-06-06T10:09:00-04:00",
          "2024-06-06T10:10:00-04:00",
          "2024-06-06T10:11:00-04:00",
          "2024-06-06T10:12:00-04:00",
          "2024-06-06T10:13:00-04:00",
          "2024-06-06T10:14:00-04:00",
          "2024-06-06T10:15:00-04:00",
          "2024-06-06T10:16:00-04:00",
          "2024-06-06T10:17:00-04:00",
          "2024-06-06T10:18:00-04:00",
          "2024-06-06T10:19:00-04:00",
          "2024-06-06T10:20:00-04:00",
          "2024-06-06T10:21:00-04:00",
          "2024-06-06T10:22:00-04:00",
          "2024-06-06T10:23:00-04:00",
          "2024-06-06T10:24:00-04:00",
          "2024-06-06T10:25:00-04:00",
          "2024-06-06T10:26:00-04:00",
          "2024-06-06T10:27:00-04:00",
          "2024-06-06T10:28:00-04:00",
          "2024-06-06T10:29:00-04:00",
          "2024-06-06T10:30:00-04:00",
          "2024-06-06T10:31:00-04:00",
          "2024-06-06T10:32:00-04:00",
          "2024-06-06T10:33:00-04:00",
          "2024-06-06T10:34:00-04:00",
          "2024-06-06T10:35:00-04:00",
          "2024-06-06T10:36:00-04:00",
          "2024-06-06T10:37:00-04:00",
          "2024-06-06T10:38:00-04:00",
          "2024-06-06T10:39:00-04:00",
          "2024-06-06T10:40:00-04:00",
          "2024-06-06T10:41:00-04:00",
          "2024-06-06T10:42:00-04:00",
          "2024-06-06T10:43:00-04:00",
          "2024-06-06T10:44:00-04:00",
          "2024-06-06T10:45:00-04:00",
          "2024-06-06T10:46:00-04:00",
          "2024-06-06T10:47:00-04:00",
          "2024-06-06T10:48:00-04:00",
          "2024-06-06T10:49:00-04:00",
          "2024-06-06T10:50:00-04:00",
          "2024-06-06T10:51:00-04:00",
          "2024-06-06T10:52:00-04:00",
          "2024-06-06T10:53:00-04:00",
          "2024-06-06T10:54:00-04:00",
          "2024-06-06T10:55:00-04:00",
          "2024-06-06T10:56:00-04:00",
          "2024-06-06T10:57:00-04:00",
          "2024-06-06T10:58:00-04:00",
          "2024-06-06T10:59:00-04:00",
          "2024-06-06T11:00:00-04:00",
          "2024-06-06T11:01:00-04:00",
          "2024-06-06T11:02:00-04:00",
          "2024-06-06T11:03:00-04:00",
          "2024-06-06T11:04:00-04:00",
          "2024-06-06T11:05:00-04:00",
          "2024-06-06T11:06:00-04:00",
          "2024-06-06T11:07:00-04:00",
          "2024-06-06T11:08:00-04:00",
          "2024-06-06T11:09:00-04:00",
          "2024-06-06T11:10:00-04:00",
          "2024-06-06T11:11:00-04:00",
          "2024-06-06T11:12:00-04:00",
          "2024-06-06T11:13:00-04:00",
          "2024-06-06T11:14:00-04:00",
          "2024-06-06T11:15:00-04:00",
          "2024-06-06T11:16:00-04:00",
          "2024-06-06T11:17:00-04:00",
          "2024-06-06T11:18:00-04:00",
          "2024-06-06T11:19:00-04:00",
          "2024-06-06T11:20:00-04:00",
          "2024-06-06T11:21:00-04:00",
          "2024-06-06T11:22:00-04:00",
          "2024-06-06T11:23:00-04:00",
          "2024-06-06T11:24:00-04:00",
          "2024-06-06T11:25:00-04:00",
          "2024-06-06T11:26:00-04:00",
          "2024-06-06T11:27:00-04:00",
          "2024-06-06T11:28:00-04:00",
          "2024-06-06T11:29:00-04:00",
          "2024-06-06T11:30:00-04:00",
          "2024-06-06T11:31:00-04:00",
          "2024-06-06T11:32:00-04:00",
          "2024-06-06T11:33:00-04:00",
          "2024-06-06T11:34:00-04:00",
          "2024-06-06T11:35:00-04:00",
          "2024-06-06T11:36:00-04:00",
          "2024-06-06T11:37:00-04:00",
          "2024-06-06T11:38:00-04:00",
          "2024-06-06T11:39:00-04:00",
          "2024-06-06T11:40:00-04:00",
          "2024-06-06T11:41:00-04:00",
          "2024-06-06T11:42:00-04:00",
          "2024-06-06T11:43:00-04:00",
          "2024-06-06T11:44:00-04:00",
          "2024-06-06T11:45:00-04:00",
          "2024-06-06T11:46:00-04:00",
          "2024-06-06T11:47:00-04:00",
          "2024-06-06T11:48:00-04:00",
          "2024-06-06T11:49:00-04:00",
          "2024-06-06T11:50:00-04:00",
          "2024-06-06T11:51:00-04:00",
          "2024-06-06T11:52:00-04:00",
          "2024-06-06T11:53:00-04:00",
          "2024-06-06T11:54:00-04:00",
          "2024-06-06T11:55:00-04:00",
          "2024-06-06T11:56:00-04:00",
          "2024-06-06T11:57:00-04:00",
          "2024-06-06T11:58:00-04:00",
          "2024-06-06T11:59:00-04:00",
          "2024-06-06T12:00:00-04:00",
          "2024-06-06T12:01:00-04:00",
          "2024-06-06T12:02:00-04:00",
          "2024-06-06T12:03:00-04:00",
          "2024-06-06T12:04:00-04:00",
          "2024-06-06T12:05:00-04:00",
          "2024-06-06T12:06:00-04:00",
          "2024-06-06T12:07:00-04:00",
          "2024-06-06T12:08:00-04:00",
          "2024-06-06T12:09:00-04:00",
          "2024-06-06T12:10:00-04:00",
          "2024-06-06T12:11:00-04:00",
          "2024-06-06T12:12:00-04:00",
          "2024-06-06T12:13:00-04:00",
          "2024-06-06T12:14:00-04:00",
          "2024-06-06T12:15:00-04:00",
          "2024-06-06T12:16:00-04:00",
          "2024-06-06T12:17:00-04:00",
          "2024-06-06T12:18:00-04:00",
          "2024-06-06T12:19:00-04:00",
          "2024-06-06T12:20:00-04:00",
          "2024-06-06T12:21:00-04:00",
          "2024-06-06T12:22:00-04:00",
          "2024-06-06T12:23:00-04:00",
          "2024-06-06T12:24:00-04:00",
          "2024-06-06T12:25:00-04:00",
          "2024-06-06T12:26:00-04:00",
          "2024-06-06T12:27:00-04:00",
          "2024-06-06T12:28:00-04:00",
          "2024-06-06T12:29:00-04:00",
          "2024-06-06T12:30:00-04:00",
          "2024-06-06T12:31:00-04:00",
          "2024-06-06T12:32:00-04:00",
          "2024-06-06T12:33:00-04:00",
          "2024-06-06T12:34:00-04:00",
          "2024-06-06T12:35:00-04:00",
          "2024-06-06T12:36:00-04:00",
          "2024-06-06T12:37:00-04:00",
          "2024-06-06T12:38:00-04:00",
          "2024-06-06T12:39:00-04:00",
          "2024-06-06T12:40:00-04:00",
          "2024-06-06T12:41:00-04:00",
          "2024-06-06T12:42:00-04:00",
          "2024-06-06T12:43:00-04:00",
          "2024-06-06T12:44:00-04:00",
          "2024-06-06T12:45:00-04:00",
          "2024-06-06T12:46:00-04:00",
          "2024-06-06T12:47:00-04:00",
          "2024-06-06T12:48:00-04:00",
          "2024-06-06T12:49:00-04:00",
          "2024-06-06T12:50:00-04:00",
          "2024-06-06T12:51:00-04:00",
          "2024-06-06T12:52:00-04:00",
          "2024-06-06T12:53:00-04:00",
          "2024-06-06T12:54:00-04:00",
          "2024-06-06T12:55:00-04:00",
          "2024-06-06T12:56:00-04:00",
          "2024-06-06T12:57:00-04:00",
          "2024-06-06T12:58:00-04:00",
          "2024-06-06T12:59:00-04:00",
          "2024-06-06T13:00:00-04:00",
          "2024-06-06T13:01:00-04:00",
          "2024-06-06T13:02:00-04:00",
          "2024-06-06T13:03:00-04:00",
          "2024-06-06T13:04:00-04:00",
          "2024-06-06T13:05:00-04:00",
          "2024-06-06T13:06:00-04:00",
          "2024-06-06T13:07:00-04:00",
          "2024-06-06T13:08:00-04:00",
          "2024-06-06T13:09:00-04:00",
          "2024-06-06T13:10:00-04:00",
          "2024-06-06T13:11:00-04:00",
          "2024-06-06T13:12:00-04:00",
          "2024-06-06T13:13:00-04:00",
          "2024-06-06T13:14:00-04:00",
          "2024-06-06T13:15:00-04:00",
          "2024-06-06T13:16:00-04:00",
          "2024-06-06T13:17:00-04:00",
          "2024-06-06T13:18:00-04:00",
          "2024-06-06T13:19:00-04:00",
          "2024-06-06T13:20:00-04:00",
          "2024-06-06T13:21:00-04:00",
          "2024-06-06T13:22:00-04:00",
          "2024-06-06T13:23:00-04:00",
          "2024-06-06T13:24:00-04:00",
          "2024-06-06T13:25:00-04:00",
          "2024-06-06T13:26:00-04:00",
          "2024-06-06T13:27:00-04:00",
          "2024-06-06T13:28:00-04:00",
          "2024-06-06T13:29:00-04:00",
          "2024-06-06T13:30:00-04:00",
          "2024-06-06T13:31:00-04:00",
          "2024-06-06T13:32:00-04:00",
          "2024-06-06T13:33:00-04:00",
          "2024-06-06T13:34:00-04:00",
          "2024-06-06T13:35:00-04:00",
          "2024-06-06T13:36:00-04:00",
          "2024-06-06T13:37:00-04:00",
          "2024-06-06T13:38:00-04:00",
          "2024-06-06T13:39:00-04:00",
          "2024-06-06T13:40:00-04:00",
          "2024-06-06T13:41:00-04:00",
          "2024-06-06T13:42:00-04:00",
          "2024-06-06T13:43:00-04:00",
          "2024-06-06T13:44:00-04:00",
          "2024-06-06T13:45:00-04:00",
          "2024-06-06T13:46:00-04:00",
          "2024-06-06T13:47:00-04:00",
          "2024-06-06T13:48:00-04:00",
          "2024-06-06T13:49:00-04:00",
          "2024-06-06T13:50:00-04:00",
          "2024-06-06T13:51:00-04:00",
          "2024-06-06T13:52:00-04:00",
          "2024-06-06T13:53:00-04:00",
          "2024-06-06T13:54:00-04:00",
          "2024-06-06T13:55:00-04:00",
          "2024-06-06T13:56:00-04:00",
          "2024-06-06T13:57:00-04:00",
          "2024-06-06T13:58:00-04:00",
          "2024-06-06T13:59:00-04:00",
          "2024-06-06T14:00:00-04:00",
          "2024-06-06T14:01:00-04:00",
          "2024-06-06T14:02:00-04:00",
          "2024-06-06T14:03:00-04:00",
          "2024-06-06T14:04:00-04:00",
          "2024-06-06T14:05:00-04:00",
          "2024-06-06T14:06:00-04:00",
          "2024-06-06T14:07:00-04:00",
          "2024-06-06T14:08:00-04:00",
          "2024-06-06T14:09:00-04:00",
          "2024-06-06T14:10:00-04:00",
          "2024-06-06T14:11:00-04:00",
          "2024-06-06T14:12:00-04:00",
          "2024-06-06T14:13:00-04:00",
          "2024-06-06T14:14:00-04:00",
          "2024-06-06T14:15:00-04:00",
          "2024-06-06T14:16:00-04:00",
          "2024-06-06T14:17:00-04:00",
          "2024-06-06T14:18:00-04:00",
          "2024-06-06T14:19:00-04:00",
          "2024-06-06T14:20:00-04:00",
          "2024-06-06T14:21:00-04:00",
          "2024-06-06T14:22:00-04:00",
          "2024-06-06T14:23:00-04:00",
          "2024-06-06T14:24:00-04:00",
          "2024-06-06T14:25:00-04:00",
          "2024-06-06T14:26:00-04:00",
          "2024-06-06T14:27:00-04:00",
          "2024-06-06T14:28:00-04:00",
          "2024-06-06T14:29:00-04:00",
          "2024-06-06T14:30:00-04:00",
          "2024-06-06T14:31:00-04:00",
          "2024-06-06T14:32:00-04:00",
          "2024-06-06T14:33:00-04:00",
          "2024-06-06T14:34:00-04:00",
          "2024-06-06T14:35:00-04:00",
          "2024-06-06T14:36:00-04:00",
          "2024-06-06T14:37:00-04:00",
          "2024-06-06T14:38:00-04:00",
          "2024-06-06T14:39:00-04:00",
          "2024-06-06T14:40:00-04:00",
          "2024-06-06T14:41:00-04:00",
          "2024-06-06T14:42:00-04:00",
          "2024-06-06T14:43:00-04:00",
          "2024-06-06T14:44:00-04:00",
          "2024-06-06T14:45:00-04:00",
          "2024-06-06T14:46:00-04:00",
          "2024-06-06T14:47:00-04:00",
          "2024-06-06T14:48:00-04:00",
          "2024-06-06T14:49:00-04:00",
          "2024-06-06T14:50:00-04:00",
          "2024-06-06T14:51:00-04:00",
          "2024-06-06T14:52:00-04:00",
          "2024-06-06T14:53:00-04:00",
          "2024-06-06T14:54:00-04:00",
          "2024-06-06T14:55:00-04:00",
          "2024-06-06T14:56:00-04:00",
          "2024-06-06T14:57:00-04:00",
          "2024-06-06T14:58:00-04:00",
          "2024-06-06T14:59:00-04:00",
          "2024-06-06T15:00:00-04:00",
          "2024-06-06T15:01:00-04:00",
          "2024-06-06T15:02:00-04:00",
          "2024-06-06T15:03:00-04:00",
          "2024-06-06T15:04:00-04:00",
          "2024-06-06T15:05:00-04:00",
          "2024-06-06T15:06:00-04:00",
          "2024-06-06T15:07:00-04:00",
          "2024-06-06T15:08:00-04:00",
          "2024-06-06T15:09:00-04:00",
          "2024-06-06T15:10:00-04:00",
          "2024-06-06T15:11:00-04:00",
          "2024-06-06T15:12:00-04:00",
          "2024-06-06T15:13:00-04:00",
          "2024-06-06T15:14:00-04:00",
          "2024-06-06T15:15:00-04:00",
          "2024-06-06T15:16:00-04:00",
          "2024-06-06T15:17:00-04:00",
          "2024-06-06T15:18:00-04:00",
          "2024-06-06T15:19:00-04:00",
          "2024-06-06T15:20:00-04:00",
          "2024-06-06T15:21:00-04:00",
          "2024-06-06T15:22:00-04:00",
          "2024-06-06T15:23:00-04:00",
          "2024-06-06T15:24:00-04:00",
          "2024-06-06T15:25:00-04:00",
          "2024-06-06T15:26:00-04:00",
          "2024-06-06T15:27:00-04:00",
          "2024-06-06T15:28:00-04:00",
          "2024-06-06T15:29:00-04:00",
          "2024-06-06T15:30:00-04:00",
          "2024-06-06T15:31:00-04:00",
          "2024-06-06T15:32:00-04:00",
          "2024-06-06T15:33:00-04:00",
          "2024-06-06T15:34:00-04:00",
          "2024-06-06T15:35:00-04:00",
          "2024-06-06T15:36:00-04:00",
          "2024-06-06T15:37:00-04:00",
          "2024-06-06T15:38:00-04:00",
          "2024-06-06T15:39:00-04:00",
          "2024-06-06T15:40:00-04:00",
          "2024-06-06T15:41:00-04:00",
          "2024-06-06T15:42:00-04:00",
          "2024-06-06T15:43:00-04:00",
          "2024-06-06T15:44:00-04:00",
          "2024-06-06T15:45:00-04:00",
          "2024-06-06T15:46:00-04:00",
          "2024-06-06T15:47:00-04:00",
          "2024-06-06T15:48:00-04:00",
          "2024-06-06T15:49:00-04:00",
          "2024-06-06T15:50:00-04:00",
          "2024-06-06T15:51:00-04:00",
          "2024-06-06T15:52:00-04:00",
          "2024-06-06T15:53:00-04:00",
          "2024-06-06T15:54:00-04:00",
          "2024-06-06T15:55:00-04:00",
          "2024-06-06T15:56:00-04:00",
          "2024-06-06T15:57:00-04:00",
          "2024-06-06T15:58:00-04:00",
          "2024-06-06T15:59:00-04:00"
         ],
         "xaxis": "x",
         "y": [
          196.1300048828125,
          196.1300048828125,
          196.16195513803962,
          196.16160749495438,
          196.17996214395768,
          196.2008671203542,
          196.23928517349557,
          196.24689393379245,
          196.25013345313977,
          196.24734041796466,
          196.240461333629,
          196.24444441920798,
          196.2292612471302,
          196.21052724585644,
          196.190056717224,
          196.16900724831248,
          196.14539513203516,
          196.1198784758162,
          196.09223209797804,
          196.0696443193201,
          196.0434846310826,
          196.01776013115614,
          195.98594697634795,
          195.9511562033307,
          195.9139709487194,
          195.87590832296632,
          195.8133004944554,
          195.77531086646246,
          195.77531086646246,
          195.7971348689491,
          195.84649046598386,
          195.90228364097422,
          195.9442164114743,
          195.96169254793622,
          195.99185629226542,
          196.0013011101975,
          196.00577363601286,
          196.0073217040756,
          196.00913262255443,
          196.00887156167576,
          196.0091587804693,
          196.01240743528706,
          196.02007237742694,
          196.0284445781073,
          196.04456530926865,
          196.06987994057988,
          196.10382888096632,
          196.14198743725132,
          196.17866181833682,
          196.2046394704214,
          196.22549347388474,
          196.24678477580142,
          196.26438841874167,
          196.30076901147717,
          196.32648806906312,
          196.32681865023574,
          196.32264932061875,
          196.3220086701946,
          196.31683173034304,
          196.31635053631425,
          196.31693164193237,
          196.31646862249104,
          196.3157939336764,
          196.31202730105477,
          196.31237533734722,
          196.31886696435302,
          196.31880362671623,
          196.31723895288158,
          196.3121921059334,
          196.30079905576153,
          196.2811603974897,
          196.25327205859736,
          196.2216929653376,
          196.19395525597182,
          196.1675897686874,
          196.13634538516754,
          196.1044449262516,
          196.0366079533866,
          195.95878894315712,
          195.9167914941898,
          195.8938476167889,
          195.8930418763758,
          195.88115745586606,
          195.85504599853576,
          195.8377780264015,
          195.82432531596578,
          195.81623499418757,
          195.83017249917808,
          195.83788416602417,
          195.84093839070553,
          195.8416544236724,
          195.83589515174225,
          195.8281431290915,
          195.82665622662591,
          195.82761091965148,
          195.82156133055346,
          195.8092574773218,
          195.8050438013188,
          195.7978082223606,
          195.7924136259657,
          195.79096924897297,
          195.78915247010292,
          195.78921408016623,
          195.7884259200241,
          195.79208117398315,
          195.79291031343166,
          195.8023566850644,
          195.81240880833784,
          195.81333867787828,
          195.81208743808176,
          195.80284005028574,
          195.78002266318083,
          195.77524075573754,
          195.77418649503534,
          195.7744695750825,
          195.7766717916443,
          195.7856207215196,
          195.7923038651978,
          195.7955924659148,
          195.80245808494695,
          195.81079802144006,
          195.81079802144006,
          195.81230690385362,
          195.81213036990079,
          195.8133425968492,
          195.81566626274164,
          195.81588980571573,
          195.81391707552262,
          195.81349036712174,
          195.8095510271015,
          195.80163898680888,
          195.79231287204905,
          195.792371308786,
          195.79379297597484,
          195.79483941557092,
          195.7952023696947,
          195.79069337161286,
          195.78915161422867,
          195.78539880372767,
          195.7823714234329,
          195.77179395939157,
          195.76352977716462,
          195.75750411994687,
          195.75028099225074,
          195.73579105453774,
          195.73065018938485,
          195.72037543766152,
          195.7134672822675,
          195.7014271642161,
          195.68506556630263,
          195.67234098609708,
          195.66355874584545,
          195.64810486411554,
          195.63661807240834,
          195.61962083261628,
          195.6087685156488,
          195.60127597582502,
          195.59519333328157,
          195.5923339515636,
          195.58883413881475,
          195.5851373311571,
          195.5818364662934,
          195.5864661363069,
          195.59124131563505,
          195.59638980106558,
          195.6008021354519,
          195.6027827927855,
          195.61599031953085,
          195.6275032234454,
          195.63953569506438,
          195.66230202179545,
          195.67943046048697,
          195.6895439517797,
          195.70244298265985,
          195.7119497821861,
          195.71642090129856,
          195.72163361288855,
          195.72557800844305,
          195.72545046453354,
          195.72732068656276,
          195.7284170278014,
          195.72823855552488,
          195.73076277662116,
          195.73054560823957,
          195.72920410836525,
          195.72938264736374,
          195.73061865850894,
          195.72944714808327,
          195.7312150499178,
          195.73128829213204,
          195.72570280768602,
          195.72543390951412,
          195.726795789863,
          195.7258621445873,
          195.71490604984473,
          195.70641772562888,
          195.70329568217372,
          195.69564972753392,
          195.69071616412705,
          195.6910164961202,
          195.6888591280472,
          195.68766965173342,
          195.68983081928806,
          195.6922728837568,
          195.6953999232766,
          195.6969311737222,
          195.70318458767267,
          195.70708460638346,
          195.7132113105637,
          195.7348971987681,
          195.77382656020583,
          195.79829424641966,
          195.81610277212604,
          195.83770049438456,
          195.85755886511845,
          195.876132303156,
          195.89765191523344,
          195.9171942452209,
          195.9436203883098,
          195.96617750723468,
          195.9857558945118,
          195.99512106391683,
          196.00007187249517,
          196.0017459372196,
          196.00326634757394,
          196.00301645491243,
          196.00214944487553,
          196.00147594201374,
          196.00077637676372,
          195.9994635209288,
          196.00204014667796,
          196.0104355601853,
          196.01697546738149,
          196.01890574536546,
          196.01299554146323,
          196.0059219008658,
          195.9972454404028,
          195.98464803117696,
          195.970950006956,
          195.9558127144635,
          195.9357510729046,
          195.91447418076373,
          195.88398969099904,
          195.85277972364602,
          195.8169548721691,
          195.79035760628304,
          195.76730812643362,
          195.75073683867268,
          195.72907436443958,
          195.7087976652925,
          195.6963656032234,
          195.68309204519306,
          195.67544962576733,
          195.66699483632772,
          195.66464459031434,
          195.6665575163256,
          195.6675219573482,
          195.66785960764037,
          195.66489033821614,
          195.66322580932447,
          195.6635416375558,
          195.6633128282014,
          195.6630575671133,
          195.66248773251687,
          195.66119085079117,
          195.66109003593172,
          195.65498010185388,
          195.64689770383055,
          195.64424269091066,
          195.64339416799658,
          195.6437669003888,
          195.64217475149087,
          195.6400467682386,
          195.63892528425777,
          195.63751060052567,
          195.63168524181847,
          195.62066313159545,
          195.6125977161556,
          195.61747191531106,
          195.62252793928207,
          195.6340187653103,
          195.62825934900007,
          195.62269292642114,
          195.61037155973878,
          195.5929980750921,
          195.57758828281237,
          195.561338567121,
          195.545707279576,
          195.53354424633102,
          195.5138891630551,
          195.5044393153101,
          195.49591483339142,
          195.49077439388375,
          195.49533111200094,
          195.50102540760193,
          195.499592531683,
          195.49743796910363,
          195.49481245850163,
          195.4980609307024,
          195.5039986960355,
          195.50958160869513,
          195.51554898347405,
          195.52006443289721,
          195.52751286621734,
          195.5262663535795,
          195.52872389151378,
          195.52132756846862,
          195.51008278607057,
          195.50742607103487,
          195.50740446199964,
          195.50902739692546,
          195.5116365179935,
          195.51272680983612,
          195.5126029104826,
          195.5112116922156,
          195.5113847360971,
          195.50850746161825,
          195.4965463274655,
          195.4824473751252,
          195.46816412976568,
          195.45688445144944,
          195.445320595169,
          195.43020778123156,
          195.41429230916137,
          195.39644704366364,
          195.38704838166862,
          195.38745842441142,
          195.37911640983594,
          195.3676625719943,
          195.3515783150935,
          195.3472752932707,
          195.34058649963444,
          195.33451556159258,
          195.3324623696843,
          195.33240857767845,
          195.33253924501938,
          195.3321933079322,
          195.33284948310222,
          195.33803268115477,
          195.33954012298682,
          195.33976886382277,
          195.33924403086303,
          195.33971070356606,
          195.34250267474926,
          195.34605174235742,
          195.34648180888962,
          195.3436355850177,
          195.3352629998326,
          195.32218509320367,
          195.31716484150357,
          195.31315502951864,
          195.30809046308778,
          195.30395629661004,
          195.30193585477153,
          195.30439447540587,
          195.3054529638966,
          195.30762010255597,
          195.30782323550167,
          195.30782323550167,
          195.31132329013587,
          195.3244319965118,
          195.34031362724235,
          195.34356117140186,
          195.35187105064648,
          195.35749707496032,
          195.3576820371693,
          195.35754900310164,
          195.3573037332892,
          195.3557150313181,
          195.3524725926063,
          195.35314453195417,
          195.3561654801277,
          195.35829887474804,
          195.35586440162047,
          195.34919563788733,
          195.34435686266855,
          195.3421423055657,
          195.3381938137528,
          195.33040368981713,
          195.3243998824524,
          195.31555084547293,
          195.31288691890427,
          195.32543537145204,
          195.33484005632872,
          195.31918136815304,
          195.2991785856484,
          195.27530116134832,
          195.24905979834597,
          195.21072206833682,
          195.1788607691282
         ],
         "yaxis": "y"
        },
        {
         "hovertemplate": "variable=lower_boll_24<br>Datetime=%{x}<br>value=%{y}<extra></extra>",
         "legendgroup": "lower_boll_24",
         "line": {
          "color": "#b6d1c3",
          "dash": "dot"
         },
         "marker": {
          "symbol": "circle"
         },
         "mode": "lines",
         "name": "lower_boll_24",
         "showlegend": true,
         "type": "scattergl",
         "x": [
          "2024-06-06T09:30:00-04:00",
          "2024-06-06T09:31:00-04:00",
          "2024-06-06T09:32:00-04:00",
          "2024-06-06T09:33:00-04:00",
          "2024-06-06T09:34:00-04:00",
          "2024-06-06T09:35:00-04:00",
          "2024-06-06T09:36:00-04:00",
          "2024-06-06T09:37:00-04:00",
          "2024-06-06T09:38:00-04:00",
          "2024-06-06T09:39:00-04:00",
          "2024-06-06T09:40:00-04:00",
          "2024-06-06T09:41:00-04:00",
          "2024-06-06T09:42:00-04:00",
          "2024-06-06T09:43:00-04:00",
          "2024-06-06T09:44:00-04:00",
          "2024-06-06T09:45:00-04:00",
          "2024-06-06T09:46:00-04:00",
          "2024-06-06T09:47:00-04:00",
          "2024-06-06T09:48:00-04:00",
          "2024-06-06T09:49:00-04:00",
          "2024-06-06T09:50:00-04:00",
          "2024-06-06T09:51:00-04:00",
          "2024-06-06T09:52:00-04:00",
          "2024-06-06T09:53:00-04:00",
          "2024-06-06T09:54:00-04:00",
          "2024-06-06T09:55:00-04:00",
          "2024-06-06T09:56:00-04:00",
          "2024-06-06T09:57:00-04:00",
          "2024-06-06T09:58:00-04:00",
          "2024-06-06T09:59:00-04:00",
          "2024-06-06T10:00:00-04:00",
          "2024-06-06T10:01:00-04:00",
          "2024-06-06T10:02:00-04:00",
          "2024-06-06T10:03:00-04:00",
          "2024-06-06T10:04:00-04:00",
          "2024-06-06T10:05:00-04:00",
          "2024-06-06T10:06:00-04:00",
          "2024-06-06T10:07:00-04:00",
          "2024-06-06T10:08:00-04:00",
          "2024-06-06T10:09:00-04:00",
          "2024-06-06T10:10:00-04:00",
          "2024-06-06T10:11:00-04:00",
          "2024-06-06T10:12:00-04:00",
          "2024-06-06T10:13:00-04:00",
          "2024-06-06T10:14:00-04:00",
          "2024-06-06T10:15:00-04:00",
          "2024-06-06T10:16:00-04:00",
          "2024-06-06T10:17:00-04:00",
          "2024-06-06T10:18:00-04:00",
          "2024-06-06T10:19:00-04:00",
          "2024-06-06T10:20:00-04:00",
          "2024-06-06T10:21:00-04:00",
          "2024-06-06T10:22:00-04:00",
          "2024-06-06T10:23:00-04:00",
          "2024-06-06T10:24:00-04:00",
          "2024-06-06T10:25:00-04:00",
          "2024-06-06T10:26:00-04:00",
          "2024-06-06T10:27:00-04:00",
          "2024-06-06T10:28:00-04:00",
          "2024-06-06T10:29:00-04:00",
          "2024-06-06T10:30:00-04:00",
          "2024-06-06T10:31:00-04:00",
          "2024-06-06T10:32:00-04:00",
          "2024-06-06T10:33:00-04:00",
          "2024-06-06T10:34:00-04:00",
          "2024-06-06T10:35:00-04:00",
          "2024-06-06T10:36:00-04:00",
          "2024-06-06T10:37:00-04:00",
          "2024-06-06T10:38:00-04:00",
          "2024-06-06T10:39:00-04:00",
          "2024-06-06T10:40:00-04:00",
          "2024-06-06T10:41:00-04:00",
          "2024-06-06T10:42:00-04:00",
          "2024-06-06T10:43:00-04:00",
          "2024-06-06T10:44:00-04:00",
          "2024-06-06T10:45:00-04:00",
          "2024-06-06T10:46:00-04:00",
          "2024-06-06T10:47:00-04:00",
          "2024-06-06T10:48:00-04:00",
          "2024-06-06T10:49:00-04:00",
          "2024-06-06T10:50:00-04:00",
          "2024-06-06T10:51:00-04:00",
          "2024-06-06T10:52:00-04:00",
          "2024-06-06T10:53:00-04:00",
          "2024-06-06T10:54:00-04:00",
          "2024-06-06T10:55:00-04:00",
          "2024-06-06T10:56:00-04:00",
          "2024-06-06T10:57:00-04:00",
          "2024-06-06T10:58:00-04:00",
          "2024-06-06T10:59:00-04:00",
          "2024-06-06T11:00:00-04:00",
          "2024-06-06T11:01:00-04:00",
          "2024-06-06T11:02:00-04:00",
          "2024-06-06T11:03:00-04:00",
          "2024-06-06T11:04:00-04:00",
          "2024-06-06T11:05:00-04:00",
          "2024-06-06T11:06:00-04:00",
          "2024-06-06T11:07:00-04:00",
          "2024-06-06T11:08:00-04:00",
          "2024-06-06T11:09:00-04:00",
          "2024-06-06T11:10:00-04:00",
          "2024-06-06T11:11:00-04:00",
          "2024-06-06T11:12:00-04:00",
          "2024-06-06T11:13:00-04:00",
          "2024-06-06T11:14:00-04:00",
          "2024-06-06T11:15:00-04:00",
          "2024-06-06T11:16:00-04:00",
          "2024-06-06T11:17:00-04:00",
          "2024-06-06T11:18:00-04:00",
          "2024-06-06T11:19:00-04:00",
          "2024-06-06T11:20:00-04:00",
          "2024-06-06T11:21:00-04:00",
          "2024-06-06T11:22:00-04:00",
          "2024-06-06T11:23:00-04:00",
          "2024-06-06T11:24:00-04:00",
          "2024-06-06T11:25:00-04:00",
          "2024-06-06T11:26:00-04:00",
          "2024-06-06T11:27:00-04:00",
          "2024-06-06T11:28:00-04:00",
          "2024-06-06T11:29:00-04:00",
          "2024-06-06T11:30:00-04:00",
          "2024-06-06T11:31:00-04:00",
          "2024-06-06T11:32:00-04:00",
          "2024-06-06T11:33:00-04:00",
          "2024-06-06T11:34:00-04:00",
          "2024-06-06T11:35:00-04:00",
          "2024-06-06T11:36:00-04:00",
          "2024-06-06T11:37:00-04:00",
          "2024-06-06T11:38:00-04:00",
          "2024-06-06T11:39:00-04:00",
          "2024-06-06T11:40:00-04:00",
          "2024-06-06T11:41:00-04:00",
          "2024-06-06T11:42:00-04:00",
          "2024-06-06T11:43:00-04:00",
          "2024-06-06T11:44:00-04:00",
          "2024-06-06T11:45:00-04:00",
          "2024-06-06T11:46:00-04:00",
          "2024-06-06T11:47:00-04:00",
          "2024-06-06T11:48:00-04:00",
          "2024-06-06T11:49:00-04:00",
          "2024-06-06T11:50:00-04:00",
          "2024-06-06T11:51:00-04:00",
          "2024-06-06T11:52:00-04:00",
          "2024-06-06T11:53:00-04:00",
          "2024-06-06T11:54:00-04:00",
          "2024-06-06T11:55:00-04:00",
          "2024-06-06T11:56:00-04:00",
          "2024-06-06T11:57:00-04:00",
          "2024-06-06T11:58:00-04:00",
          "2024-06-06T11:59:00-04:00",
          "2024-06-06T12:00:00-04:00",
          "2024-06-06T12:01:00-04:00",
          "2024-06-06T12:02:00-04:00",
          "2024-06-06T12:03:00-04:00",
          "2024-06-06T12:04:00-04:00",
          "2024-06-06T12:05:00-04:00",
          "2024-06-06T12:06:00-04:00",
          "2024-06-06T12:07:00-04:00",
          "2024-06-06T12:08:00-04:00",
          "2024-06-06T12:09:00-04:00",
          "2024-06-06T12:10:00-04:00",
          "2024-06-06T12:11:00-04:00",
          "2024-06-06T12:12:00-04:00",
          "2024-06-06T12:13:00-04:00",
          "2024-06-06T12:14:00-04:00",
          "2024-06-06T12:15:00-04:00",
          "2024-06-06T12:16:00-04:00",
          "2024-06-06T12:17:00-04:00",
          "2024-06-06T12:18:00-04:00",
          "2024-06-06T12:19:00-04:00",
          "2024-06-06T12:20:00-04:00",
          "2024-06-06T12:21:00-04:00",
          "2024-06-06T12:22:00-04:00",
          "2024-06-06T12:23:00-04:00",
          "2024-06-06T12:24:00-04:00",
          "2024-06-06T12:25:00-04:00",
          "2024-06-06T12:26:00-04:00",
          "2024-06-06T12:27:00-04:00",
          "2024-06-06T12:28:00-04:00",
          "2024-06-06T12:29:00-04:00",
          "2024-06-06T12:30:00-04:00",
          "2024-06-06T12:31:00-04:00",
          "2024-06-06T12:32:00-04:00",
          "2024-06-06T12:33:00-04:00",
          "2024-06-06T12:34:00-04:00",
          "2024-06-06T12:35:00-04:00",
          "2024-06-06T12:36:00-04:00",
          "2024-06-06T12:37:00-04:00",
          "2024-06-06T12:38:00-04:00",
          "2024-06-06T12:39:00-04:00",
          "2024-06-06T12:40:00-04:00",
          "2024-06-06T12:41:00-04:00",
          "2024-06-06T12:42:00-04:00",
          "2024-06-06T12:43:00-04:00",
          "2024-06-06T12:44:00-04:00",
          "2024-06-06T12:45:00-04:00",
          "2024-06-06T12:46:00-04:00",
          "2024-06-06T12:47:00-04:00",
          "2024-06-06T12:48:00-04:00",
          "2024-06-06T12:49:00-04:00",
          "2024-06-06T12:50:00-04:00",
          "2024-06-06T12:51:00-04:00",
          "2024-06-06T12:52:00-04:00",
          "2024-06-06T12:53:00-04:00",
          "2024-06-06T12:54:00-04:00",
          "2024-06-06T12:55:00-04:00",
          "2024-06-06T12:56:00-04:00",
          "2024-06-06T12:57:00-04:00",
          "2024-06-06T12:58:00-04:00",
          "2024-06-06T12:59:00-04:00",
          "2024-06-06T13:00:00-04:00",
          "2024-06-06T13:01:00-04:00",
          "2024-06-06T13:02:00-04:00",
          "2024-06-06T13:03:00-04:00",
          "2024-06-06T13:04:00-04:00",
          "2024-06-06T13:05:00-04:00",
          "2024-06-06T13:06:00-04:00",
          "2024-06-06T13:07:00-04:00",
          "2024-06-06T13:08:00-04:00",
          "2024-06-06T13:09:00-04:00",
          "2024-06-06T13:10:00-04:00",
          "2024-06-06T13:11:00-04:00",
          "2024-06-06T13:12:00-04:00",
          "2024-06-06T13:13:00-04:00",
          "2024-06-06T13:14:00-04:00",
          "2024-06-06T13:15:00-04:00",
          "2024-06-06T13:16:00-04:00",
          "2024-06-06T13:17:00-04:00",
          "2024-06-06T13:18:00-04:00",
          "2024-06-06T13:19:00-04:00",
          "2024-06-06T13:20:00-04:00",
          "2024-06-06T13:21:00-04:00",
          "2024-06-06T13:22:00-04:00",
          "2024-06-06T13:23:00-04:00",
          "2024-06-06T13:24:00-04:00",
          "2024-06-06T13:25:00-04:00",
          "2024-06-06T13:26:00-04:00",
          "2024-06-06T13:27:00-04:00",
          "2024-06-06T13:28:00-04:00",
          "2024-06-06T13:29:00-04:00",
          "2024-06-06T13:30:00-04:00",
          "2024-06-06T13:31:00-04:00",
          "2024-06-06T13:32:00-04:00",
          "2024-06-06T13:33:00-04:00",
          "2024-06-06T13:34:00-04:00",
          "2024-06-06T13:35:00-04:00",
          "2024-06-06T13:36:00-04:00",
          "2024-06-06T13:37:00-04:00",
          "2024-06-06T13:38:00-04:00",
          "2024-06-06T13:39:00-04:00",
          "2024-06-06T13:40:00-04:00",
          "2024-06-06T13:41:00-04:00",
          "2024-06-06T13:42:00-04:00",
          "2024-06-06T13:43:00-04:00",
          "2024-06-06T13:44:00-04:00",
          "2024-06-06T13:45:00-04:00",
          "2024-06-06T13:46:00-04:00",
          "2024-06-06T13:47:00-04:00",
          "2024-06-06T13:48:00-04:00",
          "2024-06-06T13:49:00-04:00",
          "2024-06-06T13:50:00-04:00",
          "2024-06-06T13:51:00-04:00",
          "2024-06-06T13:52:00-04:00",
          "2024-06-06T13:53:00-04:00",
          "2024-06-06T13:54:00-04:00",
          "2024-06-06T13:55:00-04:00",
          "2024-06-06T13:56:00-04:00",
          "2024-06-06T13:57:00-04:00",
          "2024-06-06T13:58:00-04:00",
          "2024-06-06T13:59:00-04:00",
          "2024-06-06T14:00:00-04:00",
          "2024-06-06T14:01:00-04:00",
          "2024-06-06T14:02:00-04:00",
          "2024-06-06T14:03:00-04:00",
          "2024-06-06T14:04:00-04:00",
          "2024-06-06T14:05:00-04:00",
          "2024-06-06T14:06:00-04:00",
          "2024-06-06T14:07:00-04:00",
          "2024-06-06T14:08:00-04:00",
          "2024-06-06T14:09:00-04:00",
          "2024-06-06T14:10:00-04:00",
          "2024-06-06T14:11:00-04:00",
          "2024-06-06T14:12:00-04:00",
          "2024-06-06T14:13:00-04:00",
          "2024-06-06T14:14:00-04:00",
          "2024-06-06T14:15:00-04:00",
          "2024-06-06T14:16:00-04:00",
          "2024-06-06T14:17:00-04:00",
          "2024-06-06T14:18:00-04:00",
          "2024-06-06T14:19:00-04:00",
          "2024-06-06T14:20:00-04:00",
          "2024-06-06T14:21:00-04:00",
          "2024-06-06T14:22:00-04:00",
          "2024-06-06T14:23:00-04:00",
          "2024-06-06T14:24:00-04:00",
          "2024-06-06T14:25:00-04:00",
          "2024-06-06T14:26:00-04:00",
          "2024-06-06T14:27:00-04:00",
          "2024-06-06T14:28:00-04:00",
          "2024-06-06T14:29:00-04:00",
          "2024-06-06T14:30:00-04:00",
          "2024-06-06T14:31:00-04:00",
          "2024-06-06T14:32:00-04:00",
          "2024-06-06T14:33:00-04:00",
          "2024-06-06T14:34:00-04:00",
          "2024-06-06T14:35:00-04:00",
          "2024-06-06T14:36:00-04:00",
          "2024-06-06T14:37:00-04:00",
          "2024-06-06T14:38:00-04:00",
          "2024-06-06T14:39:00-04:00",
          "2024-06-06T14:40:00-04:00",
          "2024-06-06T14:41:00-04:00",
          "2024-06-06T14:42:00-04:00",
          "2024-06-06T14:43:00-04:00",
          "2024-06-06T14:44:00-04:00",
          "2024-06-06T14:45:00-04:00",
          "2024-06-06T14:46:00-04:00",
          "2024-06-06T14:47:00-04:00",
          "2024-06-06T14:48:00-04:00",
          "2024-06-06T14:49:00-04:00",
          "2024-06-06T14:50:00-04:00",
          "2024-06-06T14:51:00-04:00",
          "2024-06-06T14:52:00-04:00",
          "2024-06-06T14:53:00-04:00",
          "2024-06-06T14:54:00-04:00",
          "2024-06-06T14:55:00-04:00",
          "2024-06-06T14:56:00-04:00",
          "2024-06-06T14:57:00-04:00",
          "2024-06-06T14:58:00-04:00",
          "2024-06-06T14:59:00-04:00",
          "2024-06-06T15:00:00-04:00",
          "2024-06-06T15:01:00-04:00",
          "2024-06-06T15:02:00-04:00",
          "2024-06-06T15:03:00-04:00",
          "2024-06-06T15:04:00-04:00",
          "2024-06-06T15:05:00-04:00",
          "2024-06-06T15:06:00-04:00",
          "2024-06-06T15:07:00-04:00",
          "2024-06-06T15:08:00-04:00",
          "2024-06-06T15:09:00-04:00",
          "2024-06-06T15:10:00-04:00",
          "2024-06-06T15:11:00-04:00",
          "2024-06-06T15:12:00-04:00",
          "2024-06-06T15:13:00-04:00",
          "2024-06-06T15:14:00-04:00",
          "2024-06-06T15:15:00-04:00",
          "2024-06-06T15:16:00-04:00",
          "2024-06-06T15:17:00-04:00",
          "2024-06-06T15:18:00-04:00",
          "2024-06-06T15:19:00-04:00",
          "2024-06-06T15:20:00-04:00",
          "2024-06-06T15:21:00-04:00",
          "2024-06-06T15:22:00-04:00",
          "2024-06-06T15:23:00-04:00",
          "2024-06-06T15:24:00-04:00",
          "2024-06-06T15:25:00-04:00",
          "2024-06-06T15:26:00-04:00",
          "2024-06-06T15:27:00-04:00",
          "2024-06-06T15:28:00-04:00",
          "2024-06-06T15:29:00-04:00",
          "2024-06-06T15:30:00-04:00",
          "2024-06-06T15:31:00-04:00",
          "2024-06-06T15:32:00-04:00",
          "2024-06-06T15:33:00-04:00",
          "2024-06-06T15:34:00-04:00",
          "2024-06-06T15:35:00-04:00",
          "2024-06-06T15:36:00-04:00",
          "2024-06-06T15:37:00-04:00",
          "2024-06-06T15:38:00-04:00",
          "2024-06-06T15:39:00-04:00",
          "2024-06-06T15:40:00-04:00",
          "2024-06-06T15:41:00-04:00",
          "2024-06-06T15:42:00-04:00",
          "2024-06-06T15:43:00-04:00",
          "2024-06-06T15:44:00-04:00",
          "2024-06-06T15:45:00-04:00",
          "2024-06-06T15:46:00-04:00",
          "2024-06-06T15:47:00-04:00",
          "2024-06-06T15:48:00-04:00",
          "2024-06-06T15:49:00-04:00",
          "2024-06-06T15:50:00-04:00",
          "2024-06-06T15:51:00-04:00",
          "2024-06-06T15:52:00-04:00",
          "2024-06-06T15:53:00-04:00",
          "2024-06-06T15:54:00-04:00",
          "2024-06-06T15:55:00-04:00",
          "2024-06-06T15:56:00-04:00",
          "2024-06-06T15:57:00-04:00",
          "2024-06-06T15:58:00-04:00",
          "2024-06-06T15:59:00-04:00"
         ],
         "xaxis": "x",
         "y": [
          196.1300048828125,
          196.1300048828125,
          196.10888709625402,
          196.10741767187503,
          196.06989544067775,
          196.01899041341858,
          195.9269720489979,
          195.87320418022122,
          195.81996415224762,
          195.77275667879638,
          195.7288023789361,
          195.6485685812803,
          195.60958432375193,
          195.5799848391045,
          195.5590887905885,
          195.54347138938283,
          195.52226589905206,
          195.5011160920549,
          195.47963679850633,
          195.47472442457638,
          195.4683841636765,
          195.46493385891546,
          195.45792102495412,
          195.45187800687438,
          195.44906234595834,
          195.4517080507316,
          195.4709834614365,
          195.48495702701086,
          195.48495702701086,
          195.47979943687776,
          195.48238602937747,
          195.4790017085538,
          195.4883193958174,
          195.50459315763018,
          195.5219287520868,
          195.57998373070419,
          195.60551125575148,
          195.6214624756119,
          195.63018393628346,
          195.6279450988874,
          195.6374756392898,
          195.6567260689447,
          195.6840202841128,
          195.68981459751117,
          195.70035987180233,
          195.70755281902296,
          195.7236794096424,
          195.74343813037564,
          195.76583942271134,
          195.78861105854998,
          195.8110894728926,
          195.82813079223246,
          195.8405272001548,
          195.845813274086,
          195.84758546812762,
          195.84768849087754,
          195.84394105210262,
          195.83749908127024,
          195.82684248433793,
          195.8260737292294,
          195.8321594428658,
          195.8442890781112,
          195.85788033186725,
          195.87247943315745,
          195.87129724972962,
          195.84522223852784,
          195.82653506753834,
          195.81309908015876,
          195.7989796164787,
          195.77537281923847,
          195.7495949634315,
          195.73289966381475,
          195.7229036431422,
          195.70897468584135,
          195.69784042743888,
          195.68616819515472,
          195.6747362362647,
          195.68090608469933,
          195.69354972057988,
          195.67885568191696,
          195.6597247200438,
          195.6280305113195,
          195.6132489263768,
          195.6085274572748,
          195.60121224866361,
          195.60048191466575,
          195.60232249075708,
          195.60005160157064,
          195.60317367495892,
          195.61137026407962,
          195.61190418025015,
          195.60516396080658,
          195.60208224322295,
          195.60106924741382,
          195.60178157709333,
          195.59847244223297,
          195.59513476510983,
          195.5939328425614,
          195.5920017039903,
          195.5882295828559,
          195.58758986357586,
          195.58649094216923,
          195.58660480818014,
          195.594900292541,
          195.60790254997517,
          195.63540643868424,
          195.64762627595445,
          195.6546576386023,
          195.6624774130234,
          195.65832831305758,
          195.65008404232492,
          195.65415219236928,
          195.65518425240046,
          195.6545714903976,
          195.6546304615386,
          195.66076208693644,
          195.66222982372778,
          195.66346344844155,
          195.6643404971386,
          195.66808355120216,
          195.6733023203568,
          195.6733023203568,
          195.67596035892305,
          195.67905386471836,
          195.6808921240167,
          195.6848182038111,
          195.69042733295615,
          195.6972332845848,
          195.6964100438483,
          195.69076559277156,
          195.68867803996523,
          195.68258769150887,
          195.67419668437807,
          195.66819229420747,
          195.6647464100313,
          195.65646668751558,
          195.64597502438323,
          195.6400170869432,
          195.63426112872673,
          195.63020461619925,
          195.62104102189096,
          195.6043049498048,
          195.58449747713973,
          195.5579707065611,
          195.53870947443363,
          195.51843301170567,
          195.50370750911583,
          195.49394925215634,
          195.4908475651947,
          195.4838759315001,
          195.47993409935214,
          195.47006628467213,
          195.46385395749903,
          195.45891593434624,
          195.45591271637463,
          195.45259851926332,
          195.4509243415578,
          195.44912327641893,
          195.44895760320526,
          195.4489987571,
          195.44895461830578,
          195.44963860084528,
          195.44792590267423,
          195.4460676951885,
          195.4453277282313,
          195.44716513953182,
          195.4501842787477,
          195.459475836475,
          195.46838046389183,
          195.47926542187898,
          195.48441632130348,
          195.48978696708463,
          195.49218186812587,
          195.50045695020148,
          195.5067836874591,
          195.52071339639022,
          195.53425119342657,
          195.54673161273206,
          195.55935101862076,
          195.57373013537736,
          195.58513328551237,
          195.5981952620207,
          195.60692058316076,
          195.6139291842409,
          195.62109572683983,
          195.62603396844028,
          195.6268807820021,
          195.62555239415306,
          195.62828456352622,
          195.6357110161362,
          195.65046321811153,
          195.64654103555424,
          195.6476790534801,
          195.6465031711679,
          195.64704259924383,
          195.64553133036068,
          195.6453193284057,
          195.64512353703316,
          195.6442231567551,
          195.6443386267639,
          195.6435790229945,
          195.6431014766032,
          195.646366080126,
          195.64600811193003,
          195.6462151178204,
          195.64676796364762,
          195.64468147067694,
          195.64661539565103,
          195.65007121100203,
          195.64380178601382,
          195.62737278061448,
          195.62548810221315,
          195.62558703703735,
          195.62648967081728,
          195.6316315543965,
          195.64016662669428,
          195.64323019536226,
          195.65079637571006,
          195.65851940254305,
          195.67096213103028,
          195.6822179417512,
          195.69827010022703,
          195.71456969854975,
          195.72622927233442,
          195.74179234790134,
          195.75621002620738,
          195.76290970836342,
          195.76940825394982,
          195.7734405930442,
          195.77975324542862,
          195.76967692485525,
          195.74628085013373,
          195.72224165501433,
          195.6948940491495,
          195.66143784883627,
          195.6346776678191,
          195.61740401434983,
          195.60166839541807,
          195.5870333914815,
          195.57425345781843,
          195.5649813489704,
          195.5558423882467,
          195.55466870540397,
          195.5571285710317,
          195.56003639980355,
          195.55871643953404,
          195.55468284036326,
          195.55083786835857,
          195.55041706012096,
          195.5490262787993,
          195.5468747532219,
          195.54903991281475,
          195.5508483885556,
          195.55346923431028,
          195.55290250848125,
          195.55847401850514,
          195.564592198739,
          195.5700884921318,
          195.5795071430664,
          195.58825556478033,
          195.58931557069616,
          195.58787735734546,
          195.58604979372654,
          195.58286978091087,
          195.57475071821926,
          195.5746925873593,
          195.567894857456,
          195.5568109448511,
          195.5452994436922,
          195.53434020700342,
          195.52521783064958,
          195.52264305856772,
          195.51768714899774,
          195.5142259099968,
          195.5056410006299,
          195.49529077136512,
          195.48964646923463,
          195.47049529125,
          195.43340470212058,
          195.38836429297703,
          195.32437433161354,
          195.28763420568743,
          195.25099227458796,
          195.2191470763289,
          195.2048534874079,
          195.19643032273774,
          195.187679784116,
          195.1812277891903,
          195.17630733651401,
          195.175703834178,
          195.1747370152563,
          195.17201195493865,
          195.17131845076145,
          195.1710697974229,
          195.17079110037335,
          195.17096639776037,
          195.1710381356327,
          195.17116374795998,
          195.17116539782953,
          195.17126884139938,
          195.171060837187,
          195.17356081877205,
          195.1808454995572,
          195.1975644449806,
          195.23602714414187,
          195.26315258350252,
          195.29400802316547,
          195.32941891274126,
          195.34235115064482,
          195.34245541145415,
          195.33749843111818,
          195.32822249079555,
          195.32130715622833,
          195.31101438891517,
          195.29908086963334,
          195.28974110822253,
          195.27970181775999,
          195.27041254501174,
          195.26117826574395,
          195.25421873359693,
          195.24716497685458,
          195.24331109835316,
          195.2393402534364,
          195.2410892114278,
          195.24654306864105,
          195.247874917485,
          195.24788067674416,
          195.24872299649542,
          195.24795963056107,
          195.24904322624764,
          195.24417953054112,
          195.23920170837337,
          195.23624707268476,
          195.23205051890622,
          195.23127143534236,
          195.2298908188641,
          195.22814503028394,
          195.22915587781898,
          195.23195556957765,
          195.2351389338166,
          195.235744340116,
          195.23420287872358,
          195.2279035339014,
          195.2121949977768,
          195.19281239338477,
          195.17196606708694,
          195.16522849986188,
          195.16110159367327,
          195.15952979123645,
          195.1601160931481,
          195.16121020485636,
          195.16169077673968,
          195.15915939552863,
          195.15826413709047,
          195.15924637338972,
          195.16006344438787,
          195.16081327757098,
          195.16102721819297,
          195.16102721819297,
          195.1633611072437,
          195.16341946426292,
          195.16087147204152,
          195.1604658773449,
          195.1603817569707,
          195.1618383539134,
          195.1620539349173,
          195.1596870707102,
          195.16118228966002,
          195.1677707881806,
          195.18351398983188,
          195.17992635020727,
          195.16482171266205,
          195.1481047303952,
          195.1259560227773,
          195.10262473564782,
          195.08246325655344,
          195.06949404697338,
          195.05344208102258,
          195.04362483394587,
          195.03692061315306,
          195.02910323777903,
          195.00010009078,
          194.93130138391905,
          194.848562958808,
          194.78646285792118,
          194.71229856685812,
          194.6478428612754,
          194.57241745588578,
          194.53200584710916,
          194.48803350780864
         ],
         "yaxis": "y"
        },
        {
         "hovertemplate": "variable=Close<br>Datetime=%{x}<br>value=%{y}<extra></extra>",
         "legendgroup": "Close",
         "line": {
          "color": "#0059ff",
          "dash": "solid"
         },
         "marker": {
          "symbol": "circle"
         },
         "mode": "lines",
         "name": "Close",
         "showlegend": true,
         "type": "scattergl",
         "x": [
          "2024-06-06T09:30:00-04:00",
          "2024-06-06T09:31:00-04:00",
          "2024-06-06T09:32:00-04:00",
          "2024-06-06T09:33:00-04:00",
          "2024-06-06T09:34:00-04:00",
          "2024-06-06T09:35:00-04:00",
          "2024-06-06T09:36:00-04:00",
          "2024-06-06T09:37:00-04:00",
          "2024-06-06T09:38:00-04:00",
          "2024-06-06T09:39:00-04:00",
          "2024-06-06T09:40:00-04:00",
          "2024-06-06T09:41:00-04:00",
          "2024-06-06T09:42:00-04:00",
          "2024-06-06T09:43:00-04:00",
          "2024-06-06T09:44:00-04:00",
          "2024-06-06T09:45:00-04:00",
          "2024-06-06T09:46:00-04:00",
          "2024-06-06T09:47:00-04:00",
          "2024-06-06T09:48:00-04:00",
          "2024-06-06T09:49:00-04:00",
          "2024-06-06T09:50:00-04:00",
          "2024-06-06T09:51:00-04:00",
          "2024-06-06T09:52:00-04:00",
          "2024-06-06T09:53:00-04:00",
          "2024-06-06T09:54:00-04:00",
          "2024-06-06T09:55:00-04:00",
          "2024-06-06T09:56:00-04:00",
          "2024-06-06T09:57:00-04:00",
          "2024-06-06T09:58:00-04:00",
          "2024-06-06T09:59:00-04:00",
          "2024-06-06T10:00:00-04:00",
          "2024-06-06T10:01:00-04:00",
          "2024-06-06T10:02:00-04:00",
          "2024-06-06T10:03:00-04:00",
          "2024-06-06T10:04:00-04:00",
          "2024-06-06T10:05:00-04:00",
          "2024-06-06T10:06:00-04:00",
          "2024-06-06T10:07:00-04:00",
          "2024-06-06T10:08:00-04:00",
          "2024-06-06T10:09:00-04:00",
          "2024-06-06T10:10:00-04:00",
          "2024-06-06T10:11:00-04:00",
          "2024-06-06T10:12:00-04:00",
          "2024-06-06T10:13:00-04:00",
          "2024-06-06T10:14:00-04:00",
          "2024-06-06T10:15:00-04:00",
          "2024-06-06T10:16:00-04:00",
          "2024-06-06T10:17:00-04:00",
          "2024-06-06T10:18:00-04:00",
          "2024-06-06T10:19:00-04:00",
          "2024-06-06T10:20:00-04:00",
          "2024-06-06T10:21:00-04:00",
          "2024-06-06T10:22:00-04:00",
          "2024-06-06T10:23:00-04:00",
          "2024-06-06T10:24:00-04:00",
          "2024-06-06T10:25:00-04:00",
          "2024-06-06T10:26:00-04:00",
          "2024-06-06T10:27:00-04:00",
          "2024-06-06T10:28:00-04:00",
          "2024-06-06T10:29:00-04:00",
          "2024-06-06T10:30:00-04:00",
          "2024-06-06T10:31:00-04:00",
          "2024-06-06T10:32:00-04:00",
          "2024-06-06T10:33:00-04:00",
          "2024-06-06T10:34:00-04:00",
          "2024-06-06T10:35:00-04:00",
          "2024-06-06T10:36:00-04:00",
          "2024-06-06T10:37:00-04:00",
          "2024-06-06T10:38:00-04:00",
          "2024-06-06T10:39:00-04:00",
          "2024-06-06T10:40:00-04:00",
          "2024-06-06T10:41:00-04:00",
          "2024-06-06T10:42:00-04:00",
          "2024-06-06T10:43:00-04:00",
          "2024-06-06T10:44:00-04:00",
          "2024-06-06T10:45:00-04:00",
          "2024-06-06T10:46:00-04:00",
          "2024-06-06T10:47:00-04:00",
          "2024-06-06T10:48:00-04:00",
          "2024-06-06T10:49:00-04:00",
          "2024-06-06T10:50:00-04:00",
          "2024-06-06T10:51:00-04:00",
          "2024-06-06T10:52:00-04:00",
          "2024-06-06T10:53:00-04:00",
          "2024-06-06T10:54:00-04:00",
          "2024-06-06T10:55:00-04:00",
          "2024-06-06T10:56:00-04:00",
          "2024-06-06T10:57:00-04:00",
          "2024-06-06T10:58:00-04:00",
          "2024-06-06T10:59:00-04:00",
          "2024-06-06T11:00:00-04:00",
          "2024-06-06T11:01:00-04:00",
          "2024-06-06T11:02:00-04:00",
          "2024-06-06T11:03:00-04:00",
          "2024-06-06T11:04:00-04:00",
          "2024-06-06T11:05:00-04:00",
          "2024-06-06T11:06:00-04:00",
          "2024-06-06T11:07:00-04:00",
          "2024-06-06T11:08:00-04:00",
          "2024-06-06T11:09:00-04:00",
          "2024-06-06T11:10:00-04:00",
          "2024-06-06T11:11:00-04:00",
          "2024-06-06T11:12:00-04:00",
          "2024-06-06T11:13:00-04:00",
          "2024-06-06T11:14:00-04:00",
          "2024-06-06T11:15:00-04:00",
          "2024-06-06T11:16:00-04:00",
          "2024-06-06T11:17:00-04:00",
          "2024-06-06T11:18:00-04:00",
          "2024-06-06T11:19:00-04:00",
          "2024-06-06T11:20:00-04:00",
          "2024-06-06T11:21:00-04:00",
          "2024-06-06T11:22:00-04:00",
          "2024-06-06T11:23:00-04:00",
          "2024-06-06T11:24:00-04:00",
          "2024-06-06T11:25:00-04:00",
          "2024-06-06T11:26:00-04:00",
          "2024-06-06T11:27:00-04:00",
          "2024-06-06T11:28:00-04:00",
          "2024-06-06T11:29:00-04:00",
          "2024-06-06T11:30:00-04:00",
          "2024-06-06T11:31:00-04:00",
          "2024-06-06T11:32:00-04:00",
          "2024-06-06T11:33:00-04:00",
          "2024-06-06T11:34:00-04:00",
          "2024-06-06T11:35:00-04:00",
          "2024-06-06T11:36:00-04:00",
          "2024-06-06T11:37:00-04:00",
          "2024-06-06T11:38:00-04:00",
          "2024-06-06T11:39:00-04:00",
          "2024-06-06T11:40:00-04:00",
          "2024-06-06T11:41:00-04:00",
          "2024-06-06T11:42:00-04:00",
          "2024-06-06T11:43:00-04:00",
          "2024-06-06T11:44:00-04:00",
          "2024-06-06T11:45:00-04:00",
          "2024-06-06T11:46:00-04:00",
          "2024-06-06T11:47:00-04:00",
          "2024-06-06T11:48:00-04:00",
          "2024-06-06T11:49:00-04:00",
          "2024-06-06T11:50:00-04:00",
          "2024-06-06T11:51:00-04:00",
          "2024-06-06T11:52:00-04:00",
          "2024-06-06T11:53:00-04:00",
          "2024-06-06T11:54:00-04:00",
          "2024-06-06T11:55:00-04:00",
          "2024-06-06T11:56:00-04:00",
          "2024-06-06T11:57:00-04:00",
          "2024-06-06T11:58:00-04:00",
          "2024-06-06T11:59:00-04:00",
          "2024-06-06T12:00:00-04:00",
          "2024-06-06T12:01:00-04:00",
          "2024-06-06T12:02:00-04:00",
          "2024-06-06T12:03:00-04:00",
          "2024-06-06T12:04:00-04:00",
          "2024-06-06T12:05:00-04:00",
          "2024-06-06T12:06:00-04:00",
          "2024-06-06T12:07:00-04:00",
          "2024-06-06T12:08:00-04:00",
          "2024-06-06T12:09:00-04:00",
          "2024-06-06T12:10:00-04:00",
          "2024-06-06T12:11:00-04:00",
          "2024-06-06T12:12:00-04:00",
          "2024-06-06T12:13:00-04:00",
          "2024-06-06T12:14:00-04:00",
          "2024-06-06T12:15:00-04:00",
          "2024-06-06T12:16:00-04:00",
          "2024-06-06T12:17:00-04:00",
          "2024-06-06T12:18:00-04:00",
          "2024-06-06T12:19:00-04:00",
          "2024-06-06T12:20:00-04:00",
          "2024-06-06T12:21:00-04:00",
          "2024-06-06T12:22:00-04:00",
          "2024-06-06T12:23:00-04:00",
          "2024-06-06T12:24:00-04:00",
          "2024-06-06T12:25:00-04:00",
          "2024-06-06T12:26:00-04:00",
          "2024-06-06T12:27:00-04:00",
          "2024-06-06T12:28:00-04:00",
          "2024-06-06T12:29:00-04:00",
          "2024-06-06T12:30:00-04:00",
          "2024-06-06T12:31:00-04:00",
          "2024-06-06T12:32:00-04:00",
          "2024-06-06T12:33:00-04:00",
          "2024-06-06T12:34:00-04:00",
          "2024-06-06T12:35:00-04:00",
          "2024-06-06T12:36:00-04:00",
          "2024-06-06T12:37:00-04:00",
          "2024-06-06T12:38:00-04:00",
          "2024-06-06T12:39:00-04:00",
          "2024-06-06T12:40:00-04:00",
          "2024-06-06T12:41:00-04:00",
          "2024-06-06T12:42:00-04:00",
          "2024-06-06T12:43:00-04:00",
          "2024-06-06T12:44:00-04:00",
          "2024-06-06T12:45:00-04:00",
          "2024-06-06T12:46:00-04:00",
          "2024-06-06T12:47:00-04:00",
          "2024-06-06T12:48:00-04:00",
          "2024-06-06T12:49:00-04:00",
          "2024-06-06T12:50:00-04:00",
          "2024-06-06T12:51:00-04:00",
          "2024-06-06T12:52:00-04:00",
          "2024-06-06T12:53:00-04:00",
          "2024-06-06T12:54:00-04:00",
          "2024-06-06T12:55:00-04:00",
          "2024-06-06T12:56:00-04:00",
          "2024-06-06T12:57:00-04:00",
          "2024-06-06T12:58:00-04:00",
          "2024-06-06T12:59:00-04:00",
          "2024-06-06T13:00:00-04:00",
          "2024-06-06T13:01:00-04:00",
          "2024-06-06T13:02:00-04:00",
          "2024-06-06T13:03:00-04:00",
          "2024-06-06T13:04:00-04:00",
          "2024-06-06T13:05:00-04:00",
          "2024-06-06T13:06:00-04:00",
          "2024-06-06T13:07:00-04:00",
          "2024-06-06T13:08:00-04:00",
          "2024-06-06T13:09:00-04:00",
          "2024-06-06T13:10:00-04:00",
          "2024-06-06T13:11:00-04:00",
          "2024-06-06T13:12:00-04:00",
          "2024-06-06T13:13:00-04:00",
          "2024-06-06T13:14:00-04:00",
          "2024-06-06T13:15:00-04:00",
          "2024-06-06T13:16:00-04:00",
          "2024-06-06T13:17:00-04:00",
          "2024-06-06T13:18:00-04:00",
          "2024-06-06T13:19:00-04:00",
          "2024-06-06T13:20:00-04:00",
          "2024-06-06T13:21:00-04:00",
          "2024-06-06T13:22:00-04:00",
          "2024-06-06T13:23:00-04:00",
          "2024-06-06T13:24:00-04:00",
          "2024-06-06T13:25:00-04:00",
          "2024-06-06T13:26:00-04:00",
          "2024-06-06T13:27:00-04:00",
          "2024-06-06T13:28:00-04:00",
          "2024-06-06T13:29:00-04:00",
          "2024-06-06T13:30:00-04:00",
          "2024-06-06T13:31:00-04:00",
          "2024-06-06T13:32:00-04:00",
          "2024-06-06T13:33:00-04:00",
          "2024-06-06T13:34:00-04:00",
          "2024-06-06T13:35:00-04:00",
          "2024-06-06T13:36:00-04:00",
          "2024-06-06T13:37:00-04:00",
          "2024-06-06T13:38:00-04:00",
          "2024-06-06T13:39:00-04:00",
          "2024-06-06T13:40:00-04:00",
          "2024-06-06T13:41:00-04:00",
          "2024-06-06T13:42:00-04:00",
          "2024-06-06T13:43:00-04:00",
          "2024-06-06T13:44:00-04:00",
          "2024-06-06T13:45:00-04:00",
          "2024-06-06T13:46:00-04:00",
          "2024-06-06T13:47:00-04:00",
          "2024-06-06T13:48:00-04:00",
          "2024-06-06T13:49:00-04:00",
          "2024-06-06T13:50:00-04:00",
          "2024-06-06T13:51:00-04:00",
          "2024-06-06T13:52:00-04:00",
          "2024-06-06T13:53:00-04:00",
          "2024-06-06T13:54:00-04:00",
          "2024-06-06T13:55:00-04:00",
          "2024-06-06T13:56:00-04:00",
          "2024-06-06T13:57:00-04:00",
          "2024-06-06T13:58:00-04:00",
          "2024-06-06T13:59:00-04:00",
          "2024-06-06T14:00:00-04:00",
          "2024-06-06T14:01:00-04:00",
          "2024-06-06T14:02:00-04:00",
          "2024-06-06T14:03:00-04:00",
          "2024-06-06T14:04:00-04:00",
          "2024-06-06T14:05:00-04:00",
          "2024-06-06T14:06:00-04:00",
          "2024-06-06T14:07:00-04:00",
          "2024-06-06T14:08:00-04:00",
          "2024-06-06T14:09:00-04:00",
          "2024-06-06T14:10:00-04:00",
          "2024-06-06T14:11:00-04:00",
          "2024-06-06T14:12:00-04:00",
          "2024-06-06T14:13:00-04:00",
          "2024-06-06T14:14:00-04:00",
          "2024-06-06T14:15:00-04:00",
          "2024-06-06T14:16:00-04:00",
          "2024-06-06T14:17:00-04:00",
          "2024-06-06T14:18:00-04:00",
          "2024-06-06T14:19:00-04:00",
          "2024-06-06T14:20:00-04:00",
          "2024-06-06T14:21:00-04:00",
          "2024-06-06T14:22:00-04:00",
          "2024-06-06T14:23:00-04:00",
          "2024-06-06T14:24:00-04:00",
          "2024-06-06T14:25:00-04:00",
          "2024-06-06T14:26:00-04:00",
          "2024-06-06T14:27:00-04:00",
          "2024-06-06T14:28:00-04:00",
          "2024-06-06T14:29:00-04:00",
          "2024-06-06T14:30:00-04:00",
          "2024-06-06T14:31:00-04:00",
          "2024-06-06T14:32:00-04:00",
          "2024-06-06T14:33:00-04:00",
          "2024-06-06T14:34:00-04:00",
          "2024-06-06T14:35:00-04:00",
          "2024-06-06T14:36:00-04:00",
          "2024-06-06T14:37:00-04:00",
          "2024-06-06T14:38:00-04:00",
          "2024-06-06T14:39:00-04:00",
          "2024-06-06T14:40:00-04:00",
          "2024-06-06T14:41:00-04:00",
          "2024-06-06T14:42:00-04:00",
          "2024-06-06T14:43:00-04:00",
          "2024-06-06T14:44:00-04:00",
          "2024-06-06T14:45:00-04:00",
          "2024-06-06T14:46:00-04:00",
          "2024-06-06T14:47:00-04:00",
          "2024-06-06T14:48:00-04:00",
          "2024-06-06T14:49:00-04:00",
          "2024-06-06T14:50:00-04:00",
          "2024-06-06T14:51:00-04:00",
          "2024-06-06T14:52:00-04:00",
          "2024-06-06T14:53:00-04:00",
          "2024-06-06T14:54:00-04:00",
          "2024-06-06T14:55:00-04:00",
          "2024-06-06T14:56:00-04:00",
          "2024-06-06T14:57:00-04:00",
          "2024-06-06T14:58:00-04:00",
          "2024-06-06T14:59:00-04:00",
          "2024-06-06T15:00:00-04:00",
          "2024-06-06T15:01:00-04:00",
          "2024-06-06T15:02:00-04:00",
          "2024-06-06T15:03:00-04:00",
          "2024-06-06T15:04:00-04:00",
          "2024-06-06T15:05:00-04:00",
          "2024-06-06T15:06:00-04:00",
          "2024-06-06T15:07:00-04:00",
          "2024-06-06T15:08:00-04:00",
          "2024-06-06T15:09:00-04:00",
          "2024-06-06T15:10:00-04:00",
          "2024-06-06T15:11:00-04:00",
          "2024-06-06T15:12:00-04:00",
          "2024-06-06T15:13:00-04:00",
          "2024-06-06T15:14:00-04:00",
          "2024-06-06T15:15:00-04:00",
          "2024-06-06T15:16:00-04:00",
          "2024-06-06T15:17:00-04:00",
          "2024-06-06T15:18:00-04:00",
          "2024-06-06T15:19:00-04:00",
          "2024-06-06T15:20:00-04:00",
          "2024-06-06T15:21:00-04:00",
          "2024-06-06T15:22:00-04:00",
          "2024-06-06T15:23:00-04:00",
          "2024-06-06T15:24:00-04:00",
          "2024-06-06T15:25:00-04:00",
          "2024-06-06T15:26:00-04:00",
          "2024-06-06T15:27:00-04:00",
          "2024-06-06T15:28:00-04:00",
          "2024-06-06T15:29:00-04:00",
          "2024-06-06T15:30:00-04:00",
          "2024-06-06T15:31:00-04:00",
          "2024-06-06T15:32:00-04:00",
          "2024-06-06T15:33:00-04:00",
          "2024-06-06T15:34:00-04:00",
          "2024-06-06T15:35:00-04:00",
          "2024-06-06T15:36:00-04:00",
          "2024-06-06T15:37:00-04:00",
          "2024-06-06T15:38:00-04:00",
          "2024-06-06T15:39:00-04:00",
          "2024-06-06T15:40:00-04:00",
          "2024-06-06T15:41:00-04:00",
          "2024-06-06T15:42:00-04:00",
          "2024-06-06T15:43:00-04:00",
          "2024-06-06T15:44:00-04:00",
          "2024-06-06T15:45:00-04:00",
          "2024-06-06T15:46:00-04:00",
          "2024-06-06T15:47:00-04:00",
          "2024-06-06T15:48:00-04:00",
          "2024-06-06T15:49:00-04:00",
          "2024-06-06T15:50:00-04:00",
          "2024-06-06T15:51:00-04:00",
          "2024-06-06T15:52:00-04:00",
          "2024-06-06T15:53:00-04:00",
          "2024-06-06T15:54:00-04:00",
          "2024-06-06T15:55:00-04:00",
          "2024-06-06T15:56:00-04:00",
          "2024-06-06T15:57:00-04:00",
          "2024-06-06T15:58:00-04:00",
          "2024-06-06T15:59:00-04:00"
         ],
         "xaxis": "x",
         "y": [
          196.1300048828125,
          196.25999450683594,
          196.1082000732422,
          195.89999389648438,
          195.77000427246094,
          195.48680114746094,
          195.5760955810547,
          195.52999877929688,
          195.52999877929688,
          195.52000427246094,
          195.21499633789062,
          195.47999572753906,
          195.5500030517578,
          195.63360595703125,
          195.69000244140625,
          195.59219360351562,
          195.57000732421875,
          195.54049682617188,
          195.8000030517578,
          195.74000549316406,
          195.7799072265625,
          195.66409301757812,
          195.63999938964844,
          195.64999389648438,
          195.7050018310547,
          195.74000549316406,
          195.82000732421875,
          195.89999389648438,
          195.97000122070312,
          196.110107421875,
          196.2050018310547,
          196.14500427246094,
          195.93499755859375,
          196.08999633789062,
          196.02499389648438,
          195.83999633789062,
          195.75999450683594,
          195.75999450683594,
          195.66000366210938,
          195.7100067138672,
          195.83999633789062,
          195.9600067138672,
          195.97000122070312,
          196.05999755859375,
          196.1699981689453,
          196.26499938964844,
          196.3350067138672,
          196.35890197753906,
          196.2899932861328,
          196.25999450683594,
          196.27999877929688,
          196.25999450683594,
          196.47000122070312,
          196.44000244140625,
          196.210205078125,
          196.0500030517578,
          195.85000610351562,
          195.89999389648438,
          196.00999450683594,
          195.9199981689453,
          195.89999389648438,
          195.9149932861328,
          195.7899932861328,
          195.6999969482422,
          195.60499572753906,
          195.73500061035156,
          195.7899932861328,
          195.8300018310547,
          195.75,
          195.72000122070312,
          195.8000030517578,
          195.86000061035156,
          195.7899932861328,
          195.80999755859375,
          195.76499938964844,
          195.74000549316406,
          195.72999572753906,
          195.65789794921875,
          195.5299072265625,
          195.54510498046875,
          195.4600067138672,
          195.5800018310547,
          195.63999938964844,
          195.625,
          195.72979736328125,
          195.83999633789062,
          195.92999267578125,
          195.8300018310547,
          195.74000549316406,
          195.75,
          195.63999938964844,
          195.6999969482422,
          195.72000122070312,
          195.74000549316406,
          195.6876983642578,
          195.67230224609375,
          195.72500610351562,
          195.6999969482422,
          195.65499877929688,
          195.71499633789062,
          195.69500732421875,
          195.66000366210938,
          195.6199951171875,
          195.7449951171875,
          195.8000030517578,
          195.83999633789062,
          195.84500122070312,
          195.72999572753906,
          195.6649932861328,
          195.63009643554688,
          195.7050018310547,
          195.78500366210938,
          195.72000122070312,
          195.7541046142578,
          195.74000549316406,
          195.8249969482422,
          195.81500244140625,
          195.7899932861328,
          195.81500244140625,
          195.8350067138672,
          195.72500610351562,
          195.75,
          195.69000244140625,
          195.75160217285156,
          195.77000427246094,
          195.72999572753906,
          195.67799377441406,
          195.72999572753906,
          195.68499755859375,
          195.72000122070312,
          195.66000366210938,
          195.6300048828125,
          195.61000061035156,
          195.60130310058594,
          195.61000061035156,
          195.60499572753906,
          195.6300048828125,
          195.63999938964844,
          195.65499877929688,
          195.58810424804688,
          195.51499938964844,
          195.47999572753906,
          195.41000366210938,
          195.42999267578125,
          195.4199981689453,
          195.4499969482422,
          195.49000549316406,
          195.5699005126953,
          195.49000549316406,
          195.52999877929688,
          195.45419311523438,
          195.47000122070312,
          195.48789978027344,
          195.47999572753906,
          195.49000549316406,
          195.52000427246094,
          195.51539611816406,
          195.56500244140625,
          195.56849670410156,
          195.5601043701172,
          195.59860229492188,
          195.6750030517578,
          195.69000244140625,
          195.64100646972656,
          195.58999633789062,
          195.5399932861328,
          195.67999267578125,
          195.6750030517578,
          195.69500732421875,
          195.78500366210938,
          195.75999450683594,
          195.72000122070312,
          195.7440948486328,
          195.72000122070312,
          195.6750030517578,
          195.69500732421875,
          195.68499755859375,
          195.62989807128906,
          195.68499755859375,
          195.6699981689453,
          195.6699981689453,
          195.6999969482422,
          195.64999389648438,
          195.6300048828125,
          195.66000366210938,
          195.6999969482422,
          195.66000366210938,
          195.69500732421875,
          195.67999267578125,
          195.64999389648438,
          195.62969970703125,
          195.7050018310547,
          195.66969299316406,
          195.66000366210938,
          195.63999938964844,
          195.67999267578125,
          195.64999389648438,
          195.64999389648438,
          195.67999267578125,
          195.66000366210938,
          195.6649932861328,
          195.69500732421875,
          195.7100067138672,
          195.7100067138672,
          195.69500732421875,
          195.75,
          195.72000122070312,
          195.7449951171875,
          195.84500122070312,
          195.97000122070312,
          195.93099975585938,
          195.90989685058594,
          195.9499969482422,
          195.9499969482422,
          195.9550018310547,
          196,
          195.9949951171875,
          196.06979370117188,
          196.05999755859375,
          196.0500030517578,
          195.9550018310547,
          195.90499877929688,
          195.83999633789062,
          195.86500549316406,
          195.8350067138672,
          195.76499938964844,
          195.7799072265625,
          195.75,
          195.7550048828125,
          195.66000366210938,
          195.5399932861328,
          195.53500366210938,
          195.5399932861328,
          195.4976043701172,
          195.52499389648438,
          195.59849548339844,
          195.61000061035156,
          195.61000061035156,
          195.6199951171875,
          195.6479949951172,
          195.6300048828125,
          195.6898956298828,
          195.71499633789062,
          195.65499877929688,
          195.6199951171875,
          195.5800018310547,
          195.59500122070312,
          195.60000610351562,
          195.5749969482422,
          195.58999633789062,
          195.6466064453125,
          195.67999267578125,
          195.68499755859375,
          195.625,
          195.6298065185547,
          195.6199951171875,
          195.61000061035156,
          195.5749969482422,
          195.61000061035156,
          195.61500549316406,
          195.58999633789062,
          195.5850067138672,
          195.5749969482422,
          195.53500366210938,
          195.6280975341797,
          195.53500366210938,
          195.48500061035156,
          195.48500061035156,
          195.47830200195312,
          195.47500610351562,
          195.5449981689453,
          195.51499938964844,
          195.52000427246094,
          195.47000122070312,
          195.45249938964844,
          195.47999572753906,
          195.3583984375,
          195.2384033203125,
          195.14999389648438,
          194.99000549316406,
          195.10000610351562,
          195.06849670410156,
          195.0800018310547,
          195.23500061035156,
          195.3040008544922,
          195.28500366210938,
          195.30999755859375,
          195.3300018310547,
          195.38499450683594,
          195.41000366210938,
          195.35000610351562,
          195.4149932861328,
          195.52999877929688,
          195.5399932861328,
          195.5299072265625,
          195.49000549316406,
          195.49000549316406,
          195.50900268554688,
          195.52499389648438,
          195.54449462890625,
          195.4600067138672,
          195.3800048828125,
          195.44000244140625,
          195.4365997314453,
          195.4550018310547,
          195.35000610351562,
          195.3699951171875,
          195.35830688476562,
          195.30499267578125,
          195.2449951171875,
          195.22999572753906,
          195.26010131835938,
          195.25999450683594,
          195.25010681152344,
          195.24000549316406,
          195.25999450683594,
          195.27499389648438,
          195.25999450683594,
          195.27499389648438,
          195.27000427246094,
          195.30499267578125,
          195.27999877929688,
          195.35499572753906,
          195.3957977294922,
          195.3632049560547,
          195.38499450683594,
          195.35000610351562,
          195.2899932861328,
          195.27499389648438,
          195.24000549316406,
          195.22999572753906,
          195.25,
          195.22999572753906,
          195.23500061035156,
          195.21499633789062,
          195.23500061035156,
          195.27999877929688,
          195.3459014892578,
          195.29629516601562,
          195.27000427246094,
          195.2501983642578,
          195.19000244140625,
          195.1199951171875,
          195.0800018310547,
          195.05999755859375,
          195.1649932861328,
          195.2050018310547,
          195.22000122070312,
          195.30999755859375,
          195.35000610351562,
          195.2949981689453,
          195.2100067138672,
          195.24000549316406,
          195.2812957763672,
          195.25250244140625,
          195.28500366210938,
          195.23500061035156,
          195.23500061035156,
          195.28500366210938,
          195.39300537109375,
          195.44000244140625,
          195.3800048828125,
          195.39500427246094,
          195.35499572753906,
          195.2550048828125,
          195.16000366210938,
          195.13499450683594,
          195.13999938964844,
          195.2100067138672,
          195.1300048828125,
          195.05999755859375,
          195.0449981689453,
          195.01499938964844,
          194.99000549316406,
          194.9949951171875,
          195.02780151367188,
          195,
          195.07000732421875,
          195.10000610351562,
          195.0850067138672,
          194.85499572753906,
          194.55999755859375,
          194.40499877929688,
          194.45989990234375,
          194.30999755859375,
          194.32000732421875,
          194.1750030517578,
          194.41000366210938,
          194.34500122070312,
          194.47999572753906
         ],
         "yaxis": "y"
        }
       ],
       "layout": {
        "legend": {
         "title": {
          "text": "variable"
         },
         "tracegroupgap": 0
        },
        "template": {
         "data": {
          "bar": [
           {
            "error_x": {
             "color": "#2a3f5f"
            },
            "error_y": {
             "color": "#2a3f5f"
            },
            "marker": {
             "line": {
              "color": "#E5ECF6",
              "width": 0.5
             },
             "pattern": {
              "fillmode": "overlay",
              "size": 10,
              "solidity": 0.2
             }
            },
            "type": "bar"
           }
          ],
          "barpolar": [
           {
            "marker": {
             "line": {
              "color": "#E5ECF6",
              "width": 0.5
             },
             "pattern": {
              "fillmode": "overlay",
              "size": 10,
              "solidity": 0.2
             }
            },
            "type": "barpolar"
           }
          ],
          "carpet": [
           {
            "aaxis": {
             "endlinecolor": "#2a3f5f",
             "gridcolor": "white",
             "linecolor": "white",
             "minorgridcolor": "white",
             "startlinecolor": "#2a3f5f"
            },
            "baxis": {
             "endlinecolor": "#2a3f5f",
             "gridcolor": "white",
             "linecolor": "white",
             "minorgridcolor": "white",
             "startlinecolor": "#2a3f5f"
            },
            "type": "carpet"
           }
          ],
          "choropleth": [
           {
            "colorbar": {
             "outlinewidth": 0,
             "ticks": ""
            },
            "type": "choropleth"
           }
          ],
          "contour": [
           {
            "colorbar": {
             "outlinewidth": 0,
             "ticks": ""
            },
            "colorscale": [
             [
              0,
              "#0d0887"
             ],
             [
              0.1111111111111111,
              "#46039f"
             ],
             [
              0.2222222222222222,
              "#7201a8"
             ],
             [
              0.3333333333333333,
              "#9c179e"
             ],
             [
              0.4444444444444444,
              "#bd3786"
             ],
             [
              0.5555555555555556,
              "#d8576b"
             ],
             [
              0.6666666666666666,
              "#ed7953"
             ],
             [
              0.7777777777777778,
              "#fb9f3a"
             ],
             [
              0.8888888888888888,
              "#fdca26"
             ],
             [
              1,
              "#f0f921"
             ]
            ],
            "type": "contour"
           }
          ],
          "contourcarpet": [
           {
            "colorbar": {
             "outlinewidth": 0,
             "ticks": ""
            },
            "type": "contourcarpet"
           }
          ],
          "heatmap": [
           {
            "colorbar": {
             "outlinewidth": 0,
             "ticks": ""
            },
            "colorscale": [
             [
              0,
              "#0d0887"
             ],
             [
              0.1111111111111111,
              "#46039f"
             ],
             [
              0.2222222222222222,
              "#7201a8"
             ],
             [
              0.3333333333333333,
              "#9c179e"
             ],
             [
              0.4444444444444444,
              "#bd3786"
             ],
             [
              0.5555555555555556,
              "#d8576b"
             ],
             [
              0.6666666666666666,
              "#ed7953"
             ],
             [
              0.7777777777777778,
              "#fb9f3a"
             ],
             [
              0.8888888888888888,
              "#fdca26"
             ],
             [
              1,
              "#f0f921"
             ]
            ],
            "type": "heatmap"
           }
          ],
          "heatmapgl": [
           {
            "colorbar": {
             "outlinewidth": 0,
             "ticks": ""
            },
            "colorscale": [
             [
              0,
              "#0d0887"
             ],
             [
              0.1111111111111111,
              "#46039f"
             ],
             [
              0.2222222222222222,
              "#7201a8"
             ],
             [
              0.3333333333333333,
              "#9c179e"
             ],
             [
              0.4444444444444444,
              "#bd3786"
             ],
             [
              0.5555555555555556,
              "#d8576b"
             ],
             [
              0.6666666666666666,
              "#ed7953"
             ],
             [
              0.7777777777777778,
              "#fb9f3a"
             ],
             [
              0.8888888888888888,
              "#fdca26"
             ],
             [
              1,
              "#f0f921"
             ]
            ],
            "type": "heatmapgl"
           }
          ],
          "histogram": [
           {
            "marker": {
             "pattern": {
              "fillmode": "overlay",
              "size": 10,
              "solidity": 0.2
             }
            },
            "type": "histogram"
           }
          ],
          "histogram2d": [
           {
            "colorbar": {
             "outlinewidth": 0,
             "ticks": ""
            },
            "colorscale": [
             [
              0,
              "#0d0887"
             ],
             [
              0.1111111111111111,
              "#46039f"
             ],
             [
              0.2222222222222222,
              "#7201a8"
             ],
             [
              0.3333333333333333,
              "#9c179e"
             ],
             [
              0.4444444444444444,
              "#bd3786"
             ],
             [
              0.5555555555555556,
              "#d8576b"
             ],
             [
              0.6666666666666666,
              "#ed7953"
             ],
             [
              0.7777777777777778,
              "#fb9f3a"
             ],
             [
              0.8888888888888888,
              "#fdca26"
             ],
             [
              1,
              "#f0f921"
             ]
            ],
            "type": "histogram2d"
           }
          ],
          "histogram2dcontour": [
           {
            "colorbar": {
             "outlinewidth": 0,
             "ticks": ""
            },
            "colorscale": [
             [
              0,
              "#0d0887"
             ],
             [
              0.1111111111111111,
              "#46039f"
             ],
             [
              0.2222222222222222,
              "#7201a8"
             ],
             [
              0.3333333333333333,
              "#9c179e"
             ],
             [
              0.4444444444444444,
              "#bd3786"
             ],
             [
              0.5555555555555556,
              "#d8576b"
             ],
             [
              0.6666666666666666,
              "#ed7953"
             ],
             [
              0.7777777777777778,
              "#fb9f3a"
             ],
             [
              0.8888888888888888,
              "#fdca26"
             ],
             [
              1,
              "#f0f921"
             ]
            ],
            "type": "histogram2dcontour"
           }
          ],
          "mesh3d": [
           {
            "colorbar": {
             "outlinewidth": 0,
             "ticks": ""
            },
            "type": "mesh3d"
           }
          ],
          "parcoords": [
           {
            "line": {
             "colorbar": {
              "outlinewidth": 0,
              "ticks": ""
             }
            },
            "type": "parcoords"
           }
          ],
          "pie": [
           {
            "automargin": true,
            "type": "pie"
           }
          ],
          "scatter": [
           {
            "fillpattern": {
             "fillmode": "overlay",
             "size": 10,
             "solidity": 0.2
            },
            "type": "scatter"
           }
          ],
          "scatter3d": [
           {
            "line": {
             "colorbar": {
              "outlinewidth": 0,
              "ticks": ""
             }
            },
            "marker": {
             "colorbar": {
              "outlinewidth": 0,
              "ticks": ""
             }
            },
            "type": "scatter3d"
           }
          ],
          "scattercarpet": [
           {
            "marker": {
             "colorbar": {
              "outlinewidth": 0,
              "ticks": ""
             }
            },
            "type": "scattercarpet"
           }
          ],
          "scattergeo": [
           {
            "marker": {
             "colorbar": {
              "outlinewidth": 0,
              "ticks": ""
             }
            },
            "type": "scattergeo"
           }
          ],
          "scattergl": [
           {
            "marker": {
             "colorbar": {
              "outlinewidth": 0,
              "ticks": ""
             }
            },
            "type": "scattergl"
           }
          ],
          "scattermapbox": [
           {
            "marker": {
             "colorbar": {
              "outlinewidth": 0,
              "ticks": ""
             }
            },
            "type": "scattermapbox"
           }
          ],
          "scatterpolar": [
           {
            "marker": {
             "colorbar": {
              "outlinewidth": 0,
              "ticks": ""
             }
            },
            "type": "scatterpolar"
           }
          ],
          "scatterpolargl": [
           {
            "marker": {
             "colorbar": {
              "outlinewidth": 0,
              "ticks": ""
             }
            },
            "type": "scatterpolargl"
           }
          ],
          "scatterternary": [
           {
            "marker": {
             "colorbar": {
              "outlinewidth": 0,
              "ticks": ""
             }
            },
            "type": "scatterternary"
           }
          ],
          "surface": [
           {
            "colorbar": {
             "outlinewidth": 0,
             "ticks": ""
            },
            "colorscale": [
             [
              0,
              "#0d0887"
             ],
             [
              0.1111111111111111,
              "#46039f"
             ],
             [
              0.2222222222222222,
              "#7201a8"
             ],
             [
              0.3333333333333333,
              "#9c179e"
             ],
             [
              0.4444444444444444,
              "#bd3786"
             ],
             [
              0.5555555555555556,
              "#d8576b"
             ],
             [
              0.6666666666666666,
              "#ed7953"
             ],
             [
              0.7777777777777778,
              "#fb9f3a"
             ],
             [
              0.8888888888888888,
              "#fdca26"
             ],
             [
              1,
              "#f0f921"
             ]
            ],
            "type": "surface"
           }
          ],
          "table": [
           {
            "cells": {
             "fill": {
              "color": "#EBF0F8"
             },
             "line": {
              "color": "white"
             }
            },
            "header": {
             "fill": {
              "color": "#C8D4E3"
             },
             "line": {
              "color": "white"
             }
            },
            "type": "table"
           }
          ]
         },
         "layout": {
          "annotationdefaults": {
           "arrowcolor": "#2a3f5f",
           "arrowhead": 0,
           "arrowwidth": 1
          },
          "autotypenumbers": "strict",
          "coloraxis": {
           "colorbar": {
            "outlinewidth": 0,
            "ticks": ""
           }
          },
          "colorscale": {
           "diverging": [
            [
             0,
             "#8e0152"
            ],
            [
             0.1,
             "#c51b7d"
            ],
            [
             0.2,
             "#de77ae"
            ],
            [
             0.3,
             "#f1b6da"
            ],
            [
             0.4,
             "#fde0ef"
            ],
            [
             0.5,
             "#f7f7f7"
            ],
            [
             0.6,
             "#e6f5d0"
            ],
            [
             0.7,
             "#b8e186"
            ],
            [
             0.8,
             "#7fbc41"
            ],
            [
             0.9,
             "#4d9221"
            ],
            [
             1,
             "#276419"
            ]
           ],
           "sequential": [
            [
             0,
             "#0d0887"
            ],
            [
             0.1111111111111111,
             "#46039f"
            ],
            [
             0.2222222222222222,
             "#7201a8"
            ],
            [
             0.3333333333333333,
             "#9c179e"
            ],
            [
             0.4444444444444444,
             "#bd3786"
            ],
            [
             0.5555555555555556,
             "#d8576b"
            ],
            [
             0.6666666666666666,
             "#ed7953"
            ],
            [
             0.7777777777777778,
             "#fb9f3a"
            ],
            [
             0.8888888888888888,
             "#fdca26"
            ],
            [
             1,
             "#f0f921"
            ]
           ],
           "sequentialminus": [
            [
             0,
             "#0d0887"
            ],
            [
             0.1111111111111111,
             "#46039f"
            ],
            [
             0.2222222222222222,
             "#7201a8"
            ],
            [
             0.3333333333333333,
             "#9c179e"
            ],
            [
             0.4444444444444444,
             "#bd3786"
            ],
            [
             0.5555555555555556,
             "#d8576b"
            ],
            [
             0.6666666666666666,
             "#ed7953"
            ],
            [
             0.7777777777777778,
             "#fb9f3a"
            ],
            [
             0.8888888888888888,
             "#fdca26"
            ],
            [
             1,
             "#f0f921"
            ]
           ]
          },
          "colorway": [
           "#636efa",
           "#EF553B",
           "#00cc96",
           "#ab63fa",
           "#FFA15A",
           "#19d3f3",
           "#FF6692",
           "#B6E880",
           "#FF97FF",
           "#FECB52"
          ],
          "font": {
           "color": "#2a3f5f"
          },
          "geo": {
           "bgcolor": "white",
           "lakecolor": "white",
           "landcolor": "#E5ECF6",
           "showlakes": true,
           "showland": true,
           "subunitcolor": "white"
          },
          "hoverlabel": {
           "align": "left"
          },
          "hovermode": "closest",
          "mapbox": {
           "style": "light"
          },
          "paper_bgcolor": "white",
          "plot_bgcolor": "#E5ECF6",
          "polar": {
           "angularaxis": {
            "gridcolor": "white",
            "linecolor": "white",
            "ticks": ""
           },
           "bgcolor": "#E5ECF6",
           "radialaxis": {
            "gridcolor": "white",
            "linecolor": "white",
            "ticks": ""
           }
          },
          "scene": {
           "xaxis": {
            "backgroundcolor": "#E5ECF6",
            "gridcolor": "white",
            "gridwidth": 2,
            "linecolor": "white",
            "showbackground": true,
            "ticks": "",
            "zerolinecolor": "white"
           },
           "yaxis": {
            "backgroundcolor": "#E5ECF6",
            "gridcolor": "white",
            "gridwidth": 2,
            "linecolor": "white",
            "showbackground": true,
            "ticks": "",
            "zerolinecolor": "white"
           },
           "zaxis": {
            "backgroundcolor": "#E5ECF6",
            "gridcolor": "white",
            "gridwidth": 2,
            "linecolor": "white",
            "showbackground": true,
            "ticks": "",
            "zerolinecolor": "white"
           }
          },
          "shapedefaults": {
           "line": {
            "color": "#2a3f5f"
           }
          },
          "ternary": {
           "aaxis": {
            "gridcolor": "white",
            "linecolor": "white",
            "ticks": ""
           },
           "baxis": {
            "gridcolor": "white",
            "linecolor": "white",
            "ticks": ""
           },
           "bgcolor": "#E5ECF6",
           "caxis": {
            "gridcolor": "white",
            "linecolor": "white",
            "ticks": ""
           }
          },
          "title": {
           "x": 0.05
          },
          "xaxis": {
           "automargin": true,
           "gridcolor": "white",
           "linecolor": "white",
           "ticks": "",
           "title": {
            "standoff": 15
           },
           "zerolinecolor": "white",
           "zerolinewidth": 2
          },
          "yaxis": {
           "automargin": true,
           "gridcolor": "white",
           "linecolor": "white",
           "ticks": "",
           "title": {
            "standoff": 15
           },
           "zerolinecolor": "white",
           "zerolinewidth": 2
          }
         }
        },
        "title": {
         "text": "AAPL Stock Prices w/ Bollinger Bands"
        },
        "xaxis": {
         "anchor": "y",
         "domain": [
          0,
          1
         ],
         "title": {
          "text": "Datetime"
         }
        },
        "yaxis": {
         "anchor": "x",
         "domain": [
          0,
          1
         ],
         "title": {
          "text": "value"
         }
        }
       }
      },
      "text/html": [
       "<div>                            <div id=\"ed3b3e49-ba60-4906-ba9d-20d794ef99bd\" class=\"plotly-graph-div\" style=\"height:525px; width:100%;\"></div>            <script type=\"text/javascript\">                require([\"plotly\"], function(Plotly) {                    window.PLOTLYENV=window.PLOTLYENV || {};                                    if (document.getElementById(\"ed3b3e49-ba60-4906-ba9d-20d794ef99bd\")) {                    Plotly.newPlot(                        \"ed3b3e49-ba60-4906-ba9d-20d794ef99bd\",                        [{\"hovertemplate\":\"variable=SMA_24<br>Datetime=%{x}<br>value=%{y}<extra></extra>\",\"legendgroup\":\"SMA_24\",\"line\":{\"color\":\"#85deb1\",\"dash\":\"solid\"},\"marker\":{\"symbol\":\"circle\"},\"mode\":\"lines\",\"name\":\"SMA_24\",\"showlegend\":true,\"x\":[\"2024-06-06T09:30:00-04:00\",\"2024-06-06T09:31:00-04:00\",\"2024-06-06T09:32:00-04:00\",\"2024-06-06T09:33:00-04:00\",\"2024-06-06T09:34:00-04:00\",\"2024-06-06T09:35:00-04:00\",\"2024-06-06T09:36:00-04:00\",\"2024-06-06T09:37:00-04:00\",\"2024-06-06T09:38:00-04:00\",\"2024-06-06T09:39:00-04:00\",\"2024-06-06T09:40:00-04:00\",\"2024-06-06T09:41:00-04:00\",\"2024-06-06T09:42:00-04:00\",\"2024-06-06T09:43:00-04:00\",\"2024-06-06T09:44:00-04:00\",\"2024-06-06T09:45:00-04:00\",\"2024-06-06T09:46:00-04:00\",\"2024-06-06T09:47:00-04:00\",\"2024-06-06T09:48:00-04:00\",\"2024-06-06T09:49:00-04:00\",\"2024-06-06T09:50:00-04:00\",\"2024-06-06T09:51:00-04:00\",\"2024-06-06T09:52:00-04:00\",\"2024-06-06T09:53:00-04:00\",\"2024-06-06T09:54:00-04:00\",\"2024-06-06T09:55:00-04:00\",\"2024-06-06T09:56:00-04:00\",\"2024-06-06T09:57:00-04:00\",\"2024-06-06T09:58:00-04:00\",\"2024-06-06T09:59:00-04:00\",\"2024-06-06T10:00:00-04:00\",\"2024-06-06T10:01:00-04:00\",\"2024-06-06T10:02:00-04:00\",\"2024-06-06T10:03:00-04:00\",\"2024-06-06T10:04:00-04:00\",\"2024-06-06T10:05:00-04:00\",\"2024-06-06T10:06:00-04:00\",\"2024-06-06T10:07:00-04:00\",\"2024-06-06T10:08:00-04:00\",\"2024-06-06T10:09:00-04:00\",\"2024-06-06T10:10:00-04:00\",\"2024-06-06T10:11:00-04:00\",\"2024-06-06T10:12:00-04:00\",\"2024-06-06T10:13:00-04:00\",\"2024-06-06T10:14:00-04:00\",\"2024-06-06T10:15:00-04:00\",\"2024-06-06T10:16:00-04:00\",\"2024-06-06T10:17:00-04:00\",\"2024-06-06T10:18:00-04:00\",\"2024-06-06T10:19:00-04:00\",\"2024-06-06T10:20:00-04:00\",\"2024-06-06T10:21:00-04:00\",\"2024-06-06T10:22:00-04:00\",\"2024-06-06T10:23:00-04:00\",\"2024-06-06T10:24:00-04:00\",\"2024-06-06T10:25:00-04:00\",\"2024-06-06T10:26:00-04:00\",\"2024-06-06T10:27:00-04:00\",\"2024-06-06T10:28:00-04:00\",\"2024-06-06T10:29:00-04:00\",\"2024-06-06T10:30:00-04:00\",\"2024-06-06T10:31:00-04:00\",\"2024-06-06T10:32:00-04:00\",\"2024-06-06T10:33:00-04:00\",\"2024-06-06T10:34:00-04:00\",\"2024-06-06T10:35:00-04:00\",\"2024-06-06T10:36:00-04:00\",\"2024-06-06T10:37:00-04:00\",\"2024-06-06T10:38:00-04:00\",\"2024-06-06T10:39:00-04:00\",\"2024-06-06T10:40:00-04:00\",\"2024-06-06T10:41:00-04:00\",\"2024-06-06T10:42:00-04:00\",\"2024-06-06T10:43:00-04:00\",\"2024-06-06T10:44:00-04:00\",\"2024-06-06T10:45:00-04:00\",\"2024-06-06T10:46:00-04:00\",\"2024-06-06T10:47:00-04:00\",\"2024-06-06T10:48:00-04:00\",\"2024-06-06T10:49:00-04:00\",\"2024-06-06T10:50:00-04:00\",\"2024-06-06T10:51:00-04:00\",\"2024-06-06T10:52:00-04:00\",\"2024-06-06T10:53:00-04:00\",\"2024-06-06T10:54:00-04:00\",\"2024-06-06T10:55:00-04:00\",\"2024-06-06T10:56:00-04:00\",\"2024-06-06T10:57:00-04:00\",\"2024-06-06T10:58:00-04:00\",\"2024-06-06T10:59:00-04:00\",\"2024-06-06T11:00:00-04:00\",\"2024-06-06T11:01:00-04:00\",\"2024-06-06T11:02:00-04:00\",\"2024-06-06T11:03:00-04:00\",\"2024-06-06T11:04:00-04:00\",\"2024-06-06T11:05:00-04:00\",\"2024-06-06T11:06:00-04:00\",\"2024-06-06T11:07:00-04:00\",\"2024-06-06T11:08:00-04:00\",\"2024-06-06T11:09:00-04:00\",\"2024-06-06T11:10:00-04:00\",\"2024-06-06T11:11:00-04:00\",\"2024-06-06T11:12:00-04:00\",\"2024-06-06T11:13:00-04:00\",\"2024-06-06T11:14:00-04:00\",\"2024-06-06T11:15:00-04:00\",\"2024-06-06T11:16:00-04:00\",\"2024-06-06T11:17:00-04:00\",\"2024-06-06T11:18:00-04:00\",\"2024-06-06T11:19:00-04:00\",\"2024-06-06T11:20:00-04:00\",\"2024-06-06T11:21:00-04:00\",\"2024-06-06T11:22:00-04:00\",\"2024-06-06T11:23:00-04:00\",\"2024-06-06T11:24:00-04:00\",\"2024-06-06T11:25:00-04:00\",\"2024-06-06T11:26:00-04:00\",\"2024-06-06T11:27:00-04:00\",\"2024-06-06T11:28:00-04:00\",\"2024-06-06T11:29:00-04:00\",\"2024-06-06T11:30:00-04:00\",\"2024-06-06T11:31:00-04:00\",\"2024-06-06T11:32:00-04:00\",\"2024-06-06T11:33:00-04:00\",\"2024-06-06T11:34:00-04:00\",\"2024-06-06T11:35:00-04:00\",\"2024-06-06T11:36:00-04:00\",\"2024-06-06T11:37:00-04:00\",\"2024-06-06T11:38:00-04:00\",\"2024-06-06T11:39:00-04:00\",\"2024-06-06T11:40:00-04:00\",\"2024-06-06T11:41:00-04:00\",\"2024-06-06T11:42:00-04:00\",\"2024-06-06T11:43:00-04:00\",\"2024-06-06T11:44:00-04:00\",\"2024-06-06T11:45:00-04:00\",\"2024-06-06T11:46:00-04:00\",\"2024-06-06T11:47:00-04:00\",\"2024-06-06T11:48:00-04:00\",\"2024-06-06T11:49:00-04:00\",\"2024-06-06T11:50:00-04:00\",\"2024-06-06T11:51:00-04:00\",\"2024-06-06T11:52:00-04:00\",\"2024-06-06T11:53:00-04:00\",\"2024-06-06T11:54:00-04:00\",\"2024-06-06T11:55:00-04:00\",\"2024-06-06T11:56:00-04:00\",\"2024-06-06T11:57:00-04:00\",\"2024-06-06T11:58:00-04:00\",\"2024-06-06T11:59:00-04:00\",\"2024-06-06T12:00:00-04:00\",\"2024-06-06T12:01:00-04:00\",\"2024-06-06T12:02:00-04:00\",\"2024-06-06T12:03:00-04:00\",\"2024-06-06T12:04:00-04:00\",\"2024-06-06T12:05:00-04:00\",\"2024-06-06T12:06:00-04:00\",\"2024-06-06T12:07:00-04:00\",\"2024-06-06T12:08:00-04:00\",\"2024-06-06T12:09:00-04:00\",\"2024-06-06T12:10:00-04:00\",\"2024-06-06T12:11:00-04:00\",\"2024-06-06T12:12:00-04:00\",\"2024-06-06T12:13:00-04:00\",\"2024-06-06T12:14:00-04:00\",\"2024-06-06T12:15:00-04:00\",\"2024-06-06T12:16:00-04:00\",\"2024-06-06T12:17:00-04:00\",\"2024-06-06T12:18:00-04:00\",\"2024-06-06T12:19:00-04:00\",\"2024-06-06T12:20:00-04:00\",\"2024-06-06T12:21:00-04:00\",\"2024-06-06T12:22:00-04:00\",\"2024-06-06T12:23:00-04:00\",\"2024-06-06T12:24:00-04:00\",\"2024-06-06T12:25:00-04:00\",\"2024-06-06T12:26:00-04:00\",\"2024-06-06T12:27:00-04:00\",\"2024-06-06T12:28:00-04:00\",\"2024-06-06T12:29:00-04:00\",\"2024-06-06T12:30:00-04:00\",\"2024-06-06T12:31:00-04:00\",\"2024-06-06T12:32:00-04:00\",\"2024-06-06T12:33:00-04:00\",\"2024-06-06T12:34:00-04:00\",\"2024-06-06T12:35:00-04:00\",\"2024-06-06T12:36:00-04:00\",\"2024-06-06T12:37:00-04:00\",\"2024-06-06T12:38:00-04:00\",\"2024-06-06T12:39:00-04:00\",\"2024-06-06T12:40:00-04:00\",\"2024-06-06T12:41:00-04:00\",\"2024-06-06T12:42:00-04:00\",\"2024-06-06T12:43:00-04:00\",\"2024-06-06T12:44:00-04:00\",\"2024-06-06T12:45:00-04:00\",\"2024-06-06T12:46:00-04:00\",\"2024-06-06T12:47:00-04:00\",\"2024-06-06T12:48:00-04:00\",\"2024-06-06T12:49:00-04:00\",\"2024-06-06T12:50:00-04:00\",\"2024-06-06T12:51:00-04:00\",\"2024-06-06T12:52:00-04:00\",\"2024-06-06T12:53:00-04:00\",\"2024-06-06T12:54:00-04:00\",\"2024-06-06T12:55:00-04:00\",\"2024-06-06T12:56:00-04:00\",\"2024-06-06T12:57:00-04:00\",\"2024-06-06T12:58:00-04:00\",\"2024-06-06T12:59:00-04:00\",\"2024-06-06T13:00:00-04:00\",\"2024-06-06T13:01:00-04:00\",\"2024-06-06T13:02:00-04:00\",\"2024-06-06T13:03:00-04:00\",\"2024-06-06T13:04:00-04:00\",\"2024-06-06T13:05:00-04:00\",\"2024-06-06T13:06:00-04:00\",\"2024-06-06T13:07:00-04:00\",\"2024-06-06T13:08:00-04:00\",\"2024-06-06T13:09:00-04:00\",\"2024-06-06T13:10:00-04:00\",\"2024-06-06T13:11:00-04:00\",\"2024-06-06T13:12:00-04:00\",\"2024-06-06T13:13:00-04:00\",\"2024-06-06T13:14:00-04:00\",\"2024-06-06T13:15:00-04:00\",\"2024-06-06T13:16:00-04:00\",\"2024-06-06T13:17:00-04:00\",\"2024-06-06T13:18:00-04:00\",\"2024-06-06T13:19:00-04:00\",\"2024-06-06T13:20:00-04:00\",\"2024-06-06T13:21:00-04:00\",\"2024-06-06T13:22:00-04:00\",\"2024-06-06T13:23:00-04:00\",\"2024-06-06T13:24:00-04:00\",\"2024-06-06T13:25:00-04:00\",\"2024-06-06T13:26:00-04:00\",\"2024-06-06T13:27:00-04:00\",\"2024-06-06T13:28:00-04:00\",\"2024-06-06T13:29:00-04:00\",\"2024-06-06T13:30:00-04:00\",\"2024-06-06T13:31:00-04:00\",\"2024-06-06T13:32:00-04:00\",\"2024-06-06T13:33:00-04:00\",\"2024-06-06T13:34:00-04:00\",\"2024-06-06T13:35:00-04:00\",\"2024-06-06T13:36:00-04:00\",\"2024-06-06T13:37:00-04:00\",\"2024-06-06T13:38:00-04:00\",\"2024-06-06T13:39:00-04:00\",\"2024-06-06T13:40:00-04:00\",\"2024-06-06T13:41:00-04:00\",\"2024-06-06T13:42:00-04:00\",\"2024-06-06T13:43:00-04:00\",\"2024-06-06T13:44:00-04:00\",\"2024-06-06T13:45:00-04:00\",\"2024-06-06T13:46:00-04:00\",\"2024-06-06T13:47:00-04:00\",\"2024-06-06T13:48:00-04:00\",\"2024-06-06T13:49:00-04:00\",\"2024-06-06T13:50:00-04:00\",\"2024-06-06T13:51:00-04:00\",\"2024-06-06T13:52:00-04:00\",\"2024-06-06T13:53:00-04:00\",\"2024-06-06T13:54:00-04:00\",\"2024-06-06T13:55:00-04:00\",\"2024-06-06T13:56:00-04:00\",\"2024-06-06T13:57:00-04:00\",\"2024-06-06T13:58:00-04:00\",\"2024-06-06T13:59:00-04:00\",\"2024-06-06T14:00:00-04:00\",\"2024-06-06T14:01:00-04:00\",\"2024-06-06T14:02:00-04:00\",\"2024-06-06T14:03:00-04:00\",\"2024-06-06T14:04:00-04:00\",\"2024-06-06T14:05:00-04:00\",\"2024-06-06T14:06:00-04:00\",\"2024-06-06T14:07:00-04:00\",\"2024-06-06T14:08:00-04:00\",\"2024-06-06T14:09:00-04:00\",\"2024-06-06T14:10:00-04:00\",\"2024-06-06T14:11:00-04:00\",\"2024-06-06T14:12:00-04:00\",\"2024-06-06T14:13:00-04:00\",\"2024-06-06T14:14:00-04:00\",\"2024-06-06T14:15:00-04:00\",\"2024-06-06T14:16:00-04:00\",\"2024-06-06T14:17:00-04:00\",\"2024-06-06T14:18:00-04:00\",\"2024-06-06T14:19:00-04:00\",\"2024-06-06T14:20:00-04:00\",\"2024-06-06T14:21:00-04:00\",\"2024-06-06T14:22:00-04:00\",\"2024-06-06T14:23:00-04:00\",\"2024-06-06T14:24:00-04:00\",\"2024-06-06T14:25:00-04:00\",\"2024-06-06T14:26:00-04:00\",\"2024-06-06T14:27:00-04:00\",\"2024-06-06T14:28:00-04:00\",\"2024-06-06T14:29:00-04:00\",\"2024-06-06T14:30:00-04:00\",\"2024-06-06T14:31:00-04:00\",\"2024-06-06T14:32:00-04:00\",\"2024-06-06T14:33:00-04:00\",\"2024-06-06T14:34:00-04:00\",\"2024-06-06T14:35:00-04:00\",\"2024-06-06T14:36:00-04:00\",\"2024-06-06T14:37:00-04:00\",\"2024-06-06T14:38:00-04:00\",\"2024-06-06T14:39:00-04:00\",\"2024-06-06T14:40:00-04:00\",\"2024-06-06T14:41:00-04:00\",\"2024-06-06T14:42:00-04:00\",\"2024-06-06T14:43:00-04:00\",\"2024-06-06T14:44:00-04:00\",\"2024-06-06T14:45:00-04:00\",\"2024-06-06T14:46:00-04:00\",\"2024-06-06T14:47:00-04:00\",\"2024-06-06T14:48:00-04:00\",\"2024-06-06T14:49:00-04:00\",\"2024-06-06T14:50:00-04:00\",\"2024-06-06T14:51:00-04:00\",\"2024-06-06T14:52:00-04:00\",\"2024-06-06T14:53:00-04:00\",\"2024-06-06T14:54:00-04:00\",\"2024-06-06T14:55:00-04:00\",\"2024-06-06T14:56:00-04:00\",\"2024-06-06T14:57:00-04:00\",\"2024-06-06T14:58:00-04:00\",\"2024-06-06T14:59:00-04:00\",\"2024-06-06T15:00:00-04:00\",\"2024-06-06T15:01:00-04:00\",\"2024-06-06T15:02:00-04:00\",\"2024-06-06T15:03:00-04:00\",\"2024-06-06T15:04:00-04:00\",\"2024-06-06T15:05:00-04:00\",\"2024-06-06T15:06:00-04:00\",\"2024-06-06T15:07:00-04:00\",\"2024-06-06T15:08:00-04:00\",\"2024-06-06T15:09:00-04:00\",\"2024-06-06T15:10:00-04:00\",\"2024-06-06T15:11:00-04:00\",\"2024-06-06T15:12:00-04:00\",\"2024-06-06T15:13:00-04:00\",\"2024-06-06T15:14:00-04:00\",\"2024-06-06T15:15:00-04:00\",\"2024-06-06T15:16:00-04:00\",\"2024-06-06T15:17:00-04:00\",\"2024-06-06T15:18:00-04:00\",\"2024-06-06T15:19:00-04:00\",\"2024-06-06T15:20:00-04:00\",\"2024-06-06T15:21:00-04:00\",\"2024-06-06T15:22:00-04:00\",\"2024-06-06T15:23:00-04:00\",\"2024-06-06T15:24:00-04:00\",\"2024-06-06T15:25:00-04:00\",\"2024-06-06T15:26:00-04:00\",\"2024-06-06T15:27:00-04:00\",\"2024-06-06T15:28:00-04:00\",\"2024-06-06T15:29:00-04:00\",\"2024-06-06T15:30:00-04:00\",\"2024-06-06T15:31:00-04:00\",\"2024-06-06T15:32:00-04:00\",\"2024-06-06T15:33:00-04:00\",\"2024-06-06T15:34:00-04:00\",\"2024-06-06T15:35:00-04:00\",\"2024-06-06T15:36:00-04:00\",\"2024-06-06T15:37:00-04:00\",\"2024-06-06T15:38:00-04:00\",\"2024-06-06T15:39:00-04:00\",\"2024-06-06T15:40:00-04:00\",\"2024-06-06T15:41:00-04:00\",\"2024-06-06T15:42:00-04:00\",\"2024-06-06T15:43:00-04:00\",\"2024-06-06T15:44:00-04:00\",\"2024-06-06T15:45:00-04:00\",\"2024-06-06T15:46:00-04:00\",\"2024-06-06T15:47:00-04:00\",\"2024-06-06T15:48:00-04:00\",\"2024-06-06T15:49:00-04:00\",\"2024-06-06T15:50:00-04:00\",\"2024-06-06T15:51:00-04:00\",\"2024-06-06T15:52:00-04:00\",\"2024-06-06T15:53:00-04:00\",\"2024-06-06T15:54:00-04:00\",\"2024-06-06T15:55:00-04:00\",\"2024-06-06T15:56:00-04:00\",\"2024-06-06T15:57:00-04:00\",\"2024-06-06T15:58:00-04:00\",\"2024-06-06T15:59:00-04:00\"],\"xaxis\":\"x\",\"y\":[196.1300048828125,196.1300048828125,196.13542111714682,196.1345125834147,196.12492879231772,196.10992876688638,196.08312861124674,196.06004905700684,196.0350488026937,196.01004854838052,195.98463185628256,195.94650650024414,195.91942278544107,195.89525604248047,195.87457275390625,195.85623931884766,195.8338305155436,195.81049728393555,195.7859344482422,195.77218437194824,195.75593439737955,195.7413469950358,195.72193400065103,195.70151710510254,195.68151664733887,195.66380818684897,195.64214197794595,195.63013394673666,195.63013394673666,195.63846715291342,195.66443824768066,195.690642674764,195.71626790364584,195.7331428527832,195.75689252217612,195.79064242045084,195.80564244588217,195.81439208984375,195.81965827941895,195.81840833028158,195.82331720987955,195.83456675211588,195.85204633076987,195.85912958780924,195.8724625905355,195.88871637980142,195.91375414530435,195.94271278381348,195.97225062052408,195.9966252644857,196.01829147338867,196.03745778401694,196.05245780944824,196.07329114278158,196.08703676859537,196.08725357055664,196.0832951863607,196.07975387573242,196.07183710734049,196.07121213277182,196.07454554239908,196.08037885030112,196.08683713277182,196.0922533671061,196.09183629353842,196.08204460144043,196.0726693471273,196.06516901652017,196.05558586120605,196.0380859375,196.0153776804606,195.99308586120605,195.9722983042399,195.95146497090658,195.93271509806314,195.91125679016113,195.88959058125815,195.85875701904297,195.8261693318685,195.79782358805338,195.77678616841635,195.76053619384766,195.74720319112143,195.73178672790527,195.71949513753256,195.71240361531576,195.70927874247232,195.71511205037436,195.72052892049155,195.72615432739258,195.72677930196127,195.7205295562744,195.71511268615723,195.71386273701987,195.7146962483724,195.71001688639322,195.70219612121582,195.6994883219401,195.69490496317545,195.6903216044108,195.6892795562744,195.68782170613608,195.6879094441732,195.69166310628256,195.69999186197916,195.71415837605795,195.72499148050943,195.73353322347006,195.73790804545084,195.73520787556967,195.72646204630533,195.71708742777506,195.715212504069,195.71437899271646,195.71455001831055,195.71871693929037,195.7239252726237,195.72788365681967,195.7299664815267,195.73527081807455,195.74205017089844,195.74205017089844,195.74413363138834,195.74559211730957,195.74711736043295,195.75024223327637,195.75315856933594,195.7555751800537,195.75495020548502,195.75015830993652,195.74515851338705,195.73745028177896,195.73328399658203,195.73099263509116,195.72979291280112,195.72583452860513,195.71833419799805,195.71458435058594,195.7098299662272,195.70628801981607,195.69641749064127,195.6839173634847,195.6710007985433,195.65412584940592,195.6372502644857,195.62454160054526,195.61204147338867,195.6037082672119,195.5961373647054,195.58447074890137,195.5761375427246,195.5668125152588,195.55597941080728,195.5477670033773,195.53776677449545,195.53068351745605,195.5261001586914,195.52215830485025,195.52064577738443,195.51891644795737,195.51704597473145,195.51573753356934,195.51719601949057,195.51865450541177,195.52085876464844,195.52398363749185,195.5264835357666,195.53773307800293,195.5479418436686,195.55940055847168,195.57335917154947,195.5846087137858,195.5908629099528,195.60144996643066,195.6093667348226,195.6185671488444,195.62794240315756,195.63615481058756,195.64240074157715,195.65052541097006,195.6567751566569,195.6632169087728,195.66884167989096,195.67223739624023,195.67514991760254,195.677708307902,195.67874972025552,195.67749977111816,195.67974980672201,195.68349965413412,195.68808301289877,195.68598747253418,195.68723742167154,195.6861826578776,195.68097432454428,195.67597452799478,195.6743075052897,195.67038663228354,195.66746966044107,195.66767756144205,195.66621907552084,195.6653855641683,195.66809844970703,195.66914049784342,195.6708075205485,195.6718495686849,195.6739330291748,195.67685000101724,195.68164126078287,195.68934949239096,195.70059967041016,195.7118911743164,195.7208449045817,195.73209508260092,195.74459520975748,195.75814946492514,195.77044105529785,195.78399531046549,195.80106989542642,195.81856981913248,195.8339869181315,195.84669558207193,195.85732078552246,195.863987604777,195.87252934773764,195.8796132405599,195.88252957661948,195.88544209798178,195.88710848490396,195.8896083831787,195.8858585357666,195.87835820515951,195.8696085611979,195.85689989725748,195.83721669514975,195.82029978434244,195.8073247273763,195.79315821329752,195.77899169921875,195.76503308614096,195.7503662109375,195.73515828450522,195.7193291982015,195.70495414733887,195.68849563598633,195.67453702290854,195.66099548339844,195.65078735351562,195.63974571228027,195.6289119720459,195.62162017822266,195.6160659790039,195.61314900716147,195.610232035319,195.6087735493978,195.61251576741537,195.6160570780436,195.61897404988608,195.62219874064127,195.6257406870524,195.62642860412598,195.62559509277344,195.62455368041992,195.62267875671387,195.61797078450522,195.6178913116455,195.61143747965494,195.60185432434082,195.59477106730142,195.5888671875,195.5844923655192,195.5824089050293,195.57886695861816,195.5765755971273,195.5715758005778,195.5634880065918,195.55515480041504,195.5415465037028,195.52543830871582,195.50544611612955,195.4791965484619,195.45794677734375,195.43684260050455,195.41475931803384,195.39892578125,195.38700930277506,195.3745091756185,195.36346753438315,195.35492579142252,195.34479649861655,195.3395881652832,195.33396339416504,195.3310464223226,195.3332004547119,195.33590825398764,195.33527946472168,195.33423805236816,195.3329881032308,195.33461316426596,195.33763376871744,195.34032122294107,195.34455490112305,195.3504549662272,195.36253865559897,195.3811467488607,195.39593823750815,195.40766779581705,195.41975084940592,195.42488861083984,195.4249299367269,195.42326291402182,195.41992950439453,195.41701698303223,195.41180864969888,195.40514628092447,195.40056292215982,195.39410463968912,195.38347943623862,195.37181282043457,195.3611914316813,195.352024714152,195.34431584676108,195.33477401733398,195.3276907602946,195.32149505615234,195.3174616495768,195.3176695505778,195.31391970316568,195.30781110127768,195.30031077067056,195.29572741190592,195.2898941040039,195.28538131713867,195.28225644429526,195.2818400065104,195.28121503194174,195.28016916910806,195.2810026804606,195.2849941253662,195.2873395284017,195.2877566019694,195.2867234547933,195.28380711873373,195.27734883626303,195.2694320678711,195.25922393798828,195.2544320424398,195.24818229675293,195.24085744222006,195.23864046732584,195.2371826171875,195.23489061991373,195.23155784606934,195.230099995931,195.2318204243978,195.23275820414224,195.23421669006348,195.23442522684732,195.23442522684732,195.2373421986898,195.24392573038736,195.25059254964194,195.25201352437338,195.2561264038086,195.25966771443686,195.2598679860433,195.25861803690592,195.2592430114746,195.26174290974936,195.26799329121908,195.26653544108072,195.26049359639487,195.25320180257162,195.24091021219888,195.22591018676758,195.213410059611,195.20581817626953,195.1958179473877,195.1870142618815,195.18066024780273,195.17232704162598,195.15649350484213,195.12836837768555,195.09170150756836,195.0528221130371,195.00573857625326,194.96157201131186,194.91073862711588,194.871363957723,194.83344713846842],\"yaxis\":\"y\",\"type\":\"scattergl\"},{\"hovertemplate\":\"variable=upper_boll_24<br>Datetime=%{x}<br>value=%{y}<extra></extra>\",\"legendgroup\":\"upper_boll_24\",\"line\":{\"color\":\"#b6d1c3\",\"dash\":\"dot\"},\"marker\":{\"symbol\":\"circle\"},\"mode\":\"lines\",\"name\":\"upper_boll_24\",\"showlegend\":true,\"x\":[\"2024-06-06T09:30:00-04:00\",\"2024-06-06T09:31:00-04:00\",\"2024-06-06T09:32:00-04:00\",\"2024-06-06T09:33:00-04:00\",\"2024-06-06T09:34:00-04:00\",\"2024-06-06T09:35:00-04:00\",\"2024-06-06T09:36:00-04:00\",\"2024-06-06T09:37:00-04:00\",\"2024-06-06T09:38:00-04:00\",\"2024-06-06T09:39:00-04:00\",\"2024-06-06T09:40:00-04:00\",\"2024-06-06T09:41:00-04:00\",\"2024-06-06T09:42:00-04:00\",\"2024-06-06T09:43:00-04:00\",\"2024-06-06T09:44:00-04:00\",\"2024-06-06T09:45:00-04:00\",\"2024-06-06T09:46:00-04:00\",\"2024-06-06T09:47:00-04:00\",\"2024-06-06T09:48:00-04:00\",\"2024-06-06T09:49:00-04:00\",\"2024-06-06T09:50:00-04:00\",\"2024-06-06T09:51:00-04:00\",\"2024-06-06T09:52:00-04:00\",\"2024-06-06T09:53:00-04:00\",\"2024-06-06T09:54:00-04:00\",\"2024-06-06T09:55:00-04:00\",\"2024-06-06T09:56:00-04:00\",\"2024-06-06T09:57:00-04:00\",\"2024-06-06T09:58:00-04:00\",\"2024-06-06T09:59:00-04:00\",\"2024-06-06T10:00:00-04:00\",\"2024-06-06T10:01:00-04:00\",\"2024-06-06T10:02:00-04:00\",\"2024-06-06T10:03:00-04:00\",\"2024-06-06T10:04:00-04:00\",\"2024-06-06T10:05:00-04:00\",\"2024-06-06T10:06:00-04:00\",\"2024-06-06T10:07:00-04:00\",\"2024-06-06T10:08:00-04:00\",\"2024-06-06T10:09:00-04:00\",\"2024-06-06T10:10:00-04:00\",\"2024-06-06T10:11:00-04:00\",\"2024-06-06T10:12:00-04:00\",\"2024-06-06T10:13:00-04:00\",\"2024-06-06T10:14:00-04:00\",\"2024-06-06T10:15:00-04:00\",\"2024-06-06T10:16:00-04:00\",\"2024-06-06T10:17:00-04:00\",\"2024-06-06T10:18:00-04:00\",\"2024-06-06T10:19:00-04:00\",\"2024-06-06T10:20:00-04:00\",\"2024-06-06T10:21:00-04:00\",\"2024-06-06T10:22:00-04:00\",\"2024-06-06T10:23:00-04:00\",\"2024-06-06T10:24:00-04:00\",\"2024-06-06T10:25:00-04:00\",\"2024-06-06T10:26:00-04:00\",\"2024-06-06T10:27:00-04:00\",\"2024-06-06T10:28:00-04:00\",\"2024-06-06T10:29:00-04:00\",\"2024-06-06T10:30:00-04:00\",\"2024-06-06T10:31:00-04:00\",\"2024-06-06T10:32:00-04:00\",\"2024-06-06T10:33:00-04:00\",\"2024-06-06T10:34:00-04:00\",\"2024-06-06T10:35:00-04:00\",\"2024-06-06T10:36:00-04:00\",\"2024-06-06T10:37:00-04:00\",\"2024-06-06T10:38:00-04:00\",\"2024-06-06T10:39:00-04:00\",\"2024-06-06T10:40:00-04:00\",\"2024-06-06T10:41:00-04:00\",\"2024-06-06T10:42:00-04:00\",\"2024-06-06T10:43:00-04:00\",\"2024-06-06T10:44:00-04:00\",\"2024-06-06T10:45:00-04:00\",\"2024-06-06T10:46:00-04:00\",\"2024-06-06T10:47:00-04:00\",\"2024-06-06T10:48:00-04:00\",\"2024-06-06T10:49:00-04:00\",\"2024-06-06T10:50:00-04:00\",\"2024-06-06T10:51:00-04:00\",\"2024-06-06T10:52:00-04:00\",\"2024-06-06T10:53:00-04:00\",\"2024-06-06T10:54:00-04:00\",\"2024-06-06T10:55:00-04:00\",\"2024-06-06T10:56:00-04:00\",\"2024-06-06T10:57:00-04:00\",\"2024-06-06T10:58:00-04:00\",\"2024-06-06T10:59:00-04:00\",\"2024-06-06T11:00:00-04:00\",\"2024-06-06T11:01:00-04:00\",\"2024-06-06T11:02:00-04:00\",\"2024-06-06T11:03:00-04:00\",\"2024-06-06T11:04:00-04:00\",\"2024-06-06T11:05:00-04:00\",\"2024-06-06T11:06:00-04:00\",\"2024-06-06T11:07:00-04:00\",\"2024-06-06T11:08:00-04:00\",\"2024-06-06T11:09:00-04:00\",\"2024-06-06T11:10:00-04:00\",\"2024-06-06T11:11:00-04:00\",\"2024-06-06T11:12:00-04:00\",\"2024-06-06T11:13:00-04:00\",\"2024-06-06T11:14:00-04:00\",\"2024-06-06T11:15:00-04:00\",\"2024-06-06T11:16:00-04:00\",\"2024-06-06T11:17:00-04:00\",\"2024-06-06T11:18:00-04:00\",\"2024-06-06T11:19:00-04:00\",\"2024-06-06T11:20:00-04:00\",\"2024-06-06T11:21:00-04:00\",\"2024-06-06T11:22:00-04:00\",\"2024-06-06T11:23:00-04:00\",\"2024-06-06T11:24:00-04:00\",\"2024-06-06T11:25:00-04:00\",\"2024-06-06T11:26:00-04:00\",\"2024-06-06T11:27:00-04:00\",\"2024-06-06T11:28:00-04:00\",\"2024-06-06T11:29:00-04:00\",\"2024-06-06T11:30:00-04:00\",\"2024-06-06T11:31:00-04:00\",\"2024-06-06T11:32:00-04:00\",\"2024-06-06T11:33:00-04:00\",\"2024-06-06T11:34:00-04:00\",\"2024-06-06T11:35:00-04:00\",\"2024-06-06T11:36:00-04:00\",\"2024-06-06T11:37:00-04:00\",\"2024-06-06T11:38:00-04:00\",\"2024-06-06T11:39:00-04:00\",\"2024-06-06T11:40:00-04:00\",\"2024-06-06T11:41:00-04:00\",\"2024-06-06T11:42:00-04:00\",\"2024-06-06T11:43:00-04:00\",\"2024-06-06T11:44:00-04:00\",\"2024-06-06T11:45:00-04:00\",\"2024-06-06T11:46:00-04:00\",\"2024-06-06T11:47:00-04:00\",\"2024-06-06T11:48:00-04:00\",\"2024-06-06T11:49:00-04:00\",\"2024-06-06T11:50:00-04:00\",\"2024-06-06T11:51:00-04:00\",\"2024-06-06T11:52:00-04:00\",\"2024-06-06T11:53:00-04:00\",\"2024-06-06T11:54:00-04:00\",\"2024-06-06T11:55:00-04:00\",\"2024-06-06T11:56:00-04:00\",\"2024-06-06T11:57:00-04:00\",\"2024-06-06T11:58:00-04:00\",\"2024-06-06T11:59:00-04:00\",\"2024-06-06T12:00:00-04:00\",\"2024-06-06T12:01:00-04:00\",\"2024-06-06T12:02:00-04:00\",\"2024-06-06T12:03:00-04:00\",\"2024-06-06T12:04:00-04:00\",\"2024-06-06T12:05:00-04:00\",\"2024-06-06T12:06:00-04:00\",\"2024-06-06T12:07:00-04:00\",\"2024-06-06T12:08:00-04:00\",\"2024-06-06T12:09:00-04:00\",\"2024-06-06T12:10:00-04:00\",\"2024-06-06T12:11:00-04:00\",\"2024-06-06T12:12:00-04:00\",\"2024-06-06T12:13:00-04:00\",\"2024-06-06T12:14:00-04:00\",\"2024-06-06T12:15:00-04:00\",\"2024-06-06T12:16:00-04:00\",\"2024-06-06T12:17:00-04:00\",\"2024-06-06T12:18:00-04:00\",\"2024-06-06T12:19:00-04:00\",\"2024-06-06T12:20:00-04:00\",\"2024-06-06T12:21:00-04:00\",\"2024-06-06T12:22:00-04:00\",\"2024-06-06T12:23:00-04:00\",\"2024-06-06T12:24:00-04:00\",\"2024-06-06T12:25:00-04:00\",\"2024-06-06T12:26:00-04:00\",\"2024-06-06T12:27:00-04:00\",\"2024-06-06T12:28:00-04:00\",\"2024-06-06T12:29:00-04:00\",\"2024-06-06T12:30:00-04:00\",\"2024-06-06T12:31:00-04:00\",\"2024-06-06T12:32:00-04:00\",\"2024-06-06T12:33:00-04:00\",\"2024-06-06T12:34:00-04:00\",\"2024-06-06T12:35:00-04:00\",\"2024-06-06T12:36:00-04:00\",\"2024-06-06T12:37:00-04:00\",\"2024-06-06T12:38:00-04:00\",\"2024-06-06T12:39:00-04:00\",\"2024-06-06T12:40:00-04:00\",\"2024-06-06T12:41:00-04:00\",\"2024-06-06T12:42:00-04:00\",\"2024-06-06T12:43:00-04:00\",\"2024-06-06T12:44:00-04:00\",\"2024-06-06T12:45:00-04:00\",\"2024-06-06T12:46:00-04:00\",\"2024-06-06T12:47:00-04:00\",\"2024-06-06T12:48:00-04:00\",\"2024-06-06T12:49:00-04:00\",\"2024-06-06T12:50:00-04:00\",\"2024-06-06T12:51:00-04:00\",\"2024-06-06T12:52:00-04:00\",\"2024-06-06T12:53:00-04:00\",\"2024-06-06T12:54:00-04:00\",\"2024-06-06T12:55:00-04:00\",\"2024-06-06T12:56:00-04:00\",\"2024-06-06T12:57:00-04:00\",\"2024-06-06T12:58:00-04:00\",\"2024-06-06T12:59:00-04:00\",\"2024-06-06T13:00:00-04:00\",\"2024-06-06T13:01:00-04:00\",\"2024-06-06T13:02:00-04:00\",\"2024-06-06T13:03:00-04:00\",\"2024-06-06T13:04:00-04:00\",\"2024-06-06T13:05:00-04:00\",\"2024-06-06T13:06:00-04:00\",\"2024-06-06T13:07:00-04:00\",\"2024-06-06T13:08:00-04:00\",\"2024-06-06T13:09:00-04:00\",\"2024-06-06T13:10:00-04:00\",\"2024-06-06T13:11:00-04:00\",\"2024-06-06T13:12:00-04:00\",\"2024-06-06T13:13:00-04:00\",\"2024-06-06T13:14:00-04:00\",\"2024-06-06T13:15:00-04:00\",\"2024-06-06T13:16:00-04:00\",\"2024-06-06T13:17:00-04:00\",\"2024-06-06T13:18:00-04:00\",\"2024-06-06T13:19:00-04:00\",\"2024-06-06T13:20:00-04:00\",\"2024-06-06T13:21:00-04:00\",\"2024-06-06T13:22:00-04:00\",\"2024-06-06T13:23:00-04:00\",\"2024-06-06T13:24:00-04:00\",\"2024-06-06T13:25:00-04:00\",\"2024-06-06T13:26:00-04:00\",\"2024-06-06T13:27:00-04:00\",\"2024-06-06T13:28:00-04:00\",\"2024-06-06T13:29:00-04:00\",\"2024-06-06T13:30:00-04:00\",\"2024-06-06T13:31:00-04:00\",\"2024-06-06T13:32:00-04:00\",\"2024-06-06T13:33:00-04:00\",\"2024-06-06T13:34:00-04:00\",\"2024-06-06T13:35:00-04:00\",\"2024-06-06T13:36:00-04:00\",\"2024-06-06T13:37:00-04:00\",\"2024-06-06T13:38:00-04:00\",\"2024-06-06T13:39:00-04:00\",\"2024-06-06T13:40:00-04:00\",\"2024-06-06T13:41:00-04:00\",\"2024-06-06T13:42:00-04:00\",\"2024-06-06T13:43:00-04:00\",\"2024-06-06T13:44:00-04:00\",\"2024-06-06T13:45:00-04:00\",\"2024-06-06T13:46:00-04:00\",\"2024-06-06T13:47:00-04:00\",\"2024-06-06T13:48:00-04:00\",\"2024-06-06T13:49:00-04:00\",\"2024-06-06T13:50:00-04:00\",\"2024-06-06T13:51:00-04:00\",\"2024-06-06T13:52:00-04:00\",\"2024-06-06T13:53:00-04:00\",\"2024-06-06T13:54:00-04:00\",\"2024-06-06T13:55:00-04:00\",\"2024-06-06T13:56:00-04:00\",\"2024-06-06T13:57:00-04:00\",\"2024-06-06T13:58:00-04:00\",\"2024-06-06T13:59:00-04:00\",\"2024-06-06T14:00:00-04:00\",\"2024-06-06T14:01:00-04:00\",\"2024-06-06T14:02:00-04:00\",\"2024-06-06T14:03:00-04:00\",\"2024-06-06T14:04:00-04:00\",\"2024-06-06T14:05:00-04:00\",\"2024-06-06T14:06:00-04:00\",\"2024-06-06T14:07:00-04:00\",\"2024-06-06T14:08:00-04:00\",\"2024-06-06T14:09:00-04:00\",\"2024-06-06T14:10:00-04:00\",\"2024-06-06T14:11:00-04:00\",\"2024-06-06T14:12:00-04:00\",\"2024-06-06T14:13:00-04:00\",\"2024-06-06T14:14:00-04:00\",\"2024-06-06T14:15:00-04:00\",\"2024-06-06T14:16:00-04:00\",\"2024-06-06T14:17:00-04:00\",\"2024-06-06T14:18:00-04:00\",\"2024-06-06T14:19:00-04:00\",\"2024-06-06T14:20:00-04:00\",\"2024-06-06T14:21:00-04:00\",\"2024-06-06T14:22:00-04:00\",\"2024-06-06T14:23:00-04:00\",\"2024-06-06T14:24:00-04:00\",\"2024-06-06T14:25:00-04:00\",\"2024-06-06T14:26:00-04:00\",\"2024-06-06T14:27:00-04:00\",\"2024-06-06T14:28:00-04:00\",\"2024-06-06T14:29:00-04:00\",\"2024-06-06T14:30:00-04:00\",\"2024-06-06T14:31:00-04:00\",\"2024-06-06T14:32:00-04:00\",\"2024-06-06T14:33:00-04:00\",\"2024-06-06T14:34:00-04:00\",\"2024-06-06T14:35:00-04:00\",\"2024-06-06T14:36:00-04:00\",\"2024-06-06T14:37:00-04:00\",\"2024-06-06T14:38:00-04:00\",\"2024-06-06T14:39:00-04:00\",\"2024-06-06T14:40:00-04:00\",\"2024-06-06T14:41:00-04:00\",\"2024-06-06T14:42:00-04:00\",\"2024-06-06T14:43:00-04:00\",\"2024-06-06T14:44:00-04:00\",\"2024-06-06T14:45:00-04:00\",\"2024-06-06T14:46:00-04:00\",\"2024-06-06T14:47:00-04:00\",\"2024-06-06T14:48:00-04:00\",\"2024-06-06T14:49:00-04:00\",\"2024-06-06T14:50:00-04:00\",\"2024-06-06T14:51:00-04:00\",\"2024-06-06T14:52:00-04:00\",\"2024-06-06T14:53:00-04:00\",\"2024-06-06T14:54:00-04:00\",\"2024-06-06T14:55:00-04:00\",\"2024-06-06T14:56:00-04:00\",\"2024-06-06T14:57:00-04:00\",\"2024-06-06T14:58:00-04:00\",\"2024-06-06T14:59:00-04:00\",\"2024-06-06T15:00:00-04:00\",\"2024-06-06T15:01:00-04:00\",\"2024-06-06T15:02:00-04:00\",\"2024-06-06T15:03:00-04:00\",\"2024-06-06T15:04:00-04:00\",\"2024-06-06T15:05:00-04:00\",\"2024-06-06T15:06:00-04:00\",\"2024-06-06T15:07:00-04:00\",\"2024-06-06T15:08:00-04:00\",\"2024-06-06T15:09:00-04:00\",\"2024-06-06T15:10:00-04:00\",\"2024-06-06T15:11:00-04:00\",\"2024-06-06T15:12:00-04:00\",\"2024-06-06T15:13:00-04:00\",\"2024-06-06T15:14:00-04:00\",\"2024-06-06T15:15:00-04:00\",\"2024-06-06T15:16:00-04:00\",\"2024-06-06T15:17:00-04:00\",\"2024-06-06T15:18:00-04:00\",\"2024-06-06T15:19:00-04:00\",\"2024-06-06T15:20:00-04:00\",\"2024-06-06T15:21:00-04:00\",\"2024-06-06T15:22:00-04:00\",\"2024-06-06T15:23:00-04:00\",\"2024-06-06T15:24:00-04:00\",\"2024-06-06T15:25:00-04:00\",\"2024-06-06T15:26:00-04:00\",\"2024-06-06T15:27:00-04:00\",\"2024-06-06T15:28:00-04:00\",\"2024-06-06T15:29:00-04:00\",\"2024-06-06T15:30:00-04:00\",\"2024-06-06T15:31:00-04:00\",\"2024-06-06T15:32:00-04:00\",\"2024-06-06T15:33:00-04:00\",\"2024-06-06T15:34:00-04:00\",\"2024-06-06T15:35:00-04:00\",\"2024-06-06T15:36:00-04:00\",\"2024-06-06T15:37:00-04:00\",\"2024-06-06T15:38:00-04:00\",\"2024-06-06T15:39:00-04:00\",\"2024-06-06T15:40:00-04:00\",\"2024-06-06T15:41:00-04:00\",\"2024-06-06T15:42:00-04:00\",\"2024-06-06T15:43:00-04:00\",\"2024-06-06T15:44:00-04:00\",\"2024-06-06T15:45:00-04:00\",\"2024-06-06T15:46:00-04:00\",\"2024-06-06T15:47:00-04:00\",\"2024-06-06T15:48:00-04:00\",\"2024-06-06T15:49:00-04:00\",\"2024-06-06T15:50:00-04:00\",\"2024-06-06T15:51:00-04:00\",\"2024-06-06T15:52:00-04:00\",\"2024-06-06T15:53:00-04:00\",\"2024-06-06T15:54:00-04:00\",\"2024-06-06T15:55:00-04:00\",\"2024-06-06T15:56:00-04:00\",\"2024-06-06T15:57:00-04:00\",\"2024-06-06T15:58:00-04:00\",\"2024-06-06T15:59:00-04:00\"],\"xaxis\":\"x\",\"y\":[196.1300048828125,196.1300048828125,196.16195513803962,196.16160749495438,196.17996214395768,196.2008671203542,196.23928517349557,196.24689393379245,196.25013345313977,196.24734041796466,196.240461333629,196.24444441920798,196.2292612471302,196.21052724585644,196.190056717224,196.16900724831248,196.14539513203516,196.1198784758162,196.09223209797804,196.0696443193201,196.0434846310826,196.01776013115614,195.98594697634795,195.9511562033307,195.9139709487194,195.87590832296632,195.8133004944554,195.77531086646246,195.77531086646246,195.7971348689491,195.84649046598386,195.90228364097422,195.9442164114743,195.96169254793622,195.99185629226542,196.0013011101975,196.00577363601286,196.0073217040756,196.00913262255443,196.00887156167576,196.0091587804693,196.01240743528706,196.02007237742694,196.0284445781073,196.04456530926865,196.06987994057988,196.10382888096632,196.14198743725132,196.17866181833682,196.2046394704214,196.22549347388474,196.24678477580142,196.26438841874167,196.30076901147717,196.32648806906312,196.32681865023574,196.32264932061875,196.3220086701946,196.31683173034304,196.31635053631425,196.31693164193237,196.31646862249104,196.3157939336764,196.31202730105477,196.31237533734722,196.31886696435302,196.31880362671623,196.31723895288158,196.3121921059334,196.30079905576153,196.2811603974897,196.25327205859736,196.2216929653376,196.19395525597182,196.1675897686874,196.13634538516754,196.1044449262516,196.0366079533866,195.95878894315712,195.9167914941898,195.8938476167889,195.8930418763758,195.88115745586606,195.85504599853576,195.8377780264015,195.82432531596578,195.81623499418757,195.83017249917808,195.83788416602417,195.84093839070553,195.8416544236724,195.83589515174225,195.8281431290915,195.82665622662591,195.82761091965148,195.82156133055346,195.8092574773218,195.8050438013188,195.7978082223606,195.7924136259657,195.79096924897297,195.78915247010292,195.78921408016623,195.7884259200241,195.79208117398315,195.79291031343166,195.8023566850644,195.81240880833784,195.81333867787828,195.81208743808176,195.80284005028574,195.78002266318083,195.77524075573754,195.77418649503534,195.7744695750825,195.7766717916443,195.7856207215196,195.7923038651978,195.7955924659148,195.80245808494695,195.81079802144006,195.81079802144006,195.81230690385362,195.81213036990079,195.8133425968492,195.81566626274164,195.81588980571573,195.81391707552262,195.81349036712174,195.8095510271015,195.80163898680888,195.79231287204905,195.792371308786,195.79379297597484,195.79483941557092,195.7952023696947,195.79069337161286,195.78915161422867,195.78539880372767,195.7823714234329,195.77179395939157,195.76352977716462,195.75750411994687,195.75028099225074,195.73579105453774,195.73065018938485,195.72037543766152,195.7134672822675,195.7014271642161,195.68506556630263,195.67234098609708,195.66355874584545,195.64810486411554,195.63661807240834,195.61962083261628,195.6087685156488,195.60127597582502,195.59519333328157,195.5923339515636,195.58883413881475,195.5851373311571,195.5818364662934,195.5864661363069,195.59124131563505,195.59638980106558,195.6008021354519,195.6027827927855,195.61599031953085,195.6275032234454,195.63953569506438,195.66230202179545,195.67943046048697,195.6895439517797,195.70244298265985,195.7119497821861,195.71642090129856,195.72163361288855,195.72557800844305,195.72545046453354,195.72732068656276,195.7284170278014,195.72823855552488,195.73076277662116,195.73054560823957,195.72920410836525,195.72938264736374,195.73061865850894,195.72944714808327,195.7312150499178,195.73128829213204,195.72570280768602,195.72543390951412,195.726795789863,195.7258621445873,195.71490604984473,195.70641772562888,195.70329568217372,195.69564972753392,195.69071616412705,195.6910164961202,195.6888591280472,195.68766965173342,195.68983081928806,195.6922728837568,195.6953999232766,195.6969311737222,195.70318458767267,195.70708460638346,195.7132113105637,195.7348971987681,195.77382656020583,195.79829424641966,195.81610277212604,195.83770049438456,195.85755886511845,195.876132303156,195.89765191523344,195.9171942452209,195.9436203883098,195.96617750723468,195.9857558945118,195.99512106391683,196.00007187249517,196.0017459372196,196.00326634757394,196.00301645491243,196.00214944487553,196.00147594201374,196.00077637676372,195.9994635209288,196.00204014667796,196.0104355601853,196.01697546738149,196.01890574536546,196.01299554146323,196.0059219008658,195.9972454404028,195.98464803117696,195.970950006956,195.9558127144635,195.9357510729046,195.91447418076373,195.88398969099904,195.85277972364602,195.8169548721691,195.79035760628304,195.76730812643362,195.75073683867268,195.72907436443958,195.7087976652925,195.6963656032234,195.68309204519306,195.67544962576733,195.66699483632772,195.66464459031434,195.6665575163256,195.6675219573482,195.66785960764037,195.66489033821614,195.66322580932447,195.6635416375558,195.6633128282014,195.6630575671133,195.66248773251687,195.66119085079117,195.66109003593172,195.65498010185388,195.64689770383055,195.64424269091066,195.64339416799658,195.6437669003888,195.64217475149087,195.6400467682386,195.63892528425777,195.63751060052567,195.63168524181847,195.62066313159545,195.6125977161556,195.61747191531106,195.62252793928207,195.6340187653103,195.62825934900007,195.62269292642114,195.61037155973878,195.5929980750921,195.57758828281237,195.561338567121,195.545707279576,195.53354424633102,195.5138891630551,195.5044393153101,195.49591483339142,195.49077439388375,195.49533111200094,195.50102540760193,195.499592531683,195.49743796910363,195.49481245850163,195.4980609307024,195.5039986960355,195.50958160869513,195.51554898347405,195.52006443289721,195.52751286621734,195.5262663535795,195.52872389151378,195.52132756846862,195.51008278607057,195.50742607103487,195.50740446199964,195.50902739692546,195.5116365179935,195.51272680983612,195.5126029104826,195.5112116922156,195.5113847360971,195.50850746161825,195.4965463274655,195.4824473751252,195.46816412976568,195.45688445144944,195.445320595169,195.43020778123156,195.41429230916137,195.39644704366364,195.38704838166862,195.38745842441142,195.37911640983594,195.3676625719943,195.3515783150935,195.3472752932707,195.34058649963444,195.33451556159258,195.3324623696843,195.33240857767845,195.33253924501938,195.3321933079322,195.33284948310222,195.33803268115477,195.33954012298682,195.33976886382277,195.33924403086303,195.33971070356606,195.34250267474926,195.34605174235742,195.34648180888962,195.3436355850177,195.3352629998326,195.32218509320367,195.31716484150357,195.31315502951864,195.30809046308778,195.30395629661004,195.30193585477153,195.30439447540587,195.3054529638966,195.30762010255597,195.30782323550167,195.30782323550167,195.31132329013587,195.3244319965118,195.34031362724235,195.34356117140186,195.35187105064648,195.35749707496032,195.3576820371693,195.35754900310164,195.3573037332892,195.3557150313181,195.3524725926063,195.35314453195417,195.3561654801277,195.35829887474804,195.35586440162047,195.34919563788733,195.34435686266855,195.3421423055657,195.3381938137528,195.33040368981713,195.3243998824524,195.31555084547293,195.31288691890427,195.32543537145204,195.33484005632872,195.31918136815304,195.2991785856484,195.27530116134832,195.24905979834597,195.21072206833682,195.1788607691282],\"yaxis\":\"y\",\"type\":\"scattergl\"},{\"hovertemplate\":\"variable=lower_boll_24<br>Datetime=%{x}<br>value=%{y}<extra></extra>\",\"legendgroup\":\"lower_boll_24\",\"line\":{\"color\":\"#b6d1c3\",\"dash\":\"dot\"},\"marker\":{\"symbol\":\"circle\"},\"mode\":\"lines\",\"name\":\"lower_boll_24\",\"showlegend\":true,\"x\":[\"2024-06-06T09:30:00-04:00\",\"2024-06-06T09:31:00-04:00\",\"2024-06-06T09:32:00-04:00\",\"2024-06-06T09:33:00-04:00\",\"2024-06-06T09:34:00-04:00\",\"2024-06-06T09:35:00-04:00\",\"2024-06-06T09:36:00-04:00\",\"2024-06-06T09:37:00-04:00\",\"2024-06-06T09:38:00-04:00\",\"2024-06-06T09:39:00-04:00\",\"2024-06-06T09:40:00-04:00\",\"2024-06-06T09:41:00-04:00\",\"2024-06-06T09:42:00-04:00\",\"2024-06-06T09:43:00-04:00\",\"2024-06-06T09:44:00-04:00\",\"2024-06-06T09:45:00-04:00\",\"2024-06-06T09:46:00-04:00\",\"2024-06-06T09:47:00-04:00\",\"2024-06-06T09:48:00-04:00\",\"2024-06-06T09:49:00-04:00\",\"2024-06-06T09:50:00-04:00\",\"2024-06-06T09:51:00-04:00\",\"2024-06-06T09:52:00-04:00\",\"2024-06-06T09:53:00-04:00\",\"2024-06-06T09:54:00-04:00\",\"2024-06-06T09:55:00-04:00\",\"2024-06-06T09:56:00-04:00\",\"2024-06-06T09:57:00-04:00\",\"2024-06-06T09:58:00-04:00\",\"2024-06-06T09:59:00-04:00\",\"2024-06-06T10:00:00-04:00\",\"2024-06-06T10:01:00-04:00\",\"2024-06-06T10:02:00-04:00\",\"2024-06-06T10:03:00-04:00\",\"2024-06-06T10:04:00-04:00\",\"2024-06-06T10:05:00-04:00\",\"2024-06-06T10:06:00-04:00\",\"2024-06-06T10:07:00-04:00\",\"2024-06-06T10:08:00-04:00\",\"2024-06-06T10:09:00-04:00\",\"2024-06-06T10:10:00-04:00\",\"2024-06-06T10:11:00-04:00\",\"2024-06-06T10:12:00-04:00\",\"2024-06-06T10:13:00-04:00\",\"2024-06-06T10:14:00-04:00\",\"2024-06-06T10:15:00-04:00\",\"2024-06-06T10:16:00-04:00\",\"2024-06-06T10:17:00-04:00\",\"2024-06-06T10:18:00-04:00\",\"2024-06-06T10:19:00-04:00\",\"2024-06-06T10:20:00-04:00\",\"2024-06-06T10:21:00-04:00\",\"2024-06-06T10:22:00-04:00\",\"2024-06-06T10:23:00-04:00\",\"2024-06-06T10:24:00-04:00\",\"2024-06-06T10:25:00-04:00\",\"2024-06-06T10:26:00-04:00\",\"2024-06-06T10:27:00-04:00\",\"2024-06-06T10:28:00-04:00\",\"2024-06-06T10:29:00-04:00\",\"2024-06-06T10:30:00-04:00\",\"2024-06-06T10:31:00-04:00\",\"2024-06-06T10:32:00-04:00\",\"2024-06-06T10:33:00-04:00\",\"2024-06-06T10:34:00-04:00\",\"2024-06-06T10:35:00-04:00\",\"2024-06-06T10:36:00-04:00\",\"2024-06-06T10:37:00-04:00\",\"2024-06-06T10:38:00-04:00\",\"2024-06-06T10:39:00-04:00\",\"2024-06-06T10:40:00-04:00\",\"2024-06-06T10:41:00-04:00\",\"2024-06-06T10:42:00-04:00\",\"2024-06-06T10:43:00-04:00\",\"2024-06-06T10:44:00-04:00\",\"2024-06-06T10:45:00-04:00\",\"2024-06-06T10:46:00-04:00\",\"2024-06-06T10:47:00-04:00\",\"2024-06-06T10:48:00-04:00\",\"2024-06-06T10:49:00-04:00\",\"2024-06-06T10:50:00-04:00\",\"2024-06-06T10:51:00-04:00\",\"2024-06-06T10:52:00-04:00\",\"2024-06-06T10:53:00-04:00\",\"2024-06-06T10:54:00-04:00\",\"2024-06-06T10:55:00-04:00\",\"2024-06-06T10:56:00-04:00\",\"2024-06-06T10:57:00-04:00\",\"2024-06-06T10:58:00-04:00\",\"2024-06-06T10:59:00-04:00\",\"2024-06-06T11:00:00-04:00\",\"2024-06-06T11:01:00-04:00\",\"2024-06-06T11:02:00-04:00\",\"2024-06-06T11:03:00-04:00\",\"2024-06-06T11:04:00-04:00\",\"2024-06-06T11:05:00-04:00\",\"2024-06-06T11:06:00-04:00\",\"2024-06-06T11:07:00-04:00\",\"2024-06-06T11:08:00-04:00\",\"2024-06-06T11:09:00-04:00\",\"2024-06-06T11:10:00-04:00\",\"2024-06-06T11:11:00-04:00\",\"2024-06-06T11:12:00-04:00\",\"2024-06-06T11:13:00-04:00\",\"2024-06-06T11:14:00-04:00\",\"2024-06-06T11:15:00-04:00\",\"2024-06-06T11:16:00-04:00\",\"2024-06-06T11:17:00-04:00\",\"2024-06-06T11:18:00-04:00\",\"2024-06-06T11:19:00-04:00\",\"2024-06-06T11:20:00-04:00\",\"2024-06-06T11:21:00-04:00\",\"2024-06-06T11:22:00-04:00\",\"2024-06-06T11:23:00-04:00\",\"2024-06-06T11:24:00-04:00\",\"2024-06-06T11:25:00-04:00\",\"2024-06-06T11:26:00-04:00\",\"2024-06-06T11:27:00-04:00\",\"2024-06-06T11:28:00-04:00\",\"2024-06-06T11:29:00-04:00\",\"2024-06-06T11:30:00-04:00\",\"2024-06-06T11:31:00-04:00\",\"2024-06-06T11:32:00-04:00\",\"2024-06-06T11:33:00-04:00\",\"2024-06-06T11:34:00-04:00\",\"2024-06-06T11:35:00-04:00\",\"2024-06-06T11:36:00-04:00\",\"2024-06-06T11:37:00-04:00\",\"2024-06-06T11:38:00-04:00\",\"2024-06-06T11:39:00-04:00\",\"2024-06-06T11:40:00-04:00\",\"2024-06-06T11:41:00-04:00\",\"2024-06-06T11:42:00-04:00\",\"2024-06-06T11:43:00-04:00\",\"2024-06-06T11:44:00-04:00\",\"2024-06-06T11:45:00-04:00\",\"2024-06-06T11:46:00-04:00\",\"2024-06-06T11:47:00-04:00\",\"2024-06-06T11:48:00-04:00\",\"2024-06-06T11:49:00-04:00\",\"2024-06-06T11:50:00-04:00\",\"2024-06-06T11:51:00-04:00\",\"2024-06-06T11:52:00-04:00\",\"2024-06-06T11:53:00-04:00\",\"2024-06-06T11:54:00-04:00\",\"2024-06-06T11:55:00-04:00\",\"2024-06-06T11:56:00-04:00\",\"2024-06-06T11:57:00-04:00\",\"2024-06-06T11:58:00-04:00\",\"2024-06-06T11:59:00-04:00\",\"2024-06-06T12:00:00-04:00\",\"2024-06-06T12:01:00-04:00\",\"2024-06-06T12:02:00-04:00\",\"2024-06-06T12:03:00-04:00\",\"2024-06-06T12:04:00-04:00\",\"2024-06-06T12:05:00-04:00\",\"2024-06-06T12:06:00-04:00\",\"2024-06-06T12:07:00-04:00\",\"2024-06-06T12:08:00-04:00\",\"2024-06-06T12:09:00-04:00\",\"2024-06-06T12:10:00-04:00\",\"2024-06-06T12:11:00-04:00\",\"2024-06-06T12:12:00-04:00\",\"2024-06-06T12:13:00-04:00\",\"2024-06-06T12:14:00-04:00\",\"2024-06-06T12:15:00-04:00\",\"2024-06-06T12:16:00-04:00\",\"2024-06-06T12:17:00-04:00\",\"2024-06-06T12:18:00-04:00\",\"2024-06-06T12:19:00-04:00\",\"2024-06-06T12:20:00-04:00\",\"2024-06-06T12:21:00-04:00\",\"2024-06-06T12:22:00-04:00\",\"2024-06-06T12:23:00-04:00\",\"2024-06-06T12:24:00-04:00\",\"2024-06-06T12:25:00-04:00\",\"2024-06-06T12:26:00-04:00\",\"2024-06-06T12:27:00-04:00\",\"2024-06-06T12:28:00-04:00\",\"2024-06-06T12:29:00-04:00\",\"2024-06-06T12:30:00-04:00\",\"2024-06-06T12:31:00-04:00\",\"2024-06-06T12:32:00-04:00\",\"2024-06-06T12:33:00-04:00\",\"2024-06-06T12:34:00-04:00\",\"2024-06-06T12:35:00-04:00\",\"2024-06-06T12:36:00-04:00\",\"2024-06-06T12:37:00-04:00\",\"2024-06-06T12:38:00-04:00\",\"2024-06-06T12:39:00-04:00\",\"2024-06-06T12:40:00-04:00\",\"2024-06-06T12:41:00-04:00\",\"2024-06-06T12:42:00-04:00\",\"2024-06-06T12:43:00-04:00\",\"2024-06-06T12:44:00-04:00\",\"2024-06-06T12:45:00-04:00\",\"2024-06-06T12:46:00-04:00\",\"2024-06-06T12:47:00-04:00\",\"2024-06-06T12:48:00-04:00\",\"2024-06-06T12:49:00-04:00\",\"2024-06-06T12:50:00-04:00\",\"2024-06-06T12:51:00-04:00\",\"2024-06-06T12:52:00-04:00\",\"2024-06-06T12:53:00-04:00\",\"2024-06-06T12:54:00-04:00\",\"2024-06-06T12:55:00-04:00\",\"2024-06-06T12:56:00-04:00\",\"2024-06-06T12:57:00-04:00\",\"2024-06-06T12:58:00-04:00\",\"2024-06-06T12:59:00-04:00\",\"2024-06-06T13:00:00-04:00\",\"2024-06-06T13:01:00-04:00\",\"2024-06-06T13:02:00-04:00\",\"2024-06-06T13:03:00-04:00\",\"2024-06-06T13:04:00-04:00\",\"2024-06-06T13:05:00-04:00\",\"2024-06-06T13:06:00-04:00\",\"2024-06-06T13:07:00-04:00\",\"2024-06-06T13:08:00-04:00\",\"2024-06-06T13:09:00-04:00\",\"2024-06-06T13:10:00-04:00\",\"2024-06-06T13:11:00-04:00\",\"2024-06-06T13:12:00-04:00\",\"2024-06-06T13:13:00-04:00\",\"2024-06-06T13:14:00-04:00\",\"2024-06-06T13:15:00-04:00\",\"2024-06-06T13:16:00-04:00\",\"2024-06-06T13:17:00-04:00\",\"2024-06-06T13:18:00-04:00\",\"2024-06-06T13:19:00-04:00\",\"2024-06-06T13:20:00-04:00\",\"2024-06-06T13:21:00-04:00\",\"2024-06-06T13:22:00-04:00\",\"2024-06-06T13:23:00-04:00\",\"2024-06-06T13:24:00-04:00\",\"2024-06-06T13:25:00-04:00\",\"2024-06-06T13:26:00-04:00\",\"2024-06-06T13:27:00-04:00\",\"2024-06-06T13:28:00-04:00\",\"2024-06-06T13:29:00-04:00\",\"2024-06-06T13:30:00-04:00\",\"2024-06-06T13:31:00-04:00\",\"2024-06-06T13:32:00-04:00\",\"2024-06-06T13:33:00-04:00\",\"2024-06-06T13:34:00-04:00\",\"2024-06-06T13:35:00-04:00\",\"2024-06-06T13:36:00-04:00\",\"2024-06-06T13:37:00-04:00\",\"2024-06-06T13:38:00-04:00\",\"2024-06-06T13:39:00-04:00\",\"2024-06-06T13:40:00-04:00\",\"2024-06-06T13:41:00-04:00\",\"2024-06-06T13:42:00-04:00\",\"2024-06-06T13:43:00-04:00\",\"2024-06-06T13:44:00-04:00\",\"2024-06-06T13:45:00-04:00\",\"2024-06-06T13:46:00-04:00\",\"2024-06-06T13:47:00-04:00\",\"2024-06-06T13:48:00-04:00\",\"2024-06-06T13:49:00-04:00\",\"2024-06-06T13:50:00-04:00\",\"2024-06-06T13:51:00-04:00\",\"2024-06-06T13:52:00-04:00\",\"2024-06-06T13:53:00-04:00\",\"2024-06-06T13:54:00-04:00\",\"2024-06-06T13:55:00-04:00\",\"2024-06-06T13:56:00-04:00\",\"2024-06-06T13:57:00-04:00\",\"2024-06-06T13:58:00-04:00\",\"2024-06-06T13:59:00-04:00\",\"2024-06-06T14:00:00-04:00\",\"2024-06-06T14:01:00-04:00\",\"2024-06-06T14:02:00-04:00\",\"2024-06-06T14:03:00-04:00\",\"2024-06-06T14:04:00-04:00\",\"2024-06-06T14:05:00-04:00\",\"2024-06-06T14:06:00-04:00\",\"2024-06-06T14:07:00-04:00\",\"2024-06-06T14:08:00-04:00\",\"2024-06-06T14:09:00-04:00\",\"2024-06-06T14:10:00-04:00\",\"2024-06-06T14:11:00-04:00\",\"2024-06-06T14:12:00-04:00\",\"2024-06-06T14:13:00-04:00\",\"2024-06-06T14:14:00-04:00\",\"2024-06-06T14:15:00-04:00\",\"2024-06-06T14:16:00-04:00\",\"2024-06-06T14:17:00-04:00\",\"2024-06-06T14:18:00-04:00\",\"2024-06-06T14:19:00-04:00\",\"2024-06-06T14:20:00-04:00\",\"2024-06-06T14:21:00-04:00\",\"2024-06-06T14:22:00-04:00\",\"2024-06-06T14:23:00-04:00\",\"2024-06-06T14:24:00-04:00\",\"2024-06-06T14:25:00-04:00\",\"2024-06-06T14:26:00-04:00\",\"2024-06-06T14:27:00-04:00\",\"2024-06-06T14:28:00-04:00\",\"2024-06-06T14:29:00-04:00\",\"2024-06-06T14:30:00-04:00\",\"2024-06-06T14:31:00-04:00\",\"2024-06-06T14:32:00-04:00\",\"2024-06-06T14:33:00-04:00\",\"2024-06-06T14:34:00-04:00\",\"2024-06-06T14:35:00-04:00\",\"2024-06-06T14:36:00-04:00\",\"2024-06-06T14:37:00-04:00\",\"2024-06-06T14:38:00-04:00\",\"2024-06-06T14:39:00-04:00\",\"2024-06-06T14:40:00-04:00\",\"2024-06-06T14:41:00-04:00\",\"2024-06-06T14:42:00-04:00\",\"2024-06-06T14:43:00-04:00\",\"2024-06-06T14:44:00-04:00\",\"2024-06-06T14:45:00-04:00\",\"2024-06-06T14:46:00-04:00\",\"2024-06-06T14:47:00-04:00\",\"2024-06-06T14:48:00-04:00\",\"2024-06-06T14:49:00-04:00\",\"2024-06-06T14:50:00-04:00\",\"2024-06-06T14:51:00-04:00\",\"2024-06-06T14:52:00-04:00\",\"2024-06-06T14:53:00-04:00\",\"2024-06-06T14:54:00-04:00\",\"2024-06-06T14:55:00-04:00\",\"2024-06-06T14:56:00-04:00\",\"2024-06-06T14:57:00-04:00\",\"2024-06-06T14:58:00-04:00\",\"2024-06-06T14:59:00-04:00\",\"2024-06-06T15:00:00-04:00\",\"2024-06-06T15:01:00-04:00\",\"2024-06-06T15:02:00-04:00\",\"2024-06-06T15:03:00-04:00\",\"2024-06-06T15:04:00-04:00\",\"2024-06-06T15:05:00-04:00\",\"2024-06-06T15:06:00-04:00\",\"2024-06-06T15:07:00-04:00\",\"2024-06-06T15:08:00-04:00\",\"2024-06-06T15:09:00-04:00\",\"2024-06-06T15:10:00-04:00\",\"2024-06-06T15:11:00-04:00\",\"2024-06-06T15:12:00-04:00\",\"2024-06-06T15:13:00-04:00\",\"2024-06-06T15:14:00-04:00\",\"2024-06-06T15:15:00-04:00\",\"2024-06-06T15:16:00-04:00\",\"2024-06-06T15:17:00-04:00\",\"2024-06-06T15:18:00-04:00\",\"2024-06-06T15:19:00-04:00\",\"2024-06-06T15:20:00-04:00\",\"2024-06-06T15:21:00-04:00\",\"2024-06-06T15:22:00-04:00\",\"2024-06-06T15:23:00-04:00\",\"2024-06-06T15:24:00-04:00\",\"2024-06-06T15:25:00-04:00\",\"2024-06-06T15:26:00-04:00\",\"2024-06-06T15:27:00-04:00\",\"2024-06-06T15:28:00-04:00\",\"2024-06-06T15:29:00-04:00\",\"2024-06-06T15:30:00-04:00\",\"2024-06-06T15:31:00-04:00\",\"2024-06-06T15:32:00-04:00\",\"2024-06-06T15:33:00-04:00\",\"2024-06-06T15:34:00-04:00\",\"2024-06-06T15:35:00-04:00\",\"2024-06-06T15:36:00-04:00\",\"2024-06-06T15:37:00-04:00\",\"2024-06-06T15:38:00-04:00\",\"2024-06-06T15:39:00-04:00\",\"2024-06-06T15:40:00-04:00\",\"2024-06-06T15:41:00-04:00\",\"2024-06-06T15:42:00-04:00\",\"2024-06-06T15:43:00-04:00\",\"2024-06-06T15:44:00-04:00\",\"2024-06-06T15:45:00-04:00\",\"2024-06-06T15:46:00-04:00\",\"2024-06-06T15:47:00-04:00\",\"2024-06-06T15:48:00-04:00\",\"2024-06-06T15:49:00-04:00\",\"2024-06-06T15:50:00-04:00\",\"2024-06-06T15:51:00-04:00\",\"2024-06-06T15:52:00-04:00\",\"2024-06-06T15:53:00-04:00\",\"2024-06-06T15:54:00-04:00\",\"2024-06-06T15:55:00-04:00\",\"2024-06-06T15:56:00-04:00\",\"2024-06-06T15:57:00-04:00\",\"2024-06-06T15:58:00-04:00\",\"2024-06-06T15:59:00-04:00\"],\"xaxis\":\"x\",\"y\":[196.1300048828125,196.1300048828125,196.10888709625402,196.10741767187503,196.06989544067775,196.01899041341858,195.9269720489979,195.87320418022122,195.81996415224762,195.77275667879638,195.7288023789361,195.6485685812803,195.60958432375193,195.5799848391045,195.5590887905885,195.54347138938283,195.52226589905206,195.5011160920549,195.47963679850633,195.47472442457638,195.4683841636765,195.46493385891546,195.45792102495412,195.45187800687438,195.44906234595834,195.4517080507316,195.4709834614365,195.48495702701086,195.48495702701086,195.47979943687776,195.48238602937747,195.4790017085538,195.4883193958174,195.50459315763018,195.5219287520868,195.57998373070419,195.60551125575148,195.6214624756119,195.63018393628346,195.6279450988874,195.6374756392898,195.6567260689447,195.6840202841128,195.68981459751117,195.70035987180233,195.70755281902296,195.7236794096424,195.74343813037564,195.76583942271134,195.78861105854998,195.8110894728926,195.82813079223246,195.8405272001548,195.845813274086,195.84758546812762,195.84768849087754,195.84394105210262,195.83749908127024,195.82684248433793,195.8260737292294,195.8321594428658,195.8442890781112,195.85788033186725,195.87247943315745,195.87129724972962,195.84522223852784,195.82653506753834,195.81309908015876,195.7989796164787,195.77537281923847,195.7495949634315,195.73289966381475,195.7229036431422,195.70897468584135,195.69784042743888,195.68616819515472,195.6747362362647,195.68090608469933,195.69354972057988,195.67885568191696,195.6597247200438,195.6280305113195,195.6132489263768,195.6085274572748,195.60121224866361,195.60048191466575,195.60232249075708,195.60005160157064,195.60317367495892,195.61137026407962,195.61190418025015,195.60516396080658,195.60208224322295,195.60106924741382,195.60178157709333,195.59847244223297,195.59513476510983,195.5939328425614,195.5920017039903,195.5882295828559,195.58758986357586,195.58649094216923,195.58660480818014,195.594900292541,195.60790254997517,195.63540643868424,195.64762627595445,195.6546576386023,195.6624774130234,195.65832831305758,195.65008404232492,195.65415219236928,195.65518425240046,195.6545714903976,195.6546304615386,195.66076208693644,195.66222982372778,195.66346344844155,195.6643404971386,195.66808355120216,195.6733023203568,195.6733023203568,195.67596035892305,195.67905386471836,195.6808921240167,195.6848182038111,195.69042733295615,195.6972332845848,195.6964100438483,195.69076559277156,195.68867803996523,195.68258769150887,195.67419668437807,195.66819229420747,195.6647464100313,195.65646668751558,195.64597502438323,195.6400170869432,195.63426112872673,195.63020461619925,195.62104102189096,195.6043049498048,195.58449747713973,195.5579707065611,195.53870947443363,195.51843301170567,195.50370750911583,195.49394925215634,195.4908475651947,195.4838759315001,195.47993409935214,195.47006628467213,195.46385395749903,195.45891593434624,195.45591271637463,195.45259851926332,195.4509243415578,195.44912327641893,195.44895760320526,195.4489987571,195.44895461830578,195.44963860084528,195.44792590267423,195.4460676951885,195.4453277282313,195.44716513953182,195.4501842787477,195.459475836475,195.46838046389183,195.47926542187898,195.48441632130348,195.48978696708463,195.49218186812587,195.50045695020148,195.5067836874591,195.52071339639022,195.53425119342657,195.54673161273206,195.55935101862076,195.57373013537736,195.58513328551237,195.5981952620207,195.60692058316076,195.6139291842409,195.62109572683983,195.62603396844028,195.6268807820021,195.62555239415306,195.62828456352622,195.6357110161362,195.65046321811153,195.64654103555424,195.6476790534801,195.6465031711679,195.64704259924383,195.64553133036068,195.6453193284057,195.64512353703316,195.6442231567551,195.6443386267639,195.6435790229945,195.6431014766032,195.646366080126,195.64600811193003,195.6462151178204,195.64676796364762,195.64468147067694,195.64661539565103,195.65007121100203,195.64380178601382,195.62737278061448,195.62548810221315,195.62558703703735,195.62648967081728,195.6316315543965,195.64016662669428,195.64323019536226,195.65079637571006,195.65851940254305,195.67096213103028,195.6822179417512,195.69827010022703,195.71456969854975,195.72622927233442,195.74179234790134,195.75621002620738,195.76290970836342,195.76940825394982,195.7734405930442,195.77975324542862,195.76967692485525,195.74628085013373,195.72224165501433,195.6948940491495,195.66143784883627,195.6346776678191,195.61740401434983,195.60166839541807,195.5870333914815,195.57425345781843,195.5649813489704,195.5558423882467,195.55466870540397,195.5571285710317,195.56003639980355,195.55871643953404,195.55468284036326,195.55083786835857,195.55041706012096,195.5490262787993,195.5468747532219,195.54903991281475,195.5508483885556,195.55346923431028,195.55290250848125,195.55847401850514,195.564592198739,195.5700884921318,195.5795071430664,195.58825556478033,195.58931557069616,195.58787735734546,195.58604979372654,195.58286978091087,195.57475071821926,195.5746925873593,195.567894857456,195.5568109448511,195.5452994436922,195.53434020700342,195.52521783064958,195.52264305856772,195.51768714899774,195.5142259099968,195.5056410006299,195.49529077136512,195.48964646923463,195.47049529125,195.43340470212058,195.38836429297703,195.32437433161354,195.28763420568743,195.25099227458796,195.2191470763289,195.2048534874079,195.19643032273774,195.187679784116,195.1812277891903,195.17630733651401,195.175703834178,195.1747370152563,195.17201195493865,195.17131845076145,195.1710697974229,195.17079110037335,195.17096639776037,195.1710381356327,195.17116374795998,195.17116539782953,195.17126884139938,195.171060837187,195.17356081877205,195.1808454995572,195.1975644449806,195.23602714414187,195.26315258350252,195.29400802316547,195.32941891274126,195.34235115064482,195.34245541145415,195.33749843111818,195.32822249079555,195.32130715622833,195.31101438891517,195.29908086963334,195.28974110822253,195.27970181775999,195.27041254501174,195.26117826574395,195.25421873359693,195.24716497685458,195.24331109835316,195.2393402534364,195.2410892114278,195.24654306864105,195.247874917485,195.24788067674416,195.24872299649542,195.24795963056107,195.24904322624764,195.24417953054112,195.23920170837337,195.23624707268476,195.23205051890622,195.23127143534236,195.2298908188641,195.22814503028394,195.22915587781898,195.23195556957765,195.2351389338166,195.235744340116,195.23420287872358,195.2279035339014,195.2121949977768,195.19281239338477,195.17196606708694,195.16522849986188,195.16110159367327,195.15952979123645,195.1601160931481,195.16121020485636,195.16169077673968,195.15915939552863,195.15826413709047,195.15924637338972,195.16006344438787,195.16081327757098,195.16102721819297,195.16102721819297,195.1633611072437,195.16341946426292,195.16087147204152,195.1604658773449,195.1603817569707,195.1618383539134,195.1620539349173,195.1596870707102,195.16118228966002,195.1677707881806,195.18351398983188,195.17992635020727,195.16482171266205,195.1481047303952,195.1259560227773,195.10262473564782,195.08246325655344,195.06949404697338,195.05344208102258,195.04362483394587,195.03692061315306,195.02910323777903,195.00010009078,194.93130138391905,194.848562958808,194.78646285792118,194.71229856685812,194.6478428612754,194.57241745588578,194.53200584710916,194.48803350780864],\"yaxis\":\"y\",\"type\":\"scattergl\"},{\"hovertemplate\":\"variable=Close<br>Datetime=%{x}<br>value=%{y}<extra></extra>\",\"legendgroup\":\"Close\",\"line\":{\"color\":\"#0059ff\",\"dash\":\"solid\"},\"marker\":{\"symbol\":\"circle\"},\"mode\":\"lines\",\"name\":\"Close\",\"showlegend\":true,\"x\":[\"2024-06-06T09:30:00-04:00\",\"2024-06-06T09:31:00-04:00\",\"2024-06-06T09:32:00-04:00\",\"2024-06-06T09:33:00-04:00\",\"2024-06-06T09:34:00-04:00\",\"2024-06-06T09:35:00-04:00\",\"2024-06-06T09:36:00-04:00\",\"2024-06-06T09:37:00-04:00\",\"2024-06-06T09:38:00-04:00\",\"2024-06-06T09:39:00-04:00\",\"2024-06-06T09:40:00-04:00\",\"2024-06-06T09:41:00-04:00\",\"2024-06-06T09:42:00-04:00\",\"2024-06-06T09:43:00-04:00\",\"2024-06-06T09:44:00-04:00\",\"2024-06-06T09:45:00-04:00\",\"2024-06-06T09:46:00-04:00\",\"2024-06-06T09:47:00-04:00\",\"2024-06-06T09:48:00-04:00\",\"2024-06-06T09:49:00-04:00\",\"2024-06-06T09:50:00-04:00\",\"2024-06-06T09:51:00-04:00\",\"2024-06-06T09:52:00-04:00\",\"2024-06-06T09:53:00-04:00\",\"2024-06-06T09:54:00-04:00\",\"2024-06-06T09:55:00-04:00\",\"2024-06-06T09:56:00-04:00\",\"2024-06-06T09:57:00-04:00\",\"2024-06-06T09:58:00-04:00\",\"2024-06-06T09:59:00-04:00\",\"2024-06-06T10:00:00-04:00\",\"2024-06-06T10:01:00-04:00\",\"2024-06-06T10:02:00-04:00\",\"2024-06-06T10:03:00-04:00\",\"2024-06-06T10:04:00-04:00\",\"2024-06-06T10:05:00-04:00\",\"2024-06-06T10:06:00-04:00\",\"2024-06-06T10:07:00-04:00\",\"2024-06-06T10:08:00-04:00\",\"2024-06-06T10:09:00-04:00\",\"2024-06-06T10:10:00-04:00\",\"2024-06-06T10:11:00-04:00\",\"2024-06-06T10:12:00-04:00\",\"2024-06-06T10:13:00-04:00\",\"2024-06-06T10:14:00-04:00\",\"2024-06-06T10:15:00-04:00\",\"2024-06-06T10:16:00-04:00\",\"2024-06-06T10:17:00-04:00\",\"2024-06-06T10:18:00-04:00\",\"2024-06-06T10:19:00-04:00\",\"2024-06-06T10:20:00-04:00\",\"2024-06-06T10:21:00-04:00\",\"2024-06-06T10:22:00-04:00\",\"2024-06-06T10:23:00-04:00\",\"2024-06-06T10:24:00-04:00\",\"2024-06-06T10:25:00-04:00\",\"2024-06-06T10:26:00-04:00\",\"2024-06-06T10:27:00-04:00\",\"2024-06-06T10:28:00-04:00\",\"2024-06-06T10:29:00-04:00\",\"2024-06-06T10:30:00-04:00\",\"2024-06-06T10:31:00-04:00\",\"2024-06-06T10:32:00-04:00\",\"2024-06-06T10:33:00-04:00\",\"2024-06-06T10:34:00-04:00\",\"2024-06-06T10:35:00-04:00\",\"2024-06-06T10:36:00-04:00\",\"2024-06-06T10:37:00-04:00\",\"2024-06-06T10:38:00-04:00\",\"2024-06-06T10:39:00-04:00\",\"2024-06-06T10:40:00-04:00\",\"2024-06-06T10:41:00-04:00\",\"2024-06-06T10:42:00-04:00\",\"2024-06-06T10:43:00-04:00\",\"2024-06-06T10:44:00-04:00\",\"2024-06-06T10:45:00-04:00\",\"2024-06-06T10:46:00-04:00\",\"2024-06-06T10:47:00-04:00\",\"2024-06-06T10:48:00-04:00\",\"2024-06-06T10:49:00-04:00\",\"2024-06-06T10:50:00-04:00\",\"2024-06-06T10:51:00-04:00\",\"2024-06-06T10:52:00-04:00\",\"2024-06-06T10:53:00-04:00\",\"2024-06-06T10:54:00-04:00\",\"2024-06-06T10:55:00-04:00\",\"2024-06-06T10:56:00-04:00\",\"2024-06-06T10:57:00-04:00\",\"2024-06-06T10:58:00-04:00\",\"2024-06-06T10:59:00-04:00\",\"2024-06-06T11:00:00-04:00\",\"2024-06-06T11:01:00-04:00\",\"2024-06-06T11:02:00-04:00\",\"2024-06-06T11:03:00-04:00\",\"2024-06-06T11:04:00-04:00\",\"2024-06-06T11:05:00-04:00\",\"2024-06-06T11:06:00-04:00\",\"2024-06-06T11:07:00-04:00\",\"2024-06-06T11:08:00-04:00\",\"2024-06-06T11:09:00-04:00\",\"2024-06-06T11:10:00-04:00\",\"2024-06-06T11:11:00-04:00\",\"2024-06-06T11:12:00-04:00\",\"2024-06-06T11:13:00-04:00\",\"2024-06-06T11:14:00-04:00\",\"2024-06-06T11:15:00-04:00\",\"2024-06-06T11:16:00-04:00\",\"2024-06-06T11:17:00-04:00\",\"2024-06-06T11:18:00-04:00\",\"2024-06-06T11:19:00-04:00\",\"2024-06-06T11:20:00-04:00\",\"2024-06-06T11:21:00-04:00\",\"2024-06-06T11:22:00-04:00\",\"2024-06-06T11:23:00-04:00\",\"2024-06-06T11:24:00-04:00\",\"2024-06-06T11:25:00-04:00\",\"2024-06-06T11:26:00-04:00\",\"2024-06-06T11:27:00-04:00\",\"2024-06-06T11:28:00-04:00\",\"2024-06-06T11:29:00-04:00\",\"2024-06-06T11:30:00-04:00\",\"2024-06-06T11:31:00-04:00\",\"2024-06-06T11:32:00-04:00\",\"2024-06-06T11:33:00-04:00\",\"2024-06-06T11:34:00-04:00\",\"2024-06-06T11:35:00-04:00\",\"2024-06-06T11:36:00-04:00\",\"2024-06-06T11:37:00-04:00\",\"2024-06-06T11:38:00-04:00\",\"2024-06-06T11:39:00-04:00\",\"2024-06-06T11:40:00-04:00\",\"2024-06-06T11:41:00-04:00\",\"2024-06-06T11:42:00-04:00\",\"2024-06-06T11:43:00-04:00\",\"2024-06-06T11:44:00-04:00\",\"2024-06-06T11:45:00-04:00\",\"2024-06-06T11:46:00-04:00\",\"2024-06-06T11:47:00-04:00\",\"2024-06-06T11:48:00-04:00\",\"2024-06-06T11:49:00-04:00\",\"2024-06-06T11:50:00-04:00\",\"2024-06-06T11:51:00-04:00\",\"2024-06-06T11:52:00-04:00\",\"2024-06-06T11:53:00-04:00\",\"2024-06-06T11:54:00-04:00\",\"2024-06-06T11:55:00-04:00\",\"2024-06-06T11:56:00-04:00\",\"2024-06-06T11:57:00-04:00\",\"2024-06-06T11:58:00-04:00\",\"2024-06-06T11:59:00-04:00\",\"2024-06-06T12:00:00-04:00\",\"2024-06-06T12:01:00-04:00\",\"2024-06-06T12:02:00-04:00\",\"2024-06-06T12:03:00-04:00\",\"2024-06-06T12:04:00-04:00\",\"2024-06-06T12:05:00-04:00\",\"2024-06-06T12:06:00-04:00\",\"2024-06-06T12:07:00-04:00\",\"2024-06-06T12:08:00-04:00\",\"2024-06-06T12:09:00-04:00\",\"2024-06-06T12:10:00-04:00\",\"2024-06-06T12:11:00-04:00\",\"2024-06-06T12:12:00-04:00\",\"2024-06-06T12:13:00-04:00\",\"2024-06-06T12:14:00-04:00\",\"2024-06-06T12:15:00-04:00\",\"2024-06-06T12:16:00-04:00\",\"2024-06-06T12:17:00-04:00\",\"2024-06-06T12:18:00-04:00\",\"2024-06-06T12:19:00-04:00\",\"2024-06-06T12:20:00-04:00\",\"2024-06-06T12:21:00-04:00\",\"2024-06-06T12:22:00-04:00\",\"2024-06-06T12:23:00-04:00\",\"2024-06-06T12:24:00-04:00\",\"2024-06-06T12:25:00-04:00\",\"2024-06-06T12:26:00-04:00\",\"2024-06-06T12:27:00-04:00\",\"2024-06-06T12:28:00-04:00\",\"2024-06-06T12:29:00-04:00\",\"2024-06-06T12:30:00-04:00\",\"2024-06-06T12:31:00-04:00\",\"2024-06-06T12:32:00-04:00\",\"2024-06-06T12:33:00-04:00\",\"2024-06-06T12:34:00-04:00\",\"2024-06-06T12:35:00-04:00\",\"2024-06-06T12:36:00-04:00\",\"2024-06-06T12:37:00-04:00\",\"2024-06-06T12:38:00-04:00\",\"2024-06-06T12:39:00-04:00\",\"2024-06-06T12:40:00-04:00\",\"2024-06-06T12:41:00-04:00\",\"2024-06-06T12:42:00-04:00\",\"2024-06-06T12:43:00-04:00\",\"2024-06-06T12:44:00-04:00\",\"2024-06-06T12:45:00-04:00\",\"2024-06-06T12:46:00-04:00\",\"2024-06-06T12:47:00-04:00\",\"2024-06-06T12:48:00-04:00\",\"2024-06-06T12:49:00-04:00\",\"2024-06-06T12:50:00-04:00\",\"2024-06-06T12:51:00-04:00\",\"2024-06-06T12:52:00-04:00\",\"2024-06-06T12:53:00-04:00\",\"2024-06-06T12:54:00-04:00\",\"2024-06-06T12:55:00-04:00\",\"2024-06-06T12:56:00-04:00\",\"2024-06-06T12:57:00-04:00\",\"2024-06-06T12:58:00-04:00\",\"2024-06-06T12:59:00-04:00\",\"2024-06-06T13:00:00-04:00\",\"2024-06-06T13:01:00-04:00\",\"2024-06-06T13:02:00-04:00\",\"2024-06-06T13:03:00-04:00\",\"2024-06-06T13:04:00-04:00\",\"2024-06-06T13:05:00-04:00\",\"2024-06-06T13:06:00-04:00\",\"2024-06-06T13:07:00-04:00\",\"2024-06-06T13:08:00-04:00\",\"2024-06-06T13:09:00-04:00\",\"2024-06-06T13:10:00-04:00\",\"2024-06-06T13:11:00-04:00\",\"2024-06-06T13:12:00-04:00\",\"2024-06-06T13:13:00-04:00\",\"2024-06-06T13:14:00-04:00\",\"2024-06-06T13:15:00-04:00\",\"2024-06-06T13:16:00-04:00\",\"2024-06-06T13:17:00-04:00\",\"2024-06-06T13:18:00-04:00\",\"2024-06-06T13:19:00-04:00\",\"2024-06-06T13:20:00-04:00\",\"2024-06-06T13:21:00-04:00\",\"2024-06-06T13:22:00-04:00\",\"2024-06-06T13:23:00-04:00\",\"2024-06-06T13:24:00-04:00\",\"2024-06-06T13:25:00-04:00\",\"2024-06-06T13:26:00-04:00\",\"2024-06-06T13:27:00-04:00\",\"2024-06-06T13:28:00-04:00\",\"2024-06-06T13:29:00-04:00\",\"2024-06-06T13:30:00-04:00\",\"2024-06-06T13:31:00-04:00\",\"2024-06-06T13:32:00-04:00\",\"2024-06-06T13:33:00-04:00\",\"2024-06-06T13:34:00-04:00\",\"2024-06-06T13:35:00-04:00\",\"2024-06-06T13:36:00-04:00\",\"2024-06-06T13:37:00-04:00\",\"2024-06-06T13:38:00-04:00\",\"2024-06-06T13:39:00-04:00\",\"2024-06-06T13:40:00-04:00\",\"2024-06-06T13:41:00-04:00\",\"2024-06-06T13:42:00-04:00\",\"2024-06-06T13:43:00-04:00\",\"2024-06-06T13:44:00-04:00\",\"2024-06-06T13:45:00-04:00\",\"2024-06-06T13:46:00-04:00\",\"2024-06-06T13:47:00-04:00\",\"2024-06-06T13:48:00-04:00\",\"2024-06-06T13:49:00-04:00\",\"2024-06-06T13:50:00-04:00\",\"2024-06-06T13:51:00-04:00\",\"2024-06-06T13:52:00-04:00\",\"2024-06-06T13:53:00-04:00\",\"2024-06-06T13:54:00-04:00\",\"2024-06-06T13:55:00-04:00\",\"2024-06-06T13:56:00-04:00\",\"2024-06-06T13:57:00-04:00\",\"2024-06-06T13:58:00-04:00\",\"2024-06-06T13:59:00-04:00\",\"2024-06-06T14:00:00-04:00\",\"2024-06-06T14:01:00-04:00\",\"2024-06-06T14:02:00-04:00\",\"2024-06-06T14:03:00-04:00\",\"2024-06-06T14:04:00-04:00\",\"2024-06-06T14:05:00-04:00\",\"2024-06-06T14:06:00-04:00\",\"2024-06-06T14:07:00-04:00\",\"2024-06-06T14:08:00-04:00\",\"2024-06-06T14:09:00-04:00\",\"2024-06-06T14:10:00-04:00\",\"2024-06-06T14:11:00-04:00\",\"2024-06-06T14:12:00-04:00\",\"2024-06-06T14:13:00-04:00\",\"2024-06-06T14:14:00-04:00\",\"2024-06-06T14:15:00-04:00\",\"2024-06-06T14:16:00-04:00\",\"2024-06-06T14:17:00-04:00\",\"2024-06-06T14:18:00-04:00\",\"2024-06-06T14:19:00-04:00\",\"2024-06-06T14:20:00-04:00\",\"2024-06-06T14:21:00-04:00\",\"2024-06-06T14:22:00-04:00\",\"2024-06-06T14:23:00-04:00\",\"2024-06-06T14:24:00-04:00\",\"2024-06-06T14:25:00-04:00\",\"2024-06-06T14:26:00-04:00\",\"2024-06-06T14:27:00-04:00\",\"2024-06-06T14:28:00-04:00\",\"2024-06-06T14:29:00-04:00\",\"2024-06-06T14:30:00-04:00\",\"2024-06-06T14:31:00-04:00\",\"2024-06-06T14:32:00-04:00\",\"2024-06-06T14:33:00-04:00\",\"2024-06-06T14:34:00-04:00\",\"2024-06-06T14:35:00-04:00\",\"2024-06-06T14:36:00-04:00\",\"2024-06-06T14:37:00-04:00\",\"2024-06-06T14:38:00-04:00\",\"2024-06-06T14:39:00-04:00\",\"2024-06-06T14:40:00-04:00\",\"2024-06-06T14:41:00-04:00\",\"2024-06-06T14:42:00-04:00\",\"2024-06-06T14:43:00-04:00\",\"2024-06-06T14:44:00-04:00\",\"2024-06-06T14:45:00-04:00\",\"2024-06-06T14:46:00-04:00\",\"2024-06-06T14:47:00-04:00\",\"2024-06-06T14:48:00-04:00\",\"2024-06-06T14:49:00-04:00\",\"2024-06-06T14:50:00-04:00\",\"2024-06-06T14:51:00-04:00\",\"2024-06-06T14:52:00-04:00\",\"2024-06-06T14:53:00-04:00\",\"2024-06-06T14:54:00-04:00\",\"2024-06-06T14:55:00-04:00\",\"2024-06-06T14:56:00-04:00\",\"2024-06-06T14:57:00-04:00\",\"2024-06-06T14:58:00-04:00\",\"2024-06-06T14:59:00-04:00\",\"2024-06-06T15:00:00-04:00\",\"2024-06-06T15:01:00-04:00\",\"2024-06-06T15:02:00-04:00\",\"2024-06-06T15:03:00-04:00\",\"2024-06-06T15:04:00-04:00\",\"2024-06-06T15:05:00-04:00\",\"2024-06-06T15:06:00-04:00\",\"2024-06-06T15:07:00-04:00\",\"2024-06-06T15:08:00-04:00\",\"2024-06-06T15:09:00-04:00\",\"2024-06-06T15:10:00-04:00\",\"2024-06-06T15:11:00-04:00\",\"2024-06-06T15:12:00-04:00\",\"2024-06-06T15:13:00-04:00\",\"2024-06-06T15:14:00-04:00\",\"2024-06-06T15:15:00-04:00\",\"2024-06-06T15:16:00-04:00\",\"2024-06-06T15:17:00-04:00\",\"2024-06-06T15:18:00-04:00\",\"2024-06-06T15:19:00-04:00\",\"2024-06-06T15:20:00-04:00\",\"2024-06-06T15:21:00-04:00\",\"2024-06-06T15:22:00-04:00\",\"2024-06-06T15:23:00-04:00\",\"2024-06-06T15:24:00-04:00\",\"2024-06-06T15:25:00-04:00\",\"2024-06-06T15:26:00-04:00\",\"2024-06-06T15:27:00-04:00\",\"2024-06-06T15:28:00-04:00\",\"2024-06-06T15:29:00-04:00\",\"2024-06-06T15:30:00-04:00\",\"2024-06-06T15:31:00-04:00\",\"2024-06-06T15:32:00-04:00\",\"2024-06-06T15:33:00-04:00\",\"2024-06-06T15:34:00-04:00\",\"2024-06-06T15:35:00-04:00\",\"2024-06-06T15:36:00-04:00\",\"2024-06-06T15:37:00-04:00\",\"2024-06-06T15:38:00-04:00\",\"2024-06-06T15:39:00-04:00\",\"2024-06-06T15:40:00-04:00\",\"2024-06-06T15:41:00-04:00\",\"2024-06-06T15:42:00-04:00\",\"2024-06-06T15:43:00-04:00\",\"2024-06-06T15:44:00-04:00\",\"2024-06-06T15:45:00-04:00\",\"2024-06-06T15:46:00-04:00\",\"2024-06-06T15:47:00-04:00\",\"2024-06-06T15:48:00-04:00\",\"2024-06-06T15:49:00-04:00\",\"2024-06-06T15:50:00-04:00\",\"2024-06-06T15:51:00-04:00\",\"2024-06-06T15:52:00-04:00\",\"2024-06-06T15:53:00-04:00\",\"2024-06-06T15:54:00-04:00\",\"2024-06-06T15:55:00-04:00\",\"2024-06-06T15:56:00-04:00\",\"2024-06-06T15:57:00-04:00\",\"2024-06-06T15:58:00-04:00\",\"2024-06-06T15:59:00-04:00\"],\"xaxis\":\"x\",\"y\":[196.1300048828125,196.25999450683594,196.1082000732422,195.89999389648438,195.77000427246094,195.48680114746094,195.5760955810547,195.52999877929688,195.52999877929688,195.52000427246094,195.21499633789062,195.47999572753906,195.5500030517578,195.63360595703125,195.69000244140625,195.59219360351562,195.57000732421875,195.54049682617188,195.8000030517578,195.74000549316406,195.7799072265625,195.66409301757812,195.63999938964844,195.64999389648438,195.7050018310547,195.74000549316406,195.82000732421875,195.89999389648438,195.97000122070312,196.110107421875,196.2050018310547,196.14500427246094,195.93499755859375,196.08999633789062,196.02499389648438,195.83999633789062,195.75999450683594,195.75999450683594,195.66000366210938,195.7100067138672,195.83999633789062,195.9600067138672,195.97000122070312,196.05999755859375,196.1699981689453,196.26499938964844,196.3350067138672,196.35890197753906,196.2899932861328,196.25999450683594,196.27999877929688,196.25999450683594,196.47000122070312,196.44000244140625,196.210205078125,196.0500030517578,195.85000610351562,195.89999389648438,196.00999450683594,195.9199981689453,195.89999389648438,195.9149932861328,195.7899932861328,195.6999969482422,195.60499572753906,195.73500061035156,195.7899932861328,195.8300018310547,195.75,195.72000122070312,195.8000030517578,195.86000061035156,195.7899932861328,195.80999755859375,195.76499938964844,195.74000549316406,195.72999572753906,195.65789794921875,195.5299072265625,195.54510498046875,195.4600067138672,195.5800018310547,195.63999938964844,195.625,195.72979736328125,195.83999633789062,195.92999267578125,195.8300018310547,195.74000549316406,195.75,195.63999938964844,195.6999969482422,195.72000122070312,195.74000549316406,195.6876983642578,195.67230224609375,195.72500610351562,195.6999969482422,195.65499877929688,195.71499633789062,195.69500732421875,195.66000366210938,195.6199951171875,195.7449951171875,195.8000030517578,195.83999633789062,195.84500122070312,195.72999572753906,195.6649932861328,195.63009643554688,195.7050018310547,195.78500366210938,195.72000122070312,195.7541046142578,195.74000549316406,195.8249969482422,195.81500244140625,195.7899932861328,195.81500244140625,195.8350067138672,195.72500610351562,195.75,195.69000244140625,195.75160217285156,195.77000427246094,195.72999572753906,195.67799377441406,195.72999572753906,195.68499755859375,195.72000122070312,195.66000366210938,195.6300048828125,195.61000061035156,195.60130310058594,195.61000061035156,195.60499572753906,195.6300048828125,195.63999938964844,195.65499877929688,195.58810424804688,195.51499938964844,195.47999572753906,195.41000366210938,195.42999267578125,195.4199981689453,195.4499969482422,195.49000549316406,195.5699005126953,195.49000549316406,195.52999877929688,195.45419311523438,195.47000122070312,195.48789978027344,195.47999572753906,195.49000549316406,195.52000427246094,195.51539611816406,195.56500244140625,195.56849670410156,195.5601043701172,195.59860229492188,195.6750030517578,195.69000244140625,195.64100646972656,195.58999633789062,195.5399932861328,195.67999267578125,195.6750030517578,195.69500732421875,195.78500366210938,195.75999450683594,195.72000122070312,195.7440948486328,195.72000122070312,195.6750030517578,195.69500732421875,195.68499755859375,195.62989807128906,195.68499755859375,195.6699981689453,195.6699981689453,195.6999969482422,195.64999389648438,195.6300048828125,195.66000366210938,195.6999969482422,195.66000366210938,195.69500732421875,195.67999267578125,195.64999389648438,195.62969970703125,195.7050018310547,195.66969299316406,195.66000366210938,195.63999938964844,195.67999267578125,195.64999389648438,195.64999389648438,195.67999267578125,195.66000366210938,195.6649932861328,195.69500732421875,195.7100067138672,195.7100067138672,195.69500732421875,195.75,195.72000122070312,195.7449951171875,195.84500122070312,195.97000122070312,195.93099975585938,195.90989685058594,195.9499969482422,195.9499969482422,195.9550018310547,196.0,195.9949951171875,196.06979370117188,196.05999755859375,196.0500030517578,195.9550018310547,195.90499877929688,195.83999633789062,195.86500549316406,195.8350067138672,195.76499938964844,195.7799072265625,195.75,195.7550048828125,195.66000366210938,195.5399932861328,195.53500366210938,195.5399932861328,195.4976043701172,195.52499389648438,195.59849548339844,195.61000061035156,195.61000061035156,195.6199951171875,195.6479949951172,195.6300048828125,195.6898956298828,195.71499633789062,195.65499877929688,195.6199951171875,195.5800018310547,195.59500122070312,195.60000610351562,195.5749969482422,195.58999633789062,195.6466064453125,195.67999267578125,195.68499755859375,195.625,195.6298065185547,195.6199951171875,195.61000061035156,195.5749969482422,195.61000061035156,195.61500549316406,195.58999633789062,195.5850067138672,195.5749969482422,195.53500366210938,195.6280975341797,195.53500366210938,195.48500061035156,195.48500061035156,195.47830200195312,195.47500610351562,195.5449981689453,195.51499938964844,195.52000427246094,195.47000122070312,195.45249938964844,195.47999572753906,195.3583984375,195.2384033203125,195.14999389648438,194.99000549316406,195.10000610351562,195.06849670410156,195.0800018310547,195.23500061035156,195.3040008544922,195.28500366210938,195.30999755859375,195.3300018310547,195.38499450683594,195.41000366210938,195.35000610351562,195.4149932861328,195.52999877929688,195.5399932861328,195.5299072265625,195.49000549316406,195.49000549316406,195.50900268554688,195.52499389648438,195.54449462890625,195.4600067138672,195.3800048828125,195.44000244140625,195.4365997314453,195.4550018310547,195.35000610351562,195.3699951171875,195.35830688476562,195.30499267578125,195.2449951171875,195.22999572753906,195.26010131835938,195.25999450683594,195.25010681152344,195.24000549316406,195.25999450683594,195.27499389648438,195.25999450683594,195.27499389648438,195.27000427246094,195.30499267578125,195.27999877929688,195.35499572753906,195.3957977294922,195.3632049560547,195.38499450683594,195.35000610351562,195.2899932861328,195.27499389648438,195.24000549316406,195.22999572753906,195.25,195.22999572753906,195.23500061035156,195.21499633789062,195.23500061035156,195.27999877929688,195.3459014892578,195.29629516601562,195.27000427246094,195.2501983642578,195.19000244140625,195.1199951171875,195.0800018310547,195.05999755859375,195.1649932861328,195.2050018310547,195.22000122070312,195.30999755859375,195.35000610351562,195.2949981689453,195.2100067138672,195.24000549316406,195.2812957763672,195.25250244140625,195.28500366210938,195.23500061035156,195.23500061035156,195.28500366210938,195.39300537109375,195.44000244140625,195.3800048828125,195.39500427246094,195.35499572753906,195.2550048828125,195.16000366210938,195.13499450683594,195.13999938964844,195.2100067138672,195.1300048828125,195.05999755859375,195.0449981689453,195.01499938964844,194.99000549316406,194.9949951171875,195.02780151367188,195.0,195.07000732421875,195.10000610351562,195.0850067138672,194.85499572753906,194.55999755859375,194.40499877929688,194.45989990234375,194.30999755859375,194.32000732421875,194.1750030517578,194.41000366210938,194.34500122070312,194.47999572753906],\"yaxis\":\"y\",\"type\":\"scattergl\"}],                        {\"template\":{\"data\":{\"histogram2dcontour\":[{\"type\":\"histogram2dcontour\",\"colorbar\":{\"outlinewidth\":0,\"ticks\":\"\"},\"colorscale\":[[0.0,\"#0d0887\"],[0.1111111111111111,\"#46039f\"],[0.2222222222222222,\"#7201a8\"],[0.3333333333333333,\"#9c179e\"],[0.4444444444444444,\"#bd3786\"],[0.5555555555555556,\"#d8576b\"],[0.6666666666666666,\"#ed7953\"],[0.7777777777777778,\"#fb9f3a\"],[0.8888888888888888,\"#fdca26\"],[1.0,\"#f0f921\"]]}],\"choropleth\":[{\"type\":\"choropleth\",\"colorbar\":{\"outlinewidth\":0,\"ticks\":\"\"}}],\"histogram2d\":[{\"type\":\"histogram2d\",\"colorbar\":{\"outlinewidth\":0,\"ticks\":\"\"},\"colorscale\":[[0.0,\"#0d0887\"],[0.1111111111111111,\"#46039f\"],[0.2222222222222222,\"#7201a8\"],[0.3333333333333333,\"#9c179e\"],[0.4444444444444444,\"#bd3786\"],[0.5555555555555556,\"#d8576b\"],[0.6666666666666666,\"#ed7953\"],[0.7777777777777778,\"#fb9f3a\"],[0.8888888888888888,\"#fdca26\"],[1.0,\"#f0f921\"]]}],\"heatmap\":[{\"type\":\"heatmap\",\"colorbar\":{\"outlinewidth\":0,\"ticks\":\"\"},\"colorscale\":[[0.0,\"#0d0887\"],[0.1111111111111111,\"#46039f\"],[0.2222222222222222,\"#7201a8\"],[0.3333333333333333,\"#9c179e\"],[0.4444444444444444,\"#bd3786\"],[0.5555555555555556,\"#d8576b\"],[0.6666666666666666,\"#ed7953\"],[0.7777777777777778,\"#fb9f3a\"],[0.8888888888888888,\"#fdca26\"],[1.0,\"#f0f921\"]]}],\"heatmapgl\":[{\"type\":\"heatmapgl\",\"colorbar\":{\"outlinewidth\":0,\"ticks\":\"\"},\"colorscale\":[[0.0,\"#0d0887\"],[0.1111111111111111,\"#46039f\"],[0.2222222222222222,\"#7201a8\"],[0.3333333333333333,\"#9c179e\"],[0.4444444444444444,\"#bd3786\"],[0.5555555555555556,\"#d8576b\"],[0.6666666666666666,\"#ed7953\"],[0.7777777777777778,\"#fb9f3a\"],[0.8888888888888888,\"#fdca26\"],[1.0,\"#f0f921\"]]}],\"contourcarpet\":[{\"type\":\"contourcarpet\",\"colorbar\":{\"outlinewidth\":0,\"ticks\":\"\"}}],\"contour\":[{\"type\":\"contour\",\"colorbar\":{\"outlinewidth\":0,\"ticks\":\"\"},\"colorscale\":[[0.0,\"#0d0887\"],[0.1111111111111111,\"#46039f\"],[0.2222222222222222,\"#7201a8\"],[0.3333333333333333,\"#9c179e\"],[0.4444444444444444,\"#bd3786\"],[0.5555555555555556,\"#d8576b\"],[0.6666666666666666,\"#ed7953\"],[0.7777777777777778,\"#fb9f3a\"],[0.8888888888888888,\"#fdca26\"],[1.0,\"#f0f921\"]]}],\"surface\":[{\"type\":\"surface\",\"colorbar\":{\"outlinewidth\":0,\"ticks\":\"\"},\"colorscale\":[[0.0,\"#0d0887\"],[0.1111111111111111,\"#46039f\"],[0.2222222222222222,\"#7201a8\"],[0.3333333333333333,\"#9c179e\"],[0.4444444444444444,\"#bd3786\"],[0.5555555555555556,\"#d8576b\"],[0.6666666666666666,\"#ed7953\"],[0.7777777777777778,\"#fb9f3a\"],[0.8888888888888888,\"#fdca26\"],[1.0,\"#f0f921\"]]}],\"mesh3d\":[{\"type\":\"mesh3d\",\"colorbar\":{\"outlinewidth\":0,\"ticks\":\"\"}}],\"scatter\":[{\"fillpattern\":{\"fillmode\":\"overlay\",\"size\":10,\"solidity\":0.2},\"type\":\"scatter\"}],\"parcoords\":[{\"type\":\"parcoords\",\"line\":{\"colorbar\":{\"outlinewidth\":0,\"ticks\":\"\"}}}],\"scatterpolargl\":[{\"type\":\"scatterpolargl\",\"marker\":{\"colorbar\":{\"outlinewidth\":0,\"ticks\":\"\"}}}],\"bar\":[{\"error_x\":{\"color\":\"#2a3f5f\"},\"error_y\":{\"color\":\"#2a3f5f\"},\"marker\":{\"line\":{\"color\":\"#E5ECF6\",\"width\":0.5},\"pattern\":{\"fillmode\":\"overlay\",\"size\":10,\"solidity\":0.2}},\"type\":\"bar\"}],\"scattergeo\":[{\"type\":\"scattergeo\",\"marker\":{\"colorbar\":{\"outlinewidth\":0,\"ticks\":\"\"}}}],\"scatterpolar\":[{\"type\":\"scatterpolar\",\"marker\":{\"colorbar\":{\"outlinewidth\":0,\"ticks\":\"\"}}}],\"histogram\":[{\"marker\":{\"pattern\":{\"fillmode\":\"overlay\",\"size\":10,\"solidity\":0.2}},\"type\":\"histogram\"}],\"scattergl\":[{\"type\":\"scattergl\",\"marker\":{\"colorbar\":{\"outlinewidth\":0,\"ticks\":\"\"}}}],\"scatter3d\":[{\"type\":\"scatter3d\",\"line\":{\"colorbar\":{\"outlinewidth\":0,\"ticks\":\"\"}},\"marker\":{\"colorbar\":{\"outlinewidth\":0,\"ticks\":\"\"}}}],\"scattermapbox\":[{\"type\":\"scattermapbox\",\"marker\":{\"colorbar\":{\"outlinewidth\":0,\"ticks\":\"\"}}}],\"scatterternary\":[{\"type\":\"scatterternary\",\"marker\":{\"colorbar\":{\"outlinewidth\":0,\"ticks\":\"\"}}}],\"scattercarpet\":[{\"type\":\"scattercarpet\",\"marker\":{\"colorbar\":{\"outlinewidth\":0,\"ticks\":\"\"}}}],\"carpet\":[{\"aaxis\":{\"endlinecolor\":\"#2a3f5f\",\"gridcolor\":\"white\",\"linecolor\":\"white\",\"minorgridcolor\":\"white\",\"startlinecolor\":\"#2a3f5f\"},\"baxis\":{\"endlinecolor\":\"#2a3f5f\",\"gridcolor\":\"white\",\"linecolor\":\"white\",\"minorgridcolor\":\"white\",\"startlinecolor\":\"#2a3f5f\"},\"type\":\"carpet\"}],\"table\":[{\"cells\":{\"fill\":{\"color\":\"#EBF0F8\"},\"line\":{\"color\":\"white\"}},\"header\":{\"fill\":{\"color\":\"#C8D4E3\"},\"line\":{\"color\":\"white\"}},\"type\":\"table\"}],\"barpolar\":[{\"marker\":{\"line\":{\"color\":\"#E5ECF6\",\"width\":0.5},\"pattern\":{\"fillmode\":\"overlay\",\"size\":10,\"solidity\":0.2}},\"type\":\"barpolar\"}],\"pie\":[{\"automargin\":true,\"type\":\"pie\"}]},\"layout\":{\"autotypenumbers\":\"strict\",\"colorway\":[\"#636efa\",\"#EF553B\",\"#00cc96\",\"#ab63fa\",\"#FFA15A\",\"#19d3f3\",\"#FF6692\",\"#B6E880\",\"#FF97FF\",\"#FECB52\"],\"font\":{\"color\":\"#2a3f5f\"},\"hovermode\":\"closest\",\"hoverlabel\":{\"align\":\"left\"},\"paper_bgcolor\":\"white\",\"plot_bgcolor\":\"#E5ECF6\",\"polar\":{\"bgcolor\":\"#E5ECF6\",\"angularaxis\":{\"gridcolor\":\"white\",\"linecolor\":\"white\",\"ticks\":\"\"},\"radialaxis\":{\"gridcolor\":\"white\",\"linecolor\":\"white\",\"ticks\":\"\"}},\"ternary\":{\"bgcolor\":\"#E5ECF6\",\"aaxis\":{\"gridcolor\":\"white\",\"linecolor\":\"white\",\"ticks\":\"\"},\"baxis\":{\"gridcolor\":\"white\",\"linecolor\":\"white\",\"ticks\":\"\"},\"caxis\":{\"gridcolor\":\"white\",\"linecolor\":\"white\",\"ticks\":\"\"}},\"coloraxis\":{\"colorbar\":{\"outlinewidth\":0,\"ticks\":\"\"}},\"colorscale\":{\"sequential\":[[0.0,\"#0d0887\"],[0.1111111111111111,\"#46039f\"],[0.2222222222222222,\"#7201a8\"],[0.3333333333333333,\"#9c179e\"],[0.4444444444444444,\"#bd3786\"],[0.5555555555555556,\"#d8576b\"],[0.6666666666666666,\"#ed7953\"],[0.7777777777777778,\"#fb9f3a\"],[0.8888888888888888,\"#fdca26\"],[1.0,\"#f0f921\"]],\"sequentialminus\":[[0.0,\"#0d0887\"],[0.1111111111111111,\"#46039f\"],[0.2222222222222222,\"#7201a8\"],[0.3333333333333333,\"#9c179e\"],[0.4444444444444444,\"#bd3786\"],[0.5555555555555556,\"#d8576b\"],[0.6666666666666666,\"#ed7953\"],[0.7777777777777778,\"#fb9f3a\"],[0.8888888888888888,\"#fdca26\"],[1.0,\"#f0f921\"]],\"diverging\":[[0,\"#8e0152\"],[0.1,\"#c51b7d\"],[0.2,\"#de77ae\"],[0.3,\"#f1b6da\"],[0.4,\"#fde0ef\"],[0.5,\"#f7f7f7\"],[0.6,\"#e6f5d0\"],[0.7,\"#b8e186\"],[0.8,\"#7fbc41\"],[0.9,\"#4d9221\"],[1,\"#276419\"]]},\"xaxis\":{\"gridcolor\":\"white\",\"linecolor\":\"white\",\"ticks\":\"\",\"title\":{\"standoff\":15},\"zerolinecolor\":\"white\",\"automargin\":true,\"zerolinewidth\":2},\"yaxis\":{\"gridcolor\":\"white\",\"linecolor\":\"white\",\"ticks\":\"\",\"title\":{\"standoff\":15},\"zerolinecolor\":\"white\",\"automargin\":true,\"zerolinewidth\":2},\"scene\":{\"xaxis\":{\"backgroundcolor\":\"#E5ECF6\",\"gridcolor\":\"white\",\"linecolor\":\"white\",\"showbackground\":true,\"ticks\":\"\",\"zerolinecolor\":\"white\",\"gridwidth\":2},\"yaxis\":{\"backgroundcolor\":\"#E5ECF6\",\"gridcolor\":\"white\",\"linecolor\":\"white\",\"showbackground\":true,\"ticks\":\"\",\"zerolinecolor\":\"white\",\"gridwidth\":2},\"zaxis\":{\"backgroundcolor\":\"#E5ECF6\",\"gridcolor\":\"white\",\"linecolor\":\"white\",\"showbackground\":true,\"ticks\":\"\",\"zerolinecolor\":\"white\",\"gridwidth\":2}},\"shapedefaults\":{\"line\":{\"color\":\"#2a3f5f\"}},\"annotationdefaults\":{\"arrowcolor\":\"#2a3f5f\",\"arrowhead\":0,\"arrowwidth\":1},\"geo\":{\"bgcolor\":\"white\",\"landcolor\":\"#E5ECF6\",\"subunitcolor\":\"white\",\"showland\":true,\"showlakes\":true,\"lakecolor\":\"white\"},\"title\":{\"x\":0.05},\"mapbox\":{\"style\":\"light\"}}},\"xaxis\":{\"anchor\":\"y\",\"domain\":[0.0,1.0],\"title\":{\"text\":\"Datetime\"}},\"yaxis\":{\"anchor\":\"x\",\"domain\":[0.0,1.0],\"title\":{\"text\":\"value\"}},\"legend\":{\"title\":{\"text\":\"variable\"},\"tracegroupgap\":0},\"title\":{\"text\":\"AAPL Stock Prices w/ Bollinger Bands\"}},                        {\"responsive\": true}                    ).then(function(){\n",
       "                            \n",
       "var gd = document.getElementById('ed3b3e49-ba60-4906-ba9d-20d794ef99bd');\n",
       "var x = new MutationObserver(function (mutations, observer) {{\n",
       "        var display = window.getComputedStyle(gd).display;\n",
       "        if (!display || display === 'none') {{\n",
       "            console.log([gd, 'removed!']);\n",
       "            Plotly.purge(gd);\n",
       "            observer.disconnect();\n",
       "        }}\n",
       "}});\n",
       "\n",
       "// Listen for the removal of the full notebook cells\n",
       "var notebookContainer = gd.closest('#notebook-container');\n",
       "if (notebookContainer) {{\n",
       "    x.observe(notebookContainer, {childList: true});\n",
       "}}\n",
       "\n",
       "// Listen for the clearing of the current output cell\n",
       "var outputEl = gd.closest('.output');\n",
       "if (outputEl) {{\n",
       "    x.observe(outputEl, {childList: true});\n",
       "}}\n",
       "\n",
       "                        })                };                });            </script>        </div>"
      ]
     },
     "metadata": {},
     "output_type": "display_data"
    },
    {
     "data": {
      "application/vnd.plotly.v1+json": {
       "config": {
        "plotlyServerURL": "https://plot.ly"
       },
       "data": [
        {
         "hovertemplate": "variable=EMA_24<br>Datetime=%{x}<br>value=%{y}<extra></extra>",
         "legendgroup": "EMA_24",
         "line": {
          "color": "#38b9ff",
          "dash": "solid"
         },
         "marker": {
          "symbol": "circle"
         },
         "mode": "lines",
         "name": "EMA_24",
         "orientation": "v",
         "showlegend": true,
         "type": "scatter",
         "x": [
          "2024-06-06T09:30:00-04:00",
          "2024-06-06T09:31:00-04:00",
          "2024-06-06T09:32:00-04:00",
          "2024-06-06T09:33:00-04:00",
          "2024-06-06T09:34:00-04:00",
          "2024-06-06T09:35:00-04:00",
          "2024-06-06T09:36:00-04:00",
          "2024-06-06T09:37:00-04:00",
          "2024-06-06T09:38:00-04:00",
          "2024-06-06T09:39:00-04:00",
          "2024-06-06T09:40:00-04:00",
          "2024-06-06T09:41:00-04:00",
          "2024-06-06T09:42:00-04:00",
          "2024-06-06T09:43:00-04:00",
          "2024-06-06T09:44:00-04:00",
          "2024-06-06T09:45:00-04:00",
          "2024-06-06T09:46:00-04:00",
          "2024-06-06T09:47:00-04:00",
          "2024-06-06T09:48:00-04:00",
          "2024-06-06T09:49:00-04:00",
          "2024-06-06T09:50:00-04:00",
          "2024-06-06T09:51:00-04:00",
          "2024-06-06T09:52:00-04:00",
          "2024-06-06T09:53:00-04:00",
          "2024-06-06T09:54:00-04:00",
          "2024-06-06T09:55:00-04:00",
          "2024-06-06T09:56:00-04:00",
          "2024-06-06T09:57:00-04:00",
          "2024-06-06T09:58:00-04:00",
          "2024-06-06T09:59:00-04:00",
          "2024-06-06T10:00:00-04:00",
          "2024-06-06T10:01:00-04:00",
          "2024-06-06T10:02:00-04:00",
          "2024-06-06T10:03:00-04:00",
          "2024-06-06T10:04:00-04:00",
          "2024-06-06T10:05:00-04:00",
          "2024-06-06T10:06:00-04:00",
          "2024-06-06T10:07:00-04:00",
          "2024-06-06T10:08:00-04:00",
          "2024-06-06T10:09:00-04:00",
          "2024-06-06T10:10:00-04:00",
          "2024-06-06T10:11:00-04:00",
          "2024-06-06T10:12:00-04:00",
          "2024-06-06T10:13:00-04:00",
          "2024-06-06T10:14:00-04:00",
          "2024-06-06T10:15:00-04:00",
          "2024-06-06T10:16:00-04:00",
          "2024-06-06T10:17:00-04:00",
          "2024-06-06T10:18:00-04:00",
          "2024-06-06T10:19:00-04:00",
          "2024-06-06T10:20:00-04:00",
          "2024-06-06T10:21:00-04:00",
          "2024-06-06T10:22:00-04:00",
          "2024-06-06T10:23:00-04:00",
          "2024-06-06T10:24:00-04:00",
          "2024-06-06T10:25:00-04:00",
          "2024-06-06T10:26:00-04:00",
          "2024-06-06T10:27:00-04:00",
          "2024-06-06T10:28:00-04:00",
          "2024-06-06T10:29:00-04:00",
          "2024-06-06T10:30:00-04:00",
          "2024-06-06T10:31:00-04:00",
          "2024-06-06T10:32:00-04:00",
          "2024-06-06T10:33:00-04:00",
          "2024-06-06T10:34:00-04:00",
          "2024-06-06T10:35:00-04:00",
          "2024-06-06T10:36:00-04:00",
          "2024-06-06T10:37:00-04:00",
          "2024-06-06T10:38:00-04:00",
          "2024-06-06T10:39:00-04:00",
          "2024-06-06T10:40:00-04:00",
          "2024-06-06T10:41:00-04:00",
          "2024-06-06T10:42:00-04:00",
          "2024-06-06T10:43:00-04:00",
          "2024-06-06T10:44:00-04:00",
          "2024-06-06T10:45:00-04:00",
          "2024-06-06T10:46:00-04:00",
          "2024-06-06T10:47:00-04:00",
          "2024-06-06T10:48:00-04:00",
          "2024-06-06T10:49:00-04:00",
          "2024-06-06T10:50:00-04:00",
          "2024-06-06T10:51:00-04:00",
          "2024-06-06T10:52:00-04:00",
          "2024-06-06T10:53:00-04:00",
          "2024-06-06T10:54:00-04:00",
          "2024-06-06T10:55:00-04:00",
          "2024-06-06T10:56:00-04:00",
          "2024-06-06T10:57:00-04:00",
          "2024-06-06T10:58:00-04:00",
          "2024-06-06T10:59:00-04:00",
          "2024-06-06T11:00:00-04:00",
          "2024-06-06T11:01:00-04:00",
          "2024-06-06T11:02:00-04:00",
          "2024-06-06T11:03:00-04:00",
          "2024-06-06T11:04:00-04:00",
          "2024-06-06T11:05:00-04:00",
          "2024-06-06T11:06:00-04:00",
          "2024-06-06T11:07:00-04:00",
          "2024-06-06T11:08:00-04:00",
          "2024-06-06T11:09:00-04:00",
          "2024-06-06T11:10:00-04:00",
          "2024-06-06T11:11:00-04:00",
          "2024-06-06T11:12:00-04:00",
          "2024-06-06T11:13:00-04:00",
          "2024-06-06T11:14:00-04:00",
          "2024-06-06T11:15:00-04:00",
          "2024-06-06T11:16:00-04:00",
          "2024-06-06T11:17:00-04:00",
          "2024-06-06T11:18:00-04:00",
          "2024-06-06T11:19:00-04:00",
          "2024-06-06T11:20:00-04:00",
          "2024-06-06T11:21:00-04:00",
          "2024-06-06T11:22:00-04:00",
          "2024-06-06T11:23:00-04:00",
          "2024-06-06T11:24:00-04:00",
          "2024-06-06T11:25:00-04:00",
          "2024-06-06T11:26:00-04:00",
          "2024-06-06T11:27:00-04:00",
          "2024-06-06T11:28:00-04:00",
          "2024-06-06T11:29:00-04:00",
          "2024-06-06T11:30:00-04:00",
          "2024-06-06T11:31:00-04:00",
          "2024-06-06T11:32:00-04:00",
          "2024-06-06T11:33:00-04:00",
          "2024-06-06T11:34:00-04:00",
          "2024-06-06T11:35:00-04:00",
          "2024-06-06T11:36:00-04:00",
          "2024-06-06T11:37:00-04:00",
          "2024-06-06T11:38:00-04:00",
          "2024-06-06T11:39:00-04:00",
          "2024-06-06T11:40:00-04:00",
          "2024-06-06T11:41:00-04:00",
          "2024-06-06T11:42:00-04:00",
          "2024-06-06T11:43:00-04:00",
          "2024-06-06T11:44:00-04:00",
          "2024-06-06T11:45:00-04:00",
          "2024-06-06T11:46:00-04:00",
          "2024-06-06T11:47:00-04:00",
          "2024-06-06T11:48:00-04:00",
          "2024-06-06T11:49:00-04:00",
          "2024-06-06T11:50:00-04:00",
          "2024-06-06T11:51:00-04:00",
          "2024-06-06T11:52:00-04:00",
          "2024-06-06T11:53:00-04:00",
          "2024-06-06T11:54:00-04:00",
          "2024-06-06T11:55:00-04:00",
          "2024-06-06T11:56:00-04:00",
          "2024-06-06T11:57:00-04:00",
          "2024-06-06T11:58:00-04:00",
          "2024-06-06T11:59:00-04:00",
          "2024-06-06T12:00:00-04:00",
          "2024-06-06T12:01:00-04:00",
          "2024-06-06T12:02:00-04:00",
          "2024-06-06T12:03:00-04:00",
          "2024-06-06T12:04:00-04:00",
          "2024-06-06T12:05:00-04:00",
          "2024-06-06T12:06:00-04:00",
          "2024-06-06T12:07:00-04:00",
          "2024-06-06T12:08:00-04:00",
          "2024-06-06T12:09:00-04:00",
          "2024-06-06T12:10:00-04:00",
          "2024-06-06T12:11:00-04:00",
          "2024-06-06T12:12:00-04:00",
          "2024-06-06T12:13:00-04:00",
          "2024-06-06T12:14:00-04:00",
          "2024-06-06T12:15:00-04:00",
          "2024-06-06T12:16:00-04:00",
          "2024-06-06T12:17:00-04:00",
          "2024-06-06T12:18:00-04:00",
          "2024-06-06T12:19:00-04:00",
          "2024-06-06T12:20:00-04:00",
          "2024-06-06T12:21:00-04:00",
          "2024-06-06T12:22:00-04:00",
          "2024-06-06T12:23:00-04:00",
          "2024-06-06T12:24:00-04:00",
          "2024-06-06T12:25:00-04:00",
          "2024-06-06T12:26:00-04:00",
          "2024-06-06T12:27:00-04:00",
          "2024-06-06T12:28:00-04:00",
          "2024-06-06T12:29:00-04:00",
          "2024-06-06T12:30:00-04:00",
          "2024-06-06T12:31:00-04:00",
          "2024-06-06T12:32:00-04:00",
          "2024-06-06T12:33:00-04:00",
          "2024-06-06T12:34:00-04:00",
          "2024-06-06T12:35:00-04:00",
          "2024-06-06T12:36:00-04:00",
          "2024-06-06T12:37:00-04:00",
          "2024-06-06T12:38:00-04:00",
          "2024-06-06T12:39:00-04:00",
          "2024-06-06T12:40:00-04:00",
          "2024-06-06T12:41:00-04:00",
          "2024-06-06T12:42:00-04:00",
          "2024-06-06T12:43:00-04:00",
          "2024-06-06T12:44:00-04:00",
          "2024-06-06T12:45:00-04:00",
          "2024-06-06T12:46:00-04:00",
          "2024-06-06T12:47:00-04:00",
          "2024-06-06T12:48:00-04:00",
          "2024-06-06T12:49:00-04:00",
          "2024-06-06T12:50:00-04:00",
          "2024-06-06T12:51:00-04:00",
          "2024-06-06T12:52:00-04:00",
          "2024-06-06T12:53:00-04:00",
          "2024-06-06T12:54:00-04:00",
          "2024-06-06T12:55:00-04:00",
          "2024-06-06T12:56:00-04:00",
          "2024-06-06T12:57:00-04:00",
          "2024-06-06T12:58:00-04:00",
          "2024-06-06T12:59:00-04:00",
          "2024-06-06T13:00:00-04:00",
          "2024-06-06T13:01:00-04:00",
          "2024-06-06T13:02:00-04:00",
          "2024-06-06T13:03:00-04:00",
          "2024-06-06T13:04:00-04:00",
          "2024-06-06T13:05:00-04:00",
          "2024-06-06T13:06:00-04:00",
          "2024-06-06T13:07:00-04:00",
          "2024-06-06T13:08:00-04:00",
          "2024-06-06T13:09:00-04:00",
          "2024-06-06T13:10:00-04:00",
          "2024-06-06T13:11:00-04:00",
          "2024-06-06T13:12:00-04:00",
          "2024-06-06T13:13:00-04:00",
          "2024-06-06T13:14:00-04:00",
          "2024-06-06T13:15:00-04:00",
          "2024-06-06T13:16:00-04:00",
          "2024-06-06T13:17:00-04:00",
          "2024-06-06T13:18:00-04:00",
          "2024-06-06T13:19:00-04:00",
          "2024-06-06T13:20:00-04:00",
          "2024-06-06T13:21:00-04:00",
          "2024-06-06T13:22:00-04:00",
          "2024-06-06T13:23:00-04:00",
          "2024-06-06T13:24:00-04:00",
          "2024-06-06T13:25:00-04:00",
          "2024-06-06T13:26:00-04:00",
          "2024-06-06T13:27:00-04:00",
          "2024-06-06T13:28:00-04:00",
          "2024-06-06T13:29:00-04:00",
          "2024-06-06T13:30:00-04:00",
          "2024-06-06T13:31:00-04:00",
          "2024-06-06T13:32:00-04:00",
          "2024-06-06T13:33:00-04:00",
          "2024-06-06T13:34:00-04:00",
          "2024-06-06T13:35:00-04:00",
          "2024-06-06T13:36:00-04:00",
          "2024-06-06T13:37:00-04:00",
          "2024-06-06T13:38:00-04:00",
          "2024-06-06T13:39:00-04:00",
          "2024-06-06T13:40:00-04:00",
          "2024-06-06T13:41:00-04:00",
          "2024-06-06T13:42:00-04:00",
          "2024-06-06T13:43:00-04:00",
          "2024-06-06T13:44:00-04:00",
          "2024-06-06T13:45:00-04:00",
          "2024-06-06T13:46:00-04:00",
          "2024-06-06T13:47:00-04:00",
          "2024-06-06T13:48:00-04:00",
          "2024-06-06T13:49:00-04:00",
          "2024-06-06T13:50:00-04:00",
          "2024-06-06T13:51:00-04:00",
          "2024-06-06T13:52:00-04:00",
          "2024-06-06T13:53:00-04:00",
          "2024-06-06T13:54:00-04:00",
          "2024-06-06T13:55:00-04:00",
          "2024-06-06T13:56:00-04:00",
          "2024-06-06T13:57:00-04:00",
          "2024-06-06T13:58:00-04:00",
          "2024-06-06T13:59:00-04:00",
          "2024-06-06T14:00:00-04:00",
          "2024-06-06T14:01:00-04:00",
          "2024-06-06T14:02:00-04:00",
          "2024-06-06T14:03:00-04:00",
          "2024-06-06T14:04:00-04:00",
          "2024-06-06T14:05:00-04:00",
          "2024-06-06T14:06:00-04:00",
          "2024-06-06T14:07:00-04:00",
          "2024-06-06T14:08:00-04:00",
          "2024-06-06T14:09:00-04:00",
          "2024-06-06T14:10:00-04:00",
          "2024-06-06T14:11:00-04:00",
          "2024-06-06T14:12:00-04:00",
          "2024-06-06T14:13:00-04:00",
          "2024-06-06T14:14:00-04:00",
          "2024-06-06T14:15:00-04:00",
          "2024-06-06T14:16:00-04:00",
          "2024-06-06T14:17:00-04:00",
          "2024-06-06T14:18:00-04:00",
          "2024-06-06T14:19:00-04:00",
          "2024-06-06T14:20:00-04:00",
          "2024-06-06T14:21:00-04:00",
          "2024-06-06T14:22:00-04:00",
          "2024-06-06T14:23:00-04:00",
          "2024-06-06T14:24:00-04:00",
          "2024-06-06T14:25:00-04:00",
          "2024-06-06T14:26:00-04:00",
          "2024-06-06T14:27:00-04:00",
          "2024-06-06T14:28:00-04:00",
          "2024-06-06T14:29:00-04:00",
          "2024-06-06T14:30:00-04:00",
          "2024-06-06T14:31:00-04:00",
          "2024-06-06T14:32:00-04:00",
          "2024-06-06T14:33:00-04:00",
          "2024-06-06T14:34:00-04:00",
          "2024-06-06T14:35:00-04:00",
          "2024-06-06T14:36:00-04:00",
          "2024-06-06T14:37:00-04:00",
          "2024-06-06T14:38:00-04:00",
          "2024-06-06T14:39:00-04:00",
          "2024-06-06T14:40:00-04:00",
          "2024-06-06T14:41:00-04:00",
          "2024-06-06T14:42:00-04:00",
          "2024-06-06T14:43:00-04:00",
          "2024-06-06T14:44:00-04:00",
          "2024-06-06T14:45:00-04:00",
          "2024-06-06T14:46:00-04:00",
          "2024-06-06T14:47:00-04:00",
          "2024-06-06T14:48:00-04:00",
          "2024-06-06T14:49:00-04:00",
          "2024-06-06T14:50:00-04:00",
          "2024-06-06T14:51:00-04:00",
          "2024-06-06T14:52:00-04:00",
          "2024-06-06T14:53:00-04:00",
          "2024-06-06T14:54:00-04:00",
          "2024-06-06T14:55:00-04:00",
          "2024-06-06T14:56:00-04:00",
          "2024-06-06T14:57:00-04:00",
          "2024-06-06T14:58:00-04:00",
          "2024-06-06T14:59:00-04:00",
          "2024-06-06T15:00:00-04:00",
          "2024-06-06T15:01:00-04:00",
          "2024-06-06T15:02:00-04:00",
          "2024-06-06T15:03:00-04:00",
          "2024-06-06T15:04:00-04:00",
          "2024-06-06T15:05:00-04:00",
          "2024-06-06T15:06:00-04:00",
          "2024-06-06T15:07:00-04:00",
          "2024-06-06T15:08:00-04:00",
          "2024-06-06T15:09:00-04:00",
          "2024-06-06T15:10:00-04:00",
          "2024-06-06T15:11:00-04:00",
          "2024-06-06T15:12:00-04:00",
          "2024-06-06T15:13:00-04:00",
          "2024-06-06T15:14:00-04:00",
          "2024-06-06T15:15:00-04:00",
          "2024-06-06T15:16:00-04:00",
          "2024-06-06T15:17:00-04:00",
          "2024-06-06T15:18:00-04:00",
          "2024-06-06T15:19:00-04:00",
          "2024-06-06T15:20:00-04:00",
          "2024-06-06T15:21:00-04:00",
          "2024-06-06T15:22:00-04:00",
          "2024-06-06T15:23:00-04:00",
          "2024-06-06T15:24:00-04:00",
          "2024-06-06T15:25:00-04:00",
          "2024-06-06T15:26:00-04:00",
          "2024-06-06T15:27:00-04:00",
          "2024-06-06T15:28:00-04:00",
          "2024-06-06T15:29:00-04:00",
          "2024-06-06T15:30:00-04:00",
          "2024-06-06T15:31:00-04:00",
          "2024-06-06T15:32:00-04:00",
          "2024-06-06T15:33:00-04:00",
          "2024-06-06T15:34:00-04:00",
          "2024-06-06T15:35:00-04:00",
          "2024-06-06T15:36:00-04:00",
          "2024-06-06T15:37:00-04:00",
          "2024-06-06T15:38:00-04:00",
          "2024-06-06T15:39:00-04:00",
          "2024-06-06T15:40:00-04:00",
          "2024-06-06T15:41:00-04:00",
          "2024-06-06T15:42:00-04:00",
          "2024-06-06T15:43:00-04:00",
          "2024-06-06T15:44:00-04:00",
          "2024-06-06T15:45:00-04:00",
          "2024-06-06T15:46:00-04:00",
          "2024-06-06T15:47:00-04:00",
          "2024-06-06T15:48:00-04:00",
          "2024-06-06T15:49:00-04:00",
          "2024-06-06T15:50:00-04:00",
          "2024-06-06T15:51:00-04:00",
          "2024-06-06T15:52:00-04:00",
          "2024-06-06T15:53:00-04:00",
          "2024-06-06T15:54:00-04:00",
          "2024-06-06T15:55:00-04:00",
          "2024-06-06T15:56:00-04:00",
          "2024-06-06T15:57:00-04:00",
          "2024-06-06T15:58:00-04:00",
          "2024-06-06T15:59:00-04:00"
         ],
         "xaxis": "x",
         "y": [
          196.1300048828125,
          196.1300048828125,
          196.21666463216147,
          196.1515998840332,
          196.05148583984376,
          195.96849926607112,
          195.84663100681516,
          195.8020297922194,
          195.76313641566108,
          195.73698194242195,
          195.71647229135343,
          195.6504238436351,
          195.64369120757755,
          195.64765335585201,
          195.66089600392672,
          195.6773979661601,
          195.6782605697211,
          195.67626854994705,
          195.67141585894288,
          195.6933173813877,
          195.70529624392356,
          195.71873551214844,
          195.71981730596895,
          195.71874702989606,
          195.71866724575227,
          195.73514582440626,
          195.71501524304333,
          195.69526959575444,
          195.6940757279831,
          195.67786677320416,
          195.72451671917318,
          195.75672422826008,
          195.78778663179617,
          195.79821246277197,
          195.78032463555118,
          195.83572041566134,
          195.84552597959993,
          195.84998478317982,
          195.85040915733043,
          195.82195505861787,
          195.81000008147095,
          195.80841059498152,
          195.85561796565082,
          195.85665824172418,
          195.87831924643922,
          195.88599796078114,
          195.91306113285796,
          195.94816782250672,
          195.98846244898687,
          196.01731666103865,
          196.04754542203068,
          196.0769541612789,
          196.10106087908372,
          196.1495154627017,
          196.18558211177975,
          196.17944156475653,
          196.1406980758973,
          196.1383952318486,
          196.11053618777393,
          196.07748514739163,
          196.05407165578765,
          196.0417454350434,
          196.01808864346626,
          196.0066003560424,
          195.9996438952482,
          195.98429487315448,
          195.9657023752983,
          195.96381122466133,
          195.96797619866646,
          195.9633802321841,
          195.95337340142586,
          195.9443339010878,
          195.92827225928406,
          195.91315474926654,
          195.90760632301016,
          195.89349361934381,
          195.90960297706874,
          195.89117920494095,
          195.84145302492507,
          195.79487347980233,
          195.74785669786564,
          195.73158597764723,
          195.7343289714136,
          195.71461702837604,
          195.70474351710862,
          195.7087754208851,
          195.70237577266917,
          195.70841954842186,
          195.70530400162147,
          195.72565399543598,
          195.73503550721733,
          195.73284091580655,
          195.7193988650732,
          195.71539186135817,
          195.72817548523088,
          195.73304769988388,
          195.71872457342047,
          195.7219312448255,
          195.71409371285066,
          195.70598747891563,
          195.70535508180427,
          195.69478118643568,
          195.6746973812934,
          195.6723756108449,
          195.6666817091414,
          195.69356818521248,
          195.71339282175757,
          195.7218938975905,
          195.7367084019682,
          195.7458677327923,
          195.74877160550892,
          195.7317534038883,
          195.72384784804964,
          195.72489116103,
          195.71235851179452,
          195.72268065463496,
          195.7335701071209,
          195.74278884286122,
          195.73949439529994,
          195.7434538137113,
          195.7579024779412,
          195.7518900660751,
          195.74565607254092,
          195.749314166381,
          195.74679512056258,
          195.74392010763438,
          195.73739785923198,
          195.74954285402293,
          195.75541497798173,
          195.75518781976422,
          195.753049444754,
          195.7300595037341,
          195.71326819681482,
          195.70028948344694,
          195.7024961772637,
          195.70591106523898,
          195.68905090097746,
          195.6889372675862,
          195.68311633828665,
          195.69235595714912,
          195.6826647772529,
          195.6658708443325,
          195.65438153690107,
          195.63753545591516,
          195.60606230801076,
          195.59455581613625,
          195.57488072237388,
          195.57641766780714,
          195.5783838649564,
          195.56590529721828,
          195.55600322598812,
          195.5548879669243,
          195.54201423897842,
          195.5424168273622,
          195.52931275504542,
          195.5221129819295,
          195.51924013617466,
          195.51775689777844,
          195.52271225822403,
          195.52569846097953,
          195.5318316356227,
          195.53852433153463,
          195.55147022523525,
          195.55351009527902,
          195.5506275948256,
          195.5490453491907,
          195.5388597566472,
          195.552852476514,
          195.56127347936552,
          195.57602737911918,
          195.5981537797532,
          195.62190113261877,
          195.61894904496657,
          195.63436694459338,
          195.63097038521835,
          195.6366299156745,
          195.64371961009252,
          195.64595338740617,
          195.64602206794615,
          195.65319529936346,
          195.65391660520976,
          195.66190884227697,
          195.66542824019768,
          195.6630590289717,
          195.66561879180264,
          195.67549732668263,
          195.6794848924901,
          195.6713031885443,
          195.66630404258797,
          195.66063979208067,
          195.67871303809204,
          195.6741174813538,
          195.67929237832732,
          195.69069000401058,
          195.6848543947464,
          195.67585975900505,
          195.67944733457972,
          195.67383411729958,
          195.66584411138618,
          195.66968014553524,
          195.6675529210318,
          195.65989988019444,
          195.67015674576183,
          195.67131714712752,
          195.6744123124667,
          195.68011510557233,
          195.6789465559637,
          195.67952884280677,
          195.68882133692273,
          195.7067219629586,
          195.72237806824467,
          195.743799548334,
          195.75505767377012,
          195.76659762356246,
          195.77852622997426,
          195.8028235117008,
          195.81382463245816,
          195.82700848129497,
          195.84372714988777,
          195.8664350179177,
          195.87706526845943,
          195.88330019346708,
          195.88909127249892,
          195.88246159139416,
          195.88173959378915,
          195.88205821822217,
          195.87472110801897,
          195.86713599750246,
          195.85573752161957,
          195.85511274193118,
          195.83544882338006,
          195.815191019651,
          195.80629471337335,
          195.80188792077053,
          195.772273074371,
          195.74963807952722,
          195.74296734579966,
          195.73233000696382,
          195.7232202081495,
          195.7210449891207,
          195.71452443668574,
          195.71787403819224,
          195.71431153695673,
          195.7130152778634,
          195.6955318285671,
          195.6827295504939,
          195.66572439569327,
          195.66344724360613,
          195.65431676023346,
          195.63850768511395,
          195.63664199745085,
          195.6333963370823,
          195.6378005970929,
          195.62873422460208,
          195.61221265531086,
          195.61294567411696,
          195.614184119816,
          195.6081193658973,
          195.60917204956374,
          195.61917417403043,
          195.6203959262004,
          195.61796395913564,
          195.6166784226822,
          195.6171288882588,
          195.6081269924644,
          195.61782058150325,
          195.61458830583177,
          195.59611090586253,
          195.58249033714154,
          195.568749034993,
          195.56327719655755,
          195.56249142726324,
          195.55531136234197,
          195.55451439123422,
          195.5554058111084,
          195.55168640037124,
          195.54662769945938,
          195.52345897417175,
          195.50130426018046,
          195.47187313985265,
          195.43197268494953,
          195.40068361335474,
          195.3788404056946,
          195.35560987263813,
          195.3425804297431,
          195.33881957346966,
          195.33316119473147,
          195.32590186850697,
          195.33881416225614,
          195.3299242930772,
          195.32957130143697,
          195.33120608560327,
          195.33700355332383,
          195.35199763655547,
          195.3764987160205,
          195.38471620469852,
          195.39381590069044,
          195.3947517269255,
          195.40152593107516,
          195.41512028401604,
          195.40903288350637,
          195.39689002127355,
          195.38358815047818,
          195.36647428975724,
          195.38695405058598,
          195.38813847738686,
          195.38664313411638,
          195.40626380650392,
          195.41175460727763,
          195.400645639408,
          195.39157223688113,
          195.38135026513115,
          195.37908418080562,
          195.37293770880012,
          195.35500085268714,
          195.35458609850951,
          195.362565049584,
          195.35691040050403,
          195.34779370987465,
          195.3365758654379,
          195.33125013799975,
          195.33171755437218,
          195.329741721435,
          195.33439812309706,
          195.3278891358508,
          195.31989986813883,
          195.33321782356546,
          195.334100912486,
          195.33305987193597,
          195.3142214213209,
          195.3109862334044,
          195.30292699436,
          195.2914858961408,
          195.2784562983218,
          195.27295224720146,
          195.27238540525136,
          195.26938018303005,
          195.26889306619265,
          195.27368825824055,
          195.27819889719865,
          195.27957092330232,
          195.2751935224961,
          195.2704058320916,
          195.25769848464594,
          195.24821243477743,
          195.22977660543197,
          195.23473192030167,
          195.23786906954558,
          195.23203379704745,
          195.24121637834367,
          195.24518987393864,
          195.241062090547,
          195.2365500643299,
          195.23209681621785,
          195.23467962720048,
          195.2388096013343,
          195.23980097719894,
          195.2400935007658,
          195.23698192053533,
          195.24352780885863,
          195.2615688020856,
          195.28475212749504,
          195.28566663595197,
          195.29085968140936,
          195.29331323069957,
          195.28211136394057,
          195.26287925763384,
          195.24724224223655,
          195.23595866503211,
          195.24807568151792,
          195.24403831561628,
          195.2313426511372,
          195.22860066905815,
          195.21692086470017,
          195.19133174089976,
          195.1641357874212,
          195.15728423768667,
          195.15028306021782,
          195.13996875941717,
          195.14116521556784,
          195.12991319426897,
          195.10791979693056,
          195.07084535902646,
          195.0321771495082,
          194.99274796661678,
          194.93001754964405,
          194.8832443276928,
          194.82117672762323,
          194.77476626271775,
          194.72754292994566
         ],
         "yaxis": "y"
        },
        {
         "hovertemplate": "variable=EMA_12<br>Datetime=%{x}<br>value=%{y}<extra></extra>",
         "legendgroup": "EMA_12",
         "line": {
          "color": "#44fcd1",
          "dash": "solid"
         },
         "marker": {
          "symbol": "circle"
         },
         "mode": "lines",
         "name": "EMA_12",
         "orientation": "v",
         "showlegend": true,
         "type": "scatter",
         "x": [
          "2024-06-06T09:30:00-04:00",
          "2024-06-06T09:31:00-04:00",
          "2024-06-06T09:32:00-04:00",
          "2024-06-06T09:33:00-04:00",
          "2024-06-06T09:34:00-04:00",
          "2024-06-06T09:35:00-04:00",
          "2024-06-06T09:36:00-04:00",
          "2024-06-06T09:37:00-04:00",
          "2024-06-06T09:38:00-04:00",
          "2024-06-06T09:39:00-04:00",
          "2024-06-06T09:40:00-04:00",
          "2024-06-06T09:41:00-04:00",
          "2024-06-06T09:42:00-04:00",
          "2024-06-06T09:43:00-04:00",
          "2024-06-06T09:44:00-04:00",
          "2024-06-06T09:45:00-04:00",
          "2024-06-06T09:46:00-04:00",
          "2024-06-06T09:47:00-04:00",
          "2024-06-06T09:48:00-04:00",
          "2024-06-06T09:49:00-04:00",
          "2024-06-06T09:50:00-04:00",
          "2024-06-06T09:51:00-04:00",
          "2024-06-06T09:52:00-04:00",
          "2024-06-06T09:53:00-04:00",
          "2024-06-06T09:54:00-04:00",
          "2024-06-06T09:55:00-04:00",
          "2024-06-06T09:56:00-04:00",
          "2024-06-06T09:57:00-04:00",
          "2024-06-06T09:58:00-04:00",
          "2024-06-06T09:59:00-04:00",
          "2024-06-06T10:00:00-04:00",
          "2024-06-06T10:01:00-04:00",
          "2024-06-06T10:02:00-04:00",
          "2024-06-06T10:03:00-04:00",
          "2024-06-06T10:04:00-04:00",
          "2024-06-06T10:05:00-04:00",
          "2024-06-06T10:06:00-04:00",
          "2024-06-06T10:07:00-04:00",
          "2024-06-06T10:08:00-04:00",
          "2024-06-06T10:09:00-04:00",
          "2024-06-06T10:10:00-04:00",
          "2024-06-06T10:11:00-04:00",
          "2024-06-06T10:12:00-04:00",
          "2024-06-06T10:13:00-04:00",
          "2024-06-06T10:14:00-04:00",
          "2024-06-06T10:15:00-04:00",
          "2024-06-06T10:16:00-04:00",
          "2024-06-06T10:17:00-04:00",
          "2024-06-06T10:18:00-04:00",
          "2024-06-06T10:19:00-04:00",
          "2024-06-06T10:20:00-04:00",
          "2024-06-06T10:21:00-04:00",
          "2024-06-06T10:22:00-04:00",
          "2024-06-06T10:23:00-04:00",
          "2024-06-06T10:24:00-04:00",
          "2024-06-06T10:25:00-04:00",
          "2024-06-06T10:26:00-04:00",
          "2024-06-06T10:27:00-04:00",
          "2024-06-06T10:28:00-04:00",
          "2024-06-06T10:29:00-04:00",
          "2024-06-06T10:30:00-04:00",
          "2024-06-06T10:31:00-04:00",
          "2024-06-06T10:32:00-04:00",
          "2024-06-06T10:33:00-04:00",
          "2024-06-06T10:34:00-04:00",
          "2024-06-06T10:35:00-04:00",
          "2024-06-06T10:36:00-04:00",
          "2024-06-06T10:37:00-04:00",
          "2024-06-06T10:38:00-04:00",
          "2024-06-06T10:39:00-04:00",
          "2024-06-06T10:40:00-04:00",
          "2024-06-06T10:41:00-04:00",
          "2024-06-06T10:42:00-04:00",
          "2024-06-06T10:43:00-04:00",
          "2024-06-06T10:44:00-04:00",
          "2024-06-06T10:45:00-04:00",
          "2024-06-06T10:46:00-04:00",
          "2024-06-06T10:47:00-04:00",
          "2024-06-06T10:48:00-04:00",
          "2024-06-06T10:49:00-04:00",
          "2024-06-06T10:50:00-04:00",
          "2024-06-06T10:51:00-04:00",
          "2024-06-06T10:52:00-04:00",
          "2024-06-06T10:53:00-04:00",
          "2024-06-06T10:54:00-04:00",
          "2024-06-06T10:55:00-04:00",
          "2024-06-06T10:56:00-04:00",
          "2024-06-06T10:57:00-04:00",
          "2024-06-06T10:58:00-04:00",
          "2024-06-06T10:59:00-04:00",
          "2024-06-06T11:00:00-04:00",
          "2024-06-06T11:01:00-04:00",
          "2024-06-06T11:02:00-04:00",
          "2024-06-06T11:03:00-04:00",
          "2024-06-06T11:04:00-04:00",
          "2024-06-06T11:05:00-04:00",
          "2024-06-06T11:06:00-04:00",
          "2024-06-06T11:07:00-04:00",
          "2024-06-06T11:08:00-04:00",
          "2024-06-06T11:09:00-04:00",
          "2024-06-06T11:10:00-04:00",
          "2024-06-06T11:11:00-04:00",
          "2024-06-06T11:12:00-04:00",
          "2024-06-06T11:13:00-04:00",
          "2024-06-06T11:14:00-04:00",
          "2024-06-06T11:15:00-04:00",
          "2024-06-06T11:16:00-04:00",
          "2024-06-06T11:17:00-04:00",
          "2024-06-06T11:18:00-04:00",
          "2024-06-06T11:19:00-04:00",
          "2024-06-06T11:20:00-04:00",
          "2024-06-06T11:21:00-04:00",
          "2024-06-06T11:22:00-04:00",
          "2024-06-06T11:23:00-04:00",
          "2024-06-06T11:24:00-04:00",
          "2024-06-06T11:25:00-04:00",
          "2024-06-06T11:26:00-04:00",
          "2024-06-06T11:27:00-04:00",
          "2024-06-06T11:28:00-04:00",
          "2024-06-06T11:29:00-04:00",
          "2024-06-06T11:30:00-04:00",
          "2024-06-06T11:31:00-04:00",
          "2024-06-06T11:32:00-04:00",
          "2024-06-06T11:33:00-04:00",
          "2024-06-06T11:34:00-04:00",
          "2024-06-06T11:35:00-04:00",
          "2024-06-06T11:36:00-04:00",
          "2024-06-06T11:37:00-04:00",
          "2024-06-06T11:38:00-04:00",
          "2024-06-06T11:39:00-04:00",
          "2024-06-06T11:40:00-04:00",
          "2024-06-06T11:41:00-04:00",
          "2024-06-06T11:42:00-04:00",
          "2024-06-06T11:43:00-04:00",
          "2024-06-06T11:44:00-04:00",
          "2024-06-06T11:45:00-04:00",
          "2024-06-06T11:46:00-04:00",
          "2024-06-06T11:47:00-04:00",
          "2024-06-06T11:48:00-04:00",
          "2024-06-06T11:49:00-04:00",
          "2024-06-06T11:50:00-04:00",
          "2024-06-06T11:51:00-04:00",
          "2024-06-06T11:52:00-04:00",
          "2024-06-06T11:53:00-04:00",
          "2024-06-06T11:54:00-04:00",
          "2024-06-06T11:55:00-04:00",
          "2024-06-06T11:56:00-04:00",
          "2024-06-06T11:57:00-04:00",
          "2024-06-06T11:58:00-04:00",
          "2024-06-06T11:59:00-04:00",
          "2024-06-06T12:00:00-04:00",
          "2024-06-06T12:01:00-04:00",
          "2024-06-06T12:02:00-04:00",
          "2024-06-06T12:03:00-04:00",
          "2024-06-06T12:04:00-04:00",
          "2024-06-06T12:05:00-04:00",
          "2024-06-06T12:06:00-04:00",
          "2024-06-06T12:07:00-04:00",
          "2024-06-06T12:08:00-04:00",
          "2024-06-06T12:09:00-04:00",
          "2024-06-06T12:10:00-04:00",
          "2024-06-06T12:11:00-04:00",
          "2024-06-06T12:12:00-04:00",
          "2024-06-06T12:13:00-04:00",
          "2024-06-06T12:14:00-04:00",
          "2024-06-06T12:15:00-04:00",
          "2024-06-06T12:16:00-04:00",
          "2024-06-06T12:17:00-04:00",
          "2024-06-06T12:18:00-04:00",
          "2024-06-06T12:19:00-04:00",
          "2024-06-06T12:20:00-04:00",
          "2024-06-06T12:21:00-04:00",
          "2024-06-06T12:22:00-04:00",
          "2024-06-06T12:23:00-04:00",
          "2024-06-06T12:24:00-04:00",
          "2024-06-06T12:25:00-04:00",
          "2024-06-06T12:26:00-04:00",
          "2024-06-06T12:27:00-04:00",
          "2024-06-06T12:28:00-04:00",
          "2024-06-06T12:29:00-04:00",
          "2024-06-06T12:30:00-04:00",
          "2024-06-06T12:31:00-04:00",
          "2024-06-06T12:32:00-04:00",
          "2024-06-06T12:33:00-04:00",
          "2024-06-06T12:34:00-04:00",
          "2024-06-06T12:35:00-04:00",
          "2024-06-06T12:36:00-04:00",
          "2024-06-06T12:37:00-04:00",
          "2024-06-06T12:38:00-04:00",
          "2024-06-06T12:39:00-04:00",
          "2024-06-06T12:40:00-04:00",
          "2024-06-06T12:41:00-04:00",
          "2024-06-06T12:42:00-04:00",
          "2024-06-06T12:43:00-04:00",
          "2024-06-06T12:44:00-04:00",
          "2024-06-06T12:45:00-04:00",
          "2024-06-06T12:46:00-04:00",
          "2024-06-06T12:47:00-04:00",
          "2024-06-06T12:48:00-04:00",
          "2024-06-06T12:49:00-04:00",
          "2024-06-06T12:50:00-04:00",
          "2024-06-06T12:51:00-04:00",
          "2024-06-06T12:52:00-04:00",
          "2024-06-06T12:53:00-04:00",
          "2024-06-06T12:54:00-04:00",
          "2024-06-06T12:55:00-04:00",
          "2024-06-06T12:56:00-04:00",
          "2024-06-06T12:57:00-04:00",
          "2024-06-06T12:58:00-04:00",
          "2024-06-06T12:59:00-04:00",
          "2024-06-06T13:00:00-04:00",
          "2024-06-06T13:01:00-04:00",
          "2024-06-06T13:02:00-04:00",
          "2024-06-06T13:03:00-04:00",
          "2024-06-06T13:04:00-04:00",
          "2024-06-06T13:05:00-04:00",
          "2024-06-06T13:06:00-04:00",
          "2024-06-06T13:07:00-04:00",
          "2024-06-06T13:08:00-04:00",
          "2024-06-06T13:09:00-04:00",
          "2024-06-06T13:10:00-04:00",
          "2024-06-06T13:11:00-04:00",
          "2024-06-06T13:12:00-04:00",
          "2024-06-06T13:13:00-04:00",
          "2024-06-06T13:14:00-04:00",
          "2024-06-06T13:15:00-04:00",
          "2024-06-06T13:16:00-04:00",
          "2024-06-06T13:17:00-04:00",
          "2024-06-06T13:18:00-04:00",
          "2024-06-06T13:19:00-04:00",
          "2024-06-06T13:20:00-04:00",
          "2024-06-06T13:21:00-04:00",
          "2024-06-06T13:22:00-04:00",
          "2024-06-06T13:23:00-04:00",
          "2024-06-06T13:24:00-04:00",
          "2024-06-06T13:25:00-04:00",
          "2024-06-06T13:26:00-04:00",
          "2024-06-06T13:27:00-04:00",
          "2024-06-06T13:28:00-04:00",
          "2024-06-06T13:29:00-04:00",
          "2024-06-06T13:30:00-04:00",
          "2024-06-06T13:31:00-04:00",
          "2024-06-06T13:32:00-04:00",
          "2024-06-06T13:33:00-04:00",
          "2024-06-06T13:34:00-04:00",
          "2024-06-06T13:35:00-04:00",
          "2024-06-06T13:36:00-04:00",
          "2024-06-06T13:37:00-04:00",
          "2024-06-06T13:38:00-04:00",
          "2024-06-06T13:39:00-04:00",
          "2024-06-06T13:40:00-04:00",
          "2024-06-06T13:41:00-04:00",
          "2024-06-06T13:42:00-04:00",
          "2024-06-06T13:43:00-04:00",
          "2024-06-06T13:44:00-04:00",
          "2024-06-06T13:45:00-04:00",
          "2024-06-06T13:46:00-04:00",
          "2024-06-06T13:47:00-04:00",
          "2024-06-06T13:48:00-04:00",
          "2024-06-06T13:49:00-04:00",
          "2024-06-06T13:50:00-04:00",
          "2024-06-06T13:51:00-04:00",
          "2024-06-06T13:52:00-04:00",
          "2024-06-06T13:53:00-04:00",
          "2024-06-06T13:54:00-04:00",
          "2024-06-06T13:55:00-04:00",
          "2024-06-06T13:56:00-04:00",
          "2024-06-06T13:57:00-04:00",
          "2024-06-06T13:58:00-04:00",
          "2024-06-06T13:59:00-04:00",
          "2024-06-06T14:00:00-04:00",
          "2024-06-06T14:01:00-04:00",
          "2024-06-06T14:02:00-04:00",
          "2024-06-06T14:03:00-04:00",
          "2024-06-06T14:04:00-04:00",
          "2024-06-06T14:05:00-04:00",
          "2024-06-06T14:06:00-04:00",
          "2024-06-06T14:07:00-04:00",
          "2024-06-06T14:08:00-04:00",
          "2024-06-06T14:09:00-04:00",
          "2024-06-06T14:10:00-04:00",
          "2024-06-06T14:11:00-04:00",
          "2024-06-06T14:12:00-04:00",
          "2024-06-06T14:13:00-04:00",
          "2024-06-06T14:14:00-04:00",
          "2024-06-06T14:15:00-04:00",
          "2024-06-06T14:16:00-04:00",
          "2024-06-06T14:17:00-04:00",
          "2024-06-06T14:18:00-04:00",
          "2024-06-06T14:19:00-04:00",
          "2024-06-06T14:20:00-04:00",
          "2024-06-06T14:21:00-04:00",
          "2024-06-06T14:22:00-04:00",
          "2024-06-06T14:23:00-04:00",
          "2024-06-06T14:24:00-04:00",
          "2024-06-06T14:25:00-04:00",
          "2024-06-06T14:26:00-04:00",
          "2024-06-06T14:27:00-04:00",
          "2024-06-06T14:28:00-04:00",
          "2024-06-06T14:29:00-04:00",
          "2024-06-06T14:30:00-04:00",
          "2024-06-06T14:31:00-04:00",
          "2024-06-06T14:32:00-04:00",
          "2024-06-06T14:33:00-04:00",
          "2024-06-06T14:34:00-04:00",
          "2024-06-06T14:35:00-04:00",
          "2024-06-06T14:36:00-04:00",
          "2024-06-06T14:37:00-04:00",
          "2024-06-06T14:38:00-04:00",
          "2024-06-06T14:39:00-04:00",
          "2024-06-06T14:40:00-04:00",
          "2024-06-06T14:41:00-04:00",
          "2024-06-06T14:42:00-04:00",
          "2024-06-06T14:43:00-04:00",
          "2024-06-06T14:44:00-04:00",
          "2024-06-06T14:45:00-04:00",
          "2024-06-06T14:46:00-04:00",
          "2024-06-06T14:47:00-04:00",
          "2024-06-06T14:48:00-04:00",
          "2024-06-06T14:49:00-04:00",
          "2024-06-06T14:50:00-04:00",
          "2024-06-06T14:51:00-04:00",
          "2024-06-06T14:52:00-04:00",
          "2024-06-06T14:53:00-04:00",
          "2024-06-06T14:54:00-04:00",
          "2024-06-06T14:55:00-04:00",
          "2024-06-06T14:56:00-04:00",
          "2024-06-06T14:57:00-04:00",
          "2024-06-06T14:58:00-04:00",
          "2024-06-06T14:59:00-04:00",
          "2024-06-06T15:00:00-04:00",
          "2024-06-06T15:01:00-04:00",
          "2024-06-06T15:02:00-04:00",
          "2024-06-06T15:03:00-04:00",
          "2024-06-06T15:04:00-04:00",
          "2024-06-06T15:05:00-04:00",
          "2024-06-06T15:06:00-04:00",
          "2024-06-06T15:07:00-04:00",
          "2024-06-06T15:08:00-04:00",
          "2024-06-06T15:09:00-04:00",
          "2024-06-06T15:10:00-04:00",
          "2024-06-06T15:11:00-04:00",
          "2024-06-06T15:12:00-04:00",
          "2024-06-06T15:13:00-04:00",
          "2024-06-06T15:14:00-04:00",
          "2024-06-06T15:15:00-04:00",
          "2024-06-06T15:16:00-04:00",
          "2024-06-06T15:17:00-04:00",
          "2024-06-06T15:18:00-04:00",
          "2024-06-06T15:19:00-04:00",
          "2024-06-06T15:20:00-04:00",
          "2024-06-06T15:21:00-04:00",
          "2024-06-06T15:22:00-04:00",
          "2024-06-06T15:23:00-04:00",
          "2024-06-06T15:24:00-04:00",
          "2024-06-06T15:25:00-04:00",
          "2024-06-06T15:26:00-04:00",
          "2024-06-06T15:27:00-04:00",
          "2024-06-06T15:28:00-04:00",
          "2024-06-06T15:29:00-04:00",
          "2024-06-06T15:30:00-04:00",
          "2024-06-06T15:31:00-04:00",
          "2024-06-06T15:32:00-04:00",
          "2024-06-06T15:33:00-04:00",
          "2024-06-06T15:34:00-04:00",
          "2024-06-06T15:35:00-04:00",
          "2024-06-06T15:36:00-04:00",
          "2024-06-06T15:37:00-04:00",
          "2024-06-06T15:38:00-04:00",
          "2024-06-06T15:39:00-04:00",
          "2024-06-06T15:40:00-04:00",
          "2024-06-06T15:41:00-04:00",
          "2024-06-06T15:42:00-04:00",
          "2024-06-06T15:43:00-04:00",
          "2024-06-06T15:44:00-04:00",
          "2024-06-06T15:45:00-04:00",
          "2024-06-06T15:46:00-04:00",
          "2024-06-06T15:47:00-04:00",
          "2024-06-06T15:48:00-04:00",
          "2024-06-06T15:49:00-04:00",
          "2024-06-06T15:50:00-04:00",
          "2024-06-06T15:51:00-04:00",
          "2024-06-06T15:52:00-04:00",
          "2024-06-06T15:53:00-04:00",
          "2024-06-06T15:54:00-04:00",
          "2024-06-06T15:55:00-04:00",
          "2024-06-06T15:56:00-04:00",
          "2024-06-06T15:57:00-04:00",
          "2024-06-06T15:58:00-04:00",
          "2024-06-06T15:59:00-04:00"
         ],
         "xaxis": "x",
         "y": [
          196.1300048828125,
          196.1300048828125,
          196.21666463216147,
          196.1515998840332,
          196.05148583984376,
          195.96849926607112,
          195.84663100681516,
          195.8020297922194,
          195.76313641566108,
          195.73698194242195,
          195.71647229135343,
          195.6504238436351,
          195.64369120757755,
          195.6467882312099,
          195.62431233010307,
          195.60637155344125,
          195.58667974430963,
          195.54596515249625,
          195.55715250747335,
          195.5883045416318,
          195.61164314955982,
          195.63618359493185,
          195.59939047529565,
          195.6413354237772,
          195.65209801286147,
          195.67149900582845,
          195.68963549865026,
          195.69651711194123,
          195.72483257292185,
          195.75857553901596,
          195.84761481957537,
          195.89451531154558,
          195.93842714021267,
          195.92229846188485,
          195.94485254110327,
          195.95852831609798,
          195.947702612208,
          195.9235397003308,
          195.909155753397,
          195.8815994590207,
          195.864631091511,
          195.8797144949819,
          195.9048501390812,
          195.90679125722718,
          195.90207196383147,
          195.96417088854378,
          196.0016958756358,
          196.02805389500176,
          196.06817674794212,
          196.10230236920222,
          196.113093174593,
          196.14550674940716,
          196.18063083661627,
          196.24131566308023,
          196.27322919545108,
          196.2756563651716,
          196.25575838545583,
          196.20613234082555,
          196.1684646349793,
          196.14730348811145,
          196.10305091680272,
          196.0677703126251,
          196.04696088158812,
          196.0047326784793,
          195.98613975204873,
          195.92346114722625,
          195.86351177462643,
          195.83062081263773,
          195.80358448227557,
          195.80207444977242,
          195.804265713802,
          195.79148673187066,
          195.79933260167513,
          195.79991631519448,
          195.78462882976677,
          195.7694857281317,
          195.75215292400702,
          195.7662567660909,
          195.75699410847045,
          195.72744711886986,
          195.6886176301274,
          195.6494056573433,
          195.64950499767195,
          195.656124721618,
          195.64190578654743,
          195.65812229446834,
          195.68004132264798,
          195.7151285099758,
          195.73145293742368,
          195.72305659888258,
          195.70996041859087,
          195.70124443583077,
          195.68958913416196,
          195.7104321670676,
          195.72306403472447,
          195.71560263104988,
          195.7230580312634,
          195.73820237050907,
          195.74444780100796,
          195.7172168895764,
          195.70475207846948,
          195.7045992212131,
          195.68292045131076,
          195.68132175585686,
          195.69381238448494,
          195.71284413710418,
          195.7253598480449,
          195.74169223944077,
          195.74699238450802,
          195.73100821612934,
          195.70942173292366,
          195.71682387320118,
          195.72462040008418,
          195.71919449892246,
          195.71917583212723,
          195.73921884131437,
          195.75982545821444,
          195.7737016231548,
          195.77688222843358,
          195.76725476633777,
          195.7689218221105,
          195.75746468785175,
          195.76640659796556,
          195.7654289644064,
          195.7545454449354,
          195.761517711286,
          195.754768917017,
          195.7544063487974,
          195.74930453289852,
          195.7360422297615,
          195.7369433046888,
          195.7278011634846,
          195.69793766718712,
          195.68777575621283,
          195.6663901455513,
          195.66601278243186,
          195.65910444529476,
          195.6492381357584,
          195.64081173358682,
          195.64999941262,
          195.63441548572337,
          195.62075903681497,
          195.59102101789978,
          195.5591311313418,
          195.53656894975524,
          195.51746336309202,
          195.50825553503836,
          195.5047736406986,
          195.51816208194217,
          195.51517663475846,
          195.51947749598256,
          195.5004225455074,
          195.48589456403636,
          195.48148780066202,
          195.47182979006507,
          195.47731872349084,
          195.48253939531946,
          195.4916353383473,
          195.50831203874165,
          195.5283336817726,
          195.52245901623456,
          195.5395607650974,
          195.5501864433516,
          195.57382606833465,
          195.58657258612604,
          195.58603458144867,
          195.58029969642587,
          195.59967814045538,
          195.61064583509156,
          195.63030687286832,
          195.65457708253368,
          195.66966463691338,
          195.68259468853552,
          195.702348011744,
          195.70708442134048,
          195.69554869785262,
          195.68859395881836,
          195.68130487700097,
          195.69225511490654,
          195.69046642766605,
          195.69001219167086,
          195.69905629902223,
          195.69583209181206,
          195.68339266346612,
          195.6784247527634,
          195.67234514480342,
          195.67053767452404,
          195.67161178411442,
          195.67386270679697,
          195.66738346103725,
          195.67213046132485,
          195.66358212167688,
          195.66995438465807,
          195.6739552331723,
          195.66507304814903,
          195.65852289081528,
          195.6658669972464,
          195.6688123800401,
          195.6605298304283,
          195.6682393725088,
          195.6649497533702,
          195.6609153881281,
          195.66342652047499,
          195.68073647003655,
          195.6804832168048,
          195.6814124686504,
          195.68926966966538,
          195.6993849988898,
          195.7023608775761,
          195.72430554574947,
          195.76614594294796,
          195.78881539660068,
          195.80811545271385,
          195.83398649316743,
          195.85385478678174,
          195.86941587051604,
          195.8874852052954,
          195.91143312133096,
          195.93175522487013,
          195.9548516816741,
          195.98296193294502,
          195.99549882475878,
          195.9763219483794,
          195.9525060564962,
          195.94444621798417,
          195.92760937119695,
          195.90326664654856,
          195.89034986812834,
          195.86808338513413,
          195.86076262777817,
          195.82855701852128,
          195.78281626244853,
          195.73189386365124,
          195.69563490840403,
          195.65641235097428,
          195.63956304968133,
          195.62920389997066,
          195.61681903136147,
          195.61777824196275,
          195.61409056994557,
          195.6199808309464,
          195.60872560941144,
          195.60504699903333,
          195.621290141819,
          195.6271482261618,
          195.62033764008817,
          195.61782170748089,
          195.62421208334956,
          195.62203791411886,
          195.6148008424455,
          195.612331100527,
          195.62137602594316,
          195.62797056780258,
          195.64481168786116,
          195.64514499120338,
          195.6347031010001,
          195.62772507607963,
          195.6196108369029,
          195.61476769301942,
          195.61470849127574,
          195.6113852613992,
          195.61011518907762,
          195.61387815661024,
          195.6123938101439,
          195.601161829113,
          195.59722365855822,
          195.58829882583538,
          195.57108512267106,
          195.55649501583972,
          195.53975006321556,
          195.534504712211,
          195.53679328575996,
          195.53007145619114,
          195.52785051857873,
          195.51760223541822,
          195.50219901469663,
          195.51132357343022,
          195.4752561803754,
          195.4320814893521,
          195.3886833981417,
          195.32644598259373,
          195.2911650956586,
          195.26633688092016,
          195.2336288875814,
          195.23451411744352,
          195.2384685952066,
          195.24327020717857,
          195.25723991834545,
          195.25205398359367,
          195.25634212142387,
          195.2680729400151,
          195.2591263934357,
          195.2979238300447,
          195.3293831138394,
          195.36333450647447,
          195.40984058733665,
          195.431468504824,
          195.43791512976065,
          195.4522185438051,
          195.46610947879452,
          195.48557666224852,
          195.4850117465107,
          195.46077471922283,
          195.46633324947007,
          195.47725097232708,
          195.4751743632212,
          195.45455903933046,
          195.4361741397053,
          195.42419456202228,
          195.4084148758701,
          195.38542751166278,
          195.36414182572096,
          195.3367544322922,
          195.31416836092586,
          195.31239486312128,
          195.30079966619195,
          195.29700085144515,
          195.2794714470008,
          195.2791676660783,
          195.27695105432002,
          195.26870049123832,
          195.2662017790645,
          195.26630386318976,
          195.28400421630806,
          195.3011888300159,
          195.30939782509864,
          195.31966735980163,
          195.32702753024515,
          195.32335048552295,
          195.31389047899117,
          195.30454408938976,
          195.29240297052806,
          195.29059263930634,
          195.27790317049562,
          195.28140543310286,
          195.2766849876606,
          195.26588151330483,
          195.27098861776545,
          195.27780047221248,
          195.27256162906585,
          195.270147658293,
          195.26236533342808,
          195.24988418962968,
          195.23259598229274,
          195.2064252321404,
          195.18457209333846,
          195.17886524226805,
          195.18558098281244,
          195.19693799791176,
          195.22320937023568,
          195.23603421282925,
          195.2415640083723,
          195.23404103426864,
          195.22684979698235,
          195.225795585143,
          195.22451693396488,
          195.2311278575637,
          195.24586738475074,
          195.24958502707452,
          195.25705457914424,
          195.29009327336868,
          195.3185456760674,
          195.3205909535786,
          195.32059016430273,
          195.3299243904678,
          195.323960425983,
          195.29485762834815,
          195.27464146234684,
          195.2471915078411,
          195.24147077030665,
          195.2310579617058,
          195.21928962412622,
          195.19880641512472,
          195.16244628602487,
          195.1379374645722,
          195.1105568804354,
          195.08435576207276,
          195.05858056916261,
          195.05696960900417,
          195.06426480374958,
          195.07688638320474,
          195.03197250719077,
          194.94993046027724,
          194.8640742857544,
          194.79785254879334,
          194.71943106791605,
          194.6586534013089,
          194.58866492509642,
          194.55743350266206,
          194.53418212948998
         ],
         "yaxis": "y"
        }
       ],
       "layout": {
        "legend": {
         "title": {
          "text": "variable"
         },
         "tracegroupgap": 0
        },
        "template": {
         "data": {
          "bar": [
           {
            "error_x": {
             "color": "#2a3f5f"
            },
            "error_y": {
             "color": "#2a3f5f"
            },
            "marker": {
             "line": {
              "color": "#E5ECF6",
              "width": 0.5
             },
             "pattern": {
              "fillmode": "overlay",
              "size": 10,
              "solidity": 0.2
             }
            },
            "type": "bar"
           }
          ],
          "barpolar": [
           {
            "marker": {
             "line": {
              "color": "#E5ECF6",
              "width": 0.5
             },
             "pattern": {
              "fillmode": "overlay",
              "size": 10,
              "solidity": 0.2
             }
            },
            "type": "barpolar"
           }
          ],
          "carpet": [
           {
            "aaxis": {
             "endlinecolor": "#2a3f5f",
             "gridcolor": "white",
             "linecolor": "white",
             "minorgridcolor": "white",
             "startlinecolor": "#2a3f5f"
            },
            "baxis": {
             "endlinecolor": "#2a3f5f",
             "gridcolor": "white",
             "linecolor": "white",
             "minorgridcolor": "white",
             "startlinecolor": "#2a3f5f"
            },
            "type": "carpet"
           }
          ],
          "choropleth": [
           {
            "colorbar": {
             "outlinewidth": 0,
             "ticks": ""
            },
            "type": "choropleth"
           }
          ],
          "contour": [
           {
            "colorbar": {
             "outlinewidth": 0,
             "ticks": ""
            },
            "colorscale": [
             [
              0,
              "#0d0887"
             ],
             [
              0.1111111111111111,
              "#46039f"
             ],
             [
              0.2222222222222222,
              "#7201a8"
             ],
             [
              0.3333333333333333,
              "#9c179e"
             ],
             [
              0.4444444444444444,
              "#bd3786"
             ],
             [
              0.5555555555555556,
              "#d8576b"
             ],
             [
              0.6666666666666666,
              "#ed7953"
             ],
             [
              0.7777777777777778,
              "#fb9f3a"
             ],
             [
              0.8888888888888888,
              "#fdca26"
             ],
             [
              1,
              "#f0f921"
             ]
            ],
            "type": "contour"
           }
          ],
          "contourcarpet": [
           {
            "colorbar": {
             "outlinewidth": 0,
             "ticks": ""
            },
            "type": "contourcarpet"
           }
          ],
          "heatmap": [
           {
            "colorbar": {
             "outlinewidth": 0,
             "ticks": ""
            },
            "colorscale": [
             [
              0,
              "#0d0887"
             ],
             [
              0.1111111111111111,
              "#46039f"
             ],
             [
              0.2222222222222222,
              "#7201a8"
             ],
             [
              0.3333333333333333,
              "#9c179e"
             ],
             [
              0.4444444444444444,
              "#bd3786"
             ],
             [
              0.5555555555555556,
              "#d8576b"
             ],
             [
              0.6666666666666666,
              "#ed7953"
             ],
             [
              0.7777777777777778,
              "#fb9f3a"
             ],
             [
              0.8888888888888888,
              "#fdca26"
             ],
             [
              1,
              "#f0f921"
             ]
            ],
            "type": "heatmap"
           }
          ],
          "heatmapgl": [
           {
            "colorbar": {
             "outlinewidth": 0,
             "ticks": ""
            },
            "colorscale": [
             [
              0,
              "#0d0887"
             ],
             [
              0.1111111111111111,
              "#46039f"
             ],
             [
              0.2222222222222222,
              "#7201a8"
             ],
             [
              0.3333333333333333,
              "#9c179e"
             ],
             [
              0.4444444444444444,
              "#bd3786"
             ],
             [
              0.5555555555555556,
              "#d8576b"
             ],
             [
              0.6666666666666666,
              "#ed7953"
             ],
             [
              0.7777777777777778,
              "#fb9f3a"
             ],
             [
              0.8888888888888888,
              "#fdca26"
             ],
             [
              1,
              "#f0f921"
             ]
            ],
            "type": "heatmapgl"
           }
          ],
          "histogram": [
           {
            "marker": {
             "pattern": {
              "fillmode": "overlay",
              "size": 10,
              "solidity": 0.2
             }
            },
            "type": "histogram"
           }
          ],
          "histogram2d": [
           {
            "colorbar": {
             "outlinewidth": 0,
             "ticks": ""
            },
            "colorscale": [
             [
              0,
              "#0d0887"
             ],
             [
              0.1111111111111111,
              "#46039f"
             ],
             [
              0.2222222222222222,
              "#7201a8"
             ],
             [
              0.3333333333333333,
              "#9c179e"
             ],
             [
              0.4444444444444444,
              "#bd3786"
             ],
             [
              0.5555555555555556,
              "#d8576b"
             ],
             [
              0.6666666666666666,
              "#ed7953"
             ],
             [
              0.7777777777777778,
              "#fb9f3a"
             ],
             [
              0.8888888888888888,
              "#fdca26"
             ],
             [
              1,
              "#f0f921"
             ]
            ],
            "type": "histogram2d"
           }
          ],
          "histogram2dcontour": [
           {
            "colorbar": {
             "outlinewidth": 0,
             "ticks": ""
            },
            "colorscale": [
             [
              0,
              "#0d0887"
             ],
             [
              0.1111111111111111,
              "#46039f"
             ],
             [
              0.2222222222222222,
              "#7201a8"
             ],
             [
              0.3333333333333333,
              "#9c179e"
             ],
             [
              0.4444444444444444,
              "#bd3786"
             ],
             [
              0.5555555555555556,
              "#d8576b"
             ],
             [
              0.6666666666666666,
              "#ed7953"
             ],
             [
              0.7777777777777778,
              "#fb9f3a"
             ],
             [
              0.8888888888888888,
              "#fdca26"
             ],
             [
              1,
              "#f0f921"
             ]
            ],
            "type": "histogram2dcontour"
           }
          ],
          "mesh3d": [
           {
            "colorbar": {
             "outlinewidth": 0,
             "ticks": ""
            },
            "type": "mesh3d"
           }
          ],
          "parcoords": [
           {
            "line": {
             "colorbar": {
              "outlinewidth": 0,
              "ticks": ""
             }
            },
            "type": "parcoords"
           }
          ],
          "pie": [
           {
            "automargin": true,
            "type": "pie"
           }
          ],
          "scatter": [
           {
            "fillpattern": {
             "fillmode": "overlay",
             "size": 10,
             "solidity": 0.2
            },
            "type": "scatter"
           }
          ],
          "scatter3d": [
           {
            "line": {
             "colorbar": {
              "outlinewidth": 0,
              "ticks": ""
             }
            },
            "marker": {
             "colorbar": {
              "outlinewidth": 0,
              "ticks": ""
             }
            },
            "type": "scatter3d"
           }
          ],
          "scattercarpet": [
           {
            "marker": {
             "colorbar": {
              "outlinewidth": 0,
              "ticks": ""
             }
            },
            "type": "scattercarpet"
           }
          ],
          "scattergeo": [
           {
            "marker": {
             "colorbar": {
              "outlinewidth": 0,
              "ticks": ""
             }
            },
            "type": "scattergeo"
           }
          ],
          "scattergl": [
           {
            "marker": {
             "colorbar": {
              "outlinewidth": 0,
              "ticks": ""
             }
            },
            "type": "scattergl"
           }
          ],
          "scattermapbox": [
           {
            "marker": {
             "colorbar": {
              "outlinewidth": 0,
              "ticks": ""
             }
            },
            "type": "scattermapbox"
           }
          ],
          "scatterpolar": [
           {
            "marker": {
             "colorbar": {
              "outlinewidth": 0,
              "ticks": ""
             }
            },
            "type": "scatterpolar"
           }
          ],
          "scatterpolargl": [
           {
            "marker": {
             "colorbar": {
              "outlinewidth": 0,
              "ticks": ""
             }
            },
            "type": "scatterpolargl"
           }
          ],
          "scatterternary": [
           {
            "marker": {
             "colorbar": {
              "outlinewidth": 0,
              "ticks": ""
             }
            },
            "type": "scatterternary"
           }
          ],
          "surface": [
           {
            "colorbar": {
             "outlinewidth": 0,
             "ticks": ""
            },
            "colorscale": [
             [
              0,
              "#0d0887"
             ],
             [
              0.1111111111111111,
              "#46039f"
             ],
             [
              0.2222222222222222,
              "#7201a8"
             ],
             [
              0.3333333333333333,
              "#9c179e"
             ],
             [
              0.4444444444444444,
              "#bd3786"
             ],
             [
              0.5555555555555556,
              "#d8576b"
             ],
             [
              0.6666666666666666,
              "#ed7953"
             ],
             [
              0.7777777777777778,
              "#fb9f3a"
             ],
             [
              0.8888888888888888,
              "#fdca26"
             ],
             [
              1,
              "#f0f921"
             ]
            ],
            "type": "surface"
           }
          ],
          "table": [
           {
            "cells": {
             "fill": {
              "color": "#EBF0F8"
             },
             "line": {
              "color": "white"
             }
            },
            "header": {
             "fill": {
              "color": "#C8D4E3"
             },
             "line": {
              "color": "white"
             }
            },
            "type": "table"
           }
          ]
         },
         "layout": {
          "annotationdefaults": {
           "arrowcolor": "#2a3f5f",
           "arrowhead": 0,
           "arrowwidth": 1
          },
          "autotypenumbers": "strict",
          "coloraxis": {
           "colorbar": {
            "outlinewidth": 0,
            "ticks": ""
           }
          },
          "colorscale": {
           "diverging": [
            [
             0,
             "#8e0152"
            ],
            [
             0.1,
             "#c51b7d"
            ],
            [
             0.2,
             "#de77ae"
            ],
            [
             0.3,
             "#f1b6da"
            ],
            [
             0.4,
             "#fde0ef"
            ],
            [
             0.5,
             "#f7f7f7"
            ],
            [
             0.6,
             "#e6f5d0"
            ],
            [
             0.7,
             "#b8e186"
            ],
            [
             0.8,
             "#7fbc41"
            ],
            [
             0.9,
             "#4d9221"
            ],
            [
             1,
             "#276419"
            ]
           ],
           "sequential": [
            [
             0,
             "#0d0887"
            ],
            [
             0.1111111111111111,
             "#46039f"
            ],
            [
             0.2222222222222222,
             "#7201a8"
            ],
            [
             0.3333333333333333,
             "#9c179e"
            ],
            [
             0.4444444444444444,
             "#bd3786"
            ],
            [
             0.5555555555555556,
             "#d8576b"
            ],
            [
             0.6666666666666666,
             "#ed7953"
            ],
            [
             0.7777777777777778,
             "#fb9f3a"
            ],
            [
             0.8888888888888888,
             "#fdca26"
            ],
            [
             1,
             "#f0f921"
            ]
           ],
           "sequentialminus": [
            [
             0,
             "#0d0887"
            ],
            [
             0.1111111111111111,
             "#46039f"
            ],
            [
             0.2222222222222222,
             "#7201a8"
            ],
            [
             0.3333333333333333,
             "#9c179e"
            ],
            [
             0.4444444444444444,
             "#bd3786"
            ],
            [
             0.5555555555555556,
             "#d8576b"
            ],
            [
             0.6666666666666666,
             "#ed7953"
            ],
            [
             0.7777777777777778,
             "#fb9f3a"
            ],
            [
             0.8888888888888888,
             "#fdca26"
            ],
            [
             1,
             "#f0f921"
            ]
           ]
          },
          "colorway": [
           "#636efa",
           "#EF553B",
           "#00cc96",
           "#ab63fa",
           "#FFA15A",
           "#19d3f3",
           "#FF6692",
           "#B6E880",
           "#FF97FF",
           "#FECB52"
          ],
          "font": {
           "color": "#2a3f5f"
          },
          "geo": {
           "bgcolor": "white",
           "lakecolor": "white",
           "landcolor": "#E5ECF6",
           "showlakes": true,
           "showland": true,
           "subunitcolor": "white"
          },
          "hoverlabel": {
           "align": "left"
          },
          "hovermode": "closest",
          "mapbox": {
           "style": "light"
          },
          "paper_bgcolor": "white",
          "plot_bgcolor": "#E5ECF6",
          "polar": {
           "angularaxis": {
            "gridcolor": "white",
            "linecolor": "white",
            "ticks": ""
           },
           "bgcolor": "#E5ECF6",
           "radialaxis": {
            "gridcolor": "white",
            "linecolor": "white",
            "ticks": ""
           }
          },
          "scene": {
           "xaxis": {
            "backgroundcolor": "#E5ECF6",
            "gridcolor": "white",
            "gridwidth": 2,
            "linecolor": "white",
            "showbackground": true,
            "ticks": "",
            "zerolinecolor": "white"
           },
           "yaxis": {
            "backgroundcolor": "#E5ECF6",
            "gridcolor": "white",
            "gridwidth": 2,
            "linecolor": "white",
            "showbackground": true,
            "ticks": "",
            "zerolinecolor": "white"
           },
           "zaxis": {
            "backgroundcolor": "#E5ECF6",
            "gridcolor": "white",
            "gridwidth": 2,
            "linecolor": "white",
            "showbackground": true,
            "ticks": "",
            "zerolinecolor": "white"
           }
          },
          "shapedefaults": {
           "line": {
            "color": "#2a3f5f"
           }
          },
          "ternary": {
           "aaxis": {
            "gridcolor": "white",
            "linecolor": "white",
            "ticks": ""
           },
           "baxis": {
            "gridcolor": "white",
            "linecolor": "white",
            "ticks": ""
           },
           "bgcolor": "#E5ECF6",
           "caxis": {
            "gridcolor": "white",
            "linecolor": "white",
            "ticks": ""
           }
          },
          "title": {
           "x": 0.05
          },
          "xaxis": {
           "automargin": true,
           "gridcolor": "white",
           "linecolor": "white",
           "ticks": "",
           "title": {
            "standoff": 15
           },
           "zerolinecolor": "white",
           "zerolinewidth": 2
          },
          "yaxis": {
           "automargin": true,
           "gridcolor": "white",
           "linecolor": "white",
           "ticks": "",
           "title": {
            "standoff": 15
           },
           "zerolinecolor": "white",
           "zerolinewidth": 2
          }
         }
        },
        "title": {
         "text": "AAPL Exponential Moving Averages"
        },
        "xaxis": {
         "anchor": "y",
         "domain": [
          0,
          1
         ],
         "title": {
          "text": "Datetime"
         }
        },
        "yaxis": {
         "anchor": "x",
         "domain": [
          0,
          1
         ],
         "title": {
          "text": "value"
         }
        }
       }
      },
      "text/html": [
       "<div>                            <div id=\"8cf6beed-76d8-49f3-b9cf-561784ca15bb\" class=\"plotly-graph-div\" style=\"height:525px; width:100%;\"></div>            <script type=\"text/javascript\">                require([\"plotly\"], function(Plotly) {                    window.PLOTLYENV=window.PLOTLYENV || {};                                    if (document.getElementById(\"8cf6beed-76d8-49f3-b9cf-561784ca15bb\")) {                    Plotly.newPlot(                        \"8cf6beed-76d8-49f3-b9cf-561784ca15bb\",                        [{\"hovertemplate\":\"variable=EMA_24<br>Datetime=%{x}<br>value=%{y}<extra></extra>\",\"legendgroup\":\"EMA_24\",\"line\":{\"color\":\"#38b9ff\",\"dash\":\"solid\"},\"marker\":{\"symbol\":\"circle\"},\"mode\":\"lines\",\"name\":\"EMA_24\",\"orientation\":\"v\",\"showlegend\":true,\"x\":[\"2024-06-06T09:30:00-04:00\",\"2024-06-06T09:31:00-04:00\",\"2024-06-06T09:32:00-04:00\",\"2024-06-06T09:33:00-04:00\",\"2024-06-06T09:34:00-04:00\",\"2024-06-06T09:35:00-04:00\",\"2024-06-06T09:36:00-04:00\",\"2024-06-06T09:37:00-04:00\",\"2024-06-06T09:38:00-04:00\",\"2024-06-06T09:39:00-04:00\",\"2024-06-06T09:40:00-04:00\",\"2024-06-06T09:41:00-04:00\",\"2024-06-06T09:42:00-04:00\",\"2024-06-06T09:43:00-04:00\",\"2024-06-06T09:44:00-04:00\",\"2024-06-06T09:45:00-04:00\",\"2024-06-06T09:46:00-04:00\",\"2024-06-06T09:47:00-04:00\",\"2024-06-06T09:48:00-04:00\",\"2024-06-06T09:49:00-04:00\",\"2024-06-06T09:50:00-04:00\",\"2024-06-06T09:51:00-04:00\",\"2024-06-06T09:52:00-04:00\",\"2024-06-06T09:53:00-04:00\",\"2024-06-06T09:54:00-04:00\",\"2024-06-06T09:55:00-04:00\",\"2024-06-06T09:56:00-04:00\",\"2024-06-06T09:57:00-04:00\",\"2024-06-06T09:58:00-04:00\",\"2024-06-06T09:59:00-04:00\",\"2024-06-06T10:00:00-04:00\",\"2024-06-06T10:01:00-04:00\",\"2024-06-06T10:02:00-04:00\",\"2024-06-06T10:03:00-04:00\",\"2024-06-06T10:04:00-04:00\",\"2024-06-06T10:05:00-04:00\",\"2024-06-06T10:06:00-04:00\",\"2024-06-06T10:07:00-04:00\",\"2024-06-06T10:08:00-04:00\",\"2024-06-06T10:09:00-04:00\",\"2024-06-06T10:10:00-04:00\",\"2024-06-06T10:11:00-04:00\",\"2024-06-06T10:12:00-04:00\",\"2024-06-06T10:13:00-04:00\",\"2024-06-06T10:14:00-04:00\",\"2024-06-06T10:15:00-04:00\",\"2024-06-06T10:16:00-04:00\",\"2024-06-06T10:17:00-04:00\",\"2024-06-06T10:18:00-04:00\",\"2024-06-06T10:19:00-04:00\",\"2024-06-06T10:20:00-04:00\",\"2024-06-06T10:21:00-04:00\",\"2024-06-06T10:22:00-04:00\",\"2024-06-06T10:23:00-04:00\",\"2024-06-06T10:24:00-04:00\",\"2024-06-06T10:25:00-04:00\",\"2024-06-06T10:26:00-04:00\",\"2024-06-06T10:27:00-04:00\",\"2024-06-06T10:28:00-04:00\",\"2024-06-06T10:29:00-04:00\",\"2024-06-06T10:30:00-04:00\",\"2024-06-06T10:31:00-04:00\",\"2024-06-06T10:32:00-04:00\",\"2024-06-06T10:33:00-04:00\",\"2024-06-06T10:34:00-04:00\",\"2024-06-06T10:35:00-04:00\",\"2024-06-06T10:36:00-04:00\",\"2024-06-06T10:37:00-04:00\",\"2024-06-06T10:38:00-04:00\",\"2024-06-06T10:39:00-04:00\",\"2024-06-06T10:40:00-04:00\",\"2024-06-06T10:41:00-04:00\",\"2024-06-06T10:42:00-04:00\",\"2024-06-06T10:43:00-04:00\",\"2024-06-06T10:44:00-04:00\",\"2024-06-06T10:45:00-04:00\",\"2024-06-06T10:46:00-04:00\",\"2024-06-06T10:47:00-04:00\",\"2024-06-06T10:48:00-04:00\",\"2024-06-06T10:49:00-04:00\",\"2024-06-06T10:50:00-04:00\",\"2024-06-06T10:51:00-04:00\",\"2024-06-06T10:52:00-04:00\",\"2024-06-06T10:53:00-04:00\",\"2024-06-06T10:54:00-04:00\",\"2024-06-06T10:55:00-04:00\",\"2024-06-06T10:56:00-04:00\",\"2024-06-06T10:57:00-04:00\",\"2024-06-06T10:58:00-04:00\",\"2024-06-06T10:59:00-04:00\",\"2024-06-06T11:00:00-04:00\",\"2024-06-06T11:01:00-04:00\",\"2024-06-06T11:02:00-04:00\",\"2024-06-06T11:03:00-04:00\",\"2024-06-06T11:04:00-04:00\",\"2024-06-06T11:05:00-04:00\",\"2024-06-06T11:06:00-04:00\",\"2024-06-06T11:07:00-04:00\",\"2024-06-06T11:08:00-04:00\",\"2024-06-06T11:09:00-04:00\",\"2024-06-06T11:10:00-04:00\",\"2024-06-06T11:11:00-04:00\",\"2024-06-06T11:12:00-04:00\",\"2024-06-06T11:13:00-04:00\",\"2024-06-06T11:14:00-04:00\",\"2024-06-06T11:15:00-04:00\",\"2024-06-06T11:16:00-04:00\",\"2024-06-06T11:17:00-04:00\",\"2024-06-06T11:18:00-04:00\",\"2024-06-06T11:19:00-04:00\",\"2024-06-06T11:20:00-04:00\",\"2024-06-06T11:21:00-04:00\",\"2024-06-06T11:22:00-04:00\",\"2024-06-06T11:23:00-04:00\",\"2024-06-06T11:24:00-04:00\",\"2024-06-06T11:25:00-04:00\",\"2024-06-06T11:26:00-04:00\",\"2024-06-06T11:27:00-04:00\",\"2024-06-06T11:28:00-04:00\",\"2024-06-06T11:29:00-04:00\",\"2024-06-06T11:30:00-04:00\",\"2024-06-06T11:31:00-04:00\",\"2024-06-06T11:32:00-04:00\",\"2024-06-06T11:33:00-04:00\",\"2024-06-06T11:34:00-04:00\",\"2024-06-06T11:35:00-04:00\",\"2024-06-06T11:36:00-04:00\",\"2024-06-06T11:37:00-04:00\",\"2024-06-06T11:38:00-04:00\",\"2024-06-06T11:39:00-04:00\",\"2024-06-06T11:40:00-04:00\",\"2024-06-06T11:41:00-04:00\",\"2024-06-06T11:42:00-04:00\",\"2024-06-06T11:43:00-04:00\",\"2024-06-06T11:44:00-04:00\",\"2024-06-06T11:45:00-04:00\",\"2024-06-06T11:46:00-04:00\",\"2024-06-06T11:47:00-04:00\",\"2024-06-06T11:48:00-04:00\",\"2024-06-06T11:49:00-04:00\",\"2024-06-06T11:50:00-04:00\",\"2024-06-06T11:51:00-04:00\",\"2024-06-06T11:52:00-04:00\",\"2024-06-06T11:53:00-04:00\",\"2024-06-06T11:54:00-04:00\",\"2024-06-06T11:55:00-04:00\",\"2024-06-06T11:56:00-04:00\",\"2024-06-06T11:57:00-04:00\",\"2024-06-06T11:58:00-04:00\",\"2024-06-06T11:59:00-04:00\",\"2024-06-06T12:00:00-04:00\",\"2024-06-06T12:01:00-04:00\",\"2024-06-06T12:02:00-04:00\",\"2024-06-06T12:03:00-04:00\",\"2024-06-06T12:04:00-04:00\",\"2024-06-06T12:05:00-04:00\",\"2024-06-06T12:06:00-04:00\",\"2024-06-06T12:07:00-04:00\",\"2024-06-06T12:08:00-04:00\",\"2024-06-06T12:09:00-04:00\",\"2024-06-06T12:10:00-04:00\",\"2024-06-06T12:11:00-04:00\",\"2024-06-06T12:12:00-04:00\",\"2024-06-06T12:13:00-04:00\",\"2024-06-06T12:14:00-04:00\",\"2024-06-06T12:15:00-04:00\",\"2024-06-06T12:16:00-04:00\",\"2024-06-06T12:17:00-04:00\",\"2024-06-06T12:18:00-04:00\",\"2024-06-06T12:19:00-04:00\",\"2024-06-06T12:20:00-04:00\",\"2024-06-06T12:21:00-04:00\",\"2024-06-06T12:22:00-04:00\",\"2024-06-06T12:23:00-04:00\",\"2024-06-06T12:24:00-04:00\",\"2024-06-06T12:25:00-04:00\",\"2024-06-06T12:26:00-04:00\",\"2024-06-06T12:27:00-04:00\",\"2024-06-06T12:28:00-04:00\",\"2024-06-06T12:29:00-04:00\",\"2024-06-06T12:30:00-04:00\",\"2024-06-06T12:31:00-04:00\",\"2024-06-06T12:32:00-04:00\",\"2024-06-06T12:33:00-04:00\",\"2024-06-06T12:34:00-04:00\",\"2024-06-06T12:35:00-04:00\",\"2024-06-06T12:36:00-04:00\",\"2024-06-06T12:37:00-04:00\",\"2024-06-06T12:38:00-04:00\",\"2024-06-06T12:39:00-04:00\",\"2024-06-06T12:40:00-04:00\",\"2024-06-06T12:41:00-04:00\",\"2024-06-06T12:42:00-04:00\",\"2024-06-06T12:43:00-04:00\",\"2024-06-06T12:44:00-04:00\",\"2024-06-06T12:45:00-04:00\",\"2024-06-06T12:46:00-04:00\",\"2024-06-06T12:47:00-04:00\",\"2024-06-06T12:48:00-04:00\",\"2024-06-06T12:49:00-04:00\",\"2024-06-06T12:50:00-04:00\",\"2024-06-06T12:51:00-04:00\",\"2024-06-06T12:52:00-04:00\",\"2024-06-06T12:53:00-04:00\",\"2024-06-06T12:54:00-04:00\",\"2024-06-06T12:55:00-04:00\",\"2024-06-06T12:56:00-04:00\",\"2024-06-06T12:57:00-04:00\",\"2024-06-06T12:58:00-04:00\",\"2024-06-06T12:59:00-04:00\",\"2024-06-06T13:00:00-04:00\",\"2024-06-06T13:01:00-04:00\",\"2024-06-06T13:02:00-04:00\",\"2024-06-06T13:03:00-04:00\",\"2024-06-06T13:04:00-04:00\",\"2024-06-06T13:05:00-04:00\",\"2024-06-06T13:06:00-04:00\",\"2024-06-06T13:07:00-04:00\",\"2024-06-06T13:08:00-04:00\",\"2024-06-06T13:09:00-04:00\",\"2024-06-06T13:10:00-04:00\",\"2024-06-06T13:11:00-04:00\",\"2024-06-06T13:12:00-04:00\",\"2024-06-06T13:13:00-04:00\",\"2024-06-06T13:14:00-04:00\",\"2024-06-06T13:15:00-04:00\",\"2024-06-06T13:16:00-04:00\",\"2024-06-06T13:17:00-04:00\",\"2024-06-06T13:18:00-04:00\",\"2024-06-06T13:19:00-04:00\",\"2024-06-06T13:20:00-04:00\",\"2024-06-06T13:21:00-04:00\",\"2024-06-06T13:22:00-04:00\",\"2024-06-06T13:23:00-04:00\",\"2024-06-06T13:24:00-04:00\",\"2024-06-06T13:25:00-04:00\",\"2024-06-06T13:26:00-04:00\",\"2024-06-06T13:27:00-04:00\",\"2024-06-06T13:28:00-04:00\",\"2024-06-06T13:29:00-04:00\",\"2024-06-06T13:30:00-04:00\",\"2024-06-06T13:31:00-04:00\",\"2024-06-06T13:32:00-04:00\",\"2024-06-06T13:33:00-04:00\",\"2024-06-06T13:34:00-04:00\",\"2024-06-06T13:35:00-04:00\",\"2024-06-06T13:36:00-04:00\",\"2024-06-06T13:37:00-04:00\",\"2024-06-06T13:38:00-04:00\",\"2024-06-06T13:39:00-04:00\",\"2024-06-06T13:40:00-04:00\",\"2024-06-06T13:41:00-04:00\",\"2024-06-06T13:42:00-04:00\",\"2024-06-06T13:43:00-04:00\",\"2024-06-06T13:44:00-04:00\",\"2024-06-06T13:45:00-04:00\",\"2024-06-06T13:46:00-04:00\",\"2024-06-06T13:47:00-04:00\",\"2024-06-06T13:48:00-04:00\",\"2024-06-06T13:49:00-04:00\",\"2024-06-06T13:50:00-04:00\",\"2024-06-06T13:51:00-04:00\",\"2024-06-06T13:52:00-04:00\",\"2024-06-06T13:53:00-04:00\",\"2024-06-06T13:54:00-04:00\",\"2024-06-06T13:55:00-04:00\",\"2024-06-06T13:56:00-04:00\",\"2024-06-06T13:57:00-04:00\",\"2024-06-06T13:58:00-04:00\",\"2024-06-06T13:59:00-04:00\",\"2024-06-06T14:00:00-04:00\",\"2024-06-06T14:01:00-04:00\",\"2024-06-06T14:02:00-04:00\",\"2024-06-06T14:03:00-04:00\",\"2024-06-06T14:04:00-04:00\",\"2024-06-06T14:05:00-04:00\",\"2024-06-06T14:06:00-04:00\",\"2024-06-06T14:07:00-04:00\",\"2024-06-06T14:08:00-04:00\",\"2024-06-06T14:09:00-04:00\",\"2024-06-06T14:10:00-04:00\",\"2024-06-06T14:11:00-04:00\",\"2024-06-06T14:12:00-04:00\",\"2024-06-06T14:13:00-04:00\",\"2024-06-06T14:14:00-04:00\",\"2024-06-06T14:15:00-04:00\",\"2024-06-06T14:16:00-04:00\",\"2024-06-06T14:17:00-04:00\",\"2024-06-06T14:18:00-04:00\",\"2024-06-06T14:19:00-04:00\",\"2024-06-06T14:20:00-04:00\",\"2024-06-06T14:21:00-04:00\",\"2024-06-06T14:22:00-04:00\",\"2024-06-06T14:23:00-04:00\",\"2024-06-06T14:24:00-04:00\",\"2024-06-06T14:25:00-04:00\",\"2024-06-06T14:26:00-04:00\",\"2024-06-06T14:27:00-04:00\",\"2024-06-06T14:28:00-04:00\",\"2024-06-06T14:29:00-04:00\",\"2024-06-06T14:30:00-04:00\",\"2024-06-06T14:31:00-04:00\",\"2024-06-06T14:32:00-04:00\",\"2024-06-06T14:33:00-04:00\",\"2024-06-06T14:34:00-04:00\",\"2024-06-06T14:35:00-04:00\",\"2024-06-06T14:36:00-04:00\",\"2024-06-06T14:37:00-04:00\",\"2024-06-06T14:38:00-04:00\",\"2024-06-06T14:39:00-04:00\",\"2024-06-06T14:40:00-04:00\",\"2024-06-06T14:41:00-04:00\",\"2024-06-06T14:42:00-04:00\",\"2024-06-06T14:43:00-04:00\",\"2024-06-06T14:44:00-04:00\",\"2024-06-06T14:45:00-04:00\",\"2024-06-06T14:46:00-04:00\",\"2024-06-06T14:47:00-04:00\",\"2024-06-06T14:48:00-04:00\",\"2024-06-06T14:49:00-04:00\",\"2024-06-06T14:50:00-04:00\",\"2024-06-06T14:51:00-04:00\",\"2024-06-06T14:52:00-04:00\",\"2024-06-06T14:53:00-04:00\",\"2024-06-06T14:54:00-04:00\",\"2024-06-06T14:55:00-04:00\",\"2024-06-06T14:56:00-04:00\",\"2024-06-06T14:57:00-04:00\",\"2024-06-06T14:58:00-04:00\",\"2024-06-06T14:59:00-04:00\",\"2024-06-06T15:00:00-04:00\",\"2024-06-06T15:01:00-04:00\",\"2024-06-06T15:02:00-04:00\",\"2024-06-06T15:03:00-04:00\",\"2024-06-06T15:04:00-04:00\",\"2024-06-06T15:05:00-04:00\",\"2024-06-06T15:06:00-04:00\",\"2024-06-06T15:07:00-04:00\",\"2024-06-06T15:08:00-04:00\",\"2024-06-06T15:09:00-04:00\",\"2024-06-06T15:10:00-04:00\",\"2024-06-06T15:11:00-04:00\",\"2024-06-06T15:12:00-04:00\",\"2024-06-06T15:13:00-04:00\",\"2024-06-06T15:14:00-04:00\",\"2024-06-06T15:15:00-04:00\",\"2024-06-06T15:16:00-04:00\",\"2024-06-06T15:17:00-04:00\",\"2024-06-06T15:18:00-04:00\",\"2024-06-06T15:19:00-04:00\",\"2024-06-06T15:20:00-04:00\",\"2024-06-06T15:21:00-04:00\",\"2024-06-06T15:22:00-04:00\",\"2024-06-06T15:23:00-04:00\",\"2024-06-06T15:24:00-04:00\",\"2024-06-06T15:25:00-04:00\",\"2024-06-06T15:26:00-04:00\",\"2024-06-06T15:27:00-04:00\",\"2024-06-06T15:28:00-04:00\",\"2024-06-06T15:29:00-04:00\",\"2024-06-06T15:30:00-04:00\",\"2024-06-06T15:31:00-04:00\",\"2024-06-06T15:32:00-04:00\",\"2024-06-06T15:33:00-04:00\",\"2024-06-06T15:34:00-04:00\",\"2024-06-06T15:35:00-04:00\",\"2024-06-06T15:36:00-04:00\",\"2024-06-06T15:37:00-04:00\",\"2024-06-06T15:38:00-04:00\",\"2024-06-06T15:39:00-04:00\",\"2024-06-06T15:40:00-04:00\",\"2024-06-06T15:41:00-04:00\",\"2024-06-06T15:42:00-04:00\",\"2024-06-06T15:43:00-04:00\",\"2024-06-06T15:44:00-04:00\",\"2024-06-06T15:45:00-04:00\",\"2024-06-06T15:46:00-04:00\",\"2024-06-06T15:47:00-04:00\",\"2024-06-06T15:48:00-04:00\",\"2024-06-06T15:49:00-04:00\",\"2024-06-06T15:50:00-04:00\",\"2024-06-06T15:51:00-04:00\",\"2024-06-06T15:52:00-04:00\",\"2024-06-06T15:53:00-04:00\",\"2024-06-06T15:54:00-04:00\",\"2024-06-06T15:55:00-04:00\",\"2024-06-06T15:56:00-04:00\",\"2024-06-06T15:57:00-04:00\",\"2024-06-06T15:58:00-04:00\",\"2024-06-06T15:59:00-04:00\"],\"xaxis\":\"x\",\"y\":[196.1300048828125,196.1300048828125,196.21666463216147,196.1515998840332,196.05148583984376,195.96849926607112,195.84663100681516,195.8020297922194,195.76313641566108,195.73698194242195,195.71647229135343,195.6504238436351,195.64369120757755,195.64765335585201,195.66089600392672,195.6773979661601,195.6782605697211,195.67626854994705,195.67141585894288,195.6933173813877,195.70529624392356,195.71873551214844,195.71981730596895,195.71874702989606,195.71866724575227,195.73514582440626,195.71501524304333,195.69526959575444,195.6940757279831,195.67786677320416,195.72451671917318,195.75672422826008,195.78778663179617,195.79821246277197,195.78032463555118,195.83572041566134,195.84552597959993,195.84998478317982,195.85040915733043,195.82195505861787,195.81000008147095,195.80841059498152,195.85561796565082,195.85665824172418,195.87831924643922,195.88599796078114,195.91306113285796,195.94816782250672,195.98846244898687,196.01731666103865,196.04754542203068,196.0769541612789,196.10106087908372,196.1495154627017,196.18558211177975,196.17944156475653,196.1406980758973,196.1383952318486,196.11053618777393,196.07748514739163,196.05407165578765,196.0417454350434,196.01808864346626,196.0066003560424,195.9996438952482,195.98429487315448,195.9657023752983,195.96381122466133,195.96797619866646,195.9633802321841,195.95337340142586,195.9443339010878,195.92827225928406,195.91315474926654,195.90760632301016,195.89349361934381,195.90960297706874,195.89117920494095,195.84145302492507,195.79487347980233,195.74785669786564,195.73158597764723,195.7343289714136,195.71461702837604,195.70474351710862,195.7087754208851,195.70237577266917,195.70841954842186,195.70530400162147,195.72565399543598,195.73503550721733,195.73284091580655,195.7193988650732,195.71539186135817,195.72817548523088,195.73304769988388,195.71872457342047,195.7219312448255,195.71409371285066,195.70598747891563,195.70535508180427,195.69478118643568,195.6746973812934,195.6723756108449,195.6666817091414,195.69356818521248,195.71339282175757,195.7218938975905,195.7367084019682,195.7458677327923,195.74877160550892,195.7317534038883,195.72384784804964,195.72489116103,195.71235851179452,195.72268065463496,195.7335701071209,195.74278884286122,195.73949439529994,195.7434538137113,195.7579024779412,195.7518900660751,195.74565607254092,195.749314166381,195.74679512056258,195.74392010763438,195.73739785923198,195.74954285402293,195.75541497798173,195.75518781976422,195.753049444754,195.7300595037341,195.71326819681482,195.70028948344694,195.7024961772637,195.70591106523898,195.68905090097746,195.6889372675862,195.68311633828665,195.69235595714912,195.6826647772529,195.6658708443325,195.65438153690107,195.63753545591516,195.60606230801076,195.59455581613625,195.57488072237388,195.57641766780714,195.5783838649564,195.56590529721828,195.55600322598812,195.5548879669243,195.54201423897842,195.5424168273622,195.52931275504542,195.5221129819295,195.51924013617466,195.51775689777844,195.52271225822403,195.52569846097953,195.5318316356227,195.53852433153463,195.55147022523525,195.55351009527902,195.5506275948256,195.5490453491907,195.5388597566472,195.552852476514,195.56127347936552,195.57602737911918,195.5981537797532,195.62190113261877,195.61894904496657,195.63436694459338,195.63097038521835,195.6366299156745,195.64371961009252,195.64595338740617,195.64602206794615,195.65319529936346,195.65391660520976,195.66190884227697,195.66542824019768,195.6630590289717,195.66561879180264,195.67549732668263,195.6794848924901,195.6713031885443,195.66630404258797,195.66063979208067,195.67871303809204,195.6741174813538,195.67929237832732,195.69069000401058,195.6848543947464,195.67585975900505,195.67944733457972,195.67383411729958,195.66584411138618,195.66968014553524,195.6675529210318,195.65989988019444,195.67015674576183,195.67131714712752,195.6744123124667,195.68011510557233,195.6789465559637,195.67952884280677,195.68882133692273,195.7067219629586,195.72237806824467,195.743799548334,195.75505767377012,195.76659762356246,195.77852622997426,195.8028235117008,195.81382463245816,195.82700848129497,195.84372714988777,195.8664350179177,195.87706526845943,195.88330019346708,195.88909127249892,195.88246159139416,195.88173959378915,195.88205821822217,195.87472110801897,195.86713599750246,195.85573752161957,195.85511274193118,195.83544882338006,195.815191019651,195.80629471337335,195.80188792077053,195.772273074371,195.74963807952722,195.74296734579966,195.73233000696382,195.7232202081495,195.7210449891207,195.71452443668574,195.71787403819224,195.71431153695673,195.7130152778634,195.6955318285671,195.6827295504939,195.66572439569327,195.66344724360613,195.65431676023346,195.63850768511395,195.63664199745085,195.6333963370823,195.6378005970929,195.62873422460208,195.61221265531086,195.61294567411696,195.614184119816,195.6081193658973,195.60917204956374,195.61917417403043,195.6203959262004,195.61796395913564,195.6166784226822,195.6171288882588,195.6081269924644,195.61782058150325,195.61458830583177,195.59611090586253,195.58249033714154,195.568749034993,195.56327719655755,195.56249142726324,195.55531136234197,195.55451439123422,195.5554058111084,195.55168640037124,195.54662769945938,195.52345897417175,195.50130426018046,195.47187313985265,195.43197268494953,195.40068361335474,195.3788404056946,195.35560987263813,195.3425804297431,195.33881957346966,195.33316119473147,195.32590186850697,195.33881416225614,195.3299242930772,195.32957130143697,195.33120608560327,195.33700355332383,195.35199763655547,195.3764987160205,195.38471620469852,195.39381590069044,195.3947517269255,195.40152593107516,195.41512028401604,195.40903288350637,195.39689002127355,195.38358815047818,195.36647428975724,195.38695405058598,195.38813847738686,195.38664313411638,195.40626380650392,195.41175460727763,195.400645639408,195.39157223688113,195.38135026513115,195.37908418080562,195.37293770880012,195.35500085268714,195.35458609850951,195.362565049584,195.35691040050403,195.34779370987465,195.3365758654379,195.33125013799975,195.33171755437218,195.329741721435,195.33439812309706,195.3278891358508,195.31989986813883,195.33321782356546,195.334100912486,195.33305987193597,195.3142214213209,195.3109862334044,195.30292699436,195.2914858961408,195.2784562983218,195.27295224720146,195.27238540525136,195.26938018303005,195.26889306619265,195.27368825824055,195.27819889719865,195.27957092330232,195.2751935224961,195.2704058320916,195.25769848464594,195.24821243477743,195.22977660543197,195.23473192030167,195.23786906954558,195.23203379704745,195.24121637834367,195.24518987393864,195.241062090547,195.2365500643299,195.23209681621785,195.23467962720048,195.2388096013343,195.23980097719894,195.2400935007658,195.23698192053533,195.24352780885863,195.2615688020856,195.28475212749504,195.28566663595197,195.29085968140936,195.29331323069957,195.28211136394057,195.26287925763384,195.24724224223655,195.23595866503211,195.24807568151792,195.24403831561628,195.2313426511372,195.22860066905815,195.21692086470017,195.19133174089976,195.1641357874212,195.15728423768667,195.15028306021782,195.13996875941717,195.14116521556784,195.12991319426897,195.10791979693056,195.07084535902646,195.0321771495082,194.99274796661678,194.93001754964405,194.8832443276928,194.82117672762323,194.77476626271775,194.72754292994566],\"yaxis\":\"y\",\"type\":\"scatter\"},{\"hovertemplate\":\"variable=EMA_12<br>Datetime=%{x}<br>value=%{y}<extra></extra>\",\"legendgroup\":\"EMA_12\",\"line\":{\"color\":\"#44fcd1\",\"dash\":\"solid\"},\"marker\":{\"symbol\":\"circle\"},\"mode\":\"lines\",\"name\":\"EMA_12\",\"orientation\":\"v\",\"showlegend\":true,\"x\":[\"2024-06-06T09:30:00-04:00\",\"2024-06-06T09:31:00-04:00\",\"2024-06-06T09:32:00-04:00\",\"2024-06-06T09:33:00-04:00\",\"2024-06-06T09:34:00-04:00\",\"2024-06-06T09:35:00-04:00\",\"2024-06-06T09:36:00-04:00\",\"2024-06-06T09:37:00-04:00\",\"2024-06-06T09:38:00-04:00\",\"2024-06-06T09:39:00-04:00\",\"2024-06-06T09:40:00-04:00\",\"2024-06-06T09:41:00-04:00\",\"2024-06-06T09:42:00-04:00\",\"2024-06-06T09:43:00-04:00\",\"2024-06-06T09:44:00-04:00\",\"2024-06-06T09:45:00-04:00\",\"2024-06-06T09:46:00-04:00\",\"2024-06-06T09:47:00-04:00\",\"2024-06-06T09:48:00-04:00\",\"2024-06-06T09:49:00-04:00\",\"2024-06-06T09:50:00-04:00\",\"2024-06-06T09:51:00-04:00\",\"2024-06-06T09:52:00-04:00\",\"2024-06-06T09:53:00-04:00\",\"2024-06-06T09:54:00-04:00\",\"2024-06-06T09:55:00-04:00\",\"2024-06-06T09:56:00-04:00\",\"2024-06-06T09:57:00-04:00\",\"2024-06-06T09:58:00-04:00\",\"2024-06-06T09:59:00-04:00\",\"2024-06-06T10:00:00-04:00\",\"2024-06-06T10:01:00-04:00\",\"2024-06-06T10:02:00-04:00\",\"2024-06-06T10:03:00-04:00\",\"2024-06-06T10:04:00-04:00\",\"2024-06-06T10:05:00-04:00\",\"2024-06-06T10:06:00-04:00\",\"2024-06-06T10:07:00-04:00\",\"2024-06-06T10:08:00-04:00\",\"2024-06-06T10:09:00-04:00\",\"2024-06-06T10:10:00-04:00\",\"2024-06-06T10:11:00-04:00\",\"2024-06-06T10:12:00-04:00\",\"2024-06-06T10:13:00-04:00\",\"2024-06-06T10:14:00-04:00\",\"2024-06-06T10:15:00-04:00\",\"2024-06-06T10:16:00-04:00\",\"2024-06-06T10:17:00-04:00\",\"2024-06-06T10:18:00-04:00\",\"2024-06-06T10:19:00-04:00\",\"2024-06-06T10:20:00-04:00\",\"2024-06-06T10:21:00-04:00\",\"2024-06-06T10:22:00-04:00\",\"2024-06-06T10:23:00-04:00\",\"2024-06-06T10:24:00-04:00\",\"2024-06-06T10:25:00-04:00\",\"2024-06-06T10:26:00-04:00\",\"2024-06-06T10:27:00-04:00\",\"2024-06-06T10:28:00-04:00\",\"2024-06-06T10:29:00-04:00\",\"2024-06-06T10:30:00-04:00\",\"2024-06-06T10:31:00-04:00\",\"2024-06-06T10:32:00-04:00\",\"2024-06-06T10:33:00-04:00\",\"2024-06-06T10:34:00-04:00\",\"2024-06-06T10:35:00-04:00\",\"2024-06-06T10:36:00-04:00\",\"2024-06-06T10:37:00-04:00\",\"2024-06-06T10:38:00-04:00\",\"2024-06-06T10:39:00-04:00\",\"2024-06-06T10:40:00-04:00\",\"2024-06-06T10:41:00-04:00\",\"2024-06-06T10:42:00-04:00\",\"2024-06-06T10:43:00-04:00\",\"2024-06-06T10:44:00-04:00\",\"2024-06-06T10:45:00-04:00\",\"2024-06-06T10:46:00-04:00\",\"2024-06-06T10:47:00-04:00\",\"2024-06-06T10:48:00-04:00\",\"2024-06-06T10:49:00-04:00\",\"2024-06-06T10:50:00-04:00\",\"2024-06-06T10:51:00-04:00\",\"2024-06-06T10:52:00-04:00\",\"2024-06-06T10:53:00-04:00\",\"2024-06-06T10:54:00-04:00\",\"2024-06-06T10:55:00-04:00\",\"2024-06-06T10:56:00-04:00\",\"2024-06-06T10:57:00-04:00\",\"2024-06-06T10:58:00-04:00\",\"2024-06-06T10:59:00-04:00\",\"2024-06-06T11:00:00-04:00\",\"2024-06-06T11:01:00-04:00\",\"2024-06-06T11:02:00-04:00\",\"2024-06-06T11:03:00-04:00\",\"2024-06-06T11:04:00-04:00\",\"2024-06-06T11:05:00-04:00\",\"2024-06-06T11:06:00-04:00\",\"2024-06-06T11:07:00-04:00\",\"2024-06-06T11:08:00-04:00\",\"2024-06-06T11:09:00-04:00\",\"2024-06-06T11:10:00-04:00\",\"2024-06-06T11:11:00-04:00\",\"2024-06-06T11:12:00-04:00\",\"2024-06-06T11:13:00-04:00\",\"2024-06-06T11:14:00-04:00\",\"2024-06-06T11:15:00-04:00\",\"2024-06-06T11:16:00-04:00\",\"2024-06-06T11:17:00-04:00\",\"2024-06-06T11:18:00-04:00\",\"2024-06-06T11:19:00-04:00\",\"2024-06-06T11:20:00-04:00\",\"2024-06-06T11:21:00-04:00\",\"2024-06-06T11:22:00-04:00\",\"2024-06-06T11:23:00-04:00\",\"2024-06-06T11:24:00-04:00\",\"2024-06-06T11:25:00-04:00\",\"2024-06-06T11:26:00-04:00\",\"2024-06-06T11:27:00-04:00\",\"2024-06-06T11:28:00-04:00\",\"2024-06-06T11:29:00-04:00\",\"2024-06-06T11:30:00-04:00\",\"2024-06-06T11:31:00-04:00\",\"2024-06-06T11:32:00-04:00\",\"2024-06-06T11:33:00-04:00\",\"2024-06-06T11:34:00-04:00\",\"2024-06-06T11:35:00-04:00\",\"2024-06-06T11:36:00-04:00\",\"2024-06-06T11:37:00-04:00\",\"2024-06-06T11:38:00-04:00\",\"2024-06-06T11:39:00-04:00\",\"2024-06-06T11:40:00-04:00\",\"2024-06-06T11:41:00-04:00\",\"2024-06-06T11:42:00-04:00\",\"2024-06-06T11:43:00-04:00\",\"2024-06-06T11:44:00-04:00\",\"2024-06-06T11:45:00-04:00\",\"2024-06-06T11:46:00-04:00\",\"2024-06-06T11:47:00-04:00\",\"2024-06-06T11:48:00-04:00\",\"2024-06-06T11:49:00-04:00\",\"2024-06-06T11:50:00-04:00\",\"2024-06-06T11:51:00-04:00\",\"2024-06-06T11:52:00-04:00\",\"2024-06-06T11:53:00-04:00\",\"2024-06-06T11:54:00-04:00\",\"2024-06-06T11:55:00-04:00\",\"2024-06-06T11:56:00-04:00\",\"2024-06-06T11:57:00-04:00\",\"2024-06-06T11:58:00-04:00\",\"2024-06-06T11:59:00-04:00\",\"2024-06-06T12:00:00-04:00\",\"2024-06-06T12:01:00-04:00\",\"2024-06-06T12:02:00-04:00\",\"2024-06-06T12:03:00-04:00\",\"2024-06-06T12:04:00-04:00\",\"2024-06-06T12:05:00-04:00\",\"2024-06-06T12:06:00-04:00\",\"2024-06-06T12:07:00-04:00\",\"2024-06-06T12:08:00-04:00\",\"2024-06-06T12:09:00-04:00\",\"2024-06-06T12:10:00-04:00\",\"2024-06-06T12:11:00-04:00\",\"2024-06-06T12:12:00-04:00\",\"2024-06-06T12:13:00-04:00\",\"2024-06-06T12:14:00-04:00\",\"2024-06-06T12:15:00-04:00\",\"2024-06-06T12:16:00-04:00\",\"2024-06-06T12:17:00-04:00\",\"2024-06-06T12:18:00-04:00\",\"2024-06-06T12:19:00-04:00\",\"2024-06-06T12:20:00-04:00\",\"2024-06-06T12:21:00-04:00\",\"2024-06-06T12:22:00-04:00\",\"2024-06-06T12:23:00-04:00\",\"2024-06-06T12:24:00-04:00\",\"2024-06-06T12:25:00-04:00\",\"2024-06-06T12:26:00-04:00\",\"2024-06-06T12:27:00-04:00\",\"2024-06-06T12:28:00-04:00\",\"2024-06-06T12:29:00-04:00\",\"2024-06-06T12:30:00-04:00\",\"2024-06-06T12:31:00-04:00\",\"2024-06-06T12:32:00-04:00\",\"2024-06-06T12:33:00-04:00\",\"2024-06-06T12:34:00-04:00\",\"2024-06-06T12:35:00-04:00\",\"2024-06-06T12:36:00-04:00\",\"2024-06-06T12:37:00-04:00\",\"2024-06-06T12:38:00-04:00\",\"2024-06-06T12:39:00-04:00\",\"2024-06-06T12:40:00-04:00\",\"2024-06-06T12:41:00-04:00\",\"2024-06-06T12:42:00-04:00\",\"2024-06-06T12:43:00-04:00\",\"2024-06-06T12:44:00-04:00\",\"2024-06-06T12:45:00-04:00\",\"2024-06-06T12:46:00-04:00\",\"2024-06-06T12:47:00-04:00\",\"2024-06-06T12:48:00-04:00\",\"2024-06-06T12:49:00-04:00\",\"2024-06-06T12:50:00-04:00\",\"2024-06-06T12:51:00-04:00\",\"2024-06-06T12:52:00-04:00\",\"2024-06-06T12:53:00-04:00\",\"2024-06-06T12:54:00-04:00\",\"2024-06-06T12:55:00-04:00\",\"2024-06-06T12:56:00-04:00\",\"2024-06-06T12:57:00-04:00\",\"2024-06-06T12:58:00-04:00\",\"2024-06-06T12:59:00-04:00\",\"2024-06-06T13:00:00-04:00\",\"2024-06-06T13:01:00-04:00\",\"2024-06-06T13:02:00-04:00\",\"2024-06-06T13:03:00-04:00\",\"2024-06-06T13:04:00-04:00\",\"2024-06-06T13:05:00-04:00\",\"2024-06-06T13:06:00-04:00\",\"2024-06-06T13:07:00-04:00\",\"2024-06-06T13:08:00-04:00\",\"2024-06-06T13:09:00-04:00\",\"2024-06-06T13:10:00-04:00\",\"2024-06-06T13:11:00-04:00\",\"2024-06-06T13:12:00-04:00\",\"2024-06-06T13:13:00-04:00\",\"2024-06-06T13:14:00-04:00\",\"2024-06-06T13:15:00-04:00\",\"2024-06-06T13:16:00-04:00\",\"2024-06-06T13:17:00-04:00\",\"2024-06-06T13:18:00-04:00\",\"2024-06-06T13:19:00-04:00\",\"2024-06-06T13:20:00-04:00\",\"2024-06-06T13:21:00-04:00\",\"2024-06-06T13:22:00-04:00\",\"2024-06-06T13:23:00-04:00\",\"2024-06-06T13:24:00-04:00\",\"2024-06-06T13:25:00-04:00\",\"2024-06-06T13:26:00-04:00\",\"2024-06-06T13:27:00-04:00\",\"2024-06-06T13:28:00-04:00\",\"2024-06-06T13:29:00-04:00\",\"2024-06-06T13:30:00-04:00\",\"2024-06-06T13:31:00-04:00\",\"2024-06-06T13:32:00-04:00\",\"2024-06-06T13:33:00-04:00\",\"2024-06-06T13:34:00-04:00\",\"2024-06-06T13:35:00-04:00\",\"2024-06-06T13:36:00-04:00\",\"2024-06-06T13:37:00-04:00\",\"2024-06-06T13:38:00-04:00\",\"2024-06-06T13:39:00-04:00\",\"2024-06-06T13:40:00-04:00\",\"2024-06-06T13:41:00-04:00\",\"2024-06-06T13:42:00-04:00\",\"2024-06-06T13:43:00-04:00\",\"2024-06-06T13:44:00-04:00\",\"2024-06-06T13:45:00-04:00\",\"2024-06-06T13:46:00-04:00\",\"2024-06-06T13:47:00-04:00\",\"2024-06-06T13:48:00-04:00\",\"2024-06-06T13:49:00-04:00\",\"2024-06-06T13:50:00-04:00\",\"2024-06-06T13:51:00-04:00\",\"2024-06-06T13:52:00-04:00\",\"2024-06-06T13:53:00-04:00\",\"2024-06-06T13:54:00-04:00\",\"2024-06-06T13:55:00-04:00\",\"2024-06-06T13:56:00-04:00\",\"2024-06-06T13:57:00-04:00\",\"2024-06-06T13:58:00-04:00\",\"2024-06-06T13:59:00-04:00\",\"2024-06-06T14:00:00-04:00\",\"2024-06-06T14:01:00-04:00\",\"2024-06-06T14:02:00-04:00\",\"2024-06-06T14:03:00-04:00\",\"2024-06-06T14:04:00-04:00\",\"2024-06-06T14:05:00-04:00\",\"2024-06-06T14:06:00-04:00\",\"2024-06-06T14:07:00-04:00\",\"2024-06-06T14:08:00-04:00\",\"2024-06-06T14:09:00-04:00\",\"2024-06-06T14:10:00-04:00\",\"2024-06-06T14:11:00-04:00\",\"2024-06-06T14:12:00-04:00\",\"2024-06-06T14:13:00-04:00\",\"2024-06-06T14:14:00-04:00\",\"2024-06-06T14:15:00-04:00\",\"2024-06-06T14:16:00-04:00\",\"2024-06-06T14:17:00-04:00\",\"2024-06-06T14:18:00-04:00\",\"2024-06-06T14:19:00-04:00\",\"2024-06-06T14:20:00-04:00\",\"2024-06-06T14:21:00-04:00\",\"2024-06-06T14:22:00-04:00\",\"2024-06-06T14:23:00-04:00\",\"2024-06-06T14:24:00-04:00\",\"2024-06-06T14:25:00-04:00\",\"2024-06-06T14:26:00-04:00\",\"2024-06-06T14:27:00-04:00\",\"2024-06-06T14:28:00-04:00\",\"2024-06-06T14:29:00-04:00\",\"2024-06-06T14:30:00-04:00\",\"2024-06-06T14:31:00-04:00\",\"2024-06-06T14:32:00-04:00\",\"2024-06-06T14:33:00-04:00\",\"2024-06-06T14:34:00-04:00\",\"2024-06-06T14:35:00-04:00\",\"2024-06-06T14:36:00-04:00\",\"2024-06-06T14:37:00-04:00\",\"2024-06-06T14:38:00-04:00\",\"2024-06-06T14:39:00-04:00\",\"2024-06-06T14:40:00-04:00\",\"2024-06-06T14:41:00-04:00\",\"2024-06-06T14:42:00-04:00\",\"2024-06-06T14:43:00-04:00\",\"2024-06-06T14:44:00-04:00\",\"2024-06-06T14:45:00-04:00\",\"2024-06-06T14:46:00-04:00\",\"2024-06-06T14:47:00-04:00\",\"2024-06-06T14:48:00-04:00\",\"2024-06-06T14:49:00-04:00\",\"2024-06-06T14:50:00-04:00\",\"2024-06-06T14:51:00-04:00\",\"2024-06-06T14:52:00-04:00\",\"2024-06-06T14:53:00-04:00\",\"2024-06-06T14:54:00-04:00\",\"2024-06-06T14:55:00-04:00\",\"2024-06-06T14:56:00-04:00\",\"2024-06-06T14:57:00-04:00\",\"2024-06-06T14:58:00-04:00\",\"2024-06-06T14:59:00-04:00\",\"2024-06-06T15:00:00-04:00\",\"2024-06-06T15:01:00-04:00\",\"2024-06-06T15:02:00-04:00\",\"2024-06-06T15:03:00-04:00\",\"2024-06-06T15:04:00-04:00\",\"2024-06-06T15:05:00-04:00\",\"2024-06-06T15:06:00-04:00\",\"2024-06-06T15:07:00-04:00\",\"2024-06-06T15:08:00-04:00\",\"2024-06-06T15:09:00-04:00\",\"2024-06-06T15:10:00-04:00\",\"2024-06-06T15:11:00-04:00\",\"2024-06-06T15:12:00-04:00\",\"2024-06-06T15:13:00-04:00\",\"2024-06-06T15:14:00-04:00\",\"2024-06-06T15:15:00-04:00\",\"2024-06-06T15:16:00-04:00\",\"2024-06-06T15:17:00-04:00\",\"2024-06-06T15:18:00-04:00\",\"2024-06-06T15:19:00-04:00\",\"2024-06-06T15:20:00-04:00\",\"2024-06-06T15:21:00-04:00\",\"2024-06-06T15:22:00-04:00\",\"2024-06-06T15:23:00-04:00\",\"2024-06-06T15:24:00-04:00\",\"2024-06-06T15:25:00-04:00\",\"2024-06-06T15:26:00-04:00\",\"2024-06-06T15:27:00-04:00\",\"2024-06-06T15:28:00-04:00\",\"2024-06-06T15:29:00-04:00\",\"2024-06-06T15:30:00-04:00\",\"2024-06-06T15:31:00-04:00\",\"2024-06-06T15:32:00-04:00\",\"2024-06-06T15:33:00-04:00\",\"2024-06-06T15:34:00-04:00\",\"2024-06-06T15:35:00-04:00\",\"2024-06-06T15:36:00-04:00\",\"2024-06-06T15:37:00-04:00\",\"2024-06-06T15:38:00-04:00\",\"2024-06-06T15:39:00-04:00\",\"2024-06-06T15:40:00-04:00\",\"2024-06-06T15:41:00-04:00\",\"2024-06-06T15:42:00-04:00\",\"2024-06-06T15:43:00-04:00\",\"2024-06-06T15:44:00-04:00\",\"2024-06-06T15:45:00-04:00\",\"2024-06-06T15:46:00-04:00\",\"2024-06-06T15:47:00-04:00\",\"2024-06-06T15:48:00-04:00\",\"2024-06-06T15:49:00-04:00\",\"2024-06-06T15:50:00-04:00\",\"2024-06-06T15:51:00-04:00\",\"2024-06-06T15:52:00-04:00\",\"2024-06-06T15:53:00-04:00\",\"2024-06-06T15:54:00-04:00\",\"2024-06-06T15:55:00-04:00\",\"2024-06-06T15:56:00-04:00\",\"2024-06-06T15:57:00-04:00\",\"2024-06-06T15:58:00-04:00\",\"2024-06-06T15:59:00-04:00\"],\"xaxis\":\"x\",\"y\":[196.1300048828125,196.1300048828125,196.21666463216147,196.1515998840332,196.05148583984376,195.96849926607112,195.84663100681516,195.8020297922194,195.76313641566108,195.73698194242195,195.71647229135343,195.6504238436351,195.64369120757755,195.6467882312099,195.62431233010307,195.60637155344125,195.58667974430963,195.54596515249625,195.55715250747335,195.5883045416318,195.61164314955982,195.63618359493185,195.59939047529565,195.6413354237772,195.65209801286147,195.67149900582845,195.68963549865026,195.69651711194123,195.72483257292185,195.75857553901596,195.84761481957537,195.89451531154558,195.93842714021267,195.92229846188485,195.94485254110327,195.95852831609798,195.947702612208,195.9235397003308,195.909155753397,195.8815994590207,195.864631091511,195.8797144949819,195.9048501390812,195.90679125722718,195.90207196383147,195.96417088854378,196.0016958756358,196.02805389500176,196.06817674794212,196.10230236920222,196.113093174593,196.14550674940716,196.18063083661627,196.24131566308023,196.27322919545108,196.2756563651716,196.25575838545583,196.20613234082555,196.1684646349793,196.14730348811145,196.10305091680272,196.0677703126251,196.04696088158812,196.0047326784793,195.98613975204873,195.92346114722625,195.86351177462643,195.83062081263773,195.80358448227557,195.80207444977242,195.804265713802,195.79148673187066,195.79933260167513,195.79991631519448,195.78462882976677,195.7694857281317,195.75215292400702,195.7662567660909,195.75699410847045,195.72744711886986,195.6886176301274,195.6494056573433,195.64950499767195,195.656124721618,195.64190578654743,195.65812229446834,195.68004132264798,195.7151285099758,195.73145293742368,195.72305659888258,195.70996041859087,195.70124443583077,195.68958913416196,195.7104321670676,195.72306403472447,195.71560263104988,195.7230580312634,195.73820237050907,195.74444780100796,195.7172168895764,195.70475207846948,195.7045992212131,195.68292045131076,195.68132175585686,195.69381238448494,195.71284413710418,195.7253598480449,195.74169223944077,195.74699238450802,195.73100821612934,195.70942173292366,195.71682387320118,195.72462040008418,195.71919449892246,195.71917583212723,195.73921884131437,195.75982545821444,195.7737016231548,195.77688222843358,195.76725476633777,195.7689218221105,195.75746468785175,195.76640659796556,195.7654289644064,195.7545454449354,195.761517711286,195.754768917017,195.7544063487974,195.74930453289852,195.7360422297615,195.7369433046888,195.7278011634846,195.69793766718712,195.68777575621283,195.6663901455513,195.66601278243186,195.65910444529476,195.6492381357584,195.64081173358682,195.64999941262,195.63441548572337,195.62075903681497,195.59102101789978,195.5591311313418,195.53656894975524,195.51746336309202,195.50825553503836,195.5047736406986,195.51816208194217,195.51517663475846,195.51947749598256,195.5004225455074,195.48589456403636,195.48148780066202,195.47182979006507,195.47731872349084,195.48253939531946,195.4916353383473,195.50831203874165,195.5283336817726,195.52245901623456,195.5395607650974,195.5501864433516,195.57382606833465,195.58657258612604,195.58603458144867,195.58029969642587,195.59967814045538,195.61064583509156,195.63030687286832,195.65457708253368,195.66966463691338,195.68259468853552,195.702348011744,195.70708442134048,195.69554869785262,195.68859395881836,195.68130487700097,195.69225511490654,195.69046642766605,195.69001219167086,195.69905629902223,195.69583209181206,195.68339266346612,195.6784247527634,195.67234514480342,195.67053767452404,195.67161178411442,195.67386270679697,195.66738346103725,195.67213046132485,195.66358212167688,195.66995438465807,195.6739552331723,195.66507304814903,195.65852289081528,195.6658669972464,195.6688123800401,195.6605298304283,195.6682393725088,195.6649497533702,195.6609153881281,195.66342652047499,195.68073647003655,195.6804832168048,195.6814124686504,195.68926966966538,195.6993849988898,195.7023608775761,195.72430554574947,195.76614594294796,195.78881539660068,195.80811545271385,195.83398649316743,195.85385478678174,195.86941587051604,195.8874852052954,195.91143312133096,195.93175522487013,195.9548516816741,195.98296193294502,195.99549882475878,195.9763219483794,195.9525060564962,195.94444621798417,195.92760937119695,195.90326664654856,195.89034986812834,195.86808338513413,195.86076262777817,195.82855701852128,195.78281626244853,195.73189386365124,195.69563490840403,195.65641235097428,195.63956304968133,195.62920389997066,195.61681903136147,195.61777824196275,195.61409056994557,195.6199808309464,195.60872560941144,195.60504699903333,195.621290141819,195.6271482261618,195.62033764008817,195.61782170748089,195.62421208334956,195.62203791411886,195.6148008424455,195.612331100527,195.62137602594316,195.62797056780258,195.64481168786116,195.64514499120338,195.6347031010001,195.62772507607963,195.6196108369029,195.61476769301942,195.61470849127574,195.6113852613992,195.61011518907762,195.61387815661024,195.6123938101439,195.601161829113,195.59722365855822,195.58829882583538,195.57108512267106,195.55649501583972,195.53975006321556,195.534504712211,195.53679328575996,195.53007145619114,195.52785051857873,195.51760223541822,195.50219901469663,195.51132357343022,195.4752561803754,195.4320814893521,195.3886833981417,195.32644598259373,195.2911650956586,195.26633688092016,195.2336288875814,195.23451411744352,195.2384685952066,195.24327020717857,195.25723991834545,195.25205398359367,195.25634212142387,195.2680729400151,195.2591263934357,195.2979238300447,195.3293831138394,195.36333450647447,195.40984058733665,195.431468504824,195.43791512976065,195.4522185438051,195.46610947879452,195.48557666224852,195.4850117465107,195.46077471922283,195.46633324947007,195.47725097232708,195.4751743632212,195.45455903933046,195.4361741397053,195.42419456202228,195.4084148758701,195.38542751166278,195.36414182572096,195.3367544322922,195.31416836092586,195.31239486312128,195.30079966619195,195.29700085144515,195.2794714470008,195.2791676660783,195.27695105432002,195.26870049123832,195.2662017790645,195.26630386318976,195.28400421630806,195.3011888300159,195.30939782509864,195.31966735980163,195.32702753024515,195.32335048552295,195.31389047899117,195.30454408938976,195.29240297052806,195.29059263930634,195.27790317049562,195.28140543310286,195.2766849876606,195.26588151330483,195.27098861776545,195.27780047221248,195.27256162906585,195.270147658293,195.26236533342808,195.24988418962968,195.23259598229274,195.2064252321404,195.18457209333846,195.17886524226805,195.18558098281244,195.19693799791176,195.22320937023568,195.23603421282925,195.2415640083723,195.23404103426864,195.22684979698235,195.225795585143,195.22451693396488,195.2311278575637,195.24586738475074,195.24958502707452,195.25705457914424,195.29009327336868,195.3185456760674,195.3205909535786,195.32059016430273,195.3299243904678,195.323960425983,195.29485762834815,195.27464146234684,195.2471915078411,195.24147077030665,195.2310579617058,195.21928962412622,195.19880641512472,195.16244628602487,195.1379374645722,195.1105568804354,195.08435576207276,195.05858056916261,195.05696960900417,195.06426480374958,195.07688638320474,195.03197250719077,194.94993046027724,194.8640742857544,194.79785254879334,194.71943106791605,194.6586534013089,194.58866492509642,194.55743350266206,194.53418212948998],\"yaxis\":\"y\",\"type\":\"scatter\"}],                        {\"template\":{\"data\":{\"histogram2dcontour\":[{\"type\":\"histogram2dcontour\",\"colorbar\":{\"outlinewidth\":0,\"ticks\":\"\"},\"colorscale\":[[0.0,\"#0d0887\"],[0.1111111111111111,\"#46039f\"],[0.2222222222222222,\"#7201a8\"],[0.3333333333333333,\"#9c179e\"],[0.4444444444444444,\"#bd3786\"],[0.5555555555555556,\"#d8576b\"],[0.6666666666666666,\"#ed7953\"],[0.7777777777777778,\"#fb9f3a\"],[0.8888888888888888,\"#fdca26\"],[1.0,\"#f0f921\"]]}],\"choropleth\":[{\"type\":\"choropleth\",\"colorbar\":{\"outlinewidth\":0,\"ticks\":\"\"}}],\"histogram2d\":[{\"type\":\"histogram2d\",\"colorbar\":{\"outlinewidth\":0,\"ticks\":\"\"},\"colorscale\":[[0.0,\"#0d0887\"],[0.1111111111111111,\"#46039f\"],[0.2222222222222222,\"#7201a8\"],[0.3333333333333333,\"#9c179e\"],[0.4444444444444444,\"#bd3786\"],[0.5555555555555556,\"#d8576b\"],[0.6666666666666666,\"#ed7953\"],[0.7777777777777778,\"#fb9f3a\"],[0.8888888888888888,\"#fdca26\"],[1.0,\"#f0f921\"]]}],\"heatmap\":[{\"type\":\"heatmap\",\"colorbar\":{\"outlinewidth\":0,\"ticks\":\"\"},\"colorscale\":[[0.0,\"#0d0887\"],[0.1111111111111111,\"#46039f\"],[0.2222222222222222,\"#7201a8\"],[0.3333333333333333,\"#9c179e\"],[0.4444444444444444,\"#bd3786\"],[0.5555555555555556,\"#d8576b\"],[0.6666666666666666,\"#ed7953\"],[0.7777777777777778,\"#fb9f3a\"],[0.8888888888888888,\"#fdca26\"],[1.0,\"#f0f921\"]]}],\"heatmapgl\":[{\"type\":\"heatmapgl\",\"colorbar\":{\"outlinewidth\":0,\"ticks\":\"\"},\"colorscale\":[[0.0,\"#0d0887\"],[0.1111111111111111,\"#46039f\"],[0.2222222222222222,\"#7201a8\"],[0.3333333333333333,\"#9c179e\"],[0.4444444444444444,\"#bd3786\"],[0.5555555555555556,\"#d8576b\"],[0.6666666666666666,\"#ed7953\"],[0.7777777777777778,\"#fb9f3a\"],[0.8888888888888888,\"#fdca26\"],[1.0,\"#f0f921\"]]}],\"contourcarpet\":[{\"type\":\"contourcarpet\",\"colorbar\":{\"outlinewidth\":0,\"ticks\":\"\"}}],\"contour\":[{\"type\":\"contour\",\"colorbar\":{\"outlinewidth\":0,\"ticks\":\"\"},\"colorscale\":[[0.0,\"#0d0887\"],[0.1111111111111111,\"#46039f\"],[0.2222222222222222,\"#7201a8\"],[0.3333333333333333,\"#9c179e\"],[0.4444444444444444,\"#bd3786\"],[0.5555555555555556,\"#d8576b\"],[0.6666666666666666,\"#ed7953\"],[0.7777777777777778,\"#fb9f3a\"],[0.8888888888888888,\"#fdca26\"],[1.0,\"#f0f921\"]]}],\"surface\":[{\"type\":\"surface\",\"colorbar\":{\"outlinewidth\":0,\"ticks\":\"\"},\"colorscale\":[[0.0,\"#0d0887\"],[0.1111111111111111,\"#46039f\"],[0.2222222222222222,\"#7201a8\"],[0.3333333333333333,\"#9c179e\"],[0.4444444444444444,\"#bd3786\"],[0.5555555555555556,\"#d8576b\"],[0.6666666666666666,\"#ed7953\"],[0.7777777777777778,\"#fb9f3a\"],[0.8888888888888888,\"#fdca26\"],[1.0,\"#f0f921\"]]}],\"mesh3d\":[{\"type\":\"mesh3d\",\"colorbar\":{\"outlinewidth\":0,\"ticks\":\"\"}}],\"scatter\":[{\"fillpattern\":{\"fillmode\":\"overlay\",\"size\":10,\"solidity\":0.2},\"type\":\"scatter\"}],\"parcoords\":[{\"type\":\"parcoords\",\"line\":{\"colorbar\":{\"outlinewidth\":0,\"ticks\":\"\"}}}],\"scatterpolargl\":[{\"type\":\"scatterpolargl\",\"marker\":{\"colorbar\":{\"outlinewidth\":0,\"ticks\":\"\"}}}],\"bar\":[{\"error_x\":{\"color\":\"#2a3f5f\"},\"error_y\":{\"color\":\"#2a3f5f\"},\"marker\":{\"line\":{\"color\":\"#E5ECF6\",\"width\":0.5},\"pattern\":{\"fillmode\":\"overlay\",\"size\":10,\"solidity\":0.2}},\"type\":\"bar\"}],\"scattergeo\":[{\"type\":\"scattergeo\",\"marker\":{\"colorbar\":{\"outlinewidth\":0,\"ticks\":\"\"}}}],\"scatterpolar\":[{\"type\":\"scatterpolar\",\"marker\":{\"colorbar\":{\"outlinewidth\":0,\"ticks\":\"\"}}}],\"histogram\":[{\"marker\":{\"pattern\":{\"fillmode\":\"overlay\",\"size\":10,\"solidity\":0.2}},\"type\":\"histogram\"}],\"scattergl\":[{\"type\":\"scattergl\",\"marker\":{\"colorbar\":{\"outlinewidth\":0,\"ticks\":\"\"}}}],\"scatter3d\":[{\"type\":\"scatter3d\",\"line\":{\"colorbar\":{\"outlinewidth\":0,\"ticks\":\"\"}},\"marker\":{\"colorbar\":{\"outlinewidth\":0,\"ticks\":\"\"}}}],\"scattermapbox\":[{\"type\":\"scattermapbox\",\"marker\":{\"colorbar\":{\"outlinewidth\":0,\"ticks\":\"\"}}}],\"scatterternary\":[{\"type\":\"scatterternary\",\"marker\":{\"colorbar\":{\"outlinewidth\":0,\"ticks\":\"\"}}}],\"scattercarpet\":[{\"type\":\"scattercarpet\",\"marker\":{\"colorbar\":{\"outlinewidth\":0,\"ticks\":\"\"}}}],\"carpet\":[{\"aaxis\":{\"endlinecolor\":\"#2a3f5f\",\"gridcolor\":\"white\",\"linecolor\":\"white\",\"minorgridcolor\":\"white\",\"startlinecolor\":\"#2a3f5f\"},\"baxis\":{\"endlinecolor\":\"#2a3f5f\",\"gridcolor\":\"white\",\"linecolor\":\"white\",\"minorgridcolor\":\"white\",\"startlinecolor\":\"#2a3f5f\"},\"type\":\"carpet\"}],\"table\":[{\"cells\":{\"fill\":{\"color\":\"#EBF0F8\"},\"line\":{\"color\":\"white\"}},\"header\":{\"fill\":{\"color\":\"#C8D4E3\"},\"line\":{\"color\":\"white\"}},\"type\":\"table\"}],\"barpolar\":[{\"marker\":{\"line\":{\"color\":\"#E5ECF6\",\"width\":0.5},\"pattern\":{\"fillmode\":\"overlay\",\"size\":10,\"solidity\":0.2}},\"type\":\"barpolar\"}],\"pie\":[{\"automargin\":true,\"type\":\"pie\"}]},\"layout\":{\"autotypenumbers\":\"strict\",\"colorway\":[\"#636efa\",\"#EF553B\",\"#00cc96\",\"#ab63fa\",\"#FFA15A\",\"#19d3f3\",\"#FF6692\",\"#B6E880\",\"#FF97FF\",\"#FECB52\"],\"font\":{\"color\":\"#2a3f5f\"},\"hovermode\":\"closest\",\"hoverlabel\":{\"align\":\"left\"},\"paper_bgcolor\":\"white\",\"plot_bgcolor\":\"#E5ECF6\",\"polar\":{\"bgcolor\":\"#E5ECF6\",\"angularaxis\":{\"gridcolor\":\"white\",\"linecolor\":\"white\",\"ticks\":\"\"},\"radialaxis\":{\"gridcolor\":\"white\",\"linecolor\":\"white\",\"ticks\":\"\"}},\"ternary\":{\"bgcolor\":\"#E5ECF6\",\"aaxis\":{\"gridcolor\":\"white\",\"linecolor\":\"white\",\"ticks\":\"\"},\"baxis\":{\"gridcolor\":\"white\",\"linecolor\":\"white\",\"ticks\":\"\"},\"caxis\":{\"gridcolor\":\"white\",\"linecolor\":\"white\",\"ticks\":\"\"}},\"coloraxis\":{\"colorbar\":{\"outlinewidth\":0,\"ticks\":\"\"}},\"colorscale\":{\"sequential\":[[0.0,\"#0d0887\"],[0.1111111111111111,\"#46039f\"],[0.2222222222222222,\"#7201a8\"],[0.3333333333333333,\"#9c179e\"],[0.4444444444444444,\"#bd3786\"],[0.5555555555555556,\"#d8576b\"],[0.6666666666666666,\"#ed7953\"],[0.7777777777777778,\"#fb9f3a\"],[0.8888888888888888,\"#fdca26\"],[1.0,\"#f0f921\"]],\"sequentialminus\":[[0.0,\"#0d0887\"],[0.1111111111111111,\"#46039f\"],[0.2222222222222222,\"#7201a8\"],[0.3333333333333333,\"#9c179e\"],[0.4444444444444444,\"#bd3786\"],[0.5555555555555556,\"#d8576b\"],[0.6666666666666666,\"#ed7953\"],[0.7777777777777778,\"#fb9f3a\"],[0.8888888888888888,\"#fdca26\"],[1.0,\"#f0f921\"]],\"diverging\":[[0,\"#8e0152\"],[0.1,\"#c51b7d\"],[0.2,\"#de77ae\"],[0.3,\"#f1b6da\"],[0.4,\"#fde0ef\"],[0.5,\"#f7f7f7\"],[0.6,\"#e6f5d0\"],[0.7,\"#b8e186\"],[0.8,\"#7fbc41\"],[0.9,\"#4d9221\"],[1,\"#276419\"]]},\"xaxis\":{\"gridcolor\":\"white\",\"linecolor\":\"white\",\"ticks\":\"\",\"title\":{\"standoff\":15},\"zerolinecolor\":\"white\",\"automargin\":true,\"zerolinewidth\":2},\"yaxis\":{\"gridcolor\":\"white\",\"linecolor\":\"white\",\"ticks\":\"\",\"title\":{\"standoff\":15},\"zerolinecolor\":\"white\",\"automargin\":true,\"zerolinewidth\":2},\"scene\":{\"xaxis\":{\"backgroundcolor\":\"#E5ECF6\",\"gridcolor\":\"white\",\"linecolor\":\"white\",\"showbackground\":true,\"ticks\":\"\",\"zerolinecolor\":\"white\",\"gridwidth\":2},\"yaxis\":{\"backgroundcolor\":\"#E5ECF6\",\"gridcolor\":\"white\",\"linecolor\":\"white\",\"showbackground\":true,\"ticks\":\"\",\"zerolinecolor\":\"white\",\"gridwidth\":2},\"zaxis\":{\"backgroundcolor\":\"#E5ECF6\",\"gridcolor\":\"white\",\"linecolor\":\"white\",\"showbackground\":true,\"ticks\":\"\",\"zerolinecolor\":\"white\",\"gridwidth\":2}},\"shapedefaults\":{\"line\":{\"color\":\"#2a3f5f\"}},\"annotationdefaults\":{\"arrowcolor\":\"#2a3f5f\",\"arrowhead\":0,\"arrowwidth\":1},\"geo\":{\"bgcolor\":\"white\",\"landcolor\":\"#E5ECF6\",\"subunitcolor\":\"white\",\"showland\":true,\"showlakes\":true,\"lakecolor\":\"white\"},\"title\":{\"x\":0.05},\"mapbox\":{\"style\":\"light\"}}},\"xaxis\":{\"anchor\":\"y\",\"domain\":[0.0,1.0],\"title\":{\"text\":\"Datetime\"}},\"yaxis\":{\"anchor\":\"x\",\"domain\":[0.0,1.0],\"title\":{\"text\":\"value\"}},\"legend\":{\"title\":{\"text\":\"variable\"},\"tracegroupgap\":0},\"title\":{\"text\":\"AAPL Exponential Moving Averages\"}},                        {\"responsive\": true}                    ).then(function(){\n",
       "                            \n",
       "var gd = document.getElementById('8cf6beed-76d8-49f3-b9cf-561784ca15bb');\n",
       "var x = new MutationObserver(function (mutations, observer) {{\n",
       "        var display = window.getComputedStyle(gd).display;\n",
       "        if (!display || display === 'none') {{\n",
       "            console.log([gd, 'removed!']);\n",
       "            Plotly.purge(gd);\n",
       "            observer.disconnect();\n",
       "        }}\n",
       "}});\n",
       "\n",
       "// Listen for the removal of the full notebook cells\n",
       "var notebookContainer = gd.closest('#notebook-container');\n",
       "if (notebookContainer) {{\n",
       "    x.observe(notebookContainer, {childList: true});\n",
       "}}\n",
       "\n",
       "// Listen for the clearing of the current output cell\n",
       "var outputEl = gd.closest('.output');\n",
       "if (outputEl) {{\n",
       "    x.observe(outputEl, {childList: true});\n",
       "}}\n",
       "\n",
       "                        })                };                });            </script>        </div>"
      ]
     },
     "metadata": {},
     "output_type": "display_data"
    },
    {
     "data": {
      "application/vnd.plotly.v1+json": {
       "config": {
        "plotlyServerURL": "https://plot.ly"
       },
       "data": [
        {
         "hovertemplate": "Datetime=%{x}<br>MACD_12_24=%{y}<extra></extra>",
         "legendgroup": "",
         "line": {
          "color": "#636efa",
          "dash": "solid"
         },
         "marker": {
          "symbol": "circle"
         },
         "mode": "lines",
         "name": "",
         "orientation": "v",
         "showlegend": false,
         "type": "scatter",
         "x": [
          "2024-06-06T09:30:00-04:00",
          "2024-06-06T09:31:00-04:00",
          "2024-06-06T09:32:00-04:00",
          "2024-06-06T09:33:00-04:00",
          "2024-06-06T09:34:00-04:00",
          "2024-06-06T09:35:00-04:00",
          "2024-06-06T09:36:00-04:00",
          "2024-06-06T09:37:00-04:00",
          "2024-06-06T09:38:00-04:00",
          "2024-06-06T09:39:00-04:00",
          "2024-06-06T09:40:00-04:00",
          "2024-06-06T09:41:00-04:00",
          "2024-06-06T09:42:00-04:00",
          "2024-06-06T09:43:00-04:00",
          "2024-06-06T09:44:00-04:00",
          "2024-06-06T09:45:00-04:00",
          "2024-06-06T09:46:00-04:00",
          "2024-06-06T09:47:00-04:00",
          "2024-06-06T09:48:00-04:00",
          "2024-06-06T09:49:00-04:00",
          "2024-06-06T09:50:00-04:00",
          "2024-06-06T09:51:00-04:00",
          "2024-06-06T09:52:00-04:00",
          "2024-06-06T09:53:00-04:00",
          "2024-06-06T09:54:00-04:00",
          "2024-06-06T09:55:00-04:00",
          "2024-06-06T09:56:00-04:00",
          "2024-06-06T09:57:00-04:00",
          "2024-06-06T09:58:00-04:00",
          "2024-06-06T09:59:00-04:00",
          "2024-06-06T10:00:00-04:00",
          "2024-06-06T10:01:00-04:00",
          "2024-06-06T10:02:00-04:00",
          "2024-06-06T10:03:00-04:00",
          "2024-06-06T10:04:00-04:00",
          "2024-06-06T10:05:00-04:00",
          "2024-06-06T10:06:00-04:00",
          "2024-06-06T10:07:00-04:00",
          "2024-06-06T10:08:00-04:00",
          "2024-06-06T10:09:00-04:00",
          "2024-06-06T10:10:00-04:00",
          "2024-06-06T10:11:00-04:00",
          "2024-06-06T10:12:00-04:00",
          "2024-06-06T10:13:00-04:00",
          "2024-06-06T10:14:00-04:00",
          "2024-06-06T10:15:00-04:00",
          "2024-06-06T10:16:00-04:00",
          "2024-06-06T10:17:00-04:00",
          "2024-06-06T10:18:00-04:00",
          "2024-06-06T10:19:00-04:00",
          "2024-06-06T10:20:00-04:00",
          "2024-06-06T10:21:00-04:00",
          "2024-06-06T10:22:00-04:00",
          "2024-06-06T10:23:00-04:00",
          "2024-06-06T10:24:00-04:00",
          "2024-06-06T10:25:00-04:00",
          "2024-06-06T10:26:00-04:00",
          "2024-06-06T10:27:00-04:00",
          "2024-06-06T10:28:00-04:00",
          "2024-06-06T10:29:00-04:00",
          "2024-06-06T10:30:00-04:00",
          "2024-06-06T10:31:00-04:00",
          "2024-06-06T10:32:00-04:00",
          "2024-06-06T10:33:00-04:00",
          "2024-06-06T10:34:00-04:00",
          "2024-06-06T10:35:00-04:00",
          "2024-06-06T10:36:00-04:00",
          "2024-06-06T10:37:00-04:00",
          "2024-06-06T10:38:00-04:00",
          "2024-06-06T10:39:00-04:00",
          "2024-06-06T10:40:00-04:00",
          "2024-06-06T10:41:00-04:00",
          "2024-06-06T10:42:00-04:00",
          "2024-06-06T10:43:00-04:00",
          "2024-06-06T10:44:00-04:00",
          "2024-06-06T10:45:00-04:00",
          "2024-06-06T10:46:00-04:00",
          "2024-06-06T10:47:00-04:00",
          "2024-06-06T10:48:00-04:00",
          "2024-06-06T10:49:00-04:00",
          "2024-06-06T10:50:00-04:00",
          "2024-06-06T10:51:00-04:00",
          "2024-06-06T10:52:00-04:00",
          "2024-06-06T10:53:00-04:00",
          "2024-06-06T10:54:00-04:00",
          "2024-06-06T10:55:00-04:00",
          "2024-06-06T10:56:00-04:00",
          "2024-06-06T10:57:00-04:00",
          "2024-06-06T10:58:00-04:00",
          "2024-06-06T10:59:00-04:00",
          "2024-06-06T11:00:00-04:00",
          "2024-06-06T11:01:00-04:00",
          "2024-06-06T11:02:00-04:00",
          "2024-06-06T11:03:00-04:00",
          "2024-06-06T11:04:00-04:00",
          "2024-06-06T11:05:00-04:00",
          "2024-06-06T11:06:00-04:00",
          "2024-06-06T11:07:00-04:00",
          "2024-06-06T11:08:00-04:00",
          "2024-06-06T11:09:00-04:00",
          "2024-06-06T11:10:00-04:00",
          "2024-06-06T11:11:00-04:00",
          "2024-06-06T11:12:00-04:00",
          "2024-06-06T11:13:00-04:00",
          "2024-06-06T11:14:00-04:00",
          "2024-06-06T11:15:00-04:00",
          "2024-06-06T11:16:00-04:00",
          "2024-06-06T11:17:00-04:00",
          "2024-06-06T11:18:00-04:00",
          "2024-06-06T11:19:00-04:00",
          "2024-06-06T11:20:00-04:00",
          "2024-06-06T11:21:00-04:00",
          "2024-06-06T11:22:00-04:00",
          "2024-06-06T11:23:00-04:00",
          "2024-06-06T11:24:00-04:00",
          "2024-06-06T11:25:00-04:00",
          "2024-06-06T11:26:00-04:00",
          "2024-06-06T11:27:00-04:00",
          "2024-06-06T11:28:00-04:00",
          "2024-06-06T11:29:00-04:00",
          "2024-06-06T11:30:00-04:00",
          "2024-06-06T11:31:00-04:00",
          "2024-06-06T11:32:00-04:00",
          "2024-06-06T11:33:00-04:00",
          "2024-06-06T11:34:00-04:00",
          "2024-06-06T11:35:00-04:00",
          "2024-06-06T11:36:00-04:00",
          "2024-06-06T11:37:00-04:00",
          "2024-06-06T11:38:00-04:00",
          "2024-06-06T11:39:00-04:00",
          "2024-06-06T11:40:00-04:00",
          "2024-06-06T11:41:00-04:00",
          "2024-06-06T11:42:00-04:00",
          "2024-06-06T11:43:00-04:00",
          "2024-06-06T11:44:00-04:00",
          "2024-06-06T11:45:00-04:00",
          "2024-06-06T11:46:00-04:00",
          "2024-06-06T11:47:00-04:00",
          "2024-06-06T11:48:00-04:00",
          "2024-06-06T11:49:00-04:00",
          "2024-06-06T11:50:00-04:00",
          "2024-06-06T11:51:00-04:00",
          "2024-06-06T11:52:00-04:00",
          "2024-06-06T11:53:00-04:00",
          "2024-06-06T11:54:00-04:00",
          "2024-06-06T11:55:00-04:00",
          "2024-06-06T11:56:00-04:00",
          "2024-06-06T11:57:00-04:00",
          "2024-06-06T11:58:00-04:00",
          "2024-06-06T11:59:00-04:00",
          "2024-06-06T12:00:00-04:00",
          "2024-06-06T12:01:00-04:00",
          "2024-06-06T12:02:00-04:00",
          "2024-06-06T12:03:00-04:00",
          "2024-06-06T12:04:00-04:00",
          "2024-06-06T12:05:00-04:00",
          "2024-06-06T12:06:00-04:00",
          "2024-06-06T12:07:00-04:00",
          "2024-06-06T12:08:00-04:00",
          "2024-06-06T12:09:00-04:00",
          "2024-06-06T12:10:00-04:00",
          "2024-06-06T12:11:00-04:00",
          "2024-06-06T12:12:00-04:00",
          "2024-06-06T12:13:00-04:00",
          "2024-06-06T12:14:00-04:00",
          "2024-06-06T12:15:00-04:00",
          "2024-06-06T12:16:00-04:00",
          "2024-06-06T12:17:00-04:00",
          "2024-06-06T12:18:00-04:00",
          "2024-06-06T12:19:00-04:00",
          "2024-06-06T12:20:00-04:00",
          "2024-06-06T12:21:00-04:00",
          "2024-06-06T12:22:00-04:00",
          "2024-06-06T12:23:00-04:00",
          "2024-06-06T12:24:00-04:00",
          "2024-06-06T12:25:00-04:00",
          "2024-06-06T12:26:00-04:00",
          "2024-06-06T12:27:00-04:00",
          "2024-06-06T12:28:00-04:00",
          "2024-06-06T12:29:00-04:00",
          "2024-06-06T12:30:00-04:00",
          "2024-06-06T12:31:00-04:00",
          "2024-06-06T12:32:00-04:00",
          "2024-06-06T12:33:00-04:00",
          "2024-06-06T12:34:00-04:00",
          "2024-06-06T12:35:00-04:00",
          "2024-06-06T12:36:00-04:00",
          "2024-06-06T12:37:00-04:00",
          "2024-06-06T12:38:00-04:00",
          "2024-06-06T12:39:00-04:00",
          "2024-06-06T12:40:00-04:00",
          "2024-06-06T12:41:00-04:00",
          "2024-06-06T12:42:00-04:00",
          "2024-06-06T12:43:00-04:00",
          "2024-06-06T12:44:00-04:00",
          "2024-06-06T12:45:00-04:00",
          "2024-06-06T12:46:00-04:00",
          "2024-06-06T12:47:00-04:00",
          "2024-06-06T12:48:00-04:00",
          "2024-06-06T12:49:00-04:00",
          "2024-06-06T12:50:00-04:00",
          "2024-06-06T12:51:00-04:00",
          "2024-06-06T12:52:00-04:00",
          "2024-06-06T12:53:00-04:00",
          "2024-06-06T12:54:00-04:00",
          "2024-06-06T12:55:00-04:00",
          "2024-06-06T12:56:00-04:00",
          "2024-06-06T12:57:00-04:00",
          "2024-06-06T12:58:00-04:00",
          "2024-06-06T12:59:00-04:00",
          "2024-06-06T13:00:00-04:00",
          "2024-06-06T13:01:00-04:00",
          "2024-06-06T13:02:00-04:00",
          "2024-06-06T13:03:00-04:00",
          "2024-06-06T13:04:00-04:00",
          "2024-06-06T13:05:00-04:00",
          "2024-06-06T13:06:00-04:00",
          "2024-06-06T13:07:00-04:00",
          "2024-06-06T13:08:00-04:00",
          "2024-06-06T13:09:00-04:00",
          "2024-06-06T13:10:00-04:00",
          "2024-06-06T13:11:00-04:00",
          "2024-06-06T13:12:00-04:00",
          "2024-06-06T13:13:00-04:00",
          "2024-06-06T13:14:00-04:00",
          "2024-06-06T13:15:00-04:00",
          "2024-06-06T13:16:00-04:00",
          "2024-06-06T13:17:00-04:00",
          "2024-06-06T13:18:00-04:00",
          "2024-06-06T13:19:00-04:00",
          "2024-06-06T13:20:00-04:00",
          "2024-06-06T13:21:00-04:00",
          "2024-06-06T13:22:00-04:00",
          "2024-06-06T13:23:00-04:00",
          "2024-06-06T13:24:00-04:00",
          "2024-06-06T13:25:00-04:00",
          "2024-06-06T13:26:00-04:00",
          "2024-06-06T13:27:00-04:00",
          "2024-06-06T13:28:00-04:00",
          "2024-06-06T13:29:00-04:00",
          "2024-06-06T13:30:00-04:00",
          "2024-06-06T13:31:00-04:00",
          "2024-06-06T13:32:00-04:00",
          "2024-06-06T13:33:00-04:00",
          "2024-06-06T13:34:00-04:00",
          "2024-06-06T13:35:00-04:00",
          "2024-06-06T13:36:00-04:00",
          "2024-06-06T13:37:00-04:00",
          "2024-06-06T13:38:00-04:00",
          "2024-06-06T13:39:00-04:00",
          "2024-06-06T13:40:00-04:00",
          "2024-06-06T13:41:00-04:00",
          "2024-06-06T13:42:00-04:00",
          "2024-06-06T13:43:00-04:00",
          "2024-06-06T13:44:00-04:00",
          "2024-06-06T13:45:00-04:00",
          "2024-06-06T13:46:00-04:00",
          "2024-06-06T13:47:00-04:00",
          "2024-06-06T13:48:00-04:00",
          "2024-06-06T13:49:00-04:00",
          "2024-06-06T13:50:00-04:00",
          "2024-06-06T13:51:00-04:00",
          "2024-06-06T13:52:00-04:00",
          "2024-06-06T13:53:00-04:00",
          "2024-06-06T13:54:00-04:00",
          "2024-06-06T13:55:00-04:00",
          "2024-06-06T13:56:00-04:00",
          "2024-06-06T13:57:00-04:00",
          "2024-06-06T13:58:00-04:00",
          "2024-06-06T13:59:00-04:00",
          "2024-06-06T14:00:00-04:00",
          "2024-06-06T14:01:00-04:00",
          "2024-06-06T14:02:00-04:00",
          "2024-06-06T14:03:00-04:00",
          "2024-06-06T14:04:00-04:00",
          "2024-06-06T14:05:00-04:00",
          "2024-06-06T14:06:00-04:00",
          "2024-06-06T14:07:00-04:00",
          "2024-06-06T14:08:00-04:00",
          "2024-06-06T14:09:00-04:00",
          "2024-06-06T14:10:00-04:00",
          "2024-06-06T14:11:00-04:00",
          "2024-06-06T14:12:00-04:00",
          "2024-06-06T14:13:00-04:00",
          "2024-06-06T14:14:00-04:00",
          "2024-06-06T14:15:00-04:00",
          "2024-06-06T14:16:00-04:00",
          "2024-06-06T14:17:00-04:00",
          "2024-06-06T14:18:00-04:00",
          "2024-06-06T14:19:00-04:00",
          "2024-06-06T14:20:00-04:00",
          "2024-06-06T14:21:00-04:00",
          "2024-06-06T14:22:00-04:00",
          "2024-06-06T14:23:00-04:00",
          "2024-06-06T14:24:00-04:00",
          "2024-06-06T14:25:00-04:00",
          "2024-06-06T14:26:00-04:00",
          "2024-06-06T14:27:00-04:00",
          "2024-06-06T14:28:00-04:00",
          "2024-06-06T14:29:00-04:00",
          "2024-06-06T14:30:00-04:00",
          "2024-06-06T14:31:00-04:00",
          "2024-06-06T14:32:00-04:00",
          "2024-06-06T14:33:00-04:00",
          "2024-06-06T14:34:00-04:00",
          "2024-06-06T14:35:00-04:00",
          "2024-06-06T14:36:00-04:00",
          "2024-06-06T14:37:00-04:00",
          "2024-06-06T14:38:00-04:00",
          "2024-06-06T14:39:00-04:00",
          "2024-06-06T14:40:00-04:00",
          "2024-06-06T14:41:00-04:00",
          "2024-06-06T14:42:00-04:00",
          "2024-06-06T14:43:00-04:00",
          "2024-06-06T14:44:00-04:00",
          "2024-06-06T14:45:00-04:00",
          "2024-06-06T14:46:00-04:00",
          "2024-06-06T14:47:00-04:00",
          "2024-06-06T14:48:00-04:00",
          "2024-06-06T14:49:00-04:00",
          "2024-06-06T14:50:00-04:00",
          "2024-06-06T14:51:00-04:00",
          "2024-06-06T14:52:00-04:00",
          "2024-06-06T14:53:00-04:00",
          "2024-06-06T14:54:00-04:00",
          "2024-06-06T14:55:00-04:00",
          "2024-06-06T14:56:00-04:00",
          "2024-06-06T14:57:00-04:00",
          "2024-06-06T14:58:00-04:00",
          "2024-06-06T14:59:00-04:00",
          "2024-06-06T15:00:00-04:00",
          "2024-06-06T15:01:00-04:00",
          "2024-06-06T15:02:00-04:00",
          "2024-06-06T15:03:00-04:00",
          "2024-06-06T15:04:00-04:00",
          "2024-06-06T15:05:00-04:00",
          "2024-06-06T15:06:00-04:00",
          "2024-06-06T15:07:00-04:00",
          "2024-06-06T15:08:00-04:00",
          "2024-06-06T15:09:00-04:00",
          "2024-06-06T15:10:00-04:00",
          "2024-06-06T15:11:00-04:00",
          "2024-06-06T15:12:00-04:00",
          "2024-06-06T15:13:00-04:00",
          "2024-06-06T15:14:00-04:00",
          "2024-06-06T15:15:00-04:00",
          "2024-06-06T15:16:00-04:00",
          "2024-06-06T15:17:00-04:00",
          "2024-06-06T15:18:00-04:00",
          "2024-06-06T15:19:00-04:00",
          "2024-06-06T15:20:00-04:00",
          "2024-06-06T15:21:00-04:00",
          "2024-06-06T15:22:00-04:00",
          "2024-06-06T15:23:00-04:00",
          "2024-06-06T15:24:00-04:00",
          "2024-06-06T15:25:00-04:00",
          "2024-06-06T15:26:00-04:00",
          "2024-06-06T15:27:00-04:00",
          "2024-06-06T15:28:00-04:00",
          "2024-06-06T15:29:00-04:00",
          "2024-06-06T15:30:00-04:00",
          "2024-06-06T15:31:00-04:00",
          "2024-06-06T15:32:00-04:00",
          "2024-06-06T15:33:00-04:00",
          "2024-06-06T15:34:00-04:00",
          "2024-06-06T15:35:00-04:00",
          "2024-06-06T15:36:00-04:00",
          "2024-06-06T15:37:00-04:00",
          "2024-06-06T15:38:00-04:00",
          "2024-06-06T15:39:00-04:00",
          "2024-06-06T15:40:00-04:00",
          "2024-06-06T15:41:00-04:00",
          "2024-06-06T15:42:00-04:00",
          "2024-06-06T15:43:00-04:00",
          "2024-06-06T15:44:00-04:00",
          "2024-06-06T15:45:00-04:00",
          "2024-06-06T15:46:00-04:00",
          "2024-06-06T15:47:00-04:00",
          "2024-06-06T15:48:00-04:00",
          "2024-06-06T15:49:00-04:00",
          "2024-06-06T15:50:00-04:00",
          "2024-06-06T15:51:00-04:00",
          "2024-06-06T15:52:00-04:00",
          "2024-06-06T15:53:00-04:00",
          "2024-06-06T15:54:00-04:00",
          "2024-06-06T15:55:00-04:00",
          "2024-06-06T15:56:00-04:00",
          "2024-06-06T15:57:00-04:00",
          "2024-06-06T15:58:00-04:00",
          "2024-06-06T15:59:00-04:00"
         ],
         "xaxis": "x",
         "y": [
          0,
          0,
          0,
          0,
          0,
          0,
          0,
          0,
          0,
          0,
          0,
          0,
          0,
          -0.000865124642103865,
          -0.03658367382365668,
          -0.0710264127188509,
          -0.09158082541145518,
          -0.13030339745080255,
          -0.11426335146953193,
          -0.10501283975588649,
          -0.09365309436373082,
          -0.08255191721659116,
          -0.12042683067329563,
          -0.07741160611885789,
          -0.06656923289079941,
          -0.06364681857780852,
          -0.025379744393063675,
          0.0012475161867939732,
          0.030756844938764516,
          0.08070876581180642,
          0.12309810040218849,
          0.13779108328549228,
          0.150640508416501,
          0.12408599911287865,
          0.16452790555209162,
          0.1228079004366407,
          0.10217663260806376,
          0.07355491715097173,
          0.05874659606655541,
          0.059644400402817155,
          0.05463101004005466,
          0.07130390000037323,
          0.049232173430368675,
          0.05013301550300753,
          0.023752717392255818,
          0.07817292776263685,
          0.08863474277782757,
          0.07988607249504298,
          0.07971429895525262,
          0.08498570816357187,
          0.06554775256230982,
          0.06855258812825582,
          0.07956995753255569,
          0.0918002003785432,
          0.08764708367132812,
          0.09621480041508335,
          0.11506030955854385,
          0.0677371089769565,
          0.05792844720537005,
          0.06981834071982007,
          0.048979261015063,
          0.026024877581704686,
          0.028872238121863347,
          -0.0018676775631263354,
          -0.013504143199469354,
          -0.06083372592823366,
          -0.10219060067186092,
          -0.13319041202359472,
          -0.16439171639089523,
          -0.16130578241168791,
          -0.14910768762385374,
          -0.15284716921712516,
          -0.12893965760892456,
          -0.11323843407205914,
          -0.1229774932433827,
          -0.1240078912121021,
          -0.15745005306172288,
          -0.1249224388500636,
          -0.08445891645462211,
          -0.06742636093247256,
          -0.05923906773824683,
          -0.08218032030393374,
          -0.08482397374163497,
          -0.05849230675804051,
          -0.06283773056119912,
          -0.05065312641676201,
          -0.022334450021190833,
          0.006708961553954396,
          0.02614893580221178,
          -0.002597396553397857,
          -0.025075088626465458,
          -0.03159647997577508,
          -0.029809730911239285,
          -0.004959694290562311,
          -0.005111450506404935,
          -0.017445068834007316,
          0.004333457842932376,
          0.016271125683573473,
          0.03035408815730989,
          0.011229410660774874,
          -0.0006030033347883546,
          0.0098180347774246,
          0.00822307001735112,
          0.008946145011947237,
          0.02713067534355673,
          0.01927595189170006,
          0.011967026287322824,
          0.019798341850275847,
          0.010283982539817771,
          -0.014859516662966143,
          -0.03934987258526235,
          -0.014929530687112447,
          0.0007725520345331915,
          -0.005696662107538941,
          0.006817320332714871,
          0.016538186679412092,
          0.026255351093539048,
          0.03091278029359046,
          0.037387833133635695,
          0.023800952626459093,
          0.011019344169312717,
          0.005574621776645472,
          0.020750525424631405,
          0.016114798025398613,
          0.007750324372807427,
          0.017597603651609006,
          0.017371057785027233,
          0.004863494774468791,
          -0.006110445083209015,
          -0.0191455900027222,
          -0.0161061400652045,
          -0.002258340249511548,
          -0.015330529627703982,
          -0.012513727234107819,
          -0.036106031712392905,
          -0.03989828280711549,
          -0.02994645568270471,
          -0.0396991318278026,
          -0.042304604699836545,
          -0.042356544529127405,
          -0.048249291529543825,
          -0.045111807517514535,
          -0.06336051900129291,
          -0.07840432457336988,
          -0.06949335825552794,
          -0.07709245304423007,
          -0.06662518733551792,
          -0.07164402710853324,
          -0.06022178301424219,
          -0.050728662459818,
          -0.03652573000556458,
          -0.05446542141689292,
          -0.05611967494206738,
          -0.06092902670016542,
          -0.05748296498035188,
          -0.0447942584386567,
          -0.03670074085519559,
          -0.02612155943114658,
          -0.014400219482382681,
          0.0026352207930813165,
          -0.009372619388130943,
          0.0010364335627741639,
          -0.001283781883643087,
          0.02031597305563082,
          0.0359449913004255,
          0.03698923225798012,
          0.041439939778655344,
          0.04682566394137666,
          0.049372355726035266,
          0.0542794937491351,
          0.05642330278047325,
          0.04776350429460763,
          0.06364564356894675,
          0.0679810671506118,
          0.07611403612213508,
          0.058918782178125184,
          0.04487434872584117,
          0.03535148959480239,
          0.04623304696039554,
          0.03727112830259216,
          0.03609558646110145,
          0.03714745674525943,
          0.030403851614380528,
          0.020333634494420494,
          0.012805960960747598,
          -0.003152181879215732,
          -0.008947217966067456,
          0.00030859557011808647,
          0.007558664209000199,
          0.006743668956573856,
          -0.006582576767186765,
          -0.010535359676907774,
          -0.00933799366924859,
          -0.01673477083826924,
          -0.01978134659736952,
          -0.01733686818977276,
          -0.01358033733330899,
          -0.005021737259482961,
          -0.005314280957890105,
          -0.0014407730264451857,
          -0.0026031676616184996,
          0.001015507933658455,
          -0.006730225286844416,
          0.00941932290902514,
          0.006070904338088212,
          0.0012973630780663825,
          0.010323113701673492,
          0.019856156083022825,
          0.013539540653368931,
          0.017583582790877017,
          0.04376787470329191,
          0.045015848266672265,
          0.05305777894372454,
          0.0673888696049687,
          0.0753285568074773,
          0.06659235881522818,
          0.07366057283724103,
          0.0844246400359907,
          0.0880280749823612,
          0.08841666375641921,
          0.10589666448558432,
          0.11219863129170449,
          0.08723067588047684,
          0.07004446510202911,
          0.06270662419501605,
          0.04555115297478096,
          0.028545538529584746,
          0.023213870625880872,
          0.012345863514553912,
          0.00564988584699222,
          -0.006891804858781825,
          -0.032374757202461524,
          -0.07440084972211025,
          -0.1062530123664942,
          -0.1158607233967075,
          -0.11007502984588768,
          -0.11376344582899378,
          -0.1155109756023478,
          -0.10544196618675983,
          -0.10695441917513904,
          -0.0945436057393465,
          -0.10914842878079867,
          -0.1092645379233943,
          -0.09172513604440269,
          -0.06838360240530506,
          -0.06239191040572223,
          -0.047902688212388966,
          -0.039235160256566814,
          -0.03227884611459331,
          -0.023706842668445915,
          -0.024310896923850578,
          -0.01202031113913904,
          -0.009830029290327502,
          0.016077463259080105,
          0.03293233589252509,
          0.021757426883141306,
          0.013540956263625503,
          0.011491471005598441,
          0.005595643455677646,
          -0.004465682754698719,
          -0.00901066480119539,
          -0.007848770058018317,
          -0.002800266071972146,
          -0.004735078114890712,
          -0.006965163351395631,
          -0.020596922945031793,
          -0.026289479996393084,
          -0.025025783191466644,
          -0.025995321301820695,
          -0.028998971777440374,
          -0.02877248434654689,
          -0.025698141503283978,
          -0.02523990615082994,
          -0.026663872655490195,
          -0.03780357569016246,
          -0.04948738567460964,
          -0.03530412602916044,
          -0.0482027937963494,
          -0.06922277082836104,
          -0.08318974171095306,
          -0.10552670235580308,
          -0.10951851769613086,
          -0.11250352477443926,
          -0.12198098505672306,
          -0.1080663122995702,
          -0.10035097826306583,
          -0.0898909875529057,
          -0.06866195016152687,
          -0.08676017866247321,
          -0.07358217165332803,
          -0.06149836142188292,
          -0.07207969216756283,
          -0.0390797232791158,
          -0.022614522716054353,
          -0.01316420954603359,
          0.025124382638125553,
          0.03765260413356941,
          0.04316340283514819,
          0.05069261272993231,
          0.05098919477848085,
          0.07654377874214902,
          0.08812172523715844,
          0.07718656874465069,
          0.09985895971283298,
          0.09029692174109982,
          0.08703588583435362,
          0.06791590521407898,
          0.029910333201371486,
          0.012439954744650095,
          0.00776923646211003,
          -0.0061447252183484125,
          -0.01720843941018302,
          -0.04232974851342419,
          -0.0587693478742608,
          -0.04260598956585682,
          -0.053786432317565414,
          -0.06556419813884418,
          -0.07743895350324692,
          -0.06862604379634263,
          -0.0596248111178852,
          -0.06254964676142549,
          -0.06551577530768782,
          -0.06343785824523707,
          -0.050393906788997356,
          -0.026700305834907567,
          -0.010502043040190756,
          -0.013550463763834841,
          -0.007073382240861292,
          -0.009709386413021548,
          -0.00033094232972530335,
          -0.006442144014641826,
          -0.01052402383194817,
          -0.0008932568344732772,
          -0.0005531278261798889,
          0.008453185901402094,
          0.0042995824092315615,
          -0.003498669725217951,
          0.002095551572807608,
          0.004112213971922074,
          -0.00563726813280141,
          -0.00942326500930335,
          -0.012828189068017082,
          -0.020521642461915235,
          -0.025102502353206546,
          -0.041787202637038945,
          -0.0452045120935054,
          -0.055866678033623884,
          -0.052288086733142336,
          -0.035095799135689276,
          -0.018007008107986167,
          -0.009155661109389257,
          0.0005019178253178325,
          -0.0025090300612475858,
          -0.005247019235497419,
          -0.008884042057474062,
          -0.01429266736943191,
          -0.008673119635233206,
          0.005773883984943495,
          0.012603106539188502,
          0.013526770285608336,
          0.028524471283077446,
          0.03379354857236194,
          0.03492431762663273,
          0.029730482893370436,
          0.03661115976822771,
          0.04184906204241656,
          0.03197837071431309,
          0.02739922011028284,
          0.011232842808993837,
          -0.006604911211269382,
          -0.01298035391047847,
          -0.012053027010978212,
          -0.02979425393343149,
          -0.054474578675296925,
          -0.053394276327566104,
          -0.053578906985791264,
          -0.07292847561390658,
          -0.09170249105520156,
          -0.0829991504130021,
          -0.07690041181825791,
          -0.05302681106422824,
          -0.07594728973978704,
          -0.1209148987492199,
          -0.1681028637537736,
          -0.19489541782343167,
          -0.21058648172800076,
          -0.22459092638391098,
          -0.23251180252680115,
          -0.21733276005568314,
          -0.19336080045567883
         ],
         "yaxis": "y"
        }
       ],
       "layout": {
        "legend": {
         "tracegroupgap": 0
        },
        "template": {
         "data": {
          "bar": [
           {
            "error_x": {
             "color": "#2a3f5f"
            },
            "error_y": {
             "color": "#2a3f5f"
            },
            "marker": {
             "line": {
              "color": "#E5ECF6",
              "width": 0.5
             },
             "pattern": {
              "fillmode": "overlay",
              "size": 10,
              "solidity": 0.2
             }
            },
            "type": "bar"
           }
          ],
          "barpolar": [
           {
            "marker": {
             "line": {
              "color": "#E5ECF6",
              "width": 0.5
             },
             "pattern": {
              "fillmode": "overlay",
              "size": 10,
              "solidity": 0.2
             }
            },
            "type": "barpolar"
           }
          ],
          "carpet": [
           {
            "aaxis": {
             "endlinecolor": "#2a3f5f",
             "gridcolor": "white",
             "linecolor": "white",
             "minorgridcolor": "white",
             "startlinecolor": "#2a3f5f"
            },
            "baxis": {
             "endlinecolor": "#2a3f5f",
             "gridcolor": "white",
             "linecolor": "white",
             "minorgridcolor": "white",
             "startlinecolor": "#2a3f5f"
            },
            "type": "carpet"
           }
          ],
          "choropleth": [
           {
            "colorbar": {
             "outlinewidth": 0,
             "ticks": ""
            },
            "type": "choropleth"
           }
          ],
          "contour": [
           {
            "colorbar": {
             "outlinewidth": 0,
             "ticks": ""
            },
            "colorscale": [
             [
              0,
              "#0d0887"
             ],
             [
              0.1111111111111111,
              "#46039f"
             ],
             [
              0.2222222222222222,
              "#7201a8"
             ],
             [
              0.3333333333333333,
              "#9c179e"
             ],
             [
              0.4444444444444444,
              "#bd3786"
             ],
             [
              0.5555555555555556,
              "#d8576b"
             ],
             [
              0.6666666666666666,
              "#ed7953"
             ],
             [
              0.7777777777777778,
              "#fb9f3a"
             ],
             [
              0.8888888888888888,
              "#fdca26"
             ],
             [
              1,
              "#f0f921"
             ]
            ],
            "type": "contour"
           }
          ],
          "contourcarpet": [
           {
            "colorbar": {
             "outlinewidth": 0,
             "ticks": ""
            },
            "type": "contourcarpet"
           }
          ],
          "heatmap": [
           {
            "colorbar": {
             "outlinewidth": 0,
             "ticks": ""
            },
            "colorscale": [
             [
              0,
              "#0d0887"
             ],
             [
              0.1111111111111111,
              "#46039f"
             ],
             [
              0.2222222222222222,
              "#7201a8"
             ],
             [
              0.3333333333333333,
              "#9c179e"
             ],
             [
              0.4444444444444444,
              "#bd3786"
             ],
             [
              0.5555555555555556,
              "#d8576b"
             ],
             [
              0.6666666666666666,
              "#ed7953"
             ],
             [
              0.7777777777777778,
              "#fb9f3a"
             ],
             [
              0.8888888888888888,
              "#fdca26"
             ],
             [
              1,
              "#f0f921"
             ]
            ],
            "type": "heatmap"
           }
          ],
          "heatmapgl": [
           {
            "colorbar": {
             "outlinewidth": 0,
             "ticks": ""
            },
            "colorscale": [
             [
              0,
              "#0d0887"
             ],
             [
              0.1111111111111111,
              "#46039f"
             ],
             [
              0.2222222222222222,
              "#7201a8"
             ],
             [
              0.3333333333333333,
              "#9c179e"
             ],
             [
              0.4444444444444444,
              "#bd3786"
             ],
             [
              0.5555555555555556,
              "#d8576b"
             ],
             [
              0.6666666666666666,
              "#ed7953"
             ],
             [
              0.7777777777777778,
              "#fb9f3a"
             ],
             [
              0.8888888888888888,
              "#fdca26"
             ],
             [
              1,
              "#f0f921"
             ]
            ],
            "type": "heatmapgl"
           }
          ],
          "histogram": [
           {
            "marker": {
             "pattern": {
              "fillmode": "overlay",
              "size": 10,
              "solidity": 0.2
             }
            },
            "type": "histogram"
           }
          ],
          "histogram2d": [
           {
            "colorbar": {
             "outlinewidth": 0,
             "ticks": ""
            },
            "colorscale": [
             [
              0,
              "#0d0887"
             ],
             [
              0.1111111111111111,
              "#46039f"
             ],
             [
              0.2222222222222222,
              "#7201a8"
             ],
             [
              0.3333333333333333,
              "#9c179e"
             ],
             [
              0.4444444444444444,
              "#bd3786"
             ],
             [
              0.5555555555555556,
              "#d8576b"
             ],
             [
              0.6666666666666666,
              "#ed7953"
             ],
             [
              0.7777777777777778,
              "#fb9f3a"
             ],
             [
              0.8888888888888888,
              "#fdca26"
             ],
             [
              1,
              "#f0f921"
             ]
            ],
            "type": "histogram2d"
           }
          ],
          "histogram2dcontour": [
           {
            "colorbar": {
             "outlinewidth": 0,
             "ticks": ""
            },
            "colorscale": [
             [
              0,
              "#0d0887"
             ],
             [
              0.1111111111111111,
              "#46039f"
             ],
             [
              0.2222222222222222,
              "#7201a8"
             ],
             [
              0.3333333333333333,
              "#9c179e"
             ],
             [
              0.4444444444444444,
              "#bd3786"
             ],
             [
              0.5555555555555556,
              "#d8576b"
             ],
             [
              0.6666666666666666,
              "#ed7953"
             ],
             [
              0.7777777777777778,
              "#fb9f3a"
             ],
             [
              0.8888888888888888,
              "#fdca26"
             ],
             [
              1,
              "#f0f921"
             ]
            ],
            "type": "histogram2dcontour"
           }
          ],
          "mesh3d": [
           {
            "colorbar": {
             "outlinewidth": 0,
             "ticks": ""
            },
            "type": "mesh3d"
           }
          ],
          "parcoords": [
           {
            "line": {
             "colorbar": {
              "outlinewidth": 0,
              "ticks": ""
             }
            },
            "type": "parcoords"
           }
          ],
          "pie": [
           {
            "automargin": true,
            "type": "pie"
           }
          ],
          "scatter": [
           {
            "fillpattern": {
             "fillmode": "overlay",
             "size": 10,
             "solidity": 0.2
            },
            "type": "scatter"
           }
          ],
          "scatter3d": [
           {
            "line": {
             "colorbar": {
              "outlinewidth": 0,
              "ticks": ""
             }
            },
            "marker": {
             "colorbar": {
              "outlinewidth": 0,
              "ticks": ""
             }
            },
            "type": "scatter3d"
           }
          ],
          "scattercarpet": [
           {
            "marker": {
             "colorbar": {
              "outlinewidth": 0,
              "ticks": ""
             }
            },
            "type": "scattercarpet"
           }
          ],
          "scattergeo": [
           {
            "marker": {
             "colorbar": {
              "outlinewidth": 0,
              "ticks": ""
             }
            },
            "type": "scattergeo"
           }
          ],
          "scattergl": [
           {
            "marker": {
             "colorbar": {
              "outlinewidth": 0,
              "ticks": ""
             }
            },
            "type": "scattergl"
           }
          ],
          "scattermapbox": [
           {
            "marker": {
             "colorbar": {
              "outlinewidth": 0,
              "ticks": ""
             }
            },
            "type": "scattermapbox"
           }
          ],
          "scatterpolar": [
           {
            "marker": {
             "colorbar": {
              "outlinewidth": 0,
              "ticks": ""
             }
            },
            "type": "scatterpolar"
           }
          ],
          "scatterpolargl": [
           {
            "marker": {
             "colorbar": {
              "outlinewidth": 0,
              "ticks": ""
             }
            },
            "type": "scatterpolargl"
           }
          ],
          "scatterternary": [
           {
            "marker": {
             "colorbar": {
              "outlinewidth": 0,
              "ticks": ""
             }
            },
            "type": "scatterternary"
           }
          ],
          "surface": [
           {
            "colorbar": {
             "outlinewidth": 0,
             "ticks": ""
            },
            "colorscale": [
             [
              0,
              "#0d0887"
             ],
             [
              0.1111111111111111,
              "#46039f"
             ],
             [
              0.2222222222222222,
              "#7201a8"
             ],
             [
              0.3333333333333333,
              "#9c179e"
             ],
             [
              0.4444444444444444,
              "#bd3786"
             ],
             [
              0.5555555555555556,
              "#d8576b"
             ],
             [
              0.6666666666666666,
              "#ed7953"
             ],
             [
              0.7777777777777778,
              "#fb9f3a"
             ],
             [
              0.8888888888888888,
              "#fdca26"
             ],
             [
              1,
              "#f0f921"
             ]
            ],
            "type": "surface"
           }
          ],
          "table": [
           {
            "cells": {
             "fill": {
              "color": "#EBF0F8"
             },
             "line": {
              "color": "white"
             }
            },
            "header": {
             "fill": {
              "color": "#C8D4E3"
             },
             "line": {
              "color": "white"
             }
            },
            "type": "table"
           }
          ]
         },
         "layout": {
          "annotationdefaults": {
           "arrowcolor": "#2a3f5f",
           "arrowhead": 0,
           "arrowwidth": 1
          },
          "autotypenumbers": "strict",
          "coloraxis": {
           "colorbar": {
            "outlinewidth": 0,
            "ticks": ""
           }
          },
          "colorscale": {
           "diverging": [
            [
             0,
             "#8e0152"
            ],
            [
             0.1,
             "#c51b7d"
            ],
            [
             0.2,
             "#de77ae"
            ],
            [
             0.3,
             "#f1b6da"
            ],
            [
             0.4,
             "#fde0ef"
            ],
            [
             0.5,
             "#f7f7f7"
            ],
            [
             0.6,
             "#e6f5d0"
            ],
            [
             0.7,
             "#b8e186"
            ],
            [
             0.8,
             "#7fbc41"
            ],
            [
             0.9,
             "#4d9221"
            ],
            [
             1,
             "#276419"
            ]
           ],
           "sequential": [
            [
             0,
             "#0d0887"
            ],
            [
             0.1111111111111111,
             "#46039f"
            ],
            [
             0.2222222222222222,
             "#7201a8"
            ],
            [
             0.3333333333333333,
             "#9c179e"
            ],
            [
             0.4444444444444444,
             "#bd3786"
            ],
            [
             0.5555555555555556,
             "#d8576b"
            ],
            [
             0.6666666666666666,
             "#ed7953"
            ],
            [
             0.7777777777777778,
             "#fb9f3a"
            ],
            [
             0.8888888888888888,
             "#fdca26"
            ],
            [
             1,
             "#f0f921"
            ]
           ],
           "sequentialminus": [
            [
             0,
             "#0d0887"
            ],
            [
             0.1111111111111111,
             "#46039f"
            ],
            [
             0.2222222222222222,
             "#7201a8"
            ],
            [
             0.3333333333333333,
             "#9c179e"
            ],
            [
             0.4444444444444444,
             "#bd3786"
            ],
            [
             0.5555555555555556,
             "#d8576b"
            ],
            [
             0.6666666666666666,
             "#ed7953"
            ],
            [
             0.7777777777777778,
             "#fb9f3a"
            ],
            [
             0.8888888888888888,
             "#fdca26"
            ],
            [
             1,
             "#f0f921"
            ]
           ]
          },
          "colorway": [
           "#636efa",
           "#EF553B",
           "#00cc96",
           "#ab63fa",
           "#FFA15A",
           "#19d3f3",
           "#FF6692",
           "#B6E880",
           "#FF97FF",
           "#FECB52"
          ],
          "font": {
           "color": "#2a3f5f"
          },
          "geo": {
           "bgcolor": "white",
           "lakecolor": "white",
           "landcolor": "#E5ECF6",
           "showlakes": true,
           "showland": true,
           "subunitcolor": "white"
          },
          "hoverlabel": {
           "align": "left"
          },
          "hovermode": "closest",
          "mapbox": {
           "style": "light"
          },
          "paper_bgcolor": "white",
          "plot_bgcolor": "#E5ECF6",
          "polar": {
           "angularaxis": {
            "gridcolor": "white",
            "linecolor": "white",
            "ticks": ""
           },
           "bgcolor": "#E5ECF6",
           "radialaxis": {
            "gridcolor": "white",
            "linecolor": "white",
            "ticks": ""
           }
          },
          "scene": {
           "xaxis": {
            "backgroundcolor": "#E5ECF6",
            "gridcolor": "white",
            "gridwidth": 2,
            "linecolor": "white",
            "showbackground": true,
            "ticks": "",
            "zerolinecolor": "white"
           },
           "yaxis": {
            "backgroundcolor": "#E5ECF6",
            "gridcolor": "white",
            "gridwidth": 2,
            "linecolor": "white",
            "showbackground": true,
            "ticks": "",
            "zerolinecolor": "white"
           },
           "zaxis": {
            "backgroundcolor": "#E5ECF6",
            "gridcolor": "white",
            "gridwidth": 2,
            "linecolor": "white",
            "showbackground": true,
            "ticks": "",
            "zerolinecolor": "white"
           }
          },
          "shapedefaults": {
           "line": {
            "color": "#2a3f5f"
           }
          },
          "ternary": {
           "aaxis": {
            "gridcolor": "white",
            "linecolor": "white",
            "ticks": ""
           },
           "baxis": {
            "gridcolor": "white",
            "linecolor": "white",
            "ticks": ""
           },
           "bgcolor": "#E5ECF6",
           "caxis": {
            "gridcolor": "white",
            "linecolor": "white",
            "ticks": ""
           }
          },
          "title": {
           "x": 0.05
          },
          "xaxis": {
           "automargin": true,
           "gridcolor": "white",
           "linecolor": "white",
           "ticks": "",
           "title": {
            "standoff": 15
           },
           "zerolinecolor": "white",
           "zerolinewidth": 2
          },
          "yaxis": {
           "automargin": true,
           "gridcolor": "white",
           "linecolor": "white",
           "ticks": "",
           "title": {
            "standoff": 15
           },
           "zerolinecolor": "white",
           "zerolinewidth": 2
          }
         }
        },
        "title": {
         "text": "AAPL MACD"
        },
        "xaxis": {
         "anchor": "y",
         "domain": [
          0,
          1
         ],
         "title": {
          "text": "Datetime"
         }
        },
        "yaxis": {
         "anchor": "x",
         "domain": [
          0,
          1
         ],
         "title": {
          "text": "MACD_12_24"
         }
        }
       }
      },
      "text/html": [
       "<div>                            <div id=\"9a40bb90-cb93-4a66-999a-45e2fcd06e7d\" class=\"plotly-graph-div\" style=\"height:525px; width:100%;\"></div>            <script type=\"text/javascript\">                require([\"plotly\"], function(Plotly) {                    window.PLOTLYENV=window.PLOTLYENV || {};                                    if (document.getElementById(\"9a40bb90-cb93-4a66-999a-45e2fcd06e7d\")) {                    Plotly.newPlot(                        \"9a40bb90-cb93-4a66-999a-45e2fcd06e7d\",                        [{\"hovertemplate\":\"Datetime=%{x}<br>MACD_12_24=%{y}<extra></extra>\",\"legendgroup\":\"\",\"line\":{\"color\":\"#636efa\",\"dash\":\"solid\"},\"marker\":{\"symbol\":\"circle\"},\"mode\":\"lines\",\"name\":\"\",\"orientation\":\"v\",\"showlegend\":false,\"x\":[\"2024-06-06T09:30:00-04:00\",\"2024-06-06T09:31:00-04:00\",\"2024-06-06T09:32:00-04:00\",\"2024-06-06T09:33:00-04:00\",\"2024-06-06T09:34:00-04:00\",\"2024-06-06T09:35:00-04:00\",\"2024-06-06T09:36:00-04:00\",\"2024-06-06T09:37:00-04:00\",\"2024-06-06T09:38:00-04:00\",\"2024-06-06T09:39:00-04:00\",\"2024-06-06T09:40:00-04:00\",\"2024-06-06T09:41:00-04:00\",\"2024-06-06T09:42:00-04:00\",\"2024-06-06T09:43:00-04:00\",\"2024-06-06T09:44:00-04:00\",\"2024-06-06T09:45:00-04:00\",\"2024-06-06T09:46:00-04:00\",\"2024-06-06T09:47:00-04:00\",\"2024-06-06T09:48:00-04:00\",\"2024-06-06T09:49:00-04:00\",\"2024-06-06T09:50:00-04:00\",\"2024-06-06T09:51:00-04:00\",\"2024-06-06T09:52:00-04:00\",\"2024-06-06T09:53:00-04:00\",\"2024-06-06T09:54:00-04:00\",\"2024-06-06T09:55:00-04:00\",\"2024-06-06T09:56:00-04:00\",\"2024-06-06T09:57:00-04:00\",\"2024-06-06T09:58:00-04:00\",\"2024-06-06T09:59:00-04:00\",\"2024-06-06T10:00:00-04:00\",\"2024-06-06T10:01:00-04:00\",\"2024-06-06T10:02:00-04:00\",\"2024-06-06T10:03:00-04:00\",\"2024-06-06T10:04:00-04:00\",\"2024-06-06T10:05:00-04:00\",\"2024-06-06T10:06:00-04:00\",\"2024-06-06T10:07:00-04:00\",\"2024-06-06T10:08:00-04:00\",\"2024-06-06T10:09:00-04:00\",\"2024-06-06T10:10:00-04:00\",\"2024-06-06T10:11:00-04:00\",\"2024-06-06T10:12:00-04:00\",\"2024-06-06T10:13:00-04:00\",\"2024-06-06T10:14:00-04:00\",\"2024-06-06T10:15:00-04:00\",\"2024-06-06T10:16:00-04:00\",\"2024-06-06T10:17:00-04:00\",\"2024-06-06T10:18:00-04:00\",\"2024-06-06T10:19:00-04:00\",\"2024-06-06T10:20:00-04:00\",\"2024-06-06T10:21:00-04:00\",\"2024-06-06T10:22:00-04:00\",\"2024-06-06T10:23:00-04:00\",\"2024-06-06T10:24:00-04:00\",\"2024-06-06T10:25:00-04:00\",\"2024-06-06T10:26:00-04:00\",\"2024-06-06T10:27:00-04:00\",\"2024-06-06T10:28:00-04:00\",\"2024-06-06T10:29:00-04:00\",\"2024-06-06T10:30:00-04:00\",\"2024-06-06T10:31:00-04:00\",\"2024-06-06T10:32:00-04:00\",\"2024-06-06T10:33:00-04:00\",\"2024-06-06T10:34:00-04:00\",\"2024-06-06T10:35:00-04:00\",\"2024-06-06T10:36:00-04:00\",\"2024-06-06T10:37:00-04:00\",\"2024-06-06T10:38:00-04:00\",\"2024-06-06T10:39:00-04:00\",\"2024-06-06T10:40:00-04:00\",\"2024-06-06T10:41:00-04:00\",\"2024-06-06T10:42:00-04:00\",\"2024-06-06T10:43:00-04:00\",\"2024-06-06T10:44:00-04:00\",\"2024-06-06T10:45:00-04:00\",\"2024-06-06T10:46:00-04:00\",\"2024-06-06T10:47:00-04:00\",\"2024-06-06T10:48:00-04:00\",\"2024-06-06T10:49:00-04:00\",\"2024-06-06T10:50:00-04:00\",\"2024-06-06T10:51:00-04:00\",\"2024-06-06T10:52:00-04:00\",\"2024-06-06T10:53:00-04:00\",\"2024-06-06T10:54:00-04:00\",\"2024-06-06T10:55:00-04:00\",\"2024-06-06T10:56:00-04:00\",\"2024-06-06T10:57:00-04:00\",\"2024-06-06T10:58:00-04:00\",\"2024-06-06T10:59:00-04:00\",\"2024-06-06T11:00:00-04:00\",\"2024-06-06T11:01:00-04:00\",\"2024-06-06T11:02:00-04:00\",\"2024-06-06T11:03:00-04:00\",\"2024-06-06T11:04:00-04:00\",\"2024-06-06T11:05:00-04:00\",\"2024-06-06T11:06:00-04:00\",\"2024-06-06T11:07:00-04:00\",\"2024-06-06T11:08:00-04:00\",\"2024-06-06T11:09:00-04:00\",\"2024-06-06T11:10:00-04:00\",\"2024-06-06T11:11:00-04:00\",\"2024-06-06T11:12:00-04:00\",\"2024-06-06T11:13:00-04:00\",\"2024-06-06T11:14:00-04:00\",\"2024-06-06T11:15:00-04:00\",\"2024-06-06T11:16:00-04:00\",\"2024-06-06T11:17:00-04:00\",\"2024-06-06T11:18:00-04:00\",\"2024-06-06T11:19:00-04:00\",\"2024-06-06T11:20:00-04:00\",\"2024-06-06T11:21:00-04:00\",\"2024-06-06T11:22:00-04:00\",\"2024-06-06T11:23:00-04:00\",\"2024-06-06T11:24:00-04:00\",\"2024-06-06T11:25:00-04:00\",\"2024-06-06T11:26:00-04:00\",\"2024-06-06T11:27:00-04:00\",\"2024-06-06T11:28:00-04:00\",\"2024-06-06T11:29:00-04:00\",\"2024-06-06T11:30:00-04:00\",\"2024-06-06T11:31:00-04:00\",\"2024-06-06T11:32:00-04:00\",\"2024-06-06T11:33:00-04:00\",\"2024-06-06T11:34:00-04:00\",\"2024-06-06T11:35:00-04:00\",\"2024-06-06T11:36:00-04:00\",\"2024-06-06T11:37:00-04:00\",\"2024-06-06T11:38:00-04:00\",\"2024-06-06T11:39:00-04:00\",\"2024-06-06T11:40:00-04:00\",\"2024-06-06T11:41:00-04:00\",\"2024-06-06T11:42:00-04:00\",\"2024-06-06T11:43:00-04:00\",\"2024-06-06T11:44:00-04:00\",\"2024-06-06T11:45:00-04:00\",\"2024-06-06T11:46:00-04:00\",\"2024-06-06T11:47:00-04:00\",\"2024-06-06T11:48:00-04:00\",\"2024-06-06T11:49:00-04:00\",\"2024-06-06T11:50:00-04:00\",\"2024-06-06T11:51:00-04:00\",\"2024-06-06T11:52:00-04:00\",\"2024-06-06T11:53:00-04:00\",\"2024-06-06T11:54:00-04:00\",\"2024-06-06T11:55:00-04:00\",\"2024-06-06T11:56:00-04:00\",\"2024-06-06T11:57:00-04:00\",\"2024-06-06T11:58:00-04:00\",\"2024-06-06T11:59:00-04:00\",\"2024-06-06T12:00:00-04:00\",\"2024-06-06T12:01:00-04:00\",\"2024-06-06T12:02:00-04:00\",\"2024-06-06T12:03:00-04:00\",\"2024-06-06T12:04:00-04:00\",\"2024-06-06T12:05:00-04:00\",\"2024-06-06T12:06:00-04:00\",\"2024-06-06T12:07:00-04:00\",\"2024-06-06T12:08:00-04:00\",\"2024-06-06T12:09:00-04:00\",\"2024-06-06T12:10:00-04:00\",\"2024-06-06T12:11:00-04:00\",\"2024-06-06T12:12:00-04:00\",\"2024-06-06T12:13:00-04:00\",\"2024-06-06T12:14:00-04:00\",\"2024-06-06T12:15:00-04:00\",\"2024-06-06T12:16:00-04:00\",\"2024-06-06T12:17:00-04:00\",\"2024-06-06T12:18:00-04:00\",\"2024-06-06T12:19:00-04:00\",\"2024-06-06T12:20:00-04:00\",\"2024-06-06T12:21:00-04:00\",\"2024-06-06T12:22:00-04:00\",\"2024-06-06T12:23:00-04:00\",\"2024-06-06T12:24:00-04:00\",\"2024-06-06T12:25:00-04:00\",\"2024-06-06T12:26:00-04:00\",\"2024-06-06T12:27:00-04:00\",\"2024-06-06T12:28:00-04:00\",\"2024-06-06T12:29:00-04:00\",\"2024-06-06T12:30:00-04:00\",\"2024-06-06T12:31:00-04:00\",\"2024-06-06T12:32:00-04:00\",\"2024-06-06T12:33:00-04:00\",\"2024-06-06T12:34:00-04:00\",\"2024-06-06T12:35:00-04:00\",\"2024-06-06T12:36:00-04:00\",\"2024-06-06T12:37:00-04:00\",\"2024-06-06T12:38:00-04:00\",\"2024-06-06T12:39:00-04:00\",\"2024-06-06T12:40:00-04:00\",\"2024-06-06T12:41:00-04:00\",\"2024-06-06T12:42:00-04:00\",\"2024-06-06T12:43:00-04:00\",\"2024-06-06T12:44:00-04:00\",\"2024-06-06T12:45:00-04:00\",\"2024-06-06T12:46:00-04:00\",\"2024-06-06T12:47:00-04:00\",\"2024-06-06T12:48:00-04:00\",\"2024-06-06T12:49:00-04:00\",\"2024-06-06T12:50:00-04:00\",\"2024-06-06T12:51:00-04:00\",\"2024-06-06T12:52:00-04:00\",\"2024-06-06T12:53:00-04:00\",\"2024-06-06T12:54:00-04:00\",\"2024-06-06T12:55:00-04:00\",\"2024-06-06T12:56:00-04:00\",\"2024-06-06T12:57:00-04:00\",\"2024-06-06T12:58:00-04:00\",\"2024-06-06T12:59:00-04:00\",\"2024-06-06T13:00:00-04:00\",\"2024-06-06T13:01:00-04:00\",\"2024-06-06T13:02:00-04:00\",\"2024-06-06T13:03:00-04:00\",\"2024-06-06T13:04:00-04:00\",\"2024-06-06T13:05:00-04:00\",\"2024-06-06T13:06:00-04:00\",\"2024-06-06T13:07:00-04:00\",\"2024-06-06T13:08:00-04:00\",\"2024-06-06T13:09:00-04:00\",\"2024-06-06T13:10:00-04:00\",\"2024-06-06T13:11:00-04:00\",\"2024-06-06T13:12:00-04:00\",\"2024-06-06T13:13:00-04:00\",\"2024-06-06T13:14:00-04:00\",\"2024-06-06T13:15:00-04:00\",\"2024-06-06T13:16:00-04:00\",\"2024-06-06T13:17:00-04:00\",\"2024-06-06T13:18:00-04:00\",\"2024-06-06T13:19:00-04:00\",\"2024-06-06T13:20:00-04:00\",\"2024-06-06T13:21:00-04:00\",\"2024-06-06T13:22:00-04:00\",\"2024-06-06T13:23:00-04:00\",\"2024-06-06T13:24:00-04:00\",\"2024-06-06T13:25:00-04:00\",\"2024-06-06T13:26:00-04:00\",\"2024-06-06T13:27:00-04:00\",\"2024-06-06T13:28:00-04:00\",\"2024-06-06T13:29:00-04:00\",\"2024-06-06T13:30:00-04:00\",\"2024-06-06T13:31:00-04:00\",\"2024-06-06T13:32:00-04:00\",\"2024-06-06T13:33:00-04:00\",\"2024-06-06T13:34:00-04:00\",\"2024-06-06T13:35:00-04:00\",\"2024-06-06T13:36:00-04:00\",\"2024-06-06T13:37:00-04:00\",\"2024-06-06T13:38:00-04:00\",\"2024-06-06T13:39:00-04:00\",\"2024-06-06T13:40:00-04:00\",\"2024-06-06T13:41:00-04:00\",\"2024-06-06T13:42:00-04:00\",\"2024-06-06T13:43:00-04:00\",\"2024-06-06T13:44:00-04:00\",\"2024-06-06T13:45:00-04:00\",\"2024-06-06T13:46:00-04:00\",\"2024-06-06T13:47:00-04:00\",\"2024-06-06T13:48:00-04:00\",\"2024-06-06T13:49:00-04:00\",\"2024-06-06T13:50:00-04:00\",\"2024-06-06T13:51:00-04:00\",\"2024-06-06T13:52:00-04:00\",\"2024-06-06T13:53:00-04:00\",\"2024-06-06T13:54:00-04:00\",\"2024-06-06T13:55:00-04:00\",\"2024-06-06T13:56:00-04:00\",\"2024-06-06T13:57:00-04:00\",\"2024-06-06T13:58:00-04:00\",\"2024-06-06T13:59:00-04:00\",\"2024-06-06T14:00:00-04:00\",\"2024-06-06T14:01:00-04:00\",\"2024-06-06T14:02:00-04:00\",\"2024-06-06T14:03:00-04:00\",\"2024-06-06T14:04:00-04:00\",\"2024-06-06T14:05:00-04:00\",\"2024-06-06T14:06:00-04:00\",\"2024-06-06T14:07:00-04:00\",\"2024-06-06T14:08:00-04:00\",\"2024-06-06T14:09:00-04:00\",\"2024-06-06T14:10:00-04:00\",\"2024-06-06T14:11:00-04:00\",\"2024-06-06T14:12:00-04:00\",\"2024-06-06T14:13:00-04:00\",\"2024-06-06T14:14:00-04:00\",\"2024-06-06T14:15:00-04:00\",\"2024-06-06T14:16:00-04:00\",\"2024-06-06T14:17:00-04:00\",\"2024-06-06T14:18:00-04:00\",\"2024-06-06T14:19:00-04:00\",\"2024-06-06T14:20:00-04:00\",\"2024-06-06T14:21:00-04:00\",\"2024-06-06T14:22:00-04:00\",\"2024-06-06T14:23:00-04:00\",\"2024-06-06T14:24:00-04:00\",\"2024-06-06T14:25:00-04:00\",\"2024-06-06T14:26:00-04:00\",\"2024-06-06T14:27:00-04:00\",\"2024-06-06T14:28:00-04:00\",\"2024-06-06T14:29:00-04:00\",\"2024-06-06T14:30:00-04:00\",\"2024-06-06T14:31:00-04:00\",\"2024-06-06T14:32:00-04:00\",\"2024-06-06T14:33:00-04:00\",\"2024-06-06T14:34:00-04:00\",\"2024-06-06T14:35:00-04:00\",\"2024-06-06T14:36:00-04:00\",\"2024-06-06T14:37:00-04:00\",\"2024-06-06T14:38:00-04:00\",\"2024-06-06T14:39:00-04:00\",\"2024-06-06T14:40:00-04:00\",\"2024-06-06T14:41:00-04:00\",\"2024-06-06T14:42:00-04:00\",\"2024-06-06T14:43:00-04:00\",\"2024-06-06T14:44:00-04:00\",\"2024-06-06T14:45:00-04:00\",\"2024-06-06T14:46:00-04:00\",\"2024-06-06T14:47:00-04:00\",\"2024-06-06T14:48:00-04:00\",\"2024-06-06T14:49:00-04:00\",\"2024-06-06T14:50:00-04:00\",\"2024-06-06T14:51:00-04:00\",\"2024-06-06T14:52:00-04:00\",\"2024-06-06T14:53:00-04:00\",\"2024-06-06T14:54:00-04:00\",\"2024-06-06T14:55:00-04:00\",\"2024-06-06T14:56:00-04:00\",\"2024-06-06T14:57:00-04:00\",\"2024-06-06T14:58:00-04:00\",\"2024-06-06T14:59:00-04:00\",\"2024-06-06T15:00:00-04:00\",\"2024-06-06T15:01:00-04:00\",\"2024-06-06T15:02:00-04:00\",\"2024-06-06T15:03:00-04:00\",\"2024-06-06T15:04:00-04:00\",\"2024-06-06T15:05:00-04:00\",\"2024-06-06T15:06:00-04:00\",\"2024-06-06T15:07:00-04:00\",\"2024-06-06T15:08:00-04:00\",\"2024-06-06T15:09:00-04:00\",\"2024-06-06T15:10:00-04:00\",\"2024-06-06T15:11:00-04:00\",\"2024-06-06T15:12:00-04:00\",\"2024-06-06T15:13:00-04:00\",\"2024-06-06T15:14:00-04:00\",\"2024-06-06T15:15:00-04:00\",\"2024-06-06T15:16:00-04:00\",\"2024-06-06T15:17:00-04:00\",\"2024-06-06T15:18:00-04:00\",\"2024-06-06T15:19:00-04:00\",\"2024-06-06T15:20:00-04:00\",\"2024-06-06T15:21:00-04:00\",\"2024-06-06T15:22:00-04:00\",\"2024-06-06T15:23:00-04:00\",\"2024-06-06T15:24:00-04:00\",\"2024-06-06T15:25:00-04:00\",\"2024-06-06T15:26:00-04:00\",\"2024-06-06T15:27:00-04:00\",\"2024-06-06T15:28:00-04:00\",\"2024-06-06T15:29:00-04:00\",\"2024-06-06T15:30:00-04:00\",\"2024-06-06T15:31:00-04:00\",\"2024-06-06T15:32:00-04:00\",\"2024-06-06T15:33:00-04:00\",\"2024-06-06T15:34:00-04:00\",\"2024-06-06T15:35:00-04:00\",\"2024-06-06T15:36:00-04:00\",\"2024-06-06T15:37:00-04:00\",\"2024-06-06T15:38:00-04:00\",\"2024-06-06T15:39:00-04:00\",\"2024-06-06T15:40:00-04:00\",\"2024-06-06T15:41:00-04:00\",\"2024-06-06T15:42:00-04:00\",\"2024-06-06T15:43:00-04:00\",\"2024-06-06T15:44:00-04:00\",\"2024-06-06T15:45:00-04:00\",\"2024-06-06T15:46:00-04:00\",\"2024-06-06T15:47:00-04:00\",\"2024-06-06T15:48:00-04:00\",\"2024-06-06T15:49:00-04:00\",\"2024-06-06T15:50:00-04:00\",\"2024-06-06T15:51:00-04:00\",\"2024-06-06T15:52:00-04:00\",\"2024-06-06T15:53:00-04:00\",\"2024-06-06T15:54:00-04:00\",\"2024-06-06T15:55:00-04:00\",\"2024-06-06T15:56:00-04:00\",\"2024-06-06T15:57:00-04:00\",\"2024-06-06T15:58:00-04:00\",\"2024-06-06T15:59:00-04:00\"],\"xaxis\":\"x\",\"y\":[0.0,0.0,0.0,0.0,0.0,0.0,0.0,0.0,0.0,0.0,0.0,0.0,0.0,-0.000865124642103865,-0.03658367382365668,-0.0710264127188509,-0.09158082541145518,-0.13030339745080255,-0.11426335146953193,-0.10501283975588649,-0.09365309436373082,-0.08255191721659116,-0.12042683067329563,-0.07741160611885789,-0.06656923289079941,-0.06364681857780852,-0.025379744393063675,0.0012475161867939732,0.030756844938764516,0.08070876581180642,0.12309810040218849,0.13779108328549228,0.150640508416501,0.12408599911287865,0.16452790555209162,0.1228079004366407,0.10217663260806376,0.07355491715097173,0.05874659606655541,0.059644400402817155,0.05463101004005466,0.07130390000037323,0.049232173430368675,0.05013301550300753,0.023752717392255818,0.07817292776263685,0.08863474277782757,0.07988607249504298,0.07971429895525262,0.08498570816357187,0.06554775256230982,0.06855258812825582,0.07956995753255569,0.0918002003785432,0.08764708367132812,0.09621480041508335,0.11506030955854385,0.0677371089769565,0.05792844720537005,0.06981834071982007,0.048979261015063,0.026024877581704686,0.028872238121863347,-0.0018676775631263354,-0.013504143199469354,-0.06083372592823366,-0.10219060067186092,-0.13319041202359472,-0.16439171639089523,-0.16130578241168791,-0.14910768762385374,-0.15284716921712516,-0.12893965760892456,-0.11323843407205914,-0.1229774932433827,-0.1240078912121021,-0.15745005306172288,-0.1249224388500636,-0.08445891645462211,-0.06742636093247256,-0.05923906773824683,-0.08218032030393374,-0.08482397374163497,-0.05849230675804051,-0.06283773056119912,-0.05065312641676201,-0.022334450021190833,0.006708961553954396,0.02614893580221178,-0.002597396553397857,-0.025075088626465458,-0.03159647997577508,-0.029809730911239285,-0.004959694290562311,-0.005111450506404935,-0.017445068834007316,0.004333457842932376,0.016271125683573473,0.03035408815730989,0.011229410660774874,-0.0006030033347883546,0.0098180347774246,0.00822307001735112,0.008946145011947237,0.02713067534355673,0.01927595189170006,0.011967026287322824,0.019798341850275847,0.010283982539817771,-0.014859516662966143,-0.03934987258526235,-0.014929530687112447,0.0007725520345331915,-0.005696662107538941,0.006817320332714871,0.016538186679412092,0.026255351093539048,0.03091278029359046,0.037387833133635695,0.023800952626459093,0.011019344169312717,0.005574621776645472,0.020750525424631405,0.016114798025398613,0.007750324372807427,0.017597603651609006,0.017371057785027233,0.004863494774468791,-0.006110445083209015,-0.0191455900027222,-0.0161061400652045,-0.002258340249511548,-0.015330529627703982,-0.012513727234107819,-0.036106031712392905,-0.03989828280711549,-0.02994645568270471,-0.0396991318278026,-0.042304604699836545,-0.042356544529127405,-0.048249291529543825,-0.045111807517514535,-0.06336051900129291,-0.07840432457336988,-0.06949335825552794,-0.07709245304423007,-0.06662518733551792,-0.07164402710853324,-0.06022178301424219,-0.050728662459818,-0.03652573000556458,-0.05446542141689292,-0.05611967494206738,-0.06092902670016542,-0.05748296498035188,-0.0447942584386567,-0.03670074085519559,-0.02612155943114658,-0.014400219482382681,0.0026352207930813165,-0.009372619388130943,0.0010364335627741639,-0.001283781883643087,0.02031597305563082,0.0359449913004255,0.03698923225798012,0.041439939778655344,0.04682566394137666,0.049372355726035266,0.0542794937491351,0.05642330278047325,0.04776350429460763,0.06364564356894675,0.0679810671506118,0.07611403612213508,0.058918782178125184,0.04487434872584117,0.03535148959480239,0.04623304696039554,0.03727112830259216,0.03609558646110145,0.03714745674525943,0.030403851614380528,0.020333634494420494,0.012805960960747598,-0.003152181879215732,-0.008947217966067456,0.00030859557011808647,0.007558664209000199,0.006743668956573856,-0.006582576767186765,-0.010535359676907774,-0.00933799366924859,-0.01673477083826924,-0.01978134659736952,-0.01733686818977276,-0.01358033733330899,-0.005021737259482961,-0.005314280957890105,-0.0014407730264451857,-0.0026031676616184996,0.001015507933658455,-0.006730225286844416,0.00941932290902514,0.006070904338088212,0.0012973630780663825,0.010323113701673492,0.019856156083022825,0.013539540653368931,0.017583582790877017,0.04376787470329191,0.045015848266672265,0.05305777894372454,0.0673888696049687,0.0753285568074773,0.06659235881522818,0.07366057283724103,0.0844246400359907,0.0880280749823612,0.08841666375641921,0.10589666448558432,0.11219863129170449,0.08723067588047684,0.07004446510202911,0.06270662419501605,0.04555115297478096,0.028545538529584746,0.023213870625880872,0.012345863514553912,0.00564988584699222,-0.006891804858781825,-0.032374757202461524,-0.07440084972211025,-0.1062530123664942,-0.1158607233967075,-0.11007502984588768,-0.11376344582899378,-0.1155109756023478,-0.10544196618675983,-0.10695441917513904,-0.0945436057393465,-0.10914842878079867,-0.1092645379233943,-0.09172513604440269,-0.06838360240530506,-0.06239191040572223,-0.047902688212388966,-0.039235160256566814,-0.03227884611459331,-0.023706842668445915,-0.024310896923850578,-0.01202031113913904,-0.009830029290327502,0.016077463259080105,0.03293233589252509,0.021757426883141306,0.013540956263625503,0.011491471005598441,0.005595643455677646,-0.004465682754698719,-0.00901066480119539,-0.007848770058018317,-0.002800266071972146,-0.004735078114890712,-0.006965163351395631,-0.020596922945031793,-0.026289479996393084,-0.025025783191466644,-0.025995321301820695,-0.028998971777440374,-0.02877248434654689,-0.025698141503283978,-0.02523990615082994,-0.026663872655490195,-0.03780357569016246,-0.04948738567460964,-0.03530412602916044,-0.0482027937963494,-0.06922277082836104,-0.08318974171095306,-0.10552670235580308,-0.10951851769613086,-0.11250352477443926,-0.12198098505672306,-0.1080663122995702,-0.10035097826306583,-0.0898909875529057,-0.06866195016152687,-0.08676017866247321,-0.07358217165332803,-0.06149836142188292,-0.07207969216756283,-0.0390797232791158,-0.022614522716054353,-0.01316420954603359,0.025124382638125553,0.03765260413356941,0.04316340283514819,0.05069261272993231,0.05098919477848085,0.07654377874214902,0.08812172523715844,0.07718656874465069,0.09985895971283298,0.09029692174109982,0.08703588583435362,0.06791590521407898,0.029910333201371486,0.012439954744650095,0.00776923646211003,-0.0061447252183484125,-0.01720843941018302,-0.04232974851342419,-0.0587693478742608,-0.04260598956585682,-0.053786432317565414,-0.06556419813884418,-0.07743895350324692,-0.06862604379634263,-0.0596248111178852,-0.06254964676142549,-0.06551577530768782,-0.06343785824523707,-0.050393906788997356,-0.026700305834907567,-0.010502043040190756,-0.013550463763834841,-0.007073382240861292,-0.009709386413021548,-0.00033094232972530335,-0.006442144014641826,-0.01052402383194817,-0.0008932568344732772,-0.0005531278261798889,0.008453185901402094,0.0042995824092315615,-0.003498669725217951,0.002095551572807608,0.004112213971922074,-0.00563726813280141,-0.00942326500930335,-0.012828189068017082,-0.020521642461915235,-0.025102502353206546,-0.041787202637038945,-0.0452045120935054,-0.055866678033623884,-0.052288086733142336,-0.035095799135689276,-0.018007008107986167,-0.009155661109389257,0.0005019178253178325,-0.0025090300612475858,-0.005247019235497419,-0.008884042057474062,-0.01429266736943191,-0.008673119635233206,0.005773883984943495,0.012603106539188502,0.013526770285608336,0.028524471283077446,0.03379354857236194,0.03492431762663273,0.029730482893370436,0.03661115976822771,0.04184906204241656,0.03197837071431309,0.02739922011028284,0.011232842808993837,-0.006604911211269382,-0.01298035391047847,-0.012053027010978212,-0.02979425393343149,-0.054474578675296925,-0.053394276327566104,-0.053578906985791264,-0.07292847561390658,-0.09170249105520156,-0.0829991504130021,-0.07690041181825791,-0.05302681106422824,-0.07594728973978704,-0.1209148987492199,-0.1681028637537736,-0.19489541782343167,-0.21058648172800076,-0.22459092638391098,-0.23251180252680115,-0.21733276005568314,-0.19336080045567883],\"yaxis\":\"y\",\"type\":\"scatter\"}],                        {\"template\":{\"data\":{\"histogram2dcontour\":[{\"type\":\"histogram2dcontour\",\"colorbar\":{\"outlinewidth\":0,\"ticks\":\"\"},\"colorscale\":[[0.0,\"#0d0887\"],[0.1111111111111111,\"#46039f\"],[0.2222222222222222,\"#7201a8\"],[0.3333333333333333,\"#9c179e\"],[0.4444444444444444,\"#bd3786\"],[0.5555555555555556,\"#d8576b\"],[0.6666666666666666,\"#ed7953\"],[0.7777777777777778,\"#fb9f3a\"],[0.8888888888888888,\"#fdca26\"],[1.0,\"#f0f921\"]]}],\"choropleth\":[{\"type\":\"choropleth\",\"colorbar\":{\"outlinewidth\":0,\"ticks\":\"\"}}],\"histogram2d\":[{\"type\":\"histogram2d\",\"colorbar\":{\"outlinewidth\":0,\"ticks\":\"\"},\"colorscale\":[[0.0,\"#0d0887\"],[0.1111111111111111,\"#46039f\"],[0.2222222222222222,\"#7201a8\"],[0.3333333333333333,\"#9c179e\"],[0.4444444444444444,\"#bd3786\"],[0.5555555555555556,\"#d8576b\"],[0.6666666666666666,\"#ed7953\"],[0.7777777777777778,\"#fb9f3a\"],[0.8888888888888888,\"#fdca26\"],[1.0,\"#f0f921\"]]}],\"heatmap\":[{\"type\":\"heatmap\",\"colorbar\":{\"outlinewidth\":0,\"ticks\":\"\"},\"colorscale\":[[0.0,\"#0d0887\"],[0.1111111111111111,\"#46039f\"],[0.2222222222222222,\"#7201a8\"],[0.3333333333333333,\"#9c179e\"],[0.4444444444444444,\"#bd3786\"],[0.5555555555555556,\"#d8576b\"],[0.6666666666666666,\"#ed7953\"],[0.7777777777777778,\"#fb9f3a\"],[0.8888888888888888,\"#fdca26\"],[1.0,\"#f0f921\"]]}],\"heatmapgl\":[{\"type\":\"heatmapgl\",\"colorbar\":{\"outlinewidth\":0,\"ticks\":\"\"},\"colorscale\":[[0.0,\"#0d0887\"],[0.1111111111111111,\"#46039f\"],[0.2222222222222222,\"#7201a8\"],[0.3333333333333333,\"#9c179e\"],[0.4444444444444444,\"#bd3786\"],[0.5555555555555556,\"#d8576b\"],[0.6666666666666666,\"#ed7953\"],[0.7777777777777778,\"#fb9f3a\"],[0.8888888888888888,\"#fdca26\"],[1.0,\"#f0f921\"]]}],\"contourcarpet\":[{\"type\":\"contourcarpet\",\"colorbar\":{\"outlinewidth\":0,\"ticks\":\"\"}}],\"contour\":[{\"type\":\"contour\",\"colorbar\":{\"outlinewidth\":0,\"ticks\":\"\"},\"colorscale\":[[0.0,\"#0d0887\"],[0.1111111111111111,\"#46039f\"],[0.2222222222222222,\"#7201a8\"],[0.3333333333333333,\"#9c179e\"],[0.4444444444444444,\"#bd3786\"],[0.5555555555555556,\"#d8576b\"],[0.6666666666666666,\"#ed7953\"],[0.7777777777777778,\"#fb9f3a\"],[0.8888888888888888,\"#fdca26\"],[1.0,\"#f0f921\"]]}],\"surface\":[{\"type\":\"surface\",\"colorbar\":{\"outlinewidth\":0,\"ticks\":\"\"},\"colorscale\":[[0.0,\"#0d0887\"],[0.1111111111111111,\"#46039f\"],[0.2222222222222222,\"#7201a8\"],[0.3333333333333333,\"#9c179e\"],[0.4444444444444444,\"#bd3786\"],[0.5555555555555556,\"#d8576b\"],[0.6666666666666666,\"#ed7953\"],[0.7777777777777778,\"#fb9f3a\"],[0.8888888888888888,\"#fdca26\"],[1.0,\"#f0f921\"]]}],\"mesh3d\":[{\"type\":\"mesh3d\",\"colorbar\":{\"outlinewidth\":0,\"ticks\":\"\"}}],\"scatter\":[{\"fillpattern\":{\"fillmode\":\"overlay\",\"size\":10,\"solidity\":0.2},\"type\":\"scatter\"}],\"parcoords\":[{\"type\":\"parcoords\",\"line\":{\"colorbar\":{\"outlinewidth\":0,\"ticks\":\"\"}}}],\"scatterpolargl\":[{\"type\":\"scatterpolargl\",\"marker\":{\"colorbar\":{\"outlinewidth\":0,\"ticks\":\"\"}}}],\"bar\":[{\"error_x\":{\"color\":\"#2a3f5f\"},\"error_y\":{\"color\":\"#2a3f5f\"},\"marker\":{\"line\":{\"color\":\"#E5ECF6\",\"width\":0.5},\"pattern\":{\"fillmode\":\"overlay\",\"size\":10,\"solidity\":0.2}},\"type\":\"bar\"}],\"scattergeo\":[{\"type\":\"scattergeo\",\"marker\":{\"colorbar\":{\"outlinewidth\":0,\"ticks\":\"\"}}}],\"scatterpolar\":[{\"type\":\"scatterpolar\",\"marker\":{\"colorbar\":{\"outlinewidth\":0,\"ticks\":\"\"}}}],\"histogram\":[{\"marker\":{\"pattern\":{\"fillmode\":\"overlay\",\"size\":10,\"solidity\":0.2}},\"type\":\"histogram\"}],\"scattergl\":[{\"type\":\"scattergl\",\"marker\":{\"colorbar\":{\"outlinewidth\":0,\"ticks\":\"\"}}}],\"scatter3d\":[{\"type\":\"scatter3d\",\"line\":{\"colorbar\":{\"outlinewidth\":0,\"ticks\":\"\"}},\"marker\":{\"colorbar\":{\"outlinewidth\":0,\"ticks\":\"\"}}}],\"scattermapbox\":[{\"type\":\"scattermapbox\",\"marker\":{\"colorbar\":{\"outlinewidth\":0,\"ticks\":\"\"}}}],\"scatterternary\":[{\"type\":\"scatterternary\",\"marker\":{\"colorbar\":{\"outlinewidth\":0,\"ticks\":\"\"}}}],\"scattercarpet\":[{\"type\":\"scattercarpet\",\"marker\":{\"colorbar\":{\"outlinewidth\":0,\"ticks\":\"\"}}}],\"carpet\":[{\"aaxis\":{\"endlinecolor\":\"#2a3f5f\",\"gridcolor\":\"white\",\"linecolor\":\"white\",\"minorgridcolor\":\"white\",\"startlinecolor\":\"#2a3f5f\"},\"baxis\":{\"endlinecolor\":\"#2a3f5f\",\"gridcolor\":\"white\",\"linecolor\":\"white\",\"minorgridcolor\":\"white\",\"startlinecolor\":\"#2a3f5f\"},\"type\":\"carpet\"}],\"table\":[{\"cells\":{\"fill\":{\"color\":\"#EBF0F8\"},\"line\":{\"color\":\"white\"}},\"header\":{\"fill\":{\"color\":\"#C8D4E3\"},\"line\":{\"color\":\"white\"}},\"type\":\"table\"}],\"barpolar\":[{\"marker\":{\"line\":{\"color\":\"#E5ECF6\",\"width\":0.5},\"pattern\":{\"fillmode\":\"overlay\",\"size\":10,\"solidity\":0.2}},\"type\":\"barpolar\"}],\"pie\":[{\"automargin\":true,\"type\":\"pie\"}]},\"layout\":{\"autotypenumbers\":\"strict\",\"colorway\":[\"#636efa\",\"#EF553B\",\"#00cc96\",\"#ab63fa\",\"#FFA15A\",\"#19d3f3\",\"#FF6692\",\"#B6E880\",\"#FF97FF\",\"#FECB52\"],\"font\":{\"color\":\"#2a3f5f\"},\"hovermode\":\"closest\",\"hoverlabel\":{\"align\":\"left\"},\"paper_bgcolor\":\"white\",\"plot_bgcolor\":\"#E5ECF6\",\"polar\":{\"bgcolor\":\"#E5ECF6\",\"angularaxis\":{\"gridcolor\":\"white\",\"linecolor\":\"white\",\"ticks\":\"\"},\"radialaxis\":{\"gridcolor\":\"white\",\"linecolor\":\"white\",\"ticks\":\"\"}},\"ternary\":{\"bgcolor\":\"#E5ECF6\",\"aaxis\":{\"gridcolor\":\"white\",\"linecolor\":\"white\",\"ticks\":\"\"},\"baxis\":{\"gridcolor\":\"white\",\"linecolor\":\"white\",\"ticks\":\"\"},\"caxis\":{\"gridcolor\":\"white\",\"linecolor\":\"white\",\"ticks\":\"\"}},\"coloraxis\":{\"colorbar\":{\"outlinewidth\":0,\"ticks\":\"\"}},\"colorscale\":{\"sequential\":[[0.0,\"#0d0887\"],[0.1111111111111111,\"#46039f\"],[0.2222222222222222,\"#7201a8\"],[0.3333333333333333,\"#9c179e\"],[0.4444444444444444,\"#bd3786\"],[0.5555555555555556,\"#d8576b\"],[0.6666666666666666,\"#ed7953\"],[0.7777777777777778,\"#fb9f3a\"],[0.8888888888888888,\"#fdca26\"],[1.0,\"#f0f921\"]],\"sequentialminus\":[[0.0,\"#0d0887\"],[0.1111111111111111,\"#46039f\"],[0.2222222222222222,\"#7201a8\"],[0.3333333333333333,\"#9c179e\"],[0.4444444444444444,\"#bd3786\"],[0.5555555555555556,\"#d8576b\"],[0.6666666666666666,\"#ed7953\"],[0.7777777777777778,\"#fb9f3a\"],[0.8888888888888888,\"#fdca26\"],[1.0,\"#f0f921\"]],\"diverging\":[[0,\"#8e0152\"],[0.1,\"#c51b7d\"],[0.2,\"#de77ae\"],[0.3,\"#f1b6da\"],[0.4,\"#fde0ef\"],[0.5,\"#f7f7f7\"],[0.6,\"#e6f5d0\"],[0.7,\"#b8e186\"],[0.8,\"#7fbc41\"],[0.9,\"#4d9221\"],[1,\"#276419\"]]},\"xaxis\":{\"gridcolor\":\"white\",\"linecolor\":\"white\",\"ticks\":\"\",\"title\":{\"standoff\":15},\"zerolinecolor\":\"white\",\"automargin\":true,\"zerolinewidth\":2},\"yaxis\":{\"gridcolor\":\"white\",\"linecolor\":\"white\",\"ticks\":\"\",\"title\":{\"standoff\":15},\"zerolinecolor\":\"white\",\"automargin\":true,\"zerolinewidth\":2},\"scene\":{\"xaxis\":{\"backgroundcolor\":\"#E5ECF6\",\"gridcolor\":\"white\",\"linecolor\":\"white\",\"showbackground\":true,\"ticks\":\"\",\"zerolinecolor\":\"white\",\"gridwidth\":2},\"yaxis\":{\"backgroundcolor\":\"#E5ECF6\",\"gridcolor\":\"white\",\"linecolor\":\"white\",\"showbackground\":true,\"ticks\":\"\",\"zerolinecolor\":\"white\",\"gridwidth\":2},\"zaxis\":{\"backgroundcolor\":\"#E5ECF6\",\"gridcolor\":\"white\",\"linecolor\":\"white\",\"showbackground\":true,\"ticks\":\"\",\"zerolinecolor\":\"white\",\"gridwidth\":2}},\"shapedefaults\":{\"line\":{\"color\":\"#2a3f5f\"}},\"annotationdefaults\":{\"arrowcolor\":\"#2a3f5f\",\"arrowhead\":0,\"arrowwidth\":1},\"geo\":{\"bgcolor\":\"white\",\"landcolor\":\"#E5ECF6\",\"subunitcolor\":\"white\",\"showland\":true,\"showlakes\":true,\"lakecolor\":\"white\"},\"title\":{\"x\":0.05},\"mapbox\":{\"style\":\"light\"}}},\"xaxis\":{\"anchor\":\"y\",\"domain\":[0.0,1.0],\"title\":{\"text\":\"Datetime\"}},\"yaxis\":{\"anchor\":\"x\",\"domain\":[0.0,1.0],\"title\":{\"text\":\"MACD_12_24\"}},\"legend\":{\"tracegroupgap\":0},\"title\":{\"text\":\"AAPL MACD\"}},                        {\"responsive\": true}                    ).then(function(){\n",
       "                            \n",
       "var gd = document.getElementById('9a40bb90-cb93-4a66-999a-45e2fcd06e7d');\n",
       "var x = new MutationObserver(function (mutations, observer) {{\n",
       "        var display = window.getComputedStyle(gd).display;\n",
       "        if (!display || display === 'none') {{\n",
       "            console.log([gd, 'removed!']);\n",
       "            Plotly.purge(gd);\n",
       "            observer.disconnect();\n",
       "        }}\n",
       "}});\n",
       "\n",
       "// Listen for the removal of the full notebook cells\n",
       "var notebookContainer = gd.closest('#notebook-container');\n",
       "if (notebookContainer) {{\n",
       "    x.observe(notebookContainer, {childList: true});\n",
       "}}\n",
       "\n",
       "// Listen for the clearing of the current output cell\n",
       "var outputEl = gd.closest('.output');\n",
       "if (outputEl) {{\n",
       "    x.observe(outputEl, {childList: true});\n",
       "}}\n",
       "\n",
       "                        })                };                });            </script>        </div>"
      ]
     },
     "metadata": {},
     "output_type": "display_data"
    }
   ],
   "source": [
    "stonks = create_stock_data_from_input()\n",
    "\n",
    "with warnings.catch_warnings():\n",
    "    warnings.simplefilter(\"ignore\")\n",
    "    fig = px.line(stonks.data_frame, x=stonks.data_frame.index,\n",
    "                  y='Close',\n",
    "                 title=f\"{stonks.stock_symbol} Stock Prices\")\n",
    "    fig.show()\n",
    "\n",
    "# The number of lag variables should not exceed 30% of the \n",
    "# number of observations\n",
    "threshold = int(0.3 * stonks.data_frame.shape[0])\n",
    "    \n",
    "add_lags_from_input(stonks, threshold)\n",
    "\n",
    "display_days = int(0.8 * stonks.lag_length)\n",
    "SMA_string = 'SMA_' + str(display_days)\n",
    "lower_boll_str = 'lower_boll_' + str(display_days)\n",
    "upper_boll_str = 'upper_boll_' + str(display_days)\n",
    "EMA_string = 'EMA_' + str(display_days)\n",
    "EMA_string_2 = 'EMA_' + str(int(display_days / 2))\n",
    "MACD_string = 'MACD_' + str(int(display_days / 2)) + '_' + str(display_days)\n",
    "\n",
    "\n",
    "stonks.add_simple_moving_average(display_days)\n",
    "stonks.add_upper_bollinger(display_days)\n",
    "stonks.add_lower_bollinger(display_days)\n",
    "stonks.add_exponential_moving_average(display_days)\n",
    "stonks.add_exponential_moving_average(int(display_days/2))\n",
    "stonks.add_MACD(display_days, int(display_days/2))\n",
    "\n",
    "\n",
    "with warnings.catch_warnings():\n",
    "    warnings.simplefilter(\"ignore\")\n",
    "    fig = px.line(stonks.data_frame, x=stonks.data_frame.index,\n",
    "                  y=[SMA_string, upper_boll_str, lower_boll_str, 'Close',], \n",
    "                  color_discrete_map={\n",
    "                      SMA_string: \"#85deb1\",\n",
    "                      upper_boll_str: \"#b6d1c3\",\n",
    "                      lower_boll_str: \"#b6d1c3\",\n",
    "                      \"Close\": \"#0059ff\",\n",
    "                  },\n",
    "                 title=f\"{stonks.stock_symbol} Stock Prices w/ Bollinger Bands\").update_traces(\n",
    "        selector={\"name\": upper_boll_str},\n",
    "        line={\"dash\": \"dot\"}\n",
    "    ).update_traces(\n",
    "        selector={\"name\": lower_boll_str}, \n",
    "        line={\"dash\": \"dot\"})\n",
    "\n",
    "    fig.show()\n",
    "\n",
    "\n",
    "with warnings.catch_warnings():\n",
    "    warnings.simplefilter(\"ignore\")\n",
    "    fig = px.line(stonks.data_frame, x=stonks.data_frame.index,\n",
    "                  y=[EMA_string, EMA_string_2], \n",
    "                  color_discrete_map={\n",
    "                      EMA_string:\"#38b9ff\",\n",
    "                      EMA_string_2:\"#44fcd1\"\n",
    "                  },\n",
    "                 title=f\"{stonks.stock_symbol} Exponential Moving Averages\")\n",
    "    fig.show()\n",
    "    \n",
    "\n",
    "with warnings.catch_warnings():\n",
    "    warnings.simplefilter(\"ignore\")\n",
    "    fig = px.line(stonks.data_frame, x=stonks.data_frame.index,\n",
    "                  y=MACD_string, \n",
    "                  color_discrete_map={\n",
    "                      MACD_string:\"#edff47\"\n",
    "                  },\n",
    "                 title=f\"{stonks.stock_symbol} MACD\")\n",
    "    fig.show()\n"
   ]
  },
  {
   "cell_type": "markdown",
   "id": "9e98f2d4",
   "metadata": {},
   "source": [
    "# Setting Up Models"
   ]
  },
  {
   "cell_type": "code",
   "execution_count": 15,
   "id": "39f39a8d",
   "metadata": {},
   "outputs": [],
   "source": [
    "# Predictors\n",
    "predictors = stonks.data_frame.filter(regex='Close_L')\n",
    "# Outcome\n",
    "outcome=stonks.data_frame[\"Close\"]\n",
    "\n",
    "(trainX, testX, trainY, testY) = train_test_split(predictors, \n",
    "                                                  outcome,\n",
    "                                                  random_state=43,\n",
    "                                                  test_size=0.25)\n",
    "scaler = preprocessing.StandardScaler()\n",
    "trainX = scaler.fit_transform(trainX)\n",
    "testX = scaler.transform(testX)"
   ]
  },
  {
   "cell_type": "code",
   "execution_count": 16,
   "id": "b7ed59cd",
   "metadata": {},
   "outputs": [
    {
     "data": {
      "application/vnd.plotly.v1+json": {
       "config": {
        "plotlyServerURL": "https://plot.ly"
       },
       "data": [
        {
         "hovertemplate": "variable=alpha_0.0001<br>L1_Ratio=%{x}<br>value=%{y}<extra></extra>",
         "legendgroup": "alpha_0.0001",
         "line": {
          "color": "#636efa",
          "dash": "solid"
         },
         "marker": {
          "symbol": "circle"
         },
         "mode": "lines",
         "name": "alpha_0.0001",
         "orientation": "v",
         "showlegend": true,
         "type": "scatter",
         "x": [
          0,
          0.1,
          0.2,
          0.30000000000000004,
          0.4,
          0.5,
          0.6000000000000001,
          0.7000000000000001,
          0.8,
          0.9
         ],
         "xaxis": "x",
         "y": [
          0.9267792391714288,
          0.9269407209680948,
          0.9270881344040269,
          0.927228662106218,
          0.9273637938337476,
          0.92749808366809,
          0.9276268690948669,
          0.9277615004622664,
          0.9278968081191422,
          0.9280386898060067
         ],
         "yaxis": "y"
        },
        {
         "hovertemplate": "variable=alpha_0.001<br>L1_Ratio=%{x}<br>value=%{y}<extra></extra>",
         "legendgroup": "alpha_0.001",
         "line": {
          "color": "#EF553B",
          "dash": "solid"
         },
         "marker": {
          "symbol": "circle"
         },
         "mode": "lines",
         "name": "alpha_0.001",
         "orientation": "v",
         "showlegend": true,
         "type": "scatter",
         "x": [
          0,
          0.1,
          0.2,
          0.30000000000000004,
          0.4,
          0.5,
          0.6000000000000001,
          0.7000000000000001,
          0.8,
          0.9
         ],
         "xaxis": "x",
         "y": [
          0.9280350685819935,
          0.9290529806035573,
          0.9306288697664199,
          0.9324243555789827,
          0.9342572070739699,
          0.9360062269789153,
          0.9374231733657181,
          0.938644849072651,
          0.9396646099945999,
          0.9403051832701358
         ],
         "yaxis": "y"
        },
        {
         "hovertemplate": "variable=alpha_0.01<br>L1_Ratio=%{x}<br>value=%{y}<extra></extra>",
         "legendgroup": "alpha_0.01",
         "line": {
          "color": "#00cc96",
          "dash": "solid"
         },
         "marker": {
          "symbol": "circle"
         },
         "mode": "lines",
         "name": "alpha_0.01",
         "orientation": "v",
         "showlegend": true,
         "type": "scatter",
         "x": [
          0,
          0.1,
          0.2,
          0.30000000000000004,
          0.4,
          0.5,
          0.6000000000000001,
          0.7000000000000001,
          0.8,
          0.9
         ],
         "xaxis": "x",
         "y": [
          0.9328402049210819,
          0.9397279205528353,
          0.941537696054147,
          0.9417858223232202,
          0.9418792405323216,
          0.9420894444112218,
          0.9423097462588196,
          0.9425190623934764,
          0.9427048521934459,
          0.9427745833645936
         ],
         "yaxis": "y"
        },
        {
         "hovertemplate": "variable=alpha_0.1<br>L1_Ratio=%{x}<br>value=%{y}<extra></extra>",
         "legendgroup": "alpha_0.1",
         "line": {
          "color": "#ab63fa",
          "dash": "solid"
         },
         "marker": {
          "symbol": "circle"
         },
         "mode": "lines",
         "name": "alpha_0.1",
         "orientation": "v",
         "showlegend": true,
         "type": "scatter",
         "x": [
          0,
          0.1,
          0.2,
          0.30000000000000004,
          0.4,
          0.5,
          0.6000000000000001,
          0.7000000000000001,
          0.8,
          0.9
         ],
         "xaxis": "x",
         "y": [
          0.9192000764385296,
          0.9238399678491988,
          0.9226701210808337,
          0.9197215850047454,
          0.9151227205771922,
          0.9090026707534131,
          0.9006118773245386,
          0.8906105263532528,
          0.8791645600879594,
          0.8675387094594568
         ],
         "yaxis": "y"
        },
        {
         "hovertemplate": "variable=alpha_1<br>L1_Ratio=%{x}<br>value=%{y}<extra></extra>",
         "legendgroup": "alpha_1",
         "line": {
          "color": "#FFA15A",
          "dash": "solid"
         },
         "marker": {
          "symbol": "circle"
         },
         "mode": "lines",
         "name": "alpha_1",
         "orientation": "v",
         "showlegend": true,
         "type": "scatter",
         "x": [
          0,
          0.1,
          0.2,
          0.30000000000000004,
          0.4,
          0.5,
          0.6000000000000001,
          0.7000000000000001,
          0.8,
          0.9
         ],
         "xaxis": "x",
         "y": [
          0.8308131686437819,
          0.715295058243749,
          0.4428433211902603,
          0.07670168091640076,
          -0.02312048279034602,
          -0.02312048279034602,
          -0.02312048279034602,
          -0.02312048279034602,
          -0.02312048279034602,
          -0.02312048279034602
         ],
         "yaxis": "y"
        },
        {
         "hovertemplate": "variable=alpha_10<br>L1_Ratio=%{x}<br>value=%{y}<extra></extra>",
         "legendgroup": "alpha_10",
         "line": {
          "color": "#19d3f3",
          "dash": "solid"
         },
         "marker": {
          "symbol": "circle"
         },
         "mode": "lines",
         "name": "alpha_10",
         "orientation": "v",
         "showlegend": true,
         "type": "scatter",
         "x": [
          0,
          0.1,
          0.2,
          0.30000000000000004,
          0.4,
          0.5,
          0.6000000000000001,
          0.7000000000000001,
          0.8,
          0.9
         ],
         "xaxis": "x",
         "y": [
          0.597141469173866,
          -0.02312048279034602,
          -0.02312048279034602,
          -0.02312048279034602,
          -0.02312048279034602,
          -0.02312048279034602,
          -0.02312048279034602,
          -0.02312048279034602,
          -0.02312048279034602,
          -0.02312048279034602
         ],
         "yaxis": "y"
        },
        {
         "hovertemplate": "variable=alpha_100<br>L1_Ratio=%{x}<br>value=%{y}<extra></extra>",
         "legendgroup": "alpha_100",
         "line": {
          "color": "#FF6692",
          "dash": "solid"
         },
         "marker": {
          "symbol": "circle"
         },
         "mode": "lines",
         "name": "alpha_100",
         "orientation": "v",
         "showlegend": true,
         "type": "scatter",
         "x": [
          0,
          0.1,
          0.2,
          0.30000000000000004,
          0.4,
          0.5,
          0.6000000000000001,
          0.7000000000000001,
          0.8,
          0.9
         ],
         "xaxis": "x",
         "y": [
          0.1870964286565524,
          -0.02312048279034602,
          -0.02312048279034602,
          -0.02312048279034602,
          -0.02312048279034602,
          -0.02312048279034602,
          -0.02312048279034602,
          -0.02312048279034602,
          -0.02312048279034602,
          -0.02312048279034602
         ],
         "yaxis": "y"
        }
       ],
       "layout": {
        "legend": {
         "title": {
          "text": "variable"
         },
         "tracegroupgap": 0
        },
        "template": {
         "data": {
          "bar": [
           {
            "error_x": {
             "color": "#2a3f5f"
            },
            "error_y": {
             "color": "#2a3f5f"
            },
            "marker": {
             "line": {
              "color": "#E5ECF6",
              "width": 0.5
             },
             "pattern": {
              "fillmode": "overlay",
              "size": 10,
              "solidity": 0.2
             }
            },
            "type": "bar"
           }
          ],
          "barpolar": [
           {
            "marker": {
             "line": {
              "color": "#E5ECF6",
              "width": 0.5
             },
             "pattern": {
              "fillmode": "overlay",
              "size": 10,
              "solidity": 0.2
             }
            },
            "type": "barpolar"
           }
          ],
          "carpet": [
           {
            "aaxis": {
             "endlinecolor": "#2a3f5f",
             "gridcolor": "white",
             "linecolor": "white",
             "minorgridcolor": "white",
             "startlinecolor": "#2a3f5f"
            },
            "baxis": {
             "endlinecolor": "#2a3f5f",
             "gridcolor": "white",
             "linecolor": "white",
             "minorgridcolor": "white",
             "startlinecolor": "#2a3f5f"
            },
            "type": "carpet"
           }
          ],
          "choropleth": [
           {
            "colorbar": {
             "outlinewidth": 0,
             "ticks": ""
            },
            "type": "choropleth"
           }
          ],
          "contour": [
           {
            "colorbar": {
             "outlinewidth": 0,
             "ticks": ""
            },
            "colorscale": [
             [
              0,
              "#0d0887"
             ],
             [
              0.1111111111111111,
              "#46039f"
             ],
             [
              0.2222222222222222,
              "#7201a8"
             ],
             [
              0.3333333333333333,
              "#9c179e"
             ],
             [
              0.4444444444444444,
              "#bd3786"
             ],
             [
              0.5555555555555556,
              "#d8576b"
             ],
             [
              0.6666666666666666,
              "#ed7953"
             ],
             [
              0.7777777777777778,
              "#fb9f3a"
             ],
             [
              0.8888888888888888,
              "#fdca26"
             ],
             [
              1,
              "#f0f921"
             ]
            ],
            "type": "contour"
           }
          ],
          "contourcarpet": [
           {
            "colorbar": {
             "outlinewidth": 0,
             "ticks": ""
            },
            "type": "contourcarpet"
           }
          ],
          "heatmap": [
           {
            "colorbar": {
             "outlinewidth": 0,
             "ticks": ""
            },
            "colorscale": [
             [
              0,
              "#0d0887"
             ],
             [
              0.1111111111111111,
              "#46039f"
             ],
             [
              0.2222222222222222,
              "#7201a8"
             ],
             [
              0.3333333333333333,
              "#9c179e"
             ],
             [
              0.4444444444444444,
              "#bd3786"
             ],
             [
              0.5555555555555556,
              "#d8576b"
             ],
             [
              0.6666666666666666,
              "#ed7953"
             ],
             [
              0.7777777777777778,
              "#fb9f3a"
             ],
             [
              0.8888888888888888,
              "#fdca26"
             ],
             [
              1,
              "#f0f921"
             ]
            ],
            "type": "heatmap"
           }
          ],
          "heatmapgl": [
           {
            "colorbar": {
             "outlinewidth": 0,
             "ticks": ""
            },
            "colorscale": [
             [
              0,
              "#0d0887"
             ],
             [
              0.1111111111111111,
              "#46039f"
             ],
             [
              0.2222222222222222,
              "#7201a8"
             ],
             [
              0.3333333333333333,
              "#9c179e"
             ],
             [
              0.4444444444444444,
              "#bd3786"
             ],
             [
              0.5555555555555556,
              "#d8576b"
             ],
             [
              0.6666666666666666,
              "#ed7953"
             ],
             [
              0.7777777777777778,
              "#fb9f3a"
             ],
             [
              0.8888888888888888,
              "#fdca26"
             ],
             [
              1,
              "#f0f921"
             ]
            ],
            "type": "heatmapgl"
           }
          ],
          "histogram": [
           {
            "marker": {
             "pattern": {
              "fillmode": "overlay",
              "size": 10,
              "solidity": 0.2
             }
            },
            "type": "histogram"
           }
          ],
          "histogram2d": [
           {
            "colorbar": {
             "outlinewidth": 0,
             "ticks": ""
            },
            "colorscale": [
             [
              0,
              "#0d0887"
             ],
             [
              0.1111111111111111,
              "#46039f"
             ],
             [
              0.2222222222222222,
              "#7201a8"
             ],
             [
              0.3333333333333333,
              "#9c179e"
             ],
             [
              0.4444444444444444,
              "#bd3786"
             ],
             [
              0.5555555555555556,
              "#d8576b"
             ],
             [
              0.6666666666666666,
              "#ed7953"
             ],
             [
              0.7777777777777778,
              "#fb9f3a"
             ],
             [
              0.8888888888888888,
              "#fdca26"
             ],
             [
              1,
              "#f0f921"
             ]
            ],
            "type": "histogram2d"
           }
          ],
          "histogram2dcontour": [
           {
            "colorbar": {
             "outlinewidth": 0,
             "ticks": ""
            },
            "colorscale": [
             [
              0,
              "#0d0887"
             ],
             [
              0.1111111111111111,
              "#46039f"
             ],
             [
              0.2222222222222222,
              "#7201a8"
             ],
             [
              0.3333333333333333,
              "#9c179e"
             ],
             [
              0.4444444444444444,
              "#bd3786"
             ],
             [
              0.5555555555555556,
              "#d8576b"
             ],
             [
              0.6666666666666666,
              "#ed7953"
             ],
             [
              0.7777777777777778,
              "#fb9f3a"
             ],
             [
              0.8888888888888888,
              "#fdca26"
             ],
             [
              1,
              "#f0f921"
             ]
            ],
            "type": "histogram2dcontour"
           }
          ],
          "mesh3d": [
           {
            "colorbar": {
             "outlinewidth": 0,
             "ticks": ""
            },
            "type": "mesh3d"
           }
          ],
          "parcoords": [
           {
            "line": {
             "colorbar": {
              "outlinewidth": 0,
              "ticks": ""
             }
            },
            "type": "parcoords"
           }
          ],
          "pie": [
           {
            "automargin": true,
            "type": "pie"
           }
          ],
          "scatter": [
           {
            "fillpattern": {
             "fillmode": "overlay",
             "size": 10,
             "solidity": 0.2
            },
            "type": "scatter"
           }
          ],
          "scatter3d": [
           {
            "line": {
             "colorbar": {
              "outlinewidth": 0,
              "ticks": ""
             }
            },
            "marker": {
             "colorbar": {
              "outlinewidth": 0,
              "ticks": ""
             }
            },
            "type": "scatter3d"
           }
          ],
          "scattercarpet": [
           {
            "marker": {
             "colorbar": {
              "outlinewidth": 0,
              "ticks": ""
             }
            },
            "type": "scattercarpet"
           }
          ],
          "scattergeo": [
           {
            "marker": {
             "colorbar": {
              "outlinewidth": 0,
              "ticks": ""
             }
            },
            "type": "scattergeo"
           }
          ],
          "scattergl": [
           {
            "marker": {
             "colorbar": {
              "outlinewidth": 0,
              "ticks": ""
             }
            },
            "type": "scattergl"
           }
          ],
          "scattermapbox": [
           {
            "marker": {
             "colorbar": {
              "outlinewidth": 0,
              "ticks": ""
             }
            },
            "type": "scattermapbox"
           }
          ],
          "scatterpolar": [
           {
            "marker": {
             "colorbar": {
              "outlinewidth": 0,
              "ticks": ""
             }
            },
            "type": "scatterpolar"
           }
          ],
          "scatterpolargl": [
           {
            "marker": {
             "colorbar": {
              "outlinewidth": 0,
              "ticks": ""
             }
            },
            "type": "scatterpolargl"
           }
          ],
          "scatterternary": [
           {
            "marker": {
             "colorbar": {
              "outlinewidth": 0,
              "ticks": ""
             }
            },
            "type": "scatterternary"
           }
          ],
          "surface": [
           {
            "colorbar": {
             "outlinewidth": 0,
             "ticks": ""
            },
            "colorscale": [
             [
              0,
              "#0d0887"
             ],
             [
              0.1111111111111111,
              "#46039f"
             ],
             [
              0.2222222222222222,
              "#7201a8"
             ],
             [
              0.3333333333333333,
              "#9c179e"
             ],
             [
              0.4444444444444444,
              "#bd3786"
             ],
             [
              0.5555555555555556,
              "#d8576b"
             ],
             [
              0.6666666666666666,
              "#ed7953"
             ],
             [
              0.7777777777777778,
              "#fb9f3a"
             ],
             [
              0.8888888888888888,
              "#fdca26"
             ],
             [
              1,
              "#f0f921"
             ]
            ],
            "type": "surface"
           }
          ],
          "table": [
           {
            "cells": {
             "fill": {
              "color": "#EBF0F8"
             },
             "line": {
              "color": "white"
             }
            },
            "header": {
             "fill": {
              "color": "#C8D4E3"
             },
             "line": {
              "color": "white"
             }
            },
            "type": "table"
           }
          ]
         },
         "layout": {
          "annotationdefaults": {
           "arrowcolor": "#2a3f5f",
           "arrowhead": 0,
           "arrowwidth": 1
          },
          "autotypenumbers": "strict",
          "coloraxis": {
           "colorbar": {
            "outlinewidth": 0,
            "ticks": ""
           }
          },
          "colorscale": {
           "diverging": [
            [
             0,
             "#8e0152"
            ],
            [
             0.1,
             "#c51b7d"
            ],
            [
             0.2,
             "#de77ae"
            ],
            [
             0.3,
             "#f1b6da"
            ],
            [
             0.4,
             "#fde0ef"
            ],
            [
             0.5,
             "#f7f7f7"
            ],
            [
             0.6,
             "#e6f5d0"
            ],
            [
             0.7,
             "#b8e186"
            ],
            [
             0.8,
             "#7fbc41"
            ],
            [
             0.9,
             "#4d9221"
            ],
            [
             1,
             "#276419"
            ]
           ],
           "sequential": [
            [
             0,
             "#0d0887"
            ],
            [
             0.1111111111111111,
             "#46039f"
            ],
            [
             0.2222222222222222,
             "#7201a8"
            ],
            [
             0.3333333333333333,
             "#9c179e"
            ],
            [
             0.4444444444444444,
             "#bd3786"
            ],
            [
             0.5555555555555556,
             "#d8576b"
            ],
            [
             0.6666666666666666,
             "#ed7953"
            ],
            [
             0.7777777777777778,
             "#fb9f3a"
            ],
            [
             0.8888888888888888,
             "#fdca26"
            ],
            [
             1,
             "#f0f921"
            ]
           ],
           "sequentialminus": [
            [
             0,
             "#0d0887"
            ],
            [
             0.1111111111111111,
             "#46039f"
            ],
            [
             0.2222222222222222,
             "#7201a8"
            ],
            [
             0.3333333333333333,
             "#9c179e"
            ],
            [
             0.4444444444444444,
             "#bd3786"
            ],
            [
             0.5555555555555556,
             "#d8576b"
            ],
            [
             0.6666666666666666,
             "#ed7953"
            ],
            [
             0.7777777777777778,
             "#fb9f3a"
            ],
            [
             0.8888888888888888,
             "#fdca26"
            ],
            [
             1,
             "#f0f921"
            ]
           ]
          },
          "colorway": [
           "#636efa",
           "#EF553B",
           "#00cc96",
           "#ab63fa",
           "#FFA15A",
           "#19d3f3",
           "#FF6692",
           "#B6E880",
           "#FF97FF",
           "#FECB52"
          ],
          "font": {
           "color": "#2a3f5f"
          },
          "geo": {
           "bgcolor": "white",
           "lakecolor": "white",
           "landcolor": "#E5ECF6",
           "showlakes": true,
           "showland": true,
           "subunitcolor": "white"
          },
          "hoverlabel": {
           "align": "left"
          },
          "hovermode": "closest",
          "mapbox": {
           "style": "light"
          },
          "paper_bgcolor": "white",
          "plot_bgcolor": "#E5ECF6",
          "polar": {
           "angularaxis": {
            "gridcolor": "white",
            "linecolor": "white",
            "ticks": ""
           },
           "bgcolor": "#E5ECF6",
           "radialaxis": {
            "gridcolor": "white",
            "linecolor": "white",
            "ticks": ""
           }
          },
          "scene": {
           "xaxis": {
            "backgroundcolor": "#E5ECF6",
            "gridcolor": "white",
            "gridwidth": 2,
            "linecolor": "white",
            "showbackground": true,
            "ticks": "",
            "zerolinecolor": "white"
           },
           "yaxis": {
            "backgroundcolor": "#E5ECF6",
            "gridcolor": "white",
            "gridwidth": 2,
            "linecolor": "white",
            "showbackground": true,
            "ticks": "",
            "zerolinecolor": "white"
           },
           "zaxis": {
            "backgroundcolor": "#E5ECF6",
            "gridcolor": "white",
            "gridwidth": 2,
            "linecolor": "white",
            "showbackground": true,
            "ticks": "",
            "zerolinecolor": "white"
           }
          },
          "shapedefaults": {
           "line": {
            "color": "#2a3f5f"
           }
          },
          "ternary": {
           "aaxis": {
            "gridcolor": "white",
            "linecolor": "white",
            "ticks": ""
           },
           "baxis": {
            "gridcolor": "white",
            "linecolor": "white",
            "ticks": ""
           },
           "bgcolor": "#E5ECF6",
           "caxis": {
            "gridcolor": "white",
            "linecolor": "white",
            "ticks": ""
           }
          },
          "title": {
           "x": 0.05
          },
          "xaxis": {
           "automargin": true,
           "gridcolor": "white",
           "linecolor": "white",
           "ticks": "",
           "title": {
            "standoff": 15
           },
           "zerolinecolor": "white",
           "zerolinewidth": 2
          },
          "yaxis": {
           "automargin": true,
           "gridcolor": "white",
           "linecolor": "white",
           "ticks": "",
           "title": {
            "standoff": 15
           },
           "zerolinecolor": "white",
           "zerolinewidth": 2
          }
         }
        },
        "title": {
         "text": "Elastic Net Performance"
        },
        "xaxis": {
         "anchor": "y",
         "domain": [
          0,
          1
         ],
         "title": {
          "text": "L1_Ratio"
         }
        },
        "yaxis": {
         "anchor": "x",
         "domain": [
          0,
          1
         ],
         "title": {
          "text": "R^2 value"
         }
        }
       }
      },
      "text/html": [
       "<div>                            <div id=\"dbd21b01-7337-448b-800b-328d58652cda\" class=\"plotly-graph-div\" style=\"height:525px; width:100%;\"></div>            <script type=\"text/javascript\">                require([\"plotly\"], function(Plotly) {                    window.PLOTLYENV=window.PLOTLYENV || {};                                    if (document.getElementById(\"dbd21b01-7337-448b-800b-328d58652cda\")) {                    Plotly.newPlot(                        \"dbd21b01-7337-448b-800b-328d58652cda\",                        [{\"hovertemplate\":\"variable=alpha_0.0001<br>L1_Ratio=%{x}<br>value=%{y}<extra></extra>\",\"legendgroup\":\"alpha_0.0001\",\"line\":{\"color\":\"#636efa\",\"dash\":\"solid\"},\"marker\":{\"symbol\":\"circle\"},\"mode\":\"lines\",\"name\":\"alpha_0.0001\",\"orientation\":\"v\",\"showlegend\":true,\"x\":[0.0,0.1,0.2,0.30000000000000004,0.4,0.5,0.6000000000000001,0.7000000000000001,0.8,0.9],\"xaxis\":\"x\",\"y\":[0.9267792391714288,0.9269407209680948,0.9270881344040269,0.927228662106218,0.9273637938337476,0.92749808366809,0.9276268690948669,0.9277615004622664,0.9278968081191422,0.9280386898060067],\"yaxis\":\"y\",\"type\":\"scatter\"},{\"hovertemplate\":\"variable=alpha_0.001<br>L1_Ratio=%{x}<br>value=%{y}<extra></extra>\",\"legendgroup\":\"alpha_0.001\",\"line\":{\"color\":\"#EF553B\",\"dash\":\"solid\"},\"marker\":{\"symbol\":\"circle\"},\"mode\":\"lines\",\"name\":\"alpha_0.001\",\"orientation\":\"v\",\"showlegend\":true,\"x\":[0.0,0.1,0.2,0.30000000000000004,0.4,0.5,0.6000000000000001,0.7000000000000001,0.8,0.9],\"xaxis\":\"x\",\"y\":[0.9280350685819935,0.9290529806035573,0.9306288697664199,0.9324243555789827,0.9342572070739699,0.9360062269789153,0.9374231733657181,0.938644849072651,0.9396646099945999,0.9403051832701358],\"yaxis\":\"y\",\"type\":\"scatter\"},{\"hovertemplate\":\"variable=alpha_0.01<br>L1_Ratio=%{x}<br>value=%{y}<extra></extra>\",\"legendgroup\":\"alpha_0.01\",\"line\":{\"color\":\"#00cc96\",\"dash\":\"solid\"},\"marker\":{\"symbol\":\"circle\"},\"mode\":\"lines\",\"name\":\"alpha_0.01\",\"orientation\":\"v\",\"showlegend\":true,\"x\":[0.0,0.1,0.2,0.30000000000000004,0.4,0.5,0.6000000000000001,0.7000000000000001,0.8,0.9],\"xaxis\":\"x\",\"y\":[0.9328402049210819,0.9397279205528353,0.941537696054147,0.9417858223232202,0.9418792405323216,0.9420894444112218,0.9423097462588196,0.9425190623934764,0.9427048521934459,0.9427745833645936],\"yaxis\":\"y\",\"type\":\"scatter\"},{\"hovertemplate\":\"variable=alpha_0.1<br>L1_Ratio=%{x}<br>value=%{y}<extra></extra>\",\"legendgroup\":\"alpha_0.1\",\"line\":{\"color\":\"#ab63fa\",\"dash\":\"solid\"},\"marker\":{\"symbol\":\"circle\"},\"mode\":\"lines\",\"name\":\"alpha_0.1\",\"orientation\":\"v\",\"showlegend\":true,\"x\":[0.0,0.1,0.2,0.30000000000000004,0.4,0.5,0.6000000000000001,0.7000000000000001,0.8,0.9],\"xaxis\":\"x\",\"y\":[0.9192000764385296,0.9238399678491988,0.9226701210808337,0.9197215850047454,0.9151227205771922,0.9090026707534131,0.9006118773245386,0.8906105263532528,0.8791645600879594,0.8675387094594568],\"yaxis\":\"y\",\"type\":\"scatter\"},{\"hovertemplate\":\"variable=alpha_1<br>L1_Ratio=%{x}<br>value=%{y}<extra></extra>\",\"legendgroup\":\"alpha_1\",\"line\":{\"color\":\"#FFA15A\",\"dash\":\"solid\"},\"marker\":{\"symbol\":\"circle\"},\"mode\":\"lines\",\"name\":\"alpha_1\",\"orientation\":\"v\",\"showlegend\":true,\"x\":[0.0,0.1,0.2,0.30000000000000004,0.4,0.5,0.6000000000000001,0.7000000000000001,0.8,0.9],\"xaxis\":\"x\",\"y\":[0.8308131686437819,0.715295058243749,0.4428433211902603,0.07670168091640076,-0.02312048279034602,-0.02312048279034602,-0.02312048279034602,-0.02312048279034602,-0.02312048279034602,-0.02312048279034602],\"yaxis\":\"y\",\"type\":\"scatter\"},{\"hovertemplate\":\"variable=alpha_10<br>L1_Ratio=%{x}<br>value=%{y}<extra></extra>\",\"legendgroup\":\"alpha_10\",\"line\":{\"color\":\"#19d3f3\",\"dash\":\"solid\"},\"marker\":{\"symbol\":\"circle\"},\"mode\":\"lines\",\"name\":\"alpha_10\",\"orientation\":\"v\",\"showlegend\":true,\"x\":[0.0,0.1,0.2,0.30000000000000004,0.4,0.5,0.6000000000000001,0.7000000000000001,0.8,0.9],\"xaxis\":\"x\",\"y\":[0.597141469173866,-0.02312048279034602,-0.02312048279034602,-0.02312048279034602,-0.02312048279034602,-0.02312048279034602,-0.02312048279034602,-0.02312048279034602,-0.02312048279034602,-0.02312048279034602],\"yaxis\":\"y\",\"type\":\"scatter\"},{\"hovertemplate\":\"variable=alpha_100<br>L1_Ratio=%{x}<br>value=%{y}<extra></extra>\",\"legendgroup\":\"alpha_100\",\"line\":{\"color\":\"#FF6692\",\"dash\":\"solid\"},\"marker\":{\"symbol\":\"circle\"},\"mode\":\"lines\",\"name\":\"alpha_100\",\"orientation\":\"v\",\"showlegend\":true,\"x\":[0.0,0.1,0.2,0.30000000000000004,0.4,0.5,0.6000000000000001,0.7000000000000001,0.8,0.9],\"xaxis\":\"x\",\"y\":[0.1870964286565524,-0.02312048279034602,-0.02312048279034602,-0.02312048279034602,-0.02312048279034602,-0.02312048279034602,-0.02312048279034602,-0.02312048279034602,-0.02312048279034602,-0.02312048279034602],\"yaxis\":\"y\",\"type\":\"scatter\"}],                        {\"template\":{\"data\":{\"histogram2dcontour\":[{\"type\":\"histogram2dcontour\",\"colorbar\":{\"outlinewidth\":0,\"ticks\":\"\"},\"colorscale\":[[0.0,\"#0d0887\"],[0.1111111111111111,\"#46039f\"],[0.2222222222222222,\"#7201a8\"],[0.3333333333333333,\"#9c179e\"],[0.4444444444444444,\"#bd3786\"],[0.5555555555555556,\"#d8576b\"],[0.6666666666666666,\"#ed7953\"],[0.7777777777777778,\"#fb9f3a\"],[0.8888888888888888,\"#fdca26\"],[1.0,\"#f0f921\"]]}],\"choropleth\":[{\"type\":\"choropleth\",\"colorbar\":{\"outlinewidth\":0,\"ticks\":\"\"}}],\"histogram2d\":[{\"type\":\"histogram2d\",\"colorbar\":{\"outlinewidth\":0,\"ticks\":\"\"},\"colorscale\":[[0.0,\"#0d0887\"],[0.1111111111111111,\"#46039f\"],[0.2222222222222222,\"#7201a8\"],[0.3333333333333333,\"#9c179e\"],[0.4444444444444444,\"#bd3786\"],[0.5555555555555556,\"#d8576b\"],[0.6666666666666666,\"#ed7953\"],[0.7777777777777778,\"#fb9f3a\"],[0.8888888888888888,\"#fdca26\"],[1.0,\"#f0f921\"]]}],\"heatmap\":[{\"type\":\"heatmap\",\"colorbar\":{\"outlinewidth\":0,\"ticks\":\"\"},\"colorscale\":[[0.0,\"#0d0887\"],[0.1111111111111111,\"#46039f\"],[0.2222222222222222,\"#7201a8\"],[0.3333333333333333,\"#9c179e\"],[0.4444444444444444,\"#bd3786\"],[0.5555555555555556,\"#d8576b\"],[0.6666666666666666,\"#ed7953\"],[0.7777777777777778,\"#fb9f3a\"],[0.8888888888888888,\"#fdca26\"],[1.0,\"#f0f921\"]]}],\"heatmapgl\":[{\"type\":\"heatmapgl\",\"colorbar\":{\"outlinewidth\":0,\"ticks\":\"\"},\"colorscale\":[[0.0,\"#0d0887\"],[0.1111111111111111,\"#46039f\"],[0.2222222222222222,\"#7201a8\"],[0.3333333333333333,\"#9c179e\"],[0.4444444444444444,\"#bd3786\"],[0.5555555555555556,\"#d8576b\"],[0.6666666666666666,\"#ed7953\"],[0.7777777777777778,\"#fb9f3a\"],[0.8888888888888888,\"#fdca26\"],[1.0,\"#f0f921\"]]}],\"contourcarpet\":[{\"type\":\"contourcarpet\",\"colorbar\":{\"outlinewidth\":0,\"ticks\":\"\"}}],\"contour\":[{\"type\":\"contour\",\"colorbar\":{\"outlinewidth\":0,\"ticks\":\"\"},\"colorscale\":[[0.0,\"#0d0887\"],[0.1111111111111111,\"#46039f\"],[0.2222222222222222,\"#7201a8\"],[0.3333333333333333,\"#9c179e\"],[0.4444444444444444,\"#bd3786\"],[0.5555555555555556,\"#d8576b\"],[0.6666666666666666,\"#ed7953\"],[0.7777777777777778,\"#fb9f3a\"],[0.8888888888888888,\"#fdca26\"],[1.0,\"#f0f921\"]]}],\"surface\":[{\"type\":\"surface\",\"colorbar\":{\"outlinewidth\":0,\"ticks\":\"\"},\"colorscale\":[[0.0,\"#0d0887\"],[0.1111111111111111,\"#46039f\"],[0.2222222222222222,\"#7201a8\"],[0.3333333333333333,\"#9c179e\"],[0.4444444444444444,\"#bd3786\"],[0.5555555555555556,\"#d8576b\"],[0.6666666666666666,\"#ed7953\"],[0.7777777777777778,\"#fb9f3a\"],[0.8888888888888888,\"#fdca26\"],[1.0,\"#f0f921\"]]}],\"mesh3d\":[{\"type\":\"mesh3d\",\"colorbar\":{\"outlinewidth\":0,\"ticks\":\"\"}}],\"scatter\":[{\"fillpattern\":{\"fillmode\":\"overlay\",\"size\":10,\"solidity\":0.2},\"type\":\"scatter\"}],\"parcoords\":[{\"type\":\"parcoords\",\"line\":{\"colorbar\":{\"outlinewidth\":0,\"ticks\":\"\"}}}],\"scatterpolargl\":[{\"type\":\"scatterpolargl\",\"marker\":{\"colorbar\":{\"outlinewidth\":0,\"ticks\":\"\"}}}],\"bar\":[{\"error_x\":{\"color\":\"#2a3f5f\"},\"error_y\":{\"color\":\"#2a3f5f\"},\"marker\":{\"line\":{\"color\":\"#E5ECF6\",\"width\":0.5},\"pattern\":{\"fillmode\":\"overlay\",\"size\":10,\"solidity\":0.2}},\"type\":\"bar\"}],\"scattergeo\":[{\"type\":\"scattergeo\",\"marker\":{\"colorbar\":{\"outlinewidth\":0,\"ticks\":\"\"}}}],\"scatterpolar\":[{\"type\":\"scatterpolar\",\"marker\":{\"colorbar\":{\"outlinewidth\":0,\"ticks\":\"\"}}}],\"histogram\":[{\"marker\":{\"pattern\":{\"fillmode\":\"overlay\",\"size\":10,\"solidity\":0.2}},\"type\":\"histogram\"}],\"scattergl\":[{\"type\":\"scattergl\",\"marker\":{\"colorbar\":{\"outlinewidth\":0,\"ticks\":\"\"}}}],\"scatter3d\":[{\"type\":\"scatter3d\",\"line\":{\"colorbar\":{\"outlinewidth\":0,\"ticks\":\"\"}},\"marker\":{\"colorbar\":{\"outlinewidth\":0,\"ticks\":\"\"}}}],\"scattermapbox\":[{\"type\":\"scattermapbox\",\"marker\":{\"colorbar\":{\"outlinewidth\":0,\"ticks\":\"\"}}}],\"scatterternary\":[{\"type\":\"scatterternary\",\"marker\":{\"colorbar\":{\"outlinewidth\":0,\"ticks\":\"\"}}}],\"scattercarpet\":[{\"type\":\"scattercarpet\",\"marker\":{\"colorbar\":{\"outlinewidth\":0,\"ticks\":\"\"}}}],\"carpet\":[{\"aaxis\":{\"endlinecolor\":\"#2a3f5f\",\"gridcolor\":\"white\",\"linecolor\":\"white\",\"minorgridcolor\":\"white\",\"startlinecolor\":\"#2a3f5f\"},\"baxis\":{\"endlinecolor\":\"#2a3f5f\",\"gridcolor\":\"white\",\"linecolor\":\"white\",\"minorgridcolor\":\"white\",\"startlinecolor\":\"#2a3f5f\"},\"type\":\"carpet\"}],\"table\":[{\"cells\":{\"fill\":{\"color\":\"#EBF0F8\"},\"line\":{\"color\":\"white\"}},\"header\":{\"fill\":{\"color\":\"#C8D4E3\"},\"line\":{\"color\":\"white\"}},\"type\":\"table\"}],\"barpolar\":[{\"marker\":{\"line\":{\"color\":\"#E5ECF6\",\"width\":0.5},\"pattern\":{\"fillmode\":\"overlay\",\"size\":10,\"solidity\":0.2}},\"type\":\"barpolar\"}],\"pie\":[{\"automargin\":true,\"type\":\"pie\"}]},\"layout\":{\"autotypenumbers\":\"strict\",\"colorway\":[\"#636efa\",\"#EF553B\",\"#00cc96\",\"#ab63fa\",\"#FFA15A\",\"#19d3f3\",\"#FF6692\",\"#B6E880\",\"#FF97FF\",\"#FECB52\"],\"font\":{\"color\":\"#2a3f5f\"},\"hovermode\":\"closest\",\"hoverlabel\":{\"align\":\"left\"},\"paper_bgcolor\":\"white\",\"plot_bgcolor\":\"#E5ECF6\",\"polar\":{\"bgcolor\":\"#E5ECF6\",\"angularaxis\":{\"gridcolor\":\"white\",\"linecolor\":\"white\",\"ticks\":\"\"},\"radialaxis\":{\"gridcolor\":\"white\",\"linecolor\":\"white\",\"ticks\":\"\"}},\"ternary\":{\"bgcolor\":\"#E5ECF6\",\"aaxis\":{\"gridcolor\":\"white\",\"linecolor\":\"white\",\"ticks\":\"\"},\"baxis\":{\"gridcolor\":\"white\",\"linecolor\":\"white\",\"ticks\":\"\"},\"caxis\":{\"gridcolor\":\"white\",\"linecolor\":\"white\",\"ticks\":\"\"}},\"coloraxis\":{\"colorbar\":{\"outlinewidth\":0,\"ticks\":\"\"}},\"colorscale\":{\"sequential\":[[0.0,\"#0d0887\"],[0.1111111111111111,\"#46039f\"],[0.2222222222222222,\"#7201a8\"],[0.3333333333333333,\"#9c179e\"],[0.4444444444444444,\"#bd3786\"],[0.5555555555555556,\"#d8576b\"],[0.6666666666666666,\"#ed7953\"],[0.7777777777777778,\"#fb9f3a\"],[0.8888888888888888,\"#fdca26\"],[1.0,\"#f0f921\"]],\"sequentialminus\":[[0.0,\"#0d0887\"],[0.1111111111111111,\"#46039f\"],[0.2222222222222222,\"#7201a8\"],[0.3333333333333333,\"#9c179e\"],[0.4444444444444444,\"#bd3786\"],[0.5555555555555556,\"#d8576b\"],[0.6666666666666666,\"#ed7953\"],[0.7777777777777778,\"#fb9f3a\"],[0.8888888888888888,\"#fdca26\"],[1.0,\"#f0f921\"]],\"diverging\":[[0,\"#8e0152\"],[0.1,\"#c51b7d\"],[0.2,\"#de77ae\"],[0.3,\"#f1b6da\"],[0.4,\"#fde0ef\"],[0.5,\"#f7f7f7\"],[0.6,\"#e6f5d0\"],[0.7,\"#b8e186\"],[0.8,\"#7fbc41\"],[0.9,\"#4d9221\"],[1,\"#276419\"]]},\"xaxis\":{\"gridcolor\":\"white\",\"linecolor\":\"white\",\"ticks\":\"\",\"title\":{\"standoff\":15},\"zerolinecolor\":\"white\",\"automargin\":true,\"zerolinewidth\":2},\"yaxis\":{\"gridcolor\":\"white\",\"linecolor\":\"white\",\"ticks\":\"\",\"title\":{\"standoff\":15},\"zerolinecolor\":\"white\",\"automargin\":true,\"zerolinewidth\":2},\"scene\":{\"xaxis\":{\"backgroundcolor\":\"#E5ECF6\",\"gridcolor\":\"white\",\"linecolor\":\"white\",\"showbackground\":true,\"ticks\":\"\",\"zerolinecolor\":\"white\",\"gridwidth\":2},\"yaxis\":{\"backgroundcolor\":\"#E5ECF6\",\"gridcolor\":\"white\",\"linecolor\":\"white\",\"showbackground\":true,\"ticks\":\"\",\"zerolinecolor\":\"white\",\"gridwidth\":2},\"zaxis\":{\"backgroundcolor\":\"#E5ECF6\",\"gridcolor\":\"white\",\"linecolor\":\"white\",\"showbackground\":true,\"ticks\":\"\",\"zerolinecolor\":\"white\",\"gridwidth\":2}},\"shapedefaults\":{\"line\":{\"color\":\"#2a3f5f\"}},\"annotationdefaults\":{\"arrowcolor\":\"#2a3f5f\",\"arrowhead\":0,\"arrowwidth\":1},\"geo\":{\"bgcolor\":\"white\",\"landcolor\":\"#E5ECF6\",\"subunitcolor\":\"white\",\"showland\":true,\"showlakes\":true,\"lakecolor\":\"white\"},\"title\":{\"x\":0.05},\"mapbox\":{\"style\":\"light\"}}},\"xaxis\":{\"anchor\":\"y\",\"domain\":[0.0,1.0],\"title\":{\"text\":\"L1_Ratio\"}},\"yaxis\":{\"anchor\":\"x\",\"domain\":[0.0,1.0],\"title\":{\"text\":\"R^2 value\"}},\"legend\":{\"title\":{\"text\":\"variable\"},\"tracegroupgap\":0},\"title\":{\"text\":\"Elastic Net Performance\"}},                        {\"responsive\": true}                    ).then(function(){\n",
       "                            \n",
       "var gd = document.getElementById('dbd21b01-7337-448b-800b-328d58652cda');\n",
       "var x = new MutationObserver(function (mutations, observer) {{\n",
       "        var display = window.getComputedStyle(gd).display;\n",
       "        if (!display || display === 'none') {{\n",
       "            console.log([gd, 'removed!']);\n",
       "            Plotly.purge(gd);\n",
       "            observer.disconnect();\n",
       "        }}\n",
       "}});\n",
       "\n",
       "// Listen for the removal of the full notebook cells\n",
       "var notebookContainer = gd.closest('#notebook-container');\n",
       "if (notebookContainer) {{\n",
       "    x.observe(notebookContainer, {childList: true});\n",
       "}}\n",
       "\n",
       "// Listen for the clearing of the current output cell\n",
       "var outputEl = gd.closest('.output');\n",
       "if (outputEl) {{\n",
       "    x.observe(outputEl, {childList: true});\n",
       "}}\n",
       "\n",
       "                        })                };                });            </script>        </div>"
      ]
     },
     "metadata": {},
     "output_type": "display_data"
    }
   ],
   "source": [
    "alphas = [0.0001, 0.001, 0.01, 0.1, 1, 10, 100]\n",
    "l1_ratios = np.arange(0.0, 1.0, 0.1)\n",
    "\n",
    "eNet = ElasticNet()\n",
    "\n",
    "with warnings.catch_warnings():\n",
    "    warnings.simplefilter(\"ignore\")\n",
    "    grid = GridSearchCV(eNet, {\"alpha\": alphas,\n",
    "                               \"l1_ratio\": l1_ratios},\n",
    "                        scoring='r2', cv=10)\n",
    "    grid.fit(trainX, trainY)\n",
    "    \n",
    "# predY = grid.predict(testX)\n",
    "\n",
    "\n",
    "scores_mean = grid.cv_results_['mean_test_score'].reshape(len(alphas),\n",
    "                                                          len(l1_ratios))\n",
    "\n",
    "\n",
    "elastic_net_performance = pd.DataFrame({\n",
    "    \"L1_Ratio\" : l1_ratios\n",
    "})\n",
    "\n",
    "for idx, val in enumerate(alphas):\n",
    "    alpha_str = \"alpha_\" + str(val)\n",
    "    elastic_net_performance[alpha_str] = scores_mean[idx,:]\n",
    "    \n",
    "fig = px.line(elastic_net_performance, x=\"L1_Ratio\",\n",
    "                  y=[col for col in elastic_net_performance.columns if 'alpha' in col],\n",
    "                 title=\"Elastic Net Performance\").update_layout(\n",
    "    yaxis_title=\"R^2 value\"\n",
    ")\n",
    "fig.show()\n"
   ]
  },
  {
   "cell_type": "code",
   "execution_count": null,
   "id": "f2fa599c",
   "metadata": {},
   "outputs": [],
   "source": []
  }
 ],
 "metadata": {
  "kernelspec": {
   "display_name": "Python 3 (ipykernel)",
   "language": "python",
   "name": "python3"
  },
  "language_info": {
   "codemirror_mode": {
    "name": "ipython",
    "version": 3
   },
   "file_extension": ".py",
   "mimetype": "text/x-python",
   "name": "python",
   "nbconvert_exporter": "python",
   "pygments_lexer": "ipython3",
   "version": "3.10.7"
  }
 },
 "nbformat": 4,
 "nbformat_minor": 5
}
